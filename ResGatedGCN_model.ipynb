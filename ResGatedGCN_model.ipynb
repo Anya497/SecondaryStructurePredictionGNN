{
 "cells": [
  {
   "cell_type": "code",
   "execution_count": 1,
   "id": "27f466d3",
   "metadata": {},
   "outputs": [
    {
     "name": "stderr",
     "output_type": "stream",
     "text": [
      "/home/vdshk/SecondaryStructurePredictionGNN/env/lib/python3.9/site-packages/tqdm/auto.py:21: TqdmWarning: IProgress not found. Please update jupyter and ipywidgets. See https://ipywidgets.readthedocs.io/en/stable/user_install.html\n",
      "  from .autonotebook import tqdm as notebook_tqdm\n"
     ]
    }
   ],
   "source": [
    "import os.path as osp\n",
    "from tqdm.auto import tqdm\n",
    "import numpy as np\n",
    "import wandb\n",
    "\n",
    "import torch\n",
    "from PIL import Image\n",
    "import torchvision.transforms as T\n",
    "from torchvision.utils import save_image\n",
    "\n",
    "import torch.nn.functional as F\n",
    "# from ogb.nodeproppred import Evaluator, PygNodePropPredDataset\n",
    "from torch.nn import LayerNorm, Linear, ReLU, Tanh\n",
    "\n",
    "import torch_geometric.transforms as T\n",
    "from torch_geometric.datasets import Planetoid\n",
    "from torch_geometric.nn import GCNConv, GatedGraphConv, GCN\n",
    "from torch_geometric.nn import DeepGCNLayer, GENConv, MessageNorm\n",
    "from torch_geometric.utils import negative_sampling, to_dense_adj\n",
    "from torch_geometric.loader import DataLoader\n",
    "\n",
    "from dataset_processing import RNADataset\n"
   ]
  },
  {
   "cell_type": "code",
   "execution_count": 2,
   "id": "4a077c77",
   "metadata": {},
   "outputs": [],
   "source": [
    "dataset = RNADataset(root=\"./data/\")\n",
    "dataset = dataset.shuffle()\n",
    "train_data, val_data, test_data = dataset[0:655], dataset[655:873], dataset[873:]\n",
    "bs = 4\n",
    "\n",
    "train_dataloader = DataLoader(train_data, batch_size=bs, shuffle=False)\n",
    "val_dataloader = DataLoader(val_data, batch_size=1, shuffle=False)\n"
   ]
  },
  {
   "cell_type": "code",
   "execution_count": 3,
   "id": "44a4ce7a",
   "metadata": {},
   "outputs": [],
   "source": [
    "def del_nucl_conn(y):\n",
    "#     main_diag = torch.zeros([1, y.size()[0] // bs])\n",
    "#     diag1 = torch.ones([1, (y.size()[0] // bs) - 1])\n",
    "    \n",
    "    main_diag = torch.zeros([1, y.size()[0]])\n",
    "    diag1 = torch.ones([1, y.size()[0] - 1])\n",
    "#     batch_diags = []\n",
    "#     for i in range(bs):\n",
    "#         batch_diags.append((torch.diag_embed(main_diag).to(device) +\n",
    "#             torch.diag_embed(diag1, offset=1).to(device) + \n",
    "#             torch.diag_embed(diag1, offset=-1).to(device) - 1)[0])\n",
    "\n",
    "#     return y * torch.cat(batch_diags, 0).to(device) * (-1)\n",
    "    return y * (torch.diag_embed(main_diag).to(device) + \n",
    "                    torch.diag_embed(diag1, offset=1).to(device) + \n",
    "                torch.diag_embed(diag1, offset=-1).to(device) - 1)[0] * (-1)\n",
    "\n",
    "\n",
    "def del_main_diag(y):\n",
    "#     main_diag = torch.ones([1, y.size()[0] // bs])\n",
    "    main_diag = torch.ones([1, y.size()[0]])\n",
    "\n",
    "#     batch_diags = []\n",
    "#     for i in range(bs):\n",
    "#         batch_diags.append((torch.diag_embed(main_diag).to(device) - 1)[0])\n",
    "    \n",
    "#     return y * torch.cat(batch_diags, 0).to(device) * (-1)\n",
    "    return y * (torch.diag_embed(main_diag).to(device) - 1)[0] * (-1)\n",
    "\n",
    "\n",
    "def adj_mat_split(y):\n",
    "    y = list(torch.split(y, 196, dim=0))\n",
    "#     print(y)\n",
    "    for i in range(len(y)):\n",
    "        y[i] = torch.split(y[i], 196, dim=1)\n",
    "    \n",
    "    y1 = []\n",
    "    for i in range(len(y)):\n",
    "        y1.append(y[i][i])\n",
    "    \n",
    "    return torch.cat(y1, 0).to(device)\n",
    "    \n",
    "\n",
    "def argm(y):\n",
    "    max_ind = torch.argmax(y, dim=1)\n",
    "    y1 = torch.zeros_like(y)\n",
    "    k = 0\n",
    "    for i in max_ind:\n",
    "        y1[k][i] = 1.\n",
    "        y1[i][k] = 1.\n",
    "        k += 1\n",
    "    \n",
    "    return y1 * y\n"
   ]
  },
  {
   "cell_type": "code",
   "execution_count": 4,
   "id": "1a1b581d",
   "metadata": {},
   "outputs": [],
   "source": [
    "a = 0.8\n",
    "\n",
    "def precision(y_pred, y_true, y_in):\n",
    "    y_pred = y_pred + y_in\n",
    "    y_pred = del_nucl_conn(y_pred)    \n",
    "    y_pred[(y_pred > a)] = 1\n",
    "    y_pred[(y_pred <= a)] = 0 \n",
    "#     y_pred = argm(y_pred)\n",
    "    y_pred = del_main_diag(y_pred)\n",
    "    y_pred = adj_mat_split(y_pred)\n",
    "\n",
    "    tp = torch.sum(y_pred * y_true)\n",
    "    fp = torch.sum((1 - y_true) * y_pred)\n",
    "    \n",
    "    return tp / (tp + fp + epsilon)\n",
    "\n",
    "def recall(y_pred, y_true, y_in):\n",
    "    y_pred = y_pred + y_in\n",
    "    y_pred = del_nucl_conn(y_pred)    \n",
    "    y_pred[(y_pred > a)] = 1\n",
    "    y_pred[(y_pred <= a)] = 0 \n",
    "#     y_pred = argm(y_pred)\n",
    "    y_pred = del_main_diag(y_pred)\n",
    "    y_pred = adj_mat_split(y_pred)\n",
    "\n",
    "    tp = torch.sum(y_pred * y_true)\n",
    "    fn = torch.sum(y_true * (1 - y_pred))\n",
    "    \n",
    "    return tp / (tp + fn + epsilon)\n",
    "\n",
    "def f_loss(y_pred, y_true, y_in):\n",
    "    y_pred = y_pred + y_in\n",
    "    y_pred = del_nucl_conn(y_pred)\n",
    "#     y_pred = argm(y_pred)\n",
    "    y_pred = del_main_diag(y_pred)\n",
    "    y_pred = adj_mat_split(y_pred)\n",
    "\n",
    "    tp = torch.sum(y_pred * y_true)\n",
    "    fn = torch.sum(y_true * (1 - y_pred))\n",
    "    fp = torch.sum((1 - y_true) * y_pred)\n",
    "    precision = tp / (tp + fp + epsilon)\n",
    "    recall = tp / (tp + fn + epsilon)\n",
    "\n",
    "    k = 1\n",
    "    #k1 = 1 - torch.abs(precision - recall)\n",
    "\n",
    "#     k2 = 1 - torch.abs(K.mean(precision) - K.mean(recall))\n",
    "    #calculate upgraded f1 score\n",
    "    f1 = ((1 + k * k) * precision * recall) / (k * k * precision + recall + epsilon)\n",
    "#     tw = K.sum(K.cast(y_true * y_pred, ’float32’), axis=[1, 2, 3])\n",
    "#     fw = K.sum(K.cast((1 - y_true) * y_pred, ’float32’), axis=[1, 2, 3])\n",
    "#     fb = K.sum(K.cast(y_true * (1 - y_pred), ’float32’), axis=[1, 2, 3])\n",
    "    return 1 - f1\n",
    "\n",
    "\n",
    "def mse_loss(y_pred, y_true):\n",
    "#    y_pred = torch.tanh((y_pred*3)**5)\n",
    "#     y_true = y_true - y_in\n",
    "    y_pred = del_nucl_conn(y_pred)\n",
    "#     y_pred[(y_pred > a)] = 1\n",
    "#     y_pred[(y_pred <= a)] = 0 \n",
    "#     y_pred = argm(y_pred)\n",
    "    y_pred = del_main_diag(y_pred)\n",
    "    y_true = del_nucl_conn(y_true)\n",
    "    y_true = del_main_diag(y_true)\n",
    "    \n",
    "#     y_pred = adj_mat_split(y_pred)\n",
    "#     return torch.sqrt(torch.mean((y_pred - y_true) ** 2))\n",
    "    return (torch.sum((y_pred - y_true) ** 2))\n",
    "\n",
    "\n",
    "def distance_loss(y_pred, y_true):\n",
    "   # print(\">>>>>>>>>>>>>>>>>>>>>>>>>>\")\n",
    "    #y_pred = torch.tanh((y_pred*3)**5)\n",
    "    y_pred = del_nucl_conn(y_pred)\n",
    "    y_pred = del_main_diag(y_pred)\n",
    "    y_true = del_nucl_conn(y_true)\n",
    "    y_true = del_main_diag(y_true)\n",
    "    \n",
    "    \n",
    "    \n",
    "   # print(y_pred)\n",
    "    #print(y_true)\n",
    "    \n",
    "    #print (\"---------------------------------\")\n",
    "    \n",
    "    \n",
    "    c = 0.001\n",
    "    \n",
    "#     y_pred[0][0] = 0.01\n",
    "#     y_true[0][0] = 0.01\n",
    "#     y_pred[(torch.abs(y_pred) < c)] = 0\n",
    "#    c = torch.rand(y_true.size()).to(device)\n",
    "#     k = 0.4\n",
    "#     c[(c > k)] = 0\n",
    "#     c += y_true\n",
    "#     y_true += c\n",
    "    #y_pred.where(y_pred > c or y_pred < -c, y_pred, 0)\n",
    "    \n",
    "    #print(y_pred)\n",
    "    \n",
    "    #print(\"<<<<<<<<<<<<<<<<<<<<<<<<<\")\n",
    "    \n",
    "    #c = 0.0001\n",
    "    y_true_local = y_true + c\n",
    "    y_true_local = torch.triu(y_true_local, diagonal=2)\n",
    "    y_true_local = y_true_local.to_sparse()\n",
    "    #c_sparse = torch.triu(c, diagonal=2).to_sparse()\n",
    "    y_true_local = torch.cat([y_true_local.indices(), torch.unsqueeze((y_true_local.values() - c) , 0)], dim=0)\n",
    "#     y_true_local = torch.cat([y_true_local.indices(), torch.unsqueeze(y_true_local.values() * 100, 0)], dim=0)\n",
    "    \n",
    "    y_pred_local = torch.triu(y_pred, diagonal=2)\n",
    "    y_pred_local = y_pred_local.to_sparse()\n",
    "    y_pred_local = torch.cat([y_pred_local.indices(), torch.unsqueeze(y_pred_local.values(), 0)], dim=0)\n",
    "    dist2 = torch.cdist(y_true_local.t(), y_pred_local.t())\n",
    "    x_min,ind1 = torch.min(dist2, dim=0)\n",
    "    y_min,ind1 = torch.min(dist2, dim=1)\n",
    "    return torch.sum(torch.sqrt(x_min))/(x_min.size()[0]) + torch.sum(torch.sqrt(y_min))/(y_min.size()[0])\n",
    "#     return torch.sum(x_min ** 2)/(x_min.size()[0]) + torch.sum(y_min ** 2)/(y_min.size()[0])\n",
    "\n",
    "    #return torch.sum(x_min)/(x_min.size()[0])\n",
    "    \n"
   ]
  },
  {
   "cell_type": "code",
   "execution_count": 50,
   "id": "76d46c62",
   "metadata": {},
   "outputs": [],
   "source": [
    "for layer in model.layers:\n",
    "    layer.dropout = 0.2\n"
   ]
  },
  {
   "cell_type": "code",
   "execution_count": 40,
   "id": "3dc2d2df",
   "metadata": {},
   "outputs": [
    {
     "data": {
      "text/plain": [
       "0.2"
      ]
     },
     "execution_count": 40,
     "metadata": {},
     "output_type": "execute_result"
    }
   ],
   "source": [
    "model.layers[0].dropout"
   ]
  },
  {
   "cell_type": "code",
   "execution_count": 7,
   "id": "34be5809",
   "metadata": {},
   "outputs": [],
   "source": [
    "class DeepGCNModel(torch.nn.Module):\n",
    "    def __init__(self, num_layers, out_channels):\n",
    "        super(DeepGCNModel, self).__init__()\n",
    "        self.layers = torch.nn.ModuleList()\n",
    "#         conv1 = GCN(dataset.num_features, out_channels, num_layers=2)\n",
    "#         layer = DeepGCNLayer(conv1, block='res', dropout=0)\n",
    "\n",
    "#         self.layers.append(layer)\n",
    "        for i in range(1, num_layers + 1):\n",
    "\n",
    "            conv = GatedGraphConv(out_channels, num_layers=6)\n",
    "\n",
    "            layer = DeepGCNLayer(conv, block='res', dropout=0)\n",
    "            self.layers.append(layer)\n",
    "\n",
    "        self.lin = Linear(out_channels, 1)\n",
    "\n",
    "    def forward(self, x, edge_index):\n",
    "        x = self.layers[0].conv(x, edge_index)\n",
    "        for layer in self.layers[1:]:\n",
    "            x = layer(x, edge_index)\n",
    "            \n",
    "        x1, x2 = torch.split(x, out_channels // 2, dim=1)\n",
    "        #!!return torch.tanh(((torch.tanh(x1 @ x2.t()))*20)**11)\n",
    "        return torch.tanh(((torch.tanh(x1 @ x2.t())))**11)\n",
    "#         return (x1 @ x2.t()).sigmoid()\n",
    "\n",
    "        \n",
    "#         return torch.tanh(((torch.tanh(x1 @ x2.t()))*1000))\n",
    "        #return torch.tanh(torch.tanh(x @ x.t())**11)"
   ]
  },
  {
   "cell_type": "code",
   "execution_count": 49,
   "id": "741f839b",
   "metadata": {},
   "outputs": [
    {
     "name": "stdout",
     "output_type": "stream",
     "text": [
      "cuda\n"
     ]
    }
   ],
   "source": [
    "num_layers = 3\n",
    "# num_features = dataset.num_features\n",
    "out_channels = 200\n",
    "\n",
    "\n",
    "lr = 0.0000001\n",
    "epochs = 175\n",
    "beta = 1\n",
    "\n",
    "\n",
    "# model = DeepGCNModel(num_layers, out_channels)\n",
    "model = torch.load(\"./models1/ResGatedGCN_dist(sqrt)_diff_mult_dist_01_dropout_0_3*6_1e-05_RMSProp_200_0.8_175.pt\")\n",
    "\n",
    "device = torch.device('cuda' if torch.cuda.is_available() else 'cpu')\n",
    "model = model.to(device)\n",
    "train_data = list(map(lambda x: x.to(device), train_data))\n",
    "val_data = list(map(lambda x: x.to(device), val_data))\n",
    "print(device)\n",
    "\n",
    "# optimizer = torch.optim.Adam(model.parameters(), lr=lr)\n",
    "#optimizer = torch.optim.Adagrad(model.parameters(), lr=lr)\n",
    "optimizer = torch.optim.RMSprop(model.parameters(), lr=lr, momentum=0)\n",
    "#optimizer = torch.optim.Adamax(model.parameters(), lr=lr)\n",
    "# optimizer = torch.optim.Adadelta(model.parameters(), lr=lr)\n",
    "\n",
    "# optimizer = torch.optim.SGD(model.parameters(), lr=0.001)\n",
    "\n",
    "# criterion = torch.nn.BCELoss()\n",
    "# criterion = torch.nn.BCEWithLogitsLoss()\n",
    "# criterion = torch.nn.CrossEntropyLoss()\n",
    "\n",
    "# def RMSELoss(y_pred, y_true):\n",
    "#     return torch.sqrt(torch.mean((y_pred - y_true) ** 2))\n",
    "\n",
    "# criterion = f_loss\n",
    "# criterion = mse_loss\n",
    "criterion = distance_loss"
   ]
  },
  {
   "cell_type": "code",
   "execution_count": null,
   "id": "b8fe3044",
   "metadata": {},
   "outputs": [],
   "source": []
  },
  {
   "cell_type": "code",
   "execution_count": 51,
   "id": "79405b81",
   "metadata": {},
   "outputs": [
    {
     "data": {
      "text/html": [
       "Finishing last run (ID:nz7hjps6) before initializing another..."
      ],
      "text/plain": [
       "<IPython.core.display.HTML object>"
      ]
     },
     "metadata": {},
     "output_type": "display_data"
    },
    {
     "data": {
      "text/html": [
       "Waiting for W&B process to finish... <strong style=\"color:green\">(success).</strong>"
      ],
      "text/plain": [
       "<IPython.core.display.HTML object>"
      ]
     },
     "metadata": {},
     "output_type": "display_data"
    },
    {
     "data": {
      "text/html": [
       "<style>\n",
       "    table.wandb td:nth-child(1) { padding: 0 10px; text-align: left ; width: auto;} td:nth-child(2) {text-align: left ; width: 100%}\n",
       "    .wandb-row { display: flex; flex-direction: row; flex-wrap: wrap; justify-content: flex-start; width: 100% }\n",
       "    .wandb-col { display: flex; flex-direction: column; flex-basis: 100%; flex: 1; padding: 10px; }\n",
       "    </style>\n",
       "<div class=\"wandb-row\"><div class=\"wandb-col\"><h3>Run history:</h3><br/><table class=\"wandb\"><tr><td>train_f1</td><td>▆█▇█▂▅▄▄▆▆▃▇▄▆▄▄▁▅▆▃▃▃▄▃▅▆</td></tr><tr><td>train_loss</td><td>██▆▆▆▅▄▄▃▄▄▃▃▂▃▄▂▃▁▁▂▂▃▂▁▃</td></tr><tr><td>train_precision</td><td>▃▄▄▅▂▃▄▃▅▆▁█▂▇▃▄▃▁▆▂▂▃▂▂▅▂</td></tr><tr><td>train_recall</td><td>▆█▇▇▂▆▄▄▅▅▅▄▅▅▄▄▁▆▅▄▃▃▅▄▄▇</td></tr><tr><td>val_f1</td><td>▇▆▆▅▄▄▁▇▄▇▄▅▃▆▆▄▆█▂▄▅▇▇▄▇▇</td></tr><tr><td>val_loss</td><td>▂▂▃▄█▃▁▇▂▂▃▄▃▂▃▁▆▂▄▃▃▃▂▂▃▂</td></tr><tr><td>val_precision</td><td>▄▄▄▄▃▃▁▆▅█▄▃▃▃▃▂▃▅▂▂▃▄▅▃▅▄</td></tr><tr><td>val_recall</td><td>█▆▆▄▄▄▁▇▂▄▃▆▃▇▇▄▆█▂▄▅█▆▄▆█</td></tr></table><br/></div><div class=\"wandb-col\"><h3>Run summary:</h3><br/><table class=\"wandb\"><tr><td>train_f1</td><td>0.37874</td></tr><tr><td>train_loss</td><td>0.09558</td></tr><tr><td>train_precision</td><td>0.26108</td></tr><tr><td>train_recall</td><td>0.68947</td></tr><tr><td>val_f1</td><td>0.36297</td></tr><tr><td>val_loss</td><td>0.08356</td></tr><tr><td>val_precision</td><td>0.24875</td></tr><tr><td>val_recall</td><td>0.67118</td></tr></table><br/></div></div>"
      ],
      "text/plain": [
       "<IPython.core.display.HTML object>"
      ]
     },
     "metadata": {},
     "output_type": "display_data"
    },
    {
     "data": {
      "text/html": [
       " View run <strong style=\"color:#cdcd00\">ResGatedGCN_dist(sqrt)_diff_mult_dist_01_dropout(0->0.2)3*6_1e-06_RMSProp_200_0.8</strong> at: <a href='https://wandb.ai/chi-vinny0702/secondary_structure_prediction1/runs/nz7hjps6' target=\"_blank\">https://wandb.ai/chi-vinny0702/secondary_structure_prediction1/runs/nz7hjps6</a><br/>Synced 5 W&B file(s), 0 media file(s), 0 artifact file(s) and 0 other file(s)"
      ],
      "text/plain": [
       "<IPython.core.display.HTML object>"
      ]
     },
     "metadata": {},
     "output_type": "display_data"
    },
    {
     "data": {
      "text/html": [
       "Find logs at: <code>./wandb/run-20230427_141518-nz7hjps6/logs</code>"
      ],
      "text/plain": [
       "<IPython.core.display.HTML object>"
      ]
     },
     "metadata": {},
     "output_type": "display_data"
    },
    {
     "data": {
      "text/html": [
       "Successfully finished last run (ID:nz7hjps6). Initializing new run:<br/>"
      ],
      "text/plain": [
       "<IPython.core.display.HTML object>"
      ]
     },
     "metadata": {},
     "output_type": "display_data"
    },
    {
     "data": {
      "text/html": [
       "wandb version 0.15.0 is available!  To upgrade, please run:\n",
       " $ pip install wandb --upgrade"
      ],
      "text/plain": [
       "<IPython.core.display.HTML object>"
      ]
     },
     "metadata": {},
     "output_type": "display_data"
    },
    {
     "data": {
      "text/html": [
       "Tracking run with wandb version 0.14.2"
      ],
      "text/plain": [
       "<IPython.core.display.HTML object>"
      ]
     },
     "metadata": {},
     "output_type": "display_data"
    },
    {
     "data": {
      "text/html": [
       "Run data is saved locally in <code>/home/vdshk/SecondaryStructurePredictionGNN/wandb/run-20230427_142345-hax6899g</code>"
      ],
      "text/plain": [
       "<IPython.core.display.HTML object>"
      ]
     },
     "metadata": {},
     "output_type": "display_data"
    },
    {
     "data": {
      "text/html": [
       "Syncing run <strong><a href='https://wandb.ai/chi-vinny0702/secondary_structure_prediction1/runs/hax6899g' target=\"_blank\">ResGatedGCN_dist(sqrt)_diff_mult_dist_01_dropout(0->0.2)3*6_1e-07_RMSProp_200_0.8</a></strong> to <a href='https://wandb.ai/chi-vinny0702/secondary_structure_prediction1' target=\"_blank\">Weights & Biases</a> (<a href='https://wandb.me/run' target=\"_blank\">docs</a>)<br/>"
      ],
      "text/plain": [
       "<IPython.core.display.HTML object>"
      ]
     },
     "metadata": {},
     "output_type": "display_data"
    },
    {
     "data": {
      "text/html": [
       " View project at <a href='https://wandb.ai/chi-vinny0702/secondary_structure_prediction1' target=\"_blank\">https://wandb.ai/chi-vinny0702/secondary_structure_prediction1</a>"
      ],
      "text/plain": [
       "<IPython.core.display.HTML object>"
      ]
     },
     "metadata": {},
     "output_type": "display_data"
    },
    {
     "data": {
      "text/html": [
       " View run at <a href='https://wandb.ai/chi-vinny0702/secondary_structure_prediction1/runs/hax6899g' target=\"_blank\">https://wandb.ai/chi-vinny0702/secondary_structure_prediction1/runs/hax6899g</a>"
      ],
      "text/plain": [
       "<IPython.core.display.HTML object>"
      ]
     },
     "metadata": {},
     "output_type": "display_data"
    }
   ],
   "source": [
    "run_name = \"ResGatedGCN_dist(sqrt)_diff_mult_dist_01_dropout(0->0.2)\" \\\n",
    "+ str(num_layers) + \"*6_\" + str(lr) + \"_\" + \"RMSProp_\" + str(out_channels) + \"_\" + str(a)\n",
    "\n",
    "\n",
    "wandb.init(\n",
    "    # set the wandb project where this run will be logged\n",
    "    project=\"secondary_structure_prediction1\",\n",
    "    \n",
    "    # track hyperparameters and run metadata\n",
    "    config={\n",
    "    \"learning_rate\": lr,\n",
    "    \"architecture\": \"ResGatedGCN\",\n",
    "    \"epochs\": epochs,\n",
    "    \"optimizer\": \"RMSProp\",\n",
    "    \"out_channels\": out_channels,\n",
    "    \"loss\": \"dist_loss\",\n",
    "    \"beta\": beta,\n",
    "    \"train:val:test\": \"655:218:218\"\n",
    "    },\n",
    "    name=run_name\n",
    ")\n",
    "\n",
    "epsilon = 1e-10"
   ]
  },
  {
   "cell_type": "code",
   "execution_count": 52,
   "id": "ad9b0229",
   "metadata": {},
   "outputs": [],
   "source": [
    "def train():\n",
    "    for epoch in range(1, epochs + 1):\n",
    "        model.train()\n",
    "        train_loss = []\n",
    "        train_recall = []\n",
    "        train_precision = []  \n",
    "        k = 0\n",
    "        for g in tqdm(train_data):\n",
    "            g.to(device)\n",
    "            optimizer.zero_grad()\n",
    "\n",
    "            out = model(g.x, g.edge_index)\n",
    "            y_true = g.adj_mat\n",
    "#             print(out.size(),y_true.size())\n",
    "            loss = criterion(out, y_true.to(torch.float32) - torch.squeeze(to_dense_adj(g.edge_index)))          \n",
    "#             loss = criterion(out, y_true.to(torch.float32))          \n",
    "\n",
    "            loss.backward()\n",
    "            optimizer.step()\n",
    "            \n",
    "#             out = out.sigmoid()\n",
    "#             if k <= 2:\n",
    "#                 save_image(y_true, f\"./pictures/{k}/{epoch}_t.jpg\")\n",
    "#                 save_image(torch.squeeze(to_dense_adj(g.edge_index)), f\"./pictures/{k}/{epoch}_p.jpg\")\n",
    "#                 save_image(out + torch.squeeze(to_dense_adj(g.edge_index)), f\"./pictures/{k}/{epoch}_nn.jpg\")\n",
    "#             k += 1\n",
    "            \n",
    "            train_loss.append(loss.item())\n",
    "            train_precision.append(precision(out, y_true, torch.squeeze(to_dense_adj(g.edge_index))).item())\n",
    "            train_recall.append(recall(out, y_true, torch.squeeze(to_dense_adj(g.edge_index))).item())\n",
    "            \n",
    "        train_prec = np.mean(train_precision)\n",
    "        train_rec = np.mean(train_recall)\n",
    "        train_f1 = (2 * train_prec * train_rec) / (train_prec + train_rec)\n",
    "        print(f'Epoch: {epoch:03d}, loss: {np.mean(train_loss)}, f1: {train_f1}, precision: {train_prec}, recall: {train_rec}')\n",
    "        \n",
    "        val_loss = []\n",
    "        val_recall = []\n",
    "        val_precision = []\n",
    "        with torch.no_grad():\n",
    "            for g in val_data:\n",
    "                g.to(device)\n",
    "                out = model(g.x, g.edge_index)\n",
    "        \n",
    "                y_true = g.adj_mat\n",
    "                loss = criterion(out, y_true.to(torch.float32) - torch.squeeze(to_dense_adj(g.edge_index)))\n",
    "#                 loss = criterion(out, y_true.to(torch.float32))          \n",
    "\n",
    "                                \n",
    "                val_loss.append(loss.item())\n",
    "                \n",
    "#                 out = out.sigmoid()\n",
    "                \n",
    "                val_precision.append(precision(out, y_true, torch.squeeze(to_dense_adj(g.edge_index))).item())\n",
    "                val_recall.append(recall(out, y_true, torch.squeeze(to_dense_adj(g.edge_index))).item())\n",
    " \n",
    "            \n",
    "            prec = np.mean(val_precision)\n",
    "            rec = np.mean(val_recall)\n",
    "            f1 = (2 * prec * rec) / (prec + rec)\n",
    "            print(f'val_loss: {np.mean(val_loss)}, val_f1: {f1}, val_precision: {prec}, val_recall: {rec}')\n",
    "              \n",
    "            wandb.log({\"train_loss\": np.mean(train_loss), \"train_f1\": train_f1, \"train_precision\": train_prec, \n",
    "                       \"train_recall\": train_rec,\n",
    "                       \"val_loss\": np.mean(val_loss), \"val_f1\": f1, \"val_precision\": prec, \"val_recall\": rec})\n",
    "#     wandb.finish()"
   ]
  },
  {
   "cell_type": "code",
   "execution_count": 53,
   "id": "02e9df65",
   "metadata": {},
   "outputs": [
    {
     "name": "stderr",
     "output_type": "stream",
     "text": [
      "100%|█████████████████████████████████████████| 655/655 [00:15<00:00, 41.78it/s]\n"
     ]
    },
    {
     "name": "stdout",
     "output_type": "stream",
     "text": [
      "Epoch: 001, loss: 0.09633414049753707, f1: 0.3786539215497728, precision: 0.2611049390191795, recall: 0.6887099045833559\n",
      "val_loss: 0.08384594871938111, val_f1: 0.3629629895911332, val_precision: 0.24875327622637564, val_recall: 0.6710706249289556\n"
     ]
    },
    {
     "name": "stderr",
     "output_type": "stream",
     "text": [
      "100%|█████████████████████████████████████████| 655/655 [00:16<00:00, 40.49it/s]\n"
     ]
    },
    {
     "name": "stdout",
     "output_type": "stream",
     "text": [
      "Epoch: 002, loss: 0.09649215990122947, f1: 0.37866337200709, precision: 0.26108278702546395, recall: 0.6889266303932394\n",
      "val_loss: 0.0839434014361649, val_f1: 0.3629487892558645, val_precision: 0.24874593960890257, val_recall: 0.6710269374584933\n"
     ]
    },
    {
     "name": "stderr",
     "output_type": "stream",
     "text": [
      "100%|█████████████████████████████████████████| 655/655 [00:15<00:00, 41.05it/s]\n"
     ]
    },
    {
     "name": "stdout",
     "output_type": "stream",
     "text": [
      "Epoch: 003, loss: 0.09629128804956456, f1: 0.37868800815823256, precision: 0.26111075026445263, recall: 0.6888950327425513\n",
      "val_loss: 0.08378758321395142, val_f1: 0.3629441035302213, val_precision: 0.24874303861598082, val_recall: 0.6710160158642935\n"
     ]
    },
    {
     "name": "stderr",
     "output_type": "stream",
     "text": [
      "100%|█████████████████████████████████████████| 655/655 [00:15<00:00, 41.66it/s]\n"
     ]
    },
    {
     "name": "stdout",
     "output_type": "stream",
     "text": [
      "Epoch: 004, loss: 0.09607959880870376, f1: 0.37875428310405124, precision: 0.2611309675229642, recall: 0.6891930225468774\n",
      "val_loss: 0.08371032044401222, val_f1: 0.3629739243484046, val_precision: 0.24874854334758237, val_recall: 0.6711798427848641\n"
     ]
    },
    {
     "name": "stderr",
     "output_type": "stream",
     "text": [
      "100%|█████████████████████████████████████████| 655/655 [00:16<00:00, 40.55it/s]\n"
     ]
    },
    {
     "name": "stdout",
     "output_type": "stream",
     "text": [
      "Epoch: 005, loss: 0.09616659698396467, f1: 0.3787573783725522, precision: 0.2611125054989607, recall: 0.6893421619448044\n",
      "val_loss: 0.08369029960382758, val_f1: 0.36293175709260106, val_precision: 0.2487299398459289, val_recall: 0.6710269374584933\n"
     ]
    },
    {
     "name": "stderr",
     "output_type": "stream",
     "text": [
      "100%|█████████████████████████████████████████| 655/655 [00:16<00:00, 40.51it/s]\n"
     ]
    },
    {
     "name": "stdout",
     "output_type": "stream",
     "text": [
      "Epoch: 006, loss: 0.09615009222535117, f1: 0.3787107532108732, precision: 0.2611043115409503, recall: 0.6890904414062281\n",
      "val_loss: 0.08373381538313558, val_f1: 0.3629737441107047, val_precision: 0.24874837405193562, val_recall: 0.6711798427848641\n"
     ]
    },
    {
     "name": "stderr",
     "output_type": "stream",
     "text": [
      "100%|█████████████████████████████████████████| 655/655 [00:16<00:00, 40.59it/s]\n"
     ]
    },
    {
     "name": "stdout",
     "output_type": "stream",
     "text": [
      "Epoch: 007, loss: 0.09614645611949776, f1: 0.3787164669212678, precision: 0.26109288191806723, recall: 0.6892079065319237\n",
      "val_loss: 0.0838839025578436, val_f1: 0.362968308085711, val_precision: 0.2487537703741718, val_recall: 0.6711033902583866\n"
     ]
    },
    {
     "name": "stderr",
     "output_type": "stream",
     "text": [
      "100%|█████████████████████████████████████████| 655/655 [00:16<00:00, 40.57it/s]\n"
     ]
    },
    {
     "name": "stdout",
     "output_type": "stream",
     "text": [
      "Epoch: 008, loss: 0.09583144159774289, f1: 0.37869378108804164, precision: 0.26112836888842, recall: 0.6888106210996177\n",
      "val_loss: 0.08387489062612945, val_f1: 0.3629683697511433, val_precision: 0.2487433259930769, val_recall: 0.6711798427848641\n"
     ]
    },
    {
     "name": "stderr",
     "output_type": "stream",
     "text": [
      "100%|█████████████████████████████████████████| 655/655 [00:16<00:00, 40.78it/s]\n"
     ]
    },
    {
     "name": "stdout",
     "output_type": "stream",
     "text": [
      "Epoch: 009, loss: 0.0959519486127862, f1: 0.3787156267332543, precision: 0.2611069024519156, recall: 0.6891046664642013\n",
      "val_loss: 0.08360644686883197, val_f1: 0.3629546042272459, val_precision: 0.2487408977018994, val_recall: 0.6711033902583866\n"
     ]
    },
    {
     "name": "stderr",
     "output_type": "stream",
     "text": [
      "100%|█████████████████████████████████████████| 655/655 [00:15<00:00, 41.67it/s]\n"
     ]
    },
    {
     "name": "stdout",
     "output_type": "stream",
     "text": [
      "Epoch: 010, loss: 0.09580882120991253, f1: 0.3786876685884575, precision: 0.2611141934905571, recall: 0.6888688190747764\n",
      "val_loss: 0.0836955375980127, val_f1: 0.36297454658366857, val_precision: 0.24874912780803551, val_recall: 0.6711798427848641\n"
     ]
    },
    {
     "name": "stderr",
     "output_type": "stream",
     "text": [
      "100%|█████████████████████████████████████████| 655/655 [00:15<00:00, 40.94it/s]\n"
     ]
    },
    {
     "name": "stdout",
     "output_type": "stream",
     "text": [
      "Epoch: 011, loss: 0.0957922079948751, f1: 0.37874838283998546, precision: 0.26112582322693506, recall: 0.6891897840809276\n",
      "val_loss: 0.08372021927982091, val_f1: 0.36293958081120664, val_precision: 0.24873728926267918, val_recall: 0.6710269374584933\n"
     ]
    },
    {
     "name": "stderr",
     "output_type": "stream",
     "text": [
      "100%|█████████████████████████████████████████| 655/655 [00:15<00:00, 41.01it/s]\n"
     ]
    },
    {
     "name": "stdout",
     "output_type": "stream",
     "text": [
      "Epoch: 012, loss: 0.09593781828311564, f1: 0.37870831651943115, precision: 0.261096953356084, recall: 0.6891255597235593\n",
      "val_loss: 0.08349038272195974, val_f1: 0.3629454859005032, val_precision: 0.24874283644208395, val_recall: 0.6710269374584933\n"
     ]
    },
    {
     "name": "stderr",
     "output_type": "stream",
     "text": [
      "100%|█████████████████████████████████████████| 655/655 [00:15<00:00, 41.18it/s]\n"
     ]
    },
    {
     "name": "stdout",
     "output_type": "stream",
     "text": [
      "Epoch: 013, loss: 0.09583585253554106, f1: 0.37871185060500195, precision: 0.26110763547529703, recall: 0.6890745572461426\n",
      "val_loss: 0.08383572372969549, val_f1: 0.36297242209871444, val_precision: 0.24874713229989515, val_recall: 0.6711798427848641\n"
     ]
    },
    {
     "name": "stderr",
     "output_type": "stream",
     "text": [
      "100%|█████████████████████████████████████████| 655/655 [00:15<00:00, 40.97it/s]\n"
     ]
    },
    {
     "name": "stdout",
     "output_type": "stream",
     "text": [
      "Epoch: 014, loss: 0.09603370414008848, f1: 0.37871841574065424, precision: 0.2610885573835432, recall: 0.6892509516072637\n",
      "val_loss: 0.08359018750033143, val_f1: 0.36295611859345067, val_precision: 0.24874232019887332, val_recall: 0.6711033902583866\n"
     ]
    },
    {
     "name": "stderr",
     "output_type": "stream",
     "text": [
      "100%|█████████████████████████████████████████| 655/655 [00:16<00:00, 40.18it/s]\n"
     ]
    },
    {
     "name": "stdout",
     "output_type": "stream",
     "text": [
      "Epoch: 015, loss: 0.09593077875773301, f1: 0.37867653223127234, precision: 0.26109304081733903, recall: 0.688942357476886\n",
      "val_loss: 0.08389181329723482, val_f1: 0.3629553076077515, val_precision: 0.24874155841118425, val_recall: 0.6711033902583866\n"
     ]
    },
    {
     "name": "stderr",
     "output_type": "stream",
     "text": [
      "100%|█████████████████████████████████████████| 655/655 [00:16<00:00, 40.27it/s]\n"
     ]
    },
    {
     "name": "stdout",
     "output_type": "stream",
     "text": [
      "Epoch: 016, loss: 0.09578109357634004, f1: 0.3787112152738673, precision: 0.26112304757000837, recall: 0.6889630365348954\n",
      "val_loss: 0.08365362003635354, val_f1: 0.36294142004364416, val_precision: 0.24873901701130724, val_recall: 0.6710269374584933\n"
     ]
    },
    {
     "name": "stderr",
     "output_type": "stream",
     "text": [
      "100%|█████████████████████████████████████████| 655/655 [00:16<00:00, 40.07it/s]\n"
     ]
    },
    {
     "name": "stdout",
     "output_type": "stream",
     "text": [
      "Epoch: 017, loss: 0.09576699108610513, f1: 0.37868608875748383, precision: 0.261079306647409, recall: 0.6891012882685843\n",
      "val_loss: 0.0835830290213106, val_f1: 0.3629744182989828, val_precision: 0.24875951009811065, val_recall: 0.6711033902583866\n"
     ]
    },
    {
     "name": "stderr",
     "output_type": "stream",
     "text": [
      "100%|█████████████████████████████████████████| 655/655 [00:16<00:00, 40.23it/s]\n"
     ]
    },
    {
     "name": "stdout",
     "output_type": "stream",
     "text": [
      "Epoch: 018, loss: 0.09576455642405243, f1: 0.3787677494728399, precision: 0.26114656688318455, recall: 0.6891735417242268\n",
      "val_loss: 0.08371773112411181, val_f1: 0.3629651696641064, val_precision: 0.24875082227683395, val_recall: 0.6711033902583866\n"
     ]
    },
    {
     "name": "stderr",
     "output_type": "stream",
     "text": [
      "100%|█████████████████████████████████████████| 655/655 [00:16<00:00, 40.60it/s]\n"
     ]
    },
    {
     "name": "stdout",
     "output_type": "stream",
     "text": [
      "Epoch: 019, loss: 0.09568900454661432, f1: 0.3785739779956454, precision: 0.2610752864065402, recall: 0.6883873367866942\n",
      "val_loss: 0.0836280309431942, val_f1: 0.36296836795437376, val_precision: 0.2487538266123845, val_recall: 0.6711033902583866\n"
     ]
    },
    {
     "name": "stderr",
     "output_type": "stream",
     "text": [
      "100%|█████████████████████████████████████████| 655/655 [00:16<00:00, 40.36it/s]\n"
     ]
    },
    {
     "name": "stdout",
     "output_type": "stream",
     "text": [
      "Epoch: 020, loss: 0.09570263281663638, f1: 0.3786840288209342, precision: 0.2611276429274496, recall: 0.6887511463167558\n",
      "val_loss: 0.08391098271214321, val_f1: 0.3629594221196915, val_precision: 0.24874542333151495, val_recall: 0.6711033902583866\n"
     ]
    },
    {
     "name": "stderr",
     "output_type": "stream",
     "text": [
      "100%|█████████████████████████████████████████| 655/655 [00:16<00:00, 40.39it/s]\n"
     ]
    },
    {
     "name": "stdout",
     "output_type": "stream",
     "text": [
      "Epoch: 021, loss: 0.09605778649819034, f1: 0.37877906824806307, precision: 0.2611220666413544, recall: 0.6894192190798184\n",
      "val_loss: 0.08368490777294081, val_f1: 0.3629679614053269, val_precision: 0.24874294244197256, val_recall: 0.6711798427848641\n"
     ]
    },
    {
     "name": "stderr",
     "output_type": "stream",
     "text": [
      "100%|█████████████████████████████████████████| 655/655 [00:16<00:00, 40.32it/s]\n"
     ]
    },
    {
     "name": "stdout",
     "output_type": "stream",
     "text": [
      "Epoch: 022, loss: 0.09577727493055108, f1: 0.37871102545090424, precision: 0.2611115400800268, recall: 0.689041901749509\n",
      "val_loss: 0.08361668564815744, val_f1: 0.3629391123703018, val_precision: 0.24873684921703482, val_recall: 0.6710269374584933\n"
     ]
    },
    {
     "name": "stderr",
     "output_type": "stream",
     "text": [
      "100%|█████████████████████████████████████████| 655/655 [00:16<00:00, 40.38it/s]\n"
     ]
    },
    {
     "name": "stdout",
     "output_type": "stream",
     "text": [
      "Epoch: 023, loss: 0.09573631664339936, f1: 0.37864625600638674, precision: 0.26110055091442497, recall: 0.688689716313859\n",
      "val_loss: 0.08367450682950939, val_f1: 0.3629742523491924, val_precision: 0.24874885143592543, val_recall: 0.6711798427848641\n"
     ]
    },
    {
     "name": "stderr",
     "output_type": "stream",
     "text": [
      "100%|█████████████████████████████████████████| 655/655 [00:16<00:00, 40.46it/s]\n"
     ]
    },
    {
     "name": "stdout",
     "output_type": "stream",
     "text": [
      "Epoch: 024, loss: 0.09581223063327315, f1: 0.37872657854689185, precision: 0.2611222375952105, recall: 0.6890703803482856\n",
      "val_loss: 0.08370718433124814, val_f1: 0.36294693005022777, val_precision: 0.24874419307148238, val_recall: 0.6710269374584933\n"
     ]
    },
    {
     "name": "stderr",
     "output_type": "stream",
     "text": [
      "100%|█████████████████████████████████████████| 655/655 [00:16<00:00, 40.21it/s]\n"
     ]
    },
    {
     "name": "stdout",
     "output_type": "stream",
     "text": [
      "Epoch: 025, loss: 0.09592581769408844, f1: 0.3787058206518965, precision: 0.2610829592462032, recall: 0.6892065307907476\n",
      "val_loss: 0.08349782059606929, val_f1: 0.3629335903876569, val_precision: 0.24873166198953303, val_recall: 0.6710269374584933\n"
     ]
    },
    {
     "name": "stderr",
     "output_type": "stream",
     "text": [
      "100%|█████████████████████████████████████████| 655/655 [00:16<00:00, 40.80it/s]\n"
     ]
    },
    {
     "name": "stdout",
     "output_type": "stream",
     "text": [
      "Epoch: 026, loss: 0.09554983974356232, f1: 0.37869929970089183, precision: 0.2611262776952891, recall: 0.688861691235131\n",
      "val_loss: 0.08379886042089227, val_f1: 0.3629431333053824, val_precision: 0.24874062643070285, val_recall: 0.6710269374584933\n"
     ]
    },
    {
     "name": "stderr",
     "output_type": "stream",
     "text": [
      "100%|█████████████████████████████████████████| 655/655 [00:16<00:00, 40.16it/s]\n"
     ]
    },
    {
     "name": "stdout",
     "output_type": "stream",
     "text": [
      "Epoch: 027, loss: 0.09544023374977116, f1: 0.37860336762344543, precision: 0.26107773562992803, recall: 0.6885646912660307\n",
      "val_loss: 0.0836693260508571, val_f1: 0.36297157155623716, val_precision: 0.248746333396011, val_recall: 0.6711798427848641\n"
     ]
    },
    {
     "name": "stderr",
     "output_type": "stream",
     "text": [
      "100%|█████████████████████████████████████████| 655/655 [00:16<00:00, 40.38it/s]\n"
     ]
    },
    {
     "name": "stdout",
     "output_type": "stream",
     "text": [
      "Epoch: 028, loss: 0.09563763056035715, f1: 0.37866183238050855, precision: 0.26109837716345796, recall: 0.6888079123016987\n",
      "val_loss: 0.08377063028675853, val_f1: 0.36296172150575295, val_precision: 0.24874758324799462, val_recall: 0.6711033902583866\n"
     ]
    },
    {
     "name": "stderr",
     "output_type": "stream",
     "text": [
      "100%|█████████████████████████████████████████| 655/655 [00:15<00:00, 42.09it/s]\n"
     ]
    },
    {
     "name": "stdout",
     "output_type": "stream",
     "text": [
      "Epoch: 029, loss: 0.09560485698766154, f1: 0.37867326264513873, precision: 0.26109713525262496, recall: 0.6888922085175078\n",
      "val_loss: 0.08371034072781697, val_f1: 0.36296247418504723, val_precision: 0.24874829027562514, val_recall: 0.6711033902583866\n"
     ]
    },
    {
     "name": "stderr",
     "output_type": "stream",
     "text": [
      "100%|█████████████████████████████████████████| 655/655 [00:15<00:00, 40.96it/s]\n"
     ]
    },
    {
     "name": "stdout",
     "output_type": "stream",
     "text": [
      "Epoch: 030, loss: 0.09584542667166195, f1: 0.3787239389038873, precision: 0.26108323612911555, recall: 0.6893246323552751\n",
      "val_loss: 0.08385812991215935, val_f1: 0.36297339571524545, val_precision: 0.24874804680739795, val_recall: 0.6711798427848641\n"
     ]
    },
    {
     "name": "stderr",
     "output_type": "stream",
     "text": [
      "100%|█████████████████████████████████████████| 655/655 [00:16<00:00, 40.30it/s]\n"
     ]
    },
    {
     "name": "stdout",
     "output_type": "stream",
     "text": [
      "Epoch: 031, loss: 0.0956208439174158, f1: 0.3786093784991278, precision: 0.2610810460650739, recall: 0.6885814283014708\n",
      "val_loss: 0.08369522034051809, val_f1: 0.3629775217203757, val_precision: 0.24875192233967944, val_recall: 0.6711798427848641\n"
     ]
    },
    {
     "name": "stderr",
     "output_type": "stream",
     "text": [
      "100%|█████████████████████████████████████████| 655/655 [00:16<00:00, 40.80it/s]\n"
     ]
    },
    {
     "name": "stdout",
     "output_type": "stream",
     "text": [
      "Epoch: 032, loss: 0.09573921990360468, f1: 0.3787226226428873, precision: 0.2611363643794569, recall: 0.688945842403492\n",
      "val_loss: 0.08389209869308745, val_f1: 0.3629540015211826, val_precision: 0.24874033156030495, val_recall: 0.6711033902583866\n"
     ]
    },
    {
     "name": "stderr",
     "output_type": "stream",
     "text": [
      "100%|█████████████████████████████████████████| 655/655 [00:16<00:00, 39.34it/s]\n"
     ]
    },
    {
     "name": "stdout",
     "output_type": "stream",
     "text": [
      "Epoch: 033, loss: 0.09568954080855119, f1: 0.37875077902219245, precision: 0.2611337415077759, recall: 0.6891504979770602\n",
      "val_loss: 0.08359320904557943, val_f1: 0.36297534601710163, val_precision: 0.24874987871035797, val_recall: 0.6711798427848641\n"
     ]
    },
    {
     "name": "stderr",
     "output_type": "stream",
     "text": [
      "100%|█████████████████████████████████████████| 655/655 [00:16<00:00, 39.67it/s]\n"
     ]
    },
    {
     "name": "stdout",
     "output_type": "stream",
     "text": [
      "Epoch: 034, loss: 0.09562204805352079, f1: 0.3786249329402602, precision: 0.2610721033749007, recall: 0.6887465704715889\n",
      "val_loss: 0.08361464867628685, val_f1: 0.36297659941592114, val_precision: 0.2487510560217117, val_recall: 0.6711798427848641\n"
     ]
    },
    {
     "name": "stderr",
     "output_type": "stream",
     "text": [
      "100%|█████████████████████████████████████████| 655/655 [00:16<00:00, 39.80it/s]\n"
     ]
    },
    {
     "name": "stdout",
     "output_type": "stream",
     "text": [
      "Epoch: 035, loss: 0.09563230364405699, f1: 0.3786805917821402, precision: 0.2611145216516639, recall: 0.6888197018786241\n",
      "val_loss: 0.08379442365149362, val_f1: 0.3629677212188695, val_precision: 0.24874271683975918, val_recall: 0.6711798427848641\n"
     ]
    },
    {
     "name": "stderr",
     "output_type": "stream",
     "text": [
      "100%|█████████████████████████████████████████| 655/655 [00:16<00:00, 40.12it/s]\n"
     ]
    },
    {
     "name": "stdout",
     "output_type": "stream",
     "text": [
      "Epoch: 036, loss: 0.09547893303865922, f1: 0.3787183058132012, precision: 0.2611370936718606, recall: 0.6889121967417593\n",
      "val_loss: 0.08373920784025256, val_f1: 0.3629863821839852, val_precision: 0.24876024503124142, val_recall: 0.6711798427848641\n"
     ]
    },
    {
     "name": "stderr",
     "output_type": "stream",
     "text": [
      "100%|█████████████████████████████████████████| 655/655 [00:16<00:00, 40.16it/s]\n"
     ]
    },
    {
     "name": "stdout",
     "output_type": "stream",
     "text": [
      "Epoch: 037, loss: 0.09572350312706851, f1: 0.3786930625411489, precision: 0.26108362551579495, recall: 0.6891173859645847\n",
      "val_loss: 0.08347758601931844, val_f1: 0.36292703902807305, val_precision: 0.2487360134532829, val_recall: 0.6709504849320158\n"
     ]
    },
    {
     "name": "stderr",
     "output_type": "stream",
     "text": [
      "100%|█████████████████████████████████████████| 655/655 [00:16<00:00, 40.24it/s]\n"
     ]
    },
    {
     "name": "stdout",
     "output_type": "stream",
     "text": [
      "Epoch: 038, loss: 0.09575032187654203, f1: 0.37869855030593136, precision: 0.26109498288937427, recall: 0.689074612488501\n",
      "val_loss: 0.08385665388777852, val_f1: 0.36294989074769296, val_precision: 0.24873647019437967, val_recall: 0.6711033902583866\n"
     ]
    },
    {
     "name": "stderr",
     "output_type": "stream",
     "text": [
      "100%|█████████████████████████████████████████| 655/655 [00:16<00:00, 40.32it/s]\n"
     ]
    },
    {
     "name": "stdout",
     "output_type": "stream",
     "text": [
      "Epoch: 039, loss: 0.09547612325622494, f1: 0.3786894157234017, precision: 0.2611076933566396, recall: 0.688925628972645\n",
      "val_loss: 0.08352612868691828, val_f1: 0.3629823819465248, val_precision: 0.2487564875633208, val_recall: 0.6711798427848641\n"
     ]
    },
    {
     "name": "stderr",
     "output_type": "stream",
     "text": [
      "100%|█████████████████████████████████████████| 655/655 [00:16<00:00, 40.89it/s]\n"
     ]
    },
    {
     "name": "stdout",
     "output_type": "stream",
     "text": [
      "val_loss: 0.08369231801083184, val_f1: 0.36297770195668516, val_precision: 0.2487520916353262, val_recall: 0.6711798427848641\n"
     ]
    },
    {
     "name": "stderr",
     "output_type": "stream",
     "text": [
      "100%|█████████████████████████████████████████| 655/655 [00:16<00:00, 40.31it/s]\n"
     ]
    },
    {
     "name": "stdout",
     "output_type": "stream",
     "text": [
      "Epoch: 041, loss: 0.09548125305561392, f1: 0.3787181593427682, precision: 0.26116326911701954, recall: 0.6887291210412069\n",
      "val_loss: 0.083739779720743, val_f1: 0.3629431933812641, val_precision: 0.2487406828654332, val_recall: 0.6710269374584933\n"
     ]
    },
    {
     "name": "stderr",
     "output_type": "stream",
     "text": [
      "100%|█████████████████████████████████████████| 655/655 [00:16<00:00, 40.55it/s]\n"
     ]
    },
    {
     "name": "stdout",
     "output_type": "stream",
     "text": [
      "Epoch: 042, loss: 0.095411847302875, f1: 0.37869230020415223, precision: 0.26112269633485163, recall: 0.6888402946407103\n",
      "val_loss: 0.08372340859939528, val_f1: 0.36295556990162003, val_precision: 0.2487418047929986, val_recall: 0.6711033902583866\n"
     ]
    },
    {
     "name": "stderr",
     "output_type": "stream",
     "text": [
      "100%|█████████████████████████████████████████| 655/655 [00:16<00:00, 40.71it/s]\n"
     ]
    },
    {
     "name": "stdout",
     "output_type": "stream",
     "text": [
      "Epoch: 043, loss: 0.09558445558037239, f1: 0.3787485809656111, precision: 0.2611294394003526, recall: 0.6891659073474753\n",
      "val_loss: 0.08370004256222616, val_f1: 0.3629620371224464, val_precision: 0.24874612920567257, val_recall: 0.6711161322549942\n"
     ]
    },
    {
     "name": "stderr",
     "output_type": "stream",
     "text": [
      " 74%|██████████████████████████████▏          | 483/655 [00:11<00:04, 40.79it/s]\n"
     ]
    },
    {
     "ename": "KeyboardInterrupt",
     "evalue": "",
     "output_type": "error",
     "traceback": [
      "\u001b[0;31m---------------------------------------------------------------------------\u001b[0m",
      "\u001b[0;31mKeyboardInterrupt\u001b[0m                         Traceback (most recent call last)",
      "Cell \u001b[0;32mIn[53], line 1\u001b[0m\n\u001b[0;32m----> 1\u001b[0m \u001b[43mtrain\u001b[49m\u001b[43m(\u001b[49m\u001b[43m)\u001b[49m\n\u001b[1;32m      2\u001b[0m torch\u001b[38;5;241m.\u001b[39msave(model, \u001b[38;5;124m\"\u001b[39m\u001b[38;5;124m./models1/\u001b[39m\u001b[38;5;124m\"\u001b[39m \u001b[38;5;241m+\u001b[39m run_name \u001b[38;5;241m+\u001b[39m \u001b[38;5;124m\"\u001b[39m\u001b[38;5;124m_\u001b[39m\u001b[38;5;124m\"\u001b[39m \u001b[38;5;241m+\u001b[39m \u001b[38;5;28mstr\u001b[39m(epochs) \u001b[38;5;241m+\u001b[39m \u001b[38;5;124m\"\u001b[39m\u001b[38;5;124m.pt\u001b[39m\u001b[38;5;124m\"\u001b[39m)\n",
      "Cell \u001b[0;32mIn[52], line 28\u001b[0m, in \u001b[0;36mtrain\u001b[0;34m()\u001b[0m\n\u001b[1;32m     19\u001b[0m             optimizer\u001b[38;5;241m.\u001b[39mstep()\n\u001b[1;32m     21\u001b[0m \u001b[38;5;66;03m#             out = out.sigmoid()\u001b[39;00m\n\u001b[1;32m     22\u001b[0m \u001b[38;5;66;03m#             if k <= 2:\u001b[39;00m\n\u001b[1;32m     23\u001b[0m \u001b[38;5;66;03m#                 save_image(y_true, f\"./pictures/{k}/{epoch}_t.jpg\")\u001b[39;00m\n\u001b[1;32m     24\u001b[0m \u001b[38;5;66;03m#                 save_image(torch.squeeze(to_dense_adj(g.edge_index)), f\"./pictures/{k}/{epoch}_p.jpg\")\u001b[39;00m\n\u001b[1;32m     25\u001b[0m \u001b[38;5;66;03m#                 save_image(out + torch.squeeze(to_dense_adj(g.edge_index)), f\"./pictures/{k}/{epoch}_nn.jpg\")\u001b[39;00m\n\u001b[1;32m     26\u001b[0m \u001b[38;5;66;03m#             k += 1\u001b[39;00m\n\u001b[0;32m---> 28\u001b[0m             train_loss\u001b[38;5;241m.\u001b[39mappend(\u001b[43mloss\u001b[49m\u001b[38;5;241;43m.\u001b[39;49m\u001b[43mitem\u001b[49m\u001b[43m(\u001b[49m\u001b[43m)\u001b[49m)\n\u001b[1;32m     29\u001b[0m             train_precision\u001b[38;5;241m.\u001b[39mappend(precision(out, y_true, torch\u001b[38;5;241m.\u001b[39msqueeze(to_dense_adj(g\u001b[38;5;241m.\u001b[39medge_index)))\u001b[38;5;241m.\u001b[39mitem())\n\u001b[1;32m     30\u001b[0m             train_recall\u001b[38;5;241m.\u001b[39mappend(recall(out, y_true, torch\u001b[38;5;241m.\u001b[39msqueeze(to_dense_adj(g\u001b[38;5;241m.\u001b[39medge_index)))\u001b[38;5;241m.\u001b[39mitem())\n",
      "\u001b[0;31mKeyboardInterrupt\u001b[0m: "
     ]
    }
   ],
   "source": [
    "train()\n",
    "torch.save(model, \"./models1/\" + run_name + \"_\" + str(epochs) + \".pt\")"
   ]
  },
  {
   "cell_type": "code",
   "execution_count": null,
   "id": "006bf1f6",
   "metadata": {},
   "outputs": [],
   "source": [
    "wandb.finish()"
   ]
  },
  {
   "cell_type": "code",
   "execution_count": null,
   "id": "61e71193",
   "metadata": {},
   "outputs": [],
   "source": []
  }
 ],
 "metadata": {
  "kernelspec": {
   "display_name": "Python 3 (ipykernel)",
   "language": "python",
   "name": "python3"
  },
  "language_info": {
   "codemirror_mode": {
    "name": "ipython",
    "version": 3
   },
   "file_extension": ".py",
   "mimetype": "text/x-python",
   "name": "python",
   "nbconvert_exporter": "python",
   "pygments_lexer": "ipython3",
   "version": "3.9.12"
  }
 },
 "nbformat": 4,
 "nbformat_minor": 5
}
