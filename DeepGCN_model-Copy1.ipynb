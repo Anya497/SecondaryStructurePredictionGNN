{
 "cells": [
  {
   "cell_type": "code",
   "execution_count": 2,
   "id": "27f466d3",
   "metadata": {},
   "outputs": [],
   "source": [
    "import os.path as osp\n",
    "from tqdm.auto import tqdm\n",
    "import numpy as np\n",
    "import wandb\n",
    "\n",
    "import torch\n",
    "from sklearn.metrics import roc_auc_score\n",
    "\n",
    "import torch.nn.functional as F\n",
    "# from ogb.nodeproppred import Evaluator, PygNodePropPredDataset\n",
    "from torch.nn import LayerNorm, Linear, ReLU\n",
    "\n",
    "import torch_geometric.transforms as T\n",
    "from torch_geometric.datasets import Planetoid\n",
    "from torch_geometric.nn import GCNConv, GatedGraphConv\n",
    "from torch_geometric.nn import DeepGCNLayer, GENConv\n",
    "from torch_geometric.utils import negative_sampling\n",
    "from torch_geometric.loader import DataLoader\n",
    "\n",
    "from dataset_processing import RNADataset\n"
   ]
  },
  {
   "cell_type": "code",
   "execution_count": 3,
   "id": "4a077c77",
   "metadata": {},
   "outputs": [],
   "source": [
    "dataset = RNADataset(root=\"./data/\")\n",
    "dataset = dataset.shuffle()\n",
    "train_data, val_data, test_data = dataset[0:655], dataset[655:873], dataset[873:]\n",
    "bs = 4\n",
    "\n",
    "train_dataloader = DataLoader(train_data, batch_size=bs, shuffle=False)\n",
    "val_dataloader = DataLoader(val_data, batch_size=1, shuffle=False)\n"
   ]
  },
  {
   "cell_type": "code",
   "execution_count": 4,
   "id": "5a7f63af",
   "metadata": {},
   "outputs": [
    {
     "data": {
      "text/plain": [
       "torch.Size([196, 196])"
      ]
     },
     "execution_count": 4,
     "metadata": {},
     "output_type": "execute_result"
    }
   ],
   "source": [
    "train_data[1].adj_mat"
   ]
  },
  {
   "cell_type": "code",
   "execution_count": 4,
   "id": "44a4ce7a",
   "metadata": {},
   "outputs": [],
   "source": [
    "def del_nucl_conn(y):\n",
    "#     main_diag = torch.zeros([1, y.size()[0] // bs])\n",
    "#     diag1 = torch.ones([1, (y.size()[0] // bs) - 1])\n",
    "    \n",
    "    main_diag = torch.zeros([1, y.size()[0]])\n",
    "    diag1 = torch.ones([1, y.size()[0] - 1])\n",
    "#     batch_diags = []\n",
    "#     for i in range(bs):\n",
    "#         batch_diags.append((torch.diag_embed(main_diag).to(device) +\n",
    "#             torch.diag_embed(diag1, offset=1).to(device) + \n",
    "#             torch.diag_embed(diag1, offset=-1).to(device) - 1)[0])\n",
    "\n",
    "#     return y * torch.cat(batch_diags, 0).to(device) * (-1)\n",
    "    return y * (torch.diag_embed(main_diag).to(device) + \n",
    "                    torch.diag_embed(diag1, offset=1).to(device) + \n",
    "                torch.diag_embed(diag1, offset=-1).to(device) - 1)[0] * (-1)\n",
    "\n",
    "\n",
    "def del_main_diag(y):\n",
    "#     main_diag = torch.ones([1, y.size()[0] // bs])\n",
    "    main_diag = torch.zeros([1, y.size()[0]])\n",
    "\n",
    "#     batch_diags = []\n",
    "#     for i in range(bs):\n",
    "#         batch_diags.append((torch.diag_embed(main_diag).to(device) - 1)[0])\n",
    "    \n",
    "#     return y * torch.cat(batch_diags, 0).to(device) * (-1)\n",
    "    return y * (torch.diag_embed(main_diag).to(device) - 1)[0] * (-1)\n",
    "\n",
    "\n",
    "def adj_mat_split(y):\n",
    "    y = list(torch.split(y, 196, dim=0))\n",
    "#     print(y)\n",
    "    for i in range(len(y)):\n",
    "        y[i] = torch.split(y[i], 196, dim=1)\n",
    "    \n",
    "    y1 = []\n",
    "    for i in range(len(y)):\n",
    "        y1.append(y[i][i])\n",
    "    \n",
    "    return torch.cat(y1, 0).to(device)\n",
    "    \n",
    "\n",
    "def argm(y):\n",
    "    max_ind = torch.argmax(y, dim=1)\n",
    "    y1 = torch.zeros_like(y)\n",
    "    k = 0\n",
    "    for i in max_ind:\n",
    "        y1[k][i] = 1.\n",
    "        y1[i][k] = 1.\n",
    "        k += 1\n",
    "    \n",
    "    return y1 * y\n"
   ]
  },
  {
   "cell_type": "code",
   "execution_count": 5,
   "id": "b028e534",
   "metadata": {},
   "outputs": [
    {
     "name": "stdout",
     "output_type": "stream",
     "text": [
      "tensor([[0.4004, 0.8519, 0.5511, 0.0188],\n",
      "        [0.8301, 0.4703, 0.4650, 0.6933],\n",
      "        [0.4348, 0.7514, 0.2455, 0.0012],\n",
      "        [0.9674, 0.0052, 0.9604, 0.7480]])\n"
     ]
    },
    {
     "ename": "NameError",
     "evalue": "name 'device' is not defined",
     "output_type": "error",
     "traceback": [
      "\u001b[0;31m---------------------------------------------------------------------------\u001b[0m",
      "\u001b[0;31mNameError\u001b[0m                                 Traceback (most recent call last)",
      "Cell \u001b[0;32mIn[5], line 3\u001b[0m\n\u001b[1;32m      1\u001b[0m a \u001b[38;5;241m=\u001b[39m torch\u001b[38;5;241m.\u001b[39mrand([\u001b[38;5;241m4\u001b[39m, \u001b[38;5;241m4\u001b[39m])\n\u001b[1;32m      2\u001b[0m \u001b[38;5;28mprint\u001b[39m(a)\n\u001b[0;32m----> 3\u001b[0m \u001b[43madj_mat_split\u001b[49m\u001b[43m(\u001b[49m\u001b[43ma\u001b[49m\u001b[43m)\u001b[49m\n",
      "Cell \u001b[0;32mIn[4], line 41\u001b[0m, in \u001b[0;36madj_mat_split\u001b[0;34m(y)\u001b[0m\n\u001b[1;32m     38\u001b[0m \u001b[38;5;28;01mfor\u001b[39;00m i \u001b[38;5;129;01min\u001b[39;00m \u001b[38;5;28mrange\u001b[39m(\u001b[38;5;28mlen\u001b[39m(y)):\n\u001b[1;32m     39\u001b[0m     y1\u001b[38;5;241m.\u001b[39mappend(y[i][i])\n\u001b[0;32m---> 41\u001b[0m \u001b[38;5;28;01mreturn\u001b[39;00m torch\u001b[38;5;241m.\u001b[39mcat(y1, \u001b[38;5;241m0\u001b[39m)\u001b[38;5;241m.\u001b[39mto(\u001b[43mdevice\u001b[49m)\n",
      "\u001b[0;31mNameError\u001b[0m: name 'device' is not defined"
     ]
    }
   ],
   "source": [
    "a = torch.rand([4, 4])\n",
    "print(a)\n",
    "adj_mat_split(a)"
   ]
  },
  {
   "cell_type": "code",
   "execution_count": 6,
   "id": "1a1b581d",
   "metadata": {},
   "outputs": [],
   "source": [
    "def precision(y_pred, y_true):\n",
    "    y_pred = del_nucl_conn(y_pred)\n",
    "#     y_pred[(y_pred > 0.5)] = 1\n",
    "#     y_pred[(y_pred <= 0.5)] = 0 \n",
    "#     y_pred = argm(y_pred)\n",
    "    y_pred = del_main_diag(y_pred)\n",
    "    y_pred = adj_mat_split(y_pred)\n",
    "\n",
    "    tp = torch.sum(y_pred * y_true)\n",
    "    fp = torch.sum((1 - y_true) * y_pred)\n",
    "    \n",
    "    return tp / (tp + fp + epsilon)\n",
    "\n",
    "def recall(y_pred, y_true):\n",
    "    y_pred = del_nucl_conn(y_pred)\n",
    "#     y_pred[(y_pred > 0.5)] = 1\n",
    "#     y_pred[(y_pred <= 0.5)] = 0 \n",
    "#     y_pred = argm(y_pred)\n",
    "    y_pred = del_main_diag(y_pred)\n",
    "    y_pred = adj_mat_split(y_pred)\n",
    "\n",
    "    tp = torch.sum(y_pred * y_true)\n",
    "    fn = torch.sum(y_true * (1 - y_pred))\n",
    "    \n",
    "    return tp / (tp + fn + epsilon)\n",
    "\n",
    "def f_loss(y_pred, y_true):\n",
    "    y_pred = del_nucl_conn(y_pred)\n",
    "#     y_pred = argm(y_pred)\n",
    "    y_pred = del_main_diag(y_pred)\n",
    "    y_pred = adj_mat_split(y_pred)\n",
    "\n",
    "    tp = torch.sum(y_pred * y_true)\n",
    "    fn = torch.sum(y_true * (1 - y_pred))\n",
    "    fp = torch.sum((1 - y_true) * y_pred)\n",
    "    precision = tp / (tp + fp + epsilon)\n",
    "    recall = tp / (tp + fn + epsilon)\n",
    "\n",
    "    k = 1\n",
    "    k1 = 1 - torch.abs(precision - recall)\n",
    "\n",
    "#     k2 = 1 - torch.abs(K.mean(precision) - K.mean(recall))\n",
    "    #calculate upgraded f1 score\n",
    "    f1 = ((1 + k * k) * precision * recall) / (k * k * precision + recall + epsilon)\n",
    "#     tw = K.sum(K.cast(y_true * y_pred, ’float32’), axis=[1, 2, 3])\n",
    "#     fw = K.sum(K.cast((1 - y_true) * y_pred, ’float32’), axis=[1, 2, 3])\n",
    "#     fb = K.sum(K.cast(y_true * (1 - y_pred), ’float32’), axis=[1, 2, 3])\n",
    "    return 1 - f1\n"
   ]
  },
  {
   "cell_type": "code",
   "execution_count": 28,
   "id": "34be5809",
   "metadata": {},
   "outputs": [],
   "source": [
    "class DeepGCNModel(torch.nn.Module):\n",
    "    def __init__(self, num_layers, out_channels):\n",
    "        super(DeepGCNModel, self).__init__()\n",
    "        self.node_encoder = Linear(dataset.num_features, out_channels)\n",
    "#         self.edge_encoder = Linear(train_data.edge_attr.size(-1), hidden_channels)\n",
    "\n",
    "        self.layers = torch.nn.ModuleList()\n",
    "        for i in range(1, num_layers + 1):\n",
    "#             conv = GENConv(hidden_channels, hidden_channels, aggr='softmax',\n",
    "#                            t=1.0, learn_t=True, num_layers=2, norm='layer')\n",
    "            conv = GatedGraphConv(out_channels, num_layers=4)\n",
    "            norm = LayerNorm(out_channels, elementwise_affine=False)\n",
    "            act = ReLU()\n",
    "\n",
    "            layer = DeepGCNLayer(conv, block='res')\n",
    "            self.layers.append(layer)\n",
    "\n",
    "        self.lin = Linear(out_channels, 1)\n",
    "\n",
    "    def forward(self, x, edge_index):\n",
    "#         x = self.node_encoder(x)\n",
    "#         edge_attr = self.edge_encoder(edge_attr)\n",
    "#         print(x)\n",
    "        x = self.layers[0].conv(x, edge_index)\n",
    "#         print(x)\n",
    "        for layer in self.layers[1:]:\n",
    "            x = layer(x, edge_index)\n",
    "#         x = self.layers[0].act(self.layers[0].norm(x))\n",
    "#         x = F.dropout(x, p=0.1, training=self.training)\n",
    "#         print(x)\n",
    "        s = x.size()[0]\n",
    "#         for i in range(s):\n",
    "#             print(self.lin(x[i]))\n",
    "#             x[i] = self.lin(x[i])\n",
    "        \n",
    "#         return self.lin(x)\n",
    "        return x.sigmoid()"
   ]
  },
  {
   "cell_type": "code",
   "execution_count": 29,
   "id": "741f839b",
   "metadata": {},
   "outputs": [
    {
     "name": "stdout",
     "output_type": "stream",
     "text": [
      "cuda\n"
     ]
    }
   ],
   "source": [
    "num_layers = 6\n",
    "# num_features = dataset.num_features\n",
    "out_channels = 200\n",
    "\n",
    "\n",
    "lr = 0.00001\n",
    "epochs = 1500\n",
    "beta = 1\n",
    "\n",
    "\n",
    "model = DeepGCNModel(num_layers, out_channels)\n",
    "# model = torch.load(\"./models1/GatedGCN_6_4e-05_Adam_200_2_60.pt\")\n",
    "\n",
    "device = torch.device('cuda' if torch.cuda.is_available() else 'cpu')\n",
    "model = model.to(device)\n",
    "train_data = list(map(lambda x: x.to(device), train_data))\n",
    "val_data = list(map(lambda x: x.to(device), val_data))\n",
    "print(device)\n",
    "\n",
    "optimizer = torch.optim.Adam(model.parameters(), lr=lr)\n",
    "# optimizer = torch.optim.Adagrad(model.parameters(), lr=lr)\n",
    "# optimizer = torch.optim.RMSprop(model.parameters(), lr=lr)\n",
    "# optimizer = torch.optim.Adamax(model.parameters(), lr=lr)\n",
    "# optimizer = torch.optim.Adadelta(model.parameters(), lr=lr)\n",
    "\n",
    "# optimizer = torch.optim.SGD(model.parameters(), lr=0.001)\n",
    "\n",
    "# criterion = torch.nn.BCELoss()\n",
    "# criterion = torch.nn.BCEWithLogitsLoss()\n",
    "# criterion = torch.nn.CrossEntropyLoss()\n",
    "# criterion = torch.nn.KLDivLoss()\n",
    "\n",
    "# def RMSELoss(y_pred, y_true):\n",
    "#     return torch.sqrt(torch.mean((y_pred - y_true) ** 2))\n",
    "\n",
    "criterion = f_loss"
   ]
  },
  {
   "cell_type": "code",
   "execution_count": 31,
   "id": "7d6e0720",
   "metadata": {},
   "outputs": [
    {
     "data": {
      "text/plain": [
       "tensor([[-0.0606],\n",
       "        [-0.1172],\n",
       "        [-0.1171],\n",
       "        [-0.1886],\n",
       "        [-0.1391],\n",
       "        [-0.1822],\n",
       "        [-0.1245],\n",
       "        [-0.1004],\n",
       "        [-0.0970],\n",
       "        [-0.1148],\n",
       "        [-0.1130],\n",
       "        [-0.1252],\n",
       "        [-0.1241],\n",
       "        [-0.0981],\n",
       "        [-0.1179],\n",
       "        [-0.0809],\n",
       "        [-0.1006],\n",
       "        [-0.1143],\n",
       "        [-0.1180],\n",
       "        [-0.1343],\n",
       "        [-0.1245],\n",
       "        [-0.1651],\n",
       "        [-0.0910],\n",
       "        [-0.0969],\n",
       "        [-0.0785],\n",
       "        [-0.0734],\n",
       "        [-0.0640],\n",
       "        [-0.0574],\n",
       "        [-0.0708],\n",
       "        [-0.0807],\n",
       "        [-0.0749],\n",
       "        [-0.0888],\n",
       "        [-0.0859],\n",
       "        [-0.1144],\n",
       "        [-0.0947],\n",
       "        [-0.1097],\n",
       "        [-0.0997],\n",
       "        [-0.1064],\n",
       "        [-0.1456],\n",
       "        [-0.1173],\n",
       "        [-0.1662],\n",
       "        [-0.1096],\n",
       "        [-0.0804]], device='cuda:0', grad_fn=<AddmmBackward0>)"
      ]
     },
     "execution_count": 31,
     "metadata": {},
     "output_type": "execute_result"
    }
   ],
   "source": [
    "model(train_data[0].x, train_data[0].edge_index)"
   ]
  },
  {
   "cell_type": "code",
   "execution_count": 36,
   "id": "79405b81",
   "metadata": {},
   "outputs": [
    {
     "data": {
      "text/html": [
       "Finishing last run (ID:zrcyypk0) before initializing another..."
      ],
      "text/plain": [
       "<IPython.core.display.HTML object>"
      ]
     },
     "metadata": {},
     "output_type": "display_data"
    },
    {
     "data": {
      "text/html": [
       "Waiting for W&B process to finish... <strong style=\"color:green\">(success).</strong>"
      ],
      "text/plain": [
       "<IPython.core.display.HTML object>"
      ]
     },
     "metadata": {},
     "output_type": "display_data"
    },
    {
     "data": {
      "application/vnd.jupyter.widget-view+json": {
       "model_id": "a514519ed7474754a0a37b4cac00c967",
       "version_major": 2,
       "version_minor": 0
      },
      "text/plain": [
       "VBox(children=(Label(value='0.002 MB of 0.002 MB uploaded (0.000 MB deduped)\\r'), FloatProgress(value=1.0, max…"
      ]
     },
     "metadata": {},
     "output_type": "display_data"
    },
    {
     "data": {
      "text/html": [
       "<style>\n",
       "    table.wandb td:nth-child(1) { padding: 0 10px; text-align: left ; width: auto;} td:nth-child(2) {text-align: left ; width: 100%}\n",
       "    .wandb-row { display: flex; flex-direction: row; flex-wrap: wrap; justify-content: flex-start; width: 100% }\n",
       "    .wandb-col { display: flex; flex-direction: column; flex-basis: 100%; flex: 1; padding: 10px; }\n",
       "    </style>\n",
       "<div class=\"wandb-row\"><div class=\"wandb-col\"><h3>Run history:</h3><br/><table class=\"wandb\"><tr><td>train_f1</td><td>▁▅▆▆▆▆▆▆▇██████▆▇</td></tr><tr><td>train_loss</td><td>█▄▃▃▃▃▃▃▂▁▁▁▁▁▁▃▂</td></tr><tr><td>train_precision</td><td>▁▅▆▆▆▆▆▆▇██████▆▇</td></tr><tr><td>train_recall</td><td>▃▅▄▅▄▄▃▃▄██████▁▄</td></tr><tr><td>val_f1</td><td>▁▅▆▆▆▆▆█▇██████▇█</td></tr><tr><td>val_loss</td><td>█▄▃▃▃▃▃▁▂▁▁▁▁▁▁▂▁</td></tr><tr><td>val_precision</td><td>▁▅▆▆▆▆▆█▇██████▇█</td></tr><tr><td>val_recall</td><td>▁▆▇▅▅▃▂▇▅█████▇▅█</td></tr></table><br/></div><div class=\"wandb-col\"><h3>Run summary:</h3><br/><table class=\"wandb\"><tr><td>train_f1</td><td>0.00369</td></tr><tr><td>train_loss</td><td>0.99631</td></tr><tr><td>train_precision</td><td>0.00185</td></tr><tr><td>train_recall</td><td>0.97671</td></tr><tr><td>val_f1</td><td>0.00356</td></tr><tr><td>val_loss</td><td>0.99645</td></tr><tr><td>val_precision</td><td>0.00178</td></tr><tr><td>val_recall</td><td>0.98578</td></tr></table><br/></div></div>"
      ],
      "text/plain": [
       "<IPython.core.display.HTML object>"
      ]
     },
     "metadata": {},
     "output_type": "display_data"
    },
    {
     "data": {
      "text/html": [
       " View run <strong style=\"color:#cdcd00\">ResGCN_bs1_9*2_1e-05_Adam_200_1</strong> at: <a href='https://wandb.ai/chi-vinny0702/secondary_structure_prediction1/runs/zrcyypk0' target=\"_blank\">https://wandb.ai/chi-vinny0702/secondary_structure_prediction1/runs/zrcyypk0</a><br/>Synced 5 W&B file(s), 0 media file(s), 0 artifact file(s) and 0 other file(s)"
      ],
      "text/plain": [
       "<IPython.core.display.HTML object>"
      ]
     },
     "metadata": {},
     "output_type": "display_data"
    },
    {
     "data": {
      "text/html": [
       "Find logs at: <code>./wandb/run-20230414_135137-zrcyypk0/logs</code>"
      ],
      "text/plain": [
       "<IPython.core.display.HTML object>"
      ]
     },
     "metadata": {},
     "output_type": "display_data"
    },
    {
     "data": {
      "text/html": [
       "Successfully finished last run (ID:zrcyypk0). Initializing new run:<br/>"
      ],
      "text/plain": [
       "<IPython.core.display.HTML object>"
      ]
     },
     "metadata": {},
     "output_type": "display_data"
    },
    {
     "data": {
      "application/vnd.jupyter.widget-view+json": {
       "model_id": "16680b61f0e44db29fa1bba52f6f1962",
       "version_major": 2,
       "version_minor": 0
      },
      "text/plain": [
       "VBox(children=(Label(value='Waiting for wandb.init()...\\r'), FloatProgress(value=0.016669799849235764, max=1.0…"
      ]
     },
     "metadata": {},
     "output_type": "display_data"
    },
    {
     "data": {
      "text/html": [
       "wandb version 0.14.2 is available!  To upgrade, please run:\n",
       " $ pip install wandb --upgrade"
      ],
      "text/plain": [
       "<IPython.core.display.HTML object>"
      ]
     },
     "metadata": {},
     "output_type": "display_data"
    },
    {
     "data": {
      "text/html": [
       "Tracking run with wandb version 0.13.10"
      ],
      "text/plain": [
       "<IPython.core.display.HTML object>"
      ]
     },
     "metadata": {},
     "output_type": "display_data"
    },
    {
     "data": {
      "text/html": [
       "Run data is saved locally in <code>/home/vdshk/SecondaryStructurePredictionGNN/wandb/run-20230414_135704-kywpf9rd</code>"
      ],
      "text/plain": [
       "<IPython.core.display.HTML object>"
      ]
     },
     "metadata": {},
     "output_type": "display_data"
    },
    {
     "data": {
      "text/html": [
       "Syncing run <strong><a href='https://wandb.ai/chi-vinny0702/secondary_structure_prediction1/runs/kywpf9rd' target=\"_blank\">ResGCN_bs4_6*4_1e-05_Adam_200_1</a></strong> to <a href='https://wandb.ai/chi-vinny0702/secondary_structure_prediction1' target=\"_blank\">Weights & Biases</a> (<a href='https://wandb.me/run' target=\"_blank\">docs</a>)<br/>"
      ],
      "text/plain": [
       "<IPython.core.display.HTML object>"
      ]
     },
     "metadata": {},
     "output_type": "display_data"
    },
    {
     "data": {
      "text/html": [
       " View project at <a href='https://wandb.ai/chi-vinny0702/secondary_structure_prediction1' target=\"_blank\">https://wandb.ai/chi-vinny0702/secondary_structure_prediction1</a>"
      ],
      "text/plain": [
       "<IPython.core.display.HTML object>"
      ]
     },
     "metadata": {},
     "output_type": "display_data"
    },
    {
     "data": {
      "text/html": [
       " View run at <a href='https://wandb.ai/chi-vinny0702/secondary_structure_prediction1/runs/kywpf9rd' target=\"_blank\">https://wandb.ai/chi-vinny0702/secondary_structure_prediction1/runs/kywpf9rd</a>"
      ],
      "text/plain": [
       "<IPython.core.display.HTML object>"
      ]
     },
     "metadata": {},
     "output_type": "display_data"
    }
   ],
   "source": [
    "run_name = \"ResGCN_bs4_\" + str(num_layers) + \"*4_\" + str(lr) + \"_\" + \"Adam_\" + str(out_channels) + \"_\" + str(beta)\n",
    "\n",
    "\n",
    "wandb.init(\n",
    "    # set the wandb project where this run will be logged\n",
    "    project=\"secondary_structure_prediction1\",\n",
    "    \n",
    "    # track hyperparameters and run metadata\n",
    "    config={\n",
    "    \"learning_rate\": lr,\n",
    "    \"architecture\": \"DeepGCN\",\n",
    "    \"epochs\": epochs,\n",
    "    \"optimizer\": \"Adam\",\n",
    "    \"out_channels\": out_channels,\n",
    "    \"loss\": \"f_loss\",\n",
    "    \"beta\": beta,\n",
    "    \"train:val:test\": \"655:218:218\"\n",
    "    },\n",
    "    name=run_name\n",
    ")\n",
    "\n",
    "epsilon = 1e-10"
   ]
  },
  {
   "cell_type": "code",
   "execution_count": 37,
   "id": "ad9b0229",
   "metadata": {},
   "outputs": [],
   "source": [
    "def train():\n",
    "    for epoch in range(1, epochs + 1):\n",
    "        model.train()\n",
    "        train_loss = []\n",
    "        train_recall = []\n",
    "        train_precision = []\n",
    "        for g in tqdm(train_dataloader):\n",
    "            g.to(device)\n",
    "            optimizer.zero_grad()\n",
    "\n",
    "            out = model(g.x, g.edge_index)\n",
    "            y_true = g.adj_mat\n",
    "#             print(out.size(),y_true.size())\n",
    "            loss = criterion(out, y_true.to(torch.float32))            \n",
    "            \n",
    "            loss.backward()\n",
    "            optimizer.step()\n",
    "            \n",
    "#             out = out.sigmoid()\n",
    "            \n",
    "            train_loss.append(loss.item())\n",
    "            train_precision.append(precision(out, y_true).item())\n",
    "            train_recall.append(recall(out, y_true).item())\n",
    "            \n",
    "        train_prec = np.mean(train_precision)\n",
    "        train_rec = np.mean(train_recall)\n",
    "        train_f1 = (2 * train_prec * train_rec) / (train_prec + train_rec)\n",
    "        print(f'Epoch: {epoch:03d}, loss: {np.mean(train_loss)}, f1: {train_f1}, precision: {train_prec}, recall: {train_rec}')\n",
    "        \n",
    "        val_loss = []\n",
    "        val_recall = []\n",
    "        val_precision = []\n",
    "        with torch.no_grad():\n",
    "            for g in val_dataloader:\n",
    "                g.to(device)\n",
    "                out = model(g.x, g.edge_index)\n",
    "        \n",
    "                y_true = g.adj_mat\n",
    "                loss = criterion(out, y_true.to(torch.float32))\n",
    "                                \n",
    "                val_loss.append(loss.item())\n",
    "                \n",
    "#                 out = out.sigmoid()\n",
    "                \n",
    "                val_precision.append(precision(out, y_true).item())\n",
    "                val_recall.append(recall(out, y_true).item())\n",
    " \n",
    "            \n",
    "            prec = np.mean(val_precision)\n",
    "            rec = np.mean(val_recall)\n",
    "            f1 = (2 * prec * rec) / (prec + rec)\n",
    "            print(f'val_loss: {np.mean(val_loss)}, val_f1: {f1}, val_precision: {prec}, val_recall: {rec}')\n",
    "              \n",
    "            wandb.log({\"train_loss\": np.mean(train_loss), \"train_f1\": train_f1, \"train_precision\": train_prec, \n",
    "                       \"train_recall\": train_rec,\n",
    "                       \"val_loss\": np.mean(val_loss), \"val_f1\": f1, \"val_precision\": prec, \"val_recall\": rec})\n",
    "#     wandb.finish()"
   ]
  },
  {
   "cell_type": "code",
   "execution_count": 38,
   "id": "02e9df65",
   "metadata": {},
   "outputs": [
    {
     "data": {
      "application/vnd.jupyter.widget-view+json": {
       "model_id": "5f370f2319ba4faaa516bbb324e143cf",
       "version_major": 2,
       "version_minor": 0
      },
      "text/plain": [
       "  0%|          | 0/164 [00:00<?, ?it/s]"
      ]
     },
     "metadata": {},
     "output_type": "display_data"
    },
    {
     "name": "stdout",
     "output_type": "stream",
     "text": [
      "Epoch: 001, loss: 0.9970172232970959, f1: 0.0029833825243262557, precision: 0.0014939595653786233, recall: 0.9824640790863735\n",
      "val_loss: 0.9962828766315355, val_f1: 0.003720608049378942, val_precision: 0.0018638778751456486, val_recall: 0.9702083383678296\n"
     ]
    },
    {
     "data": {
      "application/vnd.jupyter.widget-view+json": {
       "model_id": "9045dd8b6e794c03801d2e442d65c76e",
       "version_major": 2,
       "version_minor": 0
      },
      "text/plain": [
       "  0%|          | 0/164 [00:00<?, ?it/s]"
      ]
     },
     "metadata": {},
     "output_type": "display_data"
    },
    {
     "name": "stdout",
     "output_type": "stream",
     "text": [
      "Epoch: 002, loss: 0.9968186758640336, f1: 0.003182029413234458, precision: 0.0015935917907016828, recall: 0.9838359526744703\n",
      "val_loss: 0.9961646035176899, val_f1: 0.0038388646519574845, val_precision: 0.0019232413504291924, val_recall: 0.9691540883221758\n"
     ]
    },
    {
     "data": {
      "application/vnd.jupyter.widget-view+json": {
       "model_id": "a74cecc026f44d5fb3318e3cceed40e3",
       "version_major": 2,
       "version_minor": 0
      },
      "text/plain": [
       "  0%|          | 0/164 [00:00<?, ?it/s]"
      ]
     },
     "metadata": {},
     "output_type": "display_data"
    },
    {
     "name": "stdout",
     "output_type": "stream",
     "text": [
      "Epoch: 003, loss: 0.9967259393959511, f1: 0.003274774779179742, precision: 0.00164012404292873, recall: 0.9813148004979622\n",
      "val_loss: 0.9961094238342495, val_f1: 0.003893997244927448, val_precision: 0.0019509260329885682, val_recall: 0.9671640575205515\n"
     ]
    },
    {
     "data": {
      "application/vnd.jupyter.widget-view+json": {
       "model_id": "941e3a906a5e4e4fa513024a543a912c",
       "version_major": 2,
       "version_minor": 0
      },
      "text/plain": [
       "  0%|          | 0/164 [00:00<?, ?it/s]"
      ]
     },
     "metadata": {},
     "output_type": "display_data"
    },
    {
     "name": "stdout",
     "output_type": "stream",
     "text": [
      "Epoch: 004, loss: 0.9966351219066759, f1: 0.0033655874889711016, precision: 0.00168568465862957, recall: 0.981232737259167\n",
      "val_loss: 0.9960243406645749, val_f1: 0.0039790941895839135, val_precision: 0.0019936423139019716, val_recall: 0.9685550802344576\n"
     ]
    },
    {
     "data": {
      "application/vnd.jupyter.widget-view+json": {
       "model_id": "8e78f2155a4d461bba0ad9161a7312b7",
       "version_major": 2,
       "version_minor": 0
      },
      "text/plain": [
       "  0%|          | 0/164 [00:00<?, ?it/s]"
      ]
     },
     "metadata": {},
     "output_type": "display_data"
    },
    {
     "name": "stdout",
     "output_type": "stream",
     "text": [
      "Epoch: 005, loss: 0.9965501293176557, f1: 0.0034505760825444343, precision: 0.0017283305118681023, recall: 0.9800811115561462\n",
      "val_loss: 0.9959405778198067, val_f1: 0.004062870935398952, val_precision: 0.0020357006779629437, val_recall: 0.9695640550840885\n"
     ]
    },
    {
     "data": {
      "application/vnd.jupyter.widget-view+json": {
       "model_id": "b48cb2991bee4cd6b619d3409a452751",
       "version_major": 2,
       "version_minor": 0
      },
      "text/plain": [
       "  0%|          | 0/164 [00:00<?, ?it/s]"
      ]
     },
     "metadata": {},
     "output_type": "display_data"
    },
    {
     "name": "stdout",
     "output_type": "stream",
     "text": [
      "Epoch: 006, loss: 0.9964173577907609, f1: 0.0035833743519485617, precision: 0.0017949578575165261, recall: 0.9832822098964598\n",
      "val_loss: 0.9958375317787905, val_f1: 0.004165932087304215, val_precision: 0.0020874479478235793, val_recall: 0.9701419367429314\n"
     ]
    },
    {
     "data": {
      "application/vnd.jupyter.widget-view+json": {
       "model_id": "1c4e28f740bf45b79b8442f89160b74e",
       "version_major": 2,
       "version_minor": 0
      },
      "text/plain": [
       "  0%|          | 0/164 [00:00<?, ?it/s]"
      ]
     },
     "metadata": {},
     "output_type": "display_data"
    },
    {
     "name": "stdout",
     "output_type": "stream",
     "text": [
      "Epoch: 007, loss: 0.9962841872035003, f1: 0.0037165604971285205, precision: 0.0018618098895275602, recall: 0.9802029668921377\n",
      "val_loss: 0.9956986783841334, val_f1: 0.00430485430876195, val_precision: 0.00215719986036516, val_recall: 0.9728685513548895\n"
     ]
    },
    {
     "data": {
      "application/vnd.jupyter.widget-view+json": {
       "model_id": "3efa19f7072f41508030b8d2cba356cc",
       "version_major": 2,
       "version_minor": 0
      },
      "text/plain": [
       "  0%|          | 0/164 [00:00<?, ?it/s]"
      ]
     },
     "metadata": {},
     "output_type": "display_data"
    },
    {
     "name": "stdout",
     "output_type": "stream",
     "text": [
      "Epoch: 008, loss: 0.9960891880640169, f1: 0.0039115721751522975, precision: 0.001959671839580462, recall: 0.9863467652623247\n",
      "val_loss: 0.9955269185774916, val_f1: 0.004476634587582354, val_precision: 0.0022434534164174425, val_recall: 0.9776948381454573\n"
     ]
    },
    {
     "data": {
      "application/vnd.jupyter.widget-view+json": {
       "model_id": "d8578a7d7e724dae9690ac4f4b0271ce",
       "version_major": 2,
       "version_minor": 0
      },
      "text/plain": [
       "  0%|          | 0/164 [00:00<?, ?it/s]"
      ]
     },
     "metadata": {},
     "output_type": "display_data"
    },
    {
     "name": "stdout",
     "output_type": "stream",
     "text": [
      "Epoch: 009, loss: 0.9958843243558232, f1: 0.004116461310347417, precision: 0.0020625305297449457, recall: 0.9872761386923674\n",
      "val_loss: 0.9953811234290447, val_f1: 0.004622482359945438, val_precision: 0.0023167392893410246, val_recall: 0.9738880931784254\n"
     ]
    },
    {
     "data": {
      "application/vnd.jupyter.widget-view+json": {
       "model_id": "dfd607195116463fbdb5a8a95395b54d",
       "version_major": 2,
       "version_minor": 0
      },
      "text/plain": [
       "  0%|          | 0/164 [00:00<?, ?it/s]"
      ]
     },
     "metadata": {},
     "output_type": "display_data"
    },
    {
     "name": "stdout",
     "output_type": "stream",
     "text": [
      "Epoch: 010, loss: 0.9956619630499584, f1: 0.004338843504896178, precision: 0.0021741930122072695, recall: 0.9885736373139591\n",
      "val_loss: 0.9952078125345598, val_f1: 0.004795823085717932, val_precision: 0.0024038097736267627, val_recall: 0.9772630861592949\n"
     ]
    },
    {
     "data": {
      "application/vnd.jupyter.widget-view+json": {
       "model_id": "d95e8f177e38428b95838e98dc3a24f4",
       "version_major": 2,
       "version_minor": 0
      },
      "text/plain": [
       "  0%|          | 0/164 [00:00<?, ?it/s]"
      ]
     },
     "metadata": {},
     "output_type": "display_data"
    },
    {
     "name": "stdout",
     "output_type": "stream",
     "text": [
      "Epoch: 011, loss: 0.9954580661000275, f1: 0.004542750175005795, precision: 0.0022766025812881886, recall: 0.9891964676903515\n",
      "val_loss: 0.9950460589260136, val_f1: 0.004957618067808758, val_precision: 0.0024851004215525547, val_recall: 0.97913047479927\n"
     ]
    },
    {
     "data": {
      "application/vnd.jupyter.widget-view+json": {
       "model_id": "8d4b92cdb73a4c8d8e953e6be5244e57",
       "version_major": 2,
       "version_minor": 0
      },
      "text/plain": [
       "  0%|          | 0/164 [00:00<?, ?it/s]"
      ]
     },
     "metadata": {},
     "output_type": "display_data"
    },
    {
     "name": "stdout",
     "output_type": "stream",
     "text": [
      "Epoch: 012, loss: 0.9952940755501026, f1: 0.004706756674658204, precision: 0.0023589945904393794, recall: 0.9884894177681063\n",
      "val_loss: 0.9948892836723853, val_f1: 0.005114459859800882, val_precision: 0.002563902869934874, val_recall: 0.9825487899670907\n"
     ]
    },
    {
     "data": {
      "application/vnd.jupyter.widget-view+json": {
       "model_id": "5d821825f4b640b593ca315ae4c1d01b",
       "version_major": 2,
       "version_minor": 0
      },
      "text/plain": [
       "  0%|          | 0/164 [00:00<?, ?it/s]"
      ]
     },
     "metadata": {},
     "output_type": "display_data"
    },
    {
     "name": "stdout",
     "output_type": "stream",
     "text": [
      "Epoch: 013, loss: 0.995163792517127, f1: 0.004837039987525067, precision: 0.002424448887922619, recall: 0.988983434511394\n",
      "val_loss: 0.9948016714065446, val_f1: 0.005202142754719768, val_precision: 0.002607976532740937, val_recall: 0.9823867440770525\n"
     ]
    },
    {
     "data": {
      "application/vnd.jupyter.widget-view+json": {
       "model_id": "bc14e7de62e042298f260ea2bec48088",
       "version_major": 2,
       "version_minor": 0
      },
      "text/plain": [
       "  0%|          | 0/164 [00:00<?, ?it/s]"
      ]
     },
     "metadata": {},
     "output_type": "display_data"
    },
    {
     "name": "stdout",
     "output_type": "stream",
     "text": [
      "Epoch: 014, loss: 0.9950815820839347, f1: 0.004919259718614511, precision: 0.0024657604879438424, recall: 0.9892718155936497\n",
      "val_loss: 0.9947826206137281, val_f1: 0.005221111229550582, val_precision: 0.0026175318293299083, val_recall: 0.9795014703765922\n"
     ]
    },
    {
     "data": {
      "application/vnd.jupyter.widget-view+json": {
       "model_id": "4605acd2f7524201b4d59955adcff952",
       "version_major": 2,
       "version_minor": 0
      },
      "text/plain": [
       "  0%|          | 0/164 [00:00<?, ?it/s]"
      ]
     },
     "metadata": {},
     "output_type": "display_data"
    },
    {
     "name": "stdout",
     "output_type": "stream",
     "text": [
      "Epoch: 015, loss: 0.9950211258923135, f1: 0.004979716378445942, precision: 0.0024961324070762025, recall: 0.9905642201987709\n",
      "val_loss: 0.9947482396703248, val_f1: 0.005255510237604673, val_precision: 0.002634827583604236, val_recall: 0.9789630438483089\n"
     ]
    },
    {
     "data": {
      "application/vnd.jupyter.widget-view+json": {
       "model_id": "f19d23f22a514b39af00c1a4b6c015b2",
       "version_major": 2,
       "version_minor": 0
      },
      "text/plain": [
       "  0%|          | 0/164 [00:00<?, ?it/s]"
      ]
     },
     "metadata": {},
     "output_type": "display_data"
    },
    {
     "name": "stdout",
     "output_type": "stream",
     "text": [
      "Epoch: 016, loss: 0.9949890618644109, f1: 0.005011781884033899, precision: 0.0025122597807927466, recall: 0.9884767459660042\n",
      "val_loss: 0.9947330683743189, val_f1: 0.005270663645891786, val_precision: 0.0026424549610264293, val_recall: 0.9776232849567308\n"
     ]
    },
    {
     "data": {
      "application/vnd.jupyter.widget-view+json": {
       "model_id": "71019a7cd10344ca860a5d344cebd1b6",
       "version_major": 2,
       "version_minor": 0
      },
      "text/plain": [
       "  0%|          | 0/164 [00:00<?, ?it/s]"
      ]
     },
     "metadata": {},
     "output_type": "display_data"
    },
    {
     "name": "stdout",
     "output_type": "stream",
     "text": [
      "Epoch: 017, loss: 0.9949494836533942, f1: 0.005051363349964549, precision: 0.002532141103917483, recall: 0.9900847967804932\n",
      "val_loss: 0.9946591433035125, val_f1: 0.005344655703219712, val_precision: 0.002679607422687028, val_recall: 0.9836828943786271\n"
     ]
    },
    {
     "data": {
      "application/vnd.jupyter.widget-view+json": {
       "model_id": "f5a5b0db2ca94eb3bb8cdf3939ea3bab",
       "version_major": 2,
       "version_minor": 0
      },
      "text/plain": [
       "  0%|          | 0/164 [00:00<?, ?it/s]"
      ]
     },
     "metadata": {},
     "output_type": "display_data"
    },
    {
     "name": "stdout",
     "output_type": "stream",
     "text": [
      "Epoch: 018, loss: 0.9949167476194661, f1: 0.005084099733404975, precision: 0.0025485849125799157, recall: 0.9913671699965872\n",
      "val_loss: 0.9946370444713383, val_f1: 0.005366793228357363, val_precision: 0.002690733408815988, val_recall: 0.9841225324967585\n"
     ]
    },
    {
     "data": {
      "application/vnd.jupyter.widget-view+json": {
       "model_id": "a15a063659b344b887bb2921ccda06c6",
       "version_major": 2,
       "version_minor": 0
      },
      "text/plain": [
       "  0%|          | 0/164 [00:00<?, ?it/s]"
      ]
     },
     "metadata": {},
     "output_type": "display_data"
    },
    {
     "name": "stdout",
     "output_type": "stream",
     "text": [
      "Epoch: 019, loss: 0.9948991809676333, f1: 0.005101665127204741, precision: 0.002557410735412637, recall: 0.9916929460880233\n",
      "val_loss: 0.9946618987879622, val_f1: 0.0053418390331499265, val_precision: 0.002678207685309035, val_recall: 0.9814917076071468\n"
     ]
    },
    {
     "data": {
      "application/vnd.jupyter.widget-view+json": {
       "model_id": "6ea52ac0d3ae4fc68dfb70dc8ccd0d08",
       "version_major": 2,
       "version_minor": 0
      },
      "text/plain": [
       "  0%|          | 0/164 [00:00<?, ?it/s]"
      ]
     },
     "metadata": {},
     "output_type": "display_data"
    },
    {
     "name": "stdout",
     "output_type": "stream",
     "text": [
      "Epoch: 020, loss: 0.9948814863838801, f1: 0.005119361106530381, precision: 0.0025663124422241773, recall: 0.9905081482195273\n",
      "val_loss: 0.9946156398418846, val_f1: 0.005388160462556036, val_precision: 0.002701471423128953, val_recall: 0.9846829717312384\n"
     ]
    },
    {
     "data": {
      "application/vnd.jupyter.widget-view+json": {
       "model_id": "29d6848dc17e4ecab177e315b87b9c99",
       "version_major": 2,
       "version_minor": 0
      },
      "text/plain": [
       "  0%|          | 0/164 [00:00<?, ?it/s]"
      ]
     },
     "metadata": {},
     "output_type": "display_data"
    },
    {
     "name": "stdout",
     "output_type": "stream",
     "text": [
      "Epoch: 021, loss: 0.9948647978102289, f1: 0.005136051873786606, precision: 0.0025746919198398957, recall: 0.9918830700036956\n",
      "val_loss: 0.9945983326216357, val_f1: 0.005405502430346675, val_precision: 0.002710189238573006, val_recall: 0.984800243869834\n"
     ]
    },
    {
     "data": {
      "application/vnd.jupyter.widget-view+json": {
       "model_id": "d7ec6970402c467598c4911b520e3e74",
       "version_major": 2,
       "version_minor": 0
      },
      "text/plain": [
       "  0%|          | 0/164 [00:00<?, ?it/s]"
      ]
     },
     "metadata": {},
     "output_type": "display_data"
    },
    {
     "name": "stdout",
     "output_type": "stream",
     "text": [
      "Epoch: 022, loss: 0.9948548540109541, f1: 0.005145995149769182, precision: 0.002579693346732955, recall: 0.9913038967586145\n",
      "val_loss: 0.9946307693052729, val_f1: 0.005372960296376774, val_precision: 0.0026938508844393983, val_recall: 0.9818526503689792\n"
     ]
    },
    {
     "data": {
      "application/vnd.jupyter.widget-view+json": {
       "model_id": "d1e12534feea49aa994e4408a27e5c71",
       "version_major": 2,
       "version_minor": 0
      },
      "text/plain": [
       "  0%|          | 0/164 [00:00<?, ?it/s]"
      ]
     },
     "metadata": {},
     "output_type": "display_data"
    },
    {
     "name": "stdout",
     "output_type": "stream",
     "text": [
      "Epoch: 023, loss: 0.9948391645419888, f1: 0.005161685189639637, precision: 0.002587574446806684, recall: 0.9920185949744248\n",
      "val_loss: 0.9945798683057138, val_f1: 0.005423957227225156, val_precision: 0.002719466092007303, val_recall: 0.9849956812114891\n"
     ]
    },
    {
     "data": {
      "application/vnd.jupyter.widget-view+json": {
       "model_id": "1e737c00613849b7943b2fb1439fcf32",
       "version_major": 2,
       "version_minor": 0
      },
      "text/plain": [
       "  0%|          | 0/164 [00:00<?, ?it/s]"
      ]
     },
     "metadata": {},
     "output_type": "display_data"
    },
    {
     "name": "stdout",
     "output_type": "stream",
     "text": [
      "Epoch: 024, loss: 0.9948302714562998, f1: 0.005170577922899805, precision: 0.002592050212026551, recall: 0.9911182442816292\n",
      "val_loss: 0.9945830046583753, val_f1: 0.005420764387772206, val_precision: 0.0027178603969674575, val_recall: 0.9850548781933041\n"
     ]
    },
    {
     "data": {
      "application/vnd.jupyter.widget-view+json": {
       "model_id": "334d17f7f978460285093354ce72e4ff",
       "version_major": 2,
       "version_minor": 0
      },
      "text/plain": [
       "  0%|          | 0/164 [00:00<?, ?it/s]"
      ]
     },
     "metadata": {},
     "output_type": "display_data"
    },
    {
     "name": "stdout",
     "output_type": "stream",
     "text": [
      "Epoch: 025, loss: 0.9948242859142583, f1: 0.005176563502226152, precision: 0.0025950600914855875, recall: 0.9909131599635612\n",
      "val_loss: 0.9945743111295438, val_f1: 0.005429464462003949, val_precision: 0.0027222341473092573, val_recall: 0.9850998701305564\n"
     ]
    },
    {
     "data": {
      "application/vnd.jupyter.widget-view+json": {
       "model_id": "109abe0c71634e19924a77c26fc0c050",
       "version_major": 2,
       "version_minor": 0
      },
      "text/plain": [
       "  0%|          | 0/164 [00:00<?, ?it/s]"
      ]
     },
     "metadata": {},
     "output_type": "display_data"
    },
    {
     "name": "stdout",
     "output_type": "stream",
     "text": [
      "Epoch: 026, loss: 0.9948128741688844, f1: 0.005187976750817617, precision: 0.0026007917938220154, recall: 0.9916226329599939\n",
      "val_loss: 0.9945664124204479, val_f1: 0.005437367310510458, val_precision: 0.002726207207995168, val_recall: 0.985132321578647\n"
     ]
    },
    {
     "data": {
      "application/vnd.jupyter.widget-view+json": {
       "model_id": "da5cf0cfbb534868804833c55cee629e",
       "version_major": 2,
       "version_minor": 0
      },
      "text/plain": [
       "  0%|          | 0/164 [00:00<?, ?it/s]"
      ]
     },
     "metadata": {},
     "output_type": "display_data"
    },
    {
     "name": "stdout",
     "output_type": "stream",
     "text": [
      "Epoch: 027, loss: 0.9948084783263322, f1: 0.005192367172881898, precision: 0.0026029990535235124, recall: 0.9915480973517022\n",
      "val_loss: 0.9945652257958684, val_f1: 0.005438542871868034, val_precision: 0.002726798097190763, val_recall: 0.9851518388188213\n"
     ]
    },
    {
     "data": {
      "application/vnd.jupyter.widget-view+json": {
       "model_id": "52a0b7e243e742beb61fc2c9cee369c7",
       "version_major": 2,
       "version_minor": 0
      },
      "text/plain": [
       "  0%|          | 0/164 [00:00<?, ?it/s]"
      ]
     },
     "metadata": {},
     "output_type": "display_data"
    },
    {
     "name": "stdout",
     "output_type": "stream",
     "text": [
      "Epoch: 028, loss: 0.9948020439322401, f1: 0.005198805994416198, precision: 0.002606235834608059, recall: 0.9914852122708064\n",
      "val_loss: 0.9945927193952263, val_f1: 0.005411010180913948, val_precision: 0.002712978793061424, val_recall: 0.9821073065657134\n"
     ]
    },
    {
     "data": {
      "application/vnd.jupyter.widget-view+json": {
       "model_id": "051bb7d9148e4bccb2bdddb5a93060e0",
       "version_major": 2,
       "version_minor": 0
      },
      "text/plain": [
       "  0%|          | 0/164 [00:00<?, ?it/s]"
      ]
     },
     "metadata": {},
     "output_type": "display_data"
    },
    {
     "name": "stdout",
     "output_type": "stream",
     "text": [
      "Epoch: 029, loss: 0.9947973682386119, f1: 0.0052034804261243805, precision: 0.0026085853655453454, recall: 0.991484333102296\n",
      "val_loss: 0.9945601632288836, val_f1: 0.0054435901335992895, val_precision: 0.0027293355517631927, val_recall: 0.9851743059420804\n"
     ]
    },
    {
     "data": {
      "application/vnd.jupyter.widget-view+json": {
       "model_id": "bde3bbf531b44a3e875ce653f410a1ab",
       "version_major": 2,
       "version_minor": 0
      },
      "text/plain": [
       "  0%|          | 0/164 [00:00<?, ?it/s]"
      ]
     },
     "metadata": {},
     "output_type": "display_data"
    },
    {
     "name": "stdout",
     "output_type": "stream",
     "text": [
      "Epoch: 030, loss: 0.9947895055137029, f1: 0.005211342521127428, precision: 0.0026125354041407886, recall: 0.9917345613968082\n",
      "val_loss: 0.9945521083993649, val_f1: 0.005451661288021997, val_precision: 0.0027333934971082254, val_recall: 0.985179489905681\n"
     ]
    },
    {
     "data": {
      "application/vnd.jupyter.widget-view+json": {
       "model_id": "f135b5f843a841fe8850e68d84723450",
       "version_major": 2,
       "version_minor": 0
      },
      "text/plain": [
       "  0%|          | 0/164 [00:00<?, ?it/s]"
      ]
     },
     "metadata": {},
     "output_type": "display_data"
    },
    {
     "name": "stdout",
     "output_type": "stream",
     "text": [
      "Epoch: 031, loss: 0.9947820691073813, f1: 0.00521878022014237, precision: 0.0026162736768771825, recall: 0.9917647129878765\n",
      "val_loss: 0.994554357244334, val_f1: 0.0054493825402224215, val_precision: 0.002732247767282154, val_recall: 0.9851828791679592\n"
     ]
    },
    {
     "data": {
      "application/vnd.jupyter.widget-view+json": {
       "model_id": "b6b83db036d44dd588e403ef6245e278",
       "version_major": 2,
       "version_minor": 0
      },
      "text/plain": [
       "  0%|          | 0/164 [00:00<?, ?it/s]"
      ]
     },
     "metadata": {},
     "output_type": "display_data"
    },
    {
     "name": "stdout",
     "output_type": "stream",
     "text": [
      "Epoch: 032, loss: 0.9947805186597313, f1: 0.005220330372410802, precision: 0.002617054779675971, recall: 0.9914874230943075\n",
      "val_loss: 0.994574895419112, val_f1: 0.005428843134122581, val_precision: 0.0027219445322888025, val_recall: 0.9821266906523923\n"
     ]
    },
    {
     "data": {
      "application/vnd.jupyter.widget-view+json": {
       "model_id": "544b28ec1a604b1494870f7ee00bfd28",
       "version_major": 2,
       "version_minor": 0
      },
      "text/plain": [
       "  0%|          | 0/164 [00:00<?, ?it/s]"
      ]
     },
     "metadata": {},
     "output_type": "display_data"
    },
    {
     "name": "stdout",
     "output_type": "stream",
     "text": [
      "Epoch: 033, loss: 0.9947853233756089, f1: 0.00521552155409893, precision: 0.0026146484774582815, recall: 0.989935296337779\n",
      "val_loss: 0.9945424989275976, val_f1: 0.0054612712249793366, val_precision: 0.002738225141619204, val_recall: 0.9851856365663196\n"
     ]
    },
    {
     "data": {
      "application/vnd.jupyter.widget-view+json": {
       "model_id": "a8c8194dbb6e4a00ad6301a7db8016ef",
       "version_major": 2,
       "version_minor": 0
      },
      "text/plain": [
       "  0%|          | 0/164 [00:00<?, ?it/s]"
      ]
     },
     "metadata": {},
     "output_type": "display_data"
    },
    {
     "name": "stdout",
     "output_type": "stream",
     "text": [
      "Epoch: 034, loss: 0.9947704730964289, f1: 0.005230372685549888, precision: 0.0026220991677269566, recall: 0.9919646425945002\n",
      "val_loss: 0.9945397778935389, val_f1: 0.005463983579831026, val_precision: 0.0027395888658105867, val_recall: 0.9851861943345551\n"
     ]
    },
    {
     "data": {
      "application/vnd.jupyter.widget-view+json": {
       "model_id": "37175201b3304c0f9df1b6a18734905a",
       "version_major": 2,
       "version_minor": 0
      },
      "text/plain": [
       "  0%|          | 0/164 [00:00<?, ?it/s]"
      ]
     },
     "metadata": {},
     "output_type": "display_data"
    },
    {
     "name": "stdout",
     "output_type": "stream",
     "text": [
      "Epoch: 035, loss: 0.9947716401117604, f1: 0.005229203716129787, precision: 0.002621518799015775, recall: 0.9909334157298251\n",
      "val_loss: 0.9945343713694756, val_f1: 0.005469420060310897, val_precision: 0.002742322249906223, val_recall: 0.9851865038412426\n"
     ]
    },
    {
     "data": {
      "application/vnd.jupyter.widget-view+json": {
       "model_id": "7ba85e6bd5a24da19bd29985013940d3",
       "version_major": 2,
       "version_minor": 0
      },
      "text/plain": [
       "  0%|          | 0/164 [00:00<?, ?it/s]"
      ]
     },
     "metadata": {},
     "output_type": "display_data"
    },
    {
     "name": "stdout",
     "output_type": "stream",
     "text": [
      "Epoch: 036, loss: 0.9947719824750249, f1: 0.005228861320885695, precision: 0.0026213530253721175, recall: 0.9900295334618266\n",
      "val_loss: 0.9945271586606262, val_f1: 0.0054766511617369215, val_precision: 0.0027459579688943326, val_recall: 0.9851866708982975\n"
     ]
    },
    {
     "data": {
      "application/vnd.jupyter.widget-view+json": {
       "model_id": "922ed38556184041ae78ac2b1312f990",
       "version_major": 2,
       "version_minor": 0
      },
      "text/plain": [
       "  0%|          | 0/164 [00:00<?, ?it/s]"
      ]
     },
     "metadata": {},
     "output_type": "display_data"
    },
    {
     "name": "stdout",
     "output_type": "stream",
     "text": [
      "Epoch: 037, loss: 0.9947640132613298, f1: 0.005236833108569776, precision: 0.002625351716698965, recall: 0.991218948509635\n",
      "val_loss: 0.9945294457838076, val_f1: 0.005474330060498955, val_precision: 0.0027447909410720384, val_recall: 0.9851866818349296\n"
     ]
    },
    {
     "data": {
      "application/vnd.jupyter.widget-view+json": {
       "model_id": "542230487d244d61adb42d375881fb4e",
       "version_major": 2,
       "version_minor": 0
      },
      "text/plain": [
       "  0%|          | 0/164 [00:00<?, ?it/s]"
      ]
     },
     "metadata": {},
     "output_type": "display_data"
    },
    {
     "name": "stdout",
     "output_type": "stream",
     "text": [
      "Epoch: 038, loss: 0.9947612500045357, f1: 0.005239597741274552, precision: 0.0026267434920400107, recall: 0.9909164567546147\n",
      "val_loss: 0.9945317189627831, val_f1: 0.005472028386787529, val_precision: 0.0027436336831920226, val_recall: 0.9851867903810029\n"
     ]
    },
    {
     "data": {
      "application/vnd.jupyter.widget-view+json": {
       "model_id": "d714c82d467f4571931d10631579cbe8",
       "version_major": 2,
       "version_minor": 0
      },
      "text/plain": [
       "  0%|          | 0/164 [00:00<?, ?it/s]"
      ]
     },
     "metadata": {},
     "output_type": "display_data"
    },
    {
     "name": "stdout",
     "output_type": "stream",
     "text": [
      "Epoch: 039, loss: 0.9947655687971813, f1: 0.00523527501415216, precision: 0.0026245852027275804, recall: 0.9888476714855288\n",
      "val_loss: 0.9945205704334679, val_f1: 0.0054832235505000385, val_precision: 0.0027492625176652394, val_recall: 0.9851868070593668\n"
     ]
    },
    {
     "data": {
      "application/vnd.jupyter.widget-view+json": {
       "model_id": "ac5adb43ad7f436db4578d752438e3bf",
       "version_major": 2,
       "version_minor": 0
      },
      "text/plain": [
       "  0%|          | 0/164 [00:00<?, ?it/s]"
      ]
     },
     "metadata": {},
     "output_type": "display_data"
    },
    {
     "name": "stdout",
     "output_type": "stream",
     "text": [
      "Epoch: 040, loss: 0.9947498895046187, f1: 0.005250959161787035, precision: 0.0026324463659675975, recall: 0.9920550308576445\n",
      "val_loss: 0.9945557847482349, val_f1: 0.005447938465042873, val_precision: 0.002731545181189869, val_recall: 0.982140370328492\n"
     ]
    },
    {
     "data": {
      "application/vnd.jupyter.widget-view+json": {
       "model_id": "29f159c27d404c73811039ac295e5530",
       "version_major": 2,
       "version_minor": 0
      },
      "text/plain": [
       "  0%|          | 0/164 [00:00<?, ?it/s]"
      ]
     },
     "metadata": {},
     "output_type": "display_data"
    },
    {
     "name": "stdout",
     "output_type": "stream",
     "text": [
      "Epoch: 041, loss: 0.9947445134564143, f1: 0.005256334328059715, precision: 0.0026351482385241357, recall: 0.9920550308576445\n",
      "val_loss: 0.9945245677724891, val_f1: 0.005479173387986338, val_precision: 0.002747226122381174, val_recall: 0.9851868160820882\n"
     ]
    },
    {
     "data": {
      "application/vnd.jupyter.widget-view+json": {
       "model_id": "40e81461393e4608be2ae1f51f990d18",
       "version_major": 2,
       "version_minor": 0
      },
      "text/plain": [
       "  0%|          | 0/164 [00:00<?, ?it/s]"
      ]
     },
     "metadata": {},
     "output_type": "display_data"
    },
    {
     "name": "stdout",
     "output_type": "stream",
     "text": [
      "Epoch: 042, loss: 0.9947407739918407, f1: 0.005260073813619256, precision: 0.0026370279310645945, recall: 0.9920550308576445\n",
      "val_loss: 0.9945350220990837, val_f1: 0.005468690715211961, val_precision: 0.0027419614684105844, val_recall: 0.9844223389384943\n"
     ]
    },
    {
     "data": {
      "application/vnd.jupyter.widget-view+json": {
       "model_id": "afdcb0904dde429db672e0be86c162c4",
       "version_major": 2,
       "version_minor": 0
      },
      "text/plain": [
       "  0%|          | 0/164 [00:00<?, ?it/s]"
      ]
     },
     "metadata": {},
     "output_type": "display_data"
    },
    {
     "name": "stdout",
     "output_type": "stream",
     "text": [
      "Epoch: 043, loss: 0.9947379126054484, f1: 0.00526293337492771, precision: 0.0026384673316298597, recall: 0.9917714319578032\n",
      "val_loss: 0.9945114006143098, val_f1: 0.005492379819929859, val_precision: 0.0027538662608937196, val_recall: 0.9851868171757514\n"
     ]
    },
    {
     "data": {
      "application/vnd.jupyter.widget-view+json": {
       "model_id": "a984d050e1c24267bcf5d61498aa6511",
       "version_major": 2,
       "version_minor": 0
      },
      "text/plain": [
       "  0%|          | 0/164 [00:00<?, ?it/s]"
      ]
     },
     "metadata": {},
     "output_type": "display_data"
    },
    {
     "name": "stdout",
     "output_type": "stream",
     "text": [
      "Epoch: 044, loss: 0.9947327113733059, f1: 0.005268134581965831, precision: 0.002641079786926417, recall: 0.9920550308576445\n",
      "val_loss: 0.9945128059715306, val_f1: 0.005490950637834229, val_precision: 0.002753147669830744, val_recall: 0.9851868171757514\n"
     ]
    },
    {
     "data": {
      "application/vnd.jupyter.widget-view+json": {
       "model_id": "074e79e96ab64f5a8eb13279d2b65fb5",
       "version_major": 2,
       "version_minor": 0
      },
      "text/plain": [
       "  0%|          | 0/164 [00:00<?, ?it/s]"
      ]
     },
     "metadata": {},
     "output_type": "display_data"
    },
    {
     "name": "stdout",
     "output_type": "stream",
     "text": [
      "Epoch: 045, loss: 0.9947294291199708, f1: 0.005271417465046268, precision: 0.002642729982631508, recall: 0.9920550308576445\n",
      "val_loss: 0.9945021318186313, val_f1: 0.005501672988918722, val_precision: 0.0027585388807400447, val_recall: 0.9851868171757514\n"
     ]
    },
    {
     "data": {
      "application/vnd.jupyter.widget-view+json": {
       "model_id": "abc28a760b884b4184f67c2793939833",
       "version_major": 2,
       "version_minor": 0
      },
      "text/plain": [
       "  0%|          | 0/164 [00:00<?, ?it/s]"
      ]
     },
     "metadata": {},
     "output_type": "display_data"
    },
    {
     "name": "stdout",
     "output_type": "stream",
     "text": [
      "Epoch: 046, loss: 0.9947260843544472, f1: 0.005274764437320921, precision: 0.002644412399471238, recall: 0.9920550308576445\n"
     ]
    },
    {
     "ename": "KeyboardInterrupt",
     "evalue": "",
     "output_type": "error",
     "traceback": [
      "\u001b[0;31m---------------------------------------------------------------------------\u001b[0m",
      "\u001b[0;31mKeyboardInterrupt\u001b[0m                         Traceback (most recent call last)",
      "Cell \u001b[0;32mIn[38], line 1\u001b[0m\n\u001b[0;32m----> 1\u001b[0m \u001b[43mtrain\u001b[49m\u001b[43m(\u001b[49m\u001b[43m)\u001b[49m\n\u001b[1;32m      2\u001b[0m torch\u001b[38;5;241m.\u001b[39msave(model, \u001b[38;5;124m\"\u001b[39m\u001b[38;5;124m./models1/\u001b[39m\u001b[38;5;124m\"\u001b[39m \u001b[38;5;241m+\u001b[39m run_name \u001b[38;5;241m+\u001b[39m \u001b[38;5;124m\"\u001b[39m\u001b[38;5;124m_\u001b[39m\u001b[38;5;124m\"\u001b[39m \u001b[38;5;241m+\u001b[39m \u001b[38;5;28mstr\u001b[39m(epochs) \u001b[38;5;241m+\u001b[39m \u001b[38;5;124m\"\u001b[39m\u001b[38;5;124m.pt\u001b[39m\u001b[38;5;124m\"\u001b[39m)\n",
      "Cell \u001b[0;32mIn[37], line 39\u001b[0m, in \u001b[0;36mtrain\u001b[0;34m()\u001b[0m\n\u001b[1;32m     36\u001b[0m                 out \u001b[38;5;241m=\u001b[39m model(g\u001b[38;5;241m.\u001b[39mx, g\u001b[38;5;241m.\u001b[39medge_index)\n\u001b[1;32m     38\u001b[0m                 y_true \u001b[38;5;241m=\u001b[39m g\u001b[38;5;241m.\u001b[39madj_mat\n\u001b[0;32m---> 39\u001b[0m                 loss \u001b[38;5;241m=\u001b[39m \u001b[43mcriterion\u001b[49m\u001b[43m(\u001b[49m\u001b[43mout\u001b[49m\u001b[43m,\u001b[49m\u001b[43m \u001b[49m\u001b[43my_true\u001b[49m\u001b[38;5;241;43m.\u001b[39;49m\u001b[43mto\u001b[49m\u001b[43m(\u001b[49m\u001b[43mtorch\u001b[49m\u001b[38;5;241;43m.\u001b[39;49m\u001b[43mfloat32\u001b[49m\u001b[43m)\u001b[49m\u001b[43m)\u001b[49m\n\u001b[1;32m     41\u001b[0m                 val_loss\u001b[38;5;241m.\u001b[39mappend(loss\u001b[38;5;241m.\u001b[39mitem())\n\u001b[1;32m     43\u001b[0m \u001b[38;5;66;03m#                 out = out.sigmoid()\u001b[39;00m\n",
      "Cell \u001b[0;32mIn[4], line 28\u001b[0m, in \u001b[0;36mf_loss\u001b[0;34m(y_pred, y_true)\u001b[0m\n\u001b[1;32m     27\u001b[0m \u001b[38;5;28;01mdef\u001b[39;00m \u001b[38;5;21mf_loss\u001b[39m(y_pred, y_true):\n\u001b[0;32m---> 28\u001b[0m     y_pred \u001b[38;5;241m=\u001b[39m \u001b[43mdel_nucl_conn\u001b[49m\u001b[43m(\u001b[49m\u001b[43my_pred\u001b[49m\u001b[43m)\u001b[49m\n\u001b[1;32m     29\u001b[0m \u001b[38;5;66;03m#     y_pred = argm(y_pred)\u001b[39;00m\n\u001b[1;32m     30\u001b[0m     y_pred \u001b[38;5;241m=\u001b[39m del_main_diag(y_pred)\n",
      "Cell \u001b[0;32mIn[17], line 15\u001b[0m, in \u001b[0;36mdel_nucl_conn\u001b[0;34m(y)\u001b[0m\n\u001b[1;32m      6\u001b[0m     diag1 \u001b[38;5;241m=\u001b[39m torch\u001b[38;5;241m.\u001b[39mones([\u001b[38;5;241m1\u001b[39m, y\u001b[38;5;241m.\u001b[39msize()[\u001b[38;5;241m0\u001b[39m] \u001b[38;5;241m-\u001b[39m \u001b[38;5;241m1\u001b[39m])\n\u001b[1;32m      7\u001b[0m \u001b[38;5;66;03m#     batch_diags = []\u001b[39;00m\n\u001b[1;32m      8\u001b[0m \u001b[38;5;66;03m#     for i in range(bs):\u001b[39;00m\n\u001b[1;32m      9\u001b[0m \u001b[38;5;66;03m#         batch_diags.append((torch.diag_embed(main_diag).to(device) +\u001b[39;00m\n\u001b[0;32m   (...)\u001b[0m\n\u001b[1;32m     12\u001b[0m \n\u001b[1;32m     13\u001b[0m \u001b[38;5;66;03m#     return y * torch.cat(batch_diags, 0).to(device) * (-1)\u001b[39;00m\n\u001b[1;32m     14\u001b[0m     \u001b[38;5;28;01mreturn\u001b[39;00m y \u001b[38;5;241m*\u001b[39m (torch\u001b[38;5;241m.\u001b[39mdiag_embed(main_diag)\u001b[38;5;241m.\u001b[39mto(device) \u001b[38;5;241m+\u001b[39m \n\u001b[0;32m---> 15\u001b[0m                     \u001b[43mtorch\u001b[49m\u001b[38;5;241;43m.\u001b[39;49m\u001b[43mdiag_embed\u001b[49m\u001b[43m(\u001b[49m\u001b[43mdiag1\u001b[49m\u001b[43m,\u001b[49m\u001b[43m \u001b[49m\u001b[43moffset\u001b[49m\u001b[38;5;241;43m=\u001b[39;49m\u001b[38;5;241;43m1\u001b[39;49m\u001b[43m)\u001b[49m\u001b[38;5;241m.\u001b[39mto(device) \u001b[38;5;241m+\u001b[39m \n\u001b[1;32m     16\u001b[0m                 torch\u001b[38;5;241m.\u001b[39mdiag_embed(diag1, offset\u001b[38;5;241m=\u001b[39m\u001b[38;5;241m-\u001b[39m\u001b[38;5;241m1\u001b[39m)\u001b[38;5;241m.\u001b[39mto(device) \u001b[38;5;241m-\u001b[39m \u001b[38;5;241m1\u001b[39m)[\u001b[38;5;241m0\u001b[39m] \u001b[38;5;241m*\u001b[39m (\u001b[38;5;241m-\u001b[39m\u001b[38;5;241m1\u001b[39m)\n",
      "\u001b[0;31mKeyboardInterrupt\u001b[0m: "
     ]
    }
   ],
   "source": [
    "train()\n",
    "torch.save(model, \"./models1/\" + run_name + \"_\" + str(epochs) + \".pt\")"
   ]
  },
  {
   "cell_type": "code",
   "execution_count": null,
   "id": "ad06aa78",
   "metadata": {},
   "outputs": [],
   "source": []
  },
  {
   "cell_type": "code",
   "execution_count": null,
   "id": "128997d1",
   "metadata": {},
   "outputs": [],
   "source": []
  }
 ],
 "metadata": {
  "kernelspec": {
   "display_name": "Python 3 (ipykernel)",
   "language": "python",
   "name": "python3"
  },
  "language_info": {
   "codemirror_mode": {
    "name": "ipython",
    "version": 3
   },
   "file_extension": ".py",
   "mimetype": "text/x-python",
   "name": "python",
   "nbconvert_exporter": "python",
   "pygments_lexer": "ipython3",
   "version": "3.8.10"
  }
 },
 "nbformat": 4,
 "nbformat_minor": 5
}
