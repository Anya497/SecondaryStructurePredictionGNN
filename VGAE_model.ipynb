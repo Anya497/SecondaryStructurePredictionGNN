{
 "cells": [
  {
   "cell_type": "code",
   "execution_count": null,
   "id": "69915c1e",
   "metadata": {},
   "outputs": [],
   "source": [
    "import os.path as osp\n",
    "from tqdm.auto import tqdm\n",
    "import numpy as np\n",
    "import wandb\n",
    "\n",
    "import torch\n",
    "from sklearn.metrics import roc_auc_score\n",
    "\n",
    "import torch_geometric.transforms as T\n",
    "from torch_geometric.datasets import Planetoid\n",
    "from torch_geometric.nn import GCNConv, VGAE, ResGatedGraphConv\n",
    "from torch_geometric.utils import negative_sampling\n",
    "from torch_geometric.loader import DataLoader\n",
    "\n",
    "from dataset_creating import MyDataset"
   ]
  },
  {
   "cell_type": "code",
   "execution_count": null,
   "id": "e5b37850",
   "metadata": {},
   "outputs": [],
   "source": [
    "device = torch.device('cuda' if torch.cuda.is_available() else 'cpu')\n",
    "\n",
    "dataset = MyDataset(root=\"./data/\")\n",
    "dataset = dataset.shuffle()\n",
    "train_data, val_data, test_data = dataset[0:655], dataset[655:873], dataset[873:]\n",
    "\n",
    "train_dataloader = DataLoader(train_data, batch_size=32, shuffle=True)\n",
    "val_dataloader = DataLoader(val_data, batch_size=32, shuffle=False)"
   ]
  },
  {
   "cell_type": "code",
   "execution_count": null,
   "id": "8b47cc94",
   "metadata": {},
   "outputs": [],
   "source": [
    "class VariationalGCNEncoder(torch.nn.Module):\n",
    "    def __init__(self, in_channels, out_channels):\n",
    "        super(VariationalGCNEncoder, self).__init__()\n",
    "        self.conv1 = GCNConv(in_channels, 2 * out_channels)\n",
    "        self.conv2 = GCNConv(2 * out_channels, 2 * out_channels)\n",
    "        self.conv3 = GCNConv(2 * out_channels, 2 * out_channels)\n",
    "        self.conv4 = GCNConv(2 * out_channels, 2 * out_channels)\n",
    "\n",
    "        self.conv_mu = GCNConv(2 * out_channels, out_channels)\n",
    "        self.conv_logstd = GCNConv(2 * out_channels, out_channels)\n",
    "\n",
    "    def forward(self, x, edge_index):\n",
    "        x = self.conv1(x, edge_index).relu()\n",
    "        x = self.conv2(x, edge_index).relu()\n",
    "        x = self.conv3(x, edge_index).relu()\n",
    "        x = self.conv4(x, edge_index).relu()\n",
    "\n",
    "        return self.conv_mu(x, edge_index), self.conv_logstd(x, edge_index)\n",
    "\n",
    "\n",
    "class VariationalGCNDecoder(torch.nn.Module):\n",
    "    def __init__(self):\n",
    "        super(VariationalGCNDecoder, self).__init__()\n",
    "        \n",
    "    def forward(self, z):\n",
    "        return (z @ z.t()).sigmoid()"
   ]
  },
  {
   "cell_type": "code",
   "execution_count": null,
   "id": "4d100901",
   "metadata": {},
   "outputs": [],
   "source": [
    "def precision(y_pred, y_true):\n",
    "    y_pred[(y_pred > 0.5)] = 1\n",
    "    y_pred[(y_pred <= 0.5)] = 0 \n",
    "    \n",
    "    tp = torch.sum(y_pred * y_true)\n",
    "    fp = torch.sum((1 - y_true) * y_pred)\n",
    "    \n",
    "    return tp / (tp + fp + epsilon)"
   ]
  },
  {
   "cell_type": "code",
   "execution_count": null,
   "id": "f7815dba",
   "metadata": {},
   "outputs": [],
   "source": [
    "def recall(y_pred, y_true):\n",
    "    y_pred[(y_pred > 0.5)] = 1\n",
    "    y_pred[(y_pred <= 0.5)] = 0\n",
    "    \n",
    "    tp = torch.sum(y_pred * y_true)\n",
    "    fn = torch.sum(y_true * (1 - y_pred))\n",
    "    \n",
    "    return tp / (tp + fn + epsilon)"
   ]
  },
  {
   "cell_type": "code",
   "execution_count": null,
   "id": "16c022e4",
   "metadata": {},
   "outputs": [],
   "source": [
    "def f1_loss(y_pred, y_true):\n",
    "    tp = torch.sum(y_pred * y_true)\n",
    "    fn = torch.sum(y_true * (1 - y_pred))\n",
    "    fp = torch.sum((1 - y_true) * y_pred)\n",
    "    precision = tp / (tp + fp + epsilon)\n",
    "    recall = tp / (tp + fn + epsilon)\n",
    "\n",
    "#     k1 = 1 - torch.abs(precision - recall)\n",
    "#     k2 = 1 - torch.abs(K.mean(precision) - K.mean(recall))\n",
    "    #calculate upgraded f1 score\n",
    "    f1 = 2 * precision * recall / (precision + recall + epsilon)\n",
    "#     tw = K.sum(K.cast(y_true * y_pred, ’float32’), axis=[1, 2, 3])\n",
    "#     fw = K.sum(K.cast((1 - y_true) * y_pred, ’float32’), axis=[1, 2, 3])\n",
    "#     fb = K.sum(K.cast(y_true * (1 - y_pred), ’float32’), axis=[1, 2, 3])\n",
    "    return 1 - f1"
   ]
  },
  {
   "cell_type": "code",
   "execution_count": null,
   "id": "580d3802",
   "metadata": {},
   "outputs": [],
   "source": [
    "def adj_mat(edge_index, num_nodes):\n",
    "    mat = torch.zeros([num_nodes, num_nodes], dtype=torch.float64)\n",
    "    for i in range(edge_index.size(1)):\n",
    "        mat[edge_index[0][i]][edge_index[1][i]] = 1\n",
    "        mat[edge_index[1][i]][edge_index[0][i]] = 1\n",
    "    mat.requires_grad = True\n",
    "    return mat"
   ]
  },
  {
   "cell_type": "code",
   "execution_count": null,
   "id": "5914b426",
   "metadata": {},
   "outputs": [],
   "source": [
    "out_channels = 50\n",
    "num_features = dataset.num_features\n",
    "epochs = 180\n",
    "\n",
    "model = VGAE(VariationalGCNEncoder(num_features, out_channels), VariationalGCNDecoder())\n",
    "\n",
    "optimizer = torch.optim.Adam(model.parameters(), lr=0.001)\n",
    "# optimizer = torch.optim.Adagrad(model.parameters(), lr=0.001, weight_decay=0.9)\n",
    "# optimizer = torch.optim.SGD(model.parameters(), lr=0.001)\n",
    "# criterion = torch.nn.BCEWithLogitsLoss()\n",
    "\n",
    "criterion = f1_loss"
   ]
  },
  {
   "cell_type": "code",
   "execution_count": null,
   "id": "b66d95cb",
   "metadata": {},
   "outputs": [],
   "source": [
    "wandb.init(\n",
    "    # set the wandb project where this run will be logged\n",
    "    project=\"secondary_structure_prediction\",\n",
    "    \n",
    "    # track hyperparameters and run metadata\n",
    "    config={\n",
    "    \"learning_rate\": 0.001,\n",
    "    \"architecture\": \"VGAE\",\n",
    "    \"epochs\": 180,\n",
    "    \"optimizer\": \"Adam\",\n",
    "    \"out_channels\": 64,\n",
    "    \"loss\": \"f1_loss\",\n",
    "    },\n",
    "    name=\"VGAE_3conv_60_1e-3_Adam_64\"\n",
    ")\n",
    "\n",
    "epsilon = 1e-10"
   ]
  },
  {
   "cell_type": "code",
   "execution_count": null,
   "id": "8bc6e0bd",
   "metadata": {},
   "outputs": [],
   "source": [
    "def train():\n",
    "    for epoch in range(1, epochs + 1):\n",
    "        model.train()\n",
    "        train_loss = []\n",
    "        train_recall = []\n",
    "        train_precision = []\n",
    "        for g in tqdm(train_data):\n",
    "            optimizer.zero_grad()\n",
    "\n",
    "            z = model.encode(g.x, g.edge_index)\n",
    "            out = model.decode(z)\n",
    "\n",
    "            y_true = adj_mat(g.edge_label_index, g.x.size(0))\n",
    "            loss = criterion(out, y_true)\n",
    "            loss = loss + (1 / g.num_nodes) * model.kl_loss()            \n",
    "            \n",
    "            loss.backward()\n",
    "            optimizer.step()\n",
    "            \n",
    "            train_loss.append(loss.item())\n",
    "            train_precision.append(precision(out, y_true).item())\n",
    "            train_recall.append(recall(out, y_true).item())\n",
    "            \n",
    "        prec = np.mean(train_precision)\n",
    "        rec = np.mean(train_recall)\n",
    "        f1 = (2 * prec * rec) / (prec + rec)\n",
    "        print(f'Epoch: {epoch:03d}, loss: {np.mean(train_loss)}, f1: {f1}, precision: {prec}, recall: {rec}')\n",
    "        \n",
    "        val_loss = []\n",
    "        val_recall = []\n",
    "        val_precision = []\n",
    "        with torch.no_grad():\n",
    "            for g in tqdm(val_data):\n",
    "                z = model.encode(g.x, g.edge_index)\n",
    "                out = model.decode(z)\n",
    "        \n",
    "                y_true = adj_mat(g.edge_label_index, g.x.size(0))\n",
    "                loss = criterion(out, y_true)\n",
    "                \n",
    "                loss = loss + (1 / g.num_nodes) * model.kl_loss()\n",
    "                \n",
    "                val_loss.append(loss.numpy())\n",
    "                val_precision.append(precision(out, y_true).numpy())\n",
    "                val_recall.append(recall(out, y_true).numpy())\n",
    " \n",
    "            \n",
    "            prec = np.mean(val_precision)\n",
    "            rec = np.mean(val_recall)\n",
    "            f1 = (2 * prec * rec) / (prec + rec)\n",
    "            print(f'val_loss: {np.mean(val_loss)}, val_f1: {f1}, val_precision: {prec}, val_recall: {rec}')\n",
    "            wandb.log({\"train_loss\": np.mean(train_loss), \"train_f1\": f1, \"train_precision\": prec, \"train_recall\": rec,\n",
    "                       \"val_loss\": np.mean(val_loss), \"val_f1\": f1, \"val_precision\": prec, \"val_recall\": rec})\n",
    "#     wandb.finish()"
   ]
  },
  {
   "cell_type": "code",
   "execution_count": null,
   "id": "517d2163",
   "metadata": {},
   "outputs": [],
   "source": [
    "train()"
   ]
  },
  {
   "cell_type": "code",
   "execution_count": null,
   "id": "35a2f3a4",
   "metadata": {},
   "outputs": [],
   "source": [
    "wandb.finish()"
   ]
  }
 ],
 "metadata": {
  "kernelspec": {
   "display_name": "Python 3 (ipykernel)",
   "language": "python",
   "name": "python3"
  },
  "language_info": {
   "codemirror_mode": {
    "name": "ipython",
    "version": 3
   },
   "file_extension": ".py",
   "mimetype": "text/x-python",
   "name": "python",
   "nbconvert_exporter": "python",
   "pygments_lexer": "ipython3",
   "version": "3.9.5"
  }
 },
 "nbformat": 4,
 "nbformat_minor": 5
}
