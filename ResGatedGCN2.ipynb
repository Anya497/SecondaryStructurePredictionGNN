{
 "cells": [
  {
   "cell_type": "code",
   "execution_count": 1,
   "id": "0fd6d3d1",
   "metadata": {},
   "outputs": [
    {
     "name": "stderr",
     "output_type": "stream",
     "text": [
      "/home/vdshk/SecondaryStructurePredictionGNN/env/lib/python3.9/site-packages/tqdm/auto.py:21: TqdmWarning: IProgress not found. Please update jupyter and ipywidgets. See https://ipywidgets.readthedocs.io/en/stable/user_install.html\n",
      "  from .autonotebook import tqdm as notebook_tqdm\n"
     ]
    }
   ],
   "source": [
    "import os.path as osp\n",
    "from tqdm.auto import tqdm\n",
    "import numpy as np\n",
    "import wandb\n",
    "\n",
    "import torch\n",
    "from sklearn.metrics import roc_auc_score\n",
    "\n",
    "import torch.nn.functional as F\n",
    "# from ogb.nodeproppred import Evaluator, PygNodePropPredDataset\n",
    "from torch.nn import LayerNorm, Linear, ReLU, Tanh\n",
    "from torchvision.ops import MLP\n",
    "from torchvision.utils import save_image\n",
    "\n",
    "\n",
    "import torch_geometric.transforms as T\n",
    "from torch_geometric.datasets import Planetoid\n",
    "from torch_geometric.nn import GCNConv, GatedGraphConv, SAGEConv, GAT\n",
    "from torch_geometric.nn import DeepGCNLayer, GENConv\n",
    "from torch_geometric.utils import negative_sampling, to_dense_adj\n",
    "from torch_geometric.loader import DataLoader\n",
    "\n",
    "from dataset_processing4 import RNADataset\n"
   ]
  },
  {
   "cell_type": "code",
   "execution_count": 2,
   "id": "982e77aa",
   "metadata": {},
   "outputs": [],
   "source": [
    "dataset = RNADataset(root=\"./data4/\")\n",
    "dataset = dataset.shuffle()\n",
    "train_data, val_data, test_data = dataset[0:655], dataset[655:873], dataset[873:]\n",
    "bs = 1\n",
    "\n",
    "train_dataloader = DataLoader(train_data, batch_size=bs, shuffle=False)\n",
    "val_dataloader = DataLoader(val_data, batch_size=1, shuffle=False)"
   ]
  },
  {
   "cell_type": "code",
   "execution_count": 3,
   "id": "fc37f9e7",
   "metadata": {},
   "outputs": [
    {
     "data": {
      "text/plain": [
       "Data(x=[551, 8], edge_index=[2, 24140], y=[551], s=54)"
      ]
     },
     "execution_count": 3,
     "metadata": {},
     "output_type": "execute_result"
    }
   ],
   "source": [
    "train_data[0]"
   ]
  },
  {
   "cell_type": "code",
   "execution_count": 4,
   "id": "071ccc10",
   "metadata": {},
   "outputs": [],
   "source": [
    "dataset = list(filter(lambda x: x.s.item() <= 150, dataset))"
   ]
  },
  {
   "cell_type": "code",
   "execution_count": 5,
   "id": "ec0f6b6f",
   "metadata": {},
   "outputs": [
    {
     "data": {
      "text/plain": [
       "[Data(x=[551, 8], edge_index=[2, 24140], y=[551], s=54),\n",
       " Data(x=[1698, 8], edge_index=[2, 132844], y=[1698], s=91),\n",
       " Data(x=[334, 8], edge_index=[2, 11008], y=[334], s=48),\n",
       " Data(x=[1092, 8], edge_index=[2, 68202], y=[1092], s=79),\n",
       " Data(x=[2761, 8], edge_index=[2, 272626], y=[2761], s=120),\n",
       " Data(x=[4274, 8], edge_index=[2, 530432], y=[4274], s=150),\n",
       " Data(x=[2850, 8], edge_index=[2, 286786], y=[2850], s=120),\n",
       " Data(x=[1185, 8], edge_index=[2, 76338], y=[1185], s=78),\n",
       " Data(x=[96, 8], edge_index=[2, 1596], y=[96], s=22),\n",
       " Data(x=[1969, 8], edge_index=[2, 164934], y=[1969], s=98),\n",
       " Data(x=[1829, 8], edge_index=[2, 150110], y=[1829], s=99),\n",
       " Data(x=[2533, 8], edge_index=[2, 240496], y=[2533], s=117),\n",
       " Data(x=[21, 8], edge_index=[2, 148], y=[21], s=10),\n",
       " Data(x=[155, 8], edge_index=[2, 3426], y=[155], s=29),\n",
       " Data(x=[626, 8], edge_index=[2, 28908], y=[626], s=56),\n",
       " Data(x=[578, 8], edge_index=[2, 25996], y=[578], s=54),\n",
       " Data(x=[1994, 8], edge_index=[2, 167354], y=[1994], s=100),\n",
       " Data(x=[2071, 8], edge_index=[2, 178378], y=[2071], s=104),\n",
       " Data(x=[45, 8], edge_index=[2, 494], y=[45], s=16),\n",
       " Data(x=[1138, 8], edge_index=[2, 72042], y=[1138], s=78),\n",
       " Data(x=[55, 8], edge_index=[2, 688], y=[55], s=17),\n",
       " Data(x=[390, 8], edge_index=[2, 14094], y=[390], s=46),\n",
       " Data(x=[1975, 8], edge_index=[2, 164988], y=[1975], s=100),\n",
       " Data(x=[2013, 8], edge_index=[2, 171554], y=[2013], s=102),\n",
       " Data(x=[2820, 8], edge_index=[2, 282056], y=[2820], s=120),\n",
       " Data(x=[304, 8], edge_index=[2, 9810], y=[304], s=38),\n",
       " Data(x=[265, 8], edge_index=[2, 7622], y=[265], s=39),\n",
       " Data(x=[2801, 8], edge_index=[2, 280948], y=[2801], s=118),\n",
       " Data(x=[368, 8], edge_index=[2, 13220], y=[368], s=40),\n",
       " Data(x=[46, 8], edge_index=[2, 506], y=[46], s=16),\n",
       " Data(x=[2502, 8], edge_index=[2, 236522], y=[2502], s=116),\n",
       " Data(x=[1497, 8], edge_index=[2, 109516], y=[1497], s=93),\n",
       " Data(x=[2048, 8], edge_index=[2, 175280], y=[2048], s=103),\n",
       " Data(x=[2001, 8], edge_index=[2, 168298], y=[2001], s=101),\n",
       " Data(x=[155, 8], edge_index=[2, 3486], y=[155], s=27),\n",
       " Data(x=[2750, 8], edge_index=[2, 271518], y=[2750], s=119),\n",
       " Data(x=[567, 8], edge_index=[2, 24936], y=[567], s=54),\n",
       " Data(x=[1083, 8], edge_index=[2, 67968], y=[1083], s=75),\n",
       " Data(x=[370, 8], edge_index=[2, 12920], y=[370], s=48),\n",
       " Data(x=[1967, 8], edge_index=[2, 163964], y=[1967], s=101),\n",
       " Data(x=[649, 8], edge_index=[2, 30476], y=[649], s=58),\n",
       " Data(x=[1737, 8], edge_index=[2, 137192], y=[1737], s=92),\n",
       " Data(x=[40, 8], edge_index=[2, 406], y=[40], s=14),\n",
       " Data(x=[2813, 8], edge_index=[2, 281046], y=[2813], s=120),\n",
       " Data(x=[996, 8], edge_index=[2, 57972], y=[996], s=75),\n",
       " Data(x=[348, 8], edge_index=[2, 11954], y=[348], s=43),\n",
       " Data(x=[2679, 8], edge_index=[2, 260906], y=[2679], s=120),\n",
       " Data(x=[59, 8], edge_index=[2, 766], y=[59], s=17),\n",
       " Data(x=[58, 8], edge_index=[2, 728], y=[58], s=17),\n",
       " Data(x=[37, 8], edge_index=[2, 328], y=[37], s=15),\n",
       " Data(x=[1318, 8], edge_index=[2, 90788], y=[1318], s=78),\n",
       " Data(x=[195, 8], edge_index=[2, 4928], y=[195], s=30),\n",
       " Data(x=[1077, 8], edge_index=[2, 66870], y=[1077], s=71),\n",
       " Data(x=[1602, 8], edge_index=[2, 119904], y=[1602], s=94),\n",
       " Data(x=[538, 8], edge_index=[2, 23118], y=[538], s=54),\n",
       " Data(x=[551, 8], edge_index=[2, 23662], y=[551], s=54),\n",
       " Data(x=[750, 8], edge_index=[2, 38248], y=[750], s=60),\n",
       " Data(x=[188, 8], edge_index=[2, 4610], y=[188], s=30),\n",
       " Data(x=[2839, 8], edge_index=[2, 284850], y=[2839], s=123),\n",
       " Data(x=[88, 8], edge_index=[2, 1452], y=[88], s=20),\n",
       " Data(x=[62, 8], edge_index=[2, 868], y=[62], s=16),\n",
       " Data(x=[177, 8], edge_index=[2, 4236], y=[177], s=30),\n",
       " Data(x=[2768, 8], edge_index=[2, 277642], y=[2768], s=114),\n",
       " Data(x=[940, 8], edge_index=[2, 53790], y=[940], s=70),\n",
       " Data(x=[128, 8], edge_index=[2, 2588], y=[128], s=24),\n",
       " Data(x=[2842, 8], edge_index=[2, 285444], y=[2842], s=121),\n",
       " Data(x=[183, 8], edge_index=[2, 4504], y=[183], s=29),\n",
       " Data(x=[2488, 8], edge_index=[2, 234272], y=[2488], s=111),\n",
       " Data(x=[160, 8], edge_index=[2, 3536], y=[160], s=30),\n",
       " Data(x=[2818, 8], edge_index=[2, 281986], y=[2818], s=120),\n",
       " Data(x=[624, 8], edge_index=[2, 28690], y=[624], s=57),\n",
       " Data(x=[2201, 8], edge_index=[2, 197290], y=[2201], s=101),\n",
       " Data(x=[2784, 8], edge_index=[2, 275854], y=[2784], s=120),\n",
       " Data(x=[67, 8], edge_index=[2, 928], y=[67], s=18),\n",
       " Data(x=[748, 8], edge_index=[2, 37934], y=[748], s=63),\n",
       " Data(x=[37, 8], edge_index=[2, 366], y=[37], s=13),\n",
       " Data(x=[201, 8], edge_index=[2, 5042], y=[201], s=31),\n",
       " Data(x=[2665, 8], edge_index=[2, 258340], y=[2665], s=118),\n",
       " Data(x=[2776, 8], edge_index=[2, 275688], y=[2776], s=120),\n",
       " Data(x=[552, 8], edge_index=[2, 23770], y=[552], s=55),\n",
       " Data(x=[454, 8], edge_index=[2, 17890], y=[454], s=49),\n",
       " Data(x=[152, 8], edge_index=[2, 3308], y=[152], s=29),\n",
       " Data(x=[534, 8], edge_index=[2, 22562], y=[534], s=54),\n",
       " Data(x=[554, 8], edge_index=[2, 25100], y=[554], s=48),\n",
       " Data(x=[29, 8], edge_index=[2, 246], y=[29], s=12),\n",
       " Data(x=[2498, 8], edge_index=[2, 237928], y=[2498], s=118),\n",
       " Data(x=[710, 8], edge_index=[2, 35312], y=[710], s=58),\n",
       " Data(x=[2024, 8], edge_index=[2, 171532], y=[2024], s=102),\n",
       " Data(x=[373, 8], edge_index=[2, 13012], y=[373], s=46),\n",
       " Data(x=[115, 8], edge_index=[2, 2192], y=[115], s=24),\n",
       " Data(x=[316, 8], edge_index=[2, 10084], y=[316], s=40),\n",
       " Data(x=[2909, 8], edge_index=[2, 297360], y=[2909], s=123),\n",
       " Data(x=[2001, 8], edge_index=[2, 168444], y=[2001], s=100),\n",
       " Data(x=[196, 8], edge_index=[2, 4984], y=[196], s=30),\n",
       " Data(x=[81, 8], edge_index=[2, 1246], y=[81], s=21),\n",
       " Data(x=[19, 8], edge_index=[2, 120], y=[19], s=10),\n",
       " Data(x=[332, 8], edge_index=[2, 10836], y=[332], s=42),\n",
       " Data(x=[2961, 8], edge_index=[2, 308108], y=[2961], s=124),\n",
       " Data(x=[338, 8], edge_index=[2, 11412], y=[338], s=43),\n",
       " Data(x=[1306, 8], edge_index=[2, 88796], y=[1306], s=82),\n",
       " Data(x=[470, 8], edge_index=[2, 18868], y=[470], s=49),\n",
       " Data(x=[225, 8], edge_index=[2, 6012], y=[225], s=34),\n",
       " Data(x=[2210, 8], edge_index=[2, 196622], y=[2210], s=104),\n",
       " Data(x=[810, 8], edge_index=[2, 42526], y=[810], s=65),\n",
       " Data(x=[1630, 8], edge_index=[2, 124978], y=[1630], s=91),\n",
       " Data(x=[2703, 8], edge_index=[2, 264330], y=[2703], s=120),\n",
       " Data(x=[552, 8], edge_index=[2, 23712], y=[552], s=54),\n",
       " Data(x=[264, 8], edge_index=[2, 7844], y=[264], s=36),\n",
       " Data(x=[353, 8], edge_index=[2, 11870], y=[353], s=48),\n",
       " Data(x=[96, 8], edge_index=[2, 1614], y=[96], s=22),\n",
       " Data(x=[53, 8], edge_index=[2, 658], y=[53], s=16),\n",
       " Data(x=[4501, 8], edge_index=[2, 576644], y=[4501], s=150),\n",
       " Data(x=[1664, 8], edge_index=[2, 128468], y=[1664], s=92),\n",
       " Data(x=[2395, 8], edge_index=[2, 223318], y=[2395], s=117),\n",
       " Data(x=[79, 8], edge_index=[2, 1228], y=[79], s=19),\n",
       " Data(x=[173, 8], edge_index=[2, 4210], y=[173], s=29),\n",
       " Data(x=[358, 8], edge_index=[2, 12320], y=[358], s=43),\n",
       " Data(x=[126, 8], edge_index=[2, 2456], y=[126], s=25),\n",
       " Data(x=[78, 8], edge_index=[2, 1182], y=[78], s=19),\n",
       " Data(x=[77, 8], edge_index=[2, 1128], y=[77], s=21),\n",
       " Data(x=[2703, 8], edge_index=[2, 264196], y=[2703], s=120),\n",
       " Data(x=[334, 8], edge_index=[2, 11098], y=[334], s=43),\n",
       " Data(x=[2144, 8], edge_index=[2, 187622], y=[2144], s=103),\n",
       " Data(x=[665, 8], edge_index=[2, 31684], y=[665], s=62),\n",
       " Data(x=[170, 8], edge_index=[2, 3936], y=[170], s=28),\n",
       " Data(x=[547, 8], edge_index=[2, 23458], y=[547], s=55),\n",
       " Data(x=[37, 8], edge_index=[2, 370], y=[37], s=13),\n",
       " Data(x=[160, 8], edge_index=[2, 3686], y=[160], s=27),\n",
       " Data(x=[2802, 8], edge_index=[2, 279684], y=[2802], s=120),\n",
       " Data(x=[62, 8], edge_index=[2, 802], y=[62], s=18),\n",
       " Data(x=[2804, 8], edge_index=[2, 280136], y=[2804], s=120),\n",
       " Data(x=[1199, 8], edge_index=[2, 80072], y=[1199], s=79),\n",
       " Data(x=[4541, 8], edge_index=[2, 584304], y=[4541], s=150),\n",
       " Data(x=[898, 8], edge_index=[2, 50622], y=[898], s=66),\n",
       " Data(x=[250, 8], edge_index=[2, 7336], y=[250], s=32),\n",
       " Data(x=[260, 8], edge_index=[2, 7576], y=[260], s=36),\n",
       " Data(x=[1595, 8], edge_index=[2, 120166], y=[1595], s=87),\n",
       " Data(x=[62, 8], edge_index=[2, 890], y=[62], s=17),\n",
       " Data(x=[79, 8], edge_index=[2, 1202], y=[79], s=19),\n",
       " Data(x=[540, 8], edge_index=[2, 23004], y=[540], s=54),\n",
       " Data(x=[1090, 8], edge_index=[2, 67608], y=[1090], s=72),\n",
       " Data(x=[323, 8], edge_index=[2, 10538], y=[323], s=43),\n",
       " Data(x=[1027, 8], edge_index=[2, 61324], y=[1027], s=75),\n",
       " Data(x=[254, 8], edge_index=[2, 7388], y=[254], s=36),\n",
       " Data(x=[1224, 8], edge_index=[2, 79974], y=[1224], s=77),\n",
       " Data(x=[746, 8], edge_index=[2, 37830], y=[746], s=63),\n",
       " Data(x=[1979, 8], edge_index=[2, 166032], y=[1979], s=99),\n",
       " Data(x=[3039, 8], edge_index=[2, 315056], y=[3039], s=130),\n",
       " Data(x=[931, 8], edge_index=[2, 54394], y=[931], s=70),\n",
       " Data(x=[41, 8], edge_index=[2, 420], y=[41], s=14),\n",
       " Data(x=[377, 8], edge_index=[2, 13186], y=[377], s=44),\n",
       " Data(x=[2734, 8], edge_index=[2, 269508], y=[2734], s=120),\n",
       " Data(x=[89, 8], edge_index=[2, 1438], y=[89], s=22),\n",
       " Data(x=[2568, 8], edge_index=[2, 247538], y=[2568], s=113),\n",
       " Data(x=[1246, 8], edge_index=[2, 83264], y=[1246], s=77),\n",
       " Data(x=[419, 8], edge_index=[2, 15566], y=[419], s=49),\n",
       " Data(x=[112, 8], edge_index=[2, 2086], y=[112], s=23),\n",
       " Data(x=[975, 8], edge_index=[2, 56248], y=[975], s=72),\n",
       " Data(x=[233, 8], edge_index=[2, 6398], y=[233], s=34),\n",
       " Data(x=[132, 8], edge_index=[2, 2634], y=[132], s=26),\n",
       " Data(x=[90, 8], edge_index=[2, 1568], y=[90], s=20),\n",
       " Data(x=[79, 8], edge_index=[2, 1152], y=[79], s=22),\n",
       " Data(x=[1735, 8], edge_index=[2, 137650], y=[1735], s=91),\n",
       " Data(x=[172, 8], edge_index=[2, 3998], y=[172], s=30),\n",
       " Data(x=[405, 8], edge_index=[2, 14844], y=[405], s=48),\n",
       " Data(x=[4416, 8], edge_index=[2, 562876], y=[4416], s=150),\n",
       " Data(x=[2136, 8], edge_index=[2, 187284], y=[2136], s=105),\n",
       " Data(x=[95, 8], edge_index=[2, 1576], y=[95], s=24),\n",
       " Data(x=[28, 8], edge_index=[2, 246], y=[28], s=12),\n",
       " Data(x=[887, 8], edge_index=[2, 51058], y=[887], s=66),\n",
       " Data(x=[78, 8], edge_index=[2, 1200], y=[78], s=19),\n",
       " Data(x=[2002, 8], edge_index=[2, 169328], y=[2002], s=102),\n",
       " Data(x=[2764, 8], edge_index=[2, 273038], y=[2764], s=120),\n",
       " Data(x=[116, 8], edge_index=[2, 2176], y=[116], s=24),\n",
       " Data(x=[555, 8], edge_index=[2, 24320], y=[555], s=54),\n",
       " Data(x=[866, 8], edge_index=[2, 47136], y=[866], s=68),\n",
       " Data(x=[34, 8], edge_index=[2, 306], y=[34], s=13),\n",
       " Data(x=[1920, 8], edge_index=[2, 158204], y=[1920], s=103),\n",
       " Data(x=[161, 8], edge_index=[2, 3718], y=[161], s=27),\n",
       " Data(x=[1489, 8], edge_index=[2, 108956], y=[1489], s=85),\n",
       " Data(x=[1240, 8], edge_index=[2, 82696], y=[1240], s=78),\n",
       " Data(x=[1544, 8], edge_index=[2, 115254], y=[1544], s=86),\n",
       " Data(x=[216, 8], edge_index=[2, 5628], y=[216], s=34),\n",
       " Data(x=[258, 8], edge_index=[2, 7636], y=[258], s=36),\n",
       " Data(x=[846, 8], edge_index=[2, 45402], y=[846], s=68),\n",
       " Data(x=[2556, 8], edge_index=[2, 245364], y=[2556], s=118),\n",
       " Data(x=[2132, 8], edge_index=[2, 187360], y=[2132], s=104),\n",
       " Data(x=[1225, 8], edge_index=[2, 80478], y=[1225], s=79),\n",
       " Data(x=[324, 8], edge_index=[2, 10590], y=[324], s=43),\n",
       " Data(x=[860, 8], edge_index=[2, 47452], y=[860], s=66),\n",
       " Data(x=[1132, 8], edge_index=[2, 71032], y=[1132], s=76),\n",
       " Data(x=[2782, 8], edge_index=[2, 275712], y=[2782], s=120),\n",
       " Data(x=[1512, 8], edge_index=[2, 111540], y=[1512], s=86),\n",
       " Data(x=[2817, 8], edge_index=[2, 281622], y=[2817], s=120),\n",
       " Data(x=[16, 8], edge_index=[2, 96], y=[16], s=8),\n",
       " Data(x=[3578, 8], edge_index=[2, 406804], y=[3578], s=131),\n",
       " Data(x=[3276, 8], edge_index=[2, 358888], y=[3276], s=127),\n",
       " Data(x=[2006, 8], edge_index=[2, 170500], y=[2006], s=97),\n",
       " Data(x=[27, 8], edge_index=[2, 244], y=[27], s=10),\n",
       " Data(x=[2026, 8], edge_index=[2, 171922], y=[2026], s=100),\n",
       " Data(x=[450, 8], edge_index=[2, 17576], y=[450], s=49),\n",
       " Data(x=[116, 8], edge_index=[2, 2468], y=[116], s=20),\n",
       " Data(x=[56, 8], edge_index=[2, 672], y=[56], s=18),\n",
       " Data(x=[548, 8], edge_index=[2, 23530], y=[548], s=54),\n",
       " Data(x=[2900, 8], edge_index=[2, 296238], y=[2900], s=123),\n",
       " Data(x=[3289, 8], edge_index=[2, 360860], y=[3289], s=130),\n",
       " Data(x=[95, 8], edge_index=[2, 1670], y=[95], s=22),\n",
       " Data(x=[59, 8], edge_index=[2, 776], y=[59], s=17),\n",
       " Data(x=[1422, 8], edge_index=[2, 101520], y=[1422], s=85),\n",
       " Data(x=[319, 8], edge_index=[2, 10484], y=[319], s=43),\n",
       " Data(x=[66, 8], edge_index=[2, 968], y=[66], s=16),\n",
       " Data(x=[356, 8], edge_index=[2, 12090], y=[356], s=43),\n",
       " Data(x=[1264, 8], edge_index=[2, 86080], y=[1264], s=80),\n",
       " Data(x=[162, 8], edge_index=[2, 3676], y=[162], s=27),\n",
       " Data(x=[576, 8], edge_index=[2, 25308], y=[576], s=54),\n",
       " Data(x=[93, 8], edge_index=[2, 1574], y=[93], s=20),\n",
       " Data(x=[270, 8], edge_index=[2, 7964], y=[270], s=38),\n",
       " Data(x=[1136, 8], edge_index=[2, 72088], y=[1136], s=77),\n",
       " Data(x=[62, 8], edge_index=[2, 800], y=[62], s=18),\n",
       " Data(x=[587, 8], edge_index=[2, 26022], y=[587], s=58),\n",
       " Data(x=[268, 8], edge_index=[2, 8170], y=[268], s=35),\n",
       " Data(x=[1424, 8], edge_index=[2, 101948], y=[1424], s=83),\n",
       " Data(x=[2522, 8], edge_index=[2, 238840], y=[2522], s=116),\n",
       " Data(x=[2445, 8], edge_index=[2, 229250], y=[2445], s=108),\n",
       " Data(x=[378, 8], edge_index=[2, 13300], y=[378], s=45),\n",
       " Data(x=[68, 8], edge_index=[2, 940], y=[68], s=19),\n",
       " Data(x=[36, 8], edge_index=[2, 360], y=[36], s=12),\n",
       " Data(x=[1493, 8], edge_index=[2, 109034], y=[1493], s=84),\n",
       " Data(x=[1547, 8], edge_index=[2, 114758], y=[1547], s=89),\n",
       " Data(x=[1757, 8], edge_index=[2, 137618], y=[1757], s=94),\n",
       " Data(x=[1984, 8], edge_index=[2, 166070], y=[1984], s=101),\n",
       " Data(x=[3074, 8], edge_index=[2, 321644], y=[3074], s=128),\n",
       " Data(x=[2805, 8], edge_index=[2, 280458], y=[2805], s=119),\n",
       " Data(x=[1473, 8], edge_index=[2, 105800], y=[1473], s=89),\n",
       " Data(x=[388, 8], edge_index=[2, 13892], y=[388], s=46),\n",
       " Data(x=[863, 8], edge_index=[2, 46790], y=[863], s=68),\n",
       " Data(x=[2762, 8], edge_index=[2, 273840], y=[2762], s=120),\n",
       " Data(x=[206, 8], edge_index=[2, 5530], y=[206], s=30),\n",
       " Data(x=[1441, 8], edge_index=[2, 102064], y=[1441], s=92),\n",
       " Data(x=[766, 8], edge_index=[2, 39420], y=[766], s=63),\n",
       " Data(x=[2832, 8], edge_index=[2, 285462], y=[2832], s=117),\n",
       " Data(x=[1318, 8], edge_index=[2, 90516], y=[1318], s=81),\n",
       " Data(x=[2780, 8], edge_index=[2, 276020], y=[2780], s=120),\n",
       " Data(x=[768, 8], edge_index=[2, 39296], y=[768], s=62),\n",
       " Data(x=[2780, 8], edge_index=[2, 277036], y=[2780], s=120),\n",
       " Data(x=[224, 8], edge_index=[2, 5978], y=[224], s=34),\n",
       " Data(x=[1104, 8], edge_index=[2, 69522], y=[1104], s=77),\n",
       " Data(x=[2532, 8], edge_index=[2, 242218], y=[2532], s=118),\n",
       " Data(x=[2037, 8], edge_index=[2, 174400], y=[2037], s=99),\n",
       " Data(x=[1100, 8], edge_index=[2, 69554], y=[1100], s=74),\n",
       " Data(x=[2820, 8], edge_index=[2, 283776], y=[2820], s=118),\n",
       " Data(x=[247, 8], edge_index=[2, 6956], y=[247], s=36),\n",
       " Data(x=[2086, 8], edge_index=[2, 182452], y=[2086], s=101),\n",
       " Data(x=[2706, 8], edge_index=[2, 264778], y=[2706], s=120),\n",
       " Data(x=[2088, 8], edge_index=[2, 183360], y=[2088], s=101),\n",
       " Data(x=[31, 8], edge_index=[2, 258], y=[31], s=13),\n",
       " Data(x=[566, 8], edge_index=[2, 24706], y=[566], s=54),\n",
       " Data(x=[2791, 8], edge_index=[2, 281730], y=[2791], s=116),\n",
       " Data(x=[1968, 8], edge_index=[2, 163874], y=[1968], s=100),\n",
       " Data(x=[989, 8], edge_index=[2, 57930], y=[989], s=74),\n",
       " Data(x=[84, 8], edge_index=[2, 1342], y=[84], s=21),\n",
       " Data(x=[1000, 8], edge_index=[2, 58894], y=[1000], s=73),\n",
       " Data(x=[62, 8], edge_index=[2, 844], y=[62], s=16),\n",
       " Data(x=[58, 8], edge_index=[2, 752], y=[58], s=16),\n",
       " Data(x=[1359, 8], edge_index=[2, 93956], y=[1359], s=83),\n",
       " Data(x=[42, 8], edge_index=[2, 458], y=[42], s=14),\n",
       " Data(x=[443, 8], edge_index=[2, 17192], y=[443], s=49),\n",
       " Data(x=[118, 8], edge_index=[2, 2232], y=[118], s=26),\n",
       " Data(x=[455, 8], edge_index=[2, 17908], y=[455], s=49),\n",
       " Data(x=[2796, 8], edge_index=[2, 281108], y=[2796], s=117),\n",
       " Data(x=[2328, 8], edge_index=[2, 212784], y=[2328], s=115),\n",
       " Data(x=[427, 8], edge_index=[2, 16182], y=[427], s=49),\n",
       " Data(x=[1618, 8], edge_index=[2, 123146], y=[1618], s=89),\n",
       " Data(x=[2997, 8], edge_index=[2, 310568], y=[2997], s=126),\n",
       " Data(x=[564, 8], edge_index=[2, 24592], y=[564], s=53),\n",
       " Data(x=[366, 8], edge_index=[2, 12704], y=[366], s=45),\n",
       " Data(x=[2598, 8], edge_index=[2, 250888], y=[2598], s=114),\n",
       " Data(x=[819, 8], edge_index=[2, 45260], y=[819], s=67),\n",
       " Data(x=[178, 8], edge_index=[2, 4600], y=[178], s=30),\n",
       " Data(x=[2785, 8], edge_index=[2, 276214], y=[2785], s=120),\n",
       " Data(x=[1274, 8], edge_index=[2, 85082], y=[1274], s=82),\n",
       " Data(x=[560, 8], edge_index=[2, 24332], y=[560], s=55),\n",
       " Data(x=[551, 8], edge_index=[2, 24118], y=[551], s=54),\n",
       " Data(x=[70, 8], edge_index=[2, 968], y=[70], s=20),\n",
       " Data(x=[204, 8], edge_index=[2, 5098], y=[204], s=33),\n",
       " Data(x=[28, 8], edge_index=[2, 228], y=[28], s=12),\n",
       " Data(x=[2750, 8], edge_index=[2, 274304], y=[2750], s=115),\n",
       " Data(x=[1582, 8], edge_index=[2, 121996], y=[1582], s=80),\n",
       " Data(x=[532, 8], edge_index=[2, 22486], y=[532], s=54),\n",
       " Data(x=[2240, 8], edge_index=[2, 202496], y=[2240], s=110),\n",
       " Data(x=[358, 8], edge_index=[2, 12300], y=[358], s=44),\n",
       " Data(x=[3082, 8], edge_index=[2, 322828], y=[3082], s=127),\n",
       " Data(x=[747, 8], edge_index=[2, 37848], y=[747], s=63),\n",
       " Data(x=[327, 8], edge_index=[2, 10564], y=[327], s=45),\n",
       " Data(x=[201, 8], edge_index=[2, 5044], y=[201], s=33),\n",
       " Data(x=[240, 8], edge_index=[2, 6636], y=[240], s=35),\n",
       " Data(x=[279, 8], edge_index=[2, 8406], y=[279], s=38),\n",
       " Data(x=[335, 8], edge_index=[2, 10988], y=[335], s=48),\n",
       " Data(x=[508, 8], edge_index=[2, 21046], y=[508], s=51),\n",
       " Data(x=[247, 8], edge_index=[2, 7170], y=[247], s=34),\n",
       " Data(x=[399, 8], edge_index=[2, 14352], y=[399], s=48),\n",
       " Data(x=[2547, 8], edge_index=[2, 244492], y=[2547], s=120),\n",
       " Data(x=[2700, 8], edge_index=[2, 263406], y=[2700], s=120),\n",
       " Data(x=[2498, 8], edge_index=[2, 237298], y=[2498], s=117),\n",
       " Data(x=[354, 8], edge_index=[2, 11970], y=[354], s=45),\n",
       " Data(x=[341, 8], edge_index=[2, 11642], y=[341], s=43),\n",
       " Data(x=[1106, 8], edge_index=[2, 68592], y=[1106], s=81),\n",
       " Data(x=[100, 8], edge_index=[2, 1792], y=[100], s=22),\n",
       " Data(x=[1236, 8], edge_index=[2, 81112], y=[1236], s=77),\n",
       " Data(x=[898, 8], edge_index=[2, 50600], y=[898], s=66),\n",
       " Data(x=[29, 8], edge_index=[2, 254], y=[29], s=12),\n",
       " Data(x=[458, 8], edge_index=[2, 18130], y=[458], s=48),\n",
       " Data(x=[125, 8], edge_index=[2, 2574], y=[125], s=23),\n",
       " Data(x=[308, 8], edge_index=[2, 9838], y=[308], s=40),\n",
       " Data(x=[754, 8], edge_index=[2, 38532], y=[754], s=63),\n",
       " Data(x=[394, 8], edge_index=[2, 14748], y=[394], s=40),\n",
       " Data(x=[321, 8], edge_index=[2, 10370], y=[321], s=45),\n",
       " Data(x=[2780, 8], edge_index=[2, 276016], y=[2780], s=120),\n",
       " Data(x=[1035, 8], edge_index=[2, 62334], y=[1035], s=71),\n",
       " Data(x=[59, 8], edge_index=[2, 776], y=[59], s=16),\n",
       " Data(x=[158, 8], edge_index=[2, 3476], y=[158], s=29),\n",
       " Data(x=[31, 8], edge_index=[2, 256], y=[31], s=13),\n",
       " Data(x=[142, 8], edge_index=[2, 3090], y=[142], s=25),\n",
       " Data(x=[2763, 8], edge_index=[2, 274878], y=[2763], s=118),\n",
       " Data(x=[301, 8], edge_index=[2, 9814], y=[301], s=38),\n",
       " Data(x=[401, 8], edge_index=[2, 14648], y=[401], s=47),\n",
       " Data(x=[104, 8], edge_index=[2, 1808], y=[104], s=24),\n",
       " Data(x=[2011, 8], edge_index=[2, 169944], y=[2011], s=101),\n",
       " Data(x=[573, 8], edge_index=[2, 25274], y=[573], s=54),\n",
       " Data(x=[107, 8], edge_index=[2, 1858], y=[107], s=26),\n",
       " Data(x=[1024, 8], edge_index=[2, 61276], y=[1024], s=75),\n",
       " Data(x=[2704, 8], edge_index=[2, 264068], y=[2704], s=120),\n",
       " Data(x=[1052, 8], edge_index=[2, 65300], y=[1052], s=78),\n",
       " Data(x=[438, 8], edge_index=[2, 16806], y=[438], s=49),\n",
       " Data(x=[2726, 8], edge_index=[2, 269316], y=[2726], s=119),\n",
       " Data(x=[366, 8], edge_index=[2, 12660], y=[366], s=45),\n",
       " Data(x=[220, 8], edge_index=[2, 5758], y=[220], s=35),\n",
       " Data(x=[2185, 8], edge_index=[2, 192318], y=[2185], s=108),\n",
       " Data(x=[1113, 8], edge_index=[2, 69690], y=[1113], s=73),\n",
       " Data(x=[1419, 8], edge_index=[2, 100308], y=[1419], s=86),\n",
       " Data(x=[1115, 8], edge_index=[2, 70374], y=[1115], s=77),\n",
       " Data(x=[2455, 8], edge_index=[2, 229550], y=[2455], s=111),\n",
       " Data(x=[1286, 8], edge_index=[2, 87680], y=[1286], s=80),\n",
       " Data(x=[416, 8], edge_index=[2, 15738], y=[416], s=47),\n",
       " Data(x=[2148, 8], edge_index=[2, 189116], y=[2148], s=106),\n",
       " Data(x=[657, 8], edge_index=[2, 30926], y=[657], s=61),\n",
       " Data(x=[89, 8], edge_index=[2, 1460], y=[89], s=21),\n",
       " Data(x=[64, 8], edge_index=[2, 974], y=[64], s=16),\n",
       " Data(x=[58, 8], edge_index=[2, 752], y=[58], s=16),\n",
       " Data(x=[1225, 8], edge_index=[2, 80452], y=[1225], s=81),\n",
       " Data(x=[1154, 8], edge_index=[2, 74242], y=[1154], s=77),\n",
       " Data(x=[2696, 8], edge_index=[2, 263696], y=[2696], s=119),\n",
       " Data(x=[174, 8], edge_index=[2, 4306], y=[174], s=28),\n",
       " Data(x=[2739, 8], edge_index=[2, 270034], y=[2739], s=120),\n",
       " Data(x=[2742, 8], edge_index=[2, 272128], y=[2742], s=119),\n",
       " Data(x=[174, 8], edge_index=[2, 4080], y=[174], s=30),\n",
       " Data(x=[547, 8], edge_index=[2, 23454], y=[547], s=54),\n",
       " Data(x=[2814, 8], edge_index=[2, 283302], y=[2814], s=123),\n",
       " Data(x=[136, 8], edge_index=[2, 2770], y=[136], s=26),\n",
       " Data(x=[2754, 8], edge_index=[2, 271708], y=[2754], s=120),\n",
       " Data(x=[258, 8], edge_index=[2, 7392], y=[258], s=38),\n",
       " Data(x=[376, 8], edge_index=[2, 13130], y=[376], s=44),\n",
       " Data(x=[80, 8], edge_index=[2, 1230], y=[80], s=20),\n",
       " Data(x=[72, 8], edge_index=[2, 1088], y=[72], s=17),\n",
       " Data(x=[1241, 8], edge_index=[2, 82066], y=[1241], s=81),\n",
       " Data(x=[222, 8], edge_index=[2, 5982], y=[222], s=32),\n",
       " Data(x=[2242, 8], edge_index=[2, 200256], y=[2242], s=106),\n",
       " Data(x=[112, 8], edge_index=[2, 2048], y=[112], s=24),\n",
       " Data(x=[418, 8], edge_index=[2, 15790], y=[418], s=47),\n",
       " Data(x=[2810, 8], edge_index=[2, 282034], y=[2810], s=121),\n",
       " Data(x=[945, 8], edge_index=[2, 55326], y=[945], s=67),\n",
       " Data(x=[893, 8], edge_index=[2, 49326], y=[893], s=68),\n",
       " Data(x=[98, 8], edge_index=[2, 1654], y=[98], s=23),\n",
       " Data(x=[336, 8], edge_index=[2, 11220], y=[336], s=43),\n",
       " Data(x=[62, 8], edge_index=[2, 848], y=[62], s=16),\n",
       " Data(x=[1630, 8], edge_index=[2, 124914], y=[1630], s=91),\n",
       " Data(x=[2577, 8], edge_index=[2, 248314], y=[2577], s=113),\n",
       " Data(x=[200, 8], edge_index=[2, 5088], y=[200], s=31),\n",
       " Data(x=[1214, 8], edge_index=[2, 79780], y=[1214], s=77),\n",
       " Data(x=[2697, 8], edge_index=[2, 264922], y=[2697], s=117),\n",
       " Data(x=[56, 8], edge_index=[2, 664], y=[56], s=18),\n",
       " Data(x=[328, 8], edge_index=[2, 10870], y=[328], s=43),\n",
       " Data(x=[64, 8], edge_index=[2, 830], y=[64], s=19),\n",
       " Data(x=[122, 8], edge_index=[2, 2484], y=[122], s=24),\n",
       " Data(x=[1660, 8], edge_index=[2, 126746], y=[1660], s=92),\n",
       " Data(x=[256, 8], edge_index=[2, 7340], y=[256], s=38),\n",
       " Data(x=[1754, 8], edge_index=[2, 139380], y=[1754], s=92),\n",
       " Data(x=[1640, 8], edge_index=[2, 125956], y=[1640], s=98),\n",
       " Data(x=[160, 8], edge_index=[2, 3640], y=[160], s=28),\n",
       " Data(x=[2797, 8], edge_index=[2, 279994], y=[2797], s=118),\n",
       " Data(x=[1252, 8], edge_index=[2, 84454], y=[1252], s=78),\n",
       " Data(x=[1661, 8], edge_index=[2, 128676], y=[1661], s=91),\n",
       " Data(x=[298, 8], edge_index=[2, 9400], y=[298], s=40),\n",
       " Data(x=[97, 8], edge_index=[2, 1660], y=[97], s=21),\n",
       " Data(x=[1023, 8], edge_index=[2, 61130], y=[1023], s=75),\n",
       " Data(x=[1988, 8], edge_index=[2, 166606], y=[1988], s=102),\n",
       " Data(x=[1109, 8], edge_index=[2, 70918], y=[1109], s=77),\n",
       " Data(x=[382, 8], edge_index=[2, 13870], y=[382], s=45),\n",
       " Data(x=[1267, 8], edge_index=[2, 84558], y=[1267], s=81),\n",
       " Data(x=[204, 8], edge_index=[2, 5102], y=[204], s=33),\n",
       " Data(x=[1228, 8], edge_index=[2, 79996], y=[1228], s=82),\n",
       " Data(x=[146, 8], edge_index=[2, 3122], y=[146], s=27),\n",
       " Data(x=[307, 8], edge_index=[2, 9842], y=[307], s=42),\n",
       " Data(x=[1131, 8], edge_index=[2, 72434], y=[1131], s=74),\n",
       " Data(x=[112, 8], edge_index=[2, 2058], y=[112], s=24),\n",
       " Data(x=[1036, 8], edge_index=[2, 63260], y=[1036], s=69),\n",
       " Data(x=[366, 8], edge_index=[2, 12784], y=[366], s=43),\n",
       " Data(x=[521, 8], edge_index=[2, 23652], y=[521], s=44),\n",
       " Data(x=[1850, 8], edge_index=[2, 153424], y=[1850], s=97),\n",
       " Data(x=[186, 8], edge_index=[2, 4576], y=[186], s=29),\n",
       " Data(x=[386, 8], edge_index=[2, 13688], y=[386], s=46),\n",
       " Data(x=[552, 8], edge_index=[2, 23712], y=[552], s=54),\n",
       " Data(x=[4096, 8], edge_index=[2, 501744], y=[4096], s=136),\n",
       " Data(x=[1934, 8], edge_index=[2, 160078], y=[1934], s=98),\n",
       " Data(x=[2825, 8], edge_index=[2, 285436], y=[2825], s=120),\n",
       " Data(x=[373, 8], edge_index=[2, 12978], y=[373], s=45),\n",
       " Data(x=[104, 8], edge_index=[2, 1792], y=[104], s=25),\n",
       " Data(x=[456, 8], edge_index=[2, 17798], y=[456], s=49),\n",
       " Data(x=[567, 8], edge_index=[2, 24850], y=[567], s=54),\n",
       " Data(x=[2788, 8], edge_index=[2, 277718], y=[2788], s=120),\n",
       " Data(x=[735, 8], edge_index=[2, 37202], y=[735], s=60),\n",
       " Data(x=[32, 8], edge_index=[2, 274], y=[32], s=13),\n",
       " Data(x=[109, 8], edge_index=[2, 1972], y=[109], s=23),\n",
       " Data(x=[550, 8], edge_index=[2, 23898], y=[550], s=54),\n",
       " Data(x=[2775, 8], edge_index=[2, 275094], y=[2775], s=120),\n",
       " Data(x=[1744, 8], edge_index=[2, 138750], y=[1744], s=92),\n",
       " Data(x=[173, 8], edge_index=[2, 4066], y=[173], s=29),\n",
       " Data(x=[376, 8], edge_index=[2, 13358], y=[376], s=43),\n",
       " Data(x=[1752, 8], edge_index=[2, 139826], y=[1752], s=96),\n",
       " Data(x=[2514, 8], edge_index=[2, 239524], y=[2514], s=119),\n",
       " Data(x=[209, 8], edge_index=[2, 5588], y=[209], s=33),\n",
       " Data(x=[2755, 8], edge_index=[2, 272934], y=[2755], s=119),\n",
       " Data(x=[1285, 8], edge_index=[2, 87380], y=[1285], s=78),\n",
       " Data(x=[38, 8], edge_index=[2, 380], y=[38], s=14),\n",
       " Data(x=[174, 8], edge_index=[2, 4160], y=[174], s=28),\n",
       " Data(x=[101, 8], edge_index=[2, 1782], y=[101], s=22),\n",
       " Data(x=[70, 8], edge_index=[2, 1092], y=[70], s=16),\n",
       " Data(x=[2374, 8], edge_index=[2, 219840], y=[2374], s=115),\n",
       " Data(x=[2028, 8], edge_index=[2, 172102], y=[2028], s=101),\n",
       " Data(x=[1936, 8], edge_index=[2, 159796], y=[1936], s=101),\n",
       " Data(x=[427, 8], edge_index=[2, 16176], y=[427], s=48),\n",
       " Data(x=[772, 8], edge_index=[2, 40426], y=[772], s=61),\n",
       " Data(x=[36, 8], edge_index=[2, 356], y=[36], s=13),\n",
       " Data(x=[201, 8], edge_index=[2, 5170], y=[201], s=34),\n",
       " Data(x=[2647, 8], edge_index=[2, 256946], y=[2647], s=118),\n",
       " Data(x=[1692, 8], edge_index=[2, 132514], y=[1692], s=92),\n",
       " Data(x=[2138, 8], edge_index=[2, 191966], y=[2138], s=104),\n",
       " Data(x=[451, 8], edge_index=[2, 17572], y=[451], s=49),\n",
       " Data(x=[837, 8], edge_index=[2, 45440], y=[837], s=65),\n",
       " Data(x=[167, 8], edge_index=[2, 3982], y=[167], s=28),\n",
       " Data(x=[1581, 8], edge_index=[2, 119878], y=[1581], s=88),\n",
       " Data(x=[452, 8], edge_index=[2, 17736], y=[452], s=48),\n",
       " Data(x=[64, 8], edge_index=[2, 904], y=[64], s=16),\n",
       " Data(x=[2709, 8], edge_index=[2, 265494], y=[2709], s=120),\n",
       " Data(x=[1162, 8], edge_index=[2, 74698], y=[1162], s=75),\n",
       " Data(x=[50, 8], edge_index=[2, 576], y=[50], s=16),\n",
       " Data(x=[259, 8], edge_index=[2, 7652], y=[259], s=36),\n",
       " Data(x=[2007, 8], edge_index=[2, 171774], y=[2007], s=98),\n",
       " Data(x=[567, 8], edge_index=[2, 24636], y=[567], s=54),\n",
       " Data(x=[1992, 8], edge_index=[2, 167088], y=[1992], s=101),\n",
       " Data(x=[3771, 8], edge_index=[2, 441344], y=[3771], s=141),\n",
       " Data(x=[2816, 8], edge_index=[2, 282148], y=[2816], s=120),\n",
       " Data(x=[1010, 8], edge_index=[2, 61784], y=[1010], s=64),\n",
       " Data(x=[2794, 8], edge_index=[2, 280592], y=[2794], s=122),\n",
       " Data(x=[3008, 8], edge_index=[2, 311754], y=[3008], s=126),\n",
       " Data(x=[864, 8], edge_index=[2, 46932], y=[864], s=68),\n",
       " Data(x=[2616, 8], edge_index=[2, 253060], y=[2616], s=113),\n",
       " Data(x=[557, 8], edge_index=[2, 24378], y=[557], s=54),\n",
       " Data(x=[102, 8], edge_index=[2, 1810], y=[102], s=22),\n",
       " Data(x=[3804, 8], edge_index=[2, 447440], y=[3804], s=141),\n",
       " Data(x=[1868, 8], edge_index=[2, 154032], y=[1868], s=100),\n",
       " Data(x=[2786, 8], edge_index=[2, 276704], y=[2786], s=120),\n",
       " Data(x=[1575, 8], edge_index=[2, 118128], y=[1575], s=89),\n",
       " Data(x=[387, 8], edge_index=[2, 14186], y=[387], s=45),\n",
       " Data(x=[778, 8], edge_index=[2, 40628], y=[778], s=64),\n",
       " Data(x=[544, 8], edge_index=[2, 23224], y=[544], s=55),\n",
       " Data(x=[544, 8], edge_index=[2, 23290], y=[544], s=54),\n",
       " Data(x=[138, 8], edge_index=[2, 2836], y=[138], s=26),\n",
       " Data(x=[104, 8], edge_index=[2, 1890], y=[104], s=22),\n",
       " Data(x=[2842, 8], edge_index=[2, 286146], y=[2842], s=120),\n",
       " Data(x=[182, 8], edge_index=[2, 4344], y=[182], s=32),\n",
       " Data(x=[150, 8], edge_index=[2, 3302], y=[150], s=27),\n",
       " Data(x=[142, 8], edge_index=[2, 2964], y=[142], s=28),\n",
       " Data(x=[113, 8], edge_index=[2, 2138], y=[113], s=23),\n",
       " Data(x=[276, 8], edge_index=[2, 8312], y=[276], s=36),\n",
       " Data(x=[4172, 8], edge_index=[2, 517216], y=[4172], s=148),\n",
       " Data(x=[90, 8], edge_index=[2, 1464], y=[90], s=21),\n",
       " Data(x=[438, 8], edge_index=[2, 16716], y=[438], s=48),\n",
       " Data(x=[866, 8], edge_index=[2, 47416], y=[866], s=66),\n",
       " Data(x=[3696, 8], edge_index=[2, 428448], y=[3696], s=139),\n",
       " Data(x=[1170, 8], edge_index=[2, 76596], y=[1170], s=74),\n",
       " Data(x=[544, 8], edge_index=[2, 23616], y=[544], s=54),\n",
       " Data(x=[2010, 8], edge_index=[2, 169764], y=[2010], s=103),\n",
       " Data(x=[41, 8], edge_index=[2, 416], y=[41], s=14),\n",
       " Data(x=[35, 8], edge_index=[2, 350], y=[35], s=12),\n",
       " Data(x=[554, 8], edge_index=[2, 23888], y=[554], s=54),\n",
       " Data(x=[564, 8], edge_index=[2, 24438], y=[564], s=54),\n",
       " Data(x=[207, 8], edge_index=[2, 5370], y=[207], s=31),\n",
       " Data(x=[1051, 8], edge_index=[2, 63392], y=[1051], s=72),\n",
       " Data(x=[2729, 8], edge_index=[2, 267522], y=[2729], s=120),\n",
       " Data(x=[2720, 8], edge_index=[2, 267092], y=[2720], s=120),\n",
       " Data(x=[2316, 8], edge_index=[2, 212110], y=[2316], s=114),\n",
       " Data(x=[1874, 8], edge_index=[2, 154892], y=[1874], s=98),\n",
       " Data(x=[2807, 8], edge_index=[2, 279458], y=[2807], s=120),\n",
       " Data(x=[839, 8], edge_index=[2, 46870], y=[839], s=64),\n",
       " Data(x=[588, 8], edge_index=[2, 26440], y=[588], s=55),\n",
       " Data(x=[1319, 8], edge_index=[2, 89776], y=[1319], s=83),\n",
       " Data(x=[572, 8], edge_index=[2, 25350], y=[572], s=54),\n",
       " Data(x=[2634, 8], edge_index=[2, 255442], y=[2634], s=124),\n",
       " Data(x=[1375, 8], edge_index=[2, 96234], y=[1375], s=82),\n",
       " Data(x=[679, 8], edge_index=[2, 32664], y=[679], s=61),\n",
       " Data(x=[311, 8], edge_index=[2, 9800], y=[311], s=41),\n",
       " Data(x=[2763, 8], edge_index=[2, 273172], y=[2763], s=120),\n",
       " Data(x=[152, 8], edge_index=[2, 3280], y=[152], s=30),\n",
       " Data(x=[2803, 8], edge_index=[2, 279746], y=[2803], s=120),\n",
       " Data(x=[315, 8], edge_index=[2, 10204], y=[315], s=40),\n",
       " Data(x=[2829, 8], edge_index=[2, 285124], y=[2829], s=118),\n",
       " Data(x=[784, 8], edge_index=[2, 41218], y=[784], s=62),\n",
       " Data(x=[1241, 8], edge_index=[2, 82686], y=[1241], s=78),\n",
       " Data(x=[116, 8], edge_index=[2, 2242], y=[116], s=25),\n",
       " Data(x=[3831, 8], edge_index=[2, 452476], y=[3831], s=142),\n",
       " Data(x=[1336, 8], edge_index=[2, 91650], y=[1336], s=81),\n",
       " Data(x=[728, 8], edge_index=[2, 36802], y=[728], s=68),\n",
       " Data(x=[352, 8], edge_index=[2, 11928], y=[352], s=45),\n",
       " Data(x=[2743, 8], edge_index=[2, 270576], y=[2743], s=120),\n",
       " Data(x=[2833, 8], edge_index=[2, 284528], y=[2833], s=120),\n",
       " Data(x=[578, 8], edge_index=[2, 25660], y=[578], s=55),\n",
       " Data(x=[2795, 8], edge_index=[2, 278256], y=[2795], s=120),\n",
       " Data(x=[119, 8], edge_index=[2, 2186], y=[119], s=28),\n",
       " Data(x=[430, 8], edge_index=[2, 16390], y=[430], s=49),\n",
       " Data(x=[3362, 8], edge_index=[2, 372858], y=[3362], s=131),\n",
       " Data(x=[547, 8], edge_index=[2, 23418], y=[547], s=54),\n",
       " Data(x=[108, 8], edge_index=[2, 1910], y=[108], s=24),\n",
       " Data(x=[361, 8], edge_index=[2, 12654], y=[361], s=41),\n",
       " Data(x=[1178, 8], edge_index=[2, 75392], y=[1178], s=77),\n",
       " Data(x=[566, 8], edge_index=[2, 24888], y=[566], s=54),\n",
       " Data(x=[1418, 8], edge_index=[2, 102372], y=[1418], s=84),\n",
       " Data(x=[354, 8], edge_index=[2, 12250], y=[354], s=42),\n",
       " Data(x=[31, 8], edge_index=[2, 284], y=[31], s=12),\n",
       " Data(x=[199, 8], edge_index=[2, 5024], y=[199], s=31),\n",
       " Data(x=[1807, 8], edge_index=[2, 146080], y=[1807], s=92),\n",
       " Data(x=[556, 8], edge_index=[2, 24268], y=[556], s=54),\n",
       " Data(x=[55, 8], edge_index=[2, 720], y=[55], s=15),\n",
       " Data(x=[2415, 8], edge_index=[2, 224888], y=[2415], s=113),\n",
       " Data(x=[196, 8], edge_index=[2, 4872], y=[196], s=34),\n",
       " Data(x=[159, 8], edge_index=[2, 3568], y=[159], s=28),\n",
       " Data(x=[1454, 8], edge_index=[2, 104822], y=[1454], s=90),\n",
       " Data(x=[2748, 8], edge_index=[2, 270358], y=[2748], s=120),\n",
       " Data(x=[140, 8], edge_index=[2, 2924], y=[140], s=28),\n",
       " Data(x=[369, 8], edge_index=[2, 12896], y=[369], s=46),\n",
       " Data(x=[61, 8], edge_index=[2, 882], y=[61], s=16),\n",
       " Data(x=[92, 8], edge_index=[2, 1578], y=[92], s=21),\n",
       " Data(x=[2018, 8], edge_index=[2, 171484], y=[2018], s=103),\n",
       " Data(x=[208, 8], edge_index=[2, 5460], y=[208], s=31),\n",
       " Data(x=[964, 8], edge_index=[2, 56530], y=[964], s=70),\n",
       " Data(x=[2782, 8], edge_index=[2, 275796], y=[2782], s=120),\n",
       " Data(x=[2715, 8], edge_index=[2, 265506], y=[2715], s=120),\n",
       " Data(x=[2284, 8], edge_index=[2, 206386], y=[2284], s=106),\n",
       " Data(x=[156, 8], edge_index=[2, 3480], y=[156], s=28),\n",
       " Data(x=[206, 8], edge_index=[2, 5218], y=[206], s=34),\n",
       " Data(x=[339, 8], edge_index=[2, 11360], y=[339], s=48),\n",
       " Data(x=[561, 8], edge_index=[2, 24380], y=[561], s=54),\n",
       " Data(x=[637, 8], edge_index=[2, 29572], y=[637], s=58),\n",
       " Data(x=[2843, 8], edge_index=[2, 286588], y=[2843], s=120),\n",
       " Data(x=[303, 8], edge_index=[2, 9550], y=[303], s=43),\n",
       " Data(x=[220, 8], edge_index=[2, 5832], y=[220], s=34),\n",
       " Data(x=[3549, 8], edge_index=[2, 404644], y=[3549], s=128),\n",
       " Data(x=[655, 8], edge_index=[2, 30900], y=[655], s=61),\n",
       " Data(x=[32, 8], edge_index=[2, 300], y=[32], s=12),\n",
       " Data(x=[115, 8], edge_index=[2, 2228], y=[115], s=23),\n",
       " Data(x=[148, 8], edge_index=[2, 3122], y=[148], s=27),\n",
       " Data(x=[745, 8], edge_index=[2, 37310], y=[745], s=66),\n",
       " Data(x=[574, 8], edge_index=[2, 25238], y=[574], s=54),\n",
       " Data(x=[196, 8], edge_index=[2, 4904], y=[196], s=32),\n",
       " Data(x=[1142, 8], edge_index=[2, 73098], y=[1142], s=77),\n",
       " Data(x=[3560, 8], edge_index=[2, 405412], y=[3560], s=142),\n",
       " Data(x=[52, 8], edge_index=[2, 610], y=[52], s=17),\n",
       " Data(x=[159, 8], edge_index=[2, 3610], y=[159], s=27),\n",
       " Data(x=[2763, 8], edge_index=[2, 273168], y=[2763], s=120),\n",
       " Data(x=[466, 8], edge_index=[2, 18504], y=[466], s=50),\n",
       " Data(x=[129, 8], edge_index=[2, 2598], y=[129], s=25),\n",
       " Data(x=[1101, 8], edge_index=[2, 68508], y=[1101], s=74),\n",
       " Data(x=[2063, 8], edge_index=[2, 176642], y=[2063], s=101),\n",
       " Data(x=[196, 8], edge_index=[2, 4882], y=[196], s=32),\n",
       " Data(x=[1576, 8], edge_index=[2, 118478], y=[1576], s=87),\n",
       " Data(x=[1121, 8], edge_index=[2, 69626], y=[1121], s=76),\n",
       " Data(x=[895, 8], edge_index=[2, 50354], y=[895], s=66),\n",
       " Data(x=[117, 8], edge_index=[2, 2224], y=[117], s=23),\n",
       " Data(x=[194, 8], edge_index=[2, 4920], y=[194], s=30),\n",
       " Data(x=[743, 8], edge_index=[2, 37706], y=[743], s=63),\n",
       " Data(x=[67, 8], edge_index=[2, 892], y=[67], s=19),\n",
       " Data(x=[2789, 8], edge_index=[2, 277778], y=[2789], s=120),\n",
       " Data(x=[226, 8], edge_index=[2, 6040], y=[226], s=34),\n",
       " Data(x=[37, 8], edge_index=[2, 352], y=[37], s=15),\n",
       " Data(x=[2745, 8], edge_index=[2, 270860], y=[2745], s=117),\n",
       " Data(x=[230, 8], edge_index=[2, 6094], y=[230], s=36),\n",
       " Data(x=[637, 8], edge_index=[2, 29546], y=[637], s=61),\n",
       " Data(x=[2723, 8], edge_index=[2, 267122], y=[2723], s=119),\n",
       " Data(x=[1759, 8], edge_index=[2, 140206], y=[1759], s=94),\n",
       " Data(x=[365, 8], edge_index=[2, 12730], y=[365], s=48),\n",
       " Data(x=[1970, 8], edge_index=[2, 164192], y=[1970], s=100),\n",
       " Data(x=[1090, 8], edge_index=[2, 67074], y=[1090], s=75),\n",
       " Data(x=[336, 8], edge_index=[2, 11270], y=[336], s=43),\n",
       " Data(x=[152, 8], edge_index=[2, 3350], y=[152], s=27),\n",
       " Data(x=[1275, 8], edge_index=[2, 86460], y=[1275], s=78),\n",
       " Data(x=[129, 8], edge_index=[2, 2596], y=[129], s=25),\n",
       " Data(x=[188, 8], edge_index=[2, 4778], y=[188], s=29),\n",
       " Data(x=[2677, 8], edge_index=[2, 260076], y=[2677], s=120),\n",
       " Data(x=[333, 8], edge_index=[2, 11082], y=[333], s=43),\n",
       " Data(x=[2246, 8], edge_index=[2, 204260], y=[2246], s=110),\n",
       " Data(x=[1075, 8], edge_index=[2, 66582], y=[1075], s=71),\n",
       " Data(x=[118, 8], edge_index=[2, 2240], y=[118], s=26),\n",
       " Data(x=[355, 8], edge_index=[2, 12004], y=[355], s=45),\n",
       " Data(x=[83, 8], edge_index=[2, 1390], y=[83], s=20),\n",
       " Data(x=[2748, 8], edge_index=[2, 270590], y=[2748], s=119),\n",
       " Data(x=[42, 8], edge_index=[2, 462], y=[42], s=13),\n",
       " Data(x=[1932, 8], edge_index=[2, 159544], y=[1932], s=101),\n",
       " Data(x=[3099, 8], edge_index=[2, 327812], y=[3099], s=140),\n",
       " Data(x=[344, 8], edge_index=[2, 11454], y=[344], s=45),\n",
       " Data(x=[234, 8], edge_index=[2, 6650], y=[234], s=32),\n",
       " Data(x=[48, 8], edge_index=[2, 524], y=[48], s=16),\n",
       " Data(x=[130, 8], edge_index=[2, 2784], y=[130], s=23),\n",
       " Data(x=[239, 8], edge_index=[2, 6708], y=[239], s=35),\n",
       " Data(x=[130, 8], edge_index=[2, 2552], y=[130], s=26),\n",
       " Data(x=[1238, 8], edge_index=[2, 82094], y=[1238], s=77),\n",
       " Data(x=[3982, 8], edge_index=[2, 481850], y=[3982], s=145),\n",
       " Data(x=[394, 8], edge_index=[2, 14306], y=[394], s=45),\n",
       " Data(x=[98, 8], edge_index=[2, 1644], y=[98], s=23),\n",
       " Data(x=[551, 8], edge_index=[2, 24024], y=[551], s=54),\n",
       " Data(x=[647, 8], edge_index=[2, 30268], y=[647], s=56),\n",
       " Data(x=[972, 8], edge_index=[2, 56498], y=[972], s=72),\n",
       " Data(x=[1346, 8], edge_index=[2, 93360], y=[1346], s=83),\n",
       " Data(x=[319, 8], edge_index=[2, 10246], y=[319], s=44),\n",
       " Data(x=[2818, 8], edge_index=[2, 282228], y=[2818], s=120),\n",
       " Data(x=[985, 8], edge_index=[2, 57610], y=[985], s=72),\n",
       " Data(x=[90, 8], edge_index=[2, 1432], y=[90], s=22),\n",
       " Data(x=[2933, 8], edge_index=[2, 301018], y=[2933], s=126),\n",
       " Data(x=[348, 8], edge_index=[2, 11958], y=[348], s=43),\n",
       " Data(x=[273, 8], edge_index=[2, 8108], y=[273], s=36),\n",
       " Data(x=[243, 8], edge_index=[2, 6760], y=[243], s=36),\n",
       " Data(x=[349, 8], edge_index=[2, 11728], y=[349], s=45),\n",
       " Data(x=[2379, 8], edge_index=[2, 220506], y=[2379], s=108),\n",
       " Data(x=[492, 8], edge_index=[2, 19962], y=[492], s=50),\n",
       " Data(x=[538, 8], edge_index=[2, 22874], y=[538], s=54),\n",
       " Data(x=[2740, 8], edge_index=[2, 270162], y=[2740], s=119),\n",
       " Data(x=[114, 8], edge_index=[2, 2132], y=[114], s=24),\n",
       " Data(x=[55, 8], edge_index=[2, 662], y=[55], s=17),\n",
       " Data(x=[34, 8], edge_index=[2, 336], y=[34], s=12),\n",
       " Data(x=[564, 8], edge_index=[2, 24644], y=[564], s=55),\n",
       " Data(x=[2801, 8], edge_index=[2, 279094], y=[2801], s=120),\n",
       " Data(x=[2754, 8], edge_index=[2, 271382], y=[2754], s=120),\n",
       " Data(x=[800, 8], edge_index=[2, 43664], y=[800], s=66),\n",
       " Data(x=[242, 8], edge_index=[2, 6738], y=[242], s=35),\n",
       " Data(x=[346, 8], edge_index=[2, 11770], y=[346], s=43),\n",
       " Data(x=[86, 8], edge_index=[2, 1384], y=[86], s=20),\n",
       " Data(x=[360, 8], edge_index=[2, 12504], y=[360], s=46),\n",
       " Data(x=[83, 8], edge_index=[2, 1290], y=[83], s=23),\n",
       " Data(x=[72, 8], edge_index=[2, 1024], y=[72], s=20),\n",
       " Data(x=[111, 8], edge_index=[2, 2090], y=[111], s=23),\n",
       " Data(x=[369, 8], edge_index=[2, 12752], y=[369], s=46),\n",
       " Data(x=[52, 8], edge_index=[2, 586], y=[52], s=18),\n",
       " Data(x=[1220, 8], edge_index=[2, 79996], y=[1220], s=77),\n",
       " Data(x=[559, 8], edge_index=[2, 24160], y=[559], s=56),\n",
       " Data(x=[456, 8], edge_index=[2, 17956], y=[456], s=48),\n",
       " Data(x=[364, 8], edge_index=[2, 12778], y=[364], s=43),\n",
       " Data(x=[829, 8], edge_index=[2, 44528], y=[829], s=69),\n",
       " Data(x=[454, 8], edge_index=[2, 17860], y=[454], s=49),\n",
       " Data(x=[312, 8], edge_index=[2, 10060], y=[312], s=40),\n",
       " Data(x=[2229, 8], edge_index=[2, 198862], y=[2229], s=105),\n",
       " Data(x=[170, 8], edge_index=[2, 4098], y=[170], s=29),\n",
       " Data(x=[150, 8], edge_index=[2, 3236], y=[150], s=28),\n",
       " Data(x=[37, 8], edge_index=[2, 362], y=[37], s=13),\n",
       " Data(x=[2532, 8], edge_index=[2, 240846], y=[2532], s=113),\n",
       " Data(x=[63, 8], edge_index=[2, 886], y=[63], s=16),\n",
       " Data(x=[897, 8], edge_index=[2, 50614], y=[897], s=66),\n",
       " Data(x=[1727, 8], edge_index=[2, 135326], y=[1727], s=97),\n",
       " Data(x=[1966, 8], edge_index=[2, 163622], y=[1966], s=101),\n",
       " Data(x=[552, 8], edge_index=[2, 23820], y=[552], s=54),\n",
       " Data(x=[2467, 8], edge_index=[2, 233188], y=[2467], s=117),\n",
       " Data(x=[1639, 8], edge_index=[2, 125882], y=[1639], s=90),\n",
       " Data(x=[1836, 8], edge_index=[2, 148556], y=[1836], s=101),\n",
       " Data(x=[1260, 8], edge_index=[2, 84254], y=[1260], s=81),\n",
       " Data(x=[986, 8], edge_index=[2, 58228], y=[986], s=70),\n",
       " Data(x=[209, 8], edge_index=[2, 5476], y=[209], s=34),\n",
       " Data(x=[107, 8], edge_index=[2, 1876], y=[107], s=24),\n",
       " Data(x=[103, 8], edge_index=[2, 1876], y=[103], s=22),\n",
       " Data(x=[119, 8], edge_index=[2, 2306], y=[119], s=24),\n",
       " Data(x=[84, 8], edge_index=[2, 1272], y=[84], s=22),\n",
       " Data(x=[324, 8], edge_index=[2, 10628], y=[324], s=43),\n",
       " Data(x=[2399, 8], edge_index=[2, 223236], y=[2399], s=116),\n",
       " Data(x=[180, 8], edge_index=[2, 4384], y=[180], s=30),\n",
       " Data(x=[362, 8], edge_index=[2, 12460], y=[362], s=44),\n",
       " Data(x=[2498, 8], edge_index=[2, 237924], y=[2498], s=118),\n",
       " Data(x=[60, 8], edge_index=[2, 770], y=[60], s=17),\n",
       " Data(x=[1106, 8], edge_index=[2, 68670], y=[1106], s=81),\n",
       " Data(x=[969, 8], edge_index=[2, 56842], y=[969], s=70),\n",
       " Data(x=[1976, 8], edge_index=[2, 166988], y=[1976], s=101),\n",
       " Data(x=[2804, 8], edge_index=[2, 279996], y=[2804], s=120),\n",
       " Data(x=[2420, 8], edge_index=[2, 225926], y=[2420], s=117),\n",
       " Data(x=[109, 8], edge_index=[2, 2002], y=[109], s=23),\n",
       " Data(x=[778, 8], edge_index=[2, 40430], y=[778], s=62),\n",
       " Data(x=[1161, 8], edge_index=[2, 75714], y=[1161], s=74),\n",
       " Data(x=[4182, 8], edge_index=[2, 512632], y=[4182], s=144),\n",
       " Data(x=[48, 8], edge_index=[2, 526], y=[48], s=16),\n",
       " Data(x=[354, 8], edge_index=[2, 12172], y=[354], s=48),\n",
       " Data(x=[332, 8], edge_index=[2, 11164], y=[332], s=41),\n",
       " Data(x=[1971, 8], edge_index=[2, 164290], y=[1971], s=100),\n",
       " Data(x=[346, 8], edge_index=[2, 11764], y=[346], s=43),\n",
       " Data(x=[81, 8], edge_index=[2, 1270], y=[81], s=20),\n",
       " Data(x=[1615, 8], edge_index=[2, 122344], y=[1615], s=90),\n",
       " Data(x=[2306, 8], edge_index=[2, 216992], y=[2306], s=96),\n",
       " Data(x=[139, 8], edge_index=[2, 2982], y=[139], s=25),\n",
       " Data(x=[135, 8], edge_index=[2, 2734], y=[135], s=28),\n",
       " Data(x=[566, 8], edge_index=[2, 24968], y=[566], s=54),\n",
       " Data(x=[51, 8], edge_index=[2, 630], y=[51], s=15),\n",
       " Data(x=[223, 8], edge_index=[2, 5932], y=[223], s=34),\n",
       " Data(x=[346, 8], edge_index=[2, 11582], y=[346], s=45),\n",
       " Data(x=[391, 8], edge_index=[2, 14028], y=[391], s=46),\n",
       " Data(x=[1077, 8], edge_index=[2, 66854], y=[1077], s=71),\n",
       " Data(x=[155, 8], edge_index=[2, 3478], y=[155], s=27),\n",
       " Data(x=[168, 8], edge_index=[2, 3920], y=[168], s=28),\n",
       " Data(x=[637, 8], edge_index=[2, 30120], y=[637], s=55),\n",
       " Data(x=[2444, 8], edge_index=[2, 230200], y=[2444], s=116),\n",
       " Data(x=[749, 8], edge_index=[2, 37962], y=[749], s=63),\n",
       " Data(x=[30, 8], edge_index=[2, 238], y=[30], s=13),\n",
       " Data(x=[326, 8], edge_index=[2, 10792], y=[326], s=40),\n",
       " Data(x=[119, 8], edge_index=[2, 2226], y=[119], s=26),\n",
       " Data(x=[2744, 8], edge_index=[2, 272888], y=[2744], s=123),\n",
       " Data(x=[2002, 8], edge_index=[2, 167976], y=[2002], s=102),\n",
       " Data(x=[71, 8], edge_index=[2, 1024], y=[71], s=18),\n",
       " Data(x=[55, 8], edge_index=[2, 720], y=[55], s=15),\n",
       " Data(x=[201, 8], edge_index=[2, 5204], y=[201], s=32),\n",
       " Data(x=[2630, 8], edge_index=[2, 255276], y=[2630], s=120),\n",
       " Data(x=[1082, 8], edge_index=[2, 66092], y=[1082], s=74),\n",
       " Data(x=[288, 8], edge_index=[2, 8804], y=[288], s=43),\n",
       " Data(x=[426, 8], edge_index=[2, 16130], y=[426], s=46),\n",
       " Data(x=[2208, 8], edge_index=[2, 196068], y=[2208], s=105),\n",
       " Data(x=[2047, 8], edge_index=[2, 174022], y=[2047], s=103),\n",
       " Data(x=[1924, 8], edge_index=[2, 162446], y=[1924], s=97),\n",
       " Data(x=[313, 8], edge_index=[2, 10048], y=[313], s=43),\n",
       " Data(x=[2000, 8], edge_index=[2, 168054], y=[2000], s=101),\n",
       " Data(x=[741, 8], edge_index=[2, 37278], y=[741], s=62),\n",
       " Data(x=[572, 8], edge_index=[2, 25034], y=[572], s=58),\n",
       " Data(x=[2783, 8], edge_index=[2, 275682], y=[2783], s=120),\n",
       " Data(x=[556, 8], edge_index=[2, 24090], y=[556], s=54),\n",
       " Data(x=[201, 8], edge_index=[2, 4990], y=[201], s=36),\n",
       " Data(x=[394, 8], edge_index=[2, 14748], y=[394], s=40),\n",
       " Data(x=[2779, 8], edge_index=[2, 281684], y=[2779], s=120),\n",
       " Data(x=[112, 8], edge_index=[2, 2052], y=[112], s=24),\n",
       " Data(x=[179, 8], edge_index=[2, 4278], y=[179], s=29),\n",
       " Data(x=[1323, 8], edge_index=[2, 90758], y=[1323], s=82),\n",
       " Data(x=[3741, 8], edge_index=[2, 436734], y=[3741], s=142),\n",
       " Data(x=[1290, 8], edge_index=[2, 86722], y=[1290], s=81),\n",
       " Data(x=[2206, 8], edge_index=[2, 195024], y=[2206], s=108),\n",
       " Data(x=[846, 8], edge_index=[2, 45432], y=[846], s=67),\n",
       " Data(x=[341, 8], edge_index=[2, 11312], y=[341], s=46),\n",
       " Data(x=[330, 8], edge_index=[2, 10856], y=[330], s=43),\n",
       " Data(x=[2182, 8], edge_index=[2, 194262], y=[2182], s=104),\n",
       " Data(x=[639, 8], edge_index=[2, 29760], y=[639], s=57),\n",
       " Data(x=[442, 8], edge_index=[2, 17110], y=[442], s=49),\n",
       " Data(x=[393, 8], edge_index=[2, 14352], y=[393], s=45),\n",
       " Data(x=[2029, 8], edge_index=[2, 172212], y=[2029], s=101),\n",
       " Data(x=[1243, 8], edge_index=[2, 82884], y=[1243], s=77),\n",
       " Data(x=[2495, 8], edge_index=[2, 236222], y=[2495], s=117),\n",
       " Data(x=[66, 8], edge_index=[2, 968], y=[66], s=16),\n",
       " Data(x=[112, 8], edge_index=[2, 2054], y=[112], s=24),\n",
       " Data(x=[96, 8], edge_index=[2, 1662], y=[96], s=22),\n",
       " Data(x=[96, 8], edge_index=[2, 1594], y=[96], s=23),\n",
       " Data(x=[73, 8], edge_index=[2, 1108], y=[73], s=18),\n",
       " Data(x=[331, 8], edge_index=[2, 10888], y=[331], s=42),\n",
       " Data(x=[42, 8], edge_index=[2, 444], y=[42], s=14),\n",
       " Data(x=[437, 8], edge_index=[2, 16728], y=[437], s=49),\n",
       " Data(x=[2774, 8], edge_index=[2, 275042], y=[2774], s=120),\n",
       " Data(x=[44, 8], edge_index=[2, 488], y=[44], s=15),\n",
       " Data(x=[187, 8], edge_index=[2, 4544], y=[187], s=31),\n",
       " Data(x=[2454, 8], edge_index=[2, 232176], y=[2454], s=116),\n",
       " Data(x=[151, 8], edge_index=[2, 3292], y=[151], s=27),\n",
       " Data(x=[156, 8], edge_index=[2, 3456], y=[156], s=28),\n",
       " Data(x=[1180, 8], edge_index=[2, 76662], y=[1180], s=75),\n",
       " Data(x=[1782, 8], edge_index=[2, 144770], y=[1782], s=99),\n",
       " Data(x=[2808, 8], edge_index=[2, 280896], y=[2808], s=120),\n",
       " Data(x=[545, 8], edge_index=[2, 23744], y=[545], s=54),\n",
       " Data(x=[351, 8], edge_index=[2, 11990], y=[351], s=43),\n",
       " Data(x=[439, 8], edge_index=[2, 16846], y=[439], s=49),\n",
       " Data(x=[156, 8], edge_index=[2, 3538], y=[156], s=27),\n",
       " Data(x=[1712, 8], edge_index=[2, 133456], y=[1712], s=90),\n",
       " Data(x=[1386, 8], edge_index=[2, 97932], y=[1386], s=82),\n",
       " Data(x=[397, 8], edge_index=[2, 14272], y=[397], s=45),\n",
       " Data(x=[368, 8], edge_index=[2, 13048], y=[368], s=44),\n",
       " Data(x=[47, 8], edge_index=[2, 538], y=[47], s=15),\n",
       " Data(x=[3010, 8], edge_index=[2, 313544], y=[3010], s=128),\n",
       " Data(x=[2558, 8], edge_index=[2, 243914], y=[2558], s=117),\n",
       " Data(x=[560, 8], edge_index=[2, 24348], y=[560], s=55),\n",
       " Data(x=[459, 8], edge_index=[2, 18282], y=[459], s=49),\n",
       " Data(x=[1045, 8], edge_index=[2, 63574], y=[1045], s=72),\n",
       " Data(x=[180, 8], edge_index=[2, 4302], y=[180], s=30),\n",
       " Data(x=[351, 8], edge_index=[2, 12084], y=[351], s=43),\n",
       " Data(x=[1957, 8], edge_index=[2, 162466], y=[1957], s=101),\n",
       " Data(x=[2516, 8], edge_index=[2, 238546], y=[2516], s=111),\n",
       " Data(x=[852, 8], edge_index=[2, 46286], y=[852], s=65),\n",
       " Data(x=[700, 8], edge_index=[2, 33918], y=[700], s=63),\n",
       " Data(x=[459, 8], edge_index=[2, 18246], y=[459], s=49),\n",
       " Data(x=[427, 8], edge_index=[2, 15978], y=[427], s=48),\n",
       " Data(x=[105, 8], edge_index=[2, 1892], y=[105], s=23),\n",
       " Data(x=[95, 8], edge_index=[2, 1656], y=[95], s=21),\n",
       " Data(x=[2709, 8], edge_index=[2, 267012], y=[2709], s=118),\n",
       " Data(x=[1118, 8], edge_index=[2, 69506], y=[1118], s=75),\n",
       " Data(x=[1549, 8], edge_index=[2, 115480], y=[1549], s=89),\n",
       " Data(x=[535, 8], edge_index=[2, 22594], y=[535], s=54),\n",
       " Data(x=[243, 8], edge_index=[2, 6994], y=[243], s=34),\n",
       " Data(x=[361, 8], edge_index=[2, 12996], y=[361], s=44),\n",
       " Data(x=[1810, 8], edge_index=[2, 146006], y=[1810], s=97),\n",
       " Data(x=[1053, 8], edge_index=[2, 63976], y=[1053], s=76),\n",
       " Data(x=[182, 8], edge_index=[2, 4302], y=[182], s=32),\n",
       " Data(x=[383, 8], edge_index=[2, 13522], y=[383], s=45),\n",
       " Data(x=[2351, 8], edge_index=[2, 214684], y=[2351], s=110),\n",
       " Data(x=[1591, 8], edge_index=[2, 120960], y=[1591], s=88),\n",
       " Data(x=[338, 8], edge_index=[2, 11386], y=[338], s=43),\n",
       " Data(x=[259, 8], edge_index=[2, 7682], y=[259], s=36),\n",
       " Data(x=[2788, 8], edge_index=[2, 277718], y=[2788], s=120),\n",
       " Data(x=[1164, 8], edge_index=[2, 74466], y=[1164], s=76),\n",
       " Data(x=[169, 8], edge_index=[2, 3906], y=[169], s=29),\n",
       " Data(x=[2216, 8], edge_index=[2, 196520], y=[2216], s=106),\n",
       " Data(x=[212, 8], edge_index=[2, 5608], y=[212], s=32),\n",
       " Data(x=[357, 8], edge_index=[2, 12448], y=[357], s=43),\n",
       " Data(x=[170, 8], edge_index=[2, 3926], y=[170], s=30),\n",
       " Data(x=[1965, 8], edge_index=[2, 163480], y=[1965], s=101),\n",
       " Data(x=[93, 8], edge_index=[2, 1536], y=[93], s=23),\n",
       " Data(x=[359, 8], edge_index=[2, 12516], y=[359], s=43),\n",
       " Data(x=[909, 8], edge_index=[2, 51354], y=[909], s=70),\n",
       " Data(x=[2529, 8], edge_index=[2, 242700], y=[2529], s=114),\n",
       " Data(x=[338, 8], edge_index=[2, 11370], y=[338], s=43),\n",
       " Data(x=[102, 8], edge_index=[2, 1770], y=[102], s=22),\n",
       " Data(x=[1281, 8], edge_index=[2, 85738], y=[1281], s=81),\n",
       " Data(x=[2343, 8], edge_index=[2, 216542], y=[2343], s=113),\n",
       " Data(x=[73, 8], edge_index=[2, 1048], y=[73], s=19),\n",
       " Data(x=[131, 8], edge_index=[2, 2714], y=[131], s=24),\n",
       " Data(x=[179, 8], edge_index=[2, 4288], y=[179], s=29),\n",
       " Data(x=[349, 8], edge_index=[2, 11870], y=[349], s=48),\n",
       " Data(x=[116, 8], edge_index=[2, 2152], y=[116], s=27),\n",
       " Data(x=[4535, 8], edge_index=[2, 587462], y=[4535], s=148),\n",
       " Data(x=[1684, 8], edge_index=[2, 130698], y=[1684], s=91),\n",
       " Data(x=[322, 8], edge_index=[2, 10474], y=[322], s=43),\n",
       " Data(x=[561, 8], edge_index=[2, 24350], y=[561], s=54),\n",
       " Data(x=[94, 8], edge_index=[2, 1574], y=[94], s=22),\n",
       " Data(x=[132, 8], edge_index=[2, 2752], y=[132], s=24),\n",
       " Data(x=[4504, 8], edge_index=[2, 577896], y=[4504], s=146),\n",
       " Data(x=[361, 8], edge_index=[2, 12494], y=[361], s=44),\n",
       " Data(x=[1536, 8], edge_index=[2, 115656], y=[1536], s=84),\n",
       " Data(x=[191, 8], edge_index=[2, 4824], y=[191], s=30),\n",
       " Data(x=[16, 8], edge_index=[2, 96], y=[16], s=8),\n",
       " Data(x=[85, 8], edge_index=[2, 1350], y=[85], s=22),\n",
       " Data(x=[312, 8], edge_index=[2, 9864], y=[312], s=43),\n",
       " Data(x=[1668, 8], edge_index=[2, 129108], y=[1668], s=89),\n",
       " Data(x=[421, 8], edge_index=[2, 15696], y=[421], s=48),\n",
       " Data(x=[1239, 8], edge_index=[2, 82624], y=[1239], s=76),\n",
       " Data(x=[50, 8], edge_index=[2, 580], y=[50], s=16),\n",
       " Data(x=[80, 8], edge_index=[2, 1176], y=[80], s=22),\n",
       " Data(x=[2338, 8], edge_index=[2, 214822], y=[2338], s=114),\n",
       " Data(x=[32, 8], edge_index=[2, 270], y=[32], s=13),\n",
       " Data(x=[474, 8], edge_index=[2, 18808], y=[474], s=49),\n",
       " Data(x=[101, 8], edge_index=[2, 1774], y=[101], s=22),\n",
       " Data(x=[718, 8], edge_index=[2, 36236], y=[718], s=57),\n",
       " Data(x=[544, 8], edge_index=[2, 23234], y=[544], s=56),\n",
       " Data(x=[630, 8], edge_index=[2, 29656], y=[630], s=55),\n",
       " Data(x=[2681, 8], edge_index=[2, 262504], y=[2681], s=118),\n",
       " Data(x=[2398, 8], edge_index=[2, 223058], y=[2398], s=116),\n",
       " Data(x=[72, 8], edge_index=[2, 1118], y=[72], s=18),\n",
       " Data(x=[909, 8], edge_index=[2, 51304], y=[909], s=65),\n",
       " Data(x=[2764, 8], edge_index=[2, 274030], y=[2764], s=120),\n",
       " Data(x=[592, 8], edge_index=[2, 26888], y=[592], s=58),\n",
       " Data(x=[556, 8], edge_index=[2, 23994], y=[556], s=54),\n",
       " Data(x=[210, 8], edge_index=[2, 5434], y=[210], s=33),\n",
       " Data(x=[1342, 8], edge_index=[2, 92414], y=[1342], s=87),\n",
       " Data(x=[1054, 8], edge_index=[2, 64302], y=[1054], s=72),\n",
       " Data(x=[2346, 8], edge_index=[2, 215760], y=[2346], s=114),\n",
       " Data(x=[2939, 8], edge_index=[2, 301744], y=[2939], s=124),\n",
       " Data(x=[58, 8], edge_index=[2, 750], y=[58], s=17),\n",
       " Data(x=[2301, 8], edge_index=[2, 209612], y=[2301], s=115),\n",
       " Data(x=[1184, 8], edge_index=[2, 76884], y=[1184], s=78),\n",
       " Data(x=[229, 8], edge_index=[2, 6202], y=[229], s=34),\n",
       " Data(x=[191, 8], edge_index=[2, 4724], y=[191], s=30),\n",
       " Data(x=[261, 8], edge_index=[2, 7730], y=[261], s=40),\n",
       " Data(x=[116, 8], edge_index=[2, 2112], y=[116], s=28),\n",
       " Data(x=[1073, 8], edge_index=[2, 66988], y=[1073], s=75),\n",
       " Data(x=[1088, 8], edge_index=[2, 67454], y=[1088], s=73),\n",
       " Data(x=[71, 8], edge_index=[2, 1054], y=[71], s=17),\n",
       " Data(x=[362, 8], edge_index=[2, 12404], y=[362], s=48),\n",
       " Data(x=[2214, 8], edge_index=[2, 196938], y=[2214], s=105),\n",
       " Data(x=[170, 8], edge_index=[2, 4004], y=[170], s=28),\n",
       " Data(x=[50, 8], edge_index=[2, 576], y=[50], s=16),\n",
       " Data(x=[411, 8], edge_index=[2, 15286], y=[411], s=44),\n",
       " Data(x=[3313, 8], edge_index=[2, 361964], y=[3313], s=126),\n",
       " Data(x=[2857, 8], edge_index=[2, 288156], y=[2857], s=120),\n",
       " Data(x=[886, 8], edge_index=[2, 49516], y=[886], s=66),\n",
       " Data(x=[314, 8], edge_index=[2, 10062], y=[314], s=43),\n",
       " Data(x=[346, 8], edge_index=[2, 11584], y=[346], s=48),\n",
       " Data(x=[1945, 8], edge_index=[2, 163366], y=[1945], s=98),\n",
       " Data(x=[459, 8], edge_index=[2, 18138], y=[459], s=49),\n",
       " Data(x=[2195, 8], edge_index=[2, 196870], y=[2195], s=105),\n",
       " Data(x=[1487, 8], edge_index=[2, 109284], y=[1487], s=94),\n",
       " Data(x=[184, 8], edge_index=[2, 4516], y=[184], s=30),\n",
       " Data(x=[1068, 8], edge_index=[2, 65244], y=[1068], s=72),\n",
       " Data(x=[818, 8], edge_index=[2, 43758], y=[818], s=65),\n",
       " Data(x=[149, 8], edge_index=[2, 3204], y=[149], s=27),\n",
       " Data(x=[865, 8], edge_index=[2, 46958], y=[865], s=68),\n",
       " Data(x=[635, 8], edge_index=[2, 29828], y=[635], s=56),\n",
       " Data(x=[2543, 8], edge_index=[2, 241236], y=[2543], s=119),\n",
       " Data(x=[1149, 8], edge_index=[2, 72720], y=[1149], s=75),\n",
       " Data(x=[2803, 8], edge_index=[2, 280652], y=[2803], s=122),\n",
       " Data(x=[133, 8], edge_index=[2, 2816], y=[133], s=24),\n",
       " Data(x=[1766, 8], edge_index=[2, 139472], y=[1766], s=93),\n",
       " Data(x=[542, 8], edge_index=[2, 23112], y=[542], s=52),\n",
       " Data(x=[1689, 8], edge_index=[2, 130562], y=[1689], s=94),\n",
       " Data(x=[827, 8], edge_index=[2, 44716], y=[827], s=65),\n",
       " Data(x=[328, 8], edge_index=[2, 10866], y=[328], s=43),\n",
       " Data(x=[2734, 8], edge_index=[2, 269118], y=[2734], s=120),\n",
       " Data(x=[192, 8], edge_index=[2, 4724], y=[192], s=32),\n",
       " Data(x=[669, 8], edge_index=[2, 31940], y=[669], s=61),\n",
       " Data(x=[444, 8], edge_index=[2, 17306], y=[444], s=48),\n",
       " Data(x=[2144, 8], edge_index=[2, 187816], y=[2144], s=106),\n",
       " Data(x=[294, 8], edge_index=[2, 9362], y=[294], s=38),\n",
       " Data(x=[97, 8], edge_index=[2, 1678], y=[97], s=22),\n",
       " Data(x=[1044, 8], edge_index=[2, 63702], y=[1044], s=73),\n",
       " Data(x=[262, 8], edge_index=[2, 7960], y=[262], s=34),\n",
       " Data(x=[358, 8], edge_index=[2, 12210], y=[358], s=45),\n",
       " Data(x=[1665, 8], edge_index=[2, 128644], y=[1665], s=90),\n",
       " Data(x=[2366, 8], edge_index=[2, 218216], y=[2366], s=115),\n",
       " Data(x=[214, 8], edge_index=[2, 5696], y=[214], s=32),\n",
       " Data(x=[341, 8], edge_index=[2, 11434], y=[341], s=44),\n",
       " Data(x=[438, 8], edge_index=[2, 16806], y=[438], s=49),\n",
       " Data(x=[718, 8], edge_index=[2, 35590], y=[718], s=60),\n",
       " Data(x=[334, 8], edge_index=[2, 11124], y=[334], s=43),\n",
       " Data(x=[3858, 8], edge_index=[2, 457498], y=[3858], s=143),\n",
       " Data(x=[415, 8], edge_index=[2, 15646], y=[415], s=45),\n",
       " Data(x=[536, 8], edge_index=[2, 22716], y=[536], s=54),\n",
       " Data(x=[338, 8], edge_index=[2, 11362], y=[338], s=43),\n",
       " Data(x=[2763, 8], edge_index=[2, 273096], y=[2763], s=120),\n",
       " Data(x=[70, 8], edge_index=[2, 956], y=[70], s=19),\n",
       " Data(x=[470, 8], edge_index=[2, 18812], y=[470], s=48),\n",
       " Data(x=[310, 8], edge_index=[2, 9756], y=[310], s=41),\n",
       " Data(x=[32, 8], edge_index=[2, 284], y=[32], s=12),\n",
       " Data(x=[36, 8], edge_index=[2, 332], y=[36], s=14),\n",
       " Data(x=[190, 8], edge_index=[2, 4644], y=[190], s=34),\n",
       " Data(x=[194, 8], edge_index=[2, 4996], y=[194], s=28),\n",
       " Data(x=[118, 8], edge_index=[2, 2220], y=[118], s=26),\n",
       " Data(x=[382, 8], edge_index=[2, 13712], y=[382], s=43),\n",
       " Data(x=[48, 8], edge_index=[2, 538], y=[48], s=16),\n",
       " Data(x=[394, 8], edge_index=[2, 14430], y=[394], s=44),\n",
       " Data(x=[2365, 8], edge_index=[2, 218232], y=[2365], s=110),\n",
       " Data(x=[376, 8], edge_index=[2, 13142], y=[376], s=44),\n",
       " Data(x=[573, 8], edge_index=[2, 25236], y=[573], s=55),\n",
       " Data(x=[164, 8], edge_index=[2, 3730], y=[164], s=29),\n",
       " Data(x=[67, 8], edge_index=[2, 926], y=[67], s=18),\n",
       " Data(x=[119, 8], edge_index=[2, 2276], y=[119], s=24),\n",
       " Data(x=[2577, 8], edge_index=[2, 247672], y=[2577], s=116),\n",
       " Data(x=[248, 8], edge_index=[2, 7284], y=[248], s=33),\n",
       " Data(x=[37, 8], edge_index=[2, 362], y=[37], s=13),\n",
       " Data(x=[812, 8], edge_index=[2, 43528], y=[812], s=63),\n",
       " Data(x=[302, 8], edge_index=[2, 9676], y=[302], s=40),\n",
       " Data(x=[354, 8], edge_index=[2, 12194], y=[354], s=43),\n",
       " Data(x=[2028, 8], edge_index=[2, 172496], y=[2028], s=104),\n",
       " Data(x=[39, 8], edge_index=[2, 394], y=[39], s=14),\n",
       " Data(x=[2772, 8], edge_index=[2, 274900], y=[2772], s=120),\n",
       " Data(x=[75, 8], edge_index=[2, 1100], y=[75], s=20),\n",
       " Data(x=[193, 8], edge_index=[2, 4786], y=[193], s=31),\n",
       " Data(x=[2695, 8], edge_index=[2, 264974], y=[2695], s=117),\n",
       " Data(x=[2067, 8], edge_index=[2, 179140], y=[2067], s=102),\n",
       " Data(x=[487, 8], edge_index=[2, 20028], y=[487], s=49),\n",
       " Data(x=[393, 8], edge_index=[2, 14096], y=[393], s=46),\n",
       " Data(x=[31, 8], edge_index=[2, 270], y=[31], s=12),\n",
       " Data(x=[380, 8], edge_index=[2, 13376], y=[380], s=44),\n",
       " Data(x=[2207, 8], edge_index=[2, 196610], y=[2207], s=106),\n",
       " Data(x=[2638, 8], edge_index=[2, 254474], y=[2638], s=120),\n",
       " Data(x=[185, 8], edge_index=[2, 4562], y=[185], s=29),\n",
       " Data(x=[574, 8], edge_index=[2, 25494], y=[574], s=55),\n",
       " Data(x=[878, 8], edge_index=[2, 48368], y=[878], s=66),\n",
       " Data(x=[561, 8], edge_index=[2, 25076], y=[561], s=50),\n",
       " Data(x=[3044, 8], edge_index=[2, 318910], y=[3044], s=125),\n",
       " Data(x=[2864, 8], edge_index=[2, 290160], y=[2864], s=118),\n",
       " Data(x=[81, 8], edge_index=[2, 1338], y=[81], s=19),\n",
       " Data(x=[450, 8], edge_index=[2, 17522], y=[450], s=49),\n",
       " Data(x=[2016, 8], edge_index=[2, 170296], y=[2016], s=101),\n",
       " Data(x=[403, 8], edge_index=[2, 14790], y=[403], s=44),\n",
       " Data(x=[3442, 8], edge_index=[2, 381116], y=[3442], s=135),\n",
       " Data(x=[1137, 8], edge_index=[2, 72502], y=[1137], s=75),\n",
       " Data(x=[49, 8], edge_index=[2, 588], y=[49], s=15),\n",
       " Data(x=[2812, 8], edge_index=[2, 282432], y=[2812], s=122),\n",
       " Data(x=[2772, 8], edge_index=[2, 274886], y=[2772], s=120),\n",
       " Data(x=[293, 8], edge_index=[2, 8922], y=[293], s=40),\n",
       " Data(x=[81, 8], edge_index=[2, 1236], y=[81], s=20),\n",
       " Data(x=[2324, 8], edge_index=[2, 212644], y=[2324], s=106),\n",
       " Data(x=[2642, 8], edge_index=[2, 255586], y=[2642], s=120),\n",
       " Data(x=[2600, 8], edge_index=[2, 252640], y=[2600], s=116),\n",
       " Data(x=[1825, 8], edge_index=[2, 149164], y=[1825], s=100),\n",
       " Data(x=[1623, 8], edge_index=[2, 123984], y=[1623], s=90),\n",
       " Data(x=[212, 8], edge_index=[2, 5572], y=[212], s=32),\n",
       " Data(x=[2708, 8], edge_index=[2, 265556], y=[2708], s=118),\n",
       " Data(x=[771, 8], edge_index=[2, 39938], y=[771], s=64),\n",
       " Data(x=[87, 8], edge_index=[2, 1472], y=[87], s=19),\n",
       " ...]"
      ]
     },
     "execution_count": 5,
     "metadata": {},
     "output_type": "execute_result"
    }
   ],
   "source": [
    "dataset"
   ]
  },
  {
   "cell_type": "code",
   "execution_count": 6,
   "id": "6181b2e3",
   "metadata": {},
   "outputs": [],
   "source": [
    "train_data, val_data, test_data = dataset[0:655], dataset[655:873], dataset[873:]"
   ]
  },
  {
   "cell_type": "code",
   "execution_count": 139,
   "id": "76eb08f1",
   "metadata": {},
   "outputs": [],
   "source": [
    "def del_nucl_conn(y_pr, y_tr):    \n",
    "    y_tr_local = torch.clone(y_tr).to(device)\n",
    "    y_tr_local[(y_tr_local == 1)] = 0\n",
    "    y_pr = y_pr + y_tr_local\n",
    "    y_pr[(y_pr < 0)] = 0\n",
    "    y_tr_local1 = torch.clone(y_tr)\n",
    "    y_tr_local1[(y_tr_local1 == -1)] = 0\n",
    "    return y_pr, y_tr_local1.to(device)\n",
    "\n",
    "\n",
    "def del_main_diag(y):\n",
    "    main_diag = torch.ones([1, y.size()[0]])\n",
    "    return y * (torch.diag_embed(main_diag).to(device) - 1)[0] * (-1)\n",
    "\n",
    "\n",
    "def adj_mat_split(y):\n",
    "    y = list(torch.split(y, 196, dim=0))\n",
    "    for i in range(len(y)):\n",
    "        y[i] = torch.split(y[i], 196, dim=1)\n",
    "    \n",
    "    y1 = []\n",
    "    for i in range(len(y)):\n",
    "        y1.append(argm(y[i][i]))\n",
    "    return torch.cat(y1, 0).to(device)\n",
    "    \n",
    "\n",
    "def argm(y):\n",
    "    max_ind = torch.argmax(y, dim=1)\n",
    "    y1 = torch.zeros_like(y)\n",
    "    k = 0\n",
    "    for i in max_ind:\n",
    "        y1[k][i] = 1.\n",
    "        y1[i][k] = 1.\n",
    "        k += 1\n",
    "    \n",
    "    return y1 * y\n",
    "\n",
    "def del_nucl_conn1(y_pred, y_true):\n",
    "    y_tr_local = torch.clone(y_true)\n",
    "    y_tr_local[(y_tr_local == [0, 1])] = torch.tensor([0, 0])\n",
    "    y_tr_local[(y_tr_local == [1, 0])] = torch.tensor([0, 0])\n",
    "    y_pred = y_pred + y_tr_local.to(device)\n",
    "    y_pred_local = torch.tensor(list(map((lambda x: [0, 0] if x[0] < 0 else [1, 1]), y_pred))).to(device)\n",
    "    y_pred = y_pred * y_pred_local\n",
    "#     y_pred[torch.min(y_pred) < 0.] = torch.tensor([0, 0])\n",
    "        \n",
    "    #y_pred[(y_pred[1] < 0)] = 0\n",
    "\n",
    "    y_tr_local1 = torch.clone(y_true)\n",
    "    y_tr_local1[(y_tr_local1 == [-1, -1])] = torch.tensor([0, 0])\n",
    "    return y_pred, y_tr_local1.to(device)\n",
    "\n"
   ]
  },
  {
   "cell_type": "code",
   "execution_count": 147,
   "id": "5803bd63",
   "metadata": {},
   "outputs": [],
   "source": [
    "a = 0.5\n",
    "beta = 1\n",
    "def precision(y_pred, y_true):\n",
    "    y_pred = torch.tensor(list(map((lambda x: 0 if x[0] > x[1] else 1), y_pred))).to(device)\n",
    "    y_pred, y_true = del_nucl_conn(y_pred, y_true)\n",
    "    #y_pred[(y_pred > a)] = 1\n",
    "    #y_pred[(y_pred <= a)] = 0 \n",
    "#     y_pred = argm(y_pred)\n",
    "    tp = torch.sum(y_pred * y_true)\n",
    "    fp = torch.sum((1 - y_true) * y_pred)\n",
    "    \n",
    "    return tp / (tp + fp + epsilon)\n",
    "\n",
    "def recall(y_pred, y_true):    \n",
    "    y_pred = torch.tensor(list(map((lambda x: 0 if x[0] > x[1] else 1), y_pred))).to(device)\n",
    "\n",
    "    y_pred, y_true = del_nucl_conn(y_pred, y_true)\n",
    "    #y_pred[(y_pred > a)] = 1\n",
    "    #y_pred[(y_pred <= a)] = 0 \n",
    "#     y_pred = argm(y_pred)\n",
    "#     y_pred = adj_mat_split(y_pred)\n",
    "\n",
    "    tp = torch.sum(y_pred * y_true)\n",
    "    fn = torch.sum(y_true * (1 - y_pred))\n",
    "    \n",
    "    return tp / (tp + fn + epsilon)\n",
    "\n",
    "def f_loss(y_pred, y_true):\n",
    "    y_true_local = torch.tensor(list(map((lambda x: [1, 0] if x == 1 else ([0, 1] if x == 0 else [-1, -1])))))\n",
    "    y_pred, y_true = del_nucl_conn1(y_pred, y_true_local)\n",
    "#     y_pred, y_true = del_nucl_conn(y_pred, y_true)    \n",
    "    tp = torch.sum(y_pred * y_true)\n",
    "    fn = torch.sum(y_true * (1 - y_pred))\n",
    "    fp = torch.sum((1 - y_true) * y_pred)\n",
    "    precision = tp / (tp + fp + epsilon)\n",
    "    recall = tp / (tp + fn + epsilon)\n",
    "\n",
    "    k1 = 1 - torch.abs(precision - recall)\n",
    "\n",
    "    f1 = ((1 + beta * beta) * precision * recall) / (beta * beta * precision + recall + epsilon)\n",
    "    \n",
    "    \n",
    "    # dp = abs(torch.mean(y_pred) - torch.mean(y_true))\n",
    "\n",
    "    return (1 - f1)\n",
    "#     return dp\n",
    "\n",
    "def mse_loss(y_pred, y_true):\n",
    "    y_true_local = torch.tensor(list(map((lambda x: [1, 0] if x == 1 else ([0, 1] if x == 0 else [-1, -1])), y_true)))\n",
    "    y_pred, y_true = del_nucl_conn1(y_pred, y_true_local)\n",
    "#     y_pred, y_true = del_nucl_conn(y_pred, y_true)\n",
    "    \n",
    "    return torch.mean((y_pred - y_true) ** 2)"
   ]
  },
  {
   "cell_type": "code",
   "execution_count": 148,
   "id": "2783e7a0",
   "metadata": {},
   "outputs": [],
   "source": [
    "class DeepGCNModel(torch.nn.Module):\n",
    "    def __init__(self, num_blocks, hidden_channels, num_layers, dr, mlp):\n",
    "        super(DeepGCNModel, self).__init__()\n",
    "        self.layers = torch.nn.ModuleList()\n",
    "        gat1 = GAT(8, hidden_channels, num_layers=num_layers)\n",
    "        layer = DeepGCNLayer(gat1, block='res', act=torch.relu, dropout=dr)\n",
    "        self.layers.append(layer)\n",
    "        for i in range(1, num_blocks):\n",
    "            conv = GAT(hidden_channels, hidden_channels, num_layers=num_layers, act=torch.relu)            \n",
    "\n",
    "            layer = DeepGCNLayer(conv, block='res', act=torch.relu, dropout=dr)\n",
    "            self.layers.append(layer)\n",
    "            \n",
    "            \n",
    "        self.mlp = MLP(hidden_channels, mlp, dropout=0)\n",
    "\n",
    "        \n",
    "    def forward(self, x, edge_index):\n",
    "        x = self.layers[0].conv(x, edge_index)\n",
    "        for layer in self.layers[1:]:\n",
    "            x = layer(x, edge_index)\n",
    "        \n",
    "        x = self.mlp(x)\n",
    "        \n",
    "        return torch.softmax(x, dim=0)\n"
   ]
  },
  {
   "cell_type": "code",
   "execution_count": 149,
   "id": "9af4e039",
   "metadata": {},
   "outputs": [
    {
     "name": "stdout",
     "output_type": "stream",
     "text": [
      "cuda\n"
     ]
    }
   ],
   "source": [
    "num_blocks = 7\n",
    "num_layers = 2\n",
    "hidden_channels = 70\n",
    "\n",
    "dr = 0.15\n",
    "\n",
    "\n",
    "lr = 0.00001\n",
    "epochs = 150000\n",
    "mlp = [20, 10, 2]\n",
    "\n",
    "\n",
    "model = DeepGCNModel(num_blocks, hidden_channels, num_layers, dr,mlp)\n",
    "# model = torch.load(\"./models1/ResGATConv__MSE_mlp_[200, 150, 100, 50, 10, 1]_1*2_0.0001_Adam_250_0.05_0.2_1_1500.pt\")\n",
    "\n",
    "device = torch.device('cuda' if torch.cuda.is_available() else 'cpu')\n",
    "model = model.to(device)\n",
    "train_data = list(map(lambda x: x.to(device), train_data))\n",
    "val_data = list(map(lambda x: x.to(device), val_data))\n",
    "print(device)\n",
    "\n",
    "# optimizer = torch.optim.Adam(model.parameters(), lr=lr)\n",
    "# optimizer = torch.optim.Adagrad(model.parameters(), lr=lr)\n",
    "optimizer = torch.optim.RMSprop(model.parameters(), lr=lr)\n",
    "#optimizer = torch.optim.Adamax(model.parameters(), lr=lr)\n",
    "# optimizer = torch.optim.Adadelta(model.parameters(), lr=lr)\n",
    "\n",
    "# optimizer = torch.optim.SGD(model.parameters(), lr=0.001)\n",
    "\n",
    "# criterion = torch.nn.BCELoss()\n",
    "# criterion = torch.nn.BCEWithLogitsLoss()\n",
    "# criterion = torch.nn.CrossEntropyLoss()\n",
    "# criterion = torch.nn.KLDivLoss()\n",
    "\n",
    "def RMSELoss(y_pred, y_true):\n",
    "    y_pred, y_true = del_nucl_conn(y_pred, y_true)\n",
    "\n",
    "    return torch.sqrt(torch.sum((y_pred - y_true) ** 2))\n",
    "\n",
    "criterion = mse_loss\n",
    "# criterion = RMSELoss\n",
    "#criterion = f_loss\n",
    "\n",
    "epsilon = 1e-30"
   ]
  },
  {
   "cell_type": "code",
   "execution_count": 150,
   "id": "91ee421e",
   "metadata": {},
   "outputs": [
    {
     "data": {
      "text/plain": [
       "DeepGCNModel(\n",
       "  (layers): ModuleList(\n",
       "    (0-6): 7 x DeepGCNLayer(block=res)\n",
       "  )\n",
       "  (mlp): MLP(\n",
       "    (0): Linear(in_features=70, out_features=20, bias=True)\n",
       "    (1): ReLU()\n",
       "    (2): Dropout(p=0, inplace=False)\n",
       "    (3): Linear(in_features=20, out_features=10, bias=True)\n",
       "    (4): ReLU()\n",
       "    (5): Dropout(p=0, inplace=False)\n",
       "    (6): Linear(in_features=10, out_features=2, bias=True)\n",
       "    (7): Dropout(p=0, inplace=False)\n",
       "  )\n",
       ")"
      ]
     },
     "execution_count": 150,
     "metadata": {},
     "output_type": "execute_result"
    }
   ],
   "source": [
    "model"
   ]
  },
  {
   "cell_type": "code",
   "execution_count": 151,
   "id": "b5a874b3",
   "metadata": {},
   "outputs": [
    {
     "data": {
      "text/html": [
       "Finishing last run (ID:jnocbeos) before initializing another..."
      ],
      "text/plain": [
       "<IPython.core.display.HTML object>"
      ]
     },
     "metadata": {},
     "output_type": "display_data"
    },
    {
     "data": {
      "text/html": [
       "Waiting for W&B process to finish... <strong style=\"color:green\">(success).</strong>"
      ],
      "text/plain": [
       "<IPython.core.display.HTML object>"
      ]
     },
     "metadata": {},
     "output_type": "display_data"
    },
    {
     "data": {
      "text/html": [
       " View run <strong style=\"color:#cdcd00\">ResGATConv_softmax_mse_relu_mlp_[20, 10, 2]_7*2_1e-05_RMSProp_70_0.5_0.15_1</strong> at: <a href='https://wandb.ai/chi-vinny0702/secondary_structure_prediction1/runs/jnocbeos' target=\"_blank\">https://wandb.ai/chi-vinny0702/secondary_structure_prediction1/runs/jnocbeos</a><br/>Synced 5 W&B file(s), 0 media file(s), 0 artifact file(s) and 0 other file(s)"
      ],
      "text/plain": [
       "<IPython.core.display.HTML object>"
      ]
     },
     "metadata": {},
     "output_type": "display_data"
    },
    {
     "data": {
      "text/html": [
       "Find logs at: <code>./wandb/run-20230516_174242-jnocbeos/logs</code>"
      ],
      "text/plain": [
       "<IPython.core.display.HTML object>"
      ]
     },
     "metadata": {},
     "output_type": "display_data"
    },
    {
     "data": {
      "text/html": [
       "Successfully finished last run (ID:jnocbeos). Initializing new run:<br/>"
      ],
      "text/plain": [
       "<IPython.core.display.HTML object>"
      ]
     },
     "metadata": {},
     "output_type": "display_data"
    },
    {
     "data": {
      "text/html": [
       "wandb version 0.15.2 is available!  To upgrade, please run:\n",
       " $ pip install wandb --upgrade"
      ],
      "text/plain": [
       "<IPython.core.display.HTML object>"
      ]
     },
     "metadata": {},
     "output_type": "display_data"
    },
    {
     "data": {
      "text/html": [
       "Tracking run with wandb version 0.14.2"
      ],
      "text/plain": [
       "<IPython.core.display.HTML object>"
      ]
     },
     "metadata": {},
     "output_type": "display_data"
    },
    {
     "data": {
      "text/html": [
       "Run data is saved locally in <code>/home/vdshk/SecondaryStructurePredictionGNN/wandb/run-20230516_174400-a2ruha08</code>"
      ],
      "text/plain": [
       "<IPython.core.display.HTML object>"
      ]
     },
     "metadata": {},
     "output_type": "display_data"
    },
    {
     "data": {
      "text/html": [
       "Syncing run <strong><a href='https://wandb.ai/chi-vinny0702/secondary_structure_prediction1/runs/a2ruha08' target=\"_blank\">ResGATConv_softmax_mse_relu_mlp_[20, 10, 2]_7*2_1e-05_RMSProp_70_0.5_0.15_1</a></strong> to <a href='https://wandb.ai/chi-vinny0702/secondary_structure_prediction1' target=\"_blank\">Weights & Biases</a> (<a href='https://wandb.me/run' target=\"_blank\">docs</a>)<br/>"
      ],
      "text/plain": [
       "<IPython.core.display.HTML object>"
      ]
     },
     "metadata": {},
     "output_type": "display_data"
    },
    {
     "data": {
      "text/html": [
       " View project at <a href='https://wandb.ai/chi-vinny0702/secondary_structure_prediction1' target=\"_blank\">https://wandb.ai/chi-vinny0702/secondary_structure_prediction1</a>"
      ],
      "text/plain": [
       "<IPython.core.display.HTML object>"
      ]
     },
     "metadata": {},
     "output_type": "display_data"
    },
    {
     "data": {
      "text/html": [
       " View run at <a href='https://wandb.ai/chi-vinny0702/secondary_structure_prediction1/runs/a2ruha08' target=\"_blank\">https://wandb.ai/chi-vinny0702/secondary_structure_prediction1/runs/a2ruha08</a>"
      ],
      "text/plain": [
       "<IPython.core.display.HTML object>"
      ]
     },
     "metadata": {},
     "output_type": "display_data"
    },
    {
     "data": {
      "text/html": [
       "<button onClick=\"this.nextSibling.style.display='block';this.style.display='none';\">Display W&B run</button><iframe src='https://wandb.ai/chi-vinny0702/secondary_structure_prediction1/runs/a2ruha08?jupyter=true' style='border:none;width:100%;height:420px;display:none;'></iframe>"
      ],
      "text/plain": [
       "<wandb.sdk.wandb_run.Run at 0x7ff59005a6a0>"
      ]
     },
     "execution_count": 151,
     "metadata": {},
     "output_type": "execute_result"
    }
   ],
   "source": [
    "run_name = f'ResGATConv_softmax_mse_relu_mlp_{mlp}_{num_blocks}*{num_layers}_{lr}_RMSProp_{hidden_channels}_{a}_{dr}_{beta}'\n",
    "\n",
    "\n",
    "wandb.init(\n",
    "    # set the wandb project where this run will be logged\n",
    "    project=\"secondary_structure_prediction1\",\n",
    "    \n",
    "    # track hyperparameters and run metadata\n",
    "    config={\n",
    "    \"learning_rate\": lr,\n",
    "    \"architecture\": \"ResGATConv\",\n",
    "    \"epochs\": epochs,\n",
    "    \"optimizer\": \"RMSProp\",\n",
    "    \"out_channels\": hidden_channels,\n",
    "    \"loss\": \"mse\",\n",
    "    \"beta\": beta,\n",
    "    \"train:val:test\": \"655:218:218\",\n",
    "    \"dataset\": 4\n",
    "    },\n",
    "    name=run_name\n",
    ")\n",
    "\n"
   ]
  },
  {
   "cell_type": "code",
   "execution_count": 152,
   "id": "281bdffb",
   "metadata": {},
   "outputs": [],
   "source": [
    "def train():\n",
    "    for epoch in range(1, epochs + 1):\n",
    "        model.train()\n",
    "        train_loss = []\n",
    "        train_recall = []\n",
    "        train_precision = []\n",
    "        for g in tqdm(train_data):\n",
    "\n",
    "            optimizer.zero_grad()\n",
    "\n",
    "            out = model(g.x, g.edge_index)\n",
    "            y_true = g.y.unsqueeze(dim=1)\n",
    "#             print(out)\n",
    "            loss = criterion(out, y_true)            \n",
    "            \n",
    "            loss.backward()\n",
    "            optimizer.step()\n",
    "            \n",
    "            train_loss.append(loss.item())\n",
    "            train_precision.append(precision(out, y_true).item())\n",
    "            train_recall.append(recall(out, y_true).item())\n",
    "            \n",
    "        train_prec = np.mean(train_precision)\n",
    "        train_rec = np.mean(train_recall)\n",
    "        train_f1 = (2 * train_prec * train_rec) / (train_prec + train_rec)\n",
    "        print(f'Epoch: {epoch:03d}, loss: {np.mean(train_loss)}, f1: {train_f1}, precision: {train_prec}, recall: {train_rec}')\n",
    "        \n",
    "        val_loss = []\n",
    "        val_recall = []\n",
    "        val_precision = []\n",
    "        with torch.no_grad():\n",
    "            for g in val_data:\n",
    "                g.to(device)\n",
    "                out = model(g.x, g.edge_index)\n",
    "        \n",
    "                y_true = g.y.unsqueeze(dim=1)\n",
    "                loss = criterion(out, y_true)\n",
    "                                \n",
    "                val_loss.append(loss.item())\n",
    "                                \n",
    "                val_precision.append(precision(out, y_true).item())\n",
    "                val_recall.append(recall(out, y_true).item())\n",
    " \n",
    "            \n",
    "            prec = np.mean(val_precision)\n",
    "            rec = np.mean(val_recall)\n",
    "            f1 = (2 * prec * rec) / (prec + rec)\n",
    "            print(f'val_loss: {np.mean(val_loss)}, val_f1: {f1}, val_precision: {prec}, val_recall: {rec}')\n",
    "              \n",
    "            wandb.log({\"train_loss\": np.mean(train_loss), \"train_f1\": train_f1, \"train_precision\": train_prec, \n",
    "                       \"train_recall\": train_rec,\n",
    "                       \"val_loss\": np.mean(val_loss), \"val_f1\": f1, \"val_precision\": prec, \"val_recall\": rec})\n",
    "#     wandb.finish()"
   ]
  },
  {
   "cell_type": "code",
   "execution_count": null,
   "id": "43114294",
   "metadata": {},
   "outputs": [
    {
     "name": "stderr",
     "output_type": "stream",
     "text": [
      "100%|█████████████████████████████████████████| 655/655 [02:21<00:00,  4.63it/s]\n"
     ]
    },
    {
     "name": "stdout",
     "output_type": "stream",
     "text": [
      "Epoch: 001, loss: 0.11681123857052271, f1: 0.08730639081076975, precision: 0.04784781389109051, recall: 0.49794992718077796\n",
      "val_loss: 0.12313142417152541, val_f1: 0.08979900393161871, val_precision: 0.04936308726463296, val_recall: 0.49654658425838577\n"
     ]
    },
    {
     "name": "stderr",
     "output_type": "stream",
     "text": [
      "100%|█████████████████████████████████████████| 655/655 [02:21<00:00,  4.64it/s]\n"
     ]
    },
    {
     "name": "stdout",
     "output_type": "stream",
     "text": [
      "Epoch: 002, loss: 0.11681124341624384, f1: 0.08732746848758954, precision: 0.04784781389109051, recall: 0.49932467973869266\n",
      "val_loss: 0.12313141574690101, val_f1: 0.08980805963262839, val_precision: 0.04936308726463296, val_recall: 0.49710091606739465\n"
     ]
    },
    {
     "name": "stderr",
     "output_type": "stream",
     "text": [
      "100%|█████████████████████████████████████████| 655/655 [02:20<00:00,  4.65it/s]\n"
     ]
    },
    {
     "name": "stdout",
     "output_type": "stream",
     "text": [
      "Epoch: 003, loss: 0.11681122573391171, f1: 0.087353996978321, precision: 0.04784781389109051, recall: 0.5010648263319758\n",
      "val_loss: 0.123131497822907, val_f1: 0.08985561489685306, val_precision: 0.04936308726463296, val_recall: 0.5000305215426541\n"
     ]
    },
    {
     "name": "stderr",
     "output_type": "stream",
     "text": [
      "100%|█████████████████████████████████████████| 655/655 [02:20<00:00,  4.65it/s]\n"
     ]
    },
    {
     "name": "stdout",
     "output_type": "stream",
     "text": [
      "Epoch: 004, loss: 0.11681122138868762, f1: 0.08732463722461593, precision: 0.04784781389109051, recall: 0.4991396133226293\n",
      "val_loss: 0.12313146019405728, val_f1: 0.08985644087042825, val_precision: 0.04936308726463296, val_recall: 0.5000816825606408\n"
     ]
    },
    {
     "name": "stderr",
     "output_type": "stream",
     "text": [
      "100%|█████████████████████████████████████████| 655/655 [02:21<00:00,  4.64it/s]\n"
     ]
    },
    {
     "name": "stdout",
     "output_type": "stream",
     "text": [
      "Epoch: 005, loss: 0.11681122496041632, f1: 0.0873329539110229, precision: 0.04784781389109051, recall: 0.4996835927926857\n",
      "val_loss: 0.12313144199481797, val_f1: 0.08981135351752012, val_precision: 0.04936308726463296, val_recall: 0.497302825844616\n"
     ]
    },
    {
     "name": "stderr",
     "output_type": "stream",
     "text": [
      "100%|█████████████████████████████████████████| 655/655 [02:20<00:00,  4.66it/s]\n"
     ]
    },
    {
     "name": "stdout",
     "output_type": "stream",
     "text": [
      "Epoch: 006, loss: 0.11681121193611894, f1: 0.08734003129395189, precision: 0.04784781389109051, recall: 0.5001473645217546\n",
      "val_loss: 0.12313143867965139, val_f1: 0.08982947928694972, val_precision: 0.04936308726463296, val_recall: 0.4984165810116934\n"
     ]
    },
    {
     "name": "stderr",
     "output_type": "stream",
     "text": [
      "100%|█████████████████████████████████████████| 655/655 [02:20<00:00,  4.66it/s]\n"
     ]
    },
    {
     "name": "stdout",
     "output_type": "stream",
     "text": [
      "Epoch: 007, loss: 0.11681120972369463, f1: 0.08730797034761424, precision: 0.04784781389109051, recall: 0.49805271006722485\n",
      "val_loss: 0.12313146586743516, val_f1: 0.08984944508793452, val_precision: 0.04936308726463296, val_recall: 0.49964866315552947\n"
     ]
    },
    {
     "name": "stderr",
     "output_type": "stream",
     "text": [
      "100%|█████████████████████████████████████████| 655/655 [02:20<00:00,  4.66it/s]\n"
     ]
    },
    {
     "name": "stdout",
     "output_type": "stream",
     "text": [
      "Epoch: 008, loss: 0.11681122062656715, f1: 0.08729201874281452, precision: 0.04784781389109051, recall: 0.49701648986976565\n",
      "val_loss: 0.12313146786678822, val_f1: 0.08983090277774612, val_precision: 0.04936308726463296, val_recall: 0.4985042409885914\n"
     ]
    },
    {
     "name": "stderr",
     "output_type": "stream",
     "text": [
      "100%|█████████████████████████████████████████| 655/655 [02:20<00:00,  4.66it/s]\n"
     ]
    },
    {
     "name": "stdout",
     "output_type": "stream",
     "text": [
      "Epoch: 009, loss: 0.11681121491635119, f1: 0.08730208224077303, precision: 0.04784781389109051, recall: 0.4976697585964931\n",
      "val_loss: 0.12313140479318045, val_f1: 0.08978691121627284, val_precision: 0.04936308726463296, val_recall: 0.49580809720065616\n"
     ]
    },
    {
     "name": "stderr",
     "output_type": "stream",
     "text": [
      "100%|█████████████████████████████████████████| 655/655 [02:20<00:00,  4.66it/s]\n"
     ]
    },
    {
     "name": "stdout",
     "output_type": "stream",
     "text": [
      "Epoch: 010, loss: 0.11681121602540707, f1: 0.0872613426100563, precision: 0.04784781389109051, recall: 0.495034777208139\n",
      "val_loss: 0.12313140036726217, val_f1: 0.0897857891456917, val_precision: 0.04936308726463296, val_recall: 0.4957396750329831\n"
     ]
    },
    {
     "name": "stderr",
     "output_type": "stream",
     "text": [
      "100%|█████████████████████████████████████████| 655/655 [02:20<00:00,  4.66it/s]\n"
     ]
    },
    {
     "name": "stdout",
     "output_type": "stream",
     "text": [
      "Epoch: 011, loss: 0.11681121025262899, f1: 0.08727380381242185, precision: 0.04784781389109051, recall: 0.49583804379892715\n",
      "val_loss: 0.1231314586560934, val_f1: 0.08977690429406782, val_precision: 0.04936308726463296, val_recall: 0.495198496027824\n"
     ]
    },
    {
     "name": "stderr",
     "output_type": "stream",
     "text": [
      "100%|█████████████████████████████████████████| 655/655 [02:20<00:00,  4.66it/s]\n"
     ]
    },
    {
     "name": "stdout",
     "output_type": "stream",
     "text": [
      "Epoch: 012, loss: 0.11681122804302296, f1: 0.08726303208811627, precision: 0.04784781389109051, recall: 0.49514354421892237\n",
      "val_loss: 0.12313144078153536, val_f1: 0.08977230080733573, val_precision: 0.04936308726463296, val_recall: 0.4949185186569844\n"
     ]
    },
    {
     "name": "stderr",
     "output_type": "stream",
     "text": [
      "100%|█████████████████████████████████████████| 655/655 [02:20<00:00,  4.66it/s]\n"
     ]
    },
    {
     "name": "stdout",
     "output_type": "stream",
     "text": [
      "Epoch: 013, loss: 0.11681120417841519, f1: 0.08723474463487275, precision: 0.04784781389109051, recall: 0.49332814949159404\n",
      "val_loss: 0.1231314269398604, val_f1: 0.08970063557987483, val_precision: 0.04936308726463296, val_recall: 0.4905967750680556\n"
     ]
    },
    {
     "name": "stderr",
     "output_type": "stream",
     "text": [
      "100%|█████████████████████████████████████████| 655/655 [02:21<00:00,  4.63it/s]\n"
     ]
    },
    {
     "name": "stdout",
     "output_type": "stream",
     "text": [
      "Epoch: 014, loss: 0.11681121386416995, f1: 0.08720329776825221, precision: 0.04784781389109051, recall: 0.49132418964655344\n",
      "val_loss: 0.12313142449620666, val_f1: 0.0896889239905959, val_precision: 0.04936308726463296, val_recall: 0.48989702815856406\n"
     ]
    },
    {
     "name": "stderr",
     "output_type": "stream",
     "text": [
      "100%|█████████████████████████████████████████| 655/655 [02:20<00:00,  4.65it/s]\n"
     ]
    },
    {
     "name": "stdout",
     "output_type": "stream",
     "text": [
      "Epoch: 015, loss: 0.11681122402198442, f1: 0.0871655909289866, precision: 0.04784781389109051, recall: 0.48894079172884236\n",
      "val_loss: 0.12313144134545545, val_f1: 0.0896470647783916, val_precision: 0.04936308726463296, val_recall: 0.4874107707804496\n"
     ]
    },
    {
     "name": "stderr",
     "output_type": "stream",
     "text": [
      "100%|█████████████████████████████████████████| 655/655 [02:20<00:00,  4.66it/s]\n"
     ]
    },
    {
     "name": "stdout",
     "output_type": "stream",
     "text": [
      "Epoch: 016, loss: 0.11681120500878524, f1: 0.08717186232017014, precision: 0.04784781389109051, recall: 0.48933573588160156\n",
      "val_loss: 0.1231314427808884, val_f1: 0.08968114652399004, val_precision: 0.04936308726463296, val_recall: 0.48943333942955786\n"
     ]
    },
    {
     "name": "stderr",
     "output_type": "stream",
     "text": [
      "100%|█████████████████████████████████████████| 655/655 [02:20<00:00,  4.66it/s]\n"
     ]
    },
    {
     "name": "stdout",
     "output_type": "stream",
     "text": [
      "Epoch: 017, loss: 0.11681123184225031, f1: 0.08718033869047913, precision: 0.04784781389109051, recall: 0.48987046425579156\n",
      "val_loss: 0.12313141034693893, val_f1: 0.08970414120924919, val_precision: 0.04936308726463296, val_recall: 0.4908065835543729\n"
     ]
    },
    {
     "name": "stderr",
     "output_type": "stream",
     "text": [
      "100%|█████████████████████████████████████████| 655/655 [02:20<00:00,  4.65it/s]\n"
     ]
    },
    {
     "name": "stdout",
     "output_type": "stream",
     "text": [
      "Epoch: 018, loss: 0.11681119365660289, f1: 0.08718841525952173, precision: 0.04784781389109051, recall: 0.4903809627048842\n",
      "val_loss: 0.12313139445464545, val_f1: 0.08972877825004812, val_precision: 0.04936308726463296, val_recall: 0.49228569837885167\n"
     ]
    },
    {
     "name": "stderr",
     "output_type": "stream",
     "text": [
      "100%|█████████████████████████████████████████| 655/655 [02:20<00:00,  4.66it/s]\n"
     ]
    },
    {
     "name": "stdout",
     "output_type": "stream",
     "text": [
      "Epoch: 019, loss: 0.11681120585621768, f1: 0.08722429922844575, precision: 0.04784781389109051, recall: 0.4926608630264078\n",
      "val_loss: 0.12313142562404684, val_f1: 0.08973949577083895, val_precision: 0.04936308726463296, val_recall: 0.492931669184921\n"
     ]
    },
    {
     "name": "stderr",
     "output_type": "stream",
     "text": [
      "100%|█████████████████████████████████████████| 655/655 [02:20<00:00,  4.67it/s]\n"
     ]
    },
    {
     "name": "stdout",
     "output_type": "stream",
     "text": [
      "Epoch: 020, loss: 0.11681121438741685, f1: 0.08721731619649857, precision: 0.04784781389109051, recall: 0.4922156813035484\n",
      "val_loss: 0.12313142861453218, val_f1: 0.08973243695117722, val_precision: 0.04936308726463296, val_recall: 0.49250604403675147\n"
     ]
    },
    {
     "name": "stderr",
     "output_type": "stream",
     "text": [
      "100%|█████████████████████████████████████████| 655/655 [02:20<00:00,  4.66it/s]\n"
     ]
    },
    {
     "name": "stdout",
     "output_type": "stream",
     "text": [
      "Epoch: 021, loss: 0.11681122261149282, f1: 0.08719525455981361, precision: 0.04784781389109051, recall: 0.4908140152465296\n",
      "val_loss: 0.12313136844596731, val_f1: 0.08971034427166243, val_precision: 0.04936308726463296, val_recall: 0.4911782305448427\n"
     ]
    },
    {
     "name": "stderr",
     "output_type": "stream",
     "text": [
      "100%|█████████████████████████████████████████| 655/655 [02:20<00:00,  4.66it/s]\n"
     ]
    },
    {
     "name": "stdout",
     "output_type": "stream",
     "text": [
      "Epoch: 022, loss: 0.11681121529741141, f1: 0.08720098140743308, precision: 0.04784781389109051, recall: 0.49117716564476943\n",
      "val_loss: 0.12313142041205813, val_f1: 0.08974912425118454, val_precision: 0.04936308726463296, val_recall: 0.4935133161894772\n"
     ]
    },
    {
     "name": "stderr",
     "output_type": "stream",
     "text": [
      "100%|█████████████████████████████████████████| 655/655 [02:20<00:00,  4.65it/s]\n"
     ]
    },
    {
     "name": "stdout",
     "output_type": "stream",
     "text": [
      "Epoch: 023, loss: 0.11681122864589437, f1: 0.08724675141423115, precision: 0.04784781389109051, recall: 0.4940972198511808\n",
      "val_loss: 0.12313139619767119, val_f1: 0.08972738990619006, val_precision: 0.04936308726463296, val_recall: 0.49220213212004493\n"
     ]
    },
    {
     "name": "stderr",
     "output_type": "stream",
     "text": [
      "100%|█████████████████████████████████████████| 655/655 [02:20<00:00,  4.66it/s]\n"
     ]
    },
    {
     "name": "stdout",
     "output_type": "stream",
     "text": [
      "Epoch: 024, loss: 0.11681122094506526, f1: 0.0872337542048202, precision: 0.04784781389109051, recall: 0.49326480690759555\n",
      "val_loss: 0.12313142089053579, val_f1: 0.08977114027669969, val_precision: 0.04936308726463296, val_recall: 0.4948479823016245\n"
     ]
    },
    {
     "name": "stderr",
     "output_type": "stream",
     "text": [
      "100%|█████████████████████████████████████████| 655/655 [02:20<00:00,  4.66it/s]\n"
     ]
    },
    {
     "name": "stdout",
     "output_type": "stream",
     "text": [
      "Epoch: 025, loss: 0.11681116967824579, f1: 0.08720384542206643, precision: 0.04784781389109051, recall: 0.4913589620408211\n",
      "val_loss: 0.12313144103786268, val_f1: 0.0897075516099118, val_precision: 0.04936308726463296, val_recall: 0.49101084921884974\n"
     ]
    },
    {
     "name": "stderr",
     "output_type": "stream",
     "text": [
      "100%|█████████████████████████████████████████| 655/655 [02:20<00:00,  4.66it/s]\n"
     ]
    },
    {
     "name": "stdout",
     "output_type": "stream",
     "text": [
      "Epoch: 026, loss: 0.11681122561447493, f1: 0.08719332580972562, precision: 0.04784781389109051, recall: 0.4906918196277764\n",
      "val_loss: 0.1231314296911069, val_f1: 0.08970208919970428, val_precision: 0.04936308726463296, val_recall: 0.49068375300923617\n"
     ]
    },
    {
     "name": "stderr",
     "output_type": "stream",
     "text": [
      "100%|█████████████████████████████████████████| 655/655 [02:20<00:00,  4.66it/s]\n"
     ]
    },
    {
     "name": "stdout",
     "output_type": "stream",
     "text": [
      "Epoch: 027, loss: 0.11681121226030451, f1: 0.0872050006613564, precision: 0.04784781389109051, recall: 0.4914323268045906\n",
      "val_loss: 0.12313137157316055, val_f1: 0.08971252581412403, val_precision: 0.04936308726463296, val_recall: 0.4913090559047297\n"
     ]
    },
    {
     "name": "stderr",
     "output_type": "stream",
     "text": [
      "100%|█████████████████████████████████████████| 655/655 [02:20<00:00,  4.66it/s]\n"
     ]
    },
    {
     "name": "stdout",
     "output_type": "stream",
     "text": [
      "Epoch: 028, loss: 0.1168112084042025, f1: 0.08718653946807467, precision: 0.04784781389109051, recall: 0.49026231251600133\n",
      "val_loss: 0.12313139394199082, val_f1: 0.08970853309975041, val_precision: 0.04936308726463296, val_recall: 0.49106966410208186\n"
     ]
    },
    {
     "name": "stderr",
     "output_type": "stream",
     "text": [
      "100%|█████████████████████████████████████████| 655/655 [02:20<00:00,  4.67it/s]\n"
     ]
    },
    {
     "name": "stdout",
     "output_type": "stream",
     "text": [
      "Epoch: 029, loss: 0.1168112188748276, f1: 0.08718441025723168, precision: 0.04784781389109051, recall: 0.49012769606277234\n",
      "val_loss: 0.1231314135424861, val_f1: 0.08974873987166439, val_precision: 0.04936308726463296, val_recall: 0.49349007229192543\n"
     ]
    },
    {
     "name": "stderr",
     "output_type": "stream",
     "text": [
      "100%|█████████████████████████████████████████| 655/655 [02:20<00:00,  4.66it/s]\n"
     ]
    },
    {
     "name": "stdout",
     "output_type": "stream",
     "text": [
      "Epoch: 030, loss: 0.11681118060386818, f1: 0.08722493898338235, precision: 0.04784781389109051, recall: 0.49270168533761993\n",
      "val_loss: 0.12313141672094481, val_f1: 0.0897088281006027, val_precision: 0.04936308726463296, val_recall: 0.4910873442614844\n"
     ]
    },
    {
     "name": "stderr",
     "output_type": "stream",
     "text": [
      "100%|█████████████████████████████████████████| 655/655 [02:20<00:00,  4.66it/s]\n"
     ]
    },
    {
     "name": "stdout",
     "output_type": "stream",
     "text": [
      "Epoch: 031, loss: 0.11681123352574029, f1: 0.08723762597657592, precision: 0.04784781389109051, recall: 0.4935125089783705\n",
      "val_loss: 0.12313143073350465, val_f1: 0.08975288930329682, val_precision: 0.04936308726463296, val_recall: 0.49374109875718386\n"
     ]
    },
    {
     "name": "stderr",
     "output_type": "stream",
     "text": [
      "100%|█████████████████████████████████████████| 655/655 [02:20<00:00,  4.67it/s]\n"
     ]
    },
    {
     "name": "stdout",
     "output_type": "stream",
     "text": [
      "Epoch: 032, loss: 0.11681123921320638, f1: 0.08724357015049622, precision: 0.04784781389109051, recall: 0.49389323755985\n",
      "val_loss: 0.12313145164981348, val_f1: 0.0898024180964283, val_precision: 0.04936308726463296, val_recall: 0.49675544535895005\n"
     ]
    },
    {
     "name": "stderr",
     "output_type": "stream",
     "text": [
      "100%|█████████████████████████████████████████| 655/655 [02:20<00:00,  4.66it/s]\n"
     ]
    },
    {
     "name": "stdout",
     "output_type": "stream",
     "text": [
      "Epoch: 033, loss: 0.11681122885064314, f1: 0.08730328780938965, precision: 0.04784781389109051, recall: 0.4977481227794676\n",
      "val_loss: 0.12313144414796742, val_f1: 0.08983396445779668, val_precision: 0.04936308726463296, val_recall: 0.4986928773855944\n"
     ]
    },
    {
     "name": "stderr",
     "output_type": "stream",
     "text": [
      "100%|█████████████████████████████████████████| 655/655 [02:20<00:00,  4.66it/s]\n"
     ]
    },
    {
     "name": "stdout",
     "output_type": "stream",
     "text": [
      "Epoch: 034, loss: 0.11681121017300446, f1: 0.08730964296289619, precision: 0.04784781389109051, recall: 0.49816159191932385\n",
      "val_loss: 0.12313140508368475, val_f1: 0.08982475557579464, val_precision: 0.04936308726463296, val_recall: 0.49812589107303445\n"
     ]
    },
    {
     "name": "stderr",
     "output_type": "stream",
     "text": [
      "100%|█████████████████████████████████████████| 655/655 [02:20<00:00,  4.66it/s]\n"
     ]
    },
    {
     "name": "stdout",
     "output_type": "stream",
     "text": [
      "Epoch: 035, loss: 0.11681119217217424, f1: 0.0873030628528972, precision: 0.04784781389109051, recall: 0.49773349848412374\n",
      "val_loss: 0.12313143447588343, val_f1: 0.0898154896493397, val_precision: 0.04936308726463296, val_recall: 0.49755657539455167\n"
     ]
    },
    {
     "name": "stderr",
     "output_type": "stream",
     "text": [
      "100%|█████████████████████████████████████████| 655/655 [02:20<00:00,  4.66it/s]\n"
     ]
    },
    {
     "name": "stdout",
     "output_type": "stream",
     "text": [
      "Epoch: 036, loss: 0.11681121137874727, f1: 0.08730094900343618, precision: 0.04784781389109051, recall: 0.4975961166028758\n",
      "val_loss: 0.12313140882606353, val_f1: 0.08981159502648281, val_precision: 0.04936308726463296, val_recall: 0.49731763582163996\n"
     ]
    },
    {
     "name": "stderr",
     "output_type": "stream",
     "text": [
      "100%|█████████████████████████████████████████| 655/655 [02:20<00:00,  4.66it/s]\n"
     ]
    },
    {
     "name": "stdout",
     "output_type": "stream",
     "text": [
      "Epoch: 037, loss: 0.1168112175155232, f1: 0.08734194012188691, precision: 0.04784781389109051, recall: 0.5002725820959979\n",
      "val_loss: 0.12313137656299893, val_f1: 0.0898639008127677, val_precision: 0.04936308726463296, val_recall: 0.500544185348607\n"
     ]
    },
    {
     "name": "stderr",
     "output_type": "stream",
     "text": [
      "100%|█████████████████████████████████████████| 655/655 [02:20<00:00,  4.66it/s]\n"
     ]
    },
    {
     "name": "stdout",
     "output_type": "stream",
     "text": [
      "Epoch: 038, loss: 0.11681118718426646, f1: 0.08732733531752665, precision: 0.04784781389109051, recall: 0.49931597222808666\n",
      "val_loss: 0.12313144739478006, val_f1: 0.08979216419859842, val_precision: 0.04936308726463296, val_recall: 0.49612864469169476\n"
     ]
    },
    {
     "name": "stderr",
     "output_type": "stream",
     "text": [
      "100%|█████████████████████████████████████████| 655/655 [02:20<00:00,  4.66it/s]\n"
     ]
    },
    {
     "name": "stdout",
     "output_type": "stream",
     "text": [
      "Epoch: 039, loss: 0.11681120938813414, f1: 0.08730165405002778, precision: 0.04784781389109051, recall: 0.4976419308258377\n",
      "val_loss: 0.12313139313883191, val_f1: 0.08980893818310232, val_precision: 0.04936308726463296, val_recall: 0.4971547551931591\n"
     ]
    },
    {
     "name": "stderr",
     "output_type": "stream",
     "text": [
      "100%|█████████████████████████████████████████| 655/655 [02:20<00:00,  4.66it/s]\n"
     ]
    },
    {
     "name": "stdout",
     "output_type": "stream",
     "text": [
      "Epoch: 040, loss: 0.11681120082281019, f1: 0.08728643785641224, precision: 0.04784781389109051, recall: 0.4966548824128304\n",
      "val_loss: 0.12313139918815652, val_f1: 0.08979121024728046, val_precision: 0.04936308726463296, val_recall: 0.49607040466518576\n"
     ]
    },
    {
     "name": "stderr",
     "output_type": "stream",
     "text": [
      "100%|█████████████████████████████████████████| 655/655 [02:20<00:00,  4.66it/s]\n"
     ]
    },
    {
     "name": "stdout",
     "output_type": "stream",
     "text": [
      "Epoch: 041, loss: 0.11681120588465502, f1: 0.0873064673114432, precision: 0.04784781389109051, recall: 0.4979549043051159\n",
      "val_loss: 0.12313138538065853, val_f1: 0.08978717323631463, val_precision: 0.04936308726463296, val_recall: 0.4958240772606036\n"
     ]
    },
    {
     "name": "stderr",
     "output_type": "stream",
     "text": [
      "100%|█████████████████████████████████████████| 655/655 [02:20<00:00,  4.66it/s]\n"
     ]
    },
    {
     "name": "stdout",
     "output_type": "stream",
     "text": [
      "Epoch: 042, loss: 0.11681118066074284, f1: 0.08728971025357685, precision: 0.04784781389109051, recall: 0.49686685559403804\n",
      "val_loss: 0.12313141923295248, val_f1: 0.08981067162932695, val_precision: 0.04936308726463296, val_recall: 0.4972610149635087\n"
     ]
    },
    {
     "name": "stderr",
     "output_type": "stream",
     "text": [
      "100%|█████████████████████████████████████████| 655/655 [02:20<00:00,  4.66it/s]\n"
     ]
    },
    {
     "name": "stdout",
     "output_type": "stream",
     "text": [
      "Epoch: 043, loss: 0.11681120505428497, f1: 0.08729377125350914, precision: 0.04784781389109051, recall: 0.4971301410034413\n",
      "val_loss: 0.12313142133483646, val_f1: 0.08979998858792894, val_precision: 0.04936308726463296, val_recall: 0.496606804088715\n"
     ]
    },
    {
     "name": "stderr",
     "output_type": "stream",
     "text": [
      "100%|█████████████████████████████████████████| 655/655 [02:20<00:00,  4.66it/s]\n"
     ]
    },
    {
     "name": "stdout",
     "output_type": "stream",
     "text": [
      "Epoch: 044, loss: 0.11681119206979984, f1: 0.08730854503744793, precision: 0.04784781389109051, recall: 0.4980901156217997\n",
      "val_loss: 0.1231314234879859, val_f1: 0.08981005385101186, val_precision: 0.04936308726463296, val_recall: 0.4972231405864068\n"
     ]
    },
    {
     "name": "stderr",
     "output_type": "stream",
     "text": [
      "100%|█████████████████████████████████████████| 655/655 [02:20<00:00,  4.66it/s]\n"
     ]
    },
    {
     "name": "stdout",
     "output_type": "stream",
     "text": [
      "Epoch: 045, loss: 0.11681118902131801, f1: 0.08729053429423547, precision: 0.04784781389109051, recall: 0.4969202597632663\n",
      "val_loss: 0.12313142311203917, val_f1: 0.0897517221105059, val_precision: 0.04936308726463296, val_recall: 0.4936704641088433\n"
     ]
    },
    {
     "name": "stderr",
     "output_type": "stream",
     "text": [
      "100%|█████████████████████████████████████████| 655/655 [02:20<00:00,  4.67it/s]\n"
     ]
    },
    {
     "name": "stdout",
     "output_type": "stream",
     "text": [
      "Epoch: 046, loss: 0.11681117729945037, f1: 0.08726706018508947, precision: 0.04784781389109051, recall: 0.4954030452338794\n",
      "val_loss: 0.12313143011831909, val_f1: 0.08978881718634471, val_precision: 0.04936308726463296, val_recall: 0.49592435975140386\n"
     ]
    },
    {
     "name": "stderr",
     "output_type": "stream",
     "text": [
      "100%|█████████████████████████████████████████| 655/655 [02:20<00:00,  4.66it/s]\n"
     ]
    },
    {
     "name": "stdout",
     "output_type": "stream",
     "text": [
      "Epoch: 047, loss: 0.1168112101161298, f1: 0.08729596936190198, precision: 0.04784781389109051, recall: 0.4972727563999991\n",
      "val_loss: 0.12313145241879542, val_f1: 0.08985591429572731, val_precision: 0.04936308726463296, val_recall: 0.5000490652858665\n"
     ]
    },
    {
     "name": "stderr",
     "output_type": "stream",
     "text": [
      "100%|█████████████████████████████████████████| 655/655 [02:20<00:00,  4.66it/s]\n"
     ]
    },
    {
     "name": "stdout",
     "output_type": "stream",
     "text": [
      "Epoch: 048, loss: 0.1168111938556642, f1: 0.08730152243135103, precision: 0.04784781389109051, recall: 0.49763337760481213\n",
      "val_loss: 0.12313149303813047, val_f1: 0.08983665645911845, val_precision: 0.04936308726463296, val_recall: 0.498858844468353\n"
     ]
    },
    {
     "name": "stderr",
     "output_type": "stream",
     "text": [
      "100%|█████████████████████████████████████████| 655/655 [02:20<00:00,  4.66it/s]\n"
     ]
    },
    {
     "name": "stdout",
     "output_type": "stream",
     "text": [
      "Epoch: 049, loss: 0.11681120197167834, f1: 0.08730840590710581, precision: 0.04784781389109051, recall: 0.4980810594012719\n",
      "val_loss: 0.12313136656623368, val_f1: 0.08979594071801382, val_precision: 0.04936308726463296, val_recall: 0.4963593284744735\n"
     ]
    },
    {
     "name": "stderr",
     "output_type": "stream",
     "text": [
      "100%|█████████████████████████████████████████| 655/655 [02:20<00:00,  4.66it/s]\n"
     ]
    },
    {
     "name": "stdout",
     "output_type": "stream",
     "text": [
      "Epoch: 050, loss: 0.11681121361392145, f1: 0.08731159844698422, precision: 0.04784781389109051, recall: 0.49828894270285395\n",
      "val_loss: 0.12313143910686357, val_f1: 0.08983639375174357, val_precision: 0.04936308726463296, val_recall: 0.49884264362514563\n"
     ]
    },
    {
     "name": "stderr",
     "output_type": "stream",
     "text": [
      "100%|█████████████████████████████████████████| 655/655 [02:20<00:00,  4.66it/s]\n"
     ]
    },
    {
     "name": "stdout",
     "output_type": "stream",
     "text": [
      "Epoch: 051, loss: 0.11681120620315312, f1: 0.08731083930123333, precision: 0.04784781389109051, recall: 0.4982394963275385\n",
      "val_loss: 0.12313144317392362, val_f1: 0.08984452808135356, val_precision: 0.04936308726463296, val_recall: 0.49934472239345584\n"
     ]
    },
    {
     "name": "stderr",
     "output_type": "stream",
     "text": [
      "100%|█████████████████████████████████████████| 655/655 [02:20<00:00,  4.66it/s]\n"
     ]
    },
    {
     "name": "stdout",
     "output_type": "stream",
     "text": [
      "Epoch: 052, loss: 0.11681118023987035, f1: 0.08729280582136052, precision: 0.04784781389109051, recall: 0.49706752641510416\n",
      "val_loss: 0.12313138835405538, val_f1: 0.08982560241736087, val_precision: 0.04936308726463296, val_recall: 0.4981779817047469\n"
     ]
    },
    {
     "name": "stderr",
     "output_type": "stream",
     "text": [
      "100%|█████████████████████████████████████████| 655/655 [02:20<00:00,  4.66it/s]\n"
     ]
    },
    {
     "name": "stdout",
     "output_type": "stream",
     "text": [
      "Epoch: 053, loss: 0.11681119017587363, f1: 0.0872927683488157, precision: 0.04784781389109051, recall: 0.4970650963655865\n",
      "val_loss: 0.12313146183455209, val_f1: 0.08982774746326716, val_precision: 0.04936308726463296, val_recall: 0.4983099714058255\n"
     ]
    },
    {
     "name": "stderr",
     "output_type": "stream",
     "text": [
      "100%|█████████████████████████████████████████| 655/655 [02:20<00:00,  4.67it/s]\n"
     ]
    },
    {
     "name": "stdout",
     "output_type": "stream",
     "text": [
      "Epoch: 054, loss: 0.11681119633539942, f1: 0.08730242607627318, precision: 0.04784781389109051, recall: 0.4976921062433083\n",
      "val_loss: 0.12313144175557915, val_f1: 0.08984372760148747, val_precision: 0.04936308726463296, val_recall: 0.49929527323180384\n"
     ]
    },
    {
     "name": "stderr",
     "output_type": "stream",
     "text": [
      "100%|█████████████████████████████████████████| 655/655 [02:20<00:00,  4.65it/s]\n"
     ]
    },
    {
     "name": "stdout",
     "output_type": "stream",
     "text": [
      "Epoch: 055, loss: 0.11681116970099566, f1: 0.08729967117931617, precision: 0.04784781389109051, recall: 0.4975131026661123\n",
      "val_loss: 0.12313151530442981, val_f1: 0.08980938997269568, val_precision: 0.04936308726463296, val_recall: 0.4971824457886022\n"
     ]
    },
    {
     "name": "stderr",
     "output_type": "stream",
     "text": [
      "100%|█████████████████████████████████████████| 655/655 [02:20<00:00,  4.66it/s]\n"
     ]
    },
    {
     "name": "stdout",
     "output_type": "stream",
     "text": [
      "Epoch: 056, loss: 0.11681121590028282, f1: 0.08728962320955409, precision: 0.04784781389109051, recall: 0.4968612150836537\n",
      "val_loss: 0.12313143008414211, val_f1: 0.08980875027655992, val_precision: 0.04936308726463296, val_recall: 0.4971432390562985\n"
     ]
    },
    {
     "name": "stderr",
     "output_type": "stream",
     "text": [
      "100%|█████████████████████████████████████████| 655/655 [02:20<00:00,  4.66it/s]\n"
     ]
    },
    {
     "name": "stdout",
     "output_type": "stream",
     "text": [
      "Epoch: 057, loss: 0.11681123181381299, f1: 0.08728004273841607, precision: 0.04784781389109051, recall: 0.4962411073782972\n",
      "val_loss: 0.12313138276611993, val_f1: 0.08984561857970262, val_precision: 0.04936308726463296, val_recall: 0.4994121016165532\n"
     ]
    },
    {
     "name": "stderr",
     "output_type": "stream",
     "text": [
      "100%|█████████████████████████████████████████| 655/655 [02:20<00:00,  4.66it/s]\n"
     ]
    },
    {
     "name": "stdout",
     "output_type": "stream",
     "text": [
      "Epoch: 058, loss: 0.11681116535577155, f1: 0.08728881755744074, precision: 0.04784781389109051, recall: 0.4968090138362564\n",
      "val_loss: 0.1231313370373271, val_f1: 0.08980971886326485, val_precision: 0.04936308726463296, val_recall: 0.49720260555591056\n"
     ]
    },
    {
     "name": "stderr",
     "output_type": "stream",
     "text": [
      "100%|█████████████████████████████████████████| 655/655 [02:20<00:00,  4.66it/s]\n"
     ]
    },
    {
     "name": "stdout",
     "output_type": "stream",
     "text": [
      "Epoch: 059, loss: 0.1168111796768112, f1: 0.08730313195613407, precision: 0.04784781389109051, recall: 0.49773799076335123\n",
      "val_loss: 0.12313138040790864, val_f1: 0.08982283079875862, val_precision: 0.04936308726463296, val_recall: 0.4980075316965033\n"
     ]
    },
    {
     "name": "stderr",
     "output_type": "stream",
     "text": [
      "100%|█████████████████████████████████████████| 655/655 [02:20<00:00,  4.66it/s]\n"
     ]
    },
    {
     "name": "stdout",
     "output_type": "stream",
     "text": [
      "Epoch: 060, loss: 0.11681117031524199, f1: 0.08730675916742556, precision: 0.04784781389109051, recall: 0.4979738932529479\n",
      "val_loss: 0.12313134775180883, val_f1: 0.08983331577109435, val_precision: 0.04936308726463296, val_recall: 0.49865289962072984\n"
     ]
    },
    {
     "name": "stderr",
     "output_type": "stream",
     "text": [
      "100%|█████████████████████████████████████████| 655/655 [02:20<00:00,  4.66it/s]\n"
     ]
    },
    {
     "name": "stdout",
     "output_type": "stream",
     "text": [
      "Epoch: 061, loss: 0.11681118859475806, f1: 0.0872730699865033, precision: 0.04784781389109051, recall: 0.4957906744862331\n",
      "val_loss: 0.12313138433826079, val_f1: 0.08975677398840665, val_precision: 0.04936308726463296, val_recall: 0.4939763194650685\n"
     ]
    },
    {
     "name": "stderr",
     "output_type": "stream",
     "text": [
      "100%|█████████████████████████████████████████| 655/655 [02:20<00:00,  4.66it/s]\n"
     ]
    },
    {
     "name": "stdout",
     "output_type": "stream",
     "text": [
      "Epoch: 062, loss: 0.11681119599983893, f1: 0.08730167083814185, precision: 0.04784781389109051, recall: 0.49764302181833575\n",
      "val_loss: 0.1231314450023918, val_f1: 0.08978762703001976, val_precision: 0.04936308726463296, val_recall: 0.4958517554156277\n"
     ]
    },
    {
     "name": "stderr",
     "output_type": "stream",
     "text": [
      "100%|█████████████████████████████████████████| 655/655 [02:20<00:00,  4.66it/s]\n"
     ]
    },
    {
     "name": "stdout",
     "output_type": "stream",
     "text": [
      "Epoch: 063, loss: 0.11681117745869943, f1: 0.08727775533602262, precision: 0.04784781389109051, recall: 0.4960932611964131\n",
      "val_loss: 0.12313139305338947, val_f1: 0.08977108920962741, val_precision: 0.04936308726463296, val_recall: 0.4948448788955671\n"
     ]
    },
    {
     "name": "stderr",
     "output_type": "stream",
     "text": [
      "100%|█████████████████████████████████████████| 655/655 [02:20<00:00,  4.66it/s]\n"
     ]
    },
    {
     "name": "stdout",
     "output_type": "stream",
     "text": [
      "Epoch: 064, loss: 0.11681119006212431, f1: 0.08727173262825895, precision: 0.04784781389109051, recall: 0.495704367688594\n",
      "val_loss: 0.12313142336836648, val_f1: 0.08971180975351371, val_precision: 0.04936308726463296, val_recall: 0.49126610734047144\n"
     ]
    },
    {
     "name": "stderr",
     "output_type": "stream",
     "text": [
      "100%|█████████████████████████████████████████| 655/655 [02:20<00:00,  4.66it/s]\n"
     ]
    },
    {
     "name": "stdout",
     "output_type": "stream",
     "text": [
      "Epoch: 065, loss: 0.11681116200585402, f1: 0.08726339384272973, precision: 0.04784781389109051, recall: 0.4951668393065911\n",
      "val_loss: 0.12313147676989027, val_f1: 0.08978841391986564, val_precision: 0.04936308726463296, val_recall: 0.49589975670390174\n"
     ]
    },
    {
     "name": "stderr",
     "output_type": "stream",
     "text": [
      "100%|█████████████████████████████████████████| 655/655 [02:20<00:00,  4.66it/s]\n"
     ]
    },
    {
     "name": "stdout",
     "output_type": "stream",
     "text": [
      "Epoch: 066, loss: 0.11681116838719098, f1: 0.08727184329631898, precision: 0.04784781389109051, recall: 0.4957115086435362\n",
      "val_loss: 0.12313147572749251, val_f1: 0.08979719143750703, val_precision: 0.04936308726463296, val_recall: 0.49643577006431894\n"
     ]
    },
    {
     "name": "stderr",
     "output_type": "stream",
     "text": [
      "100%|█████████████████████████████████████████| 655/655 [02:20<00:00,  4.66it/s]\n"
     ]
    },
    {
     "name": "stdout",
     "output_type": "stream",
     "text": [
      "Epoch: 067, loss: 0.11681121802739515, f1: 0.08725282924701913, precision: 0.04784781389109051, recall: 0.49448735723058684\n",
      "val_loss: 0.12313154949849352, val_f1: 0.0897261605514736, val_precision: 0.04936308726463296, val_recall: 0.4921281571508548\n"
     ]
    },
    {
     "name": "stderr",
     "output_type": "stream",
     "text": [
      "100%|█████████████████████████████████████████| 655/655 [02:20<00:00,  4.66it/s]\n"
     ]
    },
    {
     "name": "stdout",
     "output_type": "stream",
     "text": [
      "Epoch: 068, loss: 0.11681116715301085, f1: 0.08722156290051454, precision: 0.04784781389109051, recall: 0.4924863294335722\n",
      "val_loss: 0.12313134628219889, val_f1: 0.08974955175804046, val_precision: 0.04936308726463296, val_recall: 0.493539170387688\n"
     ]
    },
    {
     "name": "stderr",
     "output_type": "stream",
     "text": [
      "100%|█████████████████████████████████████████| 655/655 [02:20<00:00,  4.66it/s]\n"
     ]
    },
    {
     "name": "stdout",
     "output_type": "stream",
     "text": [
      "Epoch: 069, loss: 0.11681114930574221, f1: 0.0871941522561849, precision: 0.04784781389109051, recall: 0.4907441722072718\n",
      "val_loss: 0.12313143867965139, val_f1: 0.08970521241841728, val_precision: 0.04936308726463296, val_recall: 0.49087072690145683\n"
     ]
    },
    {
     "name": "stderr",
     "output_type": "stream",
     "text": [
      "100%|█████████████████████████████████████████| 655/655 [02:20<00:00,  4.66it/s]\n"
     ]
    },
    {
     "name": "stdout",
     "output_type": "stream",
     "text": [
      "Epoch: 070, loss: 0.1168111557837661, f1: 0.08716542888906023, precision: 0.04784781389109051, recall: 0.48893059487561236\n",
      "val_loss: 0.12313137276935468, val_f1: 0.08967112242438777, val_precision: 0.04936308726463296, val_recall: 0.4888368824479777\n"
     ]
    },
    {
     "name": "stderr",
     "output_type": "stream",
     "text": [
      "100%|█████████████████████████████████████████| 655/655 [02:20<00:00,  4.67it/s]\n"
     ]
    },
    {
     "name": "stdout",
     "output_type": "stream",
     "text": [
      "Epoch: 071, loss: 0.11681114243528315, f1: 0.08713386215000843, precision: 0.04784781389109051, recall: 0.4869515236552435\n",
      "val_loss: 0.1231314861002045, val_f1: 0.08965227922777438, val_precision: 0.04936308726463296, val_recall: 0.48771923589050226\n"
     ]
    },
    {
     "name": "stderr",
     "output_type": "stream",
     "text": [
      "100%|█████████████████████████████████████████| 655/655 [02:20<00:00,  4.66it/s]\n"
     ]
    },
    {
     "name": "stdout",
     "output_type": "stream",
     "text": [
      "Epoch: 072, loss: 0.11681118141717584, f1: 0.08716198868337872, precision: 0.04784781389109051, recall: 0.4887142008952512\n",
      "val_loss: 0.12313131372863, val_f1: 0.08966699794628297, val_precision: 0.04936308726463296, val_recall: 0.48859184980392456\n"
     ]
    },
    {
     "name": "stderr",
     "output_type": "stream",
     "text": [
      "100%|█████████████████████████████████████████| 655/655 [02:20<00:00,  4.66it/s]\n"
     ]
    },
    {
     "name": "stdout",
     "output_type": "stream",
     "text": [
      "Epoch: 073, loss: 0.116811153451905, f1: 0.08713910806700194, precision: 0.04784781389109051, recall: 0.48727940380118273\n",
      "val_loss: 0.12313141226084955, val_f1: 0.08962386461866065, val_precision: 0.04936308726463296, val_recall: 0.48604263023498956\n"
     ]
    },
    {
     "name": "stderr",
     "output_type": "stream",
     "text": [
      "100%|█████████████████████████████████████████| 655/655 [02:20<00:00,  4.66it/s]\n"
     ]
    },
    {
     "name": "stdout",
     "output_type": "stream",
     "text": [
      "Epoch: 074, loss: 0.11681115918487082, f1: 0.08712245701466273, precision: 0.04784781389109051, recall: 0.486240064733811\n",
      "val_loss: 0.1231313036635108, val_f1: 0.08970361648877746, val_precision: 0.04936308726463296, val_recall: 0.4907751691724182\n"
     ]
    },
    {
     "name": "stderr",
     "output_type": "stream",
     "text": [
      "100%|█████████████████████████████████████████| 655/655 [02:20<00:00,  4.66it/s]\n"
     ]
    },
    {
     "name": "stdout",
     "output_type": "stream",
     "text": [
      "Epoch: 075, loss: 0.11681116673213834, f1: 0.08710651154730852, precision: 0.04784781389109051, recall: 0.48524854469845313\n",
      "val_loss: 0.12313139766728112, val_f1: 0.0896331229871959, val_precision: 0.04936308726463296, val_recall: 0.4865877699414524\n"
     ]
    },
    {
     "name": "stderr",
     "output_type": "stream",
     "text": [
      "100%|█████████████████████████████████████████| 655/655 [02:20<00:00,  4.65it/s]\n"
     ]
    },
    {
     "name": "stdout",
     "output_type": "stream",
     "text": [
      "Epoch: 076, loss: 0.11681113836305743, f1: 0.08713056602666543, precision: 0.04784781389109051, recall: 0.48674571491379776\n",
      "val_loss: 0.1231313094394196, val_f1: 0.08965882175103249, val_precision: 0.04936308726463296, val_recall: 0.4881067661517257\n"
     ]
    },
    {
     "name": "stderr",
     "output_type": "stream",
     "text": [
      "100%|█████████████████████████████████████████| 655/655 [02:20<00:00,  4.66it/s]\n"
     ]
    },
    {
     "name": "stdout",
     "output_type": "stream",
     "text": [
      "Epoch: 077, loss: 0.11681116031098912, f1: 0.08710111245336526, precision: 0.04784781389109051, recall: 0.4849136523618043\n",
      "val_loss: 0.12313152771067182, val_f1: 0.0896018369690823, val_precision: 0.04936308726463296, val_recall: 0.4847500728904654\n"
     ]
    },
    {
     "name": "stderr",
     "output_type": "stream",
     "text": [
      "100%|█████████████████████████████████████████| 655/655 [02:20<00:00,  4.66it/s]\n"
     ]
    },
    {
     "name": "stdout",
     "output_type": "stream",
     "text": [
      "Epoch: 078, loss: 0.1168111562046386, f1: 0.08709579230892349, precision: 0.04784781389109051, recall: 0.48458406838751933\n",
      "val_loss: 0.12313132661334965, val_f1: 0.08958417427564208, val_precision: 0.04936308726463296, val_recall: 0.48371814587794315\n"
     ]
    },
    {
     "name": "stderr",
     "output_type": "stream",
     "text": [
      "100%|█████████████████████████████████████████| 655/655 [02:20<00:00,  4.66it/s]\n"
     ]
    },
    {
     "name": "stdout",
     "output_type": "stream",
     "text": [
      "Epoch: 079, loss: 0.11681117409171948, f1: 0.08707410753323996, precision: 0.04784781389109051, recall: 0.4832449001665334\n",
      "val_loss: 0.12313140455394163, val_f1: 0.08958713541011094, val_precision: 0.04936308726463296, val_recall: 0.48389086920187013\n"
     ]
    },
    {
     "name": "stderr",
     "output_type": "stream",
     "text": [
      "100%|█████████████████████████████████████████| 655/655 [02:20<00:00,  4.67it/s]\n"
     ]
    },
    {
     "name": "stdout",
     "output_type": "stream",
     "text": [
      "Epoch: 080, loss: 0.1168111558861405, f1: 0.08707424117228689, precision: 0.04784781389109051, recall: 0.4832531325689709\n",
      "val_loss: 0.12313135438214201, val_f1: 0.0895540605929551, val_precision: 0.04936308726463296, val_recall: 0.4819679453012046\n"
     ]
    },
    {
     "name": "stderr",
     "output_type": "stream",
     "text": [
      "100%|█████████████████████████████████████████| 655/655 [02:20<00:00,  4.66it/s]\n"
     ]
    },
    {
     "name": "stdout",
     "output_type": "stream",
     "text": [
      "Epoch: 081, loss: 0.11681118381159906, f1: 0.08708871207598362, precision: 0.04784781389109051, recall: 0.4841460785337987\n",
      "val_loss: 0.12313145939089837, val_f1: 0.0896373692561774, val_precision: 0.04936308726463296, val_recall: 0.4868381649529168\n"
     ]
    },
    {
     "name": "stderr",
     "output_type": "stream",
     "text": [
      "100%|█████████████████████████████████████████| 655/655 [02:20<00:00,  4.66it/s]\n"
     ]
    },
    {
     "name": "stdout",
     "output_type": "stream",
     "text": [
      "Epoch: 082, loss: 0.11681116946780955, f1: 0.08712781761796759, precision: 0.04784781389109051, recall: 0.48657422634481473\n",
      "val_loss: 0.12313143461259134, val_f1: 0.08965694763132304, val_precision: 0.04936308726463296, val_recall: 0.4879957001417055\n"
     ]
    },
    {
     "name": "stderr",
     "output_type": "stream",
     "text": [
      "100%|█████████████████████████████████████████| 655/655 [02:20<00:00,  4.66it/s]\n"
     ]
    },
    {
     "name": "stdout",
     "output_type": "stream",
     "text": [
      "Epoch: 083, loss: 0.11681116751700867, f1: 0.08710497601640729, precision: 0.04784781389109051, recall: 0.48515325670933906\n",
      "val_loss: 0.12313139900018316, val_f1: 0.08960068174460131, val_precision: 0.04936308726463296, val_recall: 0.4846824578462391\n"
     ]
    },
    {
     "name": "stderr",
     "output_type": "stream",
     "text": [
      "100%|█████████████████████████████████████████| 655/655 [02:20<00:00,  4.65it/s]\n"
     ]
    },
    {
     "name": "stdout",
     "output_type": "stream",
     "text": [
      "Epoch: 084, loss: 0.11681114792937541, f1: 0.08711847984488703, precision: 0.04784781389109051, recall: 0.48599241152974487\n",
      "val_loss: 0.12313139144707164, val_f1: 0.089594686091842, val_precision: 0.04936308726463296, val_recall: 0.48433180836909406\n"
     ]
    },
    {
     "name": "stderr",
     "output_type": "stream",
     "text": [
      "100%|█████████████████████████████████████████| 655/655 [02:20<00:00,  4.66it/s]\n"
     ]
    },
    {
     "name": "stdout",
     "output_type": "stream",
     "text": [
      "Epoch: 085, loss: 0.11681117527471244, f1: 0.08709995375976051, precision: 0.04784781389109051, recall: 0.4848418363178049\n",
      "val_loss: 0.12313156311801814, val_f1: 0.08961064541796089, val_precision: 0.04936308726463296, val_recall: 0.48526619306398094\n"
     ]
    },
    {
     "name": "stderr",
     "output_type": "stream",
     "text": [
      "100%|█████████████████████████████████████████| 655/655 [02:20<00:00,  4.66it/s]\n"
     ]
    },
    {
     "name": "stdout",
     "output_type": "stream",
     "text": [
      "Epoch: 086, loss: 0.11681117098067553, f1: 0.08711604257248914, precision: 0.04784781389109051, recall: 0.48584075920454417\n",
      "val_loss: 0.12313140180269512, val_f1: 0.08957661724150251, val_precision: 0.04936308726463296, val_recall: 0.4832778499213927\n"
     ]
    },
    {
     "name": "stderr",
     "output_type": "stream",
     "text": [
      "100%|█████████████████████████████████████████| 655/655 [02:20<00:00,  4.66it/s]\n"
     ]
    },
    {
     "name": "stdout",
     "output_type": "stream",
     "text": [
      "Epoch: 087, loss: 0.11681118541546451, f1: 0.08711752961437644, precision: 0.04784781389109051, recall: 0.4859332758961743\n",
      "val_loss: 0.12313144115748209, val_f1: 0.0895910856974474, val_precision: 0.04936308726463296, val_recall: 0.4841214642612212\n"
     ]
    },
    {
     "name": "stderr",
     "output_type": "stream",
     "text": [
      "100%|█████████████████████████████████████████| 655/655 [02:20<00:00,  4.66it/s]\n"
     ]
    },
    {
     "name": "stdout",
     "output_type": "stream",
     "text": [
      "Epoch: 088, loss: 0.1168111965230858, f1: 0.08710414412235097, precision: 0.04784781389109051, recall: 0.48510164741341394\n",
      "val_loss: 0.12313135597137136, val_f1: 0.08957654835741567, val_precision: 0.04936308726463296, val_recall: 0.4832738398685368\n"
     ]
    },
    {
     "name": "stderr",
     "output_type": "stream",
     "text": [
      "100%|█████████████████████████████████████████| 655/655 [02:20<00:00,  4.66it/s]\n"
     ]
    },
    {
     "name": "stdout",
     "output_type": "stream",
     "text": [
      "Epoch: 089, loss: 0.11681112577100747, f1: 0.08705905720528952, precision: 0.04784781389109051, recall: 0.4823194032406989\n",
      "val_loss: 0.1231313173001239, val_f1: 0.08958910759900714, val_precision: 0.04936308726463296, val_recall: 0.48400596932533685\n"
     ]
    },
    {
     "name": "stderr",
     "output_type": "stream",
     "text": [
      "100%|█████████████████████████████████████████| 655/655 [02:20<00:00,  4.66it/s]\n"
     ]
    },
    {
     "name": "stdout",
     "output_type": "stream",
     "text": [
      "Epoch: 090, loss: 0.11681114150822618, f1: 0.08706986055642628, precision: 0.04784781389109051, recall: 0.4829834117234208\n",
      "val_loss: 0.12313148083695032, val_f1: 0.08957576972345266, val_precision: 0.04936308726463296, val_recall: 0.4832285162779169\n"
     ]
    },
    {
     "name": "stderr",
     "output_type": "stream",
     "text": [
      "100%|█████████████████████████████████████████| 655/655 [02:20<00:00,  4.66it/s]\n"
     ]
    },
    {
     "name": "stdout",
     "output_type": "stream",
     "text": [
      "Epoch: 091, loss: 0.11681114884505744, f1: 0.0870194518995559, precision: 0.04784781389109051, recall: 0.4798992777143726\n",
      "val_loss: 0.12313137651173346, val_f1: 0.0895558281580639, val_precision: 0.04936308726463296, val_recall: 0.48207035824793193\n"
     ]
    },
    {
     "name": "stderr",
     "output_type": "stream",
     "text": [
      "100%|█████████████████████████████████████████| 655/655 [02:20<00:00,  4.66it/s]\n"
     ]
    },
    {
     "name": "stdout",
     "output_type": "stream",
     "text": [
      "Epoch: 092, loss: 0.11681116238691425, f1: 0.0870472381822082, precision: 0.04784781389109051, recall: 0.481594868516194\n",
      "val_loss: 0.12313137622122917, val_f1: 0.08950040340163153, val_precision: 0.04936308726463296, val_recall: 0.47887771788540234\n"
     ]
    },
    {
     "name": "stderr",
     "output_type": "stream",
     "text": [
      "100%|█████████████████████████████████████████| 655/655 [02:20<00:00,  4.66it/s]\n"
     ]
    },
    {
     "name": "stdout",
     "output_type": "stream",
     "text": [
      "Epoch: 093, loss: 0.1168111025092711, f1: 0.08705400911474176, precision: 0.04784781389109051, recall: 0.4820097006004275\n",
      "val_loss: 0.12313136755736596, val_f1: 0.08956650497732328, val_precision: 0.04936308726463296, val_recall: 0.482689814966753\n"
     ]
    },
    {
     "name": "stderr",
     "output_type": "stream",
     "text": [
      "100%|█████████████████████████████████████████| 655/655 [02:20<00:00,  4.66it/s]\n"
     ]
    },
    {
     "name": "stdout",
     "output_type": "stream",
     "text": [
      "Epoch: 094, loss: 0.1168111577459419, f1: 0.08703939296586122, precision: 0.04784781389109051, recall: 0.4811150302868763\n",
      "val_loss: 0.1231314003159967, val_f1: 0.08960544218033487, val_precision: 0.04936308726463296, val_recall: 0.48496119527641784\n"
     ]
    },
    {
     "name": "stderr",
     "output_type": "stream",
     "text": [
      "100%|█████████████████████████████████████████| 655/655 [02:20<00:00,  4.66it/s]\n"
     ]
    },
    {
     "name": "stdout",
     "output_type": "stream",
     "text": [
      "Epoch: 095, loss: 0.1168111360994459, f1: 0.08708320619835377, precision: 0.04784781389109051, recall: 0.48380597752469184\n",
      "val_loss: 0.12313141118427483, val_f1: 0.08953958258992849, val_precision: 0.04936308726463296, val_recall: 0.48113057140363463\n"
     ]
    },
    {
     "name": "stderr",
     "output_type": "stream",
     "text": [
      "100%|█████████████████████████████████████████| 655/655 [02:20<00:00,  4.66it/s]\n"
     ]
    },
    {
     "name": "stdout",
     "output_type": "stream",
     "text": [
      "Epoch: 096, loss: 0.11681115591457782, f1: 0.08704697362843204, precision: 0.04784781389109051, recall: 0.4815786733882118\n",
      "val_loss: 0.12313139084897456, val_f1: 0.08958354948791482, val_precision: 0.04936308726463296, val_recall: 0.4836817162299375\n"
     ]
    },
    {
     "name": "stderr",
     "output_type": "stream",
     "text": [
      "100%|█████████████████████████████████████████| 655/655 [02:20<00:00,  4.66it/s]\n"
     ]
    },
    {
     "name": "stdout",
     "output_type": "stream",
     "text": [
      "Epoch: 097, loss: 0.11681119276935818, f1: 0.08705680955859268, precision: 0.04784781389109051, recall: 0.4821814643972703\n",
      "val_loss: 0.12313131133624174, val_f1: 0.08949997331716034, val_precision: 0.04936308726463296, val_recall: 0.4788530936481756\n"
     ]
    },
    {
     "name": "stderr",
     "output_type": "stream",
     "text": [
      "100%|█████████████████████████████████████████| 655/655 [02:20<00:00,  4.66it/s]\n"
     ]
    },
    {
     "name": "stdout",
     "output_type": "stream",
     "text": [
      "Epoch: 098, loss: 0.1168111464221969, f1: 0.08701812985310198, precision: 0.04784781389109051, recall: 0.4798188736420551\n",
      "val_loss: 0.12313146174910965, val_f1: 0.08954629385797469, val_precision: 0.04936308726463296, val_recall: 0.48151840707030863\n"
     ]
    },
    {
     "name": "stderr",
     "output_type": "stream",
     "text": [
      "100%|█████████████████████████████████████████| 655/655 [02:20<00:00,  4.65it/s]\n"
     ]
    },
    {
     "name": "stdout",
     "output_type": "stream",
     "text": [
      "Epoch: 099, loss: 0.11681111419701394, f1: 0.08705334907627958, precision: 0.04784781389109051, recall: 0.48196923368759736\n",
      "val_loss: 0.12313131118244534, val_f1: 0.08961672194303964, val_precision: 0.04936308726463296, val_recall: 0.4856228213244622\n"
     ]
    },
    {
     "name": "stderr",
     "output_type": "stream",
     "text": [
      "100%|█████████████████████████████████████████| 655/655 [02:20<00:00,  4.66it/s]\n"
     ]
    },
    {
     "name": "stdout",
     "output_type": "stream",
     "text": [
      "Epoch: 100, loss: 0.11681110588762596, f1: 0.08704588021796135, precision: 0.04784781389109051, recall: 0.4815117488380607\n",
      "val_loss: 0.12313133672973432, val_f1: 0.08955642655597962, val_precision: 0.04936308726463296, val_recall: 0.48210503844493025\n"
     ]
    },
    {
     "name": "stderr",
     "output_type": "stream",
     "text": [
      "100%|█████████████████████████████████████████| 655/655 [02:20<00:00,  4.66it/s]\n"
     ]
    },
    {
     "name": "stdout",
     "output_type": "stream",
     "text": [
      "Epoch: 101, loss: 0.11681121304517483, f1: 0.08706215955261724, precision: 0.04784781389109051, recall: 0.4825099133353197\n",
      "val_loss: 0.12313141263679626, val_f1: 0.08959014487582596, val_precision: 0.04936308726463296, val_recall: 0.4840665264140575\n"
     ]
    },
    {
     "name": "stderr",
     "output_type": "stream",
     "text": [
      "100%|█████████████████████████████████████████| 655/655 [02:20<00:00,  4.67it/s]\n"
     ]
    },
    {
     "name": "stdout",
     "output_type": "stream",
     "text": [
      "Epoch: 102, loss: 0.11681114357277637, f1: 0.08705016903403708, precision: 0.04784781389109051, recall: 0.48177435211552916\n",
      "val_loss: 0.12313129587116045, val_f1: 0.08959289657464678, val_precision: 0.04936308726463296, val_recall: 0.4842272395387702\n"
     ]
    },
    {
     "name": "stderr",
     "output_type": "stream",
     "text": [
      "100%|█████████████████████████████████████████| 655/655 [02:20<00:00,  4.66it/s]\n"
     ]
    },
    {
     "name": "stdout",
     "output_type": "stream",
     "text": [
      "Epoch: 103, loss: 0.1168110851909368, f1: 0.08704616940565855, precision: 0.04784781389109051, recall: 0.48152944755008203\n",
      "val_loss: 0.12313137808387432, val_f1: 0.08951804135508923, val_precision: 0.04936308726463296, val_recall: 0.4798895502035771\n"
     ]
    },
    {
     "name": "stderr",
     "output_type": "stream",
     "text": [
      "100%|█████████████████████████████████████████| 655/655 [02:20<00:00,  4.66it/s]\n"
     ]
    },
    {
     "name": "stdout",
     "output_type": "stream",
     "text": [
      "Epoch: 104, loss: 0.11681110642793524, f1: 0.0870392499731821, precision: 0.04784781389109051, recall: 0.4811062924734509\n",
      "val_loss: 0.12313161981762002, val_f1: 0.08958564611571782, val_precision: 0.04936308726463296, val_recall: 0.48380398449547796\n"
     ]
    },
    {
     "name": "stderr",
     "output_type": "stream",
     "text": [
      "100%|█████████████████████████████████████████| 655/655 [02:20<00:00,  4.66it/s]\n"
     ]
    },
    {
     "name": "stdout",
     "output_type": "stream",
     "text": [
      "Epoch: 105, loss: 0.1168111227452755, f1: 0.0870694384889145, precision: 0.04784781389109051, recall: 0.48295743888571063\n",
      "val_loss: 0.12313131846214107, val_f1: 0.08954949172046085, val_precision: 0.04936308726463296, val_recall: 0.48170340703714876\n"
     ]
    },
    {
     "name": "stderr",
     "output_type": "stream",
     "text": [
      "100%|█████████████████████████████████████████| 655/655 [02:20<00:00,  4.66it/s]\n"
     ]
    },
    {
     "name": "stdout",
     "output_type": "stream",
     "text": [
      "Epoch: 106, loss: 0.11681114576245082, f1: 0.08703256542913498, precision: 0.04784781389109051, recall: 0.4806981438443861\n",
      "val_loss: 0.12313146403896699, val_f1: 0.08952971697817487, val_precision: 0.04936308726463296, val_recall: 0.4805614778754908\n"
     ]
    },
    {
     "name": "stderr",
     "output_type": "stream",
     "text": [
      "100%|█████████████████████████████████████████| 655/655 [02:20<00:00,  4.66it/s]\n"
     ]
    },
    {
     "name": "stdout",
     "output_type": "stream",
     "text": [
      "Epoch: 107, loss: 0.1168111382151833, f1: 0.0870373312449423, precision: 0.04784781389109051, recall: 0.4809890732055402\n",
      "val_loss: 0.123131361986519, val_f1: 0.089587455649859, val_precision: 0.04936308726463296, val_recall: 0.483909555531423\n"
     ]
    },
    {
     "name": "stderr",
     "output_type": "stream",
     "text": [
      "100%|█████████████████████████████████████████| 655/655 [02:20<00:00,  4.67it/s]\n"
     ]
    },
    {
     "name": "stdout",
     "output_type": "stream",
     "text": [
      "Epoch: 108, loss: 0.11681107227470129, f1: 0.08706816742242393, precision: 0.04784781389109051, recall: 0.48287923640877234\n",
      "val_loss: 0.12313162101381415, val_f1: 0.08960379795140415, val_precision: 0.04936308726463296, val_recall: 0.4848648879779588\n"
     ]
    },
    {
     "name": "stderr",
     "output_type": "stream",
     "text": [
      "100%|█████████████████████████████████████████| 655/655 [02:20<00:00,  4.66it/s]\n"
     ]
    },
    {
     "name": "stdout",
     "output_type": "stream",
     "text": [
      "Epoch: 109, loss: 0.11681110149690213, f1: 0.08705319865315583, precision: 0.04784781389109051, recall: 0.48196001212105494\n",
      "val_loss: 0.1231313679162242, val_f1: 0.08957899267915681, val_precision: 0.04936308726463296, val_recall: 0.48341617179573126\n"
     ]
    },
    {
     "name": "stderr",
     "output_type": "stream",
     "text": [
      "100%|█████████████████████████████████████████| 655/655 [02:20<00:00,  4.67it/s]\n"
     ]
    },
    {
     "name": "stdout",
     "output_type": "stream",
     "text": [
      "Epoch: 110, loss: 0.11681104966133606, f1: 0.08703053751049489, precision: 0.04784781389109051, recall: 0.48057444655258236\n",
      "val_loss: 0.12313145964722567, val_f1: 0.08954345320260325, val_precision: 0.04936308726463296, val_recall: 0.48135418000571223\n"
     ]
    },
    {
     "name": "stderr",
     "output_type": "stream",
     "text": [
      "100%|█████████████████████████████████████████| 655/655 [02:20<00:00,  4.67it/s]\n"
     ]
    },
    {
     "name": "stdout",
     "output_type": "stream",
     "text": [
      "Epoch: 111, loss: 0.11681107816122871, f1: 0.0870508003711727, precision: 0.04784781389109051, recall: 0.48181303075251686\n",
      "val_loss: 0.12313132174313068, val_f1: 0.08957961177695395, val_precision: 0.04936308726463296, val_recall: 0.4834522336994836\n"
     ]
    },
    {
     "name": "stderr",
     "output_type": "stream",
     "text": [
      "100%|█████████████████████████████████████████| 655/655 [02:20<00:00,  4.66it/s]\n"
     ]
    },
    {
     "name": "stdout",
     "output_type": "stream",
     "text": [
      "Epoch: 112, loss: 0.11681111996410458, f1: 0.0870452340585358, precision: 0.04784781389109051, recall: 0.48147220720771616\n",
      "val_loss: 0.12313138483382693, val_f1: 0.08956380817020562, val_precision: 0.04936308726463296, val_recall: 0.4825332130587429\n"
     ]
    },
    {
     "name": "stderr",
     "output_type": "stream",
     "text": [
      "100%|█████████████████████████████████████████| 655/655 [02:20<00:00,  4.66it/s]\n"
     ]
    },
    {
     "name": "stdout",
     "output_type": "stream",
     "text": [
      "Epoch: 113, loss: 0.11681113617907044, f1: 0.08704074862287663, precision: 0.04784781389109051, recall: 0.4811978843830924\n",
      "val_loss: 0.12313120860025423, val_f1: 0.08959936767581589, val_precision: 0.04936308726463296, val_recall: 0.48460556648739983\n"
     ]
    },
    {
     "name": "stderr",
     "output_type": "stream",
     "text": [
      "100%|█████████████████████████████████████████| 655/655 [02:20<00:00,  4.66it/s]\n"
     ]
    },
    {
     "name": "stdout",
     "output_type": "stream",
     "text": [
      "Epoch: 114, loss: 0.11681113727106393, f1: 0.0870818671909211, precision: 0.04784781389109051, recall: 0.4837233320447325\n",
      "val_loss: 0.12313121066796123, val_f1: 0.08961140504702562, val_precision: 0.04936308726463296, val_recall: 0.48531074931315327\n"
     ]
    },
    {
     "name": "stderr",
     "output_type": "stream",
     "text": [
      "100%|█████████████████████████████████████████| 655/655 [02:20<00:00,  4.66it/s]\n"
     ]
    },
    {
     "name": "stdout",
     "output_type": "stream",
     "text": [
      "Epoch: 115, loss: 0.11681105464924382, f1: 0.087081949205157, precision: 0.04784781389109051, recall: 0.48372839334356876\n",
      "val_loss: 0.1231312838066882, val_f1: 0.08968791744764826, val_precision: 0.04936308726463296, val_recall: 0.489836973608087\n"
     ]
    },
    {
     "name": "stderr",
     "output_type": "stream",
     "text": [
      "100%|█████████████████████████████████████████| 655/655 [02:20<00:00,  4.66it/s]\n"
     ]
    },
    {
     "name": "stdout",
     "output_type": "stream",
     "text": [
      "Epoch: 116, loss: 0.11681104492367679, f1: 0.08709973583114056, precision: 0.04784781389109051, recall: 0.48482833122479096\n",
      "val_loss: 0.12313146309910017, val_f1: 0.0896045230559643, val_precision: 0.04936308726463296, val_recall: 0.4849073551936981\n"
     ]
    },
    {
     "name": "stderr",
     "output_type": "stream",
     "text": [
      "100%|█████████████████████████████████████████| 655/655 [02:20<00:00,  4.67it/s]\n"
     ]
    },
    {
     "name": "stdout",
     "output_type": "stream",
     "text": [
      "Epoch: 117, loss: 0.11681105542273922, f1: 0.08710636448520902, precision: 0.04784781389109051, recall: 0.48523941722534997\n",
      "val_loss: 0.12313135930362644, val_f1: 0.08964549827614901, val_precision: 0.04936308726463296, val_recall: 0.487318172230633\n"
     ]
    },
    {
     "name": "stderr",
     "output_type": "stream",
     "text": [
      "100%|█████████████████████████████████████████| 655/655 [02:20<00:00,  4.66it/s]\n"
     ]
    },
    {
     "name": "stdout",
     "output_type": "stream",
     "text": [
      "Epoch: 118, loss: 0.11681109020159444, f1: 0.08710244110543142, precision: 0.04784781389109051, recall: 0.484996026299382\n",
      "val_loss: 0.12313136588269417, val_f1: 0.08967855204917367, val_precision: 0.04936308726463296, val_recall: 0.4892788354409944\n"
     ]
    },
    {
     "name": "stderr",
     "output_type": "stream",
     "text": [
      "100%|█████████████████████████████████████████| 655/655 [02:20<00:00,  4.66it/s]\n"
     ]
    },
    {
     "name": "stdout",
     "output_type": "stream",
     "text": [
      "Epoch: 119, loss: 0.1168111534348426, f1: 0.08711126240375838, precision: 0.04784781389109051, recall: 0.48554357690665556\n",
      "val_loss: 0.12313128418263493, val_f1: 0.08966722010896337, val_precision: 0.04936308726463296, val_recall: 0.48860504266318927\n"
     ]
    },
    {
     "name": "stderr",
     "output_type": "stream",
     "text": [
      "100%|█████████████████████████████████████████| 655/655 [02:20<00:00,  4.67it/s]\n"
     ]
    },
    {
     "name": "stdout",
     "output_type": "stream",
     "text": [
      "Epoch: 120, loss: 0.11681103056851234, f1: 0.08713403851337623, precision: 0.04784781389109051, recall: 0.4869625401860885\n",
      "val_loss: 0.12313139546286622, val_f1: 0.08965446796786757, val_precision: 0.04936308726463296, val_recall: 0.48784881830215454\n"
     ]
    },
    {
     "name": "stderr",
     "output_type": "stream",
     "text": [
      "100%|█████████████████████████████████████████| 655/655 [02:20<00:00,  4.66it/s]\n"
     ]
    },
    {
     "name": "stdout",
     "output_type": "stream",
     "text": [
      "Epoch: 121, loss: 0.11681107061964865, f1: 0.08712385511822344, precision: 0.04784781389109051, recall: 0.48632717742264725\n",
      "val_loss: 0.12313119395542035, val_f1: 0.08961592347878655, val_precision: 0.04936308726463296, val_recall: 0.4855759327017933\n"
     ]
    },
    {
     "name": "stderr",
     "output_type": "stream",
     "text": [
      "100%|█████████████████████████████████████████| 655/655 [02:20<00:00,  4.66it/s]\n"
     ]
    },
    {
     "name": "stdout",
     "output_type": "stream",
     "text": [
      "Epoch: 122, loss: 0.1168110718708912, f1: 0.08711027722407606, precision: 0.04784781389109051, recall: 0.48548236957943164\n",
      "val_loss: 0.12313137989525401, val_f1: 0.08961700023796847, val_precision: 0.04936308726463296, val_recall: 0.48563916571096544\n"
     ]
    },
    {
     "name": "stderr",
     "output_type": "stream",
     "text": [
      "100%|█████████████████████████████████████████| 655/655 [02:20<00:00,  4.66it/s]\n"
     ]
    },
    {
     "name": "stdout",
     "output_type": "stream",
     "text": [
      "Epoch: 123, loss: 0.11681106238419774, f1: 0.08712164092657643, precision: 0.04784781389109051, recall: 0.4861892292517742\n",
      "val_loss: 0.12313157386667685, val_f1: 0.08966143004849571, val_precision: 0.04936308726463296, val_recall: 0.4882614181949458\n"
     ]
    },
    {
     "name": "stderr",
     "output_type": "stream",
     "text": [
      "100%|█████████████████████████████████████████| 655/655 [02:20<00:00,  4.66it/s]\n"
     ]
    },
    {
     "name": "stdout",
     "output_type": "stream",
     "text": [
      "Epoch: 124, loss: 0.11681104561754765, f1: 0.08712783634577224, precision: 0.04784781389109051, recall: 0.4865753945048529\n",
      "val_loss: 0.1231315674414055, val_f1: 0.08970368853550456, val_precision: 0.04936308726463296, val_recall: 0.4907794823066904\n"
     ]
    },
    {
     "name": "stderr",
     "output_type": "stream",
     "text": [
      "100%|█████████████████████████████████████████| 655/655 [02:20<00:00,  4.66it/s]\n"
     ]
    },
    {
     "name": "stdout",
     "output_type": "stream",
     "text": [
      "Epoch: 125, loss: 0.11681105676498121, f1: 0.08715506750538261, precision: 0.04784781389109051, recall: 0.48827937682166356\n",
      "val_loss: 0.12313134865749867, val_f1: 0.08970248191738932, val_precision: 0.04936308726463296, val_recall: 0.49070725624167594\n"
     ]
    },
    {
     "name": "stderr",
     "output_type": "stream",
     "text": [
      "100%|█████████████████████████████████████████| 655/655 [02:20<00:00,  4.66it/s]\n"
     ]
    },
    {
     "name": "stdout",
     "output_type": "stream",
     "text": [
      "Epoch: 126, loss: 0.11681107433356401, f1: 0.08713961504448296, precision: 0.04784781389109051, recall: 0.4873111121982108\n",
      "val_loss: 0.12313136923203774, val_f1: 0.08966536641437188, val_precision: 0.04936308726463296, val_recall: 0.48849498309673517\n"
     ]
    },
    {
     "name": "stderr",
     "output_type": "stream",
     "text": [
      "100%|█████████████████████████████████████████| 655/655 [02:20<00:00,  4.66it/s]\n"
     ]
    },
    {
     "name": "stdout",
     "output_type": "stream",
     "text": [
      "Epoch: 127, loss: 0.11681102948220631, f1: 0.08715565384720536, precision: 0.04784781389109051, recall: 0.4883161865117896\n",
      "val_loss: 0.12313128819842951, val_f1: 0.08972597515027797, val_precision: 0.04936308726463296, val_recall: 0.4921170026063919\n"
     ]
    },
    {
     "name": "stderr",
     "output_type": "stream",
     "text": [
      "100%|█████████████████████████████████████████| 655/655 [02:20<00:00,  4.66it/s]\n"
     ]
    },
    {
     "name": "stdout",
     "output_type": "stream",
     "text": [
      "Epoch: 128, loss: 0.11681097678214539, f1: 0.08719383999877195, precision: 0.04784781389109051, recall: 0.490724390563164\n",
      "val_loss: 0.12313127529662136, val_f1: 0.0897113831897758, val_precision: 0.04936308726463296, val_recall: 0.49124052573781496\n"
     ]
    },
    {
     "name": "stderr",
     "output_type": "stream",
     "text": [
      "100%|█████████████████████████████████████████| 655/655 [02:20<00:00,  4.66it/s]\n"
     ]
    },
    {
     "name": "stdout",
     "output_type": "stream",
     "text": [
      "Epoch: 129, loss: 0.11681107705786029, f1: 0.08718351044503543, precision: 0.04784781389109051, recall: 0.4900708269071943\n",
      "val_loss: 0.12313139078062062, val_f1: 0.08968096141173947, val_precision: 0.04936308726463296, val_recall: 0.4894223128436902\n"
     ]
    },
    {
     "name": "stderr",
     "output_type": "stream",
     "text": [
      "100%|█████████████████████████████████████████| 655/655 [02:20<00:00,  4.67it/s]\n"
     ]
    },
    {
     "name": "stdout",
     "output_type": "stream",
     "text": [
      "Epoch: 130, loss: 0.11681111413445182, f1: 0.08718049698558303, precision: 0.04784781389109051, recall: 0.48988046036421795\n",
      "val_loss: 0.12313133765251265, val_f1: 0.08966260915627262, val_precision: 0.04936308726463296, val_recall: 0.4883313594608132\n"
     ]
    },
    {
     "name": "stderr",
     "output_type": "stream",
     "text": [
      "100%|█████████████████████████████████████████| 655/655 [02:20<00:00,  4.67it/s]\n"
     ]
    },
    {
     "name": "stdout",
     "output_type": "stream",
     "text": [
      "Epoch: 131, loss: 0.1168110832458234, f1: 0.08713639252259546, precision: 0.04784781389109051, recall: 0.48710962674999964\n",
      "val_loss: 0.12313130139074194, val_f1: 0.08965647828404709, val_precision: 0.04936308726463296, val_recall: 0.48796789238759136\n"
     ]
    },
    {
     "name": "stderr",
     "output_type": "stream",
     "text": [
      "100%|█████████████████████████████████████████| 655/655 [02:20<00:00,  4.66it/s]\n"
     ]
    },
    {
     "name": "stdout",
     "output_type": "stream",
     "text": [
      "Epoch: 132, loss: 0.11681107546536977, f1: 0.08715783063112875, precision: 0.04784781389109051, recall: 0.48845288607910387\n",
      "val_loss: 0.12313121198377477, val_f1: 0.08968288536876773, val_precision: 0.04936308726463296, val_recall: 0.48953693927428044\n"
     ]
    },
    {
     "name": "stderr",
     "output_type": "stream",
     "text": [
      "100%|█████████████████████████████████████████| 655/655 [02:20<00:00,  4.66it/s]\n"
     ]
    },
    {
     "name": "stdout",
     "output_type": "stream",
     "text": [
      "Epoch: 133, loss: 0.11681097644658489, f1: 0.08716137267932707, precision: 0.04784781389109051, recall: 0.4886754717535645\n",
      "val_loss: 0.12313126519732519, val_f1: 0.08961946354603614, val_precision: 0.04936308726463296, val_recall: 0.48578388045687193\n"
     ]
    },
    {
     "name": "stderr",
     "output_type": "stream",
     "text": [
      "100%|█████████████████████████████████████████| 655/655 [02:20<00:00,  4.66it/s]\n"
     ]
    },
    {
     "name": "stdout",
     "output_type": "stream",
     "text": [
      "Epoch: 134, loss: 0.1168110623557604, f1: 0.08710631021013768, precision: 0.04784781389109051, recall: 0.4852360486984253\n",
      "val_loss: 0.12313140658747165, val_f1: 0.08964992382252439, val_precision: 0.04936308726463296, val_recall: 0.4875798560337189\n"
     ]
    },
    {
     "name": "stderr",
     "output_type": "stream",
     "text": [
      "100%|█████████████████████████████████████████| 655/655 [02:20<00:00,  4.66it/s]\n"
     ]
    },
    {
     "name": "stdout",
     "output_type": "stream",
     "text": [
      "Epoch: 135, loss: 0.11681099653471518, f1: 0.08713095248598995, precision: 0.04784781389109051, recall: 0.4867698370955373\n",
      "val_loss: 0.12313129899835368, val_f1: 0.08968581184783492, val_precision: 0.04936308726463296, val_recall: 0.48971138798862424\n"
     ]
    },
    {
     "name": "stderr",
     "output_type": "stream",
     "text": [
      "100%|█████████████████████████████████████████| 655/655 [02:20<00:00,  4.66it/s]\n"
     ]
    },
    {
     "name": "stdout",
     "output_type": "stream",
     "text": [
      "Epoch: 136, loss: 0.11681106076326989, f1: 0.08712668151999657, precision: 0.04784781389109051, recall: 0.48650337098209\n",
      "val_loss: 0.12313130552615595, val_f1: 0.08963281627144304, val_precision: 0.04936308726463296, val_recall: 0.48656969250889\n"
     ]
    },
    {
     "name": "stderr",
     "output_type": "stream",
     "text": [
      "100%|█████████████████████████████████████████| 655/655 [02:20<00:00,  4.67it/s]\n"
     ]
    },
    {
     "name": "stdout",
     "output_type": "stream",
     "text": [
      "Epoch: 137, loss: 0.1168109753034042, f1: 0.08715936381002194, precision: 0.04784781389109051, recall: 0.4885492098240452\n",
      "val_loss: 0.12313131384824941, val_f1: 0.08967172044657928, val_precision: 0.04936308726463296, val_recall: 0.4888724290996517\n"
     ]
    },
    {
     "name": "stderr",
     "output_type": "stream",
     "text": [
      "100%|█████████████████████████████████████████| 655/655 [02:20<00:00,  4.66it/s]\n"
     ]
    },
    {
     "name": "stdout",
     "output_type": "stream",
     "text": [
      "Epoch: 138, loss: 0.11681104193775708, f1: 0.08715777835038635, precision: 0.04784781389109051, recall: 0.4884496020906754\n",
      "val_loss: 0.12313132358868735, val_f1: 0.08964248919018428, val_precision: 0.04936308726463296, val_recall: 0.48714038975741886\n"
     ]
    },
    {
     "name": "stderr",
     "output_type": "stream",
     "text": [
      "100%|█████████████████████████████████████████| 655/655 [02:20<00:00,  4.66it/s]\n"
     ]
    },
    {
     "name": "stdout",
     "output_type": "stream",
     "text": [
      "Epoch: 139, loss: 0.11681105166332412, f1: 0.08716759715282232, precision: 0.04784781389109051, recall: 0.4890670715397551\n",
      "val_loss: 0.12313136760863143, val_f1: 0.0897081579270813, val_precision: 0.04936308726463296, val_recall: 0.49104718071058256\n"
     ]
    },
    {
     "name": "stderr",
     "output_type": "stream",
     "text": [
      "100%|█████████████████████████████████████████| 655/655 [02:20<00:00,  4.66it/s]\n"
     ]
    },
    {
     "name": "stdout",
     "output_type": "stream",
     "text": [
      "Epoch: 140, loss: 0.11681098111599457, f1: 0.087153893536139, precision: 0.04784781389109051, recall: 0.48820569192180197\n",
      "val_loss: 0.12313133965186569, val_f1: 0.08967005984945559, val_precision: 0.04936308726463296, val_recall: 0.4887737341977041\n"
     ]
    },
    {
     "name": "stderr",
     "output_type": "stream",
     "text": [
      "100%|█████████████████████████████████████████| 655/655 [02:20<00:00,  4.66it/s]\n"
     ]
    },
    {
     "name": "stdout",
     "output_type": "stream",
     "text": [
      "Epoch: 141, loss: 0.1168110262289757, f1: 0.0871702028546769, precision: 0.04784781389109051, recall: 0.4892311736372591\n",
      "val_loss: 0.12313127112703039, val_f1: 0.08969097603260476, val_precision: 0.04936308726463296, val_recall: 0.49001950298974273\n"
     ]
    },
    {
     "name": "stderr",
     "output_type": "stream",
     "text": [
      "100%|█████████████████████████████████████████| 655/655 [02:20<00:00,  4.66it/s]\n"
     ]
    },
    {
     "name": "stdout",
     "output_type": "stream",
     "text": [
      "Epoch: 142, loss: 0.11681096370666082, f1: 0.08716690778876462, precision: 0.04784781389109051, recall: 0.4890236734888936\n",
      "val_loss: 0.12313153370873096, val_f1: 0.08966107006071183, val_precision: 0.04936308726463296, val_recall: 0.48824006838536044\n"
     ]
    },
    {
     "name": "stderr",
     "output_type": "stream",
     "text": [
      "100%|█████████████████████████████████████████| 655/655 [02:20<00:00,  4.66it/s]\n"
     ]
    },
    {
     "name": "stdout",
     "output_type": "stream",
     "text": [
      "Epoch: 143, loss: 0.11681094379484198, f1: 0.08716591526727088, precision: 0.04784781389109051, recall: 0.48896120286169853\n",
      "val_loss: 0.12313133091964854, val_f1: 0.08966794268158058, val_precision: 0.04936308726463296, val_recall: 0.48864795623022483\n"
     ]
    },
    {
     "name": "stderr",
     "output_type": "stream",
     "text": [
      "100%|█████████████████████████████████████████| 655/655 [02:20<00:00,  4.66it/s]\n"
     ]
    },
    {
     "name": "stdout",
     "output_type": "stream",
     "text": [
      "Epoch: 144, loss: 0.11681097396684967, f1: 0.08717526569045715, precision: 0.04784781389109051, recall: 0.48955030828031876\n",
      "val_loss: 0.12313119270796076, val_f1: 0.0896969361021762, val_precision: 0.04936308726463296, val_recall: 0.49037554162904756\n"
     ]
    },
    {
     "name": "stderr",
     "output_type": "stream",
     "text": [
      "100%|█████████████████████████████████████████| 655/655 [02:20<00:00,  4.66it/s]\n"
     ]
    },
    {
     "name": "stdout",
     "output_type": "stream",
     "text": [
      "Epoch: 145, loss: 0.11681094573426792, f1: 0.0871406937477827, precision: 0.04784781389109051, recall: 0.4873785911170581\n",
      "val_loss: 0.12313128454149316, val_f1: 0.08965268627872239, val_precision: 0.04936308726463296, val_recall: 0.4877433302479053\n"
     ]
    },
    {
     "name": "stderr",
     "output_type": "stream",
     "text": [
      "100%|█████████████████████████████████████████| 655/655 [02:20<00:00,  4.66it/s]\n"
     ]
    },
    {
     "name": "stdout",
     "output_type": "stream",
     "text": [
      "Epoch: 146, loss: 0.1168109514615463, f1: 0.08714748665337517, precision: 0.04784781389109051, recall: 0.4878039166217542\n",
      "val_loss: 0.12313109981494212, val_f1: 0.08962436293573567, val_precision: 0.04936308726463296, val_recall: 0.4860719432798001\n"
     ]
    },
    {
     "name": "stderr",
     "output_type": "stream",
     "text": [
      "100%|█████████████████████████████████████████| 655/655 [02:20<00:00,  4.66it/s]\n"
     ]
    },
    {
     "name": "stdout",
     "output_type": "stream",
     "text": [
      "Epoch: 147, loss: 0.11681096392278453, f1: 0.08717308342961559, precision: 0.04784781389109051, recall: 0.4894127034958992\n",
      "val_loss: 0.12313121328249983, val_f1: 0.08964769160158395, val_precision: 0.04936308726463296, val_recall: 0.48744783229237304\n"
     ]
    },
    {
     "name": "stderr",
     "output_type": "stream",
     "text": [
      "100%|█████████████████████████████████████████| 655/655 [02:20<00:00,  4.66it/s]\n"
     ]
    },
    {
     "name": "stdout",
     "output_type": "stream",
     "text": [
      "Epoch: 148, loss: 0.11681107638673928, f1: 0.08716459835479747, precision: 0.04784781389109051, recall: 0.48887833707205214\n",
      "val_loss: 0.12313146620920491, val_f1: 0.08968176583460467, val_precision: 0.04936308726463296, val_recall: 0.48947023320088695\n"
     ]
    },
    {
     "name": "stderr",
     "output_type": "stream",
     "text": [
      "100%|█████████████████████████████████████████| 655/655 [02:20<00:00,  4.66it/s]\n"
     ]
    },
    {
     "name": "stdout",
     "output_type": "stream",
     "text": [
      "Epoch: 149, loss: 0.11681089344939202, f1: 0.08709885897633025, precision: 0.04784781389109051, recall: 0.4847739992250923\n",
      "val_loss: 0.12313124983477483, val_f1: 0.08962041579979939, val_precision: 0.04936308726463296, val_recall: 0.4858398445702474\n"
     ]
    },
    {
     "name": "stderr",
     "output_type": "stream",
     "text": [
      "100%|█████████████████████████████████████████| 655/655 [02:20<00:00,  4.66it/s]\n"
     ]
    },
    {
     "name": "stdout",
     "output_type": "stream",
     "text": [
      "Epoch: 150, loss: 0.11681101363123829, f1: 0.08711172686089211, precision: 0.04784781389109051, recall: 0.485572437612155\n",
      "val_loss: 0.1231311416304713, val_f1: 0.08964828315912, val_precision: 0.04936308726463296, val_recall: 0.4874828133834611\n"
     ]
    },
    {
     "name": "stderr",
     "output_type": "stream",
     "text": [
      "100%|█████████████████████████████████████████| 655/655 [02:20<00:00,  4.67it/s]\n"
     ]
    },
    {
     "name": "stdout",
     "output_type": "stream",
     "text": [
      "Epoch: 151, loss: 0.11681090570588148, f1: 0.08713629891607798, precision: 0.04784781389109051, recall: 0.4871037763493662\n",
      "val_loss: 0.12313089786319557, val_f1: 0.08965328641749609, val_precision: 0.04936308726463296, val_recall: 0.487778857897181\n"
     ]
    },
    {
     "name": "stderr",
     "output_type": "stream",
     "text": [
      "100%|█████████████████████████████████████████| 655/655 [02:20<00:00,  4.66it/s]\n"
     ]
    },
    {
     "name": "stdout",
     "output_type": "stream",
     "text": [
      "Epoch: 152, loss: 0.11681089450157325, f1: 0.0871569637468139, precision: 0.04784781389109051, recall: 0.4883984383735948\n",
      "val_loss: 0.12313125294487957, val_f1: 0.08964862356070018, val_precision: 0.04936308726463296, val_recall: 0.48750294471552613\n"
     ]
    },
    {
     "name": "stderr",
     "output_type": "stream",
     "text": [
      "100%|█████████████████████████████████████████| 655/655 [02:20<00:00,  4.66it/s]\n"
     ]
    },
    {
     "name": "stdout",
     "output_type": "stream",
     "text": [
      "Epoch: 153, loss: 0.11681079435098263, f1: 0.08715536786986532, precision: 0.04784781389109051, recall: 0.48829823263728894\n",
      "val_loss: 0.1231312628391139, val_f1: 0.0896998799984591, val_precision: 0.04936308726463296, val_recall: 0.4905515756082097\n"
     ]
    },
    {
     "name": "stderr",
     "output_type": "stream",
     "text": [
      "100%|█████████████████████████████████████████| 655/655 [02:20<00:00,  4.65it/s]\n"
     ]
    },
    {
     "name": "stdout",
     "output_type": "stream",
     "text": [
      "Epoch: 154, loss: 0.11681096435503195, f1: 0.08715935001253663, precision: 0.04784781389109051, recall: 0.4885483428267122\n",
      "val_loss: 0.12313094882106562, val_f1: 0.08966411877969191, val_precision: 0.04936308726463296, val_recall: 0.48842093252807584\n"
     ]
    },
    {
     "name": "stderr",
     "output_type": "stream",
     "text": [
      "100%|█████████████████████████████████████████| 655/655 [02:20<00:00,  4.67it/s]\n"
     ]
    },
    {
     "name": "stdout",
     "output_type": "stream",
     "text": [
      "Epoch: 155, loss: 0.11681100771627353, f1: 0.08715040343491814, precision: 0.04784781389109051, recall: 0.48798675314160705\n",
      "val_loss: 0.12313126882008456, val_f1: 0.08968932121561442, val_precision: 0.04936308726463296, val_recall: 0.4899207319414944\n"
     ]
    },
    {
     "name": "stderr",
     "output_type": "stream",
     "text": [
      "100%|█████████████████████████████████████████| 655/655 [02:20<00:00,  4.66it/s]\n"
     ]
    },
    {
     "name": "stdout",
     "output_type": "stream",
     "text": [
      "Epoch: 156, loss: 0.11681101445592086, f1: 0.08716016102907569, precision: 0.04784781389109051, recall: 0.4885993097119659\n",
      "val_loss: 0.12313143862838592, val_f1: 0.08969483385853473, val_precision: 0.04936308726463296, val_recall: 0.4902499055643694\n"
     ]
    },
    {
     "name": "stderr",
     "output_type": "stream",
     "text": [
      "100%|█████████████████████████████████████████| 655/655 [02:20<00:00,  4.66it/s]\n"
     ]
    },
    {
     "name": "stdout",
     "output_type": "stream",
     "text": [
      "Epoch: 157, loss: 0.11681081996164248, f1: 0.08717152034875211, precision: 0.04784781389109051, recall: 0.4893141850715375\n",
      "val_loss: 0.1231311472867607, val_f1: 0.08968310440845743, val_precision: 0.04936308726463296, val_recall: 0.48954999241807046\n"
     ]
    },
    {
     "name": "stderr",
     "output_type": "stream",
     "text": [
      "100%|█████████████████████████████████████████| 655/655 [02:20<00:00,  4.66it/s]\n"
     ]
    },
    {
     "name": "stdout",
     "output_type": "stream",
     "text": [
      "Epoch: 158, loss: 0.11681086993740715, f1: 0.08717899511248216, precision: 0.04784781389109051, recall: 0.4897856341973516\n",
      "val_loss: 0.123131446796683, val_f1: 0.08965088593118788, val_precision: 0.04936308726463296, val_recall: 0.4876367795631426\n"
     ]
    },
    {
     "name": "stderr",
     "output_type": "stream",
     "text": [
      "100%|█████████████████████████████████████████| 655/655 [02:20<00:00,  4.66it/s]\n"
     ]
    },
    {
     "name": "stdout",
     "output_type": "stream",
     "text": [
      "Epoch: 159, loss: 0.11681095878131517, f1: 0.08717326451838164, precision: 0.04784781389109051, recall: 0.48942411955986315\n",
      "val_loss: 0.12313125055249131, val_f1: 0.08976078672888073, val_precision: 0.04936308726463296, val_recall: 0.4942195080562469\n"
     ]
    },
    {
     "name": "stderr",
     "output_type": "stream",
     "text": [
      "100%|█████████████████████████████████████████| 655/655 [02:20<00:00,  4.66it/s]\n"
     ]
    },
    {
     "name": "stdout",
     "output_type": "stream",
     "text": [
      "Epoch: 160, loss: 0.11681100191505811, f1: 0.08715097335261086, precision: 0.04784781389109051, recall: 0.4880224926326111\n",
      "val_loss: 0.12313126799983716, val_f1: 0.08967003680879758, val_precision: 0.04936308726463296, val_recall: 0.488772365068077\n"
     ]
    },
    {
     "name": "stderr",
     "output_type": "stream",
     "text": [
      "100%|█████████████████████████████████████████| 655/655 [02:20<00:00,  4.67it/s]\n"
     ]
    },
    {
     "name": "stdout",
     "output_type": "stream",
     "text": [
      "Epoch: 161, loss: 0.11681092196634707, f1: 0.0871811427249078, precision: 0.04784781389109051, recall: 0.48992124172567414\n",
      "val_loss: 0.12313113797353495, val_f1: 0.08968861336145632, val_precision: 0.04936308726463296, val_recall: 0.48987849330136535\n"
     ]
    },
    {
     "name": "stderr",
     "output_type": "stream",
     "text": [
      "100%|█████████████████████████████████████████| 655/655 [02:20<00:00,  4.66it/s]\n"
     ]
    },
    {
     "name": "stdout",
     "output_type": "stream",
     "text": [
      "Epoch: 162, loss: 0.11681096809738464, f1: 0.08713338564202126, precision: 0.04784781389109051, recall: 0.4869217608721202\n",
      "val_loss: 0.12313122931150121, val_f1: 0.08966027840239922, val_precision: 0.04936308726463296, val_recall: 0.48819312343903637\n"
     ]
    },
    {
     "name": "stderr",
     "output_type": "stream",
     "text": [
      "100%|█████████████████████████████████████████| 655/655 [02:20<00:00,  4.66it/s]\n"
     ]
    },
    {
     "name": "stdout",
     "output_type": "stream",
     "text": [
      "Epoch: 163, loss: 0.1168109510577362, f1: 0.08712950538472032, precision: 0.04784781389109051, recall: 0.48667952249978336\n",
      "val_loss: 0.12313122886720054, val_f1: 0.08963360546699513, val_precision: 0.04936308726463296, val_recall: 0.48661620914936066\n"
     ]
    },
    {
     "name": "stderr",
     "output_type": "stream",
     "text": [
      "100%|█████████████████████████████████████████| 655/655 [02:20<00:00,  4.66it/s]\n"
     ]
    },
    {
     "name": "stdout",
     "output_type": "stream",
     "text": [
      "Epoch: 164, loss: 0.11681091415745612, f1: 0.0871517223154613, precision: 0.04784781389109051, recall: 0.48806946728065725\n",
      "val_loss: 0.12313114703043339, val_f1: 0.08963191126586105, val_precision: 0.04936308726463296, val_recall: 0.48651635974919033\n"
     ]
    },
    {
     "name": "stderr",
     "output_type": "stream",
     "text": [
      "100%|█████████████████████████████████████████| 655/655 [02:20<00:00,  4.66it/s]\n"
     ]
    },
    {
     "name": "stdout",
     "output_type": "stream",
     "text": [
      "Epoch: 165, loss: 0.11681080565197777, f1: 0.08717420835427094, precision: 0.04784781389109051, recall: 0.48948362801821177\n",
      "val_loss: 0.12313143326260081, val_f1: 0.08968031543094054, val_precision: 0.04936308726463296, val_recall: 0.4893838372252403\n"
     ]
    },
    {
     "name": "stderr",
     "output_type": "stream",
     "text": [
      "100%|█████████████████████████████████████████| 655/655 [02:20<00:00,  4.66it/s]\n"
     ]
    },
    {
     "name": "stdout",
     "output_type": "stream",
     "text": [
      "Epoch: 166, loss: 0.11681085386462794, f1: 0.08716016965639085, precision: 0.04784781389109051, recall: 0.48859985193223443\n",
      "val_loss: 0.12313124701517437, val_f1: 0.0896873829979848, val_precision: 0.04936308726463296, val_recall: 0.48980509154840346\n"
     ]
    },
    {
     "name": "stderr",
     "output_type": "stream",
     "text": [
      "100%|█████████████████████████████████████████| 655/655 [02:20<00:00,  4.66it/s]\n"
     ]
    },
    {
     "name": "stdout",
     "output_type": "stream",
     "text": [
      "Epoch: 167, loss: 0.11681087660880489, f1: 0.08713838320278258, precision: 0.04784781389109051, recall: 0.48723407442333133\n",
      "val_loss: 0.12313130381730718, val_f1: 0.08966362088061794, val_precision: 0.04936308726463296, val_recall: 0.48839138653300224\n"
     ]
    },
    {
     "name": "stderr",
     "output_type": "stream",
     "text": [
      "100%|█████████████████████████████████████████| 655/655 [02:20<00:00,  4.66it/s]\n"
     ]
    },
    {
     "name": "stdout",
     "output_type": "stream",
     "text": [
      "Epoch: 168, loss: 0.11681083700129094, f1: 0.08714427327624757, precision: 0.04784781389109051, recall: 0.4876026326008425\n",
      "val_loss: 0.1231310627500125, val_f1: 0.08962595939952846, val_precision: 0.04936308726463296, val_recall: 0.4861658754151896\n"
     ]
    },
    {
     "name": "stderr",
     "output_type": "stream",
     "text": [
      "100%|█████████████████████████████████████████| 655/655 [02:20<00:00,  4.66it/s]\n"
     ]
    },
    {
     "name": "stdout",
     "output_type": "stream",
     "text": [
      "Epoch: 169, loss: 0.11681076906450832, f1: 0.0871623709556552, precision: 0.04784781389109051, recall: 0.48873823776499914\n",
      "val_loss: 0.12313117279987269, val_f1: 0.08965307395786548, val_precision: 0.04936308726463296, val_recall: 0.4877662799500544\n"
     ]
    },
    {
     "name": "stderr",
     "output_type": "stream",
     "text": [
      "100%|█████████████████████████████████████████| 655/655 [02:20<00:00,  4.66it/s]\n"
     ]
    },
    {
     "name": "stdout",
     "output_type": "stream",
     "text": [
      "Epoch: 170, loss: 0.11681070075804041, f1: 0.08717474719375741, precision: 0.04784781389109051, recall: 0.48951760753420476\n",
      "val_loss: 0.12313132726271218, val_f1: 0.08966085277395934, val_precision: 0.04936308726463296, val_recall: 0.48822718257204106\n"
     ]
    },
    {
     "name": "stderr",
     "output_type": "stream",
     "text": [
      "100%|█████████████████████████████████████████| 655/655 [02:20<00:00,  4.66it/s]\n"
     ]
    },
    {
     "name": "stdout",
     "output_type": "stream",
     "text": [
      "Epoch: 171, loss: 0.11681073425721576, f1: 0.08716394979174014, precision: 0.04784781389109051, recall: 0.48883753610021285\n",
      "val_loss: 0.1231312046357251, val_f1: 0.08966306957887972, val_precision: 0.04936308726463296, val_recall: 0.4883586753399\n"
     ]
    },
    {
     "name": "stderr",
     "output_type": "stream",
     "text": [
      "100%|█████████████████████████████████████████| 655/655 [02:20<00:00,  4.66it/s]\n"
     ]
    },
    {
     "name": "stdout",
     "output_type": "stream",
     "text": [
      "Epoch: 172, loss: 0.11681091035822876, f1: 0.08714790849307306, precision: 0.04784781389109051, recall: 0.4878303516457099\n",
      "val_loss: 0.12313120601989261, val_f1: 0.0896865091541086, val_precision: 0.04936308726463296, val_recall: 0.4897529713877844\n"
     ]
    },
    {
     "name": "stderr",
     "output_type": "stream",
     "text": [
      "100%|█████████████████████████████████████████| 655/655 [02:20<00:00,  4.66it/s]\n"
     ]
    },
    {
     "name": "stdout",
     "output_type": "stream",
     "text": [
      "Epoch: 173, loss: 0.11681089803348971, f1: 0.08711034777775312, precision: 0.04784781389109051, recall: 0.485486752477311\n",
      "val_loss: 0.12313123067858023, val_f1: 0.08962993760140829, val_precision: 0.04936308726463296, val_recall: 0.4864000868086421\n"
     ]
    },
    {
     "name": "stderr",
     "output_type": "stream",
     "text": [
      "100%|█████████████████████████████████████████| 655/655 [02:20<00:00,  4.66it/s]\n"
     ]
    },
    {
     "name": "stdout",
     "output_type": "stream",
     "text": [
      "Epoch: 174, loss: 0.11681084910990627, f1: 0.0871179002769305, precision: 0.04784781389109051, recall: 0.48595634175620916\n",
      "val_loss: 0.12313119698008267, val_f1: 0.08966534842564786, val_precision: 0.04936308726463296, val_recall: 0.4884939152713216\n"
     ]
    },
    {
     "name": "stderr",
     "output_type": "stream",
     "text": [
      "100%|█████████████████████████████████████████| 655/655 [02:20<00:00,  4.66it/s]\n"
     ]
    },
    {
     "name": "stdout",
     "output_type": "stream",
     "text": [
      "Epoch: 175, loss: 0.1168109210734149, f1: 0.08715794046742338, precision: 0.04784781389109051, recall: 0.48845978552148545\n",
      "val_loss: 0.12313149690012866, val_f1: 0.08964081668798073, val_precision: 0.04936308726463296, val_recall: 0.4870416260913971\n"
     ]
    },
    {
     "name": "stderr",
     "output_type": "stream",
     "text": [
      "100%|█████████████████████████████████████████| 655/655 [02:20<00:00,  4.67it/s]\n"
     ]
    },
    {
     "name": "stdout",
     "output_type": "stream",
     "text": [
      "Epoch: 176, loss: 0.11681075662033248, f1: 0.0871813009447369, precision: 0.04784781389109051, recall: 0.4899312349676176\n",
      "val_loss: 0.12313138254396959, val_f1: 0.08966655387142462, val_precision: 0.04936308726463296, val_recall: 0.488565480900467\n"
     ]
    },
    {
     "name": "stderr",
     "output_type": "stream",
     "text": [
      "100%|█████████████████████████████████████████| 655/655 [02:20<00:00,  4.66it/s]\n"
     ]
    },
    {
     "name": "stdout",
     "output_type": "stream",
     "text": [
      "Epoch: 177, loss: 0.11681078980669721, f1: 0.08717451698169164, precision: 0.04784781389109051, recall: 0.4895030897082263\n",
      "val_loss: 0.1231315262239734, val_f1: 0.08971691242289846, val_precision: 0.04936308726463296, val_recall: 0.49157230911451744\n"
     ]
    },
    {
     "name": "stderr",
     "output_type": "stream",
     "text": [
      "100%|█████████████████████████████████████████| 655/655 [02:20<00:00,  4.66it/s]\n"
     ]
    },
    {
     "name": "stdout",
     "output_type": "stream",
     "text": [
      "Epoch: 178, loss: 0.11681079710371621, f1: 0.08715882627900581, precision: 0.04784781389109051, recall: 0.48851543487483307\n",
      "val_loss: 0.12313123860763847, val_f1: 0.0896900291031977, val_precision: 0.04936308726463296, val_recall: 0.48996297919422116\n"
     ]
    },
    {
     "name": "stderr",
     "output_type": "stream",
     "text": [
      "100%|█████████████████████████████████████████| 655/655 [02:20<00:00,  4.66it/s]\n"
     ]
    },
    {
     "name": "stdout",
     "output_type": "stream",
     "text": [
      "Epoch: 179, loss: 0.11681071533501604, f1: 0.08714018229986585, precision: 0.04784781389109051, recall: 0.4873465950707443\n",
      "val_loss: 0.12313124578480326, val_f1: 0.08967978824982567, val_precision: 0.04936308726463296, val_recall: 0.4893524415722681\n"
     ]
    },
    {
     "name": "stderr",
     "output_type": "stream",
     "text": [
      "100%|█████████████████████████████████████████| 655/655 [02:20<00:00,  4.66it/s]\n"
     ]
    },
    {
     "name": "stdout",
     "output_type": "stream",
     "text": [
      "Epoch: 180, loss: 0.11681095970268468, f1: 0.08713749022563719, precision: 0.04784781389109051, recall: 0.4871782426615708\n",
      "val_loss: 0.12313130398819205, val_f1: 0.0896690180184503, val_precision: 0.04936308726463296, val_recall: 0.48871183313361\n"
     ]
    },
    {
     "name": "stderr",
     "output_type": "stream",
     "text": [
      "100%|█████████████████████████████████████████| 655/655 [02:20<00:00,  4.67it/s]\n"
     ]
    },
    {
     "name": "stdout",
     "output_type": "stream",
     "text": [
      "Epoch: 181, loss: 0.11681081478036087, f1: 0.08711053476048218, precision: 0.04784781389109051, recall: 0.48549836846708344\n",
      "val_loss: 0.12313124400760056, val_f1: 0.08959750273785337, val_precision: 0.04936308726463296, val_recall: 0.4844964795976604\n"
     ]
    },
    {
     "name": "stderr",
     "output_type": "stream",
     "text": [
      "100%|█████████████████████████████████████████| 655/655 [02:20<00:00,  4.66it/s]\n"
     ]
    },
    {
     "name": "stdout",
     "output_type": "stream",
     "text": [
      "Epoch: 182, loss: 0.1168107334780329, f1: 0.08710659294777796, precision: 0.04784781389109051, recall: 0.4852535969883431\n",
      "val_loss: 0.12313142630758636, val_f1: 0.08962966068601044, val_precision: 0.04936308726463296, val_recall: 0.4863837771459457\n"
     ]
    },
    {
     "name": "stderr",
     "output_type": "stream",
     "text": [
      "100%|█████████████████████████████████████████| 655/655 [02:20<00:00,  4.66it/s]\n"
     ]
    },
    {
     "name": "stdout",
     "output_type": "stream",
     "text": [
      "Epoch: 183, loss: 0.11681075197367267, f1: 0.08711688961460361, precision: 0.04784781389109051, recall: 0.4858934542149988\n",
      "val_loss: 0.12313130098061824, val_f1: 0.08964596227289888, val_precision: 0.04936308726463296, val_recall: 0.48734559651908527\n"
     ]
    },
    {
     "name": "stderr",
     "output_type": "stream",
     "text": [
      "100%|█████████████████████████████████████████| 655/655 [02:20<00:00,  4.66it/s]\n"
     ]
    },
    {
     "name": "stdout",
     "output_type": "stream",
     "text": [
      "Epoch: 184, loss: 0.11681080063563266, f1: 0.087157443878574, precision: 0.04784781389109051, recall: 0.4884285933643807\n",
      "val_loss: 0.12313153630618108, val_f1: 0.08967012969540689, val_precision: 0.04936308726463296, val_recall: 0.4887778846495742\n"
     ]
    },
    {
     "name": "stderr",
     "output_type": "stream",
     "text": [
      "100%|█████████████████████████████████████████| 655/655 [02:20<00:00,  4.66it/s]\n"
     ]
    },
    {
     "name": "stdout",
     "output_type": "stream",
     "text": [
      "Epoch: 185, loss: 0.11681075305429124, f1: 0.08711306696270303, precision: 0.04784781389109051, recall: 0.4856557271407761\n",
      "val_loss: 0.12313126880299607, val_f1: 0.08960549587749904, val_precision: 0.04936308726463296, val_recall: 0.4849643410619246\n"
     ]
    },
    {
     "name": "stderr",
     "output_type": "stream",
     "text": [
      "100%|█████████████████████████████████████████| 655/655 [02:20<00:00,  4.67it/s]\n"
     ]
    },
    {
     "name": "stdout",
     "output_type": "stream",
     "text": [
      "Epoch: 186, loss: 0.11681075710945457, f1: 0.08709541440830072, precision: 0.04784781389109051, recall: 0.48456067288194904\n",
      "val_loss: 0.12313116816889255, val_f1: 0.08965914366530979, val_precision: 0.04936308726463296, val_recall: 0.4881258483873595\n"
     ]
    },
    {
     "name": "stderr",
     "output_type": "stream",
     "text": [
      "100%|█████████████████████████████████████████| 655/655 [02:20<00:00,  4.66it/s]\n"
     ]
    },
    {
     "name": "stdout",
     "output_type": "stream",
     "text": [
      "Epoch: 187, loss: 0.11681064979265664, f1: 0.08709169202013275, precision: 0.04784781389109051, recall: 0.48433033282520205\n",
      "val_loss: 0.12313138992619624, val_f1: 0.0896436177879945, val_precision: 0.04936308726463296, val_recall: 0.4872070556386895\n"
     ]
    },
    {
     "name": "stderr",
     "output_type": "stream",
     "text": [
      "100%|█████████████████████████████████████████| 655/655 [02:20<00:00,  4.67it/s]\n"
     ]
    },
    {
     "name": "stdout",
     "output_type": "stream",
     "text": [
      "Epoch: 188, loss: 0.11681085495093396, f1: 0.08707380698554194, precision: 0.04784781389109051, recall: 0.48322638682736696\n",
      "val_loss: 0.12313115056775031, val_f1: 0.08962970145968888, val_precision: 0.04936308726463296, val_recall: 0.4863861785569322\n"
     ]
    },
    {
     "name": "stderr",
     "output_type": "stream",
     "text": [
      "100%|█████████████████████████████████████████| 655/655 [02:20<00:00,  4.66it/s]\n"
     ]
    },
    {
     "name": "stdout",
     "output_type": "stream",
     "text": [
      "Epoch: 189, loss: 0.11681072731281965, f1: 0.08708021854450297, precision: 0.04784781389109051, recall: 0.48362161048496044\n",
      "val_loss: 0.12313059336343489, val_f1: 0.08957670791197929, val_precision: 0.04936308726463296, val_recall: 0.48328312835015286\n"
     ]
    },
    {
     "name": "stderr",
     "output_type": "stream",
     "text": [
      "100%|█████████████████████████████████████████| 655/655 [02:20<00:00,  4.66it/s]\n"
     ]
    },
    {
     "name": "stdout",
     "output_type": "stream",
     "text": [
      "Epoch: 190, loss: 0.11681062129845146, f1: 0.08707248713274236, precision: 0.04784781389109051, recall: 0.4831451009248049\n",
      "val_loss: 0.12313103000847024, val_f1: 0.08961093723204232, val_precision: 0.04936308726463296, val_recall: 0.48528330861975294\n"
     ]
    },
    {
     "name": "stderr",
     "output_type": "stream",
     "text": [
      "100%|█████████████████████████████████████████| 655/655 [02:20<00:00,  4.67it/s]\n"
     ]
    },
    {
     "name": "stdout",
     "output_type": "stream",
     "text": [
      "Epoch: 191, loss: 0.11681059599491476, f1: 0.08706171576358357, precision: 0.04784781389109051, recall: 0.48248265258228507\n",
      "val_loss: 0.12313130072429093, val_f1: 0.08959092922606506, val_precision: 0.04936308726463296, val_recall: 0.4841123265684198\n"
     ]
    },
    {
     "name": "stderr",
     "output_type": "stream",
     "text": [
      "100%|█████████████████████████████████████████| 655/655 [02:20<00:00,  4.66it/s]\n"
     ]
    },
    {
     "name": "stdout",
     "output_type": "stream",
     "text": [
      "Epoch: 192, loss: 0.11681069207896713, f1: 0.08707376778099937, precision: 0.04784781389109051, recall: 0.4832239719747587\n",
      "val_loss: 0.12313142372722473, val_f1: 0.08964204405183236, val_precision: 0.04936308726463296, val_recall: 0.48711410014454376\n"
     ]
    },
    {
     "name": "stderr",
     "output_type": "stream",
     "text": [
      "100%|█████████████████████████████████████████| 655/655 [02:20<00:00,  4.66it/s]\n"
     ]
    },
    {
     "name": "stdout",
     "output_type": "stream",
     "text": [
      "Epoch: 193, loss: 0.11681064502656005, f1: 0.08712438607150855, precision: 0.04784781389109051, recall: 0.48636026737344173\n",
      "val_loss: 0.12313092250479471, val_f1: 0.08966400627829166, val_precision: 0.04936308726463296, val_recall: 0.48841425626102936\n"
     ]
    },
    {
     "name": "stderr",
     "output_type": "stream",
     "text": [
      "100%|█████████████████████████████████████████| 655/655 [02:20<00:00,  4.66it/s]\n"
     ]
    },
    {
     "name": "stdout",
     "output_type": "stream",
     "text": [
      "Epoch: 194, loss: 0.11681075004562166, f1: 0.08712187977590088, precision: 0.04784781389109051, recall: 0.48620410657111013\n",
      "val_loss: 0.12313125752459425, val_f1: 0.08969352212742454, val_precision: 0.04936308726463296, val_recall: 0.4901715424082695\n"
     ]
    },
    {
     "name": "stderr",
     "output_type": "stream",
     "text": [
      "100%|█████████████████████████████████████████| 655/655 [02:20<00:00,  4.66it/s]\n"
     ]
    },
    {
     "name": "stdout",
     "output_type": "stream",
     "text": [
      "Epoch: 195, loss: 0.116810705438825, f1: 0.08715951277730176, precision: 0.04784781389109051, recall: 0.4885585707107573\n",
      "val_loss: 0.12313099313151399, val_f1: 0.08965429445485193, val_precision: 0.04936308726463296, val_recall: 0.4878385433363258\n"
     ]
    },
    {
     "name": "stderr",
     "output_type": "stream",
     "text": [
      "100%|█████████████████████████████████████████| 655/655 [02:20<00:00,  4.66it/s]\n"
     ]
    },
    {
     "name": "stdout",
     "output_type": "stream",
     "text": [
      "Epoch: 196, loss: 0.1168107732618583, f1: 0.08717330553337262, precision: 0.04784781389109051, recall: 0.48942670526395315\n",
      "val_loss: 0.1231311486709282, val_f1: 0.08971411292315865, val_precision: 0.04936308726463296, val_recall: 0.491404273367803\n"
     ]
    },
    {
     "name": "stderr",
     "output_type": "stream",
     "text": [
      "100%|█████████████████████████████████████████| 655/655 [02:20<00:00,  4.66it/s]\n"
     ]
    },
    {
     "name": "stdout",
     "output_type": "stream",
     "text": [
      "Epoch: 197, loss: 0.11681067254820852, f1: 0.08713075198834015, precision: 0.04784781389109051, recall: 0.48675732207662276\n",
      "val_loss: 0.12313132059820202, val_f1: 0.0896912838820698, val_precision: 0.04936308726463296, val_recall: 0.49003788158981076\n"
     ]
    },
    {
     "name": "stderr",
     "output_type": "stream",
     "text": [
      "100%|█████████████████████████████████████████| 655/655 [02:20<00:00,  4.66it/s]\n"
     ]
    },
    {
     "name": "stdout",
     "output_type": "stream",
     "text": [
      "Epoch: 198, loss: 0.11681068845036376, f1: 0.08710378710006468, precision: 0.04784781389109051, recall: 0.48507950142139694\n",
      "val_loss: 0.12313094345528051, val_f1: 0.08962161453009036, val_precision: 0.04936308726463296, val_recall: 0.4859103107944541\n"
     ]
    },
    {
     "name": "stderr",
     "output_type": "stream",
     "text": [
      "100%|█████████████████████████████████████████| 655/655 [02:20<00:00,  4.66it/s]\n"
     ]
    },
    {
     "name": "stdout",
     "output_type": "stream",
     "text": [
      "Epoch: 199, loss: 0.11681074437521796, f1: 0.08715173456208797, precision: 0.04784781389109051, recall: 0.48807023545257916\n",
      "val_loss: 0.1231309477444909, val_f1: 0.08966713297775684, val_precision: 0.04936308726463296, val_recall: 0.48859986840584957\n"
     ]
    },
    {
     "name": "stderr",
     "output_type": "stream",
     "text": [
      "100%|█████████████████████████████████████████| 655/655 [02:20<00:00,  4.66it/s]\n"
     ]
    },
    {
     "name": "stdout",
     "output_type": "stream",
     "text": [
      "Epoch: 200, loss: 0.11681057549159946, f1: 0.08714392699382699, precision: 0.04784781389109051, recall: 0.4875809507060597\n",
      "val_loss: 0.12313119158012058, val_f1: 0.08970853845349624, val_precision: 0.04936308726463296, val_recall: 0.4910699849555252\n"
     ]
    },
    {
     "name": "stderr",
     "output_type": "stream",
     "text": [
      "100%|█████████████████████████████████████████| 655/655 [02:20<00:00,  4.66it/s]\n"
     ]
    },
    {
     "name": "stdout",
     "output_type": "stream",
     "text": [
      "Epoch: 201, loss: 0.11681054903350714, f1: 0.08716280203042012, precision: 0.04784781389109051, recall: 0.48876534586644355\n",
      "val_loss: 0.12313095145269272, val_f1: 0.08971089623919243, val_precision: 0.04936308726463296, val_recall: 0.49121132561373054\n"
     ]
    },
    {
     "name": "stderr",
     "output_type": "stream",
     "text": [
      "100%|█████████████████████████████████████████| 655/655 [02:20<00:00,  4.66it/s]\n"
     ]
    },
    {
     "name": "stdout",
     "output_type": "stream",
     "text": [
      "Epoch: 202, loss: 0.11681072499233348, f1: 0.08715941482231572, precision: 0.04784781389109051, recall: 0.4885524153254414\n",
      "val_loss: 0.12313112857486677, val_f1: 0.08968502897889254, val_precision: 0.04936308726463296, val_recall: 0.48966470975941473\n"
     ]
    },
    {
     "name": "stderr",
     "output_type": "stream",
     "text": [
      "100%|█████████████████████████████████████████| 655/655 [02:20<00:00,  4.66it/s]\n"
     ]
    },
    {
     "name": "stdout",
     "output_type": "stream",
     "text": [
      "Epoch: 203, loss: 0.11681063619961266, f1: 0.08716929637392497, precision: 0.04784781389109051, recall: 0.4891740738435556\n",
      "val_loss: 0.1231309587836539, val_f1: 0.08965949598423104, val_precision: 0.04936308726463296, val_recall: 0.4881467344837451\n"
     ]
    },
    {
     "name": "stderr",
     "output_type": "stream",
     "text": [
      "100%|█████████████████████████████████████████| 655/655 [02:20<00:00,  4.66it/s]\n"
     ]
    },
    {
     "name": "stdout",
     "output_type": "stream",
     "text": [
      "Epoch: 204, loss: 0.11681056983825815, f1: 0.08716368193715818, precision: 0.04784781389109051, recall: 0.48882068723212674\n",
      "val_loss: 0.12313141385007889, val_f1: 0.08972335296221784, val_precision: 0.04936308726463296, val_recall: 0.49195928953656365\n"
     ]
    },
    {
     "name": "stderr",
     "output_type": "stream",
     "text": [
      "100%|█████████████████████████████████████████| 655/655 [02:20<00:00,  4.67it/s]\n"
     ]
    },
    {
     "name": "stdout",
     "output_type": "stream",
     "text": [
      "Epoch: 205, loss: 0.11681043985122033, f1: 0.08717623699689257, precision: 0.04784781389109051, recall: 0.4896115777146725\n",
      "val_loss: 0.12313075088511366, val_f1: 0.0896947992357944, val_precision: 0.04936308726463296, val_recall: 0.49024783690041357\n"
     ]
    },
    {
     "name": "stderr",
     "output_type": "stream",
     "text": [
      "100%|█████████████████████████████████████████| 655/655 [02:20<00:00,  4.66it/s]\n"
     ]
    },
    {
     "name": "stdout",
     "output_type": "stream",
     "text": [
      "Epoch: 206, loss: 0.11681039206513012, f1: 0.08718772096814383, precision: 0.04784781389109051, recall: 0.4903370403151476\n",
      "val_loss: 0.12313123206274772, val_f1: 0.0896640841260752, val_precision: 0.04936308726463296, val_recall: 0.48841887603112316\n"
     ]
    },
    {
     "name": "stderr",
     "output_type": "stream",
     "text": [
      "100%|█████████████████████████████████████████| 655/655 [02:20<00:00,  4.65it/s]\n"
     ]
    },
    {
     "name": "stdout",
     "output_type": "stream",
     "text": [
      "Epoch: 207, loss: 0.1168106354545546, f1: 0.08718110948137692, precision: 0.04784781389109051, recall: 0.4899191420951872\n",
      "val_loss: 0.12313096124439611, val_f1: 0.08965161634391652, val_precision: 0.04936308726463296, val_recall: 0.48768000277357365\n"
     ]
    },
    {
     "name": "stderr",
     "output_type": "stream",
     "text": [
      "100%|█████████████████████████████████████████| 655/655 [02:20<00:00,  4.66it/s]\n"
     ]
    },
    {
     "name": "stdout",
     "output_type": "stream",
     "text": [
      "Epoch: 208, loss: 0.11681052911031337, f1: 0.08717595587875927, precision: 0.04784781389109051, recall: 0.48959384351286267\n",
      "val_loss: 0.12313109031374302, val_f1: 0.08968768356652315, val_precision: 0.04936308726463296, val_recall: 0.4898230211997251\n"
     ]
    },
    {
     "name": "stderr",
     "output_type": "stream",
     "text": [
      "100%|█████████████████████████████████████████| 655/655 [02:20<00:00,  4.66it/s]\n"
     ]
    },
    {
     "name": "stdout",
     "output_type": "stream",
     "text": [
      "Epoch: 209, loss: 0.11681049685100563, f1: 0.08715674600199937, precision: 0.04784781389109051, recall: 0.4883847638850904\n",
      "val_loss: 0.12313158982732428, val_f1: 0.08965396651420945, val_precision: 0.04936308726463296, val_recall: 0.487819124662548\n"
     ]
    },
    {
     "name": "stderr",
     "output_type": "stream",
     "text": [
      "100%|█████████████████████████████████████████| 655/655 [02:20<00:00,  4.66it/s]\n"
     ]
    },
    {
     "name": "stdout",
     "output_type": "stream",
     "text": [
      "Epoch: 210, loss: 0.11681059322511876, f1: 0.08716315007545308, precision: 0.04784781389109051, recall: 0.4887872346484934\n",
      "val_loss: 0.12313112168820627, val_f1: 0.08971544736079529, val_precision: 0.04936308726463296, val_recall: 0.4914843579497906\n"
     ]
    },
    {
     "name": "stderr",
     "output_type": "stream",
     "text": [
      "100%|█████████████████████████████████████████| 655/655 [02:20<00:00,  4.66it/s]\n"
     ]
    },
    {
     "name": "stdout",
     "output_type": "stream",
     "text": [
      "Epoch: 211, loss: 0.11681040862134395, f1: 0.08720304787436808, precision: 0.04784781389109051, recall: 0.49130832452810447\n",
      "val_loss: 0.12313109974658817, val_f1: 0.08975386727788985, val_precision: 0.04936308726463296, val_recall: 0.4938002966959542\n"
     ]
    },
    {
     "name": "stderr",
     "output_type": "stream",
     "text": [
      "100%|█████████████████████████████████████████| 655/655 [02:20<00:00,  4.66it/s]\n"
     ]
    },
    {
     "name": "stdout",
     "output_type": "stream",
     "text": [
      "Epoch: 212, loss: 0.11681046657662356, f1: 0.08721541262237328, precision: 0.04784781389109051, recall: 0.49209445196253654\n",
      "val_loss: 0.12313113903302118, val_f1: 0.08968140596628352, val_precision: 0.04936308726463296, val_recall: 0.4894487943944581\n"
     ]
    },
    {
     "name": "stderr",
     "output_type": "stream",
     "text": [
      "100%|█████████████████████████████████████████| 655/655 [02:20<00:00,  4.66it/s]\n"
     ]
    },
    {
     "name": "stdout",
     "output_type": "stream",
     "text": [
      "Epoch: 213, loss: 0.11681054727039264, f1: 0.08715667954972728, precision: 0.04784781389109051, recall: 0.4883805907864607\n",
      "val_loss: 0.12313090557010349, val_f1: 0.08971104824263622, val_precision: 0.04936308726463296, val_recall: 0.49122044020289674\n"
     ]
    },
    {
     "name": "stderr",
     "output_type": "stream",
     "text": [
      "100%|█████████████████████████████████████████| 655/655 [02:20<00:00,  4.66it/s]\n"
     ]
    },
    {
     "name": "stdout",
     "output_type": "stream",
     "text": [
      "Epoch: 214, loss: 0.11681077053756204, f1: 0.08719208184898922, precision: 0.04784781389109051, recall: 0.490613038121289\n",
      "val_loss: 0.12313091912127416, val_f1: 0.08972917655929086, val_precision: 0.04936308726463296, val_recall: 0.492309677901618\n"
     ]
    },
    {
     "name": "stderr",
     "output_type": "stream",
     "text": [
      "100%|█████████████████████████████████████████| 655/655 [02:20<00:00,  4.66it/s]\n"
     ]
    },
    {
     "name": "stdout",
     "output_type": "stream",
     "text": [
      "Epoch: 215, loss: 0.11681067887267084, f1: 0.08719194917812968, precision: 0.04784781389109051, recall: 0.4906046372788553\n",
      "val_loss: 0.12313119026430704, val_f1: 0.08972313737547656, val_precision: 0.04936308726463296, val_recall: 0.4919463270301119\n"
     ]
    },
    {
     "name": "stderr",
     "output_type": "stream",
     "text": [
      "100%|█████████████████████████████████████████| 655/655 [02:20<00:00,  4.66it/s]\n"
     ]
    },
    {
     "name": "stdout",
     "output_type": "stream",
     "text": [
      "Epoch: 216, loss: 0.11681040922421536, f1: 0.08716650559277891, precision: 0.04784781389109051, recall: 0.48899835698477184\n",
      "val_loss: 0.12313110008835793, val_f1: 0.08969382327876, val_precision: 0.04936308726463296, val_recall: 0.4901895312541122\n"
     ]
    },
    {
     "name": "stderr",
     "output_type": "stream",
     "text": [
      "100%|█████████████████████████████████████████| 655/655 [02:20<00:00,  4.66it/s]\n"
     ]
    },
    {
     "name": "stdout",
     "output_type": "stream",
     "text": [
      "Epoch: 217, loss: 0.11681044738711292, f1: 0.08713245720346492, precision: 0.04784781389109051, recall: 0.48686377993066804\n",
      "val_loss: 0.1231311726460763, val_f1: 0.0896520603737449, val_precision: 0.04936308726463296, val_recall: 0.4877062822700641\n"
     ]
    },
    {
     "name": "stderr",
     "output_type": "stream",
     "text": [
      "100%|█████████████████████████████████████████| 655/655 [02:20<00:00,  4.66it/s]\n"
     ]
    },
    {
     "name": "stdout",
     "output_type": "stream",
     "text": [
      "Epoch: 218, loss: 0.11681053675995529, f1: 0.08710583515485852, precision: 0.04784781389109051, recall: 0.4852065666941286\n",
      "val_loss: 0.12313074225542742, val_f1: 0.0896136314980345, val_precision: 0.04936308726463296, val_recall: 0.4854413851958896\n"
     ]
    },
    {
     "name": "stderr",
     "output_type": "stream",
     "text": [
      "100%|█████████████████████████████████████████| 655/655 [02:20<00:00,  4.66it/s]\n"
     ]
    },
    {
     "name": "stdout",
     "output_type": "stream",
     "text": [
      "Epoch: 219, loss: 0.11681052433284185, f1: 0.08712733585399852, precision: 0.04784781389109051, recall: 0.48654417773239483\n",
      "val_loss: 0.12313106531328565, val_f1: 0.08964164087931915, val_precision: 0.04936308726463296, val_recall: 0.4870902912332377\n"
     ]
    },
    {
     "name": "stderr",
     "output_type": "stream",
     "text": [
      "100%|█████████████████████████████████████████| 655/655 [02:20<00:00,  4.66it/s]\n"
     ]
    },
    {
     "name": "stdout",
     "output_type": "stream",
     "text": [
      "Epoch: 220, loss: 0.11681046563819164, f1: 0.08705850129530152, precision: 0.04784781389109051, recall: 0.48228528017306144\n",
      "val_loss: 0.12313082344283205, val_f1: 0.08959508121987364, val_precision: 0.04936308726463296, val_recall: 0.48435490284491023\n"
     ]
    },
    {
     "name": "stderr",
     "output_type": "stream",
     "text": [
      "100%|█████████████████████████████████████████| 655/655 [02:20<00:00,  4.66it/s]\n"
     ]
    },
    {
     "name": "stdout",
     "output_type": "stream",
     "text": [
      "Epoch: 221, loss: 0.11681047204227848, f1: 0.08708733432414836, precision: 0.04784781389109051, recall: 0.4840609332532373\n",
      "val_loss: 0.12313133021902053, val_f1: 0.08957119422405894, val_precision: 0.04936308726463296, val_recall: 0.48296233628867963\n"
     ]
    },
    {
     "name": "stderr",
     "output_type": "stream",
     "text": [
      "100%|█████████████████████████████████████████| 655/655 [02:20<00:00,  4.67it/s]\n"
     ]
    },
    {
     "name": "stdout",
     "output_type": "stream",
     "text": [
      "Epoch: 222, loss: 0.11681035212205566, f1: 0.08706148670226485, precision: 0.04784781389109051, recall: 0.4824685830651349\n",
      "val_loss: 0.12313073490737775, val_f1: 0.08962550708227308, val_precision: 0.04936308726463296, val_recall: 0.48613925879701564\n"
     ]
    },
    {
     "name": "stderr",
     "output_type": "stream",
     "text": [
      "100%|█████████████████████████████████████████| 655/655 [02:20<00:00,  4.66it/s]\n"
     ]
    },
    {
     "name": "stdout",
     "output_type": "stream",
     "text": [
      "Epoch: 223, loss: 0.1168105156480811, f1: 0.0870446613014483, precision: 0.04784781389109051, recall: 0.4814371623610722\n",
      "val_loss: 0.12313048915783746, val_f1: 0.08954592835041611, val_precision: 0.04936308726463296, val_recall: 0.4814972702516328\n"
     ]
    },
    {
     "name": "stderr",
     "output_type": "stream",
     "text": [
      "100%|█████████████████████████████████████████| 655/655 [02:20<00:00,  4.67it/s]\n"
     ]
    },
    {
     "name": "stdout",
     "output_type": "stream",
     "text": [
      "Epoch: 224, loss: 0.1168105183666899, f1: 0.08700312721715107, precision: 0.04784781389109051, recall: 0.4789081585771255\n",
      "val_loss: 0.12313059582417711, val_f1: 0.0895506241001756, val_precision: 0.04936308726463296, val_recall: 0.48176894740227166\n"
     ]
    },
    {
     "name": "stderr",
     "output_type": "stream",
     "text": [
      "100%|█████████████████████████████████████████| 655/655 [02:20<00:00,  4.66it/s]\n"
     ]
    },
    {
     "name": "stdout",
     "output_type": "stream",
     "text": [
      "Epoch: 225, loss: 0.1168104068013548, f1: 0.08701792896794498, precision: 0.04784781389109051, recall: 0.4798066583753542\n",
      "val_loss: 0.12313121041163393, val_f1: 0.08956273062982144, val_precision: 0.04936308726463296, val_recall: 0.4824706667333568\n"
     ]
    },
    {
     "name": "stderr",
     "output_type": "stream",
     "text": [
      "100%|█████████████████████████████████████████| 655/655 [02:20<00:00,  4.66it/s]\n"
     ]
    },
    {
     "name": "stdout",
     "output_type": "stream",
     "text": [
      "Epoch: 226, loss: 0.11681036337186362, f1: 0.08702292625641649, precision: 0.04784781389109051, recall: 0.4801106976188776\n",
      "val_loss: 0.12313132837346387, val_f1: 0.08953415853341226, val_precision: 0.04936308726463296, val_recall: 0.48081753587504045\n"
     ]
    },
    {
     "name": "stderr",
     "output_type": "stream",
     "text": [
      "100%|█████████████████████████████████████████| 655/655 [02:20<00:00,  4.66it/s]\n"
     ]
    },
    {
     "name": "stdout",
     "output_type": "stream",
     "text": [
      "Epoch: 227, loss: 0.11681018077007686, f1: 0.08704841705246093, precision: 0.04784781389109051, recall: 0.48166704719303216\n",
      "val_loss: 0.12313073706052718, val_f1: 0.08956090396629048, val_precision: 0.04936308726463296, val_recall: 0.4823646708092558\n"
     ]
    },
    {
     "name": "stderr",
     "output_type": "stream",
     "text": [
      "100%|█████████████████████████████████████████| 655/655 [02:20<00:00,  4.67it/s]\n"
     ]
    },
    {
     "name": "stdout",
     "output_type": "stream",
     "text": [
      "Epoch: 228, loss: 0.11681042410831415, f1: 0.0870414688613082, precision: 0.04784781389109051, recall: 0.48124191397019017\n",
      "val_loss: 0.12313083557565825, val_f1: 0.08961449631974931, val_precision: 0.04936308726463296, val_recall: 0.4854921453863109\n"
     ]
    },
    {
     "name": "stderr",
     "output_type": "stream",
     "text": [
      "100%|█████████████████████████████████████████| 655/655 [02:20<00:00,  4.66it/s]\n"
     ]
    },
    {
     "name": "stdout",
     "output_type": "stream",
     "text": [
      "Epoch: 229, loss: 0.11681024676743354, f1: 0.0870457448417218, precision: 0.04784781389109051, recall: 0.48150346401993555\n",
      "val_loss: 0.12313079071837828, val_f1: 0.0895637738543298, val_precision: 0.04936308726463296, val_recall: 0.48253122095121154\n"
     ]
    },
    {
     "name": "stderr",
     "output_type": "stream",
     "text": [
      "100%|█████████████████████████████████████████| 655/655 [02:20<00:00,  4.66it/s]\n"
     ]
    },
    {
     "name": "stdout",
     "output_type": "stream",
     "text": [
      "Epoch: 230, loss: 0.1168102032640053, f1: 0.08699213376882227, precision: 0.04784781389109051, recall: 0.47824280917189504\n",
      "val_loss: 0.12313106169052628, val_f1: 0.08949057140775502, val_precision: 0.04936308726463296, val_recall: 0.47831536583397366\n"
     ]
    },
    {
     "name": "stderr",
     "output_type": "stream",
     "text": [
      "100%|█████████████████████████████████████████| 655/655 [02:20<00:00,  4.66it/s]\n"
     ]
    },
    {
     "name": "stdout",
     "output_type": "stream",
     "text": [
      "Epoch: 231, loss: 0.11681014252755478, f1: 0.08699342390392428, precision: 0.04784781389109051, recall: 0.47832080412457006\n",
      "val_loss: 0.12313099473783183, val_f1: 0.08949077296499182, val_precision: 0.04936308726463296, val_recall: 0.4783268821075422\n"
     ]
    },
    {
     "name": "stderr",
     "output_type": "stream",
     "text": [
      "100%|█████████████████████████████████████████| 655/655 [02:20<00:00,  4.66it/s]\n"
     ]
    },
    {
     "name": "stdout",
     "output_type": "stream",
     "text": [
      "Epoch: 232, loss: 0.11681039993658321, f1: 0.08697416594278795, precision: 0.04784781389109051, recall: 0.47715896509075895\n",
      "val_loss: 0.12313084603381266, val_f1: 0.08953833733589701, val_precision: 0.04936308726463296, val_recall: 0.48105867207050323\n"
     ]
    },
    {
     "name": "stderr",
     "output_type": "stream",
     "text": [
      "100%|█████████████████████████████████████████| 655/655 [02:20<00:00,  4.66it/s]\n"
     ]
    },
    {
     "name": "stdout",
     "output_type": "stream",
     "text": [
      "Epoch: 233, loss: 0.11681046335183028, f1: 0.0870151169084111, precision: 0.04784781389109051, recall: 0.47963572422056705\n",
      "val_loss: 0.12313059772099924, val_f1: 0.0895361251711176, val_precision: 0.04936308726463296, val_recall: 0.4809309926328309\n"
     ]
    },
    {
     "name": "stderr",
     "output_type": "stream",
     "text": [
      "100%|█████████████████████████████████████████| 655/655 [02:20<00:00,  4.66it/s]\n"
     ]
    },
    {
     "name": "stdout",
     "output_type": "stream",
     "text": [
      "Epoch: 234, loss: 0.11681004734780952, f1: 0.08698644091033575, precision: 0.04784781389109051, recall: 0.4778989240868401\n",
      "val_loss: 0.12313067598627248, val_f1: 0.08945730463477355, val_precision: 0.04936308726463296, val_recall: 0.4764214823825644\n"
     ]
    },
    {
     "name": "stderr",
     "output_type": "stream",
     "text": [
      "100%|█████████████████████████████████████████| 655/655 [02:20<00:00,  4.66it/s]\n"
     ]
    },
    {
     "name": "stdout",
     "output_type": "stream",
     "text": [
      "Epoch: 235, loss: 0.11681026144678357, f1: 0.08697796886823891, precision: 0.04784781389109051, recall: 0.47738799006884336\n",
      "val_loss: 0.12313104790011677, val_f1: 0.08953864601128934, val_precision: 0.04936308726463296, val_recall: 0.48107649276562786\n"
     ]
    },
    {
     "name": "stderr",
     "output_type": "stream",
     "text": [
      "100%|█████████████████████████████████████████| 655/655 [02:20<00:00,  4.66it/s]\n"
     ]
    },
    {
     "name": "stdout",
     "output_type": "stream",
     "text": [
      "Epoch: 236, loss: 0.11681037070300743, f1: 0.08697586541268917, precision: 0.04784781389109051, recall: 0.4772612882024459\n",
      "val_loss: 0.1231304099526974, val_f1: 0.0895007548404339, val_precision: 0.04936308726463296, val_recall: 0.4788978410149933\n"
     ]
    },
    {
     "name": "stderr",
     "output_type": "stream",
     "text": [
      "100%|█████████████████████████████████████████| 655/655 [02:20<00:00,  4.66it/s]\n"
     ]
    },
    {
     "name": "stdout",
     "output_type": "stream",
     "text": [
      "Epoch: 237, loss: 0.11681002207839762, f1: 0.08700143027762368, precision: 0.04784781389109051, recall: 0.4788053459793557\n",
      "val_loss: 0.12313103316984045, val_f1: 0.08949318626679978, val_precision: 0.04936308726463296, val_recall: 0.47846480875933933\n"
     ]
    },
    {
     "name": "stderr",
     "output_type": "stream",
     "text": [
      "100%|█████████████████████████████████████████| 655/655 [02:20<00:00,  4.66it/s]\n"
     ]
    },
    {
     "name": "stdout",
     "output_type": "stream",
     "text": [
      "Epoch: 238, loss: 0.11681020014727389, f1: 0.08698341228555125, precision: 0.04784781389109051, recall: 0.47771615891056207\n",
      "val_loss: 0.12313021446039918, val_f1: 0.08950557095562611, val_precision: 0.04936308726463296, val_recall: 0.47917376280924595\n"
     ]
    },
    {
     "name": "stderr",
     "output_type": "stream",
     "text": [
      "100%|█████████████████████████████████████████| 655/655 [02:20<00:00,  4.66it/s]\n"
     ]
    },
    {
     "name": "stdout",
     "output_type": "stream",
     "text": [
      "Epoch: 239, loss: 0.11681004639800269, f1: 0.08703882559349653, precision: 0.04784781389109051, recall: 0.48108036172298985\n",
      "val_loss: 0.12313086283179599, val_f1: 0.08957667548911266, val_precision: 0.04936308726463296, val_recall: 0.4832812408241657\n"
     ]
    },
    {
     "name": "stderr",
     "output_type": "stream",
     "text": [
      "100%|█████████████████████████████████████████| 655/655 [02:20<00:00,  4.66it/s]\n"
     ]
    },
    {
     "name": "stdout",
     "output_type": "stream",
     "text": [
      "Epoch: 240, loss: 0.11681034140118206, f1: 0.08703229157990232, precision: 0.04784781389109051, recall: 0.4806814364349569\n",
      "val_loss: 0.12313063013786023, val_f1: 0.08952714824356739, val_precision: 0.04936308726463296, val_recall: 0.48041350182590137\n"
     ]
    },
    {
     "name": "stderr",
     "output_type": "stream",
     "text": [
      "100%|█████████████████████████████████████████| 655/655 [02:20<00:00,  4.66it/s]\n"
     ]
    },
    {
     "name": "stdout",
     "output_type": "stream",
     "text": [
      "Epoch: 241, loss: 0.11681020018708616, f1: 0.0870216990851814, precision: 0.04784781389109051, recall: 0.4800360030345334\n",
      "val_loss: 0.12313037958645492, val_f1: 0.08952423118387849, val_precision: 0.04936308726463296, val_recall: 0.48024556013422276\n"
     ]
    },
    {
     "name": "stderr",
     "output_type": "stream",
     "text": [
      "100%|█████████████████████████████████████████| 655/655 [02:20<00:00,  4.66it/s]\n"
     ]
    },
    {
     "name": "stdout",
     "output_type": "stream",
     "text": [
      "Epoch: 242, loss: 0.11681010245935608, f1: 0.0869781813831806, precision: 0.04784781389109051, recall: 0.47740079432953403\n",
      "val_loss: 0.12313044438599993, val_f1: 0.08952851252786151, val_precision: 0.04936308726463296, val_recall: 0.480492083304519\n"
     ]
    },
    {
     "name": "stderr",
     "output_type": "stream",
     "text": [
      "100%|█████████████████████████████████████████| 655/655 [02:20<00:00,  4.66it/s]\n"
     ]
    },
    {
     "name": "stdout",
     "output_type": "stream",
     "text": [
      "Epoch: 243, loss: 0.11681025454788718, f1: 0.08700830161023948, precision: 0.04784781389109051, recall: 0.4792219078722801\n",
      "val_loss: 0.12313011257883606, val_f1: 0.08955443059275085, val_precision: 0.04936308726463296, val_recall: 0.48198937986968854\n"
     ]
    },
    {
     "name": "stderr",
     "output_type": "stream",
     "text": [
      "100%|█████████████████████████████████████████| 655/655 [02:20<00:00,  4.66it/s]\n"
     ]
    },
    {
     "name": "stdout",
     "output_type": "stream",
     "text": [
      "Epoch: 244, loss: 0.11681029389377769, f1: 0.08702083539315712, precision: 0.04784781389109051, recall: 0.4799834451147618\n",
      "val_loss: 0.12313047100986363, val_f1: 0.0895500455861589, val_precision: 0.04936308726463296, val_recall: 0.48173546189561894\n"
     ]
    },
    {
     "name": "stderr",
     "output_type": "stream",
     "text": [
      "100%|█████████████████████████████████████████| 655/655 [02:20<00:00,  4.67it/s]\n"
     ]
    },
    {
     "name": "stdout",
     "output_type": "stream",
     "text": [
      "Epoch: 245, loss: 0.11680988353741079, f1: 0.08701259966913749, precision: 0.04784781389109051, recall: 0.47948280495541695\n",
      "val_loss: 0.12313028917126699, val_f1: 0.0895250421270276, val_precision: 0.04936308726463296, val_recall: 0.480292237269769\n"
     ]
    },
    {
     "name": "stderr",
     "output_type": "stream",
     "text": [
      "100%|█████████████████████████████████████████| 655/655 [02:20<00:00,  4.66it/s]\n"
     ]
    },
    {
     "name": "stdout",
     "output_type": "stream",
     "text": [
      "Epoch: 246, loss: 0.1168099686389661, f1: 0.08702498769234968, precision: 0.04784781389109051, recall: 0.480236219222309\n",
      "val_loss: 0.12313059165458613, val_f1: 0.08956172982055571, val_precision: 0.04936308726463296, val_recall: 0.4824125874753392\n"
     ]
    },
    {
     "name": "stderr",
     "output_type": "stream",
     "text": [
      "100%|█████████████████████████████████████████| 655/655 [02:20<00:00,  4.66it/s]\n"
     ]
    },
    {
     "name": "stdout",
     "output_type": "stream",
     "text": [
      "Epoch: 247, loss: 0.116810234863567, f1: 0.08700426451162269, precision: 0.04784781389109051, recall: 0.4789770863893378\n",
      "val_loss: 0.12313054257644973, val_f1: 0.08952350936683807, val_precision: 0.04936308726463296, val_recall: 0.48020401993475925\n"
     ]
    },
    {
     "name": "stderr",
     "output_type": "stream",
     "text": [
      "100%|█████████████████████████████████████████| 655/655 [02:20<00:00,  4.66it/s]\n"
     ]
    },
    {
     "name": "stdout",
     "output_type": "stream",
     "text": [
      "Epoch: 248, loss: 0.11680997726685219, f1: 0.08701385440239584, precision: 0.04784781389109051, recall: 0.4795590174107151\n",
      "val_loss: 0.12313038647311543, val_f1: 0.0895814512459083, val_precision: 0.04936308726463296, val_recall: 0.4835594099596006\n"
     ]
    },
    {
     "name": "stderr",
     "output_type": "stream",
     "text": [
      "100%|█████████████████████████████████████████| 655/655 [02:20<00:00,  4.66it/s]\n"
     ]
    },
    {
     "name": "stdout",
     "output_type": "stream",
     "text": [
      "Epoch: 249, loss: 0.11680999560893036, f1: 0.08701533992290446, precision: 0.04784781389109051, recall: 0.47964927636030064\n",
      "val_loss: 0.12313110697501843, val_f1: 0.08955137328340194, val_precision: 0.04936308726463296, val_recall: 0.4818123178471119\n"
     ]
    },
    {
     "name": "stderr",
     "output_type": "stream",
     "text": [
      "100%|█████████████████████████████████████████| 655/655 [02:20<00:00,  4.66it/s]\n"
     ]
    },
    {
     "name": "stdout",
     "output_type": "stream",
     "text": [
      "Epoch: 250, loss: 0.11680981200046212, f1: 0.08702292883874407, precision: 0.04784781389109051, recall: 0.48011085482044075\n",
      "val_loss: 0.1231307369067308, val_f1: 0.08958341205166738, val_precision: 0.04936308726463296, val_recall: 0.4836737033697443\n"
     ]
    },
    {
     "name": "stderr",
     "output_type": "stream",
     "text": [
      "100%|█████████████████████████████████████████| 655/655 [02:20<00:00,  4.66it/s]\n"
     ]
    },
    {
     "name": "stdout",
     "output_type": "stream",
     "text": [
      "Epoch: 251, loss: 0.11681006144135053, f1: 0.08702720152626191, precision: 0.04784781389109051, recall: 0.48037108687954094\n",
      "val_loss: 0.12313077715011912, val_f1: 0.08957367655600725, val_precision: 0.04936308726463296, val_recall: 0.48310671309265524\n"
     ]
    },
    {
     "name": "stderr",
     "output_type": "stream",
     "text": [
      "100%|█████████████████████████████████████████| 655/655 [02:20<00:00,  4.67it/s]\n"
     ]
    },
    {
     "name": "stdout",
     "output_type": "stream",
     "text": [
      "Epoch: 252, loss: 0.11681006040054423, f1: 0.08704488743184627, precision: 0.04784781389109051, recall: 0.481450997873117\n",
      "val_loss: 0.12313034539239122, val_f1: 0.08955846133024692, val_precision: 0.04936308726463296, val_recall: 0.48222299781414346\n"
     ]
    },
    {
     "name": "stderr",
     "output_type": "stream",
     "text": [
      "100%|█████████████████████████████████████████| 655/655 [02:20<00:00,  4.67it/s]\n"
     ]
    },
    {
     "name": "stdout",
     "output_type": "stream",
     "text": [
      "Epoch: 253, loss: 0.11681006568988771, f1: 0.08702281138575443, precision: 0.04784781389109051, recall: 0.48010370485655224\n",
      "val_loss: 0.12313106941452268, val_f1: 0.08950178662863079, val_precision: 0.04936308726463296, val_recall: 0.4789569293140271\n"
     ]
    },
    {
     "name": "stderr",
     "output_type": "stream",
     "text": [
      "100%|█████████████████████████████████████████| 655/655 [02:20<00:00,  4.67it/s]\n"
     ]
    },
    {
     "name": "stdout",
     "output_type": "stream",
     "text": [
      "Epoch: 254, loss: 0.11681008457227518, f1: 0.08703844331532373, precision: 0.04784781389109051, recall: 0.4810570056656845\n",
      "val_loss: 0.12313000809982283, val_f1: 0.0895469403331751, val_precision: 0.04936308726463296, val_recall: 0.48155579599765463\n"
     ]
    },
    {
     "name": "stderr",
     "output_type": "stream",
     "text": [
      "100%|█████████████████████████████████████████| 655/655 [02:20<00:00,  4.66it/s]\n"
     ]
    },
    {
     "name": "stdout",
     "output_type": "stream",
     "text": [
      "Epoch: 255, loss: 0.11680997723272739, f1: 0.08704258351565158, precision: 0.04784781389109051, recall: 0.48131006942450544\n",
      "val_loss: 0.12313077708176516, val_f1: 0.08950207403338784, val_precision: 0.04936308726463296, val_recall: 0.4789733907224935\n"
     ]
    },
    {
     "name": "stderr",
     "output_type": "stream",
     "text": [
      "100%|█████████████████████████████████████████| 655/655 [02:20<00:00,  4.66it/s]\n"
     ]
    },
    {
     "name": "stdout",
     "output_type": "stream",
     "text": [
      "Epoch: 256, loss: 0.11680984957755067, f1: 0.08698826595085128, precision: 0.04784781389109051, recall: 0.47800911924311223\n",
      "val_loss: 0.12313056513325336, val_f1: 0.08948215816143826, val_precision: 0.04936308726463296, val_recall: 0.4778351104314174\n"
     ]
    },
    {
     "name": "stderr",
     "output_type": "stream",
     "text": [
      "100%|█████████████████████████████████████████| 655/655 [02:20<00:00,  4.66it/s]\n"
     ]
    },
    {
     "name": "stdout",
     "output_type": "stream",
     "text": [
      "Epoch: 257, loss: 0.11680983539869767, f1: 0.08700924005201975, precision: 0.04784781389109051, recall: 0.4792788503279213\n",
      "val_loss: 0.12313015295893227, val_f1: 0.08953743861712828, val_precision: 0.04936308726463296, val_recall: 0.4810067933360371\n"
     ]
    },
    {
     "name": "stderr",
     "output_type": "stream",
     "text": [
      "100%|█████████████████████████████████████████| 655/655 [02:20<00:00,  4.66it/s]\n"
     ]
    },
    {
     "name": "stdout",
     "output_type": "stream",
     "text": [
      "Epoch: 258, loss: 0.11680944605183055, f1: 0.08701958961846876, precision: 0.04784781389109051, recall: 0.47990765489694726\n",
      "val_loss: 0.12313063270113336, val_f1: 0.08947635731460668, val_precision: 0.04936308726463296, val_recall: 0.47750448811491697\n"
     ]
    },
    {
     "name": "stderr",
     "output_type": "stream",
     "text": [
      "100%|█████████████████████████████████████████| 655/655 [02:20<00:00,  4.66it/s]\n"
     ]
    },
    {
     "name": "stdout",
     "output_type": "stream",
     "text": [
      "Epoch: 259, loss: 0.11680992688727743, f1: 0.08703767635377668, precision: 0.04784781389109051, recall: 0.48101015282041243\n",
      "val_loss: 0.12313034822908017, val_f1: 0.08950920540841366, val_precision: 0.04936308726463296, val_recall: 0.47938217646485076\n"
     ]
    },
    {
     "name": "stderr",
     "output_type": "stream",
     "text": [
      "100%|█████████████████████████████████████████| 655/655 [02:20<00:00,  4.66it/s]\n"
     ]
    },
    {
     "name": "stdout",
     "output_type": "stream",
     "text": [
      "Epoch: 260, loss: 0.1168094806600618, f1: 0.0870489010384737, precision: 0.04784781389109051, recall: 0.481696685898395\n",
      "val_loss: 0.12312954794102852, val_f1: 0.08951133280296097, val_precision: 0.04936308726463296, val_recall: 0.47950424582039547\n"
     ]
    },
    {
     "name": "stderr",
     "output_type": "stream",
     "text": [
      "100%|█████████████████████████████████████████| 655/655 [02:20<00:00,  4.66it/s]\n"
     ]
    },
    {
     "name": "stdout",
     "output_type": "stream",
     "text": [
      "Epoch: 261, loss: 0.11680967343103794, f1: 0.08701148294373592, precision: 0.04784781389109051, recall: 0.47941499361555084\n",
      "val_loss: 0.1231303583967303, val_f1: 0.08949791065247728, val_precision: 0.04936308726463296, val_recall: 0.4787350288771708\n"
     ]
    },
    {
     "name": "stderr",
     "output_type": "stream",
     "text": [
      "100%|█████████████████████████████████████████| 655/655 [02:20<00:00,  4.66it/s]\n"
     ]
    },
    {
     "name": "stdout",
     "output_type": "stream",
     "text": [
      "Epoch: 262, loss: 0.11680939314702085, f1: 0.08702868801184636, precision: 0.04784781389109051, recall: 0.48046168284561797\n",
      "val_loss: 0.12312962237848055, val_f1: 0.08953418049303735, val_precision: 0.04936308726463296, val_recall: 0.4808188024737419\n"
     ]
    },
    {
     "name": "stderr",
     "output_type": "stream",
     "text": [
      "100%|█████████████████████████████████████████| 655/655 [02:20<00:00,  4.66it/s]\n"
     ]
    },
    {
     "name": "stdout",
     "output_type": "stream",
     "text": [
      "Epoch: 263, loss: 0.11680949236486704, f1: 0.08706418401092707, precision: 0.04784781389109051, recall: 0.48263430586298006\n",
      "val_loss: 0.12313020847942852, val_f1: 0.0895547217273457, val_precision: 0.04936308726463296, val_recall: 0.48200624689049676\n"
     ]
    },
    {
     "name": "stderr",
     "output_type": "stream",
     "text": [
      "100%|█████████████████████████████████████████| 655/655 [02:20<00:00,  4.66it/s]\n"
     ]
    },
    {
     "name": "stdout",
     "output_type": "stream",
     "text": [
      "Epoch: 264, loss: 0.11680911376731086, f1: 0.0870677525914968, precision: 0.04784781389109051, recall: 0.48285371888684864\n",
      "val_loss: 0.12313054148278652, val_f1: 0.08958814640550686, val_precision: 0.04936308726463296, val_recall: 0.4839498663167341\n"
     ]
    },
    {
     "name": "stderr",
     "output_type": "stream",
     "text": [
      "100%|█████████████████████████████████████████| 655/655 [02:20<00:00,  4.66it/s]\n"
     ]
    },
    {
     "name": "stdout",
     "output_type": "stream",
     "text": [
      "Epoch: 265, loss: 0.11680953753472284, f1: 0.08708913684664948, precision: 0.04784781389109051, recall: 0.484172334925819\n",
      "val_loss: 0.12313043015128976, val_f1: 0.0896109323071733, val_precision: 0.04936308726463296, val_recall: 0.48528301975595844\n"
     ]
    },
    {
     "name": "stderr",
     "output_type": "stream",
     "text": [
      "100%|█████████████████████████████████████████| 655/655 [02:20<00:00,  4.66it/s]\n"
     ]
    },
    {
     "name": "stdout",
     "output_type": "stream",
     "text": [
      "Epoch: 266, loss: 0.11680942467833293, f1: 0.08710527673276365, precision: 0.04784781389109051, recall: 0.485171915101641\n",
      "val_loss: 0.1231301662879526, val_f1: 0.08963186782304818, val_precision: 0.04936308726463296, val_recall: 0.48651379989374666\n"
     ]
    },
    {
     "name": "stderr",
     "output_type": "stream",
     "text": [
      "100%|█████████████████████████████████████████| 655/655 [02:20<00:00,  4.66it/s]\n"
     ]
    },
    {
     "name": "stdout",
     "output_type": "stream",
     "text": [
      "Epoch: 267, loss: 0.11680908035913497, f1: 0.08713676814965002, precision: 0.04784781389109051, recall: 0.48713310470107857\n",
      "val_loss: 0.12312991852197078, val_f1: 0.08964812591085046, val_precision: 0.04936308726463296, val_recall: 0.4874735142386288\n"
     ]
    },
    {
     "name": "stderr",
     "output_type": "stream",
     "text": [
      "100%|█████████████████████████████████████████| 655/655 [02:20<00:00,  4.67it/s]\n"
     ]
    },
    {
     "name": "stdout",
     "output_type": "stream",
     "text": [
      "Epoch: 268, loss: 0.11680915197570815, f1: 0.08714308415759588, precision: 0.04784781389109051, recall: 0.48752818526202485\n",
      "val_loss: 0.12313025219177981, val_f1: 0.08964308818604703, val_precision: 0.04936308726463296, val_recall: 0.48717577017228536\n"
     ]
    },
    {
     "name": "stderr",
     "output_type": "stream",
     "text": [
      "100%|█████████████████████████████████████████| 655/655 [02:20<00:00,  4.66it/s]\n"
     ]
    },
    {
     "name": "stdout",
     "output_type": "stream",
     "text": [
      "Epoch: 269, loss: 0.11680906191468239, f1: 0.08718993229842525, precision: 0.04784781389109051, recall: 0.4904769588517779\n",
      "val_loss: 0.12312953126266463, val_f1: 0.0896308240221058, val_precision: 0.04936308726463296, val_recall: 0.48645230157112856\n"
     ]
    },
    {
     "name": "stderr",
     "output_type": "stream",
     "text": [
      "100%|█████████████████████████████████████████| 655/655 [02:20<00:00,  4.66it/s]\n"
     ]
    },
    {
     "name": "stdout",
     "output_type": "stream",
     "text": [
      "Epoch: 270, loss: 0.11680899218634795, f1: 0.08718541225908685, precision: 0.04784781389109051, recall: 0.4901910378732754\n",
      "val_loss: 0.1231303976831633, val_f1: 0.08969722294135635, val_precision: 0.04936308726463296, val_recall: 0.4903926884909289\n"
     ]
    },
    {
     "name": "stderr",
     "output_type": "stream",
     "text": [
      "100%|█████████████████████████████████████████| 655/655 [02:20<00:00,  4.66it/s]\n"
     ]
    },
    {
     "name": "stdout",
     "output_type": "stream",
     "text": [
      "Epoch: 271, loss: 0.11680906242655434, f1: 0.08721272768693156, precision: 0.04784781389109051, recall: 0.49192355402553356\n",
      "val_loss: 0.12313001059474202, val_f1: 0.0896623729725599, val_precision: 0.04936308726463296, val_recall: 0.48831734826805395\n"
     ]
    },
    {
     "name": "stderr",
     "output_type": "stream",
     "text": [
      "100%|█████████████████████████████████████████| 655/655 [02:20<00:00,  4.66it/s]\n"
     ]
    },
    {
     "name": "stdout",
     "output_type": "stream",
     "text": [
      "Epoch: 272, loss: 0.11680906185780773, f1: 0.08722231133712709, precision: 0.04784781389109051, recall: 0.49253405641963466\n",
      "val_loss: 0.12312944720439407, val_f1: 0.08967100843152395, val_precision: 0.04936308726463296, val_recall: 0.488830107204411\n"
     ]
    },
    {
     "name": "stderr",
     "output_type": "stream",
     "text": [
      "100%|█████████████████████████████████████████| 655/655 [02:20<00:00,  4.66it/s]\n"
     ]
    },
    {
     "name": "stdout",
     "output_type": "stream",
     "text": [
      "Epoch: 273, loss: 0.1168092058644495, f1: 0.08724361252533078, precision: 0.04784781389109051, recall: 0.49389595362066313\n",
      "val_loss: 0.12312975537817959, val_f1: 0.08968591242134398, val_precision: 0.04936308726463296, val_recall: 0.4897173852275271\n"
     ]
    },
    {
     "name": "stderr",
     "output_type": "stream",
     "text": [
      "100%|█████████████████████████████████████████| 655/655 [02:20<00:00,  4.66it/s]\n"
     ]
    },
    {
     "name": "stdout",
     "output_type": "stream",
     "text": [
      "Epoch: 274, loss: 0.11680875740774715, f1: 0.08720684584629254, precision: 0.04784781389109051, recall: 0.49154954875698526\n",
      "val_loss: 0.12313064830292256, val_f1: 0.0897599053757332, val_precision: 0.04936308726463296, val_recall: 0.4941660757731954\n"
     ]
    },
    {
     "name": "stderr",
     "output_type": "stream",
     "text": [
      "100%|█████████████████████████████████████████| 655/655 [02:20<00:00,  4.66it/s]\n"
     ]
    },
    {
     "name": "stdout",
     "output_type": "stream",
     "text": [
      "Epoch: 275, loss: 0.11680891809572701, f1: 0.0872290467991117, precision: 0.04784781389109051, recall: 0.49296394914161157\n",
      "val_loss: 0.12312964707134513, val_f1: 0.08974049155453112, val_precision: 0.04936308726463296, val_recall: 0.4929917657047237\n"
     ]
    },
    {
     "name": "stderr",
     "output_type": "stream",
     "text": [
      "100%|█████████████████████████████████████████| 655/655 [02:20<00:00,  4.66it/s]\n"
     ]
    },
    {
     "name": "stdout",
     "output_type": "stream",
     "text": [
      "Epoch: 276, loss: 0.11680851662318215, f1: 0.08724432030837077, precision: 0.04784781389109051, recall: 0.4939413237662716\n",
      "val_loss: 0.12313026854546245, val_f1: 0.08971612077817426, val_precision: 0.04936308726463296, val_recall: 0.4915247812457041\n"
     ]
    },
    {
     "name": "stderr",
     "output_type": "stream",
     "text": [
      "100%|█████████████████████████████████████████| 655/655 [02:21<00:00,  4.64it/s]\n"
     ]
    },
    {
     "name": "stdout",
     "output_type": "stream",
     "text": [
      "Epoch: 277, loss: 0.11680855886968038, f1: 0.08722766136054108, precision: 0.04784781389109051, recall: 0.4928754672749352\n",
      "val_loss: 0.12312944106962703, val_f1: 0.08969695267584664, val_precision: 0.04936308726463296, val_recall: 0.4903765323512051\n"
     ]
    },
    {
     "name": "stderr",
     "output_type": "stream",
     "text": [
      "100%|█████████████████████████████████████████| 655/655 [02:20<00:00,  4.68it/s]\n"
     ]
    },
    {
     "name": "stdout",
     "output_type": "stream",
     "text": [
      "Epoch: 278, loss: 0.1168086601122645, f1: 0.08722949621257521, precision: 0.04784781389109051, recall: 0.4929926574230194\n",
      "val_loss: 0.12313004068756869, val_f1: 0.08972281969140777, val_precision: 0.04936308726463296, val_recall: 0.4919272268857431\n"
     ]
    },
    {
     "name": "stderr",
     "output_type": "stream",
     "text": [
      "100%|█████████████████████████████████████████| 655/655 [02:20<00:00,  4.68it/s]\n"
     ]
    },
    {
     "name": "stdout",
     "output_type": "stream",
     "text": [
      "Epoch: 279, loss: 0.11680861512440761, f1: 0.08723037974601754, precision: 0.04784781389109051, recall: 0.49304910593360435\n",
      "val_loss: 0.12312869519131993, val_f1: 0.08971644360093993, val_precision: 0.04936308726463296, val_recall: 0.49154416150456176\n"
     ]
    },
    {
     "name": "stderr",
     "output_type": "stream",
     "text": [
      "100%|█████████████████████████████████████████| 655/655 [02:24<00:00,  4.52it/s]\n"
     ]
    },
    {
     "name": "stdout",
     "output_type": "stream",
     "text": [
      "Epoch: 280, loss: 0.1168082872249243, f1: 0.08724005762830868, precision: 0.04784781389109051, recall: 0.4936681933075417\n",
      "val_loss: 0.12312943948039767, val_f1: 0.08967254332903317, val_precision: 0.04936308726463296, val_recall: 0.48892134920172736\n"
     ]
    },
    {
     "name": "stderr",
     "output_type": "stream",
     "text": [
      "100%|█████████████████████████████████████████| 655/655 [02:20<00:00,  4.66it/s]\n"
     ]
    },
    {
     "name": "stdout",
     "output_type": "stream",
     "text": [
      "Epoch: 281, loss: 0.1168087346806326, f1: 0.0872425967312602, precision: 0.04784781389109051, recall: 0.4938308526996438\n",
      "val_loss: 0.12313019202321494, val_f1: 0.08974738661538412, val_precision: 0.04936308726463296, val_recall: 0.4934082550740023\n"
     ]
    },
    {
     "name": "stderr",
     "output_type": "stream",
     "text": [
      "100%|█████████████████████████████████████████| 655/655 [02:20<00:00,  4.66it/s]\n"
     ]
    },
    {
     "name": "stdout",
     "output_type": "stream",
     "text": [
      "Epoch: 282, loss: 0.11680825319112713, f1: 0.08722920013377328, precision: 0.04784781389109051, recall: 0.49297374373173897\n",
      "val_loss: 0.12312978885452681, val_f1: 0.08974457527712874, val_precision: 0.04936308726463296, val_recall: 0.49323836174033103\n"
     ]
    },
    {
     "name": "stderr",
     "output_type": "stream",
     "text": [
      "100%|█████████████████████████████████████████| 655/655 [02:20<00:00,  4.66it/s]\n"
     ]
    },
    {
     "name": "stdout",
     "output_type": "stream",
     "text": [
      "Epoch: 283, loss: 0.11680823466705002, f1: 0.08723108869538214, precision: 0.04784781389109051, recall: 0.49309440887611333\n",
      "val_loss: 0.12312943093615387, val_f1: 0.08977545076026476, val_precision: 0.04936308726463296, val_recall: 0.49511006310445455\n"
     ]
    },
    {
     "name": "stderr",
     "output_type": "stream",
     "text": [
      "100%|█████████████████████████████████████████| 655/655 [02:20<00:00,  4.66it/s]\n"
     ]
    },
    {
     "name": "stdout",
     "output_type": "stream",
     "text": [
      "Epoch: 284, loss: 0.11680794763769813, f1: 0.08730230260647584, precision: 0.04784781389109051, recall: 0.4976840810921356\n",
      "val_loss: 0.12312822949585564, val_f1: 0.08978411065145482, val_precision: 0.04936308726463296, val_recall: 0.4956373550476284\n"
     ]
    },
    {
     "name": "stderr",
     "output_type": "stream",
     "text": [
      "100%|█████████████████████████████████████████| 655/655 [02:20<00:00,  4.66it/s]\n"
     ]
    },
    {
     "name": "stdout",
     "output_type": "stream",
     "text": [
      "Epoch: 285, loss: 0.11680778872989517, f1: 0.08725600202480328, precision: 0.04784781389109051, recall: 0.4946912417430004\n",
      "val_loss: 0.12312901433591449, val_f1: 0.08978152612357243, val_precision: 0.04936308726463296, val_recall: 0.4954798788925923\n"
     ]
    },
    {
     "name": "stderr",
     "output_type": "stream",
     "text": [
      "100%|█████████████████████████████████████████| 655/655 [02:20<00:00,  4.66it/s]\n"
     ]
    },
    {
     "name": "stdout",
     "output_type": "stream",
     "text": [
      "Epoch: 286, loss: 0.11680862106212223, f1: 0.0872867465397155, precision: 0.04784781389109051, recall: 0.49667487067120675\n",
      "val_loss: 0.12313006377411545, val_f1: 0.08977051325033313, val_precision: 0.04936308726463296, val_recall: 0.4948098796223282\n"
     ]
    },
    {
     "name": "stderr",
     "output_type": "stream",
     "text": [
      "100%|█████████████████████████████████████████| 655/655 [02:21<00:00,  4.64it/s]\n"
     ]
    },
    {
     "name": "stdout",
     "output_type": "stream",
     "text": [
      "Epoch: 287, loss: 0.11680782105745251, f1: 0.08725094935132081, precision: 0.04784781389109051, recall: 0.49436662633910433\n",
      "val_loss: 0.12312892879094553, val_f1: 0.08971025697386188, val_precision: 0.04936308726463296, val_recall: 0.49117299668285824\n"
     ]
    },
    {
     "name": "stderr",
     "output_type": "stream",
     "text": [
      "100%|█████████████████████████████████████████| 655/655 [02:20<00:00,  4.66it/s]\n"
     ]
    },
    {
     "name": "stdout",
     "output_type": "stream",
     "text": [
      "Epoch: 288, loss: 0.1168075189961277, f1: 0.08725862949599546, precision: 0.04784781389109051, recall: 0.4948602006180596\n",
      "val_loss: 0.12312834439884632, val_f1: 0.08978652297059155, val_precision: 0.04936308726463296, val_recall: 0.49578442062259814\n"
     ]
    },
    {
     "name": "stderr",
     "output_type": "stream",
     "text": [
      "100%|█████████████████████████████████████████| 655/655 [02:20<00:00,  4.66it/s]\n"
     ]
    },
    {
     "name": "stdout",
     "output_type": "stream",
     "text": [
      "Epoch: 289, loss: 0.11680816592264721, f1: 0.08724027712388226, precision: 0.04784781389109051, recall: 0.493682250721764\n",
      "val_loss: 0.12313088896009353, val_f1: 0.08969097204801305, val_precision: 0.04936308726463296, val_recall: 0.49001926511799526\n"
     ]
    },
    {
     "name": "stderr",
     "output_type": "stream",
     "text": [
      "100%|█████████████████████████████████████████| 655/655 [02:20<00:00,  4.66it/s]\n"
     ]
    },
    {
     "name": "stdout",
     "output_type": "stream",
     "text": [
      "Epoch: 290, loss: 0.11680759971833411, f1: 0.08722108752030666, precision: 0.04784781389109051, recall: 0.4924560193342107\n",
      "val_loss: 0.12312698436029461, val_f1: 0.08972968536066617, val_precision: 0.04936308726463296, val_recall: 0.4923403125017061\n"
     ]
    },
    {
     "name": "stderr",
     "output_type": "stream",
     "text": [
      "100%|█████████████████████████████████████████| 655/655 [02:20<00:00,  4.66it/s]\n"
     ]
    },
    {
     "name": "stdout",
     "output_type": "stream",
     "text": [
      "Epoch: 291, loss: 0.11680748882980747, f1: 0.08723934414919222, precision: 0.04784781389109051, recall: 0.49362250416333436\n",
      "val_loss: 0.12312827182403945, val_f1: 0.08971949874850606, val_precision: 0.04936308726463296, val_recall: 0.4917276422364996\n"
     ]
    },
    {
     "name": "stderr",
     "output_type": "stream",
     "text": [
      "100%|█████████████████████████████████████████| 655/655 [02:20<00:00,  4.65it/s]\n"
     ]
    },
    {
     "name": "stdout",
     "output_type": "stream",
     "text": [
      "Epoch: 292, loss: 0.11680776085562379, f1: 0.08722003981144695, precision: 0.04784781389109051, recall: 0.4923892297362553\n",
      "val_loss: 0.12312686427949218, val_f1: 0.08966979471950982, val_precision: 0.04936308726463296, val_recall: 0.48875797997920883\n"
     ]
    },
    {
     "name": "stderr",
     "output_type": "stream",
     "text": [
      "100%|█████████████████████████████████████████| 655/655 [02:20<00:00,  4.65it/s]\n"
     ]
    },
    {
     "name": "stdout",
     "output_type": "stream",
     "text": [
      "Epoch: 293, loss: 0.11680743781892398, f1: 0.08724485132121004, precision: 0.04784781389109051, recall: 0.4939753676188811\n",
      "val_loss: 0.12312819492584522, val_f1: 0.0896468800536634, val_precision: 0.04936308726463296, val_recall: 0.4873998497330814\n"
     ]
    },
    {
     "name": "stderr",
     "output_type": "stream",
     "text": [
      "100%|█████████████████████████████████████████| 655/655 [02:20<00:00,  4.66it/s]\n"
     ]
    },
    {
     "name": "stdout",
     "output_type": "stream",
     "text": [
      "Epoch: 294, loss: 0.11680731817169954, f1: 0.08717316375864456, precision: 0.04784781389109051, recall: 0.4894177674792195\n",
      "val_loss: 0.12312908357846628, val_f1: 0.08967241568126222, val_precision: 0.04936308726463296, val_recall: 0.48891375999931896\n"
     ]
    },
    {
     "name": "stderr",
     "output_type": "stream",
     "text": [
      "100%|█████████████████████████████████████████| 655/655 [02:20<00:00,  4.66it/s]\n"
     ]
    },
    {
     "name": "stdout",
     "output_type": "stream",
     "text": [
      "Epoch: 295, loss: 0.1168071815928885, f1: 0.08719290187621617, precision: 0.04784781389109051, recall: 0.4906649688272986\n",
      "val_loss: 0.12312776820922117, val_f1: 0.08962384418245443, val_precision: 0.04936308726463296, val_recall: 0.4860414281624173\n"
     ]
    },
    {
     "name": "stderr",
     "output_type": "stream",
     "text": [
      "100%|█████████████████████████████████████████| 655/655 [02:20<00:00,  4.66it/s]\n"
     ]
    },
    {
     "name": "stdout",
     "output_type": "stream",
     "text": [
      "Epoch: 296, loss: 0.11680703785924511, f1: 0.08719097324698848, precision: 0.04784781389109051, recall: 0.4905428484650969\n",
      "val_loss: 0.1231270115309899, val_f1: 0.08959849803527709, val_precision: 0.04936308726463296, val_recall: 0.48455469255600503\n"
     ]
    },
    {
     "name": "stderr",
     "output_type": "stream",
     "text": [
      "100%|█████████████████████████████████████████| 655/655 [02:20<00:00,  4.66it/s]\n"
     ]
    },
    {
     "name": "stdout",
     "output_type": "stream",
     "text": [
      "Epoch: 297, loss: 0.11680748625907279, f1: 0.08720789064928999, precision: 0.04784781389109051, recall: 0.4916159461927778\n",
      "val_loss: 0.12312864278092844, val_f1: 0.08967989755677898, val_precision: 0.04936308726463296, val_recall: 0.4893589509189676\n"
     ]
    },
    {
     "name": "stderr",
     "output_type": "stream",
     "text": [
      "100%|█████████████████████████████████████████| 655/655 [02:20<00:00,  4.65it/s]\n"
     ]
    },
    {
     "name": "stdout",
     "output_type": "stream",
     "text": [
      "Epoch: 298, loss: 0.11680654885659691, f1: 0.08715111324359112, precision: 0.04784781389109051, recall: 0.48803126591307516\n",
      "val_loss: 0.12312806886407214, val_f1: 0.08963563385270919, val_precision: 0.04936308726463296, val_recall: 0.48673580299823654\n"
     ]
    },
    {
     "name": "stderr",
     "output_type": "stream",
     "text": [
      "100%|█████████████████████████████████████████| 655/655 [02:20<00:00,  4.66it/s]\n"
     ]
    },
    {
     "name": "stdout",
     "output_type": "stream",
     "text": [
      "Epoch: 299, loss: 0.11680600467415256, f1: 0.08712435110208692, precision: 0.04784781389109051, recall: 0.48635808789093077\n",
      "val_loss: 0.12312852753616801, val_f1: 0.0895596901967444, val_precision: 0.04936308726463296, val_recall: 0.48229426268590697\n"
     ]
    },
    {
     "name": "stderr",
     "output_type": "stream",
     "text": [
      "100%|█████████████████████████████████████████| 655/655 [02:20<00:00,  4.66it/s]\n"
     ]
    },
    {
     "name": "stdout",
     "output_type": "stream",
     "text": [
      "Epoch: 300, loss: 0.11680658467057096, f1: 0.08710037436393013, precision: 0.04784781389109051, recall: 0.48486790320345463\n",
      "val_loss: 0.12312817366776663, val_f1: 0.08955624483060061, val_precision: 0.04936308726463296, val_recall: 0.4820945060581242\n"
     ]
    },
    {
     "name": "stderr",
     "output_type": "stream",
     "text": [
      "100%|█████████████████████████████████████████| 655/655 [02:20<00:00,  4.66it/s]\n"
     ]
    },
    {
     "name": "stdout",
     "output_type": "stream",
     "text": [
      "Epoch: 301, loss: 0.116806031365431, f1: 0.08711495874398918, precision: 0.04784781389109051, recall: 0.48577334874003897\n",
      "val_loss: 0.12312535070087932, val_f1: 0.0895038885782426, val_precision: 0.04936308726463296, val_recall: 0.4790773443672635\n"
     ]
    },
    {
     "name": "stderr",
     "output_type": "stream",
     "text": [
      "100%|█████████████████████████████████████████| 655/655 [02:20<00:00,  4.67it/s]\n"
     ]
    },
    {
     "name": "stdout",
     "output_type": "stream",
     "text": [
      "Epoch: 302, loss: 0.11680555765637915, f1: 0.08706247475947602, precision: 0.04784781389109051, recall: 0.48252927733741646\n",
      "val_loss: 0.12312534916291543, val_f1: 0.08948763775678249, val_precision: 0.04936308726463296, val_recall: 0.4781478041902595\n"
     ]
    },
    {
     "name": "stderr",
     "output_type": "stream",
     "text": [
      "100%|█████████████████████████████████████████| 655/655 [02:20<00:00,  4.66it/s]\n"
     ]
    },
    {
     "name": "stdout",
     "output_type": "stream",
     "text": [
      "Epoch: 303, loss: 0.11680541751152687, f1: 0.08699605288116839, precision: 0.04784781389109051, recall: 0.4784798102069447\n",
      "val_loss: 0.12312698406979032, val_f1: 0.08935090545607954, val_precision: 0.04936308726463296, val_recall: 0.4704543953641839\n"
     ]
    },
    {
     "name": "stderr",
     "output_type": "stream",
     "text": [
      "100%|█████████████████████████████████████████| 655/655 [02:20<00:00,  4.66it/s]\n"
     ]
    },
    {
     "name": "stdout",
     "output_type": "stream",
     "text": [
      "Epoch: 304, loss: 0.1168042057115613, f1: 0.08689800966562862, precision: 0.04784781389109051, recall: 0.4726142620539847\n",
      "val_loss: 0.12312553282998023, val_f1: 0.08919473259789955, val_precision: 0.04936308726463296, val_recall: 0.4619371759782144\n"
     ]
    },
    {
     "name": "stderr",
     "output_type": "stream",
     "text": [
      "100%|█████████████████████████████████████████| 655/655 [02:20<00:00,  4.67it/s]\n"
     ]
    },
    {
     "name": "stdout",
     "output_type": "stream",
     "text": [
      "Epoch: 305, loss: 0.11680448642782583, f1: 0.08685739084111925, precision: 0.04784781389109051, recall: 0.4702223191961987\n",
      "val_loss: 0.12312525133132388, val_f1: 0.08926897754889339, val_precision: 0.04936308726463296, val_recall: 0.46595120498346626\n"
     ]
    },
    {
     "name": "stderr",
     "output_type": "stream",
     "text": [
      "100%|█████████████████████████████████████████| 655/655 [02:20<00:00,  4.66it/s]\n"
     ]
    },
    {
     "name": "stdout",
     "output_type": "stream",
     "text": [
      "Epoch: 306, loss: 0.11680407890381704, f1: 0.08685782931022297, precision: 0.04784781389109051, recall: 0.4702480221750172\n",
      "val_loss: 0.12312638170060215, val_f1: 0.08911464112137608, val_precision: 0.04936308726463296, val_recall: 0.45767658702824093\n"
     ]
    },
    {
     "name": "stderr",
     "output_type": "stream",
     "text": [
      "100%|█████████████████████████████████████████| 655/655 [02:20<00:00,  4.67it/s]\n"
     ]
    },
    {
     "name": "stdout",
     "output_type": "stream",
     "text": [
      "Epoch: 307, loss: 0.11680426059560921, f1: 0.08669277012032992, precision: 0.04784781389109051, recall: 0.4607492072209147\n",
      "val_loss: 0.12312696000919976, val_f1: 0.08897614528453299, val_precision: 0.04936308726463296, val_recall: 0.4504742615540093\n"
     ]
    },
    {
     "name": "stderr",
     "output_type": "stream",
     "text": [
      "100%|█████████████████████████████████████████| 655/655 [02:20<00:00,  4.66it/s]\n"
     ]
    },
    {
     "name": "stdout",
     "output_type": "stream",
     "text": [
      "Epoch: 308, loss: 0.11680429262173085, f1: 0.0866147542276156, precision: 0.04784781389109051, recall: 0.45637973214833794\n",
      "val_loss: 0.12312424863013652, val_f1: 0.0888641951632913, val_precision: 0.04936308726463296, val_recall: 0.4448002634928861\n"
     ]
    },
    {
     "name": "stderr",
     "output_type": "stream",
     "text": [
      "100%|█████████████████████████████████████████| 655/655 [02:20<00:00,  4.66it/s]\n"
     ]
    },
    {
     "name": "stdout",
     "output_type": "stream",
     "text": [
      "Epoch: 309, loss: 0.11680310724573281, f1: 0.08638589119201359, precision: 0.04784781389109051, recall: 0.4439842099224338\n",
      "val_loss: 0.12312558636821191, val_f1: 0.08864116936734456, val_precision: 0.04936308726463296, val_recall: 0.43387204155736014\n"
     ]
    },
    {
     "name": "stderr",
     "output_type": "stream",
     "text": [
      "100%|█████████████████████████████████████████| 655/655 [02:20<00:00,  4.66it/s]\n"
     ]
    },
    {
     "name": "stdout",
     "output_type": "stream",
     "text": [
      "Epoch: 310, loss: 0.11680252653269367, f1: 0.08635257901163614, precision: 0.04784781389109051, recall: 0.44223060705734574\n",
      "val_loss: 0.12312495238532167, val_f1: 0.0886517566354285, val_precision: 0.04936308726463296, val_recall: 0.43437987634348213\n"
     ]
    },
    {
     "name": "stderr",
     "output_type": "stream",
     "text": [
      "100%|█████████████████████████████████████████| 655/655 [02:20<00:00,  4.66it/s]\n"
     ]
    },
    {
     "name": "stdout",
     "output_type": "stream",
     "text": [
      "Epoch: 311, loss: 0.1168024452644905, f1: 0.08620413181405145, precision: 0.04784781389109051, recall: 0.4345657701938207\n",
      "val_loss: 0.12312522774921097, val_f1: 0.08834920623335583, val_precision: 0.04936308726463296, val_recall: 0.420275889132001\n"
     ]
    },
    {
     "name": "stderr",
     "output_type": "stream",
     "text": [
      "100%|█████████████████████████████████████████| 655/655 [02:20<00:00,  4.67it/s]\n"
     ]
    },
    {
     "name": "stdout",
     "output_type": "stream",
     "text": [
      "Epoch: 312, loss: 0.11680250727493344, f1: 0.08601772739774903, precision: 0.04784781389109051, recall: 0.4252740830524277\n",
      "val_loss: 0.1231261510572849, val_f1: 0.08806777824659075, val_precision: 0.04936308726463296, val_recall: 0.4078753789493797\n"
     ]
    },
    {
     "name": "stderr",
     "output_type": "stream",
     "text": [
      "100%|█████████████████████████████████████████| 655/655 [02:20<00:00,  4.66it/s]\n"
     ]
    },
    {
     "name": "stdout",
     "output_type": "stream",
     "text": [
      "Epoch: 313, loss: 0.11680162975010071, f1: 0.0857097870740448, precision: 0.04784781389109051, recall: 0.41068409365097075\n",
      "val_loss: 0.12312192862870497, val_f1: 0.0877273970105713, val_precision: 0.04936308726463296, val_recall: 0.39372513415890004\n"
     ]
    },
    {
     "name": "stderr",
     "output_type": "stream",
     "text": [
      "100%|█████████████████████████████████████████| 655/655 [02:20<00:00,  4.67it/s]\n"
     ]
    },
    {
     "name": "stdout",
     "output_type": "stream",
     "text": [
      "Epoch: 314, loss: 0.11680126787938235, f1: 0.08541499307732077, precision: 0.04784781389109051, recall: 0.39753583408039034\n",
      "val_loss: 0.12312302596593669, val_f1: 0.08741711274384707, val_precision: 0.04936308726463296, val_recall: 0.3815682190684004\n"
     ]
    },
    {
     "name": "stderr",
     "output_type": "stream",
     "text": [
      "100%|█████████████████████████████████████████| 655/655 [02:20<00:00,  4.67it/s]\n"
     ]
    },
    {
     "name": "stdout",
     "output_type": "stream",
     "text": [
      "Epoch: 315, loss: 0.11680071413630748, f1: 0.08509327940647274, precision: 0.04784781389109051, recall: 0.3840212802054318\n",
      "val_loss: 0.12312286131835859, val_f1: 0.0868610435572915, val_precision: 0.04936308726463296, val_recall: 0.361372266614109\n"
     ]
    },
    {
     "name": "stderr",
     "output_type": "stream",
     "text": [
      " 75%|██████████████████████████████▋          | 490/655 [01:46<00:45,  3.62it/s]"
     ]
    }
   ],
   "source": [
    "train()\n",
    "torch.save(model, \"./models1/\" + run_name + \"_\" + str(epochs) + \".pt\")"
   ]
  },
  {
   "cell_type": "code",
   "execution_count": null,
   "id": "69773aab",
   "metadata": {},
   "outputs": [],
   "source": [
    "torch.save(model, \"./models1/\" + run_name + \"_\" + str(22) + \".pt\")"
   ]
  },
  {
   "cell_type": "code",
   "execution_count": 87,
   "id": "6e53a2d2",
   "metadata": {},
   "outputs": [
    {
     "data": {
      "text/html": [
       "Waiting for W&B process to finish... <strong style=\"color:green\">(success).</strong>"
      ],
      "text/plain": [
       "<IPython.core.display.HTML object>"
      ]
     },
     "metadata": {},
     "output_type": "display_data"
    },
    {
     "data": {
      "text/html": [
       " View run <strong style=\"color:#cdcd00\">ResGatedConv_8*2_0.0001_Adam_100_0.5</strong> at: <a href='https://wandb.ai/chi-vinny0702/secondary_structure_prediction1/runs/sanfhqhi' target=\"_blank\">https://wandb.ai/chi-vinny0702/secondary_structure_prediction1/runs/sanfhqhi</a><br/>Synced 5 W&B file(s), 0 media file(s), 0 artifact file(s) and 0 other file(s)"
      ],
      "text/plain": [
       "<IPython.core.display.HTML object>"
      ]
     },
     "metadata": {},
     "output_type": "display_data"
    },
    {
     "data": {
      "text/html": [
       "Find logs at: <code>./wandb/run-20230428_144851-sanfhqhi/logs</code>"
      ],
      "text/plain": [
       "<IPython.core.display.HTML object>"
      ]
     },
     "metadata": {},
     "output_type": "display_data"
    }
   ],
   "source": [
    "wandb.finish()"
   ]
  }
 ],
 "metadata": {
  "kernelspec": {
   "display_name": "Python 3 (ipykernel)",
   "language": "python",
   "name": "python3"
  },
  "language_info": {
   "codemirror_mode": {
    "name": "ipython",
    "version": 3
   },
   "file_extension": ".py",
   "mimetype": "text/x-python",
   "name": "python",
   "nbconvert_exporter": "python",
   "pygments_lexer": "ipython3",
   "version": "3.9.12"
  }
 },
 "nbformat": 4,
 "nbformat_minor": 5
}
