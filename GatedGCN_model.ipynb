{
 "cells": [
  {
   "cell_type": "code",
   "execution_count": 1,
   "id": "0e9632e0",
   "metadata": {},
   "outputs": [],
   "source": [
    "import os.path as osp\n",
    "from tqdm.auto import tqdm\n",
    "import numpy as np\n",
    "import wandb\n",
    "\n",
    "import torch\n",
    "\n",
    "import torch_geometric.transforms as T\n",
    "from torch_geometric.nn import GatedGraphConv\n",
    "from torch_geometric.loader import DataLoader\n",
    "\n",
    "from dataset_processing import RNADataset\n"
   ]
  },
  {
   "cell_type": "code",
   "execution_count": 2,
   "id": "91d9eeef",
   "metadata": {},
   "outputs": [
    {
     "name": "stdout",
     "output_type": "stream",
     "text": [
      "cuda\n"
     ]
    }
   ],
   "source": [
    "device = torch.device('cuda' if torch.cuda.is_available() else 'cpu')\n",
    "# device = 'cpu'\n",
    "print(device)\n",
    "\n",
    "dataset = RNADataset(root=\"./data/\")\n",
    "dataset = dataset.shuffle()\n",
    "train_data, val_data, test_data = dataset[0:655], dataset[655:873], dataset[873:]\n",
    "\n",
    "train_dataloader = DataLoader(train_data, batch_size=8, shuffle=False)\n",
    "val_dataloader = DataLoader(val_data, batch_size=1, shuffle=False)\n"
   ]
  },
  {
   "cell_type": "code",
   "execution_count": 3,
   "id": "886adfaf",
   "metadata": {},
   "outputs": [],
   "source": [
    "def del_nucl_conn(y):\n",
    "    main_diag = torch.zeros([1, y.size(0)])\n",
    "    diag1 = torch.ones([1, y.size(0) - 1])\n",
    "\n",
    "    return y * (torch.diag_embed(main_diag).to(device) + \n",
    "                torch.diag_embed(diag1, offset=1).to(device) + \n",
    "            torch.diag_embed(diag1, offset=-1).to(device) - 1)[0] * (-1)"
   ]
  },
  {
   "cell_type": "code",
   "execution_count": 4,
   "id": "00b61e17",
   "metadata": {},
   "outputs": [],
   "source": [
    "def del_main_diag(y):\n",
    "    main_diag = torch.ones([1, y.size(0)])\n",
    "    return y * (torch.diag_embed(main_diag).to(device) - 1)[0] * (-1)"
   ]
  },
  {
   "cell_type": "code",
   "execution_count": 5,
   "id": "2613eec2",
   "metadata": {},
   "outputs": [
    {
     "name": "stdout",
     "output_type": "stream",
     "text": [
      "tensor([[0.6422, 0.4878, 0.6735, 0.1176],\n",
      "        [0.7981, 0.7673, 0.1410, 0.3133],\n",
      "        [0.8790, 0.6172, 0.2034, 0.7041],\n",
      "        [0.2295, 0.8916, 0.4766, 0.6383]])\n",
      "tensor([[0.6422, -0.0000, 0.6735, 0.1176],\n",
      "        [-0.0000, 0.7673, -0.0000, 0.3133],\n",
      "        [0.8790, -0.0000, 0.2034, -0.0000],\n",
      "        [0.2295, 0.8916, -0.0000, 0.6383]], device='cuda:0')\n"
     ]
    },
    {
     "ename": "NameError",
     "evalue": "name 'argm' is not defined",
     "output_type": "error",
     "traceback": [
      "\u001b[0;31m---------------------------------------------------------------------------\u001b[0m",
      "\u001b[0;31mNameError\u001b[0m                                 Traceback (most recent call last)",
      "Cell \u001b[0;32mIn[5], line 7\u001b[0m\n\u001b[1;32m      5\u001b[0m \u001b[38;5;28mprint\u001b[39m(b)\n\u001b[1;32m      6\u001b[0m \u001b[38;5;66;03m# argm(b)\u001b[39;00m\n\u001b[0;32m----> 7\u001b[0m c \u001b[38;5;241m=\u001b[39m \u001b[43margm\u001b[49m(b)\n\u001b[1;32m      8\u001b[0m \u001b[38;5;28mprint\u001b[39m(c)\n\u001b[1;32m      9\u001b[0m \u001b[38;5;66;03m# argm(b)\u001b[39;00m\n",
      "\u001b[0;31mNameError\u001b[0m: name 'argm' is not defined"
     ]
    }
   ],
   "source": [
    "a = torch.rand(4, 4)\n",
    "print(a)\n",
    "# print(del_nucl_conn(a))\n",
    "b = del_nucl_conn(a.to(device))\n",
    "print(b)\n",
    "# argm(b)\n",
    "c = argm(b)\n",
    "print(c)\n",
    "# argm(b)\n",
    "print(del_main_diag(c))"
   ]
  },
  {
   "cell_type": "code",
   "execution_count": 35,
   "id": "b709ab7c",
   "metadata": {},
   "outputs": [],
   "source": [
    "def argm(y):\n",
    "    max_ind = torch.argmax(y, dim=1)\n",
    "    y1 = torch.zeros_like(y)\n",
    "    k = 0\n",
    "    for i in max_ind:\n",
    "        y1[k][i] = 1.\n",
    "        y1[i][k] = 1.\n",
    "        k += 1\n",
    "    \n",
    "    return y1 * y\n"
   ]
  },
  {
   "cell_type": "code",
   "execution_count": 1,
   "id": "26761722",
   "metadata": {},
   "outputs": [],
   "source": [
    "def precision(y_pred, y_true):\n",
    "    y_pred = del_nucl_conn(y_pred)\n",
    "#     y_pred[(y_pred > 0.5)] = 1\n",
    "#     y_pred[(y_pred <= 0.5)] = 0 \n",
    "    y_pred = argm(y_pred)\n",
    "    y_pred = del_main_diag(y_pred)\n",
    "    \n",
    "    tp = torch.sum(y_pred * y_true)\n",
    "    fp = torch.sum((1 - y_true) * y_pred)\n",
    "    \n",
    "    return tp / (tp + fp + epsilon)\n",
    "\n",
    "def recall(y_pred, y_true):\n",
    "    y_pred = del_nucl_conn(y_pred)\n",
    "#     y_pred[(y_pred > 0.5)] = 1\n",
    "#     y_pred[(y_pred <= 0.5)] = 0 \n",
    "    y_pred = argm(y_pred)\n",
    "    y_pred = del_main_diag(y_pred)\n",
    "    \n",
    "    tp = torch.sum(y_pred * y_true)\n",
    "    fn = torch.sum(y_true * (1 - y_pred))\n",
    "    \n",
    "    return tp / (tp + fn + epsilon)\n",
    "\n",
    "def f_loss(y_pred, y_true):\n",
    "    y_pred = del_nucl_conn(y_pred)\n",
    "#     y_pred = argm(y_pred)\n",
    "    y_pred = del_main_diag(y_pred)\n",
    "    \n",
    "    tp = torch.sum(y_pred * y_true)\n",
    "    fn = torch.sum(y_true * (1 - y_pred))\n",
    "    fp = torch.sum((1 - y_true) * y_pred)\n",
    "    precision = tp / (tp + fp + epsilon)\n",
    "    recall = tp / (tp + fn + epsilon)\n",
    "\n",
    "    k = 1\n",
    "    k1 = 1 - torch.abs(precision - recall)\n",
    "\n",
    "#     k2 = 1 - torch.abs(K.mean(precision) - K.mean(recall))\n",
    "    #calculate upgraded f1 score\n",
    "    f1 = ((1 + k * k) * precision * recall) / (k * k * precision + recall + epsilon)\n",
    "#     tw = K.sum(K.cast(y_true * y_pred, ’float32’), axis=[1, 2, 3])\n",
    "#     fw = K.sum(K.cast((1 - y_true) * y_pred, ’float32’), axis=[1, 2, 3])\n",
    "#     fb = K.sum(K.cast(y_true * (1 - y_pred), ’float32’), axis=[1, 2, 3])\n",
    "    return 1 - f1\n",
    "\n",
    "\n",
    "def distance_loss(y_pred, y_true):\n",
    "   # print(\">>>>>>>>>>>>>>>>>>>>>>>>>>\")\n",
    "    #y_pred = torch.tanh((y_pred*3)**5)\n",
    "    y_pred = del_nucl_conn(y_pred)\n",
    "    y_pred = del_main_diag(y_pred)\n",
    "    y_true = del_nucl_conn(y_true)\n",
    "    y_true = del_main_diag(y_true)\n",
    "    \n",
    "    \n",
    "    \n",
    "   # print(y_pred)\n",
    "    #print(y_true)\n",
    "    \n",
    "    #print (\"---------------------------------\")\n",
    "    \n",
    "    \n",
    "    c = 0.001\n",
    "    \n",
    "#     y_pred[0][0] = 0.01\n",
    "#     y_true[0][0] = 0.01\n",
    "#     y_pred[(torch.abs(y_pred) < c)] = 0\n",
    "#    c = torch.rand(y_true.size()).to(device)\n",
    "#     k = 0.4\n",
    "#     c[(c > k)] = 0\n",
    "#     c += y_true\n",
    "#     y_true += c\n",
    "    #y_pred.where(y_pred > c or y_pred < -c, y_pred, 0)\n",
    "    \n",
    "    #print(y_pred)\n",
    "    \n",
    "    #print(\"<<<<<<<<<<<<<<<<<<<<<<<<<\")\n",
    "    \n",
    "    #c = 0.0001\n",
    "    y_true_local = y_true + c\n",
    "    y_true_local = torch.triu(y_true_local, diagonal=2)\n",
    "    y_true_local = y_true_local.to_sparse()\n",
    "    #c_sparse = torch.triu(c, diagonal=2).to_sparse()\n",
    "    y_true_local = torch.cat([y_true_local.indices(), torch.unsqueeze((y_true_local.values() - c) , 0)], dim=0)\n",
    "#     y_true_local = torch.cat([y_true_local.indices(), torch.unsqueeze(y_true_local.values() * 100, 0)], dim=0)\n",
    "    \n",
    "    y_pred_local = torch.triu(y_pred, diagonal=2)\n",
    "    y_pred_local = y_pred_local.to_sparse()\n",
    "    y_pred_local = torch.cat([y_pred_local.indices(), torch.unsqueeze(y_pred_local.values(), 0)], dim=0)\n",
    "    dist2 = torch.cdist(y_true_local.t(), y_pred_local.t())\n",
    "    x_min,ind1 = torch.min(dist2, dim=0)\n",
    "    y_min,ind1 = torch.min(dist2, dim=1)\n",
    "#     return torch.sum(torch.sqrt(x_min))/(x_min.size()[0]) + torch.sum(torch.sqrt(y_min))/(y_min.size()[0])\n",
    "    return torch.sum(x_min ** 2)/(x_min.size()[0]) + torch.sum(y_min ** 2)/(y_min.size()[0])"
   ]
  },
  {
   "cell_type": "code",
   "execution_count": 45,
   "id": "6c6e6741",
   "metadata": {},
   "outputs": [],
   "source": [
    "class GatedGCNModel(torch.nn.Module):\n",
    "    def __init__(self, num_layers, out_channels):\n",
    "        super(GatedGCNModel, self).__init__()\n",
    "        self.ggcn = GatedGraphConv(out_channels, num_layers)\n",
    "#         self.gcn = GCN(out_channels, hidden_channels, 2, 64, dropout=dropout)\n",
    "\n",
    "    def forward(self, x, edge_index, edge_weight):\n",
    "        x = self.ggcn(x, edge_index)\n",
    "#         x = self.gcn(x.to(torch.float), edge_index)\n",
    "        prob_adj = (x @ x.t()).sigmoid()\n",
    "\n",
    "#         prob_adj = (x @ x.t())\n",
    "\n",
    "#         return (prob_adj > 0).nonzero(as_tuple=False).t()\n",
    "        return prob_adj\n"
   ]
  },
  {
   "cell_type": "code",
   "execution_count": 51,
   "id": "52fb3010",
   "metadata": {},
   "outputs": [
    {
     "name": "stdout",
     "output_type": "stream",
     "text": [
      "cuda\n"
     ]
    }
   ],
   "source": [
    "hidden_channels = 128\n",
    "out_channels = 200\n",
    "num_layers = 20\n",
    "num_features = dataset.num_features\n",
    "\n",
    "\n",
    "dr = 0.7\n",
    "lr = 0.000002\n",
    "epochs = 1500\n",
    "beta = 1\n",
    "\n",
    "\n",
    "model = GatedGCNModel(num_layers, out_channels)\n",
    "# model = torch.load(\"./models1/GatedGCN_6_4e-05_Adam_200_2_60.pt\")\n",
    "\n",
    "model = model.to(device)\n",
    "train_data = list(map(lambda x: x.to(device), train_data))\n",
    "val_data = list(map(lambda x: x.to(device), val_data))\n",
    "print(device)\n",
    "\n",
    "optimizer = torch.optim.Adam(model.parameters(), lr=lr, betas=(0.9, 0.99))\n",
    "# optimizer = torch.optim.Adagrad(model.parameters(), lr=lr)\n",
    "# optimizer = torch.optim.RMSprop(model.parameters(), lr=lr)\n",
    "# optimizer = torch.optim.Adamax(model.parameters(), lr=lr)\n",
    "# optimizer = torch.optim.Adadelta(model.parameters(), lr=lr)\n",
    "\n",
    "# optimizer = torch.optim.SGD(model.parameters(), lr=0.001)\n",
    "\n",
    "# criterion = torch.nn.BCELoss()\n",
    "# criterion = torch.nn.BCEWithLogitsLoss()\n",
    "# criterion = torch.nn.CrossEntropyLoss()\n",
    "# criterion = torch.nn.KLDivLoss()\n",
    "\n",
    "# def MSELoss(y_pred, y_true):\n",
    "#     return torch.mean((y_pred - y_true) ** 2)\n",
    "\n",
    "# criterion = f_loss\n",
    "criterion = distance_loss"
   ]
  },
  {
   "cell_type": "code",
   "execution_count": 52,
   "id": "e013e32e",
   "metadata": {},
   "outputs": [
    {
     "data": {
      "text/html": [
       "wandb version 0.14.1 is available!  To upgrade, please run:\n",
       " $ pip install wandb --upgrade"
      ],
      "text/plain": [
       "<IPython.core.display.HTML object>"
      ]
     },
     "metadata": {},
     "output_type": "display_data"
    },
    {
     "data": {
      "text/html": [
       "Tracking run with wandb version 0.13.10"
      ],
      "text/plain": [
       "<IPython.core.display.HTML object>"
      ]
     },
     "metadata": {},
     "output_type": "display_data"
    },
    {
     "data": {
      "text/html": [
       "Run data is saved locally in <code>/home/vdshk/SecondaryStructurePredictionGNN/wandb/run-20230407_161204-pf8u37ta</code>"
      ],
      "text/plain": [
       "<IPython.core.display.HTML object>"
      ]
     },
     "metadata": {},
     "output_type": "display_data"
    },
    {
     "data": {
      "text/html": [
       "Syncing run <strong><a href='https://wandb.ai/chi-vinny0702/secondary_structure_prediction1/runs/pf8u37ta' target=\"_blank\">GatedGCN_argm_20_2e-06_Adam_200_1</a></strong> to <a href='https://wandb.ai/chi-vinny0702/secondary_structure_prediction1' target=\"_blank\">Weights & Biases</a> (<a href='https://wandb.me/run' target=\"_blank\">docs</a>)<br/>"
      ],
      "text/plain": [
       "<IPython.core.display.HTML object>"
      ]
     },
     "metadata": {},
     "output_type": "display_data"
    },
    {
     "data": {
      "text/html": [
       " View project at <a href='https://wandb.ai/chi-vinny0702/secondary_structure_prediction1' target=\"_blank\">https://wandb.ai/chi-vinny0702/secondary_structure_prediction1</a>"
      ],
      "text/plain": [
       "<IPython.core.display.HTML object>"
      ]
     },
     "metadata": {},
     "output_type": "display_data"
    },
    {
     "data": {
      "text/html": [
       " View run at <a href='https://wandb.ai/chi-vinny0702/secondary_structure_prediction1/runs/pf8u37ta' target=\"_blank\">https://wandb.ai/chi-vinny0702/secondary_structure_prediction1/runs/pf8u37ta</a>"
      ],
      "text/plain": [
       "<IPython.core.display.HTML object>"
      ]
     },
     "metadata": {},
     "output_type": "display_data"
    }
   ],
   "source": [
    "run_name = \"GatedGCN_argm_\" + str(num_layers) + \"_\" + str(lr) + \"_\" + \"Adam_\" + str(out_channels) + \"_\" + str(beta)\n",
    "\n",
    "\n",
    "wandb.init(\n",
    "    # set the wandb project where this run will be logged\n",
    "    project=\"secondary_structure_prediction1\",\n",
    "    \n",
    "    # track hyperparameters and run metadata\n",
    "    config={\n",
    "    \"learning_rate\": lr,\n",
    "    \"architecture\": \"GatedGCN\",\n",
    "    \"epochs\": epochs,\n",
    "    \"optimizer\": \"Adam\",\n",
    "    \"out_channels\": out_channels,\n",
    "    \"loss\": \"f_loss(argmax)\",\n",
    "    \"beta\": beta,\n",
    "    \"train:val:test\": \"655:218:218\"\n",
    "    },\n",
    "    name=run_name\n",
    ")\n",
    "\n",
    "epsilon = 1e-10"
   ]
  },
  {
   "cell_type": "code",
   "execution_count": 53,
   "id": "01199efe",
   "metadata": {},
   "outputs": [],
   "source": [
    "def train():\n",
    "    for epoch in range(1, epochs + 1):\n",
    "        model.train()\n",
    "        train_loss = []\n",
    "        train_recall = []\n",
    "        train_precision = []\n",
    "        for g in tqdm(train_data):\n",
    "            g.to(device)\n",
    "            optimizer.zero_grad()\n",
    "\n",
    "            out = model(g.x, g.edge_index, g.edge_weight)\n",
    "            y_true = g.adj_mat\n",
    "            loss = criterion(out, y_true.to(torch.float32))            \n",
    "            \n",
    "            loss.backward()\n",
    "            optimizer.step()\n",
    "            \n",
    "#             out = out.sigmoid()\n",
    "            \n",
    "            train_loss.append(loss.item())\n",
    "            train_precision.append(precision(out, y_true).item())\n",
    "            train_recall.append(recall(out, y_true).item())\n",
    "            \n",
    "        train_prec = np.mean(train_precision)\n",
    "        train_rec = np.mean(train_recall)\n",
    "        train_f1 = (2 * train_prec * train_rec) / (train_prec + train_rec)\n",
    "        print(f'Epoch: {epoch:03d}, loss: {np.mean(train_loss)}, f1: {train_f1}, precision: {train_prec}, recall: {train_rec}')\n",
    "        \n",
    "        val_loss = []\n",
    "        val_recall = []\n",
    "        val_precision = []\n",
    "        with torch.no_grad():\n",
    "            for g in tqdm(val_data):\n",
    "                g.to(device)\n",
    "                out = model(g.x, g.edge_index, g.edge_weight)\n",
    "        \n",
    "                y_true = g.adj_mat\n",
    "                loss = criterion(out, y_true.to(torch.float32))\n",
    "                                \n",
    "                val_loss.append(loss.item())\n",
    "                \n",
    "#                 out = out.sigmoid()\n",
    "                \n",
    "                val_precision.append(precision(out, y_true).item())\n",
    "                val_recall.append(recall(out, y_true).item())\n",
    " \n",
    "            \n",
    "            prec = np.mean(val_precision)\n",
    "            rec = np.mean(val_recall)\n",
    "            f1 = (2 * prec * rec) / (prec + rec)\n",
    "            print(f'val_loss: {np.mean(val_loss)}, val_f1: {f1}, val_precision: {prec}, val_recall: {rec}')\n",
    "              \n",
    "            wandb.log({\"train_loss\": np.mean(train_loss), \"train_f1\": train_f1, \"train_precision\": train_prec, \n",
    "                       \"train_recall\": train_rec,\n",
    "                       \"val_loss\": np.mean(val_loss), \"val_f1\": f1, \"val_precision\": prec, \"val_recall\": rec})\n",
    "#     wandb.finish()"
   ]
  },
  {
   "cell_type": "code",
   "execution_count": 54,
   "id": "438f41ae",
   "metadata": {},
   "outputs": [
    {
     "data": {
      "application/vnd.jupyter.widget-view+json": {
       "model_id": "2245deb2e7cf4abfae06034803b951c7",
       "version_major": 2,
       "version_minor": 0
      },
      "text/plain": [
       "  0%|          | 0/655 [00:00<?, ?it/s]"
      ]
     },
     "metadata": {},
     "output_type": "display_data"
    },
    {
     "ename": "KeyboardInterrupt",
     "evalue": "",
     "output_type": "error",
     "traceback": [
      "\u001b[0;31m---------------------------------------------------------------------------\u001b[0m",
      "\u001b[0;31mKeyboardInterrupt\u001b[0m                         Traceback (most recent call last)",
      "Cell \u001b[0;32mIn[54], line 1\u001b[0m\n\u001b[0;32m----> 1\u001b[0m \u001b[43mtrain\u001b[49m\u001b[43m(\u001b[49m\u001b[43m)\u001b[49m\n\u001b[1;32m      2\u001b[0m torch\u001b[38;5;241m.\u001b[39msave(model, \u001b[38;5;124m\"\u001b[39m\u001b[38;5;124m./models1/\u001b[39m\u001b[38;5;124m\"\u001b[39m \u001b[38;5;241m+\u001b[39m run_name \u001b[38;5;241m+\u001b[39m \u001b[38;5;124m\"\u001b[39m\u001b[38;5;124m_\u001b[39m\u001b[38;5;124m\"\u001b[39m \u001b[38;5;241m+\u001b[39m \u001b[38;5;28mstr\u001b[39m(epochs) \u001b[38;5;241m+\u001b[39m \u001b[38;5;124m\"\u001b[39m\u001b[38;5;124m.pt\u001b[39m\u001b[38;5;124m\"\u001b[39m)\n",
      "Cell \u001b[0;32mIn[53], line 22\u001b[0m, in \u001b[0;36mtrain\u001b[0;34m()\u001b[0m\n\u001b[1;32m     20\u001b[0m     train_loss\u001b[38;5;241m.\u001b[39mappend(loss\u001b[38;5;241m.\u001b[39mitem())\n\u001b[1;32m     21\u001b[0m     train_precision\u001b[38;5;241m.\u001b[39mappend(precision(out, y_true)\u001b[38;5;241m.\u001b[39mitem())\n\u001b[0;32m---> 22\u001b[0m     train_recall\u001b[38;5;241m.\u001b[39mappend(\u001b[43mrecall\u001b[49m\u001b[43m(\u001b[49m\u001b[43mout\u001b[49m\u001b[43m,\u001b[49m\u001b[43m \u001b[49m\u001b[43my_true\u001b[49m\u001b[43m)\u001b[49m\u001b[38;5;241m.\u001b[39mitem())\n\u001b[1;32m     24\u001b[0m train_prec \u001b[38;5;241m=\u001b[39m np\u001b[38;5;241m.\u001b[39mmean(train_precision)\n\u001b[1;32m     25\u001b[0m train_rec \u001b[38;5;241m=\u001b[39m np\u001b[38;5;241m.\u001b[39mmean(train_recall)\n",
      "Cell \u001b[0;32mIn[36], line 17\u001b[0m, in \u001b[0;36mrecall\u001b[0;34m(y_pred, y_true)\u001b[0m\n\u001b[1;32m     14\u001b[0m     y_pred \u001b[38;5;241m=\u001b[39m del_nucl_conn(y_pred)\n\u001b[1;32m     15\u001b[0m \u001b[38;5;66;03m#     y_pred[(y_pred > 0.5)] = 1\u001b[39;00m\n\u001b[1;32m     16\u001b[0m \u001b[38;5;66;03m#     y_pred[(y_pred <= 0.5)] = 0 \u001b[39;00m\n\u001b[0;32m---> 17\u001b[0m     y_pred \u001b[38;5;241m=\u001b[39m \u001b[43margm\u001b[49m\u001b[43m(\u001b[49m\u001b[43my_pred\u001b[49m\u001b[43m)\u001b[49m\n\u001b[1;32m     18\u001b[0m     y_pred \u001b[38;5;241m=\u001b[39m del_main_diag(y_pred)\n\u001b[1;32m     20\u001b[0m     tp \u001b[38;5;241m=\u001b[39m torch\u001b[38;5;241m.\u001b[39msum(y_pred \u001b[38;5;241m*\u001b[39m y_true)\n",
      "Cell \u001b[0;32mIn[35], line 6\u001b[0m, in \u001b[0;36margm\u001b[0;34m(y)\u001b[0m\n\u001b[1;32m      4\u001b[0m k \u001b[38;5;241m=\u001b[39m \u001b[38;5;241m0\u001b[39m\n\u001b[1;32m      5\u001b[0m \u001b[38;5;28;01mfor\u001b[39;00m i \u001b[38;5;129;01min\u001b[39;00m max_ind:\n\u001b[0;32m----> 6\u001b[0m     \u001b[43my1\u001b[49m\u001b[43m[\u001b[49m\u001b[43mk\u001b[49m\u001b[43m]\u001b[49m\u001b[43m[\u001b[49m\u001b[43mi\u001b[49m\u001b[43m]\u001b[49m \u001b[38;5;241m=\u001b[39m \u001b[38;5;241m1.\u001b[39m\n\u001b[1;32m      7\u001b[0m     y1[i][k] \u001b[38;5;241m=\u001b[39m \u001b[38;5;241m1.\u001b[39m\n\u001b[1;32m      8\u001b[0m     k \u001b[38;5;241m+\u001b[39m\u001b[38;5;241m=\u001b[39m \u001b[38;5;241m1\u001b[39m\n",
      "\u001b[0;31mKeyboardInterrupt\u001b[0m: "
     ]
    }
   ],
   "source": [
    "train()\n",
    "torch.save(model, \"./models1/\" + run_name + \"_\" + str(epochs) + \".pt\")"
   ]
  },
  {
   "cell_type": "code",
   "execution_count": null,
   "id": "65655d69",
   "metadata": {},
   "outputs": [],
   "source": [
    "run_name = \"GatedGCN_\" + str(num_layers) + \"_\" + \"140\" + \"_\" + str(lr) + \"_\" + \"Adam_\" + str(out_channels)\n",
    "\n",
    "\n",
    "torch.save(model, \"./models/\" + run_name + \".pt\")"
   ]
  },
  {
   "cell_type": "code",
   "execution_count": 50,
   "id": "90f75ccd",
   "metadata": {},
   "outputs": [
    {
     "data": {
      "text/html": [
       "Waiting for W&B process to finish... <strong style=\"color:green\">(success).</strong>"
      ],
      "text/plain": [
       "<IPython.core.display.HTML object>"
      ]
     },
     "metadata": {},
     "output_type": "display_data"
    },
    {
     "data": {
      "application/vnd.jupyter.widget-view+json": {
       "model_id": "df2d0f2abd434756988434585f5794b2",
       "version_major": 2,
       "version_minor": 0
      },
      "text/plain": [
       "VBox(children=(Label(value='0.002 MB of 0.008 MB uploaded (0.000 MB deduped)\\r'), FloatProgress(value=0.196361…"
      ]
     },
     "metadata": {},
     "output_type": "display_data"
    },
    {
     "data": {
      "text/html": [
       "<style>\n",
       "    table.wandb td:nth-child(1) { padding: 0 10px; text-align: left ; width: auto;} td:nth-child(2) {text-align: left ; width: 100%}\n",
       "    .wandb-row { display: flex; flex-direction: row; flex-wrap: wrap; justify-content: flex-start; width: 100% }\n",
       "    .wandb-col { display: flex; flex-direction: column; flex-basis: 100%; flex: 1; padding: 10px; }\n",
       "    </style>\n",
       "<div class=\"wandb-row\"><div class=\"wandb-col\"><h3>Run history:</h3><br/><table class=\"wandb\"><tr><td>train_f1</td><td>▁▄▆▆▆▆▆▆▇▇▇▇▇▇▇▇▇██▇██</td></tr><tr><td>train_loss</td><td>█▅▃▃▃▃▃▃▂▂▂▂▂▂▂▂▂▁▁▁▁▁</td></tr><tr><td>train_precision</td><td>▁▄▅▆▆▆▆▆▆▆▇▇▇▇▇▇▇██▇██</td></tr><tr><td>train_recall</td><td>▁▄▆▇▇▇▇▇▇▇▇█▇█████████</td></tr><tr><td>val_f1</td><td>▁▄▅▅▄▅▆▆▆▆▇▇███▇███▇▇█</td></tr><tr><td>val_loss</td><td>█▅▄▄▅▄▃▃▃▃▂▂▂▁▁▂▁▁▁▂▂▂</td></tr><tr><td>val_precision</td><td>▁▄▄▅▄▅▅▅▆▆▆▇▇██▇███▇▇█</td></tr><tr><td>val_recall</td><td>▁▅▅▆▅▆▆▆▇▇▇▇███▇███▇▇█</td></tr></table><br/></div><div class=\"wandb-col\"><h3>Run summary:</h3><br/><table class=\"wandb\"><tr><td>train_f1</td><td>0.03285</td></tr><tr><td>train_loss</td><td>0.96788</td></tr><tr><td>train_precision</td><td>0.02357</td></tr><tr><td>train_recall</td><td>0.0542</td></tr><tr><td>val_f1</td><td>0.03687</td></tr><tr><td>val_loss</td><td>0.96397</td></tr><tr><td>val_precision</td><td>0.02605</td></tr><tr><td>val_recall</td><td>0.06308</td></tr></table><br/></div></div>"
      ],
      "text/plain": [
       "<IPython.core.display.HTML object>"
      ]
     },
     "metadata": {},
     "output_type": "display_data"
    },
    {
     "data": {
      "text/html": [
       " View run <strong style=\"color:#cdcd00\">GatedGCN_argm_6_2e-06_Adam_200_1</strong> at: <a href='https://wandb.ai/chi-vinny0702/secondary_structure_prediction1/runs/9p1pgczo' target=\"_blank\">https://wandb.ai/chi-vinny0702/secondary_structure_prediction1/runs/9p1pgczo</a><br/>Synced 5 W&B file(s), 0 media file(s), 0 artifact file(s) and 0 other file(s)"
      ],
      "text/plain": [
       "<IPython.core.display.HTML object>"
      ]
     },
     "metadata": {},
     "output_type": "display_data"
    },
    {
     "data": {
      "text/html": [
       "Find logs at: <code>./wandb/run-20230407_140029-9p1pgczo/logs</code>"
      ],
      "text/plain": [
       "<IPython.core.display.HTML object>"
      ]
     },
     "metadata": {},
     "output_type": "display_data"
    }
   ],
   "source": [
    "wandb.finish()"
   ]
  }
 ],
 "metadata": {
  "kernelspec": {
   "display_name": "Python 3 (ipykernel)",
   "language": "python",
   "name": "python3"
  },
  "language_info": {
   "codemirror_mode": {
    "name": "ipython",
    "version": 3
   },
   "file_extension": ".py",
   "mimetype": "text/x-python",
   "name": "python",
   "nbconvert_exporter": "python",
   "pygments_lexer": "ipython3",
   "version": "3.9.12"
  }
 },
 "nbformat": 4,
 "nbformat_minor": 5
}
