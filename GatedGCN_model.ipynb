{
 "cells": [
  {
   "cell_type": "code",
   "execution_count": 1,
   "id": "0e9632e0",
   "metadata": {},
   "outputs": [
    {
     "name": "stderr",
     "output_type": "stream",
     "text": [
      "/home/vdshk/SecondaryStructurePredictionGNN/venv/lib/python3.8/site-packages/tqdm/auto.py:22: TqdmWarning: IProgress not found. Please update jupyter and ipywidgets. See https://ipywidgets.readthedocs.io/en/stable/user_install.html\n",
      "  from .autonotebook import tqdm as notebook_tqdm\n"
     ]
    }
   ],
   "source": [
    "import os.path as osp\n",
    "from tqdm.auto import tqdm\n",
    "import numpy as np\n",
    "import wandb\n",
    "\n",
    "import torch\n",
    "from sklearn.metrics import roc_auc_score\n",
    "\n",
    "import torch_geometric.transforms as T\n",
    "from torch_geometric.datasets import Planetoid\n",
    "from torch_geometric.nn import GCNConv, VGAE, GatedGraphConv\n",
    "from torch_geometric.utils import negative_sampling\n",
    "from torch_geometric.loader import DataLoader\n",
    "\n",
    "from dataset_processing import RNADataset\n"
   ]
  },
  {
   "cell_type": "code",
   "execution_count": 2,
   "id": "91d9eeef",
   "metadata": {},
   "outputs": [],
   "source": [
    "dataset = RNADataset(root=\"./data/\")\n",
    "dataset = dataset.shuffle()\n",
    "train_data, val_data, test_data = dataset[0:655], dataset[655:873], dataset[873:]\n",
    "\n",
    "train_dataloader = DataLoader(train_data, batch_size=1, shuffle=False)\n",
    "val_dataloader = DataLoader(val_data, batch_size=1, shuffle=False)\n"
   ]
  },
  {
   "cell_type": "code",
   "execution_count": 93,
   "id": "26761722",
   "metadata": {},
   "outputs": [],
   "source": [
    "def precision(y_pred, y_true):\n",
    "    y_pred[(y_pred > 0.5)] = 1\n",
    "    y_pred[(y_pred <= 0.5)] = 0 \n",
    "    \n",
    "    tp = torch.sum(y_pred * y_true)\n",
    "    fp = torch.sum((1 - y_true) * y_pred)\n",
    "    \n",
    "    return tp / (tp + fp + epsilon)\n",
    "\n",
    "def recall(y_pred, y_true):\n",
    "    y_pred[(y_pred > 0.5)] = 1\n",
    "    y_pred[(y_pred <= 0.5)] = 0\n",
    "    \n",
    "    tp = torch.sum(y_pred * y_true)\n",
    "    fn = torch.sum(y_true * (1 - y_pred))\n",
    "    \n",
    "    return tp / (tp + fn + epsilon)\n",
    "\n",
    "def f1_loss(y_pred, y_true):\n",
    "    tp = torch.sum(y_pred * y_true)\n",
    "    fn = torch.sum(y_true * (1 - y_pred))\n",
    "    fp = torch.sum((1 - y_true) * y_pred)\n",
    "    precision = tp / (tp + fp + epsilon)\n",
    "    recall = tp / (tp + fn + epsilon)\n",
    "\n",
    "#     k1 = 1 - torch.abs(precision - recall)\n",
    "#     k2 = 1 - torch.abs(K.mean(precision) - K.mean(recall))\n",
    "    #calculate upgraded f1 score\n",
    "    f1 = 2 * precision * recall / (precision + recall + epsilon)\n",
    "#     tw = K.sum(K.cast(y_true * y_pred, ’float32’), axis=[1, 2, 3])\n",
    "#     fw = K.sum(K.cast((1 - y_true) * y_pred, ’float32’), axis=[1, 2, 3])\n",
    "#     fb = K.sum(K.cast(y_true * (1 - y_pred), ’float32’), axis=[1, 2, 3])\n",
    "    return 1 - f1\n"
   ]
  },
  {
   "cell_type": "code",
   "execution_count": 112,
   "id": "6c6e6741",
   "metadata": {},
   "outputs": [],
   "source": [
    "class GatedGCNModel(torch.nn.Module):\n",
    "    def __init__(self, in_channels, hidden_channels, num_layers, out_channels, dropout):\n",
    "        super(GatedGCNModel, self).__init__()\n",
    "        self.ggcn = GatedGraphConv(out_channels, num_layers)\n",
    "\n",
    "    def forward(self, x, edge_index):\n",
    "        x = self.ggcn(x, edge_index)\n",
    "        prob_adj = (x @ x.t()).sigmoid()\n",
    "#         return (prob_adj > 0).nonzero(as_tuple=False).t()\n",
    "        return prob_adj\n"
   ]
  },
  {
   "cell_type": "code",
   "execution_count": 249,
   "id": "52fb3010",
   "metadata": {},
   "outputs": [
    {
     "name": "stdout",
     "output_type": "stream",
     "text": [
      "cuda\n"
     ]
    }
   ],
   "source": [
    "hidden_channels = 128\n",
    "out_channels = 300\n",
    "num_layers = 6\n",
    "num_features = dataset.num_features\n",
    "\n",
    "\n",
    "dr = 0.2\n",
    "lr = 0.00007\n",
    "epochs = 580\n",
    "\n",
    "model = GatedGCNModel(num_features, hidden_channels, num_layers, out_channels, dr)\n",
    "\n",
    "device = torch.device('cuda' if torch.cuda.is_available() else 'cpu')\n",
    "model = model.to(device)\n",
    "train_data = list(map(lambda x: x.to(device), train_data))\n",
    "val_data = list(map(lambda x: x.to(device), val_data))\n",
    "print(device)\n",
    "\n",
    "optimizer = torch.optim.Adam(model.parameters(), lr=lr)\n",
    "# optimizer = torch.optim.Adagrad(model.parameters(), lr=lr)\n",
    "# optimizer = torch.optim.SGD(model.parameters(), lr=0.001)\n",
    "# criterion = torch.nn.BCEWithLogitsLoss()\n",
    "\n",
    "# def RMSELoss(y_pred, y_true):\n",
    "#     return torch.sqrt(torch.mean((y_pred - y_true) ** 2))\n",
    "\n",
    "criterion = f1_loss"
   ]
  },
  {
   "cell_type": "code",
   "execution_count": 250,
   "id": "e013e32e",
   "metadata": {},
   "outputs": [
    {
     "data": {
      "text/html": [
       "Finishing last run (ID:zc6f8jhv) before initializing another..."
      ],
      "text/plain": [
       "<IPython.core.display.HTML object>"
      ]
     },
     "metadata": {},
     "output_type": "display_data"
    },
    {
     "data": {
      "text/html": [
       "Waiting for W&B process to finish... <strong style=\"color:green\">(success).</strong>"
      ],
      "text/plain": [
       "<IPython.core.display.HTML object>"
      ]
     },
     "metadata": {},
     "output_type": "display_data"
    },
    {
     "data": {
      "text/html": [
       "<style>\n",
       "    table.wandb td:nth-child(1) { padding: 0 10px; text-align: left ; width: auto;} td:nth-child(2) {text-align: left ; width: 100%}\n",
       "    .wandb-row { display: flex; flex-direction: row; flex-wrap: wrap; justify-content: flex-start; width: 100% }\n",
       "    .wandb-col { display: flex; flex-direction: column; flex-basis: 100%; flex: 1; padding: 10px; }\n",
       "    </style>\n",
       "<div class=\"wandb-row\"><div class=\"wandb-col\"><h3>Run history:</h3><br/><table class=\"wandb\"><tr><td>train_f1</td><td>▁▃▄▃▅▆▆▇█</td></tr><tr><td>train_loss</td><td>█▆▅▅▄▃▃▂▁</td></tr><tr><td>train_precision</td><td>▁▃▄▄▅▆▆▇█</td></tr><tr><td>train_recall</td><td>█▃▁▁▁▁▅▃▆</td></tr><tr><td>val_f1</td><td>▁▄▄▄▆▆▆▇█</td></tr><tr><td>val_loss</td><td>█▅▄▅▃▃▂▂▁</td></tr><tr><td>val_precision</td><td>▁▄▅▄▆▆▆▇█</td></tr><tr><td>val_recall</td><td>█▁▃▆▂▅▅▅▆</td></tr></table><br/></div><div class=\"wandb-col\"><h3>Run summary:</h3><br/><table class=\"wandb\"><tr><td>train_f1</td><td>0.19933</td></tr><tr><td>train_loss</td><td>0.81098</td></tr><tr><td>train_precision</td><td>0.11251</td></tr><tr><td>train_recall</td><td>0.87337</td></tr><tr><td>val_f1</td><td>0.19103</td></tr><tr><td>val_loss</td><td>0.8188</td></tr><tr><td>val_precision</td><td>0.10705</td></tr><tr><td>val_recall</td><td>0.88664</td></tr></table><br/></div></div>"
      ],
      "text/plain": [
       "<IPython.core.display.HTML object>"
      ]
     },
     "metadata": {},
     "output_type": "display_data"
    },
    {
     "data": {
      "text/html": [
       " View run <strong style=\"color:#cdcd00\">GatedGCN_6_580_7e-05_Adam_256</strong> at: <a href='https://wandb.ai/chi-vinny0702/secondary_structure_prediction/runs/zc6f8jhv' target=\"_blank\">https://wandb.ai/chi-vinny0702/secondary_structure_prediction/runs/zc6f8jhv</a><br/>Synced 5 W&B file(s), 0 media file(s), 0 artifact file(s) and 0 other file(s)"
      ],
      "text/plain": [
       "<IPython.core.display.HTML object>"
      ]
     },
     "metadata": {},
     "output_type": "display_data"
    },
    {
     "data": {
      "text/html": [
       "Find logs at: <code>./wandb/run-20230225_182442-zc6f8jhv/logs</code>"
      ],
      "text/plain": [
       "<IPython.core.display.HTML object>"
      ]
     },
     "metadata": {},
     "output_type": "display_data"
    },
    {
     "data": {
      "text/html": [
       "Successfully finished last run (ID:zc6f8jhv). Initializing new run:<br/>"
      ],
      "text/plain": [
       "<IPython.core.display.HTML object>"
      ]
     },
     "metadata": {},
     "output_type": "display_data"
    },
    {
     "data": {
      "text/html": [
       "Tracking run with wandb version 0.13.10"
      ],
      "text/plain": [
       "<IPython.core.display.HTML object>"
      ]
     },
     "metadata": {},
     "output_type": "display_data"
    },
    {
     "data": {
      "text/html": [
       "Run data is saved locally in <code>/home/vdshk/SecondaryStructurePredictionGNN/wandb/run-20230225_182540-9y4zxwzv</code>"
      ],
      "text/plain": [
       "<IPython.core.display.HTML object>"
      ]
     },
     "metadata": {},
     "output_type": "display_data"
    },
    {
     "data": {
      "text/html": [
       "Syncing run <strong><a href='https://wandb.ai/chi-vinny0702/secondary_structure_prediction/runs/9y4zxwzv' target=\"_blank\">GatedGCN_6_580_7e-05_Adam_300</a></strong> to <a href='https://wandb.ai/chi-vinny0702/secondary_structure_prediction' target=\"_blank\">Weights & Biases</a> (<a href='https://wandb.me/run' target=\"_blank\">docs</a>)<br/>"
      ],
      "text/plain": [
       "<IPython.core.display.HTML object>"
      ]
     },
     "metadata": {},
     "output_type": "display_data"
    },
    {
     "data": {
      "text/html": [
       " View project at <a href='https://wandb.ai/chi-vinny0702/secondary_structure_prediction' target=\"_blank\">https://wandb.ai/chi-vinny0702/secondary_structure_prediction</a>"
      ],
      "text/plain": [
       "<IPython.core.display.HTML object>"
      ]
     },
     "metadata": {},
     "output_type": "display_data"
    },
    {
     "data": {
      "text/html": [
       " View run at <a href='https://wandb.ai/chi-vinny0702/secondary_structure_prediction/runs/9y4zxwzv' target=\"_blank\">https://wandb.ai/chi-vinny0702/secondary_structure_prediction/runs/9y4zxwzv</a>"
      ],
      "text/plain": [
       "<IPython.core.display.HTML object>"
      ]
     },
     "metadata": {},
     "output_type": "display_data"
    }
   ],
   "source": [
    "run_name = \"GatedGCN_\" + str(num_layers) + \"_\" + str(epochs) + \"_\" + str(lr) + \"_\" + \"Adam_\" + str(out_channels)\n",
    "\n",
    "\n",
    "wandb.init(\n",
    "    # set the wandb project where this run will be logged\n",
    "    project=\"secondary_structure_prediction\",\n",
    "    \n",
    "    # track hyperparameters and run metadata\n",
    "    config={\n",
    "    \"learning_rate\": lr,\n",
    "    \"architecture\": \"GatedGCN\",\n",
    "    \"epochs\": epochs,\n",
    "    \"optimizer\": \"Amsgrad\",\n",
    "    \"out_channels\": out_channels,\n",
    "    \"loss\": \"f1_loss\",\n",
    "    \"train:val:test\": \"655:218:218\"\n",
    "    },\n",
    "    name=run_name\n",
    ")\n",
    "\n",
    "epsilon = 1e-10"
   ]
  },
  {
   "cell_type": "code",
   "execution_count": 251,
   "id": "01199efe",
   "metadata": {},
   "outputs": [],
   "source": [
    "def train():\n",
    "    for epoch in range(1, epochs + 1):\n",
    "        model.train()\n",
    "        train_loss = []\n",
    "        train_recall = []\n",
    "        train_precision = []\n",
    "        for g in tqdm(train_data, ncols=100):\n",
    "            g.to(device)\n",
    "            optimizer.zero_grad()\n",
    "\n",
    "            out = model(g.x, g.edge_index)\n",
    "            y_true = g.edge_label_index\n",
    "            loss = criterion(out, y_true)            \n",
    "            \n",
    "            loss.backward()\n",
    "            optimizer.step()\n",
    "            \n",
    "            train_loss.append(loss.item())\n",
    "            train_precision.append(precision(out, y_true).item())\n",
    "            train_recall.append(recall(out, y_true).item())\n",
    "            \n",
    "        train_prec = np.mean(train_precision)\n",
    "        train_rec = np.mean(train_recall)\n",
    "        train_f1 = (2 * train_prec * train_rec) / (train_prec + train_rec)\n",
    "        print(f'Epoch: {epoch:03d}, loss: {np.mean(train_loss)}, f1: {train_f1}, precision: {train_prec}, recall: {train_rec}')\n",
    "        \n",
    "        val_loss = []\n",
    "        val_recall = []\n",
    "        val_precision = []\n",
    "        with torch.no_grad():\n",
    "            for g in tqdm(val_data, ncols=100):\n",
    "                g.to(device)\n",
    "                out = model(g.x, g.edge_index)\n",
    "        \n",
    "                y_true = g.edge_label_index\n",
    "                loss = criterion(out, y_true)\n",
    "                                \n",
    "                val_loss.append(loss.item())\n",
    "                val_precision.append(precision(out, y_true).item())\n",
    "                val_recall.append(recall(out, y_true).item())\n",
    " \n",
    "            \n",
    "            prec = np.mean(val_precision)\n",
    "            rec = np.mean(val_recall)\n",
    "            f1 = (2 * prec * rec) / (prec + rec)\n",
    "            print(f'val_loss: {np.mean(val_loss)}, val_f1: {f1}, val_precision: {prec}, val_recall: {rec}')\n",
    "              \n",
    "            wandb.log({\"train_loss\": np.mean(train_loss), \"train_f1\": train_f1, \"train_precision\": train_prec, \n",
    "                       \"train_recall\": train_rec,\n",
    "                       \"val_loss\": np.mean(val_loss), \"val_f1\": f1, \"val_precision\": prec, \"val_recall\": rec})\n",
    "#     wandb.finish()"
   ]
  },
  {
   "cell_type": "code",
   "execution_count": null,
   "id": "438f41ae",
   "metadata": {},
   "outputs": [
    {
     "name": "stderr",
     "output_type": "stream",
     "text": [
      "100%|████████████████████████████████████████████████████████████| 655/655 [00:04<00:00, 154.10it/s]\n"
     ]
    },
    {
     "name": "stdout",
     "output_type": "stream",
     "text": [
      "Epoch: 001, loss: 0.8652826594942399, f1: 0.14060851103907063, precision: 0.07632150753251923, recall: 0.8917237894680664\n"
     ]
    },
    {
     "name": "stderr",
     "output_type": "stream",
     "text": [
      "100%|████████████████████████████████████████████████████████████| 218/218 [00:00<00:00, 502.94it/s]\n"
     ]
    },
    {
     "name": "stdout",
     "output_type": "stream",
     "text": [
      "val_loss: 0.8570214072498706, val_f1: 0.14793691111080093, val_precision: 0.081119082825378, val_recall: 0.8391226456252807\n"
     ]
    },
    {
     "name": "stderr",
     "output_type": "stream",
     "text": [
      "100%|████████████████████████████████████████████████████████████| 655/655 [00:04<00:00, 151.44it/s]\n"
     ]
    },
    {
     "name": "stdout",
     "output_type": "stream",
     "text": [
      "Epoch: 002, loss: 0.8464378568052335, f1: 0.16108442003523224, precision: 0.08901670731973785, recall: 0.84602095916981\n"
     ]
    },
    {
     "name": "stderr",
     "output_type": "stream",
     "text": [
      "100%|████████████████████████████████████████████████████████████| 218/218 [00:00<00:00, 504.02it/s]\n"
     ]
    },
    {
     "name": "stdout",
     "output_type": "stream",
     "text": [
      "val_loss: 0.8631916510949441, val_f1: 0.14190997305794403, val_precision: 0.07720064097981251, val_recall: 0.8770530748804775\n"
     ]
    },
    {
     "name": "stderr",
     "output_type": "stream",
     "text": [
      "100%|████████████████████████████████████████████████████████████| 655/655 [00:04<00:00, 151.39it/s]\n"
     ]
    },
    {
     "name": "stdout",
     "output_type": "stream",
     "text": [
      "Epoch: 003, loss: 0.8476851396888267, f1: 0.1596708184321105, precision: 0.08803556061115202, recall: 0.8571006397709592\n"
     ]
    },
    {
     "name": "stderr",
     "output_type": "stream",
     "text": [
      "100%|████████████████████████████████████████████████████████████| 218/218 [00:00<00:00, 500.00it/s]\n"
     ]
    },
    {
     "name": "stdout",
     "output_type": "stream",
     "text": [
      "val_loss: 0.8522690993930222, val_f1: 0.15421143343629626, val_precision: 0.08422779652435299, val_recall: 0.9118747325665361\n"
     ]
    },
    {
     "name": "stderr",
     "output_type": "stream",
     "text": [
      "100%|████████████████████████████████████████████████████████████| 655/655 [00:04<00:00, 150.36it/s]\n"
     ]
    },
    {
     "name": "stdout",
     "output_type": "stream",
     "text": [
      "Epoch: 004, loss: 0.836356854893779, f1: 0.1713792593028339, precision: 0.09565293662079417, recall: 0.8226650789038825\n"
     ]
    },
    {
     "name": "stderr",
     "output_type": "stream",
     "text": [
      "100%|████████████████████████████████████████████████████████████| 218/218 [00:00<00:00, 506.28it/s]\n"
     ]
    },
    {
     "name": "stdout",
     "output_type": "stream",
     "text": [
      "val_loss: 0.8394742862347069, val_f1: 0.16909687726290526, val_precision: 0.09403863785053612, val_recall: 0.8377927394088255\n"
     ]
    },
    {
     "name": "stderr",
     "output_type": "stream",
     "text": [
      "100%|████████████████████████████████████████████████████████████| 655/655 [00:04<00:00, 147.97it/s]\n"
     ]
    },
    {
     "name": "stdout",
     "output_type": "stream",
     "text": [
      "Epoch: 005, loss: 0.8346449464332056, f1: 0.17338834099699524, precision: 0.09708228643898291, recall: 0.81020161318415\n"
     ]
    },
    {
     "name": "stderr",
     "output_type": "stream",
     "text": [
      "100%|████████████████████████████████████████████████████████████| 218/218 [00:00<00:00, 521.00it/s]\n"
     ]
    },
    {
     "name": "stdout",
     "output_type": "stream",
     "text": [
      "val_loss: 0.8441715749031907, val_f1: 0.16212107944931456, val_precision: 0.0899213081687142, val_recall: 0.8226227577126354\n"
     ]
    },
    {
     "name": "stderr",
     "output_type": "stream",
     "text": [
      "100%|████████████████████████████████████████████████████████████| 655/655 [00:04<00:00, 148.92it/s]\n"
     ]
    },
    {
     "name": "stdout",
     "output_type": "stream",
     "text": [
      "Epoch: 006, loss: 0.8276520730884931, f1: 0.18099809145352513, precision: 0.10149263339472636, recall: 0.8354858075389425\n"
     ]
    },
    {
     "name": "stderr",
     "output_type": "stream",
     "text": [
      "100%|████████████████████████████████████████████████████████████| 218/218 [00:00<00:00, 509.07it/s]\n"
     ]
    },
    {
     "name": "stdout",
     "output_type": "stream",
     "text": [
      "val_loss: 0.8315473223498108, val_f1: 0.17643952580237732, val_precision: 0.098851167434536, val_recall: 0.8202704098246513\n"
     ]
    },
    {
     "name": "stderr",
     "output_type": "stream",
     "text": [
      "100%|████████████████████████████████████████████████████████████| 655/655 [00:04<00:00, 149.38it/s]\n"
     ]
    },
    {
     "name": "stdout",
     "output_type": "stream",
     "text": [
      "Epoch: 007, loss: 0.823466543841908, f1: 0.1864788562929925, precision: 0.10484885144552201, recall: 0.8420786027689926\n"
     ]
    },
    {
     "name": "stderr",
     "output_type": "stream",
     "text": [
      "100%|████████████████████████████████████████████████████████████| 218/218 [00:00<00:00, 504.84it/s]\n"
     ]
    },
    {
     "name": "stdout",
     "output_type": "stream",
     "text": [
      "val_loss: 0.8321333437337788, val_f1: 0.17726051019799507, val_precision: 0.09878742239873754, val_recall: 0.8620075055765449\n"
     ]
    },
    {
     "name": "stderr",
     "output_type": "stream",
     "text": [
      "100%|████████████████████████████████████████████████████████████| 655/655 [00:04<00:00, 150.04it/s]\n"
     ]
    },
    {
     "name": "stdout",
     "output_type": "stream",
     "text": [
      "Epoch: 008, loss: 0.8176667563787854, f1: 0.19219182330197118, precision: 0.10822109299363526, recall: 0.8576865200778\n"
     ]
    },
    {
     "name": "stderr",
     "output_type": "stream",
     "text": [
      "100%|████████████████████████████████████████████████████████████| 218/218 [00:00<00:00, 504.67it/s]\n"
     ]
    },
    {
     "name": "stdout",
     "output_type": "stream",
     "text": [
      "val_loss: 0.825813569606991, val_f1: 0.1844484645180309, val_precision: 0.10412395287971568, val_recall: 0.806972862657057\n"
     ]
    },
    {
     "name": "stderr",
     "output_type": "stream",
     "text": [
      "100%|████████████████████████████████████████████████████████████| 655/655 [00:04<00:00, 150.30it/s]\n"
     ]
    },
    {
     "name": "stdout",
     "output_type": "stream",
     "text": [
      "Epoch: 009, loss: 0.8152037705173929, f1: 0.19574466745733865, precision: 0.11045391648040928, recall: 0.8592227852981509\n"
     ]
    },
    {
     "name": "stderr",
     "output_type": "stream",
     "text": [
      "100%|████████████████████████████████████████████████████████████| 218/218 [00:00<00:00, 503.60it/s]\n"
     ]
    },
    {
     "name": "stdout",
     "output_type": "stream",
     "text": [
      "val_loss: 0.8254425011643576, val_f1: 0.18306145608889152, val_precision: 0.10144895864137952, val_recall: 0.9362251616399223\n"
     ]
    },
    {
     "name": "stderr",
     "output_type": "stream",
     "text": [
      "100%|████████████████████████████████████████████████████████████| 655/655 [00:04<00:00, 148.10it/s]\n"
     ]
    },
    {
     "name": "stdout",
     "output_type": "stream",
     "text": [
      "Epoch: 010, loss: 0.8118806200173065, f1: 0.19936883529753113, precision: 0.11265501485469231, recall: 0.8658005003710739\n"
     ]
    },
    {
     "name": "stderr",
     "output_type": "stream",
     "text": [
      "100%|████████████████████████████████████████████████████████████| 218/218 [00:00<00:00, 507.14it/s]\n"
     ]
    },
    {
     "name": "stdout",
     "output_type": "stream",
     "text": [
      "val_loss: 0.8200833909555313, val_f1: 0.1890603467617622, val_precision: 0.10632246551146611, val_recall: 0.852309371900121\n"
     ]
    },
    {
     "name": "stderr",
     "output_type": "stream",
     "text": [
      "100%|████████████████████████████████████████████████████████████| 655/655 [00:04<00:00, 147.96it/s]\n"
     ]
    },
    {
     "name": "stdout",
     "output_type": "stream",
     "text": [
      "Epoch: 011, loss: 0.8094736954638067, f1: 0.2018686328719007, precision: 0.11417580748275491, recall: 0.870314154279141\n"
     ]
    },
    {
     "name": "stderr",
     "output_type": "stream",
     "text": [
      "100%|████████████████████████████████████████████████████████████| 218/218 [00:00<00:00, 499.98it/s]\n"
     ]
    },
    {
     "name": "stdout",
     "output_type": "stream",
     "text": [
      "val_loss: 0.8154296358244135, val_f1: 0.19490850833968507, val_precision: 0.109658640172811, val_recall: 0.8756442961342837\n"
     ]
    },
    {
     "name": "stderr",
     "output_type": "stream",
     "text": [
      "100%|████████████████████████████████████████████████████████████| 655/655 [00:04<00:00, 148.03it/s]\n"
     ]
    },
    {
     "name": "stdout",
     "output_type": "stream",
     "text": [
      "Epoch: 012, loss: 0.8128431262860771, f1: 0.19828510092690874, precision: 0.11166455208800222, recall: 0.8841005473646499\n"
     ]
    },
    {
     "name": "stderr",
     "output_type": "stream",
     "text": [
      "100%|████████████████████████████████████████████████████████████| 218/218 [00:00<00:00, 510.30it/s]\n"
     ]
    },
    {
     "name": "stdout",
     "output_type": "stream",
     "text": [
      "val_loss: 0.8168466698139085, val_f1: 0.1928194439138285, val_precision: 0.10842176105553678, val_recall: 0.8702029481940313\n"
     ]
    },
    {
     "name": "stderr",
     "output_type": "stream",
     "text": [
      "100%|████████████████████████████████████████████████████████████| 655/655 [00:04<00:00, 149.59it/s]\n"
     ]
    },
    {
     "name": "stdout",
     "output_type": "stream",
     "text": [
      "Epoch: 013, loss: 0.8046878772837515, f1: 0.20669656984807658, precision: 0.11717009001219546, recall: 0.8761032129972036\n"
     ]
    },
    {
     "name": "stderr",
     "output_type": "stream",
     "text": [
      "100%|████████████████████████████████████████████████████████████| 218/218 [00:00<00:00, 506.04it/s]\n"
     ]
    },
    {
     "name": "stdout",
     "output_type": "stream",
     "text": [
      "val_loss: 0.8135969860291262, val_f1: 0.1971453870798738, val_precision: 0.11089642010116522, val_recall: 0.8870173140403328\n"
     ]
    },
    {
     "name": "stderr",
     "output_type": "stream",
     "text": [
      "100%|████████████████████████████████████████████████████████████| 655/655 [00:04<00:00, 148.75it/s]\n"
     ]
    },
    {
     "name": "stdout",
     "output_type": "stream",
     "text": [
      "Epoch: 014, loss: 0.8028706468698633, f1: 0.20857377281580858, precision: 0.11832124857615879, recall: 0.879224467914523\n"
     ]
    },
    {
     "name": "stderr",
     "output_type": "stream",
     "text": [
      "100%|████████████████████████████████████████████████████████████| 218/218 [00:00<00:00, 507.10it/s]\n"
     ]
    },
    {
     "name": "stdout",
     "output_type": "stream",
     "text": [
      "val_loss: 0.8116196637306738, val_f1: 0.19813031493439548, val_precision: 0.11222659377808418, val_recall: 0.8447212691700786\n"
     ]
    },
    {
     "name": "stderr",
     "output_type": "stream",
     "text": [
      "100%|████████████████████████████████████████████████████████████| 655/655 [00:04<00:00, 149.20it/s]\n"
     ]
    },
    {
     "name": "stdout",
     "output_type": "stream",
     "text": [
      "Epoch: 015, loss: 0.7995609670194961, f1: 0.2115855958884223, precision: 0.12033104067881599, recall: 0.8756324753506493\n"
     ]
    },
    {
     "name": "stderr",
     "output_type": "stream",
     "text": [
      "100%|████████████████████████████████████████████████████████████| 218/218 [00:00<00:00, 508.98it/s]\n"
     ]
    },
    {
     "name": "stdout",
     "output_type": "stream",
     "text": [
      "val_loss: 0.8096329381159686, val_f1: 0.1999722217229109, val_precision: 0.11275241863187574, val_recall: 0.8830803731165895\n"
     ]
    },
    {
     "name": "stderr",
     "output_type": "stream",
     "text": [
      "100%|████████████████████████████████████████████████████████████| 655/655 [00:04<00:00, 150.34it/s]\n"
     ]
    },
    {
     "name": "stdout",
     "output_type": "stream",
     "text": [
      "Epoch: 016, loss: 0.7985474510957267, f1: 0.21296744800522566, precision: 0.12105305061199283, recall: 0.8847477976602452\n"
     ]
    },
    {
     "name": "stderr",
     "output_type": "stream",
     "text": [
      "100%|████████████████████████████████████████████████████████████| 218/218 [00:00<00:00, 480.41it/s]\n"
     ]
    },
    {
     "name": "stdout",
     "output_type": "stream",
     "text": [
      "val_loss: 0.806881268636896, val_f1: 0.20338556208271652, val_precision: 0.11432105783851595, val_recall: 0.9206027465129117\n"
     ]
    },
    {
     "name": "stderr",
     "output_type": "stream",
     "text": [
      "100%|████████████████████████████████████████████████████████████| 655/655 [00:04<00:00, 147.77it/s]\n"
     ]
    },
    {
     "name": "stdout",
     "output_type": "stream",
     "text": [
      "Epoch: 017, loss: 0.798585605439339, f1: 0.2132056921757102, precision: 0.12109770056229967, recall: 0.8906167052174343\n"
     ]
    },
    {
     "name": "stderr",
     "output_type": "stream",
     "text": [
      "100%|████████████████████████████████████████████████████████████| 218/218 [00:00<00:00, 500.31it/s]\n"
     ]
    },
    {
     "name": "stdout",
     "output_type": "stream",
     "text": [
      "val_loss: 0.807622017936969, val_f1: 0.20241622301561385, val_precision: 0.11377447362510709, val_recall: 0.9163272159362058\n"
     ]
    },
    {
     "name": "stderr",
     "output_type": "stream",
     "text": [
      "100%|████████████████████████████████████████████████████████████| 655/655 [00:04<00:00, 150.06it/s]\n"
     ]
    },
    {
     "name": "stdout",
     "output_type": "stream",
     "text": [
      "Epoch: 018, loss: 0.7944024597415488, f1: 0.21782116234153073, precision: 0.12422618039577972, recall: 0.8833833599818571\n"
     ]
    },
    {
     "name": "stderr",
     "output_type": "stream",
     "text": [
      "100%|████████████████████████████████████████████████████████████| 218/218 [00:00<00:00, 506.72it/s]\n"
     ]
    },
    {
     "name": "stdout",
     "output_type": "stream",
     "text": [
      "val_loss: 0.8057570766418352, val_f1: 0.2047114891171878, val_precision: 0.1167478780988433, val_recall: 0.8303019114590566\n"
     ]
    },
    {
     "name": "stderr",
     "output_type": "stream",
     "text": [
      "100%|████████████████████████████████████████████████████████████| 655/655 [00:04<00:00, 149.10it/s]\n"
     ]
    },
    {
     "name": "stdout",
     "output_type": "stream",
     "text": [
      "Epoch: 019, loss: 0.7957554461391827, f1: 0.2163937297436326, precision: 0.12341591365464771, recall: 0.8774014147183368\n"
     ]
    },
    {
     "name": "stderr",
     "output_type": "stream",
     "text": [
      "100%|████████████████████████████████████████████████████████████| 218/218 [00:00<00:00, 506.20it/s]\n"
     ]
    },
    {
     "name": "stdout",
     "output_type": "stream",
     "text": [
      "val_loss: 0.8048326137962691, val_f1: 0.20620786745639275, val_precision: 0.11657117601962538, val_recall: 0.892457902431488\n"
     ]
    },
    {
     "name": "stderr",
     "output_type": "stream",
     "text": [
      "100%|████████████████████████████████████████████████████████████| 655/655 [00:04<00:00, 150.88it/s]\n"
     ]
    },
    {
     "name": "stdout",
     "output_type": "stream",
     "text": [
      "Epoch: 020, loss: 0.7981624581431614, f1: 0.21421743591571732, precision: 0.12181751718104795, recall: 0.8870688825163222\n"
     ]
    },
    {
     "name": "stderr",
     "output_type": "stream",
     "text": [
      "100%|████████████████████████████████████████████████████████████| 218/218 [00:00<00:00, 506.37it/s]\n"
     ]
    },
    {
     "name": "stdout",
     "output_type": "stream",
     "text": [
      "val_loss: 0.8037507736354793, val_f1: 0.2068262586263452, val_precision: 0.11693489216609833, val_recall: 0.8943067007108566\n"
     ]
    },
    {
     "name": "stderr",
     "output_type": "stream",
     "text": [
      "100%|████████████████████████████████████████████████████████████| 655/655 [00:04<00:00, 149.66it/s]\n"
     ]
    },
    {
     "name": "stdout",
     "output_type": "stream",
     "text": [
      "Epoch: 021, loss: 0.7934146093048212, f1: 0.21917096473494932, precision: 0.12518777597325903, recall: 0.8792785960299369\n"
     ]
    },
    {
     "name": "stderr",
     "output_type": "stream",
     "text": [
      "100%|████████████████████████████████████████████████████████████| 218/218 [00:00<00:00, 483.97it/s]\n"
     ]
    },
    {
     "name": "stdout",
     "output_type": "stream",
     "text": [
      "val_loss: 0.8039352202087368, val_f1: 0.206606885787252, val_precision: 0.11695884832035784, val_recall: 0.8847962642481567\n"
     ]
    },
    {
     "name": "stderr",
     "output_type": "stream",
     "text": [
      "100%|████████████████████████████████████████████████████████████| 655/655 [00:04<00:00, 146.26it/s]\n"
     ]
    },
    {
     "name": "stdout",
     "output_type": "stream",
     "text": [
      "Epoch: 022, loss: 0.7922371824279086, f1: 0.22059176717423096, precision: 0.12600984304062737, recall: 0.8844598982170337\n"
     ]
    },
    {
     "name": "stderr",
     "output_type": "stream",
     "text": [
      "100%|████████████████████████████████████████████████████████████| 218/218 [00:00<00:00, 477.37it/s]\n"
     ]
    },
    {
     "name": "stdout",
     "output_type": "stream",
     "text": [
      "val_loss: 0.8049524883064655, val_f1: 0.20525824111227461, val_precision: 0.11558953197587521, val_recall: 0.9153144624801951\n"
     ]
    },
    {
     "name": "stderr",
     "output_type": "stream",
     "text": [
      "100%|████████████████████████████████████████████████████████████| 655/655 [00:04<00:00, 147.97it/s]\n"
     ]
    },
    {
     "name": "stdout",
     "output_type": "stream",
     "text": [
      "Epoch: 023, loss: 0.7910002299847494, f1: 0.22181187034549144, precision: 0.12690680311096988, recall: 0.8796221388205318\n"
     ]
    },
    {
     "name": "stderr",
     "output_type": "stream",
     "text": [
      "100%|████████████████████████████████████████████████████████████| 218/218 [00:00<00:00, 506.53it/s]\n"
     ]
    },
    {
     "name": "stdout",
     "output_type": "stream",
     "text": [
      "val_loss: 0.802522763746594, val_f1: 0.20822948652746628, val_precision: 0.11819360233040167, val_recall: 0.8740549574204541\n"
     ]
    },
    {
     "name": "stderr",
     "output_type": "stream",
     "text": [
      "100%|████████████████████████████████████████████████████████████| 655/655 [00:04<00:00, 148.34it/s]\n"
     ]
    },
    {
     "name": "stdout",
     "output_type": "stream",
     "text": [
      "Epoch: 024, loss: 0.7907777682515501, f1: 0.22186132794796753, precision: 0.12696358103674787, recall: 0.8784523920248483\n"
     ]
    },
    {
     "name": "stderr",
     "output_type": "stream",
     "text": [
      "100%|████████████████████████████████████████████████████████████| 218/218 [00:00<00:00, 511.87it/s]\n"
     ]
    },
    {
     "name": "stdout",
     "output_type": "stream",
     "text": [
      "val_loss: 0.8022101048482667, val_f1: 0.20816841409020212, val_precision: 0.11887726365426264, val_recall: 0.8364225224070593\n"
     ]
    },
    {
     "name": "stderr",
     "output_type": "stream",
     "text": [
      "100%|████████████████████████████████████████████████████████████| 655/655 [00:04<00:00, 150.34it/s]\n"
     ]
    },
    {
     "name": "stdout",
     "output_type": "stream",
     "text": [
      "Epoch: 025, loss: 0.789222395147076, f1: 0.22316801196863742, precision: 0.12780387401296436, recall: 0.879222211764969\n"
     ]
    },
    {
     "name": "stderr",
     "output_type": "stream",
     "text": [
      "100%|████████████████████████████████████████████████████████████| 218/218 [00:00<00:00, 508.67it/s]\n"
     ]
    },
    {
     "name": "stdout",
     "output_type": "stream",
     "text": [
      "val_loss: 0.8018348539641144, val_f1: 0.20874663469749333, val_precision: 0.11818634861345412, val_recall: 0.8930336168599785\n"
     ]
    },
    {
     "name": "stderr",
     "output_type": "stream",
     "text": [
      "100%|████████████████████████████████████████████████████████████| 655/655 [00:04<00:00, 149.22it/s]\n"
     ]
    },
    {
     "name": "stdout",
     "output_type": "stream",
     "text": [
      "Epoch: 026, loss: 0.7876507306826933, f1: 0.22498445906974399, precision: 0.12910150404991083, recall: 0.8743859350226307\n"
     ]
    },
    {
     "name": "stderr",
     "output_type": "stream",
     "text": [
      "100%|████████████████████████████████████████████████████████████| 218/218 [00:00<00:00, 507.41it/s]\n"
     ]
    },
    {
     "name": "stdout",
     "output_type": "stream",
     "text": [
      "val_loss: 0.8011136899847503, val_f1: 0.21044486005887458, val_precision: 0.11987994400647665, val_recall: 0.8605865251033677\n"
     ]
    },
    {
     "name": "stderr",
     "output_type": "stream",
     "text": [
      "100%|████████████████████████████████████████████████████████████| 655/655 [00:04<00:00, 148.22it/s]\n"
     ]
    },
    {
     "name": "stdout",
     "output_type": "stream",
     "text": [
      "Epoch: 027, loss: 0.7893792978679861, f1: 0.22324184601678063, precision: 0.12801428622644367, recall: 0.8716376619484588\n"
     ]
    },
    {
     "name": "stderr",
     "output_type": "stream",
     "text": [
      "100%|████████████████████████████████████████████████████████████| 218/218 [00:00<00:00, 510.43it/s]\n"
     ]
    },
    {
     "name": "stdout",
     "output_type": "stream",
     "text": [
      "val_loss: 0.7959463708444473, val_f1: 0.21516111931367232, val_precision: 0.12258524133251347, val_recall: 0.8789116059421399\n"
     ]
    },
    {
     "name": "stderr",
     "output_type": "stream",
     "text": [
      "100%|████████████████████████████████████████████████████████████| 655/655 [00:04<00:00, 150.56it/s]\n"
     ]
    },
    {
     "name": "stdout",
     "output_type": "stream",
     "text": [
      "Epoch: 028, loss: 0.7844236881678341, f1: 0.22839588239889738, precision: 0.13088540471237126, recall: 0.8956929697335222\n"
     ]
    },
    {
     "name": "stderr",
     "output_type": "stream",
     "text": [
      "100%|████████████████████████████████████████████████████████████| 218/218 [00:00<00:00, 501.77it/s]\n"
     ]
    },
    {
     "name": "stdout",
     "output_type": "stream",
     "text": [
      "val_loss: 0.7954725505562004, val_f1: 0.21492766795786128, val_precision: 0.12200456205755472, val_recall: 0.9016796085265798\n"
     ]
    },
    {
     "name": "stderr",
     "output_type": "stream",
     "text": [
      "100%|████████████████████████████████████████████████████████████| 655/655 [00:04<00:00, 148.06it/s]\n"
     ]
    },
    {
     "name": "stdout",
     "output_type": "stream",
     "text": [
      "Epoch: 029, loss: 0.7846308704550939, f1: 0.22868896193812566, precision: 0.13155526087427413, recall: 0.874023031278421\n"
     ]
    },
    {
     "name": "stderr",
     "output_type": "stream",
     "text": [
      "100%|████████████████████████████████████████████████████████████| 218/218 [00:00<00:00, 509.85it/s]\n"
     ]
    },
    {
     "name": "stdout",
     "output_type": "stream",
     "text": [
      "val_loss: 0.7950609607980885, val_f1: 0.21543941883104714, val_precision: 0.12283058394464332, val_recall: 0.875612777034077\n"
     ]
    },
    {
     "name": "stderr",
     "output_type": "stream",
     "text": [
      "100%|████████████████████████████████████████████████████████████| 655/655 [00:04<00:00, 148.60it/s]\n"
     ]
    },
    {
     "name": "stdout",
     "output_type": "stream",
     "text": [
      "Epoch: 030, loss: 0.786410546029797, f1: 0.22651631620649848, precision: 0.12996457074662202, recall: 0.881071730697428\n"
     ]
    },
    {
     "name": "stderr",
     "output_type": "stream",
     "text": [
      "100%|████████████████████████████████████████████████████████████| 218/218 [00:00<00:00, 508.61it/s]\n"
     ]
    },
    {
     "name": "stdout",
     "output_type": "stream",
     "text": [
      "val_loss: 0.7958984927299919, val_f1: 0.2153707369303179, val_precision: 0.12267169458877056, val_recall: 0.8814666465334936\n"
     ]
    },
    {
     "name": "stderr",
     "output_type": "stream",
     "text": [
      "100%|████████████████████████████████████████████████████████████| 655/655 [00:04<00:00, 148.24it/s]\n"
     ]
    },
    {
     "name": "stdout",
     "output_type": "stream",
     "text": [
      "Epoch: 031, loss: 0.7832966930993641, f1: 0.22959901692185947, precision: 0.13198610885168305, recall: 0.8816135870591375\n"
     ]
    },
    {
     "name": "stderr",
     "output_type": "stream",
     "text": [
      "100%|████████████████████████████████████████████████████████████| 218/218 [00:00<00:00, 505.01it/s]\n"
     ]
    },
    {
     "name": "stdout",
     "output_type": "stream",
     "text": [
      "val_loss: 0.7914086375214638, val_f1: 0.21930542320535001, val_precision: 0.12506371416117346, val_recall: 0.8898561484769943\n"
     ]
    },
    {
     "name": "stderr",
     "output_type": "stream",
     "text": [
      "100%|████████████████████████████████████████████████████████████| 655/655 [00:04<00:00, 148.72it/s]\n"
     ]
    },
    {
     "name": "stdout",
     "output_type": "stream",
     "text": [
      "Epoch: 032, loss: 0.7839413977761305, f1: 0.22943623569639016, precision: 0.1320379138675355, recall: 0.874556544809851\n"
     ]
    },
    {
     "name": "stderr",
     "output_type": "stream",
     "text": [
      "100%|████████████████████████████████████████████████████████████| 218/218 [00:00<00:00, 496.08it/s]\n"
     ]
    },
    {
     "name": "stdout",
     "output_type": "stream",
     "text": [
      "val_loss: 0.7968405865201162, val_f1: 0.21386909903497894, val_precision: 0.12152675902385504, val_recall: 0.8905717276651924\n"
     ]
    },
    {
     "name": "stderr",
     "output_type": "stream",
     "text": [
      "100%|████████████████████████████████████████████████████████████| 655/655 [00:04<00:00, 148.62it/s]\n"
     ]
    },
    {
     "name": "stdout",
     "output_type": "stream",
     "text": [
      "Epoch: 033, loss: 0.7817255782717056, f1: 0.23140495406466738, precision: 0.13328485848908206, recall: 0.8770932604338376\n"
     ]
    },
    {
     "name": "stderr",
     "output_type": "stream",
     "text": [
      "100%|████████████████████████████████████████████████████████████| 218/218 [00:00<00:00, 506.98it/s]\n"
     ]
    },
    {
     "name": "stdout",
     "output_type": "stream",
     "text": [
      "val_loss: 0.7965414556888265, val_f1: 0.21391932623156587, val_precision: 0.12225048337986164, val_recall: 0.8551451323229239\n"
     ]
    },
    {
     "name": "stderr",
     "output_type": "stream",
     "text": [
      "100%|████████████████████████████████████████████████████████████| 655/655 [00:04<00:00, 149.06it/s]\n"
     ]
    },
    {
     "name": "stdout",
     "output_type": "stream",
     "text": [
      "Epoch: 034, loss: 0.7809340864647436, f1: 0.23238376837563282, precision: 0.13405697036335487, recall: 0.8718867528529568\n"
     ]
    },
    {
     "name": "stderr",
     "output_type": "stream",
     "text": [
      "100%|████████████████████████████████████████████████████████████| 218/218 [00:00<00:00, 507.74it/s]\n"
     ]
    },
    {
     "name": "stdout",
     "output_type": "stream",
     "text": [
      "val_loss: 0.7928080167792259, val_f1: 0.21828656648718225, val_precision: 0.12468267121104472, val_recall: 0.8757279326609515\n"
     ]
    },
    {
     "name": "stderr",
     "output_type": "stream",
     "text": [
      "100%|████████████████████████████████████████████████████████████| 655/655 [00:04<00:00, 149.92it/s]\n"
     ]
    },
    {
     "name": "stdout",
     "output_type": "stream",
     "text": [
      "Epoch: 035, loss: 0.77739634677654, f1: 0.23606938122550364, precision: 0.13643753784246573, recall: 0.8751016821570069\n"
     ]
    },
    {
     "name": "stderr",
     "output_type": "stream",
     "text": [
      "100%|████████████████████████████████████████████████████████████| 218/218 [00:00<00:00, 511.23it/s]\n"
     ]
    },
    {
     "name": "stdout",
     "output_type": "stream",
     "text": [
      "val_loss: 0.7932670526548263, val_f1: 0.217937028690823, val_precision: 0.12374067977241693, val_recall: 0.912786829088806\n"
     ]
    },
    {
     "name": "stderr",
     "output_type": "stream",
     "text": [
      "100%|████████████████████████████████████████████████████████████| 655/655 [00:04<00:00, 148.44it/s]\n"
     ]
    },
    {
     "name": "stdout",
     "output_type": "stream",
     "text": [
      "Epoch: 036, loss: 0.7799670060172336, f1: 0.23333238343723475, precision: 0.13444022790507507, recall: 0.8824461275384626\n"
     ]
    },
    {
     "name": "stderr",
     "output_type": "stream",
     "text": [
      "100%|████████████████████████████████████████████████████████████| 218/218 [00:00<00:00, 498.82it/s]\n"
     ]
    },
    {
     "name": "stdout",
     "output_type": "stream",
     "text": [
      "val_loss: 0.7901055509344154, val_f1: 0.2210928028446412, val_precision: 0.12609163382082084, val_recall: 0.8966721121324311\n"
     ]
    },
    {
     "name": "stderr",
     "output_type": "stream",
     "text": [
      "100%|████████████████████████████████████████████████████████████| 655/655 [00:04<00:00, 154.68it/s]\n"
     ]
    },
    {
     "name": "stdout",
     "output_type": "stream",
     "text": [
      "Epoch: 037, loss: 0.7768096119392919, f1: 0.23685330510355887, precision: 0.13706382293794447, recall: 0.870948185811516\n"
     ]
    },
    {
     "name": "stderr",
     "output_type": "stream",
     "text": [
      "100%|████████████████████████████████████████████████████████████| 218/218 [00:00<00:00, 501.67it/s]\n"
     ]
    },
    {
     "name": "stdout",
     "output_type": "stream",
     "text": [
      "val_loss: 0.7886910006540631, val_f1: 0.22312234801656824, val_precision: 0.12793871439959204, val_recall: 0.8714979684680974\n"
     ]
    },
    {
     "name": "stderr",
     "output_type": "stream",
     "text": [
      "100%|████████████████████████████████████████████████████████████| 655/655 [00:04<00:00, 160.93it/s]\n"
     ]
    },
    {
     "name": "stdout",
     "output_type": "stream",
     "text": [
      "Epoch: 038, loss: 0.7759997196779906, f1: 0.2380332120628147, precision: 0.1376066807629043, recall: 0.880979788849372\n"
     ]
    },
    {
     "name": "stderr",
     "output_type": "stream",
     "text": [
      "100%|████████████████████████████████████████████████████████████| 218/218 [00:00<00:00, 508.68it/s]\n"
     ]
    },
    {
     "name": "stdout",
     "output_type": "stream",
     "text": [
      "val_loss: 0.7921723474603181, val_f1: 0.2201602553448931, val_precision: 0.1253297808451937, val_recall: 0.9046971836221327\n"
     ]
    },
    {
     "name": "stderr",
     "output_type": "stream",
     "text": [
      "100%|████████████████████████████████████████████████████████████| 655/655 [00:03<00:00, 173.25it/s]\n"
     ]
    },
    {
     "name": "stdout",
     "output_type": "stream",
     "text": [
      "Epoch: 039, loss: 0.7765118588928048, f1: 0.23743995767355106, precision: 0.13720506321610385, recall: 0.8811959884548916\n"
     ]
    },
    {
     "name": "stderr",
     "output_type": "stream",
     "text": [
      "100%|████████████████████████████████████████████████████████████| 218/218 [00:00<00:00, 477.01it/s]\n"
     ]
    },
    {
     "name": "stdout",
     "output_type": "stream",
     "text": [
      "val_loss: 0.7858639906305785, val_f1: 0.2256115472275144, val_precision: 0.12948760512464363, val_recall: 0.8756202494879382\n"
     ]
    },
    {
     "name": "stderr",
     "output_type": "stream",
     "text": [
      "100%|████████████████████████████████████████████████████████████| 655/655 [00:04<00:00, 154.20it/s]\n"
     ]
    },
    {
     "name": "stdout",
     "output_type": "stream",
     "text": [
      "Epoch: 040, loss: 0.7743460628822559, f1: 0.2393840659933142, precision: 0.13872778898545804, recall: 0.8722853511344385\n"
     ]
    },
    {
     "name": "stderr",
     "output_type": "stream",
     "text": [
      "100%|████████████████████████████████████████████████████████████| 218/218 [00:00<00:00, 477.84it/s]\n"
     ]
    },
    {
     "name": "stdout",
     "output_type": "stream",
     "text": [
      "val_loss: 0.7893880890050066, val_f1: 0.22114863995220643, val_precision: 0.1258114633586155, val_recall: 0.9130003345668862\n"
     ]
    },
    {
     "name": "stderr",
     "output_type": "stream",
     "text": [
      "100%|████████████████████████████████████████████████████████████| 655/655 [00:04<00:00, 150.41it/s]\n"
     ]
    },
    {
     "name": "stdout",
     "output_type": "stream",
     "text": [
      "Epoch: 041, loss: 0.7744947193233112, f1: 0.23900645124589578, precision: 0.1384403825204336, recall: 0.8736302052745383\n"
     ]
    },
    {
     "name": "stderr",
     "output_type": "stream",
     "text": [
      "100%|████████████████████████████████████████████████████████████| 218/218 [00:00<00:00, 502.26it/s]\n"
     ]
    },
    {
     "name": "stdout",
     "output_type": "stream",
     "text": [
      "val_loss: 0.7866038004739568, val_f1: 0.22495662865198748, val_precision: 0.1292959812498831, val_recall: 0.8647450378181738\n"
     ]
    },
    {
     "name": "stderr",
     "output_type": "stream",
     "text": [
      "100%|████████████████████████████████████████████████████████████| 655/655 [00:04<00:00, 150.63it/s]\n"
     ]
    },
    {
     "name": "stdout",
     "output_type": "stream",
     "text": [
      "Epoch: 042, loss: 0.7740164409156974, f1: 0.23995973166063866, precision: 0.13882603424082277, recall: 0.8838045272208352\n"
     ]
    },
    {
     "name": "stderr",
     "output_type": "stream",
     "text": [
      "100%|████████████████████████████████████████████████████████████| 218/218 [00:00<00:00, 506.28it/s]\n"
     ]
    },
    {
     "name": "stdout",
     "output_type": "stream",
     "text": [
      "val_loss: 0.7922875763626274, val_f1: 0.21897010577073905, val_precision: 0.12444193909850416, val_recall: 0.9109203673283989\n"
     ]
    },
    {
     "name": "stderr",
     "output_type": "stream",
     "text": [
      "100%|████████████████████████████████████████████████████████████| 655/655 [00:04<00:00, 151.05it/s]\n"
     ]
    },
    {
     "name": "stdout",
     "output_type": "stream",
     "text": [
      "Epoch: 043, loss: 0.7727274168538684, f1: 0.24112406731184566, precision: 0.13949151570048496, recall: 0.8884226610642353\n"
     ]
    },
    {
     "name": "stderr",
     "output_type": "stream",
     "text": [
      "100%|████████████████████████████████████████████████████████████| 218/218 [00:00<00:00, 503.57it/s]\n"
     ]
    },
    {
     "name": "stdout",
     "output_type": "stream",
     "text": [
      "val_loss: 0.7852121736478368, val_f1: 0.22599521184822938, val_precision: 0.12958747732085646, val_recall: 0.8826514892621872\n"
     ]
    },
    {
     "name": "stderr",
     "output_type": "stream",
     "text": [
      "100%|████████████████████████████████████████████████████████████| 655/655 [00:04<00:00, 150.37it/s]\n"
     ]
    },
    {
     "name": "stdout",
     "output_type": "stream",
     "text": [
      "Epoch: 044, loss: 0.7713408957000907, f1: 0.24256837197209494, precision: 0.14061826533773017, recall: 0.8821093332676487\n"
     ]
    },
    {
     "name": "stderr",
     "output_type": "stream",
     "text": [
      "100%|████████████████████████████████████████████████████████████| 218/218 [00:00<00:00, 511.88it/s]\n"
     ]
    },
    {
     "name": "stdout",
     "output_type": "stream",
     "text": [
      "val_loss: 0.7857980263342551, val_f1: 0.22605987839165337, val_precision: 0.12973336964298826, val_recall: 0.877888822227443\n"
     ]
    },
    {
     "name": "stderr",
     "output_type": "stream",
     "text": [
      "100%|████████████████████████████████████████████████████████████| 655/655 [00:04<00:00, 148.35it/s]\n"
     ]
    },
    {
     "name": "stdout",
     "output_type": "stream",
     "text": [
      "Epoch: 045, loss: 0.7720312498908006, f1: 0.2416225984295083, precision: 0.1400337321783295, recall: 0.8800996809515335\n"
     ]
    },
    {
     "name": "stderr",
     "output_type": "stream",
     "text": [
      "100%|████████████████████████████████████████████████████████████| 218/218 [00:00<00:00, 500.37it/s]\n"
     ]
    },
    {
     "name": "stdout",
     "output_type": "stream",
     "text": [
      "val_loss: 0.787385067535103, val_f1: 0.22463817317042914, val_precision: 0.12888553818909948, val_recall: 0.8738326269005416\n"
     ]
    },
    {
     "name": "stderr",
     "output_type": "stream",
     "text": [
      "100%|████████████████████████████████████████████████████████████| 655/655 [00:04<00:00, 150.87it/s]\n"
     ]
    },
    {
     "name": "stdout",
     "output_type": "stream",
     "text": [
      "Epoch: 046, loss: 0.7713000626964424, f1: 0.24272444419291564, precision: 0.14076949010197898, recall: 0.8802938217425165\n"
     ]
    },
    {
     "name": "stderr",
     "output_type": "stream",
     "text": [
      "100%|████████████████████████████████████████████████████████████| 218/218 [00:00<00:00, 503.09it/s]\n"
     ]
    },
    {
     "name": "stdout",
     "output_type": "stream",
     "text": [
      "val_loss: 0.7878078864801914, val_f1: 0.22358159008619977, val_precision: 0.1278373649378025, val_recall: 0.8905978509045522\n"
     ]
    },
    {
     "name": "stderr",
     "output_type": "stream",
     "text": [
      "100%|████████████████████████████████████████████████████████████| 655/655 [00:04<00:00, 150.08it/s]\n"
     ]
    },
    {
     "name": "stdout",
     "output_type": "stream",
     "text": [
      "Epoch: 047, loss: 0.7699306850214951, f1: 0.2440658570566445, precision: 0.14178763638243422, recall: 0.8758803534143753\n"
     ]
    },
    {
     "name": "stderr",
     "output_type": "stream",
     "text": [
      "100%|████████████████████████████████████████████████████████████| 218/218 [00:00<00:00, 512.46it/s]\n"
     ]
    },
    {
     "name": "stdout",
     "output_type": "stream",
     "text": [
      "val_loss: 0.7815225053271022, val_f1: 0.2298886755139058, val_precision: 0.1321605710876644, val_recall: 0.8823712498223016\n"
     ]
    },
    {
     "name": "stderr",
     "output_type": "stream",
     "text": [
      "100%|████████████████████████████████████████████████████████████| 655/655 [00:04<00:00, 147.70it/s]\n"
     ]
    },
    {
     "name": "stdout",
     "output_type": "stream",
     "text": [
      "Epoch: 048, loss: 0.7677358803858284, f1: 0.24620673707257845, precision: 0.14318401309028836, recall: 0.8777822984993913\n"
     ]
    },
    {
     "name": "stderr",
     "output_type": "stream",
     "text": [
      "100%|████████████████████████████████████████████████████████████| 218/218 [00:00<00:00, 501.45it/s]\n"
     ]
    },
    {
     "name": "stdout",
     "output_type": "stream",
     "text": [
      "val_loss: 0.7816144085805351, val_f1: 0.23041935284139645, val_precision: 0.13316400352985078, val_recall: 0.8544893754184792\n"
     ]
    },
    {
     "name": "stderr",
     "output_type": "stream",
     "text": [
      "100%|████████████████████████████████████████████████████████████| 655/655 [00:04<00:00, 148.98it/s]\n"
     ]
    },
    {
     "name": "stdout",
     "output_type": "stream",
     "text": [
      "Epoch: 049, loss: 0.7711523895045274, f1: 0.24252336510405023, precision: 0.14059451372568843, recall: 0.8818536270665759\n"
     ]
    },
    {
     "name": "stderr",
     "output_type": "stream",
     "text": [
      "100%|████████████████████████████████████████████████████████████| 218/218 [00:00<00:00, 511.96it/s]\n"
     ]
    },
    {
     "name": "stdout",
     "output_type": "stream",
     "text": [
      "val_loss: 0.7850078962264805, val_f1: 0.22642718220378089, val_precision: 0.1296768418743933, val_recall: 0.8917546816375277\n"
     ]
    },
    {
     "name": "stderr",
     "output_type": "stream",
     "text": [
      "100%|████████████████████████████████████████████████████████████| 655/655 [00:04<00:00, 147.91it/s]\n"
     ]
    },
    {
     "name": "stdout",
     "output_type": "stream",
     "text": [
      "Epoch: 050, loss: 0.7669692007639936, f1: 0.2471343360787598, precision: 0.14384722566047242, recall: 0.8764666569141941\n"
     ]
    },
    {
     "name": "stderr",
     "output_type": "stream",
     "text": [
      "100%|████████████████████████████████████████████████████████████| 218/218 [00:00<00:00, 502.06it/s]\n"
     ]
    },
    {
     "name": "stdout",
     "output_type": "stream",
     "text": [
      "val_loss: 0.7799163641185936, val_f1: 0.23134971447414268, val_precision: 0.13332223785408867, val_recall: 0.8738991448638636\n"
     ]
    },
    {
     "name": "stderr",
     "output_type": "stream",
     "text": [
      "100%|████████████████████████████████████████████████████████████| 655/655 [00:04<00:00, 149.57it/s]\n"
     ]
    },
    {
     "name": "stdout",
     "output_type": "stream",
     "text": [
      "Epoch: 051, loss: 0.7694233958047765, f1: 0.24504350329314592, precision: 0.14221717669763637, recall: 0.8847078729221839\n"
     ]
    },
    {
     "name": "stderr",
     "output_type": "stream",
     "text": [
      "100%|████████████████████████████████████████████████████████████| 218/218 [00:00<00:00, 512.02it/s]\n"
     ]
    },
    {
     "name": "stdout",
     "output_type": "stream",
     "text": [
      "val_loss: 0.7791657442346626, val_f1: 0.23274244562988608, val_precision: 0.1341182152065662, val_recall: 0.879444829914548\n"
     ]
    },
    {
     "name": "stderr",
     "output_type": "stream",
     "text": [
      "100%|████████████████████████████████████████████████████████████| 655/655 [00:04<00:00, 148.46it/s]\n"
     ]
    },
    {
     "name": "stdout",
     "output_type": "stream",
     "text": [
      "Epoch: 052, loss: 0.768185045336949, f1: 0.2456776351103886, precision: 0.14283456868911518, recall: 0.8774678883661751\n"
     ]
    },
    {
     "name": "stderr",
     "output_type": "stream",
     "text": [
      "100%|████████████████████████████████████████████████████████████| 218/218 [00:00<00:00, 509.84it/s]\n"
     ]
    },
    {
     "name": "stdout",
     "output_type": "stream",
     "text": [
      "val_loss: 0.7803435429520563, val_f1: 0.23144104989808736, val_precision: 0.1327428179835781, val_recall: 0.9024088910413445\n"
     ]
    },
    {
     "name": "stderr",
     "output_type": "stream",
     "text": [
      "100%|████████████████████████████████████████████████████████████| 655/655 [00:04<00:00, 148.44it/s]\n"
     ]
    },
    {
     "name": "stdout",
     "output_type": "stream",
     "text": [
      "Epoch: 053, loss: 0.7679785103288316, f1: 0.24604890353978093, precision: 0.14326159459545867, recall: 0.8709074836650877\n"
     ]
    },
    {
     "name": "stderr",
     "output_type": "stream",
     "text": [
      "100%|████████████████████████████████████████████████████████████| 218/218 [00:00<00:00, 503.38it/s]\n"
     ]
    },
    {
     "name": "stdout",
     "output_type": "stream",
     "text": [
      "val_loss: 0.7803206178573293, val_f1: 0.23221748891237468, val_precision: 0.1344850204218555, val_recall: 0.8497307560312639\n"
     ]
    },
    {
     "name": "stderr",
     "output_type": "stream",
     "text": [
      "100%|████████████████████████████████████████████████████████████| 655/655 [00:04<00:00, 149.16it/s]\n"
     ]
    },
    {
     "name": "stdout",
     "output_type": "stream",
     "text": [
      "Epoch: 054, loss: 0.7653099996443014, f1: 0.24906435084226922, precision: 0.14501858602157075, recall: 0.8815346107228111\n"
     ]
    },
    {
     "name": "stderr",
     "output_type": "stream",
     "text": [
      "100%|████████████████████████████████████████████████████████████| 218/218 [00:00<00:00, 510.50it/s]\n"
     ]
    },
    {
     "name": "stdout",
     "output_type": "stream",
     "text": [
      "val_loss: 0.7769838700053888, val_f1: 0.23467490039953962, val_precision: 0.1351415713770537, val_recall: 0.8906458927950728\n"
     ]
    },
    {
     "name": "stderr",
     "output_type": "stream",
     "text": [
      "100%|████████████████████████████████████████████████████████████| 655/655 [00:04<00:00, 151.31it/s]\n"
     ]
    },
    {
     "name": "stdout",
     "output_type": "stream",
     "text": [
      "Epoch: 055, loss: 0.7640143495479613, f1: 0.2502789706302986, precision: 0.14585016575137166, recall: 0.8812658150687472\n"
     ]
    },
    {
     "name": "stderr",
     "output_type": "stream",
     "text": [
      "100%|████████████████████████████████████████████████████████████| 218/218 [00:00<00:00, 506.40it/s]\n"
     ]
    },
    {
     "name": "stdout",
     "output_type": "stream",
     "text": [
      "val_loss: 0.7772627226803281, val_f1: 0.23489398793201763, val_precision: 0.13530099846491025, val_recall: 0.8900353728084389\n"
     ]
    },
    {
     "name": "stderr",
     "output_type": "stream",
     "text": [
      "100%|████████████████████████████████████████████████████████████| 655/655 [00:04<00:00, 150.44it/s]\n"
     ]
    },
    {
     "name": "stdout",
     "output_type": "stream",
     "text": [
      "Epoch: 056, loss: 0.766175274357541, f1: 0.24826270468659342, precision: 0.14448500741415352, recall: 0.8811743788136781\n"
     ]
    },
    {
     "name": "stderr",
     "output_type": "stream",
     "text": [
      "100%|████████████████████████████████████████████████████████████| 218/218 [00:00<00:00, 506.61it/s]\n"
     ]
    },
    {
     "name": "stdout",
     "output_type": "stream",
     "text": [
      "val_loss: 0.7782367150717919, val_f1: 0.23315943958245286, val_precision: 0.13405793913802422, val_recall: 0.8941664291084359\n"
     ]
    },
    {
     "name": "stderr",
     "output_type": "stream",
     "text": [
      "100%|████████████████████████████████████████████████████████████| 655/655 [00:04<00:00, 151.64it/s]\n"
     ]
    },
    {
     "name": "stdout",
     "output_type": "stream",
     "text": [
      "Epoch: 057, loss: 0.764925663616821, f1: 0.2493352310165838, precision: 0.1450210903863643, recall: 0.8882725748397012\n"
     ]
    },
    {
     "name": "stderr",
     "output_type": "stream",
     "text": [
      "100%|████████████████████████████████████████████████████████████| 218/218 [00:00<00:00, 510.66it/s]\n"
     ]
    },
    {
     "name": "stdout",
     "output_type": "stream",
     "text": [
      "val_loss: 0.7748445556798113, val_f1: 0.2379187961319314, val_precision: 0.13765976883881137, val_recall: 0.8757004573804523\n"
     ]
    },
    {
     "name": "stderr",
     "output_type": "stream",
     "text": [
      "100%|████████████████████████████████████████████████████████████| 655/655 [00:04<00:00, 148.66it/s]\n"
     ]
    },
    {
     "name": "stdout",
     "output_type": "stream",
     "text": [
      "Epoch: 058, loss: 0.766274443928522, f1: 0.24808691712936456, precision: 0.14427040540080033, recall: 0.8847504370995151\n"
     ]
    },
    {
     "name": "stderr",
     "output_type": "stream",
     "text": [
      "100%|████████████████████████████████████████████████████████████| 218/218 [00:00<00:00, 501.16it/s]\n"
     ]
    },
    {
     "name": "stdout",
     "output_type": "stream",
     "text": [
      "val_loss: 0.7802778001225322, val_f1: 0.23200440239959833, val_precision: 0.13319247973006254, val_recall: 0.8987999120983509\n"
     ]
    },
    {
     "name": "stderr",
     "output_type": "stream",
     "text": [
      "100%|████████████████████████████████████████████████████████████| 655/655 [00:04<00:00, 148.07it/s]\n"
     ]
    },
    {
     "name": "stdout",
     "output_type": "stream",
     "text": [
      "Epoch: 059, loss: 0.7616049883019833, f1: 0.2532638569578302, precision: 0.14767106226041116, recall: 0.88881375007047\n"
     ]
    },
    {
     "name": "stderr",
     "output_type": "stream",
     "text": [
      "100%|████████████████████████████████████████████████████████████| 218/218 [00:00<00:00, 508.92it/s]\n"
     ]
    },
    {
     "name": "stdout",
     "output_type": "stream",
     "text": [
      "val_loss: 0.7811185947251976, val_f1: 0.23079643102359418, val_precision: 0.133039919121208, val_recall: 0.8702430104443787\n"
     ]
    },
    {
     "name": "stderr",
     "output_type": "stream",
     "text": [
      "100%|████████████████████████████████████████████████████████████| 655/655 [00:04<00:00, 149.98it/s]\n"
     ]
    },
    {
     "name": "stdout",
     "output_type": "stream",
     "text": [
      "Epoch: 060, loss: 0.763344944524401, f1: 0.2511523187837005, precision: 0.14647723761109904, recall: 0.880052633867919\n"
     ]
    },
    {
     "name": "stderr",
     "output_type": "stream",
     "text": [
      "100%|████████████████████████████████████████████████████████████| 218/218 [00:00<00:00, 512.80it/s]\n"
     ]
    },
    {
     "name": "stdout",
     "output_type": "stream",
     "text": [
      "val_loss: 0.7750275178786812, val_f1: 0.23714775026419846, val_precision: 0.13688326290372863, val_recall: 0.8864730555529988\n"
     ]
    },
    {
     "name": "stderr",
     "output_type": "stream",
     "text": [
      "100%|████████████████████████████████████████████████████████████| 655/655 [00:04<00:00, 150.62it/s]\n"
     ]
    },
    {
     "name": "stdout",
     "output_type": "stream",
     "text": [
      "Epoch: 061, loss: 0.7617552742703271, f1: 0.2527707968485109, precision: 0.147545698091729, recall: 0.8812550924206508\n"
     ]
    },
    {
     "name": "stderr",
     "output_type": "stream",
     "text": [
      "100%|████████████████████████████████████████████████████████████| 218/218 [00:00<00:00, 507.24it/s]\n"
     ]
    },
    {
     "name": "stdout",
     "output_type": "stream",
     "text": [
      "val_loss: 0.776010660950197, val_f1: 0.23528523978593588, val_precision: 0.13532746700279483, val_recall: 0.9002213964768506\n"
     ]
    },
    {
     "name": "stderr",
     "output_type": "stream",
     "text": [
      "100%|████████████████████████████████████████████████████████████| 655/655 [00:04<00:00, 150.62it/s]\n"
     ]
    },
    {
     "name": "stdout",
     "output_type": "stream",
     "text": [
      "Epoch: 062, loss: 0.7594994656002249, f1: 0.2549255756955659, precision: 0.14889341637719677, recall: 0.8855722508357682\n"
     ]
    },
    {
     "name": "stderr",
     "output_type": "stream",
     "text": [
      "100%|████████████████████████████████████████████████████████████| 218/218 [00:00<00:00, 501.78it/s]\n"
     ]
    },
    {
     "name": "stdout",
     "output_type": "stream",
     "text": [
      "val_loss: 0.7738540312018963, val_f1: 0.23869871632970102, val_precision: 0.13792437004831132, val_recall: 0.8862005119476843\n"
     ]
    },
    {
     "name": "stderr",
     "output_type": "stream",
     "text": [
      "100%|████████████████████████████████████████████████████████████| 655/655 [00:04<00:00, 151.26it/s]\n"
     ]
    },
    {
     "name": "stdout",
     "output_type": "stream",
     "text": [
      "Epoch: 063, loss: 0.7594645021525959, f1: 0.25534483881528847, precision: 0.14909250995300655, recall: 0.8886517739477958\n"
     ]
    },
    {
     "name": "stderr",
     "output_type": "stream",
     "text": [
      "100%|████████████████████████████████████████████████████████████| 218/218 [00:00<00:00, 501.55it/s]\n"
     ]
    },
    {
     "name": "stdout",
     "output_type": "stream",
     "text": [
      "val_loss: 0.7727851821195095, val_f1: 0.23917813654236314, val_precision: 0.13803631124522434, val_recall: 0.8948564223193247\n"
     ]
    },
    {
     "name": "stderr",
     "output_type": "stream",
     "text": [
      "100%|████████████████████████████████████████████████████████████| 655/655 [00:04<00:00, 150.58it/s]\n"
     ]
    },
    {
     "name": "stdout",
     "output_type": "stream",
     "text": [
      "Epoch: 064, loss: 0.7592111418265423, f1: 0.25571468863269664, precision: 0.14946441447632458, recall: 0.8844384251660063\n"
     ]
    },
    {
     "name": "stderr",
     "output_type": "stream",
     "text": [
      "100%|████████████████████████████████████████████████████████████| 218/218 [00:00<00:00, 515.24it/s]\n"
     ]
    },
    {
     "name": "stdout",
     "output_type": "stream",
     "text": [
      "val_loss: 0.7779400922836514, val_f1: 0.23360276351334827, val_precision: 0.1347535930984064, val_recall: 0.8767391142495181\n"
     ]
    },
    {
     "name": "stderr",
     "output_type": "stream",
     "text": [
      "100%|████████████████████████████████████████████████████████████| 655/655 [00:04<00:00, 148.31it/s]\n"
     ]
    },
    {
     "name": "stdout",
     "output_type": "stream",
     "text": [
      "Epoch: 065, loss: 0.7600987842064777, f1: 0.25442367652785536, precision: 0.1487992340883681, recall: 0.8768553768405477\n"
     ]
    },
    {
     "name": "stderr",
     "output_type": "stream",
     "text": [
      "100%|████████████████████████████████████████████████████████████| 218/218 [00:00<00:00, 510.52it/s]\n"
     ]
    },
    {
     "name": "stdout",
     "output_type": "stream",
     "text": [
      "val_loss: 0.7726926259491422, val_f1: 0.2400390155904467, val_precision: 0.13900126140872274, val_recall: 0.8788894491458158\n"
     ]
    },
    {
     "name": "stderr",
     "output_type": "stream",
     "text": [
      "100%|████████████████████████████████████████████████████████████| 655/655 [00:04<00:00, 148.64it/s]\n"
     ]
    },
    {
     "name": "stdout",
     "output_type": "stream",
     "text": [
      "Epoch: 066, loss: 0.7577564485200489, f1: 0.25704689038018813, precision: 0.15043726568572394, recall: 0.8823069293080396\n"
     ]
    },
    {
     "name": "stderr",
     "output_type": "stream",
     "text": [
      "100%|████████████████████████████████████████████████████████████| 218/218 [00:00<00:00, 506.75it/s]\n"
     ]
    },
    {
     "name": "stdout",
     "output_type": "stream",
     "text": [
      "val_loss: 0.7760474608031982, val_f1: 0.23537030920824703, val_precision: 0.13545935379700103, val_recall: 0.8968930088598793\n"
     ]
    },
    {
     "name": "stderr",
     "output_type": "stream",
     "text": [
      "100%|████████████████████████████████████████████████████████████| 655/655 [00:04<00:00, 148.94it/s]\n"
     ]
    },
    {
     "name": "stdout",
     "output_type": "stream",
     "text": [
      "Epoch: 067, loss: 0.7617454404139337, f1: 0.2534683256324956, precision: 0.14802301104628401, recall: 0.8811924524889647\n"
     ]
    },
    {
     "name": "stderr",
     "output_type": "stream",
     "text": [
      "100%|████████████████████████████████████████████████████████████| 218/218 [00:00<00:00, 499.69it/s]\n"
     ]
    },
    {
     "name": "stdout",
     "output_type": "stream",
     "text": [
      "val_loss: 0.7727704912150671, val_f1: 0.23971411229949524, val_precision: 0.1386688970490743, val_recall: 0.8835097994279424\n"
     ]
    },
    {
     "name": "stderr",
     "output_type": "stream",
     "text": [
      "100%|████████████████████████████████████████████████████████████| 655/655 [00:04<00:00, 149.00it/s]\n"
     ]
    },
    {
     "name": "stdout",
     "output_type": "stream",
     "text": [
      "Epoch: 068, loss: 0.7580518759843957, f1: 0.25692474336450033, precision: 0.15036480321285833, recall: 0.8819212246487159\n"
     ]
    },
    {
     "name": "stderr",
     "output_type": "stream",
     "text": [
      "100%|████████████████████████████████████████████████████████████| 218/218 [00:00<00:00, 501.35it/s]\n"
     ]
    },
    {
     "name": "stdout",
     "output_type": "stream",
     "text": [
      "val_loss: 0.7709694630509123, val_f1: 0.24151200894198774, val_precision: 0.1397940292014578, val_recall: 0.88669747278231\n"
     ]
    },
    {
     "name": "stderr",
     "output_type": "stream",
     "text": [
      "100%|████████████████████████████████████████████████████████████| 655/655 [00:04<00:00, 151.50it/s]\n"
     ]
    },
    {
     "name": "stdout",
     "output_type": "stream",
     "text": [
      "Epoch: 069, loss: 0.7603691020084702, f1: 0.2548502708485101, precision: 0.1488138752413615, recall: 0.8865706146218395\n"
     ]
    },
    {
     "name": "stderr",
     "output_type": "stream",
     "text": [
      "100%|████████████████████████████████████████████████████████████| 218/218 [00:00<00:00, 504.40it/s]\n"
     ]
    },
    {
     "name": "stdout",
     "output_type": "stream",
     "text": [
      "val_loss: 0.7744416424987512, val_f1: 0.23877085669184378, val_precision: 0.13858418052998978, val_recall: 0.8617712024155013\n"
     ]
    },
    {
     "name": "stderr",
     "output_type": "stream",
     "text": [
      "100%|████████████████████████████████████████████████████████████| 655/655 [00:03<00:00, 179.34it/s]\n"
     ]
    },
    {
     "name": "stdout",
     "output_type": "stream",
     "text": [
      "Epoch: 070, loss: 0.7573386787458231, f1: 0.2573629319384464, precision: 0.15058451885257967, recall: 0.8846911314789575\n"
     ]
    },
    {
     "name": "stderr",
     "output_type": "stream",
     "text": [
      "100%|████████████████████████████████████████████████████████████| 218/218 [00:00<00:00, 502.50it/s]\n"
     ]
    },
    {
     "name": "stdout",
     "output_type": "stream",
     "text": [
      "val_loss: 0.770703225234233, val_f1: 0.24110701073311186, val_precision: 0.14000802682798116, val_recall: 0.8675853809632292\n"
     ]
    },
    {
     "name": "stderr",
     "output_type": "stream",
     "text": [
      "100%|████████████████████████████████████████████████████████████| 655/655 [00:04<00:00, 152.00it/s]\n"
     ]
    },
    {
     "name": "stdout",
     "output_type": "stream",
     "text": [
      "Epoch: 071, loss: 0.7564302508157629, f1: 0.25823168433184757, precision: 0.15136202699184872, recall: 0.8784983016152418\n"
     ]
    },
    {
     "name": "stderr",
     "output_type": "stream",
     "text": [
      "100%|████████████████████████████████████████████████████████████| 218/218 [00:00<00:00, 511.14it/s]\n"
     ]
    },
    {
     "name": "stdout",
     "output_type": "stream",
     "text": [
      "val_loss: 0.7695314933400635, val_f1: 0.2428409646351079, val_precision: 0.14091060716453768, val_recall: 0.8778514257811625\n"
     ]
    },
    {
     "name": "stderr",
     "output_type": "stream",
     "text": [
      "100%|████████████████████████████████████████████████████████████| 655/655 [00:04<00:00, 148.58it/s]\n"
     ]
    },
    {
     "name": "stdout",
     "output_type": "stream",
     "text": [
      "Epoch: 072, loss: 0.7555434317079209, f1: 0.259102957149945, precision: 0.15194231679819467, recall: 0.8791252745016841\n"
     ]
    },
    {
     "name": "stderr",
     "output_type": "stream",
     "text": [
      "100%|████████████████████████████████████████████████████████████| 218/218 [00:00<00:00, 507.19it/s]\n"
     ]
    },
    {
     "name": "stdout",
     "output_type": "stream",
     "text": [
      "val_loss: 0.7711389351875411, val_f1: 0.2408659975430823, val_precision: 0.13979044507061122, val_recall: 0.8697109236082899\n"
     ]
    },
    {
     "name": "stderr",
     "output_type": "stream",
     "text": [
      "100%|████████████████████████████████████████████████████████████| 655/655 [00:04<00:00, 150.12it/s]\n"
     ]
    },
    {
     "name": "stdout",
     "output_type": "stream",
     "text": [
      "Epoch: 073, loss: 0.7564813410052816, f1: 0.2583926725119644, precision: 0.15138855806857576, recall: 0.8813379398739065\n"
     ]
    },
    {
     "name": "stderr",
     "output_type": "stream",
     "text": [
      "100%|████████████████████████████████████████████████████████████| 218/218 [00:00<00:00, 514.17it/s]\n"
     ]
    },
    {
     "name": "stdout",
     "output_type": "stream",
     "text": [
      "val_loss: 0.7710012110001451, val_f1: 0.2414106522869328, val_precision: 0.1399333842628456, val_recall: 0.8784404894627562\n"
     ]
    },
    {
     "name": "stderr",
     "output_type": "stream",
     "text": [
      "100%|████████████████████████████████████████████████████████████| 655/655 [00:04<00:00, 150.47it/s]\n"
     ]
    },
    {
     "name": "stdout",
     "output_type": "stream",
     "text": [
      "Epoch: 074, loss: 0.7553647857585936, f1: 0.2593471565241924, precision: 0.15209587822661144, recall: 0.8796072124524881\n"
     ]
    },
    {
     "name": "stderr",
     "output_type": "stream",
     "text": [
      "100%|████████████████████████████████████████████████████████████| 218/218 [00:00<00:00, 510.99it/s]\n"
     ]
    },
    {
     "name": "stdout",
     "output_type": "stream",
     "text": [
      "val_loss: 0.7712792401466895, val_f1: 0.2413816513239722, val_precision: 0.14018363233040507, val_recall: 0.8679549650314751\n"
     ]
    },
    {
     "name": "stderr",
     "output_type": "stream",
     "text": [
      "100%|████████████████████████████████████████████████████████████| 655/655 [00:04<00:00, 149.82it/s]\n"
     ]
    },
    {
     "name": "stdout",
     "output_type": "stream",
     "text": [
      "Epoch: 075, loss: 0.754842454968518, f1: 0.2598424135854581, precision: 0.1525014000084564, recall: 0.8774577674064927\n"
     ]
    },
    {
     "name": "stderr",
     "output_type": "stream",
     "text": [
      "100%|████████████████████████████████████████████████████████████| 218/218 [00:00<00:00, 507.36it/s]\n"
     ]
    },
    {
     "name": "stdout",
     "output_type": "stream",
     "text": [
      "val_loss: 0.7693585553847322, val_f1: 0.24382734139786344, val_precision: 0.1412736735725348, val_recall: 0.8896275600162121\n"
     ]
    },
    {
     "name": "stderr",
     "output_type": "stream",
     "text": [
      "100%|████████████████████████████████████████████████████████████| 655/655 [00:04<00:00, 149.21it/s]\n"
     ]
    },
    {
     "name": "stdout",
     "output_type": "stream",
     "text": [
      "Epoch: 076, loss: 0.7570782498548959, f1: 0.2577337623079784, precision: 0.1510385163213688, recall: 0.8778722176115021\n"
     ]
    },
    {
     "name": "stderr",
     "output_type": "stream",
     "text": [
      "100%|████████████████████████████████████████████████████████████| 218/218 [00:00<00:00, 510.54it/s]\n"
     ]
    },
    {
     "name": "stdout",
     "output_type": "stream",
     "text": [
      "val_loss: 0.768169237386196, val_f1: 0.24540758972828572, val_precision: 0.14273936521056868, val_recall: 0.8741783480578607\n"
     ]
    },
    {
     "name": "stderr",
     "output_type": "stream",
     "text": [
      "100%|████████████████████████████████████████████████████████████| 655/655 [00:04<00:00, 148.99it/s]\n"
     ]
    },
    {
     "name": "stdout",
     "output_type": "stream",
     "text": [
      "Epoch: 077, loss: 0.7553581493501444, f1: 0.2597668267359101, precision: 0.15241160246024604, recall: 0.8787097393101408\n"
     ]
    },
    {
     "name": "stderr",
     "output_type": "stream",
     "text": [
      "100%|████████████████████████████████████████████████████████████| 218/218 [00:00<00:00, 506.28it/s]\n"
     ]
    },
    {
     "name": "stdout",
     "output_type": "stream",
     "text": [
      "val_loss: 0.772677519726097, val_f1: 0.23886818601556822, val_precision: 0.1385265044150276, val_recall: 0.8665635293230004\n"
     ]
    },
    {
     "name": "stderr",
     "output_type": "stream",
     "text": [
      "100%|████████████████████████████████████████████████████████████| 655/655 [00:04<00:00, 148.87it/s]\n"
     ]
    },
    {
     "name": "stdout",
     "output_type": "stream",
     "text": [
      "Epoch: 078, loss: 0.7533866804064685, f1: 0.2615520521723209, precision: 0.15383959227447747, recall: 0.8723078802341723\n"
     ]
    },
    {
     "name": "stderr",
     "output_type": "stream",
     "text": [
      "100%|████████████████████████████████████████████████████████████| 218/218 [00:00<00:00, 511.91it/s]\n"
     ]
    },
    {
     "name": "stdout",
     "output_type": "stream",
     "text": [
      "val_loss: 0.7683782202935, val_f1: 0.24413533739158716, val_precision: 0.14177676740555314, val_recall: 0.8780898470944221\n"
     ]
    },
    {
     "name": "stderr",
     "output_type": "stream",
     "text": [
      "100%|████████████████████████████████████████████████████████████| 655/655 [00:04<00:00, 148.72it/s]\n"
     ]
    },
    {
     "name": "stdout",
     "output_type": "stream",
     "text": [
      "Epoch: 079, loss: 0.7553078340210078, f1: 0.25915305020553375, precision: 0.15205529455578964, recall: 0.876506907248315\n"
     ]
    },
    {
     "name": "stderr",
     "output_type": "stream",
     "text": [
      "100%|████████████████████████████████████████████████████████████| 218/218 [00:00<00:00, 505.42it/s]\n"
     ]
    },
    {
     "name": "stdout",
     "output_type": "stream",
     "text": [
      "val_loss: 0.7678933788877015, val_f1: 0.2439095086853232, val_precision: 0.14155319943135486, val_recall: 0.8808395556353648\n"
     ]
    },
    {
     "name": "stderr",
     "output_type": "stream",
     "text": [
      "100%|████████████████████████████████████████████████████████████| 655/655 [00:04<00:00, 147.76it/s]\n"
     ]
    },
    {
     "name": "stdout",
     "output_type": "stream",
     "text": [
      "Epoch: 080, loss: 0.7532601627684732, f1: 0.26142628879491925, precision: 0.15385077183653836, recall: 0.8691607731899232\n"
     ]
    },
    {
     "name": "stderr",
     "output_type": "stream",
     "text": [
      "100%|████████████████████████████████████████████████████████████| 218/218 [00:00<00:00, 497.97it/s]\n"
     ]
    },
    {
     "name": "stdout",
     "output_type": "stream",
     "text": [
      "val_loss: 0.7681344722935913, val_f1: 0.2438131119483973, val_precision: 0.14189967381503057, val_recall: 0.8652227564689217\n"
     ]
    },
    {
     "name": "stderr",
     "output_type": "stream",
     "text": [
      "100%|████████████████████████████████████████████████████████████| 655/655 [00:04<00:00, 148.80it/s]\n"
     ]
    },
    {
     "name": "stdout",
     "output_type": "stream",
     "text": [
      "Epoch: 081, loss: 0.7536779936943345, f1: 0.26086662917955167, precision: 0.15332090465622095, recall: 0.8737553290738405\n"
     ]
    },
    {
     "name": "stderr",
     "output_type": "stream",
     "text": [
      "100%|████████████████████████████████████████████████████████████| 218/218 [00:00<00:00, 507.87it/s]\n"
     ]
    },
    {
     "name": "stdout",
     "output_type": "stream",
     "text": [
      "val_loss: 0.7677396894048113, val_f1: 0.24454392453460422, val_precision: 0.14237310245223, val_recall: 0.8660323967080598\n"
     ]
    },
    {
     "name": "stderr",
     "output_type": "stream",
     "text": [
      "100%|████████████████████████████████████████████████████████████| 655/655 [00:04<00:00, 150.12it/s]\n"
     ]
    },
    {
     "name": "stdout",
     "output_type": "stream",
     "text": [
      "Epoch: 082, loss: 0.7535665548484743, f1: 0.2605857831063586, precision: 0.15323557382776537, recall: 0.8702341672118383\n"
     ]
    },
    {
     "name": "stderr",
     "output_type": "stream",
     "text": [
      "100%|████████████████████████████████████████████████████████████| 218/218 [00:00<00:00, 510.01it/s]\n"
     ]
    },
    {
     "name": "stdout",
     "output_type": "stream",
     "text": [
      "val_loss: 0.7732334938071189, val_f1: 0.23973400095536118, val_precision: 0.13928356127591307, val_recall: 0.8598589049566776\n"
     ]
    },
    {
     "name": "stderr",
     "output_type": "stream",
     "text": [
      "100%|████████████████████████████████████████████████████████████| 655/655 [00:04<00:00, 149.60it/s]\n"
     ]
    },
    {
     "name": "stdout",
     "output_type": "stream",
     "text": [
      "Epoch: 083, loss: 0.7528975939932671, f1: 0.261945005188708, precision: 0.154070475765767, recall: 0.873626254442084\n"
     ]
    },
    {
     "name": "stderr",
     "output_type": "stream",
     "text": [
      "100%|████████████████████████████████████████████████████████████| 218/218 [00:00<00:00, 510.95it/s]\n"
     ]
    },
    {
     "name": "stdout",
     "output_type": "stream",
     "text": [
      "val_loss: 0.7715294825921365, val_f1: 0.2411979307923841, val_precision: 0.13955089040613228, val_recall: 0.888020240385598\n"
     ]
    },
    {
     "name": "stderr",
     "output_type": "stream",
     "text": [
      "100%|████████████████████████████████████████████████████████████| 655/655 [00:04<00:00, 151.13it/s]\n"
     ]
    },
    {
     "name": "stdout",
     "output_type": "stream",
     "text": [
      "Epoch: 084, loss: 0.7523542883741947, f1: 0.26332890367941786, precision: 0.15518224514622725, recall: 0.8687883670093449\n"
     ]
    },
    {
     "name": "stderr",
     "output_type": "stream",
     "text": [
      "100%|████████████████████████████████████████████████████████████| 218/218 [00:00<00:00, 507.57it/s]\n"
     ]
    },
    {
     "name": "stdout",
     "output_type": "stream",
     "text": [
      "val_loss: 0.7669391828939456, val_f1: 0.24601121955154256, val_precision: 0.14332320365131995, val_recall: 0.8676991068988765\n"
     ]
    },
    {
     "name": "stderr",
     "output_type": "stream",
     "text": [
      "100%|████████████████████████████████████████████████████████████| 655/655 [00:04<00:00, 150.16it/s]\n"
     ]
    },
    {
     "name": "stdout",
     "output_type": "stream",
     "text": [
      "Epoch: 085, loss: 0.7497549774992557, f1: 0.265317295816526, precision: 0.15643124104342387, recall: 0.8729361920866348\n"
     ]
    },
    {
     "name": "stderr",
     "output_type": "stream",
     "text": [
      "100%|████████████████████████████████████████████████████████████| 218/218 [00:00<00:00, 502.36it/s]\n"
     ]
    },
    {
     "name": "stdout",
     "output_type": "stream",
     "text": [
      "val_loss: 0.76725650107095, val_f1: 0.24520894118147132, val_precision: 0.14287196186909434, val_recall: 0.8642777246892999\n"
     ]
    },
    {
     "name": "stderr",
     "output_type": "stream",
     "text": [
      "100%|████████████████████████████████████████████████████████████| 655/655 [00:04<00:00, 150.39it/s]\n"
     ]
    },
    {
     "name": "stdout",
     "output_type": "stream",
     "text": [
      "Epoch: 086, loss: 0.7504162828430875, f1: 0.2649652179998384, precision: 0.1559773149893029, recall: 0.8795292711439934\n"
     ]
    },
    {
     "name": "stderr",
     "output_type": "stream",
     "text": [
      "100%|████████████████████████████████████████████████████████████| 218/218 [00:00<00:00, 497.30it/s]\n"
     ]
    },
    {
     "name": "stdout",
     "output_type": "stream",
     "text": [
      "val_loss: 0.7651081005914495, val_f1: 0.24753535337805788, val_precision: 0.14422525471469405, val_recall: 0.8725580649638395\n"
     ]
    },
    {
     "name": "stderr",
     "output_type": "stream",
     "text": [
      "100%|████████████████████████████████████████████████████████████| 655/655 [00:04<00:00, 151.20it/s]\n"
     ]
    },
    {
     "name": "stdout",
     "output_type": "stream",
     "text": [
      "Epoch: 087, loss: 0.7485629483033682, f1: 0.26660533525966407, precision: 0.1572720253996494, recall: 0.8746492388594241\n"
     ]
    },
    {
     "name": "stderr",
     "output_type": "stream",
     "text": [
      "100%|████████████████████████████████████████████████████████████| 218/218 [00:00<00:00, 508.26it/s]\n"
     ]
    },
    {
     "name": "stdout",
     "output_type": "stream",
     "text": [
      "val_loss: 0.7673817093766063, val_f1: 0.24596584893205653, val_precision: 0.14279612623701948, val_recall: 0.8863527162359395\n"
     ]
    },
    {
     "name": "stderr",
     "output_type": "stream",
     "text": [
      "100%|████████████████████████████████████████████████████████████| 655/655 [00:04<00:00, 151.03it/s]\n"
     ]
    },
    {
     "name": "stdout",
     "output_type": "stream",
     "text": [
      "Epoch: 088, loss: 0.7552918539702437, f1: 0.25912981361939974, precision: 0.15205103493373812, recall: 0.8761169581012871\n"
     ]
    },
    {
     "name": "stderr",
     "output_type": "stream",
     "text": [
      "100%|████████████████████████████████████████████████████████████| 218/218 [00:00<00:00, 504.49it/s]\n"
     ]
    },
    {
     "name": "stdout",
     "output_type": "stream",
     "text": [
      "val_loss: 0.7662015751414343, val_f1: 0.246746483541822, val_precision: 0.14341934502056433, val_recall: 0.882670776833088\n"
     ]
    },
    {
     "name": "stderr",
     "output_type": "stream",
     "text": [
      "100%|████████████████████████████████████████████████████████████| 655/655 [00:04<00:00, 149.31it/s]\n"
     ]
    },
    {
     "name": "stdout",
     "output_type": "stream",
     "text": [
      "Epoch: 089, loss: 0.7493661079697936, f1: 0.26574413137912495, precision: 0.15669975039613157, recall: 0.8738163100854132\n"
     ]
    },
    {
     "name": "stderr",
     "output_type": "stream",
     "text": [
      "100%|████████████████████████████████████████████████████████████| 218/218 [00:00<00:00, 510.30it/s]\n"
     ]
    },
    {
     "name": "stdout",
     "output_type": "stream",
     "text": [
      "val_loss: 0.7624400028394996, val_f1: 0.25131698438825484, val_precision: 0.14702114578199768, val_recall: 0.8648015296240465\n"
     ]
    },
    {
     "name": "stderr",
     "output_type": "stream",
     "text": [
      "100%|████████████████████████████████████████████████████████████| 655/655 [00:04<00:00, 148.69it/s]\n"
     ]
    },
    {
     "name": "stdout",
     "output_type": "stream",
     "text": [
      "Epoch: 090, loss: 0.7497962804241035, f1: 0.26523019318439295, precision: 0.156282404045226, recall: 0.8756976749150808\n"
     ]
    },
    {
     "name": "stderr",
     "output_type": "stream",
     "text": [
      "100%|████████████████████████████████████████████████████████████| 218/218 [00:00<00:00, 507.02it/s]\n"
     ]
    },
    {
     "name": "stdout",
     "output_type": "stream",
     "text": [
      "val_loss: 0.7699361905592297, val_f1: 0.24288748951590916, val_precision: 0.14044377670854058, val_recall: 0.8976836573640141\n"
     ]
    },
    {
     "name": "stderr",
     "output_type": "stream",
     "text": [
      "100%|████████████████████████████████████████████████████████████| 655/655 [00:04<00:00, 148.60it/s]\n"
     ]
    },
    {
     "name": "stdout",
     "output_type": "stream",
     "text": [
      "Epoch: 091, loss: 0.7501363715142694, f1: 0.26494735796540453, precision: 0.15588633089063278, recall: 0.8820374487010577\n"
     ]
    },
    {
     "name": "stderr",
     "output_type": "stream",
     "text": [
      "100%|████████████████████████████████████████████████████████████| 218/218 [00:00<00:00, 510.16it/s]\n"
     ]
    },
    {
     "name": "stdout",
     "output_type": "stream",
     "text": [
      "val_loss: 0.7636901372616444, val_f1: 0.24871539995882455, val_precision: 0.14481465732080673, val_recall: 0.8803272846095059\n"
     ]
    },
    {
     "name": "stderr",
     "output_type": "stream",
     "text": [
      "100%|████████████████████████████████████████████████████████████| 655/655 [00:04<00:00, 148.46it/s]\n"
     ]
    },
    {
     "name": "stdout",
     "output_type": "stream",
     "text": [
      "Epoch: 092, loss: 0.7520623683929444, f1: 0.2639359009433813, precision: 0.15507871200906412, recall: 0.8855363659276307\n"
     ]
    },
    {
     "name": "stderr",
     "output_type": "stream",
     "text": [
      "100%|████████████████████████████████████████████████████████████| 218/218 [00:00<00:00, 503.70it/s]\n"
     ]
    },
    {
     "name": "stdout",
     "output_type": "stream",
     "text": [
      "val_loss: 0.7629144492499326, val_f1: 0.25010648215626796, val_precision: 0.14597972823358182, val_recall: 0.87235081605955\n"
     ]
    },
    {
     "name": "stderr",
     "output_type": "stream",
     "text": [
      "100%|████████████████████████████████████████████████████████████| 655/655 [00:04<00:00, 150.66it/s]\n"
     ]
    },
    {
     "name": "stdout",
     "output_type": "stream",
     "text": [
      "Epoch: 093, loss: 0.7494154376838044, f1: 0.2656974651739344, precision: 0.156684510239208, recall: 0.8732812876919753\n"
     ]
    },
    {
     "name": "stderr",
     "output_type": "stream",
     "text": [
      "100%|████████████████████████████████████████████████████████████| 218/218 [00:00<00:00, 508.35it/s]\n"
     ]
    },
    {
     "name": "stdout",
     "output_type": "stream",
     "text": [
      "val_loss: 0.7675612566121127, val_f1: 0.24479934278871654, val_precision: 0.14213325319931322, val_recall: 0.8815968463180262\n"
     ]
    },
    {
     "name": "stderr",
     "output_type": "stream",
     "text": [
      "100%|████████████████████████████████████████████████████████████| 655/655 [00:04<00:00, 148.95it/s]\n"
     ]
    },
    {
     "name": "stdout",
     "output_type": "stream",
     "text": [
      "Epoch: 094, loss: 0.7479785026484773, f1: 0.2674561893066567, precision: 0.15793392009009385, recall: 0.8725255938886686\n"
     ]
    },
    {
     "name": "stderr",
     "output_type": "stream",
     "text": [
      "100%|████████████████████████████████████████████████████████████| 218/218 [00:00<00:00, 500.02it/s]\n"
     ]
    },
    {
     "name": "stdout",
     "output_type": "stream",
     "text": [
      "val_loss: 0.7621827333345326, val_f1: 0.251722763249711, val_precision: 0.14685480433319686, val_recall: 0.8804352119428303\n"
     ]
    },
    {
     "name": "stderr",
     "output_type": "stream",
     "text": [
      "100%|████████████████████████████████████████████████████████████| 655/655 [00:04<00:00, 150.34it/s]\n"
     ]
    },
    {
     "name": "stdout",
     "output_type": "stream",
     "text": [
      "Epoch: 095, loss: 0.7487297170944797, f1: 0.2667810199798684, precision: 0.15741252598302966, recall: 0.8740872175638912\n"
     ]
    },
    {
     "name": "stderr",
     "output_type": "stream",
     "text": [
      "100%|████████████████████████████████████████████████████████████| 218/218 [00:00<00:00, 507.21it/s]\n"
     ]
    },
    {
     "name": "stdout",
     "output_type": "stream",
     "text": [
      "val_loss: 0.7639278392179296, val_f1: 0.2490411234724191, val_precision: 0.14528394011148346, val_recall: 0.8712858527625372\n"
     ]
    },
    {
     "name": "stderr",
     "output_type": "stream",
     "text": [
      "100%|████████████████████████████████████████████████████████████| 655/655 [00:04<00:00, 150.69it/s]\n"
     ]
    },
    {
     "name": "stdout",
     "output_type": "stream",
     "text": [
      "Epoch: 096, loss: 0.7452350191487611, f1: 0.2702910692902079, precision: 0.15982402576176266, recall: 0.8752359821596218\n"
     ]
    },
    {
     "name": "stderr",
     "output_type": "stream",
     "text": [
      "100%|████████████████████████████████████████████████████████████| 218/218 [00:00<00:00, 506.10it/s]\n"
     ]
    },
    {
     "name": "stdout",
     "output_type": "stream",
     "text": [
      "val_loss: 0.757711631169013, val_f1: 0.2559043355356528, val_precision: 0.1494356234293055, val_recall: 0.8900156595291348\n"
     ]
    },
    {
     "name": "stderr",
     "output_type": "stream",
     "text": [
      "100%|████████████████████████████████████████████████████████████| 655/655 [00:04<00:00, 148.77it/s]\n"
     ]
    },
    {
     "name": "stdout",
     "output_type": "stream",
     "text": [
      "Epoch: 097, loss: 0.7442417125665505, f1: 0.2711053664937707, precision: 0.1604209344123156, recall: 0.8744277176511197\n"
     ]
    },
    {
     "name": "stderr",
     "output_type": "stream",
     "text": [
      "100%|████████████████████████████████████████████████████████████| 218/218 [00:00<00:00, 514.57it/s]\n"
     ]
    },
    {
     "name": "stdout",
     "output_type": "stream",
     "text": [
      "val_loss: 0.7591164423785078, val_f1: 0.25423187729161284, val_precision: 0.14855743911322378, val_recall: 0.8807227994323871\n"
     ]
    },
    {
     "name": "stderr",
     "output_type": "stream",
     "text": [
      "100%|████████████████████████████████████████████████████████████| 655/655 [00:04<00:00, 149.04it/s]\n"
     ]
    },
    {
     "name": "stdout",
     "output_type": "stream",
     "text": [
      "Epoch: 098, loss: 0.7443028680240835, f1: 0.2718304268778437, precision: 0.16077503328787462, recall: 0.8789996507513614\n"
     ]
    },
    {
     "name": "stderr",
     "output_type": "stream",
     "text": [
      "100%|████████████████████████████████████████████████████████████| 218/218 [00:00<00:00, 506.65it/s]\n"
     ]
    },
    {
     "name": "stdout",
     "output_type": "stream",
     "text": [
      "val_loss: 0.7602146366320619, val_f1: 0.2534528179955651, val_precision: 0.14824369619814082, val_recall: 0.8730836327469677\n"
     ]
    },
    {
     "name": "stderr",
     "output_type": "stream",
     "text": [
      "100%|████████████████████████████████████████████████████████████| 655/655 [00:04<00:00, 148.57it/s]\n"
     ]
    },
    {
     "name": "stdout",
     "output_type": "stream",
     "text": [
      "Epoch: 099, loss: 0.7436410087665529, f1: 0.27260881547178056, precision: 0.16132760992031972, recall: 0.878770996596067\n"
     ]
    },
    {
     "name": "stderr",
     "output_type": "stream",
     "text": [
      "100%|████████████████████████████████████████████████████████████| 218/218 [00:00<00:00, 505.28it/s]\n"
     ]
    },
    {
     "name": "stdout",
     "output_type": "stream",
     "text": [
      "val_loss: 0.7591952700680549, val_f1: 0.2547320537323156, val_precision: 0.14898327723521432, val_recall: 0.8777900874067884\n"
     ]
    },
    {
     "name": "stderr",
     "output_type": "stream",
     "text": [
      "100%|████████████████████████████████████████████████████████████| 655/655 [00:04<00:00, 148.82it/s]\n"
     ]
    },
    {
     "name": "stdout",
     "output_type": "stream",
     "text": [
      "Epoch: 100, loss: 0.7438362978796923, f1: 0.27239771127477297, precision: 0.16133355500020144, recall: 0.8742275071508102\n"
     ]
    },
    {
     "name": "stderr",
     "output_type": "stream",
     "text": [
      "100%|████████████████████████████████████████████████████████████| 218/218 [00:00<00:00, 501.41it/s]\n"
     ]
    },
    {
     "name": "stdout",
     "output_type": "stream",
     "text": [
      "val_loss: 0.7575924177782252, val_f1: 0.2565424697124577, val_precision: 0.15037401654509777, val_recall: 0.8726802383540967\n"
     ]
    },
    {
     "name": "stderr",
     "output_type": "stream",
     "text": [
      "100%|████████████████████████████████████████████████████████████| 655/655 [00:04<00:00, 151.13it/s]\n"
     ]
    },
    {
     "name": "stdout",
     "output_type": "stream",
     "text": [
      "Epoch: 101, loss: 0.7417104238772211, f1: 0.2740330040820314, precision: 0.1626256660679142, recall: 0.8700947787015493\n"
     ]
    },
    {
     "name": "stderr",
     "output_type": "stream",
     "text": [
      "100%|████████████████████████████████████████████████████████████| 218/218 [00:00<00:00, 509.91it/s]\n"
     ]
    },
    {
     "name": "stdout",
     "output_type": "stream",
     "text": [
      "val_loss: 0.7553024043183808, val_f1: 0.2582174658785001, val_precision: 0.1517650384302123, val_recall: 0.8648449688329609\n"
     ]
    },
    {
     "name": "stderr",
     "output_type": "stream",
     "text": [
      "100%|████████████████████████████████████████████████████████████| 655/655 [00:04<00:00, 149.72it/s]\n"
     ]
    },
    {
     "name": "stdout",
     "output_type": "stream",
     "text": [
      "Epoch: 102, loss: 0.7437661784295817, f1: 0.27161335782624363, precision: 0.16084876919577595, recall: 0.8723048637386497\n"
     ]
    },
    {
     "name": "stderr",
     "output_type": "stream",
     "text": [
      "100%|████████████████████████████████████████████████████████████| 218/218 [00:00<00:00, 508.74it/s]\n"
     ]
    },
    {
     "name": "stdout",
     "output_type": "stream",
     "text": [
      "val_loss: 0.7586476846572456, val_f1: 0.2549730072247498, val_precision: 0.14982610384702955, val_recall: 0.8550200508821995\n"
     ]
    },
    {
     "name": "stderr",
     "output_type": "stream",
     "text": [
      "100%|████████████████████████████████████████████████████████████| 655/655 [00:04<00:00, 151.97it/s]\n"
     ]
    },
    {
     "name": "stdout",
     "output_type": "stream",
     "text": [
      "Epoch: 103, loss: 0.7424536131720506, f1: 0.2736216314585362, precision: 0.1621548384228963, recall: 0.8753360106744839\n"
     ]
    },
    {
     "name": "stderr",
     "output_type": "stream",
     "text": [
      "100%|████████████████████████████████████████████████████████████| 218/218 [00:00<00:00, 512.18it/s]\n"
     ]
    },
    {
     "name": "stdout",
     "output_type": "stream",
     "text": [
      "val_loss: 0.757023075031578, val_f1: 0.2569651527017435, val_precision: 0.1507546379564142, val_recall: 0.8696700208777681\n"
     ]
    },
    {
     "name": "stderr",
     "output_type": "stream",
     "text": [
      "100%|████████████████████████████████████████████████████████████| 655/655 [00:04<00:00, 151.66it/s]\n"
     ]
    },
    {
     "name": "stdout",
     "output_type": "stream",
     "text": [
      "Epoch: 104, loss: 0.7419358392708174, f1: 0.2740401034252195, precision: 0.16248821621860257, recall: 0.8741950674821403\n"
     ]
    },
    {
     "name": "stderr",
     "output_type": "stream",
     "text": [
      "100%|████████████████████████████████████████████████████████████| 218/218 [00:00<00:00, 480.07it/s]\n"
     ]
    },
    {
     "name": "stdout",
     "output_type": "stream",
     "text": [
      "val_loss: 0.7626534503534299, val_f1: 0.24994964401016043, val_precision: 0.14582515747175304, val_recall: 0.8740613851525368\n"
     ]
    },
    {
     "name": "stderr",
     "output_type": "stream",
     "text": [
      "100%|████████████████████████████████████████████████████████████| 655/655 [00:04<00:00, 154.17it/s]\n"
     ]
    },
    {
     "name": "stdout",
     "output_type": "stream",
     "text": [
      "Epoch: 105, loss: 0.7411795925548058, f1: 0.2741912887095918, precision: 0.16266408777362062, recall: 0.8721898928853392\n"
     ]
    },
    {
     "name": "stderr",
     "output_type": "stream",
     "text": [
      "100%|████████████████████████████████████████████████████████████| 218/218 [00:00<00:00, 482.30it/s]\n"
     ]
    },
    {
     "name": "stdout",
     "output_type": "stream",
     "text": [
      "val_loss: 0.7618522099945524, val_f1: 0.25066124610467644, val_precision: 0.14607110586222433, val_recall: 0.8826787146406436\n"
     ]
    },
    {
     "name": "stderr",
     "output_type": "stream",
     "text": [
      "100%|████████████████████████████████████████████████████████████| 655/655 [00:04<00:00, 158.51it/s]\n"
     ]
    },
    {
     "name": "stdout",
     "output_type": "stream",
     "text": [
      "Epoch: 106, loss: 0.7405673547555472, f1: 0.27600276176775657, precision: 0.16361408596787289, recall: 0.8815534993892408\n"
     ]
    },
    {
     "name": "stderr",
     "output_type": "stream",
     "text": [
      "100%|████████████████████████████████████████████████████████████| 218/218 [00:00<00:00, 519.21it/s]\n"
     ]
    },
    {
     "name": "stdout",
     "output_type": "stream",
     "text": [
      "val_loss: 0.7595802088943097, val_f1: 0.2548562168075806, val_precision: 0.1494091245337227, val_recall: 0.8661529569450869\n"
     ]
    },
    {
     "name": "stderr",
     "output_type": "stream",
     "text": [
      "100%|████████████████████████████████████████████████████████████| 655/655 [00:04<00:00, 150.96it/s]\n"
     ]
    },
    {
     "name": "stdout",
     "output_type": "stream",
     "text": [
      "Epoch: 107, loss: 0.740765778709004, f1: 0.27559197428909027, precision: 0.16353598221965873, recall: 0.8754703347009557\n"
     ]
    },
    {
     "name": "stderr",
     "output_type": "stream",
     "text": [
      "100%|████████████████████████████████████████████████████████████| 218/218 [00:00<00:00, 521.16it/s]\n"
     ]
    },
    {
     "name": "stdout",
     "output_type": "stream",
     "text": [
      "val_loss: 0.7546074764991025, val_f1: 0.2589953636001539, val_precision: 0.15204479122414774, val_recall: 0.8732581912377558\n"
     ]
    },
    {
     "name": "stderr",
     "output_type": "stream",
     "text": [
      "100%|████████████████████████████████████████████████████████████| 655/655 [00:04<00:00, 149.37it/s]\n"
     ]
    },
    {
     "name": "stdout",
     "output_type": "stream",
     "text": [
      "Epoch: 108, loss: 0.7404272029418072, f1: 0.2753287154584084, precision: 0.1634731094886101, recall: 0.871968580020293\n"
     ]
    },
    {
     "name": "stderr",
     "output_type": "stream",
     "text": [
      "100%|████████████████████████████████████████████████████████████| 218/218 [00:00<00:00, 517.04it/s]\n"
     ]
    },
    {
     "name": "stdout",
     "output_type": "stream",
     "text": [
      "val_loss: 0.7653143955480068, val_f1: 0.24846457764218108, val_precision: 0.14489124309476636, val_recall: 0.8713011569386229\n"
     ]
    },
    {
     "name": "stderr",
     "output_type": "stream",
     "text": [
      "100%|████████████████████████████████████████████████████████████| 655/655 [00:04<00:00, 150.08it/s]\n"
     ]
    },
    {
     "name": "stdout",
     "output_type": "stream",
     "text": [
      "Epoch: 109, loss: 0.7375861553745415, f1: 0.2784123936499056, precision: 0.16551865885560293, recall: 0.8756771972161213\n"
     ]
    },
    {
     "name": "stderr",
     "output_type": "stream",
     "text": [
      "100%|████████████████████████████████████████████████████████████| 218/218 [00:00<00:00, 516.05it/s]\n"
     ]
    },
    {
     "name": "stdout",
     "output_type": "stream",
     "text": [
      "val_loss: 0.7536046611606528, val_f1: 0.2600603877145385, val_precision: 0.1527336507164147, val_recall: 0.8747560485787348\n"
     ]
    },
    {
     "name": "stderr",
     "output_type": "stream",
     "text": [
      "100%|████████████████████████████████████████████████████████████| 655/655 [00:04<00:00, 150.27it/s]\n"
     ]
    },
    {
     "name": "stdout",
     "output_type": "stream",
     "text": [
      "Epoch: 110, loss: 0.7385380196207352, f1: 0.27789786038601677, precision: 0.1652861286381274, recall: 0.8720111517505791\n"
     ]
    },
    {
     "name": "stderr",
     "output_type": "stream",
     "text": [
      "100%|████████████████████████████████████████████████████████████| 218/218 [00:00<00:00, 512.51it/s]\n"
     ]
    },
    {
     "name": "stdout",
     "output_type": "stream",
     "text": [
      "val_loss: 0.7567607858859071, val_f1: 0.25694441520348427, val_precision: 0.1508248651212235, val_recall: 0.8668679939497501\n"
     ]
    },
    {
     "name": "stderr",
     "output_type": "stream",
     "text": [
      "100%|████████████████████████████████████████████████████████████| 655/655 [00:04<00:00, 150.33it/s]\n"
     ]
    },
    {
     "name": "stdout",
     "output_type": "stream",
     "text": [
      "Epoch: 111, loss: 0.7429863822369175, f1: 0.27248424930165793, precision: 0.1614263909890224, recall: 0.8732862886581713\n"
     ]
    },
    {
     "name": "stderr",
     "output_type": "stream",
     "text": [
      "100%|████████████████████████████████████████████████████████████| 218/218 [00:00<00:00, 520.81it/s]\n"
     ]
    },
    {
     "name": "stdout",
     "output_type": "stream",
     "text": [
      "val_loss: 0.7547240093213703, val_f1: 0.25816052378474086, val_precision: 0.15115901126329778, val_recall: 0.883729618623716\n"
     ]
    },
    {
     "name": "stderr",
     "output_type": "stream",
     "text": [
      "100%|████████████████████████████████████████████████████████████| 655/655 [00:04<00:00, 150.01it/s]\n"
     ]
    },
    {
     "name": "stdout",
     "output_type": "stream",
     "text": [
      "Epoch: 112, loss: 0.7380504126767166, f1: 0.27794720660897826, precision: 0.1653311425862649, recall: 0.8717302619955922\n"
     ]
    },
    {
     "name": "stderr",
     "output_type": "stream",
     "text": [
      "100%|████████████████████████████████████████████████████████████| 218/218 [00:00<00:00, 515.86it/s]\n"
     ]
    },
    {
     "name": "stdout",
     "output_type": "stream",
     "text": [
      "val_loss: 0.7558905290901115, val_f1: 0.2579940054862477, val_precision: 0.15143344306105047, val_recall: 0.8706577332741624\n"
     ]
    },
    {
     "name": "stderr",
     "output_type": "stream",
     "text": [
      "100%|████████████████████████████████████████████████████████████| 655/655 [00:04<00:00, 148.52it/s]\n"
     ]
    },
    {
     "name": "stdout",
     "output_type": "stream",
     "text": [
      "Epoch: 113, loss: 0.7372609455166882, f1: 0.27846662281817663, precision: 0.1656431631050037, recall: 0.8732743514403132\n"
     ]
    },
    {
     "name": "stderr",
     "output_type": "stream",
     "text": [
      "100%|████████████████████████████████████████████████████████████| 218/218 [00:00<00:00, 519.03it/s]\n"
     ]
    },
    {
     "name": "stdout",
     "output_type": "stream",
     "text": [
      "val_loss: 0.754951088526927, val_f1: 0.25889994822875845, val_precision: 0.15191235483854737, val_recall: 0.8754659910267646\n"
     ]
    },
    {
     "name": "stderr",
     "output_type": "stream",
     "text": [
      "100%|████████████████████████████████████████████████████████████| 655/655 [00:04<00:00, 150.05it/s]\n"
     ]
    },
    {
     "name": "stdout",
     "output_type": "stream",
     "text": [
      "Epoch: 114, loss: 0.7390990234513319, f1: 0.2770257791063768, precision: 0.1646897816731957, recall: 0.871442546917282\n"
     ]
    },
    {
     "name": "stderr",
     "output_type": "stream",
     "text": [
      "100%|████████████████████████████████████████████████████████████| 218/218 [00:00<00:00, 508.99it/s]\n"
     ]
    },
    {
     "name": "stdout",
     "output_type": "stream",
     "text": [
      "val_loss: 0.7567273758420157, val_f1: 0.25670181731557, val_precision: 0.15044027027768006, val_recall: 0.8741377736997167\n"
     ]
    },
    {
     "name": "stderr",
     "output_type": "stream",
     "text": [
      "100%|████████████████████████████████████████████████████████████| 655/655 [00:04<00:00, 149.32it/s]\n"
     ]
    },
    {
     "name": "stdout",
     "output_type": "stream",
     "text": [
      "Epoch: 115, loss: 0.7388617500094057, f1: 0.27717113215911093, precision: 0.16478305580734295, recall: 0.8717076829371562\n"
     ]
    },
    {
     "name": "stderr",
     "output_type": "stream",
     "text": [
      "100%|████████████████████████████████████████████████████████████| 218/218 [00:00<00:00, 518.24it/s]\n"
     ]
    },
    {
     "name": "stdout",
     "output_type": "stream",
     "text": [
      "val_loss: 0.758304937443602, val_f1: 0.2553335871973352, val_precision: 0.149307497819766, val_recall: 0.880822052375986\n"
     ]
    },
    {
     "name": "stderr",
     "output_type": "stream",
     "text": [
      "100%|████████████████████████████████████████████████████████████| 655/655 [00:04<00:00, 150.03it/s]\n"
     ]
    },
    {
     "name": "stdout",
     "output_type": "stream",
     "text": [
      "Epoch: 116, loss: 0.7364563955605485, f1: 0.2796312281190407, precision: 0.1665420101543192, recall: 0.8712425473992151\n"
     ]
    },
    {
     "name": "stderr",
     "output_type": "stream",
     "text": [
      "100%|████████████████████████████████████████████████████████████| 218/218 [00:00<00:00, 518.66it/s]\n"
     ]
    },
    {
     "name": "stdout",
     "output_type": "stream",
     "text": [
      "val_loss: 0.7550022995800053, val_f1: 0.2588229380653424, val_precision: 0.15179915416028794, val_recall: 0.8774713162982136\n"
     ]
    },
    {
     "name": "stderr",
     "output_type": "stream",
     "text": [
      "100%|████████████████████████████████████████████████████████████| 655/655 [00:04<00:00, 150.28it/s]\n"
     ]
    },
    {
     "name": "stdout",
     "output_type": "stream",
     "text": [
      "Epoch: 117, loss: 0.7355753528252813, f1: 0.28079184511424554, precision: 0.1673489324833828, recall: 0.871706270625573\n"
     ]
    },
    {
     "name": "stderr",
     "output_type": "stream",
     "text": [
      "100%|████████████████████████████████████████████████████████████| 218/218 [00:00<00:00, 516.64it/s]\n"
     ]
    },
    {
     "name": "stdout",
     "output_type": "stream",
     "text": [
      "val_loss: 0.7580876599211211, val_f1: 0.25554531838838507, val_precision: 0.14997506004954697, val_recall: 0.8630918953396859\n"
     ]
    },
    {
     "name": "stderr",
     "output_type": "stream",
     "text": [
      "100%|████████████████████████████████████████████████████████████| 655/655 [00:04<00:00, 148.78it/s]\n"
     ]
    },
    {
     "name": "stdout",
     "output_type": "stream",
     "text": [
      "Epoch: 118, loss: 0.7389928605720287, f1: 0.2772252928536143, precision: 0.16485562102712747, recall: 0.8707501438737826\n"
     ]
    },
    {
     "name": "stderr",
     "output_type": "stream",
     "text": [
      "100%|████████████████████████████████████████████████████████████| 218/218 [00:00<00:00, 512.07it/s]\n"
     ]
    },
    {
     "name": "stdout",
     "output_type": "stream",
     "text": [
      "val_loss: 0.757282082093965, val_f1: 0.2557542828440271, val_precision: 0.1500776197265731, val_recall: 0.8644632218627755\n"
     ]
    },
    {
     "name": "stderr",
     "output_type": "stream",
     "text": [
      "100%|████████████████████████████████████████████████████████████| 655/655 [00:04<00:00, 152.66it/s]\n"
     ]
    },
    {
     "name": "stdout",
     "output_type": "stream",
     "text": [
      "Epoch: 119, loss: 0.7405675518603725, f1: 0.27539205753291074, precision: 0.16352803195535226, recall: 0.8716769051005822\n"
     ]
    },
    {
     "name": "stderr",
     "output_type": "stream",
     "text": [
      "100%|████████████████████████████████████████████████████████████| 218/218 [00:00<00:00, 514.85it/s]\n"
     ]
    },
    {
     "name": "stdout",
     "output_type": "stream",
     "text": [
      "val_loss: 0.7527842360352157, val_f1: 0.26154897350828116, val_precision: 0.15386224953338093, val_recall: 0.8715117573738098\n"
     ]
    },
    {
     "name": "stderr",
     "output_type": "stream",
     "text": [
      "100%|████████████████████████████████████████████████████████████| 655/655 [00:04<00:00, 150.95it/s]\n"
     ]
    },
    {
     "name": "stdout",
     "output_type": "stream",
     "text": [
      "Epoch: 120, loss: 0.7368532063396832, f1: 0.27943145677524805, precision: 0.1662353127171065, recall: 0.8757938100181463\n"
     ]
    },
    {
     "name": "stderr",
     "output_type": "stream",
     "text": [
      "100%|████████████████████████████████████████████████████████████| 218/218 [00:00<00:00, 514.05it/s]\n"
     ]
    },
    {
     "name": "stdout",
     "output_type": "stream",
     "text": [
      "val_loss: 0.7557859199309568, val_f1: 0.25758102002599603, val_precision: 0.1513545210003306, val_recall: 0.8638989744930092\n"
     ]
    },
    {
     "name": "stderr",
     "output_type": "stream",
     "text": [
      "100%|████████████████████████████████████████████████████████████| 655/655 [00:04<00:00, 152.07it/s]\n"
     ]
    },
    {
     "name": "stdout",
     "output_type": "stream",
     "text": [
      "Epoch: 121, loss: 0.7366286401530259, f1: 0.2801172823960724, precision: 0.16679066299311532, recall: 0.8738760503193804\n"
     ]
    },
    {
     "name": "stderr",
     "output_type": "stream",
     "text": [
      "100%|████████████████████████████████████████████████████████████| 218/218 [00:00<00:00, 506.04it/s]\n"
     ]
    },
    {
     "name": "stdout",
     "output_type": "stream",
     "text": [
      "val_loss: 0.752189871641474, val_f1: 0.2615417612709848, val_precision: 0.15441333664871684, val_recall: 0.8540892707645347\n"
     ]
    },
    {
     "name": "stderr",
     "output_type": "stream",
     "text": [
      "100%|████████████████████████████████████████████████████████████| 655/655 [00:04<00:00, 151.51it/s]\n"
     ]
    },
    {
     "name": "stdout",
     "output_type": "stream",
     "text": [
      "Epoch: 122, loss: 0.7356708857849354, f1: 0.27984447041936217, precision: 0.16678695741273064, recall: 0.8686932888649802\n"
     ]
    },
    {
     "name": "stderr",
     "output_type": "stream",
     "text": [
      "100%|████████████████████████████████████████████████████████████| 218/218 [00:00<00:00, 511.95it/s]\n"
     ]
    },
    {
     "name": "stdout",
     "output_type": "stream",
     "text": [
      "val_loss: 0.7523111884200245, val_f1: 0.2617694424111166, val_precision: 0.1541701103090693, val_recall: 0.8665739625965784\n"
     ]
    },
    {
     "name": "stderr",
     "output_type": "stream",
     "text": [
      "100%|████████████████████████████████████████████████████████████| 655/655 [00:04<00:00, 152.28it/s]\n"
     ]
    },
    {
     "name": "stdout",
     "output_type": "stream",
     "text": [
      "Epoch: 123, loss: 0.7338509237493267, f1: 0.28225553034174017, precision: 0.16832392415927566, recall: 0.8734755246693852\n"
     ]
    },
    {
     "name": "stderr",
     "output_type": "stream",
     "text": [
      "100%|████████████████████████████████████████████████████████████| 218/218 [00:00<00:00, 514.64it/s]\n"
     ]
    },
    {
     "name": "stdout",
     "output_type": "stream",
     "text": [
      "val_loss: 0.7522314644734794, val_f1: 0.2615651423051223, val_precision: 0.15405555003655885, val_recall: 0.8657156023957314\n"
     ]
    },
    {
     "name": "stderr",
     "output_type": "stream",
     "text": [
      "100%|████████████████████████████████████████████████████████████| 655/655 [00:04<00:00, 151.56it/s]\n"
     ]
    },
    {
     "name": "stdout",
     "output_type": "stream",
     "text": [
      "Epoch: 124, loss: 0.7335677769347911, f1: 0.2824795379686022, precision: 0.1686989866168672, recall: 0.8677234077271614\n"
     ]
    },
    {
     "name": "stderr",
     "output_type": "stream",
     "text": [
      "100%|████████████████████████████████████████████████████████████| 218/218 [00:00<00:00, 516.43it/s]\n"
     ]
    },
    {
     "name": "stdout",
     "output_type": "stream",
     "text": [
      "val_loss: 0.7528948425699812, val_f1: 0.26080256942139285, val_precision: 0.1538725965271849, val_recall: 0.8548812450618919\n"
     ]
    },
    {
     "name": "stderr",
     "output_type": "stream",
     "text": [
      "100%|████████████████████████████████████████████████████████████| 655/655 [00:04<00:00, 150.08it/s]\n"
     ]
    },
    {
     "name": "stdout",
     "output_type": "stream",
     "text": [
      "Epoch: 125, loss: 0.7319781893082248, f1: 0.2845073448176635, precision: 0.16997221630095072, recall: 0.8723103230236141\n"
     ]
    },
    {
     "name": "stderr",
     "output_type": "stream",
     "text": [
      "100%|████████████████████████████████████████████████████████████| 218/218 [00:00<00:00, 517.59it/s]\n"
     ]
    },
    {
     "name": "stdout",
     "output_type": "stream",
     "text": [
      "val_loss: 0.7518888665448635, val_f1: 0.2619528409810948, val_precision: 0.15463096800542206, val_recall: 0.8561994548237651\n"
     ]
    },
    {
     "name": "stderr",
     "output_type": "stream",
     "text": [
      "100%|████████████████████████████████████████████████████████████| 655/655 [00:04<00:00, 150.03it/s]\n"
     ]
    },
    {
     "name": "stdout",
     "output_type": "stream",
     "text": [
      "Epoch: 126, loss: 0.737550842488995, f1: 0.2791922413986453, precision: 0.16632570370690514, recall: 0.8686414226320863\n"
     ]
    },
    {
     "name": "stderr",
     "output_type": "stream",
     "text": [
      "100%|████████████████████████████████████████████████████████████| 218/218 [00:00<00:00, 520.33it/s]\n"
     ]
    },
    {
     "name": "stdout",
     "output_type": "stream",
     "text": [
      "val_loss: 0.7557628452777863, val_f1: 0.2578962575827426, val_precision: 0.1512147994848703, val_recall: 0.8756973912956518\n"
     ]
    },
    {
     "name": "stderr",
     "output_type": "stream",
     "text": [
      "100%|████████████████████████████████████████████████████████████| 655/655 [00:04<00:00, 150.96it/s]\n"
     ]
    },
    {
     "name": "stdout",
     "output_type": "stream",
     "text": [
      "Epoch: 127, loss: 0.736325104546001, f1: 0.27987808054467217, precision: 0.1667943871317019, recall: 0.8691396383838799\n"
     ]
    },
    {
     "name": "stderr",
     "output_type": "stream",
     "text": [
      "100%|████████████████████████████████████████████████████████████| 218/218 [00:00<00:00, 518.40it/s]\n"
     ]
    },
    {
     "name": "stdout",
     "output_type": "stream",
     "text": [
      "val_loss: 0.7498060328151108, val_f1: 0.2640036634926291, val_precision: 0.15575895813045973, val_recall: 0.8654442229949006\n"
     ]
    },
    {
     "name": "stderr",
     "output_type": "stream",
     "text": [
      "100%|████████████████████████████████████████████████████████████| 655/655 [00:04<00:00, 150.10it/s]\n"
     ]
    },
    {
     "name": "stdout",
     "output_type": "stream",
     "text": [
      "Epoch: 128, loss: 0.7327091901356937, f1: 0.2837656830270155, precision: 0.16947057393614118, recall: 0.8715818398781405\n"
     ]
    },
    {
     "name": "stderr",
     "output_type": "stream",
     "text": [
      "100%|████████████████████████████████████████████████████████████| 218/218 [00:00<00:00, 511.86it/s]\n"
     ]
    },
    {
     "name": "stdout",
     "output_type": "stream",
     "text": [
      "val_loss: 0.7531108940960071, val_f1: 0.2603864417846537, val_precision: 0.15339012266299046, val_recall: 0.8609060951329153\n"
     ]
    },
    {
     "name": "stderr",
     "output_type": "stream",
     "text": [
      "100%|████████████████████████████████████████████████████████████| 655/655 [00:04<00:00, 150.86it/s]\n"
     ]
    },
    {
     "name": "stdout",
     "output_type": "stream",
     "text": [
      "Epoch: 129, loss: 0.7315723686727859, f1: 0.28521505294404204, precision: 0.17049388929007162, recall: 0.8718853723911839\n"
     ]
    },
    {
     "name": "stderr",
     "output_type": "stream",
     "text": [
      "100%|████████████████████████████████████████████████████████████| 218/218 [00:00<00:00, 517.53it/s]\n"
     ]
    },
    {
     "name": "stdout",
     "output_type": "stream",
     "text": [
      "val_loss: 0.7503625460720937, val_f1: 0.26413704542069066, val_precision: 0.1559150317649639, val_recall: 0.8635003080061816\n"
     ]
    },
    {
     "name": "stderr",
     "output_type": "stream",
     "text": [
      "100%|████████████████████████████████████████████████████████████| 655/655 [00:04<00:00, 149.25it/s]\n"
     ]
    },
    {
     "name": "stdout",
     "output_type": "stream",
     "text": [
      "Epoch: 130, loss: 0.7324032538719759, f1: 0.2848181832275781, precision: 0.17025349924468813, recall: 0.8707546051221949\n"
     ]
    },
    {
     "name": "stderr",
     "output_type": "stream",
     "text": [
      "100%|████████████████████████████████████████████████████████████| 218/218 [00:00<00:00, 514.40it/s]\n"
     ]
    },
    {
     "name": "stdout",
     "output_type": "stream",
     "text": [
      "val_loss: 0.7521669246734829, val_f1: 0.2612611990679086, val_precision: 0.15416019068125192, val_recall: 0.8558600957787365\n"
     ]
    },
    {
     "name": "stderr",
     "output_type": "stream",
     "text": [
      "100%|████████████████████████████████████████████████████████████| 655/655 [00:04<00:00, 149.69it/s]\n"
     ]
    },
    {
     "name": "stdout",
     "output_type": "stream",
     "text": [
      "Epoch: 131, loss: 0.7355024980224726, f1: 0.28223849969279774, precision: 0.16844571878323117, recall: 0.8698867581272853\n"
     ]
    },
    {
     "name": "stderr",
     "output_type": "stream",
     "text": [
      "100%|████████████████████████████████████████████████████████████| 218/218 [00:00<00:00, 515.68it/s]\n"
     ]
    },
    {
     "name": "stdout",
     "output_type": "stream",
     "text": [
      "val_loss: 0.7508783509971899, val_f1: 0.26380926071655897, val_precision: 0.15535349236510762, val_recall: 0.8738950734291602\n"
     ]
    },
    {
     "name": "stderr",
     "output_type": "stream",
     "text": [
      "100%|████████████████████████████████████████████████████████████| 655/655 [00:04<00:00, 149.73it/s]\n"
     ]
    },
    {
     "name": "stdout",
     "output_type": "stream",
     "text": [
      "Epoch: 132, loss: 0.7315321639293932, f1: 0.28523635533233865, precision: 0.17080359460060834, recall: 0.8642659946252371\n"
     ]
    },
    {
     "name": "stderr",
     "output_type": "stream",
     "text": [
      "100%|████████████████████████████████████████████████████████████| 218/218 [00:00<00:00, 512.85it/s]\n"
     ]
    },
    {
     "name": "stdout",
     "output_type": "stream",
     "text": [
      "val_loss: 0.7476709996341565, val_f1: 0.26603656083622496, val_precision: 0.15697554760364765, val_recall: 0.8715775989064383\n"
     ]
    },
    {
     "name": "stderr",
     "output_type": "stream",
     "text": [
      "100%|████████████████████████████████████████████████████████████| 655/655 [00:04<00:00, 149.75it/s]\n"
     ]
    },
    {
     "name": "stdout",
     "output_type": "stream",
     "text": [
      "Epoch: 133, loss: 0.7334583347990312, f1: 0.2836088817852142, precision: 0.1696052751354589, recall: 0.8651100539979134\n"
     ]
    },
    {
     "name": "stderr",
     "output_type": "stream",
     "text": [
      "100%|████████████████████████████████████████████████████████████| 218/218 [00:00<00:00, 513.35it/s]\n"
     ]
    },
    {
     "name": "stdout",
     "output_type": "stream",
     "text": [
      "val_loss: 0.7486470937728882, val_f1: 0.2648834015246619, val_precision: 0.15645359125022495, val_recall: 0.8629466191344305\n"
     ]
    },
    {
     "name": "stderr",
     "output_type": "stream",
     "text": [
      "100%|████████████████████████████████████████████████████████████| 655/655 [00:04<00:00, 151.15it/s]\n"
     ]
    },
    {
     "name": "stdout",
     "output_type": "stream",
     "text": [
      "Epoch: 134, loss: 0.7326635954944232, f1: 0.2840394610198027, precision: 0.16972429641728637, recall: 0.8700442706355612\n"
     ]
    },
    {
     "name": "stderr",
     "output_type": "stream",
     "text": [
      "100%|████████████████████████████████████████████████████████████| 218/218 [00:00<00:00, 512.73it/s]\n"
     ]
    },
    {
     "name": "stdout",
     "output_type": "stream",
     "text": [
      "val_loss: 0.7511202731263746, val_f1: 0.263674973131435, val_precision: 0.1555219118081785, val_recall: 0.8657004655501165\n"
     ]
    },
    {
     "name": "stderr",
     "output_type": "stream",
     "text": [
      "100%|████████████████████████████████████████████████████████████| 655/655 [00:04<00:00, 150.13it/s]\n"
     ]
    },
    {
     "name": "stdout",
     "output_type": "stream",
     "text": [
      "Epoch: 135, loss: 0.7301615965275364, f1: 0.28662967477750434, precision: 0.17155427070235024, recall: 0.8706361822499573\n"
     ]
    },
    {
     "name": "stderr",
     "output_type": "stream",
     "text": [
      "100%|████████████████████████████████████████████████████████████| 218/218 [00:00<00:00, 517.33it/s]\n"
     ]
    },
    {
     "name": "stdout",
     "output_type": "stream",
     "text": [
      "val_loss: 0.747665957573357, val_f1: 0.26568612943923337, val_precision: 0.15701620208116573, val_recall: 0.8628798646664401\n"
     ]
    },
    {
     "name": "stderr",
     "output_type": "stream",
     "text": [
      "100%|████████████████████████████████████████████████████████████| 655/655 [00:04<00:00, 149.76it/s]\n"
     ]
    },
    {
     "name": "stdout",
     "output_type": "stream",
     "text": [
      "Epoch: 136, loss: 0.7298310604714255, f1: 0.2868760169811587, precision: 0.1716579426961546, recall: 0.87251349569277\n"
     ]
    },
    {
     "name": "stderr",
     "output_type": "stream",
     "text": [
      "100%|████████████████████████████████████████████████████████████| 218/218 [00:00<00:00, 524.10it/s]\n"
     ]
    },
    {
     "name": "stdout",
     "output_type": "stream",
     "text": [
      "val_loss: 0.7450079256241474, val_f1: 0.2693293849908161, val_precision: 0.15951215252792889, val_recall: 0.8645010371820643\n"
     ]
    },
    {
     "name": "stderr",
     "output_type": "stream",
     "text": [
      "100%|████████████████████████████████████████████████████████████| 655/655 [00:04<00:00, 152.11it/s]\n"
     ]
    },
    {
     "name": "stdout",
     "output_type": "stream",
     "text": [
      "Epoch: 137, loss: 0.7308665820660482, f1: 0.28607713771456933, precision: 0.17120751228951317, recall: 0.869371533029862\n"
     ]
    },
    {
     "name": "stderr",
     "output_type": "stream",
     "text": [
      "100%|████████████████████████████████████████████████████████████| 218/218 [00:00<00:00, 520.03it/s]\n"
     ]
    },
    {
     "name": "stdout",
     "output_type": "stream",
     "text": [
      "val_loss: 0.747020273033632, val_f1: 0.2673467815035347, val_precision: 0.15796304629996008, val_recall: 0.8693188740572798\n"
     ]
    },
    {
     "name": "stderr",
     "output_type": "stream",
     "text": [
      "100%|████████████████████████████████████████████████████████████| 655/655 [00:04<00:00, 152.07it/s]\n"
     ]
    },
    {
     "name": "stdout",
     "output_type": "stream",
     "text": [
      "Epoch: 138, loss: 0.7281659407470062, f1: 0.2886649807629618, precision: 0.17298164831204269, recall: 0.8714696659386613\n"
     ]
    },
    {
     "name": "stderr",
     "output_type": "stream",
     "text": [
      "100%|████████████████████████████████████████████████████████████| 218/218 [00:00<00:00, 510.49it/s]\n"
     ]
    },
    {
     "name": "stdout",
     "output_type": "stream",
     "text": [
      "val_loss: 0.7530916502716345, val_f1: 0.26156133954970956, val_precision: 0.15396100961082027, val_recall: 0.8686293686201813\n"
     ]
    },
    {
     "name": "stderr",
     "output_type": "stream",
     "text": [
      "100%|████████████████████████████████████████████████████████████| 655/655 [00:04<00:00, 152.00it/s]\n"
     ]
    },
    {
     "name": "stdout",
     "output_type": "stream",
     "text": [
      "Epoch: 139, loss: 0.73336235503204, f1: 0.28372837144583113, precision: 0.1693055195008753, recall: 0.8752632017354018\n"
     ]
    },
    {
     "name": "stderr",
     "output_type": "stream",
     "text": [
      "100%|████████████████████████████████████████████████████████████| 218/218 [00:00<00:00, 517.23it/s]\n"
     ]
    },
    {
     "name": "stdout",
     "output_type": "stream",
     "text": [
      "val_loss: 0.7494875198110528, val_f1: 0.26474411132700926, val_precision: 0.15613007646293267, val_recall: 0.8699066031963454\n"
     ]
    },
    {
     "name": "stderr",
     "output_type": "stream",
     "text": [
      "100%|████████████████████████████████████████████████████████████| 655/655 [00:04<00:00, 151.03it/s]\n"
     ]
    },
    {
     "name": "stdout",
     "output_type": "stream",
     "text": [
      "Epoch: 140, loss: 0.728670689713864, f1: 0.2881835897306305, precision: 0.17271933497590872, recall: 0.8693530386640825\n"
     ]
    },
    {
     "name": "stderr",
     "output_type": "stream",
     "text": [
      "100%|████████████████████████████████████████████████████████████| 218/218 [00:00<00:00, 516.37it/s]\n"
     ]
    },
    {
     "name": "stdout",
     "output_type": "stream",
     "text": [
      "val_loss: 0.7494730924794434, val_f1: 0.2650932776215796, val_precision: 0.15693978113421334, val_recall: 0.8527741202520668\n"
     ]
    },
    {
     "name": "stderr",
     "output_type": "stream",
     "text": [
      "100%|████████████████████████████████████████████████████████████| 655/655 [00:04<00:00, 150.32it/s]\n"
     ]
    },
    {
     "name": "stdout",
     "output_type": "stream",
     "text": [
      "Epoch: 141, loss: 0.728585723065238, f1: 0.28834718572735923, precision: 0.17277021084464234, recall: 0.8710436336866771\n"
     ]
    },
    {
     "name": "stderr",
     "output_type": "stream",
     "text": [
      "100%|████████████████████████████████████████████████████████████| 218/218 [00:00<00:00, 517.94it/s]\n"
     ]
    },
    {
     "name": "stdout",
     "output_type": "stream",
     "text": [
      "val_loss: 0.7460001627786443, val_f1: 0.2679783366591817, val_precision: 0.1583788019152136, val_recall: 0.870084574053047\n"
     ]
    },
    {
     "name": "stderr",
     "output_type": "stream",
     "text": [
      "100%|████████████████████████████████████████████████████████████| 655/655 [00:04<00:00, 151.62it/s]\n"
     ]
    },
    {
     "name": "stdout",
     "output_type": "stream",
     "text": [
      "Epoch: 142, loss: 0.7282393093327529, f1: 0.28867245565680655, precision: 0.1728412187736453, recall: 0.8751888249666636\n"
     ]
    },
    {
     "name": "stderr",
     "output_type": "stream",
     "text": [
      "100%|████████████████████████████████████████████████████████████| 218/218 [00:00<00:00, 521.37it/s]\n"
     ]
    },
    {
     "name": "stdout",
     "output_type": "stream",
     "text": [
      "val_loss: 0.7496684458824473, val_f1: 0.2641906547244485, val_precision: 0.15616630720094257, val_recall: 0.8570004050884772\n"
     ]
    },
    {
     "name": "stderr",
     "output_type": "stream",
     "text": [
      "100%|████████████████████████████████████████████████████████████| 655/655 [00:04<00:00, 150.89it/s]\n"
     ]
    },
    {
     "name": "stdout",
     "output_type": "stream",
     "text": [
      "Epoch: 143, loss: 0.7302914337347483, f1: 0.28691725817487174, precision: 0.17172463007043792, recall: 0.871555195418933\n"
     ]
    },
    {
     "name": "stderr",
     "output_type": "stream",
     "text": [
      "100%|████████████████████████████████████████████████████████████| 218/218 [00:00<00:00, 516.18it/s]\n"
     ]
    },
    {
     "name": "stdout",
     "output_type": "stream",
     "text": [
      "val_loss: 0.7469360719033338, val_f1: 0.26678015313792575, val_precision: 0.15716179327851315, val_recall: 0.881880929984084\n"
     ]
    },
    {
     "name": "stderr",
     "output_type": "stream",
     "text": [
      "100%|████████████████████████████████████████████████████████████| 655/655 [00:04<00:00, 150.62it/s]\n"
     ]
    },
    {
     "name": "stdout",
     "output_type": "stream",
     "text": [
      "Epoch: 144, loss: 0.7258150525675475, f1: 0.2912189470047867, precision: 0.17489519329414568, recall: 0.8695841247798832\n"
     ]
    },
    {
     "name": "stderr",
     "output_type": "stream",
     "text": [
      "100%|████████████████████████████████████████████████████████████| 218/218 [00:00<00:00, 517.96it/s]\n"
     ]
    },
    {
     "name": "stdout",
     "output_type": "stream",
     "text": [
      "val_loss: 0.7464324780013583, val_f1: 0.26804556310489885, val_precision: 0.1583863970857763, val_recall: 0.8712740302632708\n"
     ]
    },
    {
     "name": "stderr",
     "output_type": "stream",
     "text": [
      "100%|████████████████████████████████████████████████████████████| 655/655 [00:04<00:00, 149.73it/s]\n"
     ]
    },
    {
     "name": "stdout",
     "output_type": "stream",
     "text": [
      "Epoch: 145, loss: 0.7277842508927557, f1: 0.2895711125787567, precision: 0.173458436401632, recall: 0.8758895551885357\n"
     ]
    },
    {
     "name": "stderr",
     "output_type": "stream",
     "text": [
      "100%|████████████████████████████████████████████████████████████| 218/218 [00:00<00:00, 510.87it/s]\n"
     ]
    },
    {
     "name": "stdout",
     "output_type": "stream",
     "text": [
      "val_loss: 0.7490316388803885, val_f1: 0.26554478198349013, val_precision: 0.15666965368725017, val_recall: 0.8704513475435589\n"
     ]
    },
    {
     "name": "stderr",
     "output_type": "stream",
     "text": [
      "100%|████████████████████████████████████████████████████████████| 655/655 [00:04<00:00, 149.83it/s]\n"
     ]
    },
    {
     "name": "stdout",
     "output_type": "stream",
     "text": [
      "Epoch: 146, loss: 0.7285606910254209, f1: 0.28878009005290894, precision: 0.17320914606329138, recall: 0.8678159796554624\n"
     ]
    },
    {
     "name": "stderr",
     "output_type": "stream",
     "text": [
      "100%|████████████████████████████████████████████████████████████| 218/218 [00:00<00:00, 516.67it/s]\n"
     ]
    },
    {
     "name": "stdout",
     "output_type": "stream",
     "text": [
      "val_loss: 0.747291070332221, val_f1: 0.2681449570792991, val_precision: 0.15865396504897042, val_recall: 0.86533132632938\n"
     ]
    },
    {
     "name": "stderr",
     "output_type": "stream",
     "text": [
      "100%|████████████████████████████████████████████████████████████| 655/655 [00:04<00:00, 149.60it/s]\n"
     ]
    },
    {
     "name": "stdout",
     "output_type": "stream",
     "text": [
      "Epoch: 147, loss: 0.7266903710729293, f1: 0.2902387737890628, precision: 0.17424294189869902, recall: 0.8682329095956933\n"
     ]
    },
    {
     "name": "stderr",
     "output_type": "stream",
     "text": [
      "100%|████████████████████████████████████████████████████████████| 218/218 [00:00<00:00, 507.60it/s]\n"
     ]
    },
    {
     "name": "stdout",
     "output_type": "stream",
     "text": [
      "val_loss: 0.7452349632705023, val_f1: 0.2682421684895456, val_precision: 0.15838119180001523, val_recall: 0.8756044102371285\n"
     ]
    },
    {
     "name": "stderr",
     "output_type": "stream",
     "text": [
      "100%|████████████████████████████████████████████████████████████| 655/655 [00:04<00:00, 152.17it/s]\n"
     ]
    },
    {
     "name": "stdout",
     "output_type": "stream",
     "text": [
      "Epoch: 148, loss: 0.7266293631255172, f1: 0.29054302194196313, precision: 0.17425629699048195, recall: 0.8733711383269943\n"
     ]
    },
    {
     "name": "stderr",
     "output_type": "stream",
     "text": [
      "100%|████████████████████████████████████████████████████████████| 218/218 [00:00<00:00, 518.76it/s]\n"
     ]
    },
    {
     "name": "stdout",
     "output_type": "stream",
     "text": [
      "val_loss: 0.7490591877097383, val_f1: 0.26512516220090365, val_precision: 0.1566455296556884, val_recall: 0.8622422491738556\n"
     ]
    },
    {
     "name": "stderr",
     "output_type": "stream",
     "text": [
      "100%|████████████████████████████████████████████████████████████| 655/655 [00:03<00:00, 168.32it/s]\n"
     ]
    },
    {
     "name": "stdout",
     "output_type": "stream",
     "text": [
      "Epoch: 149, loss: 0.7295522999217492, f1: 0.28789078796330286, precision: 0.17240497114435407, recall: 0.8720052780085847\n"
     ]
    },
    {
     "name": "stderr",
     "output_type": "stream",
     "text": [
      "100%|████████████████████████████████████████████████████████████| 218/218 [00:00<00:00, 520.51it/s]\n"
     ]
    },
    {
     "name": "stdout",
     "output_type": "stream",
     "text": [
      "val_loss: 0.7472047171461473, val_f1: 0.2664468633726102, val_precision: 0.157514664464109, val_recall: 0.8638772816833006\n"
     ]
    },
    {
     "name": "stderr",
     "output_type": "stream",
     "text": [
      "100%|████████████████████████████████████████████████████████████| 655/655 [00:04<00:00, 152.27it/s]\n"
     ]
    },
    {
     "name": "stdout",
     "output_type": "stream",
     "text": [
      "Epoch: 150, loss: 0.7304539848829954, f1: 0.2864560162772915, precision: 0.17148643577087472, recall: 0.8691800173002345\n"
     ]
    },
    {
     "name": "stderr",
     "output_type": "stream",
     "text": [
      "100%|████████████████████████████████████████████████████████████| 218/218 [00:00<00:00, 520.15it/s]\n"
     ]
    },
    {
     "name": "stdout",
     "output_type": "stream",
     "text": [
      "val_loss: 0.745255674244067, val_f1: 0.2690380037652466, val_precision: 0.15895413272424574, val_recall: 0.875065962108997\n"
     ]
    },
    {
     "name": "stderr",
     "output_type": "stream",
     "text": [
      "100%|████████████████████████████████████████████████████████████| 655/655 [00:04<00:00, 149.94it/s]\n"
     ]
    },
    {
     "name": "stdout",
     "output_type": "stream",
     "text": [
      "Epoch: 151, loss: 0.7278277658324205, f1: 0.2892025138341683, precision: 0.17353824646077085, recall: 0.8671893295440966\n"
     ]
    },
    {
     "name": "stderr",
     "output_type": "stream",
     "text": [
      "100%|████████████████████████████████████████████████████████████| 218/218 [00:00<00:00, 517.04it/s]\n"
     ]
    },
    {
     "name": "stdout",
     "output_type": "stream",
     "text": [
      "val_loss: 0.7469370187422552, val_f1: 0.2670353105883003, val_precision: 0.15805837799957312, val_recall: 0.8599414240329637\n"
     ]
    },
    {
     "name": "stderr",
     "output_type": "stream",
     "text": [
      "100%|████████████████████████████████████████████████████████████| 655/655 [00:04<00:00, 151.66it/s]\n"
     ]
    },
    {
     "name": "stdout",
     "output_type": "stream",
     "text": [
      "Epoch: 152, loss: 0.726859290272225, f1: 0.2905392835945838, precision: 0.17435848230339643, recall: 0.8707460946481647\n"
     ]
    },
    {
     "name": "stderr",
     "output_type": "stream",
     "text": [
      "100%|████████████████████████████████████████████████████████████| 218/218 [00:00<00:00, 513.21it/s]\n"
     ]
    },
    {
     "name": "stdout",
     "output_type": "stream",
     "text": [
      "val_loss: 0.7493122127077995, val_f1: 0.26406260299846357, val_precision: 0.15559763287476033, val_recall: 0.8717418783301607\n"
     ]
    },
    {
     "name": "stderr",
     "output_type": "stream",
     "text": [
      "100%|████████████████████████████████████████████████████████████| 655/655 [00:04<00:00, 151.93it/s]\n"
     ]
    },
    {
     "name": "stdout",
     "output_type": "stream",
     "text": [
      "Epoch: 153, loss: 0.7263314612039173, f1: 0.29056649104671256, precision: 0.1744076560272743, recall: 0.870009379532501\n"
     ]
    },
    {
     "name": "stderr",
     "output_type": "stream",
     "text": [
      "100%|████████████████████████████████████████████████████████████| 218/218 [00:00<00:00, 512.51it/s]\n"
     ]
    },
    {
     "name": "stdout",
     "output_type": "stream",
     "text": [
      "val_loss: 0.7445564904344191, val_f1: 0.2700567552377279, val_precision: 0.15976069224229372, val_recall: 0.8722283946811606\n"
     ]
    },
    {
     "name": "stderr",
     "output_type": "stream",
     "text": [
      "100%|████████████████████████████████████████████████████████████| 655/655 [00:04<00:00, 149.86it/s]\n"
     ]
    },
    {
     "name": "stdout",
     "output_type": "stream",
     "text": [
      "Epoch: 154, loss: 0.7276421638845487, f1: 0.28953855046794585, precision: 0.17365976510896483, recall: 0.8702032551510643\n"
     ]
    },
    {
     "name": "stderr",
     "output_type": "stream",
     "text": [
      "100%|████████████████████████████████████████████████████████████| 218/218 [00:00<00:00, 518.65it/s]\n"
     ]
    },
    {
     "name": "stdout",
     "output_type": "stream",
     "text": [
      "val_loss: 0.7478893535946487, val_f1: 0.26693542593327174, val_precision: 0.15776071418931178, val_recall: 0.8667501197495592\n"
     ]
    },
    {
     "name": "stderr",
     "output_type": "stream",
     "text": [
      "100%|████████████████████████████████████████████████████████████| 655/655 [00:04<00:00, 151.88it/s]\n"
     ]
    },
    {
     "name": "stdout",
     "output_type": "stream",
     "text": [
      "Epoch: 155, loss: 0.7252927932120462, f1: 0.2921910671635631, precision: 0.17561919864636796, recall: 0.8690377863763853\n"
     ]
    },
    {
     "name": "stderr",
     "output_type": "stream",
     "text": [
      "100%|████████████████████████████████████████████████████████████| 218/218 [00:00<00:00, 512.99it/s]\n"
     ]
    },
    {
     "name": "stdout",
     "output_type": "stream",
     "text": [
      "val_loss: 0.738083373242562, val_f1: 0.27722004100643877, val_precision: 0.1651799004832539, val_recall: 0.8617121872551944\n"
     ]
    },
    {
     "name": "stderr",
     "output_type": "stream",
     "text": [
      "100%|████████████████████████████████████████████████████████████| 655/655 [00:04<00:00, 149.37it/s]\n"
     ]
    },
    {
     "name": "stdout",
     "output_type": "stream",
     "text": [
      "Epoch: 156, loss: 0.7219252524485115, f1: 0.29553812900046006, precision: 0.17814376400570378, recall: 0.8666468403721583\n"
     ]
    },
    {
     "name": "stderr",
     "output_type": "stream",
     "text": [
      "100%|████████████████████████████████████████████████████████████| 218/218 [00:00<00:00, 513.68it/s]\n"
     ]
    },
    {
     "name": "stdout",
     "output_type": "stream",
     "text": [
      "val_loss: 0.7403671812573704, val_f1: 0.27394273944954256, val_precision: 0.16261163377843865, val_recall: 0.8686781916596474\n"
     ]
    },
    {
     "name": "stderr",
     "output_type": "stream",
     "text": [
      "100%|████████████████████████████████████████████████████████████| 655/655 [00:04<00:00, 149.98it/s]\n"
     ]
    },
    {
     "name": "stdout",
     "output_type": "stream",
     "text": [
      "Epoch: 157, loss: 0.7229829233111316, f1: 0.2941762318174831, precision: 0.177079983072654, recall: 0.8684474672069986\n"
     ]
    },
    {
     "name": "stderr",
     "output_type": "stream",
     "text": [
      "100%|████████████████████████████████████████████████████████████| 218/218 [00:00<00:00, 518.64it/s]\n"
     ]
    },
    {
     "name": "stdout",
     "output_type": "stream",
     "text": [
      "val_loss: 0.7434816231968207, val_f1: 0.27228734730424015, val_precision: 0.16174555417799621, val_recall: 0.8601178308145716\n"
     ]
    },
    {
     "name": "stderr",
     "output_type": "stream",
     "text": [
      "100%|████████████████████████████████████████████████████████████| 655/655 [00:04<00:00, 152.55it/s]\n"
     ]
    },
    {
     "name": "stdout",
     "output_type": "stream",
     "text": [
      "Epoch: 158, loss: 0.7219840306362123, f1: 0.29558747965941473, precision: 0.17792614244265867, recall: 0.872694100860421\n"
     ]
    },
    {
     "name": "stderr",
     "output_type": "stream",
     "text": [
      "100%|████████████████████████████████████████████████████████████| 218/218 [00:00<00:00, 509.98it/s]\n"
     ]
    },
    {
     "name": "stdout",
     "output_type": "stream",
     "text": [
      "val_loss: 0.7451011945895099, val_f1: 0.26972496016501774, val_precision: 0.1591989984650404, val_recall: 0.8822121316686683\n"
     ]
    },
    {
     "name": "stderr",
     "output_type": "stream",
     "text": [
      "100%|████████████████████████████████████████████████████████████| 655/655 [00:04<00:00, 151.62it/s]\n"
     ]
    },
    {
     "name": "stdout",
     "output_type": "stream",
     "text": [
      "Epoch: 159, loss: 0.7252675146546983, f1: 0.2924090082863504, precision: 0.175703324673285, recall: 0.8708354096376258\n"
     ]
    },
    {
     "name": "stderr",
     "output_type": "stream",
     "text": [
      "100%|████████████████████████████████████████████████████████████| 218/218 [00:00<00:00, 515.67it/s]\n"
     ]
    },
    {
     "name": "stdout",
     "output_type": "stream",
     "text": [
      "val_loss: 0.7404501408065131, val_f1: 0.2741039523840111, val_precision: 0.1625193515194392, val_recall: 0.87459339679928\n"
     ]
    },
    {
     "name": "stderr",
     "output_type": "stream",
     "text": [
      "100%|████████████████████████████████████████████████████████████| 655/655 [00:04<00:00, 153.59it/s]\n"
     ]
    },
    {
     "name": "stdout",
     "output_type": "stream",
     "text": [
      "Epoch: 160, loss: 0.7219157462811652, f1: 0.2955849177104017, precision: 0.1779970313358398, recall: 0.8709482296732546\n"
     ]
    },
    {
     "name": "stderr",
     "output_type": "stream",
     "text": [
      "100%|████████████████████████████████████████████████████████████| 218/218 [00:00<00:00, 516.84it/s]\n"
     ]
    },
    {
     "name": "stdout",
     "output_type": "stream",
     "text": [
      "val_loss: 0.741777591475653, val_f1: 0.2725417912322933, val_precision: 0.16145324322540278, val_recall: 0.8736825650985088\n"
     ]
    },
    {
     "name": "stderr",
     "output_type": "stream",
     "text": [
      "100%|████████████████████████████████████████████████████████████| 655/655 [00:04<00:00, 149.34it/s]\n"
     ]
    },
    {
     "name": "stdout",
     "output_type": "stream",
     "text": [
      "Epoch: 161, loss: 0.7251149034682121, f1: 0.29243137020801513, precision: 0.17564902531395432, recall: 0.8725697590194585\n"
     ]
    },
    {
     "name": "stderr",
     "output_type": "stream",
     "text": [
      "100%|████████████████████████████████████████████████████████████| 218/218 [00:00<00:00, 505.73it/s]\n"
     ]
    },
    {
     "name": "stdout",
     "output_type": "stream",
     "text": [
      "val_loss: 0.7438302895891558, val_f1: 0.27079684812770105, val_precision: 0.16044154333446278, val_recall: 0.8674451408036258\n"
     ]
    },
    {
     "name": "stderr",
     "output_type": "stream",
     "text": [
      "100%|████████████████████████████████████████████████████████████| 655/655 [00:04<00:00, 149.56it/s]\n"
     ]
    },
    {
     "name": "stdout",
     "output_type": "stream",
     "text": [
      "Epoch: 162, loss: 0.7247898982681391, f1: 0.29258184271662313, precision: 0.1759005676215614, recall: 0.8690632733679909\n"
     ]
    },
    {
     "name": "stderr",
     "output_type": "stream",
     "text": [
      "100%|████████████████████████████████████████████████████████████| 218/218 [00:00<00:00, 513.71it/s]\n"
     ]
    },
    {
     "name": "stdout",
     "output_type": "stream",
     "text": [
      "val_loss: 0.7428872257197668, val_f1: 0.2715469639397681, val_precision: 0.16102841351215447, val_recall: 0.8657076881019348\n"
     ]
    },
    {
     "name": "stderr",
     "output_type": "stream",
     "text": [
      "100%|████████████████████████████████████████████████████████████| 655/655 [00:04<00:00, 150.18it/s]\n"
     ]
    },
    {
     "name": "stdout",
     "output_type": "stream",
     "text": [
      "Epoch: 163, loss: 0.7210426630864617, f1: 0.2964782779370947, precision: 0.1787353505814121, recall: 0.868815274820983\n"
     ]
    },
    {
     "name": "stderr",
     "output_type": "stream",
     "text": [
      "100%|████████████████████████████████████████████████████████████| 218/218 [00:00<00:00, 513.31it/s]\n"
     ]
    },
    {
     "name": "stdout",
     "output_type": "stream",
     "text": [
      "val_loss: 0.7435080201253979, val_f1: 0.2712205099967394, val_precision: 0.1604070627480882, val_recall: 0.8772436719421947\n"
     ]
    },
    {
     "name": "stderr",
     "output_type": "stream",
     "text": [
      "100%|████████████████████████████████████████████████████████████| 655/655 [00:04<00:00, 150.02it/s]\n"
     ]
    },
    {
     "name": "stdout",
     "output_type": "stream",
     "text": [
      "Epoch: 164, loss: 0.7209273477547041, f1: 0.29673254471200394, precision: 0.17871574540800267, recall: 0.8736688413692795\n"
     ]
    },
    {
     "name": "stderr",
     "output_type": "stream",
     "text": [
      "100%|████████████████████████████████████████████████████████████| 218/218 [00:00<00:00, 515.99it/s]\n"
     ]
    },
    {
     "name": "stdout",
     "output_type": "stream",
     "text": [
      "val_loss: 0.7385152119015335, val_f1: 0.276418587757447, val_precision: 0.16468315783443802, val_recall: 0.8597438967009203\n"
     ]
    },
    {
     "name": "stderr",
     "output_type": "stream",
     "text": [
      "100%|████████████████████████████████████████████████████████████| 655/655 [00:04<00:00, 149.00it/s]\n"
     ]
    },
    {
     "name": "stdout",
     "output_type": "stream",
     "text": [
      "Epoch: 165, loss: 0.7202954801894327, f1: 0.29759356019794186, precision: 0.17943462604045413, recall: 0.8714481639498063\n"
     ]
    },
    {
     "name": "stderr",
     "output_type": "stream",
     "text": [
      "100%|████████████████████████████████████████████████████████████| 218/218 [00:00<00:00, 513.13it/s]\n"
     ]
    },
    {
     "name": "stdout",
     "output_type": "stream",
     "text": [
      "val_loss: 0.7632871800606403, val_f1: 0.25212286930570826, val_precision: 0.146840338928437, val_recall: 0.8908508141106422\n"
     ]
    },
    {
     "name": "stderr",
     "output_type": "stream",
     "text": [
      "100%|████████████████████████████████████████████████████████████| 655/655 [00:04<00:00, 152.76it/s]\n"
     ]
    },
    {
     "name": "stdout",
     "output_type": "stream",
     "text": [
      "Epoch: 166, loss: 0.7218769549413492, f1: 0.2961043816296418, precision: 0.17815418982494424, recall: 0.8762248014675752\n"
     ]
    },
    {
     "name": "stderr",
     "output_type": "stream",
     "text": [
      "100%|████████████████████████████████████████████████████████████| 218/218 [00:00<00:00, 517.64it/s]\n"
     ]
    },
    {
     "name": "stdout",
     "output_type": "stream",
     "text": [
      "val_loss: 0.7408404191699597, val_f1: 0.2740860341311383, val_precision: 0.1625315626194581, val_recall: 0.8738755086146364\n"
     ]
    },
    {
     "name": "stderr",
     "output_type": "stream",
     "text": [
      "100%|████████████████████████████████████████████████████████████| 655/655 [00:04<00:00, 150.15it/s]\n"
     ]
    },
    {
     "name": "stdout",
     "output_type": "stream",
     "text": [
      "Epoch: 167, loss: 0.7179187206821587, f1: 0.2998596135988283, precision: 0.18105749108807276, recall: 0.8720826903372321\n"
     ]
    },
    {
     "name": "stderr",
     "output_type": "stream",
     "text": [
      "100%|████████████████████████████████████████████████████████████| 218/218 [00:00<00:00, 517.05it/s]\n"
     ]
    },
    {
     "name": "stdout",
     "output_type": "stream",
     "text": [
      "val_loss: 0.741684066866516, val_f1: 0.2746905779451433, val_precision: 0.16324205515444826, val_recall: 0.8657655199186518\n"
     ]
    },
    {
     "name": "stderr",
     "output_type": "stream",
     "text": [
      "100%|████████████████████████████████████████████████████████████| 655/655 [00:04<00:00, 151.69it/s]\n"
     ]
    },
    {
     "name": "stdout",
     "output_type": "stream",
     "text": [
      "Epoch: 168, loss: 0.7182125853218195, f1: 0.29913025842462787, precision: 0.1804715225743201, recall: 0.8733547870439428\n"
     ]
    },
    {
     "name": "stderr",
     "output_type": "stream",
     "text": [
      "100%|████████████████████████████████████████████████████████████| 218/218 [00:00<00:00, 516.85it/s]\n"
     ]
    },
    {
     "name": "stdout",
     "output_type": "stream",
     "text": [
      "val_loss: 0.7381475953333968, val_f1: 0.276147870131071, val_precision: 0.16413533092057758, val_recall: 0.8695931388150662\n"
     ]
    },
    {
     "name": "stderr",
     "output_type": "stream",
     "text": [
      "100%|████████████████████████████████████████████████████████████| 655/655 [00:04<00:00, 153.00it/s]\n"
     ]
    },
    {
     "name": "stdout",
     "output_type": "stream",
     "text": [
      "Epoch: 169, loss: 0.7216493727596661, f1: 0.2962792201086088, precision: 0.17844974032624533, recall: 0.8721663255500429\n"
     ]
    },
    {
     "name": "stderr",
     "output_type": "stream",
     "text": [
      "100%|████████████████████████████████████████████████████████████| 218/218 [00:00<00:00, 510.11it/s]\n"
     ]
    },
    {
     "name": "stdout",
     "output_type": "stream",
     "text": [
      "val_loss: 0.7384617968436775, val_f1: 0.2761805199304828, val_precision: 0.16430197140082306, val_recall: 0.8655864383102557\n"
     ]
    },
    {
     "name": "stderr",
     "output_type": "stream",
     "text": [
      "100%|████████████████████████████████████████████████████████████| 655/655 [00:04<00:00, 152.10it/s]\n"
     ]
    },
    {
     "name": "stdout",
     "output_type": "stream",
     "text": [
      "Epoch: 170, loss: 0.7212270344486673, f1: 0.29633287593238167, precision: 0.1785981047813219, recall: 0.8695627871360487\n"
     ]
    },
    {
     "name": "stderr",
     "output_type": "stream",
     "text": [
      "100%|████████████████████████████████████████████████████████████| 218/218 [00:00<00:00, 517.49it/s]\n"
     ]
    },
    {
     "name": "stdout",
     "output_type": "stream",
     "text": [
      "val_loss: 0.7427383007806375, val_f1: 0.27254645608695566, val_precision: 0.16195536302317173, val_recall: 0.8593592446878415\n"
     ]
    },
    {
     "name": "stderr",
     "output_type": "stream",
     "text": [
      "100%|████████████████████████████████████████████████████████████| 655/655 [00:04<00:00, 149.99it/s]\n"
     ]
    },
    {
     "name": "stdout",
     "output_type": "stream",
     "text": [
      "Epoch: 171, loss: 0.7177518121158803, f1: 0.3002291195645873, precision: 0.18133369908021152, recall: 0.8719275746636719\n"
     ]
    },
    {
     "name": "stderr",
     "output_type": "stream",
     "text": [
      "100%|████████████████████████████████████████████████████████████| 218/218 [00:00<00:00, 515.41it/s]\n"
     ]
    },
    {
     "name": "stdout",
     "output_type": "stream",
     "text": [
      "val_loss: 0.7370990662399782, val_f1: 0.27796237722665557, val_precision: 0.165696766727322, val_recall: 0.8619964535630077\n"
     ]
    },
    {
     "name": "stderr",
     "output_type": "stream",
     "text": [
      "100%|████████████████████████████████████████████████████████████| 655/655 [00:04<00:00, 149.67it/s]\n"
     ]
    },
    {
     "name": "stdout",
     "output_type": "stream",
     "text": [
      "Epoch: 172, loss: 0.7215939578209215, f1: 0.2961125886571698, precision: 0.17828989119077002, recall: 0.873099576152918\n"
     ]
    },
    {
     "name": "stderr",
     "output_type": "stream",
     "text": [
      "100%|████████████████████████████████████████████████████████████| 218/218 [00:00<00:00, 513.97it/s]\n"
     ]
    },
    {
     "name": "stdout",
     "output_type": "stream",
     "text": [
      "val_loss: 0.7380992800270746, val_f1: 0.27671444149362384, val_precision: 0.1645125876257726, val_recall: 0.8702422148043957\n"
     ]
    },
    {
     "name": "stderr",
     "output_type": "stream",
     "text": [
      "100%|████████████████████████████████████████████████████████████| 655/655 [00:04<00:00, 151.80it/s]\n"
     ]
    },
    {
     "name": "stdout",
     "output_type": "stream",
     "text": [
      "Epoch: 173, loss: 0.7193884795858659, f1: 0.2984720181518816, precision: 0.1800859743629703, recall: 0.8711618264212864\n"
     ]
    },
    {
     "name": "stderr",
     "output_type": "stream",
     "text": [
      "100%|████████████████████████████████████████████████████████████| 218/218 [00:00<00:00, 518.81it/s]\n"
     ]
    },
    {
     "name": "stdout",
     "output_type": "stream",
     "text": [
      "val_loss: 0.7395006795541956, val_f1: 0.27593741199307864, val_precision: 0.16402029525488615, val_recall: 0.8686482682140595\n"
     ]
    },
    {
     "name": "stderr",
     "output_type": "stream",
     "text": [
      "100%|████████████████████████████████████████████████████████████| 655/655 [00:04<00:00, 148.68it/s]\n"
     ]
    },
    {
     "name": "stdout",
     "output_type": "stream",
     "text": [
      "Epoch: 174, loss: 0.717854542677639, f1: 0.2998236457704771, precision: 0.18081598753635664, recall: 0.87711331480332\n"
     ]
    },
    {
     "name": "stderr",
     "output_type": "stream",
     "text": [
      "100%|████████████████████████████████████████████████████████████| 218/218 [00:00<00:00, 512.50it/s]\n"
     ]
    },
    {
     "name": "stdout",
     "output_type": "stream",
     "text": [
      "val_loss: 0.7403772350298156, val_f1: 0.27462395800049133, val_precision: 0.1631941287991924, val_recall: 0.8657900893360103\n"
     ]
    },
    {
     "name": "stderr",
     "output_type": "stream",
     "text": [
      "100%|████████████████████████████████████████████████████████████| 655/655 [00:04<00:00, 151.28it/s]\n"
     ]
    },
    {
     "name": "stdout",
     "output_type": "stream",
     "text": [
      "Epoch: 175, loss: 0.719269479413069, f1: 0.2983211811561597, precision: 0.17981666132864607, recall: 0.8749183682994988\n"
     ]
    },
    {
     "name": "stderr",
     "output_type": "stream",
     "text": [
      "100%|████████████████████████████████████████████████████████████| 218/218 [00:00<00:00, 518.25it/s]\n"
     ]
    },
    {
     "name": "stdout",
     "output_type": "stream",
     "text": [
      "val_loss: 0.7371719416675218, val_f1: 0.27763903159129166, val_precision: 0.16527008874461466, val_recall: 0.8673805947150659\n"
     ]
    },
    {
     "name": "stderr",
     "output_type": "stream",
     "text": [
      "100%|████████████████████████████████████████████████████████████| 655/655 [00:04<00:00, 151.87it/s]\n"
     ]
    },
    {
     "name": "stdout",
     "output_type": "stream",
     "text": [
      "Epoch: 176, loss: 0.7174083017210924, f1: 0.3001304146624138, precision: 0.18110387422258162, recall: 0.8755978640709214\n"
     ]
    },
    {
     "name": "stderr",
     "output_type": "stream",
     "text": [
      "100%|████████████████████████████████████████████████████████████| 218/218 [00:00<00:00, 515.61it/s]\n"
     ]
    },
    {
     "name": "stdout",
     "output_type": "stream",
     "text": [
      "val_loss: 0.7368207024324924, val_f1: 0.2781136543257286, val_precision: 0.16561284599774476, val_recall: 0.8672081852724792\n"
     ]
    },
    {
     "name": "stderr",
     "output_type": "stream",
     "text": [
      "100%|████████████████████████████████████████████████████████████| 655/655 [00:04<00:00, 152.90it/s]\n"
     ]
    },
    {
     "name": "stdout",
     "output_type": "stream",
     "text": [
      "Epoch: 177, loss: 0.7183007870011657, f1: 0.29992581969155163, precision: 0.18099708049238183, recall: 0.8746117037671213\n"
     ]
    },
    {
     "name": "stderr",
     "output_type": "stream",
     "text": [
      "100%|████████████████████████████████████████████████████████████| 218/218 [00:00<00:00, 517.96it/s]\n"
     ]
    },
    {
     "name": "stdout",
     "output_type": "stream",
     "text": [
      "val_loss: 0.7421566231535115, val_f1: 0.2726509859874515, val_precision: 0.16148691317664648, val_recall: 0.8749419901895961\n"
     ]
    },
    {
     "name": "stderr",
     "output_type": "stream",
     "text": [
      "100%|████████████████████████████████████████████████████████████| 655/655 [00:04<00:00, 150.14it/s]\n"
     ]
    },
    {
     "name": "stdout",
     "output_type": "stream",
     "text": [
      "Epoch: 178, loss: 0.7192501796110896, f1: 0.2990661981727336, precision: 0.18036541130592804, recall: 0.8747510964633854\n"
     ]
    },
    {
     "name": "stderr",
     "output_type": "stream",
     "text": [
      "100%|████████████████████████████████████████████████████████████| 218/218 [00:00<00:00, 513.83it/s]\n"
     ]
    },
    {
     "name": "stdout",
     "output_type": "stream",
     "text": [
      "val_loss: 0.7369178208189273, val_f1: 0.27821801214386527, val_precision: 0.16546851207732882, val_recall: 0.8732394395618264\n"
     ]
    },
    {
     "name": "stderr",
     "output_type": "stream",
     "text": [
      "100%|████████████████████████████████████████████████████████████| 655/655 [00:04<00:00, 151.50it/s]\n"
     ]
    },
    {
     "name": "stdout",
     "output_type": "stream",
     "text": [
      "Epoch: 179, loss: 0.716064036165485, f1: 0.30196901567412066, precision: 0.18248468726475275, recall: 0.8746731350440106\n"
     ]
    },
    {
     "name": "stderr",
     "output_type": "stream",
     "text": [
      "100%|████████████████████████████████████████████████████████████| 218/218 [00:00<00:00, 513.73it/s]\n"
     ]
    },
    {
     "name": "stdout",
     "output_type": "stream",
     "text": [
      "val_loss: 0.7383906212421733, val_f1: 0.2765421867766549, val_precision: 0.16431485291638778, val_recall: 0.8723776745140006\n"
     ]
    },
    {
     "name": "stderr",
     "output_type": "stream",
     "text": [
      "100%|████████████████████████████████████████████████████████████| 655/655 [00:04<00:00, 151.48it/s]\n"
     ]
    },
    {
     "name": "stdout",
     "output_type": "stream",
     "text": [
      "Epoch: 180, loss: 0.7159110265833731, f1: 0.30197731868875227, precision: 0.18250964103366127, recall: 0.8742394602025738\n"
     ]
    },
    {
     "name": "stderr",
     "output_type": "stream",
     "text": [
      "100%|████████████████████████████████████████████████████████████| 218/218 [00:00<00:00, 518.25it/s]\n"
     ]
    },
    {
     "name": "stdout",
     "output_type": "stream",
     "text": [
      "val_loss: 0.7368612601122725, val_f1: 0.2783506852691455, val_precision: 0.16606851363845102, val_recall: 0.8594242115633204\n"
     ]
    },
    {
     "name": "stderr",
     "output_type": "stream",
     "text": [
      "100%|████████████████████████████████████████████████████████████| 655/655 [00:04<00:00, 154.48it/s]\n"
     ]
    },
    {
     "name": "stdout",
     "output_type": "stream",
     "text": [
      "Epoch: 181, loss: 0.7159719039465635, f1: 0.30207847496462364, precision: 0.18270035635196524, recall: 0.8715712993199589\n"
     ]
    },
    {
     "name": "stderr",
     "output_type": "stream",
     "text": [
      "100%|████████████████████████████████████████████████████████████| 218/218 [00:00<00:00, 512.52it/s]\n"
     ]
    },
    {
     "name": "stdout",
     "output_type": "stream",
     "text": [
      "val_loss: 0.7385840672965444, val_f1: 0.2762502025159759, val_precision: 0.1643745735236401, val_recall: 0.8649413741509849\n"
     ]
    },
    {
     "name": "stderr",
     "output_type": "stream",
     "text": [
      "100%|████████████████████████████████████████████████████████████| 655/655 [00:04<00:00, 151.58it/s]\n"
     ]
    },
    {
     "name": "stdout",
     "output_type": "stream",
     "text": [
      "Epoch: 182, loss: 0.7175329239313839, f1: 0.30059470500857743, precision: 0.18164854055654456, recall: 0.8708216953823584\n"
     ]
    },
    {
     "name": "stderr",
     "output_type": "stream",
     "text": [
      "100%|████████████████████████████████████████████████████████████| 218/218 [00:00<00:00, 513.55it/s]\n"
     ]
    },
    {
     "name": "stdout",
     "output_type": "stream",
     "text": [
      "val_loss: 0.7412526159111513, val_f1: 0.27314705059237027, val_precision: 0.16235609176577231, val_recall: 0.8600208141388149\n"
     ]
    },
    {
     "name": "stderr",
     "output_type": "stream",
     "text": [
      "100%|████████████████████████████████████████████████████████████| 655/655 [00:04<00:00, 152.91it/s]\n"
     ]
    },
    {
     "name": "stdout",
     "output_type": "stream",
     "text": [
      "Epoch: 183, loss: 0.7197143440938177, f1: 0.2977412316076703, precision: 0.17950891027411886, recall: 0.8722287737231218\n"
     ]
    },
    {
     "name": "stderr",
     "output_type": "stream",
     "text": [
      "100%|████████████████████████████████████████████████████████████| 218/218 [00:00<00:00, 517.91it/s]\n"
     ]
    },
    {
     "name": "stdout",
     "output_type": "stream",
     "text": [
      "val_loss: 0.740978837833492, val_f1: 0.27484130805239343, val_precision: 0.16307394927658073, val_recall: 0.8735614097719893\n"
     ]
    },
    {
     "name": "stderr",
     "output_type": "stream",
     "text": [
      "100%|████████████████████████████████████████████████████████████| 655/655 [00:04<00:00, 151.90it/s]\n"
     ]
    },
    {
     "name": "stdout",
     "output_type": "stream",
     "text": [
      "Epoch: 184, loss: 0.7185029123575633, f1: 0.2992652467175354, precision: 0.18070412023376872, recall: 0.8702262292381462\n"
     ]
    },
    {
     "name": "stderr",
     "output_type": "stream",
     "text": [
      "100%|████████████████████████████████████████████████████████████| 218/218 [00:00<00:00, 518.87it/s]\n"
     ]
    },
    {
     "name": "stdout",
     "output_type": "stream",
     "text": [
      "val_loss: 0.738911084899115, val_f1: 0.27628572529018225, val_precision: 0.16437886223846346, val_recall: 0.8655193985328762\n"
     ]
    },
    {
     "name": "stderr",
     "output_type": "stream",
     "text": [
      "100%|████████████████████████████████████████████████████████████| 655/655 [00:04<00:00, 151.20it/s]\n"
     ]
    },
    {
     "name": "stdout",
     "output_type": "stream",
     "text": [
      "Epoch: 185, loss: 0.7174493004347532, f1: 0.3000730344364859, precision: 0.18128313220866765, recall: 0.870465162237182\n"
     ]
    },
    {
     "name": "stderr",
     "output_type": "stream",
     "text": [
      "100%|████████████████████████████████████████████████████████████| 218/218 [00:00<00:00, 515.64it/s]\n"
     ]
    },
    {
     "name": "stdout",
     "output_type": "stream",
     "text": [
      "val_loss: 0.7422092124956463, val_f1: 0.2730330806116009, val_precision: 0.16178012290678986, val_recall: 0.8742094507458014\n"
     ]
    },
    {
     "name": "stderr",
     "output_type": "stream",
     "text": [
      "100%|████████████████████████████████████████████████████████████| 655/655 [00:04<00:00, 152.09it/s]\n"
     ]
    },
    {
     "name": "stdout",
     "output_type": "stream",
     "text": [
      "Epoch: 186, loss: 0.7185828471911773, f1: 0.2993773162152126, precision: 0.18063547223635756, recall: 0.8737274645849039\n"
     ]
    },
    {
     "name": "stderr",
     "output_type": "stream",
     "text": [
      "100%|████████████████████████████████████████████████████████████| 218/218 [00:00<00:00, 522.23it/s]\n"
     ]
    },
    {
     "name": "stdout",
     "output_type": "stream",
     "text": [
      "val_loss: 0.7436236624323994, val_f1: 0.2716604163116526, val_precision: 0.16093683537574263, val_recall: 0.8706897847149351\n"
     ]
    },
    {
     "name": "stderr",
     "output_type": "stream",
     "text": [
      "100%|████████████████████████████████████████████████████████████| 655/655 [00:04<00:00, 150.15it/s]\n"
     ]
    },
    {
     "name": "stdout",
     "output_type": "stream",
     "text": [
      "Epoch: 187, loss: 0.7157619279759531, f1: 0.30191939087987724, precision: 0.18264689094578948, recall: 0.8701407174117692\n"
     ]
    },
    {
     "name": "stderr",
     "output_type": "stream",
     "text": [
      "100%|████████████████████████████████████████████████████████████| 218/218 [00:00<00:00, 512.35it/s]\n"
     ]
    },
    {
     "name": "stdout",
     "output_type": "stream",
     "text": [
      "val_loss: 0.7347852582231574, val_f1: 0.2803604651874544, val_precision: 0.16713442613686855, val_recall: 0.8692132707582702\n"
     ]
    },
    {
     "name": "stderr",
     "output_type": "stream",
     "text": [
      "100%|████████████████████████████████████████████████████████████| 655/655 [00:04<00:00, 151.41it/s]\n"
     ]
    },
    {
     "name": "stdout",
     "output_type": "stream",
     "text": [
      "Epoch: 188, loss: 0.7168016697614248, f1: 0.30101591243924414, precision: 0.18192416398807337, recall: 0.8715575829717039\n"
     ]
    },
    {
     "name": "stderr",
     "output_type": "stream",
     "text": [
      "100%|████████████████████████████████████████████████████████████| 218/218 [00:00<00:00, 518.63it/s]\n"
     ]
    },
    {
     "name": "stdout",
     "output_type": "stream",
     "text": [
      "val_loss: 0.736365934577557, val_f1: 0.2778299759712856, val_precision: 0.16537894785335852, val_recall: 0.8681094843313235\n"
     ]
    },
    {
     "name": "stderr",
     "output_type": "stream",
     "text": [
      "100%|████████████████████████████████████████████████████████████| 655/655 [00:04<00:00, 150.27it/s]\n"
     ]
    },
    {
     "name": "stdout",
     "output_type": "stream",
     "text": [
      "Epoch: 189, loss: 0.7137641861238553, f1: 0.3041249549090137, precision: 0.18417976539269204, recall: 0.8720173221508055\n"
     ]
    },
    {
     "name": "stderr",
     "output_type": "stream",
     "text": [
      "100%|████████████████████████████████████████████████████████████| 218/218 [00:00<00:00, 518.73it/s]\n"
     ]
    },
    {
     "name": "stdout",
     "output_type": "stream",
     "text": [
      "val_loss: 0.7352625435098595, val_f1: 0.28043384594001597, val_precision: 0.16708250624050788, val_recall: 0.8720374566699387\n"
     ]
    },
    {
     "name": "stderr",
     "output_type": "stream",
     "text": [
      "100%|████████████████████████████████████████████████████████████| 655/655 [00:04<00:00, 149.69it/s]\n"
     ]
    },
    {
     "name": "stdout",
     "output_type": "stream",
     "text": [
      "Epoch: 190, loss: 0.717659899023653, f1: 0.29993002474672614, precision: 0.181175303752072, recall: 0.870544793678604\n"
     ]
    },
    {
     "name": "stderr",
     "output_type": "stream",
     "text": [
      "100%|████████████████████████████████████████████████████████████| 218/218 [00:00<00:00, 514.70it/s]\n"
     ]
    },
    {
     "name": "stdout",
     "output_type": "stream",
     "text": [
      "val_loss: 0.7418134089456786, val_f1: 0.2727669785549245, val_precision: 0.16146752863712266, val_recall: 0.8779090418728119\n"
     ]
    },
    {
     "name": "stderr",
     "output_type": "stream",
     "text": [
      "100%|████████████████████████████████████████████████████████████| 655/655 [00:04<00:00, 149.77it/s]\n"
     ]
    },
    {
     "name": "stdout",
     "output_type": "stream",
     "text": [
      "Epoch: 191, loss: 0.7170807936719356, f1: 0.3006259023038339, precision: 0.1814064752879261, recall: 0.8769588979145952\n"
     ]
    },
    {
     "name": "stderr",
     "output_type": "stream",
     "text": [
      "100%|████████████████████████████████████████████████████████████| 218/218 [00:00<00:00, 513.87it/s]\n"
     ]
    },
    {
     "name": "stdout",
     "output_type": "stream",
     "text": [
      "val_loss: 0.737716879593123, val_f1: 0.27698549618518037, val_precision: 0.16442692185828992, val_recall: 0.8780667729880831\n"
     ]
    },
    {
     "name": "stderr",
     "output_type": "stream",
     "text": [
      "100%|████████████████████████████████████████████████████████████| 655/655 [00:04<00:00, 149.38it/s]\n"
     ]
    },
    {
     "name": "stdout",
     "output_type": "stream",
     "text": [
      "Epoch: 192, loss: 0.7181404019130095, f1: 0.29918629161950716, precision: 0.18047810840128942, recall: 0.8741564088195335\n"
     ]
    },
    {
     "name": "stderr",
     "output_type": "stream",
     "text": [
      "100%|████████████████████████████████████████████████████████████| 218/218 [00:00<00:00, 514.56it/s]\n"
     ]
    },
    {
     "name": "stdout",
     "output_type": "stream",
     "text": [
      "val_loss: 0.7391460759377261, val_f1: 0.27509426500800543, val_precision: 0.16301606704455313, val_recall: 0.8803820410452852\n"
     ]
    },
    {
     "name": "stderr",
     "output_type": "stream",
     "text": [
      "100%|████████████████████████████████████████████████████████████| 655/655 [00:04<00:00, 152.65it/s]\n"
     ]
    },
    {
     "name": "stdout",
     "output_type": "stream",
     "text": [
      "Epoch: 193, loss: 0.7150805842785435, f1: 0.30285451511054295, precision: 0.1831446192333944, recall: 0.8743819144845919\n"
     ]
    },
    {
     "name": "stderr",
     "output_type": "stream",
     "text": [
      "100%|████████████████████████████████████████████████████████████| 218/218 [00:00<00:00, 521.77it/s]\n"
     ]
    },
    {
     "name": "stdout",
     "output_type": "stream",
     "text": [
      "val_loss: 0.7381880299760661, val_f1: 0.2773468856639281, val_precision: 0.16451280596965087, val_recall: 0.8828993606458017\n"
     ]
    },
    {
     "name": "stderr",
     "output_type": "stream",
     "text": [
      "100%|████████████████████████████████████████████████████████████| 655/655 [00:04<00:00, 152.87it/s]\n"
     ]
    },
    {
     "name": "stdout",
     "output_type": "stream",
     "text": [
      "Epoch: 194, loss: 0.7184482578102869, f1: 0.299548832179528, precision: 0.1806315403090406, recall: 0.8767499940995952\n"
     ]
    },
    {
     "name": "stderr",
     "output_type": "stream",
     "text": [
      "100%|████████████████████████████████████████████████████████████| 218/218 [00:00<00:00, 513.07it/s]\n"
     ]
    },
    {
     "name": "stdout",
     "output_type": "stream",
     "text": [
      "val_loss: 0.734803739490859, val_f1: 0.28023305647250457, val_precision: 0.16731913242523277, val_recall: 0.8618357191118625\n"
     ]
    },
    {
     "name": "stderr",
     "output_type": "stream",
     "text": [
      "100%|████████████████████████████████████████████████████████████| 655/655 [00:04<00:00, 150.11it/s]\n"
     ]
    },
    {
     "name": "stdout",
     "output_type": "stream",
     "text": [
      "Epoch: 195, loss: 0.7195116605467469, f1: 0.29850064651505714, precision: 0.18005354425208714, recall: 0.8724103783833161\n"
     ]
    },
    {
     "name": "stderr",
     "output_type": "stream",
     "text": [
      "100%|████████████████████████████████████████████████████████████| 218/218 [00:00<00:00, 516.79it/s]\n"
     ]
    },
    {
     "name": "stdout",
     "output_type": "stream",
     "text": [
      "val_loss: 0.7333771971934432, val_f1: 0.2818814135619601, val_precision: 0.1683515888732781, val_recall: 0.8656267187464128\n"
     ]
    },
    {
     "name": "stderr",
     "output_type": "stream",
     "text": [
      "100%|████████████████████████████████████████████████████████████| 655/655 [00:04<00:00, 153.56it/s]\n"
     ]
    },
    {
     "name": "stdout",
     "output_type": "stream",
     "text": [
      "Epoch: 196, loss: 0.712627780528469, f1: 0.3052625766790901, precision: 0.18485540323357547, recall: 0.8755777604707324\n"
     ]
    },
    {
     "name": "stderr",
     "output_type": "stream",
     "text": [
      "100%|████████████████████████████████████████████████████████████| 218/218 [00:00<00:00, 511.60it/s]\n"
     ]
    },
    {
     "name": "stdout",
     "output_type": "stream",
     "text": [
      "val_loss: 0.7337609797442725, val_f1: 0.2821855010805434, val_precision: 0.16841467246925884, val_recall: 0.8697078277211671\n"
     ]
    },
    {
     "name": "stderr",
     "output_type": "stream",
     "text": [
      "100%|████████████████████████████████████████████████████████████| 655/655 [00:04<00:00, 152.95it/s]\n"
     ]
    },
    {
     "name": "stdout",
     "output_type": "stream",
     "text": [
      "Epoch: 197, loss: 0.7191446375300866, f1: 0.2990900824776955, precision: 0.18025485265800972, recall: 0.8777722209464502\n"
     ]
    },
    {
     "name": "stderr",
     "output_type": "stream",
     "text": [
      "100%|████████████████████████████████████████████████████████████| 218/218 [00:00<00:00, 506.76it/s]\n"
     ]
    },
    {
     "name": "stdout",
     "output_type": "stream",
     "text": [
      "val_loss: 0.7369004148955739, val_f1: 0.27856092574774033, val_precision: 0.1658185277339242, val_recall: 0.8702699845537133\n"
     ]
    },
    {
     "name": "stderr",
     "output_type": "stream",
     "text": [
      "100%|████████████████████████████████████████████████████████████| 655/655 [00:04<00:00, 150.25it/s]\n"
     ]
    },
    {
     "name": "stdout",
     "output_type": "stream",
     "text": [
      "Epoch: 198, loss: 0.7143358418049703, f1: 0.30347413107215215, precision: 0.18361209119662983, recall: 0.874062352508079\n"
     ]
    },
    {
     "name": "stderr",
     "output_type": "stream",
     "text": [
      "100%|████████████████████████████████████████████████████████████| 218/218 [00:00<00:00, 518.52it/s]\n"
     ]
    },
    {
     "name": "stdout",
     "output_type": "stream",
     "text": [
      "val_loss: 0.735864936485203, val_f1: 0.2791491671799692, val_precision: 0.1665280967814113, val_recall: 0.8623398960730352\n"
     ]
    },
    {
     "name": "stderr",
     "output_type": "stream",
     "text": [
      "100%|████████████████████████████████████████████████████████████| 655/655 [00:04<00:00, 151.77it/s]\n"
     ]
    },
    {
     "name": "stdout",
     "output_type": "stream",
     "text": [
      "Epoch: 199, loss: 0.718624479170064, f1: 0.2993373344237651, precision: 0.18055984439854403, recall: 0.8748177869629314\n"
     ]
    },
    {
     "name": "stderr",
     "output_type": "stream",
     "text": [
      "100%|████████████████████████████████████████████████████████████| 218/218 [00:00<00:00, 523.57it/s]\n"
     ]
    },
    {
     "name": "stdout",
     "output_type": "stream",
     "text": [
      "val_loss: 0.7377639965179863, val_f1: 0.27814462722266875, val_precision: 0.16574975019406288, val_recall: 0.8640710725149977\n"
     ]
    },
    {
     "name": "stderr",
     "output_type": "stream",
     "text": [
      "100%|████████████████████████████████████████████████████████████| 655/655 [00:04<00:00, 149.58it/s]\n"
     ]
    },
    {
     "name": "stdout",
     "output_type": "stream",
     "text": [
      "Epoch: 200, loss: 0.7157499828411422, f1: 0.30133933564780724, precision: 0.18213220736338892, recall: 0.8722054730844861\n"
     ]
    },
    {
     "name": "stderr",
     "output_type": "stream",
     "text": [
      "100%|████████████████████████████████████████████████████████████| 218/218 [00:00<00:00, 516.02it/s]\n"
     ]
    },
    {
     "name": "stdout",
     "output_type": "stream",
     "text": [
      "val_loss: 0.7332644355953286, val_f1: 0.2823265453675334, val_precision: 0.16830236910748372, val_recall: 0.8754202001685396\n"
     ]
    },
    {
     "name": "stderr",
     "output_type": "stream",
     "text": [
      "100%|████████████████████████████████████████████████████████████| 655/655 [00:04<00:00, 149.78it/s]\n"
     ]
    },
    {
     "name": "stdout",
     "output_type": "stream",
     "text": [
      "Epoch: 201, loss: 0.7121382457609395, f1: 0.3063363977902338, precision: 0.18553511014364604, recall: 0.8779978551027429\n"
     ]
    },
    {
     "name": "stderr",
     "output_type": "stream",
     "text": [
      "100%|████████████████████████████████████████████████████████████| 218/218 [00:00<00:00, 515.49it/s]\n"
     ]
    },
    {
     "name": "stdout",
     "output_type": "stream",
     "text": [
      "val_loss: 0.7339817017590234, val_f1: 0.28124531563552363, val_precision: 0.16815397514184133, val_recall: 0.8588858509282453\n"
     ]
    },
    {
     "name": "stderr",
     "output_type": "stream",
     "text": [
      "100%|████████████████████████████████████████████████████████████| 655/655 [00:04<00:00, 151.89it/s]\n"
     ]
    },
    {
     "name": "stdout",
     "output_type": "stream",
     "text": [
      "Epoch: 202, loss: 0.7114574253104116, f1: 0.3065801463444699, precision: 0.18568291700238945, recall: 0.8786924693420644\n"
     ]
    },
    {
     "name": "stderr",
     "output_type": "stream",
     "text": [
      "100%|████████████████████████████████████████████████████████████| 218/218 [00:00<00:00, 514.04it/s]\n"
     ]
    },
    {
     "name": "stdout",
     "output_type": "stream",
     "text": [
      "val_loss: 0.7412191626675632, val_f1: 0.27464594823562244, val_precision: 0.16344843850120766, val_recall: 0.8591321233762513\n"
     ]
    },
    {
     "name": "stderr",
     "output_type": "stream",
     "text": [
      "100%|████████████████████████████████████████████████████████████| 655/655 [00:04<00:00, 150.23it/s]\n"
     ]
    },
    {
     "name": "stdout",
     "output_type": "stream",
     "text": [
      "Epoch: 203, loss: 0.7160782434558141, f1: 0.30231011382843154, precision: 0.18274292541482975, recall: 0.8744660087214171\n"
     ]
    },
    {
     "name": "stderr",
     "output_type": "stream",
     "text": [
      "100%|████████████████████████████████████████████████████████████| 218/218 [00:00<00:00, 519.54it/s]\n"
     ]
    },
    {
     "name": "stdout",
     "output_type": "stream",
     "text": [
      "val_loss: 0.7364148040977093, val_f1: 0.27909971407912915, val_precision: 0.16594241713729063, val_recall: 0.8774154724877908\n"
     ]
    },
    {
     "name": "stderr",
     "output_type": "stream",
     "text": [
      "100%|████████████████████████████████████████████████████████████| 655/655 [00:04<00:00, 152.00it/s]\n"
     ]
    },
    {
     "name": "stdout",
     "output_type": "stream",
     "text": [
      "Epoch: 204, loss: 0.7124939547240279, f1: 0.3055188316085037, precision: 0.1851545058674257, recall: 0.8730981792202432\n"
     ]
    },
    {
     "name": "stderr",
     "output_type": "stream",
     "text": [
      "100%|████████████████████████████████████████████████████████████| 218/218 [00:00<00:00, 511.80it/s]\n"
     ]
    },
    {
     "name": "stdout",
     "output_type": "stream",
     "text": [
      "val_loss: 0.7339044946049331, val_f1: 0.2812042518728645, val_precision: 0.16796488087590133, val_recall: 0.8630790059719611\n"
     ]
    },
    {
     "name": "stderr",
     "output_type": "stream",
     "text": [
      "100%|████████████████████████████████████████████████████████████| 655/655 [00:04<00:00, 151.51it/s]\n"
     ]
    },
    {
     "name": "stdout",
     "output_type": "stream",
     "text": [
      "Epoch: 205, loss: 0.7113137395327328, f1: 0.30654297841600636, precision: 0.1857355984397062, recall: 0.876905987735923\n"
     ]
    },
    {
     "name": "stderr",
     "output_type": "stream",
     "text": [
      "100%|████████████████████████████████████████████████████████████| 218/218 [00:00<00:00, 519.26it/s]\n"
     ]
    },
    {
     "name": "stdout",
     "output_type": "stream",
     "text": [
      "val_loss: 0.7434002500061595, val_f1: 0.272791494278666, val_precision: 0.16179807056937742, val_recall: 0.8687618194370095\n"
     ]
    },
    {
     "name": "stderr",
     "output_type": "stream",
     "text": [
      "100%|████████████████████████████████████████████████████████████| 655/655 [00:04<00:00, 151.84it/s]\n"
     ]
    },
    {
     "name": "stdout",
     "output_type": "stream",
     "text": [
      "Epoch: 206, loss: 0.7137331129940412, f1: 0.30458299670648914, precision: 0.18432717602273435, recall: 0.8762562201223301\n"
     ]
    },
    {
     "name": "stderr",
     "output_type": "stream",
     "text": [
      "100%|████████████████████████████████████████████████████████████| 218/218 [00:00<00:00, 519.05it/s]\n"
     ]
    },
    {
     "name": "stdout",
     "output_type": "stream",
     "text": [
      "val_loss: 0.7320096517374756, val_f1: 0.2834576715248229, val_precision: 0.16950505026915205, val_recall: 0.8649037983439384\n"
     ]
    },
    {
     "name": "stderr",
     "output_type": "stream",
     "text": [
      "100%|████████████████████████████████████████████████████████████| 655/655 [00:04<00:00, 151.41it/s]\n"
     ]
    },
    {
     "name": "stdout",
     "output_type": "stream",
     "text": [
      "Epoch: 207, loss: 0.7106111927796867, f1: 0.3070825648911931, precision: 0.18640030590916862, recall: 0.870997948227948\n"
     ]
    },
    {
     "name": "stderr",
     "output_type": "stream",
     "text": [
      "100%|████████████████████████████████████████████████████████████| 218/218 [00:00<00:00, 514.54it/s]\n"
     ]
    },
    {
     "name": "stdout",
     "output_type": "stream",
     "text": [
      "val_loss: 0.7306182507528077, val_f1: 0.28482781182314343, val_precision: 0.17026515457129807, val_recall: 0.8706297516275984\n"
     ]
    },
    {
     "name": "stderr",
     "output_type": "stream",
     "text": [
      "100%|████████████████████████████████████████████████████████████| 655/655 [00:04<00:00, 150.51it/s]\n"
     ]
    },
    {
     "name": "stdout",
     "output_type": "stream",
     "text": [
      "Epoch: 208, loss: 0.709737174656555, f1: 0.3080931921519314, precision: 0.1870970903973998, recall: 0.8720495866455195\n"
     ]
    },
    {
     "name": "stderr",
     "output_type": "stream",
     "text": [
      "100%|████████████████████████████████████████████████████████████| 218/218 [00:00<00:00, 519.52it/s]\n"
     ]
    },
    {
     "name": "stdout",
     "output_type": "stream",
     "text": [
      "val_loss: 0.729713687109291, val_f1: 0.28534551752512766, val_precision: 0.17055766107599943, val_recall: 0.8726561692876553\n"
     ]
    },
    {
     "name": "stderr",
     "output_type": "stream",
     "text": [
      "100%|████████████████████████████████████████████████████████████| 655/655 [00:04<00:00, 151.46it/s]\n"
     ]
    },
    {
     "name": "stdout",
     "output_type": "stream",
     "text": [
      "Epoch: 209, loss: 0.7119645424471557, f1: 0.3064995173188109, precision: 0.185853714083556, recall: 0.8735761185638777\n"
     ]
    },
    {
     "name": "stderr",
     "output_type": "stream",
     "text": [
      "100%|████████████████████████████████████████████████████████████| 218/218 [00:00<00:00, 516.16it/s]\n"
     ]
    },
    {
     "name": "stdout",
     "output_type": "stream",
     "text": [
      "val_loss: 0.7410507111921223, val_f1: 0.27509125386282113, val_precision: 0.16298182305256162, val_recall: 0.881320340644329\n"
     ]
    },
    {
     "name": "stderr",
     "output_type": "stream",
     "text": [
      "100%|████████████████████████████████████████████████████████████| 655/655 [00:04<00:00, 152.06it/s]\n"
     ]
    },
    {
     "name": "stdout",
     "output_type": "stream",
     "text": [
      "Epoch: 210, loss: 0.717655128286085, f1: 0.30057149916569964, precision: 0.18126525893693662, recall: 0.879342051589762\n"
     ]
    },
    {
     "name": "stderr",
     "output_type": "stream",
     "text": [
      "100%|████████████████████████████████████████████████████████████| 218/218 [00:00<00:00, 516.47it/s]\n"
     ]
    },
    {
     "name": "stdout",
     "output_type": "stream",
     "text": [
      "val_loss: 0.7384533879406955, val_f1: 0.2774216465989896, val_precision: 0.16494696178909288, val_recall: 0.8720768446769189\n"
     ]
    },
    {
     "name": "stderr",
     "output_type": "stream",
     "text": [
      "100%|████████████████████████████████████████████████████████████| 655/655 [00:04<00:00, 149.06it/s]\n"
     ]
    },
    {
     "name": "stdout",
     "output_type": "stream",
     "text": [
      "Epoch: 211, loss: 0.7142695451510771, f1: 0.3037212208465578, precision: 0.18369060168398246, recall: 0.876386256982352\n"
     ]
    },
    {
     "name": "stderr",
     "output_type": "stream",
     "text": [
      "100%|████████████████████████████████████████████████████████████| 218/218 [00:00<00:00, 521.01it/s]\n"
     ]
    },
    {
     "name": "stdout",
     "output_type": "stream",
     "text": [
      "val_loss: 0.7350201024374831, val_f1: 0.2805987502173534, val_precision: 0.1676326016510982, val_recall: 0.8604454078258724\n"
     ]
    },
    {
     "name": "stderr",
     "output_type": "stream",
     "text": [
      "100%|████████████████████████████████████████████████████████████| 655/655 [00:04<00:00, 149.69it/s]\n"
     ]
    },
    {
     "name": "stdout",
     "output_type": "stream",
     "text": [
      "Epoch: 212, loss: 0.7178622746285591, f1: 0.3003723170324533, precision: 0.18138710049670617, recall: 0.8731092748751167\n"
     ]
    },
    {
     "name": "stderr",
     "output_type": "stream",
     "text": [
      "100%|████████████████████████████████████████████████████████████| 218/218 [00:00<00:00, 511.10it/s]\n"
     ]
    },
    {
     "name": "stdout",
     "output_type": "stream",
     "text": [
      "val_loss: 0.7321608274354847, val_f1: 0.28315151131329797, val_precision: 0.1687933619757858, val_recall: 0.877999611403964\n"
     ]
    },
    {
     "name": "stderr",
     "output_type": "stream",
     "text": [
      "100%|████████████████████████████████████████████████████████████| 655/655 [00:04<00:00, 150.39it/s]\n"
     ]
    },
    {
     "name": "stdout",
     "output_type": "stream",
     "text": [
      "Epoch: 213, loss: 0.7109529203130999, f1: 0.3067553942012654, precision: 0.18599440087742022, recall: 0.8746252556793562\n"
     ]
    },
    {
     "name": "stderr",
     "output_type": "stream",
     "text": [
      "100%|████████████████████████████████████████████████████████████| 218/218 [00:00<00:00, 513.31it/s]\n"
     ]
    },
    {
     "name": "stdout",
     "output_type": "stream",
     "text": [
      "val_loss: 0.7399858744866258, val_f1: 0.27555212533846973, val_precision: 0.16349371869561322, val_recall: 0.8758776775740702\n"
     ]
    },
    {
     "name": "stderr",
     "output_type": "stream",
     "text": [
      "100%|████████████████████████████████████████████████████████████| 655/655 [00:04<00:00, 152.02it/s]\n"
     ]
    },
    {
     "name": "stdout",
     "output_type": "stream",
     "text": [
      "Epoch: 214, loss: 0.7138289021171687, f1: 0.3039424780058413, precision: 0.18393128601023714, recall: 0.8746002601303217\n"
     ]
    },
    {
     "name": "stderr",
     "output_type": "stream",
     "text": [
      "100%|████████████████████████████████████████████████████████████| 218/218 [00:00<00:00, 515.39it/s]\n"
     ]
    },
    {
     "name": "stdout",
     "output_type": "stream",
     "text": [
      "val_loss: 0.733749030380074, val_f1: 0.2816866005596106, val_precision: 0.1679394465161983, val_recall: 0.8729339474384937\n"
     ]
    },
    {
     "name": "stderr",
     "output_type": "stream",
     "text": [
      "100%|████████████████████████████████████████████████████████████| 655/655 [00:04<00:00, 151.91it/s]\n"
     ]
    },
    {
     "name": "stdout",
     "output_type": "stream",
     "text": [
      "Epoch: 215, loss: 0.7132524129998593, f1: 0.3041672708935576, precision: 0.18398734580241996, recall: 0.8770598815597651\n"
     ]
    },
    {
     "name": "stderr",
     "output_type": "stream",
     "text": [
      "100%|████████████████████████████████████████████████████████████| 218/218 [00:00<00:00, 518.48it/s]\n"
     ]
    },
    {
     "name": "stdout",
     "output_type": "stream",
     "text": [
      "val_loss: 0.7296449446350063, val_f1: 0.286366931778237, val_precision: 0.17138247131241843, val_recall: 0.8702128272537791\n"
     ]
    },
    {
     "name": "stderr",
     "output_type": "stream",
     "text": [
      "100%|████████████████████████████████████████████████████████████| 655/655 [00:04<00:00, 151.23it/s]\n"
     ]
    },
    {
     "name": "stdout",
     "output_type": "stream",
     "text": [
      "Epoch: 216, loss: 0.709261230294031, f1: 0.30926277287021825, precision: 0.18772016064413177, recall: 0.8772591126784114\n"
     ]
    },
    {
     "name": "stderr",
     "output_type": "stream",
     "text": [
      "100%|████████████████████████████████████████████████████████████| 218/218 [00:00<00:00, 507.68it/s]\n"
     ]
    },
    {
     "name": "stdout",
     "output_type": "stream",
     "text": [
      "val_loss: 0.7342252066922844, val_f1: 0.2817231280556936, val_precision: 0.16795955314685446, val_recall: 0.8730922890912503\n"
     ]
    },
    {
     "name": "stderr",
     "output_type": "stream",
     "text": [
      "100%|████████████████████████████████████████████████████████████| 655/655 [00:04<00:00, 151.62it/s]\n"
     ]
    },
    {
     "name": "stdout",
     "output_type": "stream",
     "text": [
      "Epoch: 217, loss: 0.7122466172880799, f1: 0.30581191697737187, precision: 0.18537495199107487, recall: 0.8729847049895134\n"
     ]
    },
    {
     "name": "stderr",
     "output_type": "stream",
     "text": [
      "100%|████████████████████████████████████████████████████████████| 218/218 [00:00<00:00, 516.74it/s]\n"
     ]
    },
    {
     "name": "stdout",
     "output_type": "stream",
     "text": [
      "val_loss: 0.7354820272244444, val_f1: 0.2805476423227518, val_precision: 0.16699993773577138, val_recall: 0.8765104101338518\n"
     ]
    },
    {
     "name": "stderr",
     "output_type": "stream",
     "text": [
      "100%|████████████████████████████████████████████████████████████| 655/655 [00:04<00:00, 149.53it/s]\n"
     ]
    },
    {
     "name": "stdout",
     "output_type": "stream",
     "text": [
      "Epoch: 218, loss: 0.7092204032053474, f1: 0.30887739000162884, precision: 0.1875580509626911, recall: 0.8746009632831312\n"
     ]
    },
    {
     "name": "stderr",
     "output_type": "stream",
     "text": [
      "100%|████████████████████████████████████████████████████████████| 218/218 [00:00<00:00, 520.27it/s]\n"
     ]
    },
    {
     "name": "stdout",
     "output_type": "stream",
     "text": [
      "val_loss: 0.7289651153831307, val_f1: 0.2856931608454598, val_precision: 0.17059971546805505, val_recall: 0.8780840772007583\n"
     ]
    },
    {
     "name": "stderr",
     "output_type": "stream",
     "text": [
      "100%|████████████████████████████████████████████████████████████| 655/655 [00:04<00:00, 152.53it/s]\n"
     ]
    },
    {
     "name": "stdout",
     "output_type": "stream",
     "text": [
      "Epoch: 219, loss: 0.7113464992464954, f1: 0.3067449007398842, precision: 0.186081925833612, recall: 0.8725251790221411\n"
     ]
    },
    {
     "name": "stderr",
     "output_type": "stream",
     "text": [
      "100%|████████████████████████████████████████████████████████████| 218/218 [00:00<00:00, 511.96it/s]\n"
     ]
    },
    {
     "name": "stdout",
     "output_type": "stream",
     "text": [
      "val_loss: 0.7305857998515488, val_f1: 0.2842371447643598, val_precision: 0.1701094806536075, val_recall: 0.8636988948244567\n"
     ]
    },
    {
     "name": "stderr",
     "output_type": "stream",
     "text": [
      "100%|████████████████████████████████████████████████████████████| 655/655 [00:04<00:00, 152.68it/s]\n"
     ]
    },
    {
     "name": "stdout",
     "output_type": "stream",
     "text": [
      "Epoch: 220, loss: 0.7097328422633746, f1: 0.3082269773150062, precision: 0.18715567430125848, recall: 0.8729208836118684\n"
     ]
    },
    {
     "name": "stderr",
     "output_type": "stream",
     "text": [
      "100%|████████████████████████████████████████████████████████████| 218/218 [00:00<00:00, 518.15it/s]\n"
     ]
    },
    {
     "name": "stdout",
     "output_type": "stream",
     "text": [
      "val_loss: 0.7330276695413327, val_f1: 0.2809388503885315, val_precision: 0.16798550716746563, val_recall: 0.8575649562231992\n"
     ]
    },
    {
     "name": "stderr",
     "output_type": "stream",
     "text": [
      "100%|████████████████████████████████████████████████████████████| 655/655 [00:04<00:00, 149.77it/s]\n"
     ]
    },
    {
     "name": "stdout",
     "output_type": "stream",
     "text": [
      "Epoch: 221, loss: 0.7067612405951696, f1: 0.311461840561573, precision: 0.1893801733083625, recall: 0.8764636958828409\n"
     ]
    },
    {
     "name": "stderr",
     "output_type": "stream",
     "text": [
      "100%|████████████████████████████████████████████████████████████| 218/218 [00:00<00:00, 514.69it/s]\n"
     ]
    },
    {
     "name": "stdout",
     "output_type": "stream",
     "text": [
      "val_loss: 0.728467365743917, val_f1: 0.2862167422364081, val_precision: 0.17144913860348934, val_recall: 0.865742502135968\n"
     ]
    },
    {
     "name": "stderr",
     "output_type": "stream",
     "text": [
      "100%|████████████████████████████████████████████████████████████| 655/655 [00:04<00:00, 152.26it/s]\n"
     ]
    },
    {
     "name": "stdout",
     "output_type": "stream",
     "text": [
      "Epoch: 222, loss: 0.7107828990193724, f1: 0.3071696490151707, precision: 0.18630355744132104, recall: 0.8745265054338761\n"
     ]
    },
    {
     "name": "stderr",
     "output_type": "stream",
     "text": [
      "100%|████████████████████████████████████████████████████████████| 218/218 [00:00<00:00, 519.87it/s]\n"
     ]
    },
    {
     "name": "stdout",
     "output_type": "stream",
     "text": [
      "val_loss: 0.7341537371687933, val_f1: 0.28175073006311435, val_precision: 0.1678807710408481, val_recall: 0.8757603901241897\n"
     ]
    },
    {
     "name": "stderr",
     "output_type": "stream",
     "text": [
      "100%|████████████████████████████████████████████████████████████| 655/655 [00:04<00:00, 150.43it/s]\n"
     ]
    },
    {
     "name": "stdout",
     "output_type": "stream",
     "text": [
      "Epoch: 223, loss: 0.7078984356108513, f1: 0.3100409971872855, precision: 0.18835187175005447, recall: 0.8760035457501885\n"
     ]
    },
    {
     "name": "stderr",
     "output_type": "stream",
     "text": [
      "100%|████████████████████████████████████████████████████████████| 218/218 [00:00<00:00, 506.46it/s]\n"
     ]
    },
    {
     "name": "stdout",
     "output_type": "stream",
     "text": [
      "val_loss: 0.7276668868480473, val_f1: 0.28797546323746104, val_precision: 0.17256363240335512, val_recall: 0.8695105073648856\n"
     ]
    },
    {
     "name": "stderr",
     "output_type": "stream",
     "text": [
      "100%|████████████████████████████████████████████████████████████| 655/655 [00:04<00:00, 149.50it/s]\n"
     ]
    },
    {
     "name": "stdout",
     "output_type": "stream",
     "text": [
      "Epoch: 224, loss: 0.7084714028671497, f1: 0.30943287037654105, precision: 0.1880554989833413, recall: 0.8727082619685254\n"
     ]
    },
    {
     "name": "stderr",
     "output_type": "stream",
     "text": [
      "100%|████████████████████████████████████████████████████████████| 218/218 [00:00<00:00, 511.27it/s]\n"
     ]
    },
    {
     "name": "stdout",
     "output_type": "stream",
     "text": [
      "val_loss: 0.7321115877103368, val_f1: 0.2827295233656293, val_precision: 0.16881899006767284, val_recall: 0.8692670565679532\n"
     ]
    },
    {
     "name": "stderr",
     "output_type": "stream",
     "text": [
      "100%|████████████████████████████████████████████████████████████| 655/655 [00:04<00:00, 151.87it/s]\n"
     ]
    },
    {
     "name": "stdout",
     "output_type": "stream",
     "text": [
      "Epoch: 225, loss: 0.7104712109529335, f1: 0.30725836315507105, precision: 0.18638470612523209, recall: 0.8741771122881474\n"
     ]
    },
    {
     "name": "stderr",
     "output_type": "stream",
     "text": [
      "100%|████████████████████████████████████████████████████████████| 218/218 [00:00<00:00, 517.61it/s]\n"
     ]
    },
    {
     "name": "stdout",
     "output_type": "stream",
     "text": [
      "val_loss: 0.7325544895928934, val_f1: 0.2829216513792956, val_precision: 0.16926209479057736, val_recall: 0.8612540528314923\n"
     ]
    },
    {
     "name": "stderr",
     "output_type": "stream",
     "text": [
      "100%|████████████████████████████████████████████████████████████| 655/655 [00:04<00:00, 151.69it/s]\n"
     ]
    },
    {
     "name": "stdout",
     "output_type": "stream",
     "text": [
      "Epoch: 226, loss: 0.7084787783731941, f1: 0.3096159096044811, precision: 0.18814473692185552, recall: 0.8736986618915586\n"
     ]
    },
    {
     "name": "stderr",
     "output_type": "stream",
     "text": [
      "100%|████████████████████████████████████████████████████████████| 218/218 [00:00<00:00, 512.83it/s]\n"
     ]
    },
    {
     "name": "stdout",
     "output_type": "stream",
     "text": [
      "val_loss: 0.7295453966757574, val_f1: 0.2848456144128828, val_precision: 0.17007228081037692, val_recall: 0.876044586164142\n"
     ]
    },
    {
     "name": "stderr",
     "output_type": "stream",
     "text": [
      "100%|████████████████████████████████████████████████████████████| 655/655 [00:04<00:00, 152.37it/s]\n"
     ]
    },
    {
     "name": "stdout",
     "output_type": "stream",
     "text": [
      "Epoch: 227, loss: 0.7071662897372064, f1: 0.31125717677116815, precision: 0.18920017931297536, recall: 0.8770795787563761\n"
     ]
    },
    {
     "name": "stderr",
     "output_type": "stream",
     "text": [
      "100%|████████████████████████████████████████████████████████████| 218/218 [00:00<00:00, 517.65it/s]\n"
     ]
    },
    {
     "name": "stdout",
     "output_type": "stream",
     "text": [
      "val_loss: 0.7294262702311944, val_f1: 0.2866264148509009, val_precision: 0.1711691052251316, val_recall: 0.880631945822217\n"
     ]
    },
    {
     "name": "stderr",
     "output_type": "stream",
     "text": [
      "100%|████████████████████████████████████████████████████████████| 655/655 [00:04<00:00, 149.76it/s]\n"
     ]
    },
    {
     "name": "stdout",
     "output_type": "stream",
     "text": [
      "Epoch: 228, loss: 0.712213170164414, f1: 0.3059425365538946, precision: 0.18536909299952384, recall: 0.8752484309764309\n"
     ]
    },
    {
     "name": "stderr",
     "output_type": "stream",
     "text": [
      "100%|████████████████████████████████████████████████████████████| 218/218 [00:00<00:00, 510.64it/s]\n"
     ]
    },
    {
     "name": "stdout",
     "output_type": "stream",
     "text": [
      "val_loss: 0.7323889212870817, val_f1: 0.2843086668364389, val_precision: 0.16944038207480394, val_recall: 0.8827472556074825\n"
     ]
    },
    {
     "name": "stderr",
     "output_type": "stream",
     "text": [
      "100%|████████████████████████████████████████████████████████████| 655/655 [00:04<00:00, 152.57it/s]\n"
     ]
    },
    {
     "name": "stdout",
     "output_type": "stream",
     "text": [
      "Epoch: 229, loss: 0.7084798125820305, f1: 0.3100710954251586, precision: 0.18841066801252257, recall: 0.8752133579654549\n"
     ]
    },
    {
     "name": "stderr",
     "output_type": "stream",
     "text": [
      "100%|████████████████████████████████████████████████████████████| 218/218 [00:00<00:00, 510.18it/s]\n"
     ]
    },
    {
     "name": "stdout",
     "output_type": "stream",
     "text": [
      "val_loss: 0.7276239684962351, val_f1: 0.28745156445367676, val_precision: 0.17214709947552156, val_recall: 0.8705429207841191\n"
     ]
    },
    {
     "name": "stderr",
     "output_type": "stream",
     "text": [
      "100%|████████████████████████████████████████████████████████████| 655/655 [00:04<00:00, 152.42it/s]\n"
     ]
    },
    {
     "name": "stdout",
     "output_type": "stream",
     "text": [
      "Epoch: 230, loss: 0.7063558959778938, f1: 0.31193229416745444, precision: 0.18963671773672103, recall: 0.8784201644759142\n"
     ]
    },
    {
     "name": "stderr",
     "output_type": "stream",
     "text": [
      "100%|████████████████████████████████████████████████████████████| 218/218 [00:00<00:00, 514.16it/s]\n"
     ]
    },
    {
     "name": "stdout",
     "output_type": "stream",
     "text": [
      "val_loss: 0.730087613293884, val_f1: 0.28523825620931914, val_precision: 0.17049442358964353, val_recall: 0.8723052299897606\n"
     ]
    },
    {
     "name": "stderr",
     "output_type": "stream",
     "text": [
      "100%|████████████████████████████████████████████████████████████| 655/655 [00:04<00:00, 152.26it/s]\n"
     ]
    },
    {
     "name": "stdout",
     "output_type": "stream",
     "text": [
      "Epoch: 231, loss: 0.7111287252593587, f1: 0.3068568931392434, precision: 0.18608937976128273, recall: 0.8741760161086803\n"
     ]
    },
    {
     "name": "stderr",
     "output_type": "stream",
     "text": [
      "100%|████████████████████████████████████████████████████████████| 218/218 [00:00<00:00, 516.86it/s]\n"
     ]
    },
    {
     "name": "stdout",
     "output_type": "stream",
     "text": [
      "val_loss: 0.7330859527675384, val_f1: 0.28270442522678874, val_precision: 0.16902146800293014, val_recall: 0.8634695131844337\n"
     ]
    },
    {
     "name": "stderr",
     "output_type": "stream",
     "text": [
      "100%|████████████████████████████████████████████████████████████| 655/655 [00:04<00:00, 152.31it/s]\n"
     ]
    },
    {
     "name": "stdout",
     "output_type": "stream",
     "text": [
      "Epoch: 232, loss: 0.7146538364068242, f1: 0.3032797976147797, precision: 0.18358989262683245, recall: 0.8713476721567052\n"
     ]
    },
    {
     "name": "stderr",
     "output_type": "stream",
     "text": [
      "100%|████████████████████████████████████████████████████████████| 218/218 [00:00<00:00, 512.97it/s]\n"
     ]
    },
    {
     "name": "stdout",
     "output_type": "stream",
     "text": [
      "val_loss: 0.7378525441392846, val_f1: 0.27724966243682453, val_precision: 0.16493214460927139, val_recall: 0.8691001764131249\n"
     ]
    },
    {
     "name": "stderr",
     "output_type": "stream",
     "text": [
      "100%|████████████████████████████████████████████████████████████| 655/655 [00:04<00:00, 150.00it/s]\n"
     ]
    },
    {
     "name": "stdout",
     "output_type": "stream",
     "text": [
      "Epoch: 233, loss: 0.716444505080012, f1: 0.30124173558607453, precision: 0.18195751199911114, recall: 0.8745862568607767\n"
     ]
    },
    {
     "name": "stderr",
     "output_type": "stream",
     "text": [
      "100%|████████████████████████████████████████████████████████████| 218/218 [00:00<00:00, 509.57it/s]\n"
     ]
    },
    {
     "name": "stdout",
     "output_type": "stream",
     "text": [
      "val_loss: 0.7323255101475147, val_f1: 0.28355602124222695, val_precision: 0.1696320410621344, val_recall: 0.8634331527106259\n"
     ]
    },
    {
     "name": "stderr",
     "output_type": "stream",
     "text": [
      "100%|████████████████████████████████████████████████████████████| 655/655 [00:04<00:00, 152.64it/s]\n"
     ]
    },
    {
     "name": "stdout",
     "output_type": "stream",
     "text": [
      "Epoch: 234, loss: 0.7149462089283776, f1: 0.30258028204025605, precision: 0.1830669791558544, recall: 0.8715854288057516\n"
     ]
    },
    {
     "name": "stderr",
     "output_type": "stream",
     "text": [
      "100%|████████████████████████████████████████████████████████████| 218/218 [00:00<00:00, 516.03it/s]\n"
     ]
    },
    {
     "name": "stdout",
     "output_type": "stream",
     "text": [
      "val_loss: 0.73111962342481, val_f1: 0.28445659359286823, val_precision: 0.1696982545556005, val_recall: 0.8786287160094725\n"
     ]
    },
    {
     "name": "stderr",
     "output_type": "stream",
     "text": [
      "100%|████████████████████████████████████████████████████████████| 655/655 [00:04<00:00, 151.78it/s]\n"
     ]
    },
    {
     "name": "stdout",
     "output_type": "stream",
     "text": [
      "Epoch: 235, loss: 0.7093315963526718, f1: 0.30820495363776884, precision: 0.18722312556195805, recall: 0.8711045363477168\n"
     ]
    },
    {
     "name": "stderr",
     "output_type": "stream",
     "text": [
      "100%|████████████████████████████████████████████████████████████| 218/218 [00:00<00:00, 515.87it/s]\n"
     ]
    },
    {
     "name": "stdout",
     "output_type": "stream",
     "text": [
      "val_loss: 0.7373385705532284, val_f1: 0.27900976191111826, val_precision: 0.16563786808914, val_recall: 0.8842192800766832\n"
     ]
    },
    {
     "name": "stderr",
     "output_type": "stream",
     "text": [
      "100%|████████████████████████████████████████████████████████████| 655/655 [00:04<00:00, 149.96it/s]\n"
     ]
    },
    {
     "name": "stdout",
     "output_type": "stream",
     "text": [
      "Epoch: 236, loss: 0.7088951921645011, f1: 0.3086867133029482, precision: 0.18734888619252743, recall: 0.8760973195083269\n"
     ]
    },
    {
     "name": "stderr",
     "output_type": "stream",
     "text": [
      "100%|████████████████████████████████████████████████████████████| 218/218 [00:00<00:00, 510.62it/s]\n"
     ]
    },
    {
     "name": "stdout",
     "output_type": "stream",
     "text": [
      "val_loss: 0.7365672938320615, val_f1: 0.2789086627503979, val_precision: 0.1658336585302145, val_recall: 0.8766797513043115\n"
     ]
    },
    {
     "name": "stderr",
     "output_type": "stream",
     "text": [
      "100%|████████████████████████████████████████████████████████████| 655/655 [00:04<00:00, 150.11it/s]\n"
     ]
    },
    {
     "name": "stdout",
     "output_type": "stream",
     "text": [
      "Epoch: 237, loss: 0.7097895146326254, f1: 0.3080957934926819, precision: 0.18692484630257575, recall: 0.8758531375695731\n"
     ]
    },
    {
     "name": "stderr",
     "output_type": "stream",
     "text": [
      "100%|████████████████████████████████████████████████████████████| 218/218 [00:00<00:00, 507.27it/s]\n"
     ]
    },
    {
     "name": "stdout",
     "output_type": "stream",
     "text": [
      "val_loss: 0.7314453600743495, val_f1: 0.2842628810244749, val_precision: 0.16962885908748304, val_recall: 0.876794817250803\n"
     ]
    },
    {
     "name": "stderr",
     "output_type": "stream",
     "text": [
      "100%|████████████████████████████████████████████████████████████| 655/655 [00:04<00:00, 149.82it/s]\n"
     ]
    },
    {
     "name": "stdout",
     "output_type": "stream",
     "text": [
      "Epoch: 238, loss: 0.7099251345823739, f1: 0.3073571430347554, precision: 0.1865645572514707, recall: 0.871829565517775\n"
     ]
    },
    {
     "name": "stderr",
     "output_type": "stream",
     "text": [
      "100%|████████████████████████████████████████████████████████████| 218/218 [00:00<00:00, 513.80it/s]\n"
     ]
    },
    {
     "name": "stdout",
     "output_type": "stream",
     "text": [
      "val_loss: 0.7283945605842346, val_f1: 0.28710043141443503, val_precision: 0.17177120303102864, val_recall: 0.8737395670982676\n"
     ]
    },
    {
     "name": "stderr",
     "output_type": "stream",
     "text": [
      "100%|████████████████████████████████████████████████████████████| 655/655 [00:04<00:00, 150.03it/s]\n"
     ]
    },
    {
     "name": "stdout",
     "output_type": "stream",
     "text": [
      "Epoch: 239, loss: 0.7086865411459945, f1: 0.30918666976306514, precision: 0.187728547589242, recall: 0.8758532042721756\n"
     ]
    },
    {
     "name": "stderr",
     "output_type": "stream",
     "text": [
      "100%|████████████████████████████████████████████████████████████| 218/218 [00:00<00:00, 511.48it/s]\n"
     ]
    },
    {
     "name": "stdout",
     "output_type": "stream",
     "text": [
      "val_loss: 0.7276016271442448, val_f1: 0.28787345741476233, val_precision: 0.17222610605590113, val_recall: 0.876288721320826\n"
     ]
    },
    {
     "name": "stderr",
     "output_type": "stream",
     "text": [
      "100%|████████████████████████████████████████████████████████████| 655/655 [00:04<00:00, 150.65it/s]\n"
     ]
    },
    {
     "name": "stdout",
     "output_type": "stream",
     "text": [
      "Epoch: 240, loss: 0.706598306794203, f1: 0.31154915994221893, precision: 0.1894287456367307, recall: 0.8768062646152409\n"
     ]
    },
    {
     "name": "stderr",
     "output_type": "stream",
     "text": [
      "100%|████████████████████████████████████████████████████████████| 218/218 [00:00<00:00, 518.91it/s]\n"
     ]
    },
    {
     "name": "stdout",
     "output_type": "stream",
     "text": [
      "val_loss: 0.7282832508240271, val_f1: 0.2866949653560408, val_precision: 0.17153084644654748, val_recall: 0.8724478469529283\n"
     ]
    },
    {
     "name": "stderr",
     "output_type": "stream",
     "text": [
      "100%|████████████████████████████████████████████████████████████| 655/655 [00:04<00:00, 151.74it/s]\n"
     ]
    },
    {
     "name": "stdout",
     "output_type": "stream",
     "text": [
      "Epoch: 241, loss: 0.7092474627130814, f1: 0.3086470582255217, precision: 0.18727784449703822, recall: 0.8770134518164715\n"
     ]
    },
    {
     "name": "stderr",
     "output_type": "stream",
     "text": [
      "100%|████████████████████████████████████████████████████████████| 218/218 [00:00<00:00, 510.64it/s]\n"
     ]
    },
    {
     "name": "stdout",
     "output_type": "stream",
     "text": [
      "val_loss: 0.728157358158619, val_f1: 0.2869642579941778, val_precision: 0.17201078886490898, val_recall: 0.8651115864241888\n"
     ]
    },
    {
     "name": "stderr",
     "output_type": "stream",
     "text": [
      "100%|████████████████████████████████████████████████████████████| 655/655 [00:04<00:00, 150.30it/s]\n"
     ]
    },
    {
     "name": "stdout",
     "output_type": "stream",
     "text": [
      "Epoch: 242, loss: 0.7089493396627994, f1: 0.3092450761726107, precision: 0.18779327376596344, recall: 0.8753822316650216\n"
     ]
    },
    {
     "name": "stderr",
     "output_type": "stream",
     "text": [
      "100%|████████████████████████████████████████████████████████████| 218/218 [00:00<00:00, 519.00it/s]\n"
     ]
    },
    {
     "name": "stdout",
     "output_type": "stream",
     "text": [
      "val_loss: 0.7332740108901208, val_f1: 0.28181360218114804, val_precision: 0.16818408171620663, val_recall: 0.8687919178687105\n"
     ]
    },
    {
     "name": "stderr",
     "output_type": "stream",
     "text": [
      "100%|████████████████████████████████████████████████████████████| 655/655 [00:04<00:00, 150.09it/s]\n"
     ]
    },
    {
     "name": "stdout",
     "output_type": "stream",
     "text": [
      "Epoch: 243, loss: 0.7086284334422978, f1: 0.30921296998221287, precision: 0.1876722840976169, recall: 0.8775034312983505\n"
     ]
    },
    {
     "name": "stderr",
     "output_type": "stream",
     "text": [
      "100%|████████████████████████████████████████████████████████████| 218/218 [00:00<00:00, 511.49it/s]\n"
     ]
    },
    {
     "name": "stdout",
     "output_type": "stream",
     "text": [
      "val_loss: 0.7290143676854055, val_f1: 0.2863800216026309, val_precision: 0.17139983995723615, val_recall: 0.8700068617632629\n"
     ]
    },
    {
     "name": "stderr",
     "output_type": "stream",
     "text": [
      "100%|████████████████████████████████████████████████████████████| 655/655 [00:04<00:00, 150.16it/s]\n"
     ]
    },
    {
     "name": "stdout",
     "output_type": "stream",
     "text": [
      "Epoch: 244, loss: 0.7109336170531412, f1: 0.30691153336999843, precision: 0.18603621473578552, recall: 0.8762411713600159\n"
     ]
    },
    {
     "name": "stderr",
     "output_type": "stream",
     "text": [
      "100%|████████████████████████████████████████████████████████████| 218/218 [00:00<00:00, 507.88it/s]\n"
     ]
    },
    {
     "name": "stdout",
     "output_type": "stream",
     "text": [
      "val_loss: 0.7292538386419278, val_f1: 0.28644274598354336, val_precision: 0.1715366405631424, val_recall: 0.867648985407768\n"
     ]
    },
    {
     "name": "stderr",
     "output_type": "stream",
     "text": [
      "100%|████████████████████████████████████████████████████████████| 655/655 [00:04<00:00, 151.29it/s]\n"
     ]
    },
    {
     "name": "stdout",
     "output_type": "stream",
     "text": [
      "Epoch: 245, loss: 0.7086035572845517, f1: 0.31013859364595836, precision: 0.1883826176060065, recall: 0.8768972698968786\n"
     ]
    },
    {
     "name": "stderr",
     "output_type": "stream",
     "text": [
      "100%|████████████████████████████████████████████████████████████| 218/218 [00:00<00:00, 514.00it/s]\n"
     ]
    },
    {
     "name": "stdout",
     "output_type": "stream",
     "text": [
      "val_loss: 0.7277411411114789, val_f1: 0.28755052858150615, val_precision: 0.1719625172196725, val_recall: 0.8771325259580525\n"
     ]
    },
    {
     "name": "stderr",
     "output_type": "stream",
     "text": [
      "100%|████████████████████████████████████████████████████████████| 655/655 [00:04<00:00, 150.78it/s]\n"
     ]
    },
    {
     "name": "stdout",
     "output_type": "stream",
     "text": [
      "Epoch: 246, loss: 0.7095492953562554, f1: 0.3082370744313253, precision: 0.18705936300618048, recall: 0.87518496294968\n"
     ]
    },
    {
     "name": "stderr",
     "output_type": "stream",
     "text": [
      "100%|████████████████████████████████████████████████████████████| 218/218 [00:00<00:00, 514.14it/s]\n"
     ]
    },
    {
     "name": "stdout",
     "output_type": "stream",
     "text": [
      "val_loss: 0.7294951269932843, val_f1: 0.286168428614038, val_precision: 0.17111769636426497, val_recall: 0.8733927911027856\n"
     ]
    },
    {
     "name": "stderr",
     "output_type": "stream",
     "text": [
      "100%|████████████████████████████████████████████████████████████| 655/655 [00:04<00:00, 152.09it/s]\n"
     ]
    },
    {
     "name": "stdout",
     "output_type": "stream",
     "text": [
      "Epoch: 247, loss: 0.7125498011822009, f1: 0.30594114050050397, precision: 0.1852733549612169, recall: 0.8773661779993362\n"
     ]
    },
    {
     "name": "stderr",
     "output_type": "stream",
     "text": [
      "100%|████████████████████████████████████████████████████████████| 218/218 [00:00<00:00, 512.56it/s]\n"
     ]
    },
    {
     "name": "stdout",
     "output_type": "stream",
     "text": [
      "val_loss: 0.745867221453868, val_f1: 0.27119916602816924, val_precision: 0.16003797135375644, val_recall: 0.8879915434832967\n"
     ]
    },
    {
     "name": "stderr",
     "output_type": "stream",
     "text": [
      "100%|████████████████████████████████████████████████████████████| 655/655 [00:04<00:00, 149.61it/s]\n"
     ]
    },
    {
     "name": "stdout",
     "output_type": "stream",
     "text": [
      "Epoch: 248, loss: 0.7141529943196828, f1: 0.3045586030046847, precision: 0.18419724912986957, recall: 0.8787979967721546\n"
     ]
    },
    {
     "name": "stderr",
     "output_type": "stream",
     "text": [
      "100%|████████████████████████████████████████████████████████████| 218/218 [00:00<00:00, 519.02it/s]\n"
     ]
    },
    {
     "name": "stdout",
     "output_type": "stream",
     "text": [
      "val_loss: 0.7341219457464481, val_f1: 0.2812166510902356, val_precision: 0.1672239986487553, val_recall: 0.8834300883319399\n"
     ]
    },
    {
     "name": "stderr",
     "output_type": "stream",
     "text": [
      "100%|████████████████████████████████████████████████████████████| 655/655 [00:04<00:00, 150.01it/s]\n"
     ]
    },
    {
     "name": "stdout",
     "output_type": "stream",
     "text": [
      "Epoch: 249, loss: 0.711915255684889, f1: 0.30606423093926227, precision: 0.18545767657231282, recall: 0.8752656734626711\n"
     ]
    },
    {
     "name": "stderr",
     "output_type": "stream",
     "text": [
      "100%|████████████████████████████████████████████████████████████| 218/218 [00:00<00:00, 510.40it/s]\n"
     ]
    },
    {
     "name": "stdout",
     "output_type": "stream",
     "text": [
      "val_loss: 0.733699128988686, val_f1: 0.2815490113802347, val_precision: 0.16770718118534722, val_recall: 0.8765893138329918\n"
     ]
    },
    {
     "name": "stderr",
     "output_type": "stream",
     "text": [
      "100%|████████████████████████████████████████████████████████████| 655/655 [00:04<00:00, 150.71it/s]\n"
     ]
    },
    {
     "name": "stdout",
     "output_type": "stream",
     "text": [
      "Epoch: 250, loss: 0.7070556886323536, f1: 0.31135260258427183, precision: 0.18921274087242498, recall: 0.8783263824368251\n"
     ]
    },
    {
     "name": "stderr",
     "output_type": "stream",
     "text": [
      "100%|████████████████████████████████████████████████████████████| 218/218 [00:00<00:00, 514.75it/s]\n"
     ]
    },
    {
     "name": "stdout",
     "output_type": "stream",
     "text": [
      "val_loss: 0.7311825011301478, val_f1: 0.28497166235333093, val_precision: 0.17004840947482563, val_recall: 0.8790719323202011\n"
     ]
    },
    {
     "name": "stderr",
     "output_type": "stream",
     "text": [
      "100%|████████████████████████████████████████████████████████████| 655/655 [00:04<00:00, 151.19it/s]\n"
     ]
    },
    {
     "name": "stdout",
     "output_type": "stream",
     "text": [
      "Epoch: 251, loss: 0.7082872631895634, f1: 0.3099150886626099, precision: 0.1881211768494535, recall: 0.8789988727969977\n"
     ]
    },
    {
     "name": "stderr",
     "output_type": "stream",
     "text": [
      "100%|████████████████████████████████████████████████████████████| 218/218 [00:00<00:00, 513.71it/s]\n"
     ]
    },
    {
     "name": "stdout",
     "output_type": "stream",
     "text": [
      "val_loss: 0.7265778334315763, val_f1: 0.28911069434464937, val_precision: 0.17324714226767832, val_recall: 0.8728558360983473\n"
     ]
    },
    {
     "name": "stderr",
     "output_type": "stream",
     "text": [
      "100%|████████████████████████████████████████████████████████████| 655/655 [00:04<00:00, 152.33it/s]\n"
     ]
    },
    {
     "name": "stdout",
     "output_type": "stream",
     "text": [
      "Epoch: 252, loss: 0.710213764660231, f1: 0.3075491893459628, precision: 0.18653809309631358, recall: 0.8755115002166224\n"
     ]
    },
    {
     "name": "stderr",
     "output_type": "stream",
     "text": [
      "100%|████████████████████████████████████████████████████████████| 218/218 [00:00<00:00, 517.91it/s]\n"
     ]
    },
    {
     "name": "stdout",
     "output_type": "stream",
     "text": [
      "val_loss: 0.7275803368025964, val_f1: 0.28786225176282904, val_precision: 0.17239345659698369, val_recall: 0.8717762628279695\n"
     ]
    },
    {
     "name": "stderr",
     "output_type": "stream",
     "text": [
      "100%|████████████████████████████████████████████████████████████| 655/655 [00:04<00:00, 152.22it/s]\n"
     ]
    },
    {
     "name": "stdout",
     "output_type": "stream",
     "text": [
      "Epoch: 253, loss: 0.7078630055180033, f1: 0.3094544247300129, precision: 0.18794437725068502, recall: 0.8754542921335643\n"
     ]
    },
    {
     "name": "stderr",
     "output_type": "stream",
     "text": [
      "100%|████████████████████████████████████████████████████████████| 218/218 [00:00<00:00, 513.75it/s]\n"
     ]
    },
    {
     "name": "stdout",
     "output_type": "stream",
     "text": [
      "val_loss: 0.731575161492059, val_f1: 0.28427928610729253, val_precision: 0.16987291195455495, val_recall: 0.8706393449678334\n"
     ]
    },
    {
     "name": "stderr",
     "output_type": "stream",
     "text": [
      "100%|████████████████████████████████████████████████████████████| 655/655 [00:04<00:00, 151.02it/s]\n"
     ]
    },
    {
     "name": "stdout",
     "output_type": "stream",
     "text": [
      "Epoch: 254, loss: 0.7077050373754429, f1: 0.3100762545155236, precision: 0.18845709099341895, recall: 0.8742950465842968\n"
     ]
    },
    {
     "name": "stderr",
     "output_type": "stream",
     "text": [
      "100%|████████████████████████████████████████████████████████████| 218/218 [00:00<00:00, 519.68it/s]\n"
     ]
    },
    {
     "name": "stdout",
     "output_type": "stream",
     "text": [
      "val_loss: 0.7289845686440074, val_f1: 0.2865279926281472, val_precision: 0.17144252769136376, val_recall: 0.8716402329982967\n"
     ]
    },
    {
     "name": "stderr",
     "output_type": "stream",
     "text": [
      "100%|████████████████████████████████████████████████████████████| 655/655 [00:04<00:00, 150.10it/s]\n"
     ]
    },
    {
     "name": "stdout",
     "output_type": "stream",
     "text": [
      "Epoch: 255, loss: 0.7044786852734689, f1: 0.31327027432840204, precision: 0.19071185940037702, recall: 0.8766153636779493\n"
     ]
    },
    {
     "name": "stderr",
     "output_type": "stream",
     "text": [
      "100%|████████████████████████████████████████████████████████████| 218/218 [00:00<00:00, 521.09it/s]\n"
     ]
    },
    {
     "name": "stdout",
     "output_type": "stream",
     "text": [
      "val_loss: 0.7247130313050856, val_f1: 0.29157577927090816, val_precision: 0.17472916295529778, val_recall: 0.8801753690483374\n"
     ]
    },
    {
     "name": "stderr",
     "output_type": "stream",
     "text": [
      "100%|████████████████████████████████████████████████████████████| 655/655 [00:04<00:00, 151.54it/s]\n"
     ]
    },
    {
     "name": "stdout",
     "output_type": "stream",
     "text": [
      "Epoch: 256, loss: 0.7057192996258044, f1: 0.31229170025411424, precision: 0.18995553086163433, recall: 0.8772862448947121\n"
     ]
    },
    {
     "name": "stderr",
     "output_type": "stream",
     "text": [
      "100%|████████████████████████████████████████████████████████████| 218/218 [00:00<00:00, 517.46it/s]\n"
     ]
    },
    {
     "name": "stdout",
     "output_type": "stream",
     "text": [
      "val_loss: 0.7276059998831618, val_f1: 0.28763245199469806, val_precision: 0.17222986395103396, val_recall: 0.8717450781152882\n"
     ]
    },
    {
     "name": "stderr",
     "output_type": "stream",
     "text": [
      "100%|████████████████████████████████████████████████████████████| 655/655 [00:04<00:00, 150.10it/s]\n"
     ]
    },
    {
     "name": "stdout",
     "output_type": "stream",
     "text": [
      "Epoch: 257, loss: 0.7039556527865752, f1: 0.31386519529389845, precision: 0.19113086638332324, recall: 0.8770813395048825\n"
     ]
    },
    {
     "name": "stderr",
     "output_type": "stream",
     "text": [
      "100%|████████████████████████████████████████████████████████████| 218/218 [00:00<00:00, 520.70it/s]\n"
     ]
    },
    {
     "name": "stdout",
     "output_type": "stream",
     "text": [
      "val_loss: 0.7238155155006899, val_f1: 0.2915812271640623, val_precision: 0.1751545043576748, val_recall: 0.8696355281073019\n"
     ]
    },
    {
     "name": "stderr",
     "output_type": "stream",
     "text": [
      "100%|████████████████████████████████████████████████████████████| 655/655 [00:04<00:00, 150.25it/s]\n"
     ]
    },
    {
     "name": "stdout",
     "output_type": "stream",
     "text": [
      "Epoch: 258, loss: 0.7075807305692716, f1: 0.31068540692549035, precision: 0.18848458041387206, recall: 0.8834654816234385\n"
     ]
    },
    {
     "name": "stderr",
     "output_type": "stream",
     "text": [
      "100%|████████████████████████████████████████████████████████████| 218/218 [00:00<00:00, 508.50it/s]\n"
     ]
    },
    {
     "name": "stdout",
     "output_type": "stream",
     "text": [
      "val_loss: 0.7328512504560138, val_f1: 0.28237326483629777, val_precision: 0.16842185790488207, val_recall: 0.8730941094936581\n"
     ]
    },
    {
     "name": "stderr",
     "output_type": "stream",
     "text": [
      "100%|████████████████████████████████████████████████████████████| 655/655 [00:04<00:00, 150.59it/s]\n"
     ]
    },
    {
     "name": "stdout",
     "output_type": "stream",
     "text": [
      "Epoch: 259, loss: 0.7081382917083857, f1: 0.3092683130284127, precision: 0.18768577652180013, recall: 0.8781001274822322\n"
     ]
    },
    {
     "name": "stderr",
     "output_type": "stream",
     "text": [
      "100%|████████████████████████████████████████████████████████████| 218/218 [00:00<00:00, 508.89it/s]\n"
     ]
    },
    {
     "name": "stdout",
     "output_type": "stream",
     "text": [
      "val_loss: 0.7257698807147664, val_f1: 0.2903803104745106, val_precision: 0.17379545892904932, val_recall: 0.8821227676277861\n"
     ]
    },
    {
     "name": "stderr",
     "output_type": "stream",
     "text": [
      "100%|████████████████████████████████████████████████████████████| 655/655 [00:04<00:00, 150.29it/s]\n"
     ]
    },
    {
     "name": "stdout",
     "output_type": "stream",
     "text": [
      "Epoch: 260, loss: 0.7026163356904765, f1: 0.31525300572116066, precision: 0.19208388413579863, recall: 0.8786944855260485\n"
     ]
    },
    {
     "name": "stderr",
     "output_type": "stream",
     "text": [
      "100%|████████████████████████████████████████████████████████████| 218/218 [00:00<00:00, 516.88it/s]\n"
     ]
    },
    {
     "name": "stdout",
     "output_type": "stream",
     "text": [
      "val_loss: 0.7237358276450306, val_f1: 0.29315609809756227, val_precision: 0.17621368519244118, val_recall: 0.8715540326516563\n"
     ]
    },
    {
     "name": "stderr",
     "output_type": "stream",
     "text": [
      "100%|████████████████████████████████████████████████████████████| 655/655 [00:04<00:00, 152.40it/s]\n"
     ]
    },
    {
     "name": "stdout",
     "output_type": "stream",
     "text": [
      "Epoch: 261, loss: 0.7137106758037596, f1: 0.3043176841685905, precision: 0.18419124475530996, recall: 0.8749367573789057\n"
     ]
    },
    {
     "name": "stderr",
     "output_type": "stream",
     "text": [
      "100%|████████████████████████████████████████████████████████████| 218/218 [00:00<00:00, 517.08it/s]\n"
     ]
    },
    {
     "name": "stdout",
     "output_type": "stream",
     "text": [
      "val_loss: 0.7365471378925743, val_f1: 0.28044572844608917, val_precision: 0.16655543302997536, val_recall: 0.8869199219646804\n"
     ]
    },
    {
     "name": "stderr",
     "output_type": "stream",
     "text": [
      "100%|████████████████████████████████████████████████████████████| 655/655 [00:04<00:00, 152.51it/s]\n"
     ]
    },
    {
     "name": "stdout",
     "output_type": "stream",
     "text": [
      "Epoch: 262, loss: 0.7061108599182304, f1: 0.31213214510298115, precision: 0.18979400457487305, recall: 0.8782158617754929\n"
     ]
    },
    {
     "name": "stderr",
     "output_type": "stream",
     "text": [
      "100%|████████████████████████████████████████████████████████████| 218/218 [00:00<00:00, 515.93it/s]\n"
     ]
    },
    {
     "name": "stdout",
     "output_type": "stream",
     "text": [
      "val_loss: 0.7256986671084658, val_f1: 0.2895329293209683, val_precision: 0.17356541516139692, val_recall: 0.8724780279562014\n"
     ]
    },
    {
     "name": "stderr",
     "output_type": "stream",
     "text": [
      "100%|████████████████████████████████████████████████████████████| 655/655 [00:04<00:00, 149.91it/s]\n"
     ]
    },
    {
     "name": "stdout",
     "output_type": "stream",
     "text": [
      "Epoch: 263, loss: 0.7033485439897493, f1: 0.3153668230472762, precision: 0.19219116926875734, recall: 0.87821873153439\n"
     ]
    },
    {
     "name": "stderr",
     "output_type": "stream",
     "text": [
      "100%|████████████████████████████████████████████████████████████| 218/218 [00:00<00:00, 515.77it/s]\n"
     ]
    },
    {
     "name": "stdout",
     "output_type": "stream",
     "text": [
      "val_loss: 0.7272103450713902, val_f1: 0.28886347063340884, val_precision: 0.17321326729730455, val_recall: 0.8692203317213496\n"
     ]
    },
    {
     "name": "stderr",
     "output_type": "stream",
     "text": [
      "100%|████████████████████████████████████████████████████████████| 655/655 [00:04<00:00, 149.86it/s]\n"
     ]
    },
    {
     "name": "stdout",
     "output_type": "stream",
     "text": [
      "Epoch: 264, loss: 0.704336644583986, f1: 0.31401698908724485, precision: 0.19137065737643313, recall: 0.8744158207005217\n"
     ]
    },
    {
     "name": "stderr",
     "output_type": "stream",
     "text": [
      "100%|████████████████████████████████████████████████████████████| 218/218 [00:00<00:00, 510.10it/s]\n"
     ]
    },
    {
     "name": "stdout",
     "output_type": "stream",
     "text": [
      "val_loss: 0.7270987955255246, val_f1: 0.28828905070531474, val_precision: 0.17264944967736892, val_recall: 0.8730587281218363\n"
     ]
    },
    {
     "name": "stderr",
     "output_type": "stream",
     "text": [
      "100%|████████████████████████████████████████████████████████████| 655/655 [00:04<00:00, 150.53it/s]\n"
     ]
    },
    {
     "name": "stdout",
     "output_type": "stream",
     "text": [
      "Epoch: 265, loss: 0.7065294586065162, f1: 0.31236742820500907, precision: 0.1899216143087349, recall: 0.8792089291201293\n"
     ]
    },
    {
     "name": "stderr",
     "output_type": "stream",
     "text": [
      "100%|████████████████████████████████████████████████████████████| 218/218 [00:00<00:00, 514.23it/s]\n"
     ]
    },
    {
     "name": "stdout",
     "output_type": "stream",
     "text": [
      "val_loss: 0.7386610417737873, val_f1: 0.27725997796786933, val_precision: 0.16458434623520857, val_recall: 0.8790942455103637\n"
     ]
    },
    {
     "name": "stderr",
     "output_type": "stream",
     "text": [
      "100%|████████████████████████████████████████████████████████████| 655/655 [00:04<00:00, 152.23it/s]\n"
     ]
    },
    {
     "name": "stdout",
     "output_type": "stream",
     "text": [
      "Epoch: 266, loss: 0.7059579265936641, f1: 0.3123850481916242, precision: 0.18993058214319572, recall: 0.8792959270586495\n"
     ]
    },
    {
     "name": "stderr",
     "output_type": "stream",
     "text": [
      "100%|████████████████████████████████████████████████████████████| 218/218 [00:00<00:00, 509.96it/s]\n"
     ]
    },
    {
     "name": "stdout",
     "output_type": "stream",
     "text": [
      "val_loss: 0.7303633689880371, val_f1: 0.2851579086649533, val_precision: 0.17015405941686226, val_recall: 0.8797931247348085\n"
     ]
    },
    {
     "name": "stderr",
     "output_type": "stream",
     "text": [
      "100%|████████████████████████████████████████████████████████████| 655/655 [00:04<00:00, 149.97it/s]\n"
     ]
    },
    {
     "name": "stdout",
     "output_type": "stream",
     "text": [
      "Epoch: 267, loss: 0.7046337174095271, f1: 0.31346484539674635, precision: 0.19078283014188285, recall: 0.8781643869312665\n"
     ]
    },
    {
     "name": "stderr",
     "output_type": "stream",
     "text": [
      "100%|████████████████████████████████████████████████████████████| 218/218 [00:00<00:00, 514.69it/s]\n"
     ]
    },
    {
     "name": "stdout",
     "output_type": "stream",
     "text": [
      "val_loss: 0.7377840742605541, val_f1: 0.2768896830817421, val_precision: 0.1647231321645166, val_recall: 0.8678292000512464\n"
     ]
    },
    {
     "name": "stderr",
     "output_type": "stream",
     "text": [
      "100%|████████████████████████████████████████████████████████████| 655/655 [00:04<00:00, 152.48it/s]\n"
     ]
    },
    {
     "name": "stdout",
     "output_type": "stream",
     "text": [
      "Epoch: 268, loss: 0.7155417280342743, f1: 0.3017722540091945, precision: 0.18263420734184843, recall: 0.8679884865993762\n"
     ]
    },
    {
     "name": "stderr",
     "output_type": "stream",
     "text": [
      "100%|████████████████████████████████████████████████████████████| 218/218 [00:00<00:00, 516.18it/s]\n"
     ]
    },
    {
     "name": "stdout",
     "output_type": "stream",
     "text": [
      "val_loss: 0.7306092386945672, val_f1: 0.285807709870005, val_precision: 0.1709134431402071, val_recall: 0.8719938938770819\n"
     ]
    },
    {
     "name": "stderr",
     "output_type": "stream",
     "text": [
      "100%|████████████████████████████████████████████████████████████| 655/655 [00:04<00:00, 151.00it/s]\n"
     ]
    },
    {
     "name": "stdout",
     "output_type": "stream",
     "text": [
      "Epoch: 269, loss: 0.7066764488475014, f1: 0.3115082138211167, precision: 0.18939801516253074, recall: 0.8768160488769299\n"
     ]
    },
    {
     "name": "stderr",
     "output_type": "stream",
     "text": [
      "100%|████████████████████████████████████████████████████████████| 218/218 [00:00<00:00, 514.76it/s]\n"
     ]
    },
    {
     "name": "stdout",
     "output_type": "stream",
     "text": [
      "val_loss: 0.7252026479178613, val_f1: 0.2904445968292465, val_precision: 0.17459376439999003, val_recall: 0.8632496507889634\n"
     ]
    },
    {
     "name": "stderr",
     "output_type": "stream",
     "text": [
      "100%|████████████████████████████████████████████████████████████| 655/655 [00:04<00:00, 151.49it/s]\n"
     ]
    },
    {
     "name": "stdout",
     "output_type": "stream",
     "text": [
      "Epoch: 270, loss: 0.7052115967255512, f1: 0.3128245725848904, precision: 0.19032948874505876, recall: 0.8777218735855045\n"
     ]
    },
    {
     "name": "stderr",
     "output_type": "stream",
     "text": [
      "100%|████████████████████████████████████████████████████████████| 218/218 [00:00<00:00, 512.57it/s]\n"
     ]
    },
    {
     "name": "stdout",
     "output_type": "stream",
     "text": [
      "val_loss: 0.727546375005617, val_f1: 0.28666439861790755, val_precision: 0.17154349072263875, val_recall: 0.8715554861300582\n"
     ]
    },
    {
     "name": "stderr",
     "output_type": "stream",
     "text": [
      "100%|████████████████████████████████████████████████████████████| 655/655 [00:04<00:00, 152.74it/s]\n"
     ]
    },
    {
     "name": "stdout",
     "output_type": "stream",
     "text": [
      "Epoch: 271, loss: 0.7031136080508924, f1: 0.31508044201013435, precision: 0.1920235465074541, recall: 0.877277104636185\n"
     ]
    },
    {
     "name": "stderr",
     "output_type": "stream",
     "text": [
      "100%|████████████████████████████████████████████████████████████| 218/218 [00:00<00:00, 511.52it/s]\n"
     ]
    },
    {
     "name": "stdout",
     "output_type": "stream",
     "text": [
      "val_loss: 0.7268339053753319, val_f1: 0.2884822912442196, val_precision: 0.172552018366549, val_recall: 0.8791357664340133\n"
     ]
    },
    {
     "name": "stderr",
     "output_type": "stream",
     "text": [
      "100%|████████████████████████████████████████████████████████████| 655/655 [00:04<00:00, 152.22it/s]\n"
     ]
    },
    {
     "name": "stdout",
     "output_type": "stream",
     "text": [
      "Epoch: 272, loss: 0.7036078153675749, f1: 0.3144704718194689, precision: 0.19166507660091378, recall: 0.8753018582140216\n"
     ]
    },
    {
     "name": "stderr",
     "output_type": "stream",
     "text": [
      "100%|████████████████████████████████████████████████████████████| 218/218 [00:00<00:00, 519.66it/s]\n"
     ]
    },
    {
     "name": "stdout",
     "output_type": "stream",
     "text": [
      "val_loss: 0.7241618780914797, val_f1: 0.2913432188374626, val_precision: 0.17478755518042166, val_recall: 0.8744893495095979\n"
     ]
    },
    {
     "name": "stderr",
     "output_type": "stream",
     "text": [
      "100%|████████████████████████████████████████████████████████████| 655/655 [00:04<00:00, 152.56it/s]\n"
     ]
    },
    {
     "name": "stdout",
     "output_type": "stream",
     "text": [
      "Epoch: 273, loss: 0.7081134819802437, f1: 0.31050435399301896, precision: 0.18866297267946122, recall: 0.876672842666393\n"
     ]
    },
    {
     "name": "stderr",
     "output_type": "stream",
     "text": [
      "100%|████████████████████████████████████████████████████████████| 218/218 [00:00<00:00, 515.55it/s]\n"
     ]
    },
    {
     "name": "stdout",
     "output_type": "stream",
     "text": [
      "val_loss: 0.7294723777049178, val_f1: 0.2860666299710208, val_precision: 0.17113483453665032, val_recall: 0.8710554832712226\n"
     ]
    },
    {
     "name": "stderr",
     "output_type": "stream",
     "text": [
      "100%|████████████████████████████████████████████████████████████| 655/655 [00:04<00:00, 153.11it/s]\n"
     ]
    },
    {
     "name": "stdout",
     "output_type": "stream",
     "text": [
      "Epoch: 274, loss: 0.7089111392734615, f1: 0.3086075859979716, precision: 0.18736535531418924, recall: 0.8744651788063632\n"
     ]
    },
    {
     "name": "stderr",
     "output_type": "stream",
     "text": [
      "100%|████████████████████████████████████████████████████████████| 218/218 [00:00<00:00, 513.67it/s]\n"
     ]
    },
    {
     "name": "stdout",
     "output_type": "stream",
     "text": [
      "val_loss: 0.7287926750445585, val_f1: 0.28697385362188005, val_precision: 0.17148833850039802, val_recall: 0.8787533624456563\n"
     ]
    },
    {
     "name": "stderr",
     "output_type": "stream",
     "text": [
      "100%|████████████████████████████████████████████████████████████| 655/655 [00:04<00:00, 150.99it/s]\n"
     ]
    },
    {
     "name": "stdout",
     "output_type": "stream",
     "text": [
      "Epoch: 275, loss: 0.7126659524349765, f1: 0.30421733831964204, precision: 0.1842159328257082, recall: 0.8727258937959452\n"
     ]
    },
    {
     "name": "stderr",
     "output_type": "stream",
     "text": [
      "100%|████████████████████████████████████████████████████████████| 218/218 [00:00<00:00, 520.91it/s]\n"
     ]
    },
    {
     "name": "stdout",
     "output_type": "stream",
     "text": [
      "val_loss: 0.7342858951572978, val_f1: 0.2796468110085415, val_precision: 0.16630189946143453, val_recall: 0.8781805325538741\n"
     ]
    },
    {
     "name": "stderr",
     "output_type": "stream",
     "text": [
      "100%|████████████████████████████████████████████████████████████| 655/655 [00:04<00:00, 150.02it/s]\n"
     ]
    },
    {
     "name": "stdout",
     "output_type": "stream",
     "text": [
      "Epoch: 276, loss: 0.7145821223732169, f1: 0.30215312246171905, precision: 0.1826120277738753, recall: 0.8748371348126244\n"
     ]
    },
    {
     "name": "stderr",
     "output_type": "stream",
     "text": [
      "100%|████████████████████████████████████████████████████████████| 218/218 [00:00<00:00, 517.72it/s]\n"
     ]
    },
    {
     "name": "stdout",
     "output_type": "stream",
     "text": [
      "val_loss: 0.7322646420483195, val_f1: 0.28203337165965703, val_precision: 0.16829934079678507, val_recall: 0.869893904946266\n"
     ]
    },
    {
     "name": "stderr",
     "output_type": "stream",
     "text": [
      "100%|████████████████████████████████████████████████████████████| 655/655 [00:04<00:00, 154.07it/s]\n"
     ]
    },
    {
     "name": "stdout",
     "output_type": "stream",
     "text": [
      "Epoch: 277, loss: 0.7137898577988603, f1: 0.3032300050769796, precision: 0.18346611456447887, recall: 0.8733200712968375\n"
     ]
    },
    {
     "name": "stderr",
     "output_type": "stream",
     "text": [
      "100%|████████████████████████████████████████████████████████████| 218/218 [00:00<00:00, 520.83it/s]\n"
     ]
    },
    {
     "name": "stdout",
     "output_type": "stream",
     "text": [
      "val_loss: 0.7285596720122416, val_f1: 0.28765381119165795, val_precision: 0.17235208095965582, val_recall: 0.8690171457758737\n"
     ]
    },
    {
     "name": "stderr",
     "output_type": "stream",
     "text": [
      "100%|████████████████████████████████████████████████████████████| 655/655 [00:04<00:00, 152.52it/s]\n"
     ]
    },
    {
     "name": "stdout",
     "output_type": "stream",
     "text": [
      "Epoch: 278, loss: 0.7098363768053418, f1: 0.30777707687279066, precision: 0.18677839843257693, recall: 0.8739184280388228\n"
     ]
    },
    {
     "name": "stderr",
     "output_type": "stream",
     "text": [
      "100%|████████████████████████████████████████████████████████████| 218/218 [00:00<00:00, 513.71it/s]\n"
     ]
    },
    {
     "name": "stdout",
     "output_type": "stream",
     "text": [
      "val_loss: 0.7332338348987999, val_f1: 0.2825857477154873, val_precision: 0.16859302404037582, val_recall: 0.8725590416050832\n"
     ]
    },
    {
     "name": "stderr",
     "output_type": "stream",
     "text": [
      "100%|████████████████████████████████████████████████████████████| 655/655 [00:04<00:00, 152.20it/s]\n"
     ]
    },
    {
     "name": "stdout",
     "output_type": "stream",
     "text": [
      "Epoch: 279, loss: 0.7123503568518252, f1: 0.30463022896835634, precision: 0.18438554883628855, recall: 0.875719538808779\n"
     ]
    },
    {
     "name": "stderr",
     "output_type": "stream",
     "text": [
      "100%|████████████████████████████████████████████████████████████| 218/218 [00:00<00:00, 509.18it/s]\n"
     ]
    },
    {
     "name": "stdout",
     "output_type": "stream",
     "text": [
      "val_loss: 0.7293749867229287, val_f1: 0.286558330873756, val_precision: 0.1712478013162356, val_recall: 0.8772770385129736\n"
     ]
    },
    {
     "name": "stderr",
     "output_type": "stream",
     "text": [
      "100%|████████████████████████████████████████████████████████████| 655/655 [00:04<00:00, 148.89it/s]\n"
     ]
    },
    {
     "name": "stdout",
     "output_type": "stream",
     "text": [
      "Epoch: 280, loss: 0.7046452688806839, f1: 0.3139711944633929, precision: 0.19140225065061608, recall: 0.8730481800232225\n"
     ]
    },
    {
     "name": "stderr",
     "output_type": "stream",
     "text": [
      "100%|████████████████████████████████████████████████████████████| 218/218 [00:00<00:00, 515.20it/s]\n"
     ]
    },
    {
     "name": "stdout",
     "output_type": "stream",
     "text": [
      "val_loss: 0.7320579153682114, val_f1: 0.2844266759248372, val_precision: 0.16966505594756626, val_recall: 0.8789480481672725\n"
     ]
    },
    {
     "name": "stderr",
     "output_type": "stream",
     "text": [
      "100%|████████████████████████████████████████████████████████████| 655/655 [00:04<00:00, 150.97it/s]\n"
     ]
    },
    {
     "name": "stdout",
     "output_type": "stream",
     "text": [
      "Epoch: 281, loss: 0.7034858662663526, f1: 0.3147331223591389, precision: 0.19177220250472768, recall: 0.8771390642828614\n"
     ]
    },
    {
     "name": "stderr",
     "output_type": "stream",
     "text": [
      "100%|████████████████████████████████████████████████████████████| 218/218 [00:00<00:00, 515.87it/s]\n"
     ]
    },
    {
     "name": "stdout",
     "output_type": "stream",
     "text": [
      "val_loss: 0.7226465524883445, val_f1: 0.2931388361401282, val_precision: 0.1761468111050375, val_recall: 0.8728874640180431\n"
     ]
    },
    {
     "name": "stderr",
     "output_type": "stream",
     "text": [
      "100%|████████████████████████████████████████████████████████████| 655/655 [00:04<00:00, 151.91it/s]\n"
     ]
    },
    {
     "name": "stdout",
     "output_type": "stream",
     "text": [
      "Epoch: 282, loss: 0.7032260426128184, f1: 0.3146619723752612, precision: 0.19184131479843428, recall: 0.8745956490058026\n"
     ]
    },
    {
     "name": "stderr",
     "output_type": "stream",
     "text": [
      "100%|████████████████████████████████████████████████████████████| 218/218 [00:00<00:00, 510.21it/s]\n"
     ]
    },
    {
     "name": "stdout",
     "output_type": "stream",
     "text": [
      "val_loss: 0.729860371679341, val_f1: 0.285408660464111, val_precision: 0.17026878208127044, val_recall: 0.8815010231022441\n"
     ]
    },
    {
     "name": "stderr",
     "output_type": "stream",
     "text": [
      "100%|████████████████████████████████████████████████████████████| 655/655 [00:04<00:00, 152.30it/s]\n"
     ]
    },
    {
     "name": "stdout",
     "output_type": "stream",
     "text": [
      "Epoch: 283, loss: 0.7041063315995777, f1: 0.31354177819930046, precision: 0.19099861104467897, recall: 0.8748178484785648\n"
     ]
    },
    {
     "name": "stderr",
     "output_type": "stream",
     "text": [
      "100%|████████████████████████████████████████████████████████████| 218/218 [00:00<00:00, 514.65it/s]\n"
     ]
    },
    {
     "name": "stdout",
     "output_type": "stream",
     "text": [
      "val_loss: 0.7232976173042157, val_f1: 0.2916975831639992, val_precision: 0.1748611020659088, val_recall: 0.8790503067707797\n"
     ]
    },
    {
     "name": "stderr",
     "output_type": "stream",
     "text": [
      "100%|████████████████████████████████████████████████████████████| 655/655 [00:04<00:00, 150.60it/s]\n"
     ]
    },
    {
     "name": "stdout",
     "output_type": "stream",
     "text": [
      "Epoch: 284, loss: 0.7016813711355661, f1: 0.31636985139471757, precision: 0.1929944137665834, recall: 0.8770254518239553\n"
     ]
    },
    {
     "name": "stderr",
     "output_type": "stream",
     "text": [
      "100%|████████████████████████████████████████████████████████████| 218/218 [00:00<00:00, 517.10it/s]\n"
     ]
    },
    {
     "name": "stdout",
     "output_type": "stream",
     "text": [
      "val_loss: 0.724428009822828, val_f1: 0.2905549680935559, val_precision: 0.17425950053532463, val_recall: 0.8735065698076826\n"
     ]
    },
    {
     "name": "stderr",
     "output_type": "stream",
     "text": [
      "100%|████████████████████████████████████████████████████████████| 655/655 [00:04<00:00, 150.19it/s]\n"
     ]
    },
    {
     "name": "stdout",
     "output_type": "stream",
     "text": [
      "Epoch: 285, loss: 0.7029294226005787, f1: 0.315416272180957, precision: 0.19220159569371292, recall: 0.8787682000917333\n"
     ]
    },
    {
     "name": "stderr",
     "output_type": "stream",
     "text": [
      "100%|████████████████████████████████████████████████████████████| 218/218 [00:00<00:00, 512.87it/s]\n"
     ]
    },
    {
     "name": "stdout",
     "output_type": "stream",
     "text": [
      "val_loss: 0.7276450360040052, val_f1: 0.2872738069962583, val_precision: 0.17169359299875453, val_recall: 0.8789895204229092\n"
     ]
    },
    {
     "name": "stderr",
     "output_type": "stream",
     "text": [
      "100%|████████████████████████████████████████████████████████████| 655/655 [00:04<00:00, 150.60it/s]\n"
     ]
    },
    {
     "name": "stdout",
     "output_type": "stream",
     "text": [
      "Epoch: 286, loss: 0.7048993740372985, f1: 0.313165150048924, precision: 0.19072658682370003, recall: 0.8746617200720401\n"
     ]
    },
    {
     "name": "stderr",
     "output_type": "stream",
     "text": [
      "100%|████████████████████████████████████████████████████████████| 218/218 [00:00<00:00, 513.67it/s]\n"
     ]
    },
    {
     "name": "stdout",
     "output_type": "stream",
     "text": [
      "val_loss: 0.7235003365289181, val_f1: 0.2921652220770329, val_precision: 0.17541254033257656, val_recall: 0.8736714515664162\n"
     ]
    },
    {
     "name": "stderr",
     "output_type": "stream",
     "text": [
      "100%|████████████████████████████████████████████████████████████| 655/655 [00:04<00:00, 152.38it/s]\n"
     ]
    },
    {
     "name": "stdout",
     "output_type": "stream",
     "text": [
      "Epoch: 287, loss: 0.7025520798814205, f1: 0.3160630896157615, precision: 0.19254668604383487, recall: 0.8815971528300802\n"
     ]
    },
    {
     "name": "stderr",
     "output_type": "stream",
     "text": [
      "100%|████████████████████████████████████████████████████████████| 218/218 [00:00<00:00, 518.37it/s]\n"
     ]
    },
    {
     "name": "stdout",
     "output_type": "stream",
     "text": [
      "val_loss: 0.724498227375363, val_f1: 0.2911012873580813, val_precision: 0.17441079799735218, val_recall: 0.879607351821497\n"
     ]
    },
    {
     "name": "stderr",
     "output_type": "stream",
     "text": [
      "100%|████████████████████████████████████████████████████████████| 655/655 [00:04<00:00, 152.37it/s]\n"
     ]
    },
    {
     "name": "stdout",
     "output_type": "stream",
     "text": [
      "Epoch: 288, loss: 0.7011659031605902, f1: 0.317015923319594, precision: 0.1932911865157253, recall: 0.8808324158646679\n"
     ]
    },
    {
     "name": "stderr",
     "output_type": "stream",
     "text": [
      "100%|████████████████████████████████████████████████████████████| 218/218 [00:00<00:00, 513.31it/s]\n"
     ]
    },
    {
     "name": "stdout",
     "output_type": "stream",
     "text": [
      "val_loss: 0.721703184854, val_f1: 0.2934404616325283, val_precision: 0.17645587520075773, val_recall: 0.8706603564253641\n"
     ]
    },
    {
     "name": "stderr",
     "output_type": "stream",
     "text": [
      "100%|████████████████████████████████████████████████████████████| 655/655 [00:04<00:00, 152.30it/s]\n"
     ]
    },
    {
     "name": "stdout",
     "output_type": "stream",
     "text": [
      "Epoch: 289, loss: 0.6999752678943955, f1: 0.3187486717279999, precision: 0.19462471562828726, recall: 0.8799390248669923\n"
     ]
    },
    {
     "name": "stderr",
     "output_type": "stream",
     "text": [
      "100%|████████████████████████████████████████████████████████████| 218/218 [00:00<00:00, 510.63it/s]\n"
     ]
    },
    {
     "name": "stdout",
     "output_type": "stream",
     "text": [
      "val_loss: 0.7237798232551015, val_f1: 0.29163518195595095, val_precision: 0.17526425225574763, val_recall: 0.8678950325611534\n"
     ]
    },
    {
     "name": "stderr",
     "output_type": "stream",
     "text": [
      "100%|████████████████████████████████████████████████████████████| 655/655 [00:04<00:00, 150.67it/s]\n"
     ]
    },
    {
     "name": "stdout",
     "output_type": "stream",
     "text": [
      "Epoch: 290, loss: 0.6997605053523115, f1: 0.3188113119207444, precision: 0.19474617787672363, recall: 0.8784149341000855\n"
     ]
    },
    {
     "name": "stderr",
     "output_type": "stream",
     "text": [
      "100%|████████████████████████████████████████████████████████████| 218/218 [00:00<00:00, 515.69it/s]\n"
     ]
    },
    {
     "name": "stdout",
     "output_type": "stream",
     "text": [
      "val_loss: 0.7230701123902558, val_f1: 0.29244877556292564, val_precision: 0.17572196167167448, val_recall: 0.8710830375688885\n"
     ]
    },
    {
     "name": "stderr",
     "output_type": "stream",
     "text": [
      "100%|████████████████████████████████████████████████████████████| 655/655 [00:04<00:00, 152.57it/s]\n"
     ]
    },
    {
     "name": "stdout",
     "output_type": "stream",
     "text": [
      "Epoch: 291, loss: 0.7054764166133094, f1: 0.3122938268623594, precision: 0.18988999261144007, recall: 0.8787205245658641\n"
     ]
    },
    {
     "name": "stderr",
     "output_type": "stream",
     "text": [
      "100%|████████████████████████████████████████████████████████████| 218/218 [00:00<00:00, 513.40it/s]\n"
     ]
    },
    {
     "name": "stdout",
     "output_type": "stream",
     "text": [
      "val_loss: 0.7277882126493191, val_f1: 0.2873767205331134, val_precision: 0.17190307099372149, val_recall: 0.8754465227280188\n"
     ]
    },
    {
     "name": "stderr",
     "output_type": "stream",
     "text": [
      "100%|████████████████████████████████████████████████████████████| 655/655 [00:04<00:00, 150.08it/s]\n"
     ]
    },
    {
     "name": "stdout",
     "output_type": "stream",
     "text": [
      "Epoch: 292, loss: 0.7038971373143087, f1: 0.3138916678002495, precision: 0.19109366563724653, recall: 0.8782799135637648\n"
     ]
    },
    {
     "name": "stderr",
     "output_type": "stream",
     "text": [
      "100%|████████████████████████████████████████████████████████████| 218/218 [00:00<00:00, 514.13it/s]\n"
     ]
    },
    {
     "name": "stdout",
     "output_type": "stream",
     "text": [
      "val_loss: 0.7357402602466968, val_f1: 0.27976082884496156, val_precision: 0.1666447660979738, val_recall: 0.8709472669373959\n"
     ]
    },
    {
     "name": "stderr",
     "output_type": "stream",
     "text": [
      "100%|████████████████████████████████████████████████████████████| 655/655 [00:04<00:00, 149.74it/s]\n"
     ]
    },
    {
     "name": "stdout",
     "output_type": "stream",
     "text": [
      "Epoch: 293, loss: 0.709176861329843, f1: 0.30872697467753535, precision: 0.18734395615187766, recall: 0.8768543154228735\n"
     ]
    },
    {
     "name": "stderr",
     "output_type": "stream",
     "text": [
      "100%|████████████████████████████████████████████████████████████| 218/218 [00:00<00:00, 512.56it/s]\n"
     ]
    },
    {
     "name": "stdout",
     "output_type": "stream",
     "text": [
      "val_loss: 0.722440781943295, val_f1: 0.2926730879254422, val_precision: 0.17589420181007012, val_recall: 0.8708318409022935\n"
     ]
    },
    {
     "name": "stderr",
     "output_type": "stream",
     "text": [
      "100%|████████████████████████████████████████████████████████████| 655/655 [00:04<00:00, 150.70it/s]\n"
     ]
    },
    {
     "name": "stdout",
     "output_type": "stream",
     "text": [
      "Epoch: 294, loss: 0.7021022372573387, f1: 0.3160923205528519, precision: 0.1927793856568009, recall: 0.8772016232250301\n"
     ]
    },
    {
     "name": "stderr",
     "output_type": "stream",
     "text": [
      "100%|████████████████████████████████████████████████████████████| 218/218 [00:00<00:00, 512.21it/s]\n"
     ]
    },
    {
     "name": "stdout",
     "output_type": "stream",
     "text": [
      "val_loss: 0.7284441322361658, val_f1: 0.28775331061751563, val_precision: 0.17243101793862536, val_recall: 0.8688268918509877\n"
     ]
    },
    {
     "name": "stderr",
     "output_type": "stream",
     "text": [
      "100%|████████████████████████████████████████████████████████████| 655/655 [00:04<00:00, 151.60it/s]\n"
     ]
    },
    {
     "name": "stdout",
     "output_type": "stream",
     "text": [
      "Epoch: 295, loss: 0.7011177335076659, f1: 0.31725795143293833, precision: 0.19369997226043056, recall: 0.8761207614236206\n"
     ]
    },
    {
     "name": "stderr",
     "output_type": "stream",
     "text": [
      "100%|████████████████████████████████████████████████████████████| 218/218 [00:00<00:00, 512.48it/s]\n"
     ]
    },
    {
     "name": "stdout",
     "output_type": "stream",
     "text": [
      "val_loss: 0.7248250697184047, val_f1: 0.29141204106979685, val_precision: 0.17506759175432657, val_recall: 0.8687682933763626\n"
     ]
    },
    {
     "name": "stderr",
     "output_type": "stream",
     "text": [
      "100%|████████████████████████████████████████████████████████████| 655/655 [00:04<00:00, 151.37it/s]\n"
     ]
    },
    {
     "name": "stdout",
     "output_type": "stream",
     "text": [
      "Epoch: 296, loss: 0.7019781649567699, f1: 0.31636715449683944, precision: 0.1929450915088408, recall: 0.8780038912787692\n"
     ]
    },
    {
     "name": "stderr",
     "output_type": "stream",
     "text": [
      "100%|████████████████████████████████████████████████████████████| 218/218 [00:00<00:00, 516.58it/s]\n"
     ]
    },
    {
     "name": "stdout",
     "output_type": "stream",
     "text": [
      "val_loss: 0.7264320385565451, val_f1: 0.2898740071605018, val_precision: 0.173633832424674, val_recall: 0.8769598734488181\n"
     ]
    },
    {
     "name": "stderr",
     "output_type": "stream",
     "text": [
      "100%|████████████████████████████████████████████████████████████| 655/655 [00:04<00:00, 152.59it/s]\n"
     ]
    },
    {
     "name": "stdout",
     "output_type": "stream",
     "text": [
      "Epoch: 297, loss: 0.7014774543638448, f1: 0.31686541299286036, precision: 0.1932218849374593, recall: 0.8799479480918128\n"
     ]
    },
    {
     "name": "stderr",
     "output_type": "stream",
     "text": [
      "100%|████████████████████████████████████████████████████████████| 218/218 [00:00<00:00, 511.28it/s]\n"
     ]
    },
    {
     "name": "stdout",
     "output_type": "stream",
     "text": [
      "val_loss: 0.7253169652518876, val_f1: 0.29107768571131715, val_precision: 0.17469058455813916, val_recall: 0.8721353871013047\n"
     ]
    },
    {
     "name": "stderr",
     "output_type": "stream",
     "text": [
      "100%|████████████████████████████████████████████████████████████| 655/655 [00:04<00:00, 152.02it/s]\n"
     ]
    },
    {
     "name": "stdout",
     "output_type": "stream",
     "text": [
      "Epoch: 298, loss: 0.7015306473688315, f1: 0.31697718353095594, precision: 0.19342326673444446, recall: 0.8775058358680201\n"
     ]
    },
    {
     "name": "stderr",
     "output_type": "stream",
     "text": [
      "100%|████████████████████████████████████████████████████████████| 218/218 [00:00<00:00, 518.55it/s]\n"
     ]
    },
    {
     "name": "stdout",
     "output_type": "stream",
     "text": [
      "val_loss: 0.7349193872661766, val_f1: 0.2808263915692532, val_precision: 0.1673526732814968, val_recall: 0.8722709518506986\n"
     ]
    },
    {
     "name": "stderr",
     "output_type": "stream",
     "text": [
      "100%|████████████████████████████████████████████████████████████| 655/655 [00:04<00:00, 152.77it/s]\n"
     ]
    },
    {
     "name": "stdout",
     "output_type": "stream",
     "text": [
      "Epoch: 299, loss: 0.6995931833754969, f1: 0.318869798607435, precision: 0.19475835981202944, recall: 0.8790554220439823\n"
     ]
    },
    {
     "name": "stderr",
     "output_type": "stream",
     "text": [
      "100%|████████████████████████████████████████████████████████████| 218/218 [00:00<00:00, 510.65it/s]\n"
     ]
    },
    {
     "name": "stdout",
     "output_type": "stream",
     "text": [
      "val_loss: 0.7217890822559322, val_f1: 0.2936067253974683, val_precision: 0.17645465827828974, val_recall: 0.8736258127273769\n"
     ]
    },
    {
     "name": "stderr",
     "output_type": "stream",
     "text": [
      "100%|████████████████████████████████████████████████████████████| 655/655 [00:04<00:00, 150.14it/s]\n"
     ]
    },
    {
     "name": "stdout",
     "output_type": "stream",
     "text": [
      "Epoch: 300, loss: 0.7016802401033067, f1: 0.31647305068895826, precision: 0.19299911238139367, recall: 0.8785165760353322\n"
     ]
    },
    {
     "name": "stderr",
     "output_type": "stream",
     "text": [
      "100%|████████████████████████████████████████████████████████████| 218/218 [00:00<00:00, 513.49it/s]\n"
     ]
    },
    {
     "name": "stdout",
     "output_type": "stream",
     "text": [
      "val_loss: 0.7212523361411664, val_f1: 0.29446770512306003, val_precision: 0.17686229632364228, val_recall: 0.8788891333505648\n"
     ]
    },
    {
     "name": "stderr",
     "output_type": "stream",
     "text": [
      "100%|████████████████████████████████████████████████████████████| 655/655 [00:04<00:00, 152.76it/s]\n"
     ]
    },
    {
     "name": "stdout",
     "output_type": "stream",
     "text": [
      "Epoch: 301, loss: 0.7000833751591107, f1: 0.3183752762134224, precision: 0.19441216836846967, recall: 0.8785926645948686\n"
     ]
    },
    {
     "name": "stderr",
     "output_type": "stream",
     "text": [
      "100%|████████████████████████████████████████████████████████████| 218/218 [00:00<00:00, 510.24it/s]\n"
     ]
    },
    {
     "name": "stdout",
     "output_type": "stream",
     "text": [
      "val_loss: 0.7269854728781849, val_f1: 0.28857527877417133, val_precision: 0.17277684309647992, val_recall: 0.8750529879823737\n"
     ]
    },
    {
     "name": "stderr",
     "output_type": "stream",
     "text": [
      "100%|████████████████████████████████████████████████████████████| 655/655 [00:04<00:00, 151.99it/s]\n"
     ]
    },
    {
     "name": "stdout",
     "output_type": "stream",
     "text": [
      "Epoch: 302, loss: 0.7039869620599819, f1: 0.31425519293640125, precision: 0.19136580494978955, recall: 0.8782249513473219\n"
     ]
    },
    {
     "name": "stderr",
     "output_type": "stream",
     "text": [
      "100%|████████████████████████████████████████████████████████████| 218/218 [00:00<00:00, 511.36it/s]\n"
     ]
    },
    {
     "name": "stdout",
     "output_type": "stream",
     "text": [
      "val_loss: 0.7281055898841368, val_f1: 0.28764538875388307, val_precision: 0.17213090550188626, val_recall: 0.8745282598591726\n"
     ]
    },
    {
     "name": "stderr",
     "output_type": "stream",
     "text": [
      "100%|████████████████████████████████████████████████████████████| 655/655 [00:04<00:00, 151.29it/s]\n"
     ]
    },
    {
     "name": "stdout",
     "output_type": "stream",
     "text": [
      "Epoch: 303, loss: 0.7052596478061821, f1: 0.3129617979627348, precision: 0.19059238919547497, recall: 0.8743115065662006\n"
     ]
    },
    {
     "name": "stderr",
     "output_type": "stream",
     "text": [
      "100%|████████████████████████████████████████████████████████████| 218/218 [00:00<00:00, 517.43it/s]\n"
     ]
    },
    {
     "name": "stdout",
     "output_type": "stream",
     "text": [
      "val_loss: 0.7264029285229674, val_f1: 0.29014757402285235, val_precision: 0.17412057325004712, val_recall: 0.8696428840860314\n"
     ]
    },
    {
     "name": "stderr",
     "output_type": "stream",
     "text": [
      "100%|████████████████████████████████████████████████████████████| 655/655 [00:04<00:00, 150.78it/s]\n"
     ]
    },
    {
     "name": "stdout",
     "output_type": "stream",
     "text": [
      "Epoch: 304, loss: 0.7021977110673453, f1: 0.3161913330188502, precision: 0.19285071493332623, recall: 0.8772498873353914\n"
     ]
    },
    {
     "name": "stderr",
     "output_type": "stream",
     "text": [
      "100%|████████████████████████████████████████████████████████████| 218/218 [00:00<00:00, 513.51it/s]\n"
     ]
    },
    {
     "name": "stdout",
     "output_type": "stream",
     "text": [
      "val_loss: 0.7214773395739564, val_f1: 0.29428246404949465, val_precision: 0.17700567639031267, val_recall: 0.8721017200465596\n"
     ]
    },
    {
     "name": "stderr",
     "output_type": "stream",
     "text": [
      "100%|████████████████████████████████████████████████████████████| 655/655 [00:04<00:00, 150.42it/s]\n"
     ]
    },
    {
     "name": "stdout",
     "output_type": "stream",
     "text": [
      "Epoch: 305, loss: 0.7008120999991438, f1: 0.31760225126147507, precision: 0.19392562389999402, recall: 0.8767557938590305\n"
     ]
    },
    {
     "name": "stderr",
     "output_type": "stream",
     "text": [
      "100%|████████████████████████████████████████████████████████████| 218/218 [00:00<00:00, 511.68it/s]\n"
     ]
    },
    {
     "name": "stdout",
     "output_type": "stream",
     "text": [
      "val_loss: 0.7225538721872032, val_f1: 0.29242570113036565, val_precision: 0.17569836157314275, val_recall: 0.8712536227812461\n"
     ]
    },
    {
     "name": "stderr",
     "output_type": "stream",
     "text": [
      "100%|████████████████████████████████████████████████████████████| 655/655 [00:04<00:00, 149.86it/s]\n"
     ]
    },
    {
     "name": "stdout",
     "output_type": "stream",
     "text": [
      "Epoch: 306, loss: 0.6983409791502334, f1: 0.3202185956632987, precision: 0.19592645417131085, recall: 0.8758274025589455\n"
     ]
    },
    {
     "name": "stderr",
     "output_type": "stream",
     "text": [
      "100%|████████████████████████████████████████████████████████████| 218/218 [00:00<00:00, 512.90it/s]\n"
     ]
    },
    {
     "name": "stdout",
     "output_type": "stream",
     "text": [
      "val_loss: 0.7251195103750316, val_f1: 0.29127579891073496, val_precision: 0.1752759170966274, val_recall: 0.8612862270359599\n"
     ]
    },
    {
     "name": "stderr",
     "output_type": "stream",
     "text": [
      "100%|████████████████████████████████████████████████████████████| 655/655 [00:04<00:00, 152.25it/s]\n"
     ]
    },
    {
     "name": "stdout",
     "output_type": "stream",
     "text": [
      "Epoch: 307, loss: 0.6995228834734618, f1: 0.3186580119186869, precision: 0.19467812336924423, recall: 0.8774723147617952\n"
     ]
    },
    {
     "name": "stderr",
     "output_type": "stream",
     "text": [
      "100%|████████████████████████████████████████████████████████████| 218/218 [00:00<00:00, 517.79it/s]\n"
     ]
    },
    {
     "name": "stdout",
     "output_type": "stream",
     "text": [
      "val_loss: 0.7206074188061811, val_f1: 0.29456598343764917, val_precision: 0.17732857747020525, val_recall: 0.8692619149838019\n"
     ]
    },
    {
     "name": "stderr",
     "output_type": "stream",
     "text": [
      "100%|████████████████████████████████████████████████████████████| 655/655 [00:04<00:00, 152.12it/s]\n"
     ]
    },
    {
     "name": "stdout",
     "output_type": "stream",
     "text": [
      "Epoch: 308, loss: 0.701791893343889, f1: 0.31664048776896564, precision: 0.19316609242205857, recall: 0.8776397805177528\n"
     ]
    },
    {
     "name": "stderr",
     "output_type": "stream",
     "text": [
      "100%|████████████████████████████████████████████████████████████| 218/218 [00:00<00:00, 512.84it/s]\n"
     ]
    },
    {
     "name": "stdout",
     "output_type": "stream",
     "text": [
      "val_loss: 0.7244019049023269, val_f1: 0.2914341984527269, val_precision: 0.17472806058550647, val_recall: 0.8776291770125748\n"
     ]
    },
    {
     "name": "stderr",
     "output_type": "stream",
     "text": [
      "100%|████████████████████████████████████████████████████████████| 655/655 [00:04<00:00, 151.01it/s]\n"
     ]
    },
    {
     "name": "stdout",
     "output_type": "stream",
     "text": [
      "Epoch: 309, loss: 0.698186963387118, f1: 0.3204045226102629, precision: 0.19600093250397507, recall: 0.8771217353471363\n"
     ]
    },
    {
     "name": "stderr",
     "output_type": "stream",
     "text": [
      "100%|████████████████████████████████████████████████████████████| 218/218 [00:00<00:00, 509.50it/s]\n"
     ]
    },
    {
     "name": "stdout",
     "output_type": "stream",
     "text": [
      "val_loss: 0.7264243946709764, val_f1: 0.28997951549750123, val_precision: 0.17367937679855375, val_recall: 0.8777297016130675\n"
     ]
    },
    {
     "name": "stderr",
     "output_type": "stream",
     "text": [
      "100%|████████████████████████████████████████████████████████████| 655/655 [00:04<00:00, 150.79it/s]\n"
     ]
    },
    {
     "name": "stdout",
     "output_type": "stream",
     "text": [
      "Epoch: 310, loss: 0.6998870621200737, f1: 0.3186179942295776, precision: 0.19450668941415447, recall: 0.8803607168088432\n"
     ]
    },
    {
     "name": "stderr",
     "output_type": "stream",
     "text": [
      "100%|████████████████████████████████████████████████████████████| 218/218 [00:00<00:00, 513.11it/s]\n"
     ]
    },
    {
     "name": "stdout",
     "output_type": "stream",
     "text": [
      "val_loss: 0.719913413218402, val_f1: 0.295913502201464, val_precision: 0.17827190991080955, val_recall: 0.8700773355064042\n"
     ]
    },
    {
     "name": "stderr",
     "output_type": "stream",
     "text": [
      "100%|████████████████████████████████████████████████████████████| 655/655 [00:04<00:00, 152.03it/s]\n"
     ]
    },
    {
     "name": "stdout",
     "output_type": "stream",
     "text": [
      "Epoch: 311, loss: 0.7003816319785955, f1: 0.31814098910172445, precision: 0.19422844741920023, recall: 0.8787774220677732\n"
     ]
    },
    {
     "name": "stderr",
     "output_type": "stream",
     "text": [
      "100%|████████████████████████████████████████████████████████████| 218/218 [00:00<00:00, 510.46it/s]\n"
     ]
    },
    {
     "name": "stdout",
     "output_type": "stream",
     "text": [
      "val_loss: 0.7196556901166199, val_f1: 0.2966270086320796, val_precision: 0.1784081707341135, val_recall: 0.8792368930961014\n"
     ]
    },
    {
     "name": "stderr",
     "output_type": "stream",
     "text": [
      "100%|████████████████████████████████████████████████████████████| 655/655 [00:04<00:00, 152.40it/s]\n"
     ]
    },
    {
     "name": "stdout",
     "output_type": "stream",
     "text": [
      "Epoch: 312, loss: 0.7006876152890329, f1: 0.31865670508978583, precision: 0.1946323807514806, recall: 0.878382953796678\n"
     ]
    },
    {
     "name": "stderr",
     "output_type": "stream",
     "text": [
      "100%|████████████████████████████████████████████████████████████| 218/218 [00:00<00:00, 509.47it/s]\n"
     ]
    },
    {
     "name": "stdout",
     "output_type": "stream",
     "text": [
      "val_loss: 0.7223052177407326, val_f1: 0.2928278676674048, val_precision: 0.17621152724968184, val_recall: 0.8658357918809313\n"
     ]
    },
    {
     "name": "stderr",
     "output_type": "stream",
     "text": [
      "100%|████████████████████████████████████████████████████████████| 655/655 [00:04<00:00, 152.14it/s]\n"
     ]
    },
    {
     "name": "stdout",
     "output_type": "stream",
     "text": [
      "Epoch: 313, loss: 0.6987384954481635, f1: 0.31943098682143145, precision: 0.19524833441690634, recall: 0.8776158389244371\n"
     ]
    },
    {
     "name": "stderr",
     "output_type": "stream",
     "text": [
      "100%|████████████████████████████████████████████████████████████| 218/218 [00:00<00:00, 515.13it/s]\n"
     ]
    },
    {
     "name": "stdout",
     "output_type": "stream",
     "text": [
      "val_loss: 0.723013889352116, val_f1: 0.2931851077032454, val_precision: 0.17603572246131546, val_recall: 0.8764520716776542\n"
     ]
    },
    {
     "name": "stderr",
     "output_type": "stream",
     "text": [
      "100%|████████████████████████████████████████████████████████████| 655/655 [00:04<00:00, 152.09it/s]\n"
     ]
    },
    {
     "name": "stdout",
     "output_type": "stream",
     "text": [
      "Epoch: 314, loss: 0.6994472691120992, f1: 0.31879073990355317, precision: 0.1947926805276452, recall: 0.8771584866611102\n"
     ]
    },
    {
     "name": "stderr",
     "output_type": "stream",
     "text": [
      "100%|████████████████████████████████████████████████████████████| 218/218 [00:00<00:00, 516.45it/s]\n"
     ]
    },
    {
     "name": "stdout",
     "output_type": "stream",
     "text": [
      "val_loss: 0.7258671601431086, val_f1: 0.2891275655032202, val_precision: 0.17332715506092944, val_recall: 0.8711366984275503\n"
     ]
    },
    {
     "name": "stderr",
     "output_type": "stream",
     "text": [
      "100%|████████████████████████████████████████████████████████████| 655/655 [00:04<00:00, 150.91it/s]\n"
     ]
    },
    {
     "name": "stdout",
     "output_type": "stream",
     "text": [
      "Epoch: 315, loss: 0.7004376973814637, f1: 0.3180200680408256, precision: 0.1941108617618794, recall: 0.8793403665528042\n"
     ]
    },
    {
     "name": "stderr",
     "output_type": "stream",
     "text": [
      "100%|████████████████████████████████████████████████████████████| 218/218 [00:00<00:00, 519.79it/s]\n"
     ]
    },
    {
     "name": "stdout",
     "output_type": "stream",
     "text": [
      "val_loss: 0.7225800949499148, val_f1: 0.2942074295766278, val_precision: 0.17682771328324026, val_recall: 0.8751182485064235\n"
     ]
    },
    {
     "name": "stderr",
     "output_type": "stream",
     "text": [
      "100%|████████████████████████████████████████████████████████████| 655/655 [00:04<00:00, 152.82it/s]\n"
     ]
    },
    {
     "name": "stdout",
     "output_type": "stream",
     "text": [
      "Epoch: 316, loss: 0.6973638558205757, f1: 0.32115534352555986, precision: 0.19642121130102919, recall: 0.8799594348623553\n"
     ]
    },
    {
     "name": "stderr",
     "output_type": "stream",
     "text": [
      "100%|████████████████████████████████████████████████████████████| 218/218 [00:00<00:00, 514.84it/s]\n"
     ]
    },
    {
     "name": "stdout",
     "output_type": "stream",
     "text": [
      "val_loss: 0.7196859520509702, val_f1: 0.29691451716906225, val_precision: 0.17874775967911022, val_recall: 0.8760634991553945\n"
     ]
    },
    {
     "name": "stderr",
     "output_type": "stream",
     "text": [
      "100%|████████████████████████████████████████████████████████████| 655/655 [00:04<00:00, 152.56it/s]\n"
     ]
    },
    {
     "name": "stdout",
     "output_type": "stream",
     "text": [
      "Epoch: 317, loss: 0.6979755432551144, f1: 0.32034737361559196, precision: 0.19589050115861056, recall: 0.8784799078948625\n"
     ]
    },
    {
     "name": "stderr",
     "output_type": "stream",
     "text": [
      "100%|████████████████████████████████████████████████████████████| 218/218 [00:00<00:00, 522.28it/s]\n"
     ]
    },
    {
     "name": "stdout",
     "output_type": "stream",
     "text": [
      "val_loss: 0.7210072981655051, val_f1: 0.29520393393597844, val_precision: 0.17794486851252, val_recall: 0.8656064933593121\n"
     ]
    },
    {
     "name": "stderr",
     "output_type": "stream",
     "text": [
      "100%|████████████████████████████████████████████████████████████| 655/655 [00:04<00:00, 149.68it/s]\n"
     ]
    },
    {
     "name": "stdout",
     "output_type": "stream",
     "text": [
      "Epoch: 318, loss: 0.6988092633604094, f1: 0.3195305259023776, precision: 0.19542710658532517, recall: 0.8755145525204316\n"
     ]
    },
    {
     "name": "stderr",
     "output_type": "stream",
     "text": [
      "100%|████████████████████████████████████████████████████████████| 218/218 [00:00<00:00, 518.40it/s]\n"
     ]
    },
    {
     "name": "stdout",
     "output_type": "stream",
     "text": [
      "val_loss: 0.720263176008102, val_f1: 0.29624615008360916, val_precision: 0.17815696911185708, val_recall: 0.8786459073014216\n"
     ]
    },
    {
     "name": "stderr",
     "output_type": "stream",
     "text": [
      "100%|████████████████████████████████████████████████████████████| 655/655 [00:04<00:00, 150.81it/s]\n"
     ]
    },
    {
     "name": "stdout",
     "output_type": "stream",
     "text": [
      "Epoch: 319, loss: 0.6991757127164885, f1: 0.31976650325661043, precision: 0.19535529039060798, recall: 0.8805256235690517\n"
     ]
    },
    {
     "name": "stderr",
     "output_type": "stream",
     "text": [
      "100%|████████████████████████████████████████████████████████████| 218/218 [00:00<00:00, 516.78it/s]\n"
     ]
    },
    {
     "name": "stdout",
     "output_type": "stream",
     "text": [
      "val_loss: 0.7249672434745579, val_f1: 0.2915458753262647, val_precision: 0.17504115165168538, val_recall: 0.8718079927317594\n"
     ]
    },
    {
     "name": "stderr",
     "output_type": "stream",
     "text": [
      "100%|████████████████████████████████████████████████████████████| 655/655 [00:04<00:00, 153.09it/s]\n"
     ]
    },
    {
     "name": "stdout",
     "output_type": "stream",
     "text": [
      "Epoch: 320, loss: 0.701218151136209, f1: 0.31730948197945, precision: 0.1936330184852349, recall: 0.8782821395014988\n"
     ]
    },
    {
     "name": "stderr",
     "output_type": "stream",
     "text": [
      "100%|████████████████████████████████████████████████████████████| 218/218 [00:00<00:00, 508.73it/s]\n"
     ]
    },
    {
     "name": "stdout",
     "output_type": "stream",
     "text": [
      "val_loss: 0.733068217104728, val_f1: 0.28307977649167154, val_precision: 0.1687326984086988, val_recall: 0.8782618321956844\n"
     ]
    },
    {
     "name": "stderr",
     "output_type": "stream",
     "text": [
      "100%|████████████████████████████████████████████████████████████| 655/655 [00:04<00:00, 152.55it/s]\n"
     ]
    },
    {
     "name": "stdout",
     "output_type": "stream",
     "text": [
      "Epoch: 321, loss: 0.6971161476528371, f1: 0.32150742136466576, precision: 0.1964861292278266, recall: 0.8839556810510067\n"
     ]
    },
    {
     "name": "stderr",
     "output_type": "stream",
     "text": [
      "100%|████████████████████████████████████████████████████████████| 218/218 [00:00<00:00, 514.81it/s]\n"
     ]
    },
    {
     "name": "stdout",
     "output_type": "stream",
     "text": [
      "val_loss: 0.7180252996606564, val_f1: 0.2973670955355253, val_precision: 0.1794851558163352, val_recall: 0.8663992378689828\n"
     ]
    },
    {
     "name": "stderr",
     "output_type": "stream",
     "text": [
      "100%|████████████████████████████████████████████████████████████| 655/655 [00:04<00:00, 155.04it/s]\n"
     ]
    },
    {
     "name": "stdout",
     "output_type": "stream",
     "text": [
      "Epoch: 322, loss: 0.7007784888944553, f1: 0.31749734821416, precision: 0.19375350919786755, recall: 0.8786818337804488\n"
     ]
    },
    {
     "name": "stderr",
     "output_type": "stream",
     "text": [
      "100%|████████████████████████████████████████████████████████████| 218/218 [00:00<00:00, 515.07it/s]\n"
     ]
    },
    {
     "name": "stdout",
     "output_type": "stream",
     "text": [
      "val_loss: 0.720918848153648, val_f1: 0.2940886301192798, val_precision: 0.17672619779824938, val_recall: 0.87550317940362\n"
     ]
    },
    {
     "name": "stderr",
     "output_type": "stream",
     "text": [
      "100%|████████████████████████████████████████████████████████████| 655/655 [00:04<00:00, 152.31it/s]\n"
     ]
    },
    {
     "name": "stdout",
     "output_type": "stream",
     "text": [
      "Epoch: 323, loss: 0.7037355578582706, f1: 0.3147107090841348, precision: 0.19175741010779188, recall: 0.8771003580275383\n"
     ]
    },
    {
     "name": "stderr",
     "output_type": "stream",
     "text": [
      "100%|████████████████████████████████████████████████████████████| 218/218 [00:00<00:00, 507.84it/s]\n"
     ]
    },
    {
     "name": "stdout",
     "output_type": "stream",
     "text": [
      "val_loss: 0.7274400980100719, val_f1: 0.28844155318155246, val_precision: 0.17270064610270186, val_recall: 0.874548294128628\n"
     ]
    },
    {
     "name": "stderr",
     "output_type": "stream",
     "text": [
      "100%|████████████████████████████████████████████████████████████| 655/655 [00:04<00:00, 152.74it/s]\n"
     ]
    },
    {
     "name": "stdout",
     "output_type": "stream",
     "text": [
      "Epoch: 324, loss: 0.7117944219640193, f1: 0.30565568528959686, precision: 0.185277554080004, recall: 0.8725984801772897\n"
     ]
    },
    {
     "name": "stderr",
     "output_type": "stream",
     "text": [
      "100%|████████████████████████████████████████████████████████████| 218/218 [00:00<00:00, 520.20it/s]\n"
     ]
    },
    {
     "name": "stdout",
     "output_type": "stream",
     "text": [
      "val_loss: 0.7230391294584362, val_f1: 0.2930628522954948, val_precision: 0.17615198523421352, val_recall: 0.8714150715311733\n"
     ]
    },
    {
     "name": "stderr",
     "output_type": "stream",
     "text": [
      "100%|████████████████████████████████████████████████████████████| 655/655 [00:04<00:00, 151.54it/s]\n"
     ]
    },
    {
     "name": "stdout",
     "output_type": "stream",
     "text": [
      "Epoch: 325, loss: 0.7029583903669401, f1: 0.31505629676650626, precision: 0.19199741773364198, recall: 0.8774481815236216\n"
     ]
    },
    {
     "name": "stderr",
     "output_type": "stream",
     "text": [
      "100%|████████████████████████████████████████████████████████████| 218/218 [00:00<00:00, 511.55it/s]\n"
     ]
    },
    {
     "name": "stdout",
     "output_type": "stream",
     "text": [
      "val_loss: 0.722381811076348, val_f1: 0.292971562089126, val_precision: 0.1762433905803829, val_recall: 0.867581473304591\n"
     ]
    },
    {
     "name": "stderr",
     "output_type": "stream",
     "text": [
      "100%|████████████████████████████████████████████████████████████| 655/655 [00:04<00:00, 152.23it/s]\n"
     ]
    },
    {
     "name": "stdout",
     "output_type": "stream",
     "text": [
      "Epoch: 326, loss: 0.7043477045670721, f1: 0.31354405238809435, precision: 0.19101448165153273, recall: 0.8745204431410054\n"
     ]
    },
    {
     "name": "stderr",
     "output_type": "stream",
     "text": [
      "100%|████████████████████████████████████████████████████████████| 218/218 [00:00<00:00, 511.76it/s]\n"
     ]
    },
    {
     "name": "stdout",
     "output_type": "stream",
     "text": [
      "val_loss: 0.7211665981406465, val_f1: 0.2949501312692596, val_precision: 0.17713022838696973, val_recall: 0.8808682749577619\n"
     ]
    },
    {
     "name": "stderr",
     "output_type": "stream",
     "text": [
      "100%|████████████████████████████████████████████████████████████| 655/655 [00:04<00:00, 151.91it/s]\n"
     ]
    },
    {
     "name": "stdout",
     "output_type": "stream",
     "text": [
      "Epoch: 327, loss: 0.704448781304687, f1: 0.3139751851991625, precision: 0.19110859909471664, recall: 0.8792729751754353\n"
     ]
    },
    {
     "name": "stderr",
     "output_type": "stream",
     "text": [
      "100%|████████████████████████████████████████████████████████████| 218/218 [00:00<00:00, 517.65it/s]\n"
     ]
    },
    {
     "name": "stdout",
     "output_type": "stream",
     "text": [
      "val_loss: 0.7202278722863679, val_f1: 0.2957106145509794, val_precision: 0.17795926464909534, val_recall: 0.8740452768605783\n"
     ]
    },
    {
     "name": "stderr",
     "output_type": "stream",
     "text": [
      "100%|████████████████████████████████████████████████████████████| 655/655 [00:04<00:00, 150.05it/s]\n"
     ]
    },
    {
     "name": "stdout",
     "output_type": "stream",
     "text": [
      "Epoch: 328, loss: 0.6999295558638245, f1: 0.3182440750111827, precision: 0.19435471153555026, recall: 0.8777681101369493\n"
     ]
    },
    {
     "name": "stderr",
     "output_type": "stream",
     "text": [
      "100%|████████████████████████████████████████████████████████████| 218/218 [00:00<00:00, 517.01it/s]\n"
     ]
    },
    {
     "name": "stdout",
     "output_type": "stream",
     "text": [
      "val_loss: 0.7249881105685453, val_f1: 0.29003168925263195, val_precision: 0.1739530233632124, val_recall: 0.8717485846729454\n"
     ]
    },
    {
     "name": "stderr",
     "output_type": "stream",
     "text": [
      "100%|████████████████████████████████████████████████████████████| 655/655 [00:04<00:00, 149.92it/s]\n"
     ]
    },
    {
     "name": "stdout",
     "output_type": "stream",
     "text": [
      "Epoch: 329, loss: 0.7032877400631213, f1: 0.31507978590620916, precision: 0.1920342633799287, recall: 0.8770433239354432\n"
     ]
    },
    {
     "name": "stderr",
     "output_type": "stream",
     "text": [
      "100%|████████████████████████████████████████████████████████████| 218/218 [00:00<00:00, 509.39it/s]\n"
     ]
    },
    {
     "name": "stdout",
     "output_type": "stream",
     "text": [
      "val_loss: 0.7223890743671207, val_f1: 0.29406374279558983, val_precision: 0.17670874001133605, val_recall: 0.8754905065812102\n"
     ]
    },
    {
     "name": "stderr",
     "output_type": "stream",
     "text": [
      "100%|████████████████████████████████████████████████████████████| 655/655 [00:04<00:00, 152.21it/s]\n"
     ]
    },
    {
     "name": "stdout",
     "output_type": "stream",
     "text": [
      "Epoch: 330, loss: 0.7002326068077379, f1: 0.3181370537627372, precision: 0.1941190421211583, recall: 0.8809636565565153\n"
     ]
    },
    {
     "name": "stderr",
     "output_type": "stream",
     "text": [
      "100%|████████████████████████████████████████████████████████████| 218/218 [00:00<00:00, 518.85it/s]\n"
     ]
    },
    {
     "name": "stdout",
     "output_type": "stream",
     "text": [
      "val_loss: 0.7191740017418468, val_f1: 0.2967317519924163, val_precision: 0.17862747345598193, val_recall: 0.8757707391857007\n"
     ]
    },
    {
     "name": "stderr",
     "output_type": "stream",
     "text": [
      "100%|████████████████████████████████████████████████████████████| 655/655 [00:04<00:00, 150.71it/s]\n"
     ]
    },
    {
     "name": "stdout",
     "output_type": "stream",
     "text": [
      "Epoch: 331, loss: 0.7002219487692564, f1: 0.317948426557175, precision: 0.19416473694430053, recall: 0.8771448414744312\n"
     ]
    },
    {
     "name": "stderr",
     "output_type": "stream",
     "text": [
      "100%|████████████████████████████████████████████████████████████| 218/218 [00:00<00:00, 509.09it/s]\n"
     ]
    },
    {
     "name": "stdout",
     "output_type": "stream",
     "text": [
      "val_loss: 0.7242989559239204, val_f1: 0.2912000843690378, val_precision: 0.17470230120276914, val_recall: 0.8740442592069644\n"
     ]
    },
    {
     "name": "stderr",
     "output_type": "stream",
     "text": [
      "100%|████████████████████████████████████████████████████████████| 655/655 [00:04<00:00, 150.95it/s]\n"
     ]
    },
    {
     "name": "stdout",
     "output_type": "stream",
     "text": [
      "Epoch: 332, loss: 0.7027967868870452, f1: 0.3151626617194245, precision: 0.19194061298577386, recall: 0.8802936315536499\n"
     ]
    },
    {
     "name": "stderr",
     "output_type": "stream",
     "text": [
      "100%|████████████████████████████████████████████████████████████| 218/218 [00:00<00:00, 513.48it/s]\n"
     ]
    },
    {
     "name": "stdout",
     "output_type": "stream",
     "text": [
      "val_loss: 0.7207062361984078, val_f1: 0.29501344695191106, val_precision: 0.17715964630382872, val_recall: 0.8812702582516801\n"
     ]
    },
    {
     "name": "stderr",
     "output_type": "stream",
     "text": [
      "100%|████████████████████████████████████████████████████████████| 655/655 [00:04<00:00, 150.13it/s]\n"
     ]
    },
    {
     "name": "stdout",
     "output_type": "stream",
     "text": [
      "Epoch: 333, loss: 0.7018521904035379, f1: 0.31654508254395247, precision: 0.19295186102674663, recall: 0.8806107387287926\n"
     ]
    },
    {
     "name": "stderr",
     "output_type": "stream",
     "text": [
      "100%|████████████████████████████████████████████████████████████| 218/218 [00:00<00:00, 519.38it/s]\n"
     ]
    },
    {
     "name": "stdout",
     "output_type": "stream",
     "text": [
      "val_loss: 0.7196916306237562, val_f1: 0.2966834868493698, val_precision: 0.17852338279571828, val_recall: 0.8774364281684981\n"
     ]
    },
    {
     "name": "stderr",
     "output_type": "stream",
     "text": [
      "100%|████████████████████████████████████████████████████████████| 655/655 [00:04<00:00, 152.69it/s]\n"
     ]
    },
    {
     "name": "stdout",
     "output_type": "stream",
     "text": [
      "Epoch: 334, loss: 0.6963208317756653, f1: 0.322269458782044, precision: 0.19719173291712316, recall: 0.8812278729358702\n"
     ]
    },
    {
     "name": "stderr",
     "output_type": "stream",
     "text": [
      "100%|████████████████████████████████████████████████████████████| 218/218 [00:00<00:00, 504.64it/s]\n"
     ]
    },
    {
     "name": "stdout",
     "output_type": "stream",
     "text": [
      "val_loss: 0.7177420545608626, val_f1: 0.2985853391727462, val_precision: 0.17998879027783599, val_recall: 0.8753877164573844\n"
     ]
    },
    {
     "name": "stderr",
     "output_type": "stream",
     "text": [
      "100%|████████████████████████████████████████████████████████████| 655/655 [00:04<00:00, 153.00it/s]\n"
     ]
    },
    {
     "name": "stdout",
     "output_type": "stream",
     "text": [
      "Epoch: 335, loss: 0.6976711989359091, f1: 0.320673634623753, precision: 0.19600755867782896, recall: 0.8810365841588901\n"
     ]
    },
    {
     "name": "stderr",
     "output_type": "stream",
     "text": [
      "100%|████████████████████████████████████████████████████████████| 218/218 [00:00<00:00, 509.57it/s]\n"
     ]
    },
    {
     "name": "stdout",
     "output_type": "stream",
     "text": [
      "val_loss: 0.7208067203333618, val_f1: 0.29506647552762116, val_precision: 0.17733253102852117, val_recall: 0.8779551323947556\n"
     ]
    },
    {
     "name": "stderr",
     "output_type": "stream",
     "text": [
      "100%|████████████████████████████████████████████████████████████| 655/655 [00:04<00:00, 151.99it/s]\n"
     ]
    },
    {
     "name": "stdout",
     "output_type": "stream",
     "text": [
      "Epoch: 336, loss: 0.6996547287657061, f1: 0.31906420418777187, precision: 0.19481306385163588, recall: 0.880898253426297\n"
     ]
    },
    {
     "name": "stderr",
     "output_type": "stream",
     "text": [
      "100%|████████████████████████████████████████████████████████████| 218/218 [00:00<00:00, 518.85it/s]\n"
     ]
    },
    {
     "name": "stdout",
     "output_type": "stream",
     "text": [
      "val_loss: 0.7201948622497943, val_f1: 0.2958066057696572, val_precision: 0.17789446771008158, val_recall: 0.8772976805857562\n"
     ]
    },
    {
     "name": "stderr",
     "output_type": "stream",
     "text": [
      "100%|████████████████████████████████████████████████████████████| 655/655 [00:04<00:00, 154.20it/s]\n"
     ]
    },
    {
     "name": "stdout",
     "output_type": "stream",
     "text": [
      "Epoch: 337, loss: 0.7004696031563155, f1: 0.3178621846314366, precision: 0.194175672477097, recall: 0.875611273751004\n"
     ]
    },
    {
     "name": "stderr",
     "output_type": "stream",
     "text": [
      "100%|████████████████████████████████████████████████████████████| 218/218 [00:00<00:00, 523.14it/s]\n"
     ]
    },
    {
     "name": "stdout",
     "output_type": "stream",
     "text": [
      "val_loss: 0.7179226610091848, val_f1: 0.29712938114593584, val_precision: 0.17913738228893333, val_recall: 0.8704987449930348\n"
     ]
    },
    {
     "name": "stderr",
     "output_type": "stream",
     "text": [
      "100%|████████████████████████████████████████████████████████████| 655/655 [00:04<00:00, 150.37it/s]\n"
     ]
    },
    {
     "name": "stdout",
     "output_type": "stream",
     "text": [
      "Epoch: 338, loss: 0.6978215593418092, f1: 0.3209093520547965, precision: 0.19622464820685734, recall: 0.8802121007715473\n"
     ]
    },
    {
     "name": "stderr",
     "output_type": "stream",
     "text": [
      "100%|████████████████████████████████████████████████████████████| 218/218 [00:00<00:00, 516.15it/s]\n"
     ]
    },
    {
     "name": "stdout",
     "output_type": "stream",
     "text": [
      "val_loss: 0.7157641668385322, val_f1: 0.3003091906943939, val_precision: 0.18117656769794882, val_recall: 0.876942765001857\n"
     ]
    },
    {
     "name": "stderr",
     "output_type": "stream",
     "text": [
      "100%|████████████████████████████████████████████████████████████| 655/655 [00:04<00:00, 153.99it/s]\n"
     ]
    },
    {
     "name": "stdout",
     "output_type": "stream",
     "text": [
      "Epoch: 339, loss: 0.698203183221453, f1: 0.320590214129251, precision: 0.1958579502942908, recall: 0.8828054300701346\n"
     ]
    },
    {
     "name": "stderr",
     "output_type": "stream",
     "text": [
      "100%|████████████████████████████████████████████████████████████| 218/218 [00:00<00:00, 514.48it/s]\n"
     ]
    },
    {
     "name": "stdout",
     "output_type": "stream",
     "text": [
      "val_loss: 0.7230502624030507, val_f1: 0.29392636321892446, val_precision: 0.17689638120045356, val_recall: 0.8685090585586128\n"
     ]
    },
    {
     "name": "stderr",
     "output_type": "stream",
     "text": [
      "100%|████████████████████████████████████████████████████████████| 655/655 [00:04<00:00, 150.68it/s]\n"
     ]
    },
    {
     "name": "stdout",
     "output_type": "stream",
     "text": [
      "Epoch: 340, loss: 0.6992972699740461, f1: 0.319264149808133, precision: 0.19492311669044368, recall: 0.8816963169410938\n"
     ]
    },
    {
     "name": "stderr",
     "output_type": "stream",
     "text": [
      "100%|████████████████████████████████████████████████████████████| 218/218 [00:00<00:00, 513.92it/s]\n"
     ]
    },
    {
     "name": "stdout",
     "output_type": "stream",
     "text": [
      "val_loss: 0.7228050100694009, val_f1: 0.2939272810195613, val_precision: 0.17681472126497041, val_recall: 0.8704989727483977\n"
     ]
    },
    {
     "name": "stderr",
     "output_type": "stream",
     "text": [
      "100%|████████████████████████████████████████████████████████████| 655/655 [00:04<00:00, 152.29it/s]\n"
     ]
    },
    {
     "name": "stdout",
     "output_type": "stream",
     "text": [
      "Epoch: 341, loss: 0.6984582822741443, f1: 0.3206941658481947, precision: 0.19602674109903911, recall: 0.8809590034812461\n"
     ]
    },
    {
     "name": "stderr",
     "output_type": "stream",
     "text": [
      "100%|████████████████████████████████████████████████████████████| 218/218 [00:00<00:00, 514.91it/s]\n"
     ]
    },
    {
     "name": "stdout",
     "output_type": "stream",
     "text": [
      "val_loss: 0.7213807507939295, val_f1: 0.2944015839777774, val_precision: 0.17688071141617562, val_recall: 0.8772591472765722\n"
     ]
    },
    {
     "name": "stderr",
     "output_type": "stream",
     "text": [
      "100%|████████████████████████████████████████████████████████████| 655/655 [00:04<00:00, 152.69it/s]\n"
     ]
    },
    {
     "name": "stdout",
     "output_type": "stream",
     "text": [
      "Epoch: 342, loss: 0.7001954614661122, f1: 0.3185148158932339, precision: 0.1944865182042122, recall: 0.8791995751038763\n"
     ]
    },
    {
     "name": "stderr",
     "output_type": "stream",
     "text": [
      "100%|████████████████████████████████████████████████████████████| 218/218 [00:00<00:00, 514.09it/s]\n"
     ]
    },
    {
     "name": "stdout",
     "output_type": "stream",
     "text": [
      "val_loss: 0.7269201623190433, val_f1: 0.2895930893624341, val_precision: 0.17327609764189894, val_recall: 0.8809752122524681\n"
     ]
    },
    {
     "name": "stderr",
     "output_type": "stream",
     "text": [
      "100%|████████████████████████████████████████████████████████████| 655/655 [00:04<00:00, 152.08it/s]\n"
     ]
    },
    {
     "name": "stdout",
     "output_type": "stream",
     "text": [
      "Epoch: 343, loss: 0.7037081993263187, f1: 0.31350227809720876, precision: 0.1907942507330698, recall: 0.878510061111159\n"
     ]
    },
    {
     "name": "stderr",
     "output_type": "stream",
     "text": [
      "100%|████████████████████████████████████████████████████████████| 218/218 [00:00<00:00, 513.89it/s]\n"
     ]
    },
    {
     "name": "stdout",
     "output_type": "stream",
     "text": [
      "val_loss: 0.7211882439228373, val_f1: 0.2945470334938005, val_precision: 0.1768435499195112, val_recall: 0.8807691002110822\n"
     ]
    },
    {
     "name": "stderr",
     "output_type": "stream",
     "text": [
      "100%|████████████████████████████████████████████████████████████| 655/655 [00:04<00:00, 150.18it/s]\n"
     ]
    },
    {
     "name": "stdout",
     "output_type": "stream",
     "text": [
      "Epoch: 344, loss: 0.7000740324267904, f1: 0.3186559842099932, precision: 0.19455688995600656, recall: 0.8799128135652032\n"
     ]
    },
    {
     "name": "stderr",
     "output_type": "stream",
     "text": [
      "100%|████████████████████████████████████████████████████████████| 218/218 [00:00<00:00, 508.97it/s]\n"
     ]
    },
    {
     "name": "stdout",
     "output_type": "stream",
     "text": [
      "val_loss: 0.7339520544633953, val_f1: 0.28188043652746525, val_precision: 0.16839552259739113, val_recall: 0.8644486843445979\n"
     ]
    },
    {
     "name": "stderr",
     "output_type": "stream",
     "text": [
      "100%|████████████████████████████████████████████████████████████| 655/655 [00:04<00:00, 152.82it/s]\n"
     ]
    },
    {
     "name": "stdout",
     "output_type": "stream",
     "text": [
      "Epoch: 345, loss: 0.7102768718741322, f1: 0.30870519857578654, precision: 0.1871622988001536, recall: 0.8805014290882431\n"
     ]
    },
    {
     "name": "stderr",
     "output_type": "stream",
     "text": [
      "100%|████████████████████████████████████████████████████████████| 218/218 [00:00<00:00, 510.02it/s]\n"
     ]
    },
    {
     "name": "stdout",
     "output_type": "stream",
     "text": [
      "val_loss: 0.7330343761575331, val_f1: 0.28431311255950437, val_precision: 0.1693758014333221, val_recall: 0.8845903151625887\n"
     ]
    },
    {
     "name": "stderr",
     "output_type": "stream",
     "text": [
      "100%|████████████████████████████████████████████████████████████| 655/655 [00:04<00:00, 152.15it/s]\n"
     ]
    },
    {
     "name": "stdout",
     "output_type": "stream",
     "text": [
      "Epoch: 346, loss: 0.7043565220505227, f1: 0.3149579244211598, precision: 0.1915938735463237, recall: 0.8844227697103079\n"
     ]
    },
    {
     "name": "stderr",
     "output_type": "stream",
     "text": [
      "100%|████████████████████████████████████████████████████████████| 218/218 [00:00<00:00, 510.02it/s]\n"
     ]
    },
    {
     "name": "stdout",
     "output_type": "stream",
     "text": [
      "val_loss: 0.7269964013077798, val_f1: 0.29187214660695093, val_precision: 0.17445750567857005, val_recall: 0.8926495346454305\n"
     ]
    },
    {
     "name": "stderr",
     "output_type": "stream",
     "text": [
      "100%|████████████████████████████████████████████████████████████| 655/655 [00:04<00:00, 150.81it/s]\n"
     ]
    },
    {
     "name": "stdout",
     "output_type": "stream",
     "text": [
      "Epoch: 347, loss: 0.701917986196416, f1: 0.31748373271972613, precision: 0.19340962888175295, recall: 0.8856125468516168\n"
     ]
    },
    {
     "name": "stderr",
     "output_type": "stream",
     "text": [
      "100%|████████████████████████████████████████████████████████████| 218/218 [00:00<00:00, 514.40it/s]\n"
     ]
    },
    {
     "name": "stdout",
     "output_type": "stream",
     "text": [
      "val_loss: 0.7245514772900747, val_f1: 0.2929502526906043, val_precision: 0.17566868170685723, val_recall: 0.8813963228956275\n"
     ]
    },
    {
     "name": "stderr",
     "output_type": "stream",
     "text": [
      "100%|████████████████████████████████████████████████████████████| 655/655 [00:04<00:00, 150.93it/s]\n"
     ]
    },
    {
     "name": "stdout",
     "output_type": "stream",
     "text": [
      "Epoch: 348, loss: 0.7031767179037779, f1: 0.3159799936938415, precision: 0.1923311182702998, recall: 0.8848398511646358\n"
     ]
    },
    {
     "name": "stderr",
     "output_type": "stream",
     "text": [
      "100%|████████████████████████████████████████████████████████████| 218/218 [00:00<00:00, 511.88it/s]\n"
     ]
    },
    {
     "name": "stdout",
     "output_type": "stream",
     "text": [
      "val_loss: 0.7226100375346087, val_f1: 0.2935953465102558, val_precision: 0.17596906282588703, val_recall: 0.8855200032575414\n"
     ]
    },
    {
     "name": "stderr",
     "output_type": "stream",
     "text": [
      "100%|████████████████████████████████████████████████████████████| 655/655 [00:04<00:00, 150.33it/s]\n"
     ]
    },
    {
     "name": "stdout",
     "output_type": "stream",
     "text": [
      "Epoch: 349, loss: 0.698561899807617, f1: 0.31963838141361284, precision: 0.1952154918708874, recall: 0.8814249200675324\n"
     ]
    },
    {
     "name": "stderr",
     "output_type": "stream",
     "text": [
      "100%|████████████████████████████████████████████████████████████| 218/218 [00:00<00:00, 516.56it/s]\n"
     ]
    },
    {
     "name": "stdout",
     "output_type": "stream",
     "text": [
      "val_loss: 0.7187136515564875, val_f1: 0.29721679431106207, val_precision: 0.17887084893540506, val_recall: 0.8783726563694281\n"
     ]
    },
    {
     "name": "stderr",
     "output_type": "stream",
     "text": [
      "100%|████████████████████████████████████████████████████████████| 655/655 [00:04<00:00, 152.59it/s]\n"
     ]
    },
    {
     "name": "stdout",
     "output_type": "stream",
     "text": [
      "Epoch: 350, loss: 0.7003702987241381, f1: 0.318304917353619, precision: 0.19416976917734127, recall: 0.8824948496490944\n"
     ]
    },
    {
     "name": "stderr",
     "output_type": "stream",
     "text": [
      "100%|████████████████████████████████████████████████████████████| 218/218 [00:00<00:00, 510.45it/s]\n"
     ]
    },
    {
     "name": "stdout",
     "output_type": "stream",
     "text": [
      "val_loss: 0.7238012992460793, val_f1: 0.2922577630502045, val_precision: 0.175442468144273, val_recall: 0.874584607301502\n"
     ]
    },
    {
     "name": "stderr",
     "output_type": "stream",
     "text": [
      "100%|████████████████████████████████████████████████████████████| 655/655 [00:04<00:00, 150.92it/s]\n"
     ]
    },
    {
     "name": "stdout",
     "output_type": "stream",
     "text": [
      "Epoch: 351, loss: 0.698241863814929, f1: 0.3201561291244598, precision: 0.19561133340057982, recall: 0.8812328468752272\n"
     ]
    },
    {
     "name": "stderr",
     "output_type": "stream",
     "text": [
      "100%|████████████████████████████████████████████████████████████| 218/218 [00:00<00:00, 512.51it/s]\n"
     ]
    },
    {
     "name": "stdout",
     "output_type": "stream",
     "text": [
      "val_loss: 0.7223863434900931, val_f1: 0.29286004557934875, val_precision: 0.17582819394664753, val_recall: 0.8757866708510512\n"
     ]
    },
    {
     "name": "stderr",
     "output_type": "stream",
     "text": [
      "100%|████████████████████████████████████████████████████████████| 655/655 [00:04<00:00, 151.83it/s]\n"
     ]
    },
    {
     "name": "stdout",
     "output_type": "stream",
     "text": [
      "Epoch: 352, loss: 0.6988395814677231, f1: 0.3198006979048163, precision: 0.19537393204469716, recall: 0.8806654751755809\n"
     ]
    },
    {
     "name": "stderr",
     "output_type": "stream",
     "text": [
      "100%|████████████████████████████████████████████████████████████| 218/218 [00:00<00:00, 519.35it/s]\n"
     ]
    },
    {
     "name": "stdout",
     "output_type": "stream",
     "text": [
      "val_loss: 0.7160224977436416, val_f1: 0.3006924954510928, val_precision: 0.18122827897378063, val_recall: 0.8822927321862737\n"
     ]
    },
    {
     "name": "stderr",
     "output_type": "stream",
     "text": [
      "100%|████████████████████████████████████████████████████████████| 655/655 [00:04<00:00, 152.65it/s]\n"
     ]
    },
    {
     "name": "stdout",
     "output_type": "stream",
     "text": [
      "Epoch: 353, loss: 0.6969185500654556, f1: 0.3219010538071924, precision: 0.19697432734697828, recall: 0.8800604428953797\n"
     ]
    },
    {
     "name": "stderr",
     "output_type": "stream",
     "text": [
      "100%|████████████████████████████████████████████████████████████| 218/218 [00:00<00:00, 517.03it/s]\n"
     ]
    },
    {
     "name": "stdout",
     "output_type": "stream",
     "text": [
      "val_loss: 0.7192259559390741, val_f1: 0.297082561015076, val_precision: 0.1787289149990869, val_recall: 0.8794535360205065\n"
     ]
    },
    {
     "name": "stderr",
     "output_type": "stream",
     "text": [
      "100%|████████████████████████████████████████████████████████████| 655/655 [00:04<00:00, 152.76it/s]\n"
     ]
    },
    {
     "name": "stdout",
     "output_type": "stream",
     "text": [
      "Epoch: 354, loss: 0.6992139596975486, f1: 0.3191676323146679, precision: 0.19505869287229677, recall: 0.8774719876642446\n"
     ]
    },
    {
     "name": "stderr",
     "output_type": "stream",
     "text": [
      "100%|████████████████████████████████████████████████████████████| 218/218 [00:00<00:00, 513.92it/s]\n"
     ]
    },
    {
     "name": "stdout",
     "output_type": "stream",
     "text": [
      "val_loss: 0.7142367045813744, val_f1: 0.3016557567659198, val_precision: 0.1820133836307657, val_recall: 0.8803029571651318\n"
     ]
    },
    {
     "name": "stderr",
     "output_type": "stream",
     "text": [
      "100%|████████████████████████████████████████████████████████████| 655/655 [00:04<00:00, 150.91it/s]\n"
     ]
    },
    {
     "name": "stdout",
     "output_type": "stream",
     "text": [
      "Epoch: 355, loss: 0.6969050794157363, f1: 0.32146390831259136, precision: 0.19654919609199953, recall: 0.8820259369056643\n"
     ]
    },
    {
     "name": "stderr",
     "output_type": "stream",
     "text": [
      "100%|████████████████████████████████████████████████████████████| 218/218 [00:00<00:00, 512.19it/s]\n"
     ]
    },
    {
     "name": "stdout",
     "output_type": "stream",
     "text": [
      "val_loss: 0.7194262704718004, val_f1: 0.29610960388519453, val_precision: 0.17839287546112997, val_recall: 0.8705866517276939\n"
     ]
    },
    {
     "name": "stderr",
     "output_type": "stream",
     "text": [
      "100%|████████████████████████████████████████████████████████████| 655/655 [00:04<00:00, 150.76it/s]\n"
     ]
    },
    {
     "name": "stdout",
     "output_type": "stream",
     "text": [
      "Epoch: 356, loss: 0.6928210952809749, f1: 0.3263817658035104, precision: 0.20011922374993335, recall: 0.8843514780051835\n"
     ]
    },
    {
     "name": "stderr",
     "output_type": "stream",
     "text": [
      "100%|████████████████████████████████████████████████████████████| 218/218 [00:00<00:00, 520.28it/s]\n"
     ]
    },
    {
     "name": "stdout",
     "output_type": "stream",
     "text": [
      "val_loss: 0.7146898100682355, val_f1: 0.30199284916166874, val_precision: 0.1824844230496145, val_recall: 0.87507929249641\n"
     ]
    },
    {
     "name": "stderr",
     "output_type": "stream",
     "text": [
      "100%|████████████████████████████████████████████████████████████| 655/655 [00:04<00:00, 154.38it/s]\n"
     ]
    },
    {
     "name": "stdout",
     "output_type": "stream",
     "text": [
      "Epoch: 357, loss: 0.6959857808724614, f1: 0.3223640954785025, precision: 0.19712416666439017, recall: 0.8840012161786319\n"
     ]
    },
    {
     "name": "stderr",
     "output_type": "stream",
     "text": [
      "100%|████████████████████████████████████████████████████████████| 218/218 [00:00<00:00, 519.31it/s]\n"
     ]
    },
    {
     "name": "stdout",
     "output_type": "stream",
     "text": [
      "val_loss: 0.725663593056005, val_f1: 0.29158724916983514, val_precision: 0.17534237311418177, val_recall: 0.8651398584383343\n"
     ]
    },
    {
     "name": "stderr",
     "output_type": "stream",
     "text": [
      "100%|████████████████████████████████████████████████████████████| 655/655 [00:04<00:00, 152.61it/s]\n"
     ]
    },
    {
     "name": "stdout",
     "output_type": "stream",
     "text": [
      "Epoch: 358, loss: 0.7020110771856235, f1: 0.3165018656584711, precision: 0.19291480128148586, recall: 0.8807137986175887\n"
     ]
    },
    {
     "name": "stderr",
     "output_type": "stream",
     "text": [
      "100%|████████████████████████████████████████████████████████████| 218/218 [00:00<00:00, 509.34it/s]\n"
     ]
    },
    {
     "name": "stdout",
     "output_type": "stream",
     "text": [
      "val_loss: 0.723589084563999, val_f1: 0.29293968877151394, val_precision: 0.17589027508067975, val_recall: 0.8756711105687902\n"
     ]
    },
    {
     "name": "stderr",
     "output_type": "stream",
     "text": [
      "100%|████████████████████████████████████████████████████████████| 655/655 [00:04<00:00, 152.50it/s]\n"
     ]
    },
    {
     "name": "stdout",
     "output_type": "stream",
     "text": [
      "Epoch: 359, loss: 0.7007742848105103, f1: 0.31801943304708724, precision: 0.19407805737307054, recall: 0.8800044752259291\n"
     ]
    },
    {
     "name": "stderr",
     "output_type": "stream",
     "text": [
      "100%|████████████████████████████████████████████████████████████| 218/218 [00:00<00:00, 514.97it/s]\n"
     ]
    },
    {
     "name": "stdout",
     "output_type": "stream",
     "text": [
      "val_loss: 0.7187164942605779, val_f1: 0.2978611438380857, val_precision: 0.1794933738067336, val_recall: 0.8746596897413971\n"
     ]
    },
    {
     "name": "stderr",
     "output_type": "stream",
     "text": [
      "100%|████████████████████████████████████████████████████████████| 655/655 [00:04<00:00, 157.89it/s]\n"
     ]
    },
    {
     "name": "stdout",
     "output_type": "stream",
     "text": [
      "Epoch: 360, loss: 0.6992692017373238, f1: 0.31939716412663277, precision: 0.19508414679981825, recall: 0.8804342069698654\n"
     ]
    },
    {
     "name": "stderr",
     "output_type": "stream",
     "text": [
      "100%|████████████████████████████████████████████████████████████| 218/218 [00:00<00:00, 510.04it/s]\n"
     ]
    },
    {
     "name": "stdout",
     "output_type": "stream",
     "text": [
      "val_loss: 0.7235372337179447, val_f1: 0.29308107254607607, val_precision: 0.1760212119600368, val_recall: 0.8749542605439458\n"
     ]
    },
    {
     "name": "stderr",
     "output_type": "stream",
     "text": [
      "100%|████████████████████████████████████████████████████████████| 655/655 [00:04<00:00, 149.71it/s]\n"
     ]
    },
    {
     "name": "stdout",
     "output_type": "stream",
     "text": [
      "Epoch: 361, loss: 0.6969275583747689, f1: 0.32159862764162567, precision: 0.19668682002042995, recall: 0.8812845763359362\n"
     ]
    },
    {
     "name": "stderr",
     "output_type": "stream",
     "text": [
      "100%|████████████████████████████████████████████████████████████| 218/218 [00:00<00:00, 515.23it/s]\n"
     ]
    },
    {
     "name": "stdout",
     "output_type": "stream",
     "text": [
      "val_loss: 0.7192785854733318, val_f1: 0.2967493426145227, val_precision: 0.17860862517028775, val_recall: 0.8765309417466505\n"
     ]
    },
    {
     "name": "stderr",
     "output_type": "stream",
     "text": [
      "100%|████████████████████████████████████████████████████████████| 655/655 [00:04<00:00, 149.67it/s]\n"
     ]
    },
    {
     "name": "stdout",
     "output_type": "stream",
     "text": [
      "Epoch: 362, loss: 0.6992590775016609, f1: 0.3191370796578574, precision: 0.19460927528393177, recall: 0.8862119327974683\n"
     ]
    },
    {
     "name": "stderr",
     "output_type": "stream",
     "text": [
      "100%|████████████████████████████████████████████████████████████| 218/218 [00:00<00:00, 510.11it/s]\n"
     ]
    },
    {
     "name": "stdout",
     "output_type": "stream",
     "text": [
      "val_loss: 0.7175943988178848, val_f1: 0.2984680090329374, val_precision: 0.17974474899675869, val_recall: 0.8791666391792647\n"
     ]
    },
    {
     "name": "stderr",
     "output_type": "stream",
     "text": [
      "100%|████████████████████████████████████████████████████████████| 655/655 [00:04<00:00, 149.61it/s]\n"
     ]
    },
    {
     "name": "stdout",
     "output_type": "stream",
     "text": [
      "Epoch: 363, loss: 0.6990955934269738, f1: 0.31933378910706833, precision: 0.19491343904030686, recall: 0.8829581444500056\n"
     ]
    },
    {
     "name": "stderr",
     "output_type": "stream",
     "text": [
      "100%|████████████████████████████████████████████████████████████| 218/218 [00:00<00:00, 508.42it/s]\n"
     ]
    },
    {
     "name": "stdout",
     "output_type": "stream",
     "text": [
      "val_loss: 0.7186609572226849, val_f1: 0.297207555700453, val_precision: 0.17878074908987918, val_recall: 0.8803897021560494\n"
     ]
    },
    {
     "name": "stderr",
     "output_type": "stream",
     "text": [
      "100%|████████████████████████████████████████████████████████████| 655/655 [00:04<00:00, 152.01it/s]\n"
     ]
    },
    {
     "name": "stdout",
     "output_type": "stream",
     "text": [
      "Epoch: 364, loss: 0.6976405705204447, f1: 0.32082591001770994, precision: 0.19586399956855155, recall: 0.8862679038338989\n"
     ]
    },
    {
     "name": "stderr",
     "output_type": "stream",
     "text": [
      "100%|████████████████████████████████████████████████████████████| 218/218 [00:00<00:00, 511.71it/s]\n"
     ]
    },
    {
     "name": "stdout",
     "output_type": "stream",
     "text": [
      "val_loss: 0.7183825433801073, val_f1: 0.29827689556094145, val_precision: 0.17965590453134217, val_recall: 0.8779762663425655\n"
     ]
    },
    {
     "name": "stderr",
     "output_type": "stream",
     "text": [
      "100%|████████████████████████████████████████████████████████████| 655/655 [00:04<00:00, 150.07it/s]\n"
     ]
    },
    {
     "name": "stdout",
     "output_type": "stream",
     "text": [
      "Epoch: 365, loss: 0.698099644948508, f1: 0.3202651022203494, precision: 0.19553435917460282, recall: 0.884458096245773\n"
     ]
    },
    {
     "name": "stderr",
     "output_type": "stream",
     "text": [
      "100%|████████████████████████████████████████████████████████████| 218/218 [00:00<00:00, 504.19it/s]\n"
     ]
    },
    {
     "name": "stdout",
     "output_type": "stream",
     "text": [
      "val_loss: 0.7155616480276126, val_f1: 0.30057853651863037, val_precision: 0.18122438621630363, val_recall: 0.880425942873736\n"
     ]
    },
    {
     "name": "stderr",
     "output_type": "stream",
     "text": [
      "100%|████████████████████████████████████████████████████████████| 655/655 [00:04<00:00, 149.41it/s]\n"
     ]
    },
    {
     "name": "stdout",
     "output_type": "stream",
     "text": [
      "Epoch: 366, loss: 0.6946916940558048, f1: 0.3243243480460551, precision: 0.19855093078417632, recall: 0.8848186488369949\n"
     ]
    },
    {
     "name": "stderr",
     "output_type": "stream",
     "text": [
      "100%|████████████████████████████████████████████████████████████| 218/218 [00:00<00:00, 503.32it/s]\n"
     ]
    },
    {
     "name": "stdout",
     "output_type": "stream",
     "text": [
      "val_loss: 0.7271807631221386, val_f1: 0.28992544179773605, val_precision: 0.17350656332431036, val_recall: 0.8811702061136928\n"
     ]
    },
    {
     "name": "stderr",
     "output_type": "stream",
     "text": [
      "100%|████████████████████████████████████████████████████████████| 655/655 [00:04<00:00, 149.80it/s]\n"
     ]
    },
    {
     "name": "stdout",
     "output_type": "stream",
     "text": [
      "Epoch: 367, loss: 0.7028122756317372, f1: 0.314829629933097, precision: 0.1916142878385673, recall: 0.8819705431697933\n"
     ]
    },
    {
     "name": "stderr",
     "output_type": "stream",
     "text": [
      "100%|████████████████████████████████████████████████████████████| 218/218 [00:00<00:00, 500.67it/s]\n"
     ]
    },
    {
     "name": "stdout",
     "output_type": "stream",
     "text": [
      "val_loss: 0.7173357988716266, val_f1: 0.29885169211455237, val_precision: 0.18008842428616428, val_recall: 0.8776126052808324\n"
     ]
    },
    {
     "name": "stderr",
     "output_type": "stream",
     "text": [
      "100%|████████████████████████████████████████████████████████████| 655/655 [00:04<00:00, 149.75it/s]\n"
     ]
    },
    {
     "name": "stdout",
     "output_type": "stream",
     "text": [
      "Epoch: 368, loss: 0.6970581967412061, f1: 0.3216727683562004, precision: 0.19658301201087372, recall: 0.8844946435389628\n"
     ]
    },
    {
     "name": "stderr",
     "output_type": "stream",
     "text": [
      "100%|████████████████████████████████████████████████████████████| 218/218 [00:00<00:00, 502.30it/s]\n"
     ]
    },
    {
     "name": "stdout",
     "output_type": "stream",
     "text": [
      "val_loss: 0.7202415578409073, val_f1: 0.29690199180932825, val_precision: 0.17876432016662774, val_recall: 0.8754480746361094\n"
     ]
    },
    {
     "name": "stderr",
     "output_type": "stream",
     "text": [
      "100%|████████████████████████████████████████████████████████████| 655/655 [00:04<00:00, 152.03it/s]\n"
     ]
    },
    {
     "name": "stdout",
     "output_type": "stream",
     "text": [
      "Epoch: 369, loss: 0.6954226603034799, f1: 0.32369559443724466, precision: 0.1980503162241164, recall: 0.8854082063864206\n"
     ]
    },
    {
     "name": "stderr",
     "output_type": "stream",
     "text": [
      "100%|████████████████████████████████████████████████████████████| 218/218 [00:00<00:00, 512.80it/s]\n"
     ]
    },
    {
     "name": "stdout",
     "output_type": "stream",
     "text": [
      "val_loss: 0.7176138627419778, val_f1: 0.2987016793769373, val_precision: 0.1804614598444159, val_recall: 0.86633022498647\n"
     ]
    },
    {
     "name": "stderr",
     "output_type": "stream",
     "text": [
      "100%|████████████████████████████████████████████████████████████| 655/655 [00:04<00:00, 152.55it/s]\n"
     ]
    },
    {
     "name": "stdout",
     "output_type": "stream",
     "text": [
      "Epoch: 370, loss: 0.6983716901022059, f1: 0.3205514159103922, precision: 0.19588509434620843, recall: 0.8816670365915954\n"
     ]
    },
    {
     "name": "stderr",
     "output_type": "stream",
     "text": [
      "100%|████████████████████████████████████████████████████████████| 218/218 [00:00<00:00, 496.66it/s]\n"
     ]
    },
    {
     "name": "stdout",
     "output_type": "stream",
     "text": [
      "val_loss: 0.7217466738245902, val_f1: 0.29543077903309517, val_precision: 0.17775179479920536, val_recall: 0.8741617167214735\n"
     ]
    },
    {
     "name": "stderr",
     "output_type": "stream",
     "text": [
      "100%|████████████████████████████████████████████████████████████| 655/655 [00:04<00:00, 151.46it/s]\n"
     ]
    },
    {
     "name": "stdout",
     "output_type": "stream",
     "text": [
      "Epoch: 371, loss: 0.6954347537674067, f1: 0.32331710357982285, precision: 0.1977997802795117, recall: 0.884752050792898\n"
     ]
    },
    {
     "name": "stderr",
     "output_type": "stream",
     "text": [
      "100%|████████████████████████████████████████████████████████████| 218/218 [00:00<00:00, 509.14it/s]\n"
     ]
    },
    {
     "name": "stdout",
     "output_type": "stream",
     "text": [
      "val_loss: 0.7167671959881389, val_f1: 0.2995071902123158, val_precision: 0.18039367509441911, val_recall: 0.8816752890381244\n"
     ]
    },
    {
     "name": "stderr",
     "output_type": "stream",
     "text": [
      "100%|████████████████████████████████████████████████████████████| 655/655 [00:04<00:00, 152.58it/s]\n"
     ]
    },
    {
     "name": "stdout",
     "output_type": "stream",
     "text": [
      "Epoch: 372, loss: 0.6985745737570843, f1: 0.31994418187632456, precision: 0.19539279965328352, recall: 0.8824610192357129\n"
     ]
    },
    {
     "name": "stderr",
     "output_type": "stream",
     "text": [
      "100%|████████████████████████████████████████████████████████████| 218/218 [00:00<00:00, 509.50it/s]\n"
     ]
    },
    {
     "name": "stdout",
     "output_type": "stream",
     "text": [
      "val_loss: 0.7227039982419495, val_f1: 0.2930388824599313, val_precision: 0.1760243957332515, val_recall: 0.8741242459060949\n"
     ]
    },
    {
     "name": "stderr",
     "output_type": "stream",
     "text": [
      "100%|████████████████████████████████████████████████████████████| 655/655 [00:04<00:00, 152.90it/s]\n"
     ]
    },
    {
     "name": "stdout",
     "output_type": "stream",
     "text": [
      "Epoch: 373, loss: 0.6931175915339521, f1: 0.3255766417242385, precision: 0.19952307779142875, recall: 0.8841769899120767\n"
     ]
    },
    {
     "name": "stderr",
     "output_type": "stream",
     "text": [
      "100%|████████████████████████████████████████████████████████████| 218/218 [00:00<00:00, 501.25it/s]\n"
     ]
    },
    {
     "name": "stdout",
     "output_type": "stream",
     "text": [
      "val_loss: 0.7178126723941313, val_f1: 0.2977624762087923, val_precision: 0.17935580127112088, val_recall: 0.876229582303161\n"
     ]
    },
    {
     "name": "stderr",
     "output_type": "stream",
     "text": [
      "100%|████████████████████████████████████████████████████████████| 655/655 [00:04<00:00, 151.68it/s]\n"
     ]
    },
    {
     "name": "stdout",
     "output_type": "stream",
     "text": [
      "Epoch: 374, loss: 0.6989780625314203, f1: 0.31872628137942355, precision: 0.19478657892585255, recall: 0.8763068332016923\n"
     ]
    },
    {
     "name": "stderr",
     "output_type": "stream",
     "text": [
      "100%|████████████████████████████████████████████████████████████| 218/218 [00:00<00:00, 510.60it/s]\n"
     ]
    },
    {
     "name": "stdout",
     "output_type": "stream",
     "text": [
      "val_loss: 0.7259360169051984, val_f1: 0.29051058089975923, val_precision: 0.17423295801283295, val_recall: 0.8733711527028215\n"
     ]
    },
    {
     "name": "stderr",
     "output_type": "stream",
     "text": [
      "100%|████████████████████████████████████████████████████████████| 655/655 [00:04<00:00, 149.76it/s]\n"
     ]
    },
    {
     "name": "stdout",
     "output_type": "stream",
     "text": [
      "Epoch: 375, loss: 0.6977300207123501, f1: 0.3208755595979434, precision: 0.1962528092004643, recall: 0.8791383258259023\n"
     ]
    },
    {
     "name": "stderr",
     "output_type": "stream",
     "text": [
      "100%|████████████████████████████████████████████████████████████| 218/218 [00:00<00:00, 508.30it/s]\n"
     ]
    },
    {
     "name": "stdout",
     "output_type": "stream",
     "text": [
      "val_loss: 0.7173183918546099, val_f1: 0.2985526829111702, val_precision: 0.17975608477317687, val_recall: 0.8803660322766785\n"
     ]
    },
    {
     "name": "stderr",
     "output_type": "stream",
     "text": [
      "100%|████████████████████████████████████████████████████████████| 655/655 [00:04<00:00, 149.55it/s]\n"
     ]
    },
    {
     "name": "stdout",
     "output_type": "stream",
     "text": [
      "Epoch: 376, loss: 0.6983969903174247, f1: 0.3202078906236988, precision: 0.19566617757081986, recall: 0.8809044034426449\n"
     ]
    },
    {
     "name": "stderr",
     "output_type": "stream",
     "text": [
      "100%|████████████████████████████████████████████████████████████| 218/218 [00:00<00:00, 509.82it/s]\n"
     ]
    },
    {
     "name": "stdout",
     "output_type": "stream",
     "text": [
      "val_loss: 0.721672896124901, val_f1: 0.29483499836282623, val_precision: 0.17682140600790672, val_recall: 0.8865002065623572\n"
     ]
    },
    {
     "name": "stderr",
     "output_type": "stream",
     "text": [
      "100%|████████████████████████████████████████████████████████████| 655/655 [00:04<00:00, 150.86it/s]\n"
     ]
    },
    {
     "name": "stdout",
     "output_type": "stream",
     "text": [
      "Epoch: 377, loss: 0.7016072253234514, f1: 0.31743734660109774, precision: 0.19350574664657808, recall: 0.8828847163506136\n"
     ]
    },
    {
     "name": "stderr",
     "output_type": "stream",
     "text": [
      "100%|████████████████████████████████████████████████████████████| 218/218 [00:00<00:00, 501.47it/s]\n"
     ]
    },
    {
     "name": "stdout",
     "output_type": "stream",
     "text": [
      "val_loss: 0.7180128778339526, val_f1: 0.29865299965928055, val_precision: 0.17970463108066298, val_recall: 0.8833546520919975\n"
     ]
    },
    {
     "name": "stderr",
     "output_type": "stream",
     "text": [
      "100%|████████████████████████████████████████████████████████████| 655/655 [00:04<00:00, 152.14it/s]\n"
     ]
    },
    {
     "name": "stdout",
     "output_type": "stream",
     "text": [
      "Epoch: 378, loss: 0.6975317035922567, f1: 0.3205097292257412, precision: 0.19604576090137468, recall: 0.8778010647715503\n"
     ]
    },
    {
     "name": "stderr",
     "output_type": "stream",
     "text": [
      "100%|████████████████████████████████████████████████████████████| 218/218 [00:00<00:00, 504.77it/s]\n"
     ]
    },
    {
     "name": "stdout",
     "output_type": "stream",
     "text": [
      "val_loss: 0.7257141066253732, val_f1: 0.2907739575122888, val_precision: 0.17434809783285637, val_recall: 0.8752404604483088\n"
     ]
    },
    {
     "name": "stderr",
     "output_type": "stream",
     "text": [
      "100%|████████████████████████████████████████████████████████████| 655/655 [00:04<00:00, 153.19it/s]\n"
     ]
    },
    {
     "name": "stdout",
     "output_type": "stream",
     "text": [
      "Epoch: 379, loss: 0.6943857070143896, f1: 0.32443590627931485, precision: 0.19860547691981756, recall: 0.8853961633361933\n"
     ]
    },
    {
     "name": "stderr",
     "output_type": "stream",
     "text": [
      "100%|████████████████████████████████████████████████████████████| 218/218 [00:00<00:00, 500.65it/s]\n"
     ]
    },
    {
     "name": "stdout",
     "output_type": "stream",
     "text": [
      "val_loss: 0.7166803583092646, val_f1: 0.29918921489481276, val_precision: 0.18020060359406362, val_recall: 0.8807763820941296\n"
     ]
    },
    {
     "name": "stderr",
     "output_type": "stream",
     "text": [
      "100%|████████████████████████████████████████████████████████████| 655/655 [00:04<00:00, 150.01it/s]\n"
     ]
    },
    {
     "name": "stdout",
     "output_type": "stream",
     "text": [
      "Epoch: 380, loss: 0.6922509952355888, f1: 0.3266544407145702, precision: 0.20026827976107597, recall: 0.8854445970695437\n"
     ]
    },
    {
     "name": "stderr",
     "output_type": "stream",
     "text": [
      "100%|████████████████████████████████████████████████████████████| 218/218 [00:00<00:00, 501.47it/s]\n"
     ]
    },
    {
     "name": "stdout",
     "output_type": "stream",
     "text": [
      "val_loss: 0.7167073742512169, val_f1: 0.29979659734592895, val_precision: 0.18066386216311553, val_recall: 0.8802440942974266\n"
     ]
    },
    {
     "name": "stderr",
     "output_type": "stream",
     "text": [
      "100%|████████████████████████████████████████████████████████████| 655/655 [00:04<00:00, 150.08it/s]\n"
     ]
    },
    {
     "name": "stdout",
     "output_type": "stream",
     "text": [
      "Epoch: 381, loss: 0.6945513568761694, f1: 0.3243448775599683, precision: 0.19867809120537216, recall: 0.8826060744642301\n"
     ]
    },
    {
     "name": "stderr",
     "output_type": "stream",
     "text": [
      "100%|████████████████████████████████████████████████████████████| 218/218 [00:00<00:00, 507.51it/s]\n"
     ]
    },
    {
     "name": "stdout",
     "output_type": "stream",
     "text": [
      "val_loss: 0.7203061802124758, val_f1: 0.29736406490663125, val_precision: 0.17901409616471703, val_recall: 0.8774932002255676\n"
     ]
    },
    {
     "name": "stderr",
     "output_type": "stream",
     "text": [
      "100%|████████████████████████████████████████████████████████████| 655/655 [00:04<00:00, 149.48it/s]\n"
     ]
    },
    {
     "name": "stdout",
     "output_type": "stream",
     "text": [
      "Epoch: 382, loss: 0.6949669997200711, f1: 0.3238738358134068, precision: 0.1984133017000579, recall: 0.8808559184765997\n"
     ]
    },
    {
     "name": "stderr",
     "output_type": "stream",
     "text": [
      "100%|████████████████████████████████████████████████████████████| 218/218 [00:00<00:00, 501.31it/s]\n"
     ]
    },
    {
     "name": "stdout",
     "output_type": "stream",
     "text": [
      "val_loss: 0.7165459635060861, val_f1: 0.29923339123487863, val_precision: 0.1803896552413155, val_recall: 0.8770460973092176\n"
     ]
    },
    {
     "name": "stderr",
     "output_type": "stream",
     "text": [
      "100%|████████████████████████████████████████████████████████████| 655/655 [00:04<00:00, 149.37it/s]\n"
     ]
    },
    {
     "name": "stdout",
     "output_type": "stream",
     "text": [
      "Epoch: 383, loss: 0.6930357343367948, f1: 0.32602343660235444, precision: 0.19974365958105061, recall: 0.8864371452622741\n"
     ]
    },
    {
     "name": "stderr",
     "output_type": "stream",
     "text": [
      "100%|████████████████████████████████████████████████████████████| 218/218 [00:00<00:00, 507.57it/s]\n"
     ]
    },
    {
     "name": "stdout",
     "output_type": "stream",
     "text": [
      "val_loss: 0.7146323194744391, val_f1: 0.3014923956820392, val_precision: 0.18222869135473574, val_recall: 0.8725573896268092\n"
     ]
    },
    {
     "name": "stderr",
     "output_type": "stream",
     "text": [
      "100%|████████████████████████████████████████████████████████████| 655/655 [00:04<00:00, 151.16it/s]\n"
     ]
    },
    {
     "name": "stdout",
     "output_type": "stream",
     "text": [
      "Epoch: 384, loss: 0.699454798407227, f1: 0.31889600758437187, precision: 0.1946380367260853, recall: 0.8819158105449822\n"
     ]
    },
    {
     "name": "stderr",
     "output_type": "stream",
     "text": [
      "100%|████████████████████████████████████████████████████████████| 218/218 [00:00<00:00, 503.51it/s]\n"
     ]
    },
    {
     "name": "stdout",
     "output_type": "stream",
     "text": [
      "val_loss: 0.7174638676534005, val_f1: 0.29894726540357736, val_precision: 0.17990432693323957, val_recall: 0.8836786003287779\n"
     ]
    },
    {
     "name": "stderr",
     "output_type": "stream",
     "text": [
      "100%|████████████████████████████████████████████████████████████| 655/655 [00:04<00:00, 150.39it/s]\n"
     ]
    },
    {
     "name": "stdout",
     "output_type": "stream",
     "text": [
      "Epoch: 385, loss: 0.6999218543067234, f1: 0.31875151939753216, precision: 0.19454664912160116, recall: 0.8815819136059011\n"
     ]
    },
    {
     "name": "stderr",
     "output_type": "stream",
     "text": [
      "100%|████████████████████████████████████████████████████████████| 218/218 [00:00<00:00, 508.43it/s]\n"
     ]
    },
    {
     "name": "stdout",
     "output_type": "stream",
     "text": [
      "val_loss: 0.7176615270452762, val_f1: 0.3006352048916866, val_precision: 0.18091907684580175, val_recall: 0.8886931888554075\n"
     ]
    },
    {
     "name": "stderr",
     "output_type": "stream",
     "text": [
      "100%|████████████████████████████████████████████████████████████| 655/655 [00:04<00:00, 150.53it/s]\n"
     ]
    },
    {
     "name": "stdout",
     "output_type": "stream",
     "text": [
      "Epoch: 386, loss: 0.6936951690957747, f1: 0.3254614426978633, precision: 0.19944903167775113, recall: 0.8839318723168992\n"
     ]
    },
    {
     "name": "stderr",
     "output_type": "stream",
     "text": [
      "100%|████████████████████████████████████████████████████████████| 218/218 [00:00<00:00, 509.53it/s]\n"
     ]
    },
    {
     "name": "stdout",
     "output_type": "stream",
     "text": [
      "val_loss: 0.7163543384009545, val_f1: 0.29931380420743703, val_precision: 0.18029091350836765, val_recall: 0.8807785319625785\n"
     ]
    },
    {
     "name": "stderr",
     "output_type": "stream",
     "text": [
      "100%|████████████████████████████████████████████████████████████| 655/655 [00:04<00:00, 150.88it/s]\n"
     ]
    },
    {
     "name": "stdout",
     "output_type": "stream",
     "text": [
      "Epoch: 387, loss: 0.6937459148523462, f1: 0.3248841012586149, precision: 0.19902963878316735, recall: 0.8836543836666427\n"
     ]
    },
    {
     "name": "stderr",
     "output_type": "stream",
     "text": [
      "100%|████████████████████████████████████████████████████████████| 218/218 [00:00<00:00, 503.98it/s]\n"
     ]
    },
    {
     "name": "stdout",
     "output_type": "stream",
     "text": [
      "val_loss: 0.713897449981182, val_f1: 0.3020492067622996, val_precision: 0.1823002829754708, val_recall: 0.8802951139594437\n"
     ]
    },
    {
     "name": "stderr",
     "output_type": "stream",
     "text": [
      "100%|████████████████████████████████████████████████████████████| 655/655 [00:04<00:00, 152.17it/s]\n"
     ]
    },
    {
     "name": "stdout",
     "output_type": "stream",
     "text": [
      "Epoch: 388, loss: 0.6940054792484255, f1: 0.324499512010536, precision: 0.19868256011764512, recall: 0.8848124015422267\n"
     ]
    },
    {
     "name": "stderr",
     "output_type": "stream",
     "text": [
      "100%|████████████████████████████████████████████████████████████| 218/218 [00:00<00:00, 514.15it/s]\n"
     ]
    },
    {
     "name": "stdout",
     "output_type": "stream",
     "text": [
      "val_loss: 0.7181175378484463, val_f1: 0.2973015776214013, val_precision: 0.17915102838615485, val_recall: 0.8731387705977903\n"
     ]
    },
    {
     "name": "stderr",
     "output_type": "stream",
     "text": [
      "100%|████████████████████████████████████████████████████████████| 655/655 [00:04<00:00, 152.53it/s]\n"
     ]
    },
    {
     "name": "stdout",
     "output_type": "stream",
     "text": [
      "Epoch: 389, loss: 0.6964712828170252, f1: 0.3216643335288722, precision: 0.19671010481947251, recall: 0.8818040862338233\n"
     ]
    },
    {
     "name": "stderr",
     "output_type": "stream",
     "text": [
      "100%|████████████████████████████████████████████████████████████| 218/218 [00:00<00:00, 513.83it/s]\n"
     ]
    },
    {
     "name": "stdout",
     "output_type": "stream",
     "text": [
      "val_loss: 0.7159261520302623, val_f1: 0.3003035611230074, val_precision: 0.181098361935364, val_recall: 0.8786832113331611\n"
     ]
    },
    {
     "name": "stderr",
     "output_type": "stream",
     "text": [
      "100%|████████████████████████████████████████████████████████████| 655/655 [00:04<00:00, 151.73it/s]\n"
     ]
    },
    {
     "name": "stdout",
     "output_type": "stream",
     "text": [
      "Epoch: 390, loss: 0.6922967199150842, f1: 0.3266995386099772, precision: 0.20040061534133577, recall: 0.8835262291304028\n"
     ]
    },
    {
     "name": "stderr",
     "output_type": "stream",
     "text": [
      "100%|████████████████████████████████████████████████████████████| 218/218 [00:00<00:00, 510.48it/s]\n"
     ]
    },
    {
     "name": "stdout",
     "output_type": "stream",
     "text": [
      "val_loss: 0.7178692970800837, val_f1: 0.2989931955499496, val_precision: 0.18073056755296954, val_recall: 0.8650390954192625\n"
     ]
    },
    {
     "name": "stderr",
     "output_type": "stream",
     "text": [
      "100%|████████████████████████████████████████████████████████████| 655/655 [00:04<00:00, 151.42it/s]\n"
     ]
    },
    {
     "name": "stdout",
     "output_type": "stream",
     "text": [
      "Epoch: 391, loss: 0.694708761550088, f1: 0.3243084269393366, precision: 0.19871005323779492, recall: 0.8814370725901072\n"
     ]
    },
    {
     "name": "stderr",
     "output_type": "stream",
     "text": [
      "100%|████████████████████████████████████████████████████████████| 218/218 [00:00<00:00, 510.09it/s]\n"
     ]
    },
    {
     "name": "stdout",
     "output_type": "stream",
     "text": [
      "val_loss: 0.7179585987821632, val_f1: 0.29839216292628845, val_precision: 0.18013878928822116, val_recall: 0.8685730296537417\n"
     ]
    },
    {
     "name": "stderr",
     "output_type": "stream",
     "text": [
      "100%|████████████████████████████████████████████████████████████| 655/655 [00:04<00:00, 150.23it/s]\n"
     ]
    },
    {
     "name": "stdout",
     "output_type": "stream",
     "text": [
      "Epoch: 392, loss: 0.6996403237335554, f1: 0.31909686431833306, precision: 0.1951329016162239, recall: 0.8749083235063626\n"
     ]
    },
    {
     "name": "stderr",
     "output_type": "stream",
     "text": [
      "100%|████████████████████████████████████████████████████████████| 218/218 [00:00<00:00, 506.74it/s]\n"
     ]
    },
    {
     "name": "stdout",
     "output_type": "stream",
     "text": [
      "val_loss: 0.7163105120352649, val_f1: 0.3002722353484244, val_precision: 0.1811283394831036, val_recall: 0.8774429228874522\n"
     ]
    },
    {
     "name": "stderr",
     "output_type": "stream",
     "text": [
      "100%|████████████████████████████████████████████████████████████| 655/655 [00:04<00:00, 151.37it/s]\n"
     ]
    },
    {
     "name": "stdout",
     "output_type": "stream",
     "text": [
      "Epoch: 393, loss: 0.696876126391287, f1: 0.32138065667116184, precision: 0.19644032279953702, recall: 0.8829668491510034\n"
     ]
    },
    {
     "name": "stderr",
     "output_type": "stream",
     "text": [
      "100%|████████████████████████████████████████████████████████████| 218/218 [00:00<00:00, 508.27it/s]\n"
     ]
    },
    {
     "name": "stdout",
     "output_type": "stream",
     "text": [
      "val_loss: 0.7158589065074921, val_f1: 0.3003496320332231, val_precision: 0.18109437760922614, val_recall: 0.8795666380212941\n"
     ]
    },
    {
     "name": "stderr",
     "output_type": "stream",
     "text": [
      "100%|████████████████████████████████████████████████████████████| 655/655 [00:04<00:00, 151.38it/s]\n"
     ]
    },
    {
     "name": "stdout",
     "output_type": "stream",
     "text": [
      "Epoch: 394, loss: 0.6922454378987086, f1: 0.3266717722430746, precision: 0.200348058030123, recall: 0.8841423213936901\n"
     ]
    },
    {
     "name": "stderr",
     "output_type": "stream",
     "text": [
      "100%|████████████████████████████████████████████████████████████| 218/218 [00:00<00:00, 506.58it/s]\n"
     ]
    },
    {
     "name": "stdout",
     "output_type": "stream",
     "text": [
      "val_loss: 0.7137899458955187, val_f1: 0.30235897585689286, val_precision: 0.18230634432183493, val_recall: 0.8854405158156649\n"
     ]
    },
    {
     "name": "stderr",
     "output_type": "stream",
     "text": [
      "100%|████████████████████████████████████████████████████████████| 655/655 [00:04<00:00, 148.97it/s]\n"
     ]
    },
    {
     "name": "stdout",
     "output_type": "stream",
     "text": [
      "Epoch: 395, loss: 0.6940341680104496, f1: 0.3249331272351052, precision: 0.1991237630456231, recall: 0.8825265983588823\n"
     ]
    },
    {
     "name": "stderr",
     "output_type": "stream",
     "text": [
      "100%|████████████████████████████████████████████████████████████| 218/218 [00:00<00:00, 509.89it/s]\n"
     ]
    },
    {
     "name": "stdout",
     "output_type": "stream",
     "text": [
      "val_loss: 0.7128662592774138, val_f1: 0.30323374307942574, val_precision: 0.1834195996591941, val_recall: 0.8744377455580126\n"
     ]
    },
    {
     "name": "stderr",
     "output_type": "stream",
     "text": [
      "100%|████████████████████████████████████████████████████████████| 655/655 [00:04<00:00, 153.23it/s]\n"
     ]
    },
    {
     "name": "stdout",
     "output_type": "stream",
     "text": [
      "Epoch: 396, loss: 0.6920998475023808, f1: 0.326893475680611, precision: 0.2005369606591363, recall: 0.8837129988743149\n"
     ]
    },
    {
     "name": "stderr",
     "output_type": "stream",
     "text": [
      "100%|████████████████████████████████████████████████████████████| 218/218 [00:00<00:00, 500.80it/s]\n"
     ]
    },
    {
     "name": "stdout",
     "output_type": "stream",
     "text": [
      "val_loss: 0.716695007654505, val_f1: 0.2995364218379473, val_precision: 0.18068700711832408, val_recall: 0.8752336157571285\n"
     ]
    },
    {
     "name": "stderr",
     "output_type": "stream",
     "text": [
      "100%|████████████████████████████████████████████████████████████| 655/655 [00:04<00:00, 149.51it/s]\n"
     ]
    },
    {
     "name": "stdout",
     "output_type": "stream",
     "text": [
      "Epoch: 397, loss: 0.690258823642294, f1: 0.32888666426022606, precision: 0.20195619961573877, recall: 0.88530556673312\n"
     ]
    },
    {
     "name": "stderr",
     "output_type": "stream",
     "text": [
      "100%|████████████████████████████████████████████████████████████| 218/218 [00:00<00:00, 507.03it/s]\n"
     ]
    },
    {
     "name": "stdout",
     "output_type": "stream",
     "text": [
      "val_loss: 0.7174201820968488, val_f1: 0.2989289774898043, val_precision: 0.1802826602473308, val_recall: 0.8743495908352213\n"
     ]
    },
    {
     "name": "stderr",
     "output_type": "stream",
     "text": [
      "100%|████████████████████████████████████████████████████████████| 655/655 [00:04<00:00, 150.38it/s]\n"
     ]
    },
    {
     "name": "stdout",
     "output_type": "stream",
     "text": [
      "Epoch: 398, loss: 0.6947121039601682, f1: 0.3241566383488643, precision: 0.19851548368296096, recall: 0.883028533076512\n"
     ]
    },
    {
     "name": "stderr",
     "output_type": "stream",
     "text": [
      "100%|████████████████████████████████████████████████████████████| 218/218 [00:00<00:00, 501.40it/s]\n"
     ]
    },
    {
     "name": "stdout",
     "output_type": "stream",
     "text": [
      "val_loss: 0.7205720929377669, val_f1: 0.29504707968227223, val_precision: 0.17717995057138827, val_recall: 0.881368070294004\n"
     ]
    },
    {
     "name": "stderr",
     "output_type": "stream",
     "text": [
      "100%|████████████████████████████████████████████████████████████| 655/655 [00:04<00:00, 150.91it/s]\n"
     ]
    },
    {
     "name": "stdout",
     "output_type": "stream",
     "text": [
      "Epoch: 399, loss: 0.6986717544439185, f1: 0.31993945031820203, precision: 0.19542529921097154, recall: 0.8817268438011635\n"
     ]
    },
    {
     "name": "stderr",
     "output_type": "stream",
     "text": [
      "100%|████████████████████████████████████████████████████████████| 218/218 [00:00<00:00, 506.20it/s]\n"
     ]
    },
    {
     "name": "stdout",
     "output_type": "stream",
     "text": [
      "val_loss: 0.7222756634064771, val_f1: 0.29429929544202005, val_precision: 0.17648750470968289, val_recall: 0.8852069241191269\n"
     ]
    },
    {
     "name": "stderr",
     "output_type": "stream",
     "text": [
      "100%|████████████████████████████████████████████████████████████| 655/655 [00:04<00:00, 149.74it/s]\n"
     ]
    },
    {
     "name": "stdout",
     "output_type": "stream",
     "text": [
      "Epoch: 400, loss: 0.6951530115295003, f1: 0.323613535439591, precision: 0.19812398079128665, recall: 0.8827164374235023\n"
     ]
    },
    {
     "name": "stderr",
     "output_type": "stream",
     "text": [
      "100%|████████████████████████████████████████████████████████████| 218/218 [00:00<00:00, 503.44it/s]\n"
     ]
    },
    {
     "name": "stdout",
     "output_type": "stream",
     "text": [
      "val_loss: 0.7176056646425789, val_f1: 0.298403912464908, val_precision: 0.17992088350749344, val_recall: 0.8738764718585058\n"
     ]
    },
    {
     "name": "stderr",
     "output_type": "stream",
     "text": [
      "100%|████████████████████████████████████████████████████████████| 655/655 [00:04<00:00, 150.72it/s]\n"
     ]
    },
    {
     "name": "stdout",
     "output_type": "stream",
     "text": [
      "Epoch: 401, loss: 0.6949414221385053, f1: 0.3236677607475335, precision: 0.19824697755504656, recall: 0.8810862061631588\n"
     ]
    },
    {
     "name": "stderr",
     "output_type": "stream",
     "text": [
      "100%|████████████████████████████████████████████████████████████| 218/218 [00:00<00:00, 490.77it/s]\n"
     ]
    },
    {
     "name": "stdout",
     "output_type": "stream",
     "text": [
      "val_loss: 0.7173433730361658, val_f1: 0.29873035663493275, val_precision: 0.1800508171131988, val_recall: 0.8764139662641998\n"
     ]
    },
    {
     "name": "stderr",
     "output_type": "stream",
     "text": [
      "100%|████████████████████████████████████████████████████████████| 655/655 [00:04<00:00, 150.15it/s]\n"
     ]
    },
    {
     "name": "stdout",
     "output_type": "stream",
     "text": [
      "Epoch: 402, loss: 0.6984506019199167, f1: 0.3205029409810488, precision: 0.19608324312868008, recall: 0.8769487451051028\n"
     ]
    },
    {
     "name": "stderr",
     "output_type": "stream",
     "text": [
      "100%|████████████████████████████████████████████████████████████| 218/218 [00:00<00:00, 503.12it/s]\n"
     ]
    },
    {
     "name": "stdout",
     "output_type": "stream",
     "text": [
      "val_loss: 0.7313089184804794, val_f1: 0.2845218479760553, val_precision: 0.1695901110443637, val_recall: 0.8827941294656981\n"
     ]
    },
    {
     "name": "stderr",
     "output_type": "stream",
     "text": [
      "100%|████████████████████████████████████████████████████████████| 655/655 [00:04<00:00, 150.03it/s]\n"
     ]
    },
    {
     "name": "stdout",
     "output_type": "stream",
     "text": [
      "Epoch: 403, loss: 0.7018229540067774, f1: 0.3165350706193133, precision: 0.19284491082866684, recall: 0.8826895701521226\n"
     ]
    },
    {
     "name": "stderr",
     "output_type": "stream",
     "text": [
      "100%|████████████████████████████████████████████████████████████| 218/218 [00:00<00:00, 498.86it/s]\n"
     ]
    },
    {
     "name": "stdout",
     "output_type": "stream",
     "text": [
      "val_loss: 0.7161555292956326, val_f1: 0.30022632731470106, val_precision: 0.1812495641034404, val_recall: 0.8738307925539279\n"
     ]
    },
    {
     "name": "stderr",
     "output_type": "stream",
     "text": [
      "100%|████████████████████████████████████████████████████████████| 655/655 [00:04<00:00, 151.74it/s]\n"
     ]
    },
    {
     "name": "stdout",
     "output_type": "stream",
     "text": [
      "Epoch: 404, loss: 0.6958978841322979, f1: 0.32255632583523514, precision: 0.1972276137814722, recall: 0.8848120475543364\n"
     ]
    },
    {
     "name": "stderr",
     "output_type": "stream",
     "text": [
      "100%|████████████████████████████████████████████████████████████| 218/218 [00:00<00:00, 503.00it/s]\n"
     ]
    },
    {
     "name": "stdout",
     "output_type": "stream",
     "text": [
      "val_loss: 0.7196699129332096, val_f1: 0.2964622469557361, val_precision: 0.17862756788696443, val_recall: 0.871094155475634\n"
     ]
    },
    {
     "name": "stderr",
     "output_type": "stream",
     "text": [
      "100%|████████████████████████████████████████████████████████████| 655/655 [00:04<00:00, 149.46it/s]\n"
     ]
    },
    {
     "name": "stdout",
     "output_type": "stream",
     "text": [
      "Epoch: 405, loss: 0.6956782457482724, f1: 0.3231881077815821, precision: 0.1977030683223528, recall: 0.884755255156801\n"
     ]
    },
    {
     "name": "stderr",
     "output_type": "stream",
     "text": [
      "100%|████████████████████████████████████████████████████████████| 218/218 [00:00<00:00, 505.25it/s]\n"
     ]
    },
    {
     "name": "stdout",
     "output_type": "stream",
     "text": [
      "val_loss: 0.7179602630641482, val_f1: 0.2982719988021678, val_precision: 0.1795348332716374, val_recall: 0.8807938785181133\n"
     ]
    },
    {
     "name": "stderr",
     "output_type": "stream",
     "text": [
      "100%|████████████████████████████████████████████████████████████| 655/655 [00:04<00:00, 150.44it/s]\n"
     ]
    },
    {
     "name": "stdout",
     "output_type": "stream",
     "text": [
      "Epoch: 406, loss: 0.6929021966366368, f1: 0.3264990863374196, precision: 0.20007811373540463, recall: 0.8868837471226699\n"
     ]
    },
    {
     "name": "stderr",
     "output_type": "stream",
     "text": [
      "100%|████████████████████████████████████████████████████████████| 218/218 [00:00<00:00, 508.00it/s]\n"
     ]
    },
    {
     "name": "stdout",
     "output_type": "stream",
     "text": [
      "val_loss: 0.7156396666798023, val_f1: 0.3010358027465536, val_precision: 0.1812643262925088, val_recall: 0.8873723061806565\n"
     ]
    },
    {
     "name": "stderr",
     "output_type": "stream",
     "text": [
      "100%|████████████████████████████████████████████████████████████| 655/655 [00:04<00:00, 149.28it/s]\n"
     ]
    },
    {
     "name": "stdout",
     "output_type": "stream",
     "text": [
      "Epoch: 407, loss: 0.6923976687984612, f1: 0.3267080034169555, precision: 0.20024125698015435, recall: 0.8867618475251525\n"
     ]
    },
    {
     "name": "stderr",
     "output_type": "stream",
     "text": [
      "100%|████████████████████████████████████████████████████████████| 218/218 [00:00<00:00, 498.00it/s]\n"
     ]
    },
    {
     "name": "stdout",
     "output_type": "stream",
     "text": [
      "val_loss: 0.7187614347956596, val_f1: 0.2983184213197816, val_precision: 0.17938781815042737, val_recall: 0.885166323513066\n"
     ]
    },
    {
     "name": "stderr",
     "output_type": "stream",
     "text": [
      "100%|████████████████████████████████████████████████████████████| 655/655 [00:04<00:00, 151.90it/s]\n"
     ]
    },
    {
     "name": "stdout",
     "output_type": "stream",
     "text": [
      "Epoch: 408, loss: 0.694539513023755, f1: 0.3244660945086022, precision: 0.19879070081328618, recall: 0.8821797358170721\n"
     ]
    },
    {
     "name": "stderr",
     "output_type": "stream",
     "text": [
      "100%|████████████████████████████████████████████████████████████| 218/218 [00:00<00:00, 507.82it/s]\n"
     ]
    },
    {
     "name": "stdout",
     "output_type": "stream",
     "text": [
      "val_loss: 0.7186124756795551, val_f1: 0.29762874185942023, val_precision: 0.17915756815890654, val_recall: 0.8786556209446094\n"
     ]
    },
    {
     "name": "stderr",
     "output_type": "stream",
     "text": [
      "100%|████████████████████████████████████████████████████████████| 655/655 [00:04<00:00, 150.23it/s]\n"
     ]
    },
    {
     "name": "stdout",
     "output_type": "stream",
     "text": [
      "Epoch: 409, loss: 0.694089100925067, f1: 0.3248498676919582, precision: 0.19883567232155164, recall: 0.8869875282731675\n"
     ]
    },
    {
     "name": "stderr",
     "output_type": "stream",
     "text": [
      "100%|████████████████████████████████████████████████████████████| 218/218 [00:00<00:00, 509.23it/s]\n"
     ]
    },
    {
     "name": "stdout",
     "output_type": "stream",
     "text": [
      "val_loss: 0.7138663112023554, val_f1: 0.30176099090688707, val_precision: 0.18203393433140505, val_recall: 0.8816160010088474\n"
     ]
    },
    {
     "name": "stderr",
     "output_type": "stream",
     "text": [
      "100%|████████████████████████████████████████████████████████████| 655/655 [00:04<00:00, 151.83it/s]\n"
     ]
    },
    {
     "name": "stdout",
     "output_type": "stream",
     "text": [
      "Epoch: 410, loss: 0.6906360541591208, f1: 0.3282847472922303, precision: 0.20145762687876023, recall: 0.8861720127913788\n"
     ]
    },
    {
     "name": "stderr",
     "output_type": "stream",
     "text": [
      "100%|████████████████████████████████████████████████████████████| 218/218 [00:00<00:00, 505.69it/s]\n"
     ]
    },
    {
     "name": "stdout",
     "output_type": "stream",
     "text": [
      "val_loss: 0.7136994198374792, val_f1: 0.3016038770182149, val_precision: 0.18203617206885728, val_recall: 0.8788884662160086\n"
     ]
    },
    {
     "name": "stderr",
     "output_type": "stream",
     "text": [
      "100%|████████████████████████████████████████████████████████████| 655/655 [00:04<00:00, 151.91it/s]\n"
     ]
    },
    {
     "name": "stdout",
     "output_type": "stream",
     "text": [
      "Epoch: 411, loss: 0.6937169919487174, f1: 0.3245755371837002, precision: 0.1988084164739565, recall: 0.8834502167374123\n"
     ]
    },
    {
     "name": "stderr",
     "output_type": "stream",
     "text": [
      "100%|████████████████████████████████████████████████████████████| 218/218 [00:00<00:00, 504.11it/s]\n"
     ]
    },
    {
     "name": "stdout",
     "output_type": "stream",
     "text": [
      "val_loss: 0.7184802299245782, val_f1: 0.2977350733248016, val_precision: 0.17923928639176515, val_recall: 0.8785437545098296\n"
     ]
    },
    {
     "name": "stderr",
     "output_type": "stream",
     "text": [
      "100%|████████████████████████████████████████████████████████████| 655/655 [00:04<00:00, 149.60it/s]\n"
     ]
    },
    {
     "name": "stdout",
     "output_type": "stream",
     "text": [
      "Epoch: 412, loss: 0.6923556495258827, f1: 0.32703856929920677, precision: 0.2005715547883101, recall: 0.8851635011097857\n"
     ]
    },
    {
     "name": "stderr",
     "output_type": "stream",
     "text": [
      "100%|████████████████████████████████████████████████████████████| 218/218 [00:00<00:00, 510.75it/s]\n"
     ]
    },
    {
     "name": "stdout",
     "output_type": "stream",
     "text": [
      "val_loss: 0.7206354141235352, val_f1: 0.29524376413225817, val_precision: 0.17745780192930763, val_recall: 0.8780240337236211\n"
     ]
    },
    {
     "name": "stderr",
     "output_type": "stream",
     "text": [
      "100%|████████████████████████████████████████████████████████████| 655/655 [00:04<00:00, 149.86it/s]\n"
     ]
    },
    {
     "name": "stdout",
     "output_type": "stream",
     "text": [
      "Epoch: 413, loss: 0.6962160968598519, f1: 0.32296599036971796, precision: 0.19756651838374048, recall: 0.8841607001901582\n"
     ]
    },
    {
     "name": "stderr",
     "output_type": "stream",
     "text": [
      "100%|████████████████████████████████████████████████████████████| 218/218 [00:00<00:00, 506.35it/s]\n"
     ]
    },
    {
     "name": "stdout",
     "output_type": "stream",
     "text": [
      "val_loss: 0.7157766337788433, val_f1: 0.29980140353695695, val_precision: 0.18069116587519918, val_recall: 0.8796792563495286\n"
     ]
    },
    {
     "name": "stderr",
     "output_type": "stream",
     "text": [
      "100%|████████████████████████████████████████████████████████████| 655/655 [00:04<00:00, 149.42it/s]\n"
     ]
    },
    {
     "name": "stdout",
     "output_type": "stream",
     "text": [
      "Epoch: 414, loss: 0.6913505446819859, f1: 0.32768172355110525, precision: 0.20098220463699967, recall: 0.886588773381619\n"
     ]
    },
    {
     "name": "stderr",
     "output_type": "stream",
     "text": [
      "100%|████████████████████████████████████████████████████████████| 218/218 [00:00<00:00, 504.13it/s]\n"
     ]
    },
    {
     "name": "stdout",
     "output_type": "stream",
     "text": [
      "val_loss: 0.7131735406337528, val_f1: 0.30315868949682473, val_precision: 0.18291172739801878, val_recall: 0.884887692578342\n"
     ]
    },
    {
     "name": "stderr",
     "output_type": "stream",
     "text": [
      "100%|████████████████████████████████████████████████████████████| 655/655 [00:04<00:00, 149.95it/s]\n"
     ]
    },
    {
     "name": "stdout",
     "output_type": "stream",
     "text": [
      "Epoch: 415, loss: 0.6952062426632597, f1: 0.3234067470678356, precision: 0.19780862437177252, recall: 0.8859188381952184\n"
     ]
    },
    {
     "name": "stderr",
     "output_type": "stream",
     "text": [
      "100%|████████████████████████████████████████████████████████████| 218/218 [00:00<00:00, 513.70it/s]\n"
     ]
    },
    {
     "name": "stdout",
     "output_type": "stream",
     "text": [
      "val_loss: 0.7160038961729872, val_f1: 0.30100565765496723, val_precision: 0.18155218778742016, val_recall: 0.8800219636444652\n"
     ]
    },
    {
     "name": "stderr",
     "output_type": "stream",
     "text": [
      "100%|████████████████████████████████████████████████████████████| 655/655 [00:04<00:00, 150.13it/s]\n"
     ]
    },
    {
     "name": "stdout",
     "output_type": "stream",
     "text": [
      "Epoch: 416, loss: 0.6929199761106768, f1: 0.32578266155889785, precision: 0.19957821705584763, recall: 0.8861357468685122\n"
     ]
    },
    {
     "name": "stderr",
     "output_type": "stream",
     "text": [
      "100%|████████████████████████████████████████████████████████████| 218/218 [00:00<00:00, 508.56it/s]\n"
     ]
    },
    {
     "name": "stdout",
     "output_type": "stream",
     "text": [
      "val_loss: 0.7145531893870153, val_f1: 0.3009248402135606, val_precision: 0.1817639138156531, val_recall: 0.8737167182865493\n"
     ]
    },
    {
     "name": "stderr",
     "output_type": "stream",
     "text": [
      "100%|████████████████████████████████████████████████████████████| 655/655 [00:04<00:00, 150.27it/s]\n"
     ]
    },
    {
     "name": "stdout",
     "output_type": "stream",
     "text": [
      "Epoch: 417, loss: 0.695830637899064, f1: 0.32331638610275587, precision: 0.19775962556022725, recall: 0.8855455727067613\n"
     ]
    },
    {
     "name": "stderr",
     "output_type": "stream",
     "text": [
      "100%|████████████████████████████████████████████████████████████| 218/218 [00:00<00:00, 506.85it/s]\n"
     ]
    },
    {
     "name": "stdout",
     "output_type": "stream",
     "text": [
      "val_loss: 0.7197505435265532, val_f1: 0.29708947433070737, val_precision: 0.1787813677358518, val_recall: 0.8783065698562412\n"
     ]
    },
    {
     "name": "stderr",
     "output_type": "stream",
     "text": [
      "100%|████████████████████████████████████████████████████████████| 655/655 [00:04<00:00, 153.15it/s]\n"
     ]
    },
    {
     "name": "stdout",
     "output_type": "stream",
     "text": [
      "Epoch: 418, loss: 0.6962581272343643, f1: 0.32262560390570505, precision: 0.1973328348334509, recall: 0.8837391295505844\n"
     ]
    },
    {
     "name": "stderr",
     "output_type": "stream",
     "text": [
      "100%|████████████████████████████████████████████████████████████| 218/218 [00:00<00:00, 506.36it/s]\n"
     ]
    },
    {
     "name": "stdout",
     "output_type": "stream",
     "text": [
      "val_loss: 0.7146522602356902, val_f1: 0.3016423605994287, val_precision: 0.18223516612288054, val_recall: 0.8749263147148517\n"
     ]
    },
    {
     "name": "stderr",
     "output_type": "stream",
     "text": [
      "100%|████████████████████████████████████████████████████████████| 655/655 [00:04<00:00, 149.96it/s]\n"
     ]
    },
    {
     "name": "stdout",
     "output_type": "stream",
     "text": [
      "Epoch: 419, loss: 0.6957846643360517, f1: 0.32240506554742016, precision: 0.19724639959292103, recall: 0.8821644845809645\n"
     ]
    },
    {
     "name": "stderr",
     "output_type": "stream",
     "text": [
      "100%|████████████████████████████████████████████████████████████| 218/218 [00:00<00:00, 509.05it/s]\n"
     ]
    },
    {
     "name": "stdout",
     "output_type": "stream",
     "text": [
      "val_loss: 0.7214312668240398, val_f1: 0.2952195372931235, val_precision: 0.17741037383162922, val_recall: 0.878757463956098\n"
     ]
    },
    {
     "name": "stderr",
     "output_type": "stream",
     "text": [
      "100%|████████████████████████████████████████████████████████████| 655/655 [00:04<00:00, 150.28it/s]\n"
     ]
    },
    {
     "name": "stdout",
     "output_type": "stream",
     "text": [
      "Epoch: 420, loss: 0.6924390906596002, f1: 0.3269842231162366, precision: 0.20050041897378806, recall: 0.8857534741627351\n"
     ]
    },
    {
     "name": "stderr",
     "output_type": "stream",
     "text": [
      "100%|████████████████████████████████████████████████████████████| 218/218 [00:00<00:00, 506.89it/s]\n"
     ]
    },
    {
     "name": "stdout",
     "output_type": "stream",
     "text": [
      "val_loss: 0.7200076697616402, val_f1: 0.29586361894216007, val_precision: 0.17769438219726633, val_recall: 0.8832116676579922\n"
     ]
    },
    {
     "name": "stderr",
     "output_type": "stream",
     "text": [
      "100%|████████████████████████████████████████████████████████████| 655/655 [00:04<00:00, 152.41it/s]\n"
     ]
    },
    {
     "name": "stdout",
     "output_type": "stream",
     "text": [
      "Epoch: 421, loss: 0.69181995510145, f1: 0.32702016969703107, precision: 0.20052462100186422, recall: 0.8858086903586643\n"
     ]
    },
    {
     "name": "stderr",
     "output_type": "stream",
     "text": [
      "100%|████████████████████████████████████████████████████████████| 218/218 [00:00<00:00, 505.33it/s]\n"
     ]
    },
    {
     "name": "stdout",
     "output_type": "stream",
     "text": [
      "val_loss: 0.7139668541217069, val_f1: 0.30300609736177436, val_precision: 0.18315560373246942, val_recall: 0.8766632678858731\n"
     ]
    },
    {
     "name": "stderr",
     "output_type": "stream",
     "text": [
      "100%|████████████████████████████████████████████████████████████| 655/655 [00:04<00:00, 151.28it/s]\n"
     ]
    },
    {
     "name": "stdout",
     "output_type": "stream",
     "text": [
      "Epoch: 422, loss: 0.690267595080019, f1: 0.32918445750691433, precision: 0.2020612628433768, recall: 0.8876053093953897\n"
     ]
    },
    {
     "name": "stderr",
     "output_type": "stream",
     "text": [
      "100%|████████████████████████████████████████████████████████████| 218/218 [00:00<00:00, 513.32it/s]\n"
     ]
    },
    {
     "name": "stdout",
     "output_type": "stream",
     "text": [
      "val_loss: 0.7142444181879726, val_f1: 0.3022790042711025, val_precision: 0.18290581027849004, val_recall: 0.8702394051836171\n"
     ]
    },
    {
     "name": "stderr",
     "output_type": "stream",
     "text": [
      "100%|████████████████████████████████████████████████████████████| 655/655 [00:04<00:00, 151.82it/s]\n"
     ]
    },
    {
     "name": "stdout",
     "output_type": "stream",
     "text": [
      "Epoch: 423, loss: 0.6904450691383304, f1: 0.3286058075913956, precision: 0.2016808625452846, recall: 0.8865318616837946\n"
     ]
    },
    {
     "name": "stderr",
     "output_type": "stream",
     "text": [
      "100%|████████████████████████████████████████████████████████████| 218/218 [00:00<00:00, 507.88it/s]\n"
     ]
    },
    {
     "name": "stdout",
     "output_type": "stream",
     "text": [
      "val_loss: 0.7178804562726152, val_f1: 0.2984589546347429, val_precision: 0.17987789697261578, val_recall: 0.8758391084474161\n"
     ]
    },
    {
     "name": "stderr",
     "output_type": "stream",
     "text": [
      "100%|████████████████████████████████████████████████████████████| 655/655 [00:04<00:00, 149.83it/s]\n"
     ]
    },
    {
     "name": "stdout",
     "output_type": "stream",
     "text": [
      "Epoch: 424, loss: 0.6967157088163245, f1: 0.32082674217950974, precision: 0.19613322793641164, recall: 0.8808095847377341\n"
     ]
    },
    {
     "name": "stderr",
     "output_type": "stream",
     "text": [
      "100%|████████████████████████████████████████████████████████████| 218/218 [00:00<00:00, 503.91it/s]\n"
     ]
    },
    {
     "name": "stdout",
     "output_type": "stream",
     "text": [
      "val_loss: 0.7116942315473469, val_f1: 0.3044153010677393, val_precision: 0.18381406954669077, val_recall: 0.8851970117026513\n"
     ]
    },
    {
     "name": "stderr",
     "output_type": "stream",
     "text": [
      "100%|████████████████████████████████████████████████████████████| 655/655 [00:04<00:00, 152.24it/s]\n"
     ]
    },
    {
     "name": "stdout",
     "output_type": "stream",
     "text": [
      "Epoch: 425, loss: 0.6927283978644219, f1: 0.3259921899613584, precision: 0.19976208835612727, recall: 0.8856129629011372\n"
     ]
    },
    {
     "name": "stderr",
     "output_type": "stream",
     "text": [
      "100%|████████████████████████████████████████████████████████████| 218/218 [00:00<00:00, 496.13it/s]\n"
     ]
    },
    {
     "name": "stdout",
     "output_type": "stream",
     "text": [
      "val_loss: 0.7141897538933185, val_f1: 0.3022044969404318, val_precision: 0.18271408215541085, val_recall: 0.873359923242429\n"
     ]
    },
    {
     "name": "stderr",
     "output_type": "stream",
     "text": [
      "100%|████████████████████████████████████████████████████████████| 655/655 [00:04<00:00, 151.97it/s]\n"
     ]
    },
    {
     "name": "stdout",
     "output_type": "stream",
     "text": [
      "Epoch: 426, loss: 0.6931492947440111, f1: 0.3261924397199881, precision: 0.19993365626526244, recall: 0.8851979600564214\n"
     ]
    },
    {
     "name": "stderr",
     "output_type": "stream",
     "text": [
      "100%|████████████████████████████████████████████████████████████| 218/218 [00:00<00:00, 507.62it/s]\n"
     ]
    },
    {
     "name": "stdout",
     "output_type": "stream",
     "text": [
      "val_loss: 0.718475310080642, val_f1: 0.29774492552773524, val_precision: 0.17924165893175187, val_recall: 0.8786583302217886\n"
     ]
    },
    {
     "name": "stderr",
     "output_type": "stream",
     "text": [
      "100%|████████████████████████████████████████████████████████████| 655/655 [00:04<00:00, 148.87it/s]\n"
     ]
    },
    {
     "name": "stdout",
     "output_type": "stream",
     "text": [
      "Epoch: 427, loss: 0.6956994984896129, f1: 0.3228948901371144, precision: 0.19763447707732215, recall: 0.881740767628182\n"
     ]
    },
    {
     "name": "stderr",
     "output_type": "stream",
     "text": [
      "100%|████████████████████████████████████████████████████████████| 218/218 [00:00<00:00, 500.60it/s]\n"
     ]
    },
    {
     "name": "stdout",
     "output_type": "stream",
     "text": [
      "val_loss: 0.7190796557916413, val_f1: 0.2972259842472714, val_precision: 0.17907193051907447, val_recall: 0.8737144760035593\n"
     ]
    },
    {
     "name": "stderr",
     "output_type": "stream",
     "text": [
      "100%|████████████████████████████████████████████████████████████| 655/655 [00:04<00:00, 151.16it/s]\n"
     ]
    },
    {
     "name": "stdout",
     "output_type": "stream",
     "text": [
      "Epoch: 428, loss: 0.6916204062126975, f1: 0.3277508916324097, precision: 0.20113289143236085, recall: 0.8846753100402482\n"
     ]
    },
    {
     "name": "stderr",
     "output_type": "stream",
     "text": [
      "100%|████████████████████████████████████████████████████████████| 218/218 [00:00<00:00, 507.03it/s]\n"
     ]
    },
    {
     "name": "stdout",
     "output_type": "stream",
     "text": [
      "val_loss: 0.7136666684522541, val_f1: 0.30334838111073664, val_precision: 0.1832637033861028, val_recall: 0.8799241070353657\n"
     ]
    },
    {
     "name": "stderr",
     "output_type": "stream",
     "text": [
      "100%|████████████████████████████████████████████████████████████| 655/655 [00:04<00:00, 149.73it/s]\n"
     ]
    },
    {
     "name": "stdout",
     "output_type": "stream",
     "text": [
      "Epoch: 429, loss: 0.6932150207403052, f1: 0.32590264488283693, precision: 0.19981319763562608, recall: 0.8832926872122379\n"
     ]
    },
    {
     "name": "stderr",
     "output_type": "stream",
     "text": [
      "100%|████████████████████████████████████████████████████████████| 218/218 [00:00<00:00, 508.50it/s]\n"
     ]
    },
    {
     "name": "stdout",
     "output_type": "stream",
     "text": [
      "val_loss: 0.7187256279888503, val_f1: 0.2985841994002025, val_precision: 0.1794192672134676, val_recall: 0.8890938425282819\n"
     ]
    },
    {
     "name": "stderr",
     "output_type": "stream",
     "text": [
      "100%|████████████████████████████████████████████████████████████| 655/655 [00:04<00:00, 151.22it/s]\n"
     ]
    },
    {
     "name": "stdout",
     "output_type": "stream",
     "text": [
      "Epoch: 430, loss: 0.6975401705457964, f1: 0.3209006023733117, precision: 0.1959768135356539, recall: 0.8851006383204278\n"
     ]
    },
    {
     "name": "stderr",
     "output_type": "stream",
     "text": [
      "100%|████████████████████████████████████████████████████████████| 218/218 [00:00<00:00, 509.58it/s]\n"
     ]
    },
    {
     "name": "stdout",
     "output_type": "stream",
     "text": [
      "val_loss: 0.7165233038981026, val_f1: 0.3004467153193349, val_precision: 0.18088978623817548, val_recall: 0.8861113704672647\n"
     ]
    },
    {
     "name": "stderr",
     "output_type": "stream",
     "text": [
      "100%|████████████████████████████████████████████████████████████| 655/655 [00:04<00:00, 150.46it/s]\n"
     ]
    },
    {
     "name": "stdout",
     "output_type": "stream",
     "text": [
      "Epoch: 431, loss: 0.6927627606246307, f1: 0.32608017999526206, precision: 0.1998542341936863, recall: 0.8851014478516033\n"
     ]
    },
    {
     "name": "stderr",
     "output_type": "stream",
     "text": [
      "100%|████████████████████████████████████████████████████████████| 218/218 [00:00<00:00, 509.27it/s]\n"
     ]
    },
    {
     "name": "stdout",
     "output_type": "stream",
     "text": [
      "val_loss: 0.7133937502672912, val_f1: 0.3026483609314598, val_precision: 0.18259856499594831, val_recall: 0.8835210865790691\n"
     ]
    },
    {
     "name": "stderr",
     "output_type": "stream",
     "text": [
      "100%|████████████████████████████████████████████████████████████| 655/655 [00:04<00:00, 150.02it/s]\n"
     ]
    },
    {
     "name": "stdout",
     "output_type": "stream",
     "text": [
      "Epoch: 432, loss: 0.692344417644821, f1: 0.326813719122935, precision: 0.20048683632364256, recall: 0.8835206267032915\n"
     ]
    },
    {
     "name": "stderr",
     "output_type": "stream",
     "text": [
      "100%|████████████████████████████████████████████████████████████| 218/218 [00:00<00:00, 511.39it/s]\n"
     ]
    },
    {
     "name": "stdout",
     "output_type": "stream",
     "text": [
      "val_loss: 0.716961212934704, val_f1: 0.2993040176781702, val_precision: 0.18032708405217993, val_recall: 0.8797471624448758\n"
     ]
    },
    {
     "name": "stderr",
     "output_type": "stream",
     "text": [
      "100%|████████████████████████████████████████████████████████████| 655/655 [00:04<00:00, 150.38it/s]\n"
     ]
    },
    {
     "name": "stdout",
     "output_type": "stream",
     "text": [
      "Epoch: 433, loss: 0.6906126231637619, f1: 0.32859668722687085, precision: 0.20174216920410404, recall: 0.8852168205130191\n"
     ]
    },
    {
     "name": "stderr",
     "output_type": "stream",
     "text": [
      "100%|████████████████████████████████████████████████████████████| 218/218 [00:00<00:00, 509.06it/s]\n"
     ]
    },
    {
     "name": "stdout",
     "output_type": "stream",
     "text": [
      "val_loss: 0.7101968997115389, val_f1: 0.30619127301353316, val_precision: 0.18537059396402825, val_recall: 0.8793018274350998\n"
     ]
    },
    {
     "name": "stderr",
     "output_type": "stream",
     "text": [
      "100%|████████████████████████████████████████████████████████████| 655/655 [00:04<00:00, 150.90it/s]\n"
     ]
    },
    {
     "name": "stdout",
     "output_type": "stream",
     "text": [
      "Epoch: 434, loss: 0.6918897343045882, f1: 0.3267644043986438, precision: 0.20034684991847923, recall: 0.8855247260050009\n"
     ]
    },
    {
     "name": "stderr",
     "output_type": "stream",
     "text": [
      "100%|████████████████████████████████████████████████████████████| 218/218 [00:00<00:00, 509.16it/s]\n"
     ]
    },
    {
     "name": "stdout",
     "output_type": "stream",
     "text": [
      "val_loss: 0.7170861822749497, val_f1: 0.29942339171072063, val_precision: 0.18033796525773926, val_recall: 0.881553748878864\n"
     ]
    },
    {
     "name": "stderr",
     "output_type": "stream",
     "text": [
      "100%|████████████████████████████████████████████████████████████| 655/655 [00:04<00:00, 149.98it/s]\n"
     ]
    },
    {
     "name": "stdout",
     "output_type": "stream",
     "text": [
      "Epoch: 435, loss: 0.6877198143769766, f1: 0.331760940328353, precision: 0.2039733298407256, recall: 0.8882292414439543\n"
     ]
    },
    {
     "name": "stderr",
     "output_type": "stream",
     "text": [
      "100%|████████████████████████████████████████████████████████████| 218/218 [00:00<00:00, 510.67it/s]\n"
     ]
    },
    {
     "name": "stdout",
     "output_type": "stream",
     "text": [
      "val_loss: 0.7150246468159037, val_f1: 0.3012666010353052, val_precision: 0.1816449248565173, val_recall: 0.8823070424959201\n"
     ]
    },
    {
     "name": "stderr",
     "output_type": "stream",
     "text": [
      "100%|████████████████████████████████████████████████████████████| 655/655 [00:04<00:00, 150.46it/s]\n"
     ]
    },
    {
     "name": "stdout",
     "output_type": "stream",
     "text": [
      "Epoch: 436, loss: 0.6888552784009744, f1: 0.33006208751274047, precision: 0.20269133974975756, recall: 0.8882129701039263\n"
     ]
    },
    {
     "name": "stderr",
     "output_type": "stream",
     "text": [
      "100%|████████████████████████████████████████████████████████████| 218/218 [00:00<00:00, 501.13it/s]\n"
     ]
    },
    {
     "name": "stdout",
     "output_type": "stream",
     "text": [
      "val_loss: 0.715462444298858, val_f1: 0.30134690550261717, val_precision: 0.181659053327567, val_recall: 0.8833521467830063\n"
     ]
    },
    {
     "name": "stderr",
     "output_type": "stream",
     "text": [
      "100%|████████████████████████████████████████████████████████████| 655/655 [00:04<00:00, 151.74it/s]\n"
     ]
    },
    {
     "name": "stdout",
     "output_type": "stream",
     "text": [
      "Epoch: 437, loss: 0.6891583062310255, f1: 0.33005498432631236, precision: 0.20264818472716645, recall: 0.8889395552737113\n"
     ]
    },
    {
     "name": "stderr",
     "output_type": "stream",
     "text": [
      "100%|████████████████████████████████████████████████████████████| 218/218 [00:00<00:00, 506.48it/s]\n"
     ]
    },
    {
     "name": "stdout",
     "output_type": "stream",
     "text": [
      "val_loss: 0.7136750109151963, val_f1: 0.3029259587821093, val_precision: 0.18287733959358768, val_recall: 0.8817351854175602\n"
     ]
    },
    {
     "name": "stderr",
     "output_type": "stream",
     "text": [
      "100%|████████████████████████████████████████████████████████████| 655/655 [00:04<00:00, 151.48it/s]\n"
     ]
    },
    {
     "name": "stdout",
     "output_type": "stream",
     "text": [
      "Epoch: 438, loss: 0.6979365114037317, f1: 0.32008712550130475, precision: 0.19536883449679568, recall: 0.8851318837122153\n"
     ]
    },
    {
     "name": "stderr",
     "output_type": "stream",
     "text": [
      "100%|████████████████████████████████████████████████████████████| 218/218 [00:00<00:00, 511.69it/s]\n"
     ]
    },
    {
     "name": "stdout",
     "output_type": "stream",
     "text": [
      "val_loss: 0.7146120973683279, val_f1: 0.3012388536218637, val_precision: 0.18155497179255572, val_recall: 0.8839574606593595\n"
     ]
    },
    {
     "name": "stderr",
     "output_type": "stream",
     "text": [
      "100%|████████████████████████████████████████████████████████████| 655/655 [00:04<00:00, 151.67it/s]\n"
     ]
    },
    {
     "name": "stdout",
     "output_type": "stream",
     "text": [
      "Epoch: 439, loss: 0.6926236877914603, f1: 0.32598448673800273, precision: 0.19971860876690795, recall: 0.886354631959027\n"
     ]
    },
    {
     "name": "stderr",
     "output_type": "stream",
     "text": [
      "100%|████████████████████████████████████████████████████████████| 218/218 [00:00<00:00, 504.46it/s]\n"
     ]
    },
    {
     "name": "stdout",
     "output_type": "stream",
     "text": [
      "val_loss: 0.7161324631183519, val_f1: 0.2997984955458685, val_precision: 0.18069403183672134, val_recall: 0.8795612722361853\n"
     ]
    },
    {
     "name": "stderr",
     "output_type": "stream",
     "text": [
      "100%|████████████████████████████████████████████████████████████| 655/655 [00:04<00:00, 149.81it/s]\n"
     ]
    },
    {
     "name": "stdout",
     "output_type": "stream",
     "text": [
      "Epoch: 440, loss: 0.6909182541242993, f1: 0.328377269226251, precision: 0.20148322927758439, recall: 0.8870254955218948\n"
     ]
    },
    {
     "name": "stderr",
     "output_type": "stream",
     "text": [
      "100%|████████████████████████████████████████████████████████████| 218/218 [00:00<00:00, 514.45it/s]\n"
     ]
    },
    {
     "name": "stdout",
     "output_type": "stream",
     "text": [
      "val_loss: 0.714292803762156, val_f1: 0.3011720769128987, val_precision: 0.18149705895077473, val_recall: 0.8841805499081218\n"
     ]
    },
    {
     "name": "stderr",
     "output_type": "stream",
     "text": [
      "100%|████████████████████████████████████████████████████████████| 655/655 [00:04<00:00, 150.82it/s]\n"
     ]
    },
    {
     "name": "stdout",
     "output_type": "stream",
     "text": [
      "Epoch: 441, loss: 0.6943672783502186, f1: 0.32451937130190955, precision: 0.19872205825593636, recall: 0.8843247545584467\n"
     ]
    },
    {
     "name": "stderr",
     "output_type": "stream",
     "text": [
      "100%|████████████████████████████████████████████████████████████| 218/218 [00:00<00:00, 506.05it/s]\n"
     ]
    },
    {
     "name": "stdout",
     "output_type": "stream",
     "text": [
      "val_loss: 0.7223070559151675, val_f1: 0.294433802703619, val_precision: 0.17660364430021802, val_recall: 0.8847200700996118\n"
     ]
    },
    {
     "name": "stderr",
     "output_type": "stream",
     "text": [
      "100%|████████████████████████████████████████████████████████████| 655/655 [00:04<00:00, 152.57it/s]\n"
     ]
    },
    {
     "name": "stdout",
     "output_type": "stream",
     "text": [
      "Epoch: 442, loss: 0.6931183189836168, f1: 0.325762334488816, precision: 0.19953099345603517, recall: 0.8867665818629374\n"
     ]
    },
    {
     "name": "stderr",
     "output_type": "stream",
     "text": [
      "100%|████████████████████████████████████████████████████████████| 218/218 [00:00<00:00, 505.79it/s]\n"
     ]
    },
    {
     "name": "stdout",
     "output_type": "stream",
     "text": [
      "val_loss: 0.7142404758055275, val_f1: 0.30211012181479263, val_precision: 0.18218893584274098, val_recall: 0.8839426784340395\n"
     ]
    },
    {
     "name": "stderr",
     "output_type": "stream",
     "text": [
      "100%|████████████████████████████████████████████████████████████| 655/655 [00:04<00:00, 151.01it/s]\n"
     ]
    },
    {
     "name": "stdout",
     "output_type": "stream",
     "text": [
      "Epoch: 443, loss: 0.68828459750605, f1: 0.331143979001268, precision: 0.20353830611717155, recall: 0.8876352853447427\n"
     ]
    },
    {
     "name": "stderr",
     "output_type": "stream",
     "text": [
      "100%|████████████████████████████████████████████████████████████| 218/218 [00:00<00:00, 511.06it/s]\n"
     ]
    },
    {
     "name": "stdout",
     "output_type": "stream",
     "text": [
      "val_loss: 0.7129825698126346, val_f1: 0.30258060748153004, val_precision: 0.18263006188966538, val_recall: 0.8816327619443246\n"
     ]
    },
    {
     "name": "stderr",
     "output_type": "stream",
     "text": [
      "100%|████████████████████████████████████████████████████████████| 655/655 [00:04<00:00, 149.97it/s]\n"
     ]
    },
    {
     "name": "stdout",
     "output_type": "stream",
     "text": [
      "Epoch: 444, loss: 0.6874971083102336, f1: 0.3315927495221847, precision: 0.20383606514118555, recall: 0.8884215488688636\n"
     ]
    },
    {
     "name": "stderr",
     "output_type": "stream",
     "text": [
      "100%|████████████████████████████████████████████████████████████| 218/218 [00:00<00:00, 503.90it/s]\n"
     ]
    },
    {
     "name": "stdout",
     "output_type": "stream",
     "text": [
      "val_loss: 0.7177539987301608, val_f1: 0.2991079362183257, val_precision: 0.1800308308965706, val_recall: 0.8834349299789569\n"
     ]
    },
    {
     "name": "stderr",
     "output_type": "stream",
     "text": [
      "100%|████████████████████████████████████████████████████████████| 655/655 [00:04<00:00, 150.30it/s]\n"
     ]
    },
    {
     "name": "stdout",
     "output_type": "stream",
     "text": [
      "Epoch: 445, loss: 0.6924564056724083, f1: 0.3264778407638446, precision: 0.20011650990154453, recall: 0.8858171982619598\n"
     ]
    },
    {
     "name": "stderr",
     "output_type": "stream",
     "text": [
      "100%|████████████████████████████████████████████████████████████| 218/218 [00:00<00:00, 507.45it/s]\n"
     ]
    },
    {
     "name": "stdout",
     "output_type": "stream",
     "text": [
      "val_loss: 0.7117237224491364, val_f1: 0.3041389516822351, val_precision: 0.18378093043222613, val_recall: 0.8813051977835664\n"
     ]
    },
    {
     "name": "stderr",
     "output_type": "stream",
     "text": [
      "100%|████████████████████████████████████████████████████████████| 655/655 [00:04<00:00, 152.19it/s]\n"
     ]
    },
    {
     "name": "stdout",
     "output_type": "stream",
     "text": [
      "Epoch: 446, loss: 0.690618460050976, f1: 0.3283497921076024, precision: 0.20154743908357073, recall: 0.8853834173151555\n"
     ]
    },
    {
     "name": "stderr",
     "output_type": "stream",
     "text": [
      "100%|████████████████████████████████████████████████████████████| 218/218 [00:00<00:00, 510.18it/s]\n"
     ]
    },
    {
     "name": "stdout",
     "output_type": "stream",
     "text": [
      "val_loss: 0.7106505350782237, val_f1: 0.30595730799851767, val_precision: 0.18502028912750132, val_recall: 0.8833555054227147\n"
     ]
    },
    {
     "name": "stderr",
     "output_type": "stream",
     "text": [
      "100%|████████████████████████████████████████████████████████████| 655/655 [00:04<00:00, 151.91it/s]\n"
     ]
    },
    {
     "name": "stdout",
     "output_type": "stream",
     "text": [
      "Epoch: 447, loss: 0.6925201520665001, f1: 0.3264981125567694, precision: 0.2002806747346434, recall: 0.8829112122077069\n"
     ]
    },
    {
     "name": "stderr",
     "output_type": "stream",
     "text": [
      "100%|████████████████████████████████████████████████████████████| 218/218 [00:00<00:00, 511.77it/s]\n"
     ]
    },
    {
     "name": "stdout",
     "output_type": "stream",
     "text": [
      "val_loss: 0.7180894758176366, val_f1: 0.2973671977254923, val_precision: 0.17900954985803147, val_recall: 0.8776570307005436\n"
     ]
    },
    {
     "name": "stderr",
     "output_type": "stream",
     "text": [
      "100%|████████████████████████████████████████████████████████████| 655/655 [00:04<00:00, 152.68it/s]\n"
     ]
    },
    {
     "name": "stdout",
     "output_type": "stream",
     "text": [
      "Epoch: 448, loss: 0.6933671648265751, f1: 0.32523505511845413, precision: 0.19922846054359702, recall: 0.884927999154302\n"
     ]
    },
    {
     "name": "stderr",
     "output_type": "stream",
     "text": [
      "100%|████████████████████████████████████████████████████████████| 218/218 [00:00<00:00, 508.93it/s]\n"
     ]
    },
    {
     "name": "stdout",
     "output_type": "stream",
     "text": [
      "val_loss: 0.7139205861529079, val_f1: 0.30302389425857745, val_precision: 0.18295553098475442, val_recall: 0.8815772675592964\n"
     ]
    },
    {
     "name": "stderr",
     "output_type": "stream",
     "text": [
      "100%|████████████████████████████████████████████████████████████| 655/655 [00:04<00:00, 151.14it/s]\n"
     ]
    },
    {
     "name": "stdout",
     "output_type": "stream",
     "text": [
      "Epoch: 449, loss: 0.6942369232650931, f1: 0.3240674186059989, precision: 0.19836375825107097, recall: 0.8847115947090033\n"
     ]
    },
    {
     "name": "stderr",
     "output_type": "stream",
     "text": [
      "100%|████████████████████████████████████████████████████████████| 218/218 [00:00<00:00, 501.08it/s]\n"
     ]
    },
    {
     "name": "stdout",
     "output_type": "stream",
     "text": [
      "val_loss: 0.7201134278139937, val_f1: 0.2960980944714145, val_precision: 0.17784409471915677, val_recall: 0.8836921234743311\n"
     ]
    },
    {
     "name": "stderr",
     "output_type": "stream",
     "text": [
      "100%|████████████████████████████████████████████████████████████| 655/655 [00:04<00:00, 155.17it/s]\n"
     ]
    },
    {
     "name": "stdout",
     "output_type": "stream",
     "text": [
      "Epoch: 450, loss: 0.6948274030940224, f1: 0.3238430625031794, precision: 0.1981154046668351, recall: 0.8863143582380455\n"
     ]
    },
    {
     "name": "stderr",
     "output_type": "stream",
     "text": [
      "100%|████████████████████████████████████████████████████████████| 218/218 [00:00<00:00, 504.91it/s]\n"
     ]
    },
    {
     "name": "stdout",
     "output_type": "stream",
     "text": [
      "val_loss: 0.7113161740499899, val_f1: 0.30512670684605137, val_precision: 0.1843456849541276, val_recall: 0.8849066299036008\n"
     ]
    },
    {
     "name": "stderr",
     "output_type": "stream",
     "text": [
      "100%|████████████████████████████████████████████████████████████| 655/655 [00:04<00:00, 150.48it/s]\n"
     ]
    },
    {
     "name": "stdout",
     "output_type": "stream",
     "text": [
      "Epoch: 451, loss: 0.6917125364296309, f1: 0.3268138077716495, precision: 0.20027086673915842, recall: 0.8877407565371681\n"
     ]
    },
    {
     "name": "stderr",
     "output_type": "stream",
     "text": [
      "100%|████████████████████████████████████████████████████████████| 218/218 [00:00<00:00, 508.46it/s]\n"
     ]
    },
    {
     "name": "stdout",
     "output_type": "stream",
     "text": [
      "val_loss: 0.7154123821389784, val_f1: 0.3004883403866559, val_precision: 0.18108316631389593, val_recall: 0.8822171108438335\n"
     ]
    },
    {
     "name": "stderr",
     "output_type": "stream",
     "text": [
      "100%|████████████████████████████████████████████████████████████| 655/655 [00:04<00:00, 150.25it/s]\n"
     ]
    },
    {
     "name": "stdout",
     "output_type": "stream",
     "text": [
      "Epoch: 452, loss: 0.6910074511557135, f1: 0.3276802539069549, precision: 0.20106548127213508, recall: 0.8849504479015147\n"
     ]
    },
    {
     "name": "stderr",
     "output_type": "stream",
     "text": [
      "100%|████████████████████████████████████████████████████████████| 218/218 [00:00<00:00, 509.46it/s]\n"
     ]
    },
    {
     "name": "stdout",
     "output_type": "stream",
     "text": [
      "val_loss: 0.7137944260868457, val_f1: 0.30262844456094135, val_precision: 0.1830388079952756, val_recall: 0.8730255811039461\n"
     ]
    },
    {
     "name": "stderr",
     "output_type": "stream",
     "text": [
      "100%|████████████████████████████████████████████████████████████| 655/655 [00:04<00:00, 148.76it/s]\n"
     ]
    },
    {
     "name": "stdout",
     "output_type": "stream",
     "text": [
      "Epoch: 453, loss: 0.6907846148687464, f1: 0.32778045810398115, precision: 0.20102836186819859, recall: 0.8871362606077704\n"
     ]
    },
    {
     "name": "stderr",
     "output_type": "stream",
     "text": [
      "100%|████████████████████████████████████████████████████████████| 218/218 [00:00<00:00, 505.12it/s]\n"
     ]
    },
    {
     "name": "stdout",
     "output_type": "stream",
     "text": [
      "val_loss: 0.7168612190342825, val_f1: 0.3000894527560873, val_precision: 0.18076485058788314, val_recall: 0.8829004843847468\n"
     ]
    },
    {
     "name": "stderr",
     "output_type": "stream",
     "text": [
      "100%|████████████████████████████████████████████████████████████| 655/655 [00:04<00:00, 152.13it/s]\n"
     ]
    },
    {
     "name": "stdout",
     "output_type": "stream",
     "text": [
      "Epoch: 454, loss: 0.6918115716854124, f1: 0.32700853181445466, precision: 0.20058362259892107, recall: 0.884488860978425\n"
     ]
    },
    {
     "name": "stderr",
     "output_type": "stream",
     "text": [
      "100%|████████████████████████████████████████████████████████████| 218/218 [00:00<00:00, 499.36it/s]\n"
     ]
    },
    {
     "name": "stdout",
     "output_type": "stream",
     "text": [
      "val_loss: 0.719884569765231, val_f1: 0.2957794738602662, val_precision: 0.17809620339833543, val_recall: 0.8719523912722912\n"
     ]
    },
    {
     "name": "stderr",
     "output_type": "stream",
     "text": [
      "100%|████████████████████████████████████████████████████████████| 655/655 [00:04<00:00, 150.39it/s]\n"
     ]
    },
    {
     "name": "stdout",
     "output_type": "stream",
     "text": [
      "Epoch: 455, loss: 0.6910738960477232, f1: 0.3272873033668488, precision: 0.20064893584442503, recall: 0.8873036733110442\n"
     ]
    },
    {
     "name": "stderr",
     "output_type": "stream",
     "text": [
      "100%|████████████████████████████████████████████████████████████| 218/218 [00:00<00:00, 509.65it/s]\n"
     ]
    },
    {
     "name": "stdout",
     "output_type": "stream",
     "text": [
      "val_loss: 0.7123934807033714, val_f1: 0.30371809153941925, val_precision: 0.1836508708245574, val_recall: 0.8772395403560148\n"
     ]
    },
    {
     "name": "stderr",
     "output_type": "stream",
     "text": [
      "100%|████████████████████████████████████████████████████████████| 655/655 [00:04<00:00, 150.44it/s]\n"
     ]
    },
    {
     "name": "stdout",
     "output_type": "stream",
     "text": [
      "Epoch: 456, loss: 0.6885337106144155, f1: 0.3301489042855813, precision: 0.20289055003805925, recall: 0.8856557988938485\n"
     ]
    },
    {
     "name": "stderr",
     "output_type": "stream",
     "text": [
      "100%|████████████████████████████████████████████████████████████| 218/218 [00:00<00:00, 507.82it/s]\n"
     ]
    },
    {
     "name": "stdout",
     "output_type": "stream",
     "text": [
      "val_loss: 0.7097424323405694, val_f1: 0.3064914675985254, val_precision: 0.18571706435754212, val_recall: 0.8764761812096342\n"
     ]
    },
    {
     "name": "stderr",
     "output_type": "stream",
     "text": [
      "100%|████████████████████████████████████████████████████████████| 655/655 [00:04<00:00, 152.50it/s]\n"
     ]
    },
    {
     "name": "stdout",
     "output_type": "stream",
     "text": [
      "Epoch: 457, loss: 0.6893387462346608, f1: 0.3295159751053299, precision: 0.20242938459317647, recall: 0.8853363731435238\n"
     ]
    },
    {
     "name": "stderr",
     "output_type": "stream",
     "text": [
      "100%|████████████████████████████████████████████████████████████| 218/218 [00:00<00:00, 504.75it/s]\n"
     ]
    },
    {
     "name": "stdout",
     "output_type": "stream",
     "text": [
      "val_loss: 0.7167741743796462, val_f1: 0.30057046722311637, val_precision: 0.18102028635287776, val_recall: 0.8851351664153808\n"
     ]
    },
    {
     "name": "stderr",
     "output_type": "stream",
     "text": [
      "100%|████████████████████████████████████████████████████████████| 655/655 [00:04<00:00, 150.11it/s]\n"
     ]
    },
    {
     "name": "stdout",
     "output_type": "stream",
     "text": [
      "Epoch: 458, loss: 0.6946659180954212, f1: 0.3241272348307515, precision: 0.1984477542653566, recall: 0.8839335960286264\n"
     ]
    },
    {
     "name": "stderr",
     "output_type": "stream",
     "text": [
      "100%|████████████████████████████████████████████████████████████| 218/218 [00:00<00:00, 506.88it/s]\n"
     ]
    },
    {
     "name": "stdout",
     "output_type": "stream",
     "text": [
      "val_loss: 0.7131833409497498, val_f1: 0.30346550878243306, val_precision: 0.18338160904619946, val_recall: 0.8791786290090019\n"
     ]
    },
    {
     "name": "stderr",
     "output_type": "stream",
     "text": [
      "100%|████████████████████████████████████████████████████████████| 655/655 [00:04<00:00, 151.15it/s]\n"
     ]
    },
    {
     "name": "stdout",
     "output_type": "stream",
     "text": [
      "Epoch: 459, loss: 0.6970063806490133, f1: 0.321220068615735, precision: 0.19621578575261223, recall: 0.8850880209726232\n"
     ]
    },
    {
     "name": "stderr",
     "output_type": "stream",
     "text": [
      "100%|████████████████████████████████████████████████████████████| 218/218 [00:00<00:00, 504.13it/s]\n"
     ]
    },
    {
     "name": "stdout",
     "output_type": "stream",
     "text": [
      "val_loss: 0.7163481315888396, val_f1: 0.29968962534187144, val_precision: 0.18047809774278228, val_recall: 0.8828209799910904\n"
     ]
    },
    {
     "name": "stderr",
     "output_type": "stream",
     "text": [
      "100%|████████████████████████████████████████████████████████████| 655/655 [00:04<00:00, 152.14it/s]\n"
     ]
    },
    {
     "name": "stdout",
     "output_type": "stream",
     "text": [
      "Epoch: 460, loss: 0.6891151004165184, f1: 0.32992668120065705, precision: 0.20261997093965534, recall: 0.8876223649687439\n"
     ]
    },
    {
     "name": "stderr",
     "output_type": "stream",
     "text": [
      "100%|████████████████████████████████████████████████████████████| 218/218 [00:00<00:00, 508.63it/s]\n"
     ]
    },
    {
     "name": "stdout",
     "output_type": "stream",
     "text": [
      "val_loss: 0.7089467275580135, val_f1: 0.30730978070270476, val_precision: 0.1861845847014167, val_recall: 0.879447917325781\n"
     ]
    },
    {
     "name": "stderr",
     "output_type": "stream",
     "text": [
      "100%|████████████████████████████████████████████████████████████| 655/655 [00:04<00:00, 150.63it/s]\n"
     ]
    },
    {
     "name": "stdout",
     "output_type": "stream",
     "text": [
      "Epoch: 461, loss: 0.6893060877122952, f1: 0.3297258289050762, precision: 0.20252419854336567, recall: 0.8865531387219903\n"
     ]
    },
    {
     "name": "stderr",
     "output_type": "stream",
     "text": [
      "100%|████████████████████████████████████████████████████████████| 218/218 [00:00<00:00, 504.41it/s]\n"
     ]
    },
    {
     "name": "stdout",
     "output_type": "stream",
     "text": [
      "val_loss: 0.7132379295082267, val_f1: 0.3035355942034195, val_precision: 0.18305901540528743, val_recall: 0.8878677473702562\n"
     ]
    },
    {
     "name": "stderr",
     "output_type": "stream",
     "text": [
      "100%|████████████████████████████████████████████████████████████| 655/655 [00:04<00:00, 151.80it/s]\n"
     ]
    },
    {
     "name": "stdout",
     "output_type": "stream",
     "text": [
      "Epoch: 462, loss: 0.6898506179110695, f1: 0.3292885449666138, precision: 0.20220332871411592, recall: 0.8863806306860829\n"
     ]
    },
    {
     "name": "stderr",
     "output_type": "stream",
     "text": [
      "100%|████████████████████████████████████████████████████████████| 218/218 [00:00<00:00, 505.66it/s]\n"
     ]
    },
    {
     "name": "stdout",
     "output_type": "stream",
     "text": [
      "val_loss: 0.7114380436752914, val_f1: 0.30504786426848257, val_precision: 0.18459784966645712, val_recall: 0.877834454315518\n"
     ]
    },
    {
     "name": "stderr",
     "output_type": "stream",
     "text": [
      "100%|████████████████████████████████████████████████████████████| 655/655 [00:04<00:00, 151.72it/s]\n"
     ]
    },
    {
     "name": "stdout",
     "output_type": "stream",
     "text": [
      "Epoch: 463, loss: 0.6959885517149481, f1: 0.32261009495563386, precision: 0.19759149741068596, recall: 0.8783583384433775\n"
     ]
    },
    {
     "name": "stderr",
     "output_type": "stream",
     "text": [
      "100%|████████████████████████████████████████████████████████████| 218/218 [00:00<00:00, 512.76it/s]\n"
     ]
    },
    {
     "name": "stdout",
     "output_type": "stream",
     "text": [
      "val_loss: 0.7129101066961201, val_f1: 0.3036997710526559, val_precision: 0.18369381548409616, val_recall: 0.8759561049828836\n"
     ]
    },
    {
     "name": "stderr",
     "output_type": "stream",
     "text": [
      "100%|████████████████████████████████████████████████████████████| 655/655 [00:04<00:00, 149.05it/s]\n"
     ]
    },
    {
     "name": "stdout",
     "output_type": "stream",
     "text": [
      "Epoch: 464, loss: 0.6896372972553922, f1: 0.32948429413986596, precision: 0.20233907199372317, recall: 0.8866090304978931\n"
     ]
    },
    {
     "name": "stderr",
     "output_type": "stream",
     "text": [
      "100%|████████████████████████████████████████████████████████████| 218/218 [00:00<00:00, 509.29it/s]\n"
     ]
    },
    {
     "name": "stdout",
     "output_type": "stream",
     "text": [
      "val_loss: 0.7170496839995778, val_f1: 0.30011084953800266, val_precision: 0.1811543046368645, val_recall: 0.8740889140225332\n"
     ]
    },
    {
     "name": "stderr",
     "output_type": "stream",
     "text": [
      "100%|████████████████████████████████████████████████████████████| 655/655 [00:04<00:00, 149.24it/s]\n"
     ]
    },
    {
     "name": "stdout",
     "output_type": "stream",
     "text": [
      "Epoch: 465, loss: 0.6897600481528362, f1: 0.32927092697467997, precision: 0.2022349350780021, recall: 0.8855188879347939\n"
     ]
    },
    {
     "name": "stderr",
     "output_type": "stream",
     "text": [
      "100%|████████████████████████████████████████████████████████████| 218/218 [00:00<00:00, 510.23it/s]\n"
     ]
    },
    {
     "name": "stdout",
     "output_type": "stream",
     "text": [
      "val_loss: 0.71305222987035, val_f1: 0.30373762559194906, val_precision: 0.18382825668251843, val_recall: 0.8735376998372034\n"
     ]
    },
    {
     "name": "stderr",
     "output_type": "stream",
     "text": [
      "100%|████████████████████████████████████████████████████████████| 655/655 [00:04<00:00, 150.13it/s]\n"
     ]
    },
    {
     "name": "stdout",
     "output_type": "stream",
     "text": [
      "Epoch: 466, loss: 0.6912163267608817, f1: 0.32775303277023077, precision: 0.20109382466562375, recall: 0.8854631615049057\n"
     ]
    },
    {
     "name": "stderr",
     "output_type": "stream",
     "text": [
      "100%|████████████████████████████████████████████████████████████| 218/218 [00:00<00:00, 508.55it/s]\n"
     ]
    },
    {
     "name": "stdout",
     "output_type": "stream",
     "text": [
      "val_loss: 0.7100315072120876, val_f1: 0.3065912435487643, val_precision: 0.18578342243242973, val_recall: 0.8766301405539206\n"
     ]
    },
    {
     "name": "stderr",
     "output_type": "stream",
     "text": [
      "100%|████████████████████████████████████████████████████████████| 655/655 [00:04<00:00, 152.71it/s]\n"
     ]
    },
    {
     "name": "stdout",
     "output_type": "stream",
     "text": [
      "Epoch: 467, loss: 0.6867811871848943, f1: 0.33227464446104304, precision: 0.20449859931041267, recall: 0.8856548132787224\n"
     ]
    },
    {
     "name": "stderr",
     "output_type": "stream",
     "text": [
      "100%|████████████████████████████████████████████████████████████| 218/218 [00:00<00:00, 509.31it/s]\n"
     ]
    },
    {
     "name": "stdout",
     "output_type": "stream",
     "text": [
      "val_loss: 0.7107991860547197, val_f1: 0.3058169400806369, val_precision: 0.18533490327349222, val_recall: 0.873956019178443\n"
     ]
    },
    {
     "name": "stderr",
     "output_type": "stream",
     "text": [
      "100%|████████████████████████████████████████████████████████████| 655/655 [00:04<00:00, 152.12it/s]\n"
     ]
    },
    {
     "name": "stdout",
     "output_type": "stream",
     "text": [
      "Epoch: 468, loss: 0.6906401040899844, f1: 0.328135958596892, precision: 0.20146975276124388, recall: 0.8837745423535355\n"
     ]
    },
    {
     "name": "stderr",
     "output_type": "stream",
     "text": [
      "100%|████████████████████████████████████████████████████████████| 218/218 [00:00<00:00, 515.55it/s]\n"
     ]
    },
    {
     "name": "stdout",
     "output_type": "stream",
     "text": [
      "val_loss: 0.7219499180076319, val_f1: 0.2937978324741524, val_precision: 0.176579675722628, val_recall: 0.8739453923264775\n"
     ]
    },
    {
     "name": "stderr",
     "output_type": "stream",
     "text": [
      "100%|████████████████████████████████████████████████████████████| 655/655 [00:04<00:00, 150.52it/s]\n"
     ]
    },
    {
     "name": "stdout",
     "output_type": "stream",
     "text": [
      "Epoch: 469, loss: 0.6951754808425903, f1: 0.3232081497668237, precision: 0.1980414207825679, recall: 0.8783378647483943\n"
     ]
    },
    {
     "name": "stderr",
     "output_type": "stream",
     "text": [
      "100%|████████████████████████████████████████████████████████████| 218/218 [00:00<00:00, 505.09it/s]\n"
     ]
    },
    {
     "name": "stdout",
     "output_type": "stream",
     "text": [
      "val_loss: 0.7143138102982023, val_f1: 0.30225615637802916, val_precision: 0.18244357354973162, val_recall: 0.8804697588496252\n"
     ]
    },
    {
     "name": "stderr",
     "output_type": "stream",
     "text": [
      "100%|████████████████████████████████████████████████████████████| 655/655 [00:04<00:00, 151.97it/s]\n"
     ]
    },
    {
     "name": "stdout",
     "output_type": "stream",
     "text": [
      "Epoch: 470, loss: 0.6906020703206536, f1: 0.3287029331132374, precision: 0.2017920956527459, recall: 0.8857977993615711\n"
     ]
    },
    {
     "name": "stderr",
     "output_type": "stream",
     "text": [
      "100%|████████████████████████████████████████████████████████████| 218/218 [00:00<00:00, 505.97it/s]\n"
     ]
    },
    {
     "name": "stdout",
     "output_type": "stream",
     "text": [
      "val_loss: 0.7128969928540221, val_f1: 0.3040253735860969, val_precision: 0.18362925447728656, val_recall: 0.8828907876933386\n"
     ]
    },
    {
     "name": "stderr",
     "output_type": "stream",
     "text": [
      "100%|████████████████████████████████████████████████████████████| 655/655 [00:04<00:00, 151.32it/s]\n"
     ]
    },
    {
     "name": "stdout",
     "output_type": "stream",
     "text": [
      "Epoch: 471, loss: 0.687789940743046, f1: 0.3312412319500111, precision: 0.2035890840534263, recall: 0.888067157122925\n"
     ]
    },
    {
     "name": "stderr",
     "output_type": "stream",
     "text": [
      "100%|████████████████████████████████████████████████████████████| 218/218 [00:00<00:00, 501.76it/s]\n"
     ]
    },
    {
     "name": "stdout",
     "output_type": "stream",
     "text": [
      "val_loss: 0.7086311163158592, val_f1: 0.30792099790054983, val_precision: 0.1864742016368503, val_recall: 0.883001896219516\n"
     ]
    },
    {
     "name": "stderr",
     "output_type": "stream",
     "text": [
      "100%|████████████████████████████████████████████████████████████| 655/655 [00:04<00:00, 151.46it/s]\n"
     ]
    },
    {
     "name": "stdout",
     "output_type": "stream",
     "text": [
      "Epoch: 472, loss: 0.689628368479605, f1: 0.33008011195846515, precision: 0.2028674622983423, recall: 0.885105815916571\n"
     ]
    },
    {
     "name": "stderr",
     "output_type": "stream",
     "text": [
      "100%|████████████████████████████████████████████████████████████| 218/218 [00:00<00:00, 509.92it/s]\n"
     ]
    },
    {
     "name": "stdout",
     "output_type": "stream",
     "text": [
      "val_loss: 0.7104583210354551, val_f1: 0.3065763537169797, val_precision: 0.18548171572523928, val_recall: 0.8831633627414703\n"
     ]
    },
    {
     "name": "stderr",
     "output_type": "stream",
     "text": [
      "100%|████████████████████████████████████████████████████████████| 655/655 [00:04<00:00, 151.99it/s]\n"
     ]
    },
    {
     "name": "stdout",
     "output_type": "stream",
     "text": [
      "Epoch: 473, loss: 0.6898499589839965, f1: 0.3291611081066344, precision: 0.20224811790496794, recall: 0.8836809152865228\n"
     ]
    },
    {
     "name": "stderr",
     "output_type": "stream",
     "text": [
      "100%|████████████████████████████████████████████████████████████| 218/218 [00:00<00:00, 511.27it/s]\n"
     ]
    },
    {
     "name": "stdout",
     "output_type": "stream",
     "text": [
      "val_loss: 0.7141800610297316, val_f1: 0.30268363100911505, val_precision: 0.1827991131283001, val_recall: 0.8794509300945001\n"
     ]
    },
    {
     "name": "stderr",
     "output_type": "stream",
     "text": [
      "100%|████████████████████████████████████████████████████████████| 655/655 [00:04<00:00, 152.06it/s]\n"
     ]
    },
    {
     "name": "stdout",
     "output_type": "stream",
     "text": [
      "Epoch: 474, loss: 0.6956132128948473, f1: 0.3229510437720045, precision: 0.19757784128416586, recall: 0.8837101207434676\n"
     ]
    },
    {
     "name": "stderr",
     "output_type": "stream",
     "text": [
      "100%|████████████████████████████████████████████████████████████| 218/218 [00:00<00:00, 458.96it/s]\n"
     ]
    },
    {
     "name": "stdout",
     "output_type": "stream",
     "text": [
      "val_loss: 0.7152392366610536, val_f1: 0.30215902600589917, val_precision: 0.18215852170123145, val_recall: 0.8854986661617908\n"
     ]
    },
    {
     "name": "stderr",
     "output_type": "stream",
     "text": [
      "100%|████████████████████████████████████████████████████████████| 655/655 [00:04<00:00, 156.26it/s]\n"
     ]
    },
    {
     "name": "stdout",
     "output_type": "stream",
     "text": [
      "Epoch: 475, loss: 0.6962947259422477, f1: 0.3219615487529024, precision: 0.19687393705239734, recall: 0.8829792773450604\n"
     ]
    },
    {
     "name": "stderr",
     "output_type": "stream",
     "text": [
      "100%|████████████████████████████████████████████████████████████| 218/218 [00:00<00:00, 489.90it/s]\n"
     ]
    },
    {
     "name": "stdout",
     "output_type": "stream",
     "text": [
      "val_loss: 0.7177691112417693, val_f1: 0.2985663875815741, val_precision: 0.17991199301675373, val_recall: 0.8768818105032684\n"
     ]
    },
    {
     "name": "stderr",
     "output_type": "stream",
     "text": [
      "100%|████████████████████████████████████████████████████████████| 655/655 [00:04<00:00, 154.22it/s]\n"
     ]
    },
    {
     "name": "stdout",
     "output_type": "stream",
     "text": [
      "Epoch: 476, loss: 0.6949932508796226, f1: 0.3237822108185163, precision: 0.19826828877206978, recall: 0.8823627744012207\n"
     ]
    },
    {
     "name": "stderr",
     "output_type": "stream",
     "text": [
      "100%|████████████████████████████████████████████████████████████| 218/218 [00:00<00:00, 515.77it/s]\n"
     ]
    },
    {
     "name": "stdout",
     "output_type": "stream",
     "text": [
      "val_loss: 0.7133907194531292, val_f1: 0.3027107958626922, val_precision: 0.18308623516163147, val_recall: 0.8733173277946787\n"
     ]
    },
    {
     "name": "stderr",
     "output_type": "stream",
     "text": [
      "100%|████████████████████████████████████████████████████████████| 655/655 [00:04<00:00, 153.60it/s]\n"
     ]
    },
    {
     "name": "stdout",
     "output_type": "stream",
     "text": [
      "Epoch: 477, loss: 0.6921800648893108, f1: 0.32662611207605907, precision: 0.20039189536380403, recall: 0.882622364459147\n"
     ]
    },
    {
     "name": "stderr",
     "output_type": "stream",
     "text": [
      "100%|████████████████████████████████████████████████████████████| 218/218 [00:00<00:00, 515.17it/s]\n"
     ]
    },
    {
     "name": "stdout",
     "output_type": "stream",
     "text": [
      "val_loss: 0.7171217968704504, val_f1: 0.30003318264141277, val_precision: 0.1807945429714858, val_recall: 0.8812211213308737\n"
     ]
    },
    {
     "name": "stderr",
     "output_type": "stream",
     "text": [
      "100%|████████████████████████████████████████████████████████████| 655/655 [00:04<00:00, 150.61it/s]\n"
     ]
    },
    {
     "name": "stdout",
     "output_type": "stream",
     "text": [
      "Epoch: 478, loss: 0.6963371656323207, f1: 0.3220851938201806, precision: 0.19683469729569122, recall: 0.8856359496371436\n"
     ]
    },
    {
     "name": "stderr",
     "output_type": "stream",
     "text": [
      "100%|████████████████████████████████████████████████████████████| 218/218 [00:00<00:00, 513.31it/s]\n"
     ]
    },
    {
     "name": "stdout",
     "output_type": "stream",
     "text": [
      "val_loss: 0.7168338096469914, val_f1: 0.29976893326046844, val_precision: 0.18100791401443406, val_recall: 0.8716988935383088\n"
     ]
    },
    {
     "name": "stderr",
     "output_type": "stream",
     "text": [
      "100%|████████████████████████████████████████████████████████████| 655/655 [00:04<00:00, 152.57it/s]\n"
     ]
    },
    {
     "name": "stdout",
     "output_type": "stream",
     "text": [
      "Epoch: 479, loss: 0.6892829369042666, f1: 0.32973432367716315, precision: 0.20245004845712022, recall: 0.8881000877336691\n"
     ]
    },
    {
     "name": "stderr",
     "output_type": "stream",
     "text": [
      "100%|████████████████████████████████████████████████████████████| 218/218 [00:00<00:00, 520.88it/s]\n"
     ]
    },
    {
     "name": "stdout",
     "output_type": "stream",
     "text": [
      "val_loss: 0.7101020375522998, val_f1: 0.3066755638558118, val_precision: 0.18601988748980497, val_recall: 0.8727674197166337\n"
     ]
    },
    {
     "name": "stderr",
     "output_type": "stream",
     "text": [
      "100%|████████████████████████████████████████████████████████████| 655/655 [00:04<00:00, 151.39it/s]\n"
     ]
    },
    {
     "name": "stdout",
     "output_type": "stream",
     "text": [
      "Epoch: 480, loss: 0.6891714963294168, f1: 0.3298216568944244, precision: 0.20236822651372155, recall: 0.89095115006425\n"
     ]
    },
    {
     "name": "stderr",
     "output_type": "stream",
     "text": [
      "100%|████████████████████████████████████████████████████████████| 218/218 [00:00<00:00, 515.30it/s]\n"
     ]
    },
    {
     "name": "stdout",
     "output_type": "stream",
     "text": [
      "val_loss: 0.7121055995652436, val_f1: 0.30436983662138417, val_precision: 0.1838287381762895, val_recall: 0.8840892667617273\n"
     ]
    },
    {
     "name": "stderr",
     "output_type": "stream",
     "text": [
      "100%|████████████████████████████████████████████████████████████| 655/655 [00:04<00:00, 150.72it/s]\n"
     ]
    },
    {
     "name": "stdout",
     "output_type": "stream",
     "text": [
      "Epoch: 481, loss: 0.6930843947497943, f1: 0.3259520854906224, precision: 0.19967446558120597, recall: 0.8867453073727266\n"
     ]
    },
    {
     "name": "stderr",
     "output_type": "stream",
     "text": [
      "100%|████████████████████████████████████████████████████████████| 218/218 [00:00<00:00, 516.22it/s]\n"
     ]
    },
    {
     "name": "stdout",
     "output_type": "stream",
     "text": [
      "val_loss: 0.71129265454931, val_f1: 0.3045464398843688, val_precision: 0.1841667103282082, val_recall: 0.8792909665392079\n"
     ]
    },
    {
     "name": "stderr",
     "output_type": "stream",
     "text": [
      "100%|████████████████████████████████████████████████████████████| 655/655 [00:04<00:00, 153.45it/s]\n"
     ]
    },
    {
     "name": "stdout",
     "output_type": "stream",
     "text": [
      "Epoch: 482, loss: 0.6905889630317688, f1: 0.3285675671672558, precision: 0.2015478509584911, recall: 0.8885515152043059\n"
     ]
    },
    {
     "name": "stderr",
     "output_type": "stream",
     "text": [
      "100%|████████████████████████████████████████████████████████████| 218/218 [00:00<00:00, 514.57it/s]\n"
     ]
    },
    {
     "name": "stdout",
     "output_type": "stream",
     "text": [
      "val_loss: 0.7120311550044138, val_f1: 0.3041988554254923, val_precision: 0.18377159787085626, val_recall: 0.8825273016177186\n"
     ]
    },
    {
     "name": "stderr",
     "output_type": "stream",
     "text": [
      "100%|████████████████████████████████████████████████████████████| 655/655 [00:04<00:00, 153.15it/s]\n"
     ]
    },
    {
     "name": "stdout",
     "output_type": "stream",
     "text": [
      "Epoch: 483, loss: 0.6927440307522548, f1: 0.3262963630034886, precision: 0.19987534892866174, recall: 0.8878795177881954\n"
     ]
    },
    {
     "name": "stderr",
     "output_type": "stream",
     "text": [
      "100%|████████████████████████████████████████████████████████████| 218/218 [00:00<00:00, 511.57it/s]\n"
     ]
    },
    {
     "name": "stdout",
     "output_type": "stream",
     "text": [
      "val_loss: 0.7142175594601062, val_f1: 0.30171261919249925, val_precision: 0.1824306075401399, val_recall: 0.8716205902602694\n"
     ]
    },
    {
     "name": "stderr",
     "output_type": "stream",
     "text": [
      "100%|████████████████████████████████████████████████████████████| 655/655 [00:04<00:00, 152.44it/s]\n"
     ]
    },
    {
     "name": "stdout",
     "output_type": "stream",
     "text": [
      "Epoch: 484, loss: 0.6938692556082747, f1: 0.3247225578574182, precision: 0.19885109164787612, recall: 0.8847871542886924\n"
     ]
    },
    {
     "name": "stderr",
     "output_type": "stream",
     "text": [
      "100%|████████████████████████████████████████████████████████████| 218/218 [00:00<00:00, 517.16it/s]\n"
     ]
    },
    {
     "name": "stdout",
     "output_type": "stream",
     "text": [
      "val_loss: 0.7135532082767662, val_f1: 0.30278647665185393, val_precision: 0.18282073747298314, val_recall: 0.8806880671496785\n"
     ]
    },
    {
     "name": "stderr",
     "output_type": "stream",
     "text": [
      "100%|████████████████████████████████████████████████████████████| 655/655 [00:04<00:00, 153.20it/s]\n"
     ]
    },
    {
     "name": "stdout",
     "output_type": "stream",
     "text": [
      "Epoch: 485, loss: 0.6904351571134029, f1: 0.32904990377316384, precision: 0.20192972098029296, recall: 0.8881882827700549\n"
     ]
    },
    {
     "name": "stderr",
     "output_type": "stream",
     "text": [
      "100%|████████████████████████████████████████████████████████████| 218/218 [00:00<00:00, 514.96it/s]\n"
     ]
    },
    {
     "name": "stdout",
     "output_type": "stream",
     "text": [
      "val_loss: 0.7126885813857438, val_f1: 0.3037465141613928, val_precision: 0.1832461436065512, val_recall: 0.8870777208870704\n"
     ]
    },
    {
     "name": "stderr",
     "output_type": "stream",
     "text": [
      "100%|████████████████████████████████████████████████████████████| 655/655 [00:04<00:00, 151.98it/s]\n"
     ]
    },
    {
     "name": "stdout",
     "output_type": "stream",
     "text": [
      "Epoch: 486, loss: 0.6885579186541434, f1: 0.33042793155825756, precision: 0.20303171961532748, recall: 0.8869822285557522\n"
     ]
    },
    {
     "name": "stderr",
     "output_type": "stream",
     "text": [
      "100%|████████████████████████████████████████████████████████████| 218/218 [00:00<00:00, 524.94it/s]\n"
     ]
    },
    {
     "name": "stdout",
     "output_type": "stream",
     "text": [
      "val_loss: 0.7113923033989897, val_f1: 0.30513717381479344, val_precision: 0.18414898280806224, val_recall: 0.8896452779069953\n"
     ]
    },
    {
     "name": "stderr",
     "output_type": "stream",
     "text": [
      "100%|████████████████████████████████████████████████████████████| 655/655 [00:04<00:00, 150.87it/s]\n"
     ]
    },
    {
     "name": "stdout",
     "output_type": "stream",
     "text": [
      "Epoch: 487, loss: 0.6898399253837935, f1: 0.32981259813860786, precision: 0.20253258668000007, recall: 0.8876480097079095\n"
     ]
    },
    {
     "name": "stderr",
     "output_type": "stream",
     "text": [
      "100%|████████████████████████████████████████████████████████████| 218/218 [00:00<00:00, 516.93it/s]\n"
     ]
    },
    {
     "name": "stdout",
     "output_type": "stream",
     "text": [
      "val_loss: 0.712000788898643, val_f1: 0.30485859814600863, val_precision: 0.18424376565108605, val_recall: 0.8827477269763246\n"
     ]
    },
    {
     "name": "stderr",
     "output_type": "stream",
     "text": [
      "100%|████████████████████████████████████████████████████████████| 655/655 [00:04<00:00, 150.62it/s]\n"
     ]
    },
    {
     "name": "stdout",
     "output_type": "stream",
     "text": [
      "Epoch: 488, loss: 0.6904570486709362, f1: 0.32836116613689004, precision: 0.20154164925160753, recall: 0.8856606319660448\n"
     ]
    },
    {
     "name": "stderr",
     "output_type": "stream",
     "text": [
      "100%|████████████████████████████████████████████████████████████| 218/218 [00:00<00:00, 518.79it/s]\n"
     ]
    },
    {
     "name": "stdout",
     "output_type": "stream",
     "text": [
      "val_loss: 0.7155046534100804, val_f1: 0.3011707388641781, val_precision: 0.18164625134182358, val_recall: 0.8806339737472184\n"
     ]
    },
    {
     "name": "stderr",
     "output_type": "stream",
     "text": [
      "100%|████████████████████████████████████████████████████████████| 655/655 [00:04<00:00, 151.17it/s]\n"
     ]
    },
    {
     "name": "stdout",
     "output_type": "stream",
     "text": [
      "Epoch: 489, loss: 0.6896049848039641, f1: 0.3297138205239331, precision: 0.20243789005086169, recall: 0.8880365882211059\n"
     ]
    },
    {
     "name": "stderr",
     "output_type": "stream",
     "text": [
      "100%|████████████████████████████████████████████████████████████| 218/218 [00:00<00:00, 515.54it/s]\n"
     ]
    },
    {
     "name": "stdout",
     "output_type": "stream",
     "text": [
      "val_loss: 0.7144521102992767, val_f1: 0.30278517062118154, val_precision: 0.18282062828609155, val_recall: 0.8806685031554021\n"
     ]
    },
    {
     "name": "stderr",
     "output_type": "stream",
     "text": [
      "100%|████████████████████████████████████████████████████████████| 655/655 [00:04<00:00, 152.85it/s]\n"
     ]
    },
    {
     "name": "stdout",
     "output_type": "stream",
     "text": [
      "Epoch: 490, loss: 0.7001431720857402, f1: 0.31940120858623416, precision: 0.19486386527712563, recall: 0.8850111215169193\n"
     ]
    },
    {
     "name": "stderr",
     "output_type": "stream",
     "text": [
      "100%|████████████████████████████████████████████████████████████| 218/218 [00:00<00:00, 514.18it/s]\n"
     ]
    },
    {
     "name": "stdout",
     "output_type": "stream",
     "text": [
      "val_loss: 0.71318243047513, val_f1: 0.3034281946815926, val_precision: 0.18358578711508886, val_recall: 0.873896306534426\n"
     ]
    },
    {
     "name": "stderr",
     "output_type": "stream",
     "text": [
      "100%|████████████████████████████████████████████████████████████| 655/655 [00:04<00:00, 151.15it/s]\n"
     ]
    },
    {
     "name": "stdout",
     "output_type": "stream",
     "text": [
      "Epoch: 491, loss: 0.6893260236004837, f1: 0.329624166579362, precision: 0.20249319748512207, recall: 0.8856777842718226\n"
     ]
    },
    {
     "name": "stderr",
     "output_type": "stream",
     "text": [
      "100%|████████████████████████████████████████████████████████████| 218/218 [00:00<00:00, 519.35it/s]\n"
     ]
    },
    {
     "name": "stdout",
     "output_type": "stream",
     "text": [
      "val_loss: 0.7100823874320459, val_f1: 0.30594013449860874, val_precision: 0.1851306477766655, val_recall: 0.8805639443047549\n"
     ]
    },
    {
     "name": "stderr",
     "output_type": "stream",
     "text": [
      "100%|████████████████████████████████████████████████████████████| 655/655 [00:04<00:00, 151.04it/s]\n"
     ]
    },
    {
     "name": "stdout",
     "output_type": "stream",
     "text": [
      "Epoch: 492, loss: 0.688357089130023, f1: 0.33051539737246155, precision: 0.2029287354778925, recall: 0.8902206755776442\n"
     ]
    },
    {
     "name": "stderr",
     "output_type": "stream",
     "text": [
      "100%|████████████████████████████████████████████████████████████| 218/218 [00:00<00:00, 518.02it/s]\n"
     ]
    },
    {
     "name": "stdout",
     "output_type": "stream",
     "text": [
      "val_loss: 0.7101984732194778, val_f1: 0.30652644157264164, val_precision: 0.18579887010909002, val_recall: 0.8752286751335914\n"
     ]
    },
    {
     "name": "stderr",
     "output_type": "stream",
     "text": [
      "100%|████████████████████████████████████████████████████████████| 655/655 [00:04<00:00, 152.36it/s]\n"
     ]
    },
    {
     "name": "stdout",
     "output_type": "stream",
     "text": [
      "Epoch: 493, loss: 0.6910879131491857, f1: 0.3279845590555246, precision: 0.20135478220083786, recall: 0.883790628691666\n"
     ]
    },
    {
     "name": "stderr",
     "output_type": "stream",
     "text": [
      "100%|████████████████████████████████████████████████████████████| 218/218 [00:00<00:00, 521.02it/s]\n"
     ]
    },
    {
     "name": "stdout",
     "output_type": "stream",
     "text": [
      "val_loss: 0.7172532376893069, val_f1: 0.2988730449716292, val_precision: 0.18003224073951946, val_recall: 0.8793188565914783\n"
     ]
    },
    {
     "name": "stderr",
     "output_type": "stream",
     "text": [
      "100%|████████████████████████████████████████████████████████████| 655/655 [00:04<00:00, 153.67it/s]\n"
     ]
    },
    {
     "name": "stdout",
     "output_type": "stream",
     "text": [
      "Epoch: 494, loss: 0.6934310994075454, f1: 0.32487359532429394, precision: 0.19881090707223834, recall: 0.8878349905705634\n"
     ]
    },
    {
     "name": "stderr",
     "output_type": "stream",
     "text": [
      "100%|████████████████████████████████████████████████████████████| 218/218 [00:00<00:00, 517.15it/s]\n"
     ]
    },
    {
     "name": "stdout",
     "output_type": "stream",
     "text": [
      "val_loss: 0.7122806906700134, val_f1: 0.3042493830742646, val_precision: 0.18356002887728018, val_recall: 0.8883000830991552\n"
     ]
    },
    {
     "name": "stderr",
     "output_type": "stream",
     "text": [
      "100%|████████████████████████████████████████████████████████████| 655/655 [00:04<00:00, 152.87it/s]\n"
     ]
    },
    {
     "name": "stdout",
     "output_type": "stream",
     "text": [
      "Epoch: 495, loss: 0.6910460565836375, f1: 0.32792604123515157, precision: 0.2010895167825786, recall: 0.8880785420650744\n"
     ]
    },
    {
     "name": "stderr",
     "output_type": "stream",
     "text": [
      "100%|████████████████████████████████████████████████████████████| 218/218 [00:00<00:00, 518.04it/s]\n"
     ]
    },
    {
     "name": "stdout",
     "output_type": "stream",
     "text": [
      "val_loss: 0.7093197768981304, val_f1: 0.30738791537005306, val_precision: 0.18606302664196545, val_recall: 0.8834595453301701\n"
     ]
    },
    {
     "name": "stderr",
     "output_type": "stream",
     "text": [
      "100%|████████████████████████████████████████████████████████████| 655/655 [00:04<00:00, 153.39it/s]\n"
     ]
    },
    {
     "name": "stdout",
     "output_type": "stream",
     "text": [
      "Epoch: 496, loss: 0.6915077509770866, f1: 0.32706278903526204, precision: 0.2004330025345997, recall: 0.8882292716557743\n"
     ]
    },
    {
     "name": "stderr",
     "output_type": "stream",
     "text": [
      "100%|████████████████████████████████████████████████████████████| 218/218 [00:00<00:00, 514.64it/s]\n"
     ]
    },
    {
     "name": "stdout",
     "output_type": "stream",
     "text": [
      "val_loss: 0.7186993817123798, val_f1: 0.298376309992444, val_precision: 0.1795936421226334, val_recall: 0.8811976603411753\n"
     ]
    },
    {
     "name": "stderr",
     "output_type": "stream",
     "text": [
      "100%|████████████████████████████████████████████████████████████| 655/655 [00:04<00:00, 151.67it/s]\n"
     ]
    },
    {
     "name": "stdout",
     "output_type": "stream",
     "text": [
      "Epoch: 497, loss: 0.6898952385851445, f1: 0.3296493511265554, precision: 0.20247931306371253, recall: 0.8863074855950043\n"
     ]
    },
    {
     "name": "stderr",
     "output_type": "stream",
     "text": [
      "100%|████████████████████████████████████████████████████████████| 218/218 [00:00<00:00, 520.39it/s]\n"
     ]
    },
    {
     "name": "stdout",
     "output_type": "stream",
     "text": [
      "val_loss: 0.7123032860252836, val_f1: 0.3042653403213305, val_precision: 0.18380116814867073, val_recall: 0.8829645946485187\n"
     ]
    },
    {
     "name": "stderr",
     "output_type": "stream",
     "text": [
      "100%|████████████████████████████████████████████████████████████| 655/655 [00:04<00:00, 152.48it/s]\n"
     ]
    },
    {
     "name": "stdout",
     "output_type": "stream",
     "text": [
      "Epoch: 498, loss: 0.6862004422049486, f1: 0.3328502627538466, precision: 0.20461646405738274, recall: 0.891650527033187\n"
     ]
    },
    {
     "name": "stderr",
     "output_type": "stream",
     "text": [
      "100%|████████████████████████████████████████████████████████████| 218/218 [00:00<00:00, 509.94it/s]\n"
     ]
    },
    {
     "name": "stdout",
     "output_type": "stream",
     "text": [
      "val_loss: 0.7069762021029761, val_f1: 0.31000452558417696, val_precision: 0.18792652458362624, val_recall: 0.8847286154370789\n"
     ]
    },
    {
     "name": "stderr",
     "output_type": "stream",
     "text": [
      "100%|████████████████████████████████████████████████████████████| 655/655 [00:04<00:00, 150.85it/s]\n"
     ]
    },
    {
     "name": "stdout",
     "output_type": "stream",
     "text": [
      "Epoch: 499, loss: 0.6869903329674524, f1: 0.33200791099858507, precision: 0.2042228621153431, recall: 0.8870427209002371\n"
     ]
    },
    {
     "name": "stderr",
     "output_type": "stream",
     "text": [
      "100%|████████████████████████████████████████████████████████████| 218/218 [00:00<00:00, 519.89it/s]\n"
     ]
    },
    {
     "name": "stdout",
     "output_type": "stream",
     "text": [
      "val_loss: 0.709109608733326, val_f1: 0.3071520736233889, val_precision: 0.18575991598735436, val_recall: 0.8864149514141433\n"
     ]
    },
    {
     "name": "stderr",
     "output_type": "stream",
     "text": [
      "100%|████████████████████████████████████████████████████████████| 655/655 [00:04<00:00, 152.00it/s]\n"
     ]
    },
    {
     "name": "stdout",
     "output_type": "stream",
     "text": [
      "Epoch: 500, loss: 0.6853678148211414, f1: 0.33377651170799605, precision: 0.2053258946947469, recall: 0.8914824500338722\n"
     ]
    },
    {
     "name": "stderr",
     "output_type": "stream",
     "text": [
      "100%|████████████████████████████████████████████████████████████| 218/218 [00:00<00:00, 519.59it/s]\n"
     ]
    },
    {
     "name": "stdout",
     "output_type": "stream",
     "text": [
      "val_loss: 0.7090367185413291, val_f1: 0.306622908878902, val_precision: 0.18568887435959294, val_recall: 0.8792618890421107\n"
     ]
    },
    {
     "name": "stderr",
     "output_type": "stream",
     "text": [
      "100%|████████████████████████████████████████████████████████████| 655/655 [00:04<00:00, 151.27it/s]\n"
     ]
    },
    {
     "name": "stdout",
     "output_type": "stream",
     "text": [
      "Epoch: 501, loss: 0.6843639630397768, f1: 0.33498113711854244, precision: 0.20633710078212597, recall: 0.8896423013155697\n"
     ]
    },
    {
     "name": "stderr",
     "output_type": "stream",
     "text": [
      "100%|████████████████████████████████████████████████████████████| 218/218 [00:00<00:00, 518.60it/s]\n"
     ]
    },
    {
     "name": "stdout",
     "output_type": "stream",
     "text": [
      "val_loss: 0.7141915740223106, val_f1: 0.3032358601146184, val_precision: 0.1834462891683119, val_recall: 0.8738668098909046\n"
     ]
    },
    {
     "name": "stderr",
     "output_type": "stream",
     "text": [
      "100%|████████████████████████████████████████████████████████████| 655/655 [00:04<00:00, 151.92it/s]\n"
     ]
    },
    {
     "name": "stdout",
     "output_type": "stream",
     "text": [
      "Epoch: 502, loss: 0.6902712747340894, f1: 0.3287852909507407, precision: 0.2019467566446721, recall: 0.8840193666233361\n"
     ]
    },
    {
     "name": "stderr",
     "output_type": "stream",
     "text": [
      "100%|████████████████████████████████████████████████████████████| 218/218 [00:00<00:00, 516.34it/s]\n"
     ]
    },
    {
     "name": "stdout",
     "output_type": "stream",
     "text": [
      "val_loss: 0.7134232649562555, val_f1: 0.3028600493868243, val_precision: 0.18323512934148312, val_recall: 0.8724165654510533\n"
     ]
    },
    {
     "name": "stderr",
     "output_type": "stream",
     "text": [
      "100%|████████████████████████████████████████████████████████████| 655/655 [00:04<00:00, 156.44it/s]\n"
     ]
    },
    {
     "name": "stdout",
     "output_type": "stream",
     "text": [
      "Epoch: 503, loss: 0.6885036342926608, f1: 0.3304183363798099, precision: 0.20295004566548436, recall: 0.8884056352477038\n"
     ]
    },
    {
     "name": "stderr",
     "output_type": "stream",
     "text": [
      "100%|████████████████████████████████████████████████████████████| 218/218 [00:00<00:00, 513.75it/s]\n"
     ]
    },
    {
     "name": "stdout",
     "output_type": "stream",
     "text": [
      "val_loss: 0.7152151066228885, val_f1: 0.300385081363805, val_precision: 0.1809131620246746, val_recall: 0.8844810508259939\n"
     ]
    },
    {
     "name": "stderr",
     "output_type": "stream",
     "text": [
      "100%|████████████████████████████████████████████████████████████| 655/655 [00:04<00:00, 150.95it/s]\n"
     ]
    },
    {
     "name": "stdout",
     "output_type": "stream",
     "text": [
      "Epoch: 504, loss: 0.690239773269828, f1: 0.32907783921084616, precision: 0.20195108209914378, recall: 0.8881820949889322\n"
     ]
    },
    {
     "name": "stderr",
     "output_type": "stream",
     "text": [
      "100%|████████████████████████████████████████████████████████████| 218/218 [00:00<00:00, 515.71it/s]\n"
     ]
    },
    {
     "name": "stdout",
     "output_type": "stream",
     "text": [
      "val_loss: 0.7166883890781928, val_f1: 0.3005167165846203, val_precision: 0.1811102280786278, val_recall: 0.8820640606070878\n"
     ]
    },
    {
     "name": "stderr",
     "output_type": "stream",
     "text": [
      "100%|████████████████████████████████████████████████████████████| 655/655 [00:04<00:00, 151.87it/s]\n"
     ]
    },
    {
     "name": "stdout",
     "output_type": "stream",
     "text": [
      "Epoch: 505, loss: 0.6865825181698981, f1: 0.3326614321931614, precision: 0.20448502972153307, recall: 0.8914363329647151\n"
     ]
    },
    {
     "name": "stderr",
     "output_type": "stream",
     "text": [
      "100%|████████████████████████████████████████████████████████████| 218/218 [00:00<00:00, 518.46it/s]\n"
     ]
    },
    {
     "name": "stdout",
     "output_type": "stream",
     "text": [
      "val_loss: 0.7071500174496153, val_f1: 0.30945573120195713, val_precision: 0.1872920035854529, val_recall: 0.8899142969092098\n"
     ]
    },
    {
     "name": "stderr",
     "output_type": "stream",
     "text": [
      "100%|████████████████████████████████████████████████████████████| 655/655 [00:04<00:00, 152.79it/s]\n"
     ]
    },
    {
     "name": "stdout",
     "output_type": "stream",
     "text": [
      "Epoch: 506, loss: 0.6856689951802029, f1: 0.3335791394630314, precision: 0.20514717488798476, recall: 0.8920371564289996\n"
     ]
    },
    {
     "name": "stderr",
     "output_type": "stream",
     "text": [
      "100%|████████████████████████████████████████████████████████████| 218/218 [00:00<00:00, 516.72it/s]\n"
     ]
    },
    {
     "name": "stdout",
     "output_type": "stream",
     "text": [
      "val_loss: 0.7096089422702789, val_f1: 0.3071540156600549, val_precision: 0.18551541710221167, val_recall: 0.8920576607962267\n"
     ]
    },
    {
     "name": "stderr",
     "output_type": "stream",
     "text": [
      "100%|████████████████████████████████████████████████████████████| 655/655 [00:04<00:00, 151.89it/s]\n"
     ]
    },
    {
     "name": "stdout",
     "output_type": "stream",
     "text": [
      "Epoch: 507, loss: 0.6863888604950359, f1: 0.33271569799191747, precision: 0.20460655919013132, recall: 0.8899099317215781\n"
     ]
    },
    {
     "name": "stderr",
     "output_type": "stream",
     "text": [
      "100%|████████████████████████████████████████████████████████████| 218/218 [00:00<00:00, 515.48it/s]\n"
     ]
    },
    {
     "name": "stdout",
     "output_type": "stream",
     "text": [
      "val_loss: 0.7071615132169986, val_f1: 0.3095658754387034, val_precision: 0.18766559112748696, val_recall: 0.8833664103385506\n"
     ]
    },
    {
     "name": "stderr",
     "output_type": "stream",
     "text": [
      "100%|████████████████████████████████████████████████████████████| 655/655 [00:04<00:00, 151.18it/s]\n"
     ]
    },
    {
     "name": "stdout",
     "output_type": "stream",
     "text": [
      "Epoch: 508, loss: 0.6929031531319363, f1: 0.3267050195567959, precision: 0.20029546157208108, recall: 0.8856565259795153\n"
     ]
    },
    {
     "name": "stderr",
     "output_type": "stream",
     "text": [
      "100%|████████████████████████████████████████████████████████████| 218/218 [00:00<00:00, 518.69it/s]\n"
     ]
    },
    {
     "name": "stdout",
     "output_type": "stream",
     "text": [
      "val_loss: 0.7122955554669056, val_f1: 0.3044633082824781, val_precision: 0.1839101612055247, val_recall: 0.8837836958946438\n"
     ]
    },
    {
     "name": "stderr",
     "output_type": "stream",
     "text": [
      "100%|████████████████████████████████████████████████████████████| 655/655 [00:04<00:00, 152.82it/s]\n"
     ]
    },
    {
     "name": "stdout",
     "output_type": "stream",
     "text": [
      "Epoch: 509, loss: 0.6873714216792857, f1: 0.3316954702940565, precision: 0.20400616482241463, recall: 0.8866706696175437\n"
     ]
    },
    {
     "name": "stderr",
     "output_type": "stream",
     "text": [
      "100%|████████████████████████████████████████████████████████████| 218/218 [00:00<00:00, 514.66it/s]\n"
     ]
    },
    {
     "name": "stdout",
     "output_type": "stream",
     "text": [
      "val_loss: 0.7123662933297114, val_f1: 0.30341044422219965, val_precision: 0.18338136818396664, val_recall: 0.8782606042853189\n"
     ]
    },
    {
     "name": "stderr",
     "output_type": "stream",
     "text": [
      "100%|████████████████████████████████████████████████████████████| 655/655 [00:04<00:00, 152.94it/s]\n"
     ]
    },
    {
     "name": "stdout",
     "output_type": "stream",
     "text": [
      "Epoch: 510, loss: 0.6891077972550429, f1: 0.3298655753793246, precision: 0.20263110163500747, recall: 0.886525389802365\n"
     ]
    },
    {
     "name": "stderr",
     "output_type": "stream",
     "text": [
      "100%|████████████████████████████████████████████████████████████| 218/218 [00:00<00:00, 515.86it/s]\n"
     ]
    },
    {
     "name": "stdout",
     "output_type": "stream",
     "text": [
      "val_loss: 0.7157252050867868, val_f1: 0.30086448003553334, val_precision: 0.18181029953267597, val_recall: 0.8716323137830156\n"
     ]
    },
    {
     "name": "stderr",
     "output_type": "stream",
     "text": [
      "100%|████████████████████████████████████████████████████████████| 655/655 [00:04<00:00, 151.36it/s]\n"
     ]
    },
    {
     "name": "stdout",
     "output_type": "stream",
     "text": [
      "Epoch: 511, loss: 0.6866678686542366, f1: 0.33272089786660886, precision: 0.2047881826530886, recall: 0.8865642260049136\n"
     ]
    },
    {
     "name": "stderr",
     "output_type": "stream",
     "text": [
      "100%|████████████████████████████████████████████████████████████| 218/218 [00:00<00:00, 521.34it/s]\n"
     ]
    },
    {
     "name": "stdout",
     "output_type": "stream",
     "text": [
      "val_loss: 0.7110409722962511, val_f1: 0.3053002424557741, val_precision: 0.18451108773230412, val_recall: 0.884017121901206\n"
     ]
    },
    {
     "name": "stderr",
     "output_type": "stream",
     "text": [
      "100%|████████████████████████████████████████████████████████████| 655/655 [00:04<00:00, 151.33it/s]\n"
     ]
    },
    {
     "name": "stdout",
     "output_type": "stream",
     "text": [
      "Epoch: 512, loss: 0.6851709323074981, f1: 0.33432819660671237, precision: 0.20604600336203593, recall: 0.8858489394756673\n"
     ]
    },
    {
     "name": "stderr",
     "output_type": "stream",
     "text": [
      "100%|████████████████████████████████████████████████████████████| 218/218 [00:00<00:00, 513.87it/s]\n"
     ]
    },
    {
     "name": "stdout",
     "output_type": "stream",
     "text": [
      "val_loss: 0.7084151585714533, val_f1: 0.30818201419837865, val_precision: 0.18676979731289892, val_recall: 0.8806796694567444\n"
     ]
    },
    {
     "name": "stderr",
     "output_type": "stream",
     "text": [
      "100%|████████████████████████████████████████████████████████████| 655/655 [00:04<00:00, 152.25it/s]\n"
     ]
    },
    {
     "name": "stdout",
     "output_type": "stream",
     "text": [
      "Epoch: 513, loss: 0.6835186576115266, f1: 0.3362747672848127, precision: 0.20737458803612768, recall: 0.8886316241198824\n"
     ]
    },
    {
     "name": "stderr",
     "output_type": "stream",
     "text": [
      "100%|████████████████████████████████████████████████████████████| 218/218 [00:00<00:00, 515.01it/s]\n"
     ]
    },
    {
     "name": "stdout",
     "output_type": "stream",
     "text": [
      "val_loss: 0.707043976411907, val_f1: 0.30963540697469094, val_precision: 0.18772512175347827, val_recall: 0.8831799566198927\n"
     ]
    },
    {
     "name": "stderr",
     "output_type": "stream",
     "text": [
      "100%|████████████████████████████████████████████████████████████| 655/655 [00:04<00:00, 152.02it/s]\n"
     ]
    },
    {
     "name": "stdout",
     "output_type": "stream",
     "text": [
      "Epoch: 514, loss: 0.6853039551327247, f1: 0.33377857415250495, precision: 0.2055113653503074, recall: 0.8880320993088584\n"
     ]
    },
    {
     "name": "stderr",
     "output_type": "stream",
     "text": [
      "100%|████████████████████████████████████████████████████████████| 218/218 [00:00<00:00, 511.99it/s]\n"
     ]
    },
    {
     "name": "stdout",
     "output_type": "stream",
     "text": [
      "val_loss: 0.7081752712026649, val_f1: 0.30834255676258043, val_precision: 0.18674228691555764, val_recall: 0.8839240292890356\n"
     ]
    },
    {
     "name": "stderr",
     "output_type": "stream",
     "text": [
      "100%|████████████████████████████████████████████████████████████| 655/655 [00:04<00:00, 151.67it/s]\n"
     ]
    },
    {
     "name": "stdout",
     "output_type": "stream",
     "text": [
      "Epoch: 515, loss: 0.687135628252539, f1: 0.3320708613596712, precision: 0.20426425712879834, recall: 0.8871604769284489\n"
     ]
    },
    {
     "name": "stderr",
     "output_type": "stream",
     "text": [
      "100%|████████████████████████████████████████████████████████████| 218/218 [00:00<00:00, 515.62it/s]\n"
     ]
    },
    {
     "name": "stdout",
     "output_type": "stream",
     "text": [
      "val_loss: 0.7123096186086673, val_f1: 0.3052151884983166, val_precision: 0.1846091109370693, val_recall: 0.8803567834403536\n"
     ]
    },
    {
     "name": "stderr",
     "output_type": "stream",
     "text": [
      "100%|████████████████████████████████████████████████████████████| 655/655 [00:04<00:00, 151.18it/s]\n"
     ]
    },
    {
     "name": "stdout",
     "output_type": "stream",
     "text": [
      "Epoch: 516, loss: 0.6873641565555835, f1: 0.3319578827266696, precision: 0.2041008285125931, recall: 0.8886349019203478\n"
     ]
    },
    {
     "name": "stderr",
     "output_type": "stream",
     "text": [
      "100%|████████████████████████████████████████████████████████████| 218/218 [00:00<00:00, 513.05it/s]\n"
     ]
    },
    {
     "name": "stdout",
     "output_type": "stream",
     "text": [
      "val_loss: 0.7083393127546398, val_f1: 0.3080850695681292, val_precision: 0.18663499412049941, val_recall: 0.8820975206860708\n"
     ]
    },
    {
     "name": "stderr",
     "output_type": "stream",
     "text": [
      "100%|████████████████████████████████████████████████████████████| 655/655 [00:04<00:00, 150.66it/s]\n"
     ]
    },
    {
     "name": "stdout",
     "output_type": "stream",
     "text": [
      "Epoch: 517, loss: 0.6891380367388252, f1: 0.3298968389048498, precision: 0.20254383872597273, recall: 0.8886531049058638\n"
     ]
    },
    {
     "name": "stderr",
     "output_type": "stream",
     "text": [
      "100%|████████████████████████████████████████████████████████████| 218/218 [00:00<00:00, 514.81it/s]\n"
     ]
    },
    {
     "name": "stdout",
     "output_type": "stream",
     "text": [
      "val_loss: 0.7134936430038662, val_f1: 0.3035177706826754, val_precision: 0.18322364545914285, val_recall: 0.8837129569381749\n"
     ]
    },
    {
     "name": "stderr",
     "output_type": "stream",
     "text": [
      "100%|████████████████████████████████████████████████████████████| 655/655 [00:04<00:00, 151.86it/s]\n"
     ]
    },
    {
     "name": "stdout",
     "output_type": "stream",
     "text": [
      "Epoch: 518, loss: 0.6945402320104701, f1: 0.3244615346832309, precision: 0.1987461033611352, recall: 0.8829915418879677\n"
     ]
    },
    {
     "name": "stderr",
     "output_type": "stream",
     "text": [
      "100%|████████████████████████████████████████████████████████████| 218/218 [00:00<00:00, 516.53it/s]\n"
     ]
    },
    {
     "name": "stdout",
     "output_type": "stream",
     "text": [
      "val_loss: 0.7105756161409781, val_f1: 0.30647845701412535, val_precision: 0.18498454769270137, val_recall: 0.8929470580652219\n"
     ]
    },
    {
     "name": "stderr",
     "output_type": "stream",
     "text": [
      "100%|████████████████████████████████████████████████████████████| 655/655 [00:04<00:00, 152.94it/s]\n"
     ]
    },
    {
     "name": "stdout",
     "output_type": "stream",
     "text": [
      "Epoch: 519, loss: 0.6887568132567952, f1: 0.3308987678711463, precision: 0.2032399782782975, recall: 0.8897962517410745\n"
     ]
    },
    {
     "name": "stderr",
     "output_type": "stream",
     "text": [
      "100%|████████████████████████████████████████████████████████████| 218/218 [00:00<00:00, 516.72it/s]\n"
     ]
    },
    {
     "name": "stdout",
     "output_type": "stream",
     "text": [
      "val_loss: 0.7145683437312415, val_f1: 0.3023478563552499, val_precision: 0.18262081811153288, val_recall: 0.8779089601214872\n"
     ]
    },
    {
     "name": "stderr",
     "output_type": "stream",
     "text": [
      "100%|████████████████████████████████████████████████████████████| 655/655 [00:04<00:00, 153.47it/s]\n"
     ]
    },
    {
     "name": "stdout",
     "output_type": "stream",
     "text": [
      "Epoch: 520, loss: 0.6902729159093085, f1: 0.3285893680967962, precision: 0.20162014451930085, recall: 0.8874670941411084\n"
     ]
    },
    {
     "name": "stderr",
     "output_type": "stream",
     "text": [
      "100%|████████████████████████████████████████████████████████████| 218/218 [00:00<00:00, 515.47it/s]\n"
     ]
    },
    {
     "name": "stdout",
     "output_type": "stream",
     "text": [
      "val_loss: 0.712548931804272, val_f1: 0.30398489422760167, val_precision: 0.1833652981873089, val_recall: 0.8883521718169571\n"
     ]
    },
    {
     "name": "stderr",
     "output_type": "stream",
     "text": [
      "100%|████████████████████████████████████████████████████████████| 655/655 [00:04<00:00, 153.26it/s]\n"
     ]
    },
    {
     "name": "stdout",
     "output_type": "stream",
     "text": [
      "Epoch: 521, loss: 0.6965163159916419, f1: 0.32221883373615434, precision: 0.19709712831687382, recall: 0.8823623990284578\n"
     ]
    },
    {
     "name": "stderr",
     "output_type": "stream",
     "text": [
      "100%|████████████████████████████████████████████████████████████| 218/218 [00:00<00:00, 509.98it/s]\n"
     ]
    },
    {
     "name": "stdout",
     "output_type": "stream",
     "text": [
      "val_loss: 0.7063259706584686, val_f1: 0.310659198048908, val_precision: 0.18841050040626198, val_recall: 0.8846714042742317\n"
     ]
    },
    {
     "name": "stderr",
     "output_type": "stream",
     "text": [
      "100%|████████████████████████████████████████████████████████████| 655/655 [00:04<00:00, 153.25it/s]\n"
     ]
    },
    {
     "name": "stdout",
     "output_type": "stream",
     "text": [
      "Epoch: 522, loss: 0.6905148671783564, f1: 0.328471422515893, precision: 0.2015665616299815, recall: 0.8867847178728526\n"
     ]
    },
    {
     "name": "stderr",
     "output_type": "stream",
     "text": [
      "100%|████████████████████████████████████████████████████████████| 218/218 [00:00<00:00, 515.35it/s]\n"
     ]
    },
    {
     "name": "stdout",
     "output_type": "stream",
     "text": [
      "val_loss: 0.7093303723072787, val_f1: 0.3078682167157438, val_precision: 0.1863253204186165, val_recall: 0.885481593258884\n"
     ]
    },
    {
     "name": "stderr",
     "output_type": "stream",
     "text": [
      "100%|████████████████████████████████████████████████████████████| 655/655 [00:04<00:00, 153.41it/s]\n"
     ]
    },
    {
     "name": "stdout",
     "output_type": "stream",
     "text": [
      "Epoch: 523, loss: 0.6954173277352602, f1: 0.3233043477740082, precision: 0.19769603091626223, recall: 0.8866418802101194\n"
     ]
    },
    {
     "name": "stderr",
     "output_type": "stream",
     "text": [
      "100%|████████████████████████████████████████████████████████████| 218/218 [00:00<00:00, 516.19it/s]\n"
     ]
    },
    {
     "name": "stdout",
     "output_type": "stream",
     "text": [
      "val_loss: 0.7090521607923945, val_f1: 0.3084562040680324, val_precision: 0.18667118443569186, val_recall: 0.887398494492977\n"
     ]
    },
    {
     "name": "stderr",
     "output_type": "stream",
     "text": [
      "100%|████████████████████████████████████████████████████████████| 655/655 [00:04<00:00, 151.14it/s]\n"
     ]
    },
    {
     "name": "stdout",
     "output_type": "stream",
     "text": [
      "Epoch: 524, loss: 0.6872953715215202, f1: 0.3314603698543153, precision: 0.20372871154535363, recall: 0.8885606902246257\n"
     ]
    },
    {
     "name": "stderr",
     "output_type": "stream",
     "text": [
      "100%|████████████████████████████████████████████████████████████| 218/218 [00:00<00:00, 522.49it/s]\n"
     ]
    },
    {
     "name": "stdout",
     "output_type": "stream",
     "text": [
      "val_loss: 0.709238998386838, val_f1: 0.3081434878590832, val_precision: 0.18670916716234948, val_recall: 0.8813994532331414\n"
     ]
    },
    {
     "name": "stderr",
     "output_type": "stream",
     "text": [
      "100%|████████████████████████████████████████████████████████████| 655/655 [00:04<00:00, 151.78it/s]\n"
     ]
    },
    {
     "name": "stdout",
     "output_type": "stream",
     "text": [
      "Epoch: 525, loss: 0.6879732355816673, f1: 0.33122087075603623, precision: 0.2033962398824346, recall: 0.8914601735486329\n"
     ]
    },
    {
     "name": "stderr",
     "output_type": "stream",
     "text": [
      "100%|████████████████████████████████████████████████████████████| 218/218 [00:00<00:00, 518.69it/s]\n"
     ]
    },
    {
     "name": "stdout",
     "output_type": "stream",
     "text": [
      "val_loss: 0.7097580452030952, val_f1: 0.30711274256857657, val_precision: 0.18545965461590147, val_recall: 0.8926514329713419\n"
     ]
    },
    {
     "name": "stderr",
     "output_type": "stream",
     "text": [
      "100%|████████████████████████████████████████████████████████████| 655/655 [00:04<00:00, 151.27it/s]\n"
     ]
    },
    {
     "name": "stdout",
     "output_type": "stream",
     "text": [
      "Epoch: 526, loss: 0.6876429495920662, f1: 0.33166826902038415, precision: 0.20374095704662437, recall: 0.8913225381428959\n"
     ]
    },
    {
     "name": "stderr",
     "output_type": "stream",
     "text": [
      "100%|████████████████████████████████████████████████████████████| 218/218 [00:00<00:00, 514.38it/s]\n"
     ]
    },
    {
     "name": "stdout",
     "output_type": "stream",
     "text": [
      "val_loss: 0.7068426677393257, val_f1: 0.31005906282354856, val_precision: 0.18806391491323982, val_recall: 0.882579225465792\n"
     ]
    },
    {
     "name": "stderr",
     "output_type": "stream",
     "text": [
      "100%|████████████████████████████████████████████████████████████| 655/655 [00:04<00:00, 151.40it/s]\n"
     ]
    },
    {
     "name": "stdout",
     "output_type": "stream",
     "text": [
      "Epoch: 527, loss: 0.6881654266182703, f1: 0.33119217631944403, precision: 0.2034959029320997, recall: 0.889136943926338\n"
     ]
    },
    {
     "name": "stderr",
     "output_type": "stream",
     "text": [
      "100%|████████████████████████████████████████████████████████████| 218/218 [00:00<00:00, 512.49it/s]\n"
     ]
    },
    {
     "name": "stdout",
     "output_type": "stream",
     "text": [
      "val_loss: 0.72197805960244, val_f1: 0.29489708551627886, val_precision: 0.17759044211221123, val_recall: 0.8687392784914839\n"
     ]
    },
    {
     "name": "stderr",
     "output_type": "stream",
     "text": [
      "100%|████████████████████████████████████████████████████████████| 655/655 [00:04<00:00, 152.91it/s]\n"
     ]
    },
    {
     "name": "stdout",
     "output_type": "stream",
     "text": [
      "Epoch: 528, loss: 0.6887341278199931, f1: 0.3304078265980011, precision: 0.20291468210461486, recall: 0.8889317457912532\n"
     ]
    },
    {
     "name": "stderr",
     "output_type": "stream",
     "text": [
      "100%|████████████████████████████████████████████████████████████| 218/218 [00:00<00:00, 510.18it/s]\n"
     ]
    },
    {
     "name": "stdout",
     "output_type": "stream",
     "text": [
      "val_loss: 0.71079079328327, val_f1: 0.30616825418366694, val_precision: 0.18518200887520925, val_recall: 0.8831868212704265\n"
     ]
    },
    {
     "name": "stderr",
     "output_type": "stream",
     "text": [
      "100%|████████████████████████████████████████████████████████████| 655/655 [00:04<00:00, 153.37it/s]\n"
     ]
    },
    {
     "name": "stdout",
     "output_type": "stream",
     "text": [
      "Epoch: 529, loss: 0.6886581690256832, f1: 0.3304117921401653, precision: 0.20289329548600976, recall: 0.8893998844932964\n"
     ]
    },
    {
     "name": "stderr",
     "output_type": "stream",
     "text": [
      "100%|████████████████████████████████████████████████████████████| 218/218 [00:00<00:00, 517.84it/s]\n"
     ]
    },
    {
     "name": "stdout",
     "output_type": "stream",
     "text": [
      "val_loss: 0.7114952168333422, val_f1: 0.30615871642449594, val_precision: 0.18502036576936826, val_recall: 0.8867221485584154\n"
     ]
    },
    {
     "name": "stderr",
     "output_type": "stream",
     "text": [
      "100%|████████████████████████████████████████████████████████████| 655/655 [00:04<00:00, 152.68it/s]\n"
     ]
    },
    {
     "name": "stdout",
     "output_type": "stream",
     "text": [
      "Epoch: 530, loss: 0.6888586472918969, f1: 0.3306630814621687, precision: 0.20317847549574067, recall: 0.8875701719567975\n"
     ]
    },
    {
     "name": "stderr",
     "output_type": "stream",
     "text": [
      "100%|████████████████████████████████████████████████████████████| 218/218 [00:00<00:00, 516.00it/s]\n"
     ]
    },
    {
     "name": "stdout",
     "output_type": "stream",
     "text": [
      "val_loss: 0.7105138744782964, val_f1: 0.30614692897014845, val_precision: 0.1851073378919188, val_recall: 0.8845331050934048\n"
     ]
    },
    {
     "name": "stderr",
     "output_type": "stream",
     "text": [
      "100%|████████████████████████████████████████████████████████████| 655/655 [00:04<00:00, 152.98it/s]\n"
     ]
    },
    {
     "name": "stdout",
     "output_type": "stream",
     "text": [
      "Epoch: 531, loss: 0.6918677045188787, f1: 0.3271345033099484, precision: 0.20049377499532153, recall: 0.8880937814712524\n"
     ]
    },
    {
     "name": "stderr",
     "output_type": "stream",
     "text": [
      "100%|████████████████████████████████████████████████████████████| 218/218 [00:00<00:00, 517.01it/s]\n"
     ]
    },
    {
     "name": "stdout",
     "output_type": "stream",
     "text": [
      "val_loss: 0.7253192001526508, val_f1: 0.292729400355082, val_precision: 0.17538609858089632, val_recall: 0.8845312475064478\n"
     ]
    },
    {
     "name": "stderr",
     "output_type": "stream",
     "text": [
      "100%|████████████████████████████████████████████████████████████| 655/655 [00:04<00:00, 151.13it/s]\n"
     ]
    },
    {
     "name": "stdout",
     "output_type": "stream",
     "text": [
      "Epoch: 532, loss: 0.6928883365092386, f1: 0.3261336290712451, precision: 0.1997949486328218, recall: 0.8870563842868077\n"
     ]
    },
    {
     "name": "stderr",
     "output_type": "stream",
     "text": [
      "100%|████████████████████████████████████████████████████████████| 218/218 [00:00<00:00, 514.49it/s]\n"
     ]
    },
    {
     "name": "stdout",
     "output_type": "stream",
     "text": [
      "val_loss: 0.7188801721695366, val_f1: 0.2977053817462793, val_precision: 0.17896944422855837, val_recall: 0.884560265945732\n"
     ]
    },
    {
     "name": "stderr",
     "output_type": "stream",
     "text": [
      "100%|████████████████████████████████████████████████████████████| 655/655 [00:04<00:00, 150.18it/s]\n"
     ]
    },
    {
     "name": "stdout",
     "output_type": "stream",
     "text": [
      "Epoch: 533, loss: 0.6887898877376818, f1: 0.3304113542940993, precision: 0.20299482975183553, recall: 0.8874477461094165\n"
     ]
    },
    {
     "name": "stderr",
     "output_type": "stream",
     "text": [
      "100%|████████████████████████████████████████████████████████████| 218/218 [00:00<00:00, 518.42it/s]\n"
     ]
    },
    {
     "name": "stdout",
     "output_type": "stream",
     "text": [
      "val_loss: 0.7069124882921166, val_f1: 0.3095601407988114, val_precision: 0.1876937136515428, val_recall: 0.8826505771470726\n"
     ]
    },
    {
     "name": "stderr",
     "output_type": "stream",
     "text": [
      "100%|████████████████████████████████████████████████████████████| 655/655 [00:03<00:00, 170.12it/s]\n"
     ]
    },
    {
     "name": "stdout",
     "output_type": "stream",
     "text": [
      "Epoch: 534, loss: 0.6895939482077388, f1: 0.32954854953256574, precision: 0.20237648321585802, recall: 0.8868212699890137\n"
     ]
    },
    {
     "name": "stderr",
     "output_type": "stream",
     "text": [
      "100%|████████████████████████████████████████████████████████████| 218/218 [00:00<00:00, 521.06it/s]\n"
     ]
    },
    {
     "name": "stdout",
     "output_type": "stream",
     "text": [
      "val_loss: 0.7108579215106614, val_f1: 0.30567090555522336, val_precision: 0.18486170696282606, val_recall: 0.882195667389336\n"
     ]
    },
    {
     "name": "stderr",
     "output_type": "stream",
     "text": [
      "100%|████████████████████████████████████████████████████████████| 655/655 [00:04<00:00, 152.04it/s]\n"
     ]
    },
    {
     "name": "stdout",
     "output_type": "stream",
     "text": [
      "Epoch: 535, loss: 0.6886806424337489, f1: 0.3300994797472303, precision: 0.2027999924595347, recall: 0.8866718421455558\n"
     ]
    },
    {
     "name": "stderr",
     "output_type": "stream",
     "text": [
      "100%|████████████████████████████████████████████████████████████| 218/218 [00:00<00:00, 517.72it/s]\n"
     ]
    },
    {
     "name": "stdout",
     "output_type": "stream",
     "text": [
      "val_loss: 0.7130645909987459, val_f1: 0.302971503022004, val_precision: 0.18287472420910356, val_recall: 0.8825683878102434\n"
     ]
    },
    {
     "name": "stderr",
     "output_type": "stream",
     "text": [
      "100%|████████████████████████████████████████████████████████████| 655/655 [00:04<00:00, 152.82it/s]\n"
     ]
    },
    {
     "name": "stdout",
     "output_type": "stream",
     "text": [
      "Epoch: 536, loss: 0.6869321510081983, f1: 0.3320442495454756, precision: 0.20408928326352407, recall: 0.8900936606276126\n"
     ]
    },
    {
     "name": "stderr",
     "output_type": "stream",
     "text": [
      "100%|████████████████████████████████████████████████████████████| 218/218 [00:00<00:00, 514.24it/s]\n"
     ]
    },
    {
     "name": "stdout",
     "output_type": "stream",
     "text": [
      "val_loss: 0.7111242511950502, val_f1: 0.3056975638609705, val_precision: 0.18485769977229177, val_recall: 0.8827313182004001\n"
     ]
    },
    {
     "name": "stderr",
     "output_type": "stream",
     "text": [
      "100%|████████████████████████████████████████████████████████████| 655/655 [00:04<00:00, 154.83it/s]\n"
     ]
    },
    {
     "name": "stdout",
     "output_type": "stream",
     "text": [
      "Epoch: 537, loss: 0.6901280947313964, f1: 0.32856821125020863, precision: 0.20165324630855605, recall: 0.8865181968412327\n"
     ]
    },
    {
     "name": "stderr",
     "output_type": "stream",
     "text": [
      "100%|████████████████████████████████████████████████████████████| 218/218 [00:00<00:00, 517.86it/s]\n"
     ]
    },
    {
     "name": "stdout",
     "output_type": "stream",
     "text": [
      "val_loss: 0.7096454875731687, val_f1: 0.3068716436262155, val_precision: 0.18552486894122505, val_recall: 0.8870989724036751\n"
     ]
    },
    {
     "name": "stderr",
     "output_type": "stream",
     "text": [
      "100%|████████████████████████████████████████████████████████████| 655/655 [00:04<00:00, 153.05it/s]\n"
     ]
    },
    {
     "name": "stdout",
     "output_type": "stream",
     "text": [
      "Epoch: 538, loss: 0.692993969134702, f1: 0.3257222137714241, precision: 0.19946878108245725, recall: 0.8874015404977871\n"
     ]
    },
    {
     "name": "stderr",
     "output_type": "stream",
     "text": [
      "100%|████████████████████████████████████████████████████████████| 218/218 [00:00<00:00, 509.40it/s]\n"
     ]
    },
    {
     "name": "stdout",
     "output_type": "stream",
     "text": [
      "val_loss: 0.7114260095521945, val_f1: 0.3052494345604344, val_precision: 0.18452040129127578, val_recall: 0.8829525044751824\n"
     ]
    },
    {
     "name": "stderr",
     "output_type": "stream",
     "text": [
      "100%|████████████████████████████████████████████████████████████| 655/655 [00:04<00:00, 150.89it/s]\n"
     ]
    },
    {
     "name": "stdout",
     "output_type": "stream",
     "text": [
      "Epoch: 539, loss: 0.6905830647199208, f1: 0.3283468626003036, precision: 0.20173830378885943, recall: 0.8816766133745209\n"
     ]
    },
    {
     "name": "stderr",
     "output_type": "stream",
     "text": [
      "100%|████████████████████████████████████████████████████████████| 218/218 [00:00<00:00, 508.72it/s]\n"
     ]
    },
    {
     "name": "stdout",
     "output_type": "stream",
     "text": [
      "val_loss: 0.7096496847791409, val_f1: 0.3073442899696324, val_precision: 0.18611296997704638, val_recall: 0.8816168920709453\n"
     ]
    },
    {
     "name": "stderr",
     "output_type": "stream",
     "text": [
      "100%|████████████████████████████████████████████████████████████| 655/655 [00:04<00:00, 151.76it/s]\n"
     ]
    },
    {
     "name": "stdout",
     "output_type": "stream",
     "text": [
      "Epoch: 540, loss: 0.6900010701354223, f1: 0.3287608810679933, precision: 0.20168269066182712, recall: 0.8887584375061152\n"
     ]
    },
    {
     "name": "stderr",
     "output_type": "stream",
     "text": [
      "100%|████████████████████████████████████████████████████████████| 218/218 [00:00<00:00, 514.79it/s]\n"
     ]
    },
    {
     "name": "stdout",
     "output_type": "stream",
     "text": [
      "val_loss: 0.7230653010923928, val_f1: 0.29368583422500805, val_precision: 0.17604676533251182, val_recall: 0.8851991139967507\n"
     ]
    },
    {
     "name": "stderr",
     "output_type": "stream",
     "text": [
      "100%|████████████████████████████████████████████████████████████| 655/655 [00:04<00:00, 150.93it/s]\n"
     ]
    },
    {
     "name": "stdout",
     "output_type": "stream",
     "text": [
      "Epoch: 541, loss: 0.6951622284095705, f1: 0.3244871989677101, precision: 0.19859732874022185, recall: 0.886322974885693\n"
     ]
    },
    {
     "name": "stderr",
     "output_type": "stream",
     "text": [
      "100%|████████████████████████████████████████████████████████████| 218/218 [00:00<00:00, 517.99it/s]\n"
     ]
    },
    {
     "name": "stdout",
     "output_type": "stream",
     "text": [
      "val_loss: 0.7094250140933815, val_f1: 0.30770212504050654, val_precision: 0.18613577577704138, val_recall: 0.8870200162087012\n"
     ]
    },
    {
     "name": "stderr",
     "output_type": "stream",
     "text": [
      "100%|████████████████████████████████████████████████████████████| 655/655 [00:04<00:00, 152.97it/s]\n"
     ]
    },
    {
     "name": "stdout",
     "output_type": "stream",
     "text": [
      "Epoch: 542, loss: 0.6882328946171826, f1: 0.33061701415190076, precision: 0.20306021911838582, recall: 0.889167135817404\n"
     ]
    },
    {
     "name": "stderr",
     "output_type": "stream",
     "text": [
      "100%|████████████████████████████████████████████████████████████| 218/218 [00:00<00:00, 511.94it/s]\n"
     ]
    },
    {
     "name": "stdout",
     "output_type": "stream",
     "text": [
      "val_loss: 0.7123038262949077, val_f1: 0.3045887792868363, val_precision: 0.18390030552282793, val_recall: 0.8861310930427061\n"
     ]
    },
    {
     "name": "stderr",
     "output_type": "stream",
     "text": [
      "100%|████████████████████████████████████████████████████████████| 655/655 [00:04<00:00, 153.64it/s]\n"
     ]
    },
    {
     "name": "stdout",
     "output_type": "stream",
     "text": [
      "Epoch: 543, loss: 0.6915671981928003, f1: 0.3275545611191255, precision: 0.20091488862424406, recall: 0.8860369796971328\n"
     ]
    },
    {
     "name": "stderr",
     "output_type": "stream",
     "text": [
      "100%|████████████████████████████████████████████████████████████| 218/218 [00:00<00:00, 509.98it/s]\n"
     ]
    },
    {
     "name": "stdout",
     "output_type": "stream",
     "text": [
      "val_loss: 0.7065720366775443, val_f1: 0.3098540659846272, val_precision: 0.18802704378415686, val_recall: 0.8800743963193456\n"
     ]
    },
    {
     "name": "stderr",
     "output_type": "stream",
     "text": [
      "100%|████████████████████████████████████████████████████████████| 655/655 [00:04<00:00, 151.75it/s]\n"
     ]
    },
    {
     "name": "stdout",
     "output_type": "stream",
     "text": [
      "Epoch: 544, loss: 0.6882105404184065, f1: 0.3306350578886345, precision: 0.20313480748361304, recall: 0.8880000283699909\n"
     ]
    },
    {
     "name": "stderr",
     "output_type": "stream",
     "text": [
      "100%|████████████████████████████████████████████████████████████| 218/218 [00:00<00:00, 513.96it/s]\n"
     ]
    },
    {
     "name": "stdout",
     "output_type": "stream",
     "text": [
      "val_loss: 0.7065526050165158, val_f1: 0.310223325704719, val_precision: 0.18867560458976193, val_recall: 0.8719412933248992\n"
     ]
    },
    {
     "name": "stderr",
     "output_type": "stream",
     "text": [
      "100%|████████████████████████████████████████████████████████████| 655/655 [00:04<00:00, 150.66it/s]\n"
     ]
    },
    {
     "name": "stdout",
     "output_type": "stream",
     "text": [
      "Epoch: 545, loss: 0.6871014114554602, f1: 0.33200187685261695, precision: 0.20415574104333198, recall: 0.8882248701030061\n"
     ]
    },
    {
     "name": "stderr",
     "output_type": "stream",
     "text": [
      "100%|████████████████████████████████████████████████████████████| 218/218 [00:00<00:00, 519.82it/s]\n"
     ]
    },
    {
     "name": "stdout",
     "output_type": "stream",
     "text": [
      "val_loss: 0.7102721970562541, val_f1: 0.30673913728126057, val_precision: 0.18558386204883867, val_recall: 0.8835493148466863\n"
     ]
    },
    {
     "name": "stderr",
     "output_type": "stream",
     "text": [
      "100%|████████████████████████████████████████████████████████████| 655/655 [00:04<00:00, 150.98it/s]\n"
     ]
    },
    {
     "name": "stdout",
     "output_type": "stream",
     "text": [
      "Epoch: 546, loss: 0.6893237377851064, f1: 0.32963404261101975, precision: 0.20235419751123618, recall: 0.8884902769372663\n"
     ]
    },
    {
     "name": "stderr",
     "output_type": "stream",
     "text": [
      "100%|████████████████████████████████████████████████████████████| 218/218 [00:00<00:00, 516.72it/s]\n"
     ]
    },
    {
     "name": "stdout",
     "output_type": "stream",
     "text": [
      "val_loss: 0.7110871445695195, val_f1: 0.3057348324089446, val_precision: 0.1849316037644487, val_recall: 0.8816695071141655\n"
     ]
    },
    {
     "name": "stderr",
     "output_type": "stream",
     "text": [
      "100%|████████████████████████████████████████████████████████████| 655/655 [00:04<00:00, 151.24it/s]\n"
     ]
    },
    {
     "name": "stdout",
     "output_type": "stream",
     "text": [
      "Epoch: 547, loss: 0.6880450604526142, f1: 0.33105296205509704, precision: 0.2032994880419196, recall: 0.8908861515176205\n"
     ]
    },
    {
     "name": "stderr",
     "output_type": "stream",
     "text": [
      "100%|████████████████████████████████████████████████████████████| 218/218 [00:00<00:00, 513.76it/s]\n"
     ]
    },
    {
     "name": "stdout",
     "output_type": "stream",
     "text": [
      "val_loss: 0.70639342971898, val_f1: 0.31052337456775697, val_precision: 0.18831087038809552, val_recall: 0.8846652390213188\n"
     ]
    },
    {
     "name": "stderr",
     "output_type": "stream",
     "text": [
      "100%|████████████████████████████████████████████████████████████| 655/655 [00:04<00:00, 154.42it/s]\n"
     ]
    },
    {
     "name": "stdout",
     "output_type": "stream",
     "text": [
      "Epoch: 548, loss: 0.6841994025325047, f1: 0.33515877164941116, precision: 0.20643944041305826, recall: 0.8902456520167926\n"
     ]
    },
    {
     "name": "stderr",
     "output_type": "stream",
     "text": [
      "100%|████████████████████████████████████████████████████████████| 218/218 [00:00<00:00, 514.70it/s]\n"
     ]
    },
    {
     "name": "stdout",
     "output_type": "stream",
     "text": [
      "val_loss: 0.7171206340330456, val_f1: 0.29983970055401893, val_precision: 0.18078518998937324, val_recall: 0.8781140550560907\n"
     ]
    },
    {
     "name": "stderr",
     "output_type": "stream",
     "text": [
      "100%|████████████████████████████████████████████████████████████| 655/655 [00:04<00:00, 152.51it/s]\n"
     ]
    },
    {
     "name": "stdout",
     "output_type": "stream",
     "text": [
      "Epoch: 549, loss: 0.6892881179583892, f1: 0.32925139065163544, precision: 0.20213565866797026, recall: 0.8871435851541184\n"
     ]
    },
    {
     "name": "stderr",
     "output_type": "stream",
     "text": [
      "100%|████████████████████████████████████████████████████████████| 218/218 [00:00<00:00, 513.28it/s]\n"
     ]
    },
    {
     "name": "stdout",
     "output_type": "stream",
     "text": [
      "val_loss: 0.7074990064725963, val_f1: 0.3091292706756914, val_precision: 0.18745285166649645, val_recall: 0.8809715118430076\n"
     ]
    },
    {
     "name": "stderr",
     "output_type": "stream",
     "text": [
      "100%|████████████████████████████████████████████████████████████| 655/655 [00:04<00:00, 153.84it/s]\n"
     ]
    },
    {
     "name": "stdout",
     "output_type": "stream",
     "text": [
      "Epoch: 550, loss: 0.688758816063859, f1: 0.33055966134754505, precision: 0.20308125024760953, recall: 0.8879358244306259\n"
     ]
    },
    {
     "name": "stderr",
     "output_type": "stream",
     "text": [
      "100%|████████████████████████████████████████████████████████████| 218/218 [00:00<00:00, 516.77it/s]\n"
     ]
    },
    {
     "name": "stdout",
     "output_type": "stream",
     "text": [
      "val_loss: 0.7131008708148922, val_f1: 0.30277644162115663, val_precision: 0.18276939574424006, val_recall: 0.8817112073985809\n"
     ]
    },
    {
     "name": "stderr",
     "output_type": "stream",
     "text": [
      "100%|████████████████████████████████████████████████████████████| 655/655 [00:04<00:00, 150.49it/s]\n"
     ]
    },
    {
     "name": "stdout",
     "output_type": "stream",
     "text": [
      "Epoch: 551, loss: 0.686811949460561, f1: 0.3322168296563822, precision: 0.2042895611432445, recall: 0.8887688936168001\n"
     ]
    },
    {
     "name": "stderr",
     "output_type": "stream",
     "text": [
      "100%|████████████████████████████████████████████████████████████| 218/218 [00:00<00:00, 517.43it/s]\n"
     ]
    },
    {
     "name": "stdout",
     "output_type": "stream",
     "text": [
      "val_loss: 0.7129220516856657, val_f1: 0.3041259838251372, val_precision: 0.18350231244203147, val_recall: 0.8875481461713074\n"
     ]
    },
    {
     "name": "stderr",
     "output_type": "stream",
     "text": [
      "100%|████████████████████████████████████████████████████████████| 655/655 [00:04<00:00, 152.61it/s]\n"
     ]
    },
    {
     "name": "stdout",
     "output_type": "stream",
     "text": [
      "Epoch: 552, loss: 0.6884067958547869, f1: 0.3304900059504145, precision: 0.2030584252517642, recall: 0.8873671851085343\n"
     ]
    },
    {
     "name": "stderr",
     "output_type": "stream",
     "text": [
      "100%|████████████████████████████████████████████████████████████| 218/218 [00:00<00:00, 513.60it/s]\n"
     ]
    },
    {
     "name": "stdout",
     "output_type": "stream",
     "text": [
      "val_loss: 0.7203002826336327, val_f1: 0.2957939242099227, val_precision: 0.17789688522696767, val_recall: 0.8770158772074849\n"
     ]
    },
    {
     "name": "stderr",
     "output_type": "stream",
     "text": [
      "100%|████████████████████████████████████████████████████████████| 655/655 [00:04<00:00, 153.03it/s]\n"
     ]
    },
    {
     "name": "stdout",
     "output_type": "stream",
     "text": [
      "Epoch: 553, loss: 0.6970521806760599, f1: 0.3213770291632491, precision: 0.19624002546015132, recall: 0.8869810990704835\n"
     ]
    },
    {
     "name": "stderr",
     "output_type": "stream",
     "text": [
      "100%|████████████████████████████████████████████████████████████| 218/218 [00:00<00:00, 514.48it/s]\n"
     ]
    },
    {
     "name": "stdout",
     "output_type": "stream",
     "text": [
      "val_loss: 0.7132393337717844, val_f1: 0.3028341747277727, val_precision: 0.18270388762509332, val_recall: 0.8842224287330558\n"
     ]
    },
    {
     "name": "stderr",
     "output_type": "stream",
     "text": [
      "100%|████████████████████████████████████████████████████████████| 655/655 [00:04<00:00, 151.46it/s]\n"
     ]
    },
    {
     "name": "stdout",
     "output_type": "stream",
     "text": [
      "Epoch: 554, loss: 0.6947505898148049, f1: 0.32343052329686106, precision: 0.19782609591217895, recall: 0.885925221989173\n"
     ]
    },
    {
     "name": "stderr",
     "output_type": "stream",
     "text": [
      "100%|████████████████████████████████████████████████████████████| 218/218 [00:00<00:00, 515.08it/s]\n"
     ]
    },
    {
     "name": "stdout",
     "output_type": "stream",
     "text": [
      "val_loss: 0.712635120394033, val_f1: 0.3038264430048505, val_precision: 0.18367914876840805, val_recall: 0.8784031701197318\n"
     ]
    },
    {
     "name": "stderr",
     "output_type": "stream",
     "text": [
      "100%|████████████████████████████████████████████████████████████| 655/655 [00:04<00:00, 152.90it/s]\n"
     ]
    },
    {
     "name": "stdout",
     "output_type": "stream",
     "text": [
      "Epoch: 555, loss: 0.6959919358937795, f1: 0.3222970103361907, precision: 0.19701639560001497, recall: 0.8851621119120648\n"
     ]
    },
    {
     "name": "stderr",
     "output_type": "stream",
     "text": [
      "100%|████████████████████████████████████████████████████████████| 218/218 [00:00<00:00, 509.69it/s]\n"
     ]
    },
    {
     "name": "stdout",
     "output_type": "stream",
     "text": [
      "val_loss: 0.7120352111278324, val_f1: 0.30418801489020636, val_precision: 0.1842321624312926, val_recall: 0.8718797919947073\n"
     ]
    },
    {
     "name": "stderr",
     "output_type": "stream",
     "text": [
      "100%|████████████████████████████████████████████████████████████| 655/655 [00:04<00:00, 152.40it/s]\n"
     ]
    },
    {
     "name": "stdout",
     "output_type": "stream",
     "text": [
      "Epoch: 556, loss: 0.6923977287671038, f1: 0.3257915613044618, precision: 0.19949462604886703, recall: 0.8879196186102074\n"
     ]
    },
    {
     "name": "stderr",
     "output_type": "stream",
     "text": [
      "100%|████████████████████████████████████████████████████████████| 218/218 [00:00<00:00, 515.58it/s]\n"
     ]
    },
    {
     "name": "stdout",
     "output_type": "stream",
     "text": [
      "val_loss: 0.7060263687317524, val_f1: 0.31092082201730825, val_precision: 0.18850475346344872, val_recall: 0.8868394488588386\n"
     ]
    },
    {
     "name": "stderr",
     "output_type": "stream",
     "text": [
      "100%|████████████████████████████████████████████████████████████| 655/655 [00:04<00:00, 151.70it/s]\n"
     ]
    },
    {
     "name": "stdout",
     "output_type": "stream",
     "text": [
      "Epoch: 557, loss: 0.6977467627015732, f1: 0.3209544569634935, precision: 0.19603589138456884, recall: 0.8847153960293486\n"
     ]
    },
    {
     "name": "stderr",
     "output_type": "stream",
     "text": [
      "100%|████████████████████████████████████████████████████████████| 218/218 [00:00<00:00, 515.52it/s]\n"
     ]
    },
    {
     "name": "stdout",
     "output_type": "stream",
     "text": [
      "val_loss: 0.7087949741324153, val_f1: 0.3077788398765849, val_precision: 0.18655423035657187, val_recall: 0.8788883795431994\n"
     ]
    },
    {
     "name": "stderr",
     "output_type": "stream",
     "text": [
      "100%|████████████████████████████████████████████████████████████| 655/655 [00:04<00:00, 151.10it/s]\n"
     ]
    },
    {
     "name": "stdout",
     "output_type": "stream",
     "text": [
      "Epoch: 558, loss: 0.6921450177221807, f1: 0.3260628948283728, precision: 0.19965994738269854, recall: 0.8886754915004468\n"
     ]
    },
    {
     "name": "stderr",
     "output_type": "stream",
     "text": [
      "100%|████████████████████████████████████████████████████████████| 218/218 [00:00<00:00, 510.85it/s]\n"
     ]
    },
    {
     "name": "stdout",
     "output_type": "stream",
     "text": [
      "val_loss: 0.7151824342548301, val_f1: 0.30074103807518127, val_precision: 0.181316318682506, val_recall: 0.8810445767477018\n"
     ]
    },
    {
     "name": "stderr",
     "output_type": "stream",
     "text": [
      "100%|████████████████████████████████████████████████████████████| 655/655 [00:04<00:00, 150.85it/s]\n"
     ]
    },
    {
     "name": "stdout",
     "output_type": "stream",
     "text": [
      "Epoch: 559, loss: 0.6893453068405617, f1: 0.32946904472180133, precision: 0.20212481117430534, recall: 0.890523590022371\n"
     ]
    },
    {
     "name": "stderr",
     "output_type": "stream",
     "text": [
      "100%|████████████████████████████████████████████████████████████| 218/218 [00:00<00:00, 512.27it/s]\n"
     ]
    },
    {
     "name": "stdout",
     "output_type": "stream",
     "text": [
      "val_loss: 0.7077517566877768, val_f1: 0.3093760711135381, val_precision: 0.1876686494541141, val_recall: 0.8802169301641096\n"
     ]
    },
    {
     "name": "stderr",
     "output_type": "stream",
     "text": [
      "100%|████████████████████████████████████████████████████████████| 655/655 [00:04<00:00, 150.84it/s]\n"
     ]
    },
    {
     "name": "stdout",
     "output_type": "stream",
     "text": [
      "Epoch: 560, loss: 0.6916097094994464, f1: 0.32646675290329696, precision: 0.1999459174895332, recall: 0.8890108474338327\n"
     ]
    },
    {
     "name": "stderr",
     "output_type": "stream",
     "text": [
      "100%|████████████████████████████████████████████████████████████| 218/218 [00:00<00:00, 513.39it/s]\n"
     ]
    },
    {
     "name": "stdout",
     "output_type": "stream",
     "text": [
      "val_loss: 0.7338659440705536, val_f1: 0.28357768721570326, val_precision: 0.16885591936596764, val_recall: 0.8845390524339238\n"
     ]
    },
    {
     "name": "stderr",
     "output_type": "stream",
     "text": [
      "100%|████████████████████████████████████████████████████████████| 655/655 [00:04<00:00, 153.14it/s]\n"
     ]
    },
    {
     "name": "stdout",
     "output_type": "stream",
     "text": [
      "Epoch: 561, loss: 0.6955330221707584, f1: 0.3232184639962862, precision: 0.1976543966481704, recall: 0.886187524831932\n"
     ]
    },
    {
     "name": "stderr",
     "output_type": "stream",
     "text": [
      "100%|████████████████████████████████████████████████████████████| 218/218 [00:00<00:00, 517.90it/s]\n"
     ]
    },
    {
     "name": "stdout",
     "output_type": "stream",
     "text": [
      "val_loss: 0.7141903983343632, val_f1: 0.3025820203869793, val_precision: 0.18230034719400723, val_recall: 0.8894225531214968\n"
     ]
    },
    {
     "name": "stderr",
     "output_type": "stream",
     "text": [
      "100%|████████████████████████████████████████████████████████████| 655/655 [00:04<00:00, 150.54it/s]\n"
     ]
    },
    {
     "name": "stdout",
     "output_type": "stream",
     "text": [
      "Epoch: 562, loss: 0.69914459499694, f1: 0.31893943726435997, precision: 0.19450585990575434, recall: 0.8853085306764559\n"
     ]
    },
    {
     "name": "stderr",
     "output_type": "stream",
     "text": [
      "100%|████████████████████████████████████████████████████████████| 218/218 [00:00<00:00, 515.73it/s]\n"
     ]
    },
    {
     "name": "stdout",
     "output_type": "stream",
     "text": [
      "val_loss: 0.7109464781546811, val_f1: 0.3053331471299383, val_precision: 0.1844909613644448, val_recall: 0.8850320421774452\n"
     ]
    },
    {
     "name": "stderr",
     "output_type": "stream",
     "text": [
      "100%|████████████████████████████████████████████████████████████| 655/655 [00:04<00:00, 152.47it/s]\n"
     ]
    },
    {
     "name": "stdout",
     "output_type": "stream",
     "text": [
      "Epoch: 563, loss: 0.6998366385925817, f1: 0.31858304531389664, precision: 0.1943602500213239, recall: 0.8828361476650675\n"
     ]
    },
    {
     "name": "stderr",
     "output_type": "stream",
     "text": [
      "100%|████████████████████████████████████████████████████████████| 218/218 [00:00<00:00, 516.87it/s]\n"
     ]
    },
    {
     "name": "stdout",
     "output_type": "stream",
     "text": [
      "val_loss: 0.7152608329549842, val_f1: 0.30095490618787296, val_precision: 0.18142616025112365, val_recall: 0.8821223575040835\n"
     ]
    },
    {
     "name": "stderr",
     "output_type": "stream",
     "text": [
      "100%|████████████████████████████████████████████████████████████| 655/655 [00:04<00:00, 150.48it/s]\n"
     ]
    },
    {
     "name": "stdout",
     "output_type": "stream",
     "text": [
      "Epoch: 564, loss: 0.691250029684023, f1: 0.32748012149764794, precision: 0.20086192428951954, recall: 0.8859777109313557\n"
     ]
    },
    {
     "name": "stderr",
     "output_type": "stream",
     "text": [
      "100%|████████████████████████████████████████████████████████████| 218/218 [00:00<00:00, 518.82it/s]\n"
     ]
    },
    {
     "name": "stdout",
     "output_type": "stream",
     "text": [
      "val_loss: 0.7140612066338915, val_f1: 0.30278059556044723, val_precision: 0.18282544301019624, val_recall: 0.8804794142552472\n"
     ]
    },
    {
     "name": "stderr",
     "output_type": "stream",
     "text": [
      "100%|████████████████████████████████████████████████████████████| 655/655 [00:04<00:00, 152.07it/s]\n"
     ]
    },
    {
     "name": "stdout",
     "output_type": "stream",
     "text": [
      "Epoch: 565, loss: 0.6955426875871557, f1: 0.3241514744752219, precision: 0.19842785190478082, recall: 0.8846896715746582\n"
     ]
    },
    {
     "name": "stderr",
     "output_type": "stream",
     "text": [
      "100%|████████████████████████████████████████████████████████████| 218/218 [00:00<00:00, 519.65it/s]\n"
     ]
    },
    {
     "name": "stdout",
     "output_type": "stream",
     "text": [
      "val_loss: 0.7137283062169312, val_f1: 0.30340021975921677, val_precision: 0.18305552674782113, val_recall: 0.885637835351699\n"
     ]
    },
    {
     "name": "stderr",
     "output_type": "stream",
     "text": [
      "100%|████████████████████████████████████████████████████████████| 655/655 [00:04<00:00, 151.34it/s]\n"
     ]
    },
    {
     "name": "stdout",
     "output_type": "stream",
     "text": [
      "Epoch: 566, loss: 0.6929617485927262, f1: 0.32610575651740864, precision: 0.1998799717181739, recall: 0.884973578780662\n"
     ]
    },
    {
     "name": "stderr",
     "output_type": "stream",
     "text": [
      "100%|████████████████████████████████████████████████████████████| 218/218 [00:00<00:00, 510.46it/s]\n"
     ]
    },
    {
     "name": "stdout",
     "output_type": "stream",
     "text": [
      "val_loss: 0.7159612561584613, val_f1: 0.30172535620563573, val_precision: 0.18187223989174728, val_recall: 0.8848152505148441\n"
     ]
    },
    {
     "name": "stderr",
     "output_type": "stream",
     "text": [
      "100%|████████████████████████████████████████████████████████████| 655/655 [00:04<00:00, 151.35it/s]\n"
     ]
    },
    {
     "name": "stdout",
     "output_type": "stream",
     "text": [
      "Epoch: 567, loss: 0.6902865013093439, f1: 0.3288821095917743, precision: 0.20195551221721045, recall: 0.8852527727607552\n"
     ]
    },
    {
     "name": "stderr",
     "output_type": "stream",
     "text": [
      "100%|████████████████████████████████████████████████████████████| 218/218 [00:00<00:00, 512.18it/s]\n"
     ]
    },
    {
     "name": "stdout",
     "output_type": "stream",
     "text": [
      "val_loss: 0.7124360840801799, val_f1: 0.3051736005051711, val_precision: 0.18468009506206995, val_recall: 0.8780570814915754\n"
     ]
    },
    {
     "name": "stderr",
     "output_type": "stream",
     "text": [
      "100%|████████████████████████████████████████████████████████████| 655/655 [00:04<00:00, 151.45it/s]\n"
     ]
    },
    {
     "name": "stdout",
     "output_type": "stream",
     "text": [
      "Epoch: 568, loss: 0.6869208809983639, f1: 0.33193421887939395, precision: 0.2041274611049026, recall: 0.887791731430374\n"
     ]
    },
    {
     "name": "stderr",
     "output_type": "stream",
     "text": [
      "100%|████████████████████████████████████████████████████████████| 218/218 [00:00<00:00, 509.01it/s]\n"
     ]
    },
    {
     "name": "stdout",
     "output_type": "stream",
     "text": [
      "val_loss: 0.7109490015091152, val_f1: 0.30644393152668026, val_precision: 0.18568017942096116, val_recall: 0.8765202667735038\n"
     ]
    },
    {
     "name": "stderr",
     "output_type": "stream",
     "text": [
      "100%|████████████████████████████████████████████████████████████| 655/655 [00:04<00:00, 153.59it/s]\n"
     ]
    },
    {
     "name": "stdout",
     "output_type": "stream",
     "text": [
      "Epoch: 569, loss: 0.6891548989383319, f1: 0.3298557061195302, precision: 0.20265372242806978, recall: 0.885950248842021\n"
     ]
    },
    {
     "name": "stderr",
     "output_type": "stream",
     "text": [
      "100%|████████████████████████████████████████████████████████████| 218/218 [00:00<00:00, 516.47it/s]\n"
     ]
    },
    {
     "name": "stdout",
     "output_type": "stream",
     "text": [
      "val_loss: 0.7138209471461969, val_f1: 0.30481847608307333, val_precision: 0.18435372053346502, val_recall: 0.8795637895754718\n"
     ]
    },
    {
     "name": "stderr",
     "output_type": "stream",
     "text": [
      "100%|████████████████████████████████████████████████████████████| 655/655 [00:04<00:00, 153.12it/s]\n"
     ]
    },
    {
     "name": "stdout",
     "output_type": "stream",
     "text": [
      "Epoch: 570, loss: 0.69645503449986, f1: 0.32244635812351996, precision: 0.19736507772716858, recall: 0.8804137702206619\n"
     ]
    },
    {
     "name": "stderr",
     "output_type": "stream",
     "text": [
      "100%|████████████████████████████████████████████████████████████| 218/218 [00:00<00:00, 513.73it/s]\n"
     ]
    },
    {
     "name": "stdout",
     "output_type": "stream",
     "text": [
      "val_loss: 0.7095273667519245, val_f1: 0.30710460323194955, val_precision: 0.18597900952904597, val_recall: 0.8806785148218137\n"
     ]
    },
    {
     "name": "stderr",
     "output_type": "stream",
     "text": [
      "100%|████████████████████████████████████████████████████████████| 655/655 [00:04<00:00, 154.33it/s]\n"
     ]
    },
    {
     "name": "stdout",
     "output_type": "stream",
     "text": [
      "Epoch: 571, loss: 0.6870238347817923, f1: 0.33185757916618264, precision: 0.20423920365860898, recall: 0.8845940370596093\n"
     ]
    },
    {
     "name": "stderr",
     "output_type": "stream",
     "text": [
      "100%|████████████████████████████████████████████████████████████| 218/218 [00:00<00:00, 510.43it/s]\n"
     ]
    },
    {
     "name": "stdout",
     "output_type": "stream",
     "text": [
      "val_loss: 0.7053776216616324, val_f1: 0.3109069859083731, val_precision: 0.18881146200513893, val_recall: 0.8798917354246892\n"
     ]
    },
    {
     "name": "stderr",
     "output_type": "stream",
     "text": [
      "100%|████████████████████████████████████████████████████████████| 655/655 [00:04<00:00, 150.76it/s]\n"
     ]
    },
    {
     "name": "stdout",
     "output_type": "stream",
     "text": [
      "Epoch: 572, loss: 0.6965668641883909, f1: 0.32175033333110004, precision: 0.19671264862684348, recall: 0.8830469776655882\n"
     ]
    },
    {
     "name": "stderr",
     "output_type": "stream",
     "text": [
      "100%|████████████████████████████████████████████████████████████| 218/218 [00:00<00:00, 516.61it/s]\n"
     ]
    },
    {
     "name": "stdout",
     "output_type": "stream",
     "text": [
      "val_loss: 0.7147266049997523, val_f1: 0.30082989153558165, val_precision: 0.1812350029518845, val_recall: 0.8845036521964117\n"
     ]
    },
    {
     "name": "stderr",
     "output_type": "stream",
     "text": [
      " 34%|████████████████████▌                                       | 224/655 [00:01<00:02, 150.37it/s]"
     ]
    }
   ],
   "source": [
    "train()\n",
    "torch.save(model, \"./models/\" + run_name + \".pt\")"
   ]
  },
  {
   "cell_type": "code",
   "execution_count": 59,
   "id": "5978cf48",
   "metadata": {},
   "outputs": [],
   "source": [
    "run_name = \"GatedGCN_\" + str(num_layers) + \"_\" + \"140\" + \"_\" + str(lr) + \"_\" + \"Adam_\" + str(out_channels)\n",
    "\n",
    "\n",
    "torch.save(model, \"./models/\" + run_name + \".pt\")"
   ]
  }
 ],
 "metadata": {
  "kernelspec": {
   "display_name": "Python 3 (ipykernel)",
   "language": "python",
   "name": "python3"
  },
  "language_info": {
   "codemirror_mode": {
    "name": "ipython",
    "version": 3
   },
   "file_extension": ".py",
   "mimetype": "text/x-python",
   "name": "python",
   "nbconvert_exporter": "python",
   "pygments_lexer": "ipython3",
   "version": "3.8.10"
  }
 },
 "nbformat": 4,
 "nbformat_minor": 5
}
