{
 "cells": [
  {
   "cell_type": "code",
   "execution_count": 202,
   "id": "27f466d3",
   "metadata": {},
   "outputs": [],
   "source": [
    "import os.path as osp\n",
    "from tqdm.auto import tqdm\n",
    "import numpy as np\n",
    "import wandb\n",
    "\n",
    "import torch\n",
    "from PIL import Image\n",
    "import torchvision.transforms as T\n",
    "from torchvision.utils import save_image\n",
    "\n",
    "import torch.nn.functional as F\n",
    "# from ogb.nodeproppred import Evaluator, PygNodePropPredDataset\n",
    "from torch.nn import LayerNorm, Linear, ReLU, Tanh\n",
    "\n",
    "import torch_geometric.transforms as T\n",
    "from torch_geometric.datasets import Planetoid\n",
    "from torch_geometric.nn import GCNConv, GatedGraphConv, GCN\n",
    "from torch_geometric.nn import DeepGCNLayer, GENConv, MessageNorm\n",
    "from torch_geometric.utils import negative_sampling, to_dense_adj\n",
    "from torch_geometric.loader import DataLoader\n",
    "\n",
    "from dataset_processing import RNADataset\n"
   ]
  },
  {
   "cell_type": "code",
   "execution_count": 2,
   "id": "4a077c77",
   "metadata": {},
   "outputs": [],
   "source": [
    "dataset = RNADataset(root=\"./data/\")\n",
    "dataset = dataset.shuffle()\n",
    "train_data, val_data, test_data = dataset[0:655], dataset[655:873], dataset[873:]\n",
    "bs = 4\n",
    "\n",
    "train_dataloader = DataLoader(train_data, batch_size=bs, shuffle=False)\n",
    "val_dataloader = DataLoader(val_data, batch_size=1, shuffle=False)\n"
   ]
  },
  {
   "cell_type": "code",
   "execution_count": 203,
   "id": "89e02885",
   "metadata": {},
   "outputs": [],
   "source": [
    "save_image(torch.rand([200, 200]), \"./pictures/test.jpg\")"
   ]
  },
  {
   "cell_type": "code",
   "execution_count": 4,
   "id": "44a4ce7a",
   "metadata": {},
   "outputs": [],
   "source": [
    "def del_nucl_conn(y):\n",
    "#     main_diag = torch.zeros([1, y.size()[0] // bs])\n",
    "#     diag1 = torch.ones([1, (y.size()[0] // bs) - 1])\n",
    "    \n",
    "    main_diag = torch.zeros([1, y.size()[0]])\n",
    "    diag1 = torch.ones([1, y.size()[0] - 1])\n",
    "#     batch_diags = []\n",
    "#     for i in range(bs):\n",
    "#         batch_diags.append((torch.diag_embed(main_diag).to(device) +\n",
    "#             torch.diag_embed(diag1, offset=1).to(device) + \n",
    "#             torch.diag_embed(diag1, offset=-1).to(device) - 1)[0])\n",
    "\n",
    "#     return y * torch.cat(batch_diags, 0).to(device) * (-1)\n",
    "    return y * (torch.diag_embed(main_diag).to(device) + \n",
    "                    torch.diag_embed(diag1, offset=1).to(device) + \n",
    "                torch.diag_embed(diag1, offset=-1).to(device) - 1)[0] * (-1)\n",
    "\n",
    "\n",
    "def del_main_diag(y):\n",
    "#     main_diag = torch.ones([1, y.size()[0] // bs])\n",
    "    main_diag = torch.ones([1, y.size()[0]])\n",
    "\n",
    "#     batch_diags = []\n",
    "#     for i in range(bs):\n",
    "#         batch_diags.append((torch.diag_embed(main_diag).to(device) - 1)[0])\n",
    "    \n",
    "#     return y * torch.cat(batch_diags, 0).to(device) * (-1)\n",
    "    return y * (torch.diag_embed(main_diag).to(device) - 1)[0] * (-1)\n",
    "\n",
    "\n",
    "def adj_mat_split(y):\n",
    "    y = list(torch.split(y, 196, dim=0))\n",
    "#     print(y)\n",
    "    for i in range(len(y)):\n",
    "        y[i] = torch.split(y[i], 196, dim=1)\n",
    "    \n",
    "    y1 = []\n",
    "    for i in range(len(y)):\n",
    "        y1.append(y[i][i])\n",
    "    \n",
    "    return torch.cat(y1, 0).to(device)\n",
    "    \n",
    "\n",
    "def argm(y):\n",
    "    max_ind = torch.argmax(y, dim=1)\n",
    "    y1 = torch.zeros_like(y)\n",
    "    k = 0\n",
    "    for i in max_ind:\n",
    "        y1[k][i] = 1.\n",
    "        y1[i][k] = 1.\n",
    "        k += 1\n",
    "    \n",
    "    return y1 * y\n"
   ]
  },
  {
   "cell_type": "code",
   "execution_count": 272,
   "id": "1a1b581d",
   "metadata": {},
   "outputs": [],
   "source": [
    "a = 0.8\n",
    "\n",
    "def precision(y_pred, y_true, y_in):\n",
    "    y_pred = y_pred + y_in\n",
    "    y_pred = del_nucl_conn(y_pred)\n",
    "    y_pred[(y_pred > a)] = 1\n",
    "    y_pred[(y_pred <= a)] = 0 \n",
    "#     y_pred = argm(y_pred)\n",
    "    y_pred = del_main_diag(y_pred)\n",
    "    y_pred = adj_mat_split(y_pred)\n",
    "\n",
    "    tp = torch.sum(y_pred * y_true)\n",
    "    fp = torch.sum((1 - y_true) * y_pred)\n",
    "    \n",
    "    return tp / (tp + fp + epsilon)\n",
    "\n",
    "def recall(y_pred, y_true, y_in):\n",
    "    y_pred = y_pred + y_in\n",
    "    y_pred = del_nucl_conn(y_pred)\n",
    "    y_pred[(y_pred > a)] = 1\n",
    "    y_pred[(y_pred <= a)] = 0 \n",
    "#     y_pred = argm(y_pred)\n",
    "    y_pred = del_main_diag(y_pred)\n",
    "    y_pred = adj_mat_split(y_pred)\n",
    "\n",
    "    tp = torch.sum(y_pred * y_true)\n",
    "    fn = torch.sum(y_true * (1 - y_pred))\n",
    "    \n",
    "    return tp / (tp + fn + epsilon)\n",
    "\n",
    "def f_loss(y_pred, y_true, y_in):\n",
    "    y_pred = y_pred + y_in\n",
    "    y_pred = del_nucl_conn(y_pred)\n",
    "#     y_pred = argm(y_pred)\n",
    "    y_pred = del_main_diag(y_pred)\n",
    "    y_pred = adj_mat_split(y_pred)\n",
    "\n",
    "    tp = torch.sum(y_pred * y_true)\n",
    "    fn = torch.sum(y_true * (1 - y_pred))\n",
    "    fp = torch.sum((1 - y_true) * y_pred)\n",
    "    precision = tp / (tp + fp + epsilon)\n",
    "    recall = tp / (tp + fn + epsilon)\n",
    "\n",
    "    k = 1\n",
    "    k1 = 1 - torch.abs(precision - recall)\n",
    "\n",
    "#     k2 = 1 - torch.abs(K.mean(precision) - K.mean(recall))\n",
    "    #calculate upgraded f1 score\n",
    "    f1 = ((1 + k * k) * precision * recall) / (k * k * precision + recall + epsilon)\n",
    "#     tw = K.sum(K.cast(y_true * y_pred, ’float32’), axis=[1, 2, 3])\n",
    "#     fw = K.sum(K.cast((1 - y_true) * y_pred, ’float32’), axis=[1, 2, 3])\n",
    "#     fb = K.sum(K.cast(y_true * (1 - y_pred), ’float32’), axis=[1, 2, 3])\n",
    "    return 1 - f1\n",
    "\n",
    "\n",
    "def mse_loss(y_pred, y_true):\n",
    "#    y_pred = torch.tanh((y_pred*3)**5)\n",
    "#     y_true = y_true - y_in\n",
    "    y_pred = del_nucl_conn(y_pred)\n",
    "#     y_pred[(y_pred > a)] = 1\n",
    "#     y_pred[(y_pred <= a)] = 0 \n",
    "#     y_pred = argm(y_pred)\n",
    "    y_pred = del_main_diag(y_pred)\n",
    "    y_true = del_nucl_conn(y_true)\n",
    "    y_true = del_main_diag(y_true)\n",
    "    \n",
    "#     y_pred = adj_mat_split(y_pred)\n",
    "#     return torch.sqrt(torch.mean((y_pred - y_true) ** 2))\n",
    "    return (torch.sum((y_pred - y_true) ** 2))\n",
    "\n",
    "\n",
    "def distance_loss(y_pred, y_true):\n",
    "   # print(\">>>>>>>>>>>>>>>>>>>>>>>>>>\")\n",
    "    #y_pred = torch.tanh((y_pred*3)**5)\n",
    "    y_pred = del_nucl_conn(y_pred)\n",
    "    y_pred = del_main_diag(y_pred)\n",
    "    y_true = del_nucl_conn(y_true)\n",
    "    y_true = del_main_diag(y_true)\n",
    "    \n",
    "    \n",
    "    \n",
    "   # print(y_pred)\n",
    "    #print(y_true)\n",
    "    \n",
    "    #print (\"---------------------------------\")\n",
    "    \n",
    "    \n",
    "    c = 0.001\n",
    "    \n",
    "#     y_pred[0][0] = 0.01\n",
    "#     y_true[0][0] = 0.01\n",
    "#     y_pred[(torch.abs(y_pred) < c)] = 0\n",
    "#    c = torch.rand(y_true.size()).to(device)\n",
    "#     k = 0.4\n",
    "#     c[(c > k)] = 0\n",
    "#     c += y_true\n",
    "#     y_true += c\n",
    "    #y_pred.where(y_pred > c or y_pred < -c, y_pred, 0)\n",
    "    \n",
    "    #print(y_pred)\n",
    "    \n",
    "    #print(\"<<<<<<<<<<<<<<<<<<<<<<<<<\")\n",
    "    \n",
    "    #c = 0.0001\n",
    "    y_true_local = y_true + c\n",
    "    y_true_local = torch.triu(y_true_local, diagonal=2)\n",
    "    y_true_local = y_true_local.to_sparse()\n",
    "    #c_sparse = torch.triu(c, diagonal=2).to_sparse()\n",
    "    y_true_local = torch.cat([y_true_local.indices(), torch.unsqueeze((y_true_local.values() - c) , 0)], dim=0)\n",
    "#     y_true_local = torch.cat([y_true_local.indices(), torch.unsqueeze(y_true_local.values() * 100, 0)], dim=0)\n",
    "    \n",
    "    y_pred_local = torch.triu(y_pred, diagonal=2)\n",
    "    y_pred_local = y_pred_local.to_sparse()\n",
    "    y_pred_local = torch.cat([y_pred_local.indices(), torch.unsqueeze(y_pred_local.values(), 0)], dim=0)\n",
    "    dist2 = torch.cdist(y_true_local.t(), y_pred_local.t())\n",
    "    x_min,ind1 = torch.min(dist2, dim=0)\n",
    "    y_min,ind1 = torch.min(dist2, dim=1)\n",
    "#     return torch.sum(torch.sqrt(x_min))/(x_min.size()[0]) + torch.sum(torch.sqrt(y_min))/(y_min.size()[0])\n",
    "    return torch.sum(x_min ** 2)/(x_min.size()[0]) + torch.sum(y_min ** 2)/(y_min.size()[0])\n",
    "\n",
    "    #return torch.sum(x_min)/(x_min.size()[0])\n",
    "    \n"
   ]
  },
  {
   "cell_type": "code",
   "execution_count": 279,
   "id": "34be5809",
   "metadata": {},
   "outputs": [],
   "source": [
    "class DeepGCNModel(torch.nn.Module):\n",
    "    def __init__(self, num_layers, out_channels):\n",
    "        super(DeepGCNModel, self).__init__()\n",
    "        self.layers = torch.nn.ModuleList()\n",
    "#         conv1 = GCN(dataset.num_features, out_channels, num_layers=2)\n",
    "#         layer = DeepGCNLayer(conv1, block='res', dropout=0)\n",
    "\n",
    "#         self.layers.append(layer)\n",
    "        for i in range(1, num_layers + 1):\n",
    "\n",
    "            conv = GatedGraphConv(out_channels, num_layers=6)\n",
    "\n",
    "            layer = DeepGCNLayer(conv, block='res', dropout=0.7)\n",
    "            self.layers.append(layer)\n",
    "\n",
    "        self.lin = Linear(out_channels, 1)\n",
    "\n",
    "    def forward(self, x, edge_index):\n",
    "        x = self.layers[0].conv(x, edge_index)\n",
    "        for layer in self.layers[1:]:\n",
    "            x = layer(x, edge_index)\n",
    "            \n",
    "        x1, x2 = torch.split(x, out_channels // 2, dim=1)\n",
    "        #!!return torch.tanh(((torch.tanh(x1 @ x2.t()))*20)**11)\n",
    "#         return torch.tanh(((torch.tanh(x1 @ x2.t())))**11)\n",
    "#         return (x1 @ x2.t()).sigmoid()\n",
    "\n",
    "        \n",
    "        return torch.tanh(((torch.tanh(x1 @ x2.t()))*1000))\n",
    "        #return torch.tanh(torch.tanh(x @ x.t())**11)"
   ]
  },
  {
   "cell_type": "code",
   "execution_count": 280,
   "id": "741f839b",
   "metadata": {},
   "outputs": [
    {
     "name": "stdout",
     "output_type": "stream",
     "text": [
      "cuda\n"
     ]
    }
   ],
   "source": [
    "num_layers = 3\n",
    "# num_features = dataset.num_features\n",
    "out_channels = 200\n",
    "\n",
    "\n",
    "lr = 0.0001\n",
    "epochs = 1500\n",
    "beta = 1\n",
    "\n",
    "\n",
    "model = DeepGCNModel(num_layers, out_channels)\n",
    "# model = torch.load(\"./models1/GatedGCN_6_4e-05_Adam_200_2_60.pt\")\n",
    "\n",
    "device = torch.device('cuda' if torch.cuda.is_available() else 'cpu')\n",
    "model = model.to(device)\n",
    "train_data = list(map(lambda x: x.to(device), train_data))\n",
    "val_data = list(map(lambda x: x.to(device), val_data))\n",
    "print(device)\n",
    "\n",
    "# optimizer = torch.optim.Adam(model.parameters(), lr=lr)\n",
    "#optimizer = torch.optim.Adagrad(model.parameters(), lr=lr)\n",
    "optimizer = torch.optim.RMSprop(model.parameters(), lr=lr, momentum=0)\n",
    "#optimizer = torch.optim.Adamax(model.parameters(), lr=lr)\n",
    "# optimizer = torch.optim.Adadelta(model.parameters(), lr=lr)\n",
    "\n",
    "# optimizer = torch.optim.SGD(model.parameters(), lr=0.001)\n",
    "\n",
    "# criterion = torch.nn.BCELoss()\n",
    "# criterion = torch.nn.BCEWithLogitsLoss()\n",
    "# criterion = torch.nn.CrossEntropyLoss()\n",
    "\n",
    "# def RMSELoss(y_pred, y_true):\n",
    "#     return torch.sqrt(torch.mean((y_pred - y_true) ** 2))\n",
    "\n",
    "# criterion = f_loss\n",
    "# criterion = mse_loss\n",
    "criterion = distance_loss"
   ]
  },
  {
   "cell_type": "code",
   "execution_count": 281,
   "id": "79405b81",
   "metadata": {},
   "outputs": [
    {
     "data": {
      "text/html": [
       "Finishing last run (ID:k6phau2l) before initializing another..."
      ],
      "text/plain": [
       "<IPython.core.display.HTML object>"
      ]
     },
     "metadata": {},
     "output_type": "display_data"
    },
    {
     "data": {
      "text/html": [
       "Waiting for W&B process to finish... <strong style=\"color:green\">(success).</strong>"
      ],
      "text/plain": [
       "<IPython.core.display.HTML object>"
      ]
     },
     "metadata": {},
     "output_type": "display_data"
    },
    {
     "data": {
      "text/html": [
       " View run <strong style=\"color:#cdcd00\">ResGatedGCN_dist(2)_mult_dist_01_dropout_07_3*6_1e-05_RMSprop(0)_200_0.8</strong> at: <a href='https://wandb.ai/chi-vinny0702/secondary_structure_prediction1/runs/k6phau2l' target=\"_blank\">https://wandb.ai/chi-vinny0702/secondary_structure_prediction1/runs/k6phau2l</a><br/>Synced 5 W&B file(s), 0 media file(s), 0 artifact file(s) and 0 other file(s)"
      ],
      "text/plain": [
       "<IPython.core.display.HTML object>"
      ]
     },
     "metadata": {},
     "output_type": "display_data"
    },
    {
     "data": {
      "text/html": [
       "Find logs at: <code>./wandb/run-20230425_190107-k6phau2l/logs</code>"
      ],
      "text/plain": [
       "<IPython.core.display.HTML object>"
      ]
     },
     "metadata": {},
     "output_type": "display_data"
    },
    {
     "data": {
      "text/html": [
       "Successfully finished last run (ID:k6phau2l). Initializing new run:<br/>"
      ],
      "text/plain": [
       "<IPython.core.display.HTML object>"
      ]
     },
     "metadata": {},
     "output_type": "display_data"
    },
    {
     "data": {
      "text/html": [
       "wandb version 0.15.0 is available!  To upgrade, please run:\n",
       " $ pip install wandb --upgrade"
      ],
      "text/plain": [
       "<IPython.core.display.HTML object>"
      ]
     },
     "metadata": {},
     "output_type": "display_data"
    },
    {
     "data": {
      "text/html": [
       "Tracking run with wandb version 0.14.2"
      ],
      "text/plain": [
       "<IPython.core.display.HTML object>"
      ]
     },
     "metadata": {},
     "output_type": "display_data"
    },
    {
     "data": {
      "text/html": [
       "Run data is saved locally in <code>/home/vdshk/SecondaryStructurePredictionGNN/wandb/run-20230425_190135-vtuqgble</code>"
      ],
      "text/plain": [
       "<IPython.core.display.HTML object>"
      ]
     },
     "metadata": {},
     "output_type": "display_data"
    },
    {
     "data": {
      "text/html": [
       "Syncing run <strong><a href='https://wandb.ai/chi-vinny0702/secondary_structure_prediction1/runs/vtuqgble' target=\"_blank\">ResGatedGCN_dist(2)_mult_dist_01_dropout_07_3*6_1e-05_RMSprop(0)_200_0.8</a></strong> to <a href='https://wandb.ai/chi-vinny0702/secondary_structure_prediction1' target=\"_blank\">Weights & Biases</a> (<a href='https://wandb.me/run' target=\"_blank\">docs</a>)<br/>"
      ],
      "text/plain": [
       "<IPython.core.display.HTML object>"
      ]
     },
     "metadata": {},
     "output_type": "display_data"
    },
    {
     "data": {
      "text/html": [
       " View project at <a href='https://wandb.ai/chi-vinny0702/secondary_structure_prediction1' target=\"_blank\">https://wandb.ai/chi-vinny0702/secondary_structure_prediction1</a>"
      ],
      "text/plain": [
       "<IPython.core.display.HTML object>"
      ]
     },
     "metadata": {},
     "output_type": "display_data"
    },
    {
     "data": {
      "text/html": [
       " View run at <a href='https://wandb.ai/chi-vinny0702/secondary_structure_prediction1/runs/vtuqgble' target=\"_blank\">https://wandb.ai/chi-vinny0702/secondary_structure_prediction1/runs/vtuqgble</a>"
      ],
      "text/plain": [
       "<IPython.core.display.HTML object>"
      ]
     },
     "metadata": {},
     "output_type": "display_data"
    }
   ],
   "source": [
    "run_name = \"ResGatedGCN_dist(2)_diff_mult_dist_01_dropout_07_\" \\\n",
    "+ str(num_layers) + \"*6_\" + str(lr) + \"_\" + \"RMSprop(0)_\" + str(out_channels) + \"_\" + str(a)\n",
    "\n",
    "\n",
    "wandb.init(\n",
    "    # set the wandb project where this run will be logged\n",
    "    project=\"secondary_structure_prediction1\",\n",
    "    \n",
    "    # track hyperparameters and run metadata\n",
    "    config={\n",
    "    \"learning_rate\": lr,\n",
    "    \"architecture\": \"ResGatedGCN\",\n",
    "    \"epochs\": epochs,\n",
    "    \"optimizer\": \"RMSProp\",\n",
    "    \"out_channels\": out_channels,\n",
    "    \"loss\": \"dist_loss\",\n",
    "    \"beta\": beta,\n",
    "    \"train:val:test\": \"655:218:218\"\n",
    "    },\n",
    "    name=run_name\n",
    ")\n",
    "\n",
    "epsilon = 1e-10"
   ]
  },
  {
   "cell_type": "code",
   "execution_count": 282,
   "id": "ad9b0229",
   "metadata": {},
   "outputs": [],
   "source": [
    "def train():\n",
    "    for epoch in range(1, epochs + 1):\n",
    "        model.train()\n",
    "        train_loss = []\n",
    "        train_recall = []\n",
    "        train_precision = []  \n",
    "        k = 0\n",
    "        for g in tqdm(train_data):\n",
    "            g.to(device)\n",
    "            optimizer.zero_grad()\n",
    "\n",
    "            out = model(g.x, g.edge_index)\n",
    "            y_true = g.adj_mat\n",
    "#             print(out.size(),y_true.size())\n",
    "            loss = criterion(out, y_true.to(torch.float32) - torch.squeeze(to_dense_adj(g.edge_index)))          \n",
    "#             loss = criterion(out, y_true.to(torch.float32))          \n",
    "\n",
    "            loss.backward()\n",
    "            optimizer.step()\n",
    "            \n",
    "#             out = out.sigmoid()\n",
    "            if k <= 2:\n",
    "                save_image(y_true, f\"./pictures/{k}/{epoch}_t.jpg\")\n",
    "                save_image(torch.squeeze(to_dense_adj(g.edge_index)), f\"./pictures/{k}/{epoch}_p.jpg\")\n",
    "                save_image(out + torch.squeeze(to_dense_adj(g.edge_index)), f\"./pictures/{k}/{epoch}_nn.jpg\")\n",
    "            k += 1\n",
    "            train_loss.append(loss.item())\n",
    "            train_precision.append(precision(out, y_true, torch.squeeze(to_dense_adj(g.edge_index))).item())\n",
    "            train_recall.append(recall(out, y_true, torch.squeeze(to_dense_adj(g.edge_index))).item())\n",
    "            \n",
    "        train_prec = np.mean(train_precision)\n",
    "        train_rec = np.mean(train_recall)\n",
    "        train_f1 = (2 * train_prec * train_rec) / (train_prec + train_rec)\n",
    "        print(f'Epoch: {epoch:03d}, loss: {np.mean(train_loss)}, f1: {train_f1}, precision: {train_prec}, recall: {train_rec}')\n",
    "        \n",
    "        val_loss = []\n",
    "        val_recall = []\n",
    "        val_precision = []\n",
    "        with torch.no_grad():\n",
    "            for g in val_data:\n",
    "                g.to(device)\n",
    "                out = model(g.x, g.edge_index)\n",
    "        \n",
    "                y_true = g.adj_mat\n",
    "                loss = criterion(out, y_true.to(torch.float32) - torch.squeeze(to_dense_adj(g.edge_index)))\n",
    "#                 loss = criterion(out, y_true.to(torch.float32))          \n",
    "\n",
    "                                \n",
    "                val_loss.append(loss.item())\n",
    "                \n",
    "#                 out = out.sigmoid()\n",
    "                \n",
    "                val_precision.append(precision(out, y_true, torch.squeeze(to_dense_adj(g.edge_index))).item())\n",
    "                val_recall.append(recall(out, y_true, torch.squeeze(to_dense_adj(g.edge_index))).item())\n",
    " \n",
    "            \n",
    "            prec = np.mean(val_precision)\n",
    "            rec = np.mean(val_recall)\n",
    "            f1 = (2 * prec * rec) / (prec + rec)\n",
    "            print(f'val_loss: {np.mean(val_loss)}, val_f1: {f1}, val_precision: {prec}, val_recall: {rec}')\n",
    "              \n",
    "            wandb.log({\"train_loss\": np.mean(train_loss), \"train_f1\": train_f1, \"train_precision\": train_prec, \n",
    "                       \"train_recall\": train_rec,\n",
    "                       \"val_loss\": np.mean(val_loss), \"val_f1\": f1, \"val_precision\": prec, \"val_recall\": rec})\n",
    "#     wandb.finish()"
   ]
  },
  {
   "cell_type": "code",
   "execution_count": 283,
   "id": "02e9df65",
   "metadata": {},
   "outputs": [
    {
     "name": "stderr",
     "output_type": "stream",
     "text": [
      "100%|█████████████████████████████████████████| 655/655 [00:15<00:00, 42.92it/s]\n"
     ]
    },
    {
     "name": "stdout",
     "output_type": "stream",
     "text": [
      "Epoch: 001, loss: 0.26824436614872843, f1: 0.01631741928560638, precision: 0.010228219247451549, recall: 0.04032311365719288\n",
      "val_loss: 0.22105226886176735, val_f1: 0.00579749487533227, val_precision: 0.0034384734580430007, val_recall: 0.01846726996601995\n"
     ]
    },
    {
     "name": "stderr",
     "output_type": "stream",
     "text": [
      "100%|█████████████████████████████████████████| 655/655 [00:13<00:00, 47.05it/s]\n"
     ]
    },
    {
     "name": "stdout",
     "output_type": "stream",
     "text": [
      "Epoch: 002, loss: 0.25562456257868815, f1: 0.004032807952499705, precision: 0.0023466979510698266, recall: 0.014326301538420997\n",
      "val_loss: 0.28729069379047245, val_f1: 0.002580898211542894, val_precision: 0.001454842029088134, val_recall: 0.011420197156898746\n"
     ]
    },
    {
     "name": "stderr",
     "output_type": "stream",
     "text": [
      "100%|█████████████████████████████████████████| 655/655 [00:13<00:00, 50.08it/s]\n"
     ]
    },
    {
     "name": "stdout",
     "output_type": "stream",
     "text": [
      "Epoch: 003, loss: 0.33279641516620423, f1: 0.007465740388807624, precision: 0.005544600227380256, recall: 0.011424038102779225\n",
      "val_loss: 0.3806228638976949, val_f1: 0.003910365277731591, val_precision: 0.0025465087810266386, val_recall: 0.008419870868872066\n"
     ]
    },
    {
     "name": "stderr",
     "output_type": "stream",
     "text": [
      "100%|█████████████████████████████████████████| 655/655 [00:12<00:00, 51.29it/s]\n"
     ]
    },
    {
     "name": "stdout",
     "output_type": "stream",
     "text": [
      "Epoch: 004, loss: 0.41222274216133675, f1: 0.004999181691735127, precision: 0.003411631005681084, recall: 0.009350116373189077\n",
      "val_loss: 0.4407611657788447, val_f1: 0.004909096339119875, val_precision: 0.003642552843052518, val_recall: 0.007525914344389778\n"
     ]
    },
    {
     "name": "stderr",
     "output_type": "stream",
     "text": [
      "100%|█████████████████████████████████████████| 655/655 [00:13<00:00, 50.04it/s]\n"
     ]
    },
    {
     "name": "stdout",
     "output_type": "stream",
     "text": [
      "Epoch: 005, loss: 0.49926225784739464, f1: 0.0037771129171830765, precision: 0.0024504255897984024, recall: 0.008236378930395341\n",
      "val_loss: 0.5499841307520593, val_f1: 0.003273617598170051, val_precision: 0.0024282539267639776, val_recall: 0.0050219367770905346\n"
     ]
    },
    {
     "name": "stderr",
     "output_type": "stream",
     "text": [
      "100%|█████████████████████████████████████████| 655/655 [00:12<00:00, 50.75it/s]\n"
     ]
    },
    {
     "name": "stdout",
     "output_type": "stream",
     "text": [
      "Epoch: 006, loss: 0.6033689463269392, f1: 0.004006912220368212, precision: 0.0033356238405383726, recall: 0.0050164673804440575\n",
      "val_loss: 0.6614232811171117, val_f1: 0.001287442095198129, val_precision: 0.0007761924745463723, val_recall: 0.003771767575601372\n"
     ]
    },
    {
     "name": "stderr",
     "output_type": "stream",
     "text": [
      "100%|█████████████████████████████████████████| 655/655 [00:12<00:00, 53.81it/s]\n"
     ]
    },
    {
     "name": "stdout",
     "output_type": "stream",
     "text": [
      "Epoch: 007, loss: 0.721413021506244, f1: 0.0023506424725435134, precision: 0.0014911033098500592, recall: 0.005549793772911297\n",
      "val_loss: 0.7582952199896814, val_f1: 0.0029434152734194104, val_precision: 0.002322601613699706, val_recall: 0.004017175611006011\n"
     ]
    },
    {
     "name": "stderr",
     "output_type": "stream",
     "text": [
      "100%|█████████████████████████████████████████| 655/655 [00:12<00:00, 52.01it/s]\n"
     ]
    },
    {
     "name": "stdout",
     "output_type": "stream",
     "text": [
      "Epoch: 008, loss: 0.816151365799872, f1: 0.001173348701672996, precision: 0.000667741017252605, recall: 0.0048323996180227695\n",
      "val_loss: 0.8958599817845116, val_f1: 0.0023223052224478295, val_precision: 0.001718957900975344, val_recall: 0.0035782601778318575\n"
     ]
    },
    {
     "name": "stderr",
     "output_type": "stream",
     "text": [
      "100%|█████████████████████████████████████████| 655/655 [00:12<00:00, 52.09it/s]\n"
     ]
    },
    {
     "name": "stdout",
     "output_type": "stream",
     "text": [
      "Epoch: 009, loss: 0.8962363801754385, f1: 0.002936480921867253, precision: 0.002225399989712955, recall: 0.00431536840317586\n",
      "val_loss: 0.931377995767793, val_f1: 0.0014171611528358513, val_precision: 0.0008718691960643601, val_recall: 0.0037834209073847585\n"
     ]
    },
    {
     "name": "stderr",
     "output_type": "stream",
     "text": [
      "100%|█████████████████████████████████████████| 655/655 [00:11<00:00, 54.65it/s]\n"
     ]
    },
    {
     "name": "stdout",
     "output_type": "stream",
     "text": [
      "Epoch: 010, loss: 0.9532344544747176, f1: 0.0010328402687096254, precision: 0.0005831083304156329, recall: 0.004515475003432682\n",
      "val_loss: 1.0050909169308773, val_f1: 0.0012867339626459907, val_precision: 0.0008030653890615347, val_recall: 0.0032352592770454533\n"
     ]
    },
    {
     "name": "stderr",
     "output_type": "stream",
     "text": [
      "100%|█████████████████████████████████████████| 655/655 [00:11<00:00, 55.50it/s]\n"
     ]
    },
    {
     "name": "stdout",
     "output_type": "stream",
     "text": [
      "Epoch: 011, loss: 1.0700062165051016, f1: 0.003207871066841501, precision: 0.002881297342237512, recall: 0.003617937500297113\n",
      "val_loss: 1.1273870291786456, val_f1: 0.002081820703774592, val_precision: 0.0015303393924147438, val_recall: 0.0032547028957430374\n"
     ]
    },
    {
     "name": "stderr",
     "output_type": "stream",
     "text": [
      "100%|█████████████████████████████████████████| 655/655 [00:12<00:00, 54.55it/s]\n"
     ]
    },
    {
     "name": "stdout",
     "output_type": "stream",
     "text": [
      "Epoch: 012, loss: 1.1659509768752196, f1: 0.00133983739837746, precision: 0.0008545636577986693, recall: 0.0031004809355007785\n"
     ]
    },
    {
     "ename": "KeyboardInterrupt",
     "evalue": "",
     "output_type": "error",
     "traceback": [
      "\u001b[0;31m---------------------------------------------------------------------------\u001b[0m",
      "\u001b[0;31mKeyboardInterrupt\u001b[0m                         Traceback (most recent call last)",
      "Cell \u001b[0;32mIn[283], line 1\u001b[0m\n\u001b[0;32m----> 1\u001b[0m \u001b[43mtrain\u001b[49m\u001b[43m(\u001b[49m\u001b[43m)\u001b[49m\n\u001b[1;32m      2\u001b[0m torch\u001b[38;5;241m.\u001b[39msave(model, \u001b[38;5;124m\"\u001b[39m\u001b[38;5;124m./models1/\u001b[39m\u001b[38;5;124m\"\u001b[39m \u001b[38;5;241m+\u001b[39m run_name \u001b[38;5;241m+\u001b[39m \u001b[38;5;124m\"\u001b[39m\u001b[38;5;124m_\u001b[39m\u001b[38;5;124m\"\u001b[39m \u001b[38;5;241m+\u001b[39m \u001b[38;5;28mstr\u001b[39m(epochs) \u001b[38;5;241m+\u001b[39m \u001b[38;5;124m\"\u001b[39m\u001b[38;5;124m.pt\u001b[39m\u001b[38;5;124m\"\u001b[39m)\n",
      "Cell \u001b[0;32mIn[282], line 53\u001b[0m, in \u001b[0;36mtrain\u001b[0;34m()\u001b[0m\n\u001b[1;32m     49\u001b[0m                 val_loss\u001b[38;5;241m.\u001b[39mappend(loss\u001b[38;5;241m.\u001b[39mitem())\n\u001b[1;32m     51\u001b[0m \u001b[38;5;66;03m#                 out = out.sigmoid()\u001b[39;00m\n\u001b[0;32m---> 53\u001b[0m                 val_precision\u001b[38;5;241m.\u001b[39mappend(\u001b[43mprecision\u001b[49m\u001b[43m(\u001b[49m\u001b[43mout\u001b[49m\u001b[43m,\u001b[49m\u001b[43m \u001b[49m\u001b[43my_true\u001b[49m\u001b[43m,\u001b[49m\u001b[43m \u001b[49m\u001b[43mtorch\u001b[49m\u001b[38;5;241;43m.\u001b[39;49m\u001b[43msqueeze\u001b[49m\u001b[43m(\u001b[49m\u001b[43mto_dense_adj\u001b[49m\u001b[43m(\u001b[49m\u001b[43mg\u001b[49m\u001b[38;5;241;43m.\u001b[39;49m\u001b[43medge_index\u001b[49m\u001b[43m)\u001b[49m\u001b[43m)\u001b[49m\u001b[43m)\u001b[49m\u001b[38;5;241m.\u001b[39mitem())\n\u001b[1;32m     54\u001b[0m                 val_recall\u001b[38;5;241m.\u001b[39mappend(recall(out, y_true, torch\u001b[38;5;241m.\u001b[39msqueeze(to_dense_adj(g\u001b[38;5;241m.\u001b[39medge_index)))\u001b[38;5;241m.\u001b[39mitem())\n\u001b[1;32m     57\u001b[0m             prec \u001b[38;5;241m=\u001b[39m np\u001b[38;5;241m.\u001b[39mmean(val_precision)\n",
      "Cell \u001b[0;32mIn[272], line 5\u001b[0m, in \u001b[0;36mprecision\u001b[0;34m(y_pred, y_true, y_in)\u001b[0m\n\u001b[1;32m      3\u001b[0m \u001b[38;5;28;01mdef\u001b[39;00m \u001b[38;5;21mprecision\u001b[39m(y_pred, y_true, y_in):\n\u001b[1;32m      4\u001b[0m \u001b[38;5;66;03m#     y_pred = y_pred + y_in\u001b[39;00m\n\u001b[0;32m----> 5\u001b[0m     y_pred \u001b[38;5;241m=\u001b[39m \u001b[43mdel_nucl_conn\u001b[49m\u001b[43m(\u001b[49m\u001b[43my_pred\u001b[49m\u001b[43m)\u001b[49m\n\u001b[1;32m      6\u001b[0m     y_pred[(y_pred \u001b[38;5;241m>\u001b[39m a)] \u001b[38;5;241m=\u001b[39m \u001b[38;5;241m1\u001b[39m\n\u001b[1;32m      7\u001b[0m     y_pred[(y_pred \u001b[38;5;241m<\u001b[39m\u001b[38;5;241m=\u001b[39m a)] \u001b[38;5;241m=\u001b[39m \u001b[38;5;241m0\u001b[39m \n",
      "Cell \u001b[0;32mIn[4], line 14\u001b[0m, in \u001b[0;36mdel_nucl_conn\u001b[0;34m(y)\u001b[0m\n\u001b[1;32m      6\u001b[0m     diag1 \u001b[38;5;241m=\u001b[39m torch\u001b[38;5;241m.\u001b[39mones([\u001b[38;5;241m1\u001b[39m, y\u001b[38;5;241m.\u001b[39msize()[\u001b[38;5;241m0\u001b[39m] \u001b[38;5;241m-\u001b[39m \u001b[38;5;241m1\u001b[39m])\n\u001b[1;32m      7\u001b[0m \u001b[38;5;66;03m#     batch_diags = []\u001b[39;00m\n\u001b[1;32m      8\u001b[0m \u001b[38;5;66;03m#     for i in range(bs):\u001b[39;00m\n\u001b[1;32m      9\u001b[0m \u001b[38;5;66;03m#         batch_diags.append((torch.diag_embed(main_diag).to(device) +\u001b[39;00m\n\u001b[0;32m   (...)\u001b[0m\n\u001b[1;32m     12\u001b[0m \n\u001b[1;32m     13\u001b[0m \u001b[38;5;66;03m#     return y * torch.cat(batch_diags, 0).to(device) * (-1)\u001b[39;00m\n\u001b[0;32m---> 14\u001b[0m     \u001b[38;5;28;01mreturn\u001b[39;00m y \u001b[38;5;241m*\u001b[39m (\u001b[43mtorch\u001b[49m\u001b[38;5;241;43m.\u001b[39;49m\u001b[43mdiag_embed\u001b[49m\u001b[43m(\u001b[49m\u001b[43mmain_diag\u001b[49m\u001b[43m)\u001b[49m\u001b[38;5;241;43m.\u001b[39;49m\u001b[43mto\u001b[49m\u001b[43m(\u001b[49m\u001b[43mdevice\u001b[49m\u001b[43m)\u001b[49m \u001b[38;5;241m+\u001b[39m \n\u001b[1;32m     15\u001b[0m                     torch\u001b[38;5;241m.\u001b[39mdiag_embed(diag1, offset\u001b[38;5;241m=\u001b[39m\u001b[38;5;241m1\u001b[39m)\u001b[38;5;241m.\u001b[39mto(device) \u001b[38;5;241m+\u001b[39m \n\u001b[1;32m     16\u001b[0m                 torch\u001b[38;5;241m.\u001b[39mdiag_embed(diag1, offset\u001b[38;5;241m=\u001b[39m\u001b[38;5;241m-\u001b[39m\u001b[38;5;241m1\u001b[39m)\u001b[38;5;241m.\u001b[39mto(device) \u001b[38;5;241m-\u001b[39m \u001b[38;5;241m1\u001b[39m)[\u001b[38;5;241m0\u001b[39m] \u001b[38;5;241m*\u001b[39m (\u001b[38;5;241m-\u001b[39m\u001b[38;5;241m1\u001b[39m)\n",
      "\u001b[0;31mKeyboardInterrupt\u001b[0m: "
     ]
    }
   ],
   "source": [
    "train()\n",
    "torch.save(model, \"./models1/\" + run_name + \"_\" + str(epochs) + \".pt\")"
   ]
  },
  {
   "cell_type": "code",
   "execution_count": null,
   "id": "006bf1f6",
   "metadata": {},
   "outputs": [],
   "source": [
    "wandb.finish()"
   ]
  },
  {
   "cell_type": "code",
   "execution_count": null,
   "id": "61e71193",
   "metadata": {},
   "outputs": [],
   "source": []
  }
 ],
 "metadata": {
  "kernelspec": {
   "display_name": "Python 3 (ipykernel)",
   "language": "python",
   "name": "python3"
  },
  "language_info": {
   "codemirror_mode": {
    "name": "ipython",
    "version": 3
   },
   "file_extension": ".py",
   "mimetype": "text/x-python",
   "name": "python",
   "nbconvert_exporter": "python",
   "pygments_lexer": "ipython3",
   "version": "3.9.12"
  }
 },
 "nbformat": 4,
 "nbformat_minor": 5
}
