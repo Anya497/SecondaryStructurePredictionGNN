{
 "cells": [
  {
   "cell_type": "code",
   "execution_count": 54,
   "id": "0e9632e0",
   "metadata": {},
   "outputs": [],
   "source": [
    "import os.path as osp\n",
    "from tqdm.auto import tqdm\n",
    "import numpy as np\n",
    "import wandb\n",
    "\n",
    "import torch\n",
    "from sklearn.metrics import roc_auc_score\n",
    "\n",
    "import torch_geometric.transforms as T\n",
    "from torch_geometric.datasets import Planetoid\n",
    "from torch_geometric.nn import GCNConv, VGAE, GatedGraphConv\n",
    "from torch_geometric.utils import negative_sampling\n",
    "from torch_geometric.loader import DataLoader\n",
    "\n",
    "from dataset_processing import RNADataset\n"
   ]
  },
  {
   "cell_type": "code",
   "execution_count": 2,
   "id": "91d9eeef",
   "metadata": {},
   "outputs": [],
   "source": [
    "dataset = RNADataset(root=\"./data/\")\n",
    "dataset = dataset.shuffle()\n",
    "train_data, val_data, test_data = dataset[0:655], dataset[655:873], dataset[873:]\n",
    "\n",
    "train_dataloader = DataLoader(train_data, batch_size=8, shuffle=False)\n",
    "val_dataloader = DataLoader(val_data, batch_size=1, shuffle=False)\n"
   ]
  },
  {
   "cell_type": "code",
   "execution_count": 3,
   "id": "f1d5aeba",
   "metadata": {},
   "outputs": [
    {
     "name": "stdout",
     "output_type": "stream",
     "text": [
      "tensor([[  0,   1,   0,  ..., 113, 113, 114],\n",
      "        [  1,   0,  11,  ..., 112, 114, 113]])\n"
     ]
    }
   ],
   "source": [
    "print(dataset[4].edge_index)"
   ]
  },
  {
   "cell_type": "code",
   "execution_count": 3,
   "id": "886adfaf",
   "metadata": {},
   "outputs": [],
   "source": [
    "def del_diags(y):\n",
    "    main_diag = torch.ones([1, y.size(0)])\n",
    "    diag1 = torch.ones([1, y.size(0) - 1])\n",
    "    return y * (torch.diag_embed(main_diag).to(device) + \n",
    "            torch.diag_embed(diag1, offset=1).to(device) + \n",
    "            torch.diag_embed(diag1, offset=-1).to(device) - 1) * (-1)"
   ]
  },
  {
   "cell_type": "code",
   "execution_count": 4,
   "id": "26761722",
   "metadata": {},
   "outputs": [],
   "source": [
    "def precision(y_pred, y_true):\n",
    "    y_pred = del_diags(y_pred)\n",
    "    y_pred[(y_pred > 0.5)] = 1\n",
    "    y_pred[(y_pred <= 0.5)] = 0 \n",
    "    \n",
    "    tp = torch.sum(y_pred * y_true)\n",
    "    fp = torch.sum((1 - y_true) * y_pred)\n",
    "    \n",
    "    return tp / (tp + fp + epsilon)\n",
    "\n",
    "def recall(y_pred, y_true):\n",
    "    y_pred = del_diags(y_pred)\n",
    "    y_pred[(y_pred > 0.5)] = 1\n",
    "    y_pred[(y_pred <= 0.5)] = 0\n",
    "    \n",
    "    tp = torch.sum(y_pred * y_true)\n",
    "    fn = torch.sum(y_true * (1 - y_pred))\n",
    "    \n",
    "    return tp / (tp + fn + epsilon)\n",
    "\n",
    "def f1_loss(y_pred, y_true):\n",
    "    y_pred = del_diags(y_pred)\n",
    "\n",
    "    tp = torch.sum(y_pred * y_true)\n",
    "    fn = torch.sum(y_true * (1 - y_pred))\n",
    "    fp = torch.sum((1 - y_true) * y_pred)\n",
    "    precision = tp / (tp + fp + epsilon)\n",
    "    recall = tp / (tp + fn + epsilon)\n",
    "\n",
    "#     k1 = 1 - torch.abs(precision - recall)\n",
    "#     k2 = 1 - torch.abs(K.mean(precision) - K.mean(recall))\n",
    "    #calculate upgraded f1 score\n",
    "    f1 = 2 * precision * recall / (precision + recall + epsilon)\n",
    "#     tw = K.sum(K.cast(y_true * y_pred, ’float32’), axis=[1, 2, 3])\n",
    "#     fw = K.sum(K.cast((1 - y_true) * y_pred, ’float32’), axis=[1, 2, 3])\n",
    "#     fb = K.sum(K.cast(y_true * (1 - y_pred), ’float32’), axis=[1, 2, 3])\n",
    "    return 1 - f1\n"
   ]
  },
  {
   "cell_type": "code",
   "execution_count": 53,
   "id": "6c6e6741",
   "metadata": {},
   "outputs": [],
   "source": [
    "class GatedGCNModel(torch.nn.Module):\n",
    "    def __init__(self, in_channels, hidden_channels, num_layers, out_channels, dropout):\n",
    "        super(GatedGCNModel, self).__init__()\n",
    "        self.ggcn = GatedGraphConv(out_channels, num_layers)\n",
    "\n",
    "    def forward(self, x, edge_index):\n",
    "        x = self.ggcn(x, edge_index)\n",
    "        prob_adj = (x @ x.t()).sigmoid()\n",
    "\n",
    "#         prob_adj = (x @ x.t())\n",
    "\n",
    "#         return (prob_adj > 0).nonzero(as_tuple=False).t()\n",
    "        return prob_adj\n"
   ]
  },
  {
   "cell_type": "code",
   "execution_count": 59,
   "id": "52fb3010",
   "metadata": {},
   "outputs": [
    {
     "name": "stdout",
     "output_type": "stream",
     "text": [
      "cuda\n"
     ]
    }
   ],
   "source": [
    "hidden_channels = 128\n",
    "out_channels = 150\n",
    "num_layers = 4\n",
    "num_features = dataset.num_features\n",
    "\n",
    "\n",
    "dr = 0.2\n",
    "lr = 0.0001\n",
    "epochs = 500\n",
    "\n",
    "model = GatedGCNModel(num_features, hidden_channels, num_layers, out_channels, dr)\n",
    "# model = torch.load(\"./models/GatedGCN_6_180_7e-05_Adam_300.pt\")\n",
    "\n",
    "device = torch.device('cuda' if torch.cuda.is_available() else 'cpu')\n",
    "model = model.to(device)\n",
    "train_data = list(map(lambda x: x.to(device), train_data))\n",
    "val_data = list(map(lambda x: x.to(device), val_data))\n",
    "print(device)\n",
    "\n",
    "optimizer = torch.optim.Adam(model.parameters(), lr=lr)\n",
    "# optimizer = torch.optim.Adagrad(model.parameters(), lr=lr)\n",
    "# optimizer = torch.optim.SGD(model.parameters(), lr=0.001)\n",
    "\n",
    "# criterion = torch.nn.BCELoss()\n",
    "# criterion = torch.nn.BCEWithLogitsLoss()\n",
    "criterion = torch.nn.CrossEntropyLoss()\n",
    "# criterion = torch.nn.KLDivLoss()\n",
    "\n",
    "# def RMSELoss(y_pred, y_true):\n",
    "#     return torch.sqrt(torch.mean((y_pred - y_true) ** 2))\n",
    "\n",
    "# criterion = RMSELoss"
   ]
  },
  {
   "cell_type": "code",
   "execution_count": 60,
   "id": "e013e32e",
   "metadata": {},
   "outputs": [
    {
     "data": {
      "text/html": [
       "Finishing last run (ID:e06r8hz5) before initializing another..."
      ],
      "text/plain": [
       "<IPython.core.display.HTML object>"
      ]
     },
     "metadata": {},
     "output_type": "display_data"
    },
    {
     "data": {
      "text/html": [
       "Waiting for W&B process to finish... <strong style=\"color:green\">(success).</strong>"
      ],
      "text/plain": [
       "<IPython.core.display.HTML object>"
      ]
     },
     "metadata": {},
     "output_type": "display_data"
    },
    {
     "data": {
      "text/html": [
       "<style>\n",
       "    table.wandb td:nth-child(1) { padding: 0 10px; text-align: left ; width: auto;} td:nth-child(2) {text-align: left ; width: 100%}\n",
       "    .wandb-row { display: flex; flex-direction: row; flex-wrap: wrap; justify-content: flex-start; width: 100% }\n",
       "    .wandb-col { display: flex; flex-direction: column; flex-basis: 100%; flex: 1; padding: 10px; }\n",
       "    </style>\n",
       "<div class=\"wandb-row\"><div class=\"wandb-col\"><h3>Run history:</h3><br/><table class=\"wandb\"><tr><td>train_f1</td><td>▁▁▁▁▁▁▁▁▁▁▁▁▁▁▁▁▁</td></tr><tr><td>train_loss</td><td>█▁▁▁▁▁▁▁▁▁▁▁▁▁▁▁▁</td></tr><tr><td>train_precision</td><td>▁▁▁▁▁▁▁▁▁▁▁▁▁▁▁▁▁</td></tr><tr><td>train_recall</td><td>▁▁▁▁▁▁▁▁▁▁▁▁▁▁▁▁▁</td></tr><tr><td>val_f1</td><td>▁▁▁▁▁▁▁▁▁▁▁▁▁▁▁▁▁</td></tr><tr><td>val_loss</td><td>█▂▁▁▁▁▁▁▁▁▁▁▁▁▁▁▁</td></tr><tr><td>val_precision</td><td>▁▁▁▁▁▁▁▁▁▁▁▁▁▁▁▁▁</td></tr><tr><td>val_recall</td><td>▁▁▁▁▁▁▁▁▁▁▁▁▁▁▁▁▁</td></tr></table><br/></div><div class=\"wandb-col\"><h3>Run summary:</h3><br/><table class=\"wandb\"><tr><td>train_f1</td><td>0.03634</td></tr><tr><td>train_loss</td><td>-0.01677</td></tr><tr><td>train_precision</td><td>0.01851</td></tr><tr><td>train_recall</td><td>0.98818</td></tr><tr><td>val_f1</td><td>0.03842</td></tr><tr><td>val_loss</td><td>-0.01767</td></tr><tr><td>val_precision</td><td>0.01959</td></tr><tr><td>val_recall</td><td>0.98618</td></tr></table><br/></div></div>"
      ],
      "text/plain": [
       "<IPython.core.display.HTML object>"
      ]
     },
     "metadata": {},
     "output_type": "display_data"
    },
    {
     "data": {
      "text/html": [
       " View run <strong style=\"color:#cdcd00\">GatedGCN_KLDL_4_200_0.0001_Adam_150</strong> at: <a href='https://wandb.ai/chi-vinny0702/secondary_structure_prediction1/runs/e06r8hz5' target=\"_blank\">https://wandb.ai/chi-vinny0702/secondary_structure_prediction1/runs/e06r8hz5</a><br/>Synced 5 W&B file(s), 0 media file(s), 0 artifact file(s) and 0 other file(s)"
      ],
      "text/plain": [
       "<IPython.core.display.HTML object>"
      ]
     },
     "metadata": {},
     "output_type": "display_data"
    },
    {
     "data": {
      "text/html": [
       "Find logs at: <code>./wandb/run-20230227_210316-e06r8hz5/logs</code>"
      ],
      "text/plain": [
       "<IPython.core.display.HTML object>"
      ]
     },
     "metadata": {},
     "output_type": "display_data"
    },
    {
     "data": {
      "text/html": [
       "Successfully finished last run (ID:e06r8hz5). Initializing new run:<br/>"
      ],
      "text/plain": [
       "<IPython.core.display.HTML object>"
      ]
     },
     "metadata": {},
     "output_type": "display_data"
    },
    {
     "data": {
      "text/html": [
       "Tracking run with wandb version 0.13.10"
      ],
      "text/plain": [
       "<IPython.core.display.HTML object>"
      ]
     },
     "metadata": {},
     "output_type": "display_data"
    },
    {
     "data": {
      "text/html": [
       "Run data is saved locally in <code>/home/vdshk/SecondaryStructurePredictionGNN/wandb/run-20230227_223357-9nzdlpcx</code>"
      ],
      "text/plain": [
       "<IPython.core.display.HTML object>"
      ]
     },
     "metadata": {},
     "output_type": "display_data"
    },
    {
     "data": {
      "text/html": [
       "Syncing run <strong><a href='https://wandb.ai/chi-vinny0702/secondary_structure_prediction1/runs/9nzdlpcx' target=\"_blank\">GatedGCN_CEL_4_500_0.0001_Adam_150</a></strong> to <a href='https://wandb.ai/chi-vinny0702/secondary_structure_prediction1' target=\"_blank\">Weights & Biases</a> (<a href='https://wandb.me/run' target=\"_blank\">docs</a>)<br/>"
      ],
      "text/plain": [
       "<IPython.core.display.HTML object>"
      ]
     },
     "metadata": {},
     "output_type": "display_data"
    },
    {
     "data": {
      "text/html": [
       " View project at <a href='https://wandb.ai/chi-vinny0702/secondary_structure_prediction1' target=\"_blank\">https://wandb.ai/chi-vinny0702/secondary_structure_prediction1</a>"
      ],
      "text/plain": [
       "<IPython.core.display.HTML object>"
      ]
     },
     "metadata": {},
     "output_type": "display_data"
    },
    {
     "data": {
      "text/html": [
       " View run at <a href='https://wandb.ai/chi-vinny0702/secondary_structure_prediction1/runs/9nzdlpcx' target=\"_blank\">https://wandb.ai/chi-vinny0702/secondary_structure_prediction1/runs/9nzdlpcx</a>"
      ],
      "text/plain": [
       "<IPython.core.display.HTML object>"
      ]
     },
     "metadata": {},
     "output_type": "display_data"
    }
   ],
   "source": [
    "run_name = \"GatedGCN_CEL_\" + str(num_layers) + \"_\" + str(epochs) + \"_\" + str(lr) + \"_\" + \"Adam_\" + str(out_channels)\n",
    "\n",
    "\n",
    "wandb.init(\n",
    "    # set the wandb project where this run will be logged\n",
    "    project=\"secondary_structure_prediction1\",\n",
    "    \n",
    "    # track hyperparameters and run metadata\n",
    "    config={\n",
    "    \"learning_rate\": lr,\n",
    "    \"architecture\": \"GatedGCN\",\n",
    "    \"epochs\": epochs,\n",
    "    \"optimizer\": \"Adam\",\n",
    "    \"out_channels\": out_channels,\n",
    "    \"loss\": \"CELoss\",\n",
    "    \"train:val:test\": \"655:218:218\"\n",
    "    },\n",
    "    name=run_name\n",
    ")\n",
    "\n",
    "epsilon = 1e-10"
   ]
  },
  {
   "cell_type": "code",
   "execution_count": 61,
   "id": "01199efe",
   "metadata": {},
   "outputs": [],
   "source": [
    "def train():\n",
    "    for epoch in range(1, epochs + 1):\n",
    "        model.train()\n",
    "        train_loss = []\n",
    "        train_recall = []\n",
    "        train_precision = []\n",
    "        for g in tqdm(train_data, ncols=100):\n",
    "            g.to(device)\n",
    "            optimizer.zero_grad()\n",
    "\n",
    "            out = model(g.x, g.edge_index)\n",
    "            y_true = g.edge_label_index\n",
    "            loss = criterion(out, y_true.to(torch.float32))            \n",
    "            \n",
    "            loss.backward()\n",
    "            optimizer.step()\n",
    "            \n",
    "#             out = out.sigmoid()\n",
    "            \n",
    "            train_loss.append(loss.item())\n",
    "            train_precision.append(precision(out, y_true).item())\n",
    "            train_recall.append(recall(out, y_true).item())\n",
    "            \n",
    "        train_prec = np.mean(train_precision)\n",
    "        train_rec = np.mean(train_recall)\n",
    "        train_f1 = (2 * train_prec * train_rec) / (train_prec + train_rec)\n",
    "        print(f'Epoch: {epoch:03d}, loss: {np.mean(train_loss)}, f1: {train_f1}, precision: {train_prec}, recall: {train_rec}')\n",
    "        \n",
    "        val_loss = []\n",
    "        val_recall = []\n",
    "        val_precision = []\n",
    "        with torch.no_grad():\n",
    "            for g in tqdm(val_data, ncols=100):\n",
    "                g.to(device)\n",
    "                out = model(g.x, g.edge_index)\n",
    "        \n",
    "                y_true = g.edge_label_index\n",
    "                loss = criterion(out, y_true.to(torch.float32))\n",
    "                                \n",
    "                val_loss.append(loss.item())\n",
    "                \n",
    "#                 out = out.sigmoid()\n",
    "                \n",
    "                val_precision.append(precision(out, y_true).item())\n",
    "                val_recall.append(recall(out, y_true).item())\n",
    " \n",
    "            \n",
    "            prec = np.mean(val_precision)\n",
    "            rec = np.mean(val_recall)\n",
    "            f1 = (2 * prec * rec) / (prec + rec)\n",
    "            print(f'val_loss: {np.mean(val_loss)}, val_f1: {f1}, val_precision: {prec}, val_recall: {rec}')\n",
    "              \n",
    "            wandb.log({\"train_loss\": np.mean(train_loss), \"train_f1\": train_f1, \"train_precision\": train_prec, \n",
    "                       \"train_recall\": train_rec,\n",
    "                       \"val_loss\": np.mean(val_loss), \"val_f1\": f1, \"val_precision\": prec, \"val_recall\": rec})\n",
    "#     wandb.finish()"
   ]
  },
  {
   "cell_type": "code",
   "execution_count": 62,
   "id": "438f41ae",
   "metadata": {},
   "outputs": [
    {
     "name": "stderr",
     "output_type": "stream",
     "text": [
      "100%|████████████████████████████████████████████████████████████| 655/655 [00:03<00:00, 204.61it/s]\n"
     ]
    },
    {
     "name": "stdout",
     "output_type": "stream",
     "text": [
      "Epoch: 001, loss: 2.4907243027031876, f1: 0.048408109208586604, precision: 0.02487745366151665, recall: 0.8941729875921293\n"
     ]
    },
    {
     "name": "stderr",
     "output_type": "stream",
     "text": [
      "100%|████████████████████████████████████████████████████████████| 218/218 [00:00<00:00, 575.18it/s]\n"
     ]
    },
    {
     "name": "stdout",
     "output_type": "stream",
     "text": [
      "val_loss: 2.4719652052319376, val_f1: 0.05775765718469319, val_precision: 0.029869399683917403, val_recall: 0.8708040048496439\n"
     ]
    },
    {
     "name": "stderr",
     "output_type": "stream",
     "text": [
      "100%|████████████████████████████████████████████████████████████| 655/655 [00:03<00:00, 206.91it/s]\n"
     ]
    },
    {
     "name": "stdout",
     "output_type": "stream",
     "text": [
      "Epoch: 002, loss: 2.454745085002812, f1: 0.05674707451692259, precision: 0.029349389585900967, recall: 0.8533524750753213\n"
     ]
    },
    {
     "name": "stderr",
     "output_type": "stream",
     "text": [
      "100%|████████████████████████████████████████████████████████████| 218/218 [00:00<00:00, 580.03it/s]\n"
     ]
    },
    {
     "name": "stdout",
     "output_type": "stream",
     "text": [
      "val_loss: 2.4512926859593174, val_f1: 0.06470150982244194, val_precision: 0.03364975090403486, val_recall: 0.8380278694793719\n"
     ]
    },
    {
     "name": "stderr",
     "output_type": "stream",
     "text": [
      "100%|████████████████████████████████████████████████████████████| 655/655 [00:03<00:00, 207.13it/s]\n"
     ]
    },
    {
     "name": "stdout",
     "output_type": "stream",
     "text": [
      "Epoch: 003, loss: 2.435923026263259, f1: 0.062356320263946455, precision: 0.032384712092635284, recall: 0.8368439755366959\n"
     ]
    },
    {
     "name": "stderr",
     "output_type": "stream",
     "text": [
      "100%|████████████████████████████████████████████████████████████| 218/218 [00:00<00:00, 582.97it/s]\n"
     ]
    },
    {
     "name": "stdout",
     "output_type": "stream",
     "text": [
      "val_loss: 2.433429850350826, val_f1: 0.06946368408749838, val_precision: 0.03628294012688715, val_recall: 0.8124394962957145\n"
     ]
    },
    {
     "name": "stderr",
     "output_type": "stream",
     "text": [
      "100%|████████████████████████████████████████████████████████████| 655/655 [00:03<00:00, 206.42it/s]\n"
     ]
    },
    {
     "name": "stdout",
     "output_type": "stream",
     "text": [
      "Epoch: 004, loss: 2.4288282170550515, f1: 0.06585417630827563, precision: 0.0342997569110927, recall: 0.8227703251456486\n"
     ]
    },
    {
     "name": "stderr",
     "output_type": "stream",
     "text": [
      "100%|████████████████████████████████████████████████████████████| 218/218 [00:00<00:00, 583.63it/s]\n"
     ]
    },
    {
     "name": "stdout",
     "output_type": "stream",
     "text": [
      "val_loss: 2.4276833977174324, val_f1: 0.0719831407050759, val_precision: 0.03762782695318718, val_recall: 0.8276724937038684\n"
     ]
    },
    {
     "name": "stderr",
     "output_type": "stream",
     "text": [
      "100%|████████████████████████████████████████████████████████████| 655/655 [00:03<00:00, 207.40it/s]\n"
     ]
    },
    {
     "name": "stdout",
     "output_type": "stream",
     "text": [
      "Epoch: 005, loss: 2.420909652000165, f1: 0.06841251357128776, precision: 0.0356826133009416, recall: 0.8267438255648577\n"
     ]
    },
    {
     "name": "stderr",
     "output_type": "stream",
     "text": [
      "100%|████████████████████████████████████████████████████████████| 218/218 [00:00<00:00, 581.42it/s]\n"
     ]
    },
    {
     "name": "stdout",
     "output_type": "stream",
     "text": [
      "val_loss: 2.4257022284586496, val_f1: 0.07439480039502529, val_precision: 0.03897447879703869, val_recall: 0.8158048190381548\n"
     ]
    },
    {
     "name": "stderr",
     "output_type": "stream",
     "text": [
      "100%|████████████████████████████████████████████████████████████| 655/655 [00:03<00:00, 206.21it/s]\n"
     ]
    },
    {
     "name": "stdout",
     "output_type": "stream",
     "text": [
      "Epoch: 006, loss: 2.417227982837735, f1: 0.06973095924291395, precision: 0.036406093270994214, recall: 0.8239028022489475\n"
     ]
    },
    {
     "name": "stderr",
     "output_type": "stream",
     "text": [
      "100%|████████████████████████████████████████████████████████████| 218/218 [00:00<00:00, 578.25it/s]\n"
     ]
    },
    {
     "name": "stdout",
     "output_type": "stream",
     "text": [
      "val_loss: 2.4231143014146648, val_f1: 0.07339107488200734, val_precision: 0.03838536757420441, val_recall: 0.8335581579066198\n"
     ]
    },
    {
     "name": "stderr",
     "output_type": "stream",
     "text": [
      "100%|████████████████████████████████████████████████████████████| 655/655 [00:03<00:00, 206.36it/s]\n"
     ]
    },
    {
     "name": "stdout",
     "output_type": "stream",
     "text": [
      "Epoch: 007, loss: 2.4170412031748825, f1: 0.06988448874951902, precision: 0.0364910181562011, recall: 0.8232823212638156\n"
     ]
    },
    {
     "name": "stderr",
     "output_type": "stream",
     "text": [
      "100%|████████████████████████████████████████████████████████████| 218/218 [00:00<00:00, 582.60it/s]\n"
     ]
    },
    {
     "name": "stdout",
     "output_type": "stream",
     "text": [
      "val_loss: 2.4100066401542874, val_f1: 0.07720414425567626, val_precision: 0.04048834756067997, val_recall: 0.8285821283902597\n"
     ]
    },
    {
     "name": "stderr",
     "output_type": "stream",
     "text": [
      "100%|████████████████████████████████████████████████████████████| 655/655 [00:03<00:00, 205.42it/s]\n"
     ]
    },
    {
     "name": "stdout",
     "output_type": "stream",
     "text": [
      "Epoch: 008, loss: 2.4091210823022684, f1: 0.07237167196296432, precision: 0.03786172861027183, recall: 0.8175095933539267\n"
     ]
    },
    {
     "name": "stderr",
     "output_type": "stream",
     "text": [
      "100%|████████████████████████████████████████████████████████████| 218/218 [00:00<00:00, 571.54it/s]\n"
     ]
    },
    {
     "name": "stdout",
     "output_type": "stream",
     "text": [
      "val_loss: 2.4076359616507084, val_f1: 0.07838535150413936, val_precision: 0.041172171073512884, val_recall: 0.8151812906112146\n"
     ]
    },
    {
     "name": "stderr",
     "output_type": "stream",
     "text": [
      "100%|████████████████████████████████████████████████████████████| 655/655 [00:03<00:00, 205.94it/s]\n"
     ]
    },
    {
     "name": "stdout",
     "output_type": "stream",
     "text": [
      "Epoch: 009, loss: 2.411080735057365, f1: 0.07288257633499602, precision: 0.038139873830146574, recall: 0.8182490665494031\n"
     ]
    },
    {
     "name": "stderr",
     "output_type": "stream",
     "text": [
      "100%|████████████████████████████████████████████████████████████| 218/218 [00:00<00:00, 583.63it/s]\n"
     ]
    },
    {
     "name": "stdout",
     "output_type": "stream",
     "text": [
      "val_loss: 2.41321306873899, val_f1: 0.07585217331644466, val_precision: 0.03975002116143464, val_recall: 0.8265443438783698\n"
     ]
    },
    {
     "name": "stderr",
     "output_type": "stream",
     "text": [
      "100%|████████████████████████████████████████████████████████████| 655/655 [00:03<00:00, 208.54it/s]\n"
     ]
    },
    {
     "name": "stdout",
     "output_type": "stream",
     "text": [
      "Epoch: 010, loss: 2.4041205418018894, f1: 0.07447852868607503, precision: 0.039023580885570466, recall: 0.8144347763243522\n"
     ]
    },
    {
     "name": "stderr",
     "output_type": "stream",
     "text": [
      "100%|████████████████████████████████████████████████████████████| 218/218 [00:00<00:00, 575.28it/s]\n"
     ]
    },
    {
     "name": "stdout",
     "output_type": "stream",
     "text": [
      "val_loss: 2.4074505687853613, val_f1: 0.07933133339592506, val_precision: 0.041711493951712794, val_recall: 0.8087262565936517\n"
     ]
    },
    {
     "name": "stderr",
     "output_type": "stream",
     "text": [
      "100%|████████████████████████████████████████████████████████████| 655/655 [00:03<00:00, 206.94it/s]\n"
     ]
    },
    {
     "name": "stdout",
     "output_type": "stream",
     "text": [
      "Epoch: 011, loss: 2.4008702444666215, f1: 0.07529486686374504, precision: 0.039473744530856385, recall: 0.8137086668087326\n"
     ]
    },
    {
     "name": "stderr",
     "output_type": "stream",
     "text": [
      "100%|████████████████████████████████████████████████████████████| 218/218 [00:00<00:00, 576.82it/s]\n"
     ]
    },
    {
     "name": "stdout",
     "output_type": "stream",
     "text": [
      "val_loss: 2.4013840922521887, val_f1: 0.07911574678069005, val_precision: 0.041540556271141824, val_recall: 0.8288042840607669\n"
     ]
    },
    {
     "name": "stderr",
     "output_type": "stream",
     "text": [
      "100%|████████████████████████████████████████████████████████████| 655/655 [00:03<00:00, 205.44it/s]\n"
     ]
    },
    {
     "name": "stdout",
     "output_type": "stream",
     "text": [
      "Epoch: 012, loss: 2.39727753000405, f1: 0.07694953350472786, precision: 0.04038005826482905, recall: 0.8154202719226138\n"
     ]
    },
    {
     "name": "stderr",
     "output_type": "stream",
     "text": [
      "100%|████████████████████████████████████████████████████████████| 218/218 [00:00<00:00, 574.51it/s]\n"
     ]
    },
    {
     "name": "stdout",
     "output_type": "stream",
     "text": [
      "val_loss: 2.3976634177592917, val_f1: 0.08094924185989565, val_precision: 0.04257314065642177, val_recall: 0.8211177184220848\n"
     ]
    },
    {
     "name": "stderr",
     "output_type": "stream",
     "text": [
      "100%|████████████████████████████████████████████████████████████| 655/655 [00:03<00:00, 207.47it/s]\n"
     ]
    },
    {
     "name": "stdout",
     "output_type": "stream",
     "text": [
      "Epoch: 013, loss: 2.392669931258864, f1: 0.07813952900641861, precision: 0.04102046415458597, recall: 0.8215820786152177\n"
     ]
    },
    {
     "name": "stderr",
     "output_type": "stream",
     "text": [
      "100%|████████████████████████████████████████████████████████████| 218/218 [00:00<00:00, 572.40it/s]\n"
     ]
    },
    {
     "name": "stdout",
     "output_type": "stream",
     "text": [
      "val_loss: 2.399179712348028, val_f1: 0.08110577261119277, val_precision: 0.042640049579775456, val_recall: 0.8284819420051137\n"
     ]
    },
    {
     "name": "stderr",
     "output_type": "stream",
     "text": [
      "100%|████████████████████████████████████████████████████████████| 655/655 [00:03<00:00, 206.95it/s]\n"
     ]
    },
    {
     "name": "stdout",
     "output_type": "stream",
     "text": [
      "Epoch: 014, loss: 2.387832862366247, f1: 0.07994070690925606, precision: 0.04201789057906006, recall: 0.8202390656671451\n"
     ]
    },
    {
     "name": "stderr",
     "output_type": "stream",
     "text": [
      "100%|████████████████████████████████████████████████████████████| 218/218 [00:00<00:00, 583.44it/s]\n"
     ]
    },
    {
     "name": "stdout",
     "output_type": "stream",
     "text": [
      "val_loss: 2.389461448980034, val_f1: 0.08514820445910694, val_precision: 0.044888756385312305, val_recall: 0.8256518575576467\n"
     ]
    },
    {
     "name": "stderr",
     "output_type": "stream",
     "text": [
      "100%|████████████████████████████████████████████████████████████| 655/655 [00:03<00:00, 208.26it/s]\n"
     ]
    },
    {
     "name": "stdout",
     "output_type": "stream",
     "text": [
      "Epoch: 015, loss: 2.3828490078904245, f1: 0.08224564700168312, precision: 0.043302388937134326, recall: 0.8170052927868967\n"
     ]
    },
    {
     "name": "stderr",
     "output_type": "stream",
     "text": [
      "100%|████████████████████████████████████████████████████████████| 218/218 [00:00<00:00, 572.55it/s]\n"
     ]
    },
    {
     "name": "stdout",
     "output_type": "stream",
     "text": [
      "val_loss: 2.3880607010027686, val_f1: 0.08467363282172255, val_precision: 0.04466054470004907, val_recall: 0.8136860452113895\n"
     ]
    },
    {
     "name": "stderr",
     "output_type": "stream",
     "text": [
      "100%|████████████████████████████████████████████████████████████| 655/655 [00:03<00:00, 208.67it/s]\n"
     ]
    },
    {
     "name": "stdout",
     "output_type": "stream",
     "text": [
      "Epoch: 016, loss: 2.3785741321003164, f1: 0.08318012018978588, precision: 0.043824453257337095, recall: 0.8157300493189397\n"
     ]
    },
    {
     "name": "stderr",
     "output_type": "stream",
     "text": [
      "100%|████████████████████████████████████████████████████████████| 218/218 [00:00<00:00, 578.13it/s]\n"
     ]
    },
    {
     "name": "stdout",
     "output_type": "stream",
     "text": [
      "val_loss: 2.3806641736161818, val_f1: 0.08769948290097616, val_precision: 0.04635360175337847, val_recall: 0.8117838881978201\n"
     ]
    },
    {
     "name": "stderr",
     "output_type": "stream",
     "text": [
      "100%|████████████████████████████████████████████████████████████| 655/655 [00:03<00:00, 208.80it/s]\n"
     ]
    },
    {
     "name": "stdout",
     "output_type": "stream",
     "text": [
      "Epoch: 017, loss: 2.3779001077622857, f1: 0.08532046252702678, precision: 0.04502396147541759, recall: 0.8125853785121714\n"
     ]
    },
    {
     "name": "stderr",
     "output_type": "stream",
     "text": [
      "100%|████████████████████████████████████████████████████████████| 218/218 [00:00<00:00, 576.85it/s]\n"
     ]
    },
    {
     "name": "stdout",
     "output_type": "stream",
     "text": [
      "val_loss: 2.391670219395139, val_f1: 0.08677176892624469, val_precision: 0.04580091343607343, val_recall: 0.8228113040874857\n"
     ]
    },
    {
     "name": "stderr",
     "output_type": "stream",
     "text": [
      "100%|████████████████████████████████████████████████████████████| 655/655 [00:03<00:00, 206.84it/s]\n"
     ]
    },
    {
     "name": "stdout",
     "output_type": "stream",
     "text": [
      "Epoch: 018, loss: 2.3755670575695182, f1: 0.08585325538806497, precision: 0.04531842156078752, recall: 0.8133506139726129\n"
     ]
    },
    {
     "name": "stderr",
     "output_type": "stream",
     "text": [
      "100%|████████████████████████████████████████████████████████████| 218/218 [00:00<00:00, 575.74it/s]\n"
     ]
    },
    {
     "name": "stdout",
     "output_type": "stream",
     "text": [
      "val_loss: 2.3816464499596064, val_f1: 0.09098995453589324, val_precision: 0.048232239468125715, val_recall: 0.8016494137978335\n"
     ]
    },
    {
     "name": "stderr",
     "output_type": "stream",
     "text": [
      "100%|████████████████████████████████████████████████████████████| 655/655 [00:03<00:00, 206.21it/s]\n"
     ]
    },
    {
     "name": "stdout",
     "output_type": "stream",
     "text": [
      "Epoch: 019, loss: 2.3731539968315882, f1: 0.086396938514338, precision: 0.045621136792060986, recall: 0.813468314081658\n"
     ]
    },
    {
     "name": "stderr",
     "output_type": "stream",
     "text": [
      "100%|████████████████████████████████████████████████████████████| 218/218 [00:00<00:00, 581.14it/s]\n"
     ]
    },
    {
     "name": "stdout",
     "output_type": "stream",
     "text": [
      "val_loss: 2.379272833329822, val_f1: 0.09071439292807804, val_precision: 0.04804685766116605, val_recall: 0.8102398788163422\n"
     ]
    },
    {
     "name": "stderr",
     "output_type": "stream",
     "text": [
      "100%|████████████████████████████████████████████████████████████| 655/655 [00:03<00:00, 208.82it/s]\n"
     ]
    },
    {
     "name": "stdout",
     "output_type": "stream",
     "text": [
      "Epoch: 020, loss: 2.3705850553876573, f1: 0.08784979962353878, precision: 0.046420379522619126, recall: 0.8170815859132141\n"
     ]
    },
    {
     "name": "stderr",
     "output_type": "stream",
     "text": [
      "100%|████████████████████████████████████████████████████████████| 218/218 [00:00<00:00, 578.80it/s]\n"
     ]
    },
    {
     "name": "stdout",
     "output_type": "stream",
     "text": [
      "val_loss: 2.3764738063199804, val_f1: 0.08846211511713738, val_precision: 0.046741940713393576, val_recall: 0.8233937394181523\n"
     ]
    },
    {
     "name": "stderr",
     "output_type": "stream",
     "text": [
      "100%|████████████████████████████████████████████████████████████| 655/655 [00:03<00:00, 205.78it/s]\n"
     ]
    },
    {
     "name": "stdout",
     "output_type": "stream",
     "text": [
      "Epoch: 021, loss: 2.3711717866759265, f1: 0.0873952033806265, precision: 0.04617682065786296, recall: 0.8138919324365281\n"
     ]
    },
    {
     "name": "stderr",
     "output_type": "stream",
     "text": [
      "100%|████████████████████████████████████████████████████████████| 218/218 [00:00<00:00, 581.20it/s]\n"
     ]
    },
    {
     "name": "stdout",
     "output_type": "stream",
     "text": [
      "val_loss: 2.3832232268578415, val_f1: 0.08771866917446165, val_precision: 0.04631647065392943, val_recall: 0.8267387430602258\n"
     ]
    },
    {
     "name": "stderr",
     "output_type": "stream",
     "text": [
      "100%|████████████████████████████████████████████████████████████| 655/655 [00:03<00:00, 207.14it/s]\n"
     ]
    },
    {
     "name": "stdout",
     "output_type": "stream",
     "text": [
      "Epoch: 022, loss: 2.3672201503324146, f1: 0.08852865667184787, precision: 0.04678909652119943, recall: 0.820308154639397\n"
     ]
    },
    {
     "name": "stderr",
     "output_type": "stream",
     "text": [
      "100%|████████████████████████████████████████████████████████████| 218/218 [00:00<00:00, 575.60it/s]\n"
     ]
    },
    {
     "name": "stdout",
     "output_type": "stream",
     "text": [
      "val_loss: 2.376085197160003, val_f1: 0.08996305928877442, val_precision: 0.04761444671728879, val_recall: 0.8134592116699306\n"
     ]
    },
    {
     "name": "stderr",
     "output_type": "stream",
     "text": [
      "100%|████████████████████████████████████████████████████████████| 655/655 [00:03<00:00, 205.82it/s]\n"
     ]
    },
    {
     "name": "stdout",
     "output_type": "stream",
     "text": [
      "Epoch: 023, loss: 2.3687417687350556, f1: 0.08757591382951943, precision: 0.046245133249757396, recall: 0.8241084994250581\n"
     ]
    },
    {
     "name": "stderr",
     "output_type": "stream",
     "text": [
      "100%|████████████████████████████████████████████████████████████| 218/218 [00:00<00:00, 551.25it/s]\n"
     ]
    },
    {
     "name": "stdout",
     "output_type": "stream",
     "text": [
      "val_loss: 2.3727366645401773, val_f1: 0.09139955709287347, val_precision: 0.04841869883025663, val_recall: 0.8138244534851214\n"
     ]
    },
    {
     "name": "stderr",
     "output_type": "stream",
     "text": [
      "100%|████████████████████████████████████████████████████████████| 655/655 [00:03<00:00, 205.39it/s]\n"
     ]
    },
    {
     "name": "stdout",
     "output_type": "stream",
     "text": [
      "Epoch: 024, loss: 2.365226581169449, f1: 0.08935081532200359, precision: 0.047265468390999744, recall: 0.8152720298020895\n"
     ]
    },
    {
     "name": "stderr",
     "output_type": "stream",
     "text": [
      "100%|████████████████████████████████████████████████████████████| 218/218 [00:00<00:00, 581.66it/s]\n"
     ]
    },
    {
     "name": "stdout",
     "output_type": "stream",
     "text": [
      "val_loss: 2.3741513446930353, val_f1: 0.09193242571834237, val_precision: 0.04869448115788571, val_recall: 0.8204108397348211\n"
     ]
    },
    {
     "name": "stderr",
     "output_type": "stream",
     "text": [
      "100%|████████████████████████████████████████████████████████████| 655/655 [00:03<00:00, 206.39it/s]\n"
     ]
    },
    {
     "name": "stdout",
     "output_type": "stream",
     "text": [
      "Epoch: 025, loss: 2.3670056583317183, f1: 0.0892455719978233, precision: 0.04718725423982637, recall: 0.8210773345623308\n"
     ]
    },
    {
     "name": "stderr",
     "output_type": "stream",
     "text": [
      "100%|████████████████████████████████████████████████████████████| 218/218 [00:00<00:00, 580.59it/s]\n"
     ]
    },
    {
     "name": "stdout",
     "output_type": "stream",
     "text": [
      "val_loss: 2.3700619744598317, val_f1: 0.09293539530198967, val_precision: 0.04926579007494409, val_recall: 0.818153045319636\n"
     ]
    },
    {
     "name": "stderr",
     "output_type": "stream",
     "text": [
      "100%|████████████████████████████████████████████████████████████| 655/655 [00:03<00:00, 207.23it/s]\n"
     ]
    },
    {
     "name": "stdout",
     "output_type": "stream",
     "text": [
      "Epoch: 026, loss: 2.3651451077170043, f1: 0.08961544671040893, precision: 0.04738061369666901, recall: 0.8251488206495765\n"
     ]
    },
    {
     "name": "stderr",
     "output_type": "stream",
     "text": [
      "100%|████████████████████████████████████████████████████████████| 218/218 [00:00<00:00, 581.24it/s]\n"
     ]
    },
    {
     "name": "stdout",
     "output_type": "stream",
     "text": [
      "val_loss: 2.369107687145198, val_f1: 0.09348912020042752, val_precision: 0.0495950379024405, val_recall: 0.8133016254650344\n"
     ]
    },
    {
     "name": "stderr",
     "output_type": "stream",
     "text": [
      "100%|████████████████████████████████████████████████████████████| 655/655 [00:03<00:00, 206.22it/s]\n"
     ]
    },
    {
     "name": "stdout",
     "output_type": "stream",
     "text": [
      "Epoch: 027, loss: 2.362486788880734, f1: 0.09036190630839949, precision: 0.04781546367559838, recall: 0.8200188258222041\n"
     ]
    },
    {
     "name": "stderr",
     "output_type": "stream",
     "text": [
      "100%|████████████████████████████████████████████████████████████| 218/218 [00:00<00:00, 571.14it/s]\n"
     ]
    },
    {
     "name": "stdout",
     "output_type": "stream",
     "text": [
      "val_loss: 2.3724461936075754, val_f1: 0.09362279803766756, val_precision: 0.049722567066088866, val_recall: 0.7995357497022786\n"
     ]
    },
    {
     "name": "stderr",
     "output_type": "stream",
     "text": [
      "100%|████████████████████████████████████████████████████████████| 655/655 [00:03<00:00, 209.60it/s]\n"
     ]
    },
    {
     "name": "stdout",
     "output_type": "stream",
     "text": [
      "Epoch: 028, loss: 2.3600536163526638, f1: 0.09150053510999451, precision: 0.04844670634688312, recall: 0.8219915038301745\n"
     ]
    },
    {
     "name": "stderr",
     "output_type": "stream",
     "text": [
      "100%|████████████████████████████████████████████████████████████| 218/218 [00:00<00:00, 576.48it/s]\n"
     ]
    },
    {
     "name": "stdout",
     "output_type": "stream",
     "text": [
      "val_loss: 2.3700840659097793, val_f1: 0.09247848173738725, val_precision: 0.049004402039401714, val_recall: 0.8194554348330979\n"
     ]
    },
    {
     "name": "stderr",
     "output_type": "stream",
     "text": [
      "100%|████████████████████████████████████████████████████████████| 655/655 [00:03<00:00, 205.24it/s]\n"
     ]
    },
    {
     "name": "stdout",
     "output_type": "stream",
     "text": [
      "Epoch: 029, loss: 2.361412435360537, f1: 0.09095533411843708, precision: 0.048147684592710994, recall: 0.8200861388035403\n"
     ]
    },
    {
     "name": "stderr",
     "output_type": "stream",
     "text": [
      "100%|████████████████████████████████████████████████████████████| 218/218 [00:00<00:00, 559.86it/s]\n"
     ]
    },
    {
     "name": "stdout",
     "output_type": "stream",
     "text": [
      "val_loss: 2.3704638585038142, val_f1: 0.0946583846918847, val_precision: 0.05025921605843538, val_recall: 0.8118460249463353\n"
     ]
    },
    {
     "name": "stderr",
     "output_type": "stream",
     "text": [
      "100%|████████████████████████████████████████████████████████████| 655/655 [00:03<00:00, 208.22it/s]\n"
     ]
    },
    {
     "name": "stdout",
     "output_type": "stream",
     "text": [
      "Epoch: 030, loss: 2.358790123189679, f1: 0.09133567952719249, precision: 0.048353050644545044, recall: 0.8223485852015837\n"
     ]
    },
    {
     "name": "stderr",
     "output_type": "stream",
     "text": [
      "100%|████████████████████████████████████████████████████████████| 218/218 [00:00<00:00, 571.92it/s]\n"
     ]
    },
    {
     "name": "stdout",
     "output_type": "stream",
     "text": [
      "val_loss: 2.3657935103145213, val_f1: 0.09733801184674652, val_precision: 0.05178691803076125, val_recall: 0.8083671808516214\n"
     ]
    },
    {
     "name": "stderr",
     "output_type": "stream",
     "text": [
      "100%|████████████████████████████████████████████████████████████| 655/655 [00:03<00:00, 206.59it/s]\n"
     ]
    },
    {
     "name": "stdout",
     "output_type": "stream",
     "text": [
      "Epoch: 031, loss: 2.356606503297354, f1: 0.09219011956537385, precision: 0.04883146259635118, recall: 0.8225723115087465\n"
     ]
    },
    {
     "name": "stderr",
     "output_type": "stream",
     "text": [
      "100%|████████████████████████████████████████████████████████████| 218/218 [00:00<00:00, 583.15it/s]\n"
     ]
    },
    {
     "name": "stdout",
     "output_type": "stream",
     "text": [
      "val_loss: 2.3645759306916405, val_f1: 0.09617954296305811, val_precision: 0.05108045298529259, val_recall: 0.8213670724028841\n"
     ]
    },
    {
     "name": "stderr",
     "output_type": "stream",
     "text": [
      "100%|████████████████████████████████████████████████████████████| 655/655 [00:03<00:00, 208.12it/s]\n"
     ]
    },
    {
     "name": "stdout",
     "output_type": "stream",
     "text": [
      "Epoch: 032, loss: 2.3554149181788206, f1: 0.09233153259697599, precision: 0.04889160600092746, recall: 0.8280451908366371\n"
     ]
    },
    {
     "name": "stderr",
     "output_type": "stream",
     "text": [
      "100%|████████████████████████████████████████████████████████████| 218/218 [00:00<00:00, 571.31it/s]\n"
     ]
    },
    {
     "name": "stdout",
     "output_type": "stream",
     "text": [
      "val_loss: 2.3714308957441137, val_f1: 0.0931825769684981, val_precision: 0.049431848166715524, val_recall: 0.8107886317126248\n"
     ]
    },
    {
     "name": "stderr",
     "output_type": "stream",
     "text": [
      "100%|████████████████████████████████████████████████████████████| 655/655 [00:03<00:00, 208.57it/s]\n"
     ]
    },
    {
     "name": "stdout",
     "output_type": "stream",
     "text": [
      "Epoch: 033, loss: 2.3595141575536656, f1: 0.0909292167353389, precision: 0.04809888902916538, recall: 0.830130663218389\n"
     ]
    },
    {
     "name": "stderr",
     "output_type": "stream",
     "text": [
      "100%|████████████████████████████████████████████████████████████| 218/218 [00:00<00:00, 574.49it/s]\n"
     ]
    },
    {
     "name": "stdout",
     "output_type": "stream",
     "text": [
      "val_loss: 2.3638986666268167, val_f1: 0.0959038198263672, val_precision: 0.05094754127913727, val_recall: 0.815531556212574\n"
     ]
    },
    {
     "name": "stderr",
     "output_type": "stream",
     "text": [
      "100%|████████████████████████████████████████████████████████████| 655/655 [00:03<00:00, 206.56it/s]\n"
     ]
    },
    {
     "name": "stdout",
     "output_type": "stream",
     "text": [
      "Epoch: 034, loss: 2.35556801539341, f1: 0.09268342015871962, precision: 0.04910768370911877, recall: 0.8227605703222842\n"
     ]
    },
    {
     "name": "stderr",
     "output_type": "stream",
     "text": [
      "100%|████████████████████████████████████████████████████████████| 218/218 [00:00<00:00, 569.72it/s]\n"
     ]
    },
    {
     "name": "stdout",
     "output_type": "stream",
     "text": [
      "val_loss: 2.3620558085791563, val_f1: 0.09602609952101579, val_precision: 0.05102482579708304, val_recall: 0.8134261878258592\n"
     ]
    },
    {
     "name": "stderr",
     "output_type": "stream",
     "text": [
      "100%|████████████████████████████████████████████████████████████| 655/655 [00:03<00:00, 205.58it/s]\n"
     ]
    },
    {
     "name": "stdout",
     "output_type": "stream",
     "text": [
      "Epoch: 035, loss: 2.351583529519671, f1: 0.09449417800114894, precision: 0.050103434688902194, recall: 0.8287657364634157\n"
     ]
    },
    {
     "name": "stderr",
     "output_type": "stream",
     "text": [
      "100%|████████████████████████████████████████████████████████████| 218/218 [00:00<00:00, 578.02it/s]\n"
     ]
    },
    {
     "name": "stdout",
     "output_type": "stream",
     "text": [
      "val_loss: 2.367328187741271, val_f1: 0.09618956111224648, val_precision: 0.05116347160720087, val_recall: 0.8018715141016409\n"
     ]
    },
    {
     "name": "stderr",
     "output_type": "stream",
     "text": [
      "100%|████████████████████████████████████████████████████████████| 655/655 [00:03<00:00, 209.21it/s]\n"
     ]
    },
    {
     "name": "stdout",
     "output_type": "stream",
     "text": [
      "Epoch: 036, loss: 2.3530273478449755, f1: 0.09431423060608332, precision: 0.05001624903876249, recall: 0.8249428816424071\n"
     ]
    },
    {
     "name": "stderr",
     "output_type": "stream",
     "text": [
      "100%|████████████████████████████████████████████████████████████| 218/218 [00:00<00:00, 586.73it/s]\n"
     ]
    },
    {
     "name": "stdout",
     "output_type": "stream",
     "text": [
      "val_loss: 2.362520152822547, val_f1: 0.09671811564906721, val_precision: 0.051416382989248076, val_recall: 0.8132755608733641\n"
     ]
    },
    {
     "name": "stderr",
     "output_type": "stream",
     "text": [
      "100%|████████████████████████████████████████████████████████████| 655/655 [00:03<00:00, 206.38it/s]\n"
     ]
    },
    {
     "name": "stdout",
     "output_type": "stream",
     "text": [
      "Epoch: 037, loss: 2.350244068644429, f1: 0.09506613108197598, precision: 0.05041270540451332, recall: 0.8321424010145755\n"
     ]
    },
    {
     "name": "stderr",
     "output_type": "stream",
     "text": [
      "100%|████████████████████████████████████████████████████████████| 218/218 [00:00<00:00, 580.93it/s]\n"
     ]
    },
    {
     "name": "stdout",
     "output_type": "stream",
     "text": [
      "val_loss: 2.362526083211286, val_f1: 0.09597953210624001, val_precision: 0.050977973852716726, val_recall: 0.8186917387017416\n"
     ]
    },
    {
     "name": "stderr",
     "output_type": "stream",
     "text": [
      "100%|████████████████████████████████████████████████████████████| 655/655 [00:03<00:00, 206.17it/s]\n"
     ]
    },
    {
     "name": "stdout",
     "output_type": "stream",
     "text": [
      "Epoch: 038, loss: 2.3479782101762203, f1: 0.09543235730373754, precision: 0.050620008828758285, recall: 0.8317956758819464\n"
     ]
    },
    {
     "name": "stderr",
     "output_type": "stream",
     "text": [
      "100%|████████████████████████████████████████████████████████████| 218/218 [00:00<00:00, 581.39it/s]\n"
     ]
    },
    {
     "name": "stdout",
     "output_type": "stream",
     "text": [
      "val_loss: 2.3604785925751433, val_f1: 0.09730528450522041, val_precision: 0.051722232581312776, val_recall: 0.8197912453511439\n"
     ]
    },
    {
     "name": "stderr",
     "output_type": "stream",
     "text": [
      "100%|████████████████████████████████████████████████████████████| 655/655 [00:03<00:00, 206.13it/s]\n"
     ]
    },
    {
     "name": "stdout",
     "output_type": "stream",
     "text": [
      "Epoch: 039, loss: 2.345210609090237, f1: 0.09624465749644717, precision: 0.051064367747673665, recall: 0.8352493942238902\n"
     ]
    },
    {
     "name": "stderr",
     "output_type": "stream",
     "text": [
      "100%|████████████████████████████████████████████████████████████| 218/218 [00:00<00:00, 577.06it/s]\n"
     ]
    },
    {
     "name": "stdout",
     "output_type": "stream",
     "text": [
      "val_loss: 2.358082124946314, val_f1: 0.09843457033404703, val_precision: 0.05238079314906184, val_recall: 0.8149309084502929\n"
     ]
    },
    {
     "name": "stderr",
     "output_type": "stream",
     "text": [
      "100%|████████████████████████████████████████████████████████████| 655/655 [00:03<00:00, 206.60it/s]\n"
     ]
    },
    {
     "name": "stdout",
     "output_type": "stream",
     "text": [
      "Epoch: 040, loss: 2.34563819197298, f1: 0.0957123777606533, precision: 0.05075256867362684, recall: 0.8385725236121024\n"
     ]
    },
    {
     "name": "stderr",
     "output_type": "stream",
     "text": [
      "100%|████████████████████████████████████████████████████████████| 218/218 [00:00<00:00, 571.30it/s]\n"
     ]
    },
    {
     "name": "stdout",
     "output_type": "stream",
     "text": [
      "val_loss: 2.361147625730672, val_f1: 0.09552892100454713, val_precision: 0.05072394470094677, val_recall: 0.8186567964356973\n"
     ]
    },
    {
     "name": "stderr",
     "output_type": "stream",
     "text": [
      "100%|████████████████████████████████████████████████████████████| 655/655 [00:03<00:00, 206.59it/s]\n"
     ]
    },
    {
     "name": "stdout",
     "output_type": "stream",
     "text": [
      "Epoch: 041, loss: 2.3422294138952067, f1: 0.09760658308826646, precision: 0.051824135925507046, recall: 0.8372455165813898\n"
     ]
    },
    {
     "name": "stderr",
     "output_type": "stream",
     "text": [
      "100%|████████████████████████████████████████████████████████████| 218/218 [00:00<00:00, 583.73it/s]\n"
     ]
    },
    {
     "name": "stdout",
     "output_type": "stream",
     "text": [
      "val_loss: 2.360413807247757, val_f1: 0.09714833711065474, val_precision: 0.05166372334811016, val_recall: 0.8122602039520893\n"
     ]
    },
    {
     "name": "stderr",
     "output_type": "stream",
     "text": [
      "100%|████████████████████████████████████████████████████████████| 655/655 [00:03<00:00, 208.97it/s]\n"
     ]
    },
    {
     "name": "stdout",
     "output_type": "stream",
     "text": [
      "Epoch: 042, loss: 2.3425057411193846, f1: 0.09661383185761097, precision: 0.05125818743000788, recall: 0.8390027653624993\n"
     ]
    },
    {
     "name": "stderr",
     "output_type": "stream",
     "text": [
      "100%|████████████████████████████████████████████████████████████| 218/218 [00:00<00:00, 579.03it/s]\n"
     ]
    },
    {
     "name": "stdout",
     "output_type": "stream",
     "text": [
      "val_loss: 2.3589099667487887, val_f1: 0.09903578355251696, val_precision: 0.05272950105787759, val_recall: 0.8130047891391526\n"
     ]
    },
    {
     "name": "stderr",
     "output_type": "stream",
     "text": [
      "100%|████████████████████████████████████████████████████████████| 655/655 [00:03<00:00, 205.24it/s]\n"
     ]
    },
    {
     "name": "stdout",
     "output_type": "stream",
     "text": [
      "Epoch: 043, loss: 2.341565612072253, f1: 0.09795126629573667, precision: 0.0520070438891763, recall: 0.8402285668231149\n"
     ]
    },
    {
     "name": "stderr",
     "output_type": "stream",
     "text": [
      "100%|████████████████████████████████████████████████████████████| 218/218 [00:00<00:00, 581.95it/s]\n"
     ]
    },
    {
     "name": "stdout",
     "output_type": "stream",
     "text": [
      "val_loss: 2.363722764570779, val_f1: 0.09833802098929141, val_precision: 0.0522810311458253, val_recall: 0.8260249070344715\n"
     ]
    },
    {
     "name": "stderr",
     "output_type": "stream",
     "text": [
      "100%|████████████████████████████████████████████████████████████| 655/655 [00:03<00:00, 207.23it/s]\n"
     ]
    },
    {
     "name": "stdout",
     "output_type": "stream",
     "text": [
      "Epoch: 044, loss: 2.3431896688373945, f1: 0.09784167204136407, precision: 0.051941318299536035, recall: 0.8412605937200648\n"
     ]
    },
    {
     "name": "stderr",
     "output_type": "stream",
     "text": [
      "100%|████████████████████████████████████████████████████████████| 218/218 [00:00<00:00, 574.81it/s]\n"
     ]
    },
    {
     "name": "stdout",
     "output_type": "stream",
     "text": [
      "val_loss: 2.3589324699629337, val_f1: 0.09820606220293185, val_precision: 0.052242882079829314, val_recall: 0.8170081577990034\n"
     ]
    },
    {
     "name": "stderr",
     "output_type": "stream",
     "text": [
      "100%|████████████████████████████████████████████████████████████| 655/655 [00:03<00:00, 216.72it/s]\n"
     ]
    },
    {
     "name": "stdout",
     "output_type": "stream",
     "text": [
      "Epoch: 045, loss: 2.339566166164311, f1: 0.09835061356729863, precision: 0.05221744311426034, recall: 0.8440807727002005\n"
     ]
    },
    {
     "name": "stderr",
     "output_type": "stream",
     "text": [
      "100%|████████████████████████████████████████████████████████████| 218/218 [00:00<00:00, 563.87it/s]\n"
     ]
    },
    {
     "name": "stdout",
     "output_type": "stream",
     "text": [
      "val_loss: 2.3567041136802884, val_f1: 0.09768405622936686, val_precision: 0.051941657930168264, val_recall: 0.8184641611958863\n"
     ]
    },
    {
     "name": "stderr",
     "output_type": "stream",
     "text": [
      "100%|████████████████████████████████████████████████████████████| 655/655 [00:02<00:00, 235.45it/s]\n"
     ]
    },
    {
     "name": "stdout",
     "output_type": "stream",
     "text": [
      "Epoch: 046, loss: 2.3419541639226082, f1: 0.0980781698376238, precision: 0.0520469413437518, recall: 0.8485559201422539\n"
     ]
    },
    {
     "name": "stderr",
     "output_type": "stream",
     "text": [
      "100%|████████████████████████████████████████████████████████████| 218/218 [00:00<00:00, 562.97it/s]\n"
     ]
    },
    {
     "name": "stdout",
     "output_type": "stream",
     "text": [
      "val_loss: 2.3728092132358376, val_f1: 0.09460665958593889, val_precision: 0.050155595858119975, val_recall: 0.8318041296453651\n"
     ]
    },
    {
     "name": "stderr",
     "output_type": "stream",
     "text": [
      "100%|████████████████████████████████████████████████████████████| 655/655 [00:02<00:00, 237.83it/s]\n"
     ]
    },
    {
     "name": "stdout",
     "output_type": "stream",
     "text": [
      "Epoch: 047, loss: 2.3430387145690337, f1: 0.098183364398639, precision: 0.05212332159209684, recall: 0.844038886969326\n"
     ]
    },
    {
     "name": "stderr",
     "output_type": "stream",
     "text": [
      "100%|████████████████████████████████████████████████████████████| 218/218 [00:00<00:00, 580.00it/s]\n"
     ]
    },
    {
     "name": "stdout",
     "output_type": "stream",
     "text": [
      "val_loss: 2.3544936212924643, val_f1: 0.09771547110670924, val_precision: 0.05192695858721715, val_recall: 0.82660451285336\n"
     ]
    },
    {
     "name": "stderr",
     "output_type": "stream",
     "text": [
      "100%|████████████████████████████████████████████████████████████| 655/655 [00:02<00:00, 226.97it/s]\n"
     ]
    },
    {
     "name": "stdout",
     "output_type": "stream",
     "text": [
      "Epoch: 048, loss: 2.336506237055509, f1: 0.09946462431415717, precision: 0.052858213308615655, recall: 0.8409610659111547\n"
     ]
    },
    {
     "name": "stderr",
     "output_type": "stream",
     "text": [
      "100%|████████████████████████████████████████████████████████████| 218/218 [00:00<00:00, 559.01it/s]\n"
     ]
    },
    {
     "name": "stdout",
     "output_type": "stream",
     "text": [
      "val_loss: 2.3541899421893127, val_f1: 0.09917053127076747, val_precision: 0.05277030453205519, val_recall: 0.8215377120249862\n"
     ]
    },
    {
     "name": "stderr",
     "output_type": "stream",
     "text": [
      "100%|████████████████████████████████████████████████████████████| 655/655 [00:02<00:00, 225.38it/s]\n"
     ]
    },
    {
     "name": "stdout",
     "output_type": "stream",
     "text": [
      "Epoch: 049, loss: 2.3336207059503513, f1: 0.10064076420314326, precision: 0.05348972542325163, recall: 0.8492684914865567\n"
     ]
    },
    {
     "name": "stderr",
     "output_type": "stream",
     "text": [
      "100%|████████████████████████████████████████████████████████████| 218/218 [00:00<00:00, 576.28it/s]\n"
     ]
    },
    {
     "name": "stdout",
     "output_type": "stream",
     "text": [
      "val_loss: 2.3570562836227067, val_f1: 0.09885286763252958, val_precision: 0.05256407235432929, val_recall: 0.8280286628992186\n"
     ]
    },
    {
     "name": "stderr",
     "output_type": "stream",
     "text": [
      "100%|████████████████████████████████████████████████████████████| 655/655 [00:03<00:00, 205.68it/s]\n"
     ]
    },
    {
     "name": "stdout",
     "output_type": "stream",
     "text": [
      "Epoch: 050, loss: 2.3343259838701202, f1: 0.1003920809139288, precision: 0.053360158634436036, recall: 0.8465134774910584\n"
     ]
    },
    {
     "name": "stderr",
     "output_type": "stream",
     "text": [
      "100%|████████████████████████████████████████████████████████████| 218/218 [00:00<00:00, 585.85it/s]\n"
     ]
    },
    {
     "name": "stdout",
     "output_type": "stream",
     "text": [
      "val_loss: 2.3515542986196114, val_f1: 0.10014008307764544, val_precision: 0.05330550638262456, val_recall: 0.824922861992766\n"
     ]
    },
    {
     "name": "stderr",
     "output_type": "stream",
     "text": [
      "100%|████████████████████████████████████████████████████████████| 655/655 [00:03<00:00, 209.35it/s]\n"
     ]
    },
    {
     "name": "stdout",
     "output_type": "stream",
     "text": [
      "Epoch: 051, loss: 2.3322306016929275, f1: 0.10039842934169045, precision: 0.05334966969320849, recall: 0.8500713397073382\n"
     ]
    },
    {
     "name": "stderr",
     "output_type": "stream",
     "text": [
      "100%|████████████████████████████████████████████████████████████| 218/218 [00:00<00:00, 575.45it/s]\n"
     ]
    },
    {
     "name": "stdout",
     "output_type": "stream",
     "text": [
      "val_loss: 2.3557468330094573, val_f1: 0.09836570408645146, val_precision: 0.052333721942311034, val_recall: 0.8168924092699629\n"
     ]
    },
    {
     "name": "stderr",
     "output_type": "stream",
     "text": [
      "100%|████████████████████████████████████████████████████████████| 655/655 [00:03<00:00, 207.91it/s]\n"
     ]
    },
    {
     "name": "stdout",
     "output_type": "stream",
     "text": [
      "Epoch: 052, loss: 2.3339158142796, f1: 0.0999204511127087, precision: 0.05307876710310749, recall: 0.8503421028606765\n"
     ]
    },
    {
     "name": "stderr",
     "output_type": "stream",
     "text": [
      "100%|████████████████████████████████████████████████████████████| 218/218 [00:00<00:00, 577.03it/s]\n"
     ]
    },
    {
     "name": "stdout",
     "output_type": "stream",
     "text": [
      "val_loss: 2.351170239098575, val_f1: 0.10207314838227059, val_precision: 0.05443769854967645, val_recall: 0.8168809334619329\n"
     ]
    },
    {
     "name": "stderr",
     "output_type": "stream",
     "text": [
      "100%|████████████████████████████████████████████████████████████| 655/655 [00:03<00:00, 205.95it/s]\n"
     ]
    },
    {
     "name": "stdout",
     "output_type": "stream",
     "text": [
      "Epoch: 053, loss: 2.3319362572131266, f1: 0.10082840097493409, precision: 0.05359355968472953, recall: 0.8498179334720583\n"
     ]
    },
    {
     "name": "stderr",
     "output_type": "stream",
     "text": [
      "100%|████████████████████████████████████████████████████████████| 218/218 [00:00<00:00, 573.48it/s]\n"
     ]
    },
    {
     "name": "stdout",
     "output_type": "stream",
     "text": [
      "val_loss: 2.3514119517912557, val_f1: 0.100079265759269, val_precision: 0.05325247687949808, val_recall: 0.829400491618782\n"
     ]
    },
    {
     "name": "stderr",
     "output_type": "stream",
     "text": [
      "100%|████████████████████████████████████████████████████████████| 655/655 [00:03<00:00, 206.88it/s]\n"
     ]
    },
    {
     "name": "stdout",
     "output_type": "stream",
     "text": [
      "Epoch: 054, loss: 2.327814936728878, f1: 0.10187849422349006, precision: 0.054178259289603084, recall: 0.8520498184302381\n"
     ]
    },
    {
     "name": "stderr",
     "output_type": "stream",
     "text": [
      "100%|████████████████████████████████████████████████████████████| 218/218 [00:00<00:00, 580.05it/s]\n"
     ]
    },
    {
     "name": "stdout",
     "output_type": "stream",
     "text": [
      "val_loss: 2.3503894302823127, val_f1: 0.09976886593039062, val_precision: 0.053055828838788587, val_recall: 0.8345410168307636\n"
     ]
    },
    {
     "name": "stderr",
     "output_type": "stream",
     "text": [
      "100%|████████████████████████████████████████████████████████████| 655/655 [00:03<00:00, 217.02it/s]\n"
     ]
    },
    {
     "name": "stdout",
     "output_type": "stream",
     "text": [
      "Epoch: 055, loss: 2.3266599739780864, f1: 0.10189194349005394, precision: 0.054166307619538244, recall: 0.8569153296583482\n"
     ]
    },
    {
     "name": "stderr",
     "output_type": "stream",
     "text": [
      "100%|████████████████████████████████████████████████████████████| 218/218 [00:00<00:00, 549.12it/s]\n"
     ]
    },
    {
     "name": "stdout",
     "output_type": "stream",
     "text": [
      "val_loss: 2.3500209084344568, val_f1: 0.10104736277295953, val_precision: 0.05383470411510677, val_recall: 0.8214765228672859\n"
     ]
    },
    {
     "name": "stderr",
     "output_type": "stream",
     "text": [
      "100%|████████████████████████████████████████████████████████████| 655/655 [00:02<00:00, 225.90it/s]\n"
     ]
    },
    {
     "name": "stdout",
     "output_type": "stream",
     "text": [
      "Epoch: 056, loss: 2.3278107735946887, f1: 0.1014949626306972, precision: 0.053949759091172396, recall: 0.854958433686322\n"
     ]
    },
    {
     "name": "stderr",
     "output_type": "stream",
     "text": [
      "100%|████████████████████████████████████████████████████████████| 218/218 [00:00<00:00, 561.03it/s]\n"
     ]
    },
    {
     "name": "stdout",
     "output_type": "stream",
     "text": [
      "val_loss: 2.3503292230291106, val_f1: 0.10264466228433212, val_precision: 0.05477488678965478, val_recall: 0.8142301428618781\n"
     ]
    },
    {
     "name": "stderr",
     "output_type": "stream",
     "text": [
      "100%|████████████████████████████████████████████████████████████| 655/655 [00:03<00:00, 211.99it/s]\n"
     ]
    },
    {
     "name": "stdout",
     "output_type": "stream",
     "text": [
      "Epoch: 057, loss: 2.3254048455762497, f1: 0.10264709728476265, precision: 0.05458664193692553, recall: 0.8585657594768146\n"
     ]
    },
    {
     "name": "stderr",
     "output_type": "stream",
     "text": [
      "100%|████████████████████████████████████████████████████████████| 218/218 [00:00<00:00, 582.32it/s]\n"
     ]
    },
    {
     "name": "stdout",
     "output_type": "stream",
     "text": [
      "val_loss: 2.345666179963208, val_f1: 0.10328437756094679, val_precision: 0.05508092073445986, val_recall: 0.8271942520770458\n"
     ]
    },
    {
     "name": "stderr",
     "output_type": "stream",
     "text": [
      "100%|████████████████████████████████████████████████████████████| 655/655 [00:03<00:00, 206.75it/s]\n"
     ]
    },
    {
     "name": "stdout",
     "output_type": "stream",
     "text": [
      "Epoch: 058, loss: 2.322867307135167, f1: 0.1030303279781211, precision: 0.0547996333281275, recall: 0.8595032579116239\n"
     ]
    },
    {
     "name": "stderr",
     "output_type": "stream",
     "text": [
      "100%|████████████████████████████████████████████████████████████| 218/218 [00:00<00:00, 572.86it/s]\n"
     ]
    },
    {
     "name": "stdout",
     "output_type": "stream",
     "text": [
      "val_loss: 2.3468431174208266, val_f1: 0.10138592965034271, val_precision: 0.0539981693813338, val_recall: 0.828186956225732\n"
     ]
    },
    {
     "name": "stderr",
     "output_type": "stream",
     "text": [
      "100%|████████████████████████████████████████████████████████████| 655/655 [00:03<00:00, 209.12it/s]\n"
     ]
    },
    {
     "name": "stdout",
     "output_type": "stream",
     "text": [
      "Epoch: 059, loss: 2.3223769770323774, f1: 0.10279371519415868, precision: 0.054661560072812414, recall: 0.8605477650656955\n"
     ]
    },
    {
     "name": "stderr",
     "output_type": "stream",
     "text": [
      "100%|████████████████████████████████████████████████████████████| 218/218 [00:00<00:00, 578.48it/s]\n"
     ]
    },
    {
     "name": "stdout",
     "output_type": "stream",
     "text": [
      "val_loss: 2.34627253528035, val_f1: 0.10312846471455812, val_precision: 0.05498912719872977, val_recall: 0.827900494252323\n"
     ]
    },
    {
     "name": "stderr",
     "output_type": "stream",
     "text": [
      "100%|████████████████████████████████████████████████████████████| 655/655 [00:03<00:00, 206.16it/s]\n"
     ]
    },
    {
     "name": "stdout",
     "output_type": "stream",
     "text": [
      "Epoch: 060, loss: 2.3196014978503454, f1: 0.10435584317919498, precision: 0.0555330406376765, recall: 0.863635119500051\n"
     ]
    },
    {
     "name": "stderr",
     "output_type": "stream",
     "text": [
      "100%|████████████████████████████████████████████████████████████| 218/218 [00:00<00:00, 575.10it/s]\n"
     ]
    },
    {
     "name": "stdout",
     "output_type": "stream",
     "text": [
      "val_loss: 2.352929187477182, val_f1: 0.09899689127724984, val_precision: 0.05263118649760278, val_recall: 0.8315919001988314\n"
     ]
    },
    {
     "name": "stderr",
     "output_type": "stream",
     "text": [
      "100%|████████████████████████████████████████████████████████████| 655/655 [00:03<00:00, 205.03it/s]\n"
     ]
    },
    {
     "name": "stdout",
     "output_type": "stream",
     "text": [
      "Epoch: 061, loss: 2.3213339346055766, f1: 0.10300961249818755, precision: 0.054769067134608634, recall: 0.8641681195670412\n"
     ]
    },
    {
     "name": "stderr",
     "output_type": "stream",
     "text": [
      "100%|████████████████████████████████████████████████████████████| 218/218 [00:00<00:00, 581.65it/s]\n"
     ]
    },
    {
     "name": "stdout",
     "output_type": "stream",
     "text": [
      "val_loss: 2.347875980062222, val_f1: 0.10333161033818136, val_precision: 0.055127954988424245, val_recall: 0.8226767558980426\n"
     ]
    },
    {
     "name": "stderr",
     "output_type": "stream",
     "text": [
      "100%|████████████████████████████████████████████████████████████| 655/655 [00:03<00:00, 207.25it/s]\n"
     ]
    },
    {
     "name": "stdout",
     "output_type": "stream",
     "text": [
      "Epoch: 062, loss: 2.3174852171927007, f1: 0.10480718872375819, precision: 0.055791848134391635, recall: 0.8628909091913063\n"
     ]
    },
    {
     "name": "stderr",
     "output_type": "stream",
     "text": [
      "100%|████████████████████████████████████████████████████████████| 218/218 [00:00<00:00, 578.26it/s]\n"
     ]
    },
    {
     "name": "stdout",
     "output_type": "stream",
     "text": [
      "val_loss: 2.3483530884489006, val_f1: 0.1021622370742406, val_precision: 0.054441943975088586, val_recall: 0.8274620163741462\n"
     ]
    },
    {
     "name": "stderr",
     "output_type": "stream",
     "text": [
      "100%|████████████████████████████████████████████████████████████| 655/655 [00:03<00:00, 208.45it/s]\n"
     ]
    },
    {
     "name": "stdout",
     "output_type": "stream",
     "text": [
      "Epoch: 063, loss: 2.3202134455433328, f1: 0.10414994862288801, precision: 0.05541177550117478, recall: 0.8647703658988457\n"
     ]
    },
    {
     "name": "stderr",
     "output_type": "stream",
     "text": [
      "100%|████████████████████████████████████████████████████████████| 218/218 [00:00<00:00, 570.30it/s]\n"
     ]
    },
    {
     "name": "stdout",
     "output_type": "stream",
     "text": [
      "val_loss: 2.3469048213521275, val_f1: 0.10257156995494224, val_precision: 0.05466493094177626, val_recall: 0.8296575299506888\n"
     ]
    },
    {
     "name": "stderr",
     "output_type": "stream",
     "text": [
      "100%|████████████████████████████████████████████████████████████| 655/655 [00:03<00:00, 206.22it/s]\n"
     ]
    },
    {
     "name": "stdout",
     "output_type": "stream",
     "text": [
      "Epoch: 064, loss: 2.3152036386591788, f1: 0.10574916859579472, precision: 0.0563066084591942, recall: 0.8674730641696289\n"
     ]
    },
    {
     "name": "stderr",
     "output_type": "stream",
     "text": [
      "100%|████████████████████████████████████████████████████████████| 218/218 [00:00<00:00, 571.61it/s]\n"
     ]
    },
    {
     "name": "stdout",
     "output_type": "stream",
     "text": [
      "val_loss: 2.3452593804499426, val_f1: 0.10328875630904195, val_precision: 0.05508162805259467, val_recall: 0.8275966289530107\n"
     ]
    },
    {
     "name": "stderr",
     "output_type": "stream",
     "text": [
      "100%|████████████████████████████████████████████████████████████| 655/655 [00:03<00:00, 208.66it/s]\n"
     ]
    },
    {
     "name": "stdout",
     "output_type": "stream",
     "text": [
      "Epoch: 065, loss: 2.3146967054323384, f1: 0.10528649796543009, precision: 0.05603255184957374, recall: 0.870307462634021\n"
     ]
    },
    {
     "name": "stderr",
     "output_type": "stream",
     "text": [
      "100%|████████████████████████████████████████████████████████████| 218/218 [00:00<00:00, 576.19it/s]\n"
     ]
    },
    {
     "name": "stdout",
     "output_type": "stream",
     "text": [
      "val_loss: 2.3453076509160735, val_f1: 0.10371106392929456, val_precision: 0.05532785609830171, val_recall: 0.8262637069602625\n"
     ]
    },
    {
     "name": "stderr",
     "output_type": "stream",
     "text": [
      "100%|████████████████████████████████████████████████████████████| 655/655 [00:03<00:00, 206.93it/s]\n"
     ]
    },
    {
     "name": "stdout",
     "output_type": "stream",
     "text": [
      "Epoch: 066, loss: 2.314889658862398, f1: 0.10473573674975267, precision: 0.05572326663625604, recall: 0.8696758075524832\n"
     ]
    },
    {
     "name": "stderr",
     "output_type": "stream",
     "text": [
      "100%|████████████████████████████████████████████████████████████| 218/218 [00:00<00:00, 582.24it/s]\n"
     ]
    },
    {
     "name": "stdout",
     "output_type": "stream",
     "text": [
      "val_loss: 2.347780866360446, val_f1: 0.10271252254826528, val_precision: 0.05476916353367782, val_recall: 0.8241488499515647\n"
     ]
    },
    {
     "name": "stderr",
     "output_type": "stream",
     "text": [
      "100%|████████████████████████████████████████████████████████████| 655/655 [00:03<00:00, 207.25it/s]\n"
     ]
    },
    {
     "name": "stdout",
     "output_type": "stream",
     "text": [
      "Epoch: 067, loss: 2.3134370527194656, f1: 0.10670198775797228, precision: 0.05683915412252527, recall: 0.8693480665902145\n"
     ]
    },
    {
     "name": "stderr",
     "output_type": "stream",
     "text": [
      "100%|████████████████████████████████████████████████████████████| 218/218 [00:00<00:00, 578.98it/s]\n"
     ]
    },
    {
     "name": "stdout",
     "output_type": "stream",
     "text": [
      "val_loss: 2.3452707129880923, val_f1: 0.10327853978216893, val_precision: 0.05507659675327019, val_recall: 0.8274206551936788\n"
     ]
    },
    {
     "name": "stderr",
     "output_type": "stream",
     "text": [
      "100%|████████████████████████████████████████████████████████████| 655/655 [00:03<00:00, 205.67it/s]\n"
     ]
    },
    {
     "name": "stdout",
     "output_type": "stream",
     "text": [
      "Epoch: 068, loss: 2.3114088051191723, f1: 0.1066990216103349, precision: 0.0568365941314695, recall: 0.8695532079416377\n"
     ]
    },
    {
     "name": "stderr",
     "output_type": "stream",
     "text": [
      "100%|████████████████████████████████████████████████████████████| 218/218 [00:00<00:00, 576.06it/s]\n"
     ]
    },
    {
     "name": "stdout",
     "output_type": "stream",
     "text": [
      "val_loss: 2.34542564131798, val_f1: 0.1034189099323393, val_precision: 0.055143959513745795, val_recall: 0.8302403015144374\n"
     ]
    },
    {
     "name": "stderr",
     "output_type": "stream",
     "text": [
      "100%|████████████████████████████████████████████████████████████| 655/655 [00:03<00:00, 206.67it/s]\n"
     ]
    },
    {
     "name": "stdout",
     "output_type": "stream",
     "text": [
      "Epoch: 069, loss: 2.3093146182198563, f1: 0.10659325548866834, precision: 0.05675277143560407, recall: 0.8751752250067151\n"
     ]
    },
    {
     "name": "stderr",
     "output_type": "stream",
     "text": [
      "100%|████████████████████████████████████████████████████████████| 218/218 [00:00<00:00, 579.51it/s]\n"
     ]
    },
    {
     "name": "stdout",
     "output_type": "stream",
     "text": [
      "val_loss: 2.34338791217279, val_f1: 0.10419833362391959, val_precision: 0.05558676555551965, val_recall: 0.8303776850940985\n"
     ]
    },
    {
     "name": "stderr",
     "output_type": "stream",
     "text": [
      "100%|████████████████████████████████████████████████████████████| 655/655 [00:03<00:00, 206.39it/s]\n"
     ]
    },
    {
     "name": "stdout",
     "output_type": "stream",
     "text": [
      "Epoch: 070, loss: 2.309223862367732, f1: 0.10733370588358145, precision: 0.05717353144916528, recall: 0.8749942425553126\n"
     ]
    },
    {
     "name": "stderr",
     "output_type": "stream",
     "text": [
      "100%|████████████████████████████████████████████████████████████| 218/218 [00:00<00:00, 581.72it/s]\n"
     ]
    },
    {
     "name": "stdout",
     "output_type": "stream",
     "text": [
      "val_loss: 2.341880720689756, val_f1: 0.10388110456519414, val_precision: 0.05540217591530789, val_recall: 0.8312918791940452\n"
     ]
    },
    {
     "name": "stderr",
     "output_type": "stream",
     "text": [
      "100%|████████████████████████████████████████████████████████████| 655/655 [00:03<00:00, 205.63it/s]\n"
     ]
    },
    {
     "name": "stdout",
     "output_type": "stream",
     "text": [
      "Epoch: 071, loss: 2.3076051825785453, f1: 0.10783507866685284, precision: 0.05744797642420949, recall: 0.8773569529293148\n"
     ]
    },
    {
     "name": "stderr",
     "output_type": "stream",
     "text": [
      "100%|████████████████████████████████████████████████████████████| 218/218 [00:00<00:00, 585.31it/s]\n"
     ]
    },
    {
     "name": "stdout",
     "output_type": "stream",
     "text": [
      "val_loss: 2.3398095500578573, val_f1: 0.10425880750499426, val_precision: 0.05560005675369036, val_recall: 0.8351159871581497\n"
     ]
    },
    {
     "name": "stderr",
     "output_type": "stream",
     "text": [
      "100%|████████████████████████████████████████████████████████████| 655/655 [00:03<00:00, 206.18it/s]\n"
     ]
    },
    {
     "name": "stdout",
     "output_type": "stream",
     "text": [
      "Epoch: 072, loss: 2.3089039821661155, f1: 0.10731551302852074, precision: 0.057163094646716844, recall: 0.8750206965071554\n"
     ]
    },
    {
     "name": "stderr",
     "output_type": "stream",
     "text": [
      "100%|████████████████████████████████████████████████████████████| 218/218 [00:00<00:00, 574.54it/s]\n"
     ]
    },
    {
     "name": "stdout",
     "output_type": "stream",
     "text": [
      "val_loss: 2.3426615305996816, val_f1: 0.10429306564024966, val_precision: 0.05564530334038096, val_recall: 0.8293512307039095\n"
     ]
    },
    {
     "name": "stderr",
     "output_type": "stream",
     "text": [
      "100%|████████████████████████████████████████████████████████████| 655/655 [00:03<00:00, 206.26it/s]\n"
     ]
    },
    {
     "name": "stdout",
     "output_type": "stream",
     "text": [
      "Epoch: 073, loss: 2.306271720751551, f1: 0.10849039511509752, precision: 0.05782404176976162, recall: 0.8764495975188626\n"
     ]
    },
    {
     "name": "stderr",
     "output_type": "stream",
     "text": [
      "100%|████████████████████████████████████████████████████████████| 218/218 [00:00<00:00, 570.26it/s]\n"
     ]
    },
    {
     "name": "stdout",
     "output_type": "stream",
     "text": [
      "val_loss: 2.3392703369123127, val_f1: 0.10561797954991985, val_precision: 0.056405731904055546, val_recall: 0.8281743901721929\n"
     ]
    },
    {
     "name": "stderr",
     "output_type": "stream",
     "text": [
      "100%|████████████████████████████████████████████████████████████| 655/655 [00:03<00:00, 208.20it/s]\n"
     ]
    },
    {
     "name": "stdout",
     "output_type": "stream",
     "text": [
      "Epoch: 074, loss: 2.305053423470213, f1: 0.10761986470242617, precision: 0.05731551157779821, recall: 0.8797815143607045\n"
     ]
    },
    {
     "name": "stderr",
     "output_type": "stream",
     "text": [
      "100%|████████████████████████████████████████████████████████████| 218/218 [00:00<00:00, 566.98it/s]\n"
     ]
    },
    {
     "name": "stdout",
     "output_type": "stream",
     "text": [
      "val_loss: 2.3391428704655497, val_f1: 0.10582578359584818, val_precision: 0.05648810093060409, val_recall: 0.8360206806058184\n"
     ]
    },
    {
     "name": "stderr",
     "output_type": "stream",
     "text": [
      "100%|████████████████████████████████████████████████████████████| 655/655 [00:03<00:00, 207.43it/s]\n"
     ]
    },
    {
     "name": "stdout",
     "output_type": "stream",
     "text": [
      "Epoch: 075, loss: 2.3041746594523658, f1: 0.10920159229791815, precision: 0.05821040320487423, recall: 0.8805208738523586\n"
     ]
    },
    {
     "name": "stderr",
     "output_type": "stream",
     "text": [
      "100%|████████████████████████████████████████████████████████████| 218/218 [00:00<00:00, 577.76it/s]\n"
     ]
    },
    {
     "name": "stdout",
     "output_type": "stream",
     "text": [
      "val_loss: 2.3369921675515832, val_f1: 0.10686441005391781, val_precision: 0.057086175339672404, val_recall: 0.8347742219857119\n"
     ]
    },
    {
     "name": "stderr",
     "output_type": "stream",
     "text": [
      "100%|████████████████████████████████████████████████████████████| 655/655 [00:03<00:00, 205.14it/s]\n"
     ]
    },
    {
     "name": "stdout",
     "output_type": "stream",
     "text": [
      "Epoch: 076, loss: 2.303766585579355, f1: 0.10937250111040675, precision: 0.058300013314818835, recall: 0.8822408518718399\n"
     ]
    },
    {
     "name": "stderr",
     "output_type": "stream",
     "text": [
      "100%|████████████████████████████████████████████████████████████| 218/218 [00:00<00:00, 578.92it/s]\n"
     ]
    },
    {
     "name": "stdout",
     "output_type": "stream",
     "text": [
      "val_loss: 2.338576447526249, val_f1: 0.10649173947207356, val_precision: 0.056857371757259814, val_recall: 0.8382717751034903\n"
     ]
    },
    {
     "name": "stderr",
     "output_type": "stream",
     "text": [
      "100%|████████████████████████████████████████████████████████████| 655/655 [00:03<00:00, 206.83it/s]\n"
     ]
    },
    {
     "name": "stdout",
     "output_type": "stream",
     "text": [
      "Epoch: 077, loss: 2.3010986094256394, f1: 0.11072914474796243, precision: 0.05907280267081188, recall: 0.8819680000989492\n"
     ]
    },
    {
     "name": "stderr",
     "output_type": "stream",
     "text": [
      "100%|████████████████████████████████████████████████████████████| 218/218 [00:00<00:00, 583.23it/s]\n"
     ]
    },
    {
     "name": "stdout",
     "output_type": "stream",
     "text": [
      "val_loss: 2.3360614120413405, val_f1: 0.10775006025306529, val_precision: 0.05761178564429796, val_recall: 0.8306234305331467\n"
     ]
    },
    {
     "name": "stderr",
     "output_type": "stream",
     "text": [
      "100%|████████████████████████████████████████████████████████████| 655/655 [00:03<00:00, 206.12it/s]\n"
     ]
    },
    {
     "name": "stdout",
     "output_type": "stream",
     "text": [
      "Epoch: 078, loss: 2.2987409007458286, f1: 0.11084323342654481, precision: 0.059127172993368095, recall: 0.8843270136199834\n"
     ]
    },
    {
     "name": "stderr",
     "output_type": "stream",
     "text": [
      "100%|████████████████████████████████████████████████████████████| 218/218 [00:00<00:00, 576.49it/s]\n"
     ]
    },
    {
     "name": "stdout",
     "output_type": "stream",
     "text": [
      "val_loss: 2.340081722364513, val_f1: 0.10770790470906506, val_precision: 0.05759708957592829, val_recall: 0.8286714417125107\n"
     ]
    },
    {
     "name": "stderr",
     "output_type": "stream",
     "text": [
      "100%|████████████████████████████████████████████████████████████| 655/655 [00:03<00:00, 208.42it/s]\n"
     ]
    },
    {
     "name": "stdout",
     "output_type": "stream",
     "text": [
      "Epoch: 079, loss: 2.3030526576151376, f1: 0.11048333852418837, precision: 0.05893563192785639, recall: 0.8813577670632428\n"
     ]
    },
    {
     "name": "stderr",
     "output_type": "stream",
     "text": [
      "100%|████████████████████████████████████████████████████████████| 218/218 [00:00<00:00, 559.76it/s]\n"
     ]
    },
    {
     "name": "stdout",
     "output_type": "stream",
     "text": [
      "val_loss: 2.3464968997404116, val_f1: 0.10430251618347938, val_precision: 0.05562284856889431, val_recall: 0.8355828691786582\n"
     ]
    },
    {
     "name": "stderr",
     "output_type": "stream",
     "text": [
      "100%|████████████████████████████████████████████████████████████| 655/655 [00:03<00:00, 205.50it/s]\n"
     ]
    },
    {
     "name": "stdout",
     "output_type": "stream",
     "text": [
      "Epoch: 080, loss: 2.302763685834317, f1: 0.10998341033672956, precision: 0.05864661507208953, recall: 0.8823958593015452\n"
     ]
    },
    {
     "name": "stderr",
     "output_type": "stream",
     "text": [
      "100%|████████████████████████████████████████████████████████████| 218/218 [00:00<00:00, 582.13it/s]\n"
     ]
    },
    {
     "name": "stdout",
     "output_type": "stream",
     "text": [
      "val_loss: 2.3370206973968295, val_f1: 0.10800601625064842, val_precision: 0.057740698429678966, val_recall: 0.8342508748857254\n"
     ]
    },
    {
     "name": "stderr",
     "output_type": "stream",
     "text": [
      "100%|████████████████████████████████████████████████████████████| 655/655 [00:03<00:00, 209.31it/s]\n"
     ]
    },
    {
     "name": "stdout",
     "output_type": "stream",
     "text": [
      "Epoch: 081, loss: 2.297959232512321, f1: 0.11099293919377959, precision: 0.059203541991905174, recall: 0.8863025099266576\n"
     ]
    },
    {
     "name": "stderr",
     "output_type": "stream",
     "text": [
      "100%|████████████████████████████████████████████████████████████| 218/218 [00:00<00:00, 579.51it/s]\n"
     ]
    },
    {
     "name": "stdout",
     "output_type": "stream",
     "text": [
      "val_loss: 2.3361678582812666, val_f1: 0.10707450733771631, val_precision: 0.05719350983704859, val_recall: 0.8374641446072028\n"
     ]
    },
    {
     "name": "stderr",
     "output_type": "stream",
     "text": [
      "100%|████████████████████████████████████████████████████████████| 655/655 [00:03<00:00, 206.10it/s]\n"
     ]
    },
    {
     "name": "stdout",
     "output_type": "stream",
     "text": [
      "Epoch: 082, loss: 2.296673196599684, f1: 0.11167436424025194, precision: 0.05959130248325017, recall: 0.8863355693698839\n"
     ]
    },
    {
     "name": "stderr",
     "output_type": "stream",
     "text": [
      "100%|████████████████████████████████████████████████████████████| 218/218 [00:00<00:00, 579.14it/s]\n"
     ]
    },
    {
     "name": "stdout",
     "output_type": "stream",
     "text": [
      "val_loss: 2.3349219839507285, val_f1: 0.10786929717558111, val_precision: 0.057630171584939466, val_recall: 0.8410888133792702\n"
     ]
    },
    {
     "name": "stderr",
     "output_type": "stream",
     "text": [
      "100%|████████████████████████████████████████████████████████████| 655/655 [00:03<00:00, 205.76it/s]\n"
     ]
    },
    {
     "name": "stdout",
     "output_type": "stream",
     "text": [
      "Epoch: 083, loss: 2.297789340710822, f1: 0.11110507264774865, precision: 0.059258310616243884, recall: 0.8883297236366127\n"
     ]
    },
    {
     "name": "stderr",
     "output_type": "stream",
     "text": [
      "100%|████████████████████████████████████████████████████████████| 218/218 [00:00<00:00, 570.29it/s]\n"
     ]
    },
    {
     "name": "stdout",
     "output_type": "stream",
     "text": [
      "val_loss: 2.3376872326255937, val_f1: 0.10488339033727882, val_precision: 0.055914889677179926, val_recall: 0.8442578129812118\n"
     ]
    },
    {
     "name": "stderr",
     "output_type": "stream",
     "text": [
      "100%|████████████████████████████████████████████████████████████| 655/655 [00:03<00:00, 206.20it/s]\n"
     ]
    },
    {
     "name": "stdout",
     "output_type": "stream",
     "text": [
      "Epoch: 084, loss: 2.294663996732872, f1: 0.11302668481480717, precision: 0.060351292095111524, recall: 0.8886654366063708\n"
     ]
    },
    {
     "name": "stderr",
     "output_type": "stream",
     "text": [
      "100%|████████████████████████████████████████████████████████████| 218/218 [00:00<00:00, 575.20it/s]\n"
     ]
    },
    {
     "name": "stdout",
     "output_type": "stream",
     "text": [
      "val_loss: 2.332632008495681, val_f1: 0.10810072103426711, val_precision: 0.057770171403508944, val_recall: 0.8394240155952786\n"
     ]
    },
    {
     "name": "stderr",
     "output_type": "stream",
     "text": [
      "100%|████████████████████████████████████████████████████████████| 655/655 [00:03<00:00, 207.36it/s]\n"
     ]
    },
    {
     "name": "stdout",
     "output_type": "stream",
     "text": [
      "Epoch: 085, loss: 2.2925465604731143, f1: 0.11231091234355715, precision: 0.05993469837939239, recall: 0.8905648654198829\n"
     ]
    },
    {
     "name": "stderr",
     "output_type": "stream",
     "text": [
      "100%|████████████████████████████████████████████████████████████| 218/218 [00:00<00:00, 575.93it/s]\n"
     ]
    },
    {
     "name": "stdout",
     "output_type": "stream",
     "text": [
      "val_loss: 2.33318435653634, val_f1: 0.1084037884645155, val_precision: 0.05795171105200339, val_recall: 0.8376655884838979\n"
     ]
    },
    {
     "name": "stderr",
     "output_type": "stream",
     "text": [
      "100%|████████████████████████████████████████████████████████████| 655/655 [00:03<00:00, 198.46it/s]\n"
     ]
    },
    {
     "name": "stdout",
     "output_type": "stream",
     "text": [
      "Epoch: 086, loss: 2.293043932386937, f1: 0.11340588039110441, precision: 0.06055096630078122, recall: 0.8922542953309212\n"
     ]
    },
    {
     "name": "stderr",
     "output_type": "stream",
     "text": [
      "100%|████████████████████████████████████████████████████████████| 218/218 [00:00<00:00, 501.53it/s]\n"
     ]
    },
    {
     "name": "stdout",
     "output_type": "stream",
     "text": [
      "val_loss: 2.3335673065360534, val_f1: 0.10783393581518647, val_precision: 0.057631166807777426, val_recall: 0.8365997230514474\n"
     ]
    },
    {
     "name": "stderr",
     "output_type": "stream",
     "text": [
      "100%|████████████████████████████████████████████████████████████| 655/655 [00:03<00:00, 201.20it/s]\n"
     ]
    },
    {
     "name": "stdout",
     "output_type": "stream",
     "text": [
      "Epoch: 087, loss: 2.291360328306679, f1: 0.11414403866227363, precision: 0.060963705235395495, recall: 0.8940397167933806\n"
     ]
    },
    {
     "name": "stderr",
     "output_type": "stream",
     "text": [
      "100%|████████████████████████████████████████████████████████████| 218/218 [00:00<00:00, 569.36it/s]\n"
     ]
    },
    {
     "name": "stdout",
     "output_type": "stream",
     "text": [
      "val_loss: 2.3339966524631603, val_f1: 0.10785773579759401, val_precision: 0.057634698370164, val_recall: 0.8387253704147601\n"
     ]
    },
    {
     "name": "stderr",
     "output_type": "stream",
     "text": [
      "100%|████████████████████████████████████████████████████████████| 655/655 [00:03<00:00, 207.92it/s]\n"
     ]
    },
    {
     "name": "stdout",
     "output_type": "stream",
     "text": [
      "Epoch: 088, loss: 2.290481939024598, f1: 0.11318594728273652, precision: 0.060414927669637304, recall: 0.8945843889968086\n"
     ]
    },
    {
     "name": "stderr",
     "output_type": "stream",
     "text": [
      "100%|████████████████████████████████████████████████████████████| 218/218 [00:00<00:00, 586.03it/s]\n"
     ]
    },
    {
     "name": "stdout",
     "output_type": "stream",
     "text": [
      "val_loss: 2.3342340512013218, val_f1: 0.10858462475331866, val_precision: 0.058060567619902755, val_recall: 0.8365257315406012\n"
     ]
    },
    {
     "name": "stderr",
     "output_type": "stream",
     "text": [
      "100%|████████████████████████████████████████████████████████████| 655/655 [00:03<00:00, 208.79it/s]\n"
     ]
    },
    {
     "name": "stdout",
     "output_type": "stream",
     "text": [
      "Epoch: 089, loss: 2.2903209364141217, f1: 0.11405172838260627, precision: 0.06090746395474741, recall: 0.8948116702887848\n"
     ]
    },
    {
     "name": "stderr",
     "output_type": "stream",
     "text": [
      "100%|████████████████████████████████████████████████████████████| 218/218 [00:00<00:00, 585.65it/s]\n"
     ]
    },
    {
     "name": "stdout",
     "output_type": "stream",
     "text": [
      "val_loss: 2.333774083798085, val_f1: 0.10959177800783812, val_precision: 0.0586471220600171, val_recall: 0.8344395532520539\n"
     ]
    },
    {
     "name": "stderr",
     "output_type": "stream",
     "text": [
      "100%|████████████████████████████████████████████████████████████| 655/655 [00:03<00:00, 209.81it/s]\n"
     ]
    },
    {
     "name": "stdout",
     "output_type": "stream",
     "text": [
      "Epoch: 090, loss: 2.288952004818516, f1: 0.11408090337986464, precision: 0.06092042425178162, recall: 0.8956064665590534\n"
     ]
    },
    {
     "name": "stderr",
     "output_type": "stream",
     "text": [
      "100%|████████████████████████████████████████████████████████████| 218/218 [00:00<00:00, 583.24it/s]\n"
     ]
    },
    {
     "name": "stdout",
     "output_type": "stream",
     "text": [
      "val_loss: 2.3310091164680795, val_f1: 0.10869118414680316, val_precision: 0.05811048196222838, val_recall: 0.8388156469808806\n"
     ]
    },
    {
     "name": "stderr",
     "output_type": "stream",
     "text": [
      "100%|████████████████████████████████████████████████████████████| 655/655 [00:03<00:00, 210.68it/s]\n"
     ]
    },
    {
     "name": "stdout",
     "output_type": "stream",
     "text": [
      "Epoch: 091, loss: 2.2882455107819943, f1: 0.11469283425187533, precision: 0.06126315302592311, recall: 0.8969770792786401\n"
     ]
    },
    {
     "name": "stderr",
     "output_type": "stream",
     "text": [
      "100%|████████████████████████████████████████████████████████████| 218/218 [00:00<00:00, 596.65it/s]\n"
     ]
    },
    {
     "name": "stdout",
     "output_type": "stream",
     "text": [
      "val_loss: 2.332316890495633, val_f1: 0.10868974107165003, val_precision: 0.05813292455816761, val_recall: 0.8339971500799197\n"
     ]
    },
    {
     "name": "stderr",
     "output_type": "stream",
     "text": [
      "100%|████████████████████████████████████████████████████████████| 655/655 [00:03<00:00, 209.54it/s]\n"
     ]
    },
    {
     "name": "stdout",
     "output_type": "stream",
     "text": [
      "Epoch: 092, loss: 2.289782169302001, f1: 0.11464336184603849, precision: 0.061241969113586515, recall: 0.8954679967337892\n"
     ]
    },
    {
     "name": "stderr",
     "output_type": "stream",
     "text": [
      "100%|████████████████████████████████████████████████████████████| 218/218 [00:00<00:00, 588.85it/s]\n"
     ]
    },
    {
     "name": "stdout",
     "output_type": "stream",
     "text": [
      "val_loss: 2.332630564313416, val_f1: 0.10851244384148677, val_precision: 0.05802390679242858, val_recall: 0.835568278891231\n"
     ]
    },
    {
     "name": "stderr",
     "output_type": "stream",
     "text": [
      "100%|████████████████████████████████████████████████████████████| 655/655 [00:03<00:00, 211.50it/s]\n"
     ]
    },
    {
     "name": "stdout",
     "output_type": "stream",
     "text": [
      "Epoch: 093, loss: 2.2874103368693635, f1: 0.11490394967937609, precision: 0.06138700127658498, recall: 0.8962594049577495\n"
     ]
    },
    {
     "name": "stderr",
     "output_type": "stream",
     "text": [
      "100%|████████████████████████████████████████████████████████████| 218/218 [00:00<00:00, 595.93it/s]\n"
     ]
    },
    {
     "name": "stdout",
     "output_type": "stream",
     "text": [
      "val_loss: 2.332932186782907, val_f1: 0.1094358478279811, val_precision: 0.05855989517481707, val_recall: 0.8340187031741536\n"
     ]
    },
    {
     "name": "stderr",
     "output_type": "stream",
     "text": [
      "100%|████████████████████████████████████████████████████████████| 655/655 [00:03<00:00, 208.96it/s]\n"
     ]
    },
    {
     "name": "stdout",
     "output_type": "stream",
     "text": [
      "Epoch: 094, loss: 2.28473304273518, f1: 0.11563209832234078, precision: 0.0617884840958446, recall: 0.8992887467828415\n"
     ]
    },
    {
     "name": "stderr",
     "output_type": "stream",
     "text": [
      "100%|████████████████████████████████████████████████████████████| 218/218 [00:00<00:00, 589.52it/s]\n"
     ]
    },
    {
     "name": "stdout",
     "output_type": "stream",
     "text": [
      "val_loss: 2.329692626765015, val_f1: 0.10971655028599321, val_precision: 0.05869790068037227, val_recall: 0.8386405274408673\n"
     ]
    },
    {
     "name": "stderr",
     "output_type": "stream",
     "text": [
      "100%|████████████████████████████████████████████████████████████| 655/655 [00:03<00:00, 208.40it/s]\n"
     ]
    },
    {
     "name": "stdout",
     "output_type": "stream",
     "text": [
      "Epoch: 095, loss: 2.287158256723681, f1: 0.11553266613442975, precision: 0.061743838984860494, recall: 0.8967215238636687\n"
     ]
    },
    {
     "name": "stderr",
     "output_type": "stream",
     "text": [
      "100%|████████████████████████████████████████████████████████████| 218/218 [00:00<00:00, 591.67it/s]\n"
     ]
    },
    {
     "name": "stdout",
     "output_type": "stream",
     "text": [
      "val_loss: 2.329937799808082, val_f1: 0.10950527724265388, val_precision: 0.05857349438763677, val_recall: 0.8393547328513696\n"
     ]
    },
    {
     "name": "stderr",
     "output_type": "stream",
     "text": [
      "100%|████████████████████████████████████████████████████████████| 655/655 [00:03<00:00, 211.83it/s]\n"
     ]
    },
    {
     "name": "stdout",
     "output_type": "stream",
     "text": [
      "Epoch: 096, loss: 2.285228599755819, f1: 0.11538461863994351, precision: 0.06165300484938647, recall: 0.8980504055059593\n"
     ]
    },
    {
     "name": "stderr",
     "output_type": "stream",
     "text": [
      "100%|████████████████████████████████████████████████████████████| 218/218 [00:00<00:00, 589.84it/s]\n"
     ]
    },
    {
     "name": "stdout",
     "output_type": "stream",
     "text": [
      "val_loss: 2.330604528615234, val_f1: 0.10873193684895673, val_precision: 0.05813871009206963, val_recall: 0.8377905395052848\n"
     ]
    },
    {
     "name": "stderr",
     "output_type": "stream",
     "text": [
      "100%|████████████████████████████████████████████████████████████| 655/655 [00:03<00:00, 211.47it/s]\n"
     ]
    },
    {
     "name": "stdout",
     "output_type": "stream",
     "text": [
      "Epoch: 097, loss: 2.284478182738064, f1: 0.11668196348575816, precision: 0.06239540388395313, recall: 0.8978367304073945\n"
     ]
    },
    {
     "name": "stderr",
     "output_type": "stream",
     "text": [
      "100%|████████████████████████████████████████████████████████████| 218/218 [00:00<00:00, 590.89it/s]\n"
     ]
    },
    {
     "name": "stdout",
     "output_type": "stream",
     "text": [
      "val_loss: 2.329247412331607, val_f1: 0.11006369447384447, val_precision: 0.05891132387845273, val_recall: 0.8356794680750698\n"
     ]
    },
    {
     "name": "stderr",
     "output_type": "stream",
     "text": [
      "100%|████████████████████████████████████████████████████████████| 655/655 [00:03<00:00, 209.52it/s]\n"
     ]
    },
    {
     "name": "stdout",
     "output_type": "stream",
     "text": [
      "Epoch: 098, loss: 2.2840593155103783, f1: 0.11636889372588943, precision: 0.062212880292040015, recall: 0.8985681633457883\n"
     ]
    },
    {
     "name": "stderr",
     "output_type": "stream",
     "text": [
      "100%|████████████████████████████████████████████████████████████| 218/218 [00:00<00:00, 591.39it/s]\n"
     ]
    },
    {
     "name": "stdout",
     "output_type": "stream",
     "text": [
      "val_loss: 2.3290638436964892, val_f1: 0.10886660804227907, val_precision: 0.058189125939853356, val_recall: 0.8433377437908715\n"
     ]
    },
    {
     "name": "stderr",
     "output_type": "stream",
     "text": [
      "100%|████████████████████████████████████████████████████████████| 655/655 [00:03<00:00, 209.68it/s]\n"
     ]
    },
    {
     "name": "stdout",
     "output_type": "stream",
     "text": [
      "Epoch: 099, loss: 2.2840510588565857, f1: 0.1167481717897117, precision: 0.06242336401722984, recall: 0.8998904750092339\n"
     ]
    },
    {
     "name": "stderr",
     "output_type": "stream",
     "text": [
      "100%|████████████████████████████████████████████████████████████| 218/218 [00:00<00:00, 592.37it/s]\n"
     ]
    },
    {
     "name": "stdout",
     "output_type": "stream",
     "text": [
      "val_loss: 2.3308275156064866, val_f1: 0.11067205895249743, val_precision: 0.059274567317841316, val_recall: 0.8328012415301909\n"
     ]
    },
    {
     "name": "stderr",
     "output_type": "stream",
     "text": [
      "100%|████████████████████████████████████████████████████████████| 655/655 [00:03<00:00, 211.83it/s]\n"
     ]
    },
    {
     "name": "stdout",
     "output_type": "stream",
     "text": [
      "Epoch: 100, loss: 2.2825685063391243, f1: 0.11680194852362864, precision: 0.06245358785657027, recall: 0.8999995414537328\n"
     ]
    },
    {
     "name": "stderr",
     "output_type": "stream",
     "text": [
      "100%|████████████████████████████████████████████████████████████| 218/218 [00:00<00:00, 591.89it/s]\n"
     ]
    },
    {
     "name": "stdout",
     "output_type": "stream",
     "text": [
      "val_loss: 2.3305922965390966, val_f1: 0.11057124346706951, val_precision: 0.05919144975572585, val_recall: 0.837834150009199\n"
     ]
    },
    {
     "name": "stderr",
     "output_type": "stream",
     "text": [
      "100%|████████████████████████████████████████████████████████████| 655/655 [00:03<00:00, 212.51it/s]\n"
     ]
    },
    {
     "name": "stdout",
     "output_type": "stream",
     "text": [
      "Epoch: 101, loss: 2.28310337303249, f1: 0.1164352625464264, precision: 0.06224922881184416, recall: 0.8988999063732059\n"
     ]
    },
    {
     "name": "stderr",
     "output_type": "stream",
     "text": [
      "100%|████████████████████████████████████████████████████████████| 218/218 [00:00<00:00, 589.63it/s]\n"
     ]
    },
    {
     "name": "stdout",
     "output_type": "stream",
     "text": [
      "val_loss: 2.3268430386114556, val_f1: 0.11017912370547919, val_precision: 0.05894604756458398, val_recall: 0.8420391454609162\n"
     ]
    },
    {
     "name": "stderr",
     "output_type": "stream",
     "text": [
      "100%|████████████████████████████████████████████████████████████| 655/655 [00:03<00:00, 211.06it/s]\n"
     ]
    },
    {
     "name": "stdout",
     "output_type": "stream",
     "text": [
      "Epoch: 102, loss: 2.2804817561884874, f1: 0.11799504486040618, precision: 0.06312854443001382, recall: 0.9015753767872585\n"
     ]
    },
    {
     "name": "stderr",
     "output_type": "stream",
     "text": [
      "100%|████████████████████████████████████████████████████████████| 218/218 [00:00<00:00, 572.15it/s]\n"
     ]
    },
    {
     "name": "stdout",
     "output_type": "stream",
     "text": [
      "val_loss: 2.3282999317033575, val_f1: 0.11003739097629052, val_precision: 0.058879339225897824, val_recall: 0.839099553200083\n"
     ]
    },
    {
     "name": "stderr",
     "output_type": "stream",
     "text": [
      "100%|████████████████████████████████████████████████████████████| 655/655 [00:03<00:00, 209.91it/s]\n"
     ]
    },
    {
     "name": "stdout",
     "output_type": "stream",
     "text": [
      "Epoch: 103, loss: 2.2801614100696477, f1: 0.11799007315340211, precision: 0.06312462202458152, recall: 0.901794970035553\n"
     ]
    },
    {
     "name": "stderr",
     "output_type": "stream",
     "text": [
      "100%|████████████████████████████████████████████████████████████| 218/218 [00:00<00:00, 585.23it/s]\n"
     ]
    },
    {
     "name": "stdout",
     "output_type": "stream",
     "text": [
      "val_loss: 2.328431123440419, val_f1: 0.11047255346874217, val_precision: 0.059143442017615795, val_recall: 0.836121150113027\n"
     ]
    },
    {
     "name": "stderr",
     "output_type": "stream",
     "text": [
      "100%|████████████████████████████████████████████████████████████| 655/655 [00:03<00:00, 211.28it/s]\n"
     ]
    },
    {
     "name": "stdout",
     "output_type": "stream",
     "text": [
      "Epoch: 104, loss: 2.279562238427519, f1: 0.11846593853975046, precision: 0.06339723390121837, recall: 0.9017693974589573\n"
     ]
    },
    {
     "name": "stderr",
     "output_type": "stream",
     "text": [
      "100%|████████████████████████████████████████████████████████████| 218/218 [00:00<00:00, 589.82it/s]\n"
     ]
    },
    {
     "name": "stdout",
     "output_type": "stream",
     "text": [
      "val_loss: 2.32799384790823, val_f1: 0.11062255449177602, val_precision: 0.059235845792850635, val_recall: 0.8348459837906951\n"
     ]
    },
    {
     "name": "stderr",
     "output_type": "stream",
     "text": [
      "100%|████████████████████████████████████████████████████████████| 655/655 [00:03<00:00, 210.03it/s]\n"
     ]
    },
    {
     "name": "stdout",
     "output_type": "stream",
     "text": [
      "Epoch: 105, loss: 2.2783060495180028, f1: 0.1174455792865189, precision: 0.062808834901435, recall: 0.9026600946906869\n"
     ]
    },
    {
     "name": "stderr",
     "output_type": "stream",
     "text": [
      "100%|████████████████████████████████████████████████████████████| 218/218 [00:00<00:00, 591.72it/s]\n"
     ]
    },
    {
     "name": "stdout",
     "output_type": "stream",
     "text": [
      "val_loss: 2.328279514378364, val_f1: 0.11065015900514408, val_precision: 0.05922581362986613, val_recall: 0.8400144026093527\n"
     ]
    },
    {
     "name": "stderr",
     "output_type": "stream",
     "text": [
      "100%|████████████████████████████████████████████████████████████| 655/655 [00:03<00:00, 210.17it/s]\n"
     ]
    },
    {
     "name": "stdout",
     "output_type": "stream",
     "text": [
      "Epoch: 106, loss: 2.288423016326118, f1: 0.11570673558013655, precision: 0.06185223572382718, recall: 0.8948432909623357\n"
     ]
    },
    {
     "name": "stderr",
     "output_type": "stream",
     "text": [
      "100%|████████████████████████████████████████████████████████████| 218/218 [00:00<00:00, 583.44it/s]\n"
     ]
    },
    {
     "name": "stdout",
     "output_type": "stream",
     "text": [
      "val_loss: 2.3486460939459843, val_f1: 0.10479571001563574, val_precision: 0.0559050429221499, val_recall: 0.8352287943483493\n"
     ]
    },
    {
     "name": "stderr",
     "output_type": "stream",
     "text": [
      "100%|████████████████████████████████████████████████████████████| 655/655 [00:03<00:00, 213.40it/s]\n"
     ]
    },
    {
     "name": "stdout",
     "output_type": "stream",
     "text": [
      "Epoch: 107, loss: 2.296647187225691, f1: 0.11420382417177101, precision: 0.061001085798177895, recall: 0.8933376390515393\n"
     ]
    },
    {
     "name": "stderr",
     "output_type": "stream",
     "text": [
      "100%|████████████████████████████████████████████████████████████| 218/218 [00:00<00:00, 590.01it/s]\n"
     ]
    },
    {
     "name": "stdout",
     "output_type": "stream",
     "text": [
      "val_loss: 2.3288504825819523, val_f1: 0.11052366602733453, val_precision: 0.059129988755432704, val_recall: 0.8447518101252547\n"
     ]
    },
    {
     "name": "stderr",
     "output_type": "stream",
     "text": [
      "100%|████████████████████████████████████████████████████████████| 655/655 [00:03<00:00, 209.43it/s]\n"
     ]
    },
    {
     "name": "stdout",
     "output_type": "stream",
     "text": [
      "Epoch: 108, loss: 2.2836656887112685, f1: 0.11745602574354677, precision: 0.06282874653222509, recall: 0.899792022741478\n"
     ]
    },
    {
     "name": "stderr",
     "output_type": "stream",
     "text": [
      "100%|████████████████████████████████████████████████████████████| 218/218 [00:00<00:00, 589.89it/s]\n"
     ]
    },
    {
     "name": "stdout",
     "output_type": "stream",
     "text": [
      "val_loss: 2.3270994813070383, val_f1: 0.11140491619004672, val_precision: 0.059661656661907536, val_recall: 0.8393872835493963\n"
     ]
    },
    {
     "name": "stderr",
     "output_type": "stream",
     "text": [
      "100%|████████████████████████████████████████████████████████████| 655/655 [00:03<00:00, 209.49it/s]\n"
     ]
    },
    {
     "name": "stdout",
     "output_type": "stream",
     "text": [
      "Epoch: 109, loss: 2.277119978693605, f1: 0.1187070549894748, precision: 0.06352528986442862, recall: 0.9038026868387034\n"
     ]
    },
    {
     "name": "stderr",
     "output_type": "stream",
     "text": [
      "100%|████████████████████████████████████████████████████████████| 218/218 [00:00<00:00, 587.96it/s]\n"
     ]
    },
    {
     "name": "stdout",
     "output_type": "stream",
     "text": [
      "val_loss: 2.328023494383611, val_f1: 0.11173341977293975, val_precision: 0.059849179339159383, val_recall: 0.8395737315263223\n"
     ]
    },
    {
     "name": "stderr",
     "output_type": "stream",
     "text": [
      "100%|████████████████████████████████████████████████████████████| 655/655 [00:03<00:00, 208.68it/s]\n"
     ]
    },
    {
     "name": "stdout",
     "output_type": "stream",
     "text": [
      "Epoch: 110, loss: 2.2757348088817744, f1: 0.11924653228090346, precision: 0.0638320550180346, recall: 0.9042685949165402\n"
     ]
    },
    {
     "name": "stderr",
     "output_type": "stream",
     "text": [
      "100%|████████████████████████████████████████████████████████████| 218/218 [00:00<00:00, 586.44it/s]\n"
     ]
    },
    {
     "name": "stdout",
     "output_type": "stream",
     "text": [
      "val_loss: 2.3269212068220892, val_f1: 0.11291142520306105, val_precision: 0.0605430255767915, val_recall: 0.8362461286127021\n"
     ]
    },
    {
     "name": "stderr",
     "output_type": "stream",
     "text": [
      "100%|████████████████████████████████████████████████████████████| 655/655 [00:03<00:00, 210.80it/s]\n"
     ]
    },
    {
     "name": "stdout",
     "output_type": "stream",
     "text": [
      "Epoch: 111, loss: 2.2759583496865425, f1: 0.11914962121866338, precision: 0.06377074574653542, recall: 0.9054310841414764\n"
     ]
    },
    {
     "name": "stderr",
     "output_type": "stream",
     "text": [
      "100%|████████████████████████████████████████████████████████████| 218/218 [00:00<00:00, 589.63it/s]\n"
     ]
    },
    {
     "name": "stdout",
     "output_type": "stream",
     "text": [
      "val_loss: 2.3275981583726515, val_f1: 0.11113118004218235, val_precision: 0.059499694594105174, val_recall: 0.8403781787791383\n"
     ]
    },
    {
     "name": "stderr",
     "output_type": "stream",
     "text": [
      "100%|████████████████████████████████████████████████████████████| 655/655 [00:03<00:00, 211.46it/s]\n"
     ]
    },
    {
     "name": "stdout",
     "output_type": "stream",
     "text": [
      "Epoch: 112, loss: 2.273036163999834, f1: 0.11985020034707254, precision: 0.06416978263331734, recall: 0.9059289331654556\n"
     ]
    },
    {
     "name": "stderr",
     "output_type": "stream",
     "text": [
      "100%|████████████████████████████████████████████████████████████| 218/218 [00:00<00:00, 590.84it/s]\n"
     ]
    },
    {
     "name": "stdout",
     "output_type": "stream",
     "text": [
      "val_loss: 2.327338268177225, val_f1: 0.11162943564631884, val_precision: 0.05981450239965402, val_recall: 0.8346773455722616\n"
     ]
    },
    {
     "name": "stderr",
     "output_type": "stream",
     "text": [
      "100%|████████████████████████████████████████████████████████████| 655/655 [00:03<00:00, 208.60it/s]\n"
     ]
    },
    {
     "name": "stdout",
     "output_type": "stream",
     "text": [
      "Epoch: 113, loss: 2.2733166802020475, f1: 0.11978223946748051, precision: 0.06412430268477734, recall: 0.9072313515284589\n"
     ]
    },
    {
     "name": "stderr",
     "output_type": "stream",
     "text": [
      "100%|████████████████████████████████████████████████████████████| 218/218 [00:00<00:00, 588.21it/s]\n"
     ]
    },
    {
     "name": "stdout",
     "output_type": "stream",
     "text": [
      "val_loss: 2.325118883213866, val_f1: 0.11256954310036071, val_precision: 0.06033676914622956, val_recall: 0.8381153213868447\n"
     ]
    },
    {
     "name": "stderr",
     "output_type": "stream",
     "text": [
      "100%|████████████████████████████████████████████████████████████| 655/655 [00:03<00:00, 210.18it/s]\n"
     ]
    },
    {
     "name": "stdout",
     "output_type": "stream",
     "text": [
      "Epoch: 114, loss: 2.272377146382368, f1: 0.1202431557927976, precision: 0.06439162626478621, recall: 0.906623494716091\n"
     ]
    },
    {
     "name": "stderr",
     "output_type": "stream",
     "text": [
      "100%|████████████████████████████████████████████████████████████| 218/218 [00:00<00:00, 586.80it/s]\n"
     ]
    },
    {
     "name": "stdout",
     "output_type": "stream",
     "text": [
      "val_loss: 2.3265549335457862, val_f1: 0.11206460899288045, val_precision: 0.06005961369667544, val_recall: 0.8356146487074161\n"
     ]
    },
    {
     "name": "stderr",
     "output_type": "stream",
     "text": [
      "100%|████████████████████████████████████████████████████████████| 655/655 [00:03<00:00, 213.60it/s]\n"
     ]
    },
    {
     "name": "stdout",
     "output_type": "stream",
     "text": [
      "Epoch: 115, loss: 2.2746524374903614, f1: 0.11974810557467838, precision: 0.06412228799872953, recall: 0.9037308589192747\n"
     ]
    },
    {
     "name": "stderr",
     "output_type": "stream",
     "text": [
      "100%|████████████████████████████████████████████████████████████| 218/218 [00:00<00:00, 585.14it/s]\n"
     ]
    },
    {
     "name": "stdout",
     "output_type": "stream",
     "text": [
      "val_loss: 2.322463212210104, val_f1: 0.11275535796468315, val_precision: 0.06044469694735123, val_recall: 0.8378944351859049\n"
     ]
    },
    {
     "name": "stderr",
     "output_type": "stream",
     "text": [
      "100%|████████████████████████████████████████████████████████████| 655/655 [00:03<00:00, 210.49it/s]\n"
     ]
    },
    {
     "name": "stdout",
     "output_type": "stream",
     "text": [
      "Epoch: 116, loss: 2.271012426332663, f1: 0.12120165837252724, precision: 0.06493933936723202, recall: 0.9070804604137217\n"
     ]
    },
    {
     "name": "stderr",
     "output_type": "stream",
     "text": [
      "100%|████████████████████████████████████████████████████████████| 218/218 [00:00<00:00, 585.43it/s]\n"
     ]
    },
    {
     "name": "stdout",
     "output_type": "stream",
     "text": [
      "val_loss: 2.3248802806259294, val_f1: 0.11253125437706576, val_precision: 0.06031099147881048, val_recall: 0.838845532421672\n"
     ]
    },
    {
     "name": "stderr",
     "output_type": "stream",
     "text": [
      "100%|████████████████████████████████████████████████████████████| 655/655 [00:03<00:00, 210.26it/s]\n"
     ]
    },
    {
     "name": "stdout",
     "output_type": "stream",
     "text": [
      "Epoch: 117, loss: 2.2704583347298715, f1: 0.12082213212770067, precision: 0.06471691173679046, recall: 0.9079790422934613\n"
     ]
    },
    {
     "name": "stderr",
     "output_type": "stream",
     "text": [
      "100%|████████████████████████████████████████████████████████████| 218/218 [00:00<00:00, 590.81it/s]\n"
     ]
    },
    {
     "name": "stdout",
     "output_type": "stream",
     "text": [
      "val_loss: 2.3238199178231964, val_f1: 0.11103946836560738, val_precision: 0.059452611772522944, val_recall: 0.8392819574940096\n"
     ]
    },
    {
     "name": "stderr",
     "output_type": "stream",
     "text": [
      "100%|████████████████████████████████████████████████████████████| 655/655 [00:03<00:00, 211.47it/s]\n"
     ]
    },
    {
     "name": "stdout",
     "output_type": "stream",
     "text": [
      "Epoch: 118, loss: 2.2714072073688945, f1: 0.12055477181522592, precision: 0.0645636091534873, recall: 0.9079614759401511\n"
     ]
    },
    {
     "name": "stderr",
     "output_type": "stream",
     "text": [
      "100%|████████████████████████████████████████████████████████████| 218/218 [00:00<00:00, 581.60it/s]\n"
     ]
    },
    {
     "name": "stdout",
     "output_type": "stream",
     "text": [
      "val_loss: 2.3224392402062723, val_f1: 0.11309741346805995, val_precision: 0.06062606803500393, val_recall: 0.8408197087979098\n"
     ]
    },
    {
     "name": "stderr",
     "output_type": "stream",
     "text": [
      "100%|████████████████████████████████████████████████████████████| 655/655 [00:03<00:00, 210.42it/s]\n"
     ]
    },
    {
     "name": "stdout",
     "output_type": "stream",
     "text": [
      "Epoch: 119, loss: 2.2716154381519056, f1: 0.12106029907311279, precision: 0.06485183034945308, recall: 0.9083250611792993\n"
     ]
    },
    {
     "name": "stderr",
     "output_type": "stream",
     "text": [
      "100%|████████████████████████████████████████████████████████████| 218/218 [00:00<00:00, 582.68it/s]\n"
     ]
    },
    {
     "name": "stdout",
     "output_type": "stream",
     "text": [
      "val_loss: 2.3262507972914146, val_f1: 0.11301539177964368, val_precision: 0.06062698775556349, val_recall: 0.8316699807797003\n"
     ]
    },
    {
     "name": "stderr",
     "output_type": "stream",
     "text": [
      "100%|████████████████████████████████████████████████████████████| 655/655 [00:03<00:00, 210.03it/s]\n"
     ]
    },
    {
     "name": "stdout",
     "output_type": "stream",
     "text": [
      "Epoch: 120, loss: 2.2710686484365974, f1: 0.12179085988935755, precision: 0.065277631843164, recall: 0.9071032209250763\n"
     ]
    },
    {
     "name": "stderr",
     "output_type": "stream",
     "text": [
      "100%|████████████████████████████████████████████████████████████| 218/218 [00:00<00:00, 591.37it/s]\n"
     ]
    },
    {
     "name": "stdout",
     "output_type": "stream",
     "text": [
      "val_loss: 2.323310391618571, val_f1: 0.11267460555892786, val_precision: 0.06038935006373998, val_recall: 0.8396183115626694\n"
     ]
    },
    {
     "name": "stderr",
     "output_type": "stream",
     "text": [
      "100%|████████████████████████████████████████████████████████████| 655/655 [00:03<00:00, 211.66it/s]\n"
     ]
    },
    {
     "name": "stdout",
     "output_type": "stream",
     "text": [
      "Epoch: 121, loss: 2.268020983506705, f1: 0.1223058270179973, precision: 0.06556215569419602, recall: 0.9092983937445488\n"
     ]
    },
    {
     "name": "stderr",
     "output_type": "stream",
     "text": [
      "100%|████████████████████████████████████████████████████████████| 218/218 [00:00<00:00, 587.95it/s]\n"
     ]
    },
    {
     "name": "stdout",
     "output_type": "stream",
     "text": [
      "val_loss: 2.324555145491154, val_f1: 0.11333824366226718, val_precision: 0.060799328172408525, val_recall: 0.8342063932790669\n"
     ]
    },
    {
     "name": "stderr",
     "output_type": "stream",
     "text": [
      "100%|████████████████████████████████████████████████████████████| 655/655 [00:03<00:00, 212.97it/s]\n"
     ]
    },
    {
     "name": "stdout",
     "output_type": "stream",
     "text": [
      "Epoch: 122, loss: 2.267116025203967, f1: 0.12311077274268724, precision: 0.06601935480045908, recall: 0.9103664054215409\n"
     ]
    },
    {
     "name": "stderr",
     "output_type": "stream",
     "text": [
      "100%|████████████████████████████████████████████████████████████| 218/218 [00:00<00:00, 584.79it/s]\n"
     ]
    },
    {
     "name": "stdout",
     "output_type": "stream",
     "text": [
      "val_loss: 2.3219199281766874, val_f1: 0.11374143437608956, val_precision: 0.06101012565067397, val_recall: 0.8382090418984037\n"
     ]
    },
    {
     "name": "stderr",
     "output_type": "stream",
     "text": [
      "100%|████████████████████████████████████████████████████████████| 655/655 [00:03<00:00, 209.35it/s]\n"
     ]
    },
    {
     "name": "stdout",
     "output_type": "stream",
     "text": [
      "Epoch: 123, loss: 2.2663177566673918, f1: 0.1235480886291719, precision: 0.06627221765025085, recall: 0.910125645335394\n"
     ]
    },
    {
     "name": "stderr",
     "output_type": "stream",
     "text": [
      "100%|████████████████████████████████████████████████████████████| 218/218 [00:00<00:00, 584.01it/s]\n"
     ]
    },
    {
     "name": "stdout",
     "output_type": "stream",
     "text": [
      "val_loss: 2.323865867809418, val_f1: 0.11356134213727448, val_precision: 0.06092026037881749, val_recall: 0.8356126675365168\n"
     ]
    },
    {
     "name": "stderr",
     "output_type": "stream",
     "text": [
      "100%|████████████████████████████████████████████████████████████| 655/655 [00:03<00:00, 211.10it/s]\n"
     ]
    },
    {
     "name": "stdout",
     "output_type": "stream",
     "text": [
      "Epoch: 124, loss: 2.26568548306254, f1: 0.12301121459011352, precision: 0.0659589258164793, recall: 0.9109709465776691\n"
     ]
    },
    {
     "name": "stderr",
     "output_type": "stream",
     "text": [
      "100%|████████████████████████████████████████████████████████████| 218/218 [00:00<00:00, 582.36it/s]\n"
     ]
    },
    {
     "name": "stdout",
     "output_type": "stream",
     "text": [
      "val_loss: 2.3227298032799992, val_f1: 0.11369929987059958, val_precision: 0.06099258674043786, val_recall: 0.8369442663334925\n"
     ]
    },
    {
     "name": "stderr",
     "output_type": "stream",
     "text": [
      "100%|████████████████████████████████████████████████████████████| 655/655 [00:03<00:00, 211.96it/s]\n"
     ]
    },
    {
     "name": "stdout",
     "output_type": "stream",
     "text": [
      "Epoch: 125, loss: 2.2663520317041237, f1: 0.1229068097211785, precision: 0.0659046771559324, recall: 0.9098672331744478\n"
     ]
    },
    {
     "name": "stderr",
     "output_type": "stream",
     "text": [
      "100%|████████████████████████████████████████████████████████████| 218/218 [00:00<00:00, 592.68it/s]\n"
     ]
    },
    {
     "name": "stdout",
     "output_type": "stream",
     "text": [
      "val_loss: 2.324110662718432, val_f1: 0.11360637832553419, val_precision: 0.06094925180867895, val_recall: 0.835036075306595\n"
     ]
    },
    {
     "name": "stderr",
     "output_type": "stream",
     "text": [
      "100%|████████████████████████████████████████████████████████████| 655/655 [00:03<00:00, 209.55it/s]\n"
     ]
    },
    {
     "name": "stdout",
     "output_type": "stream",
     "text": [
      "Epoch: 126, loss: 2.265611361183283, f1: 0.12273421722596879, precision: 0.06579783483486594, recall: 0.9113230370383226\n"
     ]
    },
    {
     "name": "stderr",
     "output_type": "stream",
     "text": [
      "100%|████████████████████████████████████████████████████████████| 218/218 [00:00<00:00, 584.79it/s]\n"
     ]
    },
    {
     "name": "stdout",
     "output_type": "stream",
     "text": [
      "val_loss: 2.321113407338431, val_f1: 0.11424029267087642, val_precision: 0.0612822301822518, val_recall: 0.8410330220646814\n"
     ]
    },
    {
     "name": "stderr",
     "output_type": "stream",
     "text": [
      "100%|████████████████████████████████████████████████████████████| 655/655 [00:03<00:00, 210.18it/s]\n"
     ]
    },
    {
     "name": "stdout",
     "output_type": "stream",
     "text": [
      "Epoch: 127, loss: 2.2631746129225228, f1: 0.1238135956928116, precision: 0.06640849030285163, recall: 0.9132425247257903\n"
     ]
    },
    {
     "name": "stderr",
     "output_type": "stream",
     "text": [
      "100%|████████████████████████████████████████████████████████████| 218/218 [00:00<00:00, 585.64it/s]\n"
     ]
    },
    {
     "name": "stdout",
     "output_type": "stream",
     "text": [
      "val_loss: 2.320024846343819, val_f1: 0.11462257420046697, val_precision: 0.06151628554286008, val_recall: 0.8384254001969591\n"
     ]
    },
    {
     "name": "stderr",
     "output_type": "stream",
     "text": [
      "100%|████████████████████████████████████████████████████████████| 655/655 [00:03<00:00, 208.59it/s]\n"
     ]
    },
    {
     "name": "stdout",
     "output_type": "stream",
     "text": [
      "Epoch: 128, loss: 2.2641088523937545, f1: 0.1237370687976051, precision: 0.06636674769990544, recall: 0.9128098509693874\n"
     ]
    },
    {
     "name": "stderr",
     "output_type": "stream",
     "text": [
      "100%|████████████████████████████████████████████████████████████| 218/218 [00:00<00:00, 588.51it/s]\n"
     ]
    },
    {
     "name": "stdout",
     "output_type": "stream",
     "text": [
      "val_loss: 2.3231948969561027, val_f1: 0.11481177059058346, val_precision: 0.06164282475226482, val_recall: 0.8351927052397247\n"
     ]
    },
    {
     "name": "stderr",
     "output_type": "stream",
     "text": [
      "100%|████████████████████████████████████████████████████████████| 655/655 [00:03<00:00, 214.48it/s]\n"
     ]
    },
    {
     "name": "stdout",
     "output_type": "stream",
     "text": [
      "Epoch: 129, loss: 2.2649348226212362, f1: 0.12331203968905255, precision: 0.06612556201924805, recall: 0.9121826810691193\n"
     ]
    },
    {
     "name": "stderr",
     "output_type": "stream",
     "text": [
      "100%|████████████████████████████████████████████████████████████| 218/218 [00:00<00:00, 590.44it/s]\n"
     ]
    },
    {
     "name": "stdout",
     "output_type": "stream",
     "text": [
      "val_loss: 2.3223654947696475, val_f1: 0.11396910960992172, val_precision: 0.061144203261617534, val_recall: 0.837636939292654\n"
     ]
    },
    {
     "name": "stderr",
     "output_type": "stream",
     "text": [
      "100%|████████████████████████████████████████████████████████████| 655/655 [00:03<00:00, 214.06it/s]\n"
     ]
    },
    {
     "name": "stdout",
     "output_type": "stream",
     "text": [
      "Epoch: 130, loss: 2.2628307179640266, f1: 0.12424015665595348, precision: 0.06666239964285198, recall: 0.9116645873957918\n"
     ]
    },
    {
     "name": "stderr",
     "output_type": "stream",
     "text": [
      "100%|████████████████████████████████████████████████████████████| 218/218 [00:00<00:00, 582.99it/s]\n"
     ]
    },
    {
     "name": "stdout",
     "output_type": "stream",
     "text": [
      "val_loss: 2.3215209688615364, val_f1: 0.11443876402223033, val_precision: 0.06141793866077899, val_recall: 0.8370249082735919\n"
     ]
    },
    {
     "name": "stderr",
     "output_type": "stream",
     "text": [
      "100%|████████████████████████████████████████████████████████████| 655/655 [00:03<00:00, 208.50it/s]\n"
     ]
    },
    {
     "name": "stdout",
     "output_type": "stream",
     "text": [
      "Epoch: 131, loss: 2.261960541383001, f1: 0.12402225226573671, precision: 0.06652417190244976, recall: 0.914069793515533\n"
     ]
    },
    {
     "name": "stderr",
     "output_type": "stream",
     "text": [
      "100%|████████████████████████████████████████████████████████████| 218/218 [00:00<00:00, 586.89it/s]\n"
     ]
    },
    {
     "name": "stdout",
     "output_type": "stream",
     "text": [
      "val_loss: 2.3216997344012653, val_f1: 0.11249086738027661, val_precision: 0.060288409890453205, val_recall: 0.8387256300230639\n"
     ]
    },
    {
     "name": "stderr",
     "output_type": "stream",
     "text": [
      "100%|████████████████████████████████████████████████████████████| 655/655 [00:03<00:00, 210.02it/s]\n"
     ]
    },
    {
     "name": "stdout",
     "output_type": "stream",
     "text": [
      "Epoch: 132, loss: 2.261358994564027, f1: 0.12470533779165667, precision: 0.06691511179327624, recall: 0.9144960065379397\n"
     ]
    },
    {
     "name": "stderr",
     "output_type": "stream",
     "text": [
      "100%|████████████████████████████████████████████████████████████| 218/218 [00:00<00:00, 585.89it/s]\n"
     ]
    },
    {
     "name": "stdout",
     "output_type": "stream",
     "text": [
      "val_loss: 2.321127778893217, val_f1: 0.1155534264164561, val_precision: 0.06208437257617234, val_recall: 0.8327099899633215\n"
     ]
    },
    {
     "name": "stderr",
     "output_type": "stream",
     "text": [
      "100%|████████████████████████████████████████████████████████████| 655/655 [00:03<00:00, 208.53it/s]\n"
     ]
    },
    {
     "name": "stdout",
     "output_type": "stream",
     "text": [
      "Epoch: 133, loss: 2.26070010971477, f1: 0.12466915411973667, precision: 0.06689503923243352, recall: 0.9143533747614795\n"
     ]
    },
    {
     "name": "stderr",
     "output_type": "stream",
     "text": [
      "100%|████████████████████████████████████████████████████████████| 218/218 [00:00<00:00, 588.13it/s]\n"
     ]
    },
    {
     "name": "stdout",
     "output_type": "stream",
     "text": [
      "val_loss: 2.321841986354338, val_f1: 0.1152060423731922, val_precision: 0.06188316996115337, val_recall: 0.8328349639516358\n"
     ]
    },
    {
     "name": "stderr",
     "output_type": "stream",
     "text": [
      "100%|████████████████████████████████████████████████████████████| 655/655 [00:03<00:00, 209.26it/s]\n"
     ]
    },
    {
     "name": "stdout",
     "output_type": "stream",
     "text": [
      "Epoch: 134, loss: 2.26078141945919, f1: 0.12491075519725467, precision: 0.06703362288664429, recall: 0.914457388324592\n"
     ]
    },
    {
     "name": "stderr",
     "output_type": "stream",
     "text": [
      "100%|████████████████████████████████████████████████████████████| 218/218 [00:00<00:00, 579.27it/s]\n"
     ]
    },
    {
     "name": "stdout",
     "output_type": "stream",
     "text": [
      "val_loss: 2.3211702843871684, val_f1: 0.11486376335625155, val_precision: 0.061656127068632785, val_recall: 0.8382627113696632\n"
     ]
    },
    {
     "name": "stderr",
     "output_type": "stream",
     "text": [
      "100%|████████████████████████████████████████████████████████████| 655/655 [00:03<00:00, 209.69it/s]\n"
     ]
    },
    {
     "name": "stdout",
     "output_type": "stream",
     "text": [
      "Epoch: 135, loss: 2.258649047276446, f1: 0.12567216708960524, precision: 0.06746659650403353, recall: 0.9155220451245781\n"
     ]
    },
    {
     "name": "stderr",
     "output_type": "stream",
     "text": [
      "100%|████████████████████████████████████████████████████████████| 218/218 [00:00<00:00, 586.79it/s]\n"
     ]
    },
    {
     "name": "stdout",
     "output_type": "stream",
     "text": [
      "val_loss: 2.3230870048934165, val_f1: 0.11327789499550318, val_precision: 0.06077053192084433, val_recall: 0.8330893464591524\n"
     ]
    },
    {
     "name": "stderr",
     "output_type": "stream",
     "text": [
      "100%|████████████████████████████████████████████████████████████| 655/655 [00:03<00:00, 207.08it/s]\n"
     ]
    },
    {
     "name": "stdout",
     "output_type": "stream",
     "text": [
      "Epoch: 136, loss: 2.258818361231389, f1: 0.12592126288990926, precision: 0.06761237760536544, recall: 0.9151225885362115\n"
     ]
    },
    {
     "name": "stderr",
     "output_type": "stream",
     "text": [
      "100%|████████████████████████████████████████████████████████████| 218/218 [00:00<00:00, 591.56it/s]\n"
     ]
    },
    {
     "name": "stdout",
     "output_type": "stream",
     "text": [
      "val_loss: 2.321509347322884, val_f1: 0.11556925634261374, val_precision: 0.06210619888541827, val_recall: 0.8304350078105927\n"
     ]
    },
    {
     "name": "stderr",
     "output_type": "stream",
     "text": [
      "100%|████████████████████████████████████████████████████████████| 655/655 [00:03<00:00, 209.53it/s]\n"
     ]
    },
    {
     "name": "stdout",
     "output_type": "stream",
     "text": [
      "Epoch: 137, loss: 2.2575633002601507, f1: 0.12635543741852476, precision: 0.06785913958136021, recall: 0.9157872683219327\n"
     ]
    },
    {
     "name": "stderr",
     "output_type": "stream",
     "text": [
      "100%|████████████████████████████████████████████████████████████| 218/218 [00:00<00:00, 587.92it/s]\n"
     ]
    },
    {
     "name": "stdout",
     "output_type": "stream",
     "text": [
      "val_loss: 2.320781310490512, val_f1: 0.1168141836933904, val_precision: 0.0628236899325419, val_recall: 0.8308089069270213\n"
     ]
    },
    {
     "name": "stderr",
     "output_type": "stream",
     "text": [
      "100%|████████████████████████████████████████████████████████████| 655/655 [00:03<00:00, 212.15it/s]\n"
     ]
    },
    {
     "name": "stdout",
     "output_type": "stream",
     "text": [
      "Epoch: 138, loss: 2.257661834017921, f1: 0.12603858433433401, precision: 0.06767552132853343, recall: 0.9159479276824544\n"
     ]
    },
    {
     "name": "stderr",
     "output_type": "stream",
     "text": [
      "100%|████████████████████████████████████████████████████████████| 218/218 [00:00<00:00, 589.19it/s]\n"
     ]
    },
    {
     "name": "stdout",
     "output_type": "stream",
     "text": [
      "val_loss: 2.319807353096271, val_f1: 0.11554390310584912, val_precision: 0.062079506091038704, val_recall: 0.8325963575358785\n"
     ]
    },
    {
     "name": "stderr",
     "output_type": "stream",
     "text": [
      "100%|████████████████████████████████████████████████████████████| 655/655 [00:03<00:00, 209.92it/s]\n"
     ]
    },
    {
     "name": "stdout",
     "output_type": "stream",
     "text": [
      "Epoch: 139, loss: 2.256723828534134, f1: 0.12648986273035598, precision: 0.06792665861248401, recall: 0.9176136572852389\n"
     ]
    },
    {
     "name": "stderr",
     "output_type": "stream",
     "text": [
      "100%|████████████████████████████████████████████████████████████| 218/218 [00:00<00:00, 583.82it/s]\n"
     ]
    },
    {
     "name": "stdout",
     "output_type": "stream",
     "text": [
      "val_loss: 2.3193539473988594, val_f1: 0.11449107504559151, val_precision: 0.06146348075761776, val_recall: 0.8341767060647317\n"
     ]
    },
    {
     "name": "stderr",
     "output_type": "stream",
     "text": [
      "100%|████████████████████████████████████████████████████████████| 655/655 [00:03<00:00, 209.54it/s]\n"
     ]
    },
    {
     "name": "stdout",
     "output_type": "stream",
     "text": [
      "Epoch: 140, loss: 2.257040464878082, f1: 0.1266345090849479, precision: 0.06802048967468716, recall: 0.9157251419001863\n"
     ]
    },
    {
     "name": "stderr",
     "output_type": "stream",
     "text": [
      "100%|████████████████████████████████████████████████████████████| 218/218 [00:00<00:00, 582.05it/s]\n"
     ]
    },
    {
     "name": "stdout",
     "output_type": "stream",
     "text": [
      "val_loss: 2.32211593941811, val_f1: 0.11514236327388146, val_precision: 0.06186279034831587, val_recall: 0.8298785325584062\n"
     ]
    },
    {
     "name": "stderr",
     "output_type": "stream",
     "text": [
      "100%|████████████████████████████████████████████████████████████| 655/655 [00:03<00:00, 208.02it/s]\n"
     ]
    },
    {
     "name": "stdout",
     "output_type": "stream",
     "text": [
      "Epoch: 141, loss: 2.255541203859198, f1: 0.1271146775755598, precision: 0.06828853803836094, recall: 0.917365242415712\n"
     ]
    },
    {
     "name": "stderr",
     "output_type": "stream",
     "text": [
      "100%|████████████████████████████████████████████████████████████| 218/218 [00:00<00:00, 594.75it/s]\n"
     ]
    },
    {
     "name": "stdout",
     "output_type": "stream",
     "text": [
      "val_loss: 2.3200211571444065, val_f1: 0.11565046010735952, val_precision: 0.062164591802625895, val_recall: 0.8283895259603448\n"
     ]
    },
    {
     "name": "stderr",
     "output_type": "stream",
     "text": [
      "100%|████████████████████████████████████████████████████████████| 655/655 [00:03<00:00, 209.71it/s]\n"
     ]
    },
    {
     "name": "stdout",
     "output_type": "stream",
     "text": [
      "Epoch: 142, loss: 2.2539332121383144, f1: 0.12752053468191335, precision: 0.06851891344199881, recall: 0.9180729447430327\n"
     ]
    },
    {
     "name": "stderr",
     "output_type": "stream",
     "text": [
      "100%|████████████████████████████████████████████████████████████| 218/218 [00:00<00:00, 582.20it/s]\n"
     ]
    },
    {
     "name": "stdout",
     "output_type": "stream",
     "text": [
      "val_loss: 2.321360767707912, val_f1: 0.11539785787884144, val_precision: 0.06202590326488086, val_recall: 0.8270971620575004\n"
     ]
    },
    {
     "name": "stderr",
     "output_type": "stream",
     "text": [
      "100%|████████████████████████████████████████████████████████████| 655/655 [00:03<00:00, 210.23it/s]\n"
     ]
    },
    {
     "name": "stdout",
     "output_type": "stream",
     "text": [
      "Epoch: 143, loss: 2.2546942398748326, f1: 0.12752675724878723, precision: 0.06852847885283578, recall: 0.91700218970539\n"
     ]
    },
    {
     "name": "stderr",
     "output_type": "stream",
     "text": [
      "100%|████████████████████████████████████████████████████████████| 218/218 [00:00<00:00, 594.27it/s]\n"
     ]
    },
    {
     "name": "stdout",
     "output_type": "stream",
     "text": [
      "val_loss: 2.3217857324202127, val_f1: 0.11680823343386067, val_precision: 0.06284816799911781, val_recall: 0.8259562066662203\n"
     ]
    },
    {
     "name": "stderr",
     "output_type": "stream",
     "text": [
      "100%|████████████████████████████████████████████████████████████| 655/655 [00:03<00:00, 207.98it/s]\n"
     ]
    },
    {
     "name": "stdout",
     "output_type": "stream",
     "text": [
      "Epoch: 144, loss: 2.2532982073667394, f1: 0.1276779910533855, precision: 0.06860819841870143, recall: 0.9183669831461578\n"
     ]
    },
    {
     "name": "stderr",
     "output_type": "stream",
     "text": [
      "100%|████████████████████████████████████████████████████████████| 218/218 [00:00<00:00, 577.36it/s]\n"
     ]
    },
    {
     "name": "stdout",
     "output_type": "stream",
     "text": [
      "val_loss: 2.3202614825253094, val_f1: 0.11661944102002388, val_precision: 0.0627241196439798, val_recall: 0.8285217930417542\n"
     ]
    },
    {
     "name": "stderr",
     "output_type": "stream",
     "text": [
      "100%|████████████████████████████████████████████████████████████| 655/655 [00:03<00:00, 211.25it/s]\n"
     ]
    },
    {
     "name": "stdout",
     "output_type": "stream",
     "text": [
      "Epoch: 145, loss: 2.2530675413044357, f1: 0.1284560131273775, precision: 0.06905780878941749, recall: 0.9183492799296634\n"
     ]
    },
    {
     "name": "stderr",
     "output_type": "stream",
     "text": [
      "100%|████████████████████████████████████████████████████████████| 218/218 [00:00<00:00, 589.16it/s]\n"
     ]
    },
    {
     "name": "stdout",
     "output_type": "stream",
     "text": [
      "val_loss: 2.318259670100081, val_f1: 0.1161669903886065, val_precision: 0.06245667359326035, val_recall: 0.8295343957089503\n"
     ]
    },
    {
     "name": "stderr",
     "output_type": "stream",
     "text": [
      "100%|████████████████████████████████████████████████████████████| 655/655 [00:03<00:00, 210.69it/s]\n"
     ]
    },
    {
     "name": "stdout",
     "output_type": "stream",
     "text": [
      "Epoch: 146, loss: 2.2532457805771866, f1: 0.12826291950765564, precision: 0.06894545014165626, recall: 0.9184838366417485\n"
     ]
    },
    {
     "name": "stderr",
     "output_type": "stream",
     "text": [
      "100%|████████████████████████████████████████████████████████████| 218/218 [00:00<00:00, 583.49it/s]\n"
     ]
    },
    {
     "name": "stdout",
     "output_type": "stream",
     "text": [
      "val_loss: 2.3211668587605887, val_f1: 0.11650647572698944, val_precision: 0.0626823878548014, val_recall: 0.8244137264993212\n"
     ]
    },
    {
     "name": "stderr",
     "output_type": "stream",
     "text": [
      "100%|████████████████████████████████████████████████████████████| 655/655 [00:03<00:00, 209.58it/s]\n"
     ]
    },
    {
     "name": "stdout",
     "output_type": "stream",
     "text": [
      "Epoch: 147, loss: 2.2514827032125635, f1: 0.12895621369417984, precision: 0.06933283420165873, recall: 0.9208446870778353\n"
     ]
    },
    {
     "name": "stderr",
     "output_type": "stream",
     "text": [
      "100%|████████████████████████████████████████████████████████████| 218/218 [00:00<00:00, 586.99it/s]\n"
     ]
    },
    {
     "name": "stdout",
     "output_type": "stream",
     "text": [
      "val_loss: 2.3211061481488953, val_f1: 0.11591843748526812, val_precision: 0.06232159798473564, val_recall: 0.8280140101362806\n"
     ]
    },
    {
     "name": "stderr",
     "output_type": "stream",
     "text": [
      "100%|████████████████████████████████████████████████████████████| 655/655 [00:03<00:00, 211.78it/s]\n"
     ]
    },
    {
     "name": "stdout",
     "output_type": "stream",
     "text": [
      "Epoch: 148, loss: 2.2574484402896795, f1: 0.12784218403971706, precision: 0.06871406507912937, recall: 0.9163994920617752\n"
     ]
    },
    {
     "name": "stderr",
     "output_type": "stream",
     "text": [
      "100%|████████████████████████████████████████████████████████████| 218/218 [00:00<00:00, 592.33it/s]\n"
     ]
    },
    {
     "name": "stdout",
     "output_type": "stream",
     "text": [
      "val_loss: 2.324992944614603, val_f1: 0.1160072587341161, val_precision: 0.062354566196167686, val_recall: 0.8312672164735444\n"
     ]
    },
    {
     "name": "stderr",
     "output_type": "stream",
     "text": [
      "100%|████████████████████████████████████████████████████████████| 655/655 [00:03<00:00, 209.30it/s]\n"
     ]
    },
    {
     "name": "stdout",
     "output_type": "stream",
     "text": [
      "Epoch: 149, loss: 2.25558916921834, f1: 0.12839663386888053, precision: 0.0690258951537766, recall: 0.9179232510446592\n"
     ]
    },
    {
     "name": "stderr",
     "output_type": "stream",
     "text": [
      "100%|████████████████████████████████████████████████████████████| 218/218 [00:00<00:00, 586.51it/s]\n"
     ]
    },
    {
     "name": "stdout",
     "output_type": "stream",
     "text": [
      "val_loss: 2.320004742900166, val_f1: 0.11654954061982682, val_precision: 0.06267519237114749, val_recall: 0.8300073012846325\n"
     ]
    },
    {
     "name": "stderr",
     "output_type": "stream",
     "text": [
      "100%|████████████████████████████████████████████████████████████| 655/655 [00:03<00:00, 209.29it/s]\n"
     ]
    },
    {
     "name": "stdout",
     "output_type": "stream",
     "text": [
      "Epoch: 150, loss: 2.2512073050018486, f1: 0.12899093784948903, precision: 0.0693587988380428, recall: 0.9198076903820038\n"
     ]
    },
    {
     "name": "stderr",
     "output_type": "stream",
     "text": [
      "100%|████████████████████████████████████████████████████████████| 218/218 [00:00<00:00, 591.17it/s]\n"
     ]
    },
    {
     "name": "stdout",
     "output_type": "stream",
     "text": [
      "val_loss: 2.3181894599297723, val_f1: 0.11782008964157485, val_precision: 0.06340841429709636, val_recall: 0.8303881101652023\n"
     ]
    },
    {
     "name": "stderr",
     "output_type": "stream",
     "text": [
      "100%|████████████████████████████████████████████████████████████| 655/655 [00:03<00:00, 209.86it/s]\n"
     ]
    },
    {
     "name": "stdout",
     "output_type": "stream",
     "text": [
      "Epoch: 151, loss: 2.2505343329815464, f1: 0.1300573167661509, precision: 0.069972025123176, recall: 0.9204631493746779\n"
     ]
    },
    {
     "name": "stderr",
     "output_type": "stream",
     "text": [
      "100%|████████████████████████████████████████████████████████████| 218/218 [00:00<00:00, 589.79it/s]\n"
     ]
    },
    {
     "name": "stdout",
     "output_type": "stream",
     "text": [
      "val_loss: 2.3206722121173087, val_f1: 0.1157745969368308, val_precision: 0.06222347457521518, val_recall: 0.8306740214791867\n"
     ]
    },
    {
     "name": "stderr",
     "output_type": "stream",
     "text": [
      "100%|████████████████████████████████████████████████████████████| 655/655 [00:03<00:00, 210.00it/s]\n"
     ]
    },
    {
     "name": "stdout",
     "output_type": "stream",
     "text": [
      "Epoch: 152, loss: 2.2491771930046665, f1: 0.129961447295418, precision: 0.06990976169250393, recall: 0.921637622500194\n"
     ]
    },
    {
     "name": "stderr",
     "output_type": "stream",
     "text": [
      "100%|████████████████████████████████████████████████████████████| 218/218 [00:00<00:00, 591.13it/s]\n"
     ]
    },
    {
     "name": "stdout",
     "output_type": "stream",
     "text": [
      "val_loss: 2.3210202373495887, val_f1: 0.11712776515852401, val_precision: 0.06303954315094124, val_recall: 0.8248705065578495\n"
     ]
    },
    {
     "name": "stderr",
     "output_type": "stream",
     "text": [
      "100%|████████████████████████████████████████████████████████████| 655/655 [00:03<00:00, 209.35it/s]\n"
     ]
    },
    {
     "name": "stdout",
     "output_type": "stream",
     "text": [
      "Epoch: 153, loss: 2.249674414223387, f1: 0.13040803973249993, precision: 0.07016610297168256, recall: 0.9220143788188468\n"
     ]
    },
    {
     "name": "stderr",
     "output_type": "stream",
     "text": [
      "100%|████████████████████████████████████████████████████████████| 218/218 [00:00<00:00, 587.45it/s]\n"
     ]
    },
    {
     "name": "stdout",
     "output_type": "stream",
     "text": [
      "val_loss: 2.318182426581689, val_f1: 0.116930789209472, val_precision: 0.06290952018633006, val_recall: 0.8276161090769899\n"
     ]
    },
    {
     "name": "stderr",
     "output_type": "stream",
     "text": [
      "100%|████████████████████████████████████████████████████████████| 655/655 [00:03<00:00, 211.84it/s]\n"
     ]
    },
    {
     "name": "stdout",
     "output_type": "stream",
     "text": [
      "Epoch: 154, loss: 2.2489641095845756, f1: 0.1305781563314344, precision: 0.07027032627290442, recall: 0.921031180547394\n"
     ]
    },
    {
     "name": "stderr",
     "output_type": "stream",
     "text": [
      "100%|████████████████████████████████████████████████████████████| 218/218 [00:00<00:00, 591.94it/s]\n"
     ]
    },
    {
     "name": "stdout",
     "output_type": "stream",
     "text": [
      "val_loss: 2.319805138154861, val_f1: 0.11840907314250589, val_precision: 0.06378229119849109, val_recall: 0.824902446581683\n"
     ]
    },
    {
     "name": "stderr",
     "output_type": "stream",
     "text": [
      "100%|████████████████████████████████████████████████████████████| 655/655 [00:03<00:00, 210.58it/s]\n"
     ]
    },
    {
     "name": "stdout",
     "output_type": "stream",
     "text": [
      "Epoch: 155, loss: 2.250999849625216, f1: 0.13003880750792918, precision: 0.06996200225948719, recall: 0.9203433512276366\n"
     ]
    },
    {
     "name": "stderr",
     "output_type": "stream",
     "text": [
      "100%|████████████████████████████████████████████████████████████| 218/218 [00:00<00:00, 585.92it/s]\n"
     ]
    },
    {
     "name": "stdout",
     "output_type": "stream",
     "text": [
      "val_loss: 2.3179705952285627, val_f1: 0.11703529658453306, val_precision: 0.06293547385876332, val_recall: 0.8336309048287366\n"
     ]
    },
    {
     "name": "stderr",
     "output_type": "stream",
     "text": [
      "100%|████████████████████████████████████████████████████████████| 655/655 [00:03<00:00, 209.52it/s]\n"
     ]
    },
    {
     "name": "stdout",
     "output_type": "stream",
     "text": [
      "Epoch: 156, loss: 2.248486818430078, f1: 0.1302937603346612, precision: 0.07009601855209766, recall: 0.9226933186745826\n"
     ]
    },
    {
     "name": "stderr",
     "output_type": "stream",
     "text": [
      "100%|████████████████████████████████████████████████████████████| 218/218 [00:00<00:00, 584.25it/s]\n"
     ]
    },
    {
     "name": "stdout",
     "output_type": "stream",
     "text": [
      "val_loss: 2.318109324492446, val_f1: 0.1192120918270831, val_precision: 0.06424331656815228, val_recall: 0.8257637654149205\n"
     ]
    },
    {
     "name": "stderr",
     "output_type": "stream",
     "text": [
      "100%|████████████████████████████████████████████████████████████| 655/655 [00:03<00:00, 212.40it/s]\n"
     ]
    },
    {
     "name": "stdout",
     "output_type": "stream",
     "text": [
      "Epoch: 157, loss: 2.247910370171525, f1: 0.1308925767771407, precision: 0.07043419076940258, recall: 0.9241673171520233\n"
     ]
    },
    {
     "name": "stderr",
     "output_type": "stream",
     "text": [
      "100%|████████████████████████████████████████████████████████████| 218/218 [00:00<00:00, 589.34it/s]\n"
     ]
    },
    {
     "name": "stdout",
     "output_type": "stream",
     "text": [
      "val_loss: 2.318840221800935, val_f1: 0.11805173137362934, val_precision: 0.06357470311976354, val_recall: 0.8249474602554916\n"
     ]
    },
    {
     "name": "stderr",
     "output_type": "stream",
     "text": [
      "100%|████████████████████████████████████████████████████████████| 655/655 [00:03<00:00, 209.39it/s]\n"
     ]
    },
    {
     "name": "stdout",
     "output_type": "stream",
     "text": [
      "Epoch: 158, loss: 2.24654679944497, f1: 0.1316903131460521, precision: 0.07090289896098144, recall: 0.9230625297732026\n"
     ]
    },
    {
     "name": "stderr",
     "output_type": "stream",
     "text": [
      "100%|████████████████████████████████████████████████████████████| 218/218 [00:00<00:00, 580.08it/s]\n"
     ]
    },
    {
     "name": "stdout",
     "output_type": "stream",
     "text": [
      "val_loss: 2.317259201762873, val_f1: 0.11742841018632717, val_precision: 0.06319889940594861, val_recall: 0.827408265219916\n"
     ]
    },
    {
     "name": "stderr",
     "output_type": "stream",
     "text": [
      "100%|████████████████████████████████████████████████████████████| 655/655 [00:03<00:00, 210.64it/s]\n"
     ]
    },
    {
     "name": "stdout",
     "output_type": "stream",
     "text": [
      "Epoch: 159, loss: 2.2455968141555784, f1: 0.13191703271588248, precision: 0.07103165316658507, recall: 0.9235198328058228\n"
     ]
    },
    {
     "name": "stderr",
     "output_type": "stream",
     "text": [
      "100%|████████████████████████████████████████████████████████████| 218/218 [00:00<00:00, 592.76it/s]\n"
     ]
    },
    {
     "name": "stdout",
     "output_type": "stream",
     "text": [
      "val_loss: 2.3183777816251876, val_f1: 0.11768316187370466, val_precision: 0.06335711755486496, val_recall: 0.8256013129555851\n"
     ]
    },
    {
     "name": "stderr",
     "output_type": "stream",
     "text": [
      "100%|████████████████████████████████████████████████████████████| 655/655 [00:03<00:00, 210.09it/s]\n"
     ]
    },
    {
     "name": "stdout",
     "output_type": "stream",
     "text": [
      "Epoch: 160, loss: 2.2460515120557245, f1: 0.1311635597530572, precision: 0.0705938056203757, recall: 0.9237118198216416\n"
     ]
    },
    {
     "name": "stderr",
     "output_type": "stream",
     "text": [
      "100%|████████████████████████████████████████████████████████████| 218/218 [00:00<00:00, 589.41it/s]\n"
     ]
    },
    {
     "name": "stdout",
     "output_type": "stream",
     "text": [
      "val_loss: 2.3194645957662425, val_f1: 0.11762487439957117, val_precision: 0.06333162941662339, val_recall: 0.8241931962857553\n"
     ]
    },
    {
     "name": "stderr",
     "output_type": "stream",
     "text": [
      "100%|████████████████████████████████████████████████████████████| 655/655 [00:03<00:00, 209.42it/s]\n"
     ]
    },
    {
     "name": "stdout",
     "output_type": "stream",
     "text": [
      "Epoch: 161, loss: 2.245648197272352, f1: 0.13198345162884026, precision: 0.07106899069408878, recall: 0.9237188641806595\n"
     ]
    },
    {
     "name": "stderr",
     "output_type": "stream",
     "text": [
      "100%|████████████████████████████████████████████████████████████| 218/218 [00:00<00:00, 586.20it/s]\n"
     ]
    },
    {
     "name": "stdout",
     "output_type": "stream",
     "text": [
      "val_loss: 2.3172419587953375, val_f1: 0.11760893889307888, val_precision: 0.06329107716991438, val_recall: 0.8295350169096518\n"
     ]
    },
    {
     "name": "stderr",
     "output_type": "stream",
     "text": [
      "100%|████████████████████████████████████████████████████████████| 655/655 [00:03<00:00, 212.65it/s]\n"
     ]
    },
    {
     "name": "stdout",
     "output_type": "stream",
     "text": [
      "Epoch: 162, loss: 2.24418582543162, f1: 0.1323280925999047, precision: 0.07126076345097358, recall: 0.9250857586624058\n"
     ]
    },
    {
     "name": "stderr",
     "output_type": "stream",
     "text": [
      "100%|████████████████████████████████████████████████████████████| 218/218 [00:00<00:00, 594.05it/s]\n"
     ]
    },
    {
     "name": "stdout",
     "output_type": "stream",
     "text": [
      "val_loss: 2.3187438509333025, val_f1: 0.11821382454283819, val_precision: 0.06367377371531527, val_recall: 0.8241021110924012\n"
     ]
    },
    {
     "name": "stderr",
     "output_type": "stream",
     "text": [
      "100%|████████████████████████████████████████████████████████████| 655/655 [00:03<00:00, 210.48it/s]\n"
     ]
    },
    {
     "name": "stdout",
     "output_type": "stream",
     "text": [
      "Epoch: 163, loss: 2.2468866858773557, f1: 0.1315640899376919, precision: 0.07083584929368537, recall: 0.9220236329176954\n"
     ]
    },
    {
     "name": "stderr",
     "output_type": "stream",
     "text": [
      "100%|████████████████████████████████████████████████████████████| 218/218 [00:00<00:00, 592.73it/s]\n"
     ]
    },
    {
     "name": "stdout",
     "output_type": "stream",
     "text": [
      "val_loss: 2.318001739749121, val_f1: 0.11853257654242332, val_precision: 0.06384163760844994, val_recall: 0.8269656848743421\n"
     ]
    },
    {
     "name": "stderr",
     "output_type": "stream",
     "text": [
      "100%|████████████████████████████████████████████████████████████| 655/655 [00:03<00:00, 209.58it/s]\n"
     ]
    },
    {
     "name": "stdout",
     "output_type": "stream",
     "text": [
      "Epoch: 164, loss: 2.2467241643039326, f1: 0.13033883836915974, precision: 0.07011849039042269, recall: 0.9233209834299014\n"
     ]
    },
    {
     "name": "stderr",
     "output_type": "stream",
     "text": [
      "100%|████████████████████████████████████████████████████████████| 218/218 [00:00<00:00, 589.39it/s]\n"
     ]
    },
    {
     "name": "stdout",
     "output_type": "stream",
     "text": [
      "val_loss: 2.3192404374616955, val_f1: 0.11794696556073042, val_precision: 0.06351846997591949, val_recall: 0.8241839270799531\n"
     ]
    },
    {
     "name": "stderr",
     "output_type": "stream",
     "text": [
      "100%|████████████████████████████████████████████████████████████| 655/655 [00:03<00:00, 209.21it/s]\n"
     ]
    },
    {
     "name": "stdout",
     "output_type": "stream",
     "text": [
      "Epoch: 165, loss: 2.2453033880423043, f1: 0.13204326168607963, precision: 0.07110223678146838, recall: 0.9239617647560499\n"
     ]
    },
    {
     "name": "stderr",
     "output_type": "stream",
     "text": [
      "100%|████████████████████████████████████████████████████████████| 218/218 [00:00<00:00, 597.35it/s]\n"
     ]
    },
    {
     "name": "stdout",
     "output_type": "stream",
     "text": [
      "val_loss: 2.3194134932592374, val_f1: 0.11722219304287981, val_precision: 0.06309742688782377, val_recall: 0.8243283654024841\n"
     ]
    },
    {
     "name": "stderr",
     "output_type": "stream",
     "text": [
      "100%|████████████████████████████████████████████████████████████| 655/655 [00:03<00:00, 210.19it/s]\n"
     ]
    },
    {
     "name": "stdout",
     "output_type": "stream",
     "text": [
      "Epoch: 166, loss: 2.242518934584756, f1: 0.13300617335471449, precision: 0.0716514854890984, recall: 0.9255392063210028\n"
     ]
    },
    {
     "name": "stderr",
     "output_type": "stream",
     "text": [
      "100%|████████████████████████████████████████████████████████████| 218/218 [00:00<00:00, 590.41it/s]\n"
     ]
    },
    {
     "name": "stdout",
     "output_type": "stream",
     "text": [
      "val_loss: 2.315239536926287, val_f1: 0.11971756882181217, val_precision: 0.0645263157443169, val_recall: 0.8275181347623878\n"
     ]
    },
    {
     "name": "stderr",
     "output_type": "stream",
     "text": [
      "100%|████████████████████████████████████████████████████████████| 655/655 [00:03<00:00, 210.36it/s]\n"
     ]
    },
    {
     "name": "stdout",
     "output_type": "stream",
     "text": [
      "Epoch: 167, loss: 2.243637251671944, f1: 0.13275852623778647, precision: 0.07151378367010874, recall: 0.9245327222893256\n"
     ]
    },
    {
     "name": "stderr",
     "output_type": "stream",
     "text": [
      "100%|████████████████████████████████████████████████████████████| 218/218 [00:00<00:00, 583.51it/s]\n"
     ]
    },
    {
     "name": "stdout",
     "output_type": "stream",
     "text": [
      "val_loss: 2.3183596667346604, val_f1: 0.11815018921907516, val_precision: 0.06362608881398113, val_recall: 0.8259112289465895\n"
     ]
    },
    {
     "name": "stderr",
     "output_type": "stream",
     "text": [
      "100%|████████████████████████████████████████████████████████████| 655/655 [00:03<00:00, 209.31it/s]\n"
     ]
    },
    {
     "name": "stdout",
     "output_type": "stream",
     "text": [
      "Epoch: 168, loss: 2.2417705170070854, f1: 0.13335894069492116, precision: 0.07185449253355387, recall: 0.9258355485118982\n"
     ]
    },
    {
     "name": "stderr",
     "output_type": "stream",
     "text": [
      "100%|████████████████████████████████████████████████████████████| 218/218 [00:00<00:00, 582.75it/s]\n"
     ]
    },
    {
     "name": "stdout",
     "output_type": "stream",
     "text": [
      "val_loss: 2.3159517733328934, val_f1: 0.11884646607320178, val_precision: 0.06403784496803691, val_recall: 0.8246274749073413\n"
     ]
    },
    {
     "name": "stderr",
     "output_type": "stream",
     "text": [
      "100%|████████████████████████████████████████████████████████████| 655/655 [00:03<00:00, 210.59it/s]\n"
     ]
    },
    {
     "name": "stdout",
     "output_type": "stream",
     "text": [
      "Epoch: 169, loss: 2.246025769674141, f1: 0.13191155706263744, precision: 0.07103875039202225, recall: 0.9217867453134697\n"
     ]
    },
    {
     "name": "stderr",
     "output_type": "stream",
     "text": [
      "100%|████████████████████████████████████████████████████████████| 218/218 [00:00<00:00, 584.42it/s]\n"
     ]
    },
    {
     "name": "stdout",
     "output_type": "stream",
     "text": [
      "val_loss: 2.315592036881578, val_f1: 0.11883155183255219, val_precision: 0.06400511580425391, val_recall: 0.8286406565970237\n"
     ]
    },
    {
     "name": "stderr",
     "output_type": "stream",
     "text": [
      "100%|████████████████████████████████████████████████████████████| 655/655 [00:03<00:00, 210.58it/s]\n"
     ]
    },
    {
     "name": "stdout",
     "output_type": "stream",
     "text": [
      "Epoch: 170, loss: 2.2438953795505845, f1: 0.13291859410402967, precision: 0.07160866818113523, recall: 0.9242025153782532\n"
     ]
    },
    {
     "name": "stderr",
     "output_type": "stream",
     "text": [
      "100%|████████████████████████████████████████████████████████████| 218/218 [00:00<00:00, 585.06it/s]\n"
     ]
    },
    {
     "name": "stdout",
     "output_type": "stream",
     "text": [
      "val_loss: 2.3162719328469095, val_f1: 0.11881409357766197, val_precision: 0.06403057657207849, val_recall: 0.8227193587280195\n"
     ]
    },
    {
     "name": "stderr",
     "output_type": "stream",
     "text": [
      "100%|████████████████████████████████████████████████████████████| 655/655 [00:03<00:00, 212.96it/s]\n"
     ]
    },
    {
     "name": "stdout",
     "output_type": "stream",
     "text": [
      "Epoch: 171, loss: 2.243902971180341, f1: 0.13271621063622907, precision: 0.07148991344951605, recall: 0.9244178824297344\n"
     ]
    },
    {
     "name": "stderr",
     "output_type": "stream",
     "text": [
      "100%|████████████████████████████████████████████████████████████| 218/218 [00:00<00:00, 589.29it/s]\n"
     ]
    },
    {
     "name": "stdout",
     "output_type": "stream",
     "text": [
      "val_loss: 2.317861864052781, val_f1: 0.11889357709242891, val_precision: 0.06407716504827894, val_recall: 0.8226505295125717\n"
     ]
    },
    {
     "name": "stderr",
     "output_type": "stream",
     "text": [
      "100%|████████████████████████████████████████████████████████████| 655/655 [00:03<00:00, 210.71it/s]\n"
     ]
    },
    {
     "name": "stdout",
     "output_type": "stream",
     "text": [
      "Epoch: 172, loss: 2.241926098597869, f1: 0.13371322476097697, precision: 0.07206719844452752, recall: 0.9246884501162376\n"
     ]
    },
    {
     "name": "stderr",
     "output_type": "stream",
     "text": [
      "100%|████████████████████████████████████████████████████████████| 218/218 [00:00<00:00, 588.22it/s]\n"
     ]
    },
    {
     "name": "stdout",
     "output_type": "stream",
     "text": [
      "val_loss: 2.316613016598815, val_f1: 0.11953734652342496, val_precision: 0.06443645880096208, val_recall: 0.825076820653513\n"
     ]
    },
    {
     "name": "stderr",
     "output_type": "stream",
     "text": [
      "100%|████████████████████████████████████████████████████████████| 655/655 [00:03<00:00, 208.84it/s]\n"
     ]
    },
    {
     "name": "stdout",
     "output_type": "stream",
     "text": [
      "Epoch: 173, loss: 2.23972235417548, f1: 0.13461796841794482, precision: 0.0725826614984233, recall: 0.9263868356934031\n"
     ]
    },
    {
     "name": "stderr",
     "output_type": "stream",
     "text": [
      "100%|████████████████████████████████████████████████████████████| 218/218 [00:00<00:00, 593.20it/s]\n"
     ]
    },
    {
     "name": "stdout",
     "output_type": "stream",
     "text": [
      "val_loss: 2.317260545054707, val_f1: 0.11894022591041745, val_precision: 0.06411095473748726, val_recall: 0.8215504640696245\n"
     ]
    },
    {
     "name": "stderr",
     "output_type": "stream",
     "text": [
      "100%|████████████████████████████████████████████████████████████| 655/655 [00:03<00:00, 208.76it/s]\n"
     ]
    },
    {
     "name": "stdout",
     "output_type": "stream",
     "text": [
      "Epoch: 174, loss: 2.2420432219978506, f1: 0.13325632734003312, precision: 0.07180234531424086, recall: 0.9246019456677764\n"
     ]
    },
    {
     "name": "stderr",
     "output_type": "stream",
     "text": [
      "100%|████████████████████████████████████████████████████████████| 218/218 [00:00<00:00, 575.19it/s]\n"
     ]
    },
    {
     "name": "stdout",
     "output_type": "stream",
     "text": [
      "val_loss: 2.316124961463683, val_f1: 0.1195456830013122, val_precision: 0.06444804399560522, val_recall: 0.8239734477679664\n"
     ]
    },
    {
     "name": "stderr",
     "output_type": "stream",
     "text": [
      "100%|████████████████████████████████████████████████████████████| 655/655 [00:03<00:00, 210.82it/s]\n"
     ]
    },
    {
     "name": "stdout",
     "output_type": "stream",
     "text": [
      "Epoch: 175, loss: 2.244673145363349, f1: 0.13293400854665588, precision: 0.07162475325380459, recall: 0.9230156020808766\n"
     ]
    },
    {
     "name": "stderr",
     "output_type": "stream",
     "text": [
      "100%|████████████████████████████████████████████████████████████| 218/218 [00:00<00:00, 583.41it/s]\n"
     ]
    },
    {
     "name": "stdout",
     "output_type": "stream",
     "text": [
      "val_loss: 2.317182490585047, val_f1: 0.11980762219832021, val_precision: 0.06460254548390934, val_recall: 0.8236129911394294\n"
     ]
    },
    {
     "name": "stderr",
     "output_type": "stream",
     "text": [
      "100%|████████████████████████████████████████████████████████████| 655/655 [00:03<00:00, 210.98it/s]\n"
     ]
    },
    {
     "name": "stdout",
     "output_type": "stream",
     "text": [
      "Epoch: 176, loss: 2.2407882880618555, f1: 0.13462208171002488, precision: 0.072589184832226, recall: 0.9257143433312424\n"
     ]
    },
    {
     "name": "stderr",
     "output_type": "stream",
     "text": [
      "100%|████████████████████████████████████████████████████████████| 218/218 [00:00<00:00, 586.07it/s]\n"
     ]
    },
    {
     "name": "stdout",
     "output_type": "stream",
     "text": [
      "val_loss: 2.3149945227378006, val_f1: 0.11987977219035738, val_precision: 0.06462708331106248, val_recall: 0.8264512530434023\n"
     ]
    },
    {
     "name": "stderr",
     "output_type": "stream",
     "text": [
      "100%|████████████████████████████████████████████████████████████| 655/655 [00:03<00:00, 209.62it/s]\n"
     ]
    },
    {
     "name": "stdout",
     "output_type": "stream",
     "text": [
      "Epoch: 177, loss: 2.238853289789826, f1: 0.13507521588584165, precision: 0.07284403378215, recall: 0.9271234430884587\n"
     ]
    },
    {
     "name": "stderr",
     "output_type": "stream",
     "text": [
      "100%|████████████████████████████████████████████████████████████| 218/218 [00:00<00:00, 587.14it/s]\n"
     ]
    },
    {
     "name": "stdout",
     "output_type": "stream",
     "text": [
      "val_loss: 2.319864485788783, val_f1: 0.11687479484176591, val_precision: 0.06289009732800886, val_recall: 0.8253719514116235\n"
     ]
    },
    {
     "name": "stderr",
     "output_type": "stream",
     "text": [
      "100%|████████████████████████████████████████████████████████████| 655/655 [00:03<00:00, 211.31it/s]\n"
     ]
    },
    {
     "name": "stdout",
     "output_type": "stream",
     "text": [
      "Epoch: 178, loss: 2.240512142472595, f1: 0.1342211383187019, precision: 0.07235375000590473, recall: 0.9260983906174434\n"
     ]
    },
    {
     "name": "stderr",
     "output_type": "stream",
     "text": [
      "100%|████████████████████████████████████████████████████████████| 218/218 [00:00<00:00, 587.89it/s]\n"
     ]
    },
    {
     "name": "stdout",
     "output_type": "stream",
     "text": [
      "val_loss: 2.3161760609631146, val_f1: 0.12016576133498304, val_precision: 0.0648025569170628, val_recall: 0.824955799574152\n"
     ]
    },
    {
     "name": "stderr",
     "output_type": "stream",
     "text": [
      "100%|████████████████████████████████████████████████████████████| 655/655 [00:03<00:00, 209.32it/s]\n"
     ]
    },
    {
     "name": "stdout",
     "output_type": "stream",
     "text": [
      "Epoch: 179, loss: 2.2393046312659752, f1: 0.13487255202909576, precision: 0.0727327144982023, recall: 0.9260606774392018\n"
     ]
    },
    {
     "name": "stderr",
     "output_type": "stream",
     "text": [
      "100%|████████████████████████████████████████████████████████████| 218/218 [00:00<00:00, 582.73it/s]\n"
     ]
    },
    {
     "name": "stdout",
     "output_type": "stream",
     "text": [
      "val_loss: 2.316858767096056, val_f1: 0.11969390210042691, val_precision: 0.06455077341471482, val_recall: 0.8212824969663532\n"
     ]
    },
    {
     "name": "stderr",
     "output_type": "stream",
     "text": [
      "100%|████████████████████████████████████████████████████████████| 655/655 [00:03<00:00, 213.50it/s]\n"
     ]
    },
    {
     "name": "stdout",
     "output_type": "stream",
     "text": [
      "Epoch: 180, loss: 2.236947419352204, f1: 0.13553257320237194, precision: 0.07310243725335894, recall: 0.9283622290796906\n"
     ]
    },
    {
     "name": "stderr",
     "output_type": "stream",
     "text": [
      "100%|████████████████████████████████████████████████████████████| 218/218 [00:00<00:00, 581.90it/s]\n"
     ]
    },
    {
     "name": "stdout",
     "output_type": "stream",
     "text": [
      "val_loss: 2.316646809424829, val_f1: 0.12075506034078491, val_precision: 0.06517055405649878, val_recall: 0.8209508626012627\n"
     ]
    },
    {
     "name": "stderr",
     "output_type": "stream",
     "text": [
      "100%|████████████████████████████████████████████████████████████| 655/655 [00:03<00:00, 212.90it/s]\n"
     ]
    },
    {
     "name": "stdout",
     "output_type": "stream",
     "text": [
      "Epoch: 181, loss: 2.238165526171677, f1: 0.13540790556435003, precision: 0.0730331119739998, recall: 0.9278443721869519\n"
     ]
    },
    {
     "name": "stderr",
     "output_type": "stream",
     "text": [
      "100%|████████████████████████████████████████████████████████████| 218/218 [00:00<00:00, 585.36it/s]\n"
     ]
    },
    {
     "name": "stdout",
     "output_type": "stream",
     "text": [
      "val_loss: 2.3136859503361062, val_f1: 0.11985474508058798, val_precision: 0.06459812525181322, val_recall: 0.828816286467631\n"
     ]
    },
    {
     "name": "stderr",
     "output_type": "stream",
     "text": [
      "100%|████████████████████████████████████████████████████████████| 655/655 [00:03<00:00, 213.08it/s]\n"
     ]
    },
    {
     "name": "stdout",
     "output_type": "stream",
     "text": [
      "Epoch: 182, loss: 2.237998033297881, f1: 0.13608116471734893, precision: 0.07342376780290981, recall: 0.928037120777232\n"
     ]
    },
    {
     "name": "stderr",
     "output_type": "stream",
     "text": [
      "100%|████████████████████████████████████████████████████████████| 218/218 [00:00<00:00, 586.03it/s]\n"
     ]
    },
    {
     "name": "stdout",
     "output_type": "stream",
     "text": [
      "val_loss: 2.3164385305632145, val_f1: 0.12005997752576704, val_precision: 0.06476158267015232, val_recall: 0.8216337150116579\n"
     ]
    },
    {
     "name": "stderr",
     "output_type": "stream",
     "text": [
      "100%|████████████████████████████████████████████████████████████| 655/655 [00:02<00:00, 232.98it/s]\n"
     ]
    },
    {
     "name": "stdout",
     "output_type": "stream",
     "text": [
      "Epoch: 183, loss: 2.237456533563046, f1: 0.13563484888499294, precision: 0.0731679004098054, recall: 0.9274050734880316\n"
     ]
    },
    {
     "name": "stderr",
     "output_type": "stream",
     "text": [
      "100%|████████████████████████████████████████████████████████████| 218/218 [00:00<00:00, 571.69it/s]\n"
     ]
    },
    {
     "name": "stdout",
     "output_type": "stream",
     "text": [
      "val_loss: 2.3139082770281973, val_f1: 0.1198377806546205, val_precision: 0.06462702871014048, val_recall: 0.8224864119510038\n"
     ]
    },
    {
     "name": "stderr",
     "output_type": "stream",
     "text": [
      "100%|████████████████████████████████████████████████████████████| 655/655 [00:03<00:00, 208.84it/s]\n"
     ]
    },
    {
     "name": "stdout",
     "output_type": "stream",
     "text": [
      "Epoch: 184, loss: 2.240675741934594, f1: 0.13491229524290374, precision: 0.07276525556017424, recall: 0.9245364527210934\n"
     ]
    },
    {
     "name": "stderr",
     "output_type": "stream",
     "text": [
      "100%|████████████████████████████████████████████████████████████| 218/218 [00:00<00:00, 591.01it/s]\n"
     ]
    },
    {
     "name": "stdout",
     "output_type": "stream",
     "text": [
      "val_loss: 2.3131079914372994, val_f1: 0.11882234286839279, val_precision: 0.06401016003956352, val_recall: 0.8269032428570844\n"
     ]
    },
    {
     "name": "stderr",
     "output_type": "stream",
     "text": [
      "100%|████████████████████████████████████████████████████████████| 655/655 [00:03<00:00, 212.66it/s]\n"
     ]
    },
    {
     "name": "stdout",
     "output_type": "stream",
     "text": [
      "Epoch: 185, loss: 2.2384798858001944, f1: 0.13553770167770302, precision: 0.0731122056782985, recall: 0.9272695357107934\n"
     ]
    },
    {
     "name": "stderr",
     "output_type": "stream",
     "text": [
      "100%|████████████████████████████████████████████████████████████| 218/218 [00:00<00:00, 590.31it/s]\n"
     ]
    },
    {
     "name": "stdout",
     "output_type": "stream",
     "text": [
      "val_loss: 2.3158153344731813, val_f1: 0.12021960482938401, val_precision: 0.06484360122356837, val_recall: 0.8233843926989705\n"
     ]
    },
    {
     "name": "stderr",
     "output_type": "stream",
     "text": [
      "100%|████████████████████████████████████████████████████████████| 655/655 [00:03<00:00, 209.26it/s]\n"
     ]
    },
    {
     "name": "stdout",
     "output_type": "stream",
     "text": [
      "Epoch: 186, loss: 2.2366170036883752, f1: 0.13613076616579706, precision: 0.07345079731068196, recall: 0.9283327976710923\n"
     ]
    },
    {
     "name": "stderr",
     "output_type": "stream",
     "text": [
      "100%|████████████████████████████████████████████████████████████| 218/218 [00:00<00:00, 591.94it/s]\n"
     ]
    },
    {
     "name": "stdout",
     "output_type": "stream",
     "text": [
      "val_loss: 2.314705276434575, val_f1: 0.12079229942668275, val_precision: 0.06518750651760899, val_recall: 0.8217034472511449\n"
     ]
    },
    {
     "name": "stderr",
     "output_type": "stream",
     "text": [
      "100%|████████████████████████████████████████████████████████████| 655/655 [00:03<00:00, 210.87it/s]\n"
     ]
    },
    {
     "name": "stdout",
     "output_type": "stream",
     "text": [
      "Epoch: 187, loss: 2.2360059416931093, f1: 0.13579517460821064, precision: 0.07325380884878735, recall: 0.9285943160075267\n"
     ]
    },
    {
     "name": "stderr",
     "output_type": "stream",
     "text": [
      "100%|████████████████████████████████████████████████████████████| 218/218 [00:00<00:00, 587.54it/s]\n"
     ]
    },
    {
     "name": "stdout",
     "output_type": "stream",
     "text": [
      "val_loss: 2.315340782250833, val_f1: 0.12093981245148586, val_precision: 0.06528031389301625, val_recall: 0.8206153682885914\n"
     ]
    },
    {
     "name": "stderr",
     "output_type": "stream",
     "text": [
      "100%|████████████████████████████████████████████████████████████| 655/655 [00:03<00:00, 210.40it/s]\n"
     ]
    },
    {
     "name": "stdout",
     "output_type": "stream",
     "text": [
      "Epoch: 188, loss: 2.2357668112252504, f1: 0.13630114569799195, precision: 0.07355117817117854, recall: 0.9281468700361616\n"
     ]
    },
    {
     "name": "stderr",
     "output_type": "stream",
     "text": [
      "100%|████████████████████████████████████████████████████████████| 218/218 [00:00<00:00, 585.94it/s]\n"
     ]
    },
    {
     "name": "stdout",
     "output_type": "stream",
     "text": [
      "val_loss: 2.3129035472323043, val_f1: 0.1201603649979141, val_precision: 0.06480754359727811, val_recall: 0.823641132050698\n"
     ]
    },
    {
     "name": "stderr",
     "output_type": "stream",
     "text": [
      "100%|████████████████████████████████████████████████████████████| 655/655 [00:03<00:00, 209.37it/s]\n"
     ]
    },
    {
     "name": "stdout",
     "output_type": "stream",
     "text": [
      "Epoch: 189, loss: 2.235764026914844, f1: 0.13644273385788722, precision: 0.0736282242398055, recall: 0.9290088148062465\n"
     ]
    },
    {
     "name": "stderr",
     "output_type": "stream",
     "text": [
      "100%|████████████████████████████████████████████████████████████| 218/218 [00:00<00:00, 581.08it/s]\n"
     ]
    },
    {
     "name": "stdout",
     "output_type": "stream",
     "text": [
      "val_loss: 2.316260263460492, val_f1: 0.12075523047649728, val_precision: 0.06517419209297952, val_recall: 0.8203897097515404\n"
     ]
    },
    {
     "name": "stderr",
     "output_type": "stream",
     "text": [
      "100%|████████████████████████████████████████████████████████████| 655/655 [00:03<00:00, 210.88it/s]\n"
     ]
    },
    {
     "name": "stdout",
     "output_type": "stream",
     "text": [
      "Epoch: 190, loss: 2.2334056960717414, f1: 0.13727249607780861, precision: 0.0741047601954912, recall: 0.9301017454107299\n"
     ]
    },
    {
     "name": "stderr",
     "output_type": "stream",
     "text": [
      "100%|████████████████████████████████████████████████████████████| 218/218 [00:00<00:00, 590.61it/s]\n"
     ]
    },
    {
     "name": "stdout",
     "output_type": "stream",
     "text": [
      "val_loss: 2.314062725786769, val_f1: 0.12093831503470176, val_precision: 0.06526104667557216, val_recall: 0.8235333457999273\n"
     ]
    },
    {
     "name": "stderr",
     "output_type": "stream",
     "text": [
      "100%|████████████████████████████████████████████████████████████| 655/655 [00:03<00:00, 210.26it/s]\n"
     ]
    },
    {
     "name": "stdout",
     "output_type": "stream",
     "text": [
      "Epoch: 191, loss: 2.2381339161450624, f1: 0.13608488078460068, precision: 0.07343793703698134, recall: 0.9261235401375603\n"
     ]
    },
    {
     "name": "stderr",
     "output_type": "stream",
     "text": [
      "100%|████████████████████████████████████████████████████████████| 218/218 [00:00<00:00, 582.41it/s]\n"
     ]
    },
    {
     "name": "stdout",
     "output_type": "stream",
     "text": [
      "val_loss: 2.3122299983413943, val_f1: 0.12129506329486807, val_precision: 0.06544173223077568, val_recall: 0.8278501196465361\n"
     ]
    },
    {
     "name": "stderr",
     "output_type": "stream",
     "text": [
      "100%|████████████████████████████████████████████████████████████| 655/655 [00:03<00:00, 210.20it/s]\n"
     ]
    },
    {
     "name": "stdout",
     "output_type": "stream",
     "text": [
      "Epoch: 192, loss: 2.2341998416958875, f1: 0.13697904846626463, precision: 0.0739396778767118, recall: 0.9291652476059572\n"
     ]
    },
    {
     "name": "stderr",
     "output_type": "stream",
     "text": [
      "100%|████████████████████████████████████████████████████████████| 218/218 [00:00<00:00, 595.63it/s]\n"
     ]
    },
    {
     "name": "stdout",
     "output_type": "stream",
     "text": [
      "val_loss: 2.3144403359758745, val_f1: 0.12114984863104616, val_precision: 0.06540199710641466, val_recall: 0.8207294972391304\n"
     ]
    },
    {
     "name": "stderr",
     "output_type": "stream",
     "text": [
      "100%|████████████████████████████████████████████████████████████| 655/655 [00:03<00:00, 212.63it/s]\n"
     ]
    },
    {
     "name": "stdout",
     "output_type": "stream",
     "text": [
      "Epoch: 193, loss: 2.2331411271604873, f1: 0.13742352919850495, precision: 0.07419350506126425, recall: 0.9299905185026067\n"
     ]
    },
    {
     "name": "stderr",
     "output_type": "stream",
     "text": [
      "100%|████████████████████████████████████████████████████████████| 218/218 [00:00<00:00, 587.87it/s]\n"
     ]
    },
    {
     "name": "stdout",
     "output_type": "stream",
     "text": [
      "val_loss: 2.312589956259509, val_f1: 0.11993081650444397, val_precision: 0.06463870675935315, val_recall: 0.8294112678241292\n"
     ]
    },
    {
     "name": "stderr",
     "output_type": "stream",
     "text": [
      "100%|████████████████████████████████████████████████████████████| 655/655 [00:03<00:00, 211.56it/s]\n"
     ]
    },
    {
     "name": "stdout",
     "output_type": "stream",
     "text": [
      "Epoch: 194, loss: 2.234614421757123, f1: 0.13688534165303745, precision: 0.07388447331804925, recall: 0.929260239482836\n"
     ]
    },
    {
     "name": "stderr",
     "output_type": "stream",
     "text": [
      "100%|████████████████████████████████████████████████████████████| 218/218 [00:00<00:00, 591.82it/s]\n"
     ]
    },
    {
     "name": "stdout",
     "output_type": "stream",
     "text": [
      "val_loss: 2.3130683767686198, val_f1: 0.12101485865698777, val_precision: 0.06528522731488519, val_recall: 0.8267911889957725\n"
     ]
    },
    {
     "name": "stderr",
     "output_type": "stream",
     "text": [
      "100%|████████████████████████████████████████████████████████████| 655/655 [00:03<00:00, 208.70it/s]\n"
     ]
    },
    {
     "name": "stdout",
     "output_type": "stream",
     "text": [
      "Epoch: 195, loss: 2.232161216153443, f1: 0.13795761871275516, precision: 0.07450197642626426, recall: 0.9304548574312953\n"
     ]
    },
    {
     "name": "stderr",
     "output_type": "stream",
     "text": [
      "100%|████████████████████████████████████████████████████████████| 218/218 [00:00<00:00, 583.39it/s]\n"
     ]
    },
    {
     "name": "stdout",
     "output_type": "stream",
     "text": [
      "val_loss: 2.3115513401293972, val_f1: 0.12133825282088306, val_precision: 0.06547285540994906, val_recall: 0.8268953019052471\n"
     ]
    },
    {
     "name": "stderr",
     "output_type": "stream",
     "text": [
      "100%|████████████████████████████████████████████████████████████| 655/655 [00:03<00:00, 210.87it/s]\n"
     ]
    },
    {
     "name": "stdout",
     "output_type": "stream",
     "text": [
      "Epoch: 196, loss: 2.2338669127180375, f1: 0.13676000422066, precision: 0.07380421539939201, recall: 0.9304081782584882\n"
     ]
    },
    {
     "name": "stderr",
     "output_type": "stream",
     "text": [
      "100%|████████████████████████████████████████████████████████████| 218/218 [00:00<00:00, 583.84it/s]\n"
     ]
    },
    {
     "name": "stdout",
     "output_type": "stream",
     "text": [
      "val_loss: 2.3115085770777606, val_f1: 0.12111127527054416, val_precision: 0.06533816181883695, val_recall: 0.8273024660184842\n"
     ]
    },
    {
     "name": "stderr",
     "output_type": "stream",
     "text": [
      "100%|████████████████████████████████████████████████████████████| 655/655 [00:03<00:00, 209.31it/s]\n"
     ]
    },
    {
     "name": "stdout",
     "output_type": "stream",
     "text": [
      "Epoch: 197, loss: 2.231729971907521, f1: 0.1379951209306755, precision: 0.07452010621977899, recall: 0.9310390105229298\n"
     ]
    },
    {
     "name": "stderr",
     "output_type": "stream",
     "text": [
      "100%|████████████████████████████████████████████████████████████| 218/218 [00:00<00:00, 592.87it/s]\n"
     ]
    },
    {
     "name": "stdout",
     "output_type": "stream",
     "text": [
      "val_loss: 2.312060191543824, val_f1: 0.12157153772319049, val_precision: 0.06562076991962251, val_recall: 0.8249861592546516\n"
     ]
    },
    {
     "name": "stderr",
     "output_type": "stream",
     "text": [
      "100%|████████████████████████████████████████████████████████████| 655/655 [00:03<00:00, 210.11it/s]\n"
     ]
    },
    {
     "name": "stdout",
     "output_type": "stream",
     "text": [
      "Epoch: 198, loss: 2.2335711487376964, f1: 0.13730795339477447, precision: 0.07411973153432931, recall: 0.9309993721601617\n"
     ]
    },
    {
     "name": "stderr",
     "output_type": "stream",
     "text": [
      "100%|████████████████████████████████████████████████████████████| 218/218 [00:00<00:00, 590.93it/s]\n"
     ]
    },
    {
     "name": "stdout",
     "output_type": "stream",
     "text": [
      "val_loss: 2.3129800454192204, val_f1: 0.12132106402543083, val_precision: 0.06546408837071595, val_recall: 0.8266971660863369\n"
     ]
    },
    {
     "name": "stderr",
     "output_type": "stream",
     "text": [
      "100%|████████████████████████████████████████████████████████████| 655/655 [00:03<00:00, 210.65it/s]\n"
     ]
    },
    {
     "name": "stdout",
     "output_type": "stream",
     "text": [
      "Epoch: 199, loss: 2.2313141102099237, f1: 0.13820323735788922, precision: 0.0746370002890418, recall: 0.9317401936491028\n"
     ]
    },
    {
     "name": "stderr",
     "output_type": "stream",
     "text": [
      "100%|████████████████████████████████████████████████████████████| 218/218 [00:00<00:00, 587.85it/s]\n"
     ]
    },
    {
     "name": "stdout",
     "output_type": "stream",
     "text": [
      "val_loss: 2.311806075616714, val_f1: 0.12158346827139925, val_precision: 0.06562001439913628, val_recall: 0.826206071661153\n"
     ]
    },
    {
     "name": "stderr",
     "output_type": "stream",
     "text": [
      "100%|████████████████████████████████████████████████████████████| 655/655 [00:03<00:00, 212.37it/s]\n"
     ]
    },
    {
     "name": "stdout",
     "output_type": "stream",
     "text": [
      "Epoch: 200, loss: 2.2303393728860463, f1: 0.13843439030098387, precision: 0.07476820754996352, recall: 0.9323066209563772\n"
     ]
    },
    {
     "name": "stderr",
     "output_type": "stream",
     "text": [
      "100%|████████████████████████████████████████████████████████████| 218/218 [00:00<00:00, 583.78it/s]\n"
     ]
    },
    {
     "name": "stdout",
     "output_type": "stream",
     "text": [
      "val_loss: 2.3119427829707435, val_f1: 0.12215956007660322, val_precision: 0.06597770884453635, val_recall: 0.82277715807661\n"
     ]
    },
    {
     "name": "stderr",
     "output_type": "stream",
     "text": [
      "100%|████████████████████████████████████████████████████████████| 655/655 [00:03<00:00, 210.27it/s]\n"
     ]
    },
    {
     "name": "stdout",
     "output_type": "stream",
     "text": [
      "Epoch: 201, loss: 2.231803623865579, f1: 0.1377809006461682, precision: 0.07439822770143283, recall: 0.9305618323897588\n"
     ]
    },
    {
     "name": "stderr",
     "output_type": "stream",
     "text": [
      "100%|████████████████████████████████████████████████████████████| 218/218 [00:00<00:00, 587.58it/s]\n"
     ]
    },
    {
     "name": "stdout",
     "output_type": "stream",
     "text": [
      "val_loss: 2.3118328353680604, val_f1: 0.12231397979328716, val_precision: 0.06605396854879181, val_recall: 0.8249294461186872\n"
     ]
    },
    {
     "name": "stderr",
     "output_type": "stream",
     "text": [
      "100%|████████████████████████████████████████████████████████████| 655/655 [00:03<00:00, 209.95it/s]\n"
     ]
    },
    {
     "name": "stdout",
     "output_type": "stream",
     "text": [
      "Epoch: 202, loss: 2.2333502759460275, f1: 0.13781879890520488, precision: 0.07442372249482014, recall: 0.9300314803614871\n"
     ]
    },
    {
     "name": "stderr",
     "output_type": "stream",
     "text": [
      "100%|████████████████████████████████████████████████████████████| 218/218 [00:00<00:00, 585.69it/s]\n"
     ]
    },
    {
     "name": "stdout",
     "output_type": "stream",
     "text": [
      "val_loss: 2.311186964085343, val_f1: 0.12208762734109, val_precision: 0.06591081785234632, val_recall: 0.8266784932908662\n"
     ]
    },
    {
     "name": "stderr",
     "output_type": "stream",
     "text": [
      "100%|████████████████████████████████████████████████████████████| 655/655 [00:03<00:00, 209.40it/s]\n"
     ]
    },
    {
     "name": "stdout",
     "output_type": "stream",
     "text": [
      "Epoch: 203, loss: 2.229694344160211, f1: 0.13867503010964025, precision: 0.0749076676299042, recall: 0.9324540866695288\n"
     ]
    },
    {
     "name": "stderr",
     "output_type": "stream",
     "text": [
      "100%|████████████████████████████████████████████████████████████| 218/218 [00:00<00:00, 585.39it/s]\n"
     ]
    },
    {
     "name": "stdout",
     "output_type": "stream",
     "text": [
      "val_loss: 2.3118403783631982, val_f1: 0.12187480927343901, val_precision: 0.06582165398814399, val_recall: 0.8212113007219559\n"
     ]
    },
    {
     "name": "stderr",
     "output_type": "stream",
     "text": [
      "100%|████████████████████████████████████████████████████████████| 655/655 [00:03<00:00, 212.91it/s]\n"
     ]
    },
    {
     "name": "stdout",
     "output_type": "stream",
     "text": [
      "Epoch: 204, loss: 2.2317816668794355, f1: 0.1381717028178506, precision: 0.07462788551036297, recall: 0.9302957930182683\n"
     ]
    },
    {
     "name": "stderr",
     "output_type": "stream",
     "text": [
      "100%|████████████████████████████████████████████████████████████| 218/218 [00:00<00:00, 585.69it/s]\n"
     ]
    },
    {
     "name": "stdout",
     "output_type": "stream",
     "text": [
      "val_loss: 2.3120348757013267, val_f1: 0.12264694484646464, val_precision: 0.06624711160932523, val_recall: 0.8251016714157314\n"
     ]
    },
    {
     "name": "stderr",
     "output_type": "stream",
     "text": [
      "100%|████████████████████████████████████████████████████████████| 655/655 [00:03<00:00, 208.90it/s]\n"
     ]
    },
    {
     "name": "stdout",
     "output_type": "stream",
     "text": [
      "Epoch: 205, loss: 2.2330461587614687, f1: 0.1379621637535872, precision: 0.0745062530126053, recall: 0.9302014024658057\n"
     ]
    },
    {
     "name": "stderr",
     "output_type": "stream",
     "text": [
      "100%|████████████████████████████████████████████████████████████| 218/218 [00:00<00:00, 577.72it/s]\n"
     ]
    },
    {
     "name": "stdout",
     "output_type": "stream",
     "text": [
      "val_loss: 2.311636849554307, val_f1: 0.12187724723562977, val_precision: 0.0658007521927784, val_recall: 0.824702022956052\n"
     ]
    },
    {
     "name": "stderr",
     "output_type": "stream",
     "text": [
      "100%|████████████████████████████████████████████████████████████| 655/655 [00:03<00:00, 210.20it/s]\n"
     ]
    },
    {
     "name": "stdout",
     "output_type": "stream",
     "text": [
      "Epoch: 206, loss: 2.2289985957036493, f1: 0.13916645348568207, precision: 0.07519520928315421, recall: 0.9323488196798864\n"
     ]
    },
    {
     "name": "stderr",
     "output_type": "stream",
     "text": [
      "100%|████████████████████████████████████████████████████████████| 218/218 [00:00<00:00, 590.49it/s]\n"
     ]
    },
    {
     "name": "stdout",
     "output_type": "stream",
     "text": [
      "val_loss: 2.3120444720491355, val_f1: 0.12105699420202795, val_precision: 0.06533035903383012, val_recall: 0.823503154133438\n"
     ]
    },
    {
     "name": "stderr",
     "output_type": "stream",
     "text": [
      "100%|████████████████████████████████████████████████████████████| 655/655 [00:03<00:00, 212.70it/s]\n"
     ]
    },
    {
     "name": "stdout",
     "output_type": "stream",
     "text": [
      "Epoch: 207, loss: 2.2287998912898637, f1: 0.13904775127304422, precision: 0.07512675189974767, recall: 0.9322181520116238\n"
     ]
    },
    {
     "name": "stderr",
     "output_type": "stream",
     "text": [
      "100%|████████████████████████████████████████████████████████████| 218/218 [00:00<00:00, 595.03it/s]\n"
     ]
    },
    {
     "name": "stdout",
     "output_type": "stream",
     "text": [
      "val_loss: 2.3109254240989685, val_f1: 0.12212623719370196, val_precision: 0.06595421965456132, val_recall: 0.8234077131529467\n"
     ]
    },
    {
     "name": "stderr",
     "output_type": "stream",
     "text": [
      "100%|████████████████████████████████████████████████████████████| 655/655 [00:03<00:00, 208.84it/s]\n"
     ]
    },
    {
     "name": "stdout",
     "output_type": "stream",
     "text": [
      "Epoch: 208, loss: 2.2285861238268496, f1: 0.13932666035596775, precision: 0.0752868192718286, recall: 0.932647056206492\n"
     ]
    },
    {
     "name": "stderr",
     "output_type": "stream",
     "text": [
      "100%|████████████████████████████████████████████████████████████| 218/218 [00:00<00:00, 584.19it/s]\n"
     ]
    },
    {
     "name": "stdout",
     "output_type": "stream",
     "text": [
      "val_loss: 2.314950246876533, val_f1: 0.1200962163739372, val_precision: 0.06479620378690883, val_recall: 0.819463166485139\n"
     ]
    },
    {
     "name": "stderr",
     "output_type": "stream",
     "text": [
      "100%|████████████████████████████████████████████████████████████| 655/655 [00:03<00:00, 210.94it/s]\n"
     ]
    },
    {
     "name": "stdout",
     "output_type": "stream",
     "text": [
      "Epoch: 209, loss: 2.2295590644574346, f1: 0.13908215216701272, precision: 0.07515040895197797, recall: 0.931668779367709\n"
     ]
    },
    {
     "name": "stderr",
     "output_type": "stream",
     "text": [
      "100%|████████████████████████████████████████████████████████████| 218/218 [00:00<00:00, 595.77it/s]\n"
     ]
    },
    {
     "name": "stdout",
     "output_type": "stream",
     "text": [
      "val_loss: 2.3109355079471516, val_f1: 0.12225495887342541, val_precision: 0.06603786528512083, val_recall: 0.822079644427387\n"
     ]
    },
    {
     "name": "stderr",
     "output_type": "stream",
     "text": [
      "100%|████████████████████████████████████████████████████████████| 655/655 [00:03<00:00, 209.24it/s]\n"
     ]
    },
    {
     "name": "stdout",
     "output_type": "stream",
     "text": [
      "Epoch: 210, loss: 2.228432102694766, f1: 0.1394032710741721, precision: 0.07532798592925413, recall: 0.9331953140160509\n"
     ]
    },
    {
     "name": "stderr",
     "output_type": "stream",
     "text": [
      "100%|████████████████████████████████████████████████████████████| 218/218 [00:00<00:00, 586.32it/s]\n"
     ]
    },
    {
     "name": "stdout",
     "output_type": "stream",
     "text": [
      "val_loss: 2.3104412345164413, val_f1: 0.12205271953184262, val_precision: 0.0658947565366403, val_recall: 0.826004392920284\n"
     ]
    },
    {
     "name": "stderr",
     "output_type": "stream",
     "text": [
      "100%|████████████████████████████████████████████████████████████| 655/655 [00:03<00:00, 213.84it/s]\n"
     ]
    },
    {
     "name": "stdout",
     "output_type": "stream",
     "text": [
      "Epoch: 211, loss: 2.2315511972849604, f1: 0.13858261435918376, precision: 0.07486305843740133, recall: 0.9310105456195715\n"
     ]
    },
    {
     "name": "stderr",
     "output_type": "stream",
     "text": [
      "100%|████████████████████████████████████████████████████████████| 218/218 [00:00<00:00, 588.53it/s]\n"
     ]
    },
    {
     "name": "stdout",
     "output_type": "stream",
     "text": [
      "val_loss: 2.311105701901497, val_f1: 0.12183461732232688, val_precision: 0.06575701757197465, val_recall: 0.8276821209476628\n"
     ]
    },
    {
     "name": "stderr",
     "output_type": "stream",
     "text": [
      "100%|████████████████████████████████████████████████████████████| 655/655 [00:03<00:00, 210.17it/s]\n"
     ]
    },
    {
     "name": "stdout",
     "output_type": "stream",
     "text": [
      "Epoch: 212, loss: 2.2262009679816153, f1: 0.1402038358842378, precision: 0.07578811093325948, recall: 0.9343495625120993\n"
     ]
    },
    {
     "name": "stderr",
     "output_type": "stream",
     "text": [
      "100%|████████████████████████████████████████████████████████████| 218/218 [00:00<00:00, 586.90it/s]\n"
     ]
    },
    {
     "name": "stdout",
     "output_type": "stream",
     "text": [
      "val_loss: 2.30959821102816, val_f1: 0.12235918364897984, val_precision: 0.06608520191239722, val_recall: 0.8241718371800326\n"
     ]
    },
    {
     "name": "stderr",
     "output_type": "stream",
     "text": [
      "100%|████████████████████████████████████████████████████████████| 655/655 [00:03<00:00, 209.82it/s]\n"
     ]
    },
    {
     "name": "stdout",
     "output_type": "stream",
     "text": [
      "Epoch: 213, loss: 2.226606069994337, f1: 0.14017148937948928, precision: 0.07576886449250897, recall: 0.9344017857358656\n"
     ]
    },
    {
     "name": "stderr",
     "output_type": "stream",
     "text": [
      "100%|████████████████████████████████████████████████████████████| 218/218 [00:00<00:00, 589.21it/s]\n"
     ]
    },
    {
     "name": "stdout",
     "output_type": "stream",
     "text": [
      "val_loss: 2.3106313402499628, val_f1: 0.12196586291249731, val_precision: 0.06586249614211329, val_recall: 0.8231242634014252\n"
     ]
    },
    {
     "name": "stderr",
     "output_type": "stream",
     "text": [
      "100%|████████████████████████████████████████████████████████████| 655/655 [00:03<00:00, 211.53it/s]\n"
     ]
    },
    {
     "name": "stdout",
     "output_type": "stream",
     "text": [
      "Epoch: 214, loss: 2.2263664151876026, f1: 0.1403777659434853, precision: 0.07588756275967559, recall: 0.9346837267165876\n"
     ]
    },
    {
     "name": "stderr",
     "output_type": "stream",
     "text": [
      "100%|████████████████████████████████████████████████████████████| 218/218 [00:00<00:00, 590.17it/s]\n"
     ]
    },
    {
     "name": "stdout",
     "output_type": "stream",
     "text": [
      "val_loss: 2.311706835797074, val_f1: 0.1220849280897812, val_precision: 0.06594113296607014, val_recall: 0.8216944853647039\n"
     ]
    },
    {
     "name": "stderr",
     "output_type": "stream",
     "text": [
      "100%|████████████████████████████████████████████████████████████| 655/655 [00:03<00:00, 210.22it/s]\n"
     ]
    },
    {
     "name": "stdout",
     "output_type": "stream",
     "text": [
      "Epoch: 215, loss: 2.231106325506254, f1: 0.1393635751283287, precision: 0.07532691099176198, recall: 0.9298138254926405\n"
     ]
    },
    {
     "name": "stderr",
     "output_type": "stream",
     "text": [
      "100%|████████████████████████████████████████████████████████████| 218/218 [00:00<00:00, 586.90it/s]\n"
     ]
    },
    {
     "name": "stdout",
     "output_type": "stream",
     "text": [
      "val_loss: 2.3114341136512406, val_f1: 0.12186789858376393, val_precision: 0.06576681907775753, val_recall: 0.8292033918406985\n"
     ]
    },
    {
     "name": "stderr",
     "output_type": "stream",
     "text": [
      "100%|████████████████████████████████████████████████████████████| 655/655 [00:03<00:00, 210.47it/s]\n"
     ]
    },
    {
     "name": "stdout",
     "output_type": "stream",
     "text": [
      "Epoch: 216, loss: 2.2282208014990537, f1: 0.1401428010902232, precision: 0.07575479623513254, recall: 0.9339917471390644\n"
     ]
    },
    {
     "name": "stderr",
     "output_type": "stream",
     "text": [
      "100%|████████████████████████████████████████████████████████████| 218/218 [00:00<00:00, 596.13it/s]\n"
     ]
    },
    {
     "name": "stdout",
     "output_type": "stream",
     "text": [
      "val_loss: 2.3114695975539883, val_f1: 0.12184369107574024, val_precision: 0.06579828457351466, val_recall: 0.8220246167631324\n"
     ]
    },
    {
     "name": "stderr",
     "output_type": "stream",
     "text": [
      "100%|████████████████████████████████████████████████████████████| 655/655 [00:03<00:00, 210.94it/s]\n"
     ]
    },
    {
     "name": "stdout",
     "output_type": "stream",
     "text": [
      "Epoch: 217, loss: 2.2263973748410932, f1: 0.14078023684714347, precision: 0.07613339057291738, recall: 0.9330984566047902\n"
     ]
    },
    {
     "name": "stderr",
     "output_type": "stream",
     "text": [
      "100%|████████████████████████████████████████████████████████████| 218/218 [00:00<00:00, 589.92it/s]\n"
     ]
    },
    {
     "name": "stdout",
     "output_type": "stream",
     "text": [
      "val_loss: 2.3101673826165157, val_f1: 0.12300169241629424, val_precision: 0.06645336192434466, val_recall: 0.8252246385320611\n"
     ]
    },
    {
     "name": "stderr",
     "output_type": "stream",
     "text": [
      "100%|████████████████████████████████████████████████████████████| 655/655 [00:03<00:00, 209.34it/s]\n"
     ]
    },
    {
     "name": "stdout",
     "output_type": "stream",
     "text": [
      "Epoch: 218, loss: 2.224949993250024, f1: 0.1410406158452934, precision: 0.07626841181448397, recall: 0.9356949677904144\n"
     ]
    },
    {
     "name": "stderr",
     "output_type": "stream",
     "text": [
      "100%|████████████████████████████████████████████████████████████| 218/218 [00:00<00:00, 588.87it/s]\n"
     ]
    },
    {
     "name": "stdout",
     "output_type": "stream",
     "text": [
      "val_loss: 2.310215804281585, val_f1: 0.12213664297460862, val_precision: 0.06598235926924086, val_recall: 0.8199839128540196\n"
     ]
    },
    {
     "name": "stderr",
     "output_type": "stream",
     "text": [
      "100%|████████████████████████████████████████████████████████████| 655/655 [00:03<00:00, 209.62it/s]\n"
     ]
    },
    {
     "name": "stdout",
     "output_type": "stream",
     "text": [
      "Epoch: 219, loss: 2.22887615274837, f1: 0.13980824044801785, precision: 0.07557424418983683, recall: 0.9317170283266606\n"
     ]
    },
    {
     "name": "stderr",
     "output_type": "stream",
     "text": [
      "100%|████████████████████████████████████████████████████████████| 218/218 [00:00<00:00, 590.56it/s]\n"
     ]
    },
    {
     "name": "stdout",
     "output_type": "stream",
     "text": [
      "val_loss: 2.3097503581725127, val_f1: 0.12334062994123085, val_precision: 0.06666130069194687, val_recall: 0.8236896756592147\n"
     ]
    },
    {
     "name": "stderr",
     "output_type": "stream",
     "text": [
      "100%|████████████████████████████████████████████████████████████| 655/655 [00:03<00:00, 209.24it/s]\n"
     ]
    },
    {
     "name": "stdout",
     "output_type": "stream",
     "text": [
      "Epoch: 220, loss: 2.224942227993303, f1: 0.1409122699669901, precision: 0.0761914603660978, recall: 0.9359810399645158\n"
     ]
    },
    {
     "name": "stderr",
     "output_type": "stream",
     "text": [
      "100%|████████████████████████████████████████████████████████████| 218/218 [00:00<00:00, 593.11it/s]\n"
     ]
    },
    {
     "name": "stdout",
     "output_type": "stream",
     "text": [
      "val_loss: 2.307206810067553, val_f1: 0.1222845641046639, val_precision: 0.0660376671505152, val_recall: 0.8247959231017926\n"
     ]
    },
    {
     "name": "stderr",
     "output_type": "stream",
     "text": [
      "100%|████████████████████████████████████████████████████████████| 655/655 [00:03<00:00, 213.81it/s]\n"
     ]
    },
    {
     "name": "stdout",
     "output_type": "stream",
     "text": [
      "Epoch: 221, loss: 2.2250949482881386, f1: 0.14052595876495452, precision: 0.07597017612820135, recall: 0.935291204561714\n"
     ]
    },
    {
     "name": "stderr",
     "output_type": "stream",
     "text": [
      "100%|████████████████████████████████████████████████████████████| 218/218 [00:00<00:00, 586.97it/s]\n"
     ]
    },
    {
     "name": "stdout",
     "output_type": "stream",
     "text": [
      "val_loss: 2.3112555783276165, val_f1: 0.12304681705554528, val_precision: 0.06649079690302867, val_recall: 0.8235193530627347\n"
     ]
    },
    {
     "name": "stderr",
     "output_type": "stream",
     "text": [
      "100%|████████████████████████████████████████████████████████████| 655/655 [00:03<00:00, 212.68it/s]\n"
     ]
    },
    {
     "name": "stdout",
     "output_type": "stream",
     "text": [
      "Epoch: 222, loss: 2.2246078493030925, f1: 0.14119023811490697, precision: 0.07635909984499671, recall: 0.9352182013387899\n"
     ]
    },
    {
     "name": "stderr",
     "output_type": "stream",
     "text": [
      "100%|████████████████████████████████████████████████████████████| 218/218 [00:00<00:00, 586.68it/s]\n"
     ]
    },
    {
     "name": "stdout",
     "output_type": "stream",
     "text": [
      "val_loss: 2.3097658474510965, val_f1: 0.12231578676635951, val_precision: 0.06608351042767593, val_recall: 0.8205120797277591\n"
     ]
    },
    {
     "name": "stderr",
     "output_type": "stream",
     "text": [
      "100%|████████████████████████████████████████████████████████████| 655/655 [00:03<00:00, 209.72it/s]\n"
     ]
    },
    {
     "name": "stdout",
     "output_type": "stream",
     "text": [
      "Epoch: 223, loss: 2.223870419909936, f1: 0.14150694493827362, precision: 0.07654289027803954, recall: 0.9354438492360005\n"
     ]
    },
    {
     "name": "stderr",
     "output_type": "stream",
     "text": [
      "100%|████████████████████████████████████████████████████████████| 218/218 [00:00<00:00, 596.11it/s]\n"
     ]
    },
    {
     "name": "stdout",
     "output_type": "stream",
     "text": [
      "val_loss: 2.309343905350484, val_f1: 0.12404717991067793, val_precision: 0.06709001601434424, val_recall: 0.8213213012305969\n"
     ]
    },
    {
     "name": "stderr",
     "output_type": "stream",
     "text": [
      "100%|████████████████████████████████████████████████████████████| 655/655 [00:03<00:00, 211.02it/s]\n"
     ]
    },
    {
     "name": "stdout",
     "output_type": "stream",
     "text": [
      "Epoch: 224, loss: 2.225261265357942, f1: 0.14134016723933587, precision: 0.07645226110569166, recall: 0.9344036391673197\n"
     ]
    },
    {
     "name": "stderr",
     "output_type": "stream",
     "text": [
      "100%|████████████████████████████████████████████████████████████| 218/218 [00:00<00:00, 593.06it/s]\n"
     ]
    },
    {
     "name": "stdout",
     "output_type": "stream",
     "text": [
      "val_loss: 2.308420549565499, val_f1: 0.1233106267727931, val_precision: 0.06663280706254578, val_recall: 0.8253685225040541\n"
     ]
    },
    {
     "name": "stderr",
     "output_type": "stream",
     "text": [
      "100%|████████████████████████████████████████████████████████████| 655/655 [00:03<00:00, 209.91it/s]\n"
     ]
    },
    {
     "name": "stdout",
     "output_type": "stream",
     "text": [
      "Epoch: 225, loss: 2.2234508637253563, f1: 0.1414585042758582, precision: 0.07651343435717334, recall: 0.935609872832553\n"
     ]
    },
    {
     "name": "stderr",
     "output_type": "stream",
     "text": [
      "100%|████████████████████████████████████████████████████████████| 218/218 [00:00<00:00, 589.65it/s]\n"
     ]
    },
    {
     "name": "stdout",
     "output_type": "stream",
     "text": [
      "val_loss: 2.310998955997852, val_f1: 0.12377972271714392, val_precision: 0.06695716270168714, val_recall: 0.8177862803050138\n"
     ]
    },
    {
     "name": "stderr",
     "output_type": "stream",
     "text": [
      "100%|████████████████████████████████████████████████████████████| 655/655 [00:03<00:00, 209.39it/s]\n"
     ]
    },
    {
     "name": "stdout",
     "output_type": "stream",
     "text": [
      "Epoch: 226, loss: 2.2237672497297973, f1: 0.14172090336990315, precision: 0.07666383495070893, recall: 0.9360805109257007\n"
     ]
    },
    {
     "name": "stderr",
     "output_type": "stream",
     "text": [
      "100%|████████████████████████████████████████████████████████████| 218/218 [00:00<00:00, 582.04it/s]\n"
     ]
    },
    {
     "name": "stdout",
     "output_type": "stream",
     "text": [
      "val_loss: 2.309119280871995, val_f1: 0.12299285389796671, val_precision: 0.06646780100428935, val_recall: 0.8222137830399592\n"
     ]
    },
    {
     "name": "stderr",
     "output_type": "stream",
     "text": [
      "100%|████████████████████████████████████████████████████████████| 655/655 [00:03<00:00, 210.38it/s]\n"
     ]
    },
    {
     "name": "stdout",
     "output_type": "stream",
     "text": [
      "Epoch: 227, loss: 2.2236913043124074, f1: 0.1416401862605818, precision: 0.07662019359146935, recall: 0.9355440103370725\n"
     ]
    },
    {
     "name": "stderr",
     "output_type": "stream",
     "text": [
      "100%|████████████████████████████████████████████████████████████| 218/218 [00:00<00:00, 585.16it/s]\n"
     ]
    },
    {
     "name": "stdout",
     "output_type": "stream",
     "text": [
      "val_loss: 2.3129101865882173, val_f1: 0.11982721144887519, val_precision: 0.06461289294978279, val_recall: 0.8237826732593939\n"
     ]
    },
    {
     "name": "stderr",
     "output_type": "stream",
     "text": [
      "100%|████████████████████████████████████████████████████████████| 655/655 [00:03<00:00, 212.33it/s]\n"
     ]
    },
    {
     "name": "stdout",
     "output_type": "stream",
     "text": [
      "Epoch: 228, loss: 2.224383975804307, f1: 0.14103643466624952, precision: 0.07626698527357165, recall: 0.935541649720141\n"
     ]
    },
    {
     "name": "stderr",
     "output_type": "stream",
     "text": [
      "100%|████████████████████████████████████████████████████████████| 218/218 [00:00<00:00, 590.69it/s]\n"
     ]
    },
    {
     "name": "stdout",
     "output_type": "stream",
     "text": [
      "val_loss: 2.3080934737253624, val_f1: 0.12369242339506473, val_precision: 0.06684278048053725, val_recall: 0.8273623223425052\n"
     ]
    },
    {
     "name": "stderr",
     "output_type": "stream",
     "text": [
      "100%|████████████████████████████████████████████████████████████| 655/655 [00:03<00:00, 211.00it/s]\n"
     ]
    },
    {
     "name": "stdout",
     "output_type": "stream",
     "text": [
      "Epoch: 229, loss: 2.2237368817547805, f1: 0.14158722921348202, precision: 0.0765924233260728, recall: 0.9350635210066351\n"
     ]
    },
    {
     "name": "stderr",
     "output_type": "stream",
     "text": [
      "100%|████████████████████████████████████████████████████████████| 218/218 [00:00<00:00, 591.47it/s]\n"
     ]
    },
    {
     "name": "stdout",
     "output_type": "stream",
     "text": [
      "val_loss: 2.310201807579863, val_f1: 0.12394810771903682, val_precision: 0.06700431119966739, val_recall: 0.8255102095800803\n"
     ]
    },
    {
     "name": "stderr",
     "output_type": "stream",
     "text": [
      "100%|████████████████████████████████████████████████████████████| 655/655 [00:03<00:00, 213.97it/s]\n"
     ]
    },
    {
     "name": "stdout",
     "output_type": "stream",
     "text": [
      "Epoch: 230, loss: 2.2231273993281007, f1: 0.1416508442680143, precision: 0.07662014826947382, recall: 0.9364815900343975\n"
     ]
    },
    {
     "name": "stderr",
     "output_type": "stream",
     "text": [
      "100%|████████████████████████████████████████████████████████████| 218/218 [00:00<00:00, 590.28it/s]\n"
     ]
    },
    {
     "name": "stdout",
     "output_type": "stream",
     "text": [
      "val_loss: 2.307842705774745, val_f1: 0.12347506301265448, val_precision: 0.06674598144375882, val_recall: 0.8227559791519008\n"
     ]
    },
    {
     "name": "stderr",
     "output_type": "stream",
     "text": [
      "100%|████████████████████████████████████████████████████████████| 655/655 [00:03<00:00, 209.53it/s]\n"
     ]
    },
    {
     "name": "stdout",
     "output_type": "stream",
     "text": [
      "Epoch: 231, loss: 2.225206046978026, f1: 0.14114088854851436, precision: 0.07633504375658987, recall: 0.9344964846399905\n"
     ]
    },
    {
     "name": "stderr",
     "output_type": "stream",
     "text": [
      "100%|████████████████████████████████████████████████████████████| 218/218 [00:00<00:00, 590.78it/s]\n"
     ]
    },
    {
     "name": "stdout",
     "output_type": "stream",
     "text": [
      "val_loss: 2.308679248761693, val_f1: 0.12424369646112646, val_precision: 0.06717975076646843, val_recall: 0.8251108540854323\n"
     ]
    },
    {
     "name": "stderr",
     "output_type": "stream",
     "text": [
      "100%|████████████████████████████████████████████████████████████| 655/655 [00:03<00:00, 212.93it/s]\n"
     ]
    },
    {
     "name": "stdout",
     "output_type": "stream",
     "text": [
      "Epoch: 232, loss: 2.2211926609505226, f1: 0.14244740143573786, precision: 0.07708337429896679, recall: 0.936940105179794\n"
     ]
    },
    {
     "name": "stderr",
     "output_type": "stream",
     "text": [
      "100%|████████████████████████████████████████████████████████████| 218/218 [00:00<00:00, 587.52it/s]\n"
     ]
    },
    {
     "name": "stdout",
     "output_type": "stream",
     "text": [
      "val_loss: 2.3096439518512937, val_f1: 0.1246124753850098, val_precision: 0.06743380154585552, val_recall: 0.8194040265105186\n"
     ]
    },
    {
     "name": "stderr",
     "output_type": "stream",
     "text": [
      "100%|████████████████████████████████████████████████████████████| 655/655 [00:03<00:00, 208.76it/s]\n"
     ]
    },
    {
     "name": "stdout",
     "output_type": "stream",
     "text": [
      "Epoch: 233, loss: 2.2222473099941515, f1: 0.14255848509695385, precision: 0.07715008142866366, recall: 0.9366973747733895\n"
     ]
    },
    {
     "name": "stderr",
     "output_type": "stream",
     "text": [
      "100%|████████████████████████████████████████████████████████████| 218/218 [00:00<00:00, 584.68it/s]\n"
     ]
    },
    {
     "name": "stdout",
     "output_type": "stream",
     "text": [
      "val_loss: 2.3086858536672157, val_f1: 0.1234757141900734, val_precision: 0.06676462013060826, val_recall: 0.8199918212693765\n"
     ]
    },
    {
     "name": "stderr",
     "output_type": "stream",
     "text": [
      "100%|████████████████████████████████████████████████████████████| 655/655 [00:03<00:00, 211.90it/s]\n"
     ]
    },
    {
     "name": "stdout",
     "output_type": "stream",
     "text": [
      "Epoch: 234, loss: 2.2212505659074275, f1: 0.1427489427716446, precision: 0.0772589696699199, recall: 0.9370923150586717\n"
     ]
    },
    {
     "name": "stderr",
     "output_type": "stream",
     "text": [
      "100%|████████████████████████████████████████████████████████████| 218/218 [00:00<00:00, 594.24it/s]\n"
     ]
    },
    {
     "name": "stdout",
     "output_type": "stream",
     "text": [
      "val_loss: 2.307824976673914, val_f1: 0.12457292229209589, val_precision: 0.06737511591567154, val_recall: 0.8246889855336705\n"
     ]
    },
    {
     "name": "stderr",
     "output_type": "stream",
     "text": [
      "100%|████████████████████████████████████████████████████████████| 655/655 [00:03<00:00, 209.54it/s]\n"
     ]
    },
    {
     "name": "stdout",
     "output_type": "stream",
     "text": [
      "Epoch: 235, loss: 2.2219152405061795, f1: 0.14234548767043798, precision: 0.07702723861039254, recall: 0.9364155460859983\n"
     ]
    },
    {
     "name": "stderr",
     "output_type": "stream",
     "text": [
      "100%|████████████████████████████████████████████████████████████| 218/218 [00:00<00:00, 591.91it/s]\n"
     ]
    },
    {
     "name": "stdout",
     "output_type": "stream",
     "text": [
      "val_loss: 2.3098875609559752, val_f1: 0.12245767529862848, val_precision: 0.06614389580486496, val_recall: 0.8239808623943854\n"
     ]
    },
    {
     "name": "stderr",
     "output_type": "stream",
     "text": [
      "100%|████████████████████████████████████████████████████████████| 655/655 [00:03<00:00, 209.89it/s]\n"
     ]
    },
    {
     "name": "stdout",
     "output_type": "stream",
     "text": [
      "Epoch: 236, loss: 2.2218133897271777, f1: 0.14207592462913335, precision: 0.07686425788711955, recall: 0.9371787248221972\n"
     ]
    },
    {
     "name": "stderr",
     "output_type": "stream",
     "text": [
      "100%|████████████████████████████████████████████████████████████| 218/218 [00:00<00:00, 586.43it/s]\n"
     ]
    },
    {
     "name": "stdout",
     "output_type": "stream",
     "text": [
      "val_loss: 2.3105975936312193, val_f1: 0.12401249561895679, val_precision: 0.06711244410322552, val_recall: 0.8149688340928576\n"
     ]
    },
    {
     "name": "stderr",
     "output_type": "stream",
     "text": [
      "100%|████████████████████████████████████████████████████████████| 655/655 [00:03<00:00, 212.61it/s]\n"
     ]
    },
    {
     "name": "stdout",
     "output_type": "stream",
     "text": [
      "Epoch: 237, loss: 2.221128250988385, f1: 0.14240613112825012, precision: 0.0770573712977801, recall: 0.9372112271439939\n"
     ]
    },
    {
     "name": "stderr",
     "output_type": "stream",
     "text": [
      "100%|████████████████████████████████████████████████████████████| 218/218 [00:00<00:00, 588.01it/s]\n"
     ]
    },
    {
     "name": "stdout",
     "output_type": "stream",
     "text": [
      "val_loss: 2.309024879144966, val_f1: 0.12376722029634311, val_precision: 0.06693431568853216, val_recall: 0.8201105894025312\n"
     ]
    },
    {
     "name": "stderr",
     "output_type": "stream",
     "text": [
      "100%|████████████████████████████████████████████████████████████| 655/655 [00:03<00:00, 209.21it/s]\n"
     ]
    },
    {
     "name": "stdout",
     "output_type": "stream",
     "text": [
      "Epoch: 238, loss: 2.2198317215642858, f1: 0.1433416143232624, precision: 0.07760145181349215, recall: 0.9378000225729615\n"
     ]
    },
    {
     "name": "stderr",
     "output_type": "stream",
     "text": [
      "100%|████████████████████████████████████████████████████████████| 218/218 [00:00<00:00, 575.05it/s]\n"
     ]
    },
    {
     "name": "stdout",
     "output_type": "stream",
     "text": [
      "val_loss: 2.3080375131663926, val_f1: 0.12459784287824675, val_precision: 0.0674244685978586, val_recall: 0.8195167349292598\n"
     ]
    },
    {
     "name": "stderr",
     "output_type": "stream",
     "text": [
      "100%|████████████████████████████████████████████████████████████| 655/655 [00:03<00:00, 210.93it/s]\n"
     ]
    },
    {
     "name": "stdout",
     "output_type": "stream",
     "text": [
      "Epoch: 239, loss: 2.2197791994983005, f1: 0.14321922023072492, precision: 0.0775312861562742, recall: 0.9375698932254587\n"
     ]
    },
    {
     "name": "stderr",
     "output_type": "stream",
     "text": [
      "100%|████████████████████████████████████████████████████████████| 218/218 [00:00<00:00, 589.14it/s]\n"
     ]
    },
    {
     "name": "stdout",
     "output_type": "stream",
     "text": [
      "val_loss: 2.3094826791811425, val_f1: 0.12249250832741376, val_precision: 0.06616932548873058, val_recall: 0.823190049293938\n"
     ]
    },
    {
     "name": "stderr",
     "output_type": "stream",
     "text": [
      "100%|████████████████████████████████████████████████████████████| 655/655 [00:03<00:00, 211.97it/s]\n"
     ]
    },
    {
     "name": "stdout",
     "output_type": "stream",
     "text": [
      "Epoch: 240, loss: 2.221375594157299, f1: 0.1426602834323534, precision: 0.07721636552249884, recall: 0.9357194827713129\n"
     ]
    },
    {
     "name": "stderr",
     "output_type": "stream",
     "text": [
      "100%|████████████████████████████████████████████████████████████| 218/218 [00:00<00:00, 597.95it/s]\n"
     ]
    },
    {
     "name": "stdout",
     "output_type": "stream",
     "text": [
      "val_loss: 2.309697101969238, val_f1: 0.12447800365518315, val_precision: 0.06735935520355103, val_recall: 0.8187675193088864\n"
     ]
    },
    {
     "name": "stderr",
     "output_type": "stream",
     "text": [
      "100%|████████████████████████████████████████████████████████████| 655/655 [00:03<00:00, 212.25it/s]\n"
     ]
    },
    {
     "name": "stdout",
     "output_type": "stream",
     "text": [
      "Epoch: 241, loss: 2.2227974064477527, f1: 0.14264925859509597, precision: 0.07720876108172513, recall: 0.9358876491320952\n"
     ]
    },
    {
     "name": "stderr",
     "output_type": "stream",
     "text": [
      "100%|████████████████████████████████████████████████████████████| 218/218 [00:00<00:00, 585.50it/s]\n"
     ]
    },
    {
     "name": "stdout",
     "output_type": "stream",
     "text": [
      "val_loss: 2.3067817004448776, val_f1: 0.12341908622827683, val_precision: 0.0667046416004043, val_recall: 0.824070429856624\n"
     ]
    },
    {
     "name": "stderr",
     "output_type": "stream",
     "text": [
      "100%|████████████████████████████████████████████████████████████| 655/655 [00:03<00:00, 208.74it/s]\n"
     ]
    },
    {
     "name": "stdout",
     "output_type": "stream",
     "text": [
      "Epoch: 242, loss: 2.219669388086741, f1: 0.1437691673802803, precision: 0.07785307734934542, recall: 0.9376630643851884\n"
     ]
    },
    {
     "name": "stderr",
     "output_type": "stream",
     "text": [
      "100%|████████████████████████████████████████████████████████████| 218/218 [00:00<00:00, 586.00it/s]\n"
     ]
    },
    {
     "name": "stdout",
     "output_type": "stream",
     "text": [
      "val_loss: 2.3065011173213295, val_f1: 0.12545405476457905, val_precision: 0.06789194612011928, val_recall: 0.8245357147870808\n"
     ]
    },
    {
     "name": "stderr",
     "output_type": "stream",
     "text": [
      "100%|████████████████████████████████████████████████████████████| 655/655 [00:03<00:00, 211.83it/s]\n"
     ]
    },
    {
     "name": "stdout",
     "output_type": "stream",
     "text": [
      "Epoch: 243, loss: 2.2187547676435866, f1: 0.14402809779583922, precision: 0.07800150729559419, recall: 0.9381617353162692\n"
     ]
    },
    {
     "name": "stderr",
     "output_type": "stream",
     "text": [
      "100%|████████████████████████████████████████████████████████████| 218/218 [00:00<00:00, 584.79it/s]\n"
     ]
    },
    {
     "name": "stdout",
     "output_type": "stream",
     "text": [
      "val_loss: 2.3076415649794657, val_f1: 0.12442865076100736, val_precision: 0.06731206189559072, val_recall: 0.8214968561852743\n"
     ]
    },
    {
     "name": "stderr",
     "output_type": "stream",
     "text": [
      "100%|████████████████████████████████████████████████████████████| 655/655 [00:03<00:00, 214.11it/s]\n"
     ]
    },
    {
     "name": "stdout",
     "output_type": "stream",
     "text": [
      "Epoch: 244, loss: 2.220509653055031, f1: 0.14359789104420032, precision: 0.0777579799621501, recall: 0.9368868435612162\n"
     ]
    },
    {
     "name": "stderr",
     "output_type": "stream",
     "text": [
      "100%|████████████████████████████████████████████████████████████| 218/218 [00:00<00:00, 576.58it/s]\n"
     ]
    },
    {
     "name": "stdout",
     "output_type": "stream",
     "text": [
      "val_loss: 2.3093618367790083, val_f1: 0.12385591174041478, val_precision: 0.0669761955088705, val_recall: 0.8216129139475866\n"
     ]
    },
    {
     "name": "stderr",
     "output_type": "stream",
     "text": [
      "100%|████████████████████████████████████████████████████████████| 655/655 [00:03<00:00, 209.75it/s]\n"
     ]
    },
    {
     "name": "stdout",
     "output_type": "stream",
     "text": [
      "Epoch: 245, loss: 2.2204097728692846, f1: 0.14390349086172835, precision: 0.07793566946167754, recall: 0.9371120723149249\n"
     ]
    },
    {
     "name": "stderr",
     "output_type": "stream",
     "text": [
      "100%|████████████████████████████████████████████████████████████| 218/218 [00:00<00:00, 590.68it/s]\n"
     ]
    },
    {
     "name": "stdout",
     "output_type": "stream",
     "text": [
      "val_loss: 2.308346930446975, val_f1: 0.12350703341384181, val_precision: 0.0667709902573992, val_recall: 0.821796751077022\n"
     ]
    },
    {
     "name": "stderr",
     "output_type": "stream",
     "text": [
      "100%|████████████████████████████████████████████████████████████| 655/655 [00:03<00:00, 210.94it/s]\n"
     ]
    },
    {
     "name": "stdout",
     "output_type": "stream",
     "text": [
      "Epoch: 246, loss: 2.217442939390663, f1: 0.14457607132992756, precision: 0.07831676783722662, recall: 0.9390639930281021\n"
     ]
    },
    {
     "name": "stderr",
     "output_type": "stream",
     "text": [
      "100%|████████████████████████████████████████████████████████████| 218/218 [00:00<00:00, 591.10it/s]\n"
     ]
    },
    {
     "name": "stdout",
     "output_type": "stream",
     "text": [
      "val_loss: 2.308188807253444, val_f1: 0.12352728186693308, val_precision: 0.06680781123177106, val_recall: 0.8180321877429245\n"
     ]
    },
    {
     "name": "stderr",
     "output_type": "stream",
     "text": [
      "100%|████████████████████████████████████████████████████████████| 655/655 [00:03<00:00, 209.80it/s]\n"
     ]
    },
    {
     "name": "stdout",
     "output_type": "stream",
     "text": [
      "Epoch: 247, loss: 2.216913870272746, f1: 0.14475472842171216, precision: 0.07841958164927045, recall: 0.9393575587345444\n"
     ]
    },
    {
     "name": "stderr",
     "output_type": "stream",
     "text": [
      "100%|████████████████████████████████████████████████████████████| 218/218 [00:00<00:00, 595.28it/s]\n"
     ]
    },
    {
     "name": "stdout",
     "output_type": "stream",
     "text": [
      "val_loss: 2.308216241248157, val_f1: 0.12427316121774344, val_precision: 0.06723055695482624, val_recall: 0.8200817274937936\n"
     ]
    },
    {
     "name": "stderr",
     "output_type": "stream",
     "text": [
      "100%|████████████████████████████████████████████████████████████| 655/655 [00:03<00:00, 211.40it/s]\n"
     ]
    },
    {
     "name": "stdout",
     "output_type": "stream",
     "text": [
      "Epoch: 248, loss: 2.2183961011071243, f1: 0.1444232363668208, precision: 0.07823055755659825, recall: 0.9385632255605159\n"
     ]
    },
    {
     "name": "stderr",
     "output_type": "stream",
     "text": [
      "100%|████████████████████████████████████████████████████████████| 218/218 [00:00<00:00, 593.50it/s]\n"
     ]
    },
    {
     "name": "stdout",
     "output_type": "stream",
     "text": [
      "val_loss: 2.3082059228092158, val_f1: 0.12437713075967258, val_precision: 0.0672749926489906, val_recall: 0.8225292641361919\n"
     ]
    },
    {
     "name": "stderr",
     "output_type": "stream",
     "text": [
      "100%|████████████████████████████████████████████████████████████| 655/655 [00:03<00:00, 209.24it/s]\n"
     ]
    },
    {
     "name": "stdout",
     "output_type": "stream",
     "text": [
      "Epoch: 249, loss: 2.217931183694883, f1: 0.14456578820233662, precision: 0.07831289858009866, recall: 0.9387526948943393\n"
     ]
    },
    {
     "name": "stderr",
     "output_type": "stream",
     "text": [
      "100%|████████████████████████████████████████████████████████████| 218/218 [00:00<00:00, 589.67it/s]\n"
     ]
    },
    {
     "name": "stdout",
     "output_type": "stream",
     "text": [
      "val_loss: 2.3062993479431224, val_f1: 0.12525066807577326, val_precision: 0.06779456165311602, val_recall: 0.8213329699334748\n"
     ]
    },
    {
     "name": "stderr",
     "output_type": "stream",
     "text": [
      "100%|████████████████████████████████████████████████████████████| 655/655 [00:03<00:00, 211.52it/s]\n"
     ]
    },
    {
     "name": "stdout",
     "output_type": "stream",
     "text": [
      "Epoch: 250, loss: 2.2179532227625374, f1: 0.14437880580123022, precision: 0.07820424806426159, recall: 0.9385973900329065\n"
     ]
    },
    {
     "name": "stderr",
     "output_type": "stream",
     "text": [
      "100%|████████████████████████████████████████████████████████████| 218/218 [00:00<00:00, 588.24it/s]\n"
     ]
    },
    {
     "name": "stdout",
     "output_type": "stream",
     "text": [
      "val_loss: 2.3070315931915144, val_f1: 0.1238436607143377, val_precision: 0.06694379284413993, val_recall: 0.8254307344419147\n"
     ]
    },
    {
     "name": "stderr",
     "output_type": "stream",
     "text": [
      "100%|████████████████████████████████████████████████████████████| 655/655 [00:03<00:00, 214.89it/s]\n"
     ]
    },
    {
     "name": "stdout",
     "output_type": "stream",
     "text": [
      "Epoch: 251, loss: 2.220829272361202, f1: 0.14352597546034632, precision: 0.0777143968119933, recall: 0.9370919102020846\n"
     ]
    },
    {
     "name": "stderr",
     "output_type": "stream",
     "text": [
      "100%|████████████████████████████████████████████████████████████| 218/218 [00:00<00:00, 592.36it/s]\n"
     ]
    },
    {
     "name": "stdout",
     "output_type": "stream",
     "text": [
      "val_loss: 2.306950979823366, val_f1: 0.12573356642703234, val_precision: 0.06803408645759892, val_recall: 0.8277207592485147\n"
     ]
    },
    {
     "name": "stderr",
     "output_type": "stream",
     "text": [
      "100%|████████████████████████████████████████████████████████████| 655/655 [00:03<00:00, 209.80it/s]\n"
     ]
    },
    {
     "name": "stdout",
     "output_type": "stream",
     "text": [
      "Epoch: 252, loss: 2.219964359461806, f1: 0.1436504276338465, precision: 0.07778387290873487, recall: 0.9376007616974925\n"
     ]
    },
    {
     "name": "stderr",
     "output_type": "stream",
     "text": [
      "100%|████████████████████████████████████████████████████████████| 218/218 [00:00<00:00, 587.20it/s]\n"
     ]
    },
    {
     "name": "stdout",
     "output_type": "stream",
     "text": [
      "val_loss: 2.3085577228200544, val_f1: 0.12406546209524605, val_precision: 0.06711777388502699, val_recall: 0.8187735972054507\n"
     ]
    },
    {
     "name": "stderr",
     "output_type": "stream",
     "text": [
      "100%|████████████████████████████████████████████████████████████| 655/655 [00:03<00:00, 210.99it/s]\n"
     ]
    },
    {
     "name": "stdout",
     "output_type": "stream",
     "text": [
      "Epoch: 253, loss: 2.2159326525134895, f1: 0.1453527992471624, precision: 0.07876989471562605, recall: 0.9394792742401589\n"
     ]
    },
    {
     "name": "stderr",
     "output_type": "stream",
     "text": [
      "100%|████████████████████████████████████████████████████████████| 218/218 [00:00<00:00, 583.61it/s]\n"
     ]
    },
    {
     "name": "stdout",
     "output_type": "stream",
     "text": [
      "val_loss: 2.3064272627917997, val_f1: 0.12502833614933748, val_precision: 0.06768290689129622, val_recall: 0.8186021324144591\n"
     ]
    },
    {
     "name": "stderr",
     "output_type": "stream",
     "text": [
      "100%|████████████████████████████████████████████████████████████| 655/655 [00:03<00:00, 210.78it/s]\n"
     ]
    },
    {
     "name": "stdout",
     "output_type": "stream",
     "text": [
      "Epoch: 254, loss: 2.2146708065316876, f1: 0.14563929219359711, precision: 0.07893407704976907, recall: 0.940063204565121\n"
     ]
    },
    {
     "name": "stderr",
     "output_type": "stream",
     "text": [
      "100%|████████████████████████████████████████████████████████████| 218/218 [00:00<00:00, 594.92it/s]\n"
     ]
    },
    {
     "name": "stdout",
     "output_type": "stream",
     "text": [
      "val_loss: 2.309433038901845, val_f1: 0.12595912021067251, val_precision: 0.06824925750464099, val_recall: 0.8156650922167192\n"
     ]
    },
    {
     "name": "stderr",
     "output_type": "stream",
     "text": [
      "100%|████████████████████████████████████████████████████████████| 655/655 [00:03<00:00, 212.55it/s]\n"
     ]
    },
    {
     "name": "stdout",
     "output_type": "stream",
     "text": [
      "Epoch: 255, loss: 2.2185926359118397, f1: 0.14455927879458483, precision: 0.07831427973218774, recall: 0.9380058436903335\n"
     ]
    },
    {
     "name": "stderr",
     "output_type": "stream",
     "text": [
      "100%|████████████████████████████████████████████████████████████| 218/218 [00:00<00:00, 592.11it/s]\n"
     ]
    },
    {
     "name": "stdout",
     "output_type": "stream",
     "text": [
      "val_loss: 2.3075297242457715, val_f1: 0.1257378192165893, val_precision: 0.06809274609405719, val_recall: 0.8194966880826775\n"
     ]
    },
    {
     "name": "stderr",
     "output_type": "stream",
     "text": [
      "100%|████████████████████████████████████████████████████████████| 655/655 [00:03<00:00, 212.99it/s]\n"
     ]
    },
    {
     "name": "stdout",
     "output_type": "stream",
     "text": [
      "Epoch: 256, loss: 2.2175061204051243, f1: 0.14451292965228282, precision: 0.07828291955169375, recall: 0.9386027574539184\n"
     ]
    },
    {
     "name": "stderr",
     "output_type": "stream",
     "text": [
      "100%|████████████████████████████████████████████████████████████| 218/218 [00:00<00:00, 589.79it/s]\n"
     ]
    },
    {
     "name": "stdout",
     "output_type": "stream",
     "text": [
      "val_loss: 2.3051252969361227, val_f1: 0.12569263279068707, val_precision: 0.06804532578659303, val_recall: 0.8225409403580044\n"
     ]
    },
    {
     "name": "stderr",
     "output_type": "stream",
     "text": [
      "100%|████████████████████████████████████████████████████████████| 655/655 [00:03<00:00, 213.89it/s]\n"
     ]
    },
    {
     "name": "stdout",
     "output_type": "stream",
     "text": [
      "Epoch: 257, loss: 2.215325067425502, f1: 0.1453679898443527, precision: 0.07877651566625324, recall: 0.9398067081247578\n"
     ]
    },
    {
     "name": "stderr",
     "output_type": "stream",
     "text": [
      "100%|████████████████████████████████████████████████████████████| 218/218 [00:00<00:00, 589.68it/s]\n"
     ]
    },
    {
     "name": "stdout",
     "output_type": "stream",
     "text": [
      "val_loss: 2.309511198363173, val_f1: 0.12539789726792547, val_precision: 0.06793716201054599, val_recall: 0.813175853102579\n"
     ]
    },
    {
     "name": "stderr",
     "output_type": "stream",
     "text": [
      "100%|████████████████████████████████████████████████████████████| 655/655 [00:03<00:00, 210.71it/s]\n"
     ]
    },
    {
     "name": "stdout",
     "output_type": "stream",
     "text": [
      "Epoch: 258, loss: 2.2155648268816126, f1: 0.14533019919056156, precision: 0.07875805127768572, recall: 0.9392757301112168\n"
     ]
    },
    {
     "name": "stderr",
     "output_type": "stream",
     "text": [
      "100%|████████████████████████████████████████████████████████████| 218/218 [00:00<00:00, 588.89it/s]\n"
     ]
    },
    {
     "name": "stdout",
     "output_type": "stream",
     "text": [
      "val_loss: 2.307282701818221, val_f1: 0.12604662201857478, val_precision: 0.06826618530599554, val_recall: 0.8206111351284412\n"
     ]
    },
    {
     "name": "stderr",
     "output_type": "stream",
     "text": [
      "100%|████████████████████████████████████████████████████████████| 655/655 [00:03<00:00, 210.65it/s]\n"
     ]
    },
    {
     "name": "stdout",
     "output_type": "stream",
     "text": [
      "Epoch: 259, loss: 2.2168806481907386, f1: 0.14500696259195478, precision: 0.07857339971890773, recall: 0.938537327842858\n"
     ]
    },
    {
     "name": "stderr",
     "output_type": "stream",
     "text": [
      "100%|████████████████████████████████████████████████████████████| 218/218 [00:00<00:00, 590.20it/s]\n"
     ]
    },
    {
     "name": "stdout",
     "output_type": "stream",
     "text": [
      "val_loss: 2.3066804433634522, val_f1: 0.12453184611605415, val_precision: 0.06737204882478633, val_recall: 0.8215588491170778\n"
     ]
    },
    {
     "name": "stderr",
     "output_type": "stream",
     "text": [
      "100%|████████████████████████████████████████████████████████████| 655/655 [00:03<00:00, 211.68it/s]\n"
     ]
    },
    {
     "name": "stdout",
     "output_type": "stream",
     "text": [
      "Epoch: 260, loss: 2.217872071357174, f1: 0.14461301740226057, precision: 0.07834675233555204, recall: 0.9378727866493108\n"
     ]
    },
    {
     "name": "stderr",
     "output_type": "stream",
     "text": [
      "100%|████████████████████████████████████████████████████████████| 218/218 [00:00<00:00, 583.84it/s]\n"
     ]
    },
    {
     "name": "stdout",
     "output_type": "stream",
     "text": [
      "val_loss: 2.306510527746393, val_f1: 0.1251935540557498, val_precision: 0.06775883684968662, val_recall: 0.8216651779249173\n"
     ]
    },
    {
     "name": "stderr",
     "output_type": "stream",
     "text": [
      "100%|████████████████████████████████████████████████████████████| 655/655 [00:03<00:00, 210.42it/s]\n"
     ]
    },
    {
     "name": "stdout",
     "output_type": "stream",
     "text": [
      "Epoch: 261, loss: 2.217225210448258, f1: 0.14532047310373805, precision: 0.07876011423894581, recall: 0.938171029818877\n"
     ]
    },
    {
     "name": "stderr",
     "output_type": "stream",
     "text": [
      "100%|████████████████████████████████████████████████████████████| 218/218 [00:00<00:00, 588.34it/s]\n"
     ]
    },
    {
     "name": "stdout",
     "output_type": "stream",
     "text": [
      "val_loss: 2.305835336446762, val_f1: 0.12532917338798313, val_precision: 0.0678194037792401, val_recall: 0.824447276668811\n"
     ]
    },
    {
     "name": "stderr",
     "output_type": "stream",
     "text": [
      "100%|████████████████████████████████████████████████████████████| 655/655 [00:03<00:00, 210.37it/s]\n"
     ]
    },
    {
     "name": "stdout",
     "output_type": "stream",
     "text": [
      "Epoch: 262, loss: 2.2163131244309984, f1: 0.1455900293604725, precision: 0.07891315802974441, recall: 0.9389261037338781\n"
     ]
    },
    {
     "name": "stderr",
     "output_type": "stream",
     "text": [
      "100%|████████████████████████████████████████████████████████████| 218/218 [00:00<00:00, 581.42it/s]\n"
     ]
    },
    {
     "name": "stdout",
     "output_type": "stream",
     "text": [
      "val_loss: 2.3055490509632532, val_f1: 0.12605328163242818, val_precision: 0.06828668159902643, val_recall: 0.8182218221076037\n"
     ]
    },
    {
     "name": "stderr",
     "output_type": "stream",
     "text": [
      "100%|████████████████████████████████████████████████████████████| 655/655 [00:03<00:00, 211.38it/s]\n"
     ]
    },
    {
     "name": "stdout",
     "output_type": "stream",
     "text": [
      "Epoch: 263, loss: 2.2170437192188874, f1: 0.1454841847659248, precision: 0.07885154069664368, recall: 0.9388451728202004\n"
     ]
    },
    {
     "name": "stderr",
     "output_type": "stream",
     "text": [
      "100%|████████████████████████████████████████████████████████████| 218/218 [00:00<00:00, 581.49it/s]\n"
     ]
    },
    {
     "name": "stdout",
     "output_type": "stream",
     "text": [
      "val_loss: 2.306348033727856, val_f1: 0.12528428940675598, val_precision: 0.06781311896031535, val_recall: 0.8215007462085934\n"
     ]
    },
    {
     "name": "stderr",
     "output_type": "stream",
     "text": [
      "100%|████████████████████████████████████████████████████████████| 655/655 [00:03<00:00, 209.89it/s]\n"
     ]
    },
    {
     "name": "stdout",
     "output_type": "stream",
     "text": [
      "Epoch: 264, loss: 2.214801062609403, f1: 0.14610554506795403, precision: 0.07921155755273031, recall: 0.9395723147246674\n"
     ]
    },
    {
     "name": "stderr",
     "output_type": "stream",
     "text": [
      "100%|████████████████████████████████████████████████████████████| 218/218 [00:00<00:00, 588.89it/s]\n"
     ]
    },
    {
     "name": "stdout",
     "output_type": "stream",
     "text": [
      "val_loss: 2.3057565812124023, val_f1: 0.1260079746378955, val_precision: 0.06824119258116623, val_recall: 0.820946863211623\n"
     ]
    },
    {
     "name": "stderr",
     "output_type": "stream",
     "text": [
      "100%|████████████████████████████████████████████████████████████| 655/655 [00:03<00:00, 209.76it/s]\n"
     ]
    },
    {
     "name": "stdout",
     "output_type": "stream",
     "text": [
      "Epoch: 265, loss: 2.2140499297899146, f1: 0.14601238362710306, precision: 0.07915468803599818, recall: 0.9398692182002176\n"
     ]
    },
    {
     "name": "stderr",
     "output_type": "stream",
     "text": [
      "100%|████████████████████████████████████████████████████████████| 218/218 [00:00<00:00, 591.73it/s]\n"
     ]
    },
    {
     "name": "stdout",
     "output_type": "stream",
     "text": [
      "val_loss: 2.3057249133739997, val_f1: 0.12478077740522617, val_precision: 0.0675154480326989, val_recall: 0.8219056160898384\n"
     ]
    },
    {
     "name": "stderr",
     "output_type": "stream",
     "text": [
      "100%|████████████████████████████████████████████████████████████| 655/655 [00:03<00:00, 209.02it/s]\n"
     ]
    },
    {
     "name": "stdout",
     "output_type": "stream",
     "text": [
      "Epoch: 266, loss: 2.2156195533184606, f1: 0.14567571913899505, precision: 0.07896052962879985, recall: 0.9393476886603669\n"
     ]
    },
    {
     "name": "stderr",
     "output_type": "stream",
     "text": [
      "100%|████████████████████████████████████████████████████████████| 218/218 [00:00<00:00, 593.21it/s]\n"
     ]
    },
    {
     "name": "stdout",
     "output_type": "stream",
     "text": [
      "val_loss: 2.305876703984147, val_f1: 0.12598412601364847, val_precision: 0.06821597873130728, val_recall: 0.8225755270467986\n"
     ]
    },
    {
     "name": "stderr",
     "output_type": "stream",
     "text": [
      "100%|████████████████████████████████████████████████████████████| 655/655 [00:03<00:00, 212.36it/s]\n"
     ]
    },
    {
     "name": "stdout",
     "output_type": "stream",
     "text": [
      "Epoch: 267, loss: 2.2144668129564242, f1: 0.1462591046224866, precision: 0.07929921971761998, recall: 0.9399398791881008\n"
     ]
    },
    {
     "name": "stderr",
     "output_type": "stream",
     "text": [
      "100%|████████████████████████████████████████████████████████████| 218/218 [00:00<00:00, 586.76it/s]\n"
     ]
    },
    {
     "name": "stdout",
     "output_type": "stream",
     "text": [
      "val_loss: 2.3059923419164954, val_f1: 0.12570637226936268, val_precision: 0.0680636245321585, val_recall: 0.8210471625174951\n"
     ]
    },
    {
     "name": "stderr",
     "output_type": "stream",
     "text": [
      "100%|████████████████████████████████████████████████████████████| 655/655 [00:03<00:00, 211.91it/s]\n"
     ]
    },
    {
     "name": "stdout",
     "output_type": "stream",
     "text": [
      "Epoch: 268, loss: 2.2146580424927573, f1: 0.14607089502001666, precision: 0.07919301207013826, recall: 0.9393157018049982\n"
     ]
    },
    {
     "name": "stderr",
     "output_type": "stream",
     "text": [
      "100%|████████████████████████████████████████████████████████████| 218/218 [00:00<00:00, 586.16it/s]\n"
     ]
    },
    {
     "name": "stdout",
     "output_type": "stream",
     "text": [
      "val_loss: 2.3055387410002015, val_f1: 0.12624480217618003, val_precision: 0.06837013409763507, val_recall: 0.8223907388404968\n"
     ]
    },
    {
     "name": "stderr",
     "output_type": "stream",
     "text": [
      "100%|████████████████████████████████████████████████████████████| 655/655 [00:03<00:00, 211.44it/s]\n"
     ]
    },
    {
     "name": "stdout",
     "output_type": "stream",
     "text": [
      "Epoch: 269, loss: 2.214778928720314, f1: 0.14636774333129693, precision: 0.07937079636977261, recall: 0.9388609775150095\n"
     ]
    },
    {
     "name": "stderr",
     "output_type": "stream",
     "text": [
      "100%|████████████████████████████████████████████████████████████| 218/218 [00:00<00:00, 587.41it/s]\n"
     ]
    },
    {
     "name": "stdout",
     "output_type": "stream",
     "text": [
      "val_loss: 2.305840626222278, val_f1: 0.1264583001884063, val_precision: 0.06848278706850604, val_recall: 0.8242115783035209\n"
     ]
    },
    {
     "name": "stderr",
     "output_type": "stream",
     "text": [
      "100%|████████████████████████████████████████████████████████████| 655/655 [00:03<00:00, 211.82it/s]\n"
     ]
    },
    {
     "name": "stdout",
     "output_type": "stream",
     "text": [
      "Epoch: 270, loss: 2.212328295307305, f1: 0.14711287477083418, precision: 0.07979481293187114, recall: 0.9408574583876224\n"
     ]
    },
    {
     "name": "stderr",
     "output_type": "stream",
     "text": [
      "100%|████████████████████████████████████████████████████████████| 218/218 [00:00<00:00, 589.24it/s]\n"
     ]
    },
    {
     "name": "stdout",
     "output_type": "stream",
     "text": [
      "val_loss: 2.3057350089790623, val_f1: 0.12618112409923085, val_precision: 0.06835853202704238, val_recall: 0.8186793442166179\n"
     ]
    },
    {
     "name": "stderr",
     "output_type": "stream",
     "text": [
      "100%|████████████████████████████████████████████████████████████| 655/655 [00:03<00:00, 212.18it/s]\n"
     ]
    },
    {
     "name": "stdout",
     "output_type": "stream",
     "text": [
      "Epoch: 271, loss: 2.2141508283505913, f1: 0.1462403600867231, precision: 0.0792819100282802, recall: 0.9408246628200735\n"
     ]
    },
    {
     "name": "stderr",
     "output_type": "stream",
     "text": [
      "100%|████████████████████████████████████████████████████████████| 218/218 [00:00<00:00, 591.36it/s]\n"
     ]
    },
    {
     "name": "stdout",
     "output_type": "stream",
     "text": [
      "val_loss: 2.3071020557246076, val_f1: 0.12630796182825235, val_precision: 0.06843339966251216, val_recall: 0.8186207274231342\n"
     ]
    },
    {
     "name": "stderr",
     "output_type": "stream",
     "text": [
      "100%|████████████████████████████████████████████████████████████| 655/655 [00:03<00:00, 211.98it/s]\n"
     ]
    },
    {
     "name": "stdout",
     "output_type": "stream",
     "text": [
      "Epoch: 272, loss: 2.2136970868547454, f1: 0.14677173693127687, precision: 0.07959803729495815, recall: 0.9403110661579452\n"
     ]
    },
    {
     "name": "stderr",
     "output_type": "stream",
     "text": [
      "100%|████████████████████████████████████████████████████████████| 218/218 [00:00<00:00, 593.06it/s]\n"
     ]
    },
    {
     "name": "stdout",
     "output_type": "stream",
     "text": [
      "val_loss: 2.30778599332232, val_f1: 0.1257943728965077, val_precision: 0.06814326276284975, val_recall: 0.8169952639199178\n"
     ]
    },
    {
     "name": "stderr",
     "output_type": "stream",
     "text": [
      "100%|████████████████████████████████████████████████████████████| 655/655 [00:03<00:00, 209.79it/s]\n"
     ]
    },
    {
     "name": "stdout",
     "output_type": "stream",
     "text": [
      "Epoch: 273, loss: 2.213612207201601, f1: 0.14685357291529602, precision: 0.07964791268579491, recall: 0.940069380061317\n"
     ]
    },
    {
     "name": "stderr",
     "output_type": "stream",
     "text": [
      "100%|████████████████████████████████████████████████████████████| 218/218 [00:00<00:00, 585.33it/s]\n"
     ]
    },
    {
     "name": "stdout",
     "output_type": "stream",
     "text": [
      "val_loss: 2.307133841952053, val_f1: 0.12486867127104434, val_precision: 0.06757270560360625, val_recall: 0.8210496728846787\n"
     ]
    },
    {
     "name": "stderr",
     "output_type": "stream",
     "text": [
      "100%|████████████████████████████████████████████████████████████| 655/655 [00:03<00:00, 212.27it/s]\n"
     ]
    },
    {
     "name": "stdout",
     "output_type": "stream",
     "text": [
      "Epoch: 274, loss: 2.215085868981048, f1: 0.14564146169082381, precision: 0.0789440976441589, recall: 0.9388245184912937\n"
     ]
    },
    {
     "name": "stderr",
     "output_type": "stream",
     "text": [
      "100%|████████████████████████████████████████████████████████████| 218/218 [00:00<00:00, 589.42it/s]\n"
     ]
    },
    {
     "name": "stdout",
     "output_type": "stream",
     "text": [
      "val_loss: 2.3077253931706103, val_f1: 0.12519284005359377, val_precision: 0.06780170232544594, val_recall: 0.8153532496012679\n"
     ]
    },
    {
     "name": "stderr",
     "output_type": "stream",
     "text": [
      "100%|████████████████████████████████████████████████████████████| 655/655 [00:03<00:00, 209.76it/s]\n"
     ]
    },
    {
     "name": "stdout",
     "output_type": "stream",
     "text": [
      "Epoch: 275, loss: 2.211598647368773, f1: 0.1471618967221611, precision: 0.07982041260000063, recall: 0.9413086497146664\n"
     ]
    },
    {
     "name": "stderr",
     "output_type": "stream",
     "text": [
      "100%|████████████████████████████████████████████████████████████| 218/218 [00:00<00:00, 588.28it/s]\n"
     ]
    },
    {
     "name": "stdout",
     "output_type": "stream",
     "text": [
      "val_loss: 2.305574328800954, val_f1: 0.12625625256599016, val_precision: 0.06840648236599059, val_recall: 0.8181284076850349\n"
     ]
    },
    {
     "name": "stderr",
     "output_type": "stream",
     "text": [
      "100%|████████████████████████████████████████████████████████████| 655/655 [00:03<00:00, 214.39it/s]\n"
     ]
    },
    {
     "name": "stdout",
     "output_type": "stream",
     "text": [
      "Epoch: 276, loss: 2.2119565358598723, f1: 0.14719575859144804, precision: 0.07984650878036637, recall: 0.9404516190062953\n"
     ]
    },
    {
     "name": "stderr",
     "output_type": "stream",
     "text": [
      "100%|████████████████████████████████████████████████████████████| 218/218 [00:00<00:00, 589.84it/s]\n"
     ]
    },
    {
     "name": "stdout",
     "output_type": "stream",
     "text": [
      "val_loss: 2.3073433197419577, val_f1: 0.1266025583083543, val_precision: 0.068635055517624, val_recall: 0.8145611126215087\n"
     ]
    },
    {
     "name": "stderr",
     "output_type": "stream",
     "text": [
      "100%|████████████████████████████████████████████████████████████| 655/655 [00:03<00:00, 209.47it/s]\n"
     ]
    },
    {
     "name": "stdout",
     "output_type": "stream",
     "text": [
      "Epoch: 277, loss: 2.211611339336133, f1: 0.14763540531793257, precision: 0.08009571262158965, recall: 0.9417763803751414\n"
     ]
    },
    {
     "name": "stderr",
     "output_type": "stream",
     "text": [
      "100%|████████████████████████████████████████████████████████████| 218/218 [00:00<00:00, 584.70it/s]\n"
     ]
    },
    {
     "name": "stdout",
     "output_type": "stream",
     "text": [
      "val_loss: 2.3038219650951, val_f1: 0.12700343581094475, val_precision: 0.06881859296411617, val_recall: 0.8219299548809681\n"
     ]
    },
    {
     "name": "stderr",
     "output_type": "stream",
     "text": [
      "100%|████████████████████████████████████████████████████████████| 655/655 [00:03<00:00, 209.73it/s]\n"
     ]
    },
    {
     "name": "stdout",
     "output_type": "stream",
     "text": [
      "Epoch: 278, loss: 2.211799339756711, f1: 0.14739828484416934, precision: 0.07995925970475068, recall: 0.9413448027982056\n"
     ]
    },
    {
     "name": "stderr",
     "output_type": "stream",
     "text": [
      "100%|████████████████████████████████████████████████████████████| 218/218 [00:00<00:00, 587.52it/s]\n"
     ]
    },
    {
     "name": "stdout",
     "output_type": "stream",
     "text": [
      "val_loss: 2.3066068472118553, val_f1: 0.12637530559013585, val_precision: 0.06848124841467366, val_recall: 0.8174348134513295\n"
     ]
    },
    {
     "name": "stderr",
     "output_type": "stream",
     "text": [
      "100%|████████████████████████████████████████████████████████████| 655/655 [00:03<00:00, 211.19it/s]\n"
     ]
    },
    {
     "name": "stdout",
     "output_type": "stream",
     "text": [
      "Epoch: 279, loss: 2.2112996926744475, f1: 0.14766261954728704, precision: 0.08011081707912661, recall: 0.9419029653527354\n"
     ]
    },
    {
     "name": "stderr",
     "output_type": "stream",
     "text": [
      "100%|████████████████████████████████████████████████████████████| 218/218 [00:00<00:00, 587.68it/s]\n"
     ]
    },
    {
     "name": "stdout",
     "output_type": "stream",
     "text": [
      "val_loss: 2.3110624792378975, val_f1: 0.12503451084047398, val_precision: 0.06774860656064072, val_recall: 0.8096296400378603\n"
     ]
    },
    {
     "name": "stderr",
     "output_type": "stream",
     "text": [
      "100%|████████████████████████████████████████████████████████████| 655/655 [00:03<00:00, 209.59it/s]\n"
     ]
    },
    {
     "name": "stdout",
     "output_type": "stream",
     "text": [
      "Epoch: 280, loss: 2.212528361436975, f1: 0.14751060805386892, precision: 0.0800253503067234, recall: 0.9413477633745616\n"
     ]
    },
    {
     "name": "stderr",
     "output_type": "stream",
     "text": [
      "100%|████████████████████████████████████████████████████████████| 218/218 [00:00<00:00, 590.21it/s]\n"
     ]
    },
    {
     "name": "stdout",
     "output_type": "stream",
     "text": [
      "val_loss: 2.3060340296237842, val_f1: 0.12551008229319902, val_precision: 0.0679435686532989, val_recall: 0.8217748563497438\n"
     ]
    },
    {
     "name": "stderr",
     "output_type": "stream",
     "text": [
      "100%|████████████████████████████████████████████████████████████| 655/655 [00:03<00:00, 211.35it/s]\n"
     ]
    },
    {
     "name": "stdout",
     "output_type": "stream",
     "text": [
      "Epoch: 281, loss: 2.2109255282933473, f1: 0.14771043296289135, precision: 0.08014053488008052, recall: 0.9416860335655795\n"
     ]
    },
    {
     "name": "stderr",
     "output_type": "stream",
     "text": [
      "100%|████████████████████████████████████████████████████████████| 218/218 [00:00<00:00, 591.57it/s]\n"
     ]
    },
    {
     "name": "stdout",
     "output_type": "stream",
     "text": [
      "val_loss: 2.3086306583990743, val_f1: 0.12596704564160022, val_precision: 0.06825411820852566, val_recall: 0.8156355203838523\n"
     ]
    },
    {
     "name": "stderr",
     "output_type": "stream",
     "text": [
      "100%|████████████████████████████████████████████████████████████| 655/655 [00:03<00:00, 210.96it/s]\n"
     ]
    },
    {
     "name": "stdout",
     "output_type": "stream",
     "text": [
      "Epoch: 282, loss: 2.2101946320242556, f1: 0.14826138272481845, precision: 0.08046410002226706, recall: 0.941808698104538\n"
     ]
    },
    {
     "name": "stderr",
     "output_type": "stream",
     "text": [
      "100%|████████████████████████████████████████████████████████████| 218/218 [00:00<00:00, 588.24it/s]\n"
     ]
    },
    {
     "name": "stdout",
     "output_type": "stream",
     "text": [
      "val_loss: 2.3064147146469955, val_f1: 0.12593761009794568, val_precision: 0.06823452769184844, val_recall: 0.8159652460332311\n"
     ]
    },
    {
     "name": "stderr",
     "output_type": "stream",
     "text": [
      "100%|████████████████████████████████████████████████████████████| 655/655 [00:03<00:00, 208.81it/s]\n"
     ]
    },
    {
     "name": "stdout",
     "output_type": "stream",
     "text": [
      "Epoch: 283, loss: 2.2127180683703824, f1: 0.14753019921759464, precision: 0.08004489196819886, recall: 0.9402411881293959\n"
     ]
    },
    {
     "name": "stderr",
     "output_type": "stream",
     "text": [
      "100%|████████████████████████████████████████████████████████████| 218/218 [00:00<00:00, 579.61it/s]\n"
     ]
    },
    {
     "name": "stdout",
     "output_type": "stream",
     "text": [
      "val_loss: 2.3058958966797647, val_f1: 0.12653475440479814, val_precision: 0.06857135369006646, val_recall: 0.8179390895257302\n"
     ]
    },
    {
     "name": "stderr",
     "output_type": "stream",
     "text": [
      "100%|████████████████████████████████████████████████████████████| 655/655 [00:03<00:00, 211.73it/s]\n"
     ]
    },
    {
     "name": "stdout",
     "output_type": "stream",
     "text": [
      "Epoch: 284, loss: 2.211835092169638, f1: 0.14738736000994332, precision: 0.07995648930375357, recall: 0.9408378342635759\n"
     ]
    },
    {
     "name": "stderr",
     "output_type": "stream",
     "text": [
      "100%|████████████████████████████████████████████████████████████| 218/218 [00:00<00:00, 592.57it/s]\n"
     ]
    },
    {
     "name": "stdout",
     "output_type": "stream",
     "text": [
      "val_loss: 2.306159076067286, val_f1: 0.12724688154250224, val_precision: 0.06899633215432731, val_recall: 0.817024529116963\n"
     ]
    },
    {
     "name": "stderr",
     "output_type": "stream",
     "text": [
      "100%|████████████████████████████████████████████████████████████| 655/655 [00:03<00:00, 209.50it/s]\n"
     ]
    },
    {
     "name": "stdout",
     "output_type": "stream",
     "text": [
      "Epoch: 285, loss: 2.2120574417005057, f1: 0.14781289243141119, precision: 0.08020695637954214, recall: 0.9408462098536601\n"
     ]
    },
    {
     "name": "stderr",
     "output_type": "stream",
     "text": [
      "100%|████████████████████████████████████████████████████████████| 218/218 [00:00<00:00, 581.49it/s]\n"
     ]
    },
    {
     "name": "stdout",
     "output_type": "stream",
     "text": [
      "val_loss: 2.307566409264136, val_f1: 0.1265243266998201, val_precision: 0.06858441004435609, val_recall: 0.8152192862482246\n"
     ]
    },
    {
     "name": "stderr",
     "output_type": "stream",
     "text": [
      "100%|████████████████████████████████████████████████████████████| 655/655 [00:03<00:00, 211.07it/s]\n"
     ]
    },
    {
     "name": "stdout",
     "output_type": "stream",
     "text": [
      "Epoch: 286, loss: 2.2128821373895833, f1: 0.14661779212953982, precision: 0.07950187885337545, recall: 0.9410965883094846\n"
     ]
    },
    {
     "name": "stderr",
     "output_type": "stream",
     "text": [
      "100%|████████████████████████████████████████████████████████████| 218/218 [00:00<00:00, 589.88it/s]\n"
     ]
    },
    {
     "name": "stdout",
     "output_type": "stream",
     "text": [
      "val_loss: 2.3066227113435027, val_f1: 0.12623762274994968, val_precision: 0.06842471080738197, val_recall: 0.8139781897221137\n"
     ]
    },
    {
     "name": "stderr",
     "output_type": "stream",
     "text": [
      "100%|████████████████████████████████████████████████████████████| 655/655 [00:03<00:00, 209.72it/s]\n"
     ]
    },
    {
     "name": "stdout",
     "output_type": "stream",
     "text": [
      "Epoch: 287, loss: 2.2102704626913288, f1: 0.14774639663188044, precision: 0.08016055031245901, recall: 0.9418458253372717\n"
     ]
    },
    {
     "name": "stderr",
     "output_type": "stream",
     "text": [
      "100%|████████████████████████████████████████████████████████████| 218/218 [00:00<00:00, 579.37it/s]\n"
     ]
    },
    {
     "name": "stdout",
     "output_type": "stream",
     "text": [
      "val_loss: 2.307439261620198, val_f1: 0.12602179632196087, val_precision: 0.06831715109762351, val_recall: 0.8112551553533711\n"
     ]
    },
    {
     "name": "stderr",
     "output_type": "stream",
     "text": [
      "100%|████████████████████████████████████████████████████████████| 655/655 [00:03<00:00, 213.06it/s]\n"
     ]
    },
    {
     "name": "stdout",
     "output_type": "stream",
     "text": [
      "Epoch: 288, loss: 2.2088974797998677, f1: 0.14858693112839208, precision: 0.08065311447823889, recall: 0.9421902787594395\n"
     ]
    },
    {
     "name": "stderr",
     "output_type": "stream",
     "text": [
      "100%|████████████████████████████████████████████████████████████| 218/218 [00:00<00:00, 582.69it/s]\n"
     ]
    },
    {
     "name": "stdout",
     "output_type": "stream",
     "text": [
      "val_loss: 2.3068454109747476, val_f1: 0.1264543228140307, val_precision: 0.06854651223893764, val_recall: 0.8147613365168965\n"
     ]
    },
    {
     "name": "stderr",
     "output_type": "stream",
     "text": [
      "100%|████████████████████████████████████████████████████████████| 655/655 [00:03<00:00, 209.03it/s]\n"
     ]
    },
    {
     "name": "stdout",
     "output_type": "stream",
     "text": [
      "Epoch: 289, loss: 2.209423431458364, f1: 0.14839915460807532, precision: 0.08053863530424032, recall: 0.9427162042100921\n"
     ]
    },
    {
     "name": "stderr",
     "output_type": "stream",
     "text": [
      "100%|████████████████████████████████████████████████████████████| 218/218 [00:00<00:00, 590.28it/s]\n"
     ]
    },
    {
     "name": "stdout",
     "output_type": "stream",
     "text": [
      "val_loss: 2.3076963763718212, val_f1: 0.12673934949239238, val_precision: 0.06873025752095625, val_recall: 0.8124889116221612\n"
     ]
    },
    {
     "name": "stderr",
     "output_type": "stream",
     "text": [
      "100%|████████████████████████████████████████████████████████████| 655/655 [00:03<00:00, 210.78it/s]\n"
     ]
    },
    {
     "name": "stdout",
     "output_type": "stream",
     "text": [
      "Epoch: 290, loss: 2.20945444552953, f1: 0.1486248438558214, precision: 0.08067571280296636, recall: 0.9421552034734769\n"
     ]
    },
    {
     "name": "stderr",
     "output_type": "stream",
     "text": [
      "100%|████████████████████████████████████████████████████████████| 218/218 [00:00<00:00, 587.92it/s]\n"
     ]
    },
    {
     "name": "stdout",
     "output_type": "stream",
     "text": [
      "val_loss: 2.3051611499502025, val_f1: 0.12751802036948956, val_precision: 0.06914813689451767, val_recall: 0.8180948420675522\n"
     ]
    },
    {
     "name": "stderr",
     "output_type": "stream",
     "text": [
      "100%|████████████████████████████████████████████████████████████| 655/655 [00:03<00:00, 208.77it/s]\n"
     ]
    },
    {
     "name": "stdout",
     "output_type": "stream",
     "text": [
      "Epoch: 291, loss: 2.2099626016070824, f1: 0.14814479600819203, precision: 0.08039228355028588, recall: 0.9422400421768654\n"
     ]
    },
    {
     "name": "stderr",
     "output_type": "stream",
     "text": [
      "100%|████████████████████████████████████████████████████████████| 218/218 [00:00<00:00, 589.46it/s]\n"
     ]
    },
    {
     "name": "stdout",
     "output_type": "stream",
     "text": [
      "val_loss: 2.304521101603814, val_f1: 0.12758140050150266, val_precision: 0.0691764974505256, val_recall: 0.819343367300996\n"
     ]
    },
    {
     "name": "stderr",
     "output_type": "stream",
     "text": [
      "100%|████████████████████████████████████████████████████████████| 655/655 [00:03<00:00, 214.14it/s]\n"
     ]
    },
    {
     "name": "stdout",
     "output_type": "stream",
     "text": [
      "Epoch: 292, loss: 2.2081108762107733, f1: 0.14896924440591985, precision: 0.08087226704317536, recall: 0.9430299285713953\n"
     ]
    },
    {
     "name": "stderr",
     "output_type": "stream",
     "text": [
      "100%|████████████████████████████████████████████████████████████| 218/218 [00:00<00:00, 591.09it/s]\n"
     ]
    },
    {
     "name": "stdout",
     "output_type": "stream",
     "text": [
      "val_loss: 2.3069552256973513, val_f1: 0.12730044428954415, val_precision: 0.06904964645846037, val_recall: 0.8139803580461292\n"
     ]
    },
    {
     "name": "stderr",
     "output_type": "stream",
     "text": [
      "100%|████████████████████████████████████████████████████████████| 655/655 [00:03<00:00, 210.55it/s]\n"
     ]
    },
    {
     "name": "stdout",
     "output_type": "stream",
     "text": [
      "Epoch: 293, loss: 2.2081084053934985, f1: 0.14905682825767685, precision: 0.0809263325673137, recall: 0.9426989864757043\n"
     ]
    },
    {
     "name": "stderr",
     "output_type": "stream",
     "text": [
      "100%|████████████████████████████████████████████████████████████| 218/218 [00:00<00:00, 591.19it/s]\n"
     ]
    },
    {
     "name": "stdout",
     "output_type": "stream",
     "text": [
      "val_loss: 2.305958897969045, val_f1: 0.12722836091969564, val_precision: 0.06900897985452427, val_recall: 0.8137373378790846\n"
     ]
    },
    {
     "name": "stderr",
     "output_type": "stream",
     "text": [
      "100%|████████████████████████████████████████████████████████████| 655/655 [00:03<00:00, 212.40it/s]\n"
     ]
    },
    {
     "name": "stdout",
     "output_type": "stream",
     "text": [
      "Epoch: 294, loss: 2.2097528467651544, f1: 0.1487185008627748, precision: 0.08073326873713892, recall: 0.9418337162214381\n"
     ]
    },
    {
     "name": "stderr",
     "output_type": "stream",
     "text": [
      "100%|████████████████████████████████████████████████████████████| 218/218 [00:00<00:00, 585.51it/s]\n"
     ]
    },
    {
     "name": "stdout",
     "output_type": "stream",
     "text": [
      "val_loss: 2.3053643088275138, val_f1: 0.12767358852874305, val_precision: 0.06924147353776722, val_recall: 0.8178382984815388\n"
     ]
    },
    {
     "name": "stderr",
     "output_type": "stream",
     "text": [
      "100%|████████████████████████████████████████████████████████████| 655/655 [00:03<00:00, 211.16it/s]\n"
     ]
    },
    {
     "name": "stdout",
     "output_type": "stream",
     "text": [
      "Epoch: 295, loss: 2.217733290723262, f1: 0.14628058430544733, precision: 0.07933604153982214, recall: 0.9365551919427537\n"
     ]
    },
    {
     "name": "stderr",
     "output_type": "stream",
     "text": [
      "100%|████████████████████████████████████████████████████████████| 218/218 [00:00<00:00, 590.98it/s]\n"
     ]
    },
    {
     "name": "stdout",
     "output_type": "stream",
     "text": [
      "val_loss: 2.3058960385825658, val_f1: 0.12650641838783655, val_precision: 0.06856142384119741, val_recall: 0.8169846875131677\n"
     ]
    },
    {
     "name": "stderr",
     "output_type": "stream",
     "text": [
      "100%|████████████████████████████████████████████████████████████| 655/655 [00:03<00:00, 211.89it/s]\n"
     ]
    },
    {
     "name": "stdout",
     "output_type": "stream",
     "text": [
      "Epoch: 296, loss: 2.210587477047025, f1: 0.14836006593610956, precision: 0.08051599608236597, recall: 0.9426631967529996\n"
     ]
    },
    {
     "name": "stderr",
     "output_type": "stream",
     "text": [
      "100%|████████████████████████████████████████████████████████████| 218/218 [00:00<00:00, 591.01it/s]\n"
     ]
    },
    {
     "name": "stdout",
     "output_type": "stream",
     "text": [
      "val_loss: 2.306262777212563, val_f1: 0.1281078222924708, val_precision: 0.06951333206668155, val_recall: 0.8155811505580167\n"
     ]
    },
    {
     "name": "stderr",
     "output_type": "stream",
     "text": [
      "100%|████████████████████████████████████████████████████████████| 655/655 [00:03<00:00, 209.47it/s]\n"
     ]
    },
    {
     "name": "stdout",
     "output_type": "stream",
     "text": [
      "Epoch: 297, loss: 2.2079182433718034, f1: 0.14891292934552114, precision: 0.08084055444310981, recall: 0.942828516286748\n"
     ]
    },
    {
     "name": "stderr",
     "output_type": "stream",
     "text": [
      "100%|████████████████████████████████████████████████████████████| 218/218 [00:00<00:00, 592.25it/s]\n"
     ]
    },
    {
     "name": "stdout",
     "output_type": "stream",
     "text": [
      "val_loss: 2.30514217051891, val_f1: 0.12849503997229633, val_precision: 0.06974841804465774, val_recall: 0.8146238731681754\n"
     ]
    },
    {
     "name": "stderr",
     "output_type": "stream",
     "text": [
      "100%|████████████████████████████████████████████████████████████| 655/655 [00:03<00:00, 210.85it/s]\n"
     ]
    },
    {
     "name": "stdout",
     "output_type": "stream",
     "text": [
      "Epoch: 298, loss: 2.2089932963138317, f1: 0.14864724093082032, precision: 0.08069149313053785, recall: 0.9418033659913158\n"
     ]
    },
    {
     "name": "stderr",
     "output_type": "stream",
     "text": [
      "100%|████████████████████████████████████████████████████████████| 218/218 [00:00<00:00, 588.99it/s]\n"
     ]
    },
    {
     "name": "stdout",
     "output_type": "stream",
     "text": [
      "val_loss: 2.305702414261092, val_f1: 0.12765558342577799, val_precision: 0.06923451257224511, val_recall: 0.8173320137579506\n"
     ]
    },
    {
     "name": "stderr",
     "output_type": "stream",
     "text": [
      "100%|████████████████████████████████████████████████████████████| 655/655 [00:03<00:00, 213.44it/s]\n"
     ]
    },
    {
     "name": "stdout",
     "output_type": "stream",
     "text": [
      "Epoch: 299, loss: 2.2076756106988165, f1: 0.1492753334237969, precision: 0.08105254334945032, recall: 0.943053632747126\n"
     ]
    },
    {
     "name": "stderr",
     "output_type": "stream",
     "text": [
      "100%|████████████████████████████████████████████████████████████| 218/218 [00:00<00:00, 583.46it/s]\n"
     ]
    },
    {
     "name": "stdout",
     "output_type": "stream",
     "text": [
      "val_loss: 2.307864317653376, val_f1: 0.12674858452536883, val_precision: 0.06873322595039023, val_recall: 0.8128332618726503\n"
     ]
    },
    {
     "name": "stderr",
     "output_type": "stream",
     "text": [
      "100%|████████████████████████████████████████████████████████████| 655/655 [00:03<00:00, 209.63it/s]\n"
     ]
    },
    {
     "name": "stdout",
     "output_type": "stream",
     "text": [
      "Epoch: 300, loss: 2.206985359792491, f1: 0.14961467472584758, precision: 0.08124919947563805, recall: 0.9435216354049799\n"
     ]
    },
    {
     "name": "stderr",
     "output_type": "stream",
     "text": [
      "100%|████████████████████████████████████████████████████████████| 218/218 [00:00<00:00, 594.59it/s]\n"
     ]
    },
    {
     "name": "stdout",
     "output_type": "stream",
     "text": [
      "val_loss: 2.3044562008949594, val_f1: 0.1284375695607675, val_precision: 0.06970542486663053, val_recall: 0.815872302022549\n"
     ]
    },
    {
     "name": "stderr",
     "output_type": "stream",
     "text": [
      "100%|████████████████████████████████████████████████████████████| 655/655 [00:03<00:00, 209.52it/s]\n"
     ]
    },
    {
     "name": "stdout",
     "output_type": "stream",
     "text": [
      "Epoch: 301, loss: 2.209005581149618, f1: 0.14901616445705826, precision: 0.08090741397557026, recall: 0.9420133994735834\n"
     ]
    },
    {
     "name": "stderr",
     "output_type": "stream",
     "text": [
      "100%|████████████████████████████████████████████████████████████| 218/218 [00:00<00:00, 590.46it/s]\n"
     ]
    },
    {
     "name": "stdout",
     "output_type": "stream",
     "text": [
      "val_loss: 2.3053968737431623, val_f1: 0.1280097979381299, val_precision: 0.06944047977481413, val_recall: 0.8176735938962446\n"
     ]
    },
    {
     "name": "stderr",
     "output_type": "stream",
     "text": [
      "100%|████████████████████████████████████████████████████████████| 655/655 [00:03<00:00, 213.28it/s]\n"
     ]
    },
    {
     "name": "stdout",
     "output_type": "stream",
     "text": [
      "Epoch: 302, loss: 2.2097170298336115, f1: 0.14866684053175522, precision: 0.08070119715203311, recall: 0.942054992049705\n"
     ]
    },
    {
     "name": "stderr",
     "output_type": "stream",
     "text": [
      "100%|████████████████████████████████████████████████████████████| 218/218 [00:00<00:00, 591.14it/s]\n"
     ]
    },
    {
     "name": "stdout",
     "output_type": "stream",
     "text": [
      "val_loss: 2.3070289399645745, val_f1: 0.12615942859183304, val_precision: 0.06838311302612339, val_recall: 0.8133627984228484\n"
     ]
    },
    {
     "name": "stderr",
     "output_type": "stream",
     "text": [
      "100%|████████████████████████████████████████████████████████████| 655/655 [00:03<00:00, 209.42it/s]\n"
     ]
    },
    {
     "name": "stdout",
     "output_type": "stream",
     "text": [
      "Epoch: 303, loss: 2.2066650767362757, f1: 0.1494562829363361, precision: 0.08115611104934498, recall: 0.9434776053173851\n"
     ]
    },
    {
     "name": "stderr",
     "output_type": "stream",
     "text": [
      "100%|████████████████████████████████████████████████████████████| 218/218 [00:00<00:00, 584.16it/s]\n"
     ]
    },
    {
     "name": "stdout",
     "output_type": "stream",
     "text": [
      "val_loss: 2.30585266718077, val_f1: 0.12730136865236874, val_precision: 0.06906624749482293, val_recall: 0.8117556346392413\n"
     ]
    },
    {
     "name": "stderr",
     "output_type": "stream",
     "text": [
      "100%|████████████████████████████████████████████████████████████| 655/655 [00:03<00:00, 209.77it/s]\n"
     ]
    },
    {
     "name": "stdout",
     "output_type": "stream",
     "text": [
      "Epoch: 304, loss: 2.208208361472792, f1: 0.14904633933439365, precision: 0.08091661788963976, recall: 0.9431784905550135\n"
     ]
    },
    {
     "name": "stderr",
     "output_type": "stream",
     "text": [
      "100%|████████████████████████████████████████████████████████████| 218/218 [00:00<00:00, 585.60it/s]\n"
     ]
    },
    {
     "name": "stdout",
     "output_type": "stream",
     "text": [
      "val_loss: 2.3069308058384363, val_f1: 0.12780990821902052, val_precision: 0.06935694517563482, val_recall: 0.8129603194260816\n"
     ]
    },
    {
     "name": "stderr",
     "output_type": "stream",
     "text": [
      "100%|████████████████████████████████████████████████████████████| 655/655 [00:03<00:00, 212.85it/s]\n"
     ]
    },
    {
     "name": "stdout",
     "output_type": "stream",
     "text": [
      "Epoch: 305, loss: 2.206666879617531, f1: 0.14989145482318034, precision: 0.08141332160795235, recall: 0.9434080778187468\n"
     ]
    },
    {
     "name": "stderr",
     "output_type": "stream",
     "text": [
      "100%|████████████████████████████████████████████████████████████| 218/218 [00:00<00:00, 589.92it/s]\n"
     ]
    },
    {
     "name": "stdout",
     "output_type": "stream",
     "text": [
      "val_loss: 2.3080602728445596, val_f1: 0.1275728733487938, val_precision: 0.06926464707453932, val_recall: 0.8064942201343152\n"
     ]
    },
    {
     "name": "stderr",
     "output_type": "stream",
     "text": [
      "100%|████████████████████████████████████████████████████████████| 655/655 [00:03<00:00, 209.94it/s]\n"
     ]
    },
    {
     "name": "stdout",
     "output_type": "stream",
     "text": [
      "Epoch: 306, loss: 2.2076677483456737, f1: 0.14960288242212746, precision: 0.08124888056519491, recall: 0.9426274570799966\n"
     ]
    },
    {
     "name": "stderr",
     "output_type": "stream",
     "text": [
      "100%|████████████████████████████████████████████████████████████| 218/218 [00:00<00:00, 588.21it/s]\n"
     ]
    },
    {
     "name": "stdout",
     "output_type": "stream",
     "text": [
      "val_loss: 2.3081788603865774, val_f1: 0.12661085312900394, val_precision: 0.06867989022583795, val_recall: 0.8089755594456961\n"
     ]
    },
    {
     "name": "stderr",
     "output_type": "stream",
     "text": [
      "100%|████████████████████████████████████████████████████████████| 655/655 [00:03<00:00, 210.63it/s]\n"
     ]
    },
    {
     "name": "stdout",
     "output_type": "stream",
     "text": [
      "Epoch: 307, loss: 2.2074223946069034, f1: 0.1495518674632819, precision: 0.08121832345278208, recall: 0.9426899388546252\n"
     ]
    },
    {
     "name": "stderr",
     "output_type": "stream",
     "text": [
      "100%|████████████████████████████████████████████████████████████| 218/218 [00:00<00:00, 590.54it/s]\n"
     ]
    },
    {
     "name": "stdout",
     "output_type": "stream",
     "text": [
      "val_loss: 2.307622157105612, val_f1: 0.1282306659277307, val_precision: 0.06962226911708541, val_recall: 0.8105877464244126\n"
     ]
    },
    {
     "name": "stderr",
     "output_type": "stream",
     "text": [
      "100%|████████████████████████████████████████████████████████████| 655/655 [00:03<00:00, 210.73it/s]\n"
     ]
    },
    {
     "name": "stdout",
     "output_type": "stream",
     "text": [
      "Epoch: 308, loss: 2.205776188664764, f1: 0.15004611566881934, precision: 0.08150125030598795, recall: 0.9438547931554663\n"
     ]
    },
    {
     "name": "stderr",
     "output_type": "stream",
     "text": [
      "100%|████████████████████████████████████████████████████████████| 218/218 [00:00<00:00, 584.84it/s]\n"
     ]
    },
    {
     "name": "stdout",
     "output_type": "stream",
     "text": [
      "val_loss: 2.3066376048490542, val_f1: 0.1281177486528255, val_precision: 0.06954984618308142, val_recall: 0.8113836625573831\n"
     ]
    },
    {
     "name": "stderr",
     "output_type": "stream",
     "text": [
      "100%|████████████████████████████████████████████████████████████| 655/655 [00:03<00:00, 213.20it/s]\n"
     ]
    },
    {
     "name": "stdout",
     "output_type": "stream",
     "text": [
      "Epoch: 309, loss: 2.2058897771908126, f1: 0.14993946025294455, precision: 0.08144167335775063, recall: 0.9434044852511574\n"
     ]
    },
    {
     "name": "stderr",
     "output_type": "stream",
     "text": [
      "100%|████████████████████████████████████████████████████████████| 218/218 [00:00<00:00, 581.22it/s]\n"
     ]
    },
    {
     "name": "stdout",
     "output_type": "stream",
     "text": [
      "val_loss: 2.3061349599733267, val_f1: 0.1278466302650809, val_precision: 0.0694055526598502, val_recall: 0.8092741316885029\n"
     ]
    },
    {
     "name": "stderr",
     "output_type": "stream",
     "text": [
      "100%|████████████████████████████████████████████████████████████| 655/655 [00:03<00:00, 213.71it/s]\n"
     ]
    },
    {
     "name": "stdout",
     "output_type": "stream",
     "text": [
      "Epoch: 310, loss: 2.205544700877357, f1: 0.15017349016360265, precision: 0.08157533046910326, recall: 0.944000221663759\n"
     ]
    },
    {
     "name": "stderr",
     "output_type": "stream",
     "text": [
      "100%|████████████████████████████████████████████████████████████| 218/218 [00:00<00:00, 595.07it/s]\n"
     ]
    },
    {
     "name": "stdout",
     "output_type": "stream",
     "text": [
      "val_loss: 2.306415066806548, val_f1: 0.1279550850443284, val_precision: 0.06945808759864865, val_recall: 0.8108240495854562\n"
     ]
    },
    {
     "name": "stderr",
     "output_type": "stream",
     "text": [
      "100%|████████████████████████████████████████████████████████████| 655/655 [00:03<00:00, 209.05it/s]\n"
     ]
    },
    {
     "name": "stdout",
     "output_type": "stream",
     "text": [
      "Epoch: 311, loss: 2.2069499991322292, f1: 0.14951698175471775, precision: 0.08119463623636437, recall: 0.9431092888344336\n"
     ]
    },
    {
     "name": "stderr",
     "output_type": "stream",
     "text": [
      "100%|████████████████████████████████████████████████████████████| 218/218 [00:00<00:00, 590.84it/s]\n"
     ]
    },
    {
     "name": "stdout",
     "output_type": "stream",
     "text": [
      "val_loss: 2.3059920895537105, val_f1: 0.1273788390139075, val_precision: 0.06909798899315162, val_recall: 0.8136737115612818\n"
     ]
    },
    {
     "name": "stderr",
     "output_type": "stream",
     "text": [
      "100%|████████████████████████████████████████████████████████████| 655/655 [00:03<00:00, 211.71it/s]\n"
     ]
    },
    {
     "name": "stdout",
     "output_type": "stream",
     "text": [
      "Epoch: 312, loss: 2.2072762936126185, f1: 0.14954809255136023, precision: 0.08121124069341494, recall: 0.943344674037613\n"
     ]
    },
    {
     "name": "stderr",
     "output_type": "stream",
     "text": [
      "100%|████████████████████████████████████████████████████████████| 218/218 [00:00<00:00, 590.84it/s]\n"
     ]
    },
    {
     "name": "stdout",
     "output_type": "stream",
     "text": [
      "val_loss: 2.3064316869328874, val_f1: 0.12802409783921936, val_precision: 0.06949211766947608, val_recall: 0.8117293849450733\n"
     ]
    },
    {
     "name": "stderr",
     "output_type": "stream",
     "text": [
      "100%|████████████████████████████████████████████████████████████| 655/655 [00:03<00:00, 212.50it/s]\n"
     ]
    },
    {
     "name": "stdout",
     "output_type": "stream",
     "text": [
      "Epoch: 313, loss: 2.2067148719125123, f1: 0.14984675171154577, precision: 0.08138426040221033, recall: 0.943769152200859\n"
     ]
    },
    {
     "name": "stderr",
     "output_type": "stream",
     "text": [
      "100%|████████████████████████████████████████████████████████████| 218/218 [00:00<00:00, 592.61it/s]\n"
     ]
    },
    {
     "name": "stdout",
     "output_type": "stream",
     "text": [
      "val_loss: 2.30357871799294, val_f1: 0.12753289633125187, val_precision: 0.06915768080416622, val_recall: 0.8179835603324646\n"
     ]
    },
    {
     "name": "stderr",
     "output_type": "stream",
     "text": [
      "100%|████████████████████████████████████████████████████████████| 655/655 [00:03<00:00, 210.57it/s]\n"
     ]
    },
    {
     "name": "stdout",
     "output_type": "stream",
     "text": [
      "Epoch: 314, loss: 2.206278315664248, f1: 0.15029639768866773, precision: 0.0816477327906164, recall: 0.9440184649620348\n"
     ]
    },
    {
     "name": "stderr",
     "output_type": "stream",
     "text": [
      "100%|████████████████████████████████████████████████████████████| 218/218 [00:00<00:00, 588.54it/s]\n"
     ]
    },
    {
     "name": "stdout",
     "output_type": "stream",
     "text": [
      "val_loss: 2.305856216938124, val_f1: 0.12747461657273995, val_precision: 0.06918853168042564, val_recall: 0.8089726754558195\n"
     ]
    },
    {
     "name": "stderr",
     "output_type": "stream",
     "text": [
      "100%|████████████████████████████████████████████████████████████| 655/655 [00:03<00:00, 212.50it/s]\n"
     ]
    },
    {
     "name": "stdout",
     "output_type": "stream",
     "text": [
      "Epoch: 315, loss: 2.2048992528260207, f1: 0.15056289324111358, precision: 0.08180161661802585, recall: 0.9444759933093122\n"
     ]
    },
    {
     "name": "stderr",
     "output_type": "stream",
     "text": [
      "100%|████████████████████████████████████████████████████████████| 218/218 [00:00<00:00, 584.24it/s]\n"
     ]
    },
    {
     "name": "stdout",
     "output_type": "stream",
     "text": [
      "val_loss: 2.306955944507494, val_f1: 0.12756663958020387, val_precision: 0.06922159258301856, val_recall: 0.8118722881745855\n"
     ]
    },
    {
     "name": "stderr",
     "output_type": "stream",
     "text": [
      "100%|████████████████████████████████████████████████████████████| 655/655 [00:03<00:00, 210.65it/s]\n"
     ]
    },
    {
     "name": "stdout",
     "output_type": "stream",
     "text": [
      "Epoch: 316, loss: 2.207912054680686, f1: 0.14921402740876016, precision: 0.08101118577018608, recall: 0.9437601902102696\n"
     ]
    },
    {
     "name": "stderr",
     "output_type": "stream",
     "text": [
      "100%|████████████████████████████████████████████████████████████| 218/218 [00:00<00:00, 582.16it/s]\n"
     ]
    },
    {
     "name": "stdout",
     "output_type": "stream",
     "text": [
      "val_loss: 2.307411777590393, val_f1: 0.12808143796318747, val_precision: 0.06954668126487677, val_recall: 0.8089084599269639\n"
     ]
    },
    {
     "name": "stderr",
     "output_type": "stream",
     "text": [
      "100%|████████████████████████████████████████████████████████████| 655/655 [00:03<00:00, 210.46it/s]\n"
     ]
    },
    {
     "name": "stdout",
     "output_type": "stream",
     "text": [
      "Epoch: 317, loss: 2.2053798539947915, f1: 0.15037935674603012, precision: 0.08169470645686369, recall: 0.9442847323781661\n"
     ]
    },
    {
     "name": "stderr",
     "output_type": "stream",
     "text": [
      "100%|████████████████████████████████████████████████████████████| 218/218 [00:00<00:00, 588.44it/s]\n"
     ]
    },
    {
     "name": "stdout",
     "output_type": "stream",
     "text": [
      "val_loss: 2.304862424047715, val_f1: 0.12833455030630947, val_precision: 0.06964572255687634, val_recall: 0.81573772881556\n"
     ]
    },
    {
     "name": "stderr",
     "output_type": "stream",
     "text": [
      "100%|████████████████████████████████████████████████████████████| 655/655 [00:03<00:00, 208.85it/s]\n"
     ]
    },
    {
     "name": "stdout",
     "output_type": "stream",
     "text": [
      "Epoch: 318, loss: 2.207772104430745, f1: 0.14968755083095775, precision: 0.08130501872141853, recall: 0.9417962260828674\n"
     ]
    },
    {
     "name": "stderr",
     "output_type": "stream",
     "text": [
      "100%|████████████████████████████████████████████████████████████| 218/218 [00:00<00:00, 588.62it/s]\n"
     ]
    },
    {
     "name": "stdout",
     "output_type": "stream",
     "text": [
      "val_loss: 2.3061239965465092, val_f1: 0.1274718180758887, val_precision: 0.06915360069385124, val_recall: 0.813550841097438\n"
     ]
    },
    {
     "name": "stderr",
     "output_type": "stream",
     "text": [
      "100%|████████████████████████████████████████████████████████████| 655/655 [00:03<00:00, 210.29it/s]\n"
     ]
    },
    {
     "name": "stdout",
     "output_type": "stream",
     "text": [
      "Epoch: 319, loss: 2.2044305847801327, f1: 0.15066331622776818, precision: 0.08186328023146014, recall: 0.9441600459222576\n"
     ]
    },
    {
     "name": "stderr",
     "output_type": "stream",
     "text": [
      "100%|████████████████████████████████████████████████████████████| 218/218 [00:00<00:00, 592.99it/s]\n"
     ]
    },
    {
     "name": "stdout",
     "output_type": "stream",
     "text": [
      "val_loss: 2.3078729657951844, val_f1: 0.12630279331862884, val_precision: 0.06849795434230921, val_recall: 0.8090703853773414\n"
     ]
    },
    {
     "name": "stderr",
     "output_type": "stream",
     "text": [
      "100%|████████████████████████████████████████████████████████████| 655/655 [00:03<00:00, 214.30it/s]\n"
     ]
    },
    {
     "name": "stdout",
     "output_type": "stream",
     "text": [
      "Epoch: 320, loss: 2.204420825088297, f1: 0.1503774951847654, precision: 0.08169252736465508, recall: 0.9444290912788332\n"
     ]
    },
    {
     "name": "stderr",
     "output_type": "stream",
     "text": [
      "100%|████████████████████████████████████████████████████████████| 218/218 [00:00<00:00, 585.20it/s]\n"
     ]
    },
    {
     "name": "stdout",
     "output_type": "stream",
     "text": [
      "val_loss: 2.306486143704948, val_f1: 0.1271104974592132, val_precision: 0.0689468216706375, val_recall: 0.8127372936097854\n"
     ]
    },
    {
     "name": "stderr",
     "output_type": "stream",
     "text": [
      "100%|████████████████████████████████████████████████████████████| 655/655 [00:03<00:00, 210.56it/s]\n"
     ]
    },
    {
     "name": "stdout",
     "output_type": "stream",
     "text": [
      "Epoch: 321, loss: 2.2039939727492004, f1: 0.15086714550753863, precision: 0.08197968943641727, recall: 0.9446854016253057\n"
     ]
    },
    {
     "name": "stderr",
     "output_type": "stream",
     "text": [
      "100%|████████████████████████████████████████████████████████████| 218/218 [00:00<00:00, 588.31it/s]\n"
     ]
    },
    {
     "name": "stdout",
     "output_type": "stream",
     "text": [
      "val_loss: 2.30547803613024, val_f1: 0.1276631803874697, val_precision: 0.06927310643982518, val_recall: 0.8126066966888008\n"
     ]
    },
    {
     "name": "stderr",
     "output_type": "stream",
     "text": [
      "100%|████████████████████████████████████████████████████████████| 655/655 [00:03<00:00, 209.86it/s]\n"
     ]
    },
    {
     "name": "stdout",
     "output_type": "stream",
     "text": [
      "Epoch: 322, loss: 2.2058121295375677, f1: 0.15024308115580456, precision: 0.08161529383501251, recall: 0.9441483784267921\n"
     ]
    },
    {
     "name": "stderr",
     "output_type": "stream",
     "text": [
      "100%|████████████████████████████████████████████████████████████| 218/218 [00:00<00:00, 591.13it/s]\n"
     ]
    },
    {
     "name": "stdout",
     "output_type": "stream",
     "text": [
      "val_loss: 2.3079973385421506, val_f1: 0.1283768933440777, val_precision: 0.069747722259116, val_recall: 0.8053203840321357\n"
     ]
    },
    {
     "name": "stderr",
     "output_type": "stream",
     "text": [
      "100%|████████████████████████████████████████████████████████████| 655/655 [00:03<00:00, 210.54it/s]\n"
     ]
    },
    {
     "name": "stdout",
     "output_type": "stream",
     "text": [
      "Epoch: 323, loss: 2.203837112707036, f1: 0.1510823222259519, precision: 0.0821053490931353, recall: 0.9448744342527317\n"
     ]
    },
    {
     "name": "stderr",
     "output_type": "stream",
     "text": [
      "100%|████████████████████████████████████████████████████████████| 218/218 [00:00<00:00, 592.68it/s]\n"
     ]
    },
    {
     "name": "stdout",
     "output_type": "stream",
     "text": [
      "val_loss: 2.307168122005025, val_f1: 0.1284331521462221, val_precision: 0.06974830353043017, val_recall: 0.8096923202002814\n"
     ]
    },
    {
     "name": "stderr",
     "output_type": "stream",
     "text": [
      "100%|████████████████████████████████████████████████████████████| 655/655 [00:03<00:00, 213.64it/s]\n"
     ]
    },
    {
     "name": "stdout",
     "output_type": "stream",
     "text": [
      "Epoch: 324, loss: 2.2048444781594605, f1: 0.15053326525979596, precision: 0.08178759240225413, recall: 0.9440139007022362\n"
     ]
    },
    {
     "name": "stderr",
     "output_type": "stream",
     "text": [
      "100%|████████████████████████████████████████████████████████████| 218/218 [00:00<00:00, 596.35it/s]\n"
     ]
    },
    {
     "name": "stdout",
     "output_type": "stream",
     "text": [
      "val_loss: 2.309287019825857, val_f1: 0.12642791194166542, val_precision: 0.06860073288975266, val_recall: 0.8050312410800828\n"
     ]
    },
    {
     "name": "stderr",
     "output_type": "stream",
     "text": [
      "100%|████████████████████████████████████████████████████████████| 655/655 [00:03<00:00, 209.82it/s]\n"
     ]
    },
    {
     "name": "stdout",
     "output_type": "stream",
     "text": [
      "Epoch: 325, loss: 2.2051880325069866, f1: 0.15004113361091628, precision: 0.08149275813706731, recall: 0.944600150512375\n"
     ]
    },
    {
     "name": "stderr",
     "output_type": "stream",
     "text": [
      "100%|████████████████████████████████████████████████████████████| 218/218 [00:00<00:00, 587.71it/s]\n"
     ]
    },
    {
     "name": "stdout",
     "output_type": "stream",
     "text": [
      "val_loss: 2.308799231817963, val_f1: 0.1287391750894904, val_precision: 0.06992508937741433, val_recall: 0.8101966839044465\n"
     ]
    },
    {
     "name": "stderr",
     "output_type": "stream",
     "text": [
      "100%|████████████████████████████████████████████████████████████| 655/655 [00:03<00:00, 210.71it/s]\n"
     ]
    },
    {
     "name": "stdout",
     "output_type": "stream",
     "text": [
      "Epoch: 326, loss: 2.202208897994675, f1: 0.15131379757096558, precision: 0.0822353393379741, recall: 0.9457668113344498\n"
     ]
    },
    {
     "name": "stderr",
     "output_type": "stream",
     "text": [
      "100%|████████████████████████████████████████████████████████████| 218/218 [00:00<00:00, 590.82it/s]\n"
     ]
    },
    {
     "name": "stdout",
     "output_type": "stream",
     "text": [
      "val_loss: 2.3094764316300735, val_f1: 0.12832520445640772, val_precision: 0.06972116065305581, val_recall: 0.8047933935298832\n"
     ]
    },
    {
     "name": "stderr",
     "output_type": "stream",
     "text": [
      "100%|████████████████████████████████████████████████████████████| 655/655 [00:03<00:00, 209.93it/s]\n"
     ]
    },
    {
     "name": "stdout",
     "output_type": "stream",
     "text": [
      "Epoch: 327, loss: 2.2047947051870915, f1: 0.1506460853211631, precision: 0.0818475716349221, recall: 0.9448970422489953\n"
     ]
    },
    {
     "name": "stderr",
     "output_type": "stream",
     "text": [
      "100%|████████████████████████████████████████████████████████████| 218/218 [00:00<00:00, 587.87it/s]\n"
     ]
    },
    {
     "name": "stdout",
     "output_type": "stream",
     "text": [
      "val_loss: 2.3072634711178073, val_f1: 0.12765172578241663, val_precision: 0.06930524738475578, val_recall: 0.8072927210035674\n"
     ]
    },
    {
     "name": "stderr",
     "output_type": "stream",
     "text": [
      "100%|████████████████████████████████████████████████████████████| 655/655 [00:03<00:00, 211.45it/s]\n"
     ]
    },
    {
     "name": "stdout",
     "output_type": "stream",
     "text": [
      "Epoch: 328, loss: 2.2032246744359725, f1: 0.15137500654544772, precision: 0.08227681269272025, recall: 0.9450651248902765\n"
     ]
    },
    {
     "name": "stderr",
     "output_type": "stream",
     "text": [
      "100%|████████████████████████████████████████████████████████████| 218/218 [00:00<00:00, 593.04it/s]\n"
     ]
    },
    {
     "name": "stdout",
     "output_type": "stream",
     "text": [
      "val_loss: 2.304995389706498, val_f1: 0.1277582121228994, val_precision: 0.06933091903840183, val_recall: 0.8123530923226557\n"
     ]
    },
    {
     "name": "stderr",
     "output_type": "stream",
     "text": [
      "100%|████████████████████████████████████████████████████████████| 655/655 [00:03<00:00, 208.96it/s]\n"
     ]
    },
    {
     "name": "stdout",
     "output_type": "stream",
     "text": [
      "Epoch: 329, loss: 2.202951982640128, f1: 0.15127904148956126, precision: 0.08221353469345406, recall: 0.9459353770008524\n"
     ]
    },
    {
     "name": "stderr",
     "output_type": "stream",
     "text": [
      "100%|████████████████████████████████████████████████████████████| 218/218 [00:00<00:00, 584.80it/s]\n"
     ]
    },
    {
     "name": "stdout",
     "output_type": "stream",
     "text": [
      "val_loss: 2.306855884713864, val_f1: 0.12827694547273744, val_precision: 0.06966106957059627, val_recall: 0.8090314657316295\n"
     ]
    },
    {
     "name": "stderr",
     "output_type": "stream",
     "text": [
      "100%|████████████████████████████████████████████████████████████| 655/655 [00:03<00:00, 211.23it/s]\n"
     ]
    },
    {
     "name": "stdout",
     "output_type": "stream",
     "text": [
      "Epoch: 330, loss: 2.207432296348892, f1: 0.15009820226563492, precision: 0.0815436233275833, recall: 0.9422980552411261\n"
     ]
    },
    {
     "name": "stderr",
     "output_type": "stream",
     "text": [
      "100%|████████████████████████████████████████████████████████████| 218/218 [00:00<00:00, 585.22it/s]\n"
     ]
    },
    {
     "name": "stdout",
     "output_type": "stream",
     "text": [
      "val_loss: 2.3086993615014837, val_f1: 0.12611310868541203, val_precision: 0.06837860866953883, val_recall: 0.8101607365619152\n"
     ]
    },
    {
     "name": "stderr",
     "output_type": "stream",
     "text": [
      "100%|████████████████████████████████████████████████████████████| 655/655 [00:03<00:00, 211.50it/s]\n"
     ]
    },
    {
     "name": "stdout",
     "output_type": "stream",
     "text": [
      "Epoch: 331, loss: 2.2039920025199424, f1: 0.15097412570763766, precision: 0.08203621149873574, recall: 0.9455691097346881\n"
     ]
    },
    {
     "name": "stderr",
     "output_type": "stream",
     "text": [
      "100%|████████████████████████████████████████████████████████████| 218/218 [00:00<00:00, 589.84it/s]\n"
     ]
    },
    {
     "name": "stdout",
     "output_type": "stream",
     "text": [
      "val_loss: 2.3082173368252747, val_f1: 0.12784878574987604, val_precision: 0.06945213866569615, val_recall: 0.8031638874373305\n"
     ]
    },
    {
     "name": "stderr",
     "output_type": "stream",
     "text": [
      "100%|████████████████████████████████████████████████████████████| 655/655 [00:03<00:00, 209.55it/s]\n"
     ]
    },
    {
     "name": "stdout",
     "output_type": "stream",
     "text": [
      "Epoch: 332, loss: 2.2047724691966106, f1: 0.15051052390766848, precision: 0.08177297118311848, recall: 0.9441731980738749\n"
     ]
    },
    {
     "name": "stderr",
     "output_type": "stream",
     "text": [
      "100%|████████████████████████████████████████████████████████████| 218/218 [00:00<00:00, 588.74it/s]\n"
     ]
    },
    {
     "name": "stdout",
     "output_type": "stream",
     "text": [
      "val_loss: 2.307078444629634, val_f1: 0.1274710490367374, val_precision: 0.06920137805137955, val_recall: 0.8069345621614281\n"
     ]
    },
    {
     "name": "stderr",
     "output_type": "stream",
     "text": [
      "100%|████████████████████████████████████████████████████████████| 655/655 [00:03<00:00, 210.43it/s]\n"
     ]
    },
    {
     "name": "stdout",
     "output_type": "stream",
     "text": [
      "Epoch: 333, loss: 2.201041419542473, f1: 0.15203396362855326, precision: 0.08265578761085413, recall: 0.9464418294775577\n"
     ]
    },
    {
     "name": "stderr",
     "output_type": "stream",
     "text": [
      "100%|████████████████████████████████████████████████████████████| 218/218 [00:00<00:00, 587.82it/s]\n"
     ]
    },
    {
     "name": "stdout",
     "output_type": "stream",
     "text": [
      "val_loss: 2.3089276153013247, val_f1: 0.12745278045561156, val_precision: 0.0692269075779381, val_recall: 0.8020301811192014\n"
     ]
    },
    {
     "name": "stderr",
     "output_type": "stream",
     "text": [
      "100%|████████████████████████████████████████████████████████████| 655/655 [00:03<00:00, 209.37it/s]\n"
     ]
    },
    {
     "name": "stdout",
     "output_type": "stream",
     "text": [
      "Epoch: 334, loss: 2.204227041834183, f1: 0.1508996475360866, precision: 0.08199654995172306, recall: 0.9449952647886204\n"
     ]
    },
    {
     "name": "stderr",
     "output_type": "stream",
     "text": [
      "100%|████████████████████████████████████████████████████████████| 218/218 [00:00<00:00, 577.77it/s]\n"
     ]
    },
    {
     "name": "stdout",
     "output_type": "stream",
     "text": [
      "val_loss: 2.3090594624160627, val_f1: 0.12747742474934087, val_precision: 0.06921821236695855, val_recall: 0.8051610065436144\n"
     ]
    },
    {
     "name": "stderr",
     "output_type": "stream",
     "text": [
      "100%|████████████████████████████████████████████████████████████| 655/655 [00:03<00:00, 209.69it/s]\n"
     ]
    },
    {
     "name": "stdout",
     "output_type": "stream",
     "text": [
      "Epoch: 335, loss: 2.2014182929774275, f1: 0.1516941422421267, precision: 0.0824576633570019, recall: 0.946083502642071\n"
     ]
    },
    {
     "name": "stderr",
     "output_type": "stream",
     "text": [
      "100%|████████████████████████████████████████████████████████████| 218/218 [00:00<00:00, 588.26it/s]\n"
     ]
    },
    {
     "name": "stdout",
     "output_type": "stream",
     "text": [
      "val_loss: 2.3068664637180643, val_f1: 0.12724938695856683, val_precision: 0.06906382679841011, val_recall: 0.8078795927106788\n"
     ]
    },
    {
     "name": "stderr",
     "output_type": "stream",
     "text": [
      "100%|████████████████████████████████████████████████████████████| 655/655 [00:02<00:00, 218.44it/s]\n"
     ]
    },
    {
     "name": "stdout",
     "output_type": "stream",
     "text": [
      "Epoch: 336, loss: 2.2008481672701943, f1: 0.151895757234574, precision: 0.08256952643877905, recall: 0.9470422681051356\n"
     ]
    },
    {
     "name": "stderr",
     "output_type": "stream",
     "text": [
      "100%|████████████████████████████████████████████████████████████| 218/218 [00:00<00:00, 594.21it/s]\n"
     ]
    },
    {
     "name": "stdout",
     "output_type": "stream",
     "text": [
      "val_loss: 2.3079840114357273, val_f1: 0.12747792955158815, val_precision: 0.06923696990851141, val_recall: 0.8026716381038\n"
     ]
    },
    {
     "name": "stderr",
     "output_type": "stream",
     "text": [
      "100%|████████████████████████████████████████████████████████████| 655/655 [00:03<00:00, 209.89it/s]\n"
     ]
    },
    {
     "name": "stdout",
     "output_type": "stream",
     "text": [
      "Epoch: 337, loss: 2.203148965890171, f1: 0.15116487754642383, precision: 0.08215092038451374, recall: 0.9452971443875146\n"
     ]
    },
    {
     "name": "stderr",
     "output_type": "stream",
     "text": [
      "100%|████████████████████████████████████████████████████████████| 218/218 [00:00<00:00, 585.77it/s]\n"
     ]
    },
    {
     "name": "stdout",
     "output_type": "stream",
     "text": [
      "val_loss: 2.306207417621525, val_f1: 0.1287625083728095, val_precision: 0.06992864073040563, val_recall: 0.8115701976172421\n"
     ]
    },
    {
     "name": "stderr",
     "output_type": "stream",
     "text": [
      "100%|████████████████████████████████████████████████████████████| 655/655 [00:03<00:00, 211.95it/s]\n"
     ]
    },
    {
     "name": "stdout",
     "output_type": "stream",
     "text": [
      "Epoch: 338, loss: 2.2008511960961434, f1: 0.1520309798375588, precision: 0.08265239549160913, recall: 0.9466553753568926\n"
     ]
    },
    {
     "name": "stderr",
     "output_type": "stream",
     "text": [
      "100%|████████████████████████████████████████████████████████████| 218/218 [00:00<00:00, 588.03it/s]\n"
     ]
    },
    {
     "name": "stdout",
     "output_type": "stream",
     "text": [
      "val_loss: 2.306870178618562, val_f1: 0.12794822913622908, val_precision: 0.06948131431159008, val_recall: 0.8071262654634791\n"
     ]
    },
    {
     "name": "stderr",
     "output_type": "stream",
     "text": [
      "100%|████████████████████████████████████████████████████████████| 655/655 [00:03<00:00, 209.52it/s]\n"
     ]
    },
    {
     "name": "stdout",
     "output_type": "stream",
     "text": [
      "Epoch: 339, loss: 2.2027966500238607, f1: 0.15159919418638676, precision: 0.08240045245296058, recall: 0.9462290499956553\n"
     ]
    },
    {
     "name": "stderr",
     "output_type": "stream",
     "text": [
      "100%|████████████████████████████████████████████████████████████| 218/218 [00:00<00:00, 589.09it/s]\n"
     ]
    },
    {
     "name": "stdout",
     "output_type": "stream",
     "text": [
      "val_loss: 2.3072158636849953, val_f1: 0.12818224005335296, val_precision: 0.06962072619540326, val_recall: 0.806941793462552\n"
     ]
    },
    {
     "name": "stderr",
     "output_type": "stream",
     "text": [
      "100%|████████████████████████████████████████████████████████████| 655/655 [00:03<00:00, 213.95it/s]\n"
     ]
    },
    {
     "name": "stdout",
     "output_type": "stream",
     "text": [
      "Epoch: 340, loss: 2.200876884151051, f1: 0.1523237746521308, precision: 0.08282628528318788, recall: 0.9465530491967238\n"
     ]
    },
    {
     "name": "stderr",
     "output_type": "stream",
     "text": [
      "100%|████████████████████████████████████████████████████████████| 218/218 [00:00<00:00, 582.41it/s]\n"
     ]
    },
    {
     "name": "stdout",
     "output_type": "stream",
     "text": [
      "val_loss: 2.3068216801236527, val_f1: 0.12797552340664908, val_precision: 0.06950283499964334, val_recall: 0.8063956006951288\n"
     ]
    },
    {
     "name": "stderr",
     "output_type": "stream",
     "text": [
      "100%|████████████████████████████████████████████████████████████| 655/655 [00:03<00:00, 210.40it/s]\n"
     ]
    },
    {
     "name": "stdout",
     "output_type": "stream",
     "text": [
      "Epoch: 341, loss: 2.201605856873607, f1: 0.15200397816823896, precision: 0.08264024637369367, recall: 0.9461554183304764\n"
     ]
    },
    {
     "name": "stderr",
     "output_type": "stream",
     "text": [
      "100%|████████████████████████████████████████████████████████████| 218/218 [00:00<00:00, 584.20it/s]\n"
     ]
    },
    {
     "name": "stdout",
     "output_type": "stream",
     "text": [
      "val_loss: 2.306184258209456, val_f1: 0.1279335847748062, val_precision: 0.06947451636383156, val_recall: 0.8068781194336917\n"
     ]
    },
    {
     "name": "stderr",
     "output_type": "stream",
     "text": [
      "100%|████████████████████████████████████████████████████████████| 655/655 [00:03<00:00, 209.48it/s]\n"
     ]
    },
    {
     "name": "stdout",
     "output_type": "stream",
     "text": [
      "Epoch: 342, loss: 2.2026034428873134, f1: 0.15144732947149359, precision: 0.08230992650670063, recall: 0.9463348855499093\n"
     ]
    },
    {
     "name": "stderr",
     "output_type": "stream",
     "text": [
      "100%|████████████████████████████████████████████████████████████| 218/218 [00:00<00:00, 586.41it/s]\n"
     ]
    },
    {
     "name": "stdout",
     "output_type": "stream",
     "text": [
      "val_loss: 2.3081428326598, val_f1: 0.12851484820151537, val_precision: 0.0698331071794409, val_recall: 0.8047974608633497\n"
     ]
    },
    {
     "name": "stderr",
     "output_type": "stream",
     "text": [
      "100%|████████████████████████████████████████████████████████████| 655/655 [00:03<00:00, 210.01it/s]\n"
     ]
    },
    {
     "name": "stdout",
     "output_type": "stream",
     "text": [
      "Epoch: 343, loss: 2.204416000752049, f1: 0.15059408806982583, precision: 0.08181561832707233, recall: 0.9450646628860299\n"
     ]
    },
    {
     "name": "stderr",
     "output_type": "stream",
     "text": [
      "100%|████████████████████████████████████████████████████████████| 218/218 [00:00<00:00, 595.35it/s]\n"
     ]
    },
    {
     "name": "stdout",
     "output_type": "stream",
     "text": [
      "val_loss: 2.3102840223443617, val_f1: 0.12651899342001616, val_precision: 0.06866713468339977, val_recall: 0.8032801755524557\n"
     ]
    },
    {
     "name": "stderr",
     "output_type": "stream",
     "text": [
      "100%|████████████████████████████████████████████████████████████| 655/655 [00:03<00:00, 211.90it/s]\n"
     ]
    },
    {
     "name": "stdout",
     "output_type": "stream",
     "text": [
      "Epoch: 344, loss: 2.1996880678730157, f1: 0.15256012167386934, precision: 0.08296048635232994, recall: 0.9472796203525922\n"
     ]
    },
    {
     "name": "stderr",
     "output_type": "stream",
     "text": [
      "100%|████████████████████████████████████████████████████████████| 218/218 [00:00<00:00, 591.25it/s]\n"
     ]
    },
    {
     "name": "stdout",
     "output_type": "stream",
     "text": [
      "val_loss: 2.307782225652572, val_f1: 0.1288023737484129, val_precision: 0.0700002529513125, val_recall: 0.8051520216902461\n"
     ]
    },
    {
     "name": "stderr",
     "output_type": "stream",
     "text": [
      "100%|████████████████████████████████████████████████████████████| 655/655 [00:03<00:00, 211.37it/s]\n"
     ]
    },
    {
     "name": "stdout",
     "output_type": "stream",
     "text": [
      "Epoch: 345, loss: 2.1994081897589997, f1: 0.15278944798477906, precision: 0.08309729395306292, recall: 0.9471284706173962\n"
     ]
    },
    {
     "name": "stderr",
     "output_type": "stream",
     "text": [
      "100%|████████████████████████████████████████████████████████████| 218/218 [00:00<00:00, 588.56it/s]\n"
     ]
    },
    {
     "name": "stdout",
     "output_type": "stream",
     "text": [
      "val_loss: 2.3079075758610297, val_f1: 0.12689035272724022, val_precision: 0.06888066969465874, val_recall: 0.8040017659237625\n"
     ]
    },
    {
     "name": "stderr",
     "output_type": "stream",
     "text": [
      "100%|████████████████████████████████████████████████████████████| 655/655 [00:03<00:00, 210.46it/s]\n"
     ]
    },
    {
     "name": "stdout",
     "output_type": "stream",
     "text": [
      "Epoch: 346, loss: 2.202140723657972, f1: 0.15175335477503327, precision: 0.08249103667442012, recall: 0.9462966109960134\n"
     ]
    },
    {
     "name": "stderr",
     "output_type": "stream",
     "text": [
      "100%|████████████████████████████████████████████████████████████| 218/218 [00:00<00:00, 577.83it/s]\n"
     ]
    },
    {
     "name": "stdout",
     "output_type": "stream",
     "text": [
      "val_loss: 2.3045843366636047, val_f1: 0.12838012699329313, val_precision: 0.06968935363746565, val_recall: 0.8134439028457764\n"
     ]
    },
    {
     "name": "stderr",
     "output_type": "stream",
     "text": [
      "100%|████████████████████████████████████████████████████████████| 655/655 [00:03<00:00, 209.68it/s]\n"
     ]
    },
    {
     "name": "stdout",
     "output_type": "stream",
     "text": [
      "Epoch: 347, loss: 2.1995907919097495, f1: 0.15267440980790242, precision: 0.08302902854438729, recall: 0.9471564562266109\n"
     ]
    },
    {
     "name": "stderr",
     "output_type": "stream",
     "text": [
      "100%|████████████████████████████████████████████████████████████| 218/218 [00:00<00:00, 589.47it/s]\n"
     ]
    },
    {
     "name": "stdout",
     "output_type": "stream",
     "text": [
      "val_loss: 2.3072531381878285, val_f1: 0.12853758459942938, val_precision: 0.06985042361145276, val_recall: 0.8042814217576193\n"
     ]
    },
    {
     "name": "stderr",
     "output_type": "stream",
     "text": [
      "100%|████████████████████████████████████████████████████████████| 655/655 [00:03<00:00, 209.79it/s]\n"
     ]
    },
    {
     "name": "stdout",
     "output_type": "stream",
     "text": [
      "Epoch: 348, loss: 2.2011115724803836, f1: 0.152579787063563, precision: 0.08298203485968117, recall: 0.9459887791225928\n"
     ]
    },
    {
     "name": "stderr",
     "output_type": "stream",
     "text": [
      "100%|████████████████████████████████████████████████████████████| 218/218 [00:00<00:00, 587.45it/s]\n"
     ]
    },
    {
     "name": "stdout",
     "output_type": "stream",
     "text": [
      "val_loss: 2.3074967893985434, val_f1: 0.12737537846538832, val_precision: 0.06916039182330319, val_recall: 0.804842848433267\n"
     ]
    },
    {
     "name": "stderr",
     "output_type": "stream",
     "text": [
      "100%|████████████████████████████████████████████████████████████| 655/655 [00:03<00:00, 214.61it/s]\n"
     ]
    },
    {
     "name": "stdout",
     "output_type": "stream",
     "text": [
      "Epoch: 349, loss: 2.1998025812265527, f1: 0.15263715647820011, precision: 0.08300689579918981, recall: 0.9471691818637702\n"
     ]
    },
    {
     "name": "stderr",
     "output_type": "stream",
     "text": [
      "100%|████████████████████████████████████████████████████████████| 218/218 [00:00<00:00, 581.11it/s]\n"
     ]
    },
    {
     "name": "stdout",
     "output_type": "stream",
     "text": [
      "val_loss: 2.3061820599464102, val_f1: 0.12872029659466888, val_precision: 0.06994436484646188, val_recall: 0.8061345140321539\n"
     ]
    },
    {
     "name": "stderr",
     "output_type": "stream",
     "text": [
      "100%|████████████████████████████████████████████████████████████| 655/655 [00:03<00:00, 209.42it/s]\n"
     ]
    },
    {
     "name": "stdout",
     "output_type": "stream",
     "text": [
      "Epoch: 350, loss: 2.2004319184609042, f1: 0.15257075065845188, precision: 0.0829716058575925, recall: 0.9466499947409593\n"
     ]
    },
    {
     "name": "stderr",
     "output_type": "stream",
     "text": [
      "100%|████████████████████████████████████████████████████████████| 218/218 [00:00<00:00, 592.16it/s]\n"
     ]
    },
    {
     "name": "stdout",
     "output_type": "stream",
     "text": [
      "val_loss: 2.308008634989415, val_f1: 0.12800326291425343, val_precision: 0.06955625735107945, val_recall: 0.8014426234118436\n"
     ]
    },
    {
     "name": "stderr",
     "output_type": "stream",
     "text": [
      "100%|████████████████████████████████████████████████████████████| 655/655 [00:03<00:00, 213.80it/s]\n"
     ]
    },
    {
     "name": "stdout",
     "output_type": "stream",
     "text": [
      "Epoch: 351, loss: 2.200134175970354, f1: 0.1527911433241538, precision: 0.08310285748146076, recall: 0.9465364195008314\n"
     ]
    },
    {
     "name": "stderr",
     "output_type": "stream",
     "text": [
      "100%|████████████████████████████████████████████████████████████| 218/218 [00:00<00:00, 588.39it/s]\n"
     ]
    },
    {
     "name": "stdout",
     "output_type": "stream",
     "text": [
      "val_loss: 2.310834068770802, val_f1: 0.12618647556446094, val_precision: 0.0684685458924724, val_recall: 0.803656675673406\n"
     ]
    },
    {
     "name": "stderr",
     "output_type": "stream",
     "text": [
      "100%|████████████████████████████████████████████████████████████| 655/655 [00:03<00:00, 210.48it/s]\n"
     ]
    },
    {
     "name": "stdout",
     "output_type": "stream",
     "text": [
      "Epoch: 352, loss: 2.2033193727486005, f1: 0.15105071791697738, precision: 0.08208378793828132, recall: 0.9452580134377224\n"
     ]
    },
    {
     "name": "stderr",
     "output_type": "stream",
     "text": [
      "100%|████████████████████████████████████████████████████████████| 218/218 [00:00<00:00, 584.45it/s]\n"
     ]
    },
    {
     "name": "stdout",
     "output_type": "stream",
     "text": [
      "val_loss: 2.308014492649551, val_f1: 0.12806054956867274, val_precision: 0.06957072576982132, val_recall: 0.8040198712447367\n"
     ]
    },
    {
     "name": "stderr",
     "output_type": "stream",
     "text": [
      "100%|████████████████████████████████████████████████████████████| 655/655 [00:03<00:00, 209.30it/s]\n"
     ]
    },
    {
     "name": "stdout",
     "output_type": "stream",
     "text": [
      "Epoch: 353, loss: 2.1993987501122567, f1: 0.15312277738354707, precision: 0.0832975267688566, recall: 0.9467404395569372\n"
     ]
    },
    {
     "name": "stderr",
     "output_type": "stream",
     "text": [
      "100%|████████████████████████████████████████████████████████████| 218/218 [00:00<00:00, 584.51it/s]\n"
     ]
    },
    {
     "name": "stdout",
     "output_type": "stream",
     "text": [
      "val_loss: 2.3079636750418113, val_f1: 0.1287191419940519, val_precision: 0.06995415317915687, val_recall: 0.8047462958808339\n"
     ]
    },
    {
     "name": "stderr",
     "output_type": "stream",
     "text": [
      "100%|████████████████████████████████████████████████████████████| 655/655 [00:03<00:00, 210.95it/s]\n"
     ]
    },
    {
     "name": "stdout",
     "output_type": "stream",
     "text": [
      "Epoch: 354, loss: 2.2022891815382106, f1: 0.15222258601434743, precision: 0.0827771736515103, recall: 0.9451530944300062\n"
     ]
    },
    {
     "name": "stderr",
     "output_type": "stream",
     "text": [
      "100%|████████████████████████████████████████████████████████████| 218/218 [00:00<00:00, 585.84it/s]\n"
     ]
    },
    {
     "name": "stdout",
     "output_type": "stream",
     "text": [
      "val_loss: 2.3066014275638334, val_f1: 0.1280468510095568, val_precision: 0.06950261647419986, val_recall: 0.812126391114445\n"
     ]
    },
    {
     "name": "stderr",
     "output_type": "stream",
     "text": [
      "100%|████████████████████████████████████████████████████████████| 655/655 [00:03<00:00, 212.00it/s]\n"
     ]
    },
    {
     "name": "stdout",
     "output_type": "stream",
     "text": [
      "Epoch: 355, loss: 2.202432985160187, f1: 0.1522217873777551, precision: 0.08276757973367135, recall: 0.9463439344449808\n"
     ]
    },
    {
     "name": "stderr",
     "output_type": "stream",
     "text": [
      "100%|████████████████████████████████████████████████████████████| 218/218 [00:00<00:00, 586.86it/s]\n"
     ]
    },
    {
     "name": "stdout",
     "output_type": "stream",
     "text": [
      "val_loss: 2.3060404641912617, val_f1: 0.12843167320590368, val_precision: 0.06977650445539914, val_recall: 0.805794686489149\n"
     ]
    },
    {
     "name": "stderr",
     "output_type": "stream",
     "text": [
      "100%|████████████████████████████████████████████████████████████| 655/655 [00:03<00:00, 210.21it/s]\n"
     ]
    },
    {
     "name": "stdout",
     "output_type": "stream",
     "text": [
      "Epoch: 356, loss: 2.199235260304604, f1: 0.15294558218262835, precision: 0.08318878208351044, recall: 0.9472434315062661\n"
     ]
    },
    {
     "name": "stderr",
     "output_type": "stream",
     "text": [
      "100%|████████████████████████████████████████████████████████████| 218/218 [00:00<00:00, 578.09it/s]\n"
     ]
    },
    {
     "name": "stdout",
     "output_type": "stream",
     "text": [
      "val_loss: 2.306295202139321, val_f1: 0.12879861633959547, val_precision: 0.06999582098156146, val_recall: 0.8054448542518353\n"
     ]
    },
    {
     "name": "stderr",
     "output_type": "stream",
     "text": [
      "100%|████████████████████████████████████████████████████████████| 655/655 [00:03<00:00, 212.18it/s]\n"
     ]
    },
    {
     "name": "stdout",
     "output_type": "stream",
     "text": [
      "Epoch: 357, loss: 2.200527795307509, f1: 0.15264178948008564, precision: 0.08301588172761311, recall: 0.9463567864803868\n"
     ]
    },
    {
     "name": "stderr",
     "output_type": "stream",
     "text": [
      "100%|████████████████████████████████████████████████████████████| 218/218 [00:00<00:00, 583.24it/s]\n"
     ]
    },
    {
     "name": "stdout",
     "output_type": "stream",
     "text": [
      "val_loss: 2.306621949607079, val_f1: 0.1290835482778107, val_precision: 0.0701728744214452, val_recall: 0.8042978431106708\n"
     ]
    },
    {
     "name": "stderr",
     "output_type": "stream",
     "text": [
      "100%|████████████████████████████████████████████████████████████| 655/655 [00:03<00:00, 210.06it/s]\n"
     ]
    },
    {
     "name": "stdout",
     "output_type": "stream",
     "text": [
      "Epoch: 358, loss: 2.1984827814211374, f1: 0.1533413025889006, precision: 0.08342475425309807, recall: 0.9470140271514427\n"
     ]
    },
    {
     "name": "stderr",
     "output_type": "stream",
     "text": [
      "100%|████████████████████████████████████████████████████████████| 218/218 [00:00<00:00, 594.49it/s]\n"
     ]
    },
    {
     "name": "stdout",
     "output_type": "stream",
     "text": [
      "val_loss: 2.305803824728782, val_f1: 0.1285186264272828, val_precision: 0.0698227047676716, val_recall: 0.8064791074859987\n"
     ]
    },
    {
     "name": "stderr",
     "output_type": "stream",
     "text": [
      "100%|████████████████████████████████████████████████████████████| 655/655 [00:03<00:00, 210.03it/s]\n"
     ]
    },
    {
     "name": "stdout",
     "output_type": "stream",
     "text": [
      "Epoch: 359, loss: 2.2008069906525938, f1: 0.15263659711863345, precision: 0.0830173130637703, recall: 0.9457719609027601\n"
     ]
    },
    {
     "name": "stderr",
     "output_type": "stream",
     "text": [
      "100%|████████████████████████████████████████████████████████████| 218/218 [00:00<00:00, 579.15it/s]\n"
     ]
    },
    {
     "name": "stdout",
     "output_type": "stream",
     "text": [
      "val_loss: 2.3079448038831765, val_f1: 0.12839909876444575, val_precision: 0.06976994872520413, val_recall: 0.8041073884985862\n"
     ]
    },
    {
     "name": "stderr",
     "output_type": "stream",
     "text": [
      "100%|████████████████████████████████████████████████████████████| 655/655 [00:03<00:00, 212.87it/s]\n"
     ]
    },
    {
     "name": "stdout",
     "output_type": "stream",
     "text": [
      "Epoch: 360, loss: 2.1975752613926662, f1: 0.15342044849291306, precision: 0.08346263368023943, recall: 0.9481707838655428\n"
     ]
    },
    {
     "name": "stderr",
     "output_type": "stream",
     "text": [
      "100%|████████████████████████████████████████████████████████████| 218/218 [00:00<00:00, 586.87it/s]\n"
     ]
    },
    {
     "name": "stdout",
     "output_type": "stream",
     "text": [
      "val_loss: 2.3066025015411027, val_f1: 0.12972143527998584, val_precision: 0.07054579208408474, val_recall: 0.8048532602437045\n"
     ]
    },
    {
     "name": "stderr",
     "output_type": "stream",
     "text": [
      "100%|████████████████████████████████████████████████████████████| 655/655 [00:03<00:00, 211.25it/s]\n"
     ]
    },
    {
     "name": "stdout",
     "output_type": "stream",
     "text": [
      "Epoch: 361, loss: 2.2002742043888297, f1: 0.15278694941264642, precision: 0.08310571978195705, recall: 0.9458436976862318\n"
     ]
    },
    {
     "name": "stderr",
     "output_type": "stream",
     "text": [
      "100%|████████████████████████████████████████████████████████████| 218/218 [00:00<00:00, 587.87it/s]\n"
     ]
    },
    {
     "name": "stdout",
     "output_type": "stream",
     "text": [
      "val_loss: 2.3040191711635765, val_f1: 0.12864831123407772, val_precision: 0.069820122237941, val_recall: 0.8171666092282042\n"
     ]
    },
    {
     "name": "stderr",
     "output_type": "stream",
     "text": [
      "100%|████████████████████████████████████████████████████████████| 655/655 [00:03<00:00, 210.96it/s]\n"
     ]
    },
    {
     "name": "stdout",
     "output_type": "stream",
     "text": [
      "Epoch: 362, loss: 2.19921258360375, f1: 0.15307646762473615, precision: 0.08326873965490296, recall: 0.9469187627311881\n"
     ]
    },
    {
     "name": "stderr",
     "output_type": "stream",
     "text": [
      "100%|████████████████████████████████████████████████████████████| 218/218 [00:00<00:00, 593.06it/s]\n"
     ]
    },
    {
     "name": "stdout",
     "output_type": "stream",
     "text": [
      "val_loss: 2.3057441681350044, val_f1: 0.1287218488992976, val_precision: 0.06994087026463053, val_recall: 0.8067209281779211\n"
     ]
    },
    {
     "name": "stderr",
     "output_type": "stream",
     "text": [
      "100%|████████████████████████████████████████████████████████████| 655/655 [00:03<00:00, 210.87it/s]\n"
     ]
    },
    {
     "name": "stdout",
     "output_type": "stream",
     "text": [
      "Epoch: 363, loss: 2.197358308038639, f1: 0.1537256789191937, precision: 0.08364310514764818, recall: 0.9481997990426216\n"
     ]
    },
    {
     "name": "stderr",
     "output_type": "stream",
     "text": [
      "100%|████████████████████████████████████████████████████████████| 218/218 [00:00<00:00, 590.96it/s]\n"
     ]
    },
    {
     "name": "stdout",
     "output_type": "stream",
     "text": [
      "val_loss: 2.3072897206752674, val_f1: 0.12802507774908148, val_precision: 0.06954973232142046, val_recall: 0.8040273446555531\n"
     ]
    },
    {
     "name": "stderr",
     "output_type": "stream",
     "text": [
      "100%|████████████████████████████████████████████████████████████| 655/655 [00:03<00:00, 213.23it/s]\n"
     ]
    },
    {
     "name": "stdout",
     "output_type": "stream",
     "text": [
      "Epoch: 364, loss: 2.197897329221245, f1: 0.15362472327656254, precision: 0.08358281447218006, recall: 0.9482664645173168\n"
     ]
    },
    {
     "name": "stderr",
     "output_type": "stream",
     "text": [
      "100%|████████████████████████████████████████████████████████████| 218/218 [00:00<00:00, 583.63it/s]\n"
     ]
    },
    {
     "name": "stdout",
     "output_type": "stream",
     "text": [
      "val_loss: 2.3071034763931135, val_f1: 0.12885676301623497, val_precision: 0.07004399599033245, val_recall: 0.8036202111648857\n"
     ]
    },
    {
     "name": "stderr",
     "output_type": "stream",
     "text": [
      "100%|████████████████████████████████████████████████████████████| 655/655 [00:03<00:00, 210.14it/s]\n"
     ]
    },
    {
     "name": "stdout",
     "output_type": "stream",
     "text": [
      "Epoch: 365, loss: 2.1988181499124484, f1: 0.15341583606216197, precision: 0.08346446154368971, recall: 0.9475828968841611\n"
     ]
    },
    {
     "name": "stderr",
     "output_type": "stream",
     "text": [
      "100%|████████████████████████████████████████████████████████████| 218/218 [00:00<00:00, 590.99it/s]\n"
     ]
    },
    {
     "name": "stdout",
     "output_type": "stream",
     "text": [
      "val_loss: 2.3071033894468886, val_f1: 0.12840768315107048, val_precision: 0.06977550793383612, val_recall: 0.8040423401451986\n"
     ]
    },
    {
     "name": "stderr",
     "output_type": "stream",
     "text": [
      "100%|████████████████████████████████████████████████████████████| 655/655 [00:03<00:00, 210.23it/s]\n"
     ]
    },
    {
     "name": "stdout",
     "output_type": "stream",
     "text": [
      "Epoch: 366, loss: 2.198668748549833, f1: 0.15293377877543, precision: 0.08317704084791414, recall: 0.9478608075899022\n"
     ]
    },
    {
     "name": "stderr",
     "output_type": "stream",
     "text": [
      "100%|████████████████████████████████████████████████████████████| 218/218 [00:00<00:00, 591.02it/s]\n"
     ]
    },
    {
     "name": "stdout",
     "output_type": "stream",
     "text": [
      "val_loss: 2.308276602434456, val_f1: 0.12716527853839701, val_precision: 0.06900737795192714, val_recall: 0.8088262819368904\n"
     ]
    },
    {
     "name": "stderr",
     "output_type": "stream",
     "text": [
      "100%|████████████████████████████████████████████████████████████| 655/655 [00:03<00:00, 210.49it/s]\n"
     ]
    },
    {
     "name": "stdout",
     "output_type": "stream",
     "text": [
      "Epoch: 367, loss: 2.1991002539641986, f1: 0.15267658497707265, precision: 0.08302984914692645, recall: 0.9472171025421783\n"
     ]
    },
    {
     "name": "stderr",
     "output_type": "stream",
     "text": [
      "100%|████████████████████████████████████████████████████████████| 218/218 [00:00<00:00, 590.07it/s]\n"
     ]
    },
    {
     "name": "stdout",
     "output_type": "stream",
     "text": [
      "val_loss: 2.305699508124535, val_f1: 0.12862215778492686, val_precision: 0.06989374685575417, val_recall: 0.8051602383819195\n"
     ]
    },
    {
     "name": "stderr",
     "output_type": "stream",
     "text": [
      "100%|████████████████████████████████████████████████████████████| 655/655 [00:03<00:00, 211.38it/s]\n"
     ]
    },
    {
     "name": "stdout",
     "output_type": "stream",
     "text": [
      "Epoch: 368, loss: 2.1960514758379404, f1: 0.15406520721705963, precision: 0.08384018875658512, recall: 0.9487105759955544\n"
     ]
    },
    {
     "name": "stderr",
     "output_type": "stream",
     "text": [
      "100%|████████████████████████████████████████████████████████████| 218/218 [00:00<00:00, 592.34it/s]\n"
     ]
    },
    {
     "name": "stdout",
     "output_type": "stream",
     "text": [
      "val_loss: 2.3080149566361663, val_f1: 0.1284656149941432, val_precision: 0.06985594375366601, val_recall: 0.7979609923898627\n"
     ]
    },
    {
     "name": "stderr",
     "output_type": "stream",
     "text": [
      "100%|████████████████████████████████████████████████████████████| 655/655 [00:03<00:00, 213.54it/s]\n"
     ]
    },
    {
     "name": "stdout",
     "output_type": "stream",
     "text": [
      "Epoch: 369, loss: 2.1986209760185416, f1: 0.15350558117296068, precision: 0.08351751199304944, recall: 0.9475929196554286\n"
     ]
    },
    {
     "name": "stderr",
     "output_type": "stream",
     "text": [
      "100%|████████████████████████████████████████████████████████████| 218/218 [00:00<00:00, 584.47it/s]\n"
     ]
    },
    {
     "name": "stdout",
     "output_type": "stream",
     "text": [
      "val_loss: 2.3070554782491213, val_f1: 0.12883586593413063, val_precision: 0.07003450299369667, val_recall: 0.8032443106447885\n"
     ]
    },
    {
     "name": "stderr",
     "output_type": "stream",
     "text": [
      "100%|████████████████████████████████████████████████████████████| 655/655 [00:03<00:00, 210.60it/s]\n"
     ]
    },
    {
     "name": "stdout",
     "output_type": "stream",
     "text": [
      "Epoch: 370, loss: 2.1997126258966575, f1: 0.1527333061831962, precision: 0.0830688986841959, recall: 0.9465027326845941\n"
     ]
    },
    {
     "name": "stderr",
     "output_type": "stream",
     "text": [
      "100%|████████████████████████████████████████████████████████████| 218/218 [00:00<00:00, 584.53it/s]\n"
     ]
    },
    {
     "name": "stdout",
     "output_type": "stream",
     "text": [
      "val_loss: 2.305282982664371, val_f1: 0.1281041454078686, val_precision: 0.06955727031924377, val_recall: 0.8092874492253732\n"
     ]
    },
    {
     "name": "stderr",
     "output_type": "stream",
     "text": [
      "100%|████████████████████████████████████████████████████████████| 655/655 [00:03<00:00, 210.88it/s]\n"
     ]
    },
    {
     "name": "stdout",
     "output_type": "stream",
     "text": [
      "Epoch: 371, loss: 2.196675732754569, f1: 0.153720957302891, precision: 0.08363727465456793, recall: 0.9485900062641115\n"
     ]
    },
    {
     "name": "stderr",
     "output_type": "stream",
     "text": [
      "100%|████████████████████████████████████████████████████████████| 218/218 [00:00<00:00, 590.37it/s]\n"
     ]
    },
    {
     "name": "stdout",
     "output_type": "stream",
     "text": [
      "val_loss: 2.305264458470388, val_f1: 0.12911797923515278, val_precision: 0.07018197194989258, val_recall: 0.8057783095661654\n"
     ]
    },
    {
     "name": "stderr",
     "output_type": "stream",
     "text": [
      "100%|████████████████████████████████████████████████████████████| 655/655 [00:03<00:00, 210.73it/s]\n"
     ]
    },
    {
     "name": "stdout",
     "output_type": "stream",
     "text": [
      "Epoch: 372, loss: 2.1962813111661954, f1: 0.1538199996766041, precision: 0.08369523511972023, recall: 0.9486775701282588\n"
     ]
    },
    {
     "name": "stderr",
     "output_type": "stream",
     "text": [
      "100%|████████████████████████████████████████████████████████████| 218/218 [00:00<00:00, 586.48it/s]\n"
     ]
    },
    {
     "name": "stdout",
     "output_type": "stream",
     "text": [
      "val_loss: 2.307697399493751, val_f1: 0.12845504874277536, val_precision: 0.06984080827940221, val_recall: 0.7991226329169142\n"
     ]
    },
    {
     "name": "stderr",
     "output_type": "stream",
     "text": [
      "100%|████████████████████████████████████████████████████████████| 655/655 [00:03<00:00, 210.84it/s]\n"
     ]
    },
    {
     "name": "stdout",
     "output_type": "stream",
     "text": [
      "Epoch: 373, loss: 2.1981963087584226, f1: 0.15329065334371833, precision: 0.0833855330467736, recall: 0.9482070821842165\n"
     ]
    },
    {
     "name": "stderr",
     "output_type": "stream",
     "text": [
      "100%|████████████████████████████████████████████████████████████| 218/218 [00:00<00:00, 582.68it/s]\n"
     ]
    },
    {
     "name": "stdout",
     "output_type": "stream",
     "text": [
      "val_loss: 2.314562689547145, val_f1: 0.12591199033476136, val_precision: 0.06837472253705486, val_recall: 0.7943929280709783\n"
     ]
    },
    {
     "name": "stderr",
     "output_type": "stream",
     "text": [
      "100%|████████████████████████████████████████████████████████████| 655/655 [00:03<00:00, 210.02it/s]\n"
     ]
    },
    {
     "name": "stdout",
     "output_type": "stream",
     "text": [
      "Epoch: 374, loss: 2.202764147929563, f1: 0.1523095032261132, precision: 0.08283168011494266, recall: 0.9447496739052634\n"
     ]
    },
    {
     "name": "stderr",
     "output_type": "stream",
     "text": [
      "100%|████████████████████████████████████████████████████████████| 218/218 [00:00<00:00, 585.93it/s]\n"
     ]
    },
    {
     "name": "stdout",
     "output_type": "stream",
     "text": [
      "val_loss: 2.3083856986203326, val_f1: 0.12845668061147658, val_precision: 0.06981580918804324, val_recall: 0.8025375435111719\n"
     ]
    },
    {
     "name": "stderr",
     "output_type": "stream",
     "text": [
      "100%|████████████████████████████████████████████████████████████| 655/655 [00:03<00:00, 212.79it/s]\n"
     ]
    },
    {
     "name": "stdout",
     "output_type": "stream",
     "text": [
      "Epoch: 375, loss: 2.195996490871633, f1: 0.15395696839718753, precision: 0.08377812228641893, recall: 0.9484494291189063\n"
     ]
    },
    {
     "name": "stderr",
     "output_type": "stream",
     "text": [
      "100%|████████████████████████████████████████████████████████████| 218/218 [00:00<00:00, 592.90it/s]\n"
     ]
    },
    {
     "name": "stdout",
     "output_type": "stream",
     "text": [
      "val_loss: 2.3101618320023247, val_f1: 0.12853627746973406, val_precision: 0.06990543327191759, val_recall: 0.7969589054311087\n"
     ]
    },
    {
     "name": "stderr",
     "output_type": "stream",
     "text": [
      "100%|████████████████████████████████████████████████████████████| 655/655 [00:03<00:00, 210.55it/s]\n"
     ]
    },
    {
     "name": "stdout",
     "output_type": "stream",
     "text": [
      "Epoch: 376, loss: 2.1981330948021576, f1: 0.15325274748210113, precision: 0.08337005279773406, recall: 0.9473085493531845\n"
     ]
    },
    {
     "name": "stderr",
     "output_type": "stream",
     "text": [
      "100%|████████████████████████████████████████████████████████████| 218/218 [00:00<00:00, 580.18it/s]\n"
     ]
    },
    {
     "name": "stdout",
     "output_type": "stream",
     "text": [
      "val_loss: 2.3077264698820374, val_f1: 0.12877322546896477, val_precision: 0.07000816528634125, val_recall: 0.8018405209167287\n"
     ]
    },
    {
     "name": "stderr",
     "output_type": "stream",
     "text": [
      "100%|████████████████████████████████████████████████████████████| 655/655 [00:03<00:00, 212.33it/s]\n"
     ]
    },
    {
     "name": "stdout",
     "output_type": "stream",
     "text": [
      "Epoch: 377, loss: 2.200561899629258, f1: 0.1522882942774284, precision: 0.08280966737599091, recall: 0.9459834000536503\n"
     ]
    },
    {
     "name": "stderr",
     "output_type": "stream",
     "text": [
      "100%|████████████████████████████████████████████████████████████| 218/218 [00:00<00:00, 590.36it/s]\n"
     ]
    },
    {
     "name": "stdout",
     "output_type": "stream",
     "text": [
      "val_loss: 2.3067405541008767, val_f1: 0.12822082634147913, val_precision: 0.06965805564840419, val_recall: 0.8049918044050899\n"
     ]
    },
    {
     "name": "stderr",
     "output_type": "stream",
     "text": [
      "100%|████████████████████████████████████████████████████████████| 655/655 [00:03<00:00, 211.17it/s]\n"
     ]
    },
    {
     "name": "stdout",
     "output_type": "stream",
     "text": [
      "Epoch: 378, loss: 2.196342031464322, f1: 0.154031256665325, precision: 0.08382214235269841, recall: 0.9484465825648708\n"
     ]
    },
    {
     "name": "stderr",
     "output_type": "stream",
     "text": [
      "100%|████████████████████████████████████████████████████████████| 218/218 [00:00<00:00, 589.52it/s]\n"
     ]
    },
    {
     "name": "stdout",
     "output_type": "stream",
     "text": [
      "val_loss: 2.3063592522516165, val_f1: 0.12901588911203393, val_precision: 0.07015835878293995, val_recall: 0.8009627855152165\n"
     ]
    },
    {
     "name": "stderr",
     "output_type": "stream",
     "text": [
      "100%|████████████████████████████████████████████████████████████| 655/655 [00:03<00:00, 211.02it/s]\n"
     ]
    },
    {
     "name": "stdout",
     "output_type": "stream",
     "text": [
      "Epoch: 379, loss: 2.196307208610855, f1: 0.1540528716281013, precision: 0.08383767526767409, recall: 0.9480972379218531\n"
     ]
    },
    {
     "name": "stderr",
     "output_type": "stream",
     "text": [
      "100%|████████████████████████████████████████████████████████████| 218/218 [00:00<00:00, 587.73it/s]\n"
     ]
    },
    {
     "name": "stdout",
     "output_type": "stream",
     "text": [
      "val_loss: 2.3096784170067637, val_f1: 0.12861871659034396, val_precision: 0.0699625308027303, val_recall: 0.7958797391401519\n"
     ]
    },
    {
     "name": "stderr",
     "output_type": "stream",
     "text": [
      "100%|████████████████████████████████████████████████████████████| 655/655 [00:03<00:00, 213.82it/s]\n"
     ]
    },
    {
     "name": "stdout",
     "output_type": "stream",
     "text": [
      "Epoch: 380, loss: 2.196439027786255, f1: 0.15399946565841374, precision: 0.08380700191838368, recall: 0.9479743891999922\n"
     ]
    },
    {
     "name": "stderr",
     "output_type": "stream",
     "text": [
      "100%|████████████████████████████████████████████████████████████| 218/218 [00:00<00:00, 587.76it/s]\n"
     ]
    },
    {
     "name": "stdout",
     "output_type": "stream",
     "text": [
      "val_loss: 2.305472034926808, val_f1: 0.12886122566364458, val_precision: 0.07003743357426666, val_recall: 0.8048330727246923\n"
     ]
    },
    {
     "name": "stderr",
     "output_type": "stream",
     "text": [
      "100%|████████████████████████████████████████████████████████████| 655/655 [00:03<00:00, 211.77it/s]\n"
     ]
    },
    {
     "name": "stdout",
     "output_type": "stream",
     "text": [
      "Epoch: 381, loss: 2.1963096284684336, f1: 0.15403110939748876, precision: 0.08382162804082605, recall: 0.9485012656859769\n"
     ]
    },
    {
     "name": "stderr",
     "output_type": "stream",
     "text": [
      "100%|████████████████████████████████████████████████████████████| 218/218 [00:00<00:00, 583.78it/s]\n"
     ]
    },
    {
     "name": "stdout",
     "output_type": "stream",
     "text": [
      "val_loss: 2.308649110684701, val_f1: 0.12835656099147688, val_precision: 0.06978619765007543, val_recall: 0.7986491319783237\n"
     ]
    },
    {
     "name": "stderr",
     "output_type": "stream",
     "text": [
      "100%|████████████████████████████████████████████████████████████| 655/655 [00:03<00:00, 210.56it/s]\n"
     ]
    },
    {
     "name": "stdout",
     "output_type": "stream",
     "text": [
      "Epoch: 382, loss: 2.197346263896418, f1: 0.15419774858611793, precision: 0.083923649327929, recall: 0.9480779742466584\n"
     ]
    },
    {
     "name": "stderr",
     "output_type": "stream",
     "text": [
      "100%|████████████████████████████████████████████████████████████| 218/218 [00:00<00:00, 584.39it/s]\n"
     ]
    },
    {
     "name": "stdout",
     "output_type": "stream",
     "text": [
      "val_loss: 2.308044308095897, val_f1: 0.12855119285836625, val_precision: 0.06989657269777952, val_recall: 0.7992639861522465\n"
     ]
    },
    {
     "name": "stderr",
     "output_type": "stream",
     "text": [
      "100%|████████████████████████████████████████████████████████████| 655/655 [00:03<00:00, 208.70it/s]\n"
     ]
    },
    {
     "name": "stdout",
     "output_type": "stream",
     "text": [
      "Epoch: 383, loss: 2.1954416283214364, f1: 0.1545070328217398, precision: 0.08410312285476172, recall: 0.9485598968185541\n"
     ]
    },
    {
     "name": "stderr",
     "output_type": "stream",
     "text": [
      "100%|████████████████████████████████████████████████████████████| 218/218 [00:00<00:00, 582.90it/s]\n"
     ]
    },
    {
     "name": "stdout",
     "output_type": "stream",
     "text": [
      "val_loss: 2.308170373560092, val_f1: 0.12808730858717746, val_precision: 0.06962931968716032, val_recall: 0.7983500200127243\n"
     ]
    },
    {
     "name": "stderr",
     "output_type": "stream",
     "text": [
      "100%|████████████████████████████████████████████████████████████| 655/655 [00:03<00:00, 210.96it/s]\n"
     ]
    },
    {
     "name": "stdout",
     "output_type": "stream",
     "text": [
      "Epoch: 384, loss: 2.197424747288682, f1: 0.15398117881039539, precision: 0.08379663500778434, recall: 0.9479149415292812\n"
     ]
    },
    {
     "name": "stderr",
     "output_type": "stream",
     "text": [
      "100%|████████████████████████████████████████████████████████████| 218/218 [00:00<00:00, 588.35it/s]\n"
     ]
    },
    {
     "name": "stdout",
     "output_type": "stream",
     "text": [
      "val_loss: 2.30789000752869, val_f1: 0.1284614177159303, val_precision: 0.06982682962525943, val_recall: 0.8014528189503819\n"
     ]
    },
    {
     "name": "stderr",
     "output_type": "stream",
     "text": [
      "100%|████████████████████████████████████████████████████████████| 655/655 [00:03<00:00, 211.44it/s]\n"
     ]
    },
    {
     "name": "stdout",
     "output_type": "stream",
     "text": [
      "Epoch: 385, loss: 2.1975341525696614, f1: 0.15395456391465634, precision: 0.08378039440495595, recall: 0.9479759583946403\n"
     ]
    },
    {
     "name": "stderr",
     "output_type": "stream",
     "text": [
      "100%|████████████████████████████████████████████████████████████| 218/218 [00:00<00:00, 588.20it/s]\n"
     ]
    },
    {
     "name": "stdout",
     "output_type": "stream",
     "text": [
      "val_loss: 2.3063347973954786, val_f1: 0.12875167934642925, val_precision: 0.06997584755887029, val_recall: 0.8044192142989657\n"
     ]
    },
    {
     "name": "stderr",
     "output_type": "stream",
     "text": [
      "100%|████████████████████████████████████████████████████████████| 655/655 [00:03<00:00, 210.99it/s]\n"
     ]
    },
    {
     "name": "stdout",
     "output_type": "stream",
     "text": [
      "Epoch: 386, loss: 2.1943233538219946, f1: 0.15478828195386798, precision: 0.08426186629208444, recall: 0.9495683737383545\n"
     ]
    },
    {
     "name": "stderr",
     "output_type": "stream",
     "text": [
      "100%|████████████████████████████████████████████████████████████| 218/218 [00:00<00:00, 581.73it/s]\n"
     ]
    },
    {
     "name": "stdout",
     "output_type": "stream",
     "text": [
      "val_loss: 2.307205926114266, val_f1: 0.12855186030305749, val_precision: 0.06988614089701564, val_recall: 0.8006823477121668\n"
     ]
    },
    {
     "name": "stderr",
     "output_type": "stream",
     "text": [
      "100%|████████████████████████████████████████████████████████████| 655/655 [00:03<00:00, 213.51it/s]\n"
     ]
    },
    {
     "name": "stdout",
     "output_type": "stream",
     "text": [
      "Epoch: 387, loss: 2.197964376438665, f1: 0.15312361424145252, precision: 0.08329109329986208, recall: 0.9476364134832193\n"
     ]
    },
    {
     "name": "stderr",
     "output_type": "stream",
     "text": [
      "100%|████████████████████████████████████████████████████████████| 218/218 [00:00<00:00, 587.30it/s]\n"
     ]
    },
    {
     "name": "stdout",
     "output_type": "stream",
     "text": [
      "val_loss: 2.3074822133287376, val_f1: 0.12857157940102387, val_precision: 0.06988483615574179, val_recall: 0.8023869629026553\n"
     ]
    },
    {
     "name": "stderr",
     "output_type": "stream",
     "text": [
      "100%|████████████████████████████████████████████████████████████| 655/655 [00:03<00:00, 209.74it/s]\n"
     ]
    },
    {
     "name": "stdout",
     "output_type": "stream",
     "text": [
      "Epoch: 388, loss: 2.195371833375392, f1: 0.15428179306975423, precision: 0.0839683880823316, recall: 0.9487227764748435\n"
     ]
    },
    {
     "name": "stderr",
     "output_type": "stream",
     "text": [
      "100%|████████████████████████████████████████████████████████████| 218/218 [00:00<00:00, 587.28it/s]\n"
     ]
    },
    {
     "name": "stdout",
     "output_type": "stream",
     "text": [
      "val_loss: 2.308049480302618, val_f1: 0.128334833485359, val_precision: 0.06977009102958467, val_recall: 0.7990767048039568\n"
     ]
    },
    {
     "name": "stderr",
     "output_type": "stream",
     "text": [
      "100%|████████████████████████████████████████████████████████████| 655/655 [00:03<00:00, 213.29it/s]\n"
     ]
    },
    {
     "name": "stdout",
     "output_type": "stream",
     "text": [
      "Epoch: 389, loss: 2.1944867972199242, f1: 0.1548829021896058, precision: 0.08432095260821454, recall: 0.9491875123431665\n"
     ]
    },
    {
     "name": "stderr",
     "output_type": "stream",
     "text": [
      "100%|████████████████████████████████████████████████████████████| 218/218 [00:00<00:00, 582.19it/s]\n"
     ]
    },
    {
     "name": "stdout",
     "output_type": "stream",
     "text": [
      "val_loss: 2.3087528842851657, val_f1: 0.1284150348828596, val_precision: 0.06983519215756225, val_recall: 0.7967667899547367\n"
     ]
    },
    {
     "name": "stderr",
     "output_type": "stream",
     "text": [
      "100%|████████████████████████████████████████████████████████████| 655/655 [00:03<00:00, 209.08it/s]\n"
     ]
    },
    {
     "name": "stdout",
     "output_type": "stream",
     "text": [
      "Epoch: 390, loss: 2.1939802660286882, f1: 0.1549062402179895, precision: 0.08433316249528346, recall: 0.9493933608513752\n"
     ]
    },
    {
     "name": "stderr",
     "output_type": "stream",
     "text": [
      "100%|████████████████████████████████████████████████████████████| 218/218 [00:00<00:00, 586.02it/s]\n"
     ]
    },
    {
     "name": "stdout",
     "output_type": "stream",
     "text": [
      "val_loss: 2.306001729101216, val_f1: 0.12767539420736895, val_precision: 0.06935594714067261, val_recall: 0.8023420316637109\n"
     ]
    },
    {
     "name": "stderr",
     "output_type": "stream",
     "text": [
      "100%|████████████████████████████████████████████████████████████| 655/655 [00:03<00:00, 211.65it/s]\n"
     ]
    },
    {
     "name": "stdout",
     "output_type": "stream",
     "text": [
      "Epoch: 391, loss: 2.196818948884047, f1: 0.15402560862284, precision: 0.0838169892560264, recall: 0.9486781214939729\n"
     ]
    },
    {
     "name": "stderr",
     "output_type": "stream",
     "text": [
      "100%|████████████████████████████████████████████████████████████| 218/218 [00:00<00:00, 588.45it/s]\n"
     ]
    },
    {
     "name": "stdout",
     "output_type": "stream",
     "text": [
      "val_loss: 2.30948187506527, val_f1: 0.12771460580681623, val_precision: 0.06943222375719064, val_recall: 0.7953035854691759\n"
     ]
    },
    {
     "name": "stderr",
     "output_type": "stream",
     "text": [
      "100%|████████████████████████████████████████████████████████████| 655/655 [00:03<00:00, 212.67it/s]\n"
     ]
    },
    {
     "name": "stdout",
     "output_type": "stream",
     "text": [
      "Epoch: 392, loss: 2.199269979964686, f1: 0.15356178745800705, precision: 0.08355301573005228, recall: 0.9473065045953707\n"
     ]
    },
    {
     "name": "stderr",
     "output_type": "stream",
     "text": [
      "100%|████████████████████████████████████████████████████████████| 218/218 [00:00<00:00, 589.22it/s]\n"
     ]
    },
    {
     "name": "stdout",
     "output_type": "stream",
     "text": [
      "val_loss: 2.3106764388193777, val_f1: 0.12762867811515852, val_precision: 0.06936093491241507, val_recall: 0.7980069818846677\n"
     ]
    },
    {
     "name": "stderr",
     "output_type": "stream",
     "text": [
      "100%|████████████████████████████████████████████████████████████| 655/655 [00:03<00:00, 208.64it/s]\n"
     ]
    },
    {
     "name": "stdout",
     "output_type": "stream",
     "text": [
      "Epoch: 393, loss: 2.197081488780393, f1: 0.15414017041359696, precision: 0.08388885364562046, recall: 0.9481655164529349\n"
     ]
    },
    {
     "name": "stderr",
     "output_type": "stream",
     "text": [
      "100%|████████████████████████████████████████████████████████████| 218/218 [00:00<00:00, 589.92it/s]\n"
     ]
    },
    {
     "name": "stdout",
     "output_type": "stream",
     "text": [
      "val_loss: 2.310015988185865, val_f1: 0.1278438605899939, val_precision: 0.06952549390112468, val_recall: 0.793103119238801\n"
     ]
    },
    {
     "name": "stderr",
     "output_type": "stream",
     "text": [
      "100%|████████████████████████████████████████████████████████████| 655/655 [00:03<00:00, 210.68it/s]\n"
     ]
    },
    {
     "name": "stdout",
     "output_type": "stream",
     "text": [
      "Epoch: 394, loss: 2.1937628109946505, f1: 0.1552127592943144, precision: 0.08451507650813415, recall: 0.9493699384099654\n"
     ]
    },
    {
     "name": "stderr",
     "output_type": "stream",
     "text": [
      "100%|████████████████████████████████████████████████████████████| 218/218 [00:00<00:00, 589.52it/s]\n"
     ]
    },
    {
     "name": "stdout",
     "output_type": "stream",
     "text": [
      "val_loss: 2.3078994983379992, val_f1: 0.1287992598440704, val_precision: 0.07006827022649621, val_recall: 0.7960234605664507\n"
     ]
    },
    {
     "name": "stderr",
     "output_type": "stream",
     "text": [
      "100%|████████████████████████████████████████████████████████████| 655/655 [00:03<00:00, 212.11it/s]\n"
     ]
    },
    {
     "name": "stdout",
     "output_type": "stream",
     "text": [
      "Epoch: 395, loss: 2.1934723737585635, f1: 0.15532525706025388, precision: 0.0845785989568263, recall: 0.9497721804917314\n"
     ]
    },
    {
     "name": "stderr",
     "output_type": "stream",
     "text": [
      "100%|████████████████████████████████████████████████████████████| 218/218 [00:00<00:00, 584.23it/s]\n"
     ]
    },
    {
     "name": "stdout",
     "output_type": "stream",
     "text": [
      "val_loss: 2.3076588008381904, val_f1: 0.12908754344235268, val_precision: 0.07020900816092729, val_recall: 0.7998879206016523\n"
     ]
    },
    {
     "name": "stderr",
     "output_type": "stream",
     "text": [
      "100%|████████████████████████████████████████████████████████████| 655/655 [00:03<00:00, 211.76it/s]\n"
     ]
    },
    {
     "name": "stdout",
     "output_type": "stream",
     "text": [
      "Epoch: 396, loss: 2.195406579880314, f1: 0.1544475567372662, precision: 0.08405989766376847, recall: 0.9495771835778506\n"
     ]
    },
    {
     "name": "stderr",
     "output_type": "stream",
     "text": [
      "100%|████████████████████████████████████████████████████████████| 218/218 [00:00<00:00, 592.56it/s]\n"
     ]
    },
    {
     "name": "stdout",
     "output_type": "stream",
     "text": [
      "val_loss: 2.3086825212754243, val_f1: 0.12787519304029474, val_precision: 0.0695144312238372, val_recall: 0.7969728155967293\n"
     ]
    },
    {
     "name": "stderr",
     "output_type": "stream",
     "text": [
      "100%|████████████████████████████████████████████████████████████| 655/655 [00:03<00:00, 213.49it/s]\n"
     ]
    },
    {
     "name": "stdout",
     "output_type": "stream",
     "text": [
      "Epoch: 397, loss: 2.193551285303276, f1: 0.1551223570631227, precision: 0.08445336864123704, recall: 0.9503949685861136\n"
     ]
    },
    {
     "name": "stderr",
     "output_type": "stream",
     "text": [
      "100%|████████████████████████████████████████████████████████████| 218/218 [00:00<00:00, 585.46it/s]\n"
     ]
    },
    {
     "name": "stdout",
     "output_type": "stream",
     "text": [
      "val_loss: 2.3087992211547466, val_f1: 0.12780178957484314, val_precision: 0.06945468242058035, val_recall: 0.7991332486955398\n"
     ]
    },
    {
     "name": "stderr",
     "output_type": "stream",
     "text": [
      "100%|████████████████████████████████████████████████████████████| 655/655 [00:03<00:00, 209.91it/s]\n"
     ]
    },
    {
     "name": "stdout",
     "output_type": "stream",
     "text": [
      "Epoch: 398, loss: 2.1976327608559876, f1: 0.15378860735186423, precision: 0.08367820750737122, recall: 0.9484771097889383\n"
     ]
    },
    {
     "name": "stderr",
     "output_type": "stream",
     "text": [
      "100%|████████████████████████████████████████████████████████████| 218/218 [00:00<00:00, 583.98it/s]\n"
     ]
    },
    {
     "name": "stdout",
     "output_type": "stream",
     "text": [
      "val_loss: 2.3082248273245787, val_f1: 0.1280520158317097, val_precision: 0.06961795551715197, val_recall: 0.7971032793642184\n"
     ]
    },
    {
     "name": "stderr",
     "output_type": "stream",
     "text": [
      "100%|████████████████████████████████████████████████████████████| 655/655 [00:03<00:00, 211.33it/s]\n"
     ]
    },
    {
     "name": "stdout",
     "output_type": "stream",
     "text": [
      "Epoch: 399, loss: 2.1947354946427673, f1: 0.15464274297465755, precision: 0.08417332517054245, recall: 0.9498600320051644\n"
     ]
    },
    {
     "name": "stderr",
     "output_type": "stream",
     "text": [
      "100%|████████████████████████████████████████████████████████████| 218/218 [00:00<00:00, 586.16it/s]\n"
     ]
    },
    {
     "name": "stdout",
     "output_type": "stream",
     "text": [
      "val_loss: 2.310184557776932, val_f1: 0.12727594225938466, val_precision: 0.06914179102376684, val_recall: 0.7994526321188026\n"
     ]
    },
    {
     "name": "stderr",
     "output_type": "stream",
     "text": [
      "100%|████████████████████████████████████████████████████████████| 655/655 [00:03<00:00, 210.32it/s]\n"
     ]
    },
    {
     "name": "stdout",
     "output_type": "stream",
     "text": [
      "Epoch: 400, loss: 2.1933427535850583, f1: 0.1549816086726815, precision: 0.08437018001466307, recall: 0.9503643087758362\n"
     ]
    },
    {
     "name": "stderr",
     "output_type": "stream",
     "text": [
      "100%|████████████████████████████████████████████████████████████| 218/218 [00:00<00:00, 586.20it/s]\n"
     ]
    },
    {
     "name": "stdout",
     "output_type": "stream",
     "text": [
      "val_loss: 2.3085351381280006, val_f1: 0.12858309252953412, val_precision: 0.0699316901325701, val_recall: 0.7971457106257798\n"
     ]
    },
    {
     "name": "stderr",
     "output_type": "stream",
     "text": [
      "100%|████████████████████████████████████████████████████████████| 655/655 [00:03<00:00, 209.82it/s]\n"
     ]
    },
    {
     "name": "stdout",
     "output_type": "stream",
     "text": [
      "Epoch: 401, loss: 2.1924129162125916, f1: 0.15550425922216277, precision: 0.08467640331270927, recall: 0.9508247318158622\n"
     ]
    },
    {
     "name": "stderr",
     "output_type": "stream",
     "text": [
      "100%|████████████████████████████████████████████████████████████| 218/218 [00:00<00:00, 590.09it/s]\n"
     ]
    },
    {
     "name": "stdout",
     "output_type": "stream",
     "text": [
      "val_loss: 2.307588364553014, val_f1: 0.12873897661175443, val_precision: 0.06997980385454833, val_recall: 0.8029074526708061\n"
     ]
    },
    {
     "name": "stderr",
     "output_type": "stream",
     "text": [
      "100%|████████████████████████████████████████████████████████████| 655/655 [00:03<00:00, 211.07it/s]\n"
     ]
    },
    {
     "name": "stdout",
     "output_type": "stream",
     "text": [
      "Epoch: 402, loss: 2.1950776364967113, f1: 0.15471671657014455, precision: 0.08421547878889069, recall: 0.9500738943806132\n"
     ]
    },
    {
     "name": "stderr",
     "output_type": "stream",
     "text": [
      "100%|████████████████████████████████████████████████████████████| 218/218 [00:00<00:00, 591.39it/s]\n"
     ]
    },
    {
     "name": "stdout",
     "output_type": "stream",
     "text": [
      "val_loss: 2.307581137626543, val_f1: 0.12826988029029346, val_precision: 0.06974319118254502, val_recall: 0.7975704657648681\n"
     ]
    },
    {
     "name": "stderr",
     "output_type": "stream",
     "text": [
      "100%|████████████████████████████████████████████████████████████| 655/655 [00:03<00:00, 209.43it/s]\n"
     ]
    },
    {
     "name": "stdout",
     "output_type": "stream",
     "text": [
      "Epoch: 403, loss: 2.1927466198688244, f1: 0.15561605154584154, precision: 0.08474635024562137, recall: 0.9503657878810213\n"
     ]
    },
    {
     "name": "stderr",
     "output_type": "stream",
     "text": [
      "100%|████████████████████████████████████████████████████████████| 218/218 [00:00<00:00, 582.54it/s]\n"
     ]
    },
    {
     "name": "stdout",
     "output_type": "stream",
     "text": [
      "val_loss: 2.3108765666091116, val_f1: 0.12833727796395025, val_precision: 0.06981954325648418, val_recall: 0.7928332966675452\n"
     ]
    },
    {
     "name": "stderr",
     "output_type": "stream",
     "text": [
      "100%|████████████████████████████████████████████████████████████| 655/655 [00:03<00:00, 213.52it/s]\n"
     ]
    },
    {
     "name": "stdout",
     "output_type": "stream",
     "text": [
      "Epoch: 404, loss: 2.1938314740894405, f1: 0.15507767598054203, precision: 0.08443043449438596, recall: 0.9499450204026608\n"
     ]
    },
    {
     "name": "stderr",
     "output_type": "stream",
     "text": [
      "100%|████████████████████████████████████████████████████████████| 218/218 [00:00<00:00, 586.31it/s]\n"
     ]
    },
    {
     "name": "stdout",
     "output_type": "stream",
     "text": [
      "val_loss: 2.31025343094397, val_f1: 0.12785465856548606, val_precision: 0.06952465997598724, val_recall: 0.7940438175146732\n"
     ]
    },
    {
     "name": "stderr",
     "output_type": "stream",
     "text": [
      "100%|████████████████████████████████████████████████████████████| 655/655 [00:03<00:00, 212.48it/s]\n"
     ]
    },
    {
     "name": "stdout",
     "output_type": "stream",
     "text": [
      "Epoch: 405, loss: 2.1944148366687863, f1: 0.1548587374697248, precision: 0.0842976447585828, recall: 0.9503277673976112\n"
     ]
    },
    {
     "name": "stderr",
     "output_type": "stream",
     "text": [
      "100%|████████████████████████████████████████████████████████████| 218/218 [00:00<00:00, 593.26it/s]\n"
     ]
    },
    {
     "name": "stdout",
     "output_type": "stream",
     "text": [
      "val_loss: 2.3078578289495697, val_f1: 0.1283554328857207, val_precision: 0.06980283460430288, val_recall: 0.7963897641919074\n"
     ]
    },
    {
     "name": "stderr",
     "output_type": "stream",
     "text": [
      "100%|████████████████████████████████████████████████████████████| 655/655 [00:03<00:00, 209.60it/s]\n"
     ]
    },
    {
     "name": "stdout",
     "output_type": "stream",
     "text": [
      "Epoch: 406, loss: 2.192884702354897, f1: 0.15553793433588559, precision: 0.08470115924453121, recall: 0.9502220364927335\n"
     ]
    },
    {
     "name": "stderr",
     "output_type": "stream",
     "text": [
      "100%|████████████████████████████████████████████████████████████| 218/218 [00:00<00:00, 589.02it/s]\n"
     ]
    },
    {
     "name": "stdout",
     "output_type": "stream",
     "text": [
      "val_loss: 2.308328319580183, val_f1: 0.12798545619321608, val_precision: 0.06957770024272485, val_recall: 0.7972227500392757\n"
     ]
    },
    {
     "name": "stderr",
     "output_type": "stream",
     "text": [
      "100%|████████████████████████████████████████████████████████████| 655/655 [00:03<00:00, 210.47it/s]\n"
     ]
    },
    {
     "name": "stdout",
     "output_type": "stream",
     "text": [
      "Epoch: 407, loss: 2.1940217296585782, f1: 0.15484273561248177, precision: 0.08429029915154776, recall: 0.9500561186375509\n"
     ]
    },
    {
     "name": "stderr",
     "output_type": "stream",
     "text": [
      "100%|████████████████████████████████████████████████████████████| 218/218 [00:00<00:00, 585.71it/s]\n"
     ]
    },
    {
     "name": "stdout",
     "output_type": "stream",
     "text": [
      "val_loss: 2.3089703285912857, val_f1: 0.1285159544960222, val_precision: 0.06990812282471004, val_recall: 0.7950511194697214\n"
     ]
    },
    {
     "name": "stderr",
     "output_type": "stream",
     "text": [
      "100%|████████████████████████████████████████████████████████████| 655/655 [00:03<00:00, 211.52it/s]\n"
     ]
    },
    {
     "name": "stdout",
     "output_type": "stream",
     "text": [
      "Epoch: 408, loss: 2.192777433559185, f1: 0.1553871087611593, precision: 0.08460904027029645, recall: 0.9505589594367806\n"
     ]
    },
    {
     "name": "stderr",
     "output_type": "stream",
     "text": [
      "100%|████████████████████████████████████████████████████████████| 218/218 [00:00<00:00, 594.16it/s]\n"
     ]
    },
    {
     "name": "stdout",
     "output_type": "stream",
     "text": [
      "val_loss: 2.309252992135669, val_f1: 0.1281257940791925, val_precision: 0.06965089380877827, val_recall: 0.7985040477109612\n"
     ]
    },
    {
     "name": "stderr",
     "output_type": "stream",
     "text": [
      "100%|████████████████████████████████████████████████████████████| 655/655 [00:03<00:00, 210.41it/s]\n"
     ]
    },
    {
     "name": "stdout",
     "output_type": "stream",
     "text": [
      "Epoch: 409, loss: 2.195812910112716, f1: 0.15434371772771407, precision: 0.0840042955832172, recall: 0.9488222004803082\n"
     ]
    },
    {
     "name": "stderr",
     "output_type": "stream",
     "text": [
      "100%|████████████████████████████████████████████████████████████| 218/218 [00:00<00:00, 587.54it/s]\n"
     ]
    },
    {
     "name": "stdout",
     "output_type": "stream",
     "text": [
      "val_loss: 2.3106519366623064, val_f1: 0.12796465677145322, val_precision: 0.06959228213062646, val_recall: 0.7937099753169838\n"
     ]
    },
    {
     "name": "stderr",
     "output_type": "stream",
     "text": [
      "100%|████████████████████████████████████████████████████████████| 655/655 [00:03<00:00, 209.66it/s]\n"
     ]
    },
    {
     "name": "stdout",
     "output_type": "stream",
     "text": [
      "Epoch: 410, loss: 2.193719961261021, f1: 0.15521386417281155, precision: 0.08451153234941244, recall: 0.9499001392881379\n"
     ]
    },
    {
     "name": "stderr",
     "output_type": "stream",
     "text": [
      "100%|████████████████████████████████████████████████████████████| 218/218 [00:00<00:00, 585.65it/s]\n"
     ]
    },
    {
     "name": "stdout",
     "output_type": "stream",
     "text": [
      "val_loss: 2.309066040800252, val_f1: 0.12793751551426943, val_precision: 0.06954225265408157, val_recall: 0.7981583541686382\n"
     ]
    },
    {
     "name": "stderr",
     "output_type": "stream",
     "text": [
      "100%|████████████████████████████████████████████████████████████| 655/655 [00:03<00:00, 212.08it/s]\n"
     ]
    },
    {
     "name": "stdout",
     "output_type": "stream",
     "text": [
      "Epoch: 411, loss: 2.1960018642986094, f1: 0.15449807541681373, precision: 0.0840907220529634, recall: 0.9494631777282889\n"
     ]
    },
    {
     "name": "stderr",
     "output_type": "stream",
     "text": [
      "100%|████████████████████████████████████████████████████████████| 218/218 [00:00<00:00, 570.64it/s]\n"
     ]
    },
    {
     "name": "stdout",
     "output_type": "stream",
     "text": [
      "val_loss: 2.3053468777499067, val_f1: 0.12885228064251458, val_precision: 0.07005066288113936, val_recall: 0.8023958990880109\n"
     ]
    },
    {
     "name": "stderr",
     "output_type": "stream",
     "text": [
      "100%|████████████████████████████████████████████████████████████| 655/655 [00:03<00:00, 210.26it/s]\n"
     ]
    },
    {
     "name": "stdout",
     "output_type": "stream",
     "text": [
      "Epoch: 412, loss: 2.192081691290586, f1: 0.15540983862390984, precision: 0.08462123283405454, recall: 0.9507212257567252\n"
     ]
    },
    {
     "name": "stderr",
     "output_type": "stream",
     "text": [
      "100%|████████████████████████████████████████████████████████████| 218/218 [00:00<00:00, 587.06it/s]\n"
     ]
    },
    {
     "name": "stdout",
     "output_type": "stream",
     "text": [
      "val_loss: 2.309435105105059, val_f1: 0.12857634096768505, val_precision: 0.06996965833828536, val_recall: 0.7917329824845726\n"
     ]
    },
    {
     "name": "stderr",
     "output_type": "stream",
     "text": [
      "100%|████████████████████████████████████████████████████████████| 655/655 [00:03<00:00, 211.30it/s]\n"
     ]
    },
    {
     "name": "stdout",
     "output_type": "stream",
     "text": [
      "Epoch: 413, loss: 2.1937988576998237, f1: 0.15514779015854308, precision: 0.08447137503095596, recall: 0.9500243030431617\n"
     ]
    },
    {
     "name": "stderr",
     "output_type": "stream",
     "text": [
      "100%|████████████████████████████████████████████████████████████| 218/218 [00:00<00:00, 580.71it/s]\n"
     ]
    },
    {
     "name": "stdout",
     "output_type": "stream",
     "text": [
      "val_loss: 2.310392068340144, val_f1: 0.12793154434777193, val_precision: 0.06957208382504043, val_recall: 0.7937896322083036\n"
     ]
    },
    {
     "name": "stderr",
     "output_type": "stream",
     "text": [
      "100%|████████████████████████████████████████████████████████████| 655/655 [00:03<00:00, 212.33it/s]\n"
     ]
    },
    {
     "name": "stdout",
     "output_type": "stream",
     "text": [
      "Epoch: 414, loss: 2.1924644923392145, f1: 0.15546911915237627, precision: 0.08465467973448734, recall: 0.9509364136302744\n"
     ]
    },
    {
     "name": "stderr",
     "output_type": "stream",
     "text": [
      "100%|████████████████████████████████████████████████████████████| 218/218 [00:00<00:00, 585.18it/s]\n"
     ]
    },
    {
     "name": "stdout",
     "output_type": "stream",
     "text": [
      "val_loss: 2.3113320696791377, val_f1: 0.12804883505743458, val_precision: 0.06966374249522224, val_recall: 0.7909068128931414\n"
     ]
    },
    {
     "name": "stderr",
     "output_type": "stream",
     "text": [
      "100%|████████████████████████████████████████████████████████████| 655/655 [00:03<00:00, 211.70it/s]\n"
     ]
    },
    {
     "name": "stdout",
     "output_type": "stream",
     "text": [
      "Epoch: 415, loss: 2.199561017524195, f1: 0.15324131448675452, precision: 0.08337740322845127, recall: 0.9454893596299732\n"
     ]
    },
    {
     "name": "stderr",
     "output_type": "stream",
     "text": [
      "100%|████████████████████████████████████████████████████████████| 218/218 [00:00<00:00, 585.09it/s]\n"
     ]
    },
    {
     "name": "stdout",
     "output_type": "stream",
     "text": [
      "val_loss: 2.3056222307025838, val_f1: 0.1285010070074293, val_precision: 0.06982967902056086, val_recall: 0.8041675733316929\n"
     ]
    },
    {
     "name": "stderr",
     "output_type": "stream",
     "text": [
      "100%|████████████████████████████████████████████████████████████| 655/655 [00:03<00:00, 210.09it/s]\n"
     ]
    },
    {
     "name": "stdout",
     "output_type": "stream",
     "text": [
      "Epoch: 416, loss: 2.199025124993943, f1: 0.15408934144925565, precision: 0.08386723235434362, recall: 0.9470817050861038\n"
     ]
    },
    {
     "name": "stderr",
     "output_type": "stream",
     "text": [
      "100%|████████████████████████████████████████████████████████████| 218/218 [00:00<00:00, 590.13it/s]\n"
     ]
    },
    {
     "name": "stdout",
     "output_type": "stream",
     "text": [
      "val_loss: 2.306915972484361, val_f1: 0.12875151215722014, val_precision: 0.06999350231944011, val_recall: 0.8020804855254812\n"
     ]
    },
    {
     "name": "stderr",
     "output_type": "stream",
     "text": [
      "100%|████████████████████████████████████████████████████████████| 655/655 [00:03<00:00, 213.28it/s]\n"
     ]
    },
    {
     "name": "stdout",
     "output_type": "stream",
     "text": [
      "Epoch: 417, loss: 2.192892450139723, f1: 0.1554734873085218, precision: 0.08465776093773374, recall: 0.9508744727564222\n"
     ]
    },
    {
     "name": "stderr",
     "output_type": "stream",
     "text": [
      "100%|████████████████████████████████████████████████████████████| 218/218 [00:00<00:00, 584.74it/s]\n"
     ]
    },
    {
     "name": "stdout",
     "output_type": "stream",
     "text": [
      "val_loss: 2.3058013087565747, val_f1: 0.1293804116091075, val_precision: 0.07038871182017711, val_recall: 0.7990621123292031\n"
     ]
    },
    {
     "name": "stderr",
     "output_type": "stream",
     "text": [
      "100%|████████████████████████████████████████████████████████████| 655/655 [00:03<00:00, 211.85it/s]\n"
     ]
    },
    {
     "name": "stdout",
     "output_type": "stream",
     "text": [
      "Epoch: 418, loss: 2.1915210764826707, f1: 0.15573291403286396, precision: 0.08480994220083679, recall: 0.9510857362783592\n"
     ]
    },
    {
     "name": "stderr",
     "output_type": "stream",
     "text": [
      "100%|████████████████████████████████████████████████████████████| 218/218 [00:00<00:00, 585.57it/s]\n"
     ]
    },
    {
     "name": "stdout",
     "output_type": "stream",
     "text": [
      "val_loss: 2.3054170039815642, val_f1: 0.12866605344644083, val_precision: 0.06997387009296874, val_recall: 0.7980421648933254\n"
     ]
    },
    {
     "name": "stderr",
     "output_type": "stream",
     "text": [
      "100%|████████████████████████████████████████████████████████████| 655/655 [00:03<00:00, 211.65it/s]\n"
     ]
    },
    {
     "name": "stdout",
     "output_type": "stream",
     "text": [
      "Epoch: 419, loss: 2.191667902924632, f1: 0.15571594286914503, precision: 0.08480339388981575, recall: 0.9506434290463688\n"
     ]
    },
    {
     "name": "stderr",
     "output_type": "stream",
     "text": [
      "100%|████████████████████████████████████████████████████████████| 218/218 [00:00<00:00, 585.81it/s]\n"
     ]
    },
    {
     "name": "stdout",
     "output_type": "stream",
     "text": [
      "val_loss: 2.3090711919539566, val_f1: 0.12856693137747952, val_precision: 0.06995610851119485, val_recall: 0.7927559061881599\n"
     ]
    },
    {
     "name": "stderr",
     "output_type": "stream",
     "text": [
      "100%|████████████████████████████████████████████████████████████| 655/655 [00:03<00:00, 211.33it/s]\n"
     ]
    },
    {
     "name": "stdout",
     "output_type": "stream",
     "text": [
      "Epoch: 420, loss: 2.1936690296835573, f1: 0.1555825049816335, precision: 0.08472796006711157, recall: 0.9501761552031713\n"
     ]
    },
    {
     "name": "stderr",
     "output_type": "stream",
     "text": [
      "100%|████████████████████████████████████████████████████████████| 218/218 [00:00<00:00, 589.13it/s]\n"
     ]
    },
    {
     "name": "stdout",
     "output_type": "stream",
     "text": [
      "val_loss: 2.3068436009621403, val_f1: 0.1281306453138653, val_precision: 0.06964514795114038, val_recall: 0.7996377376924961\n"
     ]
    },
    {
     "name": "stderr",
     "output_type": "stream",
     "text": [
      "100%|████████████████████████████████████████████████████████████| 655/655 [00:03<00:00, 210.52it/s]\n"
     ]
    },
    {
     "name": "stdout",
     "output_type": "stream",
     "text": [
      "Epoch: 421, loss: 2.1921633296340475, f1: 0.1560282835646426, precision: 0.08499063392887816, recall: 0.9504018962838268\n"
     ]
    },
    {
     "name": "stderr",
     "output_type": "stream",
     "text": [
      "100%|████████████████████████████████████████████████████████████| 218/218 [00:00<00:00, 584.87it/s]\n"
     ]
    },
    {
     "name": "stdout",
     "output_type": "stream",
     "text": [
      "val_loss: 2.306749747160378, val_f1: 0.12998791697290038, val_precision: 0.07075108422837946, val_recall: 0.7987306925955169\n"
     ]
    },
    {
     "name": "stderr",
     "output_type": "stream",
     "text": [
      "100%|████████████████████████████████████████████████████████████| 655/655 [00:03<00:00, 210.68it/s]\n"
     ]
    },
    {
     "name": "stdout",
     "output_type": "stream",
     "text": [
      "Epoch: 422, loss: 2.190389062339113, f1: 0.15636462177997168, precision: 0.08517977720880099, recall: 0.9517090215027787\n"
     ]
    },
    {
     "name": "stderr",
     "output_type": "stream",
     "text": [
      "100%|████████████████████████████████████████████████████████████| 218/218 [00:00<00:00, 583.68it/s]\n"
     ]
    },
    {
     "name": "stdout",
     "output_type": "stream",
     "text": [
      "val_loss: 2.308965260009153, val_f1: 0.12989733760200828, val_precision: 0.07075930246015276, val_recall: 0.7909158913914217\n"
     ]
    },
    {
     "name": "stderr",
     "output_type": "stream",
     "text": [
      "100%|████████████████████████████████████████████████████████████| 655/655 [00:03<00:00, 214.16it/s]\n"
     ]
    },
    {
     "name": "stdout",
     "output_type": "stream",
     "text": [
      "Epoch: 423, loss: 2.190012253331774, f1: 0.15651410998333848, precision: 0.08526707905707241, recall: 0.9518869596583243\n"
     ]
    },
    {
     "name": "stderr",
     "output_type": "stream",
     "text": [
      "100%|████████████████████████████████████████████████████████████| 218/218 [00:00<00:00, 587.68it/s]\n"
     ]
    },
    {
     "name": "stdout",
     "output_type": "stream",
     "text": [
      "val_loss: 2.3082748071863017, val_f1: 0.12943756427593375, val_precision: 0.07045152694960936, val_recall: 0.7953497275299982\n"
     ]
    },
    {
     "name": "stderr",
     "output_type": "stream",
     "text": [
      "100%|████████████████████████████████████████████████████████████| 655/655 [00:03<00:00, 213.51it/s]\n"
     ]
    },
    {
     "name": "stdout",
     "output_type": "stream",
     "text": [
      "Epoch: 424, loss: 2.1962597316458026, f1: 0.15343214869757124, precision: 0.0834691186527942, recall: 0.9482276176678316\n"
     ]
    },
    {
     "name": "stderr",
     "output_type": "stream",
     "text": [
      "100%|████████████████████████████████████████████████████████████| 218/218 [00:00<00:00, 584.31it/s]\n"
     ]
    },
    {
     "name": "stdout",
     "output_type": "stream",
     "text": [
      "val_loss: 2.3060354437303108, val_f1: 0.12863040658461988, val_precision: 0.0699374389134074, val_recall: 0.8000448406289477\n"
     ]
    },
    {
     "name": "stderr",
     "output_type": "stream",
     "text": [
      "100%|████████████████████████████████████████████████████████████| 655/655 [00:03<00:00, 210.50it/s]\n"
     ]
    },
    {
     "name": "stdout",
     "output_type": "stream",
     "text": [
      "Epoch: 425, loss: 2.19261632338735, f1: 0.15564551338035784, precision: 0.08476385697580248, recall: 0.9503618657133961\n"
     ]
    },
    {
     "name": "stderr",
     "output_type": "stream",
     "text": [
      "100%|████████████████████████████████████████████████████████████| 218/218 [00:00<00:00, 579.48it/s]\n"
     ]
    },
    {
     "name": "stdout",
     "output_type": "stream",
     "text": [
      "val_loss: 2.309825850189279, val_f1: 0.12861082612325933, val_precision: 0.06995720018786507, val_recall: 0.7959653387922759\n"
     ]
    },
    {
     "name": "stderr",
     "output_type": "stream",
     "text": [
      "100%|████████████████████████████████████████████████████████████| 655/655 [00:03<00:00, 210.70it/s]\n"
     ]
    },
    {
     "name": "stdout",
     "output_type": "stream",
     "text": [
      "Epoch: 426, loss: 2.1913535998977776, f1: 0.15615048746434165, precision: 0.08505433709609486, recall: 0.95150440794821\n"
     ]
    },
    {
     "name": "stderr",
     "output_type": "stream",
     "text": [
      "100%|████████████████████████████████████████████████████████████| 218/218 [00:00<00:00, 588.51it/s]\n"
     ]
    },
    {
     "name": "stdout",
     "output_type": "stream",
     "text": [
      "val_loss: 2.306319289524621, val_f1: 0.12923964193984164, val_precision: 0.07033506152006465, val_recall: 0.7952489564451602\n"
     ]
    },
    {
     "name": "stderr",
     "output_type": "stream",
     "text": [
      "100%|████████████████████████████████████████████████████████████| 655/655 [00:03<00:00, 211.85it/s]\n"
     ]
    },
    {
     "name": "stdout",
     "output_type": "stream",
     "text": [
      "Epoch: 427, loss: 2.190597592146342, f1: 0.1562545231920158, precision: 0.08511241984958867, recall: 0.9519612941123147\n"
     ]
    },
    {
     "name": "stderr",
     "output_type": "stream",
     "text": [
      "100%|████████████████████████████████████████████████████████████| 218/218 [00:00<00:00, 586.39it/s]\n"
     ]
    },
    {
     "name": "stdout",
     "output_type": "stream",
     "text": [
      "val_loss: 2.308480881496307, val_f1: 0.1288436182603337, val_precision: 0.070099799737864, val_recall: 0.7953440276307797\n"
     ]
    },
    {
     "name": "stderr",
     "output_type": "stream",
     "text": [
      "100%|████████████████████████████████████████████████████████████| 655/655 [00:03<00:00, 210.11it/s]\n"
     ]
    },
    {
     "name": "stdout",
     "output_type": "stream",
     "text": [
      "Epoch: 428, loss: 2.1905898015917713, f1: 0.1561322203995789, precision: 0.08504194397237579, recall: 0.9516989633327222\n"
     ]
    },
    {
     "name": "stderr",
     "output_type": "stream",
     "text": [
      "100%|████████████████████████████████████████████████████████████| 218/218 [00:00<00:00, 576.53it/s]\n"
     ]
    },
    {
     "name": "stdout",
     "output_type": "stream",
     "text": [
      "val_loss: 2.307350195055708, val_f1: 0.1287270023608447, val_precision: 0.0699997444822957, val_recall: 0.7993673082065145\n"
     ]
    },
    {
     "name": "stderr",
     "output_type": "stream",
     "text": [
      "100%|████████████████████████████████████████████████████████████| 655/655 [00:03<00:00, 211.22it/s]\n"
     ]
    },
    {
     "name": "stdout",
     "output_type": "stream",
     "text": [
      "Epoch: 429, loss: 2.1907537904404504, f1: 0.1562848889303499, precision: 0.08513124985833659, recall: 0.9518599517472828\n"
     ]
    },
    {
     "name": "stderr",
     "output_type": "stream",
     "text": [
      "100%|████████████████████████████████████████████████████████████| 218/218 [00:00<00:00, 589.00it/s]\n"
     ]
    },
    {
     "name": "stdout",
     "output_type": "stream",
     "text": [
      "val_loss: 2.3070235408227378, val_f1: 0.1285676019186039, val_precision: 0.06990872771658618, val_recall: 0.7989435119366427\n"
     ]
    },
    {
     "name": "stderr",
     "output_type": "stream",
     "text": [
      "100%|████████████████████████████████████████████████████████████| 655/655 [00:03<00:00, 213.86it/s]\n"
     ]
    },
    {
     "name": "stdout",
     "output_type": "stream",
     "text": [
      "Epoch: 430, loss: 2.19161752817285, f1: 0.15616209762290098, precision: 0.08506184875652308, recall: 0.9514265438072554\n"
     ]
    },
    {
     "name": "stderr",
     "output_type": "stream",
     "text": [
      "100%|████████████████████████████████████████████████████████████| 218/218 [00:00<00:00, 579.63it/s]\n"
     ]
    },
    {
     "name": "stdout",
     "output_type": "stream",
     "text": [
      "val_loss: 2.307648481852418, val_f1: 0.12901615285207785, val_precision: 0.070199425149615, val_recall: 0.7956690237336203\n"
     ]
    },
    {
     "name": "stderr",
     "output_type": "stream",
     "text": [
      "100%|████████████████████████████████████████████████████████████| 655/655 [00:03<00:00, 210.26it/s]\n"
     ]
    },
    {
     "name": "stdout",
     "output_type": "stream",
     "text": [
      "Epoch: 431, loss: 2.1925086572880055, f1: 0.15611198636205934, precision: 0.08503874477340292, recall: 0.9505971384412459\n"
     ]
    },
    {
     "name": "stderr",
     "output_type": "stream",
     "text": [
      "100%|████████████████████████████████████████████████████████████| 218/218 [00:00<00:00, 591.02it/s]\n"
     ]
    },
    {
     "name": "stdout",
     "output_type": "stream",
     "text": [
      "val_loss: 2.3078303096491264, val_f1: 0.12887834330616205, val_precision: 0.07010076354778962, val_recall: 0.7978736756865038\n"
     ]
    },
    {
     "name": "stderr",
     "output_type": "stream",
     "text": [
      "100%|████████████████████████████████████████████████████████████| 655/655 [00:03<00:00, 210.62it/s]\n"
     ]
    },
    {
     "name": "stdout",
     "output_type": "stream",
     "text": [
      "Epoch: 432, loss: 2.190037505226281, f1: 0.15642217046430218, precision: 0.08520929995739392, recall: 0.9522874166037291\n"
     ]
    },
    {
     "name": "stderr",
     "output_type": "stream",
     "text": [
      "100%|████████████████████████████████████████████████████████████| 218/218 [00:00<00:00, 585.16it/s]\n"
     ]
    },
    {
     "name": "stdout",
     "output_type": "stream",
     "text": [
      "val_loss: 2.3110909464709257, val_f1: 0.1281424909319306, val_precision: 0.06970877537435484, val_recall: 0.79224911099727\n"
     ]
    },
    {
     "name": "stderr",
     "output_type": "stream",
     "text": [
      "100%|████████████████████████████████████████████████████████████| 655/655 [00:03<00:00, 211.83it/s]\n"
     ]
    },
    {
     "name": "stdout",
     "output_type": "stream",
     "text": [
      "Epoch: 433, loss: 2.190243751220121, f1: 0.15622168657497917, precision: 0.08509945545260234, recall: 0.9511459602654435\n"
     ]
    },
    {
     "name": "stderr",
     "output_type": "stream",
     "text": [
      "100%|████████████████████████████████████████████████████████████| 218/218 [00:00<00:00, 592.45it/s]\n"
     ]
    },
    {
     "name": "stdout",
     "output_type": "stream",
     "text": [
      "val_loss: 2.306640668746528, val_f1: 0.12915048807337873, val_precision: 0.07026011445089628, val_recall: 0.7980945397407637\n"
     ]
    },
    {
     "name": "stderr",
     "output_type": "stream",
     "text": [
      "100%|████████████████████████████████████████████████████████████| 655/655 [00:03<00:00, 210.29it/s]\n"
     ]
    },
    {
     "name": "stdout",
     "output_type": "stream",
     "text": [
      "Epoch: 434, loss: 2.190473960738146, f1: 0.15655001397227938, precision: 0.08528701976325562, recall: 0.9520578869426524\n"
     ]
    },
    {
     "name": "stderr",
     "output_type": "stream",
     "text": [
      "100%|████████████████████████████████████████████████████████████| 218/218 [00:00<00:00, 590.40it/s]\n"
     ]
    },
    {
     "name": "stdout",
     "output_type": "stream",
     "text": [
      "val_loss: 2.306807384305044, val_f1: 0.1292189409271267, val_precision: 0.0702972935935602, val_recall: 0.7985253427006783\n"
     ]
    },
    {
     "name": "stderr",
     "output_type": "stream",
     "text": [
      "100%|████████████████████████████████████████████████████████████| 655/655 [00:03<00:00, 211.07it/s]\n"
     ]
    },
    {
     "name": "stdout",
     "output_type": "stream",
     "text": [
      "Epoch: 435, loss: 2.1905441363349216, f1: 0.15645980664422401, precision: 0.08523371160911922, recall: 0.9520284887488561\n"
     ]
    },
    {
     "name": "stderr",
     "output_type": "stream",
     "text": [
      "100%|████████████████████████████████████████████████████████████| 218/218 [00:00<00:00, 588.14it/s]\n"
     ]
    },
    {
     "name": "stdout",
     "output_type": "stream",
     "text": [
      "val_loss: 2.307848325836549, val_f1: 0.1285123253114924, val_precision: 0.0698768069493422, val_recall: 0.7988435557676018\n"
     ]
    },
    {
     "name": "stderr",
     "output_type": "stream",
     "text": [
      "100%|████████████████████████████████████████████████████████████| 655/655 [00:03<00:00, 211.61it/s]\n"
     ]
    },
    {
     "name": "stdout",
     "output_type": "stream",
     "text": [
      "Epoch: 436, loss: 2.192701842038686, f1: 0.15537780612252003, precision: 0.08459877877332668, recall: 0.9511583995273095\n"
     ]
    },
    {
     "name": "stderr",
     "output_type": "stream",
     "text": [
      "100%|████████████████████████████████████████████████████████████| 218/218 [00:00<00:00, 591.80it/s]\n"
     ]
    },
    {
     "name": "stdout",
     "output_type": "stream",
     "text": [
      "val_loss: 2.3098409397339603, val_f1: 0.12843293762229932, val_precision: 0.06985569317128783, val_recall: 0.795479245962353\n"
     ]
    },
    {
     "name": "stderr",
     "output_type": "stream",
     "text": [
      "100%|████████████████████████████████████████████████████████████| 655/655 [00:03<00:00, 210.28it/s]\n"
     ]
    },
    {
     "name": "stdout",
     "output_type": "stream",
     "text": [
      "Epoch: 437, loss: 2.1897585434768034, f1: 0.1561757934752961, precision: 0.08506227121866158, recall: 0.9523913390763843\n"
     ]
    },
    {
     "name": "stderr",
     "output_type": "stream",
     "text": [
      "100%|████████████████████████████████████████████████████████████| 218/218 [00:00<00:00, 585.76it/s]\n"
     ]
    },
    {
     "name": "stdout",
     "output_type": "stream",
     "text": [
      "val_loss: 2.3087737204831673, val_f1: 0.12903343943696013, val_precision: 0.07022350020877538, val_recall: 0.7938959433124699\n"
     ]
    },
    {
     "name": "stderr",
     "output_type": "stream",
     "text": [
      "100%|████████████████████████████████████████████████████████████| 655/655 [00:03<00:00, 214.05it/s]\n"
     ]
    },
    {
     "name": "stdout",
     "output_type": "stream",
     "text": [
      "Epoch: 438, loss: 2.1928372637006164, f1: 0.15579243455090577, precision: 0.08484395141322308, recall: 0.9512486722633129\n"
     ]
    },
    {
     "name": "stderr",
     "output_type": "stream",
     "text": [
      "100%|████████████████████████████████████████████████████████████| 218/218 [00:00<00:00, 583.95it/s]\n"
     ]
    },
    {
     "name": "stdout",
     "output_type": "stream",
     "text": [
      "val_loss: 2.3093789772156184, val_f1: 0.12791896064717823, val_precision: 0.0695814044073805, val_recall: 0.7916134049039368\n"
     ]
    },
    {
     "name": "stderr",
     "output_type": "stream",
     "text": [
      "100%|████████████████████████████████████████████████████████████| 655/655 [00:03<00:00, 209.12it/s]\n"
     ]
    },
    {
     "name": "stdout",
     "output_type": "stream",
     "text": [
      "Epoch: 439, loss: 2.1907520422498687, f1: 0.15646074148732425, precision: 0.0852357565588851, recall: 0.9518426268155338\n"
     ]
    },
    {
     "name": "stderr",
     "output_type": "stream",
     "text": [
      "100%|████████████████████████████████████████████████████████████| 218/218 [00:00<00:00, 584.29it/s]\n"
     ]
    },
    {
     "name": "stdout",
     "output_type": "stream",
     "text": [
      "val_loss: 2.3090933503907753, val_f1: 0.12856542821430966, val_precision: 0.06994867814093862, val_recall: 0.7935967917015793\n"
     ]
    },
    {
     "name": "stderr",
     "output_type": "stream",
     "text": [
      "100%|████████████████████████████████████████████████████████████| 655/655 [00:03<00:00, 211.26it/s]\n"
     ]
    },
    {
     "name": "stdout",
     "output_type": "stream",
     "text": [
      "Epoch: 440, loss: 2.187925374780902, f1: 0.15712752780702188, precision: 0.08562400330369936, recall: 0.9527926177468918\n"
     ]
    },
    {
     "name": "stderr",
     "output_type": "stream",
     "text": [
      "100%|████████████████████████████████████████████████████████████| 218/218 [00:00<00:00, 581.18it/s]\n"
     ]
    },
    {
     "name": "stdout",
     "output_type": "stream",
     "text": [
      "val_loss: 2.310056655231966, val_f1: 0.1283242673845132, val_precision: 0.0698541956836221, val_recall: 0.7874113544821739\n"
     ]
    },
    {
     "name": "stderr",
     "output_type": "stream",
     "text": [
      "100%|████████████████████████████████████████████████████████████| 655/655 [00:03<00:00, 212.27it/s]\n"
     ]
    },
    {
     "name": "stdout",
     "output_type": "stream",
     "text": [
      "Epoch: 441, loss: 2.189239934473547, f1: 0.15694527903631772, precision: 0.08552092315117253, recall: 0.9521541588179028\n"
     ]
    },
    {
     "name": "stderr",
     "output_type": "stream",
     "text": [
      "100%|████████████████████████████████████████████████████████████| 218/218 [00:00<00:00, 589.82it/s]\n"
     ]
    },
    {
     "name": "stdout",
     "output_type": "stream",
     "text": [
      "val_loss: 2.3093513928422142, val_f1: 0.1284319804984399, val_precision: 0.06987578459746213, val_recall: 0.792810202328437\n"
     ]
    },
    {
     "name": "stderr",
     "output_type": "stream",
     "text": [
      "100%|████████████████████████████████████████████████████████████| 655/655 [00:03<00:00, 210.05it/s]\n"
     ]
    },
    {
     "name": "stdout",
     "output_type": "stream",
     "text": [
      "Epoch: 442, loss: 2.1906579016729166, f1: 0.15584925519551762, precision: 0.08487112984729518, recall: 0.9520692500449319\n"
     ]
    },
    {
     "name": "stderr",
     "output_type": "stream",
     "text": [
      "100%|████████████████████████████████████████████████████████████| 218/218 [00:00<00:00, 586.94it/s]\n"
     ]
    },
    {
     "name": "stdout",
     "output_type": "stream",
     "text": [
      "val_loss: 2.309323034702091, val_f1: 0.12823502850901183, val_precision: 0.06976783594090936, val_recall: 0.7916965552973091\n"
     ]
    },
    {
     "name": "stderr",
     "output_type": "stream",
     "text": [
      "100%|████████████████████████████████████████████████████████████| 655/655 [00:03<00:00, 211.72it/s]\n"
     ]
    },
    {
     "name": "stdout",
     "output_type": "stream",
     "text": [
      "Epoch: 443, loss: 2.1900084562884032, f1: 0.15641380902547816, precision: 0.085203700721662, recall: 0.952366981615547\n"
     ]
    },
    {
     "name": "stderr",
     "output_type": "stream",
     "text": [
      "100%|████████████████████████████████████████████████████████████| 218/218 [00:00<00:00, 586.56it/s]\n"
     ]
    },
    {
     "name": "stdout",
     "output_type": "stream",
     "text": [
      "val_loss: 2.3089486461713773, val_f1: 0.12871092648689564, val_precision: 0.07004600469826149, val_recall: 0.7921641756771901\n"
     ]
    },
    {
     "name": "stderr",
     "output_type": "stream",
     "text": [
      "100%|████████████████████████████████████████████████████████████| 655/655 [00:03<00:00, 210.98it/s]\n"
     ]
    },
    {
     "name": "stdout",
     "output_type": "stream",
     "text": [
      "Epoch: 444, loss: 2.188426300405546, f1: 0.15706314155746748, precision: 0.08558465873196948, recall: 0.9529297988833362\n"
     ]
    },
    {
     "name": "stderr",
     "output_type": "stream",
     "text": [
      "100%|████████████████████████████████████████████████████████████| 218/218 [00:00<00:00, 586.76it/s]\n"
     ]
    },
    {
     "name": "stdout",
     "output_type": "stream",
     "text": [
      "val_loss: 2.3091493839517647, val_f1: 0.1287062250278467, val_precision: 0.07006292771163541, val_recall: 0.7896520839918644\n"
     ]
    },
    {
     "name": "stderr",
     "output_type": "stream",
     "text": [
      "100%|████████████████████████████████████████████████████████████| 655/655 [00:03<00:00, 211.88it/s]\n"
     ]
    },
    {
     "name": "stdout",
     "output_type": "stream",
     "text": [
      "Epoch: 445, loss: 2.188394001331038, f1: 0.15715016697956255, precision: 0.08564140185472051, recall: 0.9523035834763797\n"
     ]
    },
    {
     "name": "stderr",
     "output_type": "stream",
     "text": [
      "100%|████████████████████████████████████████████████████████████| 218/218 [00:00<00:00, 590.67it/s]\n"
     ]
    },
    {
     "name": "stdout",
     "output_type": "stream",
     "text": [
      "val_loss: 2.307970881462097, val_f1: 0.1287869841457057, val_precision: 0.07005790441719935, val_recall: 0.7964238544943136\n"
     ]
    },
    {
     "name": "stderr",
     "output_type": "stream",
     "text": [
      "100%|████████████████████████████████████████████████████████████| 655/655 [00:03<00:00, 210.41it/s]\n"
     ]
    },
    {
     "name": "stdout",
     "output_type": "stream",
     "text": [
      "Epoch: 446, loss: 2.1982209496825704, f1: 0.15379105070924262, precision: 0.0836817913383018, recall: 0.9482026379527027\n"
     ]
    },
    {
     "name": "stderr",
     "output_type": "stream",
     "text": [
      "100%|████████████████████████████████████████████████████████████| 218/218 [00:00<00:00, 593.02it/s]\n"
     ]
    },
    {
     "name": "stdout",
     "output_type": "stream",
     "text": [
      "val_loss: 2.3073401005443084, val_f1: 0.12790506838059204, val_precision: 0.069528951122716, val_recall: 0.7973852525337026\n"
     ]
    },
    {
     "name": "stderr",
     "output_type": "stream",
     "text": [
      "100%|████████████████████████████████████████████████████████████| 655/655 [00:03<00:00, 213.50it/s]\n"
     ]
    },
    {
     "name": "stdout",
     "output_type": "stream",
     "text": [
      "Epoch: 447, loss: 2.188775384153119, f1: 0.1567281037335149, precision: 0.08538799776716997, recall: 0.9526482095245187\n"
     ]
    },
    {
     "name": "stderr",
     "output_type": "stream",
     "text": [
      "100%|████████████████████████████████████████████████████████████| 218/218 [00:00<00:00, 586.88it/s]\n"
     ]
    },
    {
     "name": "stdout",
     "output_type": "stream",
     "text": [
      "val_loss: 2.308527328552456, val_f1: 0.12844376234681265, val_precision: 0.06988307442345204, val_recall: 0.7927697048001333\n"
     ]
    },
    {
     "name": "stderr",
     "output_type": "stream",
     "text": [
      "100%|████████████████████████████████████████████████████████████| 655/655 [00:03<00:00, 211.15it/s]\n"
     ]
    },
    {
     "name": "stdout",
     "output_type": "stream",
     "text": [
      "Epoch: 448, loss: 2.1885027361280134, f1: 0.15722788347237562, precision: 0.08568675421064592, recall: 0.9524038036360996\n"
     ]
    },
    {
     "name": "stderr",
     "output_type": "stream",
     "text": [
      "100%|████████████████████████████████████████████████████████████| 218/218 [00:00<00:00, 587.34it/s]\n"
     ]
    },
    {
     "name": "stdout",
     "output_type": "stream",
     "text": [
      "val_loss: 2.3072047176164223, val_f1: 0.1283192845950425, val_precision: 0.06981510263889038, val_recall: 0.7920331399921977\n"
     ]
    },
    {
     "name": "stderr",
     "output_type": "stream",
     "text": [
      "100%|████████████████████████████████████████████████████████████| 655/655 [00:03<00:00, 209.73it/s]\n"
     ]
    },
    {
     "name": "stdout",
     "output_type": "stream",
     "text": [
      "Epoch: 449, loss: 2.1877746891429406, f1: 0.15743903018993807, precision: 0.08580728866486945, recall: 0.9530084572675573\n"
     ]
    },
    {
     "name": "stderr",
     "output_type": "stream",
     "text": [
      "100%|████████████████████████████████████████████████████████████| 218/218 [00:00<00:00, 588.61it/s]\n"
     ]
    },
    {
     "name": "stdout",
     "output_type": "stream",
     "text": [
      "val_loss: 2.3078159974255694, val_f1: 0.1288782313066315, val_precision: 0.07015200600416802, val_recall: 0.7912865380901809\n"
     ]
    },
    {
     "name": "stderr",
     "output_type": "stream",
     "text": [
      "100%|████████████████████████████████████████████████████████████| 655/655 [00:03<00:00, 210.42it/s]\n"
     ]
    },
    {
     "name": "stdout",
     "output_type": "stream",
     "text": [
      "Epoch: 450, loss: 2.190059230345806, f1: 0.15694252567068745, precision: 0.0855190169798452, recall: 0.9521877638256276\n"
     ]
    },
    {
     "name": "stderr",
     "output_type": "stream",
     "text": [
      "100%|████████████████████████████████████████████████████████████| 218/218 [00:00<00:00, 590.53it/s]\n"
     ]
    },
    {
     "name": "stdout",
     "output_type": "stream",
     "text": [
      "val_loss: 2.308662139494485, val_f1: 0.12850760153098748, val_precision: 0.06990398087222642, val_recall: 0.7949474839442366\n"
     ]
    },
    {
     "name": "stderr",
     "output_type": "stream",
     "text": [
      "100%|████████████████████████████████████████████████████████████| 655/655 [00:03<00:00, 213.61it/s]\n"
     ]
    },
    {
     "name": "stdout",
     "output_type": "stream",
     "text": [
      "Epoch: 451, loss: 2.189307850098792, f1: 0.1571237034218034, precision: 0.08562841991403403, recall: 0.9519652303848558\n"
     ]
    },
    {
     "name": "stderr",
     "output_type": "stream",
     "text": [
      "100%|████████████████████████████████████████████████████████████| 218/218 [00:00<00:00, 581.20it/s]\n"
     ]
    },
    {
     "name": "stdout",
     "output_type": "stream",
     "text": [
      "val_loss: 2.3080049747720772, val_f1: 0.12822042905717299, val_precision: 0.06971495970549625, val_recall: 0.7974387561782784\n"
     ]
    },
    {
     "name": "stderr",
     "output_type": "stream",
     "text": [
      "100%|████████████████████████████████████████████████████████████| 655/655 [00:03<00:00, 211.29it/s]\n"
     ]
    },
    {
     "name": "stdout",
     "output_type": "stream",
     "text": [
      "Epoch: 452, loss: 2.188717748099611, f1: 0.1572322247181188, precision: 0.08568536706538941, recall: 0.9528940071586434\n"
     ]
    },
    {
     "name": "stderr",
     "output_type": "stream",
     "text": [
      "100%|████████████████████████████████████████████████████████████| 218/218 [00:00<00:00, 592.27it/s]\n"
     ]
    },
    {
     "name": "stdout",
     "output_type": "stream",
     "text": [
      "val_loss: 2.3079640857123453, val_f1: 0.12892770151905103, val_precision: 0.07016276738098011, val_recall: 0.7936529810412214\n"
     ]
    },
    {
     "name": "stderr",
     "output_type": "stream",
     "text": [
      "100%|████████████████████████████████████████████████████████████| 655/655 [00:03<00:00, 210.76it/s]\n"
     ]
    },
    {
     "name": "stdout",
     "output_type": "stream",
     "text": [
      "Epoch: 453, loss: 2.187079956149327, f1: 0.15756427520189495, precision: 0.08588014191784363, recall: 0.9532004850511332\n"
     ]
    },
    {
     "name": "stderr",
     "output_type": "stream",
     "text": [
      "100%|████████████████████████████████████████████████████████████| 218/218 [00:00<00:00, 588.31it/s]\n"
     ]
    },
    {
     "name": "stdout",
     "output_type": "stream",
     "text": [
      "val_loss: 2.3086329624740354, val_f1: 0.12889838478728355, val_precision: 0.07015800969077086, val_recall: 0.7920426997706431\n"
     ]
    },
    {
     "name": "stderr",
     "output_type": "stream",
     "text": [
      "100%|████████████████████████████████████████████████████████████| 655/655 [00:03<00:00, 211.56it/s]\n"
     ]
    },
    {
     "name": "stdout",
     "output_type": "stream",
     "text": [
      "Epoch: 454, loss: 2.1895451882413326, f1: 0.15699978423410493, precision: 0.08554883942164423, recall: 0.9527060389518738\n"
     ]
    },
    {
     "name": "stderr",
     "output_type": "stream",
     "text": [
      "100%|████████████████████████████████████████████████████████████| 218/218 [00:00<00:00, 590.48it/s]\n"
     ]
    },
    {
     "name": "stdout",
     "output_type": "stream",
     "text": [
      "val_loss: 2.30829787090284, val_f1: 0.12819099883013121, val_precision: 0.0697149186546769, val_recall: 0.7951733688695715\n"
     ]
    },
    {
     "name": "stderr",
     "output_type": "stream",
     "text": [
      "100%|████████████████████████████████████████████████████████████| 655/655 [00:03<00:00, 211.32it/s]\n"
     ]
    },
    {
     "name": "stdout",
     "output_type": "stream",
     "text": [
      "Epoch: 455, loss: 2.1889351993116715, f1: 0.1570654675911497, precision: 0.08558759314171571, recall: 0.9527373032715485\n"
     ]
    },
    {
     "name": "stderr",
     "output_type": "stream",
     "text": [
      "100%|████████████████████████████████████████████████████████████| 218/218 [00:00<00:00, 591.67it/s]\n"
     ]
    },
    {
     "name": "stdout",
     "output_type": "stream",
     "text": [
      "val_loss: 2.3077502723680725, val_f1: 0.12859589678457595, val_precision: 0.0699642299804751, val_recall: 0.7939168533327383\n"
     ]
    },
    {
     "name": "stderr",
     "output_type": "stream",
     "text": [
      "100%|████████████████████████████████████████████████████████████| 655/655 [00:03<00:00, 208.94it/s]\n"
     ]
    },
    {
     "name": "stdout",
     "output_type": "stream",
     "text": [
      "Epoch: 456, loss: 2.1889257708578618, f1: 0.15698334573516778, precision: 0.08554156172295449, recall: 0.9523980330874902\n"
     ]
    },
    {
     "name": "stderr",
     "output_type": "stream",
     "text": [
      "100%|████████████████████████████████████████████████████████████| 218/218 [00:00<00:00, 580.28it/s]\n"
     ]
    },
    {
     "name": "stdout",
     "output_type": "stream",
     "text": [
      "val_loss: 2.3102765788725756, val_f1: 0.12947132293065816, val_precision: 0.07051809009222246, val_recall: 0.7894667624880415\n"
     ]
    },
    {
     "name": "stderr",
     "output_type": "stream",
     "text": [
      "100%|████████████████████████████████████████████████████████████| 655/655 [00:03<00:00, 214.99it/s]\n"
     ]
    },
    {
     "name": "stdout",
     "output_type": "stream",
     "text": [
      "Epoch: 457, loss: 2.190200067658461, f1: 0.15649126568058283, precision: 0.08525764667464576, recall: 0.9513726977901604\n"
     ]
    },
    {
     "name": "stderr",
     "output_type": "stream",
     "text": [
      "100%|████████████████████████████████████████████████████████████| 218/218 [00:00<00:00, 586.54it/s]\n"
     ]
    },
    {
     "name": "stdout",
     "output_type": "stream",
     "text": [
      "val_loss: 2.309027214115913, val_f1: 0.12926060425182648, val_precision: 0.07035511613229649, val_recall: 0.7942742605548386\n"
     ]
    },
    {
     "name": "stderr",
     "output_type": "stream",
     "text": [
      "100%|████████████████████████████████████████████████████████████| 655/655 [00:03<00:00, 213.07it/s]\n"
     ]
    },
    {
     "name": "stdout",
     "output_type": "stream",
     "text": [
      "Epoch: 458, loss: 2.187081084360603, f1: 0.15760036331292715, precision: 0.08590122058930742, recall: 0.9532452717082192\n"
     ]
    },
    {
     "name": "stderr",
     "output_type": "stream",
     "text": [
      "100%|████████████████████████████████████████████████████████████| 218/218 [00:00<00:00, 591.71it/s]\n"
     ]
    },
    {
     "name": "stdout",
     "output_type": "stream",
     "text": [
      "val_loss: 2.308624255000998, val_f1: 0.1297960142093602, val_precision: 0.07069772339336267, val_recall: 0.7910975514475359\n"
     ]
    },
    {
     "name": "stderr",
     "output_type": "stream",
     "text": [
      "100%|████████████████████████████████████████████████████████████| 655/655 [00:03<00:00, 209.56it/s]\n"
     ]
    },
    {
     "name": "stdout",
     "output_type": "stream",
     "text": [
      "Epoch: 459, loss: 2.1893247426921176, f1: 0.15717348728190536, precision: 0.08565481686111512, recall: 0.9523575838285548\n"
     ]
    },
    {
     "name": "stderr",
     "output_type": "stream",
     "text": [
      "100%|████████████████████████████████████████████████████████████| 218/218 [00:00<00:00, 583.40it/s]\n"
     ]
    },
    {
     "name": "stdout",
     "output_type": "stream",
     "text": [
      "val_loss: 2.3105990257831888, val_f1: 0.12914256385295594, val_precision: 0.07032868490765862, val_recall: 0.7887607234607049\n"
     ]
    },
    {
     "name": "stderr",
     "output_type": "stream",
     "text": [
      "100%|████████████████████████████████████████████████████████████| 655/655 [00:03<00:00, 211.91it/s]\n"
     ]
    },
    {
     "name": "stdout",
     "output_type": "stream",
     "text": [
      "Epoch: 460, loss: 2.18864986377818, f1: 0.15745090203377218, precision: 0.08582085831773303, recall: 0.952205488881992\n"
     ]
    },
    {
     "name": "stderr",
     "output_type": "stream",
     "text": [
      "100%|████████████████████████████████████████████████████████████| 218/218 [00:00<00:00, 584.15it/s]\n"
     ]
    },
    {
     "name": "stdout",
     "output_type": "stream",
     "text": [
      "val_loss: 2.3063397820389597, val_f1: 0.1289285676414756, val_precision: 0.07011743453160407, val_recall: 0.79956654821514\n"
     ]
    },
    {
     "name": "stderr",
     "output_type": "stream",
     "text": [
      "100%|████████████████████████████████████████████████████████████| 655/655 [00:03<00:00, 212.95it/s]\n"
     ]
    },
    {
     "name": "stdout",
     "output_type": "stream",
     "text": [
      "Epoch: 461, loss: 2.1887196989459845, f1: 0.15740269984594862, precision: 0.08578878488420075, recall: 0.9526285906784407\n"
     ]
    },
    {
     "name": "stderr",
     "output_type": "stream",
     "text": [
      "100%|████████████████████████████████████████████████████████████| 218/218 [00:00<00:00, 587.78it/s]\n"
     ]
    },
    {
     "name": "stdout",
     "output_type": "stream",
     "text": [
      "val_loss: 2.307785090229927, val_f1: 0.12770931704211763, val_precision: 0.0693977853419994, val_recall: 0.7994354140321049\n"
     ]
    },
    {
     "name": "stderr",
     "output_type": "stream",
     "text": [
      "100%|████████████████████████████████████████████████████████████| 655/655 [00:03<00:00, 210.21it/s]\n"
     ]
    },
    {
     "name": "stdout",
     "output_type": "stream",
     "text": [
      "Epoch: 462, loss: 2.189077962445849, f1: 0.15723878613616993, precision: 0.08568939331506614, recall: 0.9528780565007042\n"
     ]
    },
    {
     "name": "stderr",
     "output_type": "stream",
     "text": [
      "100%|████████████████████████████████████████████████████████████| 218/218 [00:00<00:00, 592.90it/s]\n"
     ]
    },
    {
     "name": "stdout",
     "output_type": "stream",
     "text": [
      "val_loss: 2.30838810714013, val_f1: 0.12882364282065661, val_precision: 0.07009462459085491, val_recall: 0.7944886172446636\n"
     ]
    },
    {
     "name": "stderr",
     "output_type": "stream",
     "text": [
      "100%|████████████████████████████████████████████████████████████| 655/655 [00:03<00:00, 211.72it/s]\n"
     ]
    },
    {
     "name": "stdout",
     "output_type": "stream",
     "text": [
      "Epoch: 463, loss: 2.186533075707559, f1: 0.15781890458395575, precision: 0.08602983882750263, recall: 0.9533987275516714\n"
     ]
    },
    {
     "name": "stderr",
     "output_type": "stream",
     "text": [
      "100%|████████████████████████████████████████████████████████████| 218/218 [00:00<00:00, 585.05it/s]\n"
     ]
    },
    {
     "name": "stdout",
     "output_type": "stream",
     "text": [
      "val_loss: 2.308166558862826, val_f1: 0.12961998126162555, val_precision: 0.07058098624511665, val_recall: 0.7926453878983445\n"
     ]
    },
    {
     "name": "stderr",
     "output_type": "stream",
     "text": [
      "100%|████████████████████████████████████████████████████████████| 655/655 [00:03<00:00, 210.56it/s]\n"
     ]
    },
    {
     "name": "stdout",
     "output_type": "stream",
     "text": [
      "Epoch: 464, loss: 2.187760022032352, f1: 0.15704316622221498, precision: 0.08557029840401338, recall: 0.9532397066363851\n"
     ]
    },
    {
     "name": "stderr",
     "output_type": "stream",
     "text": [
      "100%|████████████████████████████████████████████████████████████| 218/218 [00:00<00:00, 583.05it/s]\n"
     ]
    },
    {
     "name": "stdout",
     "output_type": "stream",
     "text": [
      "val_loss: 2.3097052117553325, val_f1: 0.1288698814160731, val_precision: 0.07014558325765159, val_recall: 0.7914742446000423\n"
     ]
    },
    {
     "name": "stderr",
     "output_type": "stream",
     "text": [
      "100%|████████████████████████████████████████████████████████████| 655/655 [00:03<00:00, 210.95it/s]\n"
     ]
    },
    {
     "name": "stdout",
     "output_type": "stream",
     "text": [
      "Epoch: 465, loss: 2.1922883012822565, f1: 0.15642778983153602, precision: 0.08523624712487554, recall: 0.9493484059362921\n"
     ]
    },
    {
     "name": "stderr",
     "output_type": "stream",
     "text": [
      "100%|████████████████████████████████████████████████████████████| 218/218 [00:00<00:00, 592.05it/s]\n"
     ]
    },
    {
     "name": "stdout",
     "output_type": "stream",
     "text": [
      "val_loss: 2.309585137651601, val_f1: 0.12741500168866793, val_precision: 0.06923123273075721, val_recall: 0.798472646452965\n"
     ]
    },
    {
     "name": "stderr",
     "output_type": "stream",
     "text": [
      "100%|████████████████████████████████████████████████████████████| 655/655 [00:03<00:00, 210.93it/s]\n"
     ]
    },
    {
     "name": "stdout",
     "output_type": "stream",
     "text": [
      "Epoch: 466, loss: 2.192558878341704, f1: 0.15624125859265975, precision: 0.08511548631803224, recall: 0.9505948918466349\n"
     ]
    },
    {
     "name": "stderr",
     "output_type": "stream",
     "text": [
      "100%|████████████████████████████████████████████████████████████| 218/218 [00:00<00:00, 582.91it/s]\n"
     ]
    },
    {
     "name": "stdout",
     "output_type": "stream",
     "text": [
      "val_loss: 2.309354732616232, val_f1: 0.1289328685588555, val_precision: 0.07016418646773272, val_recall: 0.7938630474269937\n"
     ]
    },
    {
     "name": "stderr",
     "output_type": "stream",
     "text": [
      "100%|████████████████████████████████████████████████████████████| 655/655 [00:03<00:00, 210.88it/s]\n"
     ]
    },
    {
     "name": "stdout",
     "output_type": "stream",
     "text": [
      "Epoch: 467, loss: 2.18636503802001, f1: 0.15814946807747687, precision: 0.08622425634357082, recall: 0.9536525445130035\n"
     ]
    },
    {
     "name": "stderr",
     "output_type": "stream",
     "text": [
      "100%|████████████████████████████████████████████████████████████| 218/218 [00:00<00:00, 579.04it/s]\n"
     ]
    },
    {
     "name": "stdout",
     "output_type": "stream",
     "text": [
      "val_loss: 2.313061035007512, val_f1: 0.12823168793641154, val_precision: 0.06982364161089576, val_recall: 0.7843308384538791\n"
     ]
    },
    {
     "name": "stderr",
     "output_type": "stream",
     "text": [
      "100%|████████████████████████████████████████████████████████████| 655/655 [00:03<00:00, 211.45it/s]\n"
     ]
    },
    {
     "name": "stdout",
     "output_type": "stream",
     "text": [
      "Epoch: 468, loss: 2.1881329621067485, f1: 0.15789758950306704, precision: 0.08608304147985373, recall: 0.9526096632462422\n"
     ]
    },
    {
     "name": "stderr",
     "output_type": "stream",
     "text": [
      "100%|████████████████████████████████████████████████████████████| 218/218 [00:00<00:00, 590.00it/s]\n"
     ]
    },
    {
     "name": "stdout",
     "output_type": "stream",
     "text": [
      "val_loss: 2.3093143228544006, val_f1: 0.128984758746798, val_precision: 0.07022510942417719, val_recall: 0.790022268344503\n"
     ]
    },
    {
     "name": "stderr",
     "output_type": "stream",
     "text": [
      "100%|████████████████████████████████████████████████████████████| 655/655 [00:03<00:00, 212.37it/s]\n"
     ]
    },
    {
     "name": "stdout",
     "output_type": "stream",
     "text": [
      "Epoch: 469, loss: 2.187349855353814, f1: 0.1579229594940415, precision: 0.08609157594717072, recall: 0.9534118530404476\n"
     ]
    },
    {
     "name": "stderr",
     "output_type": "stream",
     "text": [
      "100%|████████████████████████████████████████████████████████████| 218/218 [00:00<00:00, 585.87it/s]\n"
     ]
    },
    {
     "name": "stdout",
     "output_type": "stream",
     "text": [
      "val_loss: 2.3094226264078683, val_f1: 0.129078209226692, val_precision: 0.07029917084082209, val_recall: 0.7876724610361484\n"
     ]
    },
    {
     "name": "stderr",
     "output_type": "stream",
     "text": [
      "100%|████████████████████████████████████████████████████████████| 655/655 [00:03<00:00, 211.45it/s]\n"
     ]
    },
    {
     "name": "stdout",
     "output_type": "stream",
     "text": [
      "Epoch: 470, loss: 2.186120237830941, f1: 0.15818978437628878, precision: 0.08625039348151278, recall: 0.9533875117775138\n"
     ]
    },
    {
     "name": "stderr",
     "output_type": "stream",
     "text": [
      "100%|████████████████████████████████████████████████████████████| 218/218 [00:00<00:00, 586.50it/s]\n"
     ]
    },
    {
     "name": "stdout",
     "output_type": "stream",
     "text": [
      "val_loss: 2.3090341714544036, val_f1: 0.1284189278171473, val_precision: 0.06988126654156543, val_recall: 0.7911133289063742\n"
     ]
    },
    {
     "name": "stderr",
     "output_type": "stream",
     "text": [
      "100%|████████████████████████████████████████████████████████████| 655/655 [00:03<00:00, 213.56it/s]\n"
     ]
    },
    {
     "name": "stdout",
     "output_type": "stream",
     "text": [
      "Epoch: 471, loss: 2.1894589473273007, f1: 0.156485150654288, precision: 0.08524672737672129, recall: 0.9522813669597829\n"
     ]
    },
    {
     "name": "stderr",
     "output_type": "stream",
     "text": [
      "100%|████████████████████████████████████████████████████████████| 218/218 [00:00<00:00, 560.47it/s]\n"
     ]
    },
    {
     "name": "stdout",
     "output_type": "stream",
     "text": [
      "val_loss: 2.306694016544097, val_f1: 0.12771432354960585, val_precision: 0.06940489112017163, val_recall: 0.7988852887935595\n"
     ]
    },
    {
     "name": "stderr",
     "output_type": "stream",
     "text": [
      "100%|████████████████████████████████████████████████████████████| 655/655 [00:03<00:00, 216.36it/s]\n"
     ]
    },
    {
     "name": "stdout",
     "output_type": "stream",
     "text": [
      "Epoch: 472, loss: 2.187643902811385, f1: 0.15766303979910942, precision: 0.08593929299430651, recall: 0.9531431287299585\n"
     ]
    },
    {
     "name": "stderr",
     "output_type": "stream",
     "text": [
      "100%|████████████████████████████████████████████████████████████| 218/218 [00:00<00:00, 590.22it/s]\n"
     ]
    },
    {
     "name": "stdout",
     "output_type": "stream",
     "text": [
      "val_loss: 2.308776169741919, val_f1: 0.12862514707161685, val_precision: 0.06998300342286569, val_recall: 0.7937294250234551\n"
     ]
    },
    {
     "name": "stderr",
     "output_type": "stream",
     "text": [
      "100%|████████████████████████████████████████████████████████████| 655/655 [00:03<00:00, 210.89it/s]\n"
     ]
    },
    {
     "name": "stdout",
     "output_type": "stream",
     "text": [
      "Epoch: 473, loss: 2.18721476820589, f1: 0.15812852811931397, precision: 0.08621601958311241, recall: 0.9531374661977055\n"
     ]
    },
    {
     "name": "stderr",
     "output_type": "stream",
     "text": [
      "100%|████████████████████████████████████████████████████████████| 218/218 [00:00<00:00, 591.08it/s]\n"
     ]
    },
    {
     "name": "stdout",
     "output_type": "stream",
     "text": [
      "val_loss: 2.3078760436368646, val_f1: 0.1288651368278846, val_precision: 0.07013334941605978, val_recall: 0.7926759215396478\n"
     ]
    },
    {
     "name": "stderr",
     "output_type": "stream",
     "text": [
      "100%|████████████████████████████████████████████████████████████| 655/655 [00:03<00:00, 210.34it/s]\n"
     ]
    },
    {
     "name": "stdout",
     "output_type": "stream",
     "text": [
      "Epoch: 474, loss: 2.189347974671662, f1: 0.15744282463997875, precision: 0.08582198664560231, recall: 0.9514762731908842\n"
     ]
    },
    {
     "name": "stderr",
     "output_type": "stream",
     "text": [
      "100%|████████████████████████████████████████████████████████████| 218/218 [00:00<00:00, 592.36it/s]\n"
     ]
    },
    {
     "name": "stdout",
     "output_type": "stream",
     "text": [
      "val_loss: 2.3077710708346935, val_f1: 0.1282217706391637, val_precision: 0.06969561122802145, val_recall: 0.8000835514533411\n"
     ]
    },
    {
     "name": "stderr",
     "output_type": "stream",
     "text": [
      "100%|████████████████████████████████████████████████████████████| 655/655 [00:03<00:00, 210.40it/s]\n"
     ]
    },
    {
     "name": "stdout",
     "output_type": "stream",
     "text": [
      "Epoch: 475, loss: 2.186224529306397, f1: 0.1581074990042797, precision: 0.08619885148679596, recall: 0.9537082084262644\n"
     ]
    },
    {
     "name": "stderr",
     "output_type": "stream",
     "text": [
      "100%|████████████████████████████████████████████████████████████| 218/218 [00:00<00:00, 588.82it/s]\n"
     ]
    },
    {
     "name": "stdout",
     "output_type": "stream",
     "text": [
      "val_loss: 2.309048569257106, val_f1: 0.12934032164273943, val_precision: 0.07044754112502474, val_recall: 0.7885674085092107\n"
     ]
    },
    {
     "name": "stderr",
     "output_type": "stream",
     "text": [
      "100%|████████████████████████████████████████████████████████████| 655/655 [00:03<00:00, 211.98it/s]\n"
     ]
    },
    {
     "name": "stdout",
     "output_type": "stream",
     "text": [
      "Epoch: 476, loss: 2.1859867779353195, f1: 0.15836708255818904, precision: 0.08635713789142839, recall: 0.9532267232887618\n"
     ]
    },
    {
     "name": "stderr",
     "output_type": "stream",
     "text": [
      "100%|████████████████████████████████████████████████████████████| 218/218 [00:00<00:00, 595.07it/s]\n"
     ]
    },
    {
     "name": "stdout",
     "output_type": "stream",
     "text": [
      "val_loss: 2.30948757551132, val_f1: 0.12967119543440342, val_precision: 0.0706226490245739, val_recall: 0.7912253440793501\n"
     ]
    },
    {
     "name": "stderr",
     "output_type": "stream",
     "text": [
      "100%|████████████████████████████████████████████████████████████| 655/655 [00:03<00:00, 210.51it/s]\n"
     ]
    },
    {
     "name": "stdout",
     "output_type": "stream",
     "text": [
      "Epoch: 477, loss: 2.1860389909671465, f1: 0.1584834292779463, precision: 0.08642282121964083, recall: 0.9536542119870659\n"
     ]
    },
    {
     "name": "stderr",
     "output_type": "stream",
     "text": [
      "100%|████████████████████████████████████████████████████████████| 218/218 [00:00<00:00, 584.83it/s]\n"
     ]
    },
    {
     "name": "stdout",
     "output_type": "stream",
     "text": [
      "val_loss: 2.309622720840874, val_f1: 0.12849729532354162, val_precision: 0.06996859265106875, val_recall: 0.7859144563521814\n"
     ]
    },
    {
     "name": "stderr",
     "output_type": "stream",
     "text": [
      "100%|████████████████████████████████████████████████████████████| 655/655 [00:03<00:00, 210.48it/s]\n"
     ]
    },
    {
     "name": "stdout",
     "output_type": "stream",
     "text": [
      "Epoch: 478, loss: 2.1887441086405106, f1: 0.15759541608040725, precision: 0.08590543632544861, recall: 0.9523649778074891\n"
     ]
    },
    {
     "name": "stderr",
     "output_type": "stream",
     "text": [
      "100%|████████████████████████████████████████████████████████████| 218/218 [00:00<00:00, 592.05it/s]\n"
     ]
    },
    {
     "name": "stdout",
     "output_type": "stream",
     "text": [
      "val_loss: 2.3091696785130633, val_f1: 0.12942430663132662, val_precision: 0.07048487664871089, val_recall: 0.7901345484573906\n"
     ]
    },
    {
     "name": "stderr",
     "output_type": "stream",
     "text": [
      "100%|████████████████████████████████████████████████████████████| 655/655 [00:03<00:00, 214.42it/s]\n"
     ]
    },
    {
     "name": "stdout",
     "output_type": "stream",
     "text": [
      "Epoch: 479, loss: 2.1867120630868517, f1: 0.15827076682209085, precision: 0.0863071494622028, recall: 0.9523385613929224\n"
     ]
    },
    {
     "name": "stderr",
     "output_type": "stream",
     "text": [
      "100%|████████████████████████████████████████████████████████████| 218/218 [00:00<00:00, 591.05it/s]\n"
     ]
    },
    {
     "name": "stdout",
     "output_type": "stream",
     "text": [
      "val_loss: 2.309442179192097, val_f1: 0.12906967890409185, val_precision: 0.07026918220479007, val_recall: 0.790816068649292\n"
     ]
    },
    {
     "name": "stderr",
     "output_type": "stream",
     "text": [
      "100%|████████████████████████████████████████████████████████████| 655/655 [00:03<00:00, 210.28it/s]\n"
     ]
    },
    {
     "name": "stdout",
     "output_type": "stream",
     "text": [
      "Epoch: 480, loss: 2.186959577516745, f1: 0.158531159881727, precision: 0.0864564905014202, recall: 0.9530119727586062\n"
     ]
    },
    {
     "name": "stderr",
     "output_type": "stream",
     "text": [
      "100%|████████████████████████████████████████████████████████████| 218/218 [00:00<00:00, 589.75it/s]\n"
     ]
    },
    {
     "name": "stdout",
     "output_type": "stream",
     "text": [
      "val_loss: 2.3064356238470163, val_f1: 0.12998125302244778, val_precision: 0.07077174784333676, val_recall: 0.7956069363366574\n"
     ]
    },
    {
     "name": "stderr",
     "output_type": "stream",
     "text": [
      "100%|████████████████████████████████████████████████████████████| 655/655 [00:03<00:00, 211.23it/s]\n"
     ]
    },
    {
     "name": "stdout",
     "output_type": "stream",
     "text": [
      "Epoch: 481, loss: 2.1835720419883726, f1: 0.15945044664753544, precision: 0.08699196457635355, recall: 0.9544104519691176\n"
     ]
    },
    {
     "name": "stderr",
     "output_type": "stream",
     "text": [
      "100%|████████████████████████████████████████████████████████████| 218/218 [00:00<00:00, 590.97it/s]\n"
     ]
    },
    {
     "name": "stdout",
     "output_type": "stream",
     "text": [
      "val_loss: 2.310821673465431, val_f1: 0.12914956173684106, val_precision: 0.0703518384044409, val_recall: 0.7863786227385933\n"
     ]
    },
    {
     "name": "stderr",
     "output_type": "stream",
     "text": [
      "100%|████████████████████████████████████████████████████████████| 655/655 [00:03<00:00, 209.98it/s]\n"
     ]
    },
    {
     "name": "stdout",
     "output_type": "stream",
     "text": [
      "Epoch: 482, loss: 2.1925090953593944, f1: 0.15599896303850427, precision: 0.08498281894664045, recall: 0.9492045722844946\n"
     ]
    },
    {
     "name": "stderr",
     "output_type": "stream",
     "text": [
      "100%|████████████████████████████████████████████████████████████| 218/218 [00:00<00:00, 593.26it/s]\n"
     ]
    },
    {
     "name": "stdout",
     "output_type": "stream",
     "text": [
      "val_loss: 2.3068875328663294, val_f1: 0.12893371374792484, val_precision: 0.07012906298682162, val_recall: 0.7984520831922872\n"
     ]
    },
    {
     "name": "stderr",
     "output_type": "stream",
     "text": [
      "100%|████████████████████████████████████████████████████████████| 655/655 [00:03<00:00, 213.32it/s]\n"
     ]
    },
    {
     "name": "stdout",
     "output_type": "stream",
     "text": [
      "Epoch: 483, loss: 2.185783020048651, f1: 0.15873023090893346, precision: 0.08656729766885743, recall: 0.9539363722764809\n"
     ]
    },
    {
     "name": "stderr",
     "output_type": "stream",
     "text": [
      "100%|████████████████████████████████████████████████████████████| 218/218 [00:00<00:00, 586.18it/s]\n"
     ]
    },
    {
     "name": "stdout",
     "output_type": "stream",
     "text": [
      "val_loss: 2.308830721389263, val_f1: 0.12899097956019803, val_precision: 0.07024419089616916, val_recall: 0.7880794991047011\n"
     ]
    },
    {
     "name": "stderr",
     "output_type": "stream",
     "text": [
      "100%|████████████████████████████████████████████████████████████| 655/655 [00:03<00:00, 213.90it/s]\n"
     ]
    },
    {
     "name": "stdout",
     "output_type": "stream",
     "text": [
      "Epoch: 484, loss: 2.1855547885858377, f1: 0.15880851956152134, precision: 0.08661358415198918, recall: 0.9539711604591544\n"
     ]
    },
    {
     "name": "stderr",
     "output_type": "stream",
     "text": [
      "100%|████████████████████████████████████████████████████████████| 218/218 [00:00<00:00, 584.63it/s]\n"
     ]
    },
    {
     "name": "stdout",
     "output_type": "stream",
     "text": [
      "val_loss: 2.308477184641252, val_f1: 0.12867923051128066, val_precision: 0.07005783146858181, val_recall: 0.7882692354534744\n"
     ]
    },
    {
     "name": "stderr",
     "output_type": "stream",
     "text": [
      "100%|████████████████████████████████████████████████████████████| 655/655 [00:03<00:00, 209.96it/s]\n"
     ]
    },
    {
     "name": "stdout",
     "output_type": "stream",
     "text": [
      "Epoch: 485, loss: 2.1872899087330766, f1: 0.1585261502817198, precision: 0.08645439995168389, recall: 0.9529039196385682\n"
     ]
    },
    {
     "name": "stderr",
     "output_type": "stream",
     "text": [
      "100%|████████████████████████████████████████████████████████████| 218/218 [00:00<00:00, 587.20it/s]\n"
     ]
    },
    {
     "name": "stdout",
     "output_type": "stream",
     "text": [
      "val_loss: 2.3082480624728245, val_f1: 0.12926901050043904, val_precision: 0.0703707740454157, val_recall: 0.7929161493111094\n"
     ]
    },
    {
     "name": "stderr",
     "output_type": "stream",
     "text": [
      "100%|████████████████████████████████████████████████████████████| 655/655 [00:03<00:00, 211.26it/s]\n"
     ]
    },
    {
     "name": "stdout",
     "output_type": "stream",
     "text": [
      "Epoch: 486, loss: 2.187839618529982, f1: 0.15813977961550485, precision: 0.08622932659518968, recall: 0.9523295692815126\n"
     ]
    },
    {
     "name": "stderr",
     "output_type": "stream",
     "text": [
      "100%|████████████████████████████████████████████████████████████| 218/218 [00:00<00:00, 589.09it/s]\n"
     ]
    },
    {
     "name": "stdout",
     "output_type": "stream",
     "text": [
      "val_loss: 2.307886969605717, val_f1: 0.12938628873357672, val_precision: 0.07044199364870753, val_recall: 0.7927002154905861\n"
     ]
    },
    {
     "name": "stderr",
     "output_type": "stream",
     "text": [
      "100%|████████████████████████████████████████████████████████████| 655/655 [00:03<00:00, 210.29it/s]\n"
     ]
    },
    {
     "name": "stdout",
     "output_type": "stream",
     "text": [
      "Epoch: 487, loss: 2.1844107686108307, f1: 0.15910203160795958, precision: 0.08678608759668947, recall: 0.9542298437074851\n"
     ]
    },
    {
     "name": "stderr",
     "output_type": "stream",
     "text": [
      "100%|████████████████████████████████████████████████████████████| 218/218 [00:00<00:00, 587.07it/s]\n"
     ]
    },
    {
     "name": "stdout",
     "output_type": "stream",
     "text": [
      "val_loss: 2.3086914592379824, val_f1: 0.1290976402635109, val_precision: 0.07029137461779451, val_recall: 0.7901057461532978\n"
     ]
    },
    {
     "name": "stderr",
     "output_type": "stream",
     "text": [
      "100%|████████████████████████████████████████████████████████████| 655/655 [00:03<00:00, 210.68it/s]\n"
     ]
    },
    {
     "name": "stdout",
     "output_type": "stream",
     "text": [
      "Epoch: 488, loss: 2.1849259254586606, f1: 0.1590769782847536, precision: 0.0867730826160778, recall: 0.9539996842391618\n"
     ]
    },
    {
     "name": "stderr",
     "output_type": "stream",
     "text": [
      "100%|████████████████████████████████████████████████████████████| 218/218 [00:00<00:00, 595.62it/s]\n"
     ]
    },
    {
     "name": "stdout",
     "output_type": "stream",
     "text": [
      "val_loss: 2.3090849111386396, val_f1: 0.12946717138957073, val_precision: 0.07051840347959873, val_recall: 0.7891189116950429\n"
     ]
    },
    {
     "name": "stderr",
     "output_type": "stream",
     "text": [
      "100%|████████████████████████████████████████████████████████████| 655/655 [00:03<00:00, 211.42it/s]\n"
     ]
    },
    {
     "name": "stdout",
     "output_type": "stream",
     "text": [
      "Epoch: 489, loss: 2.192604900316428, f1: 0.1576354775235389, precision: 0.08596335769566985, recall: 0.9481946256324535\n"
     ]
    },
    {
     "name": "stderr",
     "output_type": "stream",
     "text": [
      "100%|████████████████████████████████████████████████████████████| 218/218 [00:00<00:00, 575.36it/s]\n"
     ]
    },
    {
     "name": "stdout",
     "output_type": "stream",
     "text": [
      "val_loss: 2.3105851111062075, val_f1: 0.12598024046444772, val_precision: 0.06831361529836004, val_recall: 0.8083191188650394\n"
     ]
    },
    {
     "name": "stderr",
     "output_type": "stream",
     "text": [
      "100%|████████████████████████████████████████████████████████████| 655/655 [00:03<00:00, 209.73it/s]\n"
     ]
    },
    {
     "name": "stdout",
     "output_type": "stream",
     "text": [
      "Epoch: 490, loss: 2.1998532752954323, f1: 0.15418238631705228, precision: 0.08392798527115458, recall: 0.9463661344906756\n"
     ]
    },
    {
     "name": "stderr",
     "output_type": "stream",
     "text": [
      "100%|████████████████████████████████████████████████████████████| 218/218 [00:00<00:00, 594.00it/s]\n"
     ]
    },
    {
     "name": "stdout",
     "output_type": "stream",
     "text": [
      "val_loss: 2.306434369688734, val_f1: 0.1286781214007749, val_precision: 0.06999366556683026, val_recall: 0.7963998906929558\n"
     ]
    },
    {
     "name": "stderr",
     "output_type": "stream",
     "text": [
      "100%|████████████████████████████████████████████████████████████| 655/655 [00:03<00:00, 211.06it/s]\n"
     ]
    },
    {
     "name": "stdout",
     "output_type": "stream",
     "text": [
      "Epoch: 491, loss: 2.186891800392675, f1: 0.15857546638018452, precision: 0.08648279990631205, recall: 0.9530175931581104\n"
     ]
    },
    {
     "name": "stderr",
     "output_type": "stream",
     "text": [
      "100%|████████████████████████████████████████████████████████████| 218/218 [00:00<00:00, 587.56it/s]\n"
     ]
    },
    {
     "name": "stdout",
     "output_type": "stream",
     "text": [
      "val_loss: 2.3079786541265084, val_f1: 0.12925051421149, val_precision: 0.07035036678981343, val_recall: 0.7941176313052484\n"
     ]
    },
    {
     "name": "stderr",
     "output_type": "stream",
     "text": [
      "100%|████████████████████████████████████████████████████████████| 655/655 [00:03<00:00, 210.64it/s]\n"
     ]
    },
    {
     "name": "stdout",
     "output_type": "stream",
     "text": [
      "Epoch: 492, loss: 2.1854804426659156, f1: 0.15907800729586297, precision: 0.08677770112221705, recall: 0.953515727192391\n"
     ]
    },
    {
     "name": "stderr",
     "output_type": "stream",
     "text": [
      "100%|████████████████████████████████████████████████████████████| 218/218 [00:00<00:00, 593.06it/s]\n"
     ]
    },
    {
     "name": "stdout",
     "output_type": "stream",
     "text": [
      "val_loss: 2.3069399354654716, val_f1: 0.12967031405961676, val_precision: 0.07061496998691812, val_recall: 0.7921247109087235\n"
     ]
    },
    {
     "name": "stderr",
     "output_type": "stream",
     "text": [
      "100%|████████████████████████████████████████████████████████████| 655/655 [00:03<00:00, 212.59it/s]\n"
     ]
    },
    {
     "name": "stdout",
     "output_type": "stream",
     "text": [
      "Epoch: 493, loss: 2.184307762502714, f1: 0.15934812811502527, precision: 0.08693184185673604, recall: 0.9543159529453016\n"
     ]
    },
    {
     "name": "stderr",
     "output_type": "stream",
     "text": [
      "100%|████████████████████████████████████████████████████████████| 218/218 [00:00<00:00, 583.77it/s]\n"
     ]
    },
    {
     "name": "stdout",
     "output_type": "stream",
     "text": [
      "val_loss: 2.3094522493694902, val_f1: 0.12902392158722925, val_precision: 0.0702602539645132, val_recall: 0.7885169761443357\n"
     ]
    },
    {
     "name": "stderr",
     "output_type": "stream",
     "text": [
      "100%|████████████████████████████████████████████████████████████| 655/655 [00:03<00:00, 212.47it/s]\n"
     ]
    },
    {
     "name": "stdout",
     "output_type": "stream",
     "text": [
      "Epoch: 494, loss: 2.185608118727007, f1: 0.15906115209205868, precision: 0.08676324320729566, recall: 0.9540506369285001\n"
     ]
    },
    {
     "name": "stderr",
     "output_type": "stream",
     "text": [
      "100%|████████████████████████████████████████████████████████████| 218/218 [00:00<00:00, 592.99it/s]\n"
     ]
    },
    {
     "name": "stdout",
     "output_type": "stream",
     "text": [
      "val_loss: 2.309311952065984, val_f1: 0.12929394783597964, val_precision: 0.07042281908824732, val_recall: 0.7882174841307719\n"
     ]
    },
    {
     "name": "stderr",
     "output_type": "stream",
     "text": [
      "100%|████████████████████████████████████████████████████████████| 655/655 [00:03<00:00, 213.05it/s]\n"
     ]
    },
    {
     "name": "stdout",
     "output_type": "stream",
     "text": [
      "Epoch: 495, loss: 2.1881968217951653, f1: 0.15831919794535806, precision: 0.0863336148330558, recall: 0.9526232532872498\n"
     ]
    },
    {
     "name": "stderr",
     "output_type": "stream",
     "text": [
      "100%|████████████████████████████████████████████████████████████| 218/218 [00:00<00:00, 587.36it/s]\n"
     ]
    },
    {
     "name": "stdout",
     "output_type": "stream",
     "text": [
      "val_loss: 2.3093786264231446, val_f1: 0.1288719546535384, val_precision: 0.07015105165165225, val_recall: 0.7909348709594219\n"
     ]
    },
    {
     "name": "stderr",
     "output_type": "stream",
     "text": [
      "100%|████████████████████████████████████████████████████████████| 655/655 [00:03<00:00, 212.14it/s]\n"
     ]
    },
    {
     "name": "stdout",
     "output_type": "stream",
     "text": [
      "Epoch: 496, loss: 2.1859485254942914, f1: 0.1584954537898941, precision: 0.08643519294071403, recall: 0.9530191197650123\n"
     ]
    },
    {
     "name": "stderr",
     "output_type": "stream",
     "text": [
      "100%|████████████████████████████████████████████████████████████| 218/218 [00:00<00:00, 591.09it/s]\n"
     ]
    },
    {
     "name": "stdout",
     "output_type": "stream",
     "text": [
      "val_loss: 2.3089383498791163, val_f1: 0.12963495742298686, val_precision: 0.07063362991689372, val_recall: 0.7871689785511122\n"
     ]
    },
    {
     "name": "stderr",
     "output_type": "stream",
     "text": [
      "100%|████████████████████████████████████████████████████████████| 655/655 [00:03<00:00, 211.69it/s]\n"
     ]
    },
    {
     "name": "stdout",
     "output_type": "stream",
     "text": [
      "Epoch: 497, loss: 2.183633418574588, f1: 0.15953831856851908, precision: 0.0870445085831612, recall: 0.9543826673777048\n"
     ]
    },
    {
     "name": "stderr",
     "output_type": "stream",
     "text": [
      "100%|████████████████████████████████████████████████████████████| 218/218 [00:00<00:00, 581.52it/s]\n"
     ]
    },
    {
     "name": "stdout",
     "output_type": "stream",
     "text": [
      "val_loss: 2.310718007317377, val_f1: 0.1294307916855946, val_precision: 0.0705178217853445, val_recall: 0.786496681904574\n"
     ]
    },
    {
     "name": "stderr",
     "output_type": "stream",
     "text": [
      "100%|████████████████████████████████████████████████████████████| 655/655 [00:03<00:00, 209.97it/s]\n"
     ]
    },
    {
     "name": "stdout",
     "output_type": "stream",
     "text": [
      "Epoch: 498, loss: 2.1859584356082307, f1: 0.15896072909899633, precision: 0.08671403105534214, recall: 0.9527758563747842\n"
     ]
    },
    {
     "name": "stderr",
     "output_type": "stream",
     "text": [
      "100%|████████████████████████████████████████████████████████████| 218/218 [00:00<00:00, 583.79it/s]\n"
     ]
    },
    {
     "name": "stdout",
     "output_type": "stream",
     "text": [
      "val_loss: 2.3076350287013097, val_f1: 0.1276174799363592, val_precision: 0.06934120078301997, val_recall: 0.7997480321914778\n"
     ]
    },
    {
     "name": "stderr",
     "output_type": "stream",
     "text": [
      "100%|████████████████████████████████████████████████████████████| 655/655 [00:03<00:00, 212.74it/s]\n"
     ]
    },
    {
     "name": "stdout",
     "output_type": "stream",
     "text": [
      "Epoch: 499, loss: 2.1911360269284432, f1: 0.15642652738185076, precision: 0.0852295536050246, recall: 0.9500863892431478\n"
     ]
    },
    {
     "name": "stderr",
     "output_type": "stream",
     "text": [
      "100%|████████████████████████████████████████████████████████████| 218/218 [00:00<00:00, 593.75it/s]\n"
     ]
    },
    {
     "name": "stdout",
     "output_type": "stream",
     "text": [
      "val_loss: 2.3072503980146637, val_f1: 0.1294534438407153, val_precision: 0.07048242466754938, val_recall: 0.7926219442021956\n"
     ]
    },
    {
     "name": "stderr",
     "output_type": "stream",
     "text": [
      "100%|████████████████████████████████████████████████████████████| 655/655 [00:03<00:00, 211.68it/s]\n"
     ]
    },
    {
     "name": "stdout",
     "output_type": "stream",
     "text": [
      "Epoch: 500, loss: 2.1847346625255266, f1: 0.1592596254014464, precision: 0.08688413196008737, recall: 0.9537169384592362\n"
     ]
    },
    {
     "name": "stderr",
     "output_type": "stream",
     "text": [
      "100%|████████████████████████████████████████████████████████████| 218/218 [00:00<00:00, 591.87it/s]"
     ]
    },
    {
     "name": "stdout",
     "output_type": "stream",
     "text": [
      "val_loss: 2.309518380996284, val_f1: 0.12904026283627165, val_precision: 0.07025424786629754, val_recall: 0.7904989977085263\n"
     ]
    },
    {
     "name": "stderr",
     "output_type": "stream",
     "text": [
      "\n"
     ]
    }
   ],
   "source": [
    "train()\n",
    "torch.save(model, \"./models1/\" + run_name + \".pt\")"
   ]
  },
  {
   "cell_type": "code",
   "execution_count": null,
   "id": "65655d69",
   "metadata": {},
   "outputs": [],
   "source": [
    "run_name = \"GatedGCN_\" + str(num_layers) + \"_\" + \"140\" + \"_\" + str(lr) + \"_\" + \"Adam_\" + str(out_channels)\n",
    "\n",
    "\n",
    "torch.save(model, \"./models/\" + run_name + \".pt\")"
   ]
  },
  {
   "cell_type": "code",
   "execution_count": null,
   "id": "90f75ccd",
   "metadata": {},
   "outputs": [],
   "source": []
  }
 ],
 "metadata": {
  "kernelspec": {
   "display_name": "Python 3 (ipykernel)",
   "language": "python",
   "name": "python3"
  },
  "language_info": {
   "codemirror_mode": {
    "name": "ipython",
    "version": 3
   },
   "file_extension": ".py",
   "mimetype": "text/x-python",
   "name": "python",
   "nbconvert_exporter": "python",
   "pygments_lexer": "ipython3",
   "version": "3.8.10"
  }
 },
 "nbformat": 4,
 "nbformat_minor": 5
}
