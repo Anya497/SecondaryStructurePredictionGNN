{
 "cells": [
  {
   "cell_type": "code",
   "execution_count": 1,
   "id": "0e9632e0",
   "metadata": {},
   "outputs": [],
   "source": [
    "import os.path as osp\n",
    "from tqdm.auto import tqdm\n",
    "# from .autonotebook import tqdm\n",
    "import numpy as np\n",
    "import wandb\n",
    "\n",
    "import torch\n",
    "\n",
    "import torch_geometric.transforms as T\n",
    "from torch_geometric.nn import GatedGraphConv\n",
    "from torch_geometric.loader import DataLoader\n",
    "\n",
    "from dataset_processing import RNADataset\n"
   ]
  },
  {
   "cell_type": "code",
   "execution_count": 2,
   "id": "91d9eeef",
   "metadata": {},
   "outputs": [],
   "source": [
    "# device = torch.device('cuda' if torch.cuda.is_available() else 'cpu')\n",
    "# print(device)\n",
    "\n",
    "dataset = RNADataset(root=\"./data/\")\n",
    "dataset = dataset.shuffle()\n",
    "train_data, val_data, test_data = dataset[0:655], dataset[655:873], dataset[873:]\n",
    "\n",
    "train_dataloader = DataLoader(train_data, batch_size=8, shuffle=False)\n",
    "val_dataloader = DataLoader(val_data, batch_size=1, shuffle=False)\n"
   ]
  },
  {
   "cell_type": "code",
   "execution_count": null,
   "id": "d425bd7d",
   "metadata": {},
   "outputs": [],
   "source": [
    "device = torch.device('cuda' if torch.cuda.is_available() else 'cpu')\n",
    "print(device)"
   ]
  },
  {
   "cell_type": "code",
   "execution_count": null,
   "id": "886adfaf",
   "metadata": {},
   "outputs": [],
   "source": [
    "def del_nucl_conn(y):\n",
    "#     main_diag = torch.ones([1, y.size(0)])\n",
    "    diag1 = torch.ones([1, y.size(0) - 1])\n",
    "    return y * (torch.diag_embed(diag1, offset=1).to(device) + \n",
    "            torch.diag_embed(diag1, offset=-1).to(device) - 1)\n",
    "#             * (-1)"
   ]
  },
  {
   "cell_type": "code",
   "execution_count": null,
   "id": "00b61e17",
   "metadata": {},
   "outputs": [],
   "source": [
    "def del_main_diag(y):\n",
    "    main_diag = torch.ones([1, y.size(0)])\n",
    "    return y * torch.diag_embed(main_diag).to(device)"
   ]
  },
  {
   "cell_type": "code",
   "execution_count": 5,
   "id": "2613eec2",
   "metadata": {},
   "outputs": [
    {
     "name": "stdout",
     "output_type": "stream",
     "text": [
      "tensor([[0.6308, 0.6986, 0.5923, 0.5777],\n",
      "        [0.5991, 0.7243, 0.7015, 0.5884],\n",
      "        [0.6169, 0.5015, 0.6566, 0.5561],\n",
      "        [0.6187, 0.6563, 0.5627, 0.6605]])\n"
     ]
    },
    {
     "ename": "NameError",
     "evalue": "name 'device' is not defined",
     "output_type": "error",
     "traceback": [
      "\u001b[0;31m---------------------------------------------------------------------------\u001b[0m",
      "\u001b[0;31mNameError\u001b[0m                                 Traceback (most recent call last)",
      "Cell \u001b[0;32mIn[5], line 3\u001b[0m\n\u001b[1;32m      1\u001b[0m a \u001b[38;5;241m=\u001b[39m torch\u001b[38;5;241m.\u001b[39mrand(\u001b[38;5;241m4\u001b[39m, \u001b[38;5;241m4\u001b[39m)\u001b[38;5;241m.\u001b[39msigmoid()\n\u001b[1;32m      2\u001b[0m \u001b[38;5;28mprint\u001b[39m(a)\n\u001b[0;32m----> 3\u001b[0m \u001b[38;5;28mprint\u001b[39m(del_nucl_conn(a\u001b[38;5;241m.\u001b[39mto(\u001b[43mdevice\u001b[49m)))\n\u001b[1;32m      4\u001b[0m b \u001b[38;5;241m=\u001b[39m del_nucl_conn(a\u001b[38;5;241m.\u001b[39mto(device))\n\u001b[1;32m      5\u001b[0m \u001b[38;5;66;03m# print(b)\u001b[39;00m\n\u001b[1;32m      6\u001b[0m \u001b[38;5;66;03m# argm(b)\u001b[39;00m\n\u001b[1;32m      7\u001b[0m \u001b[38;5;66;03m# c = argm(b)\u001b[39;00m\n\u001b[1;32m      8\u001b[0m \u001b[38;5;66;03m# print(b)\u001b[39;00m\n",
      "\u001b[0;31mNameError\u001b[0m: name 'device' is not defined"
     ]
    }
   ],
   "source": [
    "a = torch.rand(4, 4).sigmoid()\n",
    "print(a)\n",
    "print(del_nucl_conn(a.to(device)))\n",
    "b = del_nucl_conn(a.to(device))\n",
    "# print(b)\n",
    "# argm(b)\n",
    "# c = argm(b)\n",
    "# print(b)\n",
    "argm(b)"
   ]
  },
  {
   "cell_type": "code",
   "execution_count": 86,
   "id": "b709ab7c",
   "metadata": {},
   "outputs": [],
   "source": [
    "def argm(y):\n",
    "    max_ind = torch.argmax(y, dim=1)\n",
    "    y1 = torch.zeros_like(y, dtype=float)\n",
    "    k = 0\n",
    "    for i in max_ind:\n",
    "        y1[k][i] = 1.\n",
    "        y1[i][k] = 1.\n",
    "        k += 1\n",
    "    print(y1)\n",
    "    return y1.to(device)\n"
   ]
  },
  {
   "cell_type": "code",
   "execution_count": 9,
   "id": "26761722",
   "metadata": {},
   "outputs": [
    {
     "ename": "SyntaxError",
     "evalue": "invalid syntax (2091637125.py, line 5)",
     "output_type": "error",
     "traceback": [
      "\u001b[0;36m  Cell \u001b[0;32mIn[9], line 5\u001b[0;36m\u001b[0m\n\u001b[0;31m    y_pred =\u001b[0m\n\u001b[0m             ^\u001b[0m\n\u001b[0;31mSyntaxError\u001b[0m\u001b[0;31m:\u001b[0m invalid syntax\n"
     ]
    }
   ],
   "source": [
    "def precision(y_pred, y_true):\n",
    "    y_pred = del_nucl_conn(y_pred)\n",
    "#     y_pred[(y_pred > 0.5)] = 1\n",
    "#     y_pred[(y_pred <= 0.5)] = 0 \n",
    "    y_pred = \n",
    "    \n",
    "    tp = torch.sum(y_pred * y_true)\n",
    "    fp = torch.sum((1 - y_true) * y_pred)\n",
    "    \n",
    "    return tp / (tp + fp + epsilon)\n",
    "\n",
    "def recall(y_pred, y_true):\n",
    "    y_pred = del_nucl_conn(y_pred)\n",
    "    y_pred[(y_pred > 0.5)] = 1\n",
    "    y_pred[(y_pred <= 0.5)] = 0\n",
    "    \n",
    "    tp = torch.sum(y_pred * y_true)\n",
    "    fn = torch.sum(y_true * (1 - y_pred))\n",
    "    \n",
    "    return tp / (tp + fn + epsilon)\n",
    "\n",
    "def f_loss(y_pred, y_true):\n",
    "    y_pred = del_nucl_conn(y_pred)\n",
    "\n",
    "    tp = torch.sum(y_pred * y_true)\n",
    "    fn = torch.sum(y_true * (1 - y_pred))\n",
    "    fp = torch.sum((1 - y_true) * y_pred)\n",
    "    precision = tp / (tp + fp + epsilon)\n",
    "    recall = tp / (tp + fn + epsilon)\n",
    "\n",
    "    k = 1\n",
    "    k1 = 1 - torch.abs(precision - recall)\n",
    "\n",
    "#     k2 = 1 - torch.abs(K.mean(precision) - K.mean(recall))\n",
    "    #calculate upgraded f1 score\n",
    "    f1 = ((1 + k * k) * precision * recall) / (k * k * precision + recall + epsilon)\n",
    "#     tw = K.sum(K.cast(y_true * y_pred, ’float32’), axis=[1, 2, 3])\n",
    "#     fw = K.sum(K.cast((1 - y_true) * y_pred, ’float32’), axis=[1, 2, 3])\n",
    "#     fb = K.sum(K.cast(y_true * (1 - y_pred), ’float32’), axis=[1, 2, 3])\n",
    "    return 1 - f1\n"
   ]
  },
  {
   "cell_type": "code",
   "execution_count": 10,
   "id": "6c6e6741",
   "metadata": {},
   "outputs": [],
   "source": [
    "class GatedGCNModel(torch.nn.Module):\n",
    "    def __init__(self, num_layers, out_channels):\n",
    "        super(GatedGCNModel, self).__init__()\n",
    "        self.ggcn = GatedGraphConv(out_channels, num_layers)\n",
    "#         self.gcn = GCN(out_channels, hidden_channels, 2, 64, dropout=dropout)\n",
    "\n",
    "    def forward(self, x, edge_index, edge_weight):\n",
    "        x = self.ggcn(x, edge_index)\n",
    "#         x = self.gcn(x.to(torch.float), edge_index)\n",
    "        prob_adj = (x @ x.t()).sigmoid()\n",
    "\n",
    "#         prob_adj = (x @ x.t())\n",
    "\n",
    "#         return (prob_adj > 0).nonzero(as_tuple=False).t()\n",
    "        return prob_adj\n"
   ]
  },
  {
   "cell_type": "code",
   "execution_count": 11,
   "id": "52fb3010",
   "metadata": {},
   "outputs": [
    {
     "name": "stdout",
     "output_type": "stream",
     "text": [
      "cuda\n"
     ]
    },
    {
     "ename": "NameError",
     "evalue": "name 'f_loss' is not defined",
     "output_type": "error",
     "traceback": [
      "\u001b[0;31m---------------------------------------------------------------------------\u001b[0m",
      "\u001b[0;31mNameError\u001b[0m                                 Traceback (most recent call last)",
      "Cell \u001b[0;32mIn[11], line 38\u001b[0m\n\u001b[1;32m     22\u001b[0m optimizer \u001b[38;5;241m=\u001b[39m torch\u001b[38;5;241m.\u001b[39moptim\u001b[38;5;241m.\u001b[39mAdam(model\u001b[38;5;241m.\u001b[39mparameters(), lr\u001b[38;5;241m=\u001b[39mlr, betas\u001b[38;5;241m=\u001b[39m(\u001b[38;5;241m0.9\u001b[39m, \u001b[38;5;241m0.99\u001b[39m))\n\u001b[1;32m     23\u001b[0m \u001b[38;5;66;03m# optimizer = torch.optim.Adagrad(model.parameters(), lr=lr)\u001b[39;00m\n\u001b[1;32m     24\u001b[0m \u001b[38;5;66;03m# optimizer = torch.optim.RMSprop(model.parameters(), lr=lr)\u001b[39;00m\n\u001b[1;32m     25\u001b[0m \u001b[38;5;66;03m# optimizer = torch.optim.Adamax(model.parameters(), lr=lr)\u001b[39;00m\n\u001b[0;32m   (...)\u001b[0m\n\u001b[1;32m     35\u001b[0m \u001b[38;5;66;03m# def RMSELoss(y_pred, y_true):\u001b[39;00m\n\u001b[1;32m     36\u001b[0m \u001b[38;5;66;03m#     return torch.sqrt(torch.mean((y_pred - y_true) ** 2))\u001b[39;00m\n\u001b[0;32m---> 38\u001b[0m criterion \u001b[38;5;241m=\u001b[39m \u001b[43mf_loss\u001b[49m\n",
      "\u001b[0;31mNameError\u001b[0m: name 'f_loss' is not defined"
     ]
    }
   ],
   "source": [
    "hidden_channels = 128\n",
    "out_channels = 200\n",
    "num_layers = 20\n",
    "num_features = dataset.num_features\n",
    "\n",
    "\n",
    "dr = 0.7\n",
    "lr = 0.00002\n",
    "epochs = 1500\n",
    "beta = 0.5\n",
    "\n",
    "\n",
    "model = GatedGCNModel(num_layers, out_channels)\n",
    "# model = torch.load(\"./models1/GatedGCN_6_4e-05_Adam_200_2_60.pt\")\n",
    "\n",
    "model = model.to(device)\n",
    "train_data = list(map(lambda x: x.to(device), train_data))\n",
    "val_data = list(map(lambda x: x.to(device), val_data))\n",
    "print(device)\n",
    "\n",
    "optimizer = torch.optim.Adam(model.parameters(), lr=lr, betas=(0.9, 0.99))\n",
    "# optimizer = torch.optim.Adagrad(model.parameters(), lr=lr)\n",
    "# optimizer = torch.optim.RMSprop(model.parameters(), lr=lr)\n",
    "# optimizer = torch.optim.Adamax(model.parameters(), lr=lr)\n",
    "# optimizer = torch.optim.Adadelta(model.parameters(), lr=lr)\n",
    "\n",
    "# optimizer = torch.optim.SGD(model.parameters(), lr=0.001)\n",
    "\n",
    "# criterion = torch.nn.BCELoss()\n",
    "# criterion = torch.nn.BCEWithLogitsLoss()\n",
    "# criterion = torch.nn.CrossEntropyLoss()\n",
    "# criterion = torch.nn.KLDivLoss()\n",
    "\n",
    "# def RMSELoss(y_pred, y_true):\n",
    "#     return torch.sqrt(torch.mean((y_pred - y_true) ** 2))\n",
    "\n",
    "criterion = f_loss"
   ]
  },
  {
   "cell_type": "code",
   "execution_count": 7,
   "id": "e013e32e",
   "metadata": {},
   "outputs": [
    {
     "name": "stderr",
     "output_type": "stream",
     "text": [
      "\u001b[34m\u001b[1mwandb\u001b[0m: Currently logged in as: \u001b[33mchi-vinny0702\u001b[0m. Use \u001b[1m`wandb login --relogin`\u001b[0m to force relogin\n"
     ]
    },
    {
     "data": {
      "text/html": [
       "wandb version 0.14.0 is available!  To upgrade, please run:\n",
       " $ pip install wandb --upgrade"
      ],
      "text/plain": [
       "<IPython.core.display.HTML object>"
      ]
     },
     "metadata": {},
     "output_type": "display_data"
    },
    {
     "data": {
      "text/html": [
       "Tracking run with wandb version 0.13.10"
      ],
      "text/plain": [
       "<IPython.core.display.HTML object>"
      ]
     },
     "metadata": {},
     "output_type": "display_data"
    },
    {
     "data": {
      "text/html": [
       "Run data is saved locally in <code>/home/vdshk/SecondaryStructurePredictionGNN/wandb/run-20230323_020644-2vnkeioq</code>"
      ],
      "text/plain": [
       "<IPython.core.display.HTML object>"
      ]
     },
     "metadata": {},
     "output_type": "display_data"
    },
    {
     "data": {
      "text/html": [
       "Syncing run <strong><a href='https://wandb.ai/chi-vinny0702/secondary_structure_prediction1/runs/2vnkeioq' target=\"_blank\">GatedGCN_20_2e-05_Adam_200_0.5</a></strong> to <a href='https://wandb.ai/chi-vinny0702/secondary_structure_prediction1' target=\"_blank\">Weights & Biases</a> (<a href='https://wandb.me/run' target=\"_blank\">docs</a>)<br/>"
      ],
      "text/plain": [
       "<IPython.core.display.HTML object>"
      ]
     },
     "metadata": {},
     "output_type": "display_data"
    },
    {
     "data": {
      "text/html": [
       " View project at <a href='https://wandb.ai/chi-vinny0702/secondary_structure_prediction1' target=\"_blank\">https://wandb.ai/chi-vinny0702/secondary_structure_prediction1</a>"
      ],
      "text/plain": [
       "<IPython.core.display.HTML object>"
      ]
     },
     "metadata": {},
     "output_type": "display_data"
    },
    {
     "data": {
      "text/html": [
       " View run at <a href='https://wandb.ai/chi-vinny0702/secondary_structure_prediction1/runs/2vnkeioq' target=\"_blank\">https://wandb.ai/chi-vinny0702/secondary_structure_prediction1/runs/2vnkeioq</a>"
      ],
      "text/plain": [
       "<IPython.core.display.HTML object>"
      ]
     },
     "metadata": {},
     "output_type": "display_data"
    }
   ],
   "source": [
    "run_name = \"GatedGCN_\" + str(num_layers) + \"_\" + str(lr) + \"_\" + \"Adam_\" + str(out_channels) + \"_\" + str(beta)\n",
    "\n",
    "\n",
    "wandb.init(\n",
    "    # set the wandb project where this run will be logged\n",
    "    project=\"secondary_structure_prediction1\",\n",
    "    \n",
    "    # track hyperparameters and run metadata\n",
    "    config={\n",
    "    \"learning_rate\": lr,\n",
    "    \"architecture\": \"GatedGCN\",\n",
    "    \"epochs\": epochs,\n",
    "    \"optimizer\": \"Adam\",\n",
    "    \"out_channels\": out_channels,\n",
    "    \"loss\": \"f_loss\",\n",
    "    \"beta\": beta,\n",
    "    \"train:val:test\": \"655:218:218\"\n",
    "    },\n",
    "    name=run_name\n",
    ")\n",
    "\n",
    "epsilon = 1e-10"
   ]
  },
  {
   "cell_type": "code",
   "execution_count": 8,
   "id": "01199efe",
   "metadata": {},
   "outputs": [],
   "source": [
    "def train():\n",
    "    for epoch in range(1, epochs + 1):\n",
    "        model.train()\n",
    "        train_loss = []\n",
    "        train_recall = []\n",
    "        train_precision = []\n",
    "        for g in tqdm(train_data, ncols=100):\n",
    "            g.to(device)\n",
    "            optimizer.zero_grad()\n",
    "\n",
    "            out = model(g.x, g.edge_index, g.edge_weight)\n",
    "            y_true = g.adj_mat\n",
    "            loss = criterion(out, y_true.to(torch.float32))            \n",
    "            \n",
    "            loss.backward()\n",
    "            optimizer.step()\n",
    "            \n",
    "#             out = out.sigmoid()\n",
    "            \n",
    "            train_loss.append(loss.item())\n",
    "            train_precision.append(precision(out, y_true).item())\n",
    "            train_recall.append(recall(out, y_true).item())\n",
    "            \n",
    "        train_prec = np.mean(train_precision)\n",
    "        train_rec = np.mean(train_recall)\n",
    "        train_f1 = (2 * train_prec * train_rec) / (train_prec + train_rec)\n",
    "        print(f'Epoch: {epoch:03d}, loss: {np.mean(train_loss)}, f1: {train_f1}, precision: {train_prec}, recall: {train_rec}')\n",
    "        \n",
    "        val_loss = []\n",
    "        val_recall = []\n",
    "        val_precision = []\n",
    "        with torch.no_grad():\n",
    "            for g in tqdm(val_data, ncols=100):\n",
    "                g.to(device)\n",
    "                out = model(g.x, g.edge_index, g.edge_weight)\n",
    "        \n",
    "                y_true = g.adj_mat\n",
    "                loss = criterion(out, y_true.to(torch.float32))\n",
    "                                \n",
    "                val_loss.append(loss.item())\n",
    "                \n",
    "#                 out = out.sigmoid()\n",
    "                \n",
    "                val_precision.append(precision(out, y_true).item())\n",
    "                val_recall.append(recall(out, y_true).item())\n",
    " \n",
    "            \n",
    "            prec = np.mean(val_precision)\n",
    "            rec = np.mean(val_recall)\n",
    "            f1 = (2 * prec * rec) / (prec + rec)\n",
    "            print(f'val_loss: {np.mean(val_loss)}, val_f1: {f1}, val_precision: {prec}, val_recall: {rec}')\n",
    "              \n",
    "            wandb.log({\"train_loss\": np.mean(train_loss), \"train_f1\": train_f1, \"train_precision\": train_prec, \n",
    "                       \"train_recall\": train_rec,\n",
    "                       \"val_loss\": np.mean(val_loss), \"val_f1\": f1, \"val_precision\": prec, \"val_recall\": rec})\n",
    "#     wandb.finish()"
   ]
  },
  {
   "cell_type": "code",
   "execution_count": 9,
   "id": "438f41ae",
   "metadata": {},
   "outputs": [
    {
     "name": "stderr",
     "output_type": "stream",
     "text": [
      "100%|█████████████████████████████████████████████████████████████| 655/655 [00:10<00:00, 63.67it/s]\n"
     ]
    },
    {
     "name": "stdout",
     "output_type": "stream",
     "text": [
      "Epoch: 001, loss: 0.9755935694425161, f1: 0.03802750046567334, precision: 0.01939369790862094, recall: 0.9705202890488938\n"
     ]
    },
    {
     "name": "stderr",
     "output_type": "stream",
     "text": [
      "100%|████████████████████████████████████████████████████████████| 218/218 [00:01<00:00, 189.28it/s]\n"
     ]
    },
    {
     "name": "stdout",
     "output_type": "stream",
     "text": [
      "val_loss: 0.9744777807948786, val_f1: 0.03982546452732772, val_precision: 0.02032461714366912, val_recall: 0.9826013995419949\n"
     ]
    },
    {
     "name": "stderr",
     "output_type": "stream",
     "text": [
      "100%|█████████████████████████████████████████████████████████████| 655/655 [00:09<00:00, 65.55it/s]\n"
     ]
    },
    {
     "name": "stdout",
     "output_type": "stream",
     "text": [
      "Epoch: 002, loss: 0.9752909670349296, f1: 0.038517833053459294, precision: 0.019649674392212893, recall: 0.9684550774916437\n"
     ]
    },
    {
     "name": "stderr",
     "output_type": "stream",
     "text": [
      "100%|████████████████████████████████████████████████████████████| 218/218 [00:01<00:00, 189.51it/s]\n"
     ]
    },
    {
     "name": "stdout",
     "output_type": "stream",
     "text": [
      "val_loss: 0.9745738016902854, val_f1: 0.03951719989059651, val_precision: 0.020170930503342097, val_recall: 0.96657727293055\n"
     ]
    },
    {
     "name": "stderr",
     "output_type": "stream",
     "text": [
      "100%|█████████████████████████████████████████████████████████████| 655/655 [00:09<00:00, 69.15it/s]\n"
     ]
    },
    {
     "name": "stdout",
     "output_type": "stream",
     "text": [
      "Epoch: 003, loss: 0.9751472094586787, f1: 0.03892311776819676, precision: 0.019860636925978857, recall: 0.9685297471876363\n"
     ]
    },
    {
     "name": "stderr",
     "output_type": "stream",
     "text": [
      "100%|████████████████████████████████████████████████████████████| 218/218 [00:01<00:00, 188.82it/s]\n"
     ]
    },
    {
     "name": "stdout",
     "output_type": "stream",
     "text": [
      "val_loss: 0.9744314690795514, val_f1: 0.039793779910730666, val_precision: 0.020313110490919117, val_recall: 0.9710422469935286\n"
     ]
    },
    {
     "name": "stderr",
     "output_type": "stream",
     "text": [
      "100%|█████████████████████████████████████████████████████████████| 655/655 [00:09<00:00, 65.65it/s]\n"
     ]
    },
    {
     "name": "stdout",
     "output_type": "stream",
     "text": [
      "Epoch: 004, loss: 0.9749412636720497, f1: 0.03952118254210849, precision: 0.020172282623638974, recall: 0.9682404777930893\n"
     ]
    },
    {
     "name": "stderr",
     "output_type": "stream",
     "text": [
      "100%|████████████████████████████████████████████████████████████| 218/218 [00:01<00:00, 190.23it/s]\n"
     ]
    },
    {
     "name": "stdout",
     "output_type": "stream",
     "text": [
      "val_loss: 0.9741603751248176, val_f1: 0.04076461997080194, val_precision: 0.020821021004673947, val_recall: 0.9673349555547631\n"
     ]
    },
    {
     "name": "stderr",
     "output_type": "stream",
     "text": [
      "100%|█████████████████████████████████████████████████████████████| 655/655 [00:09<00:00, 65.91it/s]\n"
     ]
    },
    {
     "name": "stdout",
     "output_type": "stream",
     "text": [
      "Epoch: 005, loss: 0.9747741270611304, f1: 0.039892912092821003, precision: 0.020367857874975404, recall: 0.9640835761113932\n"
     ]
    },
    {
     "name": "stderr",
     "output_type": "stream",
     "text": [
      "100%|████████████████████████████████████████████████████████████| 218/218 [00:01<00:00, 189.12it/s]\n"
     ]
    },
    {
     "name": "stdout",
     "output_type": "stream",
     "text": [
      "val_loss: 0.9739163520686124, val_f1: 0.04152205201742501, val_precision: 0.02121828183523217, val_recall: 0.9633847738898128\n"
     ]
    },
    {
     "name": "stderr",
     "output_type": "stream",
     "text": [
      "100%|█████████████████████████████████████████████████████████████| 655/655 [00:09<00:00, 66.14it/s]\n"
     ]
    },
    {
     "name": "stdout",
     "output_type": "stream",
     "text": [
      "Epoch: 006, loss: 0.9746273332879744, f1: 0.0400313204595691, precision: 0.02044458493398403, recall: 0.9540412607880039\n"
     ]
    },
    {
     "name": "stderr",
     "output_type": "stream",
     "text": [
      "100%|████████████████████████████████████████████████████████████| 218/218 [00:01<00:00, 189.83it/s]\n"
     ]
    },
    {
     "name": "stdout",
     "output_type": "stream",
     "text": [
      "val_loss: 0.9735103689749306, val_f1: 0.04202935238104801, val_precision: 0.02148410598875596, val_recall: 0.9617658109839903\n"
     ]
    },
    {
     "name": "stderr",
     "output_type": "stream",
     "text": [
      "100%|█████████████████████████████████████████████████████████████| 655/655 [00:10<00:00, 65.49it/s]\n"
     ]
    },
    {
     "name": "stdout",
     "output_type": "stream",
     "text": [
      "Epoch: 007, loss: 0.9742040635975262, f1: 0.04093110153260178, precision: 0.020916327405969777, recall: 0.9496147819147766\n"
     ]
    },
    {
     "name": "stderr",
     "output_type": "stream",
     "text": [
      "100%|████████████████████████████████████████████████████████████| 218/218 [00:01<00:00, 188.13it/s]\n"
     ]
    },
    {
     "name": "stdout",
     "output_type": "stream",
     "text": [
      "val_loss: 0.9729165921517469, val_f1: 0.042967003086181364, val_precision: 0.021980551903460755, val_recall: 0.9500430104997727\n"
     ]
    },
    {
     "name": "stderr",
     "output_type": "stream",
     "text": [
      "100%|█████████████████████████████████████████████████████████████| 655/655 [00:09<00:00, 66.07it/s]\n"
     ]
    },
    {
     "name": "stdout",
     "output_type": "stream",
     "text": [
      "Epoch: 008, loss: 0.9735067720631607, f1: 0.04244670990417355, precision: 0.02171778426477188, recall: 0.9322348663370118\n"
     ]
    },
    {
     "name": "stderr",
     "output_type": "stream",
     "text": [
      "100%|████████████████████████████████████████████████████████████| 218/218 [00:01<00:00, 189.39it/s]\n"
     ]
    },
    {
     "name": "stdout",
     "output_type": "stream",
     "text": [
      "val_loss: 0.9723208292361794, val_f1: 0.043856377855834044, val_precision: 0.022458502709857026, val_recall: 0.9286469769997334\n"
     ]
    },
    {
     "name": "stderr",
     "output_type": "stream",
     "text": [
      "100%|█████████████████████████████████████████████████████████████| 655/655 [00:09<00:00, 65.90it/s]\n"
     ]
    },
    {
     "name": "stdout",
     "output_type": "stream",
     "text": [
      "Epoch: 009, loss: 0.9728111631997669, f1: 0.043687252971802204, precision: 0.022379722980825044, recall: 0.9118774591511443\n"
     ]
    },
    {
     "name": "stderr",
     "output_type": "stream",
     "text": [
      "100%|████████████████████████████████████████████████████████████| 218/218 [00:01<00:00, 190.01it/s]\n"
     ]
    },
    {
     "name": "stdout",
     "output_type": "stream",
     "text": [
      "val_loss: 0.9716108624541432, val_f1: 0.045006121071459335, val_precision: 0.023077162088390543, val_recall: 0.9045556018111902\n"
     ]
    },
    {
     "name": "stderr",
     "output_type": "stream",
     "text": [
      "100%|█████████████████████████████████████████████████████████████| 655/655 [00:10<00:00, 65.50it/s]\n"
     ]
    },
    {
     "name": "stdout",
     "output_type": "stream",
     "text": [
      "Epoch: 010, loss: 0.9722773481871335, f1: 0.04473527547477533, precision: 0.022935138224048243, recall: 0.9039725521138606\n"
     ]
    },
    {
     "name": "stderr",
     "output_type": "stream",
     "text": [
      "100%|████████████████████████████████████████████████████████████| 218/218 [00:01<00:00, 189.66it/s]\n"
     ]
    },
    {
     "name": "stdout",
     "output_type": "stream",
     "text": [
      "val_loss: 0.9709567012043174, val_f1: 0.04591533575612013, val_precision: 0.023563995921061537, val_recall: 0.892214039050111\n"
     ]
    },
    {
     "name": "stderr",
     "output_type": "stream",
     "text": [
      "100%|█████████████████████████████████████████████████████████████| 655/655 [00:09<00:00, 65.84it/s]\n"
     ]
    },
    {
     "name": "stdout",
     "output_type": "stream",
     "text": [
      "Epoch: 011, loss: 0.9719211959656868, f1: 0.04518276946898232, precision: 0.023174700756976738, recall: 0.8975384881023232\n"
     ]
    },
    {
     "name": "stderr",
     "output_type": "stream",
     "text": [
      "100%|████████████████████████████████████████████████████████████| 218/218 [00:01<00:00, 190.80it/s]\n"
     ]
    },
    {
     "name": "stdout",
     "output_type": "stream",
     "text": [
      "val_loss: 0.9707404361405504, val_f1: 0.046875353233578075, val_precision: 0.024077557797389907, val_recall: 0.8819168784544555\n"
     ]
    },
    {
     "name": "stderr",
     "output_type": "stream",
     "text": [
      "100%|█████████████████████████████████████████████████████████████| 655/655 [00:09<00:00, 66.25it/s]\n"
     ]
    },
    {
     "name": "stdout",
     "output_type": "stream",
     "text": [
      "Epoch: 012, loss: 0.9713931217448402, f1: 0.04643224815864069, precision: 0.02384351052500251, recall: 0.8823172745358853\n"
     ]
    },
    {
     "name": "stderr",
     "output_type": "stream",
     "text": [
      "100%|████████████████████████████████████████████████████████████| 218/218 [00:01<00:00, 191.80it/s]\n"
     ]
    },
    {
     "name": "stdout",
     "output_type": "stream",
     "text": [
      "val_loss: 0.9701316285570827, val_f1: 0.04779113298458865, val_precision: 0.024573407953481164, val_recall: 0.866272627623803\n"
     ]
    },
    {
     "name": "stderr",
     "output_type": "stream",
     "text": [
      "100%|█████████████████████████████████████████████████████████████| 655/655 [00:09<00:00, 66.16it/s]\n"
     ]
    },
    {
     "name": "stdout",
     "output_type": "stream",
     "text": [
      "Epoch: 013, loss: 0.9710157581868063, f1: 0.04722969520317455, precision: 0.024269608423853194, recall: 0.8753167336678687\n"
     ]
    },
    {
     "name": "stderr",
     "output_type": "stream",
     "text": [
      "100%|████████████████████████████████████████████████████████████| 218/218 [00:01<00:00, 190.45it/s]\n"
     ]
    },
    {
     "name": "stdout",
     "output_type": "stream",
     "text": [
      "val_loss: 0.9719393102947725, val_f1: 0.04494367463571517, val_precision: 0.023045564575522388, val_recall: 0.9026522116923551\n"
     ]
    },
    {
     "name": "stderr",
     "output_type": "stream",
     "text": [
      "100%|█████████████████████████████████████████████████████████████| 655/655 [00:09<00:00, 70.35it/s]\n"
     ]
    },
    {
     "name": "stdout",
     "output_type": "stream",
     "text": [
      "Epoch: 014, loss: 0.9705746400447293, f1: 0.04822533758972808, precision: 0.024796446546457195, recall: 0.8744193584409379\n"
     ]
    },
    {
     "name": "stderr",
     "output_type": "stream",
     "text": [
      "100%|████████████████████████████████████████████████████████████| 218/218 [00:01<00:00, 192.67it/s]\n"
     ]
    },
    {
     "name": "stdout",
     "output_type": "stream",
     "text": [
      "val_loss: 0.9716019630432129, val_f1: 0.04560636096993285, val_precision: 0.0234010133725685, val_recall: 0.8925864443593069\n"
     ]
    },
    {
     "name": "stderr",
     "output_type": "stream",
     "text": [
      "100%|█████████████████████████████████████████████████████████████| 655/655 [00:09<00:00, 65.78it/s]\n"
     ]
    },
    {
     "name": "stdout",
     "output_type": "stream",
     "text": [
      "Epoch: 015, loss: 0.9711456809335083, f1: 0.04708650192111753, precision: 0.024178153969603412, recall: 0.8965658353485224\n"
     ]
    },
    {
     "name": "stderr",
     "output_type": "stream",
     "text": [
      "100%|████████████████████████████████████████████████████████████| 218/218 [00:01<00:00, 192.79it/s]\n"
     ]
    },
    {
     "name": "stdout",
     "output_type": "stream",
     "text": [
      "val_loss: 0.9706423162320338, val_f1: 0.04729848139276576, val_precision: 0.024282846123475685, val_recall: 0.9063540939070763\n"
     ]
    },
    {
     "name": "stderr",
     "output_type": "stream",
     "text": [
      "100%|█████████████████████████████████████████████████████████████| 655/655 [00:09<00:00, 65.87it/s]\n"
     ]
    },
    {
     "name": "stdout",
     "output_type": "stream",
     "text": [
      "Epoch: 016, loss: 0.9728073105557274, f1: 0.043733303583140454, precision: 0.0224083878450053, recall: 0.9044929003897514\n"
     ]
    },
    {
     "name": "stderr",
     "output_type": "stream",
     "text": [
      "100%|████████████████████████████████████████████████████████████| 218/218 [00:01<00:00, 192.25it/s]\n"
     ]
    },
    {
     "name": "stdout",
     "output_type": "stream",
     "text": [
      "val_loss: 0.9727480723223555, val_f1: 0.042977619581803225, val_precision: 0.02199693202305961, val_recall: 0.9302641339258316\n"
     ]
    },
    {
     "name": "stderr",
     "output_type": "stream",
     "text": [
      "100%|█████████████████████████████████████████████████████████████| 655/655 [00:09<00:00, 65.97it/s]\n"
     ]
    },
    {
     "name": "stdout",
     "output_type": "stream",
     "text": [
      "Epoch: 017, loss: 0.9705865857255368, f1: 0.04765377711030567, precision: 0.02449496213972341, recall: 0.873614443895471\n"
     ]
    },
    {
     "name": "stderr",
     "output_type": "stream",
     "text": [
      "100%|████████████████████████████████████████████████████████████| 218/218 [00:01<00:00, 176.52it/s]\n"
     ]
    },
    {
     "name": "stdout",
     "output_type": "stream",
     "text": [
      "val_loss: 0.9687163323984234, val_f1: 0.05040642160285221, val_precision: 0.025966838230763418, val_recall: 0.857024869240752\n"
     ]
    },
    {
     "name": "stderr",
     "output_type": "stream",
     "text": [
      "100%|█████████████████████████████████████████████████████████████| 655/655 [00:09<00:00, 65.75it/s]\n"
     ]
    },
    {
     "name": "stdout",
     "output_type": "stream",
     "text": [
      "Epoch: 018, loss: 0.9694893218178785, f1: 0.0497455544867842, precision: 0.025611924619293052, recall: 0.8618574814714548\n"
     ]
    },
    {
     "name": "stderr",
     "output_type": "stream",
     "text": [
      "100%|████████████████████████████████████████████████████████████| 218/218 [00:01<00:00, 185.89it/s]\n"
     ]
    },
    {
     "name": "stdout",
     "output_type": "stream",
     "text": [
      "val_loss: 0.9684613844670287, val_f1: 0.05078711313737452, val_precision: 0.026177452055314437, val_recall: 0.8479939238467348\n"
     ]
    },
    {
     "name": "stderr",
     "output_type": "stream",
     "text": [
      "100%|█████████████████████████████████████████████████████████████| 655/655 [00:09<00:00, 65.82it/s]\n"
     ]
    },
    {
     "name": "stdout",
     "output_type": "stream",
     "text": [
      "Epoch: 019, loss: 0.969413395692374, f1: 0.04979394232691099, precision: 0.02563796426660118, recall: 0.8614218598331204\n"
     ]
    },
    {
     "name": "stderr",
     "output_type": "stream",
     "text": [
      "100%|████████████████████████████████████████████████████████████| 218/218 [00:01<00:00, 188.91it/s]\n"
     ]
    },
    {
     "name": "stdout",
     "output_type": "stream",
     "text": [
      "val_loss: 0.9706160789782848, val_f1: 0.04764002871640837, val_precision: 0.024471098472740194, val_recall: 0.8952789723599722\n"
     ]
    },
    {
     "name": "stderr",
     "output_type": "stream",
     "text": [
      "100%|█████████████████████████████████████████████████████████████| 655/655 [00:09<00:00, 66.05it/s]\n"
     ]
    },
    {
     "name": "stdout",
     "output_type": "stream",
     "text": [
      "Epoch: 020, loss: 0.9712709505139416, f1: 0.0470984042298404, precision: 0.02418803305912564, recall: 0.8916425925174742\n"
     ]
    },
    {
     "name": "stderr",
     "output_type": "stream",
     "text": [
      "100%|████████████████████████████████████████████████████████████| 218/218 [00:01<00:00, 188.65it/s]\n"
     ]
    },
    {
     "name": "stdout",
     "output_type": "stream",
     "text": [
      "val_loss: 0.9689943615449678, val_f1: 0.04991323444872156, val_precision: 0.02571242281562572, val_recall: 0.8490213641401277\n"
     ]
    },
    {
     "name": "stderr",
     "output_type": "stream",
     "text": [
      "100%|█████████████████████████████████████████████████████████████| 655/655 [00:09<00:00, 65.99it/s]\n"
     ]
    },
    {
     "name": "stdout",
     "output_type": "stream",
     "text": [
      "Epoch: 021, loss: 0.9696970587468329, f1: 0.04886013199387064, precision: 0.02514681989071137, recall: 0.8571121480856233\n"
     ]
    },
    {
     "name": "stderr",
     "output_type": "stream",
     "text": [
      "100%|████████████████████████████████████████████████████████████| 218/218 [00:01<00:00, 191.70it/s]\n"
     ]
    },
    {
     "name": "stdout",
     "output_type": "stream",
     "text": [
      "val_loss: 0.9683756710739311, val_f1: 0.05072989457254647, val_precision: 0.02614171061250424, val_recall: 0.8536488390570387\n"
     ]
    },
    {
     "name": "stderr",
     "output_type": "stream",
     "text": [
      "100%|█████████████████████████████████████████████████████████████| 655/655 [00:09<00:00, 65.77it/s]\n"
     ]
    },
    {
     "name": "stdout",
     "output_type": "stream",
     "text": [
      "Epoch: 022, loss: 0.9694215464227982, f1: 0.04931825896016208, precision: 0.025391911468575248, recall: 0.8544730117302815\n"
     ]
    },
    {
     "name": "stderr",
     "output_type": "stream",
     "text": [
      "100%|████████████████████████████████████████████████████████████| 218/218 [00:01<00:00, 190.35it/s]\n"
     ]
    },
    {
     "name": "stdout",
     "output_type": "stream",
     "text": [
      "val_loss: 0.9706166033897925, val_f1: 0.0477512852889011, val_precision: 0.02452332409602855, val_recall: 0.9040094033020352\n"
     ]
    },
    {
     "name": "stderr",
     "output_type": "stream",
     "text": [
      "100%|█████████████████████████████████████████████████████████████| 655/655 [00:09<00:00, 65.72it/s]\n"
     ]
    },
    {
     "name": "stdout",
     "output_type": "stream",
     "text": [
      "Epoch: 023, loss: 0.9696583877082999, f1: 0.04879721431385274, precision: 0.025106171050059203, recall: 0.8657247926442678\n"
     ]
    },
    {
     "name": "stderr",
     "output_type": "stream",
     "text": [
      "100%|████████████████████████████████████████████████████████████| 218/218 [00:01<00:00, 189.69it/s]\n"
     ]
    },
    {
     "name": "stdout",
     "output_type": "stream",
     "text": [
      "val_loss: 0.9685774472875333, val_f1: 0.049848030421057204, val_precision: 0.025669934115385415, val_recall: 0.8577310806567516\n"
     ]
    },
    {
     "name": "stderr",
     "output_type": "stream",
     "text": [
      "100%|█████████████████████████████████████████████████████████████| 655/655 [00:10<00:00, 65.34it/s]\n"
     ]
    },
    {
     "name": "stdout",
     "output_type": "stream",
     "text": [
      "Epoch: 024, loss: 0.968992679628707, f1: 0.04981976106832403, precision: 0.02566205737294757, recall: 0.8498517243006757\n"
     ]
    },
    {
     "name": "stderr",
     "output_type": "stream",
     "text": [
      "100%|████████████████████████████████████████████████████████████| 218/218 [00:01<00:00, 189.93it/s]\n"
     ]
    },
    {
     "name": "stdout",
     "output_type": "stream",
     "text": [
      "val_loss: 0.968647417125352, val_f1: 0.049935519807369225, val_precision: 0.025713971191205495, val_recall: 0.860373287846189\n"
     ]
    },
    {
     "name": "stderr",
     "output_type": "stream",
     "text": [
      "100%|█████████████████████████████████████████████████████████████| 655/655 [00:09<00:00, 67.90it/s]\n"
     ]
    },
    {
     "name": "stdout",
     "output_type": "stream",
     "text": [
      "Epoch: 025, loss: 0.9685026396321886, f1: 0.05112001493006015, precision: 0.026343567291175138, recall: 0.859336778316789\n"
     ]
    },
    {
     "name": "stderr",
     "output_type": "stream",
     "text": [
      "100%|████████████████████████████████████████████████████████████| 218/218 [00:01<00:00, 187.27it/s]\n"
     ]
    },
    {
     "name": "stdout",
     "output_type": "stream",
     "text": [
      "val_loss: 0.9677828637831801, val_f1: 0.053362113698250245, val_precision: 0.027544997583374108, val_recall: 0.8506713681811586\n"
     ]
    },
    {
     "name": "stderr",
     "output_type": "stream",
     "text": [
      "100%|█████████████████████████████████████████████████████████████| 655/655 [00:09<00:00, 66.09it/s]\n"
     ]
    },
    {
     "name": "stdout",
     "output_type": "stream",
     "text": [
      "Epoch: 026, loss: 0.9681837213858393, f1: 0.051816773501342395, precision: 0.02673138733704411, recall: 0.8415147364139557\n"
     ]
    },
    {
     "name": "stderr",
     "output_type": "stream",
     "text": [
      "100%|████████████████████████████████████████████████████████████| 218/218 [00:01<00:00, 191.17it/s]\n"
     ]
    },
    {
     "name": "stdout",
     "output_type": "stream",
     "text": [
      "val_loss: 0.966569728534156, val_f1: 0.055145188499241146, val_precision: 0.028492140979933286, val_recall: 0.8543363992774159\n"
     ]
    },
    {
     "name": "stderr",
     "output_type": "stream",
     "text": [
      "100%|█████████████████████████████████████████████████████████████| 655/655 [00:09<00:00, 66.12it/s]\n"
     ]
    },
    {
     "name": "stdout",
     "output_type": "stream",
     "text": [
      "Epoch: 027, loss: 0.9682305208599294, f1: 0.05184486860039594, precision: 0.02674091923022145, recall: 0.8469181245064917\n"
     ]
    },
    {
     "name": "stderr",
     "output_type": "stream",
     "text": [
      "100%|████████████████████████████████████████████████████████████| 218/218 [00:01<00:00, 191.46it/s]\n"
     ]
    },
    {
     "name": "stdout",
     "output_type": "stream",
     "text": [
      "val_loss: 0.9667278038799216, val_f1: 0.05450728497597756, val_precision: 0.028180100420519813, val_recall: 0.8289749109690342\n"
     ]
    },
    {
     "name": "stderr",
     "output_type": "stream",
     "text": [
      "100%|█████████████████████████████████████████████████████████████| 655/655 [00:10<00:00, 65.41it/s]\n"
     ]
    },
    {
     "name": "stdout",
     "output_type": "stream",
     "text": [
      "Epoch: 028, loss: 0.9667675956514955, f1: 0.0548816292399879, precision: 0.028357026303713104, recall: 0.8493014396146964\n"
     ]
    },
    {
     "name": "stderr",
     "output_type": "stream",
     "text": [
      "100%|████████████████████████████████████████████████████████████| 218/218 [00:01<00:00, 190.66it/s]\n"
     ]
    },
    {
     "name": "stdout",
     "output_type": "stream",
     "text": [
      "val_loss: 0.9664917738612638, val_f1: 0.054859950556210436, val_precision: 0.02832944964543583, val_recall: 0.8639224547585216\n"
     ]
    },
    {
     "name": "stderr",
     "output_type": "stream",
     "text": [
      "100%|█████████████████████████████████████████████████████████████| 655/655 [00:10<00:00, 65.41it/s]\n"
     ]
    },
    {
     "name": "stdout",
     "output_type": "stream",
     "text": [
      "Epoch: 029, loss: 0.9671599093284315, f1: 0.05413452534577411, precision: 0.027972619628128487, recall: 0.8362914083113198\n"
     ]
    },
    {
     "name": "stderr",
     "output_type": "stream",
     "text": [
      "100%|████████████████████████████████████████████████████████████| 218/218 [00:01<00:00, 192.41it/s]\n"
     ]
    },
    {
     "name": "stdout",
     "output_type": "stream",
     "text": [
      "val_loss: 0.9660582260801158, val_f1: 0.05413715582783071, val_precision: 0.02797233755059472, val_recall: 0.8378017425126986\n"
     ]
    },
    {
     "name": "stderr",
     "output_type": "stream",
     "text": [
      "100%|█████████████████████████████████████████████████████████████| 655/655 [00:09<00:00, 65.67it/s]\n"
     ]
    },
    {
     "name": "stdout",
     "output_type": "stream",
     "text": [
      "Epoch: 030, loss: 0.9673202918686029, f1: 0.05318133799002996, precision: 0.027457759965509743, recall: 0.8420341480096788\n"
     ]
    },
    {
     "name": "stderr",
     "output_type": "stream",
     "text": [
      "100%|████████████████████████████████████████████████████████████| 218/218 [00:01<00:00, 187.88it/s]\n"
     ]
    },
    {
     "name": "stdout",
     "output_type": "stream",
     "text": [
      "val_loss: 0.9655966780601292, val_f1: 0.05493192375179269, val_precision: 0.0284132290783193, val_recall: 0.8238400576311514\n"
     ]
    },
    {
     "name": "stderr",
     "output_type": "stream",
     "text": [
      "100%|█████████████████████████████████████████████████████████████| 655/655 [00:09<00:00, 65.74it/s]\n"
     ]
    },
    {
     "name": "stdout",
     "output_type": "stream",
     "text": [
      "Epoch: 031, loss: 0.9659146144189907, f1: 0.05552456114581381, precision: 0.02872329136242962, recall: 0.8297764005096814\n"
     ]
    },
    {
     "name": "stderr",
     "output_type": "stream",
     "text": [
      "100%|████████████████████████████████████████████████████████████| 218/218 [00:01<00:00, 190.58it/s]\n"
     ]
    },
    {
     "name": "stdout",
     "output_type": "stream",
     "text": [
      "val_loss: 0.9656234044547475, val_f1: 0.055247675596690596, val_precision: 0.028573230662972692, val_recall: 0.8313758388298367\n"
     ]
    },
    {
     "name": "stderr",
     "output_type": "stream",
     "text": [
      "100%|█████████████████████████████████████████████████████████████| 655/655 [00:10<00:00, 65.21it/s]\n"
     ]
    },
    {
     "name": "stdout",
     "output_type": "stream",
     "text": [
      "Epoch: 032, loss: 0.965120401091248, f1: 0.056780302314152084, precision: 0.02941984222412735, recall: 0.8111498627953857\n"
     ]
    },
    {
     "name": "stderr",
     "output_type": "stream",
     "text": [
      "100%|████████████████████████████████████████████████████████████| 218/218 [00:01<00:00, 189.75it/s]\n"
     ]
    },
    {
     "name": "stdout",
     "output_type": "stream",
     "text": [
      "val_loss: 0.9644795295295365, val_f1: 0.05772516581390883, val_precision: 0.02990186808805981, val_recall: 0.8304218730863628\n"
     ]
    },
    {
     "name": "stderr",
     "output_type": "stream",
     "text": [
      "100%|█████████████████████████████████████████████████████████████| 655/655 [00:09<00:00, 65.87it/s]\n"
     ]
    },
    {
     "name": "stdout",
     "output_type": "stream",
     "text": [
      "Epoch: 033, loss: 0.9648051035313205, f1: 0.057322662293088564, precision: 0.02969783517027288, recall: 0.8212022999088273\n"
     ]
    },
    {
     "name": "stderr",
     "output_type": "stream",
     "text": [
      "100%|████████████████████████████████████████████████████████████| 218/218 [00:01<00:00, 190.26it/s]\n"
     ]
    },
    {
     "name": "stdout",
     "output_type": "stream",
     "text": [
      "val_loss: 0.9657053515451763, val_f1: 0.055002979111164724, val_precision: 0.028446204919761065, val_recall: 0.8280938758489189\n"
     ]
    },
    {
     "name": "stderr",
     "output_type": "stream",
     "text": [
      "100%|█████████████████████████████████████████████████████████████| 655/655 [00:09<00:00, 65.87it/s]\n"
     ]
    },
    {
     "name": "stdout",
     "output_type": "stream",
     "text": [
      "Epoch: 034, loss: 0.9666079686798212, f1: 0.05444704224081547, precision: 0.028118944540264385, recall: 0.8548991053841496\n"
     ]
    },
    {
     "name": "stderr",
     "output_type": "stream",
     "text": [
      "100%|████████████████████████████████████████████████████████████| 218/218 [00:01<00:00, 189.64it/s]\n"
     ]
    },
    {
     "name": "stdout",
     "output_type": "stream",
     "text": [
      "val_loss: 0.9665296971797943, val_f1: 0.05466767046483784, val_precision: 0.028221163724617467, val_recall: 0.8693428038183703\n"
     ]
    },
    {
     "name": "stderr",
     "output_type": "stream",
     "text": [
      "100%|█████████████████████████████████████████████████████████████| 655/655 [00:09<00:00, 65.77it/s]\n"
     ]
    },
    {
     "name": "stdout",
     "output_type": "stream",
     "text": [
      "Epoch: 035, loss: 0.9659836149397697, f1: 0.05509009023607448, precision: 0.028456807373987356, recall: 0.8597022282030746\n"
     ]
    },
    {
     "name": "stderr",
     "output_type": "stream",
     "text": [
      "100%|████████████████████████████████████████████████████████████| 218/218 [00:01<00:00, 189.04it/s]\n"
     ]
    },
    {
     "name": "stdout",
     "output_type": "stream",
     "text": [
      "val_loss: 0.9659995874133679, val_f1: 0.05408356257997773, val_precision: 0.02790249553733343, val_recall: 0.8766361008816903\n"
     ]
    },
    {
     "name": "stderr",
     "output_type": "stream",
     "text": [
      "100%|█████████████████████████████████████████████████████████████| 655/655 [00:09<00:00, 65.50it/s]\n"
     ]
    },
    {
     "name": "stdout",
     "output_type": "stream",
     "text": [
      "Epoch: 036, loss: 0.965855383508988, f1: 0.05479981622072864, precision: 0.02829887104320219, recall: 0.8625344136971553\n"
     ]
    },
    {
     "name": "stderr",
     "output_type": "stream",
     "text": [
      "100%|████████████████████████████████████████████████████████████| 218/218 [00:01<00:00, 189.67it/s]\n"
     ]
    },
    {
     "name": "stdout",
     "output_type": "stream",
     "text": [
      "val_loss: 0.9623741411834682, val_f1: 0.06148416700498214, val_precision: 0.03195520620066843, val_recall: 0.8097858681864695\n"
     ]
    },
    {
     "name": "stderr",
     "output_type": "stream",
     "text": [
      "100%|█████████████████████████████████████████████████████████████| 655/655 [00:09<00:00, 69.43it/s]\n"
     ]
    },
    {
     "name": "stdout",
     "output_type": "stream",
     "text": [
      "Epoch: 037, loss: 0.9643735125774645, f1: 0.05738946417525013, precision: 0.029715656342859317, recall: 0.8352067190044709\n"
     ]
    },
    {
     "name": "stderr",
     "output_type": "stream",
     "text": [
      "100%|████████████████████████████████████████████████████████████| 218/218 [00:01<00:00, 189.32it/s]\n"
     ]
    },
    {
     "name": "stdout",
     "output_type": "stream",
     "text": [
      "val_loss: 0.9636825060625689, val_f1: 0.058378028833670714, val_precision: 0.0302619617192049, val_recall: 0.8232620884108981\n"
     ]
    },
    {
     "name": "stderr",
     "output_type": "stream",
     "text": [
      "100%|█████████████████████████████████████████████████████████████| 655/655 [00:09<00:00, 65.99it/s]\n"
     ]
    },
    {
     "name": "stdout",
     "output_type": "stream",
     "text": [
      "Epoch: 038, loss: 0.9647326984478317, f1: 0.05673648338321645, precision: 0.029371917347480608, recall: 0.8301782008800798\n"
     ]
    },
    {
     "name": "stderr",
     "output_type": "stream",
     "text": [
      "100%|████████████████████████████████████████████████████████████| 218/218 [00:01<00:00, 190.28it/s]\n"
     ]
    },
    {
     "name": "stdout",
     "output_type": "stream",
     "text": [
      "val_loss: 0.962322411460614, val_f1: 0.0610967003626755, val_precision: 0.031753555951648554, val_recall: 0.8048573700933281\n"
     ]
    },
    {
     "name": "stderr",
     "output_type": "stream",
     "text": [
      "100%|█████████████████████████████████████████████████████████████| 655/655 [00:09<00:00, 65.66it/s]\n"
     ]
    },
    {
     "name": "stdout",
     "output_type": "stream",
     "text": [
      "Epoch: 039, loss: 0.9661699438823088, f1: 0.054023550193703106, precision: 0.027912554773679786, recall: 0.837016721536185\n"
     ]
    },
    {
     "name": "stderr",
     "output_type": "stream",
     "text": [
      "100%|████████████████████████████████████████████████████████████| 218/218 [00:01<00:00, 186.51it/s]\n"
     ]
    },
    {
     "name": "stdout",
     "output_type": "stream",
     "text": [
      "val_loss: 0.9720696287417631, val_f1: 0.04399494373334006, val_precision: 0.022554562231653943, val_recall: 0.8905976109821861\n"
     ]
    },
    {
     "name": "stderr",
     "output_type": "stream",
     "text": [
      "100%|█████████████████████████████████████████████████████████████| 655/655 [00:09<00:00, 65.90it/s]\n"
     ]
    },
    {
     "name": "stdout",
     "output_type": "stream",
     "text": [
      "Epoch: 040, loss: 0.9664842736630039, f1: 0.053300066640491986, precision: 0.02752649171263662, recall: 0.8369843083256073\n"
     ]
    },
    {
     "name": "stderr",
     "output_type": "stream",
     "text": [
      "100%|████████████████████████████████████████████████████████████| 218/218 [00:01<00:00, 188.55it/s]\n"
     ]
    },
    {
     "name": "stdout",
     "output_type": "stream",
     "text": [
      "val_loss: 0.9616641585433156, val_f1: 0.061938836860443686, val_precision: 0.0321962615211255, val_recall: 0.8127359581103019\n"
     ]
    },
    {
     "name": "stderr",
     "output_type": "stream",
     "text": [
      "100%|█████████████████████████████████████████████████████████████| 655/655 [00:09<00:00, 65.90it/s]\n"
     ]
    },
    {
     "name": "stdout",
     "output_type": "stream",
     "text": [
      "Epoch: 041, loss: 0.9640205303221259, f1: 0.05745378395630999, precision: 0.02977949926302633, recall: 0.8127175925797179\n"
     ]
    },
    {
     "name": "stderr",
     "output_type": "stream",
     "text": [
      "100%|████████████████████████████████████████████████████████████| 218/218 [00:01<00:00, 190.27it/s]\n"
     ]
    },
    {
     "name": "stdout",
     "output_type": "stream",
     "text": [
      "val_loss: 0.9618543670811784, val_f1: 0.06226026312599138, val_precision: 0.03231357197851848, val_recall: 0.8500011777248951\n"
     ]
    },
    {
     "name": "stderr",
     "output_type": "stream",
     "text": [
      "100%|█████████████████████████████████████████████████████████████| 655/655 [00:10<00:00, 64.70it/s]\n"
     ]
    },
    {
     "name": "stdout",
     "output_type": "stream",
     "text": [
      "Epoch: 042, loss: 0.9641222587978567, f1: 0.05731863023295993, precision: 0.029658817962160376, recall: 0.8504242020253917\n"
     ]
    },
    {
     "name": "stderr",
     "output_type": "stream",
     "text": [
      "100%|████████████████████████████████████████████████████████████| 218/218 [00:01<00:00, 191.30it/s]\n"
     ]
    },
    {
     "name": "stdout",
     "output_type": "stream",
     "text": [
      "val_loss: 0.9633772148998505, val_f1: 0.058489239777392406, val_precision: 0.030282200679904996, val_recall: 0.8535156546656145\n"
     ]
    },
    {
     "name": "stderr",
     "output_type": "stream",
     "text": [
      "100%|█████████████████████████████████████████████████████████████| 655/655 [00:09<00:00, 65.91it/s]\n"
     ]
    },
    {
     "name": "stdout",
     "output_type": "stream",
     "text": [
      "Epoch: 043, loss: 0.9652569064657197, f1: 0.055268718794106594, precision: 0.02859213032070121, recall: 0.8249626144425559\n"
     ]
    },
    {
     "name": "stderr",
     "output_type": "stream",
     "text": [
      "100%|████████████████████████████████████████████████████████████| 218/218 [00:01<00:00, 184.94it/s]\n"
     ]
    },
    {
     "name": "stdout",
     "output_type": "stream",
     "text": [
      "val_loss: 0.9613991899227877, val_f1: 0.061672303234047286, val_precision: 0.03206409520999349, val_recall: 0.8051943973800458\n"
     ]
    },
    {
     "name": "stderr",
     "output_type": "stream",
     "text": [
      "100%|█████████████████████████████████████████████████████████████| 655/655 [00:10<00:00, 65.30it/s]\n"
     ]
    },
    {
     "name": "stdout",
     "output_type": "stream",
     "text": [
      "Epoch: 044, loss: 0.9635608963383973, f1: 0.05794498299263567, precision: 0.03003992696669493, recall: 0.8153481430452288\n"
     ]
    },
    {
     "name": "stderr",
     "output_type": "stream",
     "text": [
      "100%|████████████████████████████████████████████████████████████| 218/218 [00:01<00:00, 189.70it/s]\n"
     ]
    },
    {
     "name": "stdout",
     "output_type": "stream",
     "text": [
      "val_loss: 0.964739549597469, val_f1: 0.056369506592662835, val_precision: 0.029157494145142206, val_recall: 0.844826019411787\n"
     ]
    },
    {
     "name": "stderr",
     "output_type": "stream",
     "text": [
      "100%|█████████████████████████████████████████████████████████████| 655/655 [00:09<00:00, 65.80it/s]\n"
     ]
    },
    {
     "name": "stdout",
     "output_type": "stream",
     "text": [
      "Epoch: 045, loss: 0.963787384888598, f1: 0.05768588299023281, precision: 0.029867979060175992, recall: 0.8404378551335735\n"
     ]
    },
    {
     "name": "stderr",
     "output_type": "stream",
     "text": [
      "100%|████████████████████████████████████████████████████████████| 218/218 [00:01<00:00, 188.33it/s]\n"
     ]
    },
    {
     "name": "stdout",
     "output_type": "stream",
     "text": [
      "val_loss: 0.9619350690360463, val_f1: 0.06243058923217703, val_precision: 0.032384261975402374, val_recall: 0.8647668991203702\n"
     ]
    },
    {
     "name": "stderr",
     "output_type": "stream",
     "text": [
      "100%|█████████████████████████████████████████████████████████████| 655/655 [00:10<00:00, 65.49it/s]\n"
     ]
    },
    {
     "name": "stdout",
     "output_type": "stream",
     "text": [
      "Epoch: 046, loss: 0.9626808090974356, f1: 0.059483621012772145, precision: 0.03085711170947677, recall: 0.8228686266045534\n"
     ]
    },
    {
     "name": "stderr",
     "output_type": "stream",
     "text": [
      "100%|████████████████████████████████████████████████████████████| 218/218 [00:01<00:00, 189.46it/s]\n"
     ]
    },
    {
     "name": "stdout",
     "output_type": "stream",
     "text": [
      "val_loss: 0.9593821132401807, val_f1: 0.06470987460870048, val_precision: 0.033758952034052055, val_recall: 0.7779610522706574\n"
     ]
    },
    {
     "name": "stderr",
     "output_type": "stream",
     "text": [
      "100%|█████████████████████████████████████████████████████████████| 655/655 [00:10<00:00, 65.46it/s]\n"
     ]
    },
    {
     "name": "stdout",
     "output_type": "stream",
     "text": [
      "Epoch: 047, loss: 0.9616628790629729, f1: 0.060755748250078415, precision: 0.031572810764502704, recall: 0.8026491443164476\n"
     ]
    },
    {
     "name": "stderr",
     "output_type": "stream",
     "text": [
      "100%|████████████████████████████████████████████████████████████| 218/218 [00:01<00:00, 189.50it/s]\n"
     ]
    },
    {
     "name": "stdout",
     "output_type": "stream",
     "text": [
      "val_loss: 0.9589125024616172, val_f1: 0.06491890359899623, val_precision: 0.03385855015068221, val_recall: 0.7855273188527571\n"
     ]
    },
    {
     "name": "stderr",
     "output_type": "stream",
     "text": [
      "100%|█████████████████████████████████████████████████████████████| 655/655 [00:09<00:00, 70.06it/s]\n"
     ]
    },
    {
     "name": "stdout",
     "output_type": "stream",
     "text": [
      "Epoch: 048, loss: 0.9630247054209236, f1: 0.0585995656785034, precision: 0.03039715047392511, recall: 0.8116057733770545\n"
     ]
    },
    {
     "name": "stderr",
     "output_type": "stream",
     "text": [
      "100%|████████████████████████████████████████████████████████████| 218/218 [00:01<00:00, 190.76it/s]\n"
     ]
    },
    {
     "name": "stdout",
     "output_type": "stream",
     "text": [
      "val_loss: 0.9628558913502124, val_f1: 0.058817258499055974, val_precision: 0.030453537941115712, val_recall: 0.8571053278213794\n"
     ]
    },
    {
     "name": "stderr",
     "output_type": "stream",
     "text": [
      "100%|█████████████████████████████████████████████████████████████| 655/655 [00:09<00:00, 65.84it/s]\n"
     ]
    },
    {
     "name": "stdout",
     "output_type": "stream",
     "text": [
      "Epoch: 049, loss: 0.9636857025495922, f1: 0.05756675451289965, precision: 0.029821357772799338, recall: 0.8269513517390681\n"
     ]
    },
    {
     "name": "stderr",
     "output_type": "stream",
     "text": [
      "100%|████████████████████████████████████████████████████████████| 218/218 [00:01<00:00, 190.60it/s]\n"
     ]
    },
    {
     "name": "stdout",
     "output_type": "stream",
     "text": [
      "val_loss: 0.9588188649317541, val_f1: 0.06635363615577877, val_precision: 0.034635081519842695, val_recall: 0.7879795691494001\n"
     ]
    },
    {
     "name": "stderr",
     "output_type": "stream",
     "text": [
      "100%|█████████████████████████████████████████████████████████████| 655/655 [00:10<00:00, 65.21it/s]\n"
     ]
    },
    {
     "name": "stdout",
     "output_type": "stream",
     "text": [
      "Epoch: 050, loss: 0.9606282939437691, f1: 0.06218480825399588, precision: 0.03236960050159397, recall: 0.7880140597356184\n"
     ]
    },
    {
     "name": "stderr",
     "output_type": "stream",
     "text": [
      "100%|████████████████████████████████████████████████████████████| 218/218 [00:01<00:00, 189.04it/s]\n"
     ]
    },
    {
     "name": "stdout",
     "output_type": "stream",
     "text": [
      "val_loss: 0.9604159175255976, val_f1: 0.06329016768539183, val_precision: 0.03295883392475101, val_recall: 0.7938991419697573\n"
     ]
    },
    {
     "name": "stderr",
     "output_type": "stream",
     "text": [
      "100%|█████████████████████████████████████████████████████████████| 655/655 [00:10<00:00, 65.37it/s]\n"
     ]
    },
    {
     "name": "stdout",
     "output_type": "stream",
     "text": [
      "Epoch: 051, loss: 0.9603103659535183, f1: 0.06265877882490192, precision: 0.03265098416786783, recall: 0.7740159330249743\n"
     ]
    },
    {
     "name": "stderr",
     "output_type": "stream",
     "text": [
      "100%|████████████████████████████████████████████████████████████| 218/218 [00:01<00:00, 190.83it/s]\n"
     ]
    },
    {
     "name": "stdout",
     "output_type": "stream",
     "text": [
      "val_loss: 0.9582992841344361, val_f1: 0.06572874262290224, val_precision: 0.03432717948346698, val_recall: 0.7712160720737702\n"
     ]
    },
    {
     "name": "stderr",
     "output_type": "stream",
     "text": [
      "100%|█████████████████████████████████████████████████████████████| 655/655 [00:09<00:00, 65.59it/s]\n"
     ]
    },
    {
     "name": "stdout",
     "output_type": "stream",
     "text": [
      "Epoch: 052, loss: 0.960187381369467, f1: 0.06298643174364156, precision: 0.032806316222853335, recall: 0.7868221175579624\n"
     ]
    },
    {
     "name": "stderr",
     "output_type": "stream",
     "text": [
      "100%|████████████████████████████████████████████████████████████| 218/218 [00:01<00:00, 188.85it/s]\n"
     ]
    },
    {
     "name": "stdout",
     "output_type": "stream",
     "text": [
      "val_loss: 0.9598884847732859, val_f1: 0.06384881863754709, val_precision: 0.033224048668095724, val_recall: 0.8161172785821857\n"
     ]
    },
    {
     "name": "stderr",
     "output_type": "stream",
     "text": [
      "100%|█████████████████████████████████████████████████████████████| 655/655 [00:09<00:00, 65.61it/s]\n"
     ]
    },
    {
     "name": "stdout",
     "output_type": "stream",
     "text": [
      "Epoch: 053, loss: 0.9600173902875595, f1: 0.06344740792024971, precision: 0.03304206614723813, recall: 0.795090101136051\n"
     ]
    },
    {
     "name": "stderr",
     "output_type": "stream",
     "text": [
      "100%|████████████████████████████████████████████████████████████| 218/218 [00:01<00:00, 190.34it/s]\n"
     ]
    },
    {
     "name": "stdout",
     "output_type": "stream",
     "text": [
      "val_loss: 0.958334868107367, val_f1: 0.06594796262427756, val_precision: 0.03444418619726485, val_recall: 0.7725195062748336\n"
     ]
    },
    {
     "name": "stderr",
     "output_type": "stream",
     "text": [
      "100%|█████████████████████████████████████████████████████████████| 655/655 [00:09<00:00, 65.72it/s]\n"
     ]
    },
    {
     "name": "stdout",
     "output_type": "stream",
     "text": [
      "Epoch: 054, loss: 0.9593640898930208, f1: 0.06401871381037395, precision: 0.033396771457224, recall: 0.7705045153848997\n"
     ]
    },
    {
     "name": "stderr",
     "output_type": "stream",
     "text": [
      "100%|████████████████████████████████████████████████████████████| 218/218 [00:01<00:00, 189.51it/s]\n"
     ]
    },
    {
     "name": "stdout",
     "output_type": "stream",
     "text": [
      "val_loss: 0.9582934095225203, val_f1: 0.06670301570119858, val_precision: 0.03486007773328077, val_recall: 0.7706876357145812\n"
     ]
    },
    {
     "name": "stderr",
     "output_type": "stream",
     "text": [
      "100%|█████████████████████████████████████████████████████████████| 655/655 [00:09<00:00, 65.93it/s]\n"
     ]
    },
    {
     "name": "stdout",
     "output_type": "stream",
     "text": [
      "Epoch: 055, loss: 0.960233705826388, f1: 0.06257040806495053, precision: 0.032599462573380984, recall: 0.7760123341138127\n"
     ]
    },
    {
     "name": "stderr",
     "output_type": "stream",
     "text": [
      "100%|████████████████████████████████████████████████████████████| 218/218 [00:01<00:00, 190.23it/s]\n"
     ]
    },
    {
     "name": "stdout",
     "output_type": "stream",
     "text": [
      "val_loss: 0.9569204887118908, val_f1: 0.0687689584015575, val_precision: 0.036006489616963976, val_recall: 0.7632900386912014\n"
     ]
    },
    {
     "name": "stderr",
     "output_type": "stream",
     "text": [
      "100%|█████████████████████████████████████████████████████████████| 655/655 [00:09<00:00, 65.61it/s]\n"
     ]
    },
    {
     "name": "stdout",
     "output_type": "stream",
     "text": [
      "Epoch: 056, loss: 0.9603701838100229, f1: 0.06302319208016603, precision: 0.03285122922628777, recall: 0.7727448643846366\n"
     ]
    },
    {
     "name": "stderr",
     "output_type": "stream",
     "text": [
      "100%|████████████████████████████████████████████████████████████| 218/218 [00:01<00:00, 189.46it/s]\n"
     ]
    },
    {
     "name": "stdout",
     "output_type": "stream",
     "text": [
      "val_loss: 0.9577545061570789, val_f1: 0.06707540166189299, val_precision: 0.03504413853873661, val_recall: 0.7801848215247513\n"
     ]
    },
    {
     "name": "stderr",
     "output_type": "stream",
     "text": [
      "100%|█████████████████████████████████████████████████████████████| 655/655 [00:09<00:00, 65.80it/s]\n"
     ]
    },
    {
     "name": "stdout",
     "output_type": "stream",
     "text": [
      "Epoch: 057, loss: 0.9589397592398956, f1: 0.06460382908950298, precision: 0.03374208598539859, recall: 0.7568084932806838\n"
     ]
    },
    {
     "name": "stderr",
     "output_type": "stream",
     "text": [
      "100%|████████████████████████████████████████████████████████████| 218/218 [00:01<00:00, 190.33it/s]\n"
     ]
    },
    {
     "name": "stdout",
     "output_type": "stream",
     "text": [
      "val_loss: 0.9560207754646967, val_f1: 0.0697559635316211, val_precision: 0.036578137556800124, val_recall: 0.7503851244072302\n"
     ]
    },
    {
     "name": "stderr",
     "output_type": "stream",
     "text": [
      "100%|█████████████████████████████████████████████████████████████| 655/655 [00:09<00:00, 65.76it/s]\n"
     ]
    },
    {
     "name": "stdout",
     "output_type": "stream",
     "text": [
      "Epoch: 058, loss: 0.9585203470164583, f1: 0.06500745320286559, precision: 0.03395376984449459, recall: 0.7610973378856674\n"
     ]
    },
    {
     "name": "stderr",
     "output_type": "stream",
     "text": [
      "100%|████████████████████████████████████████████████████████████| 218/218 [00:01<00:00, 190.50it/s]\n"
     ]
    },
    {
     "name": "stdout",
     "output_type": "stream",
     "text": [
      "val_loss: 0.9582793947753556, val_f1: 0.06670642788186261, val_precision: 0.03485193711047599, val_recall: 0.7756096244610231\n"
     ]
    },
    {
     "name": "stderr",
     "output_type": "stream",
     "text": [
      "100%|█████████████████████████████████████████████████████████████| 655/655 [00:09<00:00, 68.92it/s]\n"
     ]
    },
    {
     "name": "stdout",
     "output_type": "stream",
     "text": [
      "Epoch: 059, loss: 0.9598246839210277, f1: 0.06363105532533841, precision: 0.03316926785694961, recall: 0.7795423106382822\n"
     ]
    },
    {
     "name": "stderr",
     "output_type": "stream",
     "text": [
      "100%|████████████████████████████████████████████████████████████| 218/218 [00:01<00:00, 186.84it/s]\n"
     ]
    },
    {
     "name": "stdout",
     "output_type": "stream",
     "text": [
      "val_loss: 0.960133284330368, val_f1: 0.06327609394630691, val_precision: 0.03303076227840651, val_recall: 0.7503535033912834\n"
     ]
    },
    {
     "name": "stderr",
     "output_type": "stream",
     "text": [
      "100%|█████████████████████████████████████████████████████████████| 655/655 [00:09<00:00, 65.62it/s]\n"
     ]
    },
    {
     "name": "stdout",
     "output_type": "stream",
     "text": [
      "Epoch: 060, loss: 0.9603266020767561, f1: 0.06273500842543936, precision: 0.032674204925686574, recall: 0.7843481299758868\n"
     ]
    },
    {
     "name": "stderr",
     "output_type": "stream",
     "text": [
      "100%|████████████████████████████████████████████████████████████| 218/218 [00:01<00:00, 189.75it/s]\n"
     ]
    },
    {
     "name": "stdout",
     "output_type": "stream",
     "text": [
      "val_loss: 0.95658034113569, val_f1: 0.06903738630226214, val_precision: 0.03615229625528285, val_recall: 0.7639126162121602\n"
     ]
    },
    {
     "name": "stderr",
     "output_type": "stream",
     "text": [
      "100%|█████████████████████████████████████████████████████████████| 655/655 [00:09<00:00, 65.70it/s]\n"
     ]
    },
    {
     "name": "stdout",
     "output_type": "stream",
     "text": [
      "Epoch: 061, loss: 0.9609027820689078, f1: 0.06199414127898426, precision: 0.03228785994210288, recall: 0.7753620776056334\n"
     ]
    },
    {
     "name": "stderr",
     "output_type": "stream",
     "text": [
      "100%|████████████████████████████████████████████████████████████| 218/218 [00:01<00:00, 190.22it/s]\n"
     ]
    },
    {
     "name": "stdout",
     "output_type": "stream",
     "text": [
      "val_loss: 0.9579467193796001, val_f1: 0.0677584752433193, val_precision: 0.03537083693263078, val_recall: 0.8033906830765238\n"
     ]
    },
    {
     "name": "stderr",
     "output_type": "stream",
     "text": [
      "100%|█████████████████████████████████████████████████████████████| 655/655 [00:09<00:00, 65.76it/s]\n"
     ]
    },
    {
     "name": "stdout",
     "output_type": "stream",
     "text": [
      "Epoch: 062, loss: 0.9610289897627503, f1: 0.061527732193453, precision: 0.03200214881670327, recall: 0.7950606150936534\n"
     ]
    },
    {
     "name": "stderr",
     "output_type": "stream",
     "text": [
      "100%|████████████████████████████████████████████████████████████| 218/218 [00:01<00:00, 189.92it/s]\n"
     ]
    },
    {
     "name": "stdout",
     "output_type": "stream",
     "text": [
      "val_loss: 0.9662501932284154, val_f1: 0.053403165151438566, val_precision: 0.02762508005653551, val_recall: 0.7987388938391974\n"
     ]
    },
    {
     "name": "stderr",
     "output_type": "stream",
     "text": [
      "100%|█████████████████████████████████████████████████████████████| 655/655 [00:09<00:00, 65.61it/s]\n"
     ]
    },
    {
     "name": "stdout",
     "output_type": "stream",
     "text": [
      "Epoch: 063, loss: 0.9664976980849986, f1: 0.05277466350776346, precision: 0.02725939128462595, recall: 0.8248319935480147\n"
     ]
    },
    {
     "name": "stderr",
     "output_type": "stream",
     "text": [
      "100%|████████████████████████████████████████████████████████████| 218/218 [00:01<00:00, 190.10it/s]\n"
     ]
    },
    {
     "name": "stdout",
     "output_type": "stream",
     "text": [
      "val_loss: 0.9697763239024976, val_f1: 0.047572505128020706, val_precision: 0.02448157785960191, val_recall: 0.8374857032039297\n"
     ]
    },
    {
     "name": "stderr",
     "output_type": "stream",
     "text": [
      "100%|█████████████████████████████████████████████████████████████| 655/655 [00:09<00:00, 65.79it/s]\n"
     ]
    },
    {
     "name": "stdout",
     "output_type": "stream",
     "text": [
      "Epoch: 064, loss: 0.9618598312822007, f1: 0.06015223219327629, precision: 0.03124411600314877, recall: 0.8045391570748264\n"
     ]
    },
    {
     "name": "stderr",
     "output_type": "stream",
     "text": [
      "100%|████████████████████████████████████████████████████████████| 218/218 [00:01<00:00, 190.28it/s]\n"
     ]
    },
    {
     "name": "stdout",
     "output_type": "stream",
     "text": [
      "val_loss: 0.9571871998113229, val_f1: 0.06769509733393585, val_precision: 0.03540555422286153, val_recall: 0.7691828922599281\n"
     ]
    },
    {
     "name": "stderr",
     "output_type": "stream",
     "text": [
      "100%|█████████████████████████████████████████████████████████████| 655/655 [00:10<00:00, 65.49it/s]\n"
     ]
    },
    {
     "name": "stdout",
     "output_type": "stream",
     "text": [
      "Epoch: 065, loss: 0.9591844830804199, f1: 0.06432481837423575, precision: 0.03354152572174194, recall: 0.7822227113802015\n"
     ]
    },
    {
     "name": "stderr",
     "output_type": "stream",
     "text": [
      "100%|████████████████████████████████████████████████████████████| 218/218 [00:01<00:00, 191.85it/s]\n"
     ]
    },
    {
     "name": "stdout",
     "output_type": "stream",
     "text": [
      "val_loss: 0.9592656077594932, val_f1: 0.06502776469663843, val_precision: 0.0338348136203355, val_recall: 0.8328223978297427\n"
     ]
    },
    {
     "name": "stderr",
     "output_type": "stream",
     "text": [
      "100%|█████████████████████████████████████████████████████████████| 655/655 [00:10<00:00, 65.48it/s]\n"
     ]
    },
    {
     "name": "stdout",
     "output_type": "stream",
     "text": [
      "Epoch: 066, loss: 0.9603554496328339, f1: 0.06234932702474781, precision: 0.032438150537378, recall: 0.8003631283536212\n"
     ]
    },
    {
     "name": "stderr",
     "output_type": "stream",
     "text": [
      "100%|████████████████████████████████████████████████████████████| 218/218 [00:01<00:00, 187.71it/s]\n"
     ]
    },
    {
     "name": "stdout",
     "output_type": "stream",
     "text": [
      "val_loss: 0.9625876480286274, val_f1: 0.05981180795024819, val_precision: 0.031043004081157302, val_recall: 0.8164356807503131\n"
     ]
    },
    {
     "name": "stderr",
     "output_type": "stream",
     "text": [
      "100%|█████████████████████████████████████████████████████████████| 655/655 [00:10<00:00, 65.29it/s]\n"
     ]
    },
    {
     "name": "stdout",
     "output_type": "stream",
     "text": [
      "Epoch: 067, loss: 0.960088411633295, f1: 0.06321371947112188, precision: 0.032908812980700766, recall: 0.7989105905512817\n"
     ]
    },
    {
     "name": "stderr",
     "output_type": "stream",
     "text": [
      "100%|████████████████████████████████████████████████████████████| 218/218 [00:01<00:00, 190.41it/s]\n"
     ]
    },
    {
     "name": "stdout",
     "output_type": "stream",
     "text": [
      "val_loss: 0.9627229136611344, val_f1: 0.05908678071648386, val_precision: 0.030648367452742787, val_recall: 0.8194347991514097\n"
     ]
    },
    {
     "name": "stderr",
     "output_type": "stream",
     "text": [
      "100%|█████████████████████████████████████████████████████████████| 655/655 [00:10<00:00, 65.23it/s]\n"
     ]
    },
    {
     "name": "stdout",
     "output_type": "stream",
     "text": [
      "Epoch: 068, loss: 0.9595054929493038, f1: 0.06420421700404987, precision: 0.033429176826385486, recall: 0.8086599927935891\n"
     ]
    },
    {
     "name": "stderr",
     "output_type": "stream",
     "text": [
      "100%|████████████████████████████████████████████████████████████| 218/218 [00:01<00:00, 188.54it/s]\n"
     ]
    },
    {
     "name": "stdout",
     "output_type": "stream",
     "text": [
      "val_loss: 0.9593854970341429, val_f1: 0.06455158236016, val_precision: 0.033680948811164554, val_recall: 0.7736351043669456\n"
     ]
    },
    {
     "name": "stderr",
     "output_type": "stream",
     "text": [
      "100%|█████████████████████████████████████████████████████████████| 655/655 [00:09<00:00, 65.80it/s]\n"
     ]
    },
    {
     "name": "stdout",
     "output_type": "stream",
     "text": [
      "Epoch: 069, loss: 0.9593908268076773, f1: 0.06388407768806796, precision: 0.03328177649136775, recall: 0.7935044593255939\n"
     ]
    },
    {
     "name": "stderr",
     "output_type": "stream",
     "text": [
      "100%|████████████████████████████████████████████████████████████| 218/218 [00:01<00:00, 189.96it/s]\n"
     ]
    },
    {
     "name": "stdout",
     "output_type": "stream",
     "text": [
      "val_loss: 0.9561973859410767, val_f1: 0.06896594548295619, val_precision: 0.03609446305119424, val_recall: 0.7723561091297263\n"
     ]
    },
    {
     "name": "stderr",
     "output_type": "stream",
     "text": [
      "100%|█████████████████████████████████████████████████████████████| 655/655 [00:09<00:00, 67.50it/s]\n"
     ]
    },
    {
     "name": "stdout",
     "output_type": "stream",
     "text": [
      "Epoch: 070, loss: 0.9595841181187229, f1: 0.06362267035119996, precision: 0.03316706740937217, recall: 0.7782426882449908\n"
     ]
    },
    {
     "name": "stderr",
     "output_type": "stream",
     "text": [
      "100%|████████████████████████████████████████████████████████████| 218/218 [00:01<00:00, 183.28it/s]\n"
     ]
    },
    {
     "name": "stdout",
     "output_type": "stream",
     "text": [
      "val_loss: 0.9560936112469489, val_f1: 0.06954161568518785, val_precision: 0.03639255776048698, val_recall: 0.780267425223228\n"
     ]
    },
    {
     "name": "stderr",
     "output_type": "stream",
     "text": [
      "100%|█████████████████████████████████████████████████████████████| 655/655 [00:09<00:00, 66.14it/s]\n"
     ]
    },
    {
     "name": "stdout",
     "output_type": "stream",
     "text": [
      "Epoch: 071, loss: 0.9586837152488359, f1: 0.06507398512863109, precision: 0.0339890479316352, recall: 0.7616110409489115\n"
     ]
    },
    {
     "name": "stderr",
     "output_type": "stream",
     "text": [
      "100%|████████████████████████████████████████████████████████████| 218/218 [00:01<00:00, 190.22it/s]\n"
     ]
    },
    {
     "name": "stdout",
     "output_type": "stream",
     "text": [
      "val_loss: 0.9601991783588304, val_f1: 0.06327650778524625, val_precision: 0.03297107151406176, val_recall: 0.7826630702464406\n"
     ]
    },
    {
     "name": "stderr",
     "output_type": "stream",
     "text": [
      "100%|█████████████████████████████████████████████████████████████| 655/655 [00:10<00:00, 65.03it/s]\n"
     ]
    },
    {
     "name": "stdout",
     "output_type": "stream",
     "text": [
      "Epoch: 072, loss: 0.9644282657681531, f1: 0.05616111076295871, precision: 0.02907673382975218, recall: 0.8196230665645526\n"
     ]
    },
    {
     "name": "stderr",
     "output_type": "stream",
     "text": [
      "100%|████████████████████████████████████████████████████████████| 218/218 [00:01<00:00, 189.91it/s]\n"
     ]
    },
    {
     "name": "stdout",
     "output_type": "stream",
     "text": [
      "val_loss: 0.9705787183494743, val_f1: 0.046348551214913235, val_precision: 0.02381664559292103, val_recall: 0.8592143492140901\n"
     ]
    },
    {
     "name": "stderr",
     "output_type": "stream",
     "text": [
      "100%|█████████████████████████████████████████████████████████████| 655/655 [00:10<00:00, 65.39it/s]\n"
     ]
    },
    {
     "name": "stdout",
     "output_type": "stream",
     "text": [
      "Epoch: 073, loss: 0.9666471355743991, f1: 0.052779479045871804, precision: 0.027254196276305286, recall: 0.8320036113262177\n"
     ]
    },
    {
     "name": "stderr",
     "output_type": "stream",
     "text": [
      "100%|████████████████████████████████████████████████████████████| 218/218 [00:01<00:00, 189.27it/s]\n"
     ]
    },
    {
     "name": "stdout",
     "output_type": "stream",
     "text": [
      "val_loss: 0.95801268586325, val_f1: 0.06611288725378094, val_precision: 0.03451049219819059, val_recall: 0.7845639839016516\n"
     ]
    },
    {
     "name": "stderr",
     "output_type": "stream",
     "text": [
      "100%|█████████████████████████████████████████████████████████████| 655/655 [00:09<00:00, 65.56it/s]\n"
     ]
    },
    {
     "name": "stdout",
     "output_type": "stream",
     "text": [
      "Epoch: 074, loss: 0.9581858944346886, f1: 0.0659095653152636, precision: 0.03439723366306284, recall: 0.7858522439389738\n"
     ]
    },
    {
     "name": "stderr",
     "output_type": "stream",
     "text": [
      "100%|████████████████████████████████████████████████████████████| 218/218 [00:01<00:00, 188.19it/s]\n"
     ]
    },
    {
     "name": "stdout",
     "output_type": "stream",
     "text": [
      "val_loss: 0.9563930581469055, val_f1: 0.06916879050310662, val_precision: 0.03617301179948391, val_recall: 0.787491316984006\n"
     ]
    },
    {
     "name": "stderr",
     "output_type": "stream",
     "text": [
      "100%|█████████████████████████████████████████████████████████████| 655/655 [00:09<00:00, 65.73it/s]\n"
     ]
    },
    {
     "name": "stdout",
     "output_type": "stream",
     "text": [
      "Epoch: 075, loss: 0.9593215966042672, f1: 0.06439076169223056, precision: 0.03354237106351452, recall: 0.8017203071872696\n"
     ]
    },
    {
     "name": "stderr",
     "output_type": "stream",
     "text": [
      "100%|████████████████████████████████████████████████████████████| 218/218 [00:01<00:00, 189.85it/s]\n"
     ]
    },
    {
     "name": "stdout",
     "output_type": "stream",
     "text": [
      "val_loss: 0.9587060656022588, val_f1: 0.06541347980093823, val_precision: 0.03411536917855126, val_recall: 0.7921193487121971\n"
     ]
    },
    {
     "name": "stderr",
     "output_type": "stream",
     "text": [
      "100%|█████████████████████████████████████████████████████████████| 655/655 [00:09<00:00, 65.88it/s]\n"
     ]
    },
    {
     "name": "stdout",
     "output_type": "stream",
     "text": [
      "Epoch: 076, loss: 0.959556976711477, f1: 0.06368800313855395, precision: 0.033194737032923194, recall: 0.7825760754920145\n"
     ]
    },
    {
     "name": "stderr",
     "output_type": "stream",
     "text": [
      "100%|████████████████████████████████████████████████████████████| 218/218 [00:01<00:00, 187.02it/s]\n"
     ]
    },
    {
     "name": "stdout",
     "output_type": "stream",
     "text": [
      "val_loss: 0.9596609347457186, val_f1: 0.06328522988972253, val_precision: 0.03295622306604605, val_recall: 0.793860101576792\n"
     ]
    },
    {
     "name": "stderr",
     "output_type": "stream",
     "text": [
      "100%|█████████████████████████████████████████████████████████████| 655/655 [00:09<00:00, 66.45it/s]\n"
     ]
    },
    {
     "name": "stdout",
     "output_type": "stream",
     "text": [
      "Epoch: 077, loss: 0.9583801372360637, f1: 0.0658497607416607, precision: 0.0343318507903547, recall: 0.8034085610440669\n"
     ]
    },
    {
     "name": "stderr",
     "output_type": "stream",
     "text": [
      "100%|████████████████████████████████████████████████████████████| 218/218 [00:01<00:00, 193.06it/s]\n"
     ]
    },
    {
     "name": "stdout",
     "output_type": "stream",
     "text": [
      "val_loss: 0.9538056380158171, val_f1: 0.07239812124772017, val_precision: 0.03799867464513561, val_recall: 0.7643396366353429\n"
     ]
    },
    {
     "name": "stderr",
     "output_type": "stream",
     "text": [
      "100%|█████████████████████████████████████████████████████████████| 655/655 [00:09<00:00, 66.18it/s]\n"
     ]
    },
    {
     "name": "stdout",
     "output_type": "stream",
     "text": [
      "Epoch: 078, loss: 0.9582106632130747, f1: 0.06625001160498152, precision: 0.03459841276355486, recall: 0.7778384749329728\n"
     ]
    },
    {
     "name": "stderr",
     "output_type": "stream",
     "text": [
      "100%|████████████████████████████████████████████████████████████| 218/218 [00:01<00:00, 191.65it/s]\n"
     ]
    },
    {
     "name": "stdout",
     "output_type": "stream",
     "text": [
      "val_loss: 0.9546489767525175, val_f1: 0.07140951149241506, val_precision: 0.03745608809275912, val_recall: 0.7636246079698615\n"
     ]
    },
    {
     "name": "stderr",
     "output_type": "stream",
     "text": [
      "100%|█████████████████████████████████████████████████████████████| 655/655 [00:09<00:00, 66.22it/s]\n"
     ]
    },
    {
     "name": "stdout",
     "output_type": "stream",
     "text": [
      "Epoch: 079, loss: 0.9569094173780834, f1: 0.06777811372208228, precision: 0.035460249047712174, recall: 0.7648423957801957\n"
     ]
    },
    {
     "name": "stderr",
     "output_type": "stream",
     "text": [
      "100%|████████████████████████████████████████████████████████████| 218/218 [00:01<00:00, 193.81it/s]\n"
     ]
    },
    {
     "name": "stdout",
     "output_type": "stream",
     "text": [
      "val_loss: 0.9597713181731897, val_f1: 0.0644313190694536, val_precision: 0.033496776234717404, val_recall: 0.8423282115489518\n"
     ]
    },
    {
     "name": "stderr",
     "output_type": "stream",
     "text": [
      "100%|█████████████████████████████████████████████████████████████| 655/655 [00:09<00:00, 65.65it/s]\n"
     ]
    },
    {
     "name": "stdout",
     "output_type": "stream",
     "text": [
      "Epoch: 080, loss: 0.963748976110502, f1: 0.05754027052762356, precision: 0.029804185709297545, recall: 0.8292346452028697\n"
     ]
    },
    {
     "name": "stderr",
     "output_type": "stream",
     "text": [
      "100%|████████████████████████████████████████████████████████████| 218/218 [00:01<00:00, 194.85it/s]\n"
     ]
    },
    {
     "name": "stdout",
     "output_type": "stream",
     "text": [
      "val_loss: 0.959127139334285, val_f1: 0.06516618479509652, val_precision: 0.03393969718856019, val_recall: 0.8151676131224413\n"
     ]
    },
    {
     "name": "stderr",
     "output_type": "stream",
     "text": [
      "100%|█████████████████████████████████████████████████████████████| 655/655 [00:09<00:00, 65.85it/s]\n"
     ]
    },
    {
     "name": "stdout",
     "output_type": "stream",
     "text": [
      "Epoch: 081, loss: 0.9599983868708137, f1: 0.06350908431520413, precision: 0.03305309426505119, recall: 0.8082739762677491\n"
     ]
    },
    {
     "name": "stderr",
     "output_type": "stream",
     "text": [
      "100%|████████████████████████████████████████████████████████████| 218/218 [00:01<00:00, 192.66it/s]\n"
     ]
    },
    {
     "name": "stdout",
     "output_type": "stream",
     "text": [
      "val_loss: 0.9586575184393367, val_f1: 0.06611879635055104, val_precision: 0.03443117057819159, val_recall: 0.829783260959004\n"
     ]
    },
    {
     "name": "stderr",
     "output_type": "stream",
     "text": [
      "100%|█████████████████████████████████████████████████████████████| 655/655 [00:09<00:00, 70.43it/s]\n"
     ]
    },
    {
     "name": "stdout",
     "output_type": "stream",
     "text": [
      "Epoch: 082, loss: 0.9598265125551296, f1: 0.06330323898226382, precision: 0.03295762034502762, recall: 0.7987453112165437\n"
     ]
    },
    {
     "name": "stderr",
     "output_type": "stream",
     "text": [
      "100%|████████████████████████████████████████████████████████████| 218/218 [00:01<00:00, 192.55it/s]\n"
     ]
    },
    {
     "name": "stdout",
     "output_type": "stream",
     "text": [
      "val_loss: 0.9571802818447078, val_f1: 0.06833056471197684, val_precision: 0.03571078578734326, val_recall: 0.7894314919179732\n"
     ]
    },
    {
     "name": "stderr",
     "output_type": "stream",
     "text": [
      "100%|█████████████████████████████████████████████████████████████| 655/655 [00:09<00:00, 66.12it/s]\n"
     ]
    },
    {
     "name": "stdout",
     "output_type": "stream",
     "text": [
      "Epoch: 083, loss: 0.9632249719313993, f1: 0.05833526051009358, precision: 0.030225610835762085, recall: 0.8332945397678222\n"
     ]
    },
    {
     "name": "stderr",
     "output_type": "stream",
     "text": [
      "100%|████████████████████████████████████████████████████████████| 218/218 [00:01<00:00, 193.32it/s]\n"
     ]
    },
    {
     "name": "stdout",
     "output_type": "stream",
     "text": [
      "val_loss: 0.9637102782726288, val_f1: 0.05722687356882694, val_precision: 0.029562827699535756, val_recall: 0.8909860923202759\n"
     ]
    },
    {
     "name": "stderr",
     "output_type": "stream",
     "text": [
      "100%|█████████████████████████████████████████████████████████████| 655/655 [00:09<00:00, 65.71it/s]\n"
     ]
    },
    {
     "name": "stdout",
     "output_type": "stream",
     "text": [
      "Epoch: 084, loss: 0.9622304450464613, f1: 0.05993405721896628, precision: 0.031098662157194645, recall: 0.8235302854585284\n"
     ]
    },
    {
     "name": "stderr",
     "output_type": "stream",
     "text": [
      "100%|████████████████████████████████████████████████████████████| 218/218 [00:01<00:00, 191.58it/s]\n"
     ]
    },
    {
     "name": "stdout",
     "output_type": "stream",
     "text": [
      "val_loss: 0.9532384109606437, val_f1: 0.07418330378256666, val_precision: 0.038972684314662435, val_recall: 0.7684935261623576\n"
     ]
    },
    {
     "name": "stderr",
     "output_type": "stream",
     "text": [
      "100%|█████████████████████████████████████████████████████████████| 655/655 [00:09<00:00, 65.88it/s]\n"
     ]
    },
    {
     "name": "stdout",
     "output_type": "stream",
     "text": [
      "Epoch: 085, loss: 0.9564298218443193, f1: 0.06834168988913185, precision: 0.03576610995641419, recall: 0.766116092632745\n"
     ]
    },
    {
     "name": "stderr",
     "output_type": "stream",
     "text": [
      "100%|████████████████████████████████████████████████████████████| 218/218 [00:01<00:00, 193.44it/s]\n"
     ]
    },
    {
     "name": "stdout",
     "output_type": "stream",
     "text": [
      "val_loss: 0.9539135481239459, val_f1: 0.07226592790526211, val_precision: 0.03797069115621901, val_recall: 0.7465708795764031\n"
     ]
    },
    {
     "name": "stderr",
     "output_type": "stream",
     "text": [
      "100%|█████████████████████████████████████████████████████████████| 655/655 [00:09<00:00, 65.78it/s]\n"
     ]
    },
    {
     "name": "stdout",
     "output_type": "stream",
     "text": [
      "Epoch: 086, loss: 0.9586047826832488, f1: 0.06519726637167951, precision: 0.034054265753899256, recall: 0.7626392415802897\n"
     ]
    },
    {
     "name": "stderr",
     "output_type": "stream",
     "text": [
      "100%|████████████████████████████████████████████████████████████| 218/218 [00:01<00:00, 191.90it/s]\n"
     ]
    },
    {
     "name": "stdout",
     "output_type": "stream",
     "text": [
      "val_loss: 0.9640313786104184, val_f1: 0.05656100761297442, val_precision: 0.029308074655934074, val_recall: 0.8066082424526915\n"
     ]
    },
    {
     "name": "stderr",
     "output_type": "stream",
     "text": [
      "100%|█████████████████████████████████████████████████████████████| 655/655 [00:10<00:00, 65.49it/s]\n"
     ]
    },
    {
     "name": "stdout",
     "output_type": "stream",
     "text": [
      "Epoch: 087, loss: 0.9581367198747534, f1: 0.06616675316029778, precision: 0.03456268517570641, recall: 0.7729626750786796\n"
     ]
    },
    {
     "name": "stderr",
     "output_type": "stream",
     "text": [
      "100%|████████████████████████████████████████████████████████████| 218/218 [00:01<00:00, 194.22it/s]\n"
     ]
    },
    {
     "name": "stdout",
     "output_type": "stream",
     "text": [
      "val_loss: 0.954012737361663, val_f1: 0.07217800463477705, val_precision: 0.037822966365605046, val_recall: 0.787209586163453\n"
     ]
    },
    {
     "name": "stderr",
     "output_type": "stream",
     "text": [
      "100%|█████████████████████████████████████████████████████████████| 655/655 [00:09<00:00, 65.98it/s]\n"
     ]
    },
    {
     "name": "stdout",
     "output_type": "stream",
     "text": [
      "Epoch: 088, loss: 0.9561426283749005, f1: 0.06887461688853487, precision: 0.03610069109304659, recall: 0.7473990636699982\n"
     ]
    },
    {
     "name": "stderr",
     "output_type": "stream",
     "text": [
      "100%|████████████████████████████████████████████████████████████| 218/218 [00:01<00:00, 192.09it/s]\n"
     ]
    },
    {
     "name": "stdout",
     "output_type": "stream",
     "text": [
      "val_loss: 0.951816966500851, val_f1: 0.0762124974433405, val_precision: 0.0401217528472552, val_recall: 0.7585643084224211\n"
     ]
    },
    {
     "name": "stderr",
     "output_type": "stream",
     "text": [
      "100%|█████████████████████████████████████████████████████████████| 655/655 [00:09<00:00, 66.20it/s]\n"
     ]
    },
    {
     "name": "stdout",
     "output_type": "stream",
     "text": [
      "Epoch: 089, loss: 0.9559279055085801, f1: 0.0691547065604473, precision: 0.036249980356416286, recall: 0.7493770697758398\n"
     ]
    },
    {
     "name": "stderr",
     "output_type": "stream",
     "text": [
      "100%|████████████████████████████████████████████████████████████| 218/218 [00:01<00:00, 192.20it/s]\n"
     ]
    },
    {
     "name": "stdout",
     "output_type": "stream",
     "text": [
      "val_loss: 0.9616427211039656, val_f1: 0.06031985007338803, val_precision: 0.03138601287629096, val_recall: 0.7720489225803165\n"
     ]
    },
    {
     "name": "stderr",
     "output_type": "stream",
     "text": [
      "100%|█████████████████████████████████████████████████████████████| 655/655 [00:09<00:00, 66.29it/s]\n"
     ]
    },
    {
     "name": "stdout",
     "output_type": "stream",
     "text": [
      "Epoch: 090, loss: 0.9659731342592313, f1: 0.054102060334225176, precision: 0.027886461908040384, recall: 0.9029553048710787\n"
     ]
    },
    {
     "name": "stderr",
     "output_type": "stream",
     "text": [
      "100%|████████████████████████████████████████████████████████████| 218/218 [00:01<00:00, 192.64it/s]\n"
     ]
    },
    {
     "name": "stdout",
     "output_type": "stream",
     "text": [
      "val_loss: 0.957777327627217, val_f1: 0.06714386039731761, val_precision: 0.03486411045134546, val_recall: 0.9057989240102812\n"
     ]
    },
    {
     "name": "stderr",
     "output_type": "stream",
     "text": [
      "100%|█████████████████████████████████████████████████████████████| 655/655 [00:09<00:00, 66.13it/s]\n"
     ]
    },
    {
     "name": "stdout",
     "output_type": "stream",
     "text": [
      "Epoch: 091, loss: 0.965438907292053, f1: 0.05513834686856484, precision: 0.02844138193292586, recall: 0.8989884786023439\n"
     ]
    },
    {
     "name": "stderr",
     "output_type": "stream",
     "text": [
      "100%|████████████████████████████████████████████████████████████| 218/218 [00:01<00:00, 192.24it/s]\n"
     ]
    },
    {
     "name": "stdout",
     "output_type": "stream",
     "text": [
      "val_loss: 0.9598604128995073, val_f1: 0.06426975209378473, val_precision: 0.03336043429236278, val_recall: 0.8747306991060939\n"
     ]
    },
    {
     "name": "stderr",
     "output_type": "stream",
     "text": [
      "100%|█████████████████████████████████████████████████████████████| 655/655 [00:09<00:00, 65.96it/s]\n"
     ]
    },
    {
     "name": "stdout",
     "output_type": "stream",
     "text": [
      "Epoch: 092, loss: 0.9630906808467312, f1: 0.0586210778496484, precision: 0.03030859551619994, recall: 0.8900910793142465\n"
     ]
    },
    {
     "name": "stderr",
     "output_type": "stream",
     "text": [
      "100%|████████████████████████████████████████████████████████████| 218/218 [00:01<00:00, 193.89it/s]\n"
     ]
    },
    {
     "name": "stdout",
     "output_type": "stream",
     "text": [
      "val_loss: 0.9617524904395462, val_f1: 0.061279612023635015, val_precision: 0.03172131448475764, val_recall: 0.8986845194199763\n"
     ]
    },
    {
     "name": "stderr",
     "output_type": "stream",
     "text": [
      "100%|█████████████████████████████████████████████████████████████| 655/655 [00:09<00:00, 70.91it/s]\n"
     ]
    },
    {
     "name": "stdout",
     "output_type": "stream",
     "text": [
      "Epoch: 093, loss: 0.9617596967529705, f1: 0.0607487414327436, precision: 0.031448772701057996, recall: 0.8890868540938573\n"
     ]
    },
    {
     "name": "stderr",
     "output_type": "stream",
     "text": [
      "100%|████████████████████████████████████████████████████████████| 218/218 [00:01<00:00, 194.71it/s]\n"
     ]
    },
    {
     "name": "stdout",
     "output_type": "stream",
     "text": [
      "val_loss: 0.9591788053512573, val_f1: 0.0646871622600409, val_precision: 0.033576177377595544, val_recall: 0.8810458568121315\n"
     ]
    },
    {
     "name": "stderr",
     "output_type": "stream",
     "text": [
      "100%|█████████████████████████████████████████████████████████████| 655/655 [00:09<00:00, 66.85it/s]\n"
     ]
    },
    {
     "name": "stdout",
     "output_type": "stream",
     "text": [
      "Epoch: 094, loss: 0.9612486785604754, f1: 0.06150377047624938, precision: 0.0318890166483137, recall: 0.862387030679761\n"
     ]
    },
    {
     "name": "stderr",
     "output_type": "stream",
     "text": [
      "100%|████████████████████████████████████████████████████████████| 218/218 [00:01<00:00, 193.64it/s]\n"
     ]
    },
    {
     "name": "stdout",
     "output_type": "stream",
     "text": [
      "val_loss: 0.9618650384999197, val_f1: 0.060150291499921495, val_precision: 0.03116363816608359, val_recall: 0.8610541939120228\n"
     ]
    },
    {
     "name": "stderr",
     "output_type": "stream",
     "text": [
      "100%|█████████████████████████████████████████████████████████████| 655/655 [00:09<00:00, 66.31it/s]\n"
     ]
    },
    {
     "name": "stdout",
     "output_type": "stream",
     "text": [
      "Epoch: 095, loss: 0.9604645914703835, f1: 0.06274145381860602, precision: 0.032577358114085235, recall: 0.8469658341116577\n"
     ]
    },
    {
     "name": "stderr",
     "output_type": "stream",
     "text": [
      "100%|████████████████████████████████████████████████████████████| 218/218 [00:01<00:00, 194.28it/s]\n"
     ]
    },
    {
     "name": "stdout",
     "output_type": "stream",
     "text": [
      "val_loss: 0.9623102190297678, val_f1: 0.06001367463873359, val_precision: 0.031098805095598852, val_recall: 0.8545827135580395\n"
     ]
    },
    {
     "name": "stderr",
     "output_type": "stream",
     "text": [
      "100%|█████████████████████████████████████████████████████████████| 655/655 [00:09<00:00, 66.52it/s]\n"
     ]
    },
    {
     "name": "stdout",
     "output_type": "stream",
     "text": [
      "Epoch: 096, loss: 0.9598899069633192, f1: 0.0638173163304761, precision: 0.033150702324084486, recall: 0.8516560549499425\n"
     ]
    },
    {
     "name": "stderr",
     "output_type": "stream",
     "text": [
      "100%|████████████████████████████████████████████████████████████| 218/218 [00:01<00:00, 192.35it/s]\n"
     ]
    },
    {
     "name": "stdout",
     "output_type": "stream",
     "text": [
      "val_loss: 0.9558830942035815, val_f1: 0.07051809176478979, val_precision: 0.03675000073917962, val_recall: 0.8690873210173135\n"
     ]
    },
    {
     "name": "stderr",
     "output_type": "stream",
     "text": [
      "100%|█████████████████████████████████████████████████████████████| 655/655 [00:09<00:00, 66.76it/s]\n"
     ]
    },
    {
     "name": "stdout",
     "output_type": "stream",
     "text": [
      "Epoch: 097, loss: 0.9629812107741378, f1: 0.05932145039858893, precision: 0.030665670587318658, recall: 0.9050900070608118\n"
     ]
    },
    {
     "name": "stderr",
     "output_type": "stream",
     "text": [
      "100%|████████████████████████████████████████████████████████████| 218/218 [00:01<00:00, 193.09it/s]\n"
     ]
    },
    {
     "name": "stdout",
     "output_type": "stream",
     "text": [
      "val_loss: 0.9565410531988932, val_f1: 0.06981790705200035, val_precision: 0.03632373914310555, val_recall: 0.8962656294397258\n"
     ]
    },
    {
     "name": "stderr",
     "output_type": "stream",
     "text": [
      "100%|█████████████████████████████████████████████████████████████| 655/655 [00:09<00:00, 66.38it/s]\n"
     ]
    },
    {
     "name": "stdout",
     "output_type": "stream",
     "text": [
      "Epoch: 098, loss: 0.9595386137489144, f1: 0.06435077234258631, precision: 0.03340799923637839, recall: 0.8720622124562737\n"
     ]
    },
    {
     "name": "stderr",
     "output_type": "stream",
     "text": [
      "100%|████████████████████████████████████████████████████████████| 218/218 [00:01<00:00, 191.78it/s]\n"
     ]
    },
    {
     "name": "stdout",
     "output_type": "stream",
     "text": [
      "val_loss: 0.9563852163082963, val_f1: 0.06967396399439886, val_precision: 0.03627917994510109, val_recall: 0.8763409630831228\n"
     ]
    },
    {
     "name": "stderr",
     "output_type": "stream",
     "text": [
      "100%|█████████████████████████████████████████████████████████████| 655/655 [00:09<00:00, 66.38it/s]\n"
     ]
    },
    {
     "name": "stdout",
     "output_type": "stream",
     "text": [
      "Epoch: 099, loss: 0.9609226094857427, f1: 0.06228364671329379, precision: 0.03232563233308722, recall: 0.8503729504028349\n"
     ]
    },
    {
     "name": "stderr",
     "output_type": "stream",
     "text": [
      "100%|████████████████████████████████████████████████████████████| 218/218 [00:01<00:00, 191.54it/s]\n"
     ]
    },
    {
     "name": "stdout",
     "output_type": "stream",
     "text": [
      "val_loss: 0.9523926068336592, val_f1: 0.07707348128070929, val_precision: 0.0404780176414792, val_recall: 0.803538529834616\n"
     ]
    },
    {
     "name": "stderr",
     "output_type": "stream",
     "text": [
      "100%|█████████████████████████████████████████████████████████████| 655/655 [00:09<00:00, 65.61it/s]\n"
     ]
    },
    {
     "name": "stdout",
     "output_type": "stream",
     "text": [
      "Epoch: 100, loss: 0.9566044970323111, f1: 0.06899963758017182, precision: 0.03604001317151915, recall: 0.8072837679440739\n"
     ]
    },
    {
     "name": "stderr",
     "output_type": "stream",
     "text": [
      "100%|████████████████████████████████████████████████████████████| 218/218 [00:01<00:00, 193.13it/s]\n"
     ]
    },
    {
     "name": "stdout",
     "output_type": "stream",
     "text": [
      "val_loss: 0.9548516757444504, val_f1: 0.07129992982139007, val_precision: 0.03728812416895814, val_recall: 0.8114719686158206\n"
     ]
    },
    {
     "name": "stderr",
     "output_type": "stream",
     "text": [
      "100%|█████████████████████████████████████████████████████████████| 655/655 [00:09<00:00, 65.74it/s]\n"
     ]
    },
    {
     "name": "stdout",
     "output_type": "stream",
     "text": [
      "Epoch: 101, loss: 0.9571211933179666, f1: 0.0682493571828534, precision: 0.035684666032582975, recall: 0.780601001570698\n"
     ]
    },
    {
     "name": "stderr",
     "output_type": "stream",
     "text": [
      "100%|████████████████████████████████████████████████████████████| 218/218 [00:01<00:00, 192.38it/s]\n"
     ]
    },
    {
     "name": "stdout",
     "output_type": "stream",
     "text": [
      "val_loss: 0.9528103405182514, val_f1: 0.0747905881756604, val_precision: 0.03932727411455569, val_recall: 0.7612164519522169\n"
     ]
    },
    {
     "name": "stderr",
     "output_type": "stream",
     "text": [
      "100%|█████████████████████████████████████████████████████████████| 655/655 [00:09<00:00, 66.06it/s]\n"
     ]
    },
    {
     "name": "stdout",
     "output_type": "stream",
     "text": [
      "Epoch: 102, loss: 0.9539287261380494, f1: 0.07315317375200353, precision: 0.03842944713799951, recall: 0.7586206259959527\n"
     ]
    },
    {
     "name": "stderr",
     "output_type": "stream",
     "text": [
      "100%|████████████████████████████████████████████████████████████| 218/218 [00:01<00:00, 192.51it/s]\n"
     ]
    },
    {
     "name": "stdout",
     "output_type": "stream",
     "text": [
      "val_loss: 0.9502124286026036, val_f1: 0.07933341956211286, val_precision: 0.041842926548336795, val_recall: 0.762686534143916\n"
     ]
    },
    {
     "name": "stderr",
     "output_type": "stream",
     "text": [
      "100%|█████████████████████████████████████████████████████████████| 655/655 [00:09<00:00, 65.79it/s]\n"
     ]
    },
    {
     "name": "stdout",
     "output_type": "stream",
     "text": [
      "Epoch: 103, loss: 0.9536797707317439, f1: 0.07290673824739148, precision: 0.03833448219056177, recall: 0.7428692374065632\n"
     ]
    },
    {
     "name": "stderr",
     "output_type": "stream",
     "text": [
      "100%|████████████████████████████████████████████████████████████| 218/218 [00:01<00:00, 192.78it/s]\n"
     ]
    },
    {
     "name": "stdout",
     "output_type": "stream",
     "text": [
      "val_loss: 0.9503047742428036, val_f1: 0.07875572362368678, val_precision: 0.041664264998996815, val_recall: 0.7175679595098583\n"
     ]
    },
    {
     "name": "stderr",
     "output_type": "stream",
     "text": [
      "100%|█████████████████████████████████████████████████████████████| 655/655 [00:09<00:00, 66.66it/s]\n"
     ]
    },
    {
     "name": "stdout",
     "output_type": "stream",
     "text": [
      "Epoch: 104, loss: 0.9562679017773111, f1: 0.06920045286883553, precision: 0.0362511714165035, recall: 0.7597459352880944\n"
     ]
    },
    {
     "name": "stderr",
     "output_type": "stream",
     "text": [
      "100%|████████████████████████████████████████████████████████████| 218/218 [00:01<00:00, 186.79it/s]\n"
     ]
    },
    {
     "name": "stdout",
     "output_type": "stream",
     "text": [
      "val_loss: 0.9521834330821256, val_f1: 0.07614095245047568, val_precision: 0.040030931715357945, val_recall: 0.7773686481656832\n"
     ]
    },
    {
     "name": "stderr",
     "output_type": "stream",
     "text": [
      "100%|█████████████████████████████████████████████████████████████| 655/655 [00:09<00:00, 67.42it/s]\n"
     ]
    },
    {
     "name": "stdout",
     "output_type": "stream",
     "text": [
      "Epoch: 105, loss: 0.9567339237409693, f1: 0.06850036375821004, precision: 0.03575633968127081, recall: 0.8131028074572104\n"
     ]
    },
    {
     "name": "stderr",
     "output_type": "stream",
     "text": [
      "100%|████████████████████████████████████████████████████████████| 218/218 [00:01<00:00, 195.69it/s]\n"
     ]
    },
    {
     "name": "stdout",
     "output_type": "stream",
     "text": [
      "val_loss: 0.9503779061343691, val_f1: 0.07874724188654098, val_precision: 0.04158825564268686, val_recall: 0.739390660589988\n"
     ]
    },
    {
     "name": "stderr",
     "output_type": "stream",
     "text": [
      "100%|█████████████████████████████████████████████████████████████| 655/655 [00:09<00:00, 66.37it/s]\n"
     ]
    },
    {
     "name": "stdout",
     "output_type": "stream",
     "text": [
      "Epoch: 106, loss: 0.9551400919906966, f1: 0.0708978039088983, precision: 0.03719146295898516, recall: 0.7565855775170653\n"
     ]
    },
    {
     "name": "stderr",
     "output_type": "stream",
     "text": [
      "100%|████████████████████████████████████████████████████████████| 218/218 [00:01<00:00, 192.71it/s]\n"
     ]
    },
    {
     "name": "stdout",
     "output_type": "stream",
     "text": [
      "val_loss: 0.9500091335642229, val_f1: 0.07915286734312049, val_precision: 0.04185212945828317, val_recall: 0.7278468568527371\n"
     ]
    },
    {
     "name": "stderr",
     "output_type": "stream",
     "text": [
      "100%|█████████████████████████████████████████████████████████████| 655/655 [00:09<00:00, 66.49it/s]\n"
     ]
    },
    {
     "name": "stdout",
     "output_type": "stream",
     "text": [
      "Epoch: 107, loss: 0.9559876232656814, f1: 0.0695992623803093, precision: 0.036426119470101506, recall: 0.7793573054762287\n"
     ]
    },
    {
     "name": "stderr",
     "output_type": "stream",
     "text": [
      "100%|████████████████████████████████████████████████████████████| 218/218 [00:01<00:00, 192.93it/s]\n"
     ]
    },
    {
     "name": "stdout",
     "output_type": "stream",
     "text": [
      "val_loss: 0.9525642761396705, val_f1: 0.0760861060253842, val_precision: 0.0398844240474677, val_recall: 0.8240192931042899\n"
     ]
    },
    {
     "name": "stderr",
     "output_type": "stream",
     "text": [
      "100%|█████████████████████████████████████████████████████████████| 655/655 [00:09<00:00, 65.76it/s]\n"
     ]
    },
    {
     "name": "stdout",
     "output_type": "stream",
     "text": [
      "Epoch: 108, loss: 0.957344154547189, f1: 0.06781842212097951, precision: 0.03542915971786182, recall: 0.7904048921270225\n"
     ]
    },
    {
     "name": "stderr",
     "output_type": "stream",
     "text": [
      "100%|████████████████████████████████████████████████████████████| 218/218 [00:01<00:00, 193.06it/s]\n"
     ]
    },
    {
     "name": "stdout",
     "output_type": "stream",
     "text": [
      "val_loss: 0.9538919797184271, val_f1: 0.0730231306957084, val_precision: 0.03833911387749666, val_recall: 0.7659556170532463\n"
     ]
    },
    {
     "name": "stderr",
     "output_type": "stream",
     "text": [
      "100%|█████████████████████████████████████████████████████████████| 655/655 [00:09<00:00, 66.22it/s]\n"
     ]
    },
    {
     "name": "stdout",
     "output_type": "stream",
     "text": [
      "Epoch: 109, loss: 0.9554114635664088, f1: 0.07070668676164417, precision: 0.03705336269567088, recall: 0.7705561009527163\n"
     ]
    },
    {
     "name": "stderr",
     "output_type": "stream",
     "text": [
      "100%|████████████████████████████████████████████████████████████| 218/218 [00:01<00:00, 192.38it/s]\n"
     ]
    },
    {
     "name": "stdout",
     "output_type": "stream",
     "text": [
      "val_loss: 0.9499211502731393, val_f1: 0.08016238589313618, val_precision: 0.042190828444457554, val_recall: 0.801588111856115\n"
     ]
    },
    {
     "name": "stderr",
     "output_type": "stream",
     "text": [
      "100%|█████████████████████████████████████████████████████████████| 655/655 [00:09<00:00, 65.83it/s]\n"
     ]
    },
    {
     "name": "stdout",
     "output_type": "stream",
     "text": [
      "Epoch: 110, loss: 0.9554792046546936, f1: 0.07073825142011106, precision: 0.03702346961678695, recall: 0.7915450625292217\n"
     ]
    },
    {
     "name": "stderr",
     "output_type": "stream",
     "text": [
      "100%|████████████████████████████████████████████████████████████| 218/218 [00:01<00:00, 192.62it/s]\n"
     ]
    },
    {
     "name": "stdout",
     "output_type": "stream",
     "text": [
      "val_loss: 0.9511108693726565, val_f1: 0.07855060261420171, val_precision: 0.04134187875999087, val_recall: 0.7857023421162312\n"
     ]
    },
    {
     "name": "stderr",
     "output_type": "stream",
     "text": [
      "100%|█████████████████████████████████████████████████████████████| 655/655 [00:09<00:00, 66.08it/s]\n"
     ]
    },
    {
     "name": "stdout",
     "output_type": "stream",
     "text": [
      "Epoch: 111, loss: 0.9544695991596193, f1: 0.07204992249601608, precision: 0.03777226117930112, recall: 0.7787697011050377\n"
     ]
    },
    {
     "name": "stderr",
     "output_type": "stream",
     "text": [
      "100%|████████████████████████████████████████████████████████████| 218/218 [00:01<00:00, 193.39it/s]\n"
     ]
    },
    {
     "name": "stdout",
     "output_type": "stream",
     "text": [
      "val_loss: 0.9498080004245864, val_f1: 0.07932769985145618, val_precision: 0.041930997786923836, val_recall: 0.7335846205370142\n"
     ]
    },
    {
     "name": "stderr",
     "output_type": "stream",
     "text": [
      "100%|█████████████████████████████████████████████████████████████| 655/655 [00:09<00:00, 65.95it/s]\n"
     ]
    },
    {
     "name": "stdout",
     "output_type": "stream",
     "text": [
      "Epoch: 112, loss: 0.9586471248219032, f1: 0.0656789434819651, precision: 0.03424091064548902, recall: 0.8023563595332263\n"
     ]
    },
    {
     "name": "stderr",
     "output_type": "stream",
     "text": [
      "100%|████████████████████████████████████████████████████████████| 218/218 [00:01<00:00, 194.49it/s]\n"
     ]
    },
    {
     "name": "stdout",
     "output_type": "stream",
     "text": [
      "val_loss: 0.9536114110859162, val_f1: 0.07389787537425703, val_precision: 0.03867236146363729, val_recall: 0.829106974970857\n"
     ]
    },
    {
     "name": "stderr",
     "output_type": "stream",
     "text": [
      "100%|█████████████████████████████████████████████████████████████| 655/655 [00:09<00:00, 66.04it/s]\n"
     ]
    },
    {
     "name": "stdout",
     "output_type": "stream",
     "text": [
      "Epoch: 113, loss: 0.9557400073713929, f1: 0.07021280029385941, precision: 0.03672722077445049, recall: 0.7954985807187684\n"
     ]
    },
    {
     "name": "stderr",
     "output_type": "stream",
     "text": [
      "100%|████████████████████████████████████████████████████████████| 218/218 [00:01<00:00, 192.80it/s]\n"
     ]
    },
    {
     "name": "stdout",
     "output_type": "stream",
     "text": [
      "val_loss: 0.9524991832195072, val_f1: 0.07411556948859052, val_precision: 0.03902640325282145, val_recall: 0.7346431240097645\n"
     ]
    },
    {
     "name": "stderr",
     "output_type": "stream",
     "text": [
      "100%|█████████████████████████████████████████████████████████████| 655/655 [00:09<00:00, 66.38it/s]\n"
     ]
    },
    {
     "name": "stdout",
     "output_type": "stream",
     "text": [
      "Epoch: 114, loss: 0.9531810604888974, f1: 0.07430022148120469, precision: 0.03907378281729708, recall: 0.7545960542354875\n"
     ]
    },
    {
     "name": "stderr",
     "output_type": "stream",
     "text": [
      "100%|████████████████████████████████████████████████████████████| 218/218 [00:01<00:00, 191.82it/s]\n"
     ]
    },
    {
     "name": "stdout",
     "output_type": "stream",
     "text": [
      "val_loss: 0.9496412859597337, val_f1: 0.07901046886322888, val_precision: 0.041709376958843934, val_recall: 0.7475645038376161\n"
     ]
    },
    {
     "name": "stderr",
     "output_type": "stream",
     "text": [
      "100%|█████████████████████████████████████████████████████████████| 655/655 [00:09<00:00, 66.35it/s]\n"
     ]
    },
    {
     "name": "stdout",
     "output_type": "stream",
     "text": [
      "Epoch: 115, loss: 0.9515796632257126, f1: 0.07652747439288557, precision: 0.040353778504432385, recall: 0.7387827071524758\n"
     ]
    },
    {
     "name": "stderr",
     "output_type": "stream",
     "text": [
      "100%|████████████████████████████████████████████████████████████| 218/218 [00:01<00:00, 192.43it/s]\n"
     ]
    },
    {
     "name": "stdout",
     "output_type": "stream",
     "text": [
      "val_loss: 0.949749900113552, val_f1: 0.07911415343563616, val_precision: 0.04180047042890016, val_recall: 0.7370549393219685\n"
     ]
    },
    {
     "name": "stderr",
     "output_type": "stream",
     "text": [
      "100%|█████████████████████████████████████████████████████████████| 655/655 [00:09<00:00, 71.41it/s]\n"
     ]
    },
    {
     "name": "stdout",
     "output_type": "stream",
     "text": [
      "Epoch: 116, loss: 0.9522792244685515, f1: 0.07546555528076054, precision: 0.03977443244919636, recall: 0.7350898932068403\n"
     ]
    },
    {
     "name": "stderr",
     "output_type": "stream",
     "text": [
      "100%|████████████████████████████████████████████████████████████| 218/218 [00:01<00:00, 192.91it/s]\n"
     ]
    },
    {
     "name": "stdout",
     "output_type": "stream",
     "text": [
      "val_loss: 0.9501148735711334, val_f1: 0.07829446798820347, val_precision: 0.041436037237738865, val_recall: 0.7087137131789408\n"
     ]
    },
    {
     "name": "stderr",
     "output_type": "stream",
     "text": [
      "100%|█████████████████████████████████████████████████████████████| 655/655 [00:09<00:00, 66.21it/s]\n"
     ]
    },
    {
     "name": "stdout",
     "output_type": "stream",
     "text": [
      "Epoch: 117, loss: 0.9551665205081911, f1: 0.07067782483133037, precision: 0.037091390226740135, recall: 0.7479520609701863\n"
     ]
    },
    {
     "name": "stderr",
     "output_type": "stream",
     "text": [
      "100%|████████████████████████████████████████████████████████████| 218/218 [00:01<00:00, 194.18it/s]\n"
     ]
    },
    {
     "name": "stdout",
     "output_type": "stream",
     "text": [
      "val_loss: 0.951427167161889, val_f1: 0.07665384790939478, val_precision: 0.040371017419485324, val_recall: 0.7569599635557297\n"
     ]
    },
    {
     "name": "stderr",
     "output_type": "stream",
     "text": [
      "100%|█████████████████████████████████████████████████████████████| 655/655 [00:09<00:00, 66.32it/s]\n"
     ]
    },
    {
     "name": "stdout",
     "output_type": "stream",
     "text": [
      "Epoch: 118, loss: 0.9518961285816804, f1: 0.07607740394987424, precision: 0.040095719166867834, recall: 0.7414566673736536\n"
     ]
    },
    {
     "name": "stderr",
     "output_type": "stream",
     "text": [
      "100%|████████████████████████████████████████████████████████████| 218/218 [00:01<00:00, 193.76it/s]\n"
     ]
    },
    {
     "name": "stdout",
     "output_type": "stream",
     "text": [
      "val_loss: 0.9519776729268765, val_f1: 0.07629876326117864, val_precision: 0.040188935766885175, val_recall: 0.7517246150095528\n"
     ]
    },
    {
     "name": "stderr",
     "output_type": "stream",
     "text": [
      "100%|█████████████████████████████████████████████████████████████| 655/655 [00:09<00:00, 65.97it/s]\n"
     ]
    },
    {
     "name": "stdout",
     "output_type": "stream",
     "text": [
      "Epoch: 119, loss: 0.952670624601932, f1: 0.0752677641679617, precision: 0.03968723866562466, recall: 0.7273869884719375\n"
     ]
    },
    {
     "name": "stderr",
     "output_type": "stream",
     "text": [
      "100%|████████████████████████████████████████████████████████████| 218/218 [00:01<00:00, 192.29it/s]\n"
     ]
    },
    {
     "name": "stdout",
     "output_type": "stream",
     "text": [
      "val_loss: 0.954297447970154, val_f1: 0.07198993893439916, val_precision: 0.037945282658339914, val_recall: 0.7003179268415914\n"
     ]
    },
    {
     "name": "stderr",
     "output_type": "stream",
     "text": [
      "100%|█████████████████████████████████████████████████████████████| 655/655 [00:09<00:00, 66.10it/s]\n"
     ]
    },
    {
     "name": "stdout",
     "output_type": "stream",
     "text": [
      "Epoch: 120, loss: 0.9524499215242517, f1: 0.07543010288778182, precision: 0.03980944880625617, recall: 0.7168722787089931\n"
     ]
    },
    {
     "name": "stderr",
     "output_type": "stream",
     "text": [
      "100%|████████████████████████████████████████████████████████████| 218/218 [00:01<00:00, 194.89it/s]\n"
     ]
    },
    {
     "name": "stdout",
     "output_type": "stream",
     "text": [
      "val_loss: 0.9546397784981159, val_f1: 0.07186978213592284, val_precision: 0.037717912540506195, val_recall: 0.7601641928179002\n"
     ]
    },
    {
     "name": "stderr",
     "output_type": "stream",
     "text": [
      "100%|█████████████████████████████████████████████████████████████| 655/655 [00:09<00:00, 65.68it/s]\n"
     ]
    },
    {
     "name": "stdout",
     "output_type": "stream",
     "text": [
      "Epoch: 121, loss: 0.9543649376803682, f1: 0.07191853998201377, precision: 0.03779580333369663, recall: 0.7400407414399941\n"
     ]
    },
    {
     "name": "stderr",
     "output_type": "stream",
     "text": [
      "100%|████████████████████████████████████████████████████████████| 218/218 [00:01<00:00, 193.51it/s]\n"
     ]
    },
    {
     "name": "stdout",
     "output_type": "stream",
     "text": [
      "val_loss: 0.9524232928359181, val_f1: 0.07472355784039596, val_precision: 0.03940290403701878, val_recall: 0.721250538398093\n"
     ]
    },
    {
     "name": "stderr",
     "output_type": "stream",
     "text": [
      "100%|█████████████████████████████████████████████████████████████| 655/655 [00:09<00:00, 66.12it/s]\n"
     ]
    },
    {
     "name": "stdout",
     "output_type": "stream",
     "text": [
      "Epoch: 122, loss: 0.95256615959051, f1: 0.07457305449463178, precision: 0.03930296112022555, recall: 0.7267636942613216\n"
     ]
    },
    {
     "name": "stderr",
     "output_type": "stream",
     "text": [
      "100%|████████████████████████████████████████████████████████████| 218/218 [00:01<00:00, 193.54it/s]\n"
     ]
    },
    {
     "name": "stdout",
     "output_type": "stream",
     "text": [
      "val_loss: 0.9514400212589754, val_f1: 0.0758964324213063, val_precision: 0.040065398814643674, val_recall: 0.7181290900078389\n"
     ]
    },
    {
     "name": "stderr",
     "output_type": "stream",
     "text": [
      "100%|█████████████████████████████████████████████████████████████| 655/655 [00:09<00:00, 65.87it/s]\n"
     ]
    },
    {
     "name": "stdout",
     "output_type": "stream",
     "text": [
      "Epoch: 123, loss: 0.9514039085111545, f1: 0.07666587277619179, precision: 0.040486774664507286, recall: 0.7205633657692952\n"
     ]
    },
    {
     "name": "stderr",
     "output_type": "stream",
     "text": [
      "100%|████████████████████████████████████████████████████████████| 218/218 [00:01<00:00, 195.03it/s]\n"
     ]
    },
    {
     "name": "stdout",
     "output_type": "stream",
     "text": [
      "val_loss: 0.9517672195893909, val_f1: 0.07684462146158473, val_precision: 0.04054609173588421, val_recall: 0.7335382187995342\n"
     ]
    },
    {
     "name": "stderr",
     "output_type": "stream",
     "text": [
      "100%|█████████████████████████████████████████████████████████████| 655/655 [00:09<00:00, 66.14it/s]\n"
     ]
    },
    {
     "name": "stdout",
     "output_type": "stream",
     "text": [
      "Epoch: 124, loss: 0.9521678182914967, f1: 0.07562993272490572, precision: 0.03990912148089127, recall: 0.7206543933003003\n"
     ]
    },
    {
     "name": "stderr",
     "output_type": "stream",
     "text": [
      "100%|████████████████████████████████████████████████████████████| 218/218 [00:01<00:00, 193.00it/s]\n"
     ]
    },
    {
     "name": "stdout",
     "output_type": "stream",
     "text": [
      "val_loss: 0.9556112081632702, val_f1: 0.07040232075873427, val_precision: 0.03704262666891269, val_recall: 0.7081006313545988\n"
     ]
    },
    {
     "name": "stderr",
     "output_type": "stream",
     "text": [
      "100%|█████████████████████████████████████████████████████████████| 655/655 [00:09<00:00, 68.79it/s]\n"
     ]
    },
    {
     "name": "stdout",
     "output_type": "stream",
     "text": [
      "Epoch: 125, loss: 0.9533497557385278, f1: 0.07353740201324563, precision: 0.03871436833389786, recall: 0.7316137830833442\n"
     ]
    },
    {
     "name": "stderr",
     "output_type": "stream",
     "text": [
      "100%|████████████████████████████████████████████████████████████| 218/218 [00:01<00:00, 193.43it/s]\n"
     ]
    },
    {
     "name": "stdout",
     "output_type": "stream",
     "text": [
      "val_loss: 0.9473571665243271, val_f1: 0.08283033796672348, val_precision: 0.044007680236272204, val_recall: 0.7030193259546517\n"
     ]
    },
    {
     "name": "stderr",
     "output_type": "stream",
     "text": [
      "100%|█████████████████████████████████████████████████████████████| 655/655 [00:09<00:00, 66.07it/s]\n"
     ]
    },
    {
     "name": "stdout",
     "output_type": "stream",
     "text": [
      "Epoch: 126, loss: 0.9542778014226724, f1: 0.07281144856354728, precision: 0.03819519871177564, recall: 0.7770571346956355\n"
     ]
    },
    {
     "name": "stderr",
     "output_type": "stream",
     "text": [
      "100%|████████████████████████████████████████████████████████████| 218/218 [00:01<00:00, 193.23it/s]\n"
     ]
    },
    {
     "name": "stdout",
     "output_type": "stream",
     "text": [
      "val_loss: 0.9552278409310437, val_f1: 0.07088997489882785, val_precision: 0.03723929252543854, val_recall: 0.7356308990183773\n"
     ]
    },
    {
     "name": "stderr",
     "output_type": "stream",
     "text": [
      "100%|█████████████████████████████████████████████████████████████| 655/655 [00:09<00:00, 69.06it/s]\n"
     ]
    },
    {
     "name": "stdout",
     "output_type": "stream",
     "text": [
      "Epoch: 127, loss: 0.9549728762102491, f1: 0.0711671040515445, precision: 0.03735240176533356, recall: 0.7514098579305729\n"
     ]
    },
    {
     "name": "stderr",
     "output_type": "stream",
     "text": [
      "100%|████████████████████████████████████████████████████████████| 218/218 [00:01<00:00, 189.46it/s]\n"
     ]
    },
    {
     "name": "stdout",
     "output_type": "stream",
     "text": [
      "val_loss: 0.9510676644810843, val_f1: 0.07747529344829646, val_precision: 0.0407187487741018, val_recall: 0.7961975028482052\n"
     ]
    },
    {
     "name": "stderr",
     "output_type": "stream",
     "text": [
      "100%|█████████████████████████████████████████████████████████████| 655/655 [00:09<00:00, 66.17it/s]\n"
     ]
    },
    {
     "name": "stdout",
     "output_type": "stream",
     "text": [
      "Epoch: 128, loss: 0.9525477375692993, f1: 0.07518273888117535, precision: 0.03956190029955434, recall: 0.7547133825207485\n"
     ]
    },
    {
     "name": "stderr",
     "output_type": "stream",
     "text": [
      "100%|████████████████████████████████████████████████████████████| 218/218 [00:01<00:00, 195.37it/s]\n"
     ]
    },
    {
     "name": "stdout",
     "output_type": "stream",
     "text": [
      "val_loss: 0.949114328950917, val_f1: 0.07988547137547972, val_precision: 0.042231935589070166, val_recall: 0.7368771245515128\n"
     ]
    },
    {
     "name": "stderr",
     "output_type": "stream",
     "text": [
      "100%|█████████████████████████████████████████████████████████████| 655/655 [00:09<00:00, 66.25it/s]\n"
     ]
    },
    {
     "name": "stdout",
     "output_type": "stream",
     "text": [
      "Epoch: 129, loss: 0.9531220801914011, f1: 0.07438237331628031, precision: 0.03900851585390402, recall: 0.798299503337791\n"
     ]
    },
    {
     "name": "stderr",
     "output_type": "stream",
     "text": [
      "100%|████████████████████████████████████████████████████████████| 218/218 [00:01<00:00, 193.81it/s]\n"
     ]
    },
    {
     "name": "stdout",
     "output_type": "stream",
     "text": [
      "val_loss: 0.9518115083012012, val_f1: 0.07633623144986981, val_precision: 0.03995305616429947, val_recall: 0.8543326363240907\n"
     ]
    },
    {
     "name": "stderr",
     "output_type": "stream",
     "text": [
      "100%|█████████████████████████████████████████████████████████████| 655/655 [00:09<00:00, 66.24it/s]\n"
     ]
    },
    {
     "name": "stdout",
     "output_type": "stream",
     "text": [
      "Epoch: 130, loss: 0.9548526687476471, f1: 0.07187882179195192, precision: 0.03753906922158963, recall: 0.8433876233473989\n"
     ]
    },
    {
     "name": "stderr",
     "output_type": "stream",
     "text": [
      "100%|████████████████████████████████████████████████████████████| 218/218 [00:01<00:00, 193.08it/s]\n"
     ]
    },
    {
     "name": "stdout",
     "output_type": "stream",
     "text": [
      "val_loss: 0.9528891266485967, val_f1: 0.0750227079958581, val_precision: 0.039262593737717955, val_recall: 0.84100024634545\n"
     ]
    },
    {
     "name": "stderr",
     "output_type": "stream",
     "text": [
      "100%|█████████████████████████████████████████████████████████████| 655/655 [00:09<00:00, 66.05it/s]\n"
     ]
    },
    {
     "name": "stdout",
     "output_type": "stream",
     "text": [
      "Epoch: 131, loss: 0.9525012635092699, f1: 0.07567950433196727, precision: 0.03969590956387856, recall: 0.809243538077096\n"
     ]
    },
    {
     "name": "stderr",
     "output_type": "stream",
     "text": [
      "100%|████████████████████████████████████████████████████████████| 218/218 [00:01<00:00, 194.78it/s]\n"
     ]
    },
    {
     "name": "stdout",
     "output_type": "stream",
     "text": [
      "val_loss: 0.957605871585531, val_f1: 0.06807280895878337, val_precision: 0.03542013412422646, val_recall: 0.8712496810823406\n"
     ]
    },
    {
     "name": "stderr",
     "output_type": "stream",
     "text": [
      "100%|█████████████████████████████████████████████████████████████| 655/655 [00:09<00:00, 65.77it/s]\n"
     ]
    },
    {
     "name": "stdout",
     "output_type": "stream",
     "text": [
      "Epoch: 132, loss: 0.9530146271217871, f1: 0.07413426190517144, precision: 0.03888931592841071, recall: 0.7910916758175115\n"
     ]
    },
    {
     "name": "stderr",
     "output_type": "stream",
     "text": [
      "100%|████████████████████████████████████████████████████████████| 218/218 [00:01<00:00, 192.95it/s]\n"
     ]
    },
    {
     "name": "stdout",
     "output_type": "stream",
     "text": [
      "val_loss: 0.9498048785629623, val_f1: 0.08032321154888497, val_precision: 0.04239590546017974, val_recall: 0.7620677084687653\n"
     ]
    },
    {
     "name": "stderr",
     "output_type": "stream",
     "text": [
      "100%|█████████████████████████████████████████████████████████████| 655/655 [00:09<00:00, 65.91it/s]\n"
     ]
    },
    {
     "name": "stdout",
     "output_type": "stream",
     "text": [
      "Epoch: 133, loss: 0.9502894554429382, f1: 0.0786579240381251, precision: 0.04148121994781443, recall: 0.7580008427605374\n"
     ]
    },
    {
     "name": "stderr",
     "output_type": "stream",
     "text": [
      "100%|████████████████████████████████████████████████████████████| 218/218 [00:01<00:00, 192.97it/s]\n"
     ]
    },
    {
     "name": "stdout",
     "output_type": "stream",
     "text": [
      "val_loss: 0.9488522336570495, val_f1: 0.08171839073460242, val_precision: 0.043059111888939086, val_recall: 0.7997397390800879\n"
     ]
    },
    {
     "name": "stderr",
     "output_type": "stream",
     "text": [
      "100%|█████████████████████████████████████████████████████████████| 655/655 [00:09<00:00, 65.87it/s]\n"
     ]
    },
    {
     "name": "stdout",
     "output_type": "stream",
     "text": [
      "Epoch: 134, loss: 0.9505558248694617, f1: 0.07813691007861286, precision: 0.04120196277268572, recall: 0.7544838037995891\n"
     ]
    },
    {
     "name": "stderr",
     "output_type": "stream",
     "text": [
      "100%|████████████████████████████████████████████████████████████| 218/218 [00:01<00:00, 193.50it/s]\n"
     ]
    },
    {
     "name": "stdout",
     "output_type": "stream",
     "text": [
      "val_loss: 0.9505114435055934, val_f1: 0.07777257168564894, val_precision: 0.04108987428961373, val_recall: 0.7251048167364313\n"
     ]
    },
    {
     "name": "stderr",
     "output_type": "stream",
     "text": [
      "100%|█████████████████████████████████████████████████████████████| 655/655 [00:09<00:00, 66.09it/s]\n"
     ]
    },
    {
     "name": "stdout",
     "output_type": "stream",
     "text": [
      "Epoch: 135, loss: 0.9489566624619579, f1: 0.08065203255822181, precision: 0.04266711595852127, recall: 0.7349515391670111\n"
     ]
    },
    {
     "name": "stderr",
     "output_type": "stream",
     "text": [
      "100%|████████████████████████████████████████████████████████████| 218/218 [00:01<00:00, 193.51it/s]\n"
     ]
    },
    {
     "name": "stdout",
     "output_type": "stream",
     "text": [
      "val_loss: 0.9477576427503464, val_f1: 0.08282703474702952, val_precision: 0.043905411775377705, val_recall: 0.729676800105003\n"
     ]
    },
    {
     "name": "stderr",
     "output_type": "stream",
     "text": [
      "100%|█████████████████████████████████████████████████████████████| 655/655 [00:09<00:00, 66.20it/s]\n"
     ]
    },
    {
     "name": "stdout",
     "output_type": "stream",
     "text": [
      "Epoch: 136, loss: 0.9489367644295438, f1: 0.0804503360496903, precision: 0.04260002785746207, recall: 0.7215555439923556\n"
     ]
    },
    {
     "name": "stderr",
     "output_type": "stream",
     "text": [
      "100%|████████████████████████████████████████████████████████████| 218/218 [00:01<00:00, 191.27it/s]\n"
     ]
    },
    {
     "name": "stdout",
     "output_type": "stream",
     "text": [
      "val_loss: 0.9447612155468093, val_f1: 0.08718811097149948, val_precision: 0.04644521583969611, val_recall: 0.7101443149491188\n"
     ]
    },
    {
     "name": "stderr",
     "output_type": "stream",
     "text": [
      "100%|█████████████████████████████████████████████████████████████| 655/655 [00:09<00:00, 66.42it/s]\n"
     ]
    },
    {
     "name": "stdout",
     "output_type": "stream",
     "text": [
      "Epoch: 137, loss: 0.9500250812705237, f1: 0.07910082294529773, precision: 0.04185788806115512, recall: 0.7174489676042367\n"
     ]
    },
    {
     "name": "stderr",
     "output_type": "stream",
     "text": [
      "100%|████████████████████████████████████████████████████████████| 218/218 [00:01<00:00, 190.67it/s]\n"
     ]
    },
    {
     "name": "stdout",
     "output_type": "stream",
     "text": [
      "val_loss: 0.952639799325838, val_f1: 0.07454496739192272, val_precision: 0.03922215153339293, val_recall: 0.7498236240460239\n"
     ]
    },
    {
     "name": "stderr",
     "output_type": "stream",
     "text": [
      "100%|█████████████████████████████████████████████████████████████| 655/655 [00:09<00:00, 66.91it/s]\n"
     ]
    },
    {
     "name": "stdout",
     "output_type": "stream",
     "text": [
      "Epoch: 138, loss: 0.9501718902405891, f1: 0.0781835025426433, precision: 0.041342877402531966, recall: 0.7179364398349333\n"
     ]
    },
    {
     "name": "stderr",
     "output_type": "stream",
     "text": [
      "100%|████████████████████████████████████████████████████████████| 218/218 [00:01<00:00, 191.15it/s]\n"
     ]
    },
    {
     "name": "stdout",
     "output_type": "stream",
     "text": [
      "val_loss: 0.9461665856182029, val_f1: 0.08436690860109687, val_precision: 0.04484265564765713, val_recall: 0.7113482088465756\n"
     ]
    },
    {
     "name": "stderr",
     "output_type": "stream",
     "text": [
      "100%|█████████████████████████████████████████████████████████████| 655/655 [00:09<00:00, 67.41it/s]\n"
     ]
    },
    {
     "name": "stdout",
     "output_type": "stream",
     "text": [
      "Epoch: 139, loss: 0.9487003692233835, f1: 0.08043005906985508, precision: 0.04262507570807943, recall: 0.711259683579889\n"
     ]
    },
    {
     "name": "stderr",
     "output_type": "stream",
     "text": [
      "100%|████████████████████████████████████████████████████████████| 218/218 [00:01<00:00, 192.54it/s]\n"
     ]
    },
    {
     "name": "stdout",
     "output_type": "stream",
     "text": [
      "val_loss: 0.9483838073157389, val_f1: 0.08150795645264222, val_precision: 0.04329472151157711, val_recall: 0.6944551021885981\n"
     ]
    },
    {
     "name": "stderr",
     "output_type": "stream",
     "text": [
      "100%|█████████████████████████████████████████████████████████████| 655/655 [00:09<00:00, 66.49it/s]\n"
     ]
    },
    {
     "name": "stdout",
     "output_type": "stream",
     "text": [
      "Epoch: 140, loss: 0.9496952012295031, f1: 0.07937053478505515, precision: 0.042004481109058245, recall: 0.7187604370462986\n"
     ]
    },
    {
     "name": "stderr",
     "output_type": "stream",
     "text": [
      "100%|████████████████████████████████████████████████████████████| 218/218 [00:01<00:00, 194.15it/s]\n"
     ]
    },
    {
     "name": "stdout",
     "output_type": "stream",
     "text": [
      "val_loss: 0.9454057607628884, val_f1: 0.08602862265785005, val_precision: 0.04583024815389237, val_recall: 0.7000713030542802\n"
     ]
    },
    {
     "name": "stderr",
     "output_type": "stream",
     "text": [
      "100%|█████████████████████████████████████████████████████████████| 655/655 [00:09<00:00, 65.88it/s]\n"
     ]
    },
    {
     "name": "stdout",
     "output_type": "stream",
     "text": [
      "Epoch: 141, loss: 0.9495009951009095, f1: 0.07959706939409616, precision: 0.04213127652218722, recall: 0.7187949615466686\n"
     ]
    },
    {
     "name": "stderr",
     "output_type": "stream",
     "text": [
      "100%|████████████████████████████████████████████████████████████| 218/218 [00:01<00:00, 191.31it/s]\n"
     ]
    },
    {
     "name": "stdout",
     "output_type": "stream",
     "text": [
      "val_loss: 0.9501946707931134, val_f1: 0.07887972241778497, val_precision: 0.04179975588820926, val_recall: 0.6985805702455546\n"
     ]
    },
    {
     "name": "stderr",
     "output_type": "stream",
     "text": [
      "100%|█████████████████████████████████████████████████████████████| 655/655 [00:09<00:00, 66.25it/s]\n"
     ]
    },
    {
     "name": "stdout",
     "output_type": "stream",
     "text": [
      "Epoch: 142, loss: 0.9515046343548608, f1: 0.07634275026839339, precision: 0.04021304795333675, recall: 0.7518282676471099\n"
     ]
    },
    {
     "name": "stderr",
     "output_type": "stream",
     "text": [
      "100%|████████████████████████████████████████████████████████████| 218/218 [00:01<00:00, 193.27it/s]\n"
     ]
    },
    {
     "name": "stdout",
     "output_type": "stream",
     "text": [
      "val_loss: 0.9483388610389254, val_f1: 0.0815942428565559, val_precision: 0.04304147410684974, val_recall: 0.7823940784149214\n"
     ]
    },
    {
     "name": "stderr",
     "output_type": "stream",
     "text": [
      "100%|█████████████████████████████████████████████████████████████| 655/655 [00:09<00:00, 66.44it/s]\n"
     ]
    },
    {
     "name": "stdout",
     "output_type": "stream",
     "text": [
      "Epoch: 143, loss: 0.9502762024639217, f1: 0.0784006396345258, precision: 0.04136763695584795, recall: 0.7482174942852886\n"
     ]
    },
    {
     "name": "stderr",
     "output_type": "stream",
     "text": [
      "100%|████████████████████████████████████████████████████████████| 218/218 [00:01<00:00, 194.17it/s]\n"
     ]
    },
    {
     "name": "stdout",
     "output_type": "stream",
     "text": [
      "val_loss: 0.9473470449447632, val_f1: 0.08266110431266116, val_precision: 0.0438830080493396, val_recall: 0.7105740623873308\n"
     ]
    },
    {
     "name": "stderr",
     "output_type": "stream",
     "text": [
      "100%|█████████████████████████████████████████████████████████████| 655/655 [00:09<00:00, 66.24it/s]\n"
     ]
    },
    {
     "name": "stdout",
     "output_type": "stream",
     "text": [
      "Epoch: 144, loss: 0.9490065722975112, f1: 0.08019230560695666, precision: 0.04242358023873068, recall: 0.7308594587991256\n"
     ]
    },
    {
     "name": "stderr",
     "output_type": "stream",
     "text": [
      "100%|████████████████████████████████████████████████████████████| 218/218 [00:01<00:00, 192.47it/s]\n"
     ]
    },
    {
     "name": "stdout",
     "output_type": "stream",
     "text": [
      "val_loss: 0.9453710457053753, val_f1: 0.0857174775759462, val_precision: 0.045669023797168064, val_recall: 0.6964833656445556\n"
     ]
    },
    {
     "name": "stderr",
     "output_type": "stream",
     "text": [
      "100%|█████████████████████████████████████████████████████████████| 655/655 [00:09<00:00, 65.88it/s]\n"
     ]
    },
    {
     "name": "stdout",
     "output_type": "stream",
     "text": [
      "Epoch: 145, loss: 0.947950852554263, f1: 0.08171187116530841, precision: 0.04337323897567983, recall: 0.7039494176629846\n"
     ]
    },
    {
     "name": "stderr",
     "output_type": "stream",
     "text": [
      "100%|████████████████████████████████████████████████████████████| 218/218 [00:01<00:00, 192.76it/s]\n"
     ]
    },
    {
     "name": "stdout",
     "output_type": "stream",
     "text": [
      "val_loss: 0.9445641128295058, val_f1: 0.0863983204838182, val_precision: 0.0460798996153561, val_recall: 0.6910076578822705\n"
     ]
    },
    {
     "name": "stderr",
     "output_type": "stream",
     "text": [
      "100%|█████████████████████████████████████████████████████████████| 655/655 [00:09<00:00, 66.24it/s]\n"
     ]
    },
    {
     "name": "stdout",
     "output_type": "stream",
     "text": [
      "Epoch: 146, loss: 0.9486485810680244, f1: 0.08056980839911279, precision: 0.042673097706918836, recall: 0.7198251095323163\n"
     ]
    },
    {
     "name": "stderr",
     "output_type": "stream",
     "text": [
      "100%|████████████████████████████████████████████████████████████| 218/218 [00:01<00:00, 193.76it/s]\n"
     ]
    },
    {
     "name": "stdout",
     "output_type": "stream",
     "text": [
      "val_loss: 0.9475769531836203, val_f1: 0.08289536322075747, val_precision: 0.04394902961078707, val_recall: 0.728241486628668\n"
     ]
    },
    {
     "name": "stderr",
     "output_type": "stream",
     "text": [
      "100%|█████████████████████████████████████████████████████████████| 655/655 [00:09<00:00, 65.92it/s]\n"
     ]
    },
    {
     "name": "stdout",
     "output_type": "stream",
     "text": [
      "Epoch: 147, loss: 0.9500010753405913, f1: 0.07889869712456316, precision: 0.04169090032108299, recall: 0.7337233468662692\n"
     ]
    },
    {
     "name": "stderr",
     "output_type": "stream",
     "text": [
      "100%|████████████████████████████████████████████████████████████| 218/218 [00:01<00:00, 193.54it/s]\n"
     ]
    },
    {
     "name": "stdout",
     "output_type": "stream",
     "text": [
      "val_loss: 0.9458402545627104, val_f1: 0.08506286832675936, val_precision: 0.045263300686134794, val_recall: 0.7046878305050212\n"
     ]
    },
    {
     "name": "stderr",
     "output_type": "stream",
     "text": [
      "100%|█████████████████████████████████████████████████████████████| 655/655 [00:09<00:00, 66.77it/s]\n"
     ]
    },
    {
     "name": "stdout",
     "output_type": "stream",
     "text": [
      "Epoch: 148, loss: 0.9491201642815393, f1: 0.0798815348271239, precision: 0.04227645807288132, recall: 0.7229357073552736\n"
     ]
    },
    {
     "name": "stderr",
     "output_type": "stream",
     "text": [
      "100%|████████████████████████████████████████████████████████████| 218/218 [00:01<00:00, 192.60it/s]\n"
     ]
    },
    {
     "name": "stdout",
     "output_type": "stream",
     "text": [
      "val_loss: 0.9507851357306909, val_f1: 0.0774497201952396, val_precision: 0.04081592487476749, val_recall: 0.7558785350907833\n"
     ]
    },
    {
     "name": "stderr",
     "output_type": "stream",
     "text": [
      "100%|█████████████████████████████████████████████████████████████| 655/655 [00:09<00:00, 66.03it/s]\n"
     ]
    },
    {
     "name": "stdout",
     "output_type": "stream",
     "text": [
      "Epoch: 149, loss: 0.9501306134325858, f1: 0.07847554381134962, precision: 0.04152258636184634, recall: 0.7130792472881216\n"
     ]
    },
    {
     "name": "stderr",
     "output_type": "stream",
     "text": [
      "100%|████████████████████████████████████████████████████████████| 218/218 [00:01<00:00, 192.80it/s]\n"
     ]
    },
    {
     "name": "stdout",
     "output_type": "stream",
     "text": [
      "val_loss: 0.9485700567927929, val_f1: 0.08016401910222387, val_precision: 0.04256657036149515, val_recall: 0.6867023228642044\n"
     ]
    },
    {
     "name": "stderr",
     "output_type": "stream",
     "text": [
      "100%|█████████████████████████████████████████████████████████████| 655/655 [00:09<00:00, 70.35it/s]\n"
     ]
    },
    {
     "name": "stdout",
     "output_type": "stream",
     "text": [
      "Epoch: 150, loss: 0.9479318782573438, f1: 0.0818594142388484, precision: 0.04344593402929604, recall: 0.7067046888229501\n"
     ]
    },
    {
     "name": "stderr",
     "output_type": "stream",
     "text": [
      "100%|████████████████████████████████████████████████████████████| 218/218 [00:01<00:00, 192.05it/s]\n"
     ]
    },
    {
     "name": "stdout",
     "output_type": "stream",
     "text": [
      "val_loss: 0.9523700601464018, val_f1: 0.07574871119334563, val_precision: 0.03976279719991165, val_recall: 0.7974778346785711\n"
     ]
    },
    {
     "name": "stderr",
     "output_type": "stream",
     "text": [
      "100%|█████████████████████████████████████████████████████████████| 655/655 [00:09<00:00, 66.14it/s]\n"
     ]
    },
    {
     "name": "stdout",
     "output_type": "stream",
     "text": [
      "Epoch: 151, loss: 0.9488534429601131, f1: 0.08072729464179851, precision: 0.04269470236164639, recall: 0.7392849497212708\n"
     ]
    },
    {
     "name": "stderr",
     "output_type": "stream",
     "text": [
      "100%|████████████████████████████████████████████████████████████| 218/218 [00:01<00:00, 193.69it/s]\n"
     ]
    },
    {
     "name": "stdout",
     "output_type": "stream",
     "text": [
      "val_loss: 0.9462807003511201, val_f1: 0.08418489726266959, val_precision: 0.04475425319946926, val_recall: 0.7077214181628249\n"
     ]
    },
    {
     "name": "stderr",
     "output_type": "stream",
     "text": [
      "100%|█████████████████████████████████████████████████████████████| 655/655 [00:09<00:00, 66.76it/s]\n"
     ]
    },
    {
     "name": "stdout",
     "output_type": "stream",
     "text": [
      "Epoch: 152, loss: 0.9493070608786954, f1: 0.079841717266546, precision: 0.04225564456184018, recall: 0.7224994773059401\n"
     ]
    },
    {
     "name": "stderr",
     "output_type": "stream",
     "text": [
      "100%|████████████████████████████████████████████████████████████| 218/218 [00:01<00:00, 193.15it/s]\n"
     ]
    },
    {
     "name": "stdout",
     "output_type": "stream",
     "text": [
      "val_loss: 0.9529700525310061, val_f1: 0.07377721603028241, val_precision: 0.03893383991169752, val_recall: 0.7022260710118561\n"
     ]
    },
    {
     "name": "stderr",
     "output_type": "stream",
     "text": [
      "100%|█████████████████████████████████████████████████████████████| 655/655 [00:09<00:00, 66.62it/s]\n"
     ]
    },
    {
     "name": "stdout",
     "output_type": "stream",
     "text": [
      "Epoch: 153, loss: 0.9493506286890452, f1: 0.07975164473936217, precision: 0.042197603256733135, recall: 0.7247299438441983\n"
     ]
    },
    {
     "name": "stderr",
     "output_type": "stream",
     "text": [
      "100%|████████████████████████████████████████████████████████████| 218/218 [00:01<00:00, 193.00it/s]\n"
     ]
    },
    {
     "name": "stdout",
     "output_type": "stream",
     "text": [
      "val_loss: 0.95424302920289, val_f1: 0.07228268279741529, val_precision: 0.03781518994386248, val_recall: 0.8164966261578263\n"
     ]
    },
    {
     "name": "stderr",
     "output_type": "stream",
     "text": [
      "100%|█████████████████████████████████████████████████████████████| 655/655 [00:09<00:00, 66.21it/s]\n"
     ]
    },
    {
     "name": "stdout",
     "output_type": "stream",
     "text": [
      "Epoch: 154, loss: 0.9509231693872059, f1: 0.07721722853027886, precision: 0.040740737953500555, recall: 0.7377355474779624\n"
     ]
    },
    {
     "name": "stderr",
     "output_type": "stream",
     "text": [
      "100%|████████████████████████████████████████████████████████████| 218/218 [00:01<00:00, 191.22it/s]\n"
     ]
    },
    {
     "name": "stdout",
     "output_type": "stream",
     "text": [
      "val_loss: 0.9460040943338237, val_f1: 0.08497908322099743, val_precision: 0.045200045937202324, val_recall: 0.7085505135425734\n"
     ]
    },
    {
     "name": "stderr",
     "output_type": "stream",
     "text": [
      "100%|█████████████████████████████████████████████████████████████| 655/655 [00:09<00:00, 65.98it/s]\n"
     ]
    },
    {
     "name": "stdout",
     "output_type": "stream",
     "text": [
      "Epoch: 155, loss: 0.95372680580343, f1: 0.07263752147543834, precision: 0.038231639477303465, recall: 0.7258827954189468\n"
     ]
    },
    {
     "name": "stderr",
     "output_type": "stream",
     "text": [
      "100%|████████████████████████████████████████████████████████████| 218/218 [00:01<00:00, 194.35it/s]\n"
     ]
    },
    {
     "name": "stdout",
     "output_type": "stream",
     "text": [
      "val_loss: 0.9449781715323072, val_f1: 0.08631744636237805, val_precision: 0.0459164473347776, val_recall: 0.7185980647870707\n"
     ]
    },
    {
     "name": "stderr",
     "output_type": "stream",
     "text": [
      "100%|█████████████████████████████████████████████████████████████| 655/655 [00:09<00:00, 65.78it/s]\n"
     ]
    },
    {
     "name": "stdout",
     "output_type": "stream",
     "text": [
      "Epoch: 156, loss: 0.9491063933336098, f1: 0.07991787667159156, precision: 0.042311715268892526, recall: 0.7186109305679343\n"
     ]
    },
    {
     "name": "stderr",
     "output_type": "stream",
     "text": [
      "100%|████████████████████████████████████████████████████████████| 218/218 [00:01<00:00, 192.34it/s]\n"
     ]
    },
    {
     "name": "stdout",
     "output_type": "stream",
     "text": [
      "val_loss: 0.9474309726592598, val_f1: 0.08200599106072957, val_precision: 0.04341653185851718, val_recall: 0.7375931495099987\n"
     ]
    },
    {
     "name": "stderr",
     "output_type": "stream",
     "text": [
      "100%|█████████████████████████████████████████████████████████████| 655/655 [00:09<00:00, 66.43it/s]\n"
     ]
    },
    {
     "name": "stdout",
     "output_type": "stream",
     "text": [
      "Epoch: 157, loss: 0.9505917398984196, f1: 0.07774558618182659, precision: 0.04095500985050275, recall: 0.7645868839653394\n"
     ]
    },
    {
     "name": "stderr",
     "output_type": "stream",
     "text": [
      "100%|████████████████████████████████████████████████████████████| 218/218 [00:01<00:00, 193.08it/s]\n"
     ]
    },
    {
     "name": "stdout",
     "output_type": "stream",
     "text": [
      "val_loss: 0.9483602131725452, val_f1: 0.08107369006982547, val_precision: 0.042815606746878135, val_recall: 0.7616459442251319\n"
     ]
    },
    {
     "name": "stderr",
     "output_type": "stream",
     "text": [
      "100%|█████████████████████████████████████████████████████████████| 655/655 [00:09<00:00, 66.04it/s]\n"
     ]
    },
    {
     "name": "stdout",
     "output_type": "stream",
     "text": [
      "Epoch: 158, loss: 0.9497863856890729, f1: 0.07915380530438065, precision: 0.04178496936961781, recall: 0.7489446093335407\n"
     ]
    },
    {
     "name": "stderr",
     "output_type": "stream",
     "text": [
      "100%|████████████████████████████████████████████████████████████| 218/218 [00:01<00:00, 192.35it/s]\n"
     ]
    },
    {
     "name": "stdout",
     "output_type": "stream",
     "text": [
      "val_loss: 0.9471191132287367, val_f1: 0.08261429759262728, val_precision: 0.04376142299381606, val_recall: 0.7365353117363715\n"
     ]
    },
    {
     "name": "stderr",
     "output_type": "stream",
     "text": [
      "100%|█████████████████████████████████████████████████████████████| 655/655 [00:09<00:00, 66.11it/s]\n"
     ]
    },
    {
     "name": "stdout",
     "output_type": "stream",
     "text": [
      "Epoch: 159, loss: 0.9492804929500318, f1: 0.0797978452765192, precision: 0.04219782918563667, recall: 0.7323690143477826\n"
     ]
    },
    {
     "name": "stderr",
     "output_type": "stream",
     "text": [
      "100%|████████████████████████████████████████████████████████████| 218/218 [00:01<00:00, 193.12it/s]\n"
     ]
    },
    {
     "name": "stdout",
     "output_type": "stream",
     "text": [
      "val_loss: 0.9451519133300956, val_f1: 0.08674337415509184, val_precision: 0.04605140630048999, val_recall: 0.7453494255832576\n"
     ]
    },
    {
     "name": "stderr",
     "output_type": "stream",
     "text": [
      "100%|█████████████████████████████████████████████████████████████| 655/655 [00:09<00:00, 66.05it/s]\n"
     ]
    },
    {
     "name": "stdout",
     "output_type": "stream",
     "text": [
      "Epoch: 160, loss: 0.9513792178103032, f1: 0.07677687471032019, precision: 0.040407504686261066, recall: 0.7682660892150784\n"
     ]
    },
    {
     "name": "stderr",
     "output_type": "stream",
     "text": [
      "100%|████████████████████████████████████████████████████████████| 218/218 [00:01<00:00, 193.60it/s]\n"
     ]
    },
    {
     "name": "stdout",
     "output_type": "stream",
     "text": [
      "val_loss: 0.9518820974258108, val_f1: 0.07554600409189965, val_precision: 0.03981735912865079, val_recall: 0.7356939746767556\n"
     ]
    },
    {
     "name": "stderr",
     "output_type": "stream",
     "text": [
      "100%|█████████████████████████████████████████████████████████████| 655/655 [00:09<00:00, 70.07it/s]\n"
     ]
    },
    {
     "name": "stdout",
     "output_type": "stream",
     "text": [
      "Epoch: 161, loss: 0.9556553291910477, f1: 0.07018794059305818, precision: 0.036695387629251786, recall: 0.8041544306824225\n"
     ]
    },
    {
     "name": "stderr",
     "output_type": "stream",
     "text": [
      "100%|████████████████████████████████████████████████████████████| 218/218 [00:01<00:00, 192.32it/s]\n"
     ]
    },
    {
     "name": "stdout",
     "output_type": "stream",
     "text": [
      "val_loss: 0.9528933790845608, val_f1: 0.0744575299139579, val_precision: 0.038982640658697505, val_recall: 0.8274677419060961\n"
     ]
    },
    {
     "name": "stderr",
     "output_type": "stream",
     "text": [
      "100%|█████████████████████████████████████████████████████████████| 655/655 [00:09<00:00, 66.15it/s]\n"
     ]
    },
    {
     "name": "stdout",
     "output_type": "stream",
     "text": [
      "Epoch: 162, loss: 0.9541219845982908, f1: 0.07263400883525961, precision: 0.03805523810335897, recall: 0.7950900167568039\n"
     ]
    },
    {
     "name": "stderr",
     "output_type": "stream",
     "text": [
      "100%|████████████████████████████████████████████████████████████| 218/218 [00:01<00:00, 194.20it/s]\n"
     ]
    },
    {
     "name": "stdout",
     "output_type": "stream",
     "text": [
      "val_loss: 0.9489177142808197, val_f1: 0.0807433840339577, val_precision: 0.04260047063671497, val_recall: 0.7716572050244437\n"
     ]
    },
    {
     "name": "stderr",
     "output_type": "stream",
     "text": [
      "100%|█████████████████████████████████████████████████████████████| 655/655 [00:09<00:00, 66.18it/s]\n"
     ]
    },
    {
     "name": "stdout",
     "output_type": "stream",
     "text": [
      "Epoch: 163, loss: 0.9512857125005649, f1: 0.07721739336800738, precision: 0.040605148654217826, recall: 0.7852489774804989\n"
     ]
    },
    {
     "name": "stderr",
     "output_type": "stream",
     "text": [
      "100%|████████████████████████████████████████████████████████████| 218/218 [00:01<00:00, 191.24it/s]\n"
     ]
    },
    {
     "name": "stdout",
     "output_type": "stream",
     "text": [
      "val_loss: 0.9453652304246885, val_f1: 0.08632708977934862, val_precision: 0.04579417839637795, val_recall: 0.7513927994381397\n"
     ]
    },
    {
     "name": "stderr",
     "output_type": "stream",
     "text": [
      "100%|█████████████████████████████████████████████████████████████| 655/655 [00:09<00:00, 66.35it/s]\n"
     ]
    },
    {
     "name": "stdout",
     "output_type": "stream",
     "text": [
      "Epoch: 164, loss: 0.9493899042369756, f1: 0.0798098763515016, precision: 0.04218327472473402, recall: 0.7388377150392714\n"
     ]
    },
    {
     "name": "stderr",
     "output_type": "stream",
     "text": [
      "100%|████████████████████████████████████████████████████████████| 218/218 [00:01<00:00, 192.37it/s]\n"
     ]
    },
    {
     "name": "stdout",
     "output_type": "stream",
     "text": [
      "val_loss: 0.9475547192840401, val_f1: 0.08195381791816088, val_precision: 0.04348023364121744, val_recall: 0.7117277227957314\n"
     ]
    },
    {
     "name": "stderr",
     "output_type": "stream",
     "text": [
      "100%|█████████████████████████████████████████████████████████████| 655/655 [00:09<00:00, 66.04it/s]\n"
     ]
    },
    {
     "name": "stdout",
     "output_type": "stream",
     "text": [
      "Epoch: 165, loss: 0.9484681137645518, f1: 0.08112885637047376, precision: 0.04299405950800523, recall: 0.7178164946100184\n"
     ]
    },
    {
     "name": "stderr",
     "output_type": "stream",
     "text": [
      "100%|████████████████████████████████████████████████████████████| 218/218 [00:01<00:00, 193.90it/s]\n"
     ]
    },
    {
     "name": "stdout",
     "output_type": "stream",
     "text": [
      "val_loss: 0.9448412077142558, val_f1: 0.08744989451546291, val_precision: 0.04654874935492002, val_recall: 0.7207805435386819\n"
     ]
    },
    {
     "name": "stderr",
     "output_type": "stream",
     "text": [
      "100%|█████████████████████████████████████████████████████████████| 655/655 [00:09<00:00, 66.24it/s]\n"
     ]
    },
    {
     "name": "stdout",
     "output_type": "stream",
     "text": [
      "Epoch: 166, loss: 0.9474749940952272, f1: 0.08250169249221641, precision: 0.043732275159937106, recall: 0.7269977989542575\n"
     ]
    },
    {
     "name": "stderr",
     "output_type": "stream",
     "text": [
      "100%|████████████████████████████████████████████████████████████| 218/218 [00:01<00:00, 192.94it/s]\n"
     ]
    },
    {
     "name": "stdout",
     "output_type": "stream",
     "text": [
      "val_loss: 0.9435342358886649, val_f1: 0.08923505713930713, val_precision: 0.04756110572788027, val_recall: 0.7209116253967679\n"
     ]
    },
    {
     "name": "stderr",
     "output_type": "stream",
     "text": [
      "100%|█████████████████████████████████████████████████████████████| 655/655 [00:09<00:00, 66.33it/s]\n"
     ]
    },
    {
     "name": "stdout",
     "output_type": "stream",
     "text": [
      "Epoch: 167, loss: 0.9463561978958945, f1: 0.0843183842634463, precision: 0.044833892468675855, recall: 0.7066812907921449\n"
     ]
    },
    {
     "name": "stderr",
     "output_type": "stream",
     "text": [
      "100%|████████████████████████████████████████████████████████████| 218/218 [00:01<00:00, 194.97it/s]\n"
     ]
    },
    {
     "name": "stdout",
     "output_type": "stream",
     "text": [
      "val_loss: 0.9444523902114378, val_f1: 0.08765062238817872, val_precision: 0.04659073894315852, val_recall: 0.738350019679157\n"
     ]
    },
    {
     "name": "stderr",
     "output_type": "stream",
     "text": [
      "100%|█████████████████████████████████████████████████████████████| 655/655 [00:09<00:00, 65.65it/s]\n"
     ]
    },
    {
     "name": "stdout",
     "output_type": "stream",
     "text": [
      "Epoch: 168, loss: 0.9478645015308875, f1: 0.08197492709174582, precision: 0.04346025747687819, recall: 0.7203696582608551\n"
     ]
    },
    {
     "name": "stderr",
     "output_type": "stream",
     "text": [
      "100%|████████████████████████████████████████████████████████████| 218/218 [00:01<00:00, 191.95it/s]\n"
     ]
    },
    {
     "name": "stdout",
     "output_type": "stream",
     "text": [
      "val_loss: 0.9444487879582502, val_f1: 0.08789557031087748, val_precision: 0.04679900510001654, val_recall: 0.7213447792882767\n"
     ]
    },
    {
     "name": "stderr",
     "output_type": "stream",
     "text": [
      "100%|█████████████████████████████████████████████████████████████| 655/655 [00:09<00:00, 66.86it/s]\n"
     ]
    },
    {
     "name": "stdout",
     "output_type": "stream",
     "text": [
      "Epoch: 169, loss: 0.9471844527557606, f1: 0.08352642628546633, precision: 0.044292695300283895, recall: 0.7312980125082358\n"
     ]
    },
    {
     "name": "stderr",
     "output_type": "stream",
     "text": [
      "100%|████████████████████████████████████████████████████████████| 218/218 [00:01<00:00, 193.71it/s]\n"
     ]
    },
    {
     "name": "stdout",
     "output_type": "stream",
     "text": [
      "val_loss: 0.9464019758438845, val_f1: 0.08409180876568316, val_precision: 0.04462743315572312, val_recall: 0.7268564298133785\n"
     ]
    },
    {
     "name": "stderr",
     "output_type": "stream",
     "text": [
      "100%|█████████████████████████████████████████████████████████████| 655/655 [00:09<00:00, 66.44it/s]\n"
     ]
    },
    {
     "name": "stdout",
     "output_type": "stream",
     "text": [
      "Epoch: 170, loss: 0.9497537211607431, f1: 0.07896423785551665, precision: 0.04175908271443696, recall: 0.7240945506869382\n"
     ]
    },
    {
     "name": "stderr",
     "output_type": "stream",
     "text": [
      "100%|████████████████████████████████████████████████████████████| 218/218 [00:01<00:00, 193.42it/s]\n"
     ]
    },
    {
     "name": "stdout",
     "output_type": "stream",
     "text": [
      "val_loss: 0.9450186392582884, val_f1: 0.08693073170098013, val_precision: 0.04620589537080377, val_recall: 0.7328350714177166\n"
     ]
    },
    {
     "name": "stderr",
     "output_type": "stream",
     "text": [
      "100%|█████████████████████████████████████████████████████████████| 655/655 [00:09<00:00, 66.83it/s]\n"
     ]
    },
    {
     "name": "stdout",
     "output_type": "stream",
     "text": [
      "Epoch: 171, loss: 0.9498585834757972, f1: 0.07907252348030416, precision: 0.04170258866395545, recall: 0.7610875544884733\n"
     ]
    },
    {
     "name": "stderr",
     "output_type": "stream",
     "text": [
      "100%|████████████████████████████████████████████████████████████| 218/218 [00:01<00:00, 194.03it/s]\n"
     ]
    },
    {
     "name": "stdout",
     "output_type": "stream",
     "text": [
      "val_loss: 0.9440019354907745, val_f1: 0.08787611201904588, val_precision: 0.046669647866569526, val_recall: 0.75068813688848\n"
     ]
    },
    {
     "name": "stderr",
     "output_type": "stream",
     "text": [
      "100%|█████████████████████████████████████████████████████████████| 655/655 [00:09<00:00, 66.94it/s]\n"
     ]
    },
    {
     "name": "stdout",
     "output_type": "stream",
     "text": [
      "Epoch: 172, loss: 0.9484871151793094, f1: 0.08138661239745693, precision: 0.043079606657012416, recall: 0.7346315584564937\n"
     ]
    },
    {
     "name": "stderr",
     "output_type": "stream",
     "text": [
      "100%|████████████████████████████████████████████████████████████| 218/218 [00:01<00:00, 187.65it/s]\n"
     ]
    },
    {
     "name": "stdout",
     "output_type": "stream",
     "text": [
      "val_loss: 0.9438620805740356, val_f1: 0.08776062529319882, val_precision: 0.04672775966533964, val_recall: 0.7200937154916448\n"
     ]
    },
    {
     "name": "stderr",
     "output_type": "stream",
     "text": [
      "100%|█████████████████████████████████████████████████████████████| 655/655 [00:09<00:00, 67.74it/s]\n"
     ]
    },
    {
     "name": "stdout",
     "output_type": "stream",
     "text": [
      "Epoch: 173, loss: 0.9490536235671007, f1: 0.07975404485900434, precision: 0.04225278121973779, recall: 0.7092113523196628\n"
     ]
    },
    {
     "name": "stderr",
     "output_type": "stream",
     "text": [
      "100%|████████████████████████████████████████████████████████████| 218/218 [00:01<00:00, 193.12it/s]\n"
     ]
    },
    {
     "name": "stdout",
     "output_type": "stream",
     "text": [
      "val_loss: 0.9449632586142339, val_f1: 0.08632274904517241, val_precision: 0.04598171471665109, val_recall: 0.7036860355543434\n"
     ]
    },
    {
     "name": "stderr",
     "output_type": "stream",
     "text": [
      "100%|█████████████████████████████████████████████████████████████| 655/655 [00:09<00:00, 66.16it/s]\n"
     ]
    },
    {
     "name": "stdout",
     "output_type": "stream",
     "text": [
      "Epoch: 174, loss: 0.9485819436211622, f1: 0.08051293490753678, precision: 0.04269235713713099, recall: 0.7055506238045584\n"
     ]
    },
    {
     "name": "stderr",
     "output_type": "stream",
     "text": [
      "100%|████████████████████████████████████████████████████████████| 218/218 [00:01<00:00, 190.56it/s]\n"
     ]
    },
    {
     "name": "stdout",
     "output_type": "stream",
     "text": [
      "val_loss: 0.9423063200548154, val_f1: 0.09030261067316098, val_precision: 0.04821569713338816, val_recall: 0.7104188392468549\n"
     ]
    },
    {
     "name": "stderr",
     "output_type": "stream",
     "text": [
      "100%|█████████████████████████████████████████████████████████████| 655/655 [00:09<00:00, 66.26it/s]\n"
     ]
    },
    {
     "name": "stdout",
     "output_type": "stream",
     "text": [
      "Epoch: 175, loss: 0.94671077810171, f1: 0.0834185543857663, precision: 0.04431984943394613, recall: 0.7081010270892208\n"
     ]
    },
    {
     "name": "stderr",
     "output_type": "stream",
     "text": [
      "100%|████████████████████████████████████████████████████████████| 218/218 [00:01<00:00, 192.95it/s]\n"
     ]
    },
    {
     "name": "stdout",
     "output_type": "stream",
     "text": [
      "val_loss: 0.9435315460240076, val_f1: 0.0887920863911627, val_precision: 0.04736707721027298, val_recall: 0.7078043521134132\n"
     ]
    },
    {
     "name": "stderr",
     "output_type": "stream",
     "text": [
      "100%|█████████████████████████████████████████████████████████████| 655/655 [00:09<00:00, 66.52it/s]\n"
     ]
    },
    {
     "name": "stdout",
     "output_type": "stream",
     "text": [
      "Epoch: 176, loss: 0.9463297782053475, f1: 0.08420525040154953, precision: 0.04476972897714786, recall: 0.70673032529254\n"
     ]
    },
    {
     "name": "stderr",
     "output_type": "stream",
     "text": [
      "100%|████████████████████████████████████████████████████████████| 218/218 [00:01<00:00, 191.19it/s]\n"
     ]
    },
    {
     "name": "stdout",
     "output_type": "stream",
     "text": [
      "val_loss: 0.9413214402461271, val_f1: 0.09198580813208168, val_precision: 0.04908777857380876, val_recall: 0.7294930650963696\n"
     ]
    },
    {
     "name": "stderr",
     "output_type": "stream",
     "text": [
      "100%|█████████████████████████████████████████████████████████████| 655/655 [00:09<00:00, 65.93it/s]\n"
     ]
    },
    {
     "name": "stdout",
     "output_type": "stream",
     "text": [
      "Epoch: 177, loss: 0.9462581820160378, f1: 0.08439446836561688, precision: 0.04488076957063536, recall: 0.705727359686644\n"
     ]
    },
    {
     "name": "stderr",
     "output_type": "stream",
     "text": [
      "100%|████████████████████████████████████████████████████████████| 218/218 [00:01<00:00, 191.05it/s]\n"
     ]
    },
    {
     "name": "stdout",
     "output_type": "stream",
     "text": [
      "val_loss: 0.9435215699016501, val_f1: 0.08852102308925557, val_precision: 0.047245672554175, val_recall: 0.7005041365708233\n"
     ]
    },
    {
     "name": "stderr",
     "output_type": "stream",
     "text": [
      "100%|█████████████████████████████████████████████████████████████| 655/655 [00:09<00:00, 66.64it/s]\n"
     ]
    },
    {
     "name": "stdout",
     "output_type": "stream",
     "text": [
      "Epoch: 178, loss: 0.9467930095796366, f1: 0.08353262616548678, precision: 0.044366625395340434, recall: 0.7126183873028246\n"
     ]
    },
    {
     "name": "stderr",
     "output_type": "stream",
     "text": [
      "100%|████████████████████████████████████████████████████████████| 218/218 [00:01<00:00, 191.27it/s]\n"
     ]
    },
    {
     "name": "stdout",
     "output_type": "stream",
     "text": [
      "val_loss: 0.9425103046478481, val_f1: 0.09001588332999305, val_precision: 0.04816968986815816, val_recall: 0.6857024823922083\n"
     ]
    },
    {
     "name": "stderr",
     "output_type": "stream",
     "text": [
      "100%|█████████████████████████████████████████████████████████████| 655/655 [00:09<00:00, 66.01it/s]\n"
     ]
    },
    {
     "name": "stdout",
     "output_type": "stream",
     "text": [
      "Epoch: 179, loss: 0.9490809570742017, f1: 0.08055886215365671, precision: 0.0424922747672571, recall: 0.7734683928143887\n"
     ]
    },
    {
     "name": "stderr",
     "output_type": "stream",
     "text": [
      "100%|████████████████████████████████████████████████████████████| 218/218 [00:01<00:00, 192.03it/s]\n"
     ]
    },
    {
     "name": "stdout",
     "output_type": "stream",
     "text": [
      "val_loss: 0.9462404313984267, val_f1: 0.08450720097351386, val_precision: 0.044799905718910855, val_recall: 0.7434133560217302\n"
     ]
    },
    {
     "name": "stderr",
     "output_type": "stream",
     "text": [
      "100%|█████████████████████████████████████████████████████████████| 655/655 [00:09<00:00, 66.23it/s]\n"
     ]
    },
    {
     "name": "stdout",
     "output_type": "stream",
     "text": [
      "Epoch: 180, loss: 0.9454469193029039, f1: 0.08576698985881769, precision: 0.045629398716890916, recall: 0.7126062090842779\n"
     ]
    },
    {
     "name": "stderr",
     "output_type": "stream",
     "text": [
      "100%|████████████████████████████████████████████████████████████| 218/218 [00:01<00:00, 192.52it/s]\n"
     ]
    },
    {
     "name": "stdout",
     "output_type": "stream",
     "text": [
      "val_loss: 0.9415677200763597, val_f1: 0.09139494308683271, val_precision: 0.04901653250098365, val_recall: 0.6748690752466338\n"
     ]
    },
    {
     "name": "stderr",
     "output_type": "stream",
     "text": [
      "100%|█████████████████████████████████████████████████████████████| 655/655 [00:09<00:00, 66.16it/s]\n"
     ]
    },
    {
     "name": "stdout",
     "output_type": "stream",
     "text": [
      "Epoch: 181, loss: 0.9447990011622888, f1: 0.08676028539705556, precision: 0.04626105291242818, recall: 0.6965892470519961\n"
     ]
    },
    {
     "name": "stderr",
     "output_type": "stream",
     "text": [
      "100%|████████████████████████████████████████████████████████████| 218/218 [00:01<00:00, 196.81it/s]\n"
     ]
    },
    {
     "name": "stdout",
     "output_type": "stream",
     "text": [
      "val_loss: 0.9423331549955071, val_f1: 0.08999083103596435, val_precision: 0.04818287112861188, val_recall: 0.6801689410360034\n"
     ]
    },
    {
     "name": "stderr",
     "output_type": "stream",
     "text": [
      "100%|█████████████████████████████████████████████████████████████| 655/655 [00:09<00:00, 66.44it/s]\n"
     ]
    },
    {
     "name": "stdout",
     "output_type": "stream",
     "text": [
      "Epoch: 182, loss: 0.9439803820529967, f1: 0.08790184304851045, precision: 0.046990158512498756, recall: 0.6795326515122224\n"
     ]
    },
    {
     "name": "stderr",
     "output_type": "stream",
     "text": [
      "100%|████████████████████████████████████████████████████████████| 218/218 [00:01<00:00, 197.66it/s]\n"
     ]
    },
    {
     "name": "stdout",
     "output_type": "stream",
     "text": [
      "val_loss: 0.9411610148915457, val_f1: 0.09223565093368953, val_precision: 0.04956635418497539, val_recall: 0.6628602103014057\n"
     ]
    },
    {
     "name": "stderr",
     "output_type": "stream",
     "text": [
      "100%|█████████████████████████████████████████████████████████████| 655/655 [00:09<00:00, 65.94it/s]\n"
     ]
    },
    {
     "name": "stdout",
     "output_type": "stream",
     "text": [
      "Epoch: 183, loss: 0.9448501588734052, f1: 0.08642520305060121, precision: 0.04611532488226436, recall: 0.6865150113483421\n"
     ]
    },
    {
     "name": "stderr",
     "output_type": "stream",
     "text": [
      "100%|████████████████████████████████████████████████████████████| 218/218 [00:01<00:00, 196.50it/s]\n"
     ]
    },
    {
     "name": "stdout",
     "output_type": "stream",
     "text": [
      "val_loss: 0.9425001196358183, val_f1: 0.0903424854887104, val_precision: 0.048459579047764045, val_recall: 0.665679908161043\n"
     ]
    },
    {
     "name": "stderr",
     "output_type": "stream",
     "text": [
      "100%|█████████████████████████████████████████████████████████████| 655/655 [00:09<00:00, 70.68it/s]\n"
     ]
    },
    {
     "name": "stdout",
     "output_type": "stream",
     "text": [
      "Epoch: 184, loss: 0.9442078655912676, f1: 0.0876022559592527, precision: 0.04679164294480481, recall: 0.6853424125500308\n"
     ]
    },
    {
     "name": "stderr",
     "output_type": "stream",
     "text": [
      "100%|████████████████████████████████████████████████████████████| 218/218 [00:01<00:00, 195.14it/s]\n"
     ]
    },
    {
     "name": "stdout",
     "output_type": "stream",
     "text": [
      "val_loss: 0.9422669563818415, val_f1: 0.09015437031772888, val_precision: 0.048256123680920436, val_recall: 0.6842693581903746\n"
     ]
    },
    {
     "name": "stderr",
     "output_type": "stream",
     "text": [
      "100%|█████████████████████████████████████████████████████████████| 655/655 [00:09<00:00, 66.00it/s]\n"
     ]
    },
    {
     "name": "stdout",
     "output_type": "stream",
     "text": [
      "Epoch: 185, loss: 0.9440717859122589, f1: 0.087930612037243, precision: 0.04695924129337072, recall: 0.6895865222197453\n"
     ]
    },
    {
     "name": "stderr",
     "output_type": "stream",
     "text": [
      "100%|████████████████████████████████████████████████████████████| 218/218 [00:01<00:00, 195.66it/s]\n"
     ]
    },
    {
     "name": "stdout",
     "output_type": "stream",
     "text": [
      "val_loss: 0.9407392696503105, val_f1: 0.09274218722006645, val_precision: 0.049818574058942904, val_recall: 0.6700956815973335\n"
     ]
    },
    {
     "name": "stderr",
     "output_type": "stream",
     "text": [
      "100%|█████████████████████████████████████████████████████████████| 655/655 [00:09<00:00, 66.37it/s]\n"
     ]
    },
    {
     "name": "stdout",
     "output_type": "stream",
     "text": [
      "Epoch: 186, loss: 0.9438422812760331, f1: 0.08779095941471068, precision: 0.04699406790945195, recall: 0.6657313007548565\n"
     ]
    },
    {
     "name": "stderr",
     "output_type": "stream",
     "text": [
      "100%|████████████████████████████████████████████████████████████| 218/218 [00:01<00:00, 196.32it/s]\n"
     ]
    },
    {
     "name": "stdout",
     "output_type": "stream",
     "text": [
      "val_loss: 0.9417829874458663, val_f1: 0.09073790137894282, val_precision: 0.04873557411050937, val_recall: 0.6567654240227073\n"
     ]
    },
    {
     "name": "stderr",
     "output_type": "stream",
     "text": [
      "100%|█████████████████████████████████████████████████████████████| 655/655 [00:09<00:00, 65.66it/s]\n"
     ]
    },
    {
     "name": "stdout",
     "output_type": "stream",
     "text": [
      "Epoch: 187, loss: 0.9454640442178449, f1: 0.08582248372289472, precision: 0.04579439758152509, recall: 0.6815776396798724\n"
     ]
    },
    {
     "name": "stderr",
     "output_type": "stream",
     "text": [
      "100%|████████████████████████████████████████████████████████████| 218/218 [00:01<00:00, 196.01it/s]\n"
     ]
    },
    {
     "name": "stdout",
     "output_type": "stream",
     "text": [
      "val_loss: 0.9417700414810706, val_f1: 0.0907503979428669, val_precision: 0.04856314807873937, val_recall: 0.6912163377081583\n"
     ]
    },
    {
     "name": "stderr",
     "output_type": "stream",
     "text": [
      "100%|█████████████████████████████████████████████████████████████| 655/655 [00:09<00:00, 65.95it/s]\n"
     ]
    },
    {
     "name": "stdout",
     "output_type": "stream",
     "text": [
      "Epoch: 188, loss: 0.947523413177665, f1: 0.0826290303555823, precision: 0.04384759827321466, recall: 0.715153114258788\n"
     ]
    },
    {
     "name": "stderr",
     "output_type": "stream",
     "text": [
      "100%|████████████████████████████████████████████████████████████| 218/218 [00:01<00:00, 194.45it/s]\n"
     ]
    },
    {
     "name": "stdout",
     "output_type": "stream",
     "text": [
      "val_loss: 0.9450663787509324, val_f1: 0.0865695739214903, val_precision: 0.04592948677146448, val_recall: 0.7517102856291543\n"
     ]
    },
    {
     "name": "stderr",
     "output_type": "stream",
     "text": [
      "100%|█████████████████████████████████████████████████████████████| 655/655 [00:09<00:00, 66.02it/s]\n"
     ]
    },
    {
     "name": "stdout",
     "output_type": "stream",
     "text": [
      "Epoch: 189, loss: 0.9472203006271187, f1: 0.08299879576153682, precision: 0.04409401654905661, recall: 0.7052578320257537\n"
     ]
    },
    {
     "name": "stderr",
     "output_type": "stream",
     "text": [
      "100%|████████████████████████████████████████████████████████████| 218/218 [00:01<00:00, 197.21it/s]\n"
     ]
    },
    {
     "name": "stdout",
     "output_type": "stream",
     "text": [
      "val_loss: 0.9416159801526901, val_f1: 0.09123842427622812, val_precision: 0.04875780505217919, val_recall: 0.7086910322445248\n"
     ]
    },
    {
     "name": "stderr",
     "output_type": "stream",
     "text": [
      "100%|█████████████████████████████████████████████████████████████| 655/655 [00:09<00:00, 66.09it/s]\n"
     ]
    },
    {
     "name": "stdout",
     "output_type": "stream",
     "text": [
      "Epoch: 190, loss: 0.9473189526841841, f1: 0.08272321895116938, precision: 0.04391244676209389, recall: 0.7120365864561714\n"
     ]
    },
    {
     "name": "stderr",
     "output_type": "stream",
     "text": [
      "100%|████████████████████████████████████████████████████████████| 218/218 [00:01<00:00, 196.64it/s]\n"
     ]
    },
    {
     "name": "stdout",
     "output_type": "stream",
     "text": [
      "val_loss: 0.9487093842904503, val_f1: 0.08067926681907917, val_precision: 0.042752633411159584, val_recall: 0.7147225685622713\n"
     ]
    },
    {
     "name": "stderr",
     "output_type": "stream",
     "text": [
      "100%|█████████████████████████████████████████████████████████████| 655/655 [00:09<00:00, 66.26it/s]\n"
     ]
    },
    {
     "name": "stdout",
     "output_type": "stream",
     "text": [
      "Epoch: 191, loss: 0.9482698659860451, f1: 0.08137127965814771, precision: 0.043138337568273295, recall: 0.715583839409679\n"
     ]
    },
    {
     "name": "stderr",
     "output_type": "stream",
     "text": [
      "100%|████████████████████████████████████████████████████████████| 218/218 [00:01<00:00, 196.05it/s]\n"
     ]
    },
    {
     "name": "stdout",
     "output_type": "stream",
     "text": [
      "val_loss: 0.9432963225819649, val_f1: 0.08907226590090271, val_precision: 0.04760505740825565, val_recall: 0.6908430608177404\n"
     ]
    },
    {
     "name": "stderr",
     "output_type": "stream",
     "text": [
      "100%|█████████████████████████████████████████████████████████████| 655/655 [00:09<00:00, 66.32it/s]\n"
     ]
    },
    {
     "name": "stdout",
     "output_type": "stream",
     "text": [
      "Epoch: 192, loss: 0.9464098460801685, f1: 0.08464453420584357, precision: 0.044998251593259396, recall: 0.7116737895794497\n"
     ]
    },
    {
     "name": "stderr",
     "output_type": "stream",
     "text": [
      "100%|████████████████████████████████████████████████████████████| 218/218 [00:01<00:00, 196.98it/s]\n"
     ]
    },
    {
     "name": "stdout",
     "output_type": "stream",
     "text": [
      "val_loss: 0.9407871390154602, val_f1: 0.09289194517235766, val_precision: 0.04970393295094388, val_recall: 0.7085867379578429\n"
     ]
    },
    {
     "name": "stderr",
     "output_type": "stream",
     "text": [
      "100%|█████████████████████████████████████████████████████████████| 655/655 [00:09<00:00, 66.49it/s]\n"
     ]
    },
    {
     "name": "stdout",
     "output_type": "stream",
     "text": [
      "Epoch: 193, loss: 0.946692796426875, f1: 0.08362365548756838, precision: 0.04448270765488669, recall: 0.6963635101345659\n"
     ]
    },
    {
     "name": "stderr",
     "output_type": "stream",
     "text": [
      "100%|████████████████████████████████████████████████████████████| 218/218 [00:01<00:00, 195.99it/s]\n"
     ]
    },
    {
     "name": "stdout",
     "output_type": "stream",
     "text": [
      "val_loss: 0.9435564435403282, val_f1: 0.08857950401292931, val_precision: 0.047387673668542005, val_recall: 0.6774826944899668\n"
     ]
    },
    {
     "name": "stderr",
     "output_type": "stream",
     "text": [
      "100%|█████████████████████████████████████████████████████████████| 655/655 [00:09<00:00, 66.33it/s]\n"
     ]
    },
    {
     "name": "stdout",
     "output_type": "stream",
     "text": [
      "Epoch: 194, loss: 0.9473043794850357, f1: 0.08281888453042376, precision: 0.04388331528610855, recall: 0.7345500740727395\n"
     ]
    },
    {
     "name": "stderr",
     "output_type": "stream",
     "text": [
      "100%|████████████████████████████████████████████████████████████| 218/218 [00:01<00:00, 196.26it/s]\n"
     ]
    },
    {
     "name": "stdout",
     "output_type": "stream",
     "text": [
      "val_loss: 0.948152139099366, val_f1: 0.08201956758834951, val_precision: 0.04324508372880091, val_recall: 0.7933930952204477\n"
     ]
    },
    {
     "name": "stderr",
     "output_type": "stream",
     "text": [
      "100%|█████████████████████████████████████████████████████████████| 655/655 [00:09<00:00, 71.74it/s]\n"
     ]
    },
    {
     "name": "stdout",
     "output_type": "stream",
     "text": [
      "Epoch: 195, loss: 0.9492921315076697, f1: 0.08024152942832115, precision: 0.042309882949845765, recall: 0.7754285863792624\n"
     ]
    },
    {
     "name": "stderr",
     "output_type": "stream",
     "text": [
      "100%|████████████████████████████████████████████████████████████| 218/218 [00:01<00:00, 196.22it/s]\n"
     ]
    },
    {
     "name": "stdout",
     "output_type": "stream",
     "text": [
      "val_loss: 0.9456983137568202, val_f1: 0.0860194092575193, val_precision: 0.04561218757282755, val_recall: 0.7538057912927155\n"
     ]
    },
    {
     "name": "stderr",
     "output_type": "stream",
     "text": [
      "100%|█████████████████████████████████████████████████████████████| 655/655 [00:09<00:00, 65.94it/s]\n"
     ]
    },
    {
     "name": "stdout",
     "output_type": "stream",
     "text": [
      "Epoch: 196, loss: 0.9499058540540797, f1: 0.07916752168865154, precision: 0.041818567116225835, recall: 0.740706780894112\n"
     ]
    },
    {
     "name": "stderr",
     "output_type": "stream",
     "text": [
      "100%|████████████████████████████████████████████████████████████| 218/218 [00:01<00:00, 196.86it/s]\n"
     ]
    },
    {
     "name": "stdout",
     "output_type": "stream",
     "text": [
      "val_loss: 0.9498898515460688, val_f1: 0.07862362780477959, val_precision: 0.041563548413617965, val_recall: 0.7256354922001514\n"
     ]
    },
    {
     "name": "stderr",
     "output_type": "stream",
     "text": [
      "100%|█████████████████████████████████████████████████████████████| 655/655 [00:09<00:00, 66.82it/s]\n"
     ]
    },
    {
     "name": "stdout",
     "output_type": "stream",
     "text": [
      "Epoch: 197, loss: 0.9495604819013872, f1: 0.07944703074097462, precision: 0.04198427548336989, recall: 0.7377001226175832\n"
     ]
    },
    {
     "name": "stderr",
     "output_type": "stream",
     "text": [
      "100%|████████████████████████████████████████████████████████████| 218/218 [00:01<00:00, 196.25it/s]\n"
     ]
    },
    {
     "name": "stdout",
     "output_type": "stream",
     "text": [
      "val_loss: 0.9445588938686826, val_f1: 0.08758607326003084, val_precision: 0.04644061495398317, val_recall: 0.7681644517894185\n"
     ]
    },
    {
     "name": "stderr",
     "output_type": "stream",
     "text": [
      "100%|█████████████████████████████████████████████████████████████| 655/655 [00:09<00:00, 65.87it/s]\n"
     ]
    },
    {
     "name": "stdout",
     "output_type": "stream",
     "text": [
      "Epoch: 198, loss: 0.9475299101749449, f1: 0.0826754701247418, precision: 0.043805665265989155, recall: 0.7337431919028741\n"
     ]
    },
    {
     "name": "stderr",
     "output_type": "stream",
     "text": [
      "100%|████████████████████████████████████████████████████████████| 218/218 [00:01<00:00, 196.53it/s]\n"
     ]
    },
    {
     "name": "stdout",
     "output_type": "stream",
     "text": [
      "val_loss: 0.9414373786624418, val_f1: 0.09234685137733614, val_precision: 0.04925361185103928, val_recall: 0.7383345898001565\n"
     ]
    },
    {
     "name": "stderr",
     "output_type": "stream",
     "text": [
      "100%|█████████████████████████████████████████████████████████████| 655/655 [00:09<00:00, 66.24it/s]\n"
     ]
    },
    {
     "name": "stdout",
     "output_type": "stream",
     "text": [
      "Epoch: 199, loss: 0.9454736092618403, f1: 0.08680441413893097, precision: 0.04604894956342791, recall: 0.7551267449864905\n"
     ]
    },
    {
     "name": "stderr",
     "output_type": "stream",
     "text": [
      "100%|████████████████████████████████████████████████████████████| 218/218 [00:01<00:00, 196.84it/s]\n"
     ]
    },
    {
     "name": "stdout",
     "output_type": "stream",
     "text": [
      "val_loss: 0.9456484033427107, val_f1: 0.08592681712997026, val_precision: 0.045530946608077424, val_recall: 0.7618834185285852\n"
     ]
    },
    {
     "name": "stderr",
     "output_type": "stream",
     "text": [
      "100%|█████████████████████████████████████████████████████████████| 655/655 [00:09<00:00, 65.90it/s]\n"
     ]
    },
    {
     "name": "stdout",
     "output_type": "stream",
     "text": [
      "Epoch: 200, loss: 0.9460067082907407, f1: 0.08528226709710744, precision: 0.04519926345327741, recall: 0.7534206240459252\n"
     ]
    },
    {
     "name": "stderr",
     "output_type": "stream",
     "text": [
      "100%|████████████████████████████████████████████████████████████| 218/218 [00:01<00:00, 198.59it/s]\n"
     ]
    },
    {
     "name": "stdout",
     "output_type": "stream",
     "text": [
      "val_loss: 0.9421094286879268, val_f1: 0.09095072150513349, val_precision: 0.048595326109960195, val_recall: 0.7083059369560776\n"
     ]
    },
    {
     "name": "stderr",
     "output_type": "stream",
     "text": [
      "100%|█████████████████████████████████████████████████████████████| 655/655 [00:09<00:00, 66.74it/s]\n"
     ]
    },
    {
     "name": "stdout",
     "output_type": "stream",
     "text": [
      "Epoch: 201, loss: 0.9431871708112819, f1: 0.08938530874311079, precision: 0.04760189162894287, recall: 0.7312758299799366\n"
     ]
    },
    {
     "name": "stderr",
     "output_type": "stream",
     "text": [
      "100%|████████████████████████████████████████████████████████████| 218/218 [00:01<00:00, 195.69it/s]\n"
     ]
    },
    {
     "name": "stdout",
     "output_type": "stream",
     "text": [
      "val_loss: 0.9424821504759132, val_f1: 0.09113237480918238, val_precision: 0.048516484735738656, val_recall: 0.7493181152764811\n"
     ]
    },
    {
     "name": "stderr",
     "output_type": "stream",
     "text": [
      "100%|█████████████████████████████████████████████████████████████| 655/655 [00:09<00:00, 66.04it/s]\n"
     ]
    },
    {
     "name": "stdout",
     "output_type": "stream",
     "text": [
      "Epoch: 202, loss: 0.9452167230707998, f1: 0.08707533396588991, precision: 0.046129900698891294, recall: 0.774771287878051\n"
     ]
    },
    {
     "name": "stderr",
     "output_type": "stream",
     "text": [
      "100%|████████████████████████████████████████████████████████████| 218/218 [00:01<00:00, 197.58it/s]\n"
     ]
    },
    {
     "name": "stdout",
     "output_type": "stream",
     "text": [
      "val_loss: 0.9429261063763855, val_f1: 0.09007135325510396, val_precision: 0.04800974469794251, val_recall: 0.7270012945278522\n"
     ]
    },
    {
     "name": "stderr",
     "output_type": "stream",
     "text": [
      "100%|█████████████████████████████████████████████████████████████| 655/655 [00:09<00:00, 66.33it/s]\n"
     ]
    },
    {
     "name": "stdout",
     "output_type": "stream",
     "text": [
      "Epoch: 203, loss: 0.9436790863066229, f1: 0.08933651766770223, precision: 0.047531010413485515, recall: 0.7416387404649313\n"
     ]
    },
    {
     "name": "stderr",
     "output_type": "stream",
     "text": [
      "100%|████████████████████████████████████████████████████████████| 218/218 [00:01<00:00, 195.92it/s]\n"
     ]
    },
    {
     "name": "stdout",
     "output_type": "stream",
     "text": [
      "val_loss: 0.9471647465994598, val_f1: 0.08434702630726887, val_precision: 0.04445565804527269, val_recall: 0.8215303446311469\n"
     ]
    },
    {
     "name": "stderr",
     "output_type": "stream",
     "text": [
      "100%|█████████████████████████████████████████████████████████████| 655/655 [00:09<00:00, 66.32it/s]\n"
     ]
    },
    {
     "name": "stdout",
     "output_type": "stream",
     "text": [
      "Epoch: 204, loss: 0.9460766698567922, f1: 0.085367631421236, precision: 0.04516611833317305, recall: 0.7766427242915139\n"
     ]
    },
    {
     "name": "stderr",
     "output_type": "stream",
     "text": [
      "100%|████████████████████████████████████████████████████████████| 218/218 [00:01<00:00, 198.06it/s]\n"
     ]
    },
    {
     "name": "stdout",
     "output_type": "stream",
     "text": [
      "val_loss: 0.9432429895488494, val_f1: 0.08953810979669104, val_precision: 0.04758223397347546, val_recall: 0.7572257535173259\n"
     ]
    },
    {
     "name": "stderr",
     "output_type": "stream",
     "text": [
      "100%|█████████████████████████████████████████████████████████████| 655/655 [00:09<00:00, 66.22it/s]\n"
     ]
    },
    {
     "name": "stdout",
     "output_type": "stream",
     "text": [
      "Epoch: 205, loss: 0.943967763704198, f1: 0.08826562440864787, precision: 0.04696364456837471, recall: 0.7321654692405962\n"
     ]
    },
    {
     "name": "stderr",
     "output_type": "stream",
     "text": [
      "100%|████████████████████████████████████████████████████████████| 218/218 [00:01<00:00, 196.93it/s]\n"
     ]
    },
    {
     "name": "stdout",
     "output_type": "stream",
     "text": [
      "val_loss: 0.9429230247068843, val_f1: 0.08996468800202904, val_precision: 0.04807658359961618, val_recall: 0.6989107833953079\n"
     ]
    },
    {
     "name": "stderr",
     "output_type": "stream",
     "text": [
      "100%|█████████████████████████████████████████████████████████████| 655/655 [00:09<00:00, 67.15it/s]\n"
     ]
    },
    {
     "name": "stdout",
     "output_type": "stream",
     "text": [
      "Epoch: 206, loss: 0.9433595017622446, f1: 0.08944930335100194, precision: 0.047610348837364834, recall: 0.737900115105942\n"
     ]
    },
    {
     "name": "stderr",
     "output_type": "stream",
     "text": [
      "100%|████████████████████████████████████████████████████████████| 218/218 [00:01<00:00, 189.87it/s]\n"
     ]
    },
    {
     "name": "stdout",
     "output_type": "stream",
     "text": [
      "val_loss: 0.9410054404801185, val_f1: 0.09294194997664396, val_precision: 0.049617052729211644, val_recall: 0.7328975970318558\n"
     ]
    },
    {
     "name": "stderr",
     "output_type": "stream",
     "text": [
      "100%|█████████████████████████████████████████████████████████████| 655/655 [00:09<00:00, 66.92it/s]\n"
     ]
    },
    {
     "name": "stdout",
     "output_type": "stream",
     "text": [
      "Epoch: 207, loss: 0.9426622355257281, f1: 0.09058999387127083, precision: 0.048393210140945574, recall: 0.7074949849425382\n"
     ]
    },
    {
     "name": "stderr",
     "output_type": "stream",
     "text": [
      "100%|████████████████████████████████████████████████████████████| 218/218 [00:01<00:00, 196.30it/s]\n"
     ]
    },
    {
     "name": "stdout",
     "output_type": "stream",
     "text": [
      "val_loss: 0.9417782007554255, val_f1: 0.09176955282805484, val_precision: 0.04904631416552589, val_recall: 0.7118305509243537\n"
     ]
    },
    {
     "name": "stderr",
     "output_type": "stream",
     "text": [
      "100%|█████████████████████████████████████████████████████████████| 655/655 [00:09<00:00, 66.22it/s]\n"
     ]
    },
    {
     "name": "stdout",
     "output_type": "stream",
     "text": [
      "Epoch: 208, loss: 0.9422629936050823, f1: 0.09100206807061419, precision: 0.048696703900305824, recall: 0.693360226550175\n"
     ]
    },
    {
     "name": "stderr",
     "output_type": "stream",
     "text": [
      "100%|████████████████████████████████████████████████████████████| 218/218 [00:01<00:00, 198.43it/s]\n"
     ]
    },
    {
     "name": "stdout",
     "output_type": "stream",
     "text": [
      "val_loss: 0.9407298296963403, val_f1: 0.092913493995524, val_precision: 0.049879631627812435, val_recall: 0.6769861322614031\n"
     ]
    },
    {
     "name": "stderr",
     "output_type": "stream",
     "text": [
      "100%|█████████████████████████████████████████████████████████████| 655/655 [00:09<00:00, 65.83it/s]\n"
     ]
    },
    {
     "name": "stdout",
     "output_type": "stream",
     "text": [
      "Epoch: 209, loss: 0.9406538700329439, f1: 0.09323924703896368, precision: 0.05001866195869867, recall: 0.6860326033853392\n"
     ]
    },
    {
     "name": "stderr",
     "output_type": "stream",
     "text": [
      "100%|████████████████████████████████████████████████████████████| 218/218 [00:01<00:00, 198.38it/s]\n"
     ]
    },
    {
     "name": "stdout",
     "output_type": "stream",
     "text": [
      "val_loss: 0.9402935991593457, val_f1: 0.09375642153032906, val_precision: 0.05038686187771243, val_recall: 0.6732062707663676\n"
     ]
    },
    {
     "name": "stderr",
     "output_type": "stream",
     "text": [
      "100%|█████████████████████████████████████████████████████████████| 655/655 [00:09<00:00, 66.14it/s]\n"
     ]
    },
    {
     "name": "stdout",
     "output_type": "stream",
     "text": [
      "Epoch: 210, loss: 0.9414391343830196, f1: 0.09199219451503014, precision: 0.04929624602824222, recall: 0.6870705184135728\n"
     ]
    },
    {
     "name": "stderr",
     "output_type": "stream",
     "text": [
      "100%|████████████████████████████████████████████████████████████| 218/218 [00:01<00:00, 199.20it/s]\n"
     ]
    },
    {
     "name": "stdout",
     "output_type": "stream",
     "text": [
      "val_loss: 0.9409465931971138, val_f1: 0.09316373169162871, val_precision: 0.049685341371714625, val_recall: 0.7457561327503361\n"
     ]
    },
    {
     "name": "stderr",
     "output_type": "stream",
     "text": [
      "100%|█████████████████████████████████████████████████████████████| 655/655 [00:09<00:00, 66.14it/s]\n"
     ]
    },
    {
     "name": "stdout",
     "output_type": "stream",
     "text": [
      "Epoch: 211, loss: 0.9420464467456322, f1: 0.09129002907651232, precision: 0.04886550906164046, recall: 0.6925852086821586\n"
     ]
    },
    {
     "name": "stderr",
     "output_type": "stream",
     "text": [
      "100%|████████████████████████████████████████████████████████████| 218/218 [00:01<00:00, 198.49it/s]\n"
     ]
    },
    {
     "name": "stdout",
     "output_type": "stream",
     "text": [
      "val_loss: 0.9387512997202917, val_f1: 0.09603231204673138, val_precision: 0.05149497492548608, val_recall: 0.7107558110985187\n"
     ]
    },
    {
     "name": "stderr",
     "output_type": "stream",
     "text": [
      "100%|█████████████████████████████████████████████████████████████| 655/655 [00:09<00:00, 66.21it/s]\n"
     ]
    },
    {
     "name": "stdout",
     "output_type": "stream",
     "text": [
      "Epoch: 212, loss: 0.9434784301364695, f1: 0.08949071656819028, precision: 0.047729064884261437, recall: 0.7157721569178669\n"
     ]
    },
    {
     "name": "stderr",
     "output_type": "stream",
     "text": [
      "100%|████████████████████████████████████████████████████████████| 218/218 [00:01<00:00, 197.33it/s]\n"
     ]
    },
    {
     "name": "stdout",
     "output_type": "stream",
     "text": [
      "val_loss: 0.9425476480514632, val_f1: 0.0899586192275097, val_precision: 0.04793052302797351, val_recall: 0.7305069246560062\n"
     ]
    },
    {
     "name": "stderr",
     "output_type": "stream",
     "text": [
      "100%|█████████████████████████████████████████████████████████████| 655/655 [00:09<00:00, 66.44it/s]\n"
     ]
    },
    {
     "name": "stdout",
     "output_type": "stream",
     "text": [
      "Epoch: 213, loss: 0.9429666530994969, f1: 0.0897092642484681, precision: 0.047866822407538256, recall: 0.7127865467021484\n"
     ]
    },
    {
     "name": "stderr",
     "output_type": "stream",
     "text": [
      "100%|████████████████████████████████████████████████████████████| 218/218 [00:01<00:00, 195.81it/s]\n"
     ]
    },
    {
     "name": "stdout",
     "output_type": "stream",
     "text": [
      "val_loss: 0.9401350666623597, val_f1: 0.09399085083671103, val_precision: 0.05033924068653221, val_recall: 0.7074894518890512\n"
     ]
    },
    {
     "name": "stderr",
     "output_type": "stream",
     "text": [
      "100%|█████████████████████████████████████████████████████████████| 655/655 [00:09<00:00, 66.33it/s]\n"
     ]
    },
    {
     "name": "stdout",
     "output_type": "stream",
     "text": [
      "Epoch: 214, loss: 0.9427996680026746, f1: 0.0899619222576026, precision: 0.04809101093213877, recall: 0.6955450974006689\n"
     ]
    },
    {
     "name": "stderr",
     "output_type": "stream",
     "text": [
      "100%|████████████████████████████████████████████████████████████| 218/218 [00:01<00:00, 196.38it/s]\n"
     ]
    },
    {
     "name": "stdout",
     "output_type": "stream",
     "text": [
      "val_loss: 0.9388868565406274, val_f1: 0.09567528678903417, val_precision: 0.05144481677369753, val_recall: 0.682251319972747\n"
     ]
    },
    {
     "name": "stderr",
     "output_type": "stream",
     "text": [
      "100%|█████████████████████████████████████████████████████████████| 655/655 [00:09<00:00, 66.42it/s]\n"
     ]
    },
    {
     "name": "stdout",
     "output_type": "stream",
     "text": [
      "Epoch: 215, loss: 0.9446889843649536, f1: 0.08752421325937516, precision: 0.046659877049587385, recall: 0.7046571049071451\n"
     ]
    },
    {
     "name": "stderr",
     "output_type": "stream",
     "text": [
      "100%|████████████████████████████████████████████████████████████| 218/218 [00:01<00:00, 198.79it/s]\n"
     ]
    },
    {
     "name": "stdout",
     "output_type": "stream",
     "text": [
      "val_loss: 0.9407160183705321, val_f1: 0.09321183380280149, val_precision: 0.04989350187365786, val_recall: 0.7073071637284865\n"
     ]
    },
    {
     "name": "stderr",
     "output_type": "stream",
     "text": [
      "100%|█████████████████████████████████████████████████████████████| 655/655 [00:09<00:00, 66.52it/s]\n"
     ]
    },
    {
     "name": "stdout",
     "output_type": "stream",
     "text": [
      "Epoch: 216, loss: 0.9442916890137069, f1: 0.0877840778275329, precision: 0.04684148348640395, recall: 0.6970696228833599\n"
     ]
    },
    {
     "name": "stderr",
     "output_type": "stream",
     "text": [
      "100%|████████████████████████████████████████████████████████████| 218/218 [00:01<00:00, 196.27it/s]\n"
     ]
    },
    {
     "name": "stdout",
     "output_type": "stream",
     "text": [
      "val_loss: 0.9409866625562721, val_f1: 0.0927029275743852, val_precision: 0.049616307371569406, val_recall: 0.7044100015671975\n"
     ]
    },
    {
     "name": "stderr",
     "output_type": "stream",
     "text": [
      "100%|█████████████████████████████████████████████████████████████| 655/655 [00:09<00:00, 66.60it/s]\n"
     ]
    },
    {
     "name": "stdout",
     "output_type": "stream",
     "text": [
      "Epoch: 217, loss: 0.9431670460082192, f1: 0.0890850758840415, precision: 0.04758397997037031, recall: 0.6968770778816165\n"
     ]
    },
    {
     "name": "stderr",
     "output_type": "stream",
     "text": [
      "100%|████████████████████████████████████████████████████████████| 218/218 [00:01<00:00, 196.47it/s]\n"
     ]
    },
    {
     "name": "stdout",
     "output_type": "stream",
     "text": [
      "val_loss: 0.94125540650219, val_f1: 0.09224077685231782, val_precision: 0.049508990986922054, val_recall: 0.6738393936613831\n"
     ]
    },
    {
     "name": "stderr",
     "output_type": "stream",
     "text": [
      "100%|█████████████████████████████████████████████████████████████| 655/655 [00:09<00:00, 70.07it/s]\n"
     ]
    },
    {
     "name": "stdout",
     "output_type": "stream",
     "text": [
      "Epoch: 218, loss: 0.9419519438088395, f1: 0.09142049719676568, precision: 0.048944091736801136, recall: 0.6918228574950277\n"
     ]
    },
    {
     "name": "stderr",
     "output_type": "stream",
     "text": [
      "100%|████████████████████████████████████████████████████████████| 218/218 [00:01<00:00, 198.11it/s]\n"
     ]
    },
    {
     "name": "stdout",
     "output_type": "stream",
     "text": [
      "val_loss: 0.9384482232255673, val_f1: 0.09632540165408611, val_precision: 0.051930938373157466, val_recall: 0.6637411304159996\n"
     ]
    },
    {
     "name": "stderr",
     "output_type": "stream",
     "text": [
      "100%|█████████████████████████████████████████████████████████████| 655/655 [00:09<00:00, 66.19it/s]\n"
     ]
    },
    {
     "name": "stdout",
     "output_type": "stream",
     "text": [
      "Epoch: 219, loss: 0.9427442852777379, f1: 0.09034723752009177, precision: 0.04831192069935776, recall: 0.695415651343251\n"
     ]
    },
    {
     "name": "stderr",
     "output_type": "stream",
     "text": [
      "100%|████████████████████████████████████████████████████████████| 218/218 [00:01<00:00, 195.61it/s]\n"
     ]
    },
    {
     "name": "stdout",
     "output_type": "stream",
     "text": [
      "val_loss: 0.9395098503029674, val_f1: 0.094966296467885, val_precision: 0.05100037899496324, val_recall: 0.6885128444351187\n"
     ]
    },
    {
     "name": "stderr",
     "output_type": "stream",
     "text": [
      "100%|█████████████████████████████████████████████████████████████| 655/655 [00:09<00:00, 65.65it/s]\n"
     ]
    },
    {
     "name": "stdout",
     "output_type": "stream",
     "text": [
      "Epoch: 220, loss: 0.9405476775788169, f1: 0.09331119219965771, precision: 0.05003552781169139, recall: 0.6906758997617787\n"
     ]
    },
    {
     "name": "stderr",
     "output_type": "stream",
     "text": [
      "100%|████████████████████████████████████████████████████████████| 218/218 [00:01<00:00, 194.58it/s]\n"
     ]
    },
    {
     "name": "stdout",
     "output_type": "stream",
     "text": [
      "val_loss: 0.9402691787535992, val_f1: 0.09336463560754925, val_precision: 0.05012438905216036, val_recall: 0.6798007625642173\n"
     ]
    },
    {
     "name": "stderr",
     "output_type": "stream",
     "text": [
      "100%|█████████████████████████████████████████████████████████████| 655/655 [00:09<00:00, 66.50it/s]\n"
     ]
    },
    {
     "name": "stdout",
     "output_type": "stream",
     "text": [
      "Epoch: 221, loss: 0.9402904879955845, f1: 0.09405369566252422, precision: 0.050429349802861005, recall: 0.6969969096870823\n"
     ]
    },
    {
     "name": "stderr",
     "output_type": "stream",
     "text": [
      "100%|████████████████████████████████████████████████████████████| 218/218 [00:01<00:00, 196.08it/s]\n"
     ]
    },
    {
     "name": "stdout",
     "output_type": "stream",
     "text": [
      "val_loss: 0.9383130081749838, val_f1: 0.09678555555867915, val_precision: 0.05207580952732097, val_recall: 0.6842441908126577\n"
     ]
    },
    {
     "name": "stderr",
     "output_type": "stream",
     "text": [
      "100%|█████████████████████████████████████████████████████████████| 655/655 [00:09<00:00, 66.03it/s]\n"
     ]
    },
    {
     "name": "stdout",
     "output_type": "stream",
     "text": [
      "Epoch: 222, loss: 0.9400129964333455, f1: 0.09459439722018904, precision: 0.05081290808285921, recall: 0.6835912421573209\n"
     ]
    },
    {
     "name": "stderr",
     "output_type": "stream",
     "text": [
      "100%|████████████████████████████████████████████████████████████| 218/218 [00:01<00:00, 198.48it/s]\n"
     ]
    },
    {
     "name": "stdout",
     "output_type": "stream",
     "text": [
      "val_loss: 0.939692788167831, val_f1: 0.09476647583963604, val_precision: 0.05082188054722725, val_recall: 0.7003069287593212\n"
     ]
    },
    {
     "name": "stderr",
     "output_type": "stream",
     "text": [
      "100%|█████████████████████████████████████████████████████████████| 655/655 [00:09<00:00, 65.63it/s]\n"
     ]
    },
    {
     "name": "stdout",
     "output_type": "stream",
     "text": [
      "Epoch: 223, loss: 0.9407449887909052, f1: 0.09339895999950594, precision: 0.04997503841082558, recall: 0.712491738466361\n"
     ]
    },
    {
     "name": "stderr",
     "output_type": "stream",
     "text": [
      "100%|████████████████████████████████████████████████████████████| 218/218 [00:01<00:00, 195.27it/s]\n"
     ]
    },
    {
     "name": "stdout",
     "output_type": "stream",
     "text": [
      "val_loss: 0.9387119193689539, val_f1: 0.0962971148344946, val_precision: 0.05158034419115428, val_recall: 0.7236810814623439\n"
     ]
    },
    {
     "name": "stderr",
     "output_type": "stream",
     "text": [
      "100%|█████████████████████████████████████████████████████████████| 655/655 [00:09<00:00, 66.05it/s]\n"
     ]
    },
    {
     "name": "stdout",
     "output_type": "stream",
     "text": [
      "Epoch: 224, loss: 0.9405975112478242, f1: 0.09352111793071825, precision: 0.05000035708222737, recall: 0.7216636843694986\n"
     ]
    },
    {
     "name": "stderr",
     "output_type": "stream",
     "text": [
      "100%|████████████████████████████████████████████████████████████| 218/218 [00:01<00:00, 196.73it/s]\n"
     ]
    },
    {
     "name": "stdout",
     "output_type": "stream",
     "text": [
      "val_loss: 0.9393079639027971, val_f1: 0.09583064659460136, val_precision: 0.051171108752963296, val_recall: 0.7530840876247358\n"
     ]
    },
    {
     "name": "stderr",
     "output_type": "stream",
     "text": [
      "100%|█████████████████████████████████████████████████████████████| 655/655 [00:09<00:00, 66.39it/s]\n"
     ]
    },
    {
     "name": "stdout",
     "output_type": "stream",
     "text": [
      "Epoch: 225, loss: 0.9407809721604559, f1: 0.09348483363695927, precision: 0.050025066668665366, recall: 0.7123185914777618\n"
     ]
    },
    {
     "name": "stderr",
     "output_type": "stream",
     "text": [
      "100%|████████████████████████████████████████████████████████████| 218/218 [00:01<00:00, 195.16it/s]\n"
     ]
    },
    {
     "name": "stdout",
     "output_type": "stream",
     "text": [
      "val_loss: 0.9377385314998277, val_f1: 0.09784031581502746, val_precision: 0.052562986646881416, val_recall: 0.7058771605338525\n"
     ]
    },
    {
     "name": "stderr",
     "output_type": "stream",
     "text": [
      "100%|█████████████████████████████████████████████████████████████| 655/655 [00:09<00:00, 65.64it/s]\n"
     ]
    },
    {
     "name": "stdout",
     "output_type": "stream",
     "text": [
      "Epoch: 226, loss: 0.9402932374531986, f1: 0.09395233551023122, precision: 0.05039294708043849, recall: 0.692835945880595\n"
     ]
    },
    {
     "name": "stderr",
     "output_type": "stream",
     "text": [
      "100%|████████████████████████████████████████████████████████████| 218/218 [00:01<00:00, 196.92it/s]\n"
     ]
    },
    {
     "name": "stdout",
     "output_type": "stream",
     "text": [
      "val_loss: 0.9396328053890018, val_f1: 0.09472863816249427, val_precision: 0.0507821549187252, val_recall: 0.7037383606401059\n"
     ]
    },
    {
     "name": "stderr",
     "output_type": "stream",
     "text": [
      "100%|█████████████████████████████████████████████████████████████| 655/655 [00:09<00:00, 65.71it/s]\n"
     ]
    },
    {
     "name": "stdout",
     "output_type": "stream",
     "text": [
      "Epoch: 227, loss: 0.9386424013676534, f1: 0.09689783948545765, precision: 0.052038324144064584, recall: 0.7024008186605141\n"
     ]
    },
    {
     "name": "stderr",
     "output_type": "stream",
     "text": [
      "100%|████████████████████████████████████████████████████████████| 218/218 [00:01<00:00, 198.52it/s]\n"
     ]
    },
    {
     "name": "stdout",
     "output_type": "stream",
     "text": [
      "val_loss: 0.9408028281609947, val_f1: 0.09276100113883065, val_precision: 0.049732179684273965, val_recall: 0.6881933828149367\n"
     ]
    },
    {
     "name": "stderr",
     "output_type": "stream",
     "text": [
      "100%|█████████████████████████████████████████████████████████████| 655/655 [00:09<00:00, 65.94it/s]\n"
     ]
    },
    {
     "name": "stdout",
     "output_type": "stream",
     "text": [
      "Epoch: 228, loss: 0.9417221381464077, f1: 0.09158396866174445, precision: 0.0489814504330537, recall: 0.7032392691678673\n"
     ]
    },
    {
     "name": "stderr",
     "output_type": "stream",
     "text": [
      "100%|████████████████████████████████████████████████████████████| 218/218 [00:01<00:00, 196.33it/s]\n"
     ]
    },
    {
     "name": "stdout",
     "output_type": "stream",
     "text": [
      "val_loss: 0.944022701694331, val_f1: 0.08716014342678191, val_precision: 0.04658334458528787, val_recall: 0.6759643842799401\n"
     ]
    },
    {
     "name": "stderr",
     "output_type": "stream",
     "text": [
      "100%|█████████████████████████████████████████████████████████████| 655/655 [00:09<00:00, 70.52it/s]\n"
     ]
    },
    {
     "name": "stdout",
     "output_type": "stream",
     "text": [
      "Epoch: 229, loss: 0.9399294768580954, f1: 0.09460653242876861, precision: 0.05082286108633546, recall: 0.6830579697972036\n"
     ]
    },
    {
     "name": "stderr",
     "output_type": "stream",
     "text": [
      "100%|████████████████████████████████████████████████████████████| 218/218 [00:01<00:00, 196.30it/s]\n"
     ]
    },
    {
     "name": "stdout",
     "output_type": "stream",
     "text": [
      "val_loss: 0.9394767719124435, val_f1: 0.09503946922823715, val_precision: 0.051141762579449475, val_recall: 0.6709619607400457\n"
     ]
    },
    {
     "name": "stderr",
     "output_type": "stream",
     "text": [
      "100%|█████████████████████████████████████████████████████████████| 655/655 [00:09<00:00, 66.08it/s]\n"
     ]
    },
    {
     "name": "stdout",
     "output_type": "stream",
     "text": [
      "Epoch: 230, loss: 0.9390705327951271, f1: 0.09595315545005276, precision: 0.051496060937998515, recall: 0.7019794159035646\n"
     ]
    },
    {
     "name": "stderr",
     "output_type": "stream",
     "text": [
      "100%|████████████████████████████████████████████████████████████| 218/218 [00:01<00:00, 197.35it/s]\n"
     ]
    },
    {
     "name": "stdout",
     "output_type": "stream",
     "text": [
      "val_loss: 0.9404044260672473, val_f1: 0.09384344214151874, val_precision: 0.05031313740812806, val_recall: 0.6961041537856837\n"
     ]
    },
    {
     "name": "stderr",
     "output_type": "stream",
     "text": [
      "100%|█████████████████████████████████████████████████████████████| 655/655 [00:09<00:00, 65.61it/s]\n"
     ]
    },
    {
     "name": "stdout",
     "output_type": "stream",
     "text": [
      "Epoch: 231, loss: 0.9389830016907845, f1: 0.09628825494595175, precision: 0.05168621180230709, recall: 0.7025207020057976\n"
     ]
    },
    {
     "name": "stderr",
     "output_type": "stream",
     "text": [
      "100%|████████████████████████████████████████████████████████████| 218/218 [00:01<00:00, 196.36it/s]\n"
     ]
    },
    {
     "name": "stdout",
     "output_type": "stream",
     "text": [
      "val_loss: 0.9361109539456324, val_f1: 0.10060059393033687, val_precision: 0.05424335531606296, val_recall: 0.6919646218692491\n"
     ]
    },
    {
     "name": "stderr",
     "output_type": "stream",
     "text": [
      "100%|█████████████████████████████████████████████████████████████| 655/655 [00:09<00:00, 65.93it/s]\n"
     ]
    },
    {
     "name": "stdout",
     "output_type": "stream",
     "text": [
      "Epoch: 232, loss: 0.9401055541657309, f1: 0.09445246248091237, precision: 0.05057181157953753, recall: 0.7138719820908008\n"
     ]
    },
    {
     "name": "stderr",
     "output_type": "stream",
     "text": [
      "100%|████████████████████████████████████████████████████████████| 218/218 [00:01<00:00, 198.78it/s]\n"
     ]
    },
    {
     "name": "stdout",
     "output_type": "stream",
     "text": [
      "val_loss: 0.9402118686142318, val_f1: 0.094439029633622, val_precision: 0.0503739970821648, val_recall: 0.7540494767487596\n"
     ]
    },
    {
     "name": "stderr",
     "output_type": "stream",
     "text": [
      "100%|█████████████████████████████████████████████████████████████| 655/655 [00:09<00:00, 66.13it/s]\n"
     ]
    },
    {
     "name": "stdout",
     "output_type": "stream",
     "text": [
      "Epoch: 233, loss: 0.9423824102823971, f1: 0.0909082082446356, precision: 0.048482177121465214, recall: 0.7277611628174782\n"
     ]
    },
    {
     "name": "stderr",
     "output_type": "stream",
     "text": [
      "100%|████████████████████████████████████████████████████████████| 218/218 [00:01<00:00, 195.02it/s]\n"
     ]
    },
    {
     "name": "stdout",
     "output_type": "stream",
     "text": [
      "val_loss: 0.9406864003303947, val_f1: 0.09304716921527548, val_precision: 0.049944832257781215, val_recall: 0.6791711290358403\n"
     ]
    },
    {
     "name": "stderr",
     "output_type": "stream",
     "text": [
      "100%|█████████████████████████████████████████████████████████████| 655/655 [00:09<00:00, 66.24it/s]\n"
     ]
    },
    {
     "name": "stdout",
     "output_type": "stream",
     "text": [
      "Epoch: 234, loss: 0.9413197254406587, f1: 0.09202391376108439, precision: 0.0493222801025445, recall: 0.6855568091491706\n"
     ]
    },
    {
     "name": "stderr",
     "output_type": "stream",
     "text": [
      "100%|████████████████████████████████████████████████████████████| 218/218 [00:01<00:00, 196.47it/s]\n"
     ]
    },
    {
     "name": "stdout",
     "output_type": "stream",
     "text": [
      "val_loss: 0.9402016330202785, val_f1: 0.09372836413148428, val_precision: 0.05027372502495424, val_recall: 0.6910125582453308\n"
     ]
    },
    {
     "name": "stderr",
     "output_type": "stream",
     "text": [
      "100%|█████████████████████████████████████████████████████████████| 655/655 [00:09<00:00, 66.63it/s]\n"
     ]
    },
    {
     "name": "stdout",
     "output_type": "stream",
     "text": [
      "Epoch: 235, loss: 0.9424511483607402, f1: 0.09026118816094508, precision: 0.04824719711772045, recall: 0.6986531947177785\n"
     ]
    },
    {
     "name": "stderr",
     "output_type": "stream",
     "text": [
      "100%|████████████████████████████████████████████████████████████| 218/218 [00:01<00:00, 196.16it/s]\n"
     ]
    },
    {
     "name": "stdout",
     "output_type": "stream",
     "text": [
      "val_loss: 0.9395218177126088, val_f1: 0.09527088679788608, val_precision: 0.05105196053499715, val_recall: 0.711801720766026\n"
     ]
    },
    {
     "name": "stderr",
     "output_type": "stream",
     "text": [
      "100%|█████████████████████████████████████████████████████████████| 655/655 [00:09<00:00, 66.53it/s]\n"
     ]
    },
    {
     "name": "stdout",
     "output_type": "stream",
     "text": [
      "Epoch: 236, loss: 0.9418112360794125, f1: 0.09200876620623631, precision: 0.0492137297156146, recall: 0.7054542712696636\n"
     ]
    },
    {
     "name": "stderr",
     "output_type": "stream",
     "text": [
      "100%|████████████████████████████████████████████████████████████| 218/218 [00:01<00:00, 195.35it/s]\n"
     ]
    },
    {
     "name": "stdout",
     "output_type": "stream",
     "text": [
      "val_loss: 0.9385836884516094, val_f1: 0.09664103631361594, val_precision: 0.05189781228866462, val_recall: 0.7010128573608507\n"
     ]
    },
    {
     "name": "stderr",
     "output_type": "stream",
     "text": [
      "100%|█████████████████████████████████████████████████████████████| 655/655 [00:09<00:00, 65.97it/s]\n"
     ]
    },
    {
     "name": "stdout",
     "output_type": "stream",
     "text": [
      "Epoch: 237, loss: 0.9420602041346426, f1: 0.09142630456506932, precision: 0.048887416556697934, recall: 0.7040365025514864\n"
     ]
    },
    {
     "name": "stderr",
     "output_type": "stream",
     "text": [
      "100%|████████████████████████████████████████████████████████████| 218/218 [00:01<00:00, 194.55it/s]\n"
     ]
    },
    {
     "name": "stdout",
     "output_type": "stream",
     "text": [
      "val_loss: 0.9373919559181283, val_f1: 0.09820269309102331, val_precision: 0.05284882631951755, val_recall: 0.6924516454065611\n"
     ]
    },
    {
     "name": "stderr",
     "output_type": "stream",
     "text": [
      "100%|█████████████████████████████████████████████████████████████| 655/655 [00:09<00:00, 66.59it/s]\n"
     ]
    },
    {
     "name": "stdout",
     "output_type": "stream",
     "text": [
      "Epoch: 238, loss: 0.9422719232908642, f1: 0.09124091431941772, precision: 0.04877347718703895, recall: 0.7056943207637955\n"
     ]
    },
    {
     "name": "stderr",
     "output_type": "stream",
     "text": [
      "100%|████████████████████████████████████████████████████████████| 218/218 [00:01<00:00, 194.53it/s]\n"
     ]
    },
    {
     "name": "stdout",
     "output_type": "stream",
     "text": [
      "val_loss: 0.9370553734105661, val_f1: 0.09881971963307994, val_precision: 0.053119993840190456, val_recall: 0.7074276649760544\n"
     ]
    },
    {
     "name": "stderr",
     "output_type": "stream",
     "text": [
      "100%|█████████████████████████████████████████████████████████████| 655/655 [00:09<00:00, 66.71it/s]\n"
     ]
    },
    {
     "name": "stdout",
     "output_type": "stream",
     "text": [
      "Epoch: 239, loss: 0.9426479311389777, f1: 0.09012584274040004, precision: 0.04813940213168509, recall: 0.7051245436754845\n"
     ]
    },
    {
     "name": "stderr",
     "output_type": "stream",
     "text": [
      "100%|████████████████████████████████████████████████████████████| 218/218 [00:01<00:00, 198.16it/s]\n"
     ]
    },
    {
     "name": "stdout",
     "output_type": "stream",
     "text": [
      "val_loss: 0.9397906382149512, val_f1: 0.094630408469011, val_precision: 0.050658285637052915, val_recall: 0.7169754015743186\n"
     ]
    },
    {
     "name": "stderr",
     "output_type": "stream",
     "text": [
      "100%|█████████████████████████████████████████████████████████████| 655/655 [00:09<00:00, 66.84it/s]\n"
     ]
    },
    {
     "name": "stdout",
     "output_type": "stream",
     "text": [
      "Epoch: 240, loss: 0.9426513195037842, f1: 0.0901194277766527, precision: 0.048115453188030316, recall: 0.7095070428520669\n"
     ]
    },
    {
     "name": "stderr",
     "output_type": "stream",
     "text": [
      "100%|████████████████████████████████████████████████████████████| 218/218 [00:01<00:00, 190.17it/s]\n"
     ]
    },
    {
     "name": "stdout",
     "output_type": "stream",
     "text": [
      "val_loss: 0.9400216625371111, val_f1: 0.09433825366716193, val_precision: 0.05058032197882037, val_recall: 0.6994116493252986\n"
     ]
    },
    {
     "name": "stderr",
     "output_type": "stream",
     "text": [
      "100%|█████████████████████████████████████████████████████████████| 655/655 [00:09<00:00, 67.09it/s]\n"
     ]
    },
    {
     "name": "stdout",
     "output_type": "stream",
     "text": [
      "Epoch: 241, loss: 0.9422479294638597, f1: 0.09076634867395204, precision: 0.048607597797789136, recall: 0.6841431070602577\n"
     ]
    },
    {
     "name": "stderr",
     "output_type": "stream",
     "text": [
      "100%|████████████████████████████████████████████████████████████| 218/218 [00:01<00:00, 196.60it/s]\n"
     ]
    },
    {
     "name": "stdout",
     "output_type": "stream",
     "text": [
      "val_loss: 0.9367452734107271, val_f1: 0.09907226736368482, val_precision: 0.053407462618159936, val_recall: 0.6833826965831835\n"
     ]
    },
    {
     "name": "stderr",
     "output_type": "stream",
     "text": [
      "100%|█████████████████████████████████████████████████████████████| 655/655 [00:10<00:00, 65.38it/s]\n"
     ]
    },
    {
     "name": "stdout",
     "output_type": "stream",
     "text": [
      "Epoch: 242, loss: 0.9427795382856413, f1: 0.09023299902828855, precision: 0.048202739260692636, recall: 0.7046564884881937\n"
     ]
    },
    {
     "name": "stderr",
     "output_type": "stream",
     "text": [
      "100%|████████████████████████████████████████████████████████████| 218/218 [00:01<00:00, 198.21it/s]\n"
     ]
    },
    {
     "name": "stdout",
     "output_type": "stream",
     "text": [
      "val_loss: 0.9400660168687138, val_f1: 0.09496613150366824, val_precision: 0.05052910554286844, val_recall: 0.7876708793940894\n"
     ]
    },
    {
     "name": "stderr",
     "output_type": "stream",
     "text": [
      "100%|█████████████████████████████████████████████████████████████| 655/655 [00:09<00:00, 65.74it/s]\n"
     ]
    },
    {
     "name": "stdout",
     "output_type": "stream",
     "text": [
      "Epoch: 243, loss: 0.9419417653375, f1: 0.09160791811428631, precision: 0.0488458861536453, recall: 0.7354992077437066\n"
     ]
    },
    {
     "name": "stderr",
     "output_type": "stream",
     "text": [
      "100%|████████████████████████████████████████████████████████████| 218/218 [00:01<00:00, 196.56it/s]\n"
     ]
    },
    {
     "name": "stdout",
     "output_type": "stream",
     "text": [
      "val_loss: 0.9382434216661191, val_f1: 0.09717091102501232, val_precision: 0.05198509564597604, val_recall: 0.7429373264996284\n"
     ]
    },
    {
     "name": "stderr",
     "output_type": "stream",
     "text": [
      "100%|█████████████████████████████████████████████████████████████| 655/655 [00:09<00:00, 66.02it/s]\n"
     ]
    },
    {
     "name": "stdout",
     "output_type": "stream",
     "text": [
      "Epoch: 244, loss: 0.9409160634943547, f1: 0.0933899968689809, precision: 0.04993215700991822, recall: 0.7202557239880544\n"
     ]
    },
    {
     "name": "stderr",
     "output_type": "stream",
     "text": [
      "100%|████████████████████████████████████████████████████████████| 218/218 [00:01<00:00, 197.21it/s]\n"
     ]
    },
    {
     "name": "stdout",
     "output_type": "stream",
     "text": [
      "val_loss: 0.9389556403006982, val_f1: 0.09599398302484181, val_precision: 0.051510041484549435, val_recall: 0.7037551539411785\n"
     ]
    },
    {
     "name": "stderr",
     "output_type": "stream",
     "text": [
      "100%|█████████████████████████████████████████████████████████████| 655/655 [00:09<00:00, 66.29it/s]\n"
     ]
    },
    {
     "name": "stdout",
     "output_type": "stream",
     "text": [
      "Epoch: 245, loss: 0.9422852200406199, f1: 0.09093419585732665, precision: 0.04851432023214475, recall: 0.7238741152614128\n"
     ]
    },
    {
     "name": "stderr",
     "output_type": "stream",
     "text": [
      "100%|████████████████████████████████████████████████████████████| 218/218 [00:01<00:00, 198.76it/s]\n"
     ]
    },
    {
     "name": "stdout",
     "output_type": "stream",
     "text": [
      "val_loss: 0.9382675065906769, val_f1: 0.09726315724806553, val_precision: 0.05240434720853788, val_recall: 0.6755002525148042\n"
     ]
    },
    {
     "name": "stderr",
     "output_type": "stream",
     "text": [
      "100%|█████████████████████████████████████████████████████████████| 655/655 [00:09<00:00, 66.00it/s]\n"
     ]
    },
    {
     "name": "stdout",
     "output_type": "stream",
     "text": [
      "Epoch: 246, loss: 0.9407035579208199, f1: 0.09336101164810377, precision: 0.049946227504423894, recall: 0.7139356602011746\n"
     ]
    },
    {
     "name": "stderr",
     "output_type": "stream",
     "text": [
      "100%|████████████████████████████████████████████████████████████| 218/218 [00:01<00:00, 196.78it/s]\n"
     ]
    },
    {
     "name": "stdout",
     "output_type": "stream",
     "text": [
      "val_loss: 0.9373404460215787, val_f1: 0.09856903765753545, val_precision: 0.05280546011796238, val_recall: 0.7391465746481484\n"
     ]
    },
    {
     "name": "stderr",
     "output_type": "stream",
     "text": [
      "100%|█████████████████████████████████████████████████████████████| 655/655 [00:09<00:00, 66.15it/s]\n"
     ]
    },
    {
     "name": "stdout",
     "output_type": "stream",
     "text": [
      "Epoch: 247, loss: 0.9409173138269031, f1: 0.09321565650609427, precision: 0.049826833589770296, recall: 0.7214404014344434\n"
     ]
    },
    {
     "name": "stderr",
     "output_type": "stream",
     "text": [
      "100%|████████████████████████████████████████████████████████████| 218/218 [00:01<00:00, 195.75it/s]\n"
     ]
    },
    {
     "name": "stdout",
     "output_type": "stream",
     "text": [
      "val_loss: 0.9377528601283327, val_f1: 0.0972690098518744, val_precision: 0.05241243412009004, val_recall: 0.6747222233119361\n"
     ]
    },
    {
     "name": "stderr",
     "output_type": "stream",
     "text": [
      "100%|█████████████████████████████████████████████████████████████| 655/655 [00:09<00:00, 66.57it/s]\n"
     ]
    },
    {
     "name": "stdout",
     "output_type": "stream",
     "text": [
      "Epoch: 248, loss: 0.9403040656606659, f1: 0.09327296190448367, precision: 0.0500111976343399, recall: 0.6911235773495136\n"
     ]
    },
    {
     "name": "stderr",
     "output_type": "stream",
     "text": [
      "100%|████████████████████████████████████████████████████████████| 218/218 [00:01<00:00, 197.05it/s]\n"
     ]
    },
    {
     "name": "stdout",
     "output_type": "stream",
     "text": [
      "val_loss: 0.9420950158473549, val_f1: 0.09193611916569666, val_precision: 0.04883420900142658, val_recall: 0.7832159113924985\n"
     ]
    },
    {
     "name": "stderr",
     "output_type": "stream",
     "text": [
      "100%|█████████████████████████████████████████████████████████████| 655/655 [00:09<00:00, 66.33it/s]\n"
     ]
    },
    {
     "name": "stdout",
     "output_type": "stream",
     "text": [
      "Epoch: 249, loss: 0.9407384956156024, f1: 0.09350488780153529, precision: 0.050047097960842474, recall: 0.710188109933875\n"
     ]
    },
    {
     "name": "stderr",
     "output_type": "stream",
     "text": [
      "100%|████████████████████████████████████████████████████████████| 218/218 [00:01<00:00, 195.61it/s]\n"
     ]
    },
    {
     "name": "stdout",
     "output_type": "stream",
     "text": [
      "val_loss: 0.938016928937457, val_f1: 0.09718288586067446, val_precision: 0.05227805868884839, val_recall: 0.6890510082108166\n"
     ]
    },
    {
     "name": "stderr",
     "output_type": "stream",
     "text": [
      "100%|█████████████████████████████████████████████████████████████| 655/655 [00:09<00:00, 65.59it/s]\n"
     ]
    },
    {
     "name": "stdout",
     "output_type": "stream",
     "text": [
      "Epoch: 250, loss: 0.9401113733080507, f1: 0.09423012102445864, precision: 0.05050926724064896, recall: 0.7011202831418459\n"
     ]
    },
    {
     "name": "stderr",
     "output_type": "stream",
     "text": [
      "100%|████████████████████████████████████████████████████████████| 218/218 [00:01<00:00, 195.79it/s]\n"
     ]
    },
    {
     "name": "stdout",
     "output_type": "stream",
     "text": [
      "val_loss: 0.94003371607273, val_f1: 0.09405780837239439, val_precision: 0.05033672110758585, val_recall: 0.7156625926631306\n"
     ]
    },
    {
     "name": "stderr",
     "output_type": "stream",
     "text": [
      "100%|█████████████████████████████████████████████████████████████| 655/655 [00:09<00:00, 66.07it/s]\n"
     ]
    },
    {
     "name": "stdout",
     "output_type": "stream",
     "text": [
      "Epoch: 251, loss: 0.9436478652116906, f1: 0.08847307595454934, precision: 0.04723593797890171, recall: 0.6966574525446382\n"
     ]
    },
    {
     "name": "stderr",
     "output_type": "stream",
     "text": [
      "100%|████████████████████████████████████████████████████████████| 218/218 [00:01<00:00, 197.10it/s]\n"
     ]
    },
    {
     "name": "stdout",
     "output_type": "stream",
     "text": [
      "val_loss: 0.9420575813962779, val_f1: 0.09073399373892128, val_precision: 0.0484256043169357, val_recall: 0.7182759727018142\n"
     ]
    },
    {
     "name": "stderr",
     "output_type": "stream",
     "text": [
      "100%|█████████████████████████████████████████████████████████████| 655/655 [00:09<00:00, 70.38it/s]\n"
     ]
    },
    {
     "name": "stdout",
     "output_type": "stream",
     "text": [
      "Epoch: 252, loss: 0.9450976271665733, f1: 0.0859557260635269, precision: 0.045859849234360435, recall: 0.6838888809653639\n"
     ]
    },
    {
     "name": "stderr",
     "output_type": "stream",
     "text": [
      "100%|████████████████████████████████████████████████████████████| 218/218 [00:01<00:00, 195.98it/s]\n"
     ]
    },
    {
     "name": "stdout",
     "output_type": "stream",
     "text": [
      "val_loss: 0.9433170152366708, val_f1: 0.08791149023836495, val_precision: 0.04702331438882772, val_recall: 0.6738054271138042\n"
     ]
    },
    {
     "name": "stderr",
     "output_type": "stream",
     "text": [
      "100%|█████████████████████████████████████████████████████████████| 655/655 [00:09<00:00, 66.47it/s]\n"
     ]
    },
    {
     "name": "stdout",
     "output_type": "stream",
     "text": [
      "Epoch: 253, loss: 0.9397113761829056, f1: 0.09475311343097242, precision: 0.050897779676864166, recall: 0.6848079692771416\n"
     ]
    },
    {
     "name": "stderr",
     "output_type": "stream",
     "text": [
      "100%|████████████████████████████████████████████████████████████| 218/218 [00:01<00:00, 196.96it/s]\n"
     ]
    },
    {
     "name": "stdout",
     "output_type": "stream",
     "text": [
      "val_loss: 0.9400030147591862, val_f1: 0.09371364238763592, val_precision: 0.0502894318880462, val_recall: 0.6864754345370542\n"
     ]
    },
    {
     "name": "stderr",
     "output_type": "stream",
     "text": [
      "100%|█████████████████████████████████████████████████████████████| 655/655 [00:09<00:00, 65.73it/s]\n"
     ]
    },
    {
     "name": "stdout",
     "output_type": "stream",
     "text": [
      "Epoch: 254, loss: 0.938838338305932, f1: 0.09612688682222129, precision: 0.05165645203780639, recall: 0.6910050092535165\n"
     ]
    },
    {
     "name": "stderr",
     "output_type": "stream",
     "text": [
      "100%|████████████████████████████████████████████████████████████| 218/218 [00:01<00:00, 196.45it/s]\n"
     ]
    },
    {
     "name": "stdout",
     "output_type": "stream",
     "text": [
      "val_loss: 0.9347288370679278, val_f1: 0.10217406105518502, val_precision: 0.05530609328667163, val_recall: 0.6696805042821333\n"
     ]
    },
    {
     "name": "stderr",
     "output_type": "stream",
     "text": [
      "100%|█████████████████████████████████████████████████████████████| 655/655 [00:09<00:00, 65.98it/s]\n"
     ]
    },
    {
     "name": "stdout",
     "output_type": "stream",
     "text": [
      "Epoch: 255, loss: 0.9423766931504693, f1: 0.09049383884784455, precision: 0.048422982289192784, recall: 0.689844902587756\n"
     ]
    },
    {
     "name": "stderr",
     "output_type": "stream",
     "text": [
      "100%|████████████████████████████████████████████████████████████| 218/218 [00:01<00:00, 196.02it/s]\n"
     ]
    },
    {
     "name": "stdout",
     "output_type": "stream",
     "text": [
      "val_loss: 0.9384993191705931, val_f1: 0.09686714679691137, val_precision: 0.051981266188529246, val_recall: 0.7096551534369451\n"
     ]
    },
    {
     "name": "stderr",
     "output_type": "stream",
     "text": [
      "100%|█████████████████████████████████████████████████████████████| 655/655 [00:09<00:00, 66.69it/s]\n"
     ]
    },
    {
     "name": "stdout",
     "output_type": "stream",
     "text": [
      "Epoch: 256, loss: 0.944985474884965, f1: 0.08671375726696827, precision: 0.04617607264871929, recall: 0.7101499105000314\n"
     ]
    },
    {
     "name": "stderr",
     "output_type": "stream",
     "text": [
      "100%|████████████████████████████████████████████████████████████| 218/218 [00:01<00:00, 197.84it/s]\n"
     ]
    },
    {
     "name": "stdout",
     "output_type": "stream",
     "text": [
      "val_loss: 0.9385177949699787, val_f1: 0.09691427559562368, val_precision: 0.052148061414642274, val_recall: 0.6846377926477052\n"
     ]
    },
    {
     "name": "stderr",
     "output_type": "stream",
     "text": [
      "100%|█████████████████████████████████████████████████████████████| 655/655 [00:09<00:00, 66.23it/s]\n"
     ]
    },
    {
     "name": "stdout",
     "output_type": "stream",
     "text": [
      "Epoch: 257, loss: 0.9401735872712754, f1: 0.09382208611356395, precision: 0.05037686560082583, recall: 0.6818673723867832\n"
     ]
    },
    {
     "name": "stderr",
     "output_type": "stream",
     "text": [
      "100%|████████████████████████████████████████████████████████████| 218/218 [00:01<00:00, 195.91it/s]\n"
     ]
    },
    {
     "name": "stdout",
     "output_type": "stream",
     "text": [
      "val_loss: 0.9362969231714896, val_f1: 0.0999404211137545, val_precision: 0.054002798194441634, val_recall: 0.6691810417954528\n"
     ]
    },
    {
     "name": "stderr",
     "output_type": "stream",
     "text": [
      "100%|█████████████████████████████████████████████████████████████| 655/655 [00:09<00:00, 66.04it/s]\n"
     ]
    },
    {
     "name": "stdout",
     "output_type": "stream",
     "text": [
      "Epoch: 258, loss: 0.9395985286654407, f1: 0.09448657417351772, precision: 0.05082431699874462, recall: 0.6705076075805962\n"
     ]
    },
    {
     "name": "stderr",
     "output_type": "stream",
     "text": [
      "100%|████████████████████████████████████████████████████████████| 218/218 [00:01<00:00, 196.99it/s]\n"
     ]
    },
    {
     "name": "stdout",
     "output_type": "stream",
     "text": [
      "val_loss: 0.937743186403852, val_f1: 0.09775946251365278, val_precision: 0.05265204986523187, val_recall: 0.6822377202707693\n"
     ]
    },
    {
     "name": "stderr",
     "output_type": "stream",
     "text": [
      "100%|█████████████████████████████████████████████████████████████| 655/655 [00:09<00:00, 66.27it/s]\n"
     ]
    },
    {
     "name": "stdout",
     "output_type": "stream",
     "text": [
      "Epoch: 259, loss: 0.9398415867608922, f1: 0.09410470636574289, precision: 0.05056152534031288, recall: 0.6779487129841142\n"
     ]
    },
    {
     "name": "stderr",
     "output_type": "stream",
     "text": [
      "100%|████████████████████████████████████████████████████████████| 218/218 [00:01<00:00, 196.80it/s]\n"
     ]
    },
    {
     "name": "stdout",
     "output_type": "stream",
     "text": [
      "val_loss: 0.9358210642950251, val_f1: 0.10037062445103899, val_precision: 0.054202759566870644, val_recall: 0.6770922382353642\n"
     ]
    },
    {
     "name": "stderr",
     "output_type": "stream",
     "text": [
      "100%|█████████████████████████████████████████████████████████████| 655/655 [00:09<00:00, 66.41it/s]\n"
     ]
    },
    {
     "name": "stdout",
     "output_type": "stream",
     "text": [
      "Epoch: 260, loss: 0.9383092527171127, f1: 0.09634165164771687, precision: 0.05195002341394149, recall: 0.6621711275390997\n"
     ]
    },
    {
     "name": "stderr",
     "output_type": "stream",
     "text": [
      "100%|████████████████████████████████████████████████████████████| 218/218 [00:01<00:00, 197.56it/s]\n"
     ]
    },
    {
     "name": "stdout",
     "output_type": "stream",
     "text": [
      "val_loss: 0.9345257468179825, val_f1: 0.10251573938196751, val_precision: 0.05548415079642378, val_recall: 0.6729318993422416\n"
     ]
    },
    {
     "name": "stderr",
     "output_type": "stream",
     "text": [
      "100%|█████████████████████████████████████████████████████████████| 655/655 [00:09<00:00, 66.57it/s]\n"
     ]
    },
    {
     "name": "stdout",
     "output_type": "stream",
     "text": [
      "Epoch: 261, loss: 0.9392450499170609, f1: 0.09574204843956646, precision: 0.05142175912028819, recall: 0.6932683923886023\n"
     ]
    },
    {
     "name": "stderr",
     "output_type": "stream",
     "text": [
      "100%|████████████████████████████████████████████████████████████| 218/218 [00:01<00:00, 196.83it/s]\n"
     ]
    },
    {
     "name": "stdout",
     "output_type": "stream",
     "text": [
      "val_loss: 0.9350085086231932, val_f1: 0.10171586360800046, val_precision: 0.05494406188030753, val_recall: 0.6838601072310307\n"
     ]
    },
    {
     "name": "stderr",
     "output_type": "stream",
     "text": [
      "100%|█████████████████████████████████████████████████████████████| 655/655 [00:09<00:00, 66.28it/s]\n"
     ]
    },
    {
     "name": "stdout",
     "output_type": "stream",
     "text": [
      "Epoch: 262, loss: 0.9380308552552725, f1: 0.09724560296782499, precision: 0.05230064388926191, recall: 0.6914390408924518\n"
     ]
    },
    {
     "name": "stderr",
     "output_type": "stream",
     "text": [
      "100%|████████████████████████████████████████████████████████████| 218/218 [00:01<00:00, 196.64it/s]\n"
     ]
    },
    {
     "name": "stdout",
     "output_type": "stream",
     "text": [
      "val_loss: 0.9408727955380711, val_f1: 0.09372837244291507, val_precision: 0.04998372058670353, val_recall: 0.7508961644126187\n"
     ]
    },
    {
     "name": "stderr",
     "output_type": "stream",
     "text": [
      "100%|█████████████████████████████████████████████████████████████| 655/655 [00:09<00:00, 70.94it/s]\n"
     ]
    },
    {
     "name": "stdout",
     "output_type": "stream",
     "text": [
      "Epoch: 263, loss: 0.9416801755664913, f1: 0.09225935910778267, precision: 0.04925998772249223, recall: 0.7259181288476209\n"
     ]
    },
    {
     "name": "stderr",
     "output_type": "stream",
     "text": [
      "100%|████████████████████████████████████████████████████████████| 218/218 [00:01<00:00, 195.91it/s]\n"
     ]
    },
    {
     "name": "stdout",
     "output_type": "stream",
     "text": [
      "val_loss: 0.9358564347302148, val_f1: 0.10123691110618037, val_precision: 0.05447419021393967, val_recall: 0.7151424095991554\n"
     ]
    },
    {
     "name": "stderr",
     "output_type": "stream",
     "text": [
      "100%|█████████████████████████████████████████████████████████████| 655/655 [00:09<00:00, 66.36it/s]\n"
     ]
    },
    {
     "name": "stdout",
     "output_type": "stream",
     "text": [
      "Epoch: 264, loss: 0.9387742546678499, f1: 0.09653004584289361, precision: 0.051858458466799436, recall: 0.6965339032748273\n"
     ]
    },
    {
     "name": "stderr",
     "output_type": "stream",
     "text": [
      "100%|████████████████████████████████████████████████████████████| 218/218 [00:01<00:00, 198.11it/s]\n"
     ]
    },
    {
     "name": "stdout",
     "output_type": "stream",
     "text": [
      "val_loss: 0.9382549272764713, val_f1: 0.09745774378791028, val_precision: 0.052314146197563326, val_recall: 0.7110221178159801\n"
     ]
    },
    {
     "name": "stderr",
     "output_type": "stream",
     "text": [
      "100%|█████████████████████████████████████████████████████████████| 655/655 [00:09<00:00, 66.50it/s]\n"
     ]
    },
    {
     "name": "stdout",
     "output_type": "stream",
     "text": [
      "Epoch: 265, loss: 0.9394113322250716, f1: 0.09523899193277502, precision: 0.05115634859006368, recall: 0.6887591298072393\n"
     ]
    },
    {
     "name": "stderr",
     "output_type": "stream",
     "text": [
      "100%|████████████████████████████████████████████████████████████| 218/218 [00:01<00:00, 195.28it/s]\n"
     ]
    },
    {
     "name": "stdout",
     "output_type": "stream",
     "text": [
      "val_loss: 0.9366496057685362, val_f1: 0.09972941336352588, val_precision: 0.053741974498726294, val_recall: 0.6911639642619759\n"
     ]
    },
    {
     "name": "stderr",
     "output_type": "stream",
     "text": [
      "100%|█████████████████████████████████████████████████████████████| 655/655 [00:09<00:00, 66.80it/s]\n"
     ]
    },
    {
     "name": "stdout",
     "output_type": "stream",
     "text": [
      "Epoch: 266, loss: 0.9411395427834897, f1: 0.09308266012618799, precision: 0.04971371668387375, recall: 0.7293381209250624\n"
     ]
    },
    {
     "name": "stderr",
     "output_type": "stream",
     "text": [
      "100%|████████████████████████████████████████████████████████████| 218/218 [00:01<00:00, 195.43it/s]\n"
     ]
    },
    {
     "name": "stdout",
     "output_type": "stream",
     "text": [
      "val_loss: 0.9403952212508665, val_f1: 0.09449879826744717, val_precision: 0.050279182899922746, val_recall: 0.7841025512973103\n"
     ]
    },
    {
     "name": "stderr",
     "output_type": "stream",
     "text": [
      "100%|█████████████████████████████████████████████████████████████| 655/655 [00:09<00:00, 66.08it/s]\n"
     ]
    },
    {
     "name": "stdout",
     "output_type": "stream",
     "text": [
      "Epoch: 267, loss: 0.9421281865534892, f1: 0.09166621505397442, precision: 0.048925472004339096, recall: 0.7251429886763332\n"
     ]
    },
    {
     "name": "stderr",
     "output_type": "stream",
     "text": [
      "100%|████████████████████████████████████████████████████████████| 218/218 [00:01<00:00, 197.17it/s]\n"
     ]
    },
    {
     "name": "stdout",
     "output_type": "stream",
     "text": [
      "val_loss: 0.9363015562022498, val_f1: 0.10021158265813344, val_precision: 0.05389056354440715, val_recall: 0.713445665400236\n"
     ]
    },
    {
     "name": "stderr",
     "output_type": "stream",
     "text": [
      "100%|█████████████████████████████████████████████████████████████| 655/655 [00:09<00:00, 66.19it/s]\n"
     ]
    },
    {
     "name": "stdout",
     "output_type": "stream",
     "text": [
      "Epoch: 268, loss: 0.9366517300824173, f1: 0.09951554783214281, precision: 0.053631526260558546, recall: 0.6888889947351609\n"
     ]
    },
    {
     "name": "stderr",
     "output_type": "stream",
     "text": [
      "100%|████████████████████████████████████████████████████████████| 218/218 [00:01<00:00, 195.63it/s]\n"
     ]
    },
    {
     "name": "stdout",
     "output_type": "stream",
     "text": [
      "val_loss: 0.9365372231247229, val_f1: 0.09911141848192256, val_precision: 0.05344334668095369, val_recall: 0.6812422685666916\n"
     ]
    },
    {
     "name": "stderr",
     "output_type": "stream",
     "text": [
      "100%|█████████████████████████████████████████████████████████████| 655/655 [00:09<00:00, 65.84it/s]\n"
     ]
    },
    {
     "name": "stdout",
     "output_type": "stream",
     "text": [
      "Epoch: 269, loss: 0.9388568120148346, f1: 0.09598592095210684, precision: 0.05163138574024819, recall: 0.6810482214766604\n"
     ]
    },
    {
     "name": "stderr",
     "output_type": "stream",
     "text": [
      "100%|████████████████████████████████████████████████████████████| 218/218 [00:01<00:00, 198.77it/s]\n"
     ]
    },
    {
     "name": "stdout",
     "output_type": "stream",
     "text": [
      "val_loss: 0.9409536002972804, val_f1: 0.09270539943203374, val_precision: 0.04960299305000488, val_recall: 0.7073923506594579\n"
     ]
    },
    {
     "name": "stderr",
     "output_type": "stream",
     "text": [
      "100%|█████████████████████████████████████████████████████████████| 655/655 [00:09<00:00, 66.70it/s]\n"
     ]
    },
    {
     "name": "stdout",
     "output_type": "stream",
     "text": [
      "Epoch: 270, loss: 0.9383659066134736, f1: 0.09679629268257343, precision: 0.05208853981351011, recall: 0.6831219466360471\n"
     ]
    },
    {
     "name": "stderr",
     "output_type": "stream",
     "text": [
      "100%|████████████████████████████████████████████████████████████| 218/218 [00:01<00:00, 196.47it/s]\n"
     ]
    },
    {
     "name": "stdout",
     "output_type": "stream",
     "text": [
      "val_loss: 0.935422741765276, val_f1: 0.10149207144551173, val_precision: 0.05484258923829115, val_recall: 0.6793622937087619\n"
     ]
    },
    {
     "name": "stderr",
     "output_type": "stream",
     "text": [
      "100%|█████████████████████████████████████████████████████████████| 655/655 [00:09<00:00, 66.06it/s]\n"
     ]
    },
    {
     "name": "stdout",
     "output_type": "stream",
     "text": [
      "Epoch: 271, loss: 0.9397583728528205, f1: 0.09481938839862265, precision: 0.05092037061463956, recall: 0.6876507298750731\n"
     ]
    },
    {
     "name": "stderr",
     "output_type": "stream",
     "text": [
      "100%|████████████████████████████████████████████████████████████| 218/218 [00:01<00:00, 196.90it/s]\n"
     ]
    },
    {
     "name": "stdout",
     "output_type": "stream",
     "text": [
      "val_loss: 0.936343156143066, val_f1: 0.10002577237691639, val_precision: 0.05391942250110859, val_recall: 0.6902958849154481\n"
     ]
    },
    {
     "name": "stderr",
     "output_type": "stream",
     "text": [
      "100%|█████████████████████████████████████████████████████████████| 655/655 [00:09<00:00, 65.86it/s]\n"
     ]
    },
    {
     "name": "stdout",
     "output_type": "stream",
     "text": [
      "Epoch: 272, loss: 0.9383357368352759, f1: 0.09716305588746783, precision: 0.052264795931880825, recall: 0.6893616354306236\n"
     ]
    },
    {
     "name": "stderr",
     "output_type": "stream",
     "text": [
      "100%|████████████████████████████████████████████████████████████| 218/218 [00:01<00:00, 196.61it/s]\n"
     ]
    },
    {
     "name": "stdout",
     "output_type": "stream",
     "text": [
      "val_loss: 0.9362367200195243, val_f1: 0.09982415860255463, val_precision: 0.05400551125084674, val_recall: 0.6585005915493046\n"
     ]
    },
    {
     "name": "stderr",
     "output_type": "stream",
     "text": [
      "100%|█████████████████████████████████████████████████████████████| 655/655 [00:09<00:00, 66.03it/s]\n"
     ]
    },
    {
     "name": "stdout",
     "output_type": "stream",
     "text": [
      "Epoch: 273, loss: 0.9361718784761793, f1: 0.09992616455032459, precision: 0.054023723779886054, recall: 0.6647205257802519\n"
     ]
    },
    {
     "name": "stderr",
     "output_type": "stream",
     "text": [
      "100%|████████████████████████████████████████████████████████████| 218/218 [00:01<00:00, 197.64it/s]\n"
     ]
    },
    {
     "name": "stdout",
     "output_type": "stream",
     "text": [
      "val_loss: 0.9346457058136616, val_f1: 0.1018851956941746, val_precision: 0.05518270264125489, val_recall: 0.6629907432089158\n"
     ]
    },
    {
     "name": "stderr",
     "output_type": "stream",
     "text": [
      "100%|█████████████████████████████████████████████████████████████| 655/655 [00:09<00:00, 66.31it/s]\n"
     ]
    },
    {
     "name": "stdout",
     "output_type": "stream",
     "text": [
      "Epoch: 274, loss: 0.9370673963131796, f1: 0.09855198254328192, precision: 0.053179506937269375, recall: 0.6713109781382648\n"
     ]
    },
    {
     "name": "stderr",
     "output_type": "stream",
     "text": [
      "100%|████████████████████████████████████████████████████████████| 218/218 [00:01<00:00, 189.91it/s]\n"
     ]
    },
    {
     "name": "stdout",
     "output_type": "stream",
     "text": [
      "val_loss: 0.9349748306318161, val_f1: 0.10238882190708308, val_precision: 0.055454244940763835, val_recall: 0.6664455500217753\n"
     ]
    },
    {
     "name": "stderr",
     "output_type": "stream",
     "text": [
      "100%|█████████████████████████████████████████████████████████████| 655/655 [00:09<00:00, 68.64it/s]\n"
     ]
    },
    {
     "name": "stdout",
     "output_type": "stream",
     "text": [
      "Epoch: 275, loss: 0.9379178291968717, f1: 0.09788593421649808, precision: 0.052554850140586494, recall: 0.7121466223520178\n"
     ]
    },
    {
     "name": "stderr",
     "output_type": "stream",
     "text": [
      "100%|████████████████████████████████████████████████████████████| 218/218 [00:01<00:00, 198.94it/s]\n"
     ]
    },
    {
     "name": "stdout",
     "output_type": "stream",
     "text": [
      "val_loss: 0.9375118845646534, val_f1: 0.09905895834430507, val_precision: 0.052912295977542295, val_recall: 0.7747148640727232\n"
     ]
    },
    {
     "name": "stderr",
     "output_type": "stream",
     "text": [
      "100%|█████████████████████████████████████████████████████████████| 655/655 [00:09<00:00, 66.50it/s]\n"
     ]
    },
    {
     "name": "stdout",
     "output_type": "stream",
     "text": [
      "Epoch: 276, loss: 0.9367262494473056, f1: 0.09966836336380755, precision: 0.053514443941499665, recall: 0.7246354563545635\n"
     ]
    },
    {
     "name": "stderr",
     "output_type": "stream",
     "text": [
      "100%|████████████████████████████████████████████████████████████| 218/218 [00:01<00:00, 196.05it/s]\n"
     ]
    },
    {
     "name": "stdout",
     "output_type": "stream",
     "text": [
      "val_loss: 0.9344371956422788, val_f1: 0.10315092045124977, val_precision: 0.0556282732233089, val_recall: 0.7079166481869483\n"
     ]
    },
    {
     "name": "stderr",
     "output_type": "stream",
     "text": [
      "100%|█████████████████████████████████████████████████████████████| 655/655 [00:09<00:00, 66.52it/s]\n"
     ]
    },
    {
     "name": "stdout",
     "output_type": "stream",
     "text": [
      "Epoch: 277, loss: 0.9381614341080644, f1: 0.09726813750978482, precision: 0.052364522069763705, recall: 0.6826783641831565\n"
     ]
    },
    {
     "name": "stderr",
     "output_type": "stream",
     "text": [
      "100%|████████████████████████████████████████████████████████████| 218/218 [00:01<00:00, 196.79it/s]\n"
     ]
    },
    {
     "name": "stdout",
     "output_type": "stream",
     "text": [
      "val_loss: 0.9357388968314599, val_f1: 0.10063605277195041, val_precision: 0.05432194918009598, val_recall: 0.6826738208327272\n"
     ]
    },
    {
     "name": "stderr",
     "output_type": "stream",
     "text": [
      "100%|█████████████████████████████████████████████████████████████| 655/655 [00:09<00:00, 66.10it/s]\n"
     ]
    },
    {
     "name": "stdout",
     "output_type": "stream",
     "text": [
      "Epoch: 278, loss: 0.9369220877421721, f1: 0.09885890033564819, precision: 0.05329227793414345, recall: 0.6819377295161022\n"
     ]
    },
    {
     "name": "stderr",
     "output_type": "stream",
     "text": [
      "100%|████████████████████████████████████████████████████████████| 218/218 [00:01<00:00, 196.83it/s]\n"
     ]
    },
    {
     "name": "stdout",
     "output_type": "stream",
     "text": [
      "val_loss: 0.9355525152945737, val_f1: 0.1008056489264191, val_precision: 0.05431863765548402, val_recall: 0.6991683781625481\n"
     ]
    },
    {
     "name": "stderr",
     "output_type": "stream",
     "text": [
      "100%|█████████████████████████████████████████████████████████████| 655/655 [00:09<00:00, 66.26it/s]\n"
     ]
    },
    {
     "name": "stdout",
     "output_type": "stream",
     "text": [
      "Epoch: 279, loss: 0.938869483416317, f1: 0.0958101238954349, precision: 0.051495270587091566, recall: 0.6871144201578074\n"
     ]
    },
    {
     "name": "stderr",
     "output_type": "stream",
     "text": [
      "100%|████████████████████████████████████████████████████████████| 218/218 [00:01<00:00, 191.49it/s]\n"
     ]
    },
    {
     "name": "stdout",
     "output_type": "stream",
     "text": [
      "val_loss: 0.9354811808384886, val_f1: 0.10102921899521955, val_precision: 0.05456784049822274, val_recall: 0.6800681119528386\n"
     ]
    },
    {
     "name": "stderr",
     "output_type": "stream",
     "text": [
      "100%|█████████████████████████████████████████████████████████████| 655/655 [00:10<00:00, 65.43it/s]\n"
     ]
    },
    {
     "name": "stdout",
     "output_type": "stream",
     "text": [
      "Epoch: 280, loss: 0.9367438745862655, f1: 0.09943978481123081, precision: 0.05356504290190504, recall: 0.6926252099507637\n"
     ]
    },
    {
     "name": "stderr",
     "output_type": "stream",
     "text": [
      "100%|████████████████████████████████████████████████████████████| 218/218 [00:01<00:00, 196.90it/s]\n"
     ]
    },
    {
     "name": "stdout",
     "output_type": "stream",
     "text": [
      "val_loss: 0.9373166582999973, val_f1: 0.09873705087756136, val_precision: 0.05303080878733153, val_recall: 0.7148689993341034\n"
     ]
    },
    {
     "name": "stderr",
     "output_type": "stream",
     "text": [
      "100%|█████████████████████████████████████████████████████████████| 655/655 [00:09<00:00, 66.12it/s]\n"
     ]
    },
    {
     "name": "stdout",
     "output_type": "stream",
     "text": [
      "Epoch: 281, loss: 0.938557235612214, f1: 0.09702543336961825, precision: 0.05196461578589359, recall: 0.7303065962918842\n"
     ]
    },
    {
     "name": "stderr",
     "output_type": "stream",
     "text": [
      "100%|████████████████████████████████████████████████████████████| 218/218 [00:01<00:00, 197.02it/s]\n"
     ]
    },
    {
     "name": "stdout",
     "output_type": "stream",
     "text": [
      "val_loss: 0.9361463530894814, val_f1: 0.10033327592987377, val_precision: 0.05397258132083102, val_recall: 0.7114196649726925\n"
     ]
    },
    {
     "name": "stderr",
     "output_type": "stream",
     "text": [
      "100%|█████████████████████████████████████████████████████████████| 655/655 [00:09<00:00, 66.53it/s]\n"
     ]
    },
    {
     "name": "stdout",
     "output_type": "stream",
     "text": [
      "Epoch: 282, loss: 0.936133403814476, f1: 0.10032383120907853, precision: 0.05411828925747794, recall: 0.6861528501938318\n"
     ]
    },
    {
     "name": "stderr",
     "output_type": "stream",
     "text": [
      "100%|████████████████████████████████████████████████████████████| 218/218 [00:01<00:00, 197.15it/s]\n"
     ]
    },
    {
     "name": "stdout",
     "output_type": "stream",
     "text": [
      "val_loss: 0.9345429102215198, val_f1: 0.1024718575349708, val_precision: 0.05538164612456917, val_recall: 0.6844485119121884\n"
     ]
    },
    {
     "name": "stderr",
     "output_type": "stream",
     "text": [
      "100%|█████████████████████████████████████████████████████████████| 655/655 [00:09<00:00, 65.99it/s]\n"
     ]
    },
    {
     "name": "stdout",
     "output_type": "stream",
     "text": [
      "Epoch: 283, loss: 0.9384962844484634, f1: 0.0967326133977168, precision: 0.052004954225973773, recall: 0.6912699147717644\n"
     ]
    },
    {
     "name": "stderr",
     "output_type": "stream",
     "text": [
      "100%|████████████████████████████████████████████████████████████| 218/218 [00:01<00:00, 197.58it/s]\n"
     ]
    },
    {
     "name": "stdout",
     "output_type": "stream",
     "text": [
      "val_loss: 0.9351264755113409, val_f1: 0.10129385978954791, val_precision: 0.054647174643549144, val_recall: 0.6918855712432926\n"
     ]
    },
    {
     "name": "stderr",
     "output_type": "stream",
     "text": [
      "100%|█████████████████████████████████████████████████████████████| 655/655 [00:09<00:00, 66.22it/s]\n"
     ]
    },
    {
     "name": "stdout",
     "output_type": "stream",
     "text": [
      "Epoch: 284, loss: 0.9389890060170006, f1: 0.0959948672152824, precision: 0.051526970251015464, recall: 0.7007045353300699\n"
     ]
    },
    {
     "name": "stderr",
     "output_type": "stream",
     "text": [
      "100%|████████████████████████████████████████████████████████████| 218/218 [00:01<00:00, 199.19it/s]\n"
     ]
    },
    {
     "name": "stdout",
     "output_type": "stream",
     "text": [
      "val_loss: 0.9361658200211481, val_f1: 0.09990104908551206, val_precision: 0.053709317105523215, val_recall: 0.7137421173035005\n"
     ]
    },
    {
     "name": "stderr",
     "output_type": "stream",
     "text": [
      "100%|█████████████████████████████████████████████████████████████| 655/655 [00:09<00:00, 66.35it/s]\n"
     ]
    },
    {
     "name": "stdout",
     "output_type": "stream",
     "text": [
      "Epoch: 285, loss: 0.9445250913387037, f1: 0.08743103915103977, precision: 0.04657027949294687, recall: 0.7131401671935583\n"
     ]
    },
    {
     "name": "stderr",
     "output_type": "stream",
     "text": [
      "100%|████████████████████████████████████████████████████████████| 218/218 [00:01<00:00, 196.23it/s]\n"
     ]
    },
    {
     "name": "stdout",
     "output_type": "stream",
     "text": [
      "val_loss: 0.9407049431166518, val_f1: 0.09285333546972264, val_precision: 0.04973133775211204, val_recall: 0.6986659127159403\n"
     ]
    },
    {
     "name": "stderr",
     "output_type": "stream",
     "text": [
      "100%|█████████████████████████████████████████████████████████████| 655/655 [00:09<00:00, 71.15it/s]\n"
     ]
    },
    {
     "name": "stdout",
     "output_type": "stream",
     "text": [
      "Epoch: 286, loss: 0.9453180482369343, f1: 0.08556960485009309, precision: 0.045578695152964414, recall: 0.6979779314448815\n"
     ]
    },
    {
     "name": "stderr",
     "output_type": "stream",
     "text": [
      "100%|████████████████████████████████████████████████████████████| 218/218 [00:01<00:00, 195.49it/s]\n"
     ]
    },
    {
     "name": "stdout",
     "output_type": "stream",
     "text": [
      "val_loss: 0.9395129456432587, val_f1: 0.09401542050696243, val_precision: 0.05043005254098274, val_recall: 0.692683869340551\n"
     ]
    },
    {
     "name": "stderr",
     "output_type": "stream",
     "text": [
      "100%|█████████████████████████████████████████████████████████████| 655/655 [00:09<00:00, 67.05it/s]\n"
     ]
    },
    {
     "name": "stdout",
     "output_type": "stream",
     "text": [
      "Epoch: 287, loss: 0.9436014413833618, f1: 0.0888719548464794, precision: 0.04742160885815175, recall: 0.7057889048038548\n"
     ]
    },
    {
     "name": "stderr",
     "output_type": "stream",
     "text": [
      "100%|████████████████████████████████████████████████████████████| 218/218 [00:01<00:00, 198.42it/s]\n"
     ]
    },
    {
     "name": "stdout",
     "output_type": "stream",
     "text": [
      "val_loss: 0.9391184780028982, val_f1: 0.09532213935145513, val_precision: 0.05109677682662759, val_recall: 0.7088284692427981\n"
     ]
    },
    {
     "name": "stderr",
     "output_type": "stream",
     "text": [
      "100%|█████████████████████████████████████████████████████████████| 655/655 [00:09<00:00, 68.45it/s]\n"
     ]
    },
    {
     "name": "stdout",
     "output_type": "stream",
     "text": [
      "Epoch: 288, loss: 0.9461987702901127, f1: 0.08446935987868844, precision: 0.044878352529063595, recall: 0.7169658083383363\n"
     ]
    },
    {
     "name": "stderr",
     "output_type": "stream",
     "text": [
      "100%|████████████████████████████████████████████████████████████| 218/218 [00:01<00:00, 196.58it/s]\n"
     ]
    },
    {
     "name": "stdout",
     "output_type": "stream",
     "text": [
      "val_loss: 0.9407377270383572, val_f1: 0.09284261852942793, val_precision: 0.049817657904537106, val_recall: 0.6809079837429961\n"
     ]
    },
    {
     "name": "stderr",
     "output_type": "stream",
     "text": [
      "100%|█████████████████████████████████████████████████████████████| 655/655 [00:09<00:00, 66.38it/s]\n"
     ]
    },
    {
     "name": "stdout",
     "output_type": "stream",
     "text": [
      "Epoch: 289, loss: 0.941597870015006, f1: 0.0916764155331428, precision: 0.04916316089113705, recall: 0.6777693095098015\n"
     ]
    },
    {
     "name": "stderr",
     "output_type": "stream",
     "text": [
      "100%|████████████████████████████████████████████████████████████| 218/218 [00:01<00:00, 196.03it/s]\n"
     ]
    },
    {
     "name": "stdout",
     "output_type": "stream",
     "text": [
      "val_loss: 0.9383323892540888, val_f1: 0.0960522365021629, val_precision: 0.05164138040902657, val_recall: 0.686018035157558\n"
     ]
    },
    {
     "name": "stderr",
     "output_type": "stream",
     "text": [
      "100%|█████████████████████████████████████████████████████████████| 655/655 [00:09<00:00, 65.81it/s]\n"
     ]
    },
    {
     "name": "stdout",
     "output_type": "stream",
     "text": [
      "Epoch: 290, loss: 0.9427567745893056, f1: 0.09015653731325592, precision: 0.048227851149334595, recall: 0.6902591171610446\n"
     ]
    },
    {
     "name": "stderr",
     "output_type": "stream",
     "text": [
      "100%|████████████████████████████████████████████████████████████| 218/218 [00:01<00:00, 196.51it/s]\n"
     ]
    },
    {
     "name": "stdout",
     "output_type": "stream",
     "text": [
      "val_loss: 0.940601611082707, val_f1: 0.09260999531839284, val_precision: 0.04974661337173279, val_recall: 0.6693126159728667\n"
     ]
    },
    {
     "name": "stderr",
     "output_type": "stream",
     "text": [
      "100%|█████████████████████████████████████████████████████████████| 655/655 [00:09<00:00, 66.18it/s]\n"
     ]
    },
    {
     "name": "stdout",
     "output_type": "stream",
     "text": [
      "Epoch: 291, loss: 0.9415070942340006, f1: 0.09170658099458712, precision: 0.04910003911518982, recall: 0.693431682566195\n"
     ]
    },
    {
     "name": "stderr",
     "output_type": "stream",
     "text": [
      "100%|████████████████████████████████████████████████████████████| 218/218 [00:01<00:00, 198.63it/s]\n"
     ]
    },
    {
     "name": "stdout",
     "output_type": "stream",
     "text": [
      "val_loss: 0.939296704913498, val_f1: 0.09490487608483603, val_precision: 0.05094008207739835, val_recall: 0.6930842323382513\n"
     ]
    },
    {
     "name": "stderr",
     "output_type": "stream",
     "text": [
      "100%|█████████████████████████████████████████████████████████████| 655/655 [00:09<00:00, 66.26it/s]\n"
     ]
    },
    {
     "name": "stdout",
     "output_type": "stream",
     "text": [
      "Epoch: 292, loss: 0.9445204987780739, f1: 0.08745585096249349, precision: 0.046546127054954076, recall: 0.7222214316707531\n"
     ]
    },
    {
     "name": "stderr",
     "output_type": "stream",
     "text": [
      "100%|████████████████████████████████████████████████████████████| 218/218 [00:01<00:00, 196.30it/s]\n"
     ]
    },
    {
     "name": "stdout",
     "output_type": "stream",
     "text": [
      "val_loss: 0.9411699722666259, val_f1: 0.09311032116504633, val_precision: 0.04962692557836225, val_recall: 0.7521374495272789\n"
     ]
    },
    {
     "name": "stderr",
     "output_type": "stream",
     "text": [
      "100%|█████████████████████████████████████████████████████████████| 655/655 [00:09<00:00, 66.35it/s]\n"
     ]
    },
    {
     "name": "stdout",
     "output_type": "stream",
     "text": [
      "Epoch: 293, loss: 0.9440218182010505, f1: 0.08842655212440709, precision: 0.047010404417533, recall: 0.743077801327214\n"
     ]
    },
    {
     "name": "stderr",
     "output_type": "stream",
     "text": [
      "100%|████████████████████████████████████████████████████████████| 218/218 [00:01<00:00, 195.89it/s]\n"
     ]
    },
    {
     "name": "stdout",
     "output_type": "stream",
     "text": [
      "val_loss: 0.9418474747500288, val_f1: 0.0912723529172882, val_precision: 0.04866532560378108, val_recall: 0.7331759778936522\n"
     ]
    },
    {
     "name": "stderr",
     "output_type": "stream",
     "text": [
      "100%|█████████████████████████████████████████████████████████████| 655/655 [00:09<00:00, 65.81it/s]\n"
     ]
    },
    {
     "name": "stdout",
     "output_type": "stream",
     "text": [
      "Epoch: 294, loss: 0.9453965480091008, f1: 0.08642802166175872, precision: 0.045782862130893776, recall: 0.7701734623494949\n"
     ]
    },
    {
     "name": "stderr",
     "output_type": "stream",
     "text": [
      "100%|████████████████████████████████████████████████████████████| 218/218 [00:01<00:00, 197.39it/s]\n"
     ]
    },
    {
     "name": "stdout",
     "output_type": "stream",
     "text": [
      "val_loss: 0.9408477331520221, val_f1: 0.09281711005347797, val_precision: 0.04955161743105278, val_recall: 0.731649158812991\n"
     ]
    },
    {
     "name": "stderr",
     "output_type": "stream",
     "text": [
      "100%|█████████████████████████████████████████████████████████████| 655/655 [00:09<00:00, 66.16it/s]\n"
     ]
    },
    {
     "name": "stdout",
     "output_type": "stream",
     "text": [
      "Epoch: 295, loss: 0.9419715114222228, f1: 0.09132261744455365, precision: 0.04875283572104767, recall: 0.7200707882642746\n"
     ]
    },
    {
     "name": "stderr",
     "output_type": "stream",
     "text": [
      "100%|████████████████████████████████████████████████████████████| 218/218 [00:01<00:00, 197.49it/s]\n"
     ]
    },
    {
     "name": "stdout",
     "output_type": "stream",
     "text": [
      "val_loss: 0.939153704894792, val_f1: 0.09514995057033533, val_precision: 0.0510081700268287, val_recall: 0.7068379777355478\n"
     ]
    },
    {
     "name": "stderr",
     "output_type": "stream",
     "text": [
      "100%|█████████████████████████████████████████████████████████████| 655/655 [00:09<00:00, 65.97it/s]\n"
     ]
    },
    {
     "name": "stdout",
     "output_type": "stream",
     "text": [
      "Epoch: 296, loss: 0.9405859272898609, f1: 0.09336619079584836, precision: 0.04994856040206745, recall: 0.7140647372671666\n"
     ]
    },
    {
     "name": "stderr",
     "output_type": "stream",
     "text": [
      "100%|████████████████████████████████████████████████████████████| 218/218 [00:01<00:00, 196.90it/s]\n"
     ]
    },
    {
     "name": "stdout",
     "output_type": "stream",
     "text": [
      "val_loss: 0.9409702535069316, val_f1: 0.09275551870636752, val_precision: 0.04954783526652946, val_recall: 0.724877776834396\n"
     ]
    },
    {
     "name": "stderr",
     "output_type": "stream",
     "text": [
      "100%|█████████████████████████████████████████████████████████████| 655/655 [00:09<00:00, 68.15it/s]\n"
     ]
    },
    {
     "name": "stdout",
     "output_type": "stream",
     "text": [
      "Epoch: 297, loss: 0.9425159641804586, f1: 0.09021383388568209, precision: 0.04821718935748093, recall: 0.6992727535144063\n"
     ]
    },
    {
     "name": "stderr",
     "output_type": "stream",
     "text": [
      "100%|████████████████████████████████████████████████████████████| 218/218 [00:01<00:00, 189.36it/s]\n"
     ]
    },
    {
     "name": "stdout",
     "output_type": "stream",
     "text": [
      "val_loss: 0.937900851625915, val_f1: 0.09740287442996384, val_precision: 0.052254484612879196, val_recall: 0.7162495223343919\n"
     ]
    },
    {
     "name": "stderr",
     "output_type": "stream",
     "text": [
      "100%|█████████████████████████████████████████████████████████████| 655/655 [00:09<00:00, 66.76it/s]\n"
     ]
    },
    {
     "name": "stdout",
     "output_type": "stream",
     "text": [
      "Epoch: 298, loss: 0.9422368968716105, f1: 0.09081896317546152, precision: 0.04852483010786863, recall: 0.7073004400912132\n"
     ]
    },
    {
     "name": "stderr",
     "output_type": "stream",
     "text": [
      "100%|████████████████████████████████████████████████████████████| 218/218 [00:01<00:00, 197.09it/s]\n"
     ]
    },
    {
     "name": "stdout",
     "output_type": "stream",
     "text": [
      "val_loss: 0.9410953289325085, val_f1: 0.09306206543195202, val_precision: 0.049715527892433144, val_recall: 0.7264306355233586\n"
     ]
    },
    {
     "name": "stderr",
     "output_type": "stream",
     "text": [
      "100%|█████████████████████████████████████████████████████████████| 655/655 [00:09<00:00, 66.06it/s]\n"
     ]
    },
    {
     "name": "stdout",
     "output_type": "stream",
     "text": [
      "Epoch: 299, loss: 0.9429505498354671, f1: 0.08964450490972398, precision: 0.04785148098048193, recall: 0.7080387440915327\n"
     ]
    },
    {
     "name": "stderr",
     "output_type": "stream",
     "text": [
      "100%|████████████████████████████████████████████████████████████| 218/218 [00:01<00:00, 196.24it/s]\n"
     ]
    },
    {
     "name": "stdout",
     "output_type": "stream",
     "text": [
      "val_loss: 0.9419769163525432, val_f1: 0.09034972596170453, val_precision: 0.048340222770519074, val_recall: 0.6898940674140366\n"
     ]
    },
    {
     "name": "stderr",
     "output_type": "stream",
     "text": [
      "100%|█████████████████████████████████████████████████████████████| 655/655 [00:09<00:00, 66.20it/s]\n"
     ]
    },
    {
     "name": "stdout",
     "output_type": "stream",
     "text": [
      "Epoch: 300, loss: 0.9447432661784514, f1: 0.0864134104875097, precision: 0.04606836885142759, recall: 0.6955612912319089\n"
     ]
    },
    {
     "name": "stderr",
     "output_type": "stream",
     "text": [
      "100%|████████████████████████████████████████████████████████████| 218/218 [00:01<00:00, 197.42it/s]\n"
     ]
    },
    {
     "name": "stdout",
     "output_type": "stream",
     "text": [
      "val_loss: 0.9367517025098888, val_f1: 0.09931252031674995, val_precision: 0.05339797300611272, val_recall: 0.708644342155905\n"
     ]
    },
    {
     "name": "stderr",
     "output_type": "stream",
     "text": [
      "100%|█████████████████████████████████████████████████████████████| 655/655 [00:09<00:00, 66.48it/s]\n"
     ]
    },
    {
     "name": "stdout",
     "output_type": "stream",
     "text": [
      "Epoch: 301, loss: 0.9405536090144674, f1: 0.09342554145808446, precision: 0.050089860610834515, recall: 0.692855759385888\n"
     ]
    },
    {
     "name": "stderr",
     "output_type": "stream",
     "text": [
      "100%|████████████████████████████████████████████████████████████| 218/218 [00:01<00:00, 196.61it/s]\n"
     ]
    },
    {
     "name": "stdout",
     "output_type": "stream",
     "text": [
      "val_loss: 0.9377049688899189, val_f1: 0.09717723886161449, val_precision: 0.052190107221868946, val_recall: 0.704110469053918\n"
     ]
    },
    {
     "name": "stderr",
     "output_type": "stream",
     "text": [
      "100%|█████████████████████████████████████████████████████████████| 655/655 [00:09<00:00, 66.12it/s]\n"
     ]
    },
    {
     "name": "stdout",
     "output_type": "stream",
     "text": [
      "Epoch: 302, loss: 0.9431308075671888, f1: 0.09008045908646402, precision: 0.04796705347208576, recall: 0.738154105409866\n"
     ]
    },
    {
     "name": "stderr",
     "output_type": "stream",
     "text": [
      "100%|████████████████████████████████████████████████████████████| 218/218 [00:01<00:00, 196.15it/s]\n"
     ]
    },
    {
     "name": "stdout",
     "output_type": "stream",
     "text": [
      "val_loss: 0.9368022707624173, val_f1: 0.09902214953265437, val_precision: 0.05325585979500512, val_recall: 0.7041138105026079\n"
     ]
    },
    {
     "name": "stderr",
     "output_type": "stream",
     "text": [
      "100%|█████████████████████████████████████████████████████████████| 655/655 [00:09<00:00, 65.89it/s]\n"
     ]
    },
    {
     "name": "stdout",
     "output_type": "stream",
     "text": [
      "Epoch: 303, loss: 0.9416750316401474, f1: 0.09181758226925112, precision: 0.049080277664963694, recall: 0.7104605977658097\n"
     ]
    },
    {
     "name": "stderr",
     "output_type": "stream",
     "text": [
      "100%|████████████████████████████████████████████████████████████| 218/218 [00:01<00:00, 196.50it/s]\n"
     ]
    },
    {
     "name": "stdout",
     "output_type": "stream",
     "text": [
      "val_loss: 0.9405645099254923, val_f1: 0.09338201318365419, val_precision: 0.04998590109000461, val_recall: 0.7083358931773847\n"
     ]
    },
    {
     "name": "stderr",
     "output_type": "stream",
     "text": [
      "100%|█████████████████████████████████████████████████████████████| 655/655 [00:09<00:00, 66.02it/s]\n"
     ]
    },
    {
     "name": "stdout",
     "output_type": "stream",
     "text": [
      "Epoch: 304, loss: 0.9417787452690474, f1: 0.09215564176518175, precision: 0.049235462118917724, recall: 0.7184675632201079\n"
     ]
    },
    {
     "name": "stderr",
     "output_type": "stream",
     "text": [
      "100%|████████████████████████████████████████████████████████████| 218/218 [00:01<00:00, 196.21it/s]\n"
     ]
    },
    {
     "name": "stdout",
     "output_type": "stream",
     "text": [
      "val_loss: 0.944837364308331, val_f1: 0.08786001003409316, val_precision: 0.04658067191378513, val_recall: 0.771990306812142\n"
     ]
    },
    {
     "name": "stderr",
     "output_type": "stream",
     "text": [
      "100%|█████████████████████████████████████████████████████████████| 655/655 [00:09<00:00, 66.44it/s]\n"
     ]
    },
    {
     "name": "stdout",
     "output_type": "stream",
     "text": [
      "Epoch: 305, loss: 0.9465449143002052, f1: 0.08479400410982567, precision: 0.04490489469563859, recall: 0.7591365283227148\n"
     ]
    },
    {
     "name": "stderr",
     "output_type": "stream",
     "text": [
      "100%|████████████████████████████████████████████████████████████| 218/218 [00:01<00:00, 194.13it/s]\n"
     ]
    },
    {
     "name": "stdout",
     "output_type": "stream",
     "text": [
      "val_loss: 0.9421762143253186, val_f1: 0.0911793105078708, val_precision: 0.04858731406627633, val_recall: 0.7389362955107055\n"
     ]
    },
    {
     "name": "stderr",
     "output_type": "stream",
     "text": [
      "100%|█████████████████████████████████████████████████████████████| 655/655 [00:09<00:00, 66.12it/s]\n"
     ]
    },
    {
     "name": "stdout",
     "output_type": "stream",
     "text": [
      "Epoch: 306, loss: 0.9412467335926668, f1: 0.09290937547224112, precision: 0.04970905583881496, recall: 0.7095751291126695\n"
     ]
    },
    {
     "name": "stderr",
     "output_type": "stream",
     "text": [
      "100%|████████████████████████████████████████████████████████████| 218/218 [00:01<00:00, 197.31it/s]\n"
     ]
    },
    {
     "name": "stdout",
     "output_type": "stream",
     "text": [
      "val_loss: 0.9370304709727612, val_f1: 0.09838560426482874, val_precision: 0.0531159005963047, val_recall: 0.6660347712832854\n"
     ]
    },
    {
     "name": "stderr",
     "output_type": "stream",
     "text": [
      "100%|█████████████████████████████████████████████████████████████| 655/655 [00:09<00:00, 66.17it/s]\n"
     ]
    },
    {
     "name": "stdout",
     "output_type": "stream",
     "text": [
      "Epoch: 307, loss: 0.9414077593170049, f1: 0.0923379044745483, precision: 0.04955434170622691, recall: 0.6758076305152806\n"
     ]
    },
    {
     "name": "stderr",
     "output_type": "stream",
     "text": [
      "100%|████████████████████████████████████████████████████████████| 218/218 [00:01<00:00, 196.16it/s]\n"
     ]
    },
    {
     "name": "stdout",
     "output_type": "stream",
     "text": [
      "val_loss: 0.9419976522069459, val_f1: 0.09107208531654405, val_precision: 0.048742088308737296, val_recall: 0.6922926416090869\n"
     ]
    },
    {
     "name": "stderr",
     "output_type": "stream",
     "text": [
      "100%|█████████████████████████████████████████████████████████████| 655/655 [00:09<00:00, 66.58it/s]\n"
     ]
    },
    {
     "name": "stdout",
     "output_type": "stream",
     "text": [
      "Epoch: 308, loss: 0.9411352226752361, f1: 0.09266906593165436, precision: 0.04960093177990092, recall: 0.7035993274272854\n"
     ]
    },
    {
     "name": "stderr",
     "output_type": "stream",
     "text": [
      "100%|████████████████████████████████████████████████████████████| 218/218 [00:01<00:00, 196.43it/s]\n"
     ]
    },
    {
     "name": "stdout",
     "output_type": "stream",
     "text": [
      "val_loss: 0.9373438514153892, val_f1: 0.0984523553443147, val_precision: 0.05293865976086177, val_recall: 0.7019475943178212\n"
     ]
    },
    {
     "name": "stderr",
     "output_type": "stream",
     "text": [
      "100%|█████████████████████████████████████████████████████████████| 655/655 [00:09<00:00, 70.09it/s]\n"
     ]
    },
    {
     "name": "stdout",
     "output_type": "stream",
     "text": [
      "Epoch: 309, loss: 0.941030626988593, f1: 0.09270884817231832, precision: 0.049618257862650825, recall: 0.7047006449740352\n"
     ]
    },
    {
     "name": "stderr",
     "output_type": "stream",
     "text": [
      "100%|████████████████████████████████████████████████████████████| 218/218 [00:01<00:00, 196.67it/s]\n"
     ]
    },
    {
     "name": "stdout",
     "output_type": "stream",
     "text": [
      "val_loss: 0.9351471050069966, val_f1: 0.10160070295525163, val_precision: 0.05484976500930658, val_recall: 0.6880965154925618\n"
     ]
    },
    {
     "name": "stderr",
     "output_type": "stream",
     "text": [
      "100%|█████████████████████████████████████████████████████████████| 655/655 [00:09<00:00, 66.04it/s]\n"
     ]
    },
    {
     "name": "stdout",
     "output_type": "stream",
     "text": [
      "Epoch: 310, loss: 0.9389829145133041, f1: 0.09585064423058574, precision: 0.05151146620775054, recall: 0.6884005625511854\n"
     ]
    },
    {
     "name": "stderr",
     "output_type": "stream",
     "text": [
      "100%|████████████████████████████████████████████████████████████| 218/218 [00:01<00:00, 198.08it/s]\n"
     ]
    },
    {
     "name": "stdout",
     "output_type": "stream",
     "text": [
      "val_loss: 0.9341944149874766, val_f1: 0.10246063204203973, val_precision: 0.05542639370659503, val_recall: 0.6767061713980426\n"
     ]
    },
    {
     "name": "stderr",
     "output_type": "stream",
     "text": [
      "100%|█████████████████████████████████████████████████████████████| 655/655 [00:09<00:00, 66.39it/s]\n"
     ]
    },
    {
     "name": "stdout",
     "output_type": "stream",
     "text": [
      "Epoch: 311, loss: 0.939273377593237, f1: 0.09526823355180623, precision: 0.05119068292680531, recall: 0.6856115885135782\n"
     ]
    },
    {
     "name": "stderr",
     "output_type": "stream",
     "text": [
      "100%|████████████████████████████████████████████████████████████| 218/218 [00:01<00:00, 195.64it/s]\n"
     ]
    },
    {
     "name": "stdout",
     "output_type": "stream",
     "text": [
      "val_loss: 0.936321000440405, val_f1: 0.09996335235121108, val_precision: 0.05380673327273903, val_recall: 0.7030877318199075\n"
     ]
    },
    {
     "name": "stderr",
     "output_type": "stream",
     "text": [
      "100%|█████████████████████████████████████████████████████████████| 655/655 [00:09<00:00, 66.38it/s]\n"
     ]
    },
    {
     "name": "stdout",
     "output_type": "stream",
     "text": [
      "Epoch: 312, loss: 0.9379186246231312, f1: 0.097341688077065, precision: 0.052396184992656566, recall: 0.6845458118856408\n"
     ]
    },
    {
     "name": "stderr",
     "output_type": "stream",
     "text": [
      "100%|████████████████████████████████████████████████████████████| 218/218 [00:01<00:00, 195.46it/s]\n"
     ]
    },
    {
     "name": "stdout",
     "output_type": "stream",
     "text": [
      "val_loss: 0.9347564304640533, val_f1: 0.10169331818048719, val_precision: 0.05488897348410202, val_recall: 0.6904264860743776\n"
     ]
    },
    {
     "name": "stderr",
     "output_type": "stream",
     "text": [
      "100%|█████████████████████████████████████████████████████████████| 655/655 [00:09<00:00, 66.09it/s]\n"
     ]
    },
    {
     "name": "stdout",
     "output_type": "stream",
     "text": [
      "Epoch: 313, loss: 0.9379386184779742, f1: 0.09743667804745039, precision: 0.05244776225286244, recall: 0.6851375415124966\n"
     ]
    },
    {
     "name": "stderr",
     "output_type": "stream",
     "text": [
      "100%|████████████████████████████████████████████████████████████| 218/218 [00:01<00:00, 196.70it/s]\n"
     ]
    },
    {
     "name": "stdout",
     "output_type": "stream",
     "text": [
      "val_loss: 0.9355342902174784, val_f1: 0.10089234953123359, val_precision: 0.05439479060048118, val_recall: 0.6949293696142118\n"
     ]
    },
    {
     "name": "stderr",
     "output_type": "stream",
     "text": [
      "100%|█████████████████████████████████████████████████████████████| 655/655 [00:09<00:00, 66.21it/s]\n"
     ]
    },
    {
     "name": "stdout",
     "output_type": "stream",
     "text": [
      "Epoch: 314, loss: 0.9385321699025977, f1: 0.09664675597838025, precision: 0.051911495269439716, recall: 0.6991239728135917\n"
     ]
    },
    {
     "name": "stderr",
     "output_type": "stream",
     "text": [
      "100%|████████████████████████████████████████████████████████████| 218/218 [00:01<00:00, 194.49it/s]\n"
     ]
    },
    {
     "name": "stdout",
     "output_type": "stream",
     "text": [
      "val_loss: 0.9377013242572819, val_f1: 0.09772318520109394, val_precision: 0.052389718353996105, val_recall: 0.7255538077597771\n"
     ]
    },
    {
     "name": "stderr",
     "output_type": "stream",
     "text": [
      "100%|█████████████████████████████████████████████████████████████| 655/655 [00:09<00:00, 66.36it/s]\n"
     ]
    },
    {
     "name": "stdout",
     "output_type": "stream",
     "text": [
      "Epoch: 315, loss: 0.9382912916991547, f1: 0.09674818500885028, precision: 0.05207526990361796, recall: 0.6806196114944137\n"
     ]
    },
    {
     "name": "stderr",
     "output_type": "stream",
     "text": [
      "100%|████████████████████████████████████████████████████████████| 218/218 [00:01<00:00, 196.10it/s]\n"
     ]
    },
    {
     "name": "stdout",
     "output_type": "stream",
     "text": [
      "val_loss: 0.9371323210930605, val_f1: 0.09896068649648906, val_precision: 0.05340039095127904, val_recall: 0.6740401836983655\n"
     ]
    },
    {
     "name": "stderr",
     "output_type": "stream",
     "text": [
      "100%|█████████████████████████████████████████████████████████████| 655/655 [00:09<00:00, 65.84it/s]\n"
     ]
    },
    {
     "name": "stdout",
     "output_type": "stream",
     "text": [
      "Epoch: 316, loss: 0.9389201158785638, f1: 0.09578664487426759, precision: 0.05149945729867136, recall: 0.6839677961159298\n"
     ]
    },
    {
     "name": "stderr",
     "output_type": "stream",
     "text": [
      "100%|████████████████████████████████████████████████████████████| 218/218 [00:01<00:00, 196.02it/s]\n"
     ]
    },
    {
     "name": "stdout",
     "output_type": "stream",
     "text": [
      "val_loss: 0.9401193851724677, val_f1: 0.09443962993228891, val_precision: 0.05052261573044634, val_recall: 0.7223168264288421\n"
     ]
    },
    {
     "name": "stderr",
     "output_type": "stream",
     "text": [
      "100%|█████████████████████████████████████████████████████████████| 655/655 [00:09<00:00, 66.11it/s]\n"
     ]
    },
    {
     "name": "stdout",
     "output_type": "stream",
     "text": [
      "Epoch: 317, loss: 0.9426775926852045, f1: 0.09040742611757795, precision: 0.04831174785121991, recall: 0.7026531339203583\n"
     ]
    },
    {
     "name": "stderr",
     "output_type": "stream",
     "text": [
      "100%|████████████████████████████████████████████████████████████| 218/218 [00:01<00:00, 198.19it/s]\n"
     ]
    },
    {
     "name": "stdout",
     "output_type": "stream",
     "text": [
      "val_loss: 0.9372997434314237, val_f1: 0.09805722099747106, val_precision: 0.05273367355176068, val_recall: 0.6978177439182176\n"
     ]
    },
    {
     "name": "stderr",
     "output_type": "stream",
     "text": [
      "100%|█████████████████████████████████████████████████████████████| 655/655 [00:09<00:00, 66.93it/s]\n"
     ]
    },
    {
     "name": "stdout",
     "output_type": "stream",
     "text": [
      "Epoch: 318, loss: 0.9414465835076252, f1: 0.09186330439542394, precision: 0.049200897179686155, recall: 0.6912539468694279\n"
     ]
    },
    {
     "name": "stderr",
     "output_type": "stream",
     "text": [
      "100%|████████████████████████████████████████████████████████████| 218/218 [00:01<00:00, 195.07it/s]\n"
     ]
    },
    {
     "name": "stdout",
     "output_type": "stream",
     "text": [
      "val_loss: 0.9362793802668196, val_f1: 0.0997104868897116, val_precision: 0.0537754076617394, val_recall: 0.6838963604574904\n"
     ]
    },
    {
     "name": "stderr",
     "output_type": "stream",
     "text": [
      "100%|█████████████████████████████████████████████████████████████| 655/655 [00:09<00:00, 65.95it/s]\n"
     ]
    },
    {
     "name": "stdout",
     "output_type": "stream",
     "text": [
      "Epoch: 319, loss: 0.9402288150241357, f1: 0.09378658147238585, precision: 0.05034835704758706, recall: 0.6833443796247927\n"
     ]
    },
    {
     "name": "stderr",
     "output_type": "stream",
     "text": [
      "100%|████████████████████████████████████████████████████████████| 218/218 [00:01<00:00, 197.20it/s]\n"
     ]
    },
    {
     "name": "stdout",
     "output_type": "stream",
     "text": [
      "val_loss: 0.9338180318884893, val_f1: 0.10339368902018846, val_precision: 0.05591341237368814, val_recall: 0.6855212767873335\n"
     ]
    },
    {
     "name": "stderr",
     "output_type": "stream",
     "text": [
      "100%|█████████████████████████████████████████████████████████████| 655/655 [00:09<00:00, 70.90it/s]\n"
     ]
    },
    {
     "name": "stdout",
     "output_type": "stream",
     "text": [
      "Epoch: 320, loss: 0.9395840493777327, f1: 0.09490176960950931, precision: 0.05105425989475698, recall: 0.6723057535085969\n"
     ]
    },
    {
     "name": "stderr",
     "output_type": "stream",
     "text": [
      "100%|████████████████████████████████████████████████████████████| 218/218 [00:01<00:00, 197.63it/s]\n"
     ]
    },
    {
     "name": "stdout",
     "output_type": "stream",
     "text": [
      "val_loss: 0.9339718785854655, val_f1: 0.10328776846792026, val_precision: 0.05580797158566158, val_recall: 0.6921421623694788\n"
     ]
    },
    {
     "name": "stderr",
     "output_type": "stream",
     "text": [
      "100%|█████████████████████████████████████████████████████████████| 655/655 [00:09<00:00, 65.68it/s]\n"
     ]
    },
    {
     "name": "stdout",
     "output_type": "stream",
     "text": [
      "Epoch: 321, loss: 0.9380191425330766, f1: 0.0972992625963662, precision: 0.05232001368688661, recall: 0.6934834319216604\n"
     ]
    },
    {
     "name": "stderr",
     "output_type": "stream",
     "text": [
      "100%|████████████████████████████████████████████████████████████| 218/218 [00:01<00:00, 196.70it/s]\n"
     ]
    },
    {
     "name": "stdout",
     "output_type": "stream",
     "text": [
      "val_loss: 0.9352125418842385, val_f1: 0.10211195434949588, val_precision: 0.05497327741179957, val_recall: 0.7164920294366846\n"
     ]
    },
    {
     "name": "stderr",
     "output_type": "stream",
     "text": [
      "100%|█████████████████████████████████████████████████████████████| 655/655 [00:09<00:00, 65.97it/s]\n"
     ]
    },
    {
     "name": "stdout",
     "output_type": "stream",
     "text": [
      "Epoch: 322, loss: 0.9368572054928496, f1: 0.09918769236018966, precision: 0.053450607729876656, recall: 0.6873178919080559\n"
     ]
    },
    {
     "name": "stderr",
     "output_type": "stream",
     "text": [
      "100%|████████████████████████████████████████████████████████████| 218/218 [00:01<00:00, 196.91it/s]\n"
     ]
    },
    {
     "name": "stdout",
     "output_type": "stream",
     "text": [
      "val_loss: 0.9367938506493875, val_f1: 0.09947351166214248, val_precision: 0.053645762309983136, val_recall: 0.6825688818315847\n"
     ]
    },
    {
     "name": "stderr",
     "output_type": "stream",
     "text": [
      "100%|█████████████████████████████████████████████████████████████| 655/655 [00:09<00:00, 66.89it/s]\n"
     ]
    },
    {
     "name": "stdout",
     "output_type": "stream",
     "text": [
      "Epoch: 323, loss: 0.9377567982855644, f1: 0.09768760041831878, precision: 0.05263116634664133, recall: 0.6787582928329023\n"
     ]
    },
    {
     "name": "stderr",
     "output_type": "stream",
     "text": [
      "100%|████████████████████████████████████████████████████████████| 218/218 [00:01<00:00, 196.05it/s]\n"
     ]
    },
    {
     "name": "stdout",
     "output_type": "stream",
     "text": [
      "val_loss: 0.9346828750514109, val_f1: 0.10195155611083873, val_precision: 0.05519565865675141, val_recall: 0.6667585913262782\n"
     ]
    },
    {
     "name": "stderr",
     "output_type": "stream",
     "text": [
      "100%|█████████████████████████████████████████████████████████████| 655/655 [00:09<00:00, 66.78it/s]\n"
     ]
    },
    {
     "name": "stdout",
     "output_type": "stream",
     "text": [
      "Epoch: 324, loss: 0.9371468120858869, f1: 0.09821882335261584, precision: 0.052956179404659694, recall: 0.6760602663946516\n"
     ]
    },
    {
     "name": "stderr",
     "output_type": "stream",
     "text": [
      "100%|████████████████████████████████████████████████████████████| 218/218 [00:01<00:00, 197.00it/s]\n"
     ]
    },
    {
     "name": "stdout",
     "output_type": "stream",
     "text": [
      "val_loss: 0.9347194673818185, val_f1: 0.10168758200337827, val_precision: 0.055086725372223, val_recall: 0.660113427924727\n"
     ]
    },
    {
     "name": "stderr",
     "output_type": "stream",
     "text": [
      "100%|█████████████████████████████████████████████████████████████| 655/655 [00:09<00:00, 66.23it/s]\n"
     ]
    },
    {
     "name": "stdout",
     "output_type": "stream",
     "text": [
      "Epoch: 325, loss: 0.9362249782067219, f1: 0.0997763259562658, precision: 0.05392487482683207, recall: 0.6664367051126848\n"
     ]
    },
    {
     "name": "stderr",
     "output_type": "stream",
     "text": [
      "100%|████████████████████████████████████████████████████████████| 218/218 [00:01<00:00, 196.23it/s]\n"
     ]
    },
    {
     "name": "stdout",
     "output_type": "stream",
     "text": [
      "val_loss: 0.9354610467722656, val_f1: 0.10102622381629374, val_precision: 0.05449494544882327, val_recall: 0.6913170150797302\n"
     ]
    },
    {
     "name": "stderr",
     "output_type": "stream",
     "text": [
      "100%|█████████████████████████████████████████████████████████████| 655/655 [00:09<00:00, 66.03it/s]\n"
     ]
    },
    {
     "name": "stdout",
     "output_type": "stream",
     "text": [
      "Epoch: 326, loss: 0.9375571959801302, f1: 0.09773746287707273, precision: 0.05270070217635113, recall: 0.6720866722346263\n"
     ]
    },
    {
     "name": "stderr",
     "output_type": "stream",
     "text": [
      "100%|████████████████████████████████████████████████████████████| 218/218 [00:01<00:00, 196.92it/s]\n"
     ]
    },
    {
     "name": "stdout",
     "output_type": "stream",
     "text": [
      "val_loss: 0.934388424551815, val_f1: 0.10255335008205187, val_precision: 0.05550471967227176, val_recall: 0.6731474528072077\n"
     ]
    },
    {
     "name": "stderr",
     "output_type": "stream",
     "text": [
      "100%|█████████████████████████████████████████████████████████████| 655/655 [00:09<00:00, 65.79it/s]\n"
     ]
    },
    {
     "name": "stdout",
     "output_type": "stream",
     "text": [
      "Epoch: 327, loss: 0.9351167866291891, f1: 0.10130132951367485, precision: 0.05479827468045312, recall: 0.6691972223060731\n"
     ]
    },
    {
     "name": "stderr",
     "output_type": "stream",
     "text": [
      "100%|████████████████████████████████████████████████████████████| 218/218 [00:01<00:00, 197.76it/s]\n"
     ]
    },
    {
     "name": "stdout",
     "output_type": "stream",
     "text": [
      "val_loss: 0.9348139393767085, val_f1: 0.10169212347220696, val_precision: 0.05499454388510299, val_recall: 0.6740431495420977\n"
     ]
    },
    {
     "name": "stderr",
     "output_type": "stream",
     "text": [
      "100%|█████████████████████████████████████████████████████████████| 655/655 [00:09<00:00, 65.90it/s]\n"
     ]
    },
    {
     "name": "stdout",
     "output_type": "stream",
     "text": [
      "Epoch: 328, loss: 0.9345223505988376, f1: 0.10247656599799512, precision: 0.05548494214810545, recall: 0.6694564051755512\n"
     ]
    },
    {
     "name": "stderr",
     "output_type": "stream",
     "text": [
      "100%|████████████████████████████████████████████████████████████| 218/218 [00:01<00:00, 196.67it/s]\n"
     ]
    },
    {
     "name": "stdout",
     "output_type": "stream",
     "text": [
      "val_loss: 0.9347159427787186, val_f1: 0.10171093170136612, val_precision: 0.05488381334131908, val_recall: 0.6928751557860353\n"
     ]
    },
    {
     "name": "stderr",
     "output_type": "stream",
     "text": [
      "100%|█████████████████████████████████████████████████████████████| 655/655 [00:09<00:00, 66.29it/s]\n"
     ]
    },
    {
     "name": "stdout",
     "output_type": "stream",
     "text": [
      "Epoch: 329, loss: 0.9367372962354704, f1: 0.0994659109270011, precision: 0.05365185405568483, recall: 0.6808712207065284\n"
     ]
    },
    {
     "name": "stderr",
     "output_type": "stream",
     "text": [
      "100%|████████████████████████████████████████████████████████████| 218/218 [00:01<00:00, 197.12it/s]\n"
     ]
    },
    {
     "name": "stdout",
     "output_type": "stream",
     "text": [
      "val_loss: 0.9340779770404921, val_f1: 0.10294342712936995, val_precision: 0.05575399673458428, val_recall: 0.6701457227725501\n"
     ]
    },
    {
     "name": "stderr",
     "output_type": "stream",
     "text": [
      "100%|█████████████████████████████████████████████████████████████| 655/655 [00:09<00:00, 66.34it/s]\n"
     ]
    },
    {
     "name": "stdout",
     "output_type": "stream",
     "text": [
      "Epoch: 330, loss: 0.9364005124295941, f1: 0.09959615017085018, precision: 0.05374752346333827, recall: 0.6776954533830853\n"
     ]
    },
    {
     "name": "stderr",
     "output_type": "stream",
     "text": [
      "100%|████████████████████████████████████████████████████████████| 218/218 [00:01<00:00, 196.95it/s]\n"
     ]
    },
    {
     "name": "stdout",
     "output_type": "stream",
     "text": [
      "val_loss: 0.9359871168202216, val_f1: 0.10130595073333266, val_precision: 0.054545872547843176, val_recall: 0.709731238697647\n"
     ]
    },
    {
     "name": "stderr",
     "output_type": "stream",
     "text": [
      "100%|█████████████████████████████████████████████████████████████| 655/655 [00:09<00:00, 66.82it/s]\n"
     ]
    },
    {
     "name": "stdout",
     "output_type": "stream",
     "text": [
      "Epoch: 331, loss: 0.9383775171432787, f1: 0.09725739424980943, precision: 0.05214092853223151, recall: 0.7219186686036241\n"
     ]
    },
    {
     "name": "stderr",
     "output_type": "stream",
     "text": [
      "100%|████████████████████████████████████████████████████████████| 218/218 [00:01<00:00, 190.07it/s]\n"
     ]
    },
    {
     "name": "stdout",
     "output_type": "stream",
     "text": [
      "val_loss: 0.9357755840371508, val_f1: 0.10058589827678097, val_precision: 0.05407024051624547, val_recall: 0.7199211244667889\n"
     ]
    },
    {
     "name": "stderr",
     "output_type": "stream",
     "text": [
      "100%|█████████████████████████████████████████████████████████████| 655/655 [00:09<00:00, 67.92it/s]\n"
     ]
    },
    {
     "name": "stdout",
     "output_type": "stream",
     "text": [
      "Epoch: 332, loss: 0.9373411393347587, f1: 0.09815679186264786, precision: 0.05286041527368015, recall: 0.685957462152907\n"
     ]
    },
    {
     "name": "stderr",
     "output_type": "stream",
     "text": [
      "100%|████████████████████████████████████████████████████████████| 218/218 [00:01<00:00, 196.37it/s]\n"
     ]
    },
    {
     "name": "stdout",
     "output_type": "stream",
     "text": [
      "val_loss: 0.9335541640399793, val_f1: 0.10369226547506881, val_precision: 0.056071634957601035, val_recall: 0.6879886170729584\n"
     ]
    },
    {
     "name": "stderr",
     "output_type": "stream",
     "text": [
      "100%|█████████████████████████████████████████████████████████████| 655/655 [00:09<00:00, 66.13it/s]\n"
     ]
    },
    {
     "name": "stdout",
     "output_type": "stream",
     "text": [
      "Epoch: 333, loss: 0.9367845185840403, f1: 0.09932638176303608, precision: 0.05356700094807751, recall: 0.681464555825441\n"
     ]
    },
    {
     "name": "stderr",
     "output_type": "stream",
     "text": [
      "100%|████████████████████████████████████████████████████████████| 218/218 [00:01<00:00, 198.42it/s]\n"
     ]
    },
    {
     "name": "stdout",
     "output_type": "stream",
     "text": [
      "val_loss: 0.9348783277043509, val_f1: 0.10232844513791346, val_precision: 0.05512824993251626, val_recall: 0.7115475728834441\n"
     ]
    },
    {
     "name": "stderr",
     "output_type": "stream",
     "text": [
      "100%|█████████████████████████████████████████████████████████████| 655/655 [00:09<00:00, 66.78it/s]\n"
     ]
    },
    {
     "name": "stdout",
     "output_type": "stream",
     "text": [
      "Epoch: 334, loss: 0.9398608228632512, f1: 0.09491054027004778, precision: 0.05080458972183632, recall: 0.7198314364629848\n"
     ]
    },
    {
     "name": "stderr",
     "output_type": "stream",
     "text": [
      "100%|████████████████████████████████████████████████████████████| 218/218 [00:01<00:00, 196.19it/s]\n"
     ]
    },
    {
     "name": "stdout",
     "output_type": "stream",
     "text": [
      "val_loss: 0.935306441073024, val_f1: 0.10207149444968172, val_precision: 0.05473870797020836, val_recall: 0.7544316711639045\n"
     ]
    },
    {
     "name": "stderr",
     "output_type": "stream",
     "text": [
      "100%|█████████████████████████████████████████████████████████████| 655/655 [00:09<00:00, 66.31it/s]\n"
     ]
    },
    {
     "name": "stdout",
     "output_type": "stream",
     "text": [
      "Epoch: 335, loss: 0.9394238844172645, f1: 0.09521949339833762, precision: 0.051078452646220456, recall: 0.701077643764838\n"
     ]
    },
    {
     "name": "stderr",
     "output_type": "stream",
     "text": [
      "100%|████████████████████████████████████████████████████████████| 218/218 [00:01<00:00, 196.86it/s]\n"
     ]
    },
    {
     "name": "stdout",
     "output_type": "stream",
     "text": [
      "val_loss: 0.9365904377687961, val_f1: 0.0989735922961592, val_precision: 0.053278755014249626, val_recall: 0.6953121015989999\n"
     ]
    },
    {
     "name": "stderr",
     "output_type": "stream",
     "text": [
      "100%|█████████████████████████████████████████████████████████████| 655/655 [00:09<00:00, 66.27it/s]\n"
     ]
    },
    {
     "name": "stdout",
     "output_type": "stream",
     "text": [
      "Epoch: 336, loss: 0.9392713669602197, f1: 0.09543790894664798, precision: 0.051189937777035226, recall: 0.7037574360161337\n"
     ]
    },
    {
     "name": "stderr",
     "output_type": "stream",
     "text": [
      "100%|████████████████████████████████████████████████████████████| 218/218 [00:01<00:00, 195.87it/s]\n"
     ]
    },
    {
     "name": "stdout",
     "output_type": "stream",
     "text": [
      "val_loss: 0.9356866604691252, val_f1: 0.10050331118036099, val_precision: 0.054228020715527236, val_recall: 0.6853112665543316\n"
     ]
    },
    {
     "name": "stderr",
     "output_type": "stream",
     "text": [
      "100%|█████████████████████████████████████████████████████████████| 655/655 [00:09<00:00, 66.16it/s]\n"
     ]
    },
    {
     "name": "stdout",
     "output_type": "stream",
     "text": [
      "Epoch: 337, loss: 0.9395022454152581, f1: 0.09485233420989948, precision: 0.050887663635062697, recall: 0.6972148659233829\n"
     ]
    },
    {
     "name": "stderr",
     "output_type": "stream",
     "text": [
      "100%|████████████████████████████████████████████████████████████| 218/218 [00:01<00:00, 197.63it/s]\n"
     ]
    },
    {
     "name": "stdout",
     "output_type": "stream",
     "text": [
      "val_loss: 0.9371618144555923, val_f1: 0.09902321198775263, val_precision: 0.05311361855855041, val_recall: 0.7300753419825791\n"
     ]
    },
    {
     "name": "stderr",
     "output_type": "stream",
     "text": [
      "100%|█████████████████████████████████████████████████████████████| 655/655 [00:09<00:00, 65.99it/s]\n"
     ]
    },
    {
     "name": "stdout",
     "output_type": "stream",
     "text": [
      "Epoch: 338, loss: 0.9383259605815393, f1: 0.09713583591023658, precision: 0.05221319583756494, recall: 0.6956633467710656\n"
     ]
    },
    {
     "name": "stderr",
     "output_type": "stream",
     "text": [
      "100%|████████████████████████████████████████████████████████████| 218/218 [00:01<00:00, 195.88it/s]\n"
     ]
    },
    {
     "name": "stdout",
     "output_type": "stream",
     "text": [
      "val_loss: 0.9363970283521424, val_f1: 0.09943161040722252, val_precision: 0.0536733199975778, val_recall: 0.6742646485362032\n"
     ]
    },
    {
     "name": "stderr",
     "output_type": "stream",
     "text": [
      "100%|█████████████████████████████████████████████████████████████| 655/655 [00:09<00:00, 66.05it/s]\n"
     ]
    },
    {
     "name": "stdout",
     "output_type": "stream",
     "text": [
      "Epoch: 339, loss: 0.9376372595779768, f1: 0.09780168893490933, precision: 0.052759093718375755, recall: 0.6686878084795166\n"
     ]
    },
    {
     "name": "stderr",
     "output_type": "stream",
     "text": [
      "100%|████████████████████████████████████████████████████████████| 218/218 [00:01<00:00, 196.36it/s]\n"
     ]
    },
    {
     "name": "stdout",
     "output_type": "stream",
     "text": [
      "val_loss: 0.9336384994174363, val_f1: 0.104040258315857, val_precision: 0.05640592418265008, val_recall: 0.6690334237496788\n"
     ]
    },
    {
     "name": "stderr",
     "output_type": "stream",
     "text": [
      "100%|█████████████████████████████████████████████████████████████| 655/655 [00:09<00:00, 66.20it/s]\n"
     ]
    },
    {
     "name": "stdout",
     "output_type": "stream",
     "text": [
      "Epoch: 340, loss: 0.9366408353543464, f1: 0.09937053252717676, precision: 0.053648671585327115, recall: 0.6725399791398121\n"
     ]
    },
    {
     "name": "stderr",
     "output_type": "stream",
     "text": [
      "100%|████████████████████████████████████████████████████████████| 218/218 [00:01<00:00, 198.46it/s]\n"
     ]
    },
    {
     "name": "stdout",
     "output_type": "stream",
     "text": [
      "val_loss: 0.9330181238848135, val_f1: 0.1047731100331407, val_precision: 0.05663907924323095, val_recall: 0.6977329422984648\n"
     ]
    },
    {
     "name": "stderr",
     "output_type": "stream",
     "text": [
      "100%|█████████████████████████████████████████████████████████████| 655/655 [00:09<00:00, 66.61it/s]\n"
     ]
    },
    {
     "name": "stdout",
     "output_type": "stream",
     "text": [
      "Epoch: 341, loss: 0.9383316726174973, f1: 0.09679329965274872, precision: 0.052048481287761725, recall: 0.6897832360317688\n"
     ]
    },
    {
     "name": "stderr",
     "output_type": "stream",
     "text": [
      "100%|████████████████████████████████████████████████████████████| 218/218 [00:01<00:00, 196.75it/s]\n"
     ]
    },
    {
     "name": "stdout",
     "output_type": "stream",
     "text": [
      "val_loss: 0.9353405010262761, val_f1: 0.10129728906946192, val_precision: 0.05472180626190635, val_recall: 0.6804505932495135\n"
     ]
    },
    {
     "name": "stderr",
     "output_type": "stream",
     "text": [
      "100%|█████████████████████████████████████████████████████████████| 655/655 [00:09<00:00, 65.80it/s]\n"
     ]
    },
    {
     "name": "stdout",
     "output_type": "stream",
     "text": [
      "Epoch: 342, loss: 0.9372400918079696, f1: 0.09836299305927568, precision: 0.05303365072299449, recall: 0.6770949910273989\n"
     ]
    },
    {
     "name": "stderr",
     "output_type": "stream",
     "text": [
      "100%|████████████████████████████████████████████████████████████| 218/218 [00:01<00:00, 196.62it/s]\n"
     ]
    },
    {
     "name": "stdout",
     "output_type": "stream",
     "text": [
      "val_loss: 0.93379419713939, val_f1: 0.10397103695755969, val_precision: 0.056186191264514324, val_recall: 0.6953334461453311\n"
     ]
    },
    {
     "name": "stderr",
     "output_type": "stream",
     "text": [
      "100%|█████████████████████████████████████████████████████████████| 655/655 [00:09<00:00, 71.66it/s]\n"
     ]
    },
    {
     "name": "stdout",
     "output_type": "stream",
     "text": [
      "Epoch: 343, loss: 0.9369202510091185, f1: 0.09898807877679047, precision: 0.053332991122787124, recall: 0.6876005081502536\n"
     ]
    },
    {
     "name": "stderr",
     "output_type": "stream",
     "text": [
      "100%|████████████████████████████████████████████████████████████| 218/218 [00:01<00:00, 196.28it/s]\n"
     ]
    },
    {
     "name": "stdout",
     "output_type": "stream",
     "text": [
      "val_loss: 0.9344967907175011, val_f1: 0.10269814744175414, val_precision: 0.055493646252199734, val_recall: 0.6875370887851496\n"
     ]
    },
    {
     "name": "stderr",
     "output_type": "stream",
     "text": [
      "100%|█████████████████████████████████████████████████████████████| 655/655 [00:09<00:00, 65.90it/s]\n"
     ]
    },
    {
     "name": "stdout",
     "output_type": "stream",
     "text": [
      "Epoch: 344, loss: 0.939001580959058, f1: 0.09600572103723311, precision: 0.05153978852562265, recall: 0.6994932537087958\n"
     ]
    },
    {
     "name": "stderr",
     "output_type": "stream",
     "text": [
      "100%|████████████████████████████████████████████████████████████| 218/218 [00:01<00:00, 197.52it/s]\n"
     ]
    },
    {
     "name": "stdout",
     "output_type": "stream",
     "text": [
      "val_loss: 0.9342211547794692, val_f1: 0.1043149311132054, val_precision: 0.05633547191706768, val_recall: 0.7032817048661479\n"
     ]
    },
    {
     "name": "stderr",
     "output_type": "stream",
     "text": [
      "100%|█████████████████████████████████████████████████████████████| 655/655 [00:09<00:00, 66.07it/s]\n"
     ]
    },
    {
     "name": "stdout",
     "output_type": "stream",
     "text": [
      "Epoch: 345, loss: 0.9387736109376864, f1: 0.09646433534805039, precision: 0.05177915950433728, recall: 0.7040955329783091\n"
     ]
    },
    {
     "name": "stderr",
     "output_type": "stream",
     "text": [
      "100%|████████████████████████████████████████████████████████████| 218/218 [00:01<00:00, 194.07it/s]\n"
     ]
    },
    {
     "name": "stdout",
     "output_type": "stream",
     "text": [
      "val_loss: 0.9335105602347523, val_f1: 0.10461362759495196, val_precision: 0.056538989091368924, val_recall: 0.6987835260432794\n"
     ]
    },
    {
     "name": "stderr",
     "output_type": "stream",
     "text": [
      "100%|█████████████████████████████████████████████████████████████| 655/655 [00:09<00:00, 66.10it/s]\n"
     ]
    },
    {
     "name": "stdout",
     "output_type": "stream",
     "text": [
      "Epoch: 346, loss: 0.9356484950953767, f1: 0.10105005413504532, precision: 0.05451980426530745, recall: 0.6895539975917067\n"
     ]
    },
    {
     "name": "stderr",
     "output_type": "stream",
     "text": [
      "100%|████████████████████████████████████████████████████████████| 218/218 [00:01<00:00, 198.09it/s]\n"
     ]
    },
    {
     "name": "stdout",
     "output_type": "stream",
     "text": [
      "val_loss: 0.9331739894840696, val_f1: 0.10359556726586897, val_precision: 0.05611386984467096, val_recall: 0.6734281815588474\n"
     ]
    },
    {
     "name": "stderr",
     "output_type": "stream",
     "text": [
      "100%|█████████████████████████████████████████████████████████████| 655/655 [00:09<00:00, 65.96it/s]\n"
     ]
    },
    {
     "name": "stdout",
     "output_type": "stream",
     "text": [
      "Epoch: 347, loss: 0.9374203582756392, f1: 0.09833651590458271, precision: 0.052907107167571556, recall: 0.6957622901970194\n"
     ]
    },
    {
     "name": "stderr",
     "output_type": "stream",
     "text": [
      "100%|████████████████████████████████████████████████████████████| 218/218 [00:01<00:00, 197.04it/s]\n"
     ]
    },
    {
     "name": "stdout",
     "output_type": "stream",
     "text": [
      "val_loss: 0.9366860564695586, val_f1: 0.09915563619398447, val_precision: 0.053246920804467496, val_recall: 0.7194854885066321\n"
     ]
    },
    {
     "name": "stderr",
     "output_type": "stream",
     "text": [
      "100%|█████████████████████████████████████████████████████████████| 655/655 [00:09<00:00, 66.15it/s]\n"
     ]
    },
    {
     "name": "stdout",
     "output_type": "stream",
     "text": [
      "Epoch: 348, loss: 0.9392682141020098, f1: 0.09562864613721103, precision: 0.05127450346641015, recall: 0.7085340624092189\n"
     ]
    },
    {
     "name": "stderr",
     "output_type": "stream",
     "text": [
      "100%|████████████████████████████████████████████████████████████| 218/218 [00:01<00:00, 196.05it/s]\n"
     ]
    },
    {
     "name": "stdout",
     "output_type": "stream",
     "text": [
      "val_loss: 0.9348334801306418, val_f1: 0.10210746882939895, val_precision: 0.055165832091139955, val_recall: 0.6849111966583707\n"
     ]
    },
    {
     "name": "stderr",
     "output_type": "stream",
     "text": [
      "100%|█████████████████████████████████████████████████████████████| 655/655 [00:09<00:00, 65.84it/s]\n"
     ]
    },
    {
     "name": "stdout",
     "output_type": "stream",
     "text": [
      "Epoch: 349, loss: 0.9371979155613266, f1: 0.0983730896323659, precision: 0.052941833442887505, recall: 0.6934289537085832\n"
     ]
    },
    {
     "name": "stderr",
     "output_type": "stream",
     "text": [
      "100%|████████████████████████████████████████████████████████████| 218/218 [00:01<00:00, 196.29it/s]\n"
     ]
    },
    {
     "name": "stdout",
     "output_type": "stream",
     "text": [
      "val_loss: 0.9354584613524446, val_f1: 0.10148316116503728, val_precision: 0.05455197536155855, val_recall: 0.7264479441790406\n"
     ]
    },
    {
     "name": "stderr",
     "output_type": "stream",
     "text": [
      "100%|█████████████████████████████████████████████████████████████| 655/655 [00:09<00:00, 66.04it/s]\n"
     ]
    },
    {
     "name": "stdout",
     "output_type": "stream",
     "text": [
      "Epoch: 350, loss: 0.9396178418443403, f1: 0.09473108290898631, precision: 0.050859740710611105, recall: 0.6894281008088862\n"
     ]
    },
    {
     "name": "stderr",
     "output_type": "stream",
     "text": [
      "100%|████████████████████████████████████████████████████████████| 218/218 [00:01<00:00, 198.13it/s]\n"
     ]
    },
    {
     "name": "stdout",
     "output_type": "stream",
     "text": [
      "val_loss: 0.9322748591593646, val_f1: 0.10548030647493829, val_precision: 0.057202620414692325, val_recall: 0.6760553851586963\n"
     ]
    },
    {
     "name": "stderr",
     "output_type": "stream",
     "text": [
      "100%|█████████████████████████████████████████████████████████████| 655/655 [00:09<00:00, 66.78it/s]\n"
     ]
    },
    {
     "name": "stdout",
     "output_type": "stream",
     "text": [
      "Epoch: 351, loss: 0.9376645836211343, f1: 0.09768498077304501, precision: 0.05265859237637456, recall: 0.6739800976887914\n"
     ]
    },
    {
     "name": "stderr",
     "output_type": "stream",
     "text": [
      "100%|████████████████████████████████████████████████████████████| 218/218 [00:01<00:00, 196.19it/s]\n"
     ]
    },
    {
     "name": "stdout",
     "output_type": "stream",
     "text": [
      "val_loss: 0.9327036618092738, val_f1: 0.10519397084879847, val_precision: 0.05705096432351755, val_recall: 0.6737141793747561\n"
     ]
    },
    {
     "name": "stderr",
     "output_type": "stream",
     "text": [
      "100%|█████████████████████████████████████████████████████████████| 655/655 [00:09<00:00, 67.91it/s]\n"
     ]
    },
    {
     "name": "stdout",
     "output_type": "stream",
     "text": [
      "Epoch: 352, loss: 0.9367582213787632, f1: 0.09882039516672234, precision: 0.05335671939595624, recall: 0.668022672354265\n"
     ]
    },
    {
     "name": "stderr",
     "output_type": "stream",
     "text": [
      "100%|████████████████████████████████████████████████████████████| 218/218 [00:01<00:00, 190.96it/s]\n"
     ]
    },
    {
     "name": "stdout",
     "output_type": "stream",
     "text": [
      "val_loss: 0.9319709766348567, val_f1: 0.10636437888773162, val_precision: 0.0575769237801219, val_recall: 0.6967581277456852\n"
     ]
    },
    {
     "name": "stderr",
     "output_type": "stream",
     "text": [
      "100%|█████████████████████████████████████████████████████████████| 655/655 [00:08<00:00, 77.54it/s]\n"
     ]
    },
    {
     "name": "stdout",
     "output_type": "stream",
     "text": [
      "Epoch: 353, loss: 0.9377128790353091, f1: 0.09809002073643174, precision: 0.05276191960415938, recall: 0.6961991078526009\n"
     ]
    },
    {
     "name": "stderr",
     "output_type": "stream",
     "text": [
      "100%|████████████████████████████████████████████████████████████| 218/218 [00:01<00:00, 190.09it/s]\n"
     ]
    },
    {
     "name": "stdout",
     "output_type": "stream",
     "text": [
      "val_loss: 0.9326226875322674, val_f1: 0.10605637086755484, val_precision: 0.05730849319487947, val_recall: 0.7099875928748638\n"
     ]
    },
    {
     "name": "stderr",
     "output_type": "stream",
     "text": [
      "100%|█████████████████████████████████████████████████████████████| 655/655 [00:08<00:00, 78.90it/s]\n"
     ]
    },
    {
     "name": "stdout",
     "output_type": "stream",
     "text": [
      "Epoch: 354, loss: 0.9359791401688379, f1: 0.1001770787961037, precision: 0.054051123012767266, recall: 0.6832264168458131\n"
     ]
    },
    {
     "name": "stderr",
     "output_type": "stream",
     "text": [
      "100%|████████████████████████████████████████████████████████████| 218/218 [00:01<00:00, 188.98it/s]\n"
     ]
    },
    {
     "name": "stdout",
     "output_type": "stream",
     "text": [
      "val_loss: 0.9331947308067882, val_f1: 0.10461456071300006, val_precision: 0.05650634870975526, val_recall: 0.7038926674275223\n"
     ]
    },
    {
     "name": "stderr",
     "output_type": "stream",
     "text": [
      "100%|█████████████████████████████████████████████████████████████| 655/655 [00:08<00:00, 76.13it/s]\n"
     ]
    },
    {
     "name": "stdout",
     "output_type": "stream",
     "text": [
      "Epoch: 355, loss: 0.9374979010065093, f1: 0.09808614652468126, precision: 0.052814360871157456, recall: 0.686815442941116\n"
     ]
    },
    {
     "name": "stderr",
     "output_type": "stream",
     "text": [
      "100%|████████████████████████████████████████████████████████████| 218/218 [00:01<00:00, 190.37it/s]\n"
     ]
    },
    {
     "name": "stdout",
     "output_type": "stream",
     "text": [
      "val_loss: 0.9328344825210921, val_f1: 0.10504198473962668, val_precision: 0.05703227420619458, val_recall: 0.6639779439759911\n"
     ]
    },
    {
     "name": "stderr",
     "output_type": "stream",
     "text": [
      "100%|█████████████████████████████████████████████████████████████| 655/655 [00:09<00:00, 66.81it/s]\n"
     ]
    },
    {
     "name": "stdout",
     "output_type": "stream",
     "text": [
      "Epoch: 356, loss: 0.9366605715897247, f1: 0.09934180259452104, precision: 0.05361705104649806, recall: 0.6748875282534206\n"
     ]
    },
    {
     "name": "stderr",
     "output_type": "stream",
     "text": [
      "100%|████████████████████████████████████████████████████████████| 218/218 [00:01<00:00, 195.79it/s]\n"
     ]
    },
    {
     "name": "stdout",
     "output_type": "stream",
     "text": [
      "val_loss: 0.9345644854624336, val_f1: 0.10247366029017668, val_precision: 0.05528401032970244, val_recall: 0.6998891370764019\n"
     ]
    },
    {
     "name": "stderr",
     "output_type": "stream",
     "text": [
      "100%|█████████████████████████████████████████████████████████████| 655/655 [00:09<00:00, 66.22it/s]\n"
     ]
    },
    {
     "name": "stdout",
     "output_type": "stream",
     "text": [
      "Epoch: 357, loss: 0.9382491932570479, f1: 0.09700091387433889, precision: 0.052157510456252304, recall: 0.6917216487626993\n"
     ]
    },
    {
     "name": "stderr",
     "output_type": "stream",
     "text": [
      "100%|████████████████████████████████████████████████████████████| 218/218 [00:01<00:00, 195.49it/s]\n"
     ]
    },
    {
     "name": "stdout",
     "output_type": "stream",
     "text": [
      "val_loss: 0.9344058482471956, val_f1: 0.10250361757248677, val_precision: 0.055445688010894036, val_recall: 0.6775807427293664\n"
     ]
    },
    {
     "name": "stderr",
     "output_type": "stream",
     "text": [
      "100%|█████████████████████████████████████████████████████████████| 655/655 [00:09<00:00, 66.33it/s]\n"
     ]
    },
    {
     "name": "stdout",
     "output_type": "stream",
     "text": [
      "Epoch: 358, loss: 0.9389637964372416, f1: 0.0961755420819716, precision: 0.051684888647264934, recall: 0.6909451854479222\n"
     ]
    },
    {
     "name": "stderr",
     "output_type": "stream",
     "text": [
      "100%|████████████████████████████████████████████████████████████| 218/218 [00:01<00:00, 198.76it/s]\n"
     ]
    },
    {
     "name": "stdout",
     "output_type": "stream",
     "text": [
      "val_loss: 0.9359523265733631, val_f1: 0.09996099046654253, val_precision: 0.0539110185457778, val_recall: 0.685531974043868\n"
     ]
    },
    {
     "name": "stderr",
     "output_type": "stream",
     "text": [
      "100%|█████████████████████████████████████████████████████████████| 655/655 [00:09<00:00, 65.96it/s]\n"
     ]
    },
    {
     "name": "stdout",
     "output_type": "stream",
     "text": [
      "Epoch: 359, loss: 0.9383045556891055, f1: 0.09678990320873428, precision: 0.05207356971382867, recall: 0.6850664600616193\n"
     ]
    },
    {
     "name": "stderr",
     "output_type": "stream",
     "text": [
      "100%|████████████████████████████████████████████████████████████| 218/218 [00:01<00:00, 197.87it/s]\n"
     ]
    },
    {
     "name": "stdout",
     "output_type": "stream",
     "text": [
      "val_loss: 0.9352722761281039, val_f1: 0.1014106353897231, val_precision: 0.05475952112331662, val_recall: 0.6848691646522338\n"
     ]
    },
    {
     "name": "stderr",
     "output_type": "stream",
     "text": [
      "100%|█████████████████████████████████████████████████████████████| 655/655 [00:09<00:00, 65.79it/s]\n"
     ]
    },
    {
     "name": "stdout",
     "output_type": "stream",
     "text": [
      "Epoch: 360, loss: 0.9363910462110098, f1: 0.09998284789083861, precision: 0.05388392001205614, recall: 0.6920325269567148\n"
     ]
    },
    {
     "name": "stderr",
     "output_type": "stream",
     "text": [
      "100%|████████████████████████████████████████████████████████████| 218/218 [00:01<00:00, 196.28it/s]\n"
     ]
    },
    {
     "name": "stdout",
     "output_type": "stream",
     "text": [
      "val_loss: 0.9330123498899128, val_f1: 0.10463228866308805, val_precision: 0.05661257927160744, val_recall: 0.6893510339320252\n"
     ]
    },
    {
     "name": "stderr",
     "output_type": "stream",
     "text": [
      "100%|█████████████████████████████████████████████████████████████| 655/655 [00:09<00:00, 66.35it/s]\n"
     ]
    },
    {
     "name": "stdout",
     "output_type": "stream",
     "text": [
      "Epoch: 361, loss: 0.9388051702776028, f1: 0.09627900669454664, precision: 0.05166568455112145, recall: 0.7053410617904808\n"
     ]
    },
    {
     "name": "stderr",
     "output_type": "stream",
     "text": [
      "100%|████████████████████████████████████████████████████████████| 218/218 [00:01<00:00, 196.59it/s]\n"
     ]
    },
    {
     "name": "stdout",
     "output_type": "stream",
     "text": [
      "val_loss: 0.9373038263495909, val_f1: 0.09908282555729112, val_precision: 0.05301311126816163, val_recall: 0.7565013021572468\n"
     ]
    },
    {
     "name": "stderr",
     "output_type": "stream",
     "text": [
      "100%|█████████████████████████████████████████████████████████████| 655/655 [00:09<00:00, 68.90it/s]\n"
     ]
    },
    {
     "name": "stdout",
     "output_type": "stream",
     "text": [
      "Epoch: 362, loss: 0.9378011288533684, f1: 0.09779539375712785, precision: 0.052568697241198926, recall: 0.7002146469841477\n"
     ]
    },
    {
     "name": "stderr",
     "output_type": "stream",
     "text": [
      "100%|████████████████████████████████████████████████████████████| 218/218 [00:01<00:00, 191.01it/s]\n"
     ]
    },
    {
     "name": "stdout",
     "output_type": "stream",
     "text": [
      "val_loss: 0.9331897365937539, val_f1: 0.10509732629976547, val_precision: 0.056831381193985904, val_recall: 0.6973172354452107\n"
     ]
    },
    {
     "name": "stderr",
     "output_type": "stream",
     "text": [
      "100%|█████████████████████████████████████████████████████████████| 655/655 [00:09<00:00, 67.52it/s]\n"
     ]
    },
    {
     "name": "stdout",
     "output_type": "stream",
     "text": [
      "Epoch: 363, loss: 0.9368657845577211, f1: 0.09917036869314544, precision: 0.053343313278715686, recall: 0.7038177961270318\n"
     ]
    },
    {
     "name": "stderr",
     "output_type": "stream",
     "text": [
      "100%|████████████████████████████████████████████████████████████| 218/218 [00:01<00:00, 195.74it/s]\n"
     ]
    },
    {
     "name": "stdout",
     "output_type": "stream",
     "text": [
      "val_loss: 0.9321324822552707, val_f1: 0.10596464518554291, val_precision: 0.057632856563891395, val_recall: 0.656596127965855\n"
     ]
    },
    {
     "name": "stderr",
     "output_type": "stream",
     "text": [
      "100%|█████████████████████████████████████████████████████████████| 655/655 [00:09<00:00, 66.57it/s]\n"
     ]
    },
    {
     "name": "stdout",
     "output_type": "stream",
     "text": [
      "Epoch: 364, loss: 0.9377244886551195, f1: 0.09765468834657409, precision: 0.05251259279885251, recall: 0.695760504253038\n"
     ]
    },
    {
     "name": "stderr",
     "output_type": "stream",
     "text": [
      "100%|████████████████████████████████████████████████████████████| 218/218 [00:01<00:00, 196.26it/s]\n"
     ]
    },
    {
     "name": "stdout",
     "output_type": "stream",
     "text": [
      "val_loss: 0.9325105238945113, val_f1: 0.10520651428469341, val_precision: 0.05701265265255175, val_recall: 0.6801501976650789\n"
     ]
    },
    {
     "name": "stderr",
     "output_type": "stream",
     "text": [
      "100%|█████████████████████████████████████████████████████████████| 655/655 [00:09<00:00, 65.89it/s]\n"
     ]
    },
    {
     "name": "stdout",
     "output_type": "stream",
     "text": [
      "Epoch: 365, loss: 0.9358132974792073, f1: 0.10020186575487881, precision: 0.05410543306986624, recall: 0.6769215982720143\n"
     ]
    },
    {
     "name": "stderr",
     "output_type": "stream",
     "text": [
      "100%|████████████████████████████████████████████████████████████| 218/218 [00:01<00:00, 195.45it/s]\n"
     ]
    },
    {
     "name": "stdout",
     "output_type": "stream",
     "text": [
      "val_loss: 0.9326488288170701, val_f1: 0.10517054005493863, val_precision: 0.05714554819940598, val_recall: 0.6589541185066241\n"
     ]
    },
    {
     "name": "stderr",
     "output_type": "stream",
     "text": [
      "100%|█████████████████████████████████████████████████████████████| 655/655 [00:09<00:00, 71.71it/s]\n"
     ]
    },
    {
     "name": "stdout",
     "output_type": "stream",
     "text": [
      "Epoch: 366, loss: 0.9364202078062159, f1: 0.0992913097217048, precision: 0.0535939728165799, recall: 0.6738838935740121\n"
     ]
    },
    {
     "name": "stderr",
     "output_type": "stream",
     "text": [
      "100%|████████████████████████████████████████████████████████████| 218/218 [00:01<00:00, 198.59it/s]\n"
     ]
    },
    {
     "name": "stdout",
     "output_type": "stream",
     "text": [
      "val_loss: 0.9338384579627885, val_f1: 0.10339973121014491, val_precision: 0.055864773545982405, val_recall: 0.6934610141116545\n"
     ]
    },
    {
     "name": "stderr",
     "output_type": "stream",
     "text": [
      "100%|█████████████████████████████████████████████████████████████| 655/655 [00:09<00:00, 66.21it/s]\n"
     ]
    },
    {
     "name": "stdout",
     "output_type": "stream",
     "text": [
      "Epoch: 367, loss: 0.9369711617477068, f1: 0.09900690761191343, precision: 0.05329824376119059, recall: 0.6952814725177888\n"
     ]
    },
    {
     "name": "stderr",
     "output_type": "stream",
     "text": [
      "100%|████████████████████████████████████████████████████████████| 218/218 [00:01<00:00, 197.23it/s]\n"
     ]
    },
    {
     "name": "stdout",
     "output_type": "stream",
     "text": [
      "val_loss: 0.9333194748524132, val_f1: 0.10410787598741966, val_precision: 0.05640530912792994, val_recall: 0.6747570761710132\n"
     ]
    },
    {
     "name": "stderr",
     "output_type": "stream",
     "text": [
      "100%|█████████████████████████████████████████████████████████████| 655/655 [00:09<00:00, 66.37it/s]\n"
     ]
    },
    {
     "name": "stdout",
     "output_type": "stream",
     "text": [
      "Epoch: 368, loss: 0.9347582314760631, f1: 0.10200330331733957, precision: 0.055213852860175695, recall: 0.6685335186032848\n"
     ]
    },
    {
     "name": "stderr",
     "output_type": "stream",
     "text": [
      "100%|████████████████████████████████████████████████████████████| 218/218 [00:01<00:00, 196.65it/s]\n"
     ]
    },
    {
     "name": "stdout",
     "output_type": "stream",
     "text": [
      "val_loss: 0.9314466310203622, val_f1: 0.10705987581102822, val_precision: 0.05811392876358036, val_recall: 0.6786302797017841\n"
     ]
    },
    {
     "name": "stderr",
     "output_type": "stream",
     "text": [
      "100%|█████████████████████████████████████████████████████████████| 655/655 [00:09<00:00, 66.00it/s]\n"
     ]
    },
    {
     "name": "stdout",
     "output_type": "stream",
     "text": [
      "Epoch: 369, loss: 0.9371402452920229, f1: 0.09810834920230807, precision: 0.05294119357486888, recall: 0.6681177968969781\n"
     ]
    },
    {
     "name": "stderr",
     "output_type": "stream",
     "text": [
      "100%|████████████████████████████████████████████████████████████| 218/218 [00:01<00:00, 196.23it/s]\n"
     ]
    },
    {
     "name": "stdout",
     "output_type": "stream",
     "text": [
      "val_loss: 0.9361660715636857, val_f1: 0.09907840221700197, val_precision: 0.053512925825748216, val_recall: 0.6671291503610961\n"
     ]
    },
    {
     "name": "stderr",
     "output_type": "stream",
     "text": [
      "100%|█████████████████████████████████████████████████████████████| 655/655 [00:09<00:00, 66.17it/s]\n"
     ]
    },
    {
     "name": "stdout",
     "output_type": "stream",
     "text": [
      "Epoch: 370, loss: 0.9375296407073509, f1: 0.09780163233151279, precision: 0.05263082181949538, recall: 0.6899963113642831\n"
     ]
    },
    {
     "name": "stderr",
     "output_type": "stream",
     "text": [
      "100%|████████████████████████████████████████████████████████████| 218/218 [00:01<00:00, 196.64it/s]\n"
     ]
    },
    {
     "name": "stdout",
     "output_type": "stream",
     "text": [
      "val_loss: 0.9365736771067348, val_f1: 0.09988053968752102, val_precision: 0.05342938985735383, val_recall: 0.7647424383994637\n"
     ]
    },
    {
     "name": "stderr",
     "output_type": "stream",
     "text": [
      "100%|█████████████████████████████████████████████████████████████| 655/655 [00:09<00:00, 66.58it/s]\n"
     ]
    },
    {
     "name": "stdout",
     "output_type": "stream",
     "text": [
      "Epoch: 371, loss: 0.9354925123789838, f1: 0.10099242000963979, precision: 0.0545846980026006, recall: 0.674166189281995\n"
     ]
    },
    {
     "name": "stderr",
     "output_type": "stream",
     "text": [
      "100%|████████████████████████████████████████████████████████████| 218/218 [00:01<00:00, 196.72it/s]\n"
     ]
    },
    {
     "name": "stdout",
     "output_type": "stream",
     "text": [
      "val_loss: 0.9328414814187846, val_f1: 0.10420395008371958, val_precision: 0.05644635635229477, val_recall: 0.6769586828870511\n"
     ]
    },
    {
     "name": "stderr",
     "output_type": "stream",
     "text": [
      "100%|█████████████████████████████████████████████████████████████| 655/655 [00:09<00:00, 66.17it/s]\n"
     ]
    },
    {
     "name": "stdout",
     "output_type": "stream",
     "text": [
      "Epoch: 372, loss: 0.9379048617741533, f1: 0.09735030399214853, precision: 0.05241999917464572, recall: 0.6813499472182215\n"
     ]
    },
    {
     "name": "stderr",
     "output_type": "stream",
     "text": [
      "100%|████████████████████████████████████████████████████████████| 218/218 [00:01<00:00, 199.10it/s]\n"
     ]
    },
    {
     "name": "stdout",
     "output_type": "stream",
     "text": [
      "val_loss: 0.9352034059686398, val_f1: 0.10058377296731257, val_precision: 0.05429278994876242, val_recall: 0.6824675608392156\n"
     ]
    },
    {
     "name": "stderr",
     "output_type": "stream",
     "text": [
      "100%|█████████████████████████████████████████████████████████████| 655/655 [00:09<00:00, 66.33it/s]\n"
     ]
    },
    {
     "name": "stdout",
     "output_type": "stream",
     "text": [
      "Epoch: 373, loss: 0.9373912338992112, f1: 0.0987270129737521, precision: 0.05310742906899056, recall: 0.7002198528014977\n"
     ]
    },
    {
     "name": "stderr",
     "output_type": "stream",
     "text": [
      "100%|████████████████████████████████████████████████████████████| 218/218 [00:01<00:00, 196.58it/s]\n"
     ]
    },
    {
     "name": "stdout",
     "output_type": "stream",
     "text": [
      "val_loss: 0.9348743910636377, val_f1: 0.10203303953793127, val_precision: 0.055125601008671136, val_recall: 0.6844148727116781\n"
     ]
    },
    {
     "name": "stderr",
     "output_type": "stream",
     "text": [
      "100%|█████████████████████████████████████████████████████████████| 655/655 [00:09<00:00, 66.38it/s]\n"
     ]
    },
    {
     "name": "stdout",
     "output_type": "stream",
     "text": [
      "Epoch: 374, loss: 0.9354737929715455, f1: 0.10144597421462496, precision: 0.0547015642832595, recall: 0.6973917099469491\n"
     ]
    },
    {
     "name": "stderr",
     "output_type": "stream",
     "text": [
      "100%|████████████████████████████████████████████████████████████| 218/218 [00:01<00:00, 195.64it/s]\n"
     ]
    },
    {
     "name": "stdout",
     "output_type": "stream",
     "text": [
      "val_loss: 0.9327419638086897, val_f1: 0.10498909075092902, val_precision: 0.05667776543617146, val_recall: 0.7112400223492482\n"
     ]
    },
    {
     "name": "stderr",
     "output_type": "stream",
     "text": [
      "100%|█████████████████████████████████████████████████████████████| 655/655 [00:09<00:00, 66.39it/s]\n"
     ]
    },
    {
     "name": "stdout",
     "output_type": "stream",
     "text": [
      "Epoch: 375, loss: 0.9364969664857588, f1: 0.09951952795176082, precision: 0.053536379984970996, recall: 0.7053821796451816\n"
     ]
    },
    {
     "name": "stderr",
     "output_type": "stream",
     "text": [
      "100%|████████████████████████████████████████████████████████████| 218/218 [00:01<00:00, 198.73it/s]\n"
     ]
    },
    {
     "name": "stdout",
     "output_type": "stream",
     "text": [
      "val_loss: 0.9330253018698561, val_f1: 0.1043939947704077, val_precision: 0.056521410469623674, val_recall: 0.6822308269115763\n"
     ]
    },
    {
     "name": "stderr",
     "output_type": "stream",
     "text": [
      "100%|█████████████████████████████████████████████████████████████| 655/655 [00:09<00:00, 66.51it/s]\n"
     ]
    },
    {
     "name": "stdout",
     "output_type": "stream",
     "text": [
      "Epoch: 376, loss: 0.9352578346965877, f1: 0.1012660166046756, precision: 0.05476188141895273, recall: 0.6715534040946087\n"
     ]
    },
    {
     "name": "stderr",
     "output_type": "stream",
     "text": [
      "100%|████████████████████████████████████████████████████████████| 218/218 [00:01<00:00, 196.35it/s]\n"
     ]
    },
    {
     "name": "stdout",
     "output_type": "stream",
     "text": [
      "val_loss: 0.9321581748647427, val_f1: 0.10555906296488986, val_precision: 0.057191371524689394, val_recall: 0.6841893099043348\n"
     ]
    },
    {
     "name": "stderr",
     "output_type": "stream",
     "text": [
      "100%|█████████████████████████████████████████████████████████████| 655/655 [00:09<00:00, 68.05it/s]\n"
     ]
    },
    {
     "name": "stdout",
     "output_type": "stream",
     "text": [
      "Epoch: 377, loss: 0.9358933315022301, f1: 0.10029040604035427, precision: 0.05414803180530781, recall: 0.6783362950987488\n"
     ]
    },
    {
     "name": "stderr",
     "output_type": "stream",
     "text": [
      "100%|████████████████████████████████████████████████████████████| 218/218 [00:01<00:00, 193.13it/s]\n"
     ]
    },
    {
     "name": "stdout",
     "output_type": "stream",
     "text": [
      "val_loss: 0.9340360757954623, val_f1: 0.10351699812841644, val_precision: 0.05565552104802785, val_recall: 0.7391916817618073\n"
     ]
    },
    {
     "name": "stderr",
     "output_type": "stream",
     "text": [
      "100%|█████████████████████████████████████████████████████████████| 655/655 [00:09<00:00, 66.15it/s]\n"
     ]
    },
    {
     "name": "stdout",
     "output_type": "stream",
     "text": [
      "Epoch: 378, loss: 0.9410204356863299, f1: 0.09323151444138955, precision: 0.04975039278093071, recall: 0.7398474836849984\n"
     ]
    },
    {
     "name": "stderr",
     "output_type": "stream",
     "text": [
      "100%|████████████████████████████████████████████████████████████| 218/218 [00:01<00:00, 194.86it/s]\n"
     ]
    },
    {
     "name": "stdout",
     "output_type": "stream",
     "text": [
      "val_loss: 0.9343967456883246, val_f1: 0.10294706271778407, val_precision: 0.05551157467208222, val_recall: 0.7076141977802329\n"
     ]
    },
    {
     "name": "stderr",
     "output_type": "stream",
     "text": [
      "100%|█████████████████████████████████████████████████████████████| 655/655 [00:09<00:00, 65.96it/s]\n"
     ]
    },
    {
     "name": "stdout",
     "output_type": "stream",
     "text": [
      "Epoch: 379, loss: 0.9378888949183107, f1: 0.09721522111584337, precision: 0.052313182112327175, recall: 0.6862149997180654\n"
     ]
    },
    {
     "name": "stderr",
     "output_type": "stream",
     "text": [
      "100%|████████████████████████████████████████████████████████████| 218/218 [00:01<00:00, 195.55it/s]\n"
     ]
    },
    {
     "name": "stdout",
     "output_type": "stream",
     "text": [
      "val_loss: 0.9403018708075952, val_f1: 0.09397873574642147, val_precision: 0.05024351178424928, val_recall: 0.7255090503107517\n"
     ]
    },
    {
     "name": "stderr",
     "output_type": "stream",
     "text": [
      "100%|█████████████████████████████████████████████████████████████| 655/655 [00:09<00:00, 66.76it/s]\n"
     ]
    },
    {
     "name": "stdout",
     "output_type": "stream",
     "text": [
      "Epoch: 380, loss: 0.9400061924038953, f1: 0.09466092463772649, precision: 0.05065087715469528, recall: 0.7219969645711302\n"
     ]
    },
    {
     "name": "stderr",
     "output_type": "stream",
     "text": [
      "100%|████████████████████████████████████████████████████████████| 218/218 [00:01<00:00, 194.92it/s]\n"
     ]
    },
    {
     "name": "stdout",
     "output_type": "stream",
     "text": [
      "val_loss: 0.9323259012414775, val_f1: 0.10555945170289936, val_precision: 0.0572856777334808, val_recall: 0.6710063589548846\n"
     ]
    },
    {
     "name": "stderr",
     "output_type": "stream",
     "text": [
      "100%|█████████████████████████████████████████████████████████████| 655/655 [00:09<00:00, 65.69it/s]\n"
     ]
    },
    {
     "name": "stdout",
     "output_type": "stream",
     "text": [
      "Epoch: 381, loss: 0.9372858133934836, f1: 0.0982490338344213, precision: 0.05291216381868163, recall: 0.6862531155234075\n"
     ]
    },
    {
     "name": "stderr",
     "output_type": "stream",
     "text": [
      "100%|████████████████████████████████████████████████████████████| 218/218 [00:01<00:00, 197.46it/s]\n"
     ]
    },
    {
     "name": "stdout",
     "output_type": "stream",
     "text": [
      "val_loss: 0.9351179985278243, val_f1: 0.10192418031994038, val_precision: 0.05500677732618338, val_recall: 0.6930722279149458\n"
     ]
    },
    {
     "name": "stderr",
     "output_type": "stream",
     "text": [
      "100%|█████████████████████████████████████████████████████████████| 655/655 [00:09<00:00, 66.42it/s]\n"
     ]
    },
    {
     "name": "stdout",
     "output_type": "stream",
     "text": [
      "Epoch: 382, loss: 0.9368671322596892, f1: 0.09902135756749977, precision: 0.05341990263279499, recall: 0.6765679689991565\n"
     ]
    },
    {
     "name": "stderr",
     "output_type": "stream",
     "text": [
      "100%|████████████████████████████████████████████████████████████| 218/218 [00:01<00:00, 196.52it/s]\n"
     ]
    },
    {
     "name": "stdout",
     "output_type": "stream",
     "text": [
      "val_loss: 0.9330889672861187, val_f1: 0.10518096704865793, val_precision: 0.05684256345864573, val_recall: 0.70303896992305\n"
     ]
    },
    {
     "name": "stderr",
     "output_type": "stream",
     "text": [
      "100%|█████████████████████████████████████████████████████████████| 655/655 [00:09<00:00, 66.06it/s]\n"
     ]
    },
    {
     "name": "stdout",
     "output_type": "stream",
     "text": [
      "Epoch: 383, loss: 0.9365791644758851, f1: 0.09947477915250864, precision: 0.05358816309465906, recall: 0.6921558309716123\n"
     ]
    },
    {
     "name": "stderr",
     "output_type": "stream",
     "text": [
      "100%|████████████████████████████████████████████████████████████| 218/218 [00:01<00:00, 195.80it/s]\n"
     ]
    },
    {
     "name": "stdout",
     "output_type": "stream",
     "text": [
      "val_loss: 0.9320166835544306, val_f1: 0.10587637496100145, val_precision: 0.05738780529498883, val_recall: 0.6827567046115158\n"
     ]
    },
    {
     "name": "stderr",
     "output_type": "stream",
     "text": [
      "100%|█████████████████████████████████████████████████████████████| 655/655 [00:09<00:00, 65.83it/s]\n"
     ]
    },
    {
     "name": "stdout",
     "output_type": "stream",
     "text": [
      "Epoch: 384, loss: 0.9363499845257243, f1: 0.09981717431289015, precision: 0.05377470896906354, recall: 0.6941891330571575\n"
     ]
    },
    {
     "name": "stderr",
     "output_type": "stream",
     "text": [
      "100%|████████████████████████████████████████████████████████████| 218/218 [00:01<00:00, 196.86it/s]\n"
     ]
    },
    {
     "name": "stdout",
     "output_type": "stream",
     "text": [
      "val_loss: 0.9341152895481215, val_f1: 0.10326384740870424, val_precision: 0.05574540200284383, val_recall: 0.699710107656247\n"
     ]
    },
    {
     "name": "stderr",
     "output_type": "stream",
     "text": [
      "100%|█████████████████████████████████████████████████████████████| 655/655 [00:09<00:00, 66.56it/s]\n"
     ]
    },
    {
     "name": "stdout",
     "output_type": "stream",
     "text": [
      "Epoch: 385, loss: 0.9348656463259049, f1: 0.10182214586848963, precision: 0.05503374538917578, recall: 0.6796142686528104\n"
     ]
    },
    {
     "name": "stderr",
     "output_type": "stream",
     "text": [
      "100%|████████████████████████████████████████████████████████████| 218/218 [00:01<00:00, 195.61it/s]\n"
     ]
    },
    {
     "name": "stdout",
     "output_type": "stream",
     "text": [
      "val_loss: 0.9307032520071082, val_f1: 0.10821390019838836, val_precision: 0.05873151332537276, val_recall: 0.6871531224305477\n"
     ]
    },
    {
     "name": "stderr",
     "output_type": "stream",
     "text": [
      "100%|█████████████████████████████████████████████████████████████| 655/655 [00:09<00:00, 66.86it/s]\n"
     ]
    },
    {
     "name": "stdout",
     "output_type": "stream",
     "text": [
      "Epoch: 386, loss: 0.9359588879665346, f1: 0.10018650105576529, precision: 0.05412877264916044, recall: 0.6719046724547867\n"
     ]
    },
    {
     "name": "stderr",
     "output_type": "stream",
     "text": [
      "100%|████████████████████████████████████████████████████████████| 218/218 [00:01<00:00, 197.32it/s]\n"
     ]
    },
    {
     "name": "stdout",
     "output_type": "stream",
     "text": [
      "val_loss: 0.9324136510354664, val_f1: 0.10490445423459321, val_precision: 0.056945056028113006, val_recall: 0.6648138781343031\n"
     ]
    },
    {
     "name": "stderr",
     "output_type": "stream",
     "text": [
      "100%|█████████████████████████████████████████████████████████████| 655/655 [00:09<00:00, 66.44it/s]\n"
     ]
    },
    {
     "name": "stdout",
     "output_type": "stream",
     "text": [
      "Epoch: 387, loss: 0.9354767273400576, f1: 0.1008942822791118, precision: 0.05458788388152785, recall: 0.6650504158994623\n"
     ]
    },
    {
     "name": "stderr",
     "output_type": "stream",
     "text": [
      "100%|████████████████████████████████████████████████████████████| 218/218 [00:01<00:00, 195.84it/s]\n"
     ]
    },
    {
     "name": "stdout",
     "output_type": "stream",
     "text": [
      "val_loss: 0.9315008881988875, val_f1: 0.1067363327514635, val_precision: 0.0580029561966145, val_recall: 0.6678860393275908\n"
     ]
    },
    {
     "name": "stderr",
     "output_type": "stream",
     "text": [
      "100%|█████████████████████████████████████████████████████████████| 655/655 [00:09<00:00, 65.84it/s]\n"
     ]
    },
    {
     "name": "stdout",
     "output_type": "stream",
     "text": [
      "Epoch: 388, loss: 0.9343522151007907, f1: 0.10309139672172175, precision: 0.05573177833664622, recall: 0.6862586123228983\n"
     ]
    },
    {
     "name": "stderr",
     "output_type": "stream",
     "text": [
      "100%|████████████████████████████████████████████████████████████| 218/218 [00:01<00:00, 191.92it/s]\n"
     ]
    },
    {
     "name": "stdout",
     "output_type": "stream",
     "text": [
      "val_loss: 0.9359768612669148, val_f1: 0.10049078168887773, val_precision: 0.05399245364429139, val_recall: 0.7239995913904741\n"
     ]
    },
    {
     "name": "stderr",
     "output_type": "stream",
     "text": [
      "100%|█████████████████████████████████████████████████████████████| 655/655 [00:09<00:00, 69.78it/s]\n"
     ]
    },
    {
     "name": "stdout",
     "output_type": "stream",
     "text": [
      "Epoch: 389, loss: 0.9352796463565972, f1: 0.10180374243471497, precision: 0.05486171957681254, recall: 0.7052199809605839\n"
     ]
    },
    {
     "name": "stderr",
     "output_type": "stream",
     "text": [
      "100%|████████████████████████████████████████████████████████████| 218/218 [00:01<00:00, 195.35it/s]\n"
     ]
    },
    {
     "name": "stdout",
     "output_type": "stream",
     "text": [
      "val_loss: 0.9318842010213695, val_f1: 0.1065777952966697, val_precision: 0.05779387711476825, val_recall: 0.6836373007283845\n"
     ]
    },
    {
     "name": "stderr",
     "output_type": "stream",
     "text": [
      "100%|█████████████████████████████████████████████████████████████| 655/655 [00:09<00:00, 66.07it/s]\n"
     ]
    },
    {
     "name": "stdout",
     "output_type": "stream",
     "text": [
      "Epoch: 390, loss: 0.9353393082400314, f1: 0.10169914216637096, precision: 0.05483422629954649, recall: 0.6997586332090938\n"
     ]
    },
    {
     "name": "stderr",
     "output_type": "stream",
     "text": [
      "100%|████████████████████████████████████████████████████████████| 218/218 [00:01<00:00, 195.13it/s]\n"
     ]
    },
    {
     "name": "stdout",
     "output_type": "stream",
     "text": [
      "val_loss: 0.9335344649782968, val_f1: 0.10412427711129353, val_precision: 0.056177013697863105, val_recall: 0.710761656113174\n"
     ]
    },
    {
     "name": "stderr",
     "output_type": "stream",
     "text": [
      "100%|█████████████████████████████████████████████████████████████| 655/655 [00:09<00:00, 66.13it/s]\n"
     ]
    },
    {
     "name": "stdout",
     "output_type": "stream",
     "text": [
      "Epoch: 391, loss: 0.935249858048126, f1: 0.10153875524028755, precision: 0.05483317003009542, recall: 0.6850364473712354\n"
     ]
    },
    {
     "name": "stderr",
     "output_type": "stream",
     "text": [
      "100%|████████████████████████████████████████████████████████████| 218/218 [00:01<00:00, 197.30it/s]\n"
     ]
    },
    {
     "name": "stdout",
     "output_type": "stream",
     "text": [
      "val_loss: 0.9312771856784821, val_f1: 0.10716479901841167, val_precision: 0.058163496528948665, val_recall: 0.6803042359581781\n"
     ]
    },
    {
     "name": "stderr",
     "output_type": "stream",
     "text": [
      "100%|█████████████████████████████████████████████████████████████| 655/655 [00:09<00:00, 66.11it/s]\n"
     ]
    },
    {
     "name": "stdout",
     "output_type": "stream",
     "text": [
      "Epoch: 392, loss: 0.9344240805574956, f1: 0.1024510677280895, precision: 0.055409884599272076, recall: 0.6783372378531303\n"
     ]
    },
    {
     "name": "stderr",
     "output_type": "stream",
     "text": [
      "100%|████████████████████████████████████████████████████████████| 218/218 [00:01<00:00, 195.23it/s]\n"
     ]
    },
    {
     "name": "stdout",
     "output_type": "stream",
     "text": [
      "val_loss: 0.9320358691412375, val_f1: 0.10636492457753777, val_precision: 0.05765325582475154, val_recall: 0.6858160814287466\n"
     ]
    },
    {
     "name": "stderr",
     "output_type": "stream",
     "text": [
      "100%|█████████████████████████████████████████████████████████████| 655/655 [00:09<00:00, 65.86it/s]\n"
     ]
    },
    {
     "name": "stdout",
     "output_type": "stream",
     "text": [
      "Epoch: 393, loss: 0.9350928443988771, f1: 0.10180655313827935, precision: 0.05508859691188763, recall: 0.6700060819169037\n"
     ]
    },
    {
     "name": "stderr",
     "output_type": "stream",
     "text": [
      "100%|████████████████████████████████████████████████████████████| 218/218 [00:01<00:00, 195.73it/s]\n"
     ]
    },
    {
     "name": "stdout",
     "output_type": "stream",
     "text": [
      "val_loss: 0.9323961023890645, val_f1: 0.1059763813083985, val_precision: 0.05741311585340529, val_recall: 0.6875183176966982\n"
     ]
    },
    {
     "name": "stderr",
     "output_type": "stream",
     "text": [
      "100%|█████████████████████████████████████████████████████████████| 655/655 [00:09<00:00, 66.01it/s]\n"
     ]
    },
    {
     "name": "stdout",
     "output_type": "stream",
     "text": [
      "Epoch: 394, loss: 0.934287139750619, f1: 0.10284063195955481, precision: 0.05564224060077419, recall: 0.6776865648631831\n"
     ]
    },
    {
     "name": "stderr",
     "output_type": "stream",
     "text": [
      "100%|████████████████████████████████████████████████████████████| 218/218 [00:01<00:00, 196.96it/s]\n"
     ]
    },
    {
     "name": "stdout",
     "output_type": "stream",
     "text": [
      "val_loss: 0.9326842145635448, val_f1: 0.10489752158531836, val_precision: 0.05677798120977801, val_recall: 0.687868592457487\n"
     ]
    },
    {
     "name": "stderr",
     "output_type": "stream",
     "text": [
      "100%|█████████████████████████████████████████████████████████████| 655/655 [00:09<00:00, 66.32it/s]\n"
     ]
    },
    {
     "name": "stdout",
     "output_type": "stream",
     "text": [
      "Epoch: 395, loss: 0.9340880118253577, f1: 0.10327773825745869, precision: 0.055864811780016496, recall: 0.682639577120315\n"
     ]
    },
    {
     "name": "stderr",
     "output_type": "stream",
     "text": [
      "100%|████████████████████████████████████████████████████████████| 218/218 [00:01<00:00, 197.00it/s]\n"
     ]
    },
    {
     "name": "stdout",
     "output_type": "stream",
     "text": [
      "val_loss: 0.9314335858056305, val_f1: 0.10644825120633175, val_precision: 0.057712607798615145, val_recall: 0.6843522938498117\n"
     ]
    },
    {
     "name": "stderr",
     "output_type": "stream",
     "text": [
      "100%|█████████████████████████████████████████████████████████████| 655/655 [00:09<00:00, 66.05it/s]\n"
     ]
    },
    {
     "name": "stdout",
     "output_type": "stream",
     "text": [
      "Epoch: 396, loss: 0.9338180371823201, f1: 0.10345857706178369, precision: 0.056018133013942886, recall: 0.6756547543497486\n"
     ]
    },
    {
     "name": "stderr",
     "output_type": "stream",
     "text": [
      "100%|████████████████████████████████████████████████████████████| 218/218 [00:01<00:00, 196.07it/s]\n"
     ]
    },
    {
     "name": "stdout",
     "output_type": "stream",
     "text": [
      "val_loss: 0.9308808415854742, val_f1: 0.10836034087780758, val_precision: 0.05893180289395461, val_recall: 0.671965930713426\n"
     ]
    },
    {
     "name": "stderr",
     "output_type": "stream",
     "text": [
      "100%|█████████████████████████████████████████████████████████████| 655/655 [00:09<00:00, 66.21it/s]\n"
     ]
    },
    {
     "name": "stdout",
     "output_type": "stream",
     "text": [
      "Epoch: 397, loss: 0.933311604998494, f1: 0.10427313506218172, precision: 0.056492699576783496, recall: 0.6761354834068822\n"
     ]
    },
    {
     "name": "stderr",
     "output_type": "stream",
     "text": [
      "100%|████████████████████████████████████████████████████████████| 218/218 [00:01<00:00, 196.13it/s]\n"
     ]
    },
    {
     "name": "stdout",
     "output_type": "stream",
     "text": [
      "val_loss: 0.9341789935160121, val_f1: 0.10338622783828118, val_precision: 0.05578580045957255, val_recall: 0.7046085034215123\n"
     ]
    },
    {
     "name": "stderr",
     "output_type": "stream",
     "text": [
      "100%|█████████████████████████████████████████████████████████████| 655/655 [00:09<00:00, 66.43it/s]\n"
     ]
    },
    {
     "name": "stdout",
     "output_type": "stream",
     "text": [
      "Epoch: 398, loss: 0.9363799692110251, f1: 0.0999026260950007, precision: 0.053850943355941934, recall: 0.689789830500843\n"
     ]
    },
    {
     "name": "stderr",
     "output_type": "stream",
     "text": [
      "100%|████████████████████████████████████████████████████████████| 218/218 [00:01<00:00, 199.04it/s]\n"
     ]
    },
    {
     "name": "stdout",
     "output_type": "stream",
     "text": [
      "val_loss: 0.9317953641261529, val_f1: 0.10688299563929679, val_precision: 0.05798515434581957, val_recall: 0.6820087481734403\n"
     ]
    },
    {
     "name": "stderr",
     "output_type": "stream",
     "text": [
      "100%|█████████████████████████████████████████████████████████████| 655/655 [00:09<00:00, 65.79it/s]\n"
     ]
    },
    {
     "name": "stdout",
     "output_type": "stream",
     "text": [
      "Epoch: 399, loss: 0.9352464973471547, f1: 0.101572987781269, precision: 0.05486349843634392, recall: 0.6834244840586459\n"
     ]
    },
    {
     "name": "stderr",
     "output_type": "stream",
     "text": [
      "100%|████████████████████████████████████████████████████████████| 218/218 [00:01<00:00, 195.98it/s]\n"
     ]
    },
    {
     "name": "stdout",
     "output_type": "stream",
     "text": [
      "val_loss: 0.9349269866943359, val_f1: 0.10187799696848687, val_precision: 0.05501425806635888, val_recall: 0.6876546516330964\n"
     ]
    },
    {
     "name": "stderr",
     "output_type": "stream",
     "text": [
      "100%|█████████████████████████████████████████████████████████████| 655/655 [00:09<00:00, 70.67it/s]\n"
     ]
    },
    {
     "name": "stdout",
     "output_type": "stream",
     "text": [
      "Epoch: 400, loss: 0.9349296762743069, f1: 0.10205605610664635, precision: 0.05518646170065262, recall: 0.6771915953577929\n"
     ]
    },
    {
     "name": "stderr",
     "output_type": "stream",
     "text": [
      "100%|████████████████████████████████████████████████████████████| 218/218 [00:01<00:00, 195.18it/s]\n"
     ]
    },
    {
     "name": "stdout",
     "output_type": "stream",
     "text": [
      "val_loss: 0.9301277035420094, val_f1: 0.1083146824409578, val_precision: 0.05891344457364923, val_recall: 0.6708423436850036\n"
     ]
    },
    {
     "name": "stderr",
     "output_type": "stream",
     "text": [
      "100%|█████████████████████████████████████████████████████████████| 655/655 [00:10<00:00, 65.39it/s]\n"
     ]
    },
    {
     "name": "stdout",
     "output_type": "stream",
     "text": [
      "Epoch: 401, loss: 0.93366167982116, f1: 0.10388283155038808, precision: 0.056208073649242636, recall: 0.6842655327711397\n"
     ]
    },
    {
     "name": "stderr",
     "output_type": "stream",
     "text": [
      "100%|████████████████████████████████████████████████████████████| 218/218 [00:01<00:00, 195.77it/s]\n"
     ]
    },
    {
     "name": "stdout",
     "output_type": "stream",
     "text": [
      "val_loss: 0.9309131412877949, val_f1: 0.10833318153334873, val_precision: 0.058759339085412685, val_recall: 0.6930040257102853\n"
     ]
    },
    {
     "name": "stderr",
     "output_type": "stream",
     "text": [
      "100%|█████████████████████████████████████████████████████████████| 655/655 [00:09<00:00, 66.40it/s]\n"
     ]
    },
    {
     "name": "stdout",
     "output_type": "stream",
     "text": [
      "Epoch: 402, loss: 0.935766643331251, f1: 0.10086973269547803, precision: 0.05439899106161626, recall: 0.6921088617721587\n"
     ]
    },
    {
     "name": "stderr",
     "output_type": "stream",
     "text": [
      "100%|████████████████████████████████████████████████████████████| 218/218 [00:01<00:00, 199.14it/s]\n"
     ]
    },
    {
     "name": "stdout",
     "output_type": "stream",
     "text": [
      "val_loss: 0.9310096647214452, val_f1: 0.1074103507854279, val_precision: 0.058263028418611085, val_recall: 0.6865131767859699\n"
     ]
    },
    {
     "name": "stderr",
     "output_type": "stream",
     "text": [
      "100%|█████████████████████████████████████████████████████████████| 655/655 [00:09<00:00, 66.33it/s]\n"
     ]
    },
    {
     "name": "stdout",
     "output_type": "stream",
     "text": [
      "Epoch: 403, loss: 0.9340125401511448, f1: 0.10352978753449689, precision: 0.055975633234901796, recall: 0.688138682105159\n"
     ]
    },
    {
     "name": "stderr",
     "output_type": "stream",
     "text": [
      "100%|████████████████████████████████████████████████████████████| 218/218 [00:01<00:00, 195.40it/s]\n"
     ]
    },
    {
     "name": "stdout",
     "output_type": "stream",
     "text": [
      "val_loss: 0.9310562307134681, val_f1: 0.10760513392380412, val_precision: 0.05845461886294972, val_recall: 0.6760476049069964\n"
     ]
    },
    {
     "name": "stderr",
     "output_type": "stream",
     "text": [
      "100%|█████████████████████████████████████████████████████████████| 655/655 [00:09<00:00, 65.81it/s]\n"
     ]
    },
    {
     "name": "stdout",
     "output_type": "stream",
     "text": [
      "Epoch: 404, loss: 0.933824007838737, f1: 0.10382512981355954, precision: 0.056176936551786336, recall: 0.6838730551131809\n"
     ]
    },
    {
     "name": "stderr",
     "output_type": "stream",
     "text": [
      "100%|████████████████████████████████████████████████████████████| 218/218 [00:01<00:00, 197.10it/s]\n"
     ]
    },
    {
     "name": "stdout",
     "output_type": "stream",
     "text": [
      "val_loss: 0.9327621487302518, val_f1: 0.10531537828135902, val_precision: 0.05694474761028253, val_recall: 0.6994490136110455\n"
     ]
    },
    {
     "name": "stderr",
     "output_type": "stream",
     "text": [
      "100%|█████████████████████████████████████████████████████████████| 655/655 [00:09<00:00, 66.07it/s]\n"
     ]
    },
    {
     "name": "stdout",
     "output_type": "stream",
     "text": [
      "Epoch: 405, loss: 0.9331131385482905, f1: 0.10511985141729482, precision: 0.05688722356478506, recall: 0.6909596574442988\n"
     ]
    },
    {
     "name": "stderr",
     "output_type": "stream",
     "text": [
      "100%|████████████████████████████████████████████████████████████| 218/218 [00:01<00:00, 196.45it/s]\n"
     ]
    },
    {
     "name": "stdout",
     "output_type": "stream",
     "text": [
      "val_loss: 0.9307547061268343, val_f1: 0.10797427435907597, val_precision: 0.058620775457035854, val_recall: 0.6829984682962436\n"
     ]
    },
    {
     "name": "stderr",
     "output_type": "stream",
     "text": [
      "100%|█████████████████████████████████████████████████████████████| 655/655 [00:09<00:00, 66.64it/s]\n"
     ]
    },
    {
     "name": "stdout",
     "output_type": "stream",
     "text": [
      "Epoch: 406, loss: 0.934476058446724, f1: 0.10338963340813022, precision: 0.05570681670481581, recall: 0.7177850643528326\n"
     ]
    },
    {
     "name": "stderr",
     "output_type": "stream",
     "text": [
      "100%|████████████████████████████████████████████████████████████| 218/218 [00:01<00:00, 195.75it/s]\n"
     ]
    },
    {
     "name": "stdout",
     "output_type": "stream",
     "text": [
      "val_loss: 0.9321183223243154, val_f1: 0.10648146394828019, val_precision: 0.05762417223400633, val_recall: 0.6998961836509748\n"
     ]
    },
    {
     "name": "stderr",
     "output_type": "stream",
     "text": [
      "100%|█████████████████████████████████████████████████████████████| 655/655 [00:09<00:00, 66.20it/s]\n"
     ]
    },
    {
     "name": "stdout",
     "output_type": "stream",
     "text": [
      "Epoch: 407, loss: 0.9354241018986884, f1: 0.10188236610980371, precision: 0.0549090581263579, recall: 0.7049446696316013\n"
     ]
    },
    {
     "name": "stderr",
     "output_type": "stream",
     "text": [
      "100%|████████████████████████████████████████████████████████████| 218/218 [00:01<00:00, 196.44it/s]\n"
     ]
    },
    {
     "name": "stdout",
     "output_type": "stream",
     "text": [
      "val_loss: 0.9321975152973735, val_f1: 0.10641520870533791, val_precision: 0.05751172358217145, val_recall: 0.7109610284550474\n"
     ]
    },
    {
     "name": "stderr",
     "output_type": "stream",
     "text": [
      "100%|█████████████████████████████████████████████████████████████| 655/655 [00:09<00:00, 65.86it/s]\n"
     ]
    },
    {
     "name": "stdout",
     "output_type": "stream",
     "text": [
      "Epoch: 408, loss: 0.9358291230128921, f1: 0.10104250833882972, precision: 0.05448170197267398, recall: 0.6949931042339965\n"
     ]
    },
    {
     "name": "stderr",
     "output_type": "stream",
     "text": [
      "100%|████████████████████████████████████████████████████████████| 218/218 [00:01<00:00, 197.48it/s]\n"
     ]
    },
    {
     "name": "stdout",
     "output_type": "stream",
     "text": [
      "val_loss: 0.9335215376057756, val_f1: 0.10413264068086335, val_precision: 0.05632202420810904, val_recall: 0.6890706322198614\n"
     ]
    },
    {
     "name": "stderr",
     "output_type": "stream",
     "text": [
      "100%|█████████████████████████████████████████████████████████████| 655/655 [00:09<00:00, 65.97it/s]\n"
     ]
    },
    {
     "name": "stdout",
     "output_type": "stream",
     "text": [
      "Epoch: 409, loss: 0.9360539983247073, f1: 0.10091962499785259, precision: 0.05438307741521822, recall: 0.6994582186104688\n"
     ]
    },
    {
     "name": "stderr",
     "output_type": "stream",
     "text": [
      "100%|████████████████████████████████████████████████████████████| 218/218 [00:01<00:00, 196.07it/s]\n"
     ]
    },
    {
     "name": "stdout",
     "output_type": "stream",
     "text": [
      "val_loss: 0.9321042980075976, val_f1: 0.10741494966095141, val_precision: 0.05799870198558366, val_recall: 0.7258911529265413\n"
     ]
    },
    {
     "name": "stderr",
     "output_type": "stream",
     "text": [
      "100%|█████████████████████████████████████████████████████████████| 655/655 [00:09<00:00, 66.34it/s]\n"
     ]
    },
    {
     "name": "stdout",
     "output_type": "stream",
     "text": [
      "Epoch: 410, loss: 0.9333345599756896, f1: 0.10490018048489338, precision: 0.05676660257363194, recall: 0.6897729461429684\n"
     ]
    },
    {
     "name": "stderr",
     "output_type": "stream",
     "text": [
      "100%|████████████████████████████████████████████████████████████| 218/218 [00:01<00:00, 195.34it/s]\n"
     ]
    },
    {
     "name": "stdout",
     "output_type": "stream",
     "text": [
      "val_loss: 0.9311087549826421, val_f1: 0.10769741328628558, val_precision: 0.0585025802506732, val_recall: 0.6769174557486806\n"
     ]
    },
    {
     "name": "stderr",
     "output_type": "stream",
     "text": [
      "100%|█████████████████████████████████████████████████████████████| 655/655 [00:09<00:00, 69.30it/s]\n"
     ]
    },
    {
     "name": "stdout",
     "output_type": "stream",
     "text": [
      "Epoch: 411, loss: 0.9332047429703574, f1: 0.10514866892849953, precision: 0.056914483065155286, recall: 0.689432861331765\n"
     ]
    },
    {
     "name": "stderr",
     "output_type": "stream",
     "text": [
      "100%|████████████████████████████████████████████████████████████| 218/218 [00:01<00:00, 191.18it/s]\n"
     ]
    },
    {
     "name": "stdout",
     "output_type": "stream",
     "text": [
      "val_loss: 0.9300873443621014, val_f1: 0.10883167792157188, val_precision: 0.059140599195507924, val_recall: 0.6811319859612972\n"
     ]
    },
    {
     "name": "stderr",
     "output_type": "stream",
     "text": [
      "100%|█████████████████████████████████████████████████████████████| 655/655 [00:09<00:00, 66.55it/s]\n"
     ]
    },
    {
     "name": "stdout",
     "output_type": "stream",
     "text": [
      "Epoch: 412, loss: 0.9324955223170855, f1: 0.10598776975506523, precision: 0.057449030964848595, recall: 0.6833552196963143\n"
     ]
    },
    {
     "name": "stderr",
     "output_type": "stream",
     "text": [
      "100%|████████████████████████████████████████████████████████████| 218/218 [00:01<00:00, 195.29it/s]\n"
     ]
    },
    {
     "name": "stdout",
     "output_type": "stream",
     "text": [
      "val_loss: 0.9318564534187317, val_f1: 0.1072255592865541, val_precision: 0.058294654917826344, val_recall: 0.667539886310013\n"
     ]
    },
    {
     "name": "stderr",
     "output_type": "stream",
     "text": [
      "100%|█████████████████████████████████████████████████████████████| 655/655 [00:09<00:00, 66.23it/s]\n"
     ]
    },
    {
     "name": "stdout",
     "output_type": "stream",
     "text": [
      "Epoch: 413, loss: 0.9331784112762859, f1: 0.10483082191807691, precision: 0.05678018371375519, recall: 0.6818583305327947\n"
     ]
    },
    {
     "name": "stderr",
     "output_type": "stream",
     "text": [
      "100%|████████████████████████████████████████████████████████████| 218/218 [00:01<00:00, 195.54it/s]\n"
     ]
    },
    {
     "name": "stdout",
     "output_type": "stream",
     "text": [
      "val_loss: 0.9301193804915892, val_f1: 0.10913537080835987, val_precision: 0.059289919348100385, val_recall: 0.6851235464078571\n"
     ]
    },
    {
     "name": "stderr",
     "output_type": "stream",
     "text": [
      "100%|█████████████████████████████████████████████████████████████| 655/655 [00:09<00:00, 66.56it/s]\n"
     ]
    },
    {
     "name": "stdout",
     "output_type": "stream",
     "text": [
      "Epoch: 414, loss: 0.9340235295186516, f1: 0.10337961521582892, precision: 0.055866546881605535, recall: 0.6913840847615977\n"
     ]
    },
    {
     "name": "stderr",
     "output_type": "stream",
     "text": [
      "100%|████████████████████████████████████████████████████████████| 218/218 [00:01<00:00, 197.54it/s]\n"
     ]
    },
    {
     "name": "stdout",
     "output_type": "stream",
     "text": [
      "val_loss: 0.9307585500795906, val_f1: 0.10820532329978845, val_precision: 0.0587005981355222, val_recall: 0.690713890785471\n"
     ]
    },
    {
     "name": "stderr",
     "output_type": "stream",
     "text": [
      "100%|█████████████████████████████████████████████████████████████| 655/655 [00:09<00:00, 66.56it/s]\n"
     ]
    },
    {
     "name": "stdout",
     "output_type": "stream",
     "text": [
      "Epoch: 415, loss: 0.9359423780259285, f1: 0.10118557349500863, precision: 0.05450410204086424, recall: 0.7050094928677756\n"
     ]
    },
    {
     "name": "stderr",
     "output_type": "stream",
     "text": [
      "100%|████████████████████████████████████████████████████████████| 218/218 [00:01<00:00, 197.21it/s]\n"
     ]
    },
    {
     "name": "stdout",
     "output_type": "stream",
     "text": [
      "val_loss: 0.9342568284327831, val_f1: 0.10319247151895927, val_precision: 0.055672274921153495, val_recall: 0.7047233130406896\n"
     ]
    },
    {
     "name": "stderr",
     "output_type": "stream",
     "text": [
      "100%|█████████████████████████████████████████████████████████████| 655/655 [00:09<00:00, 66.31it/s]\n"
     ]
    },
    {
     "name": "stdout",
     "output_type": "stream",
     "text": [
      "Epoch: 416, loss: 0.9332959782986241, f1: 0.10478817465560489, precision: 0.056730661716468574, recall: 0.6854145640635309\n"
     ]
    },
    {
     "name": "stderr",
     "output_type": "stream",
     "text": [
      "100%|████████████████████████████████████████████████████████████| 218/218 [00:01<00:00, 195.80it/s]\n"
     ]
    },
    {
     "name": "stdout",
     "output_type": "stream",
     "text": [
      "val_loss: 0.9300877257771448, val_f1: 0.10928348292889828, val_precision: 0.05930573374210267, val_recall: 0.694805732424106\n"
     ]
    },
    {
     "name": "stderr",
     "output_type": "stream",
     "text": [
      "100%|█████████████████████████████████████████████████████████████| 655/655 [00:09<00:00, 66.19it/s]\n"
     ]
    },
    {
     "name": "stdout",
     "output_type": "stream",
     "text": [
      "Epoch: 417, loss: 0.9322954257935968, f1: 0.10667060951339122, precision: 0.057803730447669975, recall: 0.6899475996048395\n"
     ]
    },
    {
     "name": "stderr",
     "output_type": "stream",
     "text": [
      "100%|████████████████████████████████████████████████████████████| 218/218 [00:01<00:00, 196.60it/s]\n"
     ]
    },
    {
     "name": "stdout",
     "output_type": "stream",
     "text": [
      "val_loss: 0.9297138608376915, val_f1: 0.10993181470868733, val_precision: 0.05979476315546097, val_recall: 0.6806319234294629\n"
     ]
    },
    {
     "name": "stderr",
     "output_type": "stream",
     "text": [
      "100%|█████████████████████████████████████████████████████████████| 655/655 [00:09<00:00, 66.54it/s]\n"
     ]
    },
    {
     "name": "stdout",
     "output_type": "stream",
     "text": [
      "Epoch: 418, loss: 0.9325898879356966, f1: 0.1061413783271249, precision: 0.05744593491731567, recall: 0.6968055115742537\n"
     ]
    },
    {
     "name": "stderr",
     "output_type": "stream",
     "text": [
      "100%|████████████████████████████████████████████████████████████| 218/218 [00:01<00:00, 195.82it/s]\n"
     ]
    },
    {
     "name": "stdout",
     "output_type": "stream",
     "text": [
      "val_loss: 0.9297683397564319, val_f1: 0.10986755903301118, val_precision: 0.059586358766622605, val_recall: 0.7035460802940053\n"
     ]
    },
    {
     "name": "stderr",
     "output_type": "stream",
     "text": [
      "100%|█████████████████████████████████████████████████████████████| 655/655 [00:09<00:00, 66.22it/s]\n"
     ]
    },
    {
     "name": "stdout",
     "output_type": "stream",
     "text": [
      "Epoch: 419, loss: 0.932261268055166, f1: 0.10632036113585525, precision: 0.05766937874581039, recall: 0.6798802062869072\n"
     ]
    },
    {
     "name": "stderr",
     "output_type": "stream",
     "text": [
      "100%|████████████████████████████████████████████████████████████| 218/218 [00:01<00:00, 198.43it/s]\n"
     ]
    },
    {
     "name": "stdout",
     "output_type": "stream",
     "text": [
      "val_loss: 0.9304335303262833, val_f1: 0.10834500780536535, val_precision: 0.05871376540264064, val_recall: 0.7003938631248583\n"
     ]
    },
    {
     "name": "stderr",
     "output_type": "stream",
     "text": [
      "100%|█████████████████████████████████████████████████████████████| 655/655 [00:09<00:00, 66.05it/s]\n"
     ]
    },
    {
     "name": "stdout",
     "output_type": "stream",
     "text": [
      "Epoch: 420, loss: 0.9331823838576105, f1: 0.10487581434730023, precision: 0.05671721726606195, recall: 0.6950027247194115\n"
     ]
    },
    {
     "name": "stderr",
     "output_type": "stream",
     "text": [
      "100%|████████████████████████████████████████████████████████████| 218/218 [00:01<00:00, 197.10it/s]\n"
     ]
    },
    {
     "name": "stdout",
     "output_type": "stream",
     "text": [
      "val_loss: 0.9297828193104595, val_f1: 0.10943526350236321, val_precision: 0.059436639564735556, val_recall: 0.6891771077152786\n"
     ]
    },
    {
     "name": "stderr",
     "output_type": "stream",
     "text": [
      "100%|█████████████████████████████████████████████████████████████| 655/655 [00:09<00:00, 66.04it/s]\n"
     ]
    },
    {
     "name": "stdout",
     "output_type": "stream",
     "text": [
      "Epoch: 421, loss: 0.9331790516394696, f1: 0.10485807340442284, precision: 0.056810183358869254, recall: 0.6798455796623958\n"
     ]
    },
    {
     "name": "stderr",
     "output_type": "stream",
     "text": [
      "100%|████████████████████████████████████████████████████████████| 218/218 [00:01<00:00, 196.15it/s]\n"
     ]
    },
    {
     "name": "stdout",
     "output_type": "stream",
     "text": [
      "val_loss: 0.9333700135760351, val_f1: 0.10437983626567895, val_precision: 0.056403731524628166, val_recall: 0.6985848344383984\n"
     ]
    },
    {
     "name": "stderr",
     "output_type": "stream",
     "text": [
      "100%|█████████████████████████████████████████████████████████████| 655/655 [00:09<00:00, 66.85it/s]\n"
     ]
    },
    {
     "name": "stdout",
     "output_type": "stream",
     "text": [
      "Epoch: 422, loss: 0.9351073662743313, f1: 0.1016475384667248, precision: 0.05489593057267595, recall: 0.6851442943433769\n"
     ]
    },
    {
     "name": "stderr",
     "output_type": "stream",
     "text": [
      "100%|████████████████████████████████████████████████████████████| 218/218 [00:01<00:00, 189.91it/s]\n"
     ]
    },
    {
     "name": "stdout",
     "output_type": "stream",
     "text": [
      "val_loss: 0.9325522608166441, val_f1: 0.10501738573417921, val_precision: 0.05685624909862756, val_recall: 0.6866955048994187\n"
     ]
    },
    {
     "name": "stderr",
     "output_type": "stream",
     "text": [
      "100%|█████████████████████████████████████████████████████████████| 655/655 [00:09<00:00, 68.07it/s]\n"
     ]
    },
    {
     "name": "stdout",
     "output_type": "stream",
     "text": [
      "Epoch: 423, loss: 0.9352041587574791, f1: 0.10201300373441077, precision: 0.05504512605683892, recall: 0.695201928469971\n"
     ]
    },
    {
     "name": "stderr",
     "output_type": "stream",
     "text": [
      "100%|████████████████████████████████████████████████████████████| 218/218 [00:01<00:00, 196.42it/s]\n"
     ]
    },
    {
     "name": "stdout",
     "output_type": "stream",
     "text": [
      "val_loss: 0.9314564526627916, val_f1: 0.10702860926231068, val_precision: 0.057924046050842615, val_recall: 0.7029357848500987\n"
     ]
    },
    {
     "name": "stderr",
     "output_type": "stream",
     "text": [
      "100%|█████████████████████████████████████████████████████████████| 655/655 [00:09<00:00, 65.58it/s]\n"
     ]
    },
    {
     "name": "stdout",
     "output_type": "stream",
     "text": [
      "Epoch: 424, loss: 0.9357195370069897, f1: 0.10137502374136038, precision: 0.054572507594747625, recall: 0.712007122526642\n"
     ]
    },
    {
     "name": "stderr",
     "output_type": "stream",
     "text": [
      "100%|████████████████████████████████████████████████████████████| 218/218 [00:01<00:00, 197.89it/s]\n"
     ]
    },
    {
     "name": "stdout",
     "output_type": "stream",
     "text": [
      "val_loss: 0.9349019680548152, val_f1: 0.10245505424523942, val_precision: 0.055075605763036994, val_recall: 0.7331937186488318\n"
     ]
    },
    {
     "name": "stderr",
     "output_type": "stream",
     "text": [
      "100%|█████████████████████████████████████████████████████████████| 655/655 [00:09<00:00, 65.89it/s]\n"
     ]
    },
    {
     "name": "stdout",
     "output_type": "stream",
     "text": [
      "Epoch: 425, loss: 0.9370253405498185, f1: 0.09902029937178307, precision: 0.05324570827207436, recall: 0.70570516453217\n"
     ]
    },
    {
     "name": "stderr",
     "output_type": "stream",
     "text": [
      "100%|████████████████████████████████████████████████████████████| 218/218 [00:01<00:00, 195.44it/s]\n"
     ]
    },
    {
     "name": "stdout",
     "output_type": "stream",
     "text": [
      "val_loss: 0.9350930911685349, val_f1: 0.10219959777073942, val_precision: 0.054904642850246044, val_recall: 0.7373800958515307\n"
     ]
    },
    {
     "name": "stderr",
     "output_type": "stream",
     "text": [
      "100%|█████████████████████████████████████████████████████████████| 655/655 [00:09<00:00, 66.13it/s]\n"
     ]
    },
    {
     "name": "stdout",
     "output_type": "stream",
     "text": [
      "Epoch: 426, loss: 0.936596042418298, f1: 0.09955687876307423, precision: 0.05353822085849998, recall: 0.7088308450716142\n"
     ]
    },
    {
     "name": "stderr",
     "output_type": "stream",
     "text": [
      "100%|████████████████████████████████████████████████████████████| 218/218 [00:01<00:00, 196.59it/s]\n"
     ]
    },
    {
     "name": "stdout",
     "output_type": "stream",
     "text": [
      "val_loss: 0.9340095230198782, val_f1: 0.10264786636008544, val_precision: 0.055402186626585526, val_recall: 0.6972244765370263\n"
     ]
    },
    {
     "name": "stderr",
     "output_type": "stream",
     "text": [
      "100%|█████████████████████████████████████████████████████████████| 655/655 [00:09<00:00, 66.33it/s]\n"
     ]
    },
    {
     "name": "stdout",
     "output_type": "stream",
     "text": [
      "Epoch: 427, loss: 0.941581215931259, f1: 0.09150976905780564, precision: 0.04902234490683573, recall: 0.6864694506157446\n"
     ]
    },
    {
     "name": "stderr",
     "output_type": "stream",
     "text": [
      "100%|████████████████████████████████████████████████████████████| 218/218 [00:01<00:00, 196.56it/s]\n"
     ]
    },
    {
     "name": "stdout",
     "output_type": "stream",
     "text": [
      "val_loss: 0.9307249480978065, val_f1: 0.10808765888528728, val_precision: 0.05873378722633688, val_recall: 0.6768075376749039\n"
     ]
    },
    {
     "name": "stderr",
     "output_type": "stream",
     "text": [
      "100%|█████████████████████████████████████████████████████████████| 655/655 [00:09<00:00, 66.30it/s]\n"
     ]
    },
    {
     "name": "stdout",
     "output_type": "stream",
     "text": [
      "Epoch: 428, loss: 0.9338680477542731, f1: 0.1036324776763904, precision: 0.05602641802793013, recall: 0.689537933411944\n"
     ]
    },
    {
     "name": "stderr",
     "output_type": "stream",
     "text": [
      "100%|████████████████████████████████████████████████████████████| 218/218 [00:01<00:00, 196.57it/s]\n"
     ]
    },
    {
     "name": "stdout",
     "output_type": "stream",
     "text": [
      "val_loss: 0.9323693311542546, val_f1: 0.10599063794849929, val_precision: 0.057439236311079646, val_recall: 0.6849836347573394\n"
     ]
    },
    {
     "name": "stderr",
     "output_type": "stream",
     "text": [
      "100%|█████████████████████████████████████████████████████████████| 655/655 [00:09<00:00, 66.27it/s]\n"
     ]
    },
    {
     "name": "stdout",
     "output_type": "stream",
     "text": [
      "Epoch: 429, loss: 0.9356456919480826, f1: 0.10079936181485297, precision: 0.054426849707747804, recall: 0.6811474745851437\n"
     ]
    },
    {
     "name": "stderr",
     "output_type": "stream",
     "text": [
      "100%|████████████████████████████████████████████████████████████| 218/218 [00:01<00:00, 196.84it/s]\n"
     ]
    },
    {
     "name": "stdout",
     "output_type": "stream",
     "text": [
      "val_loss: 0.931038949741136, val_f1: 0.10785683452073908, val_precision: 0.05850620742742006, val_recall: 0.6892293118145487\n"
     ]
    },
    {
     "name": "stderr",
     "output_type": "stream",
     "text": [
      "100%|█████████████████████████████████████████████████████████████| 655/655 [00:09<00:00, 66.13it/s]\n"
     ]
    },
    {
     "name": "stdout",
     "output_type": "stream",
     "text": [
      "Epoch: 430, loss: 0.9343714883309284, f1: 0.10325340265477319, precision: 0.05580825938075383, recall: 0.6890245936754096\n"
     ]
    },
    {
     "name": "stderr",
     "output_type": "stream",
     "text": [
      "100%|████████████████████████████████████████████████████████████| 218/218 [00:01<00:00, 196.64it/s]\n"
     ]
    },
    {
     "name": "stdout",
     "output_type": "stream",
     "text": [
      "val_loss: 0.9295327592333522, val_f1: 0.11018033635313053, val_precision: 0.05983672799850139, val_recall: 0.6944851707837997\n"
     ]
    },
    {
     "name": "stderr",
     "output_type": "stream",
     "text": [
      "100%|█████████████████████████████████████████████████████████████| 655/655 [00:09<00:00, 66.49it/s]\n"
     ]
    },
    {
     "name": "stdout",
     "output_type": "stream",
     "text": [
      "Epoch: 431, loss: 0.9320677628953948, f1: 0.10622823194966649, precision: 0.05762644874586063, recall: 0.6783138649609253\n"
     ]
    },
    {
     "name": "stderr",
     "output_type": "stream",
     "text": [
      "100%|████████████████████████████████████████████████████████████| 218/218 [00:01<00:00, 196.25it/s]\n"
     ]
    },
    {
     "name": "stdout",
     "output_type": "stream",
     "text": [
      "val_loss: 0.9303632312958393, val_f1: 0.10864278681967078, val_precision: 0.058967590366208224, val_recall: 0.6894244270723894\n"
     ]
    },
    {
     "name": "stderr",
     "output_type": "stream",
     "text": [
      "100%|█████████████████████████████████████████████████████████████| 655/655 [00:09<00:00, 65.71it/s]\n"
     ]
    },
    {
     "name": "stdout",
     "output_type": "stream",
     "text": [
      "Epoch: 432, loss: 0.931938029882562, f1: 0.106538824921056, precision: 0.05767847343333748, recall: 0.6968600367203014\n"
     ]
    },
    {
     "name": "stderr",
     "output_type": "stream",
     "text": [
      "100%|████████████████████████████████████████████████████████████| 218/218 [00:01<00:00, 198.98it/s]\n"
     ]
    },
    {
     "name": "stdout",
     "output_type": "stream",
     "text": [
      "val_loss: 0.932314404107015, val_f1: 0.10596328982952685, val_precision: 0.057343233786865115, val_recall: 0.6965669942421651\n"
     ]
    },
    {
     "name": "stderr",
     "output_type": "stream",
     "text": [
      "100%|█████████████████████████████████████████████████████████████| 655/655 [00:09<00:00, 66.38it/s]\n"
     ]
    },
    {
     "name": "stdout",
     "output_type": "stream",
     "text": [
      "Epoch: 433, loss: 0.9309552042538883, f1: 0.10809276172070749, precision: 0.05868524640606617, recall: 0.6837286286681663\n"
     ]
    },
    {
     "name": "stderr",
     "output_type": "stream",
     "text": [
      "100%|████████████████████████████████████████████████████████████| 218/218 [00:01<00:00, 196.75it/s]\n"
     ]
    },
    {
     "name": "stdout",
     "output_type": "stream",
     "text": [
      "val_loss: 0.9291978574127232, val_f1: 0.11038417671128319, val_precision: 0.060010395308640364, val_recall: 0.6873989292172664\n"
     ]
    },
    {
     "name": "stderr",
     "output_type": "stream",
     "text": [
      "100%|█████████████████████████████████████████████████████████████| 655/655 [00:09<00:00, 71.40it/s]\n"
     ]
    },
    {
     "name": "stdout",
     "output_type": "stream",
     "text": [
      "Epoch: 434, loss: 0.9329132509595566, f1: 0.10514704521159449, precision: 0.0570226656553826, recall: 0.6738111965528881\n"
     ]
    },
    {
     "name": "stderr",
     "output_type": "stream",
     "text": [
      "100%|████████████████████████████████████████████████████████████| 218/218 [00:01<00:00, 198.20it/s]\n"
     ]
    },
    {
     "name": "stdout",
     "output_type": "stream",
     "text": [
      "val_loss: 0.9292394576269553, val_f1: 0.11043391541119824, val_precision: 0.06009538272511077, val_recall: 0.6801957994562771\n"
     ]
    },
    {
     "name": "stderr",
     "output_type": "stream",
     "text": [
      "100%|█████████████████████████████████████████████████████████████| 655/655 [00:09<00:00, 66.09it/s]\n"
     ]
    },
    {
     "name": "stdout",
     "output_type": "stream",
     "text": [
      "Epoch: 435, loss: 0.9326617493884254, f1: 0.10526731501269701, precision: 0.057136106657802714, recall: 0.6679214285188959\n"
     ]
    },
    {
     "name": "stderr",
     "output_type": "stream",
     "text": [
      "100%|████████████████████████████████████████████████████████████| 218/218 [00:01<00:00, 196.34it/s]\n"
     ]
    },
    {
     "name": "stdout",
     "output_type": "stream",
     "text": [
      "val_loss: 0.9316367031237401, val_f1: 0.10650427863154026, val_precision: 0.05789214285163192, val_recall: 0.6644133851615661\n"
     ]
    },
    {
     "name": "stderr",
     "output_type": "stream",
     "text": [
      "100%|█████████████████████████████████████████████████████████████| 655/655 [00:09<00:00, 65.69it/s]\n"
     ]
    },
    {
     "name": "stdout",
     "output_type": "stream",
     "text": [
      "Epoch: 436, loss: 0.9341630401502129, f1: 0.10376418369482149, precision: 0.056105888473182805, recall: 0.6891645400692489\n"
     ]
    },
    {
     "name": "stderr",
     "output_type": "stream",
     "text": [
      "100%|████████████████████████████████████████████████████████████| 218/218 [00:01<00:00, 197.88it/s]\n"
     ]
    },
    {
     "name": "stdout",
     "output_type": "stream",
     "text": [
      "val_loss: 0.934419555948415, val_f1: 0.10267648395188123, val_precision: 0.05546118100301935, val_recall: 0.6905946248304953\n"
     ]
    },
    {
     "name": "stderr",
     "output_type": "stream",
     "text": [
      "100%|█████████████████████████████████████████████████████████████| 655/655 [00:09<00:00, 66.09it/s]\n"
     ]
    },
    {
     "name": "stdout",
     "output_type": "stream",
     "text": [
      "Epoch: 437, loss: 0.9329498830642409, f1: 0.10538677156475519, precision: 0.05712736062172317, recall: 0.6789019245796531\n"
     ]
    },
    {
     "name": "stderr",
     "output_type": "stream",
     "text": [
      "100%|████████████████████████████████████████████████████████████| 218/218 [00:01<00:00, 196.36it/s]\n"
     ]
    },
    {
     "name": "stdout",
     "output_type": "stream",
     "text": [
      "val_loss: 0.9297891855239868, val_f1: 0.10919283696090575, val_precision: 0.05927315538796092, val_recall: 0.6919572471615372\n"
     ]
    },
    {
     "name": "stderr",
     "output_type": "stream",
     "text": [
      "100%|█████████████████████████████████████████████████████████████| 655/655 [00:09<00:00, 66.26it/s]\n"
     ]
    },
    {
     "name": "stdout",
     "output_type": "stream",
     "text": [
      "Epoch: 438, loss: 0.9316816926002502, f1: 0.10709644750533186, precision: 0.05821391446480371, recall: 0.6681222373292647\n"
     ]
    },
    {
     "name": "stderr",
     "output_type": "stream",
     "text": [
      "100%|████████████████████████████████████████████████████████████| 218/218 [00:01<00:00, 198.60it/s]\n"
     ]
    },
    {
     "name": "stdout",
     "output_type": "stream",
     "text": [
      "val_loss: 0.9329036780453603, val_f1: 0.10557910933881702, val_precision: 0.057081530345902874, val_recall: 0.702079600150432\n"
     ]
    },
    {
     "name": "stderr",
     "output_type": "stream",
     "text": [
      "100%|█████████████████████████████████████████████████████████████| 655/655 [00:09<00:00, 66.02it/s]\n"
     ]
    },
    {
     "name": "stdout",
     "output_type": "stream",
     "text": [
      "Epoch: 439, loss: 0.9337497877710648, f1: 0.10398528976416853, precision: 0.056171703113257206, recall: 0.6988453500370942\n"
     ]
    },
    {
     "name": "stderr",
     "output_type": "stream",
     "text": [
      "100%|████████████████████████████████████████████████████████████| 218/218 [00:01<00:00, 196.76it/s]\n"
     ]
    },
    {
     "name": "stdout",
     "output_type": "stream",
     "text": [
      "val_loss: 0.9301189430263064, val_f1: 0.10885979069243283, val_precision: 0.05911011771414292, val_recall: 0.6874368925570348\n"
     ]
    },
    {
     "name": "stderr",
     "output_type": "stream",
     "text": [
      "100%|█████████████████████████████████████████████████████████████| 655/655 [00:09<00:00, 66.08it/s]\n"
     ]
    },
    {
     "name": "stdout",
     "output_type": "stream",
     "text": [
      "Epoch: 440, loss: 0.9315709399813004, f1: 0.10706838442475988, precision: 0.058167365770289345, recall: 0.672097192283805\n"
     ]
    },
    {
     "name": "stderr",
     "output_type": "stream",
     "text": [
      "100%|████████████████████████████████████████████████████████████| 218/218 [00:01<00:00, 197.08it/s]\n"
     ]
    },
    {
     "name": "stdout",
     "output_type": "stream",
     "text": [
      "val_loss: 0.9287869099083297, val_f1: 0.11096206715332202, val_precision: 0.060389553189252015, val_recall: 0.6825835674727728\n"
     ]
    },
    {
     "name": "stderr",
     "output_type": "stream",
     "text": [
      "100%|█████████████████████████████████████████████████████████████| 655/655 [00:09<00:00, 65.75it/s]\n"
     ]
    },
    {
     "name": "stdout",
     "output_type": "stream",
     "text": [
      "Epoch: 441, loss: 0.9318764635624777, f1: 0.10684527204623603, precision: 0.05796465307388824, recall: 0.6817729939713733\n"
     ]
    },
    {
     "name": "stderr",
     "output_type": "stream",
     "text": [
      "100%|████████████████████████████████████████████████████████████| 218/218 [00:01<00:00, 198.41it/s]\n"
     ]
    },
    {
     "name": "stdout",
     "output_type": "stream",
     "text": [
      "val_loss: 0.9323003166312471, val_f1: 0.10585186866408527, val_precision: 0.05719374144906947, val_recall: 0.7092710896096098\n"
     ]
    },
    {
     "name": "stderr",
     "output_type": "stream",
     "text": [
      "100%|█████████████████████████████████████████████████████████████| 655/655 [00:09<00:00, 66.31it/s]\n"
     ]
    },
    {
     "name": "stdout",
     "output_type": "stream",
     "text": [
      "Epoch: 442, loss: 0.9324843427607121, f1: 0.10619792251469506, precision: 0.05758870106211771, recall: 0.681086285514686\n"
     ]
    },
    {
     "name": "stderr",
     "output_type": "stream",
     "text": [
      "100%|████████████████████████████████████████████████████████████| 218/218 [00:01<00:00, 196.25it/s]\n"
     ]
    },
    {
     "name": "stdout",
     "output_type": "stream",
     "text": [
      "val_loss: 0.9294884822784214, val_f1: 0.10966688611893231, val_precision: 0.059740049955691425, val_recall: 0.667620760516836\n"
     ]
    },
    {
     "name": "stderr",
     "output_type": "stream",
     "text": [
      "100%|█████████████████████████████████████████████████████████████| 655/655 [00:09<00:00, 66.41it/s]\n"
     ]
    },
    {
     "name": "stdout",
     "output_type": "stream",
     "text": [
      "Epoch: 443, loss: 0.9314189222022777, f1: 0.10714900124510852, precision: 0.058252475247185194, recall: 0.6671364258718855\n"
     ]
    },
    {
     "name": "stderr",
     "output_type": "stream",
     "text": [
      "100%|████████████████████████████████████████████████████████████| 218/218 [00:01<00:00, 197.98it/s]\n"
     ]
    },
    {
     "name": "stdout",
     "output_type": "stream",
     "text": [
      "val_loss: 0.9335144698073011, val_f1: 0.10389034860902802, val_precision: 0.056098445728762984, val_recall: 0.701626078319659\n"
     ]
    },
    {
     "name": "stderr",
     "output_type": "stream",
     "text": [
      "100%|█████████████████████████████████████████████████████████████| 655/655 [00:09<00:00, 66.20it/s]\n"
     ]
    },
    {
     "name": "stdout",
     "output_type": "stream",
     "text": [
      "Epoch: 444, loss: 0.931786914909159, f1: 0.10701583037440698, precision: 0.05805472845126313, recall: 0.6832010258131355\n"
     ]
    },
    {
     "name": "stderr",
     "output_type": "stream",
     "text": [
      "100%|████████████████████████████████████████████████████████████| 218/218 [00:01<00:00, 198.26it/s]\n"
     ]
    },
    {
     "name": "stdout",
     "output_type": "stream",
     "text": [
      "val_loss: 0.9297925633028012, val_f1: 0.10999775028560374, val_precision: 0.05965199900914941, val_recall: 0.7050731808904114\n"
     ]
    },
    {
     "name": "stderr",
     "output_type": "stream",
     "text": [
      "100%|█████████████████████████████████████████████████████████████| 655/655 [00:09<00:00, 70.61it/s]\n"
     ]
    },
    {
     "name": "stdout",
     "output_type": "stream",
     "text": [
      "Epoch: 445, loss: 0.9322059524878291, f1: 0.10637083772012688, precision: 0.057643759978991994, recall: 0.6876565604491999\n"
     ]
    },
    {
     "name": "stderr",
     "output_type": "stream",
     "text": [
      "100%|████████████████████████████████████████████████████████████| 218/218 [00:01<00:00, 196.24it/s]\n"
     ]
    },
    {
     "name": "stdout",
     "output_type": "stream",
     "text": [
      "val_loss: 0.9319357420873204, val_f1: 0.10631575140259909, val_precision: 0.05761628514027582, val_recall: 0.6869623272107281\n"
     ]
    },
    {
     "name": "stderr",
     "output_type": "stream",
     "text": [
      "100%|█████████████████████████████████████████████████████████████| 655/655 [00:09<00:00, 65.91it/s]\n"
     ]
    },
    {
     "name": "stdout",
     "output_type": "stream",
     "text": [
      "Epoch: 446, loss: 0.9321097889019333, f1: 0.10658468175515642, precision: 0.057802756845183274, recall: 0.6829623350887808\n"
     ]
    },
    {
     "name": "stderr",
     "output_type": "stream",
     "text": [
      "100%|████████████████████████████████████████████████████████████| 218/218 [00:01<00:00, 195.20it/s]\n"
     ]
    },
    {
     "name": "stdout",
     "output_type": "stream",
     "text": [
      "val_loss: 0.9305650660204231, val_f1: 0.10850129213912735, val_precision: 0.05905082091313163, val_recall: 0.6673809371273453\n"
     ]
    },
    {
     "name": "stderr",
     "output_type": "stream",
     "text": [
      "100%|█████████████████████████████████████████████████████████████| 655/655 [00:09<00:00, 65.94it/s]\n"
     ]
    },
    {
     "name": "stdout",
     "output_type": "stream",
     "text": [
      "Epoch: 447, loss: 0.9324448682879674, f1: 0.10594985964581498, precision: 0.05752555991999293, recall: 0.6696682513783906\n"
     ]
    },
    {
     "name": "stderr",
     "output_type": "stream",
     "text": [
      "100%|████████████████████████████████████████████████████████████| 218/218 [00:01<00:00, 195.43it/s]\n"
     ]
    },
    {
     "name": "stdout",
     "output_type": "stream",
     "text": [
      "val_loss: 0.9295443794049254, val_f1: 0.11011852953346477, val_precision: 0.05986814707979013, val_recall: 0.6854599357129784\n"
     ]
    },
    {
     "name": "stderr",
     "output_type": "stream",
     "text": [
      "100%|█████████████████████████████████████████████████████████████| 655/655 [00:09<00:00, 66.26it/s]\n"
     ]
    },
    {
     "name": "stdout",
     "output_type": "stream",
     "text": [
      "Epoch: 448, loss: 0.9325597286224365, f1: 0.10589822191714837, precision: 0.057385244376545075, recall: 0.6849428061765569\n"
     ]
    },
    {
     "name": "stderr",
     "output_type": "stream",
     "text": [
      "100%|████████████████████████████████████████████████████████████| 218/218 [00:01<00:00, 197.00it/s]\n"
     ]
    },
    {
     "name": "stdout",
     "output_type": "stream",
     "text": [
      "val_loss: 0.930115113017756, val_f1: 0.10889606215710138, val_precision: 0.05931992742549115, val_recall: 0.662956069266304\n"
     ]
    },
    {
     "name": "stderr",
     "output_type": "stream",
     "text": [
      "100%|█████████████████████████████████████████████████████████████| 655/655 [00:09<00:00, 65.74it/s]\n"
     ]
    },
    {
     "name": "stdout",
     "output_type": "stream",
     "text": [
      "Epoch: 449, loss: 0.9332729674477613, f1: 0.10495074025881634, precision: 0.056786909548011216, recall: 0.6911485220753509\n"
     ]
    },
    {
     "name": "stderr",
     "output_type": "stream",
     "text": [
      "100%|████████████████████████████████████████████████████████████| 218/218 [00:01<00:00, 196.07it/s]\n"
     ]
    },
    {
     "name": "stdout",
     "output_type": "stream",
     "text": [
      "val_loss: 0.9314029941318231, val_f1: 0.10757490038840724, val_precision: 0.058288812238953734, val_recall: 0.6965017596926164\n"
     ]
    },
    {
     "name": "stderr",
     "output_type": "stream",
     "text": [
      "100%|█████████████████████████████████████████████████████████████| 655/655 [00:09<00:00, 65.81it/s]\n"
     ]
    },
    {
     "name": "stdout",
     "output_type": "stream",
     "text": [
      "Epoch: 450, loss: 0.9336248991143612, f1: 0.10496397997624479, precision: 0.056674664224078526, recall: 0.7094276809965381\n"
     ]
    },
    {
     "name": "stderr",
     "output_type": "stream",
     "text": [
      "100%|████████████████████████████████████████████████████████████| 218/218 [00:01<00:00, 198.08it/s]\n"
     ]
    },
    {
     "name": "stdout",
     "output_type": "stream",
     "text": [
      "val_loss: 0.9321097176556193, val_f1: 0.10649357002931055, val_precision: 0.05767825015483065, val_recall: 0.6930397258849319\n"
     ]
    },
    {
     "name": "stderr",
     "output_type": "stream",
     "text": [
      "100%|█████████████████████████████████████████████████████████████| 655/655 [00:09<00:00, 66.26it/s]\n"
     ]
    },
    {
     "name": "stdout",
     "output_type": "stream",
     "text": [
      "Epoch: 451, loss: 0.9326908763128382, f1: 0.1057924315229635, precision: 0.05731108994472004, recall: 0.6866650448955652\n"
     ]
    },
    {
     "name": "stderr",
     "output_type": "stream",
     "text": [
      "100%|████████████████████████████████████████████████████████████| 218/218 [00:01<00:00, 198.31it/s]\n"
     ]
    },
    {
     "name": "stdout",
     "output_type": "stream",
     "text": [
      "val_loss: 0.9301274126275964, val_f1: 0.10969390122405659, val_precision: 0.059340535648649884, val_recall: 0.7242874901639212\n"
     ]
    },
    {
     "name": "stderr",
     "output_type": "stream",
     "text": [
      "100%|█████████████████████████████████████████████████████████████| 655/655 [00:09<00:00, 66.21it/s]\n"
     ]
    },
    {
     "name": "stdout",
     "output_type": "stream",
     "text": [
      "Epoch: 452, loss: 0.9323364763769485, f1: 0.10670277119901676, precision: 0.05773212822004868, recall: 0.703097465645721\n"
     ]
    },
    {
     "name": "stderr",
     "output_type": "stream",
     "text": [
      "100%|████████████████████████████████████████████████████████████| 218/218 [00:01<00:00, 196.91it/s]\n"
     ]
    },
    {
     "name": "stdout",
     "output_type": "stream",
     "text": [
      "val_loss: 0.9303575062423671, val_f1: 0.10887929545941158, val_precision: 0.05901489297244185, val_recall: 0.7022027921512586\n"
     ]
    },
    {
     "name": "stderr",
     "output_type": "stream",
     "text": [
      "100%|█████████████████████████████████████████████████████████████| 655/655 [00:09<00:00, 69.53it/s]\n"
     ]
    },
    {
     "name": "stdout",
     "output_type": "stream",
     "text": [
      "Epoch: 453, loss: 0.9322785769710104, f1: 0.10650650134615185, precision: 0.057696805380725566, recall: 0.6914604730050983\n"
     ]
    },
    {
     "name": "stderr",
     "output_type": "stream",
     "text": [
      "100%|████████████████████████████████████████████████████████████| 218/218 [00:01<00:00, 196.18it/s]\n"
     ]
    },
    {
     "name": "stdout",
     "output_type": "stream",
     "text": [
      "val_loss: 0.9315246928722487, val_f1: 0.10781415299767752, val_precision: 0.05837870728322775, val_recall: 0.7037757791647123\n"
     ]
    },
    {
     "name": "stderr",
     "output_type": "stream",
     "text": [
      "100%|█████████████████████████████████████████████████████████████| 655/655 [00:09<00:00, 66.81it/s]\n"
     ]
    },
    {
     "name": "stdout",
     "output_type": "stream",
     "text": [
      "Epoch: 454, loss: 0.9338960037886641, f1: 0.10392348695356932, precision: 0.056237548644448285, recall: 0.6834270884289997\n"
     ]
    },
    {
     "name": "stderr",
     "output_type": "stream",
     "text": [
      "100%|████████████████████████████████████████████████████████████| 218/218 [00:01<00:00, 197.56it/s]\n"
     ]
    },
    {
     "name": "stdout",
     "output_type": "stream",
     "text": [
      "val_loss: 0.9305800863909065, val_f1: 0.10843926151475114, val_precision: 0.05902694764658125, val_recall: 0.6657392012826894\n"
     ]
    },
    {
     "name": "stderr",
     "output_type": "stream",
     "text": [
      "100%|█████████████████████████████████████████████████████████████| 655/655 [00:09<00:00, 66.55it/s]\n"
     ]
    },
    {
     "name": "stdout",
     "output_type": "stream",
     "text": [
      "Epoch: 455, loss: 0.9323674128255771, f1: 0.10590941466691604, precision: 0.05743057379065408, recall: 0.6794705016694906\n"
     ]
    },
    {
     "name": "stderr",
     "output_type": "stream",
     "text": [
      "100%|████████████████████████████████████████████████████████████| 218/218 [00:01<00:00, 196.09it/s]\n"
     ]
    },
    {
     "name": "stdout",
     "output_type": "stream",
     "text": [
      "val_loss: 0.9313593703672427, val_f1: 0.10770453685320563, val_precision: 0.058545460208925766, val_recall: 0.6717828685810806\n"
     ]
    },
    {
     "name": "stderr",
     "output_type": "stream",
     "text": [
      "100%|█████████████████████████████████████████████████████████████| 655/655 [00:09<00:00, 66.76it/s]\n"
     ]
    },
    {
     "name": "stdout",
     "output_type": "stream",
     "text": [
      "Epoch: 456, loss: 0.9311035765036372, f1: 0.10824853999277746, precision: 0.058843322165438354, recall: 0.6748922754562539\n"
     ]
    },
    {
     "name": "stderr",
     "output_type": "stream",
     "text": [
      "100%|████████████████████████████████████████████████████████████| 218/218 [00:01<00:00, 193.00it/s]\n"
     ]
    },
    {
     "name": "stdout",
     "output_type": "stream",
     "text": [
      "val_loss: 0.9293085642910879, val_f1: 0.11034717089141415, val_precision: 0.060177397835196565, val_recall: 0.6635346297824055\n"
     ]
    },
    {
     "name": "stderr",
     "output_type": "stream",
     "text": [
      "100%|█████████████████████████████████████████████████████████████| 655/655 [00:09<00:00, 67.73it/s]\n"
     ]
    },
    {
     "name": "stdout",
     "output_type": "stream",
     "text": [
      "Epoch: 457, loss: 0.9308474299561886, f1: 0.10843239522091255, precision: 0.05895594721624471, recall: 0.6743747139477548\n"
     ]
    },
    {
     "name": "stderr",
     "output_type": "stream",
     "text": [
      "100%|████████████████████████████████████████████████████████████| 218/218 [00:01<00:00, 196.45it/s]\n"
     ]
    },
    {
     "name": "stdout",
     "output_type": "stream",
     "text": [
      "val_loss: 0.9331257980351054, val_f1: 0.10515959987837761, val_precision: 0.05680379474219448, val_recall: 0.7070870828737906\n"
     ]
    },
    {
     "name": "stderr",
     "output_type": "stream",
     "text": [
      "100%|█████████████████████████████████████████████████████████████| 655/655 [00:09<00:00, 66.11it/s]\n"
     ]
    },
    {
     "name": "stdout",
     "output_type": "stream",
     "text": [
      "Epoch: 458, loss: 0.9303491850845687, f1: 0.10909095486649145, precision: 0.05932764179243898, recall: 0.6766924562800022\n"
     ]
    },
    {
     "name": "stderr",
     "output_type": "stream",
     "text": [
      "100%|████████████████████████████████████████████████████████████| 218/218 [00:01<00:00, 196.48it/s]\n"
     ]
    },
    {
     "name": "stdout",
     "output_type": "stream",
     "text": [
      "val_loss: 0.9303385839549774, val_f1: 0.10909948246572262, val_precision: 0.05931408950042219, val_recall: 0.6791208475964878\n"
     ]
    },
    {
     "name": "stderr",
     "output_type": "stream",
     "text": [
      "100%|█████████████████████████████████████████████████████████████| 655/655 [00:09<00:00, 66.17it/s]\n"
     ]
    },
    {
     "name": "stdout",
     "output_type": "stream",
     "text": [
      "Epoch: 459, loss: 0.9318576281307308, f1: 0.10741421117481624, precision: 0.0582365634517019, recall: 0.6905279519221255\n"
     ]
    },
    {
     "name": "stderr",
     "output_type": "stream",
     "text": [
      "100%|████████████████████████████████████████████████████████████| 218/218 [00:01<00:00, 197.52it/s]\n"
     ]
    },
    {
     "name": "stdout",
     "output_type": "stream",
     "text": [
      "val_loss: 0.9304471259270239, val_f1: 0.10809048001183219, val_precision: 0.05870958182900939, val_recall: 0.6802617734588614\n"
     ]
    },
    {
     "name": "stderr",
     "output_type": "stream",
     "text": [
      "100%|█████████████████████████████████████████████████████████████| 655/655 [00:09<00:00, 66.15it/s]\n"
     ]
    },
    {
     "name": "stdout",
     "output_type": "stream",
     "text": [
      "Epoch: 460, loss: 0.9316640394334574, f1: 0.10720280281262565, precision: 0.058126055039749804, recall: 0.688591494678541\n"
     ]
    },
    {
     "name": "stderr",
     "output_type": "stream",
     "text": [
      "100%|████████████████████████████████████████████████████████████| 218/218 [00:01<00:00, 197.13it/s]\n"
     ]
    },
    {
     "name": "stdout",
     "output_type": "stream",
     "text": [
      "val_loss: 0.9295326277203516, val_f1: 0.1101599517578504, val_precision: 0.06010395371560178, val_recall: 0.6589448497792997\n"
     ]
    },
    {
     "name": "stderr",
     "output_type": "stream",
     "text": [
      "100%|█████████████████████████████████████████████████████████████| 655/655 [00:09<00:00, 66.35it/s]\n"
     ]
    },
    {
     "name": "stdout",
     "output_type": "stream",
     "text": [
      "Epoch: 461, loss: 0.9320285729779542, f1: 0.10687777629458148, precision: 0.05779533429952864, recall: 0.7089536510123551\n"
     ]
    },
    {
     "name": "stderr",
     "output_type": "stream",
     "text": [
      "100%|████████████████████████████████████████████████████████████| 218/218 [00:01<00:00, 196.01it/s]\n"
     ]
    },
    {
     "name": "stdout",
     "output_type": "stream",
     "text": [
      "val_loss: 0.9293973722042294, val_f1: 0.11015275334116965, val_precision: 0.05995089082376297, val_recall: 0.6773757837165933\n"
     ]
    },
    {
     "name": "stderr",
     "output_type": "stream",
     "text": [
      "100%|█████████████████████████████████████████████████████████████| 655/655 [00:09<00:00, 65.86it/s]\n"
     ]
    },
    {
     "name": "stdout",
     "output_type": "stream",
     "text": [
      "Epoch: 462, loss: 0.9316507455956845, f1: 0.10735778002265065, precision: 0.05806553834651149, recall: 0.7105410345638071\n"
     ]
    },
    {
     "name": "stderr",
     "output_type": "stream",
     "text": [
      "100%|████████████████████████████████████████████████████████████| 218/218 [00:01<00:00, 196.01it/s]\n"
     ]
    },
    {
     "name": "stdout",
     "output_type": "stream",
     "text": [
      "val_loss: 0.9289355092092392, val_f1: 0.11195351009226988, val_precision: 0.060742120514837426, val_recall: 0.7135122842881658\n"
     ]
    },
    {
     "name": "stderr",
     "output_type": "stream",
     "text": [
      "100%|█████████████████████████████████████████████████████████████| 655/655 [00:09<00:00, 66.09it/s]\n"
     ]
    },
    {
     "name": "stdout",
     "output_type": "stream",
     "text": [
      "Epoch: 463, loss: 0.9319298774231481, f1: 0.10703278068597123, precision: 0.05802289273532975, recall: 0.6890434101906442\n"
     ]
    },
    {
     "name": "stderr",
     "output_type": "stream",
     "text": [
      "100%|████████████████████████████████████████████████████████████| 218/218 [00:01<00:00, 196.02it/s]\n"
     ]
    },
    {
     "name": "stdout",
     "output_type": "stream",
     "text": [
      "val_loss: 0.9308490796920357, val_f1: 0.10816412974284889, val_precision: 0.0587483185435295, val_recall: 0.6808953387064671\n"
     ]
    },
    {
     "name": "stderr",
     "output_type": "stream",
     "text": [
      "100%|█████████████████████████████████████████████████████████████| 655/655 [00:09<00:00, 66.39it/s]\n"
     ]
    },
    {
     "name": "stdout",
     "output_type": "stream",
     "text": [
      "Epoch: 464, loss: 0.9298908480251108, f1: 0.10994602218781901, precision: 0.05983663013894538, recall: 0.6763275869247568\n"
     ]
    },
    {
     "name": "stderr",
     "output_type": "stream",
     "text": [
      "100%|████████████████████████████████████████████████████████████| 218/218 [00:01<00:00, 195.93it/s]\n"
     ]
    },
    {
     "name": "stdout",
     "output_type": "stream",
     "text": [
      "val_loss: 0.9286644322062851, val_f1: 0.11128616920757227, val_precision: 0.06079990531044474, val_recall: 0.6560426409091424\n"
     ]
    },
    {
     "name": "stderr",
     "output_type": "stream",
     "text": [
      "100%|█████████████████████████████████████████████████████████████| 655/655 [00:09<00:00, 66.44it/s]\n"
     ]
    },
    {
     "name": "stdout",
     "output_type": "stream",
     "text": [
      "Epoch: 465, loss: 0.9307760085768372, f1: 0.10873708594143215, precision: 0.05911929889898463, recall: 0.676572358403497\n"
     ]
    },
    {
     "name": "stderr",
     "output_type": "stream",
     "text": [
      "100%|████████████████████████████████████████████████████████████| 218/218 [00:01<00:00, 197.84it/s]\n"
     ]
    },
    {
     "name": "stdout",
     "output_type": "stream",
     "text": [
      "val_loss: 0.9304768609891244, val_f1: 0.10888619635763626, val_precision: 0.0592380385405871, val_recall: 0.6726053099429935\n"
     ]
    },
    {
     "name": "stderr",
     "output_type": "stream",
     "text": [
      "100%|█████████████████████████████████████████████████████████████| 655/655 [00:09<00:00, 66.40it/s]\n"
     ]
    },
    {
     "name": "stdout",
     "output_type": "stream",
     "text": [
      "Epoch: 466, loss: 0.929768558221919, f1: 0.10997875242603955, precision: 0.05986601540868576, recall: 0.6750540098616185\n"
     ]
    },
    {
     "name": "stderr",
     "output_type": "stream",
     "text": [
      "100%|████████████████████████████████████████████████████████████| 218/218 [00:01<00:00, 196.60it/s]\n"
     ]
    },
    {
     "name": "stdout",
     "output_type": "stream",
     "text": [
      "val_loss: 0.9276081438458293, val_f1: 0.11286894281351478, val_precision: 0.0614385729604358, val_recall: 0.6928822990130941\n"
     ]
    },
    {
     "name": "stderr",
     "output_type": "stream",
     "text": [
      "100%|█████████████████████████████████████████████████████████████| 655/655 [00:09<00:00, 66.21it/s]\n"
     ]
    },
    {
     "name": "stdout",
     "output_type": "stream",
     "text": [
      "Epoch: 467, loss: 0.9294266221177487, f1: 0.11028145450143928, precision: 0.06002352622671778, recall: 0.6778368113377622\n"
     ]
    },
    {
     "name": "stderr",
     "output_type": "stream",
     "text": [
      "100%|████████████████████████████████████████████████████████████| 218/218 [00:01<00:00, 197.59it/s]\n"
     ]
    },
    {
     "name": "stdout",
     "output_type": "stream",
     "text": [
      "val_loss: 0.9287201603618237, val_f1: 0.11152435591032138, val_precision: 0.06054698621080932, val_recall: 0.7056148625705221\n"
     ]
    },
    {
     "name": "stderr",
     "output_type": "stream",
     "text": [
      "100%|█████████████████████████████████████████████████████████████| 655/655 [00:09<00:00, 71.01it/s]\n"
     ]
    },
    {
     "name": "stdout",
     "output_type": "stream",
     "text": [
      "Epoch: 468, loss: 0.9348128104027901, f1: 0.10276210942094478, precision: 0.055457151551439446, recall: 0.6990626202284834\n"
     ]
    },
    {
     "name": "stderr",
     "output_type": "stream",
     "text": [
      "100%|████████████████████████████████████████████████████████████| 218/218 [00:01<00:00, 195.88it/s]\n"
     ]
    },
    {
     "name": "stdout",
     "output_type": "stream",
     "text": [
      "val_loss: 0.9373610183733319, val_f1: 0.09832496197557497, val_precision: 0.05299960820051337, val_recall: 0.6790476536395353\n"
     ]
    },
    {
     "name": "stderr",
     "output_type": "stream",
     "text": [
      "100%|█████████████████████████████████████████████████████████████| 655/655 [00:09<00:00, 66.07it/s]\n"
     ]
    },
    {
     "name": "stdout",
     "output_type": "stream",
     "text": [
      "Epoch: 469, loss: 0.9323639607611504, f1: 0.10587527241586123, precision: 0.057373320147793255, recall: 0.6847214524755041\n"
     ]
    },
    {
     "name": "stderr",
     "output_type": "stream",
     "text": [
      "100%|████████████████████████████████████████████████████████████| 218/218 [00:01<00:00, 196.54it/s]\n"
     ]
    },
    {
     "name": "stdout",
     "output_type": "stream",
     "text": [
      "val_loss: 0.9290847007287751, val_f1: 0.11061529636950655, val_precision: 0.06012794368370616, val_recall: 0.6899027572175779\n"
     ]
    },
    {
     "name": "stderr",
     "output_type": "stream",
     "text": [
      "100%|█████████████████████████████████████████████████████████████| 655/655 [00:09<00:00, 66.02it/s]\n"
     ]
    },
    {
     "name": "stdout",
     "output_type": "stream",
     "text": [
      "Epoch: 470, loss: 0.9325446478283133, f1: 0.10562617259961948, precision: 0.0572400696433455, recall: 0.6828633638966175\n"
     ]
    },
    {
     "name": "stderr",
     "output_type": "stream",
     "text": [
      "100%|████████████████████████████████████████████████████████████| 218/218 [00:01<00:00, 196.47it/s]\n"
     ]
    },
    {
     "name": "stdout",
     "output_type": "stream",
     "text": [
      "val_loss: 0.9300238741647213, val_f1: 0.10860858856274153, val_precision: 0.05906618185663903, val_recall: 0.6735873686474397\n"
     ]
    },
    {
     "name": "stderr",
     "output_type": "stream",
     "text": [
      "100%|█████████████████████████████████████████████████████████████| 655/655 [00:09<00:00, 65.95it/s]\n"
     ]
    },
    {
     "name": "stdout",
     "output_type": "stream",
     "text": [
      "Epoch: 471, loss: 0.9318503610050405, f1: 0.10627080336903676, precision: 0.05767850149031871, recall: 0.6745989470308974\n"
     ]
    },
    {
     "name": "stderr",
     "output_type": "stream",
     "text": [
      "100%|████████████████████████████████████████████████████████████| 218/218 [00:01<00:00, 196.21it/s]\n"
     ]
    },
    {
     "name": "stdout",
     "output_type": "stream",
     "text": [
      "val_loss: 0.9290877438466484, val_f1: 0.11022907659592816, val_precision: 0.06005398540356017, val_recall: 0.6700846486887254\n"
     ]
    },
    {
     "name": "stderr",
     "output_type": "stream",
     "text": [
      "100%|█████████████████████████████████████████████████████████████| 655/655 [00:09<00:00, 65.58it/s]\n"
     ]
    },
    {
     "name": "stdout",
     "output_type": "stream",
     "text": [
      "Epoch: 472, loss: 0.9325750367332051, f1: 0.10583413272468455, precision: 0.05721937697860661, recall: 0.7037803261675908\n"
     ]
    },
    {
     "name": "stderr",
     "output_type": "stream",
     "text": [
      "100%|████████████████████████████████████████████████████████████| 218/218 [00:01<00:00, 197.72it/s]\n"
     ]
    },
    {
     "name": "stdout",
     "output_type": "stream",
     "text": [
      "val_loss: 0.9352935749456424, val_f1: 0.10136991377847328, val_precision: 0.05463382778390217, val_recall: 0.7012417675295007\n"
     ]
    },
    {
     "name": "stderr",
     "output_type": "stream",
     "text": [
      "100%|█████████████████████████████████████████████████████████████| 655/655 [00:09<00:00, 66.19it/s]\n"
     ]
    },
    {
     "name": "stdout",
     "output_type": "stream",
     "text": [
      "Epoch: 473, loss: 0.9318040187122257, f1: 0.10679462401921747, precision: 0.057900142938765976, recall: 0.6866151642253381\n"
     ]
    },
    {
     "name": "stderr",
     "output_type": "stream",
     "text": [
      "100%|████████████████████████████████████████████████████████████| 218/218 [00:01<00:00, 195.62it/s]\n"
     ]
    },
    {
     "name": "stdout",
     "output_type": "stream",
     "text": [
      "val_loss: 0.9288381906824374, val_f1: 0.11113271732140094, val_precision: 0.0604916920825634, val_recall: 0.6824518809898183\n"
     ]
    },
    {
     "name": "stderr",
     "output_type": "stream",
     "text": [
      "100%|█████████████████████████████████████████████████████████████| 655/655 [00:09<00:00, 66.51it/s]\n"
     ]
    },
    {
     "name": "stdout",
     "output_type": "stream",
     "text": [
      "Epoch: 474, loss: 0.9333014738468723, f1: 0.10479402840103605, precision: 0.056808636770477046, recall: 0.6747184058409611\n"
     ]
    },
    {
     "name": "stderr",
     "output_type": "stream",
     "text": [
      "100%|████████████████████████████████████████████████████████████| 218/218 [00:01<00:00, 198.61it/s]\n"
     ]
    },
    {
     "name": "stdout",
     "output_type": "stream",
     "text": [
      "val_loss: 0.9289233203327983, val_f1: 0.11117785280071664, val_precision: 0.06061122184427062, val_recall: 0.670871076336421\n"
     ]
    },
    {
     "name": "stderr",
     "output_type": "stream",
     "text": [
      "100%|█████████████████████████████████████████████████████████████| 655/655 [00:09<00:00, 66.56it/s]\n"
     ]
    },
    {
     "name": "stdout",
     "output_type": "stream",
     "text": [
      "Epoch: 475, loss: 0.9287185693515166, f1: 0.11174181174369403, precision: 0.060843879196664875, recall: 0.6835754840087345\n"
     ]
    },
    {
     "name": "stderr",
     "output_type": "stream",
     "text": [
      "100%|████████████████████████████████████████████████████████████| 218/218 [00:01<00:00, 196.58it/s]\n"
     ]
    },
    {
     "name": "stdout",
     "output_type": "stream",
     "text": [
      "val_loss: 0.9286673145556669, val_f1: 0.1119677533599244, val_precision: 0.06120066372613602, val_recall: 0.6567740604418133\n"
     ]
    },
    {
     "name": "stderr",
     "output_type": "stream",
     "text": [
      "100%|█████████████████████████████████████████████████████████████| 655/655 [00:09<00:00, 66.91it/s]\n"
     ]
    },
    {
     "name": "stdout",
     "output_type": "stream",
     "text": [
      "Epoch: 476, loss: 0.9299532553621831, f1: 0.10968038895231666, precision: 0.059745031532667976, recall: 0.6679995911153218\n"
     ]
    },
    {
     "name": "stderr",
     "output_type": "stream",
     "text": [
      "100%|████████████████████████████████████████████████████████████| 218/218 [00:01<00:00, 195.84it/s]\n"
     ]
    },
    {
     "name": "stdout",
     "output_type": "stream",
     "text": [
      "val_loss: 0.9288786835626724, val_f1: 0.11170370155994541, val_precision: 0.060769213333623395, val_recall: 0.6902222478198349\n"
     ]
    },
    {
     "name": "stderr",
     "output_type": "stream",
     "text": [
      "100%|█████████████████████████████████████████████████████████████| 655/655 [00:09<00:00, 66.99it/s]\n"
     ]
    },
    {
     "name": "stdout",
     "output_type": "stream",
     "text": [
      "Epoch: 477, loss: 0.9311291377053006, f1: 0.10824835948573773, precision: 0.05873036737951898, recall: 0.6901006235876156\n"
     ]
    },
    {
     "name": "stderr",
     "output_type": "stream",
     "text": [
      "100%|████████████████████████████████████████████████████████████| 218/218 [00:01<00:00, 198.47it/s]\n"
     ]
    },
    {
     "name": "stdout",
     "output_type": "stream",
     "text": [
      "val_loss: 0.9308456114125908, val_f1: 0.10871518375273495, val_precision: 0.058966615238363655, val_recall: 0.6954365282430561\n"
     ]
    },
    {
     "name": "stderr",
     "output_type": "stream",
     "text": [
      "100%|█████████████████████████████████████████████████████████████| 655/655 [00:09<00:00, 65.82it/s]\n"
     ]
    },
    {
     "name": "stdout",
     "output_type": "stream",
     "text": [
      "Epoch: 478, loss: 0.9340061675501233, f1: 0.10397735788350411, precision: 0.05608181480019716, recall: 0.7123192498247132\n"
     ]
    },
    {
     "name": "stderr",
     "output_type": "stream",
     "text": [
      "100%|████████████████████████████████████████████████████████████| 218/218 [00:01<00:00, 197.12it/s]\n"
     ]
    },
    {
     "name": "stdout",
     "output_type": "stream",
     "text": [
      "val_loss: 0.9291866140081249, val_f1: 0.11161135870858603, val_precision: 0.060527021659179295, val_recall: 0.7154218747254906\n"
     ]
    },
    {
     "name": "stderr",
     "output_type": "stream",
     "text": [
      "100%|█████████████████████████████████████████████████████████████| 655/655 [00:09<00:00, 70.65it/s]\n"
     ]
    },
    {
     "name": "stdout",
     "output_type": "stream",
     "text": [
      "Epoch: 479, loss: 0.9330538938063702, f1: 0.10460697159162852, precision: 0.05671385733360951, recall: 0.672581075325267\n"
     ]
    },
    {
     "name": "stderr",
     "output_type": "stream",
     "text": [
      "100%|████████████████████████████████████████████████████████████| 218/218 [00:01<00:00, 195.59it/s]\n"
     ]
    },
    {
     "name": "stdout",
     "output_type": "stream",
     "text": [
      "val_loss: 0.9302273335259988, val_f1: 0.10822916659227674, val_precision: 0.0589191175884046, val_recall: 0.663619677271318\n"
     ]
    },
    {
     "name": "stderr",
     "output_type": "stream",
     "text": [
      "100%|█████████████████████████████████████████████████████████████| 655/655 [00:09<00:00, 67.07it/s]\n"
     ]
    },
    {
     "name": "stdout",
     "output_type": "stream",
     "text": [
      "Epoch: 480, loss: 0.9319072657869062, f1: 0.10617067810875401, precision: 0.05766913054532279, recall: 0.6678718597948096\n"
     ]
    },
    {
     "name": "stderr",
     "output_type": "stream",
     "text": [
      "100%|████████████████████████████████████████████████████████████| 218/218 [00:01<00:00, 195.21it/s]\n"
     ]
    },
    {
     "name": "stdout",
     "output_type": "stream",
     "text": [
      "val_loss: 0.9297033149168032, val_f1: 0.11012210087393823, val_precision: 0.05992161740074703, val_recall: 0.6787988361347159\n"
     ]
    },
    {
     "name": "stderr",
     "output_type": "stream",
     "text": [
      "100%|█████████████████████████████████████████████████████████████| 655/655 [00:09<00:00, 66.00it/s]\n"
     ]
    },
    {
     "name": "stdout",
     "output_type": "stream",
     "text": [
      "Epoch: 481, loss: 0.9319087805638786, f1: 0.10628379692111245, precision: 0.057695157523089236, recall: 0.6733704717104672\n"
     ]
    },
    {
     "name": "stderr",
     "output_type": "stream",
     "text": [
      "100%|████████████████████████████████████████████████████████████| 218/218 [00:01<00:00, 197.74it/s]\n"
     ]
    },
    {
     "name": "stdout",
     "output_type": "stream",
     "text": [
      "val_loss: 0.9308003137964721, val_f1: 0.10810903193913232, val_precision: 0.05858880949074215, val_recall: 0.6984527409760231\n"
     ]
    },
    {
     "name": "stderr",
     "output_type": "stream",
     "text": [
      "100%|█████████████████████████████████████████████████████████████| 655/655 [00:09<00:00, 66.42it/s]\n"
     ]
    },
    {
     "name": "stdout",
     "output_type": "stream",
     "text": [
      "Epoch: 482, loss: 0.9316277457557561, f1: 0.1069032445307247, precision: 0.057962614383534276, recall: 0.6868102821684976\n"
     ]
    },
    {
     "name": "stderr",
     "output_type": "stream",
     "text": [
      "100%|████████████████████████████████████████████████████████████| 218/218 [00:01<00:00, 197.81it/s]\n"
     ]
    },
    {
     "name": "stdout",
     "output_type": "stream",
     "text": [
      "val_loss: 0.9284470114139242, val_f1: 0.11147742138570518, val_precision: 0.06073027992099865, val_recall: 0.6781489644028725\n"
     ]
    },
    {
     "name": "stderr",
     "output_type": "stream",
     "text": [
      "100%|█████████████████████████████████████████████████████████████| 655/655 [00:09<00:00, 66.38it/s]\n"
     ]
    },
    {
     "name": "stdout",
     "output_type": "stream",
     "text": [
      "Epoch: 483, loss: 0.9312849724565754, f1: 0.10747336167740466, precision: 0.05837314807745905, recall: 0.676545107785527\n"
     ]
    },
    {
     "name": "stderr",
     "output_type": "stream",
     "text": [
      "100%|████████████████████████████████████████████████████████████| 218/218 [00:01<00:00, 198.33it/s]\n"
     ]
    },
    {
     "name": "stdout",
     "output_type": "stream",
     "text": [
      "val_loss: 0.9288476836790732, val_f1: 0.11081506273869425, val_precision: 0.06042745663173531, val_recall: 0.6669693319895945\n"
     ]
    },
    {
     "name": "stderr",
     "output_type": "stream",
     "text": [
      "100%|█████████████████████████████████████████████████████████████| 655/655 [00:09<00:00, 65.84it/s]\n"
     ]
    },
    {
     "name": "stdout",
     "output_type": "stream",
     "text": [
      "Epoch: 484, loss: 0.9309362294109723, f1: 0.10825260328596958, precision: 0.05874402699707687, recall: 0.6885634551976473\n"
     ]
    },
    {
     "name": "stderr",
     "output_type": "stream",
     "text": [
      "100%|████████████████████████████████████████████████████████████| 218/218 [00:01<00:00, 196.06it/s]\n"
     ]
    },
    {
     "name": "stdout",
     "output_type": "stream",
     "text": [
      "val_loss: 0.9295272097128247, val_f1: 0.11003796035007381, val_precision: 0.05961878815988386, val_recall: 0.7131090981697817\n"
     ]
    },
    {
     "name": "stderr",
     "output_type": "stream",
     "text": [
      "100%|█████████████████████████████████████████████████████████████| 655/655 [00:09<00:00, 65.90it/s]\n"
     ]
    },
    {
     "name": "stdout",
     "output_type": "stream",
     "text": [
      "Epoch: 485, loss: 0.9327154535373658, f1: 0.10539515679875, precision: 0.056994679766771104, recall: 0.6989552604333135\n"
     ]
    },
    {
     "name": "stderr",
     "output_type": "stream",
     "text": [
      "100%|████████████████████████████████████████████████████████████| 218/218 [00:01<00:00, 195.41it/s]\n"
     ]
    },
    {
     "name": "stdout",
     "output_type": "stream",
     "text": [
      "val_loss: 0.9279136384299042, val_f1: 0.1125537103835223, val_precision: 0.061527095276888016, val_recall: 0.6595034465330456\n"
     ]
    },
    {
     "name": "stderr",
     "output_type": "stream",
     "text": [
      "100%|█████████████████████████████████████████████████████████████| 655/655 [00:09<00:00, 65.99it/s]\n"
     ]
    },
    {
     "name": "stdout",
     "output_type": "stream",
     "text": [
      "Epoch: 486, loss: 0.9317598543094314, f1: 0.10661483061383296, precision: 0.05790432543913258, recall: 0.6714792840125906\n"
     ]
    },
    {
     "name": "stderr",
     "output_type": "stream",
     "text": [
      "100%|████████████████████████████████████████████████████████████| 218/218 [00:01<00:00, 196.41it/s]\n"
     ]
    },
    {
     "name": "stdout",
     "output_type": "stream",
     "text": [
      "val_loss: 0.9290548226702104, val_f1: 0.1104659929049466, val_precision: 0.06012359326449009, val_recall: 0.6790186026637707\n"
     ]
    },
    {
     "name": "stderr",
     "output_type": "stream",
     "text": [
      "100%|█████████████████████████████████████████████████████████████| 655/655 [00:09<00:00, 66.10it/s]\n"
     ]
    },
    {
     "name": "stdout",
     "output_type": "stream",
     "text": [
      "Epoch: 487, loss: 0.9314133215496558, f1: 0.10729239056774534, precision: 0.05824040958892469, recall: 0.680067619567609\n"
     ]
    },
    {
     "name": "stderr",
     "output_type": "stream",
     "text": [
      "100%|████████████████████████████████████████████████████████████| 218/218 [00:01<00:00, 195.88it/s]\n"
     ]
    },
    {
     "name": "stdout",
     "output_type": "stream",
     "text": [
      "val_loss: 0.9287741022919296, val_f1: 0.1113402259669491, val_precision: 0.06050651008370033, val_recall: 0.6964697444794374\n"
     ]
    },
    {
     "name": "stderr",
     "output_type": "stream",
     "text": [
      "100%|█████████████████████████████████████████████████████████████| 655/655 [00:09<00:00, 66.64it/s]\n"
     ]
    },
    {
     "name": "stdout",
     "output_type": "stream",
     "text": [
      "Epoch: 488, loss: 0.9316883004348696, f1: 0.10726692070931065, precision: 0.05812759950849448, recall: 0.6936999939325201\n"
     ]
    },
    {
     "name": "stderr",
     "output_type": "stream",
     "text": [
      "100%|████████████████████████████████████████████████████████████| 218/218 [00:01<00:00, 196.41it/s]\n"
     ]
    },
    {
     "name": "stdout",
     "output_type": "stream",
     "text": [
      "val_loss: 0.9283828962286678, val_f1: 0.11154698890331671, val_precision: 0.06073591678078637, val_recall: 0.6826211259179159\n"
     ]
    },
    {
     "name": "stderr",
     "output_type": "stream",
     "text": [
      "100%|█████████████████████████████████████████████████████████████| 655/655 [00:09<00:00, 66.89it/s]\n"
     ]
    },
    {
     "name": "stdout",
     "output_type": "stream",
     "text": [
      "Epoch: 489, loss: 0.9327778913592564, f1: 0.10547548286039632, precision: 0.05711904298549674, recall: 0.6875421108749077\n"
     ]
    },
    {
     "name": "stderr",
     "output_type": "stream",
     "text": [
      "100%|████████████████████████████████████████████████████████████| 218/218 [00:01<00:00, 197.41it/s]\n"
     ]
    },
    {
     "name": "stdout",
     "output_type": "stream",
     "text": [
      "val_loss: 0.9291924741290031, val_f1: 0.11088509101691746, val_precision: 0.06029451311963243, val_recall: 0.6889743616274737\n"
     ]
    },
    {
     "name": "stderr",
     "output_type": "stream",
     "text": [
      "100%|█████████████████████████████████████████████████████████████| 655/655 [00:09<00:00, 66.32it/s]\n"
     ]
    },
    {
     "name": "stdout",
     "output_type": "stream",
     "text": [
      "Epoch: 490, loss: 0.9334786832787608, f1: 0.10443746263130432, precision: 0.05637181762229111, recall: 0.7087897002014495\n"
     ]
    },
    {
     "name": "stderr",
     "output_type": "stream",
     "text": [
      "100%|████████████████████████████████████████████████████████████| 218/218 [00:01<00:00, 191.00it/s]\n"
     ]
    },
    {
     "name": "stdout",
     "output_type": "stream",
     "text": [
      "val_loss: 0.9301649047694075, val_f1: 0.10950603245398739, val_precision: 0.05930267062482484, val_recall: 0.7136806014480941\n"
     ]
    },
    {
     "name": "stderr",
     "output_type": "stream",
     "text": [
      "100%|█████████████████████████████████████████████████████████████| 655/655 [00:09<00:00, 68.78it/s]\n"
     ]
    },
    {
     "name": "stdout",
     "output_type": "stream",
     "text": [
      "Epoch: 491, loss: 0.932443715597837, f1: 0.10625001937825654, precision: 0.05743864592953891, recall: 0.7073912707221417\n"
     ]
    },
    {
     "name": "stderr",
     "output_type": "stream",
     "text": [
      "100%|████████████████████████████████████████████████████████████| 218/218 [00:01<00:00, 197.77it/s]\n"
     ]
    },
    {
     "name": "stdout",
     "output_type": "stream",
     "text": [
      "val_loss: 0.9299209981883337, val_f1: 0.10975270706360227, val_precision: 0.059528292346865345, val_recall: 0.7022223949705789\n"
     ]
    },
    {
     "name": "stderr",
     "output_type": "stream",
     "text": [
      "100%|█████████████████████████████████████████████████████████████| 655/655 [00:09<00:00, 66.78it/s]\n"
     ]
    },
    {
     "name": "stdout",
     "output_type": "stream",
     "text": [
      "Epoch: 492, loss: 0.9323037499689873, f1: 0.10653025131595373, precision: 0.057592152161808075, recall: 0.7089517984453958\n"
     ]
    },
    {
     "name": "stderr",
     "output_type": "stream",
     "text": [
      "100%|████████████████████████████████████████████████████████████| 218/218 [00:01<00:00, 196.79it/s]\n"
     ]
    },
    {
     "name": "stdout",
     "output_type": "stream",
     "text": [
      "val_loss: 0.9288357403300224, val_f1: 0.1112681932136081, val_precision: 0.06044668154128818, val_recall: 0.6987713601337661\n"
     ]
    },
    {
     "name": "stderr",
     "output_type": "stream",
     "text": [
      "100%|█████████████████████████████████████████████████████████████| 655/655 [00:09<00:00, 66.85it/s]\n"
     ]
    },
    {
     "name": "stdout",
     "output_type": "stream",
     "text": [
      "Epoch: 493, loss: 0.93128162586052, f1: 0.10780019794078353, precision: 0.05836844284101638, recall: 0.7040784990969505\n"
     ]
    },
    {
     "name": "stderr",
     "output_type": "stream",
     "text": [
      "100%|████████████████████████████████████████████████████████████| 218/218 [00:01<00:00, 196.42it/s]\n"
     ]
    },
    {
     "name": "stdout",
     "output_type": "stream",
     "text": [
      "val_loss: 0.9287937617083208, val_f1: 0.11104693251976082, val_precision: 0.06027163592927636, val_recall: 0.7047958217492891\n"
     ]
    },
    {
     "name": "stderr",
     "output_type": "stream",
     "text": [
      "100%|█████████████████████████████████████████████████████████████| 655/655 [00:09<00:00, 65.96it/s]\n"
     ]
    },
    {
     "name": "stdout",
     "output_type": "stream",
     "text": [
      "Epoch: 494, loss: 0.9319432254965979, f1: 0.10705721837234727, precision: 0.05788549104570376, recall: 0.711180593744489\n"
     ]
    },
    {
     "name": "stderr",
     "output_type": "stream",
     "text": [
      "100%|████████████████████████████████████████████████████████████| 218/218 [00:01<00:00, 196.11it/s]\n"
     ]
    },
    {
     "name": "stdout",
     "output_type": "stream",
     "text": [
      "val_loss: 0.9297124393489382, val_f1: 0.1108065165617412, val_precision: 0.059971864677008685, val_recall: 0.7272757642449589\n"
     ]
    },
    {
     "name": "stderr",
     "output_type": "stream",
     "text": [
      "100%|█████████████████████████████████████████████████████████████| 655/655 [00:09<00:00, 66.17it/s]\n"
     ]
    },
    {
     "name": "stdout",
     "output_type": "stream",
     "text": [
      "Epoch: 495, loss: 0.9342194676399231, f1: 0.1040152304592185, precision: 0.05595651498945956, recall: 0.7369558809140256\n"
     ]
    },
    {
     "name": "stderr",
     "output_type": "stream",
     "text": [
      "100%|████████████████████████████████████████████████████████████| 218/218 [00:01<00:00, 196.12it/s]\n"
     ]
    },
    {
     "name": "stdout",
     "output_type": "stream",
     "text": [
      "val_loss: 0.9313361904489885, val_f1: 0.10842069787505666, val_precision: 0.058428734622109645, val_recall: 0.7508659304008571\n"
     ]
    },
    {
     "name": "stderr",
     "output_type": "stream",
     "text": [
      "100%|█████████████████████████████████████████████████████████████| 655/655 [00:09<00:00, 66.24it/s]\n"
     ]
    },
    {
     "name": "stdout",
     "output_type": "stream",
     "text": [
      "Epoch: 496, loss: 0.9333013107758442, f1: 0.10532192059084111, precision: 0.056656415579051406, recall: 0.7467437474554731\n"
     ]
    },
    {
     "name": "stderr",
     "output_type": "stream",
     "text": [
      "100%|████████████████████████████████████████████████████████████| 218/218 [00:01<00:00, 196.97it/s]\n"
     ]
    },
    {
     "name": "stdout",
     "output_type": "stream",
     "text": [
      "val_loss: 0.9308997086428721, val_f1: 0.10878156993683208, val_precision: 0.05877541757024261, val_recall: 0.7291012471968975\n"
     ]
    },
    {
     "name": "stderr",
     "output_type": "stream",
     "text": [
      "100%|█████████████████████████████████████████████████████████████| 655/655 [00:09<00:00, 66.32it/s]\n"
     ]
    },
    {
     "name": "stdout",
     "output_type": "stream",
     "text": [
      "Epoch: 497, loss: 0.9326514141250203, f1: 0.10599268809396571, precision: 0.05736396283387626, recall: 0.6960498291117544\n"
     ]
    },
    {
     "name": "stderr",
     "output_type": "stream",
     "text": [
      "100%|████████████████████████████████████████████████████████████| 218/218 [00:01<00:00, 197.69it/s]\n"
     ]
    },
    {
     "name": "stdout",
     "output_type": "stream",
     "text": [
      "val_loss: 0.9296211266736372, val_f1: 0.10972560177455969, val_precision: 0.05994346282453439, val_recall: 0.6472909054078093\n"
     ]
    },
    {
     "name": "stderr",
     "output_type": "stream",
     "text": [
      "100%|█████████████████████████████████████████████████████████████| 655/655 [00:09<00:00, 66.45it/s]\n"
     ]
    },
    {
     "name": "stdout",
     "output_type": "stream",
     "text": [
      "Epoch: 498, loss: 0.9346601799244189, f1: 0.10240972919490433, precision: 0.0554966984153192, recall: 0.6621181174657726\n"
     ]
    },
    {
     "name": "stderr",
     "output_type": "stream",
     "text": [
      "100%|████████████████████████████████████████████████████████████| 218/218 [00:01<00:00, 196.06it/s]\n"
     ]
    },
    {
     "name": "stdout",
     "output_type": "stream",
     "text": [
      "val_loss: 0.9322793847377148, val_f1: 0.1061168997860296, val_precision: 0.05755870943299469, val_recall: 0.6786221712827682\n"
     ]
    },
    {
     "name": "stderr",
     "output_type": "stream",
     "text": [
      "100%|█████████████████████████████████████████████████████████████| 655/655 [00:09<00:00, 66.18it/s]\n"
     ]
    },
    {
     "name": "stdout",
     "output_type": "stream",
     "text": [
      "Epoch: 499, loss: 0.9335753402637161, f1: 0.10473022613841051, precision: 0.05656863949066099, recall: 0.7046995560631497\n"
     ]
    },
    {
     "name": "stderr",
     "output_type": "stream",
     "text": [
      "100%|████████████████████████████████████████████████████████████| 218/218 [00:01<00:00, 197.91it/s]\n"
     ]
    },
    {
     "name": "stdout",
     "output_type": "stream",
     "text": [
      "val_loss: 0.9321783625204628, val_f1: 0.10605974950286698, val_precision: 0.05770300515156256, val_recall: 0.6548037127070471\n"
     ]
    },
    {
     "name": "stderr",
     "output_type": "stream",
     "text": [
      "100%|█████████████████████████████████████████████████████████████| 655/655 [00:09<00:00, 66.55it/s]\n"
     ]
    },
    {
     "name": "stdout",
     "output_type": "stream",
     "text": [
      "Epoch: 500, loss: 0.9332354784921836, f1: 0.10494378025058351, precision: 0.056776270944134594, recall: 0.6921223692994082\n"
     ]
    },
    {
     "name": "stderr",
     "output_type": "stream",
     "text": [
      "100%|████████████████████████████████████████████████████████████| 218/218 [00:01<00:00, 198.03it/s]\n"
     ]
    },
    {
     "name": "stdout",
     "output_type": "stream",
     "text": [
      "val_loss: 0.9290609879231234, val_f1: 0.11106429092922955, val_precision: 0.060337485110605084, val_recall: 0.6972805768114712\n"
     ]
    },
    {
     "name": "stderr",
     "output_type": "stream",
     "text": [
      "100%|█████████████████████████████████████████████████████████████| 655/655 [00:09<00:00, 66.53it/s]\n"
     ]
    },
    {
     "name": "stdout",
     "output_type": "stream",
     "text": [
      "Epoch: 501, loss: 0.9319911179651741, f1: 0.1074809819268078, precision: 0.05808630180616244, recall: 0.7182978022417039\n"
     ]
    },
    {
     "name": "stderr",
     "output_type": "stream",
     "text": [
      "100%|████████████████████████████████████████████████████████████| 218/218 [00:01<00:00, 198.30it/s]\n"
     ]
    },
    {
     "name": "stdout",
     "output_type": "stream",
     "text": [
      "val_loss: 0.9300841582477639, val_f1: 0.1094624510475225, val_precision: 0.05939808772362068, val_recall: 0.6965986985815774\n"
     ]
    },
    {
     "name": "stderr",
     "output_type": "stream",
     "text": [
      "100%|█████████████████████████████████████████████████████████████| 655/655 [00:09<00:00, 71.69it/s]\n"
     ]
    },
    {
     "name": "stdout",
     "output_type": "stream",
     "text": [
      "Epoch: 502, loss: 0.9316805617499897, f1: 0.10744723761088729, precision: 0.05819721145000849, recall: 0.6988934960984091\n"
     ]
    },
    {
     "name": "stderr",
     "output_type": "stream",
     "text": [
      "100%|████████████████████████████████████████████████████████████| 218/218 [00:01<00:00, 196.90it/s]\n"
     ]
    },
    {
     "name": "stdout",
     "output_type": "stream",
     "text": [
      "val_loss: 0.9304914906484272, val_f1: 0.10898659705703863, val_precision: 0.05928632748684923, val_recall: 0.6740429841938915\n"
     ]
    },
    {
     "name": "stderr",
     "output_type": "stream",
     "text": [
      "100%|█████████████████████████████████████████████████████████████| 655/655 [00:09<00:00, 65.96it/s]\n"
     ]
    },
    {
     "name": "stdout",
     "output_type": "stream",
     "text": [
      "Epoch: 503, loss: 0.9330516155439479, f1: 0.10552381897051175, precision: 0.05697456375493149, recall: 0.7135849712231687\n"
     ]
    },
    {
     "name": "stderr",
     "output_type": "stream",
     "text": [
      "100%|████████████████████████████████████████████████████████████| 218/218 [00:01<00:00, 198.62it/s]\n"
     ]
    },
    {
     "name": "stdout",
     "output_type": "stream",
     "text": [
      "val_loss: 0.9298166807638396, val_f1: 0.1096217647845571, val_precision: 0.05962859102847362, val_recall: 0.6783921438346215\n"
     ]
    },
    {
     "name": "stderr",
     "output_type": "stream",
     "text": [
      "100%|█████████████████████████████████████████████████████████████| 655/655 [00:09<00:00, 66.33it/s]\n"
     ]
    },
    {
     "name": "stdout",
     "output_type": "stream",
     "text": [
      "Epoch: 504, loss: 0.9327751430846353, f1: 0.10597641329956857, precision: 0.05729105625059882, recall: 0.705520901129446\n"
     ]
    },
    {
     "name": "stderr",
     "output_type": "stream",
     "text": [
      "100%|████████████████████████████████████████████████████████████| 218/218 [00:01<00:00, 196.50it/s]\n"
     ]
    },
    {
     "name": "stdout",
     "output_type": "stream",
     "text": [
      "val_loss: 0.93114966318148, val_f1: 0.10891872938779766, val_precision: 0.05898160795753805, val_recall: 0.710289276965441\n"
     ]
    },
    {
     "name": "stderr",
     "output_type": "stream",
     "text": [
      "100%|█████████████████████████████████████████████████████████████| 655/655 [00:09<00:00, 66.43it/s]\n"
     ]
    },
    {
     "name": "stdout",
     "output_type": "stream",
     "text": [
      "Epoch: 505, loss: 0.9315187754521843, f1: 0.10800816218694048, precision: 0.05840379643389059, recall: 0.7168744145345142\n"
     ]
    },
    {
     "name": "stderr",
     "output_type": "stream",
     "text": [
      "100%|████████████████████████████████████████████████████████████| 218/218 [00:01<00:00, 197.99it/s]\n"
     ]
    },
    {
     "name": "stdout",
     "output_type": "stream",
     "text": [
      "val_loss: 0.9321401384445506, val_f1: 0.1060415993184192, val_precision: 0.057702620626414416, val_recall: 0.6534720377979475\n"
     ]
    },
    {
     "name": "stderr",
     "output_type": "stream",
     "text": [
      "100%|█████████████████████████████████████████████████████████████| 655/655 [00:09<00:00, 65.88it/s]\n"
     ]
    },
    {
     "name": "stdout",
     "output_type": "stream",
     "text": [
      "Epoch: 506, loss: 0.9321613307217606, f1: 0.10693033698205895, precision: 0.057905691952394846, recall: 0.6972010403189041\n"
     ]
    },
    {
     "name": "stderr",
     "output_type": "stream",
     "text": [
      "100%|████████████████████████████████████████████████████████████| 218/218 [00:01<00:00, 196.54it/s]\n"
     ]
    },
    {
     "name": "stdout",
     "output_type": "stream",
     "text": [
      "val_loss: 0.9292030033715274, val_f1: 0.11187719711808541, val_precision: 0.060406083359122446, val_recall: 0.7563610843152081\n"
     ]
    },
    {
     "name": "stderr",
     "output_type": "stream",
     "text": [
      "100%|█████████████████████████████████████████████████████████████| 655/655 [00:09<00:00, 65.94it/s]\n"
     ]
    },
    {
     "name": "stdout",
     "output_type": "stream",
     "text": [
      "Epoch: 507, loss: 0.9319629185982333, f1: 0.10762042374126984, precision: 0.05807568784269952, recall: 0.7326415827483621\n"
     ]
    },
    {
     "name": "stderr",
     "output_type": "stream",
     "text": [
      "100%|████████████████████████████████████████████████████████████| 218/218 [00:01<00:00, 196.96it/s]\n"
     ]
    },
    {
     "name": "stdout",
     "output_type": "stream",
     "text": [
      "val_loss: 0.9275974945737682, val_f1: 0.11328484882959061, val_precision: 0.061828109142562766, val_recall: 0.675338780251118\n"
     ]
    },
    {
     "name": "stderr",
     "output_type": "stream",
     "text": [
      "100%|█████████████████████████████████████████████████████████████| 655/655 [00:09<00:00, 65.97it/s]\n"
     ]
    },
    {
     "name": "stdout",
     "output_type": "stream",
     "text": [
      "Epoch: 508, loss: 0.9308446303578733, f1: 0.1087681101601667, precision: 0.0589537802015481, recall: 0.7016057956309719\n"
     ]
    },
    {
     "name": "stderr",
     "output_type": "stream",
     "text": [
      "100%|████████████████████████████████████████████████████████████| 218/218 [00:01<00:00, 195.86it/s]\n"
     ]
    },
    {
     "name": "stdout",
     "output_type": "stream",
     "text": [
      "val_loss: 0.9286553939001276, val_f1: 0.11246344430523621, val_precision: 0.060976757565961826, val_recall: 0.7226138038031005\n"
     ]
    },
    {
     "name": "stderr",
     "output_type": "stream",
     "text": [
      "100%|█████████████████████████████████████████████████████████████| 655/655 [00:09<00:00, 66.37it/s]\n"
     ]
    },
    {
     "name": "stdout",
     "output_type": "stream",
     "text": [
      "Epoch: 509, loss: 0.9307795492747358, f1: 0.10930526919075224, precision: 0.05920301652335711, recall: 0.7110613746724966\n"
     ]
    },
    {
     "name": "stderr",
     "output_type": "stream",
     "text": [
      "100%|████████████████████████████████████████████████████████████| 218/218 [00:01<00:00, 196.77it/s]\n"
     ]
    },
    {
     "name": "stdout",
     "output_type": "stream",
     "text": [
      "val_loss: 0.9279602137180644, val_f1: 0.1130979189431023, val_precision: 0.061463873803513036, val_recall: 0.7071777601649455\n"
     ]
    },
    {
     "name": "stderr",
     "output_type": "stream",
     "text": [
      "100%|█████████████████████████████████████████████████████████████| 655/655 [00:09<00:00, 65.94it/s]\n"
     ]
    },
    {
     "name": "stdout",
     "output_type": "stream",
     "text": [
      "Epoch: 510, loss: 0.9301960114304346, f1: 0.10967466804838658, precision: 0.059557301957046484, recall: 0.6919461546053414\n"
     ]
    },
    {
     "name": "stderr",
     "output_type": "stream",
     "text": [
      "100%|████████████████████████████████████████████████████████████| 218/218 [00:01<00:00, 195.58it/s]\n"
     ]
    },
    {
     "name": "stdout",
     "output_type": "stream",
     "text": [
      "val_loss: 0.9289027362241657, val_f1: 0.11230537127409701, val_precision: 0.060812271791809334, val_recall: 0.7328488555386525\n"
     ]
    },
    {
     "name": "stderr",
     "output_type": "stream",
     "text": [
      "100%|█████████████████████████████████████████████████████████████| 655/655 [00:09<00:00, 66.69it/s]\n"
     ]
    },
    {
     "name": "stdout",
     "output_type": "stream",
     "text": [
      "Epoch: 511, loss: 0.9319821353177078, f1: 0.10733722738536516, precision: 0.05802024341710907, recall: 0.7155631860931411\n"
     ]
    },
    {
     "name": "stderr",
     "output_type": "stream",
     "text": [
      "100%|████████████████████████████████████████████████████████████| 218/218 [00:01<00:00, 197.95it/s]\n"
     ]
    },
    {
     "name": "stdout",
     "output_type": "stream",
     "text": [
      "val_loss: 0.9282889598553333, val_f1: 0.11235747946585133, val_precision: 0.0612625660248733, val_recall: 0.6769809892076418\n"
     ]
    },
    {
     "name": "stderr",
     "output_type": "stream",
     "text": [
      "100%|█████████████████████████████████████████████████████████████| 655/655 [00:09<00:00, 66.16it/s]\n"
     ]
    },
    {
     "name": "stdout",
     "output_type": "stream",
     "text": [
      "Epoch: 512, loss: 0.9308824206126555, f1: 0.10874154144678568, precision: 0.05893555559459647, recall: 0.7019764722986076\n"
     ]
    },
    {
     "name": "stderr",
     "output_type": "stream",
     "text": [
      "100%|████████████████████████████████████████████████████████████| 218/218 [00:01<00:00, 196.03it/s]\n"
     ]
    },
    {
     "name": "stdout",
     "output_type": "stream",
     "text": [
      "val_loss: 0.9283652280995606, val_f1: 0.11232908456993233, val_precision: 0.061074647742725155, val_recall: 0.6986061022915971\n"
     ]
    },
    {
     "name": "stderr",
     "output_type": "stream",
     "text": [
      "100%|█████████████████████████████████████████████████████████████| 655/655 [00:09<00:00, 68.86it/s]\n"
     ]
    },
    {
     "name": "stdout",
     "output_type": "stream",
     "text": [
      "Epoch: 513, loss: 0.9314698508677591, f1: 0.10790022394764075, precision: 0.0584691914943054, recall: 0.698022553893446\n"
     ]
    },
    {
     "name": "stderr",
     "output_type": "stream",
     "text": [
      "100%|████████████████████████████████████████████████████████████| 218/218 [00:01<00:00, 186.84it/s]\n"
     ]
    },
    {
     "name": "stdout",
     "output_type": "stream",
     "text": [
      "val_loss: 0.9281233726838313, val_f1: 0.11267483673353773, val_precision: 0.06127200576844155, val_recall: 0.699532978578445\n"
     ]
    },
    {
     "name": "stderr",
     "output_type": "stream",
     "text": [
      "100%|█████████████████████████████████████████████████████████████| 655/655 [00:09<00:00, 66.36it/s]\n"
     ]
    },
    {
     "name": "stdout",
     "output_type": "stream",
     "text": [
      "Epoch: 514, loss: 0.9311278829137788, f1: 0.10859016199437577, precision: 0.05879871394229299, recall: 0.708867923949511\n"
     ]
    },
    {
     "name": "stderr",
     "output_type": "stream",
     "text": [
      "100%|████████████████████████████████████████████████████████████| 218/218 [00:01<00:00, 198.54it/s]\n"
     ]
    },
    {
     "name": "stdout",
     "output_type": "stream",
     "text": [
      "val_loss: 0.9282435588880417, val_f1: 0.11222915141476092, val_precision: 0.06108003940354229, val_recall: 0.690263932041072\n"
     ]
    },
    {
     "name": "stderr",
     "output_type": "stream",
     "text": [
      "100%|█████████████████████████████████████████████████████████████| 655/655 [00:09<00:00, 66.20it/s]\n"
     ]
    },
    {
     "name": "stdout",
     "output_type": "stream",
     "text": [
      "Epoch: 515, loss: 0.9321090599052778, f1: 0.10697367011539667, precision: 0.057861785557234785, recall: 0.7074008678661958\n"
     ]
    },
    {
     "name": "stderr",
     "output_type": "stream",
     "text": [
      "100%|████████████████████████████████████████████████████████████| 218/218 [00:01<00:00, 197.97it/s]\n"
     ]
    },
    {
     "name": "stdout",
     "output_type": "stream",
     "text": [
      "val_loss: 0.9326609337548597, val_f1: 0.10615553218650424, val_precision: 0.05737618187553497, val_recall: 0.7084934811253066\n"
     ]
    },
    {
     "name": "stderr",
     "output_type": "stream",
     "text": [
      "100%|█████████████████████████████████████████████████████████████| 655/655 [00:09<00:00, 66.24it/s]\n"
     ]
    },
    {
     "name": "stdout",
     "output_type": "stream",
     "text": [
      "Epoch: 516, loss: 0.9306025832663966, f1: 0.10889375192987998, precision: 0.059117925247774664, recall: 0.6890927815937814\n"
     ]
    },
    {
     "name": "stderr",
     "output_type": "stream",
     "text": [
      "100%|████████████████████████████████████████████████████████████| 218/218 [00:01<00:00, 195.69it/s]\n"
     ]
    },
    {
     "name": "stdout",
     "output_type": "stream",
     "text": [
      "val_loss: 0.9264374460102222, val_f1: 0.1151353035365661, val_precision: 0.06296334394954418, val_recall: 0.6717677244899469\n"
     ]
    },
    {
     "name": "stderr",
     "output_type": "stream",
     "text": [
      "100%|█████████████████████████████████████████████████████████████| 655/655 [00:09<00:00, 65.81it/s]\n"
     ]
    },
    {
     "name": "stdout",
     "output_type": "stream",
     "text": [
      "Epoch: 517, loss: 0.9299495160124684, f1: 0.10993899111254372, precision: 0.059714657545999715, recall: 0.6917539611345029\n"
     ]
    },
    {
     "name": "stderr",
     "output_type": "stream",
     "text": [
      "100%|████████████████████████████████████████████████████████████| 218/218 [00:01<00:00, 195.66it/s]\n"
     ]
    },
    {
     "name": "stdout",
     "output_type": "stream",
     "text": [
      "val_loss: 0.926329616286339, val_f1: 0.11481874608374389, val_precision: 0.06286176335741553, val_recall: 0.6618848273513513\n"
     ]
    },
    {
     "name": "stderr",
     "output_type": "stream",
     "text": [
      "100%|█████████████████████████████████████████████████████████████| 655/655 [00:09<00:00, 66.46it/s]\n"
     ]
    },
    {
     "name": "stdout",
     "output_type": "stream",
     "text": [
      "Epoch: 518, loss: 0.9327980952408478, f1: 0.10519537799280426, precision: 0.05704951362812337, recall: 0.6740320707664235\n"
     ]
    },
    {
     "name": "stderr",
     "output_type": "stream",
     "text": [
      "100%|████████████████████████████████████████████████████████████| 218/218 [00:01<00:00, 195.31it/s]\n"
     ]
    },
    {
     "name": "stdout",
     "output_type": "stream",
     "text": [
      "val_loss: 0.9271726457897677, val_f1: 0.11338438545661303, val_precision: 0.06214274202768238, val_recall: 0.6463583969605078\n"
     ]
    },
    {
     "name": "stderr",
     "output_type": "stream",
     "text": [
      "100%|█████████████████████████████████████████████████████████████| 655/655 [00:09<00:00, 65.84it/s]\n"
     ]
    },
    {
     "name": "stdout",
     "output_type": "stream",
     "text": [
      "Epoch: 519, loss: 0.9307094254566513, f1: 0.10850790603013687, precision: 0.05910330797787329, recall: 0.6612401275348118\n"
     ]
    },
    {
     "name": "stderr",
     "output_type": "stream",
     "text": [
      "100%|████████████████████████████████████████████████████████████| 218/218 [00:01<00:00, 196.58it/s]\n"
     ]
    },
    {
     "name": "stdout",
     "output_type": "stream",
     "text": [
      "val_loss: 0.925496870224629, val_f1: 0.11591528738819977, val_precision: 0.06361504162580561, val_recall: 0.6517091356559631\n"
     ]
    },
    {
     "name": "stderr",
     "output_type": "stream",
     "text": [
      "100%|█████████████████████████████████████████████████████████████| 655/655 [00:09<00:00, 66.63it/s]\n"
     ]
    },
    {
     "name": "stdout",
     "output_type": "stream",
     "text": [
      "Epoch: 520, loss: 0.9311476577329272, f1: 0.10774482227165504, precision: 0.05853964025083617, recall: 0.6757053252849871\n"
     ]
    },
    {
     "name": "stderr",
     "output_type": "stream",
     "text": [
      "100%|████████████████████████████████████████████████████████████| 218/218 [00:01<00:00, 197.00it/s]\n"
     ]
    },
    {
     "name": "stdout",
     "output_type": "stream",
     "text": [
      "val_loss: 0.9287762669248318, val_f1: 0.11121862233890475, val_precision: 0.06057617594936538, val_recall: 0.6782144405152819\n"
     ]
    },
    {
     "name": "stderr",
     "output_type": "stream",
     "text": [
      "100%|█████████████████████████████████████████████████████████████| 655/655 [00:09<00:00, 66.43it/s]\n"
     ]
    },
    {
     "name": "stdout",
     "output_type": "stream",
     "text": [
      "Epoch: 521, loss: 0.9309007327975207, f1: 0.10817961485948481, precision: 0.05872329510410693, recall: 0.6855163857227063\n"
     ]
    },
    {
     "name": "stderr",
     "output_type": "stream",
     "text": [
      "100%|████████████████████████████████████████████████████████████| 218/218 [00:01<00:00, 196.64it/s]\n"
     ]
    },
    {
     "name": "stdout",
     "output_type": "stream",
     "text": [
      "val_loss: 0.9275491013439423, val_f1: 0.11295087022992276, val_precision: 0.061721316858092234, val_recall: 0.6644713693734156\n"
     ]
    },
    {
     "name": "stderr",
     "output_type": "stream",
     "text": [
      "100%|█████████████████████████████████████████████████████████████| 655/655 [00:09<00:00, 66.53it/s]\n"
     ]
    },
    {
     "name": "stdout",
     "output_type": "stream",
     "text": [
      "Epoch: 522, loss: 0.9305361877870924, f1: 0.10849214702412793, precision: 0.059088762064699, recall: 0.6618912812293941\n"
     ]
    },
    {
     "name": "stderr",
     "output_type": "stream",
     "text": [
      "100%|████████████████████████████████████████████████████████████| 218/218 [00:01<00:00, 196.30it/s]\n"
     ]
    },
    {
     "name": "stdout",
     "output_type": "stream",
     "text": [
      "val_loss: 0.9278029361996082, val_f1: 0.11183141259056269, val_precision: 0.06141789169253679, val_recall: 0.6241565024087189\n"
     ]
    },
    {
     "name": "stderr",
     "output_type": "stream",
     "text": [
      "100%|█████████████████████████████████████████████████████████████| 655/655 [00:09<00:00, 66.40it/s]\n"
     ]
    },
    {
     "name": "stdout",
     "output_type": "stream",
     "text": [
      "Epoch: 523, loss: 0.9302471565836259, f1: 0.10891985758269489, precision: 0.059382378255934204, recall: 0.6569818775276192\n"
     ]
    },
    {
     "name": "stderr",
     "output_type": "stream",
     "text": [
      "100%|████████████████████████████████████████████████████████████| 218/218 [00:01<00:00, 197.21it/s]\n"
     ]
    },
    {
     "name": "stdout",
     "output_type": "stream",
     "text": [
      "val_loss: 0.9255868005096366, val_f1: 0.11589140318002485, val_precision: 0.06367469433302042, val_recall: 0.6440355228516487\n"
     ]
    },
    {
     "name": "stderr",
     "output_type": "stream",
     "text": [
      "100%|█████████████████████████████████████████████████████████████| 655/655 [00:09<00:00, 66.87it/s]\n"
     ]
    },
    {
     "name": "stdout",
     "output_type": "stream",
     "text": [
      "Epoch: 524, loss: 0.9293607301384438, f1: 0.11058782352693984, precision: 0.06023228665500993, recall: 0.6744078399798342\n"
     ]
    },
    {
     "name": "stderr",
     "output_type": "stream",
     "text": [
      "100%|████████████████████████████████████████████████████████████| 218/218 [00:01<00:00, 189.36it/s]\n"
     ]
    },
    {
     "name": "stdout",
     "output_type": "stream",
     "text": [
      "val_loss: 0.9259714342038566, val_f1: 0.1147045517297717, val_precision: 0.06300547424385564, val_recall: 0.6391969815306707\n"
     ]
    },
    {
     "name": "stderr",
     "output_type": "stream",
     "text": [
      " 18%|███████████▏                                                 | 120/655 [00:01<00:07, 75.04it/s]"
     ]
    }
   ],
   "source": [
    "train()\n",
    "torch.save(model, \"./models1/\" + run_name + \"_\" + str(epochs) + \".pt\")"
   ]
  },
  {
   "cell_type": "code",
   "execution_count": null,
   "id": "65655d69",
   "metadata": {},
   "outputs": [],
   "source": [
    "run_name = \"GatedGCN_\" + str(num_layers) + \"_\" + \"140\" + \"_\" + str(lr) + \"_\" + \"Adam_\" + str(out_channels)\n",
    "\n",
    "\n",
    "torch.save(model, \"./models/\" + run_name + \".pt\")"
   ]
  },
  {
   "cell_type": "code",
   "execution_count": null,
   "id": "90f75ccd",
   "metadata": {},
   "outputs": [],
   "source": []
  }
 ],
 "metadata": {
  "kernelspec": {
   "display_name": "Python 3 (ipykernel)",
   "language": "python",
   "name": "python3"
  },
  "language_info": {
   "codemirror_mode": {
    "name": "ipython",
    "version": 3
   },
   "file_extension": ".py",
   "mimetype": "text/x-python",
   "name": "python",
   "nbconvert_exporter": "python",
   "pygments_lexer": "ipython3",
   "version": "3.8.10"
  }
 },
 "nbformat": 4,
 "nbformat_minor": 5
}
