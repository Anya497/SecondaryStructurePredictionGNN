{
 "cells": [
  {
   "cell_type": "code",
   "execution_count": 210,
   "id": "27f466d3",
   "metadata": {},
   "outputs": [],
   "source": [
    "import os.path as osp\n",
    "from tqdm.auto import tqdm\n",
    "import numpy as np\n",
    "import wandb\n",
    "\n",
    "import torch\n",
    "from sklearn.metrics import roc_auc_score\n",
    "\n",
    "import torch.nn.functional as F\n",
    "# from ogb.nodeproppred import Evaluator, PygNodePropPredDataset\n",
    "from torch.nn import LayerNorm, Linear, ReLU, Tanh\n",
    "from torchvision.ops import MLP\n",
    "from torchvision.utils import save_image\n",
    "\n",
    "\n",
    "import torch_geometric.transforms as T\n",
    "from torch_geometric.datasets import Planetoid\n",
    "from torch_geometric.nn import GCNConv, GatedGraphConv, SAGEConv\n",
    "from torch_geometric.nn import DeepGCNLayer, GENConv\n",
    "from torch_geometric.utils import negative_sampling, to_dense_adj\n",
    "from torch_geometric.loader import DataLoader\n",
    "\n",
    "from dataset_processing import RNADataset\n"
   ]
  },
  {
   "cell_type": "code",
   "execution_count": 206,
   "id": "4a077c77",
   "metadata": {},
   "outputs": [],
   "source": [
    "dataset = RNADataset(root=\"./data/\")\n",
    "dataset = dataset.shuffle()\n",
    "train_data, val_data, test_data = dataset[0:655], dataset[655:873], dataset[873:]\n",
    "bs = 1\n",
    "\n",
    "train_dataloader = DataLoader(train_data, batch_size=bs, shuffle=False)\n",
    "val_dataloader = DataLoader(val_data, batch_size=1, shuffle=False)\n"
   ]
  },
  {
   "cell_type": "code",
   "execution_count": 207,
   "id": "b10c7822",
   "metadata": {},
   "outputs": [],
   "source": [
    "def del_nucl_conn(y):\n",
    "#     main_diag = torch.zeros([1, y.size()[0] // bs])\n",
    "#     diag1 = torch.ones([1, (y.size()[0] // bs) - 1])\n",
    "    \n",
    "    main_diag = torch.zeros([1, y.size()[0]])\n",
    "    diag1 = torch.ones([1, y.size()[0] - 1])\n",
    "#     batch_diags = []\n",
    "#     for i in range(bs):\n",
    "#         batch_diags.append((torch.diag_embed(main_diag).to(device) +\n",
    "#             torch.diag_embed(diag1, offset=1).to(device) + \n",
    "#             torch.diag_embed(diag1, offset=-1).to(device) - 1)[0])\n",
    "\n",
    "#     return y * torch.cat(batch_diags, 0).to(device) * (-1)\n",
    "    return y * (torch.diag_embed(main_diag).to(device) + \n",
    "                    torch.diag_embed(diag1, offset=1).to(device) + \n",
    "                torch.diag_embed(diag1, offset=-1).to(device) - 1)[0] * (-1)\n",
    "\n",
    "\n",
    "def del_main_diag(y):\n",
    "    main_diag = torch.ones([1, y.size()[0]])\n",
    "#     main_diag = torch.zeros([1, y.size()[0]])\n",
    "\n",
    "#     batch_diags = []\n",
    "#     for i in range(bs):\n",
    "#         batch_diags.append((torch.diag_embed(main_diag).to(device) - 1)[0])\n",
    "    \n",
    "#     return y * torch.cat(batch_diags, 0).to(device) * (-1)\n",
    "    return y * (torch.diag_embed(main_diag).to(device) - 1)[0] * (-1)\n",
    "\n",
    "\n",
    "def adj_mat_split(y):\n",
    "    y = list(torch.split(y, 196, dim=0))\n",
    "#     print(y)\n",
    "    for i in range(len(y)):\n",
    "        y[i] = torch.split(y[i], 196, dim=1)\n",
    "    \n",
    "    y1 = []\n",
    "    for i in range(len(y)):\n",
    "        y1.append(argm(y[i][i]))\n",
    "#         y1.append(y[i][i])\n",
    "\n",
    "    \n",
    "    return torch.cat(y1, 0).to(device)\n",
    "    \n",
    "\n",
    "def argm(y):\n",
    "    max_ind = torch.argmax(y, dim=1)\n",
    "    y1 = torch.zeros_like(y)\n",
    "    k = 0\n",
    "    for i in max_ind:\n",
    "        y1[k][i] = 1.\n",
    "        y1[i][k] = 1.\n",
    "        k += 1\n",
    "    \n",
    "    return y1 * y\n"
   ]
  },
  {
   "cell_type": "code",
   "execution_count": 208,
   "id": "9f11e39a",
   "metadata": {},
   "outputs": [
    {
     "name": "stdout",
     "output_type": "stream",
     "text": [
      "tensor([[0.0925, 0.5601, 0.6544, 0.3688, 0.2366],\n",
      "        [0.0137, 0.0874, 0.6931, 0.4639, 0.7942],\n",
      "        [0.3217, 0.2779, 0.8013, 0.7939, 0.2062],\n",
      "        [0.0479, 0.9888, 0.5943, 0.1980, 0.2824]])\n",
      "tensor([[0.9075, 0.4399, 0.3456, 0.6312, 0.7634],\n",
      "        [0.9863, 0.9126, 0.3069, 0.5361, 0.2058],\n",
      "        [0.6783, 0.7221, 0.1987, 0.2061, 0.7938],\n",
      "        [0.9521, 0.0112, 0.4057, 0.8020, 0.7176]])\n"
     ]
    },
    {
     "ename": "IndexError",
     "evalue": "index 4 is out of bounds for dimension 0 with size 4",
     "output_type": "error",
     "traceback": [
      "\u001b[0;31m---------------------------------------------------------------------------\u001b[0m",
      "\u001b[0;31mIndexError\u001b[0m                                Traceback (most recent call last)",
      "Cell \u001b[0;32mIn[208], line 4\u001b[0m\n\u001b[1;32m      2\u001b[0m \u001b[38;5;28mprint\u001b[39m(a)\n\u001b[1;32m      3\u001b[0m \u001b[38;5;28mprint\u001b[39m(\u001b[38;5;241m1\u001b[39m \u001b[38;5;241m-\u001b[39m a)\n\u001b[0;32m----> 4\u001b[0m \u001b[43madj_mat_split\u001b[49m\u001b[43m(\u001b[49m\u001b[43ma\u001b[49m\u001b[43m)\u001b[49m\n",
      "Cell \u001b[0;32mIn[207], line 39\u001b[0m, in \u001b[0;36madj_mat_split\u001b[0;34m(y)\u001b[0m\n\u001b[1;32m     37\u001b[0m     y1 \u001b[38;5;241m=\u001b[39m []\n\u001b[1;32m     38\u001b[0m     \u001b[38;5;28;01mfor\u001b[39;00m i \u001b[38;5;129;01min\u001b[39;00m \u001b[38;5;28mrange\u001b[39m(\u001b[38;5;28mlen\u001b[39m(y)):\n\u001b[0;32m---> 39\u001b[0m         y1\u001b[38;5;241m.\u001b[39mappend(\u001b[43margm\u001b[49m\u001b[43m(\u001b[49m\u001b[43my\u001b[49m\u001b[43m[\u001b[49m\u001b[43mi\u001b[49m\u001b[43m]\u001b[49m\u001b[43m[\u001b[49m\u001b[43mi\u001b[49m\u001b[43m]\u001b[49m\u001b[43m)\u001b[49m)\n\u001b[1;32m     40\u001b[0m \u001b[38;5;66;03m#         y1.append(y[i][i])\u001b[39;00m\n\u001b[1;32m     43\u001b[0m     \u001b[38;5;28;01mreturn\u001b[39;00m torch\u001b[38;5;241m.\u001b[39mcat(y1, \u001b[38;5;241m0\u001b[39m)\u001b[38;5;241m.\u001b[39mto(device)\n",
      "Cell \u001b[0;32mIn[207], line 52\u001b[0m, in \u001b[0;36margm\u001b[0;34m(y)\u001b[0m\n\u001b[1;32m     50\u001b[0m \u001b[38;5;28;01mfor\u001b[39;00m i \u001b[38;5;129;01min\u001b[39;00m max_ind:\n\u001b[1;32m     51\u001b[0m     y1[k][i] \u001b[38;5;241m=\u001b[39m \u001b[38;5;241m1.\u001b[39m\n\u001b[0;32m---> 52\u001b[0m     \u001b[43my1\u001b[49m\u001b[43m[\u001b[49m\u001b[43mi\u001b[49m\u001b[43m]\u001b[49m[k] \u001b[38;5;241m=\u001b[39m \u001b[38;5;241m1.\u001b[39m\n\u001b[1;32m     53\u001b[0m     k \u001b[38;5;241m+\u001b[39m\u001b[38;5;241m=\u001b[39m \u001b[38;5;241m1\u001b[39m\n\u001b[1;32m     55\u001b[0m \u001b[38;5;28;01mreturn\u001b[39;00m y1 \u001b[38;5;241m*\u001b[39m y\n",
      "\u001b[0;31mIndexError\u001b[0m: index 4 is out of bounds for dimension 0 with size 4"
     ]
    }
   ],
   "source": [
    "a = torch.rand([4, 5])\n",
    "print(a)\n",
    "print(1 - a)\n",
    "adj_mat_split(a)"
   ]
  },
  {
   "cell_type": "code",
   "execution_count": 296,
   "id": "1a1b581d",
   "metadata": {},
   "outputs": [],
   "source": [
    "a = 0.5\n",
    "\n",
    "def precision(y_pred, y_true):\n",
    "    y_pred = del_nucl_conn(y_pred)\n",
    "    y_pred[(y_pred > a)] = 1\n",
    "    y_pred[(y_pred <= a)] = 0 \n",
    "#     y_pred = argm(y_pred)\n",
    "    y_pred = del_main_diag(y_pred)\n",
    "    y_pred = adj_mat_split(y_pred)\n",
    "\n",
    "    tp = torch.sum(y_pred * y_true)\n",
    "    fp = torch.sum((1 - y_true) * y_pred)\n",
    "    \n",
    "    return tp / (tp + fp + epsilon)\n",
    "\n",
    "def recall(y_pred, y_true):\n",
    "    y_pred = del_nucl_conn(y_pred)\n",
    "    y_pred[(y_pred > a)] = 1\n",
    "    y_pred[(y_pred <= a)] = 0 \n",
    "#     y_pred = argm(y_pred)\n",
    "    y_pred = del_main_diag(y_pred)\n",
    "#     y_pred = adj_mat_split(y_pred)\n",
    "\n",
    "    tp = torch.sum(y_pred * y_true)\n",
    "    fn = torch.sum(y_true * (1 - y_pred))\n",
    "    \n",
    "    return tp / (tp + fn + epsilon)\n",
    "\n",
    "def f_loss(y_pred, y_true):\n",
    "    y_pred = del_nucl_conn(y_pred)\n",
    "#     y_pred = argm(y_pred)\n",
    "    y_pred = del_main_diag(y_pred)\n",
    "#     y_pred = adj_mat_split(y_pred)\n",
    "\n",
    "    tp = torch.sum(y_pred * y_true)\n",
    "    fn = torch.sum(y_true * (1 - y_pred))\n",
    "    fp = torch.sum((1 - y_true) * y_pred)\n",
    "    precision = tp / (tp + fp + epsilon)\n",
    "    recall = tp / (tp + fn + epsilon)\n",
    "\n",
    "    k = 1\n",
    "    k1 = 1 - torch.abs(precision - recall)\n",
    "\n",
    "#     k2 = 1 - torch.abs(K.mean(precision) - K.mean(recall))\n",
    "    #calculate upgraded f1 score\n",
    "    f1 = ((1 + k * k) * precision * recall) / (k * k * precision + recall + epsilon)\n",
    "#     tw = K.sum(K.cast(y_true * y_pred, ’float32’), axis=[1, 2, 3])\n",
    "#     fw = K.sum(K.cast((1 - y_true) * y_pred, ’float32’), axis=[1, 2, 3])\n",
    "#     fb = K.sum(K.cast(y_true * (1 - y_pred), ’float32’), axis=[1, 2, 3])\n",
    "    return 1 - f1\n",
    "\n",
    "\n",
    "\n",
    "def distance_loss(y_pred, y_true):\n",
    "   # print(\">>>>>>>>>>>>>>>>>>>>>>>>>>\")\n",
    "    #y_pred = torch.tanh((y_pred*3)**5)\n",
    "    y_pred = del_nucl_conn(y_pred)\n",
    "    y_pred = del_main_diag(y_pred)\n",
    "    y_true = del_nucl_conn(y_true)\n",
    "    y_true = del_main_diag(y_true)\n",
    "    \n",
    "    \n",
    "    \n",
    "   # print(y_pred)\n",
    "    #print(y_true)\n",
    "    \n",
    "    #print (\"---------------------------------\")\n",
    "    \n",
    "    \n",
    "    c = 0.001\n",
    "    \n",
    "#     y_pred[0][0] = 0.01\n",
    "#     y_true[0][0] = 0.01\n",
    "#     y_pred[(torch.abs(y_pred) < c)] = 0\n",
    "#    c = torch.rand(y_true.size()).to(device)\n",
    "#     k = 0.4\n",
    "#     c[(c > k)] = 0\n",
    "#     c += y_true\n",
    "#     y_true += c\n",
    "    #y_pred.where(y_pred > c or y_pred < -c, y_pred, 0)\n",
    "    \n",
    "    #print(y_pred)\n",
    "    \n",
    "    #print(\"<<<<<<<<<<<<<<<<<<<<<<<<<\")\n",
    "    \n",
    "    #c = 0.0001\n",
    "    y_true_local = y_true + c\n",
    "    y_true_local = torch.triu(y_true_local, diagonal=2)\n",
    "    y_true_local = y_true_local.to_sparse()\n",
    "    #c_sparse = torch.triu(c, diagonal=2).to_sparse()\n",
    "    y_true_local = torch.cat([y_true_local.indices(), torch.unsqueeze(torch.tan((y_true_local.values() - c)) ** 8, 0)], dim=0)\n",
    "#     y_true_local = torch.cat([y_true_local.indices(), torch.unsqueeze(y_true_local.values() * 100, 0)], dim=0)\n",
    "    \n",
    "    y_pred_local = y_pred + c\n",
    "    y_pred_local = torch.triu(y_pred, diagonal=2)\n",
    "    y_pred_local = y_pred_local.to_sparse()\n",
    "    y_pred_local = torch.cat([y_pred_local.indices(), torch.unsqueeze(torch.tan((y_pred_local.values() - c)) ** 8, 0)], dim=0)\n",
    "    #y_pred_local = (1/(1 - y_pred_local))-1\n",
    "    dist2 = torch.cdist(y_true_local.t(), y_pred_local.t())\n",
    "    x_min,ind1 = torch.min(dist2, dim=0)\n",
    "    y_min,ind1 = torch.min(dist2, dim=1)\n",
    "#     return torch.sum(torch.sqrt(x_min))/(x_min.size()[0]) + torch.sum(torch.sqrt(y_min))/(y_min.size()[0])\n",
    "    #return torch.sum(x_min)/(x_min.size()[0]) + torch.sum(y_min)/(y_min.size()[0])\n",
    "    return torch.max(x_min) + torch.max(y_min)"
   ]
  },
  {
   "cell_type": "code",
   "execution_count": 307,
   "id": "34be5809",
   "metadata": {},
   "outputs": [],
   "source": [
    "class DeepGCNModel(torch.nn.Module):\n",
    "    def __init__(self, num_layers, out_channels):\n",
    "        super(DeepGCNModel, self).__init__()\n",
    "#         self.node_encoder = Linear(dataset.num_features, out_channels)\n",
    "#         self.edge_encoder = Linear(train_data.edge_attr.size(-1), hidden_channels)\n",
    "        #conv = SAGEConv(dataset.num_features, out_channels)\n",
    "        self.layers = torch.nn.ModuleList()\n",
    "        #self.layers.append(conv)        \n",
    "        for i in range(1, num_layers + 1):\n",
    "#             conv = GENConv(hidden_channels, hidden_channels, aggr='softmax',\n",
    "#                            t=1.0, learn_t=True, num_layers=2, norm='layer')\n",
    "            conv = GatedGraphConv(out_channels, num_layers=2, act='tanh')\n",
    "            #conv = SAGEConv(out_channels, out_channels)\n",
    "    \n",
    "#             norm = LayerNorm(out_channels, elementwise_affine=False)\n",
    "            \n",
    "\n",
    "            layer = DeepGCNLayer(conv, block='res', act=torch.tanh)\n",
    "            self.layers.append(layer)\n",
    "            #self.layers.append(act)\n",
    "            #self.layers.append(conv)\n",
    "            \n",
    "            \n",
    "        #self.mlp = MLP(out_channels, [10])\n",
    "#        self.lin = Linear(out_channels, 1)\n",
    "        \n",
    "#        self.lin = Linear(out_channels, data.y.size(-1))\n",
    "\n",
    "    def forward(self, x, edge_index):\n",
    "#         x = self.node_encoder(x)\n",
    "#         edge_attr = self.edge_encoder(edge_attr)\n",
    "#         print(x)\n",
    "        x = self.layers[0].conv(x, edge_index)\n",
    "     \n",
    "#         print(x)\n",
    "        for layer in self.layers[1:]:\n",
    "            x = layer(x, edge_index)\n",
    "#         x = self.layers[0].act(self.layers[0].norm(x))\n",
    "#         x = F.dropout(x, p=0.1, training=self.training)\n",
    "#         x = self.mlp(x)\n",
    "        x1, x2 = torch.split(x, out_channels // 2, dim=1)\n",
    "#        return (x1 @ x2.t()).sigmoid()\n",
    "        return torch.tanh(((torch.sigmoid(x1 @ x2.t()))))\n",
    "#         return x.sigmoid()"
   ]
  },
  {
   "cell_type": "code",
   "execution_count": 320,
   "id": "741f839b",
   "metadata": {},
   "outputs": [
    {
     "name": "stdout",
     "output_type": "stream",
     "text": [
      "cuda\n"
     ]
    }
   ],
   "source": [
    "num_layers = 8\n",
    "# num_features = dataset.num_features\n",
    "out_channels = 4\n",
    "\n",
    "\n",
    "lr = 0.0001\n",
    "epochs = 1500\n",
    "beta = 1\n",
    "\n",
    "\n",
    "model = DeepGCNModel(num_layers, out_channels)\n",
    "# model = torch.load(\"./models1/GatedGCN_6_4e-05_Adam_200_2_60.pt\")\n",
    "\n",
    "device = torch.device('cuda' if torch.cuda.is_available() else 'cpu')\n",
    "model = model.to(device)\n",
    "train_data = list(map(lambda x: x.to(device), train_data))\n",
    "val_data = list(map(lambda x: x.to(device), val_data))\n",
    "print(device)\n",
    "\n",
    "#optimizer = torch.optim.Adam(model.parameters(), lr=lr)\n",
    "optimizer = torch.optim.Adagrad(model.parameters(), lr=lr)\n",
    "#optimizer = torch.optim.RMSprop(model.parameters(), lr=lr)\n",
    "#optimizer = torch.optim.Adamax(model.parameters(), lr=lr)\n",
    "# optimizer = torch.optim.Adadelta(model.parameters(), lr=lr)\n",
    "\n",
    "# optimizer = torch.optim.SGD(model.parameters(), lr=0.001)\n",
    "\n",
    "# criterion = torch.nn.BCELoss()\n",
    "# criterion = torch.nn.BCEWithLogitsLoss()\n",
    "# criterion = torch.nn.CrossEntropyLoss()\n",
    "# criterion = torch.nn.KLDivLoss()\n",
    "\n",
    "# def RMSELoss(y_pred, y_true):\n",
    "#     return torch.sqrt(torch.mean((y_pred - y_true) ** 2))\n",
    "\n",
    "# criterion = f_loss\n",
    "criterion = distance_loss"
   ]
  },
  {
   "cell_type": "code",
   "execution_count": 321,
   "id": "79405b81",
   "metadata": {},
   "outputs": [
    {
     "data": {
      "text/html": [
       "Finishing last run (ID:8qd8c381) before initializing another..."
      ],
      "text/plain": [
       "<IPython.core.display.HTML object>"
      ]
     },
     "metadata": {},
     "output_type": "display_data"
    },
    {
     "data": {
      "text/html": [
       "Waiting for W&B process to finish... <strong style=\"color:green\">(success).</strong>"
      ],
      "text/plain": [
       "<IPython.core.display.HTML object>"
      ]
     },
     "metadata": {},
     "output_type": "display_data"
    },
    {
     "data": {
      "text/html": [
       "<style>\n",
       "    table.wandb td:nth-child(1) { padding: 0 10px; text-align: left ; width: auto;} td:nth-child(2) {text-align: left ; width: 100%}\n",
       "    .wandb-row { display: flex; flex-direction: row; flex-wrap: wrap; justify-content: flex-start; width: 100% }\n",
       "    .wandb-col { display: flex; flex-direction: column; flex-basis: 100%; flex: 1; padding: 10px; }\n",
       "    </style>\n",
       "<div class=\"wandb-row\"><div class=\"wandb-col\"><h3>Run history:</h3><br/><table class=\"wandb\"><tr><td>train_f1</td><td>▁▃▃▄▄▃▃▅▇▇███</td></tr><tr><td>train_loss</td><td>█▇▆▅▅▄▃▃▃▂▂▁▁</td></tr><tr><td>train_precision</td><td>▁▃▃▄▄▃▃▅▇▇███</td></tr><tr><td>train_recall</td><td>▁▂▃▄▅▅▅▆▇▇▇██</td></tr><tr><td>val_f1</td><td>▃▅▇█▅▄▁▃█▆▄▅▆</td></tr><tr><td>val_loss</td><td>█▇▆▅▅▄▄▃▃▂▂▁▁</td></tr><tr><td>val_precision</td><td>▃▅▇█▅▄▁▃█▆▄▄▆</td></tr><tr><td>val_recall</td><td>▁▂▃▃▄▅▅▆▆▇▇██</td></tr></table><br/></div><div class=\"wandb-col\"><h3>Run summary:</h3><br/><table class=\"wandb\"><tr><td>train_f1</td><td>0.04531</td></tr><tr><td>train_loss</td><td>35.60537</td></tr><tr><td>train_precision</td><td>0.02361</td></tr><tr><td>train_recall</td><td>0.55686</td></tr><tr><td>val_f1</td><td>0.04953</td></tr><tr><td>val_loss</td><td>35.59963</td></tr><tr><td>val_precision</td><td>0.02595</td></tr><tr><td>val_recall</td><td>0.54515</td></tr></table><br/></div></div>"
      ],
      "text/plain": [
       "<IPython.core.display.HTML object>"
      ]
     },
     "metadata": {},
     "output_type": "display_data"
    },
    {
     "data": {
      "text/html": [
       " View run <strong style=\"color:#cdcd00\">ResSageConv_dist_tanh_12*2_0.0001_Adagrad_4_0.5</strong> at: <a href='https://wandb.ai/chi-vinny0702/secondary_structure_prediction1/runs/8qd8c381' target=\"_blank\">https://wandb.ai/chi-vinny0702/secondary_structure_prediction1/runs/8qd8c381</a><br/>Synced 5 W&B file(s), 0 media file(s), 0 artifact file(s) and 0 other file(s)"
      ],
      "text/plain": [
       "<IPython.core.display.HTML object>"
      ]
     },
     "metadata": {},
     "output_type": "display_data"
    },
    {
     "data": {
      "text/html": [
       "Find logs at: <code>./wandb/run-20230427_201917-8qd8c381/logs</code>"
      ],
      "text/plain": [
       "<IPython.core.display.HTML object>"
      ]
     },
     "metadata": {},
     "output_type": "display_data"
    },
    {
     "data": {
      "text/html": [
       "Successfully finished last run (ID:8qd8c381). Initializing new run:<br/>"
      ],
      "text/plain": [
       "<IPython.core.display.HTML object>"
      ]
     },
     "metadata": {},
     "output_type": "display_data"
    },
    {
     "data": {
      "text/html": [
       "wandb version 0.15.0 is available!  To upgrade, please run:\n",
       " $ pip install wandb --upgrade"
      ],
      "text/plain": [
       "<IPython.core.display.HTML object>"
      ]
     },
     "metadata": {},
     "output_type": "display_data"
    },
    {
     "data": {
      "text/html": [
       "Tracking run with wandb version 0.14.2"
      ],
      "text/plain": [
       "<IPython.core.display.HTML object>"
      ]
     },
     "metadata": {},
     "output_type": "display_data"
    },
    {
     "data": {
      "text/html": [
       "Run data is saved locally in <code>/home/vdshk/SecondaryStructurePredictionGNN/wandb/run-20230427_202246-u0e2g2ou</code>"
      ],
      "text/plain": [
       "<IPython.core.display.HTML object>"
      ]
     },
     "metadata": {},
     "output_type": "display_data"
    },
    {
     "data": {
      "text/html": [
       "Syncing run <strong><a href='https://wandb.ai/chi-vinny0702/secondary_structure_prediction1/runs/u0e2g2ou' target=\"_blank\">ResSageConv_dist_tanh_18*2_0.0001_Adagrad_4_0.5</a></strong> to <a href='https://wandb.ai/chi-vinny0702/secondary_structure_prediction1' target=\"_blank\">Weights & Biases</a> (<a href='https://wandb.me/run' target=\"_blank\">docs</a>)<br/>"
      ],
      "text/plain": [
       "<IPython.core.display.HTML object>"
      ]
     },
     "metadata": {},
     "output_type": "display_data"
    },
    {
     "data": {
      "text/html": [
       " View project at <a href='https://wandb.ai/chi-vinny0702/secondary_structure_prediction1' target=\"_blank\">https://wandb.ai/chi-vinny0702/secondary_structure_prediction1</a>"
      ],
      "text/plain": [
       "<IPython.core.display.HTML object>"
      ]
     },
     "metadata": {},
     "output_type": "display_data"
    },
    {
     "data": {
      "text/html": [
       " View run at <a href='https://wandb.ai/chi-vinny0702/secondary_structure_prediction1/runs/u0e2g2ou' target=\"_blank\">https://wandb.ai/chi-vinny0702/secondary_structure_prediction1/runs/u0e2g2ou</a>"
      ],
      "text/plain": [
       "<IPython.core.display.HTML object>"
      ]
     },
     "metadata": {},
     "output_type": "display_data"
    }
   ],
   "source": [
    "run_name = \"ResSageConv_dist_tanh_1\" + str(num_layers) + \"*2_\" + str(lr) + \\\n",
    "\"_\" + \"Adagrad_\" + str(out_channels) + \"_\" + str(a)\n",
    "\n",
    "\n",
    "wandb.init(\n",
    "    # set the wandb project where this run will be logged\n",
    "    project=\"secondary_structure_prediction1\",\n",
    "    \n",
    "    # track hyperparameters and run metadata\n",
    "    config={\n",
    "    \"learning_rate\": lr,\n",
    "    \"architecture\": \"DeepGCN\",\n",
    "    \"epochs\": epochs,\n",
    "    \"optimizer\": \"Adagrad\",\n",
    "    \"out_channels\": out_channels,\n",
    "    \"loss\": \"distance_loss\",\n",
    "    \"beta\": beta,\n",
    "    \"train:val:test\": \"655:218:218\"\n",
    "    },\n",
    "    name=run_name\n",
    ")\n",
    "\n",
    "epsilon = 1e-10"
   ]
  },
  {
   "cell_type": "code",
   "execution_count": 322,
   "id": "ad9b0229",
   "metadata": {},
   "outputs": [],
   "source": [
    "def train():\n",
    "    for epoch in range(1, epochs + 1):\n",
    "        model.train()\n",
    "        train_loss = []\n",
    "        train_recall = []\n",
    "        train_precision = []\n",
    "        k = 0\n",
    "        for g in tqdm(train_data):\n",
    "            g.to(device)\n",
    "            optimizer.zero_grad()\n",
    "\n",
    "            out = model(g.x, g.edge_index)\n",
    "            y_true = g.adj_mat\n",
    "#             print(out.size(),y_true.size())\n",
    "            loss = criterion(out, y_true.to(torch.float32))            \n",
    "            \n",
    "            loss.backward()\n",
    "            optimizer.step()\n",
    "            \n",
    "#             out = out.sigmoid()\n",
    "#             if k <= 2:\n",
    "#                 save_image(y_true, f\"./pictures/{k}/{epoch}_t.jpg\")\n",
    "#                 save_image(torch.squeeze(to_dense_adj(g.edge_index)), f\"./pictures/{k}/{epoch}_p.jpg\")\n",
    "#                 save_image(out, f\"./pictures/{k}/{epoch}_nn.jpg\")\n",
    "#             k += 1\n",
    "            train_loss.append(loss.item())\n",
    "            train_precision.append(precision(out, y_true).item())\n",
    "            train_recall.append(recall(out, y_true).item())\n",
    "            \n",
    "        train_prec = np.mean(train_precision)\n",
    "        train_rec = np.mean(train_recall)\n",
    "        train_f1 = (2 * train_prec * train_rec) / (train_prec + train_rec)\n",
    "        print(f'Epoch: {epoch:03d}, loss: {np.mean(train_loss)}, f1: {train_f1}, precision: {train_prec}, recall: {train_rec}')\n",
    "        \n",
    "        val_loss = []\n",
    "        val_recall = []\n",
    "        val_precision = []\n",
    "        with torch.no_grad():\n",
    "            for g in val_data:\n",
    "                g.to(device)\n",
    "                out = model(g.x, g.edge_index)\n",
    "        \n",
    "                y_true = g.adj_mat\n",
    "                loss = criterion(out, y_true.to(torch.float32))\n",
    "                                \n",
    "                val_loss.append(loss.item())\n",
    "                \n",
    "#                 out = out.sigmoid()\n",
    "                \n",
    "                val_precision.append(precision(out, y_true).item())\n",
    "                val_recall.append(recall(out, y_true).item())\n",
    " \n",
    "            \n",
    "            prec = np.mean(val_precision)\n",
    "            rec = np.mean(val_recall)\n",
    "            f1 = (2 * prec * rec) / (prec + rec)\n",
    "            print(f'val_loss: {np.mean(val_loss)}, val_f1: {f1}, val_precision: {prec}, val_recall: {rec}')\n",
    "              \n",
    "            wandb.log({\"train_loss\": np.mean(train_loss), \"train_f1\": train_f1, \"train_precision\": train_prec, \n",
    "                       \"train_recall\": train_rec,\n",
    "                       \"val_loss\": np.mean(val_loss), \"val_f1\": f1, \"val_precision\": prec, \"val_recall\": rec})\n",
    "#     wandb.finish()"
   ]
  },
  {
   "cell_type": "code",
   "execution_count": 323,
   "id": "02e9df65",
   "metadata": {},
   "outputs": [
    {
     "name": "stderr",
     "output_type": "stream",
     "text": [
      "100%|█████████████████████████████████████████| 655/655 [00:17<00:00, 36.41it/s]\n"
     ]
    },
    {
     "name": "stdout",
     "output_type": "stream",
     "text": [
      "Epoch: 001, loss: 35.146289790495665, f1: 0.03538925899834932, precision: 0.018017152505606867, recall: 0.9884778197485072\n",
      "val_loss: 35.14596876091913, val_f1: 0.039994402774875, val_precision: 0.020411494241412215, val_recall: 0.9852276162816844\n"
     ]
    },
    {
     "name": "stderr",
     "output_type": "stream",
     "text": [
      "100%|█████████████████████████████████████████| 655/655 [00:18<00:00, 36.38it/s]\n"
     ]
    },
    {
     "name": "stdout",
     "output_type": "stream",
     "text": [
      "Epoch: 002, loss: 35.145491534517014, f1: 0.03538925899834932, precision: 0.018017152505606867, recall: 0.9884778197485072\n",
      "val_loss: 35.14555078908938, val_f1: 0.039994402774875, val_precision: 0.020411494241412215, val_recall: 0.9852276162816844\n"
     ]
    },
    {
     "name": "stderr",
     "output_type": "stream",
     "text": [
      "100%|█████████████████████████████████████████| 655/655 [00:18<00:00, 36.33it/s]\n"
     ]
    },
    {
     "name": "stdout",
     "output_type": "stream",
     "text": [
      "Epoch: 003, loss: 35.14520677755807, f1: 0.03538925899834932, precision: 0.018017152505606867, recall: 0.9884778197485072\n",
      "val_loss: 35.14533650109527, val_f1: 0.039994402774875, val_precision: 0.020411494241412215, val_recall: 0.9852276162816844\n"
     ]
    },
    {
     "name": "stderr",
     "output_type": "stream",
     "text": [
      "100%|█████████████████████████████████████████| 655/655 [00:18<00:00, 36.33it/s]\n"
     ]
    },
    {
     "name": "stdout",
     "output_type": "stream",
     "text": [
      "Epoch: 004, loss: 35.145041516718976, f1: 0.03538925899834932, precision: 0.018017152505606867, recall: 0.9884778197485072\n",
      "val_loss: 35.14519574226589, val_f1: 0.039994402774875, val_precision: 0.020411494241412215, val_recall: 0.9852276162816844\n"
     ]
    },
    {
     "name": "stderr",
     "output_type": "stream",
     "text": [
      "100%|█████████████████████████████████████████| 655/655 [00:18<00:00, 36.25it/s]\n"
     ]
    },
    {
     "name": "stdout",
     "output_type": "stream",
     "text": [
      "Epoch: 005, loss: 35.144929714057284, f1: 0.03538925899834932, precision: 0.018017152505606867, recall: 0.9884778197485072\n",
      "val_loss: 35.145098240003676, val_f1: 0.039994402774875, val_precision: 0.020411494241412215, val_recall: 0.9852276162816844\n"
     ]
    },
    {
     "name": "stderr",
     "output_type": "stream",
     "text": [
      "100%|█████████████████████████████████████████| 655/655 [00:17<00:00, 36.65it/s]\n"
     ]
    },
    {
     "name": "stdout",
     "output_type": "stream",
     "text": [
      "Epoch: 006, loss: 35.14485125942085, f1: 0.03538925899834932, precision: 0.018017152505606867, recall: 0.9884778197485072\n",
      "val_loss: 35.14502513080562, val_f1: 0.039994402774875, val_precision: 0.020411494241412215, val_recall: 0.9852276162816844\n"
     ]
    },
    {
     "name": "stderr",
     "output_type": "stream",
     "text": [
      "100%|█████████████████████████████████████████| 655/655 [00:17<00:00, 36.43it/s]\n"
     ]
    },
    {
     "name": "stdout",
     "output_type": "stream",
     "text": [
      "Epoch: 007, loss: 35.14479179673523, f1: 0.03538925899834932, precision: 0.018017152505606867, recall: 0.9884778197485072\n",
      "val_loss: 35.1449639906577, val_f1: 0.039994402774875, val_precision: 0.020411494241412215, val_recall: 0.9852276162816844\n"
     ]
    },
    {
     "name": "stderr",
     "output_type": "stream",
     "text": [
      "100%|█████████████████████████████████████████| 655/655 [00:18<00:00, 36.36it/s]\n"
     ]
    },
    {
     "name": "stdout",
     "output_type": "stream",
     "text": [
      "Epoch: 008, loss: 35.144731256616026, f1: 0.03538925899834932, precision: 0.018017152505606867, recall: 0.9884778197485072\n",
      "val_loss: 35.1449144695877, val_f1: 0.039994402774875, val_precision: 0.020411494241412215, val_recall: 0.9852276162816844\n"
     ]
    },
    {
     "name": "stderr",
     "output_type": "stream",
     "text": [
      "100%|█████████████████████████████████████████| 655/655 [00:18<00:00, 36.30it/s]\n"
     ]
    },
    {
     "name": "stdout",
     "output_type": "stream",
     "text": [
      "Epoch: 009, loss: 35.14470943421808, f1: 0.03538925899834932, precision: 0.018017152505606867, recall: 0.9884778197485072\n",
      "val_loss: 35.14487390780668, val_f1: 0.039994402774875, val_precision: 0.020411494241412215, val_recall: 0.9852276162816844\n"
     ]
    },
    {
     "name": "stderr",
     "output_type": "stream",
     "text": [
      "100%|█████████████████████████████████████████| 655/655 [00:17<00:00, 36.50it/s]\n"
     ]
    },
    {
     "name": "stdout",
     "output_type": "stream",
     "text": [
      "Epoch: 010, loss: 35.14467969122734, f1: 0.03538925899834932, precision: 0.018017152505606867, recall: 0.9884778197485072\n",
      "val_loss: 35.14483786066738, val_f1: 0.039994402774875, val_precision: 0.020411494241412215, val_recall: 0.9852276162816844\n"
     ]
    },
    {
     "name": "stderr",
     "output_type": "stream",
     "text": [
      "100%|█████████████████████████████████████████| 655/655 [00:17<00:00, 36.47it/s]\n"
     ]
    },
    {
     "name": "stdout",
     "output_type": "stream",
     "text": [
      "Epoch: 011, loss: 35.1446530349382, f1: 0.03538925899834932, precision: 0.018017152505606867, recall: 0.9884778197485072\n",
      "val_loss: 35.14480722059897, val_f1: 0.039994402774875, val_precision: 0.020411494241412215, val_recall: 0.9852276162816844\n"
     ]
    },
    {
     "name": "stderr",
     "output_type": "stream",
     "text": [
      "100%|█████████████████████████████████████████| 655/655 [00:18<00:00, 36.38it/s]\n"
     ]
    },
    {
     "name": "stdout",
     "output_type": "stream",
     "text": [
      "Epoch: 012, loss: 35.144630327297534, f1: 0.03538925899834932, precision: 0.018017152505606867, recall: 0.9884778197485072\n",
      "val_loss: 35.144780272737556, val_f1: 0.039994402774875, val_precision: 0.020411494241412215, val_recall: 0.9852276162816844\n"
     ]
    },
    {
     "name": "stderr",
     "output_type": "stream",
     "text": [
      "100%|█████████████████████████████████████████| 655/655 [00:17<00:00, 37.06it/s]\n"
     ]
    },
    {
     "name": "stdout",
     "output_type": "stream",
     "text": [
      "Epoch: 013, loss: 35.14460962310092, f1: 0.03538925899834932, precision: 0.018017152505606867, recall: 0.9884778197485072\n",
      "val_loss: 35.1447560546595, val_f1: 0.039994402774875, val_precision: 0.020411494241412215, val_recall: 0.9852276162816844\n"
     ]
    },
    {
     "name": "stderr",
     "output_type": "stream",
     "text": [
      "100%|█████████████████████████████████████████| 655/655 [00:18<00:00, 36.29it/s]\n"
     ]
    },
    {
     "name": "stdout",
     "output_type": "stream",
     "text": [
      "Epoch: 014, loss: 35.14459019435271, f1: 0.03538925899834932, precision: 0.018017152505606867, recall: 0.9884778197485072\n",
      "val_loss: 35.14473372643147, val_f1: 0.039994402774875, val_precision: 0.020411494241412215, val_recall: 0.9852276162816844\n"
     ]
    },
    {
     "name": "stderr",
     "output_type": "stream",
     "text": [
      "100%|█████████████████████████████████████████| 655/655 [00:18<00:00, 36.33it/s]\n"
     ]
    },
    {
     "name": "stdout",
     "output_type": "stream",
     "text": [
      "Epoch: 015, loss: 35.14457271080891, f1: 0.03538925899834932, precision: 0.018017152505606867, recall: 0.9884778197485072\n",
      "val_loss: 35.14471089074371, val_f1: 0.039994402774875, val_precision: 0.020411494241412215, val_recall: 0.9852276162816844\n"
     ]
    },
    {
     "name": "stderr",
     "output_type": "stream",
     "text": [
      "100%|█████████████████████████████████████████| 655/655 [00:17<00:00, 36.45it/s]\n"
     ]
    },
    {
     "name": "stdout",
     "output_type": "stream",
     "text": [
      "Epoch: 016, loss: 35.14455576889387, f1: 0.03538925899834932, precision: 0.018017152505606867, recall: 0.9884778197485072\n",
      "val_loss: 35.144689857412914, val_f1: 0.039994402774875, val_precision: 0.020411494241412215, val_recall: 0.9852276162816844\n"
     ]
    },
    {
     "name": "stderr",
     "output_type": "stream",
     "text": [
      "100%|█████████████████████████████████████████| 655/655 [00:18<00:00, 36.38it/s]\n"
     ]
    },
    {
     "name": "stdout",
     "output_type": "stream",
     "text": [
      "Epoch: 017, loss: 35.144541040085656, f1: 0.03538925899834932, precision: 0.018017152505606867, recall: 0.9884778197485072\n",
      "val_loss: 35.144670783926586, val_f1: 0.039994402774875, val_precision: 0.020411494241412215, val_recall: 0.9852276162816844\n"
     ]
    },
    {
     "name": "stderr",
     "output_type": "stream",
     "text": [
      "100%|█████████████████████████████████████████| 655/655 [00:18<00:00, 36.36it/s]\n"
     ]
    },
    {
     "name": "stdout",
     "output_type": "stream",
     "text": [
      "Epoch: 018, loss: 35.14452758672583, f1: 0.03538925899834932, precision: 0.018017152505606867, recall: 0.9884778197485072\n",
      "val_loss: 35.14465416024584, val_f1: 0.039994402774875, val_precision: 0.020411494241412215, val_recall: 0.9852276162816844\n"
     ]
    },
    {
     "name": "stderr",
     "output_type": "stream",
     "text": [
      "100%|█████████████████████████████████████████| 655/655 [00:17<00:00, 37.13it/s]\n"
     ]
    },
    {
     "name": "stdout",
     "output_type": "stream",
     "text": [
      "Epoch: 019, loss: 35.144515548589574, f1: 0.03538925899834932, precision: 0.018017152505606867, recall: 0.9884778197485072\n",
      "val_loss: 35.144638551484555, val_f1: 0.039994402774875, val_precision: 0.020411494241412215, val_recall: 0.9852276162816844\n"
     ]
    },
    {
     "name": "stderr",
     "output_type": "stream",
     "text": [
      "100%|█████████████████████████████████████████| 655/655 [00:18<00:00, 36.24it/s]\n"
     ]
    },
    {
     "name": "stdout",
     "output_type": "stream",
     "text": [
      "Epoch: 020, loss: 35.144504570415, f1: 0.03538925899834932, precision: 0.018017152505606867, recall: 0.9884778197485072\n",
      "val_loss: 35.144624395108, val_f1: 0.039994402774875, val_precision: 0.020411494241412215, val_recall: 0.9852276162816844\n"
     ]
    },
    {
     "name": "stderr",
     "output_type": "stream",
     "text": [
      "100%|█████████████████████████████████████████| 655/655 [00:17<00:00, 36.43it/s]\n"
     ]
    },
    {
     "name": "stdout",
     "output_type": "stream",
     "text": [
      "Epoch: 021, loss: 35.14449460561039, f1: 0.03538925899834932, precision: 0.018017152505606867, recall: 0.9884778197485072\n",
      "val_loss: 35.14461137614119, val_f1: 0.039994402774875, val_precision: 0.020411494241412215, val_recall: 0.9852276162816844\n"
     ]
    },
    {
     "name": "stderr",
     "output_type": "stream",
     "text": [
      "100%|█████████████████████████████████████████| 655/655 [00:17<00:00, 36.84it/s]\n"
     ]
    },
    {
     "name": "stdout",
     "output_type": "stream",
     "text": [
      "Epoch: 022, loss: 35.14448538044937, f1: 0.03538925899834932, precision: 0.018017152505606867, recall: 0.9884778197485072\n",
      "val_loss: 35.14459928460077, val_f1: 0.039994402774875, val_precision: 0.020411494241412215, val_recall: 0.9852276162816844\n"
     ]
    },
    {
     "name": "stderr",
     "output_type": "stream",
     "text": [
      "100%|█████████████████████████████████████████| 655/655 [00:18<00:00, 36.33it/s]\n"
     ]
    },
    {
     "name": "stdout",
     "output_type": "stream",
     "text": [
      "Epoch: 023, loss: 35.144476836692284, f1: 0.03538925899834932, precision: 0.018017152505606867, recall: 0.9884778197485072\n",
      "val_loss: 35.14458822547843, val_f1: 0.039994402774875, val_precision: 0.020411494241412215, val_recall: 0.9852276162816844\n"
     ]
    },
    {
     "name": "stderr",
     "output_type": "stream",
     "text": [
      "100%|█████████████████████████████████████████| 655/655 [00:17<00:00, 36.41it/s]\n"
     ]
    },
    {
     "name": "stdout",
     "output_type": "stream",
     "text": [
      "Epoch: 024, loss: 35.14446911411431, f1: 0.03538925899834932, precision: 0.018017152505606867, recall: 0.9884778197485072\n",
      "val_loss: 35.14457805878526, val_f1: 0.039994402774875, val_precision: 0.020411494241412215, val_recall: 0.9852276162816844\n"
     ]
    },
    {
     "name": "stderr",
     "output_type": "stream",
     "text": [
      "100%|█████████████████████████████████████████| 655/655 [00:18<00:00, 36.25it/s]\n"
     ]
    },
    {
     "name": "stdout",
     "output_type": "stream",
     "text": [
      "Epoch: 025, loss: 35.14446189239735, f1: 0.03538925899834932, precision: 0.018017152505606867, recall: 0.9884778197485072\n",
      "val_loss: 35.144568592036535, val_f1: 0.039994402774875, val_precision: 0.020411494241412215, val_recall: 0.9852276162816844\n"
     ]
    },
    {
     "name": "stderr",
     "output_type": "stream",
     "text": [
      "100%|█████████████████████████████████████████| 655/655 [00:18<00:00, 36.28it/s]\n"
     ]
    },
    {
     "name": "stdout",
     "output_type": "stream",
     "text": [
      "Epoch: 026, loss: 35.1444545017854, f1: 0.03538925899834932, precision: 0.018017152505606867, recall: 0.9884778197485072\n",
      "val_loss: 35.14455842534336, val_f1: 0.039994402774875, val_precision: 0.020411494241412215, val_recall: 0.9852276162816844\n"
     ]
    },
    {
     "name": "stderr",
     "output_type": "stream",
     "text": [
      "100%|█████████████████████████████████████████| 655/655 [00:17<00:00, 36.44it/s]\n"
     ]
    },
    {
     "name": "stdout",
     "output_type": "stream",
     "text": [
      "Epoch: 027, loss: 35.14444528244834, f1: 0.03538925899834932, precision: 0.018017152505606867, recall: 0.9884778197485072\n",
      "val_loss: 35.14454946605437, val_f1: 0.039994402774875, val_precision: 0.020411494241412215, val_recall: 0.9852276162816844\n"
     ]
    },
    {
     "name": "stderr",
     "output_type": "stream",
     "text": [
      "100%|█████████████████████████████████████████| 655/655 [00:17<00:00, 36.71it/s]\n"
     ]
    },
    {
     "name": "stdout",
     "output_type": "stream",
     "text": [
      "Epoch: 028, loss: 35.14441629074912, f1: 0.03538925899834932, precision: 0.018017152505606867, recall: 0.9884778197485072\n",
      "val_loss: 35.144545353880716, val_f1: 0.039994402774875, val_precision: 0.020411494241412215, val_recall: 0.9852276162816844\n"
     ]
    },
    {
     "name": "stderr",
     "output_type": "stream",
     "text": [
      "100%|█████████████████████████████████████████| 655/655 [00:17<00:00, 36.48it/s]\n"
     ]
    },
    {
     "name": "stdout",
     "output_type": "stream",
     "text": [
      "Epoch: 029, loss: 35.1443942295686, f1: 0.03538925899834932, precision: 0.018017152505606867, recall: 0.9884778197485072\n",
      "val_loss: 35.14453819694869, val_f1: 0.039994402774875, val_precision: 0.020411494241412215, val_recall: 0.9852276162816844\n"
     ]
    },
    {
     "name": "stderr",
     "output_type": "stream",
     "text": [
      "100%|█████████████████████████████████████████| 655/655 [00:18<00:00, 36.38it/s]\n"
     ]
    },
    {
     "name": "stdout",
     "output_type": "stream",
     "text": [
      "Epoch: 030, loss: 35.144388458018994, f1: 0.03538925899834932, precision: 0.018017152505606867, recall: 0.9884778197485072\n",
      "val_loss: 35.14453163496945, val_f1: 0.039994402774875, val_precision: 0.020411494241412215, val_recall: 0.9852276162816844\n"
     ]
    },
    {
     "name": "stderr",
     "output_type": "stream",
     "text": [
      "100%|█████████████████████████████████████████| 655/655 [00:18<00:00, 36.36it/s]\n"
     ]
    },
    {
     "name": "stdout",
     "output_type": "stream",
     "text": [
      "Epoch: 031, loss: 35.14438309414696, f1: 0.03538925899834932, precision: 0.018017152505606867, recall: 0.9884778197485072\n",
      "val_loss: 35.14452516048326, val_f1: 0.039994402774875, val_precision: 0.020411494241412215, val_recall: 0.9852276162816844\n"
     ]
    },
    {
     "name": "stderr",
     "output_type": "stream",
     "text": [
      "100%|█████████████████████████████████████████| 655/655 [00:17<00:00, 36.45it/s]\n"
     ]
    },
    {
     "name": "stdout",
     "output_type": "stream",
     "text": [
      "Epoch: 032, loss: 35.1443781204806, f1: 0.03538925899834932, precision: 0.018017152505606867, recall: 0.9884778197485072\n",
      "val_loss: 35.144518983473475, val_f1: 0.039994402774875, val_precision: 0.020411494241412215, val_recall: 0.9852276162816844\n"
     ]
    },
    {
     "name": "stderr",
     "output_type": "stream",
     "text": [
      "100%|█████████████████████████████████████████| 655/655 [00:17<00:00, 36.47it/s]\n"
     ]
    },
    {
     "name": "stdout",
     "output_type": "stream",
     "text": [
      "Epoch: 033, loss: 35.14437321670183, f1: 0.03538925899834932, precision: 0.018017152505606867, recall: 0.9884778197485072\n",
      "val_loss: 35.14451385638036, val_f1: 0.039994402774875, val_precision: 0.020411494241412215, val_recall: 0.9852276162816844\n"
     ]
    },
    {
     "name": "stderr",
     "output_type": "stream",
     "text": [
      "100%|█████████████████████████████████████████| 655/655 [00:17<00:00, 36.62it/s]\n"
     ]
    },
    {
     "name": "stdout",
     "output_type": "stream",
     "text": [
      "Epoch: 034, loss: 35.14436879631217, f1: 0.03538925899834932, precision: 0.018017152505606867, recall: 0.9884778197485072\n",
      "val_loss: 35.14450834431779, val_f1: 0.039994402774875, val_precision: 0.020411494241412215, val_recall: 0.9852276162816844\n"
     ]
    },
    {
     "name": "stderr",
     "output_type": "stream",
     "text": [
      "100%|█████████████████████████████████████████| 655/655 [00:17<00:00, 36.76it/s]\n"
     ]
    },
    {
     "name": "stdout",
     "output_type": "stream",
     "text": [
      "Epoch: 035, loss: 35.1443645797613, f1: 0.03538925899834932, precision: 0.018017152505606867, recall: 0.9884778197485072\n",
      "val_loss: 35.14450330471774, val_f1: 0.039994402774875, val_precision: 0.020411494241412215, val_recall: 0.9852276162816844\n"
     ]
    },
    {
     "name": "stderr",
     "output_type": "stream",
     "text": [
      "100%|█████████████████████████████████████████| 655/655 [00:17<00:00, 36.43it/s]\n"
     ]
    },
    {
     "name": "stdout",
     "output_type": "stream",
     "text": [
      "Epoch: 036, loss: 35.14436060199301, f1: 0.03538925899834932, precision: 0.018017152505606867, recall: 0.9884778197485072\n",
      "val_loss: 35.14449865008713, val_f1: 0.039994402774875, val_precision: 0.020411494241412215, val_recall: 0.9852276162816844\n"
     ]
    },
    {
     "name": "stderr",
     "output_type": "stream",
     "text": [
      "100%|█████████████████████████████████████████| 655/655 [00:17<00:00, 36.49it/s]\n"
     ]
    },
    {
     "name": "stdout",
     "output_type": "stream",
     "text": [
      "Epoch: 037, loss: 35.144356892127114, f1: 0.03538925899834932, precision: 0.018017152505606867, recall: 0.9884778197485072\n",
      "val_loss: 35.14449399545652, val_f1: 0.039994402774875, val_precision: 0.020411494241412215, val_recall: 0.9852276162816844\n"
     ]
    },
    {
     "name": "stderr",
     "output_type": "stream",
     "text": [
      "100%|█████████████████████████████████████████| 655/655 [00:17<00:00, 36.52it/s]\n"
     ]
    },
    {
     "name": "stdout",
     "output_type": "stream",
     "text": [
      "Epoch: 038, loss: 35.14435322885295, f1: 0.03538925899834932, precision: 0.018017152505606867, recall: 0.9884778197485072\n",
      "val_loss: 35.14448904334952, val_f1: 0.039994402774875, val_precision: 0.020411494241412215, val_recall: 0.9852276162816844\n"
     ]
    },
    {
     "name": "stderr",
     "output_type": "stream",
     "text": [
      "100%|█████████████████████████████████████████| 655/655 [00:18<00:00, 36.38it/s]\n"
     ]
    },
    {
     "name": "stdout",
     "output_type": "stream",
     "text": [
      "Epoch: 039, loss: 35.14434972864981, f1: 0.03538925899834932, precision: 0.018017152505606867, recall: 0.9884778197485072\n",
      "val_loss: 35.144485246150865, val_f1: 0.039994402774875, val_precision: 0.020411494241412215, val_recall: 0.9852276162816844\n"
     ]
    },
    {
     "name": "stderr",
     "output_type": "stream",
     "text": [
      "100%|█████████████████████████████████████████| 655/655 [00:17<00:00, 36.41it/s]\n"
     ]
    },
    {
     "name": "stdout",
     "output_type": "stream",
     "text": [
      "Epoch: 040, loss: 35.14434638569373, f1: 0.03538925899834932, precision: 0.018017152505606867, recall: 0.9884778197485072\n",
      "val_loss: 35.14448090649526, val_f1: 0.039994402774875, val_precision: 0.020411494241412215, val_recall: 0.9852276162816844\n"
     ]
    },
    {
     "name": "stderr",
     "output_type": "stream",
     "text": [
      "100%|█████████████████████████████████████████| 655/655 [00:17<00:00, 37.23it/s]\n"
     ]
    },
    {
     "name": "stdout",
     "output_type": "stream",
     "text": [
      "Epoch: 041, loss: 35.14434325822437, f1: 0.03538925899834932, precision: 0.018017152505606867, recall: 0.9884778197485072\n",
      "val_loss: 35.14447714429383, val_f1: 0.039994402774875, val_precision: 0.020411494241412215, val_recall: 0.9852276162816844\n"
     ]
    },
    {
     "name": "stderr",
     "output_type": "stream",
     "text": [
      "100%|█████████████████████████████████████████| 655/655 [00:17<00:00, 36.50it/s]\n"
     ]
    },
    {
     "name": "stdout",
     "output_type": "stream",
     "text": [
      "Epoch: 042, loss: 35.14434018899466, f1: 0.03538925899834932, precision: 0.018017152505606867, recall: 0.9884778197485072\n",
      "val_loss: 35.14447327710073, val_f1: 0.039994402774875, val_precision: 0.020411494241412215, val_recall: 0.9852276162816844\n"
     ]
    },
    {
     "name": "stderr",
     "output_type": "stream",
     "text": [
      "100%|█████████████████████████████████████████| 655/655 [00:17<00:00, 36.40it/s]\n"
     ]
    },
    {
     "name": "stdout",
     "output_type": "stream",
     "text": [
      "Epoch: 043, loss: 35.14433731777977, f1: 0.03538925899834932, precision: 0.018017152505606867, recall: 0.9884778197485072\n",
      "val_loss: 35.1444698298743, val_f1: 0.039994402774875, val_precision: 0.020411494241412215, val_recall: 0.9852276162816844\n"
     ]
    },
    {
     "name": "stderr",
     "output_type": "stream",
     "text": [
      "100%|█████████████████████████████████████████| 655/655 [00:17<00:00, 36.51it/s]\n"
     ]
    },
    {
     "name": "stdout",
     "output_type": "stream",
     "text": [
      "Epoch: 044, loss: 35.14433450480454, f1: 0.03538925899834932, precision: 0.018017152505606867, recall: 0.9884778197485072\n",
      "val_loss: 35.14446675011871, val_f1: 0.039994402774875, val_precision: 0.020411494241412215, val_recall: 0.9852276162816844\n"
     ]
    },
    {
     "name": "stderr",
     "output_type": "stream",
     "text": [
      "100%|█████████████████████████████████████████| 655/655 [00:17<00:00, 36.50it/s]\n"
     ]
    },
    {
     "name": "stdout",
     "output_type": "stream",
     "text": [
      "Epoch: 045, loss: 35.14433177336482, f1: 0.03538925899834932, precision: 0.018017152505606867, recall: 0.9884778197485072\n",
      "val_loss: 35.14446328539367, val_f1: 0.039994402774875, val_precision: 0.020411494241412215, val_recall: 0.9852276162816844\n"
     ]
    },
    {
     "name": "stderr",
     "output_type": "stream",
     "text": [
      "100%|█████████████████████████████████████████| 655/655 [00:18<00:00, 36.14it/s]\n"
     ]
    },
    {
     "name": "stdout",
     "output_type": "stream",
     "text": [
      "Epoch: 046, loss: 35.14432933312336, f1: 0.03538925899834932, precision: 0.018017152505606867, recall: 0.9884778197485072\n",
      "val_loss: 35.14446025813391, val_f1: 0.039994402774875, val_precision: 0.020411494241412215, val_recall: 0.9852276162816844\n"
     ]
    },
    {
     "name": "stderr",
     "output_type": "stream",
     "text": [
      "100%|█████████████████████████████████████████| 655/655 [00:17<00:00, 36.94it/s]\n"
     ]
    },
    {
     "name": "stdout",
     "output_type": "stream",
     "text": [
      "Epoch: 047, loss: 35.14432677057863, f1: 0.03538925899834932, precision: 0.018017152505606867, recall: 0.9884778197485072\n",
      "val_loss: 35.14445733586582, val_f1: 0.039994402774875, val_precision: 0.020411494241412215, val_recall: 0.9852276162816844\n"
     ]
    },
    {
     "name": "stderr",
     "output_type": "stream",
     "text": [
      "100%|█████████████████████████████████████████| 655/655 [00:17<00:00, 36.46it/s]\n"
     ]
    },
    {
     "name": "stdout",
     "output_type": "stream",
     "text": [
      "Epoch: 048, loss: 35.144324341985104, f1: 0.03538925899834932, precision: 0.018017152505606867, recall: 0.9884778197485072\n",
      "val_loss: 35.14445413361996, val_f1: 0.039994402774875, val_precision: 0.020411494241412215, val_recall: 0.9852276162816844\n"
     ]
    },
    {
     "name": "stderr",
     "output_type": "stream",
     "text": [
      "100%|█████████████████████████████████████████| 655/655 [00:18<00:00, 36.36it/s]\n"
     ]
    },
    {
     "name": "stdout",
     "output_type": "stream",
     "text": [
      "Epoch: 049, loss: 35.14432221041381, f1: 0.03538925899834932, precision: 0.018017152505606867, recall: 0.9884778197485072\n",
      "val_loss: 35.14445128134631, val_f1: 0.039994402774875, val_precision: 0.020411494241412215, val_recall: 0.9852276162816844\n"
     ]
    },
    {
     "name": "stderr",
     "output_type": "stream",
     "text": [
      "100%|█████████████████████████████████████████| 655/655 [00:17<00:00, 36.54it/s]\n"
     ]
    },
    {
     "name": "stdout",
     "output_type": "stream",
     "text": [
      "Epoch: 050, loss: 35.14432004972269, f1: 0.03538925899834932, precision: 0.018017152505606867, recall: 0.9884778197485072\n",
      "val_loss: 35.14444856906156, val_f1: 0.039994402774875, val_precision: 0.020411494241412215, val_recall: 0.9852276162816844\n"
     ]
    },
    {
     "name": "stderr",
     "output_type": "stream",
     "text": [
      "100%|█████████████████████████████████████████| 655/655 [00:17<00:00, 36.46it/s]\n"
     ]
    },
    {
     "name": "stdout",
     "output_type": "stream",
     "text": [
      "Epoch: 051, loss: 35.14431790650346, f1: 0.03538925899834932, precision: 0.018017152505606867, recall: 0.9884778197485072\n",
      "val_loss: 35.144445261824025, val_f1: 0.039994402774875, val_precision: 0.020411494241412215, val_recall: 0.9852276162816844\n"
     ]
    },
    {
     "name": "stderr",
     "output_type": "stream",
     "text": [
      "100%|█████████████████████████████████████████| 655/655 [00:17<00:00, 36.47it/s]\n"
     ]
    },
    {
     "name": "stdout",
     "output_type": "stream",
     "text": [
      "Epoch: 052, loss: 35.14431578075613, f1: 0.03538925899834932, precision: 0.018017152505606867, recall: 0.9884778197485072\n",
      "val_loss: 35.14444288201288, val_f1: 0.039994402774875, val_precision: 0.020411494241412215, val_recall: 0.9852276162816844\n"
     ]
    },
    {
     "name": "stderr",
     "output_type": "stream",
     "text": [
      "100%|█████████████████████████████████████████| 655/655 [00:17<00:00, 36.73it/s]\n"
     ]
    },
    {
     "name": "stdout",
     "output_type": "stream",
     "text": [
      "Epoch: 053, loss: 35.14431382972776, f1: 0.03538925899834932, precision: 0.018017152505606867, recall: 0.9884778197485072\n",
      "val_loss: 35.144440397210076, val_f1: 0.039994402774875, val_precision: 0.020411494241412215, val_recall: 0.9852276162816844\n"
     ]
    },
    {
     "name": "stderr",
     "output_type": "stream",
     "text": [
      "100%|█████████████████████████████████████████| 655/655 [00:17<00:00, 36.47it/s]\n"
     ]
    },
    {
     "name": "stdout",
     "output_type": "stream",
     "text": [
      "Epoch: 054, loss: 35.1443118262837, f1: 0.03538925899834932, precision: 0.018017152505606867, recall: 0.9884778197485072\n",
      "val_loss: 35.14443773742116, val_f1: 0.039994402774875, val_precision: 0.020411494241412215, val_recall: 0.9852276162816844\n"
     ]
    },
    {
     "name": "stderr",
     "output_type": "stream",
     "text": [
      "100%|█████████████████████████████████████████| 655/655 [00:17<00:00, 36.54it/s]\n"
     ]
    },
    {
     "name": "stdout",
     "output_type": "stream",
     "text": [
      "Epoch: 055, loss: 35.14430986360739, f1: 0.03538925899834932, precision: 0.018017152505606867, recall: 0.9884778197485072\n",
      "val_loss: 35.14443565508641, val_f1: 0.039994402774875, val_precision: 0.020411494241412215, val_recall: 0.9852276162816844\n"
     ]
    },
    {
     "name": "stderr",
     "output_type": "stream",
     "text": [
      "100%|█████████████████████████████████████████| 655/655 [00:17<00:00, 36.45it/s]\n"
     ]
    },
    {
     "name": "stdout",
     "output_type": "stream",
     "text": [
      "Epoch: 056, loss: 35.14430815718556, f1: 0.03538925899834932, precision: 0.018017152505606867, recall: 0.9884778197485072\n",
      "val_loss: 35.14443310028916, val_f1: 0.039994402774875, val_precision: 0.020411494241412215, val_recall: 0.9852276162816844\n"
     ]
    },
    {
     "name": "stderr",
     "output_type": "stream",
     "text": [
      "100%|█████████████████████████████████████████| 655/655 [00:17<00:00, 36.46it/s]\n"
     ]
    },
    {
     "name": "stdout",
     "output_type": "stream",
     "text": [
      "Epoch: 057, loss: 35.14430640999598, f1: 0.03538925899834932, precision: 0.018017152505606867, recall: 0.9884778197485072\n",
      "val_loss: 35.14443093046136, val_f1: 0.039994402774875, val_precision: 0.020411494241412215, val_recall: 0.9852276162816844\n"
     ]
    },
    {
     "name": "stderr",
     "output_type": "stream",
     "text": [
      "100%|█████████████████████████████████████████| 655/655 [00:17<00:00, 36.53it/s]\n"
     ]
    },
    {
     "name": "stdout",
     "output_type": "stream",
     "text": [
      "Epoch: 058, loss: 35.1443047618138, f1: 0.03538925899834932, precision: 0.018017152505606867, recall: 0.9884778197485072\n",
      "val_loss: 35.144428445658555, val_f1: 0.039994402774875, val_precision: 0.020411494241412215, val_recall: 0.9852276162816844\n"
     ]
    },
    {
     "name": "stderr",
     "output_type": "stream",
     "text": [
      "100%|█████████████████████████████████████████| 655/655 [00:17<00:00, 36.57it/s]\n"
     ]
    },
    {
     "name": "stdout",
     "output_type": "stream",
     "text": [
      "Epoch: 059, loss: 35.14430314857541, f1: 0.03538925899834932, precision: 0.018017152505606867, recall: 0.9884778197485072\n",
      "val_loss: 35.144426205836304, val_f1: 0.039994402774875, val_precision: 0.020411494241412215, val_recall: 0.9852276162816844\n"
     ]
    },
    {
     "name": "stderr",
     "output_type": "stream",
     "text": [
      "100%|█████████████████████████████████████████| 655/655 [00:17<00:00, 36.74it/s]\n"
     ]
    },
    {
     "name": "stdout",
     "output_type": "stream",
     "text": [
      "Epoch: 060, loss: 35.14430171587995, f1: 0.03538925899834932, precision: 0.018017152505606867, recall: 0.9884778197485072\n",
      "val_loss: 35.144424210994615, val_f1: 0.039994402774875, val_precision: 0.020411494241412215, val_recall: 0.9852276162816844\n"
     ]
    },
    {
     "name": "stderr",
     "output_type": "stream",
     "text": [
      "100%|█████████████████████████████████████████| 655/655 [00:17<00:00, 36.47it/s]\n"
     ]
    },
    {
     "name": "stdout",
     "output_type": "stream",
     "text": [
      "Epoch: 061, loss: 35.14430004440191, f1: 0.03538925899834932, precision: 0.018017152505606867, recall: 0.9884778197485072\n",
      "val_loss: 35.1444218661807, val_f1: 0.039994402774875, val_precision: 0.020411494241412215, val_recall: 0.9852276162816844\n"
     ]
    },
    {
     "name": "stderr",
     "output_type": "stream",
     "text": [
      "100%|█████████████████████████████████████████| 655/655 [00:17<00:00, 36.46it/s]\n"
     ]
    },
    {
     "name": "stdout",
     "output_type": "stream",
     "text": [
      "Epoch: 062, loss: 35.144298652474205, f1: 0.03538925899834932, precision: 0.018017152505606867, recall: 0.9884778197485072\n",
      "val_loss: 35.14442006382374, val_f1: 0.039994402774875, val_precision: 0.020411494241412215, val_recall: 0.9852276162816844\n"
     ]
    },
    {
     "name": "stderr",
     "output_type": "stream",
     "text": [
      "100%|█████████████████████████████████████████| 655/655 [00:17<00:00, 36.53it/s]\n"
     ]
    },
    {
     "name": "stdout",
     "output_type": "stream",
     "text": [
      "Epoch: 063, loss: 35.14429730131426, f1: 0.03538925899834932, precision: 0.018017152505606867, recall: 0.9884778197485072\n",
      "val_loss: 35.14441820897093, val_f1: 0.039994402774875, val_precision: 0.020411494241412215, val_recall: 0.9852276162816844\n"
     ]
    },
    {
     "name": "stderr",
     "output_type": "stream",
     "text": [
      "100%|█████████████████████████████████████████| 655/655 [00:17<00:00, 36.46it/s]\n"
     ]
    },
    {
     "name": "stdout",
     "output_type": "stream",
     "text": [
      "Epoch: 064, loss: 35.14429595597828, f1: 0.03538925899834932, precision: 0.018017152505606867, recall: 0.9884778197485072\n",
      "val_loss: 35.14441617913202, val_f1: 0.039994402774875, val_precision: 0.020411494241412215, val_recall: 0.9852276162816844\n"
     ]
    },
    {
     "name": "stderr",
     "output_type": "stream",
     "text": [
      "100%|█████████████████████████████████████████| 655/655 [00:18<00:00, 36.35it/s]\n"
     ]
    },
    {
     "name": "stdout",
     "output_type": "stream",
     "text": [
      "Epoch: 065, loss: 35.14429465723402, f1: 0.03538925899834932, precision: 0.018017152505606867, recall: 0.9884778197485072\n",
      "val_loss: 35.144414481766724, val_f1: 0.039994402774875, val_precision: 0.020411494241412215, val_recall: 0.9852276162816844\n"
     ]
    },
    {
     "name": "stderr",
     "output_type": "stream",
     "text": [
      "100%|█████████████████████████████████████████| 655/655 [00:17<00:00, 37.21it/s]\n"
     ]
    },
    {
     "name": "stdout",
     "output_type": "stream",
     "text": [
      "Epoch: 066, loss: 35.144293177946835, f1: 0.03538925899834932, precision: 0.018017152505606867, recall: 0.9884778197485072\n",
      "val_loss: 35.14441245192781, val_f1: 0.039994402774875, val_precision: 0.020411494241412215, val_recall: 0.9852276162816844\n"
     ]
    },
    {
     "name": "stderr",
     "output_type": "stream",
     "text": [
      "100%|█████████████████████████████████████████| 655/655 [00:17<00:00, 36.66it/s]\n"
     ]
    },
    {
     "name": "stdout",
     "output_type": "stream",
     "text": [
      "Epoch: 067, loss: 35.144291978209985, f1: 0.03538925899834932, precision: 0.018017152505606867, recall: 0.9884778197485072\n",
      "val_loss: 35.14441077206113, val_f1: 0.039994402774875, val_precision: 0.020411494241412215, val_recall: 0.9852276162816844\n"
     ]
    },
    {
     "name": "stderr",
     "output_type": "stream",
     "text": [
      "100%|█████████████████████████████████████████| 655/655 [00:17<00:00, 36.48it/s]\n"
     ]
    },
    {
     "name": "stdout",
     "output_type": "stream",
     "text": [
      "Epoch: 068, loss: 35.14429069111365, f1: 0.03538925899834932, precision: 0.018017152505606867, recall: 0.9884778197485072\n",
      "val_loss: 35.14440914469028, val_f1: 0.039994402774875, val_precision: 0.020411494241412215, val_recall: 0.9852276162816844\n"
     ]
    },
    {
     "name": "stderr",
     "output_type": "stream",
     "text": [
      "100%|█████████████████████████████████████████| 655/655 [00:17<00:00, 36.49it/s]\n"
     ]
    },
    {
     "name": "stdout",
     "output_type": "stream",
     "text": [
      "Epoch: 069, loss: 35.14428940984129, f1: 0.03538925899834932, precision: 0.018017152505606867, recall: 0.9884778197485072\n",
      "val_loss: 35.14440737733054, val_f1: 0.039994402774875, val_precision: 0.020411494241412215, val_recall: 0.9852276162816844\n"
     ]
    },
    {
     "name": "stderr",
     "output_type": "stream",
     "text": [
      "100%|█████████████████████████████████████████| 655/655 [00:17<00:00, 36.50it/s]\n"
     ]
    },
    {
     "name": "stdout",
     "output_type": "stream",
     "text": [
      "Epoch: 070, loss: 35.14428812274496, f1: 0.03538925899834932, precision: 0.018017152505606867, recall: 0.9884778197485072\n",
      "val_loss: 35.14440498002079, val_f1: 0.039994402774875, val_precision: 0.020411494241412215, val_recall: 0.9852276162816844\n"
     ]
    },
    {
     "name": "stderr",
     "output_type": "stream",
     "text": [
      "100%|█████████████████████████████████████████| 655/655 [00:17<00:00, 36.48it/s]\n"
     ]
    },
    {
     "name": "stdout",
     "output_type": "stream",
     "text": [
      "Epoch: 071, loss: 35.14428692300811, f1: 0.03538925899834932, precision: 0.018017152505606867, recall: 0.9884778197485072\n",
      "val_loss: 35.14440354513466, val_f1: 0.039994402774875, val_precision: 0.020411494241412215, val_recall: 0.9852276162816844\n"
     ]
    },
    {
     "name": "stderr",
     "output_type": "stream",
     "text": [
      "100%|█████████████████████████████████████████| 655/655 [00:17<00:00, 36.81it/s]\n"
     ]
    },
    {
     "name": "stdout",
     "output_type": "stream",
     "text": [
      "Epoch: 072, loss: 35.14428572327126, f1: 0.03538925899834932, precision: 0.018017152505606867, recall: 0.9884778197485072\n",
      "val_loss: 35.14440195276103, val_f1: 0.039994402774875, val_precision: 0.020411494241412215, val_recall: 0.9852276162816844\n"
     ]
    },
    {
     "name": "stderr",
     "output_type": "stream",
     "text": [
      "100%|█████████████████████████████████████████| 655/655 [00:17<00:00, 36.51it/s]\n"
     ]
    },
    {
     "name": "stdout",
     "output_type": "stream",
     "text": [
      "Epoch: 073, loss: 35.1442846924294, f1: 0.03538925899834932, precision: 0.018017152505606867, recall: 0.9884778197485072\n",
      "val_loss: 35.144400412883236, val_f1: 0.039994402774875, val_precision: 0.020411494241412215, val_recall: 0.9852276162816844\n"
     ]
    },
    {
     "name": "stderr",
     "output_type": "stream",
     "text": [
      "100%|█████████████████████████████████████████| 655/655 [00:17<00:00, 36.42it/s]\n"
     ]
    },
    {
     "name": "stdout",
     "output_type": "stream",
     "text": [
      "Epoch: 074, loss: 35.1442837023553, f1: 0.03538925899834932, precision: 0.018017152505606867, recall: 0.9884778197485072\n",
      "val_loss: 35.144398908002664, val_f1: 0.039994402774875, val_precision: 0.020411494241412215, val_recall: 0.9852276162816844\n"
     ]
    },
    {
     "name": "stderr",
     "output_type": "stream",
     "text": [
      "100%|█████████████████████████████████████████| 655/655 [00:17<00:00, 36.58it/s]\n"
     ]
    },
    {
     "name": "stdout",
     "output_type": "stream",
     "text": [
      "Epoch: 075, loss: 35.14428248514656, f1: 0.03538925899834932, precision: 0.018017152505606867, recall: 0.9884778197485072\n",
      "val_loss: 35.144397473116534, val_f1: 0.039994402774875, val_precision: 0.020411494241412215, val_recall: 0.9852276162816844\n"
     ]
    },
    {
     "name": "stderr",
     "output_type": "stream",
     "text": [
      "100%|█████████████████████████████████████████| 655/655 [00:17<00:00, 36.52it/s]\n"
     ]
    },
    {
     "name": "stdout",
     "output_type": "stream",
     "text": [
      "Epoch: 076, loss: 35.144281518368324, f1: 0.03538925899834932, precision: 0.018017152505606867, recall: 0.9884778197485072\n",
      "val_loss: 35.14439595073735, val_f1: 0.039994402774875, val_precision: 0.020411494241412215, val_recall: 0.9852276162816844\n"
     ]
    },
    {
     "name": "stderr",
     "output_type": "stream",
     "text": [
      "100%|█████████████████████████████████████████| 655/655 [00:17<00:00, 36.47it/s]\n"
     ]
    },
    {
     "name": "stdout",
     "output_type": "stream",
     "text": [
      "Epoch: 077, loss: 35.144280569061976, f1: 0.03538925899834932, precision: 0.018017152505606867, recall: 0.9884778197485072\n",
      "val_loss: 35.144394515851225, val_f1: 0.039994402774875, val_precision: 0.020411494241412215, val_recall: 0.9852276162816844\n"
     ]
    },
    {
     "name": "stderr",
     "output_type": "stream",
     "text": [
      "100%|█████████████████████████████████████████| 655/655 [00:17<00:00, 36.62it/s]\n"
     ]
    },
    {
     "name": "stdout",
     "output_type": "stream",
     "text": [
      "Epoch: 078, loss: 35.14427957898788, f1: 0.03538925899834932, precision: 0.018017152505606867, recall: 0.9884778197485072\n",
      "val_loss: 35.14439316845815, val_f1: 0.039994402774875, val_precision: 0.020411494241412215, val_recall: 0.9852276162816844\n"
     ]
    },
    {
     "name": "stderr",
     "output_type": "stream",
     "text": [
      "100%|█████████████████████████████████████████| 655/655 [00:17<00:00, 36.50it/s]\n"
     ]
    },
    {
     "name": "stdout",
     "output_type": "stream",
     "text": [
      "Epoch: 079, loss: 35.144278606385676, f1: 0.03538925899834932, precision: 0.018017152505606867, recall: 0.9884778197485072\n",
      "val_loss: 35.14439199605119, val_f1: 0.039994402774875, val_precision: 0.020411494241412215, val_recall: 0.9852276162816844\n"
     ]
    },
    {
     "name": "stderr",
     "output_type": "stream",
     "text": [
      "100%|█████████████████████████████████████████| 655/655 [00:17<00:00, 36.40it/s]\n"
     ]
    },
    {
     "name": "stdout",
     "output_type": "stream",
     "text": [
      "Epoch: 080, loss: 35.14427772114295, f1: 0.03538925899834932, precision: 0.018017152505606867, recall: 0.9884778197485072\n",
      "val_loss: 35.14439040367756, val_f1: 0.039994402774875, val_precision: 0.020411494241412215, val_recall: 0.9852276162816844\n"
     ]
    },
    {
     "name": "stderr",
     "output_type": "stream",
     "text": [
      "100%|█████████████████████████████████████████| 655/655 [00:18<00:00, 36.37it/s]\n"
     ]
    },
    {
     "name": "stdout",
     "output_type": "stream",
     "text": [
      "Epoch: 081, loss: 35.1442768067804, f1: 0.03538925899834932, precision: 0.018017152505606867, recall: 0.9884778197485072\n",
      "val_loss: 35.144389108780324, val_f1: 0.039994402774875, val_precision: 0.020411494241412215, val_recall: 0.9852276162816844\n"
     ]
    },
    {
     "name": "stderr",
     "output_type": "stream",
     "text": [
      "100%|█████████████████████████████████████████| 655/655 [00:17<00:00, 36.42it/s]\n"
     ]
    },
    {
     "name": "stdout",
     "output_type": "stream",
     "text": [
      "Epoch: 082, loss: 35.144275874945954, f1: 0.03538925899834932, precision: 0.018017152505606867, recall: 0.9884778197485072\n",
      "val_loss: 35.14438716643447, val_f1: 0.039994402774875, val_precision: 0.020411494241412215, val_recall: 0.9852276162816844\n"
     ]
    },
    {
     "name": "stderr",
     "output_type": "stream",
     "text": [
      "100%|█████████████████████████████████████████| 655/655 [00:18<00:00, 36.36it/s]\n"
     ]
    },
    {
     "name": "stdout",
     "output_type": "stream",
     "text": [
      "Epoch: 083, loss: 35.14427518771805, f1: 0.03538925899834932, precision: 0.018017152505606867, recall: 0.9884778197485072\n",
      "val_loss: 35.144385224088616, val_f1: 0.039994402774875, val_precision: 0.020411494241412215, val_recall: 0.9852276162816844\n"
     ]
    },
    {
     "name": "stderr",
     "output_type": "stream",
     "text": [
      "100%|█████████████████████████████████████████| 655/655 [00:17<00:00, 36.48it/s]\n"
     ]
    },
    {
     "name": "stdout",
     "output_type": "stream",
     "text": [
      "Epoch: 084, loss: 35.14427420929188, f1: 0.03538925899834932, precision: 0.018017152505606867, recall: 0.9884778197485072\n",
      "val_loss: 35.14438329924137, val_f1: 0.039994402774875, val_precision: 0.020411494241412215, val_recall: 0.9852276162816844\n"
     ]
    },
    {
     "name": "stderr",
     "output_type": "stream",
     "text": [
      "100%|█████████████████████████████████████████| 655/655 [00:17<00:00, 36.70it/s]\n"
     ]
    },
    {
     "name": "stdout",
     "output_type": "stream",
     "text": [
      "Epoch: 085, loss: 35.144273434704495, f1: 0.03538925899834932, precision: 0.018017152505606867, recall: 0.9884778197485072\n",
      "val_loss: 35.14438165437191, val_f1: 0.039994402774875, val_precision: 0.020411494241412215, val_recall: 0.9852276162816844\n"
     ]
    },
    {
     "name": "stderr",
     "output_type": "stream",
     "text": [
      "100%|█████████████████████████████████████████| 655/655 [00:17<00:00, 36.45it/s]\n"
     ]
    },
    {
     "name": "stdout",
     "output_type": "stream",
     "text": [
      "Epoch: 086, loss: 35.14427262517332, f1: 0.03538925899834932, precision: 0.018017152505606867, recall: 0.9884778197485072\n",
      "val_loss: 35.144380027001056, val_f1: 0.039994402774875, val_precision: 0.020411494241412215, val_recall: 0.9852276162816844\n"
     ]
    },
    {
     "name": "stderr",
     "output_type": "stream",
     "text": [
      "100%|█████████████████████████████████████████| 655/655 [00:17<00:00, 36.55it/s]\n"
     ]
    },
    {
     "name": "stdout",
     "output_type": "stream",
     "text": [
      "Epoch: 087, loss: 35.144271885529726, f1: 0.03538925899834932, precision: 0.018017152505606867, recall: 0.9884778197485072\n",
      "val_loss: 35.14437817214826, val_f1: 0.039994402774875, val_precision: 0.020411494241412215, val_recall: 0.9852276162816844\n"
     ]
    },
    {
     "name": "stderr",
     "output_type": "stream",
     "text": [
      "100%|█████████████████████████████████████████| 655/655 [00:17<00:00, 36.44it/s]\n"
     ]
    },
    {
     "name": "stdout",
     "output_type": "stream",
     "text": [
      "Epoch: 088, loss: 35.14427095951925, f1: 0.03538925899834932, precision: 0.018017152505606867, recall: 0.9884778197485072\n",
      "val_loss: 35.14437645728435, val_f1: 0.039994402774875, val_precision: 0.020411494241412215, val_recall: 0.9852276162816844\n"
     ]
    },
    {
     "name": "stderr",
     "output_type": "stream",
     "text": [
      "100%|█████████████████████████████████████████| 655/655 [00:17<00:00, 36.49it/s]\n"
     ]
    },
    {
     "name": "stdout",
     "output_type": "stream",
     "text": [
      "Epoch: 089, loss: 35.14426978890222, f1: 0.03538925899834932, precision: 0.018017152505606867, recall: 0.9884778197485072\n",
      "val_loss: 35.14437451493849, val_f1: 0.039994402774875, val_precision: 0.020411494241412215, val_recall: 0.9852276162816844\n"
     ]
    },
    {
     "name": "stderr",
     "output_type": "stream",
     "text": [
      "100%|█████████████████████████████████████████| 655/655 [00:18<00:00, 36.38it/s]\n"
     ]
    },
    {
     "name": "stdout",
     "output_type": "stream",
     "text": [
      "Epoch: 090, loss: 35.14426867070089, f1: 0.03538925899834932, precision: 0.018017152505606867, recall: 0.9884778197485072\n",
      "val_loss: 35.14437266008569, val_f1: 0.039994402774875, val_precision: 0.020411494241412215, val_recall: 0.9852276162816844\n"
     ]
    },
    {
     "name": "stderr",
     "output_type": "stream",
     "text": [
      "100%|█████████████████████████████████████████| 655/655 [00:17<00:00, 37.10it/s]\n"
     ]
    },
    {
     "name": "stdout",
     "output_type": "stream",
     "text": [
      "Epoch: 091, loss: 35.14426760491524, f1: 0.03538925899834932, precision: 0.018017152505606867, recall: 0.9884778197485072\n",
      "val_loss: 35.1443706477454, val_f1: 0.039994402774875, val_precision: 0.020411494241412215, val_recall: 0.9852276162816844\n"
     ]
    },
    {
     "name": "stderr",
     "output_type": "stream",
     "text": [
      "100%|█████████████████████████████████████████| 655/655 [00:17<00:00, 36.46it/s]\n"
     ]
    },
    {
     "name": "stdout",
     "output_type": "stream",
     "text": [
      "Epoch: 092, loss: 35.14426658572131, f1: 0.03538925899834932, precision: 0.018017152505606867, recall: 0.9884778197485072\n",
      "val_loss: 35.14436868790093, val_f1: 0.039994402774875, val_precision: 0.020411494241412215, val_recall: 0.9852276162816844\n"
     ]
    },
    {
     "name": "stderr",
     "output_type": "stream",
     "text": [
      "100%|█████████████████████████████████████████| 655/655 [00:17<00:00, 36.53it/s]\n"
     ]
    },
    {
     "name": "stdout",
     "output_type": "stream",
     "text": [
      "Epoch: 093, loss: 35.144265543231526, f1: 0.03538925899834932, precision: 0.018017152505606867, recall: 0.9884778197485072\n",
      "val_loss: 35.14436699053563, val_f1: 0.039994402774875, val_precision: 0.020411494241412215, val_recall: 0.9852276162816844\n"
     ]
    },
    {
     "name": "stderr",
     "output_type": "stream",
     "text": [
      "100%|█████████████████████████████████████████| 655/655 [00:17<00:00, 36.50it/s]\n"
     ]
    },
    {
     "name": "stdout",
     "output_type": "stream",
     "text": [
      "Epoch: 094, loss: 35.14426458810122, f1: 0.03538925899834932, precision: 0.018017152505606867, recall: 0.9884778197485072\n",
      "val_loss: 35.14436532816756, val_f1: 0.039994402774875, val_precision: 0.020411494241412215, val_recall: 0.9852276162816844\n"
     ]
    },
    {
     "name": "stderr",
     "output_type": "stream",
     "text": [
      "100%|█████████████████████████████████████████| 655/655 [00:17<00:00, 36.40it/s]\n"
     ]
    },
    {
     "name": "stdout",
     "output_type": "stream",
     "text": [
      "Epoch: 095, loss: 35.14426363297091, f1: 0.03538925899834932, precision: 0.018017152505606867, recall: 0.9884778197485072\n",
      "val_loss: 35.14436333332587, val_f1: 0.039994402774875, val_precision: 0.020411494241412215, val_recall: 0.9852276162816844\n"
     ]
    },
    {
     "name": "stderr",
     "output_type": "stream",
     "text": [
      "100%|█████████████████████████████████████████| 655/655 [00:17<00:00, 36.57it/s]\n"
     ]
    },
    {
     "name": "stdout",
     "output_type": "stream",
     "text": [
      "Epoch: 096, loss: 35.144262712784396, f1: 0.03538925899834932, precision: 0.018017152505606867, recall: 0.9884778197485072\n",
      "val_loss: 35.144361740952235, val_f1: 0.039994402774875, val_precision: 0.020411494241412215, val_recall: 0.9852276162816844\n"
     ]
    },
    {
     "name": "stderr",
     "output_type": "stream",
     "text": [
      "100%|█████████████████████████████████████████| 655/655 [00:17<00:00, 36.85it/s]\n"
     ]
    },
    {
     "name": "stdout",
     "output_type": "stream",
     "text": [
      "Epoch: 097, loss: 35.14426174600616, f1: 0.03538925899834932, precision: 0.018017152505606867, recall: 0.9884778197485072\n",
      "val_loss: 35.144360148578606, val_f1: 0.039994402774875, val_precision: 0.020411494241412215, val_recall: 0.9852276162816844\n"
     ]
    },
    {
     "name": "stderr",
     "output_type": "stream",
     "text": [
      "100%|█████████████████████████████████████████| 655/655 [00:18<00:00, 36.36it/s]\n"
     ]
    },
    {
     "name": "stdout",
     "output_type": "stream",
     "text": [
      "Epoch: 098, loss: 35.14426079087585, f1: 0.03538925899834932, precision: 0.018017152505606867, recall: 0.9884778197485072\n",
      "val_loss: 35.144358416216086, val_f1: 0.039994402774875, val_precision: 0.020411494241412215, val_recall: 0.9852276162816844\n"
     ]
    },
    {
     "name": "stderr",
     "output_type": "stream",
     "text": [
      "100%|█████████████████████████████████████████| 655/655 [00:17<00:00, 36.53it/s]\n"
     ]
    },
    {
     "name": "stdout",
     "output_type": "stream",
     "text": [
      "Epoch: 099, loss: 35.144259859041405, f1: 0.03538925899834932, precision: 0.018017152505606867, recall: 0.9884778197485072\n",
      "val_loss: 35.1443564213744, val_f1: 0.039994402774875, val_precision: 0.020411494241412215, val_recall: 0.9852276162816844\n"
     ]
    },
    {
     "name": "stderr",
     "output_type": "stream",
     "text": [
      "100%|█████████████████████████████████████████| 655/655 [00:17<00:00, 36.55it/s]\n"
     ]
    },
    {
     "name": "stdout",
     "output_type": "stream",
     "text": [
      "Epoch: 100, loss: 35.14425887479127, f1: 0.03538925899834932, precision: 0.018017152505606867, recall: 0.9884778197485072\n",
      "val_loss: 35.14435516147439, val_f1: 0.039994402774875, val_precision: 0.020411494241412215, val_recall: 0.9852276162816844\n"
     ]
    },
    {
     "name": "stderr",
     "output_type": "stream",
     "text": [
      "100%|█████████████████████████████████████████| 655/655 [00:17<00:00, 36.42it/s]\n"
     ]
    },
    {
     "name": "stdout",
     "output_type": "stream",
     "text": [
      "Epoch: 101, loss: 35.1442578963651, f1: 0.03538925899834932, precision: 0.018017152505606867, recall: 0.9884778197485072\n",
      "val_loss: 35.14435320162992, val_f1: 0.039994402774875, val_precision: 0.020411494241412215, val_recall: 0.9852276162816844\n"
     ]
    },
    {
     "name": "stderr",
     "output_type": "stream",
     "text": [
      "100%|█████████████████████████████████████████| 655/655 [00:17<00:00, 36.50it/s]\n"
     ]
    },
    {
     "name": "stdout",
     "output_type": "stream",
     "text": [
      "Epoch: 102, loss: 35.14425709265789, f1: 0.03538925899834932, precision: 0.018017152505606867, recall: 0.9884778197485072\n",
      "val_loss: 35.144351924231295, val_f1: 0.039994402774875, val_precision: 0.020411494241412215, val_recall: 0.9852276162816844\n"
     ]
    },
    {
     "name": "stderr",
     "output_type": "stream",
     "text": [
      "100%|█████████████████████████████████████████| 655/655 [00:17<00:00, 36.86it/s]\n"
     ]
    },
    {
     "name": "stdout",
     "output_type": "stream",
     "text": [
      "Epoch: 103, loss: 35.144256283126715, f1: 0.03538925899834932, precision: 0.018017152505606867, recall: 0.9884778197485072\n",
      "val_loss: 35.14434996438683, val_f1: 0.039994402774875, val_precision: 0.020411494241412215, val_recall: 0.9852276162816844\n"
     ]
    },
    {
     "name": "stderr",
     "output_type": "stream",
     "text": [
      "100%|█████████████████████████████████████████| 655/655 [00:17<00:00, 36.46it/s]\n"
     ]
    },
    {
     "name": "stdout",
     "output_type": "stream",
     "text": [
      "Epoch: 104, loss: 35.14425542700382, f1: 0.03538925899834932, precision: 0.018017152505606867, recall: 0.9884778197485072\n",
      "val_loss: 35.14434877448126, val_f1: 0.039994402774875, val_precision: 0.020411494241412215, val_recall: 0.9852276162816844\n"
     ]
    },
    {
     "name": "stderr",
     "output_type": "stream",
     "text": [
      "100%|█████████████████████████████████████████| 655/655 [00:17<00:00, 36.45it/s]\n"
     ]
    },
    {
     "name": "stdout",
     "output_type": "stream",
     "text": [
      "Epoch: 105, loss: 35.14425466406436, f1: 0.03538925899834932, precision: 0.018017152505606867, recall: 0.9884778197485072\n",
      "val_loss: 35.144347462085406, val_f1: 0.039994402774875, val_precision: 0.020411494241412215, val_recall: 0.9852276162816844\n"
     ]
    },
    {
     "name": "stderr",
     "output_type": "stream",
     "text": [
      "100%|█████████████████████████████████████████| 655/655 [00:17<00:00, 36.44it/s]\n"
     ]
    },
    {
     "name": "stdout",
     "output_type": "stream",
     "text": [
      "Epoch: 106, loss: 35.14425387782905, f1: 0.03538925899834932, precision: 0.018017152505606867, recall: 0.9884778197485072\n",
      "val_loss: 35.144346202185396, val_f1: 0.039994402774875, val_precision: 0.020411494241412215, val_recall: 0.9852276162816844\n"
     ]
    },
    {
     "name": "stderr",
     "output_type": "stream",
     "text": [
      "100%|█████████████████████████████████████████| 655/655 [00:17<00:00, 36.44it/s]\n"
     ]
    },
    {
     "name": "stdout",
     "output_type": "stream",
     "text": [
      "Epoch: 107, loss: 35.14425310324167, f1: 0.03538925899834932, precision: 0.018017152505606867, recall: 0.9884778197485072\n",
      "val_loss: 35.14434494228538, val_f1: 0.039994402774875, val_precision: 0.020411494241412215, val_recall: 0.9852276162816844\n"
     ]
    },
    {
     "name": "stderr",
     "output_type": "stream",
     "text": [
      "100%|█████████████████████████████████████████| 655/655 [00:17<00:00, 36.56it/s]\n"
     ]
    },
    {
     "name": "stdout",
     "output_type": "stream",
     "text": [
      "Epoch: 108, loss: 35.14425246842945, f1: 0.03538925899834932, precision: 0.018017152505606867, recall: 0.9884778197485072\n",
      "val_loss: 35.14434352489786, val_f1: 0.039994402774875, val_precision: 0.020411494241412215, val_recall: 0.9852276162816844\n"
     ]
    },
    {
     "name": "stderr",
     "output_type": "stream",
     "text": [
      "100%|█████████████████████████████████████████| 655/655 [00:17<00:00, 36.55it/s]\n"
     ]
    },
    {
     "name": "stdout",
     "output_type": "stream",
     "text": [
      "Epoch: 109, loss: 35.144251728785854, f1: 0.03538925899834932, precision: 0.018017152505606867, recall: 0.9884778197485072\n",
      "val_loss: 35.14434198502007, val_f1: 0.039994402774875, val_precision: 0.020411494241412215, val_recall: 0.9852276162816844\n"
     ]
    },
    {
     "name": "stderr",
     "output_type": "stream",
     "text": [
      "100%|█████████████████████████████████████████| 655/655 [00:17<00:00, 36.67it/s]\n"
     ]
    },
    {
     "name": "stdout",
     "output_type": "stream",
     "text": [
      "Epoch: 110, loss: 35.1442509833183, f1: 0.03538925899834932, precision: 0.018017152505606867, recall: 0.9884778197485072\n",
      "val_loss: 35.144340865108944, val_f1: 0.039994402774875, val_precision: 0.020411494241412215, val_recall: 0.9852276162816844\n"
     ]
    },
    {
     "name": "stderr",
     "output_type": "stream",
     "text": [
      "100%|█████████████████████████████████████████| 655/655 [00:17<00:00, 36.47it/s]\n"
     ]
    },
    {
     "name": "stdout",
     "output_type": "stream",
     "text": [
      "Epoch: 111, loss: 35.144250185435055, f1: 0.03538925899834932, precision: 0.018017152505606867, recall: 0.9884778197485072\n",
      "val_loss: 35.14433915024504, val_f1: 0.039994402774875, val_precision: 0.020411494241412215, val_recall: 0.9852276162816844\n"
     ]
    },
    {
     "name": "stderr",
     "output_type": "stream",
     "text": [
      "100%|█████████████████████████████████████████| 655/655 [00:17<00:00, 36.54it/s]\n"
     ]
    },
    {
     "name": "stdout",
     "output_type": "stream",
     "text": [
      "Epoch: 112, loss: 35.1442491371213, f1: 0.03538925899834932, precision: 0.018017152505606867, recall: 0.9884778197485072\n",
      "val_loss: 35.14433736538668, val_f1: 0.039994402774875, val_precision: 0.020411494241412215, val_recall: 0.9852276162816844\n"
     ]
    },
    {
     "name": "stderr",
     "output_type": "stream",
     "text": [
      "100%|█████████████████████████████████████████| 655/655 [00:17<00:00, 36.51it/s]\n"
     ]
    },
    {
     "name": "stdout",
     "output_type": "stream",
     "text": [
      "Epoch: 113, loss: 35.14424801891997, f1: 0.03538925899834932, precision: 0.018017152505606867, recall: 0.9884778197485072\n",
      "val_loss: 35.14433601799361, val_f1: 0.039994402774875, val_precision: 0.020411494241412215, val_recall: 0.9852276162816844\n"
     ]
    },
    {
     "name": "stderr",
     "output_type": "stream",
     "text": [
      "100%|█████████████████████████████████████████| 655/655 [00:17<00:00, 36.47it/s]\n"
     ]
    },
    {
     "name": "stdout",
     "output_type": "stream",
     "text": [
      "Epoch: 114, loss: 35.14424694148639, f1: 0.03538925899834932, precision: 0.018017152505606867, recall: 0.9884778197485072\n",
      "val_loss: 35.14433460060609, val_f1: 0.039994402774875, val_precision: 0.020411494241412215, val_recall: 0.9852276162816844\n"
     ]
    },
    {
     "name": "stderr",
     "output_type": "stream",
     "text": [
      "100%|█████████████████████████████████████████| 655/655 [00:17<00:00, 36.48it/s]\n"
     ]
    },
    {
     "name": "stdout",
     "output_type": "stream",
     "text": [
      "Epoch: 115, loss: 35.144245928116426, f1: 0.03538925899834932, precision: 0.018017152505606867, recall: 0.9884778197485072\n",
      "val_loss: 35.1443330607283, val_f1: 0.039994402774875, val_precision: 0.020411494241412215, val_recall: 0.9852276162816844\n"
     ]
    },
    {
     "name": "stderr",
     "output_type": "stream",
     "text": [
      "100%|█████████████████████████████████████████| 655/655 [00:17<00:00, 37.15it/s]\n"
     ]
    },
    {
     "name": "stdout",
     "output_type": "stream",
     "text": [
      "Epoch: 116, loss: 35.14424496133819, f1: 0.03538925899834932, precision: 0.018017152505606867, recall: 0.9884778197485072\n",
      "val_loss: 35.14433183582551, val_f1: 0.039994402774875, val_precision: 0.020411494241412215, val_recall: 0.9852276162816844\n"
     ]
    },
    {
     "name": "stderr",
     "output_type": "stream",
     "text": [
      "100%|█████████████████████████████████████████| 655/655 [00:17<00:00, 36.58it/s]\n"
     ]
    },
    {
     "name": "stdout",
     "output_type": "stream",
     "text": [
      "Epoch: 117, loss: 35.144243965440126, f1: 0.03538925899834932, precision: 0.018017152505606867, recall: 0.9884778197485072\n",
      "val_loss: 35.1443301209616, val_f1: 0.039994402774875, val_precision: 0.020411494241412215, val_recall: 0.9852276162816844\n"
     ]
    },
    {
     "name": "stderr",
     "output_type": "stream",
     "text": [
      "100%|█████████████████████████████████████████| 655/655 [00:17<00:00, 36.47it/s]\n"
     ]
    },
    {
     "name": "stdout",
     "output_type": "stream",
     "text": [
      "Epoch: 118, loss: 35.14424300448585, f1: 0.03538925899834932, precision: 0.018017152505606867, recall: 0.9884778197485072\n",
      "val_loss: 35.14432893105603, val_f1: 0.039994402774875, val_precision: 0.020411494241412215, val_recall: 0.9852276162816844\n"
     ]
    },
    {
     "name": "stderr",
     "output_type": "stream",
     "text": [
      "100%|█████████████████████████████████████████| 655/655 [00:17<00:00, 36.49it/s]\n"
     ]
    },
    {
     "name": "stdout",
     "output_type": "stream",
     "text": [
      "Epoch: 119, loss: 35.14424215418692, f1: 0.03538925899834932, precision: 0.018017152505606867, recall: 0.9884778197485072\n",
      "val_loss: 35.14432763615879, val_f1: 0.039994402774875, val_precision: 0.020411494241412215, val_recall: 0.9852276162816844\n"
     ]
    },
    {
     "name": "stderr",
     "output_type": "stream",
     "text": [
      "100%|█████████████████████████████████████████| 655/655 [00:17<00:00, 36.45it/s]\n"
     ]
    },
    {
     "name": "stdout",
     "output_type": "stream",
     "text": [
      "Epoch: 120, loss: 35.144241257296265, f1: 0.03538925899834932, precision: 0.018017152505606867, recall: 0.9884778197485072\n",
      "val_loss: 35.144326218771276, val_f1: 0.039994402774875, val_precision: 0.020411494241412215, val_recall: 0.9852276162816844\n"
     ]
    },
    {
     "name": "stderr",
     "output_type": "stream",
     "text": [
      "100%|█████████████████████████████████████████| 655/655 [00:17<00:00, 36.40it/s]\n"
     ]
    },
    {
     "name": "stdout",
     "output_type": "stream",
     "text": [
      "Epoch: 121, loss: 35.144240366229575, f1: 0.03538925899834932, precision: 0.018017152505606867, recall: 0.9884778197485072\n",
      "val_loss: 35.14432488887682, val_f1: 0.039994402774875, val_precision: 0.020411494241412215, val_recall: 0.9852276162816844\n"
     ]
    },
    {
     "name": "stderr",
     "output_type": "stream",
     "text": [
      "100%|█████████████████████████████████████████| 655/655 [00:17<00:00, 37.10it/s]\n"
     ]
    },
    {
     "name": "stdout",
     "output_type": "stream",
     "text": [
      "Epoch: 122, loss: 35.14423950428271, f1: 0.03538925899834932, precision: 0.018017152505606867, recall: 0.9884778197485072\n",
      "val_loss: 35.14432354148375, val_f1: 0.039994402774875, val_precision: 0.020411494241412215, val_recall: 0.9852276162816844\n"
     ]
    },
    {
     "name": "stderr",
     "output_type": "stream",
     "text": [
      "100%|█████████████████████████████████████████| 655/655 [00:17<00:00, 36.44it/s]\n"
     ]
    },
    {
     "name": "stdout",
     "output_type": "stream",
     "text": [
      "Epoch: 123, loss: 35.14423864815981, f1: 0.03538925899834932, precision: 0.018017152505606867, recall: 0.9884778197485072\n",
      "val_loss: 35.14432228158373, val_f1: 0.039994402774875, val_precision: 0.020411494241412215, val_recall: 0.9852276162816844\n"
     ]
    },
    {
     "name": "stderr",
     "output_type": "stream",
     "text": [
      "100%|█████████████████████████████████████████| 655/655 [00:17<00:00, 36.47it/s]\n"
     ]
    },
    {
     "name": "stdout",
     "output_type": "stream",
     "text": [
      "Epoch: 124, loss: 35.14423787357243, f1: 0.03538925899834932, precision: 0.018017152505606867, recall: 0.9884778197485072\n",
      "val_loss: 35.14432110917677, val_f1: 0.039994402774875, val_precision: 0.020411494241412215, val_recall: 0.9852276162816844\n"
     ]
    },
    {
     "name": "stderr",
     "output_type": "stream",
     "text": [
      "100%|█████████████████████████████████████████| 655/655 [00:17<00:00, 36.50it/s]\n"
     ]
    },
    {
     "name": "stdout",
     "output_type": "stream",
     "text": [
      "Epoch: 125, loss: 35.1442368718504, f1: 0.03538925899834932, precision: 0.018017152505606867, recall: 0.9884778197485072\n",
      "val_loss: 35.14432007675871, val_f1: 0.039994402774875, val_precision: 0.020411494241412215, val_recall: 0.9852276162816844\n"
     ]
    },
    {
     "name": "stderr",
     "output_type": "stream",
     "text": [
      "100%|█████████████████████████████████████████| 655/655 [00:17<00:00, 36.59it/s]\n"
     ]
    },
    {
     "name": "stdout",
     "output_type": "stream",
     "text": [
      "Epoch: 126, loss: 35.14423610308698, f1: 0.03538925899834932, precision: 0.018017152505606867, recall: 0.9884778197485072\n",
      "val_loss: 35.14431876436286, val_f1: 0.039994402774875, val_precision: 0.020411494241412215, val_recall: 0.9852276162816844\n"
     ]
    },
    {
     "name": "stderr",
     "output_type": "stream",
     "text": [
      "100%|█████████████████████████████████████████| 655/655 [00:17<00:00, 36.44it/s]\n"
     ]
    },
    {
     "name": "stdout",
     "output_type": "stream",
     "text": [
      "Epoch: 127, loss: 35.14423537509132, f1: 0.03538925899834932, precision: 0.018017152505606867, recall: 0.9884778197485072\n",
      "val_loss: 35.14431769694757, val_f1: 0.039994402774875, val_precision: 0.020411494241412215, val_recall: 0.9852276162816844\n"
     ]
    },
    {
     "name": "stderr",
     "output_type": "stream",
     "text": [
      "100%|█████████████████████████████████████████| 655/655 [00:17<00:00, 36.89it/s]\n"
     ]
    },
    {
     "name": "stdout",
     "output_type": "stream",
     "text": [
      "Epoch: 128, loss: 35.14423457138411, f1: 0.03538925899834932, precision: 0.018017152505606867, recall: 0.9884778197485072\n",
      "val_loss: 35.14431687451284, val_f1: 0.039994402774875, val_precision: 0.020411494241412215, val_recall: 0.9852276162816844\n"
     ]
    },
    {
     "name": "stderr",
     "output_type": "stream",
     "text": [
      "100%|█████████████████████████████████████████| 655/655 [00:17<00:00, 36.48it/s]\n"
     ]
    },
    {
     "name": "stdout",
     "output_type": "stream",
     "text": [
      "Epoch: 129, loss: 35.144233837564485, f1: 0.03538925899834932, precision: 0.018017152505606867, recall: 0.9884778197485072\n",
      "val_loss: 35.14431564961005, val_f1: 0.039994402774875, val_precision: 0.020411494241412215, val_recall: 0.9852276162816844\n"
     ]
    },
    {
     "name": "stderr",
     "output_type": "stream",
     "text": [
      "100%|█████████████████████████████████████████| 655/655 [00:17<00:00, 36.50it/s]\n"
     ]
    },
    {
     "name": "stdout",
     "output_type": "stream",
     "text": [
      "Epoch: 130, loss: 35.1442330629771, f1: 0.03538925899834932, precision: 0.018017152505606867, recall: 0.9884778197485072\n",
      "val_loss: 35.144314669687816, val_f1: 0.039994402774875, val_precision: 0.020411494241412215, val_recall: 0.9852276162816844\n"
     ]
    },
    {
     "name": "stderr",
     "output_type": "stream",
     "text": [
      "100%|█████████████████████████████████████████| 655/655 [00:17<00:00, 36.50it/s]\n"
     ]
    },
    {
     "name": "stdout",
     "output_type": "stream",
     "text": [
      "Epoch: 131, loss: 35.14423239322109, f1: 0.03538925899834932, precision: 0.018017152505606867, recall: 0.9884778197485072\n",
      "val_loss: 35.14431351477947, val_f1: 0.039994402774875, val_precision: 0.020411494241412215, val_recall: 0.9852276162816844\n"
     ]
    },
    {
     "name": "stderr",
     "output_type": "stream",
     "text": [
      "100%|█████████████████████████████████████████| 655/655 [00:17<00:00, 36.48it/s]\n"
     ]
    },
    {
     "name": "stdout",
     "output_type": "stream",
     "text": [
      "Epoch: 132, loss: 35.14423157786595, f1: 0.03538925899834932, precision: 0.018017152505606867, recall: 0.9884778197485072\n",
      "val_loss: 35.144312499860014, val_f1: 0.039994402774875, val_precision: 0.020411494241412215, val_recall: 0.9852276162816844\n"
     ]
    },
    {
     "name": "stderr",
     "output_type": "stream",
     "text": [
      "100%|█████████████████████████████████████████| 655/655 [00:18<00:00, 36.38it/s]\n"
     ]
    },
    {
     "name": "stdout",
     "output_type": "stream",
     "text": [
      "Epoch: 133, loss: 35.144230814926495, f1: 0.03538925899834932, precision: 0.018017152505606867, recall: 0.9884778197485072\n",
      "val_loss: 35.14431162492944, val_f1: 0.039994402774875, val_precision: 0.020411494241412215, val_recall: 0.9852276162816844\n"
     ]
    },
    {
     "name": "stderr",
     "output_type": "stream",
     "text": [
      "100%|█████████████████████████████████████████| 655/655 [00:17<00:00, 36.66it/s]\n"
     ]
    },
    {
     "name": "stdout",
     "output_type": "stream",
     "text": [
      "Epoch: 134, loss: 35.14423014517049, f1: 0.03538925899834932, precision: 0.018017152505606867, recall: 0.9884778197485072\n",
      "val_loss: 35.144310732500266, val_f1: 0.039994402774875, val_precision: 0.020411494241412215, val_recall: 0.9852276162816844\n"
     ]
    },
    {
     "name": "stderr",
     "output_type": "stream",
     "text": [
      "100%|█████████████████████████████████████████| 655/655 [00:17<00:00, 36.67it/s]\n"
     ]
    },
    {
     "name": "stdout",
     "output_type": "stream",
     "text": [
      "Epoch: 135, loss: 35.144229492886375, f1: 0.03538925899834932, precision: 0.018017152505606867, recall: 0.9884778197485072\n",
      "val_loss: 35.14430982257248, val_f1: 0.039994402774875, val_precision: 0.020411494241412215, val_recall: 0.9852276162816844\n"
     ]
    },
    {
     "name": "stderr",
     "output_type": "stream",
     "text": [
      "100%|█████████████████████████████████████████| 655/655 [00:17<00:00, 36.46it/s]\n"
     ]
    },
    {
     "name": "stdout",
     "output_type": "stream",
     "text": [
      "Epoch: 136, loss: 35.144228834778296, f1: 0.03538925899834932, precision: 0.018017152505606867, recall: 0.9884778197485072\n",
      "val_loss: 35.1443089301433, val_f1: 0.039994402774875, val_precision: 0.020411494241412215, val_recall: 0.9852276162816844\n"
     ]
    },
    {
     "name": "stderr",
     "output_type": "stream",
     "text": [
      "100%|█████████████████████████████████████████| 655/655 [00:17<00:00, 36.65it/s]\n"
     ]
    },
    {
     "name": "stdout",
     "output_type": "stream",
     "text": [
      "Epoch: 137, loss: 35.14422814755039, f1: 0.03538925899834932, precision: 0.018017152505606867, recall: 0.9884778197485072\n",
      "val_loss: 35.14430788022663, val_f1: 0.039994402774875, val_precision: 0.020411494241412215, val_recall: 0.9852276162816844\n"
     ]
    },
    {
     "name": "stderr",
     "output_type": "stream",
     "text": [
      "100%|█████████████████████████████████████████| 655/655 [00:17<00:00, 36.42it/s]\n"
     ]
    },
    {
     "name": "stdout",
     "output_type": "stream",
     "text": [
      "Epoch: 138, loss: 35.14422760009766, f1: 0.03538925899834932, precision: 0.018017152505606867, recall: 0.9884778197485072\n",
      "val_loss: 35.144306935301614, val_f1: 0.039994402774875, val_precision: 0.020411494241412215, val_recall: 0.9852276162816844\n"
     ]
    },
    {
     "name": "stderr",
     "output_type": "stream",
     "text": [
      "100%|█████████████████████████████████████████| 655/655 [00:17<00:00, 36.46it/s]\n"
     ]
    },
    {
     "name": "stdout",
     "output_type": "stream",
     "text": [
      "Epoch: 139, loss: 35.14422692451768, f1: 0.03538925899834932, precision: 0.018017152505606867, recall: 0.9884778197485072\n",
      "val_loss: 35.14430620035994, val_f1: 0.039994402774875, val_precision: 0.020411494241412215, val_recall: 0.9852276162816844\n"
     ]
    },
    {
     "name": "stderr",
     "output_type": "stream",
     "text": [
      "100%|█████████████████████████████████████████| 655/655 [00:17<00:00, 36.42it/s]\n"
     ]
    },
    {
     "name": "stdout",
     "output_type": "stream",
     "text": [
      "Epoch: 140, loss: 35.14422631882529, f1: 0.03538925899834932, precision: 0.018017152505606867, recall: 0.9884778197485072\n",
      "val_loss: 35.14430539542382, val_f1: 0.039994402774875, val_precision: 0.020411494241412215, val_recall: 0.9852276162816844\n"
     ]
    },
    {
     "name": "stderr",
     "output_type": "stream",
     "text": [
      "100%|█████████████████████████████████████████| 655/655 [00:17<00:00, 37.04it/s]\n"
     ]
    },
    {
     "name": "stdout",
     "output_type": "stream",
     "text": [
      "Epoch: 141, loss: 35.144225649069284, f1: 0.03538925899834932, precision: 0.018017152505606867, recall: 0.9884778197485072\n",
      "val_loss: 35.1443045904877, val_f1: 0.039994402774875, val_precision: 0.020411494241412215, val_recall: 0.9852276162816844\n"
     ]
    },
    {
     "name": "stderr",
     "output_type": "stream",
     "text": [
      "100%|█████████████████████████████████████████| 655/655 [00:17<00:00, 36.43it/s]\n"
     ]
    },
    {
     "name": "stdout",
     "output_type": "stream",
     "text": [
      "Epoch: 142, loss: 35.14422506084879, f1: 0.03538925899834932, precision: 0.018017152505606867, recall: 0.9884778197485072\n",
      "val_loss: 35.14430355806963, val_f1: 0.039994402774875, val_precision: 0.020411494241412215, val_recall: 0.9852276162816844\n"
     ]
    },
    {
     "name": "stderr",
     "output_type": "stream",
     "text": [
      "100%|█████████████████████████████████████████| 655/655 [00:17<00:00, 36.53it/s]\n"
     ]
    },
    {
     "name": "stdout",
     "output_type": "stream",
     "text": [
      "Epoch: 143, loss: 35.144224414388646, f1: 0.03538925899834932, precision: 0.018017152505606867, recall: 0.9884778197485072\n",
      "val_loss: 35.14430277063212, val_f1: 0.039994402774875, val_precision: 0.020411494241412215, val_recall: 0.9852276162816844\n"
     ]
    },
    {
     "name": "stderr",
     "output_type": "stream",
     "text": [
      "100%|█████████████████████████████████████████| 655/655 [00:17<00:00, 36.63it/s]\n"
     ]
    },
    {
     "name": "stdout",
     "output_type": "stream",
     "text": [
      "Epoch: 144, loss: 35.144223855287976, f1: 0.03538925899834932, precision: 0.018017152505606867, recall: 0.9884778197485072\n",
      "val_loss: 35.144301843205724, val_f1: 0.039994402774875, val_precision: 0.020411494241412215, val_recall: 0.9852276162816844\n"
     ]
    },
    {
     "name": "stderr",
     "output_type": "stream",
     "text": [
      "100%|█████████████████████████████████████████| 655/655 [00:17<00:00, 36.60it/s]\n"
     ]
    },
    {
     "name": "stdout",
     "output_type": "stream",
     "text": [
      "Epoch: 145, loss: 35.14422325541955, f1: 0.03538925899834932, precision: 0.018017152505606867, recall: 0.9884778197485072\n",
      "val_loss: 35.14430114326127, val_f1: 0.039994402774875, val_precision: 0.020411494241412215, val_recall: 0.9852276162816844\n"
     ]
    },
    {
     "name": "stderr",
     "output_type": "stream",
     "text": [
      "100%|█████████████████████████████████████████| 655/655 [00:17<00:00, 36.58it/s]\n"
     ]
    },
    {
     "name": "stdout",
     "output_type": "stream",
     "text": [
      "Epoch: 146, loss: 35.144222719614746, f1: 0.03538925899834932, precision: 0.018017152505606867, recall: 0.9884778197485072\n",
      "val_loss: 35.144300443316816, val_f1: 0.039994402774875, val_precision: 0.020411494241412215, val_recall: 0.9852276162816844\n"
     ]
    },
    {
     "name": "stderr",
     "output_type": "stream",
     "text": [
      "100%|█████████████████████████████████████████| 655/655 [00:17<00:00, 37.21it/s]\n"
     ]
    },
    {
     "name": "stdout",
     "output_type": "stream",
     "text": [
      "Epoch: 147, loss: 35.144222201281835, f1: 0.03538925899834932, precision: 0.018017152505606867, recall: 0.9884778197485072\n",
      "val_loss: 35.14429956838625, val_f1: 0.039994402774875, val_precision: 0.020411494241412215, val_recall: 0.9852276162816844\n"
     ]
    },
    {
     "name": "stderr",
     "output_type": "stream",
     "text": [
      "100%|█████████████████████████████████████████| 655/655 [00:17<00:00, 36.61it/s]\n"
     ]
    },
    {
     "name": "stdout",
     "output_type": "stream",
     "text": [
      "Epoch: 148, loss: 35.14422169459685, f1: 0.03538925899834932, precision: 0.018017152505606867, recall: 0.9884778197485072\n",
      "val_loss: 35.1442990259293, val_f1: 0.039994402774875, val_precision: 0.020411494241412215, val_recall: 0.9852276162816844\n"
     ]
    },
    {
     "name": "stderr",
     "output_type": "stream",
     "text": [
      "100%|█████████████████████████████████████████| 655/655 [00:17<00:00, 36.52it/s]\n"
     ]
    },
    {
     "name": "stdout",
     "output_type": "stream",
     "text": [
      "Epoch: 149, loss: 35.14422115879204, f1: 0.03538925899834932, precision: 0.018017152505606867, recall: 0.9884778197485072\n",
      "val_loss: 35.14429792351679, val_f1: 0.039994402774875, val_precision: 0.020411494241412215, val_recall: 0.9852276162816844\n"
     ]
    },
    {
     "name": "stderr",
     "output_type": "stream",
     "text": [
      "100%|█████████████████████████████████████████| 655/655 [00:17<00:00, 36.45it/s]\n"
     ]
    },
    {
     "name": "stdout",
     "output_type": "stream",
     "text": [
      "Epoch: 150, loss: 35.14422057057155, f1: 0.03538925899834932, precision: 0.018017152505606867, recall: 0.9884778197485072\n",
      "val_loss: 35.14429713607928, val_f1: 0.039994402774875, val_precision: 0.020411494241412215, val_recall: 0.9852276162816844\n"
     ]
    },
    {
     "name": "stderr",
     "output_type": "stream",
     "text": [
      "100%|█████████████████████████████████████████| 655/655 [00:17<00:00, 36.56it/s]\n"
     ]
    },
    {
     "name": "stdout",
     "output_type": "stream",
     "text": [
      "Epoch: 151, loss: 35.1442200755345, f1: 0.03538925899834932, precision: 0.018017152505606867, recall: 0.9884778197485072\n",
      "val_loss: 35.14429636614038, val_f1: 0.039994402774875, val_precision: 0.020411494241412215, val_recall: 0.9852276162816844\n"
     ]
    },
    {
     "name": "stderr",
     "output_type": "stream",
     "text": [
      "100%|█████████████████████████████████████████| 655/655 [00:17<00:00, 36.47it/s]\n"
     ]
    },
    {
     "name": "stdout",
     "output_type": "stream",
     "text": [
      "Epoch: 152, loss: 35.14421959214538, f1: 0.03538925899834932, precision: 0.018017152505606867, recall: 0.9884778197485072\n",
      "val_loss: 35.14429580618482, val_f1: 0.039994402774875, val_precision: 0.020411494241412215, val_recall: 0.9852276162816844\n"
     ]
    },
    {
     "name": "stderr",
     "output_type": "stream",
     "text": [
      "100%|█████████████████████████████████████████| 655/655 [00:17<00:00, 37.00it/s]\n"
     ]
    },
    {
     "name": "stdout",
     "output_type": "stream",
     "text": [
      "Epoch: 153, loss: 35.14421890491748, f1: 0.03538925899834932, precision: 0.018017152505606867, recall: 0.9884778197485072\n",
      "val_loss: 35.14429508874176, val_f1: 0.039994402774875, val_precision: 0.020411494241412215, val_recall: 0.9852276162816844\n"
     ]
    },
    {
     "name": "stderr",
     "output_type": "stream",
     "text": [
      "100%|█████████████████████████████████████████| 655/655 [00:17<00:00, 36.50it/s]\n"
     ]
    },
    {
     "name": "stdout",
     "output_type": "stream",
     "text": [
      "Epoch: 154, loss: 35.14421840988043, f1: 0.03538925899834932, precision: 0.018017152505606867, recall: 0.9884778197485072\n",
      "val_loss: 35.14429451128758, val_f1: 0.039994402774875, val_precision: 0.020411494241412215, val_recall: 0.9852276162816844\n"
     ]
    },
    {
     "name": "stderr",
     "output_type": "stream",
     "text": [
      "100%|█████████████████████████████████████████| 655/655 [00:17<00:00, 36.65it/s]\n"
     ]
    },
    {
     "name": "stdout",
     "output_type": "stream",
     "text": [
      "Epoch: 155, loss: 35.14421797308303, f1: 0.03538925899834932, precision: 0.018017152505606867, recall: 0.9884778197485072\n",
      "val_loss: 35.1442936013598, val_f1: 0.039994402774875, val_precision: 0.020411494241412215, val_recall: 0.9852276162816844\n"
     ]
    },
    {
     "name": "stderr",
     "output_type": "stream",
     "text": [
      "100%|█████████████████████████████████████████| 655/655 [00:17<00:00, 36.47it/s]\n"
     ]
    },
    {
     "name": "stdout",
     "output_type": "stream",
     "text": [
      "Epoch: 156, loss: 35.14421741398236, f1: 0.03538925899834932, precision: 0.018017152505606867, recall: 0.9884778197485072\n",
      "val_loss: 35.14429284891951, val_f1: 0.039994402774875, val_precision: 0.020411494241412215, val_recall: 0.9852276162816844\n"
     ]
    },
    {
     "name": "stderr",
     "output_type": "stream",
     "text": [
      "100%|█████████████████████████████████████████| 655/655 [00:18<00:00, 36.36it/s]\n"
     ]
    },
    {
     "name": "stdout",
     "output_type": "stream",
     "text": [
      "Epoch: 157, loss: 35.14421687235359, f1: 0.03538925899834932, precision: 0.018017152505606867, recall: 0.9884778197485072\n",
      "val_loss: 35.144292253966725, val_f1: 0.039994402774875, val_precision: 0.020411494241412215, val_recall: 0.9852276162816844\n"
     ]
    },
    {
     "name": "stderr",
     "output_type": "stream",
     "text": [
      "100%|█████████████████████████████████████████| 655/655 [00:18<00:00, 36.38it/s]\n"
     ]
    },
    {
     "name": "stdout",
     "output_type": "stream",
     "text": [
      "Epoch: 158, loss: 35.14421647632395, f1: 0.03538925899834932, precision: 0.018017152505606867, recall: 0.9884778197485072\n",
      "val_loss: 35.14429151902505, val_f1: 0.039994402774875, val_precision: 0.020411494241412215, val_recall: 0.9852276162816844\n"
     ]
    },
    {
     "name": "stderr",
     "output_type": "stream",
     "text": [
      "100%|█████████████████████████████████████████| 655/655 [00:17<00:00, 36.61it/s]\n"
     ]
    },
    {
     "name": "stdout",
     "output_type": "stream",
     "text": [
      "Epoch: 159, loss: 35.14421599293483, f1: 0.03538925899834932, precision: 0.018017152505606867, recall: 0.9884778197485072\n",
      "val_loss: 35.1442909765681, val_f1: 0.039994402774875, val_precision: 0.020411494241412215, val_recall: 0.9852276162816844\n"
     ]
    },
    {
     "name": "stderr",
     "output_type": "stream",
     "text": [
      "100%|█████████████████████████████████████████| 655/655 [00:17<00:00, 36.58it/s]\n"
     ]
    },
    {
     "name": "stdout",
     "output_type": "stream",
     "text": [
      "Epoch: 160, loss: 35.144215544489505, f1: 0.03538925899834932, precision: 0.018017152505606867, recall: 0.9884778197485072\n",
      "val_loss: 35.14429024162642, val_f1: 0.039994402774875, val_precision: 0.020411494241412215, val_recall: 0.9852276162816844\n"
     ]
    },
    {
     "name": "stderr",
     "output_type": "stream",
     "text": [
      "100%|█████████████████████████████████████████| 655/655 [00:17<00:00, 36.51it/s]\n"
     ]
    },
    {
     "name": "stdout",
     "output_type": "stream",
     "text": [
      "Epoch: 161, loss: 35.14421511934004, f1: 0.03538925899834932, precision: 0.018017152505606867, recall: 0.9884778197485072\n",
      "val_loss: 35.14428976916392, val_f1: 0.039994402774875, val_precision: 0.020411494241412215, val_recall: 0.9852276162816844\n"
     ]
    },
    {
     "name": "stderr",
     "output_type": "stream",
     "text": [
      "100%|█████████████████████████████████████████| 655/655 [00:17<00:00, 36.47it/s]\n"
     ]
    },
    {
     "name": "stdout",
     "output_type": "stream",
     "text": [
      "Epoch: 162, loss: 35.14421466507074, f1: 0.03538925899834932, precision: 0.018017152505606867, recall: 0.9884778197485072\n",
      "val_loss: 35.14428899922502, val_f1: 0.039994402774875, val_precision: 0.020411494241412215, val_recall: 0.9852276162816844\n"
     ]
    },
    {
     "name": "stderr",
     "output_type": "stream",
     "text": [
      "100%|█████████████████████████████████████████| 655/655 [00:17<00:00, 36.51it/s]\n"
     ]
    },
    {
     "name": "stdout",
     "output_type": "stream",
     "text": [
      "Epoch: 163, loss: 35.14421429816093, f1: 0.03538925899834932, precision: 0.018017152505606867, recall: 0.9884778197485072\n",
      "val_loss: 35.14428836927502, val_f1: 0.039994402774875, val_precision: 0.020411494241412215, val_recall: 0.9852276162816844\n"
     ]
    },
    {
     "name": "stderr",
     "output_type": "stream",
     "text": [
      "100%|█████████████████████████████████████████| 655/655 [00:17<00:00, 36.55it/s]\n"
     ]
    },
    {
     "name": "stdout",
     "output_type": "stream",
     "text": [
      "Epoch: 164, loss: 35.14421386136353, f1: 0.03538925899834932, precision: 0.018017152505606867, recall: 0.9884778197485072\n",
      "val_loss: 35.144287861815286, val_f1: 0.039994402774875, val_precision: 0.020411494241412215, val_recall: 0.9852276162816844\n"
     ]
    },
    {
     "name": "stderr",
     "output_type": "stream",
     "text": [
      "100%|█████████████████████████████████████████| 655/655 [00:17<00:00, 36.44it/s]\n"
     ]
    },
    {
     "name": "stdout",
     "output_type": "stream",
     "text": [
      "Epoch: 165, loss: 35.144213453685964, f1: 0.03538925899834932, precision: 0.018017152505606867, recall: 0.9884778197485072\n",
      "val_loss: 35.144287161870835, val_f1: 0.039994402774875, val_precision: 0.020411494241412215, val_recall: 0.9852276162816844\n"
     ]
    },
    {
     "name": "stderr",
     "output_type": "stream",
     "text": [
      "100%|█████████████████████████████████████████| 655/655 [00:17<00:00, 36.86it/s]\n"
     ]
    },
    {
     "name": "stdout",
     "output_type": "stream",
     "text": [
      "Epoch: 166, loss: 35.14421305765632, f1: 0.03538925899834932, precision: 0.018017152505606867, recall: 0.9884778197485072\n",
      "val_loss: 35.1442866369125, val_f1: 0.039994402774875, val_precision: 0.020411494241412215, val_recall: 0.9852276162816844\n"
     ]
    },
    {
     "name": "stderr",
     "output_type": "stream",
     "text": [
      "100%|█████████████████████████████████████████| 655/655 [00:17<00:00, 36.57it/s]\n"
     ]
    },
    {
     "name": "stdout",
     "output_type": "stream",
     "text": [
      "Epoch: 167, loss: 35.14421267909858, f1: 0.03538925899834932, precision: 0.018017152505606867, recall: 0.9884778197485072\n",
      "val_loss: 35.1442861819486, val_f1: 0.039994402774875, val_precision: 0.020411494241412215, val_recall: 0.9852276162816844\n"
     ]
    },
    {
     "name": "stderr",
     "output_type": "stream",
     "text": [
      "100%|█████████████████████████████████████████| 655/655 [00:17<00:00, 36.53it/s]\n"
     ]
    },
    {
     "name": "stdout",
     "output_type": "stream",
     "text": [
      "Epoch: 168, loss: 35.144212300540836, f1: 0.03538925899834932, precision: 0.018017152505606867, recall: 0.9884778197485072\n",
      "val_loss: 35.14428563949165, val_f1: 0.039994402774875, val_precision: 0.020411494241412215, val_recall: 0.9852276162816844\n"
     ]
    },
    {
     "name": "stderr",
     "output_type": "stream",
     "text": [
      "100%|█████████████████████████████████████████| 655/655 [00:17<00:00, 36.57it/s]\n"
     ]
    },
    {
     "name": "stdout",
     "output_type": "stream",
     "text": [
      "Epoch: 169, loss: 35.14421184044758, f1: 0.03538925899834932, precision: 0.018017152505606867, recall: 0.9884778197485072\n",
      "val_loss: 35.14428486955275, val_f1: 0.039994402774875, val_precision: 0.020411494241412215, val_recall: 0.9852276162816844\n"
     ]
    },
    {
     "name": "stderr",
     "output_type": "stream",
     "text": [
      "100%|█████████████████████████████████████████| 655/655 [00:17<00:00, 36.60it/s]\n"
     ]
    },
    {
     "name": "stdout",
     "output_type": "stream",
     "text": [
      "Epoch: 170, loss: 35.14421149100966, f1: 0.03538925899834932, precision: 0.018017152505606867, recall: 0.9884778197485072\n",
      "val_loss: 35.14428383713469, val_f1: 0.039994402774875, val_precision: 0.020411494241412215, val_recall: 0.9852276162816844\n"
     ]
    },
    {
     "name": "stderr",
     "output_type": "stream",
     "text": [
      "100%|█████████████████████████████████████████| 655/655 [00:17<00:00, 36.53it/s]\n"
     ]
    },
    {
     "name": "stdout",
     "output_type": "stream",
     "text": [
      "Epoch: 171, loss: 35.14421102509244, f1: 0.03538925899834932, precision: 0.018017152505606867, recall: 0.9884778197485072\n",
      "val_loss: 35.14428317218746, val_f1: 0.039994402774875, val_precision: 0.020411494241412215, val_recall: 0.9852276162816844\n"
     ]
    },
    {
     "name": "stderr",
     "output_type": "stream",
     "text": [
      "100%|█████████████████████████████████████████| 655/655 [00:17<00:00, 37.11it/s]\n"
     ]
    },
    {
     "name": "stdout",
     "output_type": "stream",
     "text": [
      "Epoch: 172, loss: 35.14421040775212, f1: 0.03538925899834932, precision: 0.018017152505606867, recall: 0.9884778197485072\n",
      "val_loss: 35.144282332254114, val_f1: 0.039994402774875, val_precision: 0.020411494241412215, val_recall: 0.9852276162816844\n"
     ]
    },
    {
     "name": "stderr",
     "output_type": "stream",
     "text": [
      "100%|█████████████████████████████████████████| 655/655 [00:17<00:00, 36.39it/s]\n"
     ]
    },
    {
     "name": "stdout",
     "output_type": "stream",
     "text": [
      "Epoch: 173, loss: 35.14420974964404, f1: 0.03538925899834932, precision: 0.018017152505606867, recall: 0.9884778197485072\n",
      "val_loss: 35.14428171980272, val_f1: 0.039994402774875, val_precision: 0.020411494241412215, val_recall: 0.9852276162816844\n"
     ]
    },
    {
     "name": "stderr",
     "output_type": "stream",
     "text": [
      "100%|█████████████████████████████████████████| 655/655 [00:17<00:00, 36.56it/s]\n"
     ]
    },
    {
     "name": "stdout",
     "output_type": "stream",
     "text": [
      "Epoch: 174, loss: 35.14420896340872, f1: 0.03538925899834932, precision: 0.018017152505606867, recall: 0.9884778197485072\n",
      "val_loss: 35.14428105485548, val_f1: 0.039994402774875, val_precision: 0.020411494241412215, val_recall: 0.9852276162816844\n"
     ]
    },
    {
     "name": "stderr",
     "output_type": "stream",
     "text": [
      "100%|█████████████████████████████████████████| 655/655 [00:17<00:00, 36.55it/s]\n"
     ]
    },
    {
     "name": "stdout",
     "output_type": "stream",
     "text": [
      "Epoch: 175, loss: 35.144208305300644, f1: 0.03538925899834932, precision: 0.018017152505606867, recall: 0.9884778197485072\n",
      "val_loss: 35.144279969941586, val_f1: 0.039994402774875, val_precision: 0.020411494241412215, val_recall: 0.9852276162816844\n"
     ]
    },
    {
     "name": "stderr",
     "output_type": "stream",
     "text": [
      "100%|█████████████████████████████████████████| 655/655 [00:17<00:00, 36.48it/s]\n"
     ]
    },
    {
     "name": "stdout",
     "output_type": "stream",
     "text": [
      "Epoch: 176, loss: 35.14420730357862, f1: 0.03538925899834932, precision: 0.018017152505606867, recall: 0.9884778197485072\n",
      "val_loss: 35.144279304994356, val_f1: 0.039994402774875, val_precision: 0.020411494241412215, val_recall: 0.9852276162816844\n"
     ]
    },
    {
     "name": "stderr",
     "output_type": "stream",
     "text": [
      "100%|█████████████████████████████████████████| 655/655 [00:17<00:00, 36.53it/s]\n"
     ]
    },
    {
     "name": "stdout",
     "output_type": "stream",
     "text": [
      "Epoch: 177, loss: 35.14420626108883, f1: 0.03538925899834932, precision: 0.018017152505606867, recall: 0.9884778197485072\n",
      "val_loss: 35.14427841256518, val_f1: 0.039994402774875, val_precision: 0.020411494241412215, val_recall: 0.9852276162816844\n"
     ]
    },
    {
     "name": "stderr",
     "output_type": "stream",
     "text": [
      "100%|█████████████████████████████████████████| 655/655 [00:17<00:00, 36.91it/s]\n"
     ]
    },
    {
     "name": "stdout",
     "output_type": "stream",
     "text": [
      "Epoch: 178, loss: 35.1442052768387, f1: 0.03538925899834932, precision: 0.018017152505606867, recall: 0.9884778197485072\n",
      "val_loss: 35.144277677623506, val_f1: 0.039994402774875, val_precision: 0.020411494241412215, val_recall: 0.9852276162816844\n"
     ]
    },
    {
     "name": "stderr",
     "output_type": "stream",
     "text": [
      "100%|█████████████████████████████████████████| 655/655 [00:17<00:00, 36.55it/s]\n"
     ]
    },
    {
     "name": "stdout",
     "output_type": "stream",
     "text": [
      "Epoch: 179, loss: 35.14420431006046, f1: 0.03538925899834932, precision: 0.018017152505606867, recall: 0.9884778197485072\n",
      "val_loss: 35.144276907684606, val_f1: 0.039994402774875, val_precision: 0.020411494241412215, val_recall: 0.9852276162816844\n"
     ]
    },
    {
     "name": "stderr",
     "output_type": "stream",
     "text": [
      "100%|█████████████████████████████████████████| 655/655 [00:17<00:00, 36.58it/s]\n"
     ]
    },
    {
     "name": "stdout",
     "output_type": "stream",
     "text": [
      "Epoch: 180, loss: 35.14420335493015, f1: 0.03538925899834932, precision: 0.018017152505606867, recall: 0.9884778197485072\n",
      "val_loss: 35.14427605025265, val_f1: 0.039994402774875, val_precision: 0.020411494241412215, val_recall: 0.9852276162816844\n"
     ]
    },
    {
     "name": "stderr",
     "output_type": "stream",
     "text": [
      "100%|█████████████████████████████████████████| 655/655 [00:17<00:00, 36.61it/s]\n"
     ]
    },
    {
     "name": "stdout",
     "output_type": "stream",
     "text": [
      "Epoch: 181, loss: 35.144202522103114, f1: 0.03538925899834932, precision: 0.018017152505606867, recall: 0.9884778197485072\n",
      "val_loss: 35.14427515782347, val_f1: 0.039994402774875, val_precision: 0.020411494241412215, val_recall: 0.9852276162816844\n"
     ]
    },
    {
     "name": "stderr",
     "output_type": "stream",
     "text": [
      "100%|█████████████████████████████████████████| 655/655 [00:18<00:00, 36.38it/s]\n"
     ]
    },
    {
     "name": "stdout",
     "output_type": "stream",
     "text": [
      "Epoch: 182, loss: 35.14420167180418, f1: 0.03538925899834932, precision: 0.018017152505606867, recall: 0.9884778197485072\n",
      "val_loss: 35.144274440380414, val_f1: 0.039994402774875, val_precision: 0.020411494241412215, val_recall: 0.9852276162816844\n"
     ]
    },
    {
     "name": "stderr",
     "output_type": "stream",
     "text": [
      "100%|█████████████████████████████████████████| 655/655 [00:17<00:00, 36.52it/s]\n"
     ]
    },
    {
     "name": "stdout",
     "output_type": "stream",
     "text": [
      "Epoch: 183, loss: 35.14420075161767, f1: 0.03538925899834932, precision: 0.018017152505606867, recall: 0.9884778197485072\n",
      "val_loss: 35.144273810430406, val_f1: 0.039994402774875, val_precision: 0.020411494241412215, val_recall: 0.9852276162816844\n"
     ]
    },
    {
     "name": "stderr",
     "output_type": "stream",
     "text": [
      "100%|█████████████████████████████████████████| 655/655 [00:17<00:00, 36.80it/s]\n"
     ]
    },
    {
     "name": "stdout",
     "output_type": "stream",
     "text": [
      "Epoch: 184, loss: 35.14419994208649, f1: 0.03538925899834932, precision: 0.018017152505606867, recall: 0.9884778197485072\n",
      "val_loss: 35.144273110485955, val_f1: 0.039994402774875, val_precision: 0.020411494241412215, val_recall: 0.9852276162816844\n"
     ]
    },
    {
     "name": "stderr",
     "output_type": "stream",
     "text": [
      "100%|█████████████████████████████████████████| 655/655 [00:18<00:00, 36.38it/s]\n"
     ]
    },
    {
     "name": "stdout",
     "output_type": "stream",
     "text": [
      "Epoch: 185, loss: 35.14419912090738, f1: 0.03538925899834932, precision: 0.018017152505606867, recall: 0.9884778197485072\n",
      "val_loss: 35.14427255053039, val_f1: 0.039994402774875, val_precision: 0.020411494241412215, val_recall: 0.9852276162816844\n"
     ]
    },
    {
     "name": "stderr",
     "output_type": "stream",
     "text": [
      "100%|█████████████████████████████████████████| 655/655 [00:17<00:00, 36.49it/s]\n"
     ]
    },
    {
     "name": "stdout",
     "output_type": "stream",
     "text": [
      "Epoch: 186, loss: 35.144198328848105, f1: 0.03538925899834932, precision: 0.018017152505606867, recall: 0.9884778197485072\n",
      "val_loss: 35.144271780591495, val_f1: 0.039994402774875, val_precision: 0.020411494241412215, val_recall: 0.9852276162816844\n"
     ]
    },
    {
     "name": "stderr",
     "output_type": "stream",
     "text": [
      "100%|█████████████████████████████████████████| 655/655 [00:17<00:00, 36.56it/s]\n"
     ]
    },
    {
     "name": "stdout",
     "output_type": "stream",
     "text": [
      "Epoch: 187, loss: 35.14419760085244, f1: 0.03538925899834932, precision: 0.018017152505606867, recall: 0.9884778197485072\n",
      "val_loss: 35.14427099315398, val_f1: 0.039994402774875, val_precision: 0.020411494241412215, val_recall: 0.9852276162816844\n"
     ]
    },
    {
     "name": "stderr",
     "output_type": "stream",
     "text": [
      "100%|█████████████████████████████████████████| 655/655 [00:17<00:00, 36.62it/s]\n"
     ]
    },
    {
     "name": "stdout",
     "output_type": "stream",
     "text": [
      "Epoch: 188, loss: 35.14419663989817, f1: 0.03538925899834932, precision: 0.018017152505606867, recall: 0.9884778197485072\n",
      "val_loss: 35.14427022321509, val_f1: 0.039994402774875, val_precision: 0.020411494241412215, val_recall: 0.9852276162816844\n"
     ]
    },
    {
     "name": "stderr",
     "output_type": "stream",
     "text": [
      "100%|█████████████████████████████████████████| 655/655 [00:17<00:00, 36.45it/s]\n"
     ]
    },
    {
     "name": "stdout",
     "output_type": "stream",
     "text": [
      "Epoch: 189, loss: 35.144195888606646, f1: 0.03538925899834932, precision: 0.018017152505606867, recall: 0.9884778197485072\n",
      "val_loss: 35.1442696282623, val_f1: 0.039994402774875, val_precision: 0.020411494241412215, val_recall: 0.9852276162816844\n"
     ]
    },
    {
     "name": "stderr",
     "output_type": "stream",
     "text": [
      "100%|█████████████████████████████████████████| 655/655 [00:17<00:00, 36.52it/s]\n"
     ]
    },
    {
     "name": "stdout",
     "output_type": "stream",
     "text": [
      "Epoch: 190, loss: 35.144195102371334, f1: 0.03538925899834932, precision: 0.018017152505606867, recall: 0.9884778197485072\n",
      "val_loss: 35.14426913830118, val_f1: 0.039994402774875, val_precision: 0.020411494241412215, val_recall: 0.9852276162816844\n"
     ]
    },
    {
     "name": "stderr",
     "output_type": "stream",
     "text": [
      "100%|█████████████████████████████████████████| 655/655 [00:17<00:00, 36.79it/s]\n"
     ]
    },
    {
     "name": "stdout",
     "output_type": "stream",
     "text": [
      "Epoch: 191, loss: 35.144194380199636, f1: 0.03538925899834932, precision: 0.018017152505606867, recall: 0.9884778197485072\n",
      "val_loss: 35.14426807088589, val_f1: 0.039994402774875, val_precision: 0.020411494241412215, val_recall: 0.9852276162816844\n"
     ]
    },
    {
     "name": "stderr",
     "output_type": "stream",
     "text": [
      "100%|█████████████████████████████████████████| 655/655 [00:17<00:00, 36.54it/s]\n"
     ]
    },
    {
     "name": "stdout",
     "output_type": "stream",
     "text": [
      "Epoch: 192, loss: 35.14419364055605, f1: 0.03538925899834932, precision: 0.018017152505606867, recall: 0.9884778197485072\n",
      "val_loss: 35.144267038467824, val_f1: 0.039994402774875, val_precision: 0.020411494241412215, val_recall: 0.9852276162816844\n"
     ]
    },
    {
     "name": "stderr",
     "output_type": "stream",
     "text": [
      "100%|█████████████████████████████████████████| 655/655 [00:17<00:00, 36.48it/s]\n"
     ]
    },
    {
     "name": "stdout",
     "output_type": "stream",
     "text": [
      "Epoch: 193, loss: 35.144192871792626, f1: 0.03538925899834932, precision: 0.018017152505606867, recall: 0.9884778197485072\n",
      "val_loss: 35.14426569107476, val_f1: 0.039994402774875, val_precision: 0.020411494241412215, val_recall: 0.9852276162816844\n"
     ]
    },
    {
     "name": "stderr",
     "output_type": "stream",
     "text": [
      "100%|█████████████████████████████████████████| 655/655 [00:17<00:00, 36.50it/s]\n"
     ]
    },
    {
     "name": "stdout",
     "output_type": "stream",
     "text": [
      "Epoch: 194, loss: 35.14419220203662, f1: 0.03538925899834932, precision: 0.018017152505606867, recall: 0.9884778197485072\n",
      "val_loss: 35.14426453616641, val_f1: 0.039994402774875, val_precision: 0.020411494241412215, val_recall: 0.9852276162816844\n"
     ]
    },
    {
     "name": "stderr",
     "output_type": "stream",
     "text": [
      "100%|█████████████████████████████████████████| 655/655 [00:17<00:00, 36.52it/s]\n"
     ]
    },
    {
     "name": "stdout",
     "output_type": "stream",
     "text": [
      "Epoch: 195, loss: 35.14419152063268, f1: 0.03538925899834932, precision: 0.018017152505606867, recall: 0.9884778197485072\n",
      "val_loss: 35.14426362623862, val_f1: 0.039994402774875, val_precision: 0.020411494241412215, val_recall: 0.9852276162816844\n"
     ]
    },
    {
     "name": "stderr",
     "output_type": "stream",
     "text": [
      "100%|█████████████████████████████████████████| 655/655 [00:17<00:00, 36.47it/s]\n"
     ]
    },
    {
     "name": "stdout",
     "output_type": "stream",
     "text": [
      "Epoch: 196, loss: 35.144190821756844, f1: 0.03538925899834932, precision: 0.018017152505606867, recall: 0.9884778197485072\n",
      "val_loss: 35.14426247133027, val_f1: 0.039994402774875, val_precision: 0.020411494241412215, val_recall: 0.9852276162816844\n"
     ]
    },
    {
     "name": "stderr",
     "output_type": "stream",
     "text": [
      "100%|█████████████████████████████████████████| 655/655 [00:17<00:00, 37.17it/s]\n"
     ]
    },
    {
     "name": "stdout",
     "output_type": "stream",
     "text": [
      "Epoch: 197, loss: 35.14419011705704, f1: 0.03538925899834932, precision: 0.018017152505606867, recall: 0.9884778197485072\n",
      "val_loss: 35.144261421413596, val_f1: 0.039994402774875, val_precision: 0.020411494241412215, val_recall: 0.9852276162816844\n"
     ]
    },
    {
     "name": "stderr",
     "output_type": "stream",
     "text": [
      "100%|█████████████████████████████████████████| 655/655 [00:17<00:00, 36.49it/s]\n"
     ]
    },
    {
     "name": "stdout",
     "output_type": "stream",
     "text": [
      "Epoch: 198, loss: 35.14418944147707, f1: 0.03538925899834932, precision: 0.018017152505606867, recall: 0.9884778197485072\n",
      "val_loss: 35.14426047648858, val_f1: 0.039994402774875, val_precision: 0.020411494241412215, val_recall: 0.9852276162816844\n"
     ]
    },
    {
     "name": "stderr",
     "output_type": "stream",
     "text": [
      "100%|█████████████████████████████████████████| 655/655 [00:17<00:00, 36.52it/s]\n"
     ]
    },
    {
     "name": "stdout",
     "output_type": "stream",
     "text": [
      "Epoch: 199, loss: 35.14418883578468, f1: 0.03538925899834932, precision: 0.018017152505606867, recall: 0.9884778197485072\n",
      "val_loss: 35.14425933907885, val_f1: 0.039994402774875, val_precision: 0.020411494241412215, val_recall: 0.9852276162816844\n"
     ]
    },
    {
     "name": "stderr",
     "output_type": "stream",
     "text": [
      "100%|█████████████████████████████████████████| 655/655 [00:17<00:00, 36.50it/s]\n"
     ]
    },
    {
     "name": "stdout",
     "output_type": "stream",
     "text": [
      "Epoch: 200, loss: 35.14418816602867, f1: 0.03538925899834932, precision: 0.018017152505606867, recall: 0.9884778197485072\n",
      "val_loss: 35.14425816667189, val_f1: 0.039994402774875, val_precision: 0.020411494241412215, val_recall: 0.9852276162816844\n"
     ]
    },
    {
     "name": "stderr",
     "output_type": "stream",
     "text": [
      "100%|█████████████████████████████████████████| 655/655 [00:17<00:00, 36.42it/s]\n"
     ]
    },
    {
     "name": "stdout",
     "output_type": "stream",
     "text": [
      "Epoch: 201, loss: 35.144187601104036, f1: 0.03538925899834932, precision: 0.018017152505606867, recall: 0.9884778197485072\n",
      "val_loss: 35.144257221746884, val_f1: 0.039994402774875, val_precision: 0.020411494241412215, val_recall: 0.9852276162816844\n"
     ]
    },
    {
     "name": "stderr",
     "output_type": "stream",
     "text": [
      "100%|█████████████████████████████████████████| 655/655 [00:17<00:00, 36.48it/s]\n"
     ]
    },
    {
     "name": "stdout",
     "output_type": "stream",
     "text": [
      "Epoch: 202, loss: 35.14418694299596, f1: 0.03538925899834932, precision: 0.018017152505606867, recall: 0.9884778197485072\n",
      "val_loss: 35.14425611933437, val_f1: 0.039994402774875, val_precision: 0.020411494241412215, val_recall: 0.9852276162816844\n"
     ]
    },
    {
     "name": "stderr",
     "output_type": "stream",
     "text": [
      "100%|█████████████████████████████████████████| 655/655 [00:17<00:00, 37.13it/s]\n"
     ]
    },
    {
     "name": "stdout",
     "output_type": "stream",
     "text": [
      "Epoch: 203, loss: 35.14418636059943, f1: 0.03538925899834932, precision: 0.018017152505606867, recall: 0.9884778197485072\n",
      "val_loss: 35.14425527940103, val_f1: 0.039994402774875, val_precision: 0.020411494241412215, val_recall: 0.9852276162816844\n"
     ]
    },
    {
     "name": "stderr",
     "output_type": "stream",
     "text": [
      "100%|█████████████████████████████████████████| 655/655 [00:17<00:00, 36.53it/s]\n"
     ]
    },
    {
     "name": "stdout",
     "output_type": "stream",
     "text": [
      "Epoch: 204, loss: 35.144185760731006, f1: 0.03538925899834932, precision: 0.018017152505606867, recall: 0.9884778197485072\n",
      "val_loss: 35.144254491963515, val_f1: 0.039994402774875, val_precision: 0.020411494241412215, val_recall: 0.9852276162816844\n"
     ]
    },
    {
     "name": "stderr",
     "output_type": "stream",
     "text": [
      "100%|█████████████████████████████████████████| 655/655 [00:17<00:00, 36.51it/s]\n"
     ]
    },
    {
     "name": "stdout",
     "output_type": "stream",
     "text": [
      "Epoch: 205, loss: 35.144185160862584, f1: 0.03538925899834932, precision: 0.018017152505606867, recall: 0.9884778197485072\n",
      "val_loss: 35.144253494542674, val_f1: 0.039994402774875, val_precision: 0.020411494241412215, val_recall: 0.9852276162816844\n"
     ]
    },
    {
     "name": "stderr",
     "output_type": "stream",
     "text": [
      "100%|█████████████████████████████████████████| 655/655 [00:17<00:00, 36.59it/s]\n"
     ]
    },
    {
     "name": "stdout",
     "output_type": "stream",
     "text": [
      "Epoch: 206, loss: 35.14418463088174, f1: 0.03538925899834932, precision: 0.018017152505606867, recall: 0.9884778197485072\n",
      "val_loss: 35.144252724603774, val_f1: 0.039994402774875, val_precision: 0.020411494241412215, val_recall: 0.9852276162816844\n"
     ]
    },
    {
     "name": "stderr",
     "output_type": "stream",
     "text": [
      "100%|█████████████████████████████████████████| 655/655 [00:17<00:00, 36.53it/s]\n"
     ]
    },
    {
     "name": "stdout",
     "output_type": "stream",
     "text": [
      "Epoch: 207, loss: 35.14418406013314, f1: 0.03538925899834932, precision: 0.018017152505606867, recall: 0.9884778197485072\n",
      "val_loss: 35.14425193716627, val_f1: 0.039994402774875, val_precision: 0.020411494241412215, val_recall: 0.9852276162816844\n"
     ]
    },
    {
     "name": "stderr",
     "output_type": "stream",
     "text": [
      "100%|█████████████████████████████████████████| 655/655 [00:17<00:00, 36.54it/s]\n"
     ]
    },
    {
     "name": "stdout",
     "output_type": "stream",
     "text": [
      "Epoch: 208, loss: 35.14418355344816, f1: 0.03538925899834932, precision: 0.018017152505606867, recall: 0.9884778197485072\n",
      "val_loss: 35.14425065976764, val_f1: 0.039994402774875, val_precision: 0.020411494241412215, val_recall: 0.9852276162816844\n"
     ]
    },
    {
     "name": "stderr",
     "output_type": "stream",
     "text": [
      "100%|█████████████████████████████████████████| 655/655 [00:17<00:00, 36.65it/s]\n"
     ]
    },
    {
     "name": "stdout",
     "output_type": "stream",
     "text": [
      "Epoch: 209, loss: 35.144183011819386, f1: 0.03538925899834932, precision: 0.018017152505606867, recall: 0.9884778197485072\n",
      "val_loss: 35.1442498198343, val_f1: 0.039994402774875, val_precision: 0.020411494241412215, val_recall: 0.9852276162816844\n"
     ]
    },
    {
     "name": "stderr",
     "output_type": "stream",
     "text": [
      "100%|█████████████████████████████████████████| 655/655 [00:17<00:00, 36.57it/s]\n"
     ]
    },
    {
     "name": "stdout",
     "output_type": "stream",
     "text": [
      "Epoch: 210, loss: 35.144182470190614, f1: 0.03538925899834932, precision: 0.018017152505606867, recall: 0.9884778197485072\n",
      "val_loss: 35.1442490498954, val_f1: 0.039994402774875, val_precision: 0.020411494241412215, val_recall: 0.9852276162816844\n"
     ]
    },
    {
     "name": "stderr",
     "output_type": "stream",
     "text": [
      "100%|█████████████████████████████████████████| 655/655 [00:17<00:00, 36.41it/s]\n"
     ]
    },
    {
     "name": "stdout",
     "output_type": "stream",
     "text": [
      "Epoch: 211, loss: 35.1441819518577, f1: 0.03538925899834932, precision: 0.018017152505606867, recall: 0.9884778197485072\n",
      "val_loss: 35.144248139967615, val_f1: 0.039994402774875, val_precision: 0.020411494241412215, val_recall: 0.9852276162816844\n"
     ]
    },
    {
     "name": "stderr",
     "output_type": "stream",
     "text": [
      "100%|█████████████████████████████████████████| 655/655 [00:17<00:00, 36.57it/s]\n"
     ]
    },
    {
     "name": "stdout",
     "output_type": "stream",
     "text": [
      "Epoch: 212, loss: 35.144181439348756, f1: 0.03538925899834932, precision: 0.018017152505606867, recall: 0.9884778197485072\n",
      "val_loss: 35.14424731753288, val_f1: 0.039994402774875, val_precision: 0.020411494241412215, val_recall: 0.9852276162816844\n"
     ]
    },
    {
     "name": "stderr",
     "output_type": "stream",
     "text": [
      "100%|█████████████████████████████████████████| 655/655 [00:17<00:00, 36.42it/s]\n"
     ]
    },
    {
     "name": "stdout",
     "output_type": "stream",
     "text": [
      "Epoch: 213, loss: 35.14418093266378, f1: 0.03538925899834932, precision: 0.018017152505606867, recall: 0.9884778197485072\n",
      "val_loss: 35.144246635087036, val_f1: 0.039994402774875, val_precision: 0.020411494241412215, val_recall: 0.9852276162816844\n"
     ]
    },
    {
     "name": "stderr",
     "output_type": "stream",
     "text": [
      "100%|█████████████████████████████████████████| 655/655 [00:17<00:00, 36.42it/s]\n"
     ]
    },
    {
     "name": "stdout",
     "output_type": "stream",
     "text": [
      "Epoch: 214, loss: 35.14418037356311, f1: 0.03538925899834932, precision: 0.018017152505606867, recall: 0.9884778197485072\n",
      "val_loss: 35.14424583015092, val_f1: 0.039994402774875, val_precision: 0.020411494241412215, val_recall: 0.9852276162816844\n"
     ]
    },
    {
     "name": "stderr",
     "output_type": "stream",
     "text": [
      "100%|█████████████████████████████████████████| 655/655 [00:17<00:00, 36.46it/s]\n"
     ]
    },
    {
     "name": "stdout",
     "output_type": "stream",
     "text": [
      "Epoch: 215, loss: 35.1441798727021, f1: 0.03538925899834932, precision: 0.018017152505606867, recall: 0.9884778197485072\n",
      "val_loss: 35.144244972718965, val_f1: 0.039994402774875, val_precision: 0.020411494241412215, val_recall: 0.9852276162816844\n"
     ]
    },
    {
     "name": "stderr",
     "output_type": "stream",
     "text": [
      "100%|█████████████████████████████████████████| 655/655 [00:17<00:00, 36.86it/s]\n"
     ]
    },
    {
     "name": "stdout",
     "output_type": "stream",
     "text": [
      "Epoch: 216, loss: 35.144179412608835, f1: 0.03538925899834932, precision: 0.018017152505606867, recall: 0.9884778197485072\n",
      "val_loss: 35.14424404529257, val_f1: 0.039994402774875, val_precision: 0.020411494241412215, val_recall: 0.9852276162816844\n"
     ]
    },
    {
     "name": "stderr",
     "output_type": "stream",
     "text": [
      "100%|█████████████████████████████████████████| 655/655 [00:17<00:00, 36.45it/s]\n"
     ]
    },
    {
     "name": "stdout",
     "output_type": "stream",
     "text": [
      "Epoch: 217, loss: 35.144178876804034, f1: 0.03538925899834932, precision: 0.018017152505606867, recall: 0.9884778197485072\n",
      "val_loss: 35.144243205359224, val_f1: 0.039994402774875, val_precision: 0.020411494241412215, val_recall: 0.9852276162816844\n"
     ]
    },
    {
     "name": "stderr",
     "output_type": "stream",
     "text": [
      "100%|█████████████████████████████████████████| 655/655 [00:17<00:00, 36.44it/s]\n"
     ]
    },
    {
     "name": "stdout",
     "output_type": "stream",
     "text": [
      "Epoch: 218, loss: 35.14417838759095, f1: 0.03538925899834932, precision: 0.018017152505606867, recall: 0.9884778197485072\n",
      "val_loss: 35.14424252291338, val_f1: 0.039994402774875, val_precision: 0.020411494241412215, val_recall: 0.9852276162816844\n"
     ]
    },
    {
     "name": "stderr",
     "output_type": "stream",
     "text": [
      "100%|█████████████████████████████████████████| 655/655 [00:18<00:00, 36.36it/s]\n"
     ]
    },
    {
     "name": "stdout",
     "output_type": "stream",
     "text": [
      "Epoch: 219, loss: 35.14417792167372, f1: 0.03538925899834932, precision: 0.018017152505606867, recall: 0.9884778197485072\n",
      "val_loss: 35.14424182296893, val_f1: 0.039994402774875, val_precision: 0.020411494241412215, val_recall: 0.9852276162816844\n"
     ]
    },
    {
     "name": "stderr",
     "output_type": "stream",
     "text": [
      "100%|█████████████████████████████████████████| 655/655 [00:17<00:00, 36.48it/s]\n"
     ]
    },
    {
     "name": "stdout",
     "output_type": "stream",
     "text": [
      "Epoch: 220, loss: 35.14417746158047, f1: 0.03538925899834932, precision: 0.018017152505606867, recall: 0.9884778197485072\n",
      "val_loss: 35.144241175520314, val_f1: 0.039994402774875, val_precision: 0.020411494241412215, val_recall: 0.9852276162816844\n"
     ]
    },
    {
     "name": "stderr",
     "output_type": "stream",
     "text": [
      "100%|█████████████████████████████████████████| 655/655 [00:17<00:00, 36.55it/s]\n"
     ]
    },
    {
     "name": "stdout",
     "output_type": "stream",
     "text": [
      "Epoch: 221, loss: 35.14417701313514, f1: 0.03538925899834932, precision: 0.018017152505606867, recall: 0.9884778197485072\n",
      "val_loss: 35.14424042308003, val_f1: 0.039994402774875, val_precision: 0.020411494241412215, val_recall: 0.9852276162816844\n"
     ]
    },
    {
     "name": "stderr",
     "output_type": "stream",
     "text": [
      "100%|█████████████████████████████████████████| 655/655 [00:17<00:00, 37.21it/s]\n"
     ]
    },
    {
     "name": "stdout",
     "output_type": "stream",
     "text": [
      "Epoch: 222, loss: 35.14417659380964, f1: 0.03538925899834932, precision: 0.018017152505606867, recall: 0.9884778197485072\n",
      "val_loss: 35.144239740634184, val_f1: 0.039994402774875, val_precision: 0.020411494241412215, val_recall: 0.9852276162816844\n"
     ]
    },
    {
     "name": "stderr",
     "output_type": "stream",
     "text": [
      "100%|█████████████████████████████████████████| 655/655 [00:17<00:00, 36.60it/s]\n"
     ]
    },
    {
     "name": "stdout",
     "output_type": "stream",
     "text": [
      "Epoch: 223, loss: 35.14417615701224, f1: 0.03538925899834932, precision: 0.018017152505606867, recall: 0.9884778197485072\n",
      "val_loss: 35.14423909318556, val_f1: 0.039994402774875, val_precision: 0.020411494241412215, val_recall: 0.9852276162816844\n"
     ]
    },
    {
     "name": "stderr",
     "output_type": "stream",
     "text": [
      "100%|█████████████████████████████████████████| 655/655 [00:18<00:00, 36.32it/s]\n"
     ]
    },
    {
     "name": "stdout",
     "output_type": "stream",
     "text": [
      "Epoch: 224, loss: 35.14417572021485, f1: 0.03538925899834932, precision: 0.018017152505606867, recall: 0.9884778197485072\n",
      "val_loss: 35.144238008271664, val_f1: 0.039994402774875, val_precision: 0.020411494241412215, val_recall: 0.9852276162816844\n"
     ]
    },
    {
     "name": "stderr",
     "output_type": "stream",
     "text": [
      "100%|█████████████████████████████████████████| 655/655 [00:17<00:00, 36.51it/s]\n"
     ]
    },
    {
     "name": "stdout",
     "output_type": "stream",
     "text": [
      "Epoch: 225, loss: 35.14417528341745, f1: 0.03538925899834932, precision: 0.018017152505606867, recall: 0.9884778197485072\n",
      "val_loss: 35.14423722083416, val_f1: 0.039994402774875, val_precision: 0.020411494241412215, val_recall: 0.9852276162816844\n"
     ]
    },
    {
     "name": "stderr",
     "output_type": "stream",
     "text": [
      "100%|█████████████████████████████████████████| 655/655 [00:17<00:00, 36.55it/s]\n"
     ]
    },
    {
     "name": "stdout",
     "output_type": "stream",
     "text": [
      "Epoch: 226, loss: 35.1441747883804, f1: 0.03538925899834932, precision: 0.018017152505606867, recall: 0.9884778197485072\n",
      "val_loss: 35.14423662588137, val_f1: 0.039994402774875, val_precision: 0.020411494241412215, val_recall: 0.9852276162816844\n"
     ]
    },
    {
     "name": "stderr",
     "output_type": "stream",
     "text": [
      "100%|█████████████████████████████████████████| 655/655 [00:17<00:00, 36.47it/s]\n"
     ]
    },
    {
     "name": "stdout",
     "output_type": "stream",
     "text": [
      "Epoch: 227, loss: 35.14417438070283, f1: 0.03538925899834932, precision: 0.018017152505606867, recall: 0.9884778197485072\n",
      "val_loss: 35.14423594343553, val_f1: 0.039994402774875, val_precision: 0.020411494241412215, val_recall: 0.9852276162816844\n"
     ]
    },
    {
     "name": "stderr",
     "output_type": "stream",
     "text": [
      "100%|█████████████████████████████████████████| 655/655 [00:17<00:00, 36.99it/s]\n"
     ]
    },
    {
     "name": "stdout",
     "output_type": "stream",
     "text": [
      "Epoch: 228, loss: 35.144174019616976, f1: 0.03538925899834932, precision: 0.018017152505606867, recall: 0.9884778197485072\n",
      "val_loss: 35.144235278488296, val_f1: 0.039994402774875, val_precision: 0.020411494241412215, val_recall: 0.9852276162816844\n"
     ]
    },
    {
     "name": "stderr",
     "output_type": "stream",
     "text": [
      "100%|█████████████████████████████████████████| 655/655 [00:17<00:00, 36.47it/s]\n"
     ]
    },
    {
     "name": "stdout",
     "output_type": "stream",
     "text": [
      "Epoch: 229, loss: 35.1441734954601, f1: 0.03538925899834932, precision: 0.018017152505606867, recall: 0.9884778197485072\n",
      "val_loss: 35.14423459604246, val_f1: 0.039994402774875, val_precision: 0.020411494241412215, val_recall: 0.9852276162816844\n"
     ]
    },
    {
     "name": "stderr",
     "output_type": "stream",
     "text": [
      "100%|█████████████████████████████████████████| 655/655 [00:17<00:00, 36.56it/s]\n"
     ]
    },
    {
     "name": "stdout",
     "output_type": "stream",
     "text": [
      "Epoch: 230, loss: 35.14417311690236, f1: 0.03538925899834932, precision: 0.018017152505606867, recall: 0.9884778197485072\n",
      "val_loss: 35.144233878599394, val_f1: 0.039994402774875, val_precision: 0.020411494241412215, val_recall: 0.9852276162816844\n"
     ]
    },
    {
     "name": "stderr",
     "output_type": "stream",
     "text": [
      "100%|█████████████████████████████████████████| 655/655 [00:17<00:00, 36.44it/s]\n"
     ]
    },
    {
     "name": "stdout",
     "output_type": "stream",
     "text": [
      "Epoch: 231, loss: 35.14417266845703, f1: 0.03538925899834932, precision: 0.018017152505606867, recall: 0.9884778197485072\n",
      "val_loss: 35.14423316115633, val_f1: 0.039994402774875, val_precision: 0.020411494241412215, val_recall: 0.9852276162816844\n"
     ]
    },
    {
     "name": "stderr",
     "output_type": "stream",
     "text": [
      "100%|█████████████████████████████████████████| 655/655 [00:17<00:00, 36.54it/s]\n"
     ]
    },
    {
     "name": "stdout",
     "output_type": "stream",
     "text": [
      "Epoch: 232, loss: 35.144172307371186, f1: 0.03538925899834932, precision: 0.018017152505606867, recall: 0.9884778197485072\n",
      "val_loss: 35.14423230372438, val_f1: 0.039994402774875, val_precision: 0.020411494241412215, val_recall: 0.9852276162816844\n"
     ]
    },
    {
     "name": "stderr",
     "output_type": "stream",
     "text": [
      "100%|█████████████████████████████████████████| 655/655 [00:17<00:00, 36.56it/s]\n"
     ]
    },
    {
     "name": "stdout",
     "output_type": "stream",
     "text": [
      "Epoch: 233, loss: 35.14417192298947, f1: 0.03538925899834932, precision: 0.018017152505606867, recall: 0.9884778197485072\n",
      "val_loss: 35.14423174376881, val_f1: 0.039994402774875, val_precision: 0.020411494241412215, val_recall: 0.9852276162816844\n"
     ]
    },
    {
     "name": "stderr",
     "output_type": "stream",
     "text": [
      "100%|█████████████████████████████████████████| 655/655 [00:17<00:00, 36.60it/s]\n"
     ]
    },
    {
     "name": "stdout",
     "output_type": "stream",
     "text": [
      "Epoch: 234, loss: 35.1441715502557, f1: 0.03538925899834932, precision: 0.018017152505606867, recall: 0.9884778197485072\n",
      "val_loss: 35.144231113818805, val_f1: 0.039994402774875, val_precision: 0.020411494241412215, val_recall: 0.9852276162816844\n"
     ]
    },
    {
     "name": "stderr",
     "output_type": "stream",
     "text": [
      "100%|█████████████████████████████████████████| 655/655 [00:17<00:00, 36.63it/s]\n"
     ]
    },
    {
     "name": "stdout",
     "output_type": "stream",
     "text": [
      "Epoch: 235, loss: 35.14417111928226, f1: 0.03538925899834932, precision: 0.018017152505606867, recall: 0.9884778197485072\n",
      "val_loss: 35.1442304838688, val_f1: 0.039994402774875, val_precision: 0.020411494241412215, val_recall: 0.9852276162816844\n"
     ]
    },
    {
     "name": "stderr",
     "output_type": "stream",
     "text": [
      "100%|█████████████████████████████████████████| 655/655 [00:17<00:00, 36.56it/s]\n"
     ]
    },
    {
     "name": "stdout",
     "output_type": "stream",
     "text": [
      "Epoch: 236, loss: 35.1441706941328, f1: 0.03538925899834932, precision: 0.018017152505606867, recall: 0.9884778197485072\n",
      "val_loss: 35.14422983642018, val_f1: 0.039994402774875, val_precision: 0.020411494241412215, val_recall: 0.9852276162816844\n"
     ]
    },
    {
     "name": "stderr",
     "output_type": "stream",
     "text": [
      "100%|█████████████████████████████████████████| 655/655 [00:17<00:00, 36.51it/s]\n"
     ]
    },
    {
     "name": "stdout",
     "output_type": "stream",
     "text": [
      "Epoch: 237, loss: 35.14417024568747, f1: 0.03538925899834932, precision: 0.018017152505606867, recall: 0.9884778197485072\n",
      "val_loss: 35.144229328960456, val_f1: 0.039994402774875, val_precision: 0.020411494241412215, val_recall: 0.9852276162816844\n"
     ]
    },
    {
     "name": "stderr",
     "output_type": "stream",
     "text": [
      "100%|█████████████████████████████████████████| 655/655 [00:17<00:00, 36.54it/s]\n"
     ]
    },
    {
     "name": "stdout",
     "output_type": "stream",
     "text": [
      "Epoch: 238, loss: 35.144169843833865, f1: 0.03538925899834932, precision: 0.018017152505606867, recall: 0.9884778197485072\n",
      "val_loss: 35.14422876900489, val_f1: 0.039994402774875, val_precision: 0.020411494241412215, val_recall: 0.9852276162816844\n"
     ]
    },
    {
     "name": "stderr",
     "output_type": "stream",
     "text": [
      "100%|█████████████████████████████████████████| 655/655 [00:18<00:00, 36.34it/s]\n"
     ]
    },
    {
     "name": "stdout",
     "output_type": "stream",
     "text": [
      "Epoch: 239, loss: 35.14416945945216, f1: 0.03538925899834932, precision: 0.018017152505606867, recall: 0.9884778197485072\n",
      "val_loss: 35.144228156553496, val_f1: 0.039994402774875, val_precision: 0.020411494241412215, val_recall: 0.9852276162816844\n"
     ]
    },
    {
     "name": "stderr",
     "output_type": "stream",
     "text": [
      "100%|█████████████████████████████████████████| 655/655 [00:17<00:00, 36.48it/s]\n"
     ]
    },
    {
     "name": "stdout",
     "output_type": "stream",
     "text": [
      "Epoch: 240, loss: 35.144169139134064, f1: 0.03538925899834932, precision: 0.018017152505606867, recall: 0.9884778197485072\n",
      "val_loss: 35.14422757909932, val_f1: 0.039994402774875, val_precision: 0.020411494241412215, val_recall: 0.9852276162816844\n"
     ]
    },
    {
     "name": "stderr",
     "output_type": "stream",
     "text": [
      "100%|█████████████████████████████████████████| 655/655 [00:17<00:00, 37.11it/s]\n"
     ]
    },
    {
     "name": "stdout",
     "output_type": "stream",
     "text": [
      "Epoch: 241, loss: 35.14416873728046, f1: 0.03538925899834932, precision: 0.018017152505606867, recall: 0.9884778197485072\n",
      "val_loss: 35.14422680916042, val_f1: 0.039994402774875, val_precision: 0.020411494241412215, val_recall: 0.9852276162816844\n"
     ]
    },
    {
     "name": "stderr",
     "output_type": "stream",
     "text": [
      "100%|█████████████████████████████████████████| 655/655 [00:18<00:00, 36.38it/s]\n"
     ]
    },
    {
     "name": "stdout",
     "output_type": "stream",
     "text": [
      "Epoch: 242, loss: 35.1441684111384, f1: 0.03538925899834932, precision: 0.018017152505606867, recall: 0.9884778197485072\n",
      "val_loss: 35.14422624920486, val_f1: 0.039994402774875, val_precision: 0.020411494241412215, val_recall: 0.9852276162816844\n"
     ]
    },
    {
     "name": "stderr",
     "output_type": "stream",
     "text": [
      "100%|█████████████████████████████████████████| 655/655 [00:17<00:00, 36.55it/s]\n"
     ]
    },
    {
     "name": "stdout",
     "output_type": "stream",
     "text": [
      "Epoch: 243, loss: 35.14416804422859, f1: 0.03538925899834932, precision: 0.018017152505606867, recall: 0.9884778197485072\n",
      "val_loss: 35.14422560175625, val_f1: 0.039994402774875, val_precision: 0.020411494241412215, val_recall: 0.9852276162816844\n"
     ]
    },
    {
     "name": "stderr",
     "output_type": "stream",
     "text": [
      "100%|█████████████████████████████████████████| 655/655 [00:17<00:00, 36.50it/s]\n"
     ]
    },
    {
     "name": "stdout",
     "output_type": "stream",
     "text": [
      "Epoch: 244, loss: 35.1441677064386, f1: 0.03538925899834932, precision: 0.018017152505606867, recall: 0.9884778197485072\n",
      "val_loss: 35.14422512929374, val_f1: 0.039994402774875, val_precision: 0.020411494241412215, val_recall: 0.9852276162816844\n"
     ]
    },
    {
     "name": "stderr",
     "output_type": "stream",
     "text": [
      "100%|█████████████████████████████████████████| 655/655 [00:17<00:00, 36.60it/s]\n"
     ]
    },
    {
     "name": "stdout",
     "output_type": "stream",
     "text": [
      "Epoch: 245, loss: 35.144167386120515, f1: 0.03538925899834932, precision: 0.018017152505606867, recall: 0.9884778197485072\n",
      "val_loss: 35.14422463933262, val_f1: 0.039994402774875, val_precision: 0.020411494241412215, val_recall: 0.9852276162816844\n"
     ]
    },
    {
     "name": "stderr",
     "output_type": "stream",
     "text": [
      "100%|█████████████████████████████████████████| 655/655 [00:17<00:00, 36.47it/s]\n"
     ]
    },
    {
     "name": "stdout",
     "output_type": "stream",
     "text": [
      "Epoch: 246, loss: 35.1441670192107, f1: 0.03538925899834932, precision: 0.018017152505606867, recall: 0.9884778197485072\n",
      "val_loss: 35.14422411437428, val_f1: 0.039994402774875, val_precision: 0.020411494241412215, val_recall: 0.9852276162816844\n"
     ]
    },
    {
     "name": "stderr",
     "output_type": "stream",
     "text": [
      "100%|█████████████████████████████████████████| 655/655 [00:17<00:00, 36.97it/s]\n"
     ]
    },
    {
     "name": "stdout",
     "output_type": "stream",
     "text": [
      "Epoch: 247, loss: 35.14416671054054, f1: 0.03538925899834932, precision: 0.018017152505606867, recall: 0.9884778197485072\n",
      "val_loss: 35.14422348442427, val_f1: 0.039994402774875, val_precision: 0.020411494241412215, val_recall: 0.9852276162816844\n"
     ]
    },
    {
     "name": "stderr",
     "output_type": "stream",
     "text": [
      "100%|█████████████████████████████████████████| 655/655 [00:17<00:00, 36.62it/s]\n"
     ]
    },
    {
     "name": "stdout",
     "output_type": "stream",
     "text": [
      "Epoch: 248, loss: 35.14416637857452, f1: 0.03538925899834932, precision: 0.018017152505606867, recall: 0.9884778197485072\n",
      "val_loss: 35.14422304695899, val_f1: 0.039994402774875, val_precision: 0.020411494241412215, val_recall: 0.9852276162816844\n"
     ]
    },
    {
     "name": "stderr",
     "output_type": "stream",
     "text": [
      "100%|█████████████████████████████████████████| 655/655 [00:17<00:00, 36.59it/s]\n"
     ]
    },
    {
     "name": "stdout",
     "output_type": "stream",
     "text": [
      "Epoch: 249, loss: 35.144166023312636, f1: 0.03538925899834932, precision: 0.018017152505606867, recall: 0.9884778197485072\n",
      "val_loss: 35.14422250450204, val_f1: 0.039994402774875, val_precision: 0.020411494241412215, val_recall: 0.9852276162816844\n"
     ]
    },
    {
     "name": "stderr",
     "output_type": "stream",
     "text": [
      "100%|█████████████████████████████████████████| 655/655 [00:17<00:00, 36.41it/s]\n"
     ]
    },
    {
     "name": "stdout",
     "output_type": "stream",
     "text": [
      "Epoch: 250, loss: 35.144165708818505, f1: 0.03538925899834932, precision: 0.018017152505606867, recall: 0.9884778197485072\n",
      "val_loss: 35.144222032039536, val_f1: 0.039994402774875, val_precision: 0.020411494241412215, val_recall: 0.9852276162816844\n"
     ]
    },
    {
     "name": "stderr",
     "output_type": "stream",
     "text": [
      "100%|█████████████████████████████████████████| 655/655 [00:17<00:00, 36.54it/s]\n"
     ]
    },
    {
     "name": "stdout",
     "output_type": "stream",
     "text": [
      "Epoch: 251, loss: 35.144165405972316, f1: 0.03538925899834932, precision: 0.018017152505606867, recall: 0.9884778197485072\n",
      "val_loss: 35.14422145458536, val_f1: 0.039994402774875, val_precision: 0.020411494241412215, val_recall: 0.9852276162816844\n"
     ]
    },
    {
     "name": "stderr",
     "output_type": "stream",
     "text": [
      "100%|█████████████████████████████████████████| 655/655 [00:17<00:00, 36.54it/s]\n"
     ]
    },
    {
     "name": "stdout",
     "output_type": "stream",
     "text": [
      "Epoch: 252, loss: 35.14416511477405, f1: 0.03538925899834932, precision: 0.018017152505606867, recall: 0.9884778197485072\n",
      "val_loss: 35.14422061465202, val_f1: 0.039994402774875, val_precision: 0.020411494241412215, val_recall: 0.9852276162816844\n"
     ]
    },
    {
     "name": "stderr",
     "output_type": "stream",
     "text": [
      "100%|█████████████████████████████████████████| 655/655 [00:17<00:00, 36.68it/s]\n"
     ]
    },
    {
     "name": "stdout",
     "output_type": "stream",
     "text": [
      "Epoch: 253, loss: 35.144164800279924, f1: 0.03538925899834932, precision: 0.018017152505606867, recall: 0.9884778197485072\n",
      "val_loss: 35.14422014218952, val_f1: 0.039994402774875, val_precision: 0.020411494241412215, val_recall: 0.9852276162816844\n"
     ]
    },
    {
     "name": "stderr",
     "output_type": "stream",
     "text": [
      "100%|█████████████████████████████████████████| 655/655 [00:17<00:00, 36.41it/s]\n"
     ]
    },
    {
     "name": "stdout",
     "output_type": "stream",
     "text": [
      "Epoch: 254, loss: 35.14416452655355, f1: 0.03538925899834932, precision: 0.018017152505606867, recall: 0.9884778197485072\n",
      "val_loss: 35.14421973972146, val_f1: 0.039994402774875, val_precision: 0.020411494241412215, val_recall: 0.9852276162816844\n"
     ]
    },
    {
     "name": "stderr",
     "output_type": "stream",
     "text": [
      "100%|█████████████████████████████████████████| 655/655 [00:17<00:00, 36.42it/s]\n"
     ]
    },
    {
     "name": "stdout",
     "output_type": "stream",
     "text": [
      "Epoch: 255, loss: 35.14416421205943, f1: 0.03538925899834932, precision: 0.018017152505606867, recall: 0.9884778197485072\n",
      "val_loss: 35.14421926725895, val_f1: 0.039994402774875, val_precision: 0.020411494241412215, val_recall: 0.9852276162816844\n"
     ]
    },
    {
     "name": "stderr",
     "output_type": "stream",
     "text": [
      "100%|█████████████████████████████████████████| 655/655 [00:17<00:00, 36.50it/s]\n"
     ]
    },
    {
     "name": "stdout",
     "output_type": "stream",
     "text": [
      "Epoch: 256, loss: 35.14416393833306, f1: 0.03538925899834932, precision: 0.018017152505606867, recall: 0.9884778197485072\n",
      "val_loss: 35.144218689804774, val_f1: 0.039994402774875, val_precision: 0.020411494241412215, val_recall: 0.9852276162816844\n"
     ]
    },
    {
     "name": "stderr",
     "output_type": "stream",
     "text": [
      "100%|█████████████████████████████████████████| 655/655 [00:17<00:00, 36.51it/s]\n"
     ]
    },
    {
     "name": "stdout",
     "output_type": "stream",
     "text": [
      "Epoch: 257, loss: 35.1441636296629, f1: 0.03538925899834932, precision: 0.018017152505606867, recall: 0.9884778197485072\n",
      "val_loss: 35.1442181123506, val_f1: 0.039994402774875, val_precision: 0.020411494241412215, val_recall: 0.9852276162816844\n"
     ]
    },
    {
     "name": "stderr",
     "output_type": "stream",
     "text": [
      "100%|█████████████████████████████████████████| 655/655 [00:17<00:00, 36.52it/s]\n"
     ]
    },
    {
     "name": "stdout",
     "output_type": "stream",
     "text": [
      "Epoch: 258, loss: 35.144163350112564, f1: 0.03538925899834932, precision: 0.018017152505606867, recall: 0.9884778197485072\n",
      "val_loss: 35.14421774487977, val_f1: 0.039994402774875, val_precision: 0.020411494241412215, val_recall: 0.9852276162816844\n"
     ]
    },
    {
     "name": "stderr",
     "output_type": "stream",
     "text": [
      "100%|█████████████████████████████████████████| 655/655 [00:17<00:00, 36.63it/s]\n"
     ]
    },
    {
     "name": "stdout",
     "output_type": "stream",
     "text": [
      "Epoch: 259, loss: 35.14416303561844, f1: 0.03538925899834932, precision: 0.018017152505606867, recall: 0.9884778197485072\n",
      "val_loss: 35.14421721992143, val_f1: 0.039994402774875, val_precision: 0.020411494241412215, val_recall: 0.9852276162816844\n"
     ]
    },
    {
     "name": "stderr",
     "output_type": "stream",
     "text": [
      "100%|█████████████████████████████████████████| 655/655 [00:17<00:00, 36.74it/s]\n"
     ]
    },
    {
     "name": "stdout",
     "output_type": "stream",
     "text": [
      "Epoch: 260, loss: 35.14416272112432, f1: 0.03538925899834932, precision: 0.018017152505606867, recall: 0.9884778197485072\n",
      "val_loss: 35.14421665996586, val_f1: 0.039994402774875, val_precision: 0.020411494241412215, val_recall: 0.9852276162816844\n"
     ]
    },
    {
     "name": "stderr",
     "output_type": "stream",
     "text": [
      "100%|█████████████████████████████████████████| 655/655 [00:17<00:00, 36.47it/s]\n"
     ]
    },
    {
     "name": "stdout",
     "output_type": "stream",
     "text": [
      "Epoch: 261, loss: 35.14416244157398, f1: 0.03538925899834932, precision: 0.018017152505606867, recall: 0.9884778197485072\n",
      "val_loss: 35.144216170004746, val_f1: 0.039994402774875, val_precision: 0.020411494241412215, val_recall: 0.9852276162816844\n"
     ]
    },
    {
     "name": "stderr",
     "output_type": "stream",
     "text": [
      "100%|█████████████████████████████████████████| 655/655 [00:17<00:00, 36.47it/s]\n"
     ]
    },
    {
     "name": "stdout",
     "output_type": "stream",
     "text": [
      "Epoch: 262, loss: 35.144162173671575, f1: 0.03538925899834932, precision: 0.018017152505606867, recall: 0.9884778197485072\n",
      "val_loss: 35.14421541756446, val_f1: 0.039994402774875, val_precision: 0.020411494241412215, val_recall: 0.9852276162816844\n"
     ]
    },
    {
     "name": "stderr",
     "output_type": "stream",
     "text": [
      "100%|█████████████████████████████████████████| 655/655 [00:17<00:00, 36.56it/s]\n"
     ]
    },
    {
     "name": "stdout",
     "output_type": "stream",
     "text": [
      "Epoch: 263, loss: 35.14416185917745, f1: 0.03538925899834932, precision: 0.018017152505606867, recall: 0.9884778197485072\n",
      "val_loss: 35.14421498009918, val_f1: 0.039994402774875, val_precision: 0.020411494241412215, val_recall: 0.9852276162816844\n"
     ]
    },
    {
     "name": "stderr",
     "output_type": "stream",
     "text": [
      "100%|█████████████████████████████████████████| 655/655 [00:17<00:00, 36.58it/s]\n"
     ]
    },
    {
     "name": "stdout",
     "output_type": "stream",
     "text": [
      "Epoch: 264, loss: 35.144161597099014, f1: 0.03538925899834932, precision: 0.018017152505606867, recall: 0.9884778197485072\n",
      "val_loss: 35.14421463012695, val_f1: 0.039994402774875, val_precision: 0.020411494241412215, val_recall: 0.9852276162816844\n"
     ]
    },
    {
     "name": "stderr",
     "output_type": "stream",
     "text": [
      "100%|█████████████████████████████████████████| 655/655 [00:17<00:00, 36.44it/s]\n"
     ]
    },
    {
     "name": "stdout",
     "output_type": "stream",
     "text": [
      "Epoch: 265, loss: 35.14416132337264, f1: 0.03538925899834932, precision: 0.018017152505606867, recall: 0.9884778197485072\n",
      "val_loss: 35.14421415766445, val_f1: 0.039994402774875, val_precision: 0.020411494241412215, val_recall: 0.9852276162816844\n"
     ]
    },
    {
     "name": "stderr",
     "output_type": "stream",
     "text": [
      "100%|█████████████████████████████████████████| 655/655 [00:17<00:00, 37.21it/s]\n"
     ]
    },
    {
     "name": "stdout",
     "output_type": "stream",
     "text": [
      "Epoch: 266, loss: 35.144161061294206, f1: 0.03538925899834932, precision: 0.018017152505606867, recall: 0.9884778197485072\n",
      "val_loss: 35.14421382519083, val_f1: 0.039994402774875, val_precision: 0.020411494241412215, val_recall: 0.9852276162816844\n"
     ]
    },
    {
     "name": "stderr",
     "output_type": "stream",
     "text": [
      "100%|█████████████████████████████████████████| 655/655 [00:17<00:00, 36.56it/s]\n"
     ]
    },
    {
     "name": "stdout",
     "output_type": "stream",
     "text": [
      "Epoch: 267, loss: 35.14416082251163, f1: 0.03538925899834932, precision: 0.018017152505606867, recall: 0.9884778197485072\n",
      "val_loss: 35.14421342272277, val_f1: 0.039994402774875, val_precision: 0.020411494241412215, val_recall: 0.9852276162816844\n"
     ]
    },
    {
     "name": "stderr",
     "output_type": "stream",
     "text": [
      "100%|█████████████████████████████████████████| 655/655 [00:17<00:00, 36.44it/s]\n"
     ]
    },
    {
     "name": "stdout",
     "output_type": "stream",
     "text": [
      "Epoch: 268, loss: 35.1441605254894, f1: 0.03538925899834932, precision: 0.018017152505606867, recall: 0.9884778197485072\n",
      "val_loss: 35.14421298525749, val_f1: 0.039994402774875, val_precision: 0.020411494241412215, val_recall: 0.9852276162816844\n"
     ]
    },
    {
     "name": "stderr",
     "output_type": "stream",
     "text": [
      "100%|█████████████████████████████████████████| 655/655 [00:17<00:00, 36.59it/s]\n"
     ]
    },
    {
     "name": "stdout",
     "output_type": "stream",
     "text": [
      "Epoch: 269, loss: 35.144160292530785, f1: 0.03538925899834932, precision: 0.018017152505606867, recall: 0.9884778197485072\n",
      "val_loss: 35.1442126877811, val_f1: 0.039994402774875, val_precision: 0.020411494241412215, val_recall: 0.9852276162816844\n"
     ]
    },
    {
     "name": "stderr",
     "output_type": "stream",
     "text": [
      "100%|█████████████████████████████████████████| 655/655 [00:17<00:00, 36.49it/s]\n"
     ]
    },
    {
     "name": "stdout",
     "output_type": "stream",
     "text": [
      "Epoch: 270, loss: 35.144160007156486, f1: 0.03538925899834932, precision: 0.018017152505606867, recall: 0.9884778197485072\n",
      "val_loss: 35.14421225031582, val_f1: 0.039994402774875, val_precision: 0.020411494241412215, val_recall: 0.9852276162816844\n"
     ]
    },
    {
     "name": "stderr",
     "output_type": "stream",
     "text": [
      "100%|█████████████████████████████████████████| 655/655 [00:17<00:00, 36.52it/s]\n"
     ]
    },
    {
     "name": "stdout",
     "output_type": "stream",
     "text": [
      "Epoch: 271, loss: 35.14415965771857, f1: 0.03538925899834932, precision: 0.018017152505606867, recall: 0.9884778197485072\n",
      "val_loss: 35.14421179535192, val_f1: 0.039994402774875, val_precision: 0.020411494241412215, val_recall: 0.9852276162816844\n"
     ]
    },
    {
     "name": "stderr",
     "output_type": "stream",
     "text": [
      "100%|█████████████████████████████████████████| 655/655 [00:17<00:00, 37.01it/s]\n"
     ]
    },
    {
     "name": "stdout",
     "output_type": "stream",
     "text": [
      "Epoch: 272, loss: 35.14415937816824, f1: 0.03538925899834932, precision: 0.018017152505606867, recall: 0.9884778197485072\n",
      "val_loss: 35.14421111290608, val_f1: 0.039994402774875, val_precision: 0.020411494241412215, val_recall: 0.9852276162816844\n"
     ]
    },
    {
     "name": "stderr",
     "output_type": "stream",
     "text": [
      "100%|█████████████████████████████████████████| 655/655 [00:17<00:00, 36.74it/s]\n"
     ]
    },
    {
     "name": "stdout",
     "output_type": "stream",
     "text": [
      "Epoch: 273, loss: 35.144159075322044, f1: 0.03538925899834932, precision: 0.018017152505606867, recall: 0.9884778197485072\n",
      "val_loss: 35.14421076293385, val_f1: 0.039994402774875, val_precision: 0.020411494241412215, val_recall: 0.9852276162816844\n"
     ]
    },
    {
     "name": "stderr",
     "output_type": "stream",
     "text": [
      "100%|█████████████████████████████████████████| 655/655 [00:17<00:00, 36.51it/s]\n"
     ]
    },
    {
     "name": "stdout",
     "output_type": "stream",
     "text": [
      "Epoch: 274, loss: 35.14415881906757, f1: 0.03538925899834932, precision: 0.018017152505606867, recall: 0.9884778197485072\n",
      "val_loss: 35.14421039546301, val_f1: 0.039994402774875, val_precision: 0.020411494241412215, val_recall: 0.9852276162816844\n"
     ]
    },
    {
     "name": "stderr",
     "output_type": "stream",
     "text": [
      "100%|█████████████████████████████████████████| 655/655 [00:17<00:00, 36.42it/s]\n"
     ]
    },
    {
     "name": "stdout",
     "output_type": "stream",
     "text": [
      "Epoch: 275, loss: 35.14415859193292, f1: 0.03538925899834932, precision: 0.018017152505606867, recall: 0.9884778197485072\n",
      "val_loss: 35.14420980051023, val_f1: 0.039994402774875, val_precision: 0.020411494241412215, val_recall: 0.9852276162816844\n"
     ]
    },
    {
     "name": "stderr",
     "output_type": "stream",
     "text": [
      "100%|█████████████████████████████████████████| 655/655 [00:17<00:00, 36.54it/s]\n"
     ]
    },
    {
     "name": "stdout",
     "output_type": "stream",
     "text": [
      "Epoch: 276, loss: 35.144158353150345, f1: 0.03538925899834932, precision: 0.018017152505606867, recall: 0.9884778197485072\n",
      "val_loss: 35.14420945053801, val_f1: 0.039994402774875, val_precision: 0.020411494241412215, val_recall: 0.9852276162816844\n"
     ]
    },
    {
     "name": "stderr",
     "output_type": "stream",
     "text": [
      "100%|█████████████████████████████████████████| 655/655 [00:17<00:00, 36.42it/s]\n"
     ]
    },
    {
     "name": "stdout",
     "output_type": "stream",
     "text": [
      "Epoch: 277, loss: 35.1441581260157, f1: 0.03538925899834932, precision: 0.018017152505606867, recall: 0.9884778197485072\n",
      "val_loss: 35.144209135563, val_f1: 0.039994402774875, val_precision: 0.020411494241412215, val_recall: 0.9852276162816844\n"
     ]
    },
    {
     "name": "stderr",
     "output_type": "stream",
     "text": [
      "100%|█████████████████████████████████████████| 655/655 [00:17<00:00, 36.77it/s]\n"
     ]
    },
    {
     "name": "stdout",
     "output_type": "stream",
     "text": [
      "Epoch: 278, loss: 35.14415786393726, f1: 0.03538925899834932, precision: 0.018017152505606867, recall: 0.9884778197485072\n",
      "val_loss: 35.144208803089384, val_f1: 0.039994402774875, val_precision: 0.020411494241412215, val_recall: 0.9852276162816844\n"
     ]
    },
    {
     "name": "stderr",
     "output_type": "stream",
     "text": [
      "100%|█████████████████████████████████████████| 655/655 [00:17<00:00, 36.44it/s]\n"
     ]
    },
    {
     "name": "stdout",
     "output_type": "stream",
     "text": [
      "Epoch: 279, loss: 35.14415764262658, f1: 0.03538925899834932, precision: 0.018017152505606867, recall: 0.9884778197485072\n",
      "val_loss: 35.144208505612994, val_f1: 0.039994402774875, val_precision: 0.020411494241412215, val_recall: 0.9852276162816844\n"
     ]
    },
    {
     "name": "stderr",
     "output_type": "stream",
     "text": [
      "100%|█████████████████████████████████████████| 655/655 [00:17<00:00, 36.51it/s]\n"
     ]
    },
    {
     "name": "stdout",
     "output_type": "stream",
     "text": [
      "Epoch: 280, loss: 35.14415744461176, f1: 0.03538925899834932, precision: 0.018017152505606867, recall: 0.9884778197485072\n",
      "val_loss: 35.14420796315604, val_f1: 0.039994402774875, val_precision: 0.020411494241412215, val_recall: 0.9852276162816844\n"
     ]
    },
    {
     "name": "stderr",
     "output_type": "stream",
     "text": [
      "100%|█████████████████████████████████████████| 655/655 [00:17<00:00, 36.53it/s]\n"
     ]
    },
    {
     "name": "stdout",
     "output_type": "stream",
     "text": [
      "Epoch: 281, loss: 35.14415720000522, f1: 0.03538925899834932, precision: 0.018017152505606867, recall: 0.9884778197485072\n",
      "val_loss: 35.14420752569076, val_f1: 0.039994402774875, val_precision: 0.020411494241412215, val_recall: 0.9852276162816844\n"
     ]
    },
    {
     "name": "stderr",
     "output_type": "stream",
     "text": [
      "100%|█████████████████████████████████████████| 655/655 [00:17<00:00, 36.47it/s]\n"
     ]
    },
    {
     "name": "stdout",
     "output_type": "stream",
     "text": [
      "Epoch: 282, loss: 35.14415689133506, f1: 0.03538925899834932, precision: 0.018017152505606867, recall: 0.9884778197485072\n",
      "val_loss: 35.1442071232227, val_f1: 0.039994402774875, val_precision: 0.020411494241412215, val_recall: 0.9852276162816844\n"
     ]
    },
    {
     "name": "stderr",
     "output_type": "stream",
     "text": [
      "100%|█████████████████████████████████████████| 655/655 [00:17<00:00, 36.48it/s]\n"
     ]
    },
    {
     "name": "stdout",
     "output_type": "stream",
     "text": [
      "Epoch: 283, loss: 35.14415667002438, f1: 0.03538925899834932, precision: 0.018017152505606867, recall: 0.9884778197485072\n",
      "val_loss: 35.14420682574631, val_f1: 0.039994402774875, val_precision: 0.020411494241412215, val_recall: 0.9852276162816844\n"
     ]
    },
    {
     "name": "stderr",
     "output_type": "stream",
     "text": [
      "100%|█████████████████████████████████████████| 655/655 [00:17<00:00, 36.54it/s]\n"
     ]
    },
    {
     "name": "stdout",
     "output_type": "stream",
     "text": [
      "Epoch: 284, loss: 35.14415646036163, f1: 0.03538925899834932, precision: 0.018017152505606867, recall: 0.9884778197485072\n",
      "val_loss: 35.14420623079352, val_f1: 0.039994402774875, val_precision: 0.020411494241412215, val_recall: 0.9852276162816844\n"
     ]
    },
    {
     "name": "stderr",
     "output_type": "stream",
     "text": [
      "100%|█████████████████████████████████████████| 655/655 [00:17<00:00, 36.84it/s]\n"
     ]
    },
    {
     "name": "stdout",
     "output_type": "stream",
     "text": [
      "Epoch: 285, loss: 35.14415623905094, f1: 0.03538925899834932, precision: 0.018017152505606867, recall: 0.9884778197485072\n",
      "val_loss: 35.14420568833658, val_f1: 0.039994402774875, val_precision: 0.020411494241412215, val_recall: 0.9852276162816844\n"
     ]
    },
    {
     "name": "stderr",
     "output_type": "stream",
     "text": [
      "100%|█████████████████████████████████████████| 655/655 [00:17<00:00, 36.48it/s]\n"
     ]
    },
    {
     "name": "stdout",
     "output_type": "stream",
     "text": [
      "Epoch: 286, loss: 35.14415605268405, f1: 0.03538925899834932, precision: 0.018017152505606867, recall: 0.9884778197485072\n",
      "val_loss: 35.14420535586296, val_f1: 0.039994402774875, val_precision: 0.020411494241412215, val_recall: 0.9852276162816844\n"
     ]
    },
    {
     "name": "stderr",
     "output_type": "stream",
     "text": [
      "100%|█████████████████████████████████████████| 655/655 [00:17<00:00, 36.49it/s]\n"
     ]
    },
    {
     "name": "stdout",
     "output_type": "stream",
     "text": [
      "Epoch: 287, loss: 35.14415582554941, f1: 0.03538925899834932, precision: 0.018017152505606867, recall: 0.9884778197485072\n",
      "val_loss: 35.14420500589073, val_f1: 0.039994402774875, val_precision: 0.020411494241412215, val_recall: 0.9852276162816844\n"
     ]
    },
    {
     "name": "stderr",
     "output_type": "stream",
     "text": [
      "100%|█████████████████████████████████████████| 655/655 [00:17<00:00, 36.49it/s]\n"
     ]
    },
    {
     "name": "stdout",
     "output_type": "stream",
     "text": [
      "Epoch: 288, loss: 35.14415562753459, f1: 0.03538925899834932, precision: 0.018017152505606867, recall: 0.9884778197485072\n",
      "val_loss: 35.14420465591851, val_f1: 0.039994402774875, val_precision: 0.020411494241412215, val_recall: 0.9852276162816844\n"
     ]
    },
    {
     "name": "stderr",
     "output_type": "stream",
     "text": [
      "100%|█████████████████████████████████████████| 655/655 [00:17<00:00, 36.52it/s]\n"
     ]
    },
    {
     "name": "stdout",
     "output_type": "stream",
     "text": [
      "Epoch: 289, loss: 35.14415542369581, f1: 0.03538925899834932, precision: 0.018017152505606867, recall: 0.9884778197485072\n",
      "val_loss: 35.1442043409435, val_f1: 0.039994402774875, val_precision: 0.020411494241412215, val_recall: 0.9852276162816844\n"
     ]
    },
    {
     "name": "stderr",
     "output_type": "stream",
     "text": [
      "100%|█████████████████████████████████████████| 655/655 [00:17<00:00, 36.55it/s]\n"
     ]
    },
    {
     "name": "stdout",
     "output_type": "stream",
     "text": [
      "Epoch: 290, loss: 35.14415522568098, f1: 0.03538925899834932, precision: 0.018017152505606867, recall: 0.9884778197485072\n",
      "val_loss: 35.144204008469885, val_f1: 0.039994402774875, val_precision: 0.020411494241412215, val_recall: 0.9852276162816844\n"
     ]
    },
    {
     "name": "stderr",
     "output_type": "stream",
     "text": [
      "100%|█████████████████████████████████████████| 655/655 [00:17<00:00, 37.26it/s]\n"
     ]
    },
    {
     "name": "stdout",
     "output_type": "stream",
     "text": [
      "Epoch: 291, loss: 35.1441550218422, f1: 0.03538925899834932, precision: 0.018017152505606867, recall: 0.9884778197485072\n",
      "val_loss: 35.144203553505996, val_f1: 0.039994402774875, val_precision: 0.020411494241412215, val_recall: 0.9852276162816844\n"
     ]
    },
    {
     "name": "stderr",
     "output_type": "stream",
     "text": [
      "100%|█████████████████████████████████████████| 655/655 [00:17<00:00, 36.48it/s]\n"
     ]
    },
    {
     "name": "stdout",
     "output_type": "stream",
     "text": [
      "Epoch: 292, loss: 35.14415480053152, f1: 0.03538925899834932, precision: 0.018017152505606867, recall: 0.9884778197485072\n",
      "val_loss: 35.14420329102683, val_f1: 0.039994402774875, val_precision: 0.020411494241412215, val_recall: 0.9852276162816844\n"
     ]
    },
    {
     "name": "stderr",
     "output_type": "stream",
     "text": [
      "100%|█████████████████████████████████████████| 655/655 [00:17<00:00, 36.43it/s]\n"
     ]
    },
    {
     "name": "stdout",
     "output_type": "stream",
     "text": [
      "Epoch: 293, loss: 35.1441545850448, f1: 0.03538925899834932, precision: 0.018017152505606867, recall: 0.9884778197485072\n",
      "val_loss: 35.14420292355599, val_f1: 0.039994402774875, val_precision: 0.020411494241412215, val_recall: 0.9852276162816844\n"
     ]
    },
    {
     "name": "stderr",
     "output_type": "stream",
     "text": [
      "100%|█████████████████████████████████████████| 655/655 [00:17<00:00, 36.43it/s]\n"
     ]
    },
    {
     "name": "stdout",
     "output_type": "stream",
     "text": [
      "Epoch: 294, loss: 35.144154381206015, f1: 0.03538925899834932, precision: 0.018017152505606867, recall: 0.9884778197485072\n",
      "val_loss: 35.14420252108793, val_f1: 0.039994402774875, val_precision: 0.020411494241412215, val_recall: 0.9852276162816844\n"
     ]
    },
    {
     "name": "stderr",
     "output_type": "stream",
     "text": [
      "100%|█████████████████████████████████████████| 655/655 [00:17<00:00, 36.43it/s]\n"
     ]
    },
    {
     "name": "stdout",
     "output_type": "stream",
     "text": [
      "Epoch: 295, loss: 35.14415417154326, f1: 0.03538925899834932, precision: 0.018017152505606867, recall: 0.9884778197485072\n",
      "val_loss: 35.1442021711157, val_f1: 0.039994402774875, val_precision: 0.020411494241412215, val_recall: 0.9852276162816844\n"
     ]
    },
    {
     "name": "stderr",
     "output_type": "stream",
     "text": [
      "100%|█████████████████████████████████████████| 655/655 [00:17<00:00, 36.51it/s]\n"
     ]
    },
    {
     "name": "stdout",
     "output_type": "stream",
     "text": [
      "Epoch: 296, loss: 35.14415395605655, f1: 0.03538925899834932, precision: 0.018017152505606867, recall: 0.9884778197485072\n",
      "val_loss: 35.14420161116014, val_f1: 0.039994402774875, val_precision: 0.020411494241412215, val_recall: 0.9852276162816844\n"
     ]
    },
    {
     "name": "stderr",
     "output_type": "stream",
     "text": [
      "100%|█████████████████████████████████████████| 655/655 [00:17<00:00, 36.81it/s]\n"
     ]
    },
    {
     "name": "stdout",
     "output_type": "stream",
     "text": [
      "Epoch: 297, loss: 35.14415376968966, f1: 0.03538925899834932, precision: 0.018017152505606867, recall: 0.9884778197485072\n",
      "val_loss: 35.14420110370041, val_f1: 0.039994402774875, val_precision: 0.020411494241412215, val_recall: 0.9852276162816844\n"
     ]
    },
    {
     "name": "stderr",
     "output_type": "stream",
     "text": [
      "100%|█████████████████████████████████████████| 655/655 [00:17<00:00, 36.43it/s]\n"
     ]
    },
    {
     "name": "stdout",
     "output_type": "stream",
     "text": [
      "Epoch: 298, loss: 35.14415357167484, f1: 0.03538925899834932, precision: 0.018017152505606867, recall: 0.9884778197485072\n",
      "val_loss: 35.144200753728185, val_f1: 0.039994402774875, val_precision: 0.020411494241412215, val_recall: 0.9852276162816844\n"
     ]
    },
    {
     "name": "stderr",
     "output_type": "stream",
     "text": [
      "100%|█████████████████████████████████████████| 655/655 [00:17<00:00, 36.51it/s]\n"
     ]
    },
    {
     "name": "stdout",
     "output_type": "stream",
     "text": [
      "Epoch: 299, loss: 35.144153373660025, f1: 0.03538925899834932, precision: 0.018017152505606867, recall: 0.9884778197485072\n",
      "val_loss: 35.144200456251795, val_f1: 0.039994402774875, val_precision: 0.020411494241412215, val_recall: 0.9852276162816844\n"
     ]
    },
    {
     "name": "stderr",
     "output_type": "stream",
     "text": [
      "100%|█████████████████████████████████████████| 655/655 [00:17<00:00, 36.56it/s]\n"
     ]
    },
    {
     "name": "stdout",
     "output_type": "stream",
     "text": [
      "Epoch: 300, loss: 35.14415315234934, f1: 0.03538925899834932, precision: 0.018017152505606867, recall: 0.9884778197485072\n",
      "val_loss: 35.144200053783734, val_f1: 0.039994402774875, val_precision: 0.020411494241412215, val_recall: 0.9852276162816844\n"
     ]
    },
    {
     "name": "stderr",
     "output_type": "stream",
     "text": [
      "100%|█████████████████████████████████████████| 655/655 [00:17<00:00, 36.49it/s]\n"
     ]
    },
    {
     "name": "stdout",
     "output_type": "stream",
     "text": [
      "Epoch: 301, loss: 35.14415296598245, f1: 0.03538925899834932, precision: 0.018017152505606867, recall: 0.9884778197485072\n",
      "val_loss: 35.14419973880873, val_f1: 0.039994402774875, val_precision: 0.020411494241412215, val_recall: 0.9852276162816844\n"
     ]
    },
    {
     "name": "stderr",
     "output_type": "stream",
     "text": [
      "100%|█████████████████████████████████████████| 655/655 [00:17<00:00, 36.51it/s]\n"
     ]
    },
    {
     "name": "stdout",
     "output_type": "stream",
     "text": [
      "Epoch: 302, loss: 35.14415278543953, f1: 0.03538925899834932, precision: 0.018017152505606867, recall: 0.9884778197485072\n",
      "val_loss: 35.144199283844834, val_f1: 0.039994402774875, val_precision: 0.020411494241412215, val_recall: 0.9852276162816844\n"
     ]
    },
    {
     "name": "stderr",
     "output_type": "stream",
     "text": [
      "100%|█████████████████████████████████████████| 655/655 [00:17<00:00, 36.71it/s]\n"
     ]
    },
    {
     "name": "stdout",
     "output_type": "stream",
     "text": [
      "Epoch: 303, loss: 35.144152628192465, f1: 0.03538925899834932, precision: 0.018017152505606867, recall: 0.9884778197485072\n",
      "val_loss: 35.144198986368444, val_f1: 0.039994402774875, val_precision: 0.020411494241412215, val_recall: 0.9852276162816844\n"
     ]
    },
    {
     "name": "stderr",
     "output_type": "stream",
     "text": [
      "100%|█████████████████████████████████████████| 655/655 [00:17<00:00, 36.41it/s]\n"
     ]
    },
    {
     "name": "stdout",
     "output_type": "stream",
     "text": [
      "Epoch: 304, loss: 35.14415241270575, f1: 0.03538925899834932, precision: 0.018017152505606867, recall: 0.9884778197485072\n",
      "val_loss: 35.144198723889275, val_f1: 0.039994402774875, val_precision: 0.020411494241412215, val_recall: 0.9852276162816844\n"
     ]
    },
    {
     "name": "stderr",
     "output_type": "stream",
     "text": [
      "100%|█████████████████████████████████████████| 655/655 [00:17<00:00, 36.47it/s]\n"
     ]
    },
    {
     "name": "stdout",
     "output_type": "stream",
     "text": [
      "Epoch: 305, loss: 35.144152214690926, f1: 0.03538925899834932, precision: 0.018017152505606867, recall: 0.9884778197485072\n",
      "val_loss: 35.14419842641288, val_f1: 0.039994402774875, val_precision: 0.020411494241412215, val_recall: 0.9852276162816844\n"
     ]
    },
    {
     "name": "stderr",
     "output_type": "stream",
     "text": [
      "100%|█████████████████████████████████████████| 655/655 [00:17<00:00, 36.43it/s]\n"
     ]
    },
    {
     "name": "stdout",
     "output_type": "stream",
     "text": [
      "Epoch: 306, loss: 35.144152045795934, f1: 0.03538925899834932, precision: 0.018017152505606867, recall: 0.9884778197485072\n",
      "val_loss: 35.14419812893649, val_f1: 0.039994402774875, val_precision: 0.020411494241412215, val_recall: 0.9852276162816844\n"
     ]
    },
    {
     "name": "stderr",
     "output_type": "stream",
     "text": [
      "100%|█████████████████████████████████████████| 655/655 [00:17<00:00, 36.46it/s]\n"
     ]
    },
    {
     "name": "stdout",
     "output_type": "stream",
     "text": [
      "Epoch: 307, loss: 35.144151859429044, f1: 0.03538925899834932, precision: 0.018017152505606867, recall: 0.9884778197485072\n",
      "val_loss: 35.144197848958704, val_f1: 0.039994402774875, val_precision: 0.020411494241412215, val_recall: 0.9852276162816844\n"
     ]
    },
    {
     "name": "stderr",
     "output_type": "stream",
     "text": [
      "100%|█████████████████████████████████████████| 655/655 [00:17<00:00, 36.49it/s]\n"
     ]
    },
    {
     "name": "stdout",
     "output_type": "stream",
     "text": [
      "Epoch: 308, loss: 35.144151696358016, f1: 0.03538925899834932, precision: 0.018017152505606867, recall: 0.9884778197485072\n",
      "val_loss: 35.144197621476756, val_f1: 0.039994402774875, val_precision: 0.020411494241412215, val_recall: 0.9852276162816844\n"
     ]
    },
    {
     "name": "stderr",
     "output_type": "stream",
     "text": [
      "100%|█████████████████████████████████████████| 655/655 [00:17<00:00, 36.48it/s]\n"
     ]
    },
    {
     "name": "stdout",
     "output_type": "stream",
     "text": [
      "Epoch: 309, loss: 35.14415150416716, f1: 0.03538925899834932, precision: 0.018017152505606867, recall: 0.9884778197485072\n",
      "val_loss: 35.14419695652953, val_f1: 0.039994402774875, val_precision: 0.020411494241412215, val_recall: 0.9852276162816844\n"
     ]
    },
    {
     "name": "stderr",
     "output_type": "stream",
     "text": [
      "100%|█████████████████████████████████████████| 655/655 [00:17<00:00, 36.94it/s]\n"
     ]
    },
    {
     "name": "stdout",
     "output_type": "stream",
     "text": [
      "Epoch: 310, loss: 35.14415134109613, f1: 0.03538925899834932, precision: 0.018017152505606867, recall: 0.9884778197485072\n",
      "val_loss: 35.14419669405036, val_f1: 0.039994402774875, val_precision: 0.020411494241412215, val_recall: 0.9852276162816844\n"
     ]
    },
    {
     "name": "stderr",
     "output_type": "stream",
     "text": [
      "100%|█████████████████████████████████████████| 655/655 [00:17<00:00, 36.50it/s]\n"
     ]
    },
    {
     "name": "stdout",
     "output_type": "stream",
     "text": [
      "Epoch: 311, loss: 35.144151178025105, f1: 0.03538925899834932, precision: 0.018017152505606867, recall: 0.9884778197485072\n",
      "val_loss: 35.14419643157119, val_f1: 0.039994402774875, val_precision: 0.020411494241412215, val_recall: 0.9852276162816844\n"
     ]
    },
    {
     "name": "stderr",
     "output_type": "stream",
     "text": [
      "100%|█████████████████████████████████████████| 655/655 [00:17<00:00, 36.59it/s]\n"
     ]
    },
    {
     "name": "stdout",
     "output_type": "stream",
     "text": [
      "Epoch: 312, loss: 35.14415100913011, f1: 0.03538925899834932, precision: 0.018017152505606867, recall: 0.9884778197485072\n",
      "val_loss: 35.14419615159341, val_f1: 0.039994402774875, val_precision: 0.020411494241412215, val_recall: 0.9852276162816844\n"
     ]
    },
    {
     "name": "stderr",
     "output_type": "stream",
     "text": [
      "100%|█████████████████████████████████████████| 655/655 [00:18<00:00, 36.38it/s]\n"
     ]
    },
    {
     "name": "stdout",
     "output_type": "stream",
     "text": [
      "Epoch: 313, loss: 35.144150851883055, f1: 0.03538925899834932, precision: 0.018017152505606867, recall: 0.9884778197485072\n",
      "val_loss: 35.14419588911424, val_f1: 0.039994402774875, val_precision: 0.020411494241412215, val_recall: 0.9852276162816844\n"
     ]
    },
    {
     "name": "stderr",
     "output_type": "stream",
     "text": [
      "100%|█████████████████████████████████████████| 655/655 [00:17<00:00, 36.49it/s]\n"
     ]
    },
    {
     "name": "stdout",
     "output_type": "stream",
     "text": [
      "Epoch: 314, loss: 35.14415067716409, f1: 0.03538925899834932, precision: 0.018017152505606867, recall: 0.9884778197485072\n",
      "val_loss: 35.14419557413924, val_f1: 0.039994402774875, val_precision: 0.020411494241412215, val_recall: 0.9852276162816844\n"
     ]
    },
    {
     "name": "stderr",
     "output_type": "stream",
     "text": [
      "100%|█████████████████████████████████████████| 655/655 [00:17<00:00, 36.52it/s]\n"
     ]
    },
    {
     "name": "stdout",
     "output_type": "stream",
     "text": [
      "Epoch: 315, loss: 35.14415036849393, f1: 0.03538925899834932, precision: 0.018017152505606867, recall: 0.9884778197485072\n",
      "val_loss: 35.144195189169785, val_f1: 0.039994402774875, val_precision: 0.020411494241412215, val_recall: 0.9852276162816844\n"
     ]
    },
    {
     "name": "stderr",
     "output_type": "stream",
     "text": [
      "100%|█████████████████████████████████████████| 655/655 [00:17<00:00, 37.24it/s]\n"
     ]
    },
    {
     "name": "stdout",
     "output_type": "stream",
     "text": [
      "Epoch: 316, loss: 35.144150193774976, f1: 0.03538925899834932, precision: 0.018017152505606867, recall: 0.9884778197485072\n",
      "val_loss: 35.144194856696174, val_f1: 0.039994402774875, val_precision: 0.020411494241412215, val_recall: 0.9852276162816844\n"
     ]
    },
    {
     "name": "stderr",
     "output_type": "stream",
     "text": [
      "100%|█████████████████████████████████████████| 655/655 [00:17<00:00, 36.59it/s]\n"
     ]
    },
    {
     "name": "stdout",
     "output_type": "stream",
     "text": [
      "Epoch: 317, loss: 35.14414995499239, f1: 0.03538925899834932, precision: 0.018017152505606867, recall: 0.9884778197485072\n",
      "val_loss: 35.14419461171561, val_f1: 0.039994402774875, val_precision: 0.020411494241412215, val_recall: 0.9852276162816844\n"
     ]
    },
    {
     "name": "stderr",
     "output_type": "stream",
     "text": [
      "100%|█████████████████████████████████████████| 655/655 [00:17<00:00, 36.46it/s]\n"
     ]
    },
    {
     "name": "stdout",
     "output_type": "stream",
     "text": [
      "Epoch: 318, loss: 35.144149774449474, f1: 0.03538925899834932, precision: 0.018017152505606867, recall: 0.9884778197485072\n",
      "val_loss: 35.14419424424478, val_f1: 0.039994402774875, val_precision: 0.020411494241412215, val_recall: 0.9852276162816844\n"
     ]
    },
    {
     "name": "stderr",
     "output_type": "stream",
     "text": [
      "100%|█████████████████████████████████████████| 655/655 [00:17<00:00, 36.51it/s]\n"
     ]
    },
    {
     "name": "stdout",
     "output_type": "stream",
     "text": [
      "Epoch: 319, loss: 35.14414962302637, f1: 0.03538925899834932, precision: 0.018017152505606867, recall: 0.9884778197485072\n",
      "val_loss: 35.14419405176005, val_f1: 0.039994402774875, val_precision: 0.020411494241412215, val_recall: 0.9852276162816844\n"
     ]
    },
    {
     "name": "stderr",
     "output_type": "stream",
     "text": [
      "100%|█████████████████████████████████████████| 655/655 [00:18<00:00, 36.35it/s]\n"
     ]
    },
    {
     "name": "stdout",
     "output_type": "stream",
     "text": [
      "Epoch: 320, loss: 35.14414945413138, f1: 0.03538925899834932, precision: 0.018017152505606867, recall: 0.9884778197485072\n",
      "val_loss: 35.14419377178227, val_f1: 0.039994402774875, val_precision: 0.020411494241412215, val_recall: 0.9852276162816844\n"
     ]
    },
    {
     "name": "stderr",
     "output_type": "stream",
     "text": [
      "100%|█████████████████████████████████████████| 655/655 [00:17<00:00, 36.41it/s]\n"
     ]
    },
    {
     "name": "stdout",
     "output_type": "stream",
     "text": [
      "Epoch: 321, loss: 35.14414929106035, f1: 0.03538925899834932, precision: 0.018017152505606867, recall: 0.9884778197485072\n",
      "val_loss: 35.144193526801715, val_f1: 0.039994402774875, val_precision: 0.020411494241412215, val_recall: 0.9852276162816844\n"
     ]
    },
    {
     "name": "stderr",
     "output_type": "stream",
     "text": [
      "100%|█████████████████████████████████████████| 655/655 [00:17<00:00, 36.94it/s]\n"
     ]
    },
    {
     "name": "stdout",
     "output_type": "stream",
     "text": [
      "Epoch: 322, loss: 35.14414910469346, f1: 0.03538925899834932, precision: 0.018017152505606867, recall: 0.9884778197485072\n",
      "val_loss: 35.144193124333654, val_f1: 0.039994402774875, val_precision: 0.020411494241412215, val_recall: 0.9852276162816844\n"
     ]
    },
    {
     "name": "stderr",
     "output_type": "stream",
     "text": [
      "100%|█████████████████████████████████████████| 655/655 [00:17<00:00, 36.58it/s]\n"
     ]
    },
    {
     "name": "stdout",
     "output_type": "stream",
     "text": [
      "Epoch: 323, loss: 35.144148964918294, f1: 0.03538925899834932, precision: 0.018017152505606867, recall: 0.9884778197485072\n",
      "val_loss: 35.14419263437254, val_f1: 0.039994402774875, val_precision: 0.020411494241412215, val_recall: 0.9852276162816844\n"
     ]
    },
    {
     "name": "stderr",
     "output_type": "stream",
     "text": [
      "100%|█████████████████████████████████████████| 655/655 [00:17<00:00, 36.53it/s]\n"
     ]
    },
    {
     "name": "stdout",
     "output_type": "stream",
     "text": [
      "Epoch: 324, loss: 35.14414881931916, f1: 0.03538925899834932, precision: 0.018017152505606867, recall: 0.9884778197485072\n",
      "val_loss: 35.14419244188781, val_f1: 0.039994402774875, val_precision: 0.020411494241412215, val_recall: 0.9852276162816844\n"
     ]
    },
    {
     "name": "stderr",
     "output_type": "stream",
     "text": [
      "100%|█████████████████████████████████████████| 655/655 [00:18<00:00, 36.38it/s]\n"
     ]
    },
    {
     "name": "stdout",
     "output_type": "stream",
     "text": [
      "Epoch: 325, loss: 35.144148574712624, f1: 0.03538925899834932, precision: 0.018017152505606867, recall: 0.9884778197485072\n",
      "val_loss: 35.144192126912806, val_f1: 0.039994402774875, val_precision: 0.020411494241412215, val_recall: 0.9852276162816844\n"
     ]
    },
    {
     "name": "stderr",
     "output_type": "stream",
     "text": [
      "100%|█████████████████████████████████████████| 655/655 [00:17<00:00, 36.57it/s]\n"
     ]
    },
    {
     "name": "stdout",
     "output_type": "stream",
     "text": [
      "Epoch: 326, loss: 35.144148388345734, f1: 0.03538925899834932, precision: 0.018017152505606867, recall: 0.9884778197485072\n",
      "val_loss: 35.14419184693503, val_f1: 0.039994402774875, val_precision: 0.020411494241412215, val_recall: 0.9852276162816844\n"
     ]
    },
    {
     "name": "stderr",
     "output_type": "stream",
     "text": [
      "100%|█████████████████████████████████████████| 655/655 [00:17<00:00, 36.52it/s]\n"
     ]
    },
    {
     "name": "stdout",
     "output_type": "stream",
     "text": [
      "Epoch: 327, loss: 35.14414823109867, f1: 0.03538925899834932, precision: 0.018017152505606867, recall: 0.9884778197485072\n",
      "val_loss: 35.14419158445586, val_f1: 0.039994402774875, val_precision: 0.020411494241412215, val_recall: 0.9852276162816844\n"
     ]
    },
    {
     "name": "stderr",
     "output_type": "stream",
     "text": [
      "100%|█████████████████████████████████████████| 655/655 [00:17<00:00, 36.69it/s]\n"
     ]
    },
    {
     "name": "stdout",
     "output_type": "stream",
     "text": [
      "Epoch: 328, loss: 35.14414807385161, f1: 0.03538925899834932, precision: 0.018017152505606867, recall: 0.9884778197485072\n",
      "val_loss: 35.14419135697391, val_f1: 0.039994402774875, val_precision: 0.020411494241412215, val_recall: 0.9852276162816844\n"
     ]
    },
    {
     "name": "stderr",
     "output_type": "stream",
     "text": [
      "100%|█████████████████████████████████████████| 655/655 [00:17<00:00, 36.59it/s]\n"
     ]
    },
    {
     "name": "stdout",
     "output_type": "stream",
     "text": [
      "Epoch: 329, loss: 35.14414796319627, f1: 0.03538925899834932, precision: 0.018017152505606867, recall: 0.9884778197485072\n",
      "val_loss: 35.14419111199335, val_f1: 0.039994402774875, val_precision: 0.020411494241412215, val_recall: 0.9852276162816844\n"
     ]
    },
    {
     "name": "stderr",
     "output_type": "stream",
     "text": [
      "100%|█████████████████████████████████████████| 655/655 [00:17<00:00, 36.43it/s]\n"
     ]
    },
    {
     "name": "stdout",
     "output_type": "stream",
     "text": [
      "Epoch: 330, loss: 35.1441478059492, f1: 0.03538925899834932, precision: 0.018017152505606867, recall: 0.9884778197485072\n",
      "val_loss: 35.144190727023904, val_f1: 0.039994402774875, val_precision: 0.020411494241412215, val_recall: 0.9852276162816844\n"
     ]
    },
    {
     "name": "stderr",
     "output_type": "stream",
     "text": [
      "100%|█████████████████████████████████████████| 655/655 [00:17<00:00, 36.60it/s]\n"
     ]
    },
    {
     "name": "stdout",
     "output_type": "stream",
     "text": [
      "Epoch: 331, loss: 35.14414766035007, f1: 0.03538925899834932, precision: 0.018017152505606867, recall: 0.9884778197485072\n",
      "val_loss: 35.144190499541956, val_f1: 0.039994402774875, val_precision: 0.020411494241412215, val_recall: 0.9852276162816844\n"
     ]
    },
    {
     "name": "stderr",
     "output_type": "stream",
     "text": [
      "100%|█████████████████████████████████████████| 655/655 [00:17<00:00, 36.48it/s]\n"
     ]
    },
    {
     "name": "stdout",
     "output_type": "stream",
     "text": [
      "Epoch: 332, loss: 35.14414750310301, f1: 0.03538925899834932, precision: 0.018017152505606867, recall: 0.9884778197485072\n",
      "val_loss: 35.14419028955862, val_f1: 0.039994402774875, val_precision: 0.020411494241412215, val_recall: 0.9852276162816844\n"
     ]
    },
    {
     "name": "stderr",
     "output_type": "stream",
     "text": [
      "100%|█████████████████████████████████████████| 655/655 [00:17<00:00, 36.52it/s]\n"
     ]
    },
    {
     "name": "stdout",
     "output_type": "stream",
     "text": [
      "Epoch: 333, loss: 35.14414734003198, f1: 0.03538925899834932, precision: 0.018017152505606867, recall: 0.9884778197485072\n",
      "val_loss: 35.14419004457806, val_f1: 0.039994402774875, val_precision: 0.020411494241412215, val_recall: 0.9852276162816844\n"
     ]
    },
    {
     "name": "stderr",
     "output_type": "stream",
     "text": [
      "100%|█████████████████████████████████████████| 655/655 [00:17<00:00, 36.62it/s]\n"
     ]
    },
    {
     "name": "stdout",
     "output_type": "stream",
     "text": [
      "Epoch: 334, loss: 35.14414719443285, f1: 0.03538925899834932, precision: 0.018017152505606867, recall: 0.9884778197485072\n",
      "val_loss: 35.144189799597505, val_f1: 0.039994402774875, val_precision: 0.020411494241412215, val_recall: 0.9852276162816844\n"
     ]
    },
    {
     "name": "stderr",
     "output_type": "stream",
     "text": [
      "100%|█████████████████████████████████████████| 655/655 [00:17<00:00, 36.97it/s]\n"
     ]
    },
    {
     "name": "stdout",
     "output_type": "stream",
     "text": [
      "Epoch: 335, loss: 35.14414701388993, f1: 0.03538925899834932, precision: 0.018017152505606867, recall: 0.9884778197485072\n",
      "val_loss: 35.14418951961972, val_f1: 0.039994402774875, val_precision: 0.020411494241412215, val_recall: 0.9852276162816844\n"
     ]
    },
    {
     "name": "stderr",
     "output_type": "stream",
     "text": [
      "100%|█████████████████████████████████████████| 655/655 [00:17<00:00, 36.50it/s]\n"
     ]
    },
    {
     "name": "stdout",
     "output_type": "stream",
     "text": [
      "Epoch: 336, loss: 35.14414687411476, f1: 0.03538925899834932, precision: 0.018017152505606867, recall: 0.9884778197485072\n",
      "val_loss: 35.14418930963639, val_f1: 0.039994402774875, val_precision: 0.020411494241412215, val_recall: 0.9852276162816844\n"
     ]
    },
    {
     "name": "stderr",
     "output_type": "stream",
     "text": [
      "100%|█████████████████████████████████████████| 655/655 [00:17<00:00, 36.47it/s]\n"
     ]
    },
    {
     "name": "stdout",
     "output_type": "stream",
     "text": [
      "Epoch: 337, loss: 35.1441466993958, f1: 0.03538925899834932, precision: 0.018017152505606867, recall: 0.9884778197485072\n",
      "val_loss: 35.14418890716833, val_f1: 0.039994402774875, val_precision: 0.020411494241412215, val_recall: 0.9852276162816844\n"
     ]
    },
    {
     "name": "stderr",
     "output_type": "stream",
     "text": [
      "100%|█████████████████████████████████████████| 655/655 [00:17<00:00, 36.55it/s]\n"
     ]
    },
    {
     "name": "stdout",
     "output_type": "stream",
     "text": [
      "Epoch: 338, loss: 35.144146588740455, f1: 0.03538925899834932, precision: 0.018017152505606867, recall: 0.9884778197485072\n",
      "val_loss: 35.14418867968638, val_f1: 0.039994402774875, val_precision: 0.020411494241412215, val_recall: 0.9852276162816844\n"
     ]
    },
    {
     "name": "stderr",
     "output_type": "stream",
     "text": [
      "100%|█████████████████████████████████████████| 655/655 [00:17<00:00, 36.49it/s]\n"
     ]
    },
    {
     "name": "stdout",
     "output_type": "stream",
     "text": [
      "Epoch: 339, loss: 35.1441464140215, f1: 0.03538925899834932, precision: 0.018017152505606867, recall: 0.9884778197485072\n",
      "val_loss: 35.14418808473359, val_f1: 0.039994402774875, val_precision: 0.020411494241412215, val_recall: 0.9852276162816844\n"
     ]
    },
    {
     "name": "stderr",
     "output_type": "stream",
     "text": [
      "100%|█████████████████████████████████████████| 655/655 [00:17<00:00, 36.47it/s]\n"
     ]
    },
    {
     "name": "stdout",
     "output_type": "stream",
     "text": [
      "Epoch: 340, loss: 35.14414627424633, f1: 0.03538925899834932, precision: 0.018017152505606867, recall: 0.9884778197485072\n",
      "val_loss: 35.14418787475026, val_f1: 0.039994402774875, val_precision: 0.020411494241412215, val_recall: 0.9852276162816844\n"
     ]
    },
    {
     "name": "stderr",
     "output_type": "stream",
     "text": [
      "100%|█████████████████████████████████████████| 655/655 [00:17<00:00, 37.18it/s]\n"
     ]
    },
    {
     "name": "stdout",
     "output_type": "stream",
     "text": [
      "Epoch: 341, loss: 35.14414612282324, f1: 0.03538925899834932, precision: 0.018017152505606867, recall: 0.9884778197485072\n",
      "val_loss: 35.14418764726831, val_f1: 0.039994402774875, val_precision: 0.020411494241412215, val_recall: 0.9852276162816844\n"
     ]
    },
    {
     "name": "stderr",
     "output_type": "stream",
     "text": [
      "100%|█████████████████████████████████████████| 655/655 [00:17<00:00, 36.57it/s]\n"
     ]
    },
    {
     "name": "stdout",
     "output_type": "stream",
     "text": [
      "Epoch: 342, loss: 35.1441459772241, f1: 0.03538925899834932, precision: 0.018017152505606867, recall: 0.9884778197485072\n",
      "val_loss: 35.144187402287756, val_f1: 0.039994402774875, val_precision: 0.020411494241412215, val_recall: 0.9852276162816844\n"
     ]
    },
    {
     "name": "stderr",
     "output_type": "stream",
     "text": [
      "100%|█████████████████████████████████████████| 655/655 [00:17<00:00, 36.50it/s]\n"
     ]
    },
    {
     "name": "stdout",
     "output_type": "stream",
     "text": [
      "Epoch: 343, loss: 35.14414583162497, f1: 0.03538925899834932, precision: 0.018017152505606867, recall: 0.9884778197485072\n",
      "val_loss: 35.14418720980303, val_f1: 0.039994402774875, val_precision: 0.020411494241412215, val_recall: 0.9852276162816844\n"
     ]
    },
    {
     "name": "stderr",
     "output_type": "stream",
     "text": [
      "100%|█████████████████████████████████████████| 655/655 [00:17<00:00, 36.63it/s]\n"
     ]
    },
    {
     "name": "stdout",
     "output_type": "stream",
     "text": [
      "Epoch: 344, loss: 35.14414569767377, f1: 0.03538925899834932, precision: 0.018017152505606867, recall: 0.9884778197485072\n",
      "val_loss: 35.14418701731831, val_f1: 0.039994402774875, val_precision: 0.020411494241412215, val_recall: 0.9852276162816844\n"
     ]
    },
    {
     "name": "stderr",
     "output_type": "stream",
     "text": [
      "100%|█████████████████████████████████████████| 655/655 [00:17<00:00, 36.50it/s]\n"
     ]
    },
    {
     "name": "stdout",
     "output_type": "stream",
     "text": [
      "Epoch: 345, loss: 35.144145581194465, f1: 0.03538925899834932, precision: 0.018017152505606867, recall: 0.9884778197485072\n",
      "val_loss: 35.14418652735719, val_f1: 0.039994402774875, val_precision: 0.020411494241412215, val_recall: 0.9852276162816844\n"
     ]
    },
    {
     "name": "stderr",
     "output_type": "stream",
     "text": [
      "100%|█████████████████████████████████████████| 655/655 [00:17<00:00, 36.52it/s]\n"
     ]
    },
    {
     "name": "stdout",
     "output_type": "stream",
     "text": [
      "Epoch: 346, loss: 35.14414543559533, f1: 0.03538925899834932, precision: 0.018017152505606867, recall: 0.9884778197485072\n",
      "val_loss: 35.14418631737385, val_f1: 0.039994402774875, val_precision: 0.020411494241412215, val_recall: 0.9852276162816844\n"
     ]
    },
    {
     "name": "stderr",
     "output_type": "stream",
     "text": [
      "100%|█████████████████████████████████████████| 655/655 [00:17<00:00, 36.83it/s]\n"
     ]
    },
    {
     "name": "stdout",
     "output_type": "stream",
     "text": [
      "Epoch: 347, loss: 35.14414529582017, f1: 0.03538925899834932, precision: 0.018017152505606867, recall: 0.9884778197485072\n",
      "val_loss: 35.14418612488913, val_f1: 0.039994402774875, val_precision: 0.020411494241412215, val_recall: 0.9852276162816844\n"
     ]
    },
    {
     "name": "stderr",
     "output_type": "stream",
     "text": [
      "100%|█████████████████████████████████████████| 655/655 [00:17<00:00, 36.56it/s]\n"
     ]
    },
    {
     "name": "stdout",
     "output_type": "stream",
     "text": [
      "Epoch: 348, loss: 35.144145167692926, f1: 0.03538925899834932, precision: 0.018017152505606867, recall: 0.9884778197485072\n",
      "val_loss: 35.144185932404405, val_f1: 0.039994402774875, val_precision: 0.020411494241412215, val_recall: 0.9852276162816844\n"
     ]
    },
    {
     "name": "stderr",
     "output_type": "stream",
     "text": [
      "100%|█████████████████████████████████████████| 655/655 [00:17<00:00, 36.54it/s]\n"
     ]
    },
    {
     "name": "stdout",
     "output_type": "stream",
     "text": [
      "Epoch: 349, loss: 35.14414503956569, f1: 0.03538925899834932, precision: 0.018017152505606867, recall: 0.9884778197485072\n",
      "val_loss: 35.14418565242662, val_f1: 0.039994402774875, val_precision: 0.020411494241412215, val_recall: 0.9852276162816844\n"
     ]
    },
    {
     "name": "stderr",
     "output_type": "stream",
     "text": [
      "100%|█████████████████████████████████████████| 655/655 [00:17<00:00, 36.44it/s]\n"
     ]
    },
    {
     "name": "stdout",
     "output_type": "stream",
     "text": [
      "Epoch: 350, loss: 35.144144899790525, f1: 0.03538925899834932, precision: 0.018017152505606867, recall: 0.9884778197485072\n",
      "val_loss: 35.14418542494467, val_f1: 0.039994402774875, val_precision: 0.020411494241412215, val_recall: 0.9852276162816844\n"
     ]
    },
    {
     "name": "stderr",
     "output_type": "stream",
     "text": [
      "100%|█████████████████████████████████████████| 655/655 [00:17<00:00, 36.52it/s]\n"
     ]
    },
    {
     "name": "stdout",
     "output_type": "stream",
     "text": [
      "Epoch: 351, loss: 35.144144777487256, f1: 0.03538925899834932, precision: 0.018017152505606867, recall: 0.9884778197485072\n",
      "val_loss: 35.14418524995856, val_f1: 0.039994402774875, val_precision: 0.020411494241412215, val_recall: 0.9852276162816844\n"
     ]
    },
    {
     "name": "stderr",
     "output_type": "stream",
     "text": [
      "100%|█████████████████████████████████████████| 655/655 [00:17<00:00, 36.44it/s]\n"
     ]
    },
    {
     "name": "stdout",
     "output_type": "stream",
     "text": [
      "Epoch: 352, loss: 35.14414465518398, f1: 0.03538925899834932, precision: 0.018017152505606867, recall: 0.9884778197485072\n",
      "val_loss: 35.14418509247106, val_f1: 0.039994402774875, val_precision: 0.020411494241412215, val_recall: 0.9852276162816844\n"
     ]
    },
    {
     "name": "stderr",
     "output_type": "stream",
     "text": [
      "100%|█████████████████████████████████████████| 655/655 [00:17<00:00, 36.72it/s]\n"
     ]
    },
    {
     "name": "stdout",
     "output_type": "stream",
     "text": [
      "Epoch: 353, loss: 35.14414453870467, f1: 0.03538925899834932, precision: 0.018017152505606867, recall: 0.9884778197485072\n",
      "val_loss: 35.144184864989114, val_f1: 0.039994402774875, val_precision: 0.020411494241412215, val_recall: 0.9852276162816844\n"
     ]
    },
    {
     "name": "stderr",
     "output_type": "stream",
     "text": [
      "100%|█████████████████████████████████████████| 655/655 [00:17<00:00, 36.72it/s]\n"
     ]
    },
    {
     "name": "stdout",
     "output_type": "stream",
     "text": [
      "Epoch: 354, loss: 35.144144404753476, f1: 0.03538925899834932, precision: 0.018017152505606867, recall: 0.9884778197485072\n",
      "val_loss: 35.14418446252105, val_f1: 0.039994402774875, val_precision: 0.020411494241412215, val_recall: 0.9852276162816844\n"
     ]
    },
    {
     "name": "stderr",
     "output_type": "stream",
     "text": [
      "100%|█████████████████████████████████████████| 655/655 [00:17<00:00, 36.43it/s]\n"
     ]
    },
    {
     "name": "stdout",
     "output_type": "stream",
     "text": [
      "Epoch: 355, loss: 35.14414426497831, f1: 0.03538925899834932, precision: 0.018017152505606867, recall: 0.9884778197485072\n",
      "val_loss: 35.14418406005299, val_f1: 0.039994402774875, val_precision: 0.020411494241412215, val_recall: 0.9852276162816844\n"
     ]
    },
    {
     "name": "stderr",
     "output_type": "stream",
     "text": [
      "100%|█████████████████████████████████████████| 655/655 [00:17<00:00, 36.51it/s]\n"
     ]
    },
    {
     "name": "stdout",
     "output_type": "stream",
     "text": [
      "Epoch: 356, loss: 35.144144148499, f1: 0.03538925899834932, precision: 0.018017152505606867, recall: 0.9884778197485072\n",
      "val_loss: 35.144183832571045, val_f1: 0.039994402774875, val_precision: 0.020411494241412215, val_recall: 0.9852276162816844\n"
     ]
    },
    {
     "name": "stderr",
     "output_type": "stream",
     "text": [
      "100%|█████████████████████████████████████████| 655/655 [00:17<00:00, 36.52it/s]\n"
     ]
    },
    {
     "name": "stdout",
     "output_type": "stream",
     "text": [
      "Epoch: 357, loss: 35.14414400289987, f1: 0.03538925899834932, precision: 0.018017152505606867, recall: 0.9884778197485072\n",
      "val_loss: 35.144183640086325, val_f1: 0.039994402774875, val_precision: 0.020411494241412215, val_recall: 0.9852276162816844\n"
     ]
    },
    {
     "name": "stderr",
     "output_type": "stream",
     "text": [
      "100%|█████████████████████████████████████████| 655/655 [00:17<00:00, 36.55it/s]\n"
     ]
    },
    {
     "name": "stdout",
     "output_type": "stream",
     "text": [
      "Epoch: 358, loss: 35.14414387477263, f1: 0.03538925899834932, precision: 0.018017152505606867, recall: 0.9884778197485072\n",
      "val_loss: 35.144183430102984, val_f1: 0.039994402774875, val_precision: 0.020411494241412215, val_recall: 0.9852276162816844\n"
     ]
    },
    {
     "name": "stderr",
     "output_type": "stream",
     "text": [
      "100%|█████████████████████████████████████████| 655/655 [00:17<00:00, 36.69it/s]\n"
     ]
    },
    {
     "name": "stdout",
     "output_type": "stream",
     "text": [
      "Epoch: 359, loss: 35.14414361851816, f1: 0.03538925899834932, precision: 0.018017152505606867, recall: 0.9884778197485072\n",
      "val_loss: 35.14418330761271, val_f1: 0.039994402774875, val_precision: 0.020411494241412215, val_recall: 0.9852276162816844\n"
     ]
    },
    {
     "name": "stderr",
     "output_type": "stream",
     "text": [
      "100%|█████████████████████████████████████████| 655/655 [00:17<00:00, 37.04it/s]\n"
     ]
    },
    {
     "name": "stdout",
     "output_type": "stream",
     "text": [
      "Epoch: 360, loss: 35.14414350203885, f1: 0.03538925899834932, precision: 0.018017152505606867, recall: 0.9884778197485072\n",
      "val_loss: 35.14418309762937, val_f1: 0.039994402774875, val_precision: 0.020411494241412215, val_recall: 0.9852276162816844\n"
     ]
    },
    {
     "name": "stderr",
     "output_type": "stream",
     "text": [
      "100%|█████████████████████████████████████████| 655/655 [00:17<00:00, 36.48it/s]\n"
     ]
    },
    {
     "name": "stdout",
     "output_type": "stream",
     "text": [
      "Epoch: 361, loss: 35.144143362263684, f1: 0.03538925899834932, precision: 0.018017152505606867, recall: 0.9884778197485072\n",
      "val_loss: 35.14418285264881, val_f1: 0.039994402774875, val_precision: 0.020411494241412215, val_recall: 0.9852276162816844\n"
     ]
    },
    {
     "name": "stderr",
     "output_type": "stream",
     "text": [
      "100%|█████████████████████████████████████████| 655/655 [00:17<00:00, 36.53it/s]\n"
     ]
    },
    {
     "name": "stdout",
     "output_type": "stream",
     "text": [
      "Epoch: 362, loss: 35.14414326908024, f1: 0.03538925899834932, precision: 0.018017152505606867, recall: 0.9884778197485072\n",
      "val_loss: 35.1441825201752, val_f1: 0.039994402774875, val_precision: 0.020411494241412215, val_recall: 0.9852276162816844\n"
     ]
    },
    {
     "name": "stderr",
     "output_type": "stream",
     "text": [
      "100%|█████████████████████████████████████████| 655/655 [00:18<00:00, 36.39it/s]\n"
     ]
    },
    {
     "name": "stdout",
     "output_type": "stream",
     "text": [
      "Epoch: 363, loss: 35.14414312930508, f1: 0.03538925899834932, precision: 0.018017152505606867, recall: 0.9884778197485072\n",
      "val_loss: 35.14418227519464, val_f1: 0.039994402774875, val_precision: 0.020411494241412215, val_recall: 0.9852276162816844\n"
     ]
    },
    {
     "name": "stderr",
     "output_type": "stream",
     "text": [
      "100%|█████████████████████████████████████████| 655/655 [00:17<00:00, 36.43it/s]\n"
     ]
    },
    {
     "name": "stdout",
     "output_type": "stream",
     "text": [
      "Epoch: 364, loss: 35.14414296041008, f1: 0.03538925899834932, precision: 0.018017152505606867, recall: 0.9884778197485072\n",
      "val_loss: 35.144182100208525, val_f1: 0.039994402774875, val_precision: 0.020411494241412215, val_recall: 0.9852276162816844\n"
     ]
    },
    {
     "name": "stderr",
     "output_type": "stream",
     "text": [
      "100%|█████████████████████████████████████████| 655/655 [00:17<00:00, 36.48it/s]\n"
     ]
    },
    {
     "name": "stdout",
     "output_type": "stream",
     "text": [
      "Epoch: 365, loss: 35.14414284393077, f1: 0.03538925899834932, precision: 0.018017152505606867, recall: 0.9884778197485072\n",
      "val_loss: 35.144181907723805, val_f1: 0.039994402774875, val_precision: 0.020411494241412215, val_recall: 0.9852276162816844\n"
     ]
    },
    {
     "name": "stderr",
     "output_type": "stream",
     "text": [
      "100%|█████████████████████████████████████████| 655/655 [00:17<00:00, 37.06it/s]\n"
     ]
    },
    {
     "name": "stdout",
     "output_type": "stream",
     "text": [
      "Epoch: 366, loss: 35.1441427216275, f1: 0.03538925899834932, precision: 0.018017152505606867, recall: 0.9884778197485072\n",
      "val_loss: 35.1441817502363, val_f1: 0.039994402774875, val_precision: 0.020411494241412215, val_recall: 0.9852276162816844\n"
     ]
    },
    {
     "name": "stderr",
     "output_type": "stream",
     "text": [
      "100%|█████████████████████████████████████████| 655/655 [00:17<00:00, 36.63it/s]\n"
     ]
    },
    {
     "name": "stdout",
     "output_type": "stream",
     "text": [
      "Epoch: 367, loss: 35.144142541084584, f1: 0.03538925899834932, precision: 0.018017152505606867, recall: 0.9884778197485072\n",
      "val_loss: 35.14418152275435, val_f1: 0.039994402774875, val_precision: 0.020411494241412215, val_recall: 0.9852276162816844\n"
     ]
    },
    {
     "name": "stderr",
     "output_type": "stream",
     "text": [
      "100%|█████████████████████████████████████████| 655/655 [00:17<00:00, 36.54it/s]\n"
     ]
    },
    {
     "name": "stdout",
     "output_type": "stream",
     "text": [
      "Epoch: 368, loss: 35.14414241295734, f1: 0.03538925899834932, precision: 0.018017152505606867, recall: 0.9884778197485072\n",
      "val_loss: 35.14418134776824, val_f1: 0.039994402774875, val_precision: 0.020411494241412215, val_recall: 0.9852276162816844\n"
     ]
    },
    {
     "name": "stderr",
     "output_type": "stream",
     "text": [
      "100%|█████████████████████████████████████████| 655/655 [00:17<00:00, 36.56it/s]\n"
     ]
    },
    {
     "name": "stdout",
     "output_type": "stream",
     "text": [
      "Epoch: 369, loss: 35.14414226153425, f1: 0.03538925899834932, precision: 0.018017152505606867, recall: 0.9884778197485072\n",
      "val_loss: 35.14418115528352, val_f1: 0.039994402774875, val_precision: 0.020411494241412215, val_recall: 0.9852276162816844\n"
     ]
    },
    {
     "name": "stderr",
     "output_type": "stream",
     "text": [
      "100%|█████████████████████████████████████████| 655/655 [00:17<00:00, 36.44it/s]\n"
     ]
    },
    {
     "name": "stdout",
     "output_type": "stream",
     "text": [
      "Epoch: 370, loss: 35.14414215670287, f1: 0.03538925899834932, precision: 0.018017152505606867, recall: 0.9884778197485072\n",
      "val_loss: 35.14418099779601, val_f1: 0.039994402774875, val_precision: 0.020411494241412215, val_recall: 0.9852276162816844\n"
     ]
    },
    {
     "name": "stderr",
     "output_type": "stream",
     "text": [
      "100%|█████████████████████████████████████████| 655/655 [00:17<00:00, 36.58it/s]\n"
     ]
    },
    {
     "name": "stdout",
     "output_type": "stream",
     "text": [
      "Epoch: 371, loss: 35.14414202857564, f1: 0.03538925899834932, precision: 0.018017152505606867, recall: 0.9884778197485072\n",
      "val_loss: 35.1441808228099, val_f1: 0.039994402774875, val_precision: 0.020411494241412215, val_recall: 0.9852276162816844\n"
     ]
    },
    {
     "name": "stderr",
     "output_type": "stream",
     "text": [
      "100%|█████████████████████████████████████████| 655/655 [00:17<00:00, 36.72it/s]\n"
     ]
    },
    {
     "name": "stdout",
     "output_type": "stream",
     "text": [
      "Epoch: 372, loss: 35.14414186550461, f1: 0.03538925899834932, precision: 0.018017152505606867, recall: 0.9884778197485072\n",
      "val_loss: 35.14418024535573, val_f1: 0.039994402774875, val_precision: 0.020411494241412215, val_recall: 0.9852276162816844\n"
     ]
    },
    {
     "name": "stderr",
     "output_type": "stream",
     "text": [
      "100%|█████████████████████████████████████████| 655/655 [00:17<00:00, 36.50it/s]\n"
     ]
    },
    {
     "name": "stdout",
     "output_type": "stream",
     "text": [
      "Epoch: 373, loss: 35.144141778145126, f1: 0.03538925899834932, precision: 0.018017152505606867, recall: 0.9884778197485072\n",
      "val_loss: 35.144180070369615, val_f1: 0.039994402774875, val_precision: 0.020411494241412215, val_recall: 0.9852276162816844\n"
     ]
    },
    {
     "name": "stderr",
     "output_type": "stream",
     "text": [
      "100%|█████████████████████████████████████████| 655/655 [00:17<00:00, 36.56it/s]\n"
     ]
    },
    {
     "name": "stdout",
     "output_type": "stream",
     "text": [
      "Epoch: 374, loss: 35.14414166166582, f1: 0.03538925899834932, precision: 0.018017152505606867, recall: 0.9884778197485072\n",
      "val_loss: 35.144179912882116, val_f1: 0.039994402774875, val_precision: 0.020411494241412215, val_recall: 0.9852276162816844\n"
     ]
    },
    {
     "name": "stderr",
     "output_type": "stream",
     "text": [
      "100%|█████████████████████████████████████████| 655/655 [00:17<00:00, 36.56it/s]\n"
     ]
    },
    {
     "name": "stdout",
     "output_type": "stream",
     "text": [
      "Epoch: 375, loss: 35.144141551010485, f1: 0.03538925899834932, precision: 0.018017152505606867, recall: 0.9884778197485072\n",
      "val_loss: 35.14417968540017, val_f1: 0.039994402774875, val_precision: 0.020411494241412215, val_recall: 0.9852276162816844\n"
     ]
    },
    {
     "name": "stderr",
     "output_type": "stream",
     "text": [
      "100%|█████████████████████████████████████████| 655/655 [00:17<00:00, 36.47it/s]\n"
     ]
    },
    {
     "name": "stdout",
     "output_type": "stream",
     "text": [
      "Epoch: 376, loss: 35.14414145200307, f1: 0.03538925899834932, precision: 0.018017152505606867, recall: 0.9884778197485072\n",
      "val_loss: 35.14417952791266, val_f1: 0.039994402774875, val_precision: 0.020411494241412215, val_recall: 0.9852276162816844\n"
     ]
    },
    {
     "name": "stderr",
     "output_type": "stream",
     "text": [
      "100%|█████████████████████████████████████████| 655/655 [00:17<00:00, 36.49it/s]\n"
     ]
    },
    {
     "name": "stdout",
     "output_type": "stream",
     "text": [
      "Epoch: 377, loss: 35.14414135299566, f1: 0.03538925899834932, precision: 0.018017152505606867, recall: 0.9884778197485072\n",
      "val_loss: 35.14417928293211, val_f1: 0.039994402774875, val_precision: 0.020411494241412215, val_recall: 0.9852276162816844\n"
     ]
    },
    {
     "name": "stderr",
     "output_type": "stream",
     "text": [
      "100%|█████████████████████████████████████████| 655/655 [00:17<00:00, 36.48it/s]\n"
     ]
    },
    {
     "name": "stdout",
     "output_type": "stream",
     "text": [
      "Epoch: 378, loss: 35.14414122486843, f1: 0.03538925899834932, precision: 0.018017152505606867, recall: 0.9884778197485072\n",
      "val_loss: 35.144179142943216, val_f1: 0.039994402774875, val_precision: 0.020411494241412215, val_recall: 0.9852276162816844\n"
     ]
    },
    {
     "name": "stderr",
     "output_type": "stream",
     "text": [
      "100%|█████████████████████████████████████████| 655/655 [00:17<00:00, 36.80it/s]\n"
     ]
    },
    {
     "name": "stdout",
     "output_type": "stream",
     "text": [
      "Epoch: 379, loss: 35.14414110256515, f1: 0.03538925899834932, precision: 0.018017152505606867, recall: 0.9884778197485072\n",
      "val_loss: 35.14417889796266, val_f1: 0.039994402774875, val_precision: 0.020411494241412215, val_recall: 0.9852276162816844\n"
     ]
    },
    {
     "name": "stderr",
     "output_type": "stream",
     "text": [
      "100%|█████████████████████████████████████████| 655/655 [00:17<00:00, 36.51it/s]\n"
     ]
    },
    {
     "name": "stdout",
     "output_type": "stream",
     "text": [
      "Epoch: 380, loss: 35.14414083466275, f1: 0.03538925899834932, precision: 0.018017152505606867, recall: 0.9884778197485072\n",
      "val_loss: 35.144178635483485, val_f1: 0.039994402774875, val_precision: 0.020411494241412215, val_recall: 0.9852276162816844\n"
     ]
    },
    {
     "name": "stderr",
     "output_type": "stream",
     "text": [
      "100%|█████████████████████████████████████████| 655/655 [00:17<00:00, 36.41it/s]\n"
     ]
    },
    {
     "name": "stdout",
     "output_type": "stream",
     "text": [
      "Epoch: 381, loss: 35.14414073565534, f1: 0.03538925899834932, precision: 0.018017152505606867, recall: 0.9884778197485072\n",
      "val_loss: 35.144178477995986, val_f1: 0.039994402774875, val_precision: 0.020411494241412215, val_recall: 0.9852276162816844\n"
     ]
    },
    {
     "name": "stderr",
     "output_type": "stream",
     "text": [
      "100%|█████████████████████████████████████████| 655/655 [00:17<00:00, 36.55it/s]\n"
     ]
    },
    {
     "name": "stdout",
     "output_type": "stream",
     "text": [
      "Epoch: 382, loss: 35.144140625, f1: 0.03538925899834932, precision: 0.018017152505606867, recall: 0.9884778197485072\n",
      "val_loss: 35.14417811052515, val_f1: 0.039994402774875, val_precision: 0.020411494241412215, val_recall: 0.9852276162816844\n"
     ]
    },
    {
     "name": "stderr",
     "output_type": "stream",
     "text": [
      "100%|█████████████████████████████████████████| 655/655 [00:17<00:00, 36.39it/s]\n"
     ]
    },
    {
     "name": "stdout",
     "output_type": "stream",
     "text": [
      "Epoch: 383, loss: 35.14414052599259, f1: 0.03538925899834932, precision: 0.018017152505606867, recall: 0.9884778197485072\n",
      "val_loss: 35.14417800553348, val_f1: 0.039994402774875, val_precision: 0.020411494241412215, val_recall: 0.9852276162816844\n"
     ]
    },
    {
     "name": "stderr",
     "output_type": "stream",
     "text": [
      "100%|█████████████████████████████████████████| 655/655 [00:17<00:00, 36.59it/s]\n"
     ]
    },
    {
     "name": "stdout",
     "output_type": "stream",
     "text": [
      "Epoch: 384, loss: 35.14414042698518, f1: 0.03538925899834932, precision: 0.018017152505606867, recall: 0.9884778197485072\n",
      "val_loss: 35.14417783054737, val_f1: 0.039994402774875, val_precision: 0.020411494241412215, val_recall: 0.9852276162816844\n"
     ]
    },
    {
     "name": "stderr",
     "output_type": "stream",
     "text": [
      "100%|█████████████████████████████████████████| 655/655 [00:17<00:00, 37.22it/s]\n"
     ]
    },
    {
     "name": "stdout",
     "output_type": "stream",
     "text": [
      "Epoch: 385, loss: 35.14414033380174, f1: 0.03538925899834932, precision: 0.018017152505606867, recall: 0.9884778197485072\n",
      "val_loss: 35.144177638062644, val_f1: 0.039994402774875, val_precision: 0.020411494241412215, val_recall: 0.9852276162816844\n"
     ]
    },
    {
     "name": "stderr",
     "output_type": "stream",
     "text": [
      "100%|█████████████████████████████████████████| 655/655 [00:17<00:00, 36.54it/s]\n"
     ]
    },
    {
     "name": "stdout",
     "output_type": "stream",
     "text": [
      "Epoch: 386, loss: 35.14414022897036, f1: 0.03538925899834932, precision: 0.018017152505606867, recall: 0.9884778197485072\n",
      "val_loss: 35.14417744557792, val_f1: 0.039994402774875, val_precision: 0.020411494241412215, val_recall: 0.9852276162816844\n"
     ]
    },
    {
     "name": "stderr",
     "output_type": "stream",
     "text": [
      "100%|█████████████████████████████████████████| 655/655 [00:17<00:00, 36.50it/s]\n"
     ]
    },
    {
     "name": "stdout",
     "output_type": "stream",
     "text": [
      "Epoch: 387, loss: 35.14414013578691, f1: 0.03538925899834932, precision: 0.018017152505606867, recall: 0.9884778197485072\n",
      "val_loss: 35.14417732308764, val_f1: 0.039994402774875, val_precision: 0.020411494241412215, val_recall: 0.9852276162816844\n"
     ]
    },
    {
     "name": "stderr",
     "output_type": "stream",
     "text": [
      "100%|█████████████████████████████████████████| 655/655 [00:17<00:00, 36.44it/s]\n"
     ]
    },
    {
     "name": "stdout",
     "output_type": "stream",
     "text": [
      "Epoch: 388, loss: 35.14414002513158, f1: 0.03538925899834932, precision: 0.018017152505606867, recall: 0.9884778197485072\n",
      "val_loss: 35.14417718309875, val_f1: 0.039994402774875, val_precision: 0.020411494241412215, val_recall: 0.9852276162816844\n"
     ]
    },
    {
     "name": "stderr",
     "output_type": "stream",
     "text": [
      "100%|█████████████████████████████████████████| 655/655 [00:17<00:00, 36.58it/s]\n"
     ]
    },
    {
     "name": "stdout",
     "output_type": "stream",
     "text": [
      "Epoch: 389, loss: 35.144139914476234, f1: 0.03538925899834932, precision: 0.018017152505606867, recall: 0.9884778197485072\n",
      "val_loss: 35.14417693811819, val_f1: 0.039994402774875, val_precision: 0.020411494241412215, val_recall: 0.9852276162816844\n"
     ]
    },
    {
     "name": "stderr",
     "output_type": "stream",
     "text": [
      "100%|█████████████████████████████████████████| 655/655 [00:17<00:00, 36.58it/s]\n"
     ]
    },
    {
     "name": "stdout",
     "output_type": "stream",
     "text": [
      "Epoch: 390, loss: 35.14413980964486, f1: 0.03538925899834932, precision: 0.018017152505606867, recall: 0.9884778197485072\n",
      "val_loss: 35.14417678063069, val_f1: 0.039994402774875, val_precision: 0.020411494241412215, val_recall: 0.9852276162816844\n"
     ]
    },
    {
     "name": "stderr",
     "output_type": "stream",
     "text": [
      "100%|█████████████████████████████████████████| 655/655 [00:17<00:00, 36.81it/s]\n"
     ]
    },
    {
     "name": "stdout",
     "output_type": "stream",
     "text": [
      "Epoch: 391, loss: 35.14413972228538, f1: 0.03538925899834932, precision: 0.018017152505606867, recall: 0.9884778197485072\n",
      "val_loss: 35.14417636066402, val_f1: 0.039994402774875, val_precision: 0.020411494241412215, val_recall: 0.9852276162816844\n"
     ]
    },
    {
     "name": "stderr",
     "output_type": "stream",
     "text": [
      "100%|█████████████████████████████████████████| 655/655 [00:17<00:00, 36.52it/s]\n"
     ]
    },
    {
     "name": "stdout",
     "output_type": "stream",
     "text": [
      "Epoch: 392, loss: 35.14413962327797, f1: 0.03538925899834932, precision: 0.018017152505606867, recall: 0.9884778197485072\n",
      "val_loss: 35.144176045689015, val_f1: 0.039994402774875, val_precision: 0.020411494241412215, val_recall: 0.9852276162816844\n"
     ]
    },
    {
     "name": "stderr",
     "output_type": "stream",
     "text": [
      "100%|█████████████████████████████████████████| 655/655 [00:17<00:00, 36.55it/s]\n"
     ]
    },
    {
     "name": "stdout",
     "output_type": "stream",
     "text": [
      "Epoch: 393, loss: 35.14413948932677, f1: 0.03538925899834932, precision: 0.018017152505606867, recall: 0.9884778197485072\n",
      "val_loss: 35.14417590570012, val_f1: 0.039994402774875, val_precision: 0.020411494241412215, val_recall: 0.9852276162816844\n"
     ]
    },
    {
     "name": "stderr",
     "output_type": "stream",
     "text": [
      "100%|█████████████████████████████████████████| 655/655 [00:17<00:00, 36.50it/s]\n"
     ]
    },
    {
     "name": "stdout",
     "output_type": "stream",
     "text": [
      "Epoch: 394, loss: 35.14413940196729, f1: 0.03538925899834932, precision: 0.018017152505606867, recall: 0.9884778197485072\n",
      "val_loss: 35.144175748212625, val_f1: 0.039994402774875, val_precision: 0.020411494241412215, val_recall: 0.9852276162816844\n"
     ]
    },
    {
     "name": "stderr",
     "output_type": "stream",
     "text": [
      "100%|█████████████████████████████████████████| 655/655 [00:17<00:00, 36.50it/s]\n"
     ]
    },
    {
     "name": "stdout",
     "output_type": "stream",
     "text": [
      "Epoch: 395, loss: 35.14413930295988, f1: 0.03538925899834932, precision: 0.018017152505606867, recall: 0.9884778197485072\n",
      "val_loss: 35.14417560822373, val_f1: 0.039994402774875, val_precision: 0.020411494241412215, val_recall: 0.9852276162816844\n"
     ]
    },
    {
     "name": "stderr",
     "output_type": "stream",
     "text": [
      "100%|█████████████████████████████████████████| 655/655 [00:17<00:00, 36.58it/s]\n"
     ]
    },
    {
     "name": "stdout",
     "output_type": "stream",
     "text": [
      "Epoch: 396, loss: 35.144139209776434, f1: 0.03538925899834932, precision: 0.018017152505606867, recall: 0.9884778197485072\n",
      "val_loss: 35.144175275750115, val_f1: 0.039994402774875, val_precision: 0.020411494241412215, val_recall: 0.9852276162816844\n"
     ]
    },
    {
     "name": "stderr",
     "output_type": "stream",
     "text": [
      "100%|█████████████████████████████████████████| 655/655 [00:17<00:00, 36.73it/s]\n"
     ]
    },
    {
     "name": "stdout",
     "output_type": "stream",
     "text": [
      "Epoch: 397, loss: 35.144139087473164, f1: 0.03538925899834932, precision: 0.018017152505606867, recall: 0.9884778197485072\n",
      "val_loss: 35.144175118262616, val_f1: 0.039994402774875, val_precision: 0.020411494241412215, val_recall: 0.9852276162816844\n"
     ]
    },
    {
     "name": "stderr",
     "output_type": "stream",
     "text": [
      "100%|█████████████████████████████████████████| 655/655 [00:17<00:00, 36.49it/s]\n"
     ]
    },
    {
     "name": "stdout",
     "output_type": "stream",
     "text": [
      "Epoch: 398, loss: 35.14413899428972, f1: 0.03538925899834932, precision: 0.018017152505606867, recall: 0.9884778197485072\n",
      "val_loss: 35.14417496077511, val_f1: 0.039994402774875, val_precision: 0.020411494241412215, val_recall: 0.9852276162816844\n"
     ]
    },
    {
     "name": "stderr",
     "output_type": "stream",
     "text": [
      "100%|█████████████████████████████████████████| 655/655 [00:17<00:00, 36.64it/s]\n"
     ]
    },
    {
     "name": "stdout",
     "output_type": "stream",
     "text": [
      "Epoch: 399, loss: 35.14413890693024, f1: 0.03538925899834932, precision: 0.018017152505606867, recall: 0.9884778197485072\n",
      "val_loss: 35.144174785789, val_f1: 0.039994402774875, val_precision: 0.020411494241412215, val_recall: 0.9852276162816844\n"
     ]
    },
    {
     "name": "stderr",
     "output_type": "stream",
     "text": [
      "100%|█████████████████████████████████████████| 655/655 [00:17<00:00, 36.51it/s]\n"
     ]
    },
    {
     "name": "stdout",
     "output_type": "stream",
     "text": [
      "Epoch: 400, loss: 35.14413881957076, f1: 0.03538925899834932, precision: 0.018017152505606867, recall: 0.9884778197485072\n",
      "val_loss: 35.144174575805664, val_f1: 0.039994402774875, val_precision: 0.020411494241412215, val_recall: 0.9852276162816844\n"
     ]
    },
    {
     "name": "stderr",
     "output_type": "stream",
     "text": [
      "100%|█████████████████████████████████████████| 655/655 [00:17<00:00, 36.51it/s]\n"
     ]
    },
    {
     "name": "stdout",
     "output_type": "stream",
     "text": [
      "Epoch: 401, loss: 35.144138714739384, f1: 0.03538925899834932, precision: 0.018017152505606867, recall: 0.9884778197485072\n",
      "val_loss: 35.14417445331539, val_f1: 0.039994402774875, val_precision: 0.020411494241412215, val_recall: 0.9852276162816844\n"
     ]
    },
    {
     "name": "stderr",
     "output_type": "stream",
     "text": [
      "100%|█████████████████████████████████████████| 655/655 [00:17<00:00, 36.50it/s]\n"
     ]
    },
    {
     "name": "stdout",
     "output_type": "stream",
     "text": [
      "Epoch: 402, loss: 35.14413863902784, f1: 0.03538925899834932, precision: 0.018017152505606867, recall: 0.9884778197485072\n",
      "val_loss: 35.144174313326495, val_f1: 0.039994402774875, val_precision: 0.020411494241412215, val_recall: 0.9852276162816844\n"
     ]
    },
    {
     "name": "stderr",
     "output_type": "stream",
     "text": [
      "100%|█████████████████████████████████████████| 655/655 [00:17<00:00, 36.57it/s]\n"
     ]
    },
    {
     "name": "stdout",
     "output_type": "stream",
     "text": [
      "Epoch: 403, loss: 35.144138528372494, f1: 0.03538925899834932, precision: 0.018017152505606867, recall: 0.9884778197485072\n",
      "val_loss: 35.1441741733376, val_f1: 0.039994402774875, val_precision: 0.020411494241412215, val_recall: 0.9852276162816844\n"
     ]
    },
    {
     "name": "stderr",
     "output_type": "stream",
     "text": [
      "100%|█████████████████████████████████████████| 655/655 [00:17<00:00, 36.93it/s]\n"
     ]
    },
    {
     "name": "stdout",
     "output_type": "stream",
     "text": [
      "Epoch: 404, loss: 35.14413842354112, f1: 0.03538925899834932, precision: 0.018017152505606867, recall: 0.9884778197485072\n",
      "val_loss: 35.1441738583626, val_f1: 0.039994402774875, val_precision: 0.020411494241412215, val_recall: 0.9852276162816844\n"
     ]
    },
    {
     "name": "stderr",
     "output_type": "stream",
     "text": [
      "100%|█████████████████████████████████████████| 655/655 [00:17<00:00, 36.68it/s]\n"
     ]
    },
    {
     "name": "stdout",
     "output_type": "stream",
     "text": [
      "Epoch: 405, loss: 35.14413833035768, f1: 0.03538925899834932, precision: 0.018017152505606867, recall: 0.9884778197485072\n",
      "val_loss: 35.144173753370936, val_f1: 0.039994402774875, val_precision: 0.020411494241412215, val_recall: 0.9852276162816844\n"
     ]
    },
    {
     "name": "stderr",
     "output_type": "stream",
     "text": [
      "100%|█████████████████████████████████████████| 655/655 [00:17<00:00, 36.51it/s]\n"
     ]
    },
    {
     "name": "stdout",
     "output_type": "stream",
     "text": [
      "Epoch: 406, loss: 35.14413823135027, f1: 0.03538925899834932, precision: 0.018017152505606867, recall: 0.9884778197485072\n",
      "val_loss: 35.14417363088065, val_f1: 0.039994402774875, val_precision: 0.020411494241412215, val_recall: 0.9852276162816844\n"
     ]
    },
    {
     "name": "stderr",
     "output_type": "stream",
     "text": [
      "100%|█████████████████████████████████████████| 655/655 [00:17<00:00, 36.52it/s]\n"
     ]
    },
    {
     "name": "stdout",
     "output_type": "stream",
     "text": [
      "Epoch: 407, loss: 35.14413802751148, f1: 0.03538925899834932, precision: 0.018017152505606867, recall: 0.9884778197485072\n",
      "val_loss: 35.14417345589454, val_f1: 0.039994402774875, val_precision: 0.020411494241412215, val_recall: 0.9852276162816844\n"
     ]
    },
    {
     "name": "stderr",
     "output_type": "stream",
     "text": [
      "100%|█████████████████████████████████████████| 655/655 [00:17<00:00, 36.55it/s]\n"
     ]
    },
    {
     "name": "stdout",
     "output_type": "stream",
     "text": [
      "Epoch: 408, loss: 35.14413791685614, f1: 0.03538925899834932, precision: 0.018017152505606867, recall: 0.9884778197485072\n",
      "val_loss: 35.144173350902875, val_f1: 0.039994402774875, val_precision: 0.020411494241412215, val_recall: 0.9852276162816844\n"
     ]
    },
    {
     "name": "stderr",
     "output_type": "stream",
     "text": [
      "100%|█████████████████████████████████████████| 655/655 [00:17<00:00, 36.58it/s]\n"
     ]
    },
    {
     "name": "stdout",
     "output_type": "stream",
     "text": [
      "Epoch: 409, loss: 35.14413777125701, f1: 0.03538925899834932, precision: 0.018017152505606867, recall: 0.9884778197485072\n",
      "val_loss: 35.14417315841815, val_f1: 0.039994402774875, val_precision: 0.020411494241412215, val_recall: 0.9852276162816844\n"
     ]
    },
    {
     "name": "stderr",
     "output_type": "stream",
     "text": [
      "100%|█████████████████████████████████████████| 655/655 [00:17<00:00, 37.15it/s]\n"
     ]
    },
    {
     "name": "stdout",
     "output_type": "stream",
     "text": [
      "Epoch: 410, loss: 35.144137666425635, f1: 0.03538925899834932, precision: 0.018017152505606867, recall: 0.9884778197485072\n",
      "val_loss: 35.14417300093065, val_f1: 0.039994402774875, val_precision: 0.020411494241412215, val_recall: 0.9852276162816844\n"
     ]
    },
    {
     "name": "stderr",
     "output_type": "stream",
     "text": [
      "100%|█████████████████████████████████████████| 655/655 [00:17<00:00, 36.62it/s]\n"
     ]
    },
    {
     "name": "stdout",
     "output_type": "stream",
     "text": [
      "Epoch: 411, loss: 35.14413756741822, f1: 0.03538925899834932, precision: 0.018017152505606867, recall: 0.9884778197485072\n",
      "val_loss: 35.14417252846814, val_f1: 0.039994402774875, val_precision: 0.020411494241412215, val_recall: 0.9852276162816844\n"
     ]
    },
    {
     "name": "stderr",
     "output_type": "stream",
     "text": [
      "100%|█████████████████████████████████████████| 655/655 [00:17<00:00, 36.53it/s]\n"
     ]
    },
    {
     "name": "stdout",
     "output_type": "stream",
     "text": [
      "Epoch: 412, loss: 35.144137474234775, f1: 0.03538925899834932, precision: 0.018017152505606867, recall: 0.9884778197485072\n",
      "val_loss: 35.14417240597786, val_f1: 0.039994402774875, val_precision: 0.020411494241412215, val_recall: 0.9852276162816844\n"
     ]
    },
    {
     "name": "stderr",
     "output_type": "stream",
     "text": [
      "100%|█████████████████████████████████████████| 655/655 [00:17<00:00, 36.47it/s]\n"
     ]
    },
    {
     "name": "stdout",
     "output_type": "stream",
     "text": [
      "Epoch: 413, loss: 35.144137392699264, f1: 0.03538925899834932, precision: 0.018017152505606867, recall: 0.9884778197485072\n",
      "val_loss: 35.14417223099175, val_f1: 0.039994402774875, val_precision: 0.020411494241412215, val_recall: 0.9852276162816844\n"
     ]
    },
    {
     "name": "stderr",
     "output_type": "stream",
     "text": [
      "100%|█████████████████████████████████████████| 655/655 [00:17<00:00, 36.63it/s]\n"
     ]
    },
    {
     "name": "stdout",
     "output_type": "stream",
     "text": [
      "Epoch: 414, loss: 35.144137311163746, f1: 0.03538925899834932, precision: 0.018017152505606867, recall: 0.9884778197485072\n",
      "val_loss: 35.14417203850702, val_f1: 0.039994402774875, val_precision: 0.020411494241412215, val_recall: 0.9852276162816844\n"
     ]
    },
    {
     "name": "stderr",
     "output_type": "stream",
     "text": [
      "100%|█████████████████████████████████████████| 655/655 [00:17<00:00, 36.45it/s]\n"
     ]
    },
    {
     "name": "stdout",
     "output_type": "stream",
     "text": [
      "Epoch: 415, loss: 35.144137229628235, f1: 0.03538925899834932, precision: 0.018017152505606867, recall: 0.9884778197485072\n",
      "val_loss: 35.14417189851813, val_f1: 0.039994402774875, val_precision: 0.020411494241412215, val_recall: 0.9852276162816844\n"
     ]
    },
    {
     "name": "stderr",
     "output_type": "stream",
     "text": [
      "100%|█████████████████████████████████████████| 655/655 [00:17<00:00, 36.90it/s]\n"
     ]
    },
    {
     "name": "stdout",
     "output_type": "stream",
     "text": [
      "Epoch: 416, loss: 35.14413713062083, f1: 0.03538925899834932, precision: 0.018017152505606867, recall: 0.9884778197485072\n",
      "val_loss: 35.144171618540355, val_f1: 0.039994402774875, val_precision: 0.020411494241412215, val_recall: 0.9852276162816844\n"
     ]
    },
    {
     "name": "stderr",
     "output_type": "stream",
     "text": [
      "100%|█████████████████████████████████████████| 655/655 [00:17<00:00, 36.57it/s]\n"
     ]
    },
    {
     "name": "stdout",
     "output_type": "stream",
     "text": [
      "Epoch: 417, loss: 35.14413703743738, f1: 0.03538925899834932, precision: 0.018017152505606867, recall: 0.9884778197485072\n",
      "val_loss: 35.14417142605563, val_f1: 0.039994402774875, val_precision: 0.020411494241412215, val_recall: 0.9852276162816844\n"
     ]
    },
    {
     "name": "stderr",
     "output_type": "stream",
     "text": [
      "100%|█████████████████████████████████████████| 655/655 [00:17<00:00, 36.61it/s]\n"
     ]
    },
    {
     "name": "stdout",
     "output_type": "stream",
     "text": [
      "Epoch: 418, loss: 35.1441369500779, f1: 0.03538925899834932, precision: 0.018017152505606867, recall: 0.9884778197485072\n",
      "val_loss: 35.14417132106396, val_f1: 0.039994402774875, val_precision: 0.020411494241412215, val_recall: 0.9852276162816844\n"
     ]
    },
    {
     "name": "stderr",
     "output_type": "stream",
     "text": [
      "100%|█████████████████████████████████████████| 655/655 [00:17<00:00, 36.53it/s]\n"
     ]
    },
    {
     "name": "stdout",
     "output_type": "stream",
     "text": [
      "Epoch: 419, loss: 35.14413686854239, f1: 0.03538925899834932, precision: 0.018017152505606867, recall: 0.9884778197485072\n",
      "val_loss: 35.14417118107507, val_f1: 0.039994402774875, val_precision: 0.020411494241412215, val_recall: 0.9852276162816844\n"
     ]
    },
    {
     "name": "stderr",
     "output_type": "stream",
     "text": [
      "100%|█████████████████████████████████████████| 655/655 [00:17<00:00, 36.51it/s]\n"
     ]
    },
    {
     "name": "stdout",
     "output_type": "stream",
     "text": [
      "Epoch: 420, loss: 35.14413676371101, f1: 0.03538925899834932, precision: 0.018017152505606867, recall: 0.9884778197485072\n",
      "val_loss: 35.14417105858479, val_f1: 0.039994402774875, val_precision: 0.020411494241412215, val_recall: 0.9852276162816844\n"
     ]
    },
    {
     "name": "stderr",
     "output_type": "stream",
     "text": [
      "100%|█████████████████████████████████████████| 655/655 [00:17<00:00, 36.56it/s]\n"
     ]
    },
    {
     "name": "stdout",
     "output_type": "stream",
     "text": [
      "Epoch: 421, loss: 35.144136653055675, f1: 0.03538925899834932, precision: 0.018017152505606867, recall: 0.9884778197485072\n",
      "val_loss: 35.1441709185959, val_f1: 0.039994402774875, val_precision: 0.020411494241412215, val_recall: 0.9852276162816844\n"
     ]
    },
    {
     "name": "stderr",
     "output_type": "stream",
     "text": [
      "100%|█████████████████████████████████████████| 655/655 [00:17<00:00, 36.56it/s]\n"
     ]
    },
    {
     "name": "stdout",
     "output_type": "stream",
     "text": [
      "Epoch: 422, loss: 35.14413659481602, f1: 0.03538925899834932, precision: 0.018017152505606867, recall: 0.9884778197485072\n",
      "val_loss: 35.144170743609784, val_f1: 0.039994402774875, val_precision: 0.020411494241412215, val_recall: 0.9852276162816844\n"
     ]
    },
    {
     "name": "stderr",
     "output_type": "stream",
     "text": [
      "100%|█████████████████████████████████████████| 655/655 [00:17<00:00, 37.01it/s]\n"
     ]
    },
    {
     "name": "stdout",
     "output_type": "stream",
     "text": [
      "Epoch: 423, loss: 35.14413651910447, f1: 0.03538925899834932, precision: 0.018017152505606867, recall: 0.9884778197485072\n",
      "val_loss: 35.144170691113956, val_f1: 0.039994402774875, val_precision: 0.020411494241412215, val_recall: 0.9852276162816844\n"
     ]
    },
    {
     "name": "stderr",
     "output_type": "stream",
     "text": [
      "100%|█████████████████████████████████████████| 655/655 [00:17<00:00, 36.53it/s]\n"
     ]
    },
    {
     "name": "stdout",
     "output_type": "stream",
     "text": [
      "Epoch: 424, loss: 35.14413643756895, f1: 0.03538925899834932, precision: 0.018017152505606867, recall: 0.9884778197485072\n",
      "val_loss: 35.144170481130615, val_f1: 0.039994402774875, val_precision: 0.020411494241412215, val_recall: 0.9852276162816844\n"
     ]
    },
    {
     "name": "stderr",
     "output_type": "stream",
     "text": [
      "100%|█████████████████████████████████████████| 655/655 [00:17<00:00, 36.66it/s]\n"
     ]
    },
    {
     "name": "stdout",
     "output_type": "stream",
     "text": [
      "Epoch: 425, loss: 35.144136361857406, f1: 0.03538925899834932, precision: 0.018017152505606867, recall: 0.9884778197485072\n",
      "val_loss: 35.144170341141724, val_f1: 0.039994402774875, val_precision: 0.020411494241412215, val_recall: 0.9852276162816844\n"
     ]
    },
    {
     "name": "stderr",
     "output_type": "stream",
     "text": [
      "100%|█████████████████████████████████████████| 655/655 [00:17<00:00, 36.56it/s]\n"
     ]
    },
    {
     "name": "stdout",
     "output_type": "stream",
     "text": [
      "Epoch: 426, loss: 35.14413626867396, f1: 0.03538925899834932, precision: 0.018017152505606867, recall: 0.9884778197485072\n",
      "val_loss: 35.14417020115284, val_f1: 0.039994402774875, val_precision: 0.020411494241412215, val_recall: 0.9852276162816844\n"
     ]
    },
    {
     "name": "stderr",
     "output_type": "stream",
     "text": [
      "100%|█████████████████████████████████████████| 655/655 [00:17<00:00, 36.47it/s]\n"
     ]
    },
    {
     "name": "stdout",
     "output_type": "stream",
     "text": [
      "Epoch: 427, loss: 35.14413618131448, f1: 0.03538925899834932, precision: 0.018017152505606867, recall: 0.9884778197485072\n",
      "val_loss: 35.144170078662555, val_f1: 0.039994402774875, val_precision: 0.020411494241412215, val_recall: 0.9852276162816844\n"
     ]
    },
    {
     "name": "stderr",
     "output_type": "stream",
     "text": [
      "100%|█████████████████████████████████████████| 655/655 [00:17<00:00, 36.49it/s]\n"
     ]
    },
    {
     "name": "stdout",
     "output_type": "stream",
     "text": [
      "Epoch: 428, loss: 35.14413609977897, f1: 0.03538925899834932, precision: 0.018017152505606867, recall: 0.9884778197485072\n",
      "val_loss: 35.144169781186164, val_f1: 0.039994402774875, val_precision: 0.020411494241412215, val_recall: 0.9852276162816844\n"
     ]
    },
    {
     "name": "stderr",
     "output_type": "stream",
     "text": [
      "100%|█████████████████████████████████████████| 655/655 [00:17<00:00, 37.22it/s]\n"
     ]
    },
    {
     "name": "stdout",
     "output_type": "stream",
     "text": [
      "Epoch: 429, loss: 35.14413602406742, f1: 0.03538925899834932, precision: 0.018017152505606867, recall: 0.9884778197485072\n",
      "val_loss: 35.14416965869589, val_f1: 0.039994402774875, val_precision: 0.020411494241412215, val_recall: 0.9852276162816844\n"
     ]
    },
    {
     "name": "stderr",
     "output_type": "stream",
     "text": [
      "100%|█████████████████████████████████████████| 655/655 [00:17<00:00, 36.46it/s]\n"
     ]
    },
    {
     "name": "stdout",
     "output_type": "stream",
     "text": [
      "Epoch: 430, loss: 35.144135948355874, f1: 0.03538925899834932, precision: 0.018017152505606867, recall: 0.9884778197485072\n",
      "val_loss: 35.144169518706995, val_f1: 0.039994402774875, val_precision: 0.020411494241412215, val_recall: 0.9852276162816844\n"
     ]
    },
    {
     "name": "stderr",
     "output_type": "stream",
     "text": [
      "100%|█████████████████████████████████████████| 655/655 [00:17<00:00, 36.40it/s]\n"
     ]
    },
    {
     "name": "stdout",
     "output_type": "stream",
     "text": [
      "Epoch: 431, loss: 35.14413585517243, f1: 0.03538925899834932, precision: 0.018017152505606867, recall: 0.9884778197485072\n",
      "val_loss: 35.144169378718104, val_f1: 0.039994402774875, val_precision: 0.020411494241412215, val_recall: 0.9852276162816844\n"
     ]
    },
    {
     "name": "stderr",
     "output_type": "stream",
     "text": [
      "100%|█████████████████████████████████████████| 655/655 [00:17<00:00, 36.57it/s]\n"
     ]
    },
    {
     "name": "stdout",
     "output_type": "stream",
     "text": [
      "Epoch: 432, loss: 35.144135779460875, f1: 0.03538925899834932, precision: 0.018017152505606867, recall: 0.9884778197485072\n",
      "val_loss: 35.14416904624449, val_f1: 0.039994402774875, val_precision: 0.020411494241412215, val_recall: 0.9852276162816844\n"
     ]
    },
    {
     "name": "stderr",
     "output_type": "stream",
     "text": [
      "100%|█████████████████████████████████████████| 655/655 [00:17<00:00, 36.65it/s]\n"
     ]
    },
    {
     "name": "stdout",
     "output_type": "stream",
     "text": [
      "Epoch: 433, loss: 35.14413571539726, f1: 0.03538925899834932, precision: 0.018017152505606867, recall: 0.9884778197485072\n",
      "val_loss: 35.1441689062556, val_f1: 0.039994402774875, val_precision: 0.020411494241412215, val_recall: 0.9852276162816844\n"
     ]
    },
    {
     "name": "stderr",
     "output_type": "stream",
     "text": [
      "100%|█████████████████████████████████████████| 655/655 [00:17<00:00, 36.51it/s]\n"
     ]
    },
    {
     "name": "stdout",
     "output_type": "stream",
     "text": [
      "Epoch: 434, loss: 35.14413562803778, f1: 0.03538925899834932, precision: 0.018017152505606867, recall: 0.9884778197485072\n",
      "val_loss: 35.14416869627227, val_f1: 0.039994402774875, val_precision: 0.020411494241412215, val_recall: 0.9852276162816844\n"
     ]
    },
    {
     "name": "stderr",
     "output_type": "stream",
     "text": [
      "100%|█████████████████████████████████████████| 655/655 [00:17<00:00, 36.98it/s]\n"
     ]
    },
    {
     "name": "stdout",
     "output_type": "stream",
     "text": [
      "Epoch: 435, loss: 35.14413554650227, f1: 0.03538925899834932, precision: 0.018017152505606867, recall: 0.9884778197485072\n",
      "val_loss: 35.14416862627782, val_f1: 0.039994402774875, val_precision: 0.020411494241412215, val_recall: 0.9852276162816844\n"
     ]
    },
    {
     "name": "stderr",
     "output_type": "stream",
     "text": [
      "100%|█████████████████████████████████████████| 655/655 [00:17<00:00, 36.55it/s]\n"
     ]
    },
    {
     "name": "stdout",
     "output_type": "stream",
     "text": [
      "Epoch: 436, loss: 35.144135447494854, f1: 0.03538925899834932, precision: 0.018017152505606867, recall: 0.9884778197485072\n",
      "val_loss: 35.144168451291705, val_f1: 0.039994402774875, val_precision: 0.020411494241412215, val_recall: 0.9852276162816844\n"
     ]
    },
    {
     "name": "stderr",
     "output_type": "stream",
     "text": [
      "100%|█████████████████████████████████████████| 655/655 [00:17<00:00, 36.62it/s]\n"
     ]
    },
    {
     "name": "stdout",
     "output_type": "stream",
     "text": [
      "Epoch: 437, loss: 35.14413535431141, f1: 0.03538925899834932, precision: 0.018017152505606867, recall: 0.9884778197485072\n",
      "val_loss: 35.144168293804206, val_f1: 0.039994402774875, val_precision: 0.020411494241412215, val_recall: 0.9852276162816844\n"
     ]
    },
    {
     "name": "stderr",
     "output_type": "stream",
     "text": [
      "100%|█████████████████████████████████████████| 655/655 [00:17<00:00, 36.52it/s]\n"
     ]
    },
    {
     "name": "stdout",
     "output_type": "stream",
     "text": [
      "Epoch: 438, loss: 35.144135290247796, f1: 0.03538925899834932, precision: 0.018017152505606867, recall: 0.9884778197485072\n",
      "val_loss: 35.14416817131392, val_f1: 0.039994402774875, val_precision: 0.020411494241412215, val_recall: 0.9852276162816844\n"
     ]
    },
    {
     "name": "stderr",
     "output_type": "stream",
     "text": [
      "100%|█████████████████████████████████████████| 655/655 [00:17<00:00, 36.42it/s]\n"
     ]
    },
    {
     "name": "stdout",
     "output_type": "stream",
     "text": [
      "Epoch: 439, loss: 35.14413521453624, f1: 0.03538925899834932, precision: 0.018017152505606867, recall: 0.9884778197485072\n",
      "val_loss: 35.14416801382642, val_f1: 0.039994402774875, val_precision: 0.020411494241412215, val_recall: 0.9852276162816844\n"
     ]
    },
    {
     "name": "stderr",
     "output_type": "stream",
     "text": [
      "100%|█████████████████████████████████████████| 655/655 [00:17<00:00, 36.59it/s]\n"
     ]
    },
    {
     "name": "stdout",
     "output_type": "stream",
     "text": [
      "Epoch: 440, loss: 35.144135074761074, f1: 0.03538925899834932, precision: 0.018017152505606867, recall: 0.9884778197485072\n",
      "val_loss: 35.14416790883475, val_f1: 0.039994402774875, val_precision: 0.020411494241412215, val_recall: 0.9852276162816844\n"
     ]
    },
    {
     "name": "stderr",
     "output_type": "stream",
     "text": [
      "100%|█████████████████████████████████████████| 655/655 [00:17<00:00, 36.72it/s]\n"
     ]
    },
    {
     "name": "stdout",
     "output_type": "stream",
     "text": [
      "Epoch: 441, loss: 35.1441350048735, f1: 0.03538925899834932, precision: 0.018017152505606867, recall: 0.9884778197485072\n",
      "val_loss: 35.14416783884031, val_f1: 0.039994402774875, val_precision: 0.020411494241412215, val_recall: 0.9852276162816844\n"
     ]
    },
    {
     "name": "stderr",
     "output_type": "stream",
     "text": [
      "100%|█████████████████████████████████████████| 655/655 [00:17<00:00, 36.48it/s]\n"
     ]
    },
    {
     "name": "stdout",
     "output_type": "stream",
     "text": [
      "Epoch: 442, loss: 35.14413491169005, f1: 0.03538925899834932, precision: 0.018017152505606867, recall: 0.9884778197485072\n",
      "val_loss: 35.14416755886253, val_f1: 0.039994402774875, val_precision: 0.020411494241412215, val_recall: 0.9852276162816844\n"
     ]
    },
    {
     "name": "stderr",
     "output_type": "stream",
     "text": [
      "100%|█████████████████████████████████████████| 655/655 [00:17<00:00, 36.53it/s]\n"
     ]
    },
    {
     "name": "stdout",
     "output_type": "stream",
     "text": [
      "Epoch: 443, loss: 35.144134830154535, f1: 0.03538925899834932, precision: 0.018017152505606867, recall: 0.9884778197485072\n",
      "val_loss: 35.144167453870864, val_f1: 0.039994402774875, val_precision: 0.020411494241412215, val_recall: 0.9852276162816844\n"
     ]
    },
    {
     "name": "stderr",
     "output_type": "stream",
     "text": [
      "100%|█████████████████████████████████████████| 655/655 [00:17<00:00, 36.44it/s]\n"
     ]
    },
    {
     "name": "stdout",
     "output_type": "stream",
     "text": [
      "Epoch: 444, loss: 35.14413475444299, f1: 0.03538925899834932, precision: 0.018017152505606867, recall: 0.9884778197485072\n",
      "val_loss: 35.144167383876415, val_f1: 0.039994402774875, val_precision: 0.020411494241412215, val_recall: 0.9852276162816844\n"
     ]
    },
    {
     "name": "stderr",
     "output_type": "stream",
     "text": [
      "100%|█████████████████████████████████████████| 655/655 [00:17<00:00, 36.55it/s]\n"
     ]
    },
    {
     "name": "stdout",
     "output_type": "stream",
     "text": [
      "Epoch: 445, loss: 35.144134684555404, f1: 0.03538925899834932, precision: 0.018017152505606867, recall: 0.9884778197485072\n",
      "val_loss: 35.144167226388916, val_f1: 0.039994402774875, val_precision: 0.020411494241412215, val_recall: 0.9852276162816844\n"
     ]
    },
    {
     "name": "stderr",
     "output_type": "stream",
     "text": [
      "100%|█████████████████████████████████████████| 655/655 [00:17<00:00, 36.59it/s]\n"
     ]
    },
    {
     "name": "stdout",
     "output_type": "stream",
     "text": [
      "Epoch: 446, loss: 35.14413461466782, f1: 0.03538925899834932, precision: 0.018017152505606867, recall: 0.9884778197485072\n",
      "val_loss: 35.14416713889586, val_f1: 0.039994402774875, val_precision: 0.020411494241412215, val_recall: 0.9852276162816844\n"
     ]
    },
    {
     "name": "stderr",
     "output_type": "stream",
     "text": [
      "100%|█████████████████████████████████████████| 655/655 [00:17<00:00, 36.56it/s]\n"
     ]
    },
    {
     "name": "stdout",
     "output_type": "stream",
     "text": [
      "Epoch: 447, loss: 35.144134544780236, f1: 0.03538925899834932, precision: 0.018017152505606867, recall: 0.9884778197485072\n",
      "val_loss: 35.144166981408354, val_f1: 0.039994402774875, val_precision: 0.020411494241412215, val_recall: 0.9852276162816844\n"
     ]
    },
    {
     "name": "stderr",
     "output_type": "stream",
     "text": [
      "100%|█████████████████████████████████████████| 655/655 [00:17<00:00, 37.04it/s]\n"
     ]
    },
    {
     "name": "stdout",
     "output_type": "stream",
     "text": [
      "Epoch: 448, loss: 35.14413445159679, f1: 0.03538925899834932, precision: 0.018017152505606867, recall: 0.9884778197485072\n",
      "val_loss: 35.144166823920855, val_f1: 0.039994402774875, val_precision: 0.020411494241412215, val_recall: 0.9852276162816844\n"
     ]
    },
    {
     "name": "stderr",
     "output_type": "stream",
     "text": [
      "100%|█████████████████████████████████████████| 655/655 [00:17<00:00, 36.54it/s]\n"
     ]
    },
    {
     "name": "stdout",
     "output_type": "stream",
     "text": [
      "Epoch: 449, loss: 35.14413438753317, f1: 0.03538925899834932, precision: 0.018017152505606867, recall: 0.9884778197485072\n",
      "val_loss: 35.144166718929185, val_f1: 0.039994402774875, val_precision: 0.020411494241412215, val_recall: 0.9852276162816844\n"
     ]
    },
    {
     "name": "stderr",
     "output_type": "stream",
     "text": [
      "100%|█████████████████████████████████████████| 655/655 [00:17<00:00, 36.44it/s]\n"
     ]
    },
    {
     "name": "stdout",
     "output_type": "stream",
     "text": [
      "Epoch: 450, loss: 35.14413428852576, f1: 0.03538925899834932, precision: 0.018017152505606867, recall: 0.9884778197485072\n",
      "val_loss: 35.14416657894029, val_f1: 0.039994402774875, val_precision: 0.020411494241412215, val_recall: 0.9852276162816844\n"
     ]
    },
    {
     "name": "stderr",
     "output_type": "stream",
     "text": [
      "100%|█████████████████████████████████████████| 655/655 [00:17<00:00, 36.50it/s]\n"
     ]
    },
    {
     "name": "stdout",
     "output_type": "stream",
     "text": [
      "Epoch: 451, loss: 35.14413422446214, f1: 0.03538925899834932, precision: 0.018017152505606867, recall: 0.9884778197485072\n",
      "val_loss: 35.1441664389514, val_f1: 0.039994402774875, val_precision: 0.020411494241412215, val_recall: 0.9852276162816844\n"
     ]
    },
    {
     "name": "stderr",
     "output_type": "stream",
     "text": [
      "100%|█████████████████████████████████████████| 655/655 [00:17<00:00, 36.51it/s]\n"
     ]
    },
    {
     "name": "stdout",
     "output_type": "stream",
     "text": [
      "Epoch: 452, loss: 35.1441341312787, f1: 0.03538925899834932, precision: 0.018017152505606867, recall: 0.9884778197485072\n",
      "val_loss: 35.144166316461124, val_f1: 0.039994402774875, val_precision: 0.020411494241412215, val_recall: 0.9852276162816844\n"
     ]
    },
    {
     "name": "stderr",
     "output_type": "stream",
     "text": [
      "100%|█████████████████████████████████████████| 655/655 [00:17<00:00, 36.51it/s]\n"
     ]
    },
    {
     "name": "stdout",
     "output_type": "stream",
     "text": [
      "Epoch: 453, loss: 35.144134067215084, f1: 0.03538925899834932, precision: 0.018017152505606867, recall: 0.9884778197485072\n",
      "val_loss: 35.14416619397085, val_f1: 0.039994402774875, val_precision: 0.020411494241412215, val_recall: 0.9852276162816844\n"
     ]
    },
    {
     "name": "stderr",
     "output_type": "stream",
     "text": [
      "100%|█████████████████████████████████████████| 655/655 [00:17<00:00, 37.36it/s]\n"
     ]
    },
    {
     "name": "stdout",
     "output_type": "stream",
     "text": [
      "Epoch: 454, loss: 35.14413399150353, f1: 0.03538925899834932, precision: 0.018017152505606867, recall: 0.9884778197485072\n",
      "val_loss: 35.144166088979176, val_f1: 0.039994402774875, val_precision: 0.020411494241412215, val_recall: 0.9852276162816844\n"
     ]
    },
    {
     "name": "stderr",
     "output_type": "stream",
     "text": [
      "100%|█████████████████████████████████████████| 655/655 [00:17<00:00, 36.57it/s]\n"
     ]
    },
    {
     "name": "stdout",
     "output_type": "stream",
     "text": [
      "Epoch: 455, loss: 35.14413392743992, f1: 0.03538925899834932, precision: 0.018017152505606867, recall: 0.9884778197485072\n",
      "val_loss: 35.14416600148612, val_f1: 0.039994402774875, val_precision: 0.020411494241412215, val_recall: 0.9852276162816844\n"
     ]
    },
    {
     "name": "stderr",
     "output_type": "stream",
     "text": [
      "100%|█████████████████████████████████████████| 655/655 [00:17<00:00, 36.39it/s]\n"
     ]
    },
    {
     "name": "stdout",
     "output_type": "stream",
     "text": [
      "Epoch: 456, loss: 35.14413385172837, f1: 0.03538925899834932, precision: 0.018017152505606867, recall: 0.9884778197485072\n",
      "val_loss: 35.14416561651667, val_f1: 0.039994402774875, val_precision: 0.020411494241412215, val_recall: 0.9852276162816844\n"
     ]
    },
    {
     "name": "stderr",
     "output_type": "stream",
     "text": [
      "100%|█████████████████████████████████████████| 655/655 [00:17<00:00, 36.59it/s]\n"
     ]
    },
    {
     "name": "stdout",
     "output_type": "stream",
     "text": [
      "Epoch: 457, loss: 35.14413379348871, f1: 0.03538925899834932, precision: 0.018017152505606867, recall: 0.9884778197485072\n",
      "val_loss: 35.144165389034725, val_f1: 0.039994402774875, val_precision: 0.020411494241412215, val_recall: 0.9852276162816844\n"
     ]
    },
    {
     "name": "stderr",
     "output_type": "stream",
     "text": [
      "100%|█████████████████████████████████████████| 655/655 [00:17<00:00, 36.46it/s]\n"
     ]
    },
    {
     "name": "stdout",
     "output_type": "stream",
     "text": [
      "Epoch: 458, loss: 35.14413372942509, f1: 0.03538925899834932, precision: 0.018017152505606867, recall: 0.9884778197485072\n",
      "val_loss: 35.14416530154167, val_f1: 0.039994402774875, val_precision: 0.020411494241412215, val_recall: 0.9852276162816844\n"
     ]
    },
    {
     "name": "stderr",
     "output_type": "stream",
     "text": [
      "100%|█████████████████████████████████████████| 655/655 [00:17<00:00, 36.53it/s]\n"
     ]
    },
    {
     "name": "stdout",
     "output_type": "stream",
     "text": [
      "Epoch: 459, loss: 35.14413367118544, f1: 0.03538925899834932, precision: 0.018017152505606867, recall: 0.9884778197485072\n",
      "val_loss: 35.14416514405417, val_f1: 0.039994402774875, val_precision: 0.020411494241412215, val_recall: 0.9852276162816844\n"
     ]
    },
    {
     "name": "stderr",
     "output_type": "stream",
     "text": [
      "100%|█████████████████████████████████████████| 655/655 [00:17<00:00, 36.89it/s]\n"
     ]
    },
    {
     "name": "stdout",
     "output_type": "stream",
     "text": [
      "Epoch: 460, loss: 35.14413347899459, f1: 0.03538925899834932, precision: 0.018017152505606867, recall: 0.9884778197485072\n",
      "val_loss: 35.144164986566665, val_f1: 0.039994402774875, val_precision: 0.020411494241412215, val_recall: 0.9852276162816844\n"
     ]
    },
    {
     "name": "stderr",
     "output_type": "stream",
     "text": [
      "100%|█████████████████████████████████████████| 655/655 [00:17<00:00, 36.44it/s]\n"
     ]
    },
    {
     "name": "stdout",
     "output_type": "stream",
     "text": [
      "Epoch: 461, loss: 35.14413341493097, f1: 0.03538925899834932, precision: 0.018017152505606867, recall: 0.9884778197485072\n",
      "val_loss: 35.14416491657222, val_f1: 0.039994402774875, val_precision: 0.020411494241412215, val_recall: 0.9852276162816844\n"
     ]
    },
    {
     "name": "stderr",
     "output_type": "stream",
     "text": [
      "100%|█████████████████████████████████████████| 655/655 [00:17<00:00, 36.54it/s]\n"
     ]
    },
    {
     "name": "stdout",
     "output_type": "stream",
     "text": [
      "Epoch: 462, loss: 35.14413335086735, f1: 0.03538925899834932, precision: 0.018017152505606867, recall: 0.9884778197485072\n",
      "val_loss: 35.144164794081945, val_f1: 0.039994402774875, val_precision: 0.020411494241412215, val_recall: 0.9852276162816844\n"
     ]
    },
    {
     "name": "stderr",
     "output_type": "stream",
     "text": [
      "100%|█████████████████████████████████████████| 655/655 [00:17<00:00, 36.54it/s]\n"
     ]
    },
    {
     "name": "stdout",
     "output_type": "stream",
     "text": [
      "Epoch: 463, loss: 35.1441332751558, f1: 0.03538925899834932, precision: 0.018017152505606867, recall: 0.9884778197485072\n",
      "val_loss: 35.144164689090275, val_f1: 0.039994402774875, val_precision: 0.020411494241412215, val_recall: 0.9852276162816844\n"
     ]
    },
    {
     "name": "stderr",
     "output_type": "stream",
     "text": [
      "100%|█████████████████████████████████████████| 655/655 [00:17<00:00, 36.48it/s]\n"
     ]
    },
    {
     "name": "stdout",
     "output_type": "stream",
     "text": [
      "Epoch: 464, loss: 35.14413321691615, f1: 0.03538925899834932, precision: 0.018017152505606867, recall: 0.9884778197485072\n",
      "val_loss: 35.14416460159722, val_f1: 0.039994402774875, val_precision: 0.020411494241412215, val_recall: 0.9852276162816844\n"
     ]
    },
    {
     "name": "stderr",
     "output_type": "stream",
     "text": [
      "100%|█████████████████████████████████████████| 655/655 [00:17<00:00, 36.57it/s]\n"
     ]
    },
    {
     "name": "stdout",
     "output_type": "stream",
     "text": [
      "Epoch: 465, loss: 35.14413314702857, f1: 0.03538925899834932, precision: 0.018017152505606867, recall: 0.9884778197485072\n",
      "val_loss: 35.14416447910694, val_f1: 0.039994402774875, val_precision: 0.020411494241412215, val_recall: 0.9852276162816844\n"
     ]
    },
    {
     "name": "stderr",
     "output_type": "stream",
     "text": [
      "100%|█████████████████████████████████████████| 655/655 [00:17<00:00, 36.67it/s]\n"
     ]
    },
    {
     "name": "stdout",
     "output_type": "stream",
     "text": [
      "Epoch: 466, loss: 35.14413304219719, f1: 0.03538925899834932, precision: 0.018017152505606867, recall: 0.9884778197485072\n",
      "val_loss: 35.14416425162499, val_f1: 0.039994402774875, val_precision: 0.020411494241412215, val_recall: 0.9852276162816844\n"
     ]
    },
    {
     "name": "stderr",
     "output_type": "stream",
     "text": [
      "100%|█████████████████████████████████████████| 655/655 [00:17<00:00, 36.71it/s]\n"
     ]
    },
    {
     "name": "stdout",
     "output_type": "stream",
     "text": [
      "Epoch: 467, loss: 35.14413298395754, f1: 0.03538925899834932, precision: 0.018017152505606867, recall: 0.9884778197485072\n",
      "val_loss: 35.144164129134715, val_f1: 0.039994402774875, val_precision: 0.020411494241412215, val_recall: 0.9852276162816844\n"
     ]
    },
    {
     "name": "stderr",
     "output_type": "stream",
     "text": [
      "100%|█████████████████████████████████████████| 655/655 [00:17<00:00, 36.59it/s]\n"
     ]
    },
    {
     "name": "stdout",
     "output_type": "stream",
     "text": [
      "Epoch: 468, loss: 35.144132908245986, f1: 0.03538925899834932, precision: 0.018017152505606867, recall: 0.9884778197485072\n",
      "val_loss: 35.144164024143045, val_f1: 0.039994402774875, val_precision: 0.020411494241412215, val_recall: 0.9852276162816844\n"
     ]
    },
    {
     "name": "stderr",
     "output_type": "stream",
     "text": [
      "100%|█████████████████████████████████████████| 655/655 [00:17<00:00, 36.41it/s]\n"
     ]
    },
    {
     "name": "stdout",
     "output_type": "stream",
     "text": [
      "Epoch: 469, loss: 35.14413283835841, f1: 0.03538925899834932, precision: 0.018017152505606867, recall: 0.9884778197485072\n",
      "val_loss: 35.14416388415415, val_f1: 0.039994402774875, val_precision: 0.020411494241412215, val_recall: 0.9852276162816844\n"
     ]
    },
    {
     "name": "stderr",
     "output_type": "stream",
     "text": [
      "100%|█████████████████████████████████████████| 655/655 [00:17<00:00, 36.40it/s]\n"
     ]
    },
    {
     "name": "stdout",
     "output_type": "stream",
     "text": [
      "Epoch: 470, loss: 35.14413277429479, f1: 0.03538925899834932, precision: 0.018017152505606867, recall: 0.9884778197485072\n",
      "val_loss: 35.14416377916248, val_f1: 0.039994402774875, val_precision: 0.020411494241412215, val_recall: 0.9852276162816844\n"
     ]
    },
    {
     "name": "stderr",
     "output_type": "stream",
     "text": [
      "100%|█████████████████████████████████████████| 655/655 [00:17<00:00, 36.44it/s]\n"
     ]
    },
    {
     "name": "stdout",
     "output_type": "stream",
     "text": [
      "Epoch: 471, loss: 35.14413271605513, f1: 0.03538925899834932, precision: 0.018017152505606867, recall: 0.9884778197485072\n",
      "val_loss: 35.14416337669442, val_f1: 0.039994402774875, val_precision: 0.020411494241412215, val_recall: 0.9852276162816844\n"
     ]
    },
    {
     "name": "stderr",
     "output_type": "stream",
     "text": [
      "100%|█████████████████████████████████████████| 655/655 [00:17<00:00, 36.69it/s]\n"
     ]
    },
    {
     "name": "stdout",
     "output_type": "stream",
     "text": [
      "Epoch: 472, loss: 35.144132663639446, f1: 0.03538925899834932, precision: 0.018017152505606867, recall: 0.9884778197485072\n",
      "val_loss: 35.144163289201366, val_f1: 0.039994402774875, val_precision: 0.020411494241412215, val_recall: 0.9852276162816844\n"
     ]
    },
    {
     "name": "stderr",
     "output_type": "stream",
     "text": [
      "100%|█████████████████████████████████████████| 655/655 [00:17<00:00, 37.21it/s]\n"
     ]
    },
    {
     "name": "stdout",
     "output_type": "stream",
     "text": [
      "Epoch: 473, loss: 35.144132570456, f1: 0.03538925899834932, precision: 0.018017152505606867, recall: 0.9884778197485072\n",
      "val_loss: 35.1441630267222, val_f1: 0.039994402774875, val_precision: 0.020411494241412215, val_recall: 0.9852276162816844\n"
     ]
    },
    {
     "name": "stderr",
     "output_type": "stream",
     "text": [
      "100%|█████████████████████████████████████████| 655/655 [00:17<00:00, 36.49it/s]\n"
     ]
    },
    {
     "name": "stdout",
     "output_type": "stream",
     "text": [
      "Epoch: 474, loss: 35.144132518040315, f1: 0.03538925899834932, precision: 0.018017152505606867, recall: 0.9884778197485072\n",
      "val_loss: 35.14416293922914, val_f1: 0.039994402774875, val_precision: 0.020411494241412215, val_recall: 0.9852276162816844\n"
     ]
    },
    {
     "name": "stderr",
     "output_type": "stream",
     "text": [
      "100%|█████████████████████████████████████████| 655/655 [00:17<00:00, 36.51it/s]\n"
     ]
    },
    {
     "name": "stdout",
     "output_type": "stream",
     "text": [
      "Epoch: 475, loss: 35.14413244815273, f1: 0.03538925899834932, precision: 0.018017152505606867, recall: 0.9884778197485072\n",
      "val_loss: 35.14416283423748, val_f1: 0.039994402774875, val_precision: 0.020411494241412215, val_recall: 0.9852276162816844\n"
     ]
    },
    {
     "name": "stderr",
     "output_type": "stream",
     "text": [
      "100%|█████████████████████████████████████████| 655/655 [00:17<00:00, 36.45it/s]\n"
     ]
    },
    {
     "name": "stdout",
     "output_type": "stream",
     "text": [
      "Epoch: 476, loss: 35.144132366617214, f1: 0.03538925899834932, precision: 0.018017152505606867, recall: 0.9884778197485072\n",
      "val_loss: 35.14416276424303, val_f1: 0.039994402774875, val_precision: 0.020411494241412215, val_recall: 0.9852276162816844\n"
     ]
    },
    {
     "name": "stderr",
     "output_type": "stream",
     "text": [
      "100%|█████████████████████████████████████████| 655/655 [00:17<00:00, 36.57it/s]\n"
     ]
    },
    {
     "name": "stdout",
     "output_type": "stream",
     "text": [
      "Epoch: 477, loss: 35.144132308377564, f1: 0.03538925899834932, precision: 0.018017152505606867, recall: 0.9884778197485072\n",
      "val_loss: 35.14416260675553, val_f1: 0.039994402774875, val_precision: 0.020411494241412215, val_recall: 0.9852276162816844\n"
     ]
    },
    {
     "name": "stderr",
     "output_type": "stream",
     "text": [
      "100%|█████████████████████████████████████████| 655/655 [00:17<00:00, 36.51it/s]\n"
     ]
    },
    {
     "name": "stdout",
     "output_type": "stream",
     "text": [
      "Epoch: 478, loss: 35.144132250137915, f1: 0.03538925899834932, precision: 0.018017152505606867, recall: 0.9884778197485072\n",
      "val_loss: 35.144162554259694, val_f1: 0.039994402774875, val_precision: 0.020411494241412215, val_recall: 0.9852276162816844\n"
     ]
    },
    {
     "name": "stderr",
     "output_type": "stream",
     "text": [
      "100%|█████████████████████████████████████████| 655/655 [00:17<00:00, 37.26it/s]\n"
     ]
    },
    {
     "name": "stdout",
     "output_type": "stream",
     "text": [
      "Epoch: 479, loss: 35.144132186074295, f1: 0.03538925899834932, precision: 0.018017152505606867, recall: 0.9884778197485072\n",
      "val_loss: 35.144162431769416, val_f1: 0.039994402774875, val_precision: 0.020411494241412215, val_recall: 0.9852276162816844\n"
     ]
    },
    {
     "name": "stderr",
     "output_type": "stream",
     "text": [
      "100%|█████████████████████████████████████████| 655/655 [00:17<00:00, 36.60it/s]\n"
     ]
    },
    {
     "name": "stdout",
     "output_type": "stream",
     "text": [
      "Epoch: 480, loss: 35.14413213365861, f1: 0.03538925899834932, precision: 0.018017152505606867, recall: 0.9884778197485072\n",
      "val_loss: 35.14416208179719, val_f1: 0.039994402774875, val_precision: 0.020411494241412215, val_recall: 0.9852276162816844\n"
     ]
    },
    {
     "name": "stderr",
     "output_type": "stream",
     "text": [
      "100%|█████████████████████████████████████████| 655/655 [00:17<00:00, 36.61it/s]\n"
     ]
    },
    {
     "name": "stdout",
     "output_type": "stream",
     "text": [
      "Epoch: 481, loss: 35.14413206959499, f1: 0.03538925899834932, precision: 0.018017152505606867, recall: 0.9884778197485072\n",
      "val_loss: 35.1441619418083, val_f1: 0.039994402774875, val_precision: 0.020411494241412215, val_recall: 0.9852276162816844\n"
     ]
    },
    {
     "name": "stderr",
     "output_type": "stream",
     "text": [
      "100%|█████████████████████████████████████████| 655/655 [00:17<00:00, 36.46it/s]\n"
     ]
    },
    {
     "name": "stdout",
     "output_type": "stream",
     "text": [
      "Epoch: 482, loss: 35.144132023003266, f1: 0.03538925899834932, precision: 0.018017152505606867, recall: 0.9884778197485072\n",
      "val_loss: 35.14416183681663, val_f1: 0.039994402774875, val_precision: 0.020411494241412215, val_recall: 0.9852276162816844\n"
     ]
    },
    {
     "name": "stderr",
     "output_type": "stream",
     "text": [
      "100%|█████████████████████████████████████████| 655/655 [00:17<00:00, 36.54it/s]\n"
     ]
    },
    {
     "name": "stdout",
     "output_type": "stream",
     "text": [
      "Epoch: 483, loss: 35.14413197058758, f1: 0.03538925899834932, precision: 0.018017152505606867, recall: 0.9884778197485072\n",
      "val_loss: 35.144161731824965, val_f1: 0.039994402774875, val_precision: 0.020411494241412215, val_recall: 0.9852276162816844\n"
     ]
    },
    {
     "name": "stderr",
     "output_type": "stream",
     "text": [
      "100%|█████████████████████████████████████████| 655/655 [00:17<00:00, 36.57it/s]\n"
     ]
    },
    {
     "name": "stdout",
     "output_type": "stream",
     "text": [
      "Epoch: 484, loss: 35.144131894876026, f1: 0.03538925899834932, precision: 0.018017152505606867, recall: 0.9884778197485072\n",
      "val_loss: 35.14416157433746, val_f1: 0.039994402774875, val_precision: 0.020411494241412215, val_recall: 0.9852276162816844\n"
     ]
    },
    {
     "name": "stderr",
     "output_type": "stream",
     "text": [
      "100%|█████████████████████████████████████████| 655/655 [00:17<00:00, 36.93it/s]\n"
     ]
    },
    {
     "name": "stdout",
     "output_type": "stream",
     "text": [
      "Epoch: 485, loss: 35.144131778396726, f1: 0.03538925899834932, precision: 0.018017152505606867, recall: 0.9884778197485072\n",
      "val_loss: 35.14416150434302, val_f1: 0.039994402774875, val_precision: 0.020411494241412215, val_recall: 0.9852276162816844\n"
     ]
    },
    {
     "name": "stderr",
     "output_type": "stream",
     "text": [
      "100%|█████████████████████████████████████████| 655/655 [00:17<00:00, 36.53it/s]\n"
     ]
    },
    {
     "name": "stdout",
     "output_type": "stream",
     "text": [
      "Epoch: 486, loss: 35.14413174345293, f1: 0.03538925899834932, precision: 0.018017152505606867, recall: 0.9884778197485072\n",
      "val_loss: 35.14416138185273, val_f1: 0.039994402774875, val_precision: 0.020411494241412215, val_recall: 0.9852276162816844\n"
     ]
    },
    {
     "name": "stderr",
     "output_type": "stream",
     "text": [
      "100%|█████████████████████████████████████████| 655/655 [00:17<00:00, 36.53it/s]\n"
     ]
    },
    {
     "name": "stdout",
     "output_type": "stream",
     "text": [
      "Epoch: 487, loss: 35.14413166191742, f1: 0.03538925899834932, precision: 0.018017152505606867, recall: 0.9884778197485072\n",
      "val_loss: 35.14416129435968, val_f1: 0.039994402774875, val_precision: 0.020411494241412215, val_recall: 0.9852276162816844\n"
     ]
    },
    {
     "name": "stderr",
     "output_type": "stream",
     "text": [
      "100%|█████████████████████████████████████████| 655/655 [00:17<00:00, 36.66it/s]\n"
     ]
    },
    {
     "name": "stdout",
     "output_type": "stream",
     "text": [
      "Epoch: 488, loss: 35.144131603677764, f1: 0.03538925899834932, precision: 0.018017152505606867, recall: 0.9884778197485072\n",
      "val_loss: 35.14416118936801, val_f1: 0.039994402774875, val_precision: 0.020411494241412215, val_recall: 0.9852276162816844\n"
     ]
    },
    {
     "name": "stderr",
     "output_type": "stream",
     "text": [
      "100%|█████████████████████████████████████████| 655/655 [00:17<00:00, 36.52it/s]\n"
     ]
    },
    {
     "name": "stdout",
     "output_type": "stream",
     "text": [
      "Epoch: 489, loss: 35.14413153961414, f1: 0.03538925899834932, precision: 0.018017152505606867, recall: 0.9884778197485072\n",
      "val_loss: 35.14416110187496, val_f1: 0.039994402774875, val_precision: 0.020411494241412215, val_recall: 0.9852276162816844\n"
     ]
    },
    {
     "name": "stderr",
     "output_type": "stream",
     "text": [
      "100%|█████████████████████████████████████████| 655/655 [00:17<00:00, 36.60it/s]\n"
     ]
    },
    {
     "name": "stdout",
     "output_type": "stream",
     "text": [
      "Epoch: 490, loss: 35.144131481374494, f1: 0.03538925899834932, precision: 0.018017152505606867, recall: 0.9884778197485072\n",
      "val_loss: 35.14416097938468, val_f1: 0.039994402774875, val_precision: 0.020411494241412215, val_recall: 0.9852276162816844\n"
     ]
    },
    {
     "name": "stderr",
     "output_type": "stream",
     "text": [
      "100%|█████████████████████████████████████████| 655/655 [00:17<00:00, 36.74it/s]\n"
     ]
    },
    {
     "name": "stdout",
     "output_type": "stream",
     "text": [
      "Epoch: 491, loss: 35.144131417310874, f1: 0.03538925899834932, precision: 0.018017152505606867, recall: 0.9884778197485072\n",
      "val_loss: 35.14416078689995, val_f1: 0.039994402774875, val_precision: 0.020411494241412215, val_recall: 0.9852276162816844\n"
     ]
    },
    {
     "name": "stderr",
     "output_type": "stream",
     "text": [
      "100%|█████████████████████████████████████████| 655/655 [00:17<00:00, 36.59it/s]\n"
     ]
    },
    {
     "name": "stdout",
     "output_type": "stream",
     "text": [
      "Epoch: 492, loss: 35.14413135324725, f1: 0.03538925899834932, precision: 0.018017152505606867, recall: 0.9884778197485072\n",
      "val_loss: 35.14416068190828, val_f1: 0.039994402774875, val_precision: 0.020411494241412215, val_recall: 0.9852276162816844\n"
     ]
    },
    {
     "name": "stderr",
     "output_type": "stream",
     "text": [
      "100%|█████████████████████████████████████████| 655/655 [00:17<00:00, 36.53it/s]\n"
     ]
    },
    {
     "name": "stdout",
     "output_type": "stream",
     "text": [
      "Epoch: 493, loss: 35.144131295007604, f1: 0.03538925899834932, precision: 0.018017152505606867, recall: 0.9884778197485072\n",
      "val_loss: 35.14416061191384, val_f1: 0.039994402774875, val_precision: 0.020411494241412215, val_recall: 0.9852276162816844\n"
     ]
    },
    {
     "name": "stderr",
     "output_type": "stream",
     "text": [
      "100%|█████████████████████████████████████████| 655/655 [00:17<00:00, 36.54it/s]\n"
     ]
    },
    {
     "name": "stdout",
     "output_type": "stream",
     "text": [
      "Epoch: 494, loss: 35.14413124259192, f1: 0.03538925899834932, precision: 0.018017152505606867, recall: 0.9884778197485072\n",
      "val_loss: 35.14416052442078, val_f1: 0.039994402774875, val_precision: 0.020411494241412215, val_recall: 0.9852276162816844\n"
     ]
    },
    {
     "name": "stderr",
     "output_type": "stream",
     "text": [
      "100%|█████████████████████████████████████████| 655/655 [00:17<00:00, 36.52it/s]\n"
     ]
    },
    {
     "name": "stdout",
     "output_type": "stream",
     "text": [
      "Epoch: 495, loss: 35.14413118435226, f1: 0.03538925899834932, precision: 0.018017152505606867, recall: 0.9884778197485072\n",
      "val_loss: 35.14416043692773, val_f1: 0.039994402774875, val_precision: 0.020411494241412215, val_recall: 0.9852276162816844\n"
     ]
    },
    {
     "name": "stderr",
     "output_type": "stream",
     "text": [
      "100%|█████████████████████████████████████████| 655/655 [00:17<00:00, 36.47it/s]\n"
     ]
    },
    {
     "name": "stdout",
     "output_type": "stream",
     "text": [
      "Epoch: 496, loss: 35.14413112028865, f1: 0.03538925899834932, precision: 0.018017152505606867, recall: 0.9884778197485072\n",
      "val_loss: 35.14416031443745, val_f1: 0.039994402774875, val_precision: 0.020411494241412215, val_recall: 0.9852276162816844\n"
     ]
    },
    {
     "name": "stderr",
     "output_type": "stream",
     "text": [
      "100%|█████████████████████████████████████████| 655/655 [00:17<00:00, 36.54it/s]\n"
     ]
    },
    {
     "name": "stdout",
     "output_type": "stream",
     "text": [
      "Epoch: 497, loss: 35.14413106204899, f1: 0.03538925899834932, precision: 0.018017152505606867, recall: 0.9884778197485072\n",
      "val_loss: 35.14416027944022, val_f1: 0.039994402774875, val_precision: 0.020411494241412215, val_recall: 0.9852276162816844\n"
     ]
    },
    {
     "name": "stderr",
     "output_type": "stream",
     "text": [
      "100%|█████████████████████████████████████████| 655/655 [00:17<00:00, 37.09it/s]\n"
     ]
    },
    {
     "name": "stdout",
     "output_type": "stream",
     "text": [
      "Epoch: 498, loss: 35.14413102128123, f1: 0.03538925899834932, precision: 0.018017152505606867, recall: 0.9884778197485072\n",
      "val_loss: 35.14416013945133, val_f1: 0.039994402774875, val_precision: 0.020411494241412215, val_recall: 0.9852276162816844\n"
     ]
    },
    {
     "name": "stderr",
     "output_type": "stream",
     "text": [
      "100%|█████████████████████████████████████████| 655/655 [00:17<00:00, 36.54it/s]\n"
     ]
    },
    {
     "name": "stdout",
     "output_type": "stream",
     "text": [
      "Epoch: 499, loss: 35.14413095139365, f1: 0.03538925899834932, precision: 0.018017152505606867, recall: 0.9884778197485072\n",
      "val_loss: 35.144159999462445, val_f1: 0.039994402774875, val_precision: 0.020411494241412215, val_recall: 0.9852276162816844\n"
     ]
    },
    {
     "name": "stderr",
     "output_type": "stream",
     "text": [
      "100%|█████████████████████████████████████████| 655/655 [00:17<00:00, 36.41it/s]\n"
     ]
    },
    {
     "name": "stdout",
     "output_type": "stream",
     "text": [
      "Epoch: 500, loss: 35.144130887330036, f1: 0.03538925899834932, precision: 0.018017152505606867, recall: 0.9884778197485072\n",
      "val_loss: 35.14415987697216, val_f1: 0.039994402774875, val_precision: 0.020411494241412215, val_recall: 0.9852276162816844\n"
     ]
    },
    {
     "name": "stderr",
     "output_type": "stream",
     "text": [
      "100%|█████████████████████████████████████████| 655/655 [00:17<00:00, 36.53it/s]\n"
     ]
    },
    {
     "name": "stdout",
     "output_type": "stream",
     "text": [
      "Epoch: 501, loss: 35.14413081161848, f1: 0.03538925899834932, precision: 0.018017152505606867, recall: 0.9884778197485072\n",
      "val_loss: 35.1441597719805, val_f1: 0.039994402774875, val_precision: 0.020411494241412215, val_recall: 0.9852276162816844\n"
     ]
    },
    {
     "name": "stderr",
     "output_type": "stream",
     "text": [
      "100%|█████████████████████████████████████████| 655/655 [00:17<00:00, 36.58it/s]\n"
     ]
    },
    {
     "name": "stdout",
     "output_type": "stream",
     "text": [
      "Epoch: 502, loss: 35.14413077085073, f1: 0.03538925899834932, precision: 0.018017152505606867, recall: 0.9884778197485072\n",
      "val_loss: 35.14415964949022, val_f1: 0.039994402774875, val_precision: 0.020411494241412215, val_recall: 0.9852276162816844\n"
     ]
    },
    {
     "name": "stderr",
     "output_type": "stream",
     "text": [
      "100%|█████████████████████████████████████████| 655/655 [00:17<00:00, 36.56it/s]\n"
     ]
    },
    {
     "name": "stdout",
     "output_type": "stream",
     "text": [
      "Epoch: 503, loss: 35.14413068349125, f1: 0.03538925899834932, precision: 0.018017152505606867, recall: 0.9884778197485072\n",
      "val_loss: 35.14415956199716, val_f1: 0.039994402774875, val_precision: 0.020411494241412215, val_recall: 0.9852276162816844\n"
     ]
    },
    {
     "name": "stderr",
     "output_type": "stream",
     "text": [
      "100%|█████████████████████████████████████████| 655/655 [00:17<00:00, 37.17it/s]\n"
     ]
    },
    {
     "name": "stdout",
     "output_type": "stream",
     "text": [
      "Epoch: 504, loss: 35.14413064272349, f1: 0.03538925899834932, precision: 0.018017152505606867, recall: 0.9884778197485072\n",
      "val_loss: 35.14415945700549, val_f1: 0.039994402774875, val_precision: 0.020411494241412215, val_recall: 0.9852276162816844\n"
     ]
    },
    {
     "name": "stderr",
     "output_type": "stream",
     "text": [
      "100%|█████████████████████████████████████████| 655/655 [00:17<00:00, 36.62it/s]\n"
     ]
    },
    {
     "name": "stdout",
     "output_type": "stream",
     "text": [
      "Epoch: 505, loss: 35.14413059613177, f1: 0.03538925899834932, precision: 0.018017152505606867, recall: 0.9884778197485072\n",
      "val_loss: 35.144159334515216, val_f1: 0.039994402774875, val_precision: 0.020411494241412215, val_recall: 0.9852276162816844\n"
     ]
    },
    {
     "name": "stderr",
     "output_type": "stream",
     "text": [
      "100%|█████████████████████████████████████████| 655/655 [00:17<00:00, 36.42it/s]\n"
     ]
    },
    {
     "name": "stdout",
     "output_type": "stream",
     "text": [
      "Epoch: 506, loss: 35.14413054371608, f1: 0.03538925899834932, precision: 0.018017152505606867, recall: 0.9884778197485072\n",
      "val_loss: 35.14415924702216, val_f1: 0.039994402774875, val_precision: 0.020411494241412215, val_recall: 0.9852276162816844\n"
     ]
    },
    {
     "name": "stderr",
     "output_type": "stream",
     "text": [
      "100%|█████████████████████████████████████████| 655/655 [00:17<00:00, 36.63it/s]\n"
     ]
    },
    {
     "name": "stdout",
     "output_type": "stream",
     "text": [
      "Epoch: 507, loss: 35.1441304738285, f1: 0.03538925899834932, precision: 0.018017152505606867, recall: 0.9884778197485072\n",
      "val_loss: 35.14415914203049, val_f1: 0.039994402774875, val_precision: 0.020411494241412215, val_recall: 0.9852276162816844\n"
     ]
    },
    {
     "name": "stderr",
     "output_type": "stream",
     "text": [
      "100%|█████████████████████████████████████████| 655/655 [00:17<00:00, 36.58it/s]\n"
     ]
    },
    {
     "name": "stdout",
     "output_type": "stream",
     "text": [
      "Epoch: 508, loss: 35.14413043306074, f1: 0.03538925899834932, precision: 0.018017152505606867, recall: 0.9884778197485072\n",
      "val_loss: 35.144158722063814, val_f1: 0.039994402774875, val_precision: 0.020411494241412215, val_recall: 0.9852276162816844\n"
     ]
    },
    {
     "name": "stderr",
     "output_type": "stream",
     "text": [
      "100%|█████████████████████████████████████████| 655/655 [00:17<00:00, 36.45it/s]\n"
     ]
    },
    {
     "name": "stdout",
     "output_type": "stream",
     "text": [
      "Epoch: 509, loss: 35.144130386469016, f1: 0.03538925899834932, precision: 0.018017152505606867, recall: 0.9884778197485072\n",
      "val_loss: 35.144158669567986, val_f1: 0.039994402774875, val_precision: 0.020411494241412215, val_recall: 0.9852276162816844\n"
     ]
    },
    {
     "name": "stderr",
     "output_type": "stream",
     "text": [
      "100%|█████████████████████████████████████████| 655/655 [00:17<00:00, 36.89it/s]\n"
     ]
    },
    {
     "name": "stdout",
     "output_type": "stream",
     "text": [
      "Epoch: 510, loss: 35.144130345701264, f1: 0.03538925899834932, precision: 0.018017152505606867, recall: 0.9884778197485072\n",
      "val_loss: 35.14415844208604, val_f1: 0.039994402774875, val_precision: 0.020411494241412215, val_recall: 0.9852276162816844\n"
     ]
    },
    {
     "name": "stderr",
     "output_type": "stream",
     "text": [
      "100%|█████████████████████████████████████████| 655/655 [00:17<00:00, 36.66it/s]\n"
     ]
    },
    {
     "name": "stdout",
     "output_type": "stream",
     "text": [
      "Epoch: 511, loss: 35.14413029328557, f1: 0.03538925899834932, precision: 0.018017152505606867, recall: 0.9884778197485072\n",
      "val_loss: 35.14415837209159, val_f1: 0.039994402774875, val_precision: 0.020411494241412215, val_recall: 0.9852276162816844\n"
     ]
    },
    {
     "name": "stderr",
     "output_type": "stream",
     "text": [
      "100%|█████████████████████████████████████████| 655/655 [00:17<00:00, 36.72it/s]\n"
     ]
    },
    {
     "name": "stdout",
     "output_type": "stream",
     "text": [
      "Epoch: 512, loss: 35.14413025251782, f1: 0.03538925899834932, precision: 0.018017152505606867, recall: 0.9884778197485072\n",
      "val_loss: 35.14415828459853, val_f1: 0.039994402774875, val_precision: 0.020411494241412215, val_recall: 0.9852276162816844\n"
     ]
    },
    {
     "name": "stderr",
     "output_type": "stream",
     "text": [
      "100%|█████████████████████████████████████████| 655/655 [00:17<00:00, 36.62it/s]\n"
     ]
    },
    {
     "name": "stdout",
     "output_type": "stream",
     "text": [
      "Epoch: 513, loss: 35.144130200102126, f1: 0.03538925899834932, precision: 0.018017152505606867, recall: 0.9884778197485072\n",
      "val_loss: 35.1441582321027, val_f1: 0.039994402774875, val_precision: 0.020411494241412215, val_recall: 0.9852276162816844\n"
     ]
    },
    {
     "name": "stderr",
     "output_type": "stream",
     "text": [
      "100%|█████████████████████████████████████████| 655/655 [00:17<00:00, 36.45it/s]\n"
     ]
    },
    {
     "name": "stdout",
     "output_type": "stream",
     "text": [
      "Epoch: 514, loss: 35.14413013603851, f1: 0.03538925899834932, precision: 0.018017152505606867, recall: 0.9884778197485072\n",
      "val_loss: 35.14415810961242, val_f1: 0.039994402774875, val_precision: 0.020411494241412215, val_recall: 0.9852276162816844\n"
     ]
    },
    {
     "name": "stderr",
     "output_type": "stream",
     "text": [
      "100%|█████████████████████████████████████████| 655/655 [00:17<00:00, 36.54it/s]\n"
     ]
    },
    {
     "name": "stdout",
     "output_type": "stream",
     "text": [
      "Epoch: 515, loss: 35.14412996714352, f1: 0.03538925899834932, precision: 0.018017152505606867, recall: 0.9884778197485072\n",
      "val_loss: 35.144158004620756, val_f1: 0.039994402774875, val_precision: 0.020411494241412215, val_recall: 0.9852276162816844\n"
     ]
    },
    {
     "name": "stderr",
     "output_type": "stream",
     "text": [
      "100%|█████████████████████████████████████████| 655/655 [00:17<00:00, 36.74it/s]\n"
     ]
    },
    {
     "name": "stdout",
     "output_type": "stream",
     "text": [
      "Epoch: 516, loss: 35.14412991472783, f1: 0.03538925899834932, precision: 0.018017152505606867, recall: 0.9884778197485072\n",
      "val_loss: 35.1441579171277, val_f1: 0.039994402774875, val_precision: 0.020411494241412215, val_recall: 0.9852276162816844\n"
     ]
    },
    {
     "name": "stderr",
     "output_type": "stream",
     "text": [
      "100%|█████████████████████████████████████████| 655/655 [00:17<00:00, 36.68it/s]\n"
     ]
    },
    {
     "name": "stdout",
     "output_type": "stream",
     "text": [
      "Epoch: 517, loss: 35.144129833192316, f1: 0.03538925899834932, precision: 0.018017152505606867, recall: 0.9884778197485072\n",
      "val_loss: 35.14415782963464, val_f1: 0.039994402774875, val_precision: 0.020411494241412215, val_recall: 0.9852276162816844\n"
     ]
    },
    {
     "name": "stderr",
     "output_type": "stream",
     "text": [
      "100%|█████████████████████████████████████████| 655/655 [00:17<00:00, 36.59it/s]\n"
     ]
    },
    {
     "name": "stdout",
     "output_type": "stream",
     "text": [
      "Epoch: 518, loss: 35.144129769128696, f1: 0.03538925899834932, precision: 0.018017152505606867, recall: 0.9884778197485072\n",
      "val_loss: 35.14415770714436, val_f1: 0.039994402774875, val_precision: 0.020411494241412215, val_recall: 0.9852276162816844\n"
     ]
    },
    {
     "name": "stderr",
     "output_type": "stream",
     "text": [
      "100%|█████████████████████████████████████████| 655/655 [00:17<00:00, 36.58it/s]\n"
     ]
    },
    {
     "name": "stdout",
     "output_type": "stream",
     "text": [
      "Epoch: 519, loss: 35.14412972836094, f1: 0.03538925899834932, precision: 0.018017152505606867, recall: 0.9884778197485072\n",
      "val_loss: 35.144157654648524, val_f1: 0.039994402774875, val_precision: 0.020411494241412215, val_recall: 0.9852276162816844\n"
     ]
    },
    {
     "name": "stderr",
     "output_type": "stream",
     "text": [
      "100%|█████████████████████████████████████████| 655/655 [00:17<00:00, 36.55it/s]\n"
     ]
    },
    {
     "name": "stdout",
     "output_type": "stream",
     "text": [
      "Epoch: 520, loss: 35.144129664297324, f1: 0.03538925899834932, precision: 0.018017152505606867, recall: 0.9884778197485072\n",
      "val_loss: 35.14415756715547, val_f1: 0.039994402774875, val_precision: 0.020411494241412215, val_recall: 0.9852276162816844\n"
     ]
    },
    {
     "name": "stderr",
     "output_type": "stream",
     "text": [
      "100%|█████████████████████████████████████████| 655/655 [00:17<00:00, 36.58it/s]\n"
     ]
    },
    {
     "name": "stdout",
     "output_type": "stream",
     "text": [
      "Epoch: 521, loss: 35.1441296177056, f1: 0.03538925899834932, precision: 0.018017152505606867, recall: 0.9884778197485072\n",
      "val_loss: 35.14415751465964, val_f1: 0.039994402774875, val_precision: 0.020411494241412215, val_recall: 0.9852276162816844\n"
     ]
    },
    {
     "name": "stderr",
     "output_type": "stream",
     "text": [
      "100%|█████████████████████████████████████████| 655/655 [00:17<00:00, 36.55it/s]\n"
     ]
    },
    {
     "name": "stdout",
     "output_type": "stream",
     "text": [
      "Epoch: 522, loss: 35.144129565289916, f1: 0.03538925899834932, precision: 0.018017152505606867, recall: 0.9884778197485072\n",
      "val_loss: 35.14415751465964, val_f1: 0.039994402774875, val_precision: 0.020411494241412215, val_recall: 0.9852276162816844\n"
     ]
    },
    {
     "name": "stderr",
     "output_type": "stream",
     "text": [
      "100%|█████████████████████████████████████████| 655/655 [00:17<00:00, 37.17it/s]\n"
     ]
    },
    {
     "name": "stdout",
     "output_type": "stream",
     "text": [
      "Epoch: 523, loss: 35.144129501226296, f1: 0.03538925899834932, precision: 0.018017152505606867, recall: 0.9884778197485072\n",
      "val_loss: 35.14415737467075, val_f1: 0.039994402774875, val_precision: 0.020411494241412215, val_recall: 0.9852276162816844\n"
     ]
    },
    {
     "name": "stderr",
     "output_type": "stream",
     "text": [
      "100%|█████████████████████████████████████████| 655/655 [00:17<00:00, 36.59it/s]\n"
     ]
    },
    {
     "name": "stdout",
     "output_type": "stream",
     "text": [
      "Epoch: 524, loss: 35.144129437162675, f1: 0.03538925899834932, precision: 0.018017152505606867, recall: 0.9884778197485072\n",
      "val_loss: 35.1441573046763, val_f1: 0.039994402774875, val_precision: 0.020411494241412215, val_recall: 0.9852276162816844\n"
     ]
    },
    {
     "name": "stderr",
     "output_type": "stream",
     "text": [
      "100%|█████████████████████████████████████████| 655/655 [00:17<00:00, 36.57it/s]\n"
     ]
    },
    {
     "name": "stdout",
     "output_type": "stream",
     "text": [
      "Epoch: 525, loss: 35.144129378923026, f1: 0.03538925899834932, precision: 0.018017152505606867, recall: 0.9884778197485072\n",
      "val_loss: 35.14415718218602, val_f1: 0.039994402774875, val_precision: 0.020411494241412215, val_recall: 0.9852276162816844\n"
     ]
    },
    {
     "name": "stderr",
     "output_type": "stream",
     "text": [
      "100%|█████████████████████████████████████████| 655/655 [00:17<00:00, 36.51it/s]\n"
     ]
    },
    {
     "name": "stdout",
     "output_type": "stream",
     "text": [
      "Epoch: 526, loss: 35.1441293323313, f1: 0.03538925899834932, precision: 0.018017152505606867, recall: 0.9884778197485072\n",
      "val_loss: 35.144157094692964, val_f1: 0.039994402774875, val_precision: 0.020411494241412215, val_recall: 0.9852276162816844\n"
     ]
    },
    {
     "name": "stderr",
     "output_type": "stream",
     "text": [
      "100%|█████████████████████████████████████████| 655/655 [00:17<00:00, 36.50it/s]\n"
     ]
    },
    {
     "name": "stdout",
     "output_type": "stream",
     "text": [
      "Epoch: 527, loss: 35.14412927991561, f1: 0.03538925899834932, precision: 0.018017152505606867, recall: 0.9884778197485072\n",
      "val_loss: 35.14415702469852, val_f1: 0.039994402774875, val_precision: 0.020411494241412215, val_recall: 0.9852276162816844\n"
     ]
    },
    {
     "name": "stderr",
     "output_type": "stream",
     "text": [
      "100%|█████████████████████████████████████████| 655/655 [00:17<00:00, 36.46it/s]\n"
     ]
    },
    {
     "name": "stdout",
     "output_type": "stream",
     "text": [
      "Epoch: 528, loss: 35.14412923914786, f1: 0.03538925899834932, precision: 0.018017152505606867, recall: 0.9884778197485072\n",
      "val_loss: 35.14415690220824, val_f1: 0.039994402774875, val_precision: 0.020411494241412215, val_recall: 0.9852276162816844\n"
     ]
    },
    {
     "name": "stderr",
     "output_type": "stream",
     "text": [
      "100%|█████████████████████████████████████████| 655/655 [00:17<00:00, 37.12it/s]\n"
     ]
    },
    {
     "name": "stdout",
     "output_type": "stream",
     "text": [
      "Epoch: 529, loss: 35.14412921002803, f1: 0.03538925899834932, precision: 0.018017152505606867, recall: 0.9884778197485072\n",
      "val_loss: 35.14415684971241, val_f1: 0.039994402774875, val_precision: 0.020411494241412215, val_recall: 0.9852276162816844\n"
     ]
    },
    {
     "name": "stderr",
     "output_type": "stream",
     "text": [
      "100%|█████████████████████████████████████████| 655/655 [00:17<00:00, 36.53it/s]\n"
     ]
    },
    {
     "name": "stdout",
     "output_type": "stream",
     "text": [
      "Epoch: 530, loss: 35.144129105196654, f1: 0.03538925899834932, precision: 0.018017152505606867, recall: 0.9884778197485072\n",
      "val_loss: 35.14415674472074, val_f1: 0.039994402774875, val_precision: 0.020411494241412215, val_recall: 0.9852276162816844\n"
     ]
    },
    {
     "name": "stderr",
     "output_type": "stream",
     "text": [
      "100%|█████████████████████████████████████████| 655/655 [00:17<00:00, 36.55it/s]\n"
     ]
    },
    {
     "name": "stdout",
     "output_type": "stream",
     "text": [
      "Epoch: 531, loss: 35.14412902948511, f1: 0.03538925899834932, precision: 0.018017152505606867, recall: 0.9884778197485072\n",
      "val_loss: 35.144156727222125, val_f1: 0.039994402774875, val_precision: 0.020411494241412215, val_recall: 0.9852276162816844\n"
     ]
    },
    {
     "name": "stderr",
     "output_type": "stream",
     "text": [
      "100%|█████████████████████████████████████████| 655/655 [00:17<00:00, 36.77it/s]\n"
     ]
    },
    {
     "name": "stdout",
     "output_type": "stream",
     "text": [
      "Epoch: 532, loss: 35.14412894794959, f1: 0.03538925899834932, precision: 0.018017152505606867, recall: 0.9884778197485072\n",
      "val_loss: 35.144156464742956, val_f1: 0.039994402774875, val_precision: 0.020411494241412215, val_recall: 0.9852276162816844\n"
     ]
    },
    {
     "name": "stderr",
     "output_type": "stream",
     "text": [
      "100%|█████████████████████████████████████████| 655/655 [00:17<00:00, 36.55it/s]\n"
     ]
    },
    {
     "name": "stdout",
     "output_type": "stream",
     "text": [
      "Epoch: 533, loss: 35.14412890135787, f1: 0.03538925899834932, precision: 0.018017152505606867, recall: 0.9884778197485072\n",
      "val_loss: 35.14415641224712, val_f1: 0.039994402774875, val_precision: 0.020411494241412215, val_recall: 0.9852276162816844\n"
     ]
    },
    {
     "name": "stderr",
     "output_type": "stream",
     "text": [
      "100%|█████████████████████████████████████████| 655/655 [00:17<00:00, 36.44it/s]\n"
     ]
    },
    {
     "name": "stdout",
     "output_type": "stream",
     "text": [
      "Epoch: 534, loss: 35.144128860590115, f1: 0.03538925899834932, precision: 0.018017152505606867, recall: 0.9884778197485072\n",
      "val_loss: 35.14415635975129, val_f1: 0.039994402774875, val_precision: 0.020411494241412215, val_recall: 0.9852276162816844\n"
     ]
    },
    {
     "name": "stderr",
     "output_type": "stream",
     "text": [
      "100%|█████████████████████████████████████████| 655/655 [00:17<00:00, 36.93it/s]\n"
     ]
    },
    {
     "name": "stdout",
     "output_type": "stream",
     "text": [
      "Epoch: 535, loss: 35.14412880235046, f1: 0.03538925899834932, precision: 0.018017152505606867, recall: 0.9884778197485072\n",
      "val_loss: 35.144156027277674, val_f1: 0.039994402774875, val_precision: 0.020411494241412215, val_recall: 0.9852276162816844\n"
     ]
    },
    {
     "name": "stderr",
     "output_type": "stream",
     "text": [
      "100%|█████████████████████████████████████████| 655/655 [00:17<00:00, 36.42it/s]\n"
     ]
    },
    {
     "name": "stdout",
     "output_type": "stream",
     "text": [
      "Epoch: 536, loss: 35.14412870334305, f1: 0.03538925899834932, precision: 0.018017152505606867, recall: 0.9884778197485072\n",
      "val_loss: 35.1441559047874, val_f1: 0.039994402774875, val_precision: 0.020411494241412215, val_recall: 0.9852276162816844\n"
     ]
    },
    {
     "name": "stderr",
     "output_type": "stream",
     "text": [
      "100%|█████████████████████████████████████████| 655/655 [00:17<00:00, 36.54it/s]\n"
     ]
    },
    {
     "name": "stdout",
     "output_type": "stream",
     "text": [
      "Epoch: 537, loss: 35.14412866257529, f1: 0.03538925899834932, precision: 0.018017152505606867, recall: 0.9884778197485072\n",
      "val_loss: 35.14415585229156, val_f1: 0.039994402774875, val_precision: 0.020411494241412215, val_recall: 0.9852276162816844\n"
     ]
    },
    {
     "name": "stderr",
     "output_type": "stream",
     "text": [
      "100%|█████████████████████████████████████████| 655/655 [00:17<00:00, 36.48it/s]\n"
     ]
    },
    {
     "name": "stdout",
     "output_type": "stream",
     "text": [
      "Epoch: 538, loss: 35.1441286276315, f1: 0.03538925899834932, precision: 0.018017152505606867, recall: 0.9884778197485072\n",
      "val_loss: 35.144155764798505, val_f1: 0.039994402774875, val_precision: 0.020411494241412215, val_recall: 0.9852276162816844\n"
     ]
    },
    {
     "name": "stderr",
     "output_type": "stream",
     "text": [
      "100%|█████████████████████████████████████████| 655/655 [00:17<00:00, 36.46it/s]\n"
     ]
    },
    {
     "name": "stdout",
     "output_type": "stream",
     "text": [
      "Epoch: 539, loss: 35.14412858103978, f1: 0.03538925899834932, precision: 0.018017152505606867, recall: 0.9884778197485072\n",
      "val_loss: 35.14415569480406, val_f1: 0.039994402774875, val_precision: 0.020411494241412215, val_recall: 0.9852276162816844\n"
     ]
    },
    {
     "name": "stderr",
     "output_type": "stream",
     "text": [
      "100%|█████████████████████████████████████████| 655/655 [00:17<00:00, 36.59it/s]\n"
     ]
    },
    {
     "name": "stdout",
     "output_type": "stream",
     "text": [
      "Epoch: 540, loss: 35.14412855191995, f1: 0.03538925899834932, precision: 0.018017152505606867, recall: 0.9884778197485072\n",
      "val_loss: 35.14415558981239, val_f1: 0.039994402774875, val_precision: 0.020411494241412215, val_recall: 0.9852276162816844\n"
     ]
    },
    {
     "name": "stderr",
     "output_type": "stream",
     "text": [
      "100%|█████████████████████████████████████████| 655/655 [00:17<00:00, 36.48it/s]\n"
     ]
    },
    {
     "name": "stdout",
     "output_type": "stream",
     "text": [
      "Epoch: 541, loss: 35.1441284936803, f1: 0.03538925899834932, precision: 0.018017152505606867, recall: 0.9884778197485072\n",
      "val_loss: 35.14415551981795, val_f1: 0.039994402774875, val_precision: 0.020411494241412215, val_recall: 0.9852276162816844\n"
     ]
    },
    {
     "name": "stderr",
     "output_type": "stream",
     "text": [
      "100%|█████████████████████████████████████████| 655/655 [00:17<00:00, 36.95it/s]\n"
     ]
    },
    {
     "name": "stdout",
     "output_type": "stream",
     "text": [
      "Epoch: 542, loss: 35.14412844126461, f1: 0.03538925899834932, precision: 0.018017152505606867, recall: 0.9884778197485072\n",
      "val_loss: 35.1441554498235, val_f1: 0.039994402774875, val_precision: 0.020411494241412215, val_recall: 0.9852276162816844\n"
     ]
    },
    {
     "name": "stderr",
     "output_type": "stream",
     "text": [
      "100%|█████████████████████████████████████████| 655/655 [00:17<00:00, 36.52it/s]\n"
     ]
    },
    {
     "name": "stdout",
     "output_type": "stream",
     "text": [
      "Epoch: 543, loss: 35.14412838884893, f1: 0.03538925899834932, precision: 0.018017152505606867, recall: 0.9884778197485072\n",
      "val_loss: 35.14415534483184, val_f1: 0.039994402774875, val_precision: 0.020411494241412215, val_recall: 0.9852276162816844\n"
     ]
    },
    {
     "name": "stderr",
     "output_type": "stream",
     "text": [
      "100%|█████████████████████████████████████████| 655/655 [00:17<00:00, 36.57it/s]\n"
     ]
    },
    {
     "name": "stdout",
     "output_type": "stream",
     "text": [
      "Epoch: 544, loss: 35.14412833643323, f1: 0.03538925899834932, precision: 0.018017152505606867, recall: 0.9884778197485072\n",
      "val_loss: 35.14415527483739, val_f1: 0.039994402774875, val_precision: 0.020411494241412215, val_recall: 0.9852276162816844\n"
     ]
    },
    {
     "name": "stderr",
     "output_type": "stream",
     "text": [
      "100%|█████████████████████████████████████████| 655/655 [00:17<00:00, 36.58it/s]\n"
     ]
    },
    {
     "name": "stdout",
     "output_type": "stream",
     "text": [
      "Epoch: 545, loss: 35.14412831313737, f1: 0.03538925899834932, precision: 0.018017152505606867, recall: 0.9884778197485072\n",
      "val_loss: 35.14415518734433, val_f1: 0.039994402774875, val_precision: 0.020411494241412215, val_recall: 0.9852276162816844\n"
     ]
    },
    {
     "name": "stderr",
     "output_type": "stream",
     "text": [
      "100%|█████████████████████████████████████████| 655/655 [00:17<00:00, 36.56it/s]\n"
     ]
    },
    {
     "name": "stdout",
     "output_type": "stream",
     "text": [
      "Epoch: 546, loss: 35.144128260721686, f1: 0.03538925899834932, precision: 0.018017152505606867, recall: 0.9884778197485072\n",
      "val_loss: 35.14415511734989, val_f1: 0.039994402774875, val_precision: 0.020411494241412215, val_recall: 0.9852276162816844\n"
     ]
    },
    {
     "name": "stderr",
     "output_type": "stream",
     "text": [
      "100%|█████████████████████████████████████████| 655/655 [00:17<00:00, 36.51it/s]\n"
     ]
    },
    {
     "name": "stdout",
     "output_type": "stream",
     "text": [
      "Epoch: 547, loss: 35.144128214129964, f1: 0.03538925899834932, precision: 0.018017152505606867, recall: 0.9884778197485072\n",
      "val_loss: 35.14415508235266, val_f1: 0.039994402774875, val_precision: 0.020411494241412215, val_recall: 0.9852276162816844\n"
     ]
    },
    {
     "name": "stderr",
     "output_type": "stream",
     "text": [
      "100%|█████████████████████████████████████████| 655/655 [00:17<00:00, 37.19it/s]\n"
     ]
    },
    {
     "name": "stdout",
     "output_type": "stream",
     "text": [
      "Epoch: 548, loss: 35.14412818501014, f1: 0.03538925899834932, precision: 0.018017152505606867, recall: 0.9884778197485072\n",
      "val_loss: 35.144154977361, val_f1: 0.039994402774875, val_precision: 0.020411494241412215, val_recall: 0.9852276162816844\n"
     ]
    },
    {
     "name": "stderr",
     "output_type": "stream",
     "text": [
      "100%|█████████████████████████████████████████| 655/655 [00:17<00:00, 36.55it/s]\n"
     ]
    },
    {
     "name": "stdout",
     "output_type": "stream",
     "text": [
      "Epoch: 549, loss: 35.14412813841842, f1: 0.03538925899834932, precision: 0.018017152505606867, recall: 0.9884778197485072\n",
      "val_loss: 35.14415492486516, val_f1: 0.039994402774875, val_precision: 0.020411494241412215, val_recall: 0.9852276162816844\n"
     ]
    },
    {
     "name": "stderr",
     "output_type": "stream",
     "text": [
      "100%|█████████████████████████████████████████| 655/655 [00:17<00:00, 36.50it/s]\n"
     ]
    },
    {
     "name": "stdout",
     "output_type": "stream",
     "text": [
      "Epoch: 550, loss: 35.14412810347462, f1: 0.03538925899834932, precision: 0.018017152505606867, recall: 0.9884778197485072\n",
      "val_loss: 35.14415485487072, val_f1: 0.039994402774875, val_precision: 0.020411494241412215, val_recall: 0.9852276162816844\n"
     ]
    },
    {
     "name": "stderr",
     "output_type": "stream",
     "text": [
      "100%|█████████████████████████████████████████| 655/655 [00:17<00:00, 36.62it/s]\n"
     ]
    },
    {
     "name": "stdout",
     "output_type": "stream",
     "text": [
      "Epoch: 551, loss: 35.144128051058935, f1: 0.03538925899834932, precision: 0.018017152505606867, recall: 0.9884778197485072\n",
      "val_loss: 35.144154697383215, val_f1: 0.039994402774875, val_precision: 0.020411494241412215, val_recall: 0.9852276162816844\n"
     ]
    },
    {
     "name": "stderr",
     "output_type": "stream",
     "text": [
      "100%|█████████████████████████████████████████| 655/655 [00:17<00:00, 36.50it/s]\n"
     ]
    },
    {
     "name": "stdout",
     "output_type": "stream",
     "text": [
      "Epoch: 552, loss: 35.144128010291176, f1: 0.03538925899834932, precision: 0.018017152505606867, recall: 0.9884778197485072\n",
      "val_loss: 35.14415466238599, val_f1: 0.039994402774875, val_precision: 0.020411494241412215, val_recall: 0.9852276162816844\n"
     ]
    },
    {
     "name": "stderr",
     "output_type": "stream",
     "text": [
      "100%|█████████████████████████████████████████| 655/655 [00:17<00:00, 36.57it/s]\n"
     ]
    },
    {
     "name": "stdout",
     "output_type": "stream",
     "text": [
      "Epoch: 553, loss: 35.14412793457963, f1: 0.03538925899834932, precision: 0.018017152505606867, recall: 0.9884778197485072\n",
      "val_loss: 35.14415455739432, val_f1: 0.039994402774875, val_precision: 0.020411494241412215, val_recall: 0.9852276162816844\n"
     ]
    },
    {
     "name": "stderr",
     "output_type": "stream",
     "text": [
      "100%|█████████████████████████████████████████| 655/655 [00:17<00:00, 37.02it/s]\n"
     ]
    },
    {
     "name": "stdout",
     "output_type": "stream",
     "text": [
      "Epoch: 554, loss: 35.14412787633998, f1: 0.03538925899834932, precision: 0.018017152505606867, recall: 0.9884778197485072\n",
      "val_loss: 35.14415441740543, val_f1: 0.039994402774875, val_precision: 0.020411494241412215, val_recall: 0.9852276162816844\n"
     ]
    },
    {
     "name": "stderr",
     "output_type": "stream",
     "text": [
      "100%|█████████████████████████████████████████| 655/655 [00:17<00:00, 36.54it/s]\n"
     ]
    },
    {
     "name": "stdout",
     "output_type": "stream",
     "text": [
      "Epoch: 555, loss: 35.14412782392429, f1: 0.03538925899834932, precision: 0.018017152505606867, recall: 0.9884778197485072\n",
      "val_loss: 35.144154329912375, val_f1: 0.039994402774875, val_precision: 0.020411494241412215, val_recall: 0.9852276162816844\n"
     ]
    },
    {
     "name": "stderr",
     "output_type": "stream",
     "text": [
      "100%|█████████████████████████████████████████| 655/655 [00:17<00:00, 36.46it/s]\n"
     ]
    },
    {
     "name": "stdout",
     "output_type": "stream",
     "text": [
      "Epoch: 556, loss: 35.14412774821274, f1: 0.03538925899834932, precision: 0.018017152505606867, recall: 0.9884778197485072\n",
      "val_loss: 35.14415411992904, val_f1: 0.039994402774875, val_precision: 0.020411494241412215, val_recall: 0.9852276162816844\n"
     ]
    },
    {
     "name": "stderr",
     "output_type": "stream",
     "text": [
      "100%|█████████████████████████████████████████| 655/655 [00:17<00:00, 36.60it/s]\n"
     ]
    },
    {
     "name": "stdout",
     "output_type": "stream",
     "text": [
      "Epoch: 557, loss: 35.14412770744499, f1: 0.03538925899834932, precision: 0.018017152505606867, recall: 0.9884778197485072\n",
      "val_loss: 35.144154067433206, val_f1: 0.039994402774875, val_precision: 0.020411494241412215, val_recall: 0.9852276162816844\n"
     ]
    },
    {
     "name": "stderr",
     "output_type": "stream",
     "text": [
      "100%|█████████████████████████████████████████| 655/655 [00:17<00:00, 36.41it/s]\n"
     ]
    },
    {
     "name": "stdout",
     "output_type": "stream",
     "text": [
      "Epoch: 558, loss: 35.144127655029294, f1: 0.03538925899834932, precision: 0.018017152505606867, recall: 0.9884778197485072\n",
      "val_loss: 35.144154032435985, val_f1: 0.039994402774875, val_precision: 0.020411494241412215, val_recall: 0.9852276162816844\n"
     ]
    },
    {
     "name": "stderr",
     "output_type": "stream",
     "text": [
      "100%|█████████████████████████████████████████| 655/655 [00:17<00:00, 36.45it/s]\n"
     ]
    },
    {
     "name": "stdout",
     "output_type": "stream",
     "text": [
      "Epoch: 559, loss: 35.14412762590947, f1: 0.03538925899834932, precision: 0.018017152505606867, recall: 0.9884778197485072\n",
      "val_loss: 35.14415392744432, val_f1: 0.039994402774875, val_precision: 0.020411494241412215, val_recall: 0.9852276162816844\n"
     ]
    },
    {
     "name": "stderr",
     "output_type": "stream",
     "text": [
      "100%|█████████████████████████████████████████| 655/655 [00:17<00:00, 36.84it/s]\n"
     ]
    },
    {
     "name": "stdout",
     "output_type": "stream",
     "text": [
      "Epoch: 560, loss: 35.14412757931775, f1: 0.03538925899834932, precision: 0.018017152505606867, recall: 0.9884778197485072\n",
      "val_loss: 35.144153769956816, val_f1: 0.039994402774875, val_precision: 0.020411494241412215, val_recall: 0.9852276162816844\n"
     ]
    },
    {
     "name": "stderr",
     "output_type": "stream",
     "text": [
      "100%|█████████████████████████████████████████| 655/655 [00:17<00:00, 36.56it/s]\n"
     ]
    },
    {
     "name": "stdout",
     "output_type": "stream",
     "text": [
      "Epoch: 561, loss: 35.1441275210781, f1: 0.03538925899834932, precision: 0.018017152505606867, recall: 0.9884778197485072\n",
      "val_loss: 35.14415368246376, val_f1: 0.039994402774875, val_precision: 0.020411494241412215, val_recall: 0.9852276162816844\n"
     ]
    },
    {
     "name": "stderr",
     "output_type": "stream",
     "text": [
      "100%|█████████████████████████████████████████| 655/655 [00:17<00:00, 36.56it/s]\n"
     ]
    },
    {
     "name": "stdout",
     "output_type": "stream",
     "text": [
      "Epoch: 562, loss: 35.14412748031034, f1: 0.03538925899834932, precision: 0.018017152505606867, recall: 0.9884778197485072\n",
      "val_loss: 35.1441535949707, val_f1: 0.039994402774875, val_precision: 0.020411494241412215, val_recall: 0.9852276162816844\n"
     ]
    },
    {
     "name": "stderr",
     "output_type": "stream",
     "text": [
      "100%|█████████████████████████████████████████| 655/655 [00:17<00:00, 36.56it/s]\n"
     ]
    },
    {
     "name": "stdout",
     "output_type": "stream",
     "text": [
      "Epoch: 563, loss: 35.14412742789465, f1: 0.03538925899834932, precision: 0.018017152505606867, recall: 0.9884778197485072\n",
      "val_loss: 35.14415352497626, val_f1: 0.039994402774875, val_precision: 0.020411494241412215, val_recall: 0.9852276162816844\n"
     ]
    },
    {
     "name": "stderr",
     "output_type": "stream",
     "text": [
      "100%|█████████████████████████████████████████| 655/655 [00:17<00:00, 36.60it/s]\n"
     ]
    },
    {
     "name": "stdout",
     "output_type": "stream",
     "text": [
      "Epoch: 564, loss: 35.14412739295086, f1: 0.03538925899834932, precision: 0.018017152505606867, recall: 0.9884778197485072\n",
      "val_loss: 35.14415348997903, val_f1: 0.039994402774875, val_precision: 0.020411494241412215, val_recall: 0.9852276162816844\n"
     ]
    },
    {
     "name": "stderr",
     "output_type": "stream",
     "text": [
      "100%|█████████████████████████████████████████| 655/655 [00:17<00:00, 36.57it/s]\n"
     ]
    },
    {
     "name": "stdout",
     "output_type": "stream",
     "text": [
      "Epoch: 565, loss: 35.144127352183105, f1: 0.03538925899834932, precision: 0.018017152505606867, recall: 0.9884778197485072\n",
      "val_loss: 35.144153402485976, val_f1: 0.039994402774875, val_precision: 0.020411494241412215, val_recall: 0.9852276162816844\n"
     ]
    },
    {
     "name": "stderr",
     "output_type": "stream",
     "text": [
      "100%|█████████████████████████████████████████| 655/655 [00:17<00:00, 36.64it/s]\n"
     ]
    },
    {
     "name": "stdout",
     "output_type": "stream",
     "text": [
      "Epoch: 566, loss: 35.144127311415346, f1: 0.03538925899834932, precision: 0.018017152505606867, recall: 0.9884778197485072\n",
      "val_loss: 35.144153070012365, val_f1: 0.039994402774875, val_precision: 0.020411494241412215, val_recall: 0.9852276162816844\n"
     ]
    },
    {
     "name": "stderr",
     "output_type": "stream",
     "text": [
      "100%|█████████████████████████████████████████| 655/655 [00:17<00:00, 36.81it/s]\n"
     ]
    },
    {
     "name": "stdout",
     "output_type": "stream",
     "text": [
      "Epoch: 567, loss: 35.14412725317569, f1: 0.03538925899834932, precision: 0.018017152505606867, recall: 0.9884778197485072\n",
      "val_loss: 35.14415301751653, val_f1: 0.039994402774875, val_precision: 0.020411494241412215, val_recall: 0.9852276162816844\n"
     ]
    },
    {
     "name": "stderr",
     "output_type": "stream",
     "text": [
      "100%|█████████████████████████████████████████| 655/655 [00:17<00:00, 36.54it/s]\n"
     ]
    },
    {
     "name": "stdout",
     "output_type": "stream",
     "text": [
      "Epoch: 568, loss: 35.14412722987983, f1: 0.03538925899834932, precision: 0.018017152505606867, recall: 0.9884778197485072\n",
      "val_loss: 35.14415293002347, val_f1: 0.039994402774875, val_precision: 0.020411494241412215, val_recall: 0.9852276162816844\n"
     ]
    },
    {
     "name": "stderr",
     "output_type": "stream",
     "text": [
      "100%|█████████████████████████████████████████| 655/655 [00:17<00:00, 36.47it/s]\n"
     ]
    },
    {
     "name": "stdout",
     "output_type": "stream",
     "text": [
      "Epoch: 569, loss: 35.144127183288106, f1: 0.03538925899834932, precision: 0.018017152505606867, recall: 0.9884778197485072\n",
      "val_loss: 35.1441528250318, val_f1: 0.039994402774875, val_precision: 0.020411494241412215, val_recall: 0.9852276162816844\n"
     ]
    },
    {
     "name": "stderr",
     "output_type": "stream",
     "text": [
      "100%|█████████████████████████████████████████| 655/655 [00:17<00:00, 36.59it/s]\n"
     ]
    },
    {
     "name": "stdout",
     "output_type": "stream",
     "text": [
      "Epoch: 570, loss: 35.14412713087242, f1: 0.03538925899834932, precision: 0.018017152505606867, recall: 0.9884778197485072\n",
      "val_loss: 35.14415279003458, val_f1: 0.039994402774875, val_precision: 0.020411494241412215, val_recall: 0.9852276162816844\n"
     ]
    },
    {
     "name": "stderr",
     "output_type": "stream",
     "text": [
      "100%|█████████████████████████████████████████| 655/655 [00:17<00:00, 36.67it/s]\n"
     ]
    },
    {
     "name": "stdout",
     "output_type": "stream",
     "text": [
      "Epoch: 571, loss: 35.14412709592863, f1: 0.03538925899834932, precision: 0.018017152505606867, recall: 0.9884778197485072\n",
      "val_loss: 35.14415263254708, val_f1: 0.039994402774875, val_precision: 0.020411494241412215, val_recall: 0.9852276162816844\n"
     ]
    },
    {
     "name": "stderr",
     "output_type": "stream",
     "text": [
      "100%|█████████████████████████████████████████| 655/655 [00:17<00:00, 36.56it/s]\n"
     ]
    },
    {
     "name": "stdout",
     "output_type": "stream",
     "text": [
      "Epoch: 572, loss: 35.14412704933691, f1: 0.03538925899834932, precision: 0.018017152505606867, recall: 0.9884778197485072\n",
      "val_loss: 35.14415254505403, val_f1: 0.039994402774875, val_precision: 0.020411494241412215, val_recall: 0.9852276162816844\n"
     ]
    },
    {
     "name": "stderr",
     "output_type": "stream",
     "text": [
      "100%|█████████████████████████████████████████| 655/655 [00:17<00:00, 36.99it/s]\n"
     ]
    },
    {
     "name": "stdout",
     "output_type": "stream",
     "text": [
      "Epoch: 573, loss: 35.14412688044192, f1: 0.03538925899834932, precision: 0.018017152505606867, recall: 0.9884778197485072\n",
      "val_loss: 35.144152440062356, val_f1: 0.039994402774875, val_precision: 0.020411494241412215, val_recall: 0.9852276162816844\n"
     ]
    },
    {
     "name": "stderr",
     "output_type": "stream",
     "text": [
      "100%|█████████████████████████████████████████| 655/655 [00:17<00:00, 36.45it/s]\n"
     ]
    },
    {
     "name": "stdout",
     "output_type": "stream",
     "text": [
      "Epoch: 574, loss: 35.144126828026224, f1: 0.03538925899834932, precision: 0.018017152505606867, recall: 0.9884778197485072\n",
      "val_loss: 35.144152370067914, val_f1: 0.039994402774875, val_precision: 0.020411494241412215, val_recall: 0.9852276162816844\n"
     ]
    },
    {
     "name": "stderr",
     "output_type": "stream",
     "text": [
      "100%|█████████████████████████████████████████| 655/655 [00:17<00:00, 36.42it/s]\n"
     ]
    },
    {
     "name": "stdout",
     "output_type": "stream",
     "text": [
      "Epoch: 575, loss: 35.1441267814345, f1: 0.03538925899834932, precision: 0.018017152505606867, recall: 0.9884778197485072\n",
      "val_loss: 35.144152335070686, val_f1: 0.039994402774875, val_precision: 0.020411494241412215, val_recall: 0.9852276162816844\n"
     ]
    },
    {
     "name": "stderr",
     "output_type": "stream",
     "text": [
      "100%|█████████████████████████████████████████| 655/655 [00:17<00:00, 36.41it/s]\n"
     ]
    },
    {
     "name": "stdout",
     "output_type": "stream",
     "text": [
      "Epoch: 576, loss: 35.14412672319485, f1: 0.03538925899834932, precision: 0.018017152505606867, recall: 0.9884778197485072\n",
      "val_loss: 35.1441521950818, val_f1: 0.039994402774875, val_precision: 0.020411494241412215, val_recall: 0.9852276162816844\n"
     ]
    },
    {
     "name": "stderr",
     "output_type": "stream",
     "text": [
      "100%|█████████████████████████████████████████| 655/655 [00:17<00:00, 36.47it/s]\n"
     ]
    },
    {
     "name": "stdout",
     "output_type": "stream",
     "text": [
      "Epoch: 577, loss: 35.144126670779166, f1: 0.03538925899834932, precision: 0.018017152505606867, recall: 0.9884778197485072\n",
      "val_loss: 35.144152142585966, val_f1: 0.039994402774875, val_precision: 0.020411494241412215, val_recall: 0.9852276162816844\n"
     ]
    },
    {
     "name": "stderr",
     "output_type": "stream",
     "text": [
      "100%|█████████████████████████████████████████| 655/655 [00:17<00:00, 36.41it/s]\n"
     ]
    },
    {
     "name": "stdout",
     "output_type": "stream",
     "text": [
      "Epoch: 578, loss: 35.144126606715545, f1: 0.03538925899834932, precision: 0.018017152505606867, recall: 0.9884778197485072\n",
      "val_loss: 35.14415205509291, val_f1: 0.039994402774875, val_precision: 0.020411494241412215, val_recall: 0.9852276162816844\n"
     ]
    },
    {
     "name": "stderr",
     "output_type": "stream",
     "text": [
      "100%|█████████████████████████████████████████| 655/655 [00:17<00:00, 36.83it/s]\n"
     ]
    },
    {
     "name": "stdout",
     "output_type": "stream",
     "text": [
      "Epoch: 579, loss: 35.14412660089158, f1: 0.03538925899834932, precision: 0.018017152505606867, recall: 0.9884778197485072\n",
      "val_loss: 35.144152002597075, val_f1: 0.039994402774875, val_precision: 0.020411494241412215, val_recall: 0.9852276162816844\n"
     ]
    },
    {
     "name": "stderr",
     "output_type": "stream",
     "text": [
      "100%|█████████████████████████████████████████| 655/655 [00:17<00:00, 36.55it/s]\n"
     ]
    },
    {
     "name": "stdout",
     "output_type": "stream",
     "text": [
      "Epoch: 580, loss: 35.14412654847589, f1: 0.03538925899834932, precision: 0.018017152505606867, recall: 0.9884778197485072\n",
      "val_loss: 35.14415195010124, val_f1: 0.039994402774875, val_precision: 0.020411494241412215, val_recall: 0.9852276162816844\n"
     ]
    },
    {
     "name": "stderr",
     "output_type": "stream",
     "text": [
      "100%|█████████████████████████████████████████| 655/655 [00:17<00:00, 36.51it/s]\n"
     ]
    },
    {
     "name": "stdout",
     "output_type": "stream",
     "text": [
      "Epoch: 581, loss: 35.1441264960602, f1: 0.03538925899834932, precision: 0.018017152505606867, recall: 0.9884778197485072\n",
      "val_loss: 35.14415186260818, val_f1: 0.039994402774875, val_precision: 0.020411494241412215, val_recall: 0.9852276162816844\n"
     ]
    },
    {
     "name": "stderr",
     "output_type": "stream",
     "text": [
      "100%|█████████████████████████████████████████| 655/655 [00:17<00:00, 36.60it/s]\n"
     ]
    },
    {
     "name": "stdout",
     "output_type": "stream",
     "text": [
      "Epoch: 582, loss: 35.14412643199658, f1: 0.03538925899834932, precision: 0.018017152505606867, recall: 0.9884778197485072\n",
      "val_loss: 35.14415175761651, val_f1: 0.039994402774875, val_precision: 0.020411494241412215, val_recall: 0.9852276162816844\n"
     ]
    },
    {
     "name": "stderr",
     "output_type": "stream",
     "text": [
      "100%|█████████████████████████████████████████| 655/655 [00:17<00:00, 36.57it/s]\n"
     ]
    },
    {
     "name": "stdout",
     "output_type": "stream",
     "text": [
      "Epoch: 583, loss: 35.14412641452469, f1: 0.03538925899834932, precision: 0.018017152505606867, recall: 0.9884778197485072\n",
      "val_loss: 35.14415172261929, val_f1: 0.039994402774875, val_precision: 0.020411494241412215, val_recall: 0.9852276162816844\n"
     ]
    },
    {
     "name": "stderr",
     "output_type": "stream",
     "text": [
      "100%|█████████████████████████████████████████| 655/655 [00:18<00:00, 36.35it/s]\n"
     ]
    },
    {
     "name": "stdout",
     "output_type": "stream",
     "text": [
      "Epoch: 584, loss: 35.14412637375693, f1: 0.03538925899834932, precision: 0.018017152505606867, recall: 0.9884778197485072\n",
      "val_loss: 35.14415146014012, val_f1: 0.039994402774875, val_precision: 0.020411494241412215, val_recall: 0.9852276162816844\n"
     ]
    },
    {
     "name": "stderr",
     "output_type": "stream",
     "text": [
      "100%|█████████████████████████████████████████| 655/655 [00:17<00:00, 36.71it/s]\n"
     ]
    },
    {
     "name": "stdout",
     "output_type": "stream",
     "text": [
      "Epoch: 585, loss: 35.14412632716521, f1: 0.03538925899834932, precision: 0.018017152505606867, recall: 0.9884778197485072\n",
      "val_loss: 35.14415140764429, val_f1: 0.039994402774875, val_precision: 0.020411494241412215, val_recall: 0.9852276162816844\n"
     ]
    },
    {
     "name": "stderr",
     "output_type": "stream",
     "text": [
      "100%|█████████████████████████████████████████| 655/655 [00:17<00:00, 36.58it/s]\n"
     ]
    },
    {
     "name": "stdout",
     "output_type": "stream",
     "text": [
      "Epoch: 586, loss: 35.14412628057349, f1: 0.03538925899834932, precision: 0.018017152505606867, recall: 0.9884778197485072\n",
      "val_loss: 35.144151372647066, val_f1: 0.039994402774875, val_precision: 0.020411494241412215, val_recall: 0.9852276162816844\n"
     ]
    },
    {
     "name": "stderr",
     "output_type": "stream",
     "text": [
      "100%|█████████████████████████████████████████| 655/655 [00:17<00:00, 36.52it/s]\n"
     ]
    },
    {
     "name": "stdout",
     "output_type": "stream",
     "text": [
      "Epoch: 587, loss: 35.14412625145366, f1: 0.03538925899834932, precision: 0.018017152505606867, recall: 0.9884778197485072\n",
      "val_loss: 35.14415125015679, val_f1: 0.039994402774875, val_precision: 0.020411494241412215, val_recall: 0.9852276162816844\n"
     ]
    },
    {
     "name": "stderr",
     "output_type": "stream",
     "text": [
      "100%|█████████████████████████████████████████| 655/655 [00:17<00:00, 36.59it/s]\n"
     ]
    },
    {
     "name": "stdout",
     "output_type": "stream",
     "text": [
      "Epoch: 588, loss: 35.14412618156608, f1: 0.03538925899834932, precision: 0.018017152505606867, recall: 0.9884778197485072\n",
      "val_loss: 35.144151232658174, val_f1: 0.039994402774875, val_precision: 0.020411494241412215, val_recall: 0.9852276162816844\n"
     ]
    },
    {
     "name": "stderr",
     "output_type": "stream",
     "text": [
      "100%|█████████████████████████████████████████| 655/655 [00:17<00:00, 36.54it/s]\n"
     ]
    },
    {
     "name": "stdout",
     "output_type": "stream",
     "text": [
      "Epoch: 589, loss: 35.144126152446255, f1: 0.03538925899834932, precision: 0.018017152505606867, recall: 0.9884778197485072\n",
      "val_loss: 35.14415116266373, val_f1: 0.039994402774875, val_precision: 0.020411494241412215, val_recall: 0.9852276162816844\n"
     ]
    },
    {
     "name": "stderr",
     "output_type": "stream",
     "text": [
      "100%|█████████████████████████████████████████| 655/655 [00:17<00:00, 36.49it/s]\n"
     ]
    },
    {
     "name": "stdout",
     "output_type": "stream",
     "text": [
      "Epoch: 590, loss: 35.14412610003056, f1: 0.03538925899834932, precision: 0.018017152505606867, recall: 0.9884778197485072\n",
      "val_loss: 35.1441511101679, val_f1: 0.039994402774875, val_precision: 0.020411494241412215, val_recall: 0.9852276162816844\n"
     ]
    },
    {
     "name": "stderr",
     "output_type": "stream",
     "text": [
      "100%|█████████████████████████████████████████| 655/655 [00:17<00:00, 36.52it/s]\n"
     ]
    },
    {
     "name": "stdout",
     "output_type": "stream",
     "text": [
      "Epoch: 591, loss: 35.14412605343884, f1: 0.03538925899834932, precision: 0.018017152505606867, recall: 0.9884778197485072\n",
      "val_loss: 35.14415100517623, val_f1: 0.039994402774875, val_precision: 0.020411494241412215, val_recall: 0.9852276162816844\n"
     ]
    },
    {
     "name": "stderr",
     "output_type": "stream",
     "text": [
      "100%|█████████████████████████████████████████| 655/655 [00:17<00:00, 36.65it/s]\n"
     ]
    },
    {
     "name": "stdout",
     "output_type": "stream",
     "text": [
      "Epoch: 592, loss: 35.14412601849505, f1: 0.03538925899834932, precision: 0.018017152505606867, recall: 0.9884778197485072\n",
      "val_loss: 35.1441509526804, val_f1: 0.039994402774875, val_precision: 0.020411494241412215, val_recall: 0.9852276162816844\n"
     ]
    },
    {
     "name": "stderr",
     "output_type": "stream",
     "text": [
      "100%|█████████████████████████████████████████| 655/655 [00:17<00:00, 36.54it/s]\n"
     ]
    },
    {
     "name": "stdout",
     "output_type": "stream",
     "text": [
      "Epoch: 593, loss: 35.144125983551255, f1: 0.03538925899834932, precision: 0.018017152505606867, recall: 0.9884778197485072\n",
      "val_loss: 35.14415090018456, val_f1: 0.039994402774875, val_precision: 0.020411494241412215, val_recall: 0.9852276162816844\n"
     ]
    },
    {
     "name": "stderr",
     "output_type": "stream",
     "text": [
      "100%|█████████████████████████████████████████| 655/655 [00:17<00:00, 36.52it/s]\n"
     ]
    },
    {
     "name": "stdout",
     "output_type": "stream",
     "text": [
      "Epoch: 594, loss: 35.14412591948764, f1: 0.03538925899834932, precision: 0.018017152505606867, recall: 0.9884778197485072\n",
      "val_loss: 35.144150777694286, val_f1: 0.039994402774875, val_precision: 0.020411494241412215, val_recall: 0.9852276162816844\n"
     ]
    },
    {
     "name": "stderr",
     "output_type": "stream",
     "text": [
      "100%|█████████████████████████████████████████| 655/655 [00:17<00:00, 36.59it/s]\n"
     ]
    },
    {
     "name": "stdout",
     "output_type": "stream",
     "text": [
      "Epoch: 595, loss: 35.1441258263042, f1: 0.03538925899834932, precision: 0.018017152505606867, recall: 0.9884778197485072\n",
      "val_loss: 35.14415072519845, val_f1: 0.039994402774875, val_precision: 0.020411494241412215, val_recall: 0.9852276162816844\n"
     ]
    },
    {
     "name": "stderr",
     "output_type": "stream",
     "text": [
      "100%|█████████████████████████████████████████| 655/655 [00:17<00:00, 36.45it/s]\n"
     ]
    },
    {
     "name": "stdout",
     "output_type": "stream",
     "text": [
      "Epoch: 596, loss: 35.14412578553644, f1: 0.03538925899834932, precision: 0.018017152505606867, recall: 0.9884778197485072\n",
      "val_loss: 35.144150672702615, val_f1: 0.039994402774875, val_precision: 0.020411494241412215, val_recall: 0.9852276162816844\n"
     ]
    },
    {
     "name": "stderr",
     "output_type": "stream",
     "text": [
      "100%|█████████████████████████████████████████| 655/655 [00:17<00:00, 36.53it/s]\n"
     ]
    },
    {
     "name": "stdout",
     "output_type": "stream",
     "text": [
      "Epoch: 597, loss: 35.144125756416614, f1: 0.03538925899834932, precision: 0.018017152505606867, recall: 0.9884778197485072\n",
      "val_loss: 35.14415062020678, val_f1: 0.039994402774875, val_precision: 0.020411494241412215, val_recall: 0.9852276162816844\n"
     ]
    },
    {
     "name": "stderr",
     "output_type": "stream",
     "text": [
      "100%|█████████████████████████████████████████| 655/655 [00:17<00:00, 37.13it/s]\n"
     ]
    },
    {
     "name": "stdout",
     "output_type": "stream",
     "text": [
      "Epoch: 598, loss: 35.14412570982489, f1: 0.03538925899834932, precision: 0.018017152505606867, recall: 0.9884778197485072\n",
      "val_loss: 35.144150532713724, val_f1: 0.039994402774875, val_precision: 0.020411494241412215, val_recall: 0.9852276162816844\n"
     ]
    },
    {
     "name": "stderr",
     "output_type": "stream",
     "text": [
      "100%|█████████████████████████████████████████| 655/655 [00:17<00:00, 36.51it/s]\n"
     ]
    },
    {
     "name": "stdout",
     "output_type": "stream",
     "text": [
      "Epoch: 599, loss: 35.14412568652903, f1: 0.03538925899834932, precision: 0.018017152505606867, recall: 0.9884778197485072\n",
      "val_loss: 35.14415048021789, val_f1: 0.039994402774875, val_precision: 0.020411494241412215, val_recall: 0.9852276162816844\n"
     ]
    },
    {
     "name": "stderr",
     "output_type": "stream",
     "text": [
      "100%|█████████████████████████████████████████| 655/655 [00:17<00:00, 36.62it/s]\n"
     ]
    },
    {
     "name": "stdout",
     "output_type": "stream",
     "text": [
      "Epoch: 600, loss: 35.14412564576127, f1: 0.03538925899834932, precision: 0.018017152505606867, recall: 0.9884778197485072\n",
      "val_loss: 35.14415044522067, val_f1: 0.039994402774875, val_precision: 0.020411494241412215, val_recall: 0.9852276162816844\n"
     ]
    },
    {
     "name": "stderr",
     "output_type": "stream",
     "text": [
      "100%|█████████████████████████████████████████| 655/655 [00:17<00:00, 36.52it/s]\n"
     ]
    },
    {
     "name": "stdout",
     "output_type": "stream",
     "text": [
      "Epoch: 601, loss: 35.14412559916955, f1: 0.03538925899834932, precision: 0.018017152505606867, recall: 0.9884778197485072\n",
      "val_loss: 35.14415007774983, val_f1: 0.039994402774875, val_precision: 0.020411494241412215, val_recall: 0.9852276162816844\n"
     ]
    },
    {
     "name": "stderr",
     "output_type": "stream",
     "text": [
      "100%|█████████████████████████████████████████| 655/655 [00:17<00:00, 36.64it/s]\n"
     ]
    },
    {
     "name": "stdout",
     "output_type": "stream",
     "text": [
      "Epoch: 602, loss: 35.14412555840179, f1: 0.03538925899834932, precision: 0.018017152505606867, recall: 0.9884778197485072\n",
      "val_loss: 35.14414999025677, val_f1: 0.039994402774875, val_precision: 0.020411494241412215, val_recall: 0.9852276162816844\n"
     ]
    },
    {
     "name": "stderr",
     "output_type": "stream",
     "text": [
      "100%|█████████████████████████████████████████| 655/655 [00:17<00:00, 36.40it/s]\n"
     ]
    },
    {
     "name": "stdout",
     "output_type": "stream",
     "text": [
      "Epoch: 603, loss: 35.1441255409299, f1: 0.03538925899834932, precision: 0.018017152505606867, recall: 0.9884778197485072\n",
      "val_loss: 35.14414988526511, val_f1: 0.039994402774875, val_precision: 0.020411494241412215, val_recall: 0.9852276162816844\n"
     ]
    },
    {
     "name": "stderr",
     "output_type": "stream",
     "text": [
      "100%|█████████████████████████████████████████| 655/655 [00:17<00:00, 36.87it/s]\n"
     ]
    },
    {
     "name": "stdout",
     "output_type": "stream",
     "text": [
      "Epoch: 604, loss: 35.1441255059861, f1: 0.03538925899834932, precision: 0.018017152505606867, recall: 0.9884778197485072\n",
      "val_loss: 35.14414985026788, val_f1: 0.039994402774875, val_precision: 0.020411494241412215, val_recall: 0.9852276162816844\n"
     ]
    },
    {
     "name": "stderr",
     "output_type": "stream",
     "text": [
      "100%|█████████████████████████████████████████| 655/655 [00:17<00:00, 36.49it/s]\n"
     ]
    },
    {
     "name": "stdout",
     "output_type": "stream",
     "text": [
      "Epoch: 605, loss: 35.14412545939438, f1: 0.03538925899834932, precision: 0.018017152505606867, recall: 0.9884778197485072\n",
      "val_loss: 35.14414976277482, val_f1: 0.039994402774875, val_precision: 0.020411494241412215, val_recall: 0.9852276162816844\n"
     ]
    },
    {
     "name": "stderr",
     "output_type": "stream",
     "text": [
      "100%|█████████████████████████████████████████| 655/655 [00:17<00:00, 36.62it/s]\n"
     ]
    },
    {
     "name": "stdout",
     "output_type": "stream",
     "text": [
      "Epoch: 606, loss: 35.14412541862662, f1: 0.03538925899834932, precision: 0.018017152505606867, recall: 0.9884778197485072\n",
      "val_loss: 35.1441497277776, val_f1: 0.039994402774875, val_precision: 0.020411494241412215, val_recall: 0.9852276162816844\n"
     ]
    },
    {
     "name": "stderr",
     "output_type": "stream",
     "text": [
      "100%|█████████████████████████████████████████| 655/655 [00:17<00:00, 36.63it/s]\n"
     ]
    },
    {
     "name": "stdout",
     "output_type": "stream",
     "text": [
      "Epoch: 607, loss: 35.144125383682834, f1: 0.03538925899834932, precision: 0.018017152505606867, recall: 0.9884778197485072\n",
      "val_loss: 35.14414969278038, val_f1: 0.039994402774875, val_precision: 0.020411494241412215, val_recall: 0.9852276162816844\n"
     ]
    },
    {
     "name": "stderr",
     "output_type": "stream",
     "text": [
      "100%|█████████████████████████████████████████| 655/655 [00:17<00:00, 36.61it/s]\n"
     ]
    },
    {
     "name": "stdout",
     "output_type": "stream",
     "text": [
      "Epoch: 608, loss: 35.14412534873904, f1: 0.03538925899834932, precision: 0.018017152505606867, recall: 0.9884778197485072\n",
      "val_loss: 35.14414958778871, val_f1: 0.039994402774875, val_precision: 0.020411494241412215, val_recall: 0.9852276162816844\n"
     ]
    },
    {
     "name": "stderr",
     "output_type": "stream",
     "text": [
      "100%|█████████████████████████████████████████| 655/655 [00:17<00:00, 36.61it/s]\n"
     ]
    },
    {
     "name": "stdout",
     "output_type": "stream",
     "text": [
      "Epoch: 609, loss: 35.14412530797129, f1: 0.03538925899834932, precision: 0.018017152505606867, recall: 0.9884778197485072\n",
      "val_loss: 35.144149500295654, val_f1: 0.039994402774875, val_precision: 0.020411494241412215, val_recall: 0.9852276162816844\n"
     ]
    },
    {
     "name": "stderr",
     "output_type": "stream",
     "text": [
      "100%|█████████████████████████████████████████| 655/655 [00:17<00:00, 36.69it/s]\n"
     ]
    },
    {
     "name": "stdout",
     "output_type": "stream",
     "text": [
      "Epoch: 610, loss: 35.14412522643577, f1: 0.03538925899834932, precision: 0.018017152505606867, recall: 0.9884778197485072\n",
      "val_loss: 35.1441494128026, val_f1: 0.039994402774875, val_precision: 0.020411494241412215, val_recall: 0.9852276162816844\n"
     ]
    },
    {
     "name": "stderr",
     "output_type": "stream",
     "text": [
      "100%|█████████████████████████████████████████| 655/655 [00:17<00:00, 36.63it/s]\n"
     ]
    },
    {
     "name": "stdout",
     "output_type": "stream",
     "text": [
      "Epoch: 611, loss: 35.14412518566802, f1: 0.03538925899834932, precision: 0.018017152505606867, recall: 0.9884778197485072\n",
      "val_loss: 35.14414936030676, val_f1: 0.039994402774875, val_precision: 0.020411494241412215, val_recall: 0.9852276162816844\n"
     ]
    },
    {
     "name": "stderr",
     "output_type": "stream",
     "text": [
      "100%|█████████████████████████████████████████| 655/655 [00:17<00:00, 36.56it/s]\n"
     ]
    },
    {
     "name": "stdout",
     "output_type": "stream",
     "text": [
      "Epoch: 612, loss: 35.14412516819612, f1: 0.03538925899834932, precision: 0.018017152505606867, recall: 0.9884778197485072\n",
      "val_loss: 35.14414932530954, val_f1: 0.039994402774875, val_precision: 0.020411494241412215, val_recall: 0.9852276162816844\n"
     ]
    },
    {
     "name": "stderr",
     "output_type": "stream",
     "text": [
      "100%|█████████████████████████████████████████| 655/655 [00:17<00:00, 36.57it/s]\n"
     ]
    },
    {
     "name": "stdout",
     "output_type": "stream",
     "text": [
      "Epoch: 613, loss: 35.14412512742836, f1: 0.03538925899834932, precision: 0.018017152505606867, recall: 0.9884778197485072\n",
      "val_loss: 35.144149202819264, val_f1: 0.039994402774875, val_precision: 0.020411494241412215, val_recall: 0.9852276162816844\n"
     ]
    },
    {
     "name": "stderr",
     "output_type": "stream",
     "text": [
      "100%|█████████████████████████████████████████| 655/655 [00:17<00:00, 36.57it/s]\n"
     ]
    },
    {
     "name": "stdout",
     "output_type": "stream",
     "text": [
      "Epoch: 614, loss: 35.14412510995646, f1: 0.03538925899834932, precision: 0.018017152505606867, recall: 0.9884778197485072\n",
      "val_loss: 35.14414916782204, val_f1: 0.039994402774875, val_precision: 0.020411494241412215, val_recall: 0.9852276162816844\n"
     ]
    },
    {
     "name": "stderr",
     "output_type": "stream",
     "text": [
      "100%|█████████████████████████████████████████| 655/655 [00:17<00:00, 36.58it/s]\n"
     ]
    },
    {
     "name": "stdout",
     "output_type": "stream",
     "text": [
      "Epoch: 615, loss: 35.144125057540776, f1: 0.03538925899834932, precision: 0.018017152505606867, recall: 0.9884778197485072\n",
      "val_loss: 35.14414913282482, val_f1: 0.039994402774875, val_precision: 0.020411494241412215, val_recall: 0.9852276162816844\n"
     ]
    },
    {
     "name": "stderr",
     "output_type": "stream",
     "text": [
      "100%|█████████████████████████████████████████| 655/655 [00:17<00:00, 36.52it/s]\n"
     ]
    },
    {
     "name": "stdout",
     "output_type": "stream",
     "text": [
      "Epoch: 616, loss: 35.14412502259699, f1: 0.03538925899834932, precision: 0.018017152505606867, recall: 0.9884778197485072\n",
      "val_loss: 35.144149045331766, val_f1: 0.039994402774875, val_precision: 0.020411494241412215, val_recall: 0.9852276162816844\n"
     ]
    },
    {
     "name": "stderr",
     "output_type": "stream",
     "text": [
      "100%|█████████████████████████████████████████| 655/655 [00:17<00:00, 37.13it/s]\n"
     ]
    },
    {
     "name": "stdout",
     "output_type": "stream",
     "text": [
      "Epoch: 617, loss: 35.144124993477156, f1: 0.03538925899834932, precision: 0.018017152505606867, recall: 0.9884778197485072\n",
      "val_loss: 35.14414885284704, val_f1: 0.039994402774875, val_precision: 0.020411494241412215, val_recall: 0.9852276162816844\n"
     ]
    },
    {
     "name": "stderr",
     "output_type": "stream",
     "text": [
      "100%|█████████████████████████████████████████| 655/655 [00:17<00:00, 36.48it/s]\n"
     ]
    },
    {
     "name": "stdout",
     "output_type": "stream",
     "text": [
      "Epoch: 618, loss: 35.14412495853337, f1: 0.03538925899834932, precision: 0.018017152505606867, recall: 0.9884778197485072\n",
      "val_loss: 35.14414878285259, val_f1: 0.039994402774875, val_precision: 0.020411494241412215, val_recall: 0.9852276162816844\n"
     ]
    },
    {
     "name": "stderr",
     "output_type": "stream",
     "text": [
      "100%|█████████████████████████████████████████| 655/655 [00:17<00:00, 36.59it/s]\n"
     ]
    },
    {
     "name": "stdout",
     "output_type": "stream",
     "text": [
      "Epoch: 619, loss: 35.14412494106147, f1: 0.03538925899834932, precision: 0.018017152505606867, recall: 0.9884778197485072\n",
      "val_loss: 35.14414873035676, val_f1: 0.039994402774875, val_precision: 0.020411494241412215, val_recall: 0.9852276162816844\n"
     ]
    },
    {
     "name": "stderr",
     "output_type": "stream",
     "text": [
      "100%|█████████████████████████████████████████| 655/655 [00:18<00:00, 36.39it/s]\n"
     ]
    },
    {
     "name": "stdout",
     "output_type": "stream",
     "text": [
      "Epoch: 620, loss: 35.14412490611768, f1: 0.03538925899834932, precision: 0.018017152505606867, recall: 0.9884778197485072\n",
      "val_loss: 35.14414869535953, val_f1: 0.039994402774875, val_precision: 0.020411494241412215, val_recall: 0.9852276162816844\n"
     ]
    },
    {
     "name": "stderr",
     "output_type": "stream",
     "text": [
      "100%|█████████████████████████████████████████| 655/655 [00:17<00:00, 36.54it/s]\n"
     ]
    },
    {
     "name": "stdout",
     "output_type": "stream",
     "text": [
      "Epoch: 621, loss: 35.14412486534992, f1: 0.03538925899834932, precision: 0.018017152505606867, recall: 0.9884778197485072\n",
      "val_loss: 35.14414860786648, val_f1: 0.039994402774875, val_precision: 0.020411494241412215, val_recall: 0.9852276162816844\n"
     ]
    },
    {
     "name": "stderr",
     "output_type": "stream",
     "text": [
      "100%|█████████████████████████████████████████| 655/655 [00:17<00:00, 36.58it/s]\n"
     ]
    },
    {
     "name": "stdout",
     "output_type": "stream",
     "text": [
      "Epoch: 622, loss: 35.1441248362301, f1: 0.03538925899834932, precision: 0.018017152505606867, recall: 0.9884778197485072\n",
      "val_loss: 35.14414859036787, val_f1: 0.039994402774875, val_precision: 0.020411494241412215, val_recall: 0.9852276162816844\n"
     ]
    },
    {
     "name": "stderr",
     "output_type": "stream",
     "text": [
      "100%|█████████████████████████████████████████| 655/655 [00:17<00:00, 37.15it/s]\n"
     ]
    },
    {
     "name": "stdout",
     "output_type": "stream",
     "text": [
      "Epoch: 623, loss: 35.144124783814405, f1: 0.03538925899834932, precision: 0.018017152505606867, recall: 0.9884778197485072\n",
      "val_loss: 35.144148537872034, val_f1: 0.039994402774875, val_precision: 0.020411494241412215, val_recall: 0.9852276162816844\n"
     ]
    },
    {
     "name": "stderr",
     "output_type": "stream",
     "text": [
      "100%|█████████████████████████████████████████| 655/655 [00:17<00:00, 36.55it/s]\n"
     ]
    },
    {
     "name": "stdout",
     "output_type": "stream",
     "text": [
      "Epoch: 624, loss: 35.14412474887062, f1: 0.03538925899834932, precision: 0.018017152505606867, recall: 0.9884778197485072\n",
      "val_loss: 35.14414850287481, val_f1: 0.039994402774875, val_precision: 0.020411494241412215, val_recall: 0.9852276162816844\n"
     ]
    },
    {
     "name": "stderr",
     "output_type": "stream",
     "text": [
      "100%|█████████████████████████████████████████| 655/655 [00:17<00:00, 36.54it/s]\n"
     ]
    },
    {
     "name": "stdout",
     "output_type": "stream",
     "text": [
      "Epoch: 625, loss: 35.14412469645493, f1: 0.03538925899834932, precision: 0.018017152505606867, recall: 0.9884778197485072\n",
      "val_loss: 35.144148432880364, val_f1: 0.039994402774875, val_precision: 0.020411494241412215, val_recall: 0.9852276162816844\n"
     ]
    },
    {
     "name": "stderr",
     "output_type": "stream",
     "text": [
      "100%|█████████████████████████████████████████| 655/655 [00:17<00:00, 36.58it/s]\n"
     ]
    },
    {
     "name": "stdout",
     "output_type": "stream",
     "text": [
      "Epoch: 626, loss: 35.144124667335106, f1: 0.03538925899834932, precision: 0.018017152505606867, recall: 0.9884778197485072\n",
      "val_loss: 35.144148380384536, val_f1: 0.039994402774875, val_precision: 0.020411494241412215, val_recall: 0.9852276162816844\n"
     ]
    },
    {
     "name": "stderr",
     "output_type": "stream",
     "text": [
      "100%|█████████████████████████████████████████| 655/655 [00:17<00:00, 36.61it/s]\n"
     ]
    },
    {
     "name": "stdout",
     "output_type": "stream",
     "text": [
      "Epoch: 627, loss: 35.14412462074338, f1: 0.03538925899834932, precision: 0.018017152505606867, recall: 0.9884778197485072\n",
      "val_loss: 35.1441483278887, val_f1: 0.039994402774875, val_precision: 0.020411494241412215, val_recall: 0.9852276162816844\n"
     ]
    },
    {
     "name": "stderr",
     "output_type": "stream",
     "text": [
      "100%|█████████████████████████████████████████| 655/655 [00:17<00:00, 36.44it/s]\n"
     ]
    },
    {
     "name": "stdout",
     "output_type": "stream",
     "text": [
      "Epoch: 628, loss: 35.14412458579959, f1: 0.03538925899834932, precision: 0.018017152505606867, recall: 0.9884778197485072\n",
      "val_loss: 35.144148275392865, val_f1: 0.039994402774875, val_precision: 0.020411494241412215, val_recall: 0.9852276162816844\n"
     ]
    },
    {
     "name": "stderr",
     "output_type": "stream",
     "text": [
      "100%|█████████████████████████████████████████| 655/655 [00:17<00:00, 36.82it/s]\n"
     ]
    },
    {
     "name": "stdout",
     "output_type": "stream",
     "text": [
      "Epoch: 629, loss: 35.1441245333839, f1: 0.03538925899834932, precision: 0.018017152505606867, recall: 0.9884778197485072\n",
      "val_loss: 35.14414818789981, val_f1: 0.039994402774875, val_precision: 0.020411494241412215, val_recall: 0.9852276162816844\n"
     ]
    },
    {
     "name": "stderr",
     "output_type": "stream",
     "text": [
      "100%|█████████████████████████████████████████| 655/655 [00:17<00:00, 36.53it/s]\n"
     ]
    },
    {
     "name": "stdout",
     "output_type": "stream",
     "text": [
      "Epoch: 630, loss: 35.14412451008804, f1: 0.03538925899834932, precision: 0.018017152505606867, recall: 0.9884778197485072\n",
      "val_loss: 35.14414815290259, val_f1: 0.039994402774875, val_precision: 0.020411494241412215, val_recall: 0.9852276162816844\n"
     ]
    },
    {
     "name": "stderr",
     "output_type": "stream",
     "text": [
      "100%|█████████████████████████████████████████| 655/655 [00:17<00:00, 36.47it/s]\n"
     ]
    },
    {
     "name": "stdout",
     "output_type": "stream",
     "text": [
      "Epoch: 631, loss: 35.14412446932028, f1: 0.03538925899834932, precision: 0.018017152505606867, recall: 0.9884778197485072\n",
      "val_loss: 35.14414810040675, val_f1: 0.039994402774875, val_precision: 0.020411494241412215, val_recall: 0.9852276162816844\n"
     ]
    },
    {
     "name": "stderr",
     "output_type": "stream",
     "text": [
      "100%|█████████████████████████████████████████| 655/655 [00:17<00:00, 36.49it/s]\n"
     ]
    },
    {
     "name": "stdout",
     "output_type": "stream",
     "text": [
      "Epoch: 632, loss: 35.144124329545114, f1: 0.03538925899834932, precision: 0.018017152505606867, recall: 0.9884778197485072\n",
      "val_loss: 35.14414806540953, val_f1: 0.039994402774875, val_precision: 0.020411494241412215, val_recall: 0.9852276162816844\n"
     ]
    },
    {
     "name": "stderr",
     "output_type": "stream",
     "text": [
      "100%|█████████████████████████████████████████| 655/655 [00:17<00:00, 36.53it/s]\n"
     ]
    },
    {
     "name": "stdout",
     "output_type": "stream",
     "text": [
      "Epoch: 633, loss: 35.144124294601326, f1: 0.03538925899834932, precision: 0.018017152505606867, recall: 0.9884778197485072\n",
      "val_loss: 35.14414796041786, val_f1: 0.039994402774875, val_precision: 0.020411494241412215, val_recall: 0.9852276162816844\n"
     ]
    },
    {
     "name": "stderr",
     "output_type": "stream",
     "text": [
      "100%|█████████████████████████████████████████| 655/655 [00:17<00:00, 36.68it/s]\n"
     ]
    },
    {
     "name": "stdout",
     "output_type": "stream",
     "text": [
      "Epoch: 634, loss: 35.14412428295339, f1: 0.03538925899834932, precision: 0.018017152505606867, recall: 0.9884778197485072\n",
      "val_loss: 35.144147907922026, val_f1: 0.039994402774875, val_precision: 0.020411494241412215, val_recall: 0.9852276162816844\n"
     ]
    },
    {
     "name": "stderr",
     "output_type": "stream",
     "text": [
      "100%|█████████████████████████████████████████| 655/655 [00:17<00:00, 36.76it/s]\n"
     ]
    },
    {
     "name": "stdout",
     "output_type": "stream",
     "text": [
      "Epoch: 635, loss: 35.144124248009604, f1: 0.03538925899834932, precision: 0.018017152505606867, recall: 0.9884778197485072\n",
      "val_loss: 35.14414789042342, val_f1: 0.039994402774875, val_precision: 0.020411494241412215, val_recall: 0.9852276162816844\n"
     ]
    },
    {
     "name": "stderr",
     "output_type": "stream",
     "text": [
      "100%|█████████████████████████████████████████| 655/655 [00:17<00:00, 36.63it/s]\n"
     ]
    },
    {
     "name": "stdout",
     "output_type": "stream",
     "text": [
      "Epoch: 636, loss: 35.14412421888977, f1: 0.03538925899834932, precision: 0.018017152505606867, recall: 0.9884778197485072\n",
      "val_loss: 35.144147837927584, val_f1: 0.039994402774875, val_precision: 0.020411494241412215, val_recall: 0.9852276162816844\n"
     ]
    },
    {
     "name": "stderr",
     "output_type": "stream",
     "text": [
      "100%|█████████████████████████████████████████| 655/655 [00:17<00:00, 36.58it/s]\n"
     ]
    },
    {
     "name": "stdout",
     "output_type": "stream",
     "text": [
      "Epoch: 637, loss: 35.14412418394598, f1: 0.03538925899834932, precision: 0.018017152505606867, recall: 0.9884778197485072\n",
      "val_loss: 35.14414775043453, val_f1: 0.039994402774875, val_precision: 0.020411494241412215, val_recall: 0.9852276162816844\n"
     ]
    },
    {
     "name": "stderr",
     "output_type": "stream",
     "text": [
      "100%|█████████████████████████████████████████| 655/655 [00:17<00:00, 36.50it/s]\n"
     ]
    },
    {
     "name": "stdout",
     "output_type": "stream",
     "text": [
      "Epoch: 638, loss: 35.14412415482616, f1: 0.03538925899834932, precision: 0.018017152505606867, recall: 0.9884778197485072\n",
      "val_loss: 35.14414773293591, val_f1: 0.039994402774875, val_precision: 0.020411494241412215, val_recall: 0.9852276162816844\n"
     ]
    },
    {
     "name": "stderr",
     "output_type": "stream",
     "text": [
      "100%|█████████████████████████████████████████| 655/655 [00:17<00:00, 36.42it/s]\n"
     ]
    },
    {
     "name": "stdout",
     "output_type": "stream",
     "text": [
      "Epoch: 639, loss: 35.144124108234436, f1: 0.03538925899834932, precision: 0.018017152505606867, recall: 0.9884778197485072\n",
      "val_loss: 35.14414764544286, val_f1: 0.039994402774875, val_precision: 0.020411494241412215, val_recall: 0.9852276162816844\n"
     ]
    },
    {
     "name": "stderr",
     "output_type": "stream",
     "text": [
      "100%|█████████████████████████████████████████| 655/655 [00:17<00:00, 36.55it/s]\n"
     ]
    },
    {
     "name": "stdout",
     "output_type": "stream",
     "text": [
      "Epoch: 640, loss: 35.14412405581875, f1: 0.03538925899834932, precision: 0.018017152505606867, recall: 0.9884778197485072\n",
      "val_loss: 35.14414734796647, val_f1: 0.039994402774875, val_precision: 0.020411494241412215, val_recall: 0.9852276162816844\n"
     ]
    },
    {
     "name": "stderr",
     "output_type": "stream",
     "text": [
      "100%|█████████████████████████████████████████| 655/655 [00:17<00:00, 36.51it/s]\n"
     ]
    },
    {
     "name": "stdout",
     "output_type": "stream",
     "text": [
      "Epoch: 641, loss: 35.14412400922703, f1: 0.03538925899834932, precision: 0.018017152505606867, recall: 0.9884778197485072\n",
      "val_loss: 35.14414729547063, val_f1: 0.039994402774875, val_precision: 0.020411494241412215, val_recall: 0.9852276162816844\n"
     ]
    },
    {
     "name": "stderr",
     "output_type": "stream",
     "text": [
      "100%|█████████████████████████████████████████| 655/655 [00:17<00:00, 37.10it/s]\n"
     ]
    },
    {
     "name": "stdout",
     "output_type": "stream",
     "text": [
      "Epoch: 642, loss: 35.14412397428323, f1: 0.03538925899834932, precision: 0.018017152505606867, recall: 0.9884778197485072\n",
      "val_loss: 35.144147207977575, val_f1: 0.039994402774875, val_precision: 0.020411494241412215, val_recall: 0.9852276162816844\n"
     ]
    },
    {
     "name": "stderr",
     "output_type": "stream",
     "text": [
      "100%|█████████████████████████████████████████| 655/655 [00:17<00:00, 36.58it/s]\n"
     ]
    },
    {
     "name": "stdout",
     "output_type": "stream",
     "text": [
      "Epoch: 643, loss: 35.144123939339444, f1: 0.03538925899834932, precision: 0.018017152505606867, recall: 0.9884778197485072\n",
      "val_loss: 35.14414715548174, val_f1: 0.039994402774875, val_precision: 0.020411494241412215, val_recall: 0.9852276162816844\n"
     ]
    },
    {
     "name": "stderr",
     "output_type": "stream",
     "text": [
      "100%|█████████████████████████████████████████| 655/655 [00:17<00:00, 36.62it/s]\n"
     ]
    },
    {
     "name": "stdout",
     "output_type": "stream",
     "text": [
      "Epoch: 644, loss: 35.14412390439565, f1: 0.03538925899834932, precision: 0.018017152505606867, recall: 0.9884778197485072\n",
      "val_loss: 35.14414712048452, val_f1: 0.039994402774875, val_precision: 0.020411494241412215, val_recall: 0.9852276162816844\n"
     ]
    },
    {
     "name": "stderr",
     "output_type": "stream",
     "text": [
      "100%|█████████████████████████████████████████| 655/655 [00:17<00:00, 36.53it/s]\n"
     ]
    },
    {
     "name": "stdout",
     "output_type": "stream",
     "text": [
      "Epoch: 645, loss: 35.14412386945186, f1: 0.03538925899834932, precision: 0.018017152505606867, recall: 0.9884778197485072\n",
      "val_loss: 35.1441470854873, val_f1: 0.039994402774875, val_precision: 0.020411494241412215, val_recall: 0.9852276162816844\n"
     ]
    },
    {
     "name": "stderr",
     "output_type": "stream",
     "text": [
      "100%|█████████████████████████████████████████| 655/655 [00:17<00:00, 36.51it/s]\n"
     ]
    },
    {
     "name": "stdout",
     "output_type": "stream",
     "text": [
      "Epoch: 646, loss: 35.1441238286841, f1: 0.03538925899834932, precision: 0.018017152505606867, recall: 0.9884778197485072\n",
      "val_loss: 35.14414701549285, val_f1: 0.039994402774875, val_precision: 0.020411494241412215, val_recall: 0.9852276162816844\n"
     ]
    },
    {
     "name": "stderr",
     "output_type": "stream",
     "text": [
      "100%|█████████████████████████████████████████| 655/655 [00:17<00:00, 36.57it/s]\n"
     ]
    },
    {
     "name": "stdout",
     "output_type": "stream",
     "text": [
      "Epoch: 647, loss: 35.144123793740306, f1: 0.03538925899834932, precision: 0.018017152505606867, recall: 0.9884778197485072\n",
      "val_loss: 35.14414698049563, val_f1: 0.039994402774875, val_precision: 0.020411494241412215, val_recall: 0.9852276162816844\n"
     ]
    },
    {
     "name": "stderr",
     "output_type": "stream",
     "text": [
      "100%|█████████████████████████████████████████| 655/655 [00:17<00:00, 36.96it/s]\n"
     ]
    },
    {
     "name": "stdout",
     "output_type": "stream",
     "text": [
      "Epoch: 648, loss: 35.144123770444445, f1: 0.03538925899834932, precision: 0.018017152505606867, recall: 0.9884778197485072\n",
      "val_loss: 35.14414692799979, val_f1: 0.039994402774875, val_precision: 0.020411494241412215, val_recall: 0.9852276162816844\n"
     ]
    },
    {
     "name": "stderr",
     "output_type": "stream",
     "text": [
      "100%|█████████████████████████████████████████| 655/655 [00:17<00:00, 36.51it/s]\n"
     ]
    },
    {
     "name": "stdout",
     "output_type": "stream",
     "text": [
      "Epoch: 649, loss: 35.14412372967669, f1: 0.03538925899834932, precision: 0.018017152505606867, recall: 0.9884778197485072\n",
      "val_loss: 35.14414687550396, val_f1: 0.039994402774875, val_precision: 0.020411494241412215, val_recall: 0.9852276162816844\n"
     ]
    },
    {
     "name": "stderr",
     "output_type": "stream",
     "text": [
      "100%|█████████████████████████████████████████| 655/655 [00:17<00:00, 36.54it/s]\n"
     ]
    },
    {
     "name": "stdout",
     "output_type": "stream",
     "text": [
      "Epoch: 650, loss: 35.144123677261, f1: 0.03538925899834932, precision: 0.018017152505606867, recall: 0.9884778197485072\n",
      "val_loss: 35.14414682300813, val_f1: 0.039994402774875, val_precision: 0.020411494241412215, val_recall: 0.9852276162816844\n"
     ]
    },
    {
     "name": "stderr",
     "output_type": "stream",
     "text": [
      "100%|█████████████████████████████████████████| 655/655 [00:17<00:00, 36.54it/s]\n"
     ]
    },
    {
     "name": "stdout",
     "output_type": "stream",
     "text": [
      "Epoch: 651, loss: 35.14412365978911, f1: 0.03538925899834932, precision: 0.018017152505606867, recall: 0.9884778197485072\n",
      "val_loss: 35.14414675301368, val_f1: 0.039994402774875, val_precision: 0.020411494241412215, val_recall: 0.9852276162816844\n"
     ]
    },
    {
     "name": "stderr",
     "output_type": "stream",
     "text": [
      "100%|█████████████████████████████████████████| 655/655 [00:17<00:00, 36.43it/s]\n"
     ]
    },
    {
     "name": "stdout",
     "output_type": "stream",
     "text": [
      "Epoch: 652, loss: 35.14412361902135, f1: 0.03538925899834932, precision: 0.018017152505606867, recall: 0.9884778197485072\n",
      "val_loss: 35.144146700517844, val_f1: 0.039994402774875, val_precision: 0.020411494241412215, val_recall: 0.9852276162816844\n"
     ]
    },
    {
     "name": "stderr",
     "output_type": "stream",
     "text": [
      "100%|█████████████████████████████████████████| 655/655 [00:17<00:00, 36.60it/s]\n"
     ]
    },
    {
     "name": "stdout",
     "output_type": "stream",
     "text": [
      "Epoch: 653, loss: 35.14412357825359, f1: 0.03538925899834932, precision: 0.018017152505606867, recall: 0.9884778197485072\n",
      "val_loss: 35.144146648022016, val_f1: 0.039994402774875, val_precision: 0.020411494241412215, val_recall: 0.9852276162816844\n"
     ]
    },
    {
     "name": "stderr",
     "output_type": "stream",
     "text": [
      "100%|█████████████████████████████████████████| 655/655 [00:17<00:00, 36.83it/s]\n"
     ]
    },
    {
     "name": "stdout",
     "output_type": "stream",
     "text": [
      "Epoch: 654, loss: 35.14412352001394, f1: 0.03538925899834932, precision: 0.018017152505606867, recall: 0.9884778197485072\n",
      "val_loss: 35.14414661302479, val_f1: 0.039994402774875, val_precision: 0.020411494241412215, val_recall: 0.9852276162816844\n"
     ]
    },
    {
     "name": "stderr",
     "output_type": "stream",
     "text": [
      "100%|█████████████████████████████████████████| 655/655 [00:17<00:00, 36.53it/s]\n"
     ]
    },
    {
     "name": "stdout",
     "output_type": "stream",
     "text": [
      "Epoch: 655, loss: 35.144123485070146, f1: 0.03538925899834932, precision: 0.018017152505606867, recall: 0.9884778197485072\n",
      "val_loss: 35.144146543030345, val_f1: 0.039994402774875, val_precision: 0.020411494241412215, val_recall: 0.9852276162816844\n"
     ]
    },
    {
     "name": "stderr",
     "output_type": "stream",
     "text": [
      "100%|█████████████████████████████████████████| 655/655 [00:17<00:00, 36.61it/s]\n"
     ]
    },
    {
     "name": "stdout",
     "output_type": "stream",
     "text": [
      "Epoch: 656, loss: 35.14412347342222, f1: 0.03538925899834932, precision: 0.018017152505606867, recall: 0.9884778197485072\n",
      "val_loss: 35.144146508033124, val_f1: 0.039994402774875, val_precision: 0.020411494241412215, val_recall: 0.9852276162816844\n"
     ]
    },
    {
     "name": "stderr",
     "output_type": "stream",
     "text": [
      "100%|█████████████████████████████████████████| 655/655 [00:17<00:00, 36.55it/s]\n"
     ]
    },
    {
     "name": "stdout",
     "output_type": "stream",
     "text": [
      "Epoch: 657, loss: 35.144123444302394, f1: 0.03538925899834932, precision: 0.018017152505606867, recall: 0.9884778197485072\n",
      "val_loss: 35.14414633304701, val_f1: 0.039994402774875, val_precision: 0.020411494241412215, val_recall: 0.9852276162816844\n"
     ]
    },
    {
     "name": "stderr",
     "output_type": "stream",
     "text": [
      "100%|█████████████████████████████████████████| 655/655 [00:17<00:00, 36.57it/s]\n"
     ]
    },
    {
     "name": "stdout",
     "output_type": "stream",
     "text": [
      "Epoch: 658, loss: 35.144123403534635, f1: 0.03538925899834932, precision: 0.018017152505606867, recall: 0.9884778197485072\n",
      "val_loss: 35.14414629804979, val_f1: 0.039994402774875, val_precision: 0.020411494241412215, val_recall: 0.9852276162816844\n"
     ]
    },
    {
     "name": "stderr",
     "output_type": "stream",
     "text": [
      "100%|█████████████████████████████████████████| 655/655 [00:18<00:00, 36.38it/s]\n"
     ]
    },
    {
     "name": "stdout",
     "output_type": "stream",
     "text": [
      "Epoch: 659, loss: 35.14412337441481, f1: 0.03538925899834932, precision: 0.018017152505606867, recall: 0.9884778197485072\n",
      "val_loss: 35.14414626305256, val_f1: 0.039994402774875, val_precision: 0.020411494241412215, val_recall: 0.9852276162816844\n"
     ]
    },
    {
     "name": "stderr",
     "output_type": "stream",
     "text": [
      "100%|█████████████████████████████████████████| 655/655 [00:17<00:00, 36.69it/s]\n"
     ]
    },
    {
     "name": "stdout",
     "output_type": "stream",
     "text": [
      "Epoch: 660, loss: 35.144123339471015, f1: 0.03538925899834932, precision: 0.018017152505606867, recall: 0.9884778197485072\n",
      "val_loss: 35.14414619305812, val_f1: 0.039994402774875, val_precision: 0.020411494241412215, val_recall: 0.9852276162816844\n"
     ]
    },
    {
     "name": "stderr",
     "output_type": "stream",
     "text": [
      "100%|█████████████████████████████████████████| 655/655 [00:17<00:00, 36.64it/s]\n"
     ]
    },
    {
     "name": "stdout",
     "output_type": "stream",
     "text": [
      "Epoch: 661, loss: 35.14412330452723, f1: 0.03538925899834932, precision: 0.018017152505606867, recall: 0.9884778197485072\n",
      "val_loss: 35.14414610556506, val_f1: 0.039994402774875, val_precision: 0.020411494241412215, val_recall: 0.9852276162816844\n"
     ]
    },
    {
     "name": "stderr",
     "output_type": "stream",
     "text": [
      "100%|█████████████████████████████████████████| 655/655 [00:17<00:00, 36.44it/s]\n"
     ]
    },
    {
     "name": "stdout",
     "output_type": "stream",
     "text": [
      "Epoch: 662, loss: 35.144123281231366, f1: 0.03538925899834932, precision: 0.018017152505606867, recall: 0.9884778197485072\n",
      "val_loss: 35.14414607056784, val_f1: 0.039994402774875, val_precision: 0.020411494241412215, val_recall: 0.9852276162816844\n"
     ]
    },
    {
     "name": "stderr",
     "output_type": "stream",
     "text": [
      "100%|█████████████████████████████████████████| 655/655 [00:17<00:00, 36.54it/s]\n"
     ]
    },
    {
     "name": "stdout",
     "output_type": "stream",
     "text": [
      "Epoch: 663, loss: 35.14412324628757, f1: 0.03538925899834932, precision: 0.018017152505606867, recall: 0.9884778197485072\n",
      "val_loss: 35.14414601807201, val_f1: 0.039994402774875, val_precision: 0.020411494241412215, val_recall: 0.9852276162816844\n"
     ]
    },
    {
     "name": "stderr",
     "output_type": "stream",
     "text": [
      "100%|█████████████████████████████████████████| 655/655 [00:17<00:00, 36.51it/s]\n"
     ]
    },
    {
     "name": "stdout",
     "output_type": "stream",
     "text": [
      "Epoch: 664, loss: 35.14412319969585, f1: 0.03538925899834932, precision: 0.018017152505606867, recall: 0.9884778197485072\n",
      "val_loss: 35.14414596557617, val_f1: 0.039994402774875, val_precision: 0.020411494241412215, val_recall: 0.9852276162816844\n"
     ]
    },
    {
     "name": "stderr",
     "output_type": "stream",
     "text": [
      "100%|█████████████████████████████████████████| 655/655 [00:17<00:00, 36.58it/s]\n"
     ]
    },
    {
     "name": "stdout",
     "output_type": "stream",
     "text": [
      "Epoch: 665, loss: 35.14412316475206, f1: 0.03538925899834932, precision: 0.018017152505606867, recall: 0.9884778197485072\n",
      "val_loss: 35.14414593057895, val_f1: 0.039994402774875, val_precision: 0.020411494241412215, val_recall: 0.9852276162816844\n"
     ]
    },
    {
     "name": "stderr",
     "output_type": "stream",
     "text": [
      "100%|█████████████████████████████████████████| 655/655 [00:17<00:00, 36.58it/s]\n"
     ]
    },
    {
     "name": "stdout",
     "output_type": "stream",
     "text": [
      "Epoch: 666, loss: 35.14412314728016, f1: 0.03538925899834932, precision: 0.018017152505606867, recall: 0.9884778197485072\n",
      "val_loss: 35.144145843085894, val_f1: 0.039994402774875, val_precision: 0.020411494241412215, val_recall: 0.9852276162816844\n"
     ]
    },
    {
     "name": "stderr",
     "output_type": "stream",
     "text": [
      "100%|█████████████████████████████████████████| 655/655 [00:17<00:00, 37.05it/s]\n"
     ]
    },
    {
     "name": "stdout",
     "output_type": "stream",
     "text": [
      "Epoch: 667, loss: 35.144123129808264, f1: 0.03538925899834932, precision: 0.018017152505606867, recall: 0.9884778197485072\n",
      "val_loss: 35.14414582558728, val_f1: 0.039994402774875, val_precision: 0.020411494241412215, val_recall: 0.9852276162816844\n"
     ]
    },
    {
     "name": "stderr",
     "output_type": "stream",
     "text": [
      "100%|█████████████████████████████████████████| 655/655 [00:17<00:00, 36.51it/s]\n"
     ]
    },
    {
     "name": "stdout",
     "output_type": "stream",
     "text": [
      "Epoch: 668, loss: 35.144123089040505, f1: 0.03538925899834932, precision: 0.018017152505606867, recall: 0.9884778197485072\n",
      "val_loss: 35.14414579059006, val_f1: 0.039994402774875, val_precision: 0.020411494241412215, val_recall: 0.9852276162816844\n"
     ]
    },
    {
     "name": "stderr",
     "output_type": "stream",
     "text": [
      "100%|█████████████████████████████████████████| 655/655 [00:17<00:00, 36.49it/s]\n"
     ]
    },
    {
     "name": "stdout",
     "output_type": "stream",
     "text": [
      "Epoch: 669, loss: 35.14412305409672, f1: 0.03538925899834932, precision: 0.018017152505606867, recall: 0.9884778197485072\n",
      "val_loss: 35.14414572059562, val_f1: 0.039994402774875, val_precision: 0.020411494241412215, val_recall: 0.9852276162816844\n"
     ]
    },
    {
     "name": "stderr",
     "output_type": "stream",
     "text": [
      "100%|█████████████████████████████████████████| 655/655 [00:17<00:00, 36.57it/s]\n"
     ]
    },
    {
     "name": "stdout",
     "output_type": "stream",
     "text": [
      "Epoch: 670, loss: 35.14412303662482, f1: 0.03538925899834932, precision: 0.018017152505606867, recall: 0.9884778197485072\n",
      "val_loss: 35.14414566809978, val_f1: 0.039994402774875, val_precision: 0.020411494241412215, val_recall: 0.9852276162816844\n"
     ]
    },
    {
     "name": "stderr",
     "output_type": "stream",
     "text": [
      "100%|█████████████████████████████████████████| 655/655 [00:17<00:00, 36.56it/s]\n"
     ]
    },
    {
     "name": "stdout",
     "output_type": "stream",
     "text": [
      "Epoch: 671, loss: 35.1441229900331, f1: 0.03538925899834932, precision: 0.018017152505606867, recall: 0.9884778197485072\n",
      "val_loss: 35.14414561560395, val_f1: 0.039994402774875, val_precision: 0.020411494241412215, val_recall: 0.9852276162816844\n"
     ]
    },
    {
     "name": "stderr",
     "output_type": "stream",
     "text": [
      "100%|█████████████████████████████████████████| 655/655 [00:17<00:00, 36.52it/s]\n"
     ]
    },
    {
     "name": "stdout",
     "output_type": "stream",
     "text": [
      "Epoch: 672, loss: 35.144122972561206, f1: 0.03538925899834932, precision: 0.018017152505606867, recall: 0.9884778197485072\n",
      "val_loss: 35.1441455456095, val_f1: 0.039994402774875, val_precision: 0.020411494241412215, val_recall: 0.9852276162816844\n"
     ]
    },
    {
     "name": "stderr",
     "output_type": "stream",
     "text": [
      "100%|█████████████████████████████████████████| 655/655 [00:17<00:00, 36.92it/s]\n"
     ]
    },
    {
     "name": "stdout",
     "output_type": "stream",
     "text": [
      "Epoch: 673, loss: 35.144122943441374, f1: 0.03538925899834932, precision: 0.018017152505606867, recall: 0.9884778197485072\n",
      "val_loss: 35.144145510612276, val_f1: 0.039994402774875, val_precision: 0.020411494241412215, val_recall: 0.9852276162816844\n"
     ]
    },
    {
     "name": "stderr",
     "output_type": "stream",
     "text": [
      "100%|█████████████████████████████████████████| 655/655 [00:17<00:00, 36.54it/s]\n"
     ]
    },
    {
     "name": "stdout",
     "output_type": "stream",
     "text": [
      "Epoch: 674, loss: 35.144122925969484, f1: 0.03538925899834932, precision: 0.018017152505606867, recall: 0.9884778197485072\n",
      "val_loss: 35.144145370623384, val_f1: 0.039994402774875, val_precision: 0.020411494241412215, val_recall: 0.9852276162816844\n"
     ]
    },
    {
     "name": "stderr",
     "output_type": "stream",
     "text": [
      "100%|█████████████████████████████████████████| 655/655 [00:17<00:00, 36.58it/s]\n"
     ]
    },
    {
     "name": "stdout",
     "output_type": "stream",
     "text": [
      "Epoch: 675, loss: 35.14412290267362, f1: 0.03538925899834932, precision: 0.018017152505606867, recall: 0.9884778197485072\n",
      "val_loss: 35.14414533562616, val_f1: 0.039994402774875, val_precision: 0.020411494241412215, val_recall: 0.9852276162816844\n"
     ]
    },
    {
     "name": "stderr",
     "output_type": "stream",
     "text": [
      "100%|█████████████████████████████████████████| 655/655 [00:17<00:00, 36.62it/s]\n"
     ]
    },
    {
     "name": "stdout",
     "output_type": "stream",
     "text": [
      "Epoch: 676, loss: 35.14412285025793, f1: 0.03538925899834932, precision: 0.018017152505606867, recall: 0.9884778197485072\n",
      "val_loss: 35.14414528313033, val_f1: 0.039994402774875, val_precision: 0.020411494241412215, val_recall: 0.9852276162816844\n"
     ]
    },
    {
     "name": "stderr",
     "output_type": "stream",
     "text": [
      "100%|█████████████████████████████████████████| 655/655 [00:17<00:00, 36.40it/s]\n"
     ]
    },
    {
     "name": "stdout",
     "output_type": "stream",
     "text": [
      "Epoch: 677, loss: 35.14412283278604, f1: 0.03538925899834932, precision: 0.018017152505606867, recall: 0.9884778197485072\n",
      "val_loss: 35.144145213135886, val_f1: 0.039994402774875, val_precision: 0.020411494241412215, val_recall: 0.9852276162816844\n"
     ]
    },
    {
     "name": "stderr",
     "output_type": "stream",
     "text": [
      "100%|█████████████████████████████████████████| 655/655 [00:17<00:00, 36.44it/s]\n"
     ]
    },
    {
     "name": "stdout",
     "output_type": "stream",
     "text": [
      "Epoch: 678, loss: 35.14412280949018, f1: 0.03538925899834932, precision: 0.018017152505606867, recall: 0.9884778197485072\n",
      "val_loss: 35.14414512564283, val_f1: 0.039994402774875, val_precision: 0.020411494241412215, val_recall: 0.9852276162816844\n"
     ]
    },
    {
     "name": "stderr",
     "output_type": "stream",
     "text": [
      "100%|█████████████████████████████████████████| 655/655 [00:17<00:00, 36.60it/s]\n"
     ]
    },
    {
     "name": "stdout",
     "output_type": "stream",
     "text": [
      "Epoch: 679, loss: 35.144122786194316, f1: 0.03538925899834932, precision: 0.018017152505606867, recall: 0.9884778197485072\n",
      "val_loss: 35.144145108144215, val_f1: 0.039994402774875, val_precision: 0.020411494241412215, val_recall: 0.9852276162816844\n"
     ]
    },
    {
     "name": "stderr",
     "output_type": "stream",
     "text": [
      "100%|█████████████████████████████████████████| 655/655 [00:17<00:00, 36.65it/s]\n"
     ]
    },
    {
     "name": "stdout",
     "output_type": "stream",
     "text": [
      "Epoch: 680, loss: 35.144122762898455, f1: 0.03538925899834932, precision: 0.018017152505606867, recall: 0.9884778197485072\n",
      "val_loss: 35.14414505564839, val_f1: 0.039994402774875, val_precision: 0.020411494241412215, val_recall: 0.9852276162816844\n"
     ]
    },
    {
     "name": "stderr",
     "output_type": "stream",
     "text": [
      "100%|█████████████████████████████████████████| 655/655 [00:17<00:00, 36.48it/s]\n"
     ]
    },
    {
     "name": "stdout",
     "output_type": "stream",
     "text": [
      "Epoch: 681, loss: 35.144122739602594, f1: 0.03538925899834932, precision: 0.018017152505606867, recall: 0.9884778197485072\n",
      "val_loss: 35.14414502065116, val_f1: 0.039994402774875, val_precision: 0.020411494241412215, val_recall: 0.9852276162816844\n"
     ]
    },
    {
     "name": "stderr",
     "output_type": "stream",
     "text": [
      "100%|█████████████████████████████████████████| 655/655 [00:17<00:00, 36.58it/s]\n"
     ]
    },
    {
     "name": "stdout",
     "output_type": "stream",
     "text": [
      "Epoch: 682, loss: 35.14412271048276, f1: 0.03538925899834932, precision: 0.018017152505606867, recall: 0.9884778197485072\n",
      "val_loss: 35.14414500315255, val_f1: 0.039994402774875, val_precision: 0.020411494241412215, val_recall: 0.9852276162816844\n"
     ]
    },
    {
     "name": "stderr",
     "output_type": "stream",
     "text": [
      "100%|█████████████████████████████████████████| 655/655 [00:17<00:00, 36.47it/s]\n"
     ]
    },
    {
     "name": "stdout",
     "output_type": "stream",
     "text": [
      "Epoch: 683, loss: 35.1441226871869, f1: 0.03538925899834932, precision: 0.018017152505606867, recall: 0.9884778197485072\n",
      "val_loss: 35.14414488066227, val_f1: 0.039994402774875, val_precision: 0.020411494241412215, val_recall: 0.9852276162816844\n"
     ]
    },
    {
     "name": "stderr",
     "output_type": "stream",
     "text": [
      "100%|█████████████████████████████████████████| 655/655 [00:17<00:00, 36.56it/s]\n"
     ]
    },
    {
     "name": "stdout",
     "output_type": "stream",
     "text": [
      "Epoch: 684, loss: 35.14412265224311, f1: 0.03538925899834932, precision: 0.018017152505606867, recall: 0.9884778197485072\n",
      "val_loss: 35.14414486316366, val_f1: 0.039994402774875, val_precision: 0.020411494241412215, val_recall: 0.9852276162816844\n"
     ]
    },
    {
     "name": "stderr",
     "output_type": "stream",
     "text": [
      "100%|█████████████████████████████████████████| 655/655 [00:17<00:00, 36.54it/s]\n"
     ]
    },
    {
     "name": "stdout",
     "output_type": "stream",
     "text": [
      "Epoch: 685, loss: 35.14412264059518, f1: 0.03538925899834932, precision: 0.018017152505606867, recall: 0.9884778197485072\n",
      "val_loss: 35.144144548188656, val_f1: 0.039994402774875, val_precision: 0.020411494241412215, val_recall: 0.9852276162816844\n"
     ]
    },
    {
     "name": "stderr",
     "output_type": "stream",
     "text": [
      "100%|█████████████████████████████████████████| 655/655 [00:17<00:00, 36.95it/s]\n"
     ]
    },
    {
     "name": "stdout",
     "output_type": "stream",
     "text": [
      "Epoch: 686, loss: 35.144122594003456, f1: 0.03538925899834932, precision: 0.018017152505606867, recall: 0.9884778197485072\n",
      "val_loss: 35.14414453069004, val_f1: 0.039994402774875, val_precision: 0.020411494241412215, val_recall: 0.9852276162816844\n"
     ]
    },
    {
     "name": "stderr",
     "output_type": "stream",
     "text": [
      "100%|█████████████████████████████████████████| 655/655 [00:17<00:00, 36.54it/s]\n"
     ]
    },
    {
     "name": "stdout",
     "output_type": "stream",
     "text": [
      "Epoch: 687, loss: 35.14412255905967, f1: 0.03538925899834932, precision: 0.018017152505606867, recall: 0.9884778197485072\n",
      "val_loss: 35.144144443196986, val_f1: 0.039994402774875, val_precision: 0.020411494241412215, val_recall: 0.9852276162816844\n"
     ]
    },
    {
     "name": "stderr",
     "output_type": "stream",
     "text": [
      "100%|█████████████████████████████████████████| 655/655 [00:17<00:00, 36.69it/s]\n"
     ]
    },
    {
     "name": "stdout",
     "output_type": "stream",
     "text": [
      "Epoch: 688, loss: 35.144122535763806, f1: 0.03538925899834932, precision: 0.018017152505606867, recall: 0.9884778197485072\n",
      "val_loss: 35.14414439070116, val_f1: 0.039994402774875, val_precision: 0.020411494241412215, val_recall: 0.9852276162816844\n"
     ]
    },
    {
     "name": "stderr",
     "output_type": "stream",
     "text": [
      "100%|█████████████████████████████████████████| 655/655 [00:17<00:00, 36.63it/s]\n"
     ]
    },
    {
     "name": "stdout",
     "output_type": "stream",
     "text": [
      "Epoch: 689, loss: 35.14412250082002, f1: 0.03538925899834932, precision: 0.018017152505606867, recall: 0.9884778197485072\n",
      "val_loss: 35.14414433820532, val_f1: 0.039994402774875, val_precision: 0.020411494241412215, val_recall: 0.9852276162816844\n"
     ]
    },
    {
     "name": "stderr",
     "output_type": "stream",
     "text": [
      "100%|█████████████████████████████████████████| 655/655 [00:17<00:00, 36.53it/s]\n"
     ]
    },
    {
     "name": "stdout",
     "output_type": "stream",
     "text": [
      "Epoch: 690, loss: 35.14412237269278, f1: 0.03538925899834932, precision: 0.018017152505606867, recall: 0.9884778197485072\n",
      "val_loss: 35.14414432070671, val_f1: 0.039994402774875, val_precision: 0.020411494241412215, val_recall: 0.9852276162816844\n"
     ]
    },
    {
     "name": "stderr",
     "output_type": "stream",
     "text": [
      "100%|█████████████████████████████████████████| 655/655 [00:17<00:00, 36.63it/s]\n"
     ]
    },
    {
     "name": "stdout",
     "output_type": "stream",
     "text": [
      "Epoch: 691, loss: 35.14412233774899, f1: 0.03538925899834932, precision: 0.018017152505606867, recall: 0.9884778197485072\n",
      "val_loss: 35.14414426821087, val_f1: 0.039994402774875, val_precision: 0.020411494241412215, val_recall: 0.9852276162816844\n"
     ]
    },
    {
     "name": "stderr",
     "output_type": "stream",
     "text": [
      "100%|█████████████████████████████████████████| 655/655 [00:17<00:00, 37.14it/s]\n"
     ]
    },
    {
     "name": "stdout",
     "output_type": "stream",
     "text": [
      "Epoch: 692, loss: 35.14412230862916, f1: 0.03538925899834932, precision: 0.018017152505606867, recall: 0.9884778197485072\n",
      "val_loss: 35.144144250712266, val_f1: 0.039994402774875, val_precision: 0.020411494241412215, val_recall: 0.9852276162816844\n"
     ]
    },
    {
     "name": "stderr",
     "output_type": "stream",
     "text": [
      "100%|█████████████████████████████████████████| 655/655 [00:17<00:00, 36.58it/s]\n"
     ]
    },
    {
     "name": "stdout",
     "output_type": "stream",
     "text": [
      "Epoch: 693, loss: 35.144122285333296, f1: 0.03538925899834932, precision: 0.018017152505606867, recall: 0.9884778197485072\n",
      "val_loss: 35.14414423321365, val_f1: 0.039994402774875, val_precision: 0.020411494241412215, val_recall: 0.9852276162816844\n"
     ]
    },
    {
     "name": "stderr",
     "output_type": "stream",
     "text": [
      "100%|█████████████████████████████████████████| 655/655 [00:17<00:00, 36.65it/s]\n"
     ]
    },
    {
     "name": "stdout",
     "output_type": "stream",
     "text": [
      "Epoch: 694, loss: 35.14412227368537, f1: 0.03538925899834932, precision: 0.018017152505606867, recall: 0.9884778197485072\n",
      "val_loss: 35.144144145720595, val_f1: 0.039994402774875, val_precision: 0.020411494241412215, val_recall: 0.9852276162816844\n"
     ]
    },
    {
     "name": "stderr",
     "output_type": "stream",
     "text": [
      "100%|█████████████████████████████████████████| 655/655 [00:17<00:00, 36.63it/s]\n"
     ]
    },
    {
     "name": "stdout",
     "output_type": "stream",
     "text": [
      "Epoch: 695, loss: 35.14412223874157, f1: 0.03538925899834932, precision: 0.018017152505606867, recall: 0.9884778197485072\n",
      "val_loss: 35.14414412822198, val_f1: 0.039994402774875, val_precision: 0.020411494241412215, val_recall: 0.9852276162816844\n"
     ]
    },
    {
     "name": "stderr",
     "output_type": "stream",
     "text": [
      "100%|█████████████████████████████████████████| 655/655 [00:17<00:00, 36.54it/s]\n"
     ]
    },
    {
     "name": "stdout",
     "output_type": "stream",
     "text": [
      "Epoch: 696, loss: 35.14412220962175, f1: 0.03538925899834932, precision: 0.018017152505606867, recall: 0.9884778197485072\n",
      "val_loss: 35.14414409322476, val_f1: 0.039994402774875, val_precision: 0.020411494241412215, val_recall: 0.9852276162816844\n"
     ]
    },
    {
     "name": "stderr",
     "output_type": "stream",
     "text": [
      "100%|█████████████████████████████████████████| 655/655 [00:17<00:00, 36.56it/s]\n"
     ]
    },
    {
     "name": "stdout",
     "output_type": "stream",
     "text": [
      "Epoch: 697, loss: 35.144122163030026, f1: 0.03538925899834932, precision: 0.018017152505606867, recall: 0.9884778197485072\n",
      "val_loss: 35.14414405822754, val_f1: 0.039994402774875, val_precision: 0.020411494241412215, val_recall: 0.9852276162816844\n"
     ]
    },
    {
     "name": "stderr",
     "output_type": "stream",
     "text": [
      "100%|█████████████████████████████████████████| 655/655 [00:17<00:00, 36.80it/s]\n"
     ]
    },
    {
     "name": "stdout",
     "output_type": "stream",
     "text": [
      "Epoch: 698, loss: 35.1441221339102, f1: 0.03538925899834932, precision: 0.018017152505606867, recall: 0.9884778197485072\n",
      "val_loss: 35.144144005731704, val_f1: 0.039994402774875, val_precision: 0.020411494241412215, val_recall: 0.9852276162816844\n"
     ]
    },
    {
     "name": "stderr",
     "output_type": "stream",
     "text": [
      "100%|█████████████████████████████████████████| 655/655 [00:17<00:00, 36.50it/s]\n"
     ]
    },
    {
     "name": "stdout",
     "output_type": "stream",
     "text": [
      "Epoch: 699, loss: 35.14412209314244, f1: 0.03538925899834932, precision: 0.018017152505606867, recall: 0.9884778197485072\n",
      "val_loss: 35.1441439882331, val_f1: 0.039994402774875, val_precision: 0.020411494241412215, val_recall: 0.9852276162816844\n"
     ]
    },
    {
     "name": "stderr",
     "output_type": "stream",
     "text": [
      "100%|█████████████████████████████████████████| 655/655 [00:17<00:00, 36.48it/s]\n"
     ]
    },
    {
     "name": "stdout",
     "output_type": "stream",
     "text": [
      "Epoch: 700, loss: 35.144122075670545, f1: 0.03538925899834932, precision: 0.018017152505606867, recall: 0.9884778197485072\n",
      "val_loss: 35.14414391823865, val_f1: 0.039994402774875, val_precision: 0.020411494241412215, val_recall: 0.9852276162816844\n"
     ]
    },
    {
     "name": "stderr",
     "output_type": "stream",
     "text": [
      "100%|█████████████████████████████████████████| 655/655 [00:17<00:00, 36.59it/s]\n"
     ]
    },
    {
     "name": "stdout",
     "output_type": "stream",
     "text": [
      "Epoch: 701, loss: 35.14412203490279, f1: 0.03538925899834932, precision: 0.018017152505606867, recall: 0.9884778197485072\n",
      "val_loss: 35.144143848244205, val_f1: 0.039994402774875, val_precision: 0.020411494241412215, val_recall: 0.9852276162816844\n"
     ]
    },
    {
     "name": "stderr",
     "output_type": "stream",
     "text": [
      "100%|█████████████████████████████████████████| 655/655 [00:17<00:00, 36.58it/s]\n"
     ]
    },
    {
     "name": "stdout",
     "output_type": "stream",
     "text": [
      "Epoch: 702, loss: 35.14412201160693, f1: 0.03538925899834932, precision: 0.018017152505606867, recall: 0.9884778197485072\n",
      "val_loss: 35.144143813246984, val_f1: 0.039994402774875, val_precision: 0.020411494241412215, val_recall: 0.9852276162816844\n"
     ]
    },
    {
     "name": "stderr",
     "output_type": "stream",
     "text": [
      "100%|█████████████████████████████████████████| 655/655 [00:17<00:00, 36.71it/s]\n"
     ]
    },
    {
     "name": "stdout",
     "output_type": "stream",
     "text": [
      "Epoch: 703, loss: 35.144121994135034, f1: 0.03538925899834932, precision: 0.018017152505606867, recall: 0.9884778197485072\n",
      "val_loss: 35.144143743252535, val_f1: 0.039994402774875, val_precision: 0.020411494241412215, val_recall: 0.9852276162816844\n"
     ]
    },
    {
     "name": "stderr",
     "output_type": "stream",
     "text": [
      "100%|█████████████████████████████████████████| 655/655 [00:17<00:00, 36.67it/s]\n"
     ]
    },
    {
     "name": "stdout",
     "output_type": "stream",
     "text": [
      "Epoch: 704, loss: 35.14412191842349, f1: 0.03538925899834932, precision: 0.018017152505606867, recall: 0.9884778197485072\n",
      "val_loss: 35.14414372575392, val_f1: 0.039994402774875, val_precision: 0.020411494241412215, val_recall: 0.9852276162816844\n"
     ]
    },
    {
     "name": "stderr",
     "output_type": "stream",
     "text": [
      "100%|█████████████████████████████████████████| 655/655 [00:17<00:00, 36.98it/s]\n"
     ]
    },
    {
     "name": "stdout",
     "output_type": "stream",
     "text": [
      "Epoch: 705, loss: 35.14412191259952, f1: 0.03538925899834932, precision: 0.018017152505606867, recall: 0.9884778197485072\n",
      "val_loss: 35.1441436907567, val_f1: 0.039994402774875, val_precision: 0.020411494241412215, val_recall: 0.9852276162816844\n"
     ]
    },
    {
     "name": "stderr",
     "output_type": "stream",
     "text": [
      "100%|█████████████████████████████████████████| 655/655 [00:17<00:00, 36.56it/s]\n"
     ]
    },
    {
     "name": "stdout",
     "output_type": "stream",
     "text": [
      "Epoch: 706, loss: 35.14412188347969, f1: 0.03538925899834932, precision: 0.018017152505606867, recall: 0.9884778197485072\n",
      "val_loss: 35.14414365575948, val_f1: 0.039994402774875, val_precision: 0.020411494241412215, val_recall: 0.9852276162816844\n"
     ]
    },
    {
     "name": "stderr",
     "output_type": "stream",
     "text": [
      "100%|█████████████████████████████████████████| 655/655 [00:17<00:00, 36.59it/s]\n"
     ]
    },
    {
     "name": "stdout",
     "output_type": "stream",
     "text": [
      "Epoch: 707, loss: 35.1441218660078, f1: 0.03538925899834932, precision: 0.018017152505606867, recall: 0.9884778197485072\n",
      "val_loss: 35.1441435332692, val_f1: 0.039994402774875, val_precision: 0.020411494241412215, val_recall: 0.9852276162816844\n"
     ]
    },
    {
     "name": "stderr",
     "output_type": "stream",
     "text": [
      "100%|█████████████████████████████████████████| 655/655 [00:17<00:00, 36.57it/s]\n"
     ]
    },
    {
     "name": "stdout",
     "output_type": "stream",
     "text": [
      "Epoch: 708, loss: 35.14412183688797, f1: 0.03538925899834932, precision: 0.018017152505606867, recall: 0.9884778197485072\n",
      "val_loss: 35.14414349827198, val_f1: 0.039994402774875, val_precision: 0.020411494241412215, val_recall: 0.9852276162816844\n"
     ]
    },
    {
     "name": "stderr",
     "output_type": "stream",
     "text": [
      "100%|█████████████████████████████████████████| 655/655 [00:17<00:00, 36.54it/s]\n"
     ]
    },
    {
     "name": "stdout",
     "output_type": "stream",
     "text": [
      "Epoch: 709, loss: 35.144121807768144, f1: 0.03538925899834932, precision: 0.018017152505606867, recall: 0.9884778197485072\n",
      "val_loss: 35.14414341077892, val_f1: 0.039994402774875, val_precision: 0.020411494241412215, val_recall: 0.9852276162816844\n"
     ]
    },
    {
     "name": "stderr",
     "output_type": "stream",
     "text": [
      "100%|█████████████████████████████████████████| 655/655 [00:17<00:00, 36.44it/s]\n"
     ]
    },
    {
     "name": "stdout",
     "output_type": "stream",
     "text": [
      "Epoch: 710, loss: 35.144121743704524, f1: 0.03538925899834932, precision: 0.018017152505606867, recall: 0.9884778197485072\n",
      "val_loss: 35.14414341077892, val_f1: 0.039994402774875, val_precision: 0.020411494241412215, val_recall: 0.9852276162816844\n"
     ]
    },
    {
     "name": "stderr",
     "output_type": "stream",
     "text": [
      "100%|█████████████████████████████████████████| 655/655 [00:17<00:00, 37.03it/s]\n"
     ]
    },
    {
     "name": "stdout",
     "output_type": "stream",
     "text": [
      "Epoch: 711, loss: 35.144121708760736, f1: 0.03538925899834932, precision: 0.018017152505606867, recall: 0.9884778197485072\n",
      "val_loss: 35.144143375781695, val_f1: 0.039994402774875, val_precision: 0.020411494241412215, val_recall: 0.9852276162816844\n"
     ]
    },
    {
     "name": "stderr",
     "output_type": "stream",
     "text": [
      "100%|█████████████████████████████████████████| 655/655 [00:17<00:00, 36.55it/s]\n"
     ]
    },
    {
     "name": "stdout",
     "output_type": "stream",
     "text": [
      "Epoch: 712, loss: 35.14412167381694, f1: 0.03538925899834932, precision: 0.018017152505606867, recall: 0.9884778197485072\n",
      "val_loss: 35.14414332328587, val_f1: 0.039994402774875, val_precision: 0.020411494241412215, val_recall: 0.9852276162816844\n"
     ]
    },
    {
     "name": "stderr",
     "output_type": "stream",
     "text": [
      "100%|█████████████████████████████████████████| 655/655 [00:17<00:00, 36.52it/s]\n"
     ]
    },
    {
     "name": "stdout",
     "output_type": "stream",
     "text": [
      "Epoch: 713, loss: 35.144121644697115, f1: 0.03538925899834932, precision: 0.018017152505606867, recall: 0.9884778197485072\n",
      "val_loss: 35.14414323579281, val_f1: 0.039994402774875, val_precision: 0.020411494241412215, val_recall: 0.9852276162816844\n"
     ]
    },
    {
     "name": "stderr",
     "output_type": "stream",
     "text": [
      "100%|█████████████████████████████████████████| 655/655 [00:17<00:00, 36.54it/s]\n"
     ]
    },
    {
     "name": "stdout",
     "output_type": "stream",
     "text": [
      "Epoch: 714, loss: 35.14412162722522, f1: 0.03538925899834932, precision: 0.018017152505606867, recall: 0.9884778197485072\n",
      "val_loss: 35.144143183296976, val_f1: 0.039994402774875, val_precision: 0.020411494241412215, val_recall: 0.9852276162816844\n"
     ]
    },
    {
     "name": "stderr",
     "output_type": "stream",
     "text": [
      "100%|█████████████████████████████████████████| 655/655 [00:17<00:00, 36.57it/s]\n"
     ]
    },
    {
     "name": "stdout",
     "output_type": "stream",
     "text": [
      "Epoch: 715, loss: 35.14412160975333, f1: 0.03538925899834932, precision: 0.018017152505606867, recall: 0.9884778197485072\n",
      "val_loss: 35.144143148299754, val_f1: 0.039994402774875, val_precision: 0.020411494241412215, val_recall: 0.9852276162816844\n"
     ]
    },
    {
     "name": "stderr",
     "output_type": "stream",
     "text": [
      "100%|█████████████████████████████████████████| 655/655 [00:17<00:00, 36.48it/s]\n"
     ]
    },
    {
     "name": "stdout",
     "output_type": "stream",
     "text": [
      "Epoch: 716, loss: 35.144121563161605, f1: 0.03538925899834932, precision: 0.018017152505606867, recall: 0.9884778197485072\n",
      "val_loss: 35.144143078305305, val_f1: 0.039994402774875, val_precision: 0.020411494241412215, val_recall: 0.9852276162816844\n"
     ]
    },
    {
     "name": "stderr",
     "output_type": "stream",
     "text": [
      "100%|█████████████████████████████████████████| 655/655 [00:17<00:00, 37.32it/s]\n"
     ]
    },
    {
     "name": "stdout",
     "output_type": "stream",
     "text": [
      "Epoch: 717, loss: 35.14412152821781, f1: 0.03538925899834932, precision: 0.018017152505606867, recall: 0.9884778197485072\n",
      "val_loss: 35.144143043308084, val_f1: 0.039994402774875, val_precision: 0.020411494241412215, val_recall: 0.9852276162816844\n"
     ]
    },
    {
     "name": "stderr",
     "output_type": "stream",
     "text": [
      "100%|█████████████████████████████████████████| 655/655 [00:17<00:00, 36.71it/s]\n"
     ]
    },
    {
     "name": "stdout",
     "output_type": "stream",
     "text": [
      "Epoch: 718, loss: 35.14412151074591, f1: 0.03538925899834932, precision: 0.018017152505606867, recall: 0.9884778197485072\n",
      "val_loss: 35.14414300831086, val_f1: 0.039994402774875, val_precision: 0.020411494241412215, val_recall: 0.9852276162816844\n"
     ]
    },
    {
     "name": "stderr",
     "output_type": "stream",
     "text": [
      "100%|█████████████████████████████████████████| 655/655 [00:17<00:00, 36.58it/s]\n"
     ]
    },
    {
     "name": "stdout",
     "output_type": "stream",
     "text": [
      "Epoch: 719, loss: 35.14412148162609, f1: 0.03538925899834932, precision: 0.018017152505606867, recall: 0.9884778197485072\n",
      "val_loss: 35.14414295581503, val_f1: 0.039994402774875, val_precision: 0.020411494241412215, val_recall: 0.9852276162816844\n"
     ]
    },
    {
     "name": "stderr",
     "output_type": "stream",
     "text": [
      "100%|█████████████████████████████████████████| 655/655 [00:17<00:00, 36.50it/s]\n"
     ]
    },
    {
     "name": "stdout",
     "output_type": "stream",
     "text": [
      "Epoch: 720, loss: 35.14412145250626, f1: 0.03538925899834932, precision: 0.018017152505606867, recall: 0.9884778197485072\n",
      "val_loss: 35.144142920817806, val_f1: 0.039994402774875, val_precision: 0.020411494241412215, val_recall: 0.9852276162816844\n"
     ]
    },
    {
     "name": "stderr",
     "output_type": "stream",
     "text": [
      "100%|█████████████████████████████████████████| 655/655 [00:17<00:00, 36.55it/s]\n"
     ]
    },
    {
     "name": "stdout",
     "output_type": "stream",
     "text": [
      "Epoch: 721, loss: 35.14412142338644, f1: 0.03538925899834932, precision: 0.018017152505606867, recall: 0.9884778197485072\n",
      "val_loss: 35.14414285082336, val_f1: 0.039994402774875, val_precision: 0.020411494241412215, val_recall: 0.9852276162816844\n"
     ]
    },
    {
     "name": "stderr",
     "output_type": "stream",
     "text": [
      "100%|█████████████████████████████████████████| 655/655 [00:17<00:00, 36.54it/s]\n"
     ]
    },
    {
     "name": "stdout",
     "output_type": "stream",
     "text": [
      "Epoch: 722, loss: 35.14412138261868, f1: 0.03538925899834932, precision: 0.018017152505606867, recall: 0.9884778197485072\n",
      "val_loss: 35.14414272833308, val_f1: 0.039994402774875, val_precision: 0.020411494241412215, val_recall: 0.9852276162816844\n"
     ]
    },
    {
     "name": "stderr",
     "output_type": "stream",
     "text": [
      "100%|█████████████████████████████████████████| 655/655 [00:17<00:00, 36.88it/s]\n"
     ]
    },
    {
     "name": "stdout",
     "output_type": "stream",
     "text": [
      "Epoch: 723, loss: 35.14412137097075, f1: 0.03538925899834932, precision: 0.018017152505606867, recall: 0.9884778197485072\n",
      "val_loss: 35.14414269333586, val_f1: 0.039994402774875, val_precision: 0.020411494241412215, val_recall: 0.9852276162816844\n"
     ]
    },
    {
     "name": "stderr",
     "output_type": "stream",
     "text": [
      "100%|█████████████████████████████████████████| 655/655 [00:17<00:00, 36.52it/s]\n"
     ]
    },
    {
     "name": "stdout",
     "output_type": "stream",
     "text": [
      "Epoch: 724, loss: 35.14412134767489, f1: 0.03538925899834932, precision: 0.018017152505606867, recall: 0.9884778197485072\n",
      "val_loss: 35.14414265833864, val_f1: 0.039994402774875, val_precision: 0.020411494241412215, val_recall: 0.9852276162816844\n"
     ]
    },
    {
     "name": "stderr",
     "output_type": "stream",
     "text": [
      "100%|█████████████████████████████████████████| 655/655 [00:17<00:00, 36.64it/s]\n"
     ]
    },
    {
     "name": "stdout",
     "output_type": "stream",
     "text": [
      "Epoch: 725, loss: 35.14412132437903, f1: 0.03538925899834932, precision: 0.018017152505606867, recall: 0.9884778197485072\n",
      "val_loss: 35.1441426058428, val_f1: 0.039994402774875, val_precision: 0.020411494241412215, val_recall: 0.9852276162816844\n"
     ]
    },
    {
     "name": "stderr",
     "output_type": "stream",
     "text": [
      "100%|█████████████████████████████████████████| 655/655 [00:17<00:00, 36.50it/s]\n"
     ]
    },
    {
     "name": "stdout",
     "output_type": "stream",
     "text": [
      "Epoch: 726, loss: 35.14412128361127, f1: 0.03538925899834932, precision: 0.018017152505606867, recall: 0.9884778197485072\n",
      "val_loss: 35.14414258834419, val_f1: 0.039994402774875, val_precision: 0.020411494241412215, val_recall: 0.9852276162816844\n"
     ]
    },
    {
     "name": "stderr",
     "output_type": "stream",
     "text": [
      "100%|█████████████████████████████████████████| 655/655 [00:17<00:00, 36.62it/s]\n"
     ]
    },
    {
     "name": "stdout",
     "output_type": "stream",
     "text": [
      "Epoch: 727, loss: 35.144121271963336, f1: 0.03538925899834932, precision: 0.018017152505606867, recall: 0.9884778197485072\n",
      "val_loss: 35.14414255334697, val_f1: 0.039994402774875, val_precision: 0.020411494241412215, val_recall: 0.9852276162816844\n"
     ]
    },
    {
     "name": "stderr",
     "output_type": "stream",
     "text": [
      "100%|█████████████████████████████████████████| 655/655 [00:17<00:00, 36.49it/s]\n"
     ]
    },
    {
     "name": "stdout",
     "output_type": "stream",
     "text": [
      "Epoch: 728, loss: 35.14412124284351, f1: 0.03538925899834932, precision: 0.018017152505606867, recall: 0.9884778197485072\n",
      "val_loss: 35.144142518349746, val_f1: 0.039994402774875, val_precision: 0.020411494241412215, val_recall: 0.9852276162816844\n"
     ]
    },
    {
     "name": "stderr",
     "output_type": "stream",
     "text": [
      "100%|█████████████████████████████████████████| 655/655 [00:17<00:00, 36.77it/s]\n"
     ]
    },
    {
     "name": "stdout",
     "output_type": "stream",
     "text": [
      "Epoch: 729, loss: 35.14412121954765, f1: 0.03538925899834932, precision: 0.018017152505606867, recall: 0.9884778197485072\n",
      "val_loss: 35.14414250085113, val_f1: 0.039994402774875, val_precision: 0.020411494241412215, val_recall: 0.9852276162816844\n"
     ]
    },
    {
     "name": "stderr",
     "output_type": "stream",
     "text": [
      "100%|█████████████████████████████████████████| 655/655 [00:17<00:00, 36.79it/s]\n"
     ]
    },
    {
     "name": "stdout",
     "output_type": "stream",
     "text": [
      "Epoch: 730, loss: 35.14412120789972, f1: 0.03538925899834932, precision: 0.018017152505606867, recall: 0.9884778197485072\n",
      "val_loss: 35.14414243085669, val_f1: 0.039994402774875, val_precision: 0.020411494241412215, val_recall: 0.9852276162816844\n"
     ]
    },
    {
     "name": "stderr",
     "output_type": "stream",
     "text": [
      "100%|█████████████████████████████████████████| 655/655 [00:17<00:00, 36.45it/s]\n"
     ]
    },
    {
     "name": "stdout",
     "output_type": "stream",
     "text": [
      "Epoch: 731, loss: 35.14412116713196, f1: 0.03538925899834932, precision: 0.018017152505606867, recall: 0.9884778197485072\n",
      "val_loss: 35.144142378360854, val_f1: 0.039994402774875, val_precision: 0.020411494241412215, val_recall: 0.9852276162816844\n"
     ]
    },
    {
     "name": "stderr",
     "output_type": "stream",
     "text": [
      "100%|█████████████████████████████████████████| 655/655 [00:17<00:00, 36.64it/s]\n"
     ]
    },
    {
     "name": "stdout",
     "output_type": "stream",
     "text": [
      "Epoch: 732, loss: 35.1441211438361, f1: 0.03538925899834932, precision: 0.018017152505606867, recall: 0.9884778197485072\n",
      "val_loss: 35.14414234336363, val_f1: 0.039994402774875, val_precision: 0.020411494241412215, val_recall: 0.9852276162816844\n"
     ]
    },
    {
     "name": "stderr",
     "output_type": "stream",
     "text": [
      "100%|█████████████████████████████████████████| 655/655 [00:17<00:00, 36.43it/s]\n"
     ]
    },
    {
     "name": "stdout",
     "output_type": "stream",
     "text": [
      "Epoch: 733, loss: 35.14412110889231, f1: 0.03538925899834932, precision: 0.018017152505606867, recall: 0.9884778197485072\n",
      "val_loss: 35.14414232586502, val_f1: 0.039994402774875, val_precision: 0.020411494241412215, val_recall: 0.9852276162816844\n"
     ]
    },
    {
     "name": "stderr",
     "output_type": "stream",
     "text": [
      "100%|█████████████████████████████████████████| 655/655 [00:17<00:00, 36.54it/s]\n"
     ]
    },
    {
     "name": "stdout",
     "output_type": "stream",
     "text": [
      "Epoch: 734, loss: 35.14412105647662, f1: 0.03538925899834932, precision: 0.018017152505606867, recall: 0.9884778197485072\n",
      "val_loss: 35.144142273369184, val_f1: 0.039994402774875, val_precision: 0.020411494241412215, val_recall: 0.9852276162816844\n"
     ]
    },
    {
     "name": "stderr",
     "output_type": "stream",
     "text": [
      "100%|█████████████████████████████████████████| 655/655 [00:17<00:00, 36.45it/s]\n"
     ]
    },
    {
     "name": "stdout",
     "output_type": "stream",
     "text": [
      "Epoch: 735, loss: 35.14412102153283, f1: 0.03538925899834932, precision: 0.018017152505606867, recall: 0.9884778197485072\n",
      "val_loss: 35.14414225587058, val_f1: 0.039994402774875, val_precision: 0.020411494241412215, val_recall: 0.9852276162816844\n"
     ]
    },
    {
     "name": "stderr",
     "output_type": "stream",
     "text": [
      "100%|█████████████████████████████████████████| 655/655 [00:17<00:00, 37.17it/s]\n"
     ]
    },
    {
     "name": "stdout",
     "output_type": "stream",
     "text": [
      "Epoch: 736, loss: 35.14412099823697, f1: 0.03538925899834932, precision: 0.018017152505606867, recall: 0.9884778197485072\n",
      "val_loss: 35.14414222087335, val_f1: 0.039994402774875, val_precision: 0.020411494241412215, val_recall: 0.9852276162816844\n"
     ]
    },
    {
     "name": "stderr",
     "output_type": "stream",
     "text": [
      "100%|█████████████████████████████████████████| 655/655 [00:17<00:00, 36.51it/s]\n"
     ]
    },
    {
     "name": "stdout",
     "output_type": "stream",
     "text": [
      "Epoch: 737, loss: 35.14412097494111, f1: 0.03538925899834932, precision: 0.018017152505606867, recall: 0.9884778197485072\n",
      "val_loss: 35.14414218587613, val_f1: 0.039994402774875, val_precision: 0.020411494241412215, val_recall: 0.9852276162816844\n"
     ]
    },
    {
     "name": "stderr",
     "output_type": "stream",
     "text": [
      "100%|█████████████████████████████████████████| 655/655 [00:17<00:00, 36.49it/s]\n"
     ]
    },
    {
     "name": "stdout",
     "output_type": "stream",
     "text": [
      "Epoch: 738, loss: 35.14412095164525, f1: 0.03538925899834932, precision: 0.018017152505606867, recall: 0.9884778197485072\n",
      "val_loss: 35.14414213338029, val_f1: 0.039994402774875, val_precision: 0.020411494241412215, val_recall: 0.9852276162816844\n"
     ]
    },
    {
     "name": "stderr",
     "output_type": "stream",
     "text": [
      "100%|█████████████████████████████████████████| 655/655 [00:17<00:00, 36.51it/s]\n"
     ]
    },
    {
     "name": "stdout",
     "output_type": "stream",
     "text": [
      "Epoch: 739, loss: 35.14412093417335, f1: 0.03538925899834932, precision: 0.018017152505606867, recall: 0.9884778197485072\n",
      "val_loss: 35.144142080884464, val_f1: 0.039994402774875, val_precision: 0.020411494241412215, val_recall: 0.9852276162816844\n"
     ]
    },
    {
     "name": "stderr",
     "output_type": "stream",
     "text": [
      "100%|█████████████████████████████████████████| 655/655 [00:17<00:00, 36.49it/s]\n"
     ]
    },
    {
     "name": "stdout",
     "output_type": "stream",
     "text": [
      "Epoch: 740, loss: 35.144120905053526, f1: 0.03538925899834932, precision: 0.018017152505606867, recall: 0.9884778197485072\n",
      "val_loss: 35.144142010890015, val_f1: 0.039994402774875, val_precision: 0.020411494241412215, val_recall: 0.9852276162816844\n"
     ]
    },
    {
     "name": "stderr",
     "output_type": "stream",
     "text": [
      "100%|█████████████████████████████████████████| 655/655 [00:17<00:00, 36.46it/s]\n"
     ]
    },
    {
     "name": "stdout",
     "output_type": "stream",
     "text": [
      "Epoch: 741, loss: 35.14412086428577, f1: 0.03538925899834932, precision: 0.018017152505606867, recall: 0.9884778197485072\n",
      "val_loss: 35.14414195839418, val_f1: 0.039994402774875, val_precision: 0.020411494241412215, val_recall: 0.9852276162816844\n"
     ]
    },
    {
     "name": "stderr",
     "output_type": "stream",
     "text": [
      "100%|█████████████████████████████████████████| 655/655 [00:17<00:00, 37.23it/s]\n"
     ]
    },
    {
     "name": "stdout",
     "output_type": "stream",
     "text": [
      "Epoch: 742, loss: 35.14412084681387, f1: 0.03538925899834932, precision: 0.018017152505606867, recall: 0.9884778197485072\n",
      "val_loss: 35.14414194089557, val_f1: 0.039994402774875, val_precision: 0.020411494241412215, val_recall: 0.9852276162816844\n"
     ]
    },
    {
     "name": "stderr",
     "output_type": "stream",
     "text": [
      "100%|█████████████████████████████████████████| 655/655 [00:17<00:00, 36.63it/s]\n"
     ]
    },
    {
     "name": "stdout",
     "output_type": "stream",
     "text": [
      "Epoch: 743, loss: 35.14412082934198, f1: 0.03538925899834932, precision: 0.018017152505606867, recall: 0.9884778197485072\n",
      "val_loss: 35.14414188839974, val_f1: 0.039994402774875, val_precision: 0.020411494241412215, val_recall: 0.9852276162816844\n"
     ]
    },
    {
     "name": "stderr",
     "output_type": "stream",
     "text": [
      "100%|█████████████████████████████████████████| 655/655 [00:17<00:00, 36.47it/s]\n"
     ]
    },
    {
     "name": "stdout",
     "output_type": "stream",
     "text": [
      "Epoch: 744, loss: 35.14412080604612, f1: 0.03538925899834932, precision: 0.018017152505606867, recall: 0.9884778197485072\n",
      "val_loss: 35.14414187090112, val_f1: 0.039994402774875, val_precision: 0.020411494241412215, val_recall: 0.9852276162816844\n"
     ]
    },
    {
     "name": "stderr",
     "output_type": "stream",
     "text": [
      "100%|█████████████████████████████████████████| 655/655 [00:17<00:00, 36.50it/s]\n"
     ]
    },
    {
     "name": "stdout",
     "output_type": "stream",
     "text": [
      "Epoch: 745, loss: 35.144120672094914, f1: 0.03538925899834932, precision: 0.018017152505606867, recall: 0.9884778197485072\n",
      "val_loss: 35.14414157342473, val_f1: 0.039994402774875, val_precision: 0.020411494241412215, val_recall: 0.9852276162816844\n"
     ]
    },
    {
     "name": "stderr",
     "output_type": "stream",
     "text": [
      "100%|█████████████████████████████████████████| 655/655 [00:17<00:00, 36.55it/s]\n"
     ]
    },
    {
     "name": "stdout",
     "output_type": "stream",
     "text": [
      "Epoch: 746, loss: 35.144120654623016, f1: 0.03538925899834932, precision: 0.018017152505606867, recall: 0.9884778197485072\n",
      "val_loss: 35.1441415209289, val_f1: 0.039994402774875, val_precision: 0.020411494241412215, val_recall: 0.9852276162816844\n"
     ]
    },
    {
     "name": "stderr",
     "output_type": "stream",
     "text": [
      "100%|█████████████████████████████████████████| 655/655 [00:17<00:00, 36.60it/s]\n"
     ]
    },
    {
     "name": "stdout",
     "output_type": "stream",
     "text": [
      "Epoch: 747, loss: 35.14412061385526, f1: 0.03538925899834932, precision: 0.018017152505606867, recall: 0.9884778197485072\n",
      "val_loss: 35.14414146843306, val_f1: 0.039994402774875, val_precision: 0.020411494241412215, val_recall: 0.9852276162816844\n"
     ]
    },
    {
     "name": "stderr",
     "output_type": "stream",
     "text": [
      "100%|█████████████████████████████████████████| 655/655 [00:17<00:00, 36.87it/s]\n"
     ]
    },
    {
     "name": "stdout",
     "output_type": "stream",
     "text": [
      "Epoch: 748, loss: 35.14412060220733, f1: 0.03538925899834932, precision: 0.018017152505606867, recall: 0.9884778197485072\n",
      "val_loss: 35.144141415937234, val_f1: 0.039994402774875, val_precision: 0.020411494241412215, val_recall: 0.9852276162816844\n"
     ]
    },
    {
     "name": "stderr",
     "output_type": "stream",
     "text": [
      "100%|█████████████████████████████████████████| 655/655 [00:17<00:00, 36.62it/s]\n"
     ]
    },
    {
     "name": "stdout",
     "output_type": "stream",
     "text": [
      "Epoch: 749, loss: 35.14412058473543, f1: 0.03538925899834932, precision: 0.018017152505606867, recall: 0.9884778197485072\n",
      "val_loss: 35.14414139843862, val_f1: 0.039994402774875, val_precision: 0.020411494241412215, val_recall: 0.9852276162816844\n"
     ]
    },
    {
     "name": "stderr",
     "output_type": "stream",
     "text": [
      "100%|█████████████████████████████████████████| 655/655 [00:17<00:00, 36.57it/s]\n"
     ]
    },
    {
     "name": "stdout",
     "output_type": "stream",
     "text": [
      "Epoch: 750, loss: 35.14412055561561, f1: 0.03538925899834932, precision: 0.018017152505606867, recall: 0.9884778197485072\n",
      "val_loss: 35.1441413634414, val_f1: 0.039994402774875, val_precision: 0.020411494241412215, val_recall: 0.9852276162816844\n"
     ]
    },
    {
     "name": "stderr",
     "output_type": "stream",
     "text": [
      "100%|█████████████████████████████████████████| 655/655 [00:17<00:00, 36.39it/s]\n"
     ]
    },
    {
     "name": "stdout",
     "output_type": "stream",
     "text": [
      "Epoch: 751, loss: 35.14412053231975, f1: 0.03538925899834932, precision: 0.018017152505606867, recall: 0.9884778197485072\n",
      "val_loss: 35.14414132844418, val_f1: 0.039994402774875, val_precision: 0.020411494241412215, val_recall: 0.9852276162816844\n"
     ]
    },
    {
     "name": "stderr",
     "output_type": "stream",
     "text": [
      "100%|█████████████████████████████████████████| 655/655 [00:17<00:00, 36.57it/s]\n"
     ]
    },
    {
     "name": "stdout",
     "output_type": "stream",
     "text": [
      "Epoch: 752, loss: 35.14412049737595, f1: 0.03538925899834932, precision: 0.018017152505606867, recall: 0.9884778197485072\n",
      "val_loss: 35.144141310945564, val_f1: 0.039994402774875, val_precision: 0.020411494241412215, val_recall: 0.9852276162816844\n"
     ]
    },
    {
     "name": "stderr",
     "output_type": "stream",
     "text": [
      "100%|█████████████████████████████████████████| 655/655 [00:17<00:00, 36.60it/s]\n"
     ]
    },
    {
     "name": "stdout",
     "output_type": "stream",
     "text": [
      "Epoch: 753, loss: 35.14412047990406, f1: 0.03538925899834932, precision: 0.018017152505606867, recall: 0.9884778197485072\n",
      "val_loss: 35.14414129344695, val_f1: 0.039994402774875, val_precision: 0.020411494241412215, val_recall: 0.9852276162816844\n"
     ]
    },
    {
     "name": "stderr",
     "output_type": "stream",
     "text": [
      "100%|█████████████████████████████████████████| 655/655 [00:17<00:00, 36.70it/s]\n"
     ]
    },
    {
     "name": "stdout",
     "output_type": "stream",
     "text": [
      "Epoch: 754, loss: 35.1441204566082, f1: 0.03538925899834932, precision: 0.018017152505606867, recall: 0.9884778197485072\n",
      "val_loss: 35.14414124095112, val_f1: 0.039994402774875, val_precision: 0.020411494241412215, val_recall: 0.9852276162816844\n"
     ]
    },
    {
     "name": "stderr",
     "output_type": "stream",
     "text": [
      "100%|█████████████████████████████████████████| 655/655 [00:17<00:00, 36.89it/s]\n"
     ]
    },
    {
     "name": "stdout",
     "output_type": "stream",
     "text": [
      "Epoch: 755, loss: 35.144120421664404, f1: 0.03538925899834932, precision: 0.018017152505606867, recall: 0.9884778197485072\n",
      "val_loss: 35.14414115345806, val_f1: 0.039994402774875, val_precision: 0.020411494241412215, val_recall: 0.9852276162816844\n"
     ]
    },
    {
     "name": "stderr",
     "output_type": "stream",
     "text": [
      "100%|█████████████████████████████████████████| 655/655 [00:17<00:00, 36.44it/s]\n"
     ]
    },
    {
     "name": "stdout",
     "output_type": "stream",
     "text": [
      "Epoch: 756, loss: 35.14412027606527, f1: 0.03538925899834932, precision: 0.018017152505606867, recall: 0.9884778197485072\n",
      "val_loss: 35.14414111846084, val_f1: 0.039994402774875, val_precision: 0.020411494241412215, val_recall: 0.9852276162816844\n"
     ]
    },
    {
     "name": "stderr",
     "output_type": "stream",
     "text": [
      "100%|█████████████████████████████████████████| 655/655 [00:17<00:00, 36.59it/s]\n"
     ]
    },
    {
     "name": "stdout",
     "output_type": "stream",
     "text": [
      "Epoch: 757, loss: 35.14412022947355, f1: 0.03538925899834932, precision: 0.018017152505606867, recall: 0.9884778197485072\n",
      "val_loss: 35.14414110096223, val_f1: 0.039994402774875, val_precision: 0.020411494241412215, val_recall: 0.9852276162816844\n"
     ]
    },
    {
     "name": "stderr",
     "output_type": "stream",
     "text": [
      "100%|█████████████████████████████████████████| 655/655 [00:17<00:00, 36.64it/s]\n"
     ]
    },
    {
     "name": "stdout",
     "output_type": "stream",
     "text": [
      "Epoch: 758, loss: 35.14412018870579, f1: 0.03538925899834932, precision: 0.018017152505606867, recall: 0.9884778197485072\n",
      "val_loss: 35.144141083463616, val_f1: 0.039994402774875, val_precision: 0.020411494241412215, val_recall: 0.9852276162816844\n"
     ]
    },
    {
     "name": "stderr",
     "output_type": "stream",
     "text": [
      "100%|█████████████████████████████████████████| 655/655 [00:17<00:00, 36.63it/s]\n"
     ]
    },
    {
     "name": "stdout",
     "output_type": "stream",
     "text": [
      "Epoch: 759, loss: 35.14412015958597, f1: 0.03538925899834932, precision: 0.018017152505606867, recall: 0.9884778197485072\n",
      "val_loss: 35.144141048466395, val_f1: 0.039994402774875, val_precision: 0.020411494241412215, val_recall: 0.9852276162816844\n"
     ]
    },
    {
     "name": "stderr",
     "output_type": "stream",
     "text": [
      "100%|█████████████████████████████████████████| 655/655 [00:17<00:00, 36.47it/s]\n"
     ]
    },
    {
     "name": "stdout",
     "output_type": "stream",
     "text": [
      "Epoch: 760, loss: 35.14412014793804, f1: 0.03538925899834932, precision: 0.018017152505606867, recall: 0.9884778197485072\n",
      "val_loss: 35.144141013469174, val_f1: 0.039994402774875, val_precision: 0.020411494241412215, val_recall: 0.9852276162816844\n"
     ]
    },
    {
     "name": "stderr",
     "output_type": "stream",
     "text": [
      "100%|█████████████████████████████████████████| 655/655 [00:17<00:00, 37.10it/s]\n"
     ]
    },
    {
     "name": "stdout",
     "output_type": "stream",
     "text": [
      "Epoch: 761, loss: 35.144120112994244, f1: 0.03538925899834932, precision: 0.018017152505606867, recall: 0.9884778197485072\n",
      "val_loss: 35.144140978471945, val_f1: 0.039994402774875, val_precision: 0.020411494241412215, val_recall: 0.9852276162816844\n"
     ]
    },
    {
     "name": "stderr",
     "output_type": "stream",
     "text": [
      "100%|█████████████████████████████████████████| 655/655 [00:17<00:00, 36.61it/s]\n"
     ]
    },
    {
     "name": "stdout",
     "output_type": "stream",
     "text": [
      "Epoch: 762, loss: 35.14412010134632, f1: 0.03538925899834932, precision: 0.018017152505606867, recall: 0.9884778197485072\n",
      "val_loss: 35.144140943474724, val_f1: 0.039994402774875, val_precision: 0.020411494241412215, val_recall: 0.9852276162816844\n"
     ]
    },
    {
     "name": "stderr",
     "output_type": "stream",
     "text": [
      "100%|█████████████████████████████████████████| 655/655 [00:17<00:00, 36.52it/s]\n"
     ]
    },
    {
     "name": "stdout",
     "output_type": "stream",
     "text": [
      "Epoch: 763, loss: 35.14412008387442, f1: 0.03538925899834932, precision: 0.018017152505606867, recall: 0.9884778197485072\n",
      "val_loss: 35.14414092597612, val_f1: 0.039994402774875, val_precision: 0.020411494241412215, val_recall: 0.9852276162816844\n"
     ]
    },
    {
     "name": "stderr",
     "output_type": "stream",
     "text": [
      "100%|█████████████████████████████████████████| 655/655 [00:17<00:00, 36.62it/s]\n"
     ]
    },
    {
     "name": "stdout",
     "output_type": "stream",
     "text": [
      "Epoch: 764, loss: 35.144120048930624, f1: 0.03538925899834932, precision: 0.018017152505606867, recall: 0.9884778197485072\n",
      "val_loss: 35.14414087348028, val_f1: 0.039994402774875, val_precision: 0.020411494241412215, val_recall: 0.9852276162816844\n"
     ]
    },
    {
     "name": "stderr",
     "output_type": "stream",
     "text": [
      "100%|█████████████████████████████████████████| 655/655 [00:17<00:00, 36.62it/s]\n"
     ]
    },
    {
     "name": "stdout",
     "output_type": "stream",
     "text": [
      "Epoch: 765, loss: 35.1441200198108, f1: 0.03538925899834932, precision: 0.018017152505606867, recall: 0.9884778197485072\n",
      "val_loss: 35.14414082098445, val_f1: 0.039994402774875, val_precision: 0.020411494241412215, val_recall: 0.9852276162816844\n"
     ]
    },
    {
     "name": "stderr",
     "output_type": "stream",
     "text": [
      "100%|█████████████████████████████████████████| 655/655 [00:17<00:00, 36.63it/s]\n"
     ]
    },
    {
     "name": "stdout",
     "output_type": "stream",
     "text": [
      "Epoch: 766, loss: 35.1441200023389, f1: 0.03538925899834932, precision: 0.018017152505606867, recall: 0.9884778197485072\n",
      "val_loss: 35.144140785987226, val_f1: 0.039994402774875, val_precision: 0.020411494241412215, val_recall: 0.9852276162816844\n"
     ]
    },
    {
     "name": "stderr",
     "output_type": "stream",
     "text": [
      "100%|█████████████████████████████████████████| 655/655 [00:17<00:00, 37.03it/s]\n"
     ]
    },
    {
     "name": "stdout",
     "output_type": "stream",
     "text": [
      "Epoch: 767, loss: 35.144119990690974, f1: 0.03538925899834932, precision: 0.018017152505606867, recall: 0.9884778197485072\n",
      "val_loss: 35.14414076848861, val_f1: 0.039994402774875, val_precision: 0.020411494241412215, val_recall: 0.9852276162816844\n"
     ]
    },
    {
     "name": "stderr",
     "output_type": "stream",
     "text": [
      "100%|█████████████████████████████████████████| 655/655 [00:17<00:00, 36.49it/s]\n"
     ]
    },
    {
     "name": "stdout",
     "output_type": "stream",
     "text": [
      "Epoch: 768, loss: 35.144119949923216, f1: 0.03538925899834932, precision: 0.018017152505606867, recall: 0.9884778197485072\n",
      "val_loss: 35.144140750990005, val_f1: 0.039994402774875, val_precision: 0.020411494241412215, val_recall: 0.9852276162816844\n"
     ]
    },
    {
     "name": "stderr",
     "output_type": "stream",
     "text": [
      "100%|█████████████████████████████████████████| 655/655 [00:17<00:00, 36.62it/s]\n"
     ]
    },
    {
     "name": "stdout",
     "output_type": "stream",
     "text": [
      "Epoch: 769, loss: 35.14411995574718, f1: 0.03538925899834932, precision: 0.018017152505606867, recall: 0.9884778197485072\n",
      "val_loss: 35.144140715992776, val_f1: 0.039994402774875, val_precision: 0.020411494241412215, val_recall: 0.9852276162816844\n"
     ]
    },
    {
     "name": "stderr",
     "output_type": "stream",
     "text": [
      "100%|█████████████████████████████████████████| 655/655 [00:17<00:00, 36.52it/s]\n"
     ]
    },
    {
     "name": "stdout",
     "output_type": "stream",
     "text": [
      "Epoch: 770, loss: 35.144119949923216, f1: 0.03538925899834932, precision: 0.018017152505606867, recall: 0.9884778197485072\n",
      "val_loss: 35.14414069849417, val_f1: 0.039994402774875, val_precision: 0.020411494241412215, val_recall: 0.9852276162816844\n"
     ]
    },
    {
     "name": "stderr",
     "output_type": "stream",
     "text": [
      "100%|█████████████████████████████████████████| 655/655 [00:17<00:00, 36.56it/s]\n"
     ]
    },
    {
     "name": "stdout",
     "output_type": "stream",
     "text": [
      "Epoch: 771, loss: 35.14411992080339, f1: 0.03538925899834932, precision: 0.018017152505606867, recall: 0.9884778197485072\n",
      "val_loss: 35.144140645998334, val_f1: 0.039994402774875, val_precision: 0.020411494241412215, val_recall: 0.9852276162816844\n"
     ]
    },
    {
     "name": "stderr",
     "output_type": "stream",
     "text": [
      "100%|█████████████████████████████████████████| 655/655 [00:17<00:00, 36.57it/s]\n"
     ]
    },
    {
     "name": "stdout",
     "output_type": "stream",
     "text": [
      "Epoch: 772, loss: 35.14411988003563, f1: 0.03538925899834932, precision: 0.018017152505606867, recall: 0.9884778197485072\n",
      "val_loss: 35.1441405935025, val_f1: 0.039994402774875, val_precision: 0.020411494241412215, val_recall: 0.9852276162816844\n"
     ]
    },
    {
     "name": "stderr",
     "output_type": "stream",
     "text": [
      "100%|█████████████████████████████████████████| 655/655 [00:17<00:00, 37.04it/s]\n"
     ]
    },
    {
     "name": "stdout",
     "output_type": "stream",
     "text": [
      "Epoch: 773, loss: 35.144119862563734, f1: 0.03538925899834932, precision: 0.018017152505606867, recall: 0.9884778197485072\n",
      "val_loss: 35.14414057600389, val_f1: 0.039994402774875, val_precision: 0.020411494241412215, val_recall: 0.9852276162816844\n"
     ]
    },
    {
     "name": "stderr",
     "output_type": "stream",
     "text": [
      "100%|█████████████████████████████████████████| 655/655 [00:17<00:00, 36.65it/s]\n"
     ]
    },
    {
     "name": "stdout",
     "output_type": "stream",
     "text": [
      "Epoch: 774, loss: 35.14411985091581, f1: 0.03538925899834932, precision: 0.018017152505606867, recall: 0.9884778197485072\n",
      "val_loss: 35.14414055850528, val_f1: 0.039994402774875, val_precision: 0.020411494241412215, val_recall: 0.9852276162816844\n"
     ]
    },
    {
     "name": "stderr",
     "output_type": "stream",
     "text": [
      "100%|█████████████████████████████████████████| 655/655 [00:17<00:00, 36.51it/s]\n"
     ]
    },
    {
     "name": "stdout",
     "output_type": "stream",
     "text": [
      "Epoch: 775, loss: 35.144119827619946, f1: 0.03538925899834932, precision: 0.018017152505606867, recall: 0.9884778197485072\n",
      "val_loss: 35.144140541006664, val_f1: 0.039994402774875, val_precision: 0.020411494241412215, val_recall: 0.9852276162816844\n"
     ]
    },
    {
     "name": "stderr",
     "output_type": "stream",
     "text": [
      "100%|█████████████████████████████████████████| 655/655 [00:17<00:00, 36.76it/s]\n"
     ]
    },
    {
     "name": "stdout",
     "output_type": "stream",
     "text": [
      "Epoch: 776, loss: 35.144119804324085, f1: 0.03538925899834932, precision: 0.018017152505606867, recall: 0.9884778197485072\n",
      "val_loss: 35.14414048851083, val_f1: 0.039994402774875, val_precision: 0.020411494241412215, val_recall: 0.9852276162816844\n"
     ]
    },
    {
     "name": "stderr",
     "output_type": "stream",
     "text": [
      "100%|█████████████████████████████████████████| 655/655 [00:17<00:00, 36.48it/s]\n"
     ]
    },
    {
     "name": "stdout",
     "output_type": "stream",
     "text": [
      "Epoch: 777, loss: 35.14411979267616, f1: 0.03538925899834932, precision: 0.018017152505606867, recall: 0.9884778197485072\n",
      "val_loss: 35.14414047101222, val_f1: 0.039994402774875, val_precision: 0.020411494241412215, val_recall: 0.9852276162816844\n"
     ]
    },
    {
     "name": "stderr",
     "output_type": "stream",
     "text": [
      "100%|█████████████████████████████████████████| 655/655 [00:17<00:00, 36.46it/s]\n"
     ]
    },
    {
     "name": "stdout",
     "output_type": "stream",
     "text": [
      "Epoch: 778, loss: 35.14411975773236, f1: 0.03538925899834932, precision: 0.018017152505606867, recall: 0.9884778197485072\n",
      "val_loss: 35.144140418516386, val_f1: 0.039994402774875, val_precision: 0.020411494241412215, val_recall: 0.9852276162816844\n"
     ]
    },
    {
     "name": "stderr",
     "output_type": "stream",
     "text": [
      "100%|█████████████████████████████████████████| 655/655 [00:17<00:00, 36.75it/s]\n"
     ]
    },
    {
     "name": "stdout",
     "output_type": "stream",
     "text": [
      "Epoch: 779, loss: 35.1441197344365, f1: 0.03538925899834932, precision: 0.018017152505606867, recall: 0.9884778197485072\n",
      "val_loss: 35.144140383519165, val_f1: 0.039994402774875, val_precision: 0.020411494241412215, val_recall: 0.9852276162816844\n"
     ]
    },
    {
     "name": "stderr",
     "output_type": "stream",
     "text": [
      "100%|█████████████████████████████████████████| 655/655 [00:17<00:00, 36.79it/s]\n"
     ]
    },
    {
     "name": "stdout",
     "output_type": "stream",
     "text": [
      "Epoch: 780, loss: 35.1441197169646, f1: 0.03538925899834932, precision: 0.018017152505606867, recall: 0.9884778197485072\n",
      "val_loss: 35.14414033102333, val_f1: 0.039994402774875, val_precision: 0.020411494241412215, val_recall: 0.9852276162816844\n"
     ]
    },
    {
     "name": "stderr",
     "output_type": "stream",
     "text": [
      "100%|█████████████████████████████████████████| 655/655 [00:17<00:00, 36.55it/s]\n"
     ]
    },
    {
     "name": "stdout",
     "output_type": "stream",
     "text": [
      "Epoch: 781, loss: 35.14411968784478, f1: 0.03538925899834932, precision: 0.018017152505606867, recall: 0.9884778197485072\n",
      "val_loss: 35.14414029602611, val_f1: 0.039994402774875, val_precision: 0.020411494241412215, val_recall: 0.9852276162816844\n"
     ]
    },
    {
     "name": "stderr",
     "output_type": "stream",
     "text": [
      "100%|█████████████████████████████████████████| 655/655 [00:17<00:00, 36.49it/s]\n"
     ]
    },
    {
     "name": "stdout",
     "output_type": "stream",
     "text": [
      "Epoch: 782, loss: 35.14411967037288, f1: 0.03538925899834932, precision: 0.018017152505606867, recall: 0.9884778197485072\n",
      "val_loss: 35.144140278527495, val_f1: 0.039994402774875, val_precision: 0.020411494241412215, val_recall: 0.9852276162816844\n"
     ]
    },
    {
     "name": "stderr",
     "output_type": "stream",
     "text": [
      "100%|█████████████████████████████████████████| 655/655 [00:17<00:00, 36.49it/s]\n"
     ]
    },
    {
     "name": "stdout",
     "output_type": "stream",
     "text": [
      "Epoch: 783, loss: 35.14411962378116, f1: 0.03538925899834932, precision: 0.018017152505606867, recall: 0.9884778197485072\n",
      "val_loss: 35.14414024353027, val_f1: 0.039994402774875, val_precision: 0.020411494241412215, val_recall: 0.9852276162816844\n"
     ]
    },
    {
     "name": "stderr",
     "output_type": "stream",
     "text": [
      "100%|█████████████████████████████████████████| 655/655 [00:17<00:00, 36.45it/s]\n"
     ]
    },
    {
     "name": "stdout",
     "output_type": "stream",
     "text": [
      "Epoch: 784, loss: 35.14411960630927, f1: 0.03538925899834932, precision: 0.018017152505606867, recall: 0.9884778197485072\n",
      "val_loss: 35.14414022603166, val_f1: 0.039994402774875, val_precision: 0.020411494241412215, val_recall: 0.9852276162816844\n"
     ]
    },
    {
     "name": "stderr",
     "output_type": "stream",
     "text": [
      "100%|█████████████████████████████████████████| 655/655 [00:17<00:00, 36.58it/s]\n"
     ]
    },
    {
     "name": "stdout",
     "output_type": "stream",
     "text": [
      "Epoch: 785, loss: 35.1441196004853, f1: 0.03538925899834932, precision: 0.018017152505606867, recall: 0.9884778197485072\n",
      "val_loss: 35.14414017353583, val_f1: 0.039994402774875, val_precision: 0.020411494241412215, val_recall: 0.9852276162816844\n"
     ]
    },
    {
     "name": "stderr",
     "output_type": "stream",
     "text": [
      "100%|█████████████████████████████████████████| 655/655 [00:17<00:00, 37.17it/s]\n"
     ]
    },
    {
     "name": "stdout",
     "output_type": "stream",
     "text": [
      "Epoch: 786, loss: 35.14411956554151, f1: 0.03538925899834932, precision: 0.018017152505606867, recall: 0.9884778197485072\n",
      "val_loss: 35.144140121039996, val_f1: 0.039994402774875, val_precision: 0.020411494241412215, val_recall: 0.9852276162816844\n"
     ]
    },
    {
     "name": "stderr",
     "output_type": "stream",
     "text": [
      "100%|█████████████████████████████████████████| 655/655 [00:17<00:00, 36.53it/s]\n"
     ]
    },
    {
     "name": "stdout",
     "output_type": "stream",
     "text": [
      "Epoch: 787, loss: 35.14411954806961, f1: 0.03538925899834932, precision: 0.018017152505606867, recall: 0.9884778197485072\n",
      "val_loss: 35.14414010354138, val_f1: 0.039994402774875, val_precision: 0.020411494241412215, val_recall: 0.9852276162816844\n"
     ]
    },
    {
     "name": "stderr",
     "output_type": "stream",
     "text": [
      "100%|█████████████████████████████████████████| 655/655 [00:17<00:00, 36.54it/s]\n"
     ]
    },
    {
     "name": "stdout",
     "output_type": "stream",
     "text": [
      "Epoch: 788, loss: 35.144119518949786, f1: 0.03538925899834932, precision: 0.018017152505606867, recall: 0.9884778197485072\n",
      "val_loss: 35.144140086042775, val_f1: 0.039994402774875, val_precision: 0.020411494241412215, val_recall: 0.9852276162816844\n"
     ]
    },
    {
     "name": "stderr",
     "output_type": "stream",
     "text": [
      "100%|█████████████████████████████████████████| 655/655 [00:17<00:00, 36.50it/s]\n"
     ]
    },
    {
     "name": "stdout",
     "output_type": "stream",
     "text": [
      "Epoch: 789, loss: 35.14411948982996, f1: 0.03538925899834932, precision: 0.018017152505606867, recall: 0.9884778197485072\n",
      "val_loss: 35.14414005104555, val_f1: 0.039994402774875, val_precision: 0.020411494241412215, val_recall: 0.9852276162816844\n"
     ]
    },
    {
     "name": "stderr",
     "output_type": "stream",
     "text": [
      "100%|█████████████████████████████████████████| 655/655 [00:17<00:00, 36.52it/s]\n"
     ]
    },
    {
     "name": "stdout",
     "output_type": "stream",
     "text": [
      "Epoch: 790, loss: 35.144119472358064, f1: 0.03538925899834932, precision: 0.018017152505606867, recall: 0.9884778197485072\n",
      "val_loss: 35.14413999854972, val_f1: 0.039994402774875, val_precision: 0.020411494241412215, val_recall: 0.9852276162816844\n"
     ]
    },
    {
     "name": "stderr",
     "output_type": "stream",
     "text": [
      "100%|█████████████████████████████████████████| 655/655 [00:17<00:00, 36.43it/s]\n"
     ]
    },
    {
     "name": "stdout",
     "output_type": "stream",
     "text": [
      "Epoch: 791, loss: 35.1441194490622, f1: 0.03538925899834932, precision: 0.018017152505606867, recall: 0.9884778197485072\n",
      "val_loss: 35.144139981051104, val_f1: 0.039994402774875, val_precision: 0.020411494241412215, val_recall: 0.9852276162816844\n"
     ]
    },
    {
     "name": "stderr",
     "output_type": "stream",
     "text": [
      "100%|█████████████████████████████████████████| 655/655 [00:17<00:00, 37.13it/s]\n"
     ]
    },
    {
     "name": "stdout",
     "output_type": "stream",
     "text": [
      "Epoch: 792, loss: 35.14411942576634, f1: 0.03538925899834932, precision: 0.018017152505606867, recall: 0.9884778197485072\n",
      "val_loss: 35.14413994605388, val_f1: 0.039994402774875, val_precision: 0.020411494241412215, val_recall: 0.9852276162816844\n"
     ]
    },
    {
     "name": "stderr",
     "output_type": "stream",
     "text": [
      "100%|█████████████████████████████████████████| 655/655 [00:17<00:00, 36.81it/s]\n"
     ]
    },
    {
     "name": "stdout",
     "output_type": "stream",
     "text": [
      "Epoch: 793, loss: 35.144119396646516, f1: 0.03538925899834932, precision: 0.018017152505606867, recall: 0.9884778197485072\n",
      "val_loss: 35.14413992855527, val_f1: 0.039994402774875, val_precision: 0.020411494241412215, val_recall: 0.9852276162816844\n"
     ]
    },
    {
     "name": "stderr",
     "output_type": "stream",
     "text": [
      "100%|█████████████████████████████████████████| 655/655 [00:17<00:00, 36.46it/s]\n"
     ]
    },
    {
     "name": "stdout",
     "output_type": "stream",
     "text": [
      "Epoch: 794, loss: 35.144119367526685, f1: 0.03538925899834932, precision: 0.018017152505606867, recall: 0.9884778197485072\n",
      "val_loss: 35.14413989355805, val_f1: 0.039994402774875, val_precision: 0.020411494241412215, val_recall: 0.9852276162816844\n"
     ]
    },
    {
     "name": "stderr",
     "output_type": "stream",
     "text": [
      "100%|█████████████████████████████████████████| 655/655 [00:17<00:00, 36.49it/s]\n"
     ]
    },
    {
     "name": "stdout",
     "output_type": "stream",
     "text": [
      "Epoch: 795, loss: 35.14411936170272, f1: 0.03538925899834932, precision: 0.018017152505606867, recall: 0.9884778197485072\n",
      "val_loss: 35.14413985856083, val_f1: 0.039994402774875, val_precision: 0.020411494241412215, val_recall: 0.9852276162816844\n"
     ]
    },
    {
     "name": "stderr",
     "output_type": "stream",
     "text": [
      "100%|█████████████████████████████████████████| 655/655 [00:17<00:00, 36.59it/s]\n"
     ]
    },
    {
     "name": "stdout",
     "output_type": "stream",
     "text": [
      "Epoch: 796, loss: 35.144119350054794, f1: 0.03538925899834932, precision: 0.018017152505606867, recall: 0.9884778197485072\n",
      "val_loss: 35.14413978856638, val_f1: 0.039994402774875, val_precision: 0.020411494241412215, val_recall: 0.9852276162816844\n"
     ]
    },
    {
     "name": "stderr",
     "output_type": "stream",
     "text": [
      "100%|█████████████████████████████████████████| 655/655 [00:17<00:00, 36.50it/s]\n"
     ]
    },
    {
     "name": "stdout",
     "output_type": "stream",
     "text": [
      "Epoch: 797, loss: 35.14411932093496, f1: 0.03538925899834932, precision: 0.018017152505606867, recall: 0.9884778197485072\n",
      "val_loss: 35.14413977106777, val_f1: 0.039994402774875, val_precision: 0.020411494241412215, val_recall: 0.9852276162816844\n"
     ]
    },
    {
     "name": "stderr",
     "output_type": "stream",
     "text": [
      "100%|█████████████████████████████████████████| 655/655 [00:17<00:00, 36.89it/s]\n"
     ]
    },
    {
     "name": "stdout",
     "output_type": "stream",
     "text": [
      "Epoch: 798, loss: 35.14411929181514, f1: 0.03538925899834932, precision: 0.018017152505606867, recall: 0.9884778197485072\n",
      "val_loss: 35.14413973607054, val_f1: 0.039994402774875, val_precision: 0.020411494241412215, val_recall: 0.9852276162816844\n"
     ]
    },
    {
     "name": "stderr",
     "output_type": "stream",
     "text": [
      "100%|█████████████████████████████████████████| 655/655 [00:17<00:00, 36.62it/s]\n"
     ]
    },
    {
     "name": "stdout",
     "output_type": "stream",
     "text": [
      "Epoch: 799, loss: 35.1441191811598, f1: 0.03538925899834932, precision: 0.018017152505606867, recall: 0.9884778197485072\n",
      "val_loss: 35.14413970107332, val_f1: 0.039994402774875, val_precision: 0.020411494241412215, val_recall: 0.9852276162816844\n"
     ]
    },
    {
     "name": "stderr",
     "output_type": "stream",
     "text": [
      "100%|█████████████████████████████████████████| 655/655 [00:17<00:00, 36.58it/s]\n"
     ]
    },
    {
     "name": "stdout",
     "output_type": "stream",
     "text": [
      "Epoch: 800, loss: 35.14411915203997, f1: 0.03538925899834932, precision: 0.018017152505606867, recall: 0.9884778197485072\n",
      "val_loss: 35.144139683574714, val_f1: 0.039994402774875, val_precision: 0.020411494241412215, val_recall: 0.9852276162816844\n"
     ]
    },
    {
     "name": "stderr",
     "output_type": "stream",
     "text": [
      "100%|█████████████████████████████████████████| 655/655 [00:17<00:00, 36.47it/s]\n"
     ]
    },
    {
     "name": "stdout",
     "output_type": "stream",
     "text": [
      "Epoch: 801, loss: 35.14411912874411, f1: 0.03538925899834932, precision: 0.018017152505606867, recall: 0.9884778197485072\n",
      "val_loss: 35.144139613580265, val_f1: 0.039994402774875, val_precision: 0.020411494241412215, val_recall: 0.9852276162816844\n"
     ]
    },
    {
     "name": "stderr",
     "output_type": "stream",
     "text": [
      "100%|█████████████████████████████████████████| 655/655 [00:17<00:00, 36.52it/s]\n"
     ]
    },
    {
     "name": "stdout",
     "output_type": "stream",
     "text": [
      "Epoch: 802, loss: 35.14411911127222, f1: 0.03538925899834932, precision: 0.018017152505606867, recall: 0.9884778197485072\n",
      "val_loss: 35.144139578583044, val_f1: 0.039994402774875, val_precision: 0.020411494241412215, val_recall: 0.9852276162816844\n"
     ]
    },
    {
     "name": "stderr",
     "output_type": "stream",
     "text": [
      "100%|█████████████████████████████████████████| 655/655 [00:17<00:00, 36.58it/s]\n"
     ]
    },
    {
     "name": "stdout",
     "output_type": "stream",
     "text": [
      "Epoch: 803, loss: 35.144119099624284, f1: 0.03538925899834932, precision: 0.018017152505606867, recall: 0.9884778197485072\n",
      "val_loss: 35.14413956108443, val_f1: 0.039994402774875, val_precision: 0.020411494241412215, val_recall: 0.9852276162816844\n"
     ]
    },
    {
     "name": "stderr",
     "output_type": "stream",
     "text": [
      "100%|█████████████████████████████████████████| 655/655 [00:17<00:00, 36.72it/s]\n"
     ]
    },
    {
     "name": "stdout",
     "output_type": "stream",
     "text": [
      "Epoch: 804, loss: 35.14411907632842, f1: 0.03538925899834932, precision: 0.018017152505606867, recall: 0.9884778197485072\n",
      "val_loss: 35.14413949108999, val_f1: 0.039994402774875, val_precision: 0.020411494241412215, val_recall: 0.9852276162816844\n"
     ]
    },
    {
     "name": "stderr",
     "output_type": "stream",
     "text": [
      "100%|█████████████████████████████████████████| 655/655 [00:17<00:00, 36.82it/s]\n"
     ]
    },
    {
     "name": "stdout",
     "output_type": "stream",
     "text": [
      "Epoch: 805, loss: 35.1441190472086, f1: 0.03538925899834932, precision: 0.018017152505606867, recall: 0.9884778197485072\n",
      "val_loss: 35.14413947359137, val_f1: 0.039994402774875, val_precision: 0.020411494241412215, val_recall: 0.9852276162816844\n"
     ]
    },
    {
     "name": "stderr",
     "output_type": "stream",
     "text": [
      "100%|█████████████████████████████████████████| 655/655 [00:17<00:00, 36.49it/s]\n"
     ]
    },
    {
     "name": "stdout",
     "output_type": "stream",
     "text": [
      "Epoch: 806, loss: 35.1441190122648, f1: 0.03538925899834932, precision: 0.018017152505606867, recall: 0.9884778197485072\n",
      "val_loss: 35.144139456092766, val_f1: 0.039994402774875, val_precision: 0.020411494241412215, val_recall: 0.9852276162816844\n"
     ]
    },
    {
     "name": "stderr",
     "output_type": "stream",
     "text": [
      "100%|█████████████████████████████████████████| 655/655 [00:17<00:00, 36.44it/s]\n"
     ]
    },
    {
     "name": "stdout",
     "output_type": "stream",
     "text": [
      "Epoch: 807, loss: 35.14411898314498, f1: 0.03538925899834932, precision: 0.018017152505606867, recall: 0.9884778197485072\n",
      "val_loss: 35.144139421095545, val_f1: 0.039994402774875, val_precision: 0.020411494241412215, val_recall: 0.9852276162816844\n"
     ]
    },
    {
     "name": "stderr",
     "output_type": "stream",
     "text": [
      "100%|█████████████████████████████████████████| 655/655 [00:17<00:00, 36.59it/s]\n"
     ]
    },
    {
     "name": "stdout",
     "output_type": "stream",
     "text": [
      "Epoch: 808, loss: 35.14411895402515, f1: 0.03538925899834932, precision: 0.018017152505606867, recall: 0.9884778197485072\n",
      "val_loss: 35.14413938609832, val_f1: 0.039994402774875, val_precision: 0.020411494241412215, val_recall: 0.9852276162816844\n"
     ]
    },
    {
     "name": "stderr",
     "output_type": "stream",
     "text": [
      "100%|█████████████████████████████████████████| 655/655 [00:17<00:00, 36.52it/s]\n"
     ]
    },
    {
     "name": "stdout",
     "output_type": "stream",
     "text": [
      "Epoch: 809, loss: 35.144118936553255, f1: 0.03538925899834932, precision: 0.018017152505606867, recall: 0.9884778197485072\n",
      "val_loss: 35.14413936859971, val_f1: 0.039994402774875, val_precision: 0.020411494241412215, val_recall: 0.9852276162816844\n"
     ]
    },
    {
     "name": "stderr",
     "output_type": "stream",
     "text": [
      "100%|█████████████████████████████████████████| 655/655 [00:17<00:00, 36.51it/s]\n"
     ]
    },
    {
     "name": "stdout",
     "output_type": "stream",
     "text": [
      "Epoch: 810, loss: 35.14411891908136, f1: 0.03538925899834932, precision: 0.018017152505606867, recall: 0.9884778197485072\n",
      "val_loss: 35.14413933360249, val_f1: 0.039994402774875, val_precision: 0.020411494241412215, val_recall: 0.9852276162816844\n"
     ]
    },
    {
     "name": "stderr",
     "output_type": "stream",
     "text": [
      "100%|█████████████████████████████████████████| 655/655 [00:17<00:00, 37.04it/s]\n"
     ]
    },
    {
     "name": "stdout",
     "output_type": "stream",
     "text": [
      "Epoch: 811, loss: 35.14411890160947, f1: 0.03538925899834932, precision: 0.018017152505606867, recall: 0.9884778197485072\n",
      "val_loss: 35.14413933360249, val_f1: 0.039994402774875, val_precision: 0.020411494241412215, val_recall: 0.9852276162816844\n"
     ]
    },
    {
     "name": "stderr",
     "output_type": "stream",
     "text": [
      "100%|█████████████████████████████████████████| 655/655 [00:17<00:00, 36.60it/s]\n"
     ]
    },
    {
     "name": "stdout",
     "output_type": "stream",
     "text": [
      "Epoch: 812, loss: 35.14411880842602, f1: 0.03538925899834932, precision: 0.018017152505606867, recall: 0.9884778197485072\n",
      "val_loss: 35.14413929860526, val_f1: 0.039994402774875, val_precision: 0.020411494241412215, val_recall: 0.9852276162816844\n"
     ]
    },
    {
     "name": "stderr",
     "output_type": "stream",
     "text": [
      "100%|█████████████████████████████████████████| 655/655 [00:17<00:00, 36.64it/s]\n"
     ]
    },
    {
     "name": "stdout",
     "output_type": "stream",
     "text": [
      "Epoch: 813, loss: 35.14411878513016, f1: 0.03538925899834932, precision: 0.018017152505606867, recall: 0.9884778197485072\n",
      "val_loss: 35.14413926360804, val_f1: 0.039994402774875, val_precision: 0.020411494241412215, val_recall: 0.9852276162816844\n"
     ]
    },
    {
     "name": "stderr",
     "output_type": "stream",
     "text": [
      "100%|█████████████████████████████████████████| 655/655 [00:17<00:00, 36.58it/s]\n"
     ]
    },
    {
     "name": "stdout",
     "output_type": "stream",
     "text": [
      "Epoch: 814, loss: 35.14411877348223, f1: 0.03538925899834932, precision: 0.018017152505606867, recall: 0.9884778197485072\n",
      "val_loss: 35.144139246109425, val_f1: 0.039994402774875, val_precision: 0.020411494241412215, val_recall: 0.9852276162816844\n"
     ]
    },
    {
     "name": "stderr",
     "output_type": "stream",
     "text": [
      "100%|█████████████████████████████████████████| 655/655 [00:17<00:00, 36.52it/s]\n"
     ]
    },
    {
     "name": "stdout",
     "output_type": "stream",
     "text": [
      "Epoch: 815, loss: 35.14411875601033, f1: 0.03538925899834932, precision: 0.018017152505606867, recall: 0.9884778197485072\n",
      "val_loss: 35.14413917611498, val_f1: 0.039994402774875, val_precision: 0.020411494241412215, val_recall: 0.9852276162816844\n"
     ]
    },
    {
     "name": "stderr",
     "output_type": "stream",
     "text": [
      "100%|█████████████████████████████████████████| 655/655 [00:17<00:00, 36.58it/s]\n"
     ]
    },
    {
     "name": "stdout",
     "output_type": "stream",
     "text": [
      "Epoch: 816, loss: 35.14411873853844, f1: 0.03538925899834932, precision: 0.018017152505606867, recall: 0.9884778197485072\n",
      "val_loss: 35.14413914111776, val_f1: 0.039994402774875, val_precision: 0.020411494241412215, val_recall: 0.9852276162816844\n"
     ]
    },
    {
     "name": "stderr",
     "output_type": "stream",
     "text": [
      "100%|█████████████████████████████████████████| 655/655 [00:17<00:00, 37.07it/s]\n"
     ]
    },
    {
     "name": "stdout",
     "output_type": "stream",
     "text": [
      "Epoch: 817, loss: 35.144118726890504, f1: 0.03538925899834932, precision: 0.018017152505606867, recall: 0.9884778197485072\n",
      "val_loss: 35.14413912361915, val_f1: 0.039994402774875, val_precision: 0.020411494241412215, val_recall: 0.9852276162816844\n"
     ]
    },
    {
     "name": "stderr",
     "output_type": "stream",
     "text": [
      "100%|█████████████████████████████████████████| 655/655 [00:17<00:00, 36.50it/s]\n"
     ]
    },
    {
     "name": "stdout",
     "output_type": "stream",
     "text": [
      "Epoch: 818, loss: 35.14411871524258, f1: 0.03538925899834932, precision: 0.018017152505606867, recall: 0.9884778197485072\n",
      "val_loss: 35.14413907112331, val_f1: 0.039994402774875, val_precision: 0.020411494241412215, val_recall: 0.9852276162816844\n"
     ]
    },
    {
     "name": "stderr",
     "output_type": "stream",
     "text": [
      "100%|█████████████████████████████████████████| 655/655 [00:17<00:00, 36.46it/s]\n"
     ]
    },
    {
     "name": "stdout",
     "output_type": "stream",
     "text": [
      "Epoch: 819, loss: 35.144118668650854, f1: 0.03538925899834932, precision: 0.018017152505606867, recall: 0.9884778197485072\n",
      "val_loss: 35.14413903612609, val_f1: 0.039994402774875, val_precision: 0.020411494241412215, val_recall: 0.9852276162816844\n"
     ]
    },
    {
     "name": "stderr",
     "output_type": "stream",
     "text": [
      "100%|█████████████████████████████████████████| 655/655 [00:17<00:00, 36.43it/s]\n"
     ]
    },
    {
     "name": "stdout",
     "output_type": "stream",
     "text": [
      "Epoch: 820, loss: 35.14411863953103, f1: 0.03538925899834932, precision: 0.018017152505606867, recall: 0.9884778197485072\n",
      "val_loss: 35.144139018627484, val_f1: 0.039994402774875, val_precision: 0.020411494241412215, val_recall: 0.9852276162816844\n"
     ]
    },
    {
     "name": "stderr",
     "output_type": "stream",
     "text": [
      "100%|█████████████████████████████████████████| 655/655 [00:17<00:00, 36.55it/s]\n"
     ]
    },
    {
     "name": "stdout",
     "output_type": "stream",
     "text": [
      "Epoch: 821, loss: 35.1441186104112, f1: 0.03538925899834932, precision: 0.018017152505606867, recall: 0.9884778197485072\n",
      "val_loss: 35.14413900112887, val_f1: 0.039994402774875, val_precision: 0.020411494241412215, val_recall: 0.9852276162816844\n"
     ]
    },
    {
     "name": "stderr",
     "output_type": "stream",
     "text": [
      "100%|█████████████████████████████████████████| 655/655 [00:17<00:00, 36.55it/s]\n"
     ]
    },
    {
     "name": "stdout",
     "output_type": "stream",
     "text": [
      "Epoch: 822, loss: 35.14411859876327, f1: 0.03538925899834932, precision: 0.018017152505606867, recall: 0.9884778197485072\n",
      "val_loss: 35.14413896613165, val_f1: 0.039994402774875, val_precision: 0.020411494241412215, val_recall: 0.9852276162816844\n"
     ]
    },
    {
     "name": "stderr",
     "output_type": "stream",
     "text": [
      "100%|█████████████████████████████████████████| 655/655 [00:17<00:00, 36.79it/s]\n"
     ]
    },
    {
     "name": "stdout",
     "output_type": "stream",
     "text": [
      "Epoch: 823, loss: 35.14411858129137, f1: 0.03538925899834932, precision: 0.018017152505606867, recall: 0.9884778197485072\n",
      "val_loss: 35.144138948633035, val_f1: 0.039994402774875, val_precision: 0.020411494241412215, val_recall: 0.9852276162816844\n"
     ]
    },
    {
     "name": "stderr",
     "output_type": "stream",
     "text": [
      "100%|█████████████████████████████████████████| 655/655 [00:17<00:00, 36.52it/s]\n"
     ]
    },
    {
     "name": "stdout",
     "output_type": "stream",
     "text": [
      "Epoch: 824, loss: 35.144118563819475, f1: 0.03538925899834932, precision: 0.018017152505606867, recall: 0.9884778197485072\n",
      "val_loss: 35.14413866865526, val_f1: 0.039994402774875, val_precision: 0.020411494241412215, val_recall: 0.9852276162816844\n"
     ]
    },
    {
     "name": "stderr",
     "output_type": "stream",
     "text": [
      "100%|█████████████████████████████████████████| 655/655 [00:17<00:00, 36.54it/s]\n"
     ]
    },
    {
     "name": "stdout",
     "output_type": "stream",
     "text": [
      "Epoch: 825, loss: 35.144118546347585, f1: 0.03538925899834932, precision: 0.018017152505606867, recall: 0.9884778197485072\n",
      "val_loss: 35.144138651156645, val_f1: 0.039994402774875, val_precision: 0.020411494241412215, val_recall: 0.9852276162816844\n"
     ]
    },
    {
     "name": "stderr",
     "output_type": "stream",
     "text": [
      "100%|█████████████████████████████████████████| 655/655 [00:17<00:00, 36.55it/s]\n"
     ]
    },
    {
     "name": "stdout",
     "output_type": "stream",
     "text": [
      "Epoch: 826, loss: 35.14411852887569, f1: 0.03538925899834932, precision: 0.018017152505606867, recall: 0.9884778197485072\n",
      "val_loss: 35.144138616159424, val_f1: 0.039994402774875, val_precision: 0.020411494241412215, val_recall: 0.9852276162816844\n"
     ]
    },
    {
     "name": "stderr",
     "output_type": "stream",
     "text": [
      "100%|█████████████████████████████████████████| 655/655 [00:17<00:00, 36.41it/s]\n"
     ]
    },
    {
     "name": "stdout",
     "output_type": "stream",
     "text": [
      "Epoch: 827, loss: 35.14411851722775, f1: 0.03538925899834932, precision: 0.018017152505606867, recall: 0.9884778197485072\n",
      "val_loss: 35.144138581162196, val_f1: 0.039994402774875, val_precision: 0.020411494241412215, val_recall: 0.9852276162816844\n"
     ]
    },
    {
     "name": "stderr",
     "output_type": "stream",
     "text": [
      "100%|█████████████████████████████████████████| 655/655 [00:17<00:00, 36.51it/s]\n"
     ]
    },
    {
     "name": "stdout",
     "output_type": "stream",
     "text": [
      "Epoch: 828, loss: 35.144118482283965, f1: 0.03538925899834932, precision: 0.018017152505606867, recall: 0.9884778197485072\n",
      "val_loss: 35.144138546164974, val_f1: 0.039994402774875, val_precision: 0.020411494241412215, val_recall: 0.9852276162816844\n"
     ]
    },
    {
     "name": "stderr",
     "output_type": "stream",
     "text": [
      "100%|█████████████████████████████████████████| 655/655 [00:17<00:00, 36.66it/s]\n"
     ]
    },
    {
     "name": "stdout",
     "output_type": "stream",
     "text": [
      "Epoch: 829, loss: 35.14411847646, f1: 0.03538925899834932, precision: 0.018017152505606867, recall: 0.9884778197485072\n",
      "val_loss: 35.14413851116775, val_f1: 0.039994402774875, val_precision: 0.020411494241412215, val_recall: 0.9852276162816844\n"
     ]
    },
    {
     "name": "stderr",
     "output_type": "stream",
     "text": [
      "100%|█████████████████████████████████████████| 655/655 [00:17<00:00, 36.67it/s]\n"
     ]
    },
    {
     "name": "stdout",
     "output_type": "stream",
     "text": [
      "Epoch: 830, loss: 35.14411846481207, f1: 0.03538925899834932, precision: 0.018017152505606867, recall: 0.9884778197485072\n",
      "val_loss: 35.14413844117331, val_f1: 0.039994402774875, val_precision: 0.020411494241412215, val_recall: 0.9852276162816844\n"
     ]
    },
    {
     "name": "stderr",
     "output_type": "stream",
     "text": [
      "100%|█████████████████████████████████████████| 655/655 [00:17<00:00, 36.49it/s]\n"
     ]
    },
    {
     "name": "stdout",
     "output_type": "stream",
     "text": [
      "Epoch: 831, loss: 35.14411846481207, f1: 0.03538925899834932, precision: 0.018017152505606867, recall: 0.9884778197485072\n",
      "val_loss: 35.1441384236747, val_f1: 0.039994402774875, val_precision: 0.020411494241412215, val_recall: 0.9852276162816844\n"
     ]
    },
    {
     "name": "stderr",
     "output_type": "stream",
     "text": [
      "100%|█████████████████████████████████████████| 655/655 [00:17<00:00, 36.47it/s]\n"
     ]
    },
    {
     "name": "stdout",
     "output_type": "stream",
     "text": [
      "Epoch: 832, loss: 35.14411847063603, f1: 0.03538925899834932, precision: 0.018017152505606867, recall: 0.9884778197485072\n",
      "val_loss: 35.14413840617608, val_f1: 0.039994402774875, val_precision: 0.020411494241412215, val_recall: 0.9852276162816844\n"
     ]
    },
    {
     "name": "stderr",
     "output_type": "stream",
     "text": [
      "100%|█████████████████████████████████████████| 655/655 [00:17<00:00, 36.58it/s]\n"
     ]
    },
    {
     "name": "stdout",
     "output_type": "stream",
     "text": [
      "Epoch: 833, loss: 35.144118441516206, f1: 0.03538925899834932, precision: 0.018017152505606867, recall: 0.9884778197485072\n",
      "val_loss: 35.14413837117886, val_f1: 0.039994402774875, val_precision: 0.020411494241412215, val_recall: 0.9852276162816844\n"
     ]
    },
    {
     "name": "stderr",
     "output_type": "stream",
     "text": [
      "100%|█████████████████████████████████████████| 655/655 [00:17<00:00, 36.52it/s]\n"
     ]
    },
    {
     "name": "stdout",
     "output_type": "stream",
     "text": [
      "Epoch: 834, loss: 35.14411843569224, f1: 0.03538925899834932, precision: 0.018017152505606867, recall: 0.9884778197485072\n",
      "val_loss: 35.144138353680255, val_f1: 0.039994402774875, val_precision: 0.020411494241412215, val_recall: 0.9852276162816844\n"
     ]
    },
    {
     "name": "stderr",
     "output_type": "stream",
     "text": [
      "100%|█████████████████████████████████████████| 655/655 [00:17<00:00, 36.43it/s]\n"
     ]
    },
    {
     "name": "stdout",
     "output_type": "stream",
     "text": [
      "Epoch: 835, loss: 35.14411842404431, f1: 0.03538925899834932, precision: 0.018017152505606867, recall: 0.9884778197485072\n",
      "val_loss: 35.14413833618164, val_f1: 0.039994402774875, val_precision: 0.020411494241412215, val_recall: 0.9852276162816844\n"
     ]
    },
    {
     "name": "stderr",
     "output_type": "stream",
     "text": [
      "100%|█████████████████████████████████████████| 655/655 [00:17<00:00, 37.10it/s]\n"
     ]
    },
    {
     "name": "stdout",
     "output_type": "stream",
     "text": [
      "Epoch: 836, loss: 35.14411840074845, f1: 0.03538925899834932, precision: 0.018017152505606867, recall: 0.9884778197485072\n",
      "val_loss: 35.14413830118442, val_f1: 0.039994402774875, val_precision: 0.020411494241412215, val_recall: 0.9852276162816844\n"
     ]
    },
    {
     "name": "stderr",
     "output_type": "stream",
     "text": [
      "100%|█████████████████████████████████████████| 655/655 [00:17<00:00, 36.66it/s]\n"
     ]
    },
    {
     "name": "stdout",
     "output_type": "stream",
     "text": [
      "Epoch: 837, loss: 35.14411837162862, f1: 0.03538925899834932, precision: 0.018017152505606867, recall: 0.9884778197485072\n",
      "val_loss: 35.144138283685805, val_f1: 0.039994402774875, val_precision: 0.020411494241412215, val_recall: 0.9852276162816844\n"
     ]
    },
    {
     "name": "stderr",
     "output_type": "stream",
     "text": [
      "100%|█████████████████████████████████████████| 655/655 [00:17<00:00, 36.55it/s]\n"
     ]
    },
    {
     "name": "stdout",
     "output_type": "stream",
     "text": [
      "Epoch: 838, loss: 35.144118354156724, f1: 0.03538925899834932, precision: 0.018017152505606867, recall: 0.9884778197485072\n",
      "val_loss: 35.144138283685805, val_f1: 0.039994402774875, val_precision: 0.020411494241412215, val_recall: 0.9852276162816844\n"
     ]
    },
    {
     "name": "stderr",
     "output_type": "stream",
     "text": [
      "100%|█████████████████████████████████████████| 655/655 [00:17<00:00, 36.55it/s]\n"
     ]
    },
    {
     "name": "stdout",
     "output_type": "stream",
     "text": [
      "Epoch: 839, loss: 35.1441183425088, f1: 0.03538925899834932, precision: 0.018017152505606867, recall: 0.9884778197485072\n",
      "val_loss: 35.14413823118997, val_f1: 0.039994402774875, val_precision: 0.020411494241412215, val_recall: 0.9852276162816844\n"
     ]
    },
    {
     "name": "stderr",
     "output_type": "stream",
     "text": [
      "100%|█████████████████████████████████████████| 655/655 [00:17<00:00, 36.60it/s]\n"
     ]
    },
    {
     "name": "stdout",
     "output_type": "stream",
     "text": [
      "Epoch: 840, loss: 35.1441183250369, f1: 0.03538925899834932, precision: 0.018017152505606867, recall: 0.9884778197485072\n",
      "val_loss: 35.14413821369136, val_f1: 0.039994402774875, val_precision: 0.020411494241412215, val_recall: 0.9852276162816844\n"
     ]
    },
    {
     "name": "stderr",
     "output_type": "stream",
     "text": [
      "100%|█████████████████████████████████████████| 655/655 [00:17<00:00, 36.46it/s]\n"
     ]
    },
    {
     "name": "stdout",
     "output_type": "stream",
     "text": [
      "Epoch: 841, loss: 35.144118295917075, f1: 0.03538925899834932, precision: 0.018017152505606867, recall: 0.9884778197485072\n",
      "val_loss: 35.14413819619275, val_f1: 0.039994402774875, val_precision: 0.020411494241412215, val_recall: 0.9852276162816844\n"
     ]
    },
    {
     "name": "stderr",
     "output_type": "stream",
     "text": [
      "100%|█████████████████████████████████████████| 655/655 [00:17<00:00, 37.08it/s]\n"
     ]
    },
    {
     "name": "stdout",
     "output_type": "stream",
     "text": [
      "Epoch: 842, loss: 35.144118255149316, f1: 0.03538925899834932, precision: 0.018017152505606867, recall: 0.9884778197485072\n",
      "val_loss: 35.14413817869414, val_f1: 0.039994402774875, val_precision: 0.020411494241412215, val_recall: 0.9852276162816844\n"
     ]
    },
    {
     "name": "stderr",
     "output_type": "stream",
     "text": [
      "100%|█████████████████████████████████████████| 655/655 [00:17<00:00, 36.42it/s]\n"
     ]
    },
    {
     "name": "stdout",
     "output_type": "stream",
     "text": [
      "Epoch: 843, loss: 35.144118231853454, f1: 0.03538925899834932, precision: 0.018017152505606867, recall: 0.9884778197485072\n",
      "val_loss: 35.144138143696914, val_f1: 0.039994402774875, val_precision: 0.020411494241412215, val_recall: 0.9852276162816844\n"
     ]
    },
    {
     "name": "stderr",
     "output_type": "stream",
     "text": [
      "100%|█████████████████████████████████████████| 655/655 [00:17<00:00, 36.54it/s]\n"
     ]
    },
    {
     "name": "stdout",
     "output_type": "stream",
     "text": [
      "Epoch: 844, loss: 35.14411822020553, f1: 0.03538925899834932, precision: 0.018017152505606867, recall: 0.9884778197485072\n",
      "val_loss: 35.14413812619831, val_f1: 0.039994402774875, val_precision: 0.020411494241412215, val_recall: 0.9852276162816844\n"
     ]
    },
    {
     "name": "stderr",
     "output_type": "stream",
     "text": [
      "100%|█████████████████████████████████████████| 655/655 [00:17<00:00, 36.43it/s]\n"
     ]
    },
    {
     "name": "stdout",
     "output_type": "stream",
     "text": [
      "Epoch: 845, loss: 35.14411820273363, f1: 0.03538925899834932, precision: 0.018017152505606867, recall: 0.9884778197485072\n",
      "val_loss: 35.14413800370802, val_f1: 0.039994402774875, val_precision: 0.020411494241412215, val_recall: 0.9852276162816844\n"
     ]
    },
    {
     "name": "stderr",
     "output_type": "stream",
     "text": [
      "100%|█████████████████████████████████████████| 655/655 [00:17<00:00, 36.47it/s]\n"
     ]
    },
    {
     "name": "stdout",
     "output_type": "stream",
     "text": [
      "Epoch: 846, loss: 35.144118173613805, f1: 0.03538925899834932, precision: 0.018017152505606867, recall: 0.9884778197485072\n",
      "val_loss: 35.144137986209415, val_f1: 0.039994402774875, val_precision: 0.020411494241412215, val_recall: 0.9852276162816844\n"
     ]
    },
    {
     "name": "stderr",
     "output_type": "stream",
     "text": [
      "100%|█████████████████████████████████████████| 655/655 [00:17<00:00, 36.51it/s]\n"
     ]
    },
    {
     "name": "stdout",
     "output_type": "stream",
     "text": [
      "Epoch: 847, loss: 35.144118150317944, f1: 0.03538925899834932, precision: 0.018017152505606867, recall: 0.9884778197485072\n",
      "val_loss: 35.144137916214966, val_f1: 0.039994402774875, val_precision: 0.020411494241412215, val_recall: 0.9852276162816844\n"
     ]
    },
    {
     "name": "stderr",
     "output_type": "stream",
     "text": [
      "100%|█████████████████████████████████████████| 655/655 [00:17<00:00, 36.85it/s]\n"
     ]
    },
    {
     "name": "stdout",
     "output_type": "stream",
     "text": [
      "Epoch: 848, loss: 35.14411812702208, f1: 0.03538925899834932, precision: 0.018017152505606867, recall: 0.9884778197485072\n",
      "val_loss: 35.14413786371914, val_f1: 0.039994402774875, val_precision: 0.020411494241412215, val_recall: 0.9852276162816844\n"
     ]
    },
    {
     "name": "stderr",
     "output_type": "stream",
     "text": [
      "100%|█████████████████████████████████████████| 655/655 [00:17<00:00, 36.55it/s]\n"
     ]
    },
    {
     "name": "stdout",
     "output_type": "stream",
     "text": [
      "Epoch: 849, loss: 35.14411811537415, f1: 0.03538925899834932, precision: 0.018017152505606867, recall: 0.9884778197485072\n",
      "val_loss: 35.144137846220524, val_f1: 0.039994402774875, val_precision: 0.020411494241412215, val_recall: 0.9852276162816844\n"
     ]
    },
    {
     "name": "stderr",
     "output_type": "stream",
     "text": [
      "100%|█████████████████████████████████████████| 655/655 [00:17<00:00, 36.46it/s]\n"
     ]
    },
    {
     "name": "stdout",
     "output_type": "stream",
     "text": [
      "Epoch: 850, loss: 35.14411809790226, f1: 0.03538925899834932, precision: 0.018017152505606867, recall: 0.9884778197485072\n",
      "val_loss: 35.14413782872191, val_f1: 0.039994402774875, val_precision: 0.020411494241412215, val_recall: 0.9852276162816844\n"
     ]
    },
    {
     "name": "stderr",
     "output_type": "stream",
     "text": [
      "100%|█████████████████████████████████████████| 655/655 [00:17<00:00, 36.42it/s]\n"
     ]
    },
    {
     "name": "stdout",
     "output_type": "stream",
     "text": [
      "Epoch: 851, loss: 35.144118051310535, f1: 0.03538925899834932, precision: 0.018017152505606867, recall: 0.9884778197485072\n",
      "val_loss: 35.1441378112233, val_f1: 0.039994402774875, val_precision: 0.020411494241412215, val_recall: 0.9852276162816844\n"
     ]
    },
    {
     "name": "stderr",
     "output_type": "stream",
     "text": [
      "100%|█████████████████████████████████████████| 655/655 [00:17<00:00, 36.58it/s]\n"
     ]
    },
    {
     "name": "stdout",
     "output_type": "stream",
     "text": [
      "Epoch: 852, loss: 35.1441180396626, f1: 0.03538925899834932, precision: 0.018017152505606867, recall: 0.9884778197485072\n",
      "val_loss: 35.14413779372469, val_f1: 0.039994402774875, val_precision: 0.020411494241412215, val_recall: 0.9852276162816844\n"
     ]
    },
    {
     "name": "stderr",
     "output_type": "stream",
     "text": [
      "100%|█████████████████████████████████████████| 655/655 [00:17<00:00, 36.59it/s]\n"
     ]
    },
    {
     "name": "stdout",
     "output_type": "stream",
     "text": [
      "Epoch: 853, loss: 35.14411793483123, f1: 0.03538925899834932, precision: 0.018017152505606867, recall: 0.9884778197485072\n",
      "val_loss: 35.144137723730246, val_f1: 0.039994402774875, val_precision: 0.020411494241412215, val_recall: 0.9852276162816844\n"
     ]
    },
    {
     "name": "stderr",
     "output_type": "stream",
     "text": [
      "100%|█████████████████████████████████████████| 655/655 [00:17<00:00, 36.84it/s]\n"
     ]
    },
    {
     "name": "stdout",
     "output_type": "stream",
     "text": [
      "Epoch: 854, loss: 35.1441179057114, f1: 0.03538925899834932, precision: 0.018017152505606867, recall: 0.9884778197485072\n",
      "val_loss: 35.14413770623163, val_f1: 0.039994402774875, val_precision: 0.020411494241412215, val_recall: 0.9852276162816844\n"
     ]
    },
    {
     "name": "stderr",
     "output_type": "stream",
     "text": [
      "100%|█████████████████████████████████████████| 655/655 [00:17<00:00, 36.50it/s]\n"
     ]
    },
    {
     "name": "stdout",
     "output_type": "stream",
     "text": [
      "Epoch: 855, loss: 35.14411789406347, f1: 0.03538925899834932, precision: 0.018017152505606867, recall: 0.9884778197485072\n",
      "val_loss: 35.144137688733025, val_f1: 0.039994402774875, val_precision: 0.020411494241412215, val_recall: 0.9852276162816844\n"
     ]
    },
    {
     "name": "stderr",
     "output_type": "stream",
     "text": [
      "100%|█████████████████████████████████████████| 655/655 [00:17<00:00, 36.50it/s]\n"
     ]
    },
    {
     "name": "stdout",
     "output_type": "stream",
     "text": [
      "Epoch: 856, loss: 35.14411787659157, f1: 0.03538925899834932, precision: 0.018017152505606867, recall: 0.9884778197485072\n",
      "val_loss: 35.1441376537358, val_f1: 0.039994402774875, val_precision: 0.020411494241412215, val_recall: 0.9852276162816844\n"
     ]
    },
    {
     "name": "stderr",
     "output_type": "stream",
     "text": [
      "100%|█████████████████████████████████████████| 655/655 [00:17<00:00, 36.43it/s]\n"
     ]
    },
    {
     "name": "stdout",
     "output_type": "stream",
     "text": [
      "Epoch: 857, loss: 35.144117888239506, f1: 0.03538925899834932, precision: 0.018017152505606867, recall: 0.9884778197485072\n",
      "val_loss: 35.14413763623719, val_f1: 0.039994402774875, val_precision: 0.020411494241412215, val_recall: 0.9852276162816844\n"
     ]
    },
    {
     "name": "stderr",
     "output_type": "stream",
     "text": [
      "100%|█████████████████████████████████████████| 655/655 [00:17<00:00, 36.43it/s]\n"
     ]
    },
    {
     "name": "stdout",
     "output_type": "stream",
     "text": [
      "Epoch: 858, loss: 35.14411787659157, f1: 0.03538925899834932, precision: 0.018017152505606867, recall: 0.9884778197485072\n",
      "val_loss: 35.144137618738576, val_f1: 0.039994402774875, val_precision: 0.020411494241412215, val_recall: 0.9852276162816844\n"
     ]
    },
    {
     "name": "stderr",
     "output_type": "stream",
     "text": [
      "100%|█████████████████████████████████████████| 655/655 [00:17<00:00, 36.49it/s]\n"
     ]
    },
    {
     "name": "stdout",
     "output_type": "stream",
     "text": [
      "Epoch: 859, loss: 35.144117859119675, f1: 0.03538925899834932, precision: 0.018017152505606867, recall: 0.9884778197485072\n",
      "val_loss: 35.144137583741355, val_f1: 0.039994402774875, val_precision: 0.020411494241412215, val_recall: 0.9852276162816844\n"
     ]
    },
    {
     "name": "stderr",
     "output_type": "stream",
     "text": [
      "100%|█████████████████████████████████████████| 655/655 [00:17<00:00, 36.53it/s]\n"
     ]
    },
    {
     "name": "stdout",
     "output_type": "stream",
     "text": [
      "Epoch: 860, loss: 35.14411783582381, f1: 0.03538925899834932, precision: 0.018017152505606867, recall: 0.9884778197485072\n",
      "val_loss: 35.14413754874413, val_f1: 0.039994402774875, val_precision: 0.020411494241412215, val_recall: 0.9852276162816844\n"
     ]
    },
    {
     "name": "stderr",
     "output_type": "stream",
     "text": [
      "100%|█████████████████████████████████████████| 655/655 [00:17<00:00, 36.86it/s]\n"
     ]
    },
    {
     "name": "stdout",
     "output_type": "stream",
     "text": [
      "Epoch: 861, loss: 35.144117824175886, f1: 0.03538925899834932, precision: 0.018017152505606867, recall: 0.9884778197485072\n",
      "val_loss: 35.14413753124552, val_f1: 0.039994402774875, val_precision: 0.020411494241412215, val_recall: 0.9852276162816844\n"
     ]
    },
    {
     "name": "stderr",
     "output_type": "stream",
     "text": [
      "100%|█████████████████████████████████████████| 655/655 [00:17<00:00, 36.66it/s]\n"
     ]
    },
    {
     "name": "stdout",
     "output_type": "stream",
     "text": [
      "Epoch: 862, loss: 35.14411780670399, f1: 0.03538925899834932, precision: 0.018017152505606867, recall: 0.9884778197485072\n",
      "val_loss: 35.14413751374691, val_f1: 0.039994402774875, val_precision: 0.020411494241412215, val_recall: 0.9852276162816844\n"
     ]
    },
    {
     "name": "stderr",
     "output_type": "stream",
     "text": [
      "100%|█████████████████████████████████████████| 655/655 [00:17<00:00, 36.54it/s]\n"
     ]
    },
    {
     "name": "stdout",
     "output_type": "stream",
     "text": [
      "Epoch: 863, loss: 35.14411778340813, f1: 0.03538925899834932, precision: 0.018017152505606867, recall: 0.9884778197485072\n",
      "val_loss: 35.1441374962483, val_f1: 0.039994402774875, val_precision: 0.020411494241412215, val_recall: 0.9852276162816844\n"
     ]
    },
    {
     "name": "stderr",
     "output_type": "stream",
     "text": [
      "100%|█████████████████████████████████████████| 655/655 [00:17<00:00, 36.47it/s]\n"
     ]
    },
    {
     "name": "stdout",
     "output_type": "stream",
     "text": [
      "Epoch: 864, loss: 35.1441177717602, f1: 0.03538925899834932, precision: 0.018017152505606867, recall: 0.9884778197485072\n",
      "val_loss: 35.144137478749684, val_f1: 0.039994402774875, val_precision: 0.020411494241412215, val_recall: 0.9852276162816844\n"
     ]
    },
    {
     "name": "stderr",
     "output_type": "stream",
     "text": [
      "100%|█████████████████████████████████████████| 655/655 [00:17<00:00, 36.52it/s]\n"
     ]
    },
    {
     "name": "stdout",
     "output_type": "stream",
     "text": [
      "Epoch: 865, loss: 35.144117760112266, f1: 0.03538925899834932, precision: 0.018017152505606867, recall: 0.9884778197485072\n",
      "val_loss: 35.14413746125108, val_f1: 0.039994402774875, val_precision: 0.020411494241412215, val_recall: 0.9852276162816844\n"
     ]
    },
    {
     "name": "stderr",
     "output_type": "stream",
     "text": [
      "100%|█████████████████████████████████████████| 655/655 [00:17<00:00, 36.63it/s]\n"
     ]
    },
    {
     "name": "stdout",
     "output_type": "stream",
     "text": [
      "Epoch: 866, loss: 35.14411774264037, f1: 0.03538925899834932, precision: 0.018017152505606867, recall: 0.9884778197485072\n",
      "val_loss: 35.144137426253856, val_f1: 0.039994402774875, val_precision: 0.020411494241412215, val_recall: 0.9852276162816844\n"
     ]
    },
    {
     "name": "stderr",
     "output_type": "stream",
     "text": [
      "100%|█████████████████████████████████████████| 655/655 [00:17<00:00, 37.13it/s]\n"
     ]
    },
    {
     "name": "stdout",
     "output_type": "stream",
     "text": [
      "Epoch: 867, loss: 35.14411766692882, f1: 0.03538925899834932, precision: 0.018017152505606867, recall: 0.9884778197485072\n",
      "val_loss: 35.14413740875524, val_f1: 0.039994402774875, val_precision: 0.020411494241412215, val_recall: 0.9852276162816844\n"
     ]
    },
    {
     "name": "stderr",
     "output_type": "stream",
     "text": [
      "100%|█████████████████████████████████████████| 655/655 [00:17<00:00, 36.54it/s]\n"
     ]
    },
    {
     "name": "stdout",
     "output_type": "stream",
     "text": [
      "Epoch: 868, loss: 35.14411764945692, f1: 0.03538925899834932, precision: 0.018017152505606867, recall: 0.9884778197485072\n",
      "val_loss: 35.14413740875524, val_f1: 0.039994402774875, val_precision: 0.020411494241412215, val_recall: 0.9852276162816844\n"
     ]
    },
    {
     "name": "stderr",
     "output_type": "stream",
     "text": [
      "100%|█████████████████████████████████████████| 655/655 [00:17<00:00, 36.70it/s]\n"
     ]
    },
    {
     "name": "stdout",
     "output_type": "stream",
     "text": [
      "Epoch: 869, loss: 35.144117614513135, f1: 0.03538925899834932, precision: 0.018017152505606867, recall: 0.9884778197485072\n",
      "val_loss: 35.144137321262185, val_f1: 0.039994402774875, val_precision: 0.020411494241412215, val_recall: 0.9852276162816844\n"
     ]
    },
    {
     "name": "stderr",
     "output_type": "stream",
     "text": [
      "100%|█████████████████████████████████████████| 655/655 [00:17<00:00, 36.57it/s]\n"
     ]
    },
    {
     "name": "stdout",
     "output_type": "stream",
     "text": [
      "Epoch: 870, loss: 35.144117591217274, f1: 0.03538925899834932, precision: 0.018017152505606867, recall: 0.9884778197485072\n",
      "val_loss: 35.14413730376357, val_f1: 0.039994402774875, val_precision: 0.020411494241412215, val_recall: 0.9852276162816844\n"
     ]
    },
    {
     "name": "stderr",
     "output_type": "stream",
     "text": [
      "100%|█████████████████████████████████████████| 655/655 [00:17<00:00, 36.58it/s]\n"
     ]
    },
    {
     "name": "stdout",
     "output_type": "stream",
     "text": [
      "Epoch: 871, loss: 35.14411757956935, f1: 0.03538925899834932, precision: 0.018017152505606867, recall: 0.9884778197485072\n",
      "val_loss: 35.14413726876635, val_f1: 0.039994402774875, val_precision: 0.020411494241412215, val_recall: 0.9852276162816844\n"
     ]
    },
    {
     "name": "stderr",
     "output_type": "stream",
     "text": [
      "100%|█████████████████████████████████████████| 655/655 [00:17<00:00, 36.57it/s]\n"
     ]
    },
    {
     "name": "stdout",
     "output_type": "stream",
     "text": [
      "Epoch: 872, loss: 35.14411756792141, f1: 0.03538925899834932, precision: 0.018017152505606867, recall: 0.9884778197485072\n",
      "val_loss: 35.14413723376913, val_f1: 0.039994402774875, val_precision: 0.020411494241412215, val_recall: 0.9852276162816844\n"
     ]
    },
    {
     "name": "stderr",
     "output_type": "stream",
     "text": [
      "100%|█████████████████████████████████████████| 655/655 [00:17<00:00, 36.91it/s]\n"
     ]
    },
    {
     "name": "stdout",
     "output_type": "stream",
     "text": [
      "Epoch: 873, loss: 35.14411753880159, f1: 0.03538925899834932, precision: 0.018017152505606867, recall: 0.9884778197485072\n",
      "val_loss: 35.144137216270515, val_f1: 0.039994402774875, val_precision: 0.020411494241412215, val_recall: 0.9852276162816844\n"
     ]
    },
    {
     "name": "stderr",
     "output_type": "stream",
     "text": [
      "100%|█████████████████████████████████████████| 655/655 [00:17<00:00, 36.53it/s]\n"
     ]
    },
    {
     "name": "stdout",
     "output_type": "stream",
     "text": [
      "Epoch: 874, loss: 35.144117532977624, f1: 0.03538925899834932, precision: 0.018017152505606867, recall: 0.9884778197485072\n",
      "val_loss: 35.144137181273294, val_f1: 0.039994402774875, val_precision: 0.020411494241412215, val_recall: 0.9852276162816844\n"
     ]
    },
    {
     "name": "stderr",
     "output_type": "stream",
     "text": [
      "100%|█████████████████████████████████████████| 655/655 [00:17<00:00, 36.63it/s]\n"
     ]
    },
    {
     "name": "stdout",
     "output_type": "stream",
     "text": [
      "Epoch: 875, loss: 35.14411752132969, f1: 0.03538925899834932, precision: 0.018017152505606867, recall: 0.9884778197485072\n",
      "val_loss: 35.14413716377468, val_f1: 0.039994402774875, val_precision: 0.020411494241412215, val_recall: 0.9852276162816844\n"
     ]
    },
    {
     "name": "stderr",
     "output_type": "stream",
     "text": [
      "100%|█████████████████████████████████████████| 655/655 [00:17<00:00, 36.44it/s]\n"
     ]
    },
    {
     "name": "stdout",
     "output_type": "stream",
     "text": [
      "Epoch: 876, loss: 35.14411750385779, f1: 0.03538925899834932, precision: 0.018017152505606867, recall: 0.9884778197485072\n",
      "val_loss: 35.14413714627607, val_f1: 0.039994402774875, val_precision: 0.020411494241412215, val_recall: 0.9852276162816844\n"
     ]
    },
    {
     "name": "stderr",
     "output_type": "stream",
     "text": [
      "100%|█████████████████████████████████████████| 655/655 [00:17<00:00, 36.62it/s]\n"
     ]
    },
    {
     "name": "stdout",
     "output_type": "stream",
     "text": [
      "Epoch: 877, loss: 35.1441174863859, f1: 0.03538925899834932, precision: 0.018017152505606867, recall: 0.9884778197485072\n",
      "val_loss: 35.14413712877746, val_f1: 0.039994402774875, val_precision: 0.020411494241412215, val_recall: 0.9852276162816844\n"
     ]
    },
    {
     "name": "stderr",
     "output_type": "stream",
     "text": [
      "100%|█████████████████████████████████████████| 655/655 [00:17<00:00, 36.47it/s]\n"
     ]
    },
    {
     "name": "stdout",
     "output_type": "stream",
     "text": [
      "Epoch: 878, loss: 35.14411746309004, f1: 0.03538925899834932, precision: 0.018017152505606867, recall: 0.9884778197485072\n",
      "val_loss: 35.14413711127885, val_f1: 0.039994402774875, val_precision: 0.020411494241412215, val_recall: 0.9852276162816844\n"
     ]
    },
    {
     "name": "stderr",
     "output_type": "stream",
     "text": [
      "100%|█████████████████████████████████████████| 655/655 [00:17<00:00, 36.67it/s]\n"
     ]
    },
    {
     "name": "stdout",
     "output_type": "stream",
     "text": [
      "Epoch: 879, loss: 35.144117451442106, f1: 0.03538925899834932, precision: 0.018017152505606867, recall: 0.9884778197485072\n",
      "val_loss: 35.14413707628162, val_f1: 0.039994402774875, val_precision: 0.020411494241412215, val_recall: 0.9852276162816844\n"
     ]
    },
    {
     "name": "stderr",
     "output_type": "stream",
     "text": [
      "100%|█████████████████████████████████████████| 655/655 [00:17<00:00, 36.61it/s]\n"
     ]
    },
    {
     "name": "stdout",
     "output_type": "stream",
     "text": [
      "Epoch: 880, loss: 35.144117428146245, f1: 0.03538925899834932, precision: 0.018017152505606867, recall: 0.9884778197485072\n",
      "val_loss: 35.14413707628162, val_f1: 0.039994402774875, val_precision: 0.020411494241412215, val_recall: 0.9852276162816844\n"
     ]
    },
    {
     "name": "stderr",
     "output_type": "stream",
     "text": [
      "100%|█████████████████████████████████████████| 655/655 [00:17<00:00, 36.48it/s]\n"
     ]
    },
    {
     "name": "stdout",
     "output_type": "stream",
     "text": [
      "Epoch: 881, loss: 35.14411742232228, f1: 0.03538925899834932, precision: 0.018017152505606867, recall: 0.9884778197485072\n",
      "val_loss: 35.14413700628718, val_f1: 0.039994402774875, val_precision: 0.020411494241412215, val_recall: 0.9852276162816844\n"
     ]
    },
    {
     "name": "stderr",
     "output_type": "stream",
     "text": [
      "100%|█████████████████████████████████████████| 655/655 [00:17<00:00, 36.48it/s]\n"
     ]
    },
    {
     "name": "stdout",
     "output_type": "stream",
     "text": [
      "Epoch: 882, loss: 35.144117387378486, f1: 0.03538925899834932, precision: 0.018017152505606867, recall: 0.9884778197485072\n",
      "val_loss: 35.14413698878857, val_f1: 0.039994402774875, val_precision: 0.020411494241412215, val_recall: 0.9852276162816844\n"
     ]
    },
    {
     "name": "stderr",
     "output_type": "stream",
     "text": [
      "100%|█████████████████████████████████████████| 655/655 [00:18<00:00, 36.38it/s]\n"
     ]
    },
    {
     "name": "stdout",
     "output_type": "stream",
     "text": [
      "Epoch: 883, loss: 35.14411738155452, f1: 0.03538925899834932, precision: 0.018017152505606867, recall: 0.9884778197485072\n",
      "val_loss: 35.144136953791346, val_f1: 0.039994402774875, val_precision: 0.020411494241412215, val_recall: 0.9852276162816844\n"
     ]
    },
    {
     "name": "stderr",
     "output_type": "stream",
     "text": [
      "100%|█████████████████████████████████████████| 655/655 [00:17<00:00, 36.53it/s]\n"
     ]
    },
    {
     "name": "stdout",
     "output_type": "stream",
     "text": [
      "Epoch: 884, loss: 35.14411737573056, f1: 0.03538925899834932, precision: 0.018017152505606867, recall: 0.9884778197485072\n",
      "val_loss: 35.144136918794125, val_f1: 0.039994402774875, val_precision: 0.020411494241412215, val_recall: 0.9852276162816844\n"
     ]
    },
    {
     "name": "stderr",
     "output_type": "stream",
     "text": [
      "100%|█████████████████████████████████████████| 655/655 [00:17<00:00, 36.55it/s]\n"
     ]
    },
    {
     "name": "stdout",
     "output_type": "stream",
     "text": [
      "Epoch: 885, loss: 35.1441173524347, f1: 0.03538925899834932, precision: 0.018017152505606867, recall: 0.9884778197485072\n",
      "val_loss: 35.14413690129551, val_f1: 0.039994402774875, val_precision: 0.020411494241412215, val_recall: 0.9852276162816844\n"
     ]
    },
    {
     "name": "stderr",
     "output_type": "stream",
     "text": [
      "100%|█████████████████████████████████████████| 655/655 [00:17<00:00, 37.01it/s]\n"
     ]
    },
    {
     "name": "stdout",
     "output_type": "stream",
     "text": [
      "Epoch: 886, loss: 35.14411732913884, f1: 0.03538925899834932, precision: 0.018017152505606867, recall: 0.9884778197485072\n",
      "val_loss: 35.14413690129551, val_f1: 0.039994402774875, val_precision: 0.020411494241412215, val_recall: 0.9852276162816844\n"
     ]
    },
    {
     "name": "stderr",
     "output_type": "stream",
     "text": [
      "100%|█████████████████████████████████████████| 655/655 [00:17<00:00, 36.56it/s]\n"
     ]
    },
    {
     "name": "stdout",
     "output_type": "stream",
     "text": [
      "Epoch: 887, loss: 35.1441173174909, f1: 0.03538925899834932, precision: 0.018017152505606867, recall: 0.9884778197485072\n",
      "val_loss: 35.14413686629829, val_f1: 0.039994402774875, val_precision: 0.020411494241412215, val_recall: 0.9852276162816844\n"
     ]
    },
    {
     "name": "stderr",
     "output_type": "stream",
     "text": [
      "100%|█████████████████████████████████████████| 655/655 [00:17<00:00, 36.54it/s]\n"
     ]
    },
    {
     "name": "stdout",
     "output_type": "stream",
     "text": [
      "Epoch: 888, loss: 35.1441173174909, f1: 0.03538925899834932, precision: 0.018017152505606867, recall: 0.9884778197485072\n",
      "val_loss: 35.14413683130107, val_f1: 0.039994402774875, val_precision: 0.020411494241412215, val_recall: 0.9852276162816844\n"
     ]
    },
    {
     "name": "stderr",
     "output_type": "stream",
     "text": [
      "100%|█████████████████████████████████████████| 655/655 [00:17<00:00, 36.50it/s]\n"
     ]
    },
    {
     "name": "stdout",
     "output_type": "stream",
     "text": [
      "Epoch: 889, loss: 35.14411727672315, f1: 0.03538925899834932, precision: 0.018017152505606867, recall: 0.9884778197485072\n",
      "val_loss: 35.144136813802454, val_f1: 0.039994402774875, val_precision: 0.020411494241412215, val_recall: 0.9852276162816844\n"
     ]
    },
    {
     "name": "stderr",
     "output_type": "stream",
     "text": [
      "100%|█████████████████████████████████████████| 655/655 [00:17<00:00, 36.55it/s]\n"
     ]
    },
    {
     "name": "stdout",
     "output_type": "stream",
     "text": [
      "Epoch: 890, loss: 35.14411725925125, f1: 0.03538925899834932, precision: 0.018017152505606867, recall: 0.9884778197485072\n",
      "val_loss: 35.144136813802454, val_f1: 0.039994402774875, val_precision: 0.020411494241412215, val_recall: 0.9852276162816844\n"
     ]
    },
    {
     "name": "stderr",
     "output_type": "stream",
     "text": [
      "100%|█████████████████████████████████████████| 655/655 [00:17<00:00, 36.56it/s]\n"
     ]
    },
    {
     "name": "stdout",
     "output_type": "stream",
     "text": [
      "Epoch: 891, loss: 35.14411723595539, f1: 0.03538925899834932, precision: 0.018017152505606867, recall: 0.9884778197485072\n",
      "val_loss: 35.14413677880523, val_f1: 0.039994402774875, val_precision: 0.020411494241412215, val_recall: 0.9852276162816844\n"
     ]
    },
    {
     "name": "stderr",
     "output_type": "stream",
     "text": [
      "100%|█████████████████████████████████████████| 655/655 [00:17<00:00, 37.05it/s]\n"
     ]
    },
    {
     "name": "stdout",
     "output_type": "stream",
     "text": [
      "Epoch: 892, loss: 35.14411720683557, f1: 0.03538925899834932, precision: 0.018017152505606867, recall: 0.9884778197485072\n",
      "val_loss: 35.14413669131218, val_f1: 0.039994402774875, val_precision: 0.020411494241412215, val_recall: 0.9852276162816844\n"
     ]
    },
    {
     "name": "stderr",
     "output_type": "stream",
     "text": [
      "100%|█████████████████████████████████████████| 655/655 [00:17<00:00, 36.45it/s]\n"
     ]
    },
    {
     "name": "stdout",
     "output_type": "stream",
     "text": [
      "Epoch: 893, loss: 35.14411719518763, f1: 0.03538925899834932, precision: 0.018017152505606867, recall: 0.9884778197485072\n",
      "val_loss: 35.14413667381356, val_f1: 0.039994402774875, val_precision: 0.020411494241412215, val_recall: 0.9852276162816844\n"
     ]
    },
    {
     "name": "stderr",
     "output_type": "stream",
     "text": [
      "100%|█████████████████████████████████████████| 655/655 [00:17<00:00, 36.51it/s]\n"
     ]
    },
    {
     "name": "stdout",
     "output_type": "stream",
     "text": [
      "Epoch: 894, loss: 35.14411718936367, f1: 0.03538925899834932, precision: 0.018017152505606867, recall: 0.9884778197485072\n",
      "val_loss: 35.14413663881634, val_f1: 0.039994402774875, val_precision: 0.020411494241412215, val_recall: 0.9852276162816844\n"
     ]
    },
    {
     "name": "stderr",
     "output_type": "stream",
     "text": [
      "100%|█████████████████████████████████████████| 655/655 [00:17<00:00, 36.50it/s]\n"
     ]
    },
    {
     "name": "stdout",
     "output_type": "stream",
     "text": [
      "Epoch: 895, loss: 35.14411717189177, f1: 0.03538925899834932, precision: 0.018017152505606867, recall: 0.9884778197485072\n",
      "val_loss: 35.144136621317735, val_f1: 0.039994402774875, val_precision: 0.020411494241412215, val_recall: 0.9852276162816844\n"
     ]
    },
    {
     "name": "stderr",
     "output_type": "stream",
     "text": [
      "100%|█████████████████████████████████████████| 655/655 [00:17<00:00, 36.47it/s]\n"
     ]
    },
    {
     "name": "stdout",
     "output_type": "stream",
     "text": [
      "Epoch: 896, loss: 35.144117154419874, f1: 0.03538925899834932, precision: 0.018017152505606867, recall: 0.9884778197485072\n",
      "val_loss: 35.14413660381912, val_f1: 0.039994402774875, val_precision: 0.020411494241412215, val_recall: 0.9852276162816844\n"
     ]
    },
    {
     "name": "stderr",
     "output_type": "stream",
     "text": [
      "100%|█████████████████████████████████████████| 655/655 [00:17<00:00, 36.47it/s]\n"
     ]
    },
    {
     "name": "stdout",
     "output_type": "stream",
     "text": [
      "Epoch: 897, loss: 35.14411714859591, f1: 0.03538925899834932, precision: 0.018017152505606867, recall: 0.9884778197485072\n",
      "val_loss: 35.144136586320506, val_f1: 0.039994402774875, val_precision: 0.020411494241412215, val_recall: 0.9852276162816844\n"
     ]
    },
    {
     "name": "stderr",
     "output_type": "stream",
     "text": [
      "100%|█████████████████████████████████████████| 655/655 [00:17<00:00, 36.91it/s]\n"
     ]
    },
    {
     "name": "stdout",
     "output_type": "stream",
     "text": [
      "Epoch: 898, loss: 35.14411713112401, f1: 0.03538925899834932, precision: 0.018017152505606867, recall: 0.9884778197485072\n",
      "val_loss: 35.1441365688219, val_f1: 0.039994402774875, val_precision: 0.020411494241412215, val_recall: 0.9852276162816844\n"
     ]
    },
    {
     "name": "stderr",
     "output_type": "stream",
     "text": [
      "100%|█████████████████████████████████████████| 655/655 [00:17<00:00, 36.57it/s]\n"
     ]
    },
    {
     "name": "stdout",
     "output_type": "stream",
     "text": [
      "Epoch: 899, loss: 35.144117119476086, f1: 0.03538925899834932, precision: 0.018017152505606867, recall: 0.9884778197485072\n",
      "val_loss: 35.144136551323285, val_f1: 0.039994402774875, val_precision: 0.020411494241412215, val_recall: 0.9852276162816844\n"
     ]
    },
    {
     "name": "stderr",
     "output_type": "stream",
     "text": [
      "100%|█████████████████████████████████████████| 655/655 [00:17<00:00, 36.57it/s]\n"
     ]
    },
    {
     "name": "stdout",
     "output_type": "stream",
     "text": [
      "Epoch: 900, loss: 35.14411711365212, f1: 0.03538925899834932, precision: 0.018017152505606867, recall: 0.9884778197485072\n",
      "val_loss: 35.14413653382468, val_f1: 0.039994402774875, val_precision: 0.020411494241412215, val_recall: 0.9852276162816844\n"
     ]
    },
    {
     "name": "stderr",
     "output_type": "stream",
     "text": [
      "100%|█████████████████████████████████████████| 655/655 [00:17<00:00, 36.61it/s]\n"
     ]
    },
    {
     "name": "stdout",
     "output_type": "stream",
     "text": [
      "Epoch: 901, loss: 35.14411708453229, f1: 0.03538925899834932, precision: 0.018017152505606867, recall: 0.9884778197485072\n",
      "val_loss: 35.144136516326064, val_f1: 0.039994402774875, val_precision: 0.020411494241412215, val_recall: 0.9852276162816844\n"
     ]
    },
    {
     "name": "stderr",
     "output_type": "stream",
     "text": [
      "100%|█████████████████████████████████████████| 655/655 [00:17<00:00, 36.50it/s]\n"
     ]
    },
    {
     "name": "stdout",
     "output_type": "stream",
     "text": [
      "Epoch: 902, loss: 35.1441170670604, f1: 0.03538925899834932, precision: 0.018017152505606867, recall: 0.9884778197485072\n",
      "val_loss: 35.14413648132884, val_f1: 0.039994402774875, val_precision: 0.020411494241412215, val_recall: 0.9852276162816844\n"
     ]
    },
    {
     "name": "stderr",
     "output_type": "stream",
     "text": [
      "100%|█████████████████████████████████████████| 655/655 [00:17<00:00, 36.57it/s]\n"
     ]
    },
    {
     "name": "stdout",
     "output_type": "stream",
     "text": [
      "Epoch: 903, loss: 35.144117055412465, f1: 0.03538925899834932, precision: 0.018017152505606867, recall: 0.9884778197485072\n",
      "val_loss: 35.14413642883301, val_f1: 0.039994402774875, val_precision: 0.020411494241412215, val_recall: 0.9852276162816844\n"
     ]
    },
    {
     "name": "stderr",
     "output_type": "stream",
     "text": [
      "100%|█████████████████████████████████████████| 655/655 [00:17<00:00, 36.72it/s]\n"
     ]
    },
    {
     "name": "stdout",
     "output_type": "stream",
     "text": [
      "Epoch: 904, loss: 35.1441170495885, f1: 0.03538925899834932, precision: 0.018017152505606867, recall: 0.9884778197485072\n",
      "val_loss: 35.144136358838566, val_f1: 0.039994402774875, val_precision: 0.020411494241412215, val_recall: 0.9852276162816844\n"
     ]
    },
    {
     "name": "stderr",
     "output_type": "stream",
     "text": [
      "100%|█████████████████████████████████████████| 655/655 [00:17<00:00, 36.63it/s]\n"
     ]
    },
    {
     "name": "stdout",
     "output_type": "stream",
     "text": [
      "Epoch: 905, loss: 35.14411702629264, f1: 0.03538925899834932, precision: 0.018017152505606867, recall: 0.9884778197485072\n",
      "val_loss: 35.144136358838566, val_f1: 0.039994402774875, val_precision: 0.020411494241412215, val_recall: 0.9852276162816844\n"
     ]
    },
    {
     "name": "stderr",
     "output_type": "stream",
     "text": [
      "100%|█████████████████████████████████████████| 655/655 [00:17<00:00, 36.50it/s]\n"
     ]
    },
    {
     "name": "stdout",
     "output_type": "stream",
     "text": [
      "Epoch: 906, loss: 35.14411701464471, f1: 0.03538925899834932, precision: 0.018017152505606867, recall: 0.9884778197485072\n",
      "val_loss: 35.14413632384134, val_f1: 0.039994402774875, val_precision: 0.020411494241412215, val_recall: 0.9852276162816844\n"
     ]
    },
    {
     "name": "stderr",
     "output_type": "stream",
     "text": [
      "100%|█████████████████████████████████████████| 655/655 [00:17<00:00, 36.44it/s]\n"
     ]
    },
    {
     "name": "stdout",
     "output_type": "stream",
     "text": [
      "Epoch: 907, loss: 35.14411699134885, f1: 0.03538925899834932, precision: 0.018017152505606867, recall: 0.9884778197485072\n",
      "val_loss: 35.14413630634273, val_f1: 0.039994402774875, val_precision: 0.020411494241412215, val_recall: 0.9852276162816844\n"
     ]
    },
    {
     "name": "stderr",
     "output_type": "stream",
     "text": [
      "100%|█████████████████████████████████████████| 655/655 [00:17<00:00, 36.53it/s]\n"
     ]
    },
    {
     "name": "stdout",
     "output_type": "stream",
     "text": [
      "Epoch: 908, loss: 35.144116973876955, f1: 0.03538925899834932, precision: 0.018017152505606867, recall: 0.9884778197485072\n",
      "val_loss: 35.144136288844116, val_f1: 0.039994402774875, val_precision: 0.020411494241412215, val_recall: 0.9852276162816844\n"
     ]
    },
    {
     "name": "stderr",
     "output_type": "stream",
     "text": [
      "100%|█████████████████████████████████████████| 655/655 [00:17<00:00, 36.44it/s]\n"
     ]
    },
    {
     "name": "stdout",
     "output_type": "stream",
     "text": [
      "Epoch: 909, loss: 35.14411696805299, f1: 0.03538925899834932, precision: 0.018017152505606867, recall: 0.9884778197485072\n",
      "val_loss: 35.144136288844116, val_f1: 0.039994402774875, val_precision: 0.020411494241412215, val_recall: 0.9852276162816844\n"
     ]
    },
    {
     "name": "stderr",
     "output_type": "stream",
     "text": [
      "100%|█████████████████████████████████████████| 655/655 [00:17<00:00, 36.54it/s]\n"
     ]
    },
    {
     "name": "stdout",
     "output_type": "stream",
     "text": [
      "Epoch: 910, loss: 35.14411686322161, f1: 0.03538925899834932, precision: 0.018017152505606867, recall: 0.9884778197485072\n",
      "val_loss: 35.14413627134551, val_f1: 0.039994402774875, val_precision: 0.020411494241412215, val_recall: 0.9852276162816844\n"
     ]
    },
    {
     "name": "stderr",
     "output_type": "stream",
     "text": [
      "100%|█████████████████████████████████████████| 655/655 [00:17<00:00, 37.17it/s]\n"
     ]
    },
    {
     "name": "stdout",
     "output_type": "stream",
     "text": [
      "Epoch: 911, loss: 35.14411683992575, f1: 0.03538925899834932, precision: 0.018017152505606867, recall: 0.9884778197485072\n",
      "val_loss: 35.14413623634828, val_f1: 0.039994402774875, val_precision: 0.020411494241412215, val_recall: 0.9852276162816844\n"
     ]
    },
    {
     "name": "stderr",
     "output_type": "stream",
     "text": [
      "100%|█████████████████████████████████████████| 655/655 [00:17<00:00, 36.48it/s]\n"
     ]
    },
    {
     "name": "stdout",
     "output_type": "stream",
     "text": [
      "Epoch: 912, loss: 35.144116828277824, f1: 0.03538925899834932, precision: 0.018017152505606867, recall: 0.9884778197485072\n",
      "val_loss: 35.144136218849674, val_f1: 0.039994402774875, val_precision: 0.020411494241412215, val_recall: 0.9852276162816844\n"
     ]
    },
    {
     "name": "stderr",
     "output_type": "stream",
     "text": [
      "100%|█████████████████████████████████████████| 655/655 [00:17<00:00, 36.49it/s]\n"
     ]
    },
    {
     "name": "stdout",
     "output_type": "stream",
     "text": [
      "Epoch: 913, loss: 35.14411680498196, f1: 0.03538925899834932, precision: 0.018017152505606867, recall: 0.9884778197485072\n",
      "val_loss: 35.14413620135106, val_f1: 0.039994402774875, val_precision: 0.020411494241412215, val_recall: 0.9852276162816844\n"
     ]
    },
    {
     "name": "stderr",
     "output_type": "stream",
     "text": [
      "100%|█████████████████████████████████████████| 655/655 [00:17<00:00, 36.58it/s]\n"
     ]
    },
    {
     "name": "stdout",
     "output_type": "stream",
     "text": [
      "Epoch: 914, loss: 35.14411679915799, f1: 0.03538925899834932, precision: 0.018017152505606867, recall: 0.9884778197485072\n",
      "val_loss: 35.14413618385245, val_f1: 0.039994402774875, val_precision: 0.020411494241412215, val_recall: 0.9852276162816844\n"
     ]
    },
    {
     "name": "stderr",
     "output_type": "stream",
     "text": [
      "100%|█████████████████████████████████████████| 655/655 [00:17<00:00, 36.63it/s]\n"
     ]
    },
    {
     "name": "stdout",
     "output_type": "stream",
     "text": [
      "Epoch: 915, loss: 35.14411677586213, f1: 0.03538925899834932, precision: 0.018017152505606867, recall: 0.9884778197485072\n",
      "val_loss: 35.14413613135662, val_f1: 0.039994402774875, val_precision: 0.020411494241412215, val_recall: 0.9852276162816844\n"
     ]
    },
    {
     "name": "stderr",
     "output_type": "stream",
     "text": [
      "100%|█████████████████████████████████████████| 655/655 [00:17<00:00, 36.57it/s]\n"
     ]
    },
    {
     "name": "stdout",
     "output_type": "stream",
     "text": [
      "Epoch: 916, loss: 35.14411675839024, f1: 0.03538925899834932, precision: 0.018017152505606867, recall: 0.9884778197485072\n",
      "val_loss: 35.14413613135662, val_f1: 0.039994402774875, val_precision: 0.020411494241412215, val_recall: 0.9852276162816844\n"
     ]
    },
    {
     "name": "stderr",
     "output_type": "stream",
     "text": [
      "100%|█████████████████████████████████████████| 655/655 [00:17<00:00, 37.15it/s]\n"
     ]
    },
    {
     "name": "stdout",
     "output_type": "stream",
     "text": [
      "Epoch: 917, loss: 35.14411675256627, f1: 0.03538925899834932, precision: 0.018017152505606867, recall: 0.9884778197485072\n",
      "val_loss: 35.144136113858, val_f1: 0.039994402774875, val_precision: 0.020411494241412215, val_recall: 0.9852276162816844\n"
     ]
    },
    {
     "name": "stderr",
     "output_type": "stream",
     "text": [
      "100%|█████████████████████████████████████████| 655/655 [00:17<00:00, 36.65it/s]\n"
     ]
    },
    {
     "name": "stdout",
     "output_type": "stream",
     "text": [
      "Epoch: 918, loss: 35.14411673509438, f1: 0.03538925899834932, precision: 0.018017152505606867, recall: 0.9884778197485072\n",
      "val_loss: 35.14413609635939, val_f1: 0.039994402774875, val_precision: 0.020411494241412215, val_recall: 0.9852276162816844\n"
     ]
    },
    {
     "name": "stderr",
     "output_type": "stream",
     "text": [
      "100%|█████████████████████████████████████████| 655/655 [00:17<00:00, 36.59it/s]\n"
     ]
    },
    {
     "name": "stdout",
     "output_type": "stream",
     "text": [
      "Epoch: 919, loss: 35.144116723446444, f1: 0.03538925899834932, precision: 0.018017152505606867, recall: 0.9884778197485072\n",
      "val_loss: 35.14413606136217, val_f1: 0.039994402774875, val_precision: 0.020411494241412215, val_recall: 0.9852276162816844\n"
     ]
    },
    {
     "name": "stderr",
     "output_type": "stream",
     "text": [
      "100%|█████████████████████████████████████████| 655/655 [00:17<00:00, 36.50it/s]\n"
     ]
    },
    {
     "name": "stdout",
     "output_type": "stream",
     "text": [
      "Epoch: 920, loss: 35.14411670597455, f1: 0.03538925899834932, precision: 0.018017152505606867, recall: 0.9884778197485072\n",
      "val_loss: 35.14413604386356, val_f1: 0.039994402774875, val_precision: 0.020411494241412215, val_recall: 0.9852276162816844\n"
     ]
    },
    {
     "name": "stderr",
     "output_type": "stream",
     "text": [
      "100%|█████████████████████████████████████████| 655/655 [00:17<00:00, 36.44it/s]\n"
     ]
    },
    {
     "name": "stdout",
     "output_type": "stream",
     "text": [
      "Epoch: 921, loss: 35.14411669432662, f1: 0.03538925899834932, precision: 0.018017152505606867, recall: 0.9884778197485072\n",
      "val_loss: 35.144135991367726, val_f1: 0.039994402774875, val_precision: 0.020411494241412215, val_recall: 0.9852276162816844\n"
     ]
    },
    {
     "name": "stderr",
     "output_type": "stream",
     "text": [
      "100%|█████████████████████████████████████████| 655/655 [00:17<00:00, 36.52it/s]\n"
     ]
    },
    {
     "name": "stdout",
     "output_type": "stream",
     "text": [
      "Epoch: 922, loss: 35.144116682678685, f1: 0.03538925899834932, precision: 0.018017152505606867, recall: 0.9884778197485072\n",
      "val_loss: 35.144135956370505, val_f1: 0.039994402774875, val_precision: 0.020411494241412215, val_recall: 0.9852276162816844\n"
     ]
    },
    {
     "name": "stderr",
     "output_type": "stream",
     "text": [
      "100%|█████████████████████████████████████████| 655/655 [00:17<00:00, 36.90it/s]\n"
     ]
    },
    {
     "name": "stdout",
     "output_type": "stream",
     "text": [
      "Epoch: 923, loss: 35.144116659382824, f1: 0.03538925899834932, precision: 0.018017152505606867, recall: 0.9884778197485072\n",
      "val_loss: 35.14413593887189, val_f1: 0.039994402774875, val_precision: 0.020411494241412215, val_recall: 0.9852276162816844\n"
     ]
    },
    {
     "name": "stderr",
     "output_type": "stream",
     "text": [
      "100%|█████████████████████████████████████████| 655/655 [00:17<00:00, 36.48it/s]\n"
     ]
    },
    {
     "name": "stdout",
     "output_type": "stream",
     "text": [
      "Epoch: 924, loss: 35.144116659382824, f1: 0.03538925899834932, precision: 0.018017152505606867, recall: 0.9884778197485072\n",
      "val_loss: 35.14413592137328, val_f1: 0.039994402774875, val_precision: 0.020411494241412215, val_recall: 0.9852276162816844\n"
     ]
    },
    {
     "name": "stderr",
     "output_type": "stream",
     "text": [
      "100%|█████████████████████████████████████████| 655/655 [00:17<00:00, 36.46it/s]\n"
     ]
    },
    {
     "name": "stdout",
     "output_type": "stream",
     "text": [
      "Epoch: 925, loss: 35.14411659531921, f1: 0.03538925899834932, precision: 0.018017152505606867, recall: 0.9884778197485072\n",
      "val_loss: 35.14413590387467, val_f1: 0.039994402774875, val_precision: 0.020411494241412215, val_recall: 0.9852276162816844\n"
     ]
    },
    {
     "name": "stderr",
     "output_type": "stream",
     "text": [
      "100%|█████████████████████████████████████████| 655/655 [00:17<00:00, 36.49it/s]\n"
     ]
    },
    {
     "name": "stdout",
     "output_type": "stream",
     "text": [
      "Epoch: 926, loss: 35.144116560375416, f1: 0.03538925899834932, precision: 0.018017152505606867, recall: 0.9884778197485072\n",
      "val_loss: 35.144135851378834, val_f1: 0.039994402774875, val_precision: 0.020411494241412215, val_recall: 0.9852276162816844\n"
     ]
    },
    {
     "name": "stderr",
     "output_type": "stream",
     "text": [
      "100%|█████████████████████████████████████████| 655/655 [00:18<00:00, 36.37it/s]\n"
     ]
    },
    {
     "name": "stdout",
     "output_type": "stream",
     "text": [
      "Epoch: 927, loss: 35.14411654872749, f1: 0.03538925899834932, precision: 0.018017152505606867, recall: 0.9884778197485072\n",
      "val_loss: 35.14413583388022, val_f1: 0.039994402774875, val_precision: 0.020411494241412215, val_recall: 0.9852276162816844\n"
     ]
    },
    {
     "name": "stderr",
     "output_type": "stream",
     "text": [
      "100%|█████████████████████████████████████████| 655/655 [00:18<00:00, 36.35it/s]\n"
     ]
    },
    {
     "name": "stdout",
     "output_type": "stream",
     "text": [
      "Epoch: 928, loss: 35.144116537079555, f1: 0.03538925899834932, precision: 0.018017152505606867, recall: 0.9884778197485072\n",
      "val_loss: 35.14413581638161, val_f1: 0.039994402774875, val_precision: 0.020411494241412215, val_recall: 0.9852276162816844\n"
     ]
    },
    {
     "name": "stderr",
     "output_type": "stream",
     "text": [
      "100%|█████████████████████████████████████████| 655/655 [00:17<00:00, 36.71it/s]\n"
     ]
    },
    {
     "name": "stdout",
     "output_type": "stream",
     "text": [
      "Epoch: 929, loss: 35.14411650795973, f1: 0.03538925899834932, precision: 0.018017152505606867, recall: 0.9884778197485072\n",
      "val_loss: 35.144135798883, val_f1: 0.039994402774875, val_precision: 0.020411494241412215, val_recall: 0.9852276162816844\n"
     ]
    },
    {
     "name": "stderr",
     "output_type": "stream",
     "text": [
      "100%|█████████████████████████████████████████| 655/655 [00:17<00:00, 36.50it/s]\n"
     ]
    },
    {
     "name": "stdout",
     "output_type": "stream",
     "text": [
      "Epoch: 930, loss: 35.14411650795973, f1: 0.03538925899834932, precision: 0.018017152505606867, recall: 0.9884778197485072\n",
      "val_loss: 35.144135746387164, val_f1: 0.039994402774875, val_precision: 0.020411494241412215, val_recall: 0.9852276162816844\n"
     ]
    },
    {
     "name": "stderr",
     "output_type": "stream",
     "text": [
      "100%|█████████████████████████████████████████| 655/655 [00:17<00:00, 36.64it/s]\n"
     ]
    },
    {
     "name": "stdout",
     "output_type": "stream",
     "text": [
      "Epoch: 931, loss: 35.144116478839905, f1: 0.03538925899834932, precision: 0.018017152505606867, recall: 0.9884778197485072\n",
      "val_loss: 35.144135746387164, val_f1: 0.039994402774875, val_precision: 0.020411494241412215, val_recall: 0.9852276162816844\n"
     ]
    },
    {
     "name": "stderr",
     "output_type": "stream",
     "text": [
      "100%|█████████████████████████████████████████| 655/655 [00:17<00:00, 36.52it/s]\n"
     ]
    },
    {
     "name": "stdout",
     "output_type": "stream",
     "text": [
      "Epoch: 932, loss: 35.144116455544044, f1: 0.03538925899834932, precision: 0.018017152505606867, recall: 0.9884778197485072\n",
      "val_loss: 35.144135693891336, val_f1: 0.039994402774875, val_precision: 0.020411494241412215, val_recall: 0.9852276162816844\n"
     ]
    },
    {
     "name": "stderr",
     "output_type": "stream",
     "text": [
      "100%|█████████████████████████████████████████| 655/655 [00:17<00:00, 36.45it/s]\n"
     ]
    },
    {
     "name": "stdout",
     "output_type": "stream",
     "text": [
      "Epoch: 933, loss: 35.14411642642422, f1: 0.03538925899834932, precision: 0.018017152505606867, recall: 0.9884778197485072\n",
      "val_loss: 35.14413567639272, val_f1: 0.039994402774875, val_precision: 0.020411494241412215, val_recall: 0.9852276162816844\n"
     ]
    },
    {
     "name": "stderr",
     "output_type": "stream",
     "text": [
      "100%|█████████████████████████████████████████| 655/655 [00:17<00:00, 36.54it/s]\n"
     ]
    },
    {
     "name": "stdout",
     "output_type": "stream",
     "text": [
      "Epoch: 934, loss: 35.14411640895232, f1: 0.03538925899834932, precision: 0.018017152505606867, recall: 0.9884778197485072\n",
      "val_loss: 35.14413565889411, val_f1: 0.039994402774875, val_precision: 0.020411494241412215, val_recall: 0.9852276162816844\n"
     ]
    },
    {
     "name": "stderr",
     "output_type": "stream",
     "text": [
      "100%|█████████████████████████████████████████| 655/655 [00:17<00:00, 36.46it/s]\n"
     ]
    },
    {
     "name": "stdout",
     "output_type": "stream",
     "text": [
      "Epoch: 935, loss: 35.14411639148042, f1: 0.03538925899834932, precision: 0.018017152505606867, recall: 0.9884778197485072\n",
      "val_loss: 35.1441356413955, val_f1: 0.039994402774875, val_precision: 0.020411494241412215, val_recall: 0.9852276162816844\n"
     ]
    },
    {
     "name": "stderr",
     "output_type": "stream",
     "text": [
      "100%|█████████████████████████████████████████| 655/655 [00:17<00:00, 37.08it/s]\n"
     ]
    },
    {
     "name": "stdout",
     "output_type": "stream",
     "text": [
      "Epoch: 936, loss: 35.1441163798325, f1: 0.03538925899834932, precision: 0.018017152505606867, recall: 0.9884778197485072\n",
      "val_loss: 35.14413560639828, val_f1: 0.039994402774875, val_precision: 0.020411494241412215, val_recall: 0.9852276162816844\n"
     ]
    },
    {
     "name": "stderr",
     "output_type": "stream",
     "text": [
      "100%|█████████████████████████████████████████| 655/655 [00:17<00:00, 36.53it/s]\n"
     ]
    },
    {
     "name": "stdout",
     "output_type": "stream",
     "text": [
      "Epoch: 937, loss: 35.1441163623606, f1: 0.03538925899834932, precision: 0.018017152505606867, recall: 0.9884778197485072\n",
      "val_loss: 35.144135588899665, val_f1: 0.039994402774875, val_precision: 0.020411494241412215, val_recall: 0.9852276162816844\n"
     ]
    },
    {
     "name": "stderr",
     "output_type": "stream",
     "text": [
      "100%|█████████████████████████████████████████| 655/655 [00:17<00:00, 36.51it/s]\n"
     ]
    },
    {
     "name": "stdout",
     "output_type": "stream",
     "text": [
      "Epoch: 938, loss: 35.144116356536635, f1: 0.03538925899834932, precision: 0.018017152505606867, recall: 0.9884778197485072\n",
      "val_loss: 35.14413553640383, val_f1: 0.039994402774875, val_precision: 0.020411494241412215, val_recall: 0.9852276162816844\n"
     ]
    },
    {
     "name": "stderr",
     "output_type": "stream",
     "text": [
      "100%|█████████████████████████████████████████| 655/655 [00:17<00:00, 36.55it/s]\n"
     ]
    },
    {
     "name": "stdout",
     "output_type": "stream",
     "text": [
      "Epoch: 939, loss: 35.1441163448887, f1: 0.03538925899834932, precision: 0.018017152505606867, recall: 0.9884778197485072\n",
      "val_loss: 35.14413550140661, val_f1: 0.039994402774875, val_precision: 0.020411494241412215, val_recall: 0.9852276162816844\n"
     ]
    },
    {
     "name": "stderr",
     "output_type": "stream",
     "text": [
      "100%|█████████████████████████████████████████| 655/655 [00:17<00:00, 36.54it/s]\n"
     ]
    },
    {
     "name": "stdout",
     "output_type": "stream",
     "text": [
      "Epoch: 940, loss: 35.14411633906474, f1: 0.03538925899834932, precision: 0.018017152505606867, recall: 0.9884778197485072\n",
      "val_loss: 35.144135221428826, val_f1: 0.039994402774875, val_precision: 0.020411494241412215, val_recall: 0.9852276162816844\n"
     ]
    },
    {
     "name": "stderr",
     "output_type": "stream",
     "text": [
      "100%|█████████████████████████████████████████| 655/655 [00:17<00:00, 36.50it/s]\n"
     ]
    },
    {
     "name": "stdout",
     "output_type": "stream",
     "text": [
      "Epoch: 941, loss: 35.1441163274168, f1: 0.03538925899834932, precision: 0.018017152505606867, recall: 0.9884778197485072\n",
      "val_loss: 35.14413520393022, val_f1: 0.039994402774875, val_precision: 0.020411494241412215, val_recall: 0.9852276162816844\n"
     ]
    },
    {
     "name": "stderr",
     "output_type": "stream",
     "text": [
      "100%|█████████████████████████████████████████| 655/655 [00:17<00:00, 36.81it/s]\n"
     ]
    },
    {
     "name": "stdout",
     "output_type": "stream",
     "text": [
      "Epoch: 942, loss: 35.14411630412094, f1: 0.03538925899834932, precision: 0.018017152505606867, recall: 0.9884778197485072\n",
      "val_loss: 35.144135186431605, val_f1: 0.039994402774875, val_precision: 0.020411494241412215, val_recall: 0.9852276162816844\n"
     ]
    },
    {
     "name": "stderr",
     "output_type": "stream",
     "text": [
      "100%|█████████████████████████████████████████| 655/655 [00:17<00:00, 36.61it/s]\n"
     ]
    },
    {
     "name": "stdout",
     "output_type": "stream",
     "text": [
      "Epoch: 943, loss: 35.144116292473015, f1: 0.03538925899834932, precision: 0.018017152505606867, recall: 0.9884778197485072\n",
      "val_loss: 35.144135151434384, val_f1: 0.039994402774875, val_precision: 0.020411494241412215, val_recall: 0.9852276162816844\n"
     ]
    },
    {
     "name": "stderr",
     "output_type": "stream",
     "text": [
      "100%|█████████████████████████████████████████| 655/655 [00:17<00:00, 36.56it/s]\n"
     ]
    },
    {
     "name": "stdout",
     "output_type": "stream",
     "text": [
      "Epoch: 944, loss: 35.14411628082508, f1: 0.03538925899834932, precision: 0.018017152505606867, recall: 0.9884778197485072\n",
      "val_loss: 35.144135151434384, val_f1: 0.039994402774875, val_precision: 0.020411494241412215, val_recall: 0.9852276162816844\n"
     ]
    },
    {
     "name": "stderr",
     "output_type": "stream",
     "text": [
      "100%|█████████████████████████████████████████| 655/655 [00:17<00:00, 36.52it/s]\n"
     ]
    },
    {
     "name": "stdout",
     "output_type": "stream",
     "text": [
      "Epoch: 945, loss: 35.14411627500112, f1: 0.03538925899834932, precision: 0.018017152505606867, recall: 0.9884778197485072\n",
      "val_loss: 35.14413513393577, val_f1: 0.039994402774875, val_precision: 0.020411494241412215, val_recall: 0.9852276162816844\n"
     ]
    },
    {
     "name": "stderr",
     "output_type": "stream",
     "text": [
      "100%|█████████████████████████████████████████| 655/655 [00:17<00:00, 36.49it/s]\n"
     ]
    },
    {
     "name": "stdout",
     "output_type": "stream",
     "text": [
      "Epoch: 946, loss: 35.14411626335319, f1: 0.03538925899834932, precision: 0.018017152505606867, recall: 0.9884778197485072\n",
      "val_loss: 35.14413513393577, val_f1: 0.039994402774875, val_precision: 0.020411494241412215, val_recall: 0.9852276162816844\n"
     ]
    },
    {
     "name": "stderr",
     "output_type": "stream",
     "text": [
      "100%|█████████████████████████████████████████| 655/655 [00:17<00:00, 36.46it/s]\n"
     ]
    },
    {
     "name": "stdout",
     "output_type": "stream",
     "text": [
      "Epoch: 947, loss: 35.14411623423336, f1: 0.03538925899834932, precision: 0.018017152505606867, recall: 0.9884778197485072\n",
      "val_loss: 35.14413509893855, val_f1: 0.039994402774875, val_precision: 0.020411494241412215, val_recall: 0.9852276162816844\n"
     ]
    },
    {
     "name": "stderr",
     "output_type": "stream",
     "text": [
      "100%|█████████████████████████████████████████| 655/655 [00:17<00:00, 36.64it/s]\n"
     ]
    },
    {
     "name": "stdout",
     "output_type": "stream",
     "text": [
      "Epoch: 948, loss: 35.14411622258543, f1: 0.03538925899834932, precision: 0.018017152505606867, recall: 0.9884778197485072\n",
      "val_loss: 35.144135081439934, val_f1: 0.039994402774875, val_precision: 0.020411494241412215, val_recall: 0.9852276162816844\n"
     ]
    },
    {
     "name": "stderr",
     "output_type": "stream",
     "text": [
      "100%|█████████████████████████████████████████| 655/655 [00:17<00:00, 36.57it/s]\n"
     ]
    },
    {
     "name": "stdout",
     "output_type": "stream",
     "text": [
      "Epoch: 949, loss: 35.14411619928957, f1: 0.03538925899834932, precision: 0.018017152505606867, recall: 0.9884778197485072\n",
      "val_loss: 35.14413506394133, val_f1: 0.039994402774875, val_precision: 0.020411494241412215, val_recall: 0.9852276162816844\n"
     ]
    },
    {
     "name": "stderr",
     "output_type": "stream",
     "text": [
      "100%|█████████████████████████████████████████| 655/655 [00:17<00:00, 36.62it/s]\n"
     ]
    },
    {
     "name": "stdout",
     "output_type": "stream",
     "text": [
      "Epoch: 950, loss: 35.14411619928957, f1: 0.03538925899834932, precision: 0.018017152505606867, recall: 0.9884778197485072\n",
      "val_loss: 35.144135028944106, val_f1: 0.039994402774875, val_precision: 0.020411494241412215, val_recall: 0.9852276162816844\n"
     ]
    },
    {
     "name": "stderr",
     "output_type": "stream",
     "text": [
      "100%|█████████████████████████████████████████| 655/655 [00:17<00:00, 36.55it/s]\n"
     ]
    },
    {
     "name": "stdout",
     "output_type": "stream",
     "text": [
      "Epoch: 951, loss: 35.14411618181767, f1: 0.03538925899834932, precision: 0.018017152505606867, recall: 0.9884778197485072\n",
      "val_loss: 35.14413497644827, val_f1: 0.039994402774875, val_precision: 0.020411494241412215, val_recall: 0.9852276162816844\n"
     ]
    },
    {
     "name": "stderr",
     "output_type": "stream",
     "text": [
      "100%|█████████████████████████████████████████| 655/655 [00:17<00:00, 36.48it/s]\n"
     ]
    },
    {
     "name": "stdout",
     "output_type": "stream",
     "text": [
      "Epoch: 952, loss: 35.14411617599371, f1: 0.03538925899834932, precision: 0.018017152505606867, recall: 0.9884778197485072\n",
      "val_loss: 35.14413495894966, val_f1: 0.039994402774875, val_precision: 0.020411494241412215, val_recall: 0.9852276162816844\n"
     ]
    },
    {
     "name": "stderr",
     "output_type": "stream",
     "text": [
      "100%|█████████████████████████████████████████| 655/655 [00:17<00:00, 36.55it/s]\n"
     ]
    },
    {
     "name": "stdout",
     "output_type": "stream",
     "text": [
      "Epoch: 953, loss: 35.14411613522595, f1: 0.03538925899834932, precision: 0.018017152505606867, recall: 0.9884778197485072\n",
      "val_loss: 35.14413494145105, val_f1: 0.039994402774875, val_precision: 0.020411494241412215, val_recall: 0.9852276162816844\n"
     ]
    },
    {
     "name": "stderr",
     "output_type": "stream",
     "text": [
      "100%|█████████████████████████████████████████| 655/655 [00:17<00:00, 36.53it/s]\n"
     ]
    },
    {
     "name": "stdout",
     "output_type": "stream",
     "text": [
      "Epoch: 954, loss: 35.144116129401986, f1: 0.03538925899834932, precision: 0.018017152505606867, recall: 0.9884778197485072\n",
      "val_loss: 35.144134923952436, val_f1: 0.039994402774875, val_precision: 0.020411494241412215, val_recall: 0.9852276162816844\n"
     ]
    },
    {
     "name": "stderr",
     "output_type": "stream",
     "text": [
      "100%|█████████████████████████████████████████| 655/655 [00:17<00:00, 37.01it/s]\n"
     ]
    },
    {
     "name": "stdout",
     "output_type": "stream",
     "text": [
      "Epoch: 955, loss: 35.14411611193009, f1: 0.03538925899834932, precision: 0.018017152505606867, recall: 0.9884778197485072\n",
      "val_loss: 35.14413490645382, val_f1: 0.039994402774875, val_precision: 0.020411494241412215, val_recall: 0.9852276162816844\n"
     ]
    },
    {
     "name": "stderr",
     "output_type": "stream",
     "text": [
      "100%|█████████████████████████████████████████| 655/655 [00:17<00:00, 36.57it/s]\n"
     ]
    },
    {
     "name": "stdout",
     "output_type": "stream",
     "text": [
      "Epoch: 956, loss: 35.14411610028216, f1: 0.03538925899834932, precision: 0.018017152505606867, recall: 0.9884778197485072\n",
      "val_loss: 35.1441348714566, val_f1: 0.039994402774875, val_precision: 0.020411494241412215, val_recall: 0.9852276162816844\n"
     ]
    },
    {
     "name": "stderr",
     "output_type": "stream",
     "text": [
      "100%|█████████████████████████████████████████| 655/655 [00:17<00:00, 36.53it/s]\n"
     ]
    },
    {
     "name": "stdout",
     "output_type": "stream",
     "text": [
      "Epoch: 957, loss: 35.14411609445819, f1: 0.03538925899834932, precision: 0.018017152505606867, recall: 0.9884778197485072\n",
      "val_loss: 35.14413485395799, val_f1: 0.039994402774875, val_precision: 0.020411494241412215, val_recall: 0.9852276162816844\n"
     ]
    },
    {
     "name": "stderr",
     "output_type": "stream",
     "text": [
      "100%|█████████████████████████████████████████| 655/655 [00:17<00:00, 36.51it/s]\n"
     ]
    },
    {
     "name": "stdout",
     "output_type": "stream",
     "text": [
      "Epoch: 958, loss: 35.1441160769863, f1: 0.03538925899834932, precision: 0.018017152505606867, recall: 0.9884778197485072\n",
      "val_loss: 35.144134818960765, val_f1: 0.039994402774875, val_precision: 0.020411494241412215, val_recall: 0.9852276162816844\n"
     ]
    },
    {
     "name": "stderr",
     "output_type": "stream",
     "text": [
      "100%|█████████████████████████████████████████| 655/655 [00:17<00:00, 36.68it/s]\n"
     ]
    },
    {
     "name": "stdout",
     "output_type": "stream",
     "text": [
      "Epoch: 959, loss: 35.1441160595144, f1: 0.03538925899834932, precision: 0.018017152505606867, recall: 0.9884778197485072\n",
      "val_loss: 35.144134818960765, val_f1: 0.039994402774875, val_precision: 0.020411494241412215, val_recall: 0.9852276162816844\n"
     ]
    },
    {
     "name": "stderr",
     "output_type": "stream",
     "text": [
      "100%|█████████████████████████████████████████| 655/655 [00:17<00:00, 36.48it/s]\n"
     ]
    },
    {
     "name": "stdout",
     "output_type": "stream",
     "text": [
      "Epoch: 960, loss: 35.14411605369044, f1: 0.03538925899834932, precision: 0.018017152505606867, recall: 0.9884778197485072\n",
      "val_loss: 35.14413480146216, val_f1: 0.039994402774875, val_precision: 0.020411494241412215, val_recall: 0.9852276162816844\n"
     ]
    },
    {
     "name": "stderr",
     "output_type": "stream",
     "text": [
      "100%|█████████████████████████████████████████| 655/655 [00:17<00:00, 37.11it/s]\n"
     ]
    },
    {
     "name": "stdout",
     "output_type": "stream",
     "text": [
      "Epoch: 961, loss: 35.144116042042505, f1: 0.03538925899834932, precision: 0.018017152505606867, recall: 0.9884778197485072\n",
      "val_loss: 35.14413474896632, val_f1: 0.039994402774875, val_precision: 0.020411494241412215, val_recall: 0.9852276162816844\n"
     ]
    },
    {
     "name": "stderr",
     "output_type": "stream",
     "text": [
      "100%|█████████████████████████████████████████| 655/655 [00:17<00:00, 36.60it/s]\n"
     ]
    },
    {
     "name": "stdout",
     "output_type": "stream",
     "text": [
      "Epoch: 962, loss: 35.14411601292268, f1: 0.03538925899834932, precision: 0.018017152505606867, recall: 0.9884778197485072\n",
      "val_loss: 35.1441347139691, val_f1: 0.039994402774875, val_precision: 0.020411494241412215, val_recall: 0.9852276162816844\n"
     ]
    },
    {
     "name": "stderr",
     "output_type": "stream",
     "text": [
      "100%|█████████████████████████████████████████| 655/655 [00:17<00:00, 36.64it/s]\n"
     ]
    },
    {
     "name": "stdout",
     "output_type": "stream",
     "text": [
      "Epoch: 963, loss: 35.14411599545078, f1: 0.03538925899834932, precision: 0.018017152505606867, recall: 0.9884778197485072\n",
      "val_loss: 35.1441347139691, val_f1: 0.039994402774875, val_precision: 0.020411494241412215, val_recall: 0.9852276162816844\n"
     ]
    },
    {
     "name": "stderr",
     "output_type": "stream",
     "text": [
      "100%|█████████████████████████████████████████| 655/655 [00:17<00:00, 36.51it/s]\n"
     ]
    },
    {
     "name": "stdout",
     "output_type": "stream",
     "text": [
      "Epoch: 964, loss: 35.14411597215492, f1: 0.03538925899834932, precision: 0.018017152505606867, recall: 0.9884778197485072\n",
      "val_loss: 35.14413466147327, val_f1: 0.039994402774875, val_precision: 0.020411494241412215, val_recall: 0.9852276162816844\n"
     ]
    },
    {
     "name": "stderr",
     "output_type": "stream",
     "text": [
      "100%|█████████████████████████████████████████| 655/655 [00:17<00:00, 36.60it/s]\n"
     ]
    },
    {
     "name": "stdout",
     "output_type": "stream",
     "text": [
      "Epoch: 965, loss: 35.14411596633096, f1: 0.03538925899834932, precision: 0.018017152505606867, recall: 0.9884778197485072\n",
      "val_loss: 35.14413464397465, val_f1: 0.039994402774875, val_precision: 0.020411494241412215, val_recall: 0.9852276162816844\n"
     ]
    },
    {
     "name": "stderr",
     "output_type": "stream",
     "text": [
      "100%|█████████████████████████████████████████| 655/655 [00:17<00:00, 36.48it/s]\n"
     ]
    },
    {
     "name": "stdout",
     "output_type": "stream",
     "text": [
      "Epoch: 966, loss: 35.144115960506994, f1: 0.03538925899834932, precision: 0.018017152505606867, recall: 0.9884778197485072\n",
      "val_loss: 35.14413460897743, val_f1: 0.039994402774875, val_precision: 0.020411494241412215, val_recall: 0.9852276162816844\n"
     ]
    },
    {
     "name": "stderr",
     "output_type": "stream",
     "text": [
      "100%|█████████████████████████████████████████| 655/655 [00:17<00:00, 36.75it/s]\n"
     ]
    },
    {
     "name": "stdout",
     "output_type": "stream",
     "text": [
      "Epoch: 967, loss: 35.1441159430351, f1: 0.03538925899834932, precision: 0.018017152505606867, recall: 0.9884778197485072\n",
      "val_loss: 35.14413460897743, val_f1: 0.039994402774875, val_precision: 0.020411494241412215, val_recall: 0.9852276162816844\n"
     ]
    },
    {
     "name": "stderr",
     "output_type": "stream",
     "text": [
      "100%|█████████████████████████████████████████| 655/655 [00:17<00:00, 36.63it/s]\n"
     ]
    },
    {
     "name": "stdout",
     "output_type": "stream",
     "text": [
      "Epoch: 968, loss: 35.14411593138717, f1: 0.03538925899834932, precision: 0.018017152505606867, recall: 0.9884778197485072\n",
      "val_loss: 35.14413459147882, val_f1: 0.039994402774875, val_precision: 0.020411494241412215, val_recall: 0.9852276162816844\n"
     ]
    },
    {
     "name": "stderr",
     "output_type": "stream",
     "text": [
      "100%|█████████████████████████████████████████| 655/655 [00:17<00:00, 36.56it/s]\n"
     ]
    },
    {
     "name": "stdout",
     "output_type": "stream",
     "text": [
      "Epoch: 969, loss: 35.1441159255632, f1: 0.03538925899834932, precision: 0.018017152505606867, recall: 0.9884778197485072\n",
      "val_loss: 35.144134556481596, val_f1: 0.039994402774875, val_precision: 0.020411494241412215, val_recall: 0.9852276162816844\n"
     ]
    },
    {
     "name": "stderr",
     "output_type": "stream",
     "text": [
      "100%|█████████████████████████████████████████| 655/655 [00:17<00:00, 36.49it/s]\n"
     ]
    },
    {
     "name": "stdout",
     "output_type": "stream",
     "text": [
      "Epoch: 970, loss: 35.14411590809131, f1: 0.03538925899834932, precision: 0.018017152505606867, recall: 0.9884778197485072\n",
      "val_loss: 35.144134521484375, val_f1: 0.039994402774875, val_precision: 0.020411494241412215, val_recall: 0.9852276162816844\n"
     ]
    },
    {
     "name": "stderr",
     "output_type": "stream",
     "text": [
      "100%|█████████████████████████████████████████| 655/655 [00:17<00:00, 36.63it/s]\n"
     ]
    },
    {
     "name": "stdout",
     "output_type": "stream",
     "text": [
      "Epoch: 971, loss: 35.144115896443374, f1: 0.03538925899834932, precision: 0.018017152505606867, recall: 0.9884778197485072\n",
      "val_loss: 35.144134486487154, val_f1: 0.039994402774875, val_precision: 0.020411494241412215, val_recall: 0.9852276162816844\n"
     ]
    },
    {
     "name": "stderr",
     "output_type": "stream",
     "text": [
      "100%|█████████████████████████████████████████| 655/655 [00:17<00:00, 36.43it/s]\n"
     ]
    },
    {
     "name": "stdout",
     "output_type": "stream",
     "text": [
      "Epoch: 972, loss: 35.14411589061941, f1: 0.03538925899834932, precision: 0.018017152505606867, recall: 0.9884778197485072\n",
      "val_loss: 35.144134486487154, val_f1: 0.039994402774875, val_precision: 0.020411494241412215, val_recall: 0.9852276162816844\n"
     ]
    },
    {
     "name": "stderr",
     "output_type": "stream",
     "text": [
      "100%|█████████████████████████████████████████| 655/655 [00:17<00:00, 36.64it/s]\n"
     ]
    },
    {
     "name": "stdout",
     "output_type": "stream",
     "text": [
      "Epoch: 973, loss: 35.14411578578803, f1: 0.03538925899834932, precision: 0.018017152505606867, recall: 0.9884778197485072\n",
      "val_loss: 35.14413446898854, val_f1: 0.039994402774875, val_precision: 0.020411494241412215, val_recall: 0.9852276162816844\n"
     ]
    },
    {
     "name": "stderr",
     "output_type": "stream",
     "text": [
      "100%|█████████████████████████████████████████| 655/655 [00:17<00:00, 36.74it/s]\n"
     ]
    },
    {
     "name": "stdout",
     "output_type": "stream",
     "text": [
      "Epoch: 974, loss: 35.144115774140104, f1: 0.03538925899834932, precision: 0.018017152505606867, recall: 0.9884778197485072\n",
      "val_loss: 35.14413445148993, val_f1: 0.039994402774875, val_precision: 0.020411494241412215, val_recall: 0.9852276162816844\n"
     ]
    },
    {
     "name": "stderr",
     "output_type": "stream",
     "text": [
      "100%|█████████████████████████████████████████| 655/655 [00:17<00:00, 36.47it/s]\n"
     ]
    },
    {
     "name": "stdout",
     "output_type": "stream",
     "text": [
      "Epoch: 975, loss: 35.14411575666821, f1: 0.03538925899834932, precision: 0.018017152505606867, recall: 0.9884778197485072\n",
      "val_loss: 35.144134416492705, val_f1: 0.039994402774875, val_precision: 0.020411494241412215, val_recall: 0.9852276162816844\n"
     ]
    },
    {
     "name": "stderr",
     "output_type": "stream",
     "text": [
      "100%|█████████████████████████████████████████| 655/655 [00:17<00:00, 36.64it/s]\n"
     ]
    },
    {
     "name": "stdout",
     "output_type": "stream",
     "text": [
      "Epoch: 976, loss: 35.14411573919631, f1: 0.03538925899834932, precision: 0.018017152505606867, recall: 0.9884778197485072\n",
      "val_loss: 35.144134416492705, val_f1: 0.039994402774875, val_precision: 0.020411494241412215, val_recall: 0.9852276162816844\n"
     ]
    },
    {
     "name": "stderr",
     "output_type": "stream",
     "text": [
      "100%|█████████████████████████████████████████| 655/655 [00:17<00:00, 36.57it/s]\n"
     ]
    },
    {
     "name": "stdout",
     "output_type": "stream",
     "text": [
      "Epoch: 977, loss: 35.14411572172442, f1: 0.03538925899834932, precision: 0.018017152505606867, recall: 0.9884778197485072\n",
      "val_loss: 35.1441343989941, val_f1: 0.039994402774875, val_precision: 0.020411494241412215, val_recall: 0.9852276162816844\n"
     ]
    },
    {
     "name": "stderr",
     "output_type": "stream",
     "text": [
      "100%|█████████████████████████████████████████| 655/655 [00:17<00:00, 36.57it/s]\n"
     ]
    },
    {
     "name": "stdout",
     "output_type": "stream",
     "text": [
      "Epoch: 978, loss: 35.14411572172442, f1: 0.03538925899834932, precision: 0.018017152505606867, recall: 0.9884778197485072\n",
      "val_loss: 35.14413438149548, val_f1: 0.039994402774875, val_precision: 0.020411494241412215, val_recall: 0.9852276162816844\n"
     ]
    },
    {
     "name": "stderr",
     "output_type": "stream",
     "text": [
      "100%|█████████████████████████████████████████| 655/655 [00:17<00:00, 36.55it/s]\n"
     ]
    },
    {
     "name": "stdout",
     "output_type": "stream",
     "text": [
      "Epoch: 979, loss: 35.144115710076484, f1: 0.03538925899834932, precision: 0.018017152505606867, recall: 0.9884778197485072\n",
      "val_loss: 35.14413434649826, val_f1: 0.039994402774875, val_precision: 0.020411494241412215, val_recall: 0.9852276162816844\n"
     ]
    },
    {
     "name": "stderr",
     "output_type": "stream",
     "text": [
      "100%|█████████████████████████████████████████| 655/655 [00:17<00:00, 37.13it/s]\n"
     ]
    },
    {
     "name": "stdout",
     "output_type": "stream",
     "text": [
      "Epoch: 980, loss: 35.144115710076484, f1: 0.03538925899834932, precision: 0.018017152505606867, recall: 0.9884778197485072\n",
      "val_loss: 35.14413434649826, val_f1: 0.039994402774875, val_precision: 0.020411494241412215, val_recall: 0.9852276162816844\n"
     ]
    },
    {
     "name": "stderr",
     "output_type": "stream",
     "text": [
      "100%|█████████████████████████████████████████| 655/655 [00:17<00:00, 36.53it/s]\n"
     ]
    },
    {
     "name": "stdout",
     "output_type": "stream",
     "text": [
      "Epoch: 981, loss: 35.14411568678062, f1: 0.03538925899834932, precision: 0.018017152505606867, recall: 0.9884778197485072\n",
      "val_loss: 35.14413432899965, val_f1: 0.039994402774875, val_precision: 0.020411494241412215, val_recall: 0.9852276162816844\n"
     ]
    },
    {
     "name": "stderr",
     "output_type": "stream",
     "text": [
      "100%|█████████████████████████████████████████| 655/655 [00:17<00:00, 36.60it/s]\n"
     ]
    },
    {
     "name": "stdout",
     "output_type": "stream",
     "text": [
      "Epoch: 982, loss: 35.144115669308725, f1: 0.03538925899834932, precision: 0.018017152505606867, recall: 0.9884778197485072\n",
      "val_loss: 35.14413431150104, val_f1: 0.039994402774875, val_precision: 0.020411494241412215, val_recall: 0.9852276162816844\n"
     ]
    },
    {
     "name": "stderr",
     "output_type": "stream",
     "text": [
      "100%|█████████████████████████████████████████| 655/655 [00:17<00:00, 36.64it/s]\n"
     ]
    },
    {
     "name": "stdout",
     "output_type": "stream",
     "text": [
      "Epoch: 983, loss: 35.14411566348476, f1: 0.03538925899834932, precision: 0.018017152505606867, recall: 0.9884778197485072\n",
      "val_loss: 35.14413431150104, val_f1: 0.039994402774875, val_precision: 0.020411494241412215, val_recall: 0.9852276162816844\n"
     ]
    },
    {
     "name": "stderr",
     "output_type": "stream",
     "text": [
      "100%|█████████████████████████████████████████| 655/655 [00:17<00:00, 36.55it/s]\n"
     ]
    },
    {
     "name": "stdout",
     "output_type": "stream",
     "text": [
      "Epoch: 984, loss: 35.144115646012864, f1: 0.03538925899834932, precision: 0.018017152505606867, recall: 0.9884778197485072\n",
      "val_loss: 35.144134259005206, val_f1: 0.039994402774875, val_precision: 0.020411494241412215, val_recall: 0.9852276162816844\n"
     ]
    },
    {
     "name": "stderr",
     "output_type": "stream",
     "text": [
      "100%|█████████████████████████████████████████| 655/655 [00:17<00:00, 36.46it/s]\n"
     ]
    },
    {
     "name": "stdout",
     "output_type": "stream",
     "text": [
      "Epoch: 985, loss: 35.1441156401889, f1: 0.03538925899834932, precision: 0.018017152505606867, recall: 0.9884778197485072\n",
      "val_loss: 35.14413424150659, val_f1: 0.039994402774875, val_precision: 0.020411494241412215, val_recall: 0.9852276162816844\n"
     ]
    },
    {
     "name": "stderr",
     "output_type": "stream",
     "text": [
      "100%|█████████████████████████████████████████| 655/655 [00:17<00:00, 37.11it/s]\n"
     ]
    },
    {
     "name": "stdout",
     "output_type": "stream",
     "text": [
      "Epoch: 986, loss: 35.14411562854097, f1: 0.03538925899834932, precision: 0.018017152505606867, recall: 0.9884778197485072\n",
      "val_loss: 35.144134224007985, val_f1: 0.039994402774875, val_precision: 0.020411494241412215, val_recall: 0.9852276162816844\n"
     ]
    },
    {
     "name": "stderr",
     "output_type": "stream",
     "text": [
      "100%|█████████████████████████████████████████| 655/655 [00:17<00:00, 36.45it/s]\n"
     ]
    },
    {
     "name": "stdout",
     "output_type": "stream",
     "text": [
      "Epoch: 987, loss: 35.14411560524511, f1: 0.03538925899834932, precision: 0.018017152505606867, recall: 0.9884778197485072\n",
      "val_loss: 35.14413420650937, val_f1: 0.039994402774875, val_precision: 0.020411494241412215, val_recall: 0.9852276162816844\n"
     ]
    },
    {
     "name": "stderr",
     "output_type": "stream",
     "text": [
      "100%|█████████████████████████████████████████| 655/655 [00:17<00:00, 36.50it/s]\n"
     ]
    },
    {
     "name": "stdout",
     "output_type": "stream",
     "text": [
      "Epoch: 988, loss: 35.14411559359718, f1: 0.03538925899834932, precision: 0.018017152505606867, recall: 0.9884778197485072\n",
      "val_loss: 35.14413418901076, val_f1: 0.039994402774875, val_precision: 0.020411494241412215, val_recall: 0.9852276162816844\n"
     ]
    },
    {
     "name": "stderr",
     "output_type": "stream",
     "text": [
      "100%|█████████████████████████████████████████| 655/655 [00:17<00:00, 36.45it/s]\n"
     ]
    },
    {
     "name": "stdout",
     "output_type": "stream",
     "text": [
      "Epoch: 989, loss: 35.14411557612528, f1: 0.03538925899834932, precision: 0.018017152505606867, recall: 0.9884778197485072\n",
      "val_loss: 35.14413417151215, val_f1: 0.039994402774875, val_precision: 0.020411494241412215, val_recall: 0.9852276162816844\n"
     ]
    },
    {
     "name": "stderr",
     "output_type": "stream",
     "text": [
      "100%|█████████████████████████████████████████| 655/655 [00:17<00:00, 36.58it/s]\n"
     ]
    },
    {
     "name": "stdout",
     "output_type": "stream",
     "text": [
      "Epoch: 990, loss: 35.14411551788563, f1: 0.03538925899834932, precision: 0.018017152505606867, recall: 0.9884778197485072\n",
      "val_loss: 35.14413413651493, val_f1: 0.039994402774875, val_precision: 0.020411494241412215, val_recall: 0.9852276162816844\n"
     ]
    },
    {
     "name": "stderr",
     "output_type": "stream",
     "text": [
      "100%|█████████████████████████████████████████| 655/655 [00:17<00:00, 36.49it/s]\n"
     ]
    },
    {
     "name": "stdout",
     "output_type": "stream",
     "text": [
      "Epoch: 991, loss: 35.144115506237696, f1: 0.03538925899834932, precision: 0.018017152505606867, recall: 0.9884778197485072\n",
      "val_loss: 35.144134119016314, val_f1: 0.039994402774875, val_precision: 0.020411494241412215, val_recall: 0.9852276162816844\n"
     ]
    },
    {
     "name": "stderr",
     "output_type": "stream",
     "text": [
      "100%|█████████████████████████████████████████| 655/655 [00:17<00:00, 36.91it/s]\n"
     ]
    },
    {
     "name": "stdout",
     "output_type": "stream",
     "text": [
      "Epoch: 992, loss: 35.144115488765806, f1: 0.03538925899834932, precision: 0.018017152505606867, recall: 0.9884778197485072\n",
      "val_loss: 35.1441341015177, val_f1: 0.039994402774875, val_precision: 0.020411494241412215, val_recall: 0.9852276162816844\n"
     ]
    },
    {
     "name": "stderr",
     "output_type": "stream",
     "text": [
      "100%|█████████████████████████████████████████| 655/655 [00:17<00:00, 36.54it/s]\n"
     ]
    },
    {
     "name": "stdout",
     "output_type": "stream",
     "text": [
      "Epoch: 993, loss: 35.14411547129391, f1: 0.03538925899834932, precision: 0.018017152505606867, recall: 0.9884778197485072\n",
      "val_loss: 35.1441341015177, val_f1: 0.039994402774875, val_precision: 0.020411494241412215, val_recall: 0.9852276162816844\n"
     ]
    },
    {
     "name": "stderr",
     "output_type": "stream",
     "text": [
      "100%|█████████████████████████████████████████| 655/655 [00:17<00:00, 36.51it/s]\n"
     ]
    },
    {
     "name": "stdout",
     "output_type": "stream",
     "text": [
      "Epoch: 994, loss: 35.144115465469945, f1: 0.03538925899834932, precision: 0.018017152505606867, recall: 0.9884778197485072\n",
      "val_loss: 35.14413406652048, val_f1: 0.039994402774875, val_precision: 0.020411494241412215, val_recall: 0.9852276162816844\n"
     ]
    },
    {
     "name": "stderr",
     "output_type": "stream",
     "text": [
      "100%|█████████████████████████████████████████| 655/655 [00:17<00:00, 36.59it/s]\n"
     ]
    },
    {
     "name": "stdout",
     "output_type": "stream",
     "text": [
      "Epoch: 995, loss: 35.144115459645974, f1: 0.03538925899834932, precision: 0.018017152505606867, recall: 0.9884778197485072\n",
      "val_loss: 35.14413403152326, val_f1: 0.039994402774875, val_precision: 0.020411494241412215, val_recall: 0.9852276162816844\n"
     ]
    },
    {
     "name": "stderr",
     "output_type": "stream",
     "text": [
      "100%|█████████████████████████████████████████| 655/655 [00:17<00:00, 36.60it/s]\n"
     ]
    },
    {
     "name": "stdout",
     "output_type": "stream",
     "text": [
      "Epoch: 996, loss: 35.14411544217408, f1: 0.03538925899834932, precision: 0.018017152505606867, recall: 0.9884778197485072\n",
      "val_loss: 35.14413403152326, val_f1: 0.039994402774875, val_precision: 0.020411494241412215, val_recall: 0.9852276162816844\n"
     ]
    },
    {
     "name": "stderr",
     "output_type": "stream",
     "text": [
      "100%|█████████████████████████████████████████| 655/655 [00:17<00:00, 36.55it/s]\n"
     ]
    },
    {
     "name": "stdout",
     "output_type": "stream",
     "text": [
      "Epoch: 997, loss: 35.14411543635012, f1: 0.03538925899834932, precision: 0.018017152505606867, recall: 0.9884778197485072\n",
      "val_loss: 35.14413397902742, val_f1: 0.039994402774875, val_precision: 0.020411494241412215, val_recall: 0.9852276162816844\n"
     ]
    },
    {
     "name": "stderr",
     "output_type": "stream",
     "text": [
      "100%|█████████████████████████████████████████| 655/655 [00:17<00:00, 36.61it/s]\n"
     ]
    },
    {
     "name": "stdout",
     "output_type": "stream",
     "text": [
      "Epoch: 998, loss: 35.14411543052615, f1: 0.03538925899834932, precision: 0.018017152505606867, recall: 0.9884778197485072\n",
      "val_loss: 35.144133961528816, val_f1: 0.039994402774875, val_precision: 0.020411494241412215, val_recall: 0.9852276162816844\n"
     ]
    },
    {
     "name": "stderr",
     "output_type": "stream",
     "text": [
      "100%|█████████████████████████████████████████| 655/655 [00:17<00:00, 36.69it/s]\n"
     ]
    },
    {
     "name": "stdout",
     "output_type": "stream",
     "text": [
      "Epoch: 999, loss: 35.1441153897584, f1: 0.03538925899834932, precision: 0.018017152505606867, recall: 0.9884778197485072\n",
      "val_loss: 35.1441339440302, val_f1: 0.039994402774875, val_precision: 0.020411494241412215, val_recall: 0.9852276162816844\n"
     ]
    },
    {
     "name": "stderr",
     "output_type": "stream",
     "text": [
      "100%|█████████████████████████████████████████| 655/655 [00:17<00:00, 36.58it/s]\n"
     ]
    },
    {
     "name": "stdout",
     "output_type": "stream",
     "text": [
      "Epoch: 1000, loss: 35.144115360638565, f1: 0.03538925899834932, precision: 0.018017152505606867, recall: 0.9884778197485072\n",
      "val_loss: 35.14413392653159, val_f1: 0.039994402774875, val_precision: 0.020411494241412215, val_recall: 0.9852276162816844\n"
     ]
    },
    {
     "name": "stderr",
     "output_type": "stream",
     "text": [
      "100%|█████████████████████████████████████████| 655/655 [00:17<00:00, 36.49it/s]\n"
     ]
    },
    {
     "name": "stdout",
     "output_type": "stream",
     "text": [
      "Epoch: 1001, loss: 35.144115319870814, f1: 0.03538925899834932, precision: 0.018017152505606867, recall: 0.9884778197485072\n",
      "val_loss: 35.14413392653159, val_f1: 0.039994402774875, val_precision: 0.020411494241412215, val_recall: 0.9852276162816844\n"
     ]
    },
    {
     "name": "stderr",
     "output_type": "stream",
     "text": [
      "100%|█████████████████████████████████████████| 655/655 [00:17<00:00, 36.46it/s]\n"
     ]
    },
    {
     "name": "stdout",
     "output_type": "stream",
     "text": [
      "Epoch: 1002, loss: 35.14411528492702, f1: 0.03538925899834932, precision: 0.018017152505606867, recall: 0.9884778197485072\n",
      "val_loss: 35.144133891534366, val_f1: 0.039994402774875, val_precision: 0.020411494241412215, val_recall: 0.9852276162816844\n"
     ]
    },
    {
     "name": "stderr",
     "output_type": "stream",
     "text": [
      "100%|█████████████████████████████████████████| 655/655 [00:17<00:00, 36.49it/s]\n"
     ]
    },
    {
     "name": "stdout",
     "output_type": "stream",
     "text": [
      "Epoch: 1003, loss: 35.14411527327909, f1: 0.03538925899834932, precision: 0.018017152505606867, recall: 0.9884778197485072\n",
      "val_loss: 35.14413387403576, val_f1: 0.039994402774875, val_precision: 0.020411494241412215, val_recall: 0.9852276162816844\n"
     ]
    },
    {
     "name": "stderr",
     "output_type": "stream",
     "text": [
      "100%|█████████████████████████████████████████| 655/655 [00:17<00:00, 36.48it/s]\n"
     ]
    },
    {
     "name": "stdout",
     "output_type": "stream",
     "text": [
      "Epoch: 1004, loss: 35.14411524998323, f1: 0.03538925899834932, precision: 0.018017152505606867, recall: 0.9884778197485072\n",
      "val_loss: 35.14413383903853, val_f1: 0.039994402774875, val_precision: 0.020411494241412215, val_recall: 0.9852276162816844\n"
     ]
    },
    {
     "name": "stderr",
     "output_type": "stream",
     "text": [
      "100%|█████████████████████████████████████████| 655/655 [00:17<00:00, 37.13it/s]\n"
     ]
    },
    {
     "name": "stdout",
     "output_type": "stream",
     "text": [
      "Epoch: 1005, loss: 35.14411524415926, f1: 0.03538925899834932, precision: 0.018017152505606867, recall: 0.9884778197485072\n",
      "val_loss: 35.144133821539924, val_f1: 0.039994402774875, val_precision: 0.020411494241412215, val_recall: 0.9852276162816844\n"
     ]
    },
    {
     "name": "stderr",
     "output_type": "stream",
     "text": [
      "100%|█████████████████████████████████████████| 655/655 [00:17<00:00, 36.45it/s]\n"
     ]
    },
    {
     "name": "stdout",
     "output_type": "stream",
     "text": [
      "Epoch: 1006, loss: 35.14411522668737, f1: 0.03538925899834932, precision: 0.018017152505606867, recall: 0.9884778197485072\n",
      "val_loss: 35.144133821539924, val_f1: 0.039994402774875, val_precision: 0.020411494241412215, val_recall: 0.9852276162816844\n"
     ]
    },
    {
     "name": "stderr",
     "output_type": "stream",
     "text": [
      "100%|█████████████████████████████████████████| 655/655 [00:17<00:00, 36.55it/s]\n"
     ]
    },
    {
     "name": "stdout",
     "output_type": "stream",
     "text": [
      "Epoch: 1007, loss: 35.14411520921547, f1: 0.03538925899834932, precision: 0.018017152505606867, recall: 0.9884778197485072\n",
      "val_loss: 35.14413380404131, val_f1: 0.039994402774875, val_precision: 0.020411494241412215, val_recall: 0.9852276162816844\n"
     ]
    },
    {
     "name": "stderr",
     "output_type": "stream",
     "text": [
      "100%|█████████████████████████████████████████| 655/655 [00:17<00:00, 36.46it/s]\n"
     ]
    },
    {
     "name": "stdout",
     "output_type": "stream",
     "text": [
      "Epoch: 1008, loss: 35.14411520339151, f1: 0.03538925899834932, precision: 0.018017152505606867, recall: 0.9884778197485072\n",
      "val_loss: 35.14413376904409, val_f1: 0.039994402774875, val_precision: 0.020411494241412215, val_recall: 0.9852276162816844\n"
     ]
    },
    {
     "name": "stderr",
     "output_type": "stream",
     "text": [
      "100%|█████████████████████████████████████████| 655/655 [00:17<00:00, 36.60it/s]\n"
     ]
    },
    {
     "name": "stdout",
     "output_type": "stream",
     "text": [
      "Epoch: 1009, loss: 35.14411518591961, f1: 0.03538925899834932, precision: 0.018017152505606867, recall: 0.9884778197485072\n",
      "val_loss: 35.144133751545475, val_f1: 0.039994402774875, val_precision: 0.020411494241412215, val_recall: 0.9852276162816844\n"
     ]
    },
    {
     "name": "stderr",
     "output_type": "stream",
     "text": [
      "100%|█████████████████████████████████████████| 655/655 [00:17<00:00, 36.47it/s]\n"
     ]
    },
    {
     "name": "stdout",
     "output_type": "stream",
     "text": [
      "Epoch: 1010, loss: 35.144115180095646, f1: 0.03538925899834932, precision: 0.018017152505606867, recall: 0.9884778197485072\n",
      "val_loss: 35.14413373404687, val_f1: 0.039994402774875, val_precision: 0.020411494241412215, val_recall: 0.9852276162816844\n"
     ]
    },
    {
     "name": "stderr",
     "output_type": "stream",
     "text": [
      "100%|█████████████████████████████████████████| 655/655 [00:17<00:00, 37.03it/s]\n"
     ]
    },
    {
     "name": "stdout",
     "output_type": "stream",
     "text": [
      "Epoch: 1011, loss: 35.144115156799785, f1: 0.03538925899834932, precision: 0.018017152505606867, recall: 0.9884778197485072\n",
      "val_loss: 35.14413373404687, val_f1: 0.039994402774875, val_precision: 0.020411494241412215, val_recall: 0.9852276162816844\n"
     ]
    },
    {
     "name": "stderr",
     "output_type": "stream",
     "text": [
      "100%|█████████████████████████████████████████| 655/655 [00:17<00:00, 36.55it/s]\n"
     ]
    },
    {
     "name": "stdout",
     "output_type": "stream",
     "text": [
      "Epoch: 1012, loss: 35.144115133503924, f1: 0.03538925899834932, precision: 0.018017152505606867, recall: 0.9884778197485072\n",
      "val_loss: 35.14413369904965, val_f1: 0.039994402774875, val_precision: 0.020411494241412215, val_recall: 0.9852276162816844\n"
     ]
    },
    {
     "name": "stderr",
     "output_type": "stream",
     "text": [
      "100%|█████████████████████████████████████████| 655/655 [00:17<00:00, 36.59it/s]\n"
     ]
    },
    {
     "name": "stdout",
     "output_type": "stream",
     "text": [
      "Epoch: 1013, loss: 35.14411512767995, f1: 0.03538925899834932, precision: 0.018017152505606867, recall: 0.9884778197485072\n",
      "val_loss: 35.14413368155103, val_f1: 0.039994402774875, val_precision: 0.020411494241412215, val_recall: 0.9852276162816844\n"
     ]
    },
    {
     "name": "stderr",
     "output_type": "stream",
     "text": [
      "100%|█████████████████████████████████████████| 655/655 [00:17<00:00, 36.53it/s]\n"
     ]
    },
    {
     "name": "stdout",
     "output_type": "stream",
     "text": [
      "Epoch: 1014, loss: 35.14411511020806, f1: 0.03538925899834932, precision: 0.018017152505606867, recall: 0.9884778197485072\n",
      "val_loss: 35.14413368155103, val_f1: 0.039994402774875, val_precision: 0.020411494241412215, val_recall: 0.9852276162816844\n"
     ]
    },
    {
     "name": "stderr",
     "output_type": "stream",
     "text": [
      "100%|█████████████████████████████████████████| 655/655 [00:17<00:00, 36.54it/s]\n"
     ]
    },
    {
     "name": "stdout",
     "output_type": "stream",
     "text": [
      "Epoch: 1015, loss: 35.14411511020806, f1: 0.03538925899834932, precision: 0.018017152505606867, recall: 0.9884778197485072\n",
      "val_loss: 35.14413366405242, val_f1: 0.039994402774875, val_precision: 0.020411494241412215, val_recall: 0.9852276162816844\n"
     ]
    },
    {
     "name": "stderr",
     "output_type": "stream",
     "text": [
      "100%|█████████████████████████████████████████| 655/655 [00:17<00:00, 36.50it/s]\n"
     ]
    },
    {
     "name": "stdout",
     "output_type": "stream",
     "text": [
      "Epoch: 1016, loss: 35.14411510438409, f1: 0.03538925899834932, precision: 0.018017152505606867, recall: 0.9884778197485072\n",
      "val_loss: 35.1441336290552, val_f1: 0.039994402774875, val_precision: 0.020411494241412215, val_recall: 0.9852276162816844\n"
     ]
    },
    {
     "name": "stderr",
     "output_type": "stream",
     "text": [
      "100%|█████████████████████████████████████████| 655/655 [00:17<00:00, 36.81it/s]\n"
     ]
    },
    {
     "name": "stdout",
     "output_type": "stream",
     "text": [
      "Epoch: 1017, loss: 35.1441150869122, f1: 0.03538925899834932, precision: 0.018017152505606867, recall: 0.9884778197485072\n",
      "val_loss: 35.14413361155659, val_f1: 0.039994402774875, val_precision: 0.020411494241412215, val_recall: 0.9852276162816844\n"
     ]
    },
    {
     "name": "stderr",
     "output_type": "stream",
     "text": [
      "100%|█████████████████████████████████████████| 655/655 [00:17<00:00, 36.51it/s]\n"
     ]
    },
    {
     "name": "stdout",
     "output_type": "stream",
     "text": [
      "Epoch: 1018, loss: 35.14411505779237, f1: 0.03538925899834932, precision: 0.018017152505606867, recall: 0.9884778197485072\n",
      "val_loss: 35.144133594057976, val_f1: 0.039994402774875, val_precision: 0.020411494241412215, val_recall: 0.9852276162816844\n"
     ]
    },
    {
     "name": "stderr",
     "output_type": "stream",
     "text": [
      "100%|█████████████████████████████████████████| 655/655 [00:17<00:00, 36.46it/s]\n"
     ]
    },
    {
     "name": "stdout",
     "output_type": "stream",
     "text": [
      "Epoch: 1019, loss: 35.14411505779237, f1: 0.03538925899834932, precision: 0.018017152505606867, recall: 0.9884778197485072\n",
      "val_loss: 35.144133594057976, val_f1: 0.039994402774875, val_precision: 0.020411494241412215, val_recall: 0.9852276162816844\n"
     ]
    },
    {
     "name": "stderr",
     "output_type": "stream",
     "text": [
      "100%|█████████████████████████████████████████| 655/655 [00:17<00:00, 36.54it/s]\n"
     ]
    },
    {
     "name": "stdout",
     "output_type": "stream",
     "text": [
      "Epoch: 1020, loss: 35.144115051968406, f1: 0.03538925899834932, precision: 0.018017152505606867, recall: 0.9884778197485072\n",
      "val_loss: 35.144133559060755, val_f1: 0.039994402774875, val_precision: 0.020411494241412215, val_recall: 0.9852276162816844\n"
     ]
    },
    {
     "name": "stderr",
     "output_type": "stream",
     "text": [
      "100%|█████████████████████████████████████████| 655/655 [00:17<00:00, 36.53it/s]\n"
     ]
    },
    {
     "name": "stdout",
     "output_type": "stream",
     "text": [
      "Epoch: 1021, loss: 35.14411504614444, f1: 0.03538925899834932, precision: 0.018017152505606867, recall: 0.9884778197485072\n",
      "val_loss: 35.14413352406353, val_f1: 0.039994402774875, val_precision: 0.020411494241412215, val_recall: 0.9852276162816844\n"
     ]
    },
    {
     "name": "stderr",
     "output_type": "stream",
     "text": [
      "100%|█████████████████████████████████████████| 655/655 [00:17<00:00, 36.49it/s]\n"
     ]
    },
    {
     "name": "stdout",
     "output_type": "stream",
     "text": [
      "Epoch: 1022, loss: 35.14411503449651, f1: 0.03538925899834932, precision: 0.018017152505606867, recall: 0.9884778197485072\n",
      "val_loss: 35.14413352406353, val_f1: 0.039994402774875, val_precision: 0.020411494241412215, val_recall: 0.9852276162816844\n"
     ]
    },
    {
     "name": "stderr",
     "output_type": "stream",
     "text": [
      "100%|█████████████████████████████████████████| 655/655 [00:17<00:00, 36.66it/s]\n"
     ]
    },
    {
     "name": "stdout",
     "output_type": "stream",
     "text": [
      "Epoch: 1023, loss: 35.14411501702462, f1: 0.03538925899834932, precision: 0.018017152505606867, recall: 0.9884778197485072\n",
      "val_loss: 35.14413350656492, val_f1: 0.039994402774875, val_precision: 0.020411494241412215, val_recall: 0.9852276162816844\n"
     ]
    },
    {
     "name": "stderr",
     "output_type": "stream",
     "text": [
      "100%|█████████████████████████████████████████| 655/655 [00:17<00:00, 36.77it/s]\n"
     ]
    },
    {
     "name": "stdout",
     "output_type": "stream",
     "text": [
      "Epoch: 1024, loss: 35.14411501120065, f1: 0.03538925899834932, precision: 0.018017152505606867, recall: 0.9884778197485072\n",
      "val_loss: 35.1441334715677, val_f1: 0.039994402774875, val_precision: 0.020411494241412215, val_recall: 0.9852276162816844\n"
     ]
    },
    {
     "name": "stderr",
     "output_type": "stream",
     "text": [
      "100%|█████████████████████████████████████████| 655/655 [00:17<00:00, 36.59it/s]\n"
     ]
    },
    {
     "name": "stdout",
     "output_type": "stream",
     "text": [
      "Epoch: 1025, loss: 35.14411498208082, f1: 0.03538925899834932, precision: 0.018017152505606867, recall: 0.9884778197485072\n",
      "val_loss: 35.1441334715677, val_f1: 0.039994402774875, val_precision: 0.020411494241412215, val_recall: 0.9852276162816844\n"
     ]
    },
    {
     "name": "stderr",
     "output_type": "stream",
     "text": [
      "100%|█████████████████████████████████████████| 655/655 [00:17<00:00, 36.64it/s]\n"
     ]
    },
    {
     "name": "stdout",
     "output_type": "stream",
     "text": [
      "Epoch: 1026, loss: 35.144114970432895, f1: 0.03538925899834932, precision: 0.018017152505606867, recall: 0.9884778197485072\n",
      "val_loss: 35.144133454069085, val_f1: 0.039994402774875, val_precision: 0.020411494241412215, val_recall: 0.9852276162816844\n"
     ]
    },
    {
     "name": "stderr",
     "output_type": "stream",
     "text": [
      "100%|█████████████████████████████████████████| 655/655 [00:17<00:00, 36.51it/s]\n"
     ]
    },
    {
     "name": "stdout",
     "output_type": "stream",
     "text": [
      "Epoch: 1027, loss: 35.14411495878496, f1: 0.03538925899834932, precision: 0.018017152505606867, recall: 0.9884778197485072\n",
      "val_loss: 35.14413343657047, val_f1: 0.039994402774875, val_precision: 0.020411494241412215, val_recall: 0.9852276162816844\n"
     ]
    },
    {
     "name": "stderr",
     "output_type": "stream",
     "text": [
      "100%|█████████████████████████████████████████| 655/655 [00:17<00:00, 36.59it/s]\n"
     ]
    },
    {
     "name": "stdout",
     "output_type": "stream",
     "text": [
      "Epoch: 1028, loss: 35.144114952961, f1: 0.03538925899834932, precision: 0.018017152505606867, recall: 0.9884778197485072\n",
      "val_loss: 35.14413341907186, val_f1: 0.039994402774875, val_precision: 0.020411494241412215, val_recall: 0.9852276162816844\n"
     ]
    },
    {
     "name": "stderr",
     "output_type": "stream",
     "text": [
      "100%|█████████████████████████████████████████| 655/655 [00:17<00:00, 36.65it/s]\n"
     ]
    },
    {
     "name": "stdout",
     "output_type": "stream",
     "text": [
      "Epoch: 1029, loss: 35.144114947137034, f1: 0.03538925899834932, precision: 0.018017152505606867, recall: 0.9884778197485072\n",
      "val_loss: 35.14413340157325, val_f1: 0.039994402774875, val_precision: 0.020411494241412215, val_recall: 0.9852276162816844\n"
     ]
    },
    {
     "name": "stderr",
     "output_type": "stream",
     "text": [
      "100%|█████████████████████████████████████████| 655/655 [00:17<00:00, 37.21it/s]\n"
     ]
    },
    {
     "name": "stdout",
     "output_type": "stream",
     "text": [
      "Epoch: 1030, loss: 35.1441149354891, f1: 0.03538925899834932, precision: 0.018017152505606867, recall: 0.9884778197485072\n",
      "val_loss: 35.14413338407464, val_f1: 0.039994402774875, val_precision: 0.020411494241412215, val_recall: 0.9852276162816844\n"
     ]
    },
    {
     "name": "stderr",
     "output_type": "stream",
     "text": [
      "100%|█████████████████████████████████████████| 655/655 [00:17<00:00, 36.58it/s]\n"
     ]
    },
    {
     "name": "stdout",
     "output_type": "stream",
     "text": [
      "Epoch: 1031, loss: 35.1441149180172, f1: 0.03538925899834932, precision: 0.018017152505606867, recall: 0.9884778197485072\n",
      "val_loss: 35.14413338407464, val_f1: 0.039994402774875, val_precision: 0.020411494241412215, val_recall: 0.9852276162816844\n"
     ]
    },
    {
     "name": "stderr",
     "output_type": "stream",
     "text": [
      "100%|█████████████████████████████████████████| 655/655 [00:17<00:00, 36.45it/s]\n"
     ]
    },
    {
     "name": "stdout",
     "output_type": "stream",
     "text": [
      "Epoch: 1032, loss: 35.144114906369275, f1: 0.03538925899834932, precision: 0.018017152505606867, recall: 0.9884778197485072\n",
      "val_loss: 35.14413336657603, val_f1: 0.039994402774875, val_precision: 0.020411494241412215, val_recall: 0.9852276162816844\n"
     ]
    },
    {
     "name": "stderr",
     "output_type": "stream",
     "text": [
      "100%|█████████████████████████████████████████| 655/655 [00:17<00:00, 36.49it/s]\n"
     ]
    },
    {
     "name": "stdout",
     "output_type": "stream",
     "text": [
      "Epoch: 1033, loss: 35.14411487724945, f1: 0.03538925899834932, precision: 0.018017152505606867, recall: 0.9884778197485072\n",
      "val_loss: 35.144133349077414, val_f1: 0.039994402774875, val_precision: 0.020411494241412215, val_recall: 0.9852276162816844\n"
     ]
    },
    {
     "name": "stderr",
     "output_type": "stream",
     "text": [
      "100%|█████████████████████████████████████████| 655/655 [00:17<00:00, 36.50it/s]\n"
     ]
    },
    {
     "name": "stdout",
     "output_type": "stream",
     "text": [
      "Epoch: 1034, loss: 35.144114865601516, f1: 0.03538925899834932, precision: 0.018017152505606867, recall: 0.9884778197485072\n",
      "val_loss: 35.14413331408019, val_f1: 0.039994402774875, val_precision: 0.020411494241412215, val_recall: 0.9852276162816844\n"
     ]
    },
    {
     "name": "stderr",
     "output_type": "stream",
     "text": [
      "100%|█████████████████████████████████████████| 655/655 [00:17<00:00, 36.55it/s]\n"
     ]
    },
    {
     "name": "stdout",
     "output_type": "stream",
     "text": [
      "Epoch: 1035, loss: 35.144114865601516, f1: 0.03538925899834932, precision: 0.018017152505606867, recall: 0.9884778197485072\n",
      "val_loss: 35.14413327908297, val_f1: 0.039994402774875, val_precision: 0.020411494241412215, val_recall: 0.9852276162816844\n"
     ]
    },
    {
     "name": "stderr",
     "output_type": "stream",
     "text": [
      "100%|█████████████████████████████████████████| 655/655 [00:17<00:00, 36.77it/s]\n"
     ]
    },
    {
     "name": "stdout",
     "output_type": "stream",
     "text": [
      "Epoch: 1036, loss: 35.144114842305655, f1: 0.03538925899834932, precision: 0.018017152505606867, recall: 0.9884778197485072\n",
      "val_loss: 35.14413326158436, val_f1: 0.039994402774875, val_precision: 0.020411494241412215, val_recall: 0.9852276162816844\n"
     ]
    },
    {
     "name": "stderr",
     "output_type": "stream",
     "text": [
      "100%|█████████████████████████████████████████| 655/655 [00:17<00:00, 36.60it/s]\n"
     ]
    },
    {
     "name": "stdout",
     "output_type": "stream",
     "text": [
      "Epoch: 1037, loss: 35.14411483065773, f1: 0.03538925899834932, precision: 0.018017152505606867, recall: 0.9884778197485072\n",
      "val_loss: 35.14413324408575, val_f1: 0.039994402774875, val_precision: 0.020411494241412215, val_recall: 0.9852276162816844\n"
     ]
    },
    {
     "name": "stderr",
     "output_type": "stream",
     "text": [
      "100%|█████████████████████████████████████████| 655/655 [00:17<00:00, 36.59it/s]\n"
     ]
    },
    {
     "name": "stdout",
     "output_type": "stream",
     "text": [
      "Epoch: 1038, loss: 35.1441148015379, f1: 0.03538925899834932, precision: 0.018017152505606867, recall: 0.9884778197485072\n",
      "val_loss: 35.14413322658714, val_f1: 0.039994402774875, val_precision: 0.020411494241412215, val_recall: 0.9852276162816844\n"
     ]
    },
    {
     "name": "stderr",
     "output_type": "stream",
     "text": [
      "100%|█████████████████████████████████████████| 655/655 [00:17<00:00, 36.52it/s]\n"
     ]
    },
    {
     "name": "stdout",
     "output_type": "stream",
     "text": [
      "Epoch: 1039, loss: 35.14411479571393, f1: 0.03538925899834932, precision: 0.018017152505606867, recall: 0.9884778197485072\n",
      "val_loss: 35.14413320908853, val_f1: 0.039994402774875, val_precision: 0.020411494241412215, val_recall: 0.9852276162816844\n"
     ]
    },
    {
     "name": "stderr",
     "output_type": "stream",
     "text": [
      "100%|█████████████████████████████████████████| 655/655 [00:17<00:00, 36.47it/s]\n"
     ]
    },
    {
     "name": "stdout",
     "output_type": "stream",
     "text": [
      "Epoch: 1040, loss: 35.144114784066005, f1: 0.03538925899834932, precision: 0.018017152505606867, recall: 0.9884778197485072\n",
      "val_loss: 35.144133191589916, val_f1: 0.039994402774875, val_precision: 0.020411494241412215, val_recall: 0.9852276162816844\n"
     ]
    },
    {
     "name": "stderr",
     "output_type": "stream",
     "text": [
      "100%|█████████████████████████████████████████| 655/655 [00:17<00:00, 36.63it/s]\n"
     ]
    },
    {
     "name": "stdout",
     "output_type": "stream",
     "text": [
      "Epoch: 1041, loss: 35.14411477824204, f1: 0.03538925899834932, precision: 0.018017152505606867, recall: 0.9884778197485072\n",
      "val_loss: 35.144133191589916, val_f1: 0.039994402774875, val_precision: 0.020411494241412215, val_recall: 0.9852276162816844\n"
     ]
    },
    {
     "name": "stderr",
     "output_type": "stream",
     "text": [
      "100%|█████████████████████████████████████████| 655/655 [00:17<00:00, 36.69it/s]\n"
     ]
    },
    {
     "name": "stdout",
     "output_type": "stream",
     "text": [
      "Epoch: 1042, loss: 35.14411476659411, f1: 0.03538925899834932, precision: 0.018017152505606867, recall: 0.9884778197485072\n",
      "val_loss: 35.1441331740913, val_f1: 0.039994402774875, val_precision: 0.020411494241412215, val_recall: 0.9852276162816844\n"
     ]
    },
    {
     "name": "stderr",
     "output_type": "stream",
     "text": [
      "100%|█████████████████████████████████████████| 655/655 [00:17<00:00, 36.68it/s]\n"
     ]
    },
    {
     "name": "stdout",
     "output_type": "stream",
     "text": [
      "Epoch: 1043, loss: 35.144114760770144, f1: 0.03538925899834932, precision: 0.018017152505606867, recall: 0.9884778197485072\n",
      "val_loss: 35.14413313909408, val_f1: 0.039994402774875, val_precision: 0.020411494241412215, val_recall: 0.9852276162816844\n"
     ]
    },
    {
     "name": "stderr",
     "output_type": "stream",
     "text": [
      "100%|█████████████████████████████████████████| 655/655 [00:17<00:00, 36.52it/s]\n"
     ]
    },
    {
     "name": "stdout",
     "output_type": "stream",
     "text": [
      "Epoch: 1044, loss: 35.144114743298246, f1: 0.03538925899834932, precision: 0.018017152505606867, recall: 0.9884778197485072\n",
      "val_loss: 35.14413310409686, val_f1: 0.039994402774875, val_precision: 0.020411494241412215, val_recall: 0.9852276162816844\n"
     ]
    },
    {
     "name": "stderr",
     "output_type": "stream",
     "text": [
      "100%|█████████████████████████████████████████| 655/655 [00:17<00:00, 36.56it/s]\n"
     ]
    },
    {
     "name": "stdout",
     "output_type": "stream",
     "text": [
      "Epoch: 1045, loss: 35.14411472582635, f1: 0.03538925899834932, precision: 0.018017152505606867, recall: 0.9884778197485072\n",
      "val_loss: 35.144133086598245, val_f1: 0.039994402774875, val_precision: 0.020411494241412215, val_recall: 0.9852276162816844\n"
     ]
    },
    {
     "name": "stderr",
     "output_type": "stream",
     "text": [
      "100%|█████████████████████████████████████████| 655/655 [00:17<00:00, 36.63it/s]\n"
     ]
    },
    {
     "name": "stdout",
     "output_type": "stream",
     "text": [
      "Epoch: 1046, loss: 35.14411462681894, f1: 0.03538925899834932, precision: 0.018017152505606867, recall: 0.9884778197485072\n",
      "val_loss: 35.14413306909964, val_f1: 0.039994402774875, val_precision: 0.020411494241412215, val_recall: 0.9852276162816844\n"
     ]
    },
    {
     "name": "stderr",
     "output_type": "stream",
     "text": [
      "100%|█████████████████████████████████████████| 655/655 [00:17<00:00, 36.59it/s]\n"
     ]
    },
    {
     "name": "stdout",
     "output_type": "stream",
     "text": [
      "Epoch: 1047, loss: 35.14411461517101, f1: 0.03538925899834932, precision: 0.018017152505606867, recall: 0.9884778197485072\n",
      "val_loss: 35.14413306909964, val_f1: 0.039994402774875, val_precision: 0.020411494241412215, val_recall: 0.9852276162816844\n"
     ]
    },
    {
     "name": "stderr",
     "output_type": "stream",
     "text": [
      "100%|█████████████████████████████████████████| 655/655 [00:17<00:00, 36.52it/s]\n"
     ]
    },
    {
     "name": "stdout",
     "output_type": "stream",
     "text": [
      "Epoch: 1048, loss: 35.14411460934704, f1: 0.03538925899834932, precision: 0.018017152505606867, recall: 0.9884778197485072\n",
      "val_loss: 35.144133051601024, val_f1: 0.039994402774875, val_precision: 0.020411494241412215, val_recall: 0.9852276162816844\n"
     ]
    },
    {
     "name": "stderr",
     "output_type": "stream",
     "text": [
      "100%|█████████████████████████████████████████| 655/655 [00:17<00:00, 36.93it/s]\n"
     ]
    },
    {
     "name": "stdout",
     "output_type": "stream",
     "text": [
      "Epoch: 1049, loss: 35.144114597699115, f1: 0.03538925899834932, precision: 0.018017152505606867, recall: 0.9884778197485072\n",
      "val_loss: 35.1441330166038, val_f1: 0.039994402774875, val_precision: 0.020411494241412215, val_recall: 0.9852276162816844\n"
     ]
    },
    {
     "name": "stderr",
     "output_type": "stream",
     "text": [
      "100%|█████████████████████████████████████████| 655/655 [00:17<00:00, 36.58it/s]\n"
     ]
    },
    {
     "name": "stdout",
     "output_type": "stream",
     "text": [
      "Epoch: 1050, loss: 35.144114597699115, f1: 0.03538925899834932, precision: 0.018017152505606867, recall: 0.9884778197485072\n",
      "val_loss: 35.1441330166038, val_f1: 0.039994402774875, val_precision: 0.020411494241412215, val_recall: 0.9852276162816844\n"
     ]
    },
    {
     "name": "stderr",
     "output_type": "stream",
     "text": [
      "100%|█████████████████████████████████████████| 655/655 [00:17<00:00, 36.47it/s]\n"
     ]
    },
    {
     "name": "stdout",
     "output_type": "stream",
     "text": [
      "Epoch: 1051, loss: 35.14411456857929, f1: 0.03538925899834932, precision: 0.018017152505606867, recall: 0.9884778197485072\n",
      "val_loss: 35.14413299910519, val_f1: 0.039994402774875, val_precision: 0.020411494241412215, val_recall: 0.9852276162816844\n"
     ]
    },
    {
     "name": "stderr",
     "output_type": "stream",
     "text": [
      "100%|█████████████████████████████████████████| 655/655 [00:17<00:00, 36.56it/s]\n"
     ]
    },
    {
     "name": "stdout",
     "output_type": "stream",
     "text": [
      "Epoch: 1052, loss: 35.14411454528343, f1: 0.03538925899834932, precision: 0.018017152505606867, recall: 0.9884778197485072\n",
      "val_loss: 35.14413299910519, val_f1: 0.039994402774875, val_precision: 0.020411494241412215, val_recall: 0.9852276162816844\n"
     ]
    },
    {
     "name": "stderr",
     "output_type": "stream",
     "text": [
      "100%|█████████████████████████████████████████| 655/655 [00:17<00:00, 36.57it/s]\n"
     ]
    },
    {
     "name": "stdout",
     "output_type": "stream",
     "text": [
      "Epoch: 1053, loss: 35.14411454528343, f1: 0.03538925899834932, precision: 0.018017152505606867, recall: 0.9884778197485072\n",
      "val_loss: 35.14413298160658, val_f1: 0.039994402774875, val_precision: 0.020411494241412215, val_recall: 0.9852276162816844\n"
     ]
    },
    {
     "name": "stderr",
     "output_type": "stream",
     "text": [
      "100%|█████████████████████████████████████████| 655/655 [00:17<00:00, 36.58it/s]\n"
     ]
    },
    {
     "name": "stdout",
     "output_type": "stream",
     "text": [
      "Epoch: 1054, loss: 35.14411453945946, f1: 0.03538925899834932, precision: 0.018017152505606867, recall: 0.9884778197485072\n",
      "val_loss: 35.14413292911075, val_f1: 0.039994402774875, val_precision: 0.020411494241412215, val_recall: 0.9852276162816844\n"
     ]
    },
    {
     "name": "stderr",
     "output_type": "stream",
     "text": [
      "100%|█████████████████████████████████████████| 655/655 [00:17<00:00, 37.41it/s]\n"
     ]
    },
    {
     "name": "stdout",
     "output_type": "stream",
     "text": [
      "Epoch: 1055, loss: 35.14411452198757, f1: 0.03538925899834932, precision: 0.018017152505606867, recall: 0.9884778197485072\n",
      "val_loss: 35.14413287661491, val_f1: 0.039994402774875, val_precision: 0.020411494241412215, val_recall: 0.9852276162816844\n"
     ]
    },
    {
     "name": "stderr",
     "output_type": "stream",
     "text": [
      "100%|█████████████████████████████████████████| 655/655 [00:17<00:00, 36.67it/s]\n"
     ]
    },
    {
     "name": "stdout",
     "output_type": "stream",
     "text": [
      "Epoch: 1056, loss: 35.1441145161636, f1: 0.03538925899834932, precision: 0.018017152505606867, recall: 0.9884778197485072\n",
      "val_loss: 35.14413284161769, val_f1: 0.039994402774875, val_precision: 0.020411494241412215, val_recall: 0.9852276162816844\n"
     ]
    },
    {
     "name": "stderr",
     "output_type": "stream",
     "text": [
      "100%|█████████████████████████████████████████| 655/655 [00:17<00:00, 36.50it/s]\n"
     ]
    },
    {
     "name": "stdout",
     "output_type": "stream",
     "text": [
      "Epoch: 1057, loss: 35.14411450451567, f1: 0.03538925899834932, precision: 0.018017152505606867, recall: 0.9884778197485072\n",
      "val_loss: 35.14413284161769, val_f1: 0.039994402774875, val_precision: 0.020411494241412215, val_recall: 0.9852276162816844\n"
     ]
    },
    {
     "name": "stderr",
     "output_type": "stream",
     "text": [
      "100%|█████████████████████████████████████████| 655/655 [00:17<00:00, 36.57it/s]\n"
     ]
    },
    {
     "name": "stdout",
     "output_type": "stream",
     "text": [
      "Epoch: 1058, loss: 35.144114475395845, f1: 0.03538925899834932, precision: 0.018017152505606867, recall: 0.9884778197485072\n",
      "val_loss: 35.14413284161769, val_f1: 0.039994402774875, val_precision: 0.020411494241412215, val_recall: 0.9852276162816844\n"
     ]
    },
    {
     "name": "stderr",
     "output_type": "stream",
     "text": [
      "100%|█████████████████████████████████████████| 655/655 [00:17<00:00, 36.52it/s]\n"
     ]
    },
    {
     "name": "stdout",
     "output_type": "stream",
     "text": [
      "Epoch: 1059, loss: 35.14411446374791, f1: 0.03538925899834932, precision: 0.018017152505606867, recall: 0.9884778197485072\n",
      "val_loss: 35.144132824119076, val_f1: 0.039994402774875, val_precision: 0.020411494241412215, val_recall: 0.9852276162816844\n"
     ]
    },
    {
     "name": "stderr",
     "output_type": "stream",
     "text": [
      "100%|█████████████████████████████████████████| 655/655 [00:17<00:00, 36.58it/s]\n"
     ]
    },
    {
     "name": "stdout",
     "output_type": "stream",
     "text": [
      "Epoch: 1060, loss: 35.14411446374791, f1: 0.03538925899834932, precision: 0.018017152505606867, recall: 0.9884778197485072\n",
      "val_loss: 35.144132789121855, val_f1: 0.039994402774875, val_precision: 0.020411494241412215, val_recall: 0.9852276162816844\n"
     ]
    },
    {
     "name": "stderr",
     "output_type": "stream",
     "text": [
      "100%|█████████████████████████████████████████| 655/655 [00:17<00:00, 36.81it/s]\n"
     ]
    },
    {
     "name": "stdout",
     "output_type": "stream",
     "text": [
      "Epoch: 1061, loss: 35.14411444627601, f1: 0.03538925899834932, precision: 0.018017152505606867, recall: 0.9884778197485072\n",
      "val_loss: 35.14413277162324, val_f1: 0.039994402774875, val_precision: 0.020411494241412215, val_recall: 0.9852276162816844\n"
     ]
    },
    {
     "name": "stderr",
     "output_type": "stream",
     "text": [
      "100%|█████████████████████████████████████████| 655/655 [00:17<00:00, 36.55it/s]\n"
     ]
    },
    {
     "name": "stdout",
     "output_type": "stream",
     "text": [
      "Epoch: 1062, loss: 35.14411443462809, f1: 0.03538925899834932, precision: 0.018017152505606867, recall: 0.9884778197485072\n",
      "val_loss: 35.144132754124634, val_f1: 0.039994402774875, val_precision: 0.020411494241412215, val_recall: 0.9852276162816844\n"
     ]
    },
    {
     "name": "stderr",
     "output_type": "stream",
     "text": [
      "100%|█████████████████████████████████████████| 655/655 [00:17<00:00, 36.55it/s]\n"
     ]
    },
    {
     "name": "stdout",
     "output_type": "stream",
     "text": [
      "Epoch: 1063, loss: 35.14411442298015, f1: 0.03538925899834932, precision: 0.018017152505606867, recall: 0.9884778197485072\n",
      "val_loss: 35.14413273662602, val_f1: 0.039994402774875, val_precision: 0.020411494241412215, val_recall: 0.9852276162816844\n"
     ]
    },
    {
     "name": "stderr",
     "output_type": "stream",
     "text": [
      "100%|█████████████████████████████████████████| 655/655 [00:17<00:00, 36.46it/s]\n"
     ]
    },
    {
     "name": "stdout",
     "output_type": "stream",
     "text": [
      "Epoch: 1064, loss: 35.14411442298015, f1: 0.03538925899834932, precision: 0.018017152505606867, recall: 0.9884778197485072\n",
      "val_loss: 35.14413273662602, val_f1: 0.039994402774875, val_precision: 0.020411494241412215, val_recall: 0.9852276162816844\n"
     ]
    },
    {
     "name": "stderr",
     "output_type": "stream",
     "text": [
      "100%|█████████████████████████████████████████| 655/655 [00:17<00:00, 36.50it/s]\n"
     ]
    },
    {
     "name": "stdout",
     "output_type": "stream",
     "text": [
      "Epoch: 1065, loss: 35.14411439968429, f1: 0.03538925899834932, precision: 0.018017152505606867, recall: 0.9884778197485072\n",
      "val_loss: 35.14413271912741, val_f1: 0.039994402774875, val_precision: 0.020411494241412215, val_recall: 0.9852276162816844\n"
     ]
    },
    {
     "name": "stderr",
     "output_type": "stream",
     "text": [
      "100%|█████████████████████████████████████████| 655/655 [00:17<00:00, 36.55it/s]\n"
     ]
    },
    {
     "name": "stdout",
     "output_type": "stream",
     "text": [
      "Epoch: 1066, loss: 35.14411434144464, f1: 0.03538925899834932, precision: 0.018017152505606867, recall: 0.9884778197485072\n",
      "val_loss: 35.1441327016288, val_f1: 0.039994402774875, val_precision: 0.020411494241412215, val_recall: 0.9852276162816844\n"
     ]
    },
    {
     "name": "stderr",
     "output_type": "stream",
     "text": [
      "100%|█████████████████████████████████████████| 655/655 [00:17<00:00, 36.73it/s]\n"
     ]
    },
    {
     "name": "stdout",
     "output_type": "stream",
     "text": [
      "Epoch: 1067, loss: 35.144114329796714, f1: 0.03538925899834932, precision: 0.018017152505606867, recall: 0.9884778197485072\n",
      "val_loss: 35.144132684130184, val_f1: 0.039994402774875, val_precision: 0.020411494241412215, val_recall: 0.9852276162816844\n"
     ]
    },
    {
     "name": "stderr",
     "output_type": "stream",
     "text": [
      "100%|█████████████████████████████████████████| 655/655 [00:17<00:00, 36.63it/s]\n"
     ]
    },
    {
     "name": "stdout",
     "output_type": "stream",
     "text": [
      "Epoch: 1068, loss: 35.14411431232482, f1: 0.03538925899834932, precision: 0.018017152505606867, recall: 0.9884778197485072\n",
      "val_loss: 35.14413266663158, val_f1: 0.039994402774875, val_precision: 0.020411494241412215, val_recall: 0.9852276162816844\n"
     ]
    },
    {
     "name": "stderr",
     "output_type": "stream",
     "text": [
      "100%|█████████████████████████████████████████| 655/655 [00:17<00:00, 36.47it/s]\n"
     ]
    },
    {
     "name": "stdout",
     "output_type": "stream",
     "text": [
      "Epoch: 1069, loss: 35.14411431232482, f1: 0.03538925899834932, precision: 0.018017152505606867, recall: 0.9884778197485072\n",
      "val_loss: 35.14413259663713, val_f1: 0.039994402774875, val_precision: 0.020411494241412215, val_recall: 0.9852276162816844\n"
     ]
    },
    {
     "name": "stderr",
     "output_type": "stream",
     "text": [
      "100%|█████████████████████████████████████████| 655/655 [00:17<00:00, 36.51it/s]\n"
     ]
    },
    {
     "name": "stdout",
     "output_type": "stream",
     "text": [
      "Epoch: 1070, loss: 35.14411430067688, f1: 0.03538925899834932, precision: 0.018017152505606867, recall: 0.9884778197485072\n",
      "val_loss: 35.14413257913852, val_f1: 0.039994402774875, val_precision: 0.020411494241412215, val_recall: 0.9852276162816844\n"
     ]
    },
    {
     "name": "stderr",
     "output_type": "stream",
     "text": [
      "100%|█████████████████████████████████████████| 655/655 [00:17<00:00, 36.52it/s]\n"
     ]
    },
    {
     "name": "stdout",
     "output_type": "stream",
     "text": [
      "Epoch: 1071, loss: 35.14411429485292, f1: 0.03538925899834932, precision: 0.018017152505606867, recall: 0.9884778197485072\n",
      "val_loss: 35.14413256163991, val_f1: 0.039994402774875, val_precision: 0.020411494241412215, val_recall: 0.9852276162816844\n"
     ]
    },
    {
     "name": "stderr",
     "output_type": "stream",
     "text": [
      "100%|█████████████████████████████████████████| 655/655 [00:17<00:00, 36.55it/s]\n"
     ]
    },
    {
     "name": "stdout",
     "output_type": "stream",
     "text": [
      "Epoch: 1072, loss: 35.14411427738102, f1: 0.03538925899834932, precision: 0.018017152505606867, recall: 0.9884778197485072\n",
      "val_loss: 35.1441325441413, val_f1: 0.039994402774875, val_precision: 0.020411494241412215, val_recall: 0.9852276162816844\n"
     ]
    },
    {
     "name": "stderr",
     "output_type": "stream",
     "text": [
      "100%|█████████████████████████████████████████| 655/655 [00:17<00:00, 36.65it/s]\n"
     ]
    },
    {
     "name": "stdout",
     "output_type": "stream",
     "text": [
      "Epoch: 1073, loss: 35.144114265733094, f1: 0.03538925899834932, precision: 0.018017152505606867, recall: 0.9884778197485072\n",
      "val_loss: 35.1441325441413, val_f1: 0.039994402774875, val_precision: 0.020411494241412215, val_recall: 0.9852276162816844\n"
     ]
    },
    {
     "name": "stderr",
     "output_type": "stream",
     "text": [
      "100%|█████████████████████████████████████████| 655/655 [00:17<00:00, 36.88it/s]\n"
     ]
    },
    {
     "name": "stdout",
     "output_type": "stream",
     "text": [
      "Epoch: 1074, loss: 35.14411425408516, f1: 0.03538925899834932, precision: 0.018017152505606867, recall: 0.9884778197485072\n",
      "val_loss: 35.14413250914407, val_f1: 0.039994402774875, val_precision: 0.020411494241412215, val_recall: 0.9852276162816844\n"
     ]
    },
    {
     "name": "stderr",
     "output_type": "stream",
     "text": [
      "100%|█████████████████████████████████████████| 655/655 [00:17<00:00, 36.47it/s]\n"
     ]
    },
    {
     "name": "stdout",
     "output_type": "stream",
     "text": [
      "Epoch: 1075, loss: 35.14411424243723, f1: 0.03538925899834932, precision: 0.018017152505606867, recall: 0.9884778197485072\n",
      "val_loss: 35.14413250914407, val_f1: 0.039994402774875, val_precision: 0.020411494241412215, val_recall: 0.9852276162816844\n"
     ]
    },
    {
     "name": "stderr",
     "output_type": "stream",
     "text": [
      "100%|█████████████████████████████████████████| 655/655 [00:17<00:00, 36.53it/s]\n"
     ]
    },
    {
     "name": "stdout",
     "output_type": "stream",
     "text": [
      "Epoch: 1076, loss: 35.144114201669474, f1: 0.03538925899834932, precision: 0.018017152505606867, recall: 0.9884778197485072\n",
      "val_loss: 35.144132456648244, val_f1: 0.039994402774875, val_precision: 0.020411494241412215, val_recall: 0.9852276162816844\n"
     ]
    },
    {
     "name": "stderr",
     "output_type": "stream",
     "text": [
      "100%|█████████████████████████████████████████| 655/655 [00:17<00:00, 36.51it/s]\n"
     ]
    },
    {
     "name": "stdout",
     "output_type": "stream",
     "text": [
      "Epoch: 1077, loss: 35.14411417837361, f1: 0.03538925899834932, precision: 0.018017152505606867, recall: 0.9884778197485072\n",
      "val_loss: 35.144132456648244, val_f1: 0.039994402774875, val_precision: 0.020411494241412215, val_recall: 0.9852276162816844\n"
     ]
    },
    {
     "name": "stderr",
     "output_type": "stream",
     "text": [
      "100%|█████████████████████████████████████████| 655/655 [00:17<00:00, 36.58it/s]\n"
     ]
    },
    {
     "name": "stdout",
     "output_type": "stream",
     "text": [
      "Epoch: 1078, loss: 35.144114166725686, f1: 0.03538925899834932, precision: 0.018017152505606867, recall: 0.9884778197485072\n",
      "val_loss: 35.144132421651015, val_f1: 0.039994402774875, val_precision: 0.020411494241412215, val_recall: 0.9852276162816844\n"
     ]
    },
    {
     "name": "stderr",
     "output_type": "stream",
     "text": [
      "100%|█████████████████████████████████████████| 655/655 [00:17<00:00, 36.65it/s]\n"
     ]
    },
    {
     "name": "stdout",
     "output_type": "stream",
     "text": [
      "Epoch: 1079, loss: 35.144114143429825, f1: 0.03538925899834932, precision: 0.018017152505606867, recall: 0.9884778197485072\n",
      "val_loss: 35.144132421651015, val_f1: 0.039994402774875, val_precision: 0.020411494241412215, val_recall: 0.9852276162816844\n"
     ]
    },
    {
     "name": "stderr",
     "output_type": "stream",
     "text": [
      "100%|█████████████████████████████████████████| 655/655 [00:17<00:00, 37.09it/s]\n"
     ]
    },
    {
     "name": "stdout",
     "output_type": "stream",
     "text": [
      "Epoch: 1080, loss: 35.14411412595793, f1: 0.03538925899834932, precision: 0.018017152505606867, recall: 0.9884778197485072\n",
      "val_loss: 35.14413240415241, val_f1: 0.039994402774875, val_precision: 0.020411494241412215, val_recall: 0.9852276162816844\n"
     ]
    },
    {
     "name": "stderr",
     "output_type": "stream",
     "text": [
      "100%|█████████████████████████████████████████| 655/655 [00:17<00:00, 36.63it/s]\n"
     ]
    },
    {
     "name": "stdout",
     "output_type": "stream",
     "text": [
      "Epoch: 1081, loss: 35.14411411430999, f1: 0.03538925899834932, precision: 0.018017152505606867, recall: 0.9884778197485072\n",
      "val_loss: 35.144132386653794, val_f1: 0.039994402774875, val_precision: 0.020411494241412215, val_recall: 0.9852276162816844\n"
     ]
    },
    {
     "name": "stderr",
     "output_type": "stream",
     "text": [
      "100%|█████████████████████████████████████████| 655/655 [00:18<00:00, 36.38it/s]\n"
     ]
    },
    {
     "name": "stdout",
     "output_type": "stream",
     "text": [
      "Epoch: 1082, loss: 35.14411410848603, f1: 0.03538925899834932, precision: 0.018017152505606867, recall: 0.9884778197485072\n",
      "val_loss: 35.14413236915519, val_f1: 0.039994402774875, val_precision: 0.020411494241412215, val_recall: 0.9852276162816844\n"
     ]
    },
    {
     "name": "stderr",
     "output_type": "stream",
     "text": [
      "100%|█████████████████████████████████████████| 655/655 [00:17<00:00, 36.44it/s]\n"
     ]
    },
    {
     "name": "stdout",
     "output_type": "stream",
     "text": [
      "Epoch: 1083, loss: 35.1441140968381, f1: 0.03538925899834932, precision: 0.018017152505606867, recall: 0.9884778197485072\n",
      "val_loss: 35.14413235165657, val_f1: 0.039994402774875, val_precision: 0.020411494241412215, val_recall: 0.9852276162816844\n"
     ]
    },
    {
     "name": "stderr",
     "output_type": "stream",
     "text": [
      "100%|█████████████████████████████████████████| 655/655 [00:17<00:00, 36.52it/s]\n"
     ]
    },
    {
     "name": "stdout",
     "output_type": "stream",
     "text": [
      "Epoch: 1084, loss: 35.14411409101413, f1: 0.03538925899834932, precision: 0.018017152505606867, recall: 0.9884778197485072\n",
      "val_loss: 35.14413231665935, val_f1: 0.039994402774875, val_precision: 0.020411494241412215, val_recall: 0.9852276162816844\n"
     ]
    },
    {
     "name": "stderr",
     "output_type": "stream",
     "text": [
      "100%|█████████████████████████████████████████| 655/655 [00:17<00:00, 36.53it/s]\n"
     ]
    },
    {
     "name": "stdout",
     "output_type": "stream",
     "text": [
      "Epoch: 1085, loss: 35.144114079366204, f1: 0.03538925899834932, precision: 0.018017152505606867, recall: 0.9884778197485072\n",
      "val_loss: 35.144132019182955, val_f1: 0.039994402774875, val_precision: 0.020411494241412215, val_recall: 0.9852276162816844\n"
     ]
    },
    {
     "name": "stderr",
     "output_type": "stream",
     "text": [
      "100%|█████████████████████████████████████████| 655/655 [00:17<00:00, 36.71it/s]\n"
     ]
    },
    {
     "name": "stdout",
     "output_type": "stream",
     "text": [
      "Epoch: 1086, loss: 35.14411406771827, f1: 0.03538925899834932, precision: 0.018017152505606867, recall: 0.9884778197485072\n",
      "val_loss: 35.144132019182955, val_f1: 0.039994402774875, val_precision: 0.020411494241412215, val_recall: 0.9852276162816844\n"
     ]
    },
    {
     "name": "stderr",
     "output_type": "stream",
     "text": [
      "100%|█████████████████████████████████████████| 655/655 [00:17<00:00, 36.60it/s]\n"
     ]
    },
    {
     "name": "stdout",
     "output_type": "stream",
     "text": [
      "Epoch: 1087, loss: 35.14411405607034, f1: 0.03538925899834932, precision: 0.018017152505606867, recall: 0.9884778197485072\n",
      "val_loss: 35.14413200168435, val_f1: 0.039994402774875, val_precision: 0.020411494241412215, val_recall: 0.9852276162816844\n"
     ]
    },
    {
     "name": "stderr",
     "output_type": "stream",
     "text": [
      "100%|█████████████████████████████████████████| 655/655 [00:17<00:00, 36.52it/s]\n"
     ]
    },
    {
     "name": "stdout",
     "output_type": "stream",
     "text": [
      "Epoch: 1088, loss: 35.14411403277448, f1: 0.03538925899834932, precision: 0.018017152505606867, recall: 0.9884778197485072\n",
      "val_loss: 35.14413196668713, val_f1: 0.039994402774875, val_precision: 0.020411494241412215, val_recall: 0.9852276162816844\n"
     ]
    },
    {
     "name": "stderr",
     "output_type": "stream",
     "text": [
      "100%|█████████████████████████████████████████| 655/655 [00:17<00:00, 36.55it/s]\n"
     ]
    },
    {
     "name": "stdout",
     "output_type": "stream",
     "text": [
      "Epoch: 1089, loss: 35.14411402695052, f1: 0.03538925899834932, precision: 0.018017152505606867, recall: 0.9884778197485072\n",
      "val_loss: 35.14413196668713, val_f1: 0.039994402774875, val_precision: 0.020411494241412215, val_recall: 0.9852276162816844\n"
     ]
    },
    {
     "name": "stderr",
     "output_type": "stream",
     "text": [
      "100%|█████████████████████████████████████████| 655/655 [00:17<00:00, 36.49it/s]\n"
     ]
    },
    {
     "name": "stdout",
     "output_type": "stream",
     "text": [
      "Epoch: 1090, loss: 35.14411400947862, f1: 0.03538925899834932, precision: 0.018017152505606867, recall: 0.9884778197485072\n",
      "val_loss: 35.14413194918851, val_f1: 0.039994402774875, val_precision: 0.020411494241412215, val_recall: 0.9852276162816844\n"
     ]
    },
    {
     "name": "stderr",
     "output_type": "stream",
     "text": [
      "100%|█████████████████████████████████████████| 655/655 [00:17<00:00, 36.54it/s]\n"
     ]
    },
    {
     "name": "stdout",
     "output_type": "stream",
     "text": [
      "Epoch: 1091, loss: 35.14411400947862, f1: 0.03538925899834932, precision: 0.018017152505606867, recall: 0.9884778197485072\n",
      "val_loss: 35.1441319316899, val_f1: 0.039994402774875, val_precision: 0.020411494241412215, val_recall: 0.9852276162816844\n"
     ]
    },
    {
     "name": "stderr",
     "output_type": "stream",
     "text": [
      "100%|█████████████████████████████████████████| 655/655 [00:17<00:00, 36.69it/s]\n"
     ]
    },
    {
     "name": "stdout",
     "output_type": "stream",
     "text": [
      "Epoch: 1092, loss: 35.14411399200672, f1: 0.03538925899834932, precision: 0.018017152505606867, recall: 0.9884778197485072\n",
      "val_loss: 35.14413189669268, val_f1: 0.039994402774875, val_precision: 0.020411494241412215, val_recall: 0.9852276162816844\n"
     ]
    },
    {
     "name": "stderr",
     "output_type": "stream",
     "text": [
      "100%|█████████████████████████████████████████| 655/655 [00:17<00:00, 36.49it/s]\n"
     ]
    },
    {
     "name": "stdout",
     "output_type": "stream",
     "text": [
      "Epoch: 1093, loss: 35.144113980358796, f1: 0.03538925899834932, precision: 0.018017152505606867, recall: 0.9884778197485072\n",
      "val_loss: 35.14413189669268, val_f1: 0.039994402774875, val_precision: 0.020411494241412215, val_recall: 0.9852276162816844\n"
     ]
    },
    {
     "name": "stderr",
     "output_type": "stream",
     "text": [
      "100%|█████████████████████████████████████████| 655/655 [00:17<00:00, 36.77it/s]\n"
     ]
    },
    {
     "name": "stdout",
     "output_type": "stream",
     "text": [
      "Epoch: 1094, loss: 35.144113974534825, f1: 0.03538925899834932, precision: 0.018017152505606867, recall: 0.9884778197485072\n",
      "val_loss: 35.144131826698235, val_f1: 0.039994402774875, val_precision: 0.020411494241412215, val_recall: 0.9852276162816844\n"
     ]
    },
    {
     "name": "stderr",
     "output_type": "stream",
     "text": [
      "100%|█████████████████████████████████████████| 655/655 [00:17<00:00, 36.60it/s]\n"
     ]
    },
    {
     "name": "stdout",
     "output_type": "stream",
     "text": [
      "Epoch: 1095, loss: 35.144113951238964, f1: 0.03538925899834932, precision: 0.018017152505606867, recall: 0.9884778197485072\n",
      "val_loss: 35.1441317742024, val_f1: 0.039994402774875, val_precision: 0.020411494241412215, val_recall: 0.9852276162816844\n"
     ]
    },
    {
     "name": "stderr",
     "output_type": "stream",
     "text": [
      "100%|█████████████████████████████████████████| 655/655 [00:17<00:00, 36.45it/s]\n"
     ]
    },
    {
     "name": "stdout",
     "output_type": "stream",
     "text": [
      "Epoch: 1096, loss: 35.144113945415, f1: 0.03538925899834932, precision: 0.018017152505606867, recall: 0.9884778197485072\n",
      "val_loss: 35.1441317742024, val_f1: 0.039994402774875, val_precision: 0.020411494241412215, val_recall: 0.9852276162816844\n"
     ]
    },
    {
     "name": "stderr",
     "output_type": "stream",
     "text": [
      "100%|█████████████████████████████████████████| 655/655 [00:17<00:00, 36.60it/s]\n"
     ]
    },
    {
     "name": "stdout",
     "output_type": "stream",
     "text": [
      "Epoch: 1097, loss: 35.1441139279431, f1: 0.03538925899834932, precision: 0.018017152505606867, recall: 0.9884778197485072\n",
      "val_loss: 35.144131756703786, val_f1: 0.039994402774875, val_precision: 0.020411494241412215, val_recall: 0.9852276162816844\n"
     ]
    },
    {
     "name": "stderr",
     "output_type": "stream",
     "text": [
      "100%|█████████████████████████████████████████| 655/655 [00:17<00:00, 36.57it/s]\n"
     ]
    },
    {
     "name": "stdout",
     "output_type": "stream",
     "text": [
      "Epoch: 1098, loss: 35.144113916295176, f1: 0.03538925899834932, precision: 0.018017152505606867, recall: 0.9884778197485072\n",
      "val_loss: 35.144131756703786, val_f1: 0.039994402774875, val_precision: 0.020411494241412215, val_recall: 0.9852276162816844\n"
     ]
    },
    {
     "name": "stderr",
     "output_type": "stream",
     "text": [
      "100%|█████████████████████████████████████████| 655/655 [00:17<00:00, 37.07it/s]\n"
     ]
    },
    {
     "name": "stdout",
     "output_type": "stream",
     "text": [
      "Epoch: 1099, loss: 35.144113916295176, f1: 0.03538925899834932, precision: 0.018017152505606867, recall: 0.9884778197485072\n",
      "val_loss: 35.144131721706565, val_f1: 0.039994402774875, val_precision: 0.020411494241412215, val_recall: 0.9852276162816844\n"
     ]
    },
    {
     "name": "stderr",
     "output_type": "stream",
     "text": [
      "100%|█████████████████████████████████████████| 655/655 [00:17<00:00, 36.72it/s]\n"
     ]
    },
    {
     "name": "stdout",
     "output_type": "stream",
     "text": [
      "Epoch: 1100, loss: 35.14411390464724, f1: 0.03538925899834932, precision: 0.018017152505606867, recall: 0.9884778197485072\n",
      "val_loss: 35.144131721706565, val_f1: 0.039994402774875, val_precision: 0.020411494241412215, val_recall: 0.9852276162816844\n"
     ]
    },
    {
     "name": "stderr",
     "output_type": "stream",
     "text": [
      "100%|█████████████████████████████████████████| 655/655 [00:17<00:00, 36.46it/s]\n"
     ]
    },
    {
     "name": "stdout",
     "output_type": "stream",
     "text": [
      "Epoch: 1101, loss: 35.144113892999314, f1: 0.03538925899834932, precision: 0.018017152505606867, recall: 0.9884778197485072\n",
      "val_loss: 35.144131721706565, val_f1: 0.039994402774875, val_precision: 0.020411494241412215, val_recall: 0.9852276162816844\n"
     ]
    },
    {
     "name": "stderr",
     "output_type": "stream",
     "text": [
      "100%|█████████████████████████████████████████| 655/655 [00:17<00:00, 36.58it/s]\n"
     ]
    },
    {
     "name": "stdout",
     "output_type": "stream",
     "text": [
      "Epoch: 1102, loss: 35.14411385805552, f1: 0.03538925899834932, precision: 0.018017152505606867, recall: 0.9884778197485072\n",
      "val_loss: 35.14413170420796, val_f1: 0.039994402774875, val_precision: 0.020411494241412215, val_recall: 0.9852276162816844\n"
     ]
    },
    {
     "name": "stderr",
     "output_type": "stream",
     "text": [
      "100%|█████████████████████████████████████████| 655/655 [00:17<00:00, 36.59it/s]\n"
     ]
    },
    {
     "name": "stdout",
     "output_type": "stream",
     "text": [
      "Epoch: 1103, loss: 35.144113852231555, f1: 0.03538925899834932, precision: 0.018017152505606867, recall: 0.9884778197485072\n",
      "val_loss: 35.14413168670934, val_f1: 0.039994402774875, val_precision: 0.020411494241412215, val_recall: 0.9852276162816844\n"
     ]
    },
    {
     "name": "stderr",
     "output_type": "stream",
     "text": [
      "100%|█████████████████████████████████████████| 655/655 [00:17<00:00, 36.47it/s]\n"
     ]
    },
    {
     "name": "stdout",
     "output_type": "stream",
     "text": [
      "Epoch: 1104, loss: 35.14411384640759, f1: 0.03538925899834932, precision: 0.018017152505606867, recall: 0.9884778197485072\n",
      "val_loss: 35.14413166921073, val_f1: 0.039994402774875, val_precision: 0.020411494241412215, val_recall: 0.9852276162816844\n"
     ]
    },
    {
     "name": "stderr",
     "output_type": "stream",
     "text": [
      "100%|█████████████████████████████████████████| 655/655 [00:17<00:00, 36.98it/s]\n"
     ]
    },
    {
     "name": "stdout",
     "output_type": "stream",
     "text": [
      "Epoch: 1105, loss: 35.14411384058363, f1: 0.03538925899834932, precision: 0.018017152505606867, recall: 0.9884778197485072\n",
      "val_loss: 35.14413163421351, val_f1: 0.039994402774875, val_precision: 0.020411494241412215, val_recall: 0.9852276162816844\n"
     ]
    },
    {
     "name": "stderr",
     "output_type": "stream",
     "text": [
      "100%|█████████████████████████████████████████| 655/655 [00:17<00:00, 36.56it/s]\n"
     ]
    },
    {
     "name": "stdout",
     "output_type": "stream",
     "text": [
      "Epoch: 1106, loss: 35.14411382311173, f1: 0.03538925899834932, precision: 0.018017152505606867, recall: 0.9884778197485072\n",
      "val_loss: 35.14413163421351, val_f1: 0.039994402774875, val_precision: 0.020411494241412215, val_recall: 0.9852276162816844\n"
     ]
    },
    {
     "name": "stderr",
     "output_type": "stream",
     "text": [
      "100%|█████████████████████████████████████████| 655/655 [00:17<00:00, 36.53it/s]\n"
     ]
    },
    {
     "name": "stdout",
     "output_type": "stream",
     "text": [
      "Epoch: 1107, loss: 35.144113811463804, f1: 0.03538925899834932, precision: 0.018017152505606867, recall: 0.9884778197485072\n",
      "val_loss: 35.144131616714894, val_f1: 0.039994402774875, val_precision: 0.020411494241412215, val_recall: 0.9852276162816844\n"
     ]
    },
    {
     "name": "stderr",
     "output_type": "stream",
     "text": [
      "100%|█████████████████████████████████████████| 655/655 [00:17<00:00, 36.53it/s]\n"
     ]
    },
    {
     "name": "stdout",
     "output_type": "stream",
     "text": [
      "Epoch: 1108, loss: 35.14411380563983, f1: 0.03538925899834932, precision: 0.018017152505606867, recall: 0.9884778197485072\n",
      "val_loss: 35.144131616714894, val_f1: 0.039994402774875, val_precision: 0.020411494241412215, val_recall: 0.9852276162816844\n"
     ]
    },
    {
     "name": "stderr",
     "output_type": "stream",
     "text": [
      "100%|█████████████████████████████████████████| 655/655 [00:17<00:00, 36.51it/s]\n"
     ]
    },
    {
     "name": "stdout",
     "output_type": "stream",
     "text": [
      "Epoch: 1109, loss: 35.14411378816794, f1: 0.03538925899834932, precision: 0.018017152505606867, recall: 0.9884778197485072\n",
      "val_loss: 35.14413158171767, val_f1: 0.039994402774875, val_precision: 0.020411494241412215, val_recall: 0.9852276162816844\n"
     ]
    },
    {
     "name": "stderr",
     "output_type": "stream",
     "text": [
      "100%|█████████████████████████████████████████| 655/655 [00:17<00:00, 36.62it/s]\n"
     ]
    },
    {
     "name": "stdout",
     "output_type": "stream",
     "text": [
      "Epoch: 1110, loss: 35.144113770696045, f1: 0.03538925899834932, precision: 0.018017152505606867, recall: 0.9884778197485072\n",
      "val_loss: 35.144131564219066, val_f1: 0.039994402774875, val_precision: 0.020411494241412215, val_recall: 0.9852276162816844\n"
     ]
    },
    {
     "name": "stderr",
     "output_type": "stream",
     "text": [
      "100%|█████████████████████████████████████████| 655/655 [00:17<00:00, 36.77it/s]\n"
     ]
    },
    {
     "name": "stdout",
     "output_type": "stream",
     "text": [
      "Epoch: 1111, loss: 35.14411374740018, f1: 0.03538925899834932, precision: 0.018017152505606867, recall: 0.9884778197485072\n",
      "val_loss: 35.144131564219066, val_f1: 0.039994402774875, val_precision: 0.020411494241412215, val_recall: 0.9852276162816844\n"
     ]
    },
    {
     "name": "stderr",
     "output_type": "stream",
     "text": [
      "100%|█████████████████████████████████████████| 655/655 [00:17<00:00, 36.55it/s]\n"
     ]
    },
    {
     "name": "stdout",
     "output_type": "stream",
     "text": [
      "Epoch: 1112, loss: 35.14411372410432, f1: 0.03538925899834932, precision: 0.018017152505606867, recall: 0.9884778197485072\n",
      "val_loss: 35.14413154672045, val_f1: 0.039994402774875, val_precision: 0.020411494241412215, val_recall: 0.9852276162816844\n"
     ]
    },
    {
     "name": "stderr",
     "output_type": "stream",
     "text": [
      "100%|█████████████████████████████████████████| 655/655 [00:17<00:00, 36.41it/s]\n"
     ]
    },
    {
     "name": "stdout",
     "output_type": "stream",
     "text": [
      "Epoch: 1113, loss: 35.144113706632425, f1: 0.03538925899834932, precision: 0.018017152505606867, recall: 0.9884778197485072\n",
      "val_loss: 35.14413152922184, val_f1: 0.039994402774875, val_precision: 0.020411494241412215, val_recall: 0.9852276162816844\n"
     ]
    },
    {
     "name": "stderr",
     "output_type": "stream",
     "text": [
      "100%|█████████████████████████████████████████| 655/655 [00:17<00:00, 36.60it/s]\n"
     ]
    },
    {
     "name": "stdout",
     "output_type": "stream",
     "text": [
      "Epoch: 1114, loss: 35.14411370080846, f1: 0.03538925899834932, precision: 0.018017152505606867, recall: 0.9884778197485072\n",
      "val_loss: 35.14413151172323, val_f1: 0.039994402774875, val_precision: 0.020411494241412215, val_recall: 0.9852276162816844\n"
     ]
    },
    {
     "name": "stderr",
     "output_type": "stream",
     "text": [
      "100%|█████████████████████████████████████████| 655/655 [00:17<00:00, 36.62it/s]\n"
     ]
    },
    {
     "name": "stdout",
     "output_type": "stream",
     "text": [
      "Epoch: 1115, loss: 35.14411368916053, f1: 0.03538925899834932, precision: 0.018017152505606867, recall: 0.9884778197485072\n",
      "val_loss: 35.14413151172323, val_f1: 0.039994402774875, val_precision: 0.020411494241412215, val_recall: 0.9852276162816844\n"
     ]
    },
    {
     "name": "stderr",
     "output_type": "stream",
     "text": [
      "100%|█████████████████████████████████████████| 655/655 [00:17<00:00, 36.56it/s]\n"
     ]
    },
    {
     "name": "stdout",
     "output_type": "stream",
     "text": [
      "Epoch: 1116, loss: 35.14411368333656, f1: 0.03538925899834932, precision: 0.018017152505606867, recall: 0.9884778197485072\n",
      "val_loss: 35.14413149422462, val_f1: 0.039994402774875, val_precision: 0.020411494241412215, val_recall: 0.9852276162816844\n"
     ]
    },
    {
     "name": "stderr",
     "output_type": "stream",
     "text": [
      "100%|█████████████████████████████████████████| 655/655 [00:17<00:00, 36.69it/s]\n"
     ]
    },
    {
     "name": "stdout",
     "output_type": "stream",
     "text": [
      "Epoch: 1117, loss: 35.1441136775126, f1: 0.03538925899834932, precision: 0.018017152505606867, recall: 0.9884778197485072\n",
      "val_loss: 35.14413149422462, val_f1: 0.039994402774875, val_precision: 0.020411494241412215, val_recall: 0.9852276162816844\n"
     ]
    },
    {
     "name": "stderr",
     "output_type": "stream",
     "text": [
      "100%|█████████████████████████████████████████| 655/655 [00:17<00:00, 36.56it/s]\n"
     ]
    },
    {
     "name": "stdout",
     "output_type": "stream",
     "text": [
      "Epoch: 1118, loss: 35.1441136600407, f1: 0.03538925899834932, precision: 0.018017152505606867, recall: 0.9884778197485072\n",
      "val_loss: 35.14413147672601, val_f1: 0.039994402774875, val_precision: 0.020411494241412215, val_recall: 0.9852276162816844\n"
     ]
    },
    {
     "name": "stderr",
     "output_type": "stream",
     "text": [
      "100%|█████████████████████████████████████████| 655/655 [00:17<00:00, 36.65it/s]\n"
     ]
    },
    {
     "name": "stdout",
     "output_type": "stream",
     "text": [
      "Epoch: 1119, loss: 35.1441136600407, f1: 0.03538925899834932, precision: 0.018017152505606867, recall: 0.9884778197485072\n",
      "val_loss: 35.14413144172878, val_f1: 0.039994402774875, val_precision: 0.020411494241412215, val_recall: 0.9852276162816844\n"
     ]
    },
    {
     "name": "stderr",
     "output_type": "stream",
     "text": [
      "100%|█████████████████████████████████████████| 655/655 [00:17<00:00, 36.58it/s]\n"
     ]
    },
    {
     "name": "stdout",
     "output_type": "stream",
     "text": [
      "Epoch: 1120, loss: 35.144113648392775, f1: 0.03538925899834932, precision: 0.018017152505606867, recall: 0.9884778197485072\n",
      "val_loss: 35.14413140673156, val_f1: 0.039994402774875, val_precision: 0.020411494241412215, val_recall: 0.9852276162816844\n"
     ]
    },
    {
     "name": "stderr",
     "output_type": "stream",
     "text": [
      "100%|█████████████████████████████████████████| 655/655 [00:17<00:00, 36.51it/s]\n"
     ]
    },
    {
     "name": "stdout",
     "output_type": "stream",
     "text": [
      "Epoch: 1121, loss: 35.144113648392775, f1: 0.03538925899834932, precision: 0.018017152505606867, recall: 0.9884778197485072\n",
      "val_loss: 35.14413140673156, val_f1: 0.039994402774875, val_precision: 0.020411494241412215, val_recall: 0.9852276162816844\n"
     ]
    },
    {
     "name": "stderr",
     "output_type": "stream",
     "text": [
      "100%|█████████████████████████████████████████| 655/655 [00:17<00:00, 36.43it/s]\n"
     ]
    },
    {
     "name": "stdout",
     "output_type": "stream",
     "text": [
      "Epoch: 1122, loss: 35.14411363674484, f1: 0.03538925899834932, precision: 0.018017152505606867, recall: 0.9884778197485072\n",
      "val_loss: 35.14413138923295, val_f1: 0.039994402774875, val_precision: 0.020411494241412215, val_recall: 0.9852276162816844\n"
     ]
    },
    {
     "name": "stderr",
     "output_type": "stream",
     "text": [
      "100%|█████████████████████████████████████████| 655/655 [00:17<00:00, 36.60it/s]\n"
     ]
    },
    {
     "name": "stdout",
     "output_type": "stream",
     "text": [
      "Epoch: 1123, loss: 35.14411363674484, f1: 0.03538925899834932, precision: 0.018017152505606867, recall: 0.9884778197485072\n",
      "val_loss: 35.14413138923295, val_f1: 0.039994402774875, val_precision: 0.020411494241412215, val_recall: 0.9852276162816844\n"
     ]
    },
    {
     "name": "stderr",
     "output_type": "stream",
     "text": [
      "100%|█████████████████████████████████████████| 655/655 [00:17<00:00, 36.80it/s]\n"
     ]
    },
    {
     "name": "stdout",
     "output_type": "stream",
     "text": [
      "Epoch: 1124, loss: 35.14411361344898, f1: 0.03538925899834932, precision: 0.018017152505606867, recall: 0.9884778197485072\n",
      "val_loss: 35.14413137173434, val_f1: 0.039994402774875, val_precision: 0.020411494241412215, val_recall: 0.9852276162816844\n"
     ]
    },
    {
     "name": "stderr",
     "output_type": "stream",
     "text": [
      "100%|█████████████████████████████████████████| 655/655 [00:17<00:00, 36.49it/s]\n"
     ]
    },
    {
     "name": "stdout",
     "output_type": "stream",
     "text": [
      "Epoch: 1125, loss: 35.144113607625016, f1: 0.03538925899834932, precision: 0.018017152505606867, recall: 0.9884778197485072\n",
      "val_loss: 35.14413137173434, val_f1: 0.039994402774875, val_precision: 0.020411494241412215, val_recall: 0.9852276162816844\n"
     ]
    },
    {
     "name": "stderr",
     "output_type": "stream",
     "text": [
      "100%|█████████████████████████████████████████| 655/655 [00:17<00:00, 36.56it/s]\n"
     ]
    },
    {
     "name": "stdout",
     "output_type": "stream",
     "text": [
      "Epoch: 1126, loss: 35.144113584329155, f1: 0.03538925899834932, precision: 0.018017152505606867, recall: 0.9884778197485072\n",
      "val_loss: 35.144131354235725, val_f1: 0.039994402774875, val_precision: 0.020411494241412215, val_recall: 0.9852276162816844\n"
     ]
    },
    {
     "name": "stderr",
     "output_type": "stream",
     "text": [
      "100%|█████████████████████████████████████████| 655/655 [00:17<00:00, 36.40it/s]\n"
     ]
    },
    {
     "name": "stdout",
     "output_type": "stream",
     "text": [
      "Epoch: 1127, loss: 35.14411357850519, f1: 0.03538925899834932, precision: 0.018017152505606867, recall: 0.9884778197485072\n",
      "val_loss: 35.14413133673712, val_f1: 0.039994402774875, val_precision: 0.020411494241412215, val_recall: 0.9852276162816844\n"
     ]
    },
    {
     "name": "stderr",
     "output_type": "stream",
     "text": [
      "100%|█████████████████████████████████████████| 655/655 [00:17<00:00, 36.62it/s]\n"
     ]
    },
    {
     "name": "stdout",
     "output_type": "stream",
     "text": [
      "Epoch: 1128, loss: 35.14411356685726, f1: 0.03538925899834932, precision: 0.018017152505606867, recall: 0.9884778197485072\n",
      "val_loss: 35.144131319238504, val_f1: 0.039994402774875, val_precision: 0.020411494241412215, val_recall: 0.9852276162816844\n"
     ]
    },
    {
     "name": "stderr",
     "output_type": "stream",
     "text": [
      "100%|█████████████████████████████████████████| 655/655 [00:17<00:00, 36.57it/s]\n"
     ]
    },
    {
     "name": "stdout",
     "output_type": "stream",
     "text": [
      "Epoch: 1129, loss: 35.14411355520933, f1: 0.03538925899834932, precision: 0.018017152505606867, recall: 0.9884778197485072\n",
      "val_loss: 35.1441313017399, val_f1: 0.039994402774875, val_precision: 0.020411494241412215, val_recall: 0.9852276162816844\n"
     ]
    },
    {
     "name": "stderr",
     "output_type": "stream",
     "text": [
      "100%|█████████████████████████████████████████| 655/655 [00:17<00:00, 36.94it/s]\n"
     ]
    },
    {
     "name": "stdout",
     "output_type": "stream",
     "text": [
      "Epoch: 1130, loss: 35.14411353191347, f1: 0.03538925899834932, precision: 0.018017152505606867, recall: 0.9884778197485072\n",
      "val_loss: 35.1441313017399, val_f1: 0.039994402774875, val_precision: 0.020411494241412215, val_recall: 0.9852276162816844\n"
     ]
    },
    {
     "name": "stderr",
     "output_type": "stream",
     "text": [
      "100%|█████████████████████████████████████████| 655/655 [00:17<00:00, 36.45it/s]\n"
     ]
    },
    {
     "name": "stdout",
     "output_type": "stream",
     "text": [
      "Epoch: 1131, loss: 35.1441135260895, f1: 0.03538925899834932, precision: 0.018017152505606867, recall: 0.9884778197485072\n",
      "val_loss: 35.14413126674267, val_f1: 0.039994402774875, val_precision: 0.020411494241412215, val_recall: 0.9852276162816844\n"
     ]
    },
    {
     "name": "stderr",
     "output_type": "stream",
     "text": [
      "100%|█████████████████████████████████████████| 655/655 [00:17<00:00, 36.54it/s]\n"
     ]
    },
    {
     "name": "stdout",
     "output_type": "stream",
     "text": [
      "Epoch: 1132, loss: 35.144113520265535, f1: 0.03538925899834932, precision: 0.018017152505606867, recall: 0.9884778197485072\n",
      "val_loss: 35.14413121424684, val_f1: 0.039994402774875, val_precision: 0.020411494241412215, val_recall: 0.9852276162816844\n"
     ]
    },
    {
     "name": "stderr",
     "output_type": "stream",
     "text": [
      "100%|█████████████████████████████████████████| 655/655 [00:17<00:00, 36.49it/s]\n"
     ]
    },
    {
     "name": "stdout",
     "output_type": "stream",
     "text": [
      "Epoch: 1133, loss: 35.144113520265535, f1: 0.03538925899834932, precision: 0.018017152505606867, recall: 0.9884778197485072\n",
      "val_loss: 35.14413117924961, val_f1: 0.039994402774875, val_precision: 0.020411494241412215, val_recall: 0.9852276162816844\n"
     ]
    },
    {
     "name": "stderr",
     "output_type": "stream",
     "text": [
      "100%|█████████████████████████████████████████| 655/655 [00:17<00:00, 36.64it/s]\n"
     ]
    },
    {
     "name": "stdout",
     "output_type": "stream",
     "text": [
      "Epoch: 1134, loss: 35.144113479497776, f1: 0.03538925899834932, precision: 0.018017152505606867, recall: 0.9884778197485072\n",
      "val_loss: 35.14413117924961, val_f1: 0.039994402774875, val_precision: 0.020411494241412215, val_recall: 0.9852276162816844\n"
     ]
    },
    {
     "name": "stderr",
     "output_type": "stream",
     "text": [
      "100%|█████████████████████████████████████████| 655/655 [00:17<00:00, 36.58it/s]\n"
     ]
    },
    {
     "name": "stdout",
     "output_type": "stream",
     "text": [
      "Epoch: 1135, loss: 35.144113479497776, f1: 0.03538925899834932, precision: 0.018017152505606867, recall: 0.9884778197485072\n",
      "val_loss: 35.144131161751005, val_f1: 0.039994402774875, val_precision: 0.020411494241412215, val_recall: 0.9852276162816844\n"
     ]
    },
    {
     "name": "stderr",
     "output_type": "stream",
     "text": [
      "100%|█████████████████████████████████████████| 655/655 [00:17<00:00, 36.87it/s]\n"
     ]
    },
    {
     "name": "stdout",
     "output_type": "stream",
     "text": [
      "Epoch: 1136, loss: 35.144113479497776, f1: 0.03538925899834932, precision: 0.018017152505606867, recall: 0.9884778197485072\n",
      "val_loss: 35.14413114425239, val_f1: 0.039994402774875, val_precision: 0.020411494241412215, val_recall: 0.9852276162816844\n"
     ]
    },
    {
     "name": "stderr",
     "output_type": "stream",
     "text": [
      "100%|█████████████████████████████████████████| 655/655 [00:17<00:00, 36.57it/s]\n"
     ]
    },
    {
     "name": "stdout",
     "output_type": "stream",
     "text": [
      "Epoch: 1137, loss: 35.14411346784985, f1: 0.03538925899834932, precision: 0.018017152505606867, recall: 0.9884778197485072\n",
      "val_loss: 35.14413114425239, val_f1: 0.039994402774875, val_precision: 0.020411494241412215, val_recall: 0.9852276162816844\n"
     ]
    },
    {
     "name": "stderr",
     "output_type": "stream",
     "text": [
      "100%|█████████████████████████████████████████| 655/655 [00:17<00:00, 36.57it/s]\n"
     ]
    },
    {
     "name": "stdout",
     "output_type": "stream",
     "text": [
      "Epoch: 1138, loss: 35.144113462025885, f1: 0.03538925899834932, precision: 0.018017152505606867, recall: 0.9884778197485072\n",
      "val_loss: 35.14413110925517, val_f1: 0.039994402774875, val_precision: 0.020411494241412215, val_recall: 0.9852276162816844\n"
     ]
    },
    {
     "name": "stderr",
     "output_type": "stream",
     "text": [
      "100%|█████████████████████████████████████████| 655/655 [00:17<00:00, 36.60it/s]\n"
     ]
    },
    {
     "name": "stdout",
     "output_type": "stream",
     "text": [
      "Epoch: 1139, loss: 35.144113456201914, f1: 0.03538925899834932, precision: 0.018017152505606867, recall: 0.9884778197485072\n",
      "val_loss: 35.14413110925517, val_f1: 0.039994402774875, val_precision: 0.020411494241412215, val_recall: 0.9852276162816844\n"
     ]
    },
    {
     "name": "stderr",
     "output_type": "stream",
     "text": [
      "100%|█████████████████████████████████████████| 655/655 [00:17<00:00, 36.61it/s]\n"
     ]
    },
    {
     "name": "stdout",
     "output_type": "stream",
     "text": [
      "Epoch: 1140, loss: 35.144113456201914, f1: 0.03538925899834932, precision: 0.018017152505606867, recall: 0.9884778197485072\n",
      "val_loss: 35.14413110925517, val_f1: 0.039994402774875, val_precision: 0.020411494241412215, val_recall: 0.9852276162816844\n"
     ]
    },
    {
     "name": "stderr",
     "output_type": "stream",
     "text": [
      "100%|█████████████████████████████████████████| 655/655 [00:17<00:00, 36.45it/s]\n"
     ]
    },
    {
     "name": "stdout",
     "output_type": "stream",
     "text": [
      "Epoch: 1141, loss: 35.14411344455399, f1: 0.03538925899834932, precision: 0.018017152505606867, recall: 0.9884778197485072\n",
      "val_loss: 35.14413110925517, val_f1: 0.039994402774875, val_precision: 0.020411494241412215, val_recall: 0.9852276162816844\n"
     ]
    },
    {
     "name": "stderr",
     "output_type": "stream",
     "text": [
      "100%|█████████████████████████████████████████| 655/655 [00:17<00:00, 36.84it/s]\n"
     ]
    },
    {
     "name": "stdout",
     "output_type": "stream",
     "text": [
      "Epoch: 1142, loss: 35.14411342708209, f1: 0.03538925899834932, precision: 0.018017152505606867, recall: 0.9884778197485072\n",
      "val_loss: 35.144131091756556, val_f1: 0.039994402774875, val_precision: 0.020411494241412215, val_recall: 0.9852276162816844\n"
     ]
    },
    {
     "name": "stderr",
     "output_type": "stream",
     "text": [
      "100%|█████████████████████████████████████████| 655/655 [00:17<00:00, 36.75it/s]\n"
     ]
    },
    {
     "name": "stdout",
     "output_type": "stream",
     "text": [
      "Epoch: 1143, loss: 35.14411341543416, f1: 0.03538925899834932, precision: 0.018017152505606867, recall: 0.9884778197485072\n",
      "val_loss: 35.144131021762114, val_f1: 0.039994402774875, val_precision: 0.020411494241412215, val_recall: 0.9852276162816844\n"
     ]
    },
    {
     "name": "stderr",
     "output_type": "stream",
     "text": [
      "100%|█████████████████████████████████████████| 655/655 [00:17<00:00, 36.56it/s]\n"
     ]
    },
    {
     "name": "stdout",
     "output_type": "stream",
     "text": [
      "Epoch: 1144, loss: 35.14411340961019, f1: 0.03538925899834932, precision: 0.018017152505606867, recall: 0.9884778197485072\n",
      "val_loss: 35.1441310042635, val_f1: 0.039994402774875, val_precision: 0.020411494241412215, val_recall: 0.9852276162816844\n"
     ]
    },
    {
     "name": "stderr",
     "output_type": "stream",
     "text": [
      "100%|█████████████████████████████████████████| 655/655 [00:17<00:00, 36.54it/s]\n"
     ]
    },
    {
     "name": "stdout",
     "output_type": "stream",
     "text": [
      "Epoch: 1145, loss: 35.1441133921383, f1: 0.03538925899834932, precision: 0.018017152505606867, recall: 0.9884778197485072\n",
      "val_loss: 35.14413098676489, val_f1: 0.039994402774875, val_precision: 0.020411494241412215, val_recall: 0.9852276162816844\n"
     ]
    },
    {
     "name": "stderr",
     "output_type": "stream",
     "text": [
      "100%|█████████████████████████████████████████| 655/655 [00:17<00:00, 36.41it/s]\n"
     ]
    },
    {
     "name": "stdout",
     "output_type": "stream",
     "text": [
      "Epoch: 1146, loss: 35.1441133921383, f1: 0.03538925899834932, precision: 0.018017152505606867, recall: 0.9884778197485072\n",
      "val_loss: 35.144130951767664, val_f1: 0.039994402774875, val_precision: 0.020411494241412215, val_recall: 0.9852276162816844\n"
     ]
    },
    {
     "name": "stderr",
     "output_type": "stream",
     "text": [
      "100%|█████████████████████████████████████████| 655/655 [00:17<00:00, 36.51it/s]\n"
     ]
    },
    {
     "name": "stdout",
     "output_type": "stream",
     "text": [
      "Epoch: 1147, loss: 35.14411338631433, f1: 0.03538925899834932, precision: 0.018017152505606867, recall: 0.9884778197485072\n",
      "val_loss: 35.14413091677044, val_f1: 0.039994402774875, val_precision: 0.020411494241412215, val_recall: 0.9852276162816844\n"
     ]
    },
    {
     "name": "stderr",
     "output_type": "stream",
     "text": [
      "100%|█████████████████████████████████████████| 655/655 [00:17<00:00, 36.52it/s]\n"
     ]
    },
    {
     "name": "stdout",
     "output_type": "stream",
     "text": [
      "Epoch: 1148, loss: 35.14411338049037, f1: 0.03538925899834932, precision: 0.018017152505606867, recall: 0.9884778197485072\n",
      "val_loss: 35.144130899271836, val_f1: 0.039994402774875, val_precision: 0.020411494241412215, val_recall: 0.9852276162816844\n"
     ]
    },
    {
     "name": "stderr",
     "output_type": "stream",
     "text": [
      "100%|█████████████████████████████████████████| 655/655 [00:17<00:00, 36.75it/s]\n"
     ]
    },
    {
     "name": "stdout",
     "output_type": "stream",
     "text": [
      "Epoch: 1149, loss: 35.144113374666404, f1: 0.03538925899834932, precision: 0.018017152505606867, recall: 0.9884778197485072\n",
      "val_loss: 35.144130899271836, val_f1: 0.039994402774875, val_precision: 0.020411494241412215, val_recall: 0.9852276162816844\n"
     ]
    },
    {
     "name": "stderr",
     "output_type": "stream",
     "text": [
      "100%|█████████████████████████████████████████| 655/655 [00:17<00:00, 36.59it/s]\n"
     ]
    },
    {
     "name": "stdout",
     "output_type": "stream",
     "text": [
      "Epoch: 1150, loss: 35.14411336301847, f1: 0.03538925899834932, precision: 0.018017152505606867, recall: 0.9884778197485072\n",
      "val_loss: 35.14413086427461, val_f1: 0.039994402774875, val_precision: 0.020411494241412215, val_recall: 0.9852276162816844\n"
     ]
    },
    {
     "name": "stderr",
     "output_type": "stream",
     "text": [
      "100%|█████████████████████████████████████████| 655/655 [00:17<00:00, 36.59it/s]\n"
     ]
    },
    {
     "name": "stdout",
     "output_type": "stream",
     "text": [
      "Epoch: 1151, loss: 35.14411335137054, f1: 0.03538925899834932, precision: 0.018017152505606867, recall: 0.9884778197485072\n",
      "val_loss: 35.14413082927739, val_f1: 0.039994402774875, val_precision: 0.020411494241412215, val_recall: 0.9852276162816844\n"
     ]
    },
    {
     "name": "stderr",
     "output_type": "stream",
     "text": [
      "100%|█████████████████████████████████████████| 655/655 [00:17<00:00, 36.58it/s]\n"
     ]
    },
    {
     "name": "stdout",
     "output_type": "stream",
     "text": [
      "Epoch: 1152, loss: 35.14411333972261, f1: 0.03538925899834932, precision: 0.018017152505606867, recall: 0.9884778197485072\n",
      "val_loss: 35.14413082927739, val_f1: 0.039994402774875, val_precision: 0.020411494241412215, val_recall: 0.9852276162816844\n"
     ]
    },
    {
     "name": "stderr",
     "output_type": "stream",
     "text": [
      "100%|█████████████████████████████████████████| 655/655 [00:17<00:00, 36.62it/s]\n"
     ]
    },
    {
     "name": "stdout",
     "output_type": "stream",
     "text": [
      "Epoch: 1153, loss: 35.14411333972261, f1: 0.03538925899834932, precision: 0.018017152505606867, recall: 0.9884778197485072\n",
      "val_loss: 35.14413082927739, val_f1: 0.039994402774875, val_precision: 0.020411494241412215, val_recall: 0.9852276162816844\n"
     ]
    },
    {
     "name": "stderr",
     "output_type": "stream",
     "text": [
      "100%|█████████████████████████████████████████| 655/655 [00:17<00:00, 36.41it/s]\n"
     ]
    },
    {
     "name": "stdout",
     "output_type": "stream",
     "text": [
      "Epoch: 1154, loss: 35.14411332807468, f1: 0.03538925899834932, precision: 0.018017152505606867, recall: 0.9884778197485072\n",
      "val_loss: 35.14413082927739, val_f1: 0.039994402774875, val_precision: 0.020411494241412215, val_recall: 0.9852276162816844\n"
     ]
    },
    {
     "name": "stderr",
     "output_type": "stream",
     "text": [
      "100%|█████████████████████████████████████████| 655/655 [00:17<00:00, 36.95it/s]\n"
     ]
    },
    {
     "name": "stdout",
     "output_type": "stream",
     "text": [
      "Epoch: 1155, loss: 35.144113234891236, f1: 0.03538925899834932, precision: 0.018017152505606867, recall: 0.9884778197485072\n",
      "val_loss: 35.14413081177878, val_f1: 0.039994402774875, val_precision: 0.020411494241412215, val_recall: 0.9852276162816844\n"
     ]
    },
    {
     "name": "stderr",
     "output_type": "stream",
     "text": [
      "100%|█████████████████████████████████████████| 655/655 [00:17<00:00, 36.57it/s]\n"
     ]
    },
    {
     "name": "stdout",
     "output_type": "stream",
     "text": [
      "Epoch: 1156, loss: 35.14411322324331, f1: 0.03538925899834932, precision: 0.018017152505606867, recall: 0.9884778197485072\n",
      "val_loss: 35.144130794280166, val_f1: 0.039994402774875, val_precision: 0.020411494241412215, val_recall: 0.9852276162816844\n"
     ]
    },
    {
     "name": "stderr",
     "output_type": "stream",
     "text": [
      "100%|█████████████████████████████████████████| 655/655 [00:17<00:00, 36.46it/s]\n"
     ]
    },
    {
     "name": "stdout",
     "output_type": "stream",
     "text": [
      "Epoch: 1157, loss: 35.144113211595375, f1: 0.03538925899834932, precision: 0.018017152505606867, recall: 0.9884778197485072\n",
      "val_loss: 35.144130794280166, val_f1: 0.039994402774875, val_precision: 0.020411494241412215, val_recall: 0.9852276162816844\n"
     ]
    },
    {
     "name": "stderr",
     "output_type": "stream",
     "text": [
      "100%|█████████████████████████████████████████| 655/655 [00:17<00:00, 36.53it/s]\n"
     ]
    },
    {
     "name": "stdout",
     "output_type": "stream",
     "text": [
      "Epoch: 1158, loss: 35.144113211595375, f1: 0.03538925899834932, precision: 0.018017152505606867, recall: 0.9884778197485072\n",
      "val_loss: 35.14413077678155, val_f1: 0.039994402774875, val_precision: 0.020411494241412215, val_recall: 0.9852276162816844\n"
     ]
    },
    {
     "name": "stderr",
     "output_type": "stream",
     "text": [
      "100%|█████████████████████████████████████████| 655/655 [00:17<00:00, 36.59it/s]\n"
     ]
    },
    {
     "name": "stdout",
     "output_type": "stream",
     "text": [
      "Epoch: 1159, loss: 35.144113188299514, f1: 0.03538925899834932, precision: 0.018017152505606867, recall: 0.9884778197485072\n",
      "val_loss: 35.144130759282945, val_f1: 0.039994402774875, val_precision: 0.020411494241412215, val_recall: 0.9852276162816844\n"
     ]
    },
    {
     "name": "stderr",
     "output_type": "stream",
     "text": [
      "100%|█████████████████████████████████████████| 655/655 [00:17<00:00, 36.59it/s]\n"
     ]
    },
    {
     "name": "stdout",
     "output_type": "stream",
     "text": [
      "Epoch: 1160, loss: 35.144113188299514, f1: 0.03538925899834932, precision: 0.018017152505606867, recall: 0.9884778197485072\n",
      "val_loss: 35.14413074178433, val_f1: 0.039994402774875, val_precision: 0.020411494241412215, val_recall: 0.9852276162816844\n"
     ]
    },
    {
     "name": "stderr",
     "output_type": "stream",
     "text": [
      "100%|█████████████████████████████████████████| 655/655 [00:17<00:00, 36.83it/s]\n"
     ]
    },
    {
     "name": "stdout",
     "output_type": "stream",
     "text": [
      "Epoch: 1161, loss: 35.14411317665159, f1: 0.03538925899834932, precision: 0.018017152505606867, recall: 0.9884778197485072\n",
      "val_loss: 35.14413074178433, val_f1: 0.039994402774875, val_precision: 0.020411494241412215, val_recall: 0.9852276162816844\n"
     ]
    },
    {
     "name": "stderr",
     "output_type": "stream",
     "text": [
      "100%|█████████████████████████████████████████| 655/655 [00:17<00:00, 36.52it/s]\n"
     ]
    },
    {
     "name": "stdout",
     "output_type": "stream",
     "text": [
      "Epoch: 1162, loss: 35.14411317665159, f1: 0.03538925899834932, precision: 0.018017152505606867, recall: 0.9884778197485072\n",
      "val_loss: 35.144130461806554, val_f1: 0.039994402774875, val_precision: 0.020411494241412215, val_recall: 0.9852276162816844\n"
     ]
    },
    {
     "name": "stderr",
     "output_type": "stream",
     "text": [
      "100%|█████████████████████████████████████████| 655/655 [00:17<00:00, 36.64it/s]\n"
     ]
    },
    {
     "name": "stdout",
     "output_type": "stream",
     "text": [
      "Epoch: 1163, loss: 35.14411316500365, f1: 0.03538925899834932, precision: 0.018017152505606867, recall: 0.9884778197485072\n",
      "val_loss: 35.14413044430794, val_f1: 0.039994402774875, val_precision: 0.020411494241412215, val_recall: 0.9852276162816844\n"
     ]
    },
    {
     "name": "stderr",
     "output_type": "stream",
     "text": [
      "100%|█████████████████████████████████████████| 655/655 [00:17<00:00, 36.48it/s]\n"
     ]
    },
    {
     "name": "stdout",
     "output_type": "stream",
     "text": [
      "Epoch: 1164, loss: 35.14411315917969, f1: 0.03538925899834932, precision: 0.018017152505606867, recall: 0.9884778197485072\n",
      "val_loss: 35.144130426809326, val_f1: 0.039994402774875, val_precision: 0.020411494241412215, val_recall: 0.9852276162816844\n"
     ]
    },
    {
     "name": "stderr",
     "output_type": "stream",
     "text": [
      "100%|█████████████████████████████████████████| 655/655 [00:17<00:00, 36.54it/s]\n"
     ]
    },
    {
     "name": "stdout",
     "output_type": "stream",
     "text": [
      "Epoch: 1165, loss: 35.14411315917969, f1: 0.03538925899834932, precision: 0.018017152505606867, recall: 0.9884778197485072\n",
      "val_loss: 35.14413040931072, val_f1: 0.039994402774875, val_precision: 0.020411494241412215, val_recall: 0.9852276162816844\n"
     ]
    },
    {
     "name": "stderr",
     "output_type": "stream",
     "text": [
      "100%|█████████████████████████████████████████| 655/655 [00:17<00:00, 36.63it/s]\n"
     ]
    },
    {
     "name": "stdout",
     "output_type": "stream",
     "text": [
      "Epoch: 1166, loss: 35.144113147531755, f1: 0.03538925899834932, precision: 0.018017152505606867, recall: 0.9884778197485072\n",
      "val_loss: 35.14413037431349, val_f1: 0.039994402774875, val_precision: 0.020411494241412215, val_recall: 0.9852276162816844\n"
     ]
    },
    {
     "name": "stderr",
     "output_type": "stream",
     "text": [
      "100%|█████████████████████████████████████████| 655/655 [00:17<00:00, 36.84it/s]\n"
     ]
    },
    {
     "name": "stdout",
     "output_type": "stream",
     "text": [
      "Epoch: 1167, loss: 35.14411312423589, f1: 0.03538925899834932, precision: 0.018017152505606867, recall: 0.9884778197485072\n",
      "val_loss: 35.14413037431349, val_f1: 0.039994402774875, val_precision: 0.020411494241412215, val_recall: 0.9852276162816844\n"
     ]
    },
    {
     "name": "stderr",
     "output_type": "stream",
     "text": [
      "100%|█████████████████████████████████████████| 655/655 [00:17<00:00, 36.56it/s]\n"
     ]
    },
    {
     "name": "stdout",
     "output_type": "stream",
     "text": [
      "Epoch: 1168, loss: 35.14411311841193, f1: 0.03538925899834932, precision: 0.018017152505606867, recall: 0.9884778197485072\n",
      "val_loss: 35.144130356814884, val_f1: 0.039994402774875, val_precision: 0.020411494241412215, val_recall: 0.9852276162816844\n"
     ]
    },
    {
     "name": "stderr",
     "output_type": "stream",
     "text": [
      "100%|█████████████████████████████████████████| 655/655 [00:17<00:00, 36.59it/s]\n"
     ]
    },
    {
     "name": "stdout",
     "output_type": "stream",
     "text": [
      "Epoch: 1169, loss: 35.144113106764, f1: 0.03538925899834932, precision: 0.018017152505606867, recall: 0.9884778197485072\n",
      "val_loss: 35.144130356814884, val_f1: 0.039994402774875, val_precision: 0.020411494241412215, val_recall: 0.9852276162816844\n"
     ]
    },
    {
     "name": "stderr",
     "output_type": "stream",
     "text": [
      "100%|█████████████████████████████████████████| 655/655 [00:17<00:00, 36.51it/s]\n"
     ]
    },
    {
     "name": "stdout",
     "output_type": "stream",
     "text": [
      "Epoch: 1170, loss: 35.144113106764, f1: 0.03538925899834932, precision: 0.018017152505606867, recall: 0.9884778197485072\n",
      "val_loss: 35.14413033931627, val_f1: 0.039994402774875, val_precision: 0.020411494241412215, val_recall: 0.9852276162816844\n"
     ]
    },
    {
     "name": "stderr",
     "output_type": "stream",
     "text": [
      "100%|█████████████████████████████████████████| 655/655 [00:17<00:00, 36.58it/s]\n"
     ]
    },
    {
     "name": "stdout",
     "output_type": "stream",
     "text": [
      "Epoch: 1171, loss: 35.14411309511607, f1: 0.03538925899834932, precision: 0.018017152505606867, recall: 0.9884778197485072\n",
      "val_loss: 35.14413032181766, val_f1: 0.039994402774875, val_precision: 0.020411494241412215, val_recall: 0.9852276162816844\n"
     ]
    },
    {
     "name": "stderr",
     "output_type": "stream",
     "text": [
      "100%|█████████████████████████████████████████| 655/655 [00:17<00:00, 36.44it/s]\n"
     ]
    },
    {
     "name": "stdout",
     "output_type": "stream",
     "text": [
      "Epoch: 1172, loss: 35.144113089292105, f1: 0.03538925899834932, precision: 0.018017152505606867, recall: 0.9884778197485072\n",
      "val_loss: 35.14413030431905, val_f1: 0.039994402774875, val_precision: 0.020411494241412215, val_recall: 0.9852276162816844\n"
     ]
    },
    {
     "name": "stderr",
     "output_type": "stream",
     "text": [
      "100%|█████████████████████████████████████████| 655/655 [00:17<00:00, 36.51it/s]\n"
     ]
    },
    {
     "name": "stdout",
     "output_type": "stream",
     "text": [
      "Epoch: 1173, loss: 35.14411307182021, f1: 0.03538925899834932, precision: 0.018017152505606867, recall: 0.9884778197485072\n",
      "val_loss: 35.144130286820435, val_f1: 0.039994402774875, val_precision: 0.020411494241412215, val_recall: 0.9852276162816844\n"
     ]
    },
    {
     "name": "stderr",
     "output_type": "stream",
     "text": [
      "100%|█████████████████████████████████████████| 655/655 [00:17<00:00, 36.80it/s]\n"
     ]
    },
    {
     "name": "stdout",
     "output_type": "stream",
     "text": [
      "Epoch: 1174, loss: 35.14411306017228, f1: 0.03538925899834932, precision: 0.018017152505606867, recall: 0.9884778197485072\n",
      "val_loss: 35.14413026932183, val_f1: 0.039994402774875, val_precision: 0.020411494241412215, val_recall: 0.9852276162816844\n"
     ]
    },
    {
     "name": "stderr",
     "output_type": "stream",
     "text": [
      "100%|█████████████████████████████████████████| 655/655 [00:17<00:00, 36.57it/s]\n"
     ]
    },
    {
     "name": "stdout",
     "output_type": "stream",
     "text": [
      "Epoch: 1175, loss: 35.144113048524346, f1: 0.03538925899834932, precision: 0.018017152505606867, recall: 0.9884778197485072\n",
      "val_loss: 35.14413025182321, val_f1: 0.039994402774875, val_precision: 0.020411494241412215, val_recall: 0.9852276162816844\n"
     ]
    },
    {
     "name": "stderr",
     "output_type": "stream",
     "text": [
      "100%|█████████████████████████████████████████| 655/655 [00:17<00:00, 36.62it/s]\n"
     ]
    },
    {
     "name": "stdout",
     "output_type": "stream",
     "text": [
      "Epoch: 1176, loss: 35.144113025228485, f1: 0.03538925899834932, precision: 0.018017152505606867, recall: 0.9884778197485072\n",
      "val_loss: 35.14413025182321, val_f1: 0.039994402774875, val_precision: 0.020411494241412215, val_recall: 0.9852276162816844\n"
     ]
    },
    {
     "name": "stderr",
     "output_type": "stream",
     "text": [
      "100%|█████████████████████████████████████████| 655/655 [00:17<00:00, 36.53it/s]\n"
     ]
    },
    {
     "name": "stdout",
     "output_type": "stream",
     "text": [
      "Epoch: 1177, loss: 35.14411301940452, f1: 0.03538925899834932, precision: 0.018017152505606867, recall: 0.9884778197485072\n",
      "val_loss: 35.14413023432461, val_f1: 0.039994402774875, val_precision: 0.020411494241412215, val_recall: 0.9852276162816844\n"
     ]
    },
    {
     "name": "stderr",
     "output_type": "stream",
     "text": [
      "100%|█████████████████████████████████████████| 655/655 [00:17<00:00, 36.59it/s]\n"
     ]
    },
    {
     "name": "stdout",
     "output_type": "stream",
     "text": [
      "Epoch: 1178, loss: 35.14411301358056, f1: 0.03538925899834932, precision: 0.018017152505606867, recall: 0.9884778197485072\n",
      "val_loss: 35.14413023432461, val_f1: 0.039994402774875, val_precision: 0.020411494241412215, val_recall: 0.9852276162816844\n"
     ]
    },
    {
     "name": "stderr",
     "output_type": "stream",
     "text": [
      "100%|█████████████████████████████████████████| 655/655 [00:17<00:00, 36.53it/s]\n"
     ]
    },
    {
     "name": "stdout",
     "output_type": "stream",
     "text": [
      "Epoch: 1179, loss: 35.14411300775659, f1: 0.03538925899834932, precision: 0.018017152505606867, recall: 0.9884778197485072\n",
      "val_loss: 35.14413021682599, val_f1: 0.039994402774875, val_precision: 0.020411494241412215, val_recall: 0.9852276162816844\n"
     ]
    },
    {
     "name": "stderr",
     "output_type": "stream",
     "text": [
      "100%|█████████████████████████████████████████| 655/655 [00:17<00:00, 37.19it/s]\n"
     ]
    },
    {
     "name": "stdout",
     "output_type": "stream",
     "text": [
      "Epoch: 1180, loss: 35.144113001932624, f1: 0.03538925899834932, precision: 0.018017152505606867, recall: 0.9884778197485072\n",
      "val_loss: 35.14413016433016, val_f1: 0.039994402774875, val_precision: 0.020411494241412215, val_recall: 0.9852276162816844\n"
     ]
    },
    {
     "name": "stderr",
     "output_type": "stream",
     "text": [
      "100%|█████████████████████████████████████████| 655/655 [00:17<00:00, 36.54it/s]\n"
     ]
    },
    {
     "name": "stdout",
     "output_type": "stream",
     "text": [
      "Epoch: 1181, loss: 35.1441129902847, f1: 0.03538925899834932, precision: 0.018017152505606867, recall: 0.9884778197485072\n",
      "val_loss: 35.14413014683155, val_f1: 0.039994402774875, val_precision: 0.020411494241412215, val_recall: 0.9852276162816844\n"
     ]
    },
    {
     "name": "stderr",
     "output_type": "stream",
     "text": [
      "100%|█████████████████████████████████████████| 655/655 [00:17<00:00, 36.57it/s]\n"
     ]
    },
    {
     "name": "stdout",
     "output_type": "stream",
     "text": [
      "Epoch: 1182, loss: 35.1441129902847, f1: 0.03538925899834932, precision: 0.018017152505606867, recall: 0.9884778197485072\n",
      "val_loss: 35.14413014683155, val_f1: 0.039994402774875, val_precision: 0.020411494241412215, val_recall: 0.9852276162816844\n"
     ]
    },
    {
     "name": "stderr",
     "output_type": "stream",
     "text": [
      "100%|█████████████████████████████████████████| 655/655 [00:17<00:00, 36.63it/s]\n"
     ]
    },
    {
     "name": "stdout",
     "output_type": "stream",
     "text": [
      "Epoch: 1183, loss: 35.144112984460726, f1: 0.03538925899834932, precision: 0.018017152505606867, recall: 0.9884778197485072\n",
      "val_loss: 35.14413014683155, val_f1: 0.039994402774875, val_precision: 0.020411494241412215, val_recall: 0.9852276162816844\n"
     ]
    },
    {
     "name": "stderr",
     "output_type": "stream",
     "text": [
      "100%|█████████████████████████████████████████| 655/655 [00:17<00:00, 36.63it/s]\n"
     ]
    },
    {
     "name": "stdout",
     "output_type": "stream",
     "text": [
      "Epoch: 1184, loss: 35.144112984460726, f1: 0.03538925899834932, precision: 0.018017152505606867, recall: 0.9884778197485072\n",
      "val_loss: 35.14413011183432, val_f1: 0.039994402774875, val_precision: 0.020411494241412215, val_recall: 0.9852276162816844\n"
     ]
    },
    {
     "name": "stderr",
     "output_type": "stream",
     "text": [
      "100%|█████████████████████████████████████████| 655/655 [00:17<00:00, 36.50it/s]\n"
     ]
    },
    {
     "name": "stdout",
     "output_type": "stream",
     "text": [
      "Epoch: 1185, loss: 35.1441129553409, f1: 0.03538925899834932, precision: 0.018017152505606867, recall: 0.9884778197485072\n",
      "val_loss: 35.14413011183432, val_f1: 0.039994402774875, val_precision: 0.020411494241412215, val_recall: 0.9852276162816844\n"
     ]
    },
    {
     "name": "stderr",
     "output_type": "stream",
     "text": [
      "100%|█████████████████████████████████████████| 655/655 [00:17<00:00, 36.85it/s]\n"
     ]
    },
    {
     "name": "stdout",
     "output_type": "stream",
     "text": [
      "Epoch: 1186, loss: 35.144112943692974, f1: 0.03538925899834932, precision: 0.018017152505606867, recall: 0.9884778197485072\n",
      "val_loss: 35.144130059338494, val_f1: 0.039994402774875, val_precision: 0.020411494241412215, val_recall: 0.9852276162816844\n"
     ]
    },
    {
     "name": "stderr",
     "output_type": "stream",
     "text": [
      "100%|█████████████████████████████████████████| 655/655 [00:17<00:00, 36.48it/s]\n"
     ]
    },
    {
     "name": "stdout",
     "output_type": "stream",
     "text": [
      "Epoch: 1187, loss: 35.14411293204504, f1: 0.03538925899834932, precision: 0.018017152505606867, recall: 0.9884778197485072\n",
      "val_loss: 35.144130059338494, val_f1: 0.039994402774875, val_precision: 0.020411494241412215, val_recall: 0.9852276162816844\n"
     ]
    },
    {
     "name": "stderr",
     "output_type": "stream",
     "text": [
      "100%|█████████████████████████████████████████| 655/655 [00:17<00:00, 36.55it/s]\n"
     ]
    },
    {
     "name": "stdout",
     "output_type": "stream",
     "text": [
      "Epoch: 1188, loss: 35.14411293204504, f1: 0.03538925899834932, precision: 0.018017152505606867, recall: 0.9884778197485072\n",
      "val_loss: 35.14413004183988, val_f1: 0.039994402774875, val_precision: 0.020411494241412215, val_recall: 0.9852276162816844\n"
     ]
    },
    {
     "name": "stderr",
     "output_type": "stream",
     "text": [
      "100%|█████████████████████████████████████████| 655/655 [00:17<00:00, 36.59it/s]\n"
     ]
    },
    {
     "name": "stdout",
     "output_type": "stream",
     "text": [
      "Epoch: 1189, loss: 35.14411288545332, f1: 0.03538925899834932, precision: 0.018017152505606867, recall: 0.9884778197485072\n",
      "val_loss: 35.14413004183988, val_f1: 0.039994402774875, val_precision: 0.020411494241412215, val_recall: 0.9852276162816844\n"
     ]
    },
    {
     "name": "stderr",
     "output_type": "stream",
     "text": [
      "100%|█████████████████████████████████████████| 655/655 [00:17<00:00, 36.60it/s]\n"
     ]
    },
    {
     "name": "stdout",
     "output_type": "stream",
     "text": [
      "Epoch: 1190, loss: 35.144112879629354, f1: 0.03538925899834932, precision: 0.018017152505606867, recall: 0.9884778197485072\n",
      "val_loss: 35.14413004183988, val_f1: 0.039994402774875, val_precision: 0.020411494241412215, val_recall: 0.9852276162816844\n"
     ]
    },
    {
     "name": "stderr",
     "output_type": "stream",
     "text": [
      "100%|█████████████████████████████████████████| 655/655 [00:17<00:00, 36.63it/s]\n"
     ]
    },
    {
     "name": "stdout",
     "output_type": "stream",
     "text": [
      "Epoch: 1191, loss: 35.14411287380539, f1: 0.03538925899834932, precision: 0.018017152505606867, recall: 0.9884778197485072\n",
      "val_loss: 35.144130024341266, val_f1: 0.039994402774875, val_precision: 0.020411494241412215, val_recall: 0.9852276162816844\n"
     ]
    },
    {
     "name": "stderr",
     "output_type": "stream",
     "text": [
      "100%|█████████████████████████████████████████| 655/655 [00:17<00:00, 36.75it/s]\n"
     ]
    },
    {
     "name": "stdout",
     "output_type": "stream",
     "text": [
      "Epoch: 1192, loss: 35.144112862157456, f1: 0.03538925899834932, precision: 0.018017152505606867, recall: 0.9884778197485072\n",
      "val_loss: 35.144129989344044, val_f1: 0.039994402774875, val_precision: 0.020411494241412215, val_recall: 0.9852276162816844\n"
     ]
    },
    {
     "name": "stderr",
     "output_type": "stream",
     "text": [
      "100%|█████████████████████████████████████████| 655/655 [00:17<00:00, 36.75it/s]\n"
     ]
    },
    {
     "name": "stdout",
     "output_type": "stream",
     "text": [
      "Epoch: 1193, loss: 35.14411284468556, f1: 0.03538925899834932, precision: 0.018017152505606867, recall: 0.9884778197485072\n",
      "val_loss: 35.14412997184544, val_f1: 0.039994402774875, val_precision: 0.020411494241412215, val_recall: 0.9852276162816844\n"
     ]
    },
    {
     "name": "stderr",
     "output_type": "stream",
     "text": [
      "100%|█████████████████████████████████████████| 655/655 [00:17<00:00, 36.55it/s]\n"
     ]
    },
    {
     "name": "stdout",
     "output_type": "stream",
     "text": [
      "Epoch: 1194, loss: 35.14411282721367, f1: 0.03538925899834932, precision: 0.018017152505606867, recall: 0.9884778197485072\n",
      "val_loss: 35.14412997184544, val_f1: 0.039994402774875, val_precision: 0.020411494241412215, val_recall: 0.9852276162816844\n"
     ]
    },
    {
     "name": "stderr",
     "output_type": "stream",
     "text": [
      "100%|█████████████████████████████████████████| 655/655 [00:17<00:00, 36.50it/s]\n"
     ]
    },
    {
     "name": "stdout",
     "output_type": "stream",
     "text": [
      "Epoch: 1195, loss: 35.14411280974177, f1: 0.03538925899834932, precision: 0.018017152505606867, recall: 0.9884778197485072\n",
      "val_loss: 35.14412995434682, val_f1: 0.039994402774875, val_precision: 0.020411494241412215, val_recall: 0.9852276162816844\n"
     ]
    },
    {
     "name": "stderr",
     "output_type": "stream",
     "text": [
      "100%|█████████████████████████████████████████| 655/655 [00:17<00:00, 36.63it/s]\n"
     ]
    },
    {
     "name": "stdout",
     "output_type": "stream",
     "text": [
      "Epoch: 1196, loss: 35.144112798093836, f1: 0.03538925899834932, precision: 0.018017152505606867, recall: 0.9884778197485072\n",
      "val_loss: 35.14412995434682, val_f1: 0.039994402774875, val_precision: 0.020411494241412215, val_recall: 0.9852276162816844\n"
     ]
    },
    {
     "name": "stderr",
     "output_type": "stream",
     "text": [
      "100%|█████████████████████████████████████████| 655/655 [00:17<00:00, 36.58it/s]\n"
     ]
    },
    {
     "name": "stdout",
     "output_type": "stream",
     "text": [
      "Epoch: 1197, loss: 35.14411279226987, f1: 0.03538925899834932, precision: 0.018017152505606867, recall: 0.9884778197485072\n",
      "val_loss: 35.14412995434682, val_f1: 0.039994402774875, val_precision: 0.020411494241412215, val_recall: 0.9852276162816844\n"
     ]
    },
    {
     "name": "stderr",
     "output_type": "stream",
     "text": [
      "100%|█████████████████████████████████████████| 655/655 [00:17<00:00, 36.55it/s]\n"
     ]
    },
    {
     "name": "stdout",
     "output_type": "stream",
     "text": [
      "Epoch: 1198, loss: 35.144112780621946, f1: 0.03538925899834932, precision: 0.018017152505606867, recall: 0.9884778197485072\n",
      "val_loss: 35.1441299193496, val_f1: 0.039994402774875, val_precision: 0.020411494241412215, val_recall: 0.9852276162816844\n"
     ]
    },
    {
     "name": "stderr",
     "output_type": "stream",
     "text": [
      "100%|█████████████████████████████████████████| 655/655 [00:17<00:00, 37.04it/s]\n"
     ]
    },
    {
     "name": "stdout",
     "output_type": "stream",
     "text": [
      "Epoch: 1199, loss: 35.144112757326084, f1: 0.03538925899834932, precision: 0.018017152505606867, recall: 0.9884778197485072\n",
      "val_loss: 35.1441299193496, val_f1: 0.039994402774875, val_precision: 0.020411494241412215, val_recall: 0.9852276162816844\n"
     ]
    },
    {
     "name": "stderr",
     "output_type": "stream",
     "text": [
      "100%|█████████████████████████████████████████| 655/655 [00:17<00:00, 36.67it/s]\n"
     ]
    },
    {
     "name": "stdout",
     "output_type": "stream",
     "text": [
      "Epoch: 1200, loss: 35.14411273985419, f1: 0.03538925899834932, precision: 0.018017152505606867, recall: 0.9884778197485072\n",
      "val_loss: 35.14412990185099, val_f1: 0.039994402774875, val_precision: 0.020411494241412215, val_recall: 0.9852276162816844\n"
     ]
    },
    {
     "name": "stderr",
     "output_type": "stream",
     "text": [
      "100%|█████████████████████████████████████████| 655/655 [00:17<00:00, 36.62it/s]\n"
     ]
    },
    {
     "name": "stdout",
     "output_type": "stream",
     "text": [
      "Epoch: 1201, loss: 35.14411273985419, f1: 0.03538925899834932, precision: 0.018017152505606867, recall: 0.9884778197485072\n",
      "val_loss: 35.14412988435238, val_f1: 0.039994402774875, val_precision: 0.020411494241412215, val_recall: 0.9852276162816844\n"
     ]
    },
    {
     "name": "stderr",
     "output_type": "stream",
     "text": [
      "100%|█████████████████████████████████████████| 655/655 [00:17<00:00, 36.51it/s]\n"
     ]
    },
    {
     "name": "stdout",
     "output_type": "stream",
     "text": [
      "Epoch: 1202, loss: 35.14411273985419, f1: 0.03538925899834932, precision: 0.018017152505606867, recall: 0.9884778197485072\n",
      "val_loss: 35.14412986685377, val_f1: 0.039994402774875, val_precision: 0.020411494241412215, val_recall: 0.9852276162816844\n"
     ]
    },
    {
     "name": "stderr",
     "output_type": "stream",
     "text": [
      "100%|█████████████████████████████████████████| 655/655 [00:17<00:00, 36.50it/s]\n"
     ]
    },
    {
     "name": "stdout",
     "output_type": "stream",
     "text": [
      "Epoch: 1203, loss: 35.14411272238229, f1: 0.03538925899834932, precision: 0.018017152505606867, recall: 0.9884778197485072\n",
      "val_loss: 35.14412984935515, val_f1: 0.039994402774875, val_precision: 0.020411494241412215, val_recall: 0.9852276162816844\n"
     ]
    },
    {
     "name": "stderr",
     "output_type": "stream",
     "text": [
      "100%|█████████████████████████████████████████| 655/655 [00:17<00:00, 36.55it/s]\n"
     ]
    },
    {
     "name": "stdout",
     "output_type": "stream",
     "text": [
      "Epoch: 1204, loss: 35.1441127049104, f1: 0.03538925899834932, precision: 0.018017152505606867, recall: 0.9884778197485072\n",
      "val_loss: 35.14412984935515, val_f1: 0.039994402774875, val_precision: 0.020411494241412215, val_recall: 0.9852276162816844\n"
     ]
    },
    {
     "name": "stderr",
     "output_type": "stream",
     "text": [
      "100%|█████████████████████████████████████████| 655/655 [00:17<00:00, 37.09it/s]\n"
     ]
    },
    {
     "name": "stdout",
     "output_type": "stream",
     "text": [
      "Epoch: 1205, loss: 35.144112693262464, f1: 0.03538925899834932, precision: 0.018017152505606867, recall: 0.9884778197485072\n",
      "val_loss: 35.144129831856546, val_f1: 0.039994402774875, val_precision: 0.020411494241412215, val_recall: 0.9852276162816844\n"
     ]
    },
    {
     "name": "stderr",
     "output_type": "stream",
     "text": [
      "100%|█████████████████████████████████████████| 655/655 [00:17<00:00, 36.59it/s]\n"
     ]
    },
    {
     "name": "stdout",
     "output_type": "stream",
     "text": [
      "Epoch: 1206, loss: 35.1441126874385, f1: 0.03538925899834932, precision: 0.018017152505606867, recall: 0.9884778197485072\n",
      "val_loss: 35.14412981435793, val_f1: 0.039994402774875, val_precision: 0.020411494241412215, val_recall: 0.9852276162816844\n"
     ]
    },
    {
     "name": "stderr",
     "output_type": "stream",
     "text": [
      "100%|█████████████████████████████████████████| 655/655 [00:17<00:00, 36.60it/s]\n"
     ]
    },
    {
     "name": "stdout",
     "output_type": "stream",
     "text": [
      "Epoch: 1207, loss: 35.14411266414264, f1: 0.03538925899834932, precision: 0.018017152505606867, recall: 0.9884778197485072\n",
      "val_loss: 35.144129796859325, val_f1: 0.039994402774875, val_precision: 0.020411494241412215, val_recall: 0.9852276162816844\n"
     ]
    },
    {
     "name": "stderr",
     "output_type": "stream",
     "text": [
      "100%|█████████████████████████████████████████| 655/655 [00:17<00:00, 36.53it/s]\n"
     ]
    },
    {
     "name": "stdout",
     "output_type": "stream",
     "text": [
      "Epoch: 1208, loss: 35.144112652494705, f1: 0.03538925899834932, precision: 0.018017152505606867, recall: 0.9884778197485072\n",
      "val_loss: 35.1441297618621, val_f1: 0.039994402774875, val_precision: 0.020411494241412215, val_recall: 0.9852276162816844\n"
     ]
    },
    {
     "name": "stderr",
     "output_type": "stream",
     "text": [
      "100%|█████████████████████████████████████████| 655/655 [00:17<00:00, 36.46it/s]\n"
     ]
    },
    {
     "name": "stdout",
     "output_type": "stream",
     "text": [
      "Epoch: 1209, loss: 35.14411264084678, f1: 0.03538925899834932, precision: 0.018017152505606867, recall: 0.9884778197485072\n",
      "val_loss: 35.1441297618621, val_f1: 0.039994402774875, val_precision: 0.020411494241412215, val_recall: 0.9852276162816844\n"
     ]
    },
    {
     "name": "stderr",
     "output_type": "stream",
     "text": [
      "100%|█████████████████████████████████████████| 655/655 [00:17<00:00, 36.64it/s]\n"
     ]
    },
    {
     "name": "stdout",
     "output_type": "stream",
     "text": [
      "Epoch: 1210, loss: 35.144112635022815, f1: 0.03538925899834932, precision: 0.018017152505606867, recall: 0.9884778197485072\n",
      "val_loss: 35.14412974436349, val_f1: 0.039994402774875, val_precision: 0.020411494241412215, val_recall: 0.9852276162816844\n"
     ]
    },
    {
     "name": "stderr",
     "output_type": "stream",
     "text": [
      "100%|█████████████████████████████████████████| 655/655 [00:17<00:00, 36.86it/s]\n"
     ]
    },
    {
     "name": "stdout",
     "output_type": "stream",
     "text": [
      "Epoch: 1211, loss: 35.144112570959194, f1: 0.03538925899834932, precision: 0.018017152505606867, recall: 0.9884778197485072\n",
      "val_loss: 35.14412974436349, val_f1: 0.039994402774875, val_precision: 0.020411494241412215, val_recall: 0.9852276162816844\n"
     ]
    },
    {
     "name": "stderr",
     "output_type": "stream",
     "text": [
      "100%|█████████████████████████████████████████| 655/655 [00:17<00:00, 36.56it/s]\n"
     ]
    },
    {
     "name": "stdout",
     "output_type": "stream",
     "text": [
      "Epoch: 1212, loss: 35.14411254766333, f1: 0.03538925899834932, precision: 0.018017152505606867, recall: 0.9884778197485072\n",
      "val_loss: 35.14412974436349, val_f1: 0.039994402774875, val_precision: 0.020411494241412215, val_recall: 0.9852276162816844\n"
     ]
    },
    {
     "name": "stderr",
     "output_type": "stream",
     "text": [
      "100%|█████████████████████████████████████████| 655/655 [00:17<00:00, 36.58it/s]\n"
     ]
    },
    {
     "name": "stdout",
     "output_type": "stream",
     "text": [
      "Epoch: 1213, loss: 35.14411252436747, f1: 0.03538925899834932, precision: 0.018017152505606867, recall: 0.9884778197485072\n",
      "val_loss: 35.14412970936626, val_f1: 0.039994402774875, val_precision: 0.020411494241412215, val_recall: 0.9852276162816844\n"
     ]
    },
    {
     "name": "stderr",
     "output_type": "stream",
     "text": [
      "100%|█████████████████████████████████████████| 655/655 [00:17<00:00, 36.49it/s]\n"
     ]
    },
    {
     "name": "stdout",
     "output_type": "stream",
     "text": [
      "Epoch: 1214, loss: 35.14411251854351, f1: 0.03538925899834932, precision: 0.018017152505606867, recall: 0.9884778197485072\n",
      "val_loss: 35.14412970936626, val_f1: 0.039994402774875, val_precision: 0.020411494241412215, val_recall: 0.9852276162816844\n"
     ]
    },
    {
     "name": "stderr",
     "output_type": "stream",
     "text": [
      "100%|█████████████████████████████████████████| 655/655 [00:17<00:00, 36.58it/s]\n"
     ]
    },
    {
     "name": "stdout",
     "output_type": "stream",
     "text": [
      "Epoch: 1215, loss: 35.14411250107161, f1: 0.03538925899834932, precision: 0.018017152505606867, recall: 0.9884778197485072\n",
      "val_loss: 35.144129691867654, val_f1: 0.039994402774875, val_precision: 0.020411494241412215, val_recall: 0.9852276162816844\n"
     ]
    },
    {
     "name": "stderr",
     "output_type": "stream",
     "text": [
      "100%|█████████████████████████████████████████| 655/655 [00:17<00:00, 36.70it/s]\n"
     ]
    },
    {
     "name": "stdout",
     "output_type": "stream",
     "text": [
      "Epoch: 1216, loss: 35.14411250107161, f1: 0.03538925899834932, precision: 0.018017152505606867, recall: 0.9884778197485072\n",
      "val_loss: 35.144129621873205, val_f1: 0.039994402774875, val_precision: 0.020411494241412215, val_recall: 0.9852276162816844\n"
     ]
    },
    {
     "name": "stderr",
     "output_type": "stream",
     "text": [
      "100%|█████████████████████████████████████████| 655/655 [00:17<00:00, 36.80it/s]\n"
     ]
    },
    {
     "name": "stdout",
     "output_type": "stream",
     "text": [
      "Epoch: 1217, loss: 35.14411247777575, f1: 0.03538925899834932, precision: 0.018017152505606867, recall: 0.9884778197485072\n",
      "val_loss: 35.144129621873205, val_f1: 0.039994402774875, val_precision: 0.020411494241412215, val_recall: 0.9852276162816844\n"
     ]
    },
    {
     "name": "stderr",
     "output_type": "stream",
     "text": [
      "100%|█████████████████████████████████████████| 655/655 [00:17<00:00, 36.73it/s]\n"
     ]
    },
    {
     "name": "stdout",
     "output_type": "stream",
     "text": [
      "Epoch: 1218, loss: 35.144112471951786, f1: 0.03538925899834932, precision: 0.018017152505606867, recall: 0.9884778197485072\n",
      "val_loss: 35.144129621873205, val_f1: 0.039994402774875, val_precision: 0.020411494241412215, val_recall: 0.9852276162816844\n"
     ]
    },
    {
     "name": "stderr",
     "output_type": "stream",
     "text": [
      "100%|█████████████████████████████████████████| 655/655 [00:17<00:00, 36.69it/s]\n"
     ]
    },
    {
     "name": "stdout",
     "output_type": "stream",
     "text": [
      "Epoch: 1219, loss: 35.14411246030385, f1: 0.03538925899834932, precision: 0.018017152505606867, recall: 0.9884778197485072\n",
      "val_loss: 35.1441296043746, val_f1: 0.039994402774875, val_precision: 0.020411494241412215, val_recall: 0.9852276162816844\n"
     ]
    },
    {
     "name": "stderr",
     "output_type": "stream",
     "text": [
      "100%|█████████████████████████████████████████| 655/655 [00:17<00:00, 36.56it/s]\n"
     ]
    },
    {
     "name": "stdout",
     "output_type": "stream",
     "text": [
      "Epoch: 1220, loss: 35.14411245447989, f1: 0.03538925899834932, precision: 0.018017152505606867, recall: 0.9884778197485072\n",
      "val_loss: 35.144129586875984, val_f1: 0.039994402774875, val_precision: 0.020411494241412215, val_recall: 0.9852276162816844\n"
     ]
    },
    {
     "name": "stderr",
     "output_type": "stream",
     "text": [
      "100%|█████████████████████████████████████████| 655/655 [00:17<00:00, 36.57it/s]\n"
     ]
    },
    {
     "name": "stdout",
     "output_type": "stream",
     "text": [
      "Epoch: 1221, loss: 35.144112442831954, f1: 0.03538925899834932, precision: 0.018017152505606867, recall: 0.9884778197485072\n",
      "val_loss: 35.14412956937738, val_f1: 0.039994402774875, val_precision: 0.020411494241412215, val_recall: 0.9852276162816844\n"
     ]
    },
    {
     "name": "stderr",
     "output_type": "stream",
     "text": [
      "100%|█████████████████████████████████████████| 655/655 [00:17<00:00, 36.60it/s]\n"
     ]
    },
    {
     "name": "stdout",
     "output_type": "stream",
     "text": [
      "Epoch: 1222, loss: 35.14411243700799, f1: 0.03538925899834932, precision: 0.018017152505606867, recall: 0.9884778197485072\n",
      "val_loss: 35.14412956937738, val_f1: 0.039994402774875, val_precision: 0.020411494241412215, val_recall: 0.9852276162816844\n"
     ]
    },
    {
     "name": "stderr",
     "output_type": "stream",
     "text": [
      "100%|█████████████████████████████████████████| 655/655 [00:17<00:00, 36.57it/s]\n"
     ]
    },
    {
     "name": "stdout",
     "output_type": "stream",
     "text": [
      "Epoch: 1223, loss: 35.14411242536006, f1: 0.03538925899834932, precision: 0.018017152505606867, recall: 0.9884778197485072\n",
      "val_loss: 35.14412949938293, val_f1: 0.039994402774875, val_precision: 0.020411494241412215, val_recall: 0.9852276162816844\n"
     ]
    },
    {
     "name": "stderr",
     "output_type": "stream",
     "text": [
      "100%|█████████████████████████████████████████| 655/655 [00:17<00:00, 37.13it/s]\n"
     ]
    },
    {
     "name": "stdout",
     "output_type": "stream",
     "text": [
      "Epoch: 1224, loss: 35.144112407888166, f1: 0.03538925899834932, precision: 0.018017152505606867, recall: 0.9884778197485072\n",
      "val_loss: 35.14412949938293, val_f1: 0.039994402774875, val_precision: 0.020411494241412215, val_recall: 0.9852276162816844\n"
     ]
    },
    {
     "name": "stderr",
     "output_type": "stream",
     "text": [
      "100%|█████████████████████████████████████████| 655/655 [00:17<00:00, 36.53it/s]\n"
     ]
    },
    {
     "name": "stdout",
     "output_type": "stream",
     "text": [
      "Epoch: 1225, loss: 35.14411239041627, f1: 0.03538925899834932, precision: 0.018017152505606867, recall: 0.9884778197485072\n",
      "val_loss: 35.14412944688709, val_f1: 0.039994402774875, val_precision: 0.020411494241412215, val_recall: 0.9852276162816844\n"
     ]
    },
    {
     "name": "stderr",
     "output_type": "stream",
     "text": [
      "100%|█████████████████████████████████████████| 655/655 [00:17<00:00, 36.61it/s]\n"
     ]
    },
    {
     "name": "stdout",
     "output_type": "stream",
     "text": [
      "Epoch: 1226, loss: 35.144112384592304, f1: 0.03538925899834932, precision: 0.018017152505606867, recall: 0.9884778197485072\n",
      "val_loss: 35.14412944688709, val_f1: 0.039994402774875, val_precision: 0.020411494241412215, val_recall: 0.9852276162816844\n"
     ]
    },
    {
     "name": "stderr",
     "output_type": "stream",
     "text": [
      "100%|█████████████████████████████████████████| 655/655 [00:17<00:00, 36.60it/s]\n"
     ]
    },
    {
     "name": "stdout",
     "output_type": "stream",
     "text": [
      "Epoch: 1227, loss: 35.144112384592304, f1: 0.03538925899834932, precision: 0.018017152505606867, recall: 0.9884778197485072\n",
      "val_loss: 35.14412944688709, val_f1: 0.039994402774875, val_precision: 0.020411494241412215, val_recall: 0.9852276162816844\n"
     ]
    },
    {
     "name": "stderr",
     "output_type": "stream",
     "text": [
      "100%|█████████████████████████████████████████| 655/655 [00:17<00:00, 36.63it/s]\n"
     ]
    },
    {
     "name": "stdout",
     "output_type": "stream",
     "text": [
      "Epoch: 1228, loss: 35.14411237294437, f1: 0.03538925899834932, precision: 0.018017152505606867, recall: 0.9884778197485072\n",
      "val_loss: 35.144129429388485, val_f1: 0.039994402774875, val_precision: 0.020411494241412215, val_recall: 0.9852276162816844\n"
     ]
    },
    {
     "name": "stderr",
     "output_type": "stream",
     "text": [
      "100%|█████████████████████████████████████████| 655/655 [00:17<00:00, 36.55it/s]\n"
     ]
    },
    {
     "name": "stdout",
     "output_type": "stream",
     "text": [
      "Epoch: 1229, loss: 35.14411237294437, f1: 0.03538925899834932, precision: 0.018017152505606867, recall: 0.9884778197485072\n",
      "val_loss: 35.144129429388485, val_f1: 0.039994402774875, val_precision: 0.020411494241412215, val_recall: 0.9852276162816844\n"
     ]
    },
    {
     "name": "stderr",
     "output_type": "stream",
     "text": [
      "100%|█████████████████████████████████████████| 655/655 [00:17<00:00, 37.24it/s]\n"
     ]
    },
    {
     "name": "stdout",
     "output_type": "stream",
     "text": [
      "Epoch: 1230, loss: 35.14411236712041, f1: 0.03538925899834932, precision: 0.018017152505606867, recall: 0.9884778197485072\n",
      "val_loss: 35.144129394391264, val_f1: 0.039994402774875, val_precision: 0.020411494241412215, val_recall: 0.9852276162816844\n"
     ]
    },
    {
     "name": "stderr",
     "output_type": "stream",
     "text": [
      "100%|█████████████████████████████████████████| 655/655 [00:17<00:00, 36.62it/s]\n"
     ]
    },
    {
     "name": "stdout",
     "output_type": "stream",
     "text": [
      "Epoch: 1231, loss: 35.14411234964851, f1: 0.03538925899834932, precision: 0.018017152505606867, recall: 0.9884778197485072\n",
      "val_loss: 35.144129394391264, val_f1: 0.039994402774875, val_precision: 0.020411494241412215, val_recall: 0.9852276162816844\n"
     ]
    },
    {
     "name": "stderr",
     "output_type": "stream",
     "text": [
      "100%|█████████████████████████████████████████| 655/655 [00:17<00:00, 36.47it/s]\n"
     ]
    },
    {
     "name": "stdout",
     "output_type": "stream",
     "text": [
      "Epoch: 1232, loss: 35.144112343824546, f1: 0.03538925899834932, precision: 0.018017152505606867, recall: 0.9884778197485072\n",
      "val_loss: 35.14412937689265, val_f1: 0.039994402774875, val_precision: 0.020411494241412215, val_recall: 0.9852276162816844\n"
     ]
    },
    {
     "name": "stderr",
     "output_type": "stream",
     "text": [
      "100%|█████████████████████████████████████████| 655/655 [00:17<00:00, 36.49it/s]\n"
     ]
    },
    {
     "name": "stdout",
     "output_type": "stream",
     "text": [
      "Epoch: 1233, loss: 35.14411233800058, f1: 0.03538925899834932, precision: 0.018017152505606867, recall: 0.9884778197485072\n",
      "val_loss: 35.144129359394036, val_f1: 0.039994402774875, val_precision: 0.020411494241412215, val_recall: 0.9852276162816844\n"
     ]
    },
    {
     "name": "stderr",
     "output_type": "stream",
     "text": [
      "100%|█████████████████████████████████████████| 655/655 [00:17<00:00, 36.53it/s]\n"
     ]
    },
    {
     "name": "stdout",
     "output_type": "stream",
     "text": [
      "Epoch: 1234, loss: 35.144112320528684, f1: 0.03538925899834932, precision: 0.018017152505606867, recall: 0.9884778197485072\n",
      "val_loss: 35.144129359394036, val_f1: 0.039994402774875, val_precision: 0.020411494241412215, val_recall: 0.9852276162816844\n"
     ]
    },
    {
     "name": "stderr",
     "output_type": "stream",
     "text": [
      "100%|█████████████████████████████████████████| 655/655 [00:17<00:00, 36.56it/s]\n"
     ]
    },
    {
     "name": "stdout",
     "output_type": "stream",
     "text": [
      "Epoch: 1235, loss: 35.144112320528684, f1: 0.03538925899834932, precision: 0.018017152505606867, recall: 0.9884778197485072\n",
      "val_loss: 35.144129324396815, val_f1: 0.039994402774875, val_precision: 0.020411494241412215, val_recall: 0.9852276162816844\n"
     ]
    },
    {
     "name": "stderr",
     "output_type": "stream",
     "text": [
      "100%|█████████████████████████████████████████| 655/655 [00:17<00:00, 36.76it/s]\n"
     ]
    },
    {
     "name": "stdout",
     "output_type": "stream",
     "text": [
      "Epoch: 1236, loss: 35.14411230888076, f1: 0.03538925899834932, precision: 0.018017152505606867, recall: 0.9884778197485072\n",
      "val_loss: 35.144129324396815, val_f1: 0.039994402774875, val_precision: 0.020411494241412215, val_recall: 0.9852276162816844\n"
     ]
    },
    {
     "name": "stderr",
     "output_type": "stream",
     "text": [
      "100%|█████████████████████████████████████████| 655/655 [00:17<00:00, 36.60it/s]\n"
     ]
    },
    {
     "name": "stdout",
     "output_type": "stream",
     "text": [
      "Epoch: 1237, loss: 35.14411230305679, f1: 0.03538925899834932, precision: 0.018017152505606867, recall: 0.9884778197485072\n",
      "val_loss: 35.144129324396815, val_f1: 0.039994402774875, val_precision: 0.020411494241412215, val_recall: 0.9852276162816844\n"
     ]
    },
    {
     "name": "stderr",
     "output_type": "stream",
     "text": [
      "100%|█████████████████████████████████████████| 655/655 [00:17<00:00, 36.64it/s]\n"
     ]
    },
    {
     "name": "stdout",
     "output_type": "stream",
     "text": [
      "Epoch: 1238, loss: 35.14411230305679, f1: 0.03538925899834932, precision: 0.018017152505606867, recall: 0.9884778197485072\n",
      "val_loss: 35.144129289399594, val_f1: 0.039994402774875, val_precision: 0.020411494241412215, val_recall: 0.9852276162816844\n"
     ]
    },
    {
     "name": "stderr",
     "output_type": "stream",
     "text": [
      "100%|█████████████████████████████████████████| 655/655 [00:17<00:00, 36.41it/s]\n"
     ]
    },
    {
     "name": "stdout",
     "output_type": "stream",
     "text": [
      "Epoch: 1239, loss: 35.14411229723282, f1: 0.03538925899834932, precision: 0.018017152505606867, recall: 0.9884778197485072\n",
      "val_loss: 35.14412927190098, val_f1: 0.039994402774875, val_precision: 0.020411494241412215, val_recall: 0.9852276162816844\n"
     ]
    },
    {
     "name": "stderr",
     "output_type": "stream",
     "text": [
      "100%|█████████████████████████████████████████| 655/655 [00:17<00:00, 36.64it/s]\n"
     ]
    },
    {
     "name": "stdout",
     "output_type": "stream",
     "text": [
      "Epoch: 1240, loss: 35.14411229140886, f1: 0.03538925899834932, precision: 0.018017152505606867, recall: 0.9884778197485072\n",
      "val_loss: 35.14412925440237, val_f1: 0.039994402774875, val_precision: 0.020411494241412215, val_recall: 0.9852276162816844\n"
     ]
    },
    {
     "name": "stderr",
     "output_type": "stream",
     "text": [
      "100%|█████████████████████████████████████████| 655/655 [00:17<00:00, 36.54it/s]\n"
     ]
    },
    {
     "name": "stdout",
     "output_type": "stream",
     "text": [
      "Epoch: 1241, loss: 35.144112279760925, f1: 0.03538925899834932, precision: 0.018017152505606867, recall: 0.9884778197485072\n",
      "val_loss: 35.14412925440237, val_f1: 0.039994402774875, val_precision: 0.020411494241412215, val_recall: 0.9852276162816844\n"
     ]
    },
    {
     "name": "stderr",
     "output_type": "stream",
     "text": [
      "100%|█████████████████████████████████████████| 655/655 [00:17<00:00, 36.67it/s]\n"
     ]
    },
    {
     "name": "stdout",
     "output_type": "stream",
     "text": [
      "Epoch: 1242, loss: 35.144112262289035, f1: 0.03538925899834932, precision: 0.018017152505606867, recall: 0.9884778197485072\n",
      "val_loss: 35.14412923690376, val_f1: 0.039994402774875, val_precision: 0.020411494241412215, val_recall: 0.9852276162816844\n"
     ]
    },
    {
     "name": "stderr",
     "output_type": "stream",
     "text": [
      "100%|█████████████████████████████████████████| 655/655 [00:17<00:00, 36.67it/s]\n"
     ]
    },
    {
     "name": "stdout",
     "output_type": "stream",
     "text": [
      "Epoch: 1243, loss: 35.1441122506411, f1: 0.03538925899834932, precision: 0.018017152505606867, recall: 0.9884778197485072\n",
      "val_loss: 35.14412921940515, val_f1: 0.039994402774875, val_precision: 0.020411494241412215, val_recall: 0.9852276162816844\n"
     ]
    },
    {
     "name": "stderr",
     "output_type": "stream",
     "text": [
      "100%|█████████████████████████████████████████| 655/655 [00:17<00:00, 36.58it/s]\n"
     ]
    },
    {
     "name": "stdout",
     "output_type": "stream",
     "text": [
      "Epoch: 1244, loss: 35.14411224481714, f1: 0.03538925899834932, precision: 0.018017152505606867, recall: 0.9884778197485072\n",
      "val_loss: 35.14412920190654, val_f1: 0.039994402774875, val_precision: 0.020411494241412215, val_recall: 0.9852276162816844\n"
     ]
    },
    {
     "name": "stderr",
     "output_type": "stream",
     "text": [
      "100%|█████████████████████████████████████████| 655/655 [00:17<00:00, 36.66it/s]\n"
     ]
    },
    {
     "name": "stdout",
     "output_type": "stream",
     "text": [
      "Epoch: 1245, loss: 35.1441122331692, f1: 0.03538925899834932, precision: 0.018017152505606867, recall: 0.9884778197485072\n",
      "val_loss: 35.144128921928754, val_f1: 0.039994402774875, val_precision: 0.020411494241412215, val_recall: 0.9852276162816844\n"
     ]
    },
    {
     "name": "stderr",
     "output_type": "stream",
     "text": [
      "100%|█████████████████████████████████████████| 655/655 [00:17<00:00, 36.67it/s]\n"
     ]
    },
    {
     "name": "stdout",
     "output_type": "stream",
     "text": [
      "Epoch: 1246, loss: 35.144112221521276, f1: 0.03538925899834932, precision: 0.018017152505606867, recall: 0.9884778197485072\n",
      "val_loss: 35.14412888693153, val_f1: 0.039994402774875, val_precision: 0.020411494241412215, val_recall: 0.9852276162816844\n"
     ]
    },
    {
     "name": "stderr",
     "output_type": "stream",
     "text": [
      "100%|█████████████████████████████████████████| 655/655 [00:17<00:00, 36.50it/s]\n"
     ]
    },
    {
     "name": "stdout",
     "output_type": "stream",
     "text": [
      "Epoch: 1247, loss: 35.14411221569731, f1: 0.03538925899834932, precision: 0.018017152505606867, recall: 0.9884778197485072\n",
      "val_loss: 35.14412888693153, val_f1: 0.039994402774875, val_precision: 0.020411494241412215, val_recall: 0.9852276162816844\n"
     ]
    },
    {
     "name": "stderr",
     "output_type": "stream",
     "text": [
      "100%|█████████████████████████████████████████| 655/655 [00:17<00:00, 36.57it/s]\n"
     ]
    },
    {
     "name": "stdout",
     "output_type": "stream",
     "text": [
      "Epoch: 1248, loss: 35.14411219240145, f1: 0.03538925899834932, precision: 0.018017152505606867, recall: 0.9884778197485072\n",
      "val_loss: 35.14412885193431, val_f1: 0.039994402774875, val_precision: 0.020411494241412215, val_recall: 0.9852276162816844\n"
     ]
    },
    {
     "name": "stderr",
     "output_type": "stream",
     "text": [
      "100%|█████████████████████████████████████████| 655/655 [00:17<00:00, 37.11it/s]\n"
     ]
    },
    {
     "name": "stdout",
     "output_type": "stream",
     "text": [
      "Epoch: 1249, loss: 35.14411218075352, f1: 0.03538925899834932, precision: 0.018017152505606867, recall: 0.9884778197485072\n",
      "val_loss: 35.14412885193431, val_f1: 0.039994402774875, val_precision: 0.020411494241412215, val_recall: 0.9852276162816844\n"
     ]
    },
    {
     "name": "stderr",
     "output_type": "stream",
     "text": [
      "100%|█████████████████████████████████████████| 655/655 [00:17<00:00, 36.57it/s]\n"
     ]
    },
    {
     "name": "stdout",
     "output_type": "stream",
     "text": [
      "Epoch: 1250, loss: 35.14411218075352, f1: 0.03538925899834932, precision: 0.018017152505606867, recall: 0.9884778197485072\n",
      "val_loss: 35.1441288344357, val_f1: 0.039994402774875, val_precision: 0.020411494241412215, val_recall: 0.9852276162816844\n"
     ]
    },
    {
     "name": "stderr",
     "output_type": "stream",
     "text": [
      "100%|█████████████████████████████████████████| 655/655 [00:17<00:00, 36.68it/s]\n"
     ]
    },
    {
     "name": "stdout",
     "output_type": "stream",
     "text": [
      "Epoch: 1251, loss: 35.144112163281626, f1: 0.03538925899834932, precision: 0.018017152505606867, recall: 0.9884778197485072\n",
      "val_loss: 35.1441288344357, val_f1: 0.039994402774875, val_precision: 0.020411494241412215, val_recall: 0.9852276162816844\n"
     ]
    },
    {
     "name": "stderr",
     "output_type": "stream",
     "text": [
      "100%|█████████████████████████████████████████| 655/655 [00:17<00:00, 36.54it/s]\n"
     ]
    },
    {
     "name": "stdout",
     "output_type": "stream",
     "text": [
      "Epoch: 1252, loss: 35.14411215163369, f1: 0.03538925899834932, precision: 0.018017152505606867, recall: 0.9884778197485072\n",
      "val_loss: 35.14412881693709, val_f1: 0.039994402774875, val_precision: 0.020411494241412215, val_recall: 0.9852276162816844\n"
     ]
    },
    {
     "name": "stderr",
     "output_type": "stream",
     "text": [
      "100%|█████████████████████████████████████████| 655/655 [00:17<00:00, 36.57it/s]\n"
     ]
    },
    {
     "name": "stdout",
     "output_type": "stream",
     "text": [
      "Epoch: 1253, loss: 35.14411214580973, f1: 0.03538925899834932, precision: 0.018017152505606867, recall: 0.9884778197485072\n",
      "val_loss: 35.14412879943848, val_f1: 0.039994402774875, val_precision: 0.020411494241412215, val_recall: 0.9852276162816844\n"
     ]
    },
    {
     "name": "stderr",
     "output_type": "stream",
     "text": [
      "100%|█████████████████████████████████████████| 655/655 [00:17<00:00, 36.53it/s]\n"
     ]
    },
    {
     "name": "stdout",
     "output_type": "stream",
     "text": [
      "Epoch: 1254, loss: 35.144112139985765, f1: 0.03538925899834932, precision: 0.018017152505606867, recall: 0.9884778197485072\n",
      "val_loss: 35.14412879943848, val_f1: 0.039994402774875, val_precision: 0.020411494241412215, val_recall: 0.9852276162816844\n"
     ]
    },
    {
     "name": "stderr",
     "output_type": "stream",
     "text": [
      "100%|█████████████████████████████████████████| 655/655 [00:17<00:00, 36.71it/s]\n"
     ]
    },
    {
     "name": "stdout",
     "output_type": "stream",
     "text": [
      "Epoch: 1255, loss: 35.14411212833783, f1: 0.03538925899834932, precision: 0.018017152505606867, recall: 0.9884778197485072\n",
      "val_loss: 35.14412878193986, val_f1: 0.039994402774875, val_precision: 0.020411494241412215, val_recall: 0.9852276162816844\n"
     ]
    },
    {
     "name": "stderr",
     "output_type": "stream",
     "text": [
      "100%|█████████████████████████████████████████| 655/655 [00:17<00:00, 36.56it/s]\n"
     ]
    },
    {
     "name": "stdout",
     "output_type": "stream",
     "text": [
      "Epoch: 1256, loss: 35.14411212251387, f1: 0.03538925899834932, precision: 0.018017152505606867, recall: 0.9884778197485072\n",
      "val_loss: 35.14412878193986, val_f1: 0.039994402774875, val_precision: 0.020411494241412215, val_recall: 0.9852276162816844\n"
     ]
    },
    {
     "name": "stderr",
     "output_type": "stream",
     "text": [
      "100%|█████████████████████████████████████████| 655/655 [00:17<00:00, 36.55it/s]\n"
     ]
    },
    {
     "name": "stdout",
     "output_type": "stream",
     "text": [
      "Epoch: 1257, loss: 35.14411212251387, f1: 0.03538925899834932, precision: 0.018017152505606867, recall: 0.9884778197485072\n",
      "val_loss: 35.14412878193986, val_f1: 0.039994402774875, val_precision: 0.020411494241412215, val_recall: 0.9852276162816844\n"
     ]
    },
    {
     "name": "stderr",
     "output_type": "stream",
     "text": [
      "100%|█████████████████████████████████████████| 655/655 [00:17<00:00, 36.55it/s]\n"
     ]
    },
    {
     "name": "stdout",
     "output_type": "stream",
     "text": [
      "Epoch: 1258, loss: 35.14411211086593, f1: 0.03538925899834932, precision: 0.018017152505606867, recall: 0.9884778197485072\n",
      "val_loss: 35.14412878193986, val_f1: 0.039994402774875, val_precision: 0.020411494241412215, val_recall: 0.9852276162816844\n"
     ]
    },
    {
     "name": "stderr",
     "output_type": "stream",
     "text": [
      "100%|█████████████████████████████████████████| 655/655 [00:17<00:00, 36.52it/s]\n"
     ]
    },
    {
     "name": "stdout",
     "output_type": "stream",
     "text": [
      "Epoch: 1259, loss: 35.14411210504197, f1: 0.03538925899834932, precision: 0.018017152505606867, recall: 0.9884778197485072\n",
      "val_loss: 35.144128764441255, val_f1: 0.039994402774875, val_precision: 0.020411494241412215, val_recall: 0.9852276162816844\n"
     ]
    },
    {
     "name": "stderr",
     "output_type": "stream",
     "text": [
      "100%|█████████████████████████████████████████| 655/655 [00:17<00:00, 36.54it/s]\n"
     ]
    },
    {
     "name": "stdout",
     "output_type": "stream",
     "text": [
      "Epoch: 1260, loss: 35.14411210504197, f1: 0.03538925899834932, precision: 0.018017152505606867, recall: 0.9884778197485072\n",
      "val_loss: 35.144128764441255, val_f1: 0.039994402774875, val_precision: 0.020411494241412215, val_recall: 0.9852276162816844\n"
     ]
    },
    {
     "name": "stderr",
     "output_type": "stream",
     "text": [
      "100%|█████████████████████████████████████████| 655/655 [00:17<00:00, 36.67it/s]\n"
     ]
    },
    {
     "name": "stdout",
     "output_type": "stream",
     "text": [
      "Epoch: 1261, loss: 35.14411208174611, f1: 0.03538925899834932, precision: 0.018017152505606867, recall: 0.9884778197485072\n",
      "val_loss: 35.14412874694264, val_f1: 0.039994402774875, val_precision: 0.020411494241412215, val_recall: 0.9852276162816844\n"
     ]
    },
    {
     "name": "stderr",
     "output_type": "stream",
     "text": [
      "100%|█████████████████████████████████████████| 655/655 [00:17<00:00, 36.64it/s]\n"
     ]
    },
    {
     "name": "stdout",
     "output_type": "stream",
     "text": [
      "Epoch: 1262, loss: 35.14411207009818, f1: 0.03538925899834932, precision: 0.018017152505606867, recall: 0.9884778197485072\n",
      "val_loss: 35.144128729444034, val_f1: 0.039994402774875, val_precision: 0.020411494241412215, val_recall: 0.9852276162816844\n"
     ]
    },
    {
     "name": "stderr",
     "output_type": "stream",
     "text": [
      "100%|█████████████████████████████████████████| 655/655 [00:17<00:00, 36.62it/s]\n"
     ]
    },
    {
     "name": "stdout",
     "output_type": "stream",
     "text": [
      "Epoch: 1263, loss: 35.14411207009818, f1: 0.03538925899834932, precision: 0.018017152505606867, recall: 0.9884778197485072\n",
      "val_loss: 35.144128729444034, val_f1: 0.039994402774875, val_precision: 0.020411494241412215, val_recall: 0.9852276162816844\n"
     ]
    },
    {
     "name": "stderr",
     "output_type": "stream",
     "text": [
      "100%|█████████████████████████████████████████| 655/655 [00:17<00:00, 36.55it/s]\n"
     ]
    },
    {
     "name": "stdout",
     "output_type": "stream",
     "text": [
      "Epoch: 1264, loss: 35.14411205845025, f1: 0.03538925899834932, precision: 0.018017152505606867, recall: 0.9884778197485072\n",
      "val_loss: 35.14412871194542, val_f1: 0.039994402774875, val_precision: 0.020411494241412215, val_recall: 0.9852276162816844\n"
     ]
    },
    {
     "name": "stderr",
     "output_type": "stream",
     "text": [
      "100%|█████████████████████████████████████████| 655/655 [00:17<00:00, 36.50it/s]\n"
     ]
    },
    {
     "name": "stdout",
     "output_type": "stream",
     "text": [
      "Epoch: 1265, loss: 35.144112052626284, f1: 0.03538925899834932, precision: 0.018017152505606867, recall: 0.9884778197485072\n",
      "val_loss: 35.14412871194542, val_f1: 0.039994402774875, val_precision: 0.020411494241412215, val_recall: 0.9852276162816844\n"
     ]
    },
    {
     "name": "stderr",
     "output_type": "stream",
     "text": [
      "100%|█████████████████████████████████████████| 655/655 [00:17<00:00, 36.57it/s]\n"
     ]
    },
    {
     "name": "stdout",
     "output_type": "stream",
     "text": [
      "Epoch: 1266, loss: 35.144112052626284, f1: 0.03538925899834932, precision: 0.018017152505606867, recall: 0.9884778197485072\n",
      "val_loss: 35.14412864195098, val_f1: 0.039994402774875, val_precision: 0.020411494241412215, val_recall: 0.9852276162816844\n"
     ]
    },
    {
     "name": "stderr",
     "output_type": "stream",
     "text": [
      "100%|█████████████████████████████████████████| 655/655 [00:17<00:00, 36.49it/s]\n"
     ]
    },
    {
     "name": "stdout",
     "output_type": "stream",
     "text": [
      "Epoch: 1267, loss: 35.144112035154386, f1: 0.03538925899834932, precision: 0.018017152505606867, recall: 0.9884778197485072\n",
      "val_loss: 35.144128624452364, val_f1: 0.039994402774875, val_precision: 0.020411494241412215, val_recall: 0.9852276162816844\n"
     ]
    },
    {
     "name": "stderr",
     "output_type": "stream",
     "text": [
      "100%|█████████████████████████████████████████| 655/655 [00:17<00:00, 36.69it/s]\n"
     ]
    },
    {
     "name": "stdout",
     "output_type": "stream",
     "text": [
      "Epoch: 1268, loss: 35.144112035154386, f1: 0.03538925899834932, precision: 0.018017152505606867, recall: 0.9884778197485072\n",
      "val_loss: 35.14412860695375, val_f1: 0.039994402774875, val_precision: 0.020411494241412215, val_recall: 0.9852276162816844\n"
     ]
    },
    {
     "name": "stderr",
     "output_type": "stream",
     "text": [
      "100%|█████████████████████████████████████████| 655/655 [00:17<00:00, 36.61it/s]\n"
     ]
    },
    {
     "name": "stdout",
     "output_type": "stream",
     "text": [
      "Epoch: 1269, loss: 35.14411202350646, f1: 0.03538925899834932, precision: 0.018017152505606867, recall: 0.9884778197485072\n",
      "val_loss: 35.14412858945514, val_f1: 0.039994402774875, val_precision: 0.020411494241412215, val_recall: 0.9852276162816844\n"
     ]
    },
    {
     "name": "stderr",
     "output_type": "stream",
     "text": [
      "100%|█████████████████████████████████████████| 655/655 [00:17<00:00, 36.52it/s]\n"
     ]
    },
    {
     "name": "stdout",
     "output_type": "stream",
     "text": [
      "Epoch: 1270, loss: 35.14411200603456, f1: 0.03538925899834932, precision: 0.018017152505606867, recall: 0.9884778197485072\n",
      "val_loss: 35.14412858945514, val_f1: 0.039994402774875, val_precision: 0.020411494241412215, val_recall: 0.9852276162816844\n"
     ]
    },
    {
     "name": "stderr",
     "output_type": "stream",
     "text": [
      "100%|█████████████████████████████████████████| 655/655 [00:17<00:00, 36.51it/s]\n"
     ]
    },
    {
     "name": "stdout",
     "output_type": "stream",
     "text": [
      "Epoch: 1271, loss: 35.14411200603456, f1: 0.03538925899834932, precision: 0.018017152505606867, recall: 0.9884778197485072\n",
      "val_loss: 35.14412858945514, val_f1: 0.039994402774875, val_precision: 0.020411494241412215, val_recall: 0.9852276162816844\n"
     ]
    },
    {
     "name": "stderr",
     "output_type": "stream",
     "text": [
      "100%|█████████████████████████████████████████| 655/655 [00:17<00:00, 36.50it/s]\n"
     ]
    },
    {
     "name": "stdout",
     "output_type": "stream",
     "text": [
      "Epoch: 1272, loss: 35.14411199438663, f1: 0.03538925899834932, precision: 0.018017152505606867, recall: 0.9884778197485072\n",
      "val_loss: 35.14412857195653, val_f1: 0.039994402774875, val_precision: 0.020411494241412215, val_recall: 0.9852276162816844\n"
     ]
    },
    {
     "name": "stderr",
     "output_type": "stream",
     "text": [
      "100%|█████████████████████████████████████████| 655/655 [00:17<00:00, 36.51it/s]\n"
     ]
    },
    {
     "name": "stdout",
     "output_type": "stream",
     "text": [
      "Epoch: 1273, loss: 35.1441119827387, f1: 0.03538925899834932, precision: 0.018017152505606867, recall: 0.9884778197485072\n",
      "val_loss: 35.14412857195653, val_f1: 0.039994402774875, val_precision: 0.020411494241412215, val_recall: 0.9852276162816844\n"
     ]
    },
    {
     "name": "stderr",
     "output_type": "stream",
     "text": [
      "100%|█████████████████████████████████████████| 655/655 [00:17<00:00, 36.96it/s]\n"
     ]
    },
    {
     "name": "stdout",
     "output_type": "stream",
     "text": [
      "Epoch: 1274, loss: 35.144111976914736, f1: 0.03538925899834932, precision: 0.018017152505606867, recall: 0.9884778197485072\n",
      "val_loss: 35.14412855445792, val_f1: 0.039994402774875, val_precision: 0.020411494241412215, val_recall: 0.9852276162816844\n"
     ]
    },
    {
     "name": "stderr",
     "output_type": "stream",
     "text": [
      "100%|█████████████████████████████████████████| 655/655 [00:17<00:00, 36.52it/s]\n"
     ]
    },
    {
     "name": "stdout",
     "output_type": "stream",
     "text": [
      "Epoch: 1275, loss: 35.144111971090766, f1: 0.03538925899834932, precision: 0.018017152505606867, recall: 0.9884778197485072\n",
      "val_loss: 35.14412853695931, val_f1: 0.039994402774875, val_precision: 0.020411494241412215, val_recall: 0.9852276162816844\n"
     ]
    },
    {
     "name": "stderr",
     "output_type": "stream",
     "text": [
      "100%|█████████████████████████████████████████| 655/655 [00:17<00:00, 36.61it/s]\n"
     ]
    },
    {
     "name": "stdout",
     "output_type": "stream",
     "text": [
      "Epoch: 1276, loss: 35.144111953618875, f1: 0.03538925899834932, precision: 0.018017152505606867, recall: 0.9884778197485072\n",
      "val_loss: 35.144128501962086, val_f1: 0.039994402774875, val_precision: 0.020411494241412215, val_recall: 0.9852276162816844\n"
     ]
    },
    {
     "name": "stderr",
     "output_type": "stream",
     "text": [
      "100%|█████████████████████████████████████████| 655/655 [00:17<00:00, 36.55it/s]\n"
     ]
    },
    {
     "name": "stdout",
     "output_type": "stream",
     "text": [
      "Epoch: 1277, loss: 35.144111953618875, f1: 0.03538925899834932, precision: 0.018017152505606867, recall: 0.9884778197485072\n",
      "val_loss: 35.14412848446347, val_f1: 0.039994402774875, val_precision: 0.020411494241412215, val_recall: 0.9852276162816844\n"
     ]
    },
    {
     "name": "stderr",
     "output_type": "stream",
     "text": [
      "100%|█████████████████████████████████████████| 655/655 [00:17<00:00, 36.63it/s]\n"
     ]
    },
    {
     "name": "stdout",
     "output_type": "stream",
     "text": [
      "Epoch: 1278, loss: 35.14411194197094, f1: 0.03538925899834932, precision: 0.018017152505606867, recall: 0.9884778197485072\n",
      "val_loss: 35.14412848446347, val_f1: 0.039994402774875, val_precision: 0.020411494241412215, val_recall: 0.9852276162816844\n"
     ]
    },
    {
     "name": "stderr",
     "output_type": "stream",
     "text": [
      "100%|█████████████████████████████████████████| 655/655 [00:17<00:00, 36.74it/s]\n"
     ]
    },
    {
     "name": "stdout",
     "output_type": "stream",
     "text": [
      "Epoch: 1279, loss: 35.14411194197094, f1: 0.03538925899834932, precision: 0.018017152505606867, recall: 0.9884778197485072\n",
      "val_loss: 35.14412848446347, val_f1: 0.039994402774875, val_precision: 0.020411494241412215, val_recall: 0.9852276162816844\n"
     ]
    },
    {
     "name": "stderr",
     "output_type": "stream",
     "text": [
      "100%|█████████████████████████████████████████| 655/655 [00:17<00:00, 36.66it/s]\n"
     ]
    },
    {
     "name": "stdout",
     "output_type": "stream",
     "text": [
      "Epoch: 1280, loss: 35.14411193614698, f1: 0.03538925899834932, precision: 0.018017152505606867, recall: 0.9884778197485072\n",
      "val_loss: 35.14412846696486, val_f1: 0.039994402774875, val_precision: 0.020411494241412215, val_recall: 0.9852276162816844\n"
     ]
    },
    {
     "name": "stderr",
     "output_type": "stream",
     "text": [
      "100%|█████████████████████████████████████████| 655/655 [00:17<00:00, 36.62it/s]\n"
     ]
    },
    {
     "name": "stdout",
     "output_type": "stream",
     "text": [
      "Epoch: 1281, loss: 35.144111930323014, f1: 0.03538925899834932, precision: 0.018017152505606867, recall: 0.9884778197485072\n",
      "val_loss: 35.14412843196764, val_f1: 0.039994402774875, val_precision: 0.020411494241412215, val_recall: 0.9852276162816844\n"
     ]
    },
    {
     "name": "stderr",
     "output_type": "stream",
     "text": [
      "100%|█████████████████████████████████████████| 655/655 [00:17<00:00, 36.58it/s]\n"
     ]
    },
    {
     "name": "stdout",
     "output_type": "stream",
     "text": [
      "Epoch: 1282, loss: 35.144111912851116, f1: 0.03538925899834932, precision: 0.018017152505606867, recall: 0.9884778197485072\n",
      "val_loss: 35.14412843196764, val_f1: 0.039994402774875, val_precision: 0.020411494241412215, val_recall: 0.9852276162816844\n"
     ]
    },
    {
     "name": "stderr",
     "output_type": "stream",
     "text": [
      "100%|█████████████████████████████████████████| 655/655 [00:17<00:00, 36.60it/s]\n"
     ]
    },
    {
     "name": "stdout",
     "output_type": "stream",
     "text": [
      "Epoch: 1283, loss: 35.144111912851116, f1: 0.03538925899834932, precision: 0.018017152505606867, recall: 0.9884778197485072\n",
      "val_loss: 35.14412843196764, val_f1: 0.039994402774875, val_precision: 0.020411494241412215, val_recall: 0.9852276162816844\n"
     ]
    },
    {
     "name": "stderr",
     "output_type": "stream",
     "text": [
      "100%|█████████████████████████████████████████| 655/655 [00:18<00:00, 36.33it/s]\n"
     ]
    },
    {
     "name": "stdout",
     "output_type": "stream",
     "text": [
      "Epoch: 1284, loss: 35.14411190120318, f1: 0.03538925899834932, precision: 0.018017152505606867, recall: 0.9884778197485072\n",
      "val_loss: 35.144128361973195, val_f1: 0.039994402774875, val_precision: 0.020411494241412215, val_recall: 0.9852276162816844\n"
     ]
    },
    {
     "name": "stderr",
     "output_type": "stream",
     "text": [
      "100%|█████████████████████████████████████████| 655/655 [00:18<00:00, 36.27it/s]\n"
     ]
    },
    {
     "name": "stdout",
     "output_type": "stream",
     "text": [
      "Epoch: 1285, loss: 35.14411190120318, f1: 0.03538925899834932, precision: 0.018017152505606867, recall: 0.9884778197485072\n",
      "val_loss: 35.144128361973195, val_f1: 0.039994402774875, val_precision: 0.020411494241412215, val_recall: 0.9852276162816844\n"
     ]
    },
    {
     "name": "stderr",
     "output_type": "stream",
     "text": [
      "100%|█████████████████████████████████████████| 655/655 [00:17<00:00, 36.48it/s]\n"
     ]
    },
    {
     "name": "stdout",
     "output_type": "stream",
     "text": [
      "Epoch: 1286, loss: 35.14411189537922, f1: 0.03538925899834932, precision: 0.018017152505606867, recall: 0.9884778197485072\n",
      "val_loss: 35.144128361973195, val_f1: 0.039994402774875, val_precision: 0.020411494241412215, val_recall: 0.9852276162816844\n"
     ]
    },
    {
     "name": "stderr",
     "output_type": "stream",
     "text": [
      "100%|█████████████████████████████████████████| 655/655 [00:17<00:00, 36.61it/s]\n"
     ]
    },
    {
     "name": "stdout",
     "output_type": "stream",
     "text": [
      "Epoch: 1287, loss: 35.14411189537922, f1: 0.03538925899834932, precision: 0.018017152505606867, recall: 0.9884778197485072\n",
      "val_loss: 35.14412834447458, val_f1: 0.039994402774875, val_precision: 0.020411494241412215, val_recall: 0.9852276162816844\n"
     ]
    },
    {
     "name": "stderr",
     "output_type": "stream",
     "text": [
      "100%|█████████████████████████████████████████| 655/655 [00:17<00:00, 36.52it/s]\n"
     ]
    },
    {
     "name": "stdout",
     "output_type": "stream",
     "text": [
      "Epoch: 1288, loss: 35.144111889555255, f1: 0.03538925899834932, precision: 0.018017152505606867, recall: 0.9884778197485072\n",
      "val_loss: 35.144128326975974, val_f1: 0.039994402774875, val_precision: 0.020411494241412215, val_recall: 0.9852276162816844\n"
     ]
    },
    {
     "name": "stderr",
     "output_type": "stream",
     "text": [
      "100%|█████████████████████████████████████████| 655/655 [00:17<00:00, 36.48it/s]\n"
     ]
    },
    {
     "name": "stdout",
     "output_type": "stream",
     "text": [
      "Epoch: 1289, loss: 35.14411188373129, f1: 0.03538925899834932, precision: 0.018017152505606867, recall: 0.9884778197485072\n",
      "val_loss: 35.144128291978745, val_f1: 0.039994402774875, val_precision: 0.020411494241412215, val_recall: 0.9852276162816844\n"
     ]
    },
    {
     "name": "stderr",
     "output_type": "stream",
     "text": [
      "100%|█████████████████████████████████████████| 655/655 [00:17<00:00, 36.57it/s]\n"
     ]
    },
    {
     "name": "stdout",
     "output_type": "stream",
     "text": [
      "Epoch: 1290, loss: 35.14411187208336, f1: 0.03538925899834932, precision: 0.018017152505606867, recall: 0.9884778197485072\n",
      "val_loss: 35.144128291978745, val_f1: 0.039994402774875, val_precision: 0.020411494241412215, val_recall: 0.9852276162816844\n"
     ]
    },
    {
     "name": "stderr",
     "output_type": "stream",
     "text": [
      "100%|█████████████████████████████████████████| 655/655 [00:17<00:00, 36.49it/s]\n"
     ]
    },
    {
     "name": "stdout",
     "output_type": "stream",
     "text": [
      "Epoch: 1291, loss: 35.144111866259394, f1: 0.03538925899834932, precision: 0.018017152505606867, recall: 0.9884778197485072\n",
      "val_loss: 35.144128291978745, val_f1: 0.039994402774875, val_precision: 0.020411494241412215, val_recall: 0.9852276162816844\n"
     ]
    },
    {
     "name": "stderr",
     "output_type": "stream",
     "text": [
      "100%|█████████████████████████████████████████| 655/655 [00:17<00:00, 36.60it/s]\n"
     ]
    },
    {
     "name": "stdout",
     "output_type": "stream",
     "text": [
      "Epoch: 1292, loss: 35.14411186043543, f1: 0.03538925899834932, precision: 0.018017152505606867, recall: 0.9884778197485072\n",
      "val_loss: 35.14412827448014, val_f1: 0.039994402774875, val_precision: 0.020411494241412215, val_recall: 0.9852276162816844\n"
     ]
    },
    {
     "name": "stderr",
     "output_type": "stream",
     "text": [
      "100%|█████████████████████████████████████████| 655/655 [00:17<00:00, 36.75it/s]\n"
     ]
    },
    {
     "name": "stdout",
     "output_type": "stream",
     "text": [
      "Epoch: 1293, loss: 35.144111848787496, f1: 0.03538925899834932, precision: 0.018017152505606867, recall: 0.9884778197485072\n",
      "val_loss: 35.14412827448014, val_f1: 0.039994402774875, val_precision: 0.020411494241412215, val_recall: 0.9852276162816844\n"
     ]
    },
    {
     "name": "stderr",
     "output_type": "stream",
     "text": [
      "100%|█████████████████████████████████████████| 655/655 [00:17<00:00, 36.47it/s]\n"
     ]
    },
    {
     "name": "stdout",
     "output_type": "stream",
     "text": [
      "Epoch: 1294, loss: 35.14411183713957, f1: 0.03538925899834932, precision: 0.018017152505606867, recall: 0.9884778197485072\n",
      "val_loss: 35.14412827448014, val_f1: 0.039994402774875, val_precision: 0.020411494241412215, val_recall: 0.9852276162816844\n"
     ]
    },
    {
     "name": "stderr",
     "output_type": "stream",
     "text": [
      "100%|█████████████████████████████████████████| 655/655 [00:17<00:00, 36.67it/s]\n"
     ]
    },
    {
     "name": "stdout",
     "output_type": "stream",
     "text": [
      "Epoch: 1295, loss: 35.1441118313156, f1: 0.03538925899834932, precision: 0.018017152505606867, recall: 0.9884778197485072\n",
      "val_loss: 35.144128256981524, val_f1: 0.039994402774875, val_precision: 0.020411494241412215, val_recall: 0.9852276162816844\n"
     ]
    },
    {
     "name": "stderr",
     "output_type": "stream",
     "text": [
      "100%|█████████████████████████████████████████| 655/655 [00:17<00:00, 36.59it/s]\n"
     ]
    },
    {
     "name": "stdout",
     "output_type": "stream",
     "text": [
      "Epoch: 1296, loss: 35.144111825491635, f1: 0.03538925899834932, precision: 0.018017152505606867, recall: 0.9884778197485072\n",
      "val_loss: 35.1441282219843, val_f1: 0.039994402774875, val_precision: 0.020411494241412215, val_recall: 0.9852276162816844\n"
     ]
    },
    {
     "name": "stderr",
     "output_type": "stream",
     "text": [
      "100%|█████████████████████████████████████████| 655/655 [00:17<00:00, 36.62it/s]\n"
     ]
    },
    {
     "name": "stdout",
     "output_type": "stream",
     "text": [
      "Epoch: 1297, loss: 35.14411181966767, f1: 0.03538925899834932, precision: 0.018017152505606867, recall: 0.9884778197485072\n",
      "val_loss: 35.14412820448569, val_f1: 0.039994402774875, val_precision: 0.020411494241412215, val_recall: 0.9852276162816844\n"
     ]
    },
    {
     "name": "stderr",
     "output_type": "stream",
     "text": [
      "100%|█████████████████████████████████████████| 655/655 [00:17<00:00, 36.51it/s]\n"
     ]
    },
    {
     "name": "stdout",
     "output_type": "stream",
     "text": [
      "Epoch: 1298, loss: 35.14411180801974, f1: 0.03538925899834932, precision: 0.018017152505606867, recall: 0.9884778197485072\n",
      "val_loss: 35.14412820448569, val_f1: 0.039994402774875, val_precision: 0.020411494241412215, val_recall: 0.9852276162816844\n"
     ]
    },
    {
     "name": "stderr",
     "output_type": "stream",
     "text": [
      "100%|█████████████████████████████████████████| 655/655 [00:17<00:00, 36.94it/s]\n"
     ]
    },
    {
     "name": "stdout",
     "output_type": "stream",
     "text": [
      "Epoch: 1299, loss: 35.14411180801974, f1: 0.03538925899834932, precision: 0.018017152505606867, recall: 0.9884778197485072\n",
      "val_loss: 35.14412820448569, val_f1: 0.039994402774875, val_precision: 0.020411494241412215, val_recall: 0.9852276162816844\n"
     ]
    },
    {
     "name": "stderr",
     "output_type": "stream",
     "text": [
      "100%|█████████████████████████████████████████| 655/655 [00:17<00:00, 36.58it/s]\n"
     ]
    },
    {
     "name": "stdout",
     "output_type": "stream",
     "text": [
      "Epoch: 1300, loss: 35.14411180801974, f1: 0.03538925899834932, precision: 0.018017152505606867, recall: 0.9884778197485072\n",
      "val_loss: 35.14412818698708, val_f1: 0.039994402774875, val_precision: 0.020411494241412215, val_recall: 0.9852276162816844\n"
     ]
    },
    {
     "name": "stderr",
     "output_type": "stream",
     "text": [
      "100%|█████████████████████████████████████████| 655/655 [00:17<00:00, 36.56it/s]\n"
     ]
    },
    {
     "name": "stdout",
     "output_type": "stream",
     "text": [
      "Epoch: 1301, loss: 35.14411179637181, f1: 0.03538925899834932, precision: 0.018017152505606867, recall: 0.9884778197485072\n",
      "val_loss: 35.14412818698708, val_f1: 0.039994402774875, val_precision: 0.020411494241412215, val_recall: 0.9852276162816844\n"
     ]
    },
    {
     "name": "stderr",
     "output_type": "stream",
     "text": [
      "100%|█████████████████████████████████████████| 655/655 [00:17<00:00, 36.61it/s]\n"
     ]
    },
    {
     "name": "stdout",
     "output_type": "stream",
     "text": [
      "Epoch: 1302, loss: 35.14411179637181, f1: 0.03538925899834932, precision: 0.018017152505606867, recall: 0.9884778197485072\n",
      "val_loss: 35.14412816948847, val_f1: 0.039994402774875, val_precision: 0.020411494241412215, val_recall: 0.9852276162816844\n"
     ]
    },
    {
     "name": "stderr",
     "output_type": "stream",
     "text": [
      "100%|█████████████████████████████████████████| 655/655 [00:17<00:00, 36.54it/s]\n"
     ]
    },
    {
     "name": "stdout",
     "output_type": "stream",
     "text": [
      "Epoch: 1303, loss: 35.14411179637181, f1: 0.03538925899834932, precision: 0.018017152505606867, recall: 0.9884778197485072\n",
      "val_loss: 35.14412816948847, val_f1: 0.039994402774875, val_precision: 0.020411494241412215, val_recall: 0.9852276162816844\n"
     ]
    },
    {
     "name": "stderr",
     "output_type": "stream",
     "text": [
      "100%|█████████████████████████████████████████| 655/655 [00:17<00:00, 36.55it/s]\n"
     ]
    },
    {
     "name": "stdout",
     "output_type": "stream",
     "text": [
      "Epoch: 1304, loss: 35.144111767251985, f1: 0.03538925899834932, precision: 0.018017152505606867, recall: 0.9884778197485072\n",
      "val_loss: 35.14412815198986, val_f1: 0.039994402774875, val_precision: 0.020411494241412215, val_recall: 0.9852276162816844\n"
     ]
    },
    {
     "name": "stderr",
     "output_type": "stream",
     "text": [
      "100%|█████████████████████████████████████████| 655/655 [00:17<00:00, 36.86it/s]\n"
     ]
    },
    {
     "name": "stdout",
     "output_type": "stream",
     "text": [
      "Epoch: 1305, loss: 35.144111767251985, f1: 0.03538925899834932, precision: 0.018017152505606867, recall: 0.9884778197485072\n",
      "val_loss: 35.14412815198986, val_f1: 0.039994402774875, val_precision: 0.020411494241412215, val_recall: 0.9852276162816844\n"
     ]
    },
    {
     "name": "stderr",
     "output_type": "stream",
     "text": [
      "100%|█████████████████████████████████████████| 655/655 [00:17<00:00, 36.65it/s]\n"
     ]
    },
    {
     "name": "stdout",
     "output_type": "stream",
     "text": [
      "Epoch: 1306, loss: 35.144111767251985, f1: 0.03538925899834932, precision: 0.018017152505606867, recall: 0.9884778197485072\n",
      "val_loss: 35.14412813449125, val_f1: 0.039994402774875, val_precision: 0.020411494241412215, val_recall: 0.9852276162816844\n"
     ]
    },
    {
     "name": "stderr",
     "output_type": "stream",
     "text": [
      "100%|█████████████████████████████████████████| 655/655 [00:17<00:00, 36.57it/s]\n"
     ]
    },
    {
     "name": "stdout",
     "output_type": "stream",
     "text": [
      "Epoch: 1307, loss: 35.144111767251985, f1: 0.03538925899834932, precision: 0.018017152505606867, recall: 0.9884778197485072\n",
      "val_loss: 35.14412813449125, val_f1: 0.039994402774875, val_precision: 0.020411494241412215, val_recall: 0.9852276162816844\n"
     ]
    },
    {
     "name": "stderr",
     "output_type": "stream",
     "text": [
      "100%|█████████████████████████████████████████| 655/655 [00:17<00:00, 36.54it/s]\n"
     ]
    },
    {
     "name": "stdout",
     "output_type": "stream",
     "text": [
      "Epoch: 1308, loss: 35.14411174978009, f1: 0.03538925899834932, precision: 0.018017152505606867, recall: 0.9884778197485072\n",
      "val_loss: 35.14412813449125, val_f1: 0.039994402774875, val_precision: 0.020411494241412215, val_recall: 0.9852276162816844\n"
     ]
    },
    {
     "name": "stderr",
     "output_type": "stream",
     "text": [
      "100%|█████████████████████████████████████████| 655/655 [00:17<00:00, 36.55it/s]\n"
     ]
    },
    {
     "name": "stdout",
     "output_type": "stream",
     "text": [
      "Epoch: 1309, loss: 35.144111743956124, f1: 0.03538925899834932, precision: 0.018017152505606867, recall: 0.9884778197485072\n",
      "val_loss: 35.144128099494026, val_f1: 0.039994402774875, val_precision: 0.020411494241412215, val_recall: 0.9852276162816844\n"
     ]
    },
    {
     "name": "stderr",
     "output_type": "stream",
     "text": [
      "100%|█████████████████████████████████████████| 655/655 [00:17<00:00, 36.54it/s]\n"
     ]
    },
    {
     "name": "stdout",
     "output_type": "stream",
     "text": [
      "Epoch: 1310, loss: 35.14411173813215, f1: 0.03538925899834932, precision: 0.018017152505606867, recall: 0.9884778197485072\n",
      "val_loss: 35.144128099494026, val_f1: 0.039994402774875, val_precision: 0.020411494241412215, val_recall: 0.9852276162816844\n"
     ]
    },
    {
     "name": "stderr",
     "output_type": "stream",
     "text": [
      "100%|█████████████████████████████████████████| 655/655 [00:17<00:00, 36.70it/s]\n"
     ]
    },
    {
     "name": "stdout",
     "output_type": "stream",
     "text": [
      "Epoch: 1311, loss: 35.14411173230819, f1: 0.03538925899834932, precision: 0.018017152505606867, recall: 0.9884778197485072\n",
      "val_loss: 35.144128099494026, val_f1: 0.039994402774875, val_precision: 0.020411494241412215, val_recall: 0.9852276162816844\n"
     ]
    },
    {
     "name": "stderr",
     "output_type": "stream",
     "text": [
      "100%|█████████████████████████████████████████| 655/655 [00:17<00:00, 36.58it/s]\n"
     ]
    },
    {
     "name": "stdout",
     "output_type": "stream",
     "text": [
      "Epoch: 1312, loss: 35.14411165077268, f1: 0.03538925899834932, precision: 0.018017152505606867, recall: 0.9884778197485072\n",
      "val_loss: 35.14412808199541, val_f1: 0.039994402774875, val_precision: 0.020411494241412215, val_recall: 0.9852276162816844\n"
     ]
    },
    {
     "name": "stderr",
     "output_type": "stream",
     "text": [
      "100%|█████████████████████████████████████████| 655/655 [00:17<00:00, 36.48it/s]\n"
     ]
    },
    {
     "name": "stdout",
     "output_type": "stream",
     "text": [
      "Epoch: 1313, loss: 35.144111639124745, f1: 0.03538925899834932, precision: 0.018017152505606867, recall: 0.9884778197485072\n",
      "val_loss: 35.14412808199541, val_f1: 0.039994402774875, val_precision: 0.020411494241412215, val_recall: 0.9852276162816844\n"
     ]
    },
    {
     "name": "stderr",
     "output_type": "stream",
     "text": [
      "100%|█████████████████████████████████████████| 655/655 [00:17<00:00, 36.47it/s]\n"
     ]
    },
    {
     "name": "stdout",
     "output_type": "stream",
     "text": [
      "Epoch: 1314, loss: 35.144111639124745, f1: 0.03538925899834932, precision: 0.018017152505606867, recall: 0.9884778197485072\n",
      "val_loss: 35.14412804699819, val_f1: 0.039994402774875, val_precision: 0.020411494241412215, val_recall: 0.9852276162816844\n"
     ]
    },
    {
     "name": "stderr",
     "output_type": "stream",
     "text": [
      "100%|█████████████████████████████████████████| 655/655 [00:17<00:00, 36.56it/s]\n"
     ]
    },
    {
     "name": "stdout",
     "output_type": "stream",
     "text": [
      "Epoch: 1315, loss: 35.14411162747682, f1: 0.03538925899834932, precision: 0.018017152505606867, recall: 0.9884778197485072\n",
      "val_loss: 35.14412804699819, val_f1: 0.039994402774875, val_precision: 0.020411494241412215, val_recall: 0.9852276162816844\n"
     ]
    },
    {
     "name": "stderr",
     "output_type": "stream",
     "text": [
      "100%|█████████████████████████████████████████| 655/655 [00:17<00:00, 36.57it/s]\n"
     ]
    },
    {
     "name": "stdout",
     "output_type": "stream",
     "text": [
      "Epoch: 1316, loss: 35.144111621652854, f1: 0.03538925899834932, precision: 0.018017152505606867, recall: 0.9884778197485072\n",
      "val_loss: 35.144128029499576, val_f1: 0.039994402774875, val_precision: 0.020411494241412215, val_recall: 0.9852276162816844\n"
     ]
    },
    {
     "name": "stderr",
     "output_type": "stream",
     "text": [
      "100%|█████████████████████████████████████████| 655/655 [00:17<00:00, 36.64it/s]\n"
     ]
    },
    {
     "name": "stdout",
     "output_type": "stream",
     "text": [
      "Epoch: 1317, loss: 35.14411160418096, f1: 0.03538925899834932, precision: 0.018017152505606867, recall: 0.9884778197485072\n",
      "val_loss: 35.144128029499576, val_f1: 0.039994402774875, val_precision: 0.020411494241412215, val_recall: 0.9852276162816844\n"
     ]
    },
    {
     "name": "stderr",
     "output_type": "stream",
     "text": [
      "100%|█████████████████████████████████████████| 655/655 [00:17<00:00, 36.74it/s]\n"
     ]
    },
    {
     "name": "stdout",
     "output_type": "stream",
     "text": [
      "Epoch: 1318, loss: 35.14411159253302, f1: 0.03538925899834932, precision: 0.018017152505606867, recall: 0.9884778197485072\n",
      "val_loss: 35.14412801200097, val_f1: 0.039994402774875, val_precision: 0.020411494241412215, val_recall: 0.9852276162816844\n"
     ]
    },
    {
     "name": "stderr",
     "output_type": "stream",
     "text": [
      "100%|█████████████████████████████████████████| 655/655 [00:17<00:00, 36.48it/s]\n"
     ]
    },
    {
     "name": "stdout",
     "output_type": "stream",
     "text": [
      "Epoch: 1319, loss: 35.14411158670906, f1: 0.03538925899834932, precision: 0.018017152505606867, recall: 0.9884778197485072\n",
      "val_loss: 35.14412797700375, val_f1: 0.039994402774875, val_precision: 0.020411494241412215, val_recall: 0.9852276162816844\n"
     ]
    },
    {
     "name": "stderr",
     "output_type": "stream",
     "text": [
      "100%|█████████████████████████████████████████| 655/655 [00:17<00:00, 36.50it/s]\n"
     ]
    },
    {
     "name": "stdout",
     "output_type": "stream",
     "text": [
      "Epoch: 1320, loss: 35.14411158670906, f1: 0.03538925899834932, precision: 0.018017152505606867, recall: 0.9884778197485072\n",
      "val_loss: 35.144127959505134, val_f1: 0.039994402774875, val_precision: 0.020411494241412215, val_recall: 0.9852276162816844\n"
     ]
    },
    {
     "name": "stderr",
     "output_type": "stream",
     "text": [
      "100%|█████████████████████████████████████████| 655/655 [00:17<00:00, 36.70it/s]\n"
     ]
    },
    {
     "name": "stdout",
     "output_type": "stream",
     "text": [
      "Epoch: 1321, loss: 35.144111580885095, f1: 0.03538925899834932, precision: 0.018017152505606867, recall: 0.9884778197485072\n",
      "val_loss: 35.144127959505134, val_f1: 0.039994402774875, val_precision: 0.020411494241412215, val_recall: 0.9852276162816844\n"
     ]
    },
    {
     "name": "stderr",
     "output_type": "stream",
     "text": [
      "100%|█████████████████████████████████████████| 655/655 [00:17<00:00, 36.48it/s]\n"
     ]
    },
    {
     "name": "stdout",
     "output_type": "stream",
     "text": [
      "Epoch: 1322, loss: 35.14411156923716, f1: 0.03538925899834932, precision: 0.018017152505606867, recall: 0.9884778197485072\n",
      "val_loss: 35.14412794200652, val_f1: 0.039994402774875, val_precision: 0.020411494241412215, val_recall: 0.9852276162816844\n"
     ]
    },
    {
     "name": "stderr",
     "output_type": "stream",
     "text": [
      "100%|█████████████████████████████████████████| 655/655 [00:17<00:00, 36.48it/s]\n"
     ]
    },
    {
     "name": "stdout",
     "output_type": "stream",
     "text": [
      "Epoch: 1323, loss: 35.1441115634132, f1: 0.03538925899834932, precision: 0.018017152505606867, recall: 0.9884778197485072\n",
      "val_loss: 35.14412794200652, val_f1: 0.039994402774875, val_precision: 0.020411494241412215, val_recall: 0.9852276162816844\n"
     ]
    },
    {
     "name": "stderr",
     "output_type": "stream",
     "text": [
      "100%|█████████████████████████████████████████| 655/655 [00:17<00:00, 36.95it/s]\n"
     ]
    },
    {
     "name": "stdout",
     "output_type": "stream",
     "text": [
      "Epoch: 1324, loss: 35.144111557589234, f1: 0.03538925899834932, precision: 0.018017152505606867, recall: 0.9884778197485072\n",
      "val_loss: 35.14412794200652, val_f1: 0.039994402774875, val_precision: 0.020411494241412215, val_recall: 0.9852276162816844\n"
     ]
    },
    {
     "name": "stderr",
     "output_type": "stream",
     "text": [
      "100%|█████████████████████████████████████████| 655/655 [00:17<00:00, 36.54it/s]\n"
     ]
    },
    {
     "name": "stdout",
     "output_type": "stream",
     "text": [
      "Epoch: 1325, loss: 35.144111540117336, f1: 0.03538925899834932, precision: 0.018017152505606867, recall: 0.9884778197485072\n",
      "val_loss: 35.14412792450791, val_f1: 0.039994402774875, val_precision: 0.020411494241412215, val_recall: 0.9852276162816844\n"
     ]
    },
    {
     "name": "stderr",
     "output_type": "stream",
     "text": [
      "100%|█████████████████████████████████████████| 655/655 [00:17<00:00, 36.52it/s]\n"
     ]
    },
    {
     "name": "stdout",
     "output_type": "stream",
     "text": [
      "Epoch: 1326, loss: 35.14411152264544, f1: 0.03538925899834932, precision: 0.018017152505606867, recall: 0.9884778197485072\n",
      "val_loss: 35.14412792450791, val_f1: 0.039994402774875, val_precision: 0.020411494241412215, val_recall: 0.9852276162816844\n"
     ]
    },
    {
     "name": "stderr",
     "output_type": "stream",
     "text": [
      "100%|█████████████████████████████████████████| 655/655 [00:17<00:00, 36.57it/s]\n"
     ]
    },
    {
     "name": "stdout",
     "output_type": "stream",
     "text": [
      "Epoch: 1327, loss: 35.14411152264544, f1: 0.03538925899834932, precision: 0.018017152505606867, recall: 0.9884778197485072\n",
      "val_loss: 35.1441279070093, val_f1: 0.039994402774875, val_precision: 0.020411494241412215, val_recall: 0.9852276162816844\n"
     ]
    },
    {
     "name": "stderr",
     "output_type": "stream",
     "text": [
      "100%|█████████████████████████████████████████| 655/655 [00:17<00:00, 36.61it/s]\n"
     ]
    },
    {
     "name": "stdout",
     "output_type": "stream",
     "text": [
      "Epoch: 1328, loss: 35.14411152264544, f1: 0.03538925899834932, precision: 0.018017152505606867, recall: 0.9884778197485072\n",
      "val_loss: 35.1441279070093, val_f1: 0.039994402774875, val_precision: 0.020411494241412215, val_recall: 0.9852276162816844\n"
     ]
    },
    {
     "name": "stderr",
     "output_type": "stream",
     "text": [
      "100%|█████████████████████████████████████████| 655/655 [00:17<00:00, 36.45it/s]\n"
     ]
    },
    {
     "name": "stdout",
     "output_type": "stream",
     "text": [
      "Epoch: 1329, loss: 35.144111493525614, f1: 0.03538925899834932, precision: 0.018017152505606867, recall: 0.9884778197485072\n",
      "val_loss: 35.144127592034295, val_f1: 0.039994402774875, val_precision: 0.020411494241412215, val_recall: 0.9852276162816844\n"
     ]
    },
    {
     "name": "stderr",
     "output_type": "stream",
     "text": [
      "100%|█████████████████████████████████████████| 655/655 [00:17<00:00, 36.84it/s]\n"
     ]
    },
    {
     "name": "stdout",
     "output_type": "stream",
     "text": [
      "Epoch: 1330, loss: 35.144111493525614, f1: 0.03538925899834932, precision: 0.018017152505606867, recall: 0.9884778197485072\n",
      "val_loss: 35.144127592034295, val_f1: 0.039994402774875, val_precision: 0.020411494241412215, val_recall: 0.9852276162816844\n"
     ]
    },
    {
     "name": "stderr",
     "output_type": "stream",
     "text": [
      "100%|█████████████████████████████████████████| 655/655 [00:17<00:00, 36.56it/s]\n"
     ]
    },
    {
     "name": "stdout",
     "output_type": "stream",
     "text": [
      "Epoch: 1331, loss: 35.14411148770165, f1: 0.03538925899834932, precision: 0.018017152505606867, recall: 0.9884778197485072\n",
      "val_loss: 35.144127592034295, val_f1: 0.039994402774875, val_precision: 0.020411494241412215, val_recall: 0.9852276162816844\n"
     ]
    },
    {
     "name": "stderr",
     "output_type": "stream",
     "text": [
      "100%|█████████████████████████████████████████| 655/655 [00:17<00:00, 36.70it/s]\n"
     ]
    },
    {
     "name": "stdout",
     "output_type": "stream",
     "text": [
      "Epoch: 1332, loss: 35.14411148187769, f1: 0.03538925899834932, precision: 0.018017152505606867, recall: 0.9884778197485072\n",
      "val_loss: 35.14412757453569, val_f1: 0.039994402774875, val_precision: 0.020411494241412215, val_recall: 0.9852276162816844\n"
     ]
    },
    {
     "name": "stderr",
     "output_type": "stream",
     "text": [
      "100%|█████████████████████████████████████████| 655/655 [00:17<00:00, 36.60it/s]\n"
     ]
    },
    {
     "name": "stdout",
     "output_type": "stream",
     "text": [
      "Epoch: 1333, loss: 35.14411148187769, f1: 0.03538925899834932, precision: 0.018017152505606867, recall: 0.9884778197485072\n",
      "val_loss: 35.14412757453569, val_f1: 0.039994402774875, val_precision: 0.020411494241412215, val_recall: 0.9852276162816844\n"
     ]
    },
    {
     "name": "stderr",
     "output_type": "stream",
     "text": [
      "100%|█████████████████████████████████████████| 655/655 [00:17<00:00, 36.48it/s]\n"
     ]
    },
    {
     "name": "stdout",
     "output_type": "stream",
     "text": [
      "Epoch: 1334, loss: 35.14411147022975, f1: 0.03538925899834932, precision: 0.018017152505606867, recall: 0.9884778197485072\n",
      "val_loss: 35.14412755703707, val_f1: 0.039994402774875, val_precision: 0.020411494241412215, val_recall: 0.9852276162816844\n"
     ]
    },
    {
     "name": "stderr",
     "output_type": "stream",
     "text": [
      "100%|█████████████████████████████████████████| 655/655 [00:17<00:00, 36.58it/s]\n"
     ]
    },
    {
     "name": "stdout",
     "output_type": "stream",
     "text": [
      "Epoch: 1335, loss: 35.14411146440579, f1: 0.03538925899834932, precision: 0.018017152505606867, recall: 0.9884778197485072\n",
      "val_loss: 35.14412753953846, val_f1: 0.039994402774875, val_precision: 0.020411494241412215, val_recall: 0.9852276162816844\n"
     ]
    },
    {
     "name": "stderr",
     "output_type": "stream",
     "text": [
      "100%|█████████████████████████████████████████| 655/655 [00:17<00:00, 36.70it/s]\n"
     ]
    },
    {
     "name": "stdout",
     "output_type": "stream",
     "text": [
      "Epoch: 1336, loss: 35.144111458581826, f1: 0.03538925899834932, precision: 0.018017152505606867, recall: 0.9884778197485072\n",
      "val_loss: 35.14412752203985, val_f1: 0.039994402774875, val_precision: 0.020411494241412215, val_recall: 0.9852276162816844\n"
     ]
    },
    {
     "name": "stderr",
     "output_type": "stream",
     "text": [
      "100%|█████████████████████████████████████████| 655/655 [00:17<00:00, 36.63it/s]\n"
     ]
    },
    {
     "name": "stdout",
     "output_type": "stream",
     "text": [
      "Epoch: 1337, loss: 35.144111458581826, f1: 0.03538925899834932, precision: 0.018017152505606867, recall: 0.9884778197485072\n",
      "val_loss: 35.14412748704263, val_f1: 0.039994402774875, val_precision: 0.020411494241412215, val_recall: 0.9852276162816844\n"
     ]
    },
    {
     "name": "stderr",
     "output_type": "stream",
     "text": [
      "100%|█████████████████████████████████████████| 655/655 [00:17<00:00, 36.58it/s]\n"
     ]
    },
    {
     "name": "stdout",
     "output_type": "stream",
     "text": [
      "Epoch: 1338, loss: 35.14411144693389, f1: 0.03538925899834932, precision: 0.018017152505606867, recall: 0.9884778197485072\n",
      "val_loss: 35.14412746954402, val_f1: 0.039994402774875, val_precision: 0.020411494241412215, val_recall: 0.9852276162816844\n"
     ]
    },
    {
     "name": "stderr",
     "output_type": "stream",
     "text": [
      "100%|█████████████████████████████████████████| 655/655 [00:17<00:00, 36.64it/s]\n"
     ]
    },
    {
     "name": "stdout",
     "output_type": "stream",
     "text": [
      "Epoch: 1339, loss: 35.14411144110993, f1: 0.03538925899834932, precision: 0.018017152505606867, recall: 0.9884778197485072\n",
      "val_loss: 35.14412746954402, val_f1: 0.039994402774875, val_precision: 0.020411494241412215, val_recall: 0.9852276162816844\n"
     ]
    },
    {
     "name": "stderr",
     "output_type": "stream",
     "text": [
      "100%|█████████████████████████████████████████| 655/655 [00:17<00:00, 36.54it/s]\n"
     ]
    },
    {
     "name": "stdout",
     "output_type": "stream",
     "text": [
      "Epoch: 1340, loss: 35.144111429461994, f1: 0.03538925899834932, precision: 0.018017152505606867, recall: 0.9884778197485072\n",
      "val_loss: 35.14412746954402, val_f1: 0.039994402774875, val_precision: 0.020411494241412215, val_recall: 0.9852276162816844\n"
     ]
    },
    {
     "name": "stderr",
     "output_type": "stream",
     "text": [
      "100%|█████████████████████████████████████████| 655/655 [00:17<00:00, 36.65it/s]\n"
     ]
    },
    {
     "name": "stdout",
     "output_type": "stream",
     "text": [
      "Epoch: 1341, loss: 35.14411141781407, f1: 0.03538925899834932, precision: 0.018017152505606867, recall: 0.9884778197485072\n",
      "val_loss: 35.144127434546796, val_f1: 0.039994402774875, val_precision: 0.020411494241412215, val_recall: 0.9852276162816844\n"
     ]
    },
    {
     "name": "stderr",
     "output_type": "stream",
     "text": [
      "100%|█████████████████████████████████████████| 655/655 [00:17<00:00, 36.61it/s]\n"
     ]
    },
    {
     "name": "stdout",
     "output_type": "stream",
     "text": [
      "Epoch: 1342, loss: 35.1441114119901, f1: 0.03538925899834932, precision: 0.018017152505606867, recall: 0.9884778197485072\n",
      "val_loss: 35.144127434546796, val_f1: 0.039994402774875, val_precision: 0.020411494241412215, val_recall: 0.9852276162816844\n"
     ]
    },
    {
     "name": "stderr",
     "output_type": "stream",
     "text": [
      "100%|█████████████████████████████████████████| 655/655 [00:17<00:00, 36.86it/s]\n"
     ]
    },
    {
     "name": "stdout",
     "output_type": "stream",
     "text": [
      "Epoch: 1343, loss: 35.14411140034217, f1: 0.03538925899834932, precision: 0.018017152505606867, recall: 0.9884778197485072\n",
      "val_loss: 35.144127434546796, val_f1: 0.039994402774875, val_precision: 0.020411494241412215, val_recall: 0.9852276162816844\n"
     ]
    },
    {
     "name": "stderr",
     "output_type": "stream",
     "text": [
      "100%|█████████████████████████████████████████| 655/655 [00:17<00:00, 36.55it/s]\n"
     ]
    },
    {
     "name": "stdout",
     "output_type": "stream",
     "text": [
      "Epoch: 1344, loss: 35.144111394518205, f1: 0.03538925899834932, precision: 0.018017152505606867, recall: 0.9884778197485072\n",
      "val_loss: 35.144127399549575, val_f1: 0.039994402774875, val_precision: 0.020411494241412215, val_recall: 0.9852276162816844\n"
     ]
    },
    {
     "name": "stderr",
     "output_type": "stream",
     "text": [
      "100%|█████████████████████████████████████████| 655/655 [00:17<00:00, 36.44it/s]\n"
     ]
    },
    {
     "name": "stdout",
     "output_type": "stream",
     "text": [
      "Epoch: 1345, loss: 35.144111394518205, f1: 0.03538925899834932, precision: 0.018017152505606867, recall: 0.9884778197485072\n",
      "val_loss: 35.144127399549575, val_f1: 0.039994402774875, val_precision: 0.020411494241412215, val_recall: 0.9852276162816844\n"
     ]
    },
    {
     "name": "stderr",
     "output_type": "stream",
     "text": [
      "100%|█████████████████████████████████████████| 655/655 [00:17<00:00, 36.58it/s]\n"
     ]
    },
    {
     "name": "stdout",
     "output_type": "stream",
     "text": [
      "Epoch: 1346, loss: 35.14411138869424, f1: 0.03538925899834932, precision: 0.018017152505606867, recall: 0.9884778197485072\n",
      "val_loss: 35.14412736455235, val_f1: 0.039994402774875, val_precision: 0.020411494241412215, val_recall: 0.9852276162816844\n"
     ]
    },
    {
     "name": "stderr",
     "output_type": "stream",
     "text": [
      "100%|█████████████████████████████████████████| 655/655 [00:17<00:00, 36.62it/s]\n"
     ]
    },
    {
     "name": "stdout",
     "output_type": "stream",
     "text": [
      "Epoch: 1347, loss: 35.14411138287027, f1: 0.03538925899834932, precision: 0.018017152505606867, recall: 0.9884778197485072\n",
      "val_loss: 35.14412736455235, val_f1: 0.039994402774875, val_precision: 0.020411494241412215, val_recall: 0.9852276162816844\n"
     ]
    },
    {
     "name": "stderr",
     "output_type": "stream",
     "text": [
      "100%|█████████████████████████████████████████| 655/655 [00:17<00:00, 36.66it/s]\n"
     ]
    },
    {
     "name": "stdout",
     "output_type": "stream",
     "text": [
      "Epoch: 1348, loss: 35.14411136539838, f1: 0.03538925899834932, precision: 0.018017152505606867, recall: 0.9884778197485072\n",
      "val_loss: 35.14412736455235, val_f1: 0.039994402774875, val_precision: 0.020411494241412215, val_recall: 0.9852276162816844\n"
     ]
    },
    {
     "name": "stderr",
     "output_type": "stream",
     "text": [
      "100%|█████████████████████████████████████████| 655/655 [00:17<00:00, 37.14it/s]\n"
     ]
    },
    {
     "name": "stdout",
     "output_type": "stream",
     "text": [
      "Epoch: 1349, loss: 35.14411134792648, f1: 0.03538925899834932, precision: 0.018017152505606867, recall: 0.9884778197485072\n",
      "val_loss: 35.144127329555126, val_f1: 0.039994402774875, val_precision: 0.020411494241412215, val_recall: 0.9852276162816844\n"
     ]
    },
    {
     "name": "stderr",
     "output_type": "stream",
     "text": [
      "100%|█████████████████████████████████████████| 655/655 [00:17<00:00, 36.56it/s]\n"
     ]
    },
    {
     "name": "stdout",
     "output_type": "stream",
     "text": [
      "Epoch: 1350, loss: 35.14411134792648, f1: 0.03538925899834932, precision: 0.018017152505606867, recall: 0.9884778197485072\n",
      "val_loss: 35.144127329555126, val_f1: 0.039994402774875, val_precision: 0.020411494241412215, val_recall: 0.9852276162816844\n"
     ]
    },
    {
     "name": "stderr",
     "output_type": "stream",
     "text": [
      "100%|█████████████████████████████████████████| 655/655 [00:17<00:00, 36.59it/s]\n"
     ]
    },
    {
     "name": "stdout",
     "output_type": "stream",
     "text": [
      "Epoch: 1351, loss: 35.14411133627855, f1: 0.03538925899834932, precision: 0.018017152505606867, recall: 0.9884778197485072\n",
      "val_loss: 35.14412731205652, val_f1: 0.039994402774875, val_precision: 0.020411494241412215, val_recall: 0.9852276162816844\n"
     ]
    },
    {
     "name": "stderr",
     "output_type": "stream",
     "text": [
      "100%|█████████████████████████████████████████| 655/655 [00:17<00:00, 36.58it/s]\n"
     ]
    },
    {
     "name": "stdout",
     "output_type": "stream",
     "text": [
      "Epoch: 1352, loss: 35.144111330454585, f1: 0.03538925899834932, precision: 0.018017152505606867, recall: 0.9884778197485072\n",
      "val_loss: 35.14412731205652, val_f1: 0.039994402774875, val_precision: 0.020411494241412215, val_recall: 0.9852276162816844\n"
     ]
    },
    {
     "name": "stderr",
     "output_type": "stream",
     "text": [
      "100%|█████████████████████████████████████████| 655/655 [00:17<00:00, 36.61it/s]\n"
     ]
    },
    {
     "name": "stdout",
     "output_type": "stream",
     "text": [
      "Epoch: 1353, loss: 35.144111330454585, f1: 0.03538925899834932, precision: 0.018017152505606867, recall: 0.9884778197485072\n",
      "val_loss: 35.14412727705929, val_f1: 0.039994402774875, val_precision: 0.020411494241412215, val_recall: 0.9852276162816844\n"
     ]
    },
    {
     "name": "stderr",
     "output_type": "stream",
     "text": [
      "100%|█████████████████████████████████████████| 655/655 [00:17<00:00, 36.46it/s]\n"
     ]
    },
    {
     "name": "stdout",
     "output_type": "stream",
     "text": [
      "Epoch: 1354, loss: 35.144111330454585, f1: 0.03538925899834932, precision: 0.018017152505606867, recall: 0.9884778197485072\n",
      "val_loss: 35.14412725956068, val_f1: 0.039994402774875, val_precision: 0.020411494241412215, val_recall: 0.9852276162816844\n"
     ]
    },
    {
     "name": "stderr",
     "output_type": "stream",
     "text": [
      "100%|█████████████████████████████████████████| 655/655 [00:17<00:00, 36.77it/s]\n"
     ]
    },
    {
     "name": "stdout",
     "output_type": "stream",
     "text": [
      "Epoch: 1355, loss: 35.14411132463062, f1: 0.03538925899834932, precision: 0.018017152505606867, recall: 0.9884778197485072\n",
      "val_loss: 35.14412725956068, val_f1: 0.039994402774875, val_precision: 0.020411494241412215, val_recall: 0.9852276162816844\n"
     ]
    },
    {
     "name": "stderr",
     "output_type": "stream",
     "text": [
      "100%|█████████████████████████████████████████| 655/655 [00:17<00:00, 36.60it/s]\n"
     ]
    },
    {
     "name": "stdout",
     "output_type": "stream",
     "text": [
      "Epoch: 1356, loss: 35.14411131880666, f1: 0.03538925899834932, precision: 0.018017152505606867, recall: 0.9884778197485072\n",
      "val_loss: 35.14412725956068, val_f1: 0.039994402774875, val_precision: 0.020411494241412215, val_recall: 0.9852276162816844\n"
     ]
    },
    {
     "name": "stderr",
     "output_type": "stream",
     "text": [
      "100%|█████████████████████████████████████████| 655/655 [00:17<00:00, 36.49it/s]\n"
     ]
    },
    {
     "name": "stdout",
     "output_type": "stream",
     "text": [
      "Epoch: 1357, loss: 35.144111307158724, f1: 0.03538925899834932, precision: 0.018017152505606867, recall: 0.9884778197485072\n",
      "val_loss: 35.14412724206207, val_f1: 0.039994402774875, val_precision: 0.020411494241412215, val_recall: 0.9852276162816844\n"
     ]
    },
    {
     "name": "stderr",
     "output_type": "stream",
     "text": [
      "100%|█████████████████████████████████████████| 655/655 [00:17<00:00, 36.57it/s]\n"
     ]
    },
    {
     "name": "stdout",
     "output_type": "stream",
     "text": [
      "Epoch: 1358, loss: 35.1441112955108, f1: 0.03538925899834932, precision: 0.018017152505606867, recall: 0.9884778197485072\n",
      "val_loss: 35.14412722456346, val_f1: 0.039994402774875, val_precision: 0.020411494241412215, val_recall: 0.9852276162816844\n"
     ]
    },
    {
     "name": "stderr",
     "output_type": "stream",
     "text": [
      "100%|█████████████████████████████████████████| 655/655 [00:17<00:00, 36.57it/s]\n"
     ]
    },
    {
     "name": "stdout",
     "output_type": "stream",
     "text": [
      "Epoch: 1359, loss: 35.144111289686826, f1: 0.03538925899834932, precision: 0.018017152505606867, recall: 0.9884778197485072\n",
      "val_loss: 35.14412722456346, val_f1: 0.039994402774875, val_precision: 0.020411494241412215, val_recall: 0.9852276162816844\n"
     ]
    },
    {
     "name": "stderr",
     "output_type": "stream",
     "text": [
      "100%|█████████████████████████████████████████| 655/655 [00:17<00:00, 36.60it/s]\n"
     ]
    },
    {
     "name": "stdout",
     "output_type": "stream",
     "text": [
      "Epoch: 1360, loss: 35.14411128386286, f1: 0.03538925899834932, precision: 0.018017152505606867, recall: 0.9884778197485072\n",
      "val_loss: 35.14412720706485, val_f1: 0.039994402774875, val_precision: 0.020411494241412215, val_recall: 0.9852276162816844\n"
     ]
    },
    {
     "name": "stderr",
     "output_type": "stream",
     "text": [
      "100%|█████████████████████████████████████████| 655/655 [00:17<00:00, 36.63it/s]\n"
     ]
    },
    {
     "name": "stdout",
     "output_type": "stream",
     "text": [
      "Epoch: 1361, loss: 35.144111266390965, f1: 0.03538925899834932, precision: 0.018017152505606867, recall: 0.9884778197485072\n",
      "val_loss: 35.14412720706485, val_f1: 0.039994402774875, val_precision: 0.020411494241412215, val_recall: 0.9852276162816844\n"
     ]
    },
    {
     "name": "stderr",
     "output_type": "stream",
     "text": [
      "100%|█████████████████████████████████████████| 655/655 [00:17<00:00, 36.81it/s]\n"
     ]
    },
    {
     "name": "stdout",
     "output_type": "stream",
     "text": [
      "Epoch: 1362, loss: 35.144111260567, f1: 0.03538925899834932, precision: 0.018017152505606867, recall: 0.9884778197485072\n",
      "val_loss: 35.14412720706485, val_f1: 0.039994402774875, val_precision: 0.020411494241412215, val_recall: 0.9852276162816844\n"
     ]
    },
    {
     "name": "stderr",
     "output_type": "stream",
     "text": [
      "100%|█████████████████████████████████████████| 655/655 [00:17<00:00, 36.51it/s]\n"
     ]
    },
    {
     "name": "stdout",
     "output_type": "stream",
     "text": [
      "Epoch: 1363, loss: 35.144111260567, f1: 0.03538925899834932, precision: 0.018017152505606867, recall: 0.9884778197485072\n",
      "val_loss: 35.14412717206763, val_f1: 0.039994402774875, val_precision: 0.020411494241412215, val_recall: 0.9852276162816844\n"
     ]
    },
    {
     "name": "stderr",
     "output_type": "stream",
     "text": [
      "100%|█████████████████████████████████████████| 655/655 [00:17<00:00, 36.65it/s]\n"
     ]
    },
    {
     "name": "stdout",
     "output_type": "stream",
     "text": [
      "Epoch: 1364, loss: 35.14411125474304, f1: 0.03538925899834932, precision: 0.018017152505606867, recall: 0.9884778197485072\n",
      "val_loss: 35.14412717206763, val_f1: 0.039994402774875, val_precision: 0.020411494241412215, val_recall: 0.9852276162816844\n"
     ]
    },
    {
     "name": "stderr",
     "output_type": "stream",
     "text": [
      "100%|█████████████████████████████████████████| 655/655 [00:17<00:00, 36.52it/s]\n"
     ]
    },
    {
     "name": "stdout",
     "output_type": "stream",
     "text": [
      "Epoch: 1365, loss: 35.144111243095104, f1: 0.03538925899834932, precision: 0.018017152505606867, recall: 0.9884778197485072\n",
      "val_loss: 35.14412717206763, val_f1: 0.039994402774875, val_precision: 0.020411494241412215, val_recall: 0.9852276162816844\n"
     ]
    },
    {
     "name": "stderr",
     "output_type": "stream",
     "text": [
      "100%|█████████████████████████████████████████| 655/655 [00:17<00:00, 36.71it/s]\n"
     ]
    },
    {
     "name": "stdout",
     "output_type": "stream",
     "text": [
      "Epoch: 1366, loss: 35.144111243095104, f1: 0.03538925899834932, precision: 0.018017152505606867, recall: 0.9884778197485072\n",
      "val_loss: 35.14412715456901, val_f1: 0.039994402774875, val_precision: 0.020411494241412215, val_recall: 0.9852276162816844\n"
     ]
    },
    {
     "name": "stderr",
     "output_type": "stream",
     "text": [
      "100%|█████████████████████████████████████████| 655/655 [00:17<00:00, 36.60it/s]\n"
     ]
    },
    {
     "name": "stdout",
     "output_type": "stream",
     "text": [
      "Epoch: 1367, loss: 35.14411123144718, f1: 0.03538925899834932, precision: 0.018017152505606867, recall: 0.9884778197485072\n",
      "val_loss: 35.14412715456901, val_f1: 0.039994402774875, val_precision: 0.020411494241412215, val_recall: 0.9852276162816844\n"
     ]
    },
    {
     "name": "stderr",
     "output_type": "stream",
     "text": [
      "100%|█████████████████████████████████████████| 655/655 [00:17<00:00, 37.22it/s]\n"
     ]
    },
    {
     "name": "stdout",
     "output_type": "stream",
     "text": [
      "Epoch: 1368, loss: 35.14411122562321, f1: 0.03538925899834932, precision: 0.018017152505606867, recall: 0.9884778197485072\n",
      "val_loss: 35.14412711957179, val_f1: 0.039994402774875, val_precision: 0.020411494241412215, val_recall: 0.9852276162816844\n"
     ]
    },
    {
     "name": "stderr",
     "output_type": "stream",
     "text": [
      "100%|█████████████████████████████████████████| 655/655 [00:17<00:00, 36.70it/s]\n"
     ]
    },
    {
     "name": "stdout",
     "output_type": "stream",
     "text": [
      "Epoch: 1369, loss: 35.14411121397528, f1: 0.03538925899834932, precision: 0.018017152505606867, recall: 0.9884778197485072\n",
      "val_loss: 35.14412710207318, val_f1: 0.039994402774875, val_precision: 0.020411494241412215, val_recall: 0.9852276162816844\n"
     ]
    },
    {
     "name": "stderr",
     "output_type": "stream",
     "text": [
      "100%|█████████████████████████████████████████| 655/655 [00:17<00:00, 36.58it/s]\n"
     ]
    },
    {
     "name": "stdout",
     "output_type": "stream",
     "text": [
      "Epoch: 1370, loss: 35.144111208151315, f1: 0.03538925899834932, precision: 0.018017152505606867, recall: 0.9884778197485072\n",
      "val_loss: 35.14412710207318, val_f1: 0.039994402774875, val_precision: 0.020411494241412215, val_recall: 0.9852276162816844\n"
     ]
    },
    {
     "name": "stderr",
     "output_type": "stream",
     "text": [
      "100%|█████████████████████████████████████████| 655/655 [00:17<00:00, 36.73it/s]\n"
     ]
    },
    {
     "name": "stdout",
     "output_type": "stream",
     "text": [
      "Epoch: 1371, loss: 35.14411120232735, f1: 0.03538925899834932, precision: 0.018017152505606867, recall: 0.9884778197485072\n",
      "val_loss: 35.14412708457457, val_f1: 0.039994402774875, val_precision: 0.020411494241412215, val_recall: 0.9852276162816844\n"
     ]
    },
    {
     "name": "stderr",
     "output_type": "stream",
     "text": [
      "100%|█████████████████████████████████████████| 655/655 [00:17<00:00, 36.63it/s]\n"
     ]
    },
    {
     "name": "stdout",
     "output_type": "stream",
     "text": [
      "Epoch: 1372, loss: 35.14411119650338, f1: 0.03538925899834932, precision: 0.018017152505606867, recall: 0.9884778197485072\n",
      "val_loss: 35.14412708457457, val_f1: 0.039994402774875, val_precision: 0.020411494241412215, val_recall: 0.9852276162816844\n"
     ]
    },
    {
     "name": "stderr",
     "output_type": "stream",
     "text": [
      "100%|█████████████████████████████████████████| 655/655 [00:17<00:00, 36.55it/s]\n"
     ]
    },
    {
     "name": "stdout",
     "output_type": "stream",
     "text": [
      "Epoch: 1373, loss: 35.144111184855454, f1: 0.03538925899834932, precision: 0.018017152505606867, recall: 0.9884778197485072\n",
      "val_loss: 35.14412708457457, val_f1: 0.039994402774875, val_precision: 0.020411494241412215, val_recall: 0.9852276162816844\n"
     ]
    },
    {
     "name": "stderr",
     "output_type": "stream",
     "text": [
      "100%|█████████████████████████████████████████| 655/655 [00:17<00:00, 37.04it/s]\n"
     ]
    },
    {
     "name": "stdout",
     "output_type": "stream",
     "text": [
      "Epoch: 1374, loss: 35.14411117320752, f1: 0.03538925899834932, precision: 0.018017152505606867, recall: 0.9884778197485072\n",
      "val_loss: 35.14412706707596, val_f1: 0.039994402774875, val_precision: 0.020411494241412215, val_recall: 0.9852276162816844\n"
     ]
    },
    {
     "name": "stderr",
     "output_type": "stream",
     "text": [
      "100%|█████████████████████████████████████████| 655/655 [00:17<00:00, 36.65it/s]\n"
     ]
    },
    {
     "name": "stdout",
     "output_type": "stream",
     "text": [
      "Epoch: 1375, loss: 35.14411117320752, f1: 0.03538925899834932, precision: 0.018017152505606867, recall: 0.9884778197485072\n",
      "val_loss: 35.14412706707596, val_f1: 0.039994402774875, val_precision: 0.020411494241412215, val_recall: 0.9852276162816844\n"
     ]
    },
    {
     "name": "stderr",
     "output_type": "stream",
     "text": [
      "100%|█████████████████████████████████████████| 655/655 [00:17<00:00, 36.55it/s]\n"
     ]
    },
    {
     "name": "stdout",
     "output_type": "stream",
     "text": [
      "Epoch: 1376, loss: 35.14411116738356, f1: 0.03538925899834932, precision: 0.018017152505606867, recall: 0.9884778197485072\n",
      "val_loss: 35.14412706707596, val_f1: 0.039994402774875, val_precision: 0.020411494241412215, val_recall: 0.9852276162816844\n"
     ]
    },
    {
     "name": "stderr",
     "output_type": "stream",
     "text": [
      "100%|█████████████████████████████████████████| 655/655 [00:17<00:00, 36.53it/s]\n"
     ]
    },
    {
     "name": "stdout",
     "output_type": "stream",
     "text": [
      "Epoch: 1377, loss: 35.14411116155959, f1: 0.03538925899834932, precision: 0.018017152505606867, recall: 0.9884778197485072\n",
      "val_loss: 35.14412704957734, val_f1: 0.039994402774875, val_precision: 0.020411494241412215, val_recall: 0.9852276162816844\n"
     ]
    },
    {
     "name": "stderr",
     "output_type": "stream",
     "text": [
      "100%|█████████████████████████████████████████| 655/655 [00:17<00:00, 36.44it/s]\n"
     ]
    },
    {
     "name": "stdout",
     "output_type": "stream",
     "text": [
      "Epoch: 1378, loss: 35.14411114991166, f1: 0.03538925899834932, precision: 0.018017152505606867, recall: 0.9884778197485072\n",
      "val_loss: 35.14412704957734, val_f1: 0.039994402774875, val_precision: 0.020411494241412215, val_recall: 0.9852276162816844\n"
     ]
    },
    {
     "name": "stderr",
     "output_type": "stream",
     "text": [
      "100%|█████████████████████████████████████████| 655/655 [00:17<00:00, 36.63it/s]\n"
     ]
    },
    {
     "name": "stdout",
     "output_type": "stream",
     "text": [
      "Epoch: 1379, loss: 35.14411114991166, f1: 0.03538925899834932, precision: 0.018017152505606867, recall: 0.9884778197485072\n",
      "val_loss: 35.144127032078735, val_f1: 0.039994402774875, val_precision: 0.020411494241412215, val_recall: 0.9852276162816844\n"
     ]
    },
    {
     "name": "stderr",
     "output_type": "stream",
     "text": [
      "100%|█████████████████████████████████████████| 655/655 [00:17<00:00, 36.69it/s]\n"
     ]
    },
    {
     "name": "stdout",
     "output_type": "stream",
     "text": [
      "Epoch: 1380, loss: 35.144111144087695, f1: 0.03538925899834932, precision: 0.018017152505606867, recall: 0.9884778197485072\n",
      "val_loss: 35.144127032078735, val_f1: 0.039994402774875, val_precision: 0.020411494241412215, val_recall: 0.9852276162816844\n"
     ]
    },
    {
     "name": "stderr",
     "output_type": "stream",
     "text": [
      "100%|█████████████████████████████████████████| 655/655 [00:17<00:00, 36.55it/s]\n"
     ]
    },
    {
     "name": "stdout",
     "output_type": "stream",
     "text": [
      "Epoch: 1381, loss: 35.14411113243977, f1: 0.03538925899834932, precision: 0.018017152505606867, recall: 0.9884778197485072\n",
      "val_loss: 35.14412701458012, val_f1: 0.039994402774875, val_precision: 0.020411494241412215, val_recall: 0.9852276162816844\n"
     ]
    },
    {
     "name": "stderr",
     "output_type": "stream",
     "text": [
      "100%|█████████████████████████████████████████| 655/655 [00:17<00:00, 36.52it/s]\n"
     ]
    },
    {
     "name": "stdout",
     "output_type": "stream",
     "text": [
      "Epoch: 1382, loss: 35.14411113243977, f1: 0.03538925899834932, precision: 0.018017152505606867, recall: 0.9884778197485072\n",
      "val_loss: 35.14412701458012, val_f1: 0.039994402774875, val_precision: 0.020411494241412215, val_recall: 0.9852276162816844\n"
     ]
    },
    {
     "name": "stderr",
     "output_type": "stream",
     "text": [
      "100%|█████████████████████████████████████████| 655/655 [00:17<00:00, 36.47it/s]\n"
     ]
    },
    {
     "name": "stdout",
     "output_type": "stream",
     "text": [
      "Epoch: 1383, loss: 35.14411113243977, f1: 0.03538925899834932, precision: 0.018017152505606867, recall: 0.9884778197485072\n",
      "val_loss: 35.14412701458012, val_f1: 0.039994402774875, val_precision: 0.020411494241412215, val_recall: 0.9852276162816844\n"
     ]
    },
    {
     "name": "stderr",
     "output_type": "stream",
     "text": [
      "100%|█████████████████████████████████████████| 655/655 [00:17<00:00, 36.52it/s]\n"
     ]
    },
    {
     "name": "stdout",
     "output_type": "stream",
     "text": [
      "Epoch: 1384, loss: 35.14411111496787, f1: 0.03538925899834932, precision: 0.018017152505606867, recall: 0.9884778197485072\n",
      "val_loss: 35.144126997081514, val_f1: 0.039994402774875, val_precision: 0.020411494241412215, val_recall: 0.9852276162816844\n"
     ]
    },
    {
     "name": "stderr",
     "output_type": "stream",
     "text": [
      "100%|█████████████████████████████████████████| 655/655 [00:17<00:00, 36.54it/s]\n"
     ]
    },
    {
     "name": "stdout",
     "output_type": "stream",
     "text": [
      "Epoch: 1385, loss: 35.144111103319936, f1: 0.03538925899834932, precision: 0.018017152505606867, recall: 0.9884778197485072\n",
      "val_loss: 35.144126997081514, val_f1: 0.039994402774875, val_precision: 0.020411494241412215, val_recall: 0.9852276162816844\n"
     ]
    },
    {
     "name": "stderr",
     "output_type": "stream",
     "text": [
      "100%|█████████████████████████████████████████| 655/655 [00:17<00:00, 36.64it/s]\n"
     ]
    },
    {
     "name": "stdout",
     "output_type": "stream",
     "text": [
      "Epoch: 1386, loss: 35.144111103319936, f1: 0.03538925899834932, precision: 0.018017152505606867, recall: 0.9884778197485072\n",
      "val_loss: 35.1441269795829, val_f1: 0.039994402774875, val_precision: 0.020411494241412215, val_recall: 0.9852276162816844\n"
     ]
    },
    {
     "name": "stderr",
     "output_type": "stream",
     "text": [
      "100%|█████████████████████████████████████████| 655/655 [00:17<00:00, 36.67it/s]\n"
     ]
    },
    {
     "name": "stdout",
     "output_type": "stream",
     "text": [
      "Epoch: 1387, loss: 35.14411109749597, f1: 0.03538925899834932, precision: 0.018017152505606867, recall: 0.9884778197485072\n",
      "val_loss: 35.144126962084286, val_f1: 0.039994402774875, val_precision: 0.020411494241412215, val_recall: 0.9852276162816844\n"
     ]
    },
    {
     "name": "stderr",
     "output_type": "stream",
     "text": [
      "100%|█████████████████████████████████████████| 655/655 [00:17<00:00, 36.51it/s]\n"
     ]
    },
    {
     "name": "stdout",
     "output_type": "stream",
     "text": [
      "Epoch: 1388, loss: 35.144111085848046, f1: 0.03538925899834932, precision: 0.018017152505606867, recall: 0.9884778197485072\n",
      "val_loss: 35.144126962084286, val_f1: 0.039994402774875, val_precision: 0.020411494241412215, val_recall: 0.9852276162816844\n"
     ]
    },
    {
     "name": "stderr",
     "output_type": "stream",
     "text": [
      "100%|█████████████████████████████████████████| 655/655 [00:17<00:00, 36.59it/s]\n"
     ]
    },
    {
     "name": "stdout",
     "output_type": "stream",
     "text": [
      "Epoch: 1389, loss: 35.144111085848046, f1: 0.03538925899834932, precision: 0.018017152505606867, recall: 0.9884778197485072\n",
      "val_loss: 35.14412694458568, val_f1: 0.039994402774875, val_precision: 0.020411494241412215, val_recall: 0.9852276162816844\n"
     ]
    },
    {
     "name": "stderr",
     "output_type": "stream",
     "text": [
      "100%|█████████████████████████████████████████| 655/655 [00:17<00:00, 36.55it/s]\n"
     ]
    },
    {
     "name": "stdout",
     "output_type": "stream",
     "text": [
      "Epoch: 1390, loss: 35.14411108002408, f1: 0.03538925899834932, precision: 0.018017152505606867, recall: 0.9884778197485072\n",
      "val_loss: 35.14412694458568, val_f1: 0.039994402774875, val_precision: 0.020411494241412215, val_recall: 0.9852276162816844\n"
     ]
    },
    {
     "name": "stderr",
     "output_type": "stream",
     "text": [
      "100%|█████████████████████████████████████████| 655/655 [00:17<00:00, 36.55it/s]\n"
     ]
    },
    {
     "name": "stdout",
     "output_type": "stream",
     "text": [
      "Epoch: 1391, loss: 35.14411107420011, f1: 0.03538925899834932, precision: 0.018017152505606867, recall: 0.9884778197485072\n",
      "val_loss: 35.14412694458568, val_f1: 0.039994402774875, val_precision: 0.020411494241412215, val_recall: 0.9852276162816844\n"
     ]
    },
    {
     "name": "stderr",
     "output_type": "stream",
     "text": [
      "100%|█████████████████████████████████████████| 655/655 [00:17<00:00, 36.53it/s]\n"
     ]
    },
    {
     "name": "stdout",
     "output_type": "stream",
     "text": [
      "Epoch: 1392, loss: 35.14411106837615, f1: 0.03538925899834932, precision: 0.018017152505606867, recall: 0.9884778197485072\n",
      "val_loss: 35.144126927087065, val_f1: 0.039994402774875, val_precision: 0.020411494241412215, val_recall: 0.9852276162816844\n"
     ]
    },
    {
     "name": "stderr",
     "output_type": "stream",
     "text": [
      "100%|█████████████████████████████████████████| 655/655 [00:17<00:00, 36.90it/s]\n"
     ]
    },
    {
     "name": "stdout",
     "output_type": "stream",
     "text": [
      "Epoch: 1393, loss: 35.14411105672822, f1: 0.03538925899834932, precision: 0.018017152505606867, recall: 0.9884778197485072\n",
      "val_loss: 35.14412690958846, val_f1: 0.039994402774875, val_precision: 0.020411494241412215, val_recall: 0.9852276162816844\n"
     ]
    },
    {
     "name": "stderr",
     "output_type": "stream",
     "text": [
      "100%|█████████████████████████████████████████| 655/655 [00:17<00:00, 36.43it/s]\n"
     ]
    },
    {
     "name": "stdout",
     "output_type": "stream",
     "text": [
      "Epoch: 1394, loss: 35.14411105090425, f1: 0.03538925899834932, precision: 0.018017152505606867, recall: 0.9884778197485072\n",
      "val_loss: 35.14412690958846, val_f1: 0.039994402774875, val_precision: 0.020411494241412215, val_recall: 0.9852276162816844\n"
     ]
    },
    {
     "name": "stderr",
     "output_type": "stream",
     "text": [
      "100%|█████████████████████████████████████████| 655/655 [00:17<00:00, 36.61it/s]\n"
     ]
    },
    {
     "name": "stdout",
     "output_type": "stream",
     "text": [
      "Epoch: 1395, loss: 35.14411105090425, f1: 0.03538925899834932, precision: 0.018017152505606867, recall: 0.9884778197485072\n",
      "val_loss: 35.14412690958846, val_f1: 0.039994402774875, val_precision: 0.020411494241412215, val_recall: 0.9852276162816844\n"
     ]
    },
    {
     "name": "stderr",
     "output_type": "stream",
     "text": [
      "100%|█████████████████████████████████████████| 655/655 [00:17<00:00, 36.66it/s]\n"
     ]
    },
    {
     "name": "stdout",
     "output_type": "stream",
     "text": [
      "Epoch: 1396, loss: 35.14411104508029, f1: 0.03538925899834932, precision: 0.018017152505606867, recall: 0.9884778197485072\n",
      "val_loss: 35.14412690958846, val_f1: 0.039994402774875, val_precision: 0.020411494241412215, val_recall: 0.9852276162816844\n"
     ]
    },
    {
     "name": "stderr",
     "output_type": "stream",
     "text": [
      "100%|█████████████████████████████████████████| 655/655 [00:17<00:00, 36.57it/s]\n"
     ]
    },
    {
     "name": "stdout",
     "output_type": "stream",
     "text": [
      "Epoch: 1397, loss: 35.14411103925632, f1: 0.03538925899834932, precision: 0.018017152505606867, recall: 0.9884778197485072\n",
      "val_loss: 35.14412683959401, val_f1: 0.039994402774875, val_precision: 0.020411494241412215, val_recall: 0.9852276162816844\n"
     ]
    },
    {
     "name": "stderr",
     "output_type": "stream",
     "text": [
      "100%|█████████████████████████████████████████| 655/655 [00:17<00:00, 36.61it/s]\n"
     ]
    },
    {
     "name": "stdout",
     "output_type": "stream",
     "text": [
      "Epoch: 1398, loss: 35.14411102760839, f1: 0.03538925899834932, precision: 0.018017152505606867, recall: 0.9884778197485072\n",
      "val_loss: 35.1441268220954, val_f1: 0.039994402774875, val_precision: 0.020411494241412215, val_recall: 0.9852276162816844\n"
     ]
    },
    {
     "name": "stderr",
     "output_type": "stream",
     "text": [
      "100%|█████████████████████████████████████████| 655/655 [00:17<00:00, 37.15it/s]\n"
     ]
    },
    {
     "name": "stdout",
     "output_type": "stream",
     "text": [
      "Epoch: 1399, loss: 35.144111021784425, f1: 0.03538925899834932, precision: 0.018017152505606867, recall: 0.9884778197485072\n",
      "val_loss: 35.14412680459679, val_f1: 0.039994402774875, val_precision: 0.020411494241412215, val_recall: 0.9852276162816844\n"
     ]
    },
    {
     "name": "stderr",
     "output_type": "stream",
     "text": [
      "100%|█████████████████████████████████████████| 655/655 [00:17<00:00, 36.63it/s]\n"
     ]
    },
    {
     "name": "stdout",
     "output_type": "stream",
     "text": [
      "Epoch: 1400, loss: 35.144111021784425, f1: 0.03538925899834932, precision: 0.018017152505606867, recall: 0.9884778197485072\n",
      "val_loss: 35.14412680459679, val_f1: 0.039994402774875, val_precision: 0.020411494241412215, val_recall: 0.9852276162816844\n"
     ]
    },
    {
     "name": "stderr",
     "output_type": "stream",
     "text": [
      "100%|█████████████████████████████████████████| 655/655 [00:17<00:00, 36.54it/s]\n"
     ]
    },
    {
     "name": "stdout",
     "output_type": "stream",
     "text": [
      "Epoch: 1401, loss: 35.14411100431253, f1: 0.03538925899834932, precision: 0.018017152505606867, recall: 0.9884778197485072\n",
      "val_loss: 35.14412680459679, val_f1: 0.039994402774875, val_precision: 0.020411494241412215, val_recall: 0.9852276162816844\n"
     ]
    },
    {
     "name": "stderr",
     "output_type": "stream",
     "text": [
      "100%|█████████████████████████████████████████| 655/655 [00:17<00:00, 36.68it/s]\n"
     ]
    },
    {
     "name": "stdout",
     "output_type": "stream",
     "text": [
      "Epoch: 1402, loss: 35.14411100431253, f1: 0.03538925899834932, precision: 0.018017152505606867, recall: 0.9884778197485072\n",
      "val_loss: 35.14412678709817, val_f1: 0.039994402774875, val_precision: 0.020411494241412215, val_recall: 0.9852276162816844\n"
     ]
    },
    {
     "name": "stderr",
     "output_type": "stream",
     "text": [
      "100%|█████████████████████████████████████████| 655/655 [00:17<00:00, 36.54it/s]\n"
     ]
    },
    {
     "name": "stdout",
     "output_type": "stream",
     "text": [
      "Epoch: 1403, loss: 35.14411100431253, f1: 0.03538925899834932, precision: 0.018017152505606867, recall: 0.9884778197485072\n",
      "val_loss: 35.14412678709817, val_f1: 0.039994402774875, val_precision: 0.020411494241412215, val_recall: 0.9852276162816844\n"
     ]
    },
    {
     "name": "stderr",
     "output_type": "stream",
     "text": [
      "100%|█████████████████████████████████████████| 655/655 [00:17<00:00, 36.52it/s]\n"
     ]
    },
    {
     "name": "stdout",
     "output_type": "stream",
     "text": [
      "Epoch: 1404, loss: 35.144110998488564, f1: 0.03538925899834932, precision: 0.018017152505606867, recall: 0.9884778197485072\n",
      "val_loss: 35.144126769599566, val_f1: 0.039994402774875, val_precision: 0.020411494241412215, val_recall: 0.9852276162816844\n"
     ]
    },
    {
     "name": "stderr",
     "output_type": "stream",
     "text": [
      "100%|█████████████████████████████████████████| 655/655 [00:17<00:00, 36.89it/s]\n"
     ]
    },
    {
     "name": "stdout",
     "output_type": "stream",
     "text": [
      "Epoch: 1405, loss: 35.14411098101667, f1: 0.03538925899834932, precision: 0.018017152505606867, recall: 0.9884778197485072\n",
      "val_loss: 35.144126769599566, val_f1: 0.039994402774875, val_precision: 0.020411494241412215, val_recall: 0.9852276162816844\n"
     ]
    },
    {
     "name": "stderr",
     "output_type": "stream",
     "text": [
      "100%|█████████████████████████████████████████| 655/655 [00:17<00:00, 36.76it/s]\n"
     ]
    },
    {
     "name": "stdout",
     "output_type": "stream",
     "text": [
      "Epoch: 1406, loss: 35.14411098101667, f1: 0.03538925899834932, precision: 0.018017152505606867, recall: 0.9884778197485072\n",
      "val_loss: 35.144126769599566, val_f1: 0.039994402774875, val_precision: 0.020411494241412215, val_recall: 0.9852276162816844\n"
     ]
    },
    {
     "name": "stderr",
     "output_type": "stream",
     "text": [
      "100%|█████████████████████████████████████████| 655/655 [00:17<00:00, 36.58it/s]\n"
     ]
    },
    {
     "name": "stdout",
     "output_type": "stream",
     "text": [
      "Epoch: 1407, loss: 35.14411098101667, f1: 0.03538925899834932, precision: 0.018017152505606867, recall: 0.9884778197485072\n",
      "val_loss: 35.14412675210095, val_f1: 0.039994402774875, val_precision: 0.020411494241412215, val_recall: 0.9852276162816844\n"
     ]
    },
    {
     "name": "stderr",
     "output_type": "stream",
     "text": [
      "100%|█████████████████████████████████████████| 655/655 [00:17<00:00, 36.71it/s]\n"
     ]
    },
    {
     "name": "stdout",
     "output_type": "stream",
     "text": [
      "Epoch: 1408, loss: 35.144110963544776, f1: 0.03538925899834932, precision: 0.018017152505606867, recall: 0.9884778197485072\n",
      "val_loss: 35.14412675210095, val_f1: 0.039994402774875, val_precision: 0.020411494241412215, val_recall: 0.9852276162816844\n"
     ]
    },
    {
     "name": "stderr",
     "output_type": "stream",
     "text": [
      "100%|█████████████████████████████████████████| 655/655 [00:17<00:00, 36.75it/s]\n"
     ]
    },
    {
     "name": "stdout",
     "output_type": "stream",
     "text": [
      "Epoch: 1409, loss: 35.144110957720805, f1: 0.03538925899834932, precision: 0.018017152505606867, recall: 0.9884778197485072\n",
      "val_loss: 35.14412675210095, val_f1: 0.039994402774875, val_precision: 0.020411494241412215, val_recall: 0.9852276162816844\n"
     ]
    },
    {
     "name": "stderr",
     "output_type": "stream",
     "text": [
      "100%|█████████████████████████████████████████| 655/655 [00:17<00:00, 36.65it/s]\n"
     ]
    },
    {
     "name": "stdout",
     "output_type": "stream",
     "text": [
      "Epoch: 1410, loss: 35.144110957720805, f1: 0.03538925899834932, precision: 0.018017152505606867, recall: 0.9884778197485072\n",
      "val_loss: 35.144126734602345, val_f1: 0.039994402774875, val_precision: 0.020411494241412215, val_recall: 0.9852276162816844\n"
     ]
    },
    {
     "name": "stderr",
     "output_type": "stream",
     "text": [
      "100%|█████████████████████████████████████████| 655/655 [00:17<00:00, 36.73it/s]\n"
     ]
    },
    {
     "name": "stdout",
     "output_type": "stream",
     "text": [
      "Epoch: 1411, loss: 35.144110940248915, f1: 0.03538925899834932, precision: 0.018017152505606867, recall: 0.9884778197485072\n",
      "val_loss: 35.144126734602345, val_f1: 0.039994402774875, val_precision: 0.020411494241412215, val_recall: 0.9852276162816844\n"
     ]
    },
    {
     "name": "stderr",
     "output_type": "stream",
     "text": [
      "100%|█████████████████████████████████████████| 655/655 [00:17<00:00, 36.74it/s]\n"
     ]
    },
    {
     "name": "stdout",
     "output_type": "stream",
     "text": [
      "Epoch: 1412, loss: 35.144110934424944, f1: 0.03538925899834932, precision: 0.018017152505606867, recall: 0.9884778197485072\n",
      "val_loss: 35.144126734602345, val_f1: 0.039994402774875, val_precision: 0.020411494241412215, val_recall: 0.9852276162816844\n"
     ]
    },
    {
     "name": "stderr",
     "output_type": "stream",
     "text": [
      "100%|█████████████████████████████████████████| 655/655 [00:17<00:00, 36.62it/s]\n"
     ]
    },
    {
     "name": "stdout",
     "output_type": "stream",
     "text": [
      "Epoch: 1413, loss: 35.144110934424944, f1: 0.03538925899834932, precision: 0.018017152505606867, recall: 0.9884778197485072\n",
      "val_loss: 35.14412671710373, val_f1: 0.039994402774875, val_precision: 0.020411494241412215, val_recall: 0.9852276162816844\n"
     ]
    },
    {
     "name": "stderr",
     "output_type": "stream",
     "text": [
      "100%|█████████████████████████████████████████| 655/655 [00:17<00:00, 36.62it/s]\n"
     ]
    },
    {
     "name": "stdout",
     "output_type": "stream",
     "text": [
      "Epoch: 1414, loss: 35.14411092860098, f1: 0.03538925899834932, precision: 0.018017152505606867, recall: 0.9884778197485072\n",
      "val_loss: 35.14412669960512, val_f1: 0.039994402774875, val_precision: 0.020411494241412215, val_recall: 0.9852276162816844\n"
     ]
    },
    {
     "name": "stderr",
     "output_type": "stream",
     "text": [
      "100%|█████████████████████████████████████████| 655/655 [00:17<00:00, 36.60it/s]\n"
     ]
    },
    {
     "name": "stdout",
     "output_type": "stream",
     "text": [
      "Epoch: 1415, loss: 35.14411092277702, f1: 0.03538925899834932, precision: 0.018017152505606867, recall: 0.9884778197485072\n",
      "val_loss: 35.14412668210651, val_f1: 0.039994402774875, val_precision: 0.020411494241412215, val_recall: 0.9852276162816844\n"
     ]
    },
    {
     "name": "stderr",
     "output_type": "stream",
     "text": [
      "100%|█████████████████████████████████████████| 655/655 [00:17<00:00, 36.60it/s]\n"
     ]
    },
    {
     "name": "stdout",
     "output_type": "stream",
     "text": [
      "Epoch: 1416, loss: 35.14411091112908, f1: 0.03538925899834932, precision: 0.018017152505606867, recall: 0.9884778197485072\n",
      "val_loss: 35.14412664710929, val_f1: 0.039994402774875, val_precision: 0.020411494241412215, val_recall: 0.9852276162816844\n"
     ]
    },
    {
     "name": "stderr",
     "output_type": "stream",
     "text": [
      "100%|█████████████████████████████████████████| 655/655 [00:17<00:00, 36.58it/s]\n"
     ]
    },
    {
     "name": "stdout",
     "output_type": "stream",
     "text": [
      "Epoch: 1417, loss: 35.14411091112908, f1: 0.03538925899834932, precision: 0.018017152505606867, recall: 0.9884778197485072\n",
      "val_loss: 35.144126629610675, val_f1: 0.039994402774875, val_precision: 0.020411494241412215, val_recall: 0.9852276162816844\n"
     ]
    },
    {
     "name": "stderr",
     "output_type": "stream",
     "text": [
      "100%|█████████████████████████████████████████| 655/655 [00:17<00:00, 36.94it/s]\n"
     ]
    },
    {
     "name": "stdout",
     "output_type": "stream",
     "text": [
      "Epoch: 1418, loss: 35.144110899481156, f1: 0.03538925899834932, precision: 0.018017152505606867, recall: 0.9884778197485072\n",
      "val_loss: 35.144126629610675, val_f1: 0.039994402774875, val_precision: 0.020411494241412215, val_recall: 0.9852276162816844\n"
     ]
    },
    {
     "name": "stderr",
     "output_type": "stream",
     "text": [
      "100%|█████████████████████████████████████████| 655/655 [00:17<00:00, 36.55it/s]\n"
     ]
    },
    {
     "name": "stdout",
     "output_type": "stream",
     "text": [
      "Epoch: 1419, loss: 35.144110899481156, f1: 0.03538925899834932, precision: 0.018017152505606867, recall: 0.9884778197485072\n",
      "val_loss: 35.14412661211206, val_f1: 0.039994402774875, val_precision: 0.020411494241412215, val_recall: 0.9852276162816844\n"
     ]
    },
    {
     "name": "stderr",
     "output_type": "stream",
     "text": [
      "100%|█████████████████████████████████████████| 655/655 [00:17<00:00, 36.46it/s]\n"
     ]
    },
    {
     "name": "stdout",
     "output_type": "stream",
     "text": [
      "Epoch: 1420, loss: 35.14411089365719, f1: 0.03538925899834932, precision: 0.018017152505606867, recall: 0.9884778197485072\n",
      "val_loss: 35.14412634963289, val_f1: 0.039994402774875, val_precision: 0.020411494241412215, val_recall: 0.9852276162816844\n"
     ]
    },
    {
     "name": "stderr",
     "output_type": "stream",
     "text": [
      "100%|█████████████████████████████████████████| 655/655 [00:17<00:00, 36.60it/s]\n"
     ]
    },
    {
     "name": "stdout",
     "output_type": "stream",
     "text": [
      "Epoch: 1421, loss: 35.14411088783322, f1: 0.03538925899834932, precision: 0.018017152505606867, recall: 0.9884778197485072\n",
      "val_loss: 35.144126332134284, val_f1: 0.039994402774875, val_precision: 0.020411494241412215, val_recall: 0.9852276162816844\n"
     ]
    },
    {
     "name": "stderr",
     "output_type": "stream",
     "text": [
      "100%|█████████████████████████████████████████| 655/655 [00:17<00:00, 36.59it/s]\n"
     ]
    },
    {
     "name": "stdout",
     "output_type": "stream",
     "text": [
      "Epoch: 1422, loss: 35.14411088200926, f1: 0.03538925899834932, precision: 0.018017152505606867, recall: 0.9884778197485072\n",
      "val_loss: 35.144126332134284, val_f1: 0.039994402774875, val_precision: 0.020411494241412215, val_recall: 0.9852276162816844\n"
     ]
    },
    {
     "name": "stderr",
     "output_type": "stream",
     "text": [
      "100%|█████████████████████████████████████████| 655/655 [00:17<00:00, 36.63it/s]\n"
     ]
    },
    {
     "name": "stdout",
     "output_type": "stream",
     "text": [
      "Epoch: 1423, loss: 35.144110876185295, f1: 0.03538925899834932, precision: 0.018017152505606867, recall: 0.9884778197485072\n",
      "val_loss: 35.144126332134284, val_f1: 0.039994402774875, val_precision: 0.020411494241412215, val_recall: 0.9852276162816844\n"
     ]
    },
    {
     "name": "stderr",
     "output_type": "stream",
     "text": [
      "100%|█████████████████████████████████████████| 655/655 [00:17<00:00, 37.01it/s]\n"
     ]
    },
    {
     "name": "stdout",
     "output_type": "stream",
     "text": [
      "Epoch: 1424, loss: 35.14411086453736, f1: 0.03538925899834932, precision: 0.018017152505606867, recall: 0.9884778197485072\n",
      "val_loss: 35.14412631463567, val_f1: 0.039994402774875, val_precision: 0.020411494241412215, val_recall: 0.9852276162816844\n"
     ]
    },
    {
     "name": "stderr",
     "output_type": "stream",
     "text": [
      "100%|█████████████████████████████████████████| 655/655 [00:17<00:00, 36.71it/s]\n"
     ]
    },
    {
     "name": "stdout",
     "output_type": "stream",
     "text": [
      "Epoch: 1425, loss: 35.14411086453736, f1: 0.03538925899834932, precision: 0.018017152505606867, recall: 0.9884778197485072\n",
      "val_loss: 35.14412631463567, val_f1: 0.039994402774875, val_precision: 0.020411494241412215, val_recall: 0.9852276162816844\n"
     ]
    },
    {
     "name": "stderr",
     "output_type": "stream",
     "text": [
      "100%|█████████████████████████████████████████| 655/655 [00:17<00:00, 36.58it/s]\n"
     ]
    },
    {
     "name": "stdout",
     "output_type": "stream",
     "text": [
      "Epoch: 1426, loss: 35.14411085288943, f1: 0.03538925899834932, precision: 0.018017152505606867, recall: 0.9884778197485072\n",
      "val_loss: 35.144126297137056, val_f1: 0.039994402774875, val_precision: 0.020411494241412215, val_recall: 0.9852276162816844\n"
     ]
    },
    {
     "name": "stderr",
     "output_type": "stream",
     "text": [
      "100%|█████████████████████████████████████████| 655/655 [00:17<00:00, 36.65it/s]\n"
     ]
    },
    {
     "name": "stdout",
     "output_type": "stream",
     "text": [
      "Epoch: 1427, loss: 35.14411084706547, f1: 0.03538925899834932, precision: 0.018017152505606867, recall: 0.9884778197485072\n",
      "val_loss: 35.14412627963845, val_f1: 0.039994402774875, val_precision: 0.020411494241412215, val_recall: 0.9852276162816844\n"
     ]
    },
    {
     "name": "stderr",
     "output_type": "stream",
     "text": [
      "100%|█████████████████████████████████████████| 655/655 [00:17<00:00, 36.64it/s]\n"
     ]
    },
    {
     "name": "stdout",
     "output_type": "stream",
     "text": [
      "Epoch: 1428, loss: 35.1441108412415, f1: 0.03538925899834932, precision: 0.018017152505606867, recall: 0.9884778197485072\n",
      "val_loss: 35.14412627963845, val_f1: 0.039994402774875, val_precision: 0.020411494241412215, val_recall: 0.9852276162816844\n"
     ]
    },
    {
     "name": "stderr",
     "output_type": "stream",
     "text": [
      "100%|█████████████████████████████████████████| 655/655 [00:17<00:00, 36.51it/s]\n"
     ]
    },
    {
     "name": "stdout",
     "output_type": "stream",
     "text": [
      "Epoch: 1429, loss: 35.144110835417536, f1: 0.03538925899834932, precision: 0.018017152505606867, recall: 0.9884778197485072\n",
      "val_loss: 35.14412627963845, val_f1: 0.039994402774875, val_precision: 0.020411494241412215, val_recall: 0.9852276162816844\n"
     ]
    },
    {
     "name": "stderr",
     "output_type": "stream",
     "text": [
      "100%|█████████████████████████████████████████| 655/655 [00:17<00:00, 36.85it/s]\n"
     ]
    },
    {
     "name": "stdout",
     "output_type": "stream",
     "text": [
      "Epoch: 1430, loss: 35.144110835417536, f1: 0.03538925899834932, precision: 0.018017152505606867, recall: 0.9884778197485072\n",
      "val_loss: 35.14412627963845, val_f1: 0.039994402774875, val_precision: 0.020411494241412215, val_recall: 0.9852276162816844\n"
     ]
    },
    {
     "name": "stderr",
     "output_type": "stream",
     "text": [
      "100%|█████████████████████████████████████████| 655/655 [00:17<00:00, 36.62it/s]\n"
     ]
    },
    {
     "name": "stdout",
     "output_type": "stream",
     "text": [
      "Epoch: 1431, loss: 35.144110835417536, f1: 0.03538925899834932, precision: 0.018017152505606867, recall: 0.9884778197485072\n",
      "val_loss: 35.144126262139835, val_f1: 0.039994402774875, val_precision: 0.020411494241412215, val_recall: 0.9852276162816844\n"
     ]
    },
    {
     "name": "stderr",
     "output_type": "stream",
     "text": [
      "100%|█████████████████████████████████████████| 655/655 [00:17<00:00, 36.53it/s]\n"
     ]
    },
    {
     "name": "stdout",
     "output_type": "stream",
     "text": [
      "Epoch: 1432, loss: 35.14411082959357, f1: 0.03538925899834932, precision: 0.018017152505606867, recall: 0.9884778197485072\n",
      "val_loss: 35.144126262139835, val_f1: 0.039994402774875, val_precision: 0.020411494241412215, val_recall: 0.9852276162816844\n"
     ]
    },
    {
     "name": "stderr",
     "output_type": "stream",
     "text": [
      "100%|█████████████████████████████████████████| 655/655 [00:17<00:00, 36.54it/s]\n"
     ]
    },
    {
     "name": "stdout",
     "output_type": "stream",
     "text": [
      "Epoch: 1433, loss: 35.14411081794564, f1: 0.03538925899834932, precision: 0.018017152505606867, recall: 0.9884778197485072\n",
      "val_loss: 35.144126262139835, val_f1: 0.039994402774875, val_precision: 0.020411494241412215, val_recall: 0.9852276162816844\n"
     ]
    },
    {
     "name": "stderr",
     "output_type": "stream",
     "text": [
      "100%|█████████████████████████████████████████| 655/655 [00:17<00:00, 36.69it/s]\n"
     ]
    },
    {
     "name": "stdout",
     "output_type": "stream",
     "text": [
      "Epoch: 1434, loss: 35.14411081794564, f1: 0.03538925899834932, precision: 0.018017152505606867, recall: 0.9884778197485072\n",
      "val_loss: 35.14412624464123, val_f1: 0.039994402774875, val_precision: 0.020411494241412215, val_recall: 0.9852276162816844\n"
     ]
    },
    {
     "name": "stderr",
     "output_type": "stream",
     "text": [
      "100%|█████████████████████████████████████████| 655/655 [00:17<00:00, 36.62it/s]\n"
     ]
    },
    {
     "name": "stdout",
     "output_type": "stream",
     "text": [
      "Epoch: 1435, loss: 35.144110812121674, f1: 0.03538925899834932, precision: 0.018017152505606867, recall: 0.9884778197485072\n",
      "val_loss: 35.144126227142614, val_f1: 0.039994402774875, val_precision: 0.020411494241412215, val_recall: 0.9852276162816844\n"
     ]
    },
    {
     "name": "stderr",
     "output_type": "stream",
     "text": [
      "100%|█████████████████████████████████████████| 655/655 [00:17<00:00, 36.68it/s]\n"
     ]
    },
    {
     "name": "stdout",
     "output_type": "stream",
     "text": [
      "Epoch: 1436, loss: 35.144110812121674, f1: 0.03538925899834932, precision: 0.018017152505606867, recall: 0.9884778197485072\n",
      "val_loss: 35.144126227142614, val_f1: 0.039994402774875, val_precision: 0.020411494241412215, val_recall: 0.9852276162816844\n"
     ]
    },
    {
     "name": "stderr",
     "output_type": "stream",
     "text": [
      "100%|█████████████████████████████████████████| 655/655 [00:17<00:00, 36.63it/s]\n"
     ]
    },
    {
     "name": "stdout",
     "output_type": "stream",
     "text": [
      "Epoch: 1437, loss: 35.14411080629771, f1: 0.03538925899834932, precision: 0.018017152505606867, recall: 0.9884778197485072\n",
      "val_loss: 35.144126227142614, val_f1: 0.039994402774875, val_precision: 0.020411494241412215, val_recall: 0.9852276162816844\n"
     ]
    },
    {
     "name": "stderr",
     "output_type": "stream",
     "text": [
      "100%|█████████████████████████████████████████| 655/655 [00:17<00:00, 36.55it/s]\n"
     ]
    },
    {
     "name": "stdout",
     "output_type": "stream",
     "text": [
      "Epoch: 1438, loss: 35.14411078882581, f1: 0.03538925899834932, precision: 0.018017152505606867, recall: 0.9884778197485072\n",
      "val_loss: 35.144126209644, val_f1: 0.039994402774875, val_precision: 0.020411494241412215, val_recall: 0.9852276162816844\n"
     ]
    },
    {
     "name": "stderr",
     "output_type": "stream",
     "text": [
      "100%|█████████████████████████████████████████| 655/655 [00:17<00:00, 36.62it/s]\n"
     ]
    },
    {
     "name": "stdout",
     "output_type": "stream",
     "text": [
      "Epoch: 1439, loss: 35.14411078300185, f1: 0.03538925899834932, precision: 0.018017152505606867, recall: 0.9884778197485072\n",
      "val_loss: 35.144126209644, val_f1: 0.039994402774875, val_precision: 0.020411494241412215, val_recall: 0.9852276162816844\n"
     ]
    },
    {
     "name": "stderr",
     "output_type": "stream",
     "text": [
      "100%|█████████████████████████████████████████| 655/655 [00:17<00:00, 36.53it/s]\n"
     ]
    },
    {
     "name": "stdout",
     "output_type": "stream",
     "text": [
      "Epoch: 1440, loss: 35.144110777177886, f1: 0.03538925899834932, precision: 0.018017152505606867, recall: 0.9884778197485072\n",
      "val_loss: 35.144126209644, val_f1: 0.039994402774875, val_precision: 0.020411494241412215, val_recall: 0.9852276162816844\n"
     ]
    },
    {
     "name": "stderr",
     "output_type": "stream",
     "text": [
      "100%|█████████████████████████████████████████| 655/655 [00:17<00:00, 36.57it/s]\n"
     ]
    },
    {
     "name": "stdout",
     "output_type": "stream",
     "text": [
      "Epoch: 1441, loss: 35.144110777177886, f1: 0.03538925899834932, precision: 0.018017152505606867, recall: 0.9884778197485072\n",
      "val_loss: 35.14412619214539, val_f1: 0.039994402774875, val_precision: 0.020411494241412215, val_recall: 0.9852276162816844\n"
     ]
    },
    {
     "name": "stderr",
     "output_type": "stream",
     "text": [
      "100%|█████████████████████████████████████████| 655/655 [00:17<00:00, 36.59it/s]\n"
     ]
    },
    {
     "name": "stdout",
     "output_type": "stream",
     "text": [
      "Epoch: 1442, loss: 35.14411076552995, f1: 0.03538925899834932, precision: 0.018017152505606867, recall: 0.9884778197485072\n",
      "val_loss: 35.14412619214539, val_f1: 0.039994402774875, val_precision: 0.020411494241412215, val_recall: 0.9852276162816844\n"
     ]
    },
    {
     "name": "stderr",
     "output_type": "stream",
     "text": [
      "100%|█████████████████████████████████████████| 655/655 [00:17<00:00, 37.11it/s]\n"
     ]
    },
    {
     "name": "stdout",
     "output_type": "stream",
     "text": [
      "Epoch: 1443, loss: 35.14411076552995, f1: 0.03538925899834932, precision: 0.018017152505606867, recall: 0.9884778197485072\n",
      "val_loss: 35.14412619214539, val_f1: 0.039994402774875, val_precision: 0.020411494241412215, val_recall: 0.9852276162816844\n"
     ]
    },
    {
     "name": "stderr",
     "output_type": "stream",
     "text": [
      "100%|█████████████████████████████████████████| 655/655 [00:17<00:00, 36.65it/s]\n"
     ]
    },
    {
     "name": "stdout",
     "output_type": "stream",
     "text": [
      "Epoch: 1444, loss: 35.144110753882025, f1: 0.03538925899834932, precision: 0.018017152505606867, recall: 0.9884778197485072\n",
      "val_loss: 35.14412619214539, val_f1: 0.039994402774875, val_precision: 0.020411494241412215, val_recall: 0.9852276162816844\n"
     ]
    },
    {
     "name": "stderr",
     "output_type": "stream",
     "text": [
      "100%|█████████████████████████████████████████| 655/655 [00:18<00:00, 36.27it/s]\n"
     ]
    },
    {
     "name": "stdout",
     "output_type": "stream",
     "text": [
      "Epoch: 1445, loss: 35.144110748058054, f1: 0.03538925899834932, precision: 0.018017152505606867, recall: 0.9884778197485072\n",
      "val_loss: 35.14412615714817, val_f1: 0.039994402774875, val_precision: 0.020411494241412215, val_recall: 0.9852276162816844\n"
     ]
    },
    {
     "name": "stderr",
     "output_type": "stream",
     "text": [
      "100%|█████████████████████████████████████████| 655/655 [00:17<00:00, 36.67it/s]\n"
     ]
    },
    {
     "name": "stdout",
     "output_type": "stream",
     "text": [
      "Epoch: 1446, loss: 35.14411074223409, f1: 0.03538925899834932, precision: 0.018017152505606867, recall: 0.9884778197485072\n",
      "val_loss: 35.14412615714817, val_f1: 0.039994402774875, val_precision: 0.020411494241412215, val_recall: 0.9852276162816844\n"
     ]
    },
    {
     "name": "stderr",
     "output_type": "stream",
     "text": [
      "100%|█████████████████████████████████████████| 655/655 [00:17<00:00, 36.58it/s]\n"
     ]
    },
    {
     "name": "stdout",
     "output_type": "stream",
     "text": [
      "Epoch: 1447, loss: 35.14411074223409, f1: 0.03538925899834932, precision: 0.018017152505606867, recall: 0.9884778197485072\n",
      "val_loss: 35.14412615714817, val_f1: 0.039994402774875, val_precision: 0.020411494241412215, val_recall: 0.9852276162816844\n"
     ]
    },
    {
     "name": "stderr",
     "output_type": "stream",
     "text": [
      "100%|█████████████████████████████████████████| 655/655 [00:17<00:00, 36.50it/s]\n"
     ]
    },
    {
     "name": "stdout",
     "output_type": "stream",
     "text": [
      "Epoch: 1448, loss: 35.14411074223409, f1: 0.03538925899834932, precision: 0.018017152505606867, recall: 0.9884778197485072\n",
      "val_loss: 35.14412613964956, val_f1: 0.039994402774875, val_precision: 0.020411494241412215, val_recall: 0.9852276162816844\n"
     ]
    },
    {
     "name": "stderr",
     "output_type": "stream",
     "text": [
      "100%|█████████████████████████████████████████| 655/655 [00:17<00:00, 36.90it/s]\n"
     ]
    },
    {
     "name": "stdout",
     "output_type": "stream",
     "text": [
      "Epoch: 1449, loss: 35.14411073641013, f1: 0.03538925899834932, precision: 0.018017152505606867, recall: 0.9884778197485072\n",
      "val_loss: 35.14412613964956, val_f1: 0.039994402774875, val_precision: 0.020411494241412215, val_recall: 0.9852276162816844\n"
     ]
    },
    {
     "name": "stderr",
     "output_type": "stream",
     "text": [
      "100%|█████████████████████████████████████████| 655/655 [00:17<00:00, 36.59it/s]\n"
     ]
    },
    {
     "name": "stdout",
     "output_type": "stream",
     "text": [
      "Epoch: 1450, loss: 35.14411072476219, f1: 0.03538925899834932, precision: 0.018017152505606867, recall: 0.9884778197485072\n",
      "val_loss: 35.14412613964956, val_f1: 0.039994402774875, val_precision: 0.020411494241412215, val_recall: 0.9852276162816844\n"
     ]
    },
    {
     "name": "stderr",
     "output_type": "stream",
     "text": [
      "100%|█████████████████████████████████████████| 655/655 [00:17<00:00, 36.63it/s]\n"
     ]
    },
    {
     "name": "stdout",
     "output_type": "stream",
     "text": [
      "Epoch: 1451, loss: 35.14411072476219, f1: 0.03538925899834932, precision: 0.018017152505606867, recall: 0.9884778197485072\n",
      "val_loss: 35.14412613964956, val_f1: 0.039994402774875, val_precision: 0.020411494241412215, val_recall: 0.9852276162816844\n"
     ]
    },
    {
     "name": "stderr",
     "output_type": "stream",
     "text": [
      "100%|█████████████████████████████████████████| 655/655 [00:17<00:00, 36.58it/s]\n"
     ]
    },
    {
     "name": "stdout",
     "output_type": "stream",
     "text": [
      "Epoch: 1452, loss: 35.14411070146633, f1: 0.03538925899834932, precision: 0.018017152505606867, recall: 0.9884778197485072\n",
      "val_loss: 35.144126122150944, val_f1: 0.039994402774875, val_precision: 0.020411494241412215, val_recall: 0.9852276162816844\n"
     ]
    },
    {
     "name": "stderr",
     "output_type": "stream",
     "text": [
      "100%|█████████████████████████████████████████| 655/655 [00:17<00:00, 36.62it/s]\n"
     ]
    },
    {
     "name": "stdout",
     "output_type": "stream",
     "text": [
      "Epoch: 1453, loss: 35.14411070146633, f1: 0.03538925899834932, precision: 0.018017152505606867, recall: 0.9884778197485072\n",
      "val_loss: 35.144126122150944, val_f1: 0.039994402774875, val_precision: 0.020411494241412215, val_recall: 0.9852276162816844\n"
     ]
    },
    {
     "name": "stderr",
     "output_type": "stream",
     "text": [
      "100%|█████████████████████████████████████████| 655/655 [00:17<00:00, 36.53it/s]\n"
     ]
    },
    {
     "name": "stdout",
     "output_type": "stream",
     "text": [
      "Epoch: 1454, loss: 35.14411069564237, f1: 0.03538925899834932, precision: 0.018017152505606867, recall: 0.9884778197485072\n",
      "val_loss: 35.144126122150944, val_f1: 0.039994402774875, val_precision: 0.020411494241412215, val_recall: 0.9852276162816844\n"
     ]
    },
    {
     "name": "stderr",
     "output_type": "stream",
     "text": [
      "100%|█████████████████████████████████████████| 655/655 [00:17<00:00, 36.79it/s]\n"
     ]
    },
    {
     "name": "stdout",
     "output_type": "stream",
     "text": [
      "Epoch: 1455, loss: 35.14411069564237, f1: 0.03538925899834932, precision: 0.018017152505606867, recall: 0.9884778197485072\n",
      "val_loss: 35.14412610465234, val_f1: 0.039994402774875, val_precision: 0.020411494241412215, val_recall: 0.9852276162816844\n"
     ]
    },
    {
     "name": "stderr",
     "output_type": "stream",
     "text": [
      "100%|█████████████████████████████████████████| 655/655 [00:17<00:00, 36.60it/s]\n"
     ]
    },
    {
     "name": "stdout",
     "output_type": "stream",
     "text": [
      "Epoch: 1456, loss: 35.14411069564237, f1: 0.03538925899834932, precision: 0.018017152505606867, recall: 0.9884778197485072\n",
      "val_loss: 35.14412608715372, val_f1: 0.039994402774875, val_precision: 0.020411494241412215, val_recall: 0.9852276162816844\n"
     ]
    },
    {
     "name": "stderr",
     "output_type": "stream",
     "text": [
      "100%|█████████████████████████████████████████| 655/655 [00:17<00:00, 36.52it/s]\n"
     ]
    },
    {
     "name": "stdout",
     "output_type": "stream",
     "text": [
      "Epoch: 1457, loss: 35.144110689818405, f1: 0.03538925899834932, precision: 0.018017152505606867, recall: 0.9884778197485072\n",
      "val_loss: 35.14412608715372, val_f1: 0.039994402774875, val_precision: 0.020411494241412215, val_recall: 0.9852276162816844\n"
     ]
    },
    {
     "name": "stderr",
     "output_type": "stream",
     "text": [
      "100%|█████████████████████████████████████████| 655/655 [00:17<00:00, 36.63it/s]\n"
     ]
    },
    {
     "name": "stdout",
     "output_type": "stream",
     "text": [
      "Epoch: 1458, loss: 35.144110689818405, f1: 0.03538925899834932, precision: 0.018017152505606867, recall: 0.9884778197485072\n",
      "val_loss: 35.144126069655115, val_f1: 0.039994402774875, val_precision: 0.020411494241412215, val_recall: 0.9852276162816844\n"
     ]
    },
    {
     "name": "stderr",
     "output_type": "stream",
     "text": [
      "100%|█████████████████████████████████████████| 655/655 [00:17<00:00, 36.61it/s]\n"
     ]
    },
    {
     "name": "stdout",
     "output_type": "stream",
     "text": [
      "Epoch: 1459, loss: 35.14411068399444, f1: 0.03538925899834932, precision: 0.018017152505606867, recall: 0.9884778197485072\n",
      "val_loss: 35.144126069655115, val_f1: 0.039994402774875, val_precision: 0.020411494241412215, val_recall: 0.9852276162816844\n"
     ]
    },
    {
     "name": "stderr",
     "output_type": "stream",
     "text": [
      "100%|█████████████████████████████████████████| 655/655 [00:17<00:00, 36.64it/s]\n"
     ]
    },
    {
     "name": "stdout",
     "output_type": "stream",
     "text": [
      "Epoch: 1460, loss: 35.14411067817047, f1: 0.03538925899834932, precision: 0.018017152505606867, recall: 0.9884778197485072\n",
      "val_loss: 35.1441260521565, val_f1: 0.039994402774875, val_precision: 0.020411494241412215, val_recall: 0.9852276162816844\n"
     ]
    },
    {
     "name": "stderr",
     "output_type": "stream",
     "text": [
      "100%|█████████████████████████████████████████| 655/655 [00:17<00:00, 36.72it/s]\n"
     ]
    },
    {
     "name": "stdout",
     "output_type": "stream",
     "text": [
      "Epoch: 1461, loss: 35.14411067817047, f1: 0.03538925899834932, precision: 0.018017152505606867, recall: 0.9884778197485072\n",
      "val_loss: 35.1441260521565, val_f1: 0.039994402774875, val_precision: 0.020411494241412215, val_recall: 0.9852276162816844\n"
     ]
    },
    {
     "name": "stderr",
     "output_type": "stream",
     "text": [
      "100%|█████████████████████████████████████████| 655/655 [00:17<00:00, 36.75it/s]\n"
     ]
    },
    {
     "name": "stdout",
     "output_type": "stream",
     "text": [
      "Epoch: 1462, loss: 35.14411067234651, f1: 0.03538925899834932, precision: 0.018017152505606867, recall: 0.9884778197485072\n",
      "val_loss: 35.1441260521565, val_f1: 0.039994402774875, val_precision: 0.020411494241412215, val_recall: 0.9852276162816844\n"
     ]
    },
    {
     "name": "stderr",
     "output_type": "stream",
     "text": [
      "100%|█████████████████████████████████████████| 655/655 [00:17<00:00, 36.52it/s]\n"
     ]
    },
    {
     "name": "stdout",
     "output_type": "stream",
     "text": [
      "Epoch: 1463, loss: 35.14411067234651, f1: 0.03538925899834932, precision: 0.018017152505606867, recall: 0.9884778197485072\n",
      "val_loss: 35.14412603465789, val_f1: 0.039994402774875, val_precision: 0.020411494241412215, val_recall: 0.9852276162816844\n"
     ]
    },
    {
     "name": "stderr",
     "output_type": "stream",
     "text": [
      "100%|█████████████████████████████████████████| 655/655 [00:17<00:00, 36.55it/s]\n"
     ]
    },
    {
     "name": "stdout",
     "output_type": "stream",
     "text": [
      "Epoch: 1464, loss: 35.14411065487461, f1: 0.03538925899834932, precision: 0.018017152505606867, recall: 0.9884778197485072\n",
      "val_loss: 35.14412603465789, val_f1: 0.039994402774875, val_precision: 0.020411494241412215, val_recall: 0.9852276162816844\n"
     ]
    },
    {
     "name": "stderr",
     "output_type": "stream",
     "text": [
      "100%|█████████████████████████████████████████| 655/655 [00:17<00:00, 36.63it/s]\n"
     ]
    },
    {
     "name": "stdout",
     "output_type": "stream",
     "text": [
      "Epoch: 1465, loss: 35.144110649050646, f1: 0.03538925899834932, precision: 0.018017152505606867, recall: 0.9884778197485072\n",
      "val_loss: 35.14412603465789, val_f1: 0.039994402774875, val_precision: 0.020411494241412215, val_recall: 0.9852276162816844\n"
     ]
    },
    {
     "name": "stderr",
     "output_type": "stream",
     "text": [
      "100%|█████████████████████████████████████████| 655/655 [00:17<00:00, 36.44it/s]\n"
     ]
    },
    {
     "name": "stdout",
     "output_type": "stream",
     "text": [
      "Epoch: 1466, loss: 35.14411063157875, f1: 0.03538925899834932, precision: 0.018017152505606867, recall: 0.9884778197485072\n",
      "val_loss: 35.14412601715928, val_f1: 0.039994402774875, val_precision: 0.020411494241412215, val_recall: 0.9852276162816844\n"
     ]
    },
    {
     "name": "stderr",
     "output_type": "stream",
     "text": [
      "100%|█████████████████████████████████████████| 655/655 [00:17<00:00, 36.61it/s]\n"
     ]
    },
    {
     "name": "stdout",
     "output_type": "stream",
     "text": [
      "Epoch: 1467, loss: 35.144110625754784, f1: 0.03538925899834932, precision: 0.018017152505606867, recall: 0.9884778197485072\n",
      "val_loss: 35.14412601715928, val_f1: 0.039994402774875, val_precision: 0.020411494241412215, val_recall: 0.9852276162816844\n"
     ]
    },
    {
     "name": "stderr",
     "output_type": "stream",
     "text": [
      "100%|█████████████████████████████████████████| 655/655 [00:17<00:00, 37.23it/s]\n"
     ]
    },
    {
     "name": "stdout",
     "output_type": "stream",
     "text": [
      "Epoch: 1468, loss: 35.14411061993082, f1: 0.03538925899834932, precision: 0.018017152505606867, recall: 0.9884778197485072\n",
      "val_loss: 35.14412601715928, val_f1: 0.039994402774875, val_precision: 0.020411494241412215, val_recall: 0.9852276162816844\n"
     ]
    },
    {
     "name": "stderr",
     "output_type": "stream",
     "text": [
      "100%|█████████████████████████████████████████| 655/655 [00:17<00:00, 36.60it/s]\n"
     ]
    },
    {
     "name": "stdout",
     "output_type": "stream",
     "text": [
      "Epoch: 1469, loss: 35.14411061993082, f1: 0.03538925899834932, precision: 0.018017152505606867, recall: 0.9884778197485072\n",
      "val_loss: 35.144125999660666, val_f1: 0.039994402774875, val_precision: 0.020411494241412215, val_recall: 0.9852276162816844\n"
     ]
    },
    {
     "name": "stderr",
     "output_type": "stream",
     "text": [
      "100%|█████████████████████████████████████████| 655/655 [00:17<00:00, 36.64it/s]\n"
     ]
    },
    {
     "name": "stdout",
     "output_type": "stream",
     "text": [
      "Epoch: 1470, loss: 35.14411061993082, f1: 0.03538925899834932, precision: 0.018017152505606867, recall: 0.9884778197485072\n",
      "val_loss: 35.14412598216206, val_f1: 0.039994402774875, val_precision: 0.020411494241412215, val_recall: 0.9852276162816844\n"
     ]
    },
    {
     "name": "stderr",
     "output_type": "stream",
     "text": [
      "100%|█████████████████████████████████████████| 655/655 [00:17<00:00, 36.68it/s]\n"
     ]
    },
    {
     "name": "stdout",
     "output_type": "stream",
     "text": [
      "Epoch: 1471, loss: 35.14411060828289, f1: 0.03538925899834932, precision: 0.018017152505606867, recall: 0.9884778197485072\n",
      "val_loss: 35.14412598216206, val_f1: 0.039994402774875, val_precision: 0.020411494241412215, val_recall: 0.9852276162816844\n"
     ]
    },
    {
     "name": "stderr",
     "output_type": "stream",
     "text": [
      "100%|█████████████████████████████████████████| 655/655 [00:17<00:00, 36.59it/s]\n"
     ]
    },
    {
     "name": "stdout",
     "output_type": "stream",
     "text": [
      "Epoch: 1472, loss: 35.14411060828289, f1: 0.03538925899834932, precision: 0.018017152505606867, recall: 0.9884778197485072\n",
      "val_loss: 35.14412598216206, val_f1: 0.039994402774875, val_precision: 0.020411494241412215, val_recall: 0.9852276162816844\n"
     ]
    },
    {
     "name": "stderr",
     "output_type": "stream",
     "text": [
      "100%|█████████████████████████████████████████| 655/655 [00:17<00:00, 36.64it/s]\n"
     ]
    },
    {
     "name": "stdout",
     "output_type": "stream",
     "text": [
      "Epoch: 1473, loss: 35.14411060828289, f1: 0.03538925899834932, precision: 0.018017152505606867, recall: 0.9884778197485072\n",
      "val_loss: 35.144125964663445, val_f1: 0.039994402774875, val_precision: 0.020411494241412215, val_recall: 0.9852276162816844\n"
     ]
    },
    {
     "name": "stderr",
     "output_type": "stream",
     "text": [
      "100%|█████████████████████████████████████████| 655/655 [00:17<00:00, 36.73it/s]\n"
     ]
    },
    {
     "name": "stdout",
     "output_type": "stream",
     "text": [
      "Epoch: 1474, loss: 35.14411060828289, f1: 0.03538925899834932, precision: 0.018017152505606867, recall: 0.9884778197485072\n",
      "val_loss: 35.144125964663445, val_f1: 0.039994402774875, val_precision: 0.020411494241412215, val_recall: 0.9852276162816844\n"
     ]
    },
    {
     "name": "stderr",
     "output_type": "stream",
     "text": [
      "100%|█████████████████████████████████████████| 655/655 [00:17<00:00, 36.62it/s]\n"
     ]
    },
    {
     "name": "stdout",
     "output_type": "stream",
     "text": [
      "Epoch: 1475, loss: 35.14411060245892, f1: 0.03538925899834932, precision: 0.018017152505606867, recall: 0.9884778197485072\n",
      "val_loss: 35.144125964663445, val_f1: 0.039994402774875, val_precision: 0.020411494241412215, val_recall: 0.9852276162816844\n"
     ]
    },
    {
     "name": "stderr",
     "output_type": "stream",
     "text": [
      "100%|█████████████████████████████████████████| 655/655 [00:17<00:00, 36.63it/s]\n"
     ]
    },
    {
     "name": "stdout",
     "output_type": "stream",
     "text": [
      "Epoch: 1476, loss: 35.144110590810996, f1: 0.03538925899834932, precision: 0.018017152505606867, recall: 0.9884778197485072\n",
      "val_loss: 35.14412594716483, val_f1: 0.039994402774875, val_precision: 0.020411494241412215, val_recall: 0.9852276162816844\n"
     ]
    },
    {
     "name": "stderr",
     "output_type": "stream",
     "text": [
      "100%|█████████████████████████████████████████| 655/655 [00:17<00:00, 36.53it/s]\n"
     ]
    },
    {
     "name": "stdout",
     "output_type": "stream",
     "text": [
      "Epoch: 1477, loss: 35.144110590810996, f1: 0.03538925899834932, precision: 0.018017152505606867, recall: 0.9884778197485072\n",
      "val_loss: 35.14412594716483, val_f1: 0.039994402774875, val_precision: 0.020411494241412215, val_recall: 0.9852276162816844\n"
     ]
    },
    {
     "name": "stderr",
     "output_type": "stream",
     "text": [
      "100%|█████████████████████████████████████████| 655/655 [00:17<00:00, 36.66it/s]\n"
     ]
    },
    {
     "name": "stdout",
     "output_type": "stream",
     "text": [
      "Epoch: 1478, loss: 35.144110584987025, f1: 0.03538925899834932, precision: 0.018017152505606867, recall: 0.9884778197485072\n",
      "val_loss: 35.14412594716483, val_f1: 0.039994402774875, val_precision: 0.020411494241412215, val_recall: 0.9852276162816844\n"
     ]
    },
    {
     "name": "stderr",
     "output_type": "stream",
     "text": [
      "100%|█████████████████████████████████████████| 655/655 [00:17<00:00, 36.61it/s]\n"
     ]
    },
    {
     "name": "stdout",
     "output_type": "stream",
     "text": [
      "Epoch: 1479, loss: 35.1441105733391, f1: 0.03538925899834932, precision: 0.018017152505606867, recall: 0.9884778197485072\n",
      "val_loss: 35.14412594716483, val_f1: 0.039994402774875, val_precision: 0.020411494241412215, val_recall: 0.9852276162816844\n"
     ]
    },
    {
     "name": "stderr",
     "output_type": "stream",
     "text": [
      "100%|█████████████████████████████████████████| 655/655 [00:17<00:00, 36.85it/s]\n"
     ]
    },
    {
     "name": "stdout",
     "output_type": "stream",
     "text": [
      "Epoch: 1480, loss: 35.14411055004324, f1: 0.03538925899834932, precision: 0.018017152505606867, recall: 0.9884778197485072\n",
      "val_loss: 35.144125929666224, val_f1: 0.039994402774875, val_precision: 0.020411494241412215, val_recall: 0.9852276162816844\n"
     ]
    },
    {
     "name": "stderr",
     "output_type": "stream",
     "text": [
      "100%|█████████████████████████████████████████| 655/655 [00:17<00:00, 36.58it/s]\n"
     ]
    },
    {
     "name": "stdout",
     "output_type": "stream",
     "text": [
      "Epoch: 1481, loss: 35.14411055004324, f1: 0.03538925899834932, precision: 0.018017152505606867, recall: 0.9884778197485072\n",
      "val_loss: 35.144125929666224, val_f1: 0.039994402774875, val_precision: 0.020411494241412215, val_recall: 0.9852276162816844\n"
     ]
    },
    {
     "name": "stderr",
     "output_type": "stream",
     "text": [
      "100%|█████████████████████████████████████████| 655/655 [00:17<00:00, 36.72it/s]\n"
     ]
    },
    {
     "name": "stdout",
     "output_type": "stream",
     "text": [
      "Epoch: 1482, loss: 35.14411055004324, f1: 0.03538925899834932, precision: 0.018017152505606867, recall: 0.9884778197485072\n",
      "val_loss: 35.14412591216761, val_f1: 0.039994402774875, val_precision: 0.020411494241412215, val_recall: 0.9852276162816844\n"
     ]
    },
    {
     "name": "stderr",
     "output_type": "stream",
     "text": [
      "100%|█████████████████████████████████████████| 655/655 [00:17<00:00, 36.55it/s]\n"
     ]
    },
    {
     "name": "stdout",
     "output_type": "stream",
     "text": [
      "Epoch: 1483, loss: 35.14411055004324, f1: 0.03538925899834932, precision: 0.018017152505606867, recall: 0.9884778197485072\n",
      "val_loss: 35.144125894668996, val_f1: 0.039994402774875, val_precision: 0.020411494241412215, val_recall: 0.9852276162816844\n"
     ]
    },
    {
     "name": "stderr",
     "output_type": "stream",
     "text": [
      "100%|█████████████████████████████████████████| 655/655 [00:17<00:00, 36.60it/s]\n"
     ]
    },
    {
     "name": "stdout",
     "output_type": "stream",
     "text": [
      "Epoch: 1484, loss: 35.144110544219274, f1: 0.03538925899834932, precision: 0.018017152505606867, recall: 0.9884778197485072\n",
      "val_loss: 35.14412587717039, val_f1: 0.039994402774875, val_precision: 0.020411494241412215, val_recall: 0.9852276162816844\n"
     ]
    },
    {
     "name": "stderr",
     "output_type": "stream",
     "text": [
      "100%|█████████████████████████████████████████| 655/655 [00:17<00:00, 36.62it/s]\n"
     ]
    },
    {
     "name": "stdout",
     "output_type": "stream",
     "text": [
      "Epoch: 1485, loss: 35.14411053839531, f1: 0.03538925899834932, precision: 0.018017152505606867, recall: 0.9884778197485072\n",
      "val_loss: 35.14412587717039, val_f1: 0.039994402774875, val_precision: 0.020411494241412215, val_recall: 0.9852276162816844\n"
     ]
    },
    {
     "name": "stderr",
     "output_type": "stream",
     "text": [
      "100%|█████████████████████████████████████████| 655/655 [00:17<00:00, 36.55it/s]\n"
     ]
    },
    {
     "name": "stdout",
     "output_type": "stream",
     "text": [
      "Epoch: 1486, loss: 35.14411052092341, f1: 0.03538925899834932, precision: 0.018017152505606867, recall: 0.9884778197485072\n",
      "val_loss: 35.144125859671774, val_f1: 0.039994402774875, val_precision: 0.020411494241412215, val_recall: 0.9852276162816844\n"
     ]
    },
    {
     "name": "stderr",
     "output_type": "stream",
     "text": [
      "100%|█████████████████████████████████████████| 655/655 [00:17<00:00, 36.77it/s]\n"
     ]
    },
    {
     "name": "stdout",
     "output_type": "stream",
     "text": [
      "Epoch: 1487, loss: 35.14411051509945, f1: 0.03538925899834932, precision: 0.018017152505606867, recall: 0.9884778197485072\n",
      "val_loss: 35.14412584217317, val_f1: 0.039994402774875, val_precision: 0.020411494241412215, val_recall: 0.9852276162816844\n"
     ]
    },
    {
     "name": "stderr",
     "output_type": "stream",
     "text": [
      "100%|█████████████████████████████████████████| 655/655 [00:17<00:00, 36.76it/s]\n"
     ]
    },
    {
     "name": "stdout",
     "output_type": "stream",
     "text": [
      "Epoch: 1488, loss: 35.14411051509945, f1: 0.03538925899834932, precision: 0.018017152505606867, recall: 0.9884778197485072\n",
      "val_loss: 35.14412584217317, val_f1: 0.039994402774875, val_precision: 0.020411494241412215, val_recall: 0.9852276162816844\n"
     ]
    },
    {
     "name": "stderr",
     "output_type": "stream",
     "text": [
      "100%|█████████████████████████████████████████| 655/655 [00:17<00:00, 36.54it/s]\n"
     ]
    },
    {
     "name": "stdout",
     "output_type": "stream",
     "text": [
      "Epoch: 1489, loss: 35.14411050927548, f1: 0.03538925899834932, precision: 0.018017152505606867, recall: 0.9884778197485072\n",
      "val_loss: 35.14412584217317, val_f1: 0.039994402774875, val_precision: 0.020411494241412215, val_recall: 0.9852276162816844\n"
     ]
    },
    {
     "name": "stderr",
     "output_type": "stream",
     "text": [
      "100%|█████████████████████████████████████████| 655/655 [00:17<00:00, 36.61it/s]\n"
     ]
    },
    {
     "name": "stdout",
     "output_type": "stream",
     "text": [
      "Epoch: 1490, loss: 35.14411050927548, f1: 0.03538925899834932, precision: 0.018017152505606867, recall: 0.9884778197485072\n",
      "val_loss: 35.14412580717594, val_f1: 0.039994402774875, val_precision: 0.020411494241412215, val_recall: 0.9852276162816844\n"
     ]
    },
    {
     "name": "stderr",
     "output_type": "stream",
     "text": [
      "100%|█████████████████████████████████████████| 655/655 [00:17<00:00, 36.66it/s]\n"
     ]
    },
    {
     "name": "stdout",
     "output_type": "stream",
     "text": [
      "Epoch: 1491, loss: 35.144110503451515, f1: 0.03538925899834932, precision: 0.018017152505606867, recall: 0.9884778197485072\n",
      "val_loss: 35.14412580717594, val_f1: 0.039994402774875, val_precision: 0.020411494241412215, val_recall: 0.9852276162816844\n"
     ]
    },
    {
     "name": "stderr",
     "output_type": "stream",
     "text": [
      "100%|█████████████████████████████████████████| 655/655 [00:17<00:00, 36.70it/s]\n"
     ]
    },
    {
     "name": "stdout",
     "output_type": "stream",
     "text": [
      "Epoch: 1492, loss: 35.144110503451515, f1: 0.03538925899834932, precision: 0.018017152505606867, recall: 0.9884778197485072\n",
      "val_loss: 35.14412580717594, val_f1: 0.039994402774875, val_precision: 0.020411494241412215, val_recall: 0.9852276162816844\n"
     ]
    },
    {
     "name": "stderr",
     "output_type": "stream",
     "text": [
      "100%|█████████████████████████████████████████| 655/655 [00:17<00:00, 37.17it/s]\n"
     ]
    },
    {
     "name": "stdout",
     "output_type": "stream",
     "text": [
      "Epoch: 1493, loss: 35.14411049762755, f1: 0.03538925899834932, precision: 0.018017152505606867, recall: 0.9884778197485072\n",
      "val_loss: 35.14412580717594, val_f1: 0.039994402774875, val_precision: 0.020411494241412215, val_recall: 0.9852276162816844\n"
     ]
    },
    {
     "name": "stderr",
     "output_type": "stream",
     "text": [
      "100%|█████████████████████████████████████████| 655/655 [00:17<00:00, 36.84it/s]\n"
     ]
    },
    {
     "name": "stdout",
     "output_type": "stream",
     "text": [
      "Epoch: 1494, loss: 35.14411048015565, f1: 0.03538925899834932, precision: 0.018017152505606867, recall: 0.9884778197485072\n",
      "val_loss: 35.14412580717594, val_f1: 0.039994402774875, val_precision: 0.020411494241412215, val_recall: 0.9852276162816844\n"
     ]
    },
    {
     "name": "stderr",
     "output_type": "stream",
     "text": [
      "100%|█████████████████████████████████████████| 655/655 [00:17<00:00, 36.65it/s]\n"
     ]
    },
    {
     "name": "stdout",
     "output_type": "stream",
     "text": [
      "Epoch: 1495, loss: 35.14411047433169, f1: 0.03538925899834932, precision: 0.018017152505606867, recall: 0.9884778197485072\n",
      "val_loss: 35.14412580717594, val_f1: 0.039994402774875, val_precision: 0.020411494241412215, val_recall: 0.9852276162816844\n"
     ]
    },
    {
     "name": "stderr",
     "output_type": "stream",
     "text": [
      "100%|█████████████████████████████████████████| 655/655 [00:17<00:00, 36.56it/s]\n"
     ]
    },
    {
     "name": "stdout",
     "output_type": "stream",
     "text": [
      "Epoch: 1496, loss: 35.14411047433169, f1: 0.03538925899834932, precision: 0.018017152505606867, recall: 0.9884778197485072\n",
      "val_loss: 35.14412580717594, val_f1: 0.039994402774875, val_precision: 0.020411494241412215, val_recall: 0.9852276162816844\n"
     ]
    },
    {
     "name": "stderr",
     "output_type": "stream",
     "text": [
      "100%|█████████████████████████████████████████| 655/655 [00:17<00:00, 36.62it/s]\n"
     ]
    },
    {
     "name": "stdout",
     "output_type": "stream",
     "text": [
      "Epoch: 1497, loss: 35.14411047433169, f1: 0.03538925899834932, precision: 0.018017152505606867, recall: 0.9884778197485072\n",
      "val_loss: 35.14412578967733, val_f1: 0.039994402774875, val_precision: 0.020411494241412215, val_recall: 0.9852276162816844\n"
     ]
    },
    {
     "name": "stderr",
     "output_type": "stream",
     "text": [
      "100%|█████████████████████████████████████████| 655/655 [00:17<00:00, 36.59it/s]\n"
     ]
    },
    {
     "name": "stdout",
     "output_type": "stream",
     "text": [
      "Epoch: 1498, loss: 35.144110468507726, f1: 0.03538925899834932, precision: 0.018017152505606867, recall: 0.9884778197485072\n",
      "val_loss: 35.14412578967733, val_f1: 0.039994402774875, val_precision: 0.020411494241412215, val_recall: 0.9852276162816844\n"
     ]
    },
    {
     "name": "stderr",
     "output_type": "stream",
     "text": [
      "100%|█████████████████████████████████████████| 655/655 [00:17<00:00, 36.87it/s]\n"
     ]
    },
    {
     "name": "stdout",
     "output_type": "stream",
     "text": [
      "Epoch: 1499, loss: 35.14411045685979, f1: 0.03538925899834932, precision: 0.018017152505606867, recall: 0.9884778197485072\n",
      "val_loss: 35.14412578967733, val_f1: 0.039994402774875, val_precision: 0.020411494241412215, val_recall: 0.9852276162816844\n"
     ]
    },
    {
     "name": "stderr",
     "output_type": "stream",
     "text": [
      "100%|█████████████████████████████████████████| 655/655 [00:17<00:00, 36.49it/s]\n"
     ]
    },
    {
     "name": "stdout",
     "output_type": "stream",
     "text": [
      "Epoch: 1500, loss: 35.14411045685979, f1: 0.03538925899834932, precision: 0.018017152505606867, recall: 0.9884778197485072\n",
      "val_loss: 35.14412577217872, val_f1: 0.039994402774875, val_precision: 0.020411494241412215, val_recall: 0.9852276162816844\n"
     ]
    }
   ],
   "source": [
    "train()\n",
    "torch.save(model, \"./models1/\" + run_name + \"_\" + str(epochs) + \".pt\")"
   ]
  },
  {
   "cell_type": "code",
   "execution_count": null,
   "id": "ad06aa78",
   "metadata": {},
   "outputs": [],
   "source": []
  },
  {
   "cell_type": "code",
   "execution_count": null,
   "id": "0465b637",
   "metadata": {},
   "outputs": [],
   "source": []
  }
 ],
 "metadata": {
  "kernelspec": {
   "display_name": "Python 3 (ipykernel)",
   "language": "python",
   "name": "python3"
  },
  "language_info": {
   "codemirror_mode": {
    "name": "ipython",
    "version": 3
   },
   "file_extension": ".py",
   "mimetype": "text/x-python",
   "name": "python",
   "nbconvert_exporter": "python",
   "pygments_lexer": "ipython3",
   "version": "3.9.12"
  }
 },
 "nbformat": 4,
 "nbformat_minor": 5
}
