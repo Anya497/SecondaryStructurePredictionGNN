{
 "cells": [
  {
   "cell_type": "code",
   "execution_count": 1,
   "id": "0fd6d3d1",
   "metadata": {},
   "outputs": [
    {
     "name": "stderr",
     "output_type": "stream",
     "text": [
      "/home/vdshk/SecondaryStructurePredictionGNN/env/lib/python3.9/site-packages/tqdm/auto.py:21: TqdmWarning: IProgress not found. Please update jupyter and ipywidgets. See https://ipywidgets.readthedocs.io/en/stable/user_install.html\n",
      "  from .autonotebook import tqdm as notebook_tqdm\n"
     ]
    }
   ],
   "source": [
    "import os.path as osp\n",
    "from tqdm.auto import tqdm\n",
    "import numpy as np\n",
    "import wandb\n",
    "\n",
    "import torch\n",
    "from sklearn.metrics import roc_auc_score\n",
    "\n",
    "import torch.nn.functional as F\n",
    "# from ogb.nodeproppred import Evaluator, PygNodePropPredDataset\n",
    "from torch.nn import LayerNorm, Linear, ReLU, Tanh\n",
    "from torchvision.ops import MLP\n",
    "from torchvision.utils import save_image\n",
    "\n",
    "\n",
    "import torch_geometric.transforms as T\n",
    "from torch_geometric.datasets import Planetoid\n",
    "from torch_geometric.nn import GCNConv, GatedGraphConv, SAGEConv, GAT\n",
    "from torch_geometric.nn import DeepGCNLayer, GENConv\n",
    "from torch_geometric.utils import negative_sampling, to_dense_adj\n",
    "from torch_geometric.loader import DataLoader\n",
    "\n",
    "from dataset_processing6 import RNADataset\n"
   ]
  },
  {
   "cell_type": "code",
   "execution_count": 2,
   "id": "7c0b1645",
   "metadata": {},
   "outputs": [],
   "source": [
    "dataset = RNADataset(root=\"./data6/\")\n",
    "dataset = dataset.shuffle()\n",
    "train_data, val_data, test_data = dataset[0:655], dataset[655:873], dataset[873:]\n",
    "bs = 1\n",
    "\n",
    "train_dataloader = DataLoader(train_data, batch_size=bs, shuffle=False)\n",
    "val_dataloader = DataLoader(val_data, batch_size=1, shuffle=False)"
   ]
  },
  {
   "cell_type": "code",
   "execution_count": 3,
   "id": "071ccc10",
   "metadata": {},
   "outputs": [
    {
     "data": {
      "text/plain": [
       "[Data(x=[2739, 6], edge_index=[2, 270034], y=[2739], s=120),\n",
       " Data(x=[42, 6], edge_index=[2, 462], y=[42], s=13),\n",
       " Data(x=[2024, 6], edge_index=[2, 171532], y=[2024], s=102),\n",
       " Data(x=[188, 6], edge_index=[2, 4610], y=[188], s=30),\n",
       " Data(x=[2774, 6], edge_index=[2, 275042], y=[2774], s=120),\n",
       " Data(x=[376, 6], edge_index=[2, 13358], y=[376], s=43),\n",
       " Data(x=[51, 6], edge_index=[2, 630], y=[51], s=15),\n",
       " Data(x=[3360, 6], edge_index=[2, 370088], y=[3360], s=133),\n",
       " Data(x=[268, 6], edge_index=[2, 8170], y=[268], s=35),\n",
       " Data(x=[308, 6], edge_index=[2, 9838], y=[308], s=40),\n",
       " Data(x=[98, 6], edge_index=[2, 1644], y=[98], s=23),\n",
       " Data(x=[262, 6], edge_index=[2, 7960], y=[262], s=34),\n",
       " Data(x=[78, 6], edge_index=[2, 1200], y=[78], s=19),\n",
       " Data(x=[152, 6], edge_index=[2, 3308], y=[152], s=29),\n",
       " Data(x=[2795, 6], edge_index=[2, 278256], y=[2795], s=120),\n",
       " Data(x=[357, 6], edge_index=[2, 12448], y=[357], s=43),\n",
       " Data(x=[887, 6], edge_index=[2, 51058], y=[887], s=66),\n",
       " Data(x=[3153, 6], edge_index=[2, 335430], y=[3153], s=130),\n",
       " Data(x=[79, 6], edge_index=[2, 1228], y=[79], s=19),\n",
       " Data(x=[32, 6], edge_index=[2, 270], y=[32], s=13),\n",
       " Data(x=[351, 6], edge_index=[2, 11990], y=[351], s=43),\n",
       " Data(x=[2445, 6], edge_index=[2, 229250], y=[2445], s=108),\n",
       " Data(x=[2577, 6], edge_index=[2, 248314], y=[2577], s=113),\n",
       " Data(x=[1965, 6], edge_index=[2, 163480], y=[1965], s=101),\n",
       " Data(x=[37, 6], edge_index=[2, 366], y=[37], s=13),\n",
       " Data(x=[1106, 6], edge_index=[2, 68670], y=[1106], s=81),\n",
       " Data(x=[152, 6], edge_index=[2, 3280], y=[152], s=30),\n",
       " Data(x=[2420, 6], edge_index=[2, 225926], y=[2420], s=117),\n",
       " Data(x=[83, 6], edge_index=[2, 1390], y=[83], s=20),\n",
       " Data(x=[3771, 6], edge_index=[2, 441344], y=[3771], s=141),\n",
       " Data(x=[1698, 6], edge_index=[2, 132844], y=[1698], s=91),\n",
       " Data(x=[333, 6], edge_index=[2, 11082], y=[333], s=43),\n",
       " Data(x=[411, 6], edge_index=[2, 15286], y=[411], s=44),\n",
       " Data(x=[1275, 6], edge_index=[2, 86460], y=[1275], s=78),\n",
       " Data(x=[1035, 6], edge_index=[2, 62334], y=[1035], s=71),\n",
       " Data(x=[240, 6], edge_index=[2, 6636], y=[240], s=35),\n",
       " Data(x=[16, 6], edge_index=[2, 96], y=[16], s=8),\n",
       " Data(x=[188, 6], edge_index=[2, 4778], y=[188], s=29),\n",
       " Data(x=[61, 6], edge_index=[2, 882], y=[61], s=16),\n",
       " Data(x=[100, 6], edge_index=[2, 1792], y=[100], s=22),\n",
       " Data(x=[1106, 6], edge_index=[2, 68592], y=[1106], s=81),\n",
       " Data(x=[71, 6], edge_index=[2, 1024], y=[71], s=18),\n",
       " Data(x=[860, 6], edge_index=[2, 47452], y=[860], s=66),\n",
       " Data(x=[2762, 6], edge_index=[2, 273840], y=[2762], s=120),\n",
       " Data(x=[3074, 6], edge_index=[2, 321644], y=[3074], s=128),\n",
       " Data(x=[575, 6], edge_index=[2, 25694], y=[575], s=54),\n",
       " Data(x=[2723, 6], edge_index=[2, 267122], y=[2723], s=119),\n",
       " Data(x=[2067, 6], edge_index=[2, 179140], y=[2067], s=102),\n",
       " Data(x=[547, 6], edge_index=[2, 23454], y=[547], s=54),\n",
       " Data(x=[1101, 6], edge_index=[2, 68508], y=[1101], s=74),\n",
       " Data(x=[1044, 6], edge_index=[2, 63702], y=[1044], s=73),\n",
       " Data(x=[1825, 6], edge_index=[2, 149164], y=[1825], s=100),\n",
       " Data(x=[1113, 6], edge_index=[2, 69690], y=[1113], s=73),\n",
       " Data(x=[194, 6], edge_index=[2, 4996], y=[194], s=28),\n",
       " Data(x=[242, 6], edge_index=[2, 6738], y=[242], s=35),\n",
       " Data(x=[1752, 6], edge_index=[2, 139826], y=[1752], s=96),\n",
       " Data(x=[2780, 6], edge_index=[2, 277036], y=[2780], s=120),\n",
       " Data(x=[2533, 6], edge_index=[2, 240496], y=[2533], s=117),\n",
       " Data(x=[1595, 6], edge_index=[2, 120166], y=[1595], s=87),\n",
       " Data(x=[98, 6], edge_index=[2, 1654], y=[98], s=23),\n",
       " Data(x=[111, 6], edge_index=[2, 2024], y=[111], s=25),\n",
       " Data(x=[201, 6], edge_index=[2, 5204], y=[201], s=32),\n",
       " Data(x=[3442, 6], edge_index=[2, 381116], y=[3442], s=135),\n",
       " Data(x=[1149, 6], edge_index=[2, 72720], y=[1149], s=75),\n",
       " Data(x=[1077, 6], edge_index=[2, 66870], y=[1077], s=71),\n",
       " Data(x=[348, 6], edge_index=[2, 11958], y=[348], s=43),\n",
       " Data(x=[1493, 6], edge_index=[2, 109034], y=[1493], s=84),\n",
       " Data(x=[2316, 6], edge_index=[2, 212110], y=[2316], s=114),\n",
       " Data(x=[2495, 6], edge_index=[2, 236222], y=[2495], s=117),\n",
       " Data(x=[117, 6], edge_index=[2, 2224], y=[117], s=23),\n",
       " Data(x=[745, 6], edge_index=[2, 37310], y=[745], s=66),\n",
       " Data(x=[1602, 6], edge_index=[2, 119904], y=[1602], s=94),\n",
       " Data(x=[552, 6], edge_index=[2, 23712], y=[552], s=54),\n",
       " Data(x=[538, 6], edge_index=[2, 22874], y=[538], s=54),\n",
       " Data(x=[1342, 6], edge_index=[2, 92414], y=[1342], s=87),\n",
       " Data(x=[81, 6], edge_index=[2, 1236], y=[81], s=20),\n",
       " Data(x=[279, 6], edge_index=[2, 8406], y=[279], s=38),\n",
       " Data(x=[104, 6], edge_index=[2, 1792], y=[104], s=25),\n",
       " Data(x=[2829, 6], edge_index=[2, 285124], y=[2829], s=118),\n",
       " Data(x=[210, 6], edge_index=[2, 5434], y=[210], s=33),\n",
       " Data(x=[2709, 6], edge_index=[2, 267012], y=[2709], s=118),\n",
       " Data(x=[225, 6], edge_index=[2, 6012], y=[225], s=34),\n",
       " Data(x=[330, 6], edge_index=[2, 10844], y=[330], s=43),\n",
       " Data(x=[1660, 6], edge_index=[2, 126746], y=[1660], s=92),\n",
       " Data(x=[827, 6], edge_index=[2, 44716], y=[827], s=65),\n",
       " Data(x=[192, 6], edge_index=[2, 4724], y=[192], s=32),\n",
       " Data(x=[382, 6], edge_index=[2, 13870], y=[382], s=45),\n",
       " Data(x=[637, 6], edge_index=[2, 29572], y=[637], s=58),\n",
       " Data(x=[62, 6], edge_index=[2, 844], y=[62], s=16),\n",
       " Data(x=[179, 6], edge_index=[2, 4278], y=[179], s=29),\n",
       " Data(x=[102, 6], edge_index=[2, 1810], y=[102], s=22),\n",
       " Data(x=[112, 6], edge_index=[2, 2054], y=[112], s=24),\n",
       " Data(x=[209, 6], edge_index=[2, 5588], y=[209], s=33),\n",
       " Data(x=[32, 6], edge_index=[2, 300], y=[32], s=12),\n",
       " Data(x=[1092, 6], edge_index=[2, 68202], y=[1092], s=79),\n",
       " Data(x=[452, 6], edge_index=[2, 17736], y=[452], s=48),\n",
       " Data(x=[2144, 6], edge_index=[2, 187816], y=[2144], s=106),\n",
       " Data(x=[985, 6], edge_index=[2, 57610], y=[985], s=72),\n",
       " Data(x=[439, 6], edge_index=[2, 16846], y=[439], s=49),\n",
       " Data(x=[578, 6], edge_index=[2, 25996], y=[578], s=54),\n",
       " Data(x=[1549, 6], edge_index=[2, 115480], y=[1549], s=89),\n",
       " Data(x=[3276, 6], edge_index=[2, 358888], y=[3276], s=127),\n",
       " Data(x=[119, 6], edge_index=[2, 2186], y=[119], s=28),\n",
       " Data(x=[3099, 6], edge_index=[2, 327812], y=[3099], s=140),\n",
       " Data(x=[2240, 6], edge_index=[2, 202496], y=[2240], s=110),\n",
       " Data(x=[243, 6], edge_index=[2, 6760], y=[243], s=36),\n",
       " Data(x=[47, 6], edge_index=[2, 538], y=[47], s=15),\n",
       " Data(x=[2748, 6], edge_index=[2, 270358], y=[2748], s=120),\n",
       " Data(x=[1544, 6], edge_index=[2, 115254], y=[1544], s=86),\n",
       " Data(x=[2488, 6], edge_index=[2, 234272], y=[2488], s=111),\n",
       " Data(x=[1243, 6], edge_index=[2, 82884], y=[1243], s=77),\n",
       " Data(x=[312, 6], edge_index=[2, 9864], y=[312], s=43),\n",
       " Data(x=[311, 6], edge_index=[2, 9800], y=[311], s=41),\n",
       " Data(x=[1489, 6], edge_index=[2, 108956], y=[1489], s=85),\n",
       " Data(x=[403, 6], edge_index=[2, 14790], y=[403], s=44),\n",
       " Data(x=[964, 6], edge_index=[2, 56530], y=[964], s=70),\n",
       " Data(x=[207, 6], edge_index=[2, 5370], y=[207], s=31),\n",
       " Data(x=[1132, 6], edge_index=[2, 71032], y=[1132], s=76),\n",
       " Data(x=[302, 6], edge_index=[2, 9676], y=[302], s=40),\n",
       " Data(x=[2756, 6], edge_index=[2, 272554], y=[2756], s=120),\n",
       " Data(x=[898, 6], edge_index=[2, 50622], y=[898], s=66),\n",
       " Data(x=[909, 6], edge_index=[2, 51354], y=[909], s=70),\n",
       " Data(x=[2740, 6], edge_index=[2, 270162], y=[2740], s=119),\n",
       " Data(x=[898, 6], edge_index=[2, 50600], y=[898], s=66),\n",
       " Data(x=[83, 6], edge_index=[2, 1290], y=[83], s=23),\n",
       " Data(x=[174, 6], edge_index=[2, 4080], y=[174], s=30),\n",
       " Data(x=[561, 6], edge_index=[2, 24380], y=[561], s=54),\n",
       " Data(x=[718, 6], edge_index=[2, 36236], y=[718], s=57),\n",
       " Data(x=[588, 6], edge_index=[2, 26440], y=[588], s=55),\n",
       " Data(x=[1422, 6], edge_index=[2, 101520], y=[1422], s=85),\n",
       " Data(x=[2532, 6], edge_index=[2, 242218], y=[2532], s=118),\n",
       " Data(x=[315, 6], edge_index=[2, 10204], y=[315], s=40),\n",
       " Data(x=[96, 6], edge_index=[2, 1596], y=[96], s=22),\n",
       " Data(x=[456, 6], edge_index=[2, 17956], y=[456], s=48),\n",
       " Data(x=[2772, 6], edge_index=[2, 274886], y=[2772], s=120),\n",
       " Data(x=[544, 6], edge_index=[2, 23290], y=[544], s=54),\n",
       " Data(x=[346, 6], edge_index=[2, 11764], y=[346], s=43),\n",
       " Data(x=[170, 6], edge_index=[2, 3926], y=[170], s=30),\n",
       " Data(x=[180, 6], edge_index=[2, 4302], y=[180], s=30),\n",
       " Data(x=[180, 6], edge_index=[2, 4384], y=[180], s=30),\n",
       " Data(x=[2516, 6], edge_index=[2, 238546], y=[2516], s=111),\n",
       " Data(x=[2764, 6], edge_index=[2, 274030], y=[2764], s=120),\n",
       " Data(x=[2182, 6], edge_index=[2, 194262], y=[2182], s=104),\n",
       " Data(x=[376, 6], edge_index=[2, 13142], y=[376], s=44),\n",
       " Data(x=[48, 6], edge_index=[2, 524], y=[48], s=16),\n",
       " Data(x=[1829, 6], edge_index=[2, 150110], y=[1829], s=99),\n",
       " Data(x=[1010, 6], edge_index=[2, 61784], y=[1010], s=64),\n",
       " Data(x=[1744, 6], edge_index=[2, 138750], y=[1744], s=92),\n",
       " Data(x=[1228, 6], edge_index=[2, 79996], y=[1228], s=82),\n",
       " Data(x=[50, 6], edge_index=[2, 576], y=[50], s=16),\n",
       " Data(x=[84, 6], edge_index=[2, 1272], y=[84], s=22),\n",
       " Data(x=[3313, 6], edge_index=[2, 361964], y=[3313], s=126),\n",
       " Data(x=[2016, 6], edge_index=[2, 170152], y=[2016], s=101),\n",
       " Data(x=[32, 6], edge_index=[2, 284], y=[32], s=12),\n",
       " Data(x=[1684, 6], edge_index=[2, 130698], y=[1684], s=91),\n",
       " Data(x=[4504, 6], edge_index=[2, 577896], y=[4504], s=146),\n",
       " Data(x=[73, 6], edge_index=[2, 1048], y=[73], s=19),\n",
       " Data(x=[427, 6], edge_index=[2, 15978], y=[427], s=48),\n",
       " Data(x=[160, 6], edge_index=[2, 3536], y=[160], s=30),\n",
       " Data(x=[323, 6], edge_index=[2, 10538], y=[323], s=43),\n",
       " Data(x=[1945, 6], edge_index=[2, 163366], y=[1945], s=98),\n",
       " Data(x=[112, 6], edge_index=[2, 2058], y=[112], s=24),\n",
       " Data(x=[220, 6], edge_index=[2, 5832], y=[220], s=34),\n",
       " Data(x=[718, 6], edge_index=[2, 35590], y=[718], s=60),\n",
       " Data(x=[316, 6], edge_index=[2, 10084], y=[316], s=40),\n",
       " Data(x=[430, 6], edge_index=[2, 16390], y=[430], s=49),\n",
       " Data(x=[1988, 6], edge_index=[2, 166606], y=[1988], s=102),\n",
       " Data(x=[2772, 6], edge_index=[2, 274900], y=[2772], s=120),\n",
       " Data(x=[2803, 6], edge_index=[2, 279746], y=[2803], s=120),\n",
       " Data(x=[172, 6], edge_index=[2, 3998], y=[172], s=30),\n",
       " Data(x=[1090, 6], edge_index=[2, 67074], y=[1090], s=75),\n",
       " Data(x=[208, 6], edge_index=[2, 5460], y=[208], s=31),\n",
       " Data(x=[2630, 6], edge_index=[2, 255276], y=[2630], s=120),\n",
       " Data(x=[2833, 6], edge_index=[2, 284528], y=[2833], s=120),\n",
       " Data(x=[84, 6], edge_index=[2, 1342], y=[84], s=21),\n",
       " Data(x=[2909, 6], edge_index=[2, 297360], y=[2909], s=123),\n",
       " Data(x=[624, 6], edge_index=[2, 28690], y=[624], s=57),\n",
       " Data(x=[233, 6], edge_index=[2, 6398], y=[233], s=34),\n",
       " Data(x=[63, 6], edge_index=[2, 886], y=[63], s=16),\n",
       " Data(x=[551, 6], edge_index=[2, 24140], y=[551], s=54),\n",
       " Data(x=[312, 6], edge_index=[2, 10060], y=[312], s=40),\n",
       " Data(x=[4274, 6], edge_index=[2, 530432], y=[4274], s=150),\n",
       " Data(x=[3578, 6], edge_index=[2, 406804], y=[3578], s=131),\n",
       " Data(x=[393, 6], edge_index=[2, 14352], y=[393], s=45),\n",
       " Data(x=[97, 6], edge_index=[2, 1678], y=[97], s=22),\n",
       " Data(x=[201, 6], edge_index=[2, 4990], y=[201], s=36),\n",
       " Data(x=[1766, 6], edge_index=[2, 139472], y=[1766], s=93),\n",
       " Data(x=[62, 6], edge_index=[2, 890], y=[62], s=17),\n",
       " Data(x=[1512, 6], edge_index=[2, 111540], y=[1512], s=86),\n",
       " Data(x=[553, 6], edge_index=[2, 24076], y=[553], s=54),\n",
       " Data(x=[637, 6], edge_index=[2, 29546], y=[637], s=61),\n",
       " Data(x=[42, 6], edge_index=[2, 432], y=[42], s=14),\n",
       " Data(x=[2734, 6], edge_index=[2, 269508], y=[2734], s=120),\n",
       " Data(x=[2843, 6], edge_index=[2, 286588], y=[2843], s=120),\n",
       " Data(x=[554, 6], edge_index=[2, 25100], y=[554], s=48),\n",
       " Data(x=[81, 6], edge_index=[2, 1270], y=[81], s=20),\n",
       " Data(x=[2543, 6], edge_index=[2, 241236], y=[2543], s=119),\n",
       " Data(x=[67, 6], edge_index=[2, 892], y=[67], s=19),\n",
       " Data(x=[116, 6], edge_index=[2, 2112], y=[116], s=28),\n",
       " Data(x=[332, 6], edge_index=[2, 11164], y=[332], s=41),\n",
       " Data(x=[352, 6], edge_index=[2, 11928], y=[352], s=45),\n",
       " Data(x=[2679, 6], edge_index=[2, 260906], y=[2679], s=120),\n",
       " Data(x=[865, 6], edge_index=[2, 46958], y=[865], s=68),\n",
       " Data(x=[2598, 6], edge_index=[2, 250888], y=[2598], s=114),\n",
       " Data(x=[55, 6], edge_index=[2, 662], y=[55], s=17),\n",
       " Data(x=[1967, 6], edge_index=[2, 163964], y=[1967], s=101),\n",
       " Data(x=[566, 6], edge_index=[2, 24888], y=[566], s=54),\n",
       " Data(x=[2788, 6], edge_index=[2, 277718], y=[2788], s=120),\n",
       " Data(x=[59, 6], edge_index=[2, 766], y=[59], s=17),\n",
       " Data(x=[1759, 6], edge_index=[2, 140206], y=[1759], s=94),\n",
       " Data(x=[2455, 6], edge_index=[2, 229550], y=[2455], s=111),\n",
       " Data(x=[564, 6], edge_index=[2, 24592], y=[564], s=53),\n",
       " Data(x=[394, 6], edge_index=[2, 14430], y=[394], s=44),\n",
       " Data(x=[567, 6], edge_index=[2, 24936], y=[567], s=54),\n",
       " Data(x=[31, 6], edge_index=[2, 256], y=[31], s=13),\n",
       " Data(x=[1161, 6], edge_index=[2, 75714], y=[1161], s=74),\n",
       " Data(x=[2028, 6], edge_index=[2, 172496], y=[2028], s=104),\n",
       " Data(x=[746, 6], edge_index=[2, 37830], y=[746], s=63),\n",
       " Data(x=[419, 6], edge_index=[2, 15566], y=[419], s=49),\n",
       " Data(x=[356, 6], edge_index=[2, 12090], y=[356], s=43),\n",
       " Data(x=[2785, 6], edge_index=[2, 276214], y=[2785], s=120),\n",
       " Data(x=[665, 6], edge_index=[2, 31684], y=[665], s=62),\n",
       " Data(x=[542, 6], edge_index=[2, 23112], y=[542], s=52),\n",
       " Data(x=[536, 6], edge_index=[2, 22716], y=[536], s=54),\n",
       " Data(x=[2002, 6], edge_index=[2, 167976], y=[2002], s=102),\n",
       " Data(x=[573, 6], edge_index=[2, 25274], y=[573], s=54),\n",
       " Data(x=[90, 6], edge_index=[2, 1464], y=[90], s=21),\n",
       " Data(x=[1630, 6], edge_index=[2, 124914], y=[1630], s=91),\n",
       " Data(x=[75, 6], edge_index=[2, 1100], y=[75], s=20),\n",
       " Data(x=[1782, 6], edge_index=[2, 144770], y=[1782], s=99),\n",
       " Data(x=[1665, 6], edge_index=[2, 128644], y=[1665], s=90),\n",
       " Data(x=[1727, 6], edge_index=[2, 135326], y=[1727], s=97),\n",
       " Data(x=[222, 6], edge_index=[2, 5982], y=[222], s=32),\n",
       " Data(x=[548, 6], edge_index=[2, 23530], y=[548], s=54),\n",
       " Data(x=[2010, 6], edge_index=[2, 169764], y=[2010], s=103),\n",
       " Data(x=[373, 6], edge_index=[2, 13012], y=[373], s=46),\n",
       " Data(x=[1318, 6], edge_index=[2, 90788], y=[1318], s=78),\n",
       " Data(x=[2776, 6], edge_index=[2, 275688], y=[2776], s=120),\n",
       " Data(x=[1323, 6], edge_index=[2, 90758], y=[1323], s=82),\n",
       " Data(x=[96, 6], edge_index=[2, 1594], y=[96], s=23),\n",
       " Data(x=[1618, 6], edge_index=[2, 123146], y=[1618], s=89),\n",
       " Data(x=[187, 6], edge_index=[2, 4544], y=[187], s=31),\n",
       " Data(x=[1162, 6], edge_index=[2, 74698], y=[1162], s=75),\n",
       " Data(x=[229, 6], edge_index=[2, 6202], y=[229], s=34),\n",
       " Data(x=[341, 6], edge_index=[2, 11312], y=[341], s=46),\n",
       " Data(x=[3362, 6], edge_index=[2, 372858], y=[3362], s=131),\n",
       " Data(x=[2801, 6], edge_index=[2, 280948], y=[2801], s=118),\n",
       " Data(x=[1932, 6], edge_index=[2, 159544], y=[1932], s=101),\n",
       " Data(x=[989, 6], edge_index=[2, 57930], y=[989], s=74),\n",
       " Data(x=[2047, 6], edge_index=[2, 174022], y=[2047], s=103),\n",
       " Data(x=[4096, 6], edge_index=[2, 501744], y=[4096], s=136),\n",
       " Data(x=[156, 6], edge_index=[2, 3480], y=[156], s=28),\n",
       " Data(x=[1051, 6], edge_index=[2, 63392], y=[1051], s=72),\n",
       " Data(x=[2301, 6], edge_index=[2, 209612], y=[2301], s=115),\n",
       " Data(x=[338, 6], edge_index=[2, 11412], y=[338], s=43),\n",
       " Data(x=[1661, 6], edge_index=[2, 128676], y=[1661], s=91),\n",
       " Data(x=[1236, 6], edge_index=[2, 81112], y=[1236], s=77),\n",
       " Data(x=[2021, 6], edge_index=[2, 171354], y=[2021], s=101),\n",
       " Data(x=[155, 6], edge_index=[2, 3486], y=[155], s=27),\n",
       " Data(x=[600, 6], edge_index=[2, 27124], y=[600], s=58),\n",
       " Data(x=[415, 6], edge_index=[2, 15646], y=[415], s=45),\n",
       " Data(x=[2001, 6], edge_index=[2, 168444], y=[2001], s=100),\n",
       " Data(x=[133, 6], edge_index=[2, 2816], y=[133], s=24),\n",
       " Data(x=[130, 6], edge_index=[2, 2552], y=[130], s=26),\n",
       " Data(x=[852, 6], edge_index=[2, 46286], y=[852], s=65),\n",
       " Data(x=[986, 6], edge_index=[2, 58228], y=[986], s=70),\n",
       " Data(x=[44, 6], edge_index=[2, 488], y=[44], s=15),\n",
       " Data(x=[560, 6], edge_index=[2, 24348], y=[560], s=55),\n",
       " Data(x=[2763, 6], edge_index=[2, 273168], y=[2763], s=120),\n",
       " Data(x=[173, 6], edge_index=[2, 4210], y=[173], s=29),\n",
       " Data(x=[77, 6], edge_index=[2, 1128], y=[77], s=21),\n",
       " Data(x=[2132, 6], edge_index=[2, 187360], y=[2132], s=104),\n",
       " Data(x=[1920, 6], edge_index=[2, 158204], y=[1920], s=103),\n",
       " Data(x=[369, 6], edge_index=[2, 12896], y=[369], s=46),\n",
       " Data(x=[276, 6], edge_index=[2, 8312], y=[276], s=36),\n",
       " Data(x=[142, 6], edge_index=[2, 2964], y=[142], s=28),\n",
       " Data(x=[64, 6], edge_index=[2, 830], y=[64], s=19),\n",
       " Data(x=[438, 6], edge_index=[2, 16806], y=[438], s=49),\n",
       " Data(x=[58, 6], edge_index=[2, 752], y=[58], s=16),\n",
       " Data(x=[109, 6], edge_index=[2, 1972], y=[109], s=23),\n",
       " Data(x=[2346, 6], edge_index=[2, 215760], y=[2346], s=114),\n",
       " Data(x=[2754, 6], edge_index=[2, 271708], y=[2754], s=120),\n",
       " Data(x=[96, 6], edge_index=[2, 1614], y=[96], s=22),\n",
       " Data(x=[2331, 6], edge_index=[2, 213310], y=[2331], s=115),\n",
       " Data(x=[4172, 6], edge_index=[2, 517216], y=[4172], s=148),\n",
       " Data(x=[354, 6], edge_index=[2, 12250], y=[354], s=42),\n",
       " Data(x=[2820, 6], edge_index=[2, 282056], y=[2820], s=120),\n",
       " Data(x=[2185, 6], edge_index=[2, 192318], y=[2185], s=108),\n",
       " Data(x=[2802, 6], edge_index=[2, 279684], y=[2802], s=120),\n",
       " Data(x=[747, 6], edge_index=[2, 37848], y=[747], s=63),\n",
       " Data(x=[361, 6], edge_index=[2, 12996], y=[361], s=44),\n",
       " Data(x=[73, 6], edge_index=[2, 1108], y=[73], s=18),\n",
       " Data(x=[78, 6], edge_index=[2, 1182], y=[78], s=19),\n",
       " Data(x=[2789, 6], edge_index=[2, 277778], y=[2789], s=120),\n",
       " Data(x=[182, 6], edge_index=[2, 4344], y=[182], s=32),\n",
       " Data(x=[162, 6], edge_index=[2, 3676], y=[162], s=27),\n",
       " Data(x=[1319, 6], edge_index=[2, 89776], y=[1319], s=83),\n",
       " Data(x=[383, 6], edge_index=[2, 13522], y=[383], s=45),\n",
       " Data(x=[2210, 6], edge_index=[2, 196622], y=[2210], s=104),\n",
       " Data(x=[2794, 6], edge_index=[2, 280592], y=[2794], s=122),\n",
       " Data(x=[107, 6], edge_index=[2, 1858], y=[107], s=26),\n",
       " Data(x=[535, 6], edge_index=[2, 22594], y=[535], s=54),\n",
       " Data(x=[1138, 6], edge_index=[2, 72042], y=[1138], s=78),\n",
       " Data(x=[160, 6], edge_index=[2, 3686], y=[160], s=27),\n",
       " Data(x=[443, 6], edge_index=[2, 17192], y=[443], s=49),\n",
       " Data(x=[940, 6], edge_index=[2, 53790], y=[940], s=70),\n",
       " Data(x=[1738, 6], edge_index=[2, 135978], y=[1738], s=96),\n",
       " Data(x=[156, 6], edge_index=[2, 3538], y=[156], s=27),\n",
       " Data(x=[378, 6], edge_index=[2, 13300], y=[378], s=45),\n",
       " Data(x=[2850, 6], edge_index=[2, 286786], y=[2850], s=120),\n",
       " Data(x=[90, 6], edge_index=[2, 1568], y=[90], s=20),\n",
       " Data(x=[94, 6], edge_index=[2, 1574], y=[94], s=22),\n",
       " Data(x=[2071, 6], edge_index=[2, 178378], y=[2071], s=104),\n",
       " Data(x=[179, 6], edge_index=[2, 4288], y=[179], s=29),\n",
       " Data(x=[2681, 6], edge_index=[2, 262504], y=[2681], s=118),\n",
       " Data(x=[116, 6], edge_index=[2, 2176], y=[116], s=24),\n",
       " Data(x=[1976, 6], edge_index=[2, 166988], y=[1976], s=101),\n",
       " Data(x=[2803, 6], edge_index=[2, 280652], y=[2803], s=122),\n",
       " Data(x=[200, 6], edge_index=[2, 5088], y=[200], s=31),\n",
       " Data(x=[230, 6], edge_index=[2, 6094], y=[230], s=36),\n",
       " Data(x=[547, 6], edge_index=[2, 23418], y=[547], s=54),\n",
       " Data(x=[243, 6], edge_index=[2, 6994], y=[243], s=34),\n",
       " Data(x=[2338, 6], edge_index=[2, 214822], y=[2338], s=114),\n",
       " Data(x=[637, 6], edge_index=[2, 30120], y=[637], s=55),\n",
       " Data(x=[2703, 6], edge_index=[2, 264196], y=[2703], s=120),\n",
       " Data(x=[866, 6], edge_index=[2, 47416], y=[866], s=66),\n",
       " Data(x=[1640, 6], edge_index=[2, 125956], y=[1640], s=98),\n",
       " Data(x=[566, 6], edge_index=[2, 24706], y=[566], s=54),\n",
       " Data(x=[2046, 6], edge_index=[2, 174248], y=[2046], s=101),\n",
       " Data(x=[669, 6], edge_index=[2, 31940], y=[669], s=61),\n",
       " Data(x=[341, 6], edge_index=[2, 11642], y=[341], s=43),\n",
       " Data(x=[839, 6], edge_index=[2, 46870], y=[839], s=64),\n",
       " Data(x=[2642, 6], edge_index=[2, 255586], y=[2642], s=120),\n",
       " Data(x=[204, 6], edge_index=[2, 5098], y=[204], s=33),\n",
       " Data(x=[1441, 6], edge_index=[2, 102064], y=[1441], s=92),\n",
       " Data(x=[159, 6], edge_index=[2, 3568], y=[159], s=28),\n",
       " Data(x=[93, 6], edge_index=[2, 1536], y=[93], s=23),\n",
       " Data(x=[750, 6], edge_index=[2, 38248], y=[750], s=60),\n",
       " Data(x=[969, 6], edge_index=[2, 56842], y=[969], s=70),\n",
       " Data(x=[401, 6], edge_index=[2, 14648], y=[401], s=47),\n",
       " Data(x=[223, 6], edge_index=[2, 5932], y=[223], s=34),\n",
       " Data(x=[328, 6], edge_index=[2, 10866], y=[328], s=43),\n",
       " Data(x=[438, 6], edge_index=[2, 16716], y=[438], s=48),\n",
       " Data(x=[370, 6], edge_index=[2, 12920], y=[370], s=48),\n",
       " Data(x=[142, 6], edge_index=[2, 3090], y=[142], s=25),\n",
       " Data(x=[1286, 6], edge_index=[2, 87680], y=[1286], s=80),\n",
       " Data(x=[846, 6], edge_index=[2, 45432], y=[846], s=67),\n",
       " Data(x=[79, 6], edge_index=[2, 1152], y=[79], s=22),\n",
       " Data(x=[2063, 6], edge_index=[2, 176642], y=[2063], s=101),\n",
       " Data(x=[4541, 6], edge_index=[2, 584304], y=[4541], s=150),\n",
       " Data(x=[174, 6], edge_index=[2, 4306], y=[174], s=28),\n",
       " Data(x=[559, 6], edge_index=[2, 24160], y=[559], s=56),\n",
       " Data(x=[1045, 6], edge_index=[2, 63574], y=[1045], s=72),\n",
       " Data(x=[576, 6], edge_index=[2, 25308], y=[576], s=54),\n",
       " Data(x=[2782, 6], edge_index=[2, 275712], y=[2782], s=120),\n",
       " Data(x=[2144, 6], edge_index=[2, 187622], y=[2144], s=103),\n",
       " Data(x=[2051, 6], edge_index=[2, 174848], y=[2051], s=101),\n",
       " Data(x=[369, 6], edge_index=[2, 12752], y=[369], s=46),\n",
       " Data(x=[2366, 6], edge_index=[2, 218216], y=[2366], s=115),\n",
       " Data(x=[58, 6], edge_index=[2, 728], y=[58], s=16),\n",
       " Data(x=[119, 6], edge_index=[2, 2306], y=[119], s=24),\n",
       " Data(x=[31, 6], edge_index=[2, 270], y=[31], s=12),\n",
       " Data(x=[49, 6], edge_index=[2, 588], y=[49], s=15),\n",
       " Data(x=[196, 6], edge_index=[2, 4904], y=[196], s=32),\n",
       " Data(x=[19, 6], edge_index=[2, 120], y=[19], s=10),\n",
       " Data(x=[592, 6], edge_index=[2, 26888], y=[592], s=58),\n",
       " Data(x=[1850, 6], edge_index=[2, 153424], y=[1850], s=97),\n",
       " Data(x=[2818, 6], edge_index=[2, 281986], y=[2818], s=120),\n",
       " Data(x=[31, 6], edge_index=[2, 284], y=[31], s=12),\n",
       " Data(x=[1754, 6], edge_index=[2, 139380], y=[1754], s=92),\n",
       " Data(x=[2018, 6], edge_index=[2, 171484], y=[2018], s=103),\n",
       " Data(x=[46, 6], edge_index=[2, 506], y=[46], s=16),\n",
       " Data(x=[247, 6], edge_index=[2, 7170], y=[247], s=34),\n",
       " Data(x=[474, 6], edge_index=[2, 18808], y=[474], s=49),\n",
       " Data(x=[3289, 6], edge_index=[2, 360860], y=[3289], s=130),\n",
       " Data(x=[1853, 6], edge_index=[2, 153220], y=[1853], s=99),\n",
       " Data(x=[334, 6], edge_index=[2, 11124], y=[334], s=43),\n",
       " Data(x=[1924, 6], edge_index=[2, 162446], y=[1924], s=97),\n",
       " Data(x=[2780, 6], edge_index=[2, 276020], y=[2780], s=120),\n",
       " Data(x=[630, 6], edge_index=[2, 29656], y=[630], s=55),\n",
       " Data(x=[2709, 6], edge_index=[2, 265494], y=[2709], s=120),\n",
       " Data(x=[573, 6], edge_index=[2, 25236], y=[573], s=55),\n",
       " Data(x=[70, 6], edge_index=[2, 956], y=[70], s=19),\n",
       " Data(x=[768, 6], edge_index=[2, 39296], y=[768], s=62),\n",
       " Data(x=[2816, 6], edge_index=[2, 282148], y=[2816], s=120),\n",
       " Data(x=[28, 6], edge_index=[2, 228], y=[28], s=12),\n",
       " Data(x=[112, 6], edge_index=[2, 2086], y=[112], s=23),\n",
       " Data(x=[710, 6], edge_index=[2, 35312], y=[710], s=58),\n",
       " Data(x=[1075, 6], edge_index=[2, 66582], y=[1075], s=71),\n",
       " Data(x=[1994, 6], edge_index=[2, 167354], y=[1994], s=100),\n",
       " Data(x=[1969, 6], edge_index=[2, 164934], y=[1969], s=98),\n",
       " Data(x=[3044, 6], edge_index=[2, 318910], y=[3044], s=125),\n",
       " Data(x=[2665, 6], edge_index=[2, 258340], y=[2665], s=118),\n",
       " Data(x=[21, 6], edge_index=[2, 148], y=[21], s=10),\n",
       " Data(x=[390, 6], edge_index=[2, 14094], y=[390], s=46),\n",
       " Data(x=[161, 6], edge_index=[2, 3718], y=[161], s=27),\n",
       " Data(x=[348, 6], edge_index=[2, 11954], y=[348], s=43),\n",
       " Data(x=[567, 6], edge_index=[2, 24636], y=[567], s=54),\n",
       " Data(x=[1036, 6], edge_index=[2, 63260], y=[1036], s=69),\n",
       " Data(x=[58, 6], edge_index=[2, 760], y=[58], s=17),\n",
       " Data(x=[556, 6], edge_index=[2, 23994], y=[556], s=54),\n",
       " Data(x=[2498, 6], edge_index=[2, 237298], y=[2498], s=117),\n",
       " Data(x=[2532, 6], edge_index=[2, 240846], y=[2532], s=113),\n",
       " Data(x=[170, 6], edge_index=[2, 3936], y=[170], s=28),\n",
       " Data(x=[373, 6], edge_index=[2, 12978], y=[373], s=45),\n",
       " Data(x=[3082, 6], edge_index=[2, 322828], y=[3082], s=127),\n",
       " Data(x=[897, 6], edge_index=[2, 50614], y=[897], s=66),\n",
       " Data(x=[1240, 6], edge_index=[2, 82696], y=[1240], s=78),\n",
       " Data(x=[2813, 6], edge_index=[2, 281046], y=[2813], s=120),\n",
       " Data(x=[361, 6], edge_index=[2, 12654], y=[361], s=41),\n",
       " Data(x=[945, 6], edge_index=[2, 55326], y=[945], s=67),\n",
       " Data(x=[626, 6], edge_index=[2, 28908], y=[626], s=56),\n",
       " Data(x=[112, 6], edge_index=[2, 2052], y=[112], s=24),\n",
       " Data(x=[2006, 6], edge_index=[2, 170500], y=[2006], s=97),\n",
       " Data(x=[2708, 6], edge_index=[2, 265556], y=[2708], s=118),\n",
       " Data(x=[167, 6], edge_index=[2, 3982], y=[167], s=28),\n",
       " Data(x=[60, 6], edge_index=[2, 770], y=[60], s=17),\n",
       " Data(x=[2743, 6], edge_index=[2, 270576], y=[2743], s=120),\n",
       " Data(x=[2810, 6], edge_index=[2, 282034], y=[2810], s=121),\n",
       " Data(x=[2048, 6], edge_index=[2, 175280], y=[2048], s=103),\n",
       " Data(x=[37, 6], edge_index=[2, 328], y=[37], s=15),\n",
       " Data(x=[41, 6], edge_index=[2, 416], y=[41], s=14),\n",
       " Data(x=[2616, 6], edge_index=[2, 253060], y=[2616], s=113),\n",
       " Data(x=[554, 6], edge_index=[2, 23888], y=[554], s=54),\n",
       " Data(x=[194, 6], edge_index=[2, 4920], y=[194], s=30),\n",
       " Data(x=[551, 6], edge_index=[2, 23662], y=[551], s=54),\n",
       " Data(x=[362, 6], edge_index=[2, 12460], y=[362], s=44),\n",
       " Data(x=[130, 6], edge_index=[2, 2550], y=[130], s=28),\n",
       " Data(x=[66, 6], edge_index=[2, 968], y=[66], s=16),\n",
       " Data(x=[170, 6], edge_index=[2, 4004], y=[170], s=28),\n",
       " Data(x=[3008, 6], edge_index=[2, 311754], y=[3008], s=126),\n",
       " Data(x=[2700, 6], edge_index=[2, 263406], y=[2700], s=120),\n",
       " Data(x=[2195, 6], edge_index=[2, 196870], y=[2195], s=105),\n",
       " Data(x=[2726, 6], edge_index=[2, 269316], y=[2726], s=119),\n",
       " Data(x=[2306, 6], edge_index=[2, 216992], y=[2306], s=96),\n",
       " Data(x=[2011, 6], edge_index=[2, 169944], y=[2011], s=101),\n",
       " Data(x=[647, 6], edge_index=[2, 30268], y=[647], s=56),\n",
       " Data(x=[1023, 6], edge_index=[2, 61130], y=[1023], s=75),\n",
       " Data(x=[551, 6], edge_index=[2, 24024], y=[551], s=54),\n",
       " Data(x=[893, 6], edge_index=[2, 49326], y=[893], s=68),\n",
       " Data(x=[111, 6], edge_index=[2, 2090], y=[111], s=23),\n",
       " Data(x=[1984, 6], edge_index=[2, 166070], y=[1984], s=101),\n",
       " Data(x=[146, 6], edge_index=[2, 3122], y=[146], s=27),\n",
       " Data(x=[39, 6], edge_index=[2, 394], y=[39], s=14),\n",
       " Data(x=[1668, 6], edge_index=[2, 129108], y=[1668], s=89),\n",
       " Data(x=[399, 6], edge_index=[2, 14352], y=[399], s=48),\n",
       " Data(x=[38, 6], edge_index=[2, 380], y=[38], s=14),\n",
       " Data(x=[2365, 6], edge_index=[2, 218232], y=[2365], s=110),\n",
       " Data(x=[1336, 6], edge_index=[2, 91650], y=[1336], s=81),\n",
       " Data(x=[2896, 6], edge_index=[2, 294718], y=[2896], s=120),\n",
       " Data(x=[1073, 6], edge_index=[2, 66988], y=[1073], s=75),\n",
       " Data(x=[95, 6], edge_index=[2, 1670], y=[95], s=22),\n",
       " Data(x=[364, 6], edge_index=[2, 12778], y=[364], s=43),\n",
       " Data(x=[2216, 6], edge_index=[2, 196520], y=[2216], s=106),\n",
       " Data(x=[1100, 6], edge_index=[2, 69554], y=[1100], s=74),\n",
       " Data(x=[1036, 6], edge_index=[2, 62200], y=[1036], s=73),\n",
       " Data(x=[334, 6], edge_index=[2, 11008], y=[334], s=48),\n",
       " Data(x=[1136, 6], edge_index=[2, 72088], y=[1136], s=77),\n",
       " Data(x=[2013, 6], edge_index=[2, 171554], y=[2013], s=102),\n",
       " Data(x=[338, 6], edge_index=[2, 11362], y=[338], s=43),\n",
       " Data(x=[2832, 6], edge_index=[2, 285462], y=[2832], s=117),\n",
       " Data(x=[2788, 6], edge_index=[2, 277718], y=[2788], s=120),\n",
       " Data(x=[155, 6], edge_index=[2, 3478], y=[155], s=27),\n",
       " Data(x=[358, 6], edge_index=[2, 12300], y=[358], s=44),\n",
       " Data(x=[1807, 6], edge_index=[2, 146080], y=[1807], s=92),\n",
       " Data(x=[561, 6], edge_index=[2, 25076], y=[561], s=50),\n",
       " Data(x=[655, 6], edge_index=[2, 30900], y=[655], s=61),\n",
       " Data(x=[178, 6], edge_index=[2, 4600], y=[178], s=30),\n",
       " Data(x=[122, 6], edge_index=[2, 2484], y=[122], s=24),\n",
       " Data(x=[1968, 6], edge_index=[2, 163874], y=[1968], s=100),\n",
       " Data(x=[458, 6], edge_index=[2, 18130], y=[458], s=48),\n",
       " Data(x=[1975, 6], edge_index=[2, 164988], y=[1975], s=100),\n",
       " Data(x=[2807, 6], edge_index=[2, 279458], y=[2807], s=120),\n",
       " Data(x=[164, 6], edge_index=[2, 3730], y=[164], s=29),\n",
       " Data(x=[206, 6], edge_index=[2, 5180], y=[206], s=34),\n",
       " Data(x=[67, 6], edge_index=[2, 928], y=[67], s=18),\n",
       " Data(x=[1957, 6], edge_index=[2, 162466], y=[1957], s=101),\n",
       " Data(x=[109, 6], edge_index=[2, 2002], y=[109], s=23),\n",
       " Data(x=[2229, 6], edge_index=[2, 198862], y=[2229], s=105),\n",
       " Data(x=[66, 6], edge_index=[2, 968], y=[66], s=16),\n",
       " Data(x=[214, 6], edge_index=[2, 5696], y=[214], s=32),\n",
       " Data(x=[587, 6], edge_index=[2, 26022], y=[587], s=58),\n",
       " Data(x=[1239, 6], edge_index=[2, 82624], y=[1239], s=76),\n",
       " Data(x=[1639, 6], edge_index=[2, 125882], y=[1639], s=90),\n",
       " Data(x=[2007, 6], edge_index=[2, 171774], y=[2007], s=98),\n",
       " Data(x=[321, 6], edge_index=[2, 10370], y=[321], s=45),\n",
       " Data(x=[749, 6], edge_index=[2, 37962], y=[749], s=63),\n",
       " Data(x=[89, 6], edge_index=[2, 1460], y=[89], s=21),\n",
       " Data(x=[3831, 6], edge_index=[2, 452476], y=[3831], s=142),\n",
       " Data(x=[1118, 6], edge_index=[2, 69506], y=[1118], s=75),\n",
       " Data(x=[1053, 6], edge_index=[2, 63976], y=[1053], s=76),\n",
       " Data(x=[1497, 6], edge_index=[2, 109516], y=[1497], s=93),\n",
       " Data(x=[191, 6], edge_index=[2, 4724], y=[191], s=30),\n",
       " Data(x=[800, 6], edge_index=[2, 43664], y=[800], s=66),\n",
       " Data(x=[2804, 6], edge_index=[2, 280136], y=[2804], s=120),\n",
       " Data(x=[354, 6], edge_index=[2, 12172], y=[354], s=48),\n",
       " Data(x=[355, 6], edge_index=[2, 12004], y=[355], s=45),\n",
       " Data(x=[56, 6], edge_index=[2, 664], y=[56], s=18),\n",
       " Data(x=[155, 6], edge_index=[2, 3426], y=[155], s=29),\n",
       " Data(x=[149, 6], edge_index=[2, 3204], y=[149], s=27),\n",
       " Data(x=[62, 6], edge_index=[2, 802], y=[62], s=18),\n",
       " Data(x=[1623, 6], edge_index=[2, 123984], y=[1623], s=90),\n",
       " Data(x=[64, 6], edge_index=[2, 974], y=[64], s=16),\n",
       " Data(x=[1214, 6], edge_index=[2, 79780], y=[1214], s=77),\n",
       " Data(x=[1992, 6], edge_index=[2, 167088], y=[1992], s=101),\n",
       " Data(x=[72, 6], edge_index=[2, 1118], y=[72], s=18),\n",
       " Data(x=[1170, 6], edge_index=[2, 76596], y=[1170], s=74),\n",
       " Data(x=[68, 6], edge_index=[2, 940], y=[68], s=19),\n",
       " Data(x=[328, 6], edge_index=[2, 10870], y=[328], s=43),\n",
       " Data(x=[190, 6], edge_index=[2, 4644], y=[190], s=34),\n",
       " Data(x=[341, 6], edge_index=[2, 11434], y=[341], s=44),\n",
       " Data(x=[118, 6], edge_index=[2, 2220], y=[118], s=26),\n",
       " Data(x=[109, 6], edge_index=[2, 2088], y=[109], s=22),\n",
       " Data(x=[298, 6], edge_index=[2, 9400], y=[298], s=40),\n",
       " Data(x=[1564, 6], edge_index=[2, 117848], y=[1564], s=93),\n",
       " Data(x=[405, 6], edge_index=[2, 14844], y=[405], s=48),\n",
       " Data(x=[85, 6], edge_index=[2, 1350], y=[85], s=22),\n",
       " Data(x=[1970, 6], edge_index=[2, 164192], y=[1970], s=100),\n",
       " Data(x=[427, 6], edge_index=[2, 16176], y=[427], s=48),\n",
       " Data(x=[557, 6], edge_index=[2, 24378], y=[557], s=54),\n",
       " Data(x=[64, 6], edge_index=[2, 904], y=[64], s=16),\n",
       " Data(x=[126, 6], edge_index=[2, 2456], y=[126], s=25),\n",
       " Data(x=[1137, 6], edge_index=[2, 72502], y=[1137], s=75),\n",
       " Data(x=[2502, 6], edge_index=[2, 236522], y=[2502], s=116),\n",
       " Data(x=[184, 6], edge_index=[2, 4516], y=[184], s=30),\n",
       " Data(x=[2997, 6], edge_index=[2, 310568], y=[2997], s=126),\n",
       " Data(x=[129, 6], edge_index=[2, 2596], y=[129], s=25),\n",
       " Data(x=[2577, 6], edge_index=[2, 247672], y=[2577], s=116),\n",
       " Data(x=[28, 6], edge_index=[2, 246], y=[28], s=12),\n",
       " Data(x=[2242, 6], edge_index=[2, 200256], y=[2242], s=106),\n",
       " Data(x=[32, 6], edge_index=[2, 310], y=[32], s=12),\n",
       " Data(x=[818, 6], edge_index=[2, 43758], y=[818], s=65),\n",
       " Data(x=[1615, 6], edge_index=[2, 122344], y=[1615], s=90),\n",
       " Data(x=[2351, 6], edge_index=[2, 214684], y=[2351], s=110),\n",
       " Data(x=[2695, 6], edge_index=[2, 264974], y=[2695], s=117),\n",
       " Data(x=[2780, 6], edge_index=[2, 276016], y=[2780], s=120),\n",
       " Data(x=[2324, 6], edge_index=[2, 212644], y=[2324], s=106),\n",
       " Data(x=[336, 6], edge_index=[2, 11270], y=[336], s=43),\n",
       " Data(x=[1138, 6], edge_index=[2, 72596], y=[1138], s=74),\n",
       " Data(x=[377, 6], edge_index=[2, 13186], y=[377], s=44),\n",
       " Data(x=[1487, 6], edge_index=[2, 109284], y=[1487], s=94),\n",
       " Data(x=[1689, 6], edge_index=[2, 130562], y=[1689], s=94),\n",
       " Data(x=[346, 6], edge_index=[2, 11770], y=[346], s=43),\n",
       " Data(x=[2797, 6], edge_index=[2, 279994], y=[2797], s=118),\n",
       " Data(x=[2786, 6], edge_index=[2, 276704], y=[2786], s=120),\n",
       " Data(x=[261, 6], edge_index=[2, 7730], y=[261], s=40),\n",
       " Data(x=[119, 6], edge_index=[2, 2226], y=[119], s=26),\n",
       " Data(x=[201, 6], edge_index=[2, 5170], y=[201], s=34),\n",
       " Data(x=[2638, 6], edge_index=[2, 254474], y=[2638], s=120),\n",
       " Data(x=[2842, 6], edge_index=[2, 286146], y=[2842], s=120),\n",
       " Data(x=[2444, 6], edge_index=[2, 230200], y=[2444], s=116),\n",
       " Data(x=[2704, 6], edge_index=[2, 264068], y=[2704], s=120),\n",
       " Data(x=[426, 6], edge_index=[2, 16130], y=[426], s=46),\n",
       " Data(x=[107, 6], edge_index=[2, 1876], y=[107], s=24),\n",
       " Data(x=[555, 6], edge_index=[2, 24320], y=[555], s=54),\n",
       " Data(x=[534, 6], edge_index=[2, 22562], y=[534], s=54),\n",
       " Data(x=[556, 6], edge_index=[2, 24268], y=[556], s=54),\n",
       " Data(x=[132, 6], edge_index=[2, 2634], y=[132], s=26),\n",
       " Data(x=[2768, 6], edge_index=[2, 277642], y=[2768], s=114),\n",
       " Data(x=[156, 6], edge_index=[2, 3456], y=[156], s=28),\n",
       " Data(x=[1068, 6], edge_index=[2, 65244], y=[1068], s=72),\n",
       " Data(x=[1346, 6], edge_index=[2, 93360], y=[1346], s=83),\n",
       " Data(x=[2750, 6], edge_index=[2, 274304], y=[2750], s=115),\n",
       " Data(x=[1267, 6], edge_index=[2, 84558], y=[1267], s=81),\n",
       " Data(x=[346, 6], edge_index=[2, 11584], y=[346], s=48),\n",
       " Data(x=[460, 6], edge_index=[2, 18194], y=[460], s=49),\n",
       " Data(x=[349, 6], edge_index=[2, 11728], y=[349], s=45),\n",
       " Data(x=[89, 6], edge_index=[2, 1438], y=[89], s=22),\n",
       " Data(x=[327, 6], edge_index=[2, 10564], y=[327], s=45),\n",
       " Data(x=[102, 6], edge_index=[2, 1770], y=[102], s=22),\n",
       " Data(x=[657, 6], edge_index=[2, 30926], y=[657], s=61),\n",
       " Data(x=[863, 6], edge_index=[2, 46790], y=[863], s=68),\n",
       " Data(x=[129, 6], edge_index=[2, 2598], y=[129], s=25),\n",
       " Data(x=[366, 6], edge_index=[2, 12660], y=[366], s=45),\n",
       " Data(x=[53, 6], edge_index=[2, 658], y=[53], s=16),\n",
       " Data(x=[360, 6], edge_index=[2, 12504], y=[360], s=46),\n",
       " Data(x=[684, 6], edge_index=[2, 33512], y=[684], s=62),\n",
       " Data(x=[341, 6], edge_index=[2, 11582], y=[341], s=43),\n",
       " Data(x=[2961, 6], edge_index=[2, 308108], y=[2961], s=124),\n",
       " Data(x=[330, 6], edge_index=[2, 10848], y=[330], s=43),\n",
       " Data(x=[101, 6], edge_index=[2, 1782], y=[101], s=22),\n",
       " Data(x=[58, 6], edge_index=[2, 728], y=[58], s=17),\n",
       " Data(x=[386, 6], edge_index=[2, 13688], y=[386], s=46),\n",
       " Data(x=[301, 6], edge_index=[2, 9814], y=[301], s=38),\n",
       " Data(x=[353, 6], edge_index=[2, 11870], y=[353], s=48),\n",
       " Data(x=[2750, 6], edge_index=[2, 271518], y=[2750], s=119),\n",
       " Data(x=[1575, 6], edge_index=[2, 118128], y=[1575], s=89),\n",
       " Data(x=[344, 6], edge_index=[2, 11454], y=[344], s=45),\n",
       " Data(x=[139, 6], edge_index=[2, 2982], y=[139], s=25),\n",
       " Data(x=[2498, 6], edge_index=[2, 237928], y=[2498], s=118),\n",
       " Data(x=[71, 6], edge_index=[2, 1054], y=[71], s=17),\n",
       " Data(x=[201, 6], edge_index=[2, 5044], y=[201], s=33),\n",
       " Data(x=[140, 6], edge_index=[2, 2924], y=[140], s=28),\n",
       " Data(x=[2864, 6], edge_index=[2, 290160], y=[2864], s=118),\n",
       " Data(x=[2399, 6], edge_index=[2, 223236], y=[2399], s=116),\n",
       " Data(x=[67, 6], edge_index=[2, 926], y=[67], s=18),\n",
       " Data(x=[1630, 6], edge_index=[2, 124978], y=[1630], s=91),\n",
       " Data(x=[1225, 6], edge_index=[2, 80452], y=[1225], s=81),\n",
       " Data(x=[335, 6], edge_index=[2, 10988], y=[335], s=48),\n",
       " Data(x=[771, 6], edge_index=[2, 39938], y=[771], s=64),\n",
       " Data(x=[2029, 6], edge_index=[2, 172212], y=[2029], s=101),\n",
       " Data(x=[1836, 6], edge_index=[2, 148556], y=[1836], s=101),\n",
       " Data(x=[104, 6], edge_index=[2, 1890], y=[104], s=22),\n",
       " Data(x=[2647, 6], edge_index=[2, 256946], y=[2647], s=118),\n",
       " Data(x=[125, 6], edge_index=[2, 2574], y=[125], s=23),\n",
       " Data(x=[487, 6], edge_index=[2, 20028], y=[487], s=49),\n",
       " Data(x=[1874, 6], edge_index=[2, 154892], y=[1874], s=98),\n",
       " Data(x=[1077, 6], edge_index=[2, 66854], y=[1077], s=71),\n",
       " Data(x=[470, 6], edge_index=[2, 18812], y=[470], s=48),\n",
       " Data(x=[574, 6], edge_index=[2, 25238], y=[574], s=54),\n",
       " Data(x=[2958, 6], edge_index=[2, 304420], y=[2958], s=121),\n",
       " Data(x=[152, 6], edge_index=[2, 3350], y=[152], s=27),\n",
       " Data(x=[103, 6], edge_index=[2, 1876], y=[103], s=22),\n",
       " Data(x=[1966, 6], edge_index=[2, 163622], y=[1966], s=101),\n",
       " Data(x=[204, 6], edge_index=[2, 5102], y=[204], s=33),\n",
       " Data(x=[185, 6], edge_index=[2, 4562], y=[185], s=29),\n",
       " Data(x=[1184, 6], edge_index=[2, 76884], y=[1184], s=78),\n",
       " Data(x=[2454, 6], edge_index=[2, 232176], y=[2454], s=116),\n",
       " Data(x=[59, 6], edge_index=[2, 776], y=[59], s=17),\n",
       " Data(x=[359, 6], edge_index=[2, 12516], y=[359], s=43),\n",
       " Data(x=[339, 6], edge_index=[2, 11360], y=[339], s=48),\n",
       " Data(x=[2001, 6], edge_index=[2, 168298], y=[2001], s=101),\n",
       " Data(x=[97, 6], edge_index=[2, 1660], y=[97], s=21),\n",
       " Data(x=[2284, 6], edge_index=[2, 206386], y=[2284], s=106),\n",
       " Data(x=[393, 6], edge_index=[2, 14096], y=[393], s=46),\n",
       " Data(x=[259, 6], edge_index=[2, 7682], y=[259], s=36),\n",
       " Data(x=[168, 6], edge_index=[2, 3920], y=[168], s=28),\n",
       " Data(x=[136, 6], edge_index=[2, 2770], y=[136], s=26),\n",
       " Data(x=[87, 6], edge_index=[2, 1472], y=[87], s=19),\n",
       " Data(x=[1971, 6], edge_index=[2, 164290], y=[1971], s=100),\n",
       " Data(x=[1054, 6], edge_index=[2, 64302], y=[1054], s=72),\n",
       " Data(x=[2556, 6], edge_index=[2, 245364], y=[2556], s=118),\n",
       " Data(x=[313, 6], edge_index=[2, 10048], y=[313], s=43),\n",
       " Data(x=[32, 6], edge_index=[2, 274], y=[32], s=13),\n",
       " Data(x=[552, 6], edge_index=[2, 23770], y=[552], s=55),\n",
       " Data(x=[2529, 6], edge_index=[2, 242700], y=[2529], s=114),\n",
       " Data(x=[37, 6], edge_index=[2, 362], y=[37], s=13),\n",
       " Data(x=[3741, 6], edge_index=[2, 436734], y=[3741], s=142),\n",
       " Data(x=[36, 6], edge_index=[2, 332], y=[36], s=14),\n",
       " Data(x=[2808, 6], edge_index=[2, 280896], y=[2808], s=120),\n",
       " Data(x=[466, 6], edge_index=[2, 18504], y=[466], s=50),\n",
       " Data(x=[2783, 6], edge_index=[2, 275682], y=[2783], s=120),\n",
       " Data(x=[996, 6], edge_index=[2, 57972], y=[996], s=75),\n",
       " Data(x=[819, 6], edge_index=[2, 45260], y=[819], s=67),\n",
       " Data(x=[532, 6], edge_index=[2, 22486], y=[532], s=54),\n",
       " Data(x=[2763, 6], edge_index=[2, 273172], y=[2763], s=120),\n",
       " Data(x=[2764, 6], edge_index=[2, 273038], y=[2764], s=120),\n",
       " Data(x=[1109, 6], edge_index=[2, 70918], y=[1109], s=77),\n",
       " Data(x=[2343, 6], edge_index=[2, 216542], y=[2343], s=113),\n",
       " Data(x=[382, 6], edge_index=[2, 13712], y=[382], s=43),\n",
       " Data(x=[173, 6], edge_index=[2, 4066], y=[173], s=29),\n",
       " Data(x=[115, 6], edge_index=[2, 2192], y=[115], s=24),\n",
       " Data(x=[196, 6], edge_index=[2, 4872], y=[196], s=34),\n",
       " Data(x=[1260, 6], edge_index=[2, 84254], y=[1260], s=81),\n",
       " Data(x=[2206, 6], edge_index=[2, 195024], y=[2206], s=108),\n",
       " Data(x=[572, 6], edge_index=[2, 25350], y=[572], s=54),\n",
       " Data(x=[93, 6], edge_index=[2, 1574], y=[93], s=20),\n",
       " Data(x=[4501, 6], edge_index=[2, 576644], y=[4501], s=150),\n",
       " Data(x=[2818, 6], edge_index=[2, 282228], y=[2818], s=120),\n",
       " Data(x=[265, 6], edge_index=[2, 7622], y=[265], s=39),\n",
       " Data(x=[1979, 6], edge_index=[2, 166032], y=[1979], s=99),\n",
       " Data(x=[766, 6], edge_index=[2, 39420], y=[766], s=63),\n",
       " Data(x=[40, 6], edge_index=[2, 406], y=[40], s=14),\n",
       " Data(x=[743, 6], edge_index=[2, 37706], y=[743], s=63),\n",
       " Data(x=[2812, 6], edge_index=[2, 282432], y=[2812], s=122),\n",
       " Data(x=[397, 6], edge_index=[2, 14272], y=[397], s=45),\n",
       " Data(x=[2863, 6], edge_index=[2, 288240], y=[2863], s=120),\n",
       " Data(x=[293, 6], edge_index=[2, 9254], y=[293], s=37),\n",
       " Data(x=[2138, 6], edge_index=[2, 191966], y=[2138], s=104),\n",
       " Data(x=[30, 6], edge_index=[2, 238], y=[30], s=13),\n",
       " Data(x=[193, 6], edge_index=[2, 4786], y=[193], s=31),\n",
       " Data(x=[2379, 6], edge_index=[2, 220506], y=[2379], s=108),\n",
       " Data(x=[150, 6], edge_index=[2, 3302], y=[150], s=27),\n",
       " Data(x=[394, 6], edge_index=[2, 14306], y=[394], s=45),\n",
       " Data(x=[1591, 6], edge_index=[2, 120960], y=[1591], s=88),\n",
       " Data(x=[1225, 6], edge_index=[2, 80478], y=[1225], s=79),\n",
       " Data(x=[810, 6], edge_index=[2, 42526], y=[810], s=65),\n",
       " Data(x=[427, 6], edge_index=[2, 16182], y=[427], s=49),\n",
       " Data(x=[368, 6], edge_index=[2, 13220], y=[368], s=40),\n",
       " Data(x=[1692, 6], edge_index=[2, 132514], y=[1692], s=92),\n",
       " Data(x=[256, 6], edge_index=[2, 7340], y=[256], s=38),\n",
       " Data(x=[158, 6], edge_index=[2, 3476], y=[158], s=29),\n",
       " Data(x=[470, 6], edge_index=[2, 18868], y=[470], s=49),\n",
       " Data(x=[380, 6], edge_index=[2, 13376], y=[380], s=44),\n",
       " Data(x=[114, 6], edge_index=[2, 2132], y=[114], s=24),\n",
       " Data(x=[1214, 6], edge_index=[2, 79550], y=[1214], s=81),\n",
       " Data(x=[2857, 6], edge_index=[2, 288156], y=[2857], s=120),\n",
       " Data(x=[131, 6], edge_index=[2, 2714], y=[131], s=24),\n",
       " Data(x=[3804, 6], edge_index=[2, 447440], y=[3804], s=141),\n",
       " Data(x=[206, 6], edge_index=[2, 5218], y=[206], s=34),\n",
       " Data(x=[80, 6], edge_index=[2, 1176], y=[80], s=22),\n",
       " Data(x=[261, 6], edge_index=[2, 7640], y=[261], s=38),\n",
       " Data(x=[138, 6], edge_index=[2, 2830], y=[138], s=27),\n",
       " Data(x=[460, 6], edge_index=[2, 18188], y=[460], s=46),\n",
       " Data(x=[108, 6], edge_index=[2, 1910], y=[108], s=24),\n",
       " Data(x=[574, 6], edge_index=[2, 25494], y=[574], s=55),\n",
       " Data(x=[1220, 6], edge_index=[2, 79996], y=[1220], s=77),\n",
       " Data(x=[444, 6], edge_index=[2, 17306], y=[444], s=48),\n",
       " Data(x=[163, 6], edge_index=[2, 3792], y=[163], s=27),\n",
       " Data(x=[37, 6], edge_index=[2, 370], y=[37], s=13),\n",
       " Data(x=[58, 6], edge_index=[2, 750], y=[58], s=17),\n",
       " Data(x=[80, 6], edge_index=[2, 1230], y=[80], s=20),\n",
       " Data(x=[2514, 6], edge_index=[2, 239524], y=[2514], s=119),\n",
       " Data(x=[62, 6], edge_index=[2, 800], y=[62], s=18),\n",
       " Data(x=[2467, 6], edge_index=[2, 233188], y=[2467], s=117),\n",
       " Data(x=[2028, 6], edge_index=[2, 172102], y=[2028], s=101),\n",
       " Data(x=[550, 6], edge_index=[2, 23898], y=[550], s=54),\n",
       " Data(x=[4182, 6], edge_index=[2, 512632], y=[4182], s=144),\n",
       " Data(x=[354, 6], edge_index=[2, 12194], y=[354], s=43),\n",
       " Data(x=[561, 6], edge_index=[2, 24350], y=[561], s=54),\n",
       " Data(x=[778, 6], edge_index=[2, 40430], y=[778], s=62),\n",
       " Data(x=[1199, 6], edge_index=[2, 80072], y=[1199], s=79),\n",
       " Data(x=[331, 6], edge_index=[2, 10888], y=[331], s=42),\n",
       " Data(x=[105, 6], edge_index=[2, 1892], y=[105], s=23),\n",
       " Data(x=[2801, 6], edge_index=[2, 279094], y=[2801], s=120),\n",
       " Data(x=[878, 6], edge_index=[2, 48368], y=[878], s=66),\n",
       " Data(x=[209, 6], edge_index=[2, 5476], y=[209], s=34),\n",
       " Data(x=[1052, 6], edge_index=[2, 65300], y=[1052], s=78),\n",
       " Data(x=[2720, 6], edge_index=[2, 267092], y=[2720], s=120),\n",
       " Data(x=[896, 6], edge_index=[2, 49640], y=[896], s=68),\n",
       " Data(x=[2839, 6], edge_index=[2, 284850], y=[2839], s=123),\n",
       " Data(x=[31, 6], edge_index=[2, 258], y=[31], s=13),\n",
       " Data(x=[1121, 6], edge_index=[2, 69626], y=[1121], s=76),\n",
       " Data(x=[346, 6], edge_index=[2, 11582], y=[346], s=45),\n",
       " Data(x=[55, 6], edge_index=[2, 688], y=[55], s=17),\n",
       " Data(x=[2754, 6], edge_index=[2, 271382], y=[2754], s=120),\n",
       " Data(x=[334, 6], edge_index=[2, 11098], y=[334], s=43),\n",
       " Data(x=[2706, 6], edge_index=[2, 264778], y=[2706], s=120),\n",
       " Data(x=[784, 6], edge_index=[2, 41218], y=[784], s=62),\n",
       " Data(x=[564, 6], edge_index=[2, 24644], y=[564], s=55),\n",
       " Data(x=[2755, 6], edge_index=[2, 272934], y=[2755], s=119),\n",
       " Data(x=[212, 6], edge_index=[2, 5608], y=[212], s=32),\n",
       " Data(x=[2522, 6], edge_index=[2, 238840], y=[2522], s=116),\n",
       " Data(x=[2214, 6], edge_index=[2, 196938], y=[2214], s=105),\n",
       " Data(x=[2136, 6], edge_index=[2, 187284], y=[2136], s=105),\n",
       " Data(x=[247, 6], edge_index=[2, 6956], y=[247], s=36),\n",
       " Data(x=[1418, 6], edge_index=[2, 102372], y=[1418], s=84),\n",
       " Data(x=[886, 6], edge_index=[2, 49516], y=[886], s=66),\n",
       " Data(x=[96, 6], edge_index=[2, 1662], y=[96], s=22),\n",
       " Data(x=[909, 6], edge_index=[2, 51304], y=[909], s=65),\n",
       " Data(x=[1154, 6], edge_index=[2, 74242], y=[1154], s=77),\n",
       " Data(x=[2148, 6], edge_index=[2, 189116], y=[2148], s=106),\n",
       " Data(x=[34, 6], edge_index=[2, 306], y=[34], s=13),\n",
       " Data(x=[95, 6], edge_index=[2, 1576], y=[95], s=24),\n",
       " Data(x=[772, 6], edge_index=[2, 40426], y=[772], s=61),\n",
       " Data(x=[358, 6], edge_index=[2, 12320], y=[358], s=43),\n",
       " Data(x=[846, 6], edge_index=[2, 45402], y=[846], s=68),\n",
       " Data(x=[1735, 6], edge_index=[2, 137650], y=[1735], s=91),\n",
       " Data(x=[104, 6], edge_index=[2, 1808], y=[104], s=24),\n",
       " Data(x=[1027, 6], edge_index=[2, 61324], y=[1027], s=75),\n",
       " Data(x=[1419, 6], edge_index=[2, 100308], y=[1419], s=86),\n",
       " Data(x=[79, 6], edge_index=[2, 1202], y=[79], s=19),\n",
       " Data(x=[1934, 6], edge_index=[2, 160078], y=[1934], s=98),\n",
       " Data(x=[186, 6], edge_index=[2, 4576], y=[186], s=29),\n",
       " Data(x=[72, 6], edge_index=[2, 1024], y=[72], s=20),\n",
       " Data(x=[556, 6], edge_index=[2, 24090], y=[556], s=54),\n",
       " Data(x=[2933, 6], edge_index=[2, 301018], y=[2933], s=126),\n",
       " Data(x=[2697, 6], edge_index=[2, 264922], y=[2697], s=117),\n",
       " Data(x=[234, 6], edge_index=[2, 6650], y=[234], s=32),\n",
       " Data(x=[56, 6], edge_index=[2, 672], y=[56], s=18),\n",
       " Data(x=[4416, 6], edge_index=[2, 562876], y=[4416], s=150),\n",
       " Data(x=[70, 6], edge_index=[2, 1092], y=[70], s=16),\n",
       " Data(x=[2703, 6], edge_index=[2, 264330], y=[2703], s=120),\n",
       " Data(x=[55, 6], edge_index=[2, 720], y=[55], s=15),\n",
       " Data(x=[220, 6], edge_index=[2, 5758], y=[220], s=35),\n",
       " Data(x=[50, 6], edge_index=[2, 580], y=[50], s=16),\n",
       " Data(x=[365, 6], edge_index=[2, 12730], y=[365], s=48),\n",
       " Data(x=[1238, 6], edge_index=[2, 82094], y=[1238], s=77),\n",
       " Data(x=[551, 6], edge_index=[2, 24118], y=[551], s=54),\n",
       " Data(x=[174, 6], edge_index=[2, 4160], y=[174], s=28),\n",
       " Data(x=[1424, 6], edge_index=[2, 101948], y=[1424], s=83),\n",
       " Data(x=[2374, 6], edge_index=[2, 219840], y=[2374], s=115),\n",
       " Data(x=[455, 6], edge_index=[2, 17908], y=[455], s=49),\n",
       " Data(x=[2201, 6], edge_index=[2, 197290], y=[2201], s=101),\n",
       " Data(x=[1281, 6], edge_index=[2, 85738], y=[1281], s=81),\n",
       " Data(x=[319, 6], edge_index=[2, 10484], y=[319], s=43),\n",
       " Data(x=[250, 6], edge_index=[2, 7336], y=[250], s=32),\n",
       " Data(x=[538, 6], edge_index=[2, 23118], y=[538], s=54),\n",
       " Data(x=[1246, 6], edge_index=[2, 83264], y=[1246], s=77),\n",
       " Data(x=[70, 6], edge_index=[2, 968], y=[70], s=20),\n",
       " Data(x=[700, 6], edge_index=[2, 33918], y=[700], s=63),\n",
       " Data(x=[2207, 6], edge_index=[2, 196610], y=[2207], s=106),\n",
       " Data(x=[3982, 6], edge_index=[2, 481850], y=[3982], s=145),\n",
       " Data(x=[307, 6], edge_index=[2, 9842], y=[307], s=42),\n",
       " Data(x=[442, 6], edge_index=[2, 17110], y=[442], s=49),\n",
       " Data(x=[975, 6], edge_index=[2, 56248], y=[975], s=72),\n",
       " Data(x=[1252, 6], edge_index=[2, 84454], y=[1252], s=78),\n",
       " Data(x=[2817, 6], edge_index=[2, 281622], y=[2817], s=120),\n",
       " Data(x=[48, 6], edge_index=[2, 526], y=[48], s=16),\n",
       " Data(x=[273, 6], edge_index=[2, 8108], y=[273], s=36),\n",
       " Data(x=[226, 6], edge_index=[2, 6040], y=[226], s=34),\n",
       " Data(x=[2547, 6], edge_index=[2, 244492], y=[2547], s=120),\n",
       " Data(x=[90, 6], edge_index=[2, 1432], y=[90], s=22),\n",
       " Data(x=[438, 6], edge_index=[2, 16806], y=[438], s=49),\n",
       " Data(x=[544, 6], edge_index=[2, 23234], y=[544], s=56),\n",
       " Data(x=[2796, 6], edge_index=[2, 281108], y=[2796], s=117),\n",
       " Data(x=[1044, 6], edge_index=[2, 63030], y=[1044], s=74),\n",
       " Data(x=[86, 6], edge_index=[2, 1384], y=[86], s=20),\n",
       " Data(x=[3696, 6], edge_index=[2, 428448], y=[3696], s=139),\n",
       " Data(x=[361, 6], edge_index=[2, 12494], y=[361], s=44),\n",
       " Data(x=[3010, 6], edge_index=[2, 313544], y=[3010], s=128),\n",
       " Data(x=[48, 6], edge_index=[2, 604], y=[48], s=14),\n",
       " Data(x=[416, 6], edge_index=[2, 15738], y=[416], s=47),\n",
       " Data(x=[931, 6], edge_index=[2, 54394], y=[931], s=70),\n",
       " Data(x=[545, 6], edge_index=[2, 23744], y=[545], s=54),\n",
       " Data(x=[270, 6], edge_index=[2, 7964], y=[270], s=38),\n",
       " Data(x=[728, 6], edge_index=[2, 36802], y=[728], s=68),\n",
       " Data(x=[895, 6], edge_index=[2, 50354], y=[895], s=66),\n",
       " Data(x=[115, 6], edge_index=[2, 2228], y=[115], s=23),\n",
       " Data(x=[552, 6], edge_index=[2, 23712], y=[552], s=54),\n",
       " Data(x=[116, 6], edge_index=[2, 2152], y=[116], s=27),\n",
       " Data(x=[258, 6], edge_index=[2, 7636], y=[258], s=36),\n",
       " Data(x=[293, 6], edge_index=[2, 8922], y=[293], s=40),\n",
       " Data(x=[354, 6], edge_index=[2, 12286], y=[354], s=41),\n",
       " Data(x=[366, 6], edge_index=[2, 12704], y=[366], s=45),\n",
       " Data(x=[101, 6], edge_index=[2, 1774], y=[101], s=22),\n",
       " Data(x=[2825, 6], edge_index=[2, 285436], y=[2825], s=120),\n",
       " Data(x=[1127, 6], edge_index=[2, 71118], y=[1127], s=77),\n",
       " Data(x=[1810, 6], edge_index=[2, 146006], y=[1810], s=97),\n",
       " Data(x=[2814, 6], edge_index=[2, 283302], y=[2814], s=123),\n",
       " Data(x=[388, 6], edge_index=[2, 13892], y=[388], s=46),\n",
       " Data(x=[508, 6], edge_index=[2, 21046], y=[508], s=51),\n",
       " Data(x=[1712, 6], edge_index=[2, 133456], y=[1712], s=90),\n",
       " Data(x=[59, 6], edge_index=[2, 776], y=[59], s=16),\n",
       " Data(x=[196, 6], edge_index=[2, 4984], y=[196], s=30),\n",
       " Data(x=[2745, 6], edge_index=[2, 270860], y=[2745], s=117),\n",
       " Data(x=[201, 6], edge_index=[2, 5042], y=[201], s=31),\n",
       " Data(x=[314, 6], edge_index=[2, 10062], y=[314], s=43),\n",
       " Data(x=[322, 6], edge_index=[2, 10474], y=[322], s=43),\n",
       " Data(x=[492, 6], edge_index=[2, 19962], y=[492], s=50),\n",
       " Data(x=[972, 6], edge_index=[2, 56498], y=[972], s=72),\n",
       " Data(x=[778, 6], edge_index=[2, 40628], y=[778], s=64),\n",
       " Data(x=[183, 6], edge_index=[2, 4504], y=[183], s=29),\n",
       " Data(x=[2568, 6], edge_index=[2, 247538], y=[2568], s=113),\n",
       " Data(x=[330, 6], edge_index=[2, 10856], y=[330], s=43),\n",
       " Data(x=[1264, 6], edge_index=[2, 86080], y=[1264], s=80),\n",
       " Data(x=[2748, 6], edge_index=[2, 270590], y=[2748], s=119),\n",
       " Data(x=[2900, 6], edge_index=[2, 296238], y=[2900], s=123),\n",
       " Data(x=[303, 6], edge_index=[2, 9550], y=[303], s=43),\n",
       " Data(x=[459, 6], edge_index=[2, 18246], y=[459], s=49),\n",
       " Data(x=[552, 6], edge_index=[2, 23820], y=[552], s=54),\n",
       " Data(x=[544, 6], edge_index=[2, 23224], y=[544], s=55),\n",
       " Data(x=[42, 6], edge_index=[2, 444], y=[42], s=14),\n",
       " Data(x=[224, 6], edge_index=[2, 5978], y=[224], s=34),\n",
       " Data(x=[2744, 6], edge_index=[2, 272888], y=[2744], s=123),\n",
       " Data(x=[212, 6], edge_index=[2, 5572], y=[212], s=32),\n",
       " Data(x=[521, 6], edge_index=[2, 23652], y=[521], s=44),\n",
       " Data(x=[1045, 6], edge_index=[2, 62648], y=[1045], s=74),\n",
       " Data(x=[679, 6], edge_index=[2, 32664], y=[679], s=61),\n",
       " Data(x=[387, 6], edge_index=[2, 14186], y=[387], s=45),\n",
       " Data(x=[130, 6], edge_index=[2, 2784], y=[130], s=23),\n",
       " Data(x=[1115, 6], edge_index=[2, 70374], y=[1115], s=77),\n",
       " Data(x=[2398, 6], edge_index=[2, 223058], y=[2398], s=116),\n",
       " Data(x=[324, 6], edge_index=[2, 10628], y=[324], s=43),\n",
       " Data(x=[1090, 6], edge_index=[2, 67608], y=[1090], s=72),\n",
       " Data(x=[454, 6], edge_index=[2, 17890], y=[454], s=49),\n",
       " Data(x=[735, 6], edge_index=[2, 37202], y=[735], s=60),\n",
       " Data(x=[2715, 6], edge_index=[2, 265506], y=[2715], s=120),\n",
       " Data(x=[254, 6], edge_index=[2, 7388], y=[254], s=36),\n",
       " Data(x=[421, 6], edge_index=[2, 15696], y=[421], s=48),\n",
       " Data(x=[2763, 6], edge_index=[2, 274878], y=[2763], s=118),\n",
       " Data(x=[4535, 6], edge_index=[2, 587462], y=[4535], s=148),\n",
       " Data(x=[2088, 6], edge_index=[2, 183360], y=[2088], s=101),\n",
       " Data(x=[88, 6], edge_index=[2, 1452], y=[88], s=20),\n",
       " Data(x=[42, 6], edge_index=[2, 458], y=[42], s=14),\n",
       " Data(x=[634, 6], edge_index=[2, 29402], y=[634], s=60),\n",
       " Data(x=[3549, 6], edge_index=[2, 404644], y=[3549], s=128),\n",
       " Data(x=[450, 6], edge_index=[2, 17522], y=[450], s=49),\n",
       " Data(x=[2734, 6], edge_index=[2, 269118], y=[2734], s=120),\n",
       " Data(x=[1000, 6], edge_index=[2, 58894], y=[1000], s=73),\n",
       " Data(x=[2939, 6], edge_index=[2, 301744], y=[2939], s=124),\n",
       " Data(x=[48, 6], edge_index=[2, 538], y=[48], s=16),\n",
       " Data(x=[92, 6], edge_index=[2, 1578], y=[92], s=21),\n",
       " Data(x=[132, 6], edge_index=[2, 2752], y=[132], s=24),\n",
       " Data(x=[259, 6], edge_index=[2, 7652], y=[259], s=36),\n",
       " Data(x=[72, 6], edge_index=[2, 978], y=[72], s=20),\n",
       " Data(x=[138, 6], edge_index=[2, 2836], y=[138], s=26),\n",
       " Data(x=[1082, 6], edge_index=[2, 66092], y=[1082], s=74),\n",
       " Data(x=[748, 6], edge_index=[2, 37934], y=[748], s=63),\n",
       " Data(x=[288, 6], edge_index=[2, 8804], y=[288], s=43),\n",
       " Data(x=[36, 6], edge_index=[2, 360], y=[36], s=12),\n",
       " Data(x=[368, 6], edge_index=[2, 13048], y=[368], s=44),\n",
       " Data(x=[2037, 6], edge_index=[2, 174400], y=[2037], s=99),\n",
       " Data(x=[1664, 6], edge_index=[2, 128468], y=[1664], s=92),\n",
       " Data(x=[391, 6], edge_index=[2, 14028], y=[391], s=46),\n",
       " Data(x=[160, 6], edge_index=[2, 3640], y=[160], s=28),\n",
       " Data(x=[2208, 6], edge_index=[2, 196068], y=[2208], s=105),\n",
       " Data(x=[35, 6], edge_index=[2, 350], y=[35], s=12),\n",
       " Data(x=[418, 6], edge_index=[2, 15790], y=[418], s=47),\n",
       " Data(x=[754, 6], edge_index=[2, 38532], y=[754], s=63),\n",
       " Data(x=[260, 6], edge_index=[2, 7576], y=[260], s=36),\n",
       " Data(x=[351, 6], edge_index=[2, 12084], y=[351], s=43),\n",
       " Data(x=[1473, 6], edge_index=[2, 105800], y=[1473], s=89),\n",
       " Data(x=[741, 6], edge_index=[2, 37278], y=[741], s=62),\n",
       " Data(x=[354, 6], edge_index=[2, 11970], y=[354], s=45),\n",
       " Data(x=[16, 6], edge_index=[2, 96], y=[16], s=8),\n",
       " Data(x=[1547, 6], edge_index=[2, 114758], y=[1547], s=89),\n",
       " Data(x=[3039, 6], edge_index=[2, 315056], y=[3039], s=130),\n",
       " Data(x=[1454, 6], edge_index=[2, 104822], y=[1454], s=90),\n",
       " Data(x=[55, 6], edge_index=[2, 720], y=[55], s=15),\n",
       " Data(x=[1582, 6], edge_index=[2, 121996], y=[1582], s=80),\n",
       " Data(x=[118, 6], edge_index=[2, 2240], y=[118], s=26),\n",
       " Data(x=[2498, 6], edge_index=[2, 237924], y=[2498], s=118),\n",
       " Data(x=[2784, 6], edge_index=[2, 275854], y=[2784], s=120),\n",
       " Data(x=[112, 6], edge_index=[2, 2048], y=[112], s=24),\n",
       " Data(x=[116, 6], edge_index=[2, 2468], y=[116], s=20),\n",
       " Data(x=[2900, 6], edge_index=[2, 295610], y=[2900], s=123),\n",
       " Data(x=[45, 6], edge_index=[2, 494], y=[45], s=16),\n",
       " Data(x=[394, 6], edge_index=[2, 14748], y=[394], s=40),\n",
       " Data(x=[58, 6], edge_index=[2, 752], y=[58], s=16),\n",
       " Data(x=[1142, 6], edge_index=[2, 73098], y=[1142], s=77),\n",
       " Data(x=[451, 6], edge_index=[2, 17572], y=[451], s=49),\n",
       " Data(x=[1083, 6], edge_index=[2, 67968], y=[1083], s=75),\n",
       " Data(x=[2820, 6], edge_index=[2, 283776], y=[2820], s=118),\n",
       " Data(x=[454, 6], edge_index=[2, 17860], y=[454], s=49),\n",
       " Data(x=[2782, 6], edge_index=[2, 275796], y=[2782], s=120),\n",
       " Data(x=[1088, 6], edge_index=[2, 67454], y=[1088], s=73),\n",
       " Data(x=[118, 6], edge_index=[2, 2232], y=[118], s=26),\n",
       " Data(x=[1318, 6], edge_index=[2, 90516], y=[1318], s=81),\n",
       " Data(x=[812, 6], edge_index=[2, 43528], y=[812], s=63),\n",
       " Data(x=[544, 6], edge_index=[2, 23616], y=[544], s=54),\n",
       " Data(x=[319, 6], edge_index=[2, 10246], y=[319], s=44),\n",
       " Data(x=[2587, 6], edge_index=[2, 250436], y=[2587], s=120),\n",
       " Data(x=[437, 6], edge_index=[2, 16728], y=[437], s=49),\n",
       " Data(x=[2026, 6], edge_index=[2, 171922], y=[2026], s=100),\n",
       " Data(x=[456, 6], edge_index=[2, 17798], y=[456], s=49),\n",
       " Data(x=[36, 6], edge_index=[2, 356], y=[36], s=13),\n",
       " Data(x=[151, 6], edge_index=[2, 3292], y=[151], s=27),\n",
       " Data(x=[837, 6], edge_index=[2, 45440], y=[837], s=65),\n",
       " Data(x=[324, 6], edge_index=[2, 10590], y=[324], s=43),\n",
       " Data(x=[639, 6], edge_index=[2, 29760], y=[639], s=57),\n",
       " Data(x=[3858, 6], edge_index=[2, 457498], y=[3858], s=143),\n",
       " Data(x=[2395, 6], edge_index=[2, 223318], y=[2395], s=117),\n",
       " Data(x=[2677, 6], edge_index=[2, 260076], y=[2677], s=120),\n",
       " Data(x=[2016, 6], edge_index=[2, 170296], y=[2016], s=101),\n",
       " Data(x=[195, 6], edge_index=[2, 4928], y=[195], s=30),\n",
       " Data(x=[52, 6], edge_index=[2, 586], y=[52], s=18),\n",
       " Data(x=[169, 6], edge_index=[2, 3906], y=[169], s=29),\n",
       " Data(x=[567, 6], edge_index=[2, 24850], y=[567], s=54),\n",
       " Data(x=[1757, 6], edge_index=[2, 137618], y=[1757], s=94),\n",
       " Data(x=[572, 6], edge_index=[2, 25034], y=[572], s=58),\n",
       " Data(x=[2804, 6], edge_index=[2, 279996], y=[2804], s=120),\n",
       " Data(x=[248, 6], edge_index=[2, 7284], y=[248], s=33),\n",
       " Data(x=[1576, 6], edge_index=[2, 118478], y=[1576], s=87),\n",
       " Data(x=[113, 6], edge_index=[2, 2138], y=[113], s=23),\n",
       " Data(x=[1386, 6], edge_index=[2, 97932], y=[1386], s=82),\n",
       " Data(x=[2779, 6], edge_index=[2, 281684], y=[2779], s=120),\n",
       " Data(x=[1581, 6], edge_index=[2, 119878], y=[1581], s=88),\n",
       " Data(x=[539, 6], edge_index=[2, 22820], y=[539], s=54),\n",
       " Data(x=[239, 6], edge_index=[2, 6708], y=[239], s=35),\n",
       " Data(x=[3560, 6], edge_index=[2, 405412], y=[3560], s=142),\n",
       " Data(x=[37, 6], edge_index=[2, 362], y=[37], s=13),\n",
       " Data(x=[1274, 6], edge_index=[2, 85082], y=[1274], s=82),\n",
       " Data(x=[2742, 6], edge_index=[2, 272128], y=[2742], s=119),\n",
       " Data(x=[81, 6], edge_index=[2, 1246], y=[81], s=21),\n",
       " Data(x=[1131, 6], edge_index=[2, 72434], y=[1131], s=74),\n",
       " Data(x=[2000, 6], edge_index=[2, 168054], y=[2000], s=101),\n",
       " Data(x=[95, 6], edge_index=[2, 1656], y=[95], s=21),\n",
       " Data(x=[649, 6], edge_index=[2, 30476], y=[649], s=58),\n",
       " Data(x=[1224, 6], edge_index=[2, 79974], y=[1224], s=77),\n",
       " Data(x=[2328, 6], edge_index=[2, 212784], y=[2328], s=115),\n",
       " Data(x=[2558, 6], edge_index=[2, 243914], y=[2558], s=117),\n",
       " Data(x=[72, 6], edge_index=[2, 1088], y=[72], s=17),\n",
       " Data(x=[294, 6], edge_index=[2, 9362], y=[294], s=38),\n",
       " Data(x=[338, 6], edge_index=[2, 11386], y=[338], s=43),\n",
       " Data(x=[1286, 6], edge_index=[2, 87428], y=[1286], s=78),\n",
       " Data(x=[62, 6], edge_index=[2, 848], y=[62], s=16),\n",
       " Data(x=[459, 6], edge_index=[2, 18138], y=[459], s=49),\n",
       " Data(x=[170, 6], edge_index=[2, 4098], y=[170], s=29),\n",
       " Data(x=[2763, 6], edge_index=[2, 273096], y=[2763], s=120),\n",
       " Data(x=[148, 6], edge_index=[2, 3122], y=[148], s=27),\n",
       " Data(x=[2805, 6], edge_index=[2, 280458], y=[2805], s=119),\n",
       " Data(x=[829, 6], edge_index=[2, 44528], y=[829], s=69),\n",
       " Data(x=[540, 6], edge_index=[2, 23004], y=[540], s=54),\n",
       " Data(x=[336, 6], edge_index=[2, 11220], y=[336], s=43),\n",
       " Data(x=[1868, 6], edge_index=[2, 154032], y=[1868], s=100),\n",
       " Data(x=[332, 6], edge_index=[2, 10836], y=[332], s=42),\n",
       " Data(x=[459, 6], edge_index=[2, 18282], y=[459], s=49),\n",
       " Data(x=[50, 6], edge_index=[2, 576], y=[50], s=16),\n",
       " Data(x=[547, 6], edge_index=[2, 23458], y=[547], s=55),\n",
       " Data(x=[119, 6], edge_index=[2, 2276], y=[119], s=24),\n",
       " Data(x=[2514, 6], edge_index=[2, 239976], y=[2514], s=118),\n",
       " Data(x=[27, 6], edge_index=[2, 244], y=[27], s=10),\n",
       " Data(x=[2729, 6], edge_index=[2, 267522], y=[2729], s=120),\n",
       " Data(x=[338, 6], edge_index=[2, 11370], y=[338], s=43),\n",
       " Data(x=[196, 6], edge_index=[2, 4882], y=[196], s=32),\n",
       " Data(x=[310, 6], edge_index=[2, 9756], y=[310], s=41),\n",
       " Data(x=[560, 6], edge_index=[2, 24332], y=[560], s=55),\n",
       " Data(x=[566, 6], edge_index=[2, 24968], y=[566], s=54),\n",
       " Data(x=[159, 6], edge_index=[2, 3610], y=[159], s=27),\n",
       " Data(x=[52, 6], edge_index=[2, 610], y=[52], s=17),\n",
       " Data(x=[1185, 6], edge_index=[2, 76338], y=[1185], s=78),\n",
       " Data(x=[2002, 6], edge_index=[2, 169328], y=[2002], s=102),\n",
       " Data(x=[2634, 6], edge_index=[2, 255442], y=[2634], s=124),\n",
       " Data(x=[2246, 6], edge_index=[2, 204260], y=[2246], s=110),\n",
       " Data(x=[81, 6], edge_index=[2, 1338], y=[81], s=19),\n",
       " Data(x=[635, 6], edge_index=[2, 29828], y=[635], s=56),\n",
       " Data(x=[1306, 6], edge_index=[2, 88796], y=[1306], s=82),\n",
       " Data(x=[864, 6], edge_index=[2, 46932], y=[864], s=68),\n",
       " Data(x=[206, 6], edge_index=[2, 5530], y=[206], s=30),\n",
       " ...]"
      ]
     },
     "execution_count": 3,
     "metadata": {},
     "output_type": "execute_result"
    }
   ],
   "source": [
    "dataset = list(filter(lambda x: x.s.item() <= 150, dataset))"
   ]
  },
  {
   "cell_type": "code",
   "execution_count": 4,
   "id": "62d7b12d",
   "metadata": {},
   "outputs": [],
   "source": [
    "train_data, val_data, test_data = dataset[0:655], dataset[655:873], dataset[873:]"
   ]
  },
  {
   "cell_type": "code",
   "execution_count": 5,
   "id": "76eb08f1",
   "metadata": {},
   "outputs": [],
   "source": [
    "def del_nucl_conn(y_pr, y_tr):    \n",
    "    y_tr_local = torch.clone(y_tr)\n",
    "    y_tr_local[(y_tr_local == 1)] = 0\n",
    "    y_pr = y_pr + y_tr_local\n",
    "    y_pr[(y_pr < 0)] = 0\n",
    "    y_tr_local1 = torch.clone(y_tr)\n",
    "    y_tr_local1[(y_tr_local1 == -1)] = 0\n",
    "    return y_pr, y_tr_local1\n",
    "\n",
    "\n",
    "def del_main_diag(y):\n",
    "    main_diag = torch.ones([1, y.size()[0]])\n",
    "    return y * (torch.diag_embed(main_diag).to(device) - 1)[0] * (-1)\n",
    "\n",
    "\n",
    "def adj_mat_split(y):\n",
    "    y = list(torch.split(y, 196, dim=0))\n",
    "    for i in range(len(y)):\n",
    "        y[i] = torch.split(y[i], 196, dim=1)\n",
    "    \n",
    "    y1 = []\n",
    "    for i in range(len(y)):\n",
    "        y1.append(argm(y[i][i]))\n",
    "    return torch.cat(y1, 0).to(device)\n",
    "    \n",
    "\n",
    "def argm(y):\n",
    "    max_ind = torch.argmax(y, dim=1)\n",
    "    y1 = torch.zeros_like(y)\n",
    "    k = 0\n",
    "    for i in max_ind:\n",
    "        y1[k][i] = 1.\n",
    "        y1[i][k] = 1.\n",
    "        k += 1\n",
    "    \n",
    "    return y1 * y\n"
   ]
  },
  {
   "cell_type": "code",
   "execution_count": 6,
   "id": "5803bd63",
   "metadata": {},
   "outputs": [],
   "source": [
    "a = 0.05\n",
    "beta = 1\n",
    "def precision(y_pred, y_true):\n",
    "    y_pred, y_true = del_nucl_conn(y_pred, y_true)\n",
    "    y_pred[(y_pred > a)] = 1\n",
    "    y_pred[(y_pred <= a)] = 0 \n",
    "#     y_pred = argm(y_pred)\n",
    "    tp = torch.sum(y_pred * y_true)\n",
    "    fp = torch.sum((1 - y_true) * y_pred)\n",
    "    \n",
    "    return tp / (tp + fp + epsilon)\n",
    "\n",
    "def recall(y_pred, y_true):\n",
    "    y_pred, y_true = del_nucl_conn(y_pred, y_true)\n",
    "    y_pred[(y_pred > a)] = 1\n",
    "    y_pred[(y_pred <= a)] = 0 \n",
    "#     y_pred = argm(y_pred)\n",
    "#     y_pred = adj_mat_split(y_pred)\n",
    "\n",
    "    tp = torch.sum(y_pred * y_true)\n",
    "    fn = torch.sum(y_true * (1 - y_pred))\n",
    "    \n",
    "    return tp / (tp + fn + epsilon)\n",
    "\n",
    "def f_loss(y_pred, y_true):\n",
    "    y_pred, y_true = del_nucl_conn(y_pred, y_true)\n",
    "    \n",
    "    tp = torch.sum(y_pred * y_true)\n",
    "    fn = torch.sum(y_true * (1 - y_pred))\n",
    "    fp = torch.sum((1 - y_true) * y_pred)\n",
    "    precision = tp / (tp + fp + epsilon)\n",
    "    recall = tp / (tp + fn + epsilon)\n",
    "\n",
    "    k1 = 1 - torch.abs(precision - recall)\n",
    "\n",
    "    f1 = ((1 + beta * beta) * precision * recall) / (beta * beta * precision + recall + epsilon)\n",
    "    \n",
    "    \n",
    "    dp = abs(torch.mean(y_pred) - torch.mean(y_true))\n",
    "\n",
    "    return (1 - f1)\n",
    "#     return dp\n",
    "\n",
    "def mse_loss(y_pred, y_true):\n",
    "    y_pred, y_true = del_nucl_conn(y_pred, y_true)\n",
    "    \n",
    "    return torch.mean((y_pred - y_true) ** 2)"
   ]
  },
  {
   "cell_type": "code",
   "execution_count": 10,
   "id": "2783e7a0",
   "metadata": {},
   "outputs": [],
   "source": [
    "class DeepGCNModel(torch.nn.Module):\n",
    "    def __init__(self, num_blocks, hidden_channels, num_layers, dr, mlp):\n",
    "        super(DeepGCNModel, self).__init__()\n",
    "        self.layers = torch.nn.ModuleList()\n",
    "        gat1 = GAT(6, hidden_channels, num_layers=num_layers)\n",
    "        layer = DeepGCNLayer(gat1, block='res', act=torch.tanh, dropout=dr)\n",
    "        self.layers.append(layer)\n",
    "        for i in range(1, num_blocks):\n",
    "            conv = GatedGraphConv(hidden_channels, num_layers=num_layers, act='tanh')            \n",
    "\n",
    "            layer = DeepGCNLayer(conv, block='res', act=torch.tanh, dropout=dr)\n",
    "            self.layers.append(layer)\n",
    "            \n",
    "            \n",
    "        self.mlp = MLP(hidden_channels, mlp, dropout=dr)\n",
    "\n",
    "        \n",
    "    def forward(self, x, edge_index):\n",
    "        x = self.layers[0].conv(x, edge_index)\n",
    "        for layer in self.layers[1:]:\n",
    "            x = layer(x, edge_index)\n",
    "        \n",
    "        x = self.mlp(x)\n",
    "        \n",
    "        return x.sigmoid()\n"
   ]
  },
  {
   "cell_type": "code",
   "execution_count": 19,
   "id": "879a47b8",
   "metadata": {},
   "outputs": [
    {
     "name": "stdout",
     "output_type": "stream",
     "text": [
      "cuda\n"
     ]
    }
   ],
   "source": [
    "num_blocks = 1\n",
    "num_layers = 2\n",
    "hidden_channels = 250\n",
    "\n",
    "dr = 0.2\n",
    "\n",
    "\n",
    "lr = 0.0001\n",
    "epochs = 1500\n",
    "mlp = [200, 150, 100, 50, 10, 1]\n",
    "\n",
    "\n",
    "model = DeepGCNModel(num_blocks, hidden_channels, num_layers, dr,mlp)\n",
    "# model = torch.load(\"./models1/ResGATConv__MSE_mlp_[200, 150, 100, 50, 10, 1]_1*2_0.0001_Adam_250_0.05_0.2_1_1500.pt\")\n",
    "\n",
    "device = torch.device('cuda' if torch.cuda.is_available() else 'cpu')\n",
    "model = model.to(device)\n",
    "train_data = list(map(lambda x: x.to(device), train_data))\n",
    "val_data = list(map(lambda x: x.to(device), val_data))\n",
    "print(device)\n",
    "\n",
    "optimizer = torch.optim.Adam(model.parameters(), lr=lr)\n",
    "# optimizer = torch.optim.Adagrad(model.parameters(), lr=lr)\n",
    "# optimizer = torch.optim.RMSprop(model.parameters(), lr=lr)\n",
    "#optimizer = torch.optim.Adamax(model.parameters(), lr=lr)\n",
    "# optimizer = torch.optim.Adadelta(model.parameters(), lr=lr)\n",
    "\n",
    "# optimizer = torch.optim.SGD(model.parameters(), lr=0.001)\n",
    "\n",
    "# criterion = torch.nn.BCELoss()\n",
    "# criterion = torch.nn.BCEWithLogitsLoss()\n",
    "# criterion = torch.nn.CrossEntropyLoss()\n",
    "# criterion = torch.nn.KLDivLoss()\n",
    "\n",
    "def RMSELoss(y_pred, y_true):\n",
    "    y_pred, y_true = del_nucl_conn(y_pred, y_true)\n",
    "\n",
    "    return torch.sqrt(torch.sum((y_pred - y_true) ** 2))\n",
    "\n",
    "criterion = mse_loss\n",
    "# criterion = RMSELoss\n",
    "\n",
    "epsilon = 1e-10"
   ]
  },
  {
   "cell_type": "code",
   "execution_count": 20,
   "id": "0ed948d8",
   "metadata": {},
   "outputs": [
    {
     "data": {
      "text/plain": [
       "DeepGCNModel(\n",
       "  (layers): ModuleList(\n",
       "    (0): DeepGCNLayer(block=res)\n",
       "  )\n",
       "  (mlp): MLP(\n",
       "    (0): Linear(in_features=250, out_features=200, bias=True)\n",
       "    (1): ReLU()\n",
       "    (2): Dropout(p=0.2, inplace=False)\n",
       "    (3): Linear(in_features=200, out_features=150, bias=True)\n",
       "    (4): ReLU()\n",
       "    (5): Dropout(p=0.2, inplace=False)\n",
       "    (6): Linear(in_features=150, out_features=100, bias=True)\n",
       "    (7): ReLU()\n",
       "    (8): Dropout(p=0.2, inplace=False)\n",
       "    (9): Linear(in_features=100, out_features=50, bias=True)\n",
       "    (10): ReLU()\n",
       "    (11): Dropout(p=0.2, inplace=False)\n",
       "    (12): Linear(in_features=50, out_features=10, bias=True)\n",
       "    (13): ReLU()\n",
       "    (14): Dropout(p=0.2, inplace=False)\n",
       "    (15): Linear(in_features=10, out_features=1, bias=True)\n",
       "    (16): Dropout(p=0.2, inplace=False)\n",
       "  )\n",
       ")"
      ]
     },
     "execution_count": 20,
     "metadata": {},
     "output_type": "execute_result"
    }
   ],
   "source": [
    "model"
   ]
  },
  {
   "cell_type": "code",
   "execution_count": 21,
   "id": "b5a874b3",
   "metadata": {},
   "outputs": [
    {
     "data": {
      "text/html": [
       "Finishing last run (ID:n0x74f8e) before initializing another..."
      ],
      "text/plain": [
       "<IPython.core.display.HTML object>"
      ]
     },
     "metadata": {},
     "output_type": "display_data"
    },
    {
     "data": {
      "text/html": [
       "Waiting for W&B process to finish... <strong style=\"color:green\">(success).</strong>"
      ],
      "text/plain": [
       "<IPython.core.display.HTML object>"
      ]
     },
     "metadata": {},
     "output_type": "display_data"
    },
    {
     "data": {
      "text/html": [
       "<style>\n",
       "    table.wandb td:nth-child(1) { padding: 0 10px; text-align: left ; width: auto;} td:nth-child(2) {text-align: left ; width: 100%}\n",
       "    .wandb-row { display: flex; flex-direction: row; flex-wrap: wrap; justify-content: flex-start; width: 100% }\n",
       "    .wandb-col { display: flex; flex-direction: column; flex-basis: 100%; flex: 1; padding: 10px; }\n",
       "    </style>\n",
       "<div class=\"wandb-row\"><div class=\"wandb-col\"><h3>Run history:</h3><br/><table class=\"wandb\"><tr><td>train_f1</td><td>▁▁▃█▇█▇█████████████████████████████████</td></tr><tr><td>train_loss</td><td>█▇▅▃▃▃▃▃▂▂▂▂▂▂▂▁▂▂▁▂▂▂▂▁▁▂▁▂▂▁▁▂▁▁▁▂▁▁▁▁</td></tr><tr><td>train_precision</td><td>▁▁▃█▇█▇██████▇██████████████████████████</td></tr><tr><td>train_recall</td><td>▁▂▃▆▆▇▇▇▇▇▇██▇██████▇█▇█████████████████</td></tr><tr><td>val_f1</td><td>▁▁▃▇▇█▇▇▇▇▇▇▇▇▇▇████▇▇▇█▇▇▇▇██▇▇██▇████▇</td></tr><tr><td>val_loss</td><td>█▅▆▃▃▂▂▃▃▃▃▃▂▃▃▃▃▂▂▂▃▃▂▂▃▄▃▄▃▂▃▂▂▁▃▄▃▃▃▄</td></tr><tr><td>val_precision</td><td>▁▁▃█▇█▇▇▇▇▇▇▇▇▇▇███▇▇▇▇█▇▇▇▇██▇▇██▇████▇</td></tr><tr><td>val_recall</td><td>▁▂▄▆▇▇▇▇▇▇▇▇▇▇██▇██▇▇██▇▇█████▇█▇▇▇████▇</td></tr></table><br/></div><div class=\"wandb-col\"><h3>Run summary:</h3><br/><table class=\"wandb\"><tr><td>train_f1</td><td>0.13358</td></tr><tr><td>train_loss</td><td>0.12203</td></tr><tr><td>train_precision</td><td>0.07234</td></tr><tr><td>train_recall</td><td>0.87046</td></tr><tr><td>val_f1</td><td>0.13097</td></tr><tr><td>val_loss</td><td>0.12628</td></tr><tr><td>val_precision</td><td>0.07085</td></tr><tr><td>val_recall</td><td>0.86513</td></tr></table><br/></div></div>"
      ],
      "text/plain": [
       "<IPython.core.display.HTML object>"
      ]
     },
     "metadata": {},
     "output_type": "display_data"
    },
    {
     "data": {
      "text/html": [
       " View run <strong style=\"color:#cdcd00\">ResGATConv__MSE_mlp_[200, 150, 100, 50, 10, 1]_1*2_0.0001_Adam_250_0.05_0.5_1</strong> at: <a href='https://wandb.ai/chi-vinny0702/secondary_structure_prediction1/runs/n0x74f8e' target=\"_blank\">https://wandb.ai/chi-vinny0702/secondary_structure_prediction1/runs/n0x74f8e</a><br/>Synced 5 W&B file(s), 0 media file(s), 0 artifact file(s) and 0 other file(s)"
      ],
      "text/plain": [
       "<IPython.core.display.HTML object>"
      ]
     },
     "metadata": {},
     "output_type": "display_data"
    },
    {
     "data": {
      "text/html": [
       "Find logs at: <code>./wandb/run-20230504_231131-n0x74f8e/logs</code>"
      ],
      "text/plain": [
       "<IPython.core.display.HTML object>"
      ]
     },
     "metadata": {},
     "output_type": "display_data"
    },
    {
     "data": {
      "text/html": [
       "Successfully finished last run (ID:n0x74f8e). Initializing new run:<br/>"
      ],
      "text/plain": [
       "<IPython.core.display.HTML object>"
      ]
     },
     "metadata": {},
     "output_type": "display_data"
    },
    {
     "data": {
      "text/html": [
       "wandb version 0.15.1 is available!  To upgrade, please run:\n",
       " $ pip install wandb --upgrade"
      ],
      "text/plain": [
       "<IPython.core.display.HTML object>"
      ]
     },
     "metadata": {},
     "output_type": "display_data"
    },
    {
     "data": {
      "text/html": [
       "Tracking run with wandb version 0.14.2"
      ],
      "text/plain": [
       "<IPython.core.display.HTML object>"
      ]
     },
     "metadata": {},
     "output_type": "display_data"
    },
    {
     "data": {
      "text/html": [
       "Run data is saved locally in <code>/home/vdshk/SecondaryStructurePredictionGNN/wandb/run-20230505_012513-vj87qhdi</code>"
      ],
      "text/plain": [
       "<IPython.core.display.HTML object>"
      ]
     },
     "metadata": {},
     "output_type": "display_data"
    },
    {
     "data": {
      "text/html": [
       "Syncing run <strong><a href='https://wandb.ai/chi-vinny0702/secondary_structure_prediction1/runs/vj87qhdi' target=\"_blank\">ResGATConv__MSE_mlp_[200, 150, 100, 50, 10, 1]_1*2_0.0001_Adam_250_0.05_0.2_1</a></strong> to <a href='https://wandb.ai/chi-vinny0702/secondary_structure_prediction1' target=\"_blank\">Weights & Biases</a> (<a href='https://wandb.me/run' target=\"_blank\">docs</a>)<br/>"
      ],
      "text/plain": [
       "<IPython.core.display.HTML object>"
      ]
     },
     "metadata": {},
     "output_type": "display_data"
    },
    {
     "data": {
      "text/html": [
       " View project at <a href='https://wandb.ai/chi-vinny0702/secondary_structure_prediction1' target=\"_blank\">https://wandb.ai/chi-vinny0702/secondary_structure_prediction1</a>"
      ],
      "text/plain": [
       "<IPython.core.display.HTML object>"
      ]
     },
     "metadata": {},
     "output_type": "display_data"
    },
    {
     "data": {
      "text/html": [
       " View run at <a href='https://wandb.ai/chi-vinny0702/secondary_structure_prediction1/runs/vj87qhdi' target=\"_blank\">https://wandb.ai/chi-vinny0702/secondary_structure_prediction1/runs/vj87qhdi</a>"
      ],
      "text/plain": [
       "<IPython.core.display.HTML object>"
      ]
     },
     "metadata": {},
     "output_type": "display_data"
    },
    {
     "data": {
      "text/html": [
       "<button onClick=\"this.nextSibling.style.display='block';this.style.display='none';\">Display W&B run</button><iframe src='https://wandb.ai/chi-vinny0702/secondary_structure_prediction1/runs/vj87qhdi?jupyter=true' style='border:none;width:100%;height:420px;display:none;'></iframe>"
      ],
      "text/plain": [
       "<wandb.sdk.wandb_run.Run at 0x7f649c56f670>"
      ]
     },
     "execution_count": 21,
     "metadata": {},
     "output_type": "execute_result"
    }
   ],
   "source": [
    "run_name = f'ResGATConv__MSE_mlp_{mlp}_{num_blocks}*{num_layers}_{lr}_Adam_{hidden_channels}_{a}_{dr}_{beta}'\n",
    "\n",
    "\n",
    "wandb.init(\n",
    "    # set the wandb project where this run will be logged\n",
    "    project=\"secondary_structure_prediction1\",\n",
    "    \n",
    "    # track hyperparameters and run metadata\n",
    "    config={\n",
    "    \"learning_rate\": lr,\n",
    "    \"architecture\": \"ResGATConv\",\n",
    "    \"epochs\": epochs,\n",
    "    \"optimizer\": \"Adam\",\n",
    "    \"out_channels\": hidden_channels,\n",
    "    \"loss\": \"MSE\",\n",
    "    \"beta\": beta,\n",
    "    \"train:val:test\": \"655:218:218\",\n",
    "    \"dataset\": 6\n",
    "    },\n",
    "    name=run_name\n",
    ")\n",
    "\n"
   ]
  },
  {
   "cell_type": "code",
   "execution_count": 22,
   "id": "281bdffb",
   "metadata": {},
   "outputs": [],
   "source": [
    "def train():\n",
    "    for epoch in range(1, epochs + 1):\n",
    "        model.train()\n",
    "        train_loss = []\n",
    "        train_recall = []\n",
    "        train_precision = []\n",
    "        for g in tqdm(train_data):\n",
    "\n",
    "            optimizer.zero_grad()\n",
    "\n",
    "            out = model(g.x, g.edge_index)\n",
    "            y_true = g.y.unsqueeze(dim=1)\n",
    "            loss = criterion(out, y_true)            \n",
    "            \n",
    "            loss.backward()\n",
    "            optimizer.step()\n",
    "            \n",
    "            train_loss.append(loss.item())\n",
    "            train_precision.append(precision(out, y_true).item())\n",
    "            train_recall.append(recall(out, y_true).item())\n",
    "            \n",
    "        train_prec = np.mean(train_precision)\n",
    "        train_rec = np.mean(train_recall)\n",
    "        train_f1 = (2 * train_prec * train_rec) / (train_prec + train_rec)\n",
    "        print(f'Epoch: {epoch:03d}, loss: {np.mean(train_loss)}, f1: {train_f1}, precision: {train_prec}, recall: {train_rec}')\n",
    "        \n",
    "        val_loss = []\n",
    "        val_recall = []\n",
    "        val_precision = []\n",
    "        with torch.no_grad():\n",
    "            for g in val_data:\n",
    "                g.to(device)\n",
    "                out = model(g.x, g.edge_index)\n",
    "        \n",
    "                y_true = g.y.unsqueeze(dim=1)\n",
    "                loss = criterion(out, y_true)\n",
    "                                \n",
    "                val_loss.append(loss.item())\n",
    "                                \n",
    "                val_precision.append(precision(out, y_true).item())\n",
    "                val_recall.append(recall(out, y_true).item())\n",
    " \n",
    "            \n",
    "            prec = np.mean(val_precision)\n",
    "            rec = np.mean(val_recall)\n",
    "            f1 = (2 * prec * rec) / (prec + rec)\n",
    "            print(f'val_loss: {np.mean(val_loss)}, val_f1: {f1}, val_precision: {prec}, val_recall: {rec}')\n",
    "              \n",
    "            wandb.log({\"train_loss\": np.mean(train_loss), \"train_f1\": train_f1, \"train_precision\": train_prec, \n",
    "                       \"train_recall\": train_rec,\n",
    "                       \"val_loss\": np.mean(val_loss), \"val_f1\": f1, \"val_precision\": prec, \"val_recall\": rec})\n",
    "#     wandb.finish()"
   ]
  },
  {
   "cell_type": "code",
   "execution_count": 23,
   "id": "43114294",
   "metadata": {},
   "outputs": [
    {
     "name": "stderr",
     "output_type": "stream",
     "text": [
      "100%|█████████████████████████████████████████| 655/655 [00:14<00:00, 46.30it/s]\n"
     ]
    },
    {
     "name": "stdout",
     "output_type": "stream",
     "text": [
      "Epoch: 001, loss: 0.08189552787492294, f1: 0.08489153291334466, precision: 0.04748974511762441, recall: 0.39963266418123516\n",
      "val_loss: 0.07341126829317403, val_f1: 0.08544279616043142, val_precision: 0.049341584720281426, val_recall: 0.31841118647417893\n"
     ]
    },
    {
     "name": "stderr",
     "output_type": "stream",
     "text": [
      "100%|█████████████████████████████████████████| 655/655 [00:14<00:00, 46.78it/s]\n"
     ]
    },
    {
     "name": "stdout",
     "output_type": "stream",
     "text": [
      "Epoch: 002, loss: 0.07319675129447274, f1: 0.08400715714276596, precision: 0.048014740657615865, recall: 0.33550766105870256\n",
      "val_loss: 0.07408668104251591, val_f1: 0.08016442826818661, val_precision: 0.046381296383840705, val_recall: 0.29513268437612494\n"
     ]
    },
    {
     "name": "stderr",
     "output_type": "stream",
     "text": [
      "100%|█████████████████████████████████████████| 655/655 [00:13<00:00, 46.92it/s]\n"
     ]
    },
    {
     "name": "stdout",
     "output_type": "stream",
     "text": [
      "Epoch: 003, loss: 0.0734225366463643, f1: 0.08513641752701714, precision: 0.04850308522901974, recall: 0.3478908903498686\n",
      "val_loss: 0.07401441133350407, val_f1: 0.08233840042514093, val_precision: 0.04793798206523574, val_recall: 0.29156921058893204\n"
     ]
    },
    {
     "name": "stderr",
     "output_type": "stream",
     "text": [
      "100%|█████████████████████████████████████████| 655/655 [00:14<00:00, 46.62it/s]\n"
     ]
    },
    {
     "name": "stdout",
     "output_type": "stream",
     "text": [
      "Epoch: 004, loss: 0.073662911935617, f1: 0.08121272243608414, precision: 0.04624991771473571, recall: 0.33277612550340535\n",
      "val_loss: 0.07392385393517827, val_f1: 0.082247119913595, val_precision: 0.04702839571042755, val_recall: 0.32752393654316936\n"
     ]
    },
    {
     "name": "stderr",
     "output_type": "stream",
     "text": [
      "100%|█████████████████████████████████████████| 655/655 [00:13<00:00, 46.81it/s]\n"
     ]
    },
    {
     "name": "stdout",
     "output_type": "stream",
     "text": [
      "Epoch: 005, loss: 0.07313698055293724, f1: 0.08465716722083048, precision: 0.04813793549591405, recall: 0.35074663536182343\n",
      "val_loss: 0.07313774428714853, val_f1: 0.07996809921229485, val_precision: 0.046515695090670515, val_recall: 0.28474997064320867\n"
     ]
    },
    {
     "name": "stderr",
     "output_type": "stream",
     "text": [
      "100%|█████████████████████████████████████████| 655/655 [00:13<00:00, 47.04it/s]\n"
     ]
    },
    {
     "name": "stdout",
     "output_type": "stream",
     "text": [
      "Epoch: 006, loss: 0.07303801595823456, f1: 0.08362709469888642, precision: 0.047583240704283915, recall: 0.34484052546037974\n",
      "val_loss: 0.0737071768850635, val_f1: 0.08471043214066044, val_precision: 0.04887649420448024, val_recall: 0.3174491917389795\n"
     ]
    },
    {
     "name": "stderr",
     "output_type": "stream",
     "text": [
      "100%|█████████████████████████████████████████| 655/655 [00:13<00:00, 46.95it/s]\n"
     ]
    },
    {
     "name": "stdout",
     "output_type": "stream",
     "text": [
      "Epoch: 007, loss: 0.07291395095468478, f1: 0.0825769768171009, precision: 0.04702155848374974, recall: 0.3386403876008423\n",
      "val_loss: 0.07389038802902086, val_f1: 0.08527323388134778, val_precision: 0.04935195539232104, val_recall: 0.3133424223494639\n"
     ]
    },
    {
     "name": "stderr",
     "output_type": "stream",
     "text": [
      "100%|█████████████████████████████████████████| 655/655 [00:14<00:00, 46.56it/s]\n"
     ]
    },
    {
     "name": "stdout",
     "output_type": "stream",
     "text": [
      "Epoch: 008, loss: 0.07304998783551099, f1: 0.08424499847101025, precision: 0.04785041082330503, recall: 0.3518872214467016\n",
      "val_loss: 0.07335683424880199, val_f1: 0.08439261257504249, val_precision: 0.048466265838648784, val_recall: 0.3261739380076664\n"
     ]
    },
    {
     "name": "stderr",
     "output_type": "stream",
     "text": [
      "100%|█████████████████████████████████████████| 655/655 [00:13<00:00, 46.91it/s]\n"
     ]
    },
    {
     "name": "stdout",
     "output_type": "stream",
     "text": [
      "Epoch: 009, loss: 0.07298221762739975, f1: 0.0849408678833126, precision: 0.04818217270218462, recall: 0.3582652969101003\n",
      "val_loss: 0.0733459447809589, val_f1: 0.08730084596489936, val_precision: 0.04973165207935514, val_recall: 0.3569685690651793\n"
     ]
    },
    {
     "name": "stderr",
     "output_type": "stream",
     "text": [
      "100%|█████████████████████████████████████████| 655/655 [00:13<00:00, 46.96it/s]\n"
     ]
    },
    {
     "name": "stdout",
     "output_type": "stream",
     "text": [
      "Epoch: 010, loss: 0.0733219405906346, f1: 0.08455198393803763, precision: 0.047803468448429844, recall: 0.3656169421515847\n",
      "val_loss: 0.0731310638505111, val_f1: 0.0879848286533204, val_precision: 0.05026448218348445, val_recall: 0.352556122894134\n"
     ]
    },
    {
     "name": "stderr",
     "output_type": "stream",
     "text": [
      "100%|█████████████████████████████████████████| 655/655 [00:13<00:00, 47.03it/s]\n"
     ]
    },
    {
     "name": "stdout",
     "output_type": "stream",
     "text": [
      "Epoch: 011, loss: 0.07372443851168829, f1: 0.08376837422953069, precision: 0.04733687856746482, recall: 0.3636124832200185\n",
      "val_loss: 0.07390228469232353, val_f1: 0.08714316088908543, val_precision: 0.04924073848241103, val_recall: 0.378450694724644\n"
     ]
    },
    {
     "name": "stderr",
     "output_type": "stream",
     "text": [
      "100%|█████████████████████████████████████████| 655/655 [00:13<00:00, 46.90it/s]\n"
     ]
    },
    {
     "name": "stdout",
     "output_type": "stream",
     "text": [
      "Epoch: 012, loss: 0.07315742448541045, f1: 0.08577732092248642, precision: 0.04852900259793942, recall: 0.36901022393739863\n",
      "val_loss: 0.07341163988233707, val_f1: 0.08422132266742476, val_precision: 0.04819872144421716, val_recall: 0.3333869900451888\n"
     ]
    },
    {
     "name": "stderr",
     "output_type": "stream",
     "text": [
      "100%|█████████████████████████████████████████| 655/655 [00:13<00:00, 46.79it/s]\n"
     ]
    },
    {
     "name": "stdout",
     "output_type": "stream",
     "text": [
      "Epoch: 013, loss: 0.07240683162826618, f1: 0.09004335621738367, precision: 0.05106501960913644, recall: 0.3804241205444773\n",
      "val_loss: 0.07307753894785675, val_f1: 0.09551465931715909, val_precision: 0.05366247706542458, val_recall: 0.43399028524483013\n"
     ]
    },
    {
     "name": "stderr",
     "output_type": "stream",
     "text": [
      "100%|█████████████████████████████████████████| 655/655 [00:14<00:00, 46.76it/s]\n"
     ]
    },
    {
     "name": "stdout",
     "output_type": "stream",
     "text": [
      "Epoch: 014, loss: 0.07220442383230187, f1: 0.0983901252997284, precision: 0.05625331450044, recall: 0.3920780087899388\n",
      "val_loss: 0.07294582006512979, val_f1: 0.0999223608165021, val_precision: 0.05650417605167204, val_recall: 0.4314560924972826\n"
     ]
    },
    {
     "name": "stderr",
     "output_type": "stream",
     "text": [
      "100%|█████████████████████████████████████████| 655/655 [00:14<00:00, 46.75it/s]\n"
     ]
    },
    {
     "name": "stdout",
     "output_type": "stream",
     "text": [
      "Epoch: 015, loss: 0.07245286227637575, f1: 0.09869407818831741, precision: 0.05653918607281308, recall: 0.3879288665495301\n",
      "val_loss: 0.07258575298575633, val_f1: 0.10378106532825157, val_precision: 0.059330258860227164, val_recall: 0.41381613438555953\n"
     ]
    },
    {
     "name": "stderr",
     "output_type": "stream",
     "text": [
      "100%|█████████████████████████████████████████| 655/655 [00:13<00:00, 46.88it/s]\n"
     ]
    },
    {
     "name": "stdout",
     "output_type": "stream",
     "text": [
      "Epoch: 016, loss: 0.07214467856492705, f1: 0.10192944519899433, precision: 0.05876439585215377, recall: 0.38397905095729207\n",
      "val_loss: 0.07330423111625768, val_f1: 0.10029353640905614, val_precision: 0.056976529185386766, val_recall: 0.4183438937564235\n"
     ]
    },
    {
     "name": "stderr",
     "output_type": "stream",
     "text": [
      "100%|█████████████████████████████████████████| 655/655 [00:14<00:00, 46.78it/s]\n"
     ]
    },
    {
     "name": "stdout",
     "output_type": "stream",
     "text": [
      "Epoch: 017, loss: 0.07214686549801863, f1: 0.104016985688512, precision: 0.05998787739676715, recall: 0.390992447074133\n",
      "val_loss: 0.0730958488863816, val_f1: 0.10685911298265735, val_precision: 0.06125424516605162, val_recall: 0.4182642004666252\n"
     ]
    },
    {
     "name": "stderr",
     "output_type": "stream",
     "text": [
      "100%|█████████████████████████████████████████| 655/655 [00:13<00:00, 46.82it/s]\n"
     ]
    },
    {
     "name": "stdout",
     "output_type": "stream",
     "text": [
      "Epoch: 018, loss: 0.0718748202078215, f1: 0.10514554882097074, precision: 0.06060131706354272, recall: 0.39683159305962895\n",
      "val_loss: 0.07252942305912666, val_f1: 0.10384358912856974, val_precision: 0.059606440747669395, val_recall: 0.40273466043242623\n"
     ]
    },
    {
     "name": "stderr",
     "output_type": "stream",
     "text": [
      "100%|█████████████████████████████████████████| 655/655 [00:13<00:00, 46.85it/s]\n"
     ]
    },
    {
     "name": "stdout",
     "output_type": "stream",
     "text": [
      "Epoch: 019, loss: 0.07225681787342515, f1: 0.10720100016970209, precision: 0.06185909353999976, recall: 0.4014822095973801\n",
      "val_loss: 0.07264817482151023, val_f1: 0.10733165390037881, val_precision: 0.061010575545695396, val_recall: 0.44578557683650505\n"
     ]
    },
    {
     "name": "stderr",
     "output_type": "stream",
     "text": [
      "100%|█████████████████████████████████████████| 655/655 [00:14<00:00, 46.71it/s]\n"
     ]
    },
    {
     "name": "stdout",
     "output_type": "stream",
     "text": [
      "Epoch: 020, loss: 0.0718295130281503, f1: 0.10707364556313356, precision: 0.06157785801231178, recall: 0.40998239369337797\n",
      "val_loss: 0.07195312056451215, val_f1: 0.10917375219945698, val_precision: 0.06195184283830021, val_recall: 0.4591680708418199\n"
     ]
    },
    {
     "name": "stderr",
     "output_type": "stream",
     "text": [
      "100%|█████████████████████████████████████████| 655/655 [00:13<00:00, 46.81it/s]\n"
     ]
    },
    {
     "name": "stdout",
     "output_type": "stream",
     "text": [
      "Epoch: 021, loss: 0.07215738691218937, f1: 0.10580651081238383, precision: 0.060930712768836444, recall: 0.4015509412346678\n",
      "val_loss: 0.07262210144635735, val_f1: 0.10423734275919667, val_precision: 0.05937147080159208, val_recall: 0.42664383722623006\n"
     ]
    },
    {
     "name": "stderr",
     "output_type": "stream",
     "text": [
      "100%|█████████████████████████████████████████| 655/655 [00:13<00:00, 46.90it/s]\n"
     ]
    },
    {
     "name": "stdout",
     "output_type": "stream",
     "text": [
      "Epoch: 022, loss: 0.07201012595919253, f1: 0.10466392235028607, precision: 0.060215765287929025, recall: 0.39970667029496365\n",
      "val_loss: 0.07226159695296659, val_f1: 0.1101956547954697, val_precision: 0.06326032652404295, val_recall: 0.4270146309372482\n"
     ]
    },
    {
     "name": "stderr",
     "output_type": "stream",
     "text": [
      "100%|█████████████████████████████████████████| 655/655 [00:13<00:00, 46.92it/s]\n"
     ]
    },
    {
     "name": "stdout",
     "output_type": "stream",
     "text": [
      "Epoch: 023, loss: 0.07143038311646185, f1: 0.10810612089839497, precision: 0.062484116190760074, recall: 0.4005972458376684\n",
      "val_loss: 0.07282273196230787, val_f1: 0.10635833018202007, val_precision: 0.06092388745730555, val_recall: 0.41833410106189206\n"
     ]
    },
    {
     "name": "stderr",
     "output_type": "stream",
     "text": [
      "100%|█████████████████████████████████████████| 655/655 [00:13<00:00, 46.90it/s]\n"
     ]
    },
    {
     "name": "stdout",
     "output_type": "stream",
     "text": [
      "Epoch: 024, loss: 0.07166503471898214, f1: 0.1067911971292984, precision: 0.06158618777421595, recall: 0.40148898636964897\n",
      "val_loss: 0.07265006588481435, val_f1: 0.1057026215766332, val_precision: 0.05958177133488956, val_recall: 0.4678691290660736\n"
     ]
    },
    {
     "name": "stderr",
     "output_type": "stream",
     "text": [
      "100%|█████████████████████████████████████████| 655/655 [00:13<00:00, 46.82it/s]\n"
     ]
    },
    {
     "name": "stdout",
     "output_type": "stream",
     "text": [
      "Epoch: 025, loss: 0.07197922748577504, f1: 0.10617490751933036, precision: 0.061059147877021484, recall: 0.40662306428296874\n",
      "val_loss: 0.07286634174850556, val_f1: 0.10928001484760777, val_precision: 0.06292945002590161, val_recall: 0.4148005820947503\n"
     ]
    },
    {
     "name": "stderr",
     "output_type": "stream",
     "text": [
      "100%|█████████████████████████████████████████| 655/655 [00:13<00:00, 46.85it/s]\n"
     ]
    },
    {
     "name": "stdout",
     "output_type": "stream",
     "text": [
      "Epoch: 026, loss: 0.07203584588097252, f1: 0.10785703031098694, precision: 0.06230352448605229, recall: 0.40118600850114383\n",
      "val_loss: 0.07265942878679398, val_f1: 0.1066804597009761, val_precision: 0.06062457843153917, val_recall: 0.4439283639636882\n"
     ]
    },
    {
     "name": "stderr",
     "output_type": "stream",
     "text": [
      "100%|█████████████████████████████████████████| 655/655 [00:13<00:00, 46.90it/s]\n"
     ]
    },
    {
     "name": "stdout",
     "output_type": "stream",
     "text": [
      "Epoch: 027, loss: 0.07164753981446492, f1: 0.10534964554947453, precision: 0.06073271667545675, recall: 0.39701256022027887\n",
      "val_loss: 0.07316303897409811, val_f1: 0.10626310125262835, val_precision: 0.06068125931511915, val_recall: 0.42704818613075335\n"
     ]
    },
    {
     "name": "stderr",
     "output_type": "stream",
     "text": [
      "100%|█████████████████████████████████████████| 655/655 [00:13<00:00, 46.95it/s]\n"
     ]
    },
    {
     "name": "stdout",
     "output_type": "stream",
     "text": [
      "Epoch: 028, loss: 0.07164189665940882, f1: 0.10905670853041706, precision: 0.06298314548623642, recall: 0.4062036755288603\n",
      "val_loss: 0.07220094628768776, val_f1: 0.10701024149788653, val_precision: 0.061471394719256924, val_recall: 0.41286985726531494\n"
     ]
    },
    {
     "name": "stderr",
     "output_type": "stream",
     "text": [
      "100%|█████████████████████████████████████████| 655/655 [00:13<00:00, 46.85it/s]\n"
     ]
    },
    {
     "name": "stdout",
     "output_type": "stream",
     "text": [
      "Epoch: 029, loss: 0.07179254876975795, f1: 0.1073500754993067, precision: 0.06177365656245414, recall: 0.40941590468278366\n",
      "val_loss: 0.07227532340025683, val_f1: 0.10786578461462407, val_precision: 0.06178387633840972, val_recall: 0.42442872583729413\n"
     ]
    },
    {
     "name": "stderr",
     "output_type": "stream",
     "text": [
      "100%|█████████████████████████████████████████| 655/655 [00:13<00:00, 46.86it/s]\n"
     ]
    },
    {
     "name": "stdout",
     "output_type": "stream",
     "text": [
      "Epoch: 030, loss: 0.07209317718582754, f1: 0.10814354583730373, precision: 0.062340834474845126, recall: 0.40764957696540666\n",
      "val_loss: 0.07316978711532343, val_f1: 0.10931861495255712, val_precision: 0.06211439786914633, val_recall: 0.4554109732970732\n"
     ]
    },
    {
     "name": "stderr",
     "output_type": "stream",
     "text": [
      "100%|█████████████████████████████████████████| 655/655 [00:13<00:00, 46.83it/s]\n"
     ]
    },
    {
     "name": "stdout",
     "output_type": "stream",
     "text": [
      "Epoch: 031, loss: 0.07198064418239448, f1: 0.10680025643542584, precision: 0.061360044450719506, recall: 0.4116417993855385\n",
      "val_loss: 0.07312260185359815, val_f1: 0.10639022886572178, val_precision: 0.060686440498636474, val_recall: 0.4309279983948677\n"
     ]
    },
    {
     "name": "stderr",
     "output_type": "stream",
     "text": [
      "100%|█████████████████████████████████████████| 655/655 [00:14<00:00, 46.78it/s]\n"
     ]
    },
    {
     "name": "stdout",
     "output_type": "stream",
     "text": [
      "Epoch: 032, loss: 0.07180057037763923, f1: 0.10821937268748173, precision: 0.06235127941285836, recall: 0.40936359558965413\n",
      "val_loss: 0.07288460018232874, val_f1: 0.10768319289120834, val_precision: 0.061362443812225664, val_recall: 0.43929251261192176\n"
     ]
    },
    {
     "name": "stderr",
     "output_type": "stream",
     "text": [
      "100%|█████████████████████████████████████████| 655/655 [00:13<00:00, 46.79it/s]\n"
     ]
    },
    {
     "name": "stdout",
     "output_type": "stream",
     "text": [
      "Epoch: 033, loss: 0.07162576163656839, f1: 0.10742605126095922, precision: 0.061745297188607565, recall: 0.41290022460672693\n",
      "val_loss: 0.07256127600002726, val_f1: 0.11050634421242993, val_precision: 0.063589543147961, val_recall: 0.42146924052626716\n"
     ]
    },
    {
     "name": "stderr",
     "output_type": "stream",
     "text": [
      "100%|█████████████████████████████████████████| 655/655 [00:14<00:00, 46.73it/s]\n"
     ]
    },
    {
     "name": "stdout",
     "output_type": "stream",
     "text": [
      "Epoch: 034, loss: 0.0715974599976121, f1: 0.10779943415363254, precision: 0.06216866869287466, recall: 0.4052356101686263\n",
      "val_loss: 0.07297703823706972, val_f1: 0.10695356922030864, val_precision: 0.06204067162823342, val_recall: 0.38741001915699297\n"
     ]
    },
    {
     "name": "stderr",
     "output_type": "stream",
     "text": [
      "100%|█████████████████████████████████████████| 655/655 [00:13<00:00, 46.94it/s]\n"
     ]
    },
    {
     "name": "stdout",
     "output_type": "stream",
     "text": [
      "Epoch: 035, loss: 0.07143660028472201, f1: 0.11043029850371594, precision: 0.06363103821205388, recall: 0.4174719139649213\n",
      "val_loss: 0.07286481391809402, val_f1: 0.10724320099810382, val_precision: 0.06149832745309099, val_recall: 0.41865596780126246\n"
     ]
    },
    {
     "name": "stderr",
     "output_type": "stream",
     "text": [
      "100%|█████████████████████████████████████████| 655/655 [00:13<00:00, 46.88it/s]\n"
     ]
    },
    {
     "name": "stdout",
     "output_type": "stream",
     "text": [
      "Epoch: 036, loss: 0.07206625507874344, f1: 0.10736463886026809, precision: 0.06181816718974755, recall: 0.4078914325485248\n",
      "val_loss: 0.07325314280978583, val_f1: 0.10587228579292222, val_precision: 0.06075973162072958, val_recall: 0.4111138697064251\n"
     ]
    },
    {
     "name": "stderr",
     "output_type": "stream",
     "text": [
      "100%|█████████████████████████████████████████| 655/655 [00:14<00:00, 46.73it/s]\n"
     ]
    },
    {
     "name": "stdout",
     "output_type": "stream",
     "text": [
      "Epoch: 037, loss: 0.0715805868781705, f1: 0.11041413713272458, precision: 0.06364526903249665, recall: 0.416400243808295\n",
      "val_loss: 0.07285626287307215, val_f1: 0.10888780876485284, val_precision: 0.06306346515599433, val_recall: 0.39832902826163746\n"
     ]
    },
    {
     "name": "stderr",
     "output_type": "stream",
     "text": [
      "100%|█████████████████████████████████████████| 655/655 [00:13<00:00, 46.89it/s]\n"
     ]
    },
    {
     "name": "stdout",
     "output_type": "stream",
     "text": [
      "Epoch: 038, loss: 0.07203477032994496, f1: 0.10775357420892805, precision: 0.06205377219216401, recall: 0.40886192619516193\n",
      "val_loss: 0.07278723129575405, val_f1: 0.10989443156054006, val_precision: 0.06425378595077254, val_recall: 0.37936281322270904\n"
     ]
    },
    {
     "name": "stderr",
     "output_type": "stream",
     "text": [
      "100%|█████████████████████████████████████████| 655/655 [00:13<00:00, 46.93it/s]\n"
     ]
    },
    {
     "name": "stdout",
     "output_type": "stream",
     "text": [
      "Epoch: 039, loss: 0.07175450953477211, f1: 0.10890664844767982, precision: 0.06276767204750244, recall: 0.41108556789637524\n",
      "val_loss: 0.07247376819611143, val_f1: 0.11391578712758502, val_precision: 0.06681429610668826, val_recall: 0.3861045193337246\n"
     ]
    },
    {
     "name": "stderr",
     "output_type": "stream",
     "text": [
      "100%|█████████████████████████████████████████| 655/655 [00:13<00:00, 47.16it/s]\n"
     ]
    },
    {
     "name": "stdout",
     "output_type": "stream",
     "text": [
      "Epoch: 040, loss: 0.0715501660154066, f1: 0.10884776977255407, precision: 0.06279110940109284, recall: 0.40841931561363565\n",
      "val_loss: 0.07244218962796785, val_f1: 0.1104433382352975, val_precision: 0.06417043798564669, val_recall: 0.39598728560868207\n"
     ]
    },
    {
     "name": "stderr",
     "output_type": "stream",
     "text": [
      "100%|█████████████████████████████████████████| 655/655 [00:13<00:00, 47.23it/s]\n"
     ]
    },
    {
     "name": "stdout",
     "output_type": "stream",
     "text": [
      "Epoch: 041, loss: 0.07146445769276327, f1: 0.10816822290536511, precision: 0.06231105446687523, recall: 0.4096342965676129\n",
      "val_loss: 0.07261339385370048, val_f1: 0.11012706015346499, val_precision: 0.06414334043334964, val_recall: 0.38899036614788235\n"
     ]
    },
    {
     "name": "stderr",
     "output_type": "stream",
     "text": [
      "100%|█████████████████████████████████████████| 655/655 [00:13<00:00, 47.21it/s]\n"
     ]
    },
    {
     "name": "stdout",
     "output_type": "stream",
     "text": [
      "Epoch: 042, loss: 0.07129536486081495, f1: 0.10905523518409382, precision: 0.0628143816809561, recall: 0.4133240124651494\n",
      "val_loss: 0.07233536542487254, val_f1: 0.10758343321533519, val_precision: 0.06266405057042428, val_recall: 0.379923350938143\n"
     ]
    },
    {
     "name": "stderr",
     "output_type": "stream",
     "text": [
      "100%|█████████████████████████████████████████| 655/655 [00:13<00:00, 47.18it/s]\n"
     ]
    },
    {
     "name": "stdout",
     "output_type": "stream",
     "text": [
      "Epoch: 043, loss: 0.0715119066299828, f1: 0.10705013148169852, precision: 0.0615245443196498, recall: 0.41166499127982226\n",
      "val_loss: 0.07208964214959276, val_f1: 0.1093006076306203, val_precision: 0.06442388154164709, val_recall: 0.36023499252736024\n"
     ]
    },
    {
     "name": "stderr",
     "output_type": "stream",
     "text": [
      "100%|█████████████████████████████████████████| 655/655 [00:13<00:00, 47.26it/s]\n"
     ]
    },
    {
     "name": "stdout",
     "output_type": "stream",
     "text": [
      "Epoch: 044, loss: 0.0715427835706536, f1: 0.10682640806943348, precision: 0.06150707142882561, recall: 0.40589863854168934\n",
      "val_loss: 0.07279075471974841, val_f1: 0.1061105219011814, val_precision: 0.0619755708238691, val_recall: 0.3686116434667909\n"
     ]
    },
    {
     "name": "stderr",
     "output_type": "stream",
     "text": [
      "100%|█████████████████████████████████████████| 655/655 [00:13<00:00, 47.18it/s]\n"
     ]
    },
    {
     "name": "stdout",
     "output_type": "stream",
     "text": [
      "Epoch: 045, loss: 0.07127186839134639, f1: 0.10765516981232709, precision: 0.06197514342684441, recall: 0.4094444104221486\n",
      "val_loss: 0.07257221584473181, val_f1: 0.10482365068700526, val_precision: 0.06198343541740158, val_recall: 0.33940632414038574\n"
     ]
    },
    {
     "name": "stderr",
     "output_type": "stream",
     "text": [
      "100%|█████████████████████████████████████████| 655/655 [00:13<00:00, 47.17it/s]\n"
     ]
    },
    {
     "name": "stdout",
     "output_type": "stream",
     "text": [
      "Epoch: 046, loss: 0.0715388641500746, f1: 0.1031265161874122, precision: 0.059218658422980144, recall: 0.3988696654504947\n",
      "val_loss: 0.0728737080657701, val_f1: 0.10666646100441521, val_precision: 0.0625240002692583, val_recall: 0.3628212873131857\n"
     ]
    },
    {
     "name": "stderr",
     "output_type": "stream",
     "text": [
      "100%|█████████████████████████████████████████| 655/655 [00:13<00:00, 47.12it/s]\n"
     ]
    },
    {
     "name": "stdout",
     "output_type": "stream",
     "text": [
      "Epoch: 047, loss: 0.07103543946419963, f1: 0.10780604749341031, precision: 0.06214896538437038, recall: 0.40626253545682395\n",
      "val_loss: 0.07240244163490764, val_f1: 0.10575023808607475, val_precision: 0.060821119770664005, val_recall: 0.4047223324588406\n"
     ]
    },
    {
     "name": "stderr",
     "output_type": "stream",
     "text": [
      "100%|█████████████████████████████████████████| 655/655 [00:13<00:00, 47.16it/s]\n"
     ]
    },
    {
     "name": "stdout",
     "output_type": "stream",
     "text": [
      "Epoch: 048, loss: 0.07106333227671739, f1: 0.1061178561216905, precision: 0.06092007729395485, recall: 0.41118084681398087\n",
      "val_loss: 0.07214697235084455, val_f1: 0.10908193996490742, val_precision: 0.06364586229282303, val_recall: 0.3812573445670375\n"
     ]
    },
    {
     "name": "stderr",
     "output_type": "stream",
     "text": [
      "100%|█████████████████████████████████████████| 655/655 [00:13<00:00, 47.18it/s]\n"
     ]
    },
    {
     "name": "stdout",
     "output_type": "stream",
     "text": [
      "Epoch: 049, loss: 0.07083083967329891, f1: 0.10572971135376164, precision: 0.060752468210296666, recall: 0.4071790355250581\n",
      "val_loss: 0.07268137771875487, val_f1: 0.10993488007893319, val_precision: 0.06496324941276684, val_recall: 0.35723605598194885\n"
     ]
    },
    {
     "name": "stderr",
     "output_type": "stream",
     "text": [
      "100%|█████████████████████████████████████████| 655/655 [00:13<00:00, 47.19it/s]\n"
     ]
    },
    {
     "name": "stdout",
     "output_type": "stream",
     "text": [
      "Epoch: 050, loss: 0.07083555603869089, f1: 0.10397989639784123, precision: 0.05974175611382905, recall: 0.40067695688086613\n",
      "val_loss: 0.07273709878257108, val_f1: 0.11082081524266452, val_precision: 0.06478956805055089, val_recall: 0.3827652168212407\n"
     ]
    },
    {
     "name": "stderr",
     "output_type": "stream",
     "text": [
      "100%|█████████████████████████████████████████| 655/655 [00:13<00:00, 47.18it/s]\n"
     ]
    },
    {
     "name": "stdout",
     "output_type": "stream",
     "text": [
      "Epoch: 051, loss: 0.07126175573536458, f1: 0.10136512865573107, precision: 0.05806727786548436, recall: 0.39852575604583473\n",
      "val_loss: 0.07210057104057675, val_f1: 0.10712074327746747, val_precision: 0.061997061582504336, val_recall: 0.39358868003916847\n"
     ]
    },
    {
     "name": "stderr",
     "output_type": "stream",
     "text": [
      "100%|█████████████████████████████████████████| 655/655 [00:13<00:00, 47.11it/s]\n"
     ]
    },
    {
     "name": "stdout",
     "output_type": "stream",
     "text": [
      "Epoch: 052, loss: 0.07075154999171504, f1: 0.10581922516493959, precision: 0.06078615573106888, recall: 0.40832277427192865\n",
      "val_loss: 0.07267190257958862, val_f1: 0.10642322961435285, val_precision: 0.061554019808248026, val_recall: 0.39261924965871037\n"
     ]
    },
    {
     "name": "stderr",
     "output_type": "stream",
     "text": [
      "100%|█████████████████████████████████████████| 655/655 [00:13<00:00, 46.97it/s]\n"
     ]
    },
    {
     "name": "stdout",
     "output_type": "stream",
     "text": [
      "Epoch: 053, loss: 0.07086916782018793, f1: 0.10498614698964703, precision: 0.06016616895012842, recall: 0.41160795496392794\n",
      "val_loss: 0.07338191505624067, val_f1: 0.1041913924577188, val_precision: 0.06015126917665021, val_recall: 0.3890005424960491\n"
     ]
    },
    {
     "name": "stderr",
     "output_type": "stream",
     "text": [
      "100%|█████████████████████████████████████████| 655/655 [00:13<00:00, 47.27it/s]\n"
     ]
    },
    {
     "name": "stdout",
     "output_type": "stream",
     "text": [
      "Epoch: 054, loss: 0.0706555164383568, f1: 0.10374767994267002, precision: 0.05938721145289943, recall: 0.41002134804734747\n",
      "val_loss: 0.07297845311257817, val_f1: 0.10909570350372262, val_precision: 0.06352308230397694, val_recall: 0.38606781811547386\n"
     ]
    },
    {
     "name": "stderr",
     "output_type": "stream",
     "text": [
      "100%|█████████████████████████████████████████| 655/655 [00:13<00:00, 47.25it/s]\n"
     ]
    },
    {
     "name": "stdout",
     "output_type": "stream",
     "text": [
      "Epoch: 055, loss: 0.07081721509230957, f1: 0.10708183606393909, precision: 0.06165347037346365, recall: 0.4068982565164111\n",
      "val_loss: 0.07224763926426205, val_f1: 0.10813009106785748, val_precision: 0.06284778863843103, val_recall: 0.38688010272117107\n"
     ]
    },
    {
     "name": "stderr",
     "output_type": "stream",
     "text": [
      "100%|█████████████████████████████████████████| 655/655 [00:13<00:00, 47.31it/s]\n"
     ]
    },
    {
     "name": "stdout",
     "output_type": "stream",
     "text": [
      "Epoch: 056, loss: 0.07116897975784221, f1: 0.10528202673730233, precision: 0.060497177263920884, recall: 0.40536739808002503\n",
      "val_loss: 0.07336500281929423, val_f1: 0.10153380851575415, val_precision: 0.05871609303087782, val_recall: 0.3749859713257179\n"
     ]
    },
    {
     "name": "stderr",
     "output_type": "stream",
     "text": [
      "100%|█████████████████████████████████████████| 655/655 [00:13<00:00, 47.10it/s]\n"
     ]
    },
    {
     "name": "stdout",
     "output_type": "stream",
     "text": [
      "Epoch: 057, loss: 0.07118974473071463, f1: 0.10300658160122383, precision: 0.05897652177168554, recall: 0.4064486917335796\n",
      "val_loss: 0.07230557665365552, val_f1: 0.10912863200149779, val_precision: 0.06351273311857442, val_recall: 0.38727841967152893\n"
     ]
    },
    {
     "name": "stderr",
     "output_type": "stream",
     "text": [
      "100%|█████████████████████████████████████████| 655/655 [00:13<00:00, 47.30it/s]\n"
     ]
    },
    {
     "name": "stdout",
     "output_type": "stream",
     "text": [
      "Epoch: 058, loss: 0.07050473512015269, f1: 0.10451989540627377, precision: 0.060301400470469176, recall: 0.3918878996360848\n",
      "val_loss: 0.07250026727966759, val_f1: 0.10966199767340293, val_precision: 0.06384105934898172, val_recall: 0.3885067193640755\n"
     ]
    },
    {
     "name": "stderr",
     "output_type": "stream",
     "text": [
      "100%|█████████████████████████████████████████| 655/655 [00:13<00:00, 47.30it/s]\n"
     ]
    },
    {
     "name": "stdout",
     "output_type": "stream",
     "text": [
      "Epoch: 059, loss: 0.07097348477549226, f1: 0.10368520168254959, precision: 0.05952384995033552, recall: 0.40174080409280216\n",
      "val_loss: 0.07290677273423847, val_f1: 0.11393233786374467, val_precision: 0.06642937528902938, val_recall: 0.399888459781031\n"
     ]
    },
    {
     "name": "stderr",
     "output_type": "stream",
     "text": [
      "100%|█████████████████████████████████████████| 655/655 [00:13<00:00, 47.37it/s]\n"
     ]
    },
    {
     "name": "stdout",
     "output_type": "stream",
     "text": [
      "Epoch: 060, loss: 0.06960624307394028, f1: 0.10978706776424065, precision: 0.06326059473266128, recall: 0.4150319523654366\n",
      "val_loss: 0.07140320173780852, val_f1: 0.12271969135609022, val_precision: 0.07245752698028408, val_recall: 0.40062266636058824\n"
     ]
    },
    {
     "name": "stderr",
     "output_type": "stream",
     "text": [
      "100%|█████████████████████████████████████████| 655/655 [00:13<00:00, 47.27it/s]\n"
     ]
    },
    {
     "name": "stdout",
     "output_type": "stream",
     "text": [
      "Epoch: 061, loss: 0.06839060808411081, f1: 0.12563996840373012, precision: 0.07341058574979485, recall: 0.4354475821020039\n",
      "val_loss: 0.07074566016298368, val_f1: 0.13494698358477436, val_precision: 0.08105666205124638, val_recall: 0.40264355944930963\n"
     ]
    },
    {
     "name": "stderr",
     "output_type": "stream",
     "text": [
      "100%|█████████████████████████████████████████| 655/655 [00:13<00:00, 47.30it/s]\n"
     ]
    },
    {
     "name": "stdout",
     "output_type": "stream",
     "text": [
      "Epoch: 062, loss: 0.06836772260206346, f1: 0.1308420818707845, precision: 0.0772517240439179, recall: 0.42718481719493867\n",
      "val_loss: 0.07080143681565008, val_f1: 0.13350420820288803, val_precision: 0.07932655159020882, val_recall: 0.421109097198062\n"
     ]
    },
    {
     "name": "stderr",
     "output_type": "stream",
     "text": [
      "100%|█████████████████████████████████████████| 655/655 [00:13<00:00, 47.32it/s]\n"
     ]
    },
    {
     "name": "stdout",
     "output_type": "stream",
     "text": [
      "Epoch: 063, loss: 0.06762664358465727, f1: 0.1370723003839143, precision: 0.08153204881792304, recall: 0.42997355581694885\n",
      "val_loss: 0.06992245870514201, val_f1: 0.14346698672643338, val_precision: 0.08528321018386974, val_recall: 0.4514974499240928\n"
     ]
    },
    {
     "name": "stderr",
     "output_type": "stream",
     "text": [
      "100%|█████████████████████████████████████████| 655/655 [00:13<00:00, 47.27it/s]\n"
     ]
    },
    {
     "name": "stdout",
     "output_type": "stream",
     "text": [
      "Epoch: 064, loss: 0.06747720941673709, f1: 0.14862112556471013, precision: 0.0890161087963986, recall: 0.44981921344768\n",
      "val_loss: 0.06947840323005247, val_f1: 0.15353566267941615, val_precision: 0.09219929952080438, val_recall: 0.45866927191820167\n"
     ]
    },
    {
     "name": "stderr",
     "output_type": "stream",
     "text": [
      "100%|█████████████████████████████████████████| 655/655 [00:13<00:00, 47.24it/s]\n"
     ]
    },
    {
     "name": "stdout",
     "output_type": "stream",
     "text": [
      "Epoch: 065, loss: 0.06732057908564124, f1: 0.15677914256778247, precision: 0.0951219645954441, recall: 0.44563678880115504\n",
      "val_loss: 0.07079656941628237, val_f1: 0.14969626750827172, val_precision: 0.08933213903085935, val_recall: 0.4616363887598208\n"
     ]
    },
    {
     "name": "stderr",
     "output_type": "stream",
     "text": [
      "100%|█████████████████████████████████████████| 655/655 [00:13<00:00, 47.19it/s]\n"
     ]
    },
    {
     "name": "stdout",
     "output_type": "stream",
     "text": [
      "Epoch: 066, loss: 0.06695752379605334, f1: 0.16031232437350973, precision: 0.09726021784954911, recall: 0.4557986684541666\n",
      "val_loss: 0.06934420065527115, val_f1: 0.16044259208099707, val_precision: 0.09662051208919649, val_recall: 0.4726459289806972\n"
     ]
    },
    {
     "name": "stderr",
     "output_type": "stream",
     "text": [
      "100%|█████████████████████████████████████████| 655/655 [00:13<00:00, 47.37it/s]\n"
     ]
    },
    {
     "name": "stdout",
     "output_type": "stream",
     "text": [
      "Epoch: 067, loss: 0.06689329675704468, f1: 0.16350869773911228, precision: 0.09925321762570898, recall: 0.4637089570344404\n",
      "val_loss: 0.07023048157367957, val_f1: 0.15823224240740558, val_precision: 0.0940033681135317, val_recall: 0.49956730819828465\n"
     ]
    },
    {
     "name": "stderr",
     "output_type": "stream",
     "text": [
      "100%|█████████████████████████████████████████| 655/655 [00:13<00:00, 47.27it/s]\n"
     ]
    },
    {
     "name": "stdout",
     "output_type": "stream",
     "text": [
      "Epoch: 068, loss: 0.06674149111482024, f1: 0.17184873286239533, precision: 0.10467275610328687, recall: 0.479718013551399\n",
      "val_loss: 0.0688659443152607, val_f1: 0.1702104611193664, val_precision: 0.10359367068297307, val_recall: 0.4768581432076769\n"
     ]
    },
    {
     "name": "stderr",
     "output_type": "stream",
     "text": [
      "100%|█████████████████████████████████████████| 655/655 [00:13<00:00, 47.31it/s]\n"
     ]
    },
    {
     "name": "stdout",
     "output_type": "stream",
     "text": [
      "Epoch: 069, loss: 0.06685522147489868, f1: 0.1697901212979912, precision: 0.10302275116768672, recall: 0.482473081697262\n",
      "val_loss: 0.06927641744323827, val_f1: 0.16527963562944267, val_precision: 0.09845481865287442, val_recall: 0.5144665093426037\n"
     ]
    },
    {
     "name": "stderr",
     "output_type": "stream",
     "text": [
      "100%|█████████████████████████████████████████| 655/655 [00:13<00:00, 47.23it/s]\n"
     ]
    },
    {
     "name": "stdout",
     "output_type": "stream",
     "text": [
      "Epoch: 070, loss: 0.06609526188432716, f1: 0.1702940458841654, precision: 0.1032298835659158, recall: 0.4860800205864979\n",
      "val_loss: 0.06903150804135777, val_f1: 0.1671929350434245, val_precision: 0.10029607307947659, val_recall: 0.5020715840707678\n"
     ]
    },
    {
     "name": "stderr",
     "output_type": "stream",
     "text": [
      "100%|█████████████████████████████████████████| 655/655 [00:13<00:00, 47.36it/s]\n"
     ]
    },
    {
     "name": "stdout",
     "output_type": "stream",
     "text": [
      "Epoch: 071, loss: 0.06654303970227715, f1: 0.17233082809780378, precision: 0.10448661902012972, recall: 0.4914050579412293\n",
      "val_loss: 0.06748284074828165, val_f1: 0.1776406500185741, val_precision: 0.10737792045356484, val_recall: 0.5139319812280869\n"
     ]
    },
    {
     "name": "stderr",
     "output_type": "stream",
     "text": [
      "100%|█████████████████████████████████████████| 655/655 [00:13<00:00, 47.33it/s]\n"
     ]
    },
    {
     "name": "stdout",
     "output_type": "stream",
     "text": [
      "Epoch: 072, loss: 0.06554077625388408, f1: 0.1795989369005758, precision: 0.10955209563404521, recall: 0.4980461517363104\n",
      "val_loss: 0.06980654757914193, val_f1: 0.1649471955817845, val_precision: 0.09815211216662797, val_recall: 0.516308983565744\n"
     ]
    },
    {
     "name": "stderr",
     "output_type": "stream",
     "text": [
      "100%|█████████████████████████████████████████| 655/655 [00:13<00:00, 47.32it/s]\n"
     ]
    },
    {
     "name": "stdout",
     "output_type": "stream",
     "text": [
      "Epoch: 073, loss: 0.0658436389625755, f1: 0.17485304864502912, precision: 0.1058952290909578, recall: 0.5012832214188485\n",
      "val_loss: 0.06874616572274528, val_f1: 0.16982313441564612, val_precision: 0.1020230608586427, val_recall: 0.506264278596831\n"
     ]
    },
    {
     "name": "stderr",
     "output_type": "stream",
     "text": [
      "100%|█████████████████████████████████████████| 655/655 [00:13<00:00, 47.37it/s]\n"
     ]
    },
    {
     "name": "stdout",
     "output_type": "stream",
     "text": [
      "Epoch: 074, loss: 0.06530486279885278, f1: 0.18801962556994117, precision: 0.1130780374803687, recall: 0.5574952730752585\n",
      "val_loss: 0.06879445825865783, val_f1: 0.18926854746636768, val_precision: 0.11089083201085312, val_recall: 0.6455286027812356\n"
     ]
    },
    {
     "name": "stderr",
     "output_type": "stream",
     "text": [
      "100%|█████████████████████████████████████████| 655/655 [00:13<00:00, 47.28it/s]\n"
     ]
    },
    {
     "name": "stdout",
     "output_type": "stream",
     "text": [
      "Epoch: 075, loss: 0.06580533919329862, f1: 0.1966574219743571, precision: 0.11658104753640715, recall: 0.6280436534178621\n",
      "val_loss: 0.06746819455586715, val_f1: 0.20180359552857174, val_precision: 0.11959963705745277, val_recall: 0.645412456586\n"
     ]
    },
    {
     "name": "stderr",
     "output_type": "stream",
     "text": [
      "100%|█████████████████████████████████████████| 655/655 [00:13<00:00, 47.27it/s]\n"
     ]
    },
    {
     "name": "stdout",
     "output_type": "stream",
     "text": [
      "Epoch: 076, loss: 0.06516129857227775, f1: 0.2044958108048974, precision: 0.12134741563030042, recall: 0.6496249865143354\n",
      "val_loss: 0.06882050324128855, val_f1: 0.1961002759544436, val_precision: 0.1149984335910247, val_recall: 0.6652947610603013\n"
     ]
    },
    {
     "name": "stderr",
     "output_type": "stream",
     "text": [
      "100%|█████████████████████████████████████████| 655/655 [00:13<00:00, 47.35it/s]\n"
     ]
    },
    {
     "name": "stdout",
     "output_type": "stream",
     "text": [
      "Epoch: 077, loss: 0.0652488533862447, f1: 0.20043606641498002, precision: 0.11874180975021752, recall: 0.6424214093284752\n",
      "val_loss: 0.06893110781087788, val_f1: 0.19136173038771565, val_precision: 0.11172344912550575, val_recall: 0.6663388092788535\n"
     ]
    },
    {
     "name": "stderr",
     "output_type": "stream",
     "text": [
      "100%|█████████████████████████████████████████| 655/655 [00:13<00:00, 47.32it/s]\n"
     ]
    },
    {
     "name": "stdout",
     "output_type": "stream",
     "text": [
      "Epoch: 078, loss: 0.06531770721021045, f1: 0.20160175456307527, precision: 0.1193041266233639, recall: 0.649937770646492\n",
      "val_loss: 0.06800022984453298, val_f1: 0.19418816750515552, val_precision: 0.11437854992969115, val_recall: 0.6425122067742391\n"
     ]
    },
    {
     "name": "stderr",
     "output_type": "stream",
     "text": [
      "100%|█████████████████████████████████████████| 655/655 [00:13<00:00, 47.29it/s]\n"
     ]
    },
    {
     "name": "stdout",
     "output_type": "stream",
     "text": [
      "Epoch: 079, loss: 0.06499475888225413, f1: 0.20035368439114823, precision: 0.11869680213596216, recall: 0.642046249288184\n",
      "val_loss: 0.0689369831490544, val_f1: 0.1952294564602695, val_precision: 0.11445722505749298, val_recall: 0.6633642881151733\n"
     ]
    },
    {
     "name": "stderr",
     "output_type": "stream",
     "text": [
      "100%|█████████████████████████████████████████| 655/655 [00:13<00:00, 47.24it/s]\n"
     ]
    },
    {
     "name": "stdout",
     "output_type": "stream",
     "text": [
      "Epoch: 080, loss: 0.06495375214357868, f1: 0.20300060864389857, precision: 0.11989187764942305, recall: 0.6616650925110314\n",
      "val_loss: 0.06781090370490464, val_f1: 0.19900387071280254, val_precision: 0.11725453900198939, val_recall: 0.657202390868456\n"
     ]
    },
    {
     "name": "stderr",
     "output_type": "stream",
     "text": [
      "100%|█████████████████████████████████████████| 655/655 [00:13<00:00, 47.28it/s]\n"
     ]
    },
    {
     "name": "stdout",
     "output_type": "stream",
     "text": [
      "Epoch: 081, loss: 0.06497516311875737, f1: 0.20254562637114043, precision: 0.11992229461396213, recall: 0.6512174714271349\n",
      "val_loss: 0.06788219270561266, val_f1: 0.2011369861210559, val_precision: 0.11878121361016818, val_recall: 0.6558958407183852\n"
     ]
    },
    {
     "name": "stderr",
     "output_type": "stream",
     "text": [
      "100%|█████████████████████████████████████████| 655/655 [00:13<00:00, 47.34it/s]\n"
     ]
    },
    {
     "name": "stdout",
     "output_type": "stream",
     "text": [
      "Epoch: 082, loss: 0.06507959309823186, f1: 0.20350808601318737, precision: 0.12033388705369626, recall: 0.6590184227257739\n",
      "val_loss: 0.06826793774962425, val_f1: 0.2006793485262974, val_precision: 0.11777368243655549, val_recall: 0.6778345412549076\n"
     ]
    },
    {
     "name": "stderr",
     "output_type": "stream",
     "text": [
      "100%|█████████████████████████████████████████| 655/655 [00:13<00:00, 47.30it/s]\n"
     ]
    },
    {
     "name": "stdout",
     "output_type": "stream",
     "text": [
      "Epoch: 083, loss: 0.0650209074313859, f1: 0.2057951427228176, precision: 0.121208408370415, recall: 0.6811294777930238\n",
      "val_loss: 0.06805635567481091, val_f1: 0.19952098308307864, val_precision: 0.11758659989786667, val_recall: 0.6580514810090765\n"
     ]
    },
    {
     "name": "stderr",
     "output_type": "stream",
     "text": [
      "100%|█████████████████████████████████████████| 655/655 [00:13<00:00, 47.21it/s]\n"
     ]
    },
    {
     "name": "stdout",
     "output_type": "stream",
     "text": [
      "Epoch: 084, loss: 0.0650419762969472, f1: 0.2013447058393894, precision: 0.1189488329860659, recall: 0.6552059723903204\n",
      "val_loss: 0.06820839563162502, val_f1: 0.20167854233064114, val_precision: 0.11824841605853972, val_recall: 0.6849322103374048\n"
     ]
    },
    {
     "name": "stderr",
     "output_type": "stream",
     "text": [
      "100%|█████████████████████████████████████████| 655/655 [00:13<00:00, 47.25it/s]\n"
     ]
    },
    {
     "name": "stdout",
     "output_type": "stream",
     "text": [
      "Epoch: 085, loss: 0.0643540034966387, f1: 0.2072143159620387, precision: 0.12214828645526112, recall: 0.6825602243931694\n",
      "val_loss: 0.06794345418179254, val_f1: 0.19884267683212165, val_precision: 0.11679023737408255, val_recall: 0.6685191583947852\n"
     ]
    },
    {
     "name": "stderr",
     "output_type": "stream",
     "text": [
      "100%|█████████████████████████████████████████| 655/655 [00:13<00:00, 47.37it/s]\n"
     ]
    },
    {
     "name": "stdout",
     "output_type": "stream",
     "text": [
      "Epoch: 086, loss: 0.06505874782686925, f1: 0.20341782276877418, precision: 0.11928409318837785, recall: 0.6903061031726481\n",
      "val_loss: 0.06834548855320029, val_f1: 0.199707771720952, val_precision: 0.11733533818714766, val_recall: 0.6702183118312184\n"
     ]
    },
    {
     "name": "stderr",
     "output_type": "stream",
     "text": [
      "100%|█████████████████████████████████████████| 655/655 [00:13<00:00, 47.28it/s]\n"
     ]
    },
    {
     "name": "stdout",
     "output_type": "stream",
     "text": [
      "Epoch: 087, loss: 0.0646964546435207, f1: 0.20648654179216328, precision: 0.12104191793135957, recall: 0.7021187339688986\n",
      "val_loss: 0.0673628011846556, val_f1: 0.2072984006895459, val_precision: 0.12205391884204683, val_recall: 0.6873667254838922\n"
     ]
    },
    {
     "name": "stderr",
     "output_type": "stream",
     "text": [
      "100%|█████████████████████████████████████████| 655/655 [00:13<00:00, 47.27it/s]\n"
     ]
    },
    {
     "name": "stdout",
     "output_type": "stream",
     "text": [
      "Epoch: 088, loss: 0.06465920055185566, f1: 0.20561116790526293, precision: 0.12081443657263231, recall: 0.6896829555905958\n",
      "val_loss: 0.06793358317072239, val_f1: 0.20073314069782658, val_precision: 0.11776651537532859, val_recall: 0.679302218036914\n"
     ]
    },
    {
     "name": "stderr",
     "output_type": "stream",
     "text": [
      "100%|█████████████████████████████████████████| 655/655 [00:13<00:00, 47.13it/s]\n"
     ]
    },
    {
     "name": "stdout",
     "output_type": "stream",
     "text": [
      "Epoch: 089, loss: 0.06435982849704855, f1: 0.2072321584919287, precision: 0.12189139252677844, recall: 0.6910912001007841\n",
      "val_loss: 0.068666639883037, val_f1: 0.1949060553908689, val_precision: 0.11411677099499476, val_recall: 0.6673785502073961\n"
     ]
    },
    {
     "name": "stderr",
     "output_type": "stream",
     "text": [
      "100%|█████████████████████████████████████████| 655/655 [00:13<00:00, 47.25it/s]\n"
     ]
    },
    {
     "name": "stdout",
     "output_type": "stream",
     "text": [
      "Epoch: 090, loss: 0.0645230565419179, f1: 0.20469451609459996, precision: 0.12060858980229992, recall: 0.6759615688947321\n",
      "val_loss: 0.06753954346881273, val_f1: 0.2044220984035856, val_precision: 0.1202729406890485, val_recall: 0.6806166157673258\n"
     ]
    },
    {
     "name": "stderr",
     "output_type": "stream",
     "text": [
      "100%|█████████████████████████████████████████| 655/655 [00:13<00:00, 47.41it/s]\n"
     ]
    },
    {
     "name": "stdout",
     "output_type": "stream",
     "text": [
      "Epoch: 091, loss: 0.06440347887803125, f1: 0.20743934706637024, precision: 0.12200828052040559, recall: 0.6919422038411366\n",
      "val_loss: 0.06691765744204915, val_f1: 0.2045678355249267, val_precision: 0.12052697003519999, val_recall: 0.6757625043733951\n"
     ]
    },
    {
     "name": "stderr",
     "output_type": "stream",
     "text": [
      "100%|█████████████████████████████████████████| 655/655 [00:13<00:00, 47.21it/s]\n"
     ]
    },
    {
     "name": "stdout",
     "output_type": "stream",
     "text": [
      "Epoch: 092, loss: 0.0649953749428951, f1: 0.20240312927227858, precision: 0.11863211680466722, recall: 0.6887765643137101\n",
      "val_loss: 0.0671035584592081, val_f1: 0.2052166340939714, val_precision: 0.12026420062399307, val_recall: 0.6989232327686538\n"
     ]
    },
    {
     "name": "stderr",
     "output_type": "stream",
     "text": [
      "100%|█████████████████████████████████████████| 655/655 [00:13<00:00, 47.20it/s]\n"
     ]
    },
    {
     "name": "stdout",
     "output_type": "stream",
     "text": [
      "Epoch: 093, loss: 0.06437980771093195, f1: 0.20817335528595676, precision: 0.12224478805757603, recall: 0.7007366712482376\n",
      "val_loss: 0.06798942786974645, val_f1: 0.20001677711692664, val_precision: 0.11753335315947754, val_recall: 0.6707186872532608\n"
     ]
    },
    {
     "name": "stderr",
     "output_type": "stream",
     "text": [
      "100%|█████████████████████████████████████████| 655/655 [00:13<00:00, 47.32it/s]\n"
     ]
    },
    {
     "name": "stdout",
     "output_type": "stream",
     "text": [
      "Epoch: 094, loss: 0.06384083736147589, f1: 0.20735411780877455, precision: 0.12198853514989028, recall: 0.690682300805818\n",
      "val_loss: 0.06756048135186007, val_f1: 0.19837175129550952, val_precision: 0.11615163816882451, val_recall: 0.6790500530340803\n"
     ]
    },
    {
     "name": "stderr",
     "output_type": "stream",
     "text": [
      "100%|█████████████████████████████████████████| 655/655 [00:13<00:00, 47.29it/s]\n"
     ]
    },
    {
     "name": "stdout",
     "output_type": "stream",
     "text": [
      "Epoch: 095, loss: 0.06463008042680853, f1: 0.20415591149065246, precision: 0.12013716187207242, recall: 0.679063952583393\n",
      "val_loss: 0.06818715747821769, val_f1: 0.19792141895675114, val_precision: 0.11558327322116617, val_recall: 0.6881130311057109\n"
     ]
    },
    {
     "name": "stderr",
     "output_type": "stream",
     "text": [
      "100%|█████████████████████████████████████████| 655/655 [00:13<00:00, 47.33it/s]\n"
     ]
    },
    {
     "name": "stdout",
     "output_type": "stream",
     "text": [
      "Epoch: 096, loss: 0.06440967847202116, f1: 0.2077805919229192, precision: 0.12184226280327118, recall: 0.7051165398636847\n",
      "val_loss: 0.06713313447768637, val_f1: 0.20817546385911678, val_precision: 0.12269686956071817, val_recall: 0.6862885922261881\n"
     ]
    },
    {
     "name": "stderr",
     "output_type": "stream",
     "text": [
      "100%|█████████████████████████████████████████| 655/655 [00:13<00:00, 47.37it/s]\n"
     ]
    },
    {
     "name": "stdout",
     "output_type": "stream",
     "text": [
      "Epoch: 097, loss: 0.0645518365763981, f1: 0.20421693703971378, precision: 0.11967239135250676, recall: 0.695719556590073\n",
      "val_loss: 0.0678710476965259, val_f1: 0.20537733867640104, val_precision: 0.11916979564644328, val_recall: 0.7425091896855504\n"
     ]
    },
    {
     "name": "stderr",
     "output_type": "stream",
     "text": [
      "100%|█████████████████████████████████████████| 655/655 [00:13<00:00, 47.25it/s]\n"
     ]
    },
    {
     "name": "stdout",
     "output_type": "stream",
     "text": [
      "Epoch: 098, loss: 0.06437663700687521, f1: 0.20909537579122323, precision: 0.1226490123264975, recall: 0.7083830086784508\n",
      "val_loss: 0.06736209707488434, val_f1: 0.20487079013219955, val_precision: 0.12007130060661071, val_recall: 0.6974153431183702\n"
     ]
    },
    {
     "name": "stderr",
     "output_type": "stream",
     "text": [
      "100%|█████████████████████████████████████████| 655/655 [00:13<00:00, 47.34it/s]\n"
     ]
    },
    {
     "name": "stdout",
     "output_type": "stream",
     "text": [
      "Epoch: 099, loss: 0.06389791629071, f1: 0.2091152440293769, precision: 0.12272533905329823, recall: 0.7063006092118853\n",
      "val_loss: 0.06761620869569548, val_f1: 0.19980854679867888, val_precision: 0.11708644496644377, val_recall: 0.6807891635583081\n"
     ]
    },
    {
     "name": "stderr",
     "output_type": "stream",
     "text": [
      "100%|█████████████████████████████████████████| 655/655 [00:13<00:00, 47.36it/s]\n"
     ]
    },
    {
     "name": "stdout",
     "output_type": "stream",
     "text": [
      "Epoch: 100, loss: 0.06464340217582142, f1: 0.20448958002846415, precision: 0.11971029052084298, recall: 0.7007960357170069\n",
      "val_loss: 0.06742670113613847, val_f1: 0.2018842296295983, val_precision: 0.11789771183949271, val_recall: 0.7018829444679645\n"
     ]
    },
    {
     "name": "stderr",
     "output_type": "stream",
     "text": [
      "100%|█████████████████████████████████████████| 655/655 [00:13<00:00, 47.22it/s]\n"
     ]
    },
    {
     "name": "stdout",
     "output_type": "stream",
     "text": [
      "Epoch: 101, loss: 0.06443641511794493, f1: 0.20725195991367923, precision: 0.12179110281930113, recall: 0.69477770534408\n",
      "val_loss: 0.06697853722122557, val_f1: 0.20269649678742355, val_precision: 0.11815985861242911, val_recall: 0.7123228854952602\n"
     ]
    },
    {
     "name": "stderr",
     "output_type": "stream",
     "text": [
      "100%|█████████████████████████████████████████| 655/655 [00:13<00:00, 47.30it/s]\n"
     ]
    },
    {
     "name": "stdout",
     "output_type": "stream",
     "text": [
      "Epoch: 102, loss: 0.06421769271028861, f1: 0.20780717185471817, precision: 0.12190221120276354, recall: 0.7037246835595778\n",
      "val_loss: 0.06654255346762478, val_f1: 0.20444394059785986, val_precision: 0.11886569281715319, val_recall: 0.7300461364585326\n"
     ]
    },
    {
     "name": "stderr",
     "output_type": "stream",
     "text": [
      "100%|█████████████████████████████████████████| 655/655 [00:13<00:00, 47.32it/s]\n"
     ]
    },
    {
     "name": "stdout",
     "output_type": "stream",
     "text": [
      "Epoch: 103, loss: 0.06424596181836065, f1: 0.2093734869348253, precision: 0.12268115767164028, recall: 0.7137265340062499\n",
      "val_loss: 0.06784555239927605, val_f1: 0.1971090783868728, val_precision: 0.1145798100602873, val_recall: 0.7046595639591917\n"
     ]
    },
    {
     "name": "stderr",
     "output_type": "stream",
     "text": [
      "100%|█████████████████████████████████████████| 655/655 [00:13<00:00, 47.31it/s]\n"
     ]
    },
    {
     "name": "stdout",
     "output_type": "stream",
     "text": [
      "Epoch: 104, loss: 0.064119552830874, f1: 0.20789106337614813, precision: 0.12204823355183346, recall: 0.7007997272237566\n",
      "val_loss: 0.0674096641959537, val_f1: 0.20498110806479244, val_precision: 0.11977826623425503, val_recall: 0.7101078918972693\n"
     ]
    },
    {
     "name": "stderr",
     "output_type": "stream",
     "text": [
      "100%|█████████████████████████████████████████| 655/655 [00:13<00:00, 47.38it/s]\n"
     ]
    },
    {
     "name": "stdout",
     "output_type": "stream",
     "text": [
      "Epoch: 105, loss: 0.06413109611207975, f1: 0.20988820728372504, precision: 0.12324641640013695, recall: 0.7066858088924685\n",
      "val_loss: 0.06721537777675538, val_f1: 0.1984147612082055, val_precision: 0.11546190594399877, val_recall: 0.7047067206660542\n"
     ]
    },
    {
     "name": "stderr",
     "output_type": "stream",
     "text": [
      "100%|█████████████████████████████████████████| 655/655 [00:13<00:00, 47.38it/s]\n"
     ]
    },
    {
     "name": "stdout",
     "output_type": "stream",
     "text": [
      "Epoch: 106, loss: 0.06429990243934493, f1: 0.20685007425033797, precision: 0.12093715300172113, recall: 0.7142443338764533\n",
      "val_loss: 0.0662466191831942, val_f1: 0.2028803901871474, val_precision: 0.11941927714794533, val_recall: 0.6737782682779185\n"
     ]
    },
    {
     "name": "stderr",
     "output_type": "stream",
     "text": [
      "100%|█████████████████████████████████████████| 655/655 [00:13<00:00, 47.32it/s]\n"
     ]
    },
    {
     "name": "stdout",
     "output_type": "stream",
     "text": [
      "Epoch: 107, loss: 0.0641950493077712, f1: 0.20877673084392334, precision: 0.12261615492446164, recall: 0.7022080206234037\n",
      "val_loss: 0.06636775477251056, val_f1: 0.2029963580230152, val_precision: 0.11818348713552392, val_recall: 0.718920420547691\n"
     ]
    },
    {
     "name": "stderr",
     "output_type": "stream",
     "text": [
      "100%|█████████████████████████████████████████| 655/655 [00:13<00:00, 47.32it/s]\n"
     ]
    },
    {
     "name": "stdout",
     "output_type": "stream",
     "text": [
      "Epoch: 108, loss: 0.06412507704821707, f1: 0.2073000699744813, precision: 0.12106402683860928, recall: 0.7205866825148349\n",
      "val_loss: 0.06697318898599355, val_f1: 0.1997047470265654, val_precision: 0.11627399411966699, val_recall: 0.7070090442964243\n"
     ]
    },
    {
     "name": "stderr",
     "output_type": "stream",
     "text": [
      "100%|█████████████████████████████████████████| 655/655 [00:13<00:00, 47.30it/s]\n"
     ]
    },
    {
     "name": "stdout",
     "output_type": "stream",
     "text": [
      "Epoch: 109, loss: 0.06411622913966653, f1: 0.206225357246521, precision: 0.12051057009566718, recall: 0.7142341188119568\n",
      "val_loss: 0.06509996695153483, val_f1: 0.20886263182846554, val_precision: 0.12215432217088315, val_recall: 0.7197840154307698\n"
     ]
    },
    {
     "name": "stderr",
     "output_type": "stream",
     "text": [
      "100%|█████████████████████████████████████████| 655/655 [00:13<00:00, 47.30it/s]\n"
     ]
    },
    {
     "name": "stdout",
     "output_type": "stream",
     "text": [
      "Epoch: 110, loss: 0.06444825220938402, f1: 0.20678206436367683, precision: 0.12101861649861147, recall: 0.7098102297036702\n",
      "val_loss: 0.0657186278423995, val_f1: 0.20737798746503058, val_precision: 0.12075202702758235, val_recall: 0.733788415994666\n"
     ]
    },
    {
     "name": "stderr",
     "output_type": "stream",
     "text": [
      "100%|█████████████████████████████████████████| 655/655 [00:13<00:00, 47.26it/s]\n"
     ]
    },
    {
     "name": "stdout",
     "output_type": "stream",
     "text": [
      "Epoch: 111, loss: 0.06397502121607994, f1: 0.20669570483720875, precision: 0.1208015924106345, recall: 0.7152956988065298\n",
      "val_loss: 0.06508679429940674, val_f1: 0.20620866531662096, val_precision: 0.11977291417760996, val_recall: 0.7408612648008066\n"
     ]
    },
    {
     "name": "stderr",
     "output_type": "stream",
     "text": [
      "100%|█████████████████████████████████████████| 655/655 [00:13<00:00, 47.35it/s]\n"
     ]
    },
    {
     "name": "stdout",
     "output_type": "stream",
     "text": [
      "Epoch: 112, loss: 0.06439640587266847, f1: 0.2054156137750709, precision: 0.11986324613281163, recall: 0.7176086231724906\n",
      "val_loss: 0.06585442147499651, val_f1: 0.20102578122931217, val_precision: 0.11674251325787344, val_recall: 0.7230067958525561\n"
     ]
    },
    {
     "name": "stderr",
     "output_type": "stream",
     "text": [
      "100%|█████████████████████████████████████████| 655/655 [00:13<00:00, 47.30it/s]\n"
     ]
    },
    {
     "name": "stdout",
     "output_type": "stream",
     "text": [
      "Epoch: 113, loss: 0.06412026063460885, f1: 0.2075543782034467, precision: 0.12145849204771506, recall: 0.7128785099009521\n",
      "val_loss: 0.06504624278002649, val_f1: 0.20795821950768933, val_precision: 0.12108840197837407, val_recall: 0.7358962646728262\n"
     ]
    },
    {
     "name": "stderr",
     "output_type": "stream",
     "text": [
      "100%|█████████████████████████████████████████| 655/655 [00:13<00:00, 47.39it/s]\n"
     ]
    },
    {
     "name": "stdout",
     "output_type": "stream",
     "text": [
      "Epoch: 114, loss: 0.06415813206943846, f1: 0.2107875582213634, precision: 0.12346229230849969, recall: 0.7201565187794107\n",
      "val_loss: 0.06589898426905957, val_f1: 0.19963933354911795, val_precision: 0.11613136254157017, val_recall: 0.7106676139962782\n"
     ]
    },
    {
     "name": "stderr",
     "output_type": "stream",
     "text": [
      "100%|█████████████████████████████████████████| 655/655 [00:13<00:00, 47.32it/s]\n"
     ]
    },
    {
     "name": "stdout",
     "output_type": "stream",
     "text": [
      "Epoch: 115, loss: 0.06427994230406657, f1: 0.20496139226070653, precision: 0.11963224631968801, recall: 0.7148039534119249\n",
      "val_loss: 0.06555864577173093, val_f1: 0.20953171229795575, val_precision: 0.12263635321041791, val_recall: 0.7189560813504622\n"
     ]
    },
    {
     "name": "stderr",
     "output_type": "stream",
     "text": [
      "100%|█████████████████████████████████████████| 655/655 [00:13<00:00, 47.18it/s]\n"
     ]
    },
    {
     "name": "stdout",
     "output_type": "stream",
     "text": [
      "Epoch: 116, loss: 0.06435343219351222, f1: 0.20455227107231108, precision: 0.1193887724900149, recall: 0.7135441667819751\n",
      "val_loss: 0.06540434618711198, val_f1: 0.20373532461764182, val_precision: 0.11879496697396245, val_recall: 0.7149020957017164\n"
     ]
    },
    {
     "name": "stderr",
     "output_type": "stream",
     "text": [
      "100%|█████████████████████████████████████████| 655/655 [00:13<00:00, 47.28it/s]\n"
     ]
    },
    {
     "name": "stdout",
     "output_type": "stream",
     "text": [
      "Epoch: 117, loss: 0.0636501753731197, f1: 0.210849339931878, precision: 0.12351531947443958, recall: 0.7197951508159856\n",
      "val_loss: 0.06567442705940216, val_f1: 0.1987091313140234, val_precision: 0.11563551923208827, val_recall: 0.7056660861323732\n"
     ]
    },
    {
     "name": "stderr",
     "output_type": "stream",
     "text": [
      "100%|█████████████████████████████████████████| 655/655 [00:13<00:00, 47.27it/s]\n"
     ]
    },
    {
     "name": "stdout",
     "output_type": "stream",
     "text": [
      "Epoch: 118, loss: 0.06411810096722978, f1: 0.2048518815709048, precision: 0.11989502293797111, recall: 0.7029768600718665\n",
      "val_loss: 0.06532929250714156, val_f1: 0.20295500388657645, val_precision: 0.11744929466892136, val_recall: 0.7462193651483693\n"
     ]
    },
    {
     "name": "stderr",
     "output_type": "stream",
     "text": [
      "100%|█████████████████████████████████████████| 655/655 [00:13<00:00, 47.30it/s]\n"
     ]
    },
    {
     "name": "stdout",
     "output_type": "stream",
     "text": [
      "Epoch: 119, loss: 0.06339741602454704, f1: 0.21057051866228071, precision: 0.12353136748455834, recall: 0.7128112993622554\n",
      "val_loss: 0.06526184176017932, val_f1: 0.20566111370126186, val_precision: 0.11963146214945874, val_recall: 0.7322087501167157\n"
     ]
    },
    {
     "name": "stderr",
     "output_type": "stream",
     "text": [
      "100%|█████████████████████████████████████████| 655/655 [00:13<00:00, 47.35it/s]\n"
     ]
    },
    {
     "name": "stdout",
     "output_type": "stream",
     "text": [
      "Epoch: 120, loss: 0.06333647518154535, f1: 0.20939217460878504, precision: 0.12263425521940022, recall: 0.7157546273283376\n",
      "val_loss: 0.06538604716813072, val_f1: 0.20108295623518274, val_precision: 0.11775892961731847, val_recall: 0.687654432797924\n"
     ]
    },
    {
     "name": "stderr",
     "output_type": "stream",
     "text": [
      "100%|█████████████████████████████████████████| 655/655 [00:13<00:00, 47.21it/s]\n"
     ]
    },
    {
     "name": "stdout",
     "output_type": "stream",
     "text": [
      "Epoch: 121, loss: 0.06341732766138006, f1: 0.21065513465111382, precision: 0.12362094823242599, recall: 0.711770766381999\n",
      "val_loss: 0.06492719346435245, val_f1: 0.2041732803627177, val_precision: 0.12040285206903968, val_recall: 0.6710734026967933\n"
     ]
    },
    {
     "name": "stderr",
     "output_type": "stream",
     "text": [
      "100%|█████████████████████████████████████████| 655/655 [00:13<00:00, 47.27it/s]\n"
     ]
    },
    {
     "name": "stdout",
     "output_type": "stream",
     "text": [
      "Epoch: 122, loss: 0.063822317891221, f1: 0.20636599733363117, precision: 0.12081796122210114, recall: 0.7069115963600974\n",
      "val_loss: 0.06539441505874242, val_f1: 0.20001259321354808, val_precision: 0.11656049094931863, val_recall: 0.7041588850114324\n"
     ]
    },
    {
     "name": "stderr",
     "output_type": "stream",
     "text": [
      "100%|█████████████████████████████████████████| 655/655 [00:13<00:00, 47.25it/s]\n"
     ]
    },
    {
     "name": "stdout",
     "output_type": "stream",
     "text": [
      "Epoch: 123, loss: 0.06357334857337348, f1: 0.20866583074406544, precision: 0.12206119518364489, recall: 0.7183438259454173\n",
      "val_loss: 0.06536032344052277, val_f1: 0.20121106090197216, val_precision: 0.11728043879442122, val_recall: 0.7075937398529928\n"
     ]
    },
    {
     "name": "stderr",
     "output_type": "stream",
     "text": [
      "100%|█████████████████████████████████████████| 655/655 [00:13<00:00, 47.27it/s]\n"
     ]
    },
    {
     "name": "stdout",
     "output_type": "stream",
     "text": [
      "Epoch: 124, loss: 0.06395024740002082, f1: 0.20651234884044445, precision: 0.12071439249704073, recall: 0.7139621186916155\n",
      "val_loss: 0.0652238687654154, val_f1: 0.1994372690317443, val_precision: 0.11606740803936275, val_recall: 0.70794811762801\n"
     ]
    },
    {
     "name": "stderr",
     "output_type": "stream",
     "text": [
      "100%|█████████████████████████████████████████| 655/655 [00:13<00:00, 47.33it/s]\n"
     ]
    },
    {
     "name": "stdout",
     "output_type": "stream",
     "text": [
      "Epoch: 125, loss: 0.06344425596638036, f1: 0.20821823452471844, precision: 0.12186181661388516, recall: 0.7146477222670126\n",
      "val_loss: 0.06534803416067307, val_f1: 0.2051843657451634, val_precision: 0.12019768856047149, val_recall: 0.700425393298405\n"
     ]
    },
    {
     "name": "stderr",
     "output_type": "stream",
     "text": [
      "100%|█████████████████████████████████████████| 655/655 [00:13<00:00, 47.21it/s]\n"
     ]
    },
    {
     "name": "stdout",
     "output_type": "stream",
     "text": [
      "Epoch: 126, loss: 0.0634966473457695, f1: 0.20515332975410439, precision: 0.12002537020816262, recall: 0.7055997532742624\n",
      "val_loss: 0.06572982549257235, val_f1: 0.2001645644717925, val_precision: 0.11608331974749582, val_recall: 0.7260706414460042\n"
     ]
    },
    {
     "name": "stderr",
     "output_type": "stream",
     "text": [
      "100%|█████████████████████████████████████████| 655/655 [00:13<00:00, 47.22it/s]\n"
     ]
    },
    {
     "name": "stdout",
     "output_type": "stream",
     "text": [
      "Epoch: 127, loss: 0.06347811925615973, f1: 0.20941190126753537, precision: 0.12256036404491837, recall: 0.7187466276169733\n",
      "val_loss: 0.06507155574311357, val_f1: 0.19932714686621, val_precision: 0.11622694854778366, val_recall: 0.6993497968437749\n"
     ]
    },
    {
     "name": "stderr",
     "output_type": "stream",
     "text": [
      "100%|█████████████████████████████████████████| 655/655 [00:13<00:00, 47.37it/s]\n"
     ]
    },
    {
     "name": "stdout",
     "output_type": "stream",
     "text": [
      "Epoch: 128, loss: 0.06347732172767055, f1: 0.20820522104554368, precision: 0.1221604393620954, recall: 0.7042497053969907\n",
      "val_loss: 0.06470785108864854, val_f1: 0.20635816585575079, val_precision: 0.11981658142384723, val_recall: 0.7430543115516322\n"
     ]
    },
    {
     "name": "stderr",
     "output_type": "stream",
     "text": [
      "100%|█████████████████████████████████████████| 655/655 [00:13<00:00, 47.24it/s]\n"
     ]
    },
    {
     "name": "stdout",
     "output_type": "stream",
     "text": [
      "Epoch: 129, loss: 0.06365675707809798, f1: 0.2061485880152546, precision: 0.12026224352405157, recall: 0.7211998054316936\n",
      "val_loss: 0.06437478636587979, val_f1: 0.20005685729438083, val_precision: 0.11659829575064327, val_recall: 0.703876756165826\n"
     ]
    },
    {
     "name": "stderr",
     "output_type": "stream",
     "text": [
      "100%|█████████████████████████████████████████| 655/655 [00:13<00:00, 47.28it/s]\n"
     ]
    },
    {
     "name": "stdout",
     "output_type": "stream",
     "text": [
      "Epoch: 130, loss: 0.06375409725903292, f1: 0.20678544080851324, precision: 0.12099639062506666, recall: 0.7106555524445672\n",
      "val_loss: 0.06396900688152794, val_f1: 0.2070796805226524, val_precision: 0.1210759474037198, val_recall: 0.7148784021377017\n"
     ]
    },
    {
     "name": "stderr",
     "output_type": "stream",
     "text": [
      "100%|█████████████████████████████████████████| 655/655 [00:13<00:00, 47.24it/s]\n"
     ]
    },
    {
     "name": "stdout",
     "output_type": "stream",
     "text": [
      "Epoch: 131, loss: 0.06372111797730887, f1: 0.20271373872301826, precision: 0.11827608909749404, recall: 0.7085488750848151\n",
      "val_loss: 0.06521420144911753, val_f1: 0.19903161513633144, val_precision: 0.1157540137059303, val_recall: 0.7093981967880092\n"
     ]
    },
    {
     "name": "stderr",
     "output_type": "stream",
     "text": [
      "100%|█████████████████████████████████████████| 655/655 [00:13<00:00, 47.30it/s]\n"
     ]
    },
    {
     "name": "stdout",
     "output_type": "stream",
     "text": [
      "Epoch: 132, loss: 0.06335422102442342, f1: 0.20782419128855464, precision: 0.12149381761631096, recall: 0.7180569239131367\n",
      "val_loss: 0.06475121754332694, val_f1: 0.20228471244088253, val_precision: 0.1176803987601413, val_recall: 0.7197026360882531\n"
     ]
    },
    {
     "name": "stderr",
     "output_type": "stream",
     "text": [
      "100%|█████████████████████████████████████████| 655/655 [00:13<00:00, 47.39it/s]\n"
     ]
    },
    {
     "name": "stdout",
     "output_type": "stream",
     "text": [
      "Epoch: 133, loss: 0.06333112043004442, f1: 0.20769368319139866, precision: 0.12136293816867193, recall: 0.7195186303686777\n",
      "val_loss: 0.06513046214374107, val_f1: 0.20509064591986517, val_precision: 0.11984219368538657, val_recall: 0.7104901603739197\n"
     ]
    },
    {
     "name": "stderr",
     "output_type": "stream",
     "text": [
      "100%|█████████████████████████████████████████| 655/655 [00:13<00:00, 47.32it/s]\n"
     ]
    },
    {
     "name": "stdout",
     "output_type": "stream",
     "text": [
      "Epoch: 134, loss: 0.06343663866908951, f1: 0.20673636245399815, precision: 0.12090008367770103, recall: 0.7128274752324774\n",
      "val_loss: 0.06486726615475405, val_f1: 0.2045617707123202, val_precision: 0.1192330990580483, val_recall: 0.7193908211561518\n"
     ]
    },
    {
     "name": "stderr",
     "output_type": "stream",
     "text": [
      "100%|█████████████████████████████████████████| 655/655 [00:13<00:00, 47.33it/s]\n"
     ]
    },
    {
     "name": "stdout",
     "output_type": "stream",
     "text": [
      "Epoch: 135, loss: 0.0630745456219857, f1: 0.20824468210568473, precision: 0.12190943905187927, recall: 0.7136350286712173\n",
      "val_loss: 0.06493730078357349, val_f1: 0.20682138368383882, val_precision: 0.12021127366247254, val_recall: 0.7399226472875394\n"
     ]
    },
    {
     "name": "stderr",
     "output_type": "stream",
     "text": [
      "100%|█████████████████████████████████████████| 655/655 [00:13<00:00, 47.31it/s]\n"
     ]
    },
    {
     "name": "stdout",
     "output_type": "stream",
     "text": [
      "Epoch: 136, loss: 0.0632974267148107, f1: 0.2077424099940323, precision: 0.1216256671336316, recall: 0.7115622262463315\n",
      "val_loss: 0.06498786355924169, val_f1: 0.20038983137466046, val_precision: 0.11651580564361579, val_recall: 0.7152974717660782\n"
     ]
    },
    {
     "name": "stderr",
     "output_type": "stream",
     "text": [
      "100%|█████████████████████████████████████████| 655/655 [00:13<00:00, 47.22it/s]\n"
     ]
    },
    {
     "name": "stdout",
     "output_type": "stream",
     "text": [
      "Epoch: 137, loss: 0.06311012942429262, f1: 0.20747522738651814, precision: 0.12121717486431012, recall: 0.7193990933758612\n",
      "val_loss: 0.0644351804304287, val_f1: 0.2001612868402257, val_precision: 0.11703524385245705, val_recall: 0.6908427334706718\n"
     ]
    },
    {
     "name": "stderr",
     "output_type": "stream",
     "text": [
      "100%|█████████████████████████████████████████| 655/655 [00:13<00:00, 47.28it/s]\n"
     ]
    },
    {
     "name": "stdout",
     "output_type": "stream",
     "text": [
      "Epoch: 138, loss: 0.06305873154961142, f1: 0.20759268557498473, precision: 0.1213905235276138, recall: 0.7161397610570638\n",
      "val_loss: 0.0647815709950727, val_f1: 0.20229406084003265, val_precision: 0.11721592523379747, val_recall: 0.7378256496623021\n"
     ]
    },
    {
     "name": "stderr",
     "output_type": "stream",
     "text": [
      "100%|█████████████████████████████████████████| 655/655 [00:13<00:00, 47.26it/s]\n"
     ]
    },
    {
     "name": "stdout",
     "output_type": "stream",
     "text": [
      "Epoch: 139, loss: 0.06330449122096632, f1: 0.20519398540848263, precision: 0.11998086673143597, recall: 0.7081089111343595\n",
      "val_loss: 0.06463503736763372, val_f1: 0.2005293738213955, val_precision: 0.1160057124408355, val_recall: 0.7389147813440463\n"
     ]
    },
    {
     "name": "stderr",
     "output_type": "stream",
     "text": [
      "100%|█████████████████████████████████████████| 655/655 [00:13<00:00, 47.22it/s]\n"
     ]
    },
    {
     "name": "stdout",
     "output_type": "stream",
     "text": [
      "Epoch: 140, loss: 0.0636214513616025, f1: 0.2060346875061025, precision: 0.12027337996836553, recall: 0.7180237671004907\n",
      "val_loss: 0.06525652108013356, val_f1: 0.20010810660154443, val_precision: 0.11574062898139888, val_recall: 0.73823116637698\n"
     ]
    },
    {
     "name": "stderr",
     "output_type": "stream",
     "text": [
      "100%|█████████████████████████████████████████| 655/655 [00:13<00:00, 47.29it/s]\n"
     ]
    },
    {
     "name": "stdout",
     "output_type": "stream",
     "text": [
      "Epoch: 141, loss: 0.06305313729663302, f1: 0.20714353724839957, precision: 0.12090507469260851, recall: 0.7224445453240671\n",
      "val_loss: 0.06429695031272435, val_f1: 0.20260374883729357, val_precision: 0.11753578666050774, val_recall: 0.7334396861698649\n"
     ]
    },
    {
     "name": "stderr",
     "output_type": "stream",
     "text": [
      "100%|█████████████████████████████████████████| 655/655 [00:13<00:00, 47.36it/s]\n"
     ]
    },
    {
     "name": "stdout",
     "output_type": "stream",
     "text": [
      "Epoch: 142, loss: 0.06315666924422707, f1: 0.20755147158500548, precision: 0.12126267834083099, recall: 0.7196297256773665\n",
      "val_loss: 0.06424432895530802, val_f1: 0.20744219742096115, val_precision: 0.12085725997634438, val_recall: 0.7315201810603842\n"
     ]
    },
    {
     "name": "stderr",
     "output_type": "stream",
     "text": [
      "100%|█████████████████████████████████████████| 655/655 [00:13<00:00, 47.41it/s]\n"
     ]
    },
    {
     "name": "stdout",
     "output_type": "stream",
     "text": [
      "Epoch: 143, loss: 0.06295771767511495, f1: 0.20466320159908885, precision: 0.11938349149680433, recall: 0.7164427693563563\n",
      "val_loss: 0.06386336902292113, val_f1: 0.21054620915440717, val_precision: 0.12259591469079803, val_recall: 0.745032270362071\n"
     ]
    },
    {
     "name": "stderr",
     "output_type": "stream",
     "text": [
      "100%|█████████████████████████████████████████| 655/655 [00:13<00:00, 47.30it/s]\n"
     ]
    },
    {
     "name": "stdout",
     "output_type": "stream",
     "text": [
      "Epoch: 144, loss: 0.06273563740959832, f1: 0.20981104533784736, precision: 0.12287624654438319, recall: 0.7172998125544031\n",
      "val_loss: 0.06511692787358246, val_f1: 0.200127746571536, val_precision: 0.1171824827815893, val_recall: 0.6849699510483567\n"
     ]
    },
    {
     "name": "stderr",
     "output_type": "stream",
     "text": [
      "100%|█████████████████████████████████████████| 655/655 [00:13<00:00, 47.40it/s]\n"
     ]
    },
    {
     "name": "stdout",
     "output_type": "stream",
     "text": [
      "Epoch: 145, loss: 0.06320701107197932, f1: 0.20736541186216773, precision: 0.12125135940776868, recall: 0.7155738519120762\n",
      "val_loss: 0.06495652069260768, val_f1: 0.20470110247121828, val_precision: 0.11823503972125163, val_recall: 0.7618389161081489\n"
     ]
    },
    {
     "name": "stderr",
     "output_type": "stream",
     "text": [
      "100%|█████████████████████████████████████████| 655/655 [00:13<00:00, 47.13it/s]\n"
     ]
    },
    {
     "name": "stdout",
     "output_type": "stream",
     "text": [
      "Epoch: 146, loss: 0.06365267823500033, f1: 0.20552961376070464, precision: 0.11984165600493892, recall: 0.721181322486346\n",
      "val_loss: 0.06510282752163914, val_f1: 0.20064403610667356, val_precision: 0.11641342982376388, val_recall: 0.7257803339476979\n"
     ]
    },
    {
     "name": "stderr",
     "output_type": "stream",
     "text": [
      "100%|█████████████████████████████████████████| 655/655 [00:13<00:00, 47.27it/s]\n"
     ]
    },
    {
     "name": "stdout",
     "output_type": "stream",
     "text": [
      "Epoch: 147, loss: 0.06263613371988971, f1: 0.21191993160548067, precision: 0.1242061568537855, recall: 0.721294657931528\n",
      "val_loss: 0.06529242959762112, val_f1: 0.20121943944461607, val_precision: 0.11733685908283731, val_recall: 0.7057529832791845\n"
     ]
    },
    {
     "name": "stderr",
     "output_type": "stream",
     "text": [
      "100%|█████████████████████████████████████████| 655/655 [00:13<00:00, 47.28it/s]\n"
     ]
    },
    {
     "name": "stdout",
     "output_type": "stream",
     "text": [
      "Epoch: 148, loss: 0.06330221449202708, f1: 0.20600034552794286, precision: 0.12023094675880466, recall: 0.7187029608447133\n",
      "val_loss: 0.06512152186569271, val_f1: 0.1971177204165256, val_precision: 0.11472748097143384, val_recall: 0.6993428768436296\n"
     ]
    },
    {
     "name": "stderr",
     "output_type": "stream",
     "text": [
      "100%|█████████████████████████████████████████| 655/655 [00:13<00:00, 47.31it/s]\n"
     ]
    },
    {
     "name": "stdout",
     "output_type": "stream",
     "text": [
      "Epoch: 149, loss: 0.06305875009323918, f1: 0.20401495861935112, precision: 0.1191318772367081, recall: 0.70965078913301\n",
      "val_loss: 0.0643886599792253, val_f1: 0.2016938074780193, val_precision: 0.1176692129287937, val_recall: 0.7054070672105759\n"
     ]
    },
    {
     "name": "stderr",
     "output_type": "stream",
     "text": [
      "100%|█████████████████████████████████████████| 655/655 [00:13<00:00, 47.33it/s]\n"
     ]
    },
    {
     "name": "stdout",
     "output_type": "stream",
     "text": [
      "Epoch: 150, loss: 0.06320821459597076, f1: 0.20232582382953843, precision: 0.11815906416852283, recall: 0.7032953589699651\n",
      "val_loss: 0.0648044031284271, val_f1: 0.19906585063939777, val_precision: 0.11540141746982796, val_recall: 0.7238394523022371\n"
     ]
    },
    {
     "name": "stderr",
     "output_type": "stream",
     "text": [
      "100%|█████████████████████████████████████████| 655/655 [00:13<00:00, 47.21it/s]\n"
     ]
    },
    {
     "name": "stdout",
     "output_type": "stream",
     "text": [
      "Epoch: 151, loss: 0.06294899867093973, f1: 0.20787813408543682, precision: 0.12149954501713647, recall: 0.7191461060224599\n",
      "val_loss: 0.06428332119718741, val_f1: 0.19956009950720854, val_precision: 0.11604306159686263, val_recall: 0.7119703638717669\n"
     ]
    },
    {
     "name": "stderr",
     "output_type": "stream",
     "text": [
      "100%|█████████████████████████████████████████| 655/655 [00:13<00:00, 47.30it/s]\n"
     ]
    },
    {
     "name": "stdout",
     "output_type": "stream",
     "text": [
      "Epoch: 152, loss: 0.06283887212399308, f1: 0.20919637488987325, precision: 0.12260618323765922, recall: 0.7121494631503374\n",
      "val_loss: 0.06434441799588433, val_f1: 0.2004013601709074, val_precision: 0.1168186181767442, val_recall: 0.7043776985838872\n"
     ]
    },
    {
     "name": "stderr",
     "output_type": "stream",
     "text": [
      "100%|█████████████████████████████████████████| 655/655 [00:13<00:00, 47.31it/s]\n"
     ]
    },
    {
     "name": "stdout",
     "output_type": "stream",
     "text": [
      "Epoch: 153, loss: 0.06330056047166577, f1: 0.203595679335136, precision: 0.11872204670483488, recall: 0.7141042324081632\n",
      "val_loss: 0.06391478941664783, val_f1: 0.20674920015283832, val_precision: 0.1207702499130792, val_recall: 0.7176838119369034\n"
     ]
    },
    {
     "name": "stderr",
     "output_type": "stream",
     "text": [
      "100%|█████████████████████████████████████████| 655/655 [00:13<00:00, 47.31it/s]\n"
     ]
    },
    {
     "name": "stdout",
     "output_type": "stream",
     "text": [
      "Epoch: 154, loss: 0.06295636971019038, f1: 0.2044081073349258, precision: 0.11908077125274043, recall: 0.7211436391218018\n",
      "val_loss: 0.06476507264129612, val_f1: 0.1971771872792927, val_precision: 0.11459558441756515, val_recall: 0.7058052110972755\n"
     ]
    },
    {
     "name": "stderr",
     "output_type": "stream",
     "text": [
      "100%|█████████████████████████████████████████| 655/655 [00:13<00:00, 47.30it/s]\n"
     ]
    },
    {
     "name": "stdout",
     "output_type": "stream",
     "text": [
      "Epoch: 155, loss: 0.06281054058460561, f1: 0.2052689601001701, precision: 0.11967265599812488, recall: 0.7208835536173281\n",
      "val_loss: 0.06467683916193766, val_f1: 0.20138456322840556, val_precision: 0.11719115554790842, val_recall: 0.7152151646553924\n"
     ]
    },
    {
     "name": "stderr",
     "output_type": "stream",
     "text": [
      "100%|█████████████████████████████████████████| 655/655 [00:13<00:00, 47.27it/s]\n"
     ]
    },
    {
     "name": "stdout",
     "output_type": "stream",
     "text": [
      "Epoch: 156, loss: 0.06296304411731149, f1: 0.2052583390054026, precision: 0.12000706965416556, recall: 0.7087292357369234\n",
      "val_loss: 0.06428760533656823, val_f1: 0.20865234992092135, val_precision: 0.12173009667665176, val_recall: 0.7296996372965497\n"
     ]
    },
    {
     "name": "stderr",
     "output_type": "stream",
     "text": [
      "100%|█████████████████████████████████████████| 655/655 [00:13<00:00, 47.29it/s]\n"
     ]
    },
    {
     "name": "stdout",
     "output_type": "stream",
     "text": [
      "Epoch: 157, loss: 0.06276988140840567, f1: 0.20647792898116044, precision: 0.12055362855503692, recall: 0.7188029598075015\n",
      "val_loss: 0.06480849893985811, val_f1: 0.19805510325434456, val_precision: 0.11483430369851103, val_recall: 0.719424198390147\n"
     ]
    },
    {
     "name": "stderr",
     "output_type": "stream",
     "text": [
      "100%|█████████████████████████████████████████| 655/655 [00:13<00:00, 47.28it/s]\n"
     ]
    },
    {
     "name": "stdout",
     "output_type": "stream",
     "text": [
      "Epoch: 158, loss: 0.06259486277992944, f1: 0.2079330434083576, precision: 0.12164621013074488, recall: 0.7153482030138715\n",
      "val_loss: 0.06424946590847926, val_f1: 0.20029128888926376, val_precision: 0.11623062580020739, val_recall: 0.7236558543432743\n"
     ]
    },
    {
     "name": "stderr",
     "output_type": "stream",
     "text": [
      "100%|█████████████████████████████████████████| 655/655 [00:13<00:00, 47.36it/s]\n"
     ]
    },
    {
     "name": "stdout",
     "output_type": "stream",
     "text": [
      "Epoch: 159, loss: 0.06279302992296355, f1: 0.2039954807646234, precision: 0.1186753022882604, recall: 0.7258022929762156\n",
      "val_loss: 0.06452581756363768, val_f1: 0.20127783175040015, val_precision: 0.1160622194640065, val_recall: 0.7573199784126851\n"
     ]
    },
    {
     "name": "stderr",
     "output_type": "stream",
     "text": [
      "100%|█████████████████████████████████████████| 655/655 [00:13<00:00, 47.29it/s]\n"
     ]
    },
    {
     "name": "stdout",
     "output_type": "stream",
     "text": [
      "Epoch: 160, loss: 0.06284773509449793, f1: 0.2066538790073682, precision: 0.12039635420549405, recall: 0.7287998460858833\n",
      "val_loss: 0.06462756198309703, val_f1: 0.20252524672927108, val_precision: 0.11794678225617754, val_recall: 0.7158647113300245\n"
     ]
    },
    {
     "name": "stderr",
     "output_type": "stream",
     "text": [
      "100%|█████████████████████████████████████████| 655/655 [00:13<00:00, 47.30it/s]\n"
     ]
    },
    {
     "name": "stdout",
     "output_type": "stream",
     "text": [
      "Epoch: 161, loss: 0.06332074094364662, f1: 0.1998413191465314, precision: 0.11609129553006692, recall: 0.7173446270800728\n",
      "val_loss: 0.06436960715287869, val_f1: 0.202351942853271, val_precision: 0.1176490834572378, val_recall: 0.7225872248137762\n"
     ]
    },
    {
     "name": "stderr",
     "output_type": "stream",
     "text": [
      "100%|█████████████████████████████████████████| 655/655 [00:13<00:00, 47.30it/s]\n"
     ]
    },
    {
     "name": "stdout",
     "output_type": "stream",
     "text": [
      "Epoch: 162, loss: 0.06227939249450014, f1: 0.20532211644684994, precision: 0.11947409342618957, recall: 0.7295135419332344\n",
      "val_loss: 0.06412534023541103, val_f1: 0.19647089497854425, val_precision: 0.1139119310569394, val_recall: 0.7138201289494103\n"
     ]
    },
    {
     "name": "stderr",
     "output_type": "stream",
     "text": [
      "100%|█████████████████████████████████████████| 655/655 [00:13<00:00, 47.27it/s]\n"
     ]
    },
    {
     "name": "stdout",
     "output_type": "stream",
     "text": [
      "Epoch: 163, loss: 0.0626562534440451, f1: 0.20459655423178535, precision: 0.11916114480078277, recall: 0.7228888964835014\n",
      "val_loss: 0.06443496323575121, val_f1: 0.2027712207382756, val_precision: 0.11803840196033547, val_recall: 0.7186419985026394\n"
     ]
    },
    {
     "name": "stderr",
     "output_type": "stream",
     "text": [
      "100%|█████████████████████████████████████████| 655/655 [00:13<00:00, 47.28it/s]\n"
     ]
    },
    {
     "name": "stdout",
     "output_type": "stream",
     "text": [
      "Epoch: 164, loss: 0.06322084195371575, f1: 0.20265159973288532, precision: 0.11777099652414899, recall: 0.725636833189553\n",
      "val_loss: 0.06509528597902267, val_f1: 0.19663545007747635, val_precision: 0.11352318374508429, val_recall: 0.7340351501736072\n"
     ]
    },
    {
     "name": "stderr",
     "output_type": "stream",
     "text": [
      "100%|█████████████████████████████████████████| 655/655 [00:13<00:00, 47.28it/s]\n"
     ]
    },
    {
     "name": "stdout",
     "output_type": "stream",
     "text": [
      "Epoch: 165, loss: 0.06285648204898106, f1: 0.20322408360309646, precision: 0.11823583659396031, recall: 0.7227101224751873\n",
      "val_loss: 0.06377089571276116, val_f1: 0.20782694296959284, val_precision: 0.12093935059725282, val_recall: 0.7381250434512392\n"
     ]
    },
    {
     "name": "stderr",
     "output_type": "stream",
     "text": [
      "100%|█████████████████████████████████████████| 655/655 [00:13<00:00, 47.28it/s]\n"
     ]
    },
    {
     "name": "stdout",
     "output_type": "stream",
     "text": [
      "Epoch: 166, loss: 0.06260839211008021, f1: 0.20199650666218746, precision: 0.11740753169861118, recall: 0.7226372399744186\n",
      "val_loss: 0.06469347510794433, val_f1: 0.19358797419733292, val_precision: 0.11220195184359241, val_recall: 0.7048610545899889\n"
     ]
    },
    {
     "name": "stderr",
     "output_type": "stream",
     "text": [
      "100%|█████████████████████████████████████████| 655/655 [00:13<00:00, 47.26it/s]\n"
     ]
    },
    {
     "name": "stdout",
     "output_type": "stream",
     "text": [
      "Epoch: 167, loss: 0.06262534480286008, f1: 0.20156436348776324, precision: 0.11725244438560069, recall: 0.7174722964072046\n",
      "val_loss: 0.06480810865161753, val_f1: 0.1938144879967927, val_precision: 0.11137687621228055, val_recall: 0.7459226301913962\n"
     ]
    },
    {
     "name": "stderr",
     "output_type": "stream",
     "text": [
      "100%|█████████████████████████████████████████| 655/655 [00:13<00:00, 47.22it/s]\n"
     ]
    },
    {
     "name": "stdout",
     "output_type": "stream",
     "text": [
      "Epoch: 168, loss: 0.06287674299718542, f1: 0.2041817599252688, precision: 0.1188306273146042, recall: 0.7247136443569004\n",
      "val_loss: 0.0657886745955009, val_f1: 0.19948657337375494, val_precision: 0.11545311611299532, val_recall: 0.7330234432849315\n"
     ]
    },
    {
     "name": "stderr",
     "output_type": "stream",
     "text": [
      "100%|█████████████████████████████████████████| 655/655 [00:13<00:00, 47.24it/s]\n"
     ]
    },
    {
     "name": "stdout",
     "output_type": "stream",
     "text": [
      "Epoch: 169, loss: 0.06299021156604281, f1: 0.20371678551017056, precision: 0.11852126630833586, recall: 0.7245080300756083\n",
      "val_loss: 0.06437263299429088, val_f1: 0.19496496831947158, val_precision: 0.11326478252298447, val_recall: 0.6996023084865798\n"
     ]
    },
    {
     "name": "stderr",
     "output_type": "stream",
     "text": [
      "100%|█████████████████████████████████████████| 655/655 [00:13<00:00, 47.36it/s]\n"
     ]
    },
    {
     "name": "stdout",
     "output_type": "stream",
     "text": [
      "Epoch: 170, loss: 0.06292506526677535, f1: 0.2028720107949166, precision: 0.11810139341542909, recall: 0.7188391633616149\n",
      "val_loss: 0.06520820032258373, val_f1: 0.20030054826954688, val_precision: 0.11606961155925459, val_recall: 0.730206484504796\n"
     ]
    },
    {
     "name": "stderr",
     "output_type": "stream",
     "text": [
      "100%|█████████████████████████████████████████| 655/655 [00:13<00:00, 47.39it/s]\n"
     ]
    },
    {
     "name": "stdout",
     "output_type": "stream",
     "text": [
      "Epoch: 171, loss: 0.06273240678239869, f1: 0.2061092242927073, precision: 0.120315409687042, recall: 0.7183363254971177\n",
      "val_loss: 0.0639279380338181, val_f1: 0.19934964865319993, val_precision: 0.11611459278202521, val_recall: 0.7040063653380499\n"
     ]
    },
    {
     "name": "stderr",
     "output_type": "stream",
     "text": [
      "100%|█████████████████████████████████████████| 655/655 [00:13<00:00, 47.31it/s]\n"
     ]
    },
    {
     "name": "stdout",
     "output_type": "stream",
     "text": [
      "Epoch: 172, loss: 0.06301435179553413, f1: 0.20281050395900826, precision: 0.11807485465280257, recall: 0.7182780911563007\n",
      "val_loss: 0.06369053625390617, val_f1: 0.2053481892034796, val_precision: 0.1191695994236122, val_recall: 0.7417554574411943\n"
     ]
    },
    {
     "name": "stderr",
     "output_type": "stream",
     "text": [
      "100%|█████████████████████████████████████████| 655/655 [00:13<00:00, 47.27it/s]\n"
     ]
    },
    {
     "name": "stdout",
     "output_type": "stream",
     "text": [
      "Epoch: 173, loss: 0.0625154483930087, f1: 0.20541891931208148, precision: 0.1194553260851424, recall: 0.7326698828744524\n",
      "val_loss: 0.06469102205554826, val_f1: 0.1987570556087856, val_precision: 0.11534689226264663, val_recall: 0.7178571336996664\n"
     ]
    },
    {
     "name": "stderr",
     "output_type": "stream",
     "text": [
      "100%|█████████████████████████████████████████| 655/655 [00:13<00:00, 47.38it/s]\n"
     ]
    },
    {
     "name": "stdout",
     "output_type": "stream",
     "text": [
      "Epoch: 174, loss: 0.0627616151268434, f1: 0.20171473340369267, precision: 0.11767940540079966, recall: 0.7055527071461423\n",
      "val_loss: 0.06470643013818275, val_f1: 0.20232042141633932, val_precision: 0.11706864643722363, val_recall: 0.7444282481703189\n"
     ]
    },
    {
     "name": "stderr",
     "output_type": "stream",
     "text": [
      "100%|█████████████████████████████████████████| 655/655 [00:13<00:00, 47.32it/s]\n"
     ]
    },
    {
     "name": "stdout",
     "output_type": "stream",
     "text": [
      "Epoch: 175, loss: 0.06214309894828168, f1: 0.20685898525004784, precision: 0.12066976416585896, recall: 0.723933637199056\n",
      "val_loss: 0.06484032181356478, val_f1: 0.20207030315806712, val_precision: 0.11700566721452109, val_recall: 0.7402193888064919\n"
     ]
    },
    {
     "name": "stderr",
     "output_type": "stream",
     "text": [
      "100%|█████████████████████████████████████████| 655/655 [00:13<00:00, 47.33it/s]\n"
     ]
    },
    {
     "name": "stdout",
     "output_type": "stream",
     "text": [
      "Epoch: 176, loss: 0.06263760878413005, f1: 0.2036559365869464, precision: 0.11828821828937201, recall: 0.7317658568042835\n",
      "val_loss: 0.06479550437540363, val_f1: 0.19614158548786442, val_precision: 0.11286291544573433, val_recall: 0.7482736462026561\n"
     ]
    },
    {
     "name": "stderr",
     "output_type": "stream",
     "text": [
      "100%|█████████████████████████████████████████| 655/655 [00:13<00:00, 47.29it/s]\n"
     ]
    },
    {
     "name": "stdout",
     "output_type": "stream",
     "text": [
      "Epoch: 177, loss: 0.0626882525232002, f1: 0.20600510521175622, precision: 0.12000169111771211, recall: 0.7271239359301466\n",
      "val_loss: 0.064794980561993, val_f1: 0.19883766740445805, val_precision: 0.11540809939743592, val_recall: 0.71759009204053\n"
     ]
    },
    {
     "name": "stderr",
     "output_type": "stream",
     "text": [
      "100%|█████████████████████████████████████████| 655/655 [00:13<00:00, 47.24it/s]\n"
     ]
    },
    {
     "name": "stdout",
     "output_type": "stream",
     "text": [
      "Epoch: 178, loss: 0.06264075889671576, f1: 0.20180451503039987, precision: 0.11734651643693987, recall: 0.7200402569907313\n",
      "val_loss: 0.06481117158786419, val_f1: 0.20125411423168457, val_precision: 0.11740094137916324, val_recall: 0.7042919247658974\n"
     ]
    },
    {
     "name": "stderr",
     "output_type": "stream",
     "text": [
      "100%|█████████████████████████████████████████| 655/655 [00:13<00:00, 47.36it/s]\n"
     ]
    },
    {
     "name": "stdout",
     "output_type": "stream",
     "text": [
      "Epoch: 179, loss: 0.06311887943164537, f1: 0.1989321872975297, precision: 0.1153678521545931, recall: 0.7216302261325239\n",
      "val_loss: 0.0644745543223182, val_f1: 0.20230474284633396, val_precision: 0.11762393385368408, val_recall: 0.722332194994349\n"
     ]
    },
    {
     "name": "stderr",
     "output_type": "stream",
     "text": [
      "100%|█████████████████████████████████████████| 655/655 [00:13<00:00, 47.29it/s]\n"
     ]
    },
    {
     "name": "stdout",
     "output_type": "stream",
     "text": [
      "Epoch: 180, loss: 0.06223283940855101, f1: 0.20453488389739655, precision: 0.1189684271471191, recall: 0.7284957487505811\n",
      "val_loss: 0.06479193783715503, val_f1: 0.19880818830863423, val_precision: 0.11541126060316664, val_recall: 0.716700975911333\n"
     ]
    },
    {
     "name": "stderr",
     "output_type": "stream",
     "text": [
      "100%|█████████████████████████████████████████| 655/655 [00:13<00:00, 47.30it/s]\n"
     ]
    },
    {
     "name": "stdout",
     "output_type": "stream",
     "text": [
      "Epoch: 181, loss: 0.06256150345936531, f1: 0.2036172031307189, precision: 0.1185658554269271, recall: 0.7203461876352325\n",
      "val_loss: 0.06505986597013036, val_f1: 0.20052678035677882, val_precision: 0.11586875293762722, val_recall: 0.7444488259903882\n"
     ]
    },
    {
     "name": "stderr",
     "output_type": "stream",
     "text": [
      "100%|█████████████████████████████████████████| 655/655 [00:13<00:00, 47.29it/s]\n"
     ]
    },
    {
     "name": "stdout",
     "output_type": "stream",
     "text": [
      "Epoch: 182, loss: 0.06312896260522477, f1: 0.19900597542228193, precision: 0.11527333474675379, recall: 0.7273169819805914\n",
      "val_loss: 0.06471126348873892, val_f1: 0.20021433037928474, val_precision: 0.1165125932621368, val_recall: 0.710968672614032\n"
     ]
    },
    {
     "name": "stderr",
     "output_type": "stream",
     "text": [
      "100%|█████████████████████████████████████████| 655/655 [00:13<00:00, 47.30it/s]\n"
     ]
    },
    {
     "name": "stdout",
     "output_type": "stream",
     "text": [
      "Epoch: 183, loss: 0.06259473004868922, f1: 0.20368798096687343, precision: 0.11864208102667036, recall: 0.7193069319347389\n",
      "val_loss: 0.06449299855926714, val_f1: 0.20246005158470753, val_precision: 0.1181117628974447, val_recall: 0.7082480155956854\n"
     ]
    },
    {
     "name": "stderr",
     "output_type": "stream",
     "text": [
      "100%|█████████████████████████████████████████| 655/655 [00:13<00:00, 47.27it/s]\n"
     ]
    },
    {
     "name": "stdout",
     "output_type": "stream",
     "text": [
      "Epoch: 184, loss: 0.06297362322798213, f1: 0.20301307461239984, precision: 0.11806847446718971, recall: 0.7236304480383414\n",
      "val_loss: 0.06423082175331378, val_f1: 0.20067498745634038, val_precision: 0.11620551827919046, val_recall: 0.7347965982802417\n"
     ]
    },
    {
     "name": "stderr",
     "output_type": "stream",
     "text": [
      "100%|█████████████████████████████████████████| 655/655 [00:13<00:00, 47.26it/s]\n"
     ]
    },
    {
     "name": "stdout",
     "output_type": "stream",
     "text": [
      "Epoch: 185, loss: 0.0626701783815413, f1: 0.2037450784186112, precision: 0.11867839996880702, recall: 0.7193960563599608\n",
      "val_loss: 0.0647744505127909, val_f1: 0.2041532457171006, val_precision: 0.11816693556178874, val_recall: 0.7496486822946355\n"
     ]
    },
    {
     "name": "stderr",
     "output_type": "stream",
     "text": [
      "100%|█████████████████████████████████████████| 655/655 [00:13<00:00, 47.29it/s]\n"
     ]
    },
    {
     "name": "stdout",
     "output_type": "stream",
     "text": [
      "Epoch: 186, loss: 0.06221703032679493, f1: 0.20821578626261214, precision: 0.12144334006428946, recall: 0.7293270440502021\n",
      "val_loss: 0.06391822993584456, val_f1: 0.20216982926494861, val_precision: 0.11733932176673222, val_recall: 0.7297242665236149\n"
     ]
    },
    {
     "name": "stderr",
     "output_type": "stream",
     "text": [
      "100%|█████████████████████████████████████████| 655/655 [00:13<00:00, 47.19it/s]\n"
     ]
    },
    {
     "name": "stdout",
     "output_type": "stream",
     "text": [
      "Epoch: 187, loss: 0.06302622317244079, f1: 0.20309513417462202, precision: 0.11819852875876205, recall: 0.7208456343594398\n",
      "val_loss: 0.06361282508341817, val_f1: 0.21126404083529646, val_precision: 0.12328678566039702, val_recall: 0.7376496985964819\n"
     ]
    },
    {
     "name": "stderr",
     "output_type": "stream",
     "text": [
      "100%|█████████████████████████████████████████| 655/655 [00:13<00:00, 47.25it/s]\n"
     ]
    },
    {
     "name": "stdout",
     "output_type": "stream",
     "text": [
      "Epoch: 188, loss: 0.06247032606078468, f1: 0.2049809206043081, precision: 0.1196299878236987, recall: 0.7153600064284019\n",
      "val_loss: 0.06358896185635426, val_f1: 0.20313758708394686, val_precision: 0.11766301626937652, val_recall: 0.7425577991189213\n"
     ]
    },
    {
     "name": "stderr",
     "output_type": "stream",
     "text": [
      "100%|█████████████████████████████████████████| 655/655 [00:13<00:00, 47.27it/s]\n"
     ]
    },
    {
     "name": "stdout",
     "output_type": "stream",
     "text": [
      "Epoch: 189, loss: 0.06236758465018436, f1: 0.2049146968038355, precision: 0.11929311399198785, recall: 0.725981606053942\n",
      "val_loss: 0.06492630773813489, val_f1: 0.2005745406405963, val_precision: 0.11699562373254961, val_recall: 0.7022338739228905\n"
     ]
    },
    {
     "name": "stderr",
     "output_type": "stream",
     "text": [
      "100%|█████████████████████████████████████████| 655/655 [00:13<00:00, 47.34it/s]\n"
     ]
    },
    {
     "name": "stdout",
     "output_type": "stream",
     "text": [
      "Epoch: 190, loss: 0.06325912654172373, f1: 0.2002872167837101, precision: 0.11637519851526004, recall: 0.7179969564307737\n",
      "val_loss: 0.06589484190004408, val_f1: 0.20135473079185062, val_precision: 0.11614861459377299, val_recall: 0.7558236805670852\n"
     ]
    },
    {
     "name": "stderr",
     "output_type": "stream",
     "text": [
      "100%|█████████████████████████████████████████| 655/655 [00:13<00:00, 47.26it/s]\n"
     ]
    },
    {
     "name": "stdout",
     "output_type": "stream",
     "text": [
      "Epoch: 191, loss: 0.062224666930678234, f1: 0.2054522152646146, precision: 0.11949157237096597, recall: 0.732154122529594\n",
      "val_loss: 0.0645632073966735, val_f1: 0.20218583581648314, val_precision: 0.11667487499893668, val_recall: 0.7569654756182924\n"
     ]
    },
    {
     "name": "stderr",
     "output_type": "stream",
     "text": [
      "100%|█████████████████████████████████████████| 655/655 [00:13<00:00, 47.29it/s]\n"
     ]
    },
    {
     "name": "stdout",
     "output_type": "stream",
     "text": [
      "Epoch: 192, loss: 0.06278455772722417, f1: 0.20281125302561934, precision: 0.11765870953686108, recall: 0.7340918112347145\n",
      "val_loss: 0.06405030169584063, val_f1: 0.20281272502334902, val_precision: 0.11802306001655621, val_recall: 0.720256790211168\n"
     ]
    },
    {
     "name": "stderr",
     "output_type": "stream",
     "text": [
      "100%|█████████████████████████████████████████| 655/655 [00:13<00:00, 47.27it/s]\n"
     ]
    },
    {
     "name": "stdout",
     "output_type": "stream",
     "text": [
      "Epoch: 193, loss: 0.06279663679346385, f1: 0.20359290294975071, precision: 0.11857173882303973, recall: 0.7195216395927749\n",
      "val_loss: 0.06427737077646846, val_f1: 0.20054880747164258, val_precision: 0.11665689239893622, val_recall: 0.7140368333240168\n"
     ]
    },
    {
     "name": "stderr",
     "output_type": "stream",
     "text": [
      "100%|█████████████████████████████████████████| 655/655 [00:13<00:00, 47.15it/s]\n"
     ]
    },
    {
     "name": "stdout",
     "output_type": "stream",
     "text": [
      "Epoch: 194, loss: 0.0629716329347655, f1: 0.20633439480388252, precision: 0.12011001536352489, recall: 0.7313667474357226\n",
      "val_loss: 0.0634091996348574, val_f1: 0.2102124388452594, val_precision: 0.12258516709371513, val_recall: 0.7371418298726234\n"
     ]
    },
    {
     "name": "stderr",
     "output_type": "stream",
     "text": [
      "100%|█████████████████████████████████████████| 655/655 [00:13<00:00, 47.33it/s]\n"
     ]
    },
    {
     "name": "stdout",
     "output_type": "stream",
     "text": [
      "Epoch: 195, loss: 0.06205854097537639, f1: 0.20718703754501727, precision: 0.12098095093085964, recall: 0.7207989251795616\n",
      "val_loss: 0.06448741440891946, val_f1: 0.201620493775221, val_precision: 0.11750524235812418, val_recall: 0.7095379279157438\n"
     ]
    },
    {
     "name": "stderr",
     "output_type": "stream",
     "text": [
      "100%|█████████████████████████████████████████| 655/655 [00:13<00:00, 47.33it/s]\n"
     ]
    },
    {
     "name": "stdout",
     "output_type": "stream",
     "text": [
      "Epoch: 196, loss: 0.06275559622731877, f1: 0.2077291063301245, precision: 0.12095253591546576, recall: 0.7351763681259774\n",
      "val_loss: 0.0659819229360704, val_f1: 0.2014538938810436, val_precision: 0.11745471078176223, val_recall: 0.7072585752114243\n"
     ]
    },
    {
     "name": "stderr",
     "output_type": "stream",
     "text": [
      "100%|█████████████████████████████████████████| 655/655 [00:13<00:00, 47.38it/s]\n"
     ]
    },
    {
     "name": "stdout",
     "output_type": "stream",
     "text": [
      "Epoch: 197, loss: 0.06245148933513929, f1: 0.20605662729679475, precision: 0.11966833462938667, recall: 0.7409381711756\n",
      "val_loss: 0.06464818710409993, val_f1: 0.2083853638789851, val_precision: 0.1211653961629154, val_recall: 0.7438143020786276\n"
     ]
    },
    {
     "name": "stderr",
     "output_type": "stream",
     "text": [
      "100%|█████████████████████████████████████████| 655/655 [00:13<00:00, 47.30it/s]\n"
     ]
    },
    {
     "name": "stdout",
     "output_type": "stream",
     "text": [
      "Epoch: 198, loss: 0.06243922139397104, f1: 0.20383789047727366, precision: 0.11839660238190235, recall: 0.7323162953134712\n",
      "val_loss: 0.06349402593465847, val_f1: 0.20416061372050687, val_precision: 0.11857192085440689, val_recall: 0.7339401752987039\n"
     ]
    },
    {
     "name": "stderr",
     "output_type": "stream",
     "text": [
      "100%|█████████████████████████████████████████| 655/655 [00:13<00:00, 47.25it/s]\n"
     ]
    },
    {
     "name": "stdout",
     "output_type": "stream",
     "text": [
      "Epoch: 199, loss: 0.0631723188997432, f1: 0.2014944373594156, precision: 0.11705245497984855, recall: 0.7232467571628912\n",
      "val_loss: 0.06456485700391985, val_f1: 0.20741972671520192, val_precision: 0.12070938207875562, val_recall: 0.7364181143428208\n"
     ]
    },
    {
     "name": "stderr",
     "output_type": "stream",
     "text": [
      "100%|█████████████████████████████████████████| 655/655 [00:13<00:00, 47.28it/s]\n"
     ]
    },
    {
     "name": "stdout",
     "output_type": "stream",
     "text": [
      "Epoch: 200, loss: 0.06232287862857107, f1: 0.20411183482103282, precision: 0.11905217481250982, recall: 0.7148620212578591\n",
      "val_loss: 0.06423375181375293, val_f1: 0.2046380138644924, val_precision: 0.11801949705620972, val_recall: 0.7691248898659278\n"
     ]
    },
    {
     "name": "stderr",
     "output_type": "stream",
     "text": [
      "100%|█████████████████████████████████████████| 655/655 [00:13<00:00, 47.31it/s]\n"
     ]
    },
    {
     "name": "stdout",
     "output_type": "stream",
     "text": [
      "Epoch: 201, loss: 0.06232210506248743, f1: 0.20529127916022302, precision: 0.11954628304784534, recall: 0.7260613896919571\n",
      "val_loss: 0.06404196626481114, val_f1: 0.20341995146330977, val_precision: 0.11804513508078018, val_recall: 0.7350015734587241\n"
     ]
    },
    {
     "name": "stderr",
     "output_type": "stream",
     "text": [
      "100%|█████████████████████████████████████████| 655/655 [00:13<00:00, 47.43it/s]\n"
     ]
    },
    {
     "name": "stdout",
     "output_type": "stream",
     "text": [
      "Epoch: 202, loss: 0.06262154341426515, f1: 0.20401501725377613, precision: 0.11863144562679222, recall: 0.7279441815296203\n",
      "val_loss: 0.06446151275597854, val_f1: 0.19952322418500287, val_precision: 0.11579536068586445, val_recall: 0.7204760501007421\n"
     ]
    },
    {
     "name": "stderr",
     "output_type": "stream",
     "text": [
      "100%|█████████████████████████████████████████| 655/655 [00:13<00:00, 47.27it/s]\n"
     ]
    },
    {
     "name": "stdout",
     "output_type": "stream",
     "text": [
      "Epoch: 203, loss: 0.06267049653697332, f1: 0.20621316550187116, precision: 0.11998877173595358, recall: 0.732821569119701\n",
      "val_loss: 0.06490282784856924, val_f1: 0.20195407695452444, val_precision: 0.11702395343742923, val_recall: 0.7363865439771512\n"
     ]
    },
    {
     "name": "stderr",
     "output_type": "stream",
     "text": [
      "100%|█████████████████████████████████████████| 655/655 [00:13<00:00, 47.38it/s]\n"
     ]
    },
    {
     "name": "stdout",
     "output_type": "stream",
     "text": [
      "Epoch: 204, loss: 0.06240953295456089, f1: 0.2047873802586879, precision: 0.11902507642312472, recall: 0.7327962069793512\n",
      "val_loss: 0.06439731376877891, val_f1: 0.20298151203066747, val_precision: 0.11761216508275872, val_recall: 0.7404158967077186\n"
     ]
    },
    {
     "name": "stderr",
     "output_type": "stream",
     "text": [
      "100%|█████████████████████████████████████████| 655/655 [00:13<00:00, 47.32it/s]\n"
     ]
    },
    {
     "name": "stdout",
     "output_type": "stream",
     "text": [
      "Epoch: 205, loss: 0.06255205256281464, f1: 0.20516175902821804, precision: 0.11924453169900127, recall: 0.7340653059250526\n",
      "val_loss: 0.06712656801378508, val_f1: 0.19544511076456744, val_precision: 0.11321817375634105, val_recall: 0.7140063073383559\n"
     ]
    },
    {
     "name": "stderr",
     "output_type": "stream",
     "text": [
      "100%|█████████████████████████████████████████| 655/655 [00:13<00:00, 47.27it/s]\n"
     ]
    },
    {
     "name": "stdout",
     "output_type": "stream",
     "text": [
      "Epoch: 206, loss: 0.0628607130616562, f1: 0.20183039431830052, precision: 0.11711291680894508, recall: 0.7296380814818936\n",
      "val_loss: 0.06506425186718276, val_f1: 0.19623364120520084, val_precision: 0.11341169124913461, val_recall: 0.7275376707452152\n"
     ]
    },
    {
     "name": "stderr",
     "output_type": "stream",
     "text": [
      "100%|█████████████████████████████████████████| 655/655 [00:13<00:00, 47.29it/s]\n"
     ]
    },
    {
     "name": "stdout",
     "output_type": "stream",
     "text": [
      "Epoch: 207, loss: 0.062553622511052, f1: 0.20225615226062318, precision: 0.1172264689920854, recall: 0.7364019118249416\n",
      "val_loss: 0.0643420175589416, val_f1: 0.20551674221238153, val_precision: 0.1192660749496875, val_recall: 0.7424162503912908\n"
     ]
    },
    {
     "name": "stderr",
     "output_type": "stream",
     "text": [
      "100%|█████████████████████████████████████████| 655/655 [00:13<00:00, 47.24it/s]\n"
     ]
    },
    {
     "name": "stdout",
     "output_type": "stream",
     "text": [
      "Epoch: 208, loss: 0.06261339957989354, f1: 0.20249895029812992, precision: 0.11763580450290487, recall: 0.7268597626390348\n",
      "val_loss: 0.06441941305379802, val_f1: 0.20463994747392866, val_precision: 0.11818336829150078, val_recall: 0.7622907630620747\n"
     ]
    },
    {
     "name": "stderr",
     "output_type": "stream",
     "text": [
      "100%|█████████████████████████████████████████| 655/655 [00:13<00:00, 47.35it/s]\n"
     ]
    },
    {
     "name": "stdout",
     "output_type": "stream",
     "text": [
      "Epoch: 209, loss: 0.06212368512256, f1: 0.20755190690954642, precision: 0.12100145539752286, recall: 0.7289797095624545\n",
      "val_loss: 0.06479774168564366, val_f1: 0.20209753992339224, val_precision: 0.11707276521558198, val_recall: 0.7382714943191327\n"
     ]
    },
    {
     "name": "stderr",
     "output_type": "stream",
     "text": [
      "100%|█████████████████████████████████████████| 655/655 [00:13<00:00, 47.27it/s]\n"
     ]
    },
    {
     "name": "stdout",
     "output_type": "stream",
     "text": [
      "Epoch: 210, loss: 0.06255946142726955, f1: 0.2034320691369109, precision: 0.11819705362396159, recall: 0.7294776828916928\n",
      "val_loss: 0.06458388786728776, val_f1: 0.20601190751820178, val_precision: 0.12000127845879542, val_recall: 0.7273086191864189\n"
     ]
    },
    {
     "name": "stderr",
     "output_type": "stream",
     "text": [
      "100%|█████████████████████████████████████████| 655/655 [00:13<00:00, 47.30it/s]\n"
     ]
    },
    {
     "name": "stdout",
     "output_type": "stream",
     "text": [
      "Epoch: 211, loss: 0.06259523633394731, f1: 0.20433600871959154, precision: 0.11879362460040978, recall: 0.7300123171610686\n",
      "val_loss: 0.06513182228482371, val_f1: 0.19777227752338636, val_precision: 0.11459193083910493, val_recall: 0.7214888315135186\n"
     ]
    },
    {
     "name": "stderr",
     "output_type": "stream",
     "text": [
      "100%|█████████████████████████████████████████| 655/655 [00:13<00:00, 47.28it/s]\n"
     ]
    },
    {
     "name": "stdout",
     "output_type": "stream",
     "text": [
      "Epoch: 212, loss: 0.06311269609385547, f1: 0.19947432983175428, precision: 0.11567260506598435, recall: 0.7239748371580175\n",
      "val_loss: 0.06464341527209916, val_f1: 0.20453242896051302, val_precision: 0.11831465681775584, val_recall: 0.7539418353400099\n"
     ]
    },
    {
     "name": "stderr",
     "output_type": "stream",
     "text": [
      "100%|█████████████████████████████████████████| 655/655 [00:13<00:00, 47.24it/s]\n"
     ]
    },
    {
     "name": "stdout",
     "output_type": "stream",
     "text": [
      "Epoch: 213, loss: 0.06215180024106539, f1: 0.2054443927152699, precision: 0.11970519581525267, recall: 0.7240405712930755\n",
      "val_loss: 0.06473650284316562, val_f1: 0.2056240499308708, val_precision: 0.11994832099646056, val_recall: 0.719649669363958\n"
     ]
    },
    {
     "name": "stderr",
     "output_type": "stream",
     "text": [
      "100%|█████████████████████████████████████████| 655/655 [00:13<00:00, 47.18it/s]\n"
     ]
    },
    {
     "name": "stdout",
     "output_type": "stream",
     "text": [
      "Epoch: 214, loss: 0.06214320915786706, f1: 0.20582693628716764, precision: 0.1197550788368916, recall: 0.7317833617784595\n",
      "val_loss: 0.06738247689919187, val_f1: 0.2024602072499555, val_precision: 0.11735175362865038, val_recall: 0.7368681355627305\n"
     ]
    },
    {
     "name": "stderr",
     "output_type": "stream",
     "text": [
      "100%|█████████████████████████████████████████| 655/655 [00:13<00:00, 47.26it/s]\n"
     ]
    },
    {
     "name": "stdout",
     "output_type": "stream",
     "text": [
      "Epoch: 215, loss: 0.06256273779764822, f1: 0.20356160756476904, precision: 0.11842316045063256, recall: 0.7242486564485171\n",
      "val_loss: 0.06450756776804498, val_f1: 0.19973465876854102, val_precision: 0.11624958853604733, val_recall: 0.7086651384010227\n"
     ]
    },
    {
     "name": "stderr",
     "output_type": "stream",
     "text": [
      "100%|█████████████████████████████████████████| 655/655 [00:13<00:00, 47.27it/s]\n"
     ]
    },
    {
     "name": "stdout",
     "output_type": "stream",
     "text": [
      "Epoch: 216, loss: 0.06254634715559829, f1: 0.2034859551662341, precision: 0.11819092435904473, recall: 0.7311001629206061\n",
      "val_loss: 0.06523041295554113, val_f1: 0.20157852883107394, val_precision: 0.11761516466343758, val_recall: 0.7045296688965701\n"
     ]
    },
    {
     "name": "stderr",
     "output_type": "stream",
     "text": [
      "100%|█████████████████████████████████████████| 655/655 [00:13<00:00, 47.23it/s]\n"
     ]
    },
    {
     "name": "stdout",
     "output_type": "stream",
     "text": [
      "Epoch: 217, loss: 0.06257222467894134, f1: 0.20616016268333093, precision: 0.12009639401408267, recall: 0.7275104954952502\n",
      "val_loss: 0.06432751790885258, val_f1: 0.2056320870976762, val_precision: 0.11989663704939255, val_recall: 0.7217136720588447\n"
     ]
    },
    {
     "name": "stderr",
     "output_type": "stream",
     "text": [
      "100%|█████████████████████████████████████████| 655/655 [00:13<00:00, 47.24it/s]\n"
     ]
    },
    {
     "name": "stdout",
     "output_type": "stream",
     "text": [
      "Epoch: 218, loss: 0.06249197631334986, f1: 0.20230640901322663, precision: 0.11770818844039477, recall: 0.719213048169631\n",
      "val_loss: 0.06393404918457937, val_f1: 0.20120228922268024, val_precision: 0.11796651423028713, val_recall: 0.6834041899360648\n"
     ]
    },
    {
     "name": "stderr",
     "output_type": "stream",
     "text": [
      "100%|█████████████████████████████████████████| 655/655 [00:13<00:00, 47.36it/s]\n"
     ]
    },
    {
     "name": "stdout",
     "output_type": "stream",
     "text": [
      "Epoch: 219, loss: 0.06238326638624186, f1: 0.20752254862944652, precision: 0.12097292126135062, recall: 0.7292913052758188\n",
      "val_loss: 0.06453786909563142, val_f1: 0.20398448583702072, val_precision: 0.11904027273690482, val_recall: 0.7121752216181624\n"
     ]
    },
    {
     "name": "stderr",
     "output_type": "stream",
     "text": [
      "100%|█████████████████████████████████████████| 655/655 [00:13<00:00, 47.18it/s]\n"
     ]
    },
    {
     "name": "stdout",
     "output_type": "stream",
     "text": [
      "Epoch: 220, loss: 0.06294708533256083, f1: 0.20298602834752863, precision: 0.118115329525597, recall: 0.7211919976213507\n",
      "val_loss: 0.06464077895421774, val_f1: 0.20334332472955055, val_precision: 0.11832683025688412, val_recall: 0.7223274849286867\n"
     ]
    },
    {
     "name": "stderr",
     "output_type": "stream",
     "text": [
      "100%|█████████████████████████████████████████| 655/655 [00:13<00:00, 47.34it/s]\n"
     ]
    },
    {
     "name": "stdout",
     "output_type": "stream",
     "text": [
      "Epoch: 221, loss: 0.06235712023295519, f1: 0.20314514787716148, precision: 0.11797299506924762, recall: 0.730641040797452\n",
      "val_loss: 0.06507233562751101, val_f1: 0.19714961458873898, val_precision: 0.1145511192329433, val_recall: 0.7067873078065181\n"
     ]
    },
    {
     "name": "stderr",
     "output_type": "stream",
     "text": [
      "100%|█████████████████████████████████████████| 655/655 [00:13<00:00, 47.35it/s]\n"
     ]
    },
    {
     "name": "stdout",
     "output_type": "stream",
     "text": [
      "Epoch: 222, loss: 0.062471909538082036, f1: 0.20767843055294943, precision: 0.12077806062306783, recall: 0.7403986978508134\n",
      "val_loss: 0.06449271599258032, val_f1: 0.20190998848839212, val_precision: 0.11728410779096939, val_recall: 0.7251107901881594\n"
     ]
    },
    {
     "name": "stderr",
     "output_type": "stream",
     "text": [
      "100%|█████████████████████████████████████████| 655/655 [00:13<00:00, 47.32it/s]\n"
     ]
    },
    {
     "name": "stdout",
     "output_type": "stream",
     "text": [
      "Epoch: 223, loss: 0.061823435929584544, f1: 0.20729487136460936, precision: 0.12080338667395688, recall: 0.729831954905095\n",
      "val_loss: 0.06549022187812066, val_f1: 0.1972748157243285, val_precision: 0.11442162110171186, val_recall: 0.715034188753968\n"
     ]
    },
    {
     "name": "stderr",
     "output_type": "stream",
     "text": [
      "100%|█████████████████████████████████████████| 655/655 [00:13<00:00, 47.37it/s]\n"
     ]
    },
    {
     "name": "stdout",
     "output_type": "stream",
     "text": [
      "Epoch: 224, loss: 0.06252734588018355, f1: 0.20637343931900878, precision: 0.12020098087271207, recall: 0.7289852177937522\n",
      "val_loss: 0.06477502034122654, val_f1: 0.20494393051994508, val_precision: 0.11790843152466716, val_recall: 0.7827120852579764\n"
     ]
    },
    {
     "name": "stderr",
     "output_type": "stream",
     "text": [
      "100%|█████████████████████████████████████████| 655/655 [00:13<00:00, 47.31it/s]\n"
     ]
    },
    {
     "name": "stdout",
     "output_type": "stream",
     "text": [
      "Epoch: 225, loss: 0.06266956653246898, f1: 0.20150208314229698, precision: 0.11670764726551093, recall: 0.7368996418500675\n",
      "val_loss: 0.06416293188348549, val_f1: 0.20431437161711952, val_precision: 0.11910422346255647, val_recall: 0.7179633712549822\n"
     ]
    },
    {
     "name": "stderr",
     "output_type": "stream",
     "text": [
      "100%|█████████████████████████████████████████| 655/655 [00:13<00:00, 47.31it/s]\n"
     ]
    },
    {
     "name": "stdout",
     "output_type": "stream",
     "text": [
      "Epoch: 226, loss: 0.06265775077329337, f1: 0.20341239192982874, precision: 0.11814173085522618, recall: 0.731083357504761\n",
      "val_loss: 0.06451135021506237, val_f1: 0.203839480526993, val_precision: 0.11804292400991288, val_recall: 0.74618663064657\n"
     ]
    },
    {
     "name": "stderr",
     "output_type": "stream",
     "text": [
      "100%|█████████████████████████████████████████| 655/655 [00:13<00:00, 47.32it/s]\n"
     ]
    },
    {
     "name": "stdout",
     "output_type": "stream",
     "text": [
      "Epoch: 227, loss: 0.0621356793530001, f1: 0.20684879083125754, precision: 0.12048862324494385, recall: 0.7302682042349385\n",
      "val_loss: 0.0643387930125955, val_f1: 0.20179659005316153, val_precision: 0.11724192013861526, val_recall: 0.7237996323666441\n"
     ]
    },
    {
     "name": "stderr",
     "output_type": "stream",
     "text": [
      "100%|█████████████████████████████████████████| 655/655 [00:13<00:00, 47.37it/s]\n"
     ]
    },
    {
     "name": "stdout",
     "output_type": "stream",
     "text": [
      "Epoch: 228, loss: 0.06253722792789909, f1: 0.2056655278781161, precision: 0.11952381329610944, recall: 0.7363805483315737\n",
      "val_loss: 0.06422755491296085, val_f1: 0.20385064255021104, val_precision: 0.11806642352133442, val_recall: 0.7455474827951247\n"
     ]
    },
    {
     "name": "stderr",
     "output_type": "stream",
     "text": [
      "100%|█████████████████████████████████████████| 655/655 [00:13<00:00, 47.25it/s]\n"
     ]
    },
    {
     "name": "stdout",
     "output_type": "stream",
     "text": [
      "Epoch: 229, loss: 0.06265101725846985, f1: 0.20417957851197147, precision: 0.11862461510903508, recall: 0.7324154523720268\n",
      "val_loss: 0.06406496577990164, val_f1: 0.20185636281085034, val_precision: 0.1174577012649575, val_recall: 0.7171891429077047\n"
     ]
    },
    {
     "name": "stderr",
     "output_type": "stream",
     "text": [
      "100%|█████████████████████████████████████████| 655/655 [00:13<00:00, 47.29it/s]\n"
     ]
    },
    {
     "name": "stdout",
     "output_type": "stream",
     "text": [
      "Epoch: 230, loss: 0.06245184926785358, f1: 0.20717290141633793, precision: 0.12024509543624089, recall: 0.7477056420031395\n",
      "val_loss: 0.06548318719713513, val_f1: 0.1996533044113129, val_precision: 0.11550116000286893, val_recall: 0.7355952912924486\n"
     ]
    },
    {
     "name": "stderr",
     "output_type": "stream",
     "text": [
      "100%|█████████████████████████████████████████| 655/655 [00:13<00:00, 47.32it/s]\n"
     ]
    },
    {
     "name": "stdout",
     "output_type": "stream",
     "text": [
      "Epoch: 231, loss: 0.06199895398591766, f1: 0.20531882261624004, precision: 0.11949105399682095, recall: 0.7287988158241483\n",
      "val_loss: 0.06409542507773966, val_f1: 0.20237565724379822, val_precision: 0.118164836095834, val_recall: 0.7042962785024162\n"
     ]
    },
    {
     "name": "stderr",
     "output_type": "stream",
     "text": [
      "100%|█████████████████████████████████████████| 655/655 [00:13<00:00, 47.34it/s]\n"
     ]
    },
    {
     "name": "stdout",
     "output_type": "stream",
     "text": [
      "Epoch: 232, loss: 0.06226839614136301, f1: 0.20655072744059677, precision: 0.120331212539823, recall: 0.728621006990207\n",
      "val_loss: 0.06368973115544527, val_f1: 0.2070706902515239, val_precision: 0.12004957464737219, val_recall: 0.7526463240111639\n"
     ]
    },
    {
     "name": "stderr",
     "output_type": "stream",
     "text": [
      "100%|█████████████████████████████████████████| 655/655 [00:13<00:00, 47.45it/s]\n"
     ]
    },
    {
     "name": "stdout",
     "output_type": "stream",
     "text": [
      "Epoch: 233, loss: 0.06204339257576538, f1: 0.20559331791753088, precision: 0.11967883805836771, recall: 0.7287320332217763\n",
      "val_loss: 0.06463967328634831, val_f1: 0.20334467079298313, val_precision: 0.11843026211963745, val_recall: 0.7185304918830547\n"
     ]
    },
    {
     "name": "stderr",
     "output_type": "stream",
     "text": [
      "100%|█████████████████████████████████████████| 655/655 [00:13<00:00, 47.28it/s]\n"
     ]
    },
    {
     "name": "stdout",
     "output_type": "stream",
     "text": [
      "Epoch: 234, loss: 0.062452078706254174, f1: 0.2058462134558611, precision: 0.11969837151496238, recall: 0.7343984385938135\n",
      "val_loss: 0.06448316196441103, val_f1: 0.20480144528000552, val_precision: 0.11904795378566198, val_recall: 0.7322897357404778\n"
     ]
    },
    {
     "name": "stderr",
     "output_type": "stream",
     "text": [
      "100%|█████████████████████████████████████████| 655/655 [00:13<00:00, 47.28it/s]\n"
     ]
    },
    {
     "name": "stdout",
     "output_type": "stream",
     "text": [
      "Epoch: 235, loss: 0.06273990938056061, f1: 0.20250277957052215, precision: 0.11738367822760616, recall: 0.7367374195624854\n",
      "val_loss: 0.06461637885813866, val_f1: 0.19996470414259362, val_precision: 0.11589276826291114, val_recall: 0.7282796012015518\n"
     ]
    },
    {
     "name": "stderr",
     "output_type": "stream",
     "text": [
      "100%|█████████████████████████████████████████| 655/655 [00:13<00:00, 47.31it/s]\n"
     ]
    },
    {
     "name": "stdout",
     "output_type": "stream",
     "text": [
      "Epoch: 236, loss: 0.06261974806037113, f1: 0.20181822886292033, precision: 0.11712679170669263, recall: 0.7287825886984818\n",
      "val_loss: 0.06547853191716409, val_f1: 0.20094098886620992, val_precision: 0.1159641589038074, val_recall: 0.7519832641023014\n"
     ]
    },
    {
     "name": "stderr",
     "output_type": "stream",
     "text": [
      "100%|█████████████████████████████████████████| 655/655 [00:13<00:00, 47.36it/s]\n"
     ]
    },
    {
     "name": "stdout",
     "output_type": "stream",
     "text": [
      "Epoch: 237, loss: 0.06227536290059335, f1: 0.2044267001005462, precision: 0.11870678826341875, recall: 0.7356512538690604\n",
      "val_loss: 0.06499656812723624, val_f1: 0.19860898919969208, val_precision: 0.11433279206292755, val_recall: 0.7554921081306738\n"
     ]
    },
    {
     "name": "stderr",
     "output_type": "stream",
     "text": [
      "100%|█████████████████████████████████████████| 655/655 [00:13<00:00, 47.26it/s]\n"
     ]
    },
    {
     "name": "stdout",
     "output_type": "stream",
     "text": [
      "Epoch: 238, loss: 0.06285564181686358, f1: 0.2018279714339857, precision: 0.11707321991646336, recall: 0.7311191295735708\n",
      "val_loss: 0.06432743906257075, val_f1: 0.2020629635220045, val_precision: 0.11765059782405717, val_recall: 0.7152254177137799\n"
     ]
    },
    {
     "name": "stderr",
     "output_type": "stream",
     "text": [
      "100%|█████████████████████████████████████████| 655/655 [00:13<00:00, 47.39it/s]\n"
     ]
    },
    {
     "name": "stdout",
     "output_type": "stream",
     "text": [
      "Epoch: 239, loss: 0.06187251559565313, f1: 0.2083971972533715, precision: 0.12166283109815407, recall: 0.7258891294589479\n",
      "val_loss: 0.0639964385692953, val_f1: 0.20209826377638151, val_precision: 0.11791720206276812, val_recall: 0.7063896924667402\n"
     ]
    },
    {
     "name": "stderr",
     "output_type": "stream",
     "text": [
      "100%|█████████████████████████████████████████| 655/655 [00:13<00:00, 47.32it/s]\n"
     ]
    },
    {
     "name": "stdout",
     "output_type": "stream",
     "text": [
      "Epoch: 240, loss: 0.06215291938536537, f1: 0.20913306582800337, precision: 0.12194397696045065, recall: 0.7337821860577314\n",
      "val_loss: 0.06478845145672969, val_f1: 0.20645532847027917, val_precision: 0.12019441111884806, val_recall: 0.7312767968401996\n"
     ]
    },
    {
     "name": "stderr",
     "output_type": "stream",
     "text": [
      "100%|█████████████████████████████████████████| 655/655 [00:13<00:00, 47.29it/s]\n"
     ]
    },
    {
     "name": "stdout",
     "output_type": "stream",
     "text": [
      "Epoch: 241, loss: 0.0622774220107974, f1: 0.20940629281287826, precision: 0.12197683453062222, recall: 0.739353302678534\n",
      "val_loss: 0.06471384968608618, val_f1: 0.2042438809234105, val_precision: 0.11837970933219025, val_recall: 0.7435931538086419\n"
     ]
    },
    {
     "name": "stderr",
     "output_type": "stream",
     "text": [
      "100%|█████████████████████████████████████████| 655/655 [00:13<00:00, 47.37it/s]\n"
     ]
    },
    {
     "name": "stdout",
     "output_type": "stream",
     "text": [
      "Epoch: 242, loss: 0.06198497520517984, f1: 0.2049099961258324, precision: 0.11898853670812802, recall: 0.7373479180436098\n",
      "val_loss: 0.0651029110587108, val_f1: 0.20377756411177458, val_precision: 0.11802868070422647, val_recall: 0.7450975242557876\n"
     ]
    },
    {
     "name": "stderr",
     "output_type": "stream",
     "text": [
      "100%|█████████████████████████████████████████| 655/655 [00:13<00:00, 47.32it/s]\n"
     ]
    },
    {
     "name": "stdout",
     "output_type": "stream",
     "text": [
      "Epoch: 243, loss: 0.06211908460329891, f1: 0.20601498255309983, precision: 0.11997083140508706, recall: 0.7285059590717309\n",
      "val_loss: 0.06485724695231937, val_f1: 0.19845618913649546, val_precision: 0.11520218837861006, val_recall: 0.7156145305398407\n"
     ]
    },
    {
     "name": "stderr",
     "output_type": "stream",
     "text": [
      "100%|█████████████████████████████████████████| 655/655 [00:13<00:00, 47.34it/s]\n"
     ]
    },
    {
     "name": "stdout",
     "output_type": "stream",
     "text": [
      "Epoch: 244, loss: 0.06276911672432231, f1: 0.203618087781737, precision: 0.11844774423618552, recall: 0.7247592264686832\n",
      "val_loss: 0.06456384994011886, val_f1: 0.2044808377283225, val_precision: 0.11881729978384502, val_recall: 0.7328236570598883\n"
     ]
    },
    {
     "name": "stderr",
     "output_type": "stream",
     "text": [
      "100%|█████████████████████████████████████████| 655/655 [00:13<00:00, 47.17it/s]\n"
     ]
    },
    {
     "name": "stdout",
     "output_type": "stream",
     "text": [
      "Epoch: 245, loss: 0.06231158703622472, f1: 0.2041666526659101, precision: 0.11878952117892735, recall: 0.7258642418125204\n",
      "val_loss: 0.06414420813014475, val_f1: 0.2045177153212081, val_precision: 0.11869196028986928, val_recall: 0.7385887222005687\n"
     ]
    },
    {
     "name": "stderr",
     "output_type": "stream",
     "text": [
      "100%|█████████████████████████████████████████| 655/655 [00:13<00:00, 47.29it/s]\n"
     ]
    },
    {
     "name": "stdout",
     "output_type": "stream",
     "text": [
      "Epoch: 246, loss: 0.06268638368493358, f1: 0.2025511593934221, precision: 0.11746568492052095, recall: 0.7347948126551759\n",
      "val_loss: 0.06439624655855085, val_f1: 0.20552488317635478, val_precision: 0.11894758715542085, val_recall: 0.7552199284417913\n"
     ]
    },
    {
     "name": "stderr",
     "output_type": "stream",
     "text": [
      "100%|█████████████████████████████████████████| 655/655 [00:13<00:00, 47.42it/s]\n"
     ]
    },
    {
     "name": "stdout",
     "output_type": "stream",
     "text": [
      "Epoch: 247, loss: 0.062142936487767475, f1: 0.20637928461729163, precision: 0.11993639860231116, recall: 0.7390203723356924\n",
      "val_loss: 0.06436117755573824, val_f1: 0.2023794672597187, val_precision: 0.11732526498188803, val_recall: 0.7357744875304196\n"
     ]
    },
    {
     "name": "stderr",
     "output_type": "stream",
     "text": [
      "100%|█████████████████████████████████████████| 655/655 [00:13<00:00, 47.36it/s]\n"
     ]
    },
    {
     "name": "stdout",
     "output_type": "stream",
     "text": [
      "Epoch: 248, loss: 0.062180262069281844, f1: 0.20339354954687539, precision: 0.1181691829449291, recall: 0.7295487495210334\n",
      "val_loss: 0.06477640350477411, val_f1: 0.20239690761912518, val_precision: 0.11804051307209451, val_recall: 0.7092670334178374\n"
     ]
    },
    {
     "name": "stderr",
     "output_type": "stream",
     "text": [
      "100%|█████████████████████████████████████████| 655/655 [00:13<00:00, 47.30it/s]\n"
     ]
    },
    {
     "name": "stdout",
     "output_type": "stream",
     "text": [
      "Epoch: 249, loss: 0.06271750784784783, f1: 0.2037977859122738, precision: 0.11844955517675813, recall: 0.7292686167336603\n",
      "val_loss: 0.06381934682129446, val_f1: 0.20559752997132563, val_precision: 0.11942388355056968, val_recall: 0.7384385074223947\n"
     ]
    },
    {
     "name": "stderr",
     "output_type": "stream",
     "text": [
      "100%|█████████████████████████████████████████| 655/655 [00:13<00:00, 47.32it/s]\n"
     ]
    },
    {
     "name": "stdout",
     "output_type": "stream",
     "text": [
      "Epoch: 250, loss: 0.062235924020722394, f1: 0.2081060050800909, precision: 0.12099220065954533, recall: 0.7432230070005846\n",
      "val_loss: 0.06510822466412268, val_f1: 0.2001364727023732, val_precision: 0.11628025325245882, val_recall: 0.7177367218590658\n"
     ]
    },
    {
     "name": "stderr",
     "output_type": "stream",
     "text": [
      "100%|█████████████████████████████████████████| 655/655 [00:13<00:00, 47.26it/s]\n"
     ]
    },
    {
     "name": "stdout",
     "output_type": "stream",
     "text": [
      "Epoch: 251, loss: 0.062478584406598835, f1: 0.20375895002968528, precision: 0.11826824828207436, recall: 0.7352049387365807\n",
      "val_loss: 0.0645818595919724, val_f1: 0.19986824425885474, val_precision: 0.11527019356368878, val_recall: 0.7511327559248023\n"
     ]
    },
    {
     "name": "stderr",
     "output_type": "stream",
     "text": [
      "100%|█████████████████████████████████████████| 655/655 [00:13<00:00, 47.18it/s]\n"
     ]
    },
    {
     "name": "stdout",
     "output_type": "stream",
     "text": [
      "Epoch: 252, loss: 0.062481790812085394, f1: 0.20510745655390286, precision: 0.11906132178153586, recall: 0.7396706515027367\n",
      "val_loss: 0.06550590820405461, val_f1: 0.19831671621268654, val_precision: 0.11481493205545522, val_recall: 0.7271616501614041\n"
     ]
    },
    {
     "name": "stderr",
     "output_type": "stream",
     "text": [
      "100%|█████████████████████████████████████████| 655/655 [00:13<00:00, 47.33it/s]\n"
     ]
    },
    {
     "name": "stdout",
     "output_type": "stream",
     "text": [
      "Epoch: 253, loss: 0.06183802475977266, f1: 0.2064778943705756, precision: 0.1199543942348989, recall: 0.7408695283054395\n",
      "val_loss: 0.06408618004360331, val_f1: 0.20712324519280453, val_precision: 0.12050638600346555, val_recall: 0.7365010987728013\n"
     ]
    },
    {
     "name": "stderr",
     "output_type": "stream",
     "text": [
      "100%|█████████████████████████████████████████| 655/655 [00:13<00:00, 47.33it/s]\n"
     ]
    },
    {
     "name": "stdout",
     "output_type": "stream",
     "text": [
      "Epoch: 254, loss: 0.06199784399159537, f1: 0.20496805339907687, precision: 0.11918811986102004, recall: 0.7312506186370631\n",
      "val_loss: 0.06465912730766273, val_f1: 0.20282199977112497, val_precision: 0.11792262403482417, val_recall: 0.7242565058650227\n"
     ]
    },
    {
     "name": "stderr",
     "output_type": "stream",
     "text": [
      "100%|█████████████████████████████████████████| 655/655 [00:13<00:00, 47.27it/s]\n"
     ]
    },
    {
     "name": "stdout",
     "output_type": "stream",
     "text": [
      "Epoch: 255, loss: 0.06212790142673686, f1: 0.20688302573520947, precision: 0.12027942726872008, recall: 0.7389208441813484\n",
      "val_loss: 0.06568945359028534, val_f1: 0.19717699690244048, val_precision: 0.11390515509992838, val_recall: 0.7331716356064202\n"
     ]
    },
    {
     "name": "stderr",
     "output_type": "stream",
     "text": [
      "100%|█████████████████████████████████████████| 655/655 [00:13<00:00, 47.27it/s]\n"
     ]
    },
    {
     "name": "stdout",
     "output_type": "stream",
     "text": [
      "Epoch: 256, loss: 0.06216110970597458, f1: 0.20995073830495295, precision: 0.12219108508629653, recall: 0.745078178182358\n",
      "val_loss: 0.06435268632896723, val_f1: 0.20403118678130153, val_precision: 0.11810713070402042, val_recall: 0.7487643217548318\n"
     ]
    },
    {
     "name": "stderr",
     "output_type": "stream",
     "text": [
      "100%|█████████████████████████████████████████| 655/655 [00:13<00:00, 47.35it/s]\n"
     ]
    },
    {
     "name": "stdout",
     "output_type": "stream",
     "text": [
      "Epoch: 257, loss: 0.062101207648205994, f1: 0.206229824585602, precision: 0.12003850141284234, recall: 0.7313909276068665\n",
      "val_loss: 0.06434215433270156, val_f1: 0.2029819264446077, val_precision: 0.11831905143634511, val_recall: 0.7135875653304639\n"
     ]
    },
    {
     "name": "stderr",
     "output_type": "stream",
     "text": [
      "100%|█████████████████████████████████████████| 655/655 [00:13<00:00, 47.29it/s]\n"
     ]
    },
    {
     "name": "stdout",
     "output_type": "stream",
     "text": [
      "Epoch: 258, loss: 0.062318674376845816, f1: 0.20606759560488158, precision: 0.12004384177111317, recall: 0.7271335067241701\n",
      "val_loss: 0.06463015909144364, val_f1: 0.1981112951374572, val_precision: 0.1140745062799697, val_recall: 0.7523690253632878\n"
     ]
    },
    {
     "name": "stderr",
     "output_type": "stream",
     "text": [
      "100%|█████████████████████████████████████████| 655/655 [00:13<00:00, 47.29it/s]\n"
     ]
    },
    {
     "name": "stdout",
     "output_type": "stream",
     "text": [
      "Epoch: 259, loss: 0.06217233470093658, f1: 0.20284820095049722, precision: 0.11746812081462099, recall: 0.7425880942635864\n",
      "val_loss: 0.06429748390074991, val_f1: 0.20205141726301157, val_precision: 0.11724667271616263, val_recall: 0.730223440112324\n"
     ]
    },
    {
     "name": "stderr",
     "output_type": "stream",
     "text": [
      "100%|█████████████████████████████████████████| 655/655 [00:13<00:00, 47.30it/s]\n"
     ]
    },
    {
     "name": "stdout",
     "output_type": "stream",
     "text": [
      "Epoch: 260, loss: 0.06212853092472744, f1: 0.20586174914991712, precision: 0.1197587410347067, recall: 0.7325273219979447\n",
      "val_loss: 0.06714731019947233, val_f1: 0.20343963971313772, val_precision: 0.11748075518979255, val_recall: 0.7582114260267774\n"
     ]
    },
    {
     "name": "stderr",
     "output_type": "stream",
     "text": [
      "100%|█████████████████████████████████████████| 655/655 [00:13<00:00, 47.17it/s]\n"
     ]
    },
    {
     "name": "stdout",
     "output_type": "stream",
     "text": [
      "Epoch: 261, loss: 0.06236730337654816, f1: 0.20471196875359474, precision: 0.11874763334084672, recall: 0.7415075157889883\n",
      "val_loss: 0.06535383278008448, val_f1: 0.20000105617086136, val_precision: 0.11567417510844973, val_recall: 0.7380208690232093\n"
     ]
    },
    {
     "name": "stderr",
     "output_type": "stream",
     "text": [
      "100%|█████████████████████████████████████████| 655/655 [00:13<00:00, 47.32it/s]\n"
     ]
    },
    {
     "name": "stdout",
     "output_type": "stream",
     "text": [
      "Epoch: 262, loss: 0.061909937591270635, f1: 0.20578860604011845, precision: 0.11966684444146301, recall: 0.7341187148717524\n",
      "val_loss: 0.06513814044765992, val_f1: 0.20216377087849585, val_precision: 0.11679765531673618, val_recall: 0.7512280534987056\n"
     ]
    },
    {
     "name": "stderr",
     "output_type": "stream",
     "text": [
      "100%|█████████████████████████████████████████| 655/655 [00:13<00:00, 47.30it/s]\n"
     ]
    },
    {
     "name": "stdout",
     "output_type": "stream",
     "text": [
      "Epoch: 263, loss: 0.062328133484839704, f1: 0.20246331023144282, precision: 0.11737511492199229, recall: 0.7360303984116052\n",
      "val_loss: 0.06492345937348287, val_f1: 0.20278415091347665, val_precision: 0.11729364429916674, val_recall: 0.7478913653881178\n"
     ]
    },
    {
     "name": "stderr",
     "output_type": "stream",
     "text": [
      "100%|█████████████████████████████████████████| 655/655 [00:13<00:00, 47.33it/s]\n"
     ]
    },
    {
     "name": "stdout",
     "output_type": "stream",
     "text": [
      "Epoch: 264, loss: 0.06228186618792181, f1: 0.20462757124250497, precision: 0.11860554386427953, recall: 0.7448540548786862\n",
      "val_loss: 0.06386009847676945, val_f1: 0.20266859724288053, val_precision: 0.11726213858351794, val_recall: 0.7460318911102933\n"
     ]
    },
    {
     "name": "stderr",
     "output_type": "stream",
     "text": [
      "100%|█████████████████████████████████████████| 655/655 [00:13<00:00, 47.40it/s]\n"
     ]
    },
    {
     "name": "stdout",
     "output_type": "stream",
     "text": [
      "Epoch: 265, loss: 0.06164644512682016, f1: 0.20576067158284703, precision: 0.11947374389656172, recall: 0.7407458921311466\n",
      "val_loss: 0.06456038859937716, val_f1: 0.20287647919113183, val_precision: 0.11745729888661192, val_recall: 0.7437803562764728\n"
     ]
    },
    {
     "name": "stderr",
     "output_type": "stream",
     "text": [
      "100%|█████████████████████████████████████████| 655/655 [00:13<00:00, 47.38it/s]\n"
     ]
    },
    {
     "name": "stdout",
     "output_type": "stream",
     "text": [
      "Epoch: 266, loss: 0.06211555991037429, f1: 0.20550236195929042, precision: 0.11940938812673434, recall: 0.7365411860797242\n",
      "val_loss: 0.06451250103498818, val_f1: 0.20359710476544518, val_precision: 0.11756864762565958, val_recall: 0.758924911328412\n"
     ]
    },
    {
     "name": "stderr",
     "output_type": "stream",
     "text": [
      "100%|█████████████████████████████████████████| 655/655 [00:13<00:00, 47.26it/s]\n"
     ]
    },
    {
     "name": "stdout",
     "output_type": "stream",
     "text": [
      "Epoch: 267, loss: 0.06259803343847256, f1: 0.20442500364323427, precision: 0.11851317122621277, recall: 0.7431306917021293\n",
      "val_loss: 0.06374909788147982, val_f1: 0.20887006832704774, val_precision: 0.12090608215711396, val_recall: 0.7666076151056027\n"
     ]
    },
    {
     "name": "stderr",
     "output_type": "stream",
     "text": [
      "100%|█████████████████████████████████████████| 655/655 [00:13<00:00, 47.34it/s]\n"
     ]
    },
    {
     "name": "stdout",
     "output_type": "stream",
     "text": [
      "Epoch: 268, loss: 0.06247013354147891, f1: 0.20305322485349867, precision: 0.11767522284675759, recall: 0.7398263027877298\n",
      "val_loss: 0.06461621397986599, val_f1: 0.2046994921944531, val_precision: 0.11798429153774173, val_recall: 0.7723705385803082\n"
     ]
    },
    {
     "name": "stderr",
     "output_type": "stream",
     "text": [
      "100%|█████████████████████████████████████████| 655/655 [00:13<00:00, 47.36it/s]\n"
     ]
    },
    {
     "name": "stdout",
     "output_type": "stream",
     "text": [
      "Epoch: 269, loss: 0.06237034141903615, f1: 0.20420525203870257, precision: 0.1183427196785182, recall: 0.7440291111023372\n",
      "val_loss: 0.06421487197416638, val_f1: 0.20168974066641318, val_precision: 0.1168925987530944, val_recall: 0.7345599735822153\n"
     ]
    },
    {
     "name": "stderr",
     "output_type": "stream",
     "text": [
      "100%|█████████████████████████████████████████| 655/655 [00:13<00:00, 47.29it/s]\n"
     ]
    },
    {
     "name": "stdout",
     "output_type": "stream",
     "text": [
      "Epoch: 270, loss: 0.061871119820394414, f1: 0.20481643597868787, precision: 0.11919361019883845, recall: 0.72720405122706\n",
      "val_loss: 0.06369835698823316, val_f1: 0.20592447020595683, val_precision: 0.11897297077513205, val_recall: 0.7650943241261561\n"
     ]
    },
    {
     "name": "stderr",
     "output_type": "stream",
     "text": [
      "100%|█████████████████████████████████████████| 655/655 [00:13<00:00, 47.28it/s]\n"
     ]
    },
    {
     "name": "stdout",
     "output_type": "stream",
     "text": [
      "Epoch: 271, loss: 0.062325434682728366, f1: 0.2050109298781196, precision: 0.11897462267101608, recall: 0.7405083618318762\n",
      "val_loss: 0.06439443696461139, val_f1: 0.20570685170601719, val_precision: 0.11881489991936661, val_recall: 0.7656259972157828\n"
     ]
    },
    {
     "name": "stderr",
     "output_type": "stream",
     "text": [
      "100%|█████████████████████████████████████████| 655/655 [00:13<00:00, 47.24it/s]\n"
     ]
    },
    {
     "name": "stdout",
     "output_type": "stream",
     "text": [
      "Epoch: 272, loss: 0.06237512161628208, f1: 0.2033701791359116, precision: 0.1177269205223513, recall: 0.746241030210757\n",
      "val_loss: 0.06446124236483913, val_f1: 0.2009128492196964, val_precision: 0.11631212932476347, val_recall: 0.7369146222641708\n"
     ]
    },
    {
     "name": "stderr",
     "output_type": "stream",
     "text": [
      "100%|█████████████████████████████████████████| 655/655 [00:13<00:00, 47.36it/s]\n"
     ]
    },
    {
     "name": "stdout",
     "output_type": "stream",
     "text": [
      "Epoch: 273, loss: 0.06202934166443141, f1: 0.20664080760808018, precision: 0.1201640153456593, recall: 0.737098131095635\n",
      "val_loss: 0.06405129969769388, val_f1: 0.20373782947102465, val_precision: 0.11743446032798618, val_recall: 0.7685513466323187\n"
     ]
    },
    {
     "name": "stderr",
     "output_type": "stream",
     "text": [
      "100%|█████████████████████████████████████████| 655/655 [00:13<00:00, 47.38it/s]\n"
     ]
    },
    {
     "name": "stdout",
     "output_type": "stream",
     "text": [
      "Epoch: 274, loss: 0.061550218932153275, f1: 0.20897696120339868, precision: 0.1217327197707962, recall: 0.7376183317590306\n",
      "val_loss: 0.06347341619329441, val_f1: 0.2082926919760173, val_precision: 0.12029885341319332, val_recall: 0.7756496053359924\n"
     ]
    },
    {
     "name": "stderr",
     "output_type": "stream",
     "text": [
      "100%|█████████████████████████████████████████| 655/655 [00:13<00:00, 47.30it/s]\n"
     ]
    },
    {
     "name": "stdout",
     "output_type": "stream",
     "text": [
      "Epoch: 275, loss: 0.06235665634046984, f1: 0.2056365186967101, precision: 0.11960588375049579, recall: 0.7325437167559872\n",
      "val_loss: 0.06434462729568055, val_f1: 0.20425082488963942, val_precision: 0.11774844493409363, val_recall: 0.769703865871517\n"
     ]
    },
    {
     "name": "stderr",
     "output_type": "stream",
     "text": [
      "100%|█████████████████████████████████████████| 655/655 [00:13<00:00, 47.27it/s]\n"
     ]
    },
    {
     "name": "stdout",
     "output_type": "stream",
     "text": [
      "Epoch: 276, loss: 0.06196906215276655, f1: 0.20532315807601834, precision: 0.1191105805284109, recall: 0.7433934688568116\n",
      "val_loss: 0.06528833625120443, val_f1: 0.20055545223972446, val_precision: 0.11524223240194928, val_recall: 0.7722425852483565\n"
     ]
    },
    {
     "name": "stderr",
     "output_type": "stream",
     "text": [
      "100%|█████████████████████████████████████████| 655/655 [00:13<00:00, 47.15it/s]\n"
     ]
    },
    {
     "name": "stdout",
     "output_type": "stream",
     "text": [
      "Epoch: 277, loss: 0.06216353296975327, f1: 0.20527403652003418, precision: 0.11919875588154293, recall: 0.7387029769197675\n",
      "val_loss: 0.06459586250535938, val_f1: 0.20025695368722826, val_precision: 0.11593363146135292, val_recall: 0.7344602576773102\n"
     ]
    },
    {
     "name": "stderr",
     "output_type": "stream",
     "text": [
      "100%|█████████████████████████████████████████| 655/655 [00:13<00:00, 47.31it/s]\n"
     ]
    },
    {
     "name": "stdout",
     "output_type": "stream",
     "text": [
      "Epoch: 278, loss: 0.0620104951855108, f1: 0.2042721298024704, precision: 0.11880650811807345, recall: 0.7279008161930638\n",
      "val_loss: 0.06394397265730647, val_f1: 0.20115367509359763, val_precision: 0.11628864955481723, val_recall: 0.7444045670125463\n"
     ]
    },
    {
     "name": "stderr",
     "output_type": "stream",
     "text": [
      "100%|█████████████████████████████████████████| 655/655 [00:13<00:00, 47.29it/s]\n"
     ]
    },
    {
     "name": "stdout",
     "output_type": "stream",
     "text": [
      "Epoch: 279, loss: 0.06186120347724161, f1: 0.20588658247850308, precision: 0.11935912099745097, recall: 0.7484983053484946\n",
      "val_loss: 0.06472290120164462, val_f1: 0.20231615361710129, val_precision: 0.11721682054024839, val_recall: 0.7383783148652917\n"
     ]
    },
    {
     "name": "stderr",
     "output_type": "stream",
     "text": [
      "100%|█████████████████████████████████████████| 655/655 [00:13<00:00, 47.34it/s]\n"
     ]
    },
    {
     "name": "stdout",
     "output_type": "stream",
     "text": [
      "Epoch: 280, loss: 0.06233461914967944, f1: 0.20254678452938366, precision: 0.11732768121083047, recall: 0.7401244815410548\n",
      "val_loss: 0.06428519627848349, val_f1: 0.20404241255820046, val_precision: 0.11843637792273946, val_recall: 0.7360886870584357\n"
     ]
    },
    {
     "name": "stderr",
     "output_type": "stream",
     "text": [
      "100%|█████████████████████████████████████████| 655/655 [00:13<00:00, 47.32it/s]\n"
     ]
    },
    {
     "name": "stdout",
     "output_type": "stream",
     "text": [
      "Epoch: 281, loss: 0.06225700564966857, f1: 0.20487976752017525, precision: 0.11904909111637593, recall: 0.7342538866605467\n",
      "val_loss: 0.0643389692461682, val_f1: 0.19780545108373984, val_precision: 0.1148655386620261, val_recall: 0.7116862647577163\n"
     ]
    },
    {
     "name": "stderr",
     "output_type": "stream",
     "text": [
      "100%|█████████████████████████████████████████| 655/655 [00:13<00:00, 47.36it/s]\n"
     ]
    },
    {
     "name": "stdout",
     "output_type": "stream",
     "text": [
      "Epoch: 282, loss: 0.061639114409571386, f1: 0.20855660528241385, precision: 0.12143342814635741, recall: 0.7381392673112964\n",
      "val_loss: 0.06447870873017322, val_f1: 0.20142393117058216, val_precision: 0.11688509653963217, val_recall: 0.7278570768619896\n"
     ]
    },
    {
     "name": "stderr",
     "output_type": "stream",
     "text": [
      "100%|█████████████████████████████████████████| 655/655 [00:13<00:00, 47.30it/s]\n"
     ]
    },
    {
     "name": "stdout",
     "output_type": "stream",
     "text": [
      "Epoch: 283, loss: 0.06244422333272359, f1: 0.20481878818170135, precision: 0.118600547874972, recall: 0.7501510027426345\n",
      "val_loss: 0.06387291434690903, val_f1: 0.20480340305744626, val_precision: 0.11882521911020126, val_recall: 0.7408829783901162\n"
     ]
    },
    {
     "name": "stderr",
     "output_type": "stream",
     "text": [
      "100%|█████████████████████████████████████████| 655/655 [00:13<00:00, 47.32it/s]\n"
     ]
    },
    {
     "name": "stdout",
     "output_type": "stream",
     "text": [
      "Epoch: 284, loss: 0.06285715560848248, f1: 0.2007883355978496, precision: 0.11625509748683233, recall: 0.7358543284806132\n",
      "val_loss: 0.06464183754330381, val_f1: 0.19679603296120396, val_precision: 0.11308013725547342, val_recall: 0.7578510884024682\n"
     ]
    },
    {
     "name": "stderr",
     "output_type": "stream",
     "text": [
      "100%|█████████████████████████████████████████| 655/655 [00:13<00:00, 47.32it/s]\n"
     ]
    },
    {
     "name": "stdout",
     "output_type": "stream",
     "text": [
      "Epoch: 285, loss: 0.062276743426350235, f1: 0.20180055962801216, precision: 0.11698719329762322, recall: 0.7337666451931\n",
      "val_loss: 0.06368084661149924, val_f1: 0.20440954635035982, val_precision: 0.1188909593251867, val_recall: 0.7282205424997785\n"
     ]
    },
    {
     "name": "stderr",
     "output_type": "stream",
     "text": [
      "100%|█████████████████████████████████████████| 655/655 [00:13<00:00, 47.26it/s]\n"
     ]
    },
    {
     "name": "stdout",
     "output_type": "stream",
     "text": [
      "Epoch: 286, loss: 0.06221643411537751, f1: 0.2062783692361285, precision: 0.11984298574375629, recall: 0.7399817406107451\n",
      "val_loss: 0.06441769947152619, val_f1: 0.20207767191472886, val_precision: 0.11636479732520673, val_recall: 0.7671534193491717\n"
     ]
    },
    {
     "name": "stderr",
     "output_type": "stream",
     "text": [
      "100%|█████████████████████████████████████████| 655/655 [00:13<00:00, 47.26it/s]\n"
     ]
    },
    {
     "name": "stdout",
     "output_type": "stream",
     "text": [
      "Epoch: 287, loss: 0.062359770722971615, f1: 0.20521309128995474, precision: 0.11893026543734951, recall: 0.7475639048195978\n",
      "val_loss: 0.06345151327208641, val_f1: 0.2080635509953318, val_precision: 0.12036708273301157, val_recall: 0.766560502828808\n"
     ]
    },
    {
     "name": "stderr",
     "output_type": "stream",
     "text": [
      "100%|█████████████████████████████████████████| 655/655 [00:13<00:00, 47.28it/s]\n"
     ]
    },
    {
     "name": "stdout",
     "output_type": "stream",
     "text": [
      "Epoch: 288, loss: 0.06162416587036302, f1: 0.20680222804914244, precision: 0.12012439273326224, recall: 0.7427368906845573\n",
      "val_loss: 0.06494924651646833, val_f1: 0.19722349150133375, val_precision: 0.11384998535130754, val_recall: 0.7367613388037463\n"
     ]
    },
    {
     "name": "stderr",
     "output_type": "stream",
     "text": [
      "100%|█████████████████████████████████████████| 655/655 [00:13<00:00, 47.34it/s]\n"
     ]
    },
    {
     "name": "stdout",
     "output_type": "stream",
     "text": [
      "Epoch: 289, loss: 0.06208543547976563, f1: 0.20427426122164646, precision: 0.11856153010255621, recall: 0.7372893293054049\n",
      "val_loss: 0.06452435124323729, val_f1: 0.20018434578353034, val_precision: 0.11543661167571714, val_recall: 0.7529960174216043\n"
     ]
    },
    {
     "name": "stderr",
     "output_type": "stream",
     "text": [
      "100%|█████████████████████████████████████████| 655/655 [00:13<00:00, 47.30it/s]\n"
     ]
    },
    {
     "name": "stdout",
     "output_type": "stream",
     "text": [
      "Epoch: 290, loss: 0.06202713323486898, f1: 0.2058216234345488, precision: 0.11957828025226944, recall: 0.7383183510248897\n",
      "val_loss: 0.06386016649322225, val_f1: 0.2044782876699651, val_precision: 0.11871275101326953, val_recall: 0.7367597086987364\n"
     ]
    },
    {
     "name": "stderr",
     "output_type": "stream",
     "text": [
      "100%|█████████████████████████████████████████| 655/655 [00:13<00:00, 47.34it/s]\n"
     ]
    },
    {
     "name": "stdout",
     "output_type": "stream",
     "text": [
      "Epoch: 291, loss: 0.06201289982342993, f1: 0.20401584165888106, precision: 0.11835447897750685, recall: 0.738571032017242\n",
      "val_loss: 0.06403562646154143, val_f1: 0.19922285088921948, val_precision: 0.11549262036014041, val_recall: 0.7244029560493767\n"
     ]
    },
    {
     "name": "stderr",
     "output_type": "stream",
     "text": [
      "100%|█████████████████████████████████████████| 655/655 [00:13<00:00, 47.31it/s]\n"
     ]
    },
    {
     "name": "stdout",
     "output_type": "stream",
     "text": [
      "Epoch: 292, loss: 0.062469764336773, f1: 0.20245266728293604, precision: 0.11744985718223203, recall: 0.7328259116706958\n",
      "val_loss: 0.06622091157003007, val_f1: 0.2018757461926168, val_precision: 0.11700832004308565, val_recall: 0.7349248592049704\n"
     ]
    },
    {
     "name": "stderr",
     "output_type": "stream",
     "text": [
      "100%|█████████████████████████████████████████| 655/655 [00:13<00:00, 47.36it/s]\n"
     ]
    },
    {
     "name": "stdout",
     "output_type": "stream",
     "text": [
      "Epoch: 293, loss: 0.06239759013739251, f1: 0.20058389587707823, precision: 0.11604304926555234, recall: 0.7388806162785938\n",
      "val_loss: 0.06582354966533976, val_f1: 0.2029511899868468, val_precision: 0.11730622242145035, val_recall: 0.7519423200859936\n"
     ]
    },
    {
     "name": "stderr",
     "output_type": "stream",
     "text": [
      "100%|█████████████████████████████████████████| 655/655 [00:13<00:00, 47.35it/s]\n"
     ]
    },
    {
     "name": "stdout",
     "output_type": "stream",
     "text": [
      "Epoch: 294, loss: 0.06247915035213223, f1: 0.2023616924751829, precision: 0.11710538658676029, recall: 0.7440605414050226\n",
      "val_loss: 0.06532326055724823, val_f1: 0.2010713373144961, val_precision: 0.11749329955163283, val_recall: 0.6965753357139749\n"
     ]
    },
    {
     "name": "stderr",
     "output_type": "stream",
     "text": [
      "100%|█████████████████████████████████████████| 655/655 [00:13<00:00, 47.27it/s]\n"
     ]
    },
    {
     "name": "stdout",
     "output_type": "stream",
     "text": [
      "Epoch: 295, loss: 0.06192106537963886, f1: 0.2068139444313543, precision: 0.12022546810090882, recall: 0.7391952124829511\n",
      "val_loss: 0.06378243940480806, val_f1: 0.20860327830366018, val_precision: 0.12057112540981364, val_recall: 0.7729663872117296\n"
     ]
    },
    {
     "name": "stderr",
     "output_type": "stream",
     "text": [
      "100%|█████████████████████████████████████████| 655/655 [00:13<00:00, 47.30it/s]\n"
     ]
    },
    {
     "name": "stdout",
     "output_type": "stream",
     "text": [
      "Epoch: 296, loss: 0.06231703836015845, f1: 0.20598486578048375, precision: 0.1193164163553476, recall: 0.7527995865991097\n",
      "val_loss: 0.06556558591920301, val_f1: 0.20732137104633858, val_precision: 0.12007203440549313, val_recall: 0.7584233013314938\n"
     ]
    },
    {
     "name": "stderr",
     "output_type": "stream",
     "text": [
      "100%|█████████████████████████████████████████| 655/655 [00:13<00:00, 47.36it/s]\n"
     ]
    },
    {
     "name": "stdout",
     "output_type": "stream",
     "text": [
      "Epoch: 297, loss: 0.06238204219613139, f1: 0.20309933336302, precision: 0.11763756804040257, recall: 0.74254904709017\n",
      "val_loss: 0.06511531724090423, val_f1: 0.20132800891943692, val_precision: 0.11554490884236239, val_recall: 0.7816200494219404\n"
     ]
    },
    {
     "name": "stderr",
     "output_type": "stream",
     "text": [
      "100%|█████████████████████████████████████████| 655/655 [00:13<00:00, 47.29it/s]\n"
     ]
    },
    {
     "name": "stdout",
     "output_type": "stream",
     "text": [
      "Epoch: 298, loss: 0.061481466536555784, f1: 0.20837660094105814, precision: 0.12117270236792228, recall: 0.743316014270291\n",
      "val_loss: 0.06388043344806914, val_f1: 0.20839846317083613, val_precision: 0.12213549008507521, val_recall: 0.7095361731331283\n"
     ]
    },
    {
     "name": "stderr",
     "output_type": "stream",
     "text": [
      "100%|█████████████████████████████████████████| 655/655 [00:13<00:00, 47.32it/s]\n"
     ]
    },
    {
     "name": "stdout",
     "output_type": "stream",
     "text": [
      "Epoch: 299, loss: 0.06169884199603596, f1: 0.20730195965695555, precision: 0.1205328225179483, recall: 0.7400462962061394\n",
      "val_loss: 0.06480831297439173, val_f1: 0.19930226952151608, val_precision: 0.11611021332306053, val_recall: 0.7029867723857591\n"
     ]
    },
    {
     "name": "stderr",
     "output_type": "stream",
     "text": [
      "100%|█████████████████████████████████████████| 655/655 [00:13<00:00, 47.28it/s]\n"
     ]
    },
    {
     "name": "stdout",
     "output_type": "stream",
     "text": [
      "Epoch: 300, loss: 0.062233852405982615, f1: 0.20381166272023996, precision: 0.11846772149873486, recall: 0.7289356195232796\n",
      "val_loss: 0.06636336614130013, val_f1: 0.19945336184441867, val_precision: 0.11473798307103164, val_recall: 0.762254873957109\n"
     ]
    },
    {
     "name": "stderr",
     "output_type": "stream",
     "text": [
      "100%|█████████████████████████████████████████| 655/655 [00:13<00:00, 47.31it/s]\n"
     ]
    },
    {
     "name": "stdout",
     "output_type": "stream",
     "text": [
      "Epoch: 301, loss: 0.0619549298872247, f1: 0.2011539961304726, precision: 0.11638022602983672, recall: 0.7406824602198054\n",
      "val_loss: 0.06440068732673696, val_f1: 0.20299923114119278, val_precision: 0.11712567098951394, val_recall: 0.7607940878343145\n"
     ]
    },
    {
     "name": "stderr",
     "output_type": "stream",
     "text": [
      "100%|█████████████████████████████████████████| 655/655 [00:13<00:00, 47.39it/s]\n"
     ]
    },
    {
     "name": "stdout",
     "output_type": "stream",
     "text": [
      "Epoch: 302, loss: 0.06205400759140954, f1: 0.20550585872972904, precision: 0.11912231886375496, recall: 0.7477473253853448\n",
      "val_loss: 0.06453409006631156, val_f1: 0.1952772552222267, val_precision: 0.11169581022967986, val_recall: 0.7758187338573124\n"
     ]
    },
    {
     "name": "stderr",
     "output_type": "stream",
     "text": [
      "100%|█████████████████████████████████████████| 655/655 [00:13<00:00, 47.27it/s]\n"
     ]
    },
    {
     "name": "stdout",
     "output_type": "stream",
     "text": [
      "Epoch: 303, loss: 0.06279729411489408, f1: 0.1994774766391773, precision: 0.11551068483617243, recall: 0.7304672226651024\n",
      "val_loss: 0.06356745426876283, val_f1: 0.2008390543935762, val_precision: 0.1151191517753407, val_recall: 0.7864289819647413\n"
     ]
    },
    {
     "name": "stderr",
     "output_type": "stream",
     "text": [
      "100%|█████████████████████████████████████████| 655/655 [00:13<00:00, 47.32it/s]\n"
     ]
    },
    {
     "name": "stdout",
     "output_type": "stream",
     "text": [
      "Epoch: 304, loss: 0.06174566759066657, f1: 0.20633356392515914, precision: 0.11963687567964537, recall: 0.7493916962437958\n",
      "val_loss: 0.06400160252227696, val_f1: 0.19991434099320857, val_precision: 0.1149425682346892, val_recall: 0.7667019648836293\n"
     ]
    },
    {
     "name": "stderr",
     "output_type": "stream",
     "text": [
      "100%|█████████████████████████████████████████| 655/655 [00:13<00:00, 47.31it/s]\n"
     ]
    },
    {
     "name": "stdout",
     "output_type": "stream",
     "text": [
      "Epoch: 305, loss: 0.061784711956965846, f1: 0.20983257651844187, precision: 0.12194008821735286, recall: 0.7515068009040737\n",
      "val_loss: 0.06453421790528735, val_f1: 0.2055747844879993, val_precision: 0.11902871148216479, val_recall: 0.753304006651454\n"
     ]
    },
    {
     "name": "stderr",
     "output_type": "stream",
     "text": [
      "100%|█████████████████████████████████████████| 655/655 [00:13<00:00, 47.35it/s]\n"
     ]
    },
    {
     "name": "stdout",
     "output_type": "stream",
     "text": [
      "Epoch: 306, loss: 0.061764120830948115, f1: 0.20524822568606094, precision: 0.11910604453318617, recall: 0.7416091987422404\n",
      "val_loss: 0.06465095684034836, val_f1: 0.20131804163281045, val_precision: 0.11662673231624408, val_recall: 0.7352044578265706\n"
     ]
    },
    {
     "name": "stderr",
     "output_type": "stream",
     "text": [
      "100%|█████████████████████████████████████████| 655/655 [00:13<00:00, 47.30it/s]\n"
     ]
    },
    {
     "name": "stdout",
     "output_type": "stream",
     "text": [
      "Epoch: 307, loss: 0.0627789723251957, f1: 0.20164055908323097, precision: 0.11659209092382257, recall: 0.7453073660608467\n",
      "val_loss: 0.06457530449084732, val_f1: 0.20189485271546712, val_precision: 0.11609662171248175, val_recall: 0.7736156869235389\n"
     ]
    },
    {
     "name": "stderr",
     "output_type": "stream",
     "text": [
      "100%|█████████████████████████████████████████| 655/655 [00:13<00:00, 47.28it/s]\n"
     ]
    },
    {
     "name": "stdout",
     "output_type": "stream",
     "text": [
      "Epoch: 308, loss: 0.06143398341496982, f1: 0.20751241381630844, precision: 0.12043406397018952, recall: 0.7492438395173495\n",
      "val_loss: 0.06457584848576182, val_f1: 0.20267463355002646, val_precision: 0.1174199755277929, val_recall: 0.7398667993075257\n"
     ]
    },
    {
     "name": "stderr",
     "output_type": "stream",
     "text": [
      "100%|█████████████████████████████████████████| 655/655 [00:13<00:00, 47.27it/s]\n"
     ]
    },
    {
     "name": "stdout",
     "output_type": "stream",
     "text": [
      "Epoch: 309, loss: 0.061874569213117354, f1: 0.2057229232807548, precision: 0.11948412791363724, recall: 0.739370678444855\n",
      "val_loss: 0.06472930166050109, val_f1: 0.20182321932199995, val_precision: 0.11665513504663944, val_recall: 0.7477269013403752\n"
     ]
    },
    {
     "name": "stderr",
     "output_type": "stream",
     "text": [
      "100%|█████████████████████████████████████████| 655/655 [00:13<00:00, 47.34it/s]\n"
     ]
    },
    {
     "name": "stdout",
     "output_type": "stream",
     "text": [
      "Epoch: 310, loss: 0.06196030256487713, f1: 0.20359737229896108, precision: 0.11803607591854423, recall: 0.740015336063527\n",
      "val_loss: 0.06422028373585108, val_f1: 0.20223245156199918, val_precision: 0.11680011914769581, val_recall: 0.7530264930304037\n"
     ]
    },
    {
     "name": "stderr",
     "output_type": "stream",
     "text": [
      "100%|█████████████████████████████████████████| 655/655 [00:13<00:00, 47.32it/s]\n"
     ]
    },
    {
     "name": "stdout",
     "output_type": "stream",
     "text": [
      "Epoch: 311, loss: 0.061925207809541784, f1: 0.2055441795711828, precision: 0.11906945242809544, recall: 0.7508586956116989\n",
      "val_loss: 0.06389899968827537, val_f1: 0.20573842502093373, val_precision: 0.11864484633840279, val_recall: 0.7736552486179071\n"
     ]
    },
    {
     "name": "stderr",
     "output_type": "stream",
     "text": [
      "100%|█████████████████████████████████████████| 655/655 [00:13<00:00, 47.36it/s]\n"
     ]
    },
    {
     "name": "stdout",
     "output_type": "stream",
     "text": [
      "Epoch: 312, loss: 0.06225176021058596, f1: 0.2002852128672776, precision: 0.11567349501864145, recall: 0.745858501466631\n",
      "val_loss: 0.06499810424556426, val_f1: 0.19772943214659888, val_precision: 0.11388883919566187, val_recall: 0.749433937627788\n"
     ]
    },
    {
     "name": "stderr",
     "output_type": "stream",
     "text": [
      "100%|█████████████████████████████████████████| 655/655 [00:13<00:00, 47.22it/s]\n"
     ]
    },
    {
     "name": "stdout",
     "output_type": "stream",
     "text": [
      "Epoch: 313, loss: 0.06177804280451911, f1: 0.20550689742333994, precision: 0.11916780840456201, recall: 0.7459872646925558\n",
      "val_loss: 0.06357335594884299, val_f1: 0.20671166798963936, val_precision: 0.11984144528439149, val_recall: 0.7513408090816726\n"
     ]
    },
    {
     "name": "stderr",
     "output_type": "stream",
     "text": [
      "100%|█████████████████████████████████████████| 655/655 [00:13<00:00, 47.29it/s]\n"
     ]
    },
    {
     "name": "stdout",
     "output_type": "stream",
     "text": [
      "Epoch: 314, loss: 0.06201288644508779, f1: 0.2046687102344414, precision: 0.11858852077026688, recall: 0.7466196700816846\n",
      "val_loss: 0.06546177439938444, val_f1: 0.19236196545985196, val_precision: 0.11092542000691655, val_recall: 0.723589222536448\n"
     ]
    },
    {
     "name": "stderr",
     "output_type": "stream",
     "text": [
      "100%|█████████████████████████████████████████| 655/655 [00:13<00:00, 47.41it/s]\n"
     ]
    },
    {
     "name": "stdout",
     "output_type": "stream",
     "text": [
      "Epoch: 315, loss: 0.06257742190065274, f1: 0.20268756893435524, precision: 0.11735515753802567, recall: 0.7427979935899036\n",
      "val_loss: 0.0646368455603172, val_f1: 0.20219937629143173, val_precision: 0.116744619341345, val_recall: 0.7544197197490876\n"
     ]
    },
    {
     "name": "stderr",
     "output_type": "stream",
     "text": [
      "100%|█████████████████████████████████████████| 655/655 [00:13<00:00, 47.36it/s]\n"
     ]
    },
    {
     "name": "stdout",
     "output_type": "stream",
     "text": [
      "Epoch: 316, loss: 0.062321463086488026, f1: 0.20476608603645213, precision: 0.11866088780922858, recall: 0.7463434463921395\n",
      "val_loss: 0.06551866029141419, val_f1: 0.20014327393411357, val_precision: 0.11515756285911717, val_recall: 0.763891186189214\n"
     ]
    },
    {
     "name": "stderr",
     "output_type": "stream",
     "text": [
      "100%|█████████████████████████████████████████| 655/655 [00:13<00:00, 47.34it/s]\n"
     ]
    },
    {
     "name": "stdout",
     "output_type": "stream",
     "text": [
      "Epoch: 317, loss: 0.06148805119921916, f1: 0.20572695253860127, precision: 0.11931175902798657, recall: 0.746146115888166\n",
      "val_loss: 0.06496175496471585, val_f1: 0.1992006379120893, val_precision: 0.11474845048313567, val_recall: 0.7544813198507379\n"
     ]
    },
    {
     "name": "stderr",
     "output_type": "stream",
     "text": [
      "100%|█████████████████████████████████████████| 655/655 [00:13<00:00, 47.33it/s]\n"
     ]
    },
    {
     "name": "stdout",
     "output_type": "stream",
     "text": [
      "Epoch: 318, loss: 0.06212426106097134, f1: 0.20440565817076514, precision: 0.11857994717282762, recall: 0.7400084684709556\n",
      "val_loss: 0.06416582040181128, val_f1: 0.20471155219373444, val_precision: 0.11847425215031712, val_recall: 0.7523368826016373\n"
     ]
    },
    {
     "name": "stderr",
     "output_type": "stream",
     "text": [
      "100%|█████████████████████████████████████████| 655/655 [00:13<00:00, 47.23it/s]\n"
     ]
    },
    {
     "name": "stdout",
     "output_type": "stream",
     "text": [
      "Epoch: 319, loss: 0.06216555903735507, f1: 0.20618532800883413, precision: 0.11956830365291818, recall: 0.748172163087448\n",
      "val_loss: 0.0645816982595609, val_f1: 0.1989973425193432, val_precision: 0.11445706340253627, val_recall: 0.7613335454819399\n"
     ]
    },
    {
     "name": "stderr",
     "output_type": "stream",
     "text": [
      "100%|█████████████████████████████████████████| 655/655 [00:13<00:00, 47.32it/s]\n"
     ]
    },
    {
     "name": "stdout",
     "output_type": "stream",
     "text": [
      "Epoch: 320, loss: 0.06165183259757193, f1: 0.20342383475785225, precision: 0.11755171197534091, recall: 0.7548336528867255\n",
      "val_loss: 0.06447168815573422, val_f1: 0.202257046275377, val_precision: 0.11784435028141928, val_recall: 0.7129425903730983\n"
     ]
    },
    {
     "name": "stderr",
     "output_type": "stream",
     "text": [
      "100%|█████████████████████████████████████████| 655/655 [00:13<00:00, 47.29it/s]\n"
     ]
    },
    {
     "name": "stdout",
     "output_type": "stream",
     "text": [
      "Epoch: 321, loss: 0.06181177434205781, f1: 0.2076614298963887, precision: 0.1207426575204457, recall: 0.7412984287010804\n",
      "val_loss: 0.06460592180593025, val_f1: 0.20314126545893207, val_precision: 0.11749100210486886, val_recall: 0.7495828232633959\n"
     ]
    },
    {
     "name": "stderr",
     "output_type": "stream",
     "text": [
      "100%|█████████████████████████████████████████| 655/655 [00:13<00:00, 47.36it/s]\n"
     ]
    },
    {
     "name": "stdout",
     "output_type": "stream",
     "text": [
      "Epoch: 322, loss: 0.062104982396459764, f1: 0.20286418362053615, precision: 0.1175613399449281, recall: 0.7393086476862886\n",
      "val_loss: 0.06508872058208383, val_f1: 0.19928328926666708, val_precision: 0.11472373412614432, val_recall: 0.7579361965896887\n"
     ]
    },
    {
     "name": "stderr",
     "output_type": "stream",
     "text": [
      "100%|█████████████████████████████████████████| 655/655 [00:13<00:00, 47.18it/s]\n"
     ]
    },
    {
     "name": "stdout",
     "output_type": "stream",
     "text": [
      "Epoch: 323, loss: 0.062032479863926654, f1: 0.2037736921638087, precision: 0.1181363291789614, recall: 0.7407335923145746\n",
      "val_loss: 0.06460865995838144, val_f1: 0.19600891802539472, val_precision: 0.11316141824519962, val_recall: 0.7316984499403096\n"
     ]
    },
    {
     "name": "stderr",
     "output_type": "stream",
     "text": [
      "100%|█████████████████████████████████████████| 655/655 [00:13<00:00, 47.35it/s]\n"
     ]
    },
    {
     "name": "stdout",
     "output_type": "stream",
     "text": [
      "Epoch: 324, loss: 0.062024605198841516, f1: 0.20504902068127379, precision: 0.11891783565808912, recall: 0.7437168869353433\n",
      "val_loss: 0.06401617658418526, val_f1: 0.20674500717370686, val_precision: 0.11987555007569901, val_recall: 0.7508817077229876\n"
     ]
    },
    {
     "name": "stderr",
     "output_type": "stream",
     "text": [
      "100%|█████████████████████████████████████████| 655/655 [00:13<00:00, 47.28it/s]\n"
     ]
    },
    {
     "name": "stdout",
     "output_type": "stream",
     "text": [
      "Epoch: 325, loss: 0.06192814417410898, f1: 0.20369956427256922, precision: 0.11809209888758322, recall: 0.7405134826443578\n",
      "val_loss: 0.06467091649292259, val_f1: 0.19873177511358828, val_precision: 0.1144067719578743, val_recall: 0.7558152921702883\n"
     ]
    },
    {
     "name": "stderr",
     "output_type": "stream",
     "text": [
      "100%|█████████████████████████████████████████| 655/655 [00:13<00:00, 47.28it/s]\n"
     ]
    },
    {
     "name": "stdout",
     "output_type": "stream",
     "text": [
      "Epoch: 326, loss: 0.062132527124677, f1: 0.20170723492210013, precision: 0.11664126051540082, recall: 0.745120283483549\n",
      "val_loss: 0.06496775503176341, val_f1: 0.1994990555682753, val_precision: 0.11555738581361574, val_recall: 0.7291813125714249\n"
     ]
    },
    {
     "name": "stderr",
     "output_type": "stream",
     "text": [
      "100%|█████████████████████████████████████████| 655/655 [00:13<00:00, 47.33it/s]\n"
     ]
    },
    {
     "name": "stdout",
     "output_type": "stream",
     "text": [
      "Epoch: 327, loss: 0.06217397914360498, f1: 0.2048330651506685, precision: 0.11866965536881266, recall: 0.7477784287497288\n",
      "val_loss: 0.06595270316022525, val_f1: 0.20175333016631086, val_precision: 0.11583656521189377, val_recall: 0.7811018985892655\n"
     ]
    },
    {
     "name": "stderr",
     "output_type": "stream",
     "text": [
      "100%|█████████████████████████████████████████| 655/655 [00:13<00:00, 47.24it/s]\n"
     ]
    },
    {
     "name": "stdout",
     "output_type": "stream",
     "text": [
      "Epoch: 328, loss: 0.061948432564181775, f1: 0.20605865649081398, precision: 0.11951277144430987, recall: 0.7470114350546407\n",
      "val_loss: 0.06573650193904791, val_f1: 0.19973418311372038, val_precision: 0.11488078550837182, val_recall: 0.7641563736107371\n"
     ]
    },
    {
     "name": "stderr",
     "output_type": "stream",
     "text": [
      "100%|█████████████████████████████████████████| 655/655 [00:13<00:00, 47.24it/s]\n"
     ]
    },
    {
     "name": "stdout",
     "output_type": "stream",
     "text": [
      "Epoch: 329, loss: 0.06144708136425624, f1: 0.20997811733401722, precision: 0.12214505910688571, recall: 0.747487435745829\n",
      "val_loss: 0.06501721260095135, val_f1: 0.20410948840779425, val_precision: 0.11761197547744447, val_recall: 0.7715293204565661\n"
     ]
    },
    {
     "name": "stderr",
     "output_type": "stream",
     "text": [
      "100%|█████████████████████████████████████████| 655/655 [00:13<00:00, 47.33it/s]\n"
     ]
    },
    {
     "name": "stdout",
     "output_type": "stream",
     "text": [
      "Epoch: 330, loss: 0.06201004976307163, f1: 0.20149765573279213, precision: 0.1165695289750619, recall: 0.7423339413663813\n",
      "val_loss: 0.06541608571322687, val_f1: 0.20075570183394956, val_precision: 0.11626343524784123, val_recall: 0.7346455457560513\n"
     ]
    },
    {
     "name": "stderr",
     "output_type": "stream",
     "text": [
      "100%|█████████████████████████████████████████| 655/655 [00:13<00:00, 47.26it/s]\n"
     ]
    },
    {
     "name": "stdout",
     "output_type": "stream",
     "text": [
      "Epoch: 331, loss: 0.06146375405644813, f1: 0.20890068684702265, precision: 0.12138997097819589, recall: 0.7484948601090271\n",
      "val_loss: 0.0660789716954625, val_f1: 0.19730759853727903, val_precision: 0.11356174312702833, val_recall: 0.7514984975440786\n"
     ]
    },
    {
     "name": "stderr",
     "output_type": "stream",
     "text": [
      "100%|█████████████████████████████████████████| 655/655 [00:13<00:00, 47.40it/s]\n"
     ]
    },
    {
     "name": "stdout",
     "output_type": "stream",
     "text": [
      "Epoch: 332, loss: 0.06182070780005164, f1: 0.206470546671513, precision: 0.11998594485415245, recall: 0.739479715775215\n",
      "val_loss: 0.0657824826845472, val_f1: 0.19836215965627305, val_precision: 0.1144388118073122, val_recall: 0.7438959436952521\n"
     ]
    },
    {
     "name": "stderr",
     "output_type": "stream",
     "text": [
      "100%|█████████████████████████████████████████| 655/655 [00:13<00:00, 47.33it/s]\n"
     ]
    },
    {
     "name": "stdout",
     "output_type": "stream",
     "text": [
      "Epoch: 333, loss: 0.06228474894837789, f1: 0.20456653822810572, precision: 0.11872554539368695, recall: 0.7385617844931042\n",
      "val_loss: 0.06491078959282386, val_f1: 0.20296564047237112, val_precision: 0.1176084893448022, val_recall: 0.7401392836499652\n"
     ]
    },
    {
     "name": "stderr",
     "output_type": "stream",
     "text": [
      "100%|█████████████████████████████████████████| 655/655 [00:13<00:00, 47.14it/s]\n"
     ]
    },
    {
     "name": "stdout",
     "output_type": "stream",
     "text": [
      "Epoch: 334, loss: 0.06170938656672494, f1: 0.20427379156406952, precision: 0.11854790654353342, recall: 0.7378043529300289\n",
      "val_loss: 0.06502115450491873, val_f1: 0.19791434886823012, val_precision: 0.11415444271972215, val_recall: 0.7433178705769942\n"
     ]
    },
    {
     "name": "stderr",
     "output_type": "stream",
     "text": [
      "100%|█████████████████████████████████████████| 655/655 [00:13<00:00, 47.26it/s]\n"
     ]
    },
    {
     "name": "stdout",
     "output_type": "stream",
     "text": [
      "Epoch: 335, loss: 0.06141432357516267, f1: 0.20242571904880385, precision: 0.11727973550899339, recall: 0.7388005861571727\n",
      "val_loss: 0.06480598131006737, val_f1: 0.20195865078924272, val_precision: 0.11650879075323496, val_recall: 0.7575907361343366\n"
     ]
    },
    {
     "name": "stderr",
     "output_type": "stream",
     "text": [
      "100%|█████████████████████████████████████████| 655/655 [00:13<00:00, 47.34it/s]\n"
     ]
    },
    {
     "name": "stdout",
     "output_type": "stream",
     "text": [
      "Epoch: 336, loss: 0.061862992704244675, f1: 0.20804466117392062, precision: 0.12097375477870344, recall: 0.7423548469789155\n",
      "val_loss: 0.06510011828718108, val_f1: 0.20075995304402156, val_precision: 0.11636772871641186, val_recall: 0.7306211488919521\n"
     ]
    },
    {
     "name": "stderr",
     "output_type": "stream",
     "text": [
      "100%|█████████████████████████████████████████| 655/655 [00:13<00:00, 47.25it/s]\n"
     ]
    },
    {
     "name": "stdout",
     "output_type": "stream",
     "text": [
      "Epoch: 337, loss: 0.06177915504614588, f1: 0.20465377120406955, precision: 0.11851464368132804, recall: 0.7491608366483951\n",
      "val_loss: 0.06599430491242113, val_f1: 0.20097801333435888, val_precision: 0.11589695275291254, val_recall: 0.755867757655065\n"
     ]
    },
    {
     "name": "stderr",
     "output_type": "stream",
     "text": [
      "100%|█████████████████████████████████████████| 655/655 [00:13<00:00, 47.29it/s]\n"
     ]
    },
    {
     "name": "stdout",
     "output_type": "stream",
     "text": [
      "Epoch: 338, loss: 0.062238686955498376, f1: 0.2029355055748597, precision: 0.11731670380264293, recall: 0.7510820298363234\n",
      "val_loss: 0.06736958900107703, val_f1: 0.1925342724538539, val_precision: 0.10957696992015346, val_recall: 0.7925464234767704\n"
     ]
    },
    {
     "name": "stderr",
     "output_type": "stream",
     "text": [
      "100%|█████████████████████████████████████████| 655/655 [00:13<00:00, 47.32it/s]\n"
     ]
    },
    {
     "name": "stdout",
     "output_type": "stream",
     "text": [
      "Epoch: 339, loss: 0.061880684437813194, f1: 0.20599371964878277, precision: 0.11935888994094127, recall: 0.7513487488088262\n",
      "val_loss: 0.06527230326821087, val_f1: 0.20191260297326508, val_precision: 0.11646468223952645, val_recall: 0.7581606203809791\n"
     ]
    },
    {
     "name": "stderr",
     "output_type": "stream",
     "text": [
      "100%|█████████████████████████████████████████| 655/655 [00:13<00:00, 47.30it/s]\n"
     ]
    },
    {
     "name": "stdout",
     "output_type": "stream",
     "text": [
      "Epoch: 340, loss: 0.06140843748923632, f1: 0.2083538768431543, precision: 0.12101049512582085, recall: 0.748891224865695\n",
      "val_loss: 0.06449708990205866, val_f1: 0.20684013186973924, val_precision: 0.1200513608258115, val_recall: 0.7465275394123628\n"
     ]
    },
    {
     "name": "stderr",
     "output_type": "stream",
     "text": [
      "100%|█████████████████████████████████████████| 655/655 [00:13<00:00, 47.33it/s]\n"
     ]
    },
    {
     "name": "stdout",
     "output_type": "stream",
     "text": [
      "Epoch: 341, loss: 0.062041323350472306, f1: 0.205332084451386, precision: 0.11890145079001699, recall: 0.7518838419827796\n",
      "val_loss: 0.06545270125834493, val_f1: 0.20856969191410785, val_precision: 0.12101585163794663, val_recall: 0.7542953297085718\n"
     ]
    },
    {
     "name": "stderr",
     "output_type": "stream",
     "text": [
      "100%|█████████████████████████████████████████| 655/655 [00:13<00:00, 47.27it/s]\n"
     ]
    },
    {
     "name": "stdout",
     "output_type": "stream",
     "text": [
      "Epoch: 342, loss: 0.061637158947819064, f1: 0.20736538561305104, precision: 0.12024924295655814, recall: 0.7525867005966547\n",
      "val_loss: 0.06672931543269425, val_f1: 0.19602075085628132, val_precision: 0.11235943773265826, val_recall: 0.7674641339877329\n"
     ]
    },
    {
     "name": "stderr",
     "output_type": "stream",
     "text": [
      "100%|█████████████████████████████████████████| 655/655 [00:13<00:00, 47.33it/s]\n"
     ]
    },
    {
     "name": "stdout",
     "output_type": "stream",
     "text": [
      "Epoch: 343, loss: 0.061797313558085216, f1: 0.20654308055478432, precision: 0.11986199076436745, recall: 0.7461118923002527\n",
      "val_loss: 0.06441263792130651, val_f1: 0.20515193460233247, val_precision: 0.11874262696354214, val_recall: 0.7534110369758868\n"
     ]
    },
    {
     "name": "stderr",
     "output_type": "stream",
     "text": [
      "100%|█████████████████████████████████████████| 655/655 [00:13<00:00, 47.29it/s]\n"
     ]
    },
    {
     "name": "stdout",
     "output_type": "stream",
     "text": [
      "Epoch: 344, loss: 0.061786764962527586, f1: 0.20593064494297794, precision: 0.11927718982484391, recall: 0.752912836265928\n",
      "val_loss: 0.06576474327081387, val_f1: 0.19606225529112842, val_precision: 0.11301496034539348, val_recall: 0.7393958692293648\n"
     ]
    },
    {
     "name": "stderr",
     "output_type": "stream",
     "text": [
      "100%|█████████████████████████████████████████| 655/655 [00:13<00:00, 47.29it/s]\n"
     ]
    },
    {
     "name": "stdout",
     "output_type": "stream",
     "text": [
      "Epoch: 345, loss: 0.062418653574267416, f1: 0.2030479022310196, precision: 0.11768517759308673, recall: 0.7392919240107063\n",
      "val_loss: 0.06600276322249289, val_f1: 0.20145848841491423, val_precision: 0.11667614883888479, val_recall: 0.736989438465429\n"
     ]
    },
    {
     "name": "stderr",
     "output_type": "stream",
     "text": [
      "100%|█████████████████████████████████████████| 655/655 [00:13<00:00, 47.34it/s]\n"
     ]
    },
    {
     "name": "stdout",
     "output_type": "stream",
     "text": [
      "Epoch: 346, loss: 0.06156294345002593, f1: 0.2066938695869887, precision: 0.11974469935948043, recall: 0.7546911401716807\n",
      "val_loss: 0.06459004603702267, val_f1: 0.2073636787605016, val_precision: 0.12061993077123931, val_recall: 0.7383415285463727\n"
     ]
    },
    {
     "name": "stderr",
     "output_type": "stream",
     "text": [
      "100%|█████████████████████████████████████████| 655/655 [00:13<00:00, 47.32it/s]\n"
     ]
    },
    {
     "name": "stdout",
     "output_type": "stream",
     "text": [
      "Epoch: 347, loss: 0.06157466803058868, f1: 0.20578641620732996, precision: 0.11925840513880244, recall: 0.7498155916920145\n",
      "val_loss: 0.06524833032024016, val_f1: 0.18714908165038355, val_precision: 0.10659484819449279, val_recall: 0.7660774581749504\n"
     ]
    },
    {
     "name": "stderr",
     "output_type": "stream",
     "text": [
      "100%|█████████████████████████████████████████| 655/655 [00:13<00:00, 47.28it/s]\n"
     ]
    },
    {
     "name": "stdout",
     "output_type": "stream",
     "text": [
      "Epoch: 348, loss: 0.06196400125590378, f1: 0.20250804831438976, precision: 0.11745080807679938, recall: 0.7342424901955911\n",
      "val_loss: 0.06572015127252548, val_f1: 0.20842597154712258, val_precision: 0.1211701223003003, val_recall: 0.7446717322556251\n"
     ]
    },
    {
     "name": "stderr",
     "output_type": "stream",
     "text": [
      "100%|█████████████████████████████████████████| 655/655 [00:13<00:00, 47.34it/s]\n"
     ]
    },
    {
     "name": "stdout",
     "output_type": "stream",
     "text": [
      "Epoch: 349, loss: 0.06193623173953468, f1: 0.20397633468252746, precision: 0.11816951039652447, recall: 0.744801699080085\n",
      "val_loss: 0.064643524958829, val_f1: 0.20396311395565783, val_precision: 0.11714809589139229, val_recall: 0.7877173087465654\n"
     ]
    },
    {
     "name": "stderr",
     "output_type": "stream",
     "text": [
      "100%|█████████████████████████████████████████| 655/655 [00:13<00:00, 47.32it/s]\n"
     ]
    },
    {
     "name": "stdout",
     "output_type": "stream",
     "text": [
      "Epoch: 350, loss: 0.06179221230736854, f1: 0.20619101181476, precision: 0.11946167380172219, recall: 0.7525256844877287\n",
      "val_loss: 0.06432485723133208, val_f1: 0.20657253320128494, val_precision: 0.1201959289930795, val_recall: 0.7341712967518272\n"
     ]
    },
    {
     "name": "stderr",
     "output_type": "stream",
     "text": [
      "100%|█████████████████████████████████████████| 655/655 [00:13<00:00, 47.28it/s]\n"
     ]
    },
    {
     "name": "stdout",
     "output_type": "stream",
     "text": [
      "Epoch: 351, loss: 0.061888769018741054, f1: 0.20424540818940065, precision: 0.11826931616568667, recall: 0.7480196046806474\n",
      "val_loss: 0.0649968132872237, val_f1: 0.20129714772936702, val_precision: 0.11687811787470902, val_recall: 0.7248272577967119\n"
     ]
    },
    {
     "name": "stderr",
     "output_type": "stream",
     "text": [
      "100%|█████████████████████████████████████████| 655/655 [00:13<00:00, 47.20it/s]\n"
     ]
    },
    {
     "name": "stdout",
     "output_type": "stream",
     "text": [
      "Epoch: 352, loss: 0.06219632719138651, f1: 0.20402504354394066, precision: 0.1181042531825147, recall: 0.7487145038506456\n",
      "val_loss: 0.06496361016782873, val_f1: 0.19803560866959732, val_precision: 0.11384564465971304, val_recall: 0.7602419179240498\n"
     ]
    },
    {
     "name": "stderr",
     "output_type": "stream",
     "text": [
      "100%|█████████████████████████████████████████| 655/655 [00:13<00:00, 47.26it/s]\n"
     ]
    },
    {
     "name": "stdout",
     "output_type": "stream",
     "text": [
      "Epoch: 353, loss: 0.06156169367911479, f1: 0.20659755198404486, precision: 0.11963498961777633, recall: 0.7564879032832975\n",
      "val_loss: 0.06569742883871728, val_f1: 0.19261325550580607, val_precision: 0.11112063393475266, val_recall: 0.7224010437590267\n"
     ]
    },
    {
     "name": "stderr",
     "output_type": "stream",
     "text": [
      "100%|█████████████████████████████████████████| 655/655 [00:13<00:00, 47.37it/s]\n"
     ]
    },
    {
     "name": "stdout",
     "output_type": "stream",
     "text": [
      "Epoch: 354, loss: 0.06166373732897901, f1: 0.20655273151067047, precision: 0.11979078863541247, recall: 0.7491365209108091\n",
      "val_loss: 0.06508950192754695, val_f1: 0.20180031212322447, val_precision: 0.11669813976580397, val_recall: 0.7453394518532884\n"
     ]
    },
    {
     "name": "stderr",
     "output_type": "stream",
     "text": [
      "100%|█████████████████████████████████████████| 655/655 [00:13<00:00, 47.28it/s]\n"
     ]
    },
    {
     "name": "stdout",
     "output_type": "stream",
     "text": [
      "Epoch: 355, loss: 0.06230450978232477, f1: 0.20383330304385197, precision: 0.11792409615235702, recall: 0.7508024729162682\n",
      "val_loss: 0.06638721381784032, val_f1: 0.19680503628202056, val_precision: 0.11294423020231205, val_recall: 0.7642839175025258\n"
     ]
    },
    {
     "name": "stderr",
     "output_type": "stream",
     "text": [
      "100%|█████████████████████████████████████████| 655/655 [00:13<00:00, 47.34it/s]\n"
     ]
    },
    {
     "name": "stdout",
     "output_type": "stream",
     "text": [
      "Epoch: 356, loss: 0.06152428246124555, f1: 0.20632625699247958, precision: 0.11968109626038612, recall: 0.7474694519552566\n",
      "val_loss: 0.06705220564858082, val_f1: 0.20220546350887736, val_precision: 0.11702357420544011, val_recall: 0.7431392571248046\n"
     ]
    },
    {
     "name": "stderr",
     "output_type": "stream",
     "text": [
      "100%|█████████████████████████████████████████| 655/655 [00:13<00:00, 47.34it/s]\n"
     ]
    },
    {
     "name": "stdout",
     "output_type": "stream",
     "text": [
      "Epoch: 357, loss: 0.06224320440514027, f1: 0.20221676739469144, precision: 0.11710391933887572, recall: 0.7402182880476231\n",
      "val_loss: 0.06654322513917443, val_f1: 0.2076887280539829, val_precision: 0.12023130897859778, val_recall: 0.7619079611170183\n"
     ]
    },
    {
     "name": "stderr",
     "output_type": "stream",
     "text": [
      "100%|█████████████████████████████████████████| 655/655 [00:13<00:00, 47.21it/s]\n"
     ]
    },
    {
     "name": "stdout",
     "output_type": "stream",
     "text": [
      "Epoch: 358, loss: 0.06213982724589082, f1: 0.2021660591974474, precision: 0.11679751144487496, recall: 0.7512972061074417\n",
      "val_loss: 0.06656189801154333, val_f1: 0.20127061616936945, val_precision: 0.11659505648897328, val_recall: 0.7351982709054553\n"
     ]
    },
    {
     "name": "stderr",
     "output_type": "stream",
     "text": [
      "100%|█████████████████████████████████████████| 655/655 [00:13<00:00, 47.31it/s]\n"
     ]
    },
    {
     "name": "stdout",
     "output_type": "stream",
     "text": [
      "Epoch: 359, loss: 0.06172215817568008, f1: 0.20544556825917779, precision: 0.11913197096579402, recall: 0.745775391468565\n",
      "val_loss: 0.06498528846941136, val_f1: 0.20396922748466226, val_precision: 0.11818206985267478, val_recall: 0.7441139314152779\n"
     ]
    },
    {
     "name": "stderr",
     "output_type": "stream",
     "text": [
      "100%|█████████████████████████████████████████| 655/655 [00:13<00:00, 47.29it/s]\n"
     ]
    },
    {
     "name": "stdout",
     "output_type": "stream",
     "text": [
      "Epoch: 360, loss: 0.06195818327281994, f1: 0.2054393221933158, precision: 0.11897658213532267, recall: 0.7517557701309219\n",
      "val_loss: 0.06423967738353878, val_f1: 0.2080344276381763, val_precision: 0.12045473811310639, val_recall: 0.762241687112992\n"
     ]
    },
    {
     "name": "stderr",
     "output_type": "stream",
     "text": [
      "100%|█████████████████████████████████████████| 655/655 [00:13<00:00, 47.30it/s]\n"
     ]
    },
    {
     "name": "stdout",
     "output_type": "stream",
     "text": [
      "Epoch: 361, loss: 0.06138599619317359, f1: 0.20821027394382147, precision: 0.12111435863864786, recall: 0.7412818259637775\n",
      "val_loss: 0.06487361874021248, val_f1: 0.21003412290882623, val_precision: 0.12206469054137348, val_recall: 0.751944745079093\n"
     ]
    },
    {
     "name": "stderr",
     "output_type": "stream",
     "text": [
      "100%|█████████████████████████████████████████| 655/655 [00:13<00:00, 47.32it/s]\n"
     ]
    },
    {
     "name": "stdout",
     "output_type": "stream",
     "text": [
      "Epoch: 362, loss: 0.061665605759507955, f1: 0.2040234102340893, precision: 0.11820343677878721, recall: 0.7447093608270164\n",
      "val_loss: 0.06433183132508478, val_f1: 0.2010983182197421, val_precision: 0.11584269734731781, val_recall: 0.7616213871798384\n"
     ]
    },
    {
     "name": "stderr",
     "output_type": "stream",
     "text": [
      "100%|█████████████████████████████████████████| 655/655 [00:13<00:00, 47.34it/s]\n"
     ]
    },
    {
     "name": "stdout",
     "output_type": "stream",
     "text": [
      "Epoch: 363, loss: 0.06163326115020357, f1: 0.205979213720136, precision: 0.11940021084635767, recall: 0.7493313947706732\n",
      "val_loss: 0.06479113039757134, val_f1: 0.1965171243865438, val_precision: 0.11409295546617187, val_recall: 0.7079911157488823\n"
     ]
    },
    {
     "name": "stderr",
     "output_type": "stream",
     "text": [
      "100%|█████████████████████████████████████████| 655/655 [00:13<00:00, 47.41it/s]\n"
     ]
    },
    {
     "name": "stdout",
     "output_type": "stream",
     "text": [
      "Epoch: 364, loss: 0.06185102092372324, f1: 0.20370400401593017, precision: 0.11806046242775922, recall: 0.7418776456750076\n",
      "val_loss: 0.06556009845551822, val_f1: 0.20685668122458994, val_precision: 0.11962233703378417, val_recall: 0.7640078148437203\n"
     ]
    },
    {
     "name": "stderr",
     "output_type": "stream",
     "text": [
      "100%|█████████████████████████████████████████| 655/655 [00:13<00:00, 47.36it/s]\n"
     ]
    },
    {
     "name": "stdout",
     "output_type": "stream",
     "text": [
      "Epoch: 365, loss: 0.06183739601854832, f1: 0.20474370712802495, precision: 0.11842187354270056, recall: 0.7553303181670095\n",
      "val_loss: 0.06464637991963723, val_f1: 0.201773783120715, val_precision: 0.1160552746513773, val_recall: 0.7718987474474338\n"
     ]
    },
    {
     "name": "stderr",
     "output_type": "stream",
     "text": [
      "100%|█████████████████████████████████████████| 655/655 [00:13<00:00, 47.33it/s]\n"
     ]
    },
    {
     "name": "stdout",
     "output_type": "stream",
     "text": [
      "Epoch: 366, loss: 0.06158326079798791, f1: 0.2057462813306678, precision: 0.11923199532951677, recall: 0.7497939237883983\n",
      "val_loss: 0.06556466978829388, val_f1: 0.19811742782785827, val_precision: 0.11481107125879017, val_recall: 0.7219895291219064\n"
     ]
    },
    {
     "name": "stderr",
     "output_type": "stream",
     "text": [
      "100%|█████████████████████████████████████████| 655/655 [00:13<00:00, 47.36it/s]\n"
     ]
    },
    {
     "name": "stdout",
     "output_type": "stream",
     "text": [
      "Epoch: 367, loss: 0.0615472485543889, f1: 0.20561014293277735, precision: 0.1192649834327229, recall: 0.7449034460400807\n",
      "val_loss: 0.06649396677048655, val_f1: 0.18762699094764657, val_precision: 0.1065789554524449, val_recall: 0.7832498297505422\n"
     ]
    },
    {
     "name": "stderr",
     "output_type": "stream",
     "text": [
      "100%|█████████████████████████████████████████| 655/655 [00:13<00:00, 47.27it/s]\n"
     ]
    },
    {
     "name": "stdout",
     "output_type": "stream",
     "text": [
      "Epoch: 368, loss: 0.06183263587104228, f1: 0.2052065250379917, precision: 0.11905620294331594, recall: 0.7424542075805082\n",
      "val_loss: 0.06665661420946548, val_f1: 0.20202836211725966, val_precision: 0.11673419746578834, val_recall: 0.7501143162403632\n"
     ]
    },
    {
     "name": "stderr",
     "output_type": "stream",
     "text": [
      "100%|█████████████████████████████████████████| 655/655 [00:13<00:00, 47.33it/s]\n"
     ]
    },
    {
     "name": "stdout",
     "output_type": "stream",
     "text": [
      "Epoch: 369, loss: 0.061998671149650145, f1: 0.20553452079816015, precision: 0.11903941259712322, recall: 0.7517969450650325\n",
      "val_loss: 0.0657977265724485, val_f1: 0.19874206610477163, val_precision: 0.11407405644262192, val_recall: 0.7709745494050717\n"
     ]
    },
    {
     "name": "stderr",
     "output_type": "stream",
     "text": [
      "100%|█████████████████████████████████████████| 655/655 [00:13<00:00, 47.37it/s]\n"
     ]
    },
    {
     "name": "stdout",
     "output_type": "stream",
     "text": [
      "Epoch: 370, loss: 0.06179042629975797, f1: 0.2076639840415321, precision: 0.12055676754436079, recall: 0.7484494669633057\n",
      "val_loss: 0.06590388746880883, val_f1: 0.20433642573818658, val_precision: 0.11830708170480547, val_recall: 0.748951071514449\n"
     ]
    },
    {
     "name": "stderr",
     "output_type": "stream",
     "text": [
      "100%|█████████████████████████████████████████| 655/655 [00:13<00:00, 47.41it/s]\n"
     ]
    },
    {
     "name": "stdout",
     "output_type": "stream",
     "text": [
      "Epoch: 371, loss: 0.06154633849745488, f1: 0.20821828070074486, precision: 0.12091987009537015, recall: 0.7488588489535201\n",
      "val_loss: 0.06577341623365059, val_f1: 0.20241627721036928, val_precision: 0.11671432845055237, val_recall: 0.7617886823798539\n"
     ]
    },
    {
     "name": "stderr",
     "output_type": "stream",
     "text": [
      "100%|█████████████████████████████████████████| 655/655 [00:13<00:00, 47.36it/s]\n"
     ]
    },
    {
     "name": "stdout",
     "output_type": "stream",
     "text": [
      "Epoch: 372, loss: 0.062130641663038076, f1: 0.20846373284923825, precision: 0.12100455600284893, recall: 0.7519682910264903\n",
      "val_loss: 0.06461047106892417, val_f1: 0.20411742433416094, val_precision: 0.11744557791432246, val_recall: 0.7789984411739428\n"
     ]
    },
    {
     "name": "stderr",
     "output_type": "stream",
     "text": [
      "100%|█████████████████████████████████████████| 655/655 [00:13<00:00, 47.29it/s]\n"
     ]
    },
    {
     "name": "stdout",
     "output_type": "stream",
     "text": [
      "Epoch: 373, loss: 0.06200888776966861, f1: 0.20205522345999816, precision: 0.11678622227574464, recall: 0.7487102422664184\n",
      "val_loss: 0.06493471708114541, val_f1: 0.2002192210053053, val_precision: 0.11511153289877357, val_recall: 0.7681529352424341\n"
     ]
    },
    {
     "name": "stderr",
     "output_type": "stream",
     "text": [
      "100%|█████████████████████████████████████████| 655/655 [00:13<00:00, 47.41it/s]\n"
     ]
    },
    {
     "name": "stdout",
     "output_type": "stream",
     "text": [
      "Epoch: 374, loss: 0.061986473464328826, f1: 0.20330736470144614, precision: 0.11759648429574658, recall: 0.7498127180770153\n",
      "val_loss: 0.06549680249235772, val_f1: 0.19745100544802746, val_precision: 0.11339574311048202, val_recall: 0.7631130404428604\n"
     ]
    },
    {
     "name": "stderr",
     "output_type": "stream",
     "text": [
      "100%|█████████████████████████████████████████| 655/655 [00:13<00:00, 47.41it/s]\n"
     ]
    },
    {
     "name": "stdout",
     "output_type": "stream",
     "text": [
      "Epoch: 375, loss: 0.06163655725087373, f1: 0.2063114730476695, precision: 0.11936656104628253, recall: 0.7595755233791949\n",
      "val_loss: 0.06467670575211491, val_f1: 0.19976794565136605, val_precision: 0.11506826810778008, val_recall: 0.7569317871687609\n"
     ]
    },
    {
     "name": "stderr",
     "output_type": "stream",
     "text": [
      "100%|█████████████████████████████████████████| 655/655 [00:13<00:00, 47.36it/s]\n"
     ]
    },
    {
     "name": "stdout",
     "output_type": "stream",
     "text": [
      "Epoch: 376, loss: 0.062371960210521486, f1: 0.2028613184832607, precision: 0.1174233550591508, recall: 0.7447354998752361\n",
      "val_loss: 0.06580135197199266, val_f1: 0.200199393520079, val_precision: 0.11514126141171116, val_recall: 0.7662504279832227\n"
     ]
    },
    {
     "name": "stderr",
     "output_type": "stream",
     "text": [
      "100%|█████████████████████████████████████████| 655/655 [00:13<00:00, 47.31it/s]\n"
     ]
    },
    {
     "name": "stdout",
     "output_type": "stream",
     "text": [
      "Epoch: 377, loss: 0.06107239665886572, f1: 0.20790662027542534, precision: 0.12077291637538214, recall: 0.7464350981111745\n",
      "val_loss: 0.06519600892986316, val_f1: 0.2018215565760715, val_precision: 0.11743087116030788, val_recall: 0.7173107739435424\n"
     ]
    },
    {
     "name": "stderr",
     "output_type": "stream",
     "text": [
      "100%|█████████████████████████████████████████| 655/655 [00:13<00:00, 47.33it/s]\n"
     ]
    },
    {
     "name": "stdout",
     "output_type": "stream",
     "text": [
      "Epoch: 378, loss: 0.06143548176232867, f1: 0.2036465808120118, precision: 0.11833418216129751, recall: 0.7297713517687703\n",
      "val_loss: 0.06512538008733627, val_f1: 0.20665510348084867, val_precision: 0.11993800579578778, val_recall: 0.7460904113879991\n"
     ]
    },
    {
     "name": "stderr",
     "output_type": "stream",
     "text": [
      "100%|█████████████████████████████████████████| 655/655 [00:13<00:00, 47.32it/s]\n"
     ]
    },
    {
     "name": "stdout",
     "output_type": "stream",
     "text": [
      "Epoch: 379, loss: 0.06194089801256893, f1: 0.20405284297692797, precision: 0.11799326415123944, recall: 0.7539643720019865\n",
      "val_loss: 0.06583949922660895, val_f1: 0.19778330099124378, val_precision: 0.11329766097606732, val_recall: 0.777744310711502\n"
     ]
    },
    {
     "name": "stderr",
     "output_type": "stream",
     "text": [
      "100%|█████████████████████████████████████████| 655/655 [00:13<00:00, 47.33it/s]\n"
     ]
    },
    {
     "name": "stdout",
     "output_type": "stream",
     "text": [
      "Epoch: 380, loss: 0.061404922684185376, f1: 0.20748780400819034, precision: 0.12030945176770555, recall: 0.753453531724806\n",
      "val_loss: 0.06466329813755434, val_f1: 0.2004383872527861, val_precision: 0.11528665793914382, val_recall: 0.7668135563304664\n"
     ]
    },
    {
     "name": "stderr",
     "output_type": "stream",
     "text": [
      "100%|█████████████████████████████████████████| 655/655 [00:13<00:00, 47.36it/s]\n"
     ]
    },
    {
     "name": "stdout",
     "output_type": "stream",
     "text": [
      "Epoch: 381, loss: 0.061886035142026674, f1: 0.20562114706238577, precision: 0.11910888220162223, recall: 0.7513449855091917\n",
      "val_loss: 0.06466554646986887, val_f1: 0.20316236703295218, val_precision: 0.1177539383018509, val_recall: 0.7396132925508219\n"
     ]
    },
    {
     "name": "stderr",
     "output_type": "stream",
     "text": [
      "100%|█████████████████████████████████████████| 655/655 [00:13<00:00, 47.38it/s]\n"
     ]
    },
    {
     "name": "stdout",
     "output_type": "stream",
     "text": [
      "Epoch: 382, loss: 0.06150372077689598, f1: 0.20391887332988046, precision: 0.11794263228333292, recall: 0.7523754719331974\n",
      "val_loss: 0.06538780265778235, val_f1: 0.19655394511377594, val_precision: 0.11336355986406839, val_recall: 0.7384723420126722\n"
     ]
    },
    {
     "name": "stderr",
     "output_type": "stream",
     "text": [
      "100%|█████████████████████████████████████████| 655/655 [00:13<00:00, 47.35it/s]\n"
     ]
    },
    {
     "name": "stdout",
     "output_type": "stream",
     "text": [
      "Epoch: 383, loss: 0.06152660630586493, f1: 0.2037283435280666, precision: 0.11782441143344605, recall: 0.7519991136006726\n",
      "val_loss: 0.06499263496403027, val_f1: 0.20344346667051988, val_precision: 0.11736655882089783, val_recall: 0.7631104488711838\n"
     ]
    },
    {
     "name": "stderr",
     "output_type": "stream",
     "text": [
      "100%|█████████████████████████████████████████| 655/655 [00:13<00:00, 47.41it/s]\n"
     ]
    },
    {
     "name": "stdout",
     "output_type": "stream",
     "text": [
      "Epoch: 384, loss: 0.062188788346030546, f1: 0.20530222612400667, precision: 0.11915615185889067, recall: 0.7410774229023293\n",
      "val_loss: 0.06412342535929942, val_f1: 0.20826494550362923, val_precision: 0.12106956810254706, val_recall: 0.7443586542108737\n"
     ]
    },
    {
     "name": "stderr",
     "output_type": "stream",
     "text": [
      "100%|█████████████████████████████████████████| 655/655 [00:13<00:00, 47.38it/s]\n"
     ]
    },
    {
     "name": "stdout",
     "output_type": "stream",
     "text": [
      "Epoch: 385, loss: 0.062061607247069196, f1: 0.20491800546099628, precision: 0.11889231446490602, recall: 0.7412740760518395\n",
      "val_loss: 0.06564078094659868, val_f1: 0.20089324049763868, val_precision: 0.1151801235973835, val_recall: 0.7852480066342091\n"
     ]
    },
    {
     "name": "stderr",
     "output_type": "stream",
     "text": [
      "100%|█████████████████████████████████████████| 655/655 [00:13<00:00, 47.34it/s]\n"
     ]
    },
    {
     "name": "stdout",
     "output_type": "stream",
     "text": [
      "Epoch: 386, loss: 0.0616142098912756, f1: 0.2038876782728115, precision: 0.11794824976801076, recall: 0.7512989811087383\n",
      "val_loss: 0.06552929317134373, val_f1: 0.20170308471738177, val_precision: 0.11600049286482668, val_recall: 0.7722534056103557\n"
     ]
    },
    {
     "name": "stderr",
     "output_type": "stream",
     "text": [
      "100%|█████████████████████████████████████████| 655/655 [00:13<00:00, 47.34it/s]\n"
     ]
    },
    {
     "name": "stdout",
     "output_type": "stream",
     "text": [
      "Epoch: 387, loss: 0.06123296633249021, f1: 0.20550112573927293, precision: 0.11897407561000295, recall: 0.753514570577909\n",
      "val_loss: 0.06530519261306852, val_f1: 0.2015164668685994, val_precision: 0.11605301284906241, val_recall: 0.7645286173995481\n"
     ]
    },
    {
     "name": "stderr",
     "output_type": "stream",
     "text": [
      "100%|█████████████████████████████████████████| 655/655 [00:13<00:00, 47.40it/s]\n"
     ]
    },
    {
     "name": "stdout",
     "output_type": "stream",
     "text": [
      "Epoch: 388, loss: 0.061653230470100434, f1: 0.2065691403295225, precision: 0.11980871100383918, recall: 0.748867450267759\n",
      "val_loss: 0.06559962751941943, val_f1: 0.19662537772809172, val_precision: 0.11290878405230581, val_recall: 0.7605024503731946\n"
     ]
    },
    {
     "name": "stderr",
     "output_type": "stream",
     "text": [
      "100%|█████████████████████████████████████████| 655/655 [00:13<00:00, 47.28it/s]\n"
     ]
    },
    {
     "name": "stdout",
     "output_type": "stream",
     "text": [
      "Epoch: 389, loss: 0.06151861497378759, f1: 0.20395210916226666, precision: 0.11796290348177306, recall: 0.7524554437694658\n",
      "val_loss: 0.06561156723716664, val_f1: 0.20217719631572037, val_precision: 0.11753723239355268, val_recall: 0.7223501893085077\n"
     ]
    },
    {
     "name": "stderr",
     "output_type": "stream",
     "text": [
      "100%|█████████████████████████████████████████| 655/655 [00:13<00:00, 47.38it/s]\n"
     ]
    },
    {
     "name": "stdout",
     "output_type": "stream",
     "text": [
      "Epoch: 390, loss: 0.06194924477182101, f1: 0.20505738956375388, precision: 0.11865447197457818, recall: 0.7544125158254427\n",
      "val_loss: 0.06619045457059364, val_f1: 0.20148356505655743, val_precision: 0.11553228317990626, val_recall: 0.7869191463660756\n"
     ]
    },
    {
     "name": "stderr",
     "output_type": "stream",
     "text": [
      "100%|█████████████████████████████████████████| 655/655 [00:13<00:00, 47.34it/s]\n"
     ]
    },
    {
     "name": "stdout",
     "output_type": "stream",
     "text": [
      "Epoch: 391, loss: 0.06158832478273006, f1: 0.20487868683863453, precision: 0.11859264375734363, recall: 0.7520786654516941\n",
      "val_loss: 0.06500295689756717, val_f1: 0.20736076736149875, val_precision: 0.12042406992132373, val_recall: 0.745690858897266\n"
     ]
    },
    {
     "name": "stderr",
     "output_type": "stream",
     "text": [
      "100%|█████████████████████████████████████████| 655/655 [00:13<00:00, 47.39it/s]\n"
     ]
    },
    {
     "name": "stdout",
     "output_type": "stream",
     "text": [
      "Epoch: 392, loss: 0.062211877022308244, f1: 0.20206037095498147, precision: 0.11672123507063352, recall: 0.7515346859588878\n",
      "val_loss: 0.06743497592012543, val_f1: 0.19816087283600228, val_precision: 0.11649437829929002, val_recall: 0.6628202804868374\n"
     ]
    },
    {
     "name": "stderr",
     "output_type": "stream",
     "text": [
      "100%|█████████████████████████████████████████| 655/655 [00:13<00:00, 47.25it/s]\n"
     ]
    },
    {
     "name": "stdout",
     "output_type": "stream",
     "text": [
      "Epoch: 393, loss: 0.06236744108432122, f1: 0.20387519979674346, precision: 0.1180029030405838, recall: 0.7487523024318783\n",
      "val_loss: 0.06680358927526059, val_f1: 0.20322964557565754, val_precision: 0.11747531989726041, val_recall: 0.7526393234046227\n"
     ]
    },
    {
     "name": "stderr",
     "output_type": "stream",
     "text": [
      "100%|█████████████████████████████████████████| 655/655 [00:13<00:00, 47.29it/s]\n"
     ]
    },
    {
     "name": "stdout",
     "output_type": "stream",
     "text": [
      "Epoch: 394, loss: 0.061682327496925836, f1: 0.20435203487997877, precision: 0.1183209653666513, recall: 0.748814122890698\n",
      "val_loss: 0.06528929591930788, val_f1: 0.20932806553860658, val_precision: 0.12144951920939284, val_recall: 0.7572849618458967\n"
     ]
    },
    {
     "name": "stderr",
     "output_type": "stream",
     "text": [
      "100%|█████████████████████████████████████████| 655/655 [00:13<00:00, 47.34it/s]\n"
     ]
    },
    {
     "name": "stdout",
     "output_type": "stream",
     "text": [
      "Epoch: 395, loss: 0.061947649381770435, f1: 0.20328424499017195, precision: 0.11747703274057908, recall: 0.7540690011536803\n",
      "val_loss: 0.06565700254377423, val_f1: 0.19550149470278205, val_precision: 0.1121265448100113, val_recall: 0.7624240383642529\n"
     ]
    },
    {
     "name": "stderr",
     "output_type": "stream",
     "text": [
      "100%|█████████████████████████████████████████| 655/655 [00:13<00:00, 47.42it/s]\n"
     ]
    },
    {
     "name": "stdout",
     "output_type": "stream",
     "text": [
      "Epoch: 396, loss: 0.06161603162932487, f1: 0.20261100292114909, precision: 0.11714912069932991, recall: 0.749061829829944\n",
      "val_loss: 0.06675515347801217, val_f1: 0.20302141592727485, val_precision: 0.11757963406639772, val_recall: 0.7427747081452554\n"
     ]
    },
    {
     "name": "stderr",
     "output_type": "stream",
     "text": [
      "100%|█████████████████████████████████████████| 655/655 [00:13<00:00, 47.32it/s]\n"
     ]
    },
    {
     "name": "stdout",
     "output_type": "stream",
     "text": [
      "Epoch: 397, loss: 0.061523699244299464, f1: 0.20684534188652226, precision: 0.12008707626609004, recall: 0.7452846910889822\n",
      "val_loss: 0.06705860936279417, val_f1: 0.19417250260865157, val_precision: 0.11160496627664142, val_recall: 0.7462993676372625\n"
     ]
    },
    {
     "name": "stderr",
     "output_type": "stream",
     "text": [
      "100%|█████████████████████████████████████████| 655/655 [00:13<00:00, 47.38it/s]\n"
     ]
    },
    {
     "name": "stdout",
     "output_type": "stream",
     "text": [
      "Epoch: 398, loss: 0.0616745440071155, f1: 0.20735024772889668, precision: 0.12009802458111112, recall: 0.7581594621520916\n",
      "val_loss: 0.06637596954172904, val_f1: 0.20328407845063345, val_precision: 0.11710730630801905, val_recall: 0.7696618078225249\n"
     ]
    },
    {
     "name": "stderr",
     "output_type": "stream",
     "text": [
      "100%|█████████████████████████████████████████| 655/655 [00:13<00:00, 47.32it/s]\n"
     ]
    },
    {
     "name": "stdout",
     "output_type": "stream",
     "text": [
      "Epoch: 399, loss: 0.061750063695706035, f1: 0.20739228452947, precision: 0.12050267203838941, recall: 0.7435004365125685\n",
      "val_loss: 0.06667590819495739, val_f1: 0.207640473439197, val_precision: 0.12028309213715273, val_recall: 0.758545147989868\n"
     ]
    },
    {
     "name": "stderr",
     "output_type": "stream",
     "text": [
      "100%|█████████████████████████████████████████| 655/655 [00:13<00:00, 47.39it/s]\n"
     ]
    },
    {
     "name": "stdout",
     "output_type": "stream",
     "text": [
      "Epoch: 400, loss: 0.061537203730176425, f1: 0.20525355357861524, precision: 0.11873275982393734, recall: 0.7565611123413075\n",
      "val_loss: 0.06700782232635885, val_f1: 0.20265942978102547, val_precision: 0.11682176240079037, val_recall: 0.7641027352405251\n"
     ]
    },
    {
     "name": "stderr",
     "output_type": "stream",
     "text": [
      "100%|█████████████████████████████████████████| 655/655 [00:13<00:00, 47.33it/s]\n"
     ]
    },
    {
     "name": "stdout",
     "output_type": "stream",
     "text": [
      "Epoch: 401, loss: 0.061752018528698965, f1: 0.20286557080516657, precision: 0.11744376042402768, recall: 0.7440301250865441\n",
      "val_loss: 0.06694956210980174, val_f1: 0.19655166537263366, val_precision: 0.11272601627770366, val_recall: 0.7666506826740886\n"
     ]
    },
    {
     "name": "stderr",
     "output_type": "stream",
     "text": [
      "100%|█████████████████████████████████████████| 655/655 [00:13<00:00, 47.34it/s]\n"
     ]
    },
    {
     "name": "stdout",
     "output_type": "stream",
     "text": [
      "Epoch: 402, loss: 0.06178288473712124, f1: 0.20493349502146035, precision: 0.11879483861919805, recall: 0.7454956402134805\n",
      "val_loss: 0.06550836961272113, val_f1: 0.19865410595496175, val_precision: 0.11571173645222747, val_recall: 0.7014664515442804\n"
     ]
    },
    {
     "name": "stderr",
     "output_type": "stream",
     "text": [
      "100%|█████████████████████████████████████████| 655/655 [00:13<00:00, 47.32it/s]\n"
     ]
    },
    {
     "name": "stdout",
     "output_type": "stream",
     "text": [
      "Epoch: 403, loss: 0.061915196374570595, f1: 0.202765882474826, precision: 0.11742379971929179, recall: 0.7421529340380021\n",
      "val_loss: 0.0648793914791094, val_f1: 0.20285850217702966, val_precision: 0.11686487793238885, val_recall: 0.7679323403660311\n"
     ]
    },
    {
     "name": "stderr",
     "output_type": "stream",
     "text": [
      "100%|█████████████████████████████████████████| 655/655 [00:13<00:00, 47.37it/s]\n"
     ]
    },
    {
     "name": "stdout",
     "output_type": "stream",
     "text": [
      "Epoch: 404, loss: 0.06218612824943457, f1: 0.20125006670436005, precision: 0.1166544592143072, recall: 0.7323006419621351\n",
      "val_loss: 0.06765304704051499, val_f1: 0.19920317897779236, val_precision: 0.11583382806125515, val_recall: 0.7107604622772528\n"
     ]
    },
    {
     "name": "stderr",
     "output_type": "stream",
     "text": [
      "100%|█████████████████████████████████████████| 655/655 [00:13<00:00, 47.41it/s]\n"
     ]
    },
    {
     "name": "stdout",
     "output_type": "stream",
     "text": [
      "Epoch: 405, loss: 0.06170786014040008, f1: 0.20547063893539863, precision: 0.1193052955060657, recall: 0.7397034020824287\n",
      "val_loss: 0.06681130838862417, val_f1: 0.2072031259816663, val_precision: 0.1199059110869645, val_recall: 0.7619096284749312\n"
     ]
    },
    {
     "name": "stderr",
     "output_type": "stream",
     "text": [
      "100%|█████████████████████████████████████████| 655/655 [00:13<00:00, 47.34it/s]\n"
     ]
    },
    {
     "name": "stdout",
     "output_type": "stream",
     "text": [
      "Epoch: 406, loss: 0.062142442388616444, f1: 0.2034628077009354, precision: 0.11774288846663278, recall: 0.7480973578818881\n",
      "val_loss: 0.06655906999073581, val_f1: 0.20563870784606536, val_precision: 0.11864011666370095, val_recall: 0.7710437445192162\n"
     ]
    },
    {
     "name": "stderr",
     "output_type": "stream",
     "text": [
      "100%|█████████████████████████████████████████| 655/655 [00:13<00:00, 47.37it/s]\n"
     ]
    },
    {
     "name": "stdout",
     "output_type": "stream",
     "text": [
      "Epoch: 407, loss: 0.06204159345615615, f1: 0.20675100524122114, precision: 0.11980390591930797, recall: 0.753864436192822\n",
      "val_loss: 0.06669936808458435, val_f1: 0.20657766722713614, val_precision: 0.11942390032505634, val_recall: 0.7644936082833403\n"
     ]
    },
    {
     "name": "stderr",
     "output_type": "stream",
     "text": [
      "100%|█████████████████████████████████████████| 655/655 [00:13<00:00, 47.31it/s]\n"
     ]
    },
    {
     "name": "stdout",
     "output_type": "stream",
     "text": [
      "Epoch: 408, loss: 0.06137301064273517, f1: 0.2078775011730567, precision: 0.12050882871511556, recall: 0.7559129772409228\n",
      "val_loss: 0.06685125426209848, val_f1: 0.20191857802712684, val_precision: 0.11690533204738973, val_recall: 0.7401635114342795\n"
     ]
    },
    {
     "name": "stderr",
     "output_type": "stream",
     "text": [
      "100%|█████████████████████████████████████████| 655/655 [00:13<00:00, 47.29it/s]\n"
     ]
    },
    {
     "name": "stdout",
     "output_type": "stream",
     "text": [
      "Epoch: 409, loss: 0.061826600350496426, f1: 0.20220077633764036, precision: 0.11677419206852677, recall: 0.753225970018001\n",
      "val_loss: 0.06724108186541894, val_f1: 0.19877230438491425, val_precision: 0.11585825417455661, val_recall: 0.6990429087106241\n"
     ]
    },
    {
     "name": "stderr",
     "output_type": "stream",
     "text": [
      "100%|█████████████████████████████████████████| 655/655 [00:13<00:00, 47.33it/s]\n"
     ]
    },
    {
     "name": "stdout",
     "output_type": "stream",
     "text": [
      "Epoch: 410, loss: 0.06135433697908626, f1: 0.20758955298273168, precision: 0.12057489144032864, recall: 0.7458258745893267\n",
      "val_loss: 0.06661555855406807, val_f1: 0.20099378493416362, val_precision: 0.11645545547725547, val_recall: 0.7333624825018261\n"
     ]
    },
    {
     "name": "stderr",
     "output_type": "stream",
     "text": [
      "100%|█████████████████████████████████████████| 655/655 [00:13<00:00, 47.31it/s]\n"
     ]
    },
    {
     "name": "stdout",
     "output_type": "stream",
     "text": [
      "Epoch: 411, loss: 0.06152233919342055, f1: 0.20360208633227805, precision: 0.11785100078892731, recall: 0.7475007162294315\n",
      "val_loss: 0.06644536461681128, val_f1: 0.19988902190419697, val_precision: 0.11524099889083193, val_recall: 0.7529640347449058\n"
     ]
    },
    {
     "name": "stderr",
     "output_type": "stream",
     "text": [
      "100%|█████████████████████████████████████████| 655/655 [00:13<00:00, 47.37it/s]\n"
     ]
    },
    {
     "name": "stdout",
     "output_type": "stream",
     "text": [
      "Epoch: 412, loss: 0.06155318279736426, f1: 0.2065618610233981, precision: 0.11985788278580281, recall: 0.7467617363306402\n",
      "val_loss: 0.06668492370720851, val_f1: 0.20359605891237606, val_precision: 0.11769207203846185, val_recall: 0.7537931872343798\n"
     ]
    },
    {
     "name": "stderr",
     "output_type": "stream",
     "text": [
      "100%|█████████████████████████████████████████| 655/655 [00:13<00:00, 47.38it/s]\n"
     ]
    },
    {
     "name": "stdout",
     "output_type": "stream",
     "text": [
      "Epoch: 413, loss: 0.06162256176604797, f1: 0.2062467823196325, precision: 0.12009393366565572, recall: 0.7297641600475057\n",
      "val_loss: 0.06836078513345313, val_f1: 0.1952424382063806, val_precision: 0.11319896175927661, val_recall: 0.7093852358536983\n"
     ]
    },
    {
     "name": "stderr",
     "output_type": "stream",
     "text": [
      "100%|█████████████████████████████████████████| 655/655 [00:13<00:00, 47.35it/s]\n"
     ]
    },
    {
     "name": "stdout",
     "output_type": "stream",
     "text": [
      "Epoch: 414, loss: 0.06173843102430114, f1: 0.20379983577013341, precision: 0.11828345174311113, recall: 0.7356821870189587\n",
      "val_loss: 0.06784865039682716, val_f1: 0.19572375378072354, val_precision: 0.11312475686448567, val_recall: 0.7253284470750652\n"
     ]
    },
    {
     "name": "stderr",
     "output_type": "stream",
     "text": [
      "100%|█████████████████████████████████████████| 655/655 [00:13<00:00, 47.34it/s]\n"
     ]
    },
    {
     "name": "stdout",
     "output_type": "stream",
     "text": [
      "Epoch: 415, loss: 0.061747818349208554, f1: 0.2020327303450733, precision: 0.11674955779942506, recall: 0.7496009388611516\n",
      "val_loss: 0.06682127525329318, val_f1: 0.20472329980422188, val_precision: 0.11833376591649214, val_recall: 0.7583741257223514\n"
     ]
    },
    {
     "name": "stderr",
     "output_type": "stream",
     "text": [
      "100%|█████████████████████████████████████████| 655/655 [00:13<00:00, 47.34it/s]\n"
     ]
    },
    {
     "name": "stdout",
     "output_type": "stream",
     "text": [
      "Epoch: 416, loss: 0.06168219700239746, f1: 0.20667602618926184, precision: 0.11972063518349678, recall: 0.7551716995717005\n",
      "val_loss: 0.06721492571363208, val_f1: 0.19920783074157478, val_precision: 0.1155108954936881, val_recall: 0.7232886047674976\n"
     ]
    },
    {
     "name": "stderr",
     "output_type": "stream",
     "text": [
      "100%|█████████████████████████████████████████| 655/655 [00:13<00:00, 47.36it/s]\n"
     ]
    },
    {
     "name": "stdout",
     "output_type": "stream",
     "text": [
      "Epoch: 417, loss: 0.061451821008569184, f1: 0.20776619451713663, precision: 0.12042932521182162, recall: 0.7560980870751024\n",
      "val_loss: 0.06686035528300552, val_f1: 0.19767878204131406, val_precision: 0.1135425192705535, val_recall: 0.7632711399175706\n"
     ]
    },
    {
     "name": "stderr",
     "output_type": "stream",
     "text": [
      "100%|█████████████████████████████████████████| 655/655 [00:13<00:00, 47.32it/s]\n"
     ]
    },
    {
     "name": "stdout",
     "output_type": "stream",
     "text": [
      "Epoch: 418, loss: 0.06244196911975173, f1: 0.20019176007108813, precision: 0.11548560373982741, recall: 0.75112674924481\n",
      "val_loss: 0.0669325512893703, val_f1: 0.19757387371040883, val_precision: 0.11632836448592604, val_recall: 0.6551190153311152\n"
     ]
    },
    {
     "name": "stderr",
     "output_type": "stream",
     "text": [
      "100%|█████████████████████████████████████████| 655/655 [00:13<00:00, 47.33it/s]\n"
     ]
    },
    {
     "name": "stdout",
     "output_type": "stream",
     "text": [
      "Epoch: 419, loss: 0.06181490203180841, f1: 0.2049457888829026, precision: 0.11895138758540381, recall: 0.7397092001811238\n",
      "val_loss: 0.06616667815304678, val_f1: 0.19770185059146395, val_precision: 0.11389312522332055, val_recall: 0.7484570652793306\n"
     ]
    },
    {
     "name": "stderr",
     "output_type": "stream",
     "text": [
      "100%|█████████████████████████████████████████| 655/655 [00:13<00:00, 47.23it/s]\n"
     ]
    },
    {
     "name": "stdout",
     "output_type": "stream",
     "text": [
      "Epoch: 420, loss: 0.06168147797057837, f1: 0.20292578240312517, precision: 0.1174863035101017, recall: 0.7439426634716624\n",
      "val_loss: 0.064395899192319, val_f1: 0.19922285613456384, val_precision: 0.11465843101758338, val_recall: 0.7590408595876956\n"
     ]
    },
    {
     "name": "stderr",
     "output_type": "stream",
     "text": [
      "100%|█████████████████████████████████████████| 655/655 [00:13<00:00, 47.29it/s]\n"
     ]
    },
    {
     "name": "stdout",
     "output_type": "stream",
     "text": [
      "Epoch: 421, loss: 0.061806330212768705, f1: 0.2044635760951364, precision: 0.11845506363733181, recall: 0.7464505482834715\n",
      "val_loss: 0.06596682194152256, val_f1: 0.20764052758421583, val_precision: 0.12027557550955119, val_recall: 0.7588456658595198\n"
     ]
    },
    {
     "name": "stderr",
     "output_type": "stream",
     "text": [
      "100%|█████████████████████████████████████████| 655/655 [00:13<00:00, 47.34it/s]\n"
     ]
    },
    {
     "name": "stdout",
     "output_type": "stream",
     "text": [
      "Epoch: 422, loss: 0.06154288050384467, f1: 0.2033780523913003, precision: 0.11747030091528844, recall: 0.7569376187413248\n",
      "val_loss: 0.06713066101415989, val_f1: 0.19558410279384428, val_precision: 0.11219957254724491, val_recall: 0.7615623986092183\n"
     ]
    },
    {
     "name": "stderr",
     "output_type": "stream",
     "text": [
      "100%|█████████████████████████████████████████| 655/655 [00:13<00:00, 47.37it/s]\n"
     ]
    },
    {
     "name": "stdout",
     "output_type": "stream",
     "text": [
      "Epoch: 423, loss: 0.061869304870319275, f1: 0.20458982216951047, precision: 0.11850679294838933, recall: 0.7477627797663667\n",
      "val_loss: 0.06771685337699061, val_f1: 0.19854643919027373, val_precision: 0.11510519436005195, val_recall: 0.7217585554500239\n"
     ]
    },
    {
     "name": "stderr",
     "output_type": "stream",
     "text": [
      "100%|█████████████████████████████████████████| 655/655 [00:13<00:00, 47.35it/s]\n"
     ]
    },
    {
     "name": "stdout",
     "output_type": "stream",
     "text": [
      "Epoch: 424, loss: 0.06189634311617217, f1: 0.2030429591597145, precision: 0.11752162405239944, recall: 0.745678839144361\n",
      "val_loss: 0.06636545518327744, val_f1: 0.19616588928985776, val_precision: 0.11233385110171426, val_recall: 0.7731462509260265\n"
     ]
    },
    {
     "name": "stderr",
     "output_type": "stream",
     "text": [
      "100%|█████████████████████████████████████████| 655/655 [00:13<00:00, 47.24it/s]\n"
     ]
    },
    {
     "name": "stdout",
     "output_type": "stream",
     "text": [
      "Epoch: 425, loss: 0.06220092357968101, f1: 0.19909203354224841, precision: 0.11476668973830137, recall: 0.7505953807753462\n",
      "val_loss: 0.06755187604234579, val_f1: 0.19900521572081528, val_precision: 0.11496542409113651, val_recall: 0.7397979346163776\n"
     ]
    },
    {
     "name": "stderr",
     "output_type": "stream",
     "text": [
      "100%|█████████████████████████████████████████| 655/655 [00:13<00:00, 47.32it/s]\n"
     ]
    },
    {
     "name": "stdout",
     "output_type": "stream",
     "text": [
      "Epoch: 426, loss: 0.06155657078217686, f1: 0.2030145674940667, precision: 0.11763629685191594, recall: 0.740339218887664\n",
      "val_loss: 0.06718791300140389, val_f1: 0.19354732075841719, val_precision: 0.11160453136608757, val_recall: 0.7282363271016047\n"
     ]
    },
    {
     "name": "stderr",
     "output_type": "stream",
     "text": [
      "100%|█████████████████████████████████████████| 655/655 [00:13<00:00, 47.32it/s]\n"
     ]
    },
    {
     "name": "stdout",
     "output_type": "stream",
     "text": [
      "Epoch: 427, loss: 0.0620548440356746, f1: 0.20109560484563602, precision: 0.11615598631226494, recall: 0.7482759842322073\n",
      "val_loss: 0.06683133984275094, val_f1: 0.20094857988848253, val_precision: 0.11642711484856015, val_recall: 0.7332827737298581\n"
     ]
    },
    {
     "name": "stderr",
     "output_type": "stream",
     "text": [
      "100%|█████████████████████████████████████████| 655/655 [00:13<00:00, 47.26it/s]\n"
     ]
    },
    {
     "name": "stdout",
     "output_type": "stream",
     "text": [
      "Epoch: 428, loss: 0.0610375702338478, f1: 0.20808038101794882, precision: 0.12050349145207043, recall: 0.7615244507163991\n",
      "val_loss: 0.0669609796290004, val_f1: 0.1994802506724181, val_precision: 0.11472605856631053, val_recall: 0.7635688271817811\n"
     ]
    },
    {
     "name": "stderr",
     "output_type": "stream",
     "text": [
      "100%|█████████████████████████████████████████| 655/655 [00:13<00:00, 47.31it/s]\n"
     ]
    },
    {
     "name": "stdout",
     "output_type": "stream",
     "text": [
      "Epoch: 429, loss: 0.06187887906971323, f1: 0.2032930777196243, precision: 0.1173087676507172, recall: 0.7613239704766346\n",
      "val_loss: 0.06798888126029334, val_f1: 0.19608607523562804, val_precision: 0.11246690012668388, val_recall: 0.7644690534937273\n"
     ]
    },
    {
     "name": "stderr",
     "output_type": "stream",
     "text": [
      "100%|█████████████████████████████████████████| 655/655 [00:13<00:00, 47.34it/s]\n"
     ]
    },
    {
     "name": "stdout",
     "output_type": "stream",
     "text": [
      "Epoch: 430, loss: 0.06160270400692017, f1: 0.2048845658712153, precision: 0.11858719717569023, recall: 0.7524563478604528\n",
      "val_loss: 0.06568156222923907, val_f1: 0.20016356266571422, val_precision: 0.11530750026977664, val_recall: 0.7579399091661523\n"
     ]
    },
    {
     "name": "stderr",
     "output_type": "stream",
     "text": [
      "100%|█████████████████████████████████████████| 655/655 [00:13<00:00, 47.16it/s]\n"
     ]
    },
    {
     "name": "stdout",
     "output_type": "stream",
     "text": [
      "Epoch: 431, loss: 0.062238069562568464, f1: 0.2023104319023712, precision: 0.11717370104734282, recall: 0.7399408222496054\n",
      "val_loss: 0.06612731772261339, val_f1: 0.21245472669978227, val_precision: 0.12399871770608657, val_recall: 0.7411960043491573\n"
     ]
    },
    {
     "name": "stderr",
     "output_type": "stream",
     "text": [
      "100%|█████████████████████████████████████████| 655/655 [00:13<00:00, 47.36it/s]\n"
     ]
    },
    {
     "name": "stdout",
     "output_type": "stream",
     "text": [
      "Epoch: 432, loss: 0.06150233096066322, f1: 0.20482042361896596, precision: 0.1185019786430537, recall: 0.7541628497474976\n",
      "val_loss: 0.06558914314271934, val_f1: 0.20629720002633042, val_precision: 0.11999443747581692, val_recall: 0.7347368904893551\n"
     ]
    },
    {
     "name": "stderr",
     "output_type": "stream",
     "text": [
      "100%|█████████████████████████████████████████| 655/655 [00:13<00:00, 47.39it/s]\n"
     ]
    },
    {
     "name": "stdout",
     "output_type": "stream",
     "text": [
      "Epoch: 433, loss: 0.061338462202042386, f1: 0.20843410225973472, precision: 0.12106825661639335, recall: 0.7487521708807873\n",
      "val_loss: 0.0668252088607998, val_f1: 0.19322867890828174, val_precision: 0.11183941677434865, val_recall: 0.7097035469401867\n"
     ]
    },
    {
     "name": "stderr",
     "output_type": "stream",
     "text": [
      "100%|█████████████████████████████████████████| 655/655 [00:13<00:00, 47.33it/s]\n"
     ]
    },
    {
     "name": "stdout",
     "output_type": "stream",
     "text": [
      "Epoch: 434, loss: 0.061928450003380084, f1: 0.20430990910205632, precision: 0.11847149153623929, recall: 0.7417290718273352\n",
      "val_loss: 0.06705892320995757, val_f1: 0.20589491637711432, val_precision: 0.11921440749941821, val_recall: 0.7544635442692206\n"
     ]
    },
    {
     "name": "stderr",
     "output_type": "stream",
     "text": [
      "100%|█████████████████████████████████████████| 655/655 [00:13<00:00, 47.34it/s]\n"
     ]
    },
    {
     "name": "stdout",
     "output_type": "stream",
     "text": [
      "Epoch: 435, loss: 0.06145786493590087, f1: 0.2108883889587929, precision: 0.12258667502843754, recall: 0.7540363347826113\n",
      "val_loss: 0.06612971322525532, val_f1: 0.2076450315113089, val_precision: 0.12086033429352379, val_recall: 0.7364806670251243\n"
     ]
    },
    {
     "name": "stderr",
     "output_type": "stream",
     "text": [
      "100%|█████████████████████████████████████████| 655/655 [00:13<00:00, 47.19it/s]\n"
     ]
    },
    {
     "name": "stdout",
     "output_type": "stream",
     "text": [
      "Epoch: 436, loss: 0.06134488477535148, f1: 0.20433253801827264, precision: 0.1182333403345169, recall: 0.7518146281820217\n",
      "val_loss: 0.06601390528808766, val_f1: 0.20385764016457347, val_precision: 0.11968877742178055, val_recall: 0.6869237142008379\n"
     ]
    },
    {
     "name": "stderr",
     "output_type": "stream",
     "text": [
      "100%|█████████████████████████████████████████| 655/655 [00:13<00:00, 47.32it/s]\n"
     ]
    },
    {
     "name": "stdout",
     "output_type": "stream",
     "text": [
      "Epoch: 437, loss: 0.06134610275145352, f1: 0.20794071988437943, precision: 0.1208156012610056, recall: 0.7456848680290558\n",
      "val_loss: 0.06742970329290683, val_f1: 0.20480064427783554, val_precision: 0.11825738623823731, val_recall: 0.7636719111592398\n"
     ]
    },
    {
     "name": "stderr",
     "output_type": "stream",
     "text": [
      "100%|█████████████████████████████████████████| 655/655 [00:13<00:00, 47.34it/s]\n"
     ]
    },
    {
     "name": "stdout",
     "output_type": "stream",
     "text": [
      "Epoch: 438, loss: 0.06158652443666267, f1: 0.2056849763247378, precision: 0.11897197321540755, recall: 0.7585718767106078\n",
      "val_loss: 0.06798558887265144, val_f1: 0.19671365855709066, val_precision: 0.1126185399480164, val_recall: 0.7766811965255562\n"
     ]
    },
    {
     "name": "stderr",
     "output_type": "stream",
     "text": [
      "100%|█████████████████████████████████████████| 655/655 [00:13<00:00, 47.31it/s]\n"
     ]
    },
    {
     "name": "stdout",
     "output_type": "stream",
     "text": [
      "Epoch: 439, loss: 0.06206622330097745, f1: 0.2069912982063843, precision: 0.121424495240581, recall: 0.7009322772726758\n",
      "val_loss: 0.06606953846581212, val_f1: 0.20109770833612572, val_precision: 0.115806344127573, val_recall: 0.7631789526534737\n"
     ]
    },
    {
     "name": "stderr",
     "output_type": "stream",
     "text": [
      "100%|█████████████████████████████████████████| 655/655 [00:13<00:00, 47.27it/s]\n"
     ]
    },
    {
     "name": "stdout",
     "output_type": "stream",
     "text": [
      "Epoch: 440, loss: 0.06150167514179044, f1: 0.20267330044011295, precision: 0.1170023141325743, recall: 0.7568541396267087\n",
      "val_loss: 0.06563183469612391, val_f1: 0.20552082099198418, val_precision: 0.11883430377315354, val_recall: 0.7597077836820839\n"
     ]
    },
    {
     "name": "stderr",
     "output_type": "stream",
     "text": [
      "100%|█████████████████████████████████████████| 655/655 [00:13<00:00, 47.26it/s]\n"
     ]
    },
    {
     "name": "stdout",
     "output_type": "stream",
     "text": [
      "Epoch: 441, loss: 0.061486544484229945, f1: 0.20598028465974866, precision: 0.11928997790682634, recall: 0.7537310266199003\n",
      "val_loss: 0.06638752959600282, val_f1: 0.20210974178922797, val_precision: 0.11714049183481604, val_recall: 0.7359129823402527\n"
     ]
    },
    {
     "name": "stderr",
     "output_type": "stream",
     "text": [
      "100%|█████████████████████████████████████████| 655/655 [00:13<00:00, 47.36it/s]\n"
     ]
    },
    {
     "name": "stdout",
     "output_type": "stream",
     "text": [
      "Epoch: 442, loss: 0.061682559349325324, f1: 0.20728949807768227, precision: 0.11998668356357811, recall: 0.7609863867172758\n",
      "val_loss: 0.06704893111840847, val_f1: 0.19683612348552354, val_precision: 0.11300375685736605, val_recall: 0.7625012474322538\n"
     ]
    },
    {
     "name": "stderr",
     "output_type": "stream",
     "text": [
      "100%|█████████████████████████████████████████| 655/655 [00:13<00:00, 47.19it/s]\n"
     ]
    },
    {
     "name": "stdout",
     "output_type": "stream",
     "text": [
      "Epoch: 443, loss: 0.06162253439796107, f1: 0.20466544691681698, precision: 0.1183581810821388, recall: 0.7557921463524112\n",
      "val_loss: 0.06632322065292968, val_f1: 0.19686193458795984, val_precision: 0.1132460564349291, val_recall: 0.752403091946873\n"
     ]
    },
    {
     "name": "stderr",
     "output_type": "stream",
     "text": [
      "100%|█████████████████████████████████████████| 655/655 [00:13<00:00, 47.32it/s]\n"
     ]
    },
    {
     "name": "stdout",
     "output_type": "stream",
     "text": [
      "Epoch: 444, loss: 0.061539035546415634, f1: 0.20228365046974564, precision: 0.1169937718876474, recall: 0.7464675404870783\n",
      "val_loss: 0.06572503191547109, val_f1: 0.19795799944120074, val_precision: 0.11361514585554053, val_recall: 0.7683384264007621\n"
     ]
    },
    {
     "name": "stderr",
     "output_type": "stream",
     "text": [
      "100%|█████████████████████████████████████████| 655/655 [00:13<00:00, 47.26it/s]\n"
     ]
    },
    {
     "name": "stdout",
     "output_type": "stream",
     "text": [
      "Epoch: 445, loss: 0.06195303073991801, f1: 0.20413416987686497, precision: 0.11802718095296554, recall: 0.7548006160113647\n",
      "val_loss: 0.06621502324460296, val_f1: 0.19695505596328683, val_precision: 0.1131320059162761, val_recall: 0.7602427277133006\n"
     ]
    },
    {
     "name": "stderr",
     "output_type": "stream",
     "text": [
      "100%|█████████████████████████████████████████| 655/655 [00:13<00:00, 47.17it/s]\n"
     ]
    },
    {
     "name": "stdout",
     "output_type": "stream",
     "text": [
      "Epoch: 446, loss: 0.061144053536264446, f1: 0.20734694243033977, precision: 0.12007811888981297, recall: 0.7588651490234236\n",
      "val_loss: 0.0655724940001281, val_f1: 0.2072074680686971, val_precision: 0.12082042000811855, val_recall: 0.7270532017317387\n"
     ]
    },
    {
     "name": "stderr",
     "output_type": "stream",
     "text": [
      "100%|█████████████████████████████████████████| 655/655 [00:13<00:00, 47.26it/s]\n"
     ]
    },
    {
     "name": "stdout",
     "output_type": "stream",
     "text": [
      "Epoch: 447, loss: 0.06137169269554585, f1: 0.2079889806791549, precision: 0.12057362312365694, recall: 0.7563117232031494\n",
      "val_loss: 0.0659791440745696, val_f1: 0.2019921422310534, val_precision: 0.11622879314535392, val_recall: 0.7706207357552073\n"
     ]
    },
    {
     "name": "stderr",
     "output_type": "stream",
     "text": [
      "100%|█████████████████████████████████████████| 655/655 [00:13<00:00, 47.31it/s]\n"
     ]
    },
    {
     "name": "stdout",
     "output_type": "stream",
     "text": [
      "Epoch: 448, loss: 0.06123315778435329, f1: 0.20517421327914015, precision: 0.11890922515468232, recall: 0.7473633615683963\n",
      "val_loss: 0.06714950651443059, val_f1: 0.19872290106668286, val_precision: 0.11545415110715213, val_recall: 0.7128506412883417\n"
     ]
    },
    {
     "name": "stderr",
     "output_type": "stream",
     "text": [
      "100%|█████████████████████████████████████████| 655/655 [00:13<00:00, 47.28it/s]\n"
     ]
    },
    {
     "name": "stdout",
     "output_type": "stream",
     "text": [
      "Epoch: 449, loss: 0.06128058113044, f1: 0.20464450839338086, precision: 0.11841644718034464, recall: 0.7528577432718896\n",
      "val_loss: 0.0669384017723416, val_f1: 0.20355912960658828, val_precision: 0.11771747664283586, val_recall: 0.7517442474944875\n"
     ]
    },
    {
     "name": "stderr",
     "output_type": "stream",
     "text": [
      "100%|█████████████████████████████████████████| 655/655 [00:13<00:00, 47.33it/s]\n"
     ]
    },
    {
     "name": "stdout",
     "output_type": "stream",
     "text": [
      "Epoch: 450, loss: 0.06135526951260239, f1: 0.2068034020530263, precision: 0.11964069573592594, recall: 0.7618114096631531\n",
      "val_loss: 0.06672447748960705, val_f1: 0.20198254247522537, val_precision: 0.11626644767906277, val_recall: 0.7686913731174732\n"
     ]
    },
    {
     "name": "stderr",
     "output_type": "stream",
     "text": [
      "100%|█████████████████████████████████████████| 655/655 [00:13<00:00, 47.34it/s]\n"
     ]
    },
    {
     "name": "stdout",
     "output_type": "stream",
     "text": [
      "Epoch: 451, loss: 0.06140612048445312, f1: 0.2055152473569992, precision: 0.11893496200396103, recall: 0.755468781201439\n",
      "val_loss: 0.06682831874339405, val_f1: 0.20368519286977516, val_precision: 0.11758304081447081, val_recall: 0.7607766264075533\n"
     ]
    },
    {
     "name": "stderr",
     "output_type": "stream",
     "text": [
      "100%|█████████████████████████████████████████| 655/655 [00:13<00:00, 47.31it/s]\n"
     ]
    },
    {
     "name": "stdout",
     "output_type": "stream",
     "text": [
      "Epoch: 452, loss: 0.0627630977258655, f1: 0.19726745391300607, precision: 0.1145153744963801, recall: 0.7112031766249023\n",
      "val_loss: 0.06762173049869614, val_f1: 0.2053973247202281, val_precision: 0.11881435120802954, val_recall: 0.7571550340417328\n"
     ]
    },
    {
     "name": "stderr",
     "output_type": "stream",
     "text": [
      "100%|█████████████████████████████████████████| 655/655 [00:13<00:00, 47.29it/s]\n"
     ]
    },
    {
     "name": "stdout",
     "output_type": "stream",
     "text": [
      "Epoch: 453, loss: 0.0616164706340393, f1: 0.20411365438150905, precision: 0.11826509542528625, recall: 0.7446668719858613\n",
      "val_loss: 0.06690865286002191, val_f1: 0.2004938735903929, val_precision: 0.11577466405808516, val_recall: 0.7474407061524347\n"
     ]
    },
    {
     "name": "stderr",
     "output_type": "stream",
     "text": [
      "100%|█████████████████████████████████████████| 655/655 [00:13<00:00, 47.23it/s]\n"
     ]
    },
    {
     "name": "stdout",
     "output_type": "stream",
     "text": [
      "Epoch: 454, loss: 0.0618587448624443, f1: 0.20490786618148557, precision: 0.11840857312026369, recall: 0.7603696482895895\n",
      "val_loss: 0.06745532472028372, val_f1: 0.20115835447593164, val_precision: 0.11658688331313363, val_recall: 0.7325354891769383\n"
     ]
    },
    {
     "name": "stderr",
     "output_type": "stream",
     "text": [
      "100%|█████████████████████████████████████████| 655/655 [00:13<00:00, 47.36it/s]\n"
     ]
    },
    {
     "name": "stdout",
     "output_type": "stream",
     "text": [
      "Epoch: 455, loss: 0.06135042041881394, f1: 0.20621163171789042, precision: 0.11955984169972762, recall: 0.7491974998521441\n",
      "val_loss: 0.06693460248034755, val_f1: 0.2038029057191569, val_precision: 0.1178113179529137, val_recall: 0.7545723607507321\n"
     ]
    },
    {
     "name": "stderr",
     "output_type": "stream",
     "text": [
      "100%|█████████████████████████████████████████| 655/655 [00:13<00:00, 47.36it/s]\n"
     ]
    },
    {
     "name": "stdout",
     "output_type": "stream",
     "text": [
      "Epoch: 456, loss: 0.0612251510402856, f1: 0.2089349596441743, precision: 0.12106003951679432, recall: 0.7621992910181293\n",
      "val_loss: 0.06659013819838062, val_f1: 0.20356259715662203, val_precision: 0.1173665658570826, val_recall: 0.7664752402983674\n"
     ]
    },
    {
     "name": "stderr",
     "output_type": "stream",
     "text": [
      "100%|█████████████████████████████████████████| 655/655 [00:13<00:00, 47.30it/s]\n"
     ]
    },
    {
     "name": "stdout",
     "output_type": "stream",
     "text": [
      "Epoch: 457, loss: 0.06157312333185709, f1: 0.20343623614622233, precision: 0.11768066953042991, recall: 0.7498961723146548\n",
      "val_loss: 0.06690637720989089, val_f1: 0.1980070181435096, val_precision: 0.11402048767381988, val_recall: 0.7517110255606677\n"
     ]
    },
    {
     "name": "stderr",
     "output_type": "stream",
     "text": [
      "100%|█████████████████████████████████████████| 655/655 [00:13<00:00, 47.29it/s]\n"
     ]
    },
    {
     "name": "stdout",
     "output_type": "stream",
     "text": [
      "Epoch: 458, loss: 0.06150980748688039, f1: 0.20379665309899608, precision: 0.1180472076518589, recall: 0.7448697428211911\n",
      "val_loss: 0.06747335375397714, val_f1: 0.20156114659173566, val_precision: 0.11669446796460778, val_recall: 0.7390105079073425\n"
     ]
    },
    {
     "name": "stderr",
     "output_type": "stream",
     "text": [
      "100%|█████████████████████████████████████████| 655/655 [00:13<00:00, 47.15it/s]\n"
     ]
    },
    {
     "name": "stdout",
     "output_type": "stream",
     "text": [
      "Epoch: 459, loss: 0.061300917251661195, f1: 0.20763111338984455, precision: 0.12024678881137937, recall: 0.7597414017861126\n",
      "val_loss: 0.06785391970033493, val_f1: 0.20049711732735806, val_precision: 0.11579876211941789, val_recall: 0.7465277885625122\n"
     ]
    },
    {
     "name": "stderr",
     "output_type": "stream",
     "text": [
      "100%|█████████████████████████████████████████| 655/655 [00:13<00:00, 47.39it/s]\n"
     ]
    },
    {
     "name": "stdout",
     "output_type": "stream",
     "text": [
      "Epoch: 460, loss: 0.06149040418698086, f1: 0.20485654441684642, precision: 0.11830632636245368, recall: 0.763186249591922\n",
      "val_loss: 0.06699436378169703, val_f1: 0.20107754766088526, val_precision: 0.1153731468782991, val_recall: 0.7819322517158789\n"
     ]
    },
    {
     "name": "stderr",
     "output_type": "stream",
     "text": [
      "100%|█████████████████████████████████████████| 655/655 [00:13<00:00, 47.31it/s]\n"
     ]
    },
    {
     "name": "stdout",
     "output_type": "stream",
     "text": [
      "Epoch: 461, loss: 0.061296231799846425, f1: 0.20703486894074136, precision: 0.11972362406921523, recall: 0.7647375919891678\n",
      "val_loss: 0.06573892302742791, val_f1: 0.2021838898500019, val_precision: 0.11640804411775064, val_recall: 0.7683363392128857\n"
     ]
    },
    {
     "name": "stderr",
     "output_type": "stream",
     "text": [
      "100%|█████████████████████████████████████████| 655/655 [00:13<00:00, 47.34it/s]\n"
     ]
    },
    {
     "name": "stdout",
     "output_type": "stream",
     "text": [
      "Epoch: 462, loss: 0.061574065250769965, f1: 0.20572034501528766, precision: 0.11899123697520327, recall: 0.7587508677298787\n",
      "val_loss: 0.06732323324017295, val_f1: 0.2001392005679787, val_precision: 0.11560418779765247, val_recall: 0.7446908296658359\n"
     ]
    },
    {
     "name": "stderr",
     "output_type": "stream",
     "text": [
      "100%|█████████████████████████████████████████| 655/655 [00:13<00:00, 47.27it/s]\n"
     ]
    },
    {
     "name": "stdout",
     "output_type": "stream",
     "text": [
      "Epoch: 463, loss: 0.06185915707859374, f1: 0.20483858049778553, precision: 0.1184336664546139, recall: 0.7574376862410825\n",
      "val_loss: 0.06805993613163265, val_f1: 0.1898628026800023, val_precision: 0.10815007654830404, val_recall: 0.7766919271388185\n"
     ]
    },
    {
     "name": "stderr",
     "output_type": "stream",
     "text": [
      "100%|█████████████████████████████████████████| 655/655 [00:13<00:00, 47.30it/s]\n"
     ]
    },
    {
     "name": "stdout",
     "output_type": "stream",
     "text": [
      "Epoch: 464, loss: 0.06192921710890213, f1: 0.20438440536277278, precision: 0.1182346245536993, recall: 0.7531691170148267\n",
      "val_loss: 0.0668041706362893, val_f1: 0.2046142997590826, val_precision: 0.11851337609744263, val_recall: 0.7481547874321631\n"
     ]
    },
    {
     "name": "stderr",
     "output_type": "stream",
     "text": [
      "100%|█████████████████████████████████████████| 655/655 [00:13<00:00, 47.32it/s]\n"
     ]
    },
    {
     "name": "stdout",
     "output_type": "stream",
     "text": [
      "Epoch: 465, loss: 0.06142545890432733, f1: 0.20521393099179241, precision: 0.11858055816878003, recall: 0.7617066172698072\n",
      "val_loss: 0.0668872834157643, val_f1: 0.20345867676103715, val_precision: 0.11834487286524488, val_recall: 0.7245716728748531\n"
     ]
    },
    {
     "name": "stderr",
     "output_type": "stream",
     "text": [
      "100%|█████████████████████████████████████████| 655/655 [00:13<00:00, 47.35it/s]\n"
     ]
    },
    {
     "name": "stdout",
     "output_type": "stream",
     "text": [
      "Epoch: 466, loss: 0.061516822838520904, f1: 0.20645921067442013, precision: 0.11954020030497936, recall: 0.7565688268146442\n",
      "val_loss: 0.06765765090977106, val_f1: 0.18972626520384236, val_precision: 0.10773670976263804, val_recall: 0.7938929216577373\n"
     ]
    },
    {
     "name": "stderr",
     "output_type": "stream",
     "text": [
      "100%|█████████████████████████████████████████| 655/655 [00:13<00:00, 47.34it/s]\n"
     ]
    },
    {
     "name": "stdout",
     "output_type": "stream",
     "text": [
      "Epoch: 467, loss: 0.06176679908006474, f1: 0.20323611200573075, precision: 0.11747319982707045, recall: 0.7529038103482195\n",
      "val_loss: 0.0645479702587248, val_f1: 0.20150084862520354, val_precision: 0.11654380877681692, val_recall: 0.7434656081396506\n"
     ]
    },
    {
     "name": "stderr",
     "output_type": "stream",
     "text": [
      "100%|█████████████████████████████████████████| 655/655 [00:13<00:00, 47.33it/s]\n"
     ]
    },
    {
     "name": "stdout",
     "output_type": "stream",
     "text": [
      "Epoch: 468, loss: 0.06128013850481228, f1: 0.20657968086613135, precision: 0.11958473735979495, recall: 0.7580218822901486\n",
      "val_loss: 0.06676513248405189, val_f1: 0.20408072219902304, val_precision: 0.11799745981094487, val_recall: 0.7545546734825187\n"
     ]
    },
    {
     "name": "stderr",
     "output_type": "stream",
     "text": [
      "100%|█████████████████████████████████████████| 655/655 [00:13<00:00, 47.28it/s]\n"
     ]
    },
    {
     "name": "stdout",
     "output_type": "stream",
     "text": [
      "Epoch: 469, loss: 0.061883273592773284, f1: 0.2022721561359628, precision: 0.11670277418412325, recall: 0.758212326660411\n",
      "val_loss: 0.06818079104254005, val_f1: 0.191238949921205, val_precision: 0.10910723231297088, val_recall: 0.7734997001809811\n"
     ]
    },
    {
     "name": "stderr",
     "output_type": "stream",
     "text": [
      "100%|█████████████████████████████████████████| 655/655 [00:13<00:00, 47.30it/s]\n"
     ]
    },
    {
     "name": "stdout",
     "output_type": "stream",
     "text": [
      "Epoch: 470, loss: 0.061199470222678805, f1: 0.20828853471355713, precision: 0.12051689909159682, recall: 0.7665929560556667\n",
      "val_loss: 0.06644096642459205, val_f1: 0.20394612710353013, val_precision: 0.11790916723532414, val_recall: 0.7544854904670234\n"
     ]
    },
    {
     "name": "stderr",
     "output_type": "stream",
     "text": [
      "100%|█████████████████████████████████████████| 655/655 [00:13<00:00, 47.36it/s]\n"
     ]
    },
    {
     "name": "stdout",
     "output_type": "stream",
     "text": [
      "Epoch: 471, loss: 0.06186586163395145, f1: 0.20694922155046086, precision: 0.1200873578905718, recall: 0.7479793998235055\n",
      "val_loss: 0.06763488491313584, val_f1: 0.2033104605839139, val_precision: 0.11724811738117709, val_recall: 0.7643795729093595\n"
     ]
    },
    {
     "name": "stderr",
     "output_type": "stream",
     "text": [
      "100%|█████████████████████████████████████████| 655/655 [00:13<00:00, 47.23it/s]\n"
     ]
    },
    {
     "name": "stdout",
     "output_type": "stream",
     "text": [
      "Epoch: 472, loss: 0.06131842141075216, f1: 0.210798096359475, precision: 0.12213801915352127, recall: 0.7690574877930961\n",
      "val_loss: 0.06635393124552222, val_f1: 0.20316621347973712, val_precision: 0.11748256314750932, val_recall: 0.7506070299706328\n"
     ]
    },
    {
     "name": "stderr",
     "output_type": "stream",
     "text": [
      "100%|█████████████████████████████████████████| 655/655 [00:13<00:00, 47.34it/s]\n"
     ]
    },
    {
     "name": "stdout",
     "output_type": "stream",
     "text": [
      "Epoch: 473, loss: 0.061984159721315726, f1: 0.2050544337265021, precision: 0.1189666650691674, recall: 0.741954408460901\n",
      "val_loss: 0.06755071465746251, val_f1: 0.20106567004243475, val_precision: 0.11645289219129797, val_recall: 0.735382999780528\n"
     ]
    },
    {
     "name": "stderr",
     "output_type": "stream",
     "text": [
      "100%|█████████████████████████████████████████| 655/655 [00:13<00:00, 47.28it/s]\n"
     ]
    },
    {
     "name": "stdout",
     "output_type": "stream",
     "text": [
      "Epoch: 474, loss: 0.06152137244788518, f1: 0.20532416027053005, precision: 0.1189667999204106, recall: 0.7490701654371414\n",
      "val_loss: 0.066801882254968, val_f1: 0.20293476564111357, val_precision: 0.11690076698608902, val_recall: 0.7685686268527573\n"
     ]
    },
    {
     "name": "stderr",
     "output_type": "stream",
     "text": [
      "100%|█████████████████████████████████████████| 655/655 [00:13<00:00, 47.35it/s]\n"
     ]
    },
    {
     "name": "stdout",
     "output_type": "stream",
     "text": [
      "Epoch: 475, loss: 0.06147290314085611, f1: 0.20409313669947704, precision: 0.11804149913821967, recall: 0.7530967197800411\n",
      "val_loss: 0.0664647334007495, val_f1: 0.19995829305389515, val_precision: 0.11431774775574513, val_recall: 0.797106403276461\n"
     ]
    },
    {
     "name": "stderr",
     "output_type": "stream",
     "text": [
      "100%|█████████████████████████████████████████| 655/655 [00:13<00:00, 47.33it/s]\n"
     ]
    },
    {
     "name": "stdout",
     "output_type": "stream",
     "text": [
      "Epoch: 476, loss: 0.06158588643804306, f1: 0.20590111364613514, precision: 0.1193893215476841, recall: 0.7476959089058957\n",
      "val_loss: 0.0669728596011228, val_f1: 0.20649822815426214, val_precision: 0.11956638790274021, val_recall: 0.7565677794157912\n"
     ]
    },
    {
     "name": "stderr",
     "output_type": "stream",
     "text": [
      "100%|█████████████████████████████████████████| 655/655 [00:13<00:00, 47.32it/s]\n"
     ]
    },
    {
     "name": "stdout",
     "output_type": "stream",
     "text": [
      "Epoch: 477, loss: 0.06119753878051771, f1: 0.20812370365148053, precision: 0.12050459527247052, recall: 0.7626422791421869\n",
      "val_loss: 0.06742331057513526, val_f1: 0.19668813977244498, val_precision: 0.11227401470714206, val_recall: 0.7926437391327061\n"
     ]
    },
    {
     "name": "stderr",
     "output_type": "stream",
     "text": [
      "100%|█████████████████████████████████████████| 655/655 [00:13<00:00, 47.26it/s]\n"
     ]
    },
    {
     "name": "stdout",
     "output_type": "stream",
     "text": [
      "Epoch: 478, loss: 0.06171372394354744, f1: 0.20490508184280407, precision: 0.11847644411382899, recall: 0.7575066195189498\n",
      "val_loss: 0.06703176971849635, val_f1: 0.20008239471391892, val_precision: 0.11610010774900129, val_recall: 0.7232616353745854\n"
     ]
    },
    {
     "name": "stderr",
     "output_type": "stream",
     "text": [
      "100%|█████████████████████████████████████████| 655/655 [00:13<00:00, 47.30it/s]\n"
     ]
    },
    {
     "name": "stdout",
     "output_type": "stream",
     "text": [
      "Epoch: 479, loss: 0.06103580253667959, f1: 0.20601868095758097, precision: 0.11923958166566401, recall: 0.7567842353618782\n",
      "val_loss: 0.06757686329031483, val_f1: 0.20024000719211293, val_precision: 0.11543373437598348, val_recall: 0.754696949222766\n"
     ]
    },
    {
     "name": "stderr",
     "output_type": "stream",
     "text": [
      "100%|█████████████████████████████████████████| 655/655 [00:13<00:00, 47.38it/s]\n"
     ]
    },
    {
     "name": "stdout",
     "output_type": "stream",
     "text": [
      "Epoch: 480, loss: 0.061140810502053215, f1: 0.20757624887777612, precision: 0.12025057640147062, recall: 0.7581241127245754\n",
      "val_loss: 0.06718600509739524, val_f1: 0.20111460267251832, val_precision: 0.11578556707282679, val_recall: 0.7645705926035522\n"
     ]
    },
    {
     "name": "stderr",
     "output_type": "stream",
     "text": [
      "100%|█████████████████████████████████████████| 655/655 [00:13<00:00, 47.35it/s]\n"
     ]
    },
    {
     "name": "stdout",
     "output_type": "stream",
     "text": [
      "Epoch: 481, loss: 0.06171268441408645, f1: 0.20672288426497656, precision: 0.11981974292461199, recall: 0.7524921060234081\n",
      "val_loss: 0.06736098760482642, val_f1: 0.20400419915387563, val_precision: 0.1182622983368165, val_recall: 0.7418730182385226\n"
     ]
    },
    {
     "name": "stderr",
     "output_type": "stream",
     "text": [
      "100%|█████████████████████████████████████████| 655/655 [00:13<00:00, 47.36it/s]\n"
     ]
    },
    {
     "name": "stdout",
     "output_type": "stream",
     "text": [
      "Epoch: 482, loss: 0.06129598593026513, f1: 0.20684414586839478, precision: 0.11988816781445825, recall: 0.7530068863211697\n",
      "val_loss: 0.0678658746866458, val_f1: 0.19892789995586366, val_precision: 0.1142459598950905, val_recall: 0.7687286440659007\n"
     ]
    },
    {
     "name": "stderr",
     "output_type": "stream",
     "text": [
      "100%|█████████████████████████████████████████| 655/655 [00:13<00:00, 47.38it/s]\n"
     ]
    },
    {
     "name": "stdout",
     "output_type": "stream",
     "text": [
      "Epoch: 483, loss: 0.06185543945215585, f1: 0.20378799832875294, precision: 0.11779732284143225, recall: 0.7547378497041819\n",
      "val_loss: 0.06665589963299555, val_f1: 0.20506090234913563, val_precision: 0.1186735098241666, val_recall: 0.7537387287534705\n"
     ]
    },
    {
     "name": "stderr",
     "output_type": "stream",
     "text": [
      "100%|█████████████████████████████████████████| 655/655 [00:13<00:00, 47.29it/s]\n"
     ]
    },
    {
     "name": "stdout",
     "output_type": "stream",
     "text": [
      "Epoch: 484, loss: 0.0616768748819373, f1: 0.2040957872726377, precision: 0.11781639257687648, recall: 0.762464121894072\n",
      "val_loss: 0.0667936833609545, val_f1: 0.19938816070889934, val_precision: 0.11456020171711341, val_recall: 0.7682551269957779\n"
     ]
    },
    {
     "name": "stderr",
     "output_type": "stream",
     "text": [
      "100%|█████████████████████████████████████████| 655/655 [00:13<00:00, 47.29it/s]\n"
     ]
    },
    {
     "name": "stdout",
     "output_type": "stream",
     "text": [
      "Epoch: 485, loss: 0.06122600347770534, f1: 0.2043807205029465, precision: 0.11819325769711143, recall: 0.7547515457368079\n",
      "val_loss: 0.06654543925179254, val_f1: 0.2076476277713811, val_precision: 0.1211200730999026, val_recall: 0.7270443725203155\n"
     ]
    },
    {
     "name": "stderr",
     "output_type": "stream",
     "text": [
      "100%|█████████████████████████████████████████| 655/655 [00:13<00:00, 47.33it/s]\n"
     ]
    },
    {
     "name": "stdout",
     "output_type": "stream",
     "text": [
      "Epoch: 486, loss: 0.06154272004336346, f1: 0.20493576868315808, precision: 0.118550575668888, recall: 0.7553230009233679\n",
      "val_loss: 0.06904857342533015, val_f1: 0.19778119905259145, val_precision: 0.11322166676709958, val_recall: 0.7812787643676504\n"
     ]
    },
    {
     "name": "stderr",
     "output_type": "stream",
     "text": [
      "100%|█████████████████████████████████████████| 655/655 [00:13<00:00, 47.33it/s]\n"
     ]
    },
    {
     "name": "stdout",
     "output_type": "stream",
     "text": [
      "Epoch: 487, loss: 0.06141642063628626, f1: 0.20687128986151376, precision: 0.11968448046232283, recall: 0.7618786836000344\n",
      "val_loss: 0.06857866404253408, val_f1: 0.1964420066787034, val_precision: 0.11292496181964669, val_recall: 0.7543276912028637\n"
     ]
    },
    {
     "name": "stderr",
     "output_type": "stream",
     "text": [
      "100%|█████████████████████████████████████████| 655/655 [00:13<00:00, 47.30it/s]\n"
     ]
    },
    {
     "name": "stdout",
     "output_type": "stream",
     "text": [
      "Epoch: 488, loss: 0.061954346476904766, f1: 0.20480250840414016, precision: 0.11826186517310393, recall: 0.7635369999376872\n",
      "val_loss: 0.06792799321883315, val_f1: 0.19068401178906713, val_precision: 0.10837986007537864, val_recall: 0.7925501478101136\n"
     ]
    },
    {
     "name": "stderr",
     "output_type": "stream",
     "text": [
      "100%|█████████████████████████████████████████| 655/655 [00:13<00:00, 47.26it/s]\n"
     ]
    },
    {
     "name": "stdout",
     "output_type": "stream",
     "text": [
      "Epoch: 489, loss: 0.06192853321100919, f1: 0.19974884392649508, precision: 0.11531298737546415, recall: 0.7459772104127261\n",
      "val_loss: 0.06714119894618015, val_f1: 0.19807212254490256, val_precision: 0.1145338372630708, val_recall: 0.7319101871016922\n"
     ]
    },
    {
     "name": "stderr",
     "output_type": "stream",
     "text": [
      "100%|█████████████████████████████████████████| 655/655 [00:13<00:00, 47.35it/s]\n"
     ]
    },
    {
     "name": "stdout",
     "output_type": "stream",
     "text": [
      "Epoch: 490, loss: 0.061769634856506835, f1: 0.20389298802478753, precision: 0.11782918563752456, recall: 0.756312132200212\n",
      "val_loss: 0.06849223465889419, val_f1: 0.1922278039257183, val_precision: 0.1135146957822144, val_recall: 0.6270024491422767\n"
     ]
    },
    {
     "name": "stderr",
     "output_type": "stream",
     "text": [
      "100%|█████████████████████████████████████████| 655/655 [00:13<00:00, 47.34it/s]\n"
     ]
    },
    {
     "name": "stdout",
     "output_type": "stream",
     "text": [
      "Epoch: 491, loss: 0.06122748029937271, f1: 0.21051754808734516, precision: 0.12221436009863178, recall: 0.7586959054565612\n",
      "val_loss: 0.0681137046990318, val_f1: 0.18552688651519977, val_precision: 0.10560044784466266, val_recall: 0.763095555912464\n"
     ]
    },
    {
     "name": "stderr",
     "output_type": "stream",
     "text": [
      "100%|█████████████████████████████████████████| 655/655 [00:13<00:00, 47.30it/s]\n"
     ]
    },
    {
     "name": "stdout",
     "output_type": "stream",
     "text": [
      "Epoch: 492, loss: 0.06156142929298732, f1: 0.20340126686671928, precision: 0.11758748852000891, recall: 0.7527431956229319\n",
      "val_loss: 0.06801497617975698, val_f1: 0.19696120576781778, val_precision: 0.11508500660820907, val_recall: 0.6825683729364238\n"
     ]
    },
    {
     "name": "stderr",
     "output_type": "stream",
     "text": [
      "100%|█████████████████████████████████████████| 655/655 [00:13<00:00, 47.38it/s]\n"
     ]
    },
    {
     "name": "stdout",
     "output_type": "stream",
     "text": [
      "Epoch: 493, loss: 0.06142179903268587, f1: 0.2064988185404458, precision: 0.1194524748954666, recall: 0.7611767892619126\n",
      "val_loss: 0.06749239275146515, val_f1: 0.2007079969289629, val_precision: 0.11602834669377553, val_recall: 0.742863968288133\n"
     ]
    },
    {
     "name": "stderr",
     "output_type": "stream",
     "text": [
      "100%|█████████████████████████████████████████| 655/655 [00:13<00:00, 47.28it/s]\n"
     ]
    },
    {
     "name": "stdout",
     "output_type": "stream",
     "text": [
      "Epoch: 494, loss: 0.06110276975988887, f1: 0.2093204046984053, precision: 0.12144001181528882, recall: 0.7574541436579392\n",
      "val_loss: 0.06811871615435006, val_f1: 0.19931969873440736, val_precision: 0.11502238486064684, val_recall: 0.7461732833073773\n"
     ]
    },
    {
     "name": "stderr",
     "output_type": "stream",
     "text": [
      "100%|█████████████████████████████████████████| 655/655 [00:13<00:00, 47.38it/s]\n"
     ]
    },
    {
     "name": "stdout",
     "output_type": "stream",
     "text": [
      "Epoch: 495, loss: 0.06175675222237829, f1: 0.20506599198375852, precision: 0.1185695858174608, recall: 0.7580972637952739\n",
      "val_loss: 0.06711612496559226, val_f1: 0.19984729129610232, val_precision: 0.11527103725222683, val_recall: 0.7505055306428069\n"
     ]
    },
    {
     "name": "stderr",
     "output_type": "stream",
     "text": [
      "100%|█████████████████████████████████████████| 655/655 [00:13<00:00, 47.34it/s]\n"
     ]
    },
    {
     "name": "stdout",
     "output_type": "stream",
     "text": [
      "Epoch: 496, loss: 0.06222822996894367, f1: 0.20123129113413274, precision: 0.11614992279587812, recall: 0.7523040365854292\n",
      "val_loss: 0.06730956497491089, val_f1: 0.2029283065747748, val_precision: 0.11815809505701133, val_recall: 0.7181534016624503\n"
     ]
    },
    {
     "name": "stderr",
     "output_type": "stream",
     "text": [
      "100%|█████████████████████████████████████████| 655/655 [00:13<00:00, 47.34it/s]\n"
     ]
    },
    {
     "name": "stdout",
     "output_type": "stream",
     "text": [
      "Epoch: 497, loss: 0.06163992212644515, f1: 0.20896049655101623, precision: 0.12106155279085382, recall: 0.7628194199377344\n",
      "val_loss: 0.06729039287519291, val_f1: 0.2035507322745403, val_precision: 0.11891164132094847, val_recall: 0.7062372483928269\n"
     ]
    },
    {
     "name": "stderr",
     "output_type": "stream",
     "text": [
      "100%|█████████████████████████████████████████| 655/655 [00:13<00:00, 47.27it/s]\n"
     ]
    },
    {
     "name": "stdout",
     "output_type": "stream",
     "text": [
      "Epoch: 498, loss: 0.06151094218815556, f1: 0.20588982531162942, precision: 0.11906599106359515, recall: 0.7603237041762767\n",
      "val_loss: 0.06684329807587447, val_f1: 0.2047022811030219, val_precision: 0.11805802460657347, val_recall: 0.7693043016922583\n"
     ]
    },
    {
     "name": "stderr",
     "output_type": "stream",
     "text": [
      "100%|█████████████████████████████████████████| 655/655 [00:13<00:00, 47.32it/s]\n"
     ]
    },
    {
     "name": "stdout",
     "output_type": "stream",
     "text": [
      "Epoch: 499, loss: 0.061262238383975647, f1: 0.20638901692520273, precision: 0.11937649373590718, recall: 0.7612785690385877\n",
      "val_loss: 0.06770535623398397, val_f1: 0.19689056361184507, val_precision: 0.11280224817044554, val_recall: 0.7734815857005776\n"
     ]
    },
    {
     "name": "stderr",
     "output_type": "stream",
     "text": [
      "100%|█████████████████████████████████████████| 655/655 [00:13<00:00, 47.36it/s]\n"
     ]
    },
    {
     "name": "stdout",
     "output_type": "stream",
     "text": [
      "Epoch: 500, loss: 0.061960296460804136, f1: 0.2019861339347739, precision: 0.11670026658884897, recall: 0.7503513116759198\n",
      "val_loss: 0.06734254501691651, val_f1: 0.19752827531559838, val_precision: 0.1136584330644937, val_recall: 0.7536695642618958\n"
     ]
    },
    {
     "name": "stderr",
     "output_type": "stream",
     "text": [
      "100%|█████████████████████████████████████████| 655/655 [00:13<00:00, 47.29it/s]\n"
     ]
    },
    {
     "name": "stdout",
     "output_type": "stream",
     "text": [
      "Epoch: 501, loss: 0.061821833528748905, f1: 0.2042635675658645, precision: 0.11823218203156845, recall: 0.7499978239640934\n",
      "val_loss: 0.06713518607985536, val_f1: 0.20559800025930156, val_precision: 0.11860028041714649, val_recall: 0.7715824300406176\n"
     ]
    },
    {
     "name": "stderr",
     "output_type": "stream",
     "text": [
      "100%|█████████████████████████████████████████| 655/655 [00:13<00:00, 47.34it/s]\n"
     ]
    },
    {
     "name": "stdout",
     "output_type": "stream",
     "text": [
      "Epoch: 502, loss: 0.06162849961773386, f1: 0.20650910618325208, precision: 0.11934441847385455, recall: 0.7658767988891092\n",
      "val_loss: 0.06775464782269176, val_f1: 0.20166903775090084, val_precision: 0.117023271863101, val_recall: 0.7289002015503174\n"
     ]
    },
    {
     "name": "stderr",
     "output_type": "stream",
     "text": [
      "100%|█████████████████████████████████████████| 655/655 [00:13<00:00, 47.30it/s]\n"
     ]
    },
    {
     "name": "stdout",
     "output_type": "stream",
     "text": [
      "Epoch: 503, loss: 0.061624959581851504, f1: 0.2046217999956317, precision: 0.11814745015372302, recall: 0.7632831543911505\n",
      "val_loss: 0.0679068165839812, val_f1: 0.20075869904444374, val_precision: 0.11576359061985661, val_recall: 0.755336181422986\n"
     ]
    },
    {
     "name": "stderr",
     "output_type": "stream",
     "text": [
      "100%|█████████████████████████████████████████| 655/655 [00:13<00:00, 47.35it/s]\n"
     ]
    },
    {
     "name": "stdout",
     "output_type": "stream",
     "text": [
      "Epoch: 504, loss: 0.06149676626846763, f1: 0.2056734765973389, precision: 0.11924519488189853, recall: 0.7473455432717127\n",
      "val_loss: 0.06828356991359673, val_f1: 0.19786076792428803, val_precision: 0.11584073817571026, val_recall: 0.6777012806146516\n"
     ]
    },
    {
     "name": "stderr",
     "output_type": "stream",
     "text": [
      "100%|█████████████████████████████████████████| 655/655 [00:13<00:00, 47.18it/s]\n"
     ]
    },
    {
     "name": "stdout",
     "output_type": "stream",
     "text": [
      "Epoch: 505, loss: 0.06103546966051035, f1: 0.2104945690795399, precision: 0.12224438188611779, recall: 0.7569462586222714\n",
      "val_loss: 0.06717172370146994, val_f1: 0.2006871994690552, val_precision: 0.11564144272135075, val_recall: 0.7585303791619222\n"
     ]
    },
    {
     "name": "stderr",
     "output_type": "stream",
     "text": [
      "100%|█████████████████████████████████████████| 655/655 [00:13<00:00, 47.36it/s]\n"
     ]
    },
    {
     "name": "stdout",
     "output_type": "stream",
     "text": [
      "Epoch: 506, loss: 0.06119469428818872, f1: 0.20613844297132822, precision: 0.11913097074276675, recall: 0.7644706820372407\n",
      "val_loss: 0.06786425423663144, val_f1: 0.19513185132745514, val_precision: 0.11200983307127832, val_recall: 0.7566057257696029\n"
     ]
    },
    {
     "name": "stderr",
     "output_type": "stream",
     "text": [
      "100%|█████████████████████████████████████████| 655/655 [00:13<00:00, 47.30it/s]\n"
     ]
    },
    {
     "name": "stdout",
     "output_type": "stream",
     "text": [
      "Epoch: 507, loss: 0.06165624750308863, f1: 0.20208520671957278, precision: 0.11685093091374249, recall: 0.7468799102397365\n",
      "val_loss: 0.06788074056865699, val_f1: 0.2001756273304261, val_precision: 0.11503057484728617, val_recall: 0.7704840223860303\n"
     ]
    },
    {
     "name": "stderr",
     "output_type": "stream",
     "text": [
      "100%|█████████████████████████████████████████| 655/655 [00:13<00:00, 47.35it/s]\n"
     ]
    },
    {
     "name": "stdout",
     "output_type": "stream",
     "text": [
      "Epoch: 508, loss: 0.0617766133203875, f1: 0.20295950008759348, precision: 0.11728250122387389, recall: 0.7531472699332783\n",
      "val_loss: 0.06724104936311551, val_f1: 0.1966886530926599, val_precision: 0.11401430223085875, val_recall: 0.7155505531903253\n"
     ]
    },
    {
     "name": "stderr",
     "output_type": "stream",
     "text": [
      "100%|█████████████████████████████████████████| 655/655 [00:13<00:00, 47.32it/s]\n"
     ]
    },
    {
     "name": "stdout",
     "output_type": "stream",
     "text": [
      "Epoch: 509, loss: 0.061447064140598286, f1: 0.2051030286034535, precision: 0.118570042329037, recall: 0.7590920570811243\n",
      "val_loss: 0.06648718263236207, val_f1: 0.20164316207383842, val_precision: 0.11619915917020189, val_recall: 0.761848376978428\n"
     ]
    },
    {
     "name": "stderr",
     "output_type": "stream",
     "text": [
      "100%|█████████████████████████████████████████| 655/655 [00:13<00:00, 47.28it/s]\n"
     ]
    },
    {
     "name": "stdout",
     "output_type": "stream",
     "text": [
      "Epoch: 510, loss: 0.06124901306144821, f1: 0.20487786502747182, precision: 0.11827663455641907, recall: 0.7650183184797528\n",
      "val_loss: 0.06773667748368115, val_f1: 0.19576894764128286, val_precision: 0.11176711276447007, val_recall: 0.7880537027339323\n"
     ]
    },
    {
     "name": "stderr",
     "output_type": "stream",
     "text": [
      "100%|█████████████████████████████████████████| 655/655 [00:13<00:00, 47.29it/s]\n"
     ]
    },
    {
     "name": "stdout",
     "output_type": "stream",
     "text": [
      "Epoch: 511, loss: 0.06182464769835236, f1: 0.20153976290699077, precision: 0.1161939576790732, recall: 0.7591282077247404\n",
      "val_loss: 0.0672718517422471, val_f1: 0.2036113593550146, val_precision: 0.11755921162767421, val_recall: 0.7597150581829045\n"
     ]
    },
    {
     "name": "stderr",
     "output_type": "stream",
     "text": [
      "100%|█████████████████████████████████████████| 655/655 [00:13<00:00, 47.29it/s]\n"
     ]
    },
    {
     "name": "stdout",
     "output_type": "stream",
     "text": [
      "Epoch: 512, loss: 0.061693969980337236, f1: 0.20459563519927343, precision: 0.1182325575593148, recall: 0.7590291801527256\n",
      "val_loss: 0.06710093808915774, val_f1: 0.2021767196423585, val_precision: 0.11678037520310064, val_recall: 0.7523021295393278\n"
     ]
    },
    {
     "name": "stderr",
     "output_type": "stream",
     "text": [
      "100%|█████████████████████████████████████████| 655/655 [00:13<00:00, 47.30it/s]\n"
     ]
    },
    {
     "name": "stdout",
     "output_type": "stream",
     "text": [
      "Epoch: 513, loss: 0.061213877593799856, f1: 0.2069537247259582, precision: 0.11968482446124536, recall: 0.764106556557062\n",
      "val_loss: 0.0667264402220282, val_f1: 0.2041732730596817, val_precision: 0.11817524641316486, val_recall: 0.7498543077926023\n"
     ]
    },
    {
     "name": "stderr",
     "output_type": "stream",
     "text": [
      "100%|█████████████████████████████████████████| 655/655 [00:13<00:00, 47.34it/s]\n"
     ]
    },
    {
     "name": "stdout",
     "output_type": "stream",
     "text": [
      "Epoch: 514, loss: 0.06186723491276493, f1: 0.20106699569070743, precision: 0.1160241655436636, recall: 0.7529898274149603\n",
      "val_loss: 0.0664428253871722, val_f1: 0.19925171322831073, val_precision: 0.11690165669819631, val_recall: 0.6741469356855121\n"
     ]
    },
    {
     "name": "stderr",
     "output_type": "stream",
     "text": [
      "100%|█████████████████████████████████████████| 655/655 [00:13<00:00, 47.34it/s]\n"
     ]
    },
    {
     "name": "stdout",
     "output_type": "stream",
     "text": [
      "Epoch: 515, loss: 0.061752985348171426, f1: 0.21130327187501038, precision: 0.12286655828996583, recall: 0.7540581722978417\n",
      "val_loss: 0.0669519591974009, val_f1: 0.2008657879404164, val_precision: 0.11540322690997101, val_recall: 0.7742165854764641\n"
     ]
    },
    {
     "name": "stderr",
     "output_type": "stream",
     "text": [
      "100%|█████████████████████████████████████████| 655/655 [00:13<00:00, 47.34it/s]\n"
     ]
    },
    {
     "name": "stdout",
     "output_type": "stream",
     "text": [
      "Epoch: 516, loss: 0.06161524019851029, f1: 0.20603059919576705, precision: 0.1192574828457912, recall: 0.7563850953492499\n",
      "val_loss: 0.06707811570051339, val_f1: 0.19803587917983886, val_precision: 0.11383628304791424, val_recall: 0.7606676299500903\n"
     ]
    },
    {
     "name": "stderr",
     "output_type": "stream",
     "text": [
      "100%|█████████████████████████████████████████| 655/655 [00:13<00:00, 47.38it/s]\n"
     ]
    },
    {
     "name": "stdout",
     "output_type": "stream",
     "text": [
      "Epoch: 517, loss: 0.061530774056854594, f1: 0.20381280592350323, precision: 0.11760441676237202, recall: 0.7634496463619116\n",
      "val_loss: 0.06753306395861261, val_f1: 0.1949704241702487, val_precision: 0.11131839380693545, val_recall: 0.7844830963316314\n"
     ]
    },
    {
     "name": "stderr",
     "output_type": "stream",
     "text": [
      "100%|█████████████████████████████████████████| 655/655 [00:13<00:00, 47.40it/s]\n"
     ]
    },
    {
     "name": "stdout",
     "output_type": "stream",
     "text": [
      "Epoch: 518, loss: 0.0611468504047917, f1: 0.2079045145724425, precision: 0.12049237976902882, recall: 0.7572770320049679\n",
      "val_loss: 0.06673476932177302, val_f1: 0.1968452096380342, val_precision: 0.11536681852324807, val_recall: 0.6701227325706853\n"
     ]
    },
    {
     "name": "stderr",
     "output_type": "stream",
     "text": [
      "100%|█████████████████████████████████████████| 655/655 [00:13<00:00, 47.30it/s]\n"
     ]
    },
    {
     "name": "stdout",
     "output_type": "stream",
     "text": [
      "Epoch: 519, loss: 0.061696121046845694, f1: 0.20489860226512963, precision: 0.11846376705331771, recall: 0.7578479484861134\n",
      "val_loss: 0.0653510616468522, val_f1: 0.20870752281924834, val_precision: 0.12111209188972455, val_recall: 0.754162376490208\n"
     ]
    },
    {
     "name": "stderr",
     "output_type": "stream",
     "text": [
      "100%|█████████████████████████████████████████| 655/655 [00:13<00:00, 47.35it/s]\n"
     ]
    },
    {
     "name": "stdout",
     "output_type": "stream",
     "text": [
      "Epoch: 520, loss: 0.0610002678996734, f1: 0.20744919415640675, precision: 0.12010036357145273, recall: 0.7607193120108307\n",
      "val_loss: 0.06662015341769117, val_f1: 0.19904305714659412, val_precision: 0.11729887544194562, val_recall: 0.6566651070131622\n"
     ]
    },
    {
     "name": "stderr",
     "output_type": "stream",
     "text": [
      "100%|█████████████████████████████████████████| 655/655 [00:13<00:00, 47.36it/s]\n"
     ]
    },
    {
     "name": "stdout",
     "output_type": "stream",
     "text": [
      "Epoch: 521, loss: 0.061586195989760735, f1: 0.2067662799477231, precision: 0.1194884397061044, recall: 0.7670201916617292\n",
      "val_loss: 0.06786825755662328, val_f1: 0.19961737634502674, val_precision: 0.11492569879158784, val_recall: 0.7587864772168869\n"
     ]
    },
    {
     "name": "stderr",
     "output_type": "stream",
     "text": [
      "100%|█████████████████████████████████████████| 655/655 [00:13<00:00, 47.30it/s]\n"
     ]
    },
    {
     "name": "stdout",
     "output_type": "stream",
     "text": [
      "Epoch: 522, loss: 0.06138368853659348, f1: 0.20597224364860037, precision: 0.11911733878691119, recall: 0.7604778233489008\n",
      "val_loss: 0.06714140685326463, val_f1: 0.19991142427048175, val_precision: 0.11491860188714681, val_recall: 0.7676839754668945\n"
     ]
    },
    {
     "name": "stderr",
     "output_type": "stream",
     "text": [
      "100%|█████████████████████████████████████████| 655/655 [00:13<00:00, 47.31it/s]\n"
     ]
    },
    {
     "name": "stdout",
     "output_type": "stream",
     "text": [
      "Epoch: 523, loss: 0.06099824489926109, f1: 0.20637760586728646, precision: 0.11956762549616681, recall: 0.7532922526921024\n",
      "val_loss: 0.06762792191408369, val_f1: 0.20399357799217066, val_precision: 0.11871966114267707, val_recall: 0.724099551865814\n"
     ]
    },
    {
     "name": "stderr",
     "output_type": "stream",
     "text": [
      "100%|█████████████████████████████████████████| 655/655 [00:13<00:00, 47.31it/s]\n"
     ]
    },
    {
     "name": "stdout",
     "output_type": "stream",
     "text": [
      "Epoch: 524, loss: 0.06151832034097305, f1: 0.20864019230845393, precision: 0.1210612417781683, recall: 0.7543761141882598\n",
      "val_loss: 0.06720426827327373, val_f1: 0.20309858867980288, val_precision: 0.1171873193960466, val_recall: 0.7609841746337916\n"
     ]
    },
    {
     "name": "stderr",
     "output_type": "stream",
     "text": [
      "100%|█████████████████████████████████████████| 655/655 [00:13<00:00, 47.27it/s]\n"
     ]
    },
    {
     "name": "stdout",
     "output_type": "stream",
     "text": [
      "Epoch: 525, loss: 0.061595590669787446, f1: 0.2085343403835961, precision: 0.12053750025833608, recall: 0.772455383666599\n",
      "val_loss: 0.06697199011751272, val_f1: 0.20077004852345054, val_precision: 0.11564449167921456, val_recall: 0.7607719709566974\n"
     ]
    },
    {
     "name": "stderr",
     "output_type": "stream",
     "text": [
      "100%|█████████████████████████████████████████| 655/655 [00:13<00:00, 47.29it/s]\n"
     ]
    },
    {
     "name": "stdout",
     "output_type": "stream",
     "text": [
      "Epoch: 526, loss: 0.06133515383365728, f1: 0.20591528246691762, precision: 0.11913387367843103, recall: 0.7582570704681273\n",
      "val_loss: 0.06735227738908671, val_f1: 0.19797796313685662, val_precision: 0.11438438978789528, val_recall: 0.735465672038017\n"
     ]
    },
    {
     "name": "stderr",
     "output_type": "stream",
     "text": [
      "100%|█████████████████████████████████████████| 655/655 [00:13<00:00, 47.32it/s]\n"
     ]
    },
    {
     "name": "stdout",
     "output_type": "stream",
     "text": [
      "Epoch: 527, loss: 0.06164041558522305, f1: 0.20317869843689243, precision: 0.11726163901434856, recall: 0.7601016667564862\n",
      "val_loss: 0.06736646741714089, val_f1: 0.20060547139322757, val_precision: 0.11647414037564752, val_recall: 0.7224279615447062\n"
     ]
    },
    {
     "name": "stderr",
     "output_type": "stream",
     "text": [
      "100%|█████████████████████████████████████████| 655/655 [00:13<00:00, 47.36it/s]\n"
     ]
    },
    {
     "name": "stdout",
     "output_type": "stream",
     "text": [
      "Epoch: 528, loss: 0.06096174361127365, f1: 0.20655459659648323, precision: 0.11920304146118973, recall: 0.7730231452989215\n",
      "val_loss: 0.06631499722839222, val_f1: 0.20387979702078268, val_precision: 0.11777618162573204, val_recall: 0.7581382521658863\n"
     ]
    },
    {
     "name": "stderr",
     "output_type": "stream",
     "text": [
      "100%|█████████████████████████████████████████| 655/655 [00:13<00:00, 47.34it/s]\n"
     ]
    },
    {
     "name": "stdout",
     "output_type": "stream",
     "text": [
      "Epoch: 529, loss: 0.06122965952761336, f1: 0.20781576847336064, precision: 0.12036900309390808, recall: 0.759807917532575\n",
      "val_loss: 0.06581994047849823, val_f1: 0.19008172454613803, val_precision: 0.10875395593476918, val_recall: 0.753737267653603\n"
     ]
    },
    {
     "name": "stderr",
     "output_type": "stream",
     "text": [
      "100%|█████████████████████████████████████████| 655/655 [00:13<00:00, 47.27it/s]\n"
     ]
    },
    {
     "name": "stdout",
     "output_type": "stream",
     "text": [
      "Epoch: 530, loss: 0.06138341167035604, f1: 0.20800299874175876, precision: 0.12044373617031193, recall: 0.7618385080049056\n",
      "val_loss: 0.06634831916831366, val_f1: 0.20506963441683057, val_precision: 0.11883740589757441, val_recall: 0.7474255729295792\n"
     ]
    },
    {
     "name": "stderr",
     "output_type": "stream",
     "text": [
      "100%|█████████████████████████████████████████| 655/655 [00:13<00:00, 47.32it/s]\n"
     ]
    },
    {
     "name": "stdout",
     "output_type": "stream",
     "text": [
      "Epoch: 531, loss: 0.06079795368018681, f1: 0.20931815829300554, precision: 0.1211808847938842, recall: 0.7676327928900719\n",
      "val_loss: 0.06576157044704764, val_f1: 0.20605121965731207, val_precision: 0.12048488395040803, val_recall: 0.7109704880949554\n"
     ]
    },
    {
     "name": "stderr",
     "output_type": "stream",
     "text": [
      "100%|█████████████████████████████████████████| 655/655 [00:13<00:00, 47.31it/s]\n"
     ]
    },
    {
     "name": "stdout",
     "output_type": "stream",
     "text": [
      "Epoch: 532, loss: 0.06146916875061188, f1: 0.20596759756908542, precision: 0.11907856124133327, recall: 0.7619349849588088\n",
      "val_loss: 0.06775414522036637, val_f1: 0.19850248073032872, val_precision: 0.11416245337763647, val_recall: 0.7598821833866451\n"
     ]
    },
    {
     "name": "stderr",
     "output_type": "stream",
     "text": [
      "100%|█████████████████████████████████████████| 655/655 [00:13<00:00, 47.36it/s]\n"
     ]
    },
    {
     "name": "stdout",
     "output_type": "stream",
     "text": [
      "Epoch: 533, loss: 0.06137036409456539, f1: 0.206622713310086, precision: 0.1194402772695082, recall: 0.7650565948536378\n",
      "val_loss: 0.06687503297804692, val_f1: 0.20430075009658288, val_precision: 0.1186356618445059, val_recall: 0.7351208081075905\n"
     ]
    },
    {
     "name": "stderr",
     "output_type": "stream",
     "text": [
      "100%|█████████████████████████████████████████| 655/655 [00:13<00:00, 47.28it/s]\n"
     ]
    },
    {
     "name": "stdout",
     "output_type": "stream",
     "text": [
      "Epoch: 534, loss: 0.06147166859955733, f1: 0.2054148620125492, precision: 0.11898104022648043, recall: 0.7509235852206027\n",
      "val_loss: 0.06505708654470947, val_f1: 0.20108187409178255, val_precision: 0.11593106865387308, val_recall: 0.7573566342439126\n"
     ]
    },
    {
     "name": "stderr",
     "output_type": "stream",
     "text": [
      "100%|█████████████████████████████████████████| 655/655 [00:13<00:00, 47.26it/s]\n"
     ]
    },
    {
     "name": "stdout",
     "output_type": "stream",
     "text": [
      "Epoch: 535, loss: 0.06154410447925329, f1: 0.20346359396359534, precision: 0.1179348811912457, recall: 0.7404594850790409\n",
      "val_loss: 0.06751852435563956, val_f1: 0.20664470665260848, val_precision: 0.11985801611471614, val_recall: 0.7489274816775541\n"
     ]
    },
    {
     "name": "stderr",
     "output_type": "stream",
     "text": [
      "100%|█████████████████████████████████████████| 655/655 [00:13<00:00, 47.36it/s]\n"
     ]
    },
    {
     "name": "stdout",
     "output_type": "stream",
     "text": [
      "Epoch: 536, loss: 0.06142618428659803, f1: 0.20778629840843832, precision: 0.12033021034964339, recall: 0.7605668913089592\n",
      "val_loss: 0.06671950183467033, val_f1: 0.2036736818670954, val_precision: 0.1178062358751483, val_recall: 0.7512504354529425\n"
     ]
    },
    {
     "name": "stderr",
     "output_type": "stream",
     "text": [
      "100%|█████████████████████████████████████████| 655/655 [00:13<00:00, 47.34it/s]\n"
     ]
    },
    {
     "name": "stdout",
     "output_type": "stream",
     "text": [
      "Epoch: 537, loss: 0.0610364873360359, f1: 0.20985583080087986, precision: 0.1214329311574404, recall: 0.7719898311463931\n",
      "val_loss: 0.06731860194389426, val_f1: 0.2023102532555993, val_precision: 0.1168409234036717, val_recall: 0.7534879210208534\n"
     ]
    },
    {
     "name": "stderr",
     "output_type": "stream",
     "text": [
      "100%|█████████████████████████████████████████| 655/655 [00:13<00:00, 47.30it/s]\n"
     ]
    },
    {
     "name": "stdout",
     "output_type": "stream",
     "text": [
      "Epoch: 538, loss: 0.06130629243570885, f1: 0.2041598122391029, precision: 0.11855162785793762, recall: 0.7346978800556132\n",
      "val_loss: 0.06614906586911701, val_f1: 0.19901925892818864, val_precision: 0.11490432792471363, val_recall: 0.7427288767531377\n"
     ]
    },
    {
     "name": "stderr",
     "output_type": "stream",
     "text": [
      "100%|█████████████████████████████████████████| 655/655 [00:13<00:00, 47.37it/s]\n"
     ]
    },
    {
     "name": "stdout",
     "output_type": "stream",
     "text": [
      "Epoch: 539, loss: 0.06116438793437911, f1: 0.20998752055019954, precision: 0.12202912278416503, recall: 0.7521000188498097\n",
      "val_loss: 0.06672335300731276, val_f1: 0.20518049272312494, val_precision: 0.1186160429449188, val_recall: 0.7593288111987464\n"
     ]
    },
    {
     "name": "stderr",
     "output_type": "stream",
     "text": [
      "100%|█████████████████████████████████████████| 655/655 [00:13<00:00, 47.30it/s]\n"
     ]
    },
    {
     "name": "stdout",
     "output_type": "stream",
     "text": [
      "Epoch: 540, loss: 0.06074284843107724, f1: 0.2107504533426456, precision: 0.12214580130628275, recall: 0.7674836300939094\n",
      "val_loss: 0.06658405669187324, val_f1: 0.20505323593382344, val_precision: 0.11884537955464095, val_recall: 0.7466752155931717\n"
     ]
    },
    {
     "name": "stderr",
     "output_type": "stream",
     "text": [
      "100%|█████████████████████████████████████████| 655/655 [00:13<00:00, 47.36it/s]\n"
     ]
    },
    {
     "name": "stdout",
     "output_type": "stream",
     "text": [
      "Epoch: 541, loss: 0.061962677945048755, f1: 0.2027184257818652, precision: 0.1170937339234955, recall: 0.7542986965020194\n",
      "val_loss: 0.06651350663154634, val_f1: 0.20520372726418648, val_precision: 0.11892905663869796, val_recall: 0.7473631778714853\n"
     ]
    },
    {
     "name": "stderr",
     "output_type": "stream",
     "text": [
      "100%|█████████████████████████████████████████| 655/655 [00:13<00:00, 47.33it/s]\n"
     ]
    },
    {
     "name": "stdout",
     "output_type": "stream",
     "text": [
      "Epoch: 542, loss: 0.06130276779921455, f1: 0.20727083879079086, precision: 0.11991568709872948, recall: 0.7633481679185656\n",
      "val_loss: 0.06813153342574561, val_f1: 0.19866909993011436, val_precision: 0.11399796740963646, val_recall: 0.7722576836106974\n"
     ]
    },
    {
     "name": "stderr",
     "output_type": "stream",
     "text": [
      "100%|█████████████████████████████████████████| 655/655 [00:13<00:00, 47.31it/s]\n"
     ]
    },
    {
     "name": "stdout",
     "output_type": "stream",
     "text": [
      "Epoch: 543, loss: 0.06128638458388452, f1: 0.2077593761928751, precision: 0.12026183003460178, recall: 0.7625841261207602\n",
      "val_loss: 0.06759431916822901, val_f1: 0.19766837313627736, val_precision: 0.11405806772308338, val_recall: 0.7404705955211176\n"
     ]
    },
    {
     "name": "stderr",
     "output_type": "stream",
     "text": [
      "100%|█████████████████████████████████████████| 655/655 [00:13<00:00, 47.39it/s]\n"
     ]
    },
    {
     "name": "stdout",
     "output_type": "stream",
     "text": [
      "Epoch: 544, loss: 0.06145550469149842, f1: 0.2034023188950092, precision: 0.11757959360043511, recall: 0.753095732322176\n",
      "val_loss: 0.06728547492807885, val_f1: 0.20365567382457153, val_precision: 0.1183996127016945, val_recall: 0.7275247146640349\n"
     ]
    },
    {
     "name": "stderr",
     "output_type": "stream",
     "text": [
      "100%|█████████████████████████████████████████| 655/655 [00:13<00:00, 47.23it/s]\n"
     ]
    },
    {
     "name": "stdout",
     "output_type": "stream",
     "text": [
      "Epoch: 545, loss: 0.06163221807942345, f1: 0.20464452058173893, precision: 0.11826824257363572, recall: 0.7589042610339536\n",
      "val_loss: 0.06712512870601148, val_f1: 0.20400953017741605, val_precision: 0.11790163191078111, val_recall: 0.7565345046443677\n"
     ]
    },
    {
     "name": "stderr",
     "output_type": "stream",
     "text": [
      "100%|█████████████████████████████████████████| 655/655 [00:13<00:00, 47.34it/s]\n"
     ]
    },
    {
     "name": "stdout",
     "output_type": "stream",
     "text": [
      "Epoch: 546, loss: 0.06155792184970306, f1: 0.208113601634911, precision: 0.1206766263851967, recall: 0.7555568873996042\n",
      "val_loss: 0.06710854976731173, val_f1: 0.20214572524864904, val_precision: 0.11741973321303861, val_recall: 0.7260073724826541\n"
     ]
    },
    {
     "name": "stderr",
     "output_type": "stream",
     "text": [
      "100%|█████████████████████████████████████████| 655/655 [00:13<00:00, 47.33it/s]\n"
     ]
    },
    {
     "name": "stdout",
     "output_type": "stream",
     "text": [
      "Epoch: 547, loss: 0.06146620741426831, f1: 0.20440339846530142, precision: 0.11876604374043132, recall: 0.7327842931369789\n",
      "val_loss: 0.06759514906144606, val_f1: 0.19977667584358372, val_precision: 0.11628936876440335, val_recall: 0.7082452240545268\n"
     ]
    },
    {
     "name": "stderr",
     "output_type": "stream",
     "text": [
      "100%|█████████████████████████████████████████| 655/655 [00:13<00:00, 47.42it/s]\n"
     ]
    },
    {
     "name": "stdout",
     "output_type": "stream",
     "text": [
      "Epoch: 548, loss: 0.061063892015918435, f1: 0.20804339842359004, precision: 0.12051580265050627, recall: 0.7600448621024612\n",
      "val_loss: 0.06725651300042321, val_f1: 0.20079615577567436, val_precision: 0.11602425188629316, val_recall: 0.7454551497320516\n"
     ]
    },
    {
     "name": "stderr",
     "output_type": "stream",
     "text": [
      "100%|█████████████████████████████████████████| 655/655 [00:13<00:00, 47.30it/s]\n"
     ]
    },
    {
     "name": "stdout",
     "output_type": "stream",
     "text": [
      "Epoch: 549, loss: 0.06131175780342092, f1: 0.20563887473989426, precision: 0.11890641633165247, recall: 0.7599867480401774\n",
      "val_loss: 0.06672475485284941, val_f1: 0.20412826771551612, val_precision: 0.11835413054913418, val_recall: 0.7415416989851435\n"
     ]
    },
    {
     "name": "stderr",
     "output_type": "stream",
     "text": [
      "100%|█████████████████████████████████████████| 655/655 [00:13<00:00, 47.36it/s]\n"
     ]
    },
    {
     "name": "stdout",
     "output_type": "stream",
     "text": [
      "Epoch: 550, loss: 0.06094937324808299, f1: 0.2088319642495555, precision: 0.12098489520104445, recall: 0.7624372580465469\n",
      "val_loss: 0.06721556633539977, val_f1: 0.20869342180737838, val_precision: 0.12125467624378587, val_recall: 0.7483175174085372\n"
     ]
    },
    {
     "name": "stderr",
     "output_type": "stream",
     "text": [
      "100%|█████████████████████████████████████████| 655/655 [00:13<00:00, 47.27it/s]\n"
     ]
    },
    {
     "name": "stdout",
     "output_type": "stream",
     "text": [
      "Epoch: 551, loss: 0.061535086832542454, f1: 0.20668911655849817, precision: 0.11966495719873382, recall: 0.7577463151616904\n",
      "val_loss: 0.06680076754728861, val_f1: 0.2032779111898747, val_precision: 0.11805743358414107, val_recall: 0.7308371858585865\n"
     ]
    },
    {
     "name": "stderr",
     "output_type": "stream",
     "text": [
      "100%|█████████████████████████████████████████| 655/655 [00:13<00:00, 47.36it/s]\n"
     ]
    },
    {
     "name": "stdout",
     "output_type": "stream",
     "text": [
      "Epoch: 552, loss: 0.06151345937300729, f1: 0.20902503091674327, precision: 0.12147837544396832, recall: 0.7483269697041002\n",
      "val_loss: 0.06793559681829237, val_f1: 0.19989295480050542, val_precision: 0.11562018593561776, val_recall: 0.7372747984022723\n"
     ]
    },
    {
     "name": "stderr",
     "output_type": "stream",
     "text": [
      "100%|█████████████████████████████████████████| 655/655 [00:13<00:00, 47.35it/s]\n"
     ]
    },
    {
     "name": "stdout",
     "output_type": "stream",
     "text": [
      "Epoch: 553, loss: 0.06095294708684656, f1: 0.20822206436989316, precision: 0.12081921527460786, recall: 0.7528414754922154\n",
      "val_loss: 0.06745708998668631, val_f1: 0.19714808782652513, val_precision: 0.11296220843620393, val_recall: 0.7739098115798531\n"
     ]
    },
    {
     "name": "stderr",
     "output_type": "stream",
     "text": [
      "100%|█████████████████████████████████████████| 655/655 [00:13<00:00, 47.37it/s]\n"
     ]
    },
    {
     "name": "stdout",
     "output_type": "stream",
     "text": [
      "Epoch: 554, loss: 0.061035001794061135, f1: 0.20732375685260632, precision: 0.12008343865128078, recall: 0.7580324066618017\n",
      "val_loss: 0.0668773926162255, val_f1: 0.19882828328899127, val_precision: 0.11445794627711245, val_recall: 0.7563737207049623\n"
     ]
    },
    {
     "name": "stderr",
     "output_type": "stream",
     "text": [
      "100%|█████████████████████████████████████████| 655/655 [00:13<00:00, 47.35it/s]\n"
     ]
    },
    {
     "name": "stdout",
     "output_type": "stream",
     "text": [
      "Epoch: 555, loss: 0.061069931950107334, f1: 0.20430318745721673, precision: 0.11833815178300702, recall: 0.7468191052666148\n",
      "val_loss: 0.06730823771635053, val_f1: 0.20097747663390098, val_precision: 0.11637282893574293, val_recall: 0.7362183353632962\n"
     ]
    },
    {
     "name": "stderr",
     "output_type": "stream",
     "text": [
      "100%|█████████████████████████████████████████| 655/655 [00:13<00:00, 47.34it/s]\n"
     ]
    },
    {
     "name": "stdout",
     "output_type": "stream",
     "text": [
      "Epoch: 556, loss: 0.06161664648418137, f1: 0.2046442583186316, precision: 0.11861577002004585, recall: 0.7448929459084082\n",
      "val_loss: 0.0675999158737036, val_f1: 0.19870435195801714, val_precision: 0.11540232320666449, val_recall: 0.7143530686035615\n"
     ]
    },
    {
     "name": "stderr",
     "output_type": "stream",
     "text": [
      "100%|█████████████████████████████████████████| 655/655 [00:13<00:00, 47.23it/s]\n"
     ]
    },
    {
     "name": "stdout",
     "output_type": "stream",
     "text": [
      "Epoch: 557, loss: 0.06135485104590882, f1: 0.20720867726746248, precision: 0.12014697023617629, recall: 0.7524647643320433\n",
      "val_loss: 0.06765798983429003, val_f1: 0.20229537621565288, val_precision: 0.11727441168911414, val_recall: 0.7355514935670643\n"
     ]
    },
    {
     "name": "stderr",
     "output_type": "stream",
     "text": [
      "100%|█████████████████████████████████████████| 655/655 [00:13<00:00, 47.35it/s]\n"
     ]
    },
    {
     "name": "stdout",
     "output_type": "stream",
     "text": [
      "Epoch: 558, loss: 0.06114525202917689, f1: 0.20644832918459585, precision: 0.11940820918254952, recall: 0.7616027359289067\n",
      "val_loss: 0.06826119090712399, val_f1: 0.20156117572035978, val_precision: 0.11655166202199159, val_recall: 0.744790424174125\n"
     ]
    },
    {
     "name": "stderr",
     "output_type": "stream",
     "text": [
      "100%|█████████████████████████████████████████| 655/655 [00:13<00:00, 47.34it/s]\n"
     ]
    },
    {
     "name": "stdout",
     "output_type": "stream",
     "text": [
      "Epoch: 559, loss: 0.0610170278883049, f1: 0.21078757648569382, precision: 0.12234985930134208, recall: 0.7604895685010284\n",
      "val_loss: 0.06699170750659814, val_f1: 0.20558485027572318, val_precision: 0.11893731273001555, val_recall: 0.7572585900715731\n"
     ]
    },
    {
     "name": "stderr",
     "output_type": "stream",
     "text": [
      "100%|█████████████████████████████████████████| 655/655 [00:13<00:00, 47.34it/s]\n"
     ]
    },
    {
     "name": "stdout",
     "output_type": "stream",
     "text": [
      "Epoch: 560, loss: 0.06128249635336963, f1: 0.21079744865661926, precision: 0.12210175709990884, recall: 0.7704810026151533\n",
      "val_loss: 0.06688459351692998, val_f1: 0.2042174136684623, val_precision: 0.11831460310009505, val_recall: 0.7454663983999043\n"
     ]
    },
    {
     "name": "stderr",
     "output_type": "stream",
     "text": [
      "100%|█████████████████████████████████████████| 655/655 [00:13<00:00, 47.31it/s]\n"
     ]
    },
    {
     "name": "stdout",
     "output_type": "stream",
     "text": [
      "Epoch: 561, loss: 0.061331142225310574, f1: 0.20530257444301864, precision: 0.11854921877952933, recall: 0.765459950711891\n",
      "val_loss: 0.06771803083359648, val_f1: 0.1958275296468163, val_precision: 0.11194330816789436, val_recall: 0.7812649692417285\n"
     ]
    },
    {
     "name": "stderr",
     "output_type": "stream",
     "text": [
      "100%|█████████████████████████████████████████| 655/655 [00:13<00:00, 47.32it/s]\n"
     ]
    },
    {
     "name": "stdout",
     "output_type": "stream",
     "text": [
      "Epoch: 562, loss: 0.06121213984056552, f1: 0.20834080971157073, precision: 0.12052635790012378, recall: 0.7676275093364352\n",
      "val_loss: 0.06721038774612846, val_f1: 0.20524250760573357, val_precision: 0.11899727357790695, val_recall: 0.7457031428540518\n"
     ]
    },
    {
     "name": "stderr",
     "output_type": "stream",
     "text": [
      "100%|█████████████████████████████████████████| 655/655 [00:13<00:00, 47.40it/s]\n"
     ]
    },
    {
     "name": "stdout",
     "output_type": "stream",
     "text": [
      "Epoch: 563, loss: 0.061192192967611414, f1: 0.2091973126303531, precision: 0.12116248627932642, recall: 0.7651269837986422\n",
      "val_loss: 0.06723894294428237, val_f1: 0.20315865179819692, val_precision: 0.11739485936427335, val_recall: 0.7539986371310479\n"
     ]
    },
    {
     "name": "stderr",
     "output_type": "stream",
     "text": [
      "100%|█████████████████████████████████████████| 655/655 [00:13<00:00, 47.37it/s]\n"
     ]
    },
    {
     "name": "stdout",
     "output_type": "stream",
     "text": [
      "Epoch: 564, loss: 0.060858427669587704, f1: 0.20823381101268276, precision: 0.1206659011798733, recall: 0.75916149105507\n",
      "val_loss: 0.06834097507349941, val_f1: 0.2019660427901418, val_precision: 0.11663927051982065, val_recall: 0.752324893182024\n"
     ]
    },
    {
     "name": "stderr",
     "output_type": "stream",
     "text": [
      "100%|█████████████████████████████████████████| 655/655 [00:13<00:00, 47.39it/s]\n"
     ]
    },
    {
     "name": "stdout",
     "output_type": "stream",
     "text": [
      "Epoch: 565, loss: 0.061843280843884255, f1: 0.20291543869766207, precision: 0.1175946100572309, recall: 0.7393543873920696\n",
      "val_loss: 0.06664820316187832, val_f1: 0.19973245640896914, val_precision: 0.11503193289502908, val_recall: 0.75748575458286\n"
     ]
    },
    {
     "name": "stderr",
     "output_type": "stream",
     "text": [
      "100%|█████████████████████████████████████████| 655/655 [00:13<00:00, 47.28it/s]\n"
     ]
    },
    {
     "name": "stdout",
     "output_type": "stream",
     "text": [
      "Epoch: 566, loss: 0.061312844591307834, f1: 0.2083168346910678, precision: 0.1206661891567215, recall: 0.7613625529499455\n",
      "val_loss: 0.06678795628249645, val_f1: 0.202950215016196, val_precision: 0.1167568305567112, val_recall: 0.7752994799969393\n"
     ]
    },
    {
     "name": "stderr",
     "output_type": "stream",
     "text": [
      "100%|█████████████████████████████████████████| 655/655 [00:13<00:00, 47.43it/s]\n"
     ]
    },
    {
     "name": "stdout",
     "output_type": "stream",
     "text": [
      "Epoch: 567, loss: 0.061240800716096666, f1: 0.20693238631538757, precision: 0.11942995611457367, recall: 0.7740632920661046\n",
      "val_loss: 0.06664528624248614, val_f1: 0.2051747648599659, val_precision: 0.11870056648798492, val_recall: 0.7557277546836696\n"
     ]
    },
    {
     "name": "stderr",
     "output_type": "stream",
     "text": [
      "100%|█████████████████████████████████████████| 655/655 [00:13<00:00, 47.40it/s]\n"
     ]
    },
    {
     "name": "stdout",
     "output_type": "stream",
     "text": [
      "Epoch: 568, loss: 0.061411260804943454, f1: 0.20734188378189322, precision: 0.1200255638596296, recall: 0.7608346606938894\n",
      "val_loss: 0.06712556785878239, val_f1: 0.19888590487157534, val_precision: 0.1142845776999036, val_recall: 0.7657379580815451\n"
     ]
    },
    {
     "name": "stderr",
     "output_type": "stream",
     "text": [
      "100%|█████████████████████████████████████████| 655/655 [00:13<00:00, 47.37it/s]\n"
     ]
    },
    {
     "name": "stdout",
     "output_type": "stream",
     "text": [
      "Epoch: 569, loss: 0.06115707742007634, f1: 0.20604185860755453, precision: 0.11922024617767857, recall: 0.7581912650179317\n",
      "val_loss: 0.0680147232744125, val_f1: 0.19463499891446495, val_precision: 0.11153512674067682, val_recall: 0.7634410031755036\n"
     ]
    },
    {
     "name": "stderr",
     "output_type": "stream",
     "text": [
      "100%|█████████████████████████████████████████| 655/655 [00:13<00:00, 47.35it/s]\n"
     ]
    },
    {
     "name": "stdout",
     "output_type": "stream",
     "text": [
      "Epoch: 570, loss: 0.06134616316843706, f1: 0.20578291215134406, precision: 0.1193952880024853, recall: 0.7443577398041278\n",
      "val_loss: 0.06700948480550849, val_f1: 0.20384368858230303, val_precision: 0.11806845348200189, val_recall: 0.7452805966412256\n"
     ]
    },
    {
     "name": "stderr",
     "output_type": "stream",
     "text": [
      "100%|█████████████████████████████████████████| 655/655 [00:13<00:00, 47.31it/s]\n"
     ]
    },
    {
     "name": "stdout",
     "output_type": "stream",
     "text": [
      "Epoch: 571, loss: 0.060958500290360616, f1: 0.20689768797281657, precision: 0.11988689792875684, recall: 0.7544786653787126\n",
      "val_loss: 0.06802135506866995, val_f1: 0.19747346282721254, val_precision: 0.11659088811982389, val_recall: 0.644768800620639\n"
     ]
    },
    {
     "name": "stderr",
     "output_type": "stream",
     "text": [
      "100%|█████████████████████████████████████████| 655/655 [00:13<00:00, 47.38it/s]\n"
     ]
    },
    {
     "name": "stdout",
     "output_type": "stream",
     "text": [
      "Epoch: 572, loss: 0.06141885888292522, f1: 0.20971642493826084, precision: 0.12179712075029166, recall: 0.7539699816408049\n",
      "val_loss: 0.06644004168749335, val_f1: 0.20411572933626332, val_precision: 0.11766484854614721, val_recall: 0.7694390718269786\n"
     ]
    },
    {
     "name": "stderr",
     "output_type": "stream",
     "text": [
      "100%|█████████████████████████████████████████| 655/655 [00:13<00:00, 47.32it/s]\n"
     ]
    },
    {
     "name": "stdout",
     "output_type": "stream",
     "text": [
      "Epoch: 573, loss: 0.06124845025989845, f1: 0.2088915945017567, precision: 0.12083299582582394, recall: 0.7701437512654384\n",
      "val_loss: 0.06674208430949291, val_f1: 0.2006033337743094, val_precision: 0.11580649297898037, val_recall: 0.7491592755284878\n"
     ]
    },
    {
     "name": "stderr",
     "output_type": "stream",
     "text": [
      "100%|█████████████████████████████████████████| 655/655 [00:13<00:00, 47.25it/s]\n"
     ]
    },
    {
     "name": "stdout",
     "output_type": "stream",
     "text": [
      "Epoch: 574, loss: 0.061468952314089276, f1: 0.2039117971609519, precision: 0.1175410813118779, recall: 0.7689359035314495\n",
      "val_loss: 0.06739538554273067, val_f1: 0.20303693565532915, val_precision: 0.1172868215068833, val_recall: 0.7551059963506296\n"
     ]
    },
    {
     "name": "stderr",
     "output_type": "stream",
     "text": [
      "100%|█████████████████████████████████████████| 655/655 [00:13<00:00, 47.38it/s]\n"
     ]
    },
    {
     "name": "stdout",
     "output_type": "stream",
     "text": [
      "Epoch: 575, loss: 0.0614865194455981, f1: 0.20502093366680946, precision: 0.11842990913890473, recall: 0.762608704494156\n",
      "val_loss: 0.06757618507387442, val_f1: 0.1984050560375401, val_precision: 0.11643162561439559, val_recall: 0.670395622183697\n"
     ]
    },
    {
     "name": "stderr",
     "output_type": "stream",
     "text": [
      "100%|█████████████████████████████████████████| 655/655 [00:13<00:00, 47.31it/s]\n"
     ]
    },
    {
     "name": "stdout",
     "output_type": "stream",
     "text": [
      "Epoch: 576, loss: 0.06121595207857722, f1: 0.2078868769128363, precision: 0.12039725137092458, recall: 0.7605838448036718\n",
      "val_loss: 0.06800890065849237, val_f1: 0.19296896136943079, val_precision: 0.11062338777151334, val_recall: 0.7548985261162486\n"
     ]
    },
    {
     "name": "stderr",
     "output_type": "stream",
     "text": [
      "100%|█████████████████████████████████████████| 655/655 [00:13<00:00, 47.38it/s]\n"
     ]
    },
    {
     "name": "stdout",
     "output_type": "stream",
     "text": [
      "Epoch: 577, loss: 0.06128708473086812, f1: 0.20355645779861925, precision: 0.11727206070928742, recall: 0.7703544729766045\n",
      "val_loss: 0.06773498272437842, val_f1: 0.19472735924460466, val_precision: 0.11173093204873555, val_recall: 0.757175718015487\n"
     ]
    },
    {
     "name": "stderr",
     "output_type": "stream",
     "text": [
      "100%|█████████████████████████████████████████| 655/655 [00:13<00:00, 47.36it/s]\n"
     ]
    },
    {
     "name": "stdout",
     "output_type": "stream",
     "text": [
      "Epoch: 578, loss: 0.06144571941744053, f1: 0.20508960137029128, precision: 0.11850941674783826, recall: 0.7612162091463577\n",
      "val_loss: 0.06788718036521192, val_f1: 0.1940197712644723, val_precision: 0.11059212369562357, val_recall: 0.7898940676396046\n"
     ]
    },
    {
     "name": "stderr",
     "output_type": "stream",
     "text": [
      "100%|█████████████████████████████████████████| 655/655 [00:13<00:00, 47.38it/s]\n"
     ]
    },
    {
     "name": "stdout",
     "output_type": "stream",
     "text": [
      "Epoch: 579, loss: 0.06156921695477066, f1: 0.20354324247641736, precision: 0.11757870252734719, recall: 0.7570135789404389\n",
      "val_loss: 0.06680225670645269, val_f1: 0.20581430398528217, val_precision: 0.11874447473743503, val_recall: 0.7715733212615372\n"
     ]
    },
    {
     "name": "stderr",
     "output_type": "stream",
     "text": [
      "100%|█████████████████████████████████████████| 655/655 [00:13<00:00, 47.21it/s]\n"
     ]
    },
    {
     "name": "stdout",
     "output_type": "stream",
     "text": [
      "Epoch: 580, loss: 0.06141375806840236, f1: 0.20591051909751487, precision: 0.11891540688469665, recall: 0.7670960876777881\n",
      "val_loss: 0.06823187110381662, val_f1: 0.198443905614894, val_precision: 0.1138991559471149, val_recall: 0.7699897976916864\n"
     ]
    },
    {
     "name": "stderr",
     "output_type": "stream",
     "text": [
      "100%|█████████████████████████████████████████| 655/655 [00:13<00:00, 47.27it/s]\n"
     ]
    },
    {
     "name": "stdout",
     "output_type": "stream",
     "text": [
      "Epoch: 581, loss: 0.061255195984166615, f1: 0.20522031430692636, precision: 0.11880671373774646, recall: 0.7526769967479561\n",
      "val_loss: 0.06772778358378816, val_f1: 0.19929935441299973, val_precision: 0.1149354066375062, val_recall: 0.7492790071105738\n"
     ]
    },
    {
     "name": "stderr",
     "output_type": "stream",
     "text": [
      "100%|█████████████████████████████████████████| 655/655 [00:13<00:00, 47.40it/s]\n"
     ]
    },
    {
     "name": "stdout",
     "output_type": "stream",
     "text": [
      "Epoch: 582, loss: 0.06134659196214594, f1: 0.20779765096973696, precision: 0.12035240969329163, recall: 0.7599848065326232\n",
      "val_loss: 0.06685823404631756, val_f1: 0.19945351928685326, val_precision: 0.1148351175889988, val_recall: 0.7579999237295685\n"
     ]
    },
    {
     "name": "stderr",
     "output_type": "stream",
     "text": [
      "100%|█████████████████████████████████████████| 655/655 [00:13<00:00, 47.33it/s]\n"
     ]
    },
    {
     "name": "stdout",
     "output_type": "stream",
     "text": [
      "Epoch: 583, loss: 0.06150355649301569, f1: 0.20456165314973082, precision: 0.11880352681943479, recall: 0.7354320264385856\n",
      "val_loss: 0.06707530110271288, val_f1: 0.2004010183612082, val_precision: 0.11584732387590846, val_recall: 0.7418737337676757\n"
     ]
    },
    {
     "name": "stderr",
     "output_type": "stream",
     "text": [
      "100%|█████████████████████████████████████████| 655/655 [00:13<00:00, 47.35it/s]\n"
     ]
    },
    {
     "name": "stdout",
     "output_type": "stream",
     "text": [
      "Epoch: 584, loss: 0.06133049908369595, f1: 0.20726095118014148, precision: 0.1199753434059587, recall: 0.7606731382774488\n",
      "val_loss: 0.06687333902190311, val_f1: 0.20432363038419224, val_precision: 0.11840998485188829, val_recall: 0.7445133355095845\n"
     ]
    },
    {
     "name": "stderr",
     "output_type": "stream",
     "text": [
      "100%|█████████████████████████████████████████| 655/655 [00:13<00:00, 47.43it/s]\n"
     ]
    },
    {
     "name": "stdout",
     "output_type": "stream",
     "text": [
      "Epoch: 585, loss: 0.06082959567829398, f1: 0.20947066852145416, precision: 0.12132765626293102, recall: 0.7658537865936301\n",
      "val_loss: 0.0672454037746295, val_f1: 0.19948833770037763, val_precision: 0.11446294898953323, val_recall: 0.7756764896965902\n"
     ]
    },
    {
     "name": "stderr",
     "output_type": "stream",
     "text": [
      "100%|█████████████████████████████████████████| 655/655 [00:13<00:00, 47.33it/s]\n"
     ]
    },
    {
     "name": "stdout",
     "output_type": "stream",
     "text": [
      "Epoch: 586, loss: 0.06111422042213096, f1: 0.20686210059438165, precision: 0.1195576265281891, recall: 0.7668069592527761\n",
      "val_loss: 0.06806014111658576, val_f1: 0.1905871495083118, val_precision: 0.10873992711416694, val_recall: 0.7706340051025425\n"
     ]
    },
    {
     "name": "stderr",
     "output_type": "stream",
     "text": [
      "100%|█████████████████████████████████████████| 655/655 [00:13<00:00, 47.35it/s]\n"
     ]
    },
    {
     "name": "stdout",
     "output_type": "stream",
     "text": [
      "Epoch: 587, loss: 0.06114725274751887, f1: 0.20638089574781, precision: 0.11958749820940368, recall: 0.7525919142683953\n",
      "val_loss: 0.06722531357455418, val_f1: 0.20145283632369115, val_precision: 0.11667656572535634, val_recall: 0.7368215561733333\n"
     ]
    },
    {
     "name": "stderr",
     "output_type": "stream",
     "text": [
      "100%|█████████████████████████████████████████| 655/655 [00:13<00:00, 47.38it/s]\n"
     ]
    },
    {
     "name": "stdout",
     "output_type": "stream",
     "text": [
      "Epoch: 588, loss: 0.06145400040505724, f1: 0.2064323043621953, precision: 0.11939534917971446, recall: 0.7616897508388257\n",
      "val_loss: 0.06692314294055787, val_f1: 0.2031287791912493, val_precision: 0.11734657036354167, val_recall: 0.7551702116060695\n"
     ]
    },
    {
     "name": "stderr",
     "output_type": "stream",
     "text": [
      "100%|█████████████████████████████████████████| 655/655 [00:13<00:00, 47.36it/s]\n"
     ]
    },
    {
     "name": "stdout",
     "output_type": "stream",
     "text": [
      "Epoch: 589, loss: 0.06081037718895112, f1: 0.20810876359275265, precision: 0.12046483322579897, recall: 0.7638360104488052\n",
      "val_loss: 0.06782401505208344, val_f1: 0.19882869124572364, val_precision: 0.11544130212593175, val_recall: 0.7160761624643015\n"
     ]
    },
    {
     "name": "stderr",
     "output_type": "stream",
     "text": [
      "100%|█████████████████████████████████████████| 655/655 [00:13<00:00, 47.28it/s]\n"
     ]
    },
    {
     "name": "stdout",
     "output_type": "stream",
     "text": [
      "Epoch: 590, loss: 0.06088928128557123, f1: 0.20890214094697554, precision: 0.12114016049690829, recall: 0.7581731192938244\n",
      "val_loss: 0.06643290978369362, val_f1: 0.20585219053589607, val_precision: 0.11946236454975714, val_recall: 0.7435652204883207\n"
     ]
    },
    {
     "name": "stderr",
     "output_type": "stream",
     "text": [
      "100%|█████████████████████████████████████████| 655/655 [00:13<00:00, 47.34it/s]\n"
     ]
    },
    {
     "name": "stdout",
     "output_type": "stream",
     "text": [
      "Epoch: 591, loss: 0.061287028803172036, f1: 0.20761705419888787, precision: 0.12021897959501575, recall: 0.760475995681668\n",
      "val_loss: 0.06705775960357091, val_f1: 0.20185387482788442, val_precision: 0.1165039514900621, val_recall: 0.7548550038572845\n"
     ]
    },
    {
     "name": "stderr",
     "output_type": "stream",
     "text": [
      "100%|█████████████████████████████████████████| 655/655 [00:13<00:00, 47.37it/s]\n"
     ]
    },
    {
     "name": "stdout",
     "output_type": "stream",
     "text": [
      "Epoch: 592, loss: 0.06140392610090383, f1: 0.20618909770227645, precision: 0.11922356227078681, recall: 0.762061450687301\n",
      "val_loss: 0.0663478241020113, val_f1: 0.2002763840866344, val_precision: 0.1155476232375437, val_recall: 0.7508862553113097\n"
     ]
    },
    {
     "name": "stderr",
     "output_type": "stream",
     "text": [
      "100%|█████████████████████████████████████████| 655/655 [00:13<00:00, 47.29it/s]\n"
     ]
    },
    {
     "name": "stdout",
     "output_type": "stream",
     "text": [
      "Epoch: 593, loss: 0.061383208871342756, f1: 0.20421988315305517, precision: 0.11795140106572222, recall: 0.7602841568925909\n",
      "val_loss: 0.0673055111456218, val_f1: 0.20727766589417873, val_precision: 0.12003422594723215, val_recall: 0.7587623603026802\n"
     ]
    },
    {
     "name": "stderr",
     "output_type": "stream",
     "text": [
      "100%|█████████████████████████████████████████| 655/655 [00:13<00:00, 47.31it/s]\n"
     ]
    },
    {
     "name": "stdout",
     "output_type": "stream",
     "text": [
      "Epoch: 594, loss: 0.0611290518578341, f1: 0.20970833902650624, precision: 0.12141498882494127, recall: 0.7687341779470444\n",
      "val_loss: 0.0677355170215762, val_f1: 0.20282557210599983, val_precision: 0.11633809188961847, val_recall: 0.790480955751664\n"
     ]
    },
    {
     "name": "stderr",
     "output_type": "stream",
     "text": [
      "100%|█████████████████████████████████████████| 655/655 [00:13<00:00, 47.29it/s]\n"
     ]
    },
    {
     "name": "stdout",
     "output_type": "stream",
     "text": [
      "Epoch: 595, loss: 0.06071221035770196, f1: 0.21015375763981528, precision: 0.12163691948743835, recall: 0.7718113805160267\n",
      "val_loss: 0.06733115160957388, val_f1: 0.1979100736784466, val_precision: 0.11424854200401711, val_recall: 0.7392333255858596\n"
     ]
    },
    {
     "name": "stderr",
     "output_type": "stream",
     "text": [
      "100%|█████████████████████████████████████████| 655/655 [00:13<00:00, 47.27it/s]\n"
     ]
    },
    {
     "name": "stdout",
     "output_type": "stream",
     "text": [
      "Epoch: 596, loss: 0.06128533784840398, f1: 0.20911740248841482, precision: 0.1211547710051234, recall: 0.7633003288325463\n",
      "val_loss: 0.06711290353789516, val_f1: 0.20405831179410694, val_precision: 0.11772876124350576, val_recall: 0.7650998779529825\n"
     ]
    },
    {
     "name": "stderr",
     "output_type": "stream",
     "text": [
      "100%|█████████████████████████████████████████| 655/655 [00:13<00:00, 47.33it/s]\n"
     ]
    },
    {
     "name": "stdout",
     "output_type": "stream",
     "text": [
      "Epoch: 597, loss: 0.06119549402619182, f1: 0.2079220524066067, precision: 0.12043555894127216, recall: 0.7599975366856305\n",
      "val_loss: 0.06758610964880897, val_f1: 0.20036916096737534, val_precision: 0.11572193784143674, val_recall: 0.7461728226017514\n"
     ]
    },
    {
     "name": "stderr",
     "output_type": "stream",
     "text": [
      "100%|█████████████████████████████████████████| 655/655 [00:13<00:00, 47.42it/s]\n"
     ]
    },
    {
     "name": "stdout",
     "output_type": "stream",
     "text": [
      "Epoch: 598, loss: 0.06126462730742593, f1: 0.20541543468856277, precision: 0.118686905545929, recall: 0.7628711166955132\n",
      "val_loss: 0.06733055446946293, val_f1: 0.2019115962065184, val_precision: 0.11655625736836446, val_recall: 0.7542745881124374\n"
     ]
    },
    {
     "name": "stderr",
     "output_type": "stream",
     "text": [
      "100%|█████████████████████████████████████████| 655/655 [00:13<00:00, 47.40it/s]\n"
     ]
    },
    {
     "name": "stdout",
     "output_type": "stream",
     "text": [
      "Epoch: 599, loss: 0.06124501204018602, f1: 0.20530119974712058, precision: 0.11877972485483375, recall: 0.7559498747341505\n",
      "val_loss: 0.06819875649424322, val_f1: 0.19022427262130556, val_precision: 0.10984644705190434, val_recall: 0.7090749223844721\n"
     ]
    },
    {
     "name": "stderr",
     "output_type": "stream",
     "text": [
      "100%|█████████████████████████████████████████| 655/655 [00:13<00:00, 47.40it/s]\n"
     ]
    },
    {
     "name": "stdout",
     "output_type": "stream",
     "text": [
      "Epoch: 600, loss: 0.06097934850072133, f1: 0.20433867323656837, precision: 0.11836347837527175, recall: 0.7467588123474412\n",
      "val_loss: 0.0673488293808603, val_f1: 0.20399322511182846, val_precision: 0.11860865174681631, val_recall: 0.7282477821642106\n"
     ]
    },
    {
     "name": "stderr",
     "output_type": "stream",
     "text": [
      "100%|█████████████████████████████████████████| 655/655 [00:13<00:00, 47.20it/s]\n"
     ]
    },
    {
     "name": "stdout",
     "output_type": "stream",
     "text": [
      "Epoch: 601, loss: 0.06113828655806875, f1: 0.20751362188058306, precision: 0.12001640850692305, recall: 0.765856581391724\n",
      "val_loss: 0.06709713305115973, val_f1: 0.20488814123090324, val_precision: 0.11860002294063159, val_recall: 0.752036703289102\n"
     ]
    },
    {
     "name": "stderr",
     "output_type": "stream",
     "text": [
      "100%|█████████████████████████████████████████| 655/655 [00:13<00:00, 47.32it/s]\n"
     ]
    },
    {
     "name": "stdout",
     "output_type": "stream",
     "text": [
      "Epoch: 602, loss: 0.0607069035942261, f1: 0.21009115573577103, precision: 0.12164617843271894, recall: 0.7697548687458038\n",
      "val_loss: 0.06825579068871267, val_f1: 0.19535598063662407, val_precision: 0.11278639769036357, val_recall: 0.7291800115223325\n"
     ]
    },
    {
     "name": "stderr",
     "output_type": "stream",
     "text": [
      "100%|█████████████████████████████████████████| 655/655 [00:13<00:00, 47.41it/s]\n"
     ]
    },
    {
     "name": "stdout",
     "output_type": "stream",
     "text": [
      "Epoch: 603, loss: 0.061412550887192476, f1: 0.2062561710412787, precision: 0.11931967061539074, recall: 0.7599755751836391\n",
      "val_loss: 0.0670845185859351, val_f1: 0.2030156142820707, val_precision: 0.11736389792122699, val_recall: 0.7513423125951662\n"
     ]
    },
    {
     "name": "stderr",
     "output_type": "stream",
     "text": [
      "100%|█████████████████████████████████████████| 655/655 [00:13<00:00, 47.36it/s]\n"
     ]
    },
    {
     "name": "stdout",
     "output_type": "stream",
     "text": [
      "Epoch: 604, loss: 0.061088079097503016, f1: 0.2068934897376054, precision: 0.1194936626349071, recall: 0.7703180518655377\n",
      "val_loss: 0.06801829591752329, val_f1: 0.20036122002022405, val_precision: 0.11588109391015194, val_recall: 0.7394064253349917\n"
     ]
    },
    {
     "name": "stderr",
     "output_type": "stream",
     "text": [
      "100%|█████████████████████████████████████████| 655/655 [00:13<00:00, 47.33it/s]\n"
     ]
    },
    {
     "name": "stdout",
     "output_type": "stream",
     "text": [
      "Epoch: 605, loss: 0.061212209367570075, f1: 0.207228487052904, precision: 0.11991774981542853, recall: 0.7621174680026432\n",
      "val_loss: 0.06743158112544942, val_f1: 0.20560677999295868, val_precision: 0.1190063235341409, val_recall: 0.7550641037865516\n"
     ]
    },
    {
     "name": "stderr",
     "output_type": "stream",
     "text": [
      "100%|█████████████████████████████████████████| 655/655 [00:13<00:00, 47.31it/s]\n"
     ]
    },
    {
     "name": "stdout",
     "output_type": "stream",
     "text": [
      "Epoch: 606, loss: 0.061394305080744144, f1: 0.2045919432604688, precision: 0.11827118386877061, recall: 0.7573399019093459\n",
      "val_loss: 0.06684271593091137, val_f1: 0.20548525926050806, val_precision: 0.11968899326860358, val_recall: 0.7256519551124048\n"
     ]
    },
    {
     "name": "stderr",
     "output_type": "stream",
     "text": [
      "100%|█████████████████████████████████████████| 655/655 [00:13<00:00, 47.38it/s]\n"
     ]
    },
    {
     "name": "stdout",
     "output_type": "stream",
     "text": [
      "Epoch: 607, loss: 0.061560908326779615, f1: 0.20314916859609178, precision: 0.1171411701563376, recall: 0.7643657877927518\n",
      "val_loss: 0.06811735694778104, val_f1: 0.2020788828671661, val_precision: 0.11598153255555198, val_recall: 0.784275050283572\n"
     ]
    },
    {
     "name": "stderr",
     "output_type": "stream",
     "text": [
      "100%|█████████████████████████████████████████| 655/655 [00:13<00:00, 47.39it/s]\n"
     ]
    },
    {
     "name": "stdout",
     "output_type": "stream",
     "text": [
      "Epoch: 608, loss: 0.06140992880038178, f1: 0.20363539804649095, precision: 0.11776414482093608, recall: 0.7519214253275449\n",
      "val_loss: 0.0666423161180878, val_f1: 0.20252631362775148, val_precision: 0.11630426260958844, val_recall: 0.7830100354798343\n"
     ]
    },
    {
     "name": "stderr",
     "output_type": "stream",
     "text": [
      "100%|█████████████████████████████████████████| 655/655 [00:13<00:00, 47.37it/s]\n"
     ]
    },
    {
     "name": "stdout",
     "output_type": "stream",
     "text": [
      "Epoch: 609, loss: 0.06129999984596067, f1: 0.205758893676998, precision: 0.11873668660303109, recall: 0.7703462152649428\n",
      "val_loss: 0.06831119573512755, val_f1: 0.1968927703108921, val_precision: 0.11420235186900704, val_recall: 0.7135588010653443\n"
     ]
    },
    {
     "name": "stderr",
     "output_type": "stream",
     "text": [
      "100%|█████████████████████████████████████████| 655/655 [00:13<00:00, 47.39it/s]\n"
     ]
    },
    {
     "name": "stdout",
     "output_type": "stream",
     "text": [
      "Epoch: 610, loss: 0.0614460039627916, f1: 0.20952264413839014, precision: 0.12143904446386057, recall: 0.7628208785225417\n",
      "val_loss: 0.06833080656040426, val_f1: 0.20458343991731956, val_precision: 0.11793862514778836, val_recall: 0.771024344437713\n"
     ]
    },
    {
     "name": "stderr",
     "output_type": "stream",
     "text": [
      "100%|█████████████████████████████████████████| 655/655 [00:13<00:00, 47.32it/s]\n"
     ]
    },
    {
     "name": "stdout",
     "output_type": "stream",
     "text": [
      "Epoch: 611, loss: 0.0615804891080688, f1: 0.2106169385328873, precision: 0.12198565244845307, recall: 0.7702812994026956\n",
      "val_loss: 0.06787277045531558, val_f1: 0.19800517209323884, val_precision: 0.11389380680619303, val_recall: 0.7572100092101535\n"
     ]
    },
    {
     "name": "stderr",
     "output_type": "stream",
     "text": [
      "100%|█████████████████████████████████████████| 655/655 [00:13<00:00, 47.34it/s]\n"
     ]
    },
    {
     "name": "stdout",
     "output_type": "stream",
     "text": [
      "Epoch: 612, loss: 0.061437826474261194, f1: 0.20491264627035813, precision: 0.11851838328040255, recall: 0.7560025093323401\n",
      "val_loss: 0.06766559691125647, val_f1: 0.19902611622624136, val_precision: 0.11465493569987903, val_recall: 0.7535170730237567\n"
     ]
    },
    {
     "name": "stderr",
     "output_type": "stream",
     "text": [
      "100%|█████████████████████████████████████████| 655/655 [00:13<00:00, 47.37it/s]\n"
     ]
    },
    {
     "name": "stdout",
     "output_type": "stream",
     "text": [
      "Epoch: 613, loss: 0.06160185111523073, f1: 0.20668520792130254, precision: 0.11960167838829278, recall: 0.7601877301021387\n",
      "val_loss: 0.06771077143472679, val_f1: 0.20615013443443359, val_precision: 0.11923201526130695, val_recall: 0.7606540513694833\n"
     ]
    },
    {
     "name": "stderr",
     "output_type": "stream",
     "text": [
      "100%|█████████████████████████████████████████| 655/655 [00:13<00:00, 47.35it/s]\n"
     ]
    },
    {
     "name": "stdout",
     "output_type": "stream",
     "text": [
      "Epoch: 614, loss: 0.06127333580694779, f1: 0.20938734411480334, precision: 0.12121741602211508, recall: 0.7680279014106015\n",
      "val_loss: 0.06770668004494194, val_f1: 0.201165466923885, val_precision: 0.11574928644070522, val_recall: 0.7676351800424244\n"
     ]
    },
    {
     "name": "stderr",
     "output_type": "stream",
     "text": [
      "100%|█████████████████████████████████████████| 655/655 [00:13<00:00, 47.24it/s]\n"
     ]
    },
    {
     "name": "stdout",
     "output_type": "stream",
     "text": [
      "Epoch: 615, loss: 0.06127974738772134, f1: 0.2058071635391503, precision: 0.11909222559761683, recall: 0.7570131695452538\n",
      "val_loss: 0.06880149497317338, val_f1: 0.19571758742605505, val_precision: 0.11302786444339456, val_recall: 0.729165989598003\n"
     ]
    },
    {
     "name": "stderr",
     "output_type": "stream",
     "text": [
      "100%|█████████████████████████████████████████| 655/655 [00:13<00:00, 47.35it/s]\n"
     ]
    },
    {
     "name": "stdout",
     "output_type": "stream",
     "text": [
      "Epoch: 616, loss: 0.06159995123744011, f1: 0.20526876910313518, precision: 0.11840114453736379, recall: 0.7707372098478652\n",
      "val_loss: 0.06852111751811767, val_f1: 0.1949029063674289, val_precision: 0.11133338431101464, val_recall: 0.7815627371636006\n"
     ]
    },
    {
     "name": "stderr",
     "output_type": "stream",
     "text": [
      "100%|█████████████████████████████████████████| 655/655 [00:13<00:00, 47.34it/s]\n"
     ]
    },
    {
     "name": "stdout",
     "output_type": "stream",
     "text": [
      "Epoch: 617, loss: 0.06124002283567008, f1: 0.20527085721594057, precision: 0.1190136923412046, recall: 0.7458068524608176\n",
      "val_loss: 0.06715677318872389, val_f1: 0.19808892642463918, val_precision: 0.11466050259512636, val_recall: 0.7272322804009149\n"
     ]
    },
    {
     "name": "stderr",
     "output_type": "stream",
     "text": [
      "100%|█████████████████████████████████████████| 655/655 [00:13<00:00, 47.32it/s]\n"
     ]
    },
    {
     "name": "stdout",
     "output_type": "stream",
     "text": [
      "Epoch: 618, loss: 0.06186363227125115, f1: 0.20492256891667368, precision: 0.11874029015987145, recall: 0.7473603038046196\n",
      "val_loss: 0.0677710880414335, val_f1: 0.19994014416804956, val_precision: 0.11535451602865729, val_recall: 0.7495883064805915\n"
     ]
    },
    {
     "name": "stderr",
     "output_type": "stream",
     "text": [
      "100%|█████████████████████████████████████████| 655/655 [00:13<00:00, 47.33it/s]\n"
     ]
    },
    {
     "name": "stdout",
     "output_type": "stream",
     "text": [
      "Epoch: 619, loss: 0.06125605087016375, f1: 0.20650971325139464, precision: 0.11937645468149931, recall: 0.7645767293017329\n",
      "val_loss: 0.06800520465786167, val_f1: 0.19289028167660532, val_precision: 0.10963493570206909, val_recall: 0.8016619609173284\n"
     ]
    },
    {
     "name": "stderr",
     "output_type": "stream",
     "text": [
      "100%|█████████████████████████████████████████| 655/655 [00:13<00:00, 47.20it/s]\n"
     ]
    },
    {
     "name": "stdout",
     "output_type": "stream",
     "text": [
      "Epoch: 620, loss: 0.06105573308615775, f1: 0.20903461641785356, precision: 0.1211553723551333, recall: 0.7610761253433374\n",
      "val_loss: 0.06777649482182406, val_f1: 0.19958197966098762, val_precision: 0.11545496782792065, val_recall: 0.7355325398368573\n"
     ]
    },
    {
     "name": "stderr",
     "output_type": "stream",
     "text": [
      "100%|█████████████████████████████████████████| 655/655 [00:13<00:00, 47.36it/s]\n"
     ]
    },
    {
     "name": "stdout",
     "output_type": "stream",
     "text": [
      "Epoch: 621, loss: 0.06109569223138313, f1: 0.20957775789617633, precision: 0.12148863572186527, recall: 0.7623259496939091\n",
      "val_loss: 0.06743812743881973, val_f1: 0.1982941469184412, val_precision: 0.11427220436445343, val_recall: 0.7490682038692159\n"
     ]
    },
    {
     "name": "stderr",
     "output_type": "stream",
     "text": [
      "100%|█████████████████████████████████████████| 655/655 [00:13<00:00, 47.37it/s]\n"
     ]
    },
    {
     "name": "stdout",
     "output_type": "stream",
     "text": [
      "Epoch: 622, loss: 0.06081626464733641, f1: 0.20869951600068593, precision: 0.12079047752359441, recall: 0.7666609165436439\n",
      "val_loss: 0.06701861711543634, val_f1: 0.2011687278172346, val_precision: 0.11609676660790424, val_recall: 0.7527859898608759\n"
     ]
    },
    {
     "name": "stderr",
     "output_type": "stream",
     "text": [
      "100%|█████████████████████████████████████████| 655/655 [00:13<00:00, 47.36it/s]\n"
     ]
    },
    {
     "name": "stdout",
     "output_type": "stream",
     "text": [
      "Epoch: 623, loss: 0.06128150811632171, f1: 0.20798092728453074, precision: 0.12042969165739553, recall: 0.7618082467267532\n",
      "val_loss: 0.06725332000796948, val_f1: 0.2052959560360406, val_precision: 0.1185424373732931, val_recall: 0.7655586914731822\n"
     ]
    },
    {
     "name": "stderr",
     "output_type": "stream",
     "text": [
      "100%|█████████████████████████████████████████| 655/655 [00:13<00:00, 47.36it/s]\n"
     ]
    },
    {
     "name": "stdout",
     "output_type": "stream",
     "text": [
      "Epoch: 624, loss: 0.06130113476115983, f1: 0.2073288393346478, precision: 0.11988250895026531, recall: 0.7662771182092092\n",
      "val_loss: 0.06780208636143613, val_f1: 0.20094785404805954, val_precision: 0.11627120635292809, val_recall: 0.7395086494881079\n"
     ]
    },
    {
     "name": "stderr",
     "output_type": "stream",
     "text": [
      "100%|█████████████████████████████████████████| 655/655 [00:13<00:00, 47.29it/s]\n"
     ]
    },
    {
     "name": "stdout",
     "output_type": "stream",
     "text": [
      "Epoch: 625, loss: 0.06141807742257857, f1: 0.2078066806296036, precision: 0.12011003102822841, recall: 0.7700420554585129\n",
      "val_loss: 0.06772440381843699, val_f1: 0.20315033104269814, val_precision: 0.1171669972368405, val_recall: 0.7633007689626938\n"
     ]
    },
    {
     "name": "stderr",
     "output_type": "stream",
     "text": [
      "100%|█████████████████████████████████████████| 655/655 [00:13<00:00, 47.34it/s]\n"
     ]
    },
    {
     "name": "stdout",
     "output_type": "stream",
     "text": [
      "Epoch: 626, loss: 0.06116702876387889, f1: 0.2068255676904804, precision: 0.1198375578329877, recall: 0.75451482461609\n",
      "val_loss: 0.06820957236197017, val_f1: 0.19755738572428916, val_precision: 0.11508309883877225, val_recall: 0.6972200085127026\n"
     ]
    },
    {
     "name": "stderr",
     "output_type": "stream",
     "text": [
      "100%|█████████████████████████████████████████| 655/655 [00:13<00:00, 47.47it/s]\n"
     ]
    },
    {
     "name": "stdout",
     "output_type": "stream",
     "text": [
      "Epoch: 627, loss: 0.06127735428824907, f1: 0.20818251462498125, precision: 0.12083471454679966, recall: 0.7512090954787404\n",
      "val_loss: 0.0672252388722306, val_f1: 0.1983800044869193, val_precision: 0.11402135773843855, val_recall: 0.7625586706290551\n"
     ]
    },
    {
     "name": "stderr",
     "output_type": "stream",
     "text": [
      "100%|█████████████████████████████████████████| 655/655 [00:13<00:00, 47.33it/s]\n"
     ]
    },
    {
     "name": "stdout",
     "output_type": "stream",
     "text": [
      "Epoch: 628, loss: 0.06128918530547437, f1: 0.20878387389735284, precision: 0.12102473582148211, recall: 0.7595839213665205\n",
      "val_loss: 0.06733499483179746, val_f1: 0.20200111540968563, val_precision: 0.11615699076802906, val_recall: 0.7740555314022467\n"
     ]
    },
    {
     "name": "stderr",
     "output_type": "stream",
     "text": [
      "100%|█████████████████████████████████████████| 655/655 [00:13<00:00, 47.31it/s]\n"
     ]
    },
    {
     "name": "stdout",
     "output_type": "stream",
     "text": [
      "Epoch: 629, loss: 0.061504301440880725, f1: 0.20765577024920231, precision: 0.1200106749083591, recall: 0.7699818594082621\n",
      "val_loss: 0.06744832840295287, val_f1: 0.20081215892194773, val_precision: 0.11468114523182905, val_recall: 0.8066291508324649\n"
     ]
    },
    {
     "name": "stderr",
     "output_type": "stream",
     "text": [
      "100%|█████████████████████████████████████████| 655/655 [00:13<00:00, 47.32it/s]\n"
     ]
    },
    {
     "name": "stdout",
     "output_type": "stream",
     "text": [
      "Epoch: 630, loss: 0.06143487504192891, f1: 0.20454760284107862, precision: 0.11788116000621146, recall: 0.7724660315529536\n",
      "val_loss: 0.06794178907008128, val_f1: 0.1983003972785504, val_precision: 0.11439364617092347, val_recall: 0.7440674242076524\n"
     ]
    },
    {
     "name": "stderr",
     "output_type": "stream",
     "text": [
      "100%|█████████████████████████████████████████| 655/655 [00:13<00:00, 47.38it/s]\n"
     ]
    },
    {
     "name": "stdout",
     "output_type": "stream",
     "text": [
      "Epoch: 631, loss: 0.061493875011406816, f1: 0.20710295071209178, precision: 0.11970860858071056, recall: 0.7672154991226342\n",
      "val_loss: 0.06827775325728666, val_f1: 0.18988330716985174, val_precision: 0.10801556177967049, val_recall: 0.7844001881846594\n"
     ]
    },
    {
     "name": "stderr",
     "output_type": "stream",
     "text": [
      "100%|█████████████████████████████████████████| 655/655 [00:13<00:00, 47.33it/s]\n"
     ]
    },
    {
     "name": "stdout",
     "output_type": "stream",
     "text": [
      "Epoch: 632, loss: 0.06124346354791454, f1: 0.20556883762858924, precision: 0.11967023787824509, recall: 0.7284358433014109\n",
      "val_loss: 0.0677572139239776, val_f1: 0.19866174482470803, val_precision: 0.11498993074248007, val_recall: 0.729421265218236\n"
     ]
    },
    {
     "name": "stderr",
     "output_type": "stream",
     "text": [
      "100%|█████████████████████████████████████████| 655/655 [00:13<00:00, 47.37it/s]\n"
     ]
    },
    {
     "name": "stdout",
     "output_type": "stream",
     "text": [
      "Epoch: 633, loss: 0.061497949419155686, f1: 0.20508339829169417, precision: 0.11832694442061181, recall: 0.7686574218154864\n",
      "val_loss: 0.06820589908048375, val_f1: 0.197051331680587, val_precision: 0.11367339072236364, val_recall: 0.7393682283272437\n"
     ]
    },
    {
     "name": "stderr",
     "output_type": "stream",
     "text": [
      "100%|█████████████████████████████████████████| 655/655 [00:13<00:00, 47.26it/s]\n"
     ]
    },
    {
     "name": "stdout",
     "output_type": "stream",
     "text": [
      "Epoch: 634, loss: 0.06120685231607525, f1: 0.2065184220488072, precision: 0.11957618779812065, recall: 0.7567175574600696\n",
      "val_loss: 0.06815447053367939, val_f1: 0.19999318190405863, val_precision: 0.1156149709494699, val_recall: 0.7402242076232892\n"
     ]
    },
    {
     "name": "stderr",
     "output_type": "stream",
     "text": [
      "100%|█████████████████████████████████████████| 655/655 [00:13<00:00, 47.38it/s]\n"
     ]
    },
    {
     "name": "stdout",
     "output_type": "stream",
     "text": [
      "Epoch: 635, loss: 0.06112328827139417, f1: 0.20939386242605595, precision: 0.1211715213876246, recall: 0.7700517163249373\n",
      "val_loss: 0.06891173027763399, val_f1: 0.18748127742200613, val_precision: 0.10625130098757393, val_recall: 0.7961261041394068\n"
     ]
    },
    {
     "name": "stderr",
     "output_type": "stream",
     "text": [
      "100%|█████████████████████████████████████████| 655/655 [00:13<00:00, 47.32it/s]\n"
     ]
    },
    {
     "name": "stdout",
     "output_type": "stream",
     "text": [
      "Epoch: 636, loss: 0.06089423758951762, f1: 0.20516936067520652, precision: 0.11879086669406477, recall: 0.751942672927416\n",
      "val_loss: 0.06845250093472113, val_f1: 0.19834066806373146, val_precision: 0.11418912578972244, val_recall: 0.7540003170660876\n"
     ]
    },
    {
     "name": "stderr",
     "output_type": "stream",
     "text": [
      "100%|█████████████████████████████████████████| 655/655 [00:13<00:00, 47.26it/s]\n"
     ]
    },
    {
     "name": "stdout",
     "output_type": "stream",
     "text": [
      "Epoch: 637, loss: 0.06166969632431296, f1: 0.20646870049487567, precision: 0.11928511805306295, recall: 0.7672107531255438\n",
      "val_loss: 0.06737615618376283, val_f1: 0.20283589349502926, val_precision: 0.11650180782900628, val_recall: 0.7833123149674966\n"
     ]
    },
    {
     "name": "stderr",
     "output_type": "stream",
     "text": [
      "100%|█████████████████████████████████████████| 655/655 [00:13<00:00, 47.24it/s]\n"
     ]
    },
    {
     "name": "stdout",
     "output_type": "stream",
     "text": [
      "Epoch: 638, loss: 0.06088148327046678, f1: 0.20830578115481918, precision: 0.12046210658914261, recall: 0.7692875364013301\n",
      "val_loss: 0.06794442954994397, val_f1: 0.1958923267743411, val_precision: 0.11240937897867155, val_recall: 0.7612461647992834\n"
     ]
    },
    {
     "name": "stderr",
     "output_type": "stream",
     "text": [
      "100%|█████████████████████████████████████████| 655/655 [00:13<00:00, 47.39it/s]\n"
     ]
    },
    {
     "name": "stdout",
     "output_type": "stream",
     "text": [
      "Epoch: 639, loss: 0.061430629934290895, f1: 0.20558690209042785, precision: 0.11886938349699303, recall: 0.7600799636303923\n",
      "val_loss: 0.0676964157423295, val_f1: 0.19890059259618334, val_precision: 0.11479567477283059, val_recall: 0.7439675657847605\n"
     ]
    },
    {
     "name": "stderr",
     "output_type": "stream",
     "text": [
      "100%|█████████████████████████████████████████| 655/655 [00:13<00:00, 47.36it/s]\n"
     ]
    },
    {
     "name": "stdout",
     "output_type": "stream",
     "text": [
      "Epoch: 640, loss: 0.06087809983669346, f1: 0.20728717372224195, precision: 0.11982022350732209, recall: 0.7676872525733845\n",
      "val_loss: 0.06732568102931484, val_f1: 0.20099014776223925, val_precision: 0.11663340286719143, val_recall: 0.7262884805645418\n"
     ]
    },
    {
     "name": "stderr",
     "output_type": "stream",
     "text": [
      "100%|█████████████████████████████████████████| 655/655 [00:13<00:00, 47.32it/s]\n"
     ]
    },
    {
     "name": "stdout",
     "output_type": "stream",
     "text": [
      "Epoch: 641, loss: 0.060999267930804776, f1: 0.2081346280549636, precision: 0.12052984674468295, recall: 0.7619251318332804\n",
      "val_loss: 0.06809946280314562, val_f1: 0.1988986760862758, val_precision: 0.11504191201641609, val_recall: 0.7337365862016284\n"
     ]
    },
    {
     "name": "stderr",
     "output_type": "stream",
     "text": [
      "100%|█████████████████████████████████████████| 655/655 [00:13<00:00, 47.37it/s]\n"
     ]
    },
    {
     "name": "stdout",
     "output_type": "stream",
     "text": [
      "Epoch: 642, loss: 0.06160040164494333, f1: 0.20613602005438347, precision: 0.11951166363504097, recall: 0.749093214905899\n",
      "val_loss: 0.06677157535226247, val_f1: 0.20324252795842424, val_precision: 0.11815687341384863, val_recall: 0.7261450430121991\n"
     ]
    },
    {
     "name": "stderr",
     "output_type": "stream",
     "text": [
      "100%|█████████████████████████████████████████| 655/655 [00:13<00:00, 47.28it/s]\n"
     ]
    },
    {
     "name": "stdout",
     "output_type": "stream",
     "text": [
      "Epoch: 643, loss: 0.06120028689313252, f1: 0.20639644384148975, precision: 0.11944009491690356, recall: 0.7589029556126085\n",
      "val_loss: 0.06784346333166602, val_f1: 0.1970802829941927, val_precision: 0.1132692092038486, val_recall: 0.7577916080251746\n"
     ]
    },
    {
     "name": "stderr",
     "output_type": "stream",
     "text": [
      "100%|█████████████████████████████████████████| 655/655 [00:13<00:00, 47.35it/s]\n"
     ]
    },
    {
     "name": "stdout",
     "output_type": "stream",
     "text": [
      "Epoch: 644, loss: 0.06113795168441898, f1: 0.20742334848967628, precision: 0.12000975862984326, recall: 0.7636733679371026\n",
      "val_loss: 0.06771847405769957, val_f1: 0.19740293209696547, val_precision: 0.11451372127860375, val_recall: 0.7148045619283248\n"
     ]
    },
    {
     "name": "stderr",
     "output_type": "stream",
     "text": [
      "100%|█████████████████████████████████████████| 655/655 [00:13<00:00, 47.39it/s]\n"
     ]
    },
    {
     "name": "stdout",
     "output_type": "stream",
     "text": [
      "Epoch: 645, loss: 0.06172001449433902, f1: 0.2047623993412014, precision: 0.11851268295475943, recall: 0.7521608796510988\n",
      "val_loss: 0.0672000308239132, val_f1: 0.20886387871684897, val_precision: 0.12088417924872231, val_recall: 0.7673222224373336\n"
     ]
    },
    {
     "name": "stderr",
     "output_type": "stream",
     "text": [
      "100%|█████████████████████████████████████████| 655/655 [00:13<00:00, 47.35it/s]\n"
     ]
    },
    {
     "name": "stdout",
     "output_type": "stream",
     "text": [
      "Epoch: 646, loss: 0.060771960091158636, f1: 0.21260184882245328, precision: 0.1234897859142169, recall: 0.7636967925852491\n",
      "val_loss: 0.06701404620560074, val_f1: 0.2008001148188616, val_precision: 0.11622750093955375, val_recall: 0.7372793808852861\n"
     ]
    },
    {
     "name": "stderr",
     "output_type": "stream",
     "text": [
      "100%|█████████████████████████████████████████| 655/655 [00:13<00:00, 47.37it/s]\n"
     ]
    },
    {
     "name": "stdout",
     "output_type": "stream",
     "text": [
      "Epoch: 647, loss: 0.061042994198225835, f1: 0.2088984401755134, precision: 0.12115396602072163, recall: 0.7575354520316797\n",
      "val_loss: 0.06707339865420389, val_f1: 0.19840799416159985, val_precision: 0.11415441781965964, val_recall: 0.7574753065448289\n"
     ]
    },
    {
     "name": "stderr",
     "output_type": "stream",
     "text": [
      "100%|█████████████████████████████████████████| 655/655 [00:13<00:00, 47.29it/s]\n"
     ]
    },
    {
     "name": "stdout",
     "output_type": "stream",
     "text": [
      "Epoch: 648, loss: 0.061359567671502364, f1: 0.2065686888690409, precision: 0.11946623650315495, recall: 0.7625184908509255\n",
      "val_loss: 0.06712269350681282, val_f1: 0.19875936318369009, val_precision: 0.11401126437623976, val_recall: 0.7743798684362971\n"
     ]
    },
    {
     "name": "stderr",
     "output_type": "stream",
     "text": [
      "100%|█████████████████████████████████████████| 655/655 [00:13<00:00, 47.32it/s]\n"
     ]
    },
    {
     "name": "stdout",
     "output_type": "stream",
     "text": [
      "Epoch: 649, loss: 0.0612574553458404, f1: 0.20639497462656256, precision: 0.11907864360792833, recall: 0.7737860257161483\n",
      "val_loss: 0.06731763095893992, val_f1: 0.19823867065317535, val_precision: 0.11341685425797733, val_recall: 0.7862765045341001\n"
     ]
    },
    {
     "name": "stderr",
     "output_type": "stream",
     "text": [
      "100%|█████████████████████████████████████████| 655/655 [00:13<00:00, 47.32it/s]\n"
     ]
    },
    {
     "name": "stdout",
     "output_type": "stream",
     "text": [
      "Epoch: 650, loss: 0.06136632652967486, f1: 0.20605835694516786, precision: 0.11967036223700199, recall: 0.7409051713711433\n",
      "val_loss: 0.06781238981377367, val_f1: 0.19891953421231479, val_precision: 0.11506261205334865, val_recall: 0.7334624317671181\n"
     ]
    },
    {
     "name": "stderr",
     "output_type": "stream",
     "text": [
      "100%|█████████████████████████████████████████| 655/655 [00:13<00:00, 47.37it/s]\n"
     ]
    },
    {
     "name": "stdout",
     "output_type": "stream",
     "text": [
      "Epoch: 651, loss: 0.06061778537824112, f1: 0.20938228059044978, precision: 0.12131403717532299, recall: 0.7640367967936829\n",
      "val_loss: 0.06782810574978454, val_f1: 0.19949118036201702, val_precision: 0.11515514417380573, val_recall: 0.7453958643685787\n"
     ]
    },
    {
     "name": "stderr",
     "output_type": "stream",
     "text": [
      "100%|█████████████████████████████████████████| 655/655 [00:13<00:00, 47.40it/s]\n"
     ]
    },
    {
     "name": "stdout",
     "output_type": "stream",
     "text": [
      "Epoch: 652, loss: 0.06147425603263706, f1: 0.20513801510304835, precision: 0.11828033655156729, recall: 0.7721750803462422\n",
      "val_loss: 0.06673638018514585, val_f1: 0.19748414275733261, val_precision: 0.11378049756049974, val_recall: 0.7470809694960576\n"
     ]
    },
    {
     "name": "stderr",
     "output_type": "stream",
     "text": [
      "100%|█████████████████████████████████████████| 655/655 [00:13<00:00, 47.38it/s]\n"
     ]
    },
    {
     "name": "stdout",
     "output_type": "stream",
     "text": [
      "Epoch: 653, loss: 0.06068408031812836, f1: 0.2058192181814748, precision: 0.1193354238009521, recall: 0.7476500880285983\n",
      "val_loss: 0.0670470374918312, val_f1: 0.20499780114157737, val_precision: 0.11828914699529153, val_recall: 0.7678478973994561\n"
     ]
    },
    {
     "name": "stderr",
     "output_type": "stream",
     "text": [
      "100%|█████████████████████████████████████████| 655/655 [00:13<00:00, 47.29it/s]\n"
     ]
    },
    {
     "name": "stdout",
     "output_type": "stream",
     "text": [
      "Epoch: 654, loss: 0.06096153975218816, f1: 0.20715441525705788, precision: 0.11974768746459416, recall: 0.7670230700200751\n",
      "val_loss: 0.06659458792520635, val_f1: 0.20376313017531722, val_precision: 0.11801462380403499, val_recall: 0.7452718537608418\n"
     ]
    },
    {
     "name": "stderr",
     "output_type": "stream",
     "text": [
      "100%|█████████████████████████████████████████| 655/655 [00:13<00:00, 47.40it/s]\n"
     ]
    },
    {
     "name": "stdout",
     "output_type": "stream",
     "text": [
      "Epoch: 655, loss: 0.06111307752155166, f1: 0.2043087554315857, precision: 0.11801410996113398, recall: 0.7601425912032146\n",
      "val_loss: 0.067113544270738, val_f1: 0.20112241179919482, val_precision: 0.11733530233443262, val_recall: 0.7034286194301527\n"
     ]
    },
    {
     "name": "stderr",
     "output_type": "stream",
     "text": [
      "100%|█████████████████████████████████████████| 655/655 [00:13<00:00, 47.35it/s]\n"
     ]
    },
    {
     "name": "stdout",
     "output_type": "stream",
     "text": [
      "Epoch: 656, loss: 0.06153278413534392, f1: 0.2049267064631043, precision: 0.11861068114055363, recall: 0.7526476323035837\n",
      "val_loss: 0.06746179026918947, val_f1: 0.20117032788732514, val_precision: 0.11702744788362072, val_recall: 0.7159117963335929\n"
     ]
    },
    {
     "name": "stderr",
     "output_type": "stream",
     "text": [
      "100%|█████████████████████████████████████████| 655/655 [00:13<00:00, 47.38it/s]\n"
     ]
    },
    {
     "name": "stdout",
     "output_type": "stream",
     "text": [
      "Epoch: 657, loss: 0.06115492788776187, f1: 0.20725113306477524, precision: 0.11958845455043075, recall: 0.7763270242523601\n",
      "val_loss: 0.067776752089005, val_f1: 0.2018648902447192, val_precision: 0.11667620848197865, val_recall: 0.7480050824377515\n"
     ]
    },
    {
     "name": "stderr",
     "output_type": "stream",
     "text": [
      "100%|█████████████████████████████████████████| 655/655 [00:13<00:00, 47.30it/s]\n"
     ]
    },
    {
     "name": "stdout",
     "output_type": "stream",
     "text": [
      "Epoch: 658, loss: 0.06105515366235307, f1: 0.20658294841053157, precision: 0.1193831063323576, recall: 0.7663148741458209\n",
      "val_loss: 0.06752036301709644, val_f1: 0.1999437621666976, val_precision: 0.11492987448315418, val_recall: 0.7681348318353706\n"
     ]
    },
    {
     "name": "stderr",
     "output_type": "stream",
     "text": [
      "100%|█████████████████████████████████████████| 655/655 [00:13<00:00, 47.30it/s]\n"
     ]
    },
    {
     "name": "stdout",
     "output_type": "stream",
     "text": [
      "Epoch: 659, loss: 0.06111714606467078, f1: 0.20919914908228074, precision: 0.12105588900593628, recall: 0.7694550631496743\n",
      "val_loss: 0.06703190685788152, val_f1: 0.20545421419474044, val_precision: 0.11859924593991643, val_recall: 0.7675939304839581\n"
     ]
    },
    {
     "name": "stderr",
     "output_type": "stream",
     "text": [
      "100%|█████████████████████████████████████████| 655/655 [00:13<00:00, 47.38it/s]\n"
     ]
    },
    {
     "name": "stdout",
     "output_type": "stream",
     "text": [
      "Epoch: 660, loss: 0.06083880607607483, f1: 0.2080991520859933, precision: 0.12041555314630498, recall: 0.7655630442818613\n",
      "val_loss: 0.06699285865547734, val_f1: 0.19852990296810666, val_precision: 0.11427400919497696, val_recall: 0.7557705618236044\n"
     ]
    },
    {
     "name": "stderr",
     "output_type": "stream",
     "text": [
      "100%|█████████████████████████████████████████| 655/655 [00:13<00:00, 47.41it/s]\n"
     ]
    },
    {
     "name": "stdout",
     "output_type": "stream",
     "text": [
      "Epoch: 661, loss: 0.06088103660460533, f1: 0.20892740221849462, precision: 0.12085701040888049, recall: 0.7701416706993379\n",
      "val_loss: 0.06691352356601199, val_f1: 0.20286794133904498, val_precision: 0.11677751572665955, val_recall: 0.7719993691788901\n"
     ]
    },
    {
     "name": "stderr",
     "output_type": "stream",
     "text": [
      "100%|█████████████████████████████████████████| 655/655 [00:13<00:00, 47.38it/s]\n"
     ]
    },
    {
     "name": "stdout",
     "output_type": "stream",
     "text": [
      "Epoch: 662, loss: 0.06099562437365983, f1: 0.20890647041441177, precision: 0.12111616012220847, recall: 0.7592289364064922\n",
      "val_loss: 0.0683657447850212, val_f1: 0.20182053792018376, val_precision: 0.11633027331271303, val_recall: 0.7612785897943952\n"
     ]
    },
    {
     "name": "stderr",
     "output_type": "stream",
     "text": [
      "100%|█████████████████████████████████████████| 655/655 [00:13<00:00, 47.38it/s]\n"
     ]
    },
    {
     "name": "stdout",
     "output_type": "stream",
     "text": [
      "Epoch: 663, loss: 0.061142860891880424, f1: 0.20865678921536288, precision: 0.12079190892729026, recall: 0.765451755641981\n",
      "val_loss: 0.06672216032486443, val_f1: 0.2052801444573704, val_precision: 0.1190856446494955, val_recall: 0.743237076549355\n"
     ]
    },
    {
     "name": "stderr",
     "output_type": "stream",
     "text": [
      "100%|█████████████████████████████████████████| 655/655 [00:13<00:00, 47.22it/s]\n"
     ]
    },
    {
     "name": "stdout",
     "output_type": "stream",
     "text": [
      "Epoch: 664, loss: 0.0610054672262027, f1: 0.2074023599963135, precision: 0.12005539595341409, recall: 0.7612646341210103\n",
      "val_loss: 0.0677232653107665, val_f1: 0.19770753973415672, val_precision: 0.11465256414034429, val_recall: 0.717386276076693\n"
     ]
    },
    {
     "name": "stderr",
     "output_type": "stream",
     "text": [
      "100%|█████████████████████████████████████████| 655/655 [00:13<00:00, 47.33it/s]\n"
     ]
    },
    {
     "name": "stdout",
     "output_type": "stream",
     "text": [
      "Epoch: 665, loss: 0.061154621629087066, f1: 0.20530717322159237, precision: 0.1187284356303058, recall: 0.7581968412485741\n",
      "val_loss: 0.06806940564868647, val_f1: 0.19926325216399904, val_precision: 0.1148278225307276, val_recall: 0.7528517229157851\n"
     ]
    },
    {
     "name": "stderr",
     "output_type": "stream",
     "text": [
      "100%|█████████████████████████████████████████| 655/655 [00:13<00:00, 47.32it/s]\n"
     ]
    },
    {
     "name": "stdout",
     "output_type": "stream",
     "text": [
      "Epoch: 666, loss: 0.06133573350731198, f1: 0.20803192285879515, precision: 0.12048808288625405, recall: 0.7608421183041943\n",
      "val_loss: 0.06685819789562203, val_f1: 0.19765972892879377, val_precision: 0.11407047555431588, val_recall: 0.7397058800272985\n"
     ]
    },
    {
     "name": "stderr",
     "output_type": "stream",
     "text": [
      "100%|█████████████████████████████████████████| 655/655 [00:13<00:00, 47.30it/s]\n"
     ]
    },
    {
     "name": "stdout",
     "output_type": "stream",
     "text": [
      "Epoch: 667, loss: 0.06136564809317125, f1: 0.2027964080333423, precision: 0.11701602108477978, recall: 0.7597229707218308\n",
      "val_loss: 0.06783275307933671, val_f1: 0.20453895689957927, val_precision: 0.11871983221552651, val_recall: 0.7380640863552006\n"
     ]
    },
    {
     "name": "stderr",
     "output_type": "stream",
     "text": [
      "100%|█████████████████████████████████████████| 655/655 [00:13<00:00, 47.34it/s]\n"
     ]
    },
    {
     "name": "stdout",
     "output_type": "stream",
     "text": [
      "Epoch: 668, loss: 0.061167657284336235, f1: 0.20825560630644194, precision: 0.12042634623793473, recall: 0.7693774106279584\n",
      "val_loss: 0.06745869204094378, val_f1: 0.19819887288579902, val_precision: 0.11382094921048629, val_recall: 0.7661978833445715\n"
     ]
    },
    {
     "name": "stderr",
     "output_type": "stream",
     "text": [
      "100%|█████████████████████████████████████████| 655/655 [00:13<00:00, 47.41it/s]\n"
     ]
    },
    {
     "name": "stdout",
     "output_type": "stream",
     "text": [
      "Epoch: 669, loss: 0.0611001027691114, f1: 0.20634138505018035, precision: 0.11969159754021591, recall: 0.7474569338878603\n",
      "val_loss: 0.06749138691454032, val_f1: 0.20588944604292417, val_precision: 0.11980440127962363, val_recall: 0.7315223171896891\n"
     ]
    },
    {
     "name": "stderr",
     "output_type": "stream",
     "text": [
      "100%|█████████████████████████████████████████| 655/655 [00:13<00:00, 47.40it/s]\n"
     ]
    },
    {
     "name": "stdout",
     "output_type": "stream",
     "text": [
      "Epoch: 670, loss: 0.060403932039519305, f1: 0.21251737305098153, precision: 0.12332991542906024, recall: 0.7676585497633192\n",
      "val_loss: 0.07042097843704967, val_f1: 0.17351286489614753, val_precision: 0.09713371670933081, val_recall: 0.8120597374001775\n"
     ]
    },
    {
     "name": "stderr",
     "output_type": "stream",
     "text": [
      "100%|█████████████████████████████████████████| 655/655 [00:13<00:00, 47.31it/s]\n"
     ]
    },
    {
     "name": "stdout",
     "output_type": "stream",
     "text": [
      "Epoch: 671, loss: 0.06209047533792109, f1: 0.20231244949997396, precision: 0.11681130469015992, recall: 0.7547831525443165\n",
      "val_loss: 0.06689596076607021, val_f1: 0.20192744369265256, val_precision: 0.11643928787115654, val_recall: 0.7596584095047154\n"
     ]
    },
    {
     "name": "stderr",
     "output_type": "stream",
     "text": [
      "100%|█████████████████████████████████████████| 655/655 [00:13<00:00, 47.43it/s]\n"
     ]
    },
    {
     "name": "stdout",
     "output_type": "stream",
     "text": [
      "Epoch: 672, loss: 0.060936761684631434, f1: 0.20955500620704118, precision: 0.12131702550935722, recall: 0.7685406328498862\n",
      "val_loss: 0.06696705549203474, val_f1: 0.20422177994204843, val_precision: 0.11801107820772797, val_recall: 0.7578662618858005\n"
     ]
    },
    {
     "name": "stderr",
     "output_type": "stream",
     "text": [
      "100%|█████████████████████████████████████████| 655/655 [00:13<00:00, 47.33it/s]\n"
     ]
    },
    {
     "name": "stdout",
     "output_type": "stream",
     "text": [
      "Epoch: 673, loss: 0.06121911478036915, f1: 0.2063712715477485, precision: 0.11921167321261444, recall: 0.7675591885474802\n",
      "val_loss: 0.06716180521858121, val_f1: 0.20201286944586225, val_precision: 0.11636980487580556, val_recall: 0.7650729613976741\n"
     ]
    },
    {
     "name": "stderr",
     "output_type": "stream",
     "text": [
      "100%|█████████████████████████████████████████| 655/655 [00:13<00:00, 47.25it/s]\n"
     ]
    },
    {
     "name": "stdout",
     "output_type": "stream",
     "text": [
      "Epoch: 674, loss: 0.061127093238124555, f1: 0.2079047506598161, precision: 0.12022456593655106, recall: 0.7680360625206514\n",
      "val_loss: 0.06779636089784016, val_f1: 0.20058637339091284, val_precision: 0.11552955294369695, val_recall: 0.7604718102364365\n"
     ]
    },
    {
     "name": "stderr",
     "output_type": "stream",
     "text": [
      "100%|█████████████████████████████████████████| 655/655 [00:13<00:00, 47.32it/s]\n"
     ]
    },
    {
     "name": "stdout",
     "output_type": "stream",
     "text": [
      "Epoch: 675, loss: 0.06156310861261974, f1: 0.20801343330094405, precision: 0.12048037691852291, recall: 0.7606547798250468\n",
      "val_loss: 0.06748594415006698, val_f1: 0.1994155886869114, val_precision: 0.11457629547958527, val_recall: 0.7683457533290626\n"
     ]
    },
    {
     "name": "stderr",
     "output_type": "stream",
     "text": [
      "100%|█████████████████████████████████████████| 655/655 [00:13<00:00, 47.25it/s]\n"
     ]
    },
    {
     "name": "stdout",
     "output_type": "stream",
     "text": [
      "Epoch: 676, loss: 0.06112968594916449, f1: 0.20646411620411434, precision: 0.11919218416162233, recall: 0.7709497052067109\n",
      "val_loss: 0.06725025668295972, val_f1: 0.2013355344219851, val_precision: 0.11593836089681595, val_recall: 0.7642961475963986\n"
     ]
    },
    {
     "name": "stderr",
     "output_type": "stream",
     "text": [
      "100%|█████████████████████████████████████████| 655/655 [00:13<00:00, 47.35it/s]\n"
     ]
    },
    {
     "name": "stdout",
     "output_type": "stream",
     "text": [
      "Epoch: 677, loss: 0.06100226957525509, f1: 0.20760648409532256, precision: 0.11997832194510989, recall: 0.7699584096215153\n",
      "val_loss: 0.06745585674471265, val_f1: 0.20125335942789324, val_precision: 0.11588806237324799, val_recall: 0.7641136583385117\n"
     ]
    },
    {
     "name": "stderr",
     "output_type": "stream",
     "text": [
      "100%|█████████████████████████████████████████| 655/655 [00:13<00:00, 47.35it/s]\n"
     ]
    },
    {
     "name": "stdout",
     "output_type": "stream",
     "text": [
      "Epoch: 678, loss: 0.060900281735105824, f1: 0.20715639919565185, precision: 0.119925395240083, recall: 0.759864676294436\n",
      "val_loss: 0.06817155356151522, val_f1: 0.1960223590316539, val_precision: 0.11269779498859761, val_recall: 0.7520891274197385\n"
     ]
    },
    {
     "name": "stderr",
     "output_type": "stream",
     "text": [
      "100%|█████████████████████████████████████████| 655/655 [00:13<00:00, 47.35it/s]\n"
     ]
    },
    {
     "name": "stdout",
     "output_type": "stream",
     "text": [
      "Epoch: 679, loss: 0.06133564711470185, f1: 0.20386073617407452, precision: 0.11761820195100577, recall: 0.764214277290206\n",
      "val_loss: 0.06749547899213679, val_f1: 0.19327140355565042, val_precision: 0.1105296247395251, val_recall: 0.7687611255213755\n"
     ]
    },
    {
     "name": "stderr",
     "output_type": "stream",
     "text": [
      "100%|█████████████████████████████████████████| 655/655 [00:13<00:00, 47.12it/s]\n"
     ]
    },
    {
     "name": "stdout",
     "output_type": "stream",
     "text": [
      "Epoch: 680, loss: 0.06164465060898366, f1: 0.2004429316444279, precision: 0.11557387990009693, recall: 0.7544731138430479\n",
      "val_loss: 0.06813598754858478, val_f1: 0.19547091373128556, val_precision: 0.11571021596025334, val_recall: 0.6291595209355748\n"
     ]
    },
    {
     "name": "stderr",
     "output_type": "stream",
     "text": [
      "100%|█████████████████████████████████████████| 655/655 [00:14<00:00, 46.59it/s]\n"
     ]
    },
    {
     "name": "stdout",
     "output_type": "stream",
     "text": [
      "Epoch: 681, loss: 0.061663134966244676, f1: 0.21014169186182244, precision: 0.12197434986650034, recall: 0.7581829288874874\n",
      "val_loss: 0.0682559612745402, val_f1: 0.19374528362629168, val_precision: 0.11138966627025959, val_recall: 0.7433073681292184\n"
     ]
    },
    {
     "name": "stderr",
     "output_type": "stream",
     "text": [
      "100%|█████████████████████████████████████████| 655/655 [00:13<00:00, 47.00it/s]\n"
     ]
    },
    {
     "name": "stdout",
     "output_type": "stream",
     "text": [
      "Epoch: 682, loss: 0.06134083286098396, f1: 0.20531229371081716, precision: 0.11870141658320568, recall: 0.759440648828754\n",
      "val_loss: 0.06759793363477386, val_f1: 0.1936360258256523, val_precision: 0.11159813950274038, val_recall: 0.7310296055783919\n"
     ]
    },
    {
     "name": "stderr",
     "output_type": "stream",
     "text": [
      "100%|█████████████████████████████████████████| 655/655 [00:13<00:00, 47.31it/s]\n"
     ]
    },
    {
     "name": "stdout",
     "output_type": "stream",
     "text": [
      "Epoch: 683, loss: 0.06120743796456861, f1: 0.20610497529887858, precision: 0.11902930245073583, recall: 0.767754140814752\n",
      "val_loss: 0.0669167989847857, val_f1: 0.20489691999810028, val_precision: 0.11829065469973678, val_recall: 0.7649631654724068\n"
     ]
    },
    {
     "name": "stderr",
     "output_type": "stream",
     "text": [
      "100%|█████████████████████████████████████████| 655/655 [00:13<00:00, 47.44it/s]\n"
     ]
    },
    {
     "name": "stdout",
     "output_type": "stream",
     "text": [
      "Epoch: 684, loss: 0.06120790472353688, f1: 0.20511637132644578, precision: 0.11859163434514847, recall: 0.7585730989356987\n",
      "val_loss: 0.06654355277674734, val_f1: 0.2044229222033769, val_precision: 0.11894860027417746, val_recall: 0.7264031268861315\n"
     ]
    },
    {
     "name": "stderr",
     "output_type": "stream",
     "text": [
      "100%|█████████████████████████████████████████| 655/655 [00:13<00:00, 47.22it/s]\n"
     ]
    },
    {
     "name": "stdout",
     "output_type": "stream",
     "text": [
      "Epoch: 685, loss: 0.06068539912776865, f1: 0.21250251394610392, precision: 0.12327670445025878, recall: 0.7693368894339517\n",
      "val_loss: 0.0672508921952696, val_f1: 0.20321228314716996, val_precision: 0.11722594494461466, val_recall: 0.7625496733352679\n"
     ]
    },
    {
     "name": "stderr",
     "output_type": "stream",
     "text": [
      "100%|█████████████████████████████████████████| 655/655 [00:13<00:00, 47.33it/s]\n"
     ]
    },
    {
     "name": "stdout",
     "output_type": "stream",
     "text": [
      "Epoch: 686, loss: 0.06151651317881996, f1: 0.20643425814972613, precision: 0.11960759478095094, recall: 0.7532154833314983\n",
      "val_loss: 0.06714750349589992, val_f1: 0.2002934399480865, val_precision: 0.11532169383728381, val_recall: 0.761061566480256\n"
     ]
    },
    {
     "name": "stderr",
     "output_type": "stream",
     "text": [
      "100%|█████████████████████████████████████████| 655/655 [00:13<00:00, 47.30it/s]\n"
     ]
    },
    {
     "name": "stdout",
     "output_type": "stream",
     "text": [
      "Epoch: 687, loss: 0.06104807630179655, f1: 0.20675617793824003, precision: 0.11963888426588579, recall: 0.7606048164363126\n",
      "val_loss: 0.06791013542460192, val_f1: 0.20082234797472667, val_precision: 0.116724644381758, val_recall: 0.7184528057044799\n"
     ]
    },
    {
     "name": "stderr",
     "output_type": "stream",
     "text": [
      "100%|█████████████████████████████████████████| 655/655 [00:13<00:00, 47.38it/s]\n"
     ]
    },
    {
     "name": "stdout",
     "output_type": "stream",
     "text": [
      "Epoch: 688, loss: 0.06193547131820717, f1: 0.20744266688436225, precision: 0.11997047404061918, recall: 0.765794194825278\n",
      "val_loss: 0.06679297235170635, val_f1: 0.20414142223237303, val_precision: 0.11820813447424988, val_recall: 0.7476774995480109\n"
     ]
    },
    {
     "name": "stderr",
     "output_type": "stream",
     "text": [
      "100%|█████████████████████████████████████████| 655/655 [00:13<00:00, 47.34it/s]\n"
     ]
    },
    {
     "name": "stdout",
     "output_type": "stream",
     "text": [
      "Epoch: 689, loss: 0.0614612580540071, f1: 0.20533931502132408, precision: 0.11849176459839099, recall: 0.7688930950660742\n",
      "val_loss: 0.06738198804882688, val_f1: 0.2033283321686114, val_precision: 0.11718424169534664, val_recall: 0.767614701677353\n"
     ]
    },
    {
     "name": "stderr",
     "output_type": "stream",
     "text": [
      "100%|█████████████████████████████████████████| 655/655 [00:13<00:00, 47.38it/s]\n"
     ]
    },
    {
     "name": "stdout",
     "output_type": "stream",
     "text": [
      "Epoch: 690, loss: 0.060966013543990276, f1: 0.20959450965720108, precision: 0.12131392003271643, recall: 0.769729581293259\n",
      "val_loss: 0.06799688039843095, val_f1: 0.19693698370756701, val_precision: 0.11348980725443827, val_recall: 0.7439541653345484\n"
     ]
    },
    {
     "name": "stderr",
     "output_type": "stream",
     "text": [
      "100%|█████████████████████████████████████████| 655/655 [00:13<00:00, 47.19it/s]\n"
     ]
    },
    {
     "name": "stdout",
     "output_type": "stream",
     "text": [
      "Epoch: 691, loss: 0.061072547411686086, f1: 0.20850816497268507, precision: 0.12066538154062253, recall: 0.7665364331473375\n",
      "val_loss: 0.06809164211153984, val_f1: 0.19942064604434598, val_precision: 0.11442713106666273, val_recall: 0.7752745137848985\n"
     ]
    },
    {
     "name": "stderr",
     "output_type": "stream",
     "text": [
      "100%|█████████████████████████████████████████| 655/655 [00:13<00:00, 47.37it/s]\n"
     ]
    },
    {
     "name": "stdout",
     "output_type": "stream",
     "text": [
      "Epoch: 692, loss: 0.06057679169448733, f1: 0.2071381274470846, precision: 0.12020273838220662, recall: 0.748438653918623\n",
      "val_loss: 0.06749309043169295, val_f1: 0.20233163526130357, val_precision: 0.1170219893635618, val_recall: 0.7466256946598718\n"
     ]
    },
    {
     "name": "stderr",
     "output_type": "stream",
     "text": [
      "100%|█████████████████████████████████████████| 655/655 [00:13<00:00, 47.36it/s]\n"
     ]
    },
    {
     "name": "stdout",
     "output_type": "stream",
     "text": [
      "Epoch: 693, loss: 0.06155575408621599, f1: 0.20710487659942167, precision: 0.1195430435641946, recall: 0.7741404054501585\n",
      "val_loss: 0.0672665138669107, val_f1: 0.20510789133886081, val_precision: 0.11818114008942465, val_recall: 0.7755673791563839\n"
     ]
    },
    {
     "name": "stderr",
     "output_type": "stream",
     "text": [
      "100%|█████████████████████████████████████████| 655/655 [00:13<00:00, 47.32it/s]\n"
     ]
    },
    {
     "name": "stdout",
     "output_type": "stream",
     "text": [
      "Epoch: 694, loss: 0.061325147660548675, f1: 0.20764021796838966, precision: 0.12026620989110862, recall: 0.7592104103387767\n",
      "val_loss: 0.06780314454894273, val_f1: 0.19726253818459288, val_precision: 0.11342083600802569, val_recall: 0.756400850729658\n"
     ]
    },
    {
     "name": "stderr",
     "output_type": "stream",
     "text": [
      "100%|█████████████████████████████████████████| 655/655 [00:13<00:00, 47.31it/s]\n"
     ]
    },
    {
     "name": "stdout",
     "output_type": "stream",
     "text": [
      "Epoch: 695, loss: 0.06146746478150136, f1: 0.20550089676218103, precision: 0.11921271357244549, recall: 0.7440749878533014\n",
      "val_loss: 0.0682549514260929, val_f1: 0.19973320628519875, val_precision: 0.11544607637381744, val_recall: 0.7400255016640785\n"
     ]
    },
    {
     "name": "stderr",
     "output_type": "stream",
     "text": [
      "100%|█████████████████████████████████████████| 655/655 [00:13<00:00, 47.28it/s]\n"
     ]
    },
    {
     "name": "stdout",
     "output_type": "stream",
     "text": [
      "Epoch: 696, loss: 0.06106770824185992, f1: 0.20830758305778255, precision: 0.12068963601389004, recall: 0.7601839265295567\n",
      "val_loss: 0.06753327439479324, val_f1: 0.20475003076111772, val_precision: 0.1180877817982654, val_recall: 0.7693895623771423\n"
     ]
    },
    {
     "name": "stderr",
     "output_type": "stream",
     "text": [
      "100%|█████████████████████████████████████████| 655/655 [00:13<00:00, 47.33it/s]\n"
     ]
    },
    {
     "name": "stdout",
     "output_type": "stream",
     "text": [
      "Epoch: 697, loss: 0.06081256685284384, f1: 0.2114482275785701, precision: 0.12287253986987222, recall: 0.7575383493349752\n",
      "val_loss: 0.0674737471779552, val_f1: 0.2046244949996817, val_precision: 0.11818947978830392, val_recall: 0.7616082632213558\n"
     ]
    },
    {
     "name": "stderr",
     "output_type": "stream",
     "text": [
      "100%|█████████████████████████████████████████| 655/655 [00:13<00:00, 47.26it/s]\n"
     ]
    },
    {
     "name": "stdout",
     "output_type": "stream",
     "text": [
      "Epoch: 698, loss: 0.061055015151225425, f1: 0.20353672508631393, precision: 0.11761210051272776, recall: 0.7554524637701857\n",
      "val_loss: 0.06650801605348466, val_f1: 0.20316074635190226, val_precision: 0.11670024696429936, val_recall: 0.7840313221063089\n"
     ]
    },
    {
     "name": "stderr",
     "output_type": "stream",
     "text": [
      "100%|█████████████████████████████████████████| 655/655 [00:13<00:00, 47.30it/s]\n"
     ]
    },
    {
     "name": "stdout",
     "output_type": "stream",
     "text": [
      "Epoch: 699, loss: 0.061451459329091865, f1: 0.20404370615443024, precision: 0.117733747545516, recall: 0.7644791096676397\n",
      "val_loss: 0.0670348354999762, val_f1: 0.19814400620953349, val_precision: 0.11576065612922705, val_recall: 0.6872118478726357\n"
     ]
    },
    {
     "name": "stderr",
     "output_type": "stream",
     "text": [
      "100%|█████████████████████████████████████████| 655/655 [00:13<00:00, 47.33it/s]\n"
     ]
    },
    {
     "name": "stdout",
     "output_type": "stream",
     "text": [
      "Epoch: 700, loss: 0.061153509991087075, f1: 0.2075523969387993, precision: 0.12021487760961852, recall: 0.7589078715739359\n",
      "val_loss: 0.06771625862926792, val_f1: 0.20463735841956887, val_precision: 0.11827612529431872, val_recall: 0.7583830681962704\n"
     ]
    },
    {
     "name": "stderr",
     "output_type": "stream",
     "text": [
      "100%|█████████████████████████████████████████| 655/655 [00:13<00:00, 47.33it/s]\n"
     ]
    },
    {
     "name": "stdout",
     "output_type": "stream",
     "text": [
      "Epoch: 701, loss: 0.06123685367007292, f1: 0.2079555514393935, precision: 0.12011517614680733, recall: 0.7739356101582978\n",
      "val_loss: 0.06733630395092823, val_f1: 0.20095261771131165, val_precision: 0.1170773524748281, val_recall: 0.708600043293533\n"
     ]
    },
    {
     "name": "stderr",
     "output_type": "stream",
     "text": [
      "100%|█████████████████████████████████████████| 655/655 [00:13<00:00, 47.28it/s]\n"
     ]
    },
    {
     "name": "stdout",
     "output_type": "stream",
     "text": [
      "Epoch: 702, loss: 0.06148036839795932, f1: 0.20495346492287378, precision: 0.11833581574872591, recall: 0.7646512419042242\n",
      "val_loss: 0.06783602736172599, val_f1: 0.1977708163424087, val_precision: 0.11358548185377972, val_recall: 0.7640741793524235\n"
     ]
    },
    {
     "name": "stderr",
     "output_type": "stream",
     "text": [
      "100%|█████████████████████████████████████████| 655/655 [00:13<00:00, 47.33it/s]\n"
     ]
    },
    {
     "name": "stdout",
     "output_type": "stream",
     "text": [
      "Epoch: 703, loss: 0.06121482911683221, f1: 0.20674928668204132, precision: 0.11950563884603271, recall: 0.7658456534261012\n",
      "val_loss: 0.06862349693723228, val_f1: 0.19490302654807967, val_precision: 0.11141435416210271, val_recall: 0.7775994513286363\n"
     ]
    },
    {
     "name": "stderr",
     "output_type": "stream",
     "text": [
      "100%|█████████████████████████████████████████| 655/655 [00:13<00:00, 47.34it/s]\n"
     ]
    },
    {
     "name": "stdout",
     "output_type": "stream",
     "text": [
      "Epoch: 704, loss: 0.06110513224870763, f1: 0.20641368775902585, precision: 0.11956189495354948, recall: 0.7544828671307964\n",
      "val_loss: 0.06720655441386711, val_f1: 0.20197905173755765, val_precision: 0.1164372853866411, val_recall: 0.7612072307992419\n"
     ]
    },
    {
     "name": "stderr",
     "output_type": "stream",
     "text": [
      "100%|█████████████████████████████████████████| 655/655 [00:13<00:00, 47.34it/s]\n"
     ]
    },
    {
     "name": "stdout",
     "output_type": "stream",
     "text": [
      "Epoch: 705, loss: 0.06090152898931321, f1: 0.20788300003003518, precision: 0.12025956043561224, recall: 0.766019905591739\n",
      "val_loss: 0.06749236949403352, val_f1: 0.20118508110847141, val_precision: 0.1162630408049621, val_recall: 0.7463191640349703\n"
     ]
    },
    {
     "name": "stderr",
     "output_type": "stream",
     "text": [
      "100%|█████████████████████████████████████████| 655/655 [00:13<00:00, 47.41it/s]\n"
     ]
    },
    {
     "name": "stdout",
     "output_type": "stream",
     "text": [
      "Epoch: 706, loss: 0.06122247315232308, f1: 0.20742971334159382, precision: 0.1202435664544664, recall: 0.7545080301870827\n",
      "val_loss: 0.06706681779645589, val_f1: 0.20486779551113243, val_precision: 0.11826303290681692, val_recall: 0.7653067148196588\n"
     ]
    },
    {
     "name": "stderr",
     "output_type": "stream",
     "text": [
      "100%|█████████████████████████████████████████| 655/655 [00:13<00:00, 47.37it/s]\n"
     ]
    },
    {
     "name": "stdout",
     "output_type": "stream",
     "text": [
      "Epoch: 707, loss: 0.061070191698106194, f1: 0.20837243698069444, precision: 0.12089342680965899, recall: 0.7538918973721621\n",
      "val_loss: 0.06786169558165407, val_f1: 0.20160454169519137, val_precision: 0.11626558720535778, val_recall: 0.7579121412623913\n"
     ]
    },
    {
     "name": "stderr",
     "output_type": "stream",
     "text": [
      "100%|█████████████████████████████████████████| 655/655 [00:13<00:00, 47.38it/s]\n"
     ]
    },
    {
     "name": "stdout",
     "output_type": "stream",
     "text": [
      "Epoch: 708, loss: 0.060573587933455714, f1: 0.21257426372838095, precision: 0.12320437075015697, recall: 0.7740648038628447\n",
      "val_loss: 0.06620072680653645, val_f1: 0.20362361014910554, val_precision: 0.11734082747182441, val_recall: 0.7693131704122649\n"
     ]
    },
    {
     "name": "stderr",
     "output_type": "stream",
     "text": [
      "100%|█████████████████████████████████████████| 655/655 [00:13<00:00, 47.31it/s]\n"
     ]
    },
    {
     "name": "stdout",
     "output_type": "stream",
     "text": [
      "Epoch: 709, loss: 0.06110078184261122, f1: 0.2067487318020028, precision: 0.11953273432556796, recall: 0.7647195738235503\n",
      "val_loss: 0.06760583208754249, val_f1: 0.19740527957334464, val_precision: 0.11314814034507635, val_recall: 0.7731140983214072\n"
     ]
    },
    {
     "name": "stderr",
     "output_type": "stream",
     "text": [
      "100%|█████████████████████████████████████████| 655/655 [00:13<00:00, 47.31it/s]\n"
     ]
    },
    {
     "name": "stdout",
     "output_type": "stream",
     "text": [
      "Epoch: 710, loss: 0.06093848659052649, f1: 0.20776748264102135, precision: 0.120146700862852, recall: 0.7674672473022957\n",
      "val_loss: 0.0680489254807797, val_f1: 0.19818021562734933, val_precision: 0.11429689158984555, val_recall: 0.7447788748172445\n"
     ]
    },
    {
     "name": "stderr",
     "output_type": "stream",
     "text": [
      "100%|█████████████████████████████████████████| 655/655 [00:13<00:00, 47.35it/s]\n"
     ]
    },
    {
     "name": "stdout",
     "output_type": "stream",
     "text": [
      "Epoch: 711, loss: 0.060918769901547265, f1: 0.21157139145876716, precision: 0.12280583121522351, recall: 0.7632783126512557\n",
      "val_loss: 0.06793447154992764, val_f1: 0.20406719140655158, val_precision: 0.1180430504519048, val_recall: 0.7523277384835646\n"
     ]
    },
    {
     "name": "stderr",
     "output_type": "stream",
     "text": [
      "100%|█████████████████████████████████████████| 655/655 [00:13<00:00, 47.27it/s]\n"
     ]
    },
    {
     "name": "stdout",
     "output_type": "stream",
     "text": [
      "Epoch: 712, loss: 0.061094679630837825, f1: 0.21114109902033296, precision: 0.12234068058132556, recall: 0.7701533650282685\n",
      "val_loss: 0.06802957847611893, val_f1: 0.19629009154789825, val_precision: 0.11293223516913045, val_recall: 0.7495501067728625\n"
     ]
    },
    {
     "name": "stderr",
     "output_type": "stream",
     "text": [
      "100%|█████████████████████████████████████████| 655/655 [00:13<00:00, 47.39it/s]\n"
     ]
    },
    {
     "name": "stdout",
     "output_type": "stream",
     "text": [
      "Epoch: 713, loss: 0.06089257178757027, f1: 0.20821426225305442, precision: 0.12064740811439074, recall: 0.7593739540067338\n",
      "val_loss: 0.06780539643139057, val_f1: 0.20578052933292584, val_precision: 0.11913060005583348, val_recall: 0.7547491277576587\n"
     ]
    },
    {
     "name": "stderr",
     "output_type": "stream",
     "text": [
      "100%|█████████████████████████████████████████| 655/655 [00:13<00:00, 47.40it/s]\n"
     ]
    },
    {
     "name": "stdout",
     "output_type": "stream",
     "text": [
      "Epoch: 714, loss: 0.06106022826843817, f1: 0.20741392095319314, precision: 0.12004863633383207, recall: 0.7618483742002312\n",
      "val_loss: 0.06765462789650357, val_f1: 0.19929950292120252, val_precision: 0.11491432904325631, val_recall: 0.7501802304332409\n"
     ]
    },
    {
     "name": "stderr",
     "output_type": "stream",
     "text": [
      "100%|█████████████████████████████████████████| 655/655 [00:13<00:00, 47.41it/s]\n"
     ]
    },
    {
     "name": "stdout",
     "output_type": "stream",
     "text": [
      "Epoch: 715, loss: 0.06172458419988629, f1: 0.20345655985094308, precision: 0.1174124046740698, recall: 0.761544693176073\n",
      "val_loss: 0.06828477691619768, val_f1: 0.19815208455441097, val_precision: 0.11341549578729436, val_recall: 0.7836252928053568\n"
     ]
    },
    {
     "name": "stderr",
     "output_type": "stream",
     "text": [
      "100%|█████████████████████████████████████████| 655/655 [00:13<00:00, 47.29it/s]\n"
     ]
    },
    {
     "name": "stdout",
     "output_type": "stream",
     "text": [
      "Epoch: 716, loss: 0.061238265404378184, f1: 0.20449078337576554, precision: 0.11808735996481202, recall: 0.7621457234309374\n",
      "val_loss: 0.06741780804794863, val_f1: 0.19846174021345298, val_precision: 0.11441415408198986, val_recall: 0.7477576050463073\n"
     ]
    },
    {
     "name": "stderr",
     "output_type": "stream",
     "text": [
      "100%|█████████████████████████████████████████| 655/655 [00:13<00:00, 47.29it/s]\n"
     ]
    },
    {
     "name": "stdout",
     "output_type": "stream",
     "text": [
      "Epoch: 717, loss: 0.06129815721287186, f1: 0.20780614833238845, precision: 0.1203184948636944, recall: 0.7615681453288057\n",
      "val_loss: 0.06746948873965976, val_f1: 0.2008860887449436, val_precision: 0.11585903695758877, val_recall: 0.7548806426721976\n"
     ]
    },
    {
     "name": "stderr",
     "output_type": "stream",
     "text": [
      "100%|█████████████████████████████████████████| 655/655 [00:13<00:00, 47.31it/s]\n"
     ]
    },
    {
     "name": "stdout",
     "output_type": "stream",
     "text": [
      "Epoch: 718, loss: 0.0610989672295351, f1: 0.206967228403456, precision: 0.11975199219358389, recall: 0.7617458216334118\n",
      "val_loss: 0.06778195456798197, val_f1: 0.20225294290888896, val_precision: 0.11632388466413757, val_recall: 0.7740412029104495\n"
     ]
    },
    {
     "name": "stderr",
     "output_type": "stream",
     "text": [
      "100%|█████████████████████████████████████████| 655/655 [00:13<00:00, 47.38it/s]\n"
     ]
    },
    {
     "name": "stdout",
     "output_type": "stream",
     "text": [
      "Epoch: 719, loss: 0.06075349787093756, f1: 0.21246464379954227, precision: 0.1231124418332661, recall: 0.7747883665652675\n",
      "val_loss: 0.06838306182260634, val_f1: 0.19821693516975414, val_precision: 0.11363125292994423, val_recall: 0.7754586382743416\n"
     ]
    },
    {
     "name": "stderr",
     "output_type": "stream",
     "text": [
      "100%|█████████████████████████████████████████| 655/655 [00:13<00:00, 47.27it/s]\n"
     ]
    },
    {
     "name": "stdout",
     "output_type": "stream",
     "text": [
      "Epoch: 720, loss: 0.06125091192425919, f1: 0.2039848617969079, precision: 0.11784310164214432, recall: 0.7582710281128192\n",
      "val_loss: 0.06772959976106746, val_f1: 0.19714305386833253, val_precision: 0.11338429504561179, val_recall: 0.7545154969626611\n"
     ]
    },
    {
     "name": "stderr",
     "output_type": "stream",
     "text": [
      "100%|█████████████████████████████████████████| 655/655 [00:13<00:00, 47.34it/s]\n"
     ]
    },
    {
     "name": "stdout",
     "output_type": "stream",
     "text": [
      "Epoch: 721, loss: 0.061165556456637744, f1: 0.20765616231733683, precision: 0.12018392454079203, recall: 0.7629362778581735\n",
      "val_loss: 0.0681199299838018, val_f1: 0.20460645594746324, val_precision: 0.1176071852325983, val_recall: 0.7861753975579499\n"
     ]
    },
    {
     "name": "stderr",
     "output_type": "stream",
     "text": [
      "100%|█████████████████████████████████████████| 655/655 [00:13<00:00, 47.41it/s]\n"
     ]
    },
    {
     "name": "stdout",
     "output_type": "stream",
     "text": [
      "Epoch: 722, loss: 0.06069209896426164, f1: 0.20948267865519768, precision: 0.12126931261363659, recall: 0.7685098470736096\n",
      "val_loss: 0.0670238486533865, val_f1: 0.19995405002007974, val_precision: 0.11541794979124578, val_recall: 0.7473090774285684\n"
     ]
    },
    {
     "name": "stderr",
     "output_type": "stream",
     "text": [
      "100%|█████████████████████████████████████████| 655/655 [00:13<00:00, 47.27it/s]\n"
     ]
    },
    {
     "name": "stdout",
     "output_type": "stream",
     "text": [
      "Epoch: 723, loss: 0.06151469252250008, f1: 0.20553843247742268, precision: 0.11875697076960488, recall: 0.7633692889950657\n",
      "val_loss: 0.06685888643350897, val_f1: 0.2037556153225592, val_precision: 0.11782767498916989, val_recall: 0.7526097216327255\n"
     ]
    },
    {
     "name": "stderr",
     "output_type": "stream",
     "text": [
      "100%|█████████████████████████████████████████| 655/655 [00:13<00:00, 47.39it/s]\n"
     ]
    },
    {
     "name": "stdout",
     "output_type": "stream",
     "text": [
      "Epoch: 724, loss: 0.06070507161198397, f1: 0.20813280018286404, precision: 0.12051443689438791, recall: 0.7624924334064694\n",
      "val_loss: 0.06808124255354799, val_f1: 0.19665831905111553, val_precision: 0.1123698774101469, val_recall: 0.7869423552664048\n"
     ]
    },
    {
     "name": "stderr",
     "output_type": "stream",
     "text": [
      "100%|█████████████████████████████████████████| 655/655 [00:13<00:00, 47.36it/s]\n"
     ]
    },
    {
     "name": "stdout",
     "output_type": "stream",
     "text": [
      "Epoch: 725, loss: 0.06099621853186884, f1: 0.20739340640205228, precision: 0.11981700281790308, recall: 0.7707442463809298\n",
      "val_loss: 0.0668399921968716, val_f1: 0.2044404962162645, val_precision: 0.11840998999552306, val_recall: 0.7476276422449208\n"
     ]
    },
    {
     "name": "stderr",
     "output_type": "stream",
     "text": [
      "100%|█████████████████████████████████████████| 655/655 [00:13<00:00, 47.36it/s]\n"
     ]
    },
    {
     "name": "stdout",
     "output_type": "stream",
     "text": [
      "Epoch: 726, loss: 0.061026900733700234, f1: 0.210024082893687, precision: 0.12167298018164535, recall: 0.7668912443154641\n",
      "val_loss: 0.06736358635580389, val_f1: 0.19973890266696864, val_precision: 0.11446598312313404, val_recall: 0.7831761061871817\n"
     ]
    },
    {
     "name": "stderr",
     "output_type": "stream",
     "text": [
      "100%|█████████████████████████████████████████| 655/655 [00:13<00:00, 47.40it/s]\n"
     ]
    },
    {
     "name": "stdout",
     "output_type": "stream",
     "text": [
      "Epoch: 727, loss: 0.061462231270457045, f1: 0.20587379025827574, precision: 0.1190611468265473, recall: 0.7600839415579351\n",
      "val_loss: 0.06709545199682407, val_f1: 0.20011343213051339, val_precision: 0.11486417722435446, val_recall: 0.776158197757301\n"
     ]
    },
    {
     "name": "stderr",
     "output_type": "stream",
     "text": [
      "100%|█████████████████████████████████████████| 655/655 [00:13<00:00, 47.33it/s]\n"
     ]
    },
    {
     "name": "stdout",
     "output_type": "stream",
     "text": [
      "Epoch: 728, loss: 0.06058310502073692, f1: 0.20739167746655282, precision: 0.11985432645448178, recall: 0.769155822125555\n",
      "val_loss: 0.0681655306642482, val_f1: 0.1933973164462336, val_precision: 0.11130160369927389, val_recall: 0.7370236198836511\n"
     ]
    },
    {
     "name": "stderr",
     "output_type": "stream",
     "text": [
      "100%|█████████████████████████████████████████| 655/655 [00:13<00:00, 47.32it/s]\n"
     ]
    },
    {
     "name": "stdout",
     "output_type": "stream",
     "text": [
      "Epoch: 729, loss: 0.061264265463723024, f1: 0.20618040554033742, precision: 0.1191740834310594, recall: 0.7638505087724624\n",
      "val_loss: 0.06771846980266615, val_f1: 0.20241967406557815, val_precision: 0.11693433923817692, val_recall: 0.7526410224787686\n"
     ]
    },
    {
     "name": "stderr",
     "output_type": "stream",
     "text": [
      "100%|█████████████████████████████████████████| 655/655 [00:13<00:00, 47.43it/s]\n"
     ]
    },
    {
     "name": "stdout",
     "output_type": "stream",
     "text": [
      "Epoch: 730, loss: 0.060993192418841005, f1: 0.2078970698428015, precision: 0.12031826481777634, recall: 0.764026494710955\n",
      "val_loss: 0.06776517612534926, val_f1: 0.19945113904716155, val_precision: 0.11491768006149919, val_recall: 0.7543541145160657\n"
     ]
    },
    {
     "name": "stderr",
     "output_type": "stream",
     "text": [
      "100%|█████████████████████████████████████████| 655/655 [00:13<00:00, 47.38it/s]\n"
     ]
    },
    {
     "name": "stdout",
     "output_type": "stream",
     "text": [
      "Epoch: 731, loss: 0.061635043383895895, f1: 0.2064312521127539, precision: 0.11948548236449484, recall: 0.7580133858186598\n",
      "val_loss: 0.06826653443447767, val_f1: 0.20269108848418194, val_precision: 0.1169606664585411, val_recall: 0.7591001999760987\n"
     ]
    },
    {
     "name": "stderr",
     "output_type": "stream",
     "text": [
      "100%|█████████████████████████████████████████| 655/655 [00:13<00:00, 47.34it/s]\n"
     ]
    },
    {
     "name": "stdout",
     "output_type": "stream",
     "text": [
      "Epoch: 732, loss: 0.06128005472843656, f1: 0.20764399069659248, precision: 0.11998302196614614, recall: 0.7707973659721039\n",
      "val_loss: 0.06873112724700925, val_f1: 0.19419472791802891, val_precision: 0.11168274375473346, val_recall: 0.7434910965758726\n"
     ]
    },
    {
     "name": "stderr",
     "output_type": "stream",
     "text": [
      "100%|█████████████████████████████████████████| 655/655 [00:13<00:00, 47.31it/s]\n"
     ]
    },
    {
     "name": "stdout",
     "output_type": "stream",
     "text": [
      "Epoch: 733, loss: 0.061064854821631015, f1: 0.20710651720152032, precision: 0.11976085047002967, recall: 0.7651739023910225\n",
      "val_loss: 0.06866463534363093, val_f1: 0.20442663147775617, val_precision: 0.11784565512842815, val_recall: 0.7705433496504749\n"
     ]
    },
    {
     "name": "stderr",
     "output_type": "stream",
     "text": [
      "100%|█████████████████████████████████████████| 655/655 [00:13<00:00, 47.31it/s]\n"
     ]
    },
    {
     "name": "stdout",
     "output_type": "stream",
     "text": [
      "Epoch: 734, loss: 0.061011337149774525, f1: 0.2088953390723539, precision: 0.1211111050838505, recall: 0.7591335319039476\n",
      "val_loss: 0.06726907479465691, val_f1: 0.2033190400105009, val_precision: 0.11854181601025096, val_recall: 0.7138190274938531\n"
     ]
    },
    {
     "name": "stderr",
     "output_type": "stream",
     "text": [
      "100%|█████████████████████████████████████████| 655/655 [00:13<00:00, 47.32it/s]\n"
     ]
    },
    {
     "name": "stdout",
     "output_type": "stream",
     "text": [
      "Epoch: 735, loss: 0.060875116692723726, f1: 0.21176872709154584, precision: 0.12277448922537892, recall: 0.769674477140412\n",
      "val_loss: 0.06660908333307833, val_f1: 0.2089342079693593, val_precision: 0.1209449708128536, val_recall: 0.7667722390332353\n"
     ]
    },
    {
     "name": "stderr",
     "output_type": "stream",
     "text": [
      "100%|█████████████████████████████████████████| 655/655 [00:13<00:00, 47.31it/s]\n"
     ]
    },
    {
     "name": "stdout",
     "output_type": "stream",
     "text": [
      "Epoch: 736, loss: 0.06095158102573784, f1: 0.20654301045125378, precision: 0.11953504531082647, recall: 0.7590330267453012\n",
      "val_loss: 0.06693185837683055, val_f1: 0.2032525735012642, val_precision: 0.11688285228292193, val_recall: 0.7785743283569266\n"
     ]
    },
    {
     "name": "stderr",
     "output_type": "stream",
     "text": [
      "100%|█████████████████████████████████████████| 655/655 [00:13<00:00, 47.36it/s]\n"
     ]
    },
    {
     "name": "stdout",
     "output_type": "stream",
     "text": [
      "Epoch: 737, loss: 0.061373683923983395, f1: 0.2069472076500415, precision: 0.11959055892924089, recall: 0.7677918090506365\n",
      "val_loss: 0.06732357882920208, val_f1: 0.20275519073489284, val_precision: 0.11711454415403375, val_recall: 0.7544531681395452\n"
     ]
    },
    {
     "name": "stderr",
     "output_type": "stream",
     "text": [
      "100%|█████████████████████████████████████████| 655/655 [00:13<00:00, 47.31it/s]\n"
     ]
    },
    {
     "name": "stdout",
     "output_type": "stream",
     "text": [
      "Epoch: 738, loss: 0.06080577853100218, f1: 0.20568153428799266, precision: 0.11872177254337504, recall: 0.7688076326410279\n",
      "val_loss: 0.06856957030559488, val_f1: 0.19787176426753542, val_precision: 0.11337493921612996, val_recall: 0.776840867047463\n"
     ]
    },
    {
     "name": "stderr",
     "output_type": "stream",
     "text": [
      "100%|█████████████████████████████████████████| 655/655 [00:13<00:00, 47.33it/s]\n"
     ]
    },
    {
     "name": "stdout",
     "output_type": "stream",
     "text": [
      "Epoch: 739, loss: 0.06134384931953809, f1: 0.20640322085112478, precision: 0.11941219238877182, recall: 0.7602151845588939\n",
      "val_loss: 0.06811918978741684, val_f1: 0.19537475911673854, val_precision: 0.11160227002302578, val_recall: 0.7834868221928221\n"
     ]
    },
    {
     "name": "stderr",
     "output_type": "stream",
     "text": [
      "100%|█████████████████████████████████████████| 655/655 [00:13<00:00, 47.22it/s]\n"
     ]
    },
    {
     "name": "stdout",
     "output_type": "stream",
     "text": [
      "Epoch: 740, loss: 0.060889340627170704, f1: 0.21006527274631764, precision: 0.12181434315408914, recall: 0.7624064570164862\n",
      "val_loss: 0.06733172745315717, val_f1: 0.20078815743131592, val_precision: 0.11623526022795143, val_recall: 0.7366452973096742\n"
     ]
    },
    {
     "name": "stderr",
     "output_type": "stream",
     "text": [
      "100%|█████████████████████████████████████████| 655/655 [00:13<00:00, 47.31it/s]\n"
     ]
    },
    {
     "name": "stdout",
     "output_type": "stream",
     "text": [
      "Epoch: 741, loss: 0.060768862997131946, f1: 0.2115778977601623, precision: 0.12266158505932975, recall: 0.7690701093496257\n",
      "val_loss: 0.06762867762681542, val_f1: 0.2057884677060843, val_precision: 0.11931413691490889, val_recall: 0.7476741281261138\n"
     ]
    },
    {
     "name": "stderr",
     "output_type": "stream",
     "text": [
      "100%|█████████████████████████████████████████| 655/655 [00:13<00:00, 47.37it/s]\n"
     ]
    },
    {
     "name": "stdout",
     "output_type": "stream",
     "text": [
      "Epoch: 742, loss: 0.06130733749480875, f1: 0.2056541975161429, precision: 0.1191898335583636, recall: 0.7490156710261607\n",
      "val_loss: 0.06780546830129733, val_f1: 0.20251011418893144, val_precision: 0.11699102677131465, val_recall: 0.7527933351763891\n"
     ]
    },
    {
     "name": "stderr",
     "output_type": "stream",
     "text": [
      "100%|█████████████████████████████████████████| 655/655 [00:13<00:00, 47.35it/s]\n"
     ]
    },
    {
     "name": "stdout",
     "output_type": "stream",
     "text": [
      "Epoch: 743, loss: 0.061127370203496845, f1: 0.20826421522259894, precision: 0.12026959762531723, recall: 0.7760764946350615\n",
      "val_loss: 0.06800043903325402, val_f1: 0.20125558627312093, val_precision: 0.1161165028562718, val_recall: 0.7543912721336434\n"
     ]
    },
    {
     "name": "stderr",
     "output_type": "stream",
     "text": [
      "100%|█████████████████████████████████████████| 655/655 [00:13<00:00, 47.20it/s]\n"
     ]
    },
    {
     "name": "stdout",
     "output_type": "stream",
     "text": [
      "Epoch: 744, loss: 0.061282635258354305, f1: 0.20766285719468555, precision: 0.12019301581530625, recall: 0.7627507266424994\n",
      "val_loss: 0.06675287467981382, val_f1: 0.2063063641865439, val_precision: 0.11933599872548782, val_recall: 0.7606764808980697\n"
     ]
    },
    {
     "name": "stderr",
     "output_type": "stream",
     "text": [
      "100%|█████████████████████████████████████████| 655/655 [00:13<00:00, 47.45it/s]\n"
     ]
    },
    {
     "name": "stdout",
     "output_type": "stream",
     "text": [
      "Epoch: 745, loss: 0.0610863123472979, f1: 0.20837515178707144, precision: 0.12066114938512217, recall: 0.7631248111033258\n",
      "val_loss: 0.06740693597618592, val_f1: 0.2036222615765231, val_precision: 0.11762027541995732, val_recall: 0.7574763545475969\n"
     ]
    },
    {
     "name": "stderr",
     "output_type": "stream",
     "text": [
      "100%|█████████████████████████████████████████| 655/655 [00:13<00:00, 47.33it/s]\n"
     ]
    },
    {
     "name": "stdout",
     "output_type": "stream",
     "text": [
      "Epoch: 746, loss: 0.06082566941000578, f1: 0.21002241047334683, precision: 0.12174551303406025, recall: 0.763978003192949\n",
      "val_loss: 0.06745665341000491, val_f1: 0.20572927300347718, val_precision: 0.11855748293647936, val_recall: 0.7771294033582058\n"
     ]
    },
    {
     "name": "stderr",
     "output_type": "stream",
     "text": [
      "100%|█████████████████████████████████████████| 655/655 [00:13<00:00, 47.36it/s]\n"
     ]
    },
    {
     "name": "stdout",
     "output_type": "stream",
     "text": [
      "Epoch: 747, loss: 0.061380649938155674, f1: 0.20491024635554003, precision: 0.11832228869569437, recall: 0.7640132479426515\n",
      "val_loss: 0.06818501110436447, val_f1: 0.18730069749944134, val_precision: 0.10614669291353827, val_recall: 0.7954866383053841\n"
     ]
    },
    {
     "name": "stderr",
     "output_type": "stream",
     "text": [
      "100%|█████████████████████████████████████████| 655/655 [00:13<00:00, 47.31it/s]\n"
     ]
    },
    {
     "name": "stdout",
     "output_type": "stream",
     "text": [
      "Epoch: 748, loss: 0.06085926357102189, f1: 0.20822332706937174, precision: 0.12070321642921683, recall: 0.7574102759588766\n",
      "val_loss: 0.0681941383390115, val_f1: 0.1970806381398057, val_precision: 0.11388624922816701, val_recall: 0.7312940447975737\n"
     ]
    },
    {
     "name": "stderr",
     "output_type": "stream",
     "text": [
      "100%|█████████████████████████████████████████| 655/655 [00:13<00:00, 47.29it/s]\n"
     ]
    },
    {
     "name": "stdout",
     "output_type": "stream",
     "text": [
      "Epoch: 749, loss: 0.06078569290036236, f1: 0.20859626924113667, precision: 0.12095684228493399, recall: 0.7572960204409279\n",
      "val_loss: 0.06728191114534889, val_f1: 0.204944910805652, val_precision: 0.11860218589672597, val_recall: 0.7534817280162365\n"
     ]
    },
    {
     "name": "stderr",
     "output_type": "stream",
     "text": [
      "100%|█████████████████████████████████████████| 655/655 [00:13<00:00, 47.32it/s]\n"
     ]
    },
    {
     "name": "stdout",
     "output_type": "stream",
     "text": [
      "Epoch: 750, loss: 0.06119660878738829, f1: 0.20856967810340174, precision: 0.12076271112709669, recall: 0.7642807175412433\n",
      "val_loss: 0.06736078098365063, val_f1: 0.202837700566437, val_precision: 0.1169966989829111, val_recall: 0.7617014984882206\n"
     ]
    },
    {
     "name": "stderr",
     "output_type": "stream",
     "text": [
      "100%|█████████████████████████████████████████| 655/655 [00:13<00:00, 47.36it/s]\n"
     ]
    },
    {
     "name": "stdout",
     "output_type": "stream",
     "text": [
      "Epoch: 751, loss: 0.06130146542635128, f1: 0.21103079291570417, precision: 0.12246210221058995, recall: 0.7624866717075574\n",
      "val_loss: 0.06811511732526807, val_f1: 0.1987263889190461, val_precision: 0.11439194194887073, val_recall: 0.7563071227675184\n"
     ]
    },
    {
     "name": "stderr",
     "output_type": "stream",
     "text": [
      "100%|█████████████████████████████████████████| 655/655 [00:13<00:00, 47.33it/s]\n"
     ]
    },
    {
     "name": "stdout",
     "output_type": "stream",
     "text": [
      "Epoch: 752, loss: 0.0614570711172392, f1: 0.21145666959188403, precision: 0.12281144244902063, recall: 0.7600870736000193\n",
      "val_loss: 0.06653760984505809, val_f1: 0.19708769908198015, val_precision: 0.11312786604004374, val_recall: 0.7644022763322252\n"
     ]
    },
    {
     "name": "stderr",
     "output_type": "stream",
     "text": [
      "100%|█████████████████████████████████████████| 655/655 [00:13<00:00, 47.43it/s]\n"
     ]
    },
    {
     "name": "stdout",
     "output_type": "stream",
     "text": [
      "Epoch: 753, loss: 0.0602792137167381, f1: 0.21010115633216644, precision: 0.12166833047904359, recall: 0.769137018088621\n",
      "val_loss: 0.0680806650908305, val_f1: 0.20318914285305598, val_precision: 0.11787987402597562, val_recall: 0.7353842649437966\n"
     ]
    },
    {
     "name": "stderr",
     "output_type": "stream",
     "text": [
      "100%|█████████████████████████████████████████| 655/655 [00:13<00:00, 47.20it/s]\n"
     ]
    },
    {
     "name": "stdout",
     "output_type": "stream",
     "text": [
      "Epoch: 754, loss: 0.060807816675537134, f1: 0.21200749897890256, precision: 0.1231108398439775, recall: 0.7628539018503582\n",
      "val_loss: 0.06717114223150211, val_f1: 0.2002668009532507, val_precision: 0.11567297364251876, val_recall: 0.7453697775618746\n"
     ]
    },
    {
     "name": "stderr",
     "output_type": "stream",
     "text": [
      "100%|█████████████████████████████████████████| 655/655 [00:13<00:00, 47.35it/s]\n"
     ]
    },
    {
     "name": "stdout",
     "output_type": "stream",
     "text": [
      "Epoch: 755, loss: 0.061131083634006614, f1: 0.20581033881543356, precision: 0.11879611006575345, recall: 0.7692895023877384\n",
      "val_loss: 0.06785377607159658, val_f1: 0.19901934020127543, val_precision: 0.11481402147937259, val_recall: 0.746526600024022\n"
     ]
    },
    {
     "name": "stderr",
     "output_type": "stream",
     "text": [
      "100%|█████████████████████████████████████████| 655/655 [00:13<00:00, 47.36it/s]\n"
     ]
    },
    {
     "name": "stdout",
     "output_type": "stream",
     "text": [
      "Epoch: 756, loss: 0.06093135198217995, f1: 0.2080721572018763, precision: 0.12062626032315138, recall: 0.7564403639722417\n",
      "val_loss: 0.06732722617890857, val_f1: 0.19831585690000667, val_precision: 0.11380705919219267, val_recall: 0.7703441542769791\n"
     ]
    },
    {
     "name": "stderr",
     "output_type": "stream",
     "text": [
      "100%|█████████████████████████████████████████| 655/655 [00:13<00:00, 47.38it/s]\n"
     ]
    },
    {
     "name": "stdout",
     "output_type": "stream",
     "text": [
      "Epoch: 757, loss: 0.06085772036596109, f1: 0.20763810794631465, precision: 0.12019000054401069, recall: 0.7622046837369905\n",
      "val_loss: 0.06781273197228892, val_f1: 0.2031590864982513, val_precision: 0.1184061198375709, val_recall: 0.7148001560377418\n"
     ]
    },
    {
     "name": "stderr",
     "output_type": "stream",
     "text": [
      "100%|█████████████████████████████████████████| 655/655 [00:13<00:00, 47.32it/s]\n"
     ]
    },
    {
     "name": "stdout",
     "output_type": "stream",
     "text": [
      "Epoch: 758, loss: 0.06170837157868019, f1: 0.20794960612402383, precision: 0.12075425372956648, recall: 0.748260476411754\n",
      "val_loss: 0.06777066611813022, val_f1: 0.20032989931590212, val_precision: 0.11503108807865085, val_recall: 0.7750555537982818\n"
     ]
    },
    {
     "name": "stderr",
     "output_type": "stream",
     "text": [
      "100%|█████████████████████████████████████████| 655/655 [00:13<00:00, 47.36it/s]\n"
     ]
    },
    {
     "name": "stdout",
     "output_type": "stream",
     "text": [
      "Epoch: 759, loss: 0.061352093760208545, f1: 0.2076998957369738, precision: 0.1202238499074961, recall: 0.7625085648917059\n",
      "val_loss: 0.06770235997274382, val_f1: 0.20753904915826632, val_precision: 0.12031319187185087, val_recall: 0.7546599251688073\n"
     ]
    },
    {
     "name": "stderr",
     "output_type": "stream",
     "text": [
      "100%|█████████████████████████████████████████| 655/655 [00:13<00:00, 47.38it/s]\n"
     ]
    },
    {
     "name": "stdout",
     "output_type": "stream",
     "text": [
      "Epoch: 760, loss: 0.06143147444196102, f1: 0.2092671125237582, precision: 0.12112209183085738, recall: 0.7686210310868634\n",
      "val_loss: 0.06745891385805716, val_f1: 0.19798584428567628, val_precision: 0.11409877923342886, val_recall: 0.7477213309718929\n"
     ]
    },
    {
     "name": "stderr",
     "output_type": "stream",
     "text": [
      "100%|█████████████████████████████████████████| 655/655 [00:13<00:00, 47.37it/s]\n"
     ]
    },
    {
     "name": "stdout",
     "output_type": "stream",
     "text": [
      "Epoch: 761, loss: 0.061024669274947256, f1: 0.20445610814401044, precision: 0.11823816073681619, recall: 0.7549766745617371\n",
      "val_loss: 0.06780769311985292, val_f1: 0.1983850862620909, val_precision: 0.11471350307772876, val_recall: 0.7331198676395307\n"
     ]
    },
    {
     "name": "stderr",
     "output_type": "stream",
     "text": [
      "100%|█████████████████████████████████████████| 655/655 [00:13<00:00, 47.32it/s]\n"
     ]
    },
    {
     "name": "stdout",
     "output_type": "stream",
     "text": [
      "Epoch: 762, loss: 0.06093570796758619, f1: 0.20765685436320191, precision: 0.12025066575902792, recall: 0.7602762214441335\n",
      "val_loss: 0.0677525337631686, val_f1: 0.1983887754455957, val_precision: 0.11422209670647569, val_recall: 0.7539533111480398\n"
     ]
    },
    {
     "name": "stderr",
     "output_type": "stream",
     "text": [
      "100%|█████████████████████████████████████████| 655/655 [00:13<00:00, 47.31it/s]\n"
     ]
    },
    {
     "name": "stdout",
     "output_type": "stream",
     "text": [
      "Epoch: 763, loss: 0.06070553488360797, f1: 0.2090339715389083, precision: 0.12106026597107754, recall: 0.7648334515003757\n",
      "val_loss: 0.067456295282298, val_f1: 0.1999337451045271, val_precision: 0.11484130577893432, val_recall: 0.7718160419015709\n"
     ]
    },
    {
     "name": "stderr",
     "output_type": "stream",
     "text": [
      "100%|█████████████████████████████████████████| 655/655 [00:13<00:00, 47.33it/s]\n"
     ]
    },
    {
     "name": "stdout",
     "output_type": "stream",
     "text": [
      "Epoch: 764, loss: 0.0608234086393855, f1: 0.2070528689074102, precision: 0.11978167487621194, recall: 0.7628659675594505\n",
      "val_loss: 0.06756305287166085, val_f1: 0.20562184555338237, val_precision: 0.11884467124750991, val_recall: 0.7620507668737971\n"
     ]
    },
    {
     "name": "stderr",
     "output_type": "stream",
     "text": [
      "100%|█████████████████████████████████████████| 655/655 [00:13<00:00, 47.37it/s]\n"
     ]
    },
    {
     "name": "stdout",
     "output_type": "stream",
     "text": [
      "Epoch: 765, loss: 0.06084437121900211, f1: 0.20771277144721056, precision: 0.12016297330162737, recall: 0.7653159831998912\n",
      "val_loss: 0.0680274843161396, val_f1: 0.200123915130145, val_precision: 0.11517078681515718, val_recall: 0.7627470131724252\n"
     ]
    },
    {
     "name": "stderr",
     "output_type": "stream",
     "text": [
      "100%|█████████████████████████████████████████| 655/655 [00:13<00:00, 47.32it/s]\n"
     ]
    },
    {
     "name": "stdout",
     "output_type": "stream",
     "text": [
      "Epoch: 766, loss: 0.06165613800941305, f1: 0.2061748697984023, precision: 0.11916328056836288, recall: 0.7641425017864649\n",
      "val_loss: 0.0665478172430068, val_f1: 0.206830523967662, val_precision: 0.11949087325654445, val_recall: 0.7686911404406259\n"
     ]
    },
    {
     "name": "stderr",
     "output_type": "stream",
     "text": [
      "100%|█████████████████████████████████████████| 655/655 [00:13<00:00, 47.36it/s]\n"
     ]
    },
    {
     "name": "stdout",
     "output_type": "stream",
     "text": [
      "Epoch: 767, loss: 0.06094076116107234, f1: 0.20723013082025923, precision: 0.11976514702897434, recall: 0.7683845714303373\n",
      "val_loss: 0.06861702286757938, val_f1: 0.20210723544331455, val_precision: 0.1177727192482236, val_recall: 0.7118420406765894\n"
     ]
    },
    {
     "name": "stderr",
     "output_type": "stream",
     "text": [
      "100%|█████████████████████████████████████████| 655/655 [00:13<00:00, 47.32it/s]\n"
     ]
    },
    {
     "name": "stdout",
     "output_type": "stream",
     "text": [
      "Epoch: 768, loss: 0.06094380689372543, f1: 0.20960818350558252, precision: 0.12144940973878021, recall: 0.7646832035470554\n",
      "val_loss: 0.06818594515255284, val_f1: 0.1941563051146761, val_precision: 0.11112341941590634, val_recall: 0.7680634601947365\n"
     ]
    },
    {
     "name": "stderr",
     "output_type": "stream",
     "text": [
      "100%|█████████████████████████████████████████| 655/655 [00:13<00:00, 47.32it/s]\n"
     ]
    },
    {
     "name": "stdout",
     "output_type": "stream",
     "text": [
      "Epoch: 769, loss: 0.061007628060934196, f1: 0.2056696643810499, precision: 0.11875991241451893, recall: 0.7668818927334465\n",
      "val_loss: 0.0674439789898215, val_f1: 0.20211274051109873, val_precision: 0.11655444807774566, val_recall: 0.7600019560494554\n"
     ]
    },
    {
     "name": "stderr",
     "output_type": "stream",
     "text": [
      "100%|█████████████████████████████████████████| 655/655 [00:13<00:00, 47.32it/s]\n"
     ]
    },
    {
     "name": "stdout",
     "output_type": "stream",
     "text": [
      "Epoch: 770, loss: 0.06077715382715468, f1: 0.21020614055836537, precision: 0.12168429009758562, recall: 0.7713179509148342\n",
      "val_loss: 0.06838291434895828, val_f1: 0.19065809474226975, val_precision: 0.10818245443899971, val_recall: 0.8023499348841676\n"
     ]
    },
    {
     "name": "stderr",
     "output_type": "stream",
     "text": [
      "100%|█████████████████████████████████████████| 655/655 [00:13<00:00, 47.38it/s]\n"
     ]
    },
    {
     "name": "stdout",
     "output_type": "stream",
     "text": [
      "Epoch: 771, loss: 0.06095040415961096, f1: 0.20842392599277687, precision: 0.12077421665774615, recall: 0.7599278730176787\n",
      "val_loss: 0.06749754441782423, val_f1: 0.20166652296974263, val_precision: 0.11625835733112255, val_recall: 0.7599764345982752\n"
     ]
    },
    {
     "name": "stderr",
     "output_type": "stream",
     "text": [
      "100%|█████████████████████████████████████████| 655/655 [00:13<00:00, 47.37it/s]\n"
     ]
    },
    {
     "name": "stdout",
     "output_type": "stream",
     "text": [
      "Epoch: 772, loss: 0.061360634738252366, f1: 0.2021050328329047, precision: 0.11657684936280582, recall: 0.7588335050995113\n",
      "val_loss: 0.06875545068413293, val_f1: 0.197062167922558, val_precision: 0.11352780380141024, val_recall: 0.7458976154480506\n"
     ]
    },
    {
     "name": "stderr",
     "output_type": "stream",
     "text": [
      "100%|█████████████████████████████████████████| 655/655 [00:13<00:00, 47.20it/s]\n"
     ]
    },
    {
     "name": "stdout",
     "output_type": "stream",
     "text": [
      "Epoch: 773, loss: 0.06079896405012212, f1: 0.21399519827555272, precision: 0.12422582372056164, recall: 0.7715168109831919\n",
      "val_loss: 0.06798089294771262, val_f1: 0.20386876615875793, val_precision: 0.11754443750656936, val_recall: 0.7675706563056062\n"
     ]
    },
    {
     "name": "stderr",
     "output_type": "stream",
     "text": [
      "100%|█████████████████████████████████████████| 655/655 [00:13<00:00, 47.36it/s]\n"
     ]
    },
    {
     "name": "stdout",
     "output_type": "stream",
     "text": [
      "Epoch: 774, loss: 0.06110937219141549, f1: 0.20686880211423578, precision: 0.1197426006553396, recall: 0.7594648388505892\n",
      "val_loss: 0.06776603327961553, val_f1: 0.20403601546410408, val_precision: 0.11901307959588023, val_recall: 0.7144116466061785\n"
     ]
    },
    {
     "name": "stderr",
     "output_type": "stream",
     "text": [
      "100%|█████████████████████████████████████████| 655/655 [00:13<00:00, 47.34it/s]\n"
     ]
    },
    {
     "name": "stdout",
     "output_type": "stream",
     "text": [
      "Epoch: 775, loss: 0.061504356672575, f1: 0.20460883161408297, precision: 0.11863080019074428, recall: 0.7433645089448409\n",
      "val_loss: 0.06802661119695377, val_f1: 0.1956431728921095, val_precision: 0.11332458750464432, val_recall: 0.7150609673026505\n"
     ]
    },
    {
     "name": "stderr",
     "output_type": "stream",
     "text": [
      "100%|█████████████████████████████████████████| 655/655 [00:13<00:00, 47.38it/s]\n"
     ]
    },
    {
     "name": "stdout",
     "output_type": "stream",
     "text": [
      "Epoch: 776, loss: 0.06098834011305607, f1: 0.20878821287575008, precision: 0.1209276998131216, recall: 0.7635447950763556\n",
      "val_loss: 0.0677588667993972, val_f1: 0.20335570345157364, val_precision: 0.11704023583117154, val_recall: 0.7746453716530712\n"
     ]
    },
    {
     "name": "stderr",
     "output_type": "stream",
     "text": [
      "100%|█████████████████████████████████████████| 655/655 [00:13<00:00, 47.29it/s]\n"
     ]
    },
    {
     "name": "stdout",
     "output_type": "stream",
     "text": [
      "Epoch: 777, loss: 0.061459194354087344, f1: 0.2028466252453139, precision: 0.1172816144823246, recall: 0.7500859774137272\n",
      "val_loss: 0.06798151787370443, val_f1: 0.19657970762376167, val_precision: 0.11296347908487697, val_recall: 0.7566748938155831\n"
     ]
    },
    {
     "name": "stderr",
     "output_type": "stream",
     "text": [
      "100%|█████████████████████████████████████████| 655/655 [00:13<00:00, 47.31it/s]\n"
     ]
    },
    {
     "name": "stdout",
     "output_type": "stream",
     "text": [
      "Epoch: 778, loss: 0.06100924215744481, f1: 0.20824382497331498, precision: 0.12055725850776293, recall: 0.7637595401920435\n",
      "val_loss: 0.06812786810322229, val_f1: 0.2044446224971141, val_precision: 0.11800216258195904, val_recall: 0.7644212569938887\n"
     ]
    },
    {
     "name": "stderr",
     "output_type": "stream",
     "text": [
      "100%|█████████████████████████████████████████| 655/655 [00:13<00:00, 47.40it/s]\n"
     ]
    },
    {
     "name": "stdout",
     "output_type": "stream",
     "text": [
      "Epoch: 779, loss: 0.06150496391195605, f1: 0.2091419393208141, precision: 0.12101227921000078, recall: 0.7696693100774561\n",
      "val_loss: 0.0676100568914222, val_f1: 0.19823976604368976, val_precision: 0.113762423622533, val_recall: 0.7700930070302902\n"
     ]
    },
    {
     "name": "stderr",
     "output_type": "stream",
     "text": [
      "100%|█████████████████████████████████████████| 655/655 [00:13<00:00, 47.36it/s]\n"
     ]
    },
    {
     "name": "stdout",
     "output_type": "stream",
     "text": [
      "Epoch: 780, loss: 0.0610208451314225, f1: 0.2083748647234255, precision: 0.12063245588401687, recall: 0.764266820354316\n",
      "val_loss: 0.0667819013485873, val_f1: 0.2039702127530405, val_precision: 0.11765762801077045, val_recall: 0.7656282753162428\n"
     ]
    },
    {
     "name": "stderr",
     "output_type": "stream",
     "text": [
      "100%|█████████████████████████████████████████| 655/655 [00:13<00:00, 47.39it/s]\n"
     ]
    },
    {
     "name": "stdout",
     "output_type": "stream",
     "text": [
      "Epoch: 781, loss: 0.060495945046307474, f1: 0.2118365042662591, precision: 0.12281823826790254, recall: 0.7697457869885532\n",
      "val_loss: 0.06679818293489857, val_f1: 0.2047692526754942, val_precision: 0.1184626034153369, val_recall: 0.7543703618399594\n"
     ]
    },
    {
     "name": "stderr",
     "output_type": "stream",
     "text": [
      "100%|█████████████████████████████████████████| 655/655 [00:13<00:00, 47.33it/s]\n"
     ]
    },
    {
     "name": "stdout",
     "output_type": "stream",
     "text": [
      "Epoch: 782, loss: 0.06075866102518244, f1: 0.2088510672004811, precision: 0.12073098256231378, recall: 0.7732014804054762\n",
      "val_loss: 0.06743113624803516, val_f1: 0.2000534126982166, val_precision: 0.1148778743178951, val_recall: 0.7737341214210616\n"
     ]
    },
    {
     "name": "stderr",
     "output_type": "stream",
     "text": [
      "100%|█████████████████████████████████████████| 655/655 [00:13<00:00, 47.35it/s]\n"
     ]
    },
    {
     "name": "stdout",
     "output_type": "stream",
     "text": [
      "Epoch: 783, loss: 0.06151474063917426, f1: 0.20324724425030904, precision: 0.11720919382033286, recall: 0.7642467697271864\n",
      "val_loss: 0.06741985720539585, val_f1: 0.20506080377298713, val_precision: 0.11860150009940523, val_recall: 0.7566539204995567\n"
     ]
    },
    {
     "name": "stderr",
     "output_type": "stream",
     "text": [
      "100%|█████████████████████████████████████████| 655/655 [00:13<00:00, 47.27it/s]\n"
     ]
    },
    {
     "name": "stdout",
     "output_type": "stream",
     "text": [
      "Epoch: 784, loss: 0.06082239291197016, f1: 0.2062720009851819, precision: 0.1190555113104691, recall: 0.7713119714314701\n",
      "val_loss: 0.06717591830999206, val_f1: 0.20230640751717563, val_precision: 0.1169412915740128, val_recall: 0.7492348935899384\n"
     ]
    },
    {
     "name": "stderr",
     "output_type": "stream",
     "text": [
      "100%|█████████████████████████████████████████| 655/655 [00:13<00:00, 47.36it/s]\n"
     ]
    },
    {
     "name": "stdout",
     "output_type": "stream",
     "text": [
      "Epoch: 785, loss: 0.06097233391558851, f1: 0.20588116258778646, precision: 0.11887650193205772, recall: 0.7679014277822189\n",
      "val_loss: 0.06771252697350783, val_f1: 0.20042974139572586, val_precision: 0.11637437871845285, val_recall: 0.7217078206189181\n"
     ]
    },
    {
     "name": "stderr",
     "output_type": "stream",
     "text": [
      "100%|█████████████████████████████████████████| 655/655 [00:13<00:00, 47.33it/s]\n"
     ]
    },
    {
     "name": "stdout",
     "output_type": "stream",
     "text": [
      "Epoch: 786, loss: 0.06066086430756645, f1: 0.211051795201404, precision: 0.12233200935195448, recall: 0.7681250299433715\n",
      "val_loss: 0.06808848132234101, val_f1: 0.19659318383640942, val_precision: 0.11266472735314058, val_recall: 0.770772156092005\n"
     ]
    },
    {
     "name": "stderr",
     "output_type": "stream",
     "text": [
      "100%|█████████████████████████████████████████| 655/655 [00:13<00:00, 47.32it/s]\n"
     ]
    },
    {
     "name": "stdout",
     "output_type": "stream",
     "text": [
      "Epoch: 787, loss: 0.06147625268728451, f1: 0.20330203976869243, precision: 0.11747058131625407, recall: 0.75482524901856\n",
      "val_loss: 0.0686652714369494, val_f1: 0.1967684037897807, val_precision: 0.11328672404494991, val_recall: 0.7479018530030863\n"
     ]
    },
    {
     "name": "stderr",
     "output_type": "stream",
     "text": [
      "100%|█████████████████████████████████████████| 655/655 [00:13<00:00, 47.28it/s]\n"
     ]
    },
    {
     "name": "stdout",
     "output_type": "stream",
     "text": [
      "Epoch: 788, loss: 0.06084824335967539, f1: 0.20926656927997966, precision: 0.12119094273857488, recall: 0.7658454071133192\n",
      "val_loss: 0.0678537332991121, val_f1: 0.20134122823665937, val_precision: 0.1160075844419317, val_recall: 0.7614642606552587\n"
     ]
    },
    {
     "name": "stderr",
     "output_type": "stream",
     "text": [
      "100%|█████████████████████████████████████████| 655/655 [00:13<00:00, 47.33it/s]\n"
     ]
    },
    {
     "name": "stdout",
     "output_type": "stream",
     "text": [
      "Epoch: 789, loss: 0.06064275011825371, f1: 0.20812101724605633, precision: 0.12056565511907728, recall: 0.7601340222677202\n",
      "val_loss: 0.06883730762424546, val_f1: 0.19887688915891016, val_precision: 0.11475750428427933, val_recall: 0.7449091491075831\n"
     ]
    },
    {
     "name": "stderr",
     "output_type": "stream",
     "text": [
      "100%|█████████████████████████████████████████| 655/655 [00:13<00:00, 47.37it/s]\n"
     ]
    },
    {
     "name": "stdout",
     "output_type": "stream",
     "text": [
      "Epoch: 790, loss: 0.060942619913861955, f1: 0.21041951634272762, precision: 0.12192136167854298, recall: 0.7675694898225879\n",
      "val_loss: 0.06635664687107462, val_f1: 0.20298659304421351, val_precision: 0.11681980942162352, val_recall: 0.7735893764627089\n"
     ]
    },
    {
     "name": "stderr",
     "output_type": "stream",
     "text": [
      "100%|█████████████████████████████████████████| 655/655 [00:13<00:00, 47.38it/s]\n"
     ]
    },
    {
     "name": "stdout",
     "output_type": "stream",
     "text": [
      "Epoch: 791, loss: 0.060191917352605866, f1: 0.20989444703246818, precision: 0.12149865040982157, recall: 0.7703834904059199\n",
      "val_loss: 0.0682418675999234, val_f1: 0.20589369186147527, val_precision: 0.11921499942113227, val_recall: 0.7544069574513567\n"
     ]
    },
    {
     "name": "stderr",
     "output_type": "stream",
     "text": [
      "100%|█████████████████████████████████████████| 655/655 [00:13<00:00, 47.34it/s]\n"
     ]
    },
    {
     "name": "stdout",
     "output_type": "stream",
     "text": [
      "Epoch: 792, loss: 0.06092868783148645, f1: 0.20578316269663913, precision: 0.11894240935283308, recall: 0.7624636301785025\n",
      "val_loss: 0.0671970308288385, val_f1: 0.19829670109888126, val_precision: 0.11401033559130556, val_recall: 0.7605940046113565\n"
     ]
    },
    {
     "name": "stderr",
     "output_type": "stream",
     "text": [
      "100%|█████████████████████████████████████████| 655/655 [00:13<00:00, 47.28it/s]\n"
     ]
    },
    {
     "name": "stdout",
     "output_type": "stream",
     "text": [
      "Epoch: 793, loss: 0.06094690439298408, f1: 0.2076686952824808, precision: 0.12033914710885582, recall: 0.7570729265913708\n",
      "val_loss: 0.06819923743263843, val_f1: 0.1980858720018721, val_precision: 0.1142964790566662, val_recall: 0.7421396339841939\n"
     ]
    },
    {
     "name": "stderr",
     "output_type": "stream",
     "text": [
      "100%|█████████████████████████████████████████| 655/655 [00:13<00:00, 47.28it/s]\n"
     ]
    },
    {
     "name": "stdout",
     "output_type": "stream",
     "text": [
      "Epoch: 794, loss: 0.061361443549963354, f1: 0.2038271001180639, precision: 0.1182089083657408, recall: 0.7392957720478982\n",
      "val_loss: 0.06765605236292568, val_f1: 0.20039760945515123, val_precision: 0.11551717536442768, val_recall: 0.7556079671538751\n"
     ]
    },
    {
     "name": "stderr",
     "output_type": "stream",
     "text": [
      "100%|█████████████████████████████████████████| 655/655 [00:13<00:00, 47.41it/s]\n"
     ]
    },
    {
     "name": "stdout",
     "output_type": "stream",
     "text": [
      "Epoch: 795, loss: 0.061190274067734945, f1: 0.20788723524847286, precision: 0.12012160374349311, recall: 0.7717817258516341\n",
      "val_loss: 0.0680594079264807, val_f1: 0.19882959556094276, val_precision: 0.11456236413278438, val_recall: 0.7518827776433131\n"
     ]
    },
    {
     "name": "stderr",
     "output_type": "stream",
     "text": [
      "100%|█████████████████████████████████████████| 655/655 [00:13<00:00, 47.38it/s]\n"
     ]
    },
    {
     "name": "stdout",
     "output_type": "stream",
     "text": [
      "Epoch: 796, loss: 0.06163047890228625, f1: 0.20390827844914805, precision: 0.11769602643397019, recall: 0.7622718232961101\n",
      "val_loss: 0.06703748154975132, val_f1: 0.20194806694518902, val_precision: 0.11679385944457571, val_recall: 0.7454662961423943\n"
     ]
    },
    {
     "name": "stderr",
     "output_type": "stream",
     "text": [
      "100%|█████████████████████████████████████████| 655/655 [00:13<00:00, 47.31it/s]\n"
     ]
    },
    {
     "name": "stdout",
     "output_type": "stream",
     "text": [
      "Epoch: 797, loss: 0.060233450887018036, f1: 0.2117724272384798, precision: 0.1228225025170632, recall: 0.7678901686923194\n",
      "val_loss: 0.06771526207139186, val_f1: 0.20217709520512955, val_precision: 0.11686186697077725, val_recall: 0.7489480258674797\n"
     ]
    },
    {
     "name": "stderr",
     "output_type": "stream",
     "text": [
      "100%|█████████████████████████████████████████| 655/655 [00:13<00:00, 47.36it/s]\n"
     ]
    },
    {
     "name": "stdout",
     "output_type": "stream",
     "text": [
      "Epoch: 798, loss: 0.06130664019013634, f1: 0.20774656599712302, precision: 0.12011030749453389, recall: 0.7683828994973015\n",
      "val_loss: 0.0684603523856046, val_f1: 0.20003557290266974, val_precision: 0.11498372741214452, val_recall: 0.7684393466339199\n"
     ]
    },
    {
     "name": "stderr",
     "output_type": "stream",
     "text": [
      "100%|█████████████████████████████████████████| 655/655 [00:13<00:00, 47.32it/s]\n"
     ]
    },
    {
     "name": "stdout",
     "output_type": "stream",
     "text": [
      "Epoch: 799, loss: 0.0608621283556773, f1: 0.20934446831727527, precision: 0.12113492497570016, recall: 0.7701938506130499\n",
      "val_loss: 0.06782923201782577, val_f1: 0.20385786981675671, val_precision: 0.1176405689986679, val_recall: 0.7631910106320994\n"
     ]
    },
    {
     "name": "stderr",
     "output_type": "stream",
     "text": [
      "100%|█████████████████████████████████████████| 655/655 [00:13<00:00, 47.40it/s]\n"
     ]
    },
    {
     "name": "stdout",
     "output_type": "stream",
     "text": [
      "Epoch: 800, loss: 0.060388143465398114, f1: 0.20690366479029004, precision: 0.11977850939253815, recall: 0.7589607046305679\n",
      "val_loss: 0.0680738939570451, val_f1: 0.19897065791164859, val_precision: 0.1168686239382064, val_recall: 0.6688440545299731\n"
     ]
    },
    {
     "name": "stderr",
     "output_type": "stream",
     "text": [
      "100%|█████████████████████████████████████████| 655/655 [00:13<00:00, 47.32it/s]\n"
     ]
    },
    {
     "name": "stdout",
     "output_type": "stream",
     "text": [
      "Epoch: 801, loss: 0.060878052117430984, f1: 0.20884786624436702, precision: 0.12075607925440178, recall: 0.7720862060671544\n",
      "val_loss: 0.0686592462412808, val_f1: 0.19594736948164412, val_precision: 0.11154164631483615, val_recall: 0.8054375767434409\n"
     ]
    },
    {
     "name": "stderr",
     "output_type": "stream",
     "text": [
      "100%|█████████████████████████████████████████| 655/655 [00:13<00:00, 47.38it/s]\n"
     ]
    },
    {
     "name": "stdout",
     "output_type": "stream",
     "text": [
      "Epoch: 802, loss: 0.061340581938510635, f1: 0.20464849976067073, precision: 0.11814268443960953, recall: 0.7642261640261148\n",
      "val_loss: 0.06774293816725321, val_f1: 0.19645507237786733, val_precision: 0.11291739760274323, val_recall: 0.75505121845171\n"
     ]
    },
    {
     "name": "stderr",
     "output_type": "stream",
     "text": [
      "100%|█████████████████████████████████████████| 655/655 [00:13<00:00, 47.31it/s]\n"
     ]
    },
    {
     "name": "stdout",
     "output_type": "stream",
     "text": [
      "Epoch: 803, loss: 0.06092471559567533, f1: 0.20946457424504591, precision: 0.12129182063597646, recall: 0.7671212340697987\n",
      "val_loss: 0.06764687920724033, val_f1: 0.1982603766619555, val_precision: 0.11467223427976149, val_recall: 0.7314017869942232\n"
     ]
    },
    {
     "name": "stderr",
     "output_type": "stream",
     "text": [
      "100%|█████████████████████████████████████████| 655/655 [00:13<00:00, 47.31it/s]\n"
     ]
    },
    {
     "name": "stdout",
     "output_type": "stream",
     "text": [
      "Epoch: 804, loss: 0.06006107351934637, f1: 0.20858947647193762, precision: 0.12063595061723627, recall: 0.7699364403276953\n",
      "val_loss: 0.06935563563890414, val_f1: 0.20158626057461043, val_precision: 0.11593069656487179, val_recall: 0.7719218260651335\n"
     ]
    },
    {
     "name": "stderr",
     "output_type": "stream",
     "text": [
      "100%|█████████████████████████████████████████| 655/655 [00:13<00:00, 47.35it/s]\n"
     ]
    },
    {
     "name": "stdout",
     "output_type": "stream",
     "text": [
      "Epoch: 805, loss: 0.061161531934530174, f1: 0.20975318106165544, precision: 0.12129787725844342, recall: 0.7746839828391111\n",
      "val_loss: 0.0673052204106379, val_f1: 0.19706604854198023, val_precision: 0.113124562828981, val_recall: 0.7639019867969216\n"
     ]
    },
    {
     "name": "stderr",
     "output_type": "stream",
     "text": [
      "100%|█████████████████████████████████████████| 655/655 [00:13<00:00, 47.34it/s]\n"
     ]
    },
    {
     "name": "stdout",
     "output_type": "stream",
     "text": [
      "Epoch: 806, loss: 0.06106029111067302, f1: 0.20925014348038432, precision: 0.12116324986679522, recall: 0.766512103845145\n",
      "val_loss: 0.0680187533677923, val_f1: 0.20185669495019098, val_precision: 0.1163825963179521, val_recall: 0.7600694954942125\n"
     ]
    },
    {
     "name": "stderr",
     "output_type": "stream",
     "text": [
      "100%|█████████████████████████████████████████| 655/655 [00:13<00:00, 47.33it/s]\n"
     ]
    },
    {
     "name": "stdout",
     "output_type": "stream",
     "text": [
      "Epoch: 807, loss: 0.0608186803889713, f1: 0.2104206218276996, precision: 0.1220693105184793, recall: 0.7617860142283768\n",
      "val_loss: 0.06798367964428499, val_f1: 0.1974590249752723, val_precision: 0.11400712151379419, val_recall: 0.7367558305690048\n"
     ]
    },
    {
     "name": "stderr",
     "output_type": "stream",
     "text": [
      "100%|█████████████████████████████████████████| 655/655 [00:13<00:00, 47.22it/s]\n"
     ]
    },
    {
     "name": "stdout",
     "output_type": "stream",
     "text": [
      "Epoch: 808, loss: 0.06117147461205568, f1: 0.20747676115979938, precision: 0.11989275805922296, recall: 0.7699139493453594\n",
      "val_loss: 0.0681481026625688, val_f1: 0.1928023730599589, val_precision: 0.11007620863736085, val_recall: 0.7759751346680003\n"
     ]
    },
    {
     "name": "stderr",
     "output_type": "stream",
     "text": [
      "100%|█████████████████████████████████████████| 655/655 [00:13<00:00, 47.35it/s]\n"
     ]
    },
    {
     "name": "stdout",
     "output_type": "stream",
     "text": [
      "Epoch: 809, loss: 0.061145765866856765, f1: 0.20790038721086654, precision: 0.11984456256956204, recall: 0.7837911344439019\n",
      "val_loss: 0.06678113331078389, val_f1: 0.20049298653471564, val_precision: 0.11532458913333099, val_recall: 0.7667337939006473\n"
     ]
    },
    {
     "name": "stderr",
     "output_type": "stream",
     "text": [
      "100%|█████████████████████████████████████████| 655/655 [00:13<00:00, 47.38it/s]\n"
     ]
    },
    {
     "name": "stdout",
     "output_type": "stream",
     "text": [
      "Epoch: 810, loss: 0.060456133285494706, f1: 0.20838204595484014, precision: 0.12058515359739994, recall: 0.7663651583872678\n",
      "val_loss: 0.06866784147713162, val_f1: 0.20165353403928687, val_precision: 0.11834279220303469, val_recall: 0.6812116911788599\n"
     ]
    },
    {
     "name": "stderr",
     "output_type": "stream",
     "text": [
      "100%|█████████████████████████████████████████| 655/655 [00:13<00:00, 47.35it/s]\n"
     ]
    },
    {
     "name": "stdout",
     "output_type": "stream",
     "text": [
      "Epoch: 811, loss: 0.06114196871186941, f1: 0.20828280452085188, precision: 0.12049944799336541, recall: 0.7671442964832291\n",
      "val_loss: 0.06778022457221779, val_f1: 0.1979301042330778, val_precision: 0.11322386545308549, val_recall: 0.7858441990176472\n"
     ]
    },
    {
     "name": "stderr",
     "output_type": "stream",
     "text": [
      "100%|█████████████████████████████████████████| 655/655 [00:13<00:00, 47.32it/s]\n"
     ]
    },
    {
     "name": "stdout",
     "output_type": "stream",
     "text": [
      "Epoch: 812, loss: 0.060660509082652234, f1: 0.2086845521863915, precision: 0.12090233195402468, recall: 0.7617863494590038\n",
      "val_loss: 0.06778440873540185, val_f1: 0.2037308202924316, val_precision: 0.11718866792550191, val_recall: 0.7790426745190533\n"
     ]
    },
    {
     "name": "stderr",
     "output_type": "stream",
     "text": [
      "100%|█████████████████████████████████████████| 655/655 [00:13<00:00, 47.33it/s]\n"
     ]
    },
    {
     "name": "stdout",
     "output_type": "stream",
     "text": [
      "Epoch: 813, loss: 0.06060719772576148, f1: 0.20780386402461745, precision: 0.12024893478867207, recall: 0.7643050422081511\n",
      "val_loss: 0.0681700735617805, val_f1: 0.20254570893497817, val_precision: 0.11718438127838554, val_recall: 0.7458490270676963\n"
     ]
    },
    {
     "name": "stderr",
     "output_type": "stream",
     "text": [
      "100%|█████████████████████████████████████████| 655/655 [00:13<00:00, 47.34it/s]\n"
     ]
    },
    {
     "name": "stdout",
     "output_type": "stream",
     "text": [
      "Epoch: 814, loss: 0.06070681266941642, f1: 0.20969511245944605, precision: 0.12166317685130443, recall: 0.7585855475136342\n",
      "val_loss: 0.06800530386080436, val_f1: 0.19947982696068295, val_precision: 0.11487461765373655, val_recall: 0.7570405271622019\n"
     ]
    },
    {
     "name": "stderr",
     "output_type": "stream",
     "text": [
      "100%|█████████████████████████████████████████| 655/655 [00:13<00:00, 47.35it/s]\n"
     ]
    },
    {
     "name": "stdout",
     "output_type": "stream",
     "text": [
      "Epoch: 815, loss: 0.06088859631132534, f1: 0.20820907412881043, precision: 0.12026857304820464, recall: 0.7745902157808078\n",
      "val_loss: 0.06817279295534442, val_f1: 0.19627362864651268, val_precision: 0.11261110758374727, val_recall: 0.7635119143155736\n"
     ]
    },
    {
     "name": "stderr",
     "output_type": "stream",
     "text": [
      "100%|█████████████████████████████████████████| 655/655 [00:13<00:00, 47.23it/s]\n"
     ]
    },
    {
     "name": "stdout",
     "output_type": "stream",
     "text": [
      "Epoch: 816, loss: 0.06083077642753834, f1: 0.20771853768806836, precision: 0.11990318533232194, recall: 0.7761856133928736\n",
      "val_loss: 0.06739289432319753, val_f1: 0.1994335703982312, val_precision: 0.11518786075618972, val_recall: 0.7424282252515128\n"
     ]
    },
    {
     "name": "stderr",
     "output_type": "stream",
     "text": [
      "100%|█████████████████████████████████████████| 655/655 [00:13<00:00, 47.25it/s]\n"
     ]
    },
    {
     "name": "stdout",
     "output_type": "stream",
     "text": [
      "Epoch: 817, loss: 0.061277130384083466, f1: 0.2070701298564729, precision: 0.11994690310764518, recall: 0.7566922282217113\n",
      "val_loss: 0.06773733521102492, val_f1: 0.1998667633352212, val_precision: 0.1151685418108256, val_recall: 0.7554355672466646\n"
     ]
    },
    {
     "name": "stderr",
     "output_type": "stream",
     "text": [
      "100%|█████████████████████████████████████████| 655/655 [00:13<00:00, 47.36it/s]\n"
     ]
    },
    {
     "name": "stdout",
     "output_type": "stream",
     "text": [
      "Epoch: 818, loss: 0.06064072340470916, f1: 0.20767082969572545, precision: 0.12035383974017135, recall: 0.7565485789006903\n",
      "val_loss: 0.06785044077476231, val_f1: 0.20639967299865736, val_precision: 0.11906148442024485, val_recall: 0.7746437057989453\n"
     ]
    },
    {
     "name": "stderr",
     "output_type": "stream",
     "text": [
      "100%|█████████████████████████████████████████| 655/655 [00:13<00:00, 47.29it/s]\n"
     ]
    },
    {
     "name": "stdout",
     "output_type": "stream",
     "text": [
      "Epoch: 819, loss: 0.06031654438127548, f1: 0.21148677990563505, precision: 0.12260948861984693, recall: 0.7687102526198817\n",
      "val_loss: 0.06840913633841576, val_f1: 0.2014154017637728, val_precision: 0.11676503389373148, val_recall: 0.7323219925848716\n"
     ]
    },
    {
     "name": "stderr",
     "output_type": "stream",
     "text": [
      "100%|█████████████████████████████████████████| 655/655 [00:13<00:00, 47.30it/s]\n"
     ]
    },
    {
     "name": "stdout",
     "output_type": "stream",
     "text": [
      "Epoch: 820, loss: 0.060996819247726264, f1: 0.20758908326314826, precision: 0.11999363825862644, recall: 0.7688505704052576\n",
      "val_loss: 0.06790974093900157, val_f1: 0.2014764411273454, val_precision: 0.11655425697718876, val_recall: 0.7423774288334978\n"
     ]
    },
    {
     "name": "stderr",
     "output_type": "stream",
     "text": [
      "100%|█████████████████████████████████████████| 655/655 [00:13<00:00, 47.40it/s]\n"
     ]
    },
    {
     "name": "stdout",
     "output_type": "stream",
     "text": [
      "Epoch: 821, loss: 0.060716652652632645, f1: 0.21094340683588467, precision: 0.12223726301418461, recall: 0.7689914719066547\n",
      "val_loss: 0.06743517277523055, val_f1: 0.20360979894618467, val_precision: 0.11763128957395023, val_recall: 0.756675497927797\n"
     ]
    },
    {
     "name": "stderr",
     "output_type": "stream",
     "text": [
      "100%|█████████████████████████████████████████| 655/655 [00:13<00:00, 47.31it/s]\n"
     ]
    },
    {
     "name": "stdout",
     "output_type": "stream",
     "text": [
      "Epoch: 822, loss: 0.06104855233703861, f1: 0.2055494229899354, precision: 0.11855032260579462, recall: 0.7723298398934247\n",
      "val_loss: 0.06748644769225919, val_f1: 0.19935524346296826, val_precision: 0.11465370590123561, val_recall: 0.763110610049799\n"
     ]
    },
    {
     "name": "stderr",
     "output_type": "stream",
     "text": [
      "100%|█████████████████████████████████████████| 655/655 [00:13<00:00, 47.38it/s]\n"
     ]
    },
    {
     "name": "stdout",
     "output_type": "stream",
     "text": [
      "Epoch: 823, loss: 0.06067374904670511, f1: 0.20955101640855345, precision: 0.12138580206198661, recall: 0.7656853761154276\n",
      "val_loss: 0.06694477239897081, val_f1: 0.20150704641341646, val_precision: 0.11663091484747759, val_recall: 0.7401074339900542\n"
     ]
    },
    {
     "name": "stderr",
     "output_type": "stream",
     "text": [
      "100%|█████████████████████████████████████████| 655/655 [00:13<00:00, 47.21it/s]\n"
     ]
    },
    {
     "name": "stdout",
     "output_type": "stream",
     "text": [
      "Epoch: 824, loss: 0.061110648763088776, f1: 0.20408668055627394, precision: 0.11823764339174705, recall: 0.7450375600398041\n",
      "val_loss: 0.06763910983663497, val_f1: 0.19814642062323803, val_precision: 0.11462878284617029, val_recall: 0.7300690145257416\n"
     ]
    },
    {
     "name": "stderr",
     "output_type": "stream",
     "text": [
      "100%|█████████████████████████████████████████| 655/655 [00:13<00:00, 47.26it/s]\n"
     ]
    },
    {
     "name": "stdout",
     "output_type": "stream",
     "text": [
      "Epoch: 825, loss: 0.06129985897520109, f1: 0.20330139960101865, precision: 0.11761726407504833, recall: 0.7488071319711117\n",
      "val_loss: 0.06825278989047906, val_f1: 0.1995976817271449, val_precision: 0.11535404945740801, val_recall: 0.7400865347013561\n"
     ]
    },
    {
     "name": "stderr",
     "output_type": "stream",
     "text": [
      "100%|█████████████████████████████████████████| 655/655 [00:13<00:00, 47.34it/s]\n"
     ]
    },
    {
     "name": "stdout",
     "output_type": "stream",
     "text": [
      "Epoch: 826, loss: 0.061429209695801935, f1: 0.2055247986968735, precision: 0.11860938624493095, recall: 0.7691421211732707\n",
      "val_loss: 0.06747980945991404, val_f1: 0.2018344211017046, val_precision: 0.1163558584185095, val_recall: 0.7605788255230003\n"
     ]
    },
    {
     "name": "stderr",
     "output_type": "stream",
     "text": [
      "100%|█████████████████████████████████████████| 655/655 [00:13<00:00, 47.26it/s]\n"
     ]
    },
    {
     "name": "stdout",
     "output_type": "stream",
     "text": [
      "Epoch: 827, loss: 0.06091776208113168, f1: 0.20727292048038248, precision: 0.11972059803865566, recall: 0.7714071561703245\n",
      "val_loss: 0.06808443017167236, val_f1: 0.20468146879744104, val_precision: 0.11892139953091194, val_recall: 0.7340178012574484\n"
     ]
    },
    {
     "name": "stderr",
     "output_type": "stream",
     "text": [
      "100%|█████████████████████████████████████████| 655/655 [00:13<00:00, 47.31it/s]\n"
     ]
    },
    {
     "name": "stdout",
     "output_type": "stream",
     "text": [
      "Epoch: 828, loss: 0.06115701389961115, f1: 0.2071592607559198, precision: 0.11982883598392417, recall: 0.7638420511634295\n",
      "val_loss: 0.0686873081695596, val_f1: 0.19952316360752195, val_precision: 0.1146195767396087, val_recall: 0.7695944392626438\n"
     ]
    },
    {
     "name": "stderr",
     "output_type": "stream",
     "text": [
      "100%|█████████████████████████████████████████| 655/655 [00:13<00:00, 47.39it/s]\n"
     ]
    },
    {
     "name": "stdout",
     "output_type": "stream",
     "text": [
      "Epoch: 829, loss: 0.061571447625187514, f1: 0.20472322445373203, precision: 0.11837008084732158, recall: 0.7568839095248521\n",
      "val_loss: 0.06712700168542358, val_f1: 0.2065650303769933, val_precision: 0.1195887597363203, val_recall: 0.7574661264042242\n"
     ]
    },
    {
     "name": "stderr",
     "output_type": "stream",
     "text": [
      "100%|█████████████████████████████████████████| 655/655 [00:13<00:00, 47.35it/s]\n"
     ]
    },
    {
     "name": "stdout",
     "output_type": "stream",
     "text": [
      "Epoch: 830, loss: 0.06093780208976214, f1: 0.2097130667442122, precision: 0.12144837788419927, recall: 0.7675250258837037\n",
      "val_loss: 0.06812092574706319, val_f1: 0.19760427594665175, val_precision: 0.11336023913730585, val_recall: 0.7693471739051538\n"
     ]
    },
    {
     "name": "stderr",
     "output_type": "stream",
     "text": [
      "100%|█████████████████████████████████████████| 655/655 [00:13<00:00, 47.36it/s]\n"
     ]
    },
    {
     "name": "stdout",
     "output_type": "stream",
     "text": [
      "Epoch: 831, loss: 0.060731160667732015, f1: 0.2089114338202277, precision: 0.12092242233512056, recall: 0.7670652987051556\n",
      "val_loss: 0.06811522475418148, val_f1: 0.1977586922630896, val_precision: 0.113895091260228, val_recall: 0.7500042159007777\n"
     ]
    },
    {
     "name": "stderr",
     "output_type": "stream",
     "text": [
      "100%|█████████████████████████████████████████| 655/655 [00:13<00:00, 47.26it/s]\n"
     ]
    },
    {
     "name": "stdout",
     "output_type": "stream",
     "text": [
      "Epoch: 832, loss: 0.060497562781701444, f1: 0.20911672346907095, precision: 0.12100145681636792, recall: 0.7694241278328513\n",
      "val_loss: 0.06838285102756746, val_f1: 0.200871473660215, val_precision: 0.11565353468470617, val_recall: 0.7633001886376547\n"
     ]
    },
    {
     "name": "stderr",
     "output_type": "stream",
     "text": [
      "100%|█████████████████████████████████████████| 655/655 [00:13<00:00, 47.38it/s]\n"
     ]
    },
    {
     "name": "stdout",
     "output_type": "stream",
     "text": [
      "Epoch: 833, loss: 0.060587710119385754, f1: 0.20937624613666256, precision: 0.121266706914904, recall: 0.7657580439371007\n",
      "val_loss: 0.06789591166814533, val_f1: 0.20561948384008893, val_precision: 0.1187190720170668, val_recall: 0.7671898867285579\n"
     ]
    },
    {
     "name": "stderr",
     "output_type": "stream",
     "text": [
      "100%|█████████████████████████████████████████| 655/655 [00:13<00:00, 47.37it/s]\n"
     ]
    },
    {
     "name": "stdout",
     "output_type": "stream",
     "text": [
      "Epoch: 834, loss: 0.06121418026794914, f1: 0.20869171242968448, precision: 0.12054923204349652, recall: 0.7763081574258004\n",
      "val_loss: 0.06759349910388572, val_f1: 0.20254350847967298, val_precision: 0.11673553113253154, val_recall: 0.764497063165411\n"
     ]
    },
    {
     "name": "stderr",
     "output_type": "stream",
     "text": [
      "100%|█████████████████████████████████████████| 655/655 [00:13<00:00, 47.36it/s]\n"
     ]
    },
    {
     "name": "stdout",
     "output_type": "stream",
     "text": [
      "Epoch: 835, loss: 0.06069987839841433, f1: 0.20826420680353244, precision: 0.12053508188767457, recall: 0.7652007604259571\n",
      "val_loss: 0.06774412796174714, val_f1: 0.20399401544516052, val_precision: 0.11802089765428676, val_recall: 0.7512394593806442\n"
     ]
    },
    {
     "name": "stderr",
     "output_type": "stream",
     "text": [
      "100%|█████████████████████████████████████████| 655/655 [00:13<00:00, 47.36it/s]\n"
     ]
    },
    {
     "name": "stdout",
     "output_type": "stream",
     "text": [
      "Epoch: 836, loss: 0.06081437422131465, f1: 0.21026934803089165, precision: 0.12176569562391129, recall: 0.7697540786771374\n",
      "val_loss: 0.06806305821540706, val_f1: 0.20134042630533322, val_precision: 0.11563025774656359, val_recall: 0.7781074863234791\n"
     ]
    },
    {
     "name": "stderr",
     "output_type": "stream",
     "text": [
      "100%|█████████████████████████████████████████| 655/655 [00:13<00:00, 47.33it/s]\n"
     ]
    },
    {
     "name": "stdout",
     "output_type": "stream",
     "text": [
      "Epoch: 837, loss: 0.06060253725536452, f1: 0.20722592609943133, precision: 0.11992695565612717, recall: 0.7616766492942817\n",
      "val_loss: 0.06827109207937476, val_f1: 0.1958597724277464, val_precision: 0.11246607836694755, val_recall: 0.7576805632048791\n"
     ]
    },
    {
     "name": "stderr",
     "output_type": "stream",
     "text": [
      "100%|█████████████████████████████████████████| 655/655 [00:13<00:00, 47.33it/s]\n"
     ]
    },
    {
     "name": "stdout",
     "output_type": "stream",
     "text": [
      "Epoch: 838, loss: 0.061454977353906814, f1: 0.20259116104883926, precision: 0.11741611703693554, recall: 0.7378001178152689\n",
      "val_loss: 0.06702053577664795, val_f1: 0.20106305270347732, val_precision: 0.11651783010392629, val_recall: 0.7327344387496283\n"
     ]
    },
    {
     "name": "stderr",
     "output_type": "stream",
     "text": [
      "100%|█████████████████████████████████████████| 655/655 [00:13<00:00, 47.32it/s]\n"
     ]
    },
    {
     "name": "stdout",
     "output_type": "stream",
     "text": [
      "Epoch: 839, loss: 0.06146183076949697, f1: 0.20803447884024906, precision: 0.12018354374858486, recall: 0.7732849877412993\n",
      "val_loss: 0.06860179005088199, val_f1: 0.19725979120936926, val_precision: 0.11322697650624114, val_recall: 0.7650546672830888\n"
     ]
    },
    {
     "name": "stderr",
     "output_type": "stream",
     "text": [
      "100%|█████████████████████████████████████████| 655/655 [00:13<00:00, 47.32it/s]\n"
     ]
    },
    {
     "name": "stdout",
     "output_type": "stream",
     "text": [
      "Epoch: 840, loss: 0.06106693269862644, f1: 0.2048084593095345, precision: 0.1181575624329102, recall: 0.7680809089245687\n",
      "val_loss: 0.06755731959716169, val_f1: 0.19836165689703292, val_precision: 0.11444152489202011, val_recall: 0.7437671858373038\n"
     ]
    },
    {
     "name": "stderr",
     "output_type": "stream",
     "text": [
      "100%|█████████████████████████████████████████| 655/655 [00:13<00:00, 47.36it/s]\n"
     ]
    },
    {
     "name": "stdout",
     "output_type": "stream",
     "text": [
      "Epoch: 841, loss: 0.060278970611686924, f1: 0.20937170554782994, precision: 0.12137787698426832, recall: 0.7612346112045623\n",
      "val_loss: 0.06734057843958566, val_f1: 0.2005859474754968, val_precision: 0.11522643750858143, val_recall: 0.7738594507132102\n"
     ]
    },
    {
     "name": "stderr",
     "output_type": "stream",
     "text": [
      "100%|█████████████████████████████████████████| 655/655 [00:13<00:00, 47.35it/s]\n"
     ]
    },
    {
     "name": "stdout",
     "output_type": "stream",
     "text": [
      "Epoch: 842, loss: 0.060930412008164035, f1: 0.20637503182809805, precision: 0.11914945522835123, recall: 0.7702532922493592\n",
      "val_loss: 0.0683260931881196, val_f1: 0.1836045520488894, val_precision: 0.10360686712548, val_recall: 0.805732797728766\n"
     ]
    },
    {
     "name": "stderr",
     "output_type": "stream",
     "text": [
      "100%|█████████████████████████████████████████| 655/655 [00:13<00:00, 47.24it/s]\n"
     ]
    },
    {
     "name": "stdout",
     "output_type": "stream",
     "text": [
      "Epoch: 843, loss: 0.061497379416195756, f1: 0.20445492932608048, precision: 0.11830186921008329, recall: 0.7523575830664343\n",
      "val_loss: 0.0673320566585988, val_f1: 0.1994639233442246, val_precision: 0.11469651387850625, val_recall: 0.7644003086954082\n"
     ]
    },
    {
     "name": "stderr",
     "output_type": "stream",
     "text": [
      "100%|█████████████████████████████████████████| 655/655 [00:13<00:00, 47.29it/s]\n"
     ]
    },
    {
     "name": "stdout",
     "output_type": "stream",
     "text": [
      "Epoch: 844, loss: 0.060845939684232686, f1: 0.20801150964353682, precision: 0.12044695957798425, recall: 0.7619378952238396\n",
      "val_loss: 0.06791267208669574, val_f1: 0.19691076134049004, val_precision: 0.11486904512996862, val_recall: 0.6890280712908561\n"
     ]
    },
    {
     "name": "stderr",
     "output_type": "stream",
     "text": [
      "100%|█████████████████████████████████████████| 655/655 [00:13<00:00, 47.33it/s]\n"
     ]
    },
    {
     "name": "stdout",
     "output_type": "stream",
     "text": [
      "Epoch: 845, loss: 0.060862114998504864, f1: 0.20818630817002298, precision: 0.12068218815616752, recall: 0.7572586537089967\n",
      "val_loss: 0.06811544365770773, val_f1: 0.19602488021428394, val_precision: 0.11278829261993802, val_recall: 0.7481568840528847\n"
     ]
    },
    {
     "name": "stderr",
     "output_type": "stream",
     "text": [
      "100%|█████████████████████████████████████████| 655/655 [00:13<00:00, 47.34it/s]\n"
     ]
    },
    {
     "name": "stdout",
     "output_type": "stream",
     "text": [
      "Epoch: 846, loss: 0.06077131434478832, f1: 0.20662328511772526, precision: 0.1192542317543776, recall: 0.772794833608711\n",
      "val_loss: 0.06766655755767581, val_f1: 0.19878925168291664, val_precision: 0.11413316680716538, val_recall: 0.7696978579693978\n"
     ]
    },
    {
     "name": "stderr",
     "output_type": "stream",
     "text": [
      "100%|█████████████████████████████████████████| 655/655 [00:13<00:00, 47.36it/s]\n"
     ]
    },
    {
     "name": "stdout",
     "output_type": "stream",
     "text": [
      "Epoch: 847, loss: 0.06133062633301864, f1: 0.20923429431912371, precision: 0.12104646224272615, recall: 0.7707890127792614\n",
      "val_loss: 0.06736631817910649, val_f1: 0.1967227214281006, val_precision: 0.11295629815847844, val_recall: 0.7612595278598847\n"
     ]
    },
    {
     "name": "stderr",
     "output_type": "stream",
     "text": [
      "100%|█████████████████████████████████████████| 655/655 [00:13<00:00, 47.28it/s]\n"
     ]
    },
    {
     "name": "stdout",
     "output_type": "stream",
     "text": [
      "Epoch: 848, loss: 0.06075009980900142, f1: 0.20595407033261237, precision: 0.11897569701914455, recall: 0.765799330504796\n",
      "val_loss: 0.06888154877025053, val_f1: 0.1942208166416909, val_precision: 0.11445501382855716, val_recall: 0.6408201744523617\n"
     ]
    },
    {
     "name": "stderr",
     "output_type": "stream",
     "text": [
      "100%|█████████████████████████████████████████| 655/655 [00:13<00:00, 47.36it/s]\n"
     ]
    },
    {
     "name": "stdout",
     "output_type": "stream",
     "text": [
      "Epoch: 849, loss: 0.060816085254702404, f1: 0.21085262064306207, precision: 0.122146436911901, recall: 0.7701764752164142\n",
      "val_loss: 0.06805289353013312, val_f1: 0.20656668926343932, val_precision: 0.11914919379568838, val_recall: 0.7756362182831545\n"
     ]
    },
    {
     "name": "stderr",
     "output_type": "stream",
     "text": [
      "100%|█████████████████████████████████████████| 655/655 [00:13<00:00, 47.36it/s]\n"
     ]
    },
    {
     "name": "stdout",
     "output_type": "stream",
     "text": [
      "Epoch: 850, loss: 0.06119059497409396, f1: 0.2102243091447788, precision: 0.12152213123555913, recall: 0.7783955641488992\n",
      "val_loss: 0.06851985276070073, val_f1: 0.20123776095733095, val_precision: 0.1156059211384881, val_recall: 0.7761464471663904\n"
     ]
    },
    {
     "name": "stderr",
     "output_type": "stream",
     "text": [
      "100%|█████████████████████████████████████████| 655/655 [00:13<00:00, 47.40it/s]\n"
     ]
    },
    {
     "name": "stdout",
     "output_type": "stream",
     "text": [
      "Epoch: 851, loss: 0.06119388218485672, f1: 0.20646348246286658, precision: 0.1192609196724299, recall: 0.7680688342179051\n",
      "val_loss: 0.06740110176999908, val_f1: 0.2034891247369469, val_precision: 0.11938258053290599, val_recall: 0.6886560778825654\n"
     ]
    },
    {
     "name": "stderr",
     "output_type": "stream",
     "text": [
      "100%|█████████████████████████████████████████| 655/655 [00:13<00:00, 47.38it/s]\n"
     ]
    },
    {
     "name": "stdout",
     "output_type": "stream",
     "text": [
      "Epoch: 852, loss: 0.0605167991858516, f1: 0.2119190532352525, precision: 0.12286805904235776, recall: 0.7699687380030865\n",
      "val_loss: 0.06761937897754919, val_f1: 0.19271555708147542, val_precision: 0.10990864711326606, val_recall: 0.7815405353220231\n"
     ]
    },
    {
     "name": "stderr",
     "output_type": "stream",
     "text": [
      "100%|█████████████████████████████████████████| 655/655 [00:13<00:00, 47.34it/s]\n"
     ]
    },
    {
     "name": "stdout",
     "output_type": "stream",
     "text": [
      "Epoch: 853, loss: 0.06076142129466961, f1: 0.20716127634150108, precision: 0.11987028027820679, recall: 0.7622168766519496\n",
      "val_loss: 0.06753055008828913, val_f1: 0.20432531020595818, val_precision: 0.11859875578014607, val_recall: 0.7371799443429763\n"
     ]
    },
    {
     "name": "stderr",
     "output_type": "stream",
     "text": [
      "100%|█████████████████████████████████████████| 655/655 [00:13<00:00, 47.33it/s]\n"
     ]
    },
    {
     "name": "stdout",
     "output_type": "stream",
     "text": [
      "Epoch: 854, loss: 0.060991316039627506, f1: 0.20868145684584435, precision: 0.12088320030002564, recall: 0.7624641146198029\n",
      "val_loss: 0.06699100132484775, val_f1: 0.20571086687310688, val_precision: 0.11869374757478816, val_recall: 0.770807849021133\n"
     ]
    },
    {
     "name": "stderr",
     "output_type": "stream",
     "text": [
      "100%|█████████████████████████████████████████| 655/655 [00:13<00:00, 47.29it/s]\n"
     ]
    },
    {
     "name": "stdout",
     "output_type": "stream",
     "text": [
      "Epoch: 855, loss: 0.06085887626666604, f1: 0.20787896677709117, precision: 0.11997252949549042, recall: 0.7777612970985529\n",
      "val_loss: 0.0683588296978162, val_f1: 0.19464062113146538, val_precision: 0.11121037281161054, val_recall: 0.7791921899679604\n"
     ]
    },
    {
     "name": "stderr",
     "output_type": "stream",
     "text": [
      "100%|█████████████████████████████████████████| 655/655 [00:13<00:00, 47.35it/s]\n"
     ]
    },
    {
     "name": "stdout",
     "output_type": "stream",
     "text": [
      "Epoch: 856, loss: 0.0606435108958482, f1: 0.2091166853091563, precision: 0.12119093522543216, recall: 0.7618489587807473\n",
      "val_loss: 0.06841427869582122, val_f1: 0.198509725763498, val_precision: 0.11512468340422172, val_recall: 0.7200260802830031\n"
     ]
    },
    {
     "name": "stderr",
     "output_type": "stream",
     "text": [
      "100%|█████████████████████████████████████████| 655/655 [00:13<00:00, 47.40it/s]\n"
     ]
    },
    {
     "name": "stdout",
     "output_type": "stream",
     "text": [
      "Epoch: 857, loss: 0.061304498830338526, f1: 0.20765743379727522, precision: 0.12033115410181972, recall: 0.7570899485631754\n",
      "val_loss: 0.06806261375238863, val_f1: 0.1989663070459003, val_precision: 0.11423982355162637, val_recall: 0.7701559960842133\n"
     ]
    },
    {
     "name": "stderr",
     "output_type": "stream",
     "text": [
      "100%|█████████████████████████████████████████| 655/655 [00:13<00:00, 47.35it/s]\n"
     ]
    },
    {
     "name": "stdout",
     "output_type": "stream",
     "text": [
      "Epoch: 858, loss: 0.06122282956449585, f1: 0.20450160994661357, precision: 0.1184664947357569, recall: 0.7470107424691433\n",
      "val_loss: 0.06793624554000316, val_f1: 0.19991342039392013, val_precision: 0.11521894578317847, val_recall: 0.7546015593710296\n"
     ]
    },
    {
     "name": "stderr",
     "output_type": "stream",
     "text": [
      "100%|█████████████████████████████████████████| 655/655 [00:13<00:00, 47.36it/s]\n"
     ]
    },
    {
     "name": "stdout",
     "output_type": "stream",
     "text": [
      "Epoch: 859, loss: 0.06085702422809681, f1: 0.2075828150460464, precision: 0.12016184801193139, recall: 0.761846777682996\n",
      "val_loss: 0.06866169946456174, val_f1: 0.19635445963145984, val_precision: 0.11418974091333055, val_recall: 0.700129565432531\n"
     ]
    },
    {
     "name": "stderr",
     "output_type": "stream",
     "text": [
      "100%|█████████████████████████████████████████| 655/655 [00:13<00:00, 47.19it/s]\n"
     ]
    },
    {
     "name": "stdout",
     "output_type": "stream",
     "text": [
      "Epoch: 860, loss: 0.06137024379896981, f1: 0.20935291095215308, precision: 0.12125983279383251, recall: 0.7654079892935644\n",
      "val_loss: 0.06706884968171425, val_f1: 0.20145656007602675, val_precision: 0.11588870919813667, val_recall: 0.7699828434974776\n"
     ]
    },
    {
     "name": "stderr",
     "output_type": "stream",
     "text": [
      "100%|█████████████████████████████████████████| 655/655 [00:13<00:00, 47.40it/s]\n"
     ]
    },
    {
     "name": "stdout",
     "output_type": "stream",
     "text": [
      "Epoch: 861, loss: 0.06106694713163808, f1: 0.20748224365646398, precision: 0.11992018020974884, recall: 0.768935603756486\n",
      "val_loss: 0.06841642738516451, val_f1: 0.19967539555530933, val_precision: 0.11508396827325293, val_recall: 0.7536084609567573\n"
     ]
    },
    {
     "name": "stderr",
     "output_type": "stream",
     "text": [
      "100%|█████████████████████████████████████████| 655/655 [00:13<00:00, 47.35it/s]\n"
     ]
    },
    {
     "name": "stdout",
     "output_type": "stream",
     "text": [
      "Epoch: 862, loss: 0.060938038055621487, f1: 0.20920347479892287, precision: 0.1208920064702175, recall: 0.7762618198365201\n",
      "val_loss: 0.06928573524015486, val_f1: 0.1861880455663136, val_precision: 0.105819330858323, val_recall: 0.7741382086495741\n"
     ]
    },
    {
     "name": "stderr",
     "output_type": "stream",
     "text": [
      "100%|█████████████████████████████████████████| 655/655 [00:13<00:00, 47.34it/s]\n"
     ]
    },
    {
     "name": "stdout",
     "output_type": "stream",
     "text": [
      "Epoch: 863, loss: 0.06120448502363594, f1: 0.201600590947434, precision: 0.11670290608925901, recall: 0.7397330979695756\n",
      "val_loss: 0.06790118346657228, val_f1: 0.2031603662676392, val_precision: 0.11875610307303316, val_recall: 0.7023359878894386\n"
     ]
    },
    {
     "name": "stderr",
     "output_type": "stream",
     "text": [
      "100%|█████████████████████████████████████████| 655/655 [00:13<00:00, 47.34it/s]\n"
     ]
    },
    {
     "name": "stdout",
     "output_type": "stream",
     "text": [
      "Epoch: 864, loss: 0.06058620828744166, f1: 0.2100337641639835, precision: 0.12180453476830179, recall: 0.7619607519784957\n",
      "val_loss: 0.0685916136898989, val_f1: 0.19854656691388936, val_precision: 0.11421727199415001, val_recall: 0.7587481474657671\n"
     ]
    },
    {
     "name": "stderr",
     "output_type": "stream",
     "text": [
      "100%|█████████████████████████████████████████| 655/655 [00:13<00:00, 47.33it/s]\n"
     ]
    },
    {
     "name": "stdout",
     "output_type": "stream",
     "text": [
      "Epoch: 865, loss: 0.06111472168979981, f1: 0.2071196689589272, precision: 0.11994138060969421, recall: 0.7582379236021115\n",
      "val_loss: 0.06739455510204265, val_f1: 0.20450542842350244, val_precision: 0.118508531410277, val_recall: 0.7454450825793207\n"
     ]
    },
    {
     "name": "stderr",
     "output_type": "stream",
     "text": [
      "100%|█████████████████████████████████████████| 655/655 [00:13<00:00, 47.32it/s]\n"
     ]
    },
    {
     "name": "stdout",
     "output_type": "stream",
     "text": [
      "Epoch: 866, loss: 0.06072732371541152, f1: 0.2078156713110827, precision: 0.12018443073807213, recall: 0.767243026822578\n",
      "val_loss: 0.06795422210776751, val_f1: 0.1968282308711445, val_precision: 0.11309744646866729, val_recall: 0.7580286194698527\n"
     ]
    },
    {
     "name": "stderr",
     "output_type": "stream",
     "text": [
      "100%|█████████████████████████████████████████| 655/655 [00:13<00:00, 47.31it/s]\n"
     ]
    },
    {
     "name": "stdout",
     "output_type": "stream",
     "text": [
      "Epoch: 867, loss: 0.0613091355274993, f1: 0.20481741639707343, precision: 0.11820454994636012, recall: 0.7663520220354313\n",
      "val_loss: 0.06735912661298836, val_f1: 0.2038281060335892, val_precision: 0.11768476102167928, val_recall: 0.7605068187374587\n"
     ]
    },
    {
     "name": "stderr",
     "output_type": "stream",
     "text": [
      "100%|█████████████████████████████████████████| 655/655 [00:13<00:00, 47.32it/s]\n"
     ]
    },
    {
     "name": "stdout",
     "output_type": "stream",
     "text": [
      "Epoch: 868, loss: 0.06075488947303468, f1: 0.20839571155211337, precision: 0.12065851526363319, recall: 0.7637821911741759\n",
      "val_loss: 0.06794560778407602, val_f1: 0.20068472082316333, val_precision: 0.11563852070958926, val_recall: 0.758585285224499\n"
     ]
    },
    {
     "name": "stderr",
     "output_type": "stream",
     "text": [
      "100%|█████████████████████████████████████████| 655/655 [00:13<00:00, 47.36it/s]\n"
     ]
    },
    {
     "name": "stdout",
     "output_type": "stream",
     "text": [
      "Epoch: 869, loss: 0.06125965285743009, f1: 0.20584414314525312, precision: 0.11903082444368086, recall: 0.7605119484299012\n",
      "val_loss: 0.06738502019509338, val_f1: 0.2007863733728432, val_precision: 0.11590777436237133, val_recall: 0.7500264314473222\n"
     ]
    },
    {
     "name": "stderr",
     "output_type": "stream",
     "text": [
      "100%|█████████████████████████████████████████| 655/655 [00:13<00:00, 47.35it/s]\n"
     ]
    },
    {
     "name": "stdout",
     "output_type": "stream",
     "text": [
      "Epoch: 870, loss: 0.061155569896114155, f1: 0.207146513994227, precision: 0.11997314997529256, recall: 0.7576884746551513\n",
      "val_loss: 0.06792826844601456, val_f1: 0.204850774842304, val_precision: 0.11840186612851439, val_recall: 0.7590757157277623\n"
     ]
    },
    {
     "name": "stderr",
     "output_type": "stream",
     "text": [
      "100%|█████████████████████████████████████████| 655/655 [00:13<00:00, 47.20it/s]\n"
     ]
    },
    {
     "name": "stdout",
     "output_type": "stream",
     "text": [
      "Epoch: 871, loss: 0.06112255680993313, f1: 0.20672290766003004, precision: 0.11955661211991042, recall: 0.763039485166091\n",
      "val_loss: 0.06748061182421691, val_f1: 0.20326652891366428, val_precision: 0.11937299719798046, val_recall: 0.6839036173913458\n"
     ]
    },
    {
     "name": "stderr",
     "output_type": "stream",
     "text": [
      "100%|█████████████████████████████████████████| 655/655 [00:13<00:00, 47.30it/s]\n"
     ]
    },
    {
     "name": "stdout",
     "output_type": "stream",
     "text": [
      "Epoch: 872, loss: 0.06076743818876398, f1: 0.2083771767090027, precision: 0.12071519112356632, recall: 0.7610242426622915\n",
      "val_loss: 0.06801287871742741, val_f1: 0.201295261633912, val_precision: 0.11620405168110214, val_recall: 0.7518221958104624\n"
     ]
    },
    {
     "name": "stderr",
     "output_type": "stream",
     "text": [
      "100%|█████████████████████████████████████████| 655/655 [00:13<00:00, 47.39it/s]\n"
     ]
    },
    {
     "name": "stdout",
     "output_type": "stream",
     "text": [
      "Epoch: 873, loss: 0.061286783433085634, f1: 0.20665886491080357, precision: 0.11943954896174712, recall: 0.7660789294779756\n",
      "val_loss: 0.06772605194752916, val_f1: 0.191655385030713, val_precision: 0.10922983419491884, val_recall: 0.7810127078940016\n"
     ]
    },
    {
     "name": "stderr",
     "output_type": "stream",
     "text": [
      "100%|█████████████████████████████████████████| 655/655 [00:13<00:00, 47.34it/s]\n"
     ]
    },
    {
     "name": "stdout",
     "output_type": "stream",
     "text": [
      "Epoch: 874, loss: 0.06097214419593793, f1: 0.20666343988240368, precision: 0.1196031677785493, recall: 0.7595391117320716\n",
      "val_loss: 0.0683551727486518, val_f1: 0.19623519943751158, val_precision: 0.11255159517408374, val_recall: 0.7650890841123161\n"
     ]
    },
    {
     "name": "stderr",
     "output_type": "stream",
     "text": [
      "100%|█████████████████████████████████████████| 655/655 [00:13<00:00, 47.32it/s]\n"
     ]
    },
    {
     "name": "stdout",
     "output_type": "stream",
     "text": [
      "Epoch: 875, loss: 0.06150176420182217, f1: 0.20790544305914052, precision: 0.12014545622416807, recall: 0.7712994370296711\n",
      "val_loss: 0.06640736819373085, val_f1: 0.202970608027693, val_precision: 0.11725081226557767, val_recall: 0.7547637626802156\n"
     ]
    },
    {
     "name": "stderr",
     "output_type": "stream",
     "text": [
      "100%|█████████████████████████████████████████| 655/655 [00:13<00:00, 47.36it/s]\n"
     ]
    },
    {
     "name": "stdout",
     "output_type": "stream",
     "text": [
      "Epoch: 876, loss: 0.06084817480438083, f1: 0.20782283254819311, precision: 0.12009794487056273, recall: 0.7709835662869097\n",
      "val_loss: 0.06784774168232165, val_f1: 0.19992908387445282, val_precision: 0.11524537970619532, val_recall: 0.7539149205619042\n"
     ]
    },
    {
     "name": "stderr",
     "output_type": "stream",
     "text": [
      "100%|█████████████████████████████████████████| 655/655 [00:13<00:00, 47.22it/s]\n"
     ]
    },
    {
     "name": "stdout",
     "output_type": "stream",
     "text": [
      "Epoch: 877, loss: 0.060436882959982695, f1: 0.2111732990073593, precision: 0.12279626174886775, recall: 0.7533955829402873\n",
      "val_loss: 0.0684505117749539, val_f1: 0.19061853086149713, val_precision: 0.10908320315455625, val_recall: 0.754805210533492\n"
     ]
    },
    {
     "name": "stderr",
     "output_type": "stream",
     "text": [
      "100%|█████████████████████████████████████████| 655/655 [00:13<00:00, 47.35it/s]\n"
     ]
    },
    {
     "name": "stdout",
     "output_type": "stream",
     "text": [
      "Epoch: 878, loss: 0.06080273974772173, f1: 0.2093402551823553, precision: 0.1211384017137768, recall: 0.7699393311757168\n",
      "val_loss: 0.06753087866145673, val_f1: 0.20851585827010857, val_precision: 0.12079995104171541, val_recall: 0.7613550995331292\n"
     ]
    },
    {
     "name": "stderr",
     "output_type": "stream",
     "text": [
      "100%|█████████████████████████████████████████| 655/655 [00:13<00:00, 47.34it/s]\n"
     ]
    },
    {
     "name": "stdout",
     "output_type": "stream",
     "text": [
      "Epoch: 879, loss: 0.06066325312722048, f1: 0.2127626180031056, precision: 0.12341469323319447, recall: 0.7707814511565761\n",
      "val_loss: 0.06721454531962581, val_f1: 0.2020878296496481, val_precision: 0.11709269638378345, val_recall: 0.7372213520724838\n"
     ]
    },
    {
     "name": "stderr",
     "output_type": "stream",
     "text": [
      "100%|█████████████████████████████████████████| 655/655 [00:13<00:00, 47.39it/s]\n"
     ]
    },
    {
     "name": "stdout",
     "output_type": "stream",
     "text": [
      "Epoch: 880, loss: 0.06039926103660717, f1: 0.21178306668810964, precision: 0.12295275708333454, recall: 0.7631138408002053\n",
      "val_loss: 0.06851281668273133, val_f1: 0.19420954473897245, val_precision: 0.11185859613026569, val_recall: 0.7362161627329817\n"
     ]
    },
    {
     "name": "stderr",
     "output_type": "stream",
     "text": [
      "100%|█████████████████████████████████████████| 655/655 [00:13<00:00, 47.17it/s]\n"
     ]
    },
    {
     "name": "stdout",
     "output_type": "stream",
     "text": [
      "Epoch: 881, loss: 0.060469620951523785, f1: 0.2100425283847387, precision: 0.12159268344016674, recall: 0.7705928587333392\n",
      "val_loss: 0.06740996143310715, val_f1: 0.2051753849037045, val_precision: 0.11909404909238219, val_recall: 0.7401744641295267\n"
     ]
    },
    {
     "name": "stderr",
     "output_type": "stream",
     "text": [
      "100%|█████████████████████████████████████████| 655/655 [00:13<00:00, 47.38it/s]\n"
     ]
    },
    {
     "name": "stdout",
     "output_type": "stream",
     "text": [
      "Epoch: 882, loss: 0.06136795033679436, f1: 0.20921607247113153, precision: 0.12152834335086114, recall: 0.751336323759938\n",
      "val_loss: 0.06871831010377735, val_f1: 0.19536257449454153, val_precision: 0.11216789124311384, val_recall: 0.7563335069822609\n"
     ]
    },
    {
     "name": "stderr",
     "output_type": "stream",
     "text": [
      "100%|█████████████████████████████████████████| 655/655 [00:13<00:00, 47.37it/s]\n"
     ]
    },
    {
     "name": "stdout",
     "output_type": "stream",
     "text": [
      "Epoch: 883, loss: 0.061274603772766265, f1: 0.2080959614499758, precision: 0.12024694584409586, recall: 0.77236118550974\n",
      "val_loss: 0.06800999647912083, val_f1: 0.19756987759287986, val_precision: 0.11359286781426074, val_recall: 0.7577875664611475\n"
     ]
    },
    {
     "name": "stderr",
     "output_type": "stream",
     "text": [
      "100%|█████████████████████████████████████████| 655/655 [00:13<00:00, 47.38it/s]\n"
     ]
    },
    {
     "name": "stdout",
     "output_type": "stream",
     "text": [
      "Epoch: 884, loss: 0.061179882104558346, f1: 0.20827279835226506, precision: 0.12051292704453848, recall: 0.7663274155204532\n",
      "val_loss: 0.06813224620365221, val_f1: 0.19691232220942284, val_precision: 0.1127102387590556, val_recall: 0.7785152918701872\n"
     ]
    },
    {
     "name": "stderr",
     "output_type": "stream",
     "text": [
      "100%|█████████████████████████████████████████| 655/655 [00:13<00:00, 47.32it/s]\n"
     ]
    },
    {
     "name": "stdout",
     "output_type": "stream",
     "text": [
      "Epoch: 885, loss: 0.06064067584325582, f1: 0.21045908375153638, precision: 0.12195124994778565, recall: 0.7674379978357381\n",
      "val_loss: 0.06711744360728275, val_f1: 0.20410001441872655, val_precision: 0.11737601744831291, val_recall: 0.7815617528667144\n"
     ]
    },
    {
     "name": "stderr",
     "output_type": "stream",
     "text": [
      "100%|█████████████████████████████████████████| 655/655 [00:13<00:00, 47.27it/s]\n"
     ]
    },
    {
     "name": "stdout",
     "output_type": "stream",
     "text": [
      "Epoch: 886, loss: 0.06101522948592901, f1: 0.2094540214775678, precision: 0.12126664205504055, recall: 0.7678461920896559\n",
      "val_loss: 0.06879771805855386, val_f1: 0.2008319168657581, val_precision: 0.11572427920774993, val_recall: 0.7591011830426138\n"
     ]
    },
    {
     "name": "stderr",
     "output_type": "stream",
     "text": [
      "100%|█████████████████████████████████████████| 655/655 [00:13<00:00, 47.36it/s]\n"
     ]
    },
    {
     "name": "stdout",
     "output_type": "stream",
     "text": [
      "Epoch: 887, loss: 0.06121064882734586, f1: 0.2103767541856684, precision: 0.12208842453813422, recall: 0.7598962831645066\n",
      "val_loss: 0.06772619213293725, val_f1: 0.2062060510332316, val_precision: 0.11973403655248907, val_recall: 0.7422844828405512\n"
     ]
    },
    {
     "name": "stderr",
     "output_type": "stream",
     "text": [
      "100%|█████████████████████████████████████████| 655/655 [00:13<00:00, 47.38it/s]\n"
     ]
    },
    {
     "name": "stdout",
     "output_type": "stream",
     "text": [
      "Epoch: 888, loss: 0.06099786127114114, f1: 0.20966740066756492, precision: 0.12141659143345274, recall: 0.7675712567476826\n",
      "val_loss: 0.06735911205146086, val_f1: 0.20490021294471328, val_precision: 0.11835256522230872, val_recall: 0.7624753567330335\n"
     ]
    },
    {
     "name": "stderr",
     "output_type": "stream",
     "text": [
      "100%|█████████████████████████████████████████| 655/655 [00:13<00:00, 47.36it/s]\n"
     ]
    },
    {
     "name": "stdout",
     "output_type": "stream",
     "text": [
      "Epoch: 889, loss: 0.06124357973858145, f1: 0.20467783167546355, precision: 0.1182139607219253, recall: 0.7620695667583068\n",
      "val_loss: 0.06704482927046922, val_f1: 0.19954739993289689, val_precision: 0.11496028859475883, val_recall: 0.7552725383584652\n"
     ]
    },
    {
     "name": "stderr",
     "output_type": "stream",
     "text": [
      "100%|█████████████████████████████████████████| 655/655 [00:13<00:00, 47.36it/s]\n"
     ]
    },
    {
     "name": "stdout",
     "output_type": "stream",
     "text": [
      "Epoch: 890, loss: 0.06096553217676532, f1: 0.20656579045509602, precision: 0.11941875043886764, recall: 0.7643793358488847\n",
      "val_loss: 0.06779749631676651, val_f1: 0.19640948922123797, val_precision: 0.11269375906163535, val_recall: 0.7638243350003837\n"
     ]
    },
    {
     "name": "stderr",
     "output_type": "stream",
     "text": [
      "100%|█████████████████████████████████████████| 655/655 [00:13<00:00, 47.37it/s]\n"
     ]
    },
    {
     "name": "stdout",
     "output_type": "stream",
     "text": [
      "Epoch: 891, loss: 0.06084621122346256, f1: 0.21058924940797227, precision: 0.12191154657941283, recall: 0.7725035142125064\n",
      "val_loss: 0.06789396338404045, val_f1: 0.20296246842308005, val_precision: 0.11705109111776729, val_recall: 0.762915758569853\n"
     ]
    },
    {
     "name": "stderr",
     "output_type": "stream",
     "text": [
      "100%|█████████████████████████████████████████| 655/655 [00:13<00:00, 47.35it/s]\n"
     ]
    },
    {
     "name": "stdout",
     "output_type": "stream",
     "text": [
      "Epoch: 892, loss: 0.06067499072354941, f1: 0.2084338101257859, precision: 0.12100210342243428, recall: 0.7512848197958851\n",
      "val_loss: 0.06720090968910297, val_f1: 0.2062030547641529, val_precision: 0.1189371221186166, val_recall: 0.7743693342039345\n"
     ]
    },
    {
     "name": "stderr",
     "output_type": "stream",
     "text": [
      "100%|█████████████████████████████████████████| 655/655 [00:13<00:00, 47.33it/s]\n"
     ]
    },
    {
     "name": "stdout",
     "output_type": "stream",
     "text": [
      "Epoch: 893, loss: 0.06054412087173208, f1: 0.20857389481005026, precision: 0.12064088687428651, recall: 0.7693112627695535\n",
      "val_loss: 0.06732118238669334, val_f1: 0.20240454484645382, val_precision: 0.1169529601829041, val_recall: 0.7514532392314814\n"
     ]
    },
    {
     "name": "stderr",
     "output_type": "stream",
     "text": [
      "100%|█████████████████████████████████████████| 655/655 [00:13<00:00, 47.40it/s]\n"
     ]
    },
    {
     "name": "stdout",
     "output_type": "stream",
     "text": [
      "Epoch: 894, loss: 0.060982639743512826, f1: 0.20699918714072255, precision: 0.11967925021837231, recall: 0.765575810777777\n",
      "val_loss: 0.06746260434765061, val_f1: 0.2038177698316326, val_precision: 0.11742999862640276, val_recall: 0.7710245823094605\n"
     ]
    },
    {
     "name": "stderr",
     "output_type": "stream",
     "text": [
      "100%|█████████████████████████████████████████| 655/655 [00:13<00:00, 47.44it/s]\n"
     ]
    },
    {
     "name": "stdout",
     "output_type": "stream",
     "text": [
      "Epoch: 895, loss: 0.06151626133469076, f1: 0.20662525559276473, precision: 0.1195106251854876, recall: 0.7622520513434446\n",
      "val_loss: 0.06809048834779557, val_f1: 0.19588499183967945, val_precision: 0.11279227242403485, val_recall: 0.7439274711346407\n"
     ]
    },
    {
     "name": "stderr",
     "output_type": "stream",
     "text": [
      "100%|█████████████████████████████████████████| 655/655 [00:13<00:00, 47.36it/s]\n"
     ]
    },
    {
     "name": "stdout",
     "output_type": "stream",
     "text": [
      "Epoch: 896, loss: 0.060955985682579476, f1: 0.21191041419679899, precision: 0.12274028269275454, recall: 0.7747937743217891\n",
      "val_loss: 0.06733962357084763, val_f1: 0.20597244336524248, val_precision: 0.11958109442606021, val_recall: 0.7421090411483695\n"
     ]
    },
    {
     "name": "stderr",
     "output_type": "stream",
     "text": [
      "100%|█████████████████████████████████████████| 655/655 [00:13<00:00, 47.43it/s]\n"
     ]
    },
    {
     "name": "stdout",
     "output_type": "stream",
     "text": [
      "Epoch: 897, loss: 0.06064964221889964, f1: 0.2068913021928038, precision: 0.1199362760374166, recall: 0.7523599747824304\n",
      "val_loss: 0.0676790296416217, val_f1: 0.20241336393941595, val_precision: 0.11653363556438766, val_recall: 0.7694929406867115\n"
     ]
    },
    {
     "name": "stderr",
     "output_type": "stream",
     "text": [
      "100%|█████████████████████████████████████████| 655/655 [00:13<00:00, 47.32it/s]\n"
     ]
    },
    {
     "name": "stdout",
     "output_type": "stream",
     "text": [
      "Epoch: 898, loss: 0.06154724542648768, f1: 0.20295906622359955, precision: 0.11719593135640025, recall: 0.7567248049810642\n",
      "val_loss: 0.06808299090234785, val_f1: 0.19623419424261676, val_precision: 0.11244425797031833, val_recall: 0.7700551627972804\n"
     ]
    },
    {
     "name": "stderr",
     "output_type": "stream",
     "text": [
      "100%|█████████████████████████████████████████| 655/655 [00:13<00:00, 47.38it/s]\n"
     ]
    },
    {
     "name": "stdout",
     "output_type": "stream",
     "text": [
      "Epoch: 899, loss: 0.06043774245008258, f1: 0.2069428666893158, precision: 0.11963163370494055, recall: 0.7659841051993479\n",
      "val_loss: 0.06779610468160122, val_f1: 0.2016780953583322, val_precision: 0.11605780770352811, val_recall: 0.7689955545538062\n"
     ]
    },
    {
     "name": "stderr",
     "output_type": "stream",
     "text": [
      "100%|█████████████████████████████████████████| 655/655 [00:13<00:00, 47.34it/s]\n"
     ]
    },
    {
     "name": "stdout",
     "output_type": "stream",
     "text": [
      "Epoch: 900, loss: 0.060603893725983515, f1: 0.20912069520065577, precision: 0.12111420054201975, recall: 0.7650027430239524\n",
      "val_loss: 0.06774334601818695, val_f1: 0.2020706172968928, val_precision: 0.11619551830130433, val_recall: 0.7743857323849966\n"
     ]
    },
    {
     "name": "stderr",
     "output_type": "stream",
     "text": [
      "100%|█████████████████████████████████████████| 655/655 [00:13<00:00, 47.35it/s]\n"
     ]
    },
    {
     "name": "stdout",
     "output_type": "stream",
     "text": [
      "Epoch: 901, loss: 0.06150417712780128, f1: 0.20577826113734662, precision: 0.11889808766529647, recall: 0.7641547661303109\n",
      "val_loss: 0.06813351611324817, val_f1: 0.19760469248268908, val_precision: 0.11366392237587122, val_recall: 0.7556575501867391\n"
     ]
    },
    {
     "name": "stderr",
     "output_type": "stream",
     "text": [
      "100%|█████████████████████████████████████████| 655/655 [00:13<00:00, 47.34it/s]\n"
     ]
    },
    {
     "name": "stdout",
     "output_type": "stream",
     "text": [
      "Epoch: 902, loss: 0.06121970120931172, f1: 0.20507858656756678, precision: 0.11864679436988503, recall: 0.7552976951571821\n",
      "val_loss: 0.06782255543891443, val_f1: 0.2022518679843346, val_precision: 0.1166498926169145, val_recall: 0.7598789475106318\n"
     ]
    },
    {
     "name": "stderr",
     "output_type": "stream",
     "text": [
      "100%|█████████████████████████████████████████| 655/655 [00:13<00:00, 47.26it/s]\n"
     ]
    },
    {
     "name": "stdout",
     "output_type": "stream",
     "text": [
      "Epoch: 903, loss: 0.060695164420037674, f1: 0.20991563065791313, precision: 0.12176586014879796, recall: 0.760366764835274\n",
      "val_loss: 0.06749244944252279, val_f1: 0.19974175874768632, val_precision: 0.11555793563570452, val_recall: 0.7356939669185822\n"
     ]
    },
    {
     "name": "stderr",
     "output_type": "stream",
     "text": [
      "100%|█████████████████████████████████████████| 655/655 [00:13<00:00, 47.34it/s]\n"
     ]
    },
    {
     "name": "stdout",
     "output_type": "stream",
     "text": [
      "Epoch: 904, loss: 0.06012886662586265, f1: 0.2123818320266452, precision: 0.12319019314555721, recall: 0.7695432783538149\n",
      "val_loss: 0.06858992346758963, val_f1: 0.19801611100271319, val_precision: 0.11426790508253654, val_recall: 0.7413862783017509\n"
     ]
    },
    {
     "name": "stderr",
     "output_type": "stream",
     "text": [
      "100%|█████████████████████████████████████████| 655/655 [00:13<00:00, 47.40it/s]\n"
     ]
    },
    {
     "name": "stdout",
     "output_type": "stream",
     "text": [
      "Epoch: 905, loss: 0.06022901117716354, f1: 0.20993041385291966, precision: 0.1215487856666721, recall: 0.7693389731509085\n",
      "val_loss: 0.06829754586989453, val_f1: 0.1995468505756449, val_precision: 0.11459109294356419, val_recall: 0.7715887625556473\n"
     ]
    },
    {
     "name": "stderr",
     "output_type": "stream",
     "text": [
      "100%|█████████████████████████████████████████| 655/655 [00:13<00:00, 47.41it/s]\n"
     ]
    },
    {
     "name": "stdout",
     "output_type": "stream",
     "text": [
      "Epoch: 906, loss: 0.06046771061025906, f1: 0.21213778271398778, precision: 0.12282077497198382, recall: 0.7776715583928668\n",
      "val_loss: 0.06819457661599741, val_f1: 0.20184740946738836, val_precision: 0.1186831826119846, val_recall: 0.6744537514489178\n"
     ]
    },
    {
     "name": "stderr",
     "output_type": "stream",
     "text": [
      "100%|█████████████████████████████████████████| 655/655 [00:13<00:00, 47.32it/s]\n"
     ]
    },
    {
     "name": "stdout",
     "output_type": "stream",
     "text": [
      "Epoch: 907, loss: 0.06153930888034915, f1: 0.20864492763605869, precision: 0.12076303702672474, recall: 0.7662930848489281\n",
      "val_loss: 0.06756619463136437, val_f1: 0.19932329881159583, val_precision: 0.11436486716698342, val_recall: 0.7751902665840377\n"
     ]
    },
    {
     "name": "stderr",
     "output_type": "stream",
     "text": [
      "100%|█████████████████████████████████████████| 655/655 [00:13<00:00, 47.39it/s]\n"
     ]
    },
    {
     "name": "stdout",
     "output_type": "stream",
     "text": [
      "Epoch: 908, loss: 0.06073317002817875, f1: 0.20915064145572568, precision: 0.12081727319972888, recall: 0.7778932438210676\n",
      "val_loss: 0.06846558892193737, val_f1: 0.19715489786143367, val_precision: 0.11325066081683981, val_recall: 0.7608396389068813\n"
     ]
    },
    {
     "name": "stderr",
     "output_type": "stream",
     "text": [
      "100%|█████████████████████████████████████████| 655/655 [00:13<00:00, 47.41it/s]\n"
     ]
    },
    {
     "name": "stdout",
     "output_type": "stream",
     "text": [
      "Epoch: 909, loss: 0.0609772436989059, f1: 0.20548837418595978, precision: 0.11883127196009434, recall: 0.7589456100727766\n",
      "val_loss: 0.06786290721096304, val_f1: 0.19775334730194638, val_precision: 0.11376830797915885, val_recall: 0.7553926998185455\n"
     ]
    },
    {
     "name": "stderr",
     "output_type": "stream",
     "text": [
      "100%|█████████████████████████████████████████| 655/655 [00:13<00:00, 47.35it/s]\n"
     ]
    },
    {
     "name": "stdout",
     "output_type": "stream",
     "text": [
      "Epoch: 910, loss: 0.06114465927008454, f1: 0.20488342348931257, precision: 0.11863493584629632, recall: 0.7505093380126334\n",
      "val_loss: 0.06787920437343077, val_f1: 0.193777751839202, val_precision: 0.11037039961836753, val_recall: 0.7932088532989178\n"
     ]
    },
    {
     "name": "stderr",
     "output_type": "stream",
     "text": [
      "100%|█████████████████████████████████████████| 655/655 [00:13<00:00, 47.42it/s]\n"
     ]
    },
    {
     "name": "stdout",
     "output_type": "stream",
     "text": [
      "Epoch: 911, loss: 0.06112199278391955, f1: 0.2061230685560941, precision: 0.1192038307286344, recall: 0.7610645563547848\n",
      "val_loss: 0.06727468369340678, val_f1: 0.2050724115730724, val_precision: 0.11864433669134838, val_recall: 0.7552297776992168\n"
     ]
    },
    {
     "name": "stderr",
     "output_type": "stream",
     "text": [
      "100%|█████████████████████████████████████████| 655/655 [00:13<00:00, 47.43it/s]\n"
     ]
    },
    {
     "name": "stdout",
     "output_type": "stream",
     "text": [
      "Epoch: 912, loss: 0.06109016995222969, f1: 0.2060981317037521, precision: 0.11917728844439995, recall: 0.7614669362666042\n",
      "val_loss: 0.06752373767726191, val_f1: 0.19455717375941628, val_precision: 0.11186553992826594, val_recall: 0.7460174587888455\n"
     ]
    },
    {
     "name": "stderr",
     "output_type": "stream",
     "text": [
      "100%|█████████████████████████████████████████| 655/655 [00:13<00:00, 47.38it/s]\n"
     ]
    },
    {
     "name": "stdout",
     "output_type": "stream",
     "text": [
      "Epoch: 913, loss: 0.06072300761966532, f1: 0.21059041701035086, precision: 0.12212502602274522, recall: 0.764071272034909\n",
      "val_loss: 0.06812294410251149, val_f1: 0.1977617149412607, val_precision: 0.11406647598524706, val_recall: 0.7427416238079377\n"
     ]
    },
    {
     "name": "stderr",
     "output_type": "stream",
     "text": [
      "100%|█████████████████████████████████████████| 655/655 [00:13<00:00, 47.41it/s]\n"
     ]
    },
    {
     "name": "stdout",
     "output_type": "stream",
     "text": [
      "Epoch: 914, loss: 0.06081553270457355, f1: 0.20665660784924694, precision: 0.11937565565223002, recall: 0.7686554291207371\n",
      "val_loss: 0.06772402906363163, val_f1: 0.19686999528083532, val_precision: 0.11342043397572199, val_recall: 0.7450260306717059\n"
     ]
    },
    {
     "name": "stderr",
     "output_type": "stream",
     "text": [
      "100%|█████████████████████████████████████████| 655/655 [00:13<00:00, 47.29it/s]\n"
     ]
    },
    {
     "name": "stdout",
     "output_type": "stream",
     "text": [
      "Epoch: 915, loss: 0.060637119364078715, f1: 0.20909873920268693, precision: 0.1212609754718897, recall: 0.7586200058232737\n",
      "val_loss: 0.06774905645245806, val_f1: 0.19577109232392045, val_precision: 0.11327696106729841, val_recall: 0.7204131179514828\n"
     ]
    },
    {
     "name": "stderr",
     "output_type": "stream",
     "text": [
      "100%|█████████████████████████████████████████| 655/655 [00:13<00:00, 47.34it/s]\n"
     ]
    },
    {
     "name": "stdout",
     "output_type": "stream",
     "text": [
      "Epoch: 916, loss: 0.060618050899783164, f1: 0.20747132807114033, precision: 0.12013768932803441, recall: 0.7598185441079941\n",
      "val_loss: 0.06810900473480172, val_f1: 0.20404407518996423, val_precision: 0.11813902244433214, val_recall: 0.7478311794613479\n"
     ]
    },
    {
     "name": "stderr",
     "output_type": "stream",
     "text": [
      "100%|█████████████████████████████████████████| 655/655 [00:13<00:00, 47.31it/s]\n"
     ]
    },
    {
     "name": "stdout",
     "output_type": "stream",
     "text": [
      "Epoch: 917, loss: 0.061004283213041514, f1: 0.21061744193549564, precision: 0.1222877431006832, recall: 0.7584633387682093\n",
      "val_loss: 0.06741464577205138, val_f1: 0.2060250484578413, val_precision: 0.11921211099679317, val_recall: 0.7580650450166212\n"
     ]
    },
    {
     "name": "stderr",
     "output_type": "stream",
     "text": [
      "100%|█████████████████████████████████████████| 655/655 [00:13<00:00, 47.37it/s]\n"
     ]
    },
    {
     "name": "stdout",
     "output_type": "stream",
     "text": [
      "Epoch: 918, loss: 0.06091388474282532, f1: 0.20729284071569562, precision: 0.12000001129687174, recall: 0.7605407069430097\n",
      "val_loss: 0.06779184573492712, val_f1: 0.19978496712064955, val_precision: 0.11468679597174082, val_recall: 0.7743752168132625\n"
     ]
    },
    {
     "name": "stderr",
     "output_type": "stream",
     "text": [
      "100%|█████████████████████████████████████████| 655/655 [00:13<00:00, 47.33it/s]\n"
     ]
    },
    {
     "name": "stdout",
     "output_type": "stream",
     "text": [
      "Epoch: 919, loss: 0.06085400323291089, f1: 0.20958313283173027, precision: 0.12128623210050109, recall: 0.7705384570678682\n",
      "val_loss: 0.06709446213763515, val_f1: 0.1999081219648484, val_precision: 0.1154473787985332, val_recall: 0.7448007249093931\n"
     ]
    },
    {
     "name": "stderr",
     "output_type": "stream",
     "text": [
      "100%|█████████████████████████████████████████| 655/655 [00:13<00:00, 47.36it/s]\n"
     ]
    },
    {
     "name": "stdout",
     "output_type": "stream",
     "text": [
      "Epoch: 920, loss: 0.0607372184703482, f1: 0.20715412220614338, precision: 0.1201851396403766, recall: 0.7495402628456364\n",
      "val_loss: 0.06727472558156203, val_f1: 0.20002520204311705, val_precision: 0.11526930353117235, val_recall: 0.755627427147616\n"
     ]
    },
    {
     "name": "stderr",
     "output_type": "stream",
     "text": [
      "100%|█████████████████████████████████████████| 655/655 [00:13<00:00, 47.31it/s]\n"
     ]
    },
    {
     "name": "stdout",
     "output_type": "stream",
     "text": [
      "Epoch: 921, loss: 0.06055921456200703, f1: 0.20928858366388362, precision: 0.12125019321275007, recall: 0.7640741873788469\n",
      "val_loss: 0.06809995877940994, val_f1: 0.19865902867599752, val_precision: 0.11469063536614316, val_recall: 0.7416232896780749\n"
     ]
    },
    {
     "name": "stderr",
     "output_type": "stream",
     "text": [
      "100%|█████████████████████████████████████████| 655/655 [00:13<00:00, 47.37it/s]\n"
     ]
    },
    {
     "name": "stdout",
     "output_type": "stream",
     "text": [
      "Epoch: 922, loss: 0.061068221889720616, f1: 0.2083689028493313, precision: 0.12053572443662254, recall: 0.7680104367605602\n",
      "val_loss: 0.06804541364277995, val_f1: 0.2007199842578594, val_precision: 0.11609126354883843, val_recall: 0.7406215292461421\n"
     ]
    },
    {
     "name": "stderr",
     "output_type": "stream",
     "text": [
      "100%|█████████████████████████████████████████| 655/655 [00:13<00:00, 47.29it/s]\n"
     ]
    },
    {
     "name": "stdout",
     "output_type": "stream",
     "text": [
      "Epoch: 923, loss: 0.061000633094715706, f1: 0.20793117030252867, precision: 0.12047917194422761, recall: 0.7585079950685719\n",
      "val_loss: 0.06934379077080739, val_f1: 0.19281684248903627, val_precision: 0.1104509844829183, val_recall: 0.7582949678148698\n"
     ]
    },
    {
     "name": "stderr",
     "output_type": "stream",
     "text": [
      "100%|█████████████████████████████████████████| 655/655 [00:13<00:00, 47.30it/s]\n"
     ]
    },
    {
     "name": "stdout",
     "output_type": "stream",
     "text": [
      "Epoch: 924, loss: 0.06174024401929315, f1: 0.2025116349274374, precision: 0.11672373475250966, recall: 0.7640949301137269\n",
      "val_loss: 0.06768498819646075, val_f1: 0.19827322718637622, val_precision: 0.11428862881906536, val_recall: 0.7477677037956518\n"
     ]
    },
    {
     "name": "stderr",
     "output_type": "stream",
     "text": [
      "100%|█████████████████████████████████████████| 655/655 [00:13<00:00, 47.18it/s]\n"
     ]
    },
    {
     "name": "stdout",
     "output_type": "stream",
     "text": [
      "Epoch: 925, loss: 0.06030189814157109, f1: 0.20898245501219986, precision: 0.1209816895368445, recall: 0.7665961828054363\n",
      "val_loss: 0.06812498562140476, val_f1: 0.2010708176914344, val_precision: 0.11618327476306382, val_recall: 0.7464617278187646\n"
     ]
    },
    {
     "name": "stderr",
     "output_type": "stream",
     "text": [
      "100%|█████████████████████████████████████████| 655/655 [00:13<00:00, 47.33it/s]\n"
     ]
    },
    {
     "name": "stdout",
     "output_type": "stream",
     "text": [
      "Epoch: 926, loss: 0.06114102023589702, f1: 0.20595109154844135, precision: 0.11883473818364575, recall: 0.7716075135153213\n",
      "val_loss: 0.06797986420367015, val_f1: 0.19635604827476505, val_precision: 0.11295660585805842, val_recall: 0.7504005855239859\n"
     ]
    },
    {
     "name": "stderr",
     "output_type": "stream",
     "text": [
      "100%|█████████████████████████████████████████| 655/655 [00:13<00:00, 47.34it/s]\n"
     ]
    },
    {
     "name": "stdout",
     "output_type": "stream",
     "text": [
      "Epoch: 927, loss: 0.061191390605486985, f1: 0.20402857302337243, precision: 0.11778928874458634, recall: 0.7617235213404393\n",
      "val_loss: 0.06784493064747081, val_f1: 0.19701282343425716, val_precision: 0.11380276153154603, val_recall: 0.7328743012536556\n"
     ]
    },
    {
     "name": "stderr",
     "output_type": "stream",
     "text": [
      "100%|█████████████████████████████████████████| 655/655 [00:13<00:00, 47.42it/s]\n"
     ]
    },
    {
     "name": "stdout",
     "output_type": "stream",
     "text": [
      "Epoch: 928, loss: 0.06089331092768832, f1: 0.2081868830446039, precision: 0.12060349225102149, recall: 0.7603872801056345\n",
      "val_loss: 0.06823811797989071, val_f1: 0.1950988111572973, val_precision: 0.1133324104882435, val_recall: 0.700469228720993\n"
     ]
    },
    {
     "name": "stderr",
     "output_type": "stream",
     "text": [
      "100%|█████████████████████████████████████████| 655/655 [00:13<00:00, 47.31it/s]\n"
     ]
    },
    {
     "name": "stdout",
     "output_type": "stream",
     "text": [
      "Epoch: 929, loss: 0.06162150985923887, f1: 0.20483604855818807, precision: 0.11857998074594003, recall: 0.7514391820053108\n",
      "val_loss: 0.06784796648992038, val_f1: 0.1976353663542402, val_precision: 0.11366640785367253, val_recall: 0.7564455078692611\n"
     ]
    },
    {
     "name": "stderr",
     "output_type": "stream",
     "text": [
      "100%|█████████████████████████████████████████| 655/655 [00:13<00:00, 47.36it/s]\n"
     ]
    },
    {
     "name": "stdout",
     "output_type": "stream",
     "text": [
      "Epoch: 930, loss: 0.06077335773476662, f1: 0.20608889017999568, precision: 0.11882374358669151, recall: 0.7759614107035498\n",
      "val_loss: 0.06784478558757163, val_f1: 0.20011679053470277, val_precision: 0.11550337409626248, val_recall: 0.7482743995998977\n"
     ]
    },
    {
     "name": "stderr",
     "output_type": "stream",
     "text": [
      "100%|█████████████████████████████████████████| 655/655 [00:13<00:00, 47.27it/s]\n"
     ]
    },
    {
     "name": "stdout",
     "output_type": "stream",
     "text": [
      "Epoch: 931, loss: 0.06073012121220809, f1: 0.21056238714725364, precision: 0.1221087937874236, recall: 0.763968681953563\n",
      "val_loss: 0.06811917350636026, val_f1: 0.19729391818649994, val_precision: 0.11505295234356383, val_recall: 0.6917974248938604\n"
     ]
    },
    {
     "name": "stderr",
     "output_type": "stream",
     "text": [
      "100%|█████████████████████████████████████████| 655/655 [00:13<00:00, 47.30it/s]\n"
     ]
    },
    {
     "name": "stdout",
     "output_type": "stream",
     "text": [
      "Epoch: 932, loss: 0.060649960899973814, f1: 0.21096603423799873, precision: 0.12243016088196566, recall: 0.7620341773706538\n",
      "val_loss: 0.06768442838615098, val_f1: 0.19726017294319348, val_precision: 0.11358881853264544, val_recall: 0.7489454954042347\n"
     ]
    },
    {
     "name": "stderr",
     "output_type": "stream",
     "text": [
      "100%|█████████████████████████████████████████| 655/655 [00:13<00:00, 47.37it/s]\n"
     ]
    },
    {
     "name": "stdout",
     "output_type": "stream",
     "text": [
      "Epoch: 933, loss: 0.060853962989111665, f1: 0.20534445185378897, precision: 0.11859905300626375, recall: 0.7645483123721513\n",
      "val_loss: 0.06776282157099575, val_f1: 0.20083193643395375, val_precision: 0.11613874269196542, val_recall: 0.7417383180982476\n"
     ]
    },
    {
     "name": "stderr",
     "output_type": "stream",
     "text": [
      "100%|█████████████████████████████████████████| 655/655 [00:13<00:00, 47.38it/s]\n"
     ]
    },
    {
     "name": "stdout",
     "output_type": "stream",
     "text": [
      "Epoch: 934, loss: 0.06062455767097364, f1: 0.20795531907489712, precision: 0.1201425957984028, recall: 0.7727927732103653\n",
      "val_loss: 0.06685351501347138, val_f1: 0.20470738571279085, val_precision: 0.11823527009115306, val_recall: 0.7620034421529245\n"
     ]
    },
    {
     "name": "stderr",
     "output_type": "stream",
     "text": [
      "100%|█████████████████████████████████████████| 655/655 [00:13<00:00, 47.17it/s]\n"
     ]
    },
    {
     "name": "stdout",
     "output_type": "stream",
     "text": [
      "Epoch: 935, loss: 0.06032173919228424, f1: 0.2109644584907067, precision: 0.12223577165073281, recall: 0.7696104725353591\n",
      "val_loss: 0.0676753052399246, val_f1: 0.20061693985271953, val_precision: 0.1155651185999052, val_recall: 0.7598103929413568\n"
     ]
    },
    {
     "name": "stderr",
     "output_type": "stream",
     "text": [
      "100%|█████████████████████████████████████████| 655/655 [00:13<00:00, 47.35it/s]\n"
     ]
    },
    {
     "name": "stdout",
     "output_type": "stream",
     "text": [
      "Epoch: 936, loss: 0.061188266023936615, f1: 0.20720251885043386, precision: 0.11970011084518246, recall: 0.770308509184659\n",
      "val_loss: 0.06832633255510975, val_f1: 0.20059582172901086, val_precision: 0.1167037278465038, val_recall: 0.7134749891424398\n"
     ]
    },
    {
     "name": "stderr",
     "output_type": "stream",
     "text": [
      "100%|█████████████████████████████████████████| 655/655 [00:13<00:00, 47.37it/s]\n"
     ]
    },
    {
     "name": "stdout",
     "output_type": "stream",
     "text": [
      "Epoch: 937, loss: 0.06070899807968895, f1: 0.21098044935191806, precision: 0.12224535690229528, recall: 0.7696561263149021\n",
      "val_loss: 0.06889710079776037, val_f1: 0.18620765213716473, val_precision: 0.10582033090225053, val_recall: 0.7747630195333324\n"
     ]
    },
    {
     "name": "stderr",
     "output_type": "stream",
     "text": [
      "100%|█████████████████████████████████████████| 655/655 [00:13<00:00, 47.25it/s]\n"
     ]
    },
    {
     "name": "stdout",
     "output_type": "stream",
     "text": [
      "Epoch: 938, loss: 0.060964730555433354, f1: 0.2065192266084546, precision: 0.1194055228277273, recall: 0.7636465505789255\n",
      "val_loss: 0.06860174698362109, val_f1: 0.19456504272082709, val_precision: 0.11160873997648922, val_recall: 0.757881749660597\n"
     ]
    },
    {
     "name": "stderr",
     "output_type": "stream",
     "text": [
      "100%|█████████████████████████████████████████| 655/655 [00:13<00:00, 47.29it/s]\n"
     ]
    },
    {
     "name": "stdout",
     "output_type": "stream",
     "text": [
      "Epoch: 939, loss: 0.060924319197772116, f1: 0.2079704440612095, precision: 0.12027606975628446, recall: 0.7677276240732833\n",
      "val_loss: 0.06860790763118672, val_f1: 0.19619260311998685, val_precision: 0.1129370876716091, val_recall: 0.7465042974287217\n"
     ]
    },
    {
     "name": "stderr",
     "output_type": "stream",
     "text": [
      "100%|█████████████████████████████████████████| 655/655 [00:13<00:00, 47.16it/s]\n"
     ]
    },
    {
     "name": "stdout",
     "output_type": "stream",
     "text": [
      "Epoch: 940, loss: 0.06066986960536651, f1: 0.2096920606928113, precision: 0.12132640197474993, recall: 0.7718631539465362\n",
      "val_loss: 0.06693779099561753, val_f1: 0.1999433626351337, val_precision: 0.11505136580138099, val_recall: 0.7627399956141043\n"
     ]
    },
    {
     "name": "stderr",
     "output_type": "stream",
     "text": [
      "100%|█████████████████████████████████████████| 655/655 [00:13<00:00, 47.31it/s]\n"
     ]
    },
    {
     "name": "stdout",
     "output_type": "stream",
     "text": [
      "Epoch: 941, loss: 0.06111102844552912, f1: 0.20629740320212994, precision: 0.11944487014543692, recall: 0.7560417183255421\n",
      "val_loss: 0.06778447875975195, val_f1: 0.1989537993447946, val_precision: 0.11532364684742354, val_recall: 0.7239365101612489\n"
     ]
    },
    {
     "name": "stderr",
     "output_type": "stream",
     "text": [
      "100%|█████████████████████████████████████████| 655/655 [00:13<00:00, 47.40it/s]\n"
     ]
    },
    {
     "name": "stdout",
     "output_type": "stream",
     "text": [
      "Epoch: 942, loss: 0.06087060739634601, f1: 0.21029679865138826, precision: 0.12214474146439204, recall: 0.7556522424780685\n",
      "val_loss: 0.06928513175167075, val_f1: 0.18930133845815741, val_precision: 0.10742230162263737, val_recall: 0.7961075315508274\n"
     ]
    },
    {
     "name": "stderr",
     "output_type": "stream",
     "text": [
      "100%|█████████████████████████████████████████| 655/655 [00:13<00:00, 47.37it/s]\n"
     ]
    },
    {
     "name": "stdout",
     "output_type": "stream",
     "text": [
      "Epoch: 943, loss: 0.06105120741399645, f1: 0.20672155537703943, precision: 0.11948723050744366, recall: 0.7658406475231848\n",
      "val_loss: 0.06727053546304003, val_f1: 0.20273371954332786, val_precision: 0.1163905904790677, val_recall: 0.7853008612580256\n"
     ]
    },
    {
     "name": "stderr",
     "output_type": "stream",
     "text": [
      "100%|█████████████████████████████████████████| 655/655 [00:13<00:00, 47.20it/s]\n"
     ]
    },
    {
     "name": "stdout",
     "output_type": "stream",
     "text": [
      "Epoch: 944, loss: 0.06091786959699092, f1: 0.2088701839450253, precision: 0.12058864749171806, recall: 0.7796231904898892\n",
      "val_loss: 0.06708704705409911, val_f1: 0.20197205479080735, val_precision: 0.11657493150528145, val_recall: 0.755180681312303\n"
     ]
    },
    {
     "name": "stderr",
     "output_type": "stream",
     "text": [
      "100%|█████████████████████████████████████████| 655/655 [00:13<00:00, 47.40it/s]\n"
     ]
    },
    {
     "name": "stdout",
     "output_type": "stream",
     "text": [
      "Epoch: 945, loss: 0.06068071204429592, f1: 0.20869937778836686, precision: 0.12105482709416338, recall: 0.7561765365359437\n",
      "val_loss: 0.06846522968347876, val_f1: 0.20099721687366487, val_precision: 0.11657534972465503, val_recall: 0.7287335297383299\n"
     ]
    },
    {
     "name": "stderr",
     "output_type": "stream",
     "text": [
      "100%|█████████████████████████████████████████| 655/655 [00:13<00:00, 47.34it/s]\n"
     ]
    },
    {
     "name": "stdout",
     "output_type": "stream",
     "text": [
      "Epoch: 946, loss: 0.060577287598875644, f1: 0.21182127412780993, precision: 0.12284358389362807, recall: 0.768350740141086\n",
      "val_loss: 0.06799668772573318, val_f1: 0.19969221426196465, val_precision: 0.11527000403100061, val_recall: 0.7461967131960283\n"
     ]
    },
    {
     "name": "stderr",
     "output_type": "stream",
     "text": [
      "100%|█████████████████████████████████████████| 655/655 [00:13<00:00, 47.30it/s]\n"
     ]
    },
    {
     "name": "stdout",
     "output_type": "stream",
     "text": [
      "Epoch: 947, loss: 0.06057667034348337, f1: 0.2095531467110033, precision: 0.12131273945622885, recall: 0.7686626432733681\n",
      "val_loss: 0.06710296515119049, val_f1: 0.204512922509872, val_precision: 0.11837018220984472, val_recall: 0.7511682735944013\n"
     ]
    },
    {
     "name": "stderr",
     "output_type": "stream",
     "text": [
      "100%|█████████████████████████████████████████| 655/655 [00:13<00:00, 47.08it/s]\n"
     ]
    },
    {
     "name": "stdout",
     "output_type": "stream",
     "text": [
      "Epoch: 948, loss: 0.06124984426206567, f1: 0.20926680018108626, precision: 0.12117714583340548, recall: 0.7664030249792201\n",
      "val_loss: 0.06870907056358976, val_f1: 0.19954150996589057, val_precision: 0.11485124358890253, val_recall: 0.7598424416479714\n"
     ]
    },
    {
     "name": "stderr",
     "output_type": "stream",
     "text": [
      "100%|█████████████████████████████████████████| 655/655 [00:13<00:00, 47.36it/s]\n"
     ]
    },
    {
     "name": "stdout",
     "output_type": "stream",
     "text": [
      "Epoch: 949, loss: 0.06084735447981658, f1: 0.20833597004640325, precision: 0.12076041671440346, recall: 0.7581389825080187\n",
      "val_loss: 0.0682518982730054, val_f1: 0.20037290408752706, val_precision: 0.1152796681517513, val_recall: 0.7652087442645239\n"
     ]
    },
    {
     "name": "stderr",
     "output_type": "stream",
     "text": [
      "100%|█████████████████████████████████████████| 655/655 [00:13<00:00, 47.36it/s]\n"
     ]
    },
    {
     "name": "stdout",
     "output_type": "stream",
     "text": [
      "Epoch: 950, loss: 0.06120547063734013, f1: 0.20688783008012104, precision: 0.1197040686909934, recall: 0.761533856164408\n",
      "val_loss: 0.06805047952493123, val_f1: 0.20388592878467315, val_precision: 0.11959176050037693, val_recall: 0.6907858478093366\n"
     ]
    },
    {
     "name": "stderr",
     "output_type": "stream",
     "text": [
      "100%|█████████████████████████████████████████| 655/655 [00:13<00:00, 47.40it/s]\n"
     ]
    },
    {
     "name": "stdout",
     "output_type": "stream",
     "text": [
      "Epoch: 951, loss: 0.06075537162512996, f1: 0.20995753273891662, precision: 0.12162583274340243, recall: 0.7669897862631856\n",
      "val_loss: 0.06817341911170734, val_f1: 0.20382704273025115, val_precision: 0.11737038038773548, val_recall: 0.7738718941397623\n"
     ]
    },
    {
     "name": "stderr",
     "output_type": "stream",
     "text": [
      "100%|█████████████████████████████████████████| 655/655 [00:13<00:00, 47.40it/s]\n"
     ]
    },
    {
     "name": "stdout",
     "output_type": "stream",
     "text": [
      "Epoch: 952, loss: 0.060961445408741155, f1: 0.2092234301889525, precision: 0.12101657707315251, recall: 0.7717072962235858\n",
      "val_loss: 0.06738791338791815, val_f1: 0.2070212810939365, val_precision: 0.11947211184444914, val_recall: 0.7747803817101575\n"
     ]
    },
    {
     "name": "stderr",
     "output_type": "stream",
     "text": [
      "100%|█████████████████████████████████████████| 655/655 [00:13<00:00, 47.32it/s]\n"
     ]
    },
    {
     "name": "stdout",
     "output_type": "stream",
     "text": [
      "Epoch: 953, loss: 0.061282630415588846, f1: 0.20715479478913895, precision: 0.11974449241107316, recall: 0.7671645934913904\n",
      "val_loss: 0.06749544063702635, val_f1: 0.19388954056041638, val_precision: 0.11047682542046276, val_recall: 0.7914651803193836\n"
     ]
    },
    {
     "name": "stderr",
     "output_type": "stream",
     "text": [
      "100%|█████████████████████████████████████████| 655/655 [00:13<00:00, 47.28it/s]\n"
     ]
    },
    {
     "name": "stdout",
     "output_type": "stream",
     "text": [
      "Epoch: 954, loss: 0.061025665866794025, f1: 0.20486530636549374, precision: 0.11834297307006275, recall: 0.761907039139107\n",
      "val_loss: 0.06813442669467094, val_f1: 0.2000422315420095, val_precision: 0.11505024803272627, val_recall: 0.7656765525494147\n"
     ]
    },
    {
     "name": "stderr",
     "output_type": "stream",
     "text": [
      "100%|█████████████████████████████████████████| 655/655 [00:13<00:00, 47.39it/s]\n"
     ]
    },
    {
     "name": "stdout",
     "output_type": "stream",
     "text": [
      "Epoch: 955, loss: 0.060661649632886165, f1: 0.20835385776355703, precision: 0.12052625055275573, recall: 0.7679862739816877\n",
      "val_loss: 0.06802749791003149, val_f1: 0.19860489883982277, val_precision: 0.11443136684989574, val_recall: 0.751099017576887\n"
     ]
    },
    {
     "name": "stderr",
     "output_type": "stream",
     "text": [
      "100%|█████████████████████████████████████████| 655/655 [00:13<00:00, 47.35it/s]\n"
     ]
    },
    {
     "name": "stdout",
     "output_type": "stream",
     "text": [
      "Epoch: 956, loss: 0.0608362729540308, f1: 0.20936733162245208, precision: 0.12118710221239287, recall: 0.7687071831740496\n",
      "val_loss: 0.06726581869869057, val_f1: 0.20251269829144328, val_precision: 0.11676233265668563, val_recall: 0.7624751770304977\n"
     ]
    },
    {
     "name": "stderr",
     "output_type": "stream",
     "text": [
      "100%|█████████████████████████████████████████| 655/655 [00:13<00:00, 47.34it/s]\n"
     ]
    },
    {
     "name": "stdout",
     "output_type": "stream",
     "text": [
      "Epoch: 957, loss: 0.06102029853393786, f1: 0.2057895966177088, precision: 0.11874214071879974, recall: 0.7709777642183632\n",
      "val_loss: 0.06773326791173548, val_f1: 0.20762124242652344, val_precision: 0.11998127508959776, val_recall: 0.7702428606945441\n"
     ]
    },
    {
     "name": "stderr",
     "output_type": "stream",
     "text": [
      "100%|█████████████████████████████████████████| 655/655 [00:13<00:00, 47.31it/s]\n"
     ]
    },
    {
     "name": "stdout",
     "output_type": "stream",
     "text": [
      "Epoch: 958, loss: 0.06078943783161408, f1: 0.20647128915983215, precision: 0.11939315117383731, recall: 0.7628422645667127\n",
      "val_loss: 0.06836207586109912, val_f1: 0.2010477744640286, val_precision: 0.11622816578425262, val_recall: 0.7439824116476085\n"
     ]
    },
    {
     "name": "stderr",
     "output_type": "stream",
     "text": [
      "100%|█████████████████████████████████████████| 655/655 [00:13<00:00, 47.40it/s]\n"
     ]
    },
    {
     "name": "stdout",
     "output_type": "stream",
     "text": [
      "Epoch: 959, loss: 0.060995959919941334, f1: 0.2122296554320248, precision: 0.12356637406824085, recall: 0.7513502947588003\n",
      "val_loss: 0.06809022367735384, val_f1: 0.2044765015859273, val_precision: 0.11823746553673452, val_recall: 0.7555615602556719\n"
     ]
    },
    {
     "name": "stderr",
     "output_type": "stream",
     "text": [
      "100%|█████████████████████████████████████████| 655/655 [00:13<00:00, 47.34it/s]\n"
     ]
    },
    {
     "name": "stdout",
     "output_type": "stream",
     "text": [
      "Epoch: 960, loss: 0.06116282841659912, f1: 0.21138821504592467, precision: 0.12256019204741216, recall: 0.7680437091083927\n",
      "val_loss: 0.06785620813932988, val_f1: 0.1988845322681119, val_precision: 0.11414096548025487, val_recall: 0.7722068462486661\n"
     ]
    },
    {
     "name": "stderr",
     "output_type": "stream",
     "text": [
      "100%|█████████████████████████████████████████| 655/655 [00:13<00:00, 47.30it/s]\n"
     ]
    },
    {
     "name": "stdout",
     "output_type": "stream",
     "text": [
      "Epoch: 961, loss: 0.061215240459325346, f1: 0.20555612545715063, precision: 0.1186069116387374, recall: 0.770124768619319\n",
      "val_loss: 0.06778963060126802, val_f1: 0.1953527836377144, val_precision: 0.11167200187588572, val_recall: 0.7793671134004899\n"
     ]
    },
    {
     "name": "stderr",
     "output_type": "stream",
     "text": [
      "100%|█████████████████████████████████████████| 655/655 [00:13<00:00, 47.29it/s]\n"
     ]
    },
    {
     "name": "stdout",
     "output_type": "stream",
     "text": [
      "Epoch: 962, loss: 0.060819621457747636, f1: 0.20737398658130315, precision: 0.12001141762424915, recall: 0.7622702522132233\n",
      "val_loss: 0.06741839599018114, val_f1: 0.20501153273690348, val_precision: 0.11871029161890849, val_recall: 0.7509315595577616\n"
     ]
    },
    {
     "name": "stderr",
     "output_type": "stream",
     "text": [
      "100%|█████████████████████████████████████████| 655/655 [00:13<00:00, 47.30it/s]\n"
     ]
    },
    {
     "name": "stdout",
     "output_type": "stream",
     "text": [
      "Epoch: 963, loss: 0.060850828557580935, f1: 0.20846870109326776, precision: 0.12052027307493428, recall: 0.7713626519983051\n",
      "val_loss: 0.06697314317471757, val_f1: 0.20772071793180535, val_precision: 0.1198221175085514, val_recall: 0.7796614704602355\n"
     ]
    },
    {
     "name": "stderr",
     "output_type": "stream",
     "text": [
      "100%|█████████████████████████████████████████| 655/655 [00:13<00:00, 47.22it/s]\n"
     ]
    },
    {
     "name": "stdout",
     "output_type": "stream",
     "text": [
      "Epoch: 964, loss: 0.06081044301248461, f1: 0.20987210175620163, precision: 0.12150516518825338, recall: 0.7695204437290895\n",
      "val_loss: 0.06765028661749231, val_f1: 0.19813724415006584, val_precision: 0.11381090939079129, val_recall: 0.7648127952573496\n"
     ]
    },
    {
     "name": "stderr",
     "output_type": "stream",
     "text": [
      "100%|█████████████████████████████████████████| 655/655 [00:13<00:00, 47.38it/s]\n"
     ]
    },
    {
     "name": "stdout",
     "output_type": "stream",
     "text": [
      "Epoch: 965, loss: 0.06081805811614089, f1: 0.20787756854033093, precision: 0.12032758286293908, recall: 0.763125045813677\n",
      "val_loss: 0.06861595706928761, val_f1: 0.19530301334244435, val_precision: 0.1134088754594121, val_recall: 0.7028170570457747\n"
     ]
    },
    {
     "name": "stderr",
     "output_type": "stream",
     "text": [
      "100%|█████████████████████████████████████████| 655/655 [00:13<00:00, 47.39it/s]\n"
     ]
    },
    {
     "name": "stdout",
     "output_type": "stream",
     "text": [
      "Epoch: 966, loss: 0.06037697967653752, f1: 0.21517390274957612, precision: 0.1250372967256219, recall: 0.7708948615284367\n",
      "val_loss: 0.06734150927513838, val_f1: 0.20026332692669988, val_precision: 0.11547290393014635, val_recall: 0.7536870294481243\n"
     ]
    },
    {
     "name": "stderr",
     "output_type": "stream",
     "text": [
      "100%|█████████████████████████████████████████| 655/655 [00:13<00:00, 47.31it/s]\n"
     ]
    },
    {
     "name": "stdout",
     "output_type": "stream",
     "text": [
      "Epoch: 967, loss: 0.0608288268409385, f1: 0.20657795831774514, precision: 0.11929235573474119, recall: 0.7699366184932585\n",
      "val_loss: 0.06725918709240648, val_f1: 0.20158047574352314, val_precision: 0.11623866995796561, val_recall: 0.7583761982824824\n"
     ]
    },
    {
     "name": "stderr",
     "output_type": "stream",
     "text": [
      "100%|█████████████████████████████████████████| 655/655 [00:13<00:00, 47.34it/s]\n"
     ]
    },
    {
     "name": "stdout",
     "output_type": "stream",
     "text": [
      "Epoch: 968, loss: 0.06059931066484397, f1: 0.20596524317095927, precision: 0.11905675203546541, recall: 0.7627645227972788\n",
      "val_loss: 0.06734233661853803, val_f1: 0.20629103835403467, val_precision: 0.1198912243435689, val_recall: 0.7384724893154354\n"
     ]
    },
    {
     "name": "stderr",
     "output_type": "stream",
     "text": [
      "100%|█████████████████████████████████████████| 655/655 [00:13<00:00, 47.20it/s]\n"
     ]
    },
    {
     "name": "stdout",
     "output_type": "stream",
     "text": [
      "Epoch: 969, loss: 0.06142297158486971, f1: 0.2069799463766894, precision: 0.1195066064852112, recall: 0.7721807243601057\n",
      "val_loss: 0.06937579461159783, val_f1: 0.19923915454986796, val_precision: 0.11450345499372673, val_recall: 0.7663853465143694\n"
     ]
    },
    {
     "name": "stderr",
     "output_type": "stream",
     "text": [
      "100%|█████████████████████████████████████████| 655/655 [00:13<00:00, 47.36it/s]\n"
     ]
    },
    {
     "name": "stdout",
     "output_type": "stream",
     "text": [
      "Epoch: 970, loss: 0.06100586718730344, f1: 0.20924325597818724, precision: 0.12094391574158923, recall: 0.7752191085055584\n",
      "val_loss: 0.06719217475059383, val_f1: 0.19802232765684438, val_precision: 0.11414364750129641, val_recall: 0.746836780203045\n"
     ]
    },
    {
     "name": "stderr",
     "output_type": "stream",
     "text": [
      "100%|█████████████████████████████████████████| 655/655 [00:13<00:00, 47.31it/s]\n"
     ]
    },
    {
     "name": "stdout",
     "output_type": "stream",
     "text": [
      "Epoch: 971, loss: 0.06107873984329645, f1: 0.21115268274414942, precision: 0.12243794077182658, recall: 0.7666265533511876\n",
      "val_loss: 0.06817774537848223, val_f1: 0.19530166571512877, val_precision: 0.11240135949455338, val_recall: 0.7441148807149415\n"
     ]
    },
    {
     "name": "stderr",
     "output_type": "stream",
     "text": [
      "100%|█████████████████████████████████████████| 655/655 [00:13<00:00, 47.34it/s]\n"
     ]
    },
    {
     "name": "stdout",
     "output_type": "stream",
     "text": [
      "Epoch: 972, loss: 0.06043968838390736, f1: 0.20979642297657292, precision: 0.12152351981618989, recall: 0.7667587049248564\n",
      "val_loss: 0.066760933301756, val_f1: 0.2045507349182209, val_precision: 0.11878259810448172, val_recall: 0.7359522702428726\n"
     ]
    },
    {
     "name": "stderr",
     "output_type": "stream",
     "text": [
      "100%|█████████████████████████████████████████| 655/655 [00:13<00:00, 47.34it/s]\n"
     ]
    },
    {
     "name": "stdout",
     "output_type": "stream",
     "text": [
      "Epoch: 973, loss: 0.06082042886356589, f1: 0.20907119774341512, precision: 0.12094701429160724, recall: 0.7703947677412106\n",
      "val_loss: 0.06760222296478278, val_f1: 0.20231069561505358, val_precision: 0.11689130093372606, val_recall: 0.7514117579531232\n"
     ]
    },
    {
     "name": "stderr",
     "output_type": "stream",
     "text": [
      "100%|█████████████████████████████████████████| 655/655 [00:13<00:00, 47.19it/s]\n"
     ]
    },
    {
     "name": "stdout",
     "output_type": "stream",
     "text": [
      "Epoch: 974, loss: 0.06092719108235973, f1: 0.20605587727552827, precision: 0.11909825103855087, recall: 0.7635475275056963\n",
      "val_loss: 0.06772034458918583, val_f1: 0.19821224370446755, val_precision: 0.11475451931212131, val_recall: 0.7267757227661413\n"
     ]
    },
    {
     "name": "stderr",
     "output_type": "stream",
     "text": [
      "100%|█████████████████████████████████████████| 655/655 [00:13<00:00, 47.33it/s]\n"
     ]
    },
    {
     "name": "stdout",
     "output_type": "stream",
     "text": [
      "Epoch: 975, loss: 0.06037824730609209, f1: 0.21033221882460698, precision: 0.12193244880150633, recall: 0.7648157987203307\n",
      "val_loss: 0.06797135969487215, val_f1: 0.20307118018195458, val_precision: 0.11716250001683558, val_recall: 0.7612614158643495\n"
     ]
    },
    {
     "name": "stderr",
     "output_type": "stream",
     "text": [
      "100%|█████████████████████████████████████████| 655/655 [00:13<00:00, 47.28it/s]\n"
     ]
    },
    {
     "name": "stdout",
     "output_type": "stream",
     "text": [
      "Epoch: 976, loss: 0.060844334138144975, f1: 0.21493651003693331, precision: 0.12490399019252367, recall: 0.7698679600735657\n",
      "val_loss: 0.07054746990869624, val_f1: 0.19513133059219934, val_precision: 0.11173610859593257, val_recall: 0.7693201646618887\n"
     ]
    },
    {
     "name": "stderr",
     "output_type": "stream",
     "text": [
      "100%|█████████████████████████████████████████| 655/655 [00:13<00:00, 47.34it/s]\n"
     ]
    },
    {
     "name": "stdout",
     "output_type": "stream",
     "text": [
      "Epoch: 977, loss: 0.0617319791911895, f1: 0.2067963590717646, precision: 0.11948997206730015, recall: 0.7677855379026355\n",
      "val_loss: 0.06765622625110346, val_f1: 0.19959275074235014, val_precision: 0.11557938666253803, val_recall: 0.7308113542855332\n"
     ]
    },
    {
     "name": "stderr",
     "output_type": "stream",
     "text": [
      "100%|█████████████████████████████████████████| 655/655 [00:13<00:00, 47.31it/s]\n"
     ]
    },
    {
     "name": "stdout",
     "output_type": "stream",
     "text": [
      "Epoch: 978, loss: 0.060317146654404304, f1: 0.20835848649551336, precision: 0.12059655840729029, recall: 0.7652687465075318\n",
      "val_loss: 0.06804355779884878, val_f1: 0.19976204152155502, val_precision: 0.11540682530543263, val_recall: 0.7424382730771643\n"
     ]
    },
    {
     "name": "stderr",
     "output_type": "stream",
     "text": [
      "100%|█████████████████████████████████████████| 655/655 [00:13<00:00, 47.32it/s]\n"
     ]
    },
    {
     "name": "stdout",
     "output_type": "stream",
     "text": [
      "Epoch: 979, loss: 0.06107768334647399, f1: 0.20784409649156788, precision: 0.12020264278087793, recall: 0.7672757168307559\n",
      "val_loss: 0.06763708273615313, val_f1: 0.20009456842339213, val_precision: 0.1161765733374915, val_recall: 0.7206238638780532\n"
     ]
    },
    {
     "name": "stderr",
     "output_type": "stream",
     "text": [
      "100%|█████████████████████████████████████████| 655/655 [00:13<00:00, 47.18it/s]\n"
     ]
    },
    {
     "name": "stdout",
     "output_type": "stream",
     "text": [
      "Epoch: 980, loss: 0.060810225212065874, f1: 0.2125628161739886, precision: 0.12326482878358082, recall: 0.7713852117762311\n",
      "val_loss: 0.06819526437635816, val_f1: 0.20271732572698964, val_precision: 0.11644928702452315, val_recall: 0.7821508175052634\n"
     ]
    },
    {
     "name": "stderr",
     "output_type": "stream",
     "text": [
      "100%|█████████████████████████████████████████| 655/655 [00:13<00:00, 47.35it/s]\n"
     ]
    },
    {
     "name": "stdout",
     "output_type": "stream",
     "text": [
      "Epoch: 981, loss: 0.06048755930125258, f1: 0.20981878803307566, precision: 0.12141059929049994, recall: 0.7718898218210417\n",
      "val_loss: 0.06801911350339651, val_f1: 0.20220878605898226, val_precision: 0.11671945069908002, val_recall: 0.7557352311704137\n"
     ]
    },
    {
     "name": "stderr",
     "output_type": "stream",
     "text": [
      "100%|█████████████████████████████████████████| 655/655 [00:13<00:00, 47.29it/s]\n"
     ]
    },
    {
     "name": "stdout",
     "output_type": "stream",
     "text": [
      "Epoch: 982, loss: 0.06102186526164754, f1: 0.2062542973402922, precision: 0.1192761868782313, recall: 0.7616932289404723\n",
      "val_loss: 0.06776519926316148, val_f1: 0.20053890591826182, val_precision: 0.11580726764498091, val_recall: 0.7473336251093707\n"
     ]
    },
    {
     "name": "stderr",
     "output_type": "stream",
     "text": [
      "100%|█████████████████████████████████████████| 655/655 [00:13<00:00, 47.39it/s]\n"
     ]
    },
    {
     "name": "stdout",
     "output_type": "stream",
     "text": [
      "Epoch: 983, loss: 0.06036403893344799, f1: 0.21071630988281384, precision: 0.12200710948144321, recall: 0.772087155009499\n",
      "val_loss: 0.06803083577013891, val_f1: 0.1972453338681604, val_precision: 0.11360334424908623, val_recall: 0.7478877321022366\n"
     ]
    },
    {
     "name": "stderr",
     "output_type": "stream",
     "text": [
      "100%|█████████████████████████████████████████| 655/655 [00:13<00:00, 47.35it/s]\n"
     ]
    },
    {
     "name": "stdout",
     "output_type": "stream",
     "text": [
      "Epoch: 984, loss: 0.060257214917765776, f1: 0.21179189780305277, precision: 0.12279240496168695, recall: 0.7695825796261544\n",
      "val_loss: 0.06767812382788696, val_f1: 0.20091973742815827, val_precision: 0.11663074837143131, val_recall: 0.7245561105942507\n"
     ]
    },
    {
     "name": "stderr",
     "output_type": "stream",
     "text": [
      "100%|█████████████████████████████████████████| 655/655 [00:13<00:00, 47.18it/s]\n"
     ]
    },
    {
     "name": "stdout",
     "output_type": "stream",
     "text": [
      "Epoch: 985, loss: 0.060778612384700594, f1: 0.2087030953715122, precision: 0.12083272319251515, recall: 0.7650596082210541\n",
      "val_loss: 0.06981970462093659, val_f1: 0.19751863366772465, val_precision: 0.113487718178284, val_recall: 0.7609766500942204\n"
     ]
    },
    {
     "name": "stderr",
     "output_type": "stream",
     "text": [
      "100%|█████████████████████████████████████████| 655/655 [00:13<00:00, 47.37it/s]\n"
     ]
    },
    {
     "name": "stdout",
     "output_type": "stream",
     "text": [
      "Epoch: 986, loss: 0.06108346852342392, f1: 0.20581634918705116, precision: 0.11870967921168181, recall: 0.7731033651200869\n",
      "val_loss: 0.06844713445752859, val_f1: 0.19857268237497738, val_precision: 0.11447403872590683, val_recall: 0.7483496716536513\n"
     ]
    },
    {
     "name": "stderr",
     "output_type": "stream",
     "text": [
      "100%|█████████████████████████████████████████| 655/655 [00:13<00:00, 47.40it/s]\n"
     ]
    },
    {
     "name": "stdout",
     "output_type": "stream",
     "text": [
      "Epoch: 987, loss: 0.06116200774509943, f1: 0.20677531224257206, precision: 0.11935807582317987, recall: 0.7726880024976402\n",
      "val_loss: 0.06829346735201297, val_f1: 0.1975397216380499, val_precision: 0.1136599168557366, val_recall: 0.7539376709439339\n"
     ]
    },
    {
     "name": "stderr",
     "output_type": "stream",
     "text": [
      "100%|█████████████████████████████████████████| 655/655 [00:13<00:00, 47.45it/s]\n"
     ]
    },
    {
     "name": "stdout",
     "output_type": "stream",
     "text": [
      "Epoch: 988, loss: 0.06083016585281575, f1: 0.20880715156106214, precision: 0.12090705421838539, recall: 0.7648768618702888\n",
      "val_loss: 0.06827758547397109, val_f1: 0.2007793304981299, val_precision: 0.11601568196062853, val_recall: 0.7453451311779679\n"
     ]
    },
    {
     "name": "stderr",
     "output_type": "stream",
     "text": [
      "100%|█████████████████████████████████████████| 655/655 [00:13<00:00, 47.32it/s]\n"
     ]
    },
    {
     "name": "stdout",
     "output_type": "stream",
     "text": [
      "Epoch: 989, loss: 0.061144972760372486, f1: 0.20649384630937764, precision: 0.1192225591219137, recall: 0.7705084433082405\n",
      "val_loss: 0.06711446590813691, val_f1: 0.20716825184681872, val_precision: 0.11966841247513754, val_recall: 0.7706744011935838\n"
     ]
    },
    {
     "name": "stderr",
     "output_type": "stream",
     "text": [
      "100%|█████████████████████████████████████████| 655/655 [00:13<00:00, 47.38it/s]\n"
     ]
    },
    {
     "name": "stdout",
     "output_type": "stream",
     "text": [
      "Epoch: 990, loss: 0.06065670019371137, f1: 0.20753976096662644, precision: 0.11980785156905878, recall: 0.7751882312179522\n",
      "val_loss: 0.06818981971079056, val_f1: 0.19921989845489554, val_precision: 0.1147954155340654, val_recall: 0.7530072032038225\n"
     ]
    },
    {
     "name": "stderr",
     "output_type": "stream",
     "text": [
      "100%|█████████████████████████████████████████| 655/655 [00:13<00:00, 47.35it/s]\n"
     ]
    },
    {
     "name": "stdout",
     "output_type": "stream",
     "text": [
      "Epoch: 991, loss: 0.060481913967574616, f1: 0.2109468078889715, precision: 0.12250211675729575, recall: 0.7587605350345146\n",
      "val_loss: 0.0683514171006551, val_f1: 0.20183744254274835, val_precision: 0.11591864392212635, val_recall: 0.779894776027137\n"
     ]
    },
    {
     "name": "stderr",
     "output_type": "stream",
     "text": [
      "100%|█████████████████████████████████████████| 655/655 [00:13<00:00, 47.37it/s]\n"
     ]
    },
    {
     "name": "stdout",
     "output_type": "stream",
     "text": [
      "Epoch: 992, loss: 0.0605680747583281, f1: 0.21116449880975152, precision: 0.12245877600338964, recall: 0.7661216870860289\n",
      "val_loss: 0.06695954142770635, val_f1: 0.20093774515081042, val_precision: 0.11771888694930993, val_recall: 0.6856274781150555\n"
     ]
    },
    {
     "name": "stderr",
     "output_type": "stream",
     "text": [
      "100%|█████████████████████████████████████████| 655/655 [00:13<00:00, 47.28it/s]\n"
     ]
    },
    {
     "name": "stdout",
     "output_type": "stream",
     "text": [
      "Epoch: 993, loss: 0.060934218725914716, f1: 0.20715312354217905, precision: 0.11992549930222844, recall: 0.7597723621334739\n",
      "val_loss: 0.0676144991975722, val_f1: 0.20046710036321647, val_precision: 0.11553576525830485, val_recall: 0.7567897763000716\n"
     ]
    },
    {
     "name": "stderr",
     "output_type": "stream",
     "text": [
      "100%|█████████████████████████████████████████| 655/655 [00:13<00:00, 47.29it/s]\n"
     ]
    },
    {
     "name": "stdout",
     "output_type": "stream",
     "text": [
      "Epoch: 994, loss: 0.060710558238375276, f1: 0.20976175715994144, precision: 0.12154850050209816, recall: 0.7648429741386239\n",
      "val_loss: 0.06774299800259258, val_f1: 0.201412170232594, val_precision: 0.11615620347577224, val_recall: 0.7571227767872154\n"
     ]
    },
    {
     "name": "stderr",
     "output_type": "stream",
     "text": [
      "100%|█████████████████████████████████████████| 655/655 [00:13<00:00, 47.23it/s]\n"
     ]
    },
    {
     "name": "stdout",
     "output_type": "stream",
     "text": [
      "Epoch: 995, loss: 0.06115932979243309, f1: 0.21002204334460836, precision: 0.12197941391096088, recall: 0.7548848881862545\n",
      "val_loss: 0.0681825779686007, val_f1: 0.19776487425034384, val_precision: 0.11353874211242303, val_recall: 0.7660175970661531\n"
     ]
    },
    {
     "name": "stderr",
     "output_type": "stream",
     "text": [
      "100%|█████████████████████████████████████████| 655/655 [00:13<00:00, 47.30it/s]\n"
     ]
    },
    {
     "name": "stdout",
     "output_type": "stream",
     "text": [
      "Epoch: 996, loss: 0.061181118081942314, f1: 0.20847886178405867, precision: 0.1206772759229741, recall: 0.7652664044544897\n",
      "val_loss: 0.06715127854787428, val_f1: 0.20212028344720162, val_precision: 0.1165799028197423, val_recall: 0.7591342049727746\n"
     ]
    },
    {
     "name": "stderr",
     "output_type": "stream",
     "text": [
      "100%|█████████████████████████████████████████| 655/655 [00:13<00:00, 47.35it/s]\n"
     ]
    },
    {
     "name": "stdout",
     "output_type": "stream",
     "text": [
      "Epoch: 997, loss: 0.06038143206529945, f1: 0.20929951441311842, precision: 0.12115561132930674, recall: 0.7681459690323312\n",
      "val_loss: 0.06823643518252931, val_f1: 0.1999402209728811, val_precision: 0.11494786673815015, val_recall: 0.7672277973332536\n"
     ]
    },
    {
     "name": "stderr",
     "output_type": "stream",
     "text": [
      "100%|█████████████████████████████████████████| 655/655 [00:13<00:00, 47.29it/s]\n"
     ]
    },
    {
     "name": "stdout",
     "output_type": "stream",
     "text": [
      "Epoch: 998, loss: 0.06031765982309598, f1: 0.21023850051276313, precision: 0.12169512223651391, recall: 0.7717542717930015\n",
      "val_loss: 0.06749547018302143, val_f1: 0.19974630558861534, val_precision: 0.11616883001401337, val_recall: 0.7119769957087455\n"
     ]
    },
    {
     "name": "stderr",
     "output_type": "stream",
     "text": [
      "100%|█████████████████████████████████████████| 655/655 [00:13<00:00, 47.35it/s]\n"
     ]
    },
    {
     "name": "stdout",
     "output_type": "stream",
     "text": [
      "Epoch: 999, loss: 0.060644941597835705, f1: 0.21164668825264857, precision: 0.12277358915045403, recall: 0.7664969890285994\n",
      "val_loss: 0.06701649076074635, val_f1: 0.20787957145352237, val_precision: 0.12030685740873354, val_recall: 0.7640138213787604\n"
     ]
    },
    {
     "name": "stderr",
     "output_type": "stream",
     "text": [
      "100%|█████████████████████████████████████████| 655/655 [00:13<00:00, 47.29it/s]\n"
     ]
    },
    {
     "name": "stdout",
     "output_type": "stream",
     "text": [
      "Epoch: 1000, loss: 0.06123032355609968, f1: 0.21238525937841118, precision: 0.12338219828839692, recall: 0.7622227409300003\n",
      "val_loss: 0.06774308309471662, val_f1: 0.2036926712917482, val_precision: 0.11769297121972734, val_recall: 0.7564127914812586\n"
     ]
    },
    {
     "name": "stderr",
     "output_type": "stream",
     "text": [
      "100%|█████████████████████████████████████████| 655/655 [00:13<00:00, 47.33it/s]\n"
     ]
    },
    {
     "name": "stdout",
     "output_type": "stream",
     "text": [
      "Epoch: 1001, loss: 0.06069546118947386, f1: 0.21239555590021317, precision: 0.1231895342142186, recall: 0.7699295232882937\n",
      "val_loss: 0.06832546501531514, val_f1: 0.20268348572943765, val_precision: 0.11698312113283697, val_recall: 0.757943013597519\n"
     ]
    },
    {
     "name": "stderr",
     "output_type": "stream",
     "text": [
      "100%|█████████████████████████████████████████| 655/655 [00:13<00:00, 47.33it/s]\n"
     ]
    },
    {
     "name": "stdout",
     "output_type": "stream",
     "text": [
      "Epoch: 1002, loss: 0.0606603249120135, f1: 0.21180689784415477, precision: 0.12290308679887697, recall: 0.765655178627895\n",
      "val_loss: 0.06738911183345891, val_f1: 0.20595700165415054, val_precision: 0.11961207332072454, val_recall: 0.7405187307831345\n"
     ]
    },
    {
     "name": "stderr",
     "output_type": "stream",
     "text": [
      "100%|█████████████████████████████████████████| 655/655 [00:13<00:00, 47.33it/s]\n"
     ]
    },
    {
     "name": "stdout",
     "output_type": "stream",
     "text": [
      "Epoch: 1003, loss: 0.0606035486981918, f1: 0.20994146685335105, precision: 0.12186662074292207, recall: 0.7571326867997191\n",
      "val_loss: 0.06771289347030154, val_f1: 0.20193434116350062, val_precision: 0.11593743352168197, val_recall: 0.7819418185347811\n"
     ]
    },
    {
     "name": "stderr",
     "output_type": "stream",
     "text": [
      "100%|█████████████████████████████████████████| 655/655 [00:13<00:00, 47.31it/s]\n"
     ]
    },
    {
     "name": "stdout",
     "output_type": "stream",
     "text": [
      "Epoch: 1004, loss: 0.06090982716445249, f1: 0.2087721186502954, precision: 0.12080924384871797, recall: 0.7678657496248493\n",
      "val_loss: 0.06742326461991996, val_f1: 0.20203346332415764, val_precision: 0.1163074795216527, val_recall: 0.7683732383158228\n"
     ]
    },
    {
     "name": "stderr",
     "output_type": "stream",
     "text": [
      "100%|█████████████████████████████████████████| 655/655 [00:13<00:00, 47.24it/s]\n"
     ]
    },
    {
     "name": "stdout",
     "output_type": "stream",
     "text": [
      "Epoch: 1005, loss: 0.0605612314454829, f1: 0.20877843593062456, precision: 0.12074202222266156, recall: 0.7707647616285405\n",
      "val_loss: 0.06766923791686193, val_f1: 0.19935674011184482, val_precision: 0.11518742001846159, val_recall: 0.7403222187123167\n"
     ]
    },
    {
     "name": "stderr",
     "output_type": "stream",
     "text": [
      "100%|█████████████████████████████████████████| 655/655 [00:13<00:00, 47.30it/s]\n"
     ]
    },
    {
     "name": "stdout",
     "output_type": "stream",
     "text": [
      "Epoch: 1006, loss: 0.06065137335668026, f1: 0.20787446866290005, precision: 0.12015748394738512, recall: 0.7699534138764134\n",
      "val_loss: 0.06857318164131374, val_f1: 0.19832966187317042, val_precision: 0.1140006592266535, val_recall: 0.7619969628819632\n"
     ]
    },
    {
     "name": "stderr",
     "output_type": "stream",
     "text": [
      "100%|█████████████████████████████████████████| 655/655 [00:13<00:00, 47.31it/s]\n"
     ]
    },
    {
     "name": "stdout",
     "output_type": "stream",
     "text": [
      "Epoch: 1007, loss: 0.06040274760337504, f1: 0.21132472938240446, precision: 0.12206251644138388, recall: 0.7864204138972377\n",
      "val_loss: 0.06715814629996862, val_f1: 0.2035544842644391, val_precision: 0.11750376139929809, val_recall: 0.7604485501389985\n"
     ]
    },
    {
     "name": "stderr",
     "output_type": "stream",
     "text": [
      "100%|█████████████████████████████████████████| 655/655 [00:13<00:00, 47.36it/s]\n"
     ]
    },
    {
     "name": "stdout",
     "output_type": "stream",
     "text": [
      "Epoch: 1008, loss: 0.060989749715983414, f1: 0.21004056015372058, precision: 0.12155210578899461, recall: 0.7721734075942113\n",
      "val_loss: 0.067875210447835, val_f1: 0.20026987893098117, val_precision: 0.11503425338348254, val_recall: 0.7731193572009375\n"
     ]
    },
    {
     "name": "stderr",
     "output_type": "stream",
     "text": [
      "100%|█████████████████████████████████████████| 655/655 [00:13<00:00, 47.32it/s]\n"
     ]
    },
    {
     "name": "stdout",
     "output_type": "stream",
     "text": [
      "Epoch: 1009, loss: 0.06027333891687502, f1: 0.20910904933339775, precision: 0.12115272832536743, recall: 0.7631588443317486\n",
      "val_loss: 0.06725063207431124, val_f1: 0.20553190463234972, val_precision: 0.11950183862076919, val_recall: 0.7337956308908419\n"
     ]
    },
    {
     "name": "stderr",
     "output_type": "stream",
     "text": [
      "100%|█████████████████████████████████████████| 655/655 [00:13<00:00, 47.25it/s]\n"
     ]
    },
    {
     "name": "stdout",
     "output_type": "stream",
     "text": [
      "Epoch: 1010, loss: 0.0604364313064523, f1: 0.21056537473585302, precision: 0.12199695265091216, recall: 0.7684553767888601\n",
      "val_loss: 0.0677026781091176, val_f1: 0.20007262330662207, val_precision: 0.11565824383827046, val_recall: 0.7406269588738407\n"
     ]
    },
    {
     "name": "stderr",
     "output_type": "stream",
     "text": [
      "100%|█████████████████████████████████████████| 655/655 [00:13<00:00, 47.36it/s]\n"
     ]
    },
    {
     "name": "stdout",
     "output_type": "stream",
     "text": [
      "Epoch: 1011, loss: 0.060118994816341476, f1: 0.21141300075176822, precision: 0.12256127114884044, recall: 0.7686561407023714\n",
      "val_loss: 0.06714440410563705, val_f1: 0.20255323780199114, val_precision: 0.11709474126270059, val_recall: 0.7497071532891431\n"
     ]
    },
    {
     "name": "stderr",
     "output_type": "stream",
     "text": [
      "100%|█████████████████████████████████████████| 655/655 [00:13<00:00, 47.35it/s]\n"
     ]
    },
    {
     "name": "stdout",
     "output_type": "stream",
     "text": [
      "Epoch: 1012, loss: 0.06152007618193863, f1: 0.20558685702836857, precision: 0.11879088738400005, recall: 0.7633038903124459\n",
      "val_loss: 0.06858246348832452, val_f1: 0.1941127765623841, val_precision: 0.11168203050048527, val_recall: 0.7411267384886742\n"
     ]
    },
    {
     "name": "stderr",
     "output_type": "stream",
     "text": [
      "100%|█████████████████████████████████████████| 655/655 [00:13<00:00, 47.30it/s]\n"
     ]
    },
    {
     "name": "stdout",
     "output_type": "stream",
     "text": [
      "Epoch: 1013, loss: 0.06093119952267675, f1: 0.209523058479132, precision: 0.12123294372239526, recall: 0.7710660545766809\n",
      "val_loss: 0.06748027984189604, val_f1: 0.20045160181718755, val_precision: 0.1154723705172778, val_recall: 0.7590763768471709\n"
     ]
    },
    {
     "name": "stderr",
     "output_type": "stream",
     "text": [
      "100%|█████████████████████████████████████████| 655/655 [00:13<00:00, 47.36it/s]\n"
     ]
    },
    {
     "name": "stdout",
     "output_type": "stream",
     "text": [
      "Epoch: 1014, loss: 0.060624744106112544, f1: 0.2092277100566502, precision: 0.1209728459539674, recall: 0.7736073591895686\n",
      "val_loss: 0.06767573734796649, val_f1: 0.20117128354842867, val_precision: 0.1160910942104705, val_recall: 0.7530961939637814\n"
     ]
    },
    {
     "name": "stderr",
     "output_type": "stream",
     "text": [
      "100%|█████████████████████████████████████████| 655/655 [00:13<00:00, 47.25it/s]\n"
     ]
    },
    {
     "name": "stdout",
     "output_type": "stream",
     "text": [
      "Epoch: 1015, loss: 0.06100688538708875, f1: 0.20754949415620322, precision: 0.12022958471446889, recall: 0.758244780092749\n",
      "val_loss: 0.06807073786718036, val_f1: 0.204039854569387, val_precision: 0.11829676691852851, val_recall: 0.7414601255857617\n"
     ]
    },
    {
     "name": "stderr",
     "output_type": "stream",
     "text": [
      "100%|█████████████████████████████████████████| 655/655 [00:13<00:00, 47.33it/s]\n"
     ]
    },
    {
     "name": "stdout",
     "output_type": "stream",
     "text": [
      "Epoch: 1016, loss: 0.060227036530520854, f1: 0.21427487210001028, precision: 0.1243898130868, recall: 0.7724619985081768\n",
      "val_loss: 0.06768397639992588, val_f1: 0.20267516881010844, val_precision: 0.11683881297331611, val_recall: 0.7638209461482293\n"
     ]
    },
    {
     "name": "stderr",
     "output_type": "stream",
     "text": [
      "100%|█████████████████████████████████████████| 655/655 [00:13<00:00, 47.40it/s]\n"
     ]
    },
    {
     "name": "stdout",
     "output_type": "stream",
     "text": [
      "Epoch: 1017, loss: 0.060166559782046256, f1: 0.21216137573680793, precision: 0.12280885089003972, recall: 0.7787852953067262\n",
      "val_loss: 0.06731389407410261, val_f1: 0.19929293876818674, val_precision: 0.11505268664535033, val_recall: 0.7441537285206514\n"
     ]
    },
    {
     "name": "stderr",
     "output_type": "stream",
     "text": [
      "100%|█████████████████████████████████████████| 655/655 [00:13<00:00, 47.28it/s]\n"
     ]
    },
    {
     "name": "stdout",
     "output_type": "stream",
     "text": [
      "Epoch: 1018, loss: 0.06060525022077424, f1: 0.20946774013601782, precision: 0.12125534038326014, recall: 0.7686689394120951\n",
      "val_loss: 0.06767821210274182, val_f1: 0.19946847634569093, val_precision: 0.11460470928118453, val_recall: 0.7686382823991119\n"
     ]
    },
    {
     "name": "stderr",
     "output_type": "stream",
     "text": [
      "100%|█████████████████████████████████████████| 655/655 [00:13<00:00, 47.37it/s]\n"
     ]
    },
    {
     "name": "stdout",
     "output_type": "stream",
     "text": [
      "Epoch: 1019, loss: 0.06091160180743869, f1: 0.20797757120999455, precision: 0.12003739148605871, recall: 0.7777960690378233\n",
      "val_loss: 0.0677383108055988, val_f1: 0.2014995500944258, val_precision: 0.1163990411997149, val_recall: 0.7493755363543099\n"
     ]
    },
    {
     "name": "stderr",
     "output_type": "stream",
     "text": [
      "100%|█████████████████████████████████████████| 655/655 [00:13<00:00, 47.36it/s]\n"
     ]
    },
    {
     "name": "stdout",
     "output_type": "stream",
     "text": [
      "Epoch: 1020, loss: 0.0597218910310389, f1: 0.2147965669602749, precision: 0.12485362379491784, recall: 0.768192692897247\n",
      "val_loss: 0.06721665842823471, val_f1: 0.20723664233512962, val_precision: 0.12004452933548787, val_recall: 0.7572540459693025\n"
     ]
    },
    {
     "name": "stderr",
     "output_type": "stream",
     "text": [
      "100%|█████████████████████████████████████████| 655/655 [00:13<00:00, 47.20it/s]\n"
     ]
    },
    {
     "name": "stdout",
     "output_type": "stream",
     "text": [
      "Epoch: 1021, loss: 0.0614686613120423, f1: 0.2030454801547186, precision: 0.11746960381714215, recall: 0.747848370057026\n",
      "val_loss: 0.06849751530915772, val_f1: 0.20193631228762401, val_precision: 0.11657751126026888, val_recall: 0.7540744811023047\n"
     ]
    },
    {
     "name": "stderr",
     "output_type": "stream",
     "text": [
      "100%|█████████████████████████████████████████| 655/655 [00:13<00:00, 47.35it/s]\n"
     ]
    },
    {
     "name": "stdout",
     "output_type": "stream",
     "text": [
      "Epoch: 1022, loss: 0.06076369597967572, f1: 0.2088777525362992, precision: 0.12074880808563405, recall: 0.7732018728406375\n",
      "val_loss: 0.06735672456118355, val_f1: 0.20091003345214384, val_precision: 0.11675550394964943, val_recall: 0.7195291736530601\n"
     ]
    },
    {
     "name": "stderr",
     "output_type": "stream",
     "text": [
      "100%|█████████████████████████████████████████| 655/655 [00:13<00:00, 47.32it/s]\n"
     ]
    },
    {
     "name": "stdout",
     "output_type": "stream",
     "text": [
      "Epoch: 1023, loss: 0.06048100779529746, f1: 0.2130169637448475, precision: 0.12356784740206964, recall: 0.7714837818655349\n",
      "val_loss: 0.0666100837743132, val_f1: 0.2065238480981434, val_precision: 0.1197553240318159, val_recall: 0.749764462608263\n"
     ]
    },
    {
     "name": "stderr",
     "output_type": "stream",
     "text": [
      "100%|█████████████████████████████████████████| 655/655 [00:13<00:00, 47.34it/s]\n"
     ]
    },
    {
     "name": "stdout",
     "output_type": "stream",
     "text": [
      "Epoch: 1024, loss: 0.06132832649270542, f1: 0.20710650574785217, precision: 0.1195402903386342, recall: 0.7743014264766497\n",
      "val_loss: 0.0676122869988647, val_f1: 0.20654338679678666, val_precision: 0.1210369030419532, val_recall: 0.7036047528643127\n"
     ]
    },
    {
     "name": "stderr",
     "output_type": "stream",
     "text": [
      "100%|█████████████████████████████████████████| 655/655 [00:13<00:00, 47.20it/s]\n"
     ]
    },
    {
     "name": "stdout",
     "output_type": "stream",
     "text": [
      "Epoch: 1025, loss: 0.060740564299003194, f1: 0.21338254575876034, precision: 0.12411159665558402, recall: 0.7601250353546543\n",
      "val_loss: 0.06728102337705706, val_f1: 0.2017804752183848, val_precision: 0.11607184294833366, val_recall: 0.7713621552657643\n"
     ]
    },
    {
     "name": "stderr",
     "output_type": "stream",
     "text": [
      "100%|█████████████████████████████████████████| 655/655 [00:13<00:00, 47.31it/s]\n"
     ]
    },
    {
     "name": "stdout",
     "output_type": "stream",
     "text": [
      "Epoch: 1026, loss: 0.06133833322537954, f1: 0.20823321681249649, precision: 0.12023970611279702, recall: 0.7764606171891889\n",
      "val_loss: 0.06826259765278446, val_f1: 0.2032139885231762, val_precision: 0.11768049982572915, val_recall: 0.7439050444085663\n"
     ]
    },
    {
     "name": "stderr",
     "output_type": "stream",
     "text": [
      "100%|█████████████████████████████████████████| 655/655 [00:13<00:00, 47.33it/s]\n"
     ]
    },
    {
     "name": "stdout",
     "output_type": "stream",
     "text": [
      "Epoch: 1027, loss: 0.060566313662886166, f1: 0.2093594393844576, precision: 0.12100037133733507, recall: 0.7760894129521975\n",
      "val_loss: 0.06817380948111824, val_f1: 0.2019716201437257, val_precision: 0.11632572952657938, val_recall: 0.7657959393541748\n"
     ]
    },
    {
     "name": "stderr",
     "output_type": "stream",
     "text": [
      "100%|█████████████████████████████████████████| 655/655 [00:13<00:00, 47.35it/s]\n"
     ]
    },
    {
     "name": "stdout",
     "output_type": "stream",
     "text": [
      "Epoch: 1028, loss: 0.06020589178385398, f1: 0.21192006062548802, precision: 0.1227956562438084, recall: 0.7728510666098304\n",
      "val_loss: 0.0672641983255744, val_f1: 0.1978894381351839, val_precision: 0.1143733221832492, val_recall: 0.733484175295458\n"
     ]
    },
    {
     "name": "stderr",
     "output_type": "stream",
     "text": [
      "100%|█████████████████████████████████████████| 655/655 [00:13<00:00, 47.29it/s]\n"
     ]
    },
    {
     "name": "stdout",
     "output_type": "stream",
     "text": [
      "Epoch: 1029, loss: 0.060912513678879225, f1: 0.20982059219501217, precision: 0.12148309359220319, recall: 0.7690208803720147\n",
      "val_loss: 0.0685091812992383, val_f1: 0.18801091076164145, val_precision: 0.1075982620785816, val_recall: 0.7441306162728082\n"
     ]
    },
    {
     "name": "stderr",
     "output_type": "stream",
     "text": [
      "100%|█████████████████████████████████████████| 655/655 [00:13<00:00, 47.27it/s]\n"
     ]
    },
    {
     "name": "stdout",
     "output_type": "stream",
     "text": [
      "Epoch: 1030, loss: 0.06039252951314659, f1: 0.20837853766931663, precision: 0.12043901336848566, recall: 0.7722246165721471\n",
      "val_loss: 0.0677484959073433, val_f1: 0.20019744478463034, val_precision: 0.11542188644263927, val_recall: 0.7539946274199617\n"
     ]
    },
    {
     "name": "stderr",
     "output_type": "stream",
     "text": [
      "100%|█████████████████████████████████████████| 655/655 [00:13<00:00, 47.37it/s]\n"
     ]
    },
    {
     "name": "stdout",
     "output_type": "stream",
     "text": [
      "Epoch: 1031, loss: 0.06028582662742101, f1: 0.2076749681069817, precision: 0.12007233278171821, recall: 0.7679781406776596\n",
      "val_loss: 0.06805833816152373, val_f1: 0.19793943874985695, val_precision: 0.11364845643161771, val_recall: 0.766261824637378\n"
     ]
    },
    {
     "name": "stderr",
     "output_type": "stream",
     "text": [
      "100%|█████████████████████████████████████████| 655/655 [00:13<00:00, 47.30it/s]\n"
     ]
    },
    {
     "name": "stdout",
     "output_type": "stream",
     "text": [
      "Epoch: 1032, loss: 0.06049796605184105, f1: 0.21008873265262468, precision: 0.1216179239009116, recall: 0.770822902239916\n",
      "val_loss: 0.06738275112669675, val_f1: 0.200465475265834, val_precision: 0.11558764649623442, val_recall: 0.7545252367170578\n"
     ]
    },
    {
     "name": "stderr",
     "output_type": "stream",
     "text": [
      "100%|█████████████████████████████████████████| 655/655 [00:13<00:00, 47.32it/s]\n"
     ]
    },
    {
     "name": "stdout",
     "output_type": "stream",
     "text": [
      "Epoch: 1033, loss: 0.06059775254841897, f1: 0.2104401220140388, precision: 0.12206014846913688, recall: 0.7626549622939743\n",
      "val_loss: 0.06855400840521132, val_f1: 0.1988588081064595, val_precision: 0.11486092602851194, val_recall: 0.7400795230898288\n"
     ]
    },
    {
     "name": "stderr",
     "output_type": "stream",
     "text": [
      "100%|█████████████████████████████████████████| 655/655 [00:13<00:00, 47.40it/s]\n"
     ]
    },
    {
     "name": "stdout",
     "output_type": "stream",
     "text": [
      "Epoch: 1034, loss: 0.06080923035228981, f1: 0.21075352529627508, precision: 0.12213484407367028, recall: 0.7679980869056614\n",
      "val_loss: 0.06769417267754127, val_f1: 0.20087068673720546, val_precision: 0.11566419535906079, val_recall: 0.7628134532805977\n"
     ]
    },
    {
     "name": "stderr",
     "output_type": "stream",
     "text": [
      "100%|█████████████████████████████████████████| 655/655 [00:13<00:00, 47.22it/s]\n"
     ]
    },
    {
     "name": "stdout",
     "output_type": "stream",
     "text": [
      "Epoch: 1035, loss: 0.06060087121739185, f1: 0.2110924572612086, precision: 0.12238437223269512, recall: 0.7671397297550704\n",
      "val_loss: 0.06754471204850242, val_f1: 0.20302395541502355, val_precision: 0.11862587680348084, val_recall: 0.7036355242064787\n"
     ]
    },
    {
     "name": "stderr",
     "output_type": "stream",
     "text": [
      "100%|█████████████████████████████████████████| 655/655 [00:13<00:00, 47.34it/s]\n"
     ]
    },
    {
     "name": "stdout",
     "output_type": "stream",
     "text": [
      "Epoch: 1036, loss: 0.06046413799449233, f1: 0.21185857558375623, precision: 0.12289654995734227, recall: 0.7672625012866413\n",
      "val_loss: 0.06788372934513956, val_f1: 0.19596899684107605, val_precision: 0.11276291001485575, val_recall: 0.7476457877580179\n"
     ]
    },
    {
     "name": "stderr",
     "output_type": "stream",
     "text": [
      "100%|█████████████████████████████████████████| 655/655 [00:13<00:00, 47.27it/s]\n"
     ]
    },
    {
     "name": "stdout",
     "output_type": "stream",
     "text": [
      "Epoch: 1037, loss: 0.06036079220317361, f1: 0.21008375291002504, precision: 0.1216895574668266, recall: 0.7678246268789277\n",
      "val_loss: 0.068350198422345, val_f1: 0.19874452820378988, val_precision: 0.11448656209026796, val_recall: 0.752716989760552\n"
     ]
    },
    {
     "name": "stderr",
     "output_type": "stream",
     "text": [
      "100%|█████████████████████████████████████████| 655/655 [00:13<00:00, 47.39it/s]\n"
     ]
    },
    {
     "name": "stdout",
     "output_type": "stream",
     "text": [
      "Epoch: 1038, loss: 0.061053681559860705, f1: 0.20950083527455873, precision: 0.12146007941968255, recall: 0.7614154140969724\n",
      "val_loss: 0.06766598350411161, val_f1: 0.20298596169351776, val_precision: 0.11677322951957174, val_recall: 0.7756197821656499\n"
     ]
    },
    {
     "name": "stderr",
     "output_type": "stream",
     "text": [
      "100%|█████████████████████████████████████████| 655/655 [00:13<00:00, 47.35it/s]\n"
     ]
    },
    {
     "name": "stdout",
     "output_type": "stream",
     "text": [
      "Epoch: 1039, loss: 0.06078896388439959, f1: 0.20810317751901056, precision: 0.12043433003945148, recall: 0.7649137081308219\n",
      "val_loss: 0.06716404970598604, val_f1: 0.20458544495464856, val_precision: 0.11800996488314805, val_recall: 0.7680457090155794\n"
     ]
    },
    {
     "name": "stderr",
     "output_type": "stream",
     "text": [
      "100%|█████████████████████████████████████████| 655/655 [00:13<00:00, 47.40it/s]\n"
     ]
    },
    {
     "name": "stdout",
     "output_type": "stream",
     "text": [
      "Epoch: 1040, loss: 0.06115477037054437, f1: 0.20838688121179924, precision: 0.1204613754021018, recall: 0.7715352514317928\n",
      "val_loss: 0.06710171485063407, val_f1: 0.20508700081668435, val_precision: 0.11869024568869638, val_recall: 0.7537688274585873\n"
     ]
    },
    {
     "name": "stderr",
     "output_type": "stream",
     "text": [
      "100%|█████████████████████████████████████████| 655/655 [00:13<00:00, 47.28it/s]\n"
     ]
    },
    {
     "name": "stdout",
     "output_type": "stream",
     "text": [
      "Epoch: 1041, loss: 0.060212688751104165, f1: 0.2105289095907731, precision: 0.12205368669575635, recall: 0.7652473241204524\n",
      "val_loss: 0.06734252775754404, val_f1: 0.20313517688766114, val_precision: 0.11744091646540739, val_recall: 0.7514612344563554\n"
     ]
    },
    {
     "name": "stderr",
     "output_type": "stream",
     "text": [
      "100%|█████████████████████████████████████████| 655/655 [00:13<00:00, 47.36it/s]\n"
     ]
    },
    {
     "name": "stdout",
     "output_type": "stream",
     "text": [
      "Epoch: 1042, loss: 0.060812689005646084, f1: 0.21253154552679326, precision: 0.12334875507521947, recall: 0.7672987384878042\n",
      "val_loss: 0.06746457060030021, val_f1: 0.20125428227349096, val_precision: 0.11576341961322506, val_recall: 0.7696040993163346\n"
     ]
    },
    {
     "name": "stderr",
     "output_type": "stream",
     "text": [
      "100%|█████████████████████████████████████████| 655/655 [00:13<00:00, 47.41it/s]\n"
     ]
    },
    {
     "name": "stdout",
     "output_type": "stream",
     "text": [
      "Epoch: 1043, loss: 0.060781161755302085, f1: 0.2103227931142449, precision: 0.12205734035028643, recall: 0.7596924166187985\n",
      "val_loss: 0.06769183574569061, val_f1: 0.20068979528481773, val_precision: 0.11563527409986961, val_recall: 0.7588701151789875\n"
     ]
    },
    {
     "name": "stderr",
     "output_type": "stream",
     "text": [
      "100%|█████████████████████████████████████████| 655/655 [00:13<00:00, 47.42it/s]\n"
     ]
    },
    {
     "name": "stdout",
     "output_type": "stream",
     "text": [
      "Epoch: 1044, loss: 0.06084752621356654, f1: 0.2073677378772359, precision: 0.11986415233278207, recall: 0.7680940288965029\n",
      "val_loss: 0.06765439029876666, val_f1: 0.20971582837618463, val_precision: 0.12128082453059631, val_recall: 0.7743605747135407\n"
     ]
    },
    {
     "name": "stderr",
     "output_type": "stream",
     "text": [
      "100%|█████████████████████████████████████████| 655/655 [00:13<00:00, 47.29it/s]\n"
     ]
    },
    {
     "name": "stdout",
     "output_type": "stream",
     "text": [
      "Epoch: 1045, loss: 0.06155588621600666, f1: 0.20739477143056026, precision: 0.11995313998439726, recall: 0.7651953159966541\n",
      "val_loss: 0.06823607369266245, val_f1: 0.20079505588231014, val_precision: 0.11561624097868527, val_recall: 0.7627178957566209\n"
     ]
    },
    {
     "name": "stderr",
     "output_type": "stream",
     "text": [
      "100%|█████████████████████████████████████████| 655/655 [00:13<00:00, 47.40it/s]\n"
     ]
    },
    {
     "name": "stdout",
     "output_type": "stream",
     "text": [
      "Epoch: 1046, loss: 0.060810962735980974, f1: 0.2077601103217079, precision: 0.11992841104671131, recall: 0.7762894868168212\n",
      "val_loss: 0.0675308045700466, val_f1: 0.20032743676516518, val_precision: 0.1154008878591479, val_recall: 0.7586042834531277\n"
     ]
    },
    {
     "name": "stderr",
     "output_type": "stream",
     "text": [
      "100%|█████████████████████████████████████████| 655/655 [00:13<00:00, 47.39it/s]\n"
     ]
    },
    {
     "name": "stdout",
     "output_type": "stream",
     "text": [
      "Epoch: 1047, loss: 0.06087551188747619, f1: 0.20767686658021636, precision: 0.12011750028717495, recall: 0.7661872171661781\n",
      "val_loss: 0.06718375990081818, val_f1: 0.19653601476932717, val_precision: 0.11271938518834633, val_recall: 0.7664811983021027\n"
     ]
    },
    {
     "name": "stderr",
     "output_type": "stream",
     "text": [
      "100%|█████████████████████████████████████████| 655/655 [00:13<00:00, 47.44it/s]\n"
     ]
    },
    {
     "name": "stdout",
     "output_type": "stream",
     "text": [
      "Epoch: 1048, loss: 0.061242836413777056, f1: 0.20705457931046609, precision: 0.1199546201033731, recall: 0.7559704688555412\n",
      "val_loss: 0.06762893907213156, val_f1: 0.19896766372732236, val_precision: 0.11462773489893986, val_recall: 0.7530163313270709\n"
     ]
    },
    {
     "name": "stderr",
     "output_type": "stream",
     "text": [
      "100%|█████████████████████████████████████████| 655/655 [00:13<00:00, 47.36it/s]\n"
     ]
    },
    {
     "name": "stdout",
     "output_type": "stream",
     "text": [
      "Epoch: 1049, loss: 0.06040727011006297, f1: 0.21027993717258028, precision: 0.12176534018287336, recall: 0.7700522040877178\n",
      "val_loss: 0.06733138072347149, val_f1: 0.19789940088638355, val_precision: 0.11367281453273849, val_recall: 0.7639614064075532\n"
     ]
    },
    {
     "name": "stderr",
     "output_type": "stream",
     "text": [
      "100%|█████████████████████████████████████████| 655/655 [00:13<00:00, 47.37it/s]\n"
     ]
    },
    {
     "name": "stdout",
     "output_type": "stream",
     "text": [
      "Epoch: 1050, loss: 0.06036348744756117, f1: 0.21330829850183095, precision: 0.12385879339764022, recall: 0.7678190914274172\n",
      "val_loss: 0.06763955139888263, val_f1: 0.20275750407765705, val_precision: 0.11701610483605107, val_recall: 0.7586288312706378\n"
     ]
    },
    {
     "name": "stderr",
     "output_type": "stream",
     "text": [
      "100%|█████████████████████████████████████████| 655/655 [00:13<00:00, 47.23it/s]\n"
     ]
    },
    {
     "name": "stdout",
     "output_type": "stream",
     "text": [
      "Epoch: 1051, loss: 0.0602098225025844, f1: 0.2117235325074172, precision: 0.12273550073665972, recall: 0.7700131173181625\n",
      "val_loss: 0.06727192556451357, val_f1: 0.2026950994600124, val_precision: 0.11721559833530165, val_recall: 0.7486436408730822\n"
     ]
    },
    {
     "name": "stderr",
     "output_type": "stream",
     "text": [
      "100%|█████████████████████████████████████████| 655/655 [00:13<00:00, 47.41it/s]\n"
     ]
    },
    {
     "name": "stdout",
     "output_type": "stream",
     "text": [
      "Epoch: 1052, loss: 0.06084234825129273, f1: 0.20818894360942466, precision: 0.12056040182880318, recall: 0.762159885932471\n",
      "val_loss: 0.06652782389620712, val_f1: 0.204633929066111, val_precision: 0.11833815887108992, val_recall: 0.7557489753042886\n"
     ]
    },
    {
     "name": "stderr",
     "output_type": "stream",
     "text": [
      "100%|█████████████████████████████████████████| 655/655 [00:13<00:00, 47.40it/s]\n"
     ]
    },
    {
     "name": "stdout",
     "output_type": "stream",
     "text": [
      "Epoch: 1053, loss: 0.06041433342540537, f1: 0.2099317567608961, precision: 0.12155001371715018, recall: 0.7693258465360139\n",
      "val_loss: 0.06846127756486792, val_f1: 0.18890561632574387, val_precision: 0.10724404753707008, val_recall: 0.7919093023199554\n"
     ]
    },
    {
     "name": "stderr",
     "output_type": "stream",
     "text": [
      "100%|█████████████████████████████████████████| 655/655 [00:13<00:00, 47.36it/s]\n"
     ]
    },
    {
     "name": "stdout",
     "output_type": "stream",
     "text": [
      "Epoch: 1054, loss: 0.06067177234288618, f1: 0.20850504657033844, precision: 0.12068251416243556, recall: 0.7657616313859706\n",
      "val_loss: 0.06765387841252558, val_f1: 0.20595032372520125, val_precision: 0.11902775984565052, val_recall: 0.7635463648432985\n"
     ]
    },
    {
     "name": "stderr",
     "output_type": "stream",
     "text": [
      "100%|█████████████████████████████████████████| 655/655 [00:13<00:00, 47.36it/s]\n"
     ]
    },
    {
     "name": "stdout",
     "output_type": "stream",
     "text": [
      "Epoch: 1055, loss: 0.06037689106581548, f1: 0.20811966346278585, precision: 0.12042826929996998, recall: 0.7656042543190126\n",
      "val_loss: 0.06736305430360617, val_f1: 0.20697038428843287, val_precision: 0.11992546245284857, val_recall: 0.7548847611344188\n"
     ]
    },
    {
     "name": "stderr",
     "output_type": "stream",
     "text": [
      "100%|█████████████████████████████████████████| 655/655 [00:13<00:00, 47.33it/s]\n"
     ]
    },
    {
     "name": "stdout",
     "output_type": "stream",
     "text": [
      "Epoch: 1056, loss: 0.06077924775357806, f1: 0.21164767485192923, precision: 0.12264435935644646, recall: 0.771598931316656\n",
      "val_loss: 0.06944056586234258, val_f1: 0.20260474166201678, val_precision: 0.11670508546703452, val_recall: 0.7675596234311751\n"
     ]
    },
    {
     "name": "stderr",
     "output_type": "stream",
     "text": [
      "100%|█████████████████████████████████████████| 655/655 [00:13<00:00, 47.39it/s]\n"
     ]
    },
    {
     "name": "stdout",
     "output_type": "stream",
     "text": [
      "Epoch: 1057, loss: 0.0611099009011083, f1: 0.21029842184962194, precision: 0.12203759903031337, recall: 0.7598213139722365\n",
      "val_loss: 0.06806402565450023, val_f1: 0.19152721440293244, val_precision: 0.10908016500516085, val_recall: 0.7844301980296406\n"
     ]
    },
    {
     "name": "stderr",
     "output_type": "stream",
     "text": [
      "100%|█████████████████████████████████████████| 655/655 [00:13<00:00, 47.39it/s]\n"
     ]
    },
    {
     "name": "stdout",
     "output_type": "stream",
     "text": [
      "Epoch: 1058, loss: 0.060680318401970024, f1: 0.21317106109909725, precision: 0.12362596481924748, recall: 0.7732631012456108\n",
      "val_loss: 0.06768840173720767, val_f1: 0.2039722091526256, val_precision: 0.11773055773057522, val_recall: 0.762610225639212\n"
     ]
    },
    {
     "name": "stderr",
     "output_type": "stream",
     "text": [
      "100%|█████████████████████████████████████████| 655/655 [00:13<00:00, 47.31it/s]\n"
     ]
    },
    {
     "name": "stdout",
     "output_type": "stream",
     "text": [
      "Epoch: 1059, loss: 0.06042600750695658, f1: 0.2117691407183293, precision: 0.12281870856305285, recall: 0.7679520523388877\n",
      "val_loss: 0.06743751051024012, val_f1: 0.20214104096256416, val_precision: 0.11623965693347224, val_recall: 0.7744938325171077\n"
     ]
    },
    {
     "name": "stderr",
     "output_type": "stream",
     "text": [
      "100%|█████████████████████████████████████████| 655/655 [00:13<00:00, 47.36it/s]\n"
     ]
    },
    {
     "name": "stdout",
     "output_type": "stream",
     "text": [
      "Epoch: 1060, loss: 0.060455525621686504, f1: 0.20670302036031168, precision: 0.11945030513532345, recall: 0.7668505289741144\n",
      "val_loss: 0.06751264521527454, val_f1: 0.2026711471527161, val_precision: 0.1178382500502016, val_recall: 0.7235921201629376\n"
     ]
    },
    {
     "name": "stderr",
     "output_type": "stream",
     "text": [
      "100%|█████████████████████████████████████████| 655/655 [00:13<00:00, 47.35it/s]\n"
     ]
    },
    {
     "name": "stdout",
     "output_type": "stream",
     "text": [
      "Epoch: 1061, loss: 0.06024402535399635, f1: 0.20949781952142532, precision: 0.12130714732840771, recall: 0.767399995131347\n",
      "val_loss: 0.06795137145325815, val_f1: 0.20595420760438032, val_precision: 0.11900925040971316, val_recall: 0.7644159096643466\n"
     ]
    },
    {
     "name": "stderr",
     "output_type": "stream",
     "text": [
      "100%|█████████████████████████████████████████| 655/655 [00:13<00:00, 47.22it/s]\n"
     ]
    },
    {
     "name": "stdout",
     "output_type": "stream",
     "text": [
      "Epoch: 1062, loss: 0.06050165500349671, f1: 0.2105178752639397, precision: 0.12181286494183631, recall: 0.7745529211090721\n",
      "val_loss: 0.06806705618670228, val_f1: 0.1997369475256382, val_precision: 0.11514038155752516, val_recall: 0.7529441854412403\n"
     ]
    },
    {
     "name": "stderr",
     "output_type": "stream",
     "text": [
      "100%|█████████████████████████████████████████| 655/655 [00:13<00:00, 47.45it/s]\n"
     ]
    },
    {
     "name": "stdout",
     "output_type": "stream",
     "text": [
      "Epoch: 1063, loss: 0.06064366065490038, f1: 0.2124080687410842, precision: 0.12318871364118318, recall: 0.7702905759442854\n",
      "val_loss: 0.06778449906941948, val_f1: 0.20476127223230203, val_precision: 0.1193489156355825, val_recall: 0.720109418786447\n"
     ]
    },
    {
     "name": "stderr",
     "output_type": "stream",
     "text": [
      "100%|█████████████████████████████████████████| 655/655 [00:13<00:00, 47.34it/s]\n"
     ]
    },
    {
     "name": "stdout",
     "output_type": "stream",
     "text": [
      "Epoch: 1064, loss: 0.06016192571297413, f1: 0.21206443547393594, precision: 0.12293451462396002, recall: 0.7711980986458654\n",
      "val_loss: 0.06890244330834905, val_f1: 0.19709497470707732, val_precision: 0.1137505798566437, val_recall: 0.7373390530637645\n"
     ]
    },
    {
     "name": "stderr",
     "output_type": "stream",
     "text": [
      "100%|█████████████████████████████████████████| 655/655 [00:13<00:00, 47.36it/s]\n"
     ]
    },
    {
     "name": "stdout",
     "output_type": "stream",
     "text": [
      "Epoch: 1065, loss: 0.060620727026053055, f1: 0.2072883600103755, precision: 0.11994416124706392, recall: 0.7626704628913458\n",
      "val_loss: 0.06821819310666087, val_f1: 0.20320898947319335, val_precision: 0.11742207618139752, val_recall: 0.7542626388849468\n"
     ]
    },
    {
     "name": "stderr",
     "output_type": "stream",
     "text": [
      "100%|█████████████████████████████████████████| 655/655 [00:13<00:00, 47.41it/s]\n"
     ]
    },
    {
     "name": "stdout",
     "output_type": "stream",
     "text": [
      "Epoch: 1066, loss: 0.06140713302688744, f1: 0.20773219931439407, precision: 0.1204185362030816, recall: 0.7556231160996525\n",
      "val_loss: 0.06776574706880871, val_f1: 0.19978408889615307, val_precision: 0.11529909199906872, val_recall: 0.7475450429210969\n"
     ]
    },
    {
     "name": "stderr",
     "output_type": "stream",
     "text": [
      "100%|█████████████████████████████████████████| 655/655 [00:13<00:00, 47.34it/s]\n"
     ]
    },
    {
     "name": "stdout",
     "output_type": "stream",
     "text": [
      "Epoch: 1067, loss: 0.06054005085113849, f1: 0.2098636397690081, precision: 0.12127467508406471, recall: 0.7786627371461337\n",
      "val_loss: 0.06716436923507156, val_f1: 0.20226839125446963, val_precision: 0.11631393211321273, val_recall: 0.7749354526263859\n"
     ]
    },
    {
     "name": "stderr",
     "output_type": "stream",
     "text": [
      "100%|█████████████████████████████████████████| 655/655 [00:13<00:00, 47.26it/s]\n"
     ]
    },
    {
     "name": "stdout",
     "output_type": "stream",
     "text": [
      "Epoch: 1068, loss: 0.06030145103716517, f1: 0.21086015027402202, precision: 0.12196075388280149, recall: 0.7778465508504678\n",
      "val_loss: 0.0676140394659901, val_f1: 0.2037871829842882, val_precision: 0.11799758773109098, val_recall: 0.7465971689842162\n"
     ]
    },
    {
     "name": "stderr",
     "output_type": "stream",
     "text": [
      "100%|█████████████████████████████████████████| 655/655 [00:13<00:00, 47.35it/s]\n"
     ]
    },
    {
     "name": "stdout",
     "output_type": "stream",
     "text": [
      "Epoch: 1069, loss: 0.06077024564578745, f1: 0.21039773944680032, precision: 0.12162984516045064, recall: 0.7787317487347217\n",
      "val_loss: 0.0680385382008662, val_f1: 0.19865907874376337, val_precision: 0.1142482507820113, val_recall: 0.7606706646604275\n"
     ]
    },
    {
     "name": "stderr",
     "output_type": "stream",
     "text": [
      "100%|█████████████████████████████████████████| 655/655 [00:13<00:00, 47.44it/s]\n"
     ]
    },
    {
     "name": "stdout",
     "output_type": "stream",
     "text": [
      "Epoch: 1070, loss: 0.06075161817639787, f1: 0.20734686891870935, precision: 0.11992153962363154, recall: 0.7651770931277566\n",
      "val_loss: 0.06824503620283319, val_f1: 0.19742250667725617, val_precision: 0.11366040651780476, val_recall: 0.7505148317015499\n"
     ]
    },
    {
     "name": "stderr",
     "output_type": "stream",
     "text": [
      "100%|█████████████████████████████████████████| 655/655 [00:13<00:00, 47.40it/s]\n"
     ]
    },
    {
     "name": "stdout",
     "output_type": "stream",
     "text": [
      "Epoch: 1071, loss: 0.06116306709253606, f1: 0.20903377750265215, precision: 0.12105706308875944, recall: 0.7649561206120571\n",
      "val_loss: 0.06786226693950935, val_f1: 0.20123186246376953, val_precision: 0.11589210201909236, val_recall: 0.763319023431988\n"
     ]
    },
    {
     "name": "stderr",
     "output_type": "stream",
     "text": [
      "100%|█████████████████████████████████████████| 655/655 [00:13<00:00, 47.44it/s]\n"
     ]
    },
    {
     "name": "stdout",
     "output_type": "stream",
     "text": [
      "Epoch: 1072, loss: 0.06022935643194968, f1: 0.21220858741513915, precision: 0.12318599900739083, recall: 0.7651790725763973\n",
      "val_loss: 0.06787772004176444, val_f1: 0.19886216289473418, val_precision: 0.11489897520588967, val_recall: 0.738596317008001\n"
     ]
    },
    {
     "name": "stderr",
     "output_type": "stream",
     "text": [
      "100%|█████████████████████████████████████████| 655/655 [00:13<00:00, 47.40it/s]\n"
     ]
    },
    {
     "name": "stdout",
     "output_type": "stream",
     "text": [
      "Epoch: 1073, loss: 0.06059346783138413, f1: 0.20748649111939999, precision: 0.12010132502764463, recall: 0.7616848468553019\n",
      "val_loss: 0.06825408957676467, val_f1: 0.2057652221729816, val_precision: 0.11941024494451394, val_recall: 0.7433149775643961\n"
     ]
    },
    {
     "name": "stderr",
     "output_type": "stream",
     "text": [
      "100%|█████████████████████████████████████████| 655/655 [00:13<00:00, 47.40it/s]\n"
     ]
    },
    {
     "name": "stdout",
     "output_type": "stream",
     "text": [
      "Epoch: 1074, loss: 0.06072490075816407, f1: 0.2111616135610257, precision: 0.12232839435637566, recall: 0.7711875223703967\n",
      "val_loss: 0.06682558167606183, val_f1: 0.20609497745783553, val_precision: 0.11971127119026395, val_recall: 0.7402848601341248\n"
     ]
    },
    {
     "name": "stderr",
     "output_type": "stream",
     "text": [
      "100%|█████████████████████████████████████████| 655/655 [00:13<00:00, 47.26it/s]\n"
     ]
    },
    {
     "name": "stdout",
     "output_type": "stream",
     "text": [
      "Epoch: 1075, loss: 0.06053457108560864, f1: 0.2094396920863735, precision: 0.12114804442332106, recall: 0.7722456392896084\n",
      "val_loss: 0.06843614779891224, val_f1: 0.1980927926717324, val_precision: 0.11409818699344172, val_recall: 0.7508086251829742\n"
     ]
    },
    {
     "name": "stderr",
     "output_type": "stream",
     "text": [
      "100%|█████████████████████████████████████████| 655/655 [00:13<00:00, 47.33it/s]\n"
     ]
    },
    {
     "name": "stdout",
     "output_type": "stream",
     "text": [
      "Epoch: 1076, loss: 0.061430523772048586, f1: 0.20825219064765785, precision: 0.12033550674664496, recall: 0.7730118089732323\n",
      "val_loss: 0.06760464288260139, val_f1: 0.20150506636505944, val_precision: 0.11700878109688947, val_recall: 0.7251938554466865\n"
     ]
    },
    {
     "name": "stderr",
     "output_type": "stream",
     "text": [
      "100%|█████████████████████████████████████████| 655/655 [00:13<00:00, 47.45it/s]\n"
     ]
    },
    {
     "name": "stdout",
     "output_type": "stream",
     "text": [
      "Epoch: 1077, loss: 0.0609777478529638, f1: 0.20842259632413826, precision: 0.12049451760542472, recall: 0.7711552463415015\n",
      "val_loss: 0.06822950105020485, val_f1: 0.19663116878686326, val_precision: 0.11287149568643728, val_recall: 0.7623725396777512\n"
     ]
    },
    {
     "name": "stderr",
     "output_type": "stream",
     "text": [
      "100%|█████████████████████████████████████████| 655/655 [00:13<00:00, 47.42it/s]\n"
     ]
    },
    {
     "name": "stdout",
     "output_type": "stream",
     "text": [
      "Epoch: 1078, loss: 0.060988087519178634, f1: 0.2074624968603618, precision: 0.12019359084798863, recall: 0.7573546288577655\n",
      "val_loss: 0.06733312794443118, val_f1: 0.1924173835094907, val_precision: 0.11031383377875825, val_recall: 0.752431248989674\n"
     ]
    },
    {
     "name": "stderr",
     "output_type": "stream",
     "text": [
      "100%|█████████████████████████████████████████| 655/655 [00:13<00:00, 47.42it/s]\n"
     ]
    },
    {
     "name": "stdout",
     "output_type": "stream",
     "text": [
      "Epoch: 1079, loss: 0.060425671698340705, f1: 0.20775501073968664, precision: 0.12016870556932426, recall: 0.7662311680671823\n",
      "val_loss: 0.06754105313416195, val_f1: 0.19834686723471248, val_precision: 0.1143219773978029, val_recall: 0.7484351763963153\n"
     ]
    },
    {
     "name": "stderr",
     "output_type": "stream",
     "text": [
      "100%|█████████████████████████████████████████| 655/655 [00:13<00:00, 47.25it/s]\n"
     ]
    },
    {
     "name": "stdout",
     "output_type": "stream",
     "text": [
      "Epoch: 1080, loss: 0.05989585475754419, f1: 0.21447840661379355, precision: 0.12453853904930803, recall: 0.7720188744536793\n",
      "val_loss: 0.06731021079157881, val_f1: 0.20308083356298978, val_precision: 0.11740726478175696, val_recall: 0.7513516609548428\n"
     ]
    },
    {
     "name": "stderr",
     "output_type": "stream",
     "text": [
      "100%|█████████████████████████████████████████| 655/655 [00:13<00:00, 47.40it/s]\n"
     ]
    },
    {
     "name": "stdout",
     "output_type": "stream",
     "text": [
      "Epoch: 1081, loss: 0.06071851182842755, f1: 0.210879904497404, precision: 0.12229481594466413, recall: 0.7650468010938805\n",
      "val_loss: 0.06746775767159298, val_f1: 0.20317463503758043, val_precision: 0.11900193756446242, val_recall: 0.6941918678103237\n"
     ]
    },
    {
     "name": "stderr",
     "output_type": "stream",
     "text": [
      "100%|█████████████████████████████████████████| 655/655 [00:13<00:00, 47.39it/s]\n"
     ]
    },
    {
     "name": "stdout",
     "output_type": "stream",
     "text": [
      "Epoch: 1082, loss: 0.06099081307592738, f1: 0.2080701219698253, precision: 0.1206610601317166, recall: 0.755021135179141\n",
      "val_loss: 0.06818279599206983, val_f1: 0.20017759774032148, val_precision: 0.11516990909062394, val_recall: 0.764348094958231\n"
     ]
    },
    {
     "name": "stderr",
     "output_type": "stream",
     "text": [
      "100%|█████████████████████████████████████████| 655/655 [00:13<00:00, 47.40it/s]\n"
     ]
    },
    {
     "name": "stdout",
     "output_type": "stream",
     "text": [
      "Epoch: 1083, loss: 0.06065736510044405, f1: 0.2077726748662586, precision: 0.11999374760727163, recall: 0.7739115611401223\n",
      "val_loss: 0.06978543428704143, val_f1: 0.19780407525344326, val_precision: 0.11309678955943486, val_recall: 0.7880027061755505\n"
     ]
    },
    {
     "name": "stderr",
     "output_type": "stream",
     "text": [
      "100%|█████████████████████████████████████████| 655/655 [00:13<00:00, 47.36it/s]\n"
     ]
    },
    {
     "name": "stdout",
     "output_type": "stream",
     "text": [
      "Epoch: 1084, loss: 0.061439162115957444, f1: 0.20803380442470246, precision: 0.12000355154190583, recall: 0.7808013692270709\n",
      "val_loss: 0.06888581437289441, val_f1: 0.19545024639297126, val_precision: 0.11255805790766117, val_recall: 0.7415761135586905\n"
     ]
    },
    {
     "name": "stderr",
     "output_type": "stream",
     "text": [
      "100%|█████████████████████████████████████████| 655/655 [00:13<00:00, 47.36it/s]\n"
     ]
    },
    {
     "name": "stdout",
     "output_type": "stream",
     "text": [
      "Epoch: 1085, loss: 0.061003816048863506, f1: 0.20745173679663134, precision: 0.12000708194620167, recall: 0.7645522707632479\n",
      "val_loss: 0.0681347375086278, val_f1: 0.19797391971029593, val_precision: 0.11391371654115891, val_recall: 0.755420130668977\n"
     ]
    },
    {
     "name": "stderr",
     "output_type": "stream",
     "text": [
      "100%|█████████████████████████████████████████| 655/655 [00:13<00:00, 47.39it/s]\n"
     ]
    },
    {
     "name": "stdout",
     "output_type": "stream",
     "text": [
      "Epoch: 1086, loss: 0.060392683623571884, f1: 0.20885018412205175, precision: 0.12090391765494354, recall: 0.7661591331069251\n",
      "val_loss: 0.06728962815682822, val_f1: 0.19666123662186383, val_precision: 0.1134014519213468, val_recall: 0.7398950298991772\n"
     ]
    },
    {
     "name": "stderr",
     "output_type": "stream",
     "text": [
      "100%|█████████████████████████████████████████| 655/655 [00:13<00:00, 47.38it/s]\n"
     ]
    },
    {
     "name": "stdout",
     "output_type": "stream",
     "text": [
      "Epoch: 1087, loss: 0.06049927267039778, f1: 0.21009168577964804, precision: 0.12167375586528814, recall: 0.7686666547569609\n",
      "val_loss: 0.06796750070851877, val_f1: 0.2005985663166911, val_precision: 0.1175269929194447, val_recall: 0.6842391301595837\n"
     ]
    },
    {
     "name": "stderr",
     "output_type": "stream",
     "text": [
      "100%|█████████████████████████████████████████| 655/655 [00:13<00:00, 47.38it/s]\n"
     ]
    },
    {
     "name": "stdout",
     "output_type": "stream",
     "text": [
      "Epoch: 1088, loss: 0.06071135096593212, f1: 0.21301595879858665, precision: 0.12361299511158967, recall: 0.7697023234749568\n",
      "val_loss: 0.06761405544799812, val_f1: 0.202963917703461, val_precision: 0.11725962021465011, val_recall: 0.7542141816758234\n"
     ]
    },
    {
     "name": "stderr",
     "output_type": "stream",
     "text": [
      "100%|█████████████████████████████████████████| 655/655 [00:13<00:00, 47.39it/s]\n"
     ]
    },
    {
     "name": "stdout",
     "output_type": "stream",
     "text": [
      "Epoch: 1089, loss: 0.060823833393928314, f1: 0.20596937841686772, precision: 0.11891377769794514, recall: 0.7688009547368261\n",
      "val_loss: 0.06720305312800845, val_f1: 0.20400996477423985, val_precision: 0.1182265914634827, val_recall: 0.7434343487844555\n"
     ]
    },
    {
     "name": "stderr",
     "output_type": "stream",
     "text": [
      "100%|█████████████████████████████████████████| 655/655 [00:13<00:00, 47.41it/s]\n"
     ]
    },
    {
     "name": "stdout",
     "output_type": "stream",
     "text": [
      "Epoch: 1090, loss: 0.06063093951359073, f1: 0.2065450610351914, precision: 0.11975882485053921, recall: 0.7501865879838703\n",
      "val_loss: 0.06763006999678568, val_f1: 0.2006881085508578, val_precision: 0.11575869821362333, val_recall: 0.7535494911834735\n"
     ]
    },
    {
     "name": "stderr",
     "output_type": "stream",
     "text": [
      "100%|█████████████████████████████████████████| 655/655 [00:13<00:00, 47.40it/s]\n"
     ]
    },
    {
     "name": "stdout",
     "output_type": "stream",
     "text": [
      "Epoch: 1091, loss: 0.06032227887309917, f1: 0.21029785368049156, precision: 0.12158264358321788, recall: 0.7779301965054665\n",
      "val_loss: 0.06734633796908167, val_f1: 0.2009731648315526, val_precision: 0.11636681239112118, val_recall: 0.7363434472898824\n"
     ]
    },
    {
     "name": "stderr",
     "output_type": "stream",
     "text": [
      "100%|█████████████████████████████████████████| 655/655 [00:13<00:00, 47.42it/s]\n"
     ]
    },
    {
     "name": "stdout",
     "output_type": "stream",
     "text": [
      "Epoch: 1092, loss: 0.06073853376655633, f1: 0.20770937768459444, precision: 0.12007737591976428, recall: 0.7687134969439215\n",
      "val_loss: 0.0679099024828831, val_f1: 0.20389295159273577, val_precision: 0.11796449159417267, val_recall: 0.7507836388065181\n"
     ]
    },
    {
     "name": "stderr",
     "output_type": "stream",
     "text": [
      "100%|█████████████████████████████████████████| 655/655 [00:13<00:00, 47.36it/s]\n"
     ]
    },
    {
     "name": "stdout",
     "output_type": "stream",
     "text": [
      "Epoch: 1093, loss: 0.0607487857100049, f1: 0.20929243336064265, precision: 0.12155235243591529, recall: 0.7523891914095587\n",
      "val_loss: 0.0679559345109337, val_f1: 0.19725688941368555, val_precision: 0.11356377669977485, val_recall: 0.7499410576366503\n"
     ]
    },
    {
     "name": "stderr",
     "output_type": "stream",
     "text": [
      "100%|█████████████████████████████████████████| 655/655 [00:13<00:00, 47.37it/s]\n"
     ]
    },
    {
     "name": "stdout",
     "output_type": "stream",
     "text": [
      "Epoch: 1094, loss: 0.06005739227420731, f1: 0.21295942729084993, precision: 0.12361761852245749, recall: 0.7680500455712544\n",
      "val_loss: 0.06777644805063349, val_f1: 0.20119999514499104, val_precision: 0.11616406208993611, val_recall: 0.7508388538973048\n"
     ]
    },
    {
     "name": "stderr",
     "output_type": "stream",
     "text": [
      "100%|█████████████████████████████████████████| 655/655 [00:13<00:00, 47.32it/s]\n"
     ]
    },
    {
     "name": "stdout",
     "output_type": "stream",
     "text": [
      "Epoch: 1095, loss: 0.05997856687585568, f1: 0.21433698230453221, precision: 0.12438683530337084, recall: 0.7741946229952892\n",
      "val_loss: 0.0680491028251041, val_f1: 0.19774271384708014, val_precision: 0.11359633615992348, val_recall: 0.7627463317518934\n"
     ]
    },
    {
     "name": "stderr",
     "output_type": "stream",
     "text": [
      "100%|█████████████████████████████████████████| 655/655 [00:13<00:00, 47.39it/s]\n"
     ]
    },
    {
     "name": "stdout",
     "output_type": "stream",
     "text": [
      "Epoch: 1096, loss: 0.060392385581863745, f1: 0.20994464030198964, precision: 0.12161560055536737, recall: 0.7670526150301212\n",
      "val_loss: 0.06768263357802543, val_f1: 0.20009015250374346, val_precision: 0.11550922501285416, val_recall: 0.747285182186223\n"
     ]
    },
    {
     "name": "stderr",
     "output_type": "stream",
     "text": [
      "100%|█████████████████████████████████████████| 655/655 [00:13<00:00, 47.47it/s]\n"
     ]
    },
    {
     "name": "stdout",
     "output_type": "stream",
     "text": [
      "Epoch: 1097, loss: 0.06067826050184383, f1: 0.2074004530199581, precision: 0.11986229914944363, recall: 0.7690689089871545\n",
      "val_loss: 0.06723906289478508, val_f1: 0.2080035338471598, val_precision: 0.12094061868265271, val_recall: 0.7425555294259972\n"
     ]
    },
    {
     "name": "stderr",
     "output_type": "stream",
     "text": [
      "100%|█████████████████████████████████████████| 655/655 [00:13<00:00, 47.39it/s]\n"
     ]
    },
    {
     "name": "stdout",
     "output_type": "stream",
     "text": [
      "Epoch: 1098, loss: 0.060651612928748586, f1: 0.2092103027978791, precision: 0.12160851836545777, recall: 0.7481387362907861\n",
      "val_loss: 0.06813773227462527, val_f1: 0.1997517548907155, val_precision: 0.1151024425026337, val_recall: 0.7549934865684684\n"
     ]
    },
    {
     "name": "stderr",
     "output_type": "stream",
     "text": [
      "100%|█████████████████████████████████████████| 655/655 [00:13<00:00, 47.38it/s]\n"
     ]
    },
    {
     "name": "stdout",
     "output_type": "stream",
     "text": [
      "Epoch: 1099, loss: 0.06096944249275944, f1: 0.20844005756017092, precision: 0.12061995137376241, recall: 0.7665289108421056\n",
      "val_loss: 0.06728423504722775, val_f1: 0.19922800259193904, val_precision: 0.11516684425648711, val_recall: 0.737629139710457\n"
     ]
    },
    {
     "name": "stderr",
     "output_type": "stream",
     "text": [
      "100%|█████████████████████████████████████████| 655/655 [00:13<00:00, 47.21it/s]\n"
     ]
    },
    {
     "name": "stdout",
     "output_type": "stream",
     "text": [
      "Epoch: 1100, loss: 0.06051342570514397, f1: 0.20939015503203767, precision: 0.12127364957136394, recall: 0.7658533014868962\n",
      "val_loss: 0.06803981248511497, val_f1: 0.1986328521204758, val_precision: 0.11417469781302257, val_recall: 0.7631724013374486\n"
     ]
    },
    {
     "name": "stderr",
     "output_type": "stream",
     "text": [
      "100%|█████████████████████████████████████████| 655/655 [00:13<00:00, 47.39it/s]\n"
     ]
    },
    {
     "name": "stdout",
     "output_type": "stream",
     "text": [
      "Epoch: 1101, loss: 0.060207990287333896, f1: 0.2104259433280609, precision: 0.12191557266486397, recall: 0.767970191681658\n",
      "val_loss: 0.06872222740459469, val_f1: 0.19487223131187537, val_precision: 0.11104848750209043, val_recall: 0.7948749412637238\n"
     ]
    },
    {
     "name": "stderr",
     "output_type": "stream",
     "text": [
      "100%|█████████████████████████████████████████| 655/655 [00:13<00:00, 47.34it/s]\n"
     ]
    },
    {
     "name": "stdout",
     "output_type": "stream",
     "text": [
      "Epoch: 1102, loss: 0.06054056115192539, f1: 0.20841459510006272, precision: 0.1206340734889546, recall: 0.7652719460882759\n",
      "val_loss: 0.06817401637143772, val_f1: 0.2024543331231661, val_precision: 0.11827494574223704, val_recall: 0.7022989625709319\n"
     ]
    },
    {
     "name": "stderr",
     "output_type": "stream",
     "text": [
      "100%|█████████████████████████████████████████| 655/655 [00:13<00:00, 47.38it/s]\n"
     ]
    },
    {
     "name": "stdout",
     "output_type": "stream",
     "text": [
      "Epoch: 1103, loss: 0.060789836112779515, f1: 0.21037615798361006, precision: 0.1218186954015027, recall: 0.7704990746524498\n",
      "val_loss: 0.06834179933669918, val_f1: 0.19948862989638932, val_precision: 0.11508499615005466, val_recall: 0.7482766867230791\n"
     ]
    },
    {
     "name": "stderr",
     "output_type": "stream",
     "text": [
      "100%|█████████████████████████████████████████| 655/655 [00:13<00:00, 47.41it/s]\n"
     ]
    },
    {
     "name": "stdout",
     "output_type": "stream",
     "text": [
      "Epoch: 1104, loss: 0.0607893890523501, f1: 0.21169972241933285, precision: 0.12272373333516466, recall: 0.7698464255296547\n",
      "val_loss: 0.06736613372597125, val_f1: 0.201791045497032, val_precision: 0.116124372450857, val_recall: 0.769357468967044\n"
     ]
    },
    {
     "name": "stderr",
     "output_type": "stream",
     "text": [
      "100%|█████████████████████████████████████████| 655/655 [00:13<00:00, 47.31it/s]\n"
     ]
    },
    {
     "name": "stdout",
     "output_type": "stream",
     "text": [
      "Epoch: 1105, loss: 0.06096625213888083, f1: 0.2090697629523207, precision: 0.12099260192378673, recall: 0.7685114923324293\n",
      "val_loss: 0.06795379234084842, val_f1: 0.20436325558857257, val_precision: 0.11776267633764842, val_recall: 0.7722960318173837\n"
     ]
    },
    {
     "name": "stderr",
     "output_type": "stream",
     "text": [
      "100%|█████████████████████████████████████████| 655/655 [00:13<00:00, 47.40it/s]\n"
     ]
    },
    {
     "name": "stdout",
     "output_type": "stream",
     "text": [
      "Epoch: 1106, loss: 0.060233389824372895, f1: 0.21041689443342348, precision: 0.12174379510790792, recall: 0.7746118028996555\n",
      "val_loss: 0.06747893734894898, val_f1: 0.19736930749206918, val_precision: 0.11379035697275892, val_recall: 0.7433855815218129\n"
     ]
    },
    {
     "name": "stderr",
     "output_type": "stream",
     "text": [
      "100%|█████████████████████████████████████████| 655/655 [00:13<00:00, 47.29it/s]\n"
     ]
    },
    {
     "name": "stdout",
     "output_type": "stream",
     "text": [
      "Epoch: 1107, loss: 0.06087124215168807, f1: 0.20908179607006183, precision: 0.12114986116244308, recall: 0.7625470166670457\n",
      "val_loss: 0.06818894704444967, val_f1: 0.20411568570867447, val_precision: 0.11804071756361753, val_recall: 0.7537430670419965\n"
     ]
    },
    {
     "name": "stderr",
     "output_type": "stream",
     "text": [
      "100%|█████████████████████████████████████████| 655/655 [00:13<00:00, 47.32it/s]\n"
     ]
    },
    {
     "name": "stdout",
     "output_type": "stream",
     "text": [
      "Epoch: 1108, loss: 0.061128093915163245, f1: 0.21093122349180982, precision: 0.12326747616646343, recall: 0.7302875404025763\n",
      "val_loss: 0.06709199796063364, val_f1: 0.2067774228236327, val_precision: 0.11938569377766016, val_recall: 0.771591338816039\n"
     ]
    },
    {
     "name": "stderr",
     "output_type": "stream",
     "text": [
      "100%|█████████████████████████████████████████| 655/655 [00:13<00:00, 47.35it/s]\n"
     ]
    },
    {
     "name": "stdout",
     "output_type": "stream",
     "text": [
      "Epoch: 1109, loss: 0.06078477104173134, f1: 0.2113959157001225, precision: 0.12237660832994596, recall: 0.7755398198848462\n",
      "val_loss: 0.06696466821322747, val_f1: 0.20415437184399782, val_precision: 0.1178788579914958, val_recall: 0.7614853700640005\n"
     ]
    },
    {
     "name": "stderr",
     "output_type": "stream",
     "text": [
      "100%|█████████████████████████████████████████| 655/655 [00:13<00:00, 47.13it/s]\n"
     ]
    },
    {
     "name": "stdout",
     "output_type": "stream",
     "text": [
      "Epoch: 1110, loss: 0.06033682009589126, f1: 0.21002793665652722, precision: 0.12153973563552926, recall: 0.7723314573746601\n",
      "val_loss: 0.0675003238987827, val_f1: 0.19861599777512906, val_precision: 0.11454048102140563, val_recall: 0.7467453998573329\n"
     ]
    },
    {
     "name": "stderr",
     "output_type": "stream",
     "text": [
      "100%|█████████████████████████████████████████| 655/655 [00:13<00:00, 47.37it/s]\n"
     ]
    },
    {
     "name": "stdout",
     "output_type": "stream",
     "text": [
      "Epoch: 1111, loss: 0.061084144380483915, f1: 0.2072641449131091, precision: 0.11968702129123888, recall: 0.7725601738304583\n",
      "val_loss: 0.0698373323015937, val_f1: 0.17223239194995896, val_precision: 0.0963603103738449, val_recall: 0.8100439969005935\n"
     ]
    },
    {
     "name": "stderr",
     "output_type": "stream",
     "text": [
      "100%|█████████████████████████████████████████| 655/655 [00:13<00:00, 47.34it/s]\n"
     ]
    },
    {
     "name": "stdout",
     "output_type": "stream",
     "text": [
      "Epoch: 1112, loss: 0.061138606675229815, f1: 0.20274672571355462, precision: 0.11731740815906239, recall: 0.7459123428996283\n",
      "val_loss: 0.06804524603034925, val_f1: 0.20033486130594433, val_precision: 0.11576206011296071, val_recall: 0.7435629142943873\n"
     ]
    },
    {
     "name": "stderr",
     "output_type": "stream",
     "text": [
      "100%|█████████████████████████████████████████| 655/655 [00:13<00:00, 47.46it/s]\n"
     ]
    },
    {
     "name": "stdout",
     "output_type": "stream",
     "text": [
      "Epoch: 1113, loss: 0.060467568939935615, f1: 0.2085289475491114, precision: 0.12087932826972474, recall: 0.7585633419738471\n",
      "val_loss: 0.06743682170320951, val_f1: 0.20233535473733008, val_precision: 0.11808496112337148, val_recall: 0.7061642650343957\n"
     ]
    },
    {
     "name": "stderr",
     "output_type": "stream",
     "text": [
      "100%|█████████████████████████████████████████| 655/655 [00:13<00:00, 47.21it/s]\n"
     ]
    },
    {
     "name": "stdout",
     "output_type": "stream",
     "text": [
      "Epoch: 1114, loss: 0.060650848547522805, f1: 0.21253536527593417, precision: 0.12326578359041392, recall: 0.7706254485340519\n",
      "val_loss: 0.06686561677707445, val_f1: 0.20369319119353674, val_precision: 0.11758350341264671, val_recall: 0.7609804709433415\n"
     ]
    },
    {
     "name": "stderr",
     "output_type": "stream",
     "text": [
      "100%|█████████████████████████████████████████| 655/655 [00:13<00:00, 47.35it/s]\n"
     ]
    },
    {
     "name": "stdout",
     "output_type": "stream",
     "text": [
      "Epoch: 1115, loss: 0.060822328603790915, f1: 0.209408368980832, precision: 0.12113519621771256, recall: 0.7719160660077597\n",
      "val_loss: 0.0677855410744064, val_f1: 0.20104863962142933, val_precision: 0.11562354898575795, val_recall: 0.7697729785507972\n"
     ]
    },
    {
     "name": "stderr",
     "output_type": "stream",
     "text": [
      "100%|█████████████████████████████████████████| 655/655 [00:13<00:00, 47.32it/s]\n"
     ]
    },
    {
     "name": "stdout",
     "output_type": "stream",
     "text": [
      "Epoch: 1116, loss: 0.061159458315668214, f1: 0.2074090249635713, precision: 0.12023030028763788, recall: 0.7544829222878427\n",
      "val_loss: 0.06748335741870447, val_f1: 0.19849175776998912, val_precision: 0.11444565275718176, val_recall: 0.7472650243328252\n"
     ]
    },
    {
     "name": "stderr",
     "output_type": "stream",
     "text": [
      "100%|█████████████████████████████████████████| 655/655 [00:13<00:00, 47.34it/s]\n"
     ]
    },
    {
     "name": "stdout",
     "output_type": "stream",
     "text": [
      "Epoch: 1117, loss: 0.060821181848435046, f1: 0.20860129531389957, precision: 0.1211956477869757, recall: 0.7481967718319128\n",
      "val_loss: 0.06791524388272008, val_f1: 0.1987890958879719, val_precision: 0.11437034538152431, val_recall: 0.7590773596402702\n"
     ]
    },
    {
     "name": "stderr",
     "output_type": "stream",
     "text": [
      "100%|█████████████████████████████████████████| 655/655 [00:13<00:00, 47.39it/s]\n"
     ]
    },
    {
     "name": "stdout",
     "output_type": "stream",
     "text": [
      "Epoch: 1118, loss: 0.060476392513240565, f1: 0.20820397986741943, precision: 0.12014738287748271, recall: 0.7795123302185808\n",
      "val_loss: 0.0668161443238138, val_f1: 0.20627723237055362, val_precision: 0.11958003931020925, val_recall: 0.7501369975165489\n"
     ]
    },
    {
     "name": "stderr",
     "output_type": "stream",
     "text": [
      "100%|█████████████████████████████████████████| 655/655 [00:13<00:00, 47.34it/s]\n"
     ]
    },
    {
     "name": "stdout",
     "output_type": "stream",
     "text": [
      "Epoch: 1119, loss: 0.06034914458611312, f1: 0.21025302472860735, precision: 0.12178386658828222, recall: 0.7685922376697755\n",
      "val_loss: 0.06803005169906201, val_f1: 0.20278912761128168, val_precision: 0.117252335462873, val_recall: 0.7497112246554926\n"
     ]
    },
    {
     "name": "stderr",
     "output_type": "stream",
     "text": [
      "100%|█████████████████████████████████████████| 655/655 [00:13<00:00, 47.30it/s]\n"
     ]
    },
    {
     "name": "stdout",
     "output_type": "stream",
     "text": [
      "Epoch: 1120, loss: 0.060680245246937256, f1: 0.20766580233407406, precision: 0.12027379135345287, recall: 0.7595924885445878\n",
      "val_loss: 0.06776331579569009, val_f1: 0.19819816135017992, val_precision: 0.11445536723770543, val_recall: 0.7386174792543464\n"
     ]
    },
    {
     "name": "stderr",
     "output_type": "stream",
     "text": [
      "100%|█████████████████████████████████████████| 655/655 [00:13<00:00, 47.36it/s]\n"
     ]
    },
    {
     "name": "stdout",
     "output_type": "stream",
     "text": [
      "Epoch: 1121, loss: 0.0603188004767832, f1: 0.21312341110415634, precision: 0.12383025485403722, recall: 0.7641384881530099\n",
      "val_loss: 0.0677279154513749, val_f1: 0.2029218218863694, val_precision: 0.11702808467756717, val_recall: 0.762744495559723\n"
     ]
    },
    {
     "name": "stderr",
     "output_type": "stream",
     "text": [
      "100%|█████████████████████████████████████████| 655/655 [00:13<00:00, 47.36it/s]\n"
     ]
    },
    {
     "name": "stdout",
     "output_type": "stream",
     "text": [
      "Epoch: 1122, loss: 0.06096775751873737, f1: 0.2103560174574792, precision: 0.12196310030808317, recall: 0.7642398594103696\n",
      "val_loss: 0.06745919524563836, val_f1: 0.20335825732429413, val_precision: 0.1170009362870195, val_recall: 0.7764458049327956\n"
     ]
    },
    {
     "name": "stderr",
     "output_type": "stream",
     "text": [
      "100%|█████████████████████████████████████████| 655/655 [00:13<00:00, 47.45it/s]\n"
     ]
    },
    {
     "name": "stdout",
     "output_type": "stream",
     "text": [
      "Epoch: 1123, loss: 0.060951555016955344, f1: 0.20865206077822626, precision: 0.12055102809801527, recall: 0.7751378734489434\n",
      "val_loss: 0.06816572123506201, val_f1: 0.19620899541134076, val_precision: 0.1120494531185597, val_recall: 0.7882818546863871\n"
     ]
    },
    {
     "name": "stderr",
     "output_type": "stream",
     "text": [
      "100%|█████████████████████████████████████████| 655/655 [00:13<00:00, 47.45it/s]\n"
     ]
    },
    {
     "name": "stdout",
     "output_type": "stream",
     "text": [
      "Epoch: 1124, loss: 0.06052167848008507, f1: 0.20973307476035039, precision: 0.12150329785236648, recall: 0.7658720667011866\n",
      "val_loss: 0.06875166607969398, val_f1: 0.19940076346174532, val_precision: 0.11472001668800591, val_recall: 0.7615118136099719\n"
     ]
    },
    {
     "name": "stderr",
     "output_type": "stream",
     "text": [
      "100%|█████████████████████████████████████████| 655/655 [00:13<00:00, 47.30it/s]\n"
     ]
    },
    {
     "name": "stdout",
     "output_type": "stream",
     "text": [
      "Epoch: 1125, loss: 0.060249243759130704, f1: 0.2123976201727869, precision: 0.12336300758588063, recall: 0.7632751029980092\n",
      "val_loss: 0.06809202320190198, val_f1: 0.19978941378410844, val_precision: 0.11533026187680662, val_recall: 0.7463860364818792\n"
     ]
    },
    {
     "name": "stderr",
     "output_type": "stream",
     "text": [
      "100%|█████████████████████████████████████████| 655/655 [00:13<00:00, 47.44it/s]\n"
     ]
    },
    {
     "name": "stdout",
     "output_type": "stream",
     "text": [
      "Epoch: 1126, loss: 0.06032631154108138, f1: 0.211539997563925, precision: 0.12273844098210164, recall: 0.7650699221564613\n",
      "val_loss: 0.06780344647688603, val_f1: 0.2014358181901426, val_precision: 0.11761902565768825, val_recall: 0.7009206930295043\n"
     ]
    },
    {
     "name": "stderr",
     "output_type": "stream",
     "text": [
      "100%|█████████████████████████████████████████| 655/655 [00:13<00:00, 47.34it/s]\n"
     ]
    },
    {
     "name": "stdout",
     "output_type": "stream",
     "text": [
      "Epoch: 1127, loss: 0.060936944567747696, f1: 0.2110308812046281, precision: 0.12235829045725916, recall: 0.7665382663939745\n",
      "val_loss: 0.06726496231767835, val_f1: 0.2012603784633482, val_precision: 0.11624898409488005, val_recall: 0.7489795064160584\n"
     ]
    },
    {
     "name": "stderr",
     "output_type": "stream",
     "text": [
      "100%|█████████████████████████████████████████| 655/655 [00:13<00:00, 47.49it/s]\n"
     ]
    },
    {
     "name": "stdout",
     "output_type": "stream",
     "text": [
      "Epoch: 1128, loss: 0.06039501772695825, f1: 0.2092823635905377, precision: 0.1212718254851021, recall: 0.7630508700627407\n",
      "val_loss: 0.06746046169908769, val_f1: 0.19535280306284683, val_precision: 0.11185888676912686, val_recall: 0.7703849752561762\n"
     ]
    },
    {
     "name": "stderr",
     "output_type": "stream",
     "text": [
      "100%|█████████████████████████████████████████| 655/655 [00:13<00:00, 47.27it/s]\n"
     ]
    },
    {
     "name": "stdout",
     "output_type": "stream",
     "text": [
      "Epoch: 1129, loss: 0.06020706950878824, f1: 0.21009214859759337, precision: 0.12155785174428961, recall: 0.7733374052602826\n",
      "val_loss: 0.06785245421727043, val_f1: 0.2001844167843661, val_precision: 0.1153994517511936, val_recall: 0.7545830233518137\n"
     ]
    },
    {
     "name": "stderr",
     "output_type": "stream",
     "text": [
      "100%|█████████████████████████████████████████| 655/655 [00:13<00:00, 47.35it/s]\n"
     ]
    },
    {
     "name": "stdout",
     "output_type": "stream",
     "text": [
      "Epoch: 1130, loss: 0.06044654528262051, f1: 0.2098059057559257, precision: 0.12145501694194119, recall: 0.7697523323861697\n",
      "val_loss: 0.0672957678282753, val_f1: 0.2038362925809867, val_precision: 0.11774556614338942, val_recall: 0.7582037973841396\n"
     ]
    },
    {
     "name": "stderr",
     "output_type": "stream",
     "text": [
      "100%|█████████████████████████████████████████| 655/655 [00:13<00:00, 47.35it/s]\n"
     ]
    },
    {
     "name": "stdout",
     "output_type": "stream",
     "text": [
      "Epoch: 1131, loss: 0.059997653110905456, f1: 0.2148489593371268, precision: 0.12484385022139959, recall: 0.7699064446200852\n",
      "val_loss: 0.06825156468009456, val_f1: 0.1985294596841861, val_precision: 0.1158801771341524, val_recall: 0.6922964079801096\n"
     ]
    },
    {
     "name": "stderr",
     "output_type": "stream",
     "text": [
      "100%|█████████████████████████████████████████| 655/655 [00:13<00:00, 47.40it/s]\n"
     ]
    },
    {
     "name": "stdout",
     "output_type": "stream",
     "text": [
      "Epoch: 1132, loss: 0.06058389233809164, f1: 0.21397010494093857, precision: 0.12415325074520617, recall: 0.7736712864564576\n",
      "val_loss: 0.06808590556605967, val_f1: 0.19969160725901883, val_precision: 0.11549505808629916, val_recall: 0.736884745641039\n"
     ]
    },
    {
     "name": "stderr",
     "output_type": "stream",
     "text": [
      "100%|█████████████████████████████████████████| 655/655 [00:13<00:00, 47.34it/s]\n"
     ]
    },
    {
     "name": "stdout",
     "output_type": "stream",
     "text": [
      "Epoch: 1133, loss: 0.06066168193769364, f1: 0.20888658481029995, precision: 0.12099396238558506, recall: 0.7635345159823658\n",
      "val_loss: 0.06812136531422991, val_f1: 0.19993966893429202, val_precision: 0.11473678941453952, val_recall: 0.7767490241505685\n"
     ]
    },
    {
     "name": "stderr",
     "output_type": "stream",
     "text": [
      "100%|█████████████████████████████████████████| 655/655 [00:13<00:00, 47.47it/s]\n"
     ]
    },
    {
     "name": "stdout",
     "output_type": "stream",
     "text": [
      "Epoch: 1134, loss: 0.060929096160271694, f1: 0.20684192758075662, precision: 0.11969533670704299, recall: 0.7606441825343907\n",
      "val_loss: 0.06893796282777682, val_f1: 0.20633265029997122, val_precision: 0.11887853589216503, val_recall: 0.780556083955896\n"
     ]
    },
    {
     "name": "stderr",
     "output_type": "stream",
     "text": [
      "100%|█████████████████████████████████████████| 655/655 [00:13<00:00, 47.40it/s]\n"
     ]
    },
    {
     "name": "stdout",
     "output_type": "stream",
     "text": [
      "Epoch: 1135, loss: 0.06029274570577927, f1: 0.2113395685809628, precision: 0.12233301938035106, recall: 0.7757739538454828\n",
      "val_loss: 0.06762311567868524, val_f1: 0.2057761301742363, val_precision: 0.11896463956923113, val_recall: 0.761358807666586\n"
     ]
    },
    {
     "name": "stderr",
     "output_type": "stream",
     "text": [
      "100%|█████████████████████████████████████████| 655/655 [00:13<00:00, 47.18it/s]\n"
     ]
    },
    {
     "name": "stdout",
     "output_type": "stream",
     "text": [
      "Epoch: 1136, loss: 0.06046325521821219, f1: 0.20946316876190235, precision: 0.1212001409019052, recall: 0.7707708181770703\n",
      "val_loss: 0.06705013015350207, val_f1: 0.20650976226969278, val_precision: 0.11903523198764669, val_recall: 0.7788780391763109\n"
     ]
    },
    {
     "name": "stderr",
     "output_type": "stream",
     "text": [
      "100%|█████████████████████████████████████████| 655/655 [00:13<00:00, 47.33it/s]\n"
     ]
    },
    {
     "name": "stdout",
     "output_type": "stream",
     "text": [
      "Epoch: 1137, loss: 0.06052786531851037, f1: 0.21088103522169743, precision: 0.12193184864870805, recall: 0.779594879591738\n",
      "val_loss: 0.06737725902348757, val_f1: 0.20222108222295485, val_precision: 0.1167050364657963, val_recall: 0.756684273481369\n"
     ]
    },
    {
     "name": "stderr",
     "output_type": "stream",
     "text": [
      "100%|█████████████████████████████████████████| 655/655 [00:13<00:00, 47.36it/s]\n"
     ]
    },
    {
     "name": "stdout",
     "output_type": "stream",
     "text": [
      "Epoch: 1138, loss: 0.06051602886344709, f1: 0.21224508459284178, precision: 0.12328483803083992, recall: 0.7623281081327955\n",
      "val_loss: 0.06750899468710937, val_f1: 0.20264672359609204, val_precision: 0.11714065567923522, val_recall: 0.7503865785008177\n"
     ]
    },
    {
     "name": "stderr",
     "output_type": "stream",
     "text": [
      "100%|█████████████████████████████████████████| 655/655 [00:13<00:00, 47.37it/s]\n"
     ]
    },
    {
     "name": "stdout",
     "output_type": "stream",
     "text": [
      "Epoch: 1139, loss: 0.06044958025529867, f1: 0.20797771552047245, precision: 0.12035899963905282, recall: 0.7645623957496563\n",
      "val_loss: 0.06800237873893812, val_f1: 0.2031681102228262, val_precision: 0.11745021229080103, val_recall: 0.7519822666131029\n"
     ]
    },
    {
     "name": "stderr",
     "output_type": "stream",
     "text": [
      "100%|█████████████████████████████████████████| 655/655 [00:13<00:00, 47.31it/s]\n"
     ]
    },
    {
     "name": "stdout",
     "output_type": "stream",
     "text": [
      "Epoch: 1140, loss: 0.06028846335376947, f1: 0.21009419552062875, precision: 0.1216474591647737, recall: 0.7697852006850352\n",
      "val_loss: 0.06765362738691476, val_f1: 0.20569665170404272, val_precision: 0.11913726607405949, val_recall: 0.7522323856113153\n"
     ]
    },
    {
     "name": "stderr",
     "output_type": "stream",
     "text": [
      "100%|█████████████████████████████████████████| 655/655 [00:13<00:00, 47.43it/s]\n"
     ]
    },
    {
     "name": "stdout",
     "output_type": "stream",
     "text": [
      "Epoch: 1141, loss: 0.0615847953872485, f1: 0.2075879399030921, precision: 0.12026993974204396, recall: 0.7576667516627384\n",
      "val_loss: 0.06760241567165753, val_f1: 0.19853143882030364, val_precision: 0.11414465983184653, val_recall: 0.7615227599483018\n"
     ]
    },
    {
     "name": "stderr",
     "output_type": "stream",
     "text": [
      "100%|█████████████████████████████████████████| 655/655 [00:13<00:00, 47.46it/s]\n"
     ]
    },
    {
     "name": "stdout",
     "output_type": "stream",
     "text": [
      "Epoch: 1142, loss: 0.06076579058386442, f1: 0.20555402224391658, precision: 0.11874975106369647, recall: 0.7640983657356892\n",
      "val_loss: 0.06801443151411933, val_f1: 0.19860179026602626, val_precision: 0.11426551194451408, val_recall: 0.7582330882139162\n"
     ]
    },
    {
     "name": "stderr",
     "output_type": "stream",
     "text": [
      "100%|█████████████████████████████████████████| 655/655 [00:13<00:00, 47.45it/s]\n"
     ]
    },
    {
     "name": "stdout",
     "output_type": "stream",
     "text": [
      "Epoch: 1143, loss: 0.06049792866812635, f1: 0.21007945290829017, precision: 0.12152202053507434, recall: 0.7744455797526673\n",
      "val_loss: 0.0683169548032344, val_f1: 0.2002536232020329, val_precision: 0.11579191888075903, val_recall: 0.7401082826727027\n"
     ]
    },
    {
     "name": "stderr",
     "output_type": "stream",
     "text": [
      "100%|█████████████████████████████████████████| 655/655 [00:13<00:00, 47.32it/s]\n"
     ]
    },
    {
     "name": "stdout",
     "output_type": "stream",
     "text": [
      "Epoch: 1144, loss: 0.060461121979625304, f1: 0.21116631159867644, precision: 0.12241576497322161, recall: 0.7678573566311189\n",
      "val_loss: 0.06827334928061438, val_f1: 0.2024631300553004, val_precision: 0.11669686221765406, val_recall: 0.7638654369826711\n"
     ]
    },
    {
     "name": "stderr",
     "output_type": "stream",
     "text": [
      "100%|█████████████████████████████████████████| 655/655 [00:13<00:00, 47.34it/s]\n"
     ]
    },
    {
     "name": "stdout",
     "output_type": "stream",
     "text": [
      "Epoch: 1145, loss: 0.06039452945799318, f1: 0.21542780068521394, precision: 0.1251604677419683, recall: 0.7727320704751343\n",
      "val_loss: 0.06720333983438141, val_f1: 0.2086309874888675, val_precision: 0.120690437507978, val_recall: 0.7688504315297539\n"
     ]
    },
    {
     "name": "stderr",
     "output_type": "stream",
     "text": [
      "100%|█████████████████████████████████████████| 655/655 [00:13<00:00, 47.32it/s]\n"
     ]
    },
    {
     "name": "stdout",
     "output_type": "stream",
     "text": [
      "Epoch: 1146, loss: 0.06096478236398396, f1: 0.210773748735177, precision: 0.12199561567443871, recall: 0.7740945797726398\n",
      "val_loss: 0.0678966579907531, val_f1: 0.19251733641872765, val_precision: 0.1099288211537337, val_recall: 0.7740660960521173\n"
     ]
    },
    {
     "name": "stderr",
     "output_type": "stream",
     "text": [
      "100%|█████████████████████████████████████████| 655/655 [00:13<00:00, 47.35it/s]\n"
     ]
    },
    {
     "name": "stdout",
     "output_type": "stream",
     "text": [
      "Epoch: 1147, loss: 0.060383805688754975, f1: 0.20759082887887836, precision: 0.12014883930958409, recall: 0.7625863493171356\n",
      "val_loss: 0.06680337715586392, val_f1: 0.20395639084054537, val_precision: 0.11780194521864551, val_recall: 0.7591898218480819\n"
     ]
    },
    {
     "name": "stderr",
     "output_type": "stream",
     "text": [
      "100%|█████████████████████████████████████████| 655/655 [00:13<00:00, 47.38it/s]\n"
     ]
    },
    {
     "name": "stdout",
     "output_type": "stream",
     "text": [
      "Epoch: 1148, loss: 0.060334386224860974, f1: 0.21201163454951374, precision: 0.12285326701013073, recall: 0.7730048867241117\n",
      "val_loss: 0.06751291477762231, val_f1: 0.20449349364738167, val_precision: 0.11817283610121236, val_recall: 0.7586789100405273\n"
     ]
    },
    {
     "name": "stderr",
     "output_type": "stream",
     "text": [
      "100%|█████████████████████████████████████████| 655/655 [00:13<00:00, 47.27it/s]\n"
     ]
    },
    {
     "name": "stdout",
     "output_type": "stream",
     "text": [
      "Epoch: 1149, loss: 0.060703111923377934, f1: 0.21014827246648782, precision: 0.12195562902795336, recall: 0.7590787458624548\n",
      "val_loss: 0.06741609285935896, val_f1: 0.20554977599617313, val_precision: 0.1196245495315402, val_recall: 0.7296526197583304\n"
     ]
    },
    {
     "name": "stderr",
     "output_type": "stream",
     "text": [
      "100%|█████████████████████████████████████████| 655/655 [00:13<00:00, 47.38it/s]\n"
     ]
    },
    {
     "name": "stdout",
     "output_type": "stream",
     "text": [
      "Epoch: 1150, loss: 0.060565932963811256, f1: 0.21012582806918378, precision: 0.12178855916726908, recall: 0.7650204712994226\n",
      "val_loss: 0.06847725081060682, val_f1: 0.20172009618874714, val_precision: 0.1167517233268281, val_recall: 0.7409907550713338\n"
     ]
    },
    {
     "name": "stderr",
     "output_type": "stream",
     "text": [
      "100%|█████████████████████████████████████████| 655/655 [00:13<00:00, 47.40it/s]\n"
     ]
    },
    {
     "name": "stdout",
     "output_type": "stream",
     "text": [
      "Epoch: 1151, loss: 0.060353527607694836, f1: 0.21161873789244315, precision: 0.12269445450421963, recall: 0.7688573895406177\n",
      "val_loss: 0.06694955050244654, val_f1: 0.20382503884629088, val_precision: 0.11781758091779887, val_recall: 0.7549223564906952\n"
     ]
    },
    {
     "name": "stderr",
     "output_type": "stream",
     "text": [
      "100%|█████████████████████████████████████████| 655/655 [00:13<00:00, 47.33it/s]\n"
     ]
    },
    {
     "name": "stdout",
     "output_type": "stream",
     "text": [
      "Epoch: 1152, loss: 0.06081628509093332, f1: 0.20868695576627683, precision: 0.1207071385133073, recall: 0.7696934642227551\n",
      "val_loss: 0.06829942933736591, val_f1: 0.2002426375606232, val_precision: 0.11571206058879648, val_recall: 0.7430848542840109\n"
     ]
    },
    {
     "name": "stderr",
     "output_type": "stream",
     "text": [
      "100%|█████████████████████████████████████████| 655/655 [00:13<00:00, 47.41it/s]\n"
     ]
    },
    {
     "name": "stdout",
     "output_type": "stream",
     "text": [
      "Epoch: 1153, loss: 0.06059199088601438, f1: 0.21299052154773343, precision: 0.12370875176479543, recall: 0.7653529307996954\n",
      "val_loss: 0.06754101160059281, val_f1: 0.2031613936280556, val_precision: 0.1176855086216515, val_recall: 0.7422983958770376\n"
     ]
    },
    {
     "name": "stderr",
     "output_type": "stream",
     "text": [
      "100%|█████████████████████████████████████████| 655/655 [00:13<00:00, 47.39it/s]\n"
     ]
    },
    {
     "name": "stdout",
     "output_type": "stream",
     "text": [
      "Epoch: 1154, loss: 0.06036320578721032, f1: 0.20892059211189865, precision: 0.12092555050546204, recall: 0.7671863708673543\n",
      "val_loss: 0.06818548940258835, val_f1: 0.20117926984591758, val_precision: 0.11576490712121403, val_recall: 0.7673503046325587\n"
     ]
    },
    {
     "name": "stderr",
     "output_type": "stream",
     "text": [
      "100%|█████████████████████████████████████████| 655/655 [00:13<00:00, 47.32it/s]\n"
     ]
    },
    {
     "name": "stdout",
     "output_type": "stream",
     "text": [
      "Epoch: 1155, loss: 0.05969909425137941, f1: 0.21474757675833342, precision: 0.12490532297982287, recall: 0.7649962209563219\n",
      "val_loss: 0.06739465771841073, val_f1: 0.2038300167307614, val_precision: 0.11832393149080592, val_recall: 0.734904074785086\n"
     ]
    },
    {
     "name": "stderr",
     "output_type": "stream",
     "text": [
      "100%|█████████████████████████████████████████| 655/655 [00:13<00:00, 47.42it/s]\n"
     ]
    },
    {
     "name": "stdout",
     "output_type": "stream",
     "text": [
      "Epoch: 1156, loss: 0.060196709499218085, f1: 0.2133010926280044, precision: 0.1237868256856268, recall: 0.7704083424146849\n",
      "val_loss: 0.06970876248536306, val_f1: 0.20001603704947174, val_precision: 0.11543278914765207, val_recall: 0.7484198499710188\n"
     ]
    },
    {
     "name": "stderr",
     "output_type": "stream",
     "text": [
      "100%|█████████████████████████████████████████| 655/655 [00:13<00:00, 47.44it/s]\n"
     ]
    },
    {
     "name": "stdout",
     "output_type": "stream",
     "text": [
      "Epoch: 1157, loss: 0.06158289347014582, f1: 0.21019279255922607, precision: 0.12200471085517575, recall: 0.7583402463156759\n",
      "val_loss: 0.06877666747693074, val_f1: 0.19973322090935833, val_precision: 0.11430561721940107, val_recall: 0.7905886279880454\n"
     ]
    },
    {
     "name": "stderr",
     "output_type": "stream",
     "text": [
      "100%|█████████████████████████████████████████| 655/655 [00:13<00:00, 47.36it/s]\n"
     ]
    },
    {
     "name": "stdout",
     "output_type": "stream",
     "text": [
      "Epoch: 1158, loss: 0.06069509932017736, f1: 0.20707886695342037, precision: 0.1197802699583348, recall: 0.7636294662042429\n",
      "val_loss: 0.06702744432323433, val_f1: 0.21107197203540398, val_precision: 0.1238430238781719, val_recall: 0.7139273833380927\n"
     ]
    },
    {
     "name": "stderr",
     "output_type": "stream",
     "text": [
      "100%|█████████████████████████████████████████| 655/655 [00:13<00:00, 47.38it/s]\n"
     ]
    },
    {
     "name": "stdout",
     "output_type": "stream",
     "text": [
      "Epoch: 1159, loss: 0.06051901969916493, f1: 0.20853584391032556, precision: 0.12071675393438919, recall: 0.7652145206302632\n",
      "val_loss: 0.06762005074308552, val_f1: 0.19607475042570666, val_precision: 0.11298024593297085, val_recall: 0.7412422264524556\n"
     ]
    },
    {
     "name": "stderr",
     "output_type": "stream",
     "text": [
      "100%|█████████████████████████████████████████| 655/655 [00:13<00:00, 47.17it/s]\n"
     ]
    },
    {
     "name": "stdout",
     "output_type": "stream",
     "text": [
      "Epoch: 1160, loss: 0.06045612047589917, f1: 0.20857204531525755, precision: 0.12052341968901739, recall: 0.7740716108725271\n",
      "val_loss: 0.0674309902354528, val_f1: 0.20351640174136262, val_precision: 0.11778959537078755, val_recall: 0.7476615528447912\n"
     ]
    },
    {
     "name": "stderr",
     "output_type": "stream",
     "text": [
      "100%|█████████████████████████████████████████| 655/655 [00:13<00:00, 47.32it/s]\n"
     ]
    },
    {
     "name": "stdout",
     "output_type": "stream",
     "text": [
      "Epoch: 1161, loss: 0.06033133726339531, f1: 0.21293699594842166, precision: 0.12374925389459343, recall: 0.7624317621456758\n",
      "val_loss: 0.06761168178444335, val_f1: 0.2031567354050892, val_precision: 0.11789624022166116, val_recall: 0.7339012868223934\n"
     ]
    },
    {
     "name": "stderr",
     "output_type": "stream",
     "text": [
      "100%|█████████████████████████████████████████| 655/655 [00:13<00:00, 47.42it/s]\n"
     ]
    },
    {
     "name": "stdout",
     "output_type": "stream",
     "text": [
      "Epoch: 1162, loss: 0.06057354003389493, f1: 0.20883056472793193, precision: 0.1209160294675247, recall: 0.7651460433848032\n",
      "val_loss: 0.06816746064658286, val_f1: 0.19527084454967927, val_precision: 0.11281996203902596, val_recall: 0.7254236747228772\n"
     ]
    },
    {
     "name": "stderr",
     "output_type": "stream",
     "text": [
      "100%|█████████████████████████████████████████| 655/655 [00:13<00:00, 47.35it/s]\n"
     ]
    },
    {
     "name": "stdout",
     "output_type": "stream",
     "text": [
      "Epoch: 1163, loss: 0.060759364241402394, f1: 0.20897833182139472, precision: 0.12107795785387394, recall: 0.7626435288149892\n",
      "val_loss: 0.06851369063498093, val_f1: 0.2030480839901775, val_precision: 0.11792808233273275, val_recall: 0.729852849463804\n"
     ]
    },
    {
     "name": "stderr",
     "output_type": "stream",
     "text": [
      "100%|█████████████████████████████████████████| 655/655 [00:13<00:00, 47.35it/s]\n"
     ]
    },
    {
     "name": "stdout",
     "output_type": "stream",
     "text": [
      "Epoch: 1164, loss: 0.06120432271615012, f1: 0.20983306300270574, precision: 0.1218047610384533, recall: 0.7567005777859506\n",
      "val_loss: 0.06827439022583699, val_f1: 0.19885991435415876, val_precision: 0.11590495088710151, val_recall: 0.6995100882075248\n"
     ]
    },
    {
     "name": "stderr",
     "output_type": "stream",
     "text": [
      "100%|█████████████████████████████████████████| 655/655 [00:13<00:00, 47.40it/s]\n"
     ]
    },
    {
     "name": "stdout",
     "output_type": "stream",
     "text": [
      "Epoch: 1165, loss: 0.061115051505959216, f1: 0.20895372803380224, precision: 0.12094330667013317, recall: 0.7673653424013662\n",
      "val_loss: 0.06811759498722236, val_f1: 0.2027836589098264, val_precision: 0.11730632945519248, val_recall: 0.7473626786825853\n"
     ]
    },
    {
     "name": "stderr",
     "output_type": "stream",
     "text": [
      "100%|█████████████████████████████████████████| 655/655 [00:13<00:00, 47.29it/s]\n"
     ]
    },
    {
     "name": "stdout",
     "output_type": "stream",
     "text": [
      "Epoch: 1166, loss: 0.06049994102373492, f1: 0.21284562674552931, precision: 0.12344878912469699, recall: 0.7716308091546743\n",
      "val_loss: 0.0676829009786795, val_f1: 0.20103139329515177, val_precision: 0.11524496221949064, val_recall: 0.7864565687988876\n"
     ]
    },
    {
     "name": "stderr",
     "output_type": "stream",
     "text": [
      "100%|█████████████████████████████████████████| 655/655 [00:13<00:00, 47.40it/s]\n"
     ]
    },
    {
     "name": "stdout",
     "output_type": "stream",
     "text": [
      "Epoch: 1167, loss: 0.06059732176079095, f1: 0.20808456486045507, precision: 0.12010828829690359, recall: 0.7778125164959266\n",
      "val_loss: 0.06760024520303679, val_f1: 0.20069683049485862, val_precision: 0.1159889961874813, val_recall: 0.744173889586685\n"
     ]
    },
    {
     "name": "stderr",
     "output_type": "stream",
     "text": [
      "100%|█████████████████████████████████████████| 655/655 [00:13<00:00, 47.33it/s]\n"
     ]
    },
    {
     "name": "stdout",
     "output_type": "stream",
     "text": [
      "Epoch: 1168, loss: 0.06052796476812081, f1: 0.21046298683149403, precision: 0.12225551029368666, recall: 0.7557047210861253\n",
      "val_loss: 0.06747532694882483, val_f1: 0.20063908562201682, val_precision: 0.11587055931252283, val_recall: 0.7474804964907672\n"
     ]
    },
    {
     "name": "stderr",
     "output_type": "stream",
     "text": [
      "100%|█████████████████████████████████████████| 655/655 [00:13<00:00, 47.40it/s]\n"
     ]
    },
    {
     "name": "stdout",
     "output_type": "stream",
     "text": [
      "Epoch: 1169, loss: 0.060703913216436464, f1: 0.20975904414586627, precision: 0.12141570692725537, recall: 0.770070087318202\n",
      "val_loss: 0.06777993293154404, val_f1: 0.20265293198266057, val_precision: 0.11707436450577657, val_recall: 0.7532898184903171\n"
     ]
    },
    {
     "name": "stderr",
     "output_type": "stream",
     "text": [
      "100%|█████████████████████████████████████████| 655/655 [00:13<00:00, 47.44it/s]\n"
     ]
    },
    {
     "name": "stdout",
     "output_type": "stream",
     "text": [
      "Epoch: 1170, loss: 0.060559055951374174, f1: 0.2099841793010623, precision: 0.12162462425069841, recall: 0.7677497002118416\n",
      "val_loss: 0.06871460794274686, val_f1: 0.20000088226758267, val_precision: 0.1152189445229025, val_recall: 0.7571010752282011\n"
     ]
    },
    {
     "name": "stderr",
     "output_type": "stream",
     "text": [
      "100%|█████████████████████████████████████████| 655/655 [00:13<00:00, 47.36it/s]\n"
     ]
    },
    {
     "name": "stdout",
     "output_type": "stream",
     "text": [
      "Epoch: 1171, loss: 0.06034616272868091, f1: 0.2103416895499219, precision: 0.12197923847111582, recall: 0.7632293595043758\n",
      "val_loss: 0.06734000869232033, val_f1: 0.20414697921942973, val_precision: 0.11825595520342777, val_recall: 0.7459183487733569\n"
     ]
    },
    {
     "name": "stderr",
     "output_type": "stream",
     "text": [
      "100%|█████████████████████████████████████████| 655/655 [00:13<00:00, 47.28it/s]\n"
     ]
    },
    {
     "name": "stdout",
     "output_type": "stream",
     "text": [
      "Epoch: 1172, loss: 0.06047388542130703, f1: 0.2107134490501819, precision: 0.12222883060773593, recall: 0.7632496602548897\n",
      "val_loss: 0.06739694574514592, val_f1: 0.20304428526965934, val_precision: 0.11758675411292309, val_recall: 0.7431028904307873\n"
     ]
    },
    {
     "name": "stderr",
     "output_type": "stream",
     "text": [
      "100%|█████████████████████████████████████████| 655/655 [00:13<00:00, 47.45it/s]\n"
     ]
    },
    {
     "name": "stdout",
     "output_type": "stream",
     "text": [
      "Epoch: 1173, loss: 0.06034767516952662, f1: 0.21309449093651045, precision: 0.1234524081318945, recall: 0.7780767505519263\n",
      "val_loss: 0.06779762061842538, val_f1: 0.19988614091487314, val_precision: 0.11495668470534846, val_recall: 0.7652470517322558\n"
     ]
    },
    {
     "name": "stderr",
     "output_type": "stream",
     "text": [
      "100%|█████████████████████████████████████████| 655/655 [00:13<00:00, 47.41it/s]\n"
     ]
    },
    {
     "name": "stdout",
     "output_type": "stream",
     "text": [
      "Epoch: 1174, loss: 0.06086818107922796, f1: 0.20944215938333702, precision: 0.12127013333028054, recall: 0.7673876448783256\n",
      "val_loss: 0.06854440787926726, val_f1: 0.2047840168687602, val_precision: 0.11833721142125513, val_recall: 0.7599015678834478\n"
     ]
    },
    {
     "name": "stderr",
     "output_type": "stream",
     "text": [
      "100%|█████████████████████████████████████████| 655/655 [00:13<00:00, 47.40it/s]\n"
     ]
    },
    {
     "name": "stdout",
     "output_type": "stream",
     "text": [
      "Epoch: 1175, loss: 0.06082752944176434, f1: 0.21138385441563962, precision: 0.12239933207965249, recall: 0.7743046508831832\n",
      "val_loss: 0.06784948674158765, val_f1: 0.20143681128228386, val_precision: 0.11680266266868133, val_recall: 0.7314094731567102\n"
     ]
    },
    {
     "name": "stderr",
     "output_type": "stream",
     "text": [
      "100%|█████████████████████████████████████████| 655/655 [00:13<00:00, 47.46it/s]\n"
     ]
    },
    {
     "name": "stdout",
     "output_type": "stream",
     "text": [
      "Epoch: 1176, loss: 0.06073213832467112, f1: 0.210207821862629, precision: 0.12161931357851238, recall: 0.7739844904146121\n",
      "val_loss: 0.06873530463460799, val_f1: 0.1968172800883243, val_precision: 0.11365778832653657, val_recall: 0.7334775800278427\n"
     ]
    },
    {
     "name": "stderr",
     "output_type": "stream",
     "text": [
      "100%|█████████████████████████████████████████| 655/655 [00:13<00:00, 47.35it/s]\n"
     ]
    },
    {
     "name": "stdout",
     "output_type": "stream",
     "text": [
      "Epoch: 1177, loss: 0.06040227009936144, f1: 0.20887291284328158, precision: 0.12084849024163062, recall: 0.7690081694426427\n",
      "val_loss: 0.06828381412517313, val_f1: 0.20180092860069512, val_precision: 0.11676556128718027, val_recall: 0.7426175432741096\n"
     ]
    },
    {
     "name": "stderr",
     "output_type": "stream",
     "text": [
      "100%|█████████████████████████████████████████| 655/655 [00:13<00:00, 47.32it/s]\n"
     ]
    },
    {
     "name": "stdout",
     "output_type": "stream",
     "text": [
      "Epoch: 1178, loss: 0.06058339458101123, f1: 0.20472757469361158, precision: 0.11842154261535247, recall: 0.7549048670148122\n",
      "val_loss: 0.06748087985287292, val_f1: 0.20296133486195814, val_precision: 0.11717717054752855, val_recall: 0.7575711218315527\n"
     ]
    },
    {
     "name": "stderr",
     "output_type": "stream",
     "text": [
      "100%|█████████████████████████████████████████| 655/655 [00:13<00:00, 47.47it/s]\n"
     ]
    },
    {
     "name": "stdout",
     "output_type": "stream",
     "text": [
      "Epoch: 1179, loss: 0.0603807934908239, f1: 0.21163774386078013, precision: 0.12259599217355877, recall: 0.7732536577768908\n",
      "val_loss: 0.06805546115229436, val_f1: 0.2010328078931738, val_precision: 0.11535801618240364, val_recall: 0.7812744847951679\n"
     ]
    },
    {
     "name": "stderr",
     "output_type": "stream",
     "text": [
      "100%|█████████████████████████████████████████| 655/655 [00:13<00:00, 47.43it/s]\n"
     ]
    },
    {
     "name": "stdout",
     "output_type": "stream",
     "text": [
      "Epoch: 1180, loss: 0.06090186344075749, f1: 0.20847212897558706, precision: 0.120825663416554, recall: 0.7591739678428373\n",
      "val_loss: 0.06789583606867615, val_f1: 0.20087344576849422, val_precision: 0.1158254413455383, val_recall: 0.7559516917948329\n"
     ]
    },
    {
     "name": "stderr",
     "output_type": "stream",
     "text": [
      "100%|█████████████████████████████████████████| 655/655 [00:13<00:00, 47.32it/s]\n"
     ]
    },
    {
     "name": "stdout",
     "output_type": "stream",
     "text": [
      "Epoch: 1181, loss: 0.06034852826093576, f1: 0.21094562310357326, precision: 0.1222583515715309, recall: 0.7682166948914528\n",
      "val_loss: 0.06867393648781635, val_f1: 0.20268904185200579, val_precision: 0.11724793350477831, val_recall: 0.7471626351732726\n"
     ]
    },
    {
     "name": "stderr",
     "output_type": "stream",
     "text": [
      "100%|█████████████████████████████████████████| 655/655 [00:13<00:00, 47.43it/s]\n"
     ]
    },
    {
     "name": "stdout",
     "output_type": "stream",
     "text": [
      "Epoch: 1182, loss: 0.06006520376291894, f1: 0.21022168336628624, precision: 0.12179166201701146, recall: 0.7674457160002403\n",
      "val_loss: 0.06841879282488462, val_f1: 0.20077228994411248, val_precision: 0.11604705466162585, val_recall: 0.7438595001030406\n"
     ]
    },
    {
     "name": "stderr",
     "output_type": "stream",
     "text": [
      "100%|█████████████████████████████████████████| 655/655 [00:13<00:00, 47.27it/s]\n"
     ]
    },
    {
     "name": "stdout",
     "output_type": "stream",
     "text": [
      "Epoch: 1183, loss: 0.06091671564424311, f1: 0.2083528756930247, precision: 0.12046424152919638, recall: 0.7704866668877711\n",
      "val_loss: 0.06743536497799492, val_f1: 0.204646252663725, val_precision: 0.1183329322717127, val_recall: 0.7562987099000074\n"
     ]
    },
    {
     "name": "stderr",
     "output_type": "stream",
     "text": [
      "100%|█████████████████████████████████████████| 655/655 [00:13<00:00, 47.40it/s]\n"
     ]
    },
    {
     "name": "stdout",
     "output_type": "stream",
     "text": [
      "Epoch: 1184, loss: 0.06075821885333009, f1: 0.21088392978440235, precision: 0.12195512840510098, recall: 0.7787234927861745\n",
      "val_loss: 0.06742558311329248, val_f1: 0.20173621685796367, val_precision: 0.11626027787633993, val_recall: 0.7618779376696009\n"
     ]
    },
    {
     "name": "stderr",
     "output_type": "stream",
     "text": [
      "100%|█████████████████████████████████████████| 655/655 [00:13<00:00, 47.35it/s]\n"
     ]
    },
    {
     "name": "stdout",
     "output_type": "stream",
     "text": [
      "Epoch: 1185, loss: 0.060268585859003417, f1: 0.21191830381442814, precision: 0.12265971017973, recall: 0.7782325986801213\n",
      "val_loss: 0.06832436628109954, val_f1: 0.20839667886387023, val_precision: 0.12044420106541537, val_recall: 0.7725097029854399\n"
     ]
    },
    {
     "name": "stderr",
     "output_type": "stream",
     "text": [
      "100%|█████████████████████████████████████████| 655/655 [00:13<00:00, 47.33it/s]\n"
     ]
    },
    {
     "name": "stdout",
     "output_type": "stream",
     "text": [
      "Epoch: 1186, loss: 0.0612501917179418, f1: 0.20691777040799464, precision: 0.11934632174386323, recall: 0.7771824844010914\n",
      "val_loss: 0.06697635671311836, val_f1: 0.20464763356890642, val_precision: 0.1182963531976993, val_recall: 0.7578342010121827\n"
     ]
    },
    {
     "name": "stderr",
     "output_type": "stream",
     "text": [
      "100%|█████████████████████████████████████████| 655/655 [00:13<00:00, 47.34it/s]\n"
     ]
    },
    {
     "name": "stdout",
     "output_type": "stream",
     "text": [
      "Epoch: 1187, loss: 0.06026736887897016, f1: 0.2106584392565987, precision: 0.1217122504835991, recall: 0.7825082230431433\n",
      "val_loss: 0.06956166915014522, val_f1: 0.17532624012284376, val_precision: 0.09868011307483966, val_recall: 0.7852057807079149\n"
     ]
    },
    {
     "name": "stderr",
     "output_type": "stream",
     "text": [
      "100%|█████████████████████████████████████████| 655/655 [00:13<00:00, 47.43it/s]\n"
     ]
    },
    {
     "name": "stdout",
     "output_type": "stream",
     "text": [
      "Epoch: 1188, loss: 0.060793407880150155, f1: 0.20491726461679244, precision: 0.11883638797662015, recall: 0.7434360377092398\n",
      "val_loss: 0.067380496898854, val_f1: 0.2002590082281717, val_precision: 0.11544686937362912, val_recall: 0.7546753365238872\n"
     ]
    },
    {
     "name": "stderr",
     "output_type": "stream",
     "text": [
      "100%|█████████████████████████████████████████| 655/655 [00:14<00:00, 46.60it/s]\n"
     ]
    },
    {
     "name": "stdout",
     "output_type": "stream",
     "text": [
      "Epoch: 1189, loss: 0.06019485012387448, f1: 0.20978101889954756, precision: 0.12136654900458023, recall: 0.7726492227033804\n",
      "val_loss: 0.06965367994997479, val_f1: 0.2003335660492293, val_precision: 0.11533209524724052, val_recall: 0.7617676966234085\n"
     ]
    },
    {
     "name": "stderr",
     "output_type": "stream",
     "text": [
      "100%|█████████████████████████████████████████| 655/655 [00:13<00:00, 47.15it/s]\n"
     ]
    },
    {
     "name": "stdout",
     "output_type": "stream",
     "text": [
      "Epoch: 1190, loss: 0.06046070488221332, f1: 0.21048558539257983, precision: 0.12187126767572784, recall: 0.7713318614900567\n",
      "val_loss: 0.06777306733259914, val_f1: 0.20055400038955798, val_precision: 0.11578886742583998, val_recall: 0.7485211231156227\n"
     ]
    },
    {
     "name": "stderr",
     "output_type": "stream",
     "text": [
      "100%|█████████████████████████████████████████| 655/655 [00:13<00:00, 47.44it/s]\n"
     ]
    },
    {
     "name": "stdout",
     "output_type": "stream",
     "text": [
      "Epoch: 1191, loss: 0.06151753427844694, f1: 0.20675201169316929, precision: 0.1201318186885528, recall: 0.7411605577261848\n",
      "val_loss: 0.06775574028116027, val_f1: 0.1968228721633317, val_precision: 0.11318257733444692, val_recall: 0.7540690177077547\n"
     ]
    },
    {
     "name": "stderr",
     "output_type": "stream",
     "text": [
      "100%|█████████████████████████████████████████| 655/655 [00:13<00:00, 47.35it/s]\n"
     ]
    },
    {
     "name": "stdout",
     "output_type": "stream",
     "text": [
      "Epoch: 1192, loss: 0.060543713371717295, f1: 0.20862636004980492, precision: 0.12081053377882726, recall: 0.7638880239188216\n",
      "val_loss: 0.06699260604490928, val_f1: 0.19828411897985224, val_precision: 0.11415146179753569, val_recall: 0.7540081066822787\n"
     ]
    },
    {
     "name": "stderr",
     "output_type": "stream",
     "text": [
      "100%|█████████████████████████████████████████| 655/655 [00:13<00:00, 47.36it/s]\n"
     ]
    },
    {
     "name": "stdout",
     "output_type": "stream",
     "text": [
      "Epoch: 1193, loss: 0.06006337084899877, f1: 0.20904013926331216, precision: 0.12106032803910606, recall: 0.7649961448352756\n",
      "val_loss: 0.06751134144056828, val_f1: 0.1999432489678716, val_precision: 0.11519885252426387, val_recall: 0.7563173280806716\n"
     ]
    },
    {
     "name": "stderr",
     "output_type": "stream",
     "text": [
      "100%|█████████████████████████████████████████| 655/655 [00:13<00:00, 47.40it/s]\n"
     ]
    },
    {
     "name": "stdout",
     "output_type": "stream",
     "text": [
      "Epoch: 1194, loss: 0.060467515328458246, f1: 0.20961251335212638, precision: 0.1213709517566928, recall: 0.7679244960992391\n",
      "val_loss: 0.067621282190768, val_f1: 0.19914393524307109, val_precision: 0.11461701043539706, val_recall: 0.7585648903196011\n"
     ]
    },
    {
     "name": "stderr",
     "output_type": "stream",
     "text": [
      "100%|█████████████████████████████████████████| 655/655 [00:13<00:00, 47.39it/s]\n"
     ]
    },
    {
     "name": "stdout",
     "output_type": "stream",
     "text": [
      "Epoch: 1195, loss: 0.06067519248640947, f1: 0.20730790260762028, precision: 0.11999266632398918, recall: 0.7612418710161711\n",
      "val_loss: 0.0669974590301377, val_f1: 0.20158942814097064, val_precision: 0.11709569147659825, val_recall: 0.7240441138727949\n"
     ]
    },
    {
     "name": "stderr",
     "output_type": "stream",
     "text": [
      "100%|█████████████████████████████████████████| 655/655 [00:13<00:00, 47.31it/s]\n"
     ]
    },
    {
     "name": "stdout",
     "output_type": "stream",
     "text": [
      "Epoch: 1196, loss: 0.06048980534843943, f1: 0.21205790033814823, precision: 0.12295340507838676, recall: 0.7702830330447387\n",
      "val_loss: 0.0679150300459304, val_f1: 0.196447825915453, val_precision: 0.11267959411734493, val_recall: 0.765638818571327\n"
     ]
    },
    {
     "name": "stderr",
     "output_type": "stream",
     "text": [
      "100%|█████████████████████████████████████████| 655/655 [00:13<00:00, 47.41it/s]\n"
     ]
    },
    {
     "name": "stdout",
     "output_type": "stream",
     "text": [
      "Epoch: 1197, loss: 0.06040803956593038, f1: 0.21317019207822144, precision: 0.12378247793379972, recall: 0.7671730138532078\n",
      "val_loss: 0.06813123842718405, val_f1: 0.1992786605145727, val_precision: 0.11497526872185392, val_recall: 0.7470073512661348\n"
     ]
    },
    {
     "name": "stderr",
     "output_type": "stream",
     "text": [
      "100%|█████████████████████████████████████████| 655/655 [00:13<00:00, 47.40it/s]\n"
     ]
    },
    {
     "name": "stdout",
     "output_type": "stream",
     "text": [
      "Epoch: 1198, loss: 0.060577468209642944, f1: 0.2090874511771853, precision: 0.12099685166031122, recall: 0.7688181323063282\n",
      "val_loss: 0.06887797657571254, val_f1: 0.19984430514686663, val_precision: 0.11529588262729962, val_recall: 0.7493700445245165\n"
     ]
    },
    {
     "name": "stderr",
     "output_type": "stream",
     "text": [
      "100%|█████████████████████████████████████████| 655/655 [00:13<00:00, 47.40it/s]\n"
     ]
    },
    {
     "name": "stdout",
     "output_type": "stream",
     "text": [
      "Epoch: 1199, loss: 0.060574760862434185, f1: 0.20802351605308386, precision: 0.12019400937013498, recall: 0.7725495021306832\n",
      "val_loss: 0.06831959391508353, val_f1: 0.19633058500094228, val_precision: 0.11269184257066168, val_recall: 0.7615316530706686\n"
     ]
    },
    {
     "name": "stderr",
     "output_type": "stream",
     "text": [
      "100%|█████████████████████████████████████████| 655/655 [00:13<00:00, 47.35it/s]\n"
     ]
    },
    {
     "name": "stdout",
     "output_type": "stream",
     "text": [
      "Epoch: 1200, loss: 0.0605990348483315, f1: 0.20797847901464633, precision: 0.12038687962811184, recall: 0.7634598617221563\n",
      "val_loss: 0.06828579519354148, val_f1: 0.1990130668776531, val_precision: 0.11482734245743705, val_recall: 0.745787691632542\n"
     ]
    },
    {
     "name": "stderr",
     "output_type": "stream",
     "text": [
      "100%|█████████████████████████████████████████| 655/655 [00:13<00:00, 47.37it/s]\n"
     ]
    },
    {
     "name": "stdout",
     "output_type": "stream",
     "text": [
      "Epoch: 1201, loss: 0.06048724132924135, f1: 0.20987508844765124, precision: 0.12151664142276494, recall: 0.7691406703404798\n",
      "val_loss: 0.06739168601332728, val_f1: 0.2041917539947517, val_precision: 0.11849167294065477, val_recall: 0.7378422680797927\n"
     ]
    },
    {
     "name": "stderr",
     "output_type": "stream",
     "text": [
      "100%|█████████████████████████████████████████| 655/655 [00:13<00:00, 47.42it/s]\n"
     ]
    },
    {
     "name": "stdout",
     "output_type": "stream",
     "text": [
      "Epoch: 1202, loss: 0.060331431218913496, f1: 0.20976143584300697, precision: 0.12154911730708626, recall: 0.7648100091073349\n",
      "val_loss: 0.06908598383290505, val_f1: 0.20592528555500247, val_precision: 0.11982142657400408, val_recall: 0.731792452548622\n"
     ]
    },
    {
     "name": "stderr",
     "output_type": "stream",
     "text": [
      "100%|█████████████████████████████████████████| 655/655 [00:13<00:00, 47.40it/s]\n"
     ]
    },
    {
     "name": "stdout",
     "output_type": "stream",
     "text": [
      "Epoch: 1203, loss: 0.06040509827797845, f1: 0.21419478181569618, precision: 0.12431276254071534, recall: 0.7733537682822642\n",
      "val_loss: 0.06751874261407541, val_f1: 0.20727601544012036, val_precision: 0.12004424248386276, val_recall: 0.7583181825936387\n"
     ]
    },
    {
     "name": "stderr",
     "output_type": "stream",
     "text": [
      "100%|█████████████████████████████████████████| 655/655 [00:13<00:00, 47.39it/s]\n"
     ]
    },
    {
     "name": "stdout",
     "output_type": "stream",
     "text": [
      "Epoch: 1204, loss: 0.0607845751483363, f1: 0.2101256876456583, precision: 0.12163111904017514, recall: 0.7712879642616701\n",
      "val_loss: 0.06781846260088026, val_f1: 0.20046897876816258, val_precision: 0.11555945293533557, val_recall: 0.755828405055431\n"
     ]
    },
    {
     "name": "stderr",
     "output_type": "stream",
     "text": [
      "100%|█████████████████████████████████████████| 655/655 [00:13<00:00, 47.39it/s]\n"
     ]
    },
    {
     "name": "stdout",
     "output_type": "stream",
     "text": [
      "Epoch: 1205, loss: 0.06047509614205646, f1: 0.21298180703506908, precision: 0.12327810254459845, recall: 0.7820242377979155\n",
      "val_loss: 0.06830332721284496, val_f1: 0.19785641003173118, val_precision: 0.11392179582643946, val_recall: 0.7516597535358657\n"
     ]
    },
    {
     "name": "stderr",
     "output_type": "stream",
     "text": [
      "100%|█████████████████████████████████████████| 655/655 [00:13<00:00, 47.37it/s]\n"
     ]
    },
    {
     "name": "stdout",
     "output_type": "stream",
     "text": [
      "Epoch: 1206, loss: 0.06059975691480946, f1: 0.2085879116863954, precision: 0.12096870292888115, recall: 0.7566114494477519\n",
      "val_loss: 0.06802538255178327, val_f1: 0.20386571044894522, val_precision: 0.11861045011148336, val_recall: 0.7249427702995616\n"
     ]
    },
    {
     "name": "stderr",
     "output_type": "stream",
     "text": [
      "100%|█████████████████████████████████████████| 655/655 [00:13<00:00, 47.48it/s]\n"
     ]
    },
    {
     "name": "stdout",
     "output_type": "stream",
     "text": [
      "Epoch: 1207, loss: 0.06067099411268043, f1: 0.20833716886394715, precision: 0.1206151538731118, recall: 0.7639471492808284\n",
      "val_loss: 0.06939048615685843, val_f1: 0.19867882033097475, val_precision: 0.11462812152383593, val_recall: 0.744803778006943\n"
     ]
    },
    {
     "name": "stderr",
     "output_type": "stream",
     "text": [
      "100%|█████████████████████████████████████████| 655/655 [00:13<00:00, 47.47it/s]\n"
     ]
    },
    {
     "name": "stdout",
     "output_type": "stream",
     "text": [
      "Epoch: 1208, loss: 0.060508962346681655, f1: 0.20886897403763274, precision: 0.12102036700541338, recall: 0.7620156396436327\n",
      "val_loss: 0.06798775063895988, val_f1: 0.1993886682580496, val_precision: 0.11498673223898909, val_recall: 0.7496225001341706\n"
     ]
    },
    {
     "name": "stderr",
     "output_type": "stream",
     "text": [
      "100%|█████████████████████████████████████████| 655/655 [00:13<00:00, 47.34it/s]\n"
     ]
    },
    {
     "name": "stdout",
     "output_type": "stream",
     "text": [
      "Epoch: 1209, loss: 0.06035874003956791, f1: 0.20845671230130294, precision: 0.1208103223305679, recall: 0.7593708228518945\n",
      "val_loss: 0.06776002917541277, val_f1: 0.20403387633235615, val_precision: 0.11820500000132196, val_recall: 0.7449262486685306\n"
     ]
    },
    {
     "name": "stderr",
     "output_type": "stream",
     "text": [
      "100%|█████████████████████████████████████████| 655/655 [00:13<00:00, 47.39it/s]\n"
     ]
    },
    {
     "name": "stdout",
     "output_type": "stream",
     "text": [
      "Epoch: 1210, loss: 0.06035596682682975, f1: 0.2127600236903497, precision: 0.12342271892894202, recall: 0.7704005142545882\n",
      "val_loss: 0.06780814241464121, val_f1: 0.20109990105743897, val_precision: 0.11621509417635176, val_recall: 0.7459505149120584\n"
     ]
    },
    {
     "name": "stderr",
     "output_type": "stream",
     "text": [
      "100%|█████████████████████████████████████████| 655/655 [00:13<00:00, 47.36it/s]\n"
     ]
    },
    {
     "name": "stdout",
     "output_type": "stream",
     "text": [
      "Epoch: 1211, loss: 0.059999816940307246, f1: 0.21161398787324878, precision: 0.12283697309015133, recall: 0.7631841912296892\n",
      "val_loss: 0.06637242973841932, val_f1: 0.20969320761367485, val_precision: 0.12256750612895628, val_recall: 0.7251767726666337\n"
     ]
    },
    {
     "name": "stderr",
     "output_type": "stream",
     "text": [
      "100%|█████████████████████████████████████████| 655/655 [00:13<00:00, 47.37it/s]\n"
     ]
    },
    {
     "name": "stdout",
     "output_type": "stream",
     "text": [
      "Epoch: 1212, loss: 0.059973771870136264, f1: 0.2122834952561198, precision: 0.12322982721571021, recall: 0.7654358790576002\n",
      "val_loss: 0.06744606442612792, val_f1: 0.20228450556200286, val_precision: 0.11751124325609945, val_recall: 0.7260894853655898\n"
     ]
    },
    {
     "name": "stderr",
     "output_type": "stream",
     "text": [
      "100%|█████████████████████████████████████████| 655/655 [00:13<00:00, 47.38it/s]\n"
     ]
    },
    {
     "name": "stdout",
     "output_type": "stream",
     "text": [
      "Epoch: 1213, loss: 0.06041340688598975, f1: 0.21111737619578538, precision: 0.12253399719946258, recall: 0.761961264703565\n",
      "val_loss: 0.06737157430739031, val_f1: 0.1998799773092346, val_precision: 0.11503660710050015, val_recall: 0.7615451930312935\n"
     ]
    },
    {
     "name": "stderr",
     "output_type": "stream",
     "text": [
      "100%|█████████████████████████████████████████| 655/655 [00:13<00:00, 47.39it/s]\n"
     ]
    },
    {
     "name": "stdout",
     "output_type": "stream",
     "text": [
      "Epoch: 1214, loss: 0.06055447209541124, f1: 0.2103298621220369, precision: 0.12175095391651715, recall: 0.7719711221185804\n",
      "val_loss: 0.06814828716269737, val_f1: 0.20588229991297433, val_precision: 0.11887906202960999, val_recall: 0.7678262557185024\n"
     ]
    },
    {
     "name": "stderr",
     "output_type": "stream",
     "text": [
      "100%|█████████████████████████████████████████| 655/655 [00:13<00:00, 47.42it/s]\n"
     ]
    },
    {
     "name": "stdout",
     "output_type": "stream",
     "text": [
      "Epoch: 1215, loss: 0.05957679599352198, f1: 0.21713340464363742, precision: 0.12618123643910725, recall: 0.7777146215657241\n",
      "val_loss: 0.06751105382423335, val_f1: 0.20708684558940257, val_precision: 0.12025019303904078, val_recall: 0.7452737062212524\n"
     ]
    },
    {
     "name": "stderr",
     "output_type": "stream",
     "text": [
      "100%|█████████████████████████████████████████| 655/655 [00:13<00:00, 47.40it/s]\n"
     ]
    },
    {
     "name": "stdout",
     "output_type": "stream",
     "text": [
      "Epoch: 1216, loss: 0.06061906919511375, f1: 0.20854192999824506, precision: 0.1205436177501981, recall: 0.77241243573318\n",
      "val_loss: 0.0673099599453971, val_f1: 0.20317445332024173, val_precision: 0.11771315339217903, val_recall: 0.7415482528986187\n"
     ]
    },
    {
     "name": "stderr",
     "output_type": "stream",
     "text": [
      "100%|█████████████████████████████████████████| 655/655 [00:13<00:00, 47.38it/s]\n"
     ]
    },
    {
     "name": "stdout",
     "output_type": "stream",
     "text": [
      "Epoch: 1217, loss: 0.060363068495599824, f1: 0.21087225518709576, precision: 0.12221242243011717, recall: 0.7680840549350695\n",
      "val_loss: 0.0665318126525354, val_f1: 0.2104841398661961, val_precision: 0.12268300601622996, val_recall: 0.740293607935993\n"
     ]
    },
    {
     "name": "stderr",
     "output_type": "stream",
     "text": [
      "100%|█████████████████████████████████████████| 655/655 [00:13<00:00, 47.38it/s]\n"
     ]
    },
    {
     "name": "stdout",
     "output_type": "stream",
     "text": [
      "Epoch: 1218, loss: 0.06131387799054043, f1: 0.20973539009025605, precision: 0.1213805660249964, recall: 0.7708471893126728\n",
      "val_loss: 0.06758693000301719, val_f1: 0.19965610914195514, val_precision: 0.11461350689813016, val_recall: 0.7738446662322097\n"
     ]
    },
    {
     "name": "stderr",
     "output_type": "stream",
     "text": [
      "100%|█████████████████████████████████████████| 655/655 [00:13<00:00, 47.43it/s]\n"
     ]
    },
    {
     "name": "stdout",
     "output_type": "stream",
     "text": [
      "Epoch: 1219, loss: 0.06040916242814474, f1: 0.21032879570812502, precision: 0.12175145203404071, recall: 0.7719223680159518\n",
      "val_loss: 0.06865036979727789, val_f1: 0.19937756195169912, val_precision: 0.11493493699460128, val_recall: 0.7515155785127517\n"
     ]
    },
    {
     "name": "stderr",
     "output_type": "stream",
     "text": [
      "100%|█████████████████████████████████████████| 655/655 [00:13<00:00, 47.41it/s]\n"
     ]
    },
    {
     "name": "stdout",
     "output_type": "stream",
     "text": [
      "Epoch: 1220, loss: 0.06108119186824401, f1: 0.20675974346207132, precision: 0.11963031497279196, recall: 0.7610479562337162\n",
      "val_loss: 0.06810403135904206, val_f1: 0.1992454403983029, val_precision: 0.1149856723704025, val_recall: 0.7456369933185227\n"
     ]
    },
    {
     "name": "stderr",
     "output_type": "stream",
     "text": [
      "100%|█████████████████████████████████████████| 655/655 [00:13<00:00, 47.33it/s]\n"
     ]
    },
    {
     "name": "stdout",
     "output_type": "stream",
     "text": [
      "Epoch: 1221, loss: 0.06084205223574438, f1: 0.20803141411472104, precision: 0.12057036518524508, recall: 0.7575639247894287\n",
      "val_loss: 0.06800308204555047, val_f1: 0.20255636428746038, val_precision: 0.11694599215129237, val_recall: 0.7559497778158669\n"
     ]
    },
    {
     "name": "stderr",
     "output_type": "stream",
     "text": [
      "100%|█████████████████████████████████████████| 655/655 [00:13<00:00, 47.44it/s]\n"
     ]
    },
    {
     "name": "stdout",
     "output_type": "stream",
     "text": [
      "Epoch: 1222, loss: 0.0606319050567637, f1: 0.21016221993788708, precision: 0.12154911295759654, recall: 0.7755959064450882\n",
      "val_loss: 0.06759989037768009, val_f1: 0.2018180447083215, val_precision: 0.11615607939626373, val_recall: 0.76875139772892\n"
     ]
    },
    {
     "name": "stderr",
     "output_type": "stream",
     "text": [
      "100%|█████████████████████████████████████████| 655/655 [00:13<00:00, 47.39it/s]\n"
     ]
    },
    {
     "name": "stdout",
     "output_type": "stream",
     "text": [
      "Epoch: 1223, loss: 0.060640752774556765, f1: 0.20871113116369447, precision: 0.12088966854840859, recall: 0.7629993450436884\n",
      "val_loss: 0.06722612208216835, val_f1: 0.20215311398137148, val_precision: 0.11667428536494391, val_recall: 0.7560738827520554\n"
     ]
    },
    {
     "name": "stderr",
     "output_type": "stream",
     "text": [
      "100%|█████████████████████████████████████████| 655/655 [00:13<00:00, 47.39it/s]\n"
     ]
    },
    {
     "name": "stdout",
     "output_type": "stream",
     "text": [
      "Epoch: 1224, loss: 0.06054329654727956, f1: 0.20805542892630408, precision: 0.12023131608934576, recall: 0.7718894421258046\n",
      "val_loss: 0.06917612825375084, val_f1: 0.19470557375051828, val_precision: 0.11273097183871501, val_recall: 0.7136521183569496\n"
     ]
    },
    {
     "name": "stderr",
     "output_type": "stream",
     "text": [
      "100%|█████████████████████████████████████████| 655/655 [00:13<00:00, 47.46it/s]\n"
     ]
    },
    {
     "name": "stdout",
     "output_type": "stream",
     "text": [
      "Epoch: 1225, loss: 0.06023053137571302, f1: 0.2109649733624126, precision: 0.12235825655569557, recall: 0.7648038141941296\n",
      "val_loss: 0.06813230704721235, val_f1: 0.20096913310113987, val_precision: 0.11768277856487132, val_recall: 0.687589092675699\n"
     ]
    },
    {
     "name": "stderr",
     "output_type": "stream",
     "text": [
      "100%|█████████████████████████████████████████| 655/655 [00:13<00:00, 47.22it/s]\n"
     ]
    },
    {
     "name": "stdout",
     "output_type": "stream",
     "text": [
      "Epoch: 1226, loss: 0.06092735215566541, f1: 0.21036965983263756, precision: 0.12211779636323793, recall: 0.7585758632717242\n",
      "val_loss: 0.06736514346520288, val_f1: 0.2029738932251929, val_precision: 0.11706628969127159, val_recall: 0.7625931486350681\n"
     ]
    },
    {
     "name": "stderr",
     "output_type": "stream",
     "text": [
      "100%|█████████████████████████████████████████| 655/655 [00:13<00:00, 47.37it/s]\n"
     ]
    },
    {
     "name": "stdout",
     "output_type": "stream",
     "text": [
      "Epoch: 1227, loss: 0.061086364039255464, f1: 0.20806496990992204, precision: 0.12053442627461698, recall: 0.7598800435093523\n",
      "val_loss: 0.06811209412189115, val_f1: 0.19869567634225135, val_precision: 0.11450214162276665, val_recall: 0.750647515571172\n"
     ]
    },
    {
     "name": "stderr",
     "output_type": "stream",
     "text": [
      "100%|█████████████████████████████████████████| 655/655 [00:13<00:00, 47.37it/s]\n"
     ]
    },
    {
     "name": "stdout",
     "output_type": "stream",
     "text": [
      "Epoch: 1228, loss: 0.05991389279943386, f1: 0.21321551108517, precision: 0.12369399307835989, recall: 0.7717754683308019\n",
      "val_loss: 0.06850013012972174, val_f1: 0.19488986201700886, val_precision: 0.11208082609938098, val_recall: 0.7462275657768643\n"
     ]
    },
    {
     "name": "stderr",
     "output_type": "stream",
     "text": [
      "100%|█████████████████████████████████████████| 655/655 [00:13<00:00, 47.34it/s]\n"
     ]
    },
    {
     "name": "stdout",
     "output_type": "stream",
     "text": [
      "Epoch: 1229, loss: 0.06028357534633793, f1: 0.2126478046320877, precision: 0.12325736533935744, recall: 0.7739234469660365\n",
      "val_loss: 0.06802818035587259, val_f1: 0.199112280311546, val_precision: 0.11419852836048999, val_recall: 0.7764556256866236\n"
     ]
    },
    {
     "name": "stderr",
     "output_type": "stream",
     "text": [
      "100%|█████████████████████████████████████████| 655/655 [00:13<00:00, 47.40it/s]\n"
     ]
    },
    {
     "name": "stdout",
     "output_type": "stream",
     "text": [
      "Epoch: 1230, loss: 0.06022429175760227, f1: 0.2102244907236146, precision: 0.12173618673389593, recall: 0.7697310549271016\n",
      "val_loss: 0.06792053351298384, val_f1: 0.19812060444355786, val_precision: 0.11358366916468794, val_recall: 0.7747261801717478\n"
     ]
    },
    {
     "name": "stderr",
     "output_type": "stream",
     "text": [
      "100%|█████████████████████████████████████████| 655/655 [00:13<00:00, 47.39it/s]\n"
     ]
    },
    {
     "name": "stdout",
     "output_type": "stream",
     "text": [
      "Epoch: 1231, loss: 0.060050471009340106, f1: 0.21245097975419852, precision: 0.12324905224812736, recall: 0.7690629415043437\n",
      "val_loss: 0.06747229927894446, val_f1: 0.20703566391753053, val_precision: 0.12001390288447226, val_recall: 0.7531235218048096\n"
     ]
    },
    {
     "name": "stderr",
     "output_type": "stream",
     "text": [
      "100%|█████████████████████████████████████████| 655/655 [00:13<00:00, 47.39it/s]\n"
     ]
    },
    {
     "name": "stdout",
     "output_type": "stream",
     "text": [
      "Epoch: 1232, loss: 0.06022966105547797, f1: 0.21274091656466554, precision: 0.12347199384563866, recall: 0.7679879108969947\n",
      "val_loss: 0.06817849776323098, val_f1: 0.1940931672832694, val_precision: 0.1102740454568673, val_recall: 0.8090531294225553\n"
     ]
    },
    {
     "name": "stderr",
     "output_type": "stream",
     "text": [
      "100%|█████████████████████████████████████████| 655/655 [00:13<00:00, 47.43it/s]\n"
     ]
    },
    {
     "name": "stdout",
     "output_type": "stream",
     "text": [
      "Epoch: 1233, loss: 0.06035951738110708, f1: 0.2073104187882937, precision: 0.11982273715548217, recall: 0.7682220246273143\n",
      "val_loss: 0.06851510642045135, val_f1: 0.19650237034439744, val_precision: 0.11305697795875165, val_recall: 0.7502456799559637\n"
     ]
    },
    {
     "name": "stderr",
     "output_type": "stream",
     "text": [
      "100%|█████████████████████████████████████████| 655/655 [00:13<00:00, 47.43it/s]\n"
     ]
    },
    {
     "name": "stdout",
     "output_type": "stream",
     "text": [
      "Epoch: 1234, loss: 0.06040519718898332, f1: 0.21087800795129638, precision: 0.12232870883521631, recall: 0.763673333812306\n",
      "val_loss: 0.0673389248720823, val_f1: 0.20374727812890175, val_precision: 0.11765352036342572, val_recall: 0.7595616241387271\n"
     ]
    },
    {
     "name": "stderr",
     "output_type": "stream",
     "text": [
      "100%|█████████████████████████████████████████| 655/655 [00:13<00:00, 47.38it/s]\n"
     ]
    },
    {
     "name": "stdout",
     "output_type": "stream",
     "text": [
      "Epoch: 1235, loss: 0.060155888671513696, f1: 0.21341101116921807, precision: 0.12379986579380645, recall: 0.7727769339812621\n",
      "val_loss: 0.06875510165604566, val_f1: 0.20282043250456186, val_precision: 0.11702440528694642, val_recall: 0.7600439715822902\n"
     ]
    },
    {
     "name": "stderr",
     "output_type": "stream",
     "text": [
      "100%|█████████████████████████████████████████| 655/655 [00:13<00:00, 47.42it/s]\n"
     ]
    },
    {
     "name": "stdout",
     "output_type": "stream",
     "text": [
      "Epoch: 1236, loss: 0.06056297089165176, f1: 0.21398380871664183, precision: 0.1242050354397422, recall: 0.7720230102084065\n",
      "val_loss: 0.06794136073952968, val_f1: 0.1983549290909729, val_precision: 0.11430347335755552, val_recall: 0.7494593462949499\n"
     ]
    },
    {
     "name": "stderr",
     "output_type": "stream",
     "text": [
      "100%|█████████████████████████████████████████| 655/655 [00:13<00:00, 47.31it/s]\n"
     ]
    },
    {
     "name": "stdout",
     "output_type": "stream",
     "text": [
      "Epoch: 1237, loss: 0.060630980066471656, f1: 0.20994334133473322, precision: 0.12152059577078424, recall: 0.7708186410196864\n",
      "val_loss: 0.06751697423329595, val_f1: 0.20614601383825729, val_precision: 0.11937680180022202, val_recall: 0.7547031846068321\n"
     ]
    },
    {
     "name": "stderr",
     "output_type": "stream",
     "text": [
      "100%|█████████████████████████████████████████| 655/655 [00:13<00:00, 47.38it/s]\n"
     ]
    },
    {
     "name": "stdout",
     "output_type": "stream",
     "text": [
      "Epoch: 1238, loss: 0.06040835548476636, f1: 0.21042014691126346, precision: 0.122040834376688, recall: 0.7628844120347773\n",
      "val_loss: 0.06746021603498983, val_f1: 0.20598035577547766, val_precision: 0.11946731545415562, val_recall: 0.746729219246895\n"
     ]
    },
    {
     "name": "stderr",
     "output_type": "stream",
     "text": [
      "100%|█████████████████████████████████████████| 655/655 [00:13<00:00, 47.53it/s]\n"
     ]
    },
    {
     "name": "stdout",
     "output_type": "stream",
     "text": [
      "Epoch: 1239, loss: 0.060368875271075026, f1: 0.21256638093041583, precision: 0.12330942793557322, recall: 0.7697366748374838\n",
      "val_loss: 0.06798611686846942, val_f1: 0.20250305031885002, val_precision: 0.11749928850475527, val_recall: 0.7322227628132619\n"
     ]
    },
    {
     "name": "stderr",
     "output_type": "stream",
     "text": [
      "100%|█████████████████████████████████████████| 655/655 [00:13<00:00, 47.40it/s]\n"
     ]
    },
    {
     "name": "stdout",
     "output_type": "stream",
     "text": [
      "Epoch: 1240, loss: 0.05984945672187414, f1: 0.21592097665575155, precision: 0.12563552731676525, recall: 0.7673913980599578\n",
      "val_loss: 0.06738092861386068, val_f1: 0.2089373084478712, val_precision: 0.12127956874890748, val_recall: 0.7536718667647161\n"
     ]
    },
    {
     "name": "stderr",
     "output_type": "stream",
     "text": [
      "100%|█████████████████████████████████████████| 655/655 [00:13<00:00, 47.42it/s]\n"
     ]
    },
    {
     "name": "stdout",
     "output_type": "stream",
     "text": [
      "Epoch: 1241, loss: 0.0602500096837926, f1: 0.21105690839566915, precision: 0.12275017826313167, recall: 0.7521683958878044\n",
      "val_loss: 0.06701599143086634, val_f1: 0.20388409458896117, val_precision: 0.11780454304684466, val_recall: 0.7570836573429064\n"
     ]
    },
    {
     "name": "stderr",
     "output_type": "stream",
     "text": [
      "100%|█████████████████████████████████████████| 655/655 [00:13<00:00, 47.28it/s]\n"
     ]
    },
    {
     "name": "stdout",
     "output_type": "stream",
     "text": [
      "Epoch: 1242, loss: 0.06039883510728601, f1: 0.21495124225298187, precision: 0.12485216506934575, recall: 0.7722228329145271\n",
      "val_loss: 0.06777742304924636, val_f1: 0.20089171242756998, val_precision: 0.11604205701594164, val_recall: 0.7473578932225158\n"
     ]
    },
    {
     "name": "stderr",
     "output_type": "stream",
     "text": [
      "100%|█████████████████████████████████████████| 655/655 [00:13<00:00, 47.26it/s]\n"
     ]
    },
    {
     "name": "stdout",
     "output_type": "stream",
     "text": [
      "Epoch: 1243, loss: 0.060325300716261826, f1: 0.21109932411778995, precision: 0.12227309778873019, recall: 0.771724444605012\n",
      "val_loss: 0.06775638526903653, val_f1: 0.1978530057721391, val_precision: 0.1138254609428893, val_recall: 0.7557813605174012\n"
     ]
    },
    {
     "name": "stderr",
     "output_type": "stream",
     "text": [
      "100%|█████████████████████████████████████████| 655/655 [00:13<00:00, 47.35it/s]\n"
     ]
    },
    {
     "name": "stdout",
     "output_type": "stream",
     "text": [
      "Epoch: 1244, loss: 0.06039482582616442, f1: 0.213774642255621, precision: 0.12403118599718081, recall: 0.7733006127008045\n",
      "val_loss: 0.06777884913693874, val_f1: 0.2091300133313241, val_precision: 0.12151826292045688, val_recall: 0.7495054508294534\n"
     ]
    },
    {
     "name": "stderr",
     "output_type": "stream",
     "text": [
      "100%|█████████████████████████████████████████| 655/655 [00:13<00:00, 47.42it/s]\n"
     ]
    },
    {
     "name": "stdout",
     "output_type": "stream",
     "text": [
      "Epoch: 1245, loss: 0.060249254268146195, f1: 0.2116735420127513, precision: 0.12260880436293269, recall: 0.7736998654162611\n",
      "val_loss: 0.06746839080005884, val_f1: 0.20998093520704172, val_precision: 0.12176330996369687, val_recall: 0.7621836881025121\n"
     ]
    },
    {
     "name": "stderr",
     "output_type": "stream",
     "text": [
      "100%|█████████████████████████████████████████| 655/655 [00:13<00:00, 47.40it/s]\n"
     ]
    },
    {
     "name": "stdout",
     "output_type": "stream",
     "text": [
      "Epoch: 1246, loss: 0.06030047612606, f1: 0.2110166636463646, precision: 0.12219906253455819, recall: 0.7724658351590615\n",
      "val_loss: 0.06765440511816276, val_f1: 0.2023476606199312, val_precision: 0.11676464970180885, val_recall: 0.7577232830568191\n"
     ]
    },
    {
     "name": "stderr",
     "output_type": "stream",
     "text": [
      "100%|█████████████████████████████████████████| 655/655 [00:13<00:00, 47.41it/s]\n"
     ]
    },
    {
     "name": "stdout",
     "output_type": "stream",
     "text": [
      "Epoch: 1247, loss: 0.06047953375586742, f1: 0.21282023963984506, precision: 0.12344533424995101, recall: 0.7710987650142371\n",
      "val_loss: 0.06850369982934053, val_f1: 0.20047003150076181, val_precision: 0.11541171111123756, val_recall: 0.762240685864326\n"
     ]
    },
    {
     "name": "stderr",
     "output_type": "stream",
     "text": [
      "100%|█████████████████████████████████████████| 655/655 [00:13<00:00, 47.30it/s]\n"
     ]
    },
    {
     "name": "stdout",
     "output_type": "stream",
     "text": [
      "Epoch: 1248, loss: 0.060006625692978634, f1: 0.21502051981440412, precision: 0.12465371950636156, recall: 0.7817298314271083\n",
      "val_loss: 0.06811232793085072, val_f1: 0.20020556041187498, val_precision: 0.11547981528778893, val_recall: 0.7517606942068547\n"
     ]
    },
    {
     "name": "stderr",
     "output_type": "stream",
     "text": [
      "100%|█████████████████████████████████████████| 655/655 [00:13<00:00, 47.41it/s]\n"
     ]
    },
    {
     "name": "stdout",
     "output_type": "stream",
     "text": [
      "Epoch: 1249, loss: 0.060709499351623404, f1: 0.21000784978615664, precision: 0.121586254381269, recall: 0.7699179980818552\n",
      "val_loss: 0.06781045125301825, val_f1: 0.20236706525211856, val_precision: 0.11703005608880397, val_recall: 0.7472626110282513\n"
     ]
    },
    {
     "name": "stderr",
     "output_type": "stream",
     "text": [
      "100%|█████████████████████████████████████████| 655/655 [00:13<00:00, 47.38it/s]\n"
     ]
    },
    {
     "name": "stdout",
     "output_type": "stream",
     "text": [
      "Epoch: 1250, loss: 0.06073111772594106, f1: 0.21005424701131434, precision: 0.12178288609400846, recall: 0.7633496924552299\n",
      "val_loss: 0.06683726098661849, val_f1: 0.20105178125805834, val_precision: 0.11628624922467755, val_recall: 0.7417203549193133\n"
     ]
    },
    {
     "name": "stderr",
     "output_type": "stream",
     "text": [
      "100%|█████████████████████████████████████████| 655/655 [00:13<00:00, 47.40it/s]\n"
     ]
    },
    {
     "name": "stdout",
     "output_type": "stream",
     "text": [
      "Epoch: 1251, loss: 0.060313115164438505, f1: 0.21182227646409604, precision: 0.12291272847507974, recall: 0.7656829031824156\n",
      "val_loss: 0.068742367088658, val_f1: 0.19733266845579336, val_precision: 0.11348086494926808, val_recall: 0.7557945074428112\n"
     ]
    },
    {
     "name": "stderr",
     "output_type": "stream",
     "text": [
      "100%|█████████████████████████████████████████| 655/655 [00:13<00:00, 47.41it/s]\n"
     ]
    },
    {
     "name": "stdout",
     "output_type": "stream",
     "text": [
      "Epoch: 1252, loss: 0.05961769619756218, f1: 0.21228227367271318, precision: 0.12305865844583694, recall: 0.772074433035068\n",
      "val_loss: 0.06791848317643098, val_f1: 0.2027240306225263, val_precision: 0.11788594423912875, val_recall: 0.7231425974483884\n"
     ]
    },
    {
     "name": "stderr",
     "output_type": "stream",
     "text": [
      "100%|█████████████████████████████████████████| 655/655 [00:13<00:00, 47.34it/s]\n"
     ]
    },
    {
     "name": "stdout",
     "output_type": "stream",
     "text": [
      "Epoch: 1253, loss: 0.06034950278420023, f1: 0.21239458841827108, precision: 0.12324011164525424, recall: 0.7679344359472507\n",
      "val_loss: 0.06762564213895196, val_f1: 0.20225304570572475, val_precision: 0.11682142260903065, val_recall: 0.7527123107959371\n"
     ]
    },
    {
     "name": "stderr",
     "output_type": "stream",
     "text": [
      "100%|█████████████████████████████████████████| 655/655 [00:13<00:00, 47.39it/s]\n"
     ]
    },
    {
     "name": "stdout",
     "output_type": "stream",
     "text": [
      "Epoch: 1254, loss: 0.06039197693173667, f1: 0.21060755929658218, precision: 0.12201496913837169, recall: 0.7688643248026608\n",
      "val_loss: 0.068153664016874, val_f1: 0.20074799693675122, val_precision: 0.11623822539668838, val_recall: 0.7354468333475087\n"
     ]
    },
    {
     "name": "stderr",
     "output_type": "stream",
     "text": [
      "100%|█████████████████████████████████████████| 655/655 [00:13<00:00, 47.31it/s]\n"
     ]
    },
    {
     "name": "stdout",
     "output_type": "stream",
     "text": [
      "Epoch: 1255, loss: 0.06026752298797396, f1: 0.21181876147242262, precision: 0.12268475742072209, recall: 0.774555882026676\n",
      "val_loss: 0.06858343115811227, val_f1: 0.20273876604245297, val_precision: 0.11717523489608814, val_recall: 0.7514926345523344\n"
     ]
    },
    {
     "name": "stderr",
     "output_type": "stream",
     "text": [
      "100%|█████████████████████████████████████████| 655/655 [00:13<00:00, 47.42it/s]\n"
     ]
    },
    {
     "name": "stdout",
     "output_type": "stream",
     "text": [
      "Epoch: 1256, loss: 0.06053557400911591, f1: 0.21027941881813292, precision: 0.12197551356401039, recall: 0.76173789699114\n",
      "val_loss: 0.06807528701055487, val_f1: 0.20670165715536873, val_precision: 0.11958411036469384, val_recall: 0.761344320456916\n"
     ]
    },
    {
     "name": "stderr",
     "output_type": "stream",
     "text": [
      "100%|█████████████████████████████████████████| 655/655 [00:13<00:00, 47.40it/s]\n"
     ]
    },
    {
     "name": "stdout",
     "output_type": "stream",
     "text": [
      "Epoch: 1257, loss: 0.060469734931777, f1: 0.21126868762284245, precision: 0.12229941598431186, recall: 0.7752152779175125\n",
      "val_loss: 0.068203947156531, val_f1: 0.20081043062586534, val_precision: 0.11574272519626885, val_recall: 0.7576962187886238\n"
     ]
    },
    {
     "name": "stderr",
     "output_type": "stream",
     "text": [
      "100%|█████████████████████████████████████████| 655/655 [00:13<00:00, 47.36it/s]\n"
     ]
    },
    {
     "name": "stdout",
     "output_type": "stream",
     "text": [
      "Epoch: 1258, loss: 0.06018950287768091, f1: 0.21246540485743629, precision: 0.1232023598007744, recall: 0.7712659920160552\n",
      "val_loss: 0.06696795321009848, val_f1: 0.20773608256939405, val_precision: 0.12021158554018774, val_recall: 0.7639800605423953\n"
     ]
    },
    {
     "name": "stderr",
     "output_type": "stream",
     "text": [
      "100%|█████████████████████████████████████████| 655/655 [00:13<00:00, 47.28it/s]\n"
     ]
    },
    {
     "name": "stdout",
     "output_type": "stream",
     "text": [
      "Epoch: 1259, loss: 0.06024850896125986, f1: 0.2090208829215718, precision: 0.12067514167643571, recall: 0.7802070042559208\n",
      "val_loss: 0.06857396992897495, val_f1: 0.19945565552845052, val_precision: 0.11498626298057514, val_recall: 0.7515403819056826\n"
     ]
    },
    {
     "name": "stderr",
     "output_type": "stream",
     "text": [
      "100%|█████████████████████████████████████████| 655/655 [00:13<00:00, 47.32it/s]\n"
     ]
    },
    {
     "name": "stdout",
     "output_type": "stream",
     "text": [
      "Epoch: 1260, loss: 0.060358761692573384, f1: 0.21013330568938646, precision: 0.12169418517386413, recall: 0.7689656200185987\n",
      "val_loss: 0.0690027342408622, val_f1: 0.19902490080980811, val_precision: 0.1147383461586721, val_recall: 0.7498996555805206\n"
     ]
    },
    {
     "name": "stderr",
     "output_type": "stream",
     "text": [
      "100%|█████████████████████████████████████████| 655/655 [00:13<00:00, 47.34it/s]\n"
     ]
    },
    {
     "name": "stdout",
     "output_type": "stream",
     "text": [
      "Epoch: 1261, loss: 0.060693697179205544, f1: 0.20872164264352214, precision: 0.12067524090992245, recall: 0.7719408702531844\n",
      "val_loss: 0.06804225214013676, val_f1: 0.20132355254000203, val_precision: 0.11619703077557368, val_recall: 0.7529068488046664\n"
     ]
    },
    {
     "name": "stderr",
     "output_type": "stream",
     "text": [
      "100%|█████████████████████████████████████████| 655/655 [00:13<00:00, 47.40it/s]\n"
     ]
    },
    {
     "name": "stdout",
     "output_type": "stream",
     "text": [
      "Epoch: 1262, loss: 0.06090640868451304, f1: 0.20897437292905252, precision: 0.12100059455669421, recall: 0.7656209799453957\n",
      "val_loss: 0.0683362439206434, val_f1: 0.19873902047641526, val_precision: 0.11413757110638288, val_recall: 0.7679948398006071\n"
     ]
    },
    {
     "name": "stderr",
     "output_type": "stream",
     "text": [
      "100%|█████████████████████████████████████████| 655/655 [00:13<00:00, 47.32it/s]\n"
     ]
    },
    {
     "name": "stdout",
     "output_type": "stream",
     "text": [
      "Epoch: 1263, loss: 0.0610027861475717, f1: 0.20779265427188767, precision: 0.12009673755765246, recall: 0.7702033225361627\n",
      "val_loss: 0.06714449909199542, val_f1: 0.20186140725795737, val_precision: 0.11653370258116394, val_recall: 0.7538184572113763\n"
     ]
    },
    {
     "name": "stderr",
     "output_type": "stream",
     "text": [
      "100%|█████████████████████████████████████████| 655/655 [00:13<00:00, 47.27it/s]\n"
     ]
    },
    {
     "name": "stdout",
     "output_type": "stream",
     "text": [
      "Epoch: 1264, loss: 0.060630083556166135, f1: 0.20930046278854922, precision: 0.12115886995767933, recall: 0.7680405460354937\n",
      "val_loss: 0.06873140235457124, val_f1: 0.200708906345282, val_precision: 0.11595941264472834, val_recall: 0.7457272456873447\n"
     ]
    },
    {
     "name": "stderr",
     "output_type": "stream",
     "text": [
      "100%|█████████████████████████████████████████| 655/655 [00:13<00:00, 47.40it/s]\n"
     ]
    },
    {
     "name": "stdout",
     "output_type": "stream",
     "text": [
      "Epoch: 1265, loss: 0.05994709975989038, f1: 0.20950557740039008, precision: 0.12124073308082084, recall: 0.7702782470078868\n",
      "val_loss: 0.06918544359846947, val_f1: 0.1949704943540918, val_precision: 0.11214701543826985, val_recall: 0.7456590041108088\n"
     ]
    },
    {
     "name": "stderr",
     "output_type": "stream",
     "text": [
      "100%|█████████████████████████████████████████| 655/655 [00:13<00:00, 47.39it/s]\n"
     ]
    },
    {
     "name": "stdout",
     "output_type": "stream",
     "text": [
      "Epoch: 1266, loss: 0.06049801273496413, f1: 0.21232042577283264, precision: 0.12301731975749135, recall: 0.7747204163829788\n",
      "val_loss: 0.06804830968858452, val_f1: 0.20307548229259023, val_precision: 0.11757978095903719, val_recall: 0.7442186593735983\n"
     ]
    },
    {
     "name": "stderr",
     "output_type": "stream",
     "text": [
      "100%|█████████████████████████████████████████| 655/655 [00:13<00:00, 47.30it/s]\n"
     ]
    },
    {
     "name": "stdout",
     "output_type": "stream",
     "text": [
      "Epoch: 1267, loss: 0.06008976974921215, f1: 0.21250245950727548, precision: 0.12322546370427004, recall: 0.7713371391969782\n",
      "val_loss: 0.06776539438378511, val_f1: 0.20814264864100007, val_precision: 0.12081411495856052, val_recall: 0.7509671005360578\n"
     ]
    },
    {
     "name": "stderr",
     "output_type": "stream",
     "text": [
      "100%|█████████████████████████████████████████| 655/655 [00:13<00:00, 47.36it/s]\n"
     ]
    },
    {
     "name": "stdout",
     "output_type": "stream",
     "text": [
      "Epoch: 1268, loss: 0.06053373565655628, f1: 0.20933576004888146, precision: 0.12099583132178274, recall: 0.7756256082358252\n",
      "val_loss: 0.06776158312984973, val_f1: 0.20778539184651598, val_precision: 0.12023618289295139, val_recall: 0.7643204422308765\n"
     ]
    },
    {
     "name": "stderr",
     "output_type": "stream",
     "text": [
      "100%|█████████████████████████████████████████| 655/655 [00:13<00:00, 47.36it/s]\n"
     ]
    },
    {
     "name": "stdout",
     "output_type": "stream",
     "text": [
      "Epoch: 1269, loss: 0.06050894079545072, f1: 0.21266571895569988, precision: 0.1234873568557402, recall: 0.7654414743014419\n",
      "val_loss: 0.06800129332947075, val_f1: 0.19905767738999844, val_precision: 0.11474935247759344, val_recall: 0.7503603331813025\n"
     ]
    },
    {
     "name": "stderr",
     "output_type": "stream",
     "text": [
      "100%|█████████████████████████████████████████| 655/655 [00:13<00:00, 47.37it/s]\n"
     ]
    },
    {
     "name": "stdout",
     "output_type": "stream",
     "text": [
      "Epoch: 1270, loss: 0.06091498166379583, f1: 0.20753836829900021, precision: 0.12005448914026372, recall: 0.7649814601959163\n",
      "val_loss: 0.06897585533149199, val_f1: 0.20174684141924726, val_precision: 0.11614161320543344, val_recall: 0.7673208085358689\n"
     ]
    },
    {
     "name": "stderr",
     "output_type": "stream",
     "text": [
      "100%|█████████████████████████████████████████| 655/655 [00:13<00:00, 47.31it/s]\n"
     ]
    },
    {
     "name": "stdout",
     "output_type": "stream",
     "text": [
      "Epoch: 1271, loss: 0.06059493574150305, f1: 0.2090532418119891, precision: 0.12100528233066088, recall: 0.7675546543402526\n",
      "val_loss: 0.0683737678897627, val_f1: 0.19780538673417877, val_precision: 0.11427418223941066, val_recall: 0.7352589264238646\n"
     ]
    },
    {
     "name": "stderr",
     "output_type": "stream",
     "text": [
      "100%|█████████████████████████████████████████| 655/655 [00:13<00:00, 47.34it/s]\n"
     ]
    },
    {
     "name": "stdout",
     "output_type": "stream",
     "text": [
      "Epoch: 1272, loss: 0.06036274382570858, f1: 0.20971188108065467, precision: 0.12149258790509278, recall: 0.7657323794965526\n",
      "val_loss: 0.0685319919566359, val_f1: 0.19903025743310326, val_precision: 0.11512282657770252, val_recall: 0.7340264404790664\n"
     ]
    },
    {
     "name": "stderr",
     "output_type": "stream",
     "text": [
      "100%|█████████████████████████████████████████| 655/655 [00:13<00:00, 47.36it/s]\n"
     ]
    },
    {
     "name": "stdout",
     "output_type": "stream",
     "text": [
      "Epoch: 1273, loss: 0.06031403788258784, f1: 0.21092129544069638, precision: 0.1223728944220445, recall: 0.7630875386809575\n",
      "val_loss: 0.06888622764087872, val_f1: 0.19513506853659082, val_precision: 0.1118355114867381, val_recall: 0.7647555734312862\n"
     ]
    },
    {
     "name": "stderr",
     "output_type": "stream",
     "text": [
      "100%|█████████████████████████████████████████| 655/655 [00:13<00:00, 47.31it/s]\n"
     ]
    },
    {
     "name": "stdout",
     "output_type": "stream",
     "text": [
      "Epoch: 1274, loss: 0.06013577357503294, f1: 0.21093857701001376, precision: 0.12221258762825764, recall: 0.7698407923447267\n",
      "val_loss: 0.06809217101304767, val_f1: 0.2029989718409109, val_precision: 0.1175360862323758, val_recall: 0.7439140527073397\n"
     ]
    },
    {
     "name": "stderr",
     "output_type": "stream",
     "text": [
      "100%|█████████████████████████████████████████| 655/655 [00:13<00:00, 47.21it/s]\n"
     ]
    },
    {
     "name": "stdout",
     "output_type": "stream",
     "text": [
      "Epoch: 1275, loss: 0.060792718536247375, f1: 0.2094428343125029, precision: 0.12120338466928433, recall: 0.7700895051919777\n",
      "val_loss: 0.06834434889632901, val_f1: 0.19967784217933124, val_precision: 0.1160790134977481, val_recall: 0.7136168426603352\n"
     ]
    },
    {
     "name": "stderr",
     "output_type": "stream",
     "text": [
      "100%|█████████████████████████████████████████| 655/655 [00:13<00:00, 47.33it/s]\n"
     ]
    },
    {
     "name": "stdout",
     "output_type": "stream",
     "text": [
      "Epoch: 1276, loss: 0.06027334715659154, f1: 0.21376267645493663, precision: 0.12409664502594876, recall: 0.7704547845225298\n",
      "val_loss: 0.06806839264314109, val_f1: 0.1956271045216316, val_precision: 0.11227765333317562, val_recall: 0.7592781644075288\n"
     ]
    },
    {
     "name": "stderr",
     "output_type": "stream",
     "text": [
      "100%|█████████████████████████████████████████| 655/655 [00:13<00:00, 47.31it/s]\n"
     ]
    },
    {
     "name": "stdout",
     "output_type": "stream",
     "text": [
      "Epoch: 1277, loss: 0.06009326942890655, f1: 0.2130625326876259, precision: 0.12354131816381603, recall: 0.7737197516528704\n",
      "val_loss: 0.06942524679791216, val_f1: 0.19599580982020068, val_precision: 0.11281683263283462, val_recall: 0.7460602712603884\n"
     ]
    },
    {
     "name": "stderr",
     "output_type": "stream",
     "text": [
      "100%|█████████████████████████████████████████| 655/655 [00:13<00:00, 47.32it/s]\n"
     ]
    },
    {
     "name": "stdout",
     "output_type": "stream",
     "text": [
      "Epoch: 1278, loss: 0.060291593509514, f1: 0.21498472555785306, precision: 0.12497577428362752, recall: 0.7683821469431615\n",
      "val_loss: 0.06832737353450935, val_f1: 0.2060184024675257, val_precision: 0.11914482543996852, val_recall: 0.7606159602420046\n"
     ]
    },
    {
     "name": "stderr",
     "output_type": "stream",
     "text": [
      "100%|█████████████████████████████████████████| 655/655 [00:13<00:00, 47.40it/s]\n"
     ]
    },
    {
     "name": "stdout",
     "output_type": "stream",
     "text": [
      "Epoch: 1279, loss: 0.060118712652616826, f1: 0.21183095880688807, precision: 0.12278240739957977, recall: 0.7710092522488295\n",
      "val_loss: 0.06790812624139933, val_f1: 0.2037446749172967, val_precision: 0.1177886139041821, val_recall: 0.753907577912195\n"
     ]
    },
    {
     "name": "stderr",
     "output_type": "stream",
     "text": [
      "100%|█████████████████████████████████████████| 655/655 [00:13<00:00, 47.31it/s]\n"
     ]
    },
    {
     "name": "stdout",
     "output_type": "stream",
     "text": [
      "Epoch: 1280, loss: 0.06025323032451267, f1: 0.21226658213622507, precision: 0.12302033378109904, recall: 0.7731698861900177\n",
      "val_loss: 0.0686578768296975, val_f1: 0.20177162876373092, val_precision: 0.11603823796324773, val_recall: 0.7725900793020878\n"
     ]
    },
    {
     "name": "stderr",
     "output_type": "stream",
     "text": [
      "100%|█████████████████████████████████████████| 655/655 [00:13<00:00, 47.42it/s]\n"
     ]
    },
    {
     "name": "stdout",
     "output_type": "stream",
     "text": [
      "Epoch: 1281, loss: 0.06037443957170685, f1: 0.2110675204960826, precision: 0.1222543517756809, recall: 0.7716211132989585\n",
      "val_loss: 0.06803322741505477, val_f1: 0.20444473268302996, val_precision: 0.11855446945645189, val_recall: 0.7420304857809609\n"
     ]
    },
    {
     "name": "stderr",
     "output_type": "stream",
     "text": [
      "100%|█████████████████████████████████████████| 655/655 [00:13<00:00, 47.45it/s]\n"
     ]
    },
    {
     "name": "stdout",
     "output_type": "stream",
     "text": [
      "Epoch: 1282, loss: 0.060397046178806826, f1: 0.2113215456421753, precision: 0.12240197766671768, recall: 0.7725302733196557\n",
      "val_loss: 0.06839254448070713, val_f1: 0.20139910560759464, val_precision: 0.11653101352180158, val_recall: 0.7412216193085417\n"
     ]
    },
    {
     "name": "stderr",
     "output_type": "stream",
     "text": [
      "100%|█████████████████████████████████████████| 655/655 [00:13<00:00, 47.43it/s]\n"
     ]
    },
    {
     "name": "stdout",
     "output_type": "stream",
     "text": [
      "Epoch: 1283, loss: 0.05967904287923611, f1: 0.2138927815372398, precision: 0.12421624559397233, recall: 0.7692293464796234\n",
      "val_loss: 0.06764760975717404, val_f1: 0.2029391724971149, val_precision: 0.11713580223688976, val_recall: 0.7586848921732071\n"
     ]
    },
    {
     "name": "stderr",
     "output_type": "stream",
     "text": [
      "100%|█████████████████████████████████████████| 655/655 [00:13<00:00, 47.31it/s]\n"
     ]
    },
    {
     "name": "stdout",
     "output_type": "stream",
     "text": [
      "Epoch: 1284, loss: 0.06043489201075675, f1: 0.21365042666788178, precision: 0.12399094893334021, recall: 0.7716161940502756\n",
      "val_loss: 0.0696208299983532, val_f1: 0.19215270852704322, val_precision: 0.10931508053401741, val_recall: 0.7933236316803398\n"
     ]
    },
    {
     "name": "stderr",
     "output_type": "stream",
     "text": [
      "100%|█████████████████████████████████████████| 655/655 [00:13<00:00, 47.33it/s]\n"
     ]
    },
    {
     "name": "stdout",
     "output_type": "stream",
     "text": [
      "Epoch: 1285, loss: 0.06035169140985436, f1: 0.21285170077710477, precision: 0.12359458273916527, recall: 0.766140347628193\n",
      "val_loss: 0.06761536328549232, val_f1: 0.20358764241120564, val_precision: 0.11775038064534374, val_recall: 0.7511808068380443\n"
     ]
    },
    {
     "name": "stderr",
     "output_type": "stream",
     "text": [
      "100%|█████████████████████████████████████████| 655/655 [00:13<00:00, 47.28it/s]\n"
     ]
    },
    {
     "name": "stdout",
     "output_type": "stream",
     "text": [
      "Epoch: 1286, loss: 0.05998307907285581, f1: 0.21171668737685284, precision: 0.12260433212207018, recall: 0.7750328730308372\n",
      "val_loss: 0.06829012205841345, val_f1: 0.19669925383152675, val_precision: 0.11340560231767936, val_recall: 0.7407954901866957\n"
     ]
    },
    {
     "name": "stderr",
     "output_type": "stream",
     "text": [
      "100%|█████████████████████████████████████████| 655/655 [00:13<00:00, 47.42it/s]\n"
     ]
    },
    {
     "name": "stdout",
     "output_type": "stream",
     "text": [
      "Epoch: 1287, loss: 0.06028904999457015, f1: 0.21132209923070738, precision: 0.12241039745339001, recall: 0.7722098319186964\n",
      "val_loss: 0.06841875400838501, val_f1: 0.20149111640280717, val_precision: 0.11600724900346421, val_recall: 0.7657876973031857\n"
     ]
    },
    {
     "name": "stderr",
     "output_type": "stream",
     "text": [
      "100%|█████████████████████████████████████████| 655/655 [00:13<00:00, 47.40it/s]\n"
     ]
    },
    {
     "name": "stdout",
     "output_type": "stream",
     "text": [
      "Epoch: 1288, loss: 0.06088403835892677, f1: 0.2122911024239131, precision: 0.1233039757400353, recall: 0.7627838121229455\n",
      "val_loss: 0.06869220889575027, val_f1: 0.195349355238696, val_precision: 0.11138162092057936, val_recall: 0.7936973019477425\n"
     ]
    },
    {
     "name": "stderr",
     "output_type": "stream",
     "text": [
      "100%|█████████████████████████████████████████| 655/655 [00:13<00:00, 47.32it/s]\n"
     ]
    },
    {
     "name": "stdout",
     "output_type": "stream",
     "text": [
      "Epoch: 1289, loss: 0.0602037507215984, f1: 0.21136918450018274, precision: 0.12243318984228123, recall: 0.7725603099087722\n",
      "val_loss: 0.06764799224452005, val_f1: 0.20112644958094653, val_precision: 0.11615766113017335, val_recall: 0.7490613147479679\n"
     ]
    },
    {
     "name": "stderr",
     "output_type": "stream",
     "text": [
      "100%|█████████████████████████████████████████| 655/655 [00:13<00:00, 47.22it/s]\n"
     ]
    },
    {
     "name": "stdout",
     "output_type": "stream",
     "text": [
      "Epoch: 1290, loss: 0.060060411356105146, f1: 0.21234226004321505, precision: 0.12313661253548988, recall: 0.7705971987079118\n",
      "val_loss: 0.06792312450365189, val_f1: 0.19933358499565199, val_precision: 0.11507731214285306, val_recall: 0.7442569656793131\n"
     ]
    },
    {
     "name": "stderr",
     "output_type": "stream",
     "text": [
      "100%|█████████████████████████████████████████| 655/655 [00:13<00:00, 47.37it/s]\n"
     ]
    },
    {
     "name": "stdout",
     "output_type": "stream",
     "text": [
      "Epoch: 1291, loss: 0.060794504020960274, f1: 0.2095114710232472, precision: 0.121231231899605, recall: 0.7708215015535136\n",
      "val_loss: 0.06714814510879986, val_f1: 0.20130580341465837, val_precision: 0.11605741662921709, val_recall: 0.7583176625567839\n"
     ]
    },
    {
     "name": "stderr",
     "output_type": "stream",
     "text": [
      "100%|█████████████████████████████████████████| 655/655 [00:13<00:00, 47.34it/s]\n"
     ]
    },
    {
     "name": "stdout",
     "output_type": "stream",
     "text": [
      "Epoch: 1292, loss: 0.06090237813369009, f1: 0.21045332822872898, precision: 0.12199233844058716, recall: 0.7656624226283482\n",
      "val_loss: 0.06755223348651321, val_f1: 0.20706823363445442, val_precision: 0.11977477014970479, val_recall: 0.7635638043967956\n"
     ]
    },
    {
     "name": "stderr",
     "output_type": "stream",
     "text": [
      "100%|█████████████████████████████████████████| 655/655 [00:13<00:00, 47.32it/s]\n"
     ]
    },
    {
     "name": "stdout",
     "output_type": "stream",
     "text": [
      "Epoch: 1293, loss: 0.060635653961421426, f1: 0.21530532169598512, precision: 0.12513172375038267, recall: 0.7706799325255947\n",
      "val_loss: 0.06846933571809749, val_f1: 0.19897690639961838, val_precision: 0.11490006662836862, val_recall: 0.7417283047229872\n"
     ]
    },
    {
     "name": "stderr",
     "output_type": "stream",
     "text": [
      "100%|█████████████████████████████████████████| 655/655 [00:13<00:00, 47.31it/s]\n"
     ]
    },
    {
     "name": "stdout",
     "output_type": "stream",
     "text": [
      "Epoch: 1294, loss: 0.06032928880304098, f1: 0.21258289178094875, precision: 0.12314240259992826, recall: 0.776750201692108\n",
      "val_loss: 0.06808876227416577, val_f1: 0.2055005831970973, val_precision: 0.12112698375691719, val_recall: 0.677261870320237\n"
     ]
    },
    {
     "name": "stderr",
     "output_type": "stream",
     "text": [
      "100%|█████████████████████████████████████████| 655/655 [00:13<00:00, 47.36it/s]\n"
     ]
    },
    {
     "name": "stdout",
     "output_type": "stream",
     "text": [
      "Epoch: 1295, loss: 0.06047572124152238, f1: 0.21155690641731587, precision: 0.12258838755789547, recall: 0.771401585979771\n",
      "val_loss: 0.06739610197757362, val_f1: 0.20292503326968137, val_precision: 0.11732488981268685, val_recall: 0.7504601266679414\n"
     ]
    },
    {
     "name": "stderr",
     "output_type": "stream",
     "text": [
      "100%|█████████████████████████████████████████| 655/655 [00:13<00:00, 47.26it/s]\n"
     ]
    },
    {
     "name": "stdout",
     "output_type": "stream",
     "text": [
      "Epoch: 1296, loss: 0.060338436817849866, f1: 0.21581501771593128, precision: 0.12526703725661373, recall: 0.7786648128892629\n",
      "val_loss: 0.06753536361192755, val_f1: 0.2050792574509975, val_precision: 0.11854558923375716, val_recall: 0.7594433774095063\n"
     ]
    },
    {
     "name": "stderr",
     "output_type": "stream",
     "text": [
      "100%|█████████████████████████████████████████| 655/655 [00:13<00:00, 47.32it/s]\n"
     ]
    },
    {
     "name": "stdout",
     "output_type": "stream",
     "text": [
      "Epoch: 1297, loss: 0.06058709173541488, f1: 0.211424914575246, precision: 0.12242147909399151, recall: 0.7745202280410374\n",
      "val_loss: 0.06700910583411882, val_f1: 0.20117470109352095, val_precision: 0.11589637768258332, val_recall: 0.7614925145556074\n"
     ]
    },
    {
     "name": "stderr",
     "output_type": "stream",
     "text": [
      "100%|█████████████████████████████████████████| 655/655 [00:13<00:00, 47.30it/s]\n"
     ]
    },
    {
     "name": "stdout",
     "output_type": "stream",
     "text": [
      "Epoch: 1298, loss: 0.06080336124273657, f1: 0.20888720819202058, precision: 0.12091870905888331, recall: 0.7665617794367193\n",
      "val_loss: 0.0674013099590436, val_f1: 0.20299168136622728, val_precision: 0.11725224986450251, val_recall: 0.7552872951561158\n"
     ]
    },
    {
     "name": "stderr",
     "output_type": "stream",
     "text": [
      "100%|█████████████████████████████████████████| 655/655 [00:13<00:00, 47.33it/s]\n"
     ]
    },
    {
     "name": "stdout",
     "output_type": "stream",
     "text": [
      "Epoch: 1299, loss: 0.06037385114077621, f1: 0.208371662672671, precision: 0.12047206035047371, recall: 0.7706806621421839\n",
      "val_loss: 0.06736163443825934, val_f1: 0.20295067970274425, val_precision: 0.11775927891561744, val_recall: 0.733831218691594\n"
     ]
    },
    {
     "name": "stderr",
     "output_type": "stream",
     "text": [
      "100%|█████████████████████████████████████████| 655/655 [00:13<00:00, 47.31it/s]\n"
     ]
    },
    {
     "name": "stdout",
     "output_type": "stream",
     "text": [
      "Epoch: 1300, loss: 0.06039630980835161, f1: 0.21497691248182602, precision: 0.12463550640071053, recall: 0.7812934616139827\n",
      "val_loss: 0.06834586308158319, val_f1: 0.20025969137279032, val_precision: 0.11492690558912694, val_recall: 0.7776959340233321\n"
     ]
    },
    {
     "name": "stderr",
     "output_type": "stream",
     "text": [
      "100%|█████████████████████████████████████████| 655/655 [00:13<00:00, 47.34it/s]\n"
     ]
    },
    {
     "name": "stdout",
     "output_type": "stream",
     "text": [
      "Epoch: 1301, loss: 0.06041710996673307, f1: 0.21061056807906192, precision: 0.12190819892762157, recall: 0.7732122703362967\n",
      "val_loss: 0.06797636896713612, val_f1: 0.1999073276901095, val_precision: 0.11511571687825639, val_recall: 0.7588838822114359\n"
     ]
    },
    {
     "name": "stderr",
     "output_type": "stream",
     "text": [
      "100%|█████████████████████████████████████████| 655/655 [00:13<00:00, 47.30it/s]\n"
     ]
    },
    {
     "name": "stdout",
     "output_type": "stream",
     "text": [
      "Epoch: 1302, loss: 0.06098839381268916, f1: 0.21043610434581267, precision: 0.12192361777548799, recall: 0.7679216544591744\n",
      "val_loss: 0.06710728674853614, val_f1: 0.1998212908511268, val_precision: 0.11466790571672107, val_recall: 0.7763327503696494\n"
     ]
    },
    {
     "name": "stderr",
     "output_type": "stream",
     "text": [
      "100%|█████████████████████████████████████████| 655/655 [00:13<00:00, 47.35it/s]\n"
     ]
    },
    {
     "name": "stdout",
     "output_type": "stream",
     "text": [
      "Epoch: 1303, loss: 0.06018004148402287, f1: 0.2072310414050095, precision: 0.11982314864401031, recall: 0.7660305372119405\n",
      "val_loss: 0.06803271775945612, val_f1: 0.19742798199279418, val_precision: 0.11318437049780554, val_recall: 0.7721207953921152\n"
     ]
    },
    {
     "name": "stderr",
     "output_type": "stream",
     "text": [
      "100%|█████████████████████████████████████████| 655/655 [00:13<00:00, 47.38it/s]\n"
     ]
    },
    {
     "name": "stdout",
     "output_type": "stream",
     "text": [
      "Epoch: 1304, loss: 0.06008404009328544, f1: 0.21118044302190433, precision: 0.122412755444134, recall: 0.7683497631481586\n",
      "val_loss: 0.06751152855523546, val_f1: 0.20482678743925664, val_precision: 0.11878689666441002, val_recall: 0.7429912376021026\n"
     ]
    },
    {
     "name": "stderr",
     "output_type": "stream",
     "text": [
      "100%|█████████████████████████████████████████| 655/655 [00:13<00:00, 47.32it/s]\n"
     ]
    },
    {
     "name": "stdout",
     "output_type": "stream",
     "text": [
      "Epoch: 1305, loss: 0.06027287013459069, f1: 0.2093235738367526, precision: 0.12104293117352996, recall: 0.7733629148936909\n",
      "val_loss: 0.0684108540176525, val_f1: 0.20080583606248764, val_precision: 0.11609136551477596, val_recall: 0.7429614605364996\n"
     ]
    },
    {
     "name": "stderr",
     "output_type": "stream",
     "text": [
      "100%|█████████████████████████████████████████| 655/655 [00:13<00:00, 47.34it/s]\n"
     ]
    },
    {
     "name": "stdout",
     "output_type": "stream",
     "text": [
      "Epoch: 1306, loss: 0.060375130332951187, f1: 0.21229505359916465, precision: 0.12308661145947249, recall: 0.7713131878667205\n",
      "val_loss: 0.06772549159893203, val_f1: 0.2023131735988486, val_precision: 0.11711756815522943, val_recall: 0.7422609665866838\n"
     ]
    },
    {
     "name": "stderr",
     "output_type": "stream",
     "text": [
      "100%|█████████████████████████████████████████| 655/655 [00:13<00:00, 47.25it/s]\n"
     ]
    },
    {
     "name": "stdout",
     "output_type": "stream",
     "text": [
      "Epoch: 1307, loss: 0.06087202957568278, f1: 0.20803598200509188, precision: 0.12025354153384234, recall: 0.770440877701035\n",
      "val_loss: 0.06749529378924417, val_f1: 0.20334359620963252, val_precision: 0.11816969379214484, val_recall: 0.7282459216038568\n"
     ]
    },
    {
     "name": "stderr",
     "output_type": "stream",
     "text": [
      "100%|█████████████████████████████████████████| 655/655 [00:13<00:00, 47.31it/s]\n"
     ]
    },
    {
     "name": "stdout",
     "output_type": "stream",
     "text": [
      "Epoch: 1308, loss: 0.05997320928225015, f1: 0.21386032324319737, precision: 0.12411215291962824, recall: 0.7723978170343028\n",
      "val_loss: 0.06776772406157278, val_f1: 0.203943203561761, val_precision: 0.12011993517501092, val_recall: 0.674928211290902\n"
     ]
    },
    {
     "name": "stderr",
     "output_type": "stream",
     "text": [
      "100%|█████████████████████████████████████████| 655/655 [00:13<00:00, 47.31it/s]\n"
     ]
    },
    {
     "name": "stdout",
     "output_type": "stream",
     "text": [
      "Epoch: 1309, loss: 0.060711083487244966, f1: 0.21725975356903357, precision: 0.12638717027352625, recall: 0.7731709081935518\n",
      "val_loss: 0.06783376905827894, val_f1: 0.20237175184214148, val_precision: 0.11648565113390667, val_recall: 0.7703840401741343\n"
     ]
    },
    {
     "name": "stderr",
     "output_type": "stream",
     "text": [
      "100%|█████████████████████████████████████████| 655/655 [00:13<00:00, 47.32it/s]\n"
     ]
    },
    {
     "name": "stdout",
     "output_type": "stream",
     "text": [
      "Epoch: 1310, loss: 0.060498122448627734, f1: 0.20908139282997668, precision: 0.1207978077602523, recall: 0.7767854128857605\n",
      "val_loss: 0.06874998982722333, val_f1: 0.19889035406510513, val_precision: 0.1145414979551671, val_recall: 0.7545281794229779\n"
     ]
    },
    {
     "name": "stderr",
     "output_type": "stream",
     "text": [
      "100%|█████████████████████████████████████████| 655/655 [00:13<00:00, 47.34it/s]\n"
     ]
    },
    {
     "name": "stdout",
     "output_type": "stream",
     "text": [
      "Epoch: 1311, loss: 0.060280247773434825, f1: 0.21203943056367483, precision: 0.12288997906423707, recall: 0.7722914566975514\n",
      "val_loss: 0.06808997686405521, val_f1: 0.20185542501375123, val_precision: 0.11713476472431708, val_recall: 0.72944442333158\n"
     ]
    },
    {
     "name": "stderr",
     "output_type": "stream",
     "text": [
      "100%|█████████████████████████████████████████| 655/655 [00:13<00:00, 47.22it/s]\n"
     ]
    },
    {
     "name": "stdout",
     "output_type": "stream",
     "text": [
      "Epoch: 1312, loss: 0.0603941356919649, f1: 0.21035972627532779, precision: 0.12185992742568709, recall: 0.7684149333766399\n",
      "val_loss: 0.06889375333819504, val_f1: 0.19768103190780636, val_precision: 0.11382612729351113, val_recall: 0.7507623743710168\n"
     ]
    },
    {
     "name": "stderr",
     "output_type": "stream",
     "text": [
      "100%|█████████████████████████████████████████| 655/655 [00:13<00:00, 47.28it/s]\n"
     ]
    },
    {
     "name": "stdout",
     "output_type": "stream",
     "text": [
      "Epoch: 1313, loss: 0.06027626083125823, f1: 0.2115139861932711, precision: 0.12244447907646194, recall: 0.775992258154709\n",
      "val_loss: 0.06736490913931656, val_f1: 0.20448552403824313, val_precision: 0.11786318437939663, val_recall: 0.7714680969168287\n"
     ]
    },
    {
     "name": "stderr",
     "output_type": "stream",
     "text": [
      "100%|█████████████████████████████████████████| 655/655 [00:13<00:00, 47.33it/s]\n"
     ]
    },
    {
     "name": "stdout",
     "output_type": "stream",
     "text": [
      "Epoch: 1314, loss: 0.06035498282694407, f1: 0.2104556900920855, precision: 0.12208875275593792, recall: 0.7619480859459812\n",
      "val_loss: 0.0685046617659407, val_f1: 0.20054878577987448, val_precision: 0.11577299285953471, val_recall: 0.7490396935731993\n"
     ]
    },
    {
     "name": "stderr",
     "output_type": "stream",
     "text": [
      "100%|█████████████████████████████████████████| 655/655 [00:13<00:00, 47.38it/s]\n"
     ]
    },
    {
     "name": "stdout",
     "output_type": "stream",
     "text": [
      "Epoch: 1315, loss: 0.06069951136205488, f1: 0.20755886290503692, precision: 0.12003395268053726, recall: 0.7663747943994653\n",
      "val_loss: 0.06846910144347663, val_f1: 0.20126477731434136, val_precision: 0.11620640777341953, val_recall: 0.7508741516380681\n"
     ]
    },
    {
     "name": "stderr",
     "output_type": "stream",
     "text": [
      "100%|█████████████████████████████████████████| 655/655 [00:13<00:00, 47.34it/s]\n"
     ]
    },
    {
     "name": "stdout",
     "output_type": "stream",
     "text": [
      "Epoch: 1316, loss: 0.060028200927139556, f1: 0.2125173464491215, precision: 0.12335258918380691, recall: 0.7667805607992274\n",
      "val_loss: 0.06950363477504035, val_f1: 0.19787432603262095, val_precision: 0.11746236772507156, val_recall: 0.6273287451663695\n"
     ]
    },
    {
     "name": "stderr",
     "output_type": "stream",
     "text": [
      "100%|█████████████████████████████████████████| 655/655 [00:13<00:00, 47.30it/s]\n"
     ]
    },
    {
     "name": "stdout",
     "output_type": "stream",
     "text": [
      "Epoch: 1317, loss: 0.06073515298598595, f1: 0.21188145036594142, precision: 0.12311270660045379, recall: 0.7595308368556372\n",
      "val_loss: 0.06858004840654791, val_f1: 0.19979116991649634, val_precision: 0.11528210098846653, val_recall: 0.748458773307844\n"
     ]
    },
    {
     "name": "stderr",
     "output_type": "stream",
     "text": [
      "100%|█████████████████████████████████████████| 655/655 [00:13<00:00, 47.40it/s]\n"
     ]
    },
    {
     "name": "stdout",
     "output_type": "stream",
     "text": [
      "Epoch: 1318, loss: 0.06065538524586053, f1: 0.21267793258038786, precision: 0.12317985807908059, recall: 0.7777984052214004\n",
      "val_loss: 0.06793039881649914, val_f1: 0.2031772802238724, val_precision: 0.11701927308437474, val_recall: 0.7704044831318593\n"
     ]
    },
    {
     "name": "stderr",
     "output_type": "stream",
     "text": [
      "100%|█████████████████████████████████████████| 655/655 [00:13<00:00, 47.37it/s]\n"
     ]
    },
    {
     "name": "stdout",
     "output_type": "stream",
     "text": [
      "Epoch: 1319, loss: 0.06075326444310997, f1: 0.21007544045314927, precision: 0.12153342752610795, recall: 0.7738737070719705\n",
      "val_loss: 0.06862771248769596, val_f1: 0.19724940498771323, val_precision: 0.11337327045482506, val_recall: 0.7581349659813653\n"
     ]
    },
    {
     "name": "stderr",
     "output_type": "stream",
     "text": [
      "100%|█████████████████████████████████████████| 655/655 [00:13<00:00, 47.35it/s]\n"
     ]
    },
    {
     "name": "stdout",
     "output_type": "stream",
     "text": [
      "Epoch: 1320, loss: 0.06112917371321726, f1: 0.20543035181867553, precision: 0.118905323074832, recall: 0.7543712266073882\n",
      "val_loss: 0.06940466468863257, val_f1: 0.19286298547002584, val_precision: 0.11153488941789699, val_recall: 0.7121229816330682\n"
     ]
    },
    {
     "name": "stderr",
     "output_type": "stream",
     "text": [
      "100%|█████████████████████████████████████████| 655/655 [00:13<00:00, 47.32it/s]\n"
     ]
    },
    {
     "name": "stdout",
     "output_type": "stream",
     "text": [
      "Epoch: 1321, loss: 0.06015048638944609, f1: 0.21210271253420385, precision: 0.12294076721695828, recall: 0.771965058022783\n",
      "val_loss: 0.06778476361202401, val_f1: 0.2032500065806431, val_precision: 0.11760598619323258, val_recall: 0.7478706914623943\n"
     ]
    },
    {
     "name": "stderr",
     "output_type": "stream",
     "text": [
      "100%|█████████████████████████████████████████| 655/655 [00:13<00:00, 47.39it/s]\n"
     ]
    },
    {
     "name": "stdout",
     "output_type": "stream",
     "text": [
      "Epoch: 1322, loss: 0.060355922400610135, f1: 0.21128386893900503, precision: 0.12274450746983404, recall: 0.7581880933569588\n",
      "val_loss: 0.06908900289018767, val_f1: 0.19428511508467694, val_precision: 0.11166165019342796, val_recall: 0.7470920215095949\n"
     ]
    },
    {
     "name": "stderr",
     "output_type": "stream",
     "text": [
      "100%|█████████████████████████████████████████| 655/655 [00:13<00:00, 47.32it/s]\n"
     ]
    },
    {
     "name": "stdout",
     "output_type": "stream",
     "text": [
      "Epoch: 1323, loss: 0.06022906924414854, f1: 0.2115022315207793, precision: 0.12258423115020149, recall: 0.7701140827805031\n",
      "val_loss: 0.0684792507832887, val_f1: 0.1993293738764833, val_precision: 0.11445383356730325, val_recall: 0.7713092430195677\n"
     ]
    },
    {
     "name": "stderr",
     "output_type": "stream",
     "text": [
      "100%|█████████████████████████████████████████| 655/655 [00:13<00:00, 47.35it/s]\n"
     ]
    },
    {
     "name": "stdout",
     "output_type": "stream",
     "text": [
      "Epoch: 1324, loss: 0.06020589290464027, f1: 0.21112525297638596, precision: 0.12222591547032406, recall: 0.774306241451329\n",
      "val_loss: 0.06845679666436867, val_f1: 0.19890302862270606, val_precision: 0.11382677353952729, val_recall: 0.7874811033316709\n"
     ]
    },
    {
     "name": "stderr",
     "output_type": "stream",
     "text": [
      "100%|█████████████████████████████████████████| 655/655 [00:13<00:00, 47.40it/s]\n"
     ]
    },
    {
     "name": "stdout",
     "output_type": "stream",
     "text": [
      "Epoch: 1325, loss: 0.060699486517781065, f1: 0.20934303022035675, precision: 0.12125252495512708, recall: 0.7654350137096325\n",
      "val_loss: 0.06750223795891902, val_f1: 0.20577828119031732, val_precision: 0.11951118703811951, val_recall: 0.7397647075560114\n"
     ]
    },
    {
     "name": "stderr",
     "output_type": "stream",
     "text": [
      "100%|█████████████████████████████████████████| 655/655 [00:13<00:00, 47.38it/s]\n"
     ]
    },
    {
     "name": "stdout",
     "output_type": "stream",
     "text": [
      "Epoch: 1326, loss: 0.06017109822083748, f1: 0.214446749590418, precision: 0.12441269667349926, recall: 0.7760602366492039\n",
      "val_loss: 0.06726958961525095, val_f1: 0.20781642273196918, val_precision: 0.12071029885902727, val_recall: 0.7465019601337407\n"
     ]
    },
    {
     "name": "stderr",
     "output_type": "stream",
     "text": [
      "100%|█████████████████████████████████████████| 655/655 [00:13<00:00, 47.35it/s]\n"
     ]
    },
    {
     "name": "stdout",
     "output_type": "stream",
     "text": [
      "Epoch: 1327, loss: 0.06038149803564066, f1: 0.20994258806977004, precision: 0.1212265675297391, recall: 0.7828419293611104\n",
      "val_loss: 0.06787393291804603, val_f1: 0.20203538278291092, val_precision: 0.11669935023095972, val_recall: 0.751750759780407\n"
     ]
    },
    {
     "name": "stderr",
     "output_type": "stream",
     "text": [
      "100%|█████████████████████████████████████████| 655/655 [00:13<00:00, 47.36it/s]\n"
     ]
    },
    {
     "name": "stdout",
     "output_type": "stream",
     "text": [
      "Epoch: 1328, loss: 0.06017579715556771, f1: 0.21073715350065805, precision: 0.12213376648368612, recall: 0.767606054701423\n",
      "val_loss: 0.06738988312661921, val_f1: 0.1993489631606991, val_precision: 0.11493053783261038, val_recall: 0.7508914221864228\n"
     ]
    },
    {
     "name": "stderr",
     "output_type": "stream",
     "text": [
      "100%|█████████████████████████████████████████| 655/655 [00:13<00:00, 47.40it/s]\n"
     ]
    },
    {
     "name": "stdout",
     "output_type": "stream",
     "text": [
      "Epoch: 1329, loss: 0.059920509325923355, f1: 0.21306308360362686, precision: 0.12357991870762851, recall: 0.7722236168521052\n",
      "val_loss: 0.0688741908605219, val_f1: 0.1999109089388073, val_precision: 0.11542811253697637, val_recall: 0.7456811490818995\n"
     ]
    },
    {
     "name": "stderr",
     "output_type": "stream",
     "text": [
      "100%|█████████████████████████████████████████| 655/655 [00:13<00:00, 47.31it/s]\n"
     ]
    },
    {
     "name": "stdout",
     "output_type": "stream",
     "text": [
      "Epoch: 1330, loss: 0.06017242767741435, f1: 0.21499081878886647, precision: 0.12485139082889748, recall: 0.7732752781105405\n",
      "val_loss: 0.0684042929996386, val_f1: 0.2062968033348537, val_precision: 0.1195154257755248, val_recall: 0.7532111556704985\n"
     ]
    },
    {
     "name": "stderr",
     "output_type": "stream",
     "text": [
      "100%|█████████████████████████████████████████| 655/655 [00:13<00:00, 47.27it/s]\n"
     ]
    },
    {
     "name": "stdout",
     "output_type": "stream",
     "text": [
      "Epoch: 1331, loss: 0.06002598318197135, f1: 0.21254243399043643, precision: 0.1234611977446284, recall: 0.7632569185081329\n",
      "val_loss: 0.06805389564603977, val_f1: 0.19903385670339238, val_precision: 0.11551830211094657, val_recall: 0.7184399769325321\n"
     ]
    },
    {
     "name": "stderr",
     "output_type": "stream",
     "text": [
      "100%|█████████████████████████████████████████| 655/655 [00:13<00:00, 47.34it/s]\n"
     ]
    },
    {
     "name": "stdout",
     "output_type": "stream",
     "text": [
      "Epoch: 1332, loss: 0.06012390074071311, f1: 0.21195427832279273, precision: 0.12280278678926575, recall: 0.7734791737476377\n",
      "val_loss: 0.0682608731808739, val_f1: 0.20531011484564637, val_precision: 0.11894466049986285, val_recall: 0.7495744921472094\n"
     ]
    },
    {
     "name": "stderr",
     "output_type": "stream",
     "text": [
      "100%|█████████████████████████████████████████| 655/655 [00:13<00:00, 47.36it/s]\n"
     ]
    },
    {
     "name": "stdout",
     "output_type": "stream",
     "text": [
      "Epoch: 1333, loss: 0.06027905333872515, f1: 0.2099643749297661, precision: 0.12148340585435392, recall: 0.772888000525591\n",
      "val_loss: 0.06792241773234868, val_f1: 0.20689724583765323, val_precision: 0.12010221650456548, val_recall: 0.7460497245192528\n"
     ]
    },
    {
     "name": "stderr",
     "output_type": "stream",
     "text": [
      "100%|█████████████████████████████████████████| 655/655 [00:13<00:00, 47.34it/s]\n"
     ]
    },
    {
     "name": "stdout",
     "output_type": "stream",
     "text": [
      "Epoch: 1334, loss: 0.06034531984336049, f1: 0.20981293114438654, precision: 0.12154393385640765, recall: 0.7663873069386445\n",
      "val_loss: 0.06828730337219227, val_f1: 0.20408194182097245, val_precision: 0.11812810429346261, val_recall: 0.749288649939069\n"
     ]
    },
    {
     "name": "stderr",
     "output_type": "stream",
     "text": [
      "100%|█████████████████████████████████████████| 655/655 [00:13<00:00, 47.14it/s]\n"
     ]
    },
    {
     "name": "stdout",
     "output_type": "stream",
     "text": [
      "Epoch: 1335, loss: 0.06020572897231647, f1: 0.2156464024662497, precision: 0.1252088207765731, recall: 0.7765277415058995\n",
      "val_loss: 0.06765699348147583, val_f1: 0.1995056524419388, val_precision: 0.1149722161924962, val_recall: 0.7535652561335389\n"
     ]
    },
    {
     "name": "stderr",
     "output_type": "stream",
     "text": [
      "100%|█████████████████████████████████████████| 655/655 [00:13<00:00, 47.39it/s]\n"
     ]
    },
    {
     "name": "stdout",
     "output_type": "stream",
     "text": [
      "Epoch: 1336, loss: 0.060376405951972224, f1: 0.20823492893572312, precision: 0.12043512966945938, recall: 0.7684555467417222\n",
      "val_loss: 0.06811771466430926, val_f1: 0.20124029631376023, val_precision: 0.11646209810561406, val_recall: 0.7397090385949939\n"
     ]
    },
    {
     "name": "stderr",
     "output_type": "stream",
     "text": [
      "100%|█████████████████████████████████████████| 655/655 [00:13<00:00, 47.41it/s]\n"
     ]
    },
    {
     "name": "stdout",
     "output_type": "stream",
     "text": [
      "Epoch: 1337, loss: 0.060220095768343404, f1: 0.20924545676605427, precision: 0.12116729717289332, recall: 0.766224456015434\n",
      "val_loss: 0.06763362782844982, val_f1: 0.20731638423284268, val_precision: 0.12056558380766404, val_recall: 0.739180275538099\n"
     ]
    },
    {
     "name": "stderr",
     "output_type": "stream",
     "text": [
      "100%|█████████████████████████████████████████| 655/655 [00:13<00:00, 47.41it/s]\n"
     ]
    },
    {
     "name": "stdout",
     "output_type": "stream",
     "text": [
      "Epoch: 1338, loss: 0.06058620561539899, f1: 0.2075570659220717, precision: 0.12000077456051043, recall: 0.7676808572793735\n",
      "val_loss: 0.06824513588852565, val_f1: 0.19597333091495778, val_precision: 0.11290946673738574, val_recall: 0.7413904357940779\n"
     ]
    },
    {
     "name": "stderr",
     "output_type": "stream",
     "text": [
      "100%|█████████████████████████████████████████| 655/655 [00:13<00:00, 47.32it/s]\n"
     ]
    },
    {
     "name": "stdout",
     "output_type": "stream",
     "text": [
      "Epoch: 1339, loss: 0.06026629429623371, f1: 0.21041767494940483, precision: 0.12192525754981312, recall: 0.7673661315031634\n",
      "val_loss: 0.06781921926202304, val_f1: 0.20765885954958366, val_precision: 0.12037853941902382, val_recall: 0.7552572539366713\n"
     ]
    },
    {
     "name": "stderr",
     "output_type": "stream",
     "text": [
      "100%|█████████████████████████████████████████| 655/655 [00:13<00:00, 47.26it/s]\n"
     ]
    },
    {
     "name": "stdout",
     "output_type": "stream",
     "text": [
      "Epoch: 1340, loss: 0.060093552668984154, f1: 0.21325408711406602, precision: 0.12362351871898952, recall: 0.7755496471779038\n",
      "val_loss: 0.06835274035196512, val_f1: 0.2030186105356084, val_precision: 0.11726051549760437, val_recall: 0.7556900891962401\n"
     ]
    },
    {
     "name": "stderr",
     "output_type": "stream",
     "text": [
      "100%|█████████████████████████████████████████| 655/655 [00:13<00:00, 47.38it/s]\n"
     ]
    },
    {
     "name": "stdout",
     "output_type": "stream",
     "text": [
      "Epoch: 1341, loss: 0.059878265341178, f1: 0.215616587073432, precision: 0.1253038688377968, recall: 0.7721264399986231\n",
      "val_loss: 0.06868324852591261, val_f1: 0.19691726227277484, val_precision: 0.11303302858007747, val_recall: 0.7636046231203123\n"
     ]
    },
    {
     "name": "stderr",
     "output_type": "stream",
     "text": [
      "100%|█████████████████████████████████████████| 655/655 [00:13<00:00, 47.32it/s]\n"
     ]
    },
    {
     "name": "stdout",
     "output_type": "stream",
     "text": [
      "Epoch: 1342, loss: 0.05975685976374582, f1: 0.21501803743451317, precision: 0.12486236942647637, recall: 0.7735584347188927\n",
      "val_loss: 0.06881452776457465, val_f1: 0.19938438617435955, val_precision: 0.1148744584360254, val_recall: 0.7543068460504944\n"
     ]
    },
    {
     "name": "stderr",
     "output_type": "stream",
     "text": [
      "100%|█████████████████████████████████████████| 655/655 [00:13<00:00, 47.31it/s]\n"
     ]
    },
    {
     "name": "stdout",
     "output_type": "stream",
     "text": [
      "Epoch: 1343, loss: 0.06004778913840765, f1: 0.21173736856932782, precision: 0.12277521258575544, recall: 0.768818410719169\n",
      "val_loss: 0.06740464565745734, val_f1: 0.19979341082342858, val_precision: 0.11617635600183399, val_recall: 0.7128921561968435\n"
     ]
    },
    {
     "name": "stderr",
     "output_type": "stream",
     "text": [
      "100%|█████████████████████████████████████████| 655/655 [00:13<00:00, 47.32it/s]\n"
     ]
    },
    {
     "name": "stdout",
     "output_type": "stream",
     "text": [
      "Epoch: 1344, loss: 0.060015995031265354, f1: 0.21146323233961326, precision: 0.12230259749953074, recall: 0.7803551906847772\n",
      "val_loss: 0.0678661540449691, val_f1: 0.2035757606137849, val_precision: 0.11764798133736562, val_recall: 0.7550480680864885\n"
     ]
    },
    {
     "name": "stderr",
     "output_type": "stream",
     "text": [
      "100%|█████████████████████████████████████████| 655/655 [00:13<00:00, 47.34it/s]\n"
     ]
    },
    {
     "name": "stdout",
     "output_type": "stream",
     "text": [
      "Epoch: 1345, loss: 0.05989569961626566, f1: 0.21487664148730315, precision: 0.12468352752048095, recall: 0.7767833111281613\n",
      "val_loss: 0.0684387746241388, val_f1: 0.2020632229333676, val_precision: 0.11703239875170615, val_recall: 0.7389618791298035\n"
     ]
    },
    {
     "name": "stderr",
     "output_type": "stream",
     "text": [
      "100%|█████████████████████████████████████████| 655/655 [00:13<00:00, 47.35it/s]\n"
     ]
    },
    {
     "name": "stdout",
     "output_type": "stream",
     "text": [
      "Epoch: 1346, loss: 0.06088803986528728, f1: 0.21034076933008963, precision: 0.12176295810428853, recall: 0.7717824597053855\n",
      "val_loss: 0.06775176351667818, val_f1: 0.20044206661504044, val_precision: 0.11612585961921226, val_recall: 0.7317435234238249\n"
     ]
    },
    {
     "name": "stderr",
     "output_type": "stream",
     "text": [
      "100%|█████████████████████████████████████████| 655/655 [00:13<00:00, 47.33it/s]\n"
     ]
    },
    {
     "name": "stdout",
     "output_type": "stream",
     "text": [
      "Epoch: 1347, loss: 0.06032535375685978, f1: 0.21027067001613653, precision: 0.12194693983454286, recall: 0.7626239437012727\n",
      "val_loss: 0.06785908281598069, val_f1: 0.19838148953782334, val_precision: 0.11452194653267742, val_recall: 0.7409410784619117\n"
     ]
    },
    {
     "name": "stderr",
     "output_type": "stream",
     "text": [
      "100%|█████████████████████████████████████████| 655/655 [00:13<00:00, 47.33it/s]\n"
     ]
    },
    {
     "name": "stdout",
     "output_type": "stream",
     "text": [
      "Epoch: 1348, loss: 0.060577552524745865, f1: 0.21171892692274163, precision: 0.1227551000398932, recall: 0.7691210074847891\n",
      "val_loss: 0.06780868843881362, val_f1: 0.20157678192607167, val_precision: 0.11696559779875733, val_recall: 0.7287274323608897\n"
     ]
    },
    {
     "name": "stderr",
     "output_type": "stream",
     "text": [
      "100%|█████████████████████████████████████████| 655/655 [00:13<00:00, 47.33it/s]\n"
     ]
    },
    {
     "name": "stdout",
     "output_type": "stream",
     "text": [
      "Epoch: 1349, loss: 0.06028544468619018, f1: 0.21248910387477726, precision: 0.12322406396625266, recall: 0.7710401477818271\n",
      "val_loss: 0.06835761155352132, val_f1: 0.19543135922886876, val_precision: 0.1120489670578903, val_recall: 0.7638820479495809\n"
     ]
    },
    {
     "name": "stderr",
     "output_type": "stream",
     "text": [
      "100%|█████████████████████████████████████████| 655/655 [00:13<00:00, 47.28it/s]\n"
     ]
    },
    {
     "name": "stdout",
     "output_type": "stream",
     "text": [
      "Epoch: 1350, loss: 0.06095406826414907, f1: 0.21437184940678916, precision: 0.12470370553974204, recall: 0.763023702436276\n",
      "val_loss: 0.06859260296807923, val_f1: 0.20073268774705139, val_precision: 0.11624066065996885, val_recall: 0.7349387237785059\n"
     ]
    },
    {
     "name": "stderr",
     "output_type": "stream",
     "text": [
      "100%|█████████████████████████████████████████| 655/655 [00:13<00:00, 47.31it/s]\n"
     ]
    },
    {
     "name": "stdout",
     "output_type": "stream",
     "text": [
      "Epoch: 1351, loss: 0.059893409140009915, f1: 0.21675095292091034, precision: 0.1259695586314752, recall: 0.7759433429659778\n",
      "val_loss: 0.06984272084856799, val_f1: 0.19628400528852036, val_precision: 0.11255044383723117, val_recall: 0.7666287982682569\n"
     ]
    },
    {
     "name": "stderr",
     "output_type": "stream",
     "text": [
      "100%|█████████████████████████████████████████| 655/655 [00:13<00:00, 47.23it/s]\n"
     ]
    },
    {
     "name": "stdout",
     "output_type": "stream",
     "text": [
      "Epoch: 1352, loss: 0.060874537210769325, f1: 0.2081573859169856, precision: 0.1204790634479914, recall: 0.7645744015697304\n",
      "val_loss: 0.0673291375476081, val_f1: 0.2018954189757236, val_precision: 0.11653326652354536, val_recall: 0.7547863902301963\n"
     ]
    },
    {
     "name": "stderr",
     "output_type": "stream",
     "text": [
      "100%|█████████████████████████████████████████| 655/655 [00:13<00:00, 47.32it/s]\n"
     ]
    },
    {
     "name": "stdout",
     "output_type": "stream",
     "text": [
      "Epoch: 1353, loss: 0.06031774785227448, f1: 0.21334263859113972, precision: 0.12361523737839444, recall: 0.778226168925753\n",
      "val_loss: 0.0685880128977769, val_f1: 0.19913687489530113, val_precision: 0.11416242838145123, val_recall: 0.7788804762680596\n"
     ]
    },
    {
     "name": "stderr",
     "output_type": "stream",
     "text": [
      "100%|█████████████████████████████████████████| 655/655 [00:13<00:00, 47.39it/s]\n"
     ]
    },
    {
     "name": "stdout",
     "output_type": "stream",
     "text": [
      "Epoch: 1354, loss: 0.060449783684587574, f1: 0.21099136252101025, precision: 0.12245537097786219, recall: 0.7617186989038045\n",
      "val_loss: 0.06794968976664843, val_f1: 0.19760088843278417, val_precision: 0.11471353440519867, val_recall: 0.7122279847843931\n"
     ]
    },
    {
     "name": "stderr",
     "output_type": "stream",
     "text": [
      "100%|█████████████████████████████████████████| 655/655 [00:13<00:00, 47.35it/s]\n"
     ]
    },
    {
     "name": "stdout",
     "output_type": "stream",
     "text": [
      "Epoch: 1355, loss: 0.06084081551503305, f1: 0.21108431944836878, precision: 0.12217063099743074, recall: 0.7754261975411241\n",
      "val_loss: 0.06932117550744923, val_f1: 0.20110859104691914, val_precision: 0.11614470241095769, val_recall: 0.7491048061793003\n"
     ]
    },
    {
     "name": "stderr",
     "output_type": "stream",
     "text": [
      "100%|█████████████████████████████████████████| 655/655 [00:13<00:00, 47.39it/s]\n"
     ]
    },
    {
     "name": "stdout",
     "output_type": "stream",
     "text": [
      "Epoch: 1356, loss: 0.060579155408244094, f1: 0.21205949607286156, precision: 0.12288291485311875, recall: 0.7731036333751132\n",
      "val_loss: 0.06785851271840138, val_f1: 0.19928191979561186, val_precision: 0.11485699268160474, val_recall: 0.7521317260801246\n"
     ]
    },
    {
     "name": "stderr",
     "output_type": "stream",
     "text": [
      "100%|█████████████████████████████████████████| 655/655 [00:13<00:00, 47.25it/s]\n"
     ]
    },
    {
     "name": "stdout",
     "output_type": "stream",
     "text": [
      "Epoch: 1357, loss: 0.060034954174642115, f1: 0.21239133695194473, precision: 0.12310476310565385, recall: 0.7731456294314552\n",
      "val_loss: 0.06902867394986503, val_f1: 0.198653758342943, val_precision: 0.11429194716839206, val_recall: 0.7585840858860847\n"
     ]
    },
    {
     "name": "stderr",
     "output_type": "stream",
     "text": [
      "100%|█████████████████████████████████████████| 655/655 [00:13<00:00, 47.35it/s]\n"
     ]
    },
    {
     "name": "stdout",
     "output_type": "stream",
     "text": [
      "Epoch: 1358, loss: 0.060024973589443524, f1: 0.21128956486261746, precision: 0.1223091917994027, recall: 0.7753846939055974\n",
      "val_loss: 0.06742755289471478, val_f1: 0.20268535991306263, val_precision: 0.11765007512780641, val_recall: 0.731139080479331\n"
     ]
    },
    {
     "name": "stderr",
     "output_type": "stream",
     "text": [
      "100%|█████████████████████████████████████████| 655/655 [00:13<00:00, 47.39it/s]\n"
     ]
    },
    {
     "name": "stdout",
     "output_type": "stream",
     "text": [
      "Epoch: 1359, loss: 0.06033770784678805, f1: 0.21089227551868864, precision: 0.12210733876314782, recall: 0.7727982671661231\n",
      "val_loss: 0.06902788762310776, val_f1: 0.20122036149929057, val_precision: 0.11612567546512556, val_recall: 0.7530166077504464\n"
     ]
    },
    {
     "name": "stderr",
     "output_type": "stream",
     "text": [
      "100%|█████████████████████████████████████████| 655/655 [00:13<00:00, 47.27it/s]\n"
     ]
    },
    {
     "name": "stdout",
     "output_type": "stream",
     "text": [
      "Epoch: 1360, loss: 0.06024929935411188, f1: 0.21401359809867543, precision: 0.1241213575350334, recall: 0.7760544436237284\n",
      "val_loss: 0.06817784473094918, val_f1: 0.20170523519713693, val_precision: 0.11657554582145851, val_recall: 0.7477582278191497\n"
     ]
    },
    {
     "name": "stderr",
     "output_type": "stream",
     "text": [
      "100%|█████████████████████████████████████████| 655/655 [00:13<00:00, 47.38it/s]\n"
     ]
    },
    {
     "name": "stdout",
     "output_type": "stream",
     "text": [
      "Epoch: 1361, loss: 0.05999615836945427, f1: 0.20982055752069514, precision: 0.12150254067360558, recall: 0.7682415742228049\n",
      "val_loss: 0.06833449692183405, val_f1: 0.20161939581340427, val_precision: 0.11627591695046958, val_recall: 0.7578930589584035\n"
     ]
    },
    {
     "name": "stderr",
     "output_type": "stream",
     "text": [
      "100%|█████████████████████████████████████████| 655/655 [00:13<00:00, 47.39it/s]\n"
     ]
    },
    {
     "name": "stdout",
     "output_type": "stream",
     "text": [
      "Epoch: 1362, loss: 0.06026837981611722, f1: 0.21240757899867085, precision: 0.1230093990075793, recall: 0.7773633150426487\n",
      "val_loss: 0.06806827057152987, val_f1: 0.20635929262969818, val_precision: 0.11971662709609084, val_recall: 0.7469512969255447\n"
     ]
    },
    {
     "name": "stderr",
     "output_type": "stream",
     "text": [
      "100%|█████████████████████████████████████████| 655/655 [00:13<00:00, 47.39it/s]\n"
     ]
    },
    {
     "name": "stdout",
     "output_type": "stream",
     "text": [
      "Epoch: 1363, loss: 0.06064016409218311, f1: 0.21183845928015094, precision: 0.12264471198467694, recall: 0.7766851290264203\n",
      "val_loss: 0.06830268086380585, val_f1: 0.2022913137797015, val_precision: 0.11642443690098686, val_recall: 0.7707307873926031\n"
     ]
    },
    {
     "name": "stderr",
     "output_type": "stream",
     "text": [
      "100%|█████████████████████████████████████████| 655/655 [00:13<00:00, 47.32it/s]\n"
     ]
    },
    {
     "name": "stdout",
     "output_type": "stream",
     "text": [
      "Epoch: 1364, loss: 0.06012962701666446, f1: 0.21047766563495499, precision: 0.1217531202026849, recall: 0.7758830861508391\n",
      "val_loss: 0.06736020982658508, val_f1: 0.20975595558733462, val_precision: 0.1218651052299511, val_recall: 0.7523912355440472\n"
     ]
    },
    {
     "name": "stderr",
     "output_type": "stream",
     "text": [
      "100%|█████████████████████████████████████████| 655/655 [00:13<00:00, 47.34it/s]\n"
     ]
    },
    {
     "name": "stdout",
     "output_type": "stream",
     "text": [
      "Epoch: 1365, loss: 0.06013255815967235, f1: 0.21151703421504708, precision: 0.12263742157450046, recall: 0.7684119471725617\n",
      "val_loss: 0.06757070649193105, val_f1: 0.20447297093511171, val_precision: 0.11871576879105163, val_recall: 0.7365055101317003\n"
     ]
    },
    {
     "name": "stderr",
     "output_type": "stream",
     "text": [
      "100%|█████████████████████████████████████████| 655/655 [00:13<00:00, 47.29it/s]\n"
     ]
    },
    {
     "name": "stdout",
     "output_type": "stream",
     "text": [
      "Epoch: 1366, loss: 0.06024897593350811, f1: 0.21277855414142566, precision: 0.12328874399771786, recall: 0.7761546799984143\n",
      "val_loss: 0.06857599174484201, val_f1: 0.1981121273779519, val_precision: 0.11403334417397482, val_recall: 0.7541886001586093\n"
     ]
    },
    {
     "name": "stderr",
     "output_type": "stream",
     "text": [
      "100%|█████████████████████████████████████████| 655/655 [00:13<00:00, 47.41it/s]\n"
     ]
    },
    {
     "name": "stdout",
     "output_type": "stream",
     "text": [
      "Epoch: 1367, loss: 0.06043533390768644, f1: 0.2114217794348136, precision: 0.1226723596780696, recall: 0.7645448369379262\n",
      "val_loss: 0.06779438470823503, val_f1: 0.20200792110428048, val_precision: 0.1164856877887126, val_recall: 0.759961445807317\n"
     ]
    },
    {
     "name": "stderr",
     "output_type": "stream",
     "text": [
      "100%|█████████████████████████████████████████| 655/655 [00:13<00:00, 47.30it/s]\n"
     ]
    },
    {
     "name": "stdout",
     "output_type": "stream",
     "text": [
      "Epoch: 1368, loss: 0.06012005712694794, f1: 0.21341591873303908, precision: 0.12371838697594882, recall: 0.776096692772312\n",
      "val_loss: 0.06677874128137706, val_f1: 0.20684254968776725, val_precision: 0.12002238107699935, val_recall: 0.7477132840714323\n"
     ]
    },
    {
     "name": "stderr",
     "output_type": "stream",
     "text": [
      "100%|█████████████████████████████████████████| 655/655 [00:13<00:00, 47.36it/s]\n"
     ]
    },
    {
     "name": "stdout",
     "output_type": "stream",
     "text": [
      "Epoch: 1369, loss: 0.060031173581556053, f1: 0.21144555602172557, precision: 0.12255698764227502, recall: 0.7696865776226721\n",
      "val_loss: 0.06775440420066818, val_f1: 0.20089399220479448, val_precision: 0.11582485086139326, val_recall: 0.7565592551996948\n"
     ]
    },
    {
     "name": "stderr",
     "output_type": "stream",
     "text": [
      "100%|█████████████████████████████████████████| 655/655 [00:13<00:00, 47.34it/s]\n"
     ]
    },
    {
     "name": "stdout",
     "output_type": "stream",
     "text": [
      "Epoch: 1370, loss: 0.06023025653744472, f1: 0.21080079078013236, precision: 0.12201819385202843, recall: 0.7739151432257118\n",
      "val_loss: 0.06919540078678263, val_f1: 0.1933540346650472, val_precision: 0.11097997521186982, val_recall: 0.7501394521069089\n"
     ]
    },
    {
     "name": "stderr",
     "output_type": "stream",
     "text": [
      "100%|█████████████████████████████████████████| 655/655 [00:13<00:00, 47.21it/s]\n"
     ]
    },
    {
     "name": "stdout",
     "output_type": "stream",
     "text": [
      "Epoch: 1371, loss: 0.05971491562899287, f1: 0.2128707997284661, precision: 0.12357633120472764, recall: 0.7673384814544488\n",
      "val_loss: 0.067705632990585, val_f1: 0.2045052295957117, val_precision: 0.11817673480121094, val_recall: 0.7588413136267881\n"
     ]
    },
    {
     "name": "stderr",
     "output_type": "stream",
     "text": [
      "100%|█████████████████████████████████████████| 655/655 [00:13<00:00, 47.43it/s]\n"
     ]
    },
    {
     "name": "stdout",
     "output_type": "stream",
     "text": [
      "Epoch: 1372, loss: 0.059945770913278636, f1: 0.21534975688141433, precision: 0.12520570454991045, recall: 0.7690173260241975\n",
      "val_loss: 0.06827008041527567, val_f1: 0.203168975259238, val_precision: 0.11775241038920102, val_recall: 0.7398488015073155\n"
     ]
    },
    {
     "name": "stderr",
     "output_type": "stream",
     "text": [
      "100%|█████████████████████████████████████████| 655/655 [00:13<00:00, 47.33it/s]\n"
     ]
    },
    {
     "name": "stdout",
     "output_type": "stream",
     "text": [
      "Epoch: 1373, loss: 0.06063873622538024, f1: 0.2108712035638691, precision: 0.1227207686880049, recall: 0.7485688838339944\n",
      "val_loss: 0.06751964991450857, val_f1: 0.2021603854578363, val_precision: 0.11811932927817789, val_recall: 0.7007118309036308\n"
     ]
    },
    {
     "name": "stderr",
     "output_type": "stream",
     "text": [
      "100%|█████████████████████████████████████████| 655/655 [00:13<00:00, 47.30it/s]\n"
     ]
    },
    {
     "name": "stdout",
     "output_type": "stream",
     "text": [
      "Epoch: 1374, loss: 0.06022101831800155, f1: 0.21308214156622174, precision: 0.12396382945909641, recall: 0.7580452312153715\n",
      "val_loss: 0.06881861650991604, val_f1: 0.20288364720952842, val_precision: 0.1171058842937949, val_recall: 0.7583879233773695\n"
     ]
    },
    {
     "name": "stderr",
     "output_type": "stream",
     "text": [
      "100%|█████████████████████████████████████████| 655/655 [00:13<00:00, 47.33it/s]\n"
     ]
    },
    {
     "name": "stdout",
     "output_type": "stream",
     "text": [
      "Epoch: 1375, loss: 0.06121463991474104, f1: 0.2090581813799053, precision: 0.1208495111958273, recall: 0.7740174042132064\n",
      "val_loss: 0.06763856065109236, val_f1: 0.19950639672898232, val_precision: 0.11445321475044576, val_recall: 0.7766708508817428\n"
     ]
    },
    {
     "name": "stderr",
     "output_type": "stream",
     "text": [
      "100%|█████████████████████████████████████████| 655/655 [00:13<00:00, 47.39it/s]\n"
     ]
    },
    {
     "name": "stdout",
     "output_type": "stream",
     "text": [
      "Epoch: 1376, loss: 0.0602730038199414, f1: 0.21417289764494496, precision: 0.12455385296484668, recall: 0.7635954199287728\n",
      "val_loss: 0.06768002268781356, val_f1: 0.2044645870548081, val_precision: 0.11838170749759046, val_recall: 0.7494038787730243\n"
     ]
    },
    {
     "name": "stderr",
     "output_type": "stream",
     "text": [
      "100%|█████████████████████████████████████████| 655/655 [00:13<00:00, 47.38it/s]\n"
     ]
    },
    {
     "name": "stdout",
     "output_type": "stream",
     "text": [
      "Epoch: 1377, loss: 0.0601847926268482, f1: 0.2132239961324273, precision: 0.12345584683717435, recall: 0.781405406996949\n",
      "val_loss: 0.06789576845807493, val_f1: 0.20426417131997454, val_precision: 0.11797255360726439, val_recall: 0.76063301858552\n"
     ]
    },
    {
     "name": "stderr",
     "output_type": "stream",
     "text": [
      "100%|█████████████████████████████████████████| 655/655 [00:13<00:00, 47.39it/s]\n"
     ]
    },
    {
     "name": "stdout",
     "output_type": "stream",
     "text": [
      "Epoch: 1378, loss: 0.06013392838613905, f1: 0.21236048067919744, precision: 0.12315056437043516, recall: 0.7705307511541679\n",
      "val_loss: 0.06739917561548565, val_f1: 0.20191401287221294, val_precision: 0.11672159207134652, val_recall: 0.7474895182552688\n"
     ]
    },
    {
     "name": "stderr",
     "output_type": "stream",
     "text": [
      "100%|█████████████████████████████████████████| 655/655 [00:13<00:00, 47.32it/s]\n"
     ]
    },
    {
     "name": "stdout",
     "output_type": "stream",
     "text": [
      "Epoch: 1379, loss: 0.06020273818200781, f1: 0.21043158400996384, precision: 0.1219498286258344, recall: 0.7667634590777732\n",
      "val_loss: 0.06800900520158744, val_f1: 0.20138209602577567, val_precision: 0.11606880976741604, val_recall: 0.7599994253811486\n"
     ]
    },
    {
     "name": "stderr",
     "output_type": "stream",
     "text": [
      "100%|█████████████████████████████████████████| 655/655 [00:13<00:00, 47.35it/s]\n"
     ]
    },
    {
     "name": "stdout",
     "output_type": "stream",
     "text": [
      "Epoch: 1380, loss: 0.05958590257218826, f1: 0.216634490809459, precision: 0.12572680725111762, recall: 0.7822357366103252\n",
      "val_loss: 0.06872662898460659, val_f1: 0.19570484673425906, val_precision: 0.11246276383476178, val_recall: 0.7532168058763951\n"
     ]
    },
    {
     "name": "stderr",
     "output_type": "stream",
     "text": [
      "100%|█████████████████████████████████████████| 655/655 [00:13<00:00, 47.30it/s]\n"
     ]
    },
    {
     "name": "stdout",
     "output_type": "stream",
     "text": [
      "Epoch: 1381, loss: 0.06076519955091804, f1: 0.20731338097800436, precision: 0.12009617754467941, recall: 0.7572482196372429\n",
      "val_loss: 0.06801030665439545, val_f1: 0.20398192582716299, val_precision: 0.11803932681918965, val_recall: 0.7501664764563972\n"
     ]
    },
    {
     "name": "stderr",
     "output_type": "stream",
     "text": [
      "100%|█████████████████████████████████████████| 655/655 [00:13<00:00, 47.26it/s]\n"
     ]
    },
    {
     "name": "stdout",
     "output_type": "stream",
     "text": [
      "Epoch: 1382, loss: 0.06057307933037745, f1: 0.21375464918179496, precision: 0.12403913301181134, recall: 0.7724693316539736\n",
      "val_loss: 0.06804717535477713, val_f1: 0.19963481588889195, val_precision: 0.11473373593677075, val_recall: 0.7677777084872264\n"
     ]
    },
    {
     "name": "stderr",
     "output_type": "stream",
     "text": [
      "100%|█████████████████████████████████████████| 655/655 [00:13<00:00, 47.33it/s]\n"
     ]
    },
    {
     "name": "stdout",
     "output_type": "stream",
     "text": [
      "Epoch: 1383, loss: 0.06074292405529787, f1: 0.21305434329066605, precision: 0.1234668425860182, recall: 0.7764361880890286\n",
      "val_loss: 0.06863526133564088, val_f1: 0.1982700719845892, val_precision: 0.11409830044604702, val_recall: 0.7559272347513689\n"
     ]
    },
    {
     "name": "stderr",
     "output_type": "stream",
     "text": [
      "100%|█████████████████████████████████████████| 655/655 [00:13<00:00, 47.37it/s]\n"
     ]
    },
    {
     "name": "stdout",
     "output_type": "stream",
     "text": [
      "Epoch: 1384, loss: 0.06044185018835177, f1: 0.21083479308751904, precision: 0.12218504391845231, recall: 0.7681715233294109\n",
      "val_loss: 0.06832937583532356, val_f1: 0.19680704912779803, val_precision: 0.1133701147110022, val_recall: 0.7453948266189033\n"
     ]
    },
    {
     "name": "stderr",
     "output_type": "stream",
     "text": [
      "100%|█████████████████████████████████████████| 655/655 [00:13<00:00, 47.39it/s]\n"
     ]
    },
    {
     "name": "stdout",
     "output_type": "stream",
     "text": [
      "Epoch: 1385, loss: 0.06065395117687587, f1: 0.2090639913400639, precision: 0.12089527815381307, recall: 0.7723037663761896\n",
      "val_loss: 0.06791137168269365, val_f1: 0.20189153676323207, val_precision: 0.11634813980071233, val_recall: 0.7625353299423095\n"
     ]
    },
    {
     "name": "stderr",
     "output_type": "stream",
     "text": [
      "100%|█████████████████████████████████████████| 655/655 [00:13<00:00, 47.42it/s]\n"
     ]
    },
    {
     "name": "stdout",
     "output_type": "stream",
     "text": [
      "Epoch: 1386, loss: 0.0604129359424683, f1: 0.20977884352264659, precision: 0.12152976805330006, recall: 0.766040975003297\n",
      "val_loss: 0.06749856997486375, val_f1: 0.20601578174755586, val_precision: 0.11932090457545919, val_recall: 0.7534472135092141\n"
     ]
    },
    {
     "name": "stderr",
     "output_type": "stream",
     "text": [
      "100%|█████████████████████████████████████████| 655/655 [00:13<00:00, 47.29it/s]\n"
     ]
    },
    {
     "name": "stdout",
     "output_type": "stream",
     "text": [
      "Epoch: 1387, loss: 0.06019855055048857, f1: 0.21180274633652088, precision: 0.12271365452458272, recall: 0.7729792432816884\n",
      "val_loss: 0.0682157902431529, val_f1: 0.19086341666526402, val_precision: 0.10874336257944345, val_recall: 0.7795849162230798\n"
     ]
    },
    {
     "name": "stderr",
     "output_type": "stream",
     "text": [
      "100%|█████████████████████████████████████████| 655/655 [00:13<00:00, 47.23it/s]\n"
     ]
    },
    {
     "name": "stdout",
     "output_type": "stream",
     "text": [
      "Epoch: 1388, loss: 0.060199617734482125, f1: 0.21194546418518706, precision: 0.12304235917466287, recall: 0.7638793104363761\n",
      "val_loss: 0.06717890919690285, val_f1: 0.20735137743332233, val_precision: 0.12040362502832752, val_recall: 0.7462324411223787\n"
     ]
    },
    {
     "name": "stderr",
     "output_type": "stream",
     "text": [
      "100%|█████████████████████████████████████████| 655/655 [00:13<00:00, 47.35it/s]\n"
     ]
    },
    {
     "name": "stdout",
     "output_type": "stream",
     "text": [
      "Epoch: 1389, loss: 0.060102860783120146, f1: 0.21133026144681605, precision: 0.12238601102806514, recall: 0.7734003006046964\n",
      "val_loss: 0.06875599179109303, val_f1: 0.20276827035490894, val_precision: 0.11819859178642819, val_recall: 0.7126880330503533\n"
     ]
    },
    {
     "name": "stderr",
     "output_type": "stream",
     "text": [
      "100%|█████████████████████████████████████████| 655/655 [00:13<00:00, 47.32it/s]\n"
     ]
    },
    {
     "name": "stdout",
     "output_type": "stream",
     "text": [
      "Epoch: 1390, loss: 0.06096632970312169, f1: 0.21055192800675993, precision: 0.12181873350681467, recall: 0.7752380640338395\n",
      "val_loss: 0.06700117255501244, val_f1: 0.20241076687277787, val_precision: 0.11711984380028732, val_recall: 0.7448043118512958\n"
     ]
    },
    {
     "name": "stderr",
     "output_type": "stream",
     "text": [
      "100%|█████████████████████████████████████████| 655/655 [00:13<00:00, 47.31it/s]\n"
     ]
    },
    {
     "name": "stdout",
     "output_type": "stream",
     "text": [
      "Epoch: 1391, loss: 0.06039726849901312, f1: 0.21206275874302033, precision: 0.1229347494878728, recall: 0.7711445097136134\n",
      "val_loss: 0.06862600243419682, val_f1: 0.20076561187036934, val_precision: 0.116012082516361, val_recall: 0.7451156363438028\n"
     ]
    },
    {
     "name": "stderr",
     "output_type": "stream",
     "text": [
      "100%|█████████████████████████████████████████| 655/655 [00:13<00:00, 47.36it/s]\n"
     ]
    },
    {
     "name": "stdout",
     "output_type": "stream",
     "text": [
      "Epoch: 1392, loss: 0.06018709307536483, f1: 0.21144429837675566, precision: 0.12254116101233103, recall: 0.7702780069285676\n",
      "val_loss: 0.06734723288463343, val_f1: 0.2022919999054814, val_precision: 0.11661637171359579, val_recall: 0.7624431856044935\n"
     ]
    },
    {
     "name": "stderr",
     "output_type": "stream",
     "text": [
      "100%|█████████████████████████████████████████| 655/655 [00:13<00:00, 47.37it/s]\n"
     ]
    },
    {
     "name": "stdout",
     "output_type": "stream",
     "text": [
      "Epoch: 1393, loss: 0.060303319037984346, f1: 0.20861640013104246, precision: 0.12081632367086434, recall: 0.7633898050389217\n",
      "val_loss: 0.06850476061429726, val_f1: 0.2003650666798451, val_precision: 0.11596255918106047, val_recall: 0.7362106417502285\n"
     ]
    },
    {
     "name": "stderr",
     "output_type": "stream",
     "text": [
      "100%|█████████████████████████████████████████| 655/655 [00:13<00:00, 47.15it/s]\n"
     ]
    },
    {
     "name": "stdout",
     "output_type": "stream",
     "text": [
      "Epoch: 1394, loss: 0.06037801847231525, f1: 0.20905046108938716, precision: 0.12140159068614927, recall: 0.7519114991977015\n",
      "val_loss: 0.06890474147069345, val_f1: 0.19499588592472278, val_precision: 0.11220236829430753, val_recall: 0.7439597167006327\n"
     ]
    },
    {
     "name": "stderr",
     "output_type": "stream",
     "text": [
      "100%|█████████████████████████████████████████| 655/655 [00:13<00:00, 47.31it/s]\n"
     ]
    },
    {
     "name": "stdout",
     "output_type": "stream",
     "text": [
      "Epoch: 1395, loss: 0.06060094296705907, f1: 0.21113025583856138, precision: 0.12225569750552016, recall: 0.7732473286394854\n",
      "val_loss: 0.06823859245883762, val_f1: 0.20155470249822993, val_precision: 0.116120689757886, val_recall: 0.7626981267688471\n"
     ]
    },
    {
     "name": "stderr",
     "output_type": "stream",
     "text": [
      "100%|█████████████████████████████████████████| 655/655 [00:13<00:00, 47.25it/s]\n"
     ]
    },
    {
     "name": "stdout",
     "output_type": "stream",
     "text": [
      "Epoch: 1396, loss: 0.06021509465996091, f1: 0.2094275992923884, precision: 0.12111250194827564, recall: 0.773363039955383\n",
      "val_loss: 0.06781874412516935, val_f1: 0.20553955935045448, val_precision: 0.11931902267585653, val_recall: 0.7409637813037688\n"
     ]
    },
    {
     "name": "stderr",
     "output_type": "stream",
     "text": [
      "100%|█████████████████████████████████████████| 655/655 [00:13<00:00, 47.23it/s]\n"
     ]
    },
    {
     "name": "stdout",
     "output_type": "stream",
     "text": [
      "Epoch: 1397, loss: 0.059947362020416256, f1: 0.21421243889967706, precision: 0.12425546943359361, recall: 0.7760417271661394\n",
      "val_loss: 0.06735975976708695, val_f1: 0.207174786922048, val_precision: 0.12138195802807944, val_recall: 0.7066000743059937\n"
     ]
    },
    {
     "name": "stderr",
     "output_type": "stream",
     "text": [
      "100%|█████████████████████████████████████████| 655/655 [00:13<00:00, 47.37it/s]\n"
     ]
    },
    {
     "name": "stdout",
     "output_type": "stream",
     "text": [
      "Epoch: 1398, loss: 0.060127084595613355, f1: 0.21277692906080858, precision: 0.1234811516933655, recall: 0.7685725481228064\n",
      "val_loss: 0.06796581070835984, val_f1: 0.19898176253364896, val_precision: 0.11461207860815895, val_recall: 0.7540974730471952\n"
     ]
    },
    {
     "name": "stderr",
     "output_type": "stream",
     "text": [
      "100%|█████████████████████████████████████████| 655/655 [00:13<00:00, 47.35it/s]\n"
     ]
    },
    {
     "name": "stdout",
     "output_type": "stream",
     "text": [
      "Epoch: 1399, loss: 0.05995974489238881, f1: 0.2121785801233181, precision: 0.122961880995373, recall: 0.7731437756473781\n",
      "val_loss: 0.0679769475235168, val_f1: 0.19767830779952827, val_precision: 0.11370479896527912, val_recall: 0.7560039321900508\n"
     ]
    },
    {
     "name": "stderr",
     "output_type": "stream",
     "text": [
      "100%|█████████████████████████████████████████| 655/655 [00:13<00:00, 47.32it/s]\n"
     ]
    },
    {
     "name": "stdout",
     "output_type": "stream",
     "text": [
      "Epoch: 1400, loss: 0.060013338734346035, f1: 0.2126460124512415, precision: 0.12352871148996339, recall: 0.7633481893944376\n",
      "val_loss: 0.06810543663082046, val_f1: 0.20265319814689048, val_precision: 0.1173657891105587, val_recall: 0.7414511724486263\n"
     ]
    },
    {
     "name": "stderr",
     "output_type": "stream",
     "text": [
      "100%|█████████████████████████████████████████| 655/655 [00:13<00:00, 47.41it/s]\n"
     ]
    },
    {
     "name": "stdout",
     "output_type": "stream",
     "text": [
      "Epoch: 1401, loss: 0.06008078804851033, f1: 0.21119246913979672, precision: 0.1223649101822374, recall: 0.7705601836092599\n",
      "val_loss: 0.06762027943831518, val_f1: 0.20208933393126854, val_precision: 0.11689416178792647, val_recall: 0.7452307963453302\n"
     ]
    },
    {
     "name": "stderr",
     "output_type": "stream",
     "text": [
      "100%|█████████████████████████████████████████| 655/655 [00:13<00:00, 47.39it/s]\n"
     ]
    },
    {
     "name": "stdout",
     "output_type": "stream",
     "text": [
      "Epoch: 1402, loss: 0.06074177123293394, f1: 0.208990771534424, precision: 0.1210715573800031, recall: 0.7632292539791297\n",
      "val_loss: 0.06837043279799027, val_f1: 0.19876971725098821, val_precision: 0.11469959757726537, val_recall: 0.7443419914316693\n"
     ]
    },
    {
     "name": "stderr",
     "output_type": "stream",
     "text": [
      "100%|█████████████████████████████████████████| 655/655 [00:13<00:00, 47.21it/s]\n"
     ]
    },
    {
     "name": "stdout",
     "output_type": "stream",
     "text": [
      "Epoch: 1403, loss: 0.0604232435633663, f1: 0.21173034815202219, precision: 0.12292837620435552, recall: 0.762684157866103\n",
      "val_loss: 0.06726243068387203, val_f1: 0.2018663678105416, val_precision: 0.1170922342469967, val_recall: 0.7313853081213225\n"
     ]
    },
    {
     "name": "stderr",
     "output_type": "stream",
     "text": [
      "100%|█████████████████████████████████████████| 655/655 [00:13<00:00, 47.30it/s]\n"
     ]
    },
    {
     "name": "stdout",
     "output_type": "stream",
     "text": [
      "Epoch: 1404, loss: 0.060190602711878205, f1: 0.21424400122281578, precision: 0.1244531002151602, recall: 0.7692336540754515\n",
      "val_loss: 0.0683508692821915, val_f1: 0.1983044079329611, val_precision: 0.11415168211727035, val_recall: 0.7545856432220258\n"
     ]
    },
    {
     "name": "stderr",
     "output_type": "stream",
     "text": [
      "100%|█████████████████████████████████████████| 655/655 [00:13<00:00, 47.34it/s]\n"
     ]
    },
    {
     "name": "stdout",
     "output_type": "stream",
     "text": [
      "Epoch: 1405, loss: 0.06043737011727031, f1: 0.2133030623541286, precision: 0.1239393370041183, recall: 0.7646036863668274\n",
      "val_loss: 0.06751065238148247, val_f1: 0.2065121534225187, val_precision: 0.11997769474812331, val_recall: 0.7408628773388513\n"
     ]
    },
    {
     "name": "stderr",
     "output_type": "stream",
     "text": [
      "100%|█████████████████████████████████████████| 655/655 [00:13<00:00, 47.24it/s]\n"
     ]
    },
    {
     "name": "stdout",
     "output_type": "stream",
     "text": [
      "Epoch: 1406, loss: 0.05976747570431414, f1: 0.21478418020312146, precision: 0.12461322953227823, recall: 0.7770958029586851\n",
      "val_loss: 0.06827085342582896, val_f1: 0.1978719695439211, val_precision: 0.11417399482254725, val_recall: 0.74129867191435\n"
     ]
    },
    {
     "name": "stderr",
     "output_type": "stream",
     "text": [
      "100%|█████████████████████████████████████████| 655/655 [00:13<00:00, 47.34it/s]\n"
     ]
    },
    {
     "name": "stdout",
     "output_type": "stream",
     "text": [
      "Epoch: 1407, loss: 0.06033782928591978, f1: 0.21083792226948436, precision: 0.1222123065533273, recall: 0.7671785504080867\n",
      "val_loss: 0.06829926038348894, val_f1: 0.20120048059747356, val_precision: 0.11635631397409245, val_recall: 0.7429181525329931\n"
     ]
    },
    {
     "name": "stderr",
     "output_type": "stream",
     "text": [
      "100%|█████████████████████████████████████████| 655/655 [00:13<00:00, 47.39it/s]\n"
     ]
    },
    {
     "name": "stdout",
     "output_type": "stream",
     "text": [
      "Epoch: 1408, loss: 0.0595550875329321, f1: 0.21650245155800713, precision: 0.12615591299769874, recall: 0.7627350343775203\n",
      "val_loss: 0.06857585270436259, val_f1: 0.19552397594035054, val_precision: 0.11332939781351101, val_recall: 0.7116988206265169\n"
     ]
    },
    {
     "name": "stderr",
     "output_type": "stream",
     "text": [
      "100%|█████████████████████████████████████████| 655/655 [00:13<00:00, 47.33it/s]\n"
     ]
    },
    {
     "name": "stdout",
     "output_type": "stream",
     "text": [
      "Epoch: 1409, loss: 0.06045798126977819, f1: 0.21286418295808357, precision: 0.12339560342668236, recall: 0.7742059658729393\n",
      "val_loss: 0.06770186687161753, val_f1: 0.20426830236786633, val_precision: 0.11804087069996316, val_recall: 0.7579189487690225\n"
     ]
    },
    {
     "name": "stderr",
     "output_type": "stream",
     "text": [
      "100%|█████████████████████████████████████████| 655/655 [00:13<00:00, 47.36it/s]\n"
     ]
    },
    {
     "name": "stdout",
     "output_type": "stream",
     "text": [
      "Epoch: 1410, loss: 0.06027813228202685, f1: 0.21190964741284976, precision: 0.12278126305154034, recall: 0.773144383921878\n",
      "val_loss: 0.06728607578493587, val_f1: 0.20440087510477467, val_precision: 0.11828075157299023, val_recall: 0.7517480410703825\n"
     ]
    },
    {
     "name": "stderr",
     "output_type": "stream",
     "text": [
      "100%|█████████████████████████████████████████| 655/655 [00:13<00:00, 47.30it/s]\n"
     ]
    },
    {
     "name": "stdout",
     "output_type": "stream",
     "text": [
      "Epoch: 1411, loss: 0.05989672246113348, f1: 0.2126514936398609, precision: 0.1233047601311887, recall: 0.7721573961372594\n",
      "val_loss: 0.06685033497836339, val_f1: 0.20461932708868721, val_precision: 0.11857738764529381, val_recall: 0.7457473804371073\n"
     ]
    },
    {
     "name": "stderr",
     "output_type": "stream",
     "text": [
      "100%|█████████████████████████████████████████| 655/655 [00:13<00:00, 47.33it/s]\n"
     ]
    },
    {
     "name": "stdout",
     "output_type": "stream",
     "text": [
      "Epoch: 1412, loss: 0.06006443749772001, f1: 0.21755350388426148, precision: 0.1268864297293809, recall: 0.7621501527328528\n",
      "val_loss: 0.06756113831449402, val_f1: 0.2067089420704592, val_precision: 0.11982722834837752, val_recall: 0.7518279767091122\n"
     ]
    },
    {
     "name": "stderr",
     "output_type": "stream",
     "text": [
      "100%|█████████████████████████████████████████| 655/655 [00:13<00:00, 47.35it/s]\n"
     ]
    },
    {
     "name": "stdout",
     "output_type": "stream",
     "text": [
      "Epoch: 1413, loss: 0.06010389447155349, f1: 0.21162300440065002, precision: 0.12251150991397959, recall: 0.7762347852228252\n",
      "val_loss: 0.06833744110590821, val_f1: 0.19701576151406755, val_precision: 0.1133916313811248, val_recall: 0.7504808152897642\n"
     ]
    },
    {
     "name": "stderr",
     "output_type": "stream",
     "text": [
      "100%|█████████████████████████████████████████| 655/655 [00:13<00:00, 47.39it/s]\n"
     ]
    },
    {
     "name": "stdout",
     "output_type": "stream",
     "text": [
      "Epoch: 1414, loss: 0.059730588181214475, f1: 0.21434666133785144, precision: 0.1244508246333118, recall: 0.7719759247457708\n",
      "val_loss: 0.06829157563080208, val_f1: 0.198474503715404, val_precision: 0.11539414826216637, val_recall: 0.7087622441419767\n"
     ]
    },
    {
     "name": "stderr",
     "output_type": "stream",
     "text": [
      "100%|█████████████████████████████████████████| 655/655 [00:13<00:00, 47.26it/s]\n"
     ]
    },
    {
     "name": "stdout",
     "output_type": "stream",
     "text": [
      "Epoch: 1415, loss: 0.05972846794432697, f1: 0.21450499871585818, precision: 0.12481339859779754, recall: 0.7622929082458256\n",
      "val_loss: 0.06742821003250572, val_f1: 0.21016265910877086, val_precision: 0.12223525998532908, val_recall: 0.7487872059055425\n"
     ]
    },
    {
     "name": "stderr",
     "output_type": "stream",
     "text": [
      "100%|█████████████████████████████████████████| 655/655 [00:13<00:00, 47.34it/s]\n"
     ]
    },
    {
     "name": "stdout",
     "output_type": "stream",
     "text": [
      "Epoch: 1416, loss: 0.05992531856905868, f1: 0.21188148060425632, precision: 0.12298162124894617, recall: 0.7645592994476093\n",
      "val_loss: 0.06766315731177226, val_f1: 0.19998632073854442, val_precision: 0.11572926610477542, val_recall: 0.7353874751187246\n"
     ]
    },
    {
     "name": "stderr",
     "output_type": "stream",
     "text": [
      "100%|█████████████████████████████████████████| 655/655 [00:13<00:00, 47.34it/s]\n"
     ]
    },
    {
     "name": "stdout",
     "output_type": "stream",
     "text": [
      "Epoch: 1417, loss: 0.05956019915441293, f1: 0.21658359165787133, precision: 0.12589195489897642, recall: 0.7745990148254933\n",
      "val_loss: 0.06881805579391641, val_f1: 0.19934378809200676, val_precision: 0.11440180606900825, val_recall: 0.7741149217573875\n"
     ]
    },
    {
     "name": "stderr",
     "output_type": "stream",
     "text": [
      "100%|█████████████████████████████████████████| 655/655 [00:13<00:00, 47.29it/s]\n"
     ]
    },
    {
     "name": "stdout",
     "output_type": "stream",
     "text": [
      "Epoch: 1418, loss: 0.06085633562222533, f1: 0.20932331523909753, precision: 0.12164443596301756, recall: 0.7496716998005641\n",
      "val_loss: 0.0682957706494479, val_f1: 0.2064735267441034, val_precision: 0.11910999057934098, val_recall: 0.7746710704827527\n"
     ]
    },
    {
     "name": "stderr",
     "output_type": "stream",
     "text": [
      "100%|█████████████████████████████████████████| 655/655 [00:13<00:00, 47.38it/s]\n"
     ]
    },
    {
     "name": "stdout",
     "output_type": "stream",
     "text": [
      "Epoch: 1419, loss: 0.059969283518415184, f1: 0.21390087681108985, precision: 0.12399454350647239, recall: 0.7780561495828264\n",
      "val_loss: 0.06753047499720247, val_f1: 0.2020668668494977, val_precision: 0.11688012989032842, val_recall: 0.7451900683275057\n"
     ]
    },
    {
     "name": "stderr",
     "output_type": "stream",
     "text": [
      "100%|█████████████████████████████████████████| 655/655 [00:13<00:00, 47.37it/s]\n"
     ]
    },
    {
     "name": "stdout",
     "output_type": "stream",
     "text": [
      "Epoch: 1420, loss: 0.06038610271483887, f1: 0.21210446266578883, precision: 0.12319496769443837, recall: 0.7621362737799419\n",
      "val_loss: 0.06700737091687022, val_f1: 0.20612495908138706, val_precision: 0.11921659554568452, val_recall: 0.7605961190041052\n"
     ]
    },
    {
     "name": "stderr",
     "output_type": "stream",
     "text": [
      "100%|█████████████████████████████████████████| 655/655 [00:13<00:00, 47.30it/s]\n"
     ]
    },
    {
     "name": "stdout",
     "output_type": "stream",
     "text": [
      "Epoch: 1421, loss: 0.06029373417316957, f1: 0.21232662974228647, precision: 0.12302340343167992, recall: 0.7746443482869454\n",
      "val_loss: 0.06794987651818526, val_f1: 0.20447583057239427, val_precision: 0.11852204134482719, val_recall: 0.7441262969183265\n"
     ]
    },
    {
     "name": "stderr",
     "output_type": "stream",
     "text": [
      "100%|█████████████████████████████████████████| 655/655 [00:13<00:00, 47.33it/s]\n"
     ]
    },
    {
     "name": "stdout",
     "output_type": "stream",
     "text": [
      "Epoch: 1422, loss: 0.05957094975926949, f1: 0.21466594621705498, precision: 0.12468025630752322, recall: 0.7714350681837279\n",
      "val_loss: 0.06807986874167525, val_f1: 0.20121181912255026, val_precision: 0.11658340387063426, val_recall: 0.7340937921213447\n"
     ]
    },
    {
     "name": "stderr",
     "output_type": "stream",
     "text": [
      "100%|█████████████████████████████████████████| 655/655 [00:13<00:00, 47.36it/s]\n"
     ]
    },
    {
     "name": "stdout",
     "output_type": "stream",
     "text": [
      "Epoch: 1423, loss: 0.06028565420619859, f1: 0.21236859885000767, precision: 0.12309748321995566, recall: 0.7728302474069686\n",
      "val_loss: 0.06801585742024653, val_f1: 0.20212271464833637, val_precision: 0.11624854112283216, val_recall: 0.77356246612761\n"
     ]
    },
    {
     "name": "stderr",
     "output_type": "stream",
     "text": [
      "100%|█████████████████████████████████████████| 655/655 [00:13<00:00, 47.24it/s]\n"
     ]
    },
    {
     "name": "stdout",
     "output_type": "stream",
     "text": [
      "Epoch: 1424, loss: 0.06024388434038362, f1: 0.21196898260353153, precision: 0.12288781580522315, recall: 0.7705113063786776\n",
      "val_loss: 0.06725777776852045, val_f1: 0.20820530776020113, val_precision: 0.12073210793026133, val_recall: 0.7557994872331619\n"
     ]
    },
    {
     "name": "stderr",
     "output_type": "stream",
     "text": [
      "100%|█████████████████████████████████████████| 655/655 [00:13<00:00, 47.34it/s]\n"
     ]
    },
    {
     "name": "stdout",
     "output_type": "stream",
     "text": [
      "Epoch: 1425, loss: 0.059719000770959235, f1: 0.21246169211988414, precision: 0.12327142314281571, recall: 0.7684732454651184\n",
      "val_loss: 0.06703034181728823, val_f1: 0.20792139063463297, val_precision: 0.1206311706321126, val_recall: 0.7522821118798825\n"
     ]
    },
    {
     "name": "stderr",
     "output_type": "stream",
     "text": [
      "100%|█████████████████████████████████████████| 655/655 [00:13<00:00, 47.35it/s]\n"
     ]
    },
    {
     "name": "stdout",
     "output_type": "stream",
     "text": [
      "Epoch: 1426, loss: 0.05975269024750886, f1: 0.21403998034752827, precision: 0.12405466962897198, recall: 0.7793706690878358\n",
      "val_loss: 0.06873069091811093, val_f1: 0.19883380562067843, val_precision: 0.11467030725373518, val_recall: 0.7473850728721794\n"
     ]
    },
    {
     "name": "stderr",
     "output_type": "stream",
     "text": [
      "100%|█████████████████████████████████████████| 655/655 [00:13<00:00, 47.35it/s]\n"
     ]
    },
    {
     "name": "stdout",
     "output_type": "stream",
     "text": [
      "Epoch: 1427, loss: 0.059898806821185216, f1: 0.21496148386722924, precision: 0.12464073340458269, recall: 0.7806809533757108\n",
      "val_loss: 0.06783445550709827, val_f1: 0.2036748316494568, val_precision: 0.11775754821922528, val_recall: 0.7532678816570054\n"
     ]
    },
    {
     "name": "stderr",
     "output_type": "stream",
     "text": [
      "100%|█████████████████████████████████████████| 655/655 [00:13<00:00, 47.38it/s]\n"
     ]
    },
    {
     "name": "stdout",
     "output_type": "stream",
     "text": [
      "Epoch: 1428, loss: 0.060100118461143194, f1: 0.21427262084562246, precision: 0.12442991185279292, recall: 0.7708609288885393\n",
      "val_loss: 0.06805783857958853, val_f1: 0.20716077091640436, val_precision: 0.1200984730983341, val_recall: 0.7531045001991298\n"
     ]
    },
    {
     "name": "stderr",
     "output_type": "stream",
     "text": [
      "100%|█████████████████████████████████████████| 655/655 [00:13<00:00, 47.32it/s]\n"
     ]
    },
    {
     "name": "stdout",
     "output_type": "stream",
     "text": [
      "Epoch: 1429, loss: 0.06011145040250689, f1: 0.2123737533486385, precision: 0.1233109895616258, recall: 0.7646532656809756\n",
      "val_loss: 0.06702101503182716, val_f1: 0.20547409791510338, val_precision: 0.11882211863481944, val_recall: 0.7589294957595134\n"
     ]
    },
    {
     "name": "stderr",
     "output_type": "stream",
     "text": [
      "100%|█████████████████████████████████████████| 655/655 [00:13<00:00, 47.20it/s]\n"
     ]
    },
    {
     "name": "stdout",
     "output_type": "stream",
     "text": [
      "Epoch: 1430, loss: 0.06067403749001163, f1: 0.21231855063995014, precision: 0.1230648148698263, recall: 0.7727923456949132\n",
      "val_loss: 0.06828140911705997, val_f1: 0.2020200825192014, val_precision: 0.11633385440180881, val_recall: 0.7668383400374597\n"
     ]
    },
    {
     "name": "stderr",
     "output_type": "stream",
     "text": [
      "100%|█████████████████████████████████████████| 655/655 [00:13<00:00, 47.38it/s]\n"
     ]
    },
    {
     "name": "stdout",
     "output_type": "stream",
     "text": [
      "Epoch: 1431, loss: 0.06026027369817705, f1: 0.2118353724547418, precision: 0.12273387362405601, recall: 0.7730460900159283\n",
      "val_loss: 0.06791199583970352, val_f1: 0.20032951916126648, val_precision: 0.11535313719490525, val_recall: 0.7607342632265266\n"
     ]
    },
    {
     "name": "stderr",
     "output_type": "stream",
     "text": [
      "100%|█████████████████████████████████████████| 655/655 [00:13<00:00, 47.35it/s]\n"
     ]
    },
    {
     "name": "stdout",
     "output_type": "stream",
     "text": [
      "Epoch: 1432, loss: 0.06038184370987743, f1: 0.21210697804473766, precision: 0.12314483738923801, recall: 0.7641257658487058\n",
      "val_loss: 0.06758975174380552, val_f1: 0.20647772906938805, val_precision: 0.12044946265774309, val_recall: 0.7225237420392693\n"
     ]
    },
    {
     "name": "stderr",
     "output_type": "stream",
     "text": [
      "100%|█████████████████████████████████████████| 655/655 [00:13<00:00, 47.33it/s]\n"
     ]
    },
    {
     "name": "stdout",
     "output_type": "stream",
     "text": [
      "Epoch: 1433, loss: 0.06014535835169199, f1: 0.21324374440649022, precision: 0.12364536857068936, recall: 0.7744179222476847\n",
      "val_loss: 0.06819171279053622, val_f1: 0.1999837078033038, val_precision: 0.11514712428276795, val_recall: 0.7597208191563777\n"
     ]
    },
    {
     "name": "stderr",
     "output_type": "stream",
     "text": [
      "100%|█████████████████████████████████████████| 655/655 [00:13<00:00, 47.34it/s]\n"
     ]
    },
    {
     "name": "stdout",
     "output_type": "stream",
     "text": [
      "Epoch: 1434, loss: 0.060587941410147964, f1: 0.2124541027827506, precision: 0.12318576914080567, recall: 0.7716185399480449\n",
      "val_loss: 0.0694202294897869, val_f1: 0.1966091116629201, val_precision: 0.11237585471105685, val_recall: 0.7850773818449143\n"
     ]
    },
    {
     "name": "stderr",
     "output_type": "stream",
     "text": [
      "100%|█████████████████████████████████████████| 655/655 [00:13<00:00, 47.37it/s]\n"
     ]
    },
    {
     "name": "stdout",
     "output_type": "stream",
     "text": [
      "Epoch: 1435, loss: 0.05974214625125395, f1: 0.21226877894369411, precision: 0.1233128000562655, recall: 0.761870761192937\n",
      "val_loss: 0.06879059140732803, val_f1: 0.19791006471157124, val_precision: 0.11364093912047667, val_recall: 0.7657234236734722\n"
     ]
    },
    {
     "name": "stderr",
     "output_type": "stream",
     "text": [
      "100%|█████████████████████████████████████████| 655/655 [00:13<00:00, 47.41it/s]\n"
     ]
    },
    {
     "name": "stdout",
     "output_type": "stream",
     "text": [
      "Epoch: 1436, loss: 0.06052645066653499, f1: 0.21134890093952427, precision: 0.12238947532907526, recall: 0.7737613708349584\n",
      "val_loss: 0.06738918432709548, val_f1: 0.20077583855646658, val_precision: 0.11756999299374468, val_recall: 0.6869139989513323\n"
     ]
    },
    {
     "name": "stderr",
     "output_type": "stream",
     "text": [
      "100%|█████████████████████████████████████████| 655/655 [00:13<00:00, 47.32it/s]\n"
     ]
    },
    {
     "name": "stdout",
     "output_type": "stream",
     "text": [
      "Epoch: 1437, loss: 0.05998187016496676, f1: 0.21397879781275328, precision: 0.12418860899184951, recall: 0.7725276080137901\n",
      "val_loss: 0.06893209171472886, val_f1: 0.19491048148063894, val_precision: 0.11121888951731658, val_recall: 0.7874992909508014\n"
     ]
    },
    {
     "name": "stderr",
     "output_type": "stream",
     "text": [
      "100%|█████████████████████████████████████████| 655/655 [00:13<00:00, 47.28it/s]\n"
     ]
    },
    {
     "name": "stdout",
     "output_type": "stream",
     "text": [
      "Epoch: 1438, loss: 0.06043604385136193, f1: 0.20960955463074973, precision: 0.12110717109838173, recall: 0.7785733964720755\n",
      "val_loss: 0.06800163120304772, val_f1: 0.20394305837755514, val_precision: 0.11807034900540127, val_recall: 0.7478693579451754\n"
     ]
    },
    {
     "name": "stderr",
     "output_type": "stream",
     "text": [
      "100%|█████████████████████████████████████████| 655/655 [00:13<00:00, 47.31it/s]\n"
     ]
    },
    {
     "name": "stdout",
     "output_type": "stream",
     "text": [
      "Epoch: 1439, loss: 0.06005994116048549, f1: 0.21341649321885248, precision: 0.12373408952208932, recall: 0.7754945118691176\n",
      "val_loss: 0.06782222430674581, val_f1: 0.20560895980108201, val_precision: 0.11852961007522744, val_recall: 0.7748981904272639\n"
     ]
    },
    {
     "name": "stderr",
     "output_type": "stream",
     "text": [
      "100%|█████████████████████████████████████████| 655/655 [00:13<00:00, 47.35it/s]\n"
     ]
    },
    {
     "name": "stdout",
     "output_type": "stream",
     "text": [
      "Epoch: 1440, loss: 0.059875310014734284, f1: 0.2135706171592657, precision: 0.12390442040237022, recall: 0.772888915269202\n",
      "val_loss: 0.06957072869729285, val_f1: 0.20506560680573616, val_precision: 0.12043127681154313, val_recall: 0.6898999790054395\n"
     ]
    },
    {
     "name": "stderr",
     "output_type": "stream",
     "text": [
      "100%|█████████████████████████████████████████| 655/655 [00:13<00:00, 47.34it/s]\n"
     ]
    },
    {
     "name": "stdout",
     "output_type": "stream",
     "text": [
      "Epoch: 1441, loss: 0.06129683504407187, f1: 0.21408462050392016, precision: 0.12420636261351235, recall: 0.7746035564378018\n",
      "val_loss: 0.06891685394450613, val_f1: 0.19887370126621642, val_precision: 0.11466121726131084, val_recall: 0.7489014559792816\n"
     ]
    },
    {
     "name": "stderr",
     "output_type": "stream",
     "text": [
      "100%|█████████████████████████████████████████| 655/655 [00:13<00:00, 47.31it/s]\n"
     ]
    },
    {
     "name": "stdout",
     "output_type": "stream",
     "text": [
      "Epoch: 1442, loss: 0.06049136622233018, f1: 0.21203148944326847, precision: 0.12296497821736768, recall: 0.7691335271105512\n",
      "val_loss: 0.06775236179317357, val_f1: 0.2032721365515628, val_precision: 0.11758155460947903, val_recall: 0.7494614251436443\n"
     ]
    },
    {
     "name": "stderr",
     "output_type": "stream",
     "text": [
      "100%|█████████████████████████████████████████| 655/655 [00:13<00:00, 47.26it/s]\n"
     ]
    },
    {
     "name": "stdout",
     "output_type": "stream",
     "text": [
      "Epoch: 1443, loss: 0.05975150489516133, f1: 0.21441551267499417, precision: 0.12473414077224451, recall: 0.7629906453704106\n",
      "val_loss: 0.06818880319356098, val_f1: 0.2015011625704244, val_precision: 0.11683975972038685, val_recall: 0.7316516350715532\n"
     ]
    },
    {
     "name": "stderr",
     "output_type": "stream",
     "text": [
      "100%|█████████████████████████████████████████| 655/655 [00:13<00:00, 47.37it/s]\n"
     ]
    },
    {
     "name": "stdout",
     "output_type": "stream",
     "text": [
      "Epoch: 1444, loss: 0.05980070834510199, f1: 0.2143504347422623, precision: 0.1246517643090764, recall: 0.7644290364084353\n",
      "val_loss: 0.0684530580877711, val_f1: 0.1964306041152597, val_precision: 0.11296268103114508, val_recall: 0.7523142830084223\n"
     ]
    },
    {
     "name": "stderr",
     "output_type": "stream",
     "text": [
      "100%|█████████████████████████████████████████| 655/655 [00:13<00:00, 47.23it/s]\n"
     ]
    },
    {
     "name": "stdout",
     "output_type": "stream",
     "text": [
      "Epoch: 1445, loss: 0.06014460460758715, f1: 0.21436835055512166, precision: 0.12434671824257679, recall: 0.7765749207719137\n",
      "val_loss: 0.06727817085563043, val_f1: 0.2041662120009715, val_precision: 0.11795650562698688, val_recall: 0.7585877474705014\n"
     ]
    },
    {
     "name": "stderr",
     "output_type": "stream",
     "text": [
      "100%|█████████████████████████████████████████| 655/655 [00:13<00:00, 47.32it/s]\n"
     ]
    },
    {
     "name": "stdout",
     "output_type": "stream",
     "text": [
      "Epoch: 1446, loss: 0.060623112016620524, f1: 0.21072722681882022, precision: 0.12213733581317773, recall: 0.7672018603684793\n",
      "val_loss: 0.06781059596687555, val_f1: 0.1988094572787286, val_precision: 0.11443151767715948, val_recall: 0.7569836732170997\n"
     ]
    },
    {
     "name": "stderr",
     "output_type": "stream",
     "text": [
      "100%|█████████████████████████████████████████| 655/655 [00:13<00:00, 47.34it/s]\n"
     ]
    },
    {
     "name": "stdout",
     "output_type": "stream",
     "text": [
      "Epoch: 1447, loss: 0.06060288735871552, f1: 0.20953085348327402, precision: 0.12128782083941553, recall: 0.769063504574863\n",
      "val_loss: 0.07036122957398312, val_f1: 0.19660942641092355, val_precision: 0.11307782576624476, val_recall: 0.7524537016902495\n"
     ]
    },
    {
     "name": "stderr",
     "output_type": "stream",
     "text": [
      "100%|█████████████████████████████████████████| 655/655 [00:13<00:00, 47.30it/s]\n"
     ]
    },
    {
     "name": "stdout",
     "output_type": "stream",
     "text": [
      "Epoch: 1448, loss: 0.06061159752252448, f1: 0.21182297779953196, precision: 0.12252768475796942, recall: 0.7809904044764188\n",
      "val_loss: 0.06718906874708626, val_f1: 0.20558193715738723, val_precision: 0.11904165383488145, val_recall: 0.752977902531077\n"
     ]
    },
    {
     "name": "stderr",
     "output_type": "stream",
     "text": [
      "100%|█████████████████████████████████████████| 655/655 [00:13<00:00, 47.37it/s]\n"
     ]
    },
    {
     "name": "stdout",
     "output_type": "stream",
     "text": [
      "Epoch: 1449, loss: 0.05997609403268795, f1: 0.21209649847589182, precision: 0.12305490774038524, recall: 0.767332249549964\n",
      "val_loss: 0.06828126486886395, val_f1: 0.20068749912392422, val_precision: 0.11527826232032491, val_recall: 0.77454506024855\n"
     ]
    },
    {
     "name": "stderr",
     "output_type": "stream",
     "text": [
      "100%|█████████████████████████████████████████| 655/655 [00:13<00:00, 47.18it/s]\n"
     ]
    },
    {
     "name": "stdout",
     "output_type": "stream",
     "text": [
      "Epoch: 1450, loss: 0.06014347132010997, f1: 0.20964816803559255, precision: 0.12121392587690351, recall: 0.7752447436329063\n",
      "val_loss: 0.06853041480030489, val_f1: 0.2036142725147315, val_precision: 0.11911056098237702, val_recall: 0.7008037601999186\n"
     ]
    },
    {
     "name": "stderr",
     "output_type": "stream",
     "text": [
      "100%|█████████████████████████████████████████| 655/655 [00:13<00:00, 47.33it/s]\n"
     ]
    },
    {
     "name": "stdout",
     "output_type": "stream",
     "text": [
      "Epoch: 1451, loss: 0.060494433980406694, f1: 0.21322318607840546, precision: 0.12368094634961423, recall: 0.7724851949069336\n",
      "val_loss: 0.0672944552102767, val_f1: 0.202439913099672, val_precision: 0.11701172401000737, val_recall: 0.7500060806990764\n"
     ]
    },
    {
     "name": "stderr",
     "output_type": "stream",
     "text": [
      "100%|█████████████████████████████████████████| 655/655 [00:13<00:00, 47.38it/s]\n"
     ]
    },
    {
     "name": "stdout",
     "output_type": "stream",
     "text": [
      "Epoch: 1452, loss: 0.060404696592790935, f1: 0.21327332847462124, precision: 0.12352684610416644, recall: 0.7798904071099886\n",
      "val_loss: 0.0672624121898563, val_f1: 0.2011088757955681, val_precision: 0.11603803762849933, val_recall: 0.7535805530641058\n"
     ]
    },
    {
     "name": "stderr",
     "output_type": "stream",
     "text": [
      "100%|█████████████████████████████████████████| 655/655 [00:13<00:00, 47.28it/s]\n"
     ]
    },
    {
     "name": "stdout",
     "output_type": "stream",
     "text": [
      "Epoch: 1453, loss: 0.06045056944641903, f1: 0.21067915298315437, precision: 0.12195517145459832, recall: 0.7731715981628149\n",
      "val_loss: 0.06789002653399329, val_f1: 0.20670589162475986, val_precision: 0.119796613641425, val_recall: 0.7529544531615502\n"
     ]
    },
    {
     "name": "stderr",
     "output_type": "stream",
     "text": [
      "100%|█████████████████████████████████████████| 655/655 [00:13<00:00, 47.35it/s]\n"
     ]
    },
    {
     "name": "stdout",
     "output_type": "stream",
     "text": [
      "Epoch: 1454, loss: 0.06035758276818363, f1: 0.21051969408154736, precision: 0.12200478933652052, recall: 0.7669304102090478\n",
      "val_loss: 0.06772362101618029, val_f1: 0.20390381076080563, val_precision: 0.11814669295590063, val_recall: 0.7437751440143366\n"
     ]
    },
    {
     "name": "stderr",
     "output_type": "stream",
     "text": [
      "100%|█████████████████████████████████████████| 655/655 [00:13<00:00, 47.38it/s]\n"
     ]
    },
    {
     "name": "stdout",
     "output_type": "stream",
     "text": [
      "Epoch: 1455, loss: 0.05977335706940707, f1: 0.21540611861020242, precision: 0.12503754510082135, recall: 0.7768863924814544\n",
      "val_loss: 0.06788695942815565, val_f1: 0.19942149203247514, val_precision: 0.11555929252143027, val_recall: 0.7270384866299979\n"
     ]
    },
    {
     "name": "stderr",
     "output_type": "stream",
     "text": [
      "100%|█████████████████████████████████████████| 655/655 [00:13<00:00, 47.21it/s]\n"
     ]
    },
    {
     "name": "stdout",
     "output_type": "stream",
     "text": [
      "Epoch: 1456, loss: 0.060357850953538454, f1: 0.21387019464898807, precision: 0.12413922978053225, recall: 0.7716076734639307\n",
      "val_loss: 0.06828931192739295, val_f1: 0.20186048456916464, val_precision: 0.11682921208851381, val_recall: 0.7416581594547548\n"
     ]
    },
    {
     "name": "stderr",
     "output_type": "stream",
     "text": [
      "100%|█████████████████████████████████████████| 655/655 [00:13<00:00, 47.40it/s]\n"
     ]
    },
    {
     "name": "stdout",
     "output_type": "stream",
     "text": [
      "Epoch: 1457, loss: 0.05971937564322512, f1: 0.2143622032384258, precision: 0.12467494865573715, recall: 0.7638570471858706\n",
      "val_loss: 0.06828228267200223, val_f1: 0.19829608598608256, val_precision: 0.11449348263297264, val_recall: 0.7397510273330802\n"
     ]
    },
    {
     "name": "stderr",
     "output_type": "stream",
     "text": [
      "100%|█████████████████████████████████████████| 655/655 [00:13<00:00, 47.36it/s]\n"
     ]
    },
    {
     "name": "stdout",
     "output_type": "stream",
     "text": [
      "Epoch: 1458, loss: 0.060001653560103126, f1: 0.21298035343388272, precision: 0.12360189447023032, recall: 0.7692031726127363\n",
      "val_loss: 0.06904760247455277, val_f1: 0.1988496531281995, val_precision: 0.11417022478390793, val_recall: 0.7698235496058377\n"
     ]
    },
    {
     "name": "stderr",
     "output_type": "stream",
     "text": [
      "100%|█████████████████████████████████████████| 655/655 [00:13<00:00, 47.33it/s]\n"
     ]
    },
    {
     "name": "stdout",
     "output_type": "stream",
     "text": [
      "Epoch: 1459, loss: 0.06050074579663404, f1: 0.20991939957952993, precision: 0.12140351795157744, recall: 0.7749098580529672\n",
      "val_loss: 0.06844468336603647, val_f1: 0.20156140151325616, val_precision: 0.11649412271532512, val_recall: 0.7471548433014013\n"
     ]
    },
    {
     "name": "stderr",
     "output_type": "stream",
     "text": [
      "100%|█████████████████████████████████████████| 655/655 [00:13<00:00, 47.34it/s]\n"
     ]
    },
    {
     "name": "stdout",
     "output_type": "stream",
     "text": [
      "Epoch: 1460, loss: 0.05944426341110286, f1: 0.21749500725715773, precision: 0.1264654385121468, recall: 0.7762078833602767\n",
      "val_loss: 0.06832642914778596, val_f1: 0.19857760063481414, val_precision: 0.11406701186953813, val_recall: 0.7663699172505545\n"
     ]
    },
    {
     "name": "stderr",
     "output_type": "stream",
     "text": [
      "100%|█████████████████████████████████████████| 655/655 [00:13<00:00, 47.36it/s]\n"
     ]
    },
    {
     "name": "stdout",
     "output_type": "stream",
     "text": [
      "Epoch: 1461, loss: 0.05994833369973961, f1: 0.21150307861814913, precision: 0.12254999586814687, recall: 0.7714905628266225\n",
      "val_loss: 0.06919304918019323, val_f1: 0.1960877881260359, val_precision: 0.11319138069098833, val_recall: 0.7326445640705594\n"
     ]
    },
    {
     "name": "stderr",
     "output_type": "stream",
     "text": [
      "100%|█████████████████████████████████████████| 655/655 [00:13<00:00, 47.33it/s]\n"
     ]
    },
    {
     "name": "stdout",
     "output_type": "stream",
     "text": [
      "Epoch: 1462, loss: 0.0602405923655086, f1: 0.21258991646425188, precision: 0.12335346218354944, recall: 0.7686401543726448\n",
      "val_loss: 0.06761446803671504, val_f1: 0.2013211062994112, val_precision: 0.11667610826867915, val_recall: 0.7333296604727934\n"
     ]
    },
    {
     "name": "stderr",
     "output_type": "stream",
     "text": [
      "100%|█████████████████████████████████████████| 655/655 [00:13<00:00, 47.39it/s]\n"
     ]
    },
    {
     "name": "stdout",
     "output_type": "stream",
     "text": [
      "Epoch: 1463, loss: 0.06018304737099937, f1: 0.21338632738576124, precision: 0.12386301855791275, recall: 0.7696825289658008\n",
      "val_loss: 0.06763827869959108, val_f1: 0.20356226473696484, val_precision: 0.11782765217390287, val_recall: 0.7473665323074258\n"
     ]
    },
    {
     "name": "stderr",
     "output_type": "stream",
     "text": [
      "100%|█████████████████████████████████████████| 655/655 [00:13<00:00, 47.33it/s]\n"
     ]
    },
    {
     "name": "stdout",
     "output_type": "stream",
     "text": [
      "Epoch: 1464, loss: 0.06014081204295841, f1: 0.21178062821858973, precision: 0.12280376690461207, recall: 0.76883943265176\n",
      "val_loss: 0.06827082749832114, val_f1: 0.19848382367724499, val_precision: 0.11460934227563167, val_recall: 0.7401400181131625\n"
     ]
    },
    {
     "name": "stderr",
     "output_type": "stream",
     "text": [
      "100%|█████████████████████████████████████████| 655/655 [00:13<00:00, 47.26it/s]\n"
     ]
    },
    {
     "name": "stdout",
     "output_type": "stream",
     "text": [
      "Epoch: 1465, loss: 0.05940313307525775, f1: 0.21864616908223392, precision: 0.12735117585007244, recall: 0.7722627495763866\n",
      "val_loss: 0.0678700840553491, val_f1: 0.20402238193805688, val_precision: 0.11832490009405232, val_recall: 0.739896971766555\n"
     ]
    },
    {
     "name": "stderr",
     "output_type": "stream",
     "text": [
      "100%|█████████████████████████████████████████| 655/655 [00:13<00:00, 47.33it/s]\n"
     ]
    },
    {
     "name": "stdout",
     "output_type": "stream",
     "text": [
      "Epoch: 1466, loss: 0.06004252524776313, f1: 0.214276466864403, precision: 0.12453128197337039, recall: 0.7670916070919911\n",
      "val_loss: 0.06816765752732071, val_f1: 0.19811884093842255, val_precision: 0.11435884385745665, val_recall: 0.7404410290882129\n"
     ]
    },
    {
     "name": "stderr",
     "output_type": "stream",
     "text": [
      "100%|█████████████████████████████████████████| 655/655 [00:13<00:00, 47.35it/s]\n"
     ]
    },
    {
     "name": "stdout",
     "output_type": "stream",
     "text": [
      "Epoch: 1467, loss: 0.060403804072953815, f1: 0.2116025042585496, precision: 0.12261280535563883, recall: 0.7716472213504879\n",
      "val_loss: 0.06790935081950979, val_f1: 0.2023100736325111, val_precision: 0.11723967026620077, val_recall: 0.7373113723112903\n"
     ]
    },
    {
     "name": "stderr",
     "output_type": "stream",
     "text": [
      "100%|█████████████████████████████████████████| 655/655 [00:13<00:00, 47.36it/s]\n"
     ]
    },
    {
     "name": "stdout",
     "output_type": "stream",
     "text": [
      "Epoch: 1468, loss: 0.060128723997764914, f1: 0.21412218959374066, precision: 0.12441975146404091, recall: 0.7673701405297709\n",
      "val_loss: 0.06720449629350814, val_f1: 0.20329279665970826, val_precision: 0.11770428272408492, val_recall: 0.7450680371818192\n"
     ]
    },
    {
     "name": "stderr",
     "output_type": "stream",
     "text": [
      "100%|█████████████████████████████████████████| 655/655 [00:13<00:00, 47.43it/s]\n"
     ]
    },
    {
     "name": "stdout",
     "output_type": "stream",
     "text": [
      "Epoch: 1469, loss: 0.060566981040111934, f1: 0.21022496367308333, precision: 0.12172619996962088, recall: 0.7701432563648879\n",
      "val_loss: 0.06821086461049154, val_f1: 0.20614103526958238, val_precision: 0.1196779816565232, val_recall: 0.7427546736023841\n"
     ]
    },
    {
     "name": "stderr",
     "output_type": "stream",
     "text": [
      "100%|█████████████████████████████████████████| 655/655 [00:13<00:00, 47.38it/s]\n"
     ]
    },
    {
     "name": "stdout",
     "output_type": "stream",
     "text": [
      "Epoch: 1470, loss: 0.060057010487404486, f1: 0.21439528401631305, precision: 0.12437039947364735, recall: 0.7763583446618255\n",
      "val_loss: 0.0683791440732162, val_f1: 0.1999509471292772, val_precision: 0.11519830975972048, val_recall: 0.7565610918019889\n"
     ]
    },
    {
     "name": "stderr",
     "output_type": "stream",
     "text": [
      "100%|█████████████████████████████████████████| 655/655 [00:13<00:00, 47.34it/s]\n"
     ]
    },
    {
     "name": "stdout",
     "output_type": "stream",
     "text": [
      "Epoch: 1471, loss: 0.06015200893330693, f1: 0.21365453656329322, precision: 0.12379439089674758, recall: 0.7794260056987974\n",
      "val_loss: 0.06822897404551916, val_f1: 0.2036394390933591, val_precision: 0.11802916544694625, val_recall: 0.7414008225869695\n"
     ]
    },
    {
     "name": "stderr",
     "output_type": "stream",
     "text": [
      "100%|█████████████████████████████████████████| 655/655 [00:13<00:00, 47.27it/s]\n"
     ]
    },
    {
     "name": "stdout",
     "output_type": "stream",
     "text": [
      "Epoch: 1472, loss: 0.06009079750382007, f1: 0.21685328085867173, precision: 0.12646527612077085, recall: 0.7601575449109077\n",
      "val_loss: 0.06773750688197143, val_f1: 0.20452071537208646, val_precision: 0.1185808191460412, val_recall: 0.743000864914251\n"
     ]
    },
    {
     "name": "stderr",
     "output_type": "stream",
     "text": [
      "100%|█████████████████████████████████████████| 655/655 [00:13<00:00, 47.33it/s]\n"
     ]
    },
    {
     "name": "stdout",
     "output_type": "stream",
     "text": [
      "Epoch: 1473, loss: 0.0603015583634149, f1: 0.2125884187013919, precision: 0.12341055236045868, recall: 0.7663919261962403\n",
      "val_loss: 0.06717627794148588, val_f1: 0.2058403944796898, val_precision: 0.12003006464630844, val_recall: 0.7220113186524548\n"
     ]
    },
    {
     "name": "stderr",
     "output_type": "stream",
     "text": [
      "100%|█████████████████████████████████████████| 655/655 [00:13<00:00, 47.38it/s]\n"
     ]
    },
    {
     "name": "stdout",
     "output_type": "stream",
     "text": [
      "Epoch: 1474, loss: 0.0601980128090914, f1: 0.21099541120964938, precision: 0.12230336743705543, recall: 0.7677605786168848\n",
      "val_loss: 0.06841324452618394, val_f1: 0.1998420244148188, val_precision: 0.11456842187561368, val_recall: 0.7815574862814825\n"
     ]
    },
    {
     "name": "stderr",
     "output_type": "stream",
     "text": [
      "100%|█████████████████████████████████████████| 655/655 [00:13<00:00, 47.44it/s]\n"
     ]
    },
    {
     "name": "stdout",
     "output_type": "stream",
     "text": [
      "Epoch: 1475, loss: 0.06035687378856963, f1: 0.21506310903611442, precision: 0.12474227436668886, recall: 0.7793823149026805\n",
      "val_loss: 0.06840068116408149, val_f1: 0.2046573184462569, val_precision: 0.11864414933530631, val_recall: 0.7441208718019888\n"
     ]
    },
    {
     "name": "stderr",
     "output_type": "stream",
     "text": [
      "100%|█████████████████████████████████████████| 655/655 [00:13<00:00, 47.35it/s]\n"
     ]
    },
    {
     "name": "stdout",
     "output_type": "stream",
     "text": [
      "Epoch: 1476, loss: 0.06029332655602853, f1: 0.21402086096333706, precision: 0.12413513395608268, recall: 0.7757071030390171\n",
      "val_loss: 0.06897024685568219, val_f1: 0.19729267493175115, val_precision: 0.1137809198234367, val_recall: 0.7416174922377692\n"
     ]
    },
    {
     "name": "stderr",
     "output_type": "stream",
     "text": [
      "100%|█████████████████████████████████████████| 655/655 [00:13<00:00, 47.38it/s]\n"
     ]
    },
    {
     "name": "stdout",
     "output_type": "stream",
     "text": [
      "Epoch: 1477, loss: 0.059842924846208276, f1: 0.2157360589754128, precision: 0.12539244964541085, recall: 0.77182790267331\n",
      "val_loss: 0.06832776956020965, val_f1: 0.20134043879364683, val_precision: 0.11623525395220437, val_recall: 0.751776584586419\n"
     ]
    },
    {
     "name": "stderr",
     "output_type": "stream",
     "text": [
      "100%|█████████████████████████████████████████| 655/655 [00:13<00:00, 47.36it/s]\n"
     ]
    },
    {
     "name": "stdout",
     "output_type": "stream",
     "text": [
      "Epoch: 1478, loss: 0.06001096622065733, f1: 0.20967259893410709, precision: 0.12128932197357863, recall: 0.7728381624431101\n",
      "val_loss: 0.06821302916863164, val_f1: 0.2059501257300022, val_precision: 0.11956211068206082, val_recall: 0.7422608290243586\n"
     ]
    },
    {
     "name": "stderr",
     "output_type": "stream",
     "text": [
      "100%|█████████████████████████████████████████| 655/655 [00:13<00:00, 47.29it/s]\n"
     ]
    },
    {
     "name": "stdout",
     "output_type": "stream",
     "text": [
      "Epoch: 1479, loss: 0.060308518453380304, f1: 0.21363309659183807, precision: 0.12406580409191492, recall: 0.7682813166775776\n",
      "val_loss: 0.06836993865019411, val_f1: 0.20931663984764431, val_precision: 0.1227413600058628, val_recall: 0.7103841204298745\n"
     ]
    },
    {
     "name": "stderr",
     "output_type": "stream",
     "text": [
      "100%|█████████████████████████████████████████| 655/655 [00:13<00:00, 47.32it/s]\n"
     ]
    },
    {
     "name": "stdout",
     "output_type": "stream",
     "text": [
      "Epoch: 1480, loss: 0.06017970972488286, f1: 0.21699566617718546, precision: 0.1265448647800065, recall: 0.7607812659658548\n",
      "val_loss: 0.06790196078769657, val_f1: 0.19942253899402335, val_precision: 0.11515825152089564, val_recall: 0.7433539726045153\n"
     ]
    },
    {
     "name": "stderr",
     "output_type": "stream",
     "text": [
      "100%|█████████████████████████████████████████| 655/655 [00:13<00:00, 47.36it/s]\n"
     ]
    },
    {
     "name": "stdout",
     "output_type": "stream",
     "text": [
      "Epoch: 1481, loss: 0.06063726449186224, f1: 0.2119362407719891, precision: 0.12284337157838558, recall: 0.7713948100464034\n",
      "val_loss: 0.06757432480402496, val_f1: 0.198637665441327, val_precision: 0.11439438566668045, val_recall: 0.7536384831054495\n"
     ]
    },
    {
     "name": "stderr",
     "output_type": "stream",
     "text": [
      "100%|█████████████████████████████████████████| 655/655 [00:13<00:00, 47.40it/s]\n"
     ]
    },
    {
     "name": "stdout",
     "output_type": "stream",
     "text": [
      "Epoch: 1482, loss: 0.05987532894688708, f1: 0.2118428581187144, precision: 0.12282250035582608, recall: 0.7697461616560703\n",
      "val_loss: 0.06759717484611437, val_f1: 0.20238500563745082, val_precision: 0.11708540901746772, val_recall: 0.7455002523685267\n"
     ]
    },
    {
     "name": "stderr",
     "output_type": "stream",
     "text": [
      "100%|█████████████████████████████████████████| 655/655 [00:13<00:00, 47.31it/s]\n"
     ]
    },
    {
     "name": "stdout",
     "output_type": "stream",
     "text": [
      "Epoch: 1483, loss: 0.06012728215970156, f1: 0.21207593085534268, precision: 0.12333155202871288, recall: 0.7562240934667697\n",
      "val_loss: 0.0680241719349672, val_f1: 0.1997635194169616, val_precision: 0.11546941550337461, val_recall: 0.7398988382053484\n"
     ]
    },
    {
     "name": "stderr",
     "output_type": "stream",
     "text": [
      "100%|█████████████████████████████████████████| 655/655 [00:13<00:00, 47.37it/s]\n"
     ]
    },
    {
     "name": "stdout",
     "output_type": "stream",
     "text": [
      "Epoch: 1484, loss: 0.06042683166629485, f1: 0.211624922252961, precision: 0.12275574685301888, recall: 0.7666215338381647\n",
      "val_loss: 0.0676961853211626, val_f1: 0.20145269376838854, val_precision: 0.11612844352563416, val_recall: 0.7594546481556849\n"
     ]
    },
    {
     "name": "stderr",
     "output_type": "stream",
     "text": [
      "100%|█████████████████████████████████████████| 655/655 [00:13<00:00, 47.30it/s]\n"
     ]
    },
    {
     "name": "stdout",
     "output_type": "stream",
     "text": [
      "Epoch: 1485, loss: 0.059964887145862254, f1: 0.21427290230607318, precision: 0.12445308302266112, recall: 0.7699800833377219\n",
      "val_loss: 0.06841800298217103, val_f1: 0.1975307404294184, val_precision: 0.11351135572623633, val_recall: 0.7602741141384894\n"
     ]
    },
    {
     "name": "stderr",
     "output_type": "stream",
     "text": [
      "100%|█████████████████████████████████████████| 655/655 [00:13<00:00, 47.36it/s]\n"
     ]
    },
    {
     "name": "stdout",
     "output_type": "stream",
     "text": [
      "Epoch: 1486, loss: 0.06024878409963087, f1: 0.2083779993334463, precision: 0.12070070585833137, recall: 0.761622430566158\n",
      "val_loss: 0.06741989063047761, val_f1: 0.2043078684146334, val_precision: 0.1183468510477949, val_recall: 0.7465978214226732\n"
     ]
    },
    {
     "name": "stderr",
     "output_type": "stream",
     "text": [
      "100%|█████████████████████████████████████████| 655/655 [00:13<00:00, 47.39it/s]\n"
     ]
    },
    {
     "name": "stdout",
     "output_type": "stream",
     "text": [
      "Epoch: 1487, loss: 0.060351739701537684, f1: 0.2127427264698243, precision: 0.12332531829499675, recall: 0.7737594078742821\n",
      "val_loss: 0.06783081972202577, val_f1: 0.202225608645954, val_precision: 0.11704581097909036, val_recall: 0.7427869979463039\n"
     ]
    },
    {
     "name": "stderr",
     "output_type": "stream",
     "text": [
      "100%|█████████████████████████████████████████| 655/655 [00:13<00:00, 47.24it/s]\n"
     ]
    },
    {
     "name": "stdout",
     "output_type": "stream",
     "text": [
      "Epoch: 1488, loss: 0.060268046887491954, f1: 0.21290823240872522, precision: 0.1234186983731298, recall: 0.7744622489195744\n",
      "val_loss: 0.06778592020785863, val_f1: 0.20023184106362224, val_precision: 0.11535836019715585, val_recall: 0.7577007799110281\n"
     ]
    },
    {
     "name": "stderr",
     "output_type": "stream",
     "text": [
      "100%|█████████████████████████████████████████| 655/655 [00:13<00:00, 47.30it/s]\n"
     ]
    },
    {
     "name": "stdout",
     "output_type": "stream",
     "text": [
      "Epoch: 1489, loss: 0.0598759178925334, f1: 0.21199764462943135, precision: 0.1229948855332234, recall: 0.767078402194813\n",
      "val_loss: 0.06747739393810886, val_f1: 0.20337473735141254, val_precision: 0.11780576300251921, val_recall: 0.7432103850836054\n"
     ]
    },
    {
     "name": "stderr",
     "output_type": "stream",
     "text": [
      "100%|█████████████████████████████████████████| 655/655 [00:13<00:00, 47.40it/s]\n"
     ]
    },
    {
     "name": "stdout",
     "output_type": "stream",
     "text": [
      "Epoch: 1490, loss: 0.060317071301876815, f1: 0.21255100825145076, precision: 0.1234004569323449, recall: 0.7658091626833868\n",
      "val_loss: 0.06769557720169835, val_f1: 0.20285918081715484, val_precision: 0.11735613779335735, val_recall: 0.7473926834693743\n"
     ]
    },
    {
     "name": "stderr",
     "output_type": "stream",
     "text": [
      "100%|█████████████████████████████████████████| 655/655 [00:13<00:00, 47.39it/s]\n"
     ]
    },
    {
     "name": "stdout",
     "output_type": "stream",
     "text": [
      "Epoch: 1491, loss: 0.0603910134181039, f1: 0.21247304130677916, precision: 0.1234647918520993, recall: 0.76133407457298\n",
      "val_loss: 0.0668789079976738, val_f1: 0.20730496814379112, val_precision: 0.12006175808112966, val_recall: 0.7583942750998593\n"
     ]
    },
    {
     "name": "stderr",
     "output_type": "stream",
     "text": [
      "100%|█████████████████████████████████████████| 655/655 [00:13<00:00, 47.33it/s]\n"
     ]
    },
    {
     "name": "stdout",
     "output_type": "stream",
     "text": [
      "Epoch: 1492, loss: 0.06035232692388178, f1: 0.20840415557534764, precision: 0.12065741585510718, recall: 0.7640531832935246\n",
      "val_loss: 0.06803220506210667, val_f1: 0.20138174931699643, val_precision: 0.11659059309776565, val_recall: 0.7383532507703938\n"
     ]
    },
    {
     "name": "stderr",
     "output_type": "stream",
     "text": [
      "100%|█████████████████████████████████████████| 655/655 [00:13<00:00, 47.38it/s]\n"
     ]
    },
    {
     "name": "stdout",
     "output_type": "stream",
     "text": [
      "Epoch: 1493, loss: 0.060046239990655705, f1: 0.21217720351705127, precision: 0.12277942546749956, recall: 0.7803987268500656\n",
      "val_loss: 0.06768454384878961, val_f1: 0.20477840047720577, val_precision: 0.11887988630776217, val_recall: 0.7381146201231611\n"
     ]
    },
    {
     "name": "stderr",
     "output_type": "stream",
     "text": [
      "100%|█████████████████████████████████████████| 655/655 [00:13<00:00, 47.34it/s]\n"
     ]
    },
    {
     "name": "stdout",
     "output_type": "stream",
     "text": [
      "Epoch: 1494, loss: 0.059864083532499904, f1: 0.21150466720890482, precision: 0.12276859324681395, recall: 0.7629799675167972\n",
      "val_loss: 0.0679515775788678, val_f1: 0.20526342448153373, val_precision: 0.11910161138683079, val_recall: 0.7421783338719552\n"
     ]
    },
    {
     "name": "stderr",
     "output_type": "stream",
     "text": [
      "100%|█████████████████████████████████████████| 655/655 [00:13<00:00, 47.28it/s]\n"
     ]
    },
    {
     "name": "stdout",
     "output_type": "stream",
     "text": [
      "Epoch: 1495, loss: 0.05979161695186191, f1: 0.21328798879221275, precision: 0.1241204586839801, recall: 0.7574015706095076\n",
      "val_loss: 0.0667158275193304, val_f1: 0.20307968561049577, val_precision: 0.11804980355626775, val_recall: 0.7260319195824478\n"
     ]
    },
    {
     "name": "stderr",
     "output_type": "stream",
     "text": [
      "100%|█████████████████████████████████████████| 655/655 [00:13<00:00, 47.34it/s]\n"
     ]
    },
    {
     "name": "stdout",
     "output_type": "stream",
     "text": [
      "Epoch: 1496, loss: 0.06016187966296469, f1: 0.21377492100622977, precision: 0.12423086638441523, recall: 0.7656351880831573\n",
      "val_loss: 0.06888769699875778, val_f1: 0.19688721667970616, val_precision: 0.11335914280402277, val_recall: 0.7481785572450096\n"
     ]
    },
    {
     "name": "stderr",
     "output_type": "stream",
     "text": [
      "100%|█████████████████████████████████████████| 655/655 [00:13<00:00, 47.35it/s]\n"
     ]
    },
    {
     "name": "stdout",
     "output_type": "stream",
     "text": [
      "Epoch: 1497, loss: 0.05990658117643067, f1: 0.21245999767950166, precision: 0.12332070203931675, recall: 0.76651954466605\n",
      "val_loss: 0.06786917813908343, val_f1: 0.20119045763685686, val_precision: 0.11604176017609553, val_recall: 0.7557196594569662\n"
     ]
    },
    {
     "name": "stderr",
     "output_type": "stream",
     "text": [
      "100%|█████████████████████████████████████████| 655/655 [00:13<00:00, 47.36it/s]\n"
     ]
    },
    {
     "name": "stdout",
     "output_type": "stream",
     "text": [
      "Epoch: 1498, loss: 0.059616695374307284, f1: 0.21240253606488096, precision: 0.12332272008914529, recall: 0.7649485106345352\n",
      "val_loss: 0.068895236990594, val_f1: 0.20474918618327853, val_precision: 0.11918489808652448, val_recall: 0.7258348642686091\n"
     ]
    },
    {
     "name": "stderr",
     "output_type": "stream",
     "text": [
      "100%|█████████████████████████████████████████| 655/655 [00:13<00:00, 47.35it/s]\n"
     ]
    },
    {
     "name": "stdout",
     "output_type": "stream",
     "text": [
      "Epoch: 1499, loss: 0.06024311934775524, f1: 0.21339907658849647, precision: 0.12383996889364855, recall: 0.7709063915692212\n",
      "val_loss: 0.06816805624018568, val_f1: 0.20302309550577585, val_precision: 0.11756545358439993, val_recall: 0.7433861442115328\n"
     ]
    },
    {
     "name": "stderr",
     "output_type": "stream",
     "text": [
      "100%|█████████████████████████████████████████| 655/655 [00:13<00:00, 47.33it/s]\n"
     ]
    },
    {
     "name": "stdout",
     "output_type": "stream",
     "text": [
      "Epoch: 1500, loss: 0.06016344536124295, f1: 0.2130374173902152, precision: 0.12360041892148896, recall: 0.7707516895678207\n",
      "val_loss: 0.06796413291365318, val_f1: 0.20497388759265364, val_precision: 0.11900188839661145, val_recall: 0.7384911147416184\n"
     ]
    }
   ],
   "source": [
    "train()\n",
    "torch.save(model, \"./models1/\" + run_name + \"_\" + str(epochs) + \".pt\")"
   ]
  },
  {
   "cell_type": "code",
   "execution_count": null,
   "id": "69773aab",
   "metadata": {},
   "outputs": [],
   "source": [
    "torch.save(model, \"./models1/\" + run_name + \"_\" + str(22) + \".pt\")"
   ]
  },
  {
   "cell_type": "code",
   "execution_count": 87,
   "id": "6e53a2d2",
   "metadata": {},
   "outputs": [
    {
     "data": {
      "text/html": [
       "Waiting for W&B process to finish... <strong style=\"color:green\">(success).</strong>"
      ],
      "text/plain": [
       "<IPython.core.display.HTML object>"
      ]
     },
     "metadata": {},
     "output_type": "display_data"
    },
    {
     "data": {
      "text/html": [
       " View run <strong style=\"color:#cdcd00\">ResGatedConv_8*2_0.0001_Adam_100_0.5</strong> at: <a href='https://wandb.ai/chi-vinny0702/secondary_structure_prediction1/runs/sanfhqhi' target=\"_blank\">https://wandb.ai/chi-vinny0702/secondary_structure_prediction1/runs/sanfhqhi</a><br/>Synced 5 W&B file(s), 0 media file(s), 0 artifact file(s) and 0 other file(s)"
      ],
      "text/plain": [
       "<IPython.core.display.HTML object>"
      ]
     },
     "metadata": {},
     "output_type": "display_data"
    },
    {
     "data": {
      "text/html": [
       "Find logs at: <code>./wandb/run-20230428_144851-sanfhqhi/logs</code>"
      ],
      "text/plain": [
       "<IPython.core.display.HTML object>"
      ]
     },
     "metadata": {},
     "output_type": "display_data"
    }
   ],
   "source": [
    "wandb.finish()"
   ]
  }
 ],
 "metadata": {
  "kernelspec": {
   "display_name": "Python 3 (ipykernel)",
   "language": "python",
   "name": "python3"
  },
  "language_info": {
   "codemirror_mode": {
    "name": "ipython",
    "version": 3
   },
   "file_extension": ".py",
   "mimetype": "text/x-python",
   "name": "python",
   "nbconvert_exporter": "python",
   "pygments_lexer": "ipython3",
   "version": "3.9.12"
  }
 },
 "nbformat": 4,
 "nbformat_minor": 5
}
